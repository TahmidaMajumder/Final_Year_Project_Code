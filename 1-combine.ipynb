{
 "cells": [
  {
   "cell_type": "markdown",
   "id": "12016a55",
   "metadata": {
    "id": "gkLCIjIYqlP_",
    "papermill": {
     "duration": 0.04022,
     "end_time": "2025-01-27T13:49:11.440253",
     "exception": false,
     "start_time": "2025-01-27T13:49:11.400033",
     "status": "completed"
    },
    "tags": []
   },
   "source": [
    "**About the dataset**\n",
    "\n",
    "WAQI project data-set is updated 3 times a day, and covering about 380 major cities in the world.\n",
    "\n",
    "The data for each major cities is based on the average (median) of several stations. The data set provides min, max, median and standard deviation for each of the air pollutant species (PM2.5,PM10, Ozone ...) as well as meteorological data (Wind, Temperature, ...).\n",
    "\n",
    "All air pollutant species are converted to the US EPA standard (i.e. no raw concentrations). All dates are UTC based.\n",
    "\n",
    "The count column is the number of samples used for calculating the median and standard deviation.\n",
    "\n",
    "The city-median value is computed per day using all AQI values for available stations.\n",
    "\n",
    "More Info: https://aqicn.org/data-platform/covid19/"
   ]
  },
  {
   "cell_type": "markdown",
   "id": "978412e9",
   "metadata": {
    "id": "ZAGE3N7_rCRw",
    "papermill": {
     "duration": 0.036207,
     "end_time": "2025-01-27T13:49:11.514636",
     "exception": false,
     "start_time": "2025-01-27T13:49:11.478429",
     "status": "completed"
    },
    "tags": []
   },
   "source": [
    "**WORKING STEPS OF THE WITH DATASET**\n",
    "\n",
    "\n",
    "1.   Group the content of the dataset based on date, country and city(4 dataset separately)\n",
    "\n",
    "*   Each unique specie will become new column\n",
    "*   Values of species if found duplicate max value all be assigned among the values\n",
    "\n",
    "\n",
    "2.   Combine 4 dataframe into one\n",
    "3.   Export the combine dataset\n",
    "\n",
    "***Additional Information***\n",
    "\n",
    "Dataset starting and end date(mm/dd/yyyy) : 01/01/2024 - 09/01/2025\n",
    "\n",
    "\n",
    "Dataset 1 starting and end date(mm/dd/yyyy) : 12/26/2022-4/2/2023\n",
    "\n",
    "Dataset 2 starting and end date(mm/dd/yyyy) : 3/27/2023-7/2/2023\n",
    "\n",
    "Dataset 3 starting and end date(mm/dd/yyyy) : 6/26/2023-10/1/2023\n",
    "\n",
    "Dataset 4 starting and end date(mm/dd/yyyy) : 9/25/2023-12/31/2023\n",
    "\n",
    "\n",
    "2023:\n",
    "\n",
    "Dataset 1 starting and end date(mm/dd/yyyy) : 12/26/2022-4/2/2023\n",
    "\n",
    "Dataset 2 starting and end date(mm/dd/yyyy) : 3/27/2023-7/2/2023\n",
    "\n",
    "Dataset 3 starting and end date(mm/dd/yyyy) : 6/26/2023-10/1/2023\n",
    "\n",
    "9/25/2023-12/31/2023\n",
    "\n",
    "2022:\n",
    "\n",
    "Dataset 2 starting and end date(mm/dd/yyyy) : 3/28/2022-7/3/2022\n",
    "\n",
    "Dataset 3 starting and end date(mm/dd/yyyy) : 6/27/2022-10/2/2022\n",
    "\n",
    "Dataset 4 starting and end date(mm/dd/yyyy) : 9/26/2022-1/1/2023\n",
    "\n",
    "2021:\n",
    "\n",
    "Dataset 1 starting and end date(mm/dd/yyyy) :12/28/2020-4/4/2021\n",
    "\n",
    "Dataset 2 starting and end date(mm/dd/yyyy) : 3/29/2021-7/4/2021\n",
    "\n",
    "Dataset 3 starting and end date(mm/dd/yyyy) : 6/28/2021-10/3/2021\n",
    "\n",
    "9/27/2021-1/2/2022\n",
    "\n",
    "2020:\n",
    "\n",
    "Dataset 1 starting and end date(mm/dd/yyyy) : 12/30/2019-4/5/2020\n",
    "\n",
    "Dataset 2 starting and end date(mm/dd/yyyy) : 3/30/2020-7/5/2020\n",
    "\n",
    "Dataset 3 starting and end date(mm/dd/yyyy) : 6/29/2020-10/4/2020\n",
    "\n",
    "9/28/2020-1/3/2021\n",
    "\n",
    "2019:\n",
    "\n",
    "Dataset 1 starting and end date(mm/dd/yyyy) : 12/31/2018-3/31/2019\n",
    "\n",
    "Dataset 2 starting and end date(mm/dd/yyyy) : 4/1/2019-6/30/2019\n",
    "\n",
    "Dataset 3 starting and end date(mm/dd/yyyy) : 7/1/2019-10/6/2019\n",
    "\n",
    "Dataset 4 starting and end date(mm/dd/yyyy) : 9/30/2019-1/5/2020\n",
    "\n",
    "2018:\n",
    "\n",
    "Dataset starting and end date(mm/dd/yyyy) : 1/1/2018-7/1/2018\n",
    "\n",
    "2017:\n",
    "\n",
    "Dataset starting and end date(mm/dd/yyyy) : 12/26/2016-7/2/2017\n",
    "\n",
    "2016:\n",
    "\n",
    "Dataset starting and end date(mm/dd/yyyy) : 12/28/2015-7/3/2016\n",
    "\n",
    "2015:\n",
    "\n",
    "Dataset starting and end date(mm/dd/yyyy) : 12/29/2014-7/5/2015\n",
    "\n"
   ]
  },
  {
   "cell_type": "code",
   "execution_count": 1,
   "id": "d39c944c",
   "metadata": {
    "execution": {
     "iopub.execute_input": "2025-01-27T13:49:11.591772Z",
     "iopub.status.busy": "2025-01-27T13:49:11.591379Z",
     "iopub.status.idle": "2025-01-27T13:49:12.704458Z",
     "shell.execute_reply": "2025-01-27T13:49:12.703155Z"
    },
    "id": "avxZMh6YjPCn",
    "papermill": {
     "duration": 1.155905,
     "end_time": "2025-01-27T13:49:12.706526",
     "exception": false,
     "start_time": "2025-01-27T13:49:11.550621",
     "status": "completed"
    },
    "tags": []
   },
   "outputs": [],
   "source": [
    "import pandas as pd\n",
    "import numpy as np\n",
    "\n",
    "# remove warnings\n",
    "import warnings\n",
    "\n",
    "# Suppress specific warnings\n",
    "warnings.filterwarnings('ignore', category=RuntimeWarning, module='pandas.io.formats.format')"
   ]
  },
  {
   "cell_type": "markdown",
   "id": "912b7c0e",
   "metadata": {
    "id": "l1bJgJpbVwf5",
    "papermill": {
     "duration": 0.036112,
     "end_time": "2025-01-27T13:49:12.779674",
     "exception": false,
     "start_time": "2025-01-27T13:49:12.743562",
     "status": "completed"
    },
    "tags": []
   },
   "source": [
    "# 2024"
   ]
  },
  {
   "cell_type": "code",
   "execution_count": 2,
   "id": "98b9a2f5",
   "metadata": {
    "execution": {
     "iopub.execute_input": "2025-01-27T13:49:12.853943Z",
     "iopub.status.busy": "2025-01-27T13:49:12.853408Z",
     "iopub.status.idle": "2025-01-27T13:49:13.906221Z",
     "shell.execute_reply": "2025-01-27T13:49:13.905012Z"
    },
    "papermill": {
     "duration": 1.092349,
     "end_time": "2025-01-27T13:49:13.908329",
     "exception": false,
     "start_time": "2025-01-27T13:49:12.815980",
     "status": "completed"
    },
    "tags": []
   },
   "outputs": [
    {
     "name": "stdout",
     "output_type": "stream",
     "text": [
      "(1048571, 5)\n"
     ]
    },
    {
     "data": {
      "text/html": [
       "<div>\n",
       "<style scoped>\n",
       "    .dataframe tbody tr th:only-of-type {\n",
       "        vertical-align: middle;\n",
       "    }\n",
       "\n",
       "    .dataframe tbody tr th {\n",
       "        vertical-align: top;\n",
       "    }\n",
       "\n",
       "    .dataframe thead th {\n",
       "        text-align: right;\n",
       "    }\n",
       "</style>\n",
       "<table border=\"1\" class=\"dataframe\">\n",
       "  <thead>\n",
       "    <tr style=\"text-align: right;\">\n",
       "      <th></th>\n",
       "      <th>Date</th>\n",
       "      <th>Country</th>\n",
       "      <th>City</th>\n",
       "      <th>Specie</th>\n",
       "      <th>median</th>\n",
       "    </tr>\n",
       "  </thead>\n",
       "  <tbody>\n",
       "    <tr>\n",
       "      <th>0</th>\n",
       "      <td>8/4/2024</td>\n",
       "      <td>ET</td>\n",
       "      <td>Addis Ababa</td>\n",
       "      <td>dew</td>\n",
       "      <td>14.0</td>\n",
       "    </tr>\n",
       "    <tr>\n",
       "      <th>1</th>\n",
       "      <td>11/17/2024</td>\n",
       "      <td>ET</td>\n",
       "      <td>Addis Ababa</td>\n",
       "      <td>dew</td>\n",
       "      <td>1.0</td>\n",
       "    </tr>\n",
       "    <tr>\n",
       "      <th>2</th>\n",
       "      <td>1/1/2025</td>\n",
       "      <td>ET</td>\n",
       "      <td>Addis Ababa</td>\n",
       "      <td>dew</td>\n",
       "      <td>6.0</td>\n",
       "    </tr>\n",
       "    <tr>\n",
       "      <th>3</th>\n",
       "      <td>7/8/2024</td>\n",
       "      <td>ET</td>\n",
       "      <td>Addis Ababa</td>\n",
       "      <td>dew</td>\n",
       "      <td>13.0</td>\n",
       "    </tr>\n",
       "    <tr>\n",
       "      <th>4</th>\n",
       "      <td>1/29/2024</td>\n",
       "      <td>ET</td>\n",
       "      <td>Addis Ababa</td>\n",
       "      <td>dew</td>\n",
       "      <td>11.0</td>\n",
       "    </tr>\n",
       "  </tbody>\n",
       "</table>\n",
       "</div>"
      ],
      "text/plain": [
       "         Date Country         City Specie  median\n",
       "0    8/4/2024      ET  Addis Ababa    dew    14.0\n",
       "1  11/17/2024      ET  Addis Ababa    dew     1.0\n",
       "2    1/1/2025      ET  Addis Ababa    dew     6.0\n",
       "3    7/8/2024      ET  Addis Ababa    dew    13.0\n",
       "4   1/29/2024      ET  Addis Ababa    dew    11.0"
      ]
     },
     "execution_count": 2,
     "metadata": {},
     "output_type": "execute_result"
    }
   ],
   "source": [
    "# Load the dataset into a DataFrame\n",
    "raw_data_2024 = pd.read_csv(r'/kaggle/input/complete-raw-median/waqi-covid19-airqualitydata-2025.csv')\n",
    "\n",
    "# print the shape\n",
    "print(raw_data_2024.shape)\n",
    "\n",
    "#runs the first 5 rows\n",
    "raw_data_2024.head()"
   ]
  },
  {
   "cell_type": "code",
   "execution_count": 3,
   "id": "175db37a",
   "metadata": {
    "execution": {
     "iopub.execute_input": "2025-01-27T13:49:13.991652Z",
     "iopub.status.busy": "2025-01-27T13:49:13.991187Z",
     "iopub.status.idle": "2025-01-27T13:49:16.536234Z",
     "shell.execute_reply": "2025-01-27T13:49:16.534566Z"
    },
    "id": "O6AgwvutU_wH",
    "papermill": {
     "duration": 2.589824,
     "end_time": "2025-01-27T13:49:16.538367",
     "exception": false,
     "start_time": "2025-01-27T13:49:13.948543",
     "status": "completed"
    },
    "tags": []
   },
   "outputs": [],
   "source": [
    "# Convert 'Date' to datetime\n",
    "raw_data_2024['Date'] = pd.to_datetime(raw_data_2024['Date'])"
   ]
  },
  {
   "cell_type": "code",
   "execution_count": 4,
   "id": "c4248a46",
   "metadata": {
    "execution": {
     "iopub.execute_input": "2025-01-27T13:49:16.676287Z",
     "iopub.status.busy": "2025-01-27T13:49:16.675878Z",
     "iopub.status.idle": "2025-01-27T13:49:16.681830Z",
     "shell.execute_reply": "2025-01-27T13:49:16.680688Z"
    },
    "executionInfo": {
     "elapsed": 14,
     "status": "ok",
     "timestamp": 1734445417435,
     "user": {
      "displayName": "Tahmida Majumder",
      "userId": "15415648085337204568"
     },
     "user_tz": -480
    },
    "id": "BYUTr5WOU_wH",
    "outputId": "f7341c48-836b-4c19-cd26-b07d7752136b",
    "papermill": {
     "duration": 0.108406,
     "end_time": "2025-01-27T13:49:16.683724",
     "exception": false,
     "start_time": "2025-01-27T13:49:16.575318",
     "status": "completed"
    },
    "tags": []
   },
   "outputs": [
    {
     "data": {
      "text/plain": [
       "(1048571, 5)"
      ]
     },
     "execution_count": 4,
     "metadata": {},
     "output_type": "execute_result"
    }
   ],
   "source": [
    "raw_data_2024.shape"
   ]
  },
  {
   "cell_type": "code",
   "execution_count": 5,
   "id": "f37c88c4",
   "metadata": {
    "execution": {
     "iopub.execute_input": "2025-01-27T13:49:16.761302Z",
     "iopub.status.busy": "2025-01-27T13:49:16.760863Z",
     "iopub.status.idle": "2025-01-27T13:49:17.640175Z",
     "shell.execute_reply": "2025-01-27T13:49:17.638915Z"
    },
    "id": "vDVgKgQFU_wH",
    "papermill": {
     "duration": 0.920964,
     "end_time": "2025-01-27T13:49:17.642364",
     "exception": false,
     "start_time": "2025-01-27T13:49:16.721400",
     "status": "completed"
    },
    "tags": []
   },
   "outputs": [],
   "source": [
    "# Pivot the data\n",
    "data_df_2024 = raw_data_2024.pivot_table(\n",
    "    index=['Date', 'Country', 'City'],  # Grouping columns\n",
    "    columns='Specie',                  # Unique values become columns\n",
    "    values='median',                   # Values to aggregate\n",
    "    aggfunc='mean'                     # Aggregation function\n",
    ").reset_index()"
   ]
  },
  {
   "cell_type": "code",
   "execution_count": 6,
   "id": "8152d4d2",
   "metadata": {
    "execution": {
     "iopub.execute_input": "2025-01-27T13:49:17.719455Z",
     "iopub.status.busy": "2025-01-27T13:49:17.719001Z",
     "iopub.status.idle": "2025-01-27T13:49:17.746112Z",
     "shell.execute_reply": "2025-01-27T13:49:17.744985Z"
    },
    "executionInfo": {
     "elapsed": 8,
     "status": "ok",
     "timestamp": 1734445418344,
     "user": {
      "displayName": "Tahmida Majumder",
      "userId": "15415648085337204568"
     },
     "user_tz": -480
    },
    "id": "eR6ZzK3RU_wH",
    "outputId": "493998b8-a5fc-46bc-b2b2-4230e483fddf",
    "papermill": {
     "duration": 0.067816,
     "end_time": "2025-01-27T13:49:17.747865",
     "exception": false,
     "start_time": "2025-01-27T13:49:17.680049",
     "status": "completed"
    },
    "tags": []
   },
   "outputs": [
    {
     "name": "stdout",
     "output_type": "stream",
     "text": [
      "(105139, 21)\n"
     ]
    },
    {
     "data": {
      "text/html": [
       "<div>\n",
       "<style scoped>\n",
       "    .dataframe tbody tr th:only-of-type {\n",
       "        vertical-align: middle;\n",
       "    }\n",
       "\n",
       "    .dataframe tbody tr th {\n",
       "        vertical-align: top;\n",
       "    }\n",
       "\n",
       "    .dataframe thead th {\n",
       "        text-align: right;\n",
       "    }\n",
       "</style>\n",
       "<table border=\"1\" class=\"dataframe\">\n",
       "  <thead>\n",
       "    <tr style=\"text-align: right;\">\n",
       "      <th>Specie</th>\n",
       "      <th>Date</th>\n",
       "      <th>Country</th>\n",
       "      <th>City</th>\n",
       "      <th>aqi</th>\n",
       "      <th>co</th>\n",
       "      <th>dew</th>\n",
       "      <th>humidity</th>\n",
       "      <th>mepaqi</th>\n",
       "      <th>neph</th>\n",
       "      <th>no2</th>\n",
       "      <th>...</th>\n",
       "      <th>pm10</th>\n",
       "      <th>pm25</th>\n",
       "      <th>precipitation</th>\n",
       "      <th>pressure</th>\n",
       "      <th>so2</th>\n",
       "      <th>temperature</th>\n",
       "      <th>uvi</th>\n",
       "      <th>wd</th>\n",
       "      <th>wind-gust</th>\n",
       "      <th>wind-speed</th>\n",
       "    </tr>\n",
       "  </thead>\n",
       "  <tbody>\n",
       "    <tr>\n",
       "      <th>0</th>\n",
       "      <td>2024-01-01</td>\n",
       "      <td>AE</td>\n",
       "      <td>Abu Dhabi</td>\n",
       "      <td>NaN</td>\n",
       "      <td>0.1</td>\n",
       "      <td>19.0</td>\n",
       "      <td>73.0</td>\n",
       "      <td>NaN</td>\n",
       "      <td>NaN</td>\n",
       "      <td>8.1</td>\n",
       "      <td>...</td>\n",
       "      <td>50.0</td>\n",
       "      <td>53.0</td>\n",
       "      <td>NaN</td>\n",
       "      <td>1017.0</td>\n",
       "      <td>4.2</td>\n",
       "      <td>24.0</td>\n",
       "      <td>NaN</td>\n",
       "      <td>NaN</td>\n",
       "      <td>NaN</td>\n",
       "      <td>3.0</td>\n",
       "    </tr>\n",
       "    <tr>\n",
       "      <th>1</th>\n",
       "      <td>2024-01-01</td>\n",
       "      <td>AE</td>\n",
       "      <td>Dubai</td>\n",
       "      <td>NaN</td>\n",
       "      <td>2.2</td>\n",
       "      <td>18.0</td>\n",
       "      <td>65.0</td>\n",
       "      <td>NaN</td>\n",
       "      <td>NaN</td>\n",
       "      <td>8.1</td>\n",
       "      <td>...</td>\n",
       "      <td>39.0</td>\n",
       "      <td>74.0</td>\n",
       "      <td>NaN</td>\n",
       "      <td>1017.0</td>\n",
       "      <td>3.7</td>\n",
       "      <td>25.0</td>\n",
       "      <td>NaN</td>\n",
       "      <td>NaN</td>\n",
       "      <td>NaN</td>\n",
       "      <td>3.6</td>\n",
       "    </tr>\n",
       "    <tr>\n",
       "      <th>2</th>\n",
       "      <td>2024-01-01</td>\n",
       "      <td>AR</td>\n",
       "      <td>Buenos Aires</td>\n",
       "      <td>NaN</td>\n",
       "      <td>1.9</td>\n",
       "      <td>15.8</td>\n",
       "      <td>63.0</td>\n",
       "      <td>NaN</td>\n",
       "      <td>NaN</td>\n",
       "      <td>4.6</td>\n",
       "      <td>...</td>\n",
       "      <td>14.0</td>\n",
       "      <td>34.0</td>\n",
       "      <td>99.0</td>\n",
       "      <td>1011.5</td>\n",
       "      <td>2.6</td>\n",
       "      <td>24.2</td>\n",
       "      <td>NaN</td>\n",
       "      <td>67.5</td>\n",
       "      <td>9.1</td>\n",
       "      <td>3.3</td>\n",
       "    </tr>\n",
       "    <tr>\n",
       "      <th>3</th>\n",
       "      <td>2024-01-01</td>\n",
       "      <td>AT</td>\n",
       "      <td>Graz</td>\n",
       "      <td>NaN</td>\n",
       "      <td>0.1</td>\n",
       "      <td>2.9</td>\n",
       "      <td>93.0</td>\n",
       "      <td>NaN</td>\n",
       "      <td>NaN</td>\n",
       "      <td>6.0</td>\n",
       "      <td>...</td>\n",
       "      <td>9.0</td>\n",
       "      <td>25.0</td>\n",
       "      <td>1.2</td>\n",
       "      <td>1011.3</td>\n",
       "      <td>1.1</td>\n",
       "      <td>3.5</td>\n",
       "      <td>NaN</td>\n",
       "      <td>NaN</td>\n",
       "      <td>2.8</td>\n",
       "      <td>1.0</td>\n",
       "    </tr>\n",
       "    <tr>\n",
       "      <th>4</th>\n",
       "      <td>2024-01-01</td>\n",
       "      <td>AT</td>\n",
       "      <td>Innsbruck</td>\n",
       "      <td>NaN</td>\n",
       "      <td>0.1</td>\n",
       "      <td>1.8</td>\n",
       "      <td>92.1</td>\n",
       "      <td>NaN</td>\n",
       "      <td>NaN</td>\n",
       "      <td>11.9</td>\n",
       "      <td>...</td>\n",
       "      <td>16.0</td>\n",
       "      <td>NaN</td>\n",
       "      <td>0.4</td>\n",
       "      <td>1006.2</td>\n",
       "      <td>0.6</td>\n",
       "      <td>1.1</td>\n",
       "      <td>NaN</td>\n",
       "      <td>NaN</td>\n",
       "      <td>5.8</td>\n",
       "      <td>2.1</td>\n",
       "    </tr>\n",
       "  </tbody>\n",
       "</table>\n",
       "<p>5 rows × 21 columns</p>\n",
       "</div>"
      ],
      "text/plain": [
       "Specie       Date Country          City  aqi   co   dew  humidity  mepaqi  \\\n",
       "0      2024-01-01      AE     Abu Dhabi  NaN  0.1  19.0      73.0     NaN   \n",
       "1      2024-01-01      AE         Dubai  NaN  2.2  18.0      65.0     NaN   \n",
       "2      2024-01-01      AR  Buenos Aires  NaN  1.9  15.8      63.0     NaN   \n",
       "3      2024-01-01      AT          Graz  NaN  0.1   2.9      93.0     NaN   \n",
       "4      2024-01-01      AT     Innsbruck  NaN  0.1   1.8      92.1     NaN   \n",
       "\n",
       "Specie  neph   no2  ...  pm10  pm25  precipitation  pressure  so2  \\\n",
       "0        NaN   8.1  ...  50.0  53.0            NaN    1017.0  4.2   \n",
       "1        NaN   8.1  ...  39.0  74.0            NaN    1017.0  3.7   \n",
       "2        NaN   4.6  ...  14.0  34.0           99.0    1011.5  2.6   \n",
       "3        NaN   6.0  ...   9.0  25.0            1.2    1011.3  1.1   \n",
       "4        NaN  11.9  ...  16.0   NaN            0.4    1006.2  0.6   \n",
       "\n",
       "Specie  temperature  uvi    wd  wind-gust  wind-speed  \n",
       "0              24.0  NaN   NaN        NaN         3.0  \n",
       "1              25.0  NaN   NaN        NaN         3.6  \n",
       "2              24.2  NaN  67.5        9.1         3.3  \n",
       "3               3.5  NaN   NaN        2.8         1.0  \n",
       "4               1.1  NaN   NaN        5.8         2.1  \n",
       "\n",
       "[5 rows x 21 columns]"
      ]
     },
     "execution_count": 6,
     "metadata": {},
     "output_type": "execute_result"
    }
   ],
   "source": [
    "print(data_df_2024.shape)\n",
    "data_df_2024.head()"
   ]
  },
  {
   "cell_type": "code",
   "execution_count": 7,
   "id": "03c0ab99",
   "metadata": {
    "execution": {
     "iopub.execute_input": "2025-01-27T13:49:17.825184Z",
     "iopub.status.busy": "2025-01-27T13:49:17.824828Z",
     "iopub.status.idle": "2025-01-27T13:49:17.851519Z",
     "shell.execute_reply": "2025-01-27T13:49:17.850141Z"
    },
    "executionInfo": {
     "elapsed": 7,
     "status": "ok",
     "timestamp": 1734445418344,
     "user": {
      "displayName": "Tahmida Majumder",
      "userId": "15415648085337204568"
     },
     "user_tz": -480
    },
    "id": "KZi3vcfqU_wH",
    "outputId": "6c69afaa-9d12-40da-b88a-92ed834ee111",
    "papermill": {
     "duration": 0.06702,
     "end_time": "2025-01-27T13:49:17.853483",
     "exception": false,
     "start_time": "2025-01-27T13:49:17.786463",
     "status": "completed"
    },
    "tags": []
   },
   "outputs": [
    {
     "data": {
      "text/plain": [
       "Specie\n",
       "Date                  0\n",
       "Country               0\n",
       "City                  0\n",
       "aqi              100279\n",
       "co                41010\n",
       "dew               19393\n",
       "humidity           1879\n",
       "mepaqi           104901\n",
       "neph             104390\n",
       "no2               19293\n",
       "o3                34967\n",
       "pm10              19230\n",
       "pm25              13083\n",
       "precipitation     91681\n",
       "pressure           1887\n",
       "so2               32639\n",
       "temperature        1606\n",
       "uvi              101739\n",
       "wd                98975\n",
       "wind-gust         54471\n",
       "wind-speed         2508\n",
       "dtype: int64"
      ]
     },
     "execution_count": 7,
     "metadata": {},
     "output_type": "execute_result"
    }
   ],
   "source": [
    "data_df_2024.isnull().sum()"
   ]
  },
  {
   "cell_type": "markdown",
   "id": "60db7990",
   "metadata": {
    "id": "TK5W8oRPV2sQ",
    "papermill": {
     "duration": 0.038024,
     "end_time": "2025-01-27T13:49:17.929242",
     "exception": false,
     "start_time": "2025-01-27T13:49:17.891218",
     "status": "completed"
    },
    "tags": []
   },
   "source": [
    "# 2023_Q1"
   ]
  },
  {
   "cell_type": "code",
   "execution_count": 8,
   "id": "4d4bdb0d",
   "metadata": {
    "execution": {
     "iopub.execute_input": "2025-01-27T13:49:18.010925Z",
     "iopub.status.busy": "2025-01-27T13:49:18.010514Z",
     "iopub.status.idle": "2025-01-27T13:49:18.519780Z",
     "shell.execute_reply": "2025-01-27T13:49:18.518706Z"
    },
    "executionInfo": {
     "elapsed": 1444,
     "status": "ok",
     "timestamp": 1734445419782,
     "user": {
      "displayName": "Tahmida Majumder",
      "userId": "15415648085337204568"
     },
     "user_tz": -480
    },
    "id": "lJK9ahVCjTGd",
    "outputId": "38a9d229-7253-4f6e-ccaa-14e12d6cdfbd",
    "papermill": {
     "duration": 0.551286,
     "end_time": "2025-01-27T13:49:18.521488",
     "exception": false,
     "start_time": "2025-01-27T13:49:17.970202",
     "status": "completed"
    },
    "tags": []
   },
   "outputs": [
    {
     "name": "stdout",
     "output_type": "stream",
     "text": [
      "(553335, 5)\n"
     ]
    },
    {
     "data": {
      "text/html": [
       "<div>\n",
       "<style scoped>\n",
       "    .dataframe tbody tr th:only-of-type {\n",
       "        vertical-align: middle;\n",
       "    }\n",
       "\n",
       "    .dataframe tbody tr th {\n",
       "        vertical-align: top;\n",
       "    }\n",
       "\n",
       "    .dataframe thead th {\n",
       "        text-align: right;\n",
       "    }\n",
       "</style>\n",
       "<table border=\"1\" class=\"dataframe\">\n",
       "  <thead>\n",
       "    <tr style=\"text-align: right;\">\n",
       "      <th></th>\n",
       "      <th>Date</th>\n",
       "      <th>Country</th>\n",
       "      <th>City</th>\n",
       "      <th>Specie</th>\n",
       "      <th>median</th>\n",
       "    </tr>\n",
       "  </thead>\n",
       "  <tbody>\n",
       "    <tr>\n",
       "      <th>0</th>\n",
       "      <td>4/1/2023</td>\n",
       "      <td>BH</td>\n",
       "      <td>Manama</td>\n",
       "      <td>pressure</td>\n",
       "      <td>1014.3</td>\n",
       "    </tr>\n",
       "    <tr>\n",
       "      <th>1</th>\n",
       "      <td>4/2/2023</td>\n",
       "      <td>BH</td>\n",
       "      <td>Manama</td>\n",
       "      <td>pressure</td>\n",
       "      <td>1015.7</td>\n",
       "    </tr>\n",
       "    <tr>\n",
       "      <th>2</th>\n",
       "      <td>3/27/2023</td>\n",
       "      <td>BH</td>\n",
       "      <td>Manama</td>\n",
       "      <td>pressure</td>\n",
       "      <td>1011.7</td>\n",
       "    </tr>\n",
       "    <tr>\n",
       "      <th>3</th>\n",
       "      <td>3/28/2023</td>\n",
       "      <td>BH</td>\n",
       "      <td>Manama</td>\n",
       "      <td>pressure</td>\n",
       "      <td>1013.5</td>\n",
       "    </tr>\n",
       "    <tr>\n",
       "      <th>4</th>\n",
       "      <td>3/29/2023</td>\n",
       "      <td>BH</td>\n",
       "      <td>Manama</td>\n",
       "      <td>pressure</td>\n",
       "      <td>1014.4</td>\n",
       "    </tr>\n",
       "    <tr>\n",
       "      <th>5</th>\n",
       "      <td>3/30/2023</td>\n",
       "      <td>BH</td>\n",
       "      <td>Manama</td>\n",
       "      <td>pressure</td>\n",
       "      <td>1013.0</td>\n",
       "    </tr>\n",
       "    <tr>\n",
       "      <th>6</th>\n",
       "      <td>3/31/2023</td>\n",
       "      <td>BH</td>\n",
       "      <td>Manama</td>\n",
       "      <td>pressure</td>\n",
       "      <td>1009.1</td>\n",
       "    </tr>\n",
       "    <tr>\n",
       "      <th>7</th>\n",
       "      <td>4/2/2023</td>\n",
       "      <td>BH</td>\n",
       "      <td>Manama</td>\n",
       "      <td>pm25</td>\n",
       "      <td>25.0</td>\n",
       "    </tr>\n",
       "    <tr>\n",
       "      <th>8</th>\n",
       "      <td>3/27/2023</td>\n",
       "      <td>BH</td>\n",
       "      <td>Manama</td>\n",
       "      <td>temperature</td>\n",
       "      <td>24.6</td>\n",
       "    </tr>\n",
       "    <tr>\n",
       "      <th>9</th>\n",
       "      <td>3/28/2023</td>\n",
       "      <td>BH</td>\n",
       "      <td>Manama</td>\n",
       "      <td>temperature</td>\n",
       "      <td>23.8</td>\n",
       "    </tr>\n",
       "  </tbody>\n",
       "</table>\n",
       "</div>"
      ],
      "text/plain": [
       "        Date Country    City       Specie  median\n",
       "0   4/1/2023      BH  Manama     pressure  1014.3\n",
       "1   4/2/2023      BH  Manama     pressure  1015.7\n",
       "2  3/27/2023      BH  Manama     pressure  1011.7\n",
       "3  3/28/2023      BH  Manama     pressure  1013.5\n",
       "4  3/29/2023      BH  Manama     pressure  1014.4\n",
       "5  3/30/2023      BH  Manama     pressure  1013.0\n",
       "6  3/31/2023      BH  Manama     pressure  1009.1\n",
       "7   4/2/2023      BH  Manama         pm25    25.0\n",
       "8  3/27/2023      BH  Manama  temperature    24.6\n",
       "9  3/28/2023      BH  Manama  temperature    23.8"
      ]
     },
     "execution_count": 8,
     "metadata": {},
     "output_type": "execute_result"
    }
   ],
   "source": [
    "# Loading the data\n",
    "raw_data_2023_Q1 = pd.read_csv(r\"/kaggle/input/complete-raw-median/waqi-covid19-airqualitydata-2023Q1.csv\")\n",
    "\n",
    "# print the shape\n",
    "print(raw_data_2023_Q1.shape)\n",
    "\n",
    "#runs the first 5 rows\n",
    "raw_data_2023_Q1.head(10)"
   ]
  },
  {
   "cell_type": "code",
   "execution_count": 9,
   "id": "ef611248",
   "metadata": {
    "execution": {
     "iopub.execute_input": "2025-01-27T13:49:18.602173Z",
     "iopub.status.busy": "2025-01-27T13:49:18.601813Z",
     "iopub.status.idle": "2025-01-27T13:49:18.683049Z",
     "shell.execute_reply": "2025-01-27T13:49:18.681808Z"
    },
    "id": "FQuE6s68jrTe",
    "papermill": {
     "duration": 0.124408,
     "end_time": "2025-01-27T13:49:18.685064",
     "exception": false,
     "start_time": "2025-01-27T13:49:18.560656",
     "status": "completed"
    },
    "tags": []
   },
   "outputs": [],
   "source": [
    "# Convert 'Date' to datetime\n",
    "raw_data_2023_Q1['Date'] = pd.to_datetime(raw_data_2023_Q1['Date'])"
   ]
  },
  {
   "cell_type": "code",
   "execution_count": 10,
   "id": "624aa9cd",
   "metadata": {
    "execution": {
     "iopub.execute_input": "2025-01-27T13:49:18.761908Z",
     "iopub.status.busy": "2025-01-27T13:49:18.761477Z",
     "iopub.status.idle": "2025-01-27T13:49:18.767765Z",
     "shell.execute_reply": "2025-01-27T13:49:18.766725Z"
    },
    "executionInfo": {
     "elapsed": 9,
     "status": "ok",
     "timestamp": 1734445419782,
     "user": {
      "displayName": "Tahmida Majumder",
      "userId": "15415648085337204568"
     },
     "user_tz": -480
    },
    "id": "f8VkcrBkjy40",
    "outputId": "b8e6eee3-71f3-4705-d29f-b197dd8af8a3",
    "papermill": {
     "duration": 0.047182,
     "end_time": "2025-01-27T13:49:18.769786",
     "exception": false,
     "start_time": "2025-01-27T13:49:18.722604",
     "status": "completed"
    },
    "tags": []
   },
   "outputs": [
    {
     "data": {
      "text/plain": [
       "(553335, 5)"
      ]
     },
     "execution_count": 10,
     "metadata": {},
     "output_type": "execute_result"
    }
   ],
   "source": [
    "raw_data_2023_Q1.shape"
   ]
  },
  {
   "cell_type": "code",
   "execution_count": 11,
   "id": "70396dad",
   "metadata": {
    "execution": {
     "iopub.execute_input": "2025-01-27T13:49:18.847686Z",
     "iopub.status.busy": "2025-01-27T13:49:18.847337Z",
     "iopub.status.idle": "2025-01-27T13:49:19.249748Z",
     "shell.execute_reply": "2025-01-27T13:49:19.248759Z"
    },
    "id": "FZcov_NSj1vM",
    "papermill": {
     "duration": 0.442985,
     "end_time": "2025-01-27T13:49:19.251690",
     "exception": false,
     "start_time": "2025-01-27T13:49:18.808705",
     "status": "completed"
    },
    "tags": []
   },
   "outputs": [],
   "source": [
    "# Pivot the data\n",
    "data_df_2023_Q1 = raw_data_2023_Q1.pivot_table(\n",
    "    index=['Date', 'Country', 'City'],  # Grouping columns\n",
    "    columns='Specie',                  # Unique values become columns\n",
    "    values='median',                   # Values to aggregate\n",
    "    aggfunc='mean'                     # Aggregation function\n",
    ").reset_index()"
   ]
  },
  {
   "cell_type": "code",
   "execution_count": 12,
   "id": "a6c3f1d1",
   "metadata": {
    "cellView": "form",
    "execution": {
     "iopub.execute_input": "2025-01-27T13:49:19.327201Z",
     "iopub.status.busy": "2025-01-27T13:49:19.326848Z",
     "iopub.status.idle": "2025-01-27T13:49:19.351991Z",
     "shell.execute_reply": "2025-01-27T13:49:19.350736Z"
    },
    "executionInfo": {
     "elapsed": 11,
     "status": "ok",
     "timestamp": 1734445420200,
     "user": {
      "displayName": "Tahmida Majumder",
      "userId": "15415648085337204568"
     },
     "user_tz": -480
    },
    "id": "MIFdzoOGkBDe",
    "outputId": "fb1ae07d-9969-438b-97ad-4aaa91dde2c3",
    "papermill": {
     "duration": 0.065084,
     "end_time": "2025-01-27T13:49:19.353811",
     "exception": false,
     "start_time": "2025-01-27T13:49:19.288727",
     "status": "completed"
    },
    "tags": []
   },
   "outputs": [
    {
     "name": "stdout",
     "output_type": "stream",
     "text": [
      "(54535, 22)\n"
     ]
    },
    {
     "data": {
      "text/html": [
       "<div>\n",
       "<style scoped>\n",
       "    .dataframe tbody tr th:only-of-type {\n",
       "        vertical-align: middle;\n",
       "    }\n",
       "\n",
       "    .dataframe tbody tr th {\n",
       "        vertical-align: top;\n",
       "    }\n",
       "\n",
       "    .dataframe thead th {\n",
       "        text-align: right;\n",
       "    }\n",
       "</style>\n",
       "<table border=\"1\" class=\"dataframe\">\n",
       "  <thead>\n",
       "    <tr style=\"text-align: right;\">\n",
       "      <th>Specie</th>\n",
       "      <th>Date</th>\n",
       "      <th>Country</th>\n",
       "      <th>City</th>\n",
       "      <th>aqi</th>\n",
       "      <th>co</th>\n",
       "      <th>dew</th>\n",
       "      <th>humidity</th>\n",
       "      <th>mepaqi</th>\n",
       "      <th>neph</th>\n",
       "      <th>no2</th>\n",
       "      <th>...</th>\n",
       "      <th>pm10</th>\n",
       "      <th>pm25</th>\n",
       "      <th>precipitation</th>\n",
       "      <th>pressure</th>\n",
       "      <th>so2</th>\n",
       "      <th>temperature</th>\n",
       "      <th>uvi</th>\n",
       "      <th>wd</th>\n",
       "      <th>wind-gust</th>\n",
       "      <th>wind-speed</th>\n",
       "    </tr>\n",
       "  </thead>\n",
       "  <tbody>\n",
       "    <tr>\n",
       "      <th>0</th>\n",
       "      <td>2022-12-26</td>\n",
       "      <td>AE</td>\n",
       "      <td>Abu Dhabi</td>\n",
       "      <td>NaN</td>\n",
       "      <td>0.1</td>\n",
       "      <td>16.0</td>\n",
       "      <td>72.0</td>\n",
       "      <td>NaN</td>\n",
       "      <td>NaN</td>\n",
       "      <td>9.0</td>\n",
       "      <td>...</td>\n",
       "      <td>36.0</td>\n",
       "      <td>65.0</td>\n",
       "      <td>NaN</td>\n",
       "      <td>1016.0</td>\n",
       "      <td>5.4</td>\n",
       "      <td>21.0</td>\n",
       "      <td>NaN</td>\n",
       "      <td>NaN</td>\n",
       "      <td>1.5</td>\n",
       "      <td>2.0</td>\n",
       "    </tr>\n",
       "    <tr>\n",
       "      <th>1</th>\n",
       "      <td>2022-12-26</td>\n",
       "      <td>AE</td>\n",
       "      <td>Dubai</td>\n",
       "      <td>NaN</td>\n",
       "      <td>NaN</td>\n",
       "      <td>15.0</td>\n",
       "      <td>68.0</td>\n",
       "      <td>NaN</td>\n",
       "      <td>NaN</td>\n",
       "      <td>NaN</td>\n",
       "      <td>...</td>\n",
       "      <td>NaN</td>\n",
       "      <td>87.0</td>\n",
       "      <td>NaN</td>\n",
       "      <td>1016.0</td>\n",
       "      <td>NaN</td>\n",
       "      <td>21.0</td>\n",
       "      <td>NaN</td>\n",
       "      <td>NaN</td>\n",
       "      <td>NaN</td>\n",
       "      <td>3.0</td>\n",
       "    </tr>\n",
       "    <tr>\n",
       "      <th>2</th>\n",
       "      <td>2022-12-26</td>\n",
       "      <td>AR</td>\n",
       "      <td>Buenos Aires</td>\n",
       "      <td>NaN</td>\n",
       "      <td>1.7</td>\n",
       "      <td>10.5</td>\n",
       "      <td>58.0</td>\n",
       "      <td>NaN</td>\n",
       "      <td>NaN</td>\n",
       "      <td>7.4</td>\n",
       "      <td>...</td>\n",
       "      <td>34.0</td>\n",
       "      <td>NaN</td>\n",
       "      <td>NaN</td>\n",
       "      <td>1013.7</td>\n",
       "      <td>3.6</td>\n",
       "      <td>23.5</td>\n",
       "      <td>NaN</td>\n",
       "      <td>67.5</td>\n",
       "      <td>2.5</td>\n",
       "      <td>1.0</td>\n",
       "    </tr>\n",
       "    <tr>\n",
       "      <th>3</th>\n",
       "      <td>2022-12-26</td>\n",
       "      <td>AT</td>\n",
       "      <td>Graz</td>\n",
       "      <td>NaN</td>\n",
       "      <td>0.1</td>\n",
       "      <td>0.6</td>\n",
       "      <td>75.5</td>\n",
       "      <td>NaN</td>\n",
       "      <td>NaN</td>\n",
       "      <td>9.6</td>\n",
       "      <td>...</td>\n",
       "      <td>17.0</td>\n",
       "      <td>63.0</td>\n",
       "      <td>NaN</td>\n",
       "      <td>975.1</td>\n",
       "      <td>1.6</td>\n",
       "      <td>3.1</td>\n",
       "      <td>NaN</td>\n",
       "      <td>NaN</td>\n",
       "      <td>NaN</td>\n",
       "      <td>1.0</td>\n",
       "    </tr>\n",
       "    <tr>\n",
       "      <th>4</th>\n",
       "      <td>2022-12-26</td>\n",
       "      <td>AT</td>\n",
       "      <td>Innsbruck</td>\n",
       "      <td>NaN</td>\n",
       "      <td>0.1</td>\n",
       "      <td>1.2</td>\n",
       "      <td>92.5</td>\n",
       "      <td>NaN</td>\n",
       "      <td>NaN</td>\n",
       "      <td>9.2</td>\n",
       "      <td>...</td>\n",
       "      <td>8.0</td>\n",
       "      <td>NaN</td>\n",
       "      <td>NaN</td>\n",
       "      <td>954.1</td>\n",
       "      <td>0.6</td>\n",
       "      <td>2.7</td>\n",
       "      <td>NaN</td>\n",
       "      <td>NaN</td>\n",
       "      <td>7.2</td>\n",
       "      <td>2.0</td>\n",
       "    </tr>\n",
       "  </tbody>\n",
       "</table>\n",
       "<p>5 rows × 22 columns</p>\n",
       "</div>"
      ],
      "text/plain": [
       "Specie       Date Country          City  aqi   co   dew  humidity  mepaqi  \\\n",
       "0      2022-12-26      AE     Abu Dhabi  NaN  0.1  16.0      72.0     NaN   \n",
       "1      2022-12-26      AE         Dubai  NaN  NaN  15.0      68.0     NaN   \n",
       "2      2022-12-26      AR  Buenos Aires  NaN  1.7  10.5      58.0     NaN   \n",
       "3      2022-12-26      AT          Graz  NaN  0.1   0.6      75.5     NaN   \n",
       "4      2022-12-26      AT     Innsbruck  NaN  0.1   1.2      92.5     NaN   \n",
       "\n",
       "Specie  neph  no2  ...  pm10  pm25  precipitation  pressure  so2  temperature  \\\n",
       "0        NaN  9.0  ...  36.0  65.0            NaN    1016.0  5.4         21.0   \n",
       "1        NaN  NaN  ...   NaN  87.0            NaN    1016.0  NaN         21.0   \n",
       "2        NaN  7.4  ...  34.0   NaN            NaN    1013.7  3.6         23.5   \n",
       "3        NaN  9.6  ...  17.0  63.0            NaN     975.1  1.6          3.1   \n",
       "4        NaN  9.2  ...   8.0   NaN            NaN     954.1  0.6          2.7   \n",
       "\n",
       "Specie  uvi    wd  wind-gust  wind-speed  \n",
       "0       NaN   NaN        1.5         2.0  \n",
       "1       NaN   NaN        NaN         3.0  \n",
       "2       NaN  67.5        2.5         1.0  \n",
       "3       NaN   NaN        NaN         1.0  \n",
       "4       NaN   NaN        7.2         2.0  \n",
       "\n",
       "[5 rows x 22 columns]"
      ]
     },
     "execution_count": 12,
     "metadata": {},
     "output_type": "execute_result"
    }
   ],
   "source": [
    "print(data_df_2023_Q1.shape)\n",
    "data_df_2023_Q1.head()"
   ]
  },
  {
   "cell_type": "code",
   "execution_count": 13,
   "id": "3621bce3",
   "metadata": {
    "execution": {
     "iopub.execute_input": "2025-01-27T13:49:19.430170Z",
     "iopub.status.busy": "2025-01-27T13:49:19.429773Z",
     "iopub.status.idle": "2025-01-27T13:49:19.448486Z",
     "shell.execute_reply": "2025-01-27T13:49:19.447134Z"
    },
    "executionInfo": {
     "elapsed": 7,
     "status": "ok",
     "timestamp": 1734445420200,
     "user": {
      "displayName": "Tahmida Majumder",
      "userId": "15415648085337204568"
     },
     "user_tz": -480
    },
    "id": "STIfeqmakbsN",
    "outputId": "b5b5eec3-5a38-42e3-d176-9fd400390c6a",
    "papermill": {
     "duration": 0.05918,
     "end_time": "2025-01-27T13:49:19.450582",
     "exception": false,
     "start_time": "2025-01-27T13:49:19.391402",
     "status": "completed"
    },
    "tags": []
   },
   "outputs": [
    {
     "data": {
      "text/plain": [
       "Specie\n",
       "Date                 0\n",
       "Country              0\n",
       "City                 0\n",
       "aqi              53716\n",
       "co               20563\n",
       "dew              10232\n",
       "humidity           192\n",
       "mepaqi           54437\n",
       "neph             54339\n",
       "no2               9381\n",
       "o3               12986\n",
       "pm1              54255\n",
       "pm10              9970\n",
       "pm25              6880\n",
       "precipitation    48004\n",
       "pressure           324\n",
       "so2              16332\n",
       "temperature        106\n",
       "uvi              53557\n",
       "wd               50771\n",
       "wind-gust        25751\n",
       "wind-speed        1034\n",
       "dtype: int64"
      ]
     },
     "execution_count": 13,
     "metadata": {},
     "output_type": "execute_result"
    }
   ],
   "source": [
    "data_df_2023_Q1.isnull().sum()"
   ]
  },
  {
   "cell_type": "code",
   "execution_count": null,
   "id": "004de8df",
   "metadata": {
    "id": "eGWahjkooqpz",
    "papermill": {
     "duration": 0.037471,
     "end_time": "2025-01-27T13:49:19.527650",
     "exception": false,
     "start_time": "2025-01-27T13:49:19.490179",
     "status": "completed"
    },
    "tags": []
   },
   "outputs": [],
   "source": []
  },
  {
   "cell_type": "markdown",
   "id": "8641f36d",
   "metadata": {
    "id": "enZ5-ZNNWCau",
    "papermill": {
     "duration": 0.039869,
     "end_time": "2025-01-27T13:49:19.605694",
     "exception": false,
     "start_time": "2025-01-27T13:49:19.565825",
     "status": "completed"
    },
    "tags": []
   },
   "source": [
    "# 2023_Q2"
   ]
  },
  {
   "cell_type": "code",
   "execution_count": 14,
   "id": "432a857c",
   "metadata": {
    "execution": {
     "iopub.execute_input": "2025-01-27T13:49:19.683316Z",
     "iopub.status.busy": "2025-01-27T13:49:19.682920Z",
     "iopub.status.idle": "2025-01-27T13:49:20.171132Z",
     "shell.execute_reply": "2025-01-27T13:49:20.169724Z"
    },
    "executionInfo": {
     "elapsed": 426,
     "status": "ok",
     "timestamp": 1734445420620,
     "user": {
      "displayName": "Tahmida Majumder",
      "userId": "15415648085337204568"
     },
     "user_tz": -480
    },
    "id": "5vEBWIVToq_X",
    "outputId": "dff81ce9-0c01-4222-d909-7b4731ba9f42",
    "papermill": {
     "duration": 0.530207,
     "end_time": "2025-01-27T13:49:20.173340",
     "exception": false,
     "start_time": "2025-01-27T13:49:19.643133",
     "status": "completed"
    },
    "tags": []
   },
   "outputs": [
    {
     "name": "stdout",
     "output_type": "stream",
     "text": [
      "(564703, 5)\n"
     ]
    },
    {
     "data": {
      "text/html": [
       "<div>\n",
       "<style scoped>\n",
       "    .dataframe tbody tr th:only-of-type {\n",
       "        vertical-align: middle;\n",
       "    }\n",
       "\n",
       "    .dataframe tbody tr th {\n",
       "        vertical-align: top;\n",
       "    }\n",
       "\n",
       "    .dataframe thead th {\n",
       "        text-align: right;\n",
       "    }\n",
       "</style>\n",
       "<table border=\"1\" class=\"dataframe\">\n",
       "  <thead>\n",
       "    <tr style=\"text-align: right;\">\n",
       "      <th></th>\n",
       "      <th>Date</th>\n",
       "      <th>Country</th>\n",
       "      <th>City</th>\n",
       "      <th>Specie</th>\n",
       "      <th>median</th>\n",
       "    </tr>\n",
       "  </thead>\n",
       "  <tbody>\n",
       "    <tr>\n",
       "      <th>0</th>\n",
       "      <td>4/4/2023</td>\n",
       "      <td>DZ</td>\n",
       "      <td>Algiers</td>\n",
       "      <td>pressure</td>\n",
       "      <td>1014.0</td>\n",
       "    </tr>\n",
       "    <tr>\n",
       "      <th>1</th>\n",
       "      <td>4/25/2023</td>\n",
       "      <td>DZ</td>\n",
       "      <td>Algiers</td>\n",
       "      <td>pressure</td>\n",
       "      <td>1016.0</td>\n",
       "    </tr>\n",
       "    <tr>\n",
       "      <th>2</th>\n",
       "      <td>5/25/2023</td>\n",
       "      <td>DZ</td>\n",
       "      <td>Algiers</td>\n",
       "      <td>pressure</td>\n",
       "      <td>1015.5</td>\n",
       "    </tr>\n",
       "    <tr>\n",
       "      <th>3</th>\n",
       "      <td>3/27/2023</td>\n",
       "      <td>DZ</td>\n",
       "      <td>Algiers</td>\n",
       "      <td>pressure</td>\n",
       "      <td>1021.0</td>\n",
       "    </tr>\n",
       "    <tr>\n",
       "      <th>4</th>\n",
       "      <td>3/31/2023</td>\n",
       "      <td>DZ</td>\n",
       "      <td>Algiers</td>\n",
       "      <td>pressure</td>\n",
       "      <td>1020.0</td>\n",
       "    </tr>\n",
       "    <tr>\n",
       "      <th>5</th>\n",
       "      <td>4/14/2023</td>\n",
       "      <td>DZ</td>\n",
       "      <td>Algiers</td>\n",
       "      <td>pressure</td>\n",
       "      <td>1017.0</td>\n",
       "    </tr>\n",
       "    <tr>\n",
       "      <th>6</th>\n",
       "      <td>4/30/2023</td>\n",
       "      <td>DZ</td>\n",
       "      <td>Algiers</td>\n",
       "      <td>pressure</td>\n",
       "      <td>1016.0</td>\n",
       "    </tr>\n",
       "    <tr>\n",
       "      <th>7</th>\n",
       "      <td>5/18/2023</td>\n",
       "      <td>DZ</td>\n",
       "      <td>Algiers</td>\n",
       "      <td>pressure</td>\n",
       "      <td>1015.0</td>\n",
       "    </tr>\n",
       "    <tr>\n",
       "      <th>8</th>\n",
       "      <td>6/11/2023</td>\n",
       "      <td>DZ</td>\n",
       "      <td>Algiers</td>\n",
       "      <td>pressure</td>\n",
       "      <td>1014.0</td>\n",
       "    </tr>\n",
       "    <tr>\n",
       "      <th>9</th>\n",
       "      <td>6/24/2023</td>\n",
       "      <td>DZ</td>\n",
       "      <td>Algiers</td>\n",
       "      <td>pressure</td>\n",
       "      <td>1018.0</td>\n",
       "    </tr>\n",
       "  </tbody>\n",
       "</table>\n",
       "</div>"
      ],
      "text/plain": [
       "        Date Country     City    Specie  median\n",
       "0   4/4/2023      DZ  Algiers  pressure  1014.0\n",
       "1  4/25/2023      DZ  Algiers  pressure  1016.0\n",
       "2  5/25/2023      DZ  Algiers  pressure  1015.5\n",
       "3  3/27/2023      DZ  Algiers  pressure  1021.0\n",
       "4  3/31/2023      DZ  Algiers  pressure  1020.0\n",
       "5  4/14/2023      DZ  Algiers  pressure  1017.0\n",
       "6  4/30/2023      DZ  Algiers  pressure  1016.0\n",
       "7  5/18/2023      DZ  Algiers  pressure  1015.0\n",
       "8  6/11/2023      DZ  Algiers  pressure  1014.0\n",
       "9  6/24/2023      DZ  Algiers  pressure  1018.0"
      ]
     },
     "execution_count": 14,
     "metadata": {},
     "output_type": "execute_result"
    }
   ],
   "source": [
    "# Loading the data\n",
    "raw_data_2023_Q2 = pd.read_csv(r\"/kaggle/input/complete-raw-median/waqi-covid19-airqualitydata-2023Q2.csv\")\n",
    "\n",
    "# print the shape\n",
    "print(raw_data_2023_Q2.shape)\n",
    "\n",
    "#runs the first 5 rows\n",
    "raw_data_2023_Q2.head(10)"
   ]
  },
  {
   "cell_type": "code",
   "execution_count": 15,
   "id": "3e1d89c0",
   "metadata": {
    "execution": {
     "iopub.execute_input": "2025-01-27T13:49:20.258039Z",
     "iopub.status.busy": "2025-01-27T13:49:20.257686Z",
     "iopub.status.idle": "2025-01-27T13:49:20.343964Z",
     "shell.execute_reply": "2025-01-27T13:49:20.342691Z"
    },
    "id": "e0NZtVbIpC0V",
    "papermill": {
     "duration": 0.131927,
     "end_time": "2025-01-27T13:49:20.345959",
     "exception": false,
     "start_time": "2025-01-27T13:49:20.214032",
     "status": "completed"
    },
    "tags": []
   },
   "outputs": [],
   "source": [
    "# Convert 'Date' to datetime\n",
    "raw_data_2023_Q2['Date'] = pd.to_datetime(raw_data_2023_Q2['Date'])"
   ]
  },
  {
   "cell_type": "code",
   "execution_count": 16,
   "id": "3f60a2db",
   "metadata": {
    "execution": {
     "iopub.execute_input": "2025-01-27T13:49:20.427464Z",
     "iopub.status.busy": "2025-01-27T13:49:20.427003Z",
     "iopub.status.idle": "2025-01-27T13:49:20.435314Z",
     "shell.execute_reply": "2025-01-27T13:49:20.432585Z"
    },
    "executionInfo": {
     "elapsed": 7,
     "status": "ok",
     "timestamp": 1734445420621,
     "user": {
      "displayName": "Tahmida Majumder",
      "userId": "15415648085337204568"
     },
     "user_tz": -480
    },
    "id": "BUtlKAl2pYgH",
    "outputId": "645ffa67-69d8-401c-a95e-c36877b3448c",
    "papermill": {
     "duration": 0.051815,
     "end_time": "2025-01-27T13:49:20.437467",
     "exception": false,
     "start_time": "2025-01-27T13:49:20.385652",
     "status": "completed"
    },
    "tags": []
   },
   "outputs": [
    {
     "data": {
      "text/plain": [
       "(564703, 5)"
      ]
     },
     "execution_count": 16,
     "metadata": {},
     "output_type": "execute_result"
    }
   ],
   "source": [
    "raw_data_2023_Q2.shape"
   ]
  },
  {
   "cell_type": "code",
   "execution_count": 17,
   "id": "a71ceebf",
   "metadata": {
    "execution": {
     "iopub.execute_input": "2025-01-27T13:49:20.517352Z",
     "iopub.status.busy": "2025-01-27T13:49:20.516879Z",
     "iopub.status.idle": "2025-01-27T13:49:20.929462Z",
     "shell.execute_reply": "2025-01-27T13:49:20.928182Z"
    },
    "id": "CPkWhbJQpgz2",
    "papermill": {
     "duration": 0.454447,
     "end_time": "2025-01-27T13:49:20.931767",
     "exception": false,
     "start_time": "2025-01-27T13:49:20.477320",
     "status": "completed"
    },
    "tags": []
   },
   "outputs": [],
   "source": [
    "# Pivot the data\n",
    "data_df_2023_Q2 = raw_data_2023_Q2.pivot_table(\n",
    "    index=['Date', 'Country', 'City'],  # Grouping columns\n",
    "    columns='Specie',                  # Unique values become columns\n",
    "    values='median',                   # Values to aggregate\n",
    "    aggfunc='mean'                     # Aggregation function\n",
    ").reset_index()\n"
   ]
  },
  {
   "cell_type": "code",
   "execution_count": 18,
   "id": "a358832f",
   "metadata": {
    "execution": {
     "iopub.execute_input": "2025-01-27T13:49:21.019494Z",
     "iopub.status.busy": "2025-01-27T13:49:21.019095Z",
     "iopub.status.idle": "2025-01-27T13:49:21.047798Z",
     "shell.execute_reply": "2025-01-27T13:49:21.046413Z"
    },
    "executionInfo": {
     "elapsed": 12,
     "status": "ok",
     "timestamp": 1734445421619,
     "user": {
      "displayName": "Tahmida Majumder",
      "userId": "15415648085337204568"
     },
     "user_tz": -480
    },
    "id": "BKi-RIYAptUD",
    "outputId": "965baf5c-5018-4367-cc8b-f10880025ed4",
    "papermill": {
     "duration": 0.072569,
     "end_time": "2025-01-27T13:49:21.049793",
     "exception": false,
     "start_time": "2025-01-27T13:49:20.977224",
     "status": "completed"
    },
    "tags": []
   },
   "outputs": [
    {
     "name": "stdout",
     "output_type": "stream",
     "text": [
      "(55730, 22)\n"
     ]
    },
    {
     "data": {
      "text/html": [
       "<div>\n",
       "<style scoped>\n",
       "    .dataframe tbody tr th:only-of-type {\n",
       "        vertical-align: middle;\n",
       "    }\n",
       "\n",
       "    .dataframe tbody tr th {\n",
       "        vertical-align: top;\n",
       "    }\n",
       "\n",
       "    .dataframe thead th {\n",
       "        text-align: right;\n",
       "    }\n",
       "</style>\n",
       "<table border=\"1\" class=\"dataframe\">\n",
       "  <thead>\n",
       "    <tr style=\"text-align: right;\">\n",
       "      <th>Specie</th>\n",
       "      <th>Date</th>\n",
       "      <th>Country</th>\n",
       "      <th>City</th>\n",
       "      <th>aqi</th>\n",
       "      <th>co</th>\n",
       "      <th>dew</th>\n",
       "      <th>humidity</th>\n",
       "      <th>mepaqi</th>\n",
       "      <th>neph</th>\n",
       "      <th>no2</th>\n",
       "      <th>...</th>\n",
       "      <th>pm10</th>\n",
       "      <th>pm25</th>\n",
       "      <th>precipitation</th>\n",
       "      <th>pressure</th>\n",
       "      <th>so2</th>\n",
       "      <th>temperature</th>\n",
       "      <th>uvi</th>\n",
       "      <th>wd</th>\n",
       "      <th>wind-gust</th>\n",
       "      <th>wind-speed</th>\n",
       "    </tr>\n",
       "  </thead>\n",
       "  <tbody>\n",
       "    <tr>\n",
       "      <th>0</th>\n",
       "      <td>2023-03-27</td>\n",
       "      <td>AE</td>\n",
       "      <td>Abu Dhabi</td>\n",
       "      <td>NaN</td>\n",
       "      <td>0.1</td>\n",
       "      <td>16.0</td>\n",
       "      <td>53.0</td>\n",
       "      <td>NaN</td>\n",
       "      <td>NaN</td>\n",
       "      <td>13.6</td>\n",
       "      <td>...</td>\n",
       "      <td>94.0</td>\n",
       "      <td>85.0</td>\n",
       "      <td>NaN</td>\n",
       "      <td>1009.0</td>\n",
       "      <td>6.3</td>\n",
       "      <td>26.0</td>\n",
       "      <td>NaN</td>\n",
       "      <td>NaN</td>\n",
       "      <td>3.5</td>\n",
       "      <td>3.6</td>\n",
       "    </tr>\n",
       "    <tr>\n",
       "      <th>1</th>\n",
       "      <td>2023-03-27</td>\n",
       "      <td>AE</td>\n",
       "      <td>Dubai</td>\n",
       "      <td>NaN</td>\n",
       "      <td>NaN</td>\n",
       "      <td>14.0</td>\n",
       "      <td>38.0</td>\n",
       "      <td>NaN</td>\n",
       "      <td>NaN</td>\n",
       "      <td>NaN</td>\n",
       "      <td>...</td>\n",
       "      <td>NaN</td>\n",
       "      <td>89.0</td>\n",
       "      <td>NaN</td>\n",
       "      <td>1010.0</td>\n",
       "      <td>NaN</td>\n",
       "      <td>28.0</td>\n",
       "      <td>NaN</td>\n",
       "      <td>NaN</td>\n",
       "      <td>NaN</td>\n",
       "      <td>3.6</td>\n",
       "    </tr>\n",
       "    <tr>\n",
       "      <th>2</th>\n",
       "      <td>2023-03-27</td>\n",
       "      <td>AR</td>\n",
       "      <td>Buenos Aires</td>\n",
       "      <td>NaN</td>\n",
       "      <td>3.5</td>\n",
       "      <td>12.7</td>\n",
       "      <td>64.8</td>\n",
       "      <td>NaN</td>\n",
       "      <td>NaN</td>\n",
       "      <td>11.0</td>\n",
       "      <td>...</td>\n",
       "      <td>27.0</td>\n",
       "      <td>NaN</td>\n",
       "      <td>NaN</td>\n",
       "      <td>1015.7</td>\n",
       "      <td>4.6</td>\n",
       "      <td>21.4</td>\n",
       "      <td>NaN</td>\n",
       "      <td>67.5</td>\n",
       "      <td>5.5</td>\n",
       "      <td>2.5</td>\n",
       "    </tr>\n",
       "    <tr>\n",
       "      <th>3</th>\n",
       "      <td>2023-03-27</td>\n",
       "      <td>AT</td>\n",
       "      <td>Graz</td>\n",
       "      <td>NaN</td>\n",
       "      <td>0.1</td>\n",
       "      <td>-0.2</td>\n",
       "      <td>52.3</td>\n",
       "      <td>NaN</td>\n",
       "      <td>NaN</td>\n",
       "      <td>3.2</td>\n",
       "      <td>...</td>\n",
       "      <td>7.0</td>\n",
       "      <td>19.0</td>\n",
       "      <td>0.5</td>\n",
       "      <td>964.0</td>\n",
       "      <td>1.1</td>\n",
       "      <td>7.2</td>\n",
       "      <td>NaN</td>\n",
       "      <td>NaN</td>\n",
       "      <td>NaN</td>\n",
       "      <td>3.0</td>\n",
       "    </tr>\n",
       "    <tr>\n",
       "      <th>4</th>\n",
       "      <td>2023-03-27</td>\n",
       "      <td>AT</td>\n",
       "      <td>Innsbruck</td>\n",
       "      <td>NaN</td>\n",
       "      <td>0.1</td>\n",
       "      <td>1.5</td>\n",
       "      <td>77.4</td>\n",
       "      <td>NaN</td>\n",
       "      <td>NaN</td>\n",
       "      <td>6.4</td>\n",
       "      <td>...</td>\n",
       "      <td>4.0</td>\n",
       "      <td>NaN</td>\n",
       "      <td>0.4</td>\n",
       "      <td>1001.9</td>\n",
       "      <td>0.6</td>\n",
       "      <td>3.3</td>\n",
       "      <td>NaN</td>\n",
       "      <td>NaN</td>\n",
       "      <td>11.6</td>\n",
       "      <td>6.1</td>\n",
       "    </tr>\n",
       "  </tbody>\n",
       "</table>\n",
       "<p>5 rows × 22 columns</p>\n",
       "</div>"
      ],
      "text/plain": [
       "Specie       Date Country          City  aqi   co   dew  humidity  mepaqi  \\\n",
       "0      2023-03-27      AE     Abu Dhabi  NaN  0.1  16.0      53.0     NaN   \n",
       "1      2023-03-27      AE         Dubai  NaN  NaN  14.0      38.0     NaN   \n",
       "2      2023-03-27      AR  Buenos Aires  NaN  3.5  12.7      64.8     NaN   \n",
       "3      2023-03-27      AT          Graz  NaN  0.1  -0.2      52.3     NaN   \n",
       "4      2023-03-27      AT     Innsbruck  NaN  0.1   1.5      77.4     NaN   \n",
       "\n",
       "Specie  neph   no2  ...  pm10  pm25  precipitation  pressure  so2  \\\n",
       "0        NaN  13.6  ...  94.0  85.0            NaN    1009.0  6.3   \n",
       "1        NaN   NaN  ...   NaN  89.0            NaN    1010.0  NaN   \n",
       "2        NaN  11.0  ...  27.0   NaN            NaN    1015.7  4.6   \n",
       "3        NaN   3.2  ...   7.0  19.0            0.5     964.0  1.1   \n",
       "4        NaN   6.4  ...   4.0   NaN            0.4    1001.9  0.6   \n",
       "\n",
       "Specie  temperature  uvi    wd  wind-gust  wind-speed  \n",
       "0              26.0  NaN   NaN        3.5         3.6  \n",
       "1              28.0  NaN   NaN        NaN         3.6  \n",
       "2              21.4  NaN  67.5        5.5         2.5  \n",
       "3               7.2  NaN   NaN        NaN         3.0  \n",
       "4               3.3  NaN   NaN       11.6         6.1  \n",
       "\n",
       "[5 rows x 22 columns]"
      ]
     },
     "execution_count": 18,
     "metadata": {},
     "output_type": "execute_result"
    }
   ],
   "source": [
    "print(data_df_2023_Q2.shape)\n",
    "data_df_2023_Q2.head()"
   ]
  },
  {
   "cell_type": "code",
   "execution_count": 19,
   "id": "5d2ccb6e",
   "metadata": {
    "execution": {
     "iopub.execute_input": "2025-01-27T13:49:21.131780Z",
     "iopub.status.busy": "2025-01-27T13:49:21.131395Z",
     "iopub.status.idle": "2025-01-27T13:49:21.150306Z",
     "shell.execute_reply": "2025-01-27T13:49:21.149087Z"
    },
    "executionInfo": {
     "elapsed": 8,
     "status": "ok",
     "timestamp": 1734445421619,
     "user": {
      "displayName": "Tahmida Majumder",
      "userId": "15415648085337204568"
     },
     "user_tz": -480
    },
    "id": "ZB66ln4Lp3PI",
    "outputId": "1dbc8623-eb83-4a88-c64a-cfa883194649",
    "papermill": {
     "duration": 0.06153,
     "end_time": "2025-01-27T13:49:21.152347",
     "exception": false,
     "start_time": "2025-01-27T13:49:21.090817",
     "status": "completed"
    },
    "tags": []
   },
   "outputs": [
    {
     "data": {
      "text/plain": [
       "Specie\n",
       "Date                 0\n",
       "Country              0\n",
       "City                 0\n",
       "aqi              54358\n",
       "co               21724\n",
       "dew              11112\n",
       "humidity           206\n",
       "mepaqi           55632\n",
       "neph             55534\n",
       "no2               9257\n",
       "o3               12462\n",
       "pm1              55479\n",
       "pm10             10038\n",
       "pm25              7057\n",
       "precipitation    49911\n",
       "pressure           391\n",
       "so2              17226\n",
       "temperature        150\n",
       "uvi              54759\n",
       "wd               51871\n",
       "wind-gust        25758\n",
       "wind-speed        1242\n",
       "dtype: int64"
      ]
     },
     "execution_count": 19,
     "metadata": {},
     "output_type": "execute_result"
    }
   ],
   "source": [
    "data_df_2023_Q2.isnull().sum()"
   ]
  },
  {
   "cell_type": "markdown",
   "id": "93de0315",
   "metadata": {
    "id": "NzGm9wFEWInj",
    "papermill": {
     "duration": 0.039038,
     "end_time": "2025-01-27T13:49:21.230550",
     "exception": false,
     "start_time": "2025-01-27T13:49:21.191512",
     "status": "completed"
    },
    "tags": []
   },
   "source": [
    "# 2023_Q3"
   ]
  },
  {
   "cell_type": "code",
   "execution_count": 20,
   "id": "a722d57d",
   "metadata": {
    "execution": {
     "iopub.execute_input": "2025-01-27T13:49:21.315614Z",
     "iopub.status.busy": "2025-01-27T13:49:21.315179Z",
     "iopub.status.idle": "2025-01-27T13:49:21.559870Z",
     "shell.execute_reply": "2025-01-27T13:49:21.558537Z"
    },
    "executionInfo": {
     "elapsed": 394,
     "status": "ok",
     "timestamp": 1734445422006,
     "user": {
      "displayName": "Tahmida Majumder",
      "userId": "15415648085337204568"
     },
     "user_tz": -480
    },
    "id": "YPhZZpfTotON",
    "outputId": "72aecce4-09d7-4988-9826-c92f2869761e",
    "papermill": {
     "duration": 0.290301,
     "end_time": "2025-01-27T13:49:21.561902",
     "exception": false,
     "start_time": "2025-01-27T13:49:21.271601",
     "status": "completed"
    },
    "tags": []
   },
   "outputs": [
    {
     "name": "stdout",
     "output_type": "stream",
     "text": [
      "(255419, 5)\n"
     ]
    },
    {
     "data": {
      "text/html": [
       "<div>\n",
       "<style scoped>\n",
       "    .dataframe tbody tr th:only-of-type {\n",
       "        vertical-align: middle;\n",
       "    }\n",
       "\n",
       "    .dataframe tbody tr th {\n",
       "        vertical-align: top;\n",
       "    }\n",
       "\n",
       "    .dataframe thead th {\n",
       "        text-align: right;\n",
       "    }\n",
       "</style>\n",
       "<table border=\"1\" class=\"dataframe\">\n",
       "  <thead>\n",
       "    <tr style=\"text-align: right;\">\n",
       "      <th></th>\n",
       "      <th>Date</th>\n",
       "      <th>Country</th>\n",
       "      <th>City</th>\n",
       "      <th>Specie</th>\n",
       "      <th>median</th>\n",
       "    </tr>\n",
       "  </thead>\n",
       "  <tbody>\n",
       "    <tr>\n",
       "      <th>0</th>\n",
       "      <td>7/20/2023</td>\n",
       "      <td>JP</td>\n",
       "      <td>Kumamoto</td>\n",
       "      <td>so2</td>\n",
       "      <td>1.5</td>\n",
       "    </tr>\n",
       "    <tr>\n",
       "      <th>1</th>\n",
       "      <td>8/12/2023</td>\n",
       "      <td>JP</td>\n",
       "      <td>Kumamoto</td>\n",
       "      <td>so2</td>\n",
       "      <td>1.5</td>\n",
       "    </tr>\n",
       "    <tr>\n",
       "      <th>2</th>\n",
       "      <td>8/23/2023</td>\n",
       "      <td>JP</td>\n",
       "      <td>Kumamoto</td>\n",
       "      <td>so2</td>\n",
       "      <td>1.5</td>\n",
       "    </tr>\n",
       "    <tr>\n",
       "      <th>3</th>\n",
       "      <td>8/25/2023</td>\n",
       "      <td>JP</td>\n",
       "      <td>Kumamoto</td>\n",
       "      <td>so2</td>\n",
       "      <td>1.5</td>\n",
       "    </tr>\n",
       "    <tr>\n",
       "      <th>4</th>\n",
       "      <td>9/13/2023</td>\n",
       "      <td>JP</td>\n",
       "      <td>Kumamoto</td>\n",
       "      <td>so2</td>\n",
       "      <td>1.5</td>\n",
       "    </tr>\n",
       "    <tr>\n",
       "      <th>5</th>\n",
       "      <td>9/11/2023</td>\n",
       "      <td>JP</td>\n",
       "      <td>Kumamoto</td>\n",
       "      <td>so2</td>\n",
       "      <td>1.5</td>\n",
       "    </tr>\n",
       "    <tr>\n",
       "      <th>6</th>\n",
       "      <td>6/30/2023</td>\n",
       "      <td>JP</td>\n",
       "      <td>Kumamoto</td>\n",
       "      <td>so2</td>\n",
       "      <td>1.5</td>\n",
       "    </tr>\n",
       "    <tr>\n",
       "      <th>7</th>\n",
       "      <td>7/1/2023</td>\n",
       "      <td>JP</td>\n",
       "      <td>Kumamoto</td>\n",
       "      <td>so2</td>\n",
       "      <td>1.5</td>\n",
       "    </tr>\n",
       "    <tr>\n",
       "      <th>8</th>\n",
       "      <td>7/2/2023</td>\n",
       "      <td>JP</td>\n",
       "      <td>Kumamoto</td>\n",
       "      <td>so2</td>\n",
       "      <td>1.5</td>\n",
       "    </tr>\n",
       "    <tr>\n",
       "      <th>9</th>\n",
       "      <td>7/5/2023</td>\n",
       "      <td>JP</td>\n",
       "      <td>Kumamoto</td>\n",
       "      <td>so2</td>\n",
       "      <td>1.5</td>\n",
       "    </tr>\n",
       "  </tbody>\n",
       "</table>\n",
       "</div>"
      ],
      "text/plain": [
       "        Date Country      City Specie  median\n",
       "0  7/20/2023      JP  Kumamoto    so2     1.5\n",
       "1  8/12/2023      JP  Kumamoto    so2     1.5\n",
       "2  8/23/2023      JP  Kumamoto    so2     1.5\n",
       "3  8/25/2023      JP  Kumamoto    so2     1.5\n",
       "4  9/13/2023      JP  Kumamoto    so2     1.5\n",
       "5  9/11/2023      JP  Kumamoto    so2     1.5\n",
       "6  6/30/2023      JP  Kumamoto    so2     1.5\n",
       "7   7/1/2023      JP  Kumamoto    so2     1.5\n",
       "8   7/2/2023      JP  Kumamoto    so2     1.5\n",
       "9   7/5/2023      JP  Kumamoto    so2     1.5"
      ]
     },
     "execution_count": 20,
     "metadata": {},
     "output_type": "execute_result"
    }
   ],
   "source": [
    "# Loading the data\n",
    "raw_data_2023_Q3 = pd.read_csv(r\"/kaggle/input/complete-raw-median/waqi-covid19-airqualitydata-2023Q3.csv\")\n",
    "\n",
    "# print the shape\n",
    "print(raw_data_2023_Q3.shape)\n",
    "\n",
    "#runs the first 5 rows\n",
    "raw_data_2023_Q3.head(10)"
   ]
  },
  {
   "cell_type": "code",
   "execution_count": 21,
   "id": "54c39a78",
   "metadata": {
    "execution": {
     "iopub.execute_input": "2025-01-27T13:49:21.651639Z",
     "iopub.status.busy": "2025-01-27T13:49:21.651210Z",
     "iopub.status.idle": "2025-01-27T13:49:21.692402Z",
     "shell.execute_reply": "2025-01-27T13:49:21.691099Z"
    },
    "id": "egnxcT2UpMuV",
    "papermill": {
     "duration": 0.090238,
     "end_time": "2025-01-27T13:49:21.694657",
     "exception": false,
     "start_time": "2025-01-27T13:49:21.604419",
     "status": "completed"
    },
    "tags": []
   },
   "outputs": [],
   "source": [
    "# Convert 'Date' to datetime\n",
    "raw_data_2023_Q3['Date'] = pd.to_datetime(raw_data_2023_Q3['Date'])"
   ]
  },
  {
   "cell_type": "code",
   "execution_count": 22,
   "id": "d891e67a",
   "metadata": {
    "execution": {
     "iopub.execute_input": "2025-01-27T13:49:21.778972Z",
     "iopub.status.busy": "2025-01-27T13:49:21.778376Z",
     "iopub.status.idle": "2025-01-27T13:49:21.786284Z",
     "shell.execute_reply": "2025-01-27T13:49:21.784817Z"
    },
    "executionInfo": {
     "elapsed": 8,
     "status": "ok",
     "timestamp": 1734445422007,
     "user": {
      "displayName": "Tahmida Majumder",
      "userId": "15415648085337204568"
     },
     "user_tz": -480
    },
    "id": "vOvM6fDlpaAi",
    "outputId": "41886017-a791-4866-ea2c-d82414ed3d88",
    "papermill": {
     "duration": 0.051751,
     "end_time": "2025-01-27T13:49:21.788238",
     "exception": false,
     "start_time": "2025-01-27T13:49:21.736487",
     "status": "completed"
    },
    "tags": []
   },
   "outputs": [
    {
     "data": {
      "text/plain": [
       "(255419, 5)"
      ]
     },
     "execution_count": 22,
     "metadata": {},
     "output_type": "execute_result"
    }
   ],
   "source": [
    "raw_data_2023_Q3.shape"
   ]
  },
  {
   "cell_type": "code",
   "execution_count": 23,
   "id": "1fcb5bab",
   "metadata": {
    "execution": {
     "iopub.execute_input": "2025-01-27T13:49:21.870508Z",
     "iopub.status.busy": "2025-01-27T13:49:21.870121Z",
     "iopub.status.idle": "2025-01-27T13:49:22.051702Z",
     "shell.execute_reply": "2025-01-27T13:49:22.050421Z"
    },
    "id": "4JO0oj4upiAU",
    "papermill": {
     "duration": 0.225042,
     "end_time": "2025-01-27T13:49:22.053916",
     "exception": false,
     "start_time": "2025-01-27T13:49:21.828874",
     "status": "completed"
    },
    "tags": []
   },
   "outputs": [],
   "source": [
    "# Pivot the data\n",
    "data_df_2023_Q3 = raw_data_2023_Q3.pivot_table(\n",
    "    index=['Date', 'Country', 'City'],  # Grouping columns\n",
    "    columns='Specie',                  # Unique values become columns\n",
    "    values='median',                   # Values to aggregate\n",
    "    aggfunc='mean'                     # Aggregation function\n",
    ").reset_index()"
   ]
  },
  {
   "cell_type": "code",
   "execution_count": 24,
   "id": "e8c395f1",
   "metadata": {
    "execution": {
     "iopub.execute_input": "2025-01-27T13:49:22.135036Z",
     "iopub.status.busy": "2025-01-27T13:49:22.134414Z",
     "iopub.status.idle": "2025-01-27T13:49:22.162470Z",
     "shell.execute_reply": "2025-01-27T13:49:22.161400Z"
    },
    "executionInfo": {
     "elapsed": 416,
     "status": "ok",
     "timestamp": 1734445422417,
     "user": {
      "displayName": "Tahmida Majumder",
      "userId": "15415648085337204568"
     },
     "user_tz": -480
    },
    "id": "IOPN1iyrpuXD",
    "outputId": "04d7043f-dced-4ae7-9aef-524a2155aede",
    "papermill": {
     "duration": 0.070952,
     "end_time": "2025-01-27T13:49:22.164519",
     "exception": false,
     "start_time": "2025-01-27T13:49:22.093567",
     "status": "completed"
    },
    "tags": []
   },
   "outputs": [
    {
     "name": "stdout",
     "output_type": "stream",
     "text": [
      "(25197, 21)\n"
     ]
    },
    {
     "data": {
      "text/html": [
       "<div>\n",
       "<style scoped>\n",
       "    .dataframe tbody tr th:only-of-type {\n",
       "        vertical-align: middle;\n",
       "    }\n",
       "\n",
       "    .dataframe tbody tr th {\n",
       "        vertical-align: top;\n",
       "    }\n",
       "\n",
       "    .dataframe thead th {\n",
       "        text-align: right;\n",
       "    }\n",
       "</style>\n",
       "<table border=\"1\" class=\"dataframe\">\n",
       "  <thead>\n",
       "    <tr style=\"text-align: right;\">\n",
       "      <th>Specie</th>\n",
       "      <th>Date</th>\n",
       "      <th>Country</th>\n",
       "      <th>City</th>\n",
       "      <th>aqi</th>\n",
       "      <th>co</th>\n",
       "      <th>dew</th>\n",
       "      <th>humidity</th>\n",
       "      <th>mepaqi</th>\n",
       "      <th>neph</th>\n",
       "      <th>no2</th>\n",
       "      <th>...</th>\n",
       "      <th>pm1</th>\n",
       "      <th>pm10</th>\n",
       "      <th>pm25</th>\n",
       "      <th>precipitation</th>\n",
       "      <th>pressure</th>\n",
       "      <th>so2</th>\n",
       "      <th>temperature</th>\n",
       "      <th>wd</th>\n",
       "      <th>wind-gust</th>\n",
       "      <th>wind-speed</th>\n",
       "    </tr>\n",
       "  </thead>\n",
       "  <tbody>\n",
       "    <tr>\n",
       "      <th>0</th>\n",
       "      <td>2023-06-26</td>\n",
       "      <td>AE</td>\n",
       "      <td>Abu Dhabi</td>\n",
       "      <td>NaN</td>\n",
       "      <td>0.1</td>\n",
       "      <td>24.0</td>\n",
       "      <td>56.0</td>\n",
       "      <td>NaN</td>\n",
       "      <td>NaN</td>\n",
       "      <td>6.4</td>\n",
       "      <td>...</td>\n",
       "      <td>NaN</td>\n",
       "      <td>72.0</td>\n",
       "      <td>99.0</td>\n",
       "      <td>NaN</td>\n",
       "      <td>996.0</td>\n",
       "      <td>4.4</td>\n",
       "      <td>32.0</td>\n",
       "      <td>NaN</td>\n",
       "      <td>NaN</td>\n",
       "      <td>3.0</td>\n",
       "    </tr>\n",
       "    <tr>\n",
       "      <th>1</th>\n",
       "      <td>2023-06-26</td>\n",
       "      <td>AE</td>\n",
       "      <td>Dubai</td>\n",
       "      <td>NaN</td>\n",
       "      <td>NaN</td>\n",
       "      <td>26.0</td>\n",
       "      <td>53.0</td>\n",
       "      <td>NaN</td>\n",
       "      <td>NaN</td>\n",
       "      <td>NaN</td>\n",
       "      <td>...</td>\n",
       "      <td>NaN</td>\n",
       "      <td>NaN</td>\n",
       "      <td>102.0</td>\n",
       "      <td>NaN</td>\n",
       "      <td>995.0</td>\n",
       "      <td>NaN</td>\n",
       "      <td>37.0</td>\n",
       "      <td>NaN</td>\n",
       "      <td>NaN</td>\n",
       "      <td>3.6</td>\n",
       "    </tr>\n",
       "    <tr>\n",
       "      <th>2</th>\n",
       "      <td>2023-06-26</td>\n",
       "      <td>AR</td>\n",
       "      <td>Buenos Aires</td>\n",
       "      <td>NaN</td>\n",
       "      <td>5.7</td>\n",
       "      <td>12.4</td>\n",
       "      <td>86.0</td>\n",
       "      <td>NaN</td>\n",
       "      <td>NaN</td>\n",
       "      <td>14.2</td>\n",
       "      <td>...</td>\n",
       "      <td>NaN</td>\n",
       "      <td>35.0</td>\n",
       "      <td>78.0</td>\n",
       "      <td>NaN</td>\n",
       "      <td>1010.5</td>\n",
       "      <td>1.6</td>\n",
       "      <td>15.0</td>\n",
       "      <td>202.5</td>\n",
       "      <td>0.8</td>\n",
       "      <td>1.5</td>\n",
       "    </tr>\n",
       "    <tr>\n",
       "      <th>3</th>\n",
       "      <td>2023-06-26</td>\n",
       "      <td>AU</td>\n",
       "      <td>Adelaide</td>\n",
       "      <td>NaN</td>\n",
       "      <td>2.3</td>\n",
       "      <td>10.2</td>\n",
       "      <td>81.2</td>\n",
       "      <td>NaN</td>\n",
       "      <td>NaN</td>\n",
       "      <td>4.6</td>\n",
       "      <td>...</td>\n",
       "      <td>NaN</td>\n",
       "      <td>13.0</td>\n",
       "      <td>21.0</td>\n",
       "      <td>0.1</td>\n",
       "      <td>1018.6</td>\n",
       "      <td>NaN</td>\n",
       "      <td>11.6</td>\n",
       "      <td>NaN</td>\n",
       "      <td>6.7</td>\n",
       "      <td>3.8</td>\n",
       "    </tr>\n",
       "    <tr>\n",
       "      <th>4</th>\n",
       "      <td>2023-06-26</td>\n",
       "      <td>AU</td>\n",
       "      <td>Brisbane</td>\n",
       "      <td>NaN</td>\n",
       "      <td>1.5</td>\n",
       "      <td>1.0</td>\n",
       "      <td>27.3</td>\n",
       "      <td>NaN</td>\n",
       "      <td>NaN</td>\n",
       "      <td>5.5</td>\n",
       "      <td>...</td>\n",
       "      <td>NaN</td>\n",
       "      <td>11.0</td>\n",
       "      <td>14.0</td>\n",
       "      <td>NaN</td>\n",
       "      <td>1016.0</td>\n",
       "      <td>1.1</td>\n",
       "      <td>19.7</td>\n",
       "      <td>260.0</td>\n",
       "      <td>10.6</td>\n",
       "      <td>1.8</td>\n",
       "    </tr>\n",
       "  </tbody>\n",
       "</table>\n",
       "<p>5 rows × 21 columns</p>\n",
       "</div>"
      ],
      "text/plain": [
       "Specie       Date Country          City  aqi   co   dew  humidity  mepaqi  \\\n",
       "0      2023-06-26      AE     Abu Dhabi  NaN  0.1  24.0      56.0     NaN   \n",
       "1      2023-06-26      AE         Dubai  NaN  NaN  26.0      53.0     NaN   \n",
       "2      2023-06-26      AR  Buenos Aires  NaN  5.7  12.4      86.0     NaN   \n",
       "3      2023-06-26      AU      Adelaide  NaN  2.3  10.2      81.2     NaN   \n",
       "4      2023-06-26      AU      Brisbane  NaN  1.5   1.0      27.3     NaN   \n",
       "\n",
       "Specie  neph   no2  ...  pm1  pm10   pm25  precipitation  pressure  so2  \\\n",
       "0        NaN   6.4  ...  NaN  72.0   99.0            NaN     996.0  4.4   \n",
       "1        NaN   NaN  ...  NaN   NaN  102.0            NaN     995.0  NaN   \n",
       "2        NaN  14.2  ...  NaN  35.0   78.0            NaN    1010.5  1.6   \n",
       "3        NaN   4.6  ...  NaN  13.0   21.0            0.1    1018.6  NaN   \n",
       "4        NaN   5.5  ...  NaN  11.0   14.0            NaN    1016.0  1.1   \n",
       "\n",
       "Specie  temperature     wd  wind-gust  wind-speed  \n",
       "0              32.0    NaN        NaN         3.0  \n",
       "1              37.0    NaN        NaN         3.6  \n",
       "2              15.0  202.5        0.8         1.5  \n",
       "3              11.6    NaN        6.7         3.8  \n",
       "4              19.7  260.0       10.6         1.8  \n",
       "\n",
       "[5 rows x 21 columns]"
      ]
     },
     "execution_count": 24,
     "metadata": {},
     "output_type": "execute_result"
    }
   ],
   "source": [
    "print(data_df_2023_Q3.shape)\n",
    "data_df_2023_Q3.head()"
   ]
  },
  {
   "cell_type": "code",
   "execution_count": 25,
   "id": "eb6678d4",
   "metadata": {
    "execution": {
     "iopub.execute_input": "2025-01-27T13:49:22.247261Z",
     "iopub.status.busy": "2025-01-27T13:49:22.246868Z",
     "iopub.status.idle": "2025-01-27T13:49:22.261347Z",
     "shell.execute_reply": "2025-01-27T13:49:22.259764Z"
    },
    "executionInfo": {
     "elapsed": 7,
     "status": "ok",
     "timestamp": 1734445422417,
     "user": {
      "displayName": "Tahmida Majumder",
      "userId": "15415648085337204568"
     },
     "user_tz": -480
    },
    "id": "nmU29RmFp4aI",
    "outputId": "840ca7e9-e5b2-4ec1-b8b5-60f43e5204ef",
    "papermill": {
     "duration": 0.058446,
     "end_time": "2025-01-27T13:49:22.263534",
     "exception": false,
     "start_time": "2025-01-27T13:49:22.205088",
     "status": "completed"
    },
    "tags": []
   },
   "outputs": [
    {
     "data": {
      "text/plain": [
       "Specie\n",
       "Date                 0\n",
       "Country              0\n",
       "City                 0\n",
       "aqi              25102\n",
       "co               10340\n",
       "dew               5166\n",
       "humidity            23\n",
       "mepaqi           25099\n",
       "neph             25001\n",
       "no2               4438\n",
       "o3                3734\n",
       "pm1              25100\n",
       "pm10              5937\n",
       "pm25              2644\n",
       "precipitation    21924\n",
       "pressure           169\n",
       "so2               8920\n",
       "temperature          2\n",
       "wd               24217\n",
       "wind-gust         9754\n",
       "wind-speed         557\n",
       "dtype: int64"
      ]
     },
     "execution_count": 25,
     "metadata": {},
     "output_type": "execute_result"
    }
   ],
   "source": [
    "data_df_2023_Q3.isnull().sum()"
   ]
  },
  {
   "cell_type": "code",
   "execution_count": null,
   "id": "031b11c6",
   "metadata": {
    "id": "ZCn5R1Oqo4ES",
    "papermill": {
     "duration": 0.041647,
     "end_time": "2025-01-27T13:49:22.352906",
     "exception": false,
     "start_time": "2025-01-27T13:49:22.311259",
     "status": "completed"
    },
    "tags": []
   },
   "outputs": [],
   "source": []
  },
  {
   "cell_type": "markdown",
   "id": "9daba3d6",
   "metadata": {
    "id": "zx7OUYrpWORd",
    "papermill": {
     "duration": 0.039933,
     "end_time": "2025-01-27T13:49:22.436512",
     "exception": false,
     "start_time": "2025-01-27T13:49:22.396579",
     "status": "completed"
    },
    "tags": []
   },
   "source": [
    "# 2023_Q4"
   ]
  },
  {
   "cell_type": "code",
   "execution_count": 26,
   "id": "5b9da082",
   "metadata": {
    "execution": {
     "iopub.execute_input": "2025-01-27T13:49:22.521376Z",
     "iopub.status.busy": "2025-01-27T13:49:22.520970Z",
     "iopub.status.idle": "2025-01-27T13:49:22.747838Z",
     "shell.execute_reply": "2025-01-27T13:49:22.746622Z"
    },
    "executionInfo": {
     "elapsed": 461,
     "status": "ok",
     "timestamp": 1734445422872,
     "user": {
      "displayName": "Tahmida Majumder",
      "userId": "15415648085337204568"
     },
     "user_tz": -480
    },
    "id": "pSl4NkPDot4g",
    "outputId": "6c541288-bf4c-4ab5-f571-68ecaa520f34",
    "papermill": {
     "duration": 0.270205,
     "end_time": "2025-01-27T13:49:22.749828",
     "exception": false,
     "start_time": "2025-01-27T13:49:22.479623",
     "status": "completed"
    },
    "tags": []
   },
   "outputs": [
    {
     "name": "stdout",
     "output_type": "stream",
     "text": [
      "(217731, 5)\n"
     ]
    },
    {
     "data": {
      "text/html": [
       "<div>\n",
       "<style scoped>\n",
       "    .dataframe tbody tr th:only-of-type {\n",
       "        vertical-align: middle;\n",
       "    }\n",
       "\n",
       "    .dataframe tbody tr th {\n",
       "        vertical-align: top;\n",
       "    }\n",
       "\n",
       "    .dataframe thead th {\n",
       "        text-align: right;\n",
       "    }\n",
       "</style>\n",
       "<table border=\"1\" class=\"dataframe\">\n",
       "  <thead>\n",
       "    <tr style=\"text-align: right;\">\n",
       "      <th></th>\n",
       "      <th>Date</th>\n",
       "      <th>Country</th>\n",
       "      <th>City</th>\n",
       "      <th>Specie</th>\n",
       "      <th>median</th>\n",
       "    </tr>\n",
       "  </thead>\n",
       "  <tbody>\n",
       "    <tr>\n",
       "      <th>0</th>\n",
       "      <td>10/30/2023</td>\n",
       "      <td>FI</td>\n",
       "      <td>Turku</td>\n",
       "      <td>pressure</td>\n",
       "      <td>1002.0</td>\n",
       "    </tr>\n",
       "    <tr>\n",
       "      <th>1</th>\n",
       "      <td>11/9/2023</td>\n",
       "      <td>FI</td>\n",
       "      <td>Turku</td>\n",
       "      <td>pressure</td>\n",
       "      <td>1004.0</td>\n",
       "    </tr>\n",
       "    <tr>\n",
       "      <th>2</th>\n",
       "      <td>11/26/2023</td>\n",
       "      <td>FI</td>\n",
       "      <td>Turku</td>\n",
       "      <td>pressure</td>\n",
       "      <td>1005.0</td>\n",
       "    </tr>\n",
       "    <tr>\n",
       "      <th>3</th>\n",
       "      <td>12/6/2023</td>\n",
       "      <td>FI</td>\n",
       "      <td>Turku</td>\n",
       "      <td>pressure</td>\n",
       "      <td>1023.0</td>\n",
       "    </tr>\n",
       "    <tr>\n",
       "      <th>4</th>\n",
       "      <td>12/12/2023</td>\n",
       "      <td>FI</td>\n",
       "      <td>Turku</td>\n",
       "      <td>pressure</td>\n",
       "      <td>1008.0</td>\n",
       "    </tr>\n",
       "    <tr>\n",
       "      <th>5</th>\n",
       "      <td>12/13/2023</td>\n",
       "      <td>FI</td>\n",
       "      <td>Turku</td>\n",
       "      <td>pressure</td>\n",
       "      <td>1007.0</td>\n",
       "    </tr>\n",
       "    <tr>\n",
       "      <th>6</th>\n",
       "      <td>12/30/2023</td>\n",
       "      <td>FI</td>\n",
       "      <td>Turku</td>\n",
       "      <td>pressure</td>\n",
       "      <td>995.5</td>\n",
       "    </tr>\n",
       "    <tr>\n",
       "      <th>7</th>\n",
       "      <td>10/8/2023</td>\n",
       "      <td>FI</td>\n",
       "      <td>Turku</td>\n",
       "      <td>pressure</td>\n",
       "      <td>1005.5</td>\n",
       "    </tr>\n",
       "    <tr>\n",
       "      <th>8</th>\n",
       "      <td>11/10/2023</td>\n",
       "      <td>FI</td>\n",
       "      <td>Turku</td>\n",
       "      <td>pressure</td>\n",
       "      <td>999.0</td>\n",
       "    </tr>\n",
       "    <tr>\n",
       "      <th>9</th>\n",
       "      <td>11/22/2023</td>\n",
       "      <td>FI</td>\n",
       "      <td>Turku</td>\n",
       "      <td>pressure</td>\n",
       "      <td>1016.5</td>\n",
       "    </tr>\n",
       "  </tbody>\n",
       "</table>\n",
       "</div>"
      ],
      "text/plain": [
       "         Date Country   City    Specie  median\n",
       "0  10/30/2023      FI  Turku  pressure  1002.0\n",
       "1   11/9/2023      FI  Turku  pressure  1004.0\n",
       "2  11/26/2023      FI  Turku  pressure  1005.0\n",
       "3   12/6/2023      FI  Turku  pressure  1023.0\n",
       "4  12/12/2023      FI  Turku  pressure  1008.0\n",
       "5  12/13/2023      FI  Turku  pressure  1007.0\n",
       "6  12/30/2023      FI  Turku  pressure   995.5\n",
       "7   10/8/2023      FI  Turku  pressure  1005.5\n",
       "8  11/10/2023      FI  Turku  pressure   999.0\n",
       "9  11/22/2023      FI  Turku  pressure  1016.5"
      ]
     },
     "execution_count": 26,
     "metadata": {},
     "output_type": "execute_result"
    }
   ],
   "source": [
    "# Loading the data\n",
    "raw_data_2023_Q4 = pd.read_csv(r\"/kaggle/input/complete-raw-median/waqi-covid19-airqualitydata-2023Q4.csv\")\n",
    "\n",
    "# print the shape\n",
    "print(raw_data_2023_Q4.shape)\n",
    "\n",
    "#runs the first 5 rows\n",
    "raw_data_2023_Q4.head(10)"
   ]
  },
  {
   "cell_type": "code",
   "execution_count": 27,
   "id": "b1ccc5c0",
   "metadata": {
    "execution": {
     "iopub.execute_input": "2025-01-27T13:49:22.834739Z",
     "iopub.status.busy": "2025-01-27T13:49:22.834225Z",
     "iopub.status.idle": "2025-01-27T13:49:22.869313Z",
     "shell.execute_reply": "2025-01-27T13:49:22.867863Z"
    },
    "id": "svTbkVghpOnR",
    "papermill": {
     "duration": 0.079345,
     "end_time": "2025-01-27T13:49:22.871568",
     "exception": false,
     "start_time": "2025-01-27T13:49:22.792223",
     "status": "completed"
    },
    "tags": []
   },
   "outputs": [],
   "source": [
    "# Convert 'Date' to datetime\n",
    "raw_data_2023_Q4['Date'] = pd.to_datetime(raw_data_2023_Q4['Date'])"
   ]
  },
  {
   "cell_type": "code",
   "execution_count": 28,
   "id": "0af8a6e3",
   "metadata": {
    "execution": {
     "iopub.execute_input": "2025-01-27T13:49:22.960530Z",
     "iopub.status.busy": "2025-01-27T13:49:22.960112Z",
     "iopub.status.idle": "2025-01-27T13:49:22.967010Z",
     "shell.execute_reply": "2025-01-27T13:49:22.965626Z"
    },
    "executionInfo": {
     "elapsed": 8,
     "status": "ok",
     "timestamp": 1734445422873,
     "user": {
      "displayName": "Tahmida Majumder",
      "userId": "15415648085337204568"
     },
     "user_tz": -480
    },
    "id": "D9JWIFFVpbUZ",
    "outputId": "80ebfeb3-e4e3-4c0c-c1f6-eaf4f678715e",
    "papermill": {
     "duration": 0.055919,
     "end_time": "2025-01-27T13:49:22.969218",
     "exception": false,
     "start_time": "2025-01-27T13:49:22.913299",
     "status": "completed"
    },
    "tags": []
   },
   "outputs": [
    {
     "data": {
      "text/plain": [
       "(217731, 5)"
      ]
     },
     "execution_count": 28,
     "metadata": {},
     "output_type": "execute_result"
    }
   ],
   "source": [
    "raw_data_2023_Q4.shape"
   ]
  },
  {
   "cell_type": "code",
   "execution_count": 29,
   "id": "10ef4ffb",
   "metadata": {
    "execution": {
     "iopub.execute_input": "2025-01-27T13:49:23.055194Z",
     "iopub.status.busy": "2025-01-27T13:49:23.054804Z",
     "iopub.status.idle": "2025-01-27T13:49:23.220666Z",
     "shell.execute_reply": "2025-01-27T13:49:23.219030Z"
    },
    "id": "JEg6HZkRpjGB",
    "papermill": {
     "duration": 0.211647,
     "end_time": "2025-01-27T13:49:23.222799",
     "exception": false,
     "start_time": "2025-01-27T13:49:23.011152",
     "status": "completed"
    },
    "tags": []
   },
   "outputs": [],
   "source": [
    "# Pivot the data\n",
    "data_df_2023_Q4 = raw_data_2023_Q4.pivot_table(\n",
    "    index=['Date', 'Country', 'City'],  # Grouping columns\n",
    "    columns='Specie',                  # Unique values become columns\n",
    "    values='median',                   # Values to aggregate\n",
    "    aggfunc='mean'                     # Aggregation function\n",
    ").reset_index()"
   ]
  },
  {
   "cell_type": "code",
   "execution_count": 30,
   "id": "8f9313d1",
   "metadata": {
    "execution": {
     "iopub.execute_input": "2025-01-27T13:49:23.306043Z",
     "iopub.status.busy": "2025-01-27T13:49:23.305676Z",
     "iopub.status.idle": "2025-01-27T13:49:23.333262Z",
     "shell.execute_reply": "2025-01-27T13:49:23.332106Z"
    },
    "executionInfo": {
     "elapsed": 11,
     "status": "ok",
     "timestamp": 1734445423320,
     "user": {
      "displayName": "Tahmida Majumder",
      "userId": "15415648085337204568"
     },
     "user_tz": -480
    },
    "id": "TK9gogykpwCE",
    "outputId": "9d3dc0f3-f47a-4e33-a8eb-924bde7fa8c3",
    "papermill": {
     "duration": 0.070946,
     "end_time": "2025-01-27T13:49:23.335077",
     "exception": false,
     "start_time": "2025-01-27T13:49:23.264131",
     "status": "completed"
    },
    "tags": []
   },
   "outputs": [
    {
     "name": "stdout",
     "output_type": "stream",
     "text": [
      "(22632, 21)\n"
     ]
    },
    {
     "data": {
      "text/html": [
       "<div>\n",
       "<style scoped>\n",
       "    .dataframe tbody tr th:only-of-type {\n",
       "        vertical-align: middle;\n",
       "    }\n",
       "\n",
       "    .dataframe tbody tr th {\n",
       "        vertical-align: top;\n",
       "    }\n",
       "\n",
       "    .dataframe thead th {\n",
       "        text-align: right;\n",
       "    }\n",
       "</style>\n",
       "<table border=\"1\" class=\"dataframe\">\n",
       "  <thead>\n",
       "    <tr style=\"text-align: right;\">\n",
       "      <th>Specie</th>\n",
       "      <th>Date</th>\n",
       "      <th>Country</th>\n",
       "      <th>City</th>\n",
       "      <th>aqi</th>\n",
       "      <th>co</th>\n",
       "      <th>dew</th>\n",
       "      <th>humidity</th>\n",
       "      <th>mepaqi</th>\n",
       "      <th>no2</th>\n",
       "      <th>o3</th>\n",
       "      <th>...</th>\n",
       "      <th>pm10</th>\n",
       "      <th>pm25</th>\n",
       "      <th>precipitation</th>\n",
       "      <th>pressure</th>\n",
       "      <th>so2</th>\n",
       "      <th>temperature</th>\n",
       "      <th>uvi</th>\n",
       "      <th>wd</th>\n",
       "      <th>wind-gust</th>\n",
       "      <th>wind-speed</th>\n",
       "    </tr>\n",
       "  </thead>\n",
       "  <tbody>\n",
       "    <tr>\n",
       "      <th>0</th>\n",
       "      <td>2023-09-25</td>\n",
       "      <td>AT</td>\n",
       "      <td>Graz</td>\n",
       "      <td>NaN</td>\n",
       "      <td>0.1</td>\n",
       "      <td>11.0</td>\n",
       "      <td>93.0</td>\n",
       "      <td>NaN</td>\n",
       "      <td>6.4</td>\n",
       "      <td>NaN</td>\n",
       "      <td>...</td>\n",
       "      <td>11.0</td>\n",
       "      <td>36.0</td>\n",
       "      <td>NaN</td>\n",
       "      <td>1025.0</td>\n",
       "      <td>0.6</td>\n",
       "      <td>13.0</td>\n",
       "      <td>NaN</td>\n",
       "      <td>NaN</td>\n",
       "      <td>5.5</td>\n",
       "      <td>1.0</td>\n",
       "    </tr>\n",
       "    <tr>\n",
       "      <th>1</th>\n",
       "      <td>2023-09-25</td>\n",
       "      <td>AT</td>\n",
       "      <td>Innsbruck</td>\n",
       "      <td>NaN</td>\n",
       "      <td>0.1</td>\n",
       "      <td>NaN</td>\n",
       "      <td>58.0</td>\n",
       "      <td>NaN</td>\n",
       "      <td>6.4</td>\n",
       "      <td>NaN</td>\n",
       "      <td>...</td>\n",
       "      <td>8.0</td>\n",
       "      <td>NaN</td>\n",
       "      <td>NaN</td>\n",
       "      <td>1022.1</td>\n",
       "      <td>1.1</td>\n",
       "      <td>26.6</td>\n",
       "      <td>NaN</td>\n",
       "      <td>NaN</td>\n",
       "      <td>6.0</td>\n",
       "      <td>2.0</td>\n",
       "    </tr>\n",
       "    <tr>\n",
       "      <th>2</th>\n",
       "      <td>2023-09-25</td>\n",
       "      <td>AT</td>\n",
       "      <td>Linz</td>\n",
       "      <td>NaN</td>\n",
       "      <td>0.1</td>\n",
       "      <td>10.5</td>\n",
       "      <td>78.0</td>\n",
       "      <td>NaN</td>\n",
       "      <td>7.1</td>\n",
       "      <td>NaN</td>\n",
       "      <td>...</td>\n",
       "      <td>11.0</td>\n",
       "      <td>30.0</td>\n",
       "      <td>NaN</td>\n",
       "      <td>1025.2</td>\n",
       "      <td>1.6</td>\n",
       "      <td>16.8</td>\n",
       "      <td>NaN</td>\n",
       "      <td>NaN</td>\n",
       "      <td>1.6</td>\n",
       "      <td>1.0</td>\n",
       "    </tr>\n",
       "    <tr>\n",
       "      <th>3</th>\n",
       "      <td>2023-09-25</td>\n",
       "      <td>AT</td>\n",
       "      <td>Salzburg</td>\n",
       "      <td>NaN</td>\n",
       "      <td>0.1</td>\n",
       "      <td>9.0</td>\n",
       "      <td>87.0</td>\n",
       "      <td>NaN</td>\n",
       "      <td>7.4</td>\n",
       "      <td>NaN</td>\n",
       "      <td>...</td>\n",
       "      <td>10.0</td>\n",
       "      <td>25.0</td>\n",
       "      <td>NaN</td>\n",
       "      <td>1024.5</td>\n",
       "      <td>1.1</td>\n",
       "      <td>12.5</td>\n",
       "      <td>NaN</td>\n",
       "      <td>NaN</td>\n",
       "      <td>NaN</td>\n",
       "      <td>1.5</td>\n",
       "    </tr>\n",
       "    <tr>\n",
       "      <th>4</th>\n",
       "      <td>2023-09-25</td>\n",
       "      <td>AT</td>\n",
       "      <td>Vienna</td>\n",
       "      <td>NaN</td>\n",
       "      <td>0.1</td>\n",
       "      <td>11.5</td>\n",
       "      <td>71.1</td>\n",
       "      <td>NaN</td>\n",
       "      <td>6.4</td>\n",
       "      <td>NaN</td>\n",
       "      <td>...</td>\n",
       "      <td>11.0</td>\n",
       "      <td>30.0</td>\n",
       "      <td>NaN</td>\n",
       "      <td>1025.0</td>\n",
       "      <td>1.6</td>\n",
       "      <td>16.3</td>\n",
       "      <td>NaN</td>\n",
       "      <td>NaN</td>\n",
       "      <td>4.8</td>\n",
       "      <td>2.3</td>\n",
       "    </tr>\n",
       "  </tbody>\n",
       "</table>\n",
       "<p>5 rows × 21 columns</p>\n",
       "</div>"
      ],
      "text/plain": [
       "Specie       Date Country       City  aqi   co   dew  humidity  mepaqi  no2  \\\n",
       "0      2023-09-25      AT       Graz  NaN  0.1  11.0      93.0     NaN  6.4   \n",
       "1      2023-09-25      AT  Innsbruck  NaN  0.1   NaN      58.0     NaN  6.4   \n",
       "2      2023-09-25      AT       Linz  NaN  0.1  10.5      78.0     NaN  7.1   \n",
       "3      2023-09-25      AT   Salzburg  NaN  0.1   9.0      87.0     NaN  7.4   \n",
       "4      2023-09-25      AT     Vienna  NaN  0.1  11.5      71.1     NaN  6.4   \n",
       "\n",
       "Specie  o3  ...  pm10  pm25  precipitation  pressure  so2  temperature  uvi  \\\n",
       "0      NaN  ...  11.0  36.0            NaN    1025.0  0.6         13.0  NaN   \n",
       "1      NaN  ...   8.0   NaN            NaN    1022.1  1.1         26.6  NaN   \n",
       "2      NaN  ...  11.0  30.0            NaN    1025.2  1.6         16.8  NaN   \n",
       "3      NaN  ...  10.0  25.0            NaN    1024.5  1.1         12.5  NaN   \n",
       "4      NaN  ...  11.0  30.0            NaN    1025.0  1.6         16.3  NaN   \n",
       "\n",
       "Specie  wd  wind-gust  wind-speed  \n",
       "0      NaN        5.5         1.0  \n",
       "1      NaN        6.0         2.0  \n",
       "2      NaN        1.6         1.0  \n",
       "3      NaN        NaN         1.5  \n",
       "4      NaN        4.8         2.3  \n",
       "\n",
       "[5 rows x 21 columns]"
      ]
     },
     "execution_count": 30,
     "metadata": {},
     "output_type": "execute_result"
    }
   ],
   "source": [
    "print(data_df_2023_Q4.shape)\n",
    "data_df_2023_Q4.head()"
   ]
  },
  {
   "cell_type": "code",
   "execution_count": 31,
   "id": "b55b7110",
   "metadata": {
    "execution": {
     "iopub.execute_input": "2025-01-27T13:49:23.417205Z",
     "iopub.status.busy": "2025-01-27T13:49:23.416835Z",
     "iopub.status.idle": "2025-01-27T13:49:23.429902Z",
     "shell.execute_reply": "2025-01-27T13:49:23.428596Z"
    },
    "executionInfo": {
     "elapsed": 6,
     "status": "ok",
     "timestamp": 1734445423320,
     "user": {
      "displayName": "Tahmida Majumder",
      "userId": "15415648085337204568"
     },
     "user_tz": -480
    },
    "id": "tVHbYj0dp59i",
    "outputId": "f3cf929b-27ac-48c7-aeea-5604a0aca082",
    "papermill": {
     "duration": 0.056927,
     "end_time": "2025-01-27T13:49:23.432143",
     "exception": false,
     "start_time": "2025-01-27T13:49:23.375216",
     "status": "completed"
    },
    "tags": []
   },
   "outputs": [
    {
     "data": {
      "text/plain": [
       "Specie\n",
       "Date                 0\n",
       "Country              0\n",
       "City                 0\n",
       "aqi              21358\n",
       "co               11602\n",
       "dew               4359\n",
       "humidity            65\n",
       "mepaqi           22534\n",
       "no2               5375\n",
       "o3                7954\n",
       "pm1              22372\n",
       "pm10              5288\n",
       "pm25              5839\n",
       "precipitation    19716\n",
       "pressure           201\n",
       "so2               8084\n",
       "temperature         32\n",
       "uvi              21841\n",
       "wd               21683\n",
       "wind-gust        11027\n",
       "wind-speed         315\n",
       "dtype: int64"
      ]
     },
     "execution_count": 31,
     "metadata": {},
     "output_type": "execute_result"
    }
   ],
   "source": [
    "data_df_2023_Q4.isnull().sum()"
   ]
  },
  {
   "cell_type": "markdown",
   "id": "fb60231f",
   "metadata": {
    "id": "QY0v8HWwWVbJ",
    "papermill": {
     "duration": 0.040442,
     "end_time": "2025-01-27T13:49:23.514349",
     "exception": false,
     "start_time": "2025-01-27T13:49:23.473907",
     "status": "completed"
    },
    "tags": []
   },
   "source": [
    "# 2022_Q2"
   ]
  },
  {
   "cell_type": "code",
   "execution_count": 32,
   "id": "38e1b469",
   "metadata": {
    "execution": {
     "iopub.execute_input": "2025-01-27T13:49:23.596840Z",
     "iopub.status.busy": "2025-01-27T13:49:23.596428Z",
     "iopub.status.idle": "2025-01-27T13:49:24.127961Z",
     "shell.execute_reply": "2025-01-27T13:49:24.126942Z"
    },
    "executionInfo": {
     "elapsed": 963,
     "status": "ok",
     "timestamp": 1734445424278,
     "user": {
      "displayName": "Tahmida Majumder",
      "userId": "15415648085337204568"
     },
     "user_tz": -480
    },
    "id": "58jUmENe5eqK",
    "outputId": "a45fd0b4-9269-43c8-ff9e-36269f11ba3b",
    "papermill": {
     "duration": 0.574799,
     "end_time": "2025-01-27T13:49:24.129728",
     "exception": false,
     "start_time": "2025-01-27T13:49:23.554929",
     "status": "completed"
    },
    "tags": []
   },
   "outputs": [
    {
     "name": "stdout",
     "output_type": "stream",
     "text": [
      "(573836, 5)\n"
     ]
    },
    {
     "data": {
      "text/html": [
       "<div>\n",
       "<style scoped>\n",
       "    .dataframe tbody tr th:only-of-type {\n",
       "        vertical-align: middle;\n",
       "    }\n",
       "\n",
       "    .dataframe tbody tr th {\n",
       "        vertical-align: top;\n",
       "    }\n",
       "\n",
       "    .dataframe thead th {\n",
       "        text-align: right;\n",
       "    }\n",
       "</style>\n",
       "<table border=\"1\" class=\"dataframe\">\n",
       "  <thead>\n",
       "    <tr style=\"text-align: right;\">\n",
       "      <th></th>\n",
       "      <th>Date</th>\n",
       "      <th>Country</th>\n",
       "      <th>City</th>\n",
       "      <th>Specie</th>\n",
       "      <th>median</th>\n",
       "    </tr>\n",
       "  </thead>\n",
       "  <tbody>\n",
       "    <tr>\n",
       "      <th>0</th>\n",
       "      <td>3/31/2022</td>\n",
       "      <td>GT</td>\n",
       "      <td>Guatemala City</td>\n",
       "      <td>pressure</td>\n",
       "      <td>1018.0</td>\n",
       "    </tr>\n",
       "    <tr>\n",
       "      <th>1</th>\n",
       "      <td>4/23/2022</td>\n",
       "      <td>GT</td>\n",
       "      <td>Guatemala City</td>\n",
       "      <td>pressure</td>\n",
       "      <td>1020.0</td>\n",
       "    </tr>\n",
       "    <tr>\n",
       "      <th>2</th>\n",
       "      <td>5/6/2022</td>\n",
       "      <td>GT</td>\n",
       "      <td>Guatemala City</td>\n",
       "      <td>pressure</td>\n",
       "      <td>1021.0</td>\n",
       "    </tr>\n",
       "    <tr>\n",
       "      <th>3</th>\n",
       "      <td>6/10/2022</td>\n",
       "      <td>GT</td>\n",
       "      <td>Guatemala City</td>\n",
       "      <td>pressure</td>\n",
       "      <td>1021.0</td>\n",
       "    </tr>\n",
       "    <tr>\n",
       "      <th>4</th>\n",
       "      <td>4/4/2022</td>\n",
       "      <td>GT</td>\n",
       "      <td>Guatemala City</td>\n",
       "      <td>pressure</td>\n",
       "      <td>1018.0</td>\n",
       "    </tr>\n",
       "    <tr>\n",
       "      <th>5</th>\n",
       "      <td>5/13/2022</td>\n",
       "      <td>GT</td>\n",
       "      <td>Guatemala City</td>\n",
       "      <td>pressure</td>\n",
       "      <td>1020.0</td>\n",
       "    </tr>\n",
       "    <tr>\n",
       "      <th>6</th>\n",
       "      <td>6/3/2022</td>\n",
       "      <td>GT</td>\n",
       "      <td>Guatemala City</td>\n",
       "      <td>pressure</td>\n",
       "      <td>1018.0</td>\n",
       "    </tr>\n",
       "    <tr>\n",
       "      <th>7</th>\n",
       "      <td>6/9/2022</td>\n",
       "      <td>GT</td>\n",
       "      <td>Guatemala City</td>\n",
       "      <td>pressure</td>\n",
       "      <td>1020.0</td>\n",
       "    </tr>\n",
       "    <tr>\n",
       "      <th>8</th>\n",
       "      <td>6/2/2022</td>\n",
       "      <td>GT</td>\n",
       "      <td>Guatemala City</td>\n",
       "      <td>pressure</td>\n",
       "      <td>1017.0</td>\n",
       "    </tr>\n",
       "    <tr>\n",
       "      <th>9</th>\n",
       "      <td>6/30/2022</td>\n",
       "      <td>GT</td>\n",
       "      <td>Guatemala City</td>\n",
       "      <td>pressure</td>\n",
       "      <td>1023.0</td>\n",
       "    </tr>\n",
       "  </tbody>\n",
       "</table>\n",
       "</div>"
      ],
      "text/plain": [
       "        Date Country            City    Specie  median\n",
       "0  3/31/2022      GT  Guatemala City  pressure  1018.0\n",
       "1  4/23/2022      GT  Guatemala City  pressure  1020.0\n",
       "2   5/6/2022      GT  Guatemala City  pressure  1021.0\n",
       "3  6/10/2022      GT  Guatemala City  pressure  1021.0\n",
       "4   4/4/2022      GT  Guatemala City  pressure  1018.0\n",
       "5  5/13/2022      GT  Guatemala City  pressure  1020.0\n",
       "6   6/3/2022      GT  Guatemala City  pressure  1018.0\n",
       "7   6/9/2022      GT  Guatemala City  pressure  1020.0\n",
       "8   6/2/2022      GT  Guatemala City  pressure  1017.0\n",
       "9  6/30/2022      GT  Guatemala City  pressure  1023.0"
      ]
     },
     "execution_count": 32,
     "metadata": {},
     "output_type": "execute_result"
    }
   ],
   "source": [
    "# Loading the data\n",
    "raw_data_2022_Q2 = pd.read_csv(r\"/kaggle/input/complete-raw-median/waqi-covid19-airqualitydata-2022Q2.csv\")\n",
    "\n",
    "# print the shape\n",
    "print(raw_data_2022_Q2.shape)\n",
    "\n",
    "#runs the first 5 rows\n",
    "raw_data_2022_Q2.head(10)"
   ]
  },
  {
   "cell_type": "code",
   "execution_count": 33,
   "id": "3864c8f4",
   "metadata": {
    "execution": {
     "iopub.execute_input": "2025-01-27T13:49:24.213089Z",
     "iopub.status.busy": "2025-01-27T13:49:24.212747Z",
     "iopub.status.idle": "2025-01-27T13:49:24.297450Z",
     "shell.execute_reply": "2025-01-27T13:49:24.296458Z"
    },
    "id": "WRRaOcrK5eqK",
    "papermill": {
     "duration": 0.128636,
     "end_time": "2025-01-27T13:49:24.299435",
     "exception": false,
     "start_time": "2025-01-27T13:49:24.170799",
     "status": "completed"
    },
    "tags": []
   },
   "outputs": [],
   "source": [
    "# Convert 'Date' to datetime\n",
    "raw_data_2022_Q2['Date'] = pd.to_datetime(raw_data_2022_Q2['Date'])"
   ]
  },
  {
   "cell_type": "code",
   "execution_count": 34,
   "id": "a972e7df",
   "metadata": {
    "execution": {
     "iopub.execute_input": "2025-01-27T13:49:24.385786Z",
     "iopub.status.busy": "2025-01-27T13:49:24.385422Z",
     "iopub.status.idle": "2025-01-27T13:49:24.391152Z",
     "shell.execute_reply": "2025-01-27T13:49:24.390186Z"
    },
    "executionInfo": {
     "elapsed": 8,
     "status": "ok",
     "timestamp": 1734445424279,
     "user": {
      "displayName": "Tahmida Majumder",
      "userId": "15415648085337204568"
     },
     "user_tz": -480
    },
    "id": "EzyYRpJ25eqL",
    "outputId": "21656761-5883-4d1f-9437-70912960c206",
    "papermill": {
     "duration": 0.050885,
     "end_time": "2025-01-27T13:49:24.393027",
     "exception": false,
     "start_time": "2025-01-27T13:49:24.342142",
     "status": "completed"
    },
    "tags": []
   },
   "outputs": [
    {
     "data": {
      "text/plain": [
       "(573836, 5)"
      ]
     },
     "execution_count": 34,
     "metadata": {},
     "output_type": "execute_result"
    }
   ],
   "source": [
    "raw_data_2022_Q2.shape"
   ]
  },
  {
   "cell_type": "code",
   "execution_count": 35,
   "id": "f88c5bd8",
   "metadata": {
    "execution": {
     "iopub.execute_input": "2025-01-27T13:49:24.479167Z",
     "iopub.status.busy": "2025-01-27T13:49:24.478778Z",
     "iopub.status.idle": "2025-01-27T13:49:24.923347Z",
     "shell.execute_reply": "2025-01-27T13:49:24.922024Z"
    },
    "id": "sa6wsiuz5eqL",
    "papermill": {
     "duration": 0.490781,
     "end_time": "2025-01-27T13:49:24.925501",
     "exception": false,
     "start_time": "2025-01-27T13:49:24.434720",
     "status": "completed"
    },
    "tags": []
   },
   "outputs": [],
   "source": [
    "# Pivot the data\n",
    "data_df_2022_Q2 = raw_data_2022_Q2.pivot_table(\n",
    "    index=['Date', 'Country', 'City'],  # Grouping columns\n",
    "    columns='Specie',                  # Unique values become columns\n",
    "    values='median',                   # Values to aggregate\n",
    "    aggfunc='mean'                     # Aggregation function\n",
    ").reset_index()"
   ]
  },
  {
   "cell_type": "code",
   "execution_count": 36,
   "id": "f7f394ed",
   "metadata": {
    "execution": {
     "iopub.execute_input": "2025-01-27T13:49:25.010912Z",
     "iopub.status.busy": "2025-01-27T13:49:25.010506Z",
     "iopub.status.idle": "2025-01-27T13:49:25.038291Z",
     "shell.execute_reply": "2025-01-27T13:49:25.037082Z"
    },
    "executionInfo": {
     "elapsed": 11,
     "status": "ok",
     "timestamp": 1734445424705,
     "user": {
      "displayName": "Tahmida Majumder",
      "userId": "15415648085337204568"
     },
     "user_tz": -480
    },
    "id": "ouR90SnN5eqL",
    "outputId": "30e9aa2c-b89e-4e26-c740-6544e30b9b38",
    "papermill": {
     "duration": 0.071566,
     "end_time": "2025-01-27T13:49:25.040016",
     "exception": false,
     "start_time": "2025-01-27T13:49:24.968450",
     "status": "completed"
    },
    "tags": []
   },
   "outputs": [
    {
     "name": "stdout",
     "output_type": "stream",
     "text": [
      "(56751, 22)\n"
     ]
    },
    {
     "data": {
      "text/html": [
       "<div>\n",
       "<style scoped>\n",
       "    .dataframe tbody tr th:only-of-type {\n",
       "        vertical-align: middle;\n",
       "    }\n",
       "\n",
       "    .dataframe tbody tr th {\n",
       "        vertical-align: top;\n",
       "    }\n",
       "\n",
       "    .dataframe thead th {\n",
       "        text-align: right;\n",
       "    }\n",
       "</style>\n",
       "<table border=\"1\" class=\"dataframe\">\n",
       "  <thead>\n",
       "    <tr style=\"text-align: right;\">\n",
       "      <th>Specie</th>\n",
       "      <th>Date</th>\n",
       "      <th>Country</th>\n",
       "      <th>City</th>\n",
       "      <th>aqi</th>\n",
       "      <th>co</th>\n",
       "      <th>dew</th>\n",
       "      <th>humidity</th>\n",
       "      <th>mepaqi</th>\n",
       "      <th>neph</th>\n",
       "      <th>no2</th>\n",
       "      <th>...</th>\n",
       "      <th>pm10</th>\n",
       "      <th>pm25</th>\n",
       "      <th>precipitation</th>\n",
       "      <th>pressure</th>\n",
       "      <th>so2</th>\n",
       "      <th>temperature</th>\n",
       "      <th>uvi</th>\n",
       "      <th>wd</th>\n",
       "      <th>wind-gust</th>\n",
       "      <th>wind-speed</th>\n",
       "    </tr>\n",
       "  </thead>\n",
       "  <tbody>\n",
       "    <tr>\n",
       "      <th>0</th>\n",
       "      <td>2022-03-28</td>\n",
       "      <td>AE</td>\n",
       "      <td>Abu Dhabi</td>\n",
       "      <td>NaN</td>\n",
       "      <td>0.1</td>\n",
       "      <td>15.0</td>\n",
       "      <td>64.0</td>\n",
       "      <td>NaN</td>\n",
       "      <td>NaN</td>\n",
       "      <td>5.1</td>\n",
       "      <td>...</td>\n",
       "      <td>69.0</td>\n",
       "      <td>50.0</td>\n",
       "      <td>NaN</td>\n",
       "      <td>1017.0</td>\n",
       "      <td>7.2</td>\n",
       "      <td>22.0</td>\n",
       "      <td>NaN</td>\n",
       "      <td>NaN</td>\n",
       "      <td>4.7</td>\n",
       "      <td>5.1</td>\n",
       "    </tr>\n",
       "    <tr>\n",
       "      <th>1</th>\n",
       "      <td>2022-03-28</td>\n",
       "      <td>AE</td>\n",
       "      <td>Dubai</td>\n",
       "      <td>NaN</td>\n",
       "      <td>NaN</td>\n",
       "      <td>15.0</td>\n",
       "      <td>60.0</td>\n",
       "      <td>NaN</td>\n",
       "      <td>NaN</td>\n",
       "      <td>NaN</td>\n",
       "      <td>...</td>\n",
       "      <td>NaN</td>\n",
       "      <td>70.0</td>\n",
       "      <td>NaN</td>\n",
       "      <td>1015.0</td>\n",
       "      <td>NaN</td>\n",
       "      <td>23.0</td>\n",
       "      <td>NaN</td>\n",
       "      <td>NaN</td>\n",
       "      <td>NaN</td>\n",
       "      <td>4.6</td>\n",
       "    </tr>\n",
       "    <tr>\n",
       "      <th>2</th>\n",
       "      <td>2022-03-28</td>\n",
       "      <td>AR</td>\n",
       "      <td>Buenos Aires</td>\n",
       "      <td>NaN</td>\n",
       "      <td>0.1</td>\n",
       "      <td>15.8</td>\n",
       "      <td>73.0</td>\n",
       "      <td>NaN</td>\n",
       "      <td>NaN</td>\n",
       "      <td>NaN</td>\n",
       "      <td>...</td>\n",
       "      <td>10.0</td>\n",
       "      <td>30.0</td>\n",
       "      <td>NaN</td>\n",
       "      <td>1012.8</td>\n",
       "      <td>8.7</td>\n",
       "      <td>22.8</td>\n",
       "      <td>NaN</td>\n",
       "      <td>45.0</td>\n",
       "      <td>4.0</td>\n",
       "      <td>1.3</td>\n",
       "    </tr>\n",
       "    <tr>\n",
       "      <th>3</th>\n",
       "      <td>2022-03-28</td>\n",
       "      <td>AT</td>\n",
       "      <td>Graz</td>\n",
       "      <td>NaN</td>\n",
       "      <td>0.1</td>\n",
       "      <td>1.9</td>\n",
       "      <td>50.4</td>\n",
       "      <td>NaN</td>\n",
       "      <td>NaN</td>\n",
       "      <td>13.3</td>\n",
       "      <td>...</td>\n",
       "      <td>33.0</td>\n",
       "      <td>NaN</td>\n",
       "      <td>NaN</td>\n",
       "      <td>1014.3</td>\n",
       "      <td>1.6</td>\n",
       "      <td>11.4</td>\n",
       "      <td>NaN</td>\n",
       "      <td>NaN</td>\n",
       "      <td>2.6</td>\n",
       "      <td>1.0</td>\n",
       "    </tr>\n",
       "    <tr>\n",
       "      <th>4</th>\n",
       "      <td>2022-03-28</td>\n",
       "      <td>AT</td>\n",
       "      <td>Innsbruck</td>\n",
       "      <td>NaN</td>\n",
       "      <td>0.1</td>\n",
       "      <td>-2.1</td>\n",
       "      <td>41.9</td>\n",
       "      <td>NaN</td>\n",
       "      <td>NaN</td>\n",
       "      <td>11.9</td>\n",
       "      <td>...</td>\n",
       "      <td>20.0</td>\n",
       "      <td>NaN</td>\n",
       "      <td>99.0</td>\n",
       "      <td>959.3</td>\n",
       "      <td>0.6</td>\n",
       "      <td>7.5</td>\n",
       "      <td>NaN</td>\n",
       "      <td>NaN</td>\n",
       "      <td>3.7</td>\n",
       "      <td>1.0</td>\n",
       "    </tr>\n",
       "  </tbody>\n",
       "</table>\n",
       "<p>5 rows × 22 columns</p>\n",
       "</div>"
      ],
      "text/plain": [
       "Specie       Date Country          City  aqi   co   dew  humidity  mepaqi  \\\n",
       "0      2022-03-28      AE     Abu Dhabi  NaN  0.1  15.0      64.0     NaN   \n",
       "1      2022-03-28      AE         Dubai  NaN  NaN  15.0      60.0     NaN   \n",
       "2      2022-03-28      AR  Buenos Aires  NaN  0.1  15.8      73.0     NaN   \n",
       "3      2022-03-28      AT          Graz  NaN  0.1   1.9      50.4     NaN   \n",
       "4      2022-03-28      AT     Innsbruck  NaN  0.1  -2.1      41.9     NaN   \n",
       "\n",
       "Specie  neph   no2  ...  pm10  pm25  precipitation  pressure  so2  \\\n",
       "0        NaN   5.1  ...  69.0  50.0            NaN    1017.0  7.2   \n",
       "1        NaN   NaN  ...   NaN  70.0            NaN    1015.0  NaN   \n",
       "2        NaN   NaN  ...  10.0  30.0            NaN    1012.8  8.7   \n",
       "3        NaN  13.3  ...  33.0   NaN            NaN    1014.3  1.6   \n",
       "4        NaN  11.9  ...  20.0   NaN           99.0     959.3  0.6   \n",
       "\n",
       "Specie  temperature  uvi    wd  wind-gust  wind-speed  \n",
       "0              22.0  NaN   NaN        4.7         5.1  \n",
       "1              23.0  NaN   NaN        NaN         4.6  \n",
       "2              22.8  NaN  45.0        4.0         1.3  \n",
       "3              11.4  NaN   NaN        2.6         1.0  \n",
       "4               7.5  NaN   NaN        3.7         1.0  \n",
       "\n",
       "[5 rows x 22 columns]"
      ]
     },
     "execution_count": 36,
     "metadata": {},
     "output_type": "execute_result"
    }
   ],
   "source": [
    "print(data_df_2022_Q2.shape)\n",
    "data_df_2022_Q2.head()"
   ]
  },
  {
   "cell_type": "code",
   "execution_count": 37,
   "id": "5b897416",
   "metadata": {
    "execution": {
     "iopub.execute_input": "2025-01-27T13:49:25.125057Z",
     "iopub.status.busy": "2025-01-27T13:49:25.124714Z",
     "iopub.status.idle": "2025-01-27T13:49:25.148754Z",
     "shell.execute_reply": "2025-01-27T13:49:25.147542Z"
    },
    "executionInfo": {
     "elapsed": 8,
     "status": "ok",
     "timestamp": 1734445424705,
     "user": {
      "displayName": "Tahmida Majumder",
      "userId": "15415648085337204568"
     },
     "user_tz": -480
    },
    "id": "1Oex3eQC5eqL",
    "outputId": "1d3cf39e-1740-47e0-bd36-82b17d176256",
    "papermill": {
     "duration": 0.068643,
     "end_time": "2025-01-27T13:49:25.150437",
     "exception": false,
     "start_time": "2025-01-27T13:49:25.081794",
     "status": "completed"
    },
    "tags": []
   },
   "outputs": [
    {
     "data": {
      "text/plain": [
       "Specie\n",
       "Date                 0\n",
       "Country              0\n",
       "City                 0\n",
       "aqi              55322\n",
       "co               20880\n",
       "dew              12576\n",
       "humidity            86\n",
       "mepaqi           56653\n",
       "neph             56555\n",
       "no2              10984\n",
       "o3               14660\n",
       "pm1              56486\n",
       "pm10              9916\n",
       "pm25              7691\n",
       "precipitation    50204\n",
       "pressure           358\n",
       "so2              18493\n",
       "temperature         69\n",
       "uvi              55772\n",
       "wd               52418\n",
       "wind-gust        24603\n",
       "wind-speed         707\n",
       "dtype: int64"
      ]
     },
     "execution_count": 37,
     "metadata": {},
     "output_type": "execute_result"
    }
   ],
   "source": [
    "data_df_2022_Q2.isnull().sum()"
   ]
  },
  {
   "cell_type": "code",
   "execution_count": null,
   "id": "ada635df",
   "metadata": {
    "id": "eg2MYloopQVg",
    "papermill": {
     "duration": 0.041383,
     "end_time": "2025-01-27T13:49:25.232887",
     "exception": false,
     "start_time": "2025-01-27T13:49:25.191504",
     "status": "completed"
    },
    "tags": []
   },
   "outputs": [],
   "source": []
  },
  {
   "cell_type": "markdown",
   "id": "ff3cb8c1",
   "metadata": {
    "id": "SOVFr2FF6Vbg",
    "papermill": {
     "duration": 0.042792,
     "end_time": "2025-01-27T13:49:25.317625",
     "exception": false,
     "start_time": "2025-01-27T13:49:25.274833",
     "status": "completed"
    },
    "tags": []
   },
   "source": [
    "# 2022_Q3"
   ]
  },
  {
   "cell_type": "code",
   "execution_count": 38,
   "id": "8de81e8b",
   "metadata": {
    "execution": {
     "iopub.execute_input": "2025-01-27T13:49:25.401156Z",
     "iopub.status.busy": "2025-01-27T13:49:25.400782Z",
     "iopub.status.idle": "2025-01-27T13:49:25.952388Z",
     "shell.execute_reply": "2025-01-27T13:49:25.950941Z"
    },
    "executionInfo": {
     "elapsed": 1126,
     "status": "ok",
     "timestamp": 1734445425824,
     "user": {
      "displayName": "Tahmida Majumder",
      "userId": "15415648085337204568"
     },
     "user_tz": -480
    },
    "id": "AgeZtu0d6Vbh",
    "outputId": "66b85b8c-f8b6-4ed4-98a7-a9b4035b976b",
    "papermill": {
     "duration": 0.595672,
     "end_time": "2025-01-27T13:49:25.954477",
     "exception": false,
     "start_time": "2025-01-27T13:49:25.358805",
     "status": "completed"
    },
    "tags": []
   },
   "outputs": [
    {
     "name": "stdout",
     "output_type": "stream",
     "text": [
      "(570466, 5)\n"
     ]
    },
    {
     "data": {
      "text/html": [
       "<div>\n",
       "<style scoped>\n",
       "    .dataframe tbody tr th:only-of-type {\n",
       "        vertical-align: middle;\n",
       "    }\n",
       "\n",
       "    .dataframe tbody tr th {\n",
       "        vertical-align: top;\n",
       "    }\n",
       "\n",
       "    .dataframe thead th {\n",
       "        text-align: right;\n",
       "    }\n",
       "</style>\n",
       "<table border=\"1\" class=\"dataframe\">\n",
       "  <thead>\n",
       "    <tr style=\"text-align: right;\">\n",
       "      <th></th>\n",
       "      <th>Date</th>\n",
       "      <th>Country</th>\n",
       "      <th>City</th>\n",
       "      <th>Specie</th>\n",
       "      <th>median</th>\n",
       "    </tr>\n",
       "  </thead>\n",
       "  <tbody>\n",
       "    <tr>\n",
       "      <th>0</th>\n",
       "      <td>7/14/2022</td>\n",
       "      <td>MX</td>\n",
       "      <td>Guadalajara</td>\n",
       "      <td>wind-speed</td>\n",
       "      <td>2.0</td>\n",
       "    </tr>\n",
       "    <tr>\n",
       "      <th>1</th>\n",
       "      <td>8/6/2022</td>\n",
       "      <td>MX</td>\n",
       "      <td>Guadalajara</td>\n",
       "      <td>wind-speed</td>\n",
       "      <td>2.0</td>\n",
       "    </tr>\n",
       "    <tr>\n",
       "      <th>2</th>\n",
       "      <td>8/25/2022</td>\n",
       "      <td>MX</td>\n",
       "      <td>Guadalajara</td>\n",
       "      <td>wind-speed</td>\n",
       "      <td>1.0</td>\n",
       "    </tr>\n",
       "    <tr>\n",
       "      <th>3</th>\n",
       "      <td>8/29/2022</td>\n",
       "      <td>MX</td>\n",
       "      <td>Guadalajara</td>\n",
       "      <td>wind-speed</td>\n",
       "      <td>1.6</td>\n",
       "    </tr>\n",
       "    <tr>\n",
       "      <th>4</th>\n",
       "      <td>8/31/2022</td>\n",
       "      <td>MX</td>\n",
       "      <td>Guadalajara</td>\n",
       "      <td>wind-speed</td>\n",
       "      <td>1.1</td>\n",
       "    </tr>\n",
       "    <tr>\n",
       "      <th>5</th>\n",
       "      <td>9/5/2022</td>\n",
       "      <td>MX</td>\n",
       "      <td>Guadalajara</td>\n",
       "      <td>wind-speed</td>\n",
       "      <td>2.0</td>\n",
       "    </tr>\n",
       "    <tr>\n",
       "      <th>6</th>\n",
       "      <td>6/30/2022</td>\n",
       "      <td>MX</td>\n",
       "      <td>Guadalajara</td>\n",
       "      <td>wind-speed</td>\n",
       "      <td>1.0</td>\n",
       "    </tr>\n",
       "    <tr>\n",
       "      <th>7</th>\n",
       "      <td>7/30/2022</td>\n",
       "      <td>MX</td>\n",
       "      <td>Guadalajara</td>\n",
       "      <td>wind-speed</td>\n",
       "      <td>1.1</td>\n",
       "    </tr>\n",
       "    <tr>\n",
       "      <th>8</th>\n",
       "      <td>8/9/2022</td>\n",
       "      <td>MX</td>\n",
       "      <td>Guadalajara</td>\n",
       "      <td>wind-speed</td>\n",
       "      <td>1.5</td>\n",
       "    </tr>\n",
       "    <tr>\n",
       "      <th>9</th>\n",
       "      <td>8/15/2022</td>\n",
       "      <td>MX</td>\n",
       "      <td>Guadalajara</td>\n",
       "      <td>wind-speed</td>\n",
       "      <td>1.3</td>\n",
       "    </tr>\n",
       "  </tbody>\n",
       "</table>\n",
       "</div>"
      ],
      "text/plain": [
       "        Date Country         City      Specie  median\n",
       "0  7/14/2022      MX  Guadalajara  wind-speed     2.0\n",
       "1   8/6/2022      MX  Guadalajara  wind-speed     2.0\n",
       "2  8/25/2022      MX  Guadalajara  wind-speed     1.0\n",
       "3  8/29/2022      MX  Guadalajara  wind-speed     1.6\n",
       "4  8/31/2022      MX  Guadalajara  wind-speed     1.1\n",
       "5   9/5/2022      MX  Guadalajara  wind-speed     2.0\n",
       "6  6/30/2022      MX  Guadalajara  wind-speed     1.0\n",
       "7  7/30/2022      MX  Guadalajara  wind-speed     1.1\n",
       "8   8/9/2022      MX  Guadalajara  wind-speed     1.5\n",
       "9  8/15/2022      MX  Guadalajara  wind-speed     1.3"
      ]
     },
     "execution_count": 38,
     "metadata": {},
     "output_type": "execute_result"
    }
   ],
   "source": [
    "# Loading the data\n",
    "raw_data_2022_Q3 = pd.read_csv(r\"/kaggle/input/complete-raw-median/waqi-covid19-airqualitydata-2022Q3.csv\")\n",
    "\n",
    "# print the shape\n",
    "print(raw_data_2022_Q3.shape)\n",
    "\n",
    "#runs the first 5 rows\n",
    "raw_data_2022_Q3.head(10)"
   ]
  },
  {
   "cell_type": "code",
   "execution_count": 39,
   "id": "fa04bf33",
   "metadata": {
    "execution": {
     "iopub.execute_input": "2025-01-27T13:49:26.039064Z",
     "iopub.status.busy": "2025-01-27T13:49:26.038713Z",
     "iopub.status.idle": "2025-01-27T13:49:26.131258Z",
     "shell.execute_reply": "2025-01-27T13:49:26.130175Z"
    },
    "id": "yAJNENbK6Vbi",
    "papermill": {
     "duration": 0.137203,
     "end_time": "2025-01-27T13:49:26.133234",
     "exception": false,
     "start_time": "2025-01-27T13:49:25.996031",
     "status": "completed"
    },
    "tags": []
   },
   "outputs": [],
   "source": [
    "# Convert 'Date' to datetime\n",
    "raw_data_2022_Q3['Date'] = pd.to_datetime(raw_data_2022_Q3['Date'])"
   ]
  },
  {
   "cell_type": "code",
   "execution_count": 40,
   "id": "e956d338",
   "metadata": {
    "execution": {
     "iopub.execute_input": "2025-01-27T13:49:26.218816Z",
     "iopub.status.busy": "2025-01-27T13:49:26.218471Z",
     "iopub.status.idle": "2025-01-27T13:49:26.225031Z",
     "shell.execute_reply": "2025-01-27T13:49:26.223777Z"
    },
    "executionInfo": {
     "elapsed": 8,
     "status": "ok",
     "timestamp": 1734445425824,
     "user": {
      "displayName": "Tahmida Majumder",
      "userId": "15415648085337204568"
     },
     "user_tz": -480
    },
    "id": "dDim3zDh6Vbi",
    "outputId": "11d63b59-b554-40b4-9752-62006ec0e248",
    "papermill": {
     "duration": 0.052043,
     "end_time": "2025-01-27T13:49:26.226840",
     "exception": false,
     "start_time": "2025-01-27T13:49:26.174797",
     "status": "completed"
    },
    "tags": []
   },
   "outputs": [
    {
     "data": {
      "text/plain": [
       "(570466, 5)"
      ]
     },
     "execution_count": 40,
     "metadata": {},
     "output_type": "execute_result"
    }
   ],
   "source": [
    "raw_data_2022_Q3.shape"
   ]
  },
  {
   "cell_type": "code",
   "execution_count": 41,
   "id": "e43418a6",
   "metadata": {
    "execution": {
     "iopub.execute_input": "2025-01-27T13:49:26.315476Z",
     "iopub.status.busy": "2025-01-27T13:49:26.315058Z",
     "iopub.status.idle": "2025-01-27T13:49:26.754590Z",
     "shell.execute_reply": "2025-01-27T13:49:26.753336Z"
    },
    "id": "g5o4tt6R6Vbj",
    "papermill": {
     "duration": 0.486118,
     "end_time": "2025-01-27T13:49:26.756575",
     "exception": false,
     "start_time": "2025-01-27T13:49:26.270457",
     "status": "completed"
    },
    "tags": []
   },
   "outputs": [],
   "source": [
    "# Pivot the data\n",
    "data_df_2022_Q3 = raw_data_2022_Q3.pivot_table(\n",
    "    index=['Date', 'Country', 'City'],  # Grouping columns\n",
    "    columns='Specie',                  # Unique values become columns\n",
    "    values='median',                   # Values to aggregate\n",
    "    aggfunc='mean'                     # Aggregation function\n",
    ").reset_index()"
   ]
  },
  {
   "cell_type": "code",
   "execution_count": 42,
   "id": "1790e1ce",
   "metadata": {
    "execution": {
     "iopub.execute_input": "2025-01-27T13:49:26.847321Z",
     "iopub.status.busy": "2025-01-27T13:49:26.846901Z",
     "iopub.status.idle": "2025-01-27T13:49:26.873165Z",
     "shell.execute_reply": "2025-01-27T13:49:26.872150Z"
    },
    "executionInfo": {
     "elapsed": 11,
     "status": "ok",
     "timestamp": 1734445426240,
     "user": {
      "displayName": "Tahmida Majumder",
      "userId": "15415648085337204568"
     },
     "user_tz": -480
    },
    "id": "ukZIcdZa6Vbj",
    "outputId": "007240c0-154f-438a-de96-d5338d934cdf",
    "papermill": {
     "duration": 0.074296,
     "end_time": "2025-01-27T13:49:26.874861",
     "exception": false,
     "start_time": "2025-01-27T13:49:26.800565",
     "status": "completed"
    },
    "tags": []
   },
   "outputs": [
    {
     "name": "stdout",
     "output_type": "stream",
     "text": [
      "(56219, 22)\n"
     ]
    },
    {
     "data": {
      "text/html": [
       "<div>\n",
       "<style scoped>\n",
       "    .dataframe tbody tr th:only-of-type {\n",
       "        vertical-align: middle;\n",
       "    }\n",
       "\n",
       "    .dataframe tbody tr th {\n",
       "        vertical-align: top;\n",
       "    }\n",
       "\n",
       "    .dataframe thead th {\n",
       "        text-align: right;\n",
       "    }\n",
       "</style>\n",
       "<table border=\"1\" class=\"dataframe\">\n",
       "  <thead>\n",
       "    <tr style=\"text-align: right;\">\n",
       "      <th>Specie</th>\n",
       "      <th>Date</th>\n",
       "      <th>Country</th>\n",
       "      <th>City</th>\n",
       "      <th>aqi</th>\n",
       "      <th>co</th>\n",
       "      <th>dew</th>\n",
       "      <th>humidity</th>\n",
       "      <th>mepaqi</th>\n",
       "      <th>neph</th>\n",
       "      <th>no2</th>\n",
       "      <th>...</th>\n",
       "      <th>pm10</th>\n",
       "      <th>pm25</th>\n",
       "      <th>precipitation</th>\n",
       "      <th>pressure</th>\n",
       "      <th>so2</th>\n",
       "      <th>temperature</th>\n",
       "      <th>uvi</th>\n",
       "      <th>wd</th>\n",
       "      <th>wind-gust</th>\n",
       "      <th>wind-speed</th>\n",
       "    </tr>\n",
       "  </thead>\n",
       "  <tbody>\n",
       "    <tr>\n",
       "      <th>0</th>\n",
       "      <td>2022-06-27</td>\n",
       "      <td>AE</td>\n",
       "      <td>Abu Dhabi</td>\n",
       "      <td>NaN</td>\n",
       "      <td>0.1</td>\n",
       "      <td>27.0</td>\n",
       "      <td>74.0</td>\n",
       "      <td>NaN</td>\n",
       "      <td>NaN</td>\n",
       "      <td>6.9</td>\n",
       "      <td>...</td>\n",
       "      <td>107.0</td>\n",
       "      <td>139.0</td>\n",
       "      <td>NaN</td>\n",
       "      <td>996.0</td>\n",
       "      <td>4.1</td>\n",
       "      <td>33.0</td>\n",
       "      <td>NaN</td>\n",
       "      <td>NaN</td>\n",
       "      <td>0.9</td>\n",
       "      <td>3.0</td>\n",
       "    </tr>\n",
       "    <tr>\n",
       "      <th>1</th>\n",
       "      <td>2022-06-27</td>\n",
       "      <td>AE</td>\n",
       "      <td>Dubai</td>\n",
       "      <td>NaN</td>\n",
       "      <td>NaN</td>\n",
       "      <td>24.0</td>\n",
       "      <td>49.0</td>\n",
       "      <td>NaN</td>\n",
       "      <td>NaN</td>\n",
       "      <td>NaN</td>\n",
       "      <td>...</td>\n",
       "      <td>NaN</td>\n",
       "      <td>203.0</td>\n",
       "      <td>NaN</td>\n",
       "      <td>996.0</td>\n",
       "      <td>NaN</td>\n",
       "      <td>36.0</td>\n",
       "      <td>NaN</td>\n",
       "      <td>NaN</td>\n",
       "      <td>NaN</td>\n",
       "      <td>4.6</td>\n",
       "    </tr>\n",
       "    <tr>\n",
       "      <th>2</th>\n",
       "      <td>2022-06-27</td>\n",
       "      <td>AR</td>\n",
       "      <td>Buenos Aires</td>\n",
       "      <td>NaN</td>\n",
       "      <td>2.0</td>\n",
       "      <td>5.0</td>\n",
       "      <td>75.5</td>\n",
       "      <td>NaN</td>\n",
       "      <td>NaN</td>\n",
       "      <td>NaN</td>\n",
       "      <td>...</td>\n",
       "      <td>10.0</td>\n",
       "      <td>53.0</td>\n",
       "      <td>NaN</td>\n",
       "      <td>1016.0</td>\n",
       "      <td>3.1</td>\n",
       "      <td>10.3</td>\n",
       "      <td>NaN</td>\n",
       "      <td>270.0</td>\n",
       "      <td>1.3</td>\n",
       "      <td>1.5</td>\n",
       "    </tr>\n",
       "    <tr>\n",
       "      <th>3</th>\n",
       "      <td>2022-06-27</td>\n",
       "      <td>AT</td>\n",
       "      <td>Graz</td>\n",
       "      <td>NaN</td>\n",
       "      <td>0.1</td>\n",
       "      <td>17.6</td>\n",
       "      <td>48.6</td>\n",
       "      <td>NaN</td>\n",
       "      <td>NaN</td>\n",
       "      <td>5.1</td>\n",
       "      <td>...</td>\n",
       "      <td>20.0</td>\n",
       "      <td>34.0</td>\n",
       "      <td>NaN</td>\n",
       "      <td>972.7</td>\n",
       "      <td>1.1</td>\n",
       "      <td>26.7</td>\n",
       "      <td>NaN</td>\n",
       "      <td>NaN</td>\n",
       "      <td>4.1</td>\n",
       "      <td>2.0</td>\n",
       "    </tr>\n",
       "    <tr>\n",
       "      <th>4</th>\n",
       "      <td>2022-06-27</td>\n",
       "      <td>AT</td>\n",
       "      <td>Innsbruck</td>\n",
       "      <td>NaN</td>\n",
       "      <td>0.1</td>\n",
       "      <td>13.5</td>\n",
       "      <td>52.7</td>\n",
       "      <td>NaN</td>\n",
       "      <td>NaN</td>\n",
       "      <td>4.6</td>\n",
       "      <td>...</td>\n",
       "      <td>20.0</td>\n",
       "      <td>NaN</td>\n",
       "      <td>NaN</td>\n",
       "      <td>1013.0</td>\n",
       "      <td>0.6</td>\n",
       "      <td>25.0</td>\n",
       "      <td>NaN</td>\n",
       "      <td>NaN</td>\n",
       "      <td>13.0</td>\n",
       "      <td>5.0</td>\n",
       "    </tr>\n",
       "  </tbody>\n",
       "</table>\n",
       "<p>5 rows × 22 columns</p>\n",
       "</div>"
      ],
      "text/plain": [
       "Specie       Date Country          City  aqi   co   dew  humidity  mepaqi  \\\n",
       "0      2022-06-27      AE     Abu Dhabi  NaN  0.1  27.0      74.0     NaN   \n",
       "1      2022-06-27      AE         Dubai  NaN  NaN  24.0      49.0     NaN   \n",
       "2      2022-06-27      AR  Buenos Aires  NaN  2.0   5.0      75.5     NaN   \n",
       "3      2022-06-27      AT          Graz  NaN  0.1  17.6      48.6     NaN   \n",
       "4      2022-06-27      AT     Innsbruck  NaN  0.1  13.5      52.7     NaN   \n",
       "\n",
       "Specie  neph  no2  ...   pm10   pm25  precipitation  pressure  so2  \\\n",
       "0        NaN  6.9  ...  107.0  139.0            NaN     996.0  4.1   \n",
       "1        NaN  NaN  ...    NaN  203.0            NaN     996.0  NaN   \n",
       "2        NaN  NaN  ...   10.0   53.0            NaN    1016.0  3.1   \n",
       "3        NaN  5.1  ...   20.0   34.0            NaN     972.7  1.1   \n",
       "4        NaN  4.6  ...   20.0    NaN            NaN    1013.0  0.6   \n",
       "\n",
       "Specie  temperature  uvi     wd  wind-gust  wind-speed  \n",
       "0              33.0  NaN    NaN        0.9         3.0  \n",
       "1              36.0  NaN    NaN        NaN         4.6  \n",
       "2              10.3  NaN  270.0        1.3         1.5  \n",
       "3              26.7  NaN    NaN        4.1         2.0  \n",
       "4              25.0  NaN    NaN       13.0         5.0  \n",
       "\n",
       "[5 rows x 22 columns]"
      ]
     },
     "execution_count": 42,
     "metadata": {},
     "output_type": "execute_result"
    }
   ],
   "source": [
    "print(data_df_2022_Q3.shape)\n",
    "data_df_2022_Q3.head()"
   ]
  },
  {
   "cell_type": "code",
   "execution_count": 43,
   "id": "2d579d2c",
   "metadata": {
    "execution": {
     "iopub.execute_input": "2025-01-27T13:49:27.021739Z",
     "iopub.status.busy": "2025-01-27T13:49:27.021327Z",
     "iopub.status.idle": "2025-01-27T13:49:27.045032Z",
     "shell.execute_reply": "2025-01-27T13:49:27.044062Z"
    },
    "executionInfo": {
     "elapsed": 7,
     "status": "ok",
     "timestamp": 1734445426240,
     "user": {
      "displayName": "Tahmida Majumder",
      "userId": "15415648085337204568"
     },
     "user_tz": -480
    },
    "id": "MySkp3RM6Vbj",
    "outputId": "6a76951d-4879-41e5-a327-7b4cd882bef3",
    "papermill": {
     "duration": 0.128286,
     "end_time": "2025-01-27T13:49:27.046893",
     "exception": false,
     "start_time": "2025-01-27T13:49:26.918607",
     "status": "completed"
    },
    "tags": []
   },
   "outputs": [
    {
     "data": {
      "text/plain": [
       "Specie\n",
       "Date                 0\n",
       "Country              0\n",
       "City                 0\n",
       "aqi              54757\n",
       "co               20304\n",
       "dew              12264\n",
       "humidity            85\n",
       "mepaqi           56121\n",
       "neph             56023\n",
       "no2              10326\n",
       "o3               13608\n",
       "pm1              56023\n",
       "pm10              9727\n",
       "pm25              7383\n",
       "precipitation    48775\n",
       "pressure           337\n",
       "so2              18086\n",
       "temperature         45\n",
       "uvi              55241\n",
       "wd               52204\n",
       "wind-gust        25319\n",
       "wind-speed        1067\n",
       "dtype: int64"
      ]
     },
     "execution_count": 43,
     "metadata": {},
     "output_type": "execute_result"
    }
   ],
   "source": [
    "data_df_2022_Q3.isnull().sum()"
   ]
  },
  {
   "cell_type": "code",
   "execution_count": null,
   "id": "9220f76b",
   "metadata": {
    "id": "I4MMewJjpQYF",
    "papermill": {
     "duration": 0.041412,
     "end_time": "2025-01-27T13:49:27.133240",
     "exception": false,
     "start_time": "2025-01-27T13:49:27.091828",
     "status": "completed"
    },
    "tags": []
   },
   "outputs": [],
   "source": []
  },
  {
   "cell_type": "markdown",
   "id": "5f73c41e",
   "metadata": {
    "id": "zI8XTgoj6qcm",
    "papermill": {
     "duration": 0.042198,
     "end_time": "2025-01-27T13:49:27.216962",
     "exception": false,
     "start_time": "2025-01-27T13:49:27.174764",
     "status": "completed"
    },
    "tags": []
   },
   "source": [
    "# 2022_Q4"
   ]
  },
  {
   "cell_type": "code",
   "execution_count": 44,
   "id": "eb5cf9ef",
   "metadata": {
    "execution": {
     "iopub.execute_input": "2025-01-27T13:49:27.303885Z",
     "iopub.status.busy": "2025-01-27T13:49:27.303546Z",
     "iopub.status.idle": "2025-01-27T13:49:27.809806Z",
     "shell.execute_reply": "2025-01-27T13:49:27.808740Z"
    },
    "executionInfo": {
     "elapsed": 1222,
     "status": "ok",
     "timestamp": 1734445427456,
     "user": {
      "displayName": "Tahmida Majumder",
      "userId": "15415648085337204568"
     },
     "user_tz": -480
    },
    "id": "YNPmqfXx6qcm",
    "outputId": "3a06361b-d30d-46bf-d1b5-ff60ff1de083",
    "papermill": {
     "duration": 0.553074,
     "end_time": "2025-01-27T13:49:27.811592",
     "exception": false,
     "start_time": "2025-01-27T13:49:27.258518",
     "status": "completed"
    },
    "tags": []
   },
   "outputs": [
    {
     "name": "stdout",
     "output_type": "stream",
     "text": [
      "(551341, 5)\n"
     ]
    },
    {
     "data": {
      "text/html": [
       "<div>\n",
       "<style scoped>\n",
       "    .dataframe tbody tr th:only-of-type {\n",
       "        vertical-align: middle;\n",
       "    }\n",
       "\n",
       "    .dataframe tbody tr th {\n",
       "        vertical-align: top;\n",
       "    }\n",
       "\n",
       "    .dataframe thead th {\n",
       "        text-align: right;\n",
       "    }\n",
       "</style>\n",
       "<table border=\"1\" class=\"dataframe\">\n",
       "  <thead>\n",
       "    <tr style=\"text-align: right;\">\n",
       "      <th></th>\n",
       "      <th>Date</th>\n",
       "      <th>Country</th>\n",
       "      <th>City</th>\n",
       "      <th>Specie</th>\n",
       "      <th>median</th>\n",
       "    </tr>\n",
       "  </thead>\n",
       "  <tbody>\n",
       "    <tr>\n",
       "      <th>0</th>\n",
       "      <td>10/20/2022</td>\n",
       "      <td>GB</td>\n",
       "      <td>Edinburgh</td>\n",
       "      <td>humidity</td>\n",
       "      <td>94.2</td>\n",
       "    </tr>\n",
       "    <tr>\n",
       "      <th>1</th>\n",
       "      <td>11/2/2022</td>\n",
       "      <td>GB</td>\n",
       "      <td>Edinburgh</td>\n",
       "      <td>humidity</td>\n",
       "      <td>84.0</td>\n",
       "    </tr>\n",
       "    <tr>\n",
       "      <th>2</th>\n",
       "      <td>11/8/2022</td>\n",
       "      <td>GB</td>\n",
       "      <td>Edinburgh</td>\n",
       "      <td>humidity</td>\n",
       "      <td>81.0</td>\n",
       "    </tr>\n",
       "    <tr>\n",
       "      <th>3</th>\n",
       "      <td>11/13/2022</td>\n",
       "      <td>GB</td>\n",
       "      <td>Edinburgh</td>\n",
       "      <td>humidity</td>\n",
       "      <td>91.3</td>\n",
       "    </tr>\n",
       "    <tr>\n",
       "      <th>4</th>\n",
       "      <td>11/19/2022</td>\n",
       "      <td>GB</td>\n",
       "      <td>Edinburgh</td>\n",
       "      <td>humidity</td>\n",
       "      <td>91.4</td>\n",
       "    </tr>\n",
       "    <tr>\n",
       "      <th>5</th>\n",
       "      <td>11/20/2022</td>\n",
       "      <td>GB</td>\n",
       "      <td>Edinburgh</td>\n",
       "      <td>humidity</td>\n",
       "      <td>88.0</td>\n",
       "    </tr>\n",
       "    <tr>\n",
       "      <th>6</th>\n",
       "      <td>12/4/2022</td>\n",
       "      <td>GB</td>\n",
       "      <td>Edinburgh</td>\n",
       "      <td>humidity</td>\n",
       "      <td>89.8</td>\n",
       "    </tr>\n",
       "    <tr>\n",
       "      <th>7</th>\n",
       "      <td>12/6/2022</td>\n",
       "      <td>GB</td>\n",
       "      <td>Edinburgh</td>\n",
       "      <td>humidity</td>\n",
       "      <td>84.0</td>\n",
       "    </tr>\n",
       "    <tr>\n",
       "      <th>8</th>\n",
       "      <td>12/13/2022</td>\n",
       "      <td>GB</td>\n",
       "      <td>Edinburgh</td>\n",
       "      <td>humidity</td>\n",
       "      <td>92.0</td>\n",
       "    </tr>\n",
       "    <tr>\n",
       "      <th>9</th>\n",
       "      <td>12/15/2022</td>\n",
       "      <td>GB</td>\n",
       "      <td>Edinburgh</td>\n",
       "      <td>humidity</td>\n",
       "      <td>83.2</td>\n",
       "    </tr>\n",
       "  </tbody>\n",
       "</table>\n",
       "</div>"
      ],
      "text/plain": [
       "         Date Country       City    Specie  median\n",
       "0  10/20/2022      GB  Edinburgh  humidity    94.2\n",
       "1   11/2/2022      GB  Edinburgh  humidity    84.0\n",
       "2   11/8/2022      GB  Edinburgh  humidity    81.0\n",
       "3  11/13/2022      GB  Edinburgh  humidity    91.3\n",
       "4  11/19/2022      GB  Edinburgh  humidity    91.4\n",
       "5  11/20/2022      GB  Edinburgh  humidity    88.0\n",
       "6   12/4/2022      GB  Edinburgh  humidity    89.8\n",
       "7   12/6/2022      GB  Edinburgh  humidity    84.0\n",
       "8  12/13/2022      GB  Edinburgh  humidity    92.0\n",
       "9  12/15/2022      GB  Edinburgh  humidity    83.2"
      ]
     },
     "execution_count": 44,
     "metadata": {},
     "output_type": "execute_result"
    }
   ],
   "source": [
    "# Loading the data\n",
    "raw_data_2022_Q4 = pd.read_csv(r\"/kaggle/input/complete-raw-median/waqi-covid19-airqualitydata-2022Q4.csv\")\n",
    "\n",
    "# print the shape\n",
    "print(raw_data_2022_Q4.shape)\n",
    "\n",
    "#runs the first 5 rows\n",
    "raw_data_2022_Q4.head(10)"
   ]
  },
  {
   "cell_type": "code",
   "execution_count": 45,
   "id": "d557f741",
   "metadata": {
    "execution": {
     "iopub.execute_input": "2025-01-27T13:49:27.901676Z",
     "iopub.status.busy": "2025-01-27T13:49:27.901254Z",
     "iopub.status.idle": "2025-01-27T13:49:27.995411Z",
     "shell.execute_reply": "2025-01-27T13:49:27.994421Z"
    },
    "id": "8AsvhPlK6qcn",
    "papermill": {
     "duration": 0.143087,
     "end_time": "2025-01-27T13:49:27.997255",
     "exception": false,
     "start_time": "2025-01-27T13:49:27.854168",
     "status": "completed"
    },
    "tags": []
   },
   "outputs": [],
   "source": [
    "# Convert 'Date' to datetime\n",
    "raw_data_2022_Q4['Date'] = pd.to_datetime(raw_data_2022_Q4['Date'])"
   ]
  },
  {
   "cell_type": "code",
   "execution_count": 46,
   "id": "afd856fe",
   "metadata": {
    "execution": {
     "iopub.execute_input": "2025-01-27T13:49:28.085792Z",
     "iopub.status.busy": "2025-01-27T13:49:28.085422Z",
     "iopub.status.idle": "2025-01-27T13:49:28.091336Z",
     "shell.execute_reply": "2025-01-27T13:49:28.090355Z"
    },
    "executionInfo": {
     "elapsed": 9,
     "status": "ok",
     "timestamp": 1734445427456,
     "user": {
      "displayName": "Tahmida Majumder",
      "userId": "15415648085337204568"
     },
     "user_tz": -480
    },
    "id": "K3Tj8lJH6qcn",
    "outputId": "9bfdfb56-8669-469d-950d-42d4c41edc5d",
    "papermill": {
     "duration": 0.052377,
     "end_time": "2025-01-27T13:49:28.092827",
     "exception": false,
     "start_time": "2025-01-27T13:49:28.040450",
     "status": "completed"
    },
    "tags": []
   },
   "outputs": [
    {
     "data": {
      "text/plain": [
       "(551341, 5)"
      ]
     },
     "execution_count": 46,
     "metadata": {},
     "output_type": "execute_result"
    }
   ],
   "source": [
    "raw_data_2022_Q4.shape"
   ]
  },
  {
   "cell_type": "code",
   "execution_count": 47,
   "id": "cfc5bafc",
   "metadata": {
    "execution": {
     "iopub.execute_input": "2025-01-27T13:49:28.180865Z",
     "iopub.status.busy": "2025-01-27T13:49:28.180454Z",
     "iopub.status.idle": "2025-01-27T13:49:28.612337Z",
     "shell.execute_reply": "2025-01-27T13:49:28.611078Z"
    },
    "id": "IESMeOdC6qcn",
    "papermill": {
     "duration": 0.477405,
     "end_time": "2025-01-27T13:49:28.614501",
     "exception": false,
     "start_time": "2025-01-27T13:49:28.137096",
     "status": "completed"
    },
    "tags": []
   },
   "outputs": [],
   "source": [
    "# Pivot the data\n",
    "data_df_2022_Q4 = raw_data_2022_Q4.pivot_table(\n",
    "    index=['Date', 'Country', 'City'],  # Grouping columns\n",
    "    columns='Specie',                  # Unique values become columns\n",
    "    values='median',                   # Values to aggregate\n",
    "    aggfunc='mean'                     # Aggregation function\n",
    ").reset_index()"
   ]
  },
  {
   "cell_type": "code",
   "execution_count": 48,
   "id": "6b93ba6c",
   "metadata": {
    "execution": {
     "iopub.execute_input": "2025-01-27T13:49:28.705922Z",
     "iopub.status.busy": "2025-01-27T13:49:28.705564Z",
     "iopub.status.idle": "2025-01-27T13:49:28.734338Z",
     "shell.execute_reply": "2025-01-27T13:49:28.733128Z"
    },
    "executionInfo": {
     "elapsed": 11,
     "status": "ok",
     "timestamp": 1734445428523,
     "user": {
      "displayName": "Tahmida Majumder",
      "userId": "15415648085337204568"
     },
     "user_tz": -480
    },
    "id": "3WEISQiN6qcn",
    "outputId": "f23c8ec4-39e3-4a08-f170-0b056271a9fc",
    "papermill": {
     "duration": 0.076042,
     "end_time": "2025-01-27T13:49:28.736062",
     "exception": false,
     "start_time": "2025-01-27T13:49:28.660020",
     "status": "completed"
    },
    "tags": []
   },
   "outputs": [
    {
     "name": "stdout",
     "output_type": "stream",
     "text": [
      "(54530, 22)\n"
     ]
    },
    {
     "data": {
      "text/html": [
       "<div>\n",
       "<style scoped>\n",
       "    .dataframe tbody tr th:only-of-type {\n",
       "        vertical-align: middle;\n",
       "    }\n",
       "\n",
       "    .dataframe tbody tr th {\n",
       "        vertical-align: top;\n",
       "    }\n",
       "\n",
       "    .dataframe thead th {\n",
       "        text-align: right;\n",
       "    }\n",
       "</style>\n",
       "<table border=\"1\" class=\"dataframe\">\n",
       "  <thead>\n",
       "    <tr style=\"text-align: right;\">\n",
       "      <th>Specie</th>\n",
       "      <th>Date</th>\n",
       "      <th>Country</th>\n",
       "      <th>City</th>\n",
       "      <th>aqi</th>\n",
       "      <th>co</th>\n",
       "      <th>dew</th>\n",
       "      <th>humidity</th>\n",
       "      <th>mepaqi</th>\n",
       "      <th>neph</th>\n",
       "      <th>no2</th>\n",
       "      <th>...</th>\n",
       "      <th>pm10</th>\n",
       "      <th>pm25</th>\n",
       "      <th>precipitation</th>\n",
       "      <th>pressure</th>\n",
       "      <th>so2</th>\n",
       "      <th>temperature</th>\n",
       "      <th>uvi</th>\n",
       "      <th>wd</th>\n",
       "      <th>wind-gust</th>\n",
       "      <th>wind-speed</th>\n",
       "    </tr>\n",
       "  </thead>\n",
       "  <tbody>\n",
       "    <tr>\n",
       "      <th>0</th>\n",
       "      <td>2022-09-26</td>\n",
       "      <td>AE</td>\n",
       "      <td>Abu Dhabi</td>\n",
       "      <td>NaN</td>\n",
       "      <td>0.1</td>\n",
       "      <td>27.0</td>\n",
       "      <td>79.0</td>\n",
       "      <td>NaN</td>\n",
       "      <td>NaN</td>\n",
       "      <td>6.5</td>\n",
       "      <td>...</td>\n",
       "      <td>110.0</td>\n",
       "      <td>NaN</td>\n",
       "      <td>NaN</td>\n",
       "      <td>1005.0</td>\n",
       "      <td>2.3</td>\n",
       "      <td>32.0</td>\n",
       "      <td>NaN</td>\n",
       "      <td>NaN</td>\n",
       "      <td>2.5</td>\n",
       "      <td>2.5</td>\n",
       "    </tr>\n",
       "    <tr>\n",
       "      <th>1</th>\n",
       "      <td>2022-09-26</td>\n",
       "      <td>AE</td>\n",
       "      <td>Dubai</td>\n",
       "      <td>NaN</td>\n",
       "      <td>NaN</td>\n",
       "      <td>26.0</td>\n",
       "      <td>66.0</td>\n",
       "      <td>NaN</td>\n",
       "      <td>NaN</td>\n",
       "      <td>NaN</td>\n",
       "      <td>...</td>\n",
       "      <td>NaN</td>\n",
       "      <td>186.0</td>\n",
       "      <td>NaN</td>\n",
       "      <td>1004.0</td>\n",
       "      <td>NaN</td>\n",
       "      <td>33.0</td>\n",
       "      <td>NaN</td>\n",
       "      <td>NaN</td>\n",
       "      <td>NaN</td>\n",
       "      <td>3.0</td>\n",
       "    </tr>\n",
       "    <tr>\n",
       "      <th>2</th>\n",
       "      <td>2022-09-26</td>\n",
       "      <td>AR</td>\n",
       "      <td>Buenos Aires</td>\n",
       "      <td>NaN</td>\n",
       "      <td>5.3</td>\n",
       "      <td>12.9</td>\n",
       "      <td>82.9</td>\n",
       "      <td>NaN</td>\n",
       "      <td>NaN</td>\n",
       "      <td>NaN</td>\n",
       "      <td>...</td>\n",
       "      <td>35.0</td>\n",
       "      <td>9.0</td>\n",
       "      <td>NaN</td>\n",
       "      <td>1011.3</td>\n",
       "      <td>4.1</td>\n",
       "      <td>16.6</td>\n",
       "      <td>NaN</td>\n",
       "      <td>67.5</td>\n",
       "      <td>NaN</td>\n",
       "      <td>2.0</td>\n",
       "    </tr>\n",
       "    <tr>\n",
       "      <th>3</th>\n",
       "      <td>2022-09-26</td>\n",
       "      <td>AT</td>\n",
       "      <td>Graz</td>\n",
       "      <td>NaN</td>\n",
       "      <td>0.1</td>\n",
       "      <td>11.4</td>\n",
       "      <td>90.6</td>\n",
       "      <td>NaN</td>\n",
       "      <td>NaN</td>\n",
       "      <td>8.3</td>\n",
       "      <td>...</td>\n",
       "      <td>10.0</td>\n",
       "      <td>30.0</td>\n",
       "      <td>99.2</td>\n",
       "      <td>964.7</td>\n",
       "      <td>1.1</td>\n",
       "      <td>12.9</td>\n",
       "      <td>NaN</td>\n",
       "      <td>NaN</td>\n",
       "      <td>2.6</td>\n",
       "      <td>1.0</td>\n",
       "    </tr>\n",
       "    <tr>\n",
       "      <th>4</th>\n",
       "      <td>2022-09-26</td>\n",
       "      <td>AT</td>\n",
       "      <td>Innsbruck</td>\n",
       "      <td>NaN</td>\n",
       "      <td>0.1</td>\n",
       "      <td>8.6</td>\n",
       "      <td>96.5</td>\n",
       "      <td>NaN</td>\n",
       "      <td>NaN</td>\n",
       "      <td>6.0</td>\n",
       "      <td>...</td>\n",
       "      <td>6.0</td>\n",
       "      <td>NaN</td>\n",
       "      <td>99.0</td>\n",
       "      <td>938.6</td>\n",
       "      <td>0.6</td>\n",
       "      <td>10.8</td>\n",
       "      <td>NaN</td>\n",
       "      <td>NaN</td>\n",
       "      <td>1.0</td>\n",
       "      <td>2.0</td>\n",
       "    </tr>\n",
       "  </tbody>\n",
       "</table>\n",
       "<p>5 rows × 22 columns</p>\n",
       "</div>"
      ],
      "text/plain": [
       "Specie       Date Country          City  aqi   co   dew  humidity  mepaqi  \\\n",
       "0      2022-09-26      AE     Abu Dhabi  NaN  0.1  27.0      79.0     NaN   \n",
       "1      2022-09-26      AE         Dubai  NaN  NaN  26.0      66.0     NaN   \n",
       "2      2022-09-26      AR  Buenos Aires  NaN  5.3  12.9      82.9     NaN   \n",
       "3      2022-09-26      AT          Graz  NaN  0.1  11.4      90.6     NaN   \n",
       "4      2022-09-26      AT     Innsbruck  NaN  0.1   8.6      96.5     NaN   \n",
       "\n",
       "Specie  neph  no2  ...   pm10   pm25  precipitation  pressure  so2  \\\n",
       "0        NaN  6.5  ...  110.0    NaN            NaN    1005.0  2.3   \n",
       "1        NaN  NaN  ...    NaN  186.0            NaN    1004.0  NaN   \n",
       "2        NaN  NaN  ...   35.0    9.0            NaN    1011.3  4.1   \n",
       "3        NaN  8.3  ...   10.0   30.0           99.2     964.7  1.1   \n",
       "4        NaN  6.0  ...    6.0    NaN           99.0     938.6  0.6   \n",
       "\n",
       "Specie  temperature  uvi    wd  wind-gust  wind-speed  \n",
       "0              32.0  NaN   NaN        2.5         2.5  \n",
       "1              33.0  NaN   NaN        NaN         3.0  \n",
       "2              16.6  NaN  67.5        NaN         2.0  \n",
       "3              12.9  NaN   NaN        2.6         1.0  \n",
       "4              10.8  NaN   NaN        1.0         2.0  \n",
       "\n",
       "[5 rows x 22 columns]"
      ]
     },
     "execution_count": 48,
     "metadata": {},
     "output_type": "execute_result"
    }
   ],
   "source": [
    "print(data_df_2022_Q4.shape)\n",
    "data_df_2022_Q4.head()"
   ]
  },
  {
   "cell_type": "code",
   "execution_count": 49,
   "id": "39d6f57b",
   "metadata": {
    "execution": {
     "iopub.execute_input": "2025-01-27T13:49:28.823731Z",
     "iopub.status.busy": "2025-01-27T13:49:28.823254Z",
     "iopub.status.idle": "2025-01-27T13:49:28.847655Z",
     "shell.execute_reply": "2025-01-27T13:49:28.846488Z"
    },
    "executionInfo": {
     "elapsed": 7,
     "status": "ok",
     "timestamp": 1734445428523,
     "user": {
      "displayName": "Tahmida Majumder",
      "userId": "15415648085337204568"
     },
     "user_tz": -480
    },
    "id": "CfSd78vh6qcn",
    "outputId": "5b2b2a3a-18d4-4055-df17-f9e04a373c9a",
    "papermill": {
     "duration": 0.070159,
     "end_time": "2025-01-27T13:49:28.849631",
     "exception": false,
     "start_time": "2025-01-27T13:49:28.779472",
     "status": "completed"
    },
    "tags": []
   },
   "outputs": [
    {
     "data": {
      "text/plain": [
       "Specie\n",
       "Date                 0\n",
       "Country              0\n",
       "City                 0\n",
       "aqi              53624\n",
       "co               19997\n",
       "dew              10675\n",
       "humidity           203\n",
       "mepaqi           54432\n",
       "neph             54334\n",
       "no2               9605\n",
       "o3               12958\n",
       "pm1              54282\n",
       "pm10             10067\n",
       "pm25              6960\n",
       "precipitation    48184\n",
       "pressure           395\n",
       "so2              16571\n",
       "temperature        103\n",
       "uvi              53550\n",
       "wd               50877\n",
       "wind-gust        26553\n",
       "wind-speed        1359\n",
       "dtype: int64"
      ]
     },
     "execution_count": 49,
     "metadata": {},
     "output_type": "execute_result"
    }
   ],
   "source": [
    "data_df_2022_Q4.isnull().sum()"
   ]
  },
  {
   "cell_type": "code",
   "execution_count": null,
   "id": "a8d6cd6e",
   "metadata": {
    "id": "mR7YzXW3kmui",
    "papermill": {
     "duration": 0.045224,
     "end_time": "2025-01-27T13:49:28.938825",
     "exception": false,
     "start_time": "2025-01-27T13:49:28.893601",
     "status": "completed"
    },
    "tags": []
   },
   "outputs": [],
   "source": []
  },
  {
   "cell_type": "markdown",
   "id": "fa156712",
   "metadata": {
    "id": "7OJzdlsl6-ni",
    "papermill": {
     "duration": 0.042353,
     "end_time": "2025-01-27T13:49:29.025505",
     "exception": false,
     "start_time": "2025-01-27T13:49:28.983152",
     "status": "completed"
    },
    "tags": []
   },
   "source": [
    "# 2021_Q1"
   ]
  },
  {
   "cell_type": "code",
   "execution_count": 50,
   "id": "d7099260",
   "metadata": {
    "execution": {
     "iopub.execute_input": "2025-01-27T13:49:29.114702Z",
     "iopub.status.busy": "2025-01-27T13:49:29.114352Z",
     "iopub.status.idle": "2025-01-27T13:49:29.660846Z",
     "shell.execute_reply": "2025-01-27T13:49:29.659817Z"
    },
    "executionInfo": {
     "elapsed": 801,
     "status": "ok",
     "timestamp": 1734445429318,
     "user": {
      "displayName": "Tahmida Majumder",
      "userId": "15415648085337204568"
     },
     "user_tz": -480
    },
    "id": "cabEtMG26-ni",
    "outputId": "9ab70de8-8853-43ee-a233-414b5ddc8e8a",
    "papermill": {
     "duration": 0.597,
     "end_time": "2025-01-27T13:49:29.665439",
     "exception": false,
     "start_time": "2025-01-27T13:49:29.068439",
     "status": "completed"
    },
    "tags": []
   },
   "outputs": [
    {
     "name": "stdout",
     "output_type": "stream",
     "text": [
      "(590729, 5)\n"
     ]
    },
    {
     "data": {
      "text/html": [
       "<div>\n",
       "<style scoped>\n",
       "    .dataframe tbody tr th:only-of-type {\n",
       "        vertical-align: middle;\n",
       "    }\n",
       "\n",
       "    .dataframe tbody tr th {\n",
       "        vertical-align: top;\n",
       "    }\n",
       "\n",
       "    .dataframe thead th {\n",
       "        text-align: right;\n",
       "    }\n",
       "</style>\n",
       "<table border=\"1\" class=\"dataframe\">\n",
       "  <thead>\n",
       "    <tr style=\"text-align: right;\">\n",
       "      <th></th>\n",
       "      <th>Date</th>\n",
       "      <th>Country</th>\n",
       "      <th>City</th>\n",
       "      <th>Specie</th>\n",
       "      <th>median</th>\n",
       "    </tr>\n",
       "  </thead>\n",
       "  <tbody>\n",
       "    <tr>\n",
       "      <th>0</th>\n",
       "      <td>4/4/2021</td>\n",
       "      <td>CN</td>\n",
       "      <td>Beijing</td>\n",
       "      <td>pressure</td>\n",
       "      <td>1026.0</td>\n",
       "    </tr>\n",
       "    <tr>\n",
       "      <th>1</th>\n",
       "      <td>2/13/2021</td>\n",
       "      <td>CN</td>\n",
       "      <td>Beijing</td>\n",
       "      <td>pressure</td>\n",
       "      <td>1021.0</td>\n",
       "    </tr>\n",
       "    <tr>\n",
       "      <th>2</th>\n",
       "      <td>2/16/2021</td>\n",
       "      <td>CN</td>\n",
       "      <td>Beijing</td>\n",
       "      <td>pressure</td>\n",
       "      <td>1026.0</td>\n",
       "    </tr>\n",
       "    <tr>\n",
       "      <th>3</th>\n",
       "      <td>3/1/2021</td>\n",
       "      <td>CN</td>\n",
       "      <td>Beijing</td>\n",
       "      <td>pressure</td>\n",
       "      <td>1028.5</td>\n",
       "    </tr>\n",
       "    <tr>\n",
       "      <th>4</th>\n",
       "      <td>3/14/2021</td>\n",
       "      <td>CN</td>\n",
       "      <td>Beijing</td>\n",
       "      <td>pressure</td>\n",
       "      <td>1015.5</td>\n",
       "    </tr>\n",
       "    <tr>\n",
       "      <th>5</th>\n",
       "      <td>3/16/2021</td>\n",
       "      <td>CN</td>\n",
       "      <td>Beijing</td>\n",
       "      <td>pressure</td>\n",
       "      <td>1022.5</td>\n",
       "    </tr>\n",
       "    <tr>\n",
       "      <th>6</th>\n",
       "      <td>4/2/2021</td>\n",
       "      <td>CN</td>\n",
       "      <td>Beijing</td>\n",
       "      <td>pressure</td>\n",
       "      <td>1019.0</td>\n",
       "    </tr>\n",
       "    <tr>\n",
       "      <th>7</th>\n",
       "      <td>3/21/2021</td>\n",
       "      <td>CN</td>\n",
       "      <td>Beijing</td>\n",
       "      <td>pressure</td>\n",
       "      <td>1025.0</td>\n",
       "    </tr>\n",
       "    <tr>\n",
       "      <th>8</th>\n",
       "      <td>1/6/2021</td>\n",
       "      <td>CN</td>\n",
       "      <td>Beijing</td>\n",
       "      <td>pressure</td>\n",
       "      <td>1036.0</td>\n",
       "    </tr>\n",
       "    <tr>\n",
       "      <th>9</th>\n",
       "      <td>1/16/2021</td>\n",
       "      <td>CN</td>\n",
       "      <td>Beijing</td>\n",
       "      <td>pressure</td>\n",
       "      <td>1034.0</td>\n",
       "    </tr>\n",
       "  </tbody>\n",
       "</table>\n",
       "</div>"
      ],
      "text/plain": [
       "        Date Country     City    Specie  median\n",
       "0   4/4/2021      CN  Beijing  pressure  1026.0\n",
       "1  2/13/2021      CN  Beijing  pressure  1021.0\n",
       "2  2/16/2021      CN  Beijing  pressure  1026.0\n",
       "3   3/1/2021      CN  Beijing  pressure  1028.5\n",
       "4  3/14/2021      CN  Beijing  pressure  1015.5\n",
       "5  3/16/2021      CN  Beijing  pressure  1022.5\n",
       "6   4/2/2021      CN  Beijing  pressure  1019.0\n",
       "7  3/21/2021      CN  Beijing  pressure  1025.0\n",
       "8   1/6/2021      CN  Beijing  pressure  1036.0\n",
       "9  1/16/2021      CN  Beijing  pressure  1034.0"
      ]
     },
     "execution_count": 50,
     "metadata": {},
     "output_type": "execute_result"
    }
   ],
   "source": [
    "# Loading the data\n",
    "raw_data_2021_Q1 = pd.read_csv(r\"/kaggle/input/complete-raw-median/waqi-covid19-airqualitydata-2021Q1.csv\")\n",
    "\n",
    "# print the shape\n",
    "print(raw_data_2021_Q1.shape)\n",
    "\n",
    "#runs the first 5 rows\n",
    "raw_data_2021_Q1.head(10)"
   ]
  },
  {
   "cell_type": "code",
   "execution_count": 51,
   "id": "b7d095d1",
   "metadata": {
    "execution": {
     "iopub.execute_input": "2025-01-27T13:49:29.754131Z",
     "iopub.status.busy": "2025-01-27T13:49:29.753789Z",
     "iopub.status.idle": "2025-01-27T13:49:29.848075Z",
     "shell.execute_reply": "2025-01-27T13:49:29.847007Z"
    },
    "id": "B-f0yfdB6-ni",
    "papermill": {
     "duration": 0.140333,
     "end_time": "2025-01-27T13:49:29.850031",
     "exception": false,
     "start_time": "2025-01-27T13:49:29.709698",
     "status": "completed"
    },
    "tags": []
   },
   "outputs": [],
   "source": [
    "# Convert 'Date' to datetime\n",
    "raw_data_2021_Q1['Date'] = pd.to_datetime(raw_data_2021_Q1['Date'])"
   ]
  },
  {
   "cell_type": "code",
   "execution_count": 52,
   "id": "8628e471",
   "metadata": {
    "execution": {
     "iopub.execute_input": "2025-01-27T13:49:29.939703Z",
     "iopub.status.busy": "2025-01-27T13:49:29.939246Z",
     "iopub.status.idle": "2025-01-27T13:49:29.945804Z",
     "shell.execute_reply": "2025-01-27T13:49:29.944715Z"
    },
    "executionInfo": {
     "elapsed": 6,
     "status": "ok",
     "timestamp": 1734445429318,
     "user": {
      "displayName": "Tahmida Majumder",
      "userId": "15415648085337204568"
     },
     "user_tz": -480
    },
    "id": "OMm8NtLO6-ni",
    "outputId": "b012fc16-71a5-417b-bf6e-6fe8588b8bca",
    "papermill": {
     "duration": 0.053394,
     "end_time": "2025-01-27T13:49:29.947620",
     "exception": false,
     "start_time": "2025-01-27T13:49:29.894226",
     "status": "completed"
    },
    "tags": []
   },
   "outputs": [
    {
     "data": {
      "text/plain": [
       "(590729, 5)"
      ]
     },
     "execution_count": 52,
     "metadata": {},
     "output_type": "execute_result"
    }
   ],
   "source": [
    "raw_data_2021_Q1.shape"
   ]
  },
  {
   "cell_type": "code",
   "execution_count": 53,
   "id": "74df0920",
   "metadata": {
    "execution": {
     "iopub.execute_input": "2025-01-27T13:49:30.037071Z",
     "iopub.status.busy": "2025-01-27T13:49:30.036695Z",
     "iopub.status.idle": "2025-01-27T13:49:30.498913Z",
     "shell.execute_reply": "2025-01-27T13:49:30.497846Z"
    },
    "id": "mdLTyMD96-nj",
    "papermill": {
     "duration": 0.509064,
     "end_time": "2025-01-27T13:49:30.501000",
     "exception": false,
     "start_time": "2025-01-27T13:49:29.991936",
     "status": "completed"
    },
    "tags": []
   },
   "outputs": [],
   "source": [
    "# Pivot the data\n",
    "data_df_2021_Q1 = raw_data_2021_Q1.pivot_table(\n",
    "    index=['Date', 'Country', 'City'],  # Grouping columns\n",
    "    columns='Specie',                  # Unique values become columns\n",
    "    values='median',                   # Values to aggregate\n",
    "    aggfunc='mean'                     # Aggregation function\n",
    ").reset_index()"
   ]
  },
  {
   "cell_type": "code",
   "execution_count": 54,
   "id": "095818e7",
   "metadata": {
    "execution": {
     "iopub.execute_input": "2025-01-27T13:49:30.592671Z",
     "iopub.status.busy": "2025-01-27T13:49:30.592234Z",
     "iopub.status.idle": "2025-01-27T13:49:30.619173Z",
     "shell.execute_reply": "2025-01-27T13:49:30.617899Z"
    },
    "executionInfo": {
     "elapsed": 571,
     "status": "ok",
     "timestamp": 1734445430617,
     "user": {
      "displayName": "Tahmida Majumder",
      "userId": "15415648085337204568"
     },
     "user_tz": -480
    },
    "id": "-TKzBkVF6-nj",
    "outputId": "05fe4fae-db24-41e8-f983-8a20a15c8c25",
    "papermill": {
     "duration": 0.075796,
     "end_time": "2025-01-27T13:49:30.621336",
     "exception": false,
     "start_time": "2025-01-27T13:49:30.545540",
     "status": "completed"
    },
    "tags": []
   },
   "outputs": [
    {
     "name": "stdout",
     "output_type": "stream",
     "text": [
      "(58552, 22)\n"
     ]
    },
    {
     "data": {
      "text/html": [
       "<div>\n",
       "<style scoped>\n",
       "    .dataframe tbody tr th:only-of-type {\n",
       "        vertical-align: middle;\n",
       "    }\n",
       "\n",
       "    .dataframe tbody tr th {\n",
       "        vertical-align: top;\n",
       "    }\n",
       "\n",
       "    .dataframe thead th {\n",
       "        text-align: right;\n",
       "    }\n",
       "</style>\n",
       "<table border=\"1\" class=\"dataframe\">\n",
       "  <thead>\n",
       "    <tr style=\"text-align: right;\">\n",
       "      <th>Specie</th>\n",
       "      <th>Date</th>\n",
       "      <th>Country</th>\n",
       "      <th>City</th>\n",
       "      <th>aqi</th>\n",
       "      <th>co</th>\n",
       "      <th>dew</th>\n",
       "      <th>humidity</th>\n",
       "      <th>mepaqi</th>\n",
       "      <th>neph</th>\n",
       "      <th>no2</th>\n",
       "      <th>...</th>\n",
       "      <th>pm10</th>\n",
       "      <th>pm25</th>\n",
       "      <th>precipitation</th>\n",
       "      <th>pressure</th>\n",
       "      <th>so2</th>\n",
       "      <th>temperature</th>\n",
       "      <th>uvi</th>\n",
       "      <th>wd</th>\n",
       "      <th>wind-gust</th>\n",
       "      <th>wind-speed</th>\n",
       "    </tr>\n",
       "  </thead>\n",
       "  <tbody>\n",
       "    <tr>\n",
       "      <th>0</th>\n",
       "      <td>2020-12-28</td>\n",
       "      <td>AE</td>\n",
       "      <td>Abu Dhabi</td>\n",
       "      <td>NaN</td>\n",
       "      <td>0.1</td>\n",
       "      <td>11.0</td>\n",
       "      <td>55.0</td>\n",
       "      <td>NaN</td>\n",
       "      <td>NaN</td>\n",
       "      <td>15.1</td>\n",
       "      <td>...</td>\n",
       "      <td>100.0</td>\n",
       "      <td>34.0</td>\n",
       "      <td>NaN</td>\n",
       "      <td>1019.0</td>\n",
       "      <td>4.6</td>\n",
       "      <td>20.0</td>\n",
       "      <td>NaN</td>\n",
       "      <td>NaN</td>\n",
       "      <td>NaN</td>\n",
       "      <td>2.5</td>\n",
       "    </tr>\n",
       "    <tr>\n",
       "      <th>1</th>\n",
       "      <td>2020-12-28</td>\n",
       "      <td>AE</td>\n",
       "      <td>Dubai</td>\n",
       "      <td>NaN</td>\n",
       "      <td>NaN</td>\n",
       "      <td>8.0</td>\n",
       "      <td>45.0</td>\n",
       "      <td>NaN</td>\n",
       "      <td>NaN</td>\n",
       "      <td>NaN</td>\n",
       "      <td>...</td>\n",
       "      <td>NaN</td>\n",
       "      <td>63.0</td>\n",
       "      <td>NaN</td>\n",
       "      <td>1019.0</td>\n",
       "      <td>NaN</td>\n",
       "      <td>21.0</td>\n",
       "      <td>NaN</td>\n",
       "      <td>NaN</td>\n",
       "      <td>NaN</td>\n",
       "      <td>3.0</td>\n",
       "    </tr>\n",
       "    <tr>\n",
       "      <th>2</th>\n",
       "      <td>2020-12-28</td>\n",
       "      <td>AF</td>\n",
       "      <td>Kabul</td>\n",
       "      <td>NaN</td>\n",
       "      <td>NaN</td>\n",
       "      <td>-15.0</td>\n",
       "      <td>35.0</td>\n",
       "      <td>NaN</td>\n",
       "      <td>NaN</td>\n",
       "      <td>NaN</td>\n",
       "      <td>...</td>\n",
       "      <td>NaN</td>\n",
       "      <td>102.0</td>\n",
       "      <td>NaN</td>\n",
       "      <td>1019.0</td>\n",
       "      <td>NaN</td>\n",
       "      <td>-2.0</td>\n",
       "      <td>NaN</td>\n",
       "      <td>NaN</td>\n",
       "      <td>NaN</td>\n",
       "      <td>3.6</td>\n",
       "    </tr>\n",
       "    <tr>\n",
       "      <th>3</th>\n",
       "      <td>2020-12-28</td>\n",
       "      <td>AR</td>\n",
       "      <td>Buenos Aires</td>\n",
       "      <td>NaN</td>\n",
       "      <td>2.8</td>\n",
       "      <td>20.7</td>\n",
       "      <td>75.1</td>\n",
       "      <td>NaN</td>\n",
       "      <td>NaN</td>\n",
       "      <td>14.2</td>\n",
       "      <td>...</td>\n",
       "      <td>19.0</td>\n",
       "      <td>25.0</td>\n",
       "      <td>NaN</td>\n",
       "      <td>1012.0</td>\n",
       "      <td>NaN</td>\n",
       "      <td>25.8</td>\n",
       "      <td>NaN</td>\n",
       "      <td>90.0</td>\n",
       "      <td>13.0</td>\n",
       "      <td>5.6</td>\n",
       "    </tr>\n",
       "    <tr>\n",
       "      <th>4</th>\n",
       "      <td>2020-12-28</td>\n",
       "      <td>AT</td>\n",
       "      <td>Graz</td>\n",
       "      <td>NaN</td>\n",
       "      <td>0.1</td>\n",
       "      <td>-3.6</td>\n",
       "      <td>54.3</td>\n",
       "      <td>NaN</td>\n",
       "      <td>NaN</td>\n",
       "      <td>11.2</td>\n",
       "      <td>...</td>\n",
       "      <td>19.0</td>\n",
       "      <td>NaN</td>\n",
       "      <td>99.5</td>\n",
       "      <td>986.6</td>\n",
       "      <td>1.1</td>\n",
       "      <td>-0.3</td>\n",
       "      <td>NaN</td>\n",
       "      <td>NaN</td>\n",
       "      <td>2.3</td>\n",
       "      <td>1.0</td>\n",
       "    </tr>\n",
       "  </tbody>\n",
       "</table>\n",
       "<p>5 rows × 22 columns</p>\n",
       "</div>"
      ],
      "text/plain": [
       "Specie       Date Country          City  aqi   co   dew  humidity  mepaqi  \\\n",
       "0      2020-12-28      AE     Abu Dhabi  NaN  0.1  11.0      55.0     NaN   \n",
       "1      2020-12-28      AE         Dubai  NaN  NaN   8.0      45.0     NaN   \n",
       "2      2020-12-28      AF         Kabul  NaN  NaN -15.0      35.0     NaN   \n",
       "3      2020-12-28      AR  Buenos Aires  NaN  2.8  20.7      75.1     NaN   \n",
       "4      2020-12-28      AT          Graz  NaN  0.1  -3.6      54.3     NaN   \n",
       "\n",
       "Specie  neph   no2  ...   pm10   pm25  precipitation  pressure  so2  \\\n",
       "0        NaN  15.1  ...  100.0   34.0            NaN    1019.0  4.6   \n",
       "1        NaN   NaN  ...    NaN   63.0            NaN    1019.0  NaN   \n",
       "2        NaN   NaN  ...    NaN  102.0            NaN    1019.0  NaN   \n",
       "3        NaN  14.2  ...   19.0   25.0            NaN    1012.0  NaN   \n",
       "4        NaN  11.2  ...   19.0    NaN           99.5     986.6  1.1   \n",
       "\n",
       "Specie  temperature  uvi    wd  wind-gust  wind-speed  \n",
       "0              20.0  NaN   NaN        NaN         2.5  \n",
       "1              21.0  NaN   NaN        NaN         3.0  \n",
       "2              -2.0  NaN   NaN        NaN         3.6  \n",
       "3              25.8  NaN  90.0       13.0         5.6  \n",
       "4              -0.3  NaN   NaN        2.3         1.0  \n",
       "\n",
       "[5 rows x 22 columns]"
      ]
     },
     "execution_count": 54,
     "metadata": {},
     "output_type": "execute_result"
    }
   ],
   "source": [
    "print(data_df_2021_Q1.shape)\n",
    "data_df_2021_Q1.head()"
   ]
  },
  {
   "cell_type": "code",
   "execution_count": 55,
   "id": "1dabd2b4",
   "metadata": {
    "execution": {
     "iopub.execute_input": "2025-01-27T13:49:30.714759Z",
     "iopub.status.busy": "2025-01-27T13:49:30.714409Z",
     "iopub.status.idle": "2025-01-27T13:49:30.739424Z",
     "shell.execute_reply": "2025-01-27T13:49:30.738412Z"
    },
    "executionInfo": {
     "elapsed": 7,
     "status": "ok",
     "timestamp": 1734445430618,
     "user": {
      "displayName": "Tahmida Majumder",
      "userId": "15415648085337204568"
     },
     "user_tz": -480
    },
    "id": "amjDbX-q6-nj",
    "outputId": "a273a9cb-fadc-4978-9038-0cdc6f155924",
    "papermill": {
     "duration": 0.072201,
     "end_time": "2025-01-27T13:49:30.741326",
     "exception": false,
     "start_time": "2025-01-27T13:49:30.669125",
     "status": "completed"
    },
    "tags": []
   },
   "outputs": [
    {
     "data": {
      "text/plain": [
       "Specie\n",
       "Date                 0\n",
       "Country              0\n",
       "City                 0\n",
       "aqi              57095\n",
       "co               21064\n",
       "dew              12610\n",
       "humidity           203\n",
       "mepaqi           58454\n",
       "neph             58356\n",
       "no2              10946\n",
       "o3               15009\n",
       "pm1              58358\n",
       "pm10             10897\n",
       "pm25              8962\n",
       "precipitation    52036\n",
       "pressure           360\n",
       "so2              18363\n",
       "temperature        177\n",
       "uvi              57577\n",
       "wd               53821\n",
       "wind-gust        26579\n",
       "wind-speed         892\n",
       "dtype: int64"
      ]
     },
     "execution_count": 55,
     "metadata": {},
     "output_type": "execute_result"
    }
   ],
   "source": [
    "data_df_2021_Q1.isnull().sum()"
   ]
  },
  {
   "cell_type": "code",
   "execution_count": null,
   "id": "1d9f0e0c",
   "metadata": {
    "id": "z7QPUFHekmxG",
    "papermill": {
     "duration": 0.045496,
     "end_time": "2025-01-27T13:49:30.831099",
     "exception": false,
     "start_time": "2025-01-27T13:49:30.785603",
     "status": "completed"
    },
    "tags": []
   },
   "outputs": [],
   "source": []
  },
  {
   "cell_type": "code",
   "execution_count": null,
   "id": "d1ba4c1d",
   "metadata": {
    "id": "C_JNMdE37dA1",
    "papermill": {
     "duration": 0.043186,
     "end_time": "2025-01-27T13:49:30.918231",
     "exception": false,
     "start_time": "2025-01-27T13:49:30.875045",
     "status": "completed"
    },
    "tags": []
   },
   "outputs": [],
   "source": []
  },
  {
   "cell_type": "markdown",
   "id": "58ea1f16",
   "metadata": {
    "id": "DK1N9LM97dA1",
    "papermill": {
     "duration": 0.044657,
     "end_time": "2025-01-27T13:49:31.010429",
     "exception": false,
     "start_time": "2025-01-27T13:49:30.965772",
     "status": "completed"
    },
    "tags": []
   },
   "source": [
    "# 2021_Q2"
   ]
  },
  {
   "cell_type": "code",
   "execution_count": 56,
   "id": "dd26d87e",
   "metadata": {
    "execution": {
     "iopub.execute_input": "2025-01-27T13:49:31.102163Z",
     "iopub.status.busy": "2025-01-27T13:49:31.101799Z",
     "iopub.status.idle": "2025-01-27T13:49:31.621092Z",
     "shell.execute_reply": "2025-01-27T13:49:31.620017Z"
    },
    "executionInfo": {
     "elapsed": 957,
     "status": "ok",
     "timestamp": 1734445431570,
     "user": {
      "displayName": "Tahmida Majumder",
      "userId": "15415648085337204568"
     },
     "user_tz": -480
    },
    "id": "13HBc4s67dA2",
    "outputId": "abfacf20-9a88-4737-c6ba-2f5f852aa94d",
    "papermill": {
     "duration": 0.571193,
     "end_time": "2025-01-27T13:49:31.628211",
     "exception": false,
     "start_time": "2025-01-27T13:49:31.057018",
     "status": "completed"
    },
    "tags": []
   },
   "outputs": [
    {
     "name": "stdout",
     "output_type": "stream",
     "text": [
      "(587119, 5)\n"
     ]
    },
    {
     "data": {
      "text/html": [
       "<div>\n",
       "<style scoped>\n",
       "    .dataframe tbody tr th:only-of-type {\n",
       "        vertical-align: middle;\n",
       "    }\n",
       "\n",
       "    .dataframe tbody tr th {\n",
       "        vertical-align: top;\n",
       "    }\n",
       "\n",
       "    .dataframe thead th {\n",
       "        text-align: right;\n",
       "    }\n",
       "</style>\n",
       "<table border=\"1\" class=\"dataframe\">\n",
       "  <thead>\n",
       "    <tr style=\"text-align: right;\">\n",
       "      <th></th>\n",
       "      <th>Date</th>\n",
       "      <th>Country</th>\n",
       "      <th>City</th>\n",
       "      <th>Specie</th>\n",
       "      <th>median</th>\n",
       "    </tr>\n",
       "  </thead>\n",
       "  <tbody>\n",
       "    <tr>\n",
       "      <th>0</th>\n",
       "      <td>4/8/2021</td>\n",
       "      <td>IQ</td>\n",
       "      <td>Baghdad</td>\n",
       "      <td>dew</td>\n",
       "      <td>6.0</td>\n",
       "    </tr>\n",
       "    <tr>\n",
       "      <th>1</th>\n",
       "      <td>7/1/2021</td>\n",
       "      <td>IQ</td>\n",
       "      <td>Baghdad</td>\n",
       "      <td>dew</td>\n",
       "      <td>9.0</td>\n",
       "    </tr>\n",
       "    <tr>\n",
       "      <th>2</th>\n",
       "      <td>4/6/2021</td>\n",
       "      <td>IQ</td>\n",
       "      <td>Baghdad</td>\n",
       "      <td>dew</td>\n",
       "      <td>6.0</td>\n",
       "    </tr>\n",
       "    <tr>\n",
       "      <th>3</th>\n",
       "      <td>4/14/2021</td>\n",
       "      <td>IQ</td>\n",
       "      <td>Baghdad</td>\n",
       "      <td>dew</td>\n",
       "      <td>3.0</td>\n",
       "    </tr>\n",
       "    <tr>\n",
       "      <th>4</th>\n",
       "      <td>4/19/2021</td>\n",
       "      <td>IQ</td>\n",
       "      <td>Baghdad</td>\n",
       "      <td>dew</td>\n",
       "      <td>8.0</td>\n",
       "    </tr>\n",
       "    <tr>\n",
       "      <th>5</th>\n",
       "      <td>5/8/2021</td>\n",
       "      <td>IQ</td>\n",
       "      <td>Baghdad</td>\n",
       "      <td>dew</td>\n",
       "      <td>10.0</td>\n",
       "    </tr>\n",
       "    <tr>\n",
       "      <th>6</th>\n",
       "      <td>5/17/2021</td>\n",
       "      <td>IQ</td>\n",
       "      <td>Baghdad</td>\n",
       "      <td>dew</td>\n",
       "      <td>7.0</td>\n",
       "    </tr>\n",
       "    <tr>\n",
       "      <th>7</th>\n",
       "      <td>5/21/2021</td>\n",
       "      <td>IQ</td>\n",
       "      <td>Baghdad</td>\n",
       "      <td>dew</td>\n",
       "      <td>7.0</td>\n",
       "    </tr>\n",
       "    <tr>\n",
       "      <th>8</th>\n",
       "      <td>5/22/2021</td>\n",
       "      <td>IQ</td>\n",
       "      <td>Baghdad</td>\n",
       "      <td>dew</td>\n",
       "      <td>9.0</td>\n",
       "    </tr>\n",
       "    <tr>\n",
       "      <th>9</th>\n",
       "      <td>6/3/2021</td>\n",
       "      <td>IQ</td>\n",
       "      <td>Baghdad</td>\n",
       "      <td>dew</td>\n",
       "      <td>8.0</td>\n",
       "    </tr>\n",
       "  </tbody>\n",
       "</table>\n",
       "</div>"
      ],
      "text/plain": [
       "        Date Country     City Specie  median\n",
       "0   4/8/2021      IQ  Baghdad    dew     6.0\n",
       "1   7/1/2021      IQ  Baghdad    dew     9.0\n",
       "2   4/6/2021      IQ  Baghdad    dew     6.0\n",
       "3  4/14/2021      IQ  Baghdad    dew     3.0\n",
       "4  4/19/2021      IQ  Baghdad    dew     8.0\n",
       "5   5/8/2021      IQ  Baghdad    dew    10.0\n",
       "6  5/17/2021      IQ  Baghdad    dew     7.0\n",
       "7  5/21/2021      IQ  Baghdad    dew     7.0\n",
       "8  5/22/2021      IQ  Baghdad    dew     9.0\n",
       "9   6/3/2021      IQ  Baghdad    dew     8.0"
      ]
     },
     "execution_count": 56,
     "metadata": {},
     "output_type": "execute_result"
    }
   ],
   "source": [
    "# Loading the data\n",
    "raw_data_2021_Q2 = pd.read_csv(r\"/kaggle/input/complete-raw-median/waqi-covid19-airqualitydata-2021Q2.csv\")\n",
    "\n",
    "# print the shape\n",
    "print(raw_data_2021_Q2.shape)\n",
    "\n",
    "#runs the first 5 rows\n",
    "raw_data_2021_Q2.head(10)"
   ]
  },
  {
   "cell_type": "code",
   "execution_count": 57,
   "id": "059b3040",
   "metadata": {
    "execution": {
     "iopub.execute_input": "2025-01-27T13:49:31.718240Z",
     "iopub.status.busy": "2025-01-27T13:49:31.717876Z",
     "iopub.status.idle": "2025-01-27T13:49:31.820969Z",
     "shell.execute_reply": "2025-01-27T13:49:31.819582Z"
    },
    "id": "f97XI_7l7dA2",
    "papermill": {
     "duration": 0.150106,
     "end_time": "2025-01-27T13:49:31.823070",
     "exception": false,
     "start_time": "2025-01-27T13:49:31.672964",
     "status": "completed"
    },
    "tags": []
   },
   "outputs": [],
   "source": [
    "# Convert 'Date' to datetime\n",
    "raw_data_2021_Q2['Date'] = pd.to_datetime(raw_data_2021_Q2['Date'])"
   ]
  },
  {
   "cell_type": "code",
   "execution_count": 58,
   "id": "2fe7cb3a",
   "metadata": {
    "execution": {
     "iopub.execute_input": "2025-01-27T13:49:31.918871Z",
     "iopub.status.busy": "2025-01-27T13:49:31.918498Z",
     "iopub.status.idle": "2025-01-27T13:49:31.925449Z",
     "shell.execute_reply": "2025-01-27T13:49:31.923723Z"
    },
    "executionInfo": {
     "elapsed": 8,
     "status": "ok",
     "timestamp": 1734445431571,
     "user": {
      "displayName": "Tahmida Majumder",
      "userId": "15415648085337204568"
     },
     "user_tz": -480
    },
    "id": "iZ02mbgV7dA2",
    "outputId": "e51e4e76-d24f-4c4f-a7d9-6f99c39c55c4",
    "papermill": {
     "duration": 0.058098,
     "end_time": "2025-01-27T13:49:31.927868",
     "exception": false,
     "start_time": "2025-01-27T13:49:31.869770",
     "status": "completed"
    },
    "tags": []
   },
   "outputs": [
    {
     "data": {
      "text/plain": [
       "(587119, 5)"
      ]
     },
     "execution_count": 58,
     "metadata": {},
     "output_type": "execute_result"
    }
   ],
   "source": [
    "raw_data_2021_Q2.shape"
   ]
  },
  {
   "cell_type": "code",
   "execution_count": 59,
   "id": "17843b27",
   "metadata": {
    "execution": {
     "iopub.execute_input": "2025-01-27T13:49:32.020445Z",
     "iopub.status.busy": "2025-01-27T13:49:32.020038Z",
     "iopub.status.idle": "2025-01-27T13:49:32.466408Z",
     "shell.execute_reply": "2025-01-27T13:49:32.465148Z"
    },
    "id": "Y2kR42f67dA2",
    "papermill": {
     "duration": 0.493852,
     "end_time": "2025-01-27T13:49:32.468453",
     "exception": false,
     "start_time": "2025-01-27T13:49:31.974601",
     "status": "completed"
    },
    "tags": []
   },
   "outputs": [],
   "source": [
    "# Pivot the data\n",
    "data_df_2021_Q2 = raw_data_2021_Q2.pivot_table(\n",
    "    index=['Date', 'Country', 'City'],  # Grouping columns\n",
    "    columns='Specie',                  # Unique values become columns\n",
    "    values='median',                   # Values to aggregate\n",
    "    aggfunc='mean'                     # Aggregation function\n",
    ").reset_index()"
   ]
  },
  {
   "cell_type": "code",
   "execution_count": 60,
   "id": "ac2278a0",
   "metadata": {
    "execution": {
     "iopub.execute_input": "2025-01-27T13:49:32.558298Z",
     "iopub.status.busy": "2025-01-27T13:49:32.557905Z",
     "iopub.status.idle": "2025-01-27T13:49:32.583872Z",
     "shell.execute_reply": "2025-01-27T13:49:32.582755Z"
    },
    "executionInfo": {
     "elapsed": 8,
     "status": "ok",
     "timestamp": 1734445432481,
     "user": {
      "displayName": "Tahmida Majumder",
      "userId": "15415648085337204568"
     },
     "user_tz": -480
    },
    "id": "HzLh01FP7dA2",
    "outputId": "bf7486e9-db00-41b2-84dd-1ea467117bee",
    "papermill": {
     "duration": 0.073365,
     "end_time": "2025-01-27T13:49:32.585815",
     "exception": false,
     "start_time": "2025-01-27T13:49:32.512450",
     "status": "completed"
    },
    "tags": []
   },
   "outputs": [
    {
     "name": "stdout",
     "output_type": "stream",
     "text": [
      "(58359, 22)\n"
     ]
    },
    {
     "data": {
      "text/html": [
       "<div>\n",
       "<style scoped>\n",
       "    .dataframe tbody tr th:only-of-type {\n",
       "        vertical-align: middle;\n",
       "    }\n",
       "\n",
       "    .dataframe tbody tr th {\n",
       "        vertical-align: top;\n",
       "    }\n",
       "\n",
       "    .dataframe thead th {\n",
       "        text-align: right;\n",
       "    }\n",
       "</style>\n",
       "<table border=\"1\" class=\"dataframe\">\n",
       "  <thead>\n",
       "    <tr style=\"text-align: right;\">\n",
       "      <th>Specie</th>\n",
       "      <th>Date</th>\n",
       "      <th>Country</th>\n",
       "      <th>City</th>\n",
       "      <th>aqi</th>\n",
       "      <th>co</th>\n",
       "      <th>dew</th>\n",
       "      <th>humidity</th>\n",
       "      <th>mepaqi</th>\n",
       "      <th>neph</th>\n",
       "      <th>no2</th>\n",
       "      <th>...</th>\n",
       "      <th>pm10</th>\n",
       "      <th>pm25</th>\n",
       "      <th>precipitation</th>\n",
       "      <th>pressure</th>\n",
       "      <th>so2</th>\n",
       "      <th>temperature</th>\n",
       "      <th>uvi</th>\n",
       "      <th>wd</th>\n",
       "      <th>wind-gust</th>\n",
       "      <th>wind-speed</th>\n",
       "    </tr>\n",
       "  </thead>\n",
       "  <tbody>\n",
       "    <tr>\n",
       "      <th>0</th>\n",
       "      <td>2021-03-29</td>\n",
       "      <td>AE</td>\n",
       "      <td>Abu Dhabi</td>\n",
       "      <td>NaN</td>\n",
       "      <td>0.1</td>\n",
       "      <td>17.0</td>\n",
       "      <td>64.0</td>\n",
       "      <td>NaN</td>\n",
       "      <td>NaN</td>\n",
       "      <td>5.5</td>\n",
       "      <td>...</td>\n",
       "      <td>72.0</td>\n",
       "      <td>NaN</td>\n",
       "      <td>NaN</td>\n",
       "      <td>1012.0</td>\n",
       "      <td>5.6</td>\n",
       "      <td>25.0</td>\n",
       "      <td>NaN</td>\n",
       "      <td>NaN</td>\n",
       "      <td>NaN</td>\n",
       "      <td>4.6</td>\n",
       "    </tr>\n",
       "    <tr>\n",
       "      <th>1</th>\n",
       "      <td>2021-03-29</td>\n",
       "      <td>AE</td>\n",
       "      <td>Dubai</td>\n",
       "      <td>NaN</td>\n",
       "      <td>NaN</td>\n",
       "      <td>18.0</td>\n",
       "      <td>65.0</td>\n",
       "      <td>NaN</td>\n",
       "      <td>NaN</td>\n",
       "      <td>NaN</td>\n",
       "      <td>...</td>\n",
       "      <td>NaN</td>\n",
       "      <td>72.0</td>\n",
       "      <td>NaN</td>\n",
       "      <td>1011.0</td>\n",
       "      <td>NaN</td>\n",
       "      <td>25.0</td>\n",
       "      <td>NaN</td>\n",
       "      <td>NaN</td>\n",
       "      <td>NaN</td>\n",
       "      <td>3.6</td>\n",
       "    </tr>\n",
       "    <tr>\n",
       "      <th>2</th>\n",
       "      <td>2021-03-29</td>\n",
       "      <td>AF</td>\n",
       "      <td>Kabul</td>\n",
       "      <td>NaN</td>\n",
       "      <td>NaN</td>\n",
       "      <td>-4.0</td>\n",
       "      <td>25.0</td>\n",
       "      <td>NaN</td>\n",
       "      <td>NaN</td>\n",
       "      <td>NaN</td>\n",
       "      <td>...</td>\n",
       "      <td>NaN</td>\n",
       "      <td>65.0</td>\n",
       "      <td>NaN</td>\n",
       "      <td>1015.0</td>\n",
       "      <td>NaN</td>\n",
       "      <td>14.0</td>\n",
       "      <td>NaN</td>\n",
       "      <td>NaN</td>\n",
       "      <td>11.8</td>\n",
       "      <td>5.6</td>\n",
       "    </tr>\n",
       "    <tr>\n",
       "      <th>3</th>\n",
       "      <td>2021-03-29</td>\n",
       "      <td>AR</td>\n",
       "      <td>Buenos Aires</td>\n",
       "      <td>NaN</td>\n",
       "      <td>0.1</td>\n",
       "      <td>NaN</td>\n",
       "      <td>86.0</td>\n",
       "      <td>NaN</td>\n",
       "      <td>NaN</td>\n",
       "      <td>NaN</td>\n",
       "      <td>...</td>\n",
       "      <td>NaN</td>\n",
       "      <td>NaN</td>\n",
       "      <td>NaN</td>\n",
       "      <td>1013.2</td>\n",
       "      <td>NaN</td>\n",
       "      <td>19.1</td>\n",
       "      <td>NaN</td>\n",
       "      <td>202.5</td>\n",
       "      <td>8.6</td>\n",
       "      <td>2.8</td>\n",
       "    </tr>\n",
       "    <tr>\n",
       "      <th>4</th>\n",
       "      <td>2021-03-29</td>\n",
       "      <td>AT</td>\n",
       "      <td>Graz</td>\n",
       "      <td>NaN</td>\n",
       "      <td>0.1</td>\n",
       "      <td>1.8</td>\n",
       "      <td>50.0</td>\n",
       "      <td>NaN</td>\n",
       "      <td>NaN</td>\n",
       "      <td>10.1</td>\n",
       "      <td>...</td>\n",
       "      <td>20.0</td>\n",
       "      <td>NaN</td>\n",
       "      <td>NaN</td>\n",
       "      <td>1031.2</td>\n",
       "      <td>1.1</td>\n",
       "      <td>12.2</td>\n",
       "      <td>NaN</td>\n",
       "      <td>NaN</td>\n",
       "      <td>2.7</td>\n",
       "      <td>1.5</td>\n",
       "    </tr>\n",
       "  </tbody>\n",
       "</table>\n",
       "<p>5 rows × 22 columns</p>\n",
       "</div>"
      ],
      "text/plain": [
       "Specie       Date Country          City  aqi   co   dew  humidity  mepaqi  \\\n",
       "0      2021-03-29      AE     Abu Dhabi  NaN  0.1  17.0      64.0     NaN   \n",
       "1      2021-03-29      AE         Dubai  NaN  NaN  18.0      65.0     NaN   \n",
       "2      2021-03-29      AF         Kabul  NaN  NaN  -4.0      25.0     NaN   \n",
       "3      2021-03-29      AR  Buenos Aires  NaN  0.1   NaN      86.0     NaN   \n",
       "4      2021-03-29      AT          Graz  NaN  0.1   1.8      50.0     NaN   \n",
       "\n",
       "Specie  neph   no2  ...  pm10  pm25  precipitation  pressure  so2  \\\n",
       "0        NaN   5.5  ...  72.0   NaN            NaN    1012.0  5.6   \n",
       "1        NaN   NaN  ...   NaN  72.0            NaN    1011.0  NaN   \n",
       "2        NaN   NaN  ...   NaN  65.0            NaN    1015.0  NaN   \n",
       "3        NaN   NaN  ...   NaN   NaN            NaN    1013.2  NaN   \n",
       "4        NaN  10.1  ...  20.0   NaN            NaN    1031.2  1.1   \n",
       "\n",
       "Specie  temperature  uvi     wd  wind-gust  wind-speed  \n",
       "0              25.0  NaN    NaN        NaN         4.6  \n",
       "1              25.0  NaN    NaN        NaN         3.6  \n",
       "2              14.0  NaN    NaN       11.8         5.6  \n",
       "3              19.1  NaN  202.5        8.6         2.8  \n",
       "4              12.2  NaN    NaN        2.7         1.5  \n",
       "\n",
       "[5 rows x 22 columns]"
      ]
     },
     "execution_count": 60,
     "metadata": {},
     "output_type": "execute_result"
    }
   ],
   "source": [
    "print(data_df_2021_Q2.shape)\n",
    "data_df_2021_Q2.head()"
   ]
  },
  {
   "cell_type": "code",
   "execution_count": 61,
   "id": "f89b13b3",
   "metadata": {
    "execution": {
     "iopub.execute_input": "2025-01-27T13:49:32.679240Z",
     "iopub.status.busy": "2025-01-27T13:49:32.678841Z",
     "iopub.status.idle": "2025-01-27T13:49:32.703933Z",
     "shell.execute_reply": "2025-01-27T13:49:32.702742Z"
    },
    "executionInfo": {
     "elapsed": 7,
     "status": "ok",
     "timestamp": 1734445432481,
     "user": {
      "displayName": "Tahmida Majumder",
      "userId": "15415648085337204568"
     },
     "user_tz": -480
    },
    "id": "UJcxOBzk7dA2",
    "outputId": "18639109-5b27-4018-d064-58cabeffc075",
    "papermill": {
     "duration": 0.073387,
     "end_time": "2025-01-27T13:49:32.705837",
     "exception": false,
     "start_time": "2025-01-27T13:49:32.632450",
     "status": "completed"
    },
    "tags": []
   },
   "outputs": [
    {
     "data": {
      "text/plain": [
       "Specie\n",
       "Date                 0\n",
       "Country              0\n",
       "City                 0\n",
       "aqi              57041\n",
       "co               21327\n",
       "dew              13091\n",
       "humidity           798\n",
       "mepaqi           58261\n",
       "neph             58163\n",
       "no2              11014\n",
       "o3               14925\n",
       "pm1              57970\n",
       "pm10             10603\n",
       "pm25              8315\n",
       "precipitation    51439\n",
       "pressure           951\n",
       "so2              19006\n",
       "temperature        776\n",
       "uvi              57379\n",
       "wd               54281\n",
       "wind-gust        24945\n",
       "wind-speed        1417\n",
       "dtype: int64"
      ]
     },
     "execution_count": 61,
     "metadata": {},
     "output_type": "execute_result"
    }
   ],
   "source": [
    "data_df_2021_Q2.isnull().sum()"
   ]
  },
  {
   "cell_type": "code",
   "execution_count": null,
   "id": "9c546d80",
   "metadata": {
    "id": "uULCz6QPkmzq",
    "papermill": {
     "duration": 0.045734,
     "end_time": "2025-01-27T13:49:32.796861",
     "exception": false,
     "start_time": "2025-01-27T13:49:32.751127",
     "status": "completed"
    },
    "tags": []
   },
   "outputs": [],
   "source": []
  },
  {
   "cell_type": "markdown",
   "id": "1db40280",
   "metadata": {
    "id": "YCjaAdZW77Fa",
    "papermill": {
     "duration": 0.044844,
     "end_time": "2025-01-27T13:49:32.885874",
     "exception": false,
     "start_time": "2025-01-27T13:49:32.841030",
     "status": "completed"
    },
    "tags": []
   },
   "source": [
    "# 2021_Q3"
   ]
  },
  {
   "cell_type": "code",
   "execution_count": 62,
   "id": "ad8957cc",
   "metadata": {
    "execution": {
     "iopub.execute_input": "2025-01-27T13:49:32.982511Z",
     "iopub.status.busy": "2025-01-27T13:49:32.982069Z",
     "iopub.status.idle": "2025-01-27T13:49:33.526991Z",
     "shell.execute_reply": "2025-01-27T13:49:33.525825Z"
    },
    "executionInfo": {
     "elapsed": 843,
     "status": "ok",
     "timestamp": 1734445433318,
     "user": {
      "displayName": "Tahmida Majumder",
      "userId": "15415648085337204568"
     },
     "user_tz": -480
    },
    "id": "wNrgtH5J77Fb",
    "outputId": "40b315ec-bab1-49f4-c35f-779212e63005",
    "papermill": {
     "duration": 0.599074,
     "end_time": "2025-01-27T13:49:33.529037",
     "exception": false,
     "start_time": "2025-01-27T13:49:32.929963",
     "status": "completed"
    },
    "tags": []
   },
   "outputs": [
    {
     "name": "stdout",
     "output_type": "stream",
     "text": [
      "(570079, 5)\n"
     ]
    },
    {
     "data": {
      "text/html": [
       "<div>\n",
       "<style scoped>\n",
       "    .dataframe tbody tr th:only-of-type {\n",
       "        vertical-align: middle;\n",
       "    }\n",
       "\n",
       "    .dataframe tbody tr th {\n",
       "        vertical-align: top;\n",
       "    }\n",
       "\n",
       "    .dataframe thead th {\n",
       "        text-align: right;\n",
       "    }\n",
       "</style>\n",
       "<table border=\"1\" class=\"dataframe\">\n",
       "  <thead>\n",
       "    <tr style=\"text-align: right;\">\n",
       "      <th></th>\n",
       "      <th>Date</th>\n",
       "      <th>Country</th>\n",
       "      <th>City</th>\n",
       "      <th>Specie</th>\n",
       "      <th>median</th>\n",
       "    </tr>\n",
       "  </thead>\n",
       "  <tbody>\n",
       "    <tr>\n",
       "      <th>0</th>\n",
       "      <td>7/5/2021</td>\n",
       "      <td>BR</td>\n",
       "      <td>São José dos Campos</td>\n",
       "      <td>no2</td>\n",
       "      <td>3.7</td>\n",
       "    </tr>\n",
       "    <tr>\n",
       "      <th>1</th>\n",
       "      <td>7/16/2021</td>\n",
       "      <td>BR</td>\n",
       "      <td>São José dos Campos</td>\n",
       "      <td>no2</td>\n",
       "      <td>6.9</td>\n",
       "    </tr>\n",
       "    <tr>\n",
       "      <th>2</th>\n",
       "      <td>7/27/2021</td>\n",
       "      <td>BR</td>\n",
       "      <td>São José dos Campos</td>\n",
       "      <td>no2</td>\n",
       "      <td>14.7</td>\n",
       "    </tr>\n",
       "    <tr>\n",
       "      <th>3</th>\n",
       "      <td>8/3/2021</td>\n",
       "      <td>BR</td>\n",
       "      <td>São José dos Campos</td>\n",
       "      <td>no2</td>\n",
       "      <td>6.4</td>\n",
       "    </tr>\n",
       "    <tr>\n",
       "      <th>4</th>\n",
       "      <td>8/29/2021</td>\n",
       "      <td>BR</td>\n",
       "      <td>São José dos Campos</td>\n",
       "      <td>no2</td>\n",
       "      <td>2.3</td>\n",
       "    </tr>\n",
       "    <tr>\n",
       "      <th>5</th>\n",
       "      <td>9/21/2021</td>\n",
       "      <td>BR</td>\n",
       "      <td>São José dos Campos</td>\n",
       "      <td>no2</td>\n",
       "      <td>5.1</td>\n",
       "    </tr>\n",
       "    <tr>\n",
       "      <th>6</th>\n",
       "      <td>8/22/2021</td>\n",
       "      <td>BR</td>\n",
       "      <td>São José dos Campos</td>\n",
       "      <td>no2</td>\n",
       "      <td>16.5</td>\n",
       "    </tr>\n",
       "    <tr>\n",
       "      <th>7</th>\n",
       "      <td>9/11/2021</td>\n",
       "      <td>BR</td>\n",
       "      <td>São José dos Campos</td>\n",
       "      <td>no2</td>\n",
       "      <td>9.6</td>\n",
       "    </tr>\n",
       "    <tr>\n",
       "      <th>8</th>\n",
       "      <td>7/2/2021</td>\n",
       "      <td>BR</td>\n",
       "      <td>São José dos Campos</td>\n",
       "      <td>no2</td>\n",
       "      <td>13.8</td>\n",
       "    </tr>\n",
       "    <tr>\n",
       "      <th>9</th>\n",
       "      <td>7/7/2021</td>\n",
       "      <td>BR</td>\n",
       "      <td>São José dos Campos</td>\n",
       "      <td>no2</td>\n",
       "      <td>6.9</td>\n",
       "    </tr>\n",
       "  </tbody>\n",
       "</table>\n",
       "</div>"
      ],
      "text/plain": [
       "        Date Country                 City Specie  median\n",
       "0   7/5/2021      BR  São José dos Campos    no2     3.7\n",
       "1  7/16/2021      BR  São José dos Campos    no2     6.9\n",
       "2  7/27/2021      BR  São José dos Campos    no2    14.7\n",
       "3   8/3/2021      BR  São José dos Campos    no2     6.4\n",
       "4  8/29/2021      BR  São José dos Campos    no2     2.3\n",
       "5  9/21/2021      BR  São José dos Campos    no2     5.1\n",
       "6  8/22/2021      BR  São José dos Campos    no2    16.5\n",
       "7  9/11/2021      BR  São José dos Campos    no2     9.6\n",
       "8   7/2/2021      BR  São José dos Campos    no2    13.8\n",
       "9   7/7/2021      BR  São José dos Campos    no2     6.9"
      ]
     },
     "execution_count": 62,
     "metadata": {},
     "output_type": "execute_result"
    }
   ],
   "source": [
    "# Loading the data\n",
    "raw_data_2021_Q3 = pd.read_csv(r\"/kaggle/input/complete-raw-median/waqi-covid19-airqualitydata-2021Q3.csv\")\n",
    "\n",
    "# print the shape\n",
    "print(raw_data_2021_Q3.shape)\n",
    "\n",
    "#runs the first 5 rows\n",
    "raw_data_2021_Q3.head(10)"
   ]
  },
  {
   "cell_type": "code",
   "execution_count": 63,
   "id": "acb0eeae",
   "metadata": {
    "execution": {
     "iopub.execute_input": "2025-01-27T13:49:33.626214Z",
     "iopub.status.busy": "2025-01-27T13:49:33.625852Z",
     "iopub.status.idle": "2025-01-27T13:49:33.713918Z",
     "shell.execute_reply": "2025-01-27T13:49:33.712954Z"
    },
    "id": "JeJKKX7h77Fb",
    "papermill": {
     "duration": 0.139167,
     "end_time": "2025-01-27T13:49:33.715911",
     "exception": false,
     "start_time": "2025-01-27T13:49:33.576744",
     "status": "completed"
    },
    "tags": []
   },
   "outputs": [],
   "source": [
    "# Convert 'Date' to datetime\n",
    "raw_data_2021_Q3['Date'] = pd.to_datetime(raw_data_2021_Q3['Date'])"
   ]
  },
  {
   "cell_type": "code",
   "execution_count": 64,
   "id": "f058090f",
   "metadata": {
    "execution": {
     "iopub.execute_input": "2025-01-27T13:49:33.809334Z",
     "iopub.status.busy": "2025-01-27T13:49:33.808880Z",
     "iopub.status.idle": "2025-01-27T13:49:33.815468Z",
     "shell.execute_reply": "2025-01-27T13:49:33.814319Z"
    },
    "executionInfo": {
     "elapsed": 4,
     "status": "ok",
     "timestamp": 1734445433318,
     "user": {
      "displayName": "Tahmida Majumder",
      "userId": "15415648085337204568"
     },
     "user_tz": -480
    },
    "id": "-dawFSwX77Fb",
    "outputId": "be86aa29-f511-4143-f68e-6fd3bdf2d30a",
    "papermill": {
     "duration": 0.055318,
     "end_time": "2025-01-27T13:49:33.817129",
     "exception": false,
     "start_time": "2025-01-27T13:49:33.761811",
     "status": "completed"
    },
    "tags": []
   },
   "outputs": [
    {
     "data": {
      "text/plain": [
       "(570079, 5)"
      ]
     },
     "execution_count": 64,
     "metadata": {},
     "output_type": "execute_result"
    }
   ],
   "source": [
    "raw_data_2021_Q3.shape"
   ]
  },
  {
   "cell_type": "code",
   "execution_count": 65,
   "id": "0347caa4",
   "metadata": {
    "execution": {
     "iopub.execute_input": "2025-01-27T13:49:33.909734Z",
     "iopub.status.busy": "2025-01-27T13:49:33.909326Z",
     "iopub.status.idle": "2025-01-27T13:49:34.332012Z",
     "shell.execute_reply": "2025-01-27T13:49:34.330671Z"
    },
    "id": "26Jtc7WT77Fb",
    "papermill": {
     "duration": 0.47109,
     "end_time": "2025-01-27T13:49:34.334171",
     "exception": false,
     "start_time": "2025-01-27T13:49:33.863081",
     "status": "completed"
    },
    "tags": []
   },
   "outputs": [],
   "source": [
    "# Pivot the data\n",
    "data_df_2021_Q3 = raw_data_2021_Q3.pivot_table(\n",
    "    index=['Date', 'Country', 'City'],  # Grouping columns\n",
    "    columns='Specie',                  # Unique values become columns\n",
    "    values='median',                   # Values to aggregate\n",
    "    aggfunc='mean'                     # Aggregation function\n",
    ").reset_index()\n"
   ]
  },
  {
   "cell_type": "code",
   "execution_count": 66,
   "id": "87dc2299",
   "metadata": {
    "execution": {
     "iopub.execute_input": "2025-01-27T13:49:34.425139Z",
     "iopub.status.busy": "2025-01-27T13:49:34.424704Z",
     "iopub.status.idle": "2025-01-27T13:49:34.452833Z",
     "shell.execute_reply": "2025-01-27T13:49:34.451536Z"
    },
    "executionInfo": {
     "elapsed": 11,
     "status": "ok",
     "timestamp": 1734445433727,
     "user": {
      "displayName": "Tahmida Majumder",
      "userId": "15415648085337204568"
     },
     "user_tz": -480
    },
    "id": "6er8GPv877Fc",
    "outputId": "2b614acf-5bcd-4f5d-baf7-578b9cd1aa1d",
    "papermill": {
     "duration": 0.075307,
     "end_time": "2025-01-27T13:49:34.454646",
     "exception": false,
     "start_time": "2025-01-27T13:49:34.379339",
     "status": "completed"
    },
    "tags": []
   },
   "outputs": [
    {
     "name": "stdout",
     "output_type": "stream",
     "text": [
      "(57529, 22)\n"
     ]
    },
    {
     "data": {
      "text/html": [
       "<div>\n",
       "<style scoped>\n",
       "    .dataframe tbody tr th:only-of-type {\n",
       "        vertical-align: middle;\n",
       "    }\n",
       "\n",
       "    .dataframe tbody tr th {\n",
       "        vertical-align: top;\n",
       "    }\n",
       "\n",
       "    .dataframe thead th {\n",
       "        text-align: right;\n",
       "    }\n",
       "</style>\n",
       "<table border=\"1\" class=\"dataframe\">\n",
       "  <thead>\n",
       "    <tr style=\"text-align: right;\">\n",
       "      <th>Specie</th>\n",
       "      <th>Date</th>\n",
       "      <th>Country</th>\n",
       "      <th>City</th>\n",
       "      <th>aqi</th>\n",
       "      <th>co</th>\n",
       "      <th>dew</th>\n",
       "      <th>humidity</th>\n",
       "      <th>mepaqi</th>\n",
       "      <th>neph</th>\n",
       "      <th>no2</th>\n",
       "      <th>...</th>\n",
       "      <th>pm10</th>\n",
       "      <th>pm25</th>\n",
       "      <th>precipitation</th>\n",
       "      <th>pressure</th>\n",
       "      <th>so2</th>\n",
       "      <th>temperature</th>\n",
       "      <th>uvi</th>\n",
       "      <th>wd</th>\n",
       "      <th>wind-gust</th>\n",
       "      <th>wind-speed</th>\n",
       "    </tr>\n",
       "  </thead>\n",
       "  <tbody>\n",
       "    <tr>\n",
       "      <th>0</th>\n",
       "      <td>2021-06-28</td>\n",
       "      <td>AE</td>\n",
       "      <td>Abu Dhabi</td>\n",
       "      <td>NaN</td>\n",
       "      <td>0.1</td>\n",
       "      <td>19.0</td>\n",
       "      <td>30.0</td>\n",
       "      <td>NaN</td>\n",
       "      <td>NaN</td>\n",
       "      <td>7.8</td>\n",
       "      <td>...</td>\n",
       "      <td>194.0</td>\n",
       "      <td>151.0</td>\n",
       "      <td>NaN</td>\n",
       "      <td>1002.0</td>\n",
       "      <td>4.1</td>\n",
       "      <td>37.0</td>\n",
       "      <td>NaN</td>\n",
       "      <td>NaN</td>\n",
       "      <td>NaN</td>\n",
       "      <td>4.6</td>\n",
       "    </tr>\n",
       "    <tr>\n",
       "      <th>1</th>\n",
       "      <td>2021-06-28</td>\n",
       "      <td>AE</td>\n",
       "      <td>Dubai</td>\n",
       "      <td>NaN</td>\n",
       "      <td>NaN</td>\n",
       "      <td>20.0</td>\n",
       "      <td>39.0</td>\n",
       "      <td>NaN</td>\n",
       "      <td>NaN</td>\n",
       "      <td>NaN</td>\n",
       "      <td>...</td>\n",
       "      <td>NaN</td>\n",
       "      <td>NaN</td>\n",
       "      <td>NaN</td>\n",
       "      <td>1003.0</td>\n",
       "      <td>NaN</td>\n",
       "      <td>37.0</td>\n",
       "      <td>NaN</td>\n",
       "      <td>NaN</td>\n",
       "      <td>NaN</td>\n",
       "      <td>4.1</td>\n",
       "    </tr>\n",
       "    <tr>\n",
       "      <th>2</th>\n",
       "      <td>2021-06-28</td>\n",
       "      <td>AF</td>\n",
       "      <td>Kabul</td>\n",
       "      <td>NaN</td>\n",
       "      <td>NaN</td>\n",
       "      <td>5.0</td>\n",
       "      <td>29.0</td>\n",
       "      <td>NaN</td>\n",
       "      <td>NaN</td>\n",
       "      <td>NaN</td>\n",
       "      <td>...</td>\n",
       "      <td>NaN</td>\n",
       "      <td>157.0</td>\n",
       "      <td>NaN</td>\n",
       "      <td>1018.0</td>\n",
       "      <td>NaN</td>\n",
       "      <td>25.0</td>\n",
       "      <td>NaN</td>\n",
       "      <td>NaN</td>\n",
       "      <td>10.2</td>\n",
       "      <td>2.5</td>\n",
       "    </tr>\n",
       "    <tr>\n",
       "      <th>3</th>\n",
       "      <td>2021-06-28</td>\n",
       "      <td>AR</td>\n",
       "      <td>Buenos Aires</td>\n",
       "      <td>NaN</td>\n",
       "      <td>1.6</td>\n",
       "      <td>3.0</td>\n",
       "      <td>77.3</td>\n",
       "      <td>NaN</td>\n",
       "      <td>NaN</td>\n",
       "      <td>6.0</td>\n",
       "      <td>...</td>\n",
       "      <td>10.0</td>\n",
       "      <td>25.0</td>\n",
       "      <td>99.0</td>\n",
       "      <td>1021.0</td>\n",
       "      <td>1.1</td>\n",
       "      <td>7.7</td>\n",
       "      <td>NaN</td>\n",
       "      <td>247.5</td>\n",
       "      <td>10.7</td>\n",
       "      <td>4.1</td>\n",
       "    </tr>\n",
       "    <tr>\n",
       "      <th>4</th>\n",
       "      <td>2021-06-28</td>\n",
       "      <td>AT</td>\n",
       "      <td>Graz</td>\n",
       "      <td>NaN</td>\n",
       "      <td>0.1</td>\n",
       "      <td>15.5</td>\n",
       "      <td>51.3</td>\n",
       "      <td>NaN</td>\n",
       "      <td>NaN</td>\n",
       "      <td>6.4</td>\n",
       "      <td>...</td>\n",
       "      <td>16.0</td>\n",
       "      <td>NaN</td>\n",
       "      <td>99.0</td>\n",
       "      <td>1015.1</td>\n",
       "      <td>0.6</td>\n",
       "      <td>26.1</td>\n",
       "      <td>NaN</td>\n",
       "      <td>NaN</td>\n",
       "      <td>6.0</td>\n",
       "      <td>2.0</td>\n",
       "    </tr>\n",
       "  </tbody>\n",
       "</table>\n",
       "<p>5 rows × 22 columns</p>\n",
       "</div>"
      ],
      "text/plain": [
       "Specie       Date Country          City  aqi   co   dew  humidity  mepaqi  \\\n",
       "0      2021-06-28      AE     Abu Dhabi  NaN  0.1  19.0      30.0     NaN   \n",
       "1      2021-06-28      AE         Dubai  NaN  NaN  20.0      39.0     NaN   \n",
       "2      2021-06-28      AF         Kabul  NaN  NaN   5.0      29.0     NaN   \n",
       "3      2021-06-28      AR  Buenos Aires  NaN  1.6   3.0      77.3     NaN   \n",
       "4      2021-06-28      AT          Graz  NaN  0.1  15.5      51.3     NaN   \n",
       "\n",
       "Specie  neph  no2  ...   pm10   pm25  precipitation  pressure  so2  \\\n",
       "0        NaN  7.8  ...  194.0  151.0            NaN    1002.0  4.1   \n",
       "1        NaN  NaN  ...    NaN    NaN            NaN    1003.0  NaN   \n",
       "2        NaN  NaN  ...    NaN  157.0            NaN    1018.0  NaN   \n",
       "3        NaN  6.0  ...   10.0   25.0           99.0    1021.0  1.1   \n",
       "4        NaN  6.4  ...   16.0    NaN           99.0    1015.1  0.6   \n",
       "\n",
       "Specie  temperature  uvi     wd  wind-gust  wind-speed  \n",
       "0              37.0  NaN    NaN        NaN         4.6  \n",
       "1              37.0  NaN    NaN        NaN         4.1  \n",
       "2              25.0  NaN    NaN       10.2         2.5  \n",
       "3               7.7  NaN  247.5       10.7         4.1  \n",
       "4              26.1  NaN    NaN        6.0         2.0  \n",
       "\n",
       "[5 rows x 22 columns]"
      ]
     },
     "execution_count": 66,
     "metadata": {},
     "output_type": "execute_result"
    }
   ],
   "source": [
    "print(data_df_2021_Q3.shape)\n",
    "data_df_2021_Q3.head()"
   ]
  },
  {
   "cell_type": "code",
   "execution_count": 67,
   "id": "da679512",
   "metadata": {
    "execution": {
     "iopub.execute_input": "2025-01-27T13:49:34.546175Z",
     "iopub.status.busy": "2025-01-27T13:49:34.545780Z",
     "iopub.status.idle": "2025-01-27T13:49:34.565142Z",
     "shell.execute_reply": "2025-01-27T13:49:34.563701Z"
    },
    "executionInfo": {
     "elapsed": 9,
     "status": "ok",
     "timestamp": 1734445433728,
     "user": {
      "displayName": "Tahmida Majumder",
      "userId": "15415648085337204568"
     },
     "user_tz": -480
    },
    "id": "lIKlQuFQ77Fc",
    "outputId": "fbe44aec-422a-41a6-ce8e-d4a22500a18f",
    "papermill": {
     "duration": 0.067585,
     "end_time": "2025-01-27T13:49:34.567140",
     "exception": false,
     "start_time": "2025-01-27T13:49:34.499555",
     "status": "completed"
    },
    "tags": []
   },
   "outputs": [
    {
     "data": {
      "text/plain": [
       "Specie\n",
       "Date                 0\n",
       "Country              0\n",
       "City                 0\n",
       "aqi              56333\n",
       "co               21042\n",
       "dew              12891\n",
       "humidity          2237\n",
       "mepaqi           57432\n",
       "neph             57333\n",
       "no2              10657\n",
       "o3               14558\n",
       "pm1              57173\n",
       "pm10             10242\n",
       "pm25              8362\n",
       "precipitation    51411\n",
       "pressure          2320\n",
       "so2              18480\n",
       "temperature       2216\n",
       "uvi              56561\n",
       "wd               54784\n",
       "wind-gust        26014\n",
       "wind-speed        2926\n",
       "dtype: int64"
      ]
     },
     "execution_count": 67,
     "metadata": {},
     "output_type": "execute_result"
    }
   ],
   "source": [
    "data_df_2021_Q3.isnull().sum()"
   ]
  },
  {
   "cell_type": "code",
   "execution_count": null,
   "id": "ba0105e2",
   "metadata": {
    "id": "VEYeMekUkm1x",
    "papermill": {
     "duration": 0.047888,
     "end_time": "2025-01-27T13:49:34.661073",
     "exception": false,
     "start_time": "2025-01-27T13:49:34.613185",
     "status": "completed"
    },
    "tags": []
   },
   "outputs": [],
   "source": []
  },
  {
   "cell_type": "markdown",
   "id": "76954435",
   "metadata": {
    "id": "hQImY60a8Q8k",
    "papermill": {
     "duration": 0.044735,
     "end_time": "2025-01-27T13:49:34.751255",
     "exception": false,
     "start_time": "2025-01-27T13:49:34.706520",
     "status": "completed"
    },
    "tags": []
   },
   "source": [
    "# 2021_Q4"
   ]
  },
  {
   "cell_type": "code",
   "execution_count": 68,
   "id": "3b4df122",
   "metadata": {
    "execution": {
     "iopub.execute_input": "2025-01-27T13:49:34.847519Z",
     "iopub.status.busy": "2025-01-27T13:49:34.847135Z",
     "iopub.status.idle": "2025-01-27T13:49:35.350629Z",
     "shell.execute_reply": "2025-01-27T13:49:35.349394Z"
    },
    "executionInfo": {
     "elapsed": 1055,
     "status": "ok",
     "timestamp": 1734445434776,
     "user": {
      "displayName": "Tahmida Majumder",
      "userId": "15415648085337204568"
     },
     "user_tz": -480
    },
    "id": "bDDkw4C18Q8k",
    "outputId": "47dd3bc5-47a6-4ba2-97a5-f59b302dbc62",
    "papermill": {
     "duration": 0.553162,
     "end_time": "2025-01-27T13:49:35.352460",
     "exception": false,
     "start_time": "2025-01-27T13:49:34.799298",
     "status": "completed"
    },
    "tags": []
   },
   "outputs": [
    {
     "name": "stdout",
     "output_type": "stream",
     "text": [
      "(548423, 5)\n"
     ]
    },
    {
     "data": {
      "text/html": [
       "<div>\n",
       "<style scoped>\n",
       "    .dataframe tbody tr th:only-of-type {\n",
       "        vertical-align: middle;\n",
       "    }\n",
       "\n",
       "    .dataframe tbody tr th {\n",
       "        vertical-align: top;\n",
       "    }\n",
       "\n",
       "    .dataframe thead th {\n",
       "        text-align: right;\n",
       "    }\n",
       "</style>\n",
       "<table border=\"1\" class=\"dataframe\">\n",
       "  <thead>\n",
       "    <tr style=\"text-align: right;\">\n",
       "      <th></th>\n",
       "      <th>Date</th>\n",
       "      <th>Country</th>\n",
       "      <th>City</th>\n",
       "      <th>Specie</th>\n",
       "      <th>median</th>\n",
       "    </tr>\n",
       "  </thead>\n",
       "  <tbody>\n",
       "    <tr>\n",
       "      <th>0</th>\n",
       "      <td>10/24/2021</td>\n",
       "      <td>BH</td>\n",
       "      <td>Manama</td>\n",
       "      <td>pressure</td>\n",
       "      <td>1010.7</td>\n",
       "    </tr>\n",
       "    <tr>\n",
       "      <th>1</th>\n",
       "      <td>11/12/2021</td>\n",
       "      <td>BH</td>\n",
       "      <td>Manama</td>\n",
       "      <td>pressure</td>\n",
       "      <td>1013.6</td>\n",
       "    </tr>\n",
       "    <tr>\n",
       "      <th>2</th>\n",
       "      <td>11/27/2021</td>\n",
       "      <td>BH</td>\n",
       "      <td>Manama</td>\n",
       "      <td>pressure</td>\n",
       "      <td>1015.8</td>\n",
       "    </tr>\n",
       "    <tr>\n",
       "      <th>3</th>\n",
       "      <td>12/10/2021</td>\n",
       "      <td>BH</td>\n",
       "      <td>Manama</td>\n",
       "      <td>pressure</td>\n",
       "      <td>1020.7</td>\n",
       "    </tr>\n",
       "    <tr>\n",
       "      <th>4</th>\n",
       "      <td>12/22/2021</td>\n",
       "      <td>BH</td>\n",
       "      <td>Manama</td>\n",
       "      <td>pressure</td>\n",
       "      <td>1017.5</td>\n",
       "    </tr>\n",
       "    <tr>\n",
       "      <th>5</th>\n",
       "      <td>12/26/2021</td>\n",
       "      <td>BH</td>\n",
       "      <td>Manama</td>\n",
       "      <td>pressure</td>\n",
       "      <td>1019.6</td>\n",
       "    </tr>\n",
       "    <tr>\n",
       "      <th>6</th>\n",
       "      <td>10/11/2021</td>\n",
       "      <td>BH</td>\n",
       "      <td>Manama</td>\n",
       "      <td>pressure</td>\n",
       "      <td>1007.3</td>\n",
       "    </tr>\n",
       "    <tr>\n",
       "      <th>7</th>\n",
       "      <td>10/18/2021</td>\n",
       "      <td>BH</td>\n",
       "      <td>Manama</td>\n",
       "      <td>pressure</td>\n",
       "      <td>1008.7</td>\n",
       "    </tr>\n",
       "    <tr>\n",
       "      <th>8</th>\n",
       "      <td>11/15/2021</td>\n",
       "      <td>BH</td>\n",
       "      <td>Manama</td>\n",
       "      <td>pressure</td>\n",
       "      <td>1013.1</td>\n",
       "    </tr>\n",
       "    <tr>\n",
       "      <th>9</th>\n",
       "      <td>11/16/2021</td>\n",
       "      <td>BH</td>\n",
       "      <td>Manama</td>\n",
       "      <td>pressure</td>\n",
       "      <td>1010.4</td>\n",
       "    </tr>\n",
       "  </tbody>\n",
       "</table>\n",
       "</div>"
      ],
      "text/plain": [
       "         Date Country    City    Specie  median\n",
       "0  10/24/2021      BH  Manama  pressure  1010.7\n",
       "1  11/12/2021      BH  Manama  pressure  1013.6\n",
       "2  11/27/2021      BH  Manama  pressure  1015.8\n",
       "3  12/10/2021      BH  Manama  pressure  1020.7\n",
       "4  12/22/2021      BH  Manama  pressure  1017.5\n",
       "5  12/26/2021      BH  Manama  pressure  1019.6\n",
       "6  10/11/2021      BH  Manama  pressure  1007.3\n",
       "7  10/18/2021      BH  Manama  pressure  1008.7\n",
       "8  11/15/2021      BH  Manama  pressure  1013.1\n",
       "9  11/16/2021      BH  Manama  pressure  1010.4"
      ]
     },
     "execution_count": 68,
     "metadata": {},
     "output_type": "execute_result"
    }
   ],
   "source": [
    "# Loading the data\n",
    "raw_data_2021_Q4 = pd.read_csv(r\"/kaggle/input/complete-raw-median/waqi-covid19-airqualitydata-2021Q4.csv\")\n",
    "\n",
    "# print the shape\n",
    "print(raw_data_2021_Q4.shape)\n",
    "\n",
    "#runs the first 5 rows\n",
    "raw_data_2021_Q4.head(10)"
   ]
  },
  {
   "cell_type": "code",
   "execution_count": 69,
   "id": "f1f59c54",
   "metadata": {
    "execution": {
     "iopub.execute_input": "2025-01-27T13:49:35.450713Z",
     "iopub.status.busy": "2025-01-27T13:49:35.450367Z",
     "iopub.status.idle": "2025-01-27T13:49:35.532455Z",
     "shell.execute_reply": "2025-01-27T13:49:35.531159Z"
    },
    "id": "IINip_WP8Q8k",
    "papermill": {
     "duration": 0.131141,
     "end_time": "2025-01-27T13:49:35.534580",
     "exception": false,
     "start_time": "2025-01-27T13:49:35.403439",
     "status": "completed"
    },
    "tags": []
   },
   "outputs": [],
   "source": [
    "# Convert 'Date' to datetime\n",
    "raw_data_2021_Q4['Date'] = pd.to_datetime(raw_data_2021_Q4['Date'])"
   ]
  },
  {
   "cell_type": "code",
   "execution_count": 70,
   "id": "fd0b0a2c",
   "metadata": {
    "execution": {
     "iopub.execute_input": "2025-01-27T13:49:35.636236Z",
     "iopub.status.busy": "2025-01-27T13:49:35.635886Z",
     "iopub.status.idle": "2025-01-27T13:49:35.642694Z",
     "shell.execute_reply": "2025-01-27T13:49:35.641491Z"
    },
    "executionInfo": {
     "elapsed": 9,
     "status": "ok",
     "timestamp": 1734445434776,
     "user": {
      "displayName": "Tahmida Majumder",
      "userId": "15415648085337204568"
     },
     "user_tz": -480
    },
    "id": "aIKkewJJ8Q8l",
    "outputId": "28c2e81d-8f48-4aac-fa6f-6924da89dfe0",
    "papermill": {
     "duration": 0.056502,
     "end_time": "2025-01-27T13:49:35.644507",
     "exception": false,
     "start_time": "2025-01-27T13:49:35.588005",
     "status": "completed"
    },
    "tags": []
   },
   "outputs": [
    {
     "data": {
      "text/plain": [
       "(548423, 5)"
      ]
     },
     "execution_count": 70,
     "metadata": {},
     "output_type": "execute_result"
    }
   ],
   "source": [
    "raw_data_2021_Q4.shape"
   ]
  },
  {
   "cell_type": "code",
   "execution_count": 71,
   "id": "ed6af937",
   "metadata": {
    "execution": {
     "iopub.execute_input": "2025-01-27T13:49:35.738207Z",
     "iopub.status.busy": "2025-01-27T13:49:35.737785Z",
     "iopub.status.idle": "2025-01-27T13:49:36.177694Z",
     "shell.execute_reply": "2025-01-27T13:49:36.176491Z"
    },
    "id": "qh-GSPCC8Q8l",
    "papermill": {
     "duration": 0.489271,
     "end_time": "2025-01-27T13:49:36.179854",
     "exception": false,
     "start_time": "2025-01-27T13:49:35.690583",
     "status": "completed"
    },
    "tags": []
   },
   "outputs": [],
   "source": [
    "# Pivot the data\n",
    "data_df_2021_Q4 = raw_data_2021_Q4.pivot_table(\n",
    "    index=['Date', 'Country', 'City'],  # Grouping columns\n",
    "    columns='Specie',                  # Unique values become columns\n",
    "    values='median',                   # Values to aggregate\n",
    "    aggfunc='mean'                     # Aggregation function\n",
    ").reset_index()\n"
   ]
  },
  {
   "cell_type": "code",
   "execution_count": 72,
   "id": "a8681147",
   "metadata": {
    "execution": {
     "iopub.execute_input": "2025-01-27T13:49:36.273516Z",
     "iopub.status.busy": "2025-01-27T13:49:36.273126Z",
     "iopub.status.idle": "2025-01-27T13:49:36.299577Z",
     "shell.execute_reply": "2025-01-27T13:49:36.298397Z"
    },
    "executionInfo": {
     "elapsed": 8,
     "status": "ok",
     "timestamp": 1734445435256,
     "user": {
      "displayName": "Tahmida Majumder",
      "userId": "15415648085337204568"
     },
     "user_tz": -480
    },
    "id": "7n4M9wEZ8Q8l",
    "outputId": "28fbdd4e-073d-40f6-9b20-a8ee54781fcb",
    "papermill": {
     "duration": 0.075415,
     "end_time": "2025-01-27T13:49:36.301318",
     "exception": false,
     "start_time": "2025-01-27T13:49:36.225903",
     "status": "completed"
    },
    "tags": []
   },
   "outputs": [
    {
     "name": "stdout",
     "output_type": "stream",
     "text": [
      "(57596, 22)\n"
     ]
    },
    {
     "data": {
      "text/html": [
       "<div>\n",
       "<style scoped>\n",
       "    .dataframe tbody tr th:only-of-type {\n",
       "        vertical-align: middle;\n",
       "    }\n",
       "\n",
       "    .dataframe tbody tr th {\n",
       "        vertical-align: top;\n",
       "    }\n",
       "\n",
       "    .dataframe thead th {\n",
       "        text-align: right;\n",
       "    }\n",
       "</style>\n",
       "<table border=\"1\" class=\"dataframe\">\n",
       "  <thead>\n",
       "    <tr style=\"text-align: right;\">\n",
       "      <th>Specie</th>\n",
       "      <th>Date</th>\n",
       "      <th>Country</th>\n",
       "      <th>City</th>\n",
       "      <th>aqi</th>\n",
       "      <th>co</th>\n",
       "      <th>dew</th>\n",
       "      <th>humidity</th>\n",
       "      <th>mepaqi</th>\n",
       "      <th>neph</th>\n",
       "      <th>no2</th>\n",
       "      <th>...</th>\n",
       "      <th>pm10</th>\n",
       "      <th>pm25</th>\n",
       "      <th>precipitation</th>\n",
       "      <th>pressure</th>\n",
       "      <th>so2</th>\n",
       "      <th>temperature</th>\n",
       "      <th>uvi</th>\n",
       "      <th>wd</th>\n",
       "      <th>wind-gust</th>\n",
       "      <th>wind-speed</th>\n",
       "    </tr>\n",
       "  </thead>\n",
       "  <tbody>\n",
       "    <tr>\n",
       "      <th>0</th>\n",
       "      <td>2021-09-27</td>\n",
       "      <td>AE</td>\n",
       "      <td>Abu Dhabi</td>\n",
       "      <td>NaN</td>\n",
       "      <td>0.1</td>\n",
       "      <td>21.0</td>\n",
       "      <td>49.0</td>\n",
       "      <td>NaN</td>\n",
       "      <td>NaN</td>\n",
       "      <td>5.1</td>\n",
       "      <td>...</td>\n",
       "      <td>107.0</td>\n",
       "      <td>112.0</td>\n",
       "      <td>NaN</td>\n",
       "      <td>1003.0</td>\n",
       "      <td>3.1</td>\n",
       "      <td>33.0</td>\n",
       "      <td>NaN</td>\n",
       "      <td>NaN</td>\n",
       "      <td>NaN</td>\n",
       "      <td>3.0</td>\n",
       "    </tr>\n",
       "    <tr>\n",
       "      <th>1</th>\n",
       "      <td>2021-09-27</td>\n",
       "      <td>AE</td>\n",
       "      <td>Dubai</td>\n",
       "      <td>NaN</td>\n",
       "      <td>NaN</td>\n",
       "      <td>24.0</td>\n",
       "      <td>59.0</td>\n",
       "      <td>NaN</td>\n",
       "      <td>NaN</td>\n",
       "      <td>NaN</td>\n",
       "      <td>...</td>\n",
       "      <td>NaN</td>\n",
       "      <td>70.0</td>\n",
       "      <td>NaN</td>\n",
       "      <td>1003.0</td>\n",
       "      <td>NaN</td>\n",
       "      <td>33.0</td>\n",
       "      <td>NaN</td>\n",
       "      <td>NaN</td>\n",
       "      <td>NaN</td>\n",
       "      <td>3.0</td>\n",
       "    </tr>\n",
       "    <tr>\n",
       "      <th>2</th>\n",
       "      <td>2021-09-27</td>\n",
       "      <td>AR</td>\n",
       "      <td>Buenos Aires</td>\n",
       "      <td>NaN</td>\n",
       "      <td>5.7</td>\n",
       "      <td>12.8</td>\n",
       "      <td>87.7</td>\n",
       "      <td>NaN</td>\n",
       "      <td>NaN</td>\n",
       "      <td>6.9</td>\n",
       "      <td>...</td>\n",
       "      <td>17.0</td>\n",
       "      <td>50.0</td>\n",
       "      <td>NaN</td>\n",
       "      <td>1018.4</td>\n",
       "      <td>NaN</td>\n",
       "      <td>14.9</td>\n",
       "      <td>NaN</td>\n",
       "      <td>NaN</td>\n",
       "      <td>8.0</td>\n",
       "      <td>6.0</td>\n",
       "    </tr>\n",
       "    <tr>\n",
       "      <th>3</th>\n",
       "      <td>2021-09-27</td>\n",
       "      <td>AT</td>\n",
       "      <td>Graz</td>\n",
       "      <td>NaN</td>\n",
       "      <td>0.1</td>\n",
       "      <td>14.8</td>\n",
       "      <td>79.6</td>\n",
       "      <td>NaN</td>\n",
       "      <td>NaN</td>\n",
       "      <td>12.4</td>\n",
       "      <td>...</td>\n",
       "      <td>19.0</td>\n",
       "      <td>NaN</td>\n",
       "      <td>0.3</td>\n",
       "      <td>974.8</td>\n",
       "      <td>1.1</td>\n",
       "      <td>16.6</td>\n",
       "      <td>NaN</td>\n",
       "      <td>NaN</td>\n",
       "      <td>2.5</td>\n",
       "      <td>1.2</td>\n",
       "    </tr>\n",
       "    <tr>\n",
       "      <th>4</th>\n",
       "      <td>2021-09-27</td>\n",
       "      <td>AT</td>\n",
       "      <td>Innsbruck</td>\n",
       "      <td>NaN</td>\n",
       "      <td>0.1</td>\n",
       "      <td>13.2</td>\n",
       "      <td>86.2</td>\n",
       "      <td>NaN</td>\n",
       "      <td>NaN</td>\n",
       "      <td>9.6</td>\n",
       "      <td>...</td>\n",
       "      <td>12.0</td>\n",
       "      <td>NaN</td>\n",
       "      <td>0.6</td>\n",
       "      <td>951.6</td>\n",
       "      <td>0.6</td>\n",
       "      <td>15.2</td>\n",
       "      <td>NaN</td>\n",
       "      <td>NaN</td>\n",
       "      <td>6.0</td>\n",
       "      <td>1.0</td>\n",
       "    </tr>\n",
       "  </tbody>\n",
       "</table>\n",
       "<p>5 rows × 22 columns</p>\n",
       "</div>"
      ],
      "text/plain": [
       "Specie       Date Country          City  aqi   co   dew  humidity  mepaqi  \\\n",
       "0      2021-09-27      AE     Abu Dhabi  NaN  0.1  21.0      49.0     NaN   \n",
       "1      2021-09-27      AE         Dubai  NaN  NaN  24.0      59.0     NaN   \n",
       "2      2021-09-27      AR  Buenos Aires  NaN  5.7  12.8      87.7     NaN   \n",
       "3      2021-09-27      AT          Graz  NaN  0.1  14.8      79.6     NaN   \n",
       "4      2021-09-27      AT     Innsbruck  NaN  0.1  13.2      86.2     NaN   \n",
       "\n",
       "Specie  neph   no2  ...   pm10   pm25  precipitation  pressure  so2  \\\n",
       "0        NaN   5.1  ...  107.0  112.0            NaN    1003.0  3.1   \n",
       "1        NaN   NaN  ...    NaN   70.0            NaN    1003.0  NaN   \n",
       "2        NaN   6.9  ...   17.0   50.0            NaN    1018.4  NaN   \n",
       "3        NaN  12.4  ...   19.0    NaN            0.3     974.8  1.1   \n",
       "4        NaN   9.6  ...   12.0    NaN            0.6     951.6  0.6   \n",
       "\n",
       "Specie  temperature  uvi  wd  wind-gust  wind-speed  \n",
       "0              33.0  NaN NaN        NaN         3.0  \n",
       "1              33.0  NaN NaN        NaN         3.0  \n",
       "2              14.9  NaN NaN        8.0         6.0  \n",
       "3              16.6  NaN NaN        2.5         1.2  \n",
       "4              15.2  NaN NaN        6.0         1.0  \n",
       "\n",
       "[5 rows x 22 columns]"
      ]
     },
     "execution_count": 72,
     "metadata": {},
     "output_type": "execute_result"
    }
   ],
   "source": [
    "print(data_df_2021_Q4.shape)\n",
    "data_df_2021_Q4.head()"
   ]
  },
  {
   "cell_type": "code",
   "execution_count": 73,
   "id": "4e11eba8",
   "metadata": {
    "execution": {
     "iopub.execute_input": "2025-01-27T13:49:36.396762Z",
     "iopub.status.busy": "2025-01-27T13:49:36.396354Z",
     "iopub.status.idle": "2025-01-27T13:49:36.415175Z",
     "shell.execute_reply": "2025-01-27T13:49:36.413823Z"
    },
    "executionInfo": {
     "elapsed": 7,
     "status": "ok",
     "timestamp": 1734445435256,
     "user": {
      "displayName": "Tahmida Majumder",
      "userId": "15415648085337204568"
     },
     "user_tz": -480
    },
    "id": "HLSD09398Q8l",
    "outputId": "cfd33c82-8964-49aa-b79e-337dc62a80ed",
    "papermill": {
     "duration": 0.069331,
     "end_time": "2025-01-27T13:49:36.417212",
     "exception": false,
     "start_time": "2025-01-27T13:49:36.347881",
     "status": "completed"
    },
    "tags": []
   },
   "outputs": [
    {
     "data": {
      "text/plain": [
       "Specie\n",
       "Date                 0\n",
       "Country              0\n",
       "City                 0\n",
       "aqi              56254\n",
       "co               21421\n",
       "dew              15917\n",
       "humidity          5137\n",
       "mepaqi           57498\n",
       "neph             57400\n",
       "no2              11193\n",
       "o3               15551\n",
       "pm1              57213\n",
       "pm10             10535\n",
       "pm25              9407\n",
       "precipitation    52472\n",
       "pressure          4971\n",
       "so2              19425\n",
       "temperature       4923\n",
       "uvi              56620\n",
       "wd               55617\n",
       "wind-gust        28316\n",
       "wind-speed        6031\n",
       "dtype: int64"
      ]
     },
     "execution_count": 73,
     "metadata": {},
     "output_type": "execute_result"
    }
   ],
   "source": [
    "data_df_2021_Q4.isnull().sum()"
   ]
  },
  {
   "cell_type": "code",
   "execution_count": null,
   "id": "0f9f4488",
   "metadata": {
    "id": "6mKdTCdQ-h6F",
    "papermill": {
     "duration": 0.045651,
     "end_time": "2025-01-27T13:49:36.509701",
     "exception": false,
     "start_time": "2025-01-27T13:49:36.464050",
     "status": "completed"
    },
    "tags": []
   },
   "outputs": [],
   "source": []
  },
  {
   "cell_type": "markdown",
   "id": "fc04f240",
   "metadata": {
    "id": "bb0jSl23TLES",
    "papermill": {
     "duration": 0.045251,
     "end_time": "2025-01-27T13:49:36.601026",
     "exception": false,
     "start_time": "2025-01-27T13:49:36.555775",
     "status": "completed"
    },
    "tags": []
   },
   "source": [
    "# 2020_Q1"
   ]
  },
  {
   "cell_type": "code",
   "execution_count": 74,
   "id": "288e14bf",
   "metadata": {
    "execution": {
     "iopub.execute_input": "2025-01-27T13:49:36.696514Z",
     "iopub.status.busy": "2025-01-27T13:49:36.696094Z",
     "iopub.status.idle": "2025-01-27T13:49:37.283638Z",
     "shell.execute_reply": "2025-01-27T13:49:37.282070Z"
    },
    "executionInfo": {
     "elapsed": 1028,
     "status": "ok",
     "timestamp": 1734445436278,
     "user": {
      "displayName": "Tahmida Majumder",
      "userId": "15415648085337204568"
     },
     "user_tz": -480
    },
    "id": "olJx7kX2TLET",
    "outputId": "24b93e39-8a14-40ae-adbe-94b23904766d",
    "papermill": {
     "duration": 0.639532,
     "end_time": "2025-01-27T13:49:37.289015",
     "exception": false,
     "start_time": "2025-01-27T13:49:36.649483",
     "status": "completed"
    },
    "tags": []
   },
   "outputs": [
    {
     "name": "stdout",
     "output_type": "stream",
     "text": [
      "(539573, 5)\n"
     ]
    },
    {
     "data": {
      "text/html": [
       "<div>\n",
       "<style scoped>\n",
       "    .dataframe tbody tr th:only-of-type {\n",
       "        vertical-align: middle;\n",
       "    }\n",
       "\n",
       "    .dataframe tbody tr th {\n",
       "        vertical-align: top;\n",
       "    }\n",
       "\n",
       "    .dataframe thead th {\n",
       "        text-align: right;\n",
       "    }\n",
       "</style>\n",
       "<table border=\"1\" class=\"dataframe\">\n",
       "  <thead>\n",
       "    <tr style=\"text-align: right;\">\n",
       "      <th></th>\n",
       "      <th>Date</th>\n",
       "      <th>Country</th>\n",
       "      <th>City</th>\n",
       "      <th>Specie</th>\n",
       "      <th>median</th>\n",
       "    </tr>\n",
       "  </thead>\n",
       "  <tbody>\n",
       "    <tr>\n",
       "      <th>0</th>\n",
       "      <td>1/13/2020</td>\n",
       "      <td>CO</td>\n",
       "      <td>Bogotá</td>\n",
       "      <td>so2</td>\n",
       "      <td>0.5</td>\n",
       "    </tr>\n",
       "    <tr>\n",
       "      <th>1</th>\n",
       "      <td>2/25/2020</td>\n",
       "      <td>CO</td>\n",
       "      <td>Bogotá</td>\n",
       "      <td>so2</td>\n",
       "      <td>0.8</td>\n",
       "    </tr>\n",
       "    <tr>\n",
       "      <th>2</th>\n",
       "      <td>3/9/2020</td>\n",
       "      <td>CO</td>\n",
       "      <td>Bogotá</td>\n",
       "      <td>so2</td>\n",
       "      <td>0.6</td>\n",
       "    </tr>\n",
       "    <tr>\n",
       "      <th>3</th>\n",
       "      <td>3/13/2020</td>\n",
       "      <td>CO</td>\n",
       "      <td>Bogotá</td>\n",
       "      <td>so2</td>\n",
       "      <td>0.8</td>\n",
       "    </tr>\n",
       "    <tr>\n",
       "      <th>4</th>\n",
       "      <td>3/27/2020</td>\n",
       "      <td>CO</td>\n",
       "      <td>Bogotá</td>\n",
       "      <td>so2</td>\n",
       "      <td>0.7</td>\n",
       "    </tr>\n",
       "    <tr>\n",
       "      <th>5</th>\n",
       "      <td>4/5/2020</td>\n",
       "      <td>CO</td>\n",
       "      <td>Bogotá</td>\n",
       "      <td>so2</td>\n",
       "      <td>0.6</td>\n",
       "    </tr>\n",
       "    <tr>\n",
       "      <th>6</th>\n",
       "      <td>1/1/2020</td>\n",
       "      <td>CO</td>\n",
       "      <td>Bogotá</td>\n",
       "      <td>so2</td>\n",
       "      <td>0.6</td>\n",
       "    </tr>\n",
       "    <tr>\n",
       "      <th>7</th>\n",
       "      <td>1/10/2020</td>\n",
       "      <td>CO</td>\n",
       "      <td>Bogotá</td>\n",
       "      <td>so2</td>\n",
       "      <td>0.5</td>\n",
       "    </tr>\n",
       "    <tr>\n",
       "      <th>8</th>\n",
       "      <td>2/27/2020</td>\n",
       "      <td>CO</td>\n",
       "      <td>Bogotá</td>\n",
       "      <td>so2</td>\n",
       "      <td>0.6</td>\n",
       "    </tr>\n",
       "    <tr>\n",
       "      <th>9</th>\n",
       "      <td>3/8/2020</td>\n",
       "      <td>CO</td>\n",
       "      <td>Bogotá</td>\n",
       "      <td>so2</td>\n",
       "      <td>0.6</td>\n",
       "    </tr>\n",
       "  </tbody>\n",
       "</table>\n",
       "</div>"
      ],
      "text/plain": [
       "        Date Country    City Specie  median\n",
       "0  1/13/2020      CO  Bogotá    so2     0.5\n",
       "1  2/25/2020      CO  Bogotá    so2     0.8\n",
       "2   3/9/2020      CO  Bogotá    so2     0.6\n",
       "3  3/13/2020      CO  Bogotá    so2     0.8\n",
       "4  3/27/2020      CO  Bogotá    so2     0.7\n",
       "5   4/5/2020      CO  Bogotá    so2     0.6\n",
       "6   1/1/2020      CO  Bogotá    so2     0.6\n",
       "7  1/10/2020      CO  Bogotá    so2     0.5\n",
       "8  2/27/2020      CO  Bogotá    so2     0.6\n",
       "9   3/8/2020      CO  Bogotá    so2     0.6"
      ]
     },
     "execution_count": 74,
     "metadata": {},
     "output_type": "execute_result"
    }
   ],
   "source": [
    "# Loading the data\n",
    "raw_data_2020_Q1 = pd.read_csv(r\"/kaggle/input/complete-raw-median/waqi-covid19-airqualitydata-2020Q1.csv\")\n",
    "\n",
    "# print the shape\n",
    "print(raw_data_2020_Q1.shape)\n",
    "\n",
    "#runs the first 5 rows\n",
    "raw_data_2020_Q1.head(10)"
   ]
  },
  {
   "cell_type": "code",
   "execution_count": 75,
   "id": "2107cecb",
   "metadata": {
    "execution": {
     "iopub.execute_input": "2025-01-27T13:49:37.415920Z",
     "iopub.status.busy": "2025-01-27T13:49:37.415422Z",
     "iopub.status.idle": "2025-01-27T13:49:37.512758Z",
     "shell.execute_reply": "2025-01-27T13:49:37.511646Z"
    },
    "id": "RV3cx5rqTLET",
    "papermill": {
     "duration": 0.162413,
     "end_time": "2025-01-27T13:49:37.514812",
     "exception": false,
     "start_time": "2025-01-27T13:49:37.352399",
     "status": "completed"
    },
    "tags": []
   },
   "outputs": [],
   "source": [
    "# Convert 'Date' to datetime\n",
    "raw_data_2020_Q1['Date'] = pd.to_datetime(raw_data_2020_Q1['Date'])"
   ]
  },
  {
   "cell_type": "code",
   "execution_count": 76,
   "id": "9ffc1951",
   "metadata": {
    "execution": {
     "iopub.execute_input": "2025-01-27T13:49:37.609761Z",
     "iopub.status.busy": "2025-01-27T13:49:37.609422Z",
     "iopub.status.idle": "2025-01-27T13:49:37.615968Z",
     "shell.execute_reply": "2025-01-27T13:49:37.614329Z"
    },
    "executionInfo": {
     "elapsed": 11,
     "status": "ok",
     "timestamp": 1734445436278,
     "user": {
      "displayName": "Tahmida Majumder",
      "userId": "15415648085337204568"
     },
     "user_tz": -480
    },
    "id": "CAq3ew-gTLET",
    "outputId": "d1f110fd-c5c1-42ec-f4c8-926fe2d8815f",
    "papermill": {
     "duration": 0.056505,
     "end_time": "2025-01-27T13:49:37.618140",
     "exception": false,
     "start_time": "2025-01-27T13:49:37.561635",
     "status": "completed"
    },
    "tags": []
   },
   "outputs": [
    {
     "data": {
      "text/plain": [
       "(539573, 5)"
      ]
     },
     "execution_count": 76,
     "metadata": {},
     "output_type": "execute_result"
    }
   ],
   "source": [
    "raw_data_2020_Q1.shape"
   ]
  },
  {
   "cell_type": "code",
   "execution_count": 77,
   "id": "c266650b",
   "metadata": {
    "execution": {
     "iopub.execute_input": "2025-01-27T13:49:37.777940Z",
     "iopub.status.busy": "2025-01-27T13:49:37.777603Z",
     "iopub.status.idle": "2025-01-27T13:49:38.203904Z",
     "shell.execute_reply": "2025-01-27T13:49:38.202833Z"
    },
    "id": "ApuQo9RUTLET",
    "papermill": {
     "duration": 0.537467,
     "end_time": "2025-01-27T13:49:38.205858",
     "exception": false,
     "start_time": "2025-01-27T13:49:37.668391",
     "status": "completed"
    },
    "tags": []
   },
   "outputs": [],
   "source": [
    "# Pivot the data\n",
    "data_df_2020_Q1 = raw_data_2020_Q1.pivot_table(\n",
    "    index=['Date', 'Country', 'City'],  # Grouping columns\n",
    "    columns='Specie',                  # Unique values become columns\n",
    "    values='median',                   # Values to aggregate\n",
    "    aggfunc='mean'                     # Aggregation function\n",
    ").reset_index()"
   ]
  },
  {
   "cell_type": "code",
   "execution_count": 78,
   "id": "4ca75af2",
   "metadata": {
    "execution": {
     "iopub.execute_input": "2025-01-27T13:49:38.301390Z",
     "iopub.status.busy": "2025-01-27T13:49:38.300981Z",
     "iopub.status.idle": "2025-01-27T13:49:38.327839Z",
     "shell.execute_reply": "2025-01-27T13:49:38.326630Z"
    },
    "executionInfo": {
     "elapsed": 400,
     "status": "ok",
     "timestamp": 1734445436669,
     "user": {
      "displayName": "Tahmida Majumder",
      "userId": "15415648085337204568"
     },
     "user_tz": -480
    },
    "id": "aYWh6ZKXTLET",
    "outputId": "a393338c-c3cf-422c-f237-a7bfa5b14e20",
    "papermill": {
     "duration": 0.07622,
     "end_time": "2025-01-27T13:49:38.329759",
     "exception": false,
     "start_time": "2025-01-27T13:49:38.253539",
     "status": "completed"
    },
    "tags": []
   },
   "outputs": [
    {
     "name": "stdout",
     "output_type": "stream",
     "text": [
      "(59069, 25)\n"
     ]
    },
    {
     "data": {
      "text/html": [
       "<div>\n",
       "<style scoped>\n",
       "    .dataframe tbody tr th:only-of-type {\n",
       "        vertical-align: middle;\n",
       "    }\n",
       "\n",
       "    .dataframe tbody tr th {\n",
       "        vertical-align: top;\n",
       "    }\n",
       "\n",
       "    .dataframe thead th {\n",
       "        text-align: right;\n",
       "    }\n",
       "</style>\n",
       "<table border=\"1\" class=\"dataframe\">\n",
       "  <thead>\n",
       "    <tr style=\"text-align: right;\">\n",
       "      <th>Specie</th>\n",
       "      <th>Date</th>\n",
       "      <th>Country</th>\n",
       "      <th>City</th>\n",
       "      <th>aqi</th>\n",
       "      <th>co</th>\n",
       "      <th>dew</th>\n",
       "      <th>humidity</th>\n",
       "      <th>mepaqi</th>\n",
       "      <th>neph</th>\n",
       "      <th>no2</th>\n",
       "      <th>...</th>\n",
       "      <th>precipitation</th>\n",
       "      <th>pressure</th>\n",
       "      <th>so2</th>\n",
       "      <th>temperature</th>\n",
       "      <th>uvi</th>\n",
       "      <th>wd</th>\n",
       "      <th>wind gust</th>\n",
       "      <th>wind speed</th>\n",
       "      <th>wind-gust</th>\n",
       "      <th>wind-speed</th>\n",
       "    </tr>\n",
       "  </thead>\n",
       "  <tbody>\n",
       "    <tr>\n",
       "      <th>0</th>\n",
       "      <td>2019-12-30</td>\n",
       "      <td>AE</td>\n",
       "      <td>Abu Dhabi</td>\n",
       "      <td>NaN</td>\n",
       "      <td>0.1</td>\n",
       "      <td>NaN</td>\n",
       "      <td>NaN</td>\n",
       "      <td>NaN</td>\n",
       "      <td>NaN</td>\n",
       "      <td>19.2</td>\n",
       "      <td>...</td>\n",
       "      <td>NaN</td>\n",
       "      <td>NaN</td>\n",
       "      <td>6.1</td>\n",
       "      <td>NaN</td>\n",
       "      <td>NaN</td>\n",
       "      <td>NaN</td>\n",
       "      <td>NaN</td>\n",
       "      <td>NaN</td>\n",
       "      <td>NaN</td>\n",
       "      <td>NaN</td>\n",
       "    </tr>\n",
       "    <tr>\n",
       "      <th>1</th>\n",
       "      <td>2019-12-30</td>\n",
       "      <td>AE</td>\n",
       "      <td>Dubai</td>\n",
       "      <td>NaN</td>\n",
       "      <td>NaN</td>\n",
       "      <td>NaN</td>\n",
       "      <td>NaN</td>\n",
       "      <td>NaN</td>\n",
       "      <td>NaN</td>\n",
       "      <td>NaN</td>\n",
       "      <td>...</td>\n",
       "      <td>NaN</td>\n",
       "      <td>NaN</td>\n",
       "      <td>NaN</td>\n",
       "      <td>NaN</td>\n",
       "      <td>NaN</td>\n",
       "      <td>NaN</td>\n",
       "      <td>NaN</td>\n",
       "      <td>NaN</td>\n",
       "      <td>NaN</td>\n",
       "      <td>NaN</td>\n",
       "    </tr>\n",
       "    <tr>\n",
       "      <th>2</th>\n",
       "      <td>2019-12-30</td>\n",
       "      <td>AF</td>\n",
       "      <td>Kabul</td>\n",
       "      <td>NaN</td>\n",
       "      <td>NaN</td>\n",
       "      <td>NaN</td>\n",
       "      <td>NaN</td>\n",
       "      <td>NaN</td>\n",
       "      <td>NaN</td>\n",
       "      <td>NaN</td>\n",
       "      <td>...</td>\n",
       "      <td>NaN</td>\n",
       "      <td>NaN</td>\n",
       "      <td>NaN</td>\n",
       "      <td>NaN</td>\n",
       "      <td>NaN</td>\n",
       "      <td>NaN</td>\n",
       "      <td>NaN</td>\n",
       "      <td>NaN</td>\n",
       "      <td>NaN</td>\n",
       "      <td>NaN</td>\n",
       "    </tr>\n",
       "    <tr>\n",
       "      <th>3</th>\n",
       "      <td>2019-12-30</td>\n",
       "      <td>AR</td>\n",
       "      <td>Buenos Aires</td>\n",
       "      <td>NaN</td>\n",
       "      <td>3.8</td>\n",
       "      <td>NaN</td>\n",
       "      <td>NaN</td>\n",
       "      <td>NaN</td>\n",
       "      <td>NaN</td>\n",
       "      <td>7.4</td>\n",
       "      <td>...</td>\n",
       "      <td>NaN</td>\n",
       "      <td>NaN</td>\n",
       "      <td>NaN</td>\n",
       "      <td>NaN</td>\n",
       "      <td>NaN</td>\n",
       "      <td>NaN</td>\n",
       "      <td>NaN</td>\n",
       "      <td>NaN</td>\n",
       "      <td>NaN</td>\n",
       "      <td>NaN</td>\n",
       "    </tr>\n",
       "    <tr>\n",
       "      <th>4</th>\n",
       "      <td>2019-12-30</td>\n",
       "      <td>AT</td>\n",
       "      <td>Graz</td>\n",
       "      <td>NaN</td>\n",
       "      <td>0.1</td>\n",
       "      <td>NaN</td>\n",
       "      <td>NaN</td>\n",
       "      <td>NaN</td>\n",
       "      <td>NaN</td>\n",
       "      <td>16.5</td>\n",
       "      <td>...</td>\n",
       "      <td>NaN</td>\n",
       "      <td>NaN</td>\n",
       "      <td>1.1</td>\n",
       "      <td>NaN</td>\n",
       "      <td>NaN</td>\n",
       "      <td>NaN</td>\n",
       "      <td>NaN</td>\n",
       "      <td>NaN</td>\n",
       "      <td>NaN</td>\n",
       "      <td>NaN</td>\n",
       "    </tr>\n",
       "  </tbody>\n",
       "</table>\n",
       "<p>5 rows × 25 columns</p>\n",
       "</div>"
      ],
      "text/plain": [
       "Specie       Date Country          City  aqi   co  dew  humidity  mepaqi  \\\n",
       "0      2019-12-30      AE     Abu Dhabi  NaN  0.1  NaN       NaN     NaN   \n",
       "1      2019-12-30      AE         Dubai  NaN  NaN  NaN       NaN     NaN   \n",
       "2      2019-12-30      AF         Kabul  NaN  NaN  NaN       NaN     NaN   \n",
       "3      2019-12-30      AR  Buenos Aires  NaN  3.8  NaN       NaN     NaN   \n",
       "4      2019-12-30      AT          Graz  NaN  0.1  NaN       NaN     NaN   \n",
       "\n",
       "Specie  neph   no2  ...  precipitation  pressure  so2  temperature  uvi  wd  \\\n",
       "0        NaN  19.2  ...            NaN       NaN  6.1          NaN  NaN NaN   \n",
       "1        NaN   NaN  ...            NaN       NaN  NaN          NaN  NaN NaN   \n",
       "2        NaN   NaN  ...            NaN       NaN  NaN          NaN  NaN NaN   \n",
       "3        NaN   7.4  ...            NaN       NaN  NaN          NaN  NaN NaN   \n",
       "4        NaN  16.5  ...            NaN       NaN  1.1          NaN  NaN NaN   \n",
       "\n",
       "Specie  wind gust  wind speed  wind-gust  wind-speed  \n",
       "0             NaN         NaN        NaN         NaN  \n",
       "1             NaN         NaN        NaN         NaN  \n",
       "2             NaN         NaN        NaN         NaN  \n",
       "3             NaN         NaN        NaN         NaN  \n",
       "4             NaN         NaN        NaN         NaN  \n",
       "\n",
       "[5 rows x 25 columns]"
      ]
     },
     "execution_count": 78,
     "metadata": {},
     "output_type": "execute_result"
    }
   ],
   "source": [
    "print(data_df_2020_Q1.shape)\n",
    "data_df_2020_Q1.head()"
   ]
  },
  {
   "cell_type": "code",
   "execution_count": 79,
   "id": "27f3052e",
   "metadata": {
    "execution": {
     "iopub.execute_input": "2025-01-27T13:49:38.429868Z",
     "iopub.status.busy": "2025-01-27T13:49:38.429470Z",
     "iopub.status.idle": "2025-01-27T13:49:38.449656Z",
     "shell.execute_reply": "2025-01-27T13:49:38.448419Z"
    },
    "executionInfo": {
     "elapsed": 6,
     "status": "ok",
     "timestamp": 1734445436669,
     "user": {
      "displayName": "Tahmida Majumder",
      "userId": "15415648085337204568"
     },
     "user_tz": -480
    },
    "id": "EQUiUnjrTLET",
    "outputId": "e84122f3-e118-48f3-b958-abd1625bc15b",
    "papermill": {
     "duration": 0.071627,
     "end_time": "2025-01-27T13:49:38.451872",
     "exception": false,
     "start_time": "2025-01-27T13:49:38.380245",
     "status": "completed"
    },
    "tags": []
   },
   "outputs": [
    {
     "data": {
      "text/plain": [
       "Specie\n",
       "Date                 0\n",
       "Country              0\n",
       "City                 0\n",
       "aqi              57661\n",
       "co               22080\n",
       "dew              22910\n",
       "humidity         11489\n",
       "mepaqi           58971\n",
       "neph             58873\n",
       "no2              11017\n",
       "o3               14542\n",
       "pm1              58687\n",
       "pm10             10818\n",
       "pm25              9623\n",
       "pol              58354\n",
       "precipitation    55234\n",
       "pressure         11631\n",
       "so2              18847\n",
       "temperature      11481\n",
       "uvi              58086\n",
       "wd               55488\n",
       "wind gust        30802\n",
       "wind speed       14994\n",
       "wind-gust        55472\n",
       "wind-speed       52885\n",
       "dtype: int64"
      ]
     },
     "execution_count": 79,
     "metadata": {},
     "output_type": "execute_result"
    }
   ],
   "source": [
    "data_df_2020_Q1.isnull().sum()"
   ]
  },
  {
   "cell_type": "code",
   "execution_count": null,
   "id": "a736b5cc",
   "metadata": {
    "id": "fm1JPY2nBLi9",
    "papermill": {
     "duration": 0.0465,
     "end_time": "2025-01-27T13:49:38.547342",
     "exception": false,
     "start_time": "2025-01-27T13:49:38.500842",
     "status": "completed"
    },
    "tags": []
   },
   "outputs": [],
   "source": []
  },
  {
   "cell_type": "markdown",
   "id": "ffcc840b",
   "metadata": {
    "id": "LGYwkNVzToWU",
    "papermill": {
     "duration": 0.046351,
     "end_time": "2025-01-27T13:49:38.641033",
     "exception": false,
     "start_time": "2025-01-27T13:49:38.594682",
     "status": "completed"
    },
    "tags": []
   },
   "source": [
    "# 2020_Q2"
   ]
  },
  {
   "cell_type": "code",
   "execution_count": 80,
   "id": "d48c5db7",
   "metadata": {
    "execution": {
     "iopub.execute_input": "2025-01-27T13:49:38.738200Z",
     "iopub.status.busy": "2025-01-27T13:49:38.737850Z",
     "iopub.status.idle": "2025-01-27T13:49:39.318153Z",
     "shell.execute_reply": "2025-01-27T13:49:39.317138Z"
    },
    "executionInfo": {
     "elapsed": 1250,
     "status": "ok",
     "timestamp": 1734445437914,
     "user": {
      "displayName": "Tahmida Majumder",
      "userId": "15415648085337204568"
     },
     "user_tz": -480
    },
    "id": "xSyoEhVsToWV",
    "outputId": "02d3233d-6501-46f6-e68a-6322b0ea3acd",
    "papermill": {
     "duration": 0.629741,
     "end_time": "2025-01-27T13:49:39.319876",
     "exception": false,
     "start_time": "2025-01-27T13:49:38.690135",
     "status": "completed"
    },
    "tags": []
   },
   "outputs": [
    {
     "name": "stdout",
     "output_type": "stream",
     "text": [
      "(602520, 5)\n"
     ]
    },
    {
     "data": {
      "text/html": [
       "<div>\n",
       "<style scoped>\n",
       "    .dataframe tbody tr th:only-of-type {\n",
       "        vertical-align: middle;\n",
       "    }\n",
       "\n",
       "    .dataframe tbody tr th {\n",
       "        vertical-align: top;\n",
       "    }\n",
       "\n",
       "    .dataframe thead th {\n",
       "        text-align: right;\n",
       "    }\n",
       "</style>\n",
       "<table border=\"1\" class=\"dataframe\">\n",
       "  <thead>\n",
       "    <tr style=\"text-align: right;\">\n",
       "      <th></th>\n",
       "      <th>Date</th>\n",
       "      <th>Country</th>\n",
       "      <th>City</th>\n",
       "      <th>Specie</th>\n",
       "      <th>median</th>\n",
       "    </tr>\n",
       "  </thead>\n",
       "  <tbody>\n",
       "    <tr>\n",
       "      <th>0</th>\n",
       "      <td>4/15/2020</td>\n",
       "      <td>IN</td>\n",
       "      <td>Thrissur</td>\n",
       "      <td>wind-gust</td>\n",
       "      <td>10.2</td>\n",
       "    </tr>\n",
       "    <tr>\n",
       "      <th>1</th>\n",
       "      <td>4/26/2020</td>\n",
       "      <td>IN</td>\n",
       "      <td>Thrissur</td>\n",
       "      <td>wind-gust</td>\n",
       "      <td>12.8</td>\n",
       "    </tr>\n",
       "    <tr>\n",
       "      <th>2</th>\n",
       "      <td>5/2/2020</td>\n",
       "      <td>IN</td>\n",
       "      <td>Thrissur</td>\n",
       "      <td>wind-gust</td>\n",
       "      <td>8.7</td>\n",
       "    </tr>\n",
       "    <tr>\n",
       "      <th>3</th>\n",
       "      <td>5/11/2020</td>\n",
       "      <td>IN</td>\n",
       "      <td>Thrissur</td>\n",
       "      <td>wind-gust</td>\n",
       "      <td>11.3</td>\n",
       "    </tr>\n",
       "    <tr>\n",
       "      <th>4</th>\n",
       "      <td>6/21/2020</td>\n",
       "      <td>IN</td>\n",
       "      <td>Thrissur</td>\n",
       "      <td>wind-gust</td>\n",
       "      <td>10.2</td>\n",
       "    </tr>\n",
       "    <tr>\n",
       "      <th>5</th>\n",
       "      <td>7/2/2020</td>\n",
       "      <td>IN</td>\n",
       "      <td>Thrissur</td>\n",
       "      <td>wind-gust</td>\n",
       "      <td>11.8</td>\n",
       "    </tr>\n",
       "    <tr>\n",
       "      <th>6</th>\n",
       "      <td>3/30/2020</td>\n",
       "      <td>IN</td>\n",
       "      <td>Thrissur</td>\n",
       "      <td>wind speed</td>\n",
       "      <td>0.9</td>\n",
       "    </tr>\n",
       "    <tr>\n",
       "      <th>7</th>\n",
       "      <td>3/31/2020</td>\n",
       "      <td>IN</td>\n",
       "      <td>Thrissur</td>\n",
       "      <td>wind speed</td>\n",
       "      <td>1.0</td>\n",
       "    </tr>\n",
       "    <tr>\n",
       "      <th>8</th>\n",
       "      <td>5/31/2020</td>\n",
       "      <td>IN</td>\n",
       "      <td>Thrissur</td>\n",
       "      <td>o3</td>\n",
       "      <td>0.7</td>\n",
       "    </tr>\n",
       "    <tr>\n",
       "      <th>9</th>\n",
       "      <td>4/8/2020</td>\n",
       "      <td>IN</td>\n",
       "      <td>Thrissur</td>\n",
       "      <td>o3</td>\n",
       "      <td>0.8</td>\n",
       "    </tr>\n",
       "  </tbody>\n",
       "</table>\n",
       "</div>"
      ],
      "text/plain": [
       "        Date Country      City      Specie  median\n",
       "0  4/15/2020      IN  Thrissur   wind-gust    10.2\n",
       "1  4/26/2020      IN  Thrissur   wind-gust    12.8\n",
       "2   5/2/2020      IN  Thrissur   wind-gust     8.7\n",
       "3  5/11/2020      IN  Thrissur   wind-gust    11.3\n",
       "4  6/21/2020      IN  Thrissur   wind-gust    10.2\n",
       "5   7/2/2020      IN  Thrissur   wind-gust    11.8\n",
       "6  3/30/2020      IN  Thrissur  wind speed     0.9\n",
       "7  3/31/2020      IN  Thrissur  wind speed     1.0\n",
       "8  5/31/2020      IN  Thrissur          o3     0.7\n",
       "9   4/8/2020      IN  Thrissur          o3     0.8"
      ]
     },
     "execution_count": 80,
     "metadata": {},
     "output_type": "execute_result"
    }
   ],
   "source": [
    "# Loading the data\n",
    "raw_data_2020_Q2 = pd.read_csv(r\"/kaggle/input/complete-raw-median/waqi-covid19-airqualitydata-2020Q2.csv\")\n",
    "\n",
    "# print the shape\n",
    "print(raw_data_2020_Q2.shape)\n",
    "\n",
    "#runs the first 5 rows\n",
    "raw_data_2020_Q2.head(10)"
   ]
  },
  {
   "cell_type": "code",
   "execution_count": 81,
   "id": "e904d00c",
   "metadata": {
    "execution": {
     "iopub.execute_input": "2025-01-27T13:49:39.416767Z",
     "iopub.status.busy": "2025-01-27T13:49:39.416396Z",
     "iopub.status.idle": "2025-01-27T13:49:39.516806Z",
     "shell.execute_reply": "2025-01-27T13:49:39.515624Z"
    },
    "id": "b0XbQ7rFToWV",
    "papermill": {
     "duration": 0.151568,
     "end_time": "2025-01-27T13:49:39.518762",
     "exception": false,
     "start_time": "2025-01-27T13:49:39.367194",
     "status": "completed"
    },
    "tags": []
   },
   "outputs": [],
   "source": [
    "# Convert 'Date' to datetime\n",
    "raw_data_2020_Q2['Date'] = pd.to_datetime(raw_data_2020_Q2['Date'])"
   ]
  },
  {
   "cell_type": "code",
   "execution_count": 82,
   "id": "01c0fd42",
   "metadata": {
    "execution": {
     "iopub.execute_input": "2025-01-27T13:49:39.615176Z",
     "iopub.status.busy": "2025-01-27T13:49:39.614789Z",
     "iopub.status.idle": "2025-01-27T13:49:39.620853Z",
     "shell.execute_reply": "2025-01-27T13:49:39.619722Z"
    },
    "executionInfo": {
     "elapsed": 10,
     "status": "ok",
     "timestamp": 1734445437915,
     "user": {
      "displayName": "Tahmida Majumder",
      "userId": "15415648085337204568"
     },
     "user_tz": -480
    },
    "id": "xKxi2CK8ToWV",
    "outputId": "440244db-2fa4-4e07-f3d8-0dbbe5edf054",
    "papermill": {
     "duration": 0.055901,
     "end_time": "2025-01-27T13:49:39.622653",
     "exception": false,
     "start_time": "2025-01-27T13:49:39.566752",
     "status": "completed"
    },
    "tags": []
   },
   "outputs": [
    {
     "data": {
      "text/plain": [
       "(602520, 5)"
      ]
     },
     "execution_count": 82,
     "metadata": {},
     "output_type": "execute_result"
    }
   ],
   "source": [
    "raw_data_2020_Q2.shape"
   ]
  },
  {
   "cell_type": "code",
   "execution_count": 83,
   "id": "84845204",
   "metadata": {
    "execution": {
     "iopub.execute_input": "2025-01-27T13:49:39.724382Z",
     "iopub.status.busy": "2025-01-27T13:49:39.723965Z",
     "iopub.status.idle": "2025-01-27T13:49:40.196059Z",
     "shell.execute_reply": "2025-01-27T13:49:40.194773Z"
    },
    "id": "ZKV6xvpVToWV",
    "papermill": {
     "duration": 0.524183,
     "end_time": "2025-01-27T13:49:40.198107",
     "exception": false,
     "start_time": "2025-01-27T13:49:39.673924",
     "status": "completed"
    },
    "tags": []
   },
   "outputs": [],
   "source": [
    "# Pivot the data\n",
    "data_df_2020_Q2 = raw_data_2020_Q2.pivot_table(\n",
    "    index=['Date', 'Country', 'City'],  # Grouping columns\n",
    "    columns='Specie',                  # Unique values become columns\n",
    "    values='median',                   # Values to aggregate\n",
    "    aggfunc='mean'                     # Aggregation function\n",
    ").reset_index()\n"
   ]
  },
  {
   "cell_type": "code",
   "execution_count": 84,
   "id": "fe44cff6",
   "metadata": {
    "execution": {
     "iopub.execute_input": "2025-01-27T13:49:40.300163Z",
     "iopub.status.busy": "2025-01-27T13:49:40.299802Z",
     "iopub.status.idle": "2025-01-27T13:49:40.324979Z",
     "shell.execute_reply": "2025-01-27T13:49:40.323508Z"
    },
    "executionInfo": {
     "elapsed": 11,
     "status": "ok",
     "timestamp": 1734445438399,
     "user": {
      "displayName": "Tahmida Majumder",
      "userId": "15415648085337204568"
     },
     "user_tz": -480
    },
    "id": "_824_kVMToWV",
    "outputId": "7eaa3e0c-df23-4d87-8509-3ee748405b7b",
    "papermill": {
     "duration": 0.080257,
     "end_time": "2025-01-27T13:49:40.326807",
     "exception": false,
     "start_time": "2025-01-27T13:49:40.246550",
     "status": "completed"
    },
    "tags": []
   },
   "outputs": [
    {
     "name": "stdout",
     "output_type": "stream",
     "text": [
      "(59500, 24)\n"
     ]
    },
    {
     "data": {
      "text/html": [
       "<div>\n",
       "<style scoped>\n",
       "    .dataframe tbody tr th:only-of-type {\n",
       "        vertical-align: middle;\n",
       "    }\n",
       "\n",
       "    .dataframe tbody tr th {\n",
       "        vertical-align: top;\n",
       "    }\n",
       "\n",
       "    .dataframe thead th {\n",
       "        text-align: right;\n",
       "    }\n",
       "</style>\n",
       "<table border=\"1\" class=\"dataframe\">\n",
       "  <thead>\n",
       "    <tr style=\"text-align: right;\">\n",
       "      <th>Specie</th>\n",
       "      <th>Date</th>\n",
       "      <th>Country</th>\n",
       "      <th>City</th>\n",
       "      <th>aqi</th>\n",
       "      <th>co</th>\n",
       "      <th>dew</th>\n",
       "      <th>humidity</th>\n",
       "      <th>mepaqi</th>\n",
       "      <th>neph</th>\n",
       "      <th>no2</th>\n",
       "      <th>...</th>\n",
       "      <th>precipitation</th>\n",
       "      <th>pressure</th>\n",
       "      <th>so2</th>\n",
       "      <th>temperature</th>\n",
       "      <th>uvi</th>\n",
       "      <th>wd</th>\n",
       "      <th>wind gust</th>\n",
       "      <th>wind speed</th>\n",
       "      <th>wind-gust</th>\n",
       "      <th>wind-speed</th>\n",
       "    </tr>\n",
       "  </thead>\n",
       "  <tbody>\n",
       "    <tr>\n",
       "      <th>0</th>\n",
       "      <td>2019-12-30</td>\n",
       "      <td>AE</td>\n",
       "      <td>Abu Dhabi</td>\n",
       "      <td>NaN</td>\n",
       "      <td>0.1</td>\n",
       "      <td>NaN</td>\n",
       "      <td>NaN</td>\n",
       "      <td>NaN</td>\n",
       "      <td>NaN</td>\n",
       "      <td>19.2</td>\n",
       "      <td>...</td>\n",
       "      <td>NaN</td>\n",
       "      <td>NaN</td>\n",
       "      <td>6.1</td>\n",
       "      <td>NaN</td>\n",
       "      <td>NaN</td>\n",
       "      <td>NaN</td>\n",
       "      <td>NaN</td>\n",
       "      <td>NaN</td>\n",
       "      <td>NaN</td>\n",
       "      <td>NaN</td>\n",
       "    </tr>\n",
       "    <tr>\n",
       "      <th>1</th>\n",
       "      <td>2019-12-30</td>\n",
       "      <td>AE</td>\n",
       "      <td>Dubai</td>\n",
       "      <td>NaN</td>\n",
       "      <td>NaN</td>\n",
       "      <td>NaN</td>\n",
       "      <td>NaN</td>\n",
       "      <td>NaN</td>\n",
       "      <td>NaN</td>\n",
       "      <td>NaN</td>\n",
       "      <td>...</td>\n",
       "      <td>NaN</td>\n",
       "      <td>NaN</td>\n",
       "      <td>NaN</td>\n",
       "      <td>NaN</td>\n",
       "      <td>NaN</td>\n",
       "      <td>NaN</td>\n",
       "      <td>NaN</td>\n",
       "      <td>NaN</td>\n",
       "      <td>NaN</td>\n",
       "      <td>NaN</td>\n",
       "    </tr>\n",
       "    <tr>\n",
       "      <th>2</th>\n",
       "      <td>2019-12-30</td>\n",
       "      <td>AF</td>\n",
       "      <td>Kabul</td>\n",
       "      <td>NaN</td>\n",
       "      <td>NaN</td>\n",
       "      <td>NaN</td>\n",
       "      <td>NaN</td>\n",
       "      <td>NaN</td>\n",
       "      <td>NaN</td>\n",
       "      <td>NaN</td>\n",
       "      <td>...</td>\n",
       "      <td>NaN</td>\n",
       "      <td>NaN</td>\n",
       "      <td>NaN</td>\n",
       "      <td>NaN</td>\n",
       "      <td>NaN</td>\n",
       "      <td>NaN</td>\n",
       "      <td>NaN</td>\n",
       "      <td>NaN</td>\n",
       "      <td>NaN</td>\n",
       "      <td>NaN</td>\n",
       "    </tr>\n",
       "    <tr>\n",
       "      <th>3</th>\n",
       "      <td>2019-12-30</td>\n",
       "      <td>AR</td>\n",
       "      <td>Buenos Aires</td>\n",
       "      <td>NaN</td>\n",
       "      <td>3.8</td>\n",
       "      <td>NaN</td>\n",
       "      <td>NaN</td>\n",
       "      <td>NaN</td>\n",
       "      <td>NaN</td>\n",
       "      <td>7.4</td>\n",
       "      <td>...</td>\n",
       "      <td>NaN</td>\n",
       "      <td>NaN</td>\n",
       "      <td>NaN</td>\n",
       "      <td>NaN</td>\n",
       "      <td>NaN</td>\n",
       "      <td>NaN</td>\n",
       "      <td>NaN</td>\n",
       "      <td>NaN</td>\n",
       "      <td>NaN</td>\n",
       "      <td>NaN</td>\n",
       "    </tr>\n",
       "    <tr>\n",
       "      <th>4</th>\n",
       "      <td>2019-12-30</td>\n",
       "      <td>AT</td>\n",
       "      <td>Graz</td>\n",
       "      <td>NaN</td>\n",
       "      <td>0.1</td>\n",
       "      <td>NaN</td>\n",
       "      <td>NaN</td>\n",
       "      <td>NaN</td>\n",
       "      <td>NaN</td>\n",
       "      <td>16.5</td>\n",
       "      <td>...</td>\n",
       "      <td>NaN</td>\n",
       "      <td>NaN</td>\n",
       "      <td>1.1</td>\n",
       "      <td>NaN</td>\n",
       "      <td>NaN</td>\n",
       "      <td>NaN</td>\n",
       "      <td>NaN</td>\n",
       "      <td>NaN</td>\n",
       "      <td>NaN</td>\n",
       "      <td>NaN</td>\n",
       "    </tr>\n",
       "  </tbody>\n",
       "</table>\n",
       "<p>5 rows × 25 columns</p>\n",
       "</div>"
      ],
      "text/plain": [
       "Specie       Date Country          City  aqi   co  dew  humidity  mepaqi  \\\n",
       "0      2019-12-30      AE     Abu Dhabi  NaN  0.1  NaN       NaN     NaN   \n",
       "1      2019-12-30      AE         Dubai  NaN  NaN  NaN       NaN     NaN   \n",
       "2      2019-12-30      AF         Kabul  NaN  NaN  NaN       NaN     NaN   \n",
       "3      2019-12-30      AR  Buenos Aires  NaN  3.8  NaN       NaN     NaN   \n",
       "4      2019-12-30      AT          Graz  NaN  0.1  NaN       NaN     NaN   \n",
       "\n",
       "Specie  neph   no2  ...  precipitation  pressure  so2  temperature  uvi  wd  \\\n",
       "0        NaN  19.2  ...            NaN       NaN  6.1          NaN  NaN NaN   \n",
       "1        NaN   NaN  ...            NaN       NaN  NaN          NaN  NaN NaN   \n",
       "2        NaN   NaN  ...            NaN       NaN  NaN          NaN  NaN NaN   \n",
       "3        NaN   7.4  ...            NaN       NaN  NaN          NaN  NaN NaN   \n",
       "4        NaN  16.5  ...            NaN       NaN  1.1          NaN  NaN NaN   \n",
       "\n",
       "Specie  wind gust  wind speed  wind-gust  wind-speed  \n",
       "0             NaN         NaN        NaN         NaN  \n",
       "1             NaN         NaN        NaN         NaN  \n",
       "2             NaN         NaN        NaN         NaN  \n",
       "3             NaN         NaN        NaN         NaN  \n",
       "4             NaN         NaN        NaN         NaN  \n",
       "\n",
       "[5 rows x 25 columns]"
      ]
     },
     "execution_count": 84,
     "metadata": {},
     "output_type": "execute_result"
    }
   ],
   "source": [
    "print(data_df_2020_Q2.shape)\n",
    "data_df_2020_Q1.head()"
   ]
  },
  {
   "cell_type": "code",
   "execution_count": 85,
   "id": "3e541e86",
   "metadata": {
    "execution": {
     "iopub.execute_input": "2025-01-27T13:49:40.433197Z",
     "iopub.status.busy": "2025-01-27T13:49:40.432792Z",
     "iopub.status.idle": "2025-01-27T13:49:40.460791Z",
     "shell.execute_reply": "2025-01-27T13:49:40.459480Z"
    },
    "executionInfo": {
     "elapsed": 8,
     "status": "ok",
     "timestamp": 1734445438399,
     "user": {
      "displayName": "Tahmida Majumder",
      "userId": "15415648085337204568"
     },
     "user_tz": -480
    },
    "id": "WjsOL4tsToWW",
    "outputId": "1956ceed-9f66-434f-c4a7-5a3d99b391ff",
    "papermill": {
     "duration": 0.084354,
     "end_time": "2025-01-27T13:49:40.463370",
     "exception": false,
     "start_time": "2025-01-27T13:49:40.379016",
     "status": "completed"
    },
    "tags": []
   },
   "outputs": [
    {
     "data": {
      "text/plain": [
       "Specie\n",
       "Date                 0\n",
       "Country              0\n",
       "City                 0\n",
       "aqi              58118\n",
       "co               22434\n",
       "dew              12453\n",
       "humidity            84\n",
       "mepaqi           59402\n",
       "neph             59304\n",
       "no2              11349\n",
       "o3               14440\n",
       "pm1              59138\n",
       "pm10             11078\n",
       "pm25              9389\n",
       "precipitation    52038\n",
       "pressure           309\n",
       "so2              18997\n",
       "temperature         71\n",
       "uvi              58494\n",
       "wd               55060\n",
       "wind gust        58877\n",
       "wind speed       58341\n",
       "wind-gust        26841\n",
       "wind-speed         763\n",
       "dtype: int64"
      ]
     },
     "execution_count": 85,
     "metadata": {},
     "output_type": "execute_result"
    }
   ],
   "source": [
    "data_df_2020_Q2.isnull().sum()"
   ]
  },
  {
   "cell_type": "code",
   "execution_count": null,
   "id": "6bfb9f05",
   "metadata": {
    "id": "FWlYCoEQBLlt",
    "papermill": {
     "duration": 0.049972,
     "end_time": "2025-01-27T13:49:40.563822",
     "exception": false,
     "start_time": "2025-01-27T13:49:40.513850",
     "status": "completed"
    },
    "tags": []
   },
   "outputs": [],
   "source": []
  },
  {
   "cell_type": "markdown",
   "id": "4f509f77",
   "metadata": {
    "id": "Oe30n0_jT2xM",
    "papermill": {
     "duration": 0.050551,
     "end_time": "2025-01-27T13:49:40.664803",
     "exception": false,
     "start_time": "2025-01-27T13:49:40.614252",
     "status": "completed"
    },
    "tags": []
   },
   "source": [
    "# 2020_Q3"
   ]
  },
  {
   "cell_type": "code",
   "execution_count": 86,
   "id": "0b441f7e",
   "metadata": {
    "execution": {
     "iopub.execute_input": "2025-01-27T13:49:40.765933Z",
     "iopub.status.busy": "2025-01-27T13:49:40.765476Z",
     "iopub.status.idle": "2025-01-27T13:49:41.384697Z",
     "shell.execute_reply": "2025-01-27T13:49:41.383519Z"
    },
    "executionInfo": {
     "elapsed": 1322,
     "status": "ok",
     "timestamp": 1734445439714,
     "user": {
      "displayName": "Tahmida Majumder",
      "userId": "15415648085337204568"
     },
     "user_tz": -480
    },
    "id": "kR-yJOqKT2xN",
    "outputId": "c8db1d56-6259-467c-d00f-3f411621b605",
    "papermill": {
     "duration": 0.675574,
     "end_time": "2025-01-27T13:49:41.392158",
     "exception": false,
     "start_time": "2025-01-27T13:49:40.716584",
     "status": "completed"
    },
    "tags": []
   },
   "outputs": [
    {
     "name": "stdout",
     "output_type": "stream",
     "text": [
      "(598100, 5)\n"
     ]
    },
    {
     "data": {
      "text/html": [
       "<div>\n",
       "<style scoped>\n",
       "    .dataframe tbody tr th:only-of-type {\n",
       "        vertical-align: middle;\n",
       "    }\n",
       "\n",
       "    .dataframe tbody tr th {\n",
       "        vertical-align: top;\n",
       "    }\n",
       "\n",
       "    .dataframe thead th {\n",
       "        text-align: right;\n",
       "    }\n",
       "</style>\n",
       "<table border=\"1\" class=\"dataframe\">\n",
       "  <thead>\n",
       "    <tr style=\"text-align: right;\">\n",
       "      <th></th>\n",
       "      <th>Date</th>\n",
       "      <th>Country</th>\n",
       "      <th>City</th>\n",
       "      <th>Specie</th>\n",
       "      <th>median</th>\n",
       "    </tr>\n",
       "  </thead>\n",
       "  <tbody>\n",
       "    <tr>\n",
       "      <th>0</th>\n",
       "      <td>8/16/2020</td>\n",
       "      <td>UA</td>\n",
       "      <td>Odessa</td>\n",
       "      <td>pm10</td>\n",
       "      <td>7.0</td>\n",
       "    </tr>\n",
       "    <tr>\n",
       "      <th>1</th>\n",
       "      <td>8/18/2020</td>\n",
       "      <td>UA</td>\n",
       "      <td>Odessa</td>\n",
       "      <td>pm10</td>\n",
       "      <td>5.0</td>\n",
       "    </tr>\n",
       "    <tr>\n",
       "      <th>2</th>\n",
       "      <td>8/24/2020</td>\n",
       "      <td>UA</td>\n",
       "      <td>Odessa</td>\n",
       "      <td>pm10</td>\n",
       "      <td>5.0</td>\n",
       "    </tr>\n",
       "    <tr>\n",
       "      <th>3</th>\n",
       "      <td>8/25/2020</td>\n",
       "      <td>UA</td>\n",
       "      <td>Odessa</td>\n",
       "      <td>pm10</td>\n",
       "      <td>6.0</td>\n",
       "    </tr>\n",
       "    <tr>\n",
       "      <th>4</th>\n",
       "      <td>8/26/2020</td>\n",
       "      <td>UA</td>\n",
       "      <td>Odessa</td>\n",
       "      <td>pm10</td>\n",
       "      <td>5.0</td>\n",
       "    </tr>\n",
       "    <tr>\n",
       "      <th>5</th>\n",
       "      <td>8/28/2020</td>\n",
       "      <td>UA</td>\n",
       "      <td>Odessa</td>\n",
       "      <td>pm10</td>\n",
       "      <td>5.0</td>\n",
       "    </tr>\n",
       "    <tr>\n",
       "      <th>6</th>\n",
       "      <td>8/13/2020</td>\n",
       "      <td>UA</td>\n",
       "      <td>Odessa</td>\n",
       "      <td>pm10</td>\n",
       "      <td>4.0</td>\n",
       "    </tr>\n",
       "    <tr>\n",
       "      <th>7</th>\n",
       "      <td>8/14/2020</td>\n",
       "      <td>UA</td>\n",
       "      <td>Odessa</td>\n",
       "      <td>pm10</td>\n",
       "      <td>5.0</td>\n",
       "    </tr>\n",
       "    <tr>\n",
       "      <th>8</th>\n",
       "      <td>8/19/2020</td>\n",
       "      <td>UA</td>\n",
       "      <td>Odessa</td>\n",
       "      <td>pm10</td>\n",
       "      <td>7.0</td>\n",
       "    </tr>\n",
       "    <tr>\n",
       "      <th>9</th>\n",
       "      <td>8/27/2020</td>\n",
       "      <td>UA</td>\n",
       "      <td>Odessa</td>\n",
       "      <td>pm10</td>\n",
       "      <td>7.0</td>\n",
       "    </tr>\n",
       "  </tbody>\n",
       "</table>\n",
       "</div>"
      ],
      "text/plain": [
       "        Date Country    City Specie  median\n",
       "0  8/16/2020      UA  Odessa   pm10     7.0\n",
       "1  8/18/2020      UA  Odessa   pm10     5.0\n",
       "2  8/24/2020      UA  Odessa   pm10     5.0\n",
       "3  8/25/2020      UA  Odessa   pm10     6.0\n",
       "4  8/26/2020      UA  Odessa   pm10     5.0\n",
       "5  8/28/2020      UA  Odessa   pm10     5.0\n",
       "6  8/13/2020      UA  Odessa   pm10     4.0\n",
       "7  8/14/2020      UA  Odessa   pm10     5.0\n",
       "8  8/19/2020      UA  Odessa   pm10     7.0\n",
       "9  8/27/2020      UA  Odessa   pm10     7.0"
      ]
     },
     "execution_count": 86,
     "metadata": {},
     "output_type": "execute_result"
    }
   ],
   "source": [
    "# Loading the data\n",
    "raw_data_2020_Q3 = pd.read_csv(r\"/kaggle/input/complete-raw-median/waqi-covid19-airqualitydata-2020Q3.csv\")\n",
    "\n",
    "# print the shape\n",
    "print(raw_data_2020_Q3.shape)\n",
    "\n",
    "#runs the first 5 rows\n",
    "raw_data_2020_Q3.head(10)"
   ]
  },
  {
   "cell_type": "code",
   "execution_count": 87,
   "id": "90c28fec",
   "metadata": {
    "execution": {
     "iopub.execute_input": "2025-01-27T13:49:41.494457Z",
     "iopub.status.busy": "2025-01-27T13:49:41.494042Z",
     "iopub.status.idle": "2025-01-27T13:49:41.601337Z",
     "shell.execute_reply": "2025-01-27T13:49:41.600256Z"
    },
    "id": "P1LXqvwgT2xN",
    "papermill": {
     "duration": 0.16065,
     "end_time": "2025-01-27T13:49:41.603495",
     "exception": false,
     "start_time": "2025-01-27T13:49:41.442845",
     "status": "completed"
    },
    "tags": []
   },
   "outputs": [],
   "source": [
    "# Convert 'Date' to datetime\n",
    "raw_data_2020_Q3['Date'] = pd.to_datetime(raw_data_2020_Q3['Date'])"
   ]
  },
  {
   "cell_type": "code",
   "execution_count": 88,
   "id": "76ea0ae3",
   "metadata": {
    "execution": {
     "iopub.execute_input": "2025-01-27T13:49:41.707834Z",
     "iopub.status.busy": "2025-01-27T13:49:41.707443Z",
     "iopub.status.idle": "2025-01-27T13:49:41.713854Z",
     "shell.execute_reply": "2025-01-27T13:49:41.712898Z"
    },
    "executionInfo": {
     "elapsed": 7,
     "status": "ok",
     "timestamp": 1734445439714,
     "user": {
      "displayName": "Tahmida Majumder",
      "userId": "15415648085337204568"
     },
     "user_tz": -480
    },
    "id": "1xuoEFgCT2xN",
    "outputId": "a8e84f99-c3c3-40a7-9abe-543b5e3ab17d",
    "papermill": {
     "duration": 0.062771,
     "end_time": "2025-01-27T13:49:41.715884",
     "exception": false,
     "start_time": "2025-01-27T13:49:41.653113",
     "status": "completed"
    },
    "tags": []
   },
   "outputs": [
    {
     "data": {
      "text/plain": [
       "(598100, 5)"
      ]
     },
     "execution_count": 88,
     "metadata": {},
     "output_type": "execute_result"
    }
   ],
   "source": [
    "raw_data_2020_Q3.shape"
   ]
  },
  {
   "cell_type": "code",
   "execution_count": 89,
   "id": "4ac07990",
   "metadata": {
    "execution": {
     "iopub.execute_input": "2025-01-27T13:49:41.822986Z",
     "iopub.status.busy": "2025-01-27T13:49:41.822583Z",
     "iopub.status.idle": "2025-01-27T13:49:42.302238Z",
     "shell.execute_reply": "2025-01-27T13:49:42.300830Z"
    },
    "id": "b3f4bsOuT2xO",
    "papermill": {
     "duration": 0.537005,
     "end_time": "2025-01-27T13:49:42.304429",
     "exception": false,
     "start_time": "2025-01-27T13:49:41.767424",
     "status": "completed"
    },
    "tags": []
   },
   "outputs": [],
   "source": [
    "# Pivot the data\n",
    "data_df_2020_Q3 = raw_data_2020_Q3.pivot_table(\n",
    "    index=['Date', 'Country', 'City'],  # Grouping columns\n",
    "    columns='Specie',                  # Unique values become columns\n",
    "    values='median',                   # Values to aggregate\n",
    "    aggfunc='mean'                     # Aggregation function\n",
    ").reset_index()"
   ]
  },
  {
   "cell_type": "code",
   "execution_count": 90,
   "id": "a21d2e9e",
   "metadata": {
    "execution": {
     "iopub.execute_input": "2025-01-27T13:49:42.420186Z",
     "iopub.status.busy": "2025-01-27T13:49:42.419786Z",
     "iopub.status.idle": "2025-01-27T13:49:42.458474Z",
     "shell.execute_reply": "2025-01-27T13:49:42.456436Z"
    },
    "executionInfo": {
     "elapsed": 11,
     "status": "ok",
     "timestamp": 1734445440164,
     "user": {
      "displayName": "Tahmida Majumder",
      "userId": "15415648085337204568"
     },
     "user_tz": -480
    },
    "id": "s2sgLso6T2xO",
    "outputId": "89c37051-abc5-4b15-952a-9f50373cf363",
    "papermill": {
     "duration": 0.100118,
     "end_time": "2025-01-27T13:49:42.460729",
     "exception": false,
     "start_time": "2025-01-27T13:49:42.360611",
     "status": "completed"
    },
    "tags": []
   },
   "outputs": [
    {
     "name": "stdout",
     "output_type": "stream",
     "text": [
      "(59172, 22)\n"
     ]
    },
    {
     "data": {
      "text/html": [
       "<div>\n",
       "<style scoped>\n",
       "    .dataframe tbody tr th:only-of-type {\n",
       "        vertical-align: middle;\n",
       "    }\n",
       "\n",
       "    .dataframe tbody tr th {\n",
       "        vertical-align: top;\n",
       "    }\n",
       "\n",
       "    .dataframe thead th {\n",
       "        text-align: right;\n",
       "    }\n",
       "</style>\n",
       "<table border=\"1\" class=\"dataframe\">\n",
       "  <thead>\n",
       "    <tr style=\"text-align: right;\">\n",
       "      <th>Specie</th>\n",
       "      <th>Date</th>\n",
       "      <th>Country</th>\n",
       "      <th>City</th>\n",
       "      <th>aqi</th>\n",
       "      <th>co</th>\n",
       "      <th>dew</th>\n",
       "      <th>humidity</th>\n",
       "      <th>mepaqi</th>\n",
       "      <th>neph</th>\n",
       "      <th>no2</th>\n",
       "      <th>...</th>\n",
       "      <th>pm10</th>\n",
       "      <th>pm25</th>\n",
       "      <th>precipitation</th>\n",
       "      <th>pressure</th>\n",
       "      <th>so2</th>\n",
       "      <th>temperature</th>\n",
       "      <th>uvi</th>\n",
       "      <th>wd</th>\n",
       "      <th>wind-gust</th>\n",
       "      <th>wind-speed</th>\n",
       "    </tr>\n",
       "  </thead>\n",
       "  <tbody>\n",
       "    <tr>\n",
       "      <th>0</th>\n",
       "      <td>2020-06-29</td>\n",
       "      <td>AE</td>\n",
       "      <td>Abu Dhabi</td>\n",
       "      <td>NaN</td>\n",
       "      <td>0.1</td>\n",
       "      <td>25.0</td>\n",
       "      <td>50.0</td>\n",
       "      <td>NaN</td>\n",
       "      <td>NaN</td>\n",
       "      <td>6.4</td>\n",
       "      <td>...</td>\n",
       "      <td>100.0</td>\n",
       "      <td>97.0</td>\n",
       "      <td>NaN</td>\n",
       "      <td>997.0</td>\n",
       "      <td>4.1</td>\n",
       "      <td>36.0</td>\n",
       "      <td>NaN</td>\n",
       "      <td>NaN</td>\n",
       "      <td>NaN</td>\n",
       "      <td>2.0</td>\n",
       "    </tr>\n",
       "    <tr>\n",
       "      <th>1</th>\n",
       "      <td>2020-06-29</td>\n",
       "      <td>AE</td>\n",
       "      <td>Dubai</td>\n",
       "      <td>NaN</td>\n",
       "      <td>NaN</td>\n",
       "      <td>26.0</td>\n",
       "      <td>56.0</td>\n",
       "      <td>NaN</td>\n",
       "      <td>NaN</td>\n",
       "      <td>NaN</td>\n",
       "      <td>...</td>\n",
       "      <td>NaN</td>\n",
       "      <td>155.0</td>\n",
       "      <td>NaN</td>\n",
       "      <td>996.0</td>\n",
       "      <td>NaN</td>\n",
       "      <td>35.0</td>\n",
       "      <td>NaN</td>\n",
       "      <td>NaN</td>\n",
       "      <td>NaN</td>\n",
       "      <td>2.5</td>\n",
       "    </tr>\n",
       "    <tr>\n",
       "      <th>2</th>\n",
       "      <td>2020-06-29</td>\n",
       "      <td>AF</td>\n",
       "      <td>Kabul</td>\n",
       "      <td>NaN</td>\n",
       "      <td>NaN</td>\n",
       "      <td>-2.0</td>\n",
       "      <td>25.0</td>\n",
       "      <td>NaN</td>\n",
       "      <td>NaN</td>\n",
       "      <td>NaN</td>\n",
       "      <td>...</td>\n",
       "      <td>NaN</td>\n",
       "      <td>85.0</td>\n",
       "      <td>NaN</td>\n",
       "      <td>1013.0</td>\n",
       "      <td>NaN</td>\n",
       "      <td>25.0</td>\n",
       "      <td>NaN</td>\n",
       "      <td>NaN</td>\n",
       "      <td>12.8</td>\n",
       "      <td>5.1</td>\n",
       "    </tr>\n",
       "    <tr>\n",
       "      <th>3</th>\n",
       "      <td>2020-06-29</td>\n",
       "      <td>AR</td>\n",
       "      <td>Buenos Aires</td>\n",
       "      <td>NaN</td>\n",
       "      <td>2.7</td>\n",
       "      <td>6.8</td>\n",
       "      <td>78.0</td>\n",
       "      <td>NaN</td>\n",
       "      <td>NaN</td>\n",
       "      <td>11.9</td>\n",
       "      <td>...</td>\n",
       "      <td>8.0</td>\n",
       "      <td>17.0</td>\n",
       "      <td>NaN</td>\n",
       "      <td>1016.4</td>\n",
       "      <td>0.6</td>\n",
       "      <td>11.1</td>\n",
       "      <td>NaN</td>\n",
       "      <td>112.5</td>\n",
       "      <td>10.6</td>\n",
       "      <td>5.6</td>\n",
       "    </tr>\n",
       "    <tr>\n",
       "      <th>4</th>\n",
       "      <td>2020-06-29</td>\n",
       "      <td>AT</td>\n",
       "      <td>Graz</td>\n",
       "      <td>NaN</td>\n",
       "      <td>0.1</td>\n",
       "      <td>16.8</td>\n",
       "      <td>80.5</td>\n",
       "      <td>NaN</td>\n",
       "      <td>NaN</td>\n",
       "      <td>6.0</td>\n",
       "      <td>...</td>\n",
       "      <td>10.0</td>\n",
       "      <td>NaN</td>\n",
       "      <td>2.1</td>\n",
       "      <td>969.5</td>\n",
       "      <td>1.6</td>\n",
       "      <td>19.1</td>\n",
       "      <td>NaN</td>\n",
       "      <td>NaN</td>\n",
       "      <td>4.0</td>\n",
       "      <td>1.0</td>\n",
       "    </tr>\n",
       "  </tbody>\n",
       "</table>\n",
       "<p>5 rows × 22 columns</p>\n",
       "</div>"
      ],
      "text/plain": [
       "Specie       Date Country          City  aqi   co   dew  humidity  mepaqi  \\\n",
       "0      2020-06-29      AE     Abu Dhabi  NaN  0.1  25.0      50.0     NaN   \n",
       "1      2020-06-29      AE         Dubai  NaN  NaN  26.0      56.0     NaN   \n",
       "2      2020-06-29      AF         Kabul  NaN  NaN  -2.0      25.0     NaN   \n",
       "3      2020-06-29      AR  Buenos Aires  NaN  2.7   6.8      78.0     NaN   \n",
       "4      2020-06-29      AT          Graz  NaN  0.1  16.8      80.5     NaN   \n",
       "\n",
       "Specie  neph   no2  ...   pm10   pm25  precipitation  pressure  so2  \\\n",
       "0        NaN   6.4  ...  100.0   97.0            NaN     997.0  4.1   \n",
       "1        NaN   NaN  ...    NaN  155.0            NaN     996.0  NaN   \n",
       "2        NaN   NaN  ...    NaN   85.0            NaN    1013.0  NaN   \n",
       "3        NaN  11.9  ...    8.0   17.0            NaN    1016.4  0.6   \n",
       "4        NaN   6.0  ...   10.0    NaN            2.1     969.5  1.6   \n",
       "\n",
       "Specie  temperature  uvi     wd  wind-gust  wind-speed  \n",
       "0              36.0  NaN    NaN        NaN         2.0  \n",
       "1              35.0  NaN    NaN        NaN         2.5  \n",
       "2              25.0  NaN    NaN       12.8         5.1  \n",
       "3              11.1  NaN  112.5       10.6         5.6  \n",
       "4              19.1  NaN    NaN        4.0         1.0  \n",
       "\n",
       "[5 rows x 22 columns]"
      ]
     },
     "execution_count": 90,
     "metadata": {},
     "output_type": "execute_result"
    }
   ],
   "source": [
    "print(data_df_2020_Q3.shape)\n",
    "data_df_2020_Q3.head()"
   ]
  },
  {
   "cell_type": "code",
   "execution_count": 91,
   "id": "0e430b88",
   "metadata": {
    "execution": {
     "iopub.execute_input": "2025-01-27T13:49:42.562122Z",
     "iopub.status.busy": "2025-01-27T13:49:42.561679Z",
     "iopub.status.idle": "2025-01-27T13:49:42.587503Z",
     "shell.execute_reply": "2025-01-27T13:49:42.586292Z"
    },
    "executionInfo": {
     "elapsed": 8,
     "status": "ok",
     "timestamp": 1734445440164,
     "user": {
      "displayName": "Tahmida Majumder",
      "userId": "15415648085337204568"
     },
     "user_tz": -480
    },
    "id": "nUdvyyH6T2xO",
    "outputId": "8ec35553-6095-4082-e566-d9f028326dc2",
    "papermill": {
     "duration": 0.078764,
     "end_time": "2025-01-27T13:49:42.589544",
     "exception": false,
     "start_time": "2025-01-27T13:49:42.510780",
     "status": "completed"
    },
    "tags": []
   },
   "outputs": [
    {
     "data": {
      "text/plain": [
       "Specie\n",
       "Date                 0\n",
       "Country              0\n",
       "City                 0\n",
       "aqi              57689\n",
       "co               22203\n",
       "dew              12016\n",
       "humidity            87\n",
       "mepaqi           59074\n",
       "neph             58976\n",
       "no2              11175\n",
       "o3               13982\n",
       "pm1              58848\n",
       "pm10             10889\n",
       "pm25              9314\n",
       "precipitation    51268\n",
       "pressure           426\n",
       "so2              18642\n",
       "temperature        106\n",
       "uvi              58291\n",
       "wd               54519\n",
       "wind-gust        27905\n",
       "wind-speed         758\n",
       "dtype: int64"
      ]
     },
     "execution_count": 91,
     "metadata": {},
     "output_type": "execute_result"
    }
   ],
   "source": [
    "data_df_2020_Q3.isnull().sum()"
   ]
  },
  {
   "cell_type": "code",
   "execution_count": null,
   "id": "b0436262",
   "metadata": {
    "id": "AaRID5BRBLoJ",
    "papermill": {
     "duration": 0.051722,
     "end_time": "2025-01-27T13:49:42.692685",
     "exception": false,
     "start_time": "2025-01-27T13:49:42.640963",
     "status": "completed"
    },
    "tags": []
   },
   "outputs": [],
   "source": []
  },
  {
   "cell_type": "markdown",
   "id": "d475c3b0",
   "metadata": {
    "id": "p4Ouvbl1UGVk",
    "papermill": {
     "duration": 0.052075,
     "end_time": "2025-01-27T13:49:42.795562",
     "exception": false,
     "start_time": "2025-01-27T13:49:42.743487",
     "status": "completed"
    },
    "tags": []
   },
   "source": [
    "# 2020_Q4"
   ]
  },
  {
   "cell_type": "code",
   "execution_count": 92,
   "id": "8c7eed53",
   "metadata": {
    "execution": {
     "iopub.execute_input": "2025-01-27T13:49:42.901202Z",
     "iopub.status.busy": "2025-01-27T13:49:42.900825Z",
     "iopub.status.idle": "2025-01-27T13:49:43.484404Z",
     "shell.execute_reply": "2025-01-27T13:49:43.483205Z"
    },
    "executionInfo": {
     "elapsed": 422,
     "status": "ok",
     "timestamp": 1734445440580,
     "user": {
      "displayName": "Tahmida Majumder",
      "userId": "15415648085337204568"
     },
     "user_tz": -480
    },
    "id": "i4NjDJ1PUGVl",
    "outputId": "100b89a1-4150-4a15-82cb-928de516c328",
    "papermill": {
     "duration": 0.637885,
     "end_time": "2025-01-27T13:49:43.486242",
     "exception": false,
     "start_time": "2025-01-27T13:49:42.848357",
     "status": "completed"
    },
    "tags": []
   },
   "outputs": [
    {
     "name": "stdout",
     "output_type": "stream",
     "text": [
      "(586937, 5)\n"
     ]
    },
    {
     "data": {
      "text/html": [
       "<div>\n",
       "<style scoped>\n",
       "    .dataframe tbody tr th:only-of-type {\n",
       "        vertical-align: middle;\n",
       "    }\n",
       "\n",
       "    .dataframe tbody tr th {\n",
       "        vertical-align: top;\n",
       "    }\n",
       "\n",
       "    .dataframe thead th {\n",
       "        text-align: right;\n",
       "    }\n",
       "</style>\n",
       "<table border=\"1\" class=\"dataframe\">\n",
       "  <thead>\n",
       "    <tr style=\"text-align: right;\">\n",
       "      <th></th>\n",
       "      <th>Date</th>\n",
       "      <th>Country</th>\n",
       "      <th>City</th>\n",
       "      <th>Specie</th>\n",
       "      <th>median</th>\n",
       "    </tr>\n",
       "  </thead>\n",
       "  <tbody>\n",
       "    <tr>\n",
       "      <th>0</th>\n",
       "      <td>12/23/2020</td>\n",
       "      <td>ET</td>\n",
       "      <td>Addis Ababa</td>\n",
       "      <td>pm25</td>\n",
       "      <td>46.0</td>\n",
       "    </tr>\n",
       "    <tr>\n",
       "      <th>1</th>\n",
       "      <td>10/12/2020</td>\n",
       "      <td>ET</td>\n",
       "      <td>Addis Ababa</td>\n",
       "      <td>pm25</td>\n",
       "      <td>68.0</td>\n",
       "    </tr>\n",
       "    <tr>\n",
       "      <th>2</th>\n",
       "      <td>10/17/2020</td>\n",
       "      <td>ET</td>\n",
       "      <td>Addis Ababa</td>\n",
       "      <td>pm25</td>\n",
       "      <td>72.0</td>\n",
       "    </tr>\n",
       "    <tr>\n",
       "      <th>3</th>\n",
       "      <td>11/25/2020</td>\n",
       "      <td>ET</td>\n",
       "      <td>Addis Ababa</td>\n",
       "      <td>pm25</td>\n",
       "      <td>68.0</td>\n",
       "    </tr>\n",
       "    <tr>\n",
       "      <th>4</th>\n",
       "      <td>11/27/2020</td>\n",
       "      <td>ET</td>\n",
       "      <td>Addis Ababa</td>\n",
       "      <td>pm25</td>\n",
       "      <td>46.0</td>\n",
       "    </tr>\n",
       "    <tr>\n",
       "      <th>5</th>\n",
       "      <td>12/9/2020</td>\n",
       "      <td>ET</td>\n",
       "      <td>Addis Ababa</td>\n",
       "      <td>pm25</td>\n",
       "      <td>46.0</td>\n",
       "    </tr>\n",
       "    <tr>\n",
       "      <th>6</th>\n",
       "      <td>10/25/2020</td>\n",
       "      <td>ET</td>\n",
       "      <td>Addis Ababa</td>\n",
       "      <td>pm25</td>\n",
       "      <td>61.0</td>\n",
       "    </tr>\n",
       "    <tr>\n",
       "      <th>7</th>\n",
       "      <td>10/31/2020</td>\n",
       "      <td>ET</td>\n",
       "      <td>Addis Ababa</td>\n",
       "      <td>pm25</td>\n",
       "      <td>53.0</td>\n",
       "    </tr>\n",
       "    <tr>\n",
       "      <th>8</th>\n",
       "      <td>10/18/2020</td>\n",
       "      <td>ET</td>\n",
       "      <td>Addis Ababa</td>\n",
       "      <td>pm25</td>\n",
       "      <td>70.0</td>\n",
       "    </tr>\n",
       "    <tr>\n",
       "      <th>9</th>\n",
       "      <td>11/8/2020</td>\n",
       "      <td>ET</td>\n",
       "      <td>Addis Ababa</td>\n",
       "      <td>pm25</td>\n",
       "      <td>55.0</td>\n",
       "    </tr>\n",
       "  </tbody>\n",
       "</table>\n",
       "</div>"
      ],
      "text/plain": [
       "         Date Country         City Specie  median\n",
       "0  12/23/2020      ET  Addis Ababa   pm25    46.0\n",
       "1  10/12/2020      ET  Addis Ababa   pm25    68.0\n",
       "2  10/17/2020      ET  Addis Ababa   pm25    72.0\n",
       "3  11/25/2020      ET  Addis Ababa   pm25    68.0\n",
       "4  11/27/2020      ET  Addis Ababa   pm25    46.0\n",
       "5   12/9/2020      ET  Addis Ababa   pm25    46.0\n",
       "6  10/25/2020      ET  Addis Ababa   pm25    61.0\n",
       "7  10/31/2020      ET  Addis Ababa   pm25    53.0\n",
       "8  10/18/2020      ET  Addis Ababa   pm25    70.0\n",
       "9   11/8/2020      ET  Addis Ababa   pm25    55.0"
      ]
     },
     "execution_count": 92,
     "metadata": {},
     "output_type": "execute_result"
    }
   ],
   "source": [
    "# Loading the data\n",
    "raw_data_2020_Q4 = pd.read_csv(r\"/kaggle/input/complete-raw-median/waqi-covid19-airqualitydata-2020Q4.csv\")\n",
    "\n",
    "# print the shape\n",
    "print(raw_data_2020_Q4.shape)\n",
    "\n",
    "#runs the first 5 rows\n",
    "raw_data_2020_Q4.head(10)"
   ]
  },
  {
   "cell_type": "code",
   "execution_count": 93,
   "id": "4f79c0c9",
   "metadata": {
    "execution": {
     "iopub.execute_input": "2025-01-27T13:49:43.590023Z",
     "iopub.status.busy": "2025-01-27T13:49:43.589668Z",
     "iopub.status.idle": "2025-01-27T13:49:43.690376Z",
     "shell.execute_reply": "2025-01-27T13:49:43.689134Z"
    },
    "id": "ZvXbzhK4UGVl",
    "papermill": {
     "duration": 0.153553,
     "end_time": "2025-01-27T13:49:43.692308",
     "exception": false,
     "start_time": "2025-01-27T13:49:43.538755",
     "status": "completed"
    },
    "tags": []
   },
   "outputs": [],
   "source": [
    "# Convert 'Date' to datetime\n",
    "raw_data_2020_Q4['Date'] = pd.to_datetime(raw_data_2020_Q4['Date'])"
   ]
  },
  {
   "cell_type": "code",
   "execution_count": 94,
   "id": "ee4a2e82",
   "metadata": {
    "execution": {
     "iopub.execute_input": "2025-01-27T13:49:43.795948Z",
     "iopub.status.busy": "2025-01-27T13:49:43.795567Z",
     "iopub.status.idle": "2025-01-27T13:49:43.801866Z",
     "shell.execute_reply": "2025-01-27T13:49:43.800733Z"
    },
    "executionInfo": {
     "elapsed": 7,
     "status": "ok",
     "timestamp": 1734445440580,
     "user": {
      "displayName": "Tahmida Majumder",
      "userId": "15415648085337204568"
     },
     "user_tz": -480
    },
    "id": "VqKup5l4UGVl",
    "outputId": "7240289d-f562-40ab-e873-525624b6674f",
    "papermill": {
     "duration": 0.060803,
     "end_time": "2025-01-27T13:49:43.803888",
     "exception": false,
     "start_time": "2025-01-27T13:49:43.743085",
     "status": "completed"
    },
    "tags": []
   },
   "outputs": [
    {
     "data": {
      "text/plain": [
       "(586937, 5)"
      ]
     },
     "execution_count": 94,
     "metadata": {},
     "output_type": "execute_result"
    }
   ],
   "source": [
    "raw_data_2020_Q4.shape"
   ]
  },
  {
   "cell_type": "code",
   "execution_count": 95,
   "id": "eb1810db",
   "metadata": {
    "execution": {
     "iopub.execute_input": "2025-01-27T13:49:43.981982Z",
     "iopub.status.busy": "2025-01-27T13:49:43.981573Z",
     "iopub.status.idle": "2025-01-27T13:49:44.447101Z",
     "shell.execute_reply": "2025-01-27T13:49:44.445346Z"
    },
    "id": "YJ_WLPDvUGVl",
    "papermill": {
     "duration": 0.525502,
     "end_time": "2025-01-27T13:49:44.449195",
     "exception": false,
     "start_time": "2025-01-27T13:49:43.923693",
     "status": "completed"
    },
    "tags": []
   },
   "outputs": [],
   "source": [
    "# Pivot the data\n",
    "data_df_2020_Q4 = raw_data_2020_Q4.pivot_table(\n",
    "    index=['Date', 'Country', 'City'],  # Grouping columns\n",
    "    columns='Specie',                  # Unique values become columns\n",
    "    values='median',                   # Values to aggregate\n",
    "    aggfunc='mean'                     # Aggregation function\n",
    ").reset_index()"
   ]
  },
  {
   "cell_type": "code",
   "execution_count": 96,
   "id": "42bf7a19",
   "metadata": {
    "execution": {
     "iopub.execute_input": "2025-01-27T13:49:44.553592Z",
     "iopub.status.busy": "2025-01-27T13:49:44.553141Z",
     "iopub.status.idle": "2025-01-27T13:49:44.581409Z",
     "shell.execute_reply": "2025-01-27T13:49:44.579102Z"
    },
    "executionInfo": {
     "elapsed": 11,
     "status": "ok",
     "timestamp": 1734445441522,
     "user": {
      "displayName": "Tahmida Majumder",
      "userId": "15415648085337204568"
     },
     "user_tz": -480
    },
    "id": "X62TzyIFUGVl",
    "outputId": "3909d5ca-b968-4fdc-ffa1-659da2426908",
    "papermill": {
     "duration": 0.080867,
     "end_time": "2025-01-27T13:49:44.583535",
     "exception": false,
     "start_time": "2025-01-27T13:49:44.502668",
     "status": "completed"
    },
    "tags": []
   },
   "outputs": [
    {
     "name": "stdout",
     "output_type": "stream",
     "text": [
      "(58362, 22)\n"
     ]
    },
    {
     "data": {
      "text/html": [
       "<div>\n",
       "<style scoped>\n",
       "    .dataframe tbody tr th:only-of-type {\n",
       "        vertical-align: middle;\n",
       "    }\n",
       "\n",
       "    .dataframe tbody tr th {\n",
       "        vertical-align: top;\n",
       "    }\n",
       "\n",
       "    .dataframe thead th {\n",
       "        text-align: right;\n",
       "    }\n",
       "</style>\n",
       "<table border=\"1\" class=\"dataframe\">\n",
       "  <thead>\n",
       "    <tr style=\"text-align: right;\">\n",
       "      <th>Specie</th>\n",
       "      <th>Date</th>\n",
       "      <th>Country</th>\n",
       "      <th>City</th>\n",
       "      <th>aqi</th>\n",
       "      <th>co</th>\n",
       "      <th>dew</th>\n",
       "      <th>humidity</th>\n",
       "      <th>mepaqi</th>\n",
       "      <th>neph</th>\n",
       "      <th>no2</th>\n",
       "      <th>...</th>\n",
       "      <th>pm10</th>\n",
       "      <th>pm25</th>\n",
       "      <th>precipitation</th>\n",
       "      <th>pressure</th>\n",
       "      <th>so2</th>\n",
       "      <th>temperature</th>\n",
       "      <th>uvi</th>\n",
       "      <th>wd</th>\n",
       "      <th>wind-gust</th>\n",
       "      <th>wind-speed</th>\n",
       "    </tr>\n",
       "  </thead>\n",
       "  <tbody>\n",
       "    <tr>\n",
       "      <th>0</th>\n",
       "      <td>2020-09-28</td>\n",
       "      <td>AE</td>\n",
       "      <td>Abu Dhabi</td>\n",
       "      <td>NaN</td>\n",
       "      <td>0.1</td>\n",
       "      <td>24.0</td>\n",
       "      <td>70.0</td>\n",
       "      <td>NaN</td>\n",
       "      <td>NaN</td>\n",
       "      <td>10.6</td>\n",
       "      <td>...</td>\n",
       "      <td>66.0</td>\n",
       "      <td>74.0</td>\n",
       "      <td>NaN</td>\n",
       "      <td>1005.0</td>\n",
       "      <td>4.6</td>\n",
       "      <td>32.0</td>\n",
       "      <td>NaN</td>\n",
       "      <td>NaN</td>\n",
       "      <td>NaN</td>\n",
       "      <td>2.5</td>\n",
       "    </tr>\n",
       "    <tr>\n",
       "      <th>1</th>\n",
       "      <td>2020-09-28</td>\n",
       "      <td>AE</td>\n",
       "      <td>Dubai</td>\n",
       "      <td>NaN</td>\n",
       "      <td>NaN</td>\n",
       "      <td>25.0</td>\n",
       "      <td>70.0</td>\n",
       "      <td>NaN</td>\n",
       "      <td>NaN</td>\n",
       "      <td>NaN</td>\n",
       "      <td>...</td>\n",
       "      <td>NaN</td>\n",
       "      <td>99.0</td>\n",
       "      <td>NaN</td>\n",
       "      <td>1005.0</td>\n",
       "      <td>NaN</td>\n",
       "      <td>32.0</td>\n",
       "      <td>NaN</td>\n",
       "      <td>NaN</td>\n",
       "      <td>NaN</td>\n",
       "      <td>2.0</td>\n",
       "    </tr>\n",
       "    <tr>\n",
       "      <th>2</th>\n",
       "      <td>2020-09-28</td>\n",
       "      <td>AF</td>\n",
       "      <td>Kabul</td>\n",
       "      <td>NaN</td>\n",
       "      <td>NaN</td>\n",
       "      <td>6.0</td>\n",
       "      <td>43.0</td>\n",
       "      <td>NaN</td>\n",
       "      <td>NaN</td>\n",
       "      <td>NaN</td>\n",
       "      <td>...</td>\n",
       "      <td>NaN</td>\n",
       "      <td>89.0</td>\n",
       "      <td>NaN</td>\n",
       "      <td>1019.0</td>\n",
       "      <td>NaN</td>\n",
       "      <td>17.0</td>\n",
       "      <td>NaN</td>\n",
       "      <td>NaN</td>\n",
       "      <td>NaN</td>\n",
       "      <td>3.0</td>\n",
       "    </tr>\n",
       "    <tr>\n",
       "      <th>3</th>\n",
       "      <td>2020-09-28</td>\n",
       "      <td>AR</td>\n",
       "      <td>Buenos Aires</td>\n",
       "      <td>NaN</td>\n",
       "      <td>4.4</td>\n",
       "      <td>4.1</td>\n",
       "      <td>50.3</td>\n",
       "      <td>NaN</td>\n",
       "      <td>NaN</td>\n",
       "      <td>6.9</td>\n",
       "      <td>...</td>\n",
       "      <td>12.0</td>\n",
       "      <td>21.0</td>\n",
       "      <td>NaN</td>\n",
       "      <td>1011.6</td>\n",
       "      <td>0.6</td>\n",
       "      <td>16.5</td>\n",
       "      <td>NaN</td>\n",
       "      <td>247.5</td>\n",
       "      <td>7.6</td>\n",
       "      <td>2.8</td>\n",
       "    </tr>\n",
       "    <tr>\n",
       "      <th>4</th>\n",
       "      <td>2020-09-28</td>\n",
       "      <td>AT</td>\n",
       "      <td>Graz</td>\n",
       "      <td>NaN</td>\n",
       "      <td>0.1</td>\n",
       "      <td>8.9</td>\n",
       "      <td>92.3</td>\n",
       "      <td>NaN</td>\n",
       "      <td>NaN</td>\n",
       "      <td>7.8</td>\n",
       "      <td>...</td>\n",
       "      <td>6.0</td>\n",
       "      <td>NaN</td>\n",
       "      <td>0.4</td>\n",
       "      <td>965.6</td>\n",
       "      <td>1.1</td>\n",
       "      <td>10.4</td>\n",
       "      <td>NaN</td>\n",
       "      <td>NaN</td>\n",
       "      <td>3.7</td>\n",
       "      <td>2.0</td>\n",
       "    </tr>\n",
       "  </tbody>\n",
       "</table>\n",
       "<p>5 rows × 22 columns</p>\n",
       "</div>"
      ],
      "text/plain": [
       "Specie       Date Country          City  aqi   co   dew  humidity  mepaqi  \\\n",
       "0      2020-09-28      AE     Abu Dhabi  NaN  0.1  24.0      70.0     NaN   \n",
       "1      2020-09-28      AE         Dubai  NaN  NaN  25.0      70.0     NaN   \n",
       "2      2020-09-28      AF         Kabul  NaN  NaN   6.0      43.0     NaN   \n",
       "3      2020-09-28      AR  Buenos Aires  NaN  4.4   4.1      50.3     NaN   \n",
       "4      2020-09-28      AT          Graz  NaN  0.1   8.9      92.3     NaN   \n",
       "\n",
       "Specie  neph   no2  ...  pm10  pm25  precipitation  pressure  so2  \\\n",
       "0        NaN  10.6  ...  66.0  74.0            NaN    1005.0  4.6   \n",
       "1        NaN   NaN  ...   NaN  99.0            NaN    1005.0  NaN   \n",
       "2        NaN   NaN  ...   NaN  89.0            NaN    1019.0  NaN   \n",
       "3        NaN   6.9  ...  12.0  21.0            NaN    1011.6  0.6   \n",
       "4        NaN   7.8  ...   6.0   NaN            0.4     965.6  1.1   \n",
       "\n",
       "Specie  temperature  uvi     wd  wind-gust  wind-speed  \n",
       "0              32.0  NaN    NaN        NaN         2.5  \n",
       "1              32.0  NaN    NaN        NaN         2.0  \n",
       "2              17.0  NaN    NaN        NaN         3.0  \n",
       "3              16.5  NaN  247.5        7.6         2.8  \n",
       "4              10.4  NaN    NaN        3.7         2.0  \n",
       "\n",
       "[5 rows x 22 columns]"
      ]
     },
     "execution_count": 96,
     "metadata": {},
     "output_type": "execute_result"
    }
   ],
   "source": [
    "print(data_df_2020_Q4.shape)\n",
    "data_df_2020_Q4.head()"
   ]
  },
  {
   "cell_type": "code",
   "execution_count": 97,
   "id": "01e49539",
   "metadata": {
    "execution": {
     "iopub.execute_input": "2025-01-27T13:49:44.693249Z",
     "iopub.status.busy": "2025-01-27T13:49:44.692879Z",
     "iopub.status.idle": "2025-01-27T13:49:44.717961Z",
     "shell.execute_reply": "2025-01-27T13:49:44.716700Z"
    },
    "executionInfo": {
     "elapsed": 8,
     "status": "ok",
     "timestamp": 1734445441523,
     "user": {
      "displayName": "Tahmida Majumder",
      "userId": "15415648085337204568"
     },
     "user_tz": -480
    },
    "id": "tWnkp8BJUGVm",
    "outputId": "e1e12277-e930-4b0d-cb8c-0d105953be31",
    "papermill": {
     "duration": 0.083343,
     "end_time": "2025-01-27T13:49:44.719969",
     "exception": false,
     "start_time": "2025-01-27T13:49:44.636626",
     "status": "completed"
    },
    "tags": []
   },
   "outputs": [
    {
     "data": {
      "text/plain": [
       "Specie\n",
       "Date                 0\n",
       "Country              0\n",
       "City                 0\n",
       "aqi              56864\n",
       "co               21639\n",
       "dew              11928\n",
       "humidity           150\n",
       "mepaqi           58264\n",
       "neph             58166\n",
       "no2              10851\n",
       "o3               14731\n",
       "pm1              58017\n",
       "pm10             10882\n",
       "pm25              8929\n",
       "precipitation    52342\n",
       "pressure           356\n",
       "so2              18883\n",
       "temperature        113\n",
       "uvi              57392\n",
       "wd               53565\n",
       "wind-gust        27934\n",
       "wind-speed         935\n",
       "dtype: int64"
      ]
     },
     "execution_count": 97,
     "metadata": {},
     "output_type": "execute_result"
    }
   ],
   "source": [
    "data_df_2020_Q4.isnull().sum()"
   ]
  },
  {
   "cell_type": "code",
   "execution_count": null,
   "id": "23e20861",
   "metadata": {
    "id": "DWaMHJphBLrl",
    "papermill": {
     "duration": 0.052403,
     "end_time": "2025-01-27T13:49:44.823382",
     "exception": false,
     "start_time": "2025-01-27T13:49:44.770979",
     "status": "completed"
    },
    "tags": []
   },
   "outputs": [],
   "source": []
  },
  {
   "cell_type": "markdown",
   "id": "afc3ed5f",
   "metadata": {
    "id": "4vWuznNRUWPs",
    "papermill": {
     "duration": 0.049327,
     "end_time": "2025-01-27T13:49:44.923476",
     "exception": false,
     "start_time": "2025-01-27T13:49:44.874149",
     "status": "completed"
    },
    "tags": []
   },
   "source": [
    "# 2019_Q1"
   ]
  },
  {
   "cell_type": "code",
   "execution_count": 98,
   "id": "d6e0e74b",
   "metadata": {
    "execution": {
     "iopub.execute_input": "2025-01-27T13:49:45.030525Z",
     "iopub.status.busy": "2025-01-27T13:49:45.030123Z",
     "iopub.status.idle": "2025-01-27T13:49:45.490071Z",
     "shell.execute_reply": "2025-01-27T13:49:45.488327Z"
    },
    "executionInfo": {
     "elapsed": 653,
     "status": "ok",
     "timestamp": 1734445442169,
     "user": {
      "displayName": "Tahmida Majumder",
      "userId": "15415648085337204568"
     },
     "user_tz": -480
    },
    "id": "lvL5BAUIUWPs",
    "outputId": "69a3a43d-79c3-40f2-8231-d27a30519c31",
    "papermill": {
     "duration": 0.515316,
     "end_time": "2025-01-27T13:49:45.492562",
     "exception": false,
     "start_time": "2025-01-27T13:49:44.977246",
     "status": "completed"
    },
    "tags": []
   },
   "outputs": [
    {
     "name": "stdout",
     "output_type": "stream",
     "text": [
      "(491161, 5)\n"
     ]
    },
    {
     "data": {
      "text/html": [
       "<div>\n",
       "<style scoped>\n",
       "    .dataframe tbody tr th:only-of-type {\n",
       "        vertical-align: middle;\n",
       "    }\n",
       "\n",
       "    .dataframe tbody tr th {\n",
       "        vertical-align: top;\n",
       "    }\n",
       "\n",
       "    .dataframe thead th {\n",
       "        text-align: right;\n",
       "    }\n",
       "</style>\n",
       "<table border=\"1\" class=\"dataframe\">\n",
       "  <thead>\n",
       "    <tr style=\"text-align: right;\">\n",
       "      <th></th>\n",
       "      <th>Date</th>\n",
       "      <th>Country</th>\n",
       "      <th>City</th>\n",
       "      <th>Specie</th>\n",
       "      <th>median</th>\n",
       "    </tr>\n",
       "  </thead>\n",
       "  <tbody>\n",
       "    <tr>\n",
       "      <th>0</th>\n",
       "      <td>1/16/2019</td>\n",
       "      <td>AE</td>\n",
       "      <td>Abu Dhabi</td>\n",
       "      <td>pm10</td>\n",
       "      <td>97.0</td>\n",
       "    </tr>\n",
       "    <tr>\n",
       "      <th>1</th>\n",
       "      <td>1/22/2019</td>\n",
       "      <td>AE</td>\n",
       "      <td>Abu Dhabi</td>\n",
       "      <td>pm10</td>\n",
       "      <td>55.0</td>\n",
       "    </tr>\n",
       "    <tr>\n",
       "      <th>2</th>\n",
       "      <td>1/26/2019</td>\n",
       "      <td>AE</td>\n",
       "      <td>Abu Dhabi</td>\n",
       "      <td>pm10</td>\n",
       "      <td>160.0</td>\n",
       "    </tr>\n",
       "    <tr>\n",
       "      <th>3</th>\n",
       "      <td>1/7/2019</td>\n",
       "      <td>AE</td>\n",
       "      <td>Abu Dhabi</td>\n",
       "      <td>pm10</td>\n",
       "      <td>72.0</td>\n",
       "    </tr>\n",
       "    <tr>\n",
       "      <th>4</th>\n",
       "      <td>1/10/2019</td>\n",
       "      <td>AE</td>\n",
       "      <td>Abu Dhabi</td>\n",
       "      <td>pm10</td>\n",
       "      <td>87.0</td>\n",
       "    </tr>\n",
       "    <tr>\n",
       "      <th>5</th>\n",
       "      <td>1/14/2019</td>\n",
       "      <td>AE</td>\n",
       "      <td>Abu Dhabi</td>\n",
       "      <td>pm10</td>\n",
       "      <td>74.0</td>\n",
       "    </tr>\n",
       "    <tr>\n",
       "      <th>6</th>\n",
       "      <td>1/15/2019</td>\n",
       "      <td>AE</td>\n",
       "      <td>Abu Dhabi</td>\n",
       "      <td>pm10</td>\n",
       "      <td>83.0</td>\n",
       "    </tr>\n",
       "    <tr>\n",
       "      <th>7</th>\n",
       "      <td>1/21/2019</td>\n",
       "      <td>AE</td>\n",
       "      <td>Abu Dhabi</td>\n",
       "      <td>pm10</td>\n",
       "      <td>58.0</td>\n",
       "    </tr>\n",
       "    <tr>\n",
       "      <th>8</th>\n",
       "      <td>1/8/2019</td>\n",
       "      <td>AE</td>\n",
       "      <td>Abu Dhabi</td>\n",
       "      <td>pm10</td>\n",
       "      <td>97.0</td>\n",
       "    </tr>\n",
       "    <tr>\n",
       "      <th>9</th>\n",
       "      <td>1/17/2019</td>\n",
       "      <td>AE</td>\n",
       "      <td>Abu Dhabi</td>\n",
       "      <td>pm10</td>\n",
       "      <td>77.0</td>\n",
       "    </tr>\n",
       "  </tbody>\n",
       "</table>\n",
       "</div>"
      ],
      "text/plain": [
       "        Date Country       City Specie  median\n",
       "0  1/16/2019      AE  Abu Dhabi   pm10    97.0\n",
       "1  1/22/2019      AE  Abu Dhabi   pm10    55.0\n",
       "2  1/26/2019      AE  Abu Dhabi   pm10   160.0\n",
       "3   1/7/2019      AE  Abu Dhabi   pm10    72.0\n",
       "4  1/10/2019      AE  Abu Dhabi   pm10    87.0\n",
       "5  1/14/2019      AE  Abu Dhabi   pm10    74.0\n",
       "6  1/15/2019      AE  Abu Dhabi   pm10    83.0\n",
       "7  1/21/2019      AE  Abu Dhabi   pm10    58.0\n",
       "8   1/8/2019      AE  Abu Dhabi   pm10    97.0\n",
       "9  1/17/2019      AE  Abu Dhabi   pm10    77.0"
      ]
     },
     "execution_count": 98,
     "metadata": {},
     "output_type": "execute_result"
    }
   ],
   "source": [
    "# Loading the data\n",
    "raw_data_2019_Q1 = pd.read_csv(r\"/kaggle/input/complete-raw-median/waqi-covid19-airqualitydata-2019Q1.csv\")\n",
    "\n",
    "# print the shape\n",
    "print(raw_data_2019_Q1.shape)\n",
    "\n",
    "#runs the first 5 rows\n",
    "raw_data_2019_Q1.head(10)"
   ]
  },
  {
   "cell_type": "code",
   "execution_count": 99,
   "id": "682649b2",
   "metadata": {
    "execution": {
     "iopub.execute_input": "2025-01-27T13:49:45.607261Z",
     "iopub.status.busy": "2025-01-27T13:49:45.606883Z",
     "iopub.status.idle": "2025-01-27T13:49:45.684472Z",
     "shell.execute_reply": "2025-01-27T13:49:45.683226Z"
    },
    "id": "dGfJZYbrUWPs",
    "papermill": {
     "duration": 0.136337,
     "end_time": "2025-01-27T13:49:45.686678",
     "exception": false,
     "start_time": "2025-01-27T13:49:45.550341",
     "status": "completed"
    },
    "tags": []
   },
   "outputs": [],
   "source": [
    "# Convert 'Date' to datetime\n",
    "raw_data_2019_Q1['Date'] = pd.to_datetime(raw_data_2019_Q1['Date'])"
   ]
  },
  {
   "cell_type": "code",
   "execution_count": 100,
   "id": "e1b12986",
   "metadata": {
    "execution": {
     "iopub.execute_input": "2025-01-27T13:49:45.813618Z",
     "iopub.status.busy": "2025-01-27T13:49:45.813018Z",
     "iopub.status.idle": "2025-01-27T13:49:45.820219Z",
     "shell.execute_reply": "2025-01-27T13:49:45.818869Z"
    },
    "executionInfo": {
     "elapsed": 7,
     "status": "ok",
     "timestamp": 1734445442169,
     "user": {
      "displayName": "Tahmida Majumder",
      "userId": "15415648085337204568"
     },
     "user_tz": -480
    },
    "id": "5f1QMtHrUWPs",
    "outputId": "a5ac0f2b-6aa8-4c51-e9b0-4772808281c8",
    "papermill": {
     "duration": 0.084918,
     "end_time": "2025-01-27T13:49:45.822469",
     "exception": false,
     "start_time": "2025-01-27T13:49:45.737551",
     "status": "completed"
    },
    "tags": []
   },
   "outputs": [
    {
     "data": {
      "text/plain": [
       "(491161, 5)"
      ]
     },
     "execution_count": 100,
     "metadata": {},
     "output_type": "execute_result"
    }
   ],
   "source": [
    "raw_data_2019_Q1.shape"
   ]
  },
  {
   "cell_type": "code",
   "execution_count": 101,
   "id": "f6a18867",
   "metadata": {
    "execution": {
     "iopub.execute_input": "2025-01-27T13:49:45.935609Z",
     "iopub.status.busy": "2025-01-27T13:49:45.935175Z",
     "iopub.status.idle": "2025-01-27T13:49:46.310146Z",
     "shell.execute_reply": "2025-01-27T13:49:46.308874Z"
    },
    "id": "cBV6g4USUWPs",
    "papermill": {
     "duration": 0.429437,
     "end_time": "2025-01-27T13:49:46.312071",
     "exception": false,
     "start_time": "2025-01-27T13:49:45.882634",
     "status": "completed"
    },
    "tags": []
   },
   "outputs": [],
   "source": [
    "# Pivot the data\n",
    "data_df_2019_Q1 = raw_data_2019_Q1.pivot_table(\n",
    "    index=['Date', 'Country', 'City'],  # Grouping columns\n",
    "    columns='Specie',                  # Unique values become columns\n",
    "    values='median',                   # Values to aggregate\n",
    "    aggfunc='mean'                     # Aggregation function\n",
    ").reset_index()"
   ]
  },
  {
   "cell_type": "code",
   "execution_count": 102,
   "id": "a90ea5e8",
   "metadata": {
    "execution": {
     "iopub.execute_input": "2025-01-27T13:49:46.416486Z",
     "iopub.status.busy": "2025-01-27T13:49:46.416087Z",
     "iopub.status.idle": "2025-01-27T13:49:46.442088Z",
     "shell.execute_reply": "2025-01-27T13:49:46.440679Z"
    },
    "executionInfo": {
     "elapsed": 12,
     "status": "ok",
     "timestamp": 1734445442579,
     "user": {
      "displayName": "Tahmida Majumder",
      "userId": "15415648085337204568"
     },
     "user_tz": -480
    },
    "id": "g_kaIAN3UWPt",
    "outputId": "4dd78eaf-5e39-4ffc-c7a6-97139ca90ca7",
    "papermill": {
     "duration": 0.079726,
     "end_time": "2025-01-27T13:49:46.443931",
     "exception": false,
     "start_time": "2025-01-27T13:49:46.364205",
     "status": "completed"
    },
    "tags": []
   },
   "outputs": [
    {
     "name": "stdout",
     "output_type": "stream",
     "text": [
      "(49006, 22)\n"
     ]
    },
    {
     "data": {
      "text/html": [
       "<div>\n",
       "<style scoped>\n",
       "    .dataframe tbody tr th:only-of-type {\n",
       "        vertical-align: middle;\n",
       "    }\n",
       "\n",
       "    .dataframe tbody tr th {\n",
       "        vertical-align: top;\n",
       "    }\n",
       "\n",
       "    .dataframe thead th {\n",
       "        text-align: right;\n",
       "    }\n",
       "</style>\n",
       "<table border=\"1\" class=\"dataframe\">\n",
       "  <thead>\n",
       "    <tr style=\"text-align: right;\">\n",
       "      <th>Specie</th>\n",
       "      <th>Date</th>\n",
       "      <th>Country</th>\n",
       "      <th>City</th>\n",
       "      <th>aqi</th>\n",
       "      <th>co</th>\n",
       "      <th>dew</th>\n",
       "      <th>humidity</th>\n",
       "      <th>mepaqi</th>\n",
       "      <th>no2</th>\n",
       "      <th>o3</th>\n",
       "      <th>...</th>\n",
       "      <th>pm25</th>\n",
       "      <th>pol</th>\n",
       "      <th>precipitation</th>\n",
       "      <th>pressure</th>\n",
       "      <th>so2</th>\n",
       "      <th>temperature</th>\n",
       "      <th>uvi</th>\n",
       "      <th>wd</th>\n",
       "      <th>wind-gust</th>\n",
       "      <th>wind-speed</th>\n",
       "    </tr>\n",
       "  </thead>\n",
       "  <tbody>\n",
       "    <tr>\n",
       "      <th>0</th>\n",
       "      <td>2018-12-31</td>\n",
       "      <td>AE</td>\n",
       "      <td>Abu Dhabi</td>\n",
       "      <td>NaN</td>\n",
       "      <td>NaN</td>\n",
       "      <td>16.0</td>\n",
       "      <td>68.0</td>\n",
       "      <td>NaN</td>\n",
       "      <td>27.9</td>\n",
       "      <td>27.3</td>\n",
       "      <td>...</td>\n",
       "      <td>112.0</td>\n",
       "      <td>NaN</td>\n",
       "      <td>NaN</td>\n",
       "      <td>1019.0</td>\n",
       "      <td>4.6</td>\n",
       "      <td>22.0</td>\n",
       "      <td>NaN</td>\n",
       "      <td>NaN</td>\n",
       "      <td>NaN</td>\n",
       "      <td>2.0</td>\n",
       "    </tr>\n",
       "    <tr>\n",
       "      <th>1</th>\n",
       "      <td>2018-12-31</td>\n",
       "      <td>AR</td>\n",
       "      <td>Buenos Aires</td>\n",
       "      <td>NaN</td>\n",
       "      <td>NaN</td>\n",
       "      <td>14.0</td>\n",
       "      <td>0.0</td>\n",
       "      <td>NaN</td>\n",
       "      <td>NaN</td>\n",
       "      <td>NaN</td>\n",
       "      <td>...</td>\n",
       "      <td>NaN</td>\n",
       "      <td>NaN</td>\n",
       "      <td>NaN</td>\n",
       "      <td>0.0</td>\n",
       "      <td>NaN</td>\n",
       "      <td>0.0</td>\n",
       "      <td>NaN</td>\n",
       "      <td>0.0</td>\n",
       "      <td>11.3</td>\n",
       "      <td>5.0</td>\n",
       "    </tr>\n",
       "    <tr>\n",
       "      <th>2</th>\n",
       "      <td>2018-12-31</td>\n",
       "      <td>AT</td>\n",
       "      <td>Graz</td>\n",
       "      <td>NaN</td>\n",
       "      <td>0.1</td>\n",
       "      <td>NaN</td>\n",
       "      <td>70.2</td>\n",
       "      <td>NaN</td>\n",
       "      <td>14.2</td>\n",
       "      <td>NaN</td>\n",
       "      <td>...</td>\n",
       "      <td>NaN</td>\n",
       "      <td>NaN</td>\n",
       "      <td>NaN</td>\n",
       "      <td>1027.1</td>\n",
       "      <td>1.1</td>\n",
       "      <td>3.7</td>\n",
       "      <td>NaN</td>\n",
       "      <td>NaN</td>\n",
       "      <td>4.3</td>\n",
       "      <td>1.5</td>\n",
       "    </tr>\n",
       "    <tr>\n",
       "      <th>3</th>\n",
       "      <td>2018-12-31</td>\n",
       "      <td>AT</td>\n",
       "      <td>Innsbruck</td>\n",
       "      <td>NaN</td>\n",
       "      <td>0.1</td>\n",
       "      <td>0.5</td>\n",
       "      <td>93.0</td>\n",
       "      <td>NaN</td>\n",
       "      <td>30.7</td>\n",
       "      <td>NaN</td>\n",
       "      <td>...</td>\n",
       "      <td>NaN</td>\n",
       "      <td>NaN</td>\n",
       "      <td>NaN</td>\n",
       "      <td>1032.0</td>\n",
       "      <td>1.3</td>\n",
       "      <td>0.0</td>\n",
       "      <td>NaN</td>\n",
       "      <td>NaN</td>\n",
       "      <td>2.2</td>\n",
       "      <td>0.7</td>\n",
       "    </tr>\n",
       "    <tr>\n",
       "      <th>4</th>\n",
       "      <td>2018-12-31</td>\n",
       "      <td>AT</td>\n",
       "      <td>Linz</td>\n",
       "      <td>NaN</td>\n",
       "      <td>0.1</td>\n",
       "      <td>2.5</td>\n",
       "      <td>92.0</td>\n",
       "      <td>NaN</td>\n",
       "      <td>9.6</td>\n",
       "      <td>NaN</td>\n",
       "      <td>...</td>\n",
       "      <td>53.0</td>\n",
       "      <td>NaN</td>\n",
       "      <td>NaN</td>\n",
       "      <td>1031.0</td>\n",
       "      <td>7.1</td>\n",
       "      <td>3.3</td>\n",
       "      <td>NaN</td>\n",
       "      <td>NaN</td>\n",
       "      <td>2.5</td>\n",
       "      <td>1.2</td>\n",
       "    </tr>\n",
       "  </tbody>\n",
       "</table>\n",
       "<p>5 rows × 22 columns</p>\n",
       "</div>"
      ],
      "text/plain": [
       "Specie       Date Country          City  aqi   co   dew  humidity  mepaqi  \\\n",
       "0      2018-12-31      AE     Abu Dhabi  NaN  NaN  16.0      68.0     NaN   \n",
       "1      2018-12-31      AR  Buenos Aires  NaN  NaN  14.0       0.0     NaN   \n",
       "2      2018-12-31      AT          Graz  NaN  0.1   NaN      70.2     NaN   \n",
       "3      2018-12-31      AT     Innsbruck  NaN  0.1   0.5      93.0     NaN   \n",
       "4      2018-12-31      AT          Linz  NaN  0.1   2.5      92.0     NaN   \n",
       "\n",
       "Specie   no2    o3  ...   pm25  pol  precipitation  pressure  so2  \\\n",
       "0       27.9  27.3  ...  112.0  NaN            NaN    1019.0  4.6   \n",
       "1        NaN   NaN  ...    NaN  NaN            NaN       0.0  NaN   \n",
       "2       14.2   NaN  ...    NaN  NaN            NaN    1027.1  1.1   \n",
       "3       30.7   NaN  ...    NaN  NaN            NaN    1032.0  1.3   \n",
       "4        9.6   NaN  ...   53.0  NaN            NaN    1031.0  7.1   \n",
       "\n",
       "Specie  temperature  uvi   wd  wind-gust  wind-speed  \n",
       "0              22.0  NaN  NaN        NaN         2.0  \n",
       "1               0.0  NaN  0.0       11.3         5.0  \n",
       "2               3.7  NaN  NaN        4.3         1.5  \n",
       "3               0.0  NaN  NaN        2.2         0.7  \n",
       "4               3.3  NaN  NaN        2.5         1.2  \n",
       "\n",
       "[5 rows x 22 columns]"
      ]
     },
     "execution_count": 102,
     "metadata": {},
     "output_type": "execute_result"
    }
   ],
   "source": [
    "print(data_df_2019_Q1.shape)\n",
    "data_df_2019_Q1.head()"
   ]
  },
  {
   "cell_type": "code",
   "execution_count": 103,
   "id": "0a9e3e1d",
   "metadata": {
    "execution": {
     "iopub.execute_input": "2025-01-27T13:49:46.550550Z",
     "iopub.status.busy": "2025-01-27T13:49:46.550141Z",
     "iopub.status.idle": "2025-01-27T13:49:46.572703Z",
     "shell.execute_reply": "2025-01-27T13:49:46.571537Z"
    },
    "executionInfo": {
     "elapsed": 9,
     "status": "ok",
     "timestamp": 1734445442579,
     "user": {
      "displayName": "Tahmida Majumder",
      "userId": "15415648085337204568"
     },
     "user_tz": -480
    },
    "id": "XgyHV654UWPt",
    "outputId": "e107e617-5ebc-495b-ac82-59a851117406",
    "papermill": {
     "duration": 0.077237,
     "end_time": "2025-01-27T13:49:46.574661",
     "exception": false,
     "start_time": "2025-01-27T13:49:46.497424",
     "status": "completed"
    },
    "tags": []
   },
   "outputs": [
    {
     "data": {
      "text/plain": [
       "Specie\n",
       "Date                 0\n",
       "Country              0\n",
       "City                 0\n",
       "aqi              47701\n",
       "co               17145\n",
       "dew              21593\n",
       "humidity           293\n",
       "mepaqi           48915\n",
       "no2               7765\n",
       "o3                9237\n",
       "pm1              48915\n",
       "pm10              9686\n",
       "pm25              7771\n",
       "pol              48812\n",
       "precipitation    45579\n",
       "pressure           526\n",
       "so2              13818\n",
       "temperature        280\n",
       "uvi              48084\n",
       "wd               43626\n",
       "wind-gust        16846\n",
       "wind-speed        3361\n",
       "dtype: int64"
      ]
     },
     "execution_count": 103,
     "metadata": {},
     "output_type": "execute_result"
    }
   ],
   "source": [
    "data_df_2019_Q1.isnull().sum()"
   ]
  },
  {
   "cell_type": "code",
   "execution_count": null,
   "id": "d13f104f",
   "metadata": {
    "id": "LmE5EK_BBLtg",
    "papermill": {
     "duration": 0.054733,
     "end_time": "2025-01-27T13:49:46.681692",
     "exception": false,
     "start_time": "2025-01-27T13:49:46.626959",
     "status": "completed"
    },
    "tags": []
   },
   "outputs": [],
   "source": []
  },
  {
   "cell_type": "markdown",
   "id": "cf72b12e",
   "metadata": {
    "id": "Fa0XA693UvmX",
    "papermill": {
     "duration": 0.053024,
     "end_time": "2025-01-27T13:49:46.786785",
     "exception": false,
     "start_time": "2025-01-27T13:49:46.733761",
     "status": "completed"
    },
    "tags": []
   },
   "source": [
    "# 2019_Q2"
   ]
  },
  {
   "cell_type": "code",
   "execution_count": 104,
   "id": "a8c00e04",
   "metadata": {
    "execution": {
     "iopub.execute_input": "2025-01-27T13:49:46.894592Z",
     "iopub.status.busy": "2025-01-27T13:49:46.894163Z",
     "iopub.status.idle": "2025-01-27T13:49:47.360221Z",
     "shell.execute_reply": "2025-01-27T13:49:47.359073Z"
    },
    "executionInfo": {
     "elapsed": 1504,
     "status": "ok",
     "timestamp": 1734445444075,
     "user": {
      "displayName": "Tahmida Majumder",
      "userId": "15415648085337204568"
     },
     "user_tz": -480
    },
    "id": "9_-gBvDPUvmX",
    "outputId": "321c62f3-8e0c-4b0c-bc66-54b1db61eca7",
    "papermill": {
     "duration": 0.521192,
     "end_time": "2025-01-27T13:49:47.362044",
     "exception": false,
     "start_time": "2025-01-27T13:49:46.840852",
     "status": "completed"
    },
    "tags": []
   },
   "outputs": [
    {
     "name": "stdout",
     "output_type": "stream",
     "text": [
      "(522904, 5)\n"
     ]
    },
    {
     "data": {
      "text/html": [
       "<div>\n",
       "<style scoped>\n",
       "    .dataframe tbody tr th:only-of-type {\n",
       "        vertical-align: middle;\n",
       "    }\n",
       "\n",
       "    .dataframe tbody tr th {\n",
       "        vertical-align: top;\n",
       "    }\n",
       "\n",
       "    .dataframe thead th {\n",
       "        text-align: right;\n",
       "    }\n",
       "</style>\n",
       "<table border=\"1\" class=\"dataframe\">\n",
       "  <thead>\n",
       "    <tr style=\"text-align: right;\">\n",
       "      <th></th>\n",
       "      <th>Date</th>\n",
       "      <th>Country</th>\n",
       "      <th>City</th>\n",
       "      <th>Specie</th>\n",
       "      <th>median</th>\n",
       "    </tr>\n",
       "  </thead>\n",
       "  <tbody>\n",
       "    <tr>\n",
       "      <th>0</th>\n",
       "      <td>5/10/2019</td>\n",
       "      <td>MO</td>\n",
       "      <td>Macau</td>\n",
       "      <td>o3</td>\n",
       "      <td>15.7</td>\n",
       "    </tr>\n",
       "    <tr>\n",
       "      <th>1</th>\n",
       "      <td>5/14/2019</td>\n",
       "      <td>MO</td>\n",
       "      <td>Macau</td>\n",
       "      <td>o3</td>\n",
       "      <td>10.1</td>\n",
       "    </tr>\n",
       "    <tr>\n",
       "      <th>2</th>\n",
       "      <td>5/15/2019</td>\n",
       "      <td>MO</td>\n",
       "      <td>Macau</td>\n",
       "      <td>o3</td>\n",
       "      <td>9.8</td>\n",
       "    </tr>\n",
       "    <tr>\n",
       "      <th>3</th>\n",
       "      <td>5/22/2019</td>\n",
       "      <td>MO</td>\n",
       "      <td>Macau</td>\n",
       "      <td>o3</td>\n",
       "      <td>36.0</td>\n",
       "    </tr>\n",
       "    <tr>\n",
       "      <th>4</th>\n",
       "      <td>5/29/2019</td>\n",
       "      <td>MO</td>\n",
       "      <td>Macau</td>\n",
       "      <td>o3</td>\n",
       "      <td>18.8</td>\n",
       "    </tr>\n",
       "    <tr>\n",
       "      <th>5</th>\n",
       "      <td>4/19/2019</td>\n",
       "      <td>MO</td>\n",
       "      <td>Macau</td>\n",
       "      <td>o3</td>\n",
       "      <td>16.1</td>\n",
       "    </tr>\n",
       "    <tr>\n",
       "      <th>6</th>\n",
       "      <td>4/22/2019</td>\n",
       "      <td>MO</td>\n",
       "      <td>Macau</td>\n",
       "      <td>o3</td>\n",
       "      <td>10.3</td>\n",
       "    </tr>\n",
       "    <tr>\n",
       "      <th>7</th>\n",
       "      <td>4/24/2019</td>\n",
       "      <td>MO</td>\n",
       "      <td>Macau</td>\n",
       "      <td>o3</td>\n",
       "      <td>12.2</td>\n",
       "    </tr>\n",
       "    <tr>\n",
       "      <th>8</th>\n",
       "      <td>5/7/2019</td>\n",
       "      <td>MO</td>\n",
       "      <td>Macau</td>\n",
       "      <td>o3</td>\n",
       "      <td>22.8</td>\n",
       "    </tr>\n",
       "    <tr>\n",
       "      <th>9</th>\n",
       "      <td>6/4/2019</td>\n",
       "      <td>MO</td>\n",
       "      <td>Macau</td>\n",
       "      <td>o3</td>\n",
       "      <td>10.1</td>\n",
       "    </tr>\n",
       "  </tbody>\n",
       "</table>\n",
       "</div>"
      ],
      "text/plain": [
       "        Date Country   City Specie  median\n",
       "0  5/10/2019      MO  Macau     o3    15.7\n",
       "1  5/14/2019      MO  Macau     o3    10.1\n",
       "2  5/15/2019      MO  Macau     o3     9.8\n",
       "3  5/22/2019      MO  Macau     o3    36.0\n",
       "4  5/29/2019      MO  Macau     o3    18.8\n",
       "5  4/19/2019      MO  Macau     o3    16.1\n",
       "6  4/22/2019      MO  Macau     o3    10.3\n",
       "7  4/24/2019      MO  Macau     o3    12.2\n",
       "8   5/7/2019      MO  Macau     o3    22.8\n",
       "9   6/4/2019      MO  Macau     o3    10.1"
      ]
     },
     "execution_count": 104,
     "metadata": {},
     "output_type": "execute_result"
    }
   ],
   "source": [
    "# Loading the data\n",
    "raw_data_2019_Q2 = pd.read_csv(r\"/kaggle/input/complete-raw-median/waqi-covid19-airqualitydata-2019Q2.csv\")\n",
    "\n",
    "# print the shape\n",
    "print(raw_data_2019_Q2.shape)\n",
    "\n",
    "#runs the first 5 rows\n",
    "raw_data_2019_Q2.head(10)"
   ]
  },
  {
   "cell_type": "code",
   "execution_count": 105,
   "id": "b547ecd2",
   "metadata": {
    "execution": {
     "iopub.execute_input": "2025-01-27T13:49:47.474809Z",
     "iopub.status.busy": "2025-01-27T13:49:47.474391Z",
     "iopub.status.idle": "2025-01-27T13:49:47.545508Z",
     "shell.execute_reply": "2025-01-27T13:49:47.544151Z"
    },
    "id": "ISYacVaHUvmY",
    "papermill": {
     "duration": 0.130003,
     "end_time": "2025-01-27T13:49:47.547556",
     "exception": false,
     "start_time": "2025-01-27T13:49:47.417553",
     "status": "completed"
    },
    "tags": []
   },
   "outputs": [],
   "source": [
    "# Convert 'Date' to datetime\n",
    "raw_data_2019_Q2['Date'] = pd.to_datetime(raw_data_2019_Q2['Date'])"
   ]
  },
  {
   "cell_type": "code",
   "execution_count": 106,
   "id": "7af220ea",
   "metadata": {
    "execution": {
     "iopub.execute_input": "2025-01-27T13:49:47.655553Z",
     "iopub.status.busy": "2025-01-27T13:49:47.655157Z",
     "iopub.status.idle": "2025-01-27T13:49:47.661562Z",
     "shell.execute_reply": "2025-01-27T13:49:47.660216Z"
    },
    "executionInfo": {
     "elapsed": 10,
     "status": "ok",
     "timestamp": 1734445444076,
     "user": {
      "displayName": "Tahmida Majumder",
      "userId": "15415648085337204568"
     },
     "user_tz": -480
    },
    "id": "F79iK7hQUvmY",
    "outputId": "f9d409e3-9207-42e3-e810-248341fb99f8",
    "papermill": {
     "duration": 0.062897,
     "end_time": "2025-01-27T13:49:47.663308",
     "exception": false,
     "start_time": "2025-01-27T13:49:47.600411",
     "status": "completed"
    },
    "tags": []
   },
   "outputs": [
    {
     "data": {
      "text/plain": [
       "(522904, 5)"
      ]
     },
     "execution_count": 106,
     "metadata": {},
     "output_type": "execute_result"
    }
   ],
   "source": [
    "raw_data_2019_Q2.shape"
   ]
  },
  {
   "cell_type": "code",
   "execution_count": 107,
   "id": "aea8d824",
   "metadata": {
    "execution": {
     "iopub.execute_input": "2025-01-27T13:49:47.769540Z",
     "iopub.status.busy": "2025-01-27T13:49:47.769155Z",
     "iopub.status.idle": "2025-01-27T13:49:48.146685Z",
     "shell.execute_reply": "2025-01-27T13:49:48.145519Z"
    },
    "id": "uZSqb0FoUvmY",
    "papermill": {
     "duration": 0.432053,
     "end_time": "2025-01-27T13:49:48.148830",
     "exception": false,
     "start_time": "2025-01-27T13:49:47.716777",
     "status": "completed"
    },
    "tags": []
   },
   "outputs": [],
   "source": [
    "# Pivot the data\n",
    "data_df_2019_Q2 = raw_data_2019_Q2.pivot_table(\n",
    "    index=['Date', 'Country', 'City'],  # Grouping columns\n",
    "    columns='Specie',                  # Unique values become columns\n",
    "    values='median',                   # Values to aggregate\n",
    "    aggfunc='mean'                     # Aggregation function\n",
    ").reset_index()"
   ]
  },
  {
   "cell_type": "code",
   "execution_count": 108,
   "id": "f49853e6",
   "metadata": {
    "execution": {
     "iopub.execute_input": "2025-01-27T13:49:48.257099Z",
     "iopub.status.busy": "2025-01-27T13:49:48.256749Z",
     "iopub.status.idle": "2025-01-27T13:49:48.282109Z",
     "shell.execute_reply": "2025-01-27T13:49:48.281053Z"
    },
    "executionInfo": {
     "elapsed": 11,
     "status": "ok",
     "timestamp": 1734445444552,
     "user": {
      "displayName": "Tahmida Majumder",
      "userId": "15415648085337204568"
     },
     "user_tz": -480
    },
    "id": "EKadAQLeUvmY",
    "outputId": "ab665ff2-72c9-4b7a-fa14-e3611219d034",
    "papermill": {
     "duration": 0.081784,
     "end_time": "2025-01-27T13:49:48.283841",
     "exception": false,
     "start_time": "2025-01-27T13:49:48.202057",
     "status": "completed"
    },
    "tags": []
   },
   "outputs": [
    {
     "name": "stdout",
     "output_type": "stream",
     "text": [
      "(51421, 22)\n"
     ]
    },
    {
     "data": {
      "text/html": [
       "<div>\n",
       "<style scoped>\n",
       "    .dataframe tbody tr th:only-of-type {\n",
       "        vertical-align: middle;\n",
       "    }\n",
       "\n",
       "    .dataframe tbody tr th {\n",
       "        vertical-align: top;\n",
       "    }\n",
       "\n",
       "    .dataframe thead th {\n",
       "        text-align: right;\n",
       "    }\n",
       "</style>\n",
       "<table border=\"1\" class=\"dataframe\">\n",
       "  <thead>\n",
       "    <tr style=\"text-align: right;\">\n",
       "      <th>Specie</th>\n",
       "      <th>Date</th>\n",
       "      <th>Country</th>\n",
       "      <th>City</th>\n",
       "      <th>aqi</th>\n",
       "      <th>co</th>\n",
       "      <th>dew</th>\n",
       "      <th>humidity</th>\n",
       "      <th>mepaqi</th>\n",
       "      <th>no2</th>\n",
       "      <th>o3</th>\n",
       "      <th>...</th>\n",
       "      <th>pm25</th>\n",
       "      <th>pol</th>\n",
       "      <th>precipitation</th>\n",
       "      <th>pressure</th>\n",
       "      <th>so2</th>\n",
       "      <th>temperature</th>\n",
       "      <th>uvi</th>\n",
       "      <th>wd</th>\n",
       "      <th>wind-gust</th>\n",
       "      <th>wind-speed</th>\n",
       "    </tr>\n",
       "  </thead>\n",
       "  <tbody>\n",
       "    <tr>\n",
       "      <th>0</th>\n",
       "      <td>2019-04-01</td>\n",
       "      <td>AE</td>\n",
       "      <td>Abu Dhabi</td>\n",
       "      <td>NaN</td>\n",
       "      <td>NaN</td>\n",
       "      <td>6.0</td>\n",
       "      <td>17.0</td>\n",
       "      <td>NaN</td>\n",
       "      <td>NaN</td>\n",
       "      <td>NaN</td>\n",
       "      <td>...</td>\n",
       "      <td>154.0</td>\n",
       "      <td>NaN</td>\n",
       "      <td>NaN</td>\n",
       "      <td>1008.0</td>\n",
       "      <td>NaN</td>\n",
       "      <td>32.0</td>\n",
       "      <td>NaN</td>\n",
       "      <td>NaN</td>\n",
       "      <td>NaN</td>\n",
       "      <td>6.1</td>\n",
       "    </tr>\n",
       "    <tr>\n",
       "      <th>1</th>\n",
       "      <td>2019-04-01</td>\n",
       "      <td>AE</td>\n",
       "      <td>Dubai</td>\n",
       "      <td>NaN</td>\n",
       "      <td>NaN</td>\n",
       "      <td>8.0</td>\n",
       "      <td>23.0</td>\n",
       "      <td>NaN</td>\n",
       "      <td>NaN</td>\n",
       "      <td>7.4</td>\n",
       "      <td>...</td>\n",
       "      <td>112.0</td>\n",
       "      <td>NaN</td>\n",
       "      <td>NaN</td>\n",
       "      <td>1009.0</td>\n",
       "      <td>NaN</td>\n",
       "      <td>32.0</td>\n",
       "      <td>NaN</td>\n",
       "      <td>NaN</td>\n",
       "      <td>NaN</td>\n",
       "      <td>5.1</td>\n",
       "    </tr>\n",
       "    <tr>\n",
       "      <th>2</th>\n",
       "      <td>2019-04-01</td>\n",
       "      <td>AR</td>\n",
       "      <td>Buenos Aires</td>\n",
       "      <td>NaN</td>\n",
       "      <td>NaN</td>\n",
       "      <td>20.0</td>\n",
       "      <td>80.2</td>\n",
       "      <td>NaN</td>\n",
       "      <td>NaN</td>\n",
       "      <td>11.8</td>\n",
       "      <td>...</td>\n",
       "      <td>42.0</td>\n",
       "      <td>NaN</td>\n",
       "      <td>NaN</td>\n",
       "      <td>1011.6</td>\n",
       "      <td>1.1</td>\n",
       "      <td>21.6</td>\n",
       "      <td>NaN</td>\n",
       "      <td>0.0</td>\n",
       "      <td>4.5</td>\n",
       "      <td>2.0</td>\n",
       "    </tr>\n",
       "    <tr>\n",
       "      <th>3</th>\n",
       "      <td>2019-04-01</td>\n",
       "      <td>AT</td>\n",
       "      <td>Graz</td>\n",
       "      <td>NaN</td>\n",
       "      <td>0.1</td>\n",
       "      <td>NaN</td>\n",
       "      <td>51.0</td>\n",
       "      <td>NaN</td>\n",
       "      <td>12.8</td>\n",
       "      <td>NaN</td>\n",
       "      <td>...</td>\n",
       "      <td>NaN</td>\n",
       "      <td>NaN</td>\n",
       "      <td>NaN</td>\n",
       "      <td>1019.0</td>\n",
       "      <td>1.1</td>\n",
       "      <td>10.1</td>\n",
       "      <td>NaN</td>\n",
       "      <td>NaN</td>\n",
       "      <td>3.5</td>\n",
       "      <td>1.6</td>\n",
       "    </tr>\n",
       "    <tr>\n",
       "      <th>4</th>\n",
       "      <td>2019-04-01</td>\n",
       "      <td>AT</td>\n",
       "      <td>Innsbruck</td>\n",
       "      <td>NaN</td>\n",
       "      <td>0.1</td>\n",
       "      <td>2.5</td>\n",
       "      <td>64.2</td>\n",
       "      <td>NaN</td>\n",
       "      <td>13.3</td>\n",
       "      <td>NaN</td>\n",
       "      <td>...</td>\n",
       "      <td>NaN</td>\n",
       "      <td>NaN</td>\n",
       "      <td>NaN</td>\n",
       "      <td>1015.5</td>\n",
       "      <td>0.6</td>\n",
       "      <td>8.0</td>\n",
       "      <td>NaN</td>\n",
       "      <td>NaN</td>\n",
       "      <td>1.7</td>\n",
       "      <td>1.8</td>\n",
       "    </tr>\n",
       "  </tbody>\n",
       "</table>\n",
       "<p>5 rows × 22 columns</p>\n",
       "</div>"
      ],
      "text/plain": [
       "Specie       Date Country          City  aqi   co   dew  humidity  mepaqi  \\\n",
       "0      2019-04-01      AE     Abu Dhabi  NaN  NaN   6.0      17.0     NaN   \n",
       "1      2019-04-01      AE         Dubai  NaN  NaN   8.0      23.0     NaN   \n",
       "2      2019-04-01      AR  Buenos Aires  NaN  NaN  20.0      80.2     NaN   \n",
       "3      2019-04-01      AT          Graz  NaN  0.1   NaN      51.0     NaN   \n",
       "4      2019-04-01      AT     Innsbruck  NaN  0.1   2.5      64.2     NaN   \n",
       "\n",
       "Specie   no2    o3  ...   pm25  pol  precipitation  pressure  so2  \\\n",
       "0        NaN   NaN  ...  154.0  NaN            NaN    1008.0  NaN   \n",
       "1        NaN   7.4  ...  112.0  NaN            NaN    1009.0  NaN   \n",
       "2        NaN  11.8  ...   42.0  NaN            NaN    1011.6  1.1   \n",
       "3       12.8   NaN  ...    NaN  NaN            NaN    1019.0  1.1   \n",
       "4       13.3   NaN  ...    NaN  NaN            NaN    1015.5  0.6   \n",
       "\n",
       "Specie  temperature  uvi   wd  wind-gust  wind-speed  \n",
       "0              32.0  NaN  NaN        NaN         6.1  \n",
       "1              32.0  NaN  NaN        NaN         5.1  \n",
       "2              21.6  NaN  0.0        4.5         2.0  \n",
       "3              10.1  NaN  NaN        3.5         1.6  \n",
       "4               8.0  NaN  NaN        1.7         1.8  \n",
       "\n",
       "[5 rows x 22 columns]"
      ]
     },
     "execution_count": 108,
     "metadata": {},
     "output_type": "execute_result"
    }
   ],
   "source": [
    "print(data_df_2019_Q2.shape)\n",
    "data_df_2019_Q2.head()"
   ]
  },
  {
   "cell_type": "code",
   "execution_count": 109,
   "id": "4889f8f9",
   "metadata": {
    "execution": {
     "iopub.execute_input": "2025-01-27T13:49:48.389674Z",
     "iopub.status.busy": "2025-01-27T13:49:48.389260Z",
     "iopub.status.idle": "2025-01-27T13:49:48.406831Z",
     "shell.execute_reply": "2025-01-27T13:49:48.405630Z"
    },
    "executionInfo": {
     "elapsed": 8,
     "status": "ok",
     "timestamp": 1734445444552,
     "user": {
      "displayName": "Tahmida Majumder",
      "userId": "15415648085337204568"
     },
     "user_tz": -480
    },
    "id": "gNU4pm3aUvmY",
    "outputId": "a4696837-af6b-40ca-890d-12e16efa6a00",
    "papermill": {
     "duration": 0.072506,
     "end_time": "2025-01-27T13:49:48.408901",
     "exception": false,
     "start_time": "2025-01-27T13:49:48.336395",
     "status": "completed"
    },
    "tags": []
   },
   "outputs": [
    {
     "data": {
      "text/plain": [
       "Specie\n",
       "Date                 0\n",
       "Country              0\n",
       "City                 0\n",
       "aqi              50092\n",
       "co               18780\n",
       "dew              13355\n",
       "humidity           229\n",
       "mepaqi           51331\n",
       "no2               9320\n",
       "o3               10834\n",
       "pm1              51268\n",
       "pm10             10047\n",
       "pm25              8810\n",
       "pol              51067\n",
       "precipitation    47158\n",
       "pressure           501\n",
       "so2              15164\n",
       "temperature        207\n",
       "uvi              50526\n",
       "wd               47337\n",
       "wind-gust        16360\n",
       "wind-speed        1709\n",
       "dtype: int64"
      ]
     },
     "execution_count": 109,
     "metadata": {},
     "output_type": "execute_result"
    }
   ],
   "source": [
    "data_df_2019_Q2.isnull().sum()"
   ]
  },
  {
   "cell_type": "code",
   "execution_count": null,
   "id": "2bd81f4f",
   "metadata": {
    "id": "MbM8_D2PBLwG",
    "papermill": {
     "duration": 0.052508,
     "end_time": "2025-01-27T13:49:48.515139",
     "exception": false,
     "start_time": "2025-01-27T13:49:48.462631",
     "status": "completed"
    },
    "tags": []
   },
   "outputs": [],
   "source": []
  },
  {
   "cell_type": "markdown",
   "id": "5e7cc40c",
   "metadata": {
    "id": "Ie9ifpybU_N5",
    "papermill": {
     "duration": 0.051953,
     "end_time": "2025-01-27T13:49:48.620261",
     "exception": false,
     "start_time": "2025-01-27T13:49:48.568308",
     "status": "completed"
    },
    "tags": []
   },
   "source": [
    "# 2019_Q3"
   ]
  },
  {
   "cell_type": "code",
   "execution_count": 110,
   "id": "c7b7571e",
   "metadata": {
    "execution": {
     "iopub.execute_input": "2025-01-27T13:49:48.732468Z",
     "iopub.status.busy": "2025-01-27T13:49:48.732045Z",
     "iopub.status.idle": "2025-01-27T13:49:49.233690Z",
     "shell.execute_reply": "2025-01-27T13:49:49.232544Z"
    },
    "executionInfo": {
     "elapsed": 1157,
     "status": "ok",
     "timestamp": 1734445445702,
     "user": {
      "displayName": "Tahmida Majumder",
      "userId": "15415648085337204568"
     },
     "user_tz": -480
    },
    "id": "faydXS6IU_N6",
    "outputId": "cc070e3a-3f74-45b4-ab9c-f1da56c17635",
    "papermill": {
     "duration": 0.559134,
     "end_time": "2025-01-27T13:49:49.235205",
     "exception": false,
     "start_time": "2025-01-27T13:49:48.676071",
     "status": "completed"
    },
    "tags": []
   },
   "outputs": [
    {
     "name": "stdout",
     "output_type": "stream",
     "text": [
      "(582606, 5)\n"
     ]
    },
    {
     "data": {
      "text/html": [
       "<div>\n",
       "<style scoped>\n",
       "    .dataframe tbody tr th:only-of-type {\n",
       "        vertical-align: middle;\n",
       "    }\n",
       "\n",
       "    .dataframe tbody tr th {\n",
       "        vertical-align: top;\n",
       "    }\n",
       "\n",
       "    .dataframe thead th {\n",
       "        text-align: right;\n",
       "    }\n",
       "</style>\n",
       "<table border=\"1\" class=\"dataframe\">\n",
       "  <thead>\n",
       "    <tr style=\"text-align: right;\">\n",
       "      <th></th>\n",
       "      <th>Date</th>\n",
       "      <th>Country</th>\n",
       "      <th>City</th>\n",
       "      <th>Specie</th>\n",
       "      <th>median</th>\n",
       "    </tr>\n",
       "  </thead>\n",
       "  <tbody>\n",
       "    <tr>\n",
       "      <th>0</th>\n",
       "      <td>8/20/2019</td>\n",
       "      <td>SK</td>\n",
       "      <td>Košice</td>\n",
       "      <td>dew</td>\n",
       "      <td>17.0</td>\n",
       "    </tr>\n",
       "    <tr>\n",
       "      <th>1</th>\n",
       "      <td>8/22/2019</td>\n",
       "      <td>SK</td>\n",
       "      <td>Košice</td>\n",
       "      <td>dew</td>\n",
       "      <td>13.0</td>\n",
       "    </tr>\n",
       "    <tr>\n",
       "      <th>2</th>\n",
       "      <td>9/20/2019</td>\n",
       "      <td>SK</td>\n",
       "      <td>Košice</td>\n",
       "      <td>dew</td>\n",
       "      <td>2.5</td>\n",
       "    </tr>\n",
       "    <tr>\n",
       "      <th>3</th>\n",
       "      <td>9/27/2019</td>\n",
       "      <td>SK</td>\n",
       "      <td>Košice</td>\n",
       "      <td>dew</td>\n",
       "      <td>11.5</td>\n",
       "    </tr>\n",
       "    <tr>\n",
       "      <th>4</th>\n",
       "      <td>10/1/2019</td>\n",
       "      <td>SK</td>\n",
       "      <td>Košice</td>\n",
       "      <td>dew</td>\n",
       "      <td>7.0</td>\n",
       "    </tr>\n",
       "    <tr>\n",
       "      <th>5</th>\n",
       "      <td>7/8/2019</td>\n",
       "      <td>SK</td>\n",
       "      <td>Košice</td>\n",
       "      <td>dew</td>\n",
       "      <td>7.0</td>\n",
       "    </tr>\n",
       "    <tr>\n",
       "      <th>6</th>\n",
       "      <td>8/3/2019</td>\n",
       "      <td>SK</td>\n",
       "      <td>Košice</td>\n",
       "      <td>dew</td>\n",
       "      <td>13.0</td>\n",
       "    </tr>\n",
       "    <tr>\n",
       "      <th>7</th>\n",
       "      <td>7/21/2019</td>\n",
       "      <td>SK</td>\n",
       "      <td>Košice</td>\n",
       "      <td>dew</td>\n",
       "      <td>17.0</td>\n",
       "    </tr>\n",
       "    <tr>\n",
       "      <th>8</th>\n",
       "      <td>7/23/2019</td>\n",
       "      <td>SK</td>\n",
       "      <td>Košice</td>\n",
       "      <td>dew</td>\n",
       "      <td>14.5</td>\n",
       "    </tr>\n",
       "    <tr>\n",
       "      <th>9</th>\n",
       "      <td>8/11/2019</td>\n",
       "      <td>SK</td>\n",
       "      <td>Košice</td>\n",
       "      <td>dew</td>\n",
       "      <td>17.5</td>\n",
       "    </tr>\n",
       "  </tbody>\n",
       "</table>\n",
       "</div>"
      ],
      "text/plain": [
       "        Date Country    City Specie  median\n",
       "0  8/20/2019      SK  Košice    dew    17.0\n",
       "1  8/22/2019      SK  Košice    dew    13.0\n",
       "2  9/20/2019      SK  Košice    dew     2.5\n",
       "3  9/27/2019      SK  Košice    dew    11.5\n",
       "4  10/1/2019      SK  Košice    dew     7.0\n",
       "5   7/8/2019      SK  Košice    dew     7.0\n",
       "6   8/3/2019      SK  Košice    dew    13.0\n",
       "7  7/21/2019      SK  Košice    dew    17.0\n",
       "8  7/23/2019      SK  Košice    dew    14.5\n",
       "9  8/11/2019      SK  Košice    dew    17.5"
      ]
     },
     "execution_count": 110,
     "metadata": {},
     "output_type": "execute_result"
    }
   ],
   "source": [
    "# Loading the data\n",
    "raw_data_2019_Q3 = pd.read_csv(r\"/kaggle/input/complete-raw-median/waqi-covid19-airqualitydata-2019Q3.csv\")\n",
    "\n",
    "# print the shape\n",
    "print(raw_data_2019_Q3.shape)\n",
    "\n",
    "#runs the first 5 rows\n",
    "raw_data_2019_Q3.head(10)"
   ]
  },
  {
   "cell_type": "code",
   "execution_count": 111,
   "id": "31826e3b",
   "metadata": {
    "execution": {
     "iopub.execute_input": "2025-01-27T13:49:49.344301Z",
     "iopub.status.busy": "2025-01-27T13:49:49.343886Z",
     "iopub.status.idle": "2025-01-27T13:49:49.428706Z",
     "shell.execute_reply": "2025-01-27T13:49:49.427409Z"
    },
    "id": "QefLoWV3U_N6",
    "papermill": {
     "duration": 0.140577,
     "end_time": "2025-01-27T13:49:49.430754",
     "exception": false,
     "start_time": "2025-01-27T13:49:49.290177",
     "status": "completed"
    },
    "tags": []
   },
   "outputs": [],
   "source": [
    "# Convert 'Date' to datetime\n",
    "raw_data_2019_Q3['Date'] = pd.to_datetime(raw_data_2019_Q3['Date'])"
   ]
  },
  {
   "cell_type": "code",
   "execution_count": 112,
   "id": "a02be31c",
   "metadata": {
    "execution": {
     "iopub.execute_input": "2025-01-27T13:49:49.542758Z",
     "iopub.status.busy": "2025-01-27T13:49:49.542410Z",
     "iopub.status.idle": "2025-01-27T13:49:49.548691Z",
     "shell.execute_reply": "2025-01-27T13:49:49.547408Z"
    },
    "executionInfo": {
     "elapsed": 10,
     "status": "ok",
     "timestamp": 1734445445703,
     "user": {
      "displayName": "Tahmida Majumder",
      "userId": "15415648085337204568"
     },
     "user_tz": -480
    },
    "id": "M5C6J40TU_N7",
    "outputId": "2edcde12-f403-4e99-b43e-5863fefbe88f",
    "papermill": {
     "duration": 0.062489,
     "end_time": "2025-01-27T13:49:49.550623",
     "exception": false,
     "start_time": "2025-01-27T13:49:49.488134",
     "status": "completed"
    },
    "tags": []
   },
   "outputs": [
    {
     "data": {
      "text/plain": [
       "(582606, 5)"
      ]
     },
     "execution_count": 112,
     "metadata": {},
     "output_type": "execute_result"
    }
   ],
   "source": [
    "raw_data_2019_Q3.shape"
   ]
  },
  {
   "cell_type": "code",
   "execution_count": 113,
   "id": "7886fcd7",
   "metadata": {
    "execution": {
     "iopub.execute_input": "2025-01-27T13:49:49.721285Z",
     "iopub.status.busy": "2025-01-27T13:49:49.720897Z",
     "iopub.status.idle": "2025-01-27T13:49:50.142540Z",
     "shell.execute_reply": "2025-01-27T13:49:50.141417Z"
    },
    "id": "ex5MbtTWU_N7",
    "papermill": {
     "duration": 0.480126,
     "end_time": "2025-01-27T13:49:50.144574",
     "exception": false,
     "start_time": "2025-01-27T13:49:49.664448",
     "status": "completed"
    },
    "tags": []
   },
   "outputs": [],
   "source": [
    "# Pivot the data\n",
    "data_df_2019_Q3 = raw_data_2019_Q3.pivot_table(\n",
    "    index=['Date', 'Country', 'City'],  # Grouping columns\n",
    "    columns='Specie',                  # Unique values become columns\n",
    "    values='median',                   # Values to aggregate\n",
    "    aggfunc='mean'                     # Aggregation function\n",
    ").reset_index()"
   ]
  },
  {
   "cell_type": "code",
   "execution_count": 114,
   "id": "6365dcec",
   "metadata": {
    "execution": {
     "iopub.execute_input": "2025-01-27T13:49:50.254824Z",
     "iopub.status.busy": "2025-01-27T13:49:50.254470Z",
     "iopub.status.idle": "2025-01-27T13:49:50.281680Z",
     "shell.execute_reply": "2025-01-27T13:49:50.280570Z"
    },
    "executionInfo": {
     "elapsed": 10,
     "status": "ok",
     "timestamp": 1734445446314,
     "user": {
      "displayName": "Tahmida Majumder",
      "userId": "15415648085337204568"
     },
     "user_tz": -480
    },
    "id": "fOZF32TvU_N7",
    "outputId": "0e38b96e-d5b6-43eb-e5cc-9d842148aa1f",
    "papermill": {
     "duration": 0.084123,
     "end_time": "2025-01-27T13:49:50.284010",
     "exception": false,
     "start_time": "2025-01-27T13:49:50.199887",
     "status": "completed"
    },
    "tags": []
   },
   "outputs": [
    {
     "name": "stdout",
     "output_type": "stream",
     "text": [
      "(57230, 22)\n"
     ]
    },
    {
     "data": {
      "text/html": [
       "<div>\n",
       "<style scoped>\n",
       "    .dataframe tbody tr th:only-of-type {\n",
       "        vertical-align: middle;\n",
       "    }\n",
       "\n",
       "    .dataframe tbody tr th {\n",
       "        vertical-align: top;\n",
       "    }\n",
       "\n",
       "    .dataframe thead th {\n",
       "        text-align: right;\n",
       "    }\n",
       "</style>\n",
       "<table border=\"1\" class=\"dataframe\">\n",
       "  <thead>\n",
       "    <tr style=\"text-align: right;\">\n",
       "      <th>Specie</th>\n",
       "      <th>Date</th>\n",
       "      <th>Country</th>\n",
       "      <th>City</th>\n",
       "      <th>aqi</th>\n",
       "      <th>co</th>\n",
       "      <th>dew</th>\n",
       "      <th>humidity</th>\n",
       "      <th>mepaqi</th>\n",
       "      <th>no2</th>\n",
       "      <th>o3</th>\n",
       "      <th>...</th>\n",
       "      <th>pm25</th>\n",
       "      <th>pol</th>\n",
       "      <th>precipitation</th>\n",
       "      <th>pressure</th>\n",
       "      <th>so2</th>\n",
       "      <th>temperature</th>\n",
       "      <th>uvi</th>\n",
       "      <th>wd</th>\n",
       "      <th>wind-gust</th>\n",
       "      <th>wind-speed</th>\n",
       "    </tr>\n",
       "  </thead>\n",
       "  <tbody>\n",
       "    <tr>\n",
       "      <th>0</th>\n",
       "      <td>2019-07-01</td>\n",
       "      <td>AE</td>\n",
       "      <td>Abu Dhabi</td>\n",
       "      <td>NaN</td>\n",
       "      <td>NaN</td>\n",
       "      <td>19.0</td>\n",
       "      <td>34.0</td>\n",
       "      <td>NaN</td>\n",
       "      <td>NaN</td>\n",
       "      <td>11.4</td>\n",
       "      <td>...</td>\n",
       "      <td>144.0</td>\n",
       "      <td>NaN</td>\n",
       "      <td>NaN</td>\n",
       "      <td>996.0</td>\n",
       "      <td>NaN</td>\n",
       "      <td>37.0</td>\n",
       "      <td>NaN</td>\n",
       "      <td>NaN</td>\n",
       "      <td>NaN</td>\n",
       "      <td>2.5</td>\n",
       "    </tr>\n",
       "    <tr>\n",
       "      <th>1</th>\n",
       "      <td>2019-07-01</td>\n",
       "      <td>AE</td>\n",
       "      <td>Dubai</td>\n",
       "      <td>NaN</td>\n",
       "      <td>NaN</td>\n",
       "      <td>23.0</td>\n",
       "      <td>47.0</td>\n",
       "      <td>NaN</td>\n",
       "      <td>NaN</td>\n",
       "      <td>NaN</td>\n",
       "      <td>...</td>\n",
       "      <td>152.0</td>\n",
       "      <td>NaN</td>\n",
       "      <td>NaN</td>\n",
       "      <td>996.0</td>\n",
       "      <td>NaN</td>\n",
       "      <td>35.0</td>\n",
       "      <td>NaN</td>\n",
       "      <td>NaN</td>\n",
       "      <td>NaN</td>\n",
       "      <td>3.0</td>\n",
       "    </tr>\n",
       "    <tr>\n",
       "      <th>2</th>\n",
       "      <td>2019-07-01</td>\n",
       "      <td>AR</td>\n",
       "      <td>Buenos Aires</td>\n",
       "      <td>NaN</td>\n",
       "      <td>4.2</td>\n",
       "      <td>1.7</td>\n",
       "      <td>70.0</td>\n",
       "      <td>NaN</td>\n",
       "      <td>6.4</td>\n",
       "      <td>7.0</td>\n",
       "      <td>...</td>\n",
       "      <td>34.0</td>\n",
       "      <td>NaN</td>\n",
       "      <td>NaN</td>\n",
       "      <td>1019.0</td>\n",
       "      <td>NaN</td>\n",
       "      <td>7.8</td>\n",
       "      <td>NaN</td>\n",
       "      <td>292.5</td>\n",
       "      <td>5.5</td>\n",
       "      <td>2.0</td>\n",
       "    </tr>\n",
       "    <tr>\n",
       "      <th>3</th>\n",
       "      <td>2019-07-01</td>\n",
       "      <td>AT</td>\n",
       "      <td>Graz</td>\n",
       "      <td>NaN</td>\n",
       "      <td>0.1</td>\n",
       "      <td>17.0</td>\n",
       "      <td>48.5</td>\n",
       "      <td>NaN</td>\n",
       "      <td>7.8</td>\n",
       "      <td>NaN</td>\n",
       "      <td>...</td>\n",
       "      <td>NaN</td>\n",
       "      <td>NaN</td>\n",
       "      <td>NaN</td>\n",
       "      <td>1017.0</td>\n",
       "      <td>1.6</td>\n",
       "      <td>26.0</td>\n",
       "      <td>NaN</td>\n",
       "      <td>NaN</td>\n",
       "      <td>4.1</td>\n",
       "      <td>0.8</td>\n",
       "    </tr>\n",
       "    <tr>\n",
       "      <th>4</th>\n",
       "      <td>2019-07-01</td>\n",
       "      <td>AT</td>\n",
       "      <td>Innsbruck</td>\n",
       "      <td>NaN</td>\n",
       "      <td>0.1</td>\n",
       "      <td>16.5</td>\n",
       "      <td>76.2</td>\n",
       "      <td>NaN</td>\n",
       "      <td>12.8</td>\n",
       "      <td>NaN</td>\n",
       "      <td>...</td>\n",
       "      <td>NaN</td>\n",
       "      <td>NaN</td>\n",
       "      <td>NaN</td>\n",
       "      <td>1015.4</td>\n",
       "      <td>1.1</td>\n",
       "      <td>18.8</td>\n",
       "      <td>NaN</td>\n",
       "      <td>NaN</td>\n",
       "      <td>6.0</td>\n",
       "      <td>1.8</td>\n",
       "    </tr>\n",
       "  </tbody>\n",
       "</table>\n",
       "<p>5 rows × 22 columns</p>\n",
       "</div>"
      ],
      "text/plain": [
       "Specie       Date Country          City  aqi   co   dew  humidity  mepaqi  \\\n",
       "0      2019-07-01      AE     Abu Dhabi  NaN  NaN  19.0      34.0     NaN   \n",
       "1      2019-07-01      AE         Dubai  NaN  NaN  23.0      47.0     NaN   \n",
       "2      2019-07-01      AR  Buenos Aires  NaN  4.2   1.7      70.0     NaN   \n",
       "3      2019-07-01      AT          Graz  NaN  0.1  17.0      48.5     NaN   \n",
       "4      2019-07-01      AT     Innsbruck  NaN  0.1  16.5      76.2     NaN   \n",
       "\n",
       "Specie   no2    o3  ...   pm25  pol  precipitation  pressure  so2  \\\n",
       "0        NaN  11.4  ...  144.0  NaN            NaN     996.0  NaN   \n",
       "1        NaN   NaN  ...  152.0  NaN            NaN     996.0  NaN   \n",
       "2        6.4   7.0  ...   34.0  NaN            NaN    1019.0  NaN   \n",
       "3        7.8   NaN  ...    NaN  NaN            NaN    1017.0  1.6   \n",
       "4       12.8   NaN  ...    NaN  NaN            NaN    1015.4  1.1   \n",
       "\n",
       "Specie  temperature  uvi     wd  wind-gust  wind-speed  \n",
       "0              37.0  NaN    NaN        NaN         2.5  \n",
       "1              35.0  NaN    NaN        NaN         3.0  \n",
       "2               7.8  NaN  292.5        5.5         2.0  \n",
       "3              26.0  NaN    NaN        4.1         0.8  \n",
       "4              18.8  NaN    NaN        6.0         1.8  \n",
       "\n",
       "[5 rows x 22 columns]"
      ]
     },
     "execution_count": 114,
     "metadata": {},
     "output_type": "execute_result"
    }
   ],
   "source": [
    "print(data_df_2019_Q3.shape)\n",
    "data_df_2019_Q3.head()"
   ]
  },
  {
   "cell_type": "code",
   "execution_count": 115,
   "id": "f7ae50da",
   "metadata": {
    "execution": {
     "iopub.execute_input": "2025-01-27T13:49:50.397450Z",
     "iopub.status.busy": "2025-01-27T13:49:50.397021Z",
     "iopub.status.idle": "2025-01-27T13:49:50.415623Z",
     "shell.execute_reply": "2025-01-27T13:49:50.414211Z"
    },
    "executionInfo": {
     "elapsed": 8,
     "status": "ok",
     "timestamp": 1734445446314,
     "user": {
      "displayName": "Tahmida Majumder",
      "userId": "15415648085337204568"
     },
     "user_tz": -480
    },
    "id": "hhIyzbkFU_N8",
    "outputId": "37419db7-4d05-4cdd-dfaa-99b8a622f2e0",
    "papermill": {
     "duration": 0.077017,
     "end_time": "2025-01-27T13:49:50.417697",
     "exception": false,
     "start_time": "2025-01-27T13:49:50.340680",
     "status": "completed"
    },
    "tags": []
   },
   "outputs": [
    {
     "data": {
      "text/plain": [
       "Specie\n",
       "Date                 0\n",
       "Country              0\n",
       "City                 0\n",
       "aqi              55734\n",
       "co               21758\n",
       "dew              14427\n",
       "humidity            74\n",
       "mepaqi           57132\n",
       "no2              10192\n",
       "o3               12979\n",
       "pm1              57100\n",
       "pm10             10728\n",
       "pm25              9627\n",
       "pol              56146\n",
       "precipitation    52356\n",
       "pressure           530\n",
       "so2              17234\n",
       "temperature         67\n",
       "uvi              56261\n",
       "wd               52620\n",
       "wind-gust        18819\n",
       "wind-speed         980\n",
       "dtype: int64"
      ]
     },
     "execution_count": 115,
     "metadata": {},
     "output_type": "execute_result"
    }
   ],
   "source": [
    "data_df_2019_Q3.isnull().sum()"
   ]
  },
  {
   "cell_type": "code",
   "execution_count": null,
   "id": "66beaede",
   "metadata": {
    "id": "2XtakEpkBL0Y",
    "papermill": {
     "duration": 0.054273,
     "end_time": "2025-01-27T13:49:50.531648",
     "exception": false,
     "start_time": "2025-01-27T13:49:50.477375",
     "status": "completed"
    },
    "tags": []
   },
   "outputs": [],
   "source": []
  },
  {
   "cell_type": "markdown",
   "id": "21b3ec80",
   "metadata": {
    "id": "TZS06jG3VqRZ",
    "papermill": {
     "duration": 0.054146,
     "end_time": "2025-01-27T13:49:50.640872",
     "exception": false,
     "start_time": "2025-01-27T13:49:50.586726",
     "status": "completed"
    },
    "tags": []
   },
   "source": [
    "# 2019_Q4"
   ]
  },
  {
   "cell_type": "code",
   "execution_count": 116,
   "id": "be6312e9",
   "metadata": {
    "execution": {
     "iopub.execute_input": "2025-01-27T13:49:50.754442Z",
     "iopub.status.busy": "2025-01-27T13:49:50.753833Z",
     "iopub.status.idle": "2025-01-27T13:49:51.301547Z",
     "shell.execute_reply": "2025-01-27T13:49:51.300261Z"
    },
    "executionInfo": {
     "elapsed": 1031,
     "status": "ok",
     "timestamp": 1734445447338,
     "user": {
      "displayName": "Tahmida Majumder",
      "userId": "15415648085337204568"
     },
     "user_tz": -480
    },
    "id": "ffHovsxPVqRZ",
    "outputId": "b8e1afa9-a07b-4be0-e104-d29b00781c0f",
    "papermill": {
     "duration": 0.605009,
     "end_time": "2025-01-27T13:49:51.303394",
     "exception": false,
     "start_time": "2025-01-27T13:49:50.698385",
     "status": "completed"
    },
    "tags": []
   },
   "outputs": [
    {
     "name": "stdout",
     "output_type": "stream",
     "text": [
      "(578226, 5)\n"
     ]
    },
    {
     "data": {
      "text/html": [
       "<div>\n",
       "<style scoped>\n",
       "    .dataframe tbody tr th:only-of-type {\n",
       "        vertical-align: middle;\n",
       "    }\n",
       "\n",
       "    .dataframe tbody tr th {\n",
       "        vertical-align: top;\n",
       "    }\n",
       "\n",
       "    .dataframe thead th {\n",
       "        text-align: right;\n",
       "    }\n",
       "</style>\n",
       "<table border=\"1\" class=\"dataframe\">\n",
       "  <thead>\n",
       "    <tr style=\"text-align: right;\">\n",
       "      <th></th>\n",
       "      <th>Date</th>\n",
       "      <th>Country</th>\n",
       "      <th>City</th>\n",
       "      <th>Specie</th>\n",
       "      <th>median</th>\n",
       "    </tr>\n",
       "  </thead>\n",
       "  <tbody>\n",
       "    <tr>\n",
       "      <th>0</th>\n",
       "      <td>11/2/2019</td>\n",
       "      <td>HU</td>\n",
       "      <td>Debrecen</td>\n",
       "      <td>o3</td>\n",
       "      <td>7.0</td>\n",
       "    </tr>\n",
       "    <tr>\n",
       "      <th>1</th>\n",
       "      <td>11/11/2019</td>\n",
       "      <td>HU</td>\n",
       "      <td>Debrecen</td>\n",
       "      <td>o3</td>\n",
       "      <td>7.1</td>\n",
       "    </tr>\n",
       "    <tr>\n",
       "      <th>2</th>\n",
       "      <td>11/12/2019</td>\n",
       "      <td>HU</td>\n",
       "      <td>Debrecen</td>\n",
       "      <td>o3</td>\n",
       "      <td>12.0</td>\n",
       "    </tr>\n",
       "    <tr>\n",
       "      <th>3</th>\n",
       "      <td>12/22/2019</td>\n",
       "      <td>HU</td>\n",
       "      <td>Debrecen</td>\n",
       "      <td>o3</td>\n",
       "      <td>18.6</td>\n",
       "    </tr>\n",
       "    <tr>\n",
       "      <th>4</th>\n",
       "      <td>1/5/2020</td>\n",
       "      <td>HU</td>\n",
       "      <td>Debrecen</td>\n",
       "      <td>o3</td>\n",
       "      <td>16.7</td>\n",
       "    </tr>\n",
       "    <tr>\n",
       "      <th>5</th>\n",
       "      <td>10/4/2019</td>\n",
       "      <td>HU</td>\n",
       "      <td>Debrecen</td>\n",
       "      <td>o3</td>\n",
       "      <td>10.4</td>\n",
       "    </tr>\n",
       "    <tr>\n",
       "      <th>6</th>\n",
       "      <td>10/9/2019</td>\n",
       "      <td>HU</td>\n",
       "      <td>Debrecen</td>\n",
       "      <td>o3</td>\n",
       "      <td>21.0</td>\n",
       "    </tr>\n",
       "    <tr>\n",
       "      <th>7</th>\n",
       "      <td>11/20/2019</td>\n",
       "      <td>HU</td>\n",
       "      <td>Debrecen</td>\n",
       "      <td>o3</td>\n",
       "      <td>8.3</td>\n",
       "    </tr>\n",
       "    <tr>\n",
       "      <th>8</th>\n",
       "      <td>12/11/2019</td>\n",
       "      <td>HU</td>\n",
       "      <td>Debrecen</td>\n",
       "      <td>o3</td>\n",
       "      <td>11.5</td>\n",
       "    </tr>\n",
       "    <tr>\n",
       "      <th>9</th>\n",
       "      <td>12/15/2019</td>\n",
       "      <td>HU</td>\n",
       "      <td>Debrecen</td>\n",
       "      <td>o3</td>\n",
       "      <td>11.4</td>\n",
       "    </tr>\n",
       "  </tbody>\n",
       "</table>\n",
       "</div>"
      ],
      "text/plain": [
       "         Date Country      City Specie  median\n",
       "0   11/2/2019      HU  Debrecen     o3     7.0\n",
       "1  11/11/2019      HU  Debrecen     o3     7.1\n",
       "2  11/12/2019      HU  Debrecen     o3    12.0\n",
       "3  12/22/2019      HU  Debrecen     o3    18.6\n",
       "4    1/5/2020      HU  Debrecen     o3    16.7\n",
       "5   10/4/2019      HU  Debrecen     o3    10.4\n",
       "6   10/9/2019      HU  Debrecen     o3    21.0\n",
       "7  11/20/2019      HU  Debrecen     o3     8.3\n",
       "8  12/11/2019      HU  Debrecen     o3    11.5\n",
       "9  12/15/2019      HU  Debrecen     o3    11.4"
      ]
     },
     "execution_count": 116,
     "metadata": {},
     "output_type": "execute_result"
    }
   ],
   "source": [
    "# Loading the data\n",
    "raw_data_2019_Q4 = pd.read_csv(r\"/kaggle/input/complete-raw-median/waqi-covid19-airqualitydata-2019Q4.csv\")\n",
    "\n",
    "# print the shape\n",
    "print(raw_data_2019_Q4.shape)\n",
    "\n",
    "#runs the first 5 rows\n",
    "raw_data_2019_Q4.head(10)"
   ]
  },
  {
   "cell_type": "code",
   "execution_count": 117,
   "id": "0968d481",
   "metadata": {
    "execution": {
     "iopub.execute_input": "2025-01-27T13:49:51.415916Z",
     "iopub.status.busy": "2025-01-27T13:49:51.415558Z",
     "iopub.status.idle": "2025-01-27T13:49:51.501493Z",
     "shell.execute_reply": "2025-01-27T13:49:51.500403Z"
    },
    "id": "kqSYvto8VqRZ",
    "papermill": {
     "duration": 0.144004,
     "end_time": "2025-01-27T13:49:51.503464",
     "exception": false,
     "start_time": "2025-01-27T13:49:51.359460",
     "status": "completed"
    },
    "tags": []
   },
   "outputs": [],
   "source": [
    "# Convert 'Date' to datetime\n",
    "raw_data_2019_Q4['Date'] = pd.to_datetime(raw_data_2019_Q4['Date'])"
   ]
  },
  {
   "cell_type": "code",
   "execution_count": 118,
   "id": "de3bb093",
   "metadata": {
    "execution": {
     "iopub.execute_input": "2025-01-27T13:49:51.613135Z",
     "iopub.status.busy": "2025-01-27T13:49:51.612779Z",
     "iopub.status.idle": "2025-01-27T13:49:51.618676Z",
     "shell.execute_reply": "2025-01-27T13:49:51.617717Z"
    },
    "executionInfo": {
     "elapsed": 9,
     "status": "ok",
     "timestamp": 1734445447338,
     "user": {
      "displayName": "Tahmida Majumder",
      "userId": "15415648085337204568"
     },
     "user_tz": -480
    },
    "id": "b8hAqhbUVqRZ",
    "outputId": "384d481e-bb79-4ee6-f30b-1e2244f25960",
    "papermill": {
     "duration": 0.062996,
     "end_time": "2025-01-27T13:49:51.620466",
     "exception": false,
     "start_time": "2025-01-27T13:49:51.557470",
     "status": "completed"
    },
    "tags": []
   },
   "outputs": [
    {
     "data": {
      "text/plain": [
       "(578226, 5)"
      ]
     },
     "execution_count": 118,
     "metadata": {},
     "output_type": "execute_result"
    }
   ],
   "source": [
    "raw_data_2019_Q4.shape"
   ]
  },
  {
   "cell_type": "code",
   "execution_count": 119,
   "id": "e9cc1b36",
   "metadata": {
    "execution": {
     "iopub.execute_input": "2025-01-27T13:49:51.742366Z",
     "iopub.status.busy": "2025-01-27T13:49:51.741994Z",
     "iopub.status.idle": "2025-01-27T13:49:52.183825Z",
     "shell.execute_reply": "2025-01-27T13:49:52.182424Z"
    },
    "id": "hzPxkgpeVqRa",
    "papermill": {
     "duration": 0.505814,
     "end_time": "2025-01-27T13:49:52.185854",
     "exception": false,
     "start_time": "2025-01-27T13:49:51.680040",
     "status": "completed"
    },
    "tags": []
   },
   "outputs": [],
   "source": [
    "# Pivot the data\n",
    "data_df_2019_Q4 = raw_data_2019_Q4.pivot_table(\n",
    "    index=['Date', 'Country', 'City'],  # Grouping columns\n",
    "    columns='Specie',                  # Unique values become columns\n",
    "    values='median',                   # Values to aggregate\n",
    "    aggfunc='mean'                     # Aggregation function\n",
    ").reset_index()"
   ]
  },
  {
   "cell_type": "code",
   "execution_count": 120,
   "id": "a48c4300",
   "metadata": {
    "execution": {
     "iopub.execute_input": "2025-01-27T13:49:52.299988Z",
     "iopub.status.busy": "2025-01-27T13:49:52.299632Z",
     "iopub.status.idle": "2025-01-27T13:49:52.327152Z",
     "shell.execute_reply": "2025-01-27T13:49:52.325691Z"
    },
    "executionInfo": {
     "elapsed": 12,
     "status": "ok",
     "timestamp": 1734445447744,
     "user": {
      "displayName": "Tahmida Majumder",
      "userId": "15415648085337204568"
     },
     "user_tz": -480
    },
    "id": "xn9BPhn1VqRa",
    "outputId": "c9730021-96bd-44a5-9fe8-866bdb9f88fd",
    "papermill": {
     "duration": 0.087959,
     "end_time": "2025-01-27T13:49:52.329160",
     "exception": false,
     "start_time": "2025-01-27T13:49:52.241201",
     "status": "completed"
    },
    "tags": []
   },
   "outputs": [
    {
     "name": "stdout",
     "output_type": "stream",
     "text": [
      "(57861, 25)\n"
     ]
    },
    {
     "data": {
      "text/html": [
       "<div>\n",
       "<style scoped>\n",
       "    .dataframe tbody tr th:only-of-type {\n",
       "        vertical-align: middle;\n",
       "    }\n",
       "\n",
       "    .dataframe tbody tr th {\n",
       "        vertical-align: top;\n",
       "    }\n",
       "\n",
       "    .dataframe thead th {\n",
       "        text-align: right;\n",
       "    }\n",
       "</style>\n",
       "<table border=\"1\" class=\"dataframe\">\n",
       "  <thead>\n",
       "    <tr style=\"text-align: right;\">\n",
       "      <th>Specie</th>\n",
       "      <th>Date</th>\n",
       "      <th>Country</th>\n",
       "      <th>City</th>\n",
       "      <th>aqi</th>\n",
       "      <th>co</th>\n",
       "      <th>dew</th>\n",
       "      <th>humidity</th>\n",
       "      <th>mepaqi</th>\n",
       "      <th>no2</th>\n",
       "      <th>o3</th>\n",
       "      <th>...</th>\n",
       "      <th>pm25</th>\n",
       "      <th>pol</th>\n",
       "      <th>precipitation</th>\n",
       "      <th>pressure</th>\n",
       "      <th>so2</th>\n",
       "      <th>temperature</th>\n",
       "      <th>uvi</th>\n",
       "      <th>wd</th>\n",
       "      <th>wind-gust</th>\n",
       "      <th>wind-speed</th>\n",
       "    </tr>\n",
       "  </thead>\n",
       "  <tbody>\n",
       "    <tr>\n",
       "      <th>0</th>\n",
       "      <td>2018-12-31</td>\n",
       "      <td>AE</td>\n",
       "      <td>Abu Dhabi</td>\n",
       "      <td>NaN</td>\n",
       "      <td>NaN</td>\n",
       "      <td>16.0</td>\n",
       "      <td>68.0</td>\n",
       "      <td>NaN</td>\n",
       "      <td>27.9</td>\n",
       "      <td>27.3</td>\n",
       "      <td>...</td>\n",
       "      <td>112.0</td>\n",
       "      <td>NaN</td>\n",
       "      <td>NaN</td>\n",
       "      <td>1019.0</td>\n",
       "      <td>4.6</td>\n",
       "      <td>22.0</td>\n",
       "      <td>NaN</td>\n",
       "      <td>NaN</td>\n",
       "      <td>NaN</td>\n",
       "      <td>2.0</td>\n",
       "    </tr>\n",
       "    <tr>\n",
       "      <th>1</th>\n",
       "      <td>2018-12-31</td>\n",
       "      <td>AR</td>\n",
       "      <td>Buenos Aires</td>\n",
       "      <td>NaN</td>\n",
       "      <td>NaN</td>\n",
       "      <td>14.0</td>\n",
       "      <td>0.0</td>\n",
       "      <td>NaN</td>\n",
       "      <td>NaN</td>\n",
       "      <td>NaN</td>\n",
       "      <td>...</td>\n",
       "      <td>NaN</td>\n",
       "      <td>NaN</td>\n",
       "      <td>NaN</td>\n",
       "      <td>0.0</td>\n",
       "      <td>NaN</td>\n",
       "      <td>0.0</td>\n",
       "      <td>NaN</td>\n",
       "      <td>0.0</td>\n",
       "      <td>11.3</td>\n",
       "      <td>5.0</td>\n",
       "    </tr>\n",
       "    <tr>\n",
       "      <th>2</th>\n",
       "      <td>2018-12-31</td>\n",
       "      <td>AT</td>\n",
       "      <td>Graz</td>\n",
       "      <td>NaN</td>\n",
       "      <td>0.1</td>\n",
       "      <td>NaN</td>\n",
       "      <td>70.2</td>\n",
       "      <td>NaN</td>\n",
       "      <td>14.2</td>\n",
       "      <td>NaN</td>\n",
       "      <td>...</td>\n",
       "      <td>NaN</td>\n",
       "      <td>NaN</td>\n",
       "      <td>NaN</td>\n",
       "      <td>1027.1</td>\n",
       "      <td>1.1</td>\n",
       "      <td>3.7</td>\n",
       "      <td>NaN</td>\n",
       "      <td>NaN</td>\n",
       "      <td>4.3</td>\n",
       "      <td>1.5</td>\n",
       "    </tr>\n",
       "    <tr>\n",
       "      <th>3</th>\n",
       "      <td>2018-12-31</td>\n",
       "      <td>AT</td>\n",
       "      <td>Innsbruck</td>\n",
       "      <td>NaN</td>\n",
       "      <td>0.1</td>\n",
       "      <td>0.5</td>\n",
       "      <td>93.0</td>\n",
       "      <td>NaN</td>\n",
       "      <td>30.7</td>\n",
       "      <td>NaN</td>\n",
       "      <td>...</td>\n",
       "      <td>NaN</td>\n",
       "      <td>NaN</td>\n",
       "      <td>NaN</td>\n",
       "      <td>1032.0</td>\n",
       "      <td>1.3</td>\n",
       "      <td>0.0</td>\n",
       "      <td>NaN</td>\n",
       "      <td>NaN</td>\n",
       "      <td>2.2</td>\n",
       "      <td>0.7</td>\n",
       "    </tr>\n",
       "    <tr>\n",
       "      <th>4</th>\n",
       "      <td>2018-12-31</td>\n",
       "      <td>AT</td>\n",
       "      <td>Linz</td>\n",
       "      <td>NaN</td>\n",
       "      <td>0.1</td>\n",
       "      <td>2.5</td>\n",
       "      <td>92.0</td>\n",
       "      <td>NaN</td>\n",
       "      <td>9.6</td>\n",
       "      <td>NaN</td>\n",
       "      <td>...</td>\n",
       "      <td>53.0</td>\n",
       "      <td>NaN</td>\n",
       "      <td>NaN</td>\n",
       "      <td>1031.0</td>\n",
       "      <td>7.1</td>\n",
       "      <td>3.3</td>\n",
       "      <td>NaN</td>\n",
       "      <td>NaN</td>\n",
       "      <td>2.5</td>\n",
       "      <td>1.2</td>\n",
       "    </tr>\n",
       "  </tbody>\n",
       "</table>\n",
       "<p>5 rows × 22 columns</p>\n",
       "</div>"
      ],
      "text/plain": [
       "Specie       Date Country          City  aqi   co   dew  humidity  mepaqi  \\\n",
       "0      2018-12-31      AE     Abu Dhabi  NaN  NaN  16.0      68.0     NaN   \n",
       "1      2018-12-31      AR  Buenos Aires  NaN  NaN  14.0       0.0     NaN   \n",
       "2      2018-12-31      AT          Graz  NaN  0.1   NaN      70.2     NaN   \n",
       "3      2018-12-31      AT     Innsbruck  NaN  0.1   0.5      93.0     NaN   \n",
       "4      2018-12-31      AT          Linz  NaN  0.1   2.5      92.0     NaN   \n",
       "\n",
       "Specie   no2    o3  ...   pm25  pol  precipitation  pressure  so2  \\\n",
       "0       27.9  27.3  ...  112.0  NaN            NaN    1019.0  4.6   \n",
       "1        NaN   NaN  ...    NaN  NaN            NaN       0.0  NaN   \n",
       "2       14.2   NaN  ...    NaN  NaN            NaN    1027.1  1.1   \n",
       "3       30.7   NaN  ...    NaN  NaN            NaN    1032.0  1.3   \n",
       "4        9.6   NaN  ...   53.0  NaN            NaN    1031.0  7.1   \n",
       "\n",
       "Specie  temperature  uvi   wd  wind-gust  wind-speed  \n",
       "0              22.0  NaN  NaN        NaN         2.0  \n",
       "1               0.0  NaN  0.0       11.3         5.0  \n",
       "2               3.7  NaN  NaN        4.3         1.5  \n",
       "3               0.0  NaN  NaN        2.2         0.7  \n",
       "4               3.3  NaN  NaN        2.5         1.2  \n",
       "\n",
       "[5 rows x 22 columns]"
      ]
     },
     "execution_count": 120,
     "metadata": {},
     "output_type": "execute_result"
    }
   ],
   "source": [
    "print(data_df_2019_Q4.shape)\n",
    "data_df_2019_Q1.head()"
   ]
  },
  {
   "cell_type": "code",
   "execution_count": 121,
   "id": "3f217754",
   "metadata": {
    "execution": {
     "iopub.execute_input": "2025-01-27T13:49:52.443418Z",
     "iopub.status.busy": "2025-01-27T13:49:52.443013Z",
     "iopub.status.idle": "2025-01-27T13:49:52.463452Z",
     "shell.execute_reply": "2025-01-27T13:49:52.461893Z"
    },
    "executionInfo": {
     "elapsed": 8,
     "status": "ok",
     "timestamp": 1734445447744,
     "user": {
      "displayName": "Tahmida Majumder",
      "userId": "15415648085337204568"
     },
     "user_tz": -480
    },
    "id": "xbfysSPtVqRa",
    "outputId": "88dbf73b-036e-4118-940b-084a557c7a45",
    "papermill": {
     "duration": 0.078554,
     "end_time": "2025-01-27T13:49:52.465375",
     "exception": false,
     "start_time": "2025-01-27T13:49:52.386821",
     "status": "completed"
    },
    "tags": []
   },
   "outputs": [
    {
     "data": {
      "text/plain": [
       "Specie\n",
       "Date                 0\n",
       "Country              0\n",
       "City                 0\n",
       "aqi              56388\n",
       "co               21943\n",
       "dew              16361\n",
       "humidity          2755\n",
       "mepaqi           57763\n",
       "neph             57795\n",
       "no2              10772\n",
       "o3               13984\n",
       "pm1              57569\n",
       "pm10             10930\n",
       "pm25              9774\n",
       "pol              56418\n",
       "precipitation    54213\n",
       "pressure          3069\n",
       "so2              17888\n",
       "temperature       2730\n",
       "uvi              56952\n",
       "wd               53664\n",
       "wind gust        54986\n",
       "wind speed       53344\n",
       "wind-gust        21844\n",
       "wind-speed        3574\n",
       "dtype: int64"
      ]
     },
     "execution_count": 121,
     "metadata": {},
     "output_type": "execute_result"
    }
   ],
   "source": [
    "data_df_2019_Q4.isnull().sum()"
   ]
  },
  {
   "cell_type": "code",
   "execution_count": null,
   "id": "60c59c4d",
   "metadata": {
    "id": "6pYMJ_iMV4C5",
    "papermill": {
     "duration": 0.055561,
     "end_time": "2025-01-27T13:49:52.578606",
     "exception": false,
     "start_time": "2025-01-27T13:49:52.523045",
     "status": "completed"
    },
    "tags": []
   },
   "outputs": [],
   "source": []
  },
  {
   "cell_type": "markdown",
   "id": "4f5513e0",
   "metadata": {
    "id": "mKFAh6nXV5u6",
    "papermill": {
     "duration": 0.059759,
     "end_time": "2025-01-27T13:49:52.695635",
     "exception": false,
     "start_time": "2025-01-27T13:49:52.635876",
     "status": "completed"
    },
    "tags": []
   },
   "source": [
    "# 2018_H1"
   ]
  },
  {
   "cell_type": "code",
   "execution_count": 122,
   "id": "11e6583c",
   "metadata": {
    "execution": {
     "iopub.execute_input": "2025-01-27T13:49:52.812835Z",
     "iopub.status.busy": "2025-01-27T13:49:52.812464Z",
     "iopub.status.idle": "2025-01-27T13:49:53.310644Z",
     "shell.execute_reply": "2025-01-27T13:49:53.309418Z"
    },
    "executionInfo": {
     "elapsed": 594,
     "status": "ok",
     "timestamp": 1734445448331,
     "user": {
      "displayName": "Tahmida Majumder",
      "userId": "15415648085337204568"
     },
     "user_tz": -480
    },
    "id": "QZSML_ewV5u6",
    "outputId": "5febc503-d96a-4ac5-811c-0a4acba0f690",
    "papermill": {
     "duration": 0.559085,
     "end_time": "2025-01-27T13:49:53.312531",
     "exception": false,
     "start_time": "2025-01-27T13:49:52.753446",
     "status": "completed"
    },
    "tags": []
   },
   "outputs": [
    {
     "name": "stdout",
     "output_type": "stream",
     "text": [
      "(552440, 5)\n"
     ]
    },
    {
     "data": {
      "text/html": [
       "<div>\n",
       "<style scoped>\n",
       "    .dataframe tbody tr th:only-of-type {\n",
       "        vertical-align: middle;\n",
       "    }\n",
       "\n",
       "    .dataframe tbody tr th {\n",
       "        vertical-align: top;\n",
       "    }\n",
       "\n",
       "    .dataframe thead th {\n",
       "        text-align: right;\n",
       "    }\n",
       "</style>\n",
       "<table border=\"1\" class=\"dataframe\">\n",
       "  <thead>\n",
       "    <tr style=\"text-align: right;\">\n",
       "      <th></th>\n",
       "      <th>Date</th>\n",
       "      <th>Country</th>\n",
       "      <th>City</th>\n",
       "      <th>Specie</th>\n",
       "      <th>median</th>\n",
       "    </tr>\n",
       "  </thead>\n",
       "  <tbody>\n",
       "    <tr>\n",
       "      <th>0</th>\n",
       "      <td>4/19/2018</td>\n",
       "      <td>HR</td>\n",
       "      <td>Zagreb</td>\n",
       "      <td>pm10</td>\n",
       "      <td>19.0</td>\n",
       "    </tr>\n",
       "    <tr>\n",
       "      <th>1</th>\n",
       "      <td>5/3/2018</td>\n",
       "      <td>HR</td>\n",
       "      <td>Zagreb</td>\n",
       "      <td>pm10</td>\n",
       "      <td>20.0</td>\n",
       "    </tr>\n",
       "    <tr>\n",
       "      <th>2</th>\n",
       "      <td>5/8/2018</td>\n",
       "      <td>HR</td>\n",
       "      <td>Zagreb</td>\n",
       "      <td>pm10</td>\n",
       "      <td>17.0</td>\n",
       "    </tr>\n",
       "    <tr>\n",
       "      <th>3</th>\n",
       "      <td>5/31/2018</td>\n",
       "      <td>HR</td>\n",
       "      <td>Zagreb</td>\n",
       "      <td>pm10</td>\n",
       "      <td>25.0</td>\n",
       "    </tr>\n",
       "    <tr>\n",
       "      <th>4</th>\n",
       "      <td>6/22/2018</td>\n",
       "      <td>HR</td>\n",
       "      <td>Zagreb</td>\n",
       "      <td>pm10</td>\n",
       "      <td>7.0</td>\n",
       "    </tr>\n",
       "    <tr>\n",
       "      <th>5</th>\n",
       "      <td>3/2/2018</td>\n",
       "      <td>HR</td>\n",
       "      <td>Zagreb</td>\n",
       "      <td>pm10</td>\n",
       "      <td>55.0</td>\n",
       "    </tr>\n",
       "    <tr>\n",
       "      <th>6</th>\n",
       "      <td>2/20/2018</td>\n",
       "      <td>HR</td>\n",
       "      <td>Zagreb</td>\n",
       "      <td>pm10</td>\n",
       "      <td>10.0</td>\n",
       "    </tr>\n",
       "    <tr>\n",
       "      <th>7</th>\n",
       "      <td>2/23/2018</td>\n",
       "      <td>HR</td>\n",
       "      <td>Zagreb</td>\n",
       "      <td>pm10</td>\n",
       "      <td>13.0</td>\n",
       "    </tr>\n",
       "    <tr>\n",
       "      <th>8</th>\n",
       "      <td>3/12/2018</td>\n",
       "      <td>HR</td>\n",
       "      <td>Zagreb</td>\n",
       "      <td>pm10</td>\n",
       "      <td>9.0</td>\n",
       "    </tr>\n",
       "    <tr>\n",
       "      <th>9</th>\n",
       "      <td>3/25/2018</td>\n",
       "      <td>HR</td>\n",
       "      <td>Zagreb</td>\n",
       "      <td>pm10</td>\n",
       "      <td>27.0</td>\n",
       "    </tr>\n",
       "  </tbody>\n",
       "</table>\n",
       "</div>"
      ],
      "text/plain": [
       "        Date Country    City Specie  median\n",
       "0  4/19/2018      HR  Zagreb   pm10    19.0\n",
       "1   5/3/2018      HR  Zagreb   pm10    20.0\n",
       "2   5/8/2018      HR  Zagreb   pm10    17.0\n",
       "3  5/31/2018      HR  Zagreb   pm10    25.0\n",
       "4  6/22/2018      HR  Zagreb   pm10     7.0\n",
       "5   3/2/2018      HR  Zagreb   pm10    55.0\n",
       "6  2/20/2018      HR  Zagreb   pm10    10.0\n",
       "7  2/23/2018      HR  Zagreb   pm10    13.0\n",
       "8  3/12/2018      HR  Zagreb   pm10     9.0\n",
       "9  3/25/2018      HR  Zagreb   pm10    27.0"
      ]
     },
     "execution_count": 122,
     "metadata": {},
     "output_type": "execute_result"
    }
   ],
   "source": [
    "# Loading the data\n",
    "raw_data_2018_H1 = pd.read_csv(r\"/kaggle/input/complete-raw-median/waqi-covid19-airqualitydata-2018H1.csv\")\n",
    "\n",
    "# print the shape\n",
    "print(raw_data_2018_H1.shape)\n",
    "\n",
    "#runs the first 5 rows\n",
    "raw_data_2018_H1.head(10)"
   ]
  },
  {
   "cell_type": "code",
   "execution_count": 123,
   "id": "afe9a7be",
   "metadata": {
    "execution": {
     "iopub.execute_input": "2025-01-27T13:49:53.428086Z",
     "iopub.status.busy": "2025-01-27T13:49:53.427738Z",
     "iopub.status.idle": "2025-01-27T13:49:53.519348Z",
     "shell.execute_reply": "2025-01-27T13:49:53.518420Z"
    },
    "id": "JPelQxICV5u7",
    "papermill": {
     "duration": 0.151309,
     "end_time": "2025-01-27T13:49:53.521318",
     "exception": false,
     "start_time": "2025-01-27T13:49:53.370009",
     "status": "completed"
    },
    "tags": []
   },
   "outputs": [],
   "source": [
    "# Convert 'Date' to datetime\n",
    "raw_data_2018_H1['Date'] = pd.to_datetime(raw_data_2018_H1['Date'])"
   ]
  },
  {
   "cell_type": "code",
   "execution_count": 124,
   "id": "818891c9",
   "metadata": {
    "execution": {
     "iopub.execute_input": "2025-01-27T13:49:53.635645Z",
     "iopub.status.busy": "2025-01-27T13:49:53.635194Z",
     "iopub.status.idle": "2025-01-27T13:49:53.641373Z",
     "shell.execute_reply": "2025-01-27T13:49:53.640399Z"
    },
    "executionInfo": {
     "elapsed": 5,
     "status": "ok",
     "timestamp": 1734445448690,
     "user": {
      "displayName": "Tahmida Majumder",
      "userId": "15415648085337204568"
     },
     "user_tz": -480
    },
    "id": "ZHkuZ82UV5u7",
    "outputId": "e5e8997a-e0d3-48cb-abcb-e898a59d20ca",
    "papermill": {
     "duration": 0.066068,
     "end_time": "2025-01-27T13:49:53.643215",
     "exception": false,
     "start_time": "2025-01-27T13:49:53.577147",
     "status": "completed"
    },
    "tags": []
   },
   "outputs": [
    {
     "data": {
      "text/plain": [
       "(552440, 5)"
      ]
     },
     "execution_count": 124,
     "metadata": {},
     "output_type": "execute_result"
    }
   ],
   "source": [
    "raw_data_2018_H1.shape"
   ]
  },
  {
   "cell_type": "code",
   "execution_count": 125,
   "id": "3f884a25",
   "metadata": {
    "execution": {
     "iopub.execute_input": "2025-01-27T13:49:53.757593Z",
     "iopub.status.busy": "2025-01-27T13:49:53.757166Z",
     "iopub.status.idle": "2025-01-27T13:49:54.201616Z",
     "shell.execute_reply": "2025-01-27T13:49:54.200530Z"
    },
    "id": "V3SCxI-cV5u7",
    "papermill": {
     "duration": 0.503353,
     "end_time": "2025-01-27T13:49:54.203760",
     "exception": false,
     "start_time": "2025-01-27T13:49:53.700407",
     "status": "completed"
    },
    "tags": []
   },
   "outputs": [],
   "source": [
    "# Pivot the data\n",
    "data_df_2018_H1 = raw_data_2018_H1.pivot_table(\n",
    "    index=['Date', 'Country', 'City'],  # Grouping columns\n",
    "    columns='Specie',                  # Unique values become columns\n",
    "    values='median',                   # Values to aggregate\n",
    "    aggfunc='mean'                     # Aggregation function\n",
    ").reset_index()"
   ]
  },
  {
   "cell_type": "code",
   "execution_count": 126,
   "id": "46a25685",
   "metadata": {
    "execution": {
     "iopub.execute_input": "2025-01-27T13:49:54.321240Z",
     "iopub.status.busy": "2025-01-27T13:49:54.320821Z",
     "iopub.status.idle": "2025-01-27T13:49:54.345178Z",
     "shell.execute_reply": "2025-01-27T13:49:54.343877Z"
    },
    "executionInfo": {
     "elapsed": 13,
     "status": "ok",
     "timestamp": 1734445449140,
     "user": {
      "displayName": "Tahmida Majumder",
      "userId": "15415648085337204568"
     },
     "user_tz": -480
    },
    "id": "saMJRBpZV5u7",
    "outputId": "789956c9-ac5b-46f4-ddc0-d49b61d8df58",
    "papermill": {
     "duration": 0.084142,
     "end_time": "2025-01-27T13:49:54.347428",
     "exception": false,
     "start_time": "2025-01-27T13:49:54.263286",
     "status": "completed"
    },
    "tags": []
   },
   "outputs": [
    {
     "name": "stdout",
     "output_type": "stream",
     "text": [
      "(92410, 22)\n"
     ]
    },
    {
     "data": {
      "text/html": [
       "<div>\n",
       "<style scoped>\n",
       "    .dataframe tbody tr th:only-of-type {\n",
       "        vertical-align: middle;\n",
       "    }\n",
       "\n",
       "    .dataframe tbody tr th {\n",
       "        vertical-align: top;\n",
       "    }\n",
       "\n",
       "    .dataframe thead th {\n",
       "        text-align: right;\n",
       "    }\n",
       "</style>\n",
       "<table border=\"1\" class=\"dataframe\">\n",
       "  <thead>\n",
       "    <tr style=\"text-align: right;\">\n",
       "      <th>Specie</th>\n",
       "      <th>Date</th>\n",
       "      <th>Country</th>\n",
       "      <th>City</th>\n",
       "      <th>aqi</th>\n",
       "      <th>co</th>\n",
       "      <th>d</th>\n",
       "      <th>humidity</th>\n",
       "      <th>mepaqi</th>\n",
       "      <th>no2</th>\n",
       "      <th>o3</th>\n",
       "      <th>...</th>\n",
       "      <th>pm25</th>\n",
       "      <th>pol</th>\n",
       "      <th>precipitation</th>\n",
       "      <th>pressure</th>\n",
       "      <th>so2</th>\n",
       "      <th>temperature</th>\n",
       "      <th>uvi</th>\n",
       "      <th>wd</th>\n",
       "      <th>wind-gust</th>\n",
       "      <th>wind-speed</th>\n",
       "    </tr>\n",
       "  </thead>\n",
       "  <tbody>\n",
       "    <tr>\n",
       "      <th>0</th>\n",
       "      <td>2018-01-01</td>\n",
       "      <td>AE</td>\n",
       "      <td>Abu Dhabi</td>\n",
       "      <td>NaN</td>\n",
       "      <td>NaN</td>\n",
       "      <td>NaN</td>\n",
       "      <td>NaN</td>\n",
       "      <td>NaN</td>\n",
       "      <td>NaN</td>\n",
       "      <td>NaN</td>\n",
       "      <td>...</td>\n",
       "      <td>85.0</td>\n",
       "      <td>NaN</td>\n",
       "      <td>NaN</td>\n",
       "      <td>NaN</td>\n",
       "      <td>NaN</td>\n",
       "      <td>NaN</td>\n",
       "      <td>NaN</td>\n",
       "      <td>NaN</td>\n",
       "      <td>NaN</td>\n",
       "      <td>NaN</td>\n",
       "    </tr>\n",
       "    <tr>\n",
       "      <th>1</th>\n",
       "      <td>2018-01-01</td>\n",
       "      <td>AR</td>\n",
       "      <td>Buenos Aires</td>\n",
       "      <td>NaN</td>\n",
       "      <td>2.9</td>\n",
       "      <td>NaN</td>\n",
       "      <td>NaN</td>\n",
       "      <td>NaN</td>\n",
       "      <td>6.0</td>\n",
       "      <td>11.0</td>\n",
       "      <td>...</td>\n",
       "      <td>50.0</td>\n",
       "      <td>NaN</td>\n",
       "      <td>NaN</td>\n",
       "      <td>NaN</td>\n",
       "      <td>1.1</td>\n",
       "      <td>NaN</td>\n",
       "      <td>NaN</td>\n",
       "      <td>NaN</td>\n",
       "      <td>NaN</td>\n",
       "      <td>NaN</td>\n",
       "    </tr>\n",
       "    <tr>\n",
       "      <th>2</th>\n",
       "      <td>2018-01-01</td>\n",
       "      <td>AT</td>\n",
       "      <td>Graz</td>\n",
       "      <td>NaN</td>\n",
       "      <td>0.1</td>\n",
       "      <td>NaN</td>\n",
       "      <td>NaN</td>\n",
       "      <td>NaN</td>\n",
       "      <td>15.1</td>\n",
       "      <td>NaN</td>\n",
       "      <td>...</td>\n",
       "      <td>NaN</td>\n",
       "      <td>NaN</td>\n",
       "      <td>NaN</td>\n",
       "      <td>NaN</td>\n",
       "      <td>1.6</td>\n",
       "      <td>NaN</td>\n",
       "      <td>NaN</td>\n",
       "      <td>NaN</td>\n",
       "      <td>NaN</td>\n",
       "      <td>NaN</td>\n",
       "    </tr>\n",
       "    <tr>\n",
       "      <th>3</th>\n",
       "      <td>2018-01-01</td>\n",
       "      <td>AT</td>\n",
       "      <td>Innsbruck</td>\n",
       "      <td>NaN</td>\n",
       "      <td>0.1</td>\n",
       "      <td>NaN</td>\n",
       "      <td>NaN</td>\n",
       "      <td>NaN</td>\n",
       "      <td>18.3</td>\n",
       "      <td>NaN</td>\n",
       "      <td>...</td>\n",
       "      <td>NaN</td>\n",
       "      <td>NaN</td>\n",
       "      <td>NaN</td>\n",
       "      <td>NaN</td>\n",
       "      <td>1.1</td>\n",
       "      <td>NaN</td>\n",
       "      <td>NaN</td>\n",
       "      <td>NaN</td>\n",
       "      <td>NaN</td>\n",
       "      <td>NaN</td>\n",
       "    </tr>\n",
       "    <tr>\n",
       "      <th>4</th>\n",
       "      <td>2018-01-01</td>\n",
       "      <td>AT</td>\n",
       "      <td>Linz</td>\n",
       "      <td>NaN</td>\n",
       "      <td>0.1</td>\n",
       "      <td>NaN</td>\n",
       "      <td>NaN</td>\n",
       "      <td>NaN</td>\n",
       "      <td>13.8</td>\n",
       "      <td>NaN</td>\n",
       "      <td>...</td>\n",
       "      <td>93.0</td>\n",
       "      <td>NaN</td>\n",
       "      <td>NaN</td>\n",
       "      <td>NaN</td>\n",
       "      <td>1.3</td>\n",
       "      <td>NaN</td>\n",
       "      <td>NaN</td>\n",
       "      <td>NaN</td>\n",
       "      <td>NaN</td>\n",
       "      <td>NaN</td>\n",
       "    </tr>\n",
       "  </tbody>\n",
       "</table>\n",
       "<p>5 rows × 22 columns</p>\n",
       "</div>"
      ],
      "text/plain": [
       "Specie       Date Country          City  aqi   co   d  humidity  mepaqi   no2  \\\n",
       "0      2018-01-01      AE     Abu Dhabi  NaN  NaN NaN       NaN     NaN   NaN   \n",
       "1      2018-01-01      AR  Buenos Aires  NaN  2.9 NaN       NaN     NaN   6.0   \n",
       "2      2018-01-01      AT          Graz  NaN  0.1 NaN       NaN     NaN  15.1   \n",
       "3      2018-01-01      AT     Innsbruck  NaN  0.1 NaN       NaN     NaN  18.3   \n",
       "4      2018-01-01      AT          Linz  NaN  0.1 NaN       NaN     NaN  13.8   \n",
       "\n",
       "Specie    o3  ...  pm25  pol  precipitation  pressure  so2  temperature  uvi  \\\n",
       "0        NaN  ...  85.0  NaN            NaN       NaN  NaN          NaN  NaN   \n",
       "1       11.0  ...  50.0  NaN            NaN       NaN  1.1          NaN  NaN   \n",
       "2        NaN  ...   NaN  NaN            NaN       NaN  1.6          NaN  NaN   \n",
       "3        NaN  ...   NaN  NaN            NaN       NaN  1.1          NaN  NaN   \n",
       "4        NaN  ...  93.0  NaN            NaN       NaN  1.3          NaN  NaN   \n",
       "\n",
       "Specie  wd  wind-gust  wind-speed  \n",
       "0      NaN        NaN         NaN  \n",
       "1      NaN        NaN         NaN  \n",
       "2      NaN        NaN         NaN  \n",
       "3      NaN        NaN         NaN  \n",
       "4      NaN        NaN         NaN  \n",
       "\n",
       "[5 rows x 22 columns]"
      ]
     },
     "execution_count": 126,
     "metadata": {},
     "output_type": "execute_result"
    }
   ],
   "source": [
    "print(data_df_2018_H1.shape)\n",
    "data_df_2018_H1.head()"
   ]
  },
  {
   "cell_type": "code",
   "execution_count": 127,
   "id": "3017290c",
   "metadata": {
    "execution": {
     "iopub.execute_input": "2025-01-27T13:49:54.465097Z",
     "iopub.status.busy": "2025-01-27T13:49:54.464687Z",
     "iopub.status.idle": "2025-01-27T13:49:54.489077Z",
     "shell.execute_reply": "2025-01-27T13:49:54.488090Z"
    },
    "executionInfo": {
     "elapsed": 10,
     "status": "ok",
     "timestamp": 1734445449140,
     "user": {
      "displayName": "Tahmida Majumder",
      "userId": "15415648085337204568"
     },
     "user_tz": -480
    },
    "id": "HXEnb-q1V5u7",
    "outputId": "aa296fa0-488a-4c6b-ea0f-3db7fc1837e9",
    "papermill": {
     "duration": 0.084566,
     "end_time": "2025-01-27T13:49:54.490643",
     "exception": false,
     "start_time": "2025-01-27T13:49:54.406077",
     "status": "completed"
    },
    "tags": []
   },
   "outputs": [
    {
     "data": {
      "text/plain": [
       "Specie\n",
       "Date                 0\n",
       "Country              0\n",
       "City                 0\n",
       "aqi              89157\n",
       "co               32652\n",
       "d                90397\n",
       "humidity         68770\n",
       "mepaqi           92232\n",
       "no2              12867\n",
       "o3               16072\n",
       "pm1              92249\n",
       "pm10             16901\n",
       "pm25             16184\n",
       "pol              91979\n",
       "precipitation    90576\n",
       "pressure         69101\n",
       "so2              27288\n",
       "temperature      68764\n",
       "uvi              90294\n",
       "wd               88246\n",
       "wind-gust        77551\n",
       "wind-speed       72070\n",
       "dtype: int64"
      ]
     },
     "execution_count": 127,
     "metadata": {},
     "output_type": "execute_result"
    }
   ],
   "source": [
    "data_df_2018_H1.isnull().sum()"
   ]
  },
  {
   "cell_type": "code",
   "execution_count": null,
   "id": "d4990423",
   "metadata": {
    "id": "LrH9cHRcV4GW",
    "papermill": {
     "duration": 0.055857,
     "end_time": "2025-01-27T13:49:54.603569",
     "exception": false,
     "start_time": "2025-01-27T13:49:54.547712",
     "status": "completed"
    },
    "tags": []
   },
   "outputs": [],
   "source": []
  },
  {
   "cell_type": "markdown",
   "id": "b8aff2b0",
   "metadata": {
    "id": "MMOZkreeWbiJ",
    "papermill": {
     "duration": 0.057936,
     "end_time": "2025-01-27T13:49:54.717967",
     "exception": false,
     "start_time": "2025-01-27T13:49:54.660031",
     "status": "completed"
    },
    "tags": []
   },
   "source": [
    "# 2017_H1"
   ]
  },
  {
   "cell_type": "code",
   "execution_count": 128,
   "id": "d716c32f",
   "metadata": {
    "execution": {
     "iopub.execute_input": "2025-01-27T13:49:54.834967Z",
     "iopub.status.busy": "2025-01-27T13:49:54.834600Z",
     "iopub.status.idle": "2025-01-27T13:49:55.241204Z",
     "shell.execute_reply": "2025-01-27T13:49:55.240049Z"
    },
    "executionInfo": {
     "elapsed": 1232,
     "status": "ok",
     "timestamp": 1734445450364,
     "user": {
      "displayName": "Tahmida Majumder",
      "userId": "15415648085337204568"
     },
     "user_tz": -480
    },
    "id": "gTFzIl_eWbiJ",
    "outputId": "99cf2c57-f316-46ef-9ac6-71f03c00eeec",
    "papermill": {
     "duration": 0.468703,
     "end_time": "2025-01-27T13:49:55.243013",
     "exception": false,
     "start_time": "2025-01-27T13:49:54.774310",
     "status": "completed"
    },
    "tags": []
   },
   "outputs": [
    {
     "name": "stdout",
     "output_type": "stream",
     "text": [
      "(427974, 5)\n"
     ]
    },
    {
     "data": {
      "text/html": [
       "<div>\n",
       "<style scoped>\n",
       "    .dataframe tbody tr th:only-of-type {\n",
       "        vertical-align: middle;\n",
       "    }\n",
       "\n",
       "    .dataframe tbody tr th {\n",
       "        vertical-align: top;\n",
       "    }\n",
       "\n",
       "    .dataframe thead th {\n",
       "        text-align: right;\n",
       "    }\n",
       "</style>\n",
       "<table border=\"1\" class=\"dataframe\">\n",
       "  <thead>\n",
       "    <tr style=\"text-align: right;\">\n",
       "      <th></th>\n",
       "      <th>Date</th>\n",
       "      <th>Country</th>\n",
       "      <th>City</th>\n",
       "      <th>Specie</th>\n",
       "      <th>median</th>\n",
       "    </tr>\n",
       "  </thead>\n",
       "  <tbody>\n",
       "    <tr>\n",
       "      <th>0</th>\n",
       "      <td>12/27/2016</td>\n",
       "      <td>CN</td>\n",
       "      <td>Beijing</td>\n",
       "      <td>co</td>\n",
       "      <td>7.3</td>\n",
       "    </tr>\n",
       "    <tr>\n",
       "      <th>1</th>\n",
       "      <td>1/28/2017</td>\n",
       "      <td>CN</td>\n",
       "      <td>Beijing</td>\n",
       "      <td>co</td>\n",
       "      <td>23.5</td>\n",
       "    </tr>\n",
       "    <tr>\n",
       "      <th>2</th>\n",
       "      <td>2/24/2017</td>\n",
       "      <td>CN</td>\n",
       "      <td>Beijing</td>\n",
       "      <td>co</td>\n",
       "      <td>6.4</td>\n",
       "    </tr>\n",
       "    <tr>\n",
       "      <th>3</th>\n",
       "      <td>3/18/2017</td>\n",
       "      <td>CN</td>\n",
       "      <td>Beijing</td>\n",
       "      <td>co</td>\n",
       "      <td>11.8</td>\n",
       "    </tr>\n",
       "    <tr>\n",
       "      <th>4</th>\n",
       "      <td>4/16/2017</td>\n",
       "      <td>CN</td>\n",
       "      <td>Beijing</td>\n",
       "      <td>co</td>\n",
       "      <td>9.1</td>\n",
       "    </tr>\n",
       "    <tr>\n",
       "      <th>5</th>\n",
       "      <td>6/12/2017</td>\n",
       "      <td>CN</td>\n",
       "      <td>Beijing</td>\n",
       "      <td>co</td>\n",
       "      <td>10.0</td>\n",
       "    </tr>\n",
       "    <tr>\n",
       "      <th>6</th>\n",
       "      <td>2/16/2017</td>\n",
       "      <td>CN</td>\n",
       "      <td>Beijing</td>\n",
       "      <td>co</td>\n",
       "      <td>4.6</td>\n",
       "    </tr>\n",
       "    <tr>\n",
       "      <th>7</th>\n",
       "      <td>3/6/2017</td>\n",
       "      <td>CN</td>\n",
       "      <td>Beijing</td>\n",
       "      <td>co</td>\n",
       "      <td>4.6</td>\n",
       "    </tr>\n",
       "    <tr>\n",
       "      <th>8</th>\n",
       "      <td>4/29/2017</td>\n",
       "      <td>CN</td>\n",
       "      <td>Beijing</td>\n",
       "      <td>co</td>\n",
       "      <td>3.7</td>\n",
       "    </tr>\n",
       "    <tr>\n",
       "      <th>9</th>\n",
       "      <td>6/3/2017</td>\n",
       "      <td>CN</td>\n",
       "      <td>Beijing</td>\n",
       "      <td>co</td>\n",
       "      <td>6.4</td>\n",
       "    </tr>\n",
       "  </tbody>\n",
       "</table>\n",
       "</div>"
      ],
      "text/plain": [
       "         Date Country     City Specie  median\n",
       "0  12/27/2016      CN  Beijing     co     7.3\n",
       "1   1/28/2017      CN  Beijing     co    23.5\n",
       "2   2/24/2017      CN  Beijing     co     6.4\n",
       "3   3/18/2017      CN  Beijing     co    11.8\n",
       "4   4/16/2017      CN  Beijing     co     9.1\n",
       "5   6/12/2017      CN  Beijing     co    10.0\n",
       "6   2/16/2017      CN  Beijing     co     4.6\n",
       "7    3/6/2017      CN  Beijing     co     4.6\n",
       "8   4/29/2017      CN  Beijing     co     3.7\n",
       "9    6/3/2017      CN  Beijing     co     6.4"
      ]
     },
     "execution_count": 128,
     "metadata": {},
     "output_type": "execute_result"
    }
   ],
   "source": [
    "# Loading the data\n",
    "raw_data_2017_H1 = pd.read_csv(r\"/kaggle/input/complete-raw-median/waqi-covid19-airqualitydata-2017H1.csv\")\n",
    "\n",
    "# print the shape\n",
    "print(raw_data_2017_H1.shape)\n",
    "\n",
    "#runs the first 5 rows\n",
    "raw_data_2017_H1.head(10)"
   ]
  },
  {
   "cell_type": "code",
   "execution_count": 129,
   "id": "195d9ace",
   "metadata": {
    "execution": {
     "iopub.execute_input": "2025-01-27T13:49:55.355799Z",
     "iopub.status.busy": "2025-01-27T13:49:55.355421Z",
     "iopub.status.idle": "2025-01-27T13:49:55.417828Z",
     "shell.execute_reply": "2025-01-27T13:49:55.416692Z"
    },
    "id": "Lnzv_vyuWbiJ",
    "papermill": {
     "duration": 0.120926,
     "end_time": "2025-01-27T13:49:55.419895",
     "exception": false,
     "start_time": "2025-01-27T13:49:55.298969",
     "status": "completed"
    },
    "tags": []
   },
   "outputs": [],
   "source": [
    "# Convert 'Date' to datetime\n",
    "raw_data_2017_H1['Date'] = pd.to_datetime(raw_data_2017_H1['Date'])"
   ]
  },
  {
   "cell_type": "code",
   "execution_count": 130,
   "id": "2d4b9bb3",
   "metadata": {
    "execution": {
     "iopub.execute_input": "2025-01-27T13:49:55.536579Z",
     "iopub.status.busy": "2025-01-27T13:49:55.536066Z",
     "iopub.status.idle": "2025-01-27T13:49:55.543241Z",
     "shell.execute_reply": "2025-01-27T13:49:55.541943Z"
    },
    "executionInfo": {
     "elapsed": 15,
     "status": "ok",
     "timestamp": 1734445450364,
     "user": {
      "displayName": "Tahmida Majumder",
      "userId": "15415648085337204568"
     },
     "user_tz": -480
    },
    "id": "sE_T9b0-WbiJ",
    "outputId": "04196de5-0cf9-4b4e-bcc7-a24814a8cbe2",
    "papermill": {
     "duration": 0.067046,
     "end_time": "2025-01-27T13:49:55.545226",
     "exception": false,
     "start_time": "2025-01-27T13:49:55.478180",
     "status": "completed"
    },
    "tags": []
   },
   "outputs": [
    {
     "data": {
      "text/plain": [
       "(427974, 5)"
      ]
     },
     "execution_count": 130,
     "metadata": {},
     "output_type": "execute_result"
    }
   ],
   "source": [
    "raw_data_2017_H1.shape"
   ]
  },
  {
   "cell_type": "code",
   "execution_count": 131,
   "id": "95c79e57",
   "metadata": {
    "execution": {
     "iopub.execute_input": "2025-01-27T13:49:55.667445Z",
     "iopub.status.busy": "2025-01-27T13:49:55.667026Z",
     "iopub.status.idle": "2025-01-27T13:49:56.029186Z",
     "shell.execute_reply": "2025-01-27T13:49:56.027925Z"
    },
    "id": "B1LZaSuFWbiK",
    "papermill": {
     "duration": 0.427253,
     "end_time": "2025-01-27T13:49:56.031244",
     "exception": false,
     "start_time": "2025-01-27T13:49:55.603991",
     "status": "completed"
    },
    "tags": []
   },
   "outputs": [],
   "source": [
    "# Pivot the data\n",
    "data_df_2017_H1 = raw_data_2017_H1.pivot_table(\n",
    "    index=['Date', 'Country', 'City'],  # Grouping columns\n",
    "    columns='Specie',                  # Unique values become columns\n",
    "    values='median',                   # Values to aggregate\n",
    "    aggfunc='mean'                     # Aggregation function\n",
    ").reset_index()"
   ]
  },
  {
   "cell_type": "code",
   "execution_count": 132,
   "id": "e2a05737",
   "metadata": {
    "execution": {
     "iopub.execute_input": "2025-01-27T13:49:56.152032Z",
     "iopub.status.busy": "2025-01-27T13:49:56.151587Z",
     "iopub.status.idle": "2025-01-27T13:49:56.176434Z",
     "shell.execute_reply": "2025-01-27T13:49:56.175184Z"
    },
    "executionInfo": {
     "elapsed": 13,
     "status": "ok",
     "timestamp": 1734445450364,
     "user": {
      "displayName": "Tahmida Majumder",
      "userId": "15415648085337204568"
     },
     "user_tz": -480
    },
    "id": "ZUeeQdFoWbiK",
    "outputId": "8d1a07b8-68eb-40f6-8b94-4c0557aa1cd3",
    "papermill": {
     "duration": 0.088611,
     "end_time": "2025-01-27T13:49:56.178490",
     "exception": false,
     "start_time": "2025-01-27T13:49:56.089879",
     "status": "completed"
    },
    "tags": []
   },
   "outputs": [
    {
     "name": "stdout",
     "output_type": "stream",
     "text": [
      "(88640, 21)\n"
     ]
    },
    {
     "data": {
      "text/html": [
       "<div>\n",
       "<style scoped>\n",
       "    .dataframe tbody tr th:only-of-type {\n",
       "        vertical-align: middle;\n",
       "    }\n",
       "\n",
       "    .dataframe tbody tr th {\n",
       "        vertical-align: top;\n",
       "    }\n",
       "\n",
       "    .dataframe thead th {\n",
       "        text-align: right;\n",
       "    }\n",
       "</style>\n",
       "<table border=\"1\" class=\"dataframe\">\n",
       "  <thead>\n",
       "    <tr style=\"text-align: right;\">\n",
       "      <th>Specie</th>\n",
       "      <th>Date</th>\n",
       "      <th>Country</th>\n",
       "      <th>City</th>\n",
       "      <th>aqi</th>\n",
       "      <th>co</th>\n",
       "      <th>d</th>\n",
       "      <th>humidity</th>\n",
       "      <th>mepaqi</th>\n",
       "      <th>neph</th>\n",
       "      <th>no2</th>\n",
       "      <th>...</th>\n",
       "      <th>pm1</th>\n",
       "      <th>pm10</th>\n",
       "      <th>pm25</th>\n",
       "      <th>pol</th>\n",
       "      <th>pressure</th>\n",
       "      <th>so2</th>\n",
       "      <th>temperature</th>\n",
       "      <th>uvi</th>\n",
       "      <th>wd</th>\n",
       "      <th>wind-speed</th>\n",
       "    </tr>\n",
       "  </thead>\n",
       "  <tbody>\n",
       "    <tr>\n",
       "      <th>0</th>\n",
       "      <td>2016-12-26</td>\n",
       "      <td>AR</td>\n",
       "      <td>Buenos Aires</td>\n",
       "      <td>NaN</td>\n",
       "      <td>0.1</td>\n",
       "      <td>NaN</td>\n",
       "      <td>NaN</td>\n",
       "      <td>NaN</td>\n",
       "      <td>NaN</td>\n",
       "      <td>NaN</td>\n",
       "      <td>...</td>\n",
       "      <td>NaN</td>\n",
       "      <td>9.0</td>\n",
       "      <td>25.0</td>\n",
       "      <td>NaN</td>\n",
       "      <td>NaN</td>\n",
       "      <td>2.1</td>\n",
       "      <td>NaN</td>\n",
       "      <td>NaN</td>\n",
       "      <td>NaN</td>\n",
       "      <td>NaN</td>\n",
       "    </tr>\n",
       "    <tr>\n",
       "      <th>1</th>\n",
       "      <td>2016-12-26</td>\n",
       "      <td>AT</td>\n",
       "      <td>Graz</td>\n",
       "      <td>NaN</td>\n",
       "      <td>0.1</td>\n",
       "      <td>NaN</td>\n",
       "      <td>NaN</td>\n",
       "      <td>NaN</td>\n",
       "      <td>NaN</td>\n",
       "      <td>15.1</td>\n",
       "      <td>...</td>\n",
       "      <td>NaN</td>\n",
       "      <td>34.0</td>\n",
       "      <td>NaN</td>\n",
       "      <td>NaN</td>\n",
       "      <td>NaN</td>\n",
       "      <td>1.6</td>\n",
       "      <td>NaN</td>\n",
       "      <td>NaN</td>\n",
       "      <td>NaN</td>\n",
       "      <td>NaN</td>\n",
       "    </tr>\n",
       "    <tr>\n",
       "      <th>2</th>\n",
       "      <td>2016-12-26</td>\n",
       "      <td>AT</td>\n",
       "      <td>Innsbruck</td>\n",
       "      <td>NaN</td>\n",
       "      <td>0.1</td>\n",
       "      <td>NaN</td>\n",
       "      <td>NaN</td>\n",
       "      <td>NaN</td>\n",
       "      <td>NaN</td>\n",
       "      <td>19.7</td>\n",
       "      <td>...</td>\n",
       "      <td>NaN</td>\n",
       "      <td>19.0</td>\n",
       "      <td>NaN</td>\n",
       "      <td>NaN</td>\n",
       "      <td>NaN</td>\n",
       "      <td>2.8</td>\n",
       "      <td>NaN</td>\n",
       "      <td>NaN</td>\n",
       "      <td>NaN</td>\n",
       "      <td>NaN</td>\n",
       "    </tr>\n",
       "    <tr>\n",
       "      <th>3</th>\n",
       "      <td>2016-12-26</td>\n",
       "      <td>AT</td>\n",
       "      <td>Linz</td>\n",
       "      <td>NaN</td>\n",
       "      <td>0.1</td>\n",
       "      <td>NaN</td>\n",
       "      <td>NaN</td>\n",
       "      <td>NaN</td>\n",
       "      <td>NaN</td>\n",
       "      <td>6.9</td>\n",
       "      <td>...</td>\n",
       "      <td>NaN</td>\n",
       "      <td>8.0</td>\n",
       "      <td>21.0</td>\n",
       "      <td>NaN</td>\n",
       "      <td>NaN</td>\n",
       "      <td>3.6</td>\n",
       "      <td>NaN</td>\n",
       "      <td>NaN</td>\n",
       "      <td>NaN</td>\n",
       "      <td>NaN</td>\n",
       "    </tr>\n",
       "    <tr>\n",
       "      <th>4</th>\n",
       "      <td>2016-12-26</td>\n",
       "      <td>AT</td>\n",
       "      <td>Salzburg</td>\n",
       "      <td>NaN</td>\n",
       "      <td>0.1</td>\n",
       "      <td>NaN</td>\n",
       "      <td>NaN</td>\n",
       "      <td>NaN</td>\n",
       "      <td>NaN</td>\n",
       "      <td>14.2</td>\n",
       "      <td>...</td>\n",
       "      <td>NaN</td>\n",
       "      <td>10.0</td>\n",
       "      <td>NaN</td>\n",
       "      <td>NaN</td>\n",
       "      <td>NaN</td>\n",
       "      <td>2.1</td>\n",
       "      <td>NaN</td>\n",
       "      <td>NaN</td>\n",
       "      <td>NaN</td>\n",
       "      <td>NaN</td>\n",
       "    </tr>\n",
       "  </tbody>\n",
       "</table>\n",
       "<p>5 rows × 21 columns</p>\n",
       "</div>"
      ],
      "text/plain": [
       "Specie       Date Country          City  aqi   co   d  humidity  mepaqi  neph  \\\n",
       "0      2016-12-26      AR  Buenos Aires  NaN  0.1 NaN       NaN     NaN   NaN   \n",
       "1      2016-12-26      AT          Graz  NaN  0.1 NaN       NaN     NaN   NaN   \n",
       "2      2016-12-26      AT     Innsbruck  NaN  0.1 NaN       NaN     NaN   NaN   \n",
       "3      2016-12-26      AT          Linz  NaN  0.1 NaN       NaN     NaN   NaN   \n",
       "4      2016-12-26      AT      Salzburg  NaN  0.1 NaN       NaN     NaN   NaN   \n",
       "\n",
       "Specie   no2  ...  pm1  pm10  pm25  pol  pressure  so2  temperature  uvi  wd  \\\n",
       "0        NaN  ...  NaN   9.0  25.0  NaN       NaN  2.1          NaN  NaN NaN   \n",
       "1       15.1  ...  NaN  34.0   NaN  NaN       NaN  1.6          NaN  NaN NaN   \n",
       "2       19.7  ...  NaN  19.0   NaN  NaN       NaN  2.8          NaN  NaN NaN   \n",
       "3        6.9  ...  NaN   8.0  21.0  NaN       NaN  3.6          NaN  NaN NaN   \n",
       "4       14.2  ...  NaN  10.0   NaN  NaN       NaN  2.1          NaN  NaN NaN   \n",
       "\n",
       "Specie  wind-speed  \n",
       "0              NaN  \n",
       "1              NaN  \n",
       "2              NaN  \n",
       "3              NaN  \n",
       "4              NaN  \n",
       "\n",
       "[5 rows x 21 columns]"
      ]
     },
     "execution_count": 132,
     "metadata": {},
     "output_type": "execute_result"
    }
   ],
   "source": [
    "print(data_df_2017_H1.shape)\n",
    "data_df_2017_H1.head()"
   ]
  },
  {
   "cell_type": "code",
   "execution_count": 133,
   "id": "43529847",
   "metadata": {
    "execution": {
     "iopub.execute_input": "2025-01-27T13:49:56.295440Z",
     "iopub.status.busy": "2025-01-27T13:49:56.295012Z",
     "iopub.status.idle": "2025-01-27T13:49:56.318654Z",
     "shell.execute_reply": "2025-01-27T13:49:56.317499Z"
    },
    "executionInfo": {
     "elapsed": 11,
     "status": "ok",
     "timestamp": 1734445450365,
     "user": {
      "displayName": "Tahmida Majumder",
      "userId": "15415648085337204568"
     },
     "user_tz": -480
    },
    "id": "fayUPva7WbiK",
    "outputId": "930137a7-f030-4094-d89b-ae7c91fb0979",
    "papermill": {
     "duration": 0.084915,
     "end_time": "2025-01-27T13:49:56.320738",
     "exception": false,
     "start_time": "2025-01-27T13:49:56.235823",
     "status": "completed"
    },
    "tags": []
   },
   "outputs": [
    {
     "data": {
      "text/plain": [
       "Specie\n",
       "Date               0\n",
       "Country            0\n",
       "City               0\n",
       "aqi            86591\n",
       "co             30374\n",
       "d              88622\n",
       "humidity       88493\n",
       "mepaqi         88451\n",
       "neph           88100\n",
       "no2            10738\n",
       "o3             12809\n",
       "pm1            88425\n",
       "pm10           16164\n",
       "pm25           13666\n",
       "pol            88438\n",
       "pressure       88507\n",
       "so2            25932\n",
       "temperature    88493\n",
       "uvi            86525\n",
       "wd             88610\n",
       "wind-speed     88608\n",
       "dtype: int64"
      ]
     },
     "execution_count": 133,
     "metadata": {},
     "output_type": "execute_result"
    }
   ],
   "source": [
    "data_df_2017_H1.isnull().sum()"
   ]
  },
  {
   "cell_type": "code",
   "execution_count": null,
   "id": "348d911a",
   "metadata": {
    "id": "0UJPBKFuWa3t",
    "papermill": {
     "duration": 0.058464,
     "end_time": "2025-01-27T13:49:56.435839",
     "exception": false,
     "start_time": "2025-01-27T13:49:56.377375",
     "status": "completed"
    },
    "tags": []
   },
   "outputs": [],
   "source": []
  },
  {
   "cell_type": "markdown",
   "id": "5fdbbebc",
   "metadata": {
    "id": "tyiqL55NW0Jb",
    "papermill": {
     "duration": 0.056713,
     "end_time": "2025-01-27T13:49:56.548830",
     "exception": false,
     "start_time": "2025-01-27T13:49:56.492117",
     "status": "completed"
    },
    "tags": []
   },
   "source": [
    "# 2016_H1"
   ]
  },
  {
   "cell_type": "code",
   "execution_count": 134,
   "id": "7f516b43",
   "metadata": {
    "execution": {
     "iopub.execute_input": "2025-01-27T13:49:56.663692Z",
     "iopub.status.busy": "2025-01-27T13:49:56.663314Z",
     "iopub.status.idle": "2025-01-27T13:49:57.035683Z",
     "shell.execute_reply": "2025-01-27T13:49:57.034575Z"
    },
    "executionInfo": {
     "elapsed": 871,
     "status": "ok",
     "timestamp": 1734445451226,
     "user": {
      "displayName": "Tahmida Majumder",
      "userId": "15415648085337204568"
     },
     "user_tz": -480
    },
    "id": "A0oX3oOmW0Jc",
    "outputId": "b6d471b6-9709-4de1-9746-16490d2fee20",
    "papermill": {
     "duration": 0.432779,
     "end_time": "2025-01-27T13:49:57.037752",
     "exception": false,
     "start_time": "2025-01-27T13:49:56.604973",
     "status": "completed"
    },
    "tags": []
   },
   "outputs": [
    {
     "name": "stdout",
     "output_type": "stream",
     "text": [
      "(413840, 5)\n"
     ]
    },
    {
     "data": {
      "text/html": [
       "<div>\n",
       "<style scoped>\n",
       "    .dataframe tbody tr th:only-of-type {\n",
       "        vertical-align: middle;\n",
       "    }\n",
       "\n",
       "    .dataframe tbody tr th {\n",
       "        vertical-align: top;\n",
       "    }\n",
       "\n",
       "    .dataframe thead th {\n",
       "        text-align: right;\n",
       "    }\n",
       "</style>\n",
       "<table border=\"1\" class=\"dataframe\">\n",
       "  <thead>\n",
       "    <tr style=\"text-align: right;\">\n",
       "      <th></th>\n",
       "      <th>Date</th>\n",
       "      <th>Country</th>\n",
       "      <th>City</th>\n",
       "      <th>Specie</th>\n",
       "      <th>median</th>\n",
       "    </tr>\n",
       "  </thead>\n",
       "  <tbody>\n",
       "    <tr>\n",
       "      <th>0</th>\n",
       "      <td>2/3/2016</td>\n",
       "      <td>SE</td>\n",
       "      <td>Stockholm</td>\n",
       "      <td>o3</td>\n",
       "      <td>17.6</td>\n",
       "    </tr>\n",
       "    <tr>\n",
       "      <th>1</th>\n",
       "      <td>2/4/2016</td>\n",
       "      <td>SE</td>\n",
       "      <td>Stockholm</td>\n",
       "      <td>o3</td>\n",
       "      <td>17.8</td>\n",
       "    </tr>\n",
       "    <tr>\n",
       "      <th>2</th>\n",
       "      <td>2/16/2016</td>\n",
       "      <td>SE</td>\n",
       "      <td>Stockholm</td>\n",
       "      <td>o3</td>\n",
       "      <td>15.4</td>\n",
       "    </tr>\n",
       "    <tr>\n",
       "      <th>3</th>\n",
       "      <td>3/11/2016</td>\n",
       "      <td>SE</td>\n",
       "      <td>Stockholm</td>\n",
       "      <td>o3</td>\n",
       "      <td>15.6</td>\n",
       "    </tr>\n",
       "    <tr>\n",
       "      <th>4</th>\n",
       "      <td>4/2/2016</td>\n",
       "      <td>SE</td>\n",
       "      <td>Stockholm</td>\n",
       "      <td>o3</td>\n",
       "      <td>25.6</td>\n",
       "    </tr>\n",
       "    <tr>\n",
       "      <th>5</th>\n",
       "      <td>5/2/2016</td>\n",
       "      <td>SE</td>\n",
       "      <td>Stockholm</td>\n",
       "      <td>o3</td>\n",
       "      <td>35.1</td>\n",
       "    </tr>\n",
       "    <tr>\n",
       "      <th>6</th>\n",
       "      <td>5/11/2016</td>\n",
       "      <td>SE</td>\n",
       "      <td>Stockholm</td>\n",
       "      <td>o3</td>\n",
       "      <td>30.5</td>\n",
       "    </tr>\n",
       "    <tr>\n",
       "      <th>7</th>\n",
       "      <td>1/4/2016</td>\n",
       "      <td>SE</td>\n",
       "      <td>Stockholm</td>\n",
       "      <td>o3</td>\n",
       "      <td>12.9</td>\n",
       "    </tr>\n",
       "    <tr>\n",
       "      <th>8</th>\n",
       "      <td>5/26/2016</td>\n",
       "      <td>SE</td>\n",
       "      <td>Stockholm</td>\n",
       "      <td>o3</td>\n",
       "      <td>17.5</td>\n",
       "    </tr>\n",
       "    <tr>\n",
       "      <th>9</th>\n",
       "      <td>6/18/2016</td>\n",
       "      <td>SE</td>\n",
       "      <td>Stockholm</td>\n",
       "      <td>o3</td>\n",
       "      <td>16.9</td>\n",
       "    </tr>\n",
       "  </tbody>\n",
       "</table>\n",
       "</div>"
      ],
      "text/plain": [
       "        Date Country       City Specie  median\n",
       "0   2/3/2016      SE  Stockholm     o3    17.6\n",
       "1   2/4/2016      SE  Stockholm     o3    17.8\n",
       "2  2/16/2016      SE  Stockholm     o3    15.4\n",
       "3  3/11/2016      SE  Stockholm     o3    15.6\n",
       "4   4/2/2016      SE  Stockholm     o3    25.6\n",
       "5   5/2/2016      SE  Stockholm     o3    35.1\n",
       "6  5/11/2016      SE  Stockholm     o3    30.5\n",
       "7   1/4/2016      SE  Stockholm     o3    12.9\n",
       "8  5/26/2016      SE  Stockholm     o3    17.5\n",
       "9  6/18/2016      SE  Stockholm     o3    16.9"
      ]
     },
     "execution_count": 134,
     "metadata": {},
     "output_type": "execute_result"
    }
   ],
   "source": [
    "# Loading the data\n",
    "raw_data_2016_H1 = pd.read_csv(r\"/kaggle/input/complete-raw-median/waqi-covid19-airqualitydata-2016H1.csv\")\n",
    "\n",
    "# print the shape\n",
    "print(raw_data_2016_H1.shape)\n",
    "\n",
    "#runs the first 5 rows\n",
    "raw_data_2016_H1.head(10)"
   ]
  },
  {
   "cell_type": "code",
   "execution_count": 135,
   "id": "03a082a4",
   "metadata": {
    "execution": {
     "iopub.execute_input": "2025-01-27T13:49:57.155236Z",
     "iopub.status.busy": "2025-01-27T13:49:57.154879Z",
     "iopub.status.idle": "2025-01-27T13:49:57.217162Z",
     "shell.execute_reply": "2025-01-27T13:49:57.216177Z"
    },
    "id": "pQoiKds5W0Jc",
    "papermill": {
     "duration": 0.123517,
     "end_time": "2025-01-27T13:49:57.219131",
     "exception": false,
     "start_time": "2025-01-27T13:49:57.095614",
     "status": "completed"
    },
    "tags": []
   },
   "outputs": [],
   "source": [
    "# Convert 'Date' to datetime\n",
    "raw_data_2016_H1['Date'] = pd.to_datetime(raw_data_2016_H1['Date'])"
   ]
  },
  {
   "cell_type": "code",
   "execution_count": 136,
   "id": "641ce4fa",
   "metadata": {
    "execution": {
     "iopub.execute_input": "2025-01-27T13:49:57.336301Z",
     "iopub.status.busy": "2025-01-27T13:49:57.335880Z",
     "iopub.status.idle": "2025-01-27T13:49:57.342195Z",
     "shell.execute_reply": "2025-01-27T13:49:57.341041Z"
    },
    "executionInfo": {
     "elapsed": 9,
     "status": "ok",
     "timestamp": 1734445451226,
     "user": {
      "displayName": "Tahmida Majumder",
      "userId": "15415648085337204568"
     },
     "user_tz": -480
    },
    "id": "i7ywTKmBW0Jc",
    "outputId": "6ac79b3d-acac-4d2b-f332-edb1a90399ed",
    "papermill": {
     "duration": 0.0673,
     "end_time": "2025-01-27T13:49:57.343850",
     "exception": false,
     "start_time": "2025-01-27T13:49:57.276550",
     "status": "completed"
    },
    "tags": []
   },
   "outputs": [
    {
     "data": {
      "text/plain": [
       "(413840, 5)"
      ]
     },
     "execution_count": 136,
     "metadata": {},
     "output_type": "execute_result"
    }
   ],
   "source": [
    "raw_data_2016_H1.shape"
   ]
  },
  {
   "cell_type": "code",
   "execution_count": 137,
   "id": "0f2a1b78",
   "metadata": {
    "execution": {
     "iopub.execute_input": "2025-01-27T13:49:57.461979Z",
     "iopub.status.busy": "2025-01-27T13:49:57.461580Z",
     "iopub.status.idle": "2025-01-27T13:49:57.769223Z",
     "shell.execute_reply": "2025-01-27T13:49:57.768174Z"
    },
    "id": "5Yu3LLm9W0Jc",
    "papermill": {
     "duration": 0.369191,
     "end_time": "2025-01-27T13:49:57.771192",
     "exception": false,
     "start_time": "2025-01-27T13:49:57.402001",
     "status": "completed"
    },
    "tags": []
   },
   "outputs": [],
   "source": [
    "# Pivot the data\n",
    "data_df_2016_H1 = raw_data_2016_H1.pivot_table(\n",
    "    index=['Date', 'Country', 'City'],  # Grouping columns\n",
    "    columns='Specie',                  # Unique values become columns\n",
    "    values='median',                   # Values to aggregate\n",
    "    aggfunc='mean'                     # Aggregation function\n",
    ").reset_index()"
   ]
  },
  {
   "cell_type": "code",
   "execution_count": 138,
   "id": "fc8fe6fd",
   "metadata": {
    "execution": {
     "iopub.execute_input": "2025-01-27T13:49:57.888742Z",
     "iopub.status.busy": "2025-01-27T13:49:57.888382Z",
     "iopub.status.idle": "2025-01-27T13:49:57.907843Z",
     "shell.execute_reply": "2025-01-27T13:49:57.906777Z"
    },
    "executionInfo": {
     "elapsed": 407,
     "status": "ok",
     "timestamp": 1734445451627,
     "user": {
      "displayName": "Tahmida Majumder",
      "userId": "15415648085337204568"
     },
     "user_tz": -480
    },
    "id": "NOMXGHXbW0Jc",
    "outputId": "c875047d-b804-4179-ecb4-ab92a18deccb",
    "papermill": {
     "duration": 0.079811,
     "end_time": "2025-01-27T13:49:57.909428",
     "exception": false,
     "start_time": "2025-01-27T13:49:57.829617",
     "status": "completed"
    },
    "tags": []
   },
   "outputs": [
    {
     "name": "stdout",
     "output_type": "stream",
     "text": [
      "(86762, 15)\n"
     ]
    },
    {
     "data": {
      "text/html": [
       "<div>\n",
       "<style scoped>\n",
       "    .dataframe tbody tr th:only-of-type {\n",
       "        vertical-align: middle;\n",
       "    }\n",
       "\n",
       "    .dataframe tbody tr th {\n",
       "        vertical-align: top;\n",
       "    }\n",
       "\n",
       "    .dataframe thead th {\n",
       "        text-align: right;\n",
       "    }\n",
       "</style>\n",
       "<table border=\"1\" class=\"dataframe\">\n",
       "  <thead>\n",
       "    <tr style=\"text-align: right;\">\n",
       "      <th>Specie</th>\n",
       "      <th>Date</th>\n",
       "      <th>Country</th>\n",
       "      <th>City</th>\n",
       "      <th>aqi</th>\n",
       "      <th>co</th>\n",
       "      <th>mepaqi</th>\n",
       "      <th>neph</th>\n",
       "      <th>no2</th>\n",
       "      <th>o3</th>\n",
       "      <th>pm10</th>\n",
       "      <th>pm25</th>\n",
       "      <th>pol</th>\n",
       "      <th>psi</th>\n",
       "      <th>so2</th>\n",
       "      <th>uvi</th>\n",
       "    </tr>\n",
       "  </thead>\n",
       "  <tbody>\n",
       "    <tr>\n",
       "      <th>0</th>\n",
       "      <td>2015-12-28</td>\n",
       "      <td>AE</td>\n",
       "      <td>Dubai</td>\n",
       "      <td>NaN</td>\n",
       "      <td>4.3</td>\n",
       "      <td>NaN</td>\n",
       "      <td>NaN</td>\n",
       "      <td>16.0</td>\n",
       "      <td>10.7</td>\n",
       "      <td>8.0</td>\n",
       "      <td>70.0</td>\n",
       "      <td>NaN</td>\n",
       "      <td>NaN</td>\n",
       "      <td>1.9</td>\n",
       "      <td>NaN</td>\n",
       "    </tr>\n",
       "    <tr>\n",
       "      <th>1</th>\n",
       "      <td>2015-12-28</td>\n",
       "      <td>AT</td>\n",
       "      <td>Graz</td>\n",
       "      <td>NaN</td>\n",
       "      <td>0.1</td>\n",
       "      <td>NaN</td>\n",
       "      <td>NaN</td>\n",
       "      <td>18.8</td>\n",
       "      <td>NaN</td>\n",
       "      <td>32.0</td>\n",
       "      <td>NaN</td>\n",
       "      <td>NaN</td>\n",
       "      <td>NaN</td>\n",
       "      <td>3.6</td>\n",
       "      <td>NaN</td>\n",
       "    </tr>\n",
       "    <tr>\n",
       "      <th>2</th>\n",
       "      <td>2015-12-28</td>\n",
       "      <td>AT</td>\n",
       "      <td>Innsbruck</td>\n",
       "      <td>NaN</td>\n",
       "      <td>0.1</td>\n",
       "      <td>NaN</td>\n",
       "      <td>NaN</td>\n",
       "      <td>37.5</td>\n",
       "      <td>NaN</td>\n",
       "      <td>44.0</td>\n",
       "      <td>NaN</td>\n",
       "      <td>NaN</td>\n",
       "      <td>NaN</td>\n",
       "      <td>3.6</td>\n",
       "      <td>NaN</td>\n",
       "    </tr>\n",
       "    <tr>\n",
       "      <th>3</th>\n",
       "      <td>2015-12-28</td>\n",
       "      <td>AT</td>\n",
       "      <td>Linz</td>\n",
       "      <td>NaN</td>\n",
       "      <td>0.1</td>\n",
       "      <td>NaN</td>\n",
       "      <td>NaN</td>\n",
       "      <td>18.8</td>\n",
       "      <td>NaN</td>\n",
       "      <td>40.0</td>\n",
       "      <td>108.0</td>\n",
       "      <td>NaN</td>\n",
       "      <td>NaN</td>\n",
       "      <td>2.1</td>\n",
       "      <td>NaN</td>\n",
       "    </tr>\n",
       "    <tr>\n",
       "      <th>4</th>\n",
       "      <td>2015-12-28</td>\n",
       "      <td>AT</td>\n",
       "      <td>Salzburg</td>\n",
       "      <td>NaN</td>\n",
       "      <td>0.1</td>\n",
       "      <td>NaN</td>\n",
       "      <td>NaN</td>\n",
       "      <td>28.8</td>\n",
       "      <td>NaN</td>\n",
       "      <td>21.0</td>\n",
       "      <td>NaN</td>\n",
       "      <td>NaN</td>\n",
       "      <td>NaN</td>\n",
       "      <td>2.6</td>\n",
       "      <td>NaN</td>\n",
       "    </tr>\n",
       "  </tbody>\n",
       "</table>\n",
       "</div>"
      ],
      "text/plain": [
       "Specie       Date Country       City  aqi   co  mepaqi  neph   no2    o3  \\\n",
       "0      2015-12-28      AE      Dubai  NaN  4.3     NaN   NaN  16.0  10.7   \n",
       "1      2015-12-28      AT       Graz  NaN  0.1     NaN   NaN  18.8   NaN   \n",
       "2      2015-12-28      AT  Innsbruck  NaN  0.1     NaN   NaN  37.5   NaN   \n",
       "3      2015-12-28      AT       Linz  NaN  0.1     NaN   NaN  18.8   NaN   \n",
       "4      2015-12-28      AT   Salzburg  NaN  0.1     NaN   NaN  28.8   NaN   \n",
       "\n",
       "Specie  pm10   pm25  pol  psi  so2  uvi  \n",
       "0        8.0   70.0  NaN  NaN  1.9  NaN  \n",
       "1       32.0    NaN  NaN  NaN  3.6  NaN  \n",
       "2       44.0    NaN  NaN  NaN  3.6  NaN  \n",
       "3       40.0  108.0  NaN  NaN  2.1  NaN  \n",
       "4       21.0    NaN  NaN  NaN  2.6  NaN  "
      ]
     },
     "execution_count": 138,
     "metadata": {},
     "output_type": "execute_result"
    }
   ],
   "source": [
    "print(data_df_2016_H1.shape)\n",
    "data_df_2016_H1.head()"
   ]
  },
  {
   "cell_type": "code",
   "execution_count": 139,
   "id": "c9e17ceb",
   "metadata": {
    "execution": {
     "iopub.execute_input": "2025-01-27T13:49:58.030790Z",
     "iopub.status.busy": "2025-01-27T13:49:58.030390Z",
     "iopub.status.idle": "2025-01-27T13:49:58.051181Z",
     "shell.execute_reply": "2025-01-27T13:49:58.050081Z"
    },
    "executionInfo": {
     "elapsed": 8,
     "status": "ok",
     "timestamp": 1734445451627,
     "user": {
      "displayName": "Tahmida Majumder",
      "userId": "15415648085337204568"
     },
     "user_tz": -480
    },
    "id": "5Rhi5yskW0Jd",
    "outputId": "27a7de6a-d82c-44e0-91cd-a8473d11f26f",
    "papermill": {
     "duration": 0.082836,
     "end_time": "2025-01-27T13:49:58.053363",
     "exception": false,
     "start_time": "2025-01-27T13:49:57.970527",
     "status": "completed"
    },
    "tags": []
   },
   "outputs": [
    {
     "data": {
      "text/plain": [
       "Specie\n",
       "Date           0\n",
       "Country        0\n",
       "City           0\n",
       "aqi        83470\n",
       "co         30320\n",
       "mepaqi     86575\n",
       "neph       86753\n",
       "no2        11241\n",
       "o3         12670\n",
       "pm10       15432\n",
       "pm25       17453\n",
       "pol        86227\n",
       "psi        86575\n",
       "so2        25835\n",
       "uvi        84753\n",
       "dtype: int64"
      ]
     },
     "execution_count": 139,
     "metadata": {},
     "output_type": "execute_result"
    }
   ],
   "source": [
    "data_df_2016_H1.isnull().sum()"
   ]
  },
  {
   "cell_type": "code",
   "execution_count": null,
   "id": "82828c7c",
   "metadata": {
    "id": "S4jQH2d5Wa6V",
    "papermill": {
     "duration": 0.060335,
     "end_time": "2025-01-27T13:49:58.172307",
     "exception": false,
     "start_time": "2025-01-27T13:49:58.111972",
     "status": "completed"
    },
    "tags": []
   },
   "outputs": [],
   "source": []
  },
  {
   "cell_type": "markdown",
   "id": "9555ed81",
   "metadata": {
    "id": "_XHNv7igXJZF",
    "papermill": {
     "duration": 0.056915,
     "end_time": "2025-01-27T13:49:58.286926",
     "exception": false,
     "start_time": "2025-01-27T13:49:58.230011",
     "status": "completed"
    },
    "tags": []
   },
   "source": [
    "# 2015_H1"
   ]
  },
  {
   "cell_type": "code",
   "execution_count": 140,
   "id": "79b6f4ff",
   "metadata": {
    "execution": {
     "iopub.execute_input": "2025-01-27T13:49:58.402351Z",
     "iopub.status.busy": "2025-01-27T13:49:58.401935Z",
     "iopub.status.idle": "2025-01-27T13:49:58.737582Z",
     "shell.execute_reply": "2025-01-27T13:49:58.736434Z"
    },
    "executionInfo": {
     "elapsed": 619,
     "status": "ok",
     "timestamp": 1734445452240,
     "user": {
      "displayName": "Tahmida Majumder",
      "userId": "15415648085337204568"
     },
     "user_tz": -480
    },
    "id": "X7VepbA2XJZF",
    "outputId": "1c20e3b3-b3c9-447b-fece-e3185546fe3c",
    "papermill": {
     "duration": 0.395701,
     "end_time": "2025-01-27T13:49:58.739528",
     "exception": false,
     "start_time": "2025-01-27T13:49:58.343827",
     "status": "completed"
    },
    "tags": []
   },
   "outputs": [
    {
     "name": "stdout",
     "output_type": "stream",
     "text": [
      "(388980, 5)\n"
     ]
    },
    {
     "data": {
      "text/html": [
       "<div>\n",
       "<style scoped>\n",
       "    .dataframe tbody tr th:only-of-type {\n",
       "        vertical-align: middle;\n",
       "    }\n",
       "\n",
       "    .dataframe tbody tr th {\n",
       "        vertical-align: top;\n",
       "    }\n",
       "\n",
       "    .dataframe thead th {\n",
       "        text-align: right;\n",
       "    }\n",
       "</style>\n",
       "<table border=\"1\" class=\"dataframe\">\n",
       "  <thead>\n",
       "    <tr style=\"text-align: right;\">\n",
       "      <th></th>\n",
       "      <th>Date</th>\n",
       "      <th>Country</th>\n",
       "      <th>City</th>\n",
       "      <th>Specie</th>\n",
       "      <th>median</th>\n",
       "    </tr>\n",
       "  </thead>\n",
       "  <tbody>\n",
       "    <tr>\n",
       "      <th>0</th>\n",
       "      <td>1/6/2015</td>\n",
       "      <td>KR</td>\n",
       "      <td>Jeonju</td>\n",
       "      <td>co</td>\n",
       "      <td>4.5</td>\n",
       "    </tr>\n",
       "    <tr>\n",
       "      <th>1</th>\n",
       "      <td>1/22/2015</td>\n",
       "      <td>KR</td>\n",
       "      <td>Jeonju</td>\n",
       "      <td>co</td>\n",
       "      <td>6.7</td>\n",
       "    </tr>\n",
       "    <tr>\n",
       "      <th>2</th>\n",
       "      <td>3/30/2015</td>\n",
       "      <td>KR</td>\n",
       "      <td>Jeonju</td>\n",
       "      <td>co</td>\n",
       "      <td>5.6</td>\n",
       "    </tr>\n",
       "    <tr>\n",
       "      <th>3</th>\n",
       "      <td>5/27/2015</td>\n",
       "      <td>KR</td>\n",
       "      <td>Jeonju</td>\n",
       "      <td>co</td>\n",
       "      <td>3.4</td>\n",
       "    </tr>\n",
       "    <tr>\n",
       "      <th>4</th>\n",
       "      <td>2/3/2015</td>\n",
       "      <td>KR</td>\n",
       "      <td>Jeonju</td>\n",
       "      <td>co</td>\n",
       "      <td>7.8</td>\n",
       "    </tr>\n",
       "    <tr>\n",
       "      <th>5</th>\n",
       "      <td>2/11/2015</td>\n",
       "      <td>KR</td>\n",
       "      <td>Jeonju</td>\n",
       "      <td>co</td>\n",
       "      <td>6.7</td>\n",
       "    </tr>\n",
       "    <tr>\n",
       "      <th>6</th>\n",
       "      <td>2/18/2015</td>\n",
       "      <td>KR</td>\n",
       "      <td>Jeonju</td>\n",
       "      <td>co</td>\n",
       "      <td>6.7</td>\n",
       "    </tr>\n",
       "    <tr>\n",
       "      <th>7</th>\n",
       "      <td>3/5/2015</td>\n",
       "      <td>KR</td>\n",
       "      <td>Jeonju</td>\n",
       "      <td>co</td>\n",
       "      <td>5.6</td>\n",
       "    </tr>\n",
       "    <tr>\n",
       "      <th>8</th>\n",
       "      <td>3/19/2015</td>\n",
       "      <td>KR</td>\n",
       "      <td>Jeonju</td>\n",
       "      <td>co</td>\n",
       "      <td>4.5</td>\n",
       "    </tr>\n",
       "    <tr>\n",
       "      <th>9</th>\n",
       "      <td>4/4/2015</td>\n",
       "      <td>KR</td>\n",
       "      <td>Jeonju</td>\n",
       "      <td>co</td>\n",
       "      <td>4.5</td>\n",
       "    </tr>\n",
       "  </tbody>\n",
       "</table>\n",
       "</div>"
      ],
      "text/plain": [
       "        Date Country    City Specie  median\n",
       "0   1/6/2015      KR  Jeonju     co     4.5\n",
       "1  1/22/2015      KR  Jeonju     co     6.7\n",
       "2  3/30/2015      KR  Jeonju     co     5.6\n",
       "3  5/27/2015      KR  Jeonju     co     3.4\n",
       "4   2/3/2015      KR  Jeonju     co     7.8\n",
       "5  2/11/2015      KR  Jeonju     co     6.7\n",
       "6  2/18/2015      KR  Jeonju     co     6.7\n",
       "7   3/5/2015      KR  Jeonju     co     5.6\n",
       "8  3/19/2015      KR  Jeonju     co     4.5\n",
       "9   4/4/2015      KR  Jeonju     co     4.5"
      ]
     },
     "execution_count": 140,
     "metadata": {},
     "output_type": "execute_result"
    }
   ],
   "source": [
    "# Loading the data\n",
    "raw_data_2015_H1 = pd.read_csv(r\"/kaggle/input/complete-raw-median/waqi-covid19-airqualitydata-2015H1.csv\")\n",
    "\n",
    "# print the shape\n",
    "print(raw_data_2015_H1.shape)\n",
    "\n",
    "#runs the first 5 rows\n",
    "raw_data_2015_H1.head(10)"
   ]
  },
  {
   "cell_type": "code",
   "execution_count": 141,
   "id": "bd4d16cf",
   "metadata": {
    "execution": {
     "iopub.execute_input": "2025-01-27T13:49:58.857797Z",
     "iopub.status.busy": "2025-01-27T13:49:58.857429Z",
     "iopub.status.idle": "2025-01-27T13:49:58.918565Z",
     "shell.execute_reply": "2025-01-27T13:49:58.917408Z"
    },
    "id": "kPDM2cWjXJZF",
    "papermill": {
     "duration": 0.122068,
     "end_time": "2025-01-27T13:49:58.920938",
     "exception": false,
     "start_time": "2025-01-27T13:49:58.798870",
     "status": "completed"
    },
    "tags": []
   },
   "outputs": [],
   "source": [
    "# Convert 'Date' to datetime\n",
    "raw_data_2015_H1['Date'] = pd.to_datetime(raw_data_2015_H1['Date'])"
   ]
  },
  {
   "cell_type": "code",
   "execution_count": 142,
   "id": "8c2652ac",
   "metadata": {
    "execution": {
     "iopub.execute_input": "2025-01-27T13:49:59.039073Z",
     "iopub.status.busy": "2025-01-27T13:49:59.038655Z",
     "iopub.status.idle": "2025-01-27T13:49:59.045460Z",
     "shell.execute_reply": "2025-01-27T13:49:59.044165Z"
    },
    "executionInfo": {
     "elapsed": 8,
     "status": "ok",
     "timestamp": 1734445452240,
     "user": {
      "displayName": "Tahmida Majumder",
      "userId": "15415648085337204568"
     },
     "user_tz": -480
    },
    "id": "Z3QTA-YXXJZF",
    "outputId": "ba2ac09d-6e6e-4991-927b-aa4345128eb9",
    "papermill": {
     "duration": 0.06622,
     "end_time": "2025-01-27T13:49:59.047334",
     "exception": false,
     "start_time": "2025-01-27T13:49:58.981114",
     "status": "completed"
    },
    "tags": []
   },
   "outputs": [
    {
     "data": {
      "text/plain": [
       "(388980, 5)"
      ]
     },
     "execution_count": 142,
     "metadata": {},
     "output_type": "execute_result"
    }
   ],
   "source": [
    "raw_data_2015_H1.shape"
   ]
  },
  {
   "cell_type": "code",
   "execution_count": 143,
   "id": "4dd27e34",
   "metadata": {
    "execution": {
     "iopub.execute_input": "2025-01-27T13:49:59.165289Z",
     "iopub.status.busy": "2025-01-27T13:49:59.164912Z",
     "iopub.status.idle": "2025-01-27T13:49:59.439087Z",
     "shell.execute_reply": "2025-01-27T13:49:59.437756Z"
    },
    "id": "SB7P9HiuXJZG",
    "papermill": {
     "duration": 0.336681,
     "end_time": "2025-01-27T13:49:59.441444",
     "exception": false,
     "start_time": "2025-01-27T13:49:59.104763",
     "status": "completed"
    },
    "tags": []
   },
   "outputs": [],
   "source": [
    "# Pivot the data\n",
    "data_df_2015_H1 = raw_data_2015_H1.pivot_table(\n",
    "    index=['Date', 'Country', 'City'],  # Grouping columns\n",
    "    columns='Specie',                  # Unique values become columns\n",
    "    values='median',                   # Values to aggregate\n",
    "    aggfunc='mean'                     # Aggregation function\n",
    ").reset_index()"
   ]
  },
  {
   "cell_type": "code",
   "execution_count": 144,
   "id": "1bf7f491",
   "metadata": {
    "execution": {
     "iopub.execute_input": "2025-01-27T13:49:59.615301Z",
     "iopub.status.busy": "2025-01-27T13:49:59.614925Z",
     "iopub.status.idle": "2025-01-27T13:49:59.632739Z",
     "shell.execute_reply": "2025-01-27T13:49:59.631664Z"
    },
    "executionInfo": {
     "elapsed": 10,
     "status": "ok",
     "timestamp": 1734445452894,
     "user": {
      "displayName": "Tahmida Majumder",
      "userId": "15415648085337204568"
     },
     "user_tz": -480
    },
    "id": "7OXNbflxXJZG",
    "outputId": "7379c4e2-03de-4e8c-8769-416805c32492",
    "papermill": {
     "duration": 0.076955,
     "end_time": "2025-01-27T13:49:59.634514",
     "exception": false,
     "start_time": "2025-01-27T13:49:59.557559",
     "status": "completed"
    },
    "tags": []
   },
   "outputs": [
    {
     "name": "stdout",
     "output_type": "stream",
     "text": [
      "(83090, 14)\n"
     ]
    },
    {
     "data": {
      "text/html": [
       "<div>\n",
       "<style scoped>\n",
       "    .dataframe tbody tr th:only-of-type {\n",
       "        vertical-align: middle;\n",
       "    }\n",
       "\n",
       "    .dataframe tbody tr th {\n",
       "        vertical-align: top;\n",
       "    }\n",
       "\n",
       "    .dataframe thead th {\n",
       "        text-align: right;\n",
       "    }\n",
       "</style>\n",
       "<table border=\"1\" class=\"dataframe\">\n",
       "  <thead>\n",
       "    <tr style=\"text-align: right;\">\n",
       "      <th>Specie</th>\n",
       "      <th>Date</th>\n",
       "      <th>Country</th>\n",
       "      <th>City</th>\n",
       "      <th>aqi</th>\n",
       "      <th>co</th>\n",
       "      <th>mepaqi</th>\n",
       "      <th>neph</th>\n",
       "      <th>no2</th>\n",
       "      <th>o3</th>\n",
       "      <th>pm10</th>\n",
       "      <th>pm25</th>\n",
       "      <th>psi</th>\n",
       "      <th>so2</th>\n",
       "      <th>uvi</th>\n",
       "    </tr>\n",
       "  </thead>\n",
       "  <tbody>\n",
       "    <tr>\n",
       "      <th>0</th>\n",
       "      <td>2014-12-29</td>\n",
       "      <td>AT</td>\n",
       "      <td>Graz</td>\n",
       "      <td>NaN</td>\n",
       "      <td>0.1</td>\n",
       "      <td>NaN</td>\n",
       "      <td>NaN</td>\n",
       "      <td>9.0</td>\n",
       "      <td>NaN</td>\n",
       "      <td>13.0</td>\n",
       "      <td>NaN</td>\n",
       "      <td>NaN</td>\n",
       "      <td>1.6</td>\n",
       "      <td>NaN</td>\n",
       "    </tr>\n",
       "    <tr>\n",
       "      <th>1</th>\n",
       "      <td>2014-12-29</td>\n",
       "      <td>AT</td>\n",
       "      <td>Innsbruck</td>\n",
       "      <td>NaN</td>\n",
       "      <td>0.1</td>\n",
       "      <td>NaN</td>\n",
       "      <td>NaN</td>\n",
       "      <td>25.6</td>\n",
       "      <td>NaN</td>\n",
       "      <td>25.0</td>\n",
       "      <td>NaN</td>\n",
       "      <td>NaN</td>\n",
       "      <td>1.6</td>\n",
       "      <td>NaN</td>\n",
       "    </tr>\n",
       "    <tr>\n",
       "      <th>2</th>\n",
       "      <td>2014-12-29</td>\n",
       "      <td>AT</td>\n",
       "      <td>Linz</td>\n",
       "      <td>NaN</td>\n",
       "      <td>0.1</td>\n",
       "      <td>NaN</td>\n",
       "      <td>NaN</td>\n",
       "      <td>14.2</td>\n",
       "      <td>NaN</td>\n",
       "      <td>25.0</td>\n",
       "      <td>74.0</td>\n",
       "      <td>NaN</td>\n",
       "      <td>2.1</td>\n",
       "      <td>NaN</td>\n",
       "    </tr>\n",
       "    <tr>\n",
       "      <th>3</th>\n",
       "      <td>2014-12-29</td>\n",
       "      <td>AT</td>\n",
       "      <td>Salzburg</td>\n",
       "      <td>NaN</td>\n",
       "      <td>0.1</td>\n",
       "      <td>NaN</td>\n",
       "      <td>NaN</td>\n",
       "      <td>21.1</td>\n",
       "      <td>NaN</td>\n",
       "      <td>21.0</td>\n",
       "      <td>NaN</td>\n",
       "      <td>NaN</td>\n",
       "      <td>2.1</td>\n",
       "      <td>NaN</td>\n",
       "    </tr>\n",
       "    <tr>\n",
       "      <th>4</th>\n",
       "      <td>2014-12-29</td>\n",
       "      <td>AT</td>\n",
       "      <td>Vienna</td>\n",
       "      <td>NaN</td>\n",
       "      <td>0.1</td>\n",
       "      <td>NaN</td>\n",
       "      <td>NaN</td>\n",
       "      <td>9.0</td>\n",
       "      <td>NaN</td>\n",
       "      <td>20.0</td>\n",
       "      <td>65.0</td>\n",
       "      <td>NaN</td>\n",
       "      <td>2.6</td>\n",
       "      <td>NaN</td>\n",
       "    </tr>\n",
       "  </tbody>\n",
       "</table>\n",
       "</div>"
      ],
      "text/plain": [
       "Specie       Date Country       City  aqi   co  mepaqi  neph   no2  o3  pm10  \\\n",
       "0      2014-12-29      AT       Graz  NaN  0.1     NaN   NaN   9.0 NaN  13.0   \n",
       "1      2014-12-29      AT  Innsbruck  NaN  0.1     NaN   NaN  25.6 NaN  25.0   \n",
       "2      2014-12-29      AT       Linz  NaN  0.1     NaN   NaN  14.2 NaN  25.0   \n",
       "3      2014-12-29      AT   Salzburg  NaN  0.1     NaN   NaN  21.1 NaN  21.0   \n",
       "4      2014-12-29      AT     Vienna  NaN  0.1     NaN   NaN   9.0 NaN  20.0   \n",
       "\n",
       "Specie  pm25  psi  so2  uvi  \n",
       "0        NaN  NaN  1.6  NaN  \n",
       "1        NaN  NaN  1.6  NaN  \n",
       "2       74.0  NaN  2.1  NaN  \n",
       "3        NaN  NaN  2.1  NaN  \n",
       "4       65.0  NaN  2.6  NaN  "
      ]
     },
     "execution_count": 144,
     "metadata": {},
     "output_type": "execute_result"
    }
   ],
   "source": [
    "print(data_df_2015_H1.shape)\n",
    "data_df_2015_H1.head()"
   ]
  },
  {
   "cell_type": "code",
   "execution_count": 145,
   "id": "a6cf86f6",
   "metadata": {
    "execution": {
     "iopub.execute_input": "2025-01-27T13:49:59.752102Z",
     "iopub.status.busy": "2025-01-27T13:49:59.751694Z",
     "iopub.status.idle": "2025-01-27T13:49:59.772301Z",
     "shell.execute_reply": "2025-01-27T13:49:59.771151Z"
    },
    "executionInfo": {
     "elapsed": 7,
     "status": "ok",
     "timestamp": 1734445452894,
     "user": {
      "displayName": "Tahmida Majumder",
      "userId": "15415648085337204568"
     },
     "user_tz": -480
    },
    "id": "SFCgjDgeXJZG",
    "outputId": "c7f73fa5-b55c-4f57-a58b-29f0509c3a05",
    "papermill": {
     "duration": 0.082443,
     "end_time": "2025-01-27T13:49:59.774381",
     "exception": false,
     "start_time": "2025-01-27T13:49:59.691938",
     "status": "completed"
    },
    "tags": []
   },
   "outputs": [
    {
     "data": {
      "text/plain": [
       "Specie\n",
       "Date           0\n",
       "Country        0\n",
       "City           0\n",
       "aqi        80383\n",
       "co         30736\n",
       "mepaqi     82901\n",
       "neph       82526\n",
       "no2        12888\n",
       "o3         14612\n",
       "pm10       14221\n",
       "pm25       18769\n",
       "psi        82914\n",
       "so2        24251\n",
       "uvi        80809\n",
       "dtype: int64"
      ]
     },
     "execution_count": 145,
     "metadata": {},
     "output_type": "execute_result"
    }
   ],
   "source": [
    "data_df_2015_H1.isnull().sum()"
   ]
  },
  {
   "cell_type": "markdown",
   "id": "b0fe82f7",
   "metadata": {
    "id": "sj16G4xjbPmz",
    "papermill": {
     "duration": 0.057982,
     "end_time": "2025-01-27T13:49:59.891002",
     "exception": false,
     "start_time": "2025-01-27T13:49:59.833020",
     "status": "completed"
    },
    "tags": []
   },
   "source": [
    "# **Combine 2015-2024**"
   ]
  },
  {
   "cell_type": "code",
   "execution_count": 146,
   "id": "42a04cad",
   "metadata": {
    "execution": {
     "iopub.execute_input": "2025-01-27T13:50:00.010793Z",
     "iopub.status.busy": "2025-01-27T13:50:00.010402Z",
     "iopub.status.idle": "2025-01-27T13:50:00.218975Z",
     "shell.execute_reply": "2025-01-27T13:50:00.217838Z"
    },
    "id": "aXOUsDcDkm5T",
    "papermill": {
     "duration": 0.268934,
     "end_time": "2025-01-27T13:50:00.220946",
     "exception": false,
     "start_time": "2025-01-27T13:49:59.952012",
     "status": "completed"
    },
    "tags": []
   },
   "outputs": [],
   "source": [
    "data_2015_2024 = pd.concat([data_df_2015_H1, data_df_2016_H1, data_df_2017_H1, data_df_2018_H1,\n",
    "                            data_df_2019_Q1, data_df_2019_Q2, data_df_2019_Q3, data_df_2019_Q4,\n",
    "                            data_df_2020_Q1, data_df_2020_Q2, data_df_2020_Q3, data_df_2020_Q4,\n",
    "                            data_df_2021_Q1, data_df_2021_Q2, data_df_2021_Q3, data_df_2021_Q4,\n",
    "                            data_df_2022_Q2, data_df_2022_Q3, data_df_2022_Q4,\n",
    "                            data_df_2023_Q1, data_df_2023_Q2, data_df_2023_Q3, data_df_2023_Q4,\n",
    "                            data_df_2024], ignore_index=True)"
   ]
  },
  {
   "cell_type": "code",
   "execution_count": 147,
   "id": "e461ecdc",
   "metadata": {
    "execution": {
     "iopub.execute_input": "2025-01-27T13:50:00.339005Z",
     "iopub.status.busy": "2025-01-27T13:50:00.338634Z",
     "iopub.status.idle": "2025-01-27T13:50:00.344668Z",
     "shell.execute_reply": "2025-01-27T13:50:00.343586Z"
    },
    "executionInfo": {
     "elapsed": 416,
     "status": "ok",
     "timestamp": 1734445678440,
     "user": {
      "displayName": "Tahmida Majumder",
      "userId": "15415648085337204568"
     },
     "user_tz": -480
    },
    "id": "xMdnjpaqj1xp",
    "outputId": "c297388a-7bbc-46a4-f802-5c00edd37d28",
    "papermill": {
     "duration": 0.068712,
     "end_time": "2025-01-27T13:50:00.346495",
     "exception": false,
     "start_time": "2025-01-27T13:50:00.277783",
     "status": "completed"
    },
    "tags": []
   },
   "outputs": [
    {
     "data": {
      "text/plain": [
       "(1465292, 27)"
      ]
     },
     "execution_count": 147,
     "metadata": {},
     "output_type": "execute_result"
    }
   ],
   "source": [
    "data_2015_2024.shape"
   ]
  },
  {
   "cell_type": "code",
   "execution_count": 148,
   "id": "09d8807f",
   "metadata": {
    "execution": {
     "iopub.execute_input": "2025-01-27T13:50:00.465421Z",
     "iopub.status.busy": "2025-01-27T13:50:00.465027Z",
     "iopub.status.idle": "2025-01-27T13:50:00.784756Z",
     "shell.execute_reply": "2025-01-27T13:50:00.783445Z"
    },
    "executionInfo": {
     "elapsed": 371,
     "status": "ok",
     "timestamp": 1734445681461,
     "user": {
      "displayName": "Tahmida Majumder",
      "userId": "15415648085337204568"
     },
     "user_tz": -480
    },
    "id": "KXv8f-CUbzgh",
    "outputId": "841c597e-0a59-4318-c87e-59c9927581a3",
    "papermill": {
     "duration": 0.38094,
     "end_time": "2025-01-27T13:50:00.786522",
     "exception": false,
     "start_time": "2025-01-27T13:50:00.405582",
     "status": "completed"
    },
    "tags": []
   },
   "outputs": [
    {
     "data": {
      "text/plain": [
       "Specie\n",
       "Date                   0\n",
       "Country                0\n",
       "City                   0\n",
       "aqi              1425087\n",
       "co                543338\n",
       "mepaqi           1462465\n",
       "neph             1460620\n",
       "no2               252644\n",
       "o3                334264\n",
       "pm10              270226\n",
       "pm25              231892\n",
       "psi              1464929\n",
       "so2               454404\n",
       "uvi              1436260\n",
       "pol              1460334\n",
       "d                1463261\n",
       "humidity          353390\n",
       "pm1              1459918\n",
       "pressure          357472\n",
       "temperature       352369\n",
       "wd               1384106\n",
       "wind-speed        415550\n",
       "precipitation    1345013\n",
       "wind-gust         857154\n",
       "dew               616231\n",
       "wind gust        1433527\n",
       "wind speed       1415541\n",
       "dtype: int64"
      ]
     },
     "execution_count": 148,
     "metadata": {},
     "output_type": "execute_result"
    }
   ],
   "source": [
    "data_2015_2024.isnull().sum()"
   ]
  },
  {
   "cell_type": "code",
   "execution_count": 149,
   "id": "8b72dac5",
   "metadata": {
    "execution": {
     "iopub.execute_input": "2025-01-27T13:50:00.906435Z",
     "iopub.status.busy": "2025-01-27T13:50:00.906014Z",
     "iopub.status.idle": "2025-01-27T13:50:00.932187Z",
     "shell.execute_reply": "2025-01-27T13:50:00.931035Z"
    },
    "executionInfo": {
     "elapsed": 618,
     "status": "ok",
     "timestamp": 1734445685400,
     "user": {
      "displayName": "Tahmida Majumder",
      "userId": "15415648085337204568"
     },
     "user_tz": -480
    },
    "id": "mssZYD39j11H",
    "outputId": "c33709e0-d3d8-4bd1-e283-1a1b253f7681",
    "papermill": {
     "duration": 0.086613,
     "end_time": "2025-01-27T13:50:00.934095",
     "exception": false,
     "start_time": "2025-01-27T13:50:00.847482",
     "status": "completed"
    },
    "tags": []
   },
   "outputs": [
    {
     "data": {
      "text/html": [
       "<div>\n",
       "<style scoped>\n",
       "    .dataframe tbody tr th:only-of-type {\n",
       "        vertical-align: middle;\n",
       "    }\n",
       "\n",
       "    .dataframe tbody tr th {\n",
       "        vertical-align: top;\n",
       "    }\n",
       "\n",
       "    .dataframe thead th {\n",
       "        text-align: right;\n",
       "    }\n",
       "</style>\n",
       "<table border=\"1\" class=\"dataframe\">\n",
       "  <thead>\n",
       "    <tr style=\"text-align: right;\">\n",
       "      <th>Specie</th>\n",
       "      <th>Date</th>\n",
       "      <th>Country</th>\n",
       "      <th>City</th>\n",
       "      <th>aqi</th>\n",
       "      <th>co</th>\n",
       "      <th>mepaqi</th>\n",
       "      <th>neph</th>\n",
       "      <th>no2</th>\n",
       "      <th>o3</th>\n",
       "      <th>pm10</th>\n",
       "      <th>...</th>\n",
       "      <th>pm1</th>\n",
       "      <th>pressure</th>\n",
       "      <th>temperature</th>\n",
       "      <th>wd</th>\n",
       "      <th>wind-speed</th>\n",
       "      <th>precipitation</th>\n",
       "      <th>wind-gust</th>\n",
       "      <th>dew</th>\n",
       "      <th>wind gust</th>\n",
       "      <th>wind speed</th>\n",
       "    </tr>\n",
       "  </thead>\n",
       "  <tbody>\n",
       "    <tr>\n",
       "      <th>0</th>\n",
       "      <td>2014-12-29</td>\n",
       "      <td>AT</td>\n",
       "      <td>Graz</td>\n",
       "      <td>NaN</td>\n",
       "      <td>0.1</td>\n",
       "      <td>NaN</td>\n",
       "      <td>NaN</td>\n",
       "      <td>9.0</td>\n",
       "      <td>NaN</td>\n",
       "      <td>13.0</td>\n",
       "      <td>...</td>\n",
       "      <td>NaN</td>\n",
       "      <td>NaN</td>\n",
       "      <td>NaN</td>\n",
       "      <td>NaN</td>\n",
       "      <td>NaN</td>\n",
       "      <td>NaN</td>\n",
       "      <td>NaN</td>\n",
       "      <td>NaN</td>\n",
       "      <td>NaN</td>\n",
       "      <td>NaN</td>\n",
       "    </tr>\n",
       "    <tr>\n",
       "      <th>1</th>\n",
       "      <td>2014-12-29</td>\n",
       "      <td>AT</td>\n",
       "      <td>Innsbruck</td>\n",
       "      <td>NaN</td>\n",
       "      <td>0.1</td>\n",
       "      <td>NaN</td>\n",
       "      <td>NaN</td>\n",
       "      <td>25.6</td>\n",
       "      <td>NaN</td>\n",
       "      <td>25.0</td>\n",
       "      <td>...</td>\n",
       "      <td>NaN</td>\n",
       "      <td>NaN</td>\n",
       "      <td>NaN</td>\n",
       "      <td>NaN</td>\n",
       "      <td>NaN</td>\n",
       "      <td>NaN</td>\n",
       "      <td>NaN</td>\n",
       "      <td>NaN</td>\n",
       "      <td>NaN</td>\n",
       "      <td>NaN</td>\n",
       "    </tr>\n",
       "    <tr>\n",
       "      <th>2</th>\n",
       "      <td>2014-12-29</td>\n",
       "      <td>AT</td>\n",
       "      <td>Linz</td>\n",
       "      <td>NaN</td>\n",
       "      <td>0.1</td>\n",
       "      <td>NaN</td>\n",
       "      <td>NaN</td>\n",
       "      <td>14.2</td>\n",
       "      <td>NaN</td>\n",
       "      <td>25.0</td>\n",
       "      <td>...</td>\n",
       "      <td>NaN</td>\n",
       "      <td>NaN</td>\n",
       "      <td>NaN</td>\n",
       "      <td>NaN</td>\n",
       "      <td>NaN</td>\n",
       "      <td>NaN</td>\n",
       "      <td>NaN</td>\n",
       "      <td>NaN</td>\n",
       "      <td>NaN</td>\n",
       "      <td>NaN</td>\n",
       "    </tr>\n",
       "    <tr>\n",
       "      <th>3</th>\n",
       "      <td>2014-12-29</td>\n",
       "      <td>AT</td>\n",
       "      <td>Salzburg</td>\n",
       "      <td>NaN</td>\n",
       "      <td>0.1</td>\n",
       "      <td>NaN</td>\n",
       "      <td>NaN</td>\n",
       "      <td>21.1</td>\n",
       "      <td>NaN</td>\n",
       "      <td>21.0</td>\n",
       "      <td>...</td>\n",
       "      <td>NaN</td>\n",
       "      <td>NaN</td>\n",
       "      <td>NaN</td>\n",
       "      <td>NaN</td>\n",
       "      <td>NaN</td>\n",
       "      <td>NaN</td>\n",
       "      <td>NaN</td>\n",
       "      <td>NaN</td>\n",
       "      <td>NaN</td>\n",
       "      <td>NaN</td>\n",
       "    </tr>\n",
       "    <tr>\n",
       "      <th>4</th>\n",
       "      <td>2014-12-29</td>\n",
       "      <td>AT</td>\n",
       "      <td>Vienna</td>\n",
       "      <td>NaN</td>\n",
       "      <td>0.1</td>\n",
       "      <td>NaN</td>\n",
       "      <td>NaN</td>\n",
       "      <td>9.0</td>\n",
       "      <td>NaN</td>\n",
       "      <td>20.0</td>\n",
       "      <td>...</td>\n",
       "      <td>NaN</td>\n",
       "      <td>NaN</td>\n",
       "      <td>NaN</td>\n",
       "      <td>NaN</td>\n",
       "      <td>NaN</td>\n",
       "      <td>NaN</td>\n",
       "      <td>NaN</td>\n",
       "      <td>NaN</td>\n",
       "      <td>NaN</td>\n",
       "      <td>NaN</td>\n",
       "    </tr>\n",
       "  </tbody>\n",
       "</table>\n",
       "<p>5 rows × 27 columns</p>\n",
       "</div>"
      ],
      "text/plain": [
       "Specie       Date Country       City  aqi   co  mepaqi  neph   no2  o3  pm10  \\\n",
       "0      2014-12-29      AT       Graz  NaN  0.1     NaN   NaN   9.0 NaN  13.0   \n",
       "1      2014-12-29      AT  Innsbruck  NaN  0.1     NaN   NaN  25.6 NaN  25.0   \n",
       "2      2014-12-29      AT       Linz  NaN  0.1     NaN   NaN  14.2 NaN  25.0   \n",
       "3      2014-12-29      AT   Salzburg  NaN  0.1     NaN   NaN  21.1 NaN  21.0   \n",
       "4      2014-12-29      AT     Vienna  NaN  0.1     NaN   NaN   9.0 NaN  20.0   \n",
       "\n",
       "Specie  ...  pm1  pressure  temperature  wd  wind-speed  precipitation  \\\n",
       "0       ...  NaN       NaN          NaN NaN         NaN            NaN   \n",
       "1       ...  NaN       NaN          NaN NaN         NaN            NaN   \n",
       "2       ...  NaN       NaN          NaN NaN         NaN            NaN   \n",
       "3       ...  NaN       NaN          NaN NaN         NaN            NaN   \n",
       "4       ...  NaN       NaN          NaN NaN         NaN            NaN   \n",
       "\n",
       "Specie  wind-gust  dew  wind gust  wind speed  \n",
       "0             NaN  NaN        NaN         NaN  \n",
       "1             NaN  NaN        NaN         NaN  \n",
       "2             NaN  NaN        NaN         NaN  \n",
       "3             NaN  NaN        NaN         NaN  \n",
       "4             NaN  NaN        NaN         NaN  \n",
       "\n",
       "[5 rows x 27 columns]"
      ]
     },
     "execution_count": 149,
     "metadata": {},
     "output_type": "execute_result"
    }
   ],
   "source": [
    "data_2015_2024.head()"
   ]
  },
  {
   "cell_type": "code",
   "execution_count": 150,
   "id": "1d4163fc",
   "metadata": {
    "execution": {
     "iopub.execute_input": "2025-01-27T13:50:01.054410Z",
     "iopub.status.busy": "2025-01-27T13:50:01.053994Z",
     "iopub.status.idle": "2025-01-27T13:50:01.073115Z",
     "shell.execute_reply": "2025-01-27T13:50:01.071891Z"
    },
    "executionInfo": {
     "elapsed": 468,
     "status": "ok",
     "timestamp": 1734445689653,
     "user": {
      "displayName": "Tahmida Majumder",
      "userId": "15415648085337204568"
     },
     "user_tz": -480
    },
    "id": "bZeT3eCFAnGw",
    "outputId": "ac3572b3-a2ef-40bc-f5ec-4d1351f35263",
    "papermill": {
     "duration": 0.08092,
     "end_time": "2025-01-27T13:50:01.075157",
     "exception": false,
     "start_time": "2025-01-27T13:50:00.994237",
     "status": "completed"
    },
    "tags": []
   },
   "outputs": [
    {
     "name": "stdout",
     "output_type": "stream",
     "text": [
      "Minimum date: 2014-12-29 00:00:00\n",
      "Maximum date: 2025-01-09 00:00:00\n"
     ]
    }
   ],
   "source": [
    "# Find the minimum and maximum dates\n",
    "min_date = data_2015_2024['Date'].min()\n",
    "max_date = data_2015_2024['Date'].max()\n",
    "\n",
    "print('Minimum date:', min_date)\n",
    "print('Maximum date:', max_date)"
   ]
  },
  {
   "cell_type": "code",
   "execution_count": 151,
   "id": "b64c0313",
   "metadata": {
    "execution": {
     "iopub.execute_input": "2025-01-27T13:50:01.195849Z",
     "iopub.status.busy": "2025-01-27T13:50:01.195432Z",
     "iopub.status.idle": "2025-01-27T13:50:01.199788Z",
     "shell.execute_reply": "2025-01-27T13:50:01.198671Z"
    },
    "id": "QCR5xMN0_UkA",
    "papermill": {
     "duration": 0.068163,
     "end_time": "2025-01-27T13:50:01.201505",
     "exception": false,
     "start_time": "2025-01-27T13:50:01.133342",
     "status": "completed"
    },
    "tags": []
   },
   "outputs": [],
   "source": [
    "import os"
   ]
  },
  {
   "cell_type": "code",
   "execution_count": 152,
   "id": "fafcf0c5",
   "metadata": {
    "execution": {
     "iopub.execute_input": "2025-01-27T13:50:01.318986Z",
     "iopub.status.busy": "2025-01-27T13:50:01.318626Z",
     "iopub.status.idle": "2025-01-27T13:50:21.267281Z",
     "shell.execute_reply": "2025-01-27T13:50:21.266028Z"
    },
    "id": "ysJ7Sc3w_lSR",
    "papermill": {
     "duration": 20.010187,
     "end_time": "2025-01-27T13:50:21.269568",
     "exception": false,
     "start_time": "2025-01-27T13:50:01.259381",
     "status": "completed"
    },
    "tags": []
   },
   "outputs": [],
   "source": [
    "os.makedirs('/kaggle/working', exist_ok=True)\n",
    "data_2015_2024.to_csv('/kaggle/working/data_2015_2024.csv')"
   ]
  }
 ],
 "metadata": {
  "colab": {
   "authorship_tag": "ABX9TyM2h2pBYoWj/rl0Kxoyfj8H",
   "provenance": []
  },
  "kaggle": {
   "accelerator": "none",
   "dataSources": [
    {
     "datasetId": 6556487,
     "sourceId": 10593260,
     "sourceType": "datasetVersion"
    }
   ],
   "dockerImageVersionId": 30839,
   "isGpuEnabled": false,
   "isInternetEnabled": false,
   "language": "python",
   "sourceType": "notebook"
  },
  "kernelspec": {
   "display_name": "Python 3",
   "language": "python",
   "name": "python3"
  },
  "language_info": {
   "codemirror_mode": {
    "name": "ipython",
    "version": 3
   },
   "file_extension": ".py",
   "mimetype": "text/x-python",
   "name": "python",
   "nbconvert_exporter": "python",
   "pygments_lexer": "ipython3",
   "version": "3.10.12"
  },
  "papermill": {
   "default_parameters": {},
   "duration": 73.777997,
   "end_time": "2025-01-27T13:50:22.150740",
   "environment_variables": {},
   "exception": null,
   "input_path": "__notebook__.ipynb",
   "output_path": "__notebook__.ipynb",
   "parameters": {},
   "start_time": "2025-01-27T13:49:08.372743",
   "version": "2.6.0"
  }
 },
 "nbformat": 4,
 "nbformat_minor": 5
}
