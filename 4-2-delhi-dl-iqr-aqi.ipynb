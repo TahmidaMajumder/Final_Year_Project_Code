{
 "cells": [
  {
   "cell_type": "code",
   "execution_count": 1,
   "id": "f42a568a",
   "metadata": {
    "_cell_guid": "0bd5fd8f-4de5-406f-92da-d16f3c990795",
    "_uuid": "63737120-456d-498d-a950-7893b9099e72",
    "collapsed": false,
    "execution": {
     "iopub.execute_input": "2025-01-27T21:20:24.876978Z",
     "iopub.status.busy": "2025-01-27T21:20:24.876670Z",
     "iopub.status.idle": "2025-01-27T21:20:28.218701Z",
     "shell.execute_reply": "2025-01-27T21:20:28.217675Z"
    },
    "jupyter": {
     "outputs_hidden": false
    },
    "papermill": {
     "duration": 3.35906,
     "end_time": "2025-01-27T21:20:28.220626",
     "exception": false,
     "start_time": "2025-01-27T21:20:24.861566",
     "status": "completed"
    },
    "tags": []
   },
   "outputs": [],
   "source": [
    "# Packages / libraries\n",
    "import os #provides functions for interacting with the operating system\n",
    "import numpy as np\n",
    "import pandas as pd\n",
    "from matplotlib import pyplot as plt\n",
    "import seaborn as sns\n",
    "\n",
    "from sklearn.preprocessing import MinMaxScaler\n",
    "from sklearn.preprocessing import StandardScaler\n",
    "from sklearn.metrics import mean_squared_error, mean_absolute_error, r2_score\n",
    "\n",
    "# remove warnings\n",
    "import warnings\n",
    "warnings.simplefilter(action='ignore', category=RuntimeWarning)"
   ]
  },
  {
   "cell_type": "markdown",
   "id": "ebe595be",
   "metadata": {
    "papermill": {
     "duration": 0.012518,
     "end_time": "2025-01-27T21:20:28.246551",
     "exception": false,
     "start_time": "2025-01-27T21:20:28.234033",
     "status": "completed"
    },
    "tags": []
   },
   "source": [
    "# **1. Loading Dataset**"
   ]
  },
  {
   "cell_type": "code",
   "execution_count": 2,
   "id": "530dbdbe",
   "metadata": {
    "execution": {
     "iopub.execute_input": "2025-01-27T21:20:28.274158Z",
     "iopub.status.busy": "2025-01-27T21:20:28.273514Z",
     "iopub.status.idle": "2025-01-27T21:20:28.331595Z",
     "shell.execute_reply": "2025-01-27T21:20:28.330664Z"
    },
    "papermill": {
     "duration": 0.074396,
     "end_time": "2025-01-27T21:20:28.333621",
     "exception": false,
     "start_time": "2025-01-27T21:20:28.259225",
     "status": "completed"
    },
    "tags": []
   },
   "outputs": [
    {
     "name": "stdout",
     "output_type": "stream",
     "text": [
      "(2399, 12)\n"
     ]
    },
    {
     "data": {
      "text/html": [
       "<div>\n",
       "<style scoped>\n",
       "    .dataframe tbody tr th:only-of-type {\n",
       "        vertical-align: middle;\n",
       "    }\n",
       "\n",
       "    .dataframe tbody tr th {\n",
       "        vertical-align: top;\n",
       "    }\n",
       "\n",
       "    .dataframe thead th {\n",
       "        text-align: right;\n",
       "    }\n",
       "</style>\n",
       "<table border=\"1\" class=\"dataframe\">\n",
       "  <thead>\n",
       "    <tr style=\"text-align: right;\">\n",
       "      <th></th>\n",
       "      <th>Date</th>\n",
       "      <th>co</th>\n",
       "      <th>no2</th>\n",
       "      <th>o3</th>\n",
       "      <th>pm10</th>\n",
       "      <th>pm25</th>\n",
       "      <th>so2</th>\n",
       "      <th>humidity</th>\n",
       "      <th>pressure</th>\n",
       "      <th>temperature</th>\n",
       "      <th>wind-speed</th>\n",
       "      <th>Country_City</th>\n",
       "    </tr>\n",
       "  </thead>\n",
       "  <tbody>\n",
       "    <tr>\n",
       "      <th>0</th>\n",
       "      <td>2014-12-29</td>\n",
       "      <td>14.1</td>\n",
       "      <td>36.2</td>\n",
       "      <td>3.2</td>\n",
       "      <td>218.0</td>\n",
       "      <td>307.0</td>\n",
       "      <td>4.2</td>\n",
       "      <td>NaN</td>\n",
       "      <td>NaN</td>\n",
       "      <td>NaN</td>\n",
       "      <td>NaN</td>\n",
       "      <td>India_Delhi</td>\n",
       "    </tr>\n",
       "    <tr>\n",
       "      <th>1</th>\n",
       "      <td>2014-12-30</td>\n",
       "      <td>20.4</td>\n",
       "      <td>36.8</td>\n",
       "      <td>4.8</td>\n",
       "      <td>330.0</td>\n",
       "      <td>367.0</td>\n",
       "      <td>5.8</td>\n",
       "      <td>NaN</td>\n",
       "      <td>NaN</td>\n",
       "      <td>NaN</td>\n",
       "      <td>NaN</td>\n",
       "      <td>India_Delhi</td>\n",
       "    </tr>\n",
       "    <tr>\n",
       "      <th>2</th>\n",
       "      <td>2014-12-31</td>\n",
       "      <td>12.7</td>\n",
       "      <td>28.7</td>\n",
       "      <td>7.8</td>\n",
       "      <td>137.0</td>\n",
       "      <td>202.0</td>\n",
       "      <td>6.3</td>\n",
       "      <td>NaN</td>\n",
       "      <td>NaN</td>\n",
       "      <td>NaN</td>\n",
       "      <td>NaN</td>\n",
       "      <td>India_Delhi</td>\n",
       "    </tr>\n",
       "    <tr>\n",
       "      <th>3</th>\n",
       "      <td>2015-01-01</td>\n",
       "      <td>20.8</td>\n",
       "      <td>66.5</td>\n",
       "      <td>5.2</td>\n",
       "      <td>230.0</td>\n",
       "      <td>382.0</td>\n",
       "      <td>9.9</td>\n",
       "      <td>NaN</td>\n",
       "      <td>NaN</td>\n",
       "      <td>NaN</td>\n",
       "      <td>NaN</td>\n",
       "      <td>India_Delhi</td>\n",
       "    </tr>\n",
       "    <tr>\n",
       "      <th>4</th>\n",
       "      <td>2015-01-02</td>\n",
       "      <td>12.7</td>\n",
       "      <td>33.9</td>\n",
       "      <td>6.0</td>\n",
       "      <td>81.0</td>\n",
       "      <td>172.0</td>\n",
       "      <td>4.2</td>\n",
       "      <td>NaN</td>\n",
       "      <td>NaN</td>\n",
       "      <td>NaN</td>\n",
       "      <td>NaN</td>\n",
       "      <td>India_Delhi</td>\n",
       "    </tr>\n",
       "  </tbody>\n",
       "</table>\n",
       "</div>"
      ],
      "text/plain": [
       "         Date    co   no2   o3   pm10   pm25  so2  humidity  pressure  \\\n",
       "0  2014-12-29  14.1  36.2  3.2  218.0  307.0  4.2       NaN       NaN   \n",
       "1  2014-12-30  20.4  36.8  4.8  330.0  367.0  5.8       NaN       NaN   \n",
       "2  2014-12-31  12.7  28.7  7.8  137.0  202.0  6.3       NaN       NaN   \n",
       "3  2015-01-01  20.8  66.5  5.2  230.0  382.0  9.9       NaN       NaN   \n",
       "4  2015-01-02  12.7  33.9  6.0   81.0  172.0  4.2       NaN       NaN   \n",
       "\n",
       "   temperature  wind-speed Country_City  \n",
       "0          NaN         NaN  India_Delhi  \n",
       "1          NaN         NaN  India_Delhi  \n",
       "2          NaN         NaN  India_Delhi  \n",
       "3          NaN         NaN  India_Delhi  \n",
       "4          NaN         NaN  India_Delhi  "
      ]
     },
     "execution_count": 2,
     "metadata": {},
     "output_type": "execute_result"
    }
   ],
   "source": [
    "# Loading the data\n",
    "new_data = pd.read_csv(\"/kaggle/input/seperated-data/India_Delhi.csv\")\n",
    "\n",
    "# print the shape\n",
    "print(new_data.shape)\n",
    "\n",
    "#runs the first 5 rows\n",
    "new_data.head()"
   ]
  },
  {
   "cell_type": "code",
   "execution_count": 3,
   "id": "882cae68",
   "metadata": {
    "execution": {
     "iopub.execute_input": "2025-01-27T21:20:28.370330Z",
     "iopub.status.busy": "2025-01-27T21:20:28.369961Z",
     "iopub.status.idle": "2025-01-27T21:20:28.379302Z",
     "shell.execute_reply": "2025-01-27T21:20:28.378326Z"
    },
    "papermill": {
     "duration": 0.027254,
     "end_time": "2025-01-27T21:20:28.380764",
     "exception": false,
     "start_time": "2025-01-27T21:20:28.353510",
     "status": "completed"
    },
    "tags": []
   },
   "outputs": [
    {
     "name": "stdout",
     "output_type": "stream",
     "text": [
      "Minimum date: 2014-12-29\n",
      "Maximum date: 2023-10-01\n"
     ]
    }
   ],
   "source": [
    "# Find the minimum and maximum dates\n",
    "min_date = new_data['Date'].min()\n",
    "max_date = new_data['Date'].max()\n",
    "\n",
    "print('Minimum date:', min_date)\n",
    "print('Maximum date:', max_date)"
   ]
  },
  {
   "cell_type": "code",
   "execution_count": 4,
   "id": "248c53f3",
   "metadata": {
    "execution": {
     "iopub.execute_input": "2025-01-27T21:20:28.408330Z",
     "iopub.status.busy": "2025-01-27T21:20:28.407950Z",
     "iopub.status.idle": "2025-01-27T21:20:28.437954Z",
     "shell.execute_reply": "2025-01-27T21:20:28.436793Z"
    },
    "papermill": {
     "duration": 0.045656,
     "end_time": "2025-01-27T21:20:28.439730",
     "exception": false,
     "start_time": "2025-01-27T21:20:28.394074",
     "status": "completed"
    },
    "tags": []
   },
   "outputs": [
    {
     "name": "stdout",
     "output_type": "stream",
     "text": [
      "<class 'pandas.core.frame.DataFrame'>\n",
      "RangeIndex: 2399 entries, 0 to 2398\n",
      "Data columns (total 12 columns):\n",
      " #   Column        Non-Null Count  Dtype  \n",
      "---  ------        --------------  -----  \n",
      " 0   Date          2399 non-null   object \n",
      " 1   co            2399 non-null   float64\n",
      " 2   no2           2399 non-null   float64\n",
      " 3   o3            2399 non-null   float64\n",
      " 4   pm10          2398 non-null   float64\n",
      " 5   pm25          2398 non-null   float64\n",
      " 6   so2           2399 non-null   float64\n",
      " 7   humidity      1698 non-null   float64\n",
      " 8   pressure      1698 non-null   float64\n",
      " 9   temperature   1698 non-null   float64\n",
      " 10  wind-speed    1629 non-null   float64\n",
      " 11  Country_City  2399 non-null   object \n",
      "dtypes: float64(10), object(2)\n",
      "memory usage: 225.0+ KB\n"
     ]
    }
   ],
   "source": [
    "new_data.info()"
   ]
  },
  {
   "cell_type": "code",
   "execution_count": 5,
   "id": "9b3ff2c8",
   "metadata": {
    "execution": {
     "iopub.execute_input": "2025-01-27T21:20:28.467984Z",
     "iopub.status.busy": "2025-01-27T21:20:28.467626Z",
     "iopub.status.idle": "2025-01-27T21:20:28.503167Z",
     "shell.execute_reply": "2025-01-27T21:20:28.502133Z"
    },
    "papermill": {
     "duration": 0.051499,
     "end_time": "2025-01-27T21:20:28.504673",
     "exception": false,
     "start_time": "2025-01-27T21:20:28.453174",
     "status": "completed"
    },
    "tags": []
   },
   "outputs": [
    {
     "data": {
      "text/html": [
       "<div>\n",
       "<style scoped>\n",
       "    .dataframe tbody tr th:only-of-type {\n",
       "        vertical-align: middle;\n",
       "    }\n",
       "\n",
       "    .dataframe tbody tr th {\n",
       "        vertical-align: top;\n",
       "    }\n",
       "\n",
       "    .dataframe thead th {\n",
       "        text-align: right;\n",
       "    }\n",
       "</style>\n",
       "<table border=\"1\" class=\"dataframe\">\n",
       "  <thead>\n",
       "    <tr style=\"text-align: right;\">\n",
       "      <th></th>\n",
       "      <th>co</th>\n",
       "      <th>no2</th>\n",
       "      <th>o3</th>\n",
       "      <th>pm10</th>\n",
       "      <th>pm25</th>\n",
       "      <th>so2</th>\n",
       "      <th>humidity</th>\n",
       "      <th>pressure</th>\n",
       "      <th>temperature</th>\n",
       "      <th>wind-speed</th>\n",
       "    </tr>\n",
       "  </thead>\n",
       "  <tbody>\n",
       "    <tr>\n",
       "      <th>count</th>\n",
       "      <td>2399.000000</td>\n",
       "      <td>2399.000000</td>\n",
       "      <td>2399.000000</td>\n",
       "      <td>2398.000000</td>\n",
       "      <td>2398.000000</td>\n",
       "      <td>2399.000000</td>\n",
       "      <td>1698.000000</td>\n",
       "      <td>1698.000000</td>\n",
       "      <td>1698.000000</td>\n",
       "      <td>1629.000000</td>\n",
       "    </tr>\n",
       "    <tr>\n",
       "      <th>mean</th>\n",
       "      <td>9.325594</td>\n",
       "      <td>16.870946</td>\n",
       "      <td>9.480700</td>\n",
       "      <td>131.572143</td>\n",
       "      <td>164.397832</td>\n",
       "      <td>5.702751</td>\n",
       "      <td>60.708304</td>\n",
       "      <td>985.184923</td>\n",
       "      <td>26.338869</td>\n",
       "      <td>1.101964</td>\n",
       "    </tr>\n",
       "    <tr>\n",
       "      <th>std</th>\n",
       "      <td>3.715709</td>\n",
       "      <td>7.805715</td>\n",
       "      <td>4.829603</td>\n",
       "      <td>77.174642</td>\n",
       "      <td>64.829240</td>\n",
       "      <td>2.289821</td>\n",
       "      <td>17.138084</td>\n",
       "      <td>10.022854</td>\n",
       "      <td>6.631277</td>\n",
       "      <td>0.493156</td>\n",
       "    </tr>\n",
       "    <tr>\n",
       "      <th>min</th>\n",
       "      <td>0.100000</td>\n",
       "      <td>5.000000</td>\n",
       "      <td>2.400000</td>\n",
       "      <td>12.000000</td>\n",
       "      <td>30.000000</td>\n",
       "      <td>1.700000</td>\n",
       "      <td>13.000000</td>\n",
       "      <td>743.000000</td>\n",
       "      <td>6.200000</td>\n",
       "      <td>0.300000</td>\n",
       "    </tr>\n",
       "    <tr>\n",
       "      <th>25%</th>\n",
       "      <td>7.050000</td>\n",
       "      <td>10.600000</td>\n",
       "      <td>6.000000</td>\n",
       "      <td>82.000000</td>\n",
       "      <td>123.000000</td>\n",
       "      <td>4.000000</td>\n",
       "      <td>48.500000</td>\n",
       "      <td>979.800000</td>\n",
       "      <td>22.100000</td>\n",
       "      <td>0.800000</td>\n",
       "    </tr>\n",
       "    <tr>\n",
       "      <th>50%</th>\n",
       "      <td>8.400000</td>\n",
       "      <td>15.800000</td>\n",
       "      <td>8.200000</td>\n",
       "      <td>120.000000</td>\n",
       "      <td>160.000000</td>\n",
       "      <td>5.300000</td>\n",
       "      <td>63.000000</td>\n",
       "      <td>983.900000</td>\n",
       "      <td>28.600000</td>\n",
       "      <td>1.000000</td>\n",
       "    </tr>\n",
       "    <tr>\n",
       "      <th>75%</th>\n",
       "      <td>10.700000</td>\n",
       "      <td>21.500000</td>\n",
       "      <td>11.800000</td>\n",
       "      <td>160.000000</td>\n",
       "      <td>189.000000</td>\n",
       "      <td>7.100000</td>\n",
       "      <td>74.000000</td>\n",
       "      <td>990.400000</td>\n",
       "      <td>31.100000</td>\n",
       "      <td>1.300000</td>\n",
       "    </tr>\n",
       "    <tr>\n",
       "      <th>max</th>\n",
       "      <td>30.600000</td>\n",
       "      <td>66.500000</td>\n",
       "      <td>40.300000</td>\n",
       "      <td>999.000000</td>\n",
       "      <td>577.000000</td>\n",
       "      <td>19.800000</td>\n",
       "      <td>99.100000</td>\n",
       "      <td>1020.500000</td>\n",
       "      <td>38.000000</td>\n",
       "      <td>4.600000</td>\n",
       "    </tr>\n",
       "  </tbody>\n",
       "</table>\n",
       "</div>"
      ],
      "text/plain": [
       "                co          no2           o3         pm10         pm25  \\\n",
       "count  2399.000000  2399.000000  2399.000000  2398.000000  2398.000000   \n",
       "mean      9.325594    16.870946     9.480700   131.572143   164.397832   \n",
       "std       3.715709     7.805715     4.829603    77.174642    64.829240   \n",
       "min       0.100000     5.000000     2.400000    12.000000    30.000000   \n",
       "25%       7.050000    10.600000     6.000000    82.000000   123.000000   \n",
       "50%       8.400000    15.800000     8.200000   120.000000   160.000000   \n",
       "75%      10.700000    21.500000    11.800000   160.000000   189.000000   \n",
       "max      30.600000    66.500000    40.300000   999.000000   577.000000   \n",
       "\n",
       "               so2     humidity     pressure  temperature   wind-speed  \n",
       "count  2399.000000  1698.000000  1698.000000  1698.000000  1629.000000  \n",
       "mean      5.702751    60.708304   985.184923    26.338869     1.101964  \n",
       "std       2.289821    17.138084    10.022854     6.631277     0.493156  \n",
       "min       1.700000    13.000000   743.000000     6.200000     0.300000  \n",
       "25%       4.000000    48.500000   979.800000    22.100000     0.800000  \n",
       "50%       5.300000    63.000000   983.900000    28.600000     1.000000  \n",
       "75%       7.100000    74.000000   990.400000    31.100000     1.300000  \n",
       "max      19.800000    99.100000  1020.500000    38.000000     4.600000  "
      ]
     },
     "execution_count": 5,
     "metadata": {},
     "output_type": "execute_result"
    }
   ],
   "source": [
    "new_data.describe()"
   ]
  },
  {
   "cell_type": "code",
   "execution_count": 6,
   "id": "304666ee",
   "metadata": {
    "execution": {
     "iopub.execute_input": "2025-01-27T21:20:28.532299Z",
     "iopub.status.busy": "2025-01-27T21:20:28.531919Z",
     "iopub.status.idle": "2025-01-27T21:20:28.544982Z",
     "shell.execute_reply": "2025-01-27T21:20:28.543696Z"
    },
    "papermill": {
     "duration": 0.02859,
     "end_time": "2025-01-27T21:20:28.546615",
     "exception": false,
     "start_time": "2025-01-27T21:20:28.518025",
     "status": "completed"
    },
    "tags": []
   },
   "outputs": [
    {
     "name": "stdout",
     "output_type": "stream",
     "text": [
      "The number of values for feature Date :2397\n",
      "The number of values for feature co :200\n",
      "The number of values for feature no2 :328\n",
      "The number of values for feature o3 :226\n",
      "The number of values for feature pm10 :320\n",
      "The number of values for feature pm25 :309\n",
      "The number of values for feature so2 :116\n",
      "The number of values for feature humidity :602\n",
      "The number of values for feature pressure :300\n",
      "The number of values for feature temperature :264\n",
      "The number of values for feature wind-speed :33\n",
      "The number of values for feature Country_City :1 -- ['India_Delhi']\n"
     ]
    }
   ],
   "source": [
    "# Investigate all the elements whithin each Feature\n",
    "\n",
    "for column in new_data:\n",
    "    # Handle numerical and string columns differently\n",
    "    if new_data[column].dtype == 'object':  # Check if column is of object type\n",
    "        unique_vals = new_data[column].unique()  # pandas unique for strings\n",
    "    else:\n",
    "        unique_vals = np.unique(new_data[column])  # numpy unique for numerical types\n",
    "\n",
    "    nr_values = len(unique_vals)\n",
    "    if nr_values < 14:\n",
    "        print('The number of values for feature {} :{} -- {}'.format(column, nr_values,unique_vals))\n",
    "    else:\n",
    "        print('The number of values for feature {} :{}'.format(column, nr_values))"
   ]
  },
  {
   "cell_type": "code",
   "execution_count": 7,
   "id": "ce53ec0b",
   "metadata": {
    "execution": {
     "iopub.execute_input": "2025-01-27T21:20:28.574967Z",
     "iopub.status.busy": "2025-01-27T21:20:28.574595Z",
     "iopub.status.idle": "2025-01-27T21:20:28.582406Z",
     "shell.execute_reply": "2025-01-27T21:20:28.581350Z"
    },
    "papermill": {
     "duration": 0.024033,
     "end_time": "2025-01-27T21:20:28.584142",
     "exception": false,
     "start_time": "2025-01-27T21:20:28.560109",
     "status": "completed"
    },
    "tags": []
   },
   "outputs": [
    {
     "data": {
      "text/plain": [
       "Date              0\n",
       "co                0\n",
       "no2               0\n",
       "o3                0\n",
       "pm10              1\n",
       "pm25              1\n",
       "so2               0\n",
       "humidity        701\n",
       "pressure        701\n",
       "temperature     701\n",
       "wind-speed      770\n",
       "Country_City      0\n",
       "dtype: int64"
      ]
     },
     "execution_count": 7,
     "metadata": {},
     "output_type": "execute_result"
    }
   ],
   "source": [
    "new_data.isna().sum()"
   ]
  },
  {
   "cell_type": "markdown",
   "id": "192e0299",
   "metadata": {
    "papermill": {
     "duration": 0.013327,
     "end_time": "2025-01-27T21:20:28.611406",
     "exception": false,
     "start_time": "2025-01-27T21:20:28.598079",
     "status": "completed"
    },
    "tags": []
   },
   "source": [
    "## **1.2 - Function**"
   ]
  },
  {
   "cell_type": "code",
   "execution_count": 8,
   "id": "65dbad85",
   "metadata": {
    "execution": {
     "iopub.execute_input": "2025-01-27T21:20:28.640663Z",
     "iopub.status.busy": "2025-01-27T21:20:28.640319Z",
     "iopub.status.idle": "2025-01-27T21:20:28.645812Z",
     "shell.execute_reply": "2025-01-27T21:20:28.644745Z"
    },
    "papermill": {
     "duration": 0.021412,
     "end_time": "2025-01-27T21:20:28.647246",
     "exception": false,
     "start_time": "2025-01-27T21:20:28.625834",
     "status": "completed"
    },
    "tags": []
   },
   "outputs": [
    {
     "name": "stdout",
     "output_type": "stream",
     "text": [
      "['__results__.html', '__notebook__.ipynb', 'function.py', '__output__.json', 'custom.css']\n"
     ]
    }
   ],
   "source": [
    "print(os.listdir('/kaggle/usr/lib/function'))"
   ]
  },
  {
   "cell_type": "code",
   "execution_count": 9,
   "id": "96f43024",
   "metadata": {
    "execution": {
     "iopub.execute_input": "2025-01-27T21:20:28.676222Z",
     "iopub.status.busy": "2025-01-27T21:20:28.675886Z",
     "iopub.status.idle": "2025-01-27T21:20:28.688071Z",
     "shell.execute_reply": "2025-01-27T21:20:28.687078Z"
    },
    "papermill": {
     "duration": 0.02841,
     "end_time": "2025-01-27T21:20:28.689641",
     "exception": false,
     "start_time": "2025-01-27T21:20:28.661231",
     "status": "completed"
    },
    "tags": []
   },
   "outputs": [],
   "source": [
    "import sys\n",
    "sys.path.append(\"/kaggle/usr/lib/function\")  # Add directory to the path\n",
    "\n",
    "import function as fn"
   ]
  },
  {
   "cell_type": "code",
   "execution_count": 10,
   "id": "9035e5b9",
   "metadata": {
    "execution": {
     "iopub.execute_input": "2025-01-27T21:20:28.718246Z",
     "iopub.status.busy": "2025-01-27T21:20:28.717934Z",
     "iopub.status.idle": "2025-01-27T21:20:28.744552Z",
     "shell.execute_reply": "2025-01-27T21:20:28.743670Z"
    },
    "papermill": {
     "duration": 0.042484,
     "end_time": "2025-01-27T21:20:28.746116",
     "exception": false,
     "start_time": "2025-01-27T21:20:28.703632",
     "status": "completed"
    },
    "tags": []
   },
   "outputs": [
    {
     "data": {
      "text/html": [
       "<div>\n",
       "<style scoped>\n",
       "    .dataframe tbody tr th:only-of-type {\n",
       "        vertical-align: middle;\n",
       "    }\n",
       "\n",
       "    .dataframe tbody tr th {\n",
       "        vertical-align: top;\n",
       "    }\n",
       "\n",
       "    .dataframe thead th {\n",
       "        text-align: right;\n",
       "    }\n",
       "</style>\n",
       "<table border=\"1\" class=\"dataframe\">\n",
       "  <thead>\n",
       "    <tr style=\"text-align: right;\">\n",
       "      <th></th>\n",
       "      <th>co</th>\n",
       "      <th>no2</th>\n",
       "      <th>o3</th>\n",
       "      <th>pm10</th>\n",
       "      <th>pm25</th>\n",
       "      <th>so2</th>\n",
       "      <th>humidity</th>\n",
       "      <th>pressure</th>\n",
       "      <th>temperature</th>\n",
       "      <th>wind-speed</th>\n",
       "      <th>Country_City</th>\n",
       "    </tr>\n",
       "    <tr>\n",
       "      <th>Date</th>\n",
       "      <th></th>\n",
       "      <th></th>\n",
       "      <th></th>\n",
       "      <th></th>\n",
       "      <th></th>\n",
       "      <th></th>\n",
       "      <th></th>\n",
       "      <th></th>\n",
       "      <th></th>\n",
       "      <th></th>\n",
       "      <th></th>\n",
       "    </tr>\n",
       "  </thead>\n",
       "  <tbody>\n",
       "    <tr>\n",
       "      <th>2014-12-29</th>\n",
       "      <td>14.1</td>\n",
       "      <td>36.2</td>\n",
       "      <td>3.2</td>\n",
       "      <td>218.0</td>\n",
       "      <td>307.0</td>\n",
       "      <td>4.2</td>\n",
       "      <td>NaN</td>\n",
       "      <td>NaN</td>\n",
       "      <td>NaN</td>\n",
       "      <td>NaN</td>\n",
       "      <td>India_Delhi</td>\n",
       "    </tr>\n",
       "    <tr>\n",
       "      <th>2014-12-30</th>\n",
       "      <td>20.4</td>\n",
       "      <td>36.8</td>\n",
       "      <td>4.8</td>\n",
       "      <td>330.0</td>\n",
       "      <td>367.0</td>\n",
       "      <td>5.8</td>\n",
       "      <td>NaN</td>\n",
       "      <td>NaN</td>\n",
       "      <td>NaN</td>\n",
       "      <td>NaN</td>\n",
       "      <td>India_Delhi</td>\n",
       "    </tr>\n",
       "    <tr>\n",
       "      <th>2014-12-31</th>\n",
       "      <td>12.7</td>\n",
       "      <td>28.7</td>\n",
       "      <td>7.8</td>\n",
       "      <td>137.0</td>\n",
       "      <td>202.0</td>\n",
       "      <td>6.3</td>\n",
       "      <td>NaN</td>\n",
       "      <td>NaN</td>\n",
       "      <td>NaN</td>\n",
       "      <td>NaN</td>\n",
       "      <td>India_Delhi</td>\n",
       "    </tr>\n",
       "    <tr>\n",
       "      <th>2015-01-01</th>\n",
       "      <td>20.8</td>\n",
       "      <td>66.5</td>\n",
       "      <td>5.2</td>\n",
       "      <td>230.0</td>\n",
       "      <td>382.0</td>\n",
       "      <td>9.9</td>\n",
       "      <td>NaN</td>\n",
       "      <td>NaN</td>\n",
       "      <td>NaN</td>\n",
       "      <td>NaN</td>\n",
       "      <td>India_Delhi</td>\n",
       "    </tr>\n",
       "    <tr>\n",
       "      <th>2015-01-02</th>\n",
       "      <td>12.7</td>\n",
       "      <td>33.9</td>\n",
       "      <td>6.0</td>\n",
       "      <td>81.0</td>\n",
       "      <td>172.0</td>\n",
       "      <td>4.2</td>\n",
       "      <td>NaN</td>\n",
       "      <td>NaN</td>\n",
       "      <td>NaN</td>\n",
       "      <td>NaN</td>\n",
       "      <td>India_Delhi</td>\n",
       "    </tr>\n",
       "  </tbody>\n",
       "</table>\n",
       "</div>"
      ],
      "text/plain": [
       "              co   no2   o3   pm10   pm25  so2  humidity  pressure  \\\n",
       "Date                                                                 \n",
       "2014-12-29  14.1  36.2  3.2  218.0  307.0  4.2       NaN       NaN   \n",
       "2014-12-30  20.4  36.8  4.8  330.0  367.0  5.8       NaN       NaN   \n",
       "2014-12-31  12.7  28.7  7.8  137.0  202.0  6.3       NaN       NaN   \n",
       "2015-01-01  20.8  66.5  5.2  230.0  382.0  9.9       NaN       NaN   \n",
       "2015-01-02  12.7  33.9  6.0   81.0  172.0  4.2       NaN       NaN   \n",
       "\n",
       "            temperature  wind-speed Country_City  \n",
       "Date                                              \n",
       "2014-12-29          NaN         NaN  India_Delhi  \n",
       "2014-12-30          NaN         NaN  India_Delhi  \n",
       "2014-12-31          NaN         NaN  India_Delhi  \n",
       "2015-01-01          NaN         NaN  India_Delhi  \n",
       "2015-01-02          NaN         NaN  India_Delhi  "
      ]
     },
     "execution_count": 10,
     "metadata": {},
     "output_type": "execute_result"
    }
   ],
   "source": [
    "# Use the functions\n",
    "new_data1 = fn.prepare_datetime_index(new_data, date_column='Date')\n",
    "new_data1.head()"
   ]
  },
  {
   "cell_type": "code",
   "execution_count": 11,
   "id": "3b531309",
   "metadata": {
    "execution": {
     "iopub.execute_input": "2025-01-27T21:20:28.774684Z",
     "iopub.status.busy": "2025-01-27T21:20:28.774253Z",
     "iopub.status.idle": "2025-01-27T21:20:28.787821Z",
     "shell.execute_reply": "2025-01-27T21:20:28.786682Z"
    },
    "papermill": {
     "duration": 0.029427,
     "end_time": "2025-01-27T21:20:28.789230",
     "exception": false,
     "start_time": "2025-01-27T21:20:28.759803",
     "status": "completed"
    },
    "tags": []
   },
   "outputs": [
    {
     "name": "stdout",
     "output_type": "stream",
     "text": [
      "co              0\n",
      "no2             0\n",
      "o3              0\n",
      "pm10            0\n",
      "pm25            0\n",
      "so2             0\n",
      "humidity        0\n",
      "pressure        0\n",
      "temperature     0\n",
      "wind-speed      0\n",
      "Country_City    0\n",
      "dtype: int64\n"
     ]
    }
   ],
   "source": [
    "# Use the functions\n",
    "new_data2 = fn.fill_pollutant_values(new_data1)\n",
    "print(new_data2.isna().sum())"
   ]
  },
  {
   "cell_type": "markdown",
   "id": "bc9434e0",
   "metadata": {
    "papermill": {
     "duration": 0.013865,
     "end_time": "2025-01-27T21:20:28.816772",
     "exception": false,
     "start_time": "2025-01-27T21:20:28.802907",
     "status": "completed"
    },
    "tags": []
   },
   "source": [
    "**Check**"
   ]
  },
  {
   "cell_type": "code",
   "execution_count": 12,
   "id": "1e112c10",
   "metadata": {
    "execution": {
     "iopub.execute_input": "2025-01-27T21:20:28.845920Z",
     "iopub.status.busy": "2025-01-27T21:20:28.845568Z",
     "iopub.status.idle": "2025-01-27T21:20:28.859840Z",
     "shell.execute_reply": "2025-01-27T21:20:28.858746Z"
    },
    "papermill": {
     "duration": 0.030217,
     "end_time": "2025-01-27T21:20:28.861331",
     "exception": false,
     "start_time": "2025-01-27T21:20:28.831114",
     "status": "completed"
    },
    "tags": []
   },
   "outputs": [
    {
     "name": "stdout",
     "output_type": "stream",
     "text": [
      "Missing Dates:\n",
      "DatetimeIndex(['2015-07-06', '2015-07-07', '2015-07-08', '2015-07-09',\n",
      "               '2015-07-10', '2015-07-11', '2015-07-12', '2015-07-13',\n",
      "               '2015-07-14', '2015-07-15',\n",
      "               ...\n",
      "               '2022-03-18', '2022-03-19', '2022-03-20', '2022-03-21',\n",
      "               '2022-03-22', '2022-03-23', '2022-03-24', '2022-03-25',\n",
      "               '2022-03-26', '2022-03-27'],\n",
      "              dtype='datetime64[ns]', length=802, freq=None)\n"
     ]
    }
   ],
   "source": [
    "# Create a complete range of dates\n",
    "full_range = pd.date_range(start=new_data2.index.min(), end=new_data2.index.max())\n",
    "\n",
    "# Find missing dates\n",
    "missing_dates = full_range.difference(new_data2.index)\n",
    "print(\"Missing Dates:\")\n",
    "print(missing_dates)"
   ]
  },
  {
   "cell_type": "code",
   "execution_count": 13,
   "id": "b73068dd",
   "metadata": {
    "execution": {
     "iopub.execute_input": "2025-01-27T21:20:28.890431Z",
     "iopub.status.busy": "2025-01-27T21:20:28.890045Z",
     "iopub.status.idle": "2025-01-27T21:20:28.899099Z",
     "shell.execute_reply": "2025-01-27T21:20:28.898389Z"
    },
    "papermill": {
     "duration": 0.025136,
     "end_time": "2025-01-27T21:20:28.900503",
     "exception": false,
     "start_time": "2025-01-27T21:20:28.875367",
     "status": "completed"
    },
    "tags": []
   },
   "outputs": [],
   "source": [
    "new_data3 = fn.impute_missing_dates(new_data2)"
   ]
  },
  {
   "cell_type": "code",
   "execution_count": 14,
   "id": "ec548890",
   "metadata": {
    "execution": {
     "iopub.execute_input": "2025-01-27T21:20:28.929089Z",
     "iopub.status.busy": "2025-01-27T21:20:28.928803Z",
     "iopub.status.idle": "2025-01-27T21:20:28.936230Z",
     "shell.execute_reply": "2025-01-27T21:20:28.935367Z"
    },
    "papermill": {
     "duration": 0.023302,
     "end_time": "2025-01-27T21:20:28.937727",
     "exception": false,
     "start_time": "2025-01-27T21:20:28.914425",
     "status": "completed"
    },
    "tags": []
   },
   "outputs": [
    {
     "name": "stdout",
     "output_type": "stream",
     "text": [
      "Missing Dates:\n",
      "DatetimeIndex([], dtype='datetime64[ns]', freq='D')\n"
     ]
    }
   ],
   "source": [
    "# Create a complete range of dates\n",
    "full_range = pd.date_range(start=new_data3.index.min(), end=new_data3.index.max())\n",
    "\n",
    "# Find missing dates\n",
    "missing_dates = full_range.difference(new_data3.index)\n",
    "print(\"Missing Dates:\")\n",
    "print(missing_dates)"
   ]
  },
  {
   "cell_type": "code",
   "execution_count": 15,
   "id": "2480e659",
   "metadata": {
    "execution": {
     "iopub.execute_input": "2025-01-27T21:20:28.967052Z",
     "iopub.status.busy": "2025-01-27T21:20:28.966736Z",
     "iopub.status.idle": "2025-01-27T21:20:28.972216Z",
     "shell.execute_reply": "2025-01-27T21:20:28.971322Z"
    },
    "papermill": {
     "duration": 0.021797,
     "end_time": "2025-01-27T21:20:28.973604",
     "exception": false,
     "start_time": "2025-01-27T21:20:28.951807",
     "status": "completed"
    },
    "tags": []
   },
   "outputs": [
    {
     "name": "stdout",
     "output_type": "stream",
     "text": [
      "Duplicate indexes: DatetimeIndex([], dtype='datetime64[ns]', freq='D')\n"
     ]
    }
   ],
   "source": [
    "duplicates = new_data3.index[new_data3.index.duplicated()]\n",
    "print(f\"Duplicate indexes: {duplicates}\")"
   ]
  },
  {
   "cell_type": "markdown",
   "id": "e656ecec",
   "metadata": {
    "papermill": {
     "duration": 0.013513,
     "end_time": "2025-01-27T21:20:29.001375",
     "exception": false,
     "start_time": "2025-01-27T21:20:28.987862",
     "status": "completed"
    },
    "tags": []
   },
   "source": [
    "## **1.3.Normal AQI count, After Normal AQI count Smoothing AQI(IQR, Z-score, Rolling), (Preprocess Pollution --> Smooth Pollution --> Calculate smooth aqi).**"
   ]
  },
  {
   "cell_type": "code",
   "execution_count": 16,
   "id": "91c20585",
   "metadata": {
    "execution": {
     "iopub.execute_input": "2025-01-27T21:20:29.030254Z",
     "iopub.status.busy": "2025-01-27T21:20:29.029919Z",
     "iopub.status.idle": "2025-01-27T21:20:29.043381Z",
     "shell.execute_reply": "2025-01-27T21:20:29.042371Z"
    },
    "papermill": {
     "duration": 0.029729,
     "end_time": "2025-01-27T21:20:29.045011",
     "exception": false,
     "start_time": "2025-01-27T21:20:29.015282",
     "status": "completed"
    },
    "tags": []
   },
   "outputs": [],
   "source": [
    "new_data4 = fn.calculate_aqi(new_data3, subindex_columns=['co', 'no2', 'o3', 'pm10', 'pm25', 'so2'])"
   ]
  },
  {
   "cell_type": "code",
   "execution_count": 17,
   "id": "5ef6849f",
   "metadata": {
    "execution": {
     "iopub.execute_input": "2025-01-27T21:20:29.074716Z",
     "iopub.status.busy": "2025-01-27T21:20:29.074255Z",
     "iopub.status.idle": "2025-01-27T21:20:29.091868Z",
     "shell.execute_reply": "2025-01-27T21:20:29.090772Z"
    },
    "papermill": {
     "duration": 0.034122,
     "end_time": "2025-01-27T21:20:29.093544",
     "exception": false,
     "start_time": "2025-01-27T21:20:29.059422",
     "status": "completed"
    },
    "tags": []
   },
   "outputs": [
    {
     "data": {
      "text/html": [
       "<div>\n",
       "<style scoped>\n",
       "    .dataframe tbody tr th:only-of-type {\n",
       "        vertical-align: middle;\n",
       "    }\n",
       "\n",
       "    .dataframe tbody tr th {\n",
       "        vertical-align: top;\n",
       "    }\n",
       "\n",
       "    .dataframe thead th {\n",
       "        text-align: right;\n",
       "    }\n",
       "</style>\n",
       "<table border=\"1\" class=\"dataframe\">\n",
       "  <thead>\n",
       "    <tr style=\"text-align: right;\">\n",
       "      <th></th>\n",
       "      <th>co</th>\n",
       "      <th>no2</th>\n",
       "      <th>o3</th>\n",
       "      <th>pm10</th>\n",
       "      <th>pm25</th>\n",
       "      <th>so2</th>\n",
       "      <th>humidity</th>\n",
       "      <th>pressure</th>\n",
       "      <th>temperature</th>\n",
       "      <th>wind-speed</th>\n",
       "      <th>Country_City</th>\n",
       "      <th>Checks</th>\n",
       "      <th>AQI</th>\n",
       "    </tr>\n",
       "  </thead>\n",
       "  <tbody>\n",
       "    <tr>\n",
       "      <th>2014-12-29</th>\n",
       "      <td>14.1</td>\n",
       "      <td>36.2</td>\n",
       "      <td>3.2</td>\n",
       "      <td>218.0</td>\n",
       "      <td>307.0</td>\n",
       "      <td>4.2</td>\n",
       "      <td>60.691097</td>\n",
       "      <td>985.187382</td>\n",
       "      <td>26.3352</td>\n",
       "      <td>1.102459</td>\n",
       "      <td>India_Delhi</td>\n",
       "      <td>6</td>\n",
       "      <td>307.0</td>\n",
       "    </tr>\n",
       "    <tr>\n",
       "      <th>2014-12-30</th>\n",
       "      <td>20.4</td>\n",
       "      <td>36.8</td>\n",
       "      <td>4.8</td>\n",
       "      <td>330.0</td>\n",
       "      <td>367.0</td>\n",
       "      <td>5.8</td>\n",
       "      <td>60.691097</td>\n",
       "      <td>985.187382</td>\n",
       "      <td>26.3352</td>\n",
       "      <td>1.102459</td>\n",
       "      <td>India_Delhi</td>\n",
       "      <td>6</td>\n",
       "      <td>367.0</td>\n",
       "    </tr>\n",
       "    <tr>\n",
       "      <th>2014-12-31</th>\n",
       "      <td>12.7</td>\n",
       "      <td>28.7</td>\n",
       "      <td>7.8</td>\n",
       "      <td>137.0</td>\n",
       "      <td>202.0</td>\n",
       "      <td>6.3</td>\n",
       "      <td>60.691097</td>\n",
       "      <td>985.187382</td>\n",
       "      <td>26.3352</td>\n",
       "      <td>1.102459</td>\n",
       "      <td>India_Delhi</td>\n",
       "      <td>6</td>\n",
       "      <td>202.0</td>\n",
       "    </tr>\n",
       "    <tr>\n",
       "      <th>2015-01-01</th>\n",
       "      <td>20.8</td>\n",
       "      <td>66.5</td>\n",
       "      <td>5.2</td>\n",
       "      <td>230.0</td>\n",
       "      <td>382.0</td>\n",
       "      <td>9.9</td>\n",
       "      <td>60.691097</td>\n",
       "      <td>985.187382</td>\n",
       "      <td>26.3352</td>\n",
       "      <td>1.102459</td>\n",
       "      <td>India_Delhi</td>\n",
       "      <td>6</td>\n",
       "      <td>382.0</td>\n",
       "    </tr>\n",
       "    <tr>\n",
       "      <th>2015-01-02</th>\n",
       "      <td>12.7</td>\n",
       "      <td>33.9</td>\n",
       "      <td>6.0</td>\n",
       "      <td>81.0</td>\n",
       "      <td>172.0</td>\n",
       "      <td>4.2</td>\n",
       "      <td>60.691097</td>\n",
       "      <td>985.187382</td>\n",
       "      <td>26.3352</td>\n",
       "      <td>1.102459</td>\n",
       "      <td>India_Delhi</td>\n",
       "      <td>6</td>\n",
       "      <td>172.0</td>\n",
       "    </tr>\n",
       "  </tbody>\n",
       "</table>\n",
       "</div>"
      ],
      "text/plain": [
       "              co   no2   o3   pm10   pm25  so2   humidity    pressure  \\\n",
       "2014-12-29  14.1  36.2  3.2  218.0  307.0  4.2  60.691097  985.187382   \n",
       "2014-12-30  20.4  36.8  4.8  330.0  367.0  5.8  60.691097  985.187382   \n",
       "2014-12-31  12.7  28.7  7.8  137.0  202.0  6.3  60.691097  985.187382   \n",
       "2015-01-01  20.8  66.5  5.2  230.0  382.0  9.9  60.691097  985.187382   \n",
       "2015-01-02  12.7  33.9  6.0   81.0  172.0  4.2  60.691097  985.187382   \n",
       "\n",
       "            temperature  wind-speed Country_City  Checks    AQI  \n",
       "2014-12-29      26.3352    1.102459  India_Delhi       6  307.0  \n",
       "2014-12-30      26.3352    1.102459  India_Delhi       6  367.0  \n",
       "2014-12-31      26.3352    1.102459  India_Delhi       6  202.0  \n",
       "2015-01-01      26.3352    1.102459  India_Delhi       6  382.0  \n",
       "2015-01-02      26.3352    1.102459  India_Delhi       6  172.0  "
      ]
     },
     "execution_count": 17,
     "metadata": {},
     "output_type": "execute_result"
    }
   ],
   "source": [
    "new_data4.head()"
   ]
  },
  {
   "cell_type": "code",
   "execution_count": 18,
   "id": "e089cdf5",
   "metadata": {
    "execution": {
     "iopub.execute_input": "2025-01-27T21:20:29.122892Z",
     "iopub.status.busy": "2025-01-27T21:20:29.122588Z",
     "iopub.status.idle": "2025-01-27T21:20:29.128032Z",
     "shell.execute_reply": "2025-01-27T21:20:29.127076Z"
    },
    "papermill": {
     "duration": 0.021945,
     "end_time": "2025-01-27T21:20:29.129687",
     "exception": false,
     "start_time": "2025-01-27T21:20:29.107742",
     "status": "completed"
    },
    "tags": []
   },
   "outputs": [
    {
     "data": {
      "text/plain": [
       "(3199, 13)"
      ]
     },
     "execution_count": 18,
     "metadata": {},
     "output_type": "execute_result"
    }
   ],
   "source": [
    "new_data4.shape"
   ]
  },
  {
   "cell_type": "markdown",
   "id": "287d6360",
   "metadata": {
    "papermill": {
     "duration": 0.014123,
     "end_time": "2025-01-27T21:20:29.158655",
     "exception": false,
     "start_time": "2025-01-27T21:20:29.144532",
     "status": "completed"
    },
    "tags": []
   },
   "source": [
    " After Normal AQI count Smoothing AQI(IQR, Z-score, Rolling)"
   ]
  },
  {
   "cell_type": "code",
   "execution_count": 19,
   "id": "14212c76",
   "metadata": {
    "execution": {
     "iopub.execute_input": "2025-01-27T21:20:29.190841Z",
     "iopub.status.busy": "2025-01-27T21:20:29.190467Z",
     "iopub.status.idle": "2025-01-27T21:20:29.209277Z",
     "shell.execute_reply": "2025-01-27T21:20:29.208148Z"
    },
    "papermill": {
     "duration": 0.036105,
     "end_time": "2025-01-27T21:20:29.211093",
     "exception": false,
     "start_time": "2025-01-27T21:20:29.174988",
     "status": "completed"
    },
    "tags": []
   },
   "outputs": [],
   "source": [
    "# Apply the outlier handling function to the 'AQI' column only\n",
    "new_data4['AQI_smoothed_iqr'] = fn.handle_aqi_outliers(new_data4['AQI'], method='iqr')\n",
    "new_data4['AQI_smoothed_zscore'] = fn.handle_aqi_outliers(new_data4['AQI'], method='zscore')\n",
    "new_data4['AQI_smoothed_rolling'] = fn.handle_aqi_outliers(new_data4['AQI'], method='rolling')"
   ]
  },
  {
   "cell_type": "code",
   "execution_count": 20,
   "id": "72356d14",
   "metadata": {
    "execution": {
     "iopub.execute_input": "2025-01-27T21:20:29.241406Z",
     "iopub.status.busy": "2025-01-27T21:20:29.241015Z",
     "iopub.status.idle": "2025-01-27T21:20:29.259809Z",
     "shell.execute_reply": "2025-01-27T21:20:29.258814Z"
    },
    "papermill": {
     "duration": 0.03531,
     "end_time": "2025-01-27T21:20:29.261287",
     "exception": false,
     "start_time": "2025-01-27T21:20:29.225977",
     "status": "completed"
    },
    "tags": []
   },
   "outputs": [
    {
     "data": {
      "text/html": [
       "<div>\n",
       "<style scoped>\n",
       "    .dataframe tbody tr th:only-of-type {\n",
       "        vertical-align: middle;\n",
       "    }\n",
       "\n",
       "    .dataframe tbody tr th {\n",
       "        vertical-align: top;\n",
       "    }\n",
       "\n",
       "    .dataframe thead th {\n",
       "        text-align: right;\n",
       "    }\n",
       "</style>\n",
       "<table border=\"1\" class=\"dataframe\">\n",
       "  <thead>\n",
       "    <tr style=\"text-align: right;\">\n",
       "      <th></th>\n",
       "      <th>co</th>\n",
       "      <th>no2</th>\n",
       "      <th>o3</th>\n",
       "      <th>pm10</th>\n",
       "      <th>pm25</th>\n",
       "      <th>so2</th>\n",
       "      <th>humidity</th>\n",
       "      <th>pressure</th>\n",
       "      <th>temperature</th>\n",
       "      <th>wind-speed</th>\n",
       "      <th>Country_City</th>\n",
       "      <th>Checks</th>\n",
       "      <th>AQI</th>\n",
       "      <th>AQI_smoothed_iqr</th>\n",
       "      <th>AQI_smoothed_zscore</th>\n",
       "      <th>AQI_smoothed_rolling</th>\n",
       "    </tr>\n",
       "  </thead>\n",
       "  <tbody>\n",
       "    <tr>\n",
       "      <th>2014-12-29</th>\n",
       "      <td>14.1</td>\n",
       "      <td>36.2</td>\n",
       "      <td>3.2</td>\n",
       "      <td>218.0</td>\n",
       "      <td>307.0</td>\n",
       "      <td>4.2</td>\n",
       "      <td>60.691097</td>\n",
       "      <td>985.187382</td>\n",
       "      <td>26.3352</td>\n",
       "      <td>1.102459</td>\n",
       "      <td>India_Delhi</td>\n",
       "      <td>6</td>\n",
       "      <td>307.0</td>\n",
       "      <td>307.0</td>\n",
       "      <td>307.0</td>\n",
       "      <td>307.0</td>\n",
       "    </tr>\n",
       "    <tr>\n",
       "      <th>2014-12-30</th>\n",
       "      <td>20.4</td>\n",
       "      <td>36.8</td>\n",
       "      <td>4.8</td>\n",
       "      <td>330.0</td>\n",
       "      <td>367.0</td>\n",
       "      <td>5.8</td>\n",
       "      <td>60.691097</td>\n",
       "      <td>985.187382</td>\n",
       "      <td>26.3352</td>\n",
       "      <td>1.102459</td>\n",
       "      <td>India_Delhi</td>\n",
       "      <td>6</td>\n",
       "      <td>367.0</td>\n",
       "      <td>367.0</td>\n",
       "      <td>367.0</td>\n",
       "      <td>367.0</td>\n",
       "    </tr>\n",
       "    <tr>\n",
       "      <th>2014-12-31</th>\n",
       "      <td>12.7</td>\n",
       "      <td>28.7</td>\n",
       "      <td>7.8</td>\n",
       "      <td>137.0</td>\n",
       "      <td>202.0</td>\n",
       "      <td>6.3</td>\n",
       "      <td>60.691097</td>\n",
       "      <td>985.187382</td>\n",
       "      <td>26.3352</td>\n",
       "      <td>1.102459</td>\n",
       "      <td>India_Delhi</td>\n",
       "      <td>6</td>\n",
       "      <td>202.0</td>\n",
       "      <td>202.0</td>\n",
       "      <td>202.0</td>\n",
       "      <td>202.0</td>\n",
       "    </tr>\n",
       "    <tr>\n",
       "      <th>2015-01-01</th>\n",
       "      <td>20.8</td>\n",
       "      <td>66.5</td>\n",
       "      <td>5.2</td>\n",
       "      <td>230.0</td>\n",
       "      <td>382.0</td>\n",
       "      <td>9.9</td>\n",
       "      <td>60.691097</td>\n",
       "      <td>985.187382</td>\n",
       "      <td>26.3352</td>\n",
       "      <td>1.102459</td>\n",
       "      <td>India_Delhi</td>\n",
       "      <td>6</td>\n",
       "      <td>382.0</td>\n",
       "      <td>382.0</td>\n",
       "      <td>158.0</td>\n",
       "      <td>382.0</td>\n",
       "    </tr>\n",
       "    <tr>\n",
       "      <th>2015-01-02</th>\n",
       "      <td>12.7</td>\n",
       "      <td>33.9</td>\n",
       "      <td>6.0</td>\n",
       "      <td>81.0</td>\n",
       "      <td>172.0</td>\n",
       "      <td>4.2</td>\n",
       "      <td>60.691097</td>\n",
       "      <td>985.187382</td>\n",
       "      <td>26.3352</td>\n",
       "      <td>1.102459</td>\n",
       "      <td>India_Delhi</td>\n",
       "      <td>6</td>\n",
       "      <td>172.0</td>\n",
       "      <td>172.0</td>\n",
       "      <td>172.0</td>\n",
       "      <td>172.0</td>\n",
       "    </tr>\n",
       "  </tbody>\n",
       "</table>\n",
       "</div>"
      ],
      "text/plain": [
       "              co   no2   o3   pm10   pm25  so2   humidity    pressure  \\\n",
       "2014-12-29  14.1  36.2  3.2  218.0  307.0  4.2  60.691097  985.187382   \n",
       "2014-12-30  20.4  36.8  4.8  330.0  367.0  5.8  60.691097  985.187382   \n",
       "2014-12-31  12.7  28.7  7.8  137.0  202.0  6.3  60.691097  985.187382   \n",
       "2015-01-01  20.8  66.5  5.2  230.0  382.0  9.9  60.691097  985.187382   \n",
       "2015-01-02  12.7  33.9  6.0   81.0  172.0  4.2  60.691097  985.187382   \n",
       "\n",
       "            temperature  wind-speed Country_City  Checks    AQI  \\\n",
       "2014-12-29      26.3352    1.102459  India_Delhi       6  307.0   \n",
       "2014-12-30      26.3352    1.102459  India_Delhi       6  367.0   \n",
       "2014-12-31      26.3352    1.102459  India_Delhi       6  202.0   \n",
       "2015-01-01      26.3352    1.102459  India_Delhi       6  382.0   \n",
       "2015-01-02      26.3352    1.102459  India_Delhi       6  172.0   \n",
       "\n",
       "            AQI_smoothed_iqr  AQI_smoothed_zscore  AQI_smoothed_rolling  \n",
       "2014-12-29             307.0                307.0                 307.0  \n",
       "2014-12-30             367.0                367.0                 367.0  \n",
       "2014-12-31             202.0                202.0                 202.0  \n",
       "2015-01-01             382.0                158.0                 382.0  \n",
       "2015-01-02             172.0                172.0                 172.0  "
      ]
     },
     "execution_count": 20,
     "metadata": {},
     "output_type": "execute_result"
    }
   ],
   "source": [
    "new_data4.head()"
   ]
  },
  {
   "cell_type": "markdown",
   "id": "d737a838",
   "metadata": {
    "papermill": {
     "duration": 0.014115,
     "end_time": "2025-01-27T21:20:29.289933",
     "exception": false,
     "start_time": "2025-01-27T21:20:29.275818",
     "status": "completed"
    },
    "tags": []
   },
   "source": [
    "(Preprocess Pollution --> Smooth Pollution --> Calculate smooth aqi)"
   ]
  },
  {
   "cell_type": "code",
   "execution_count": 21,
   "id": "8341ab31",
   "metadata": {
    "execution": {
     "iopub.execute_input": "2025-01-27T21:20:29.320225Z",
     "iopub.status.busy": "2025-01-27T21:20:29.319858Z",
     "iopub.status.idle": "2025-01-27T21:20:29.357367Z",
     "shell.execute_reply": "2025-01-27T21:20:29.356351Z"
    },
    "papermill": {
     "duration": 0.054828,
     "end_time": "2025-01-27T21:20:29.359173",
     "exception": false,
     "start_time": "2025-01-27T21:20:29.304345",
     "status": "completed"
    },
    "tags": []
   },
   "outputs": [
    {
     "data": {
      "text/html": [
       "<div>\n",
       "<style scoped>\n",
       "    .dataframe tbody tr th:only-of-type {\n",
       "        vertical-align: middle;\n",
       "    }\n",
       "\n",
       "    .dataframe tbody tr th {\n",
       "        vertical-align: top;\n",
       "    }\n",
       "\n",
       "    .dataframe thead th {\n",
       "        text-align: right;\n",
       "    }\n",
       "</style>\n",
       "<table border=\"1\" class=\"dataframe\">\n",
       "  <thead>\n",
       "    <tr style=\"text-align: right;\">\n",
       "      <th></th>\n",
       "      <th>co</th>\n",
       "      <th>no2</th>\n",
       "      <th>o3</th>\n",
       "      <th>pm10</th>\n",
       "      <th>pm25</th>\n",
       "      <th>so2</th>\n",
       "      <th>humidity</th>\n",
       "      <th>pressure</th>\n",
       "      <th>temperature</th>\n",
       "      <th>wind-speed</th>\n",
       "      <th>Country_City</th>\n",
       "      <th>AQI_Smooth</th>\n",
       "    </tr>\n",
       "  </thead>\n",
       "  <tbody>\n",
       "    <tr>\n",
       "      <th>2014-12-29</th>\n",
       "      <td>11.50</td>\n",
       "      <td>29.400000</td>\n",
       "      <td>5.366667</td>\n",
       "      <td>182.333333</td>\n",
       "      <td>195.666667</td>\n",
       "      <td>6.000000</td>\n",
       "      <td>60.691097</td>\n",
       "      <td>985.187382</td>\n",
       "      <td>26.3352</td>\n",
       "      <td>1.102459</td>\n",
       "      <td>India_Delhi</td>\n",
       "      <td>195.666667</td>\n",
       "    </tr>\n",
       "    <tr>\n",
       "      <th>2014-12-30</th>\n",
       "      <td>11.50</td>\n",
       "      <td>29.400000</td>\n",
       "      <td>5.366667</td>\n",
       "      <td>182.333333</td>\n",
       "      <td>195.666667</td>\n",
       "      <td>6.000000</td>\n",
       "      <td>60.691097</td>\n",
       "      <td>985.187382</td>\n",
       "      <td>26.3352</td>\n",
       "      <td>1.102459</td>\n",
       "      <td>India_Delhi</td>\n",
       "      <td>195.666667</td>\n",
       "    </tr>\n",
       "    <tr>\n",
       "      <th>2014-12-31</th>\n",
       "      <td>11.50</td>\n",
       "      <td>29.400000</td>\n",
       "      <td>5.366667</td>\n",
       "      <td>182.333333</td>\n",
       "      <td>195.666667</td>\n",
       "      <td>6.000000</td>\n",
       "      <td>60.691097</td>\n",
       "      <td>985.187382</td>\n",
       "      <td>26.3352</td>\n",
       "      <td>1.102459</td>\n",
       "      <td>India_Delhi</td>\n",
       "      <td>195.666667</td>\n",
       "    </tr>\n",
       "    <tr>\n",
       "      <th>2015-01-01</th>\n",
       "      <td>11.50</td>\n",
       "      <td>29.400000</td>\n",
       "      <td>5.366667</td>\n",
       "      <td>182.333333</td>\n",
       "      <td>195.666667</td>\n",
       "      <td>6.000000</td>\n",
       "      <td>60.691097</td>\n",
       "      <td>985.187382</td>\n",
       "      <td>26.3352</td>\n",
       "      <td>1.102459</td>\n",
       "      <td>India_Delhi</td>\n",
       "      <td>195.666667</td>\n",
       "    </tr>\n",
       "    <tr>\n",
       "      <th>2015-01-02</th>\n",
       "      <td>11.25</td>\n",
       "      <td>26.616667</td>\n",
       "      <td>5.816667</td>\n",
       "      <td>166.000000</td>\n",
       "      <td>177.000000</td>\n",
       "      <td>5.733333</td>\n",
       "      <td>60.691097</td>\n",
       "      <td>985.187382</td>\n",
       "      <td>26.3352</td>\n",
       "      <td>1.102459</td>\n",
       "      <td>India_Delhi</td>\n",
       "      <td>177.000000</td>\n",
       "    </tr>\n",
       "  </tbody>\n",
       "</table>\n",
       "</div>"
      ],
      "text/plain": [
       "               co        no2        o3        pm10        pm25       so2  \\\n",
       "2014-12-29  11.50  29.400000  5.366667  182.333333  195.666667  6.000000   \n",
       "2014-12-30  11.50  29.400000  5.366667  182.333333  195.666667  6.000000   \n",
       "2014-12-31  11.50  29.400000  5.366667  182.333333  195.666667  6.000000   \n",
       "2015-01-01  11.50  29.400000  5.366667  182.333333  195.666667  6.000000   \n",
       "2015-01-02  11.25  26.616667  5.816667  166.000000  177.000000  5.733333   \n",
       "\n",
       "             humidity    pressure  temperature  wind-speed Country_City  \\\n",
       "2014-12-29  60.691097  985.187382      26.3352    1.102459  India_Delhi   \n",
       "2014-12-30  60.691097  985.187382      26.3352    1.102459  India_Delhi   \n",
       "2014-12-31  60.691097  985.187382      26.3352    1.102459  India_Delhi   \n",
       "2015-01-01  60.691097  985.187382      26.3352    1.102459  India_Delhi   \n",
       "2015-01-02  60.691097  985.187382      26.3352    1.102459  India_Delhi   \n",
       "\n",
       "            AQI_Smooth  \n",
       "2014-12-29  195.666667  \n",
       "2014-12-30  195.666667  \n",
       "2014-12-31  195.666667  \n",
       "2015-01-01  195.666667  \n",
       "2015-01-02  177.000000  "
      ]
     },
     "execution_count": 21,
     "metadata": {},
     "output_type": "execute_result"
    }
   ],
   "source": [
    "new_smooth = fn.calculate_smooth_aqi(new_data3, columns=['co', 'no2', 'o3', 'pm10', 'pm25', 'so2'])\n",
    "new_smooth.head()"
   ]
  },
  {
   "cell_type": "markdown",
   "id": "ab7a2c6a",
   "metadata": {
    "papermill": {
     "duration": 0.014399,
     "end_time": "2025-01-27T21:20:29.388428",
     "exception": false,
     "start_time": "2025-01-27T21:20:29.374029",
     "status": "completed"
    },
    "tags": []
   },
   "source": [
    "**AQI (normal, smooth_iqr, smooth_zscore, smooth_rolling, smooth)**"
   ]
  },
  {
   "cell_type": "code",
   "execution_count": 22,
   "id": "8811eae9",
   "metadata": {
    "execution": {
     "iopub.execute_input": "2025-01-27T21:20:29.418909Z",
     "iopub.status.busy": "2025-01-27T21:20:29.418591Z",
     "iopub.status.idle": "2025-01-27T21:20:30.065801Z",
     "shell.execute_reply": "2025-01-27T21:20:30.064766Z"
    },
    "papermill": {
     "duration": 0.664058,
     "end_time": "2025-01-27T21:20:30.067311",
     "exception": false,
     "start_time": "2025-01-27T21:20:29.403253",
     "status": "completed"
    },
    "tags": []
   },
   "outputs": [
    {
     "data": {
      "text/plain": [
       "<Axes: >"
      ]
     },
     "execution_count": 22,
     "metadata": {},
     "output_type": "execute_result"
    },
    {
     "data": {
      "image/png": "[encoded data removed]",
      "text/plain": [
       "<Figure size 640x480 with 1 Axes>"
      ]
     },
     "metadata": {},
     "output_type": "display_data"
    }
   ],
   "source": [
    "#normal\n",
    "aqi_normal = new_data4['AQI']\n",
    "aqi_normal.plot()"
   ]
  },
  {
   "cell_type": "code",
   "execution_count": 23,
   "id": "2817fd6b",
   "metadata": {
    "execution": {
     "iopub.execute_input": "2025-01-27T21:20:30.100108Z",
     "iopub.status.busy": "2025-01-27T21:20:30.099657Z",
     "iopub.status.idle": "2025-01-27T21:20:30.695346Z",
     "shell.execute_reply": "2025-01-27T21:20:30.694292Z"
    },
    "papermill": {
     "duration": 0.613636,
     "end_time": "2025-01-27T21:20:30.696934",
     "exception": false,
     "start_time": "2025-01-27T21:20:30.083298",
     "status": "completed"
    },
    "tags": []
   },
   "outputs": [
    {
     "data": {
      "text/plain": [
       "<Axes: >"
      ]
     },
     "execution_count": 23,
     "metadata": {},
     "output_type": "execute_result"
    },
    {
     "data": {
      "image/png": "[encoded data removed]",
      "text/plain": [
       "<Figure size 640x480 with 1 Axes>"
      ]
     },
     "metadata": {},
     "output_type": "display_data"
    }
   ],
   "source": [
    "#smooth_iqr\n",
    "aqi_smooth_iqr = new_data4['AQI_smoothed_iqr']\n",
    "aqi_smooth_iqr.plot()"
   ]
  },
  {
   "cell_type": "code",
   "execution_count": 24,
   "id": "49641b61",
   "metadata": {
    "execution": {
     "iopub.execute_input": "2025-01-27T21:20:30.731649Z",
     "iopub.status.busy": "2025-01-27T21:20:30.731207Z",
     "iopub.status.idle": "2025-01-27T21:20:31.230333Z",
     "shell.execute_reply": "2025-01-27T21:20:31.229341Z"
    },
    "papermill": {
     "duration": 0.518254,
     "end_time": "2025-01-27T21:20:31.232083",
     "exception": false,
     "start_time": "2025-01-27T21:20:30.713829",
     "status": "completed"
    },
    "tags": []
   },
   "outputs": [
    {
     "data": {
      "text/plain": [
       "<Axes: >"
      ]
     },
     "execution_count": 24,
     "metadata": {},
     "output_type": "execute_result"
    },
    {
     "data": {
      "image/png": "[encoded data removed]",
      "text/plain": [
       "<Figure size 640x480 with 1 Axes>"
      ]
     },
     "metadata": {},
     "output_type": "display_data"
    }
   ],
   "source": [
    "#smooth_zscore\n",
    "aqi_smooth_zscore = new_data4['AQI_smoothed_zscore']\n",
    "aqi_smooth_zscore.plot()"
   ]
  },
  {
   "cell_type": "code",
   "execution_count": 25,
   "id": "5f8a058a",
   "metadata": {
    "execution": {
     "iopub.execute_input": "2025-01-27T21:20:31.318225Z",
     "iopub.status.busy": "2025-01-27T21:20:31.317859Z",
     "iopub.status.idle": "2025-01-27T21:20:31.787978Z",
     "shell.execute_reply": "2025-01-27T21:20:31.786885Z"
    },
    "papermill": {
     "duration": 0.5396,
     "end_time": "2025-01-27T21:20:31.789639",
     "exception": false,
     "start_time": "2025-01-27T21:20:31.250039",
     "status": "completed"
    },
    "tags": []
   },
   "outputs": [
    {
     "data": {
      "text/plain": [
       "<Axes: >"
      ]
     },
     "execution_count": 25,
     "metadata": {},
     "output_type": "execute_result"
    },
    {
     "data": {
      "image/png": "[encoded data removed]",
      "text/plain": [
       "<Figure size 640x480 with 1 Axes>"
      ]
     },
     "metadata": {},
     "output_type": "display_data"
    }
   ],
   "source": [
    "#smooth_rolling\n",
    "aqi_smooth_rolling = new_data4['AQI_smoothed_rolling']\n",
    "aqi_smooth_rolling.plot()"
   ]
  },
  {
   "cell_type": "code",
   "execution_count": 26,
   "id": "226970e9",
   "metadata": {
    "execution": {
     "iopub.execute_input": "2025-01-27T21:20:31.827381Z",
     "iopub.status.busy": "2025-01-27T21:20:31.826987Z",
     "iopub.status.idle": "2025-01-27T21:20:32.282392Z",
     "shell.execute_reply": "2025-01-27T21:20:32.281377Z"
    },
    "papermill": {
     "duration": 0.476544,
     "end_time": "2025-01-27T21:20:32.284564",
     "exception": false,
     "start_time": "2025-01-27T21:20:31.808020",
     "status": "completed"
    },
    "tags": []
   },
   "outputs": [
    {
     "data": {
      "text/plain": [
       "<Axes: >"
      ]
     },
     "execution_count": 26,
     "metadata": {},
     "output_type": "execute_result"
    },
    {
     "data": {
      "image/png": "[encoded data removed]",
      "text/plain": [
       "<Figure size 640x480 with 1 Axes>"
      ]
     },
     "metadata": {},
     "output_type": "display_data"
    }
   ],
   "source": [
    "#smooth\n",
    "aqi_smooth = new_smooth['AQI_Smooth']\n",
    "aqi_smooth.plot()"
   ]
  },
  {
   "cell_type": "code",
   "execution_count": null,
   "id": "bde1b5f8",
   "metadata": {
    "papermill": {
     "duration": 0.01866,
     "end_time": "2025-01-27T21:20:32.323737",
     "exception": false,
     "start_time": "2025-01-27T21:20:32.305077",
     "status": "completed"
    },
    "tags": []
   },
   "outputs": [],
   "source": []
  },
  {
   "cell_type": "markdown",
   "id": "6484b477",
   "metadata": {
    "papermill": {
     "duration": 0.019119,
     "end_time": "2025-01-27T21:20:32.362004",
     "exception": false,
     "start_time": "2025-01-27T21:20:32.342885",
     "status": "completed"
    },
    "tags": []
   },
   "source": [
    "# **2. Split and Preprocess**"
   ]
  },
  {
   "cell_type": "markdown",
   "id": "69fb8882",
   "metadata": {
    "papermill": {
     "duration": 0.018967,
     "end_time": "2025-01-27T21:20:32.400359",
     "exception": false,
     "start_time": "2025-01-27T21:20:32.381392",
     "status": "completed"
    },
    "tags": []
   },
   "source": [
    "## **2.1. Splitting & Preprocessing the Raw Data(Normal AQI)**"
   ]
  },
  {
   "cell_type": "markdown",
   "id": "21f32744",
   "metadata": {
    "papermill": {
     "duration": 0.019817,
     "end_time": "2025-01-27T21:20:32.439548",
     "exception": false,
     "start_time": "2025-01-27T21:20:32.419731",
     "status": "completed"
    },
    "tags": []
   },
   "source": [
    "Normal AQI"
   ]
  },
  {
   "cell_type": "code",
   "execution_count": 27,
   "id": "d399c3c4",
   "metadata": {
    "execution": {
     "iopub.execute_input": "2025-01-27T21:20:32.479007Z",
     "iopub.status.busy": "2025-01-27T21:20:32.478678Z",
     "iopub.status.idle": "2025-01-27T21:20:32.500734Z",
     "shell.execute_reply": "2025-01-27T21:20:32.499833Z"
    },
    "papermill": {
     "duration": 0.043453,
     "end_time": "2025-01-27T21:20:32.502084",
     "exception": false,
     "start_time": "2025-01-27T21:20:32.458631",
     "status": "completed"
    },
    "tags": []
   },
   "outputs": [
    {
     "data": {
      "text/html": [
       "<div>\n",
       "<style scoped>\n",
       "    .dataframe tbody tr th:only-of-type {\n",
       "        vertical-align: middle;\n",
       "    }\n",
       "\n",
       "    .dataframe tbody tr th {\n",
       "        vertical-align: top;\n",
       "    }\n",
       "\n",
       "    .dataframe thead th {\n",
       "        text-align: right;\n",
       "    }\n",
       "</style>\n",
       "<table border=\"1\" class=\"dataframe\">\n",
       "  <thead>\n",
       "    <tr style=\"text-align: right;\">\n",
       "      <th></th>\n",
       "      <th>co</th>\n",
       "      <th>no2</th>\n",
       "      <th>o3</th>\n",
       "      <th>pm10</th>\n",
       "      <th>pm25</th>\n",
       "      <th>so2</th>\n",
       "      <th>humidity</th>\n",
       "      <th>pressure</th>\n",
       "      <th>temperature</th>\n",
       "      <th>wind-speed</th>\n",
       "      <th>Country_City</th>\n",
       "      <th>Checks</th>\n",
       "      <th>AQI</th>\n",
       "      <th>AQI_smoothed_iqr</th>\n",
       "      <th>AQI_smoothed_zscore</th>\n",
       "      <th>AQI_smoothed_rolling</th>\n",
       "    </tr>\n",
       "  </thead>\n",
       "  <tbody>\n",
       "    <tr>\n",
       "      <th>2014-12-29</th>\n",
       "      <td>14.1</td>\n",
       "      <td>36.2</td>\n",
       "      <td>3.2</td>\n",
       "      <td>218.0</td>\n",
       "      <td>307.0</td>\n",
       "      <td>4.2</td>\n",
       "      <td>60.691097</td>\n",
       "      <td>985.187382</td>\n",
       "      <td>26.3352</td>\n",
       "      <td>1.102459</td>\n",
       "      <td>India_Delhi</td>\n",
       "      <td>6</td>\n",
       "      <td>307.0</td>\n",
       "      <td>307.0</td>\n",
       "      <td>307.0</td>\n",
       "      <td>307.0</td>\n",
       "    </tr>\n",
       "    <tr>\n",
       "      <th>2014-12-30</th>\n",
       "      <td>20.4</td>\n",
       "      <td>36.8</td>\n",
       "      <td>4.8</td>\n",
       "      <td>330.0</td>\n",
       "      <td>367.0</td>\n",
       "      <td>5.8</td>\n",
       "      <td>60.691097</td>\n",
       "      <td>985.187382</td>\n",
       "      <td>26.3352</td>\n",
       "      <td>1.102459</td>\n",
       "      <td>India_Delhi</td>\n",
       "      <td>6</td>\n",
       "      <td>367.0</td>\n",
       "      <td>367.0</td>\n",
       "      <td>367.0</td>\n",
       "      <td>367.0</td>\n",
       "    </tr>\n",
       "    <tr>\n",
       "      <th>2014-12-31</th>\n",
       "      <td>12.7</td>\n",
       "      <td>28.7</td>\n",
       "      <td>7.8</td>\n",
       "      <td>137.0</td>\n",
       "      <td>202.0</td>\n",
       "      <td>6.3</td>\n",
       "      <td>60.691097</td>\n",
       "      <td>985.187382</td>\n",
       "      <td>26.3352</td>\n",
       "      <td>1.102459</td>\n",
       "      <td>India_Delhi</td>\n",
       "      <td>6</td>\n",
       "      <td>202.0</td>\n",
       "      <td>202.0</td>\n",
       "      <td>202.0</td>\n",
       "      <td>202.0</td>\n",
       "    </tr>\n",
       "    <tr>\n",
       "      <th>2015-01-01</th>\n",
       "      <td>20.8</td>\n",
       "      <td>66.5</td>\n",
       "      <td>5.2</td>\n",
       "      <td>230.0</td>\n",
       "      <td>382.0</td>\n",
       "      <td>9.9</td>\n",
       "      <td>60.691097</td>\n",
       "      <td>985.187382</td>\n",
       "      <td>26.3352</td>\n",
       "      <td>1.102459</td>\n",
       "      <td>India_Delhi</td>\n",
       "      <td>6</td>\n",
       "      <td>382.0</td>\n",
       "      <td>382.0</td>\n",
       "      <td>158.0</td>\n",
       "      <td>382.0</td>\n",
       "    </tr>\n",
       "    <tr>\n",
       "      <th>2015-01-02</th>\n",
       "      <td>12.7</td>\n",
       "      <td>33.9</td>\n",
       "      <td>6.0</td>\n",
       "      <td>81.0</td>\n",
       "      <td>172.0</td>\n",
       "      <td>4.2</td>\n",
       "      <td>60.691097</td>\n",
       "      <td>985.187382</td>\n",
       "      <td>26.3352</td>\n",
       "      <td>1.102459</td>\n",
       "      <td>India_Delhi</td>\n",
       "      <td>6</td>\n",
       "      <td>172.0</td>\n",
       "      <td>172.0</td>\n",
       "      <td>172.0</td>\n",
       "      <td>172.0</td>\n",
       "    </tr>\n",
       "    <tr>\n",
       "      <th>2015-01-03</th>\n",
       "      <td>14.3</td>\n",
       "      <td>27.8</td>\n",
       "      <td>5.2</td>\n",
       "      <td>98.0</td>\n",
       "      <td>179.0</td>\n",
       "      <td>5.6</td>\n",
       "      <td>60.691097</td>\n",
       "      <td>985.187382</td>\n",
       "      <td>26.3352</td>\n",
       "      <td>1.102459</td>\n",
       "      <td>India_Delhi</td>\n",
       "      <td>6</td>\n",
       "      <td>179.0</td>\n",
       "      <td>179.0</td>\n",
       "      <td>179.0</td>\n",
       "      <td>179.0</td>\n",
       "    </tr>\n",
       "    <tr>\n",
       "      <th>2015-01-04</th>\n",
       "      <td>12.6</td>\n",
       "      <td>19.5</td>\n",
       "      <td>5.9</td>\n",
       "      <td>120.0</td>\n",
       "      <td>195.0</td>\n",
       "      <td>2.6</td>\n",
       "      <td>60.691097</td>\n",
       "      <td>985.187382</td>\n",
       "      <td>26.3352</td>\n",
       "      <td>1.102459</td>\n",
       "      <td>India_Delhi</td>\n",
       "      <td>6</td>\n",
       "      <td>195.0</td>\n",
       "      <td>195.0</td>\n",
       "      <td>195.0</td>\n",
       "      <td>195.0</td>\n",
       "    </tr>\n",
       "    <tr>\n",
       "      <th>2015-01-05</th>\n",
       "      <td>13.1</td>\n",
       "      <td>19.1</td>\n",
       "      <td>8.4</td>\n",
       "      <td>114.0</td>\n",
       "      <td>185.0</td>\n",
       "      <td>2.5</td>\n",
       "      <td>60.691097</td>\n",
       "      <td>985.187382</td>\n",
       "      <td>26.3352</td>\n",
       "      <td>1.102459</td>\n",
       "      <td>India_Delhi</td>\n",
       "      <td>6</td>\n",
       "      <td>185.0</td>\n",
       "      <td>185.0</td>\n",
       "      <td>185.0</td>\n",
       "      <td>185.0</td>\n",
       "    </tr>\n",
       "  </tbody>\n",
       "</table>\n",
       "</div>"
      ],
      "text/plain": [
       "              co   no2   o3   pm10   pm25  so2   humidity    pressure  \\\n",
       "2014-12-29  14.1  36.2  3.2  218.0  307.0  4.2  60.691097  985.187382   \n",
       "2014-12-30  20.4  36.8  4.8  330.0  367.0  5.8  60.691097  985.187382   \n",
       "2014-12-31  12.7  28.7  7.8  137.0  202.0  6.3  60.691097  985.187382   \n",
       "2015-01-01  20.8  66.5  5.2  230.0  382.0  9.9  60.691097  985.187382   \n",
       "2015-01-02  12.7  33.9  6.0   81.0  172.0  4.2  60.691097  985.187382   \n",
       "2015-01-03  14.3  27.8  5.2   98.0  179.0  5.6  60.691097  985.187382   \n",
       "2015-01-04  12.6  19.5  5.9  120.0  195.0  2.6  60.691097  985.187382   \n",
       "2015-01-05  13.1  19.1  8.4  114.0  185.0  2.5  60.691097  985.187382   \n",
       "\n",
       "            temperature  wind-speed Country_City  Checks    AQI  \\\n",
       "2014-12-29      26.3352    1.102459  India_Delhi       6  307.0   \n",
       "2014-12-30      26.3352    1.102459  India_Delhi       6  367.0   \n",
       "2014-12-31      26.3352    1.102459  India_Delhi       6  202.0   \n",
       "2015-01-01      26.3352    1.102459  India_Delhi       6  382.0   \n",
       "2015-01-02      26.3352    1.102459  India_Delhi       6  172.0   \n",
       "2015-01-03      26.3352    1.102459  India_Delhi       6  179.0   \n",
       "2015-01-04      26.3352    1.102459  India_Delhi       6  195.0   \n",
       "2015-01-05      26.3352    1.102459  India_Delhi       6  185.0   \n",
       "\n",
       "            AQI_smoothed_iqr  AQI_smoothed_zscore  AQI_smoothed_rolling  \n",
       "2014-12-29             307.0                307.0                 307.0  \n",
       "2014-12-30             367.0                367.0                 367.0  \n",
       "2014-12-31             202.0                202.0                 202.0  \n",
       "2015-01-01             382.0                158.0                 382.0  \n",
       "2015-01-02             172.0                172.0                 172.0  \n",
       "2015-01-03             179.0                179.0                 179.0  \n",
       "2015-01-04             195.0                195.0                 195.0  \n",
       "2015-01-05             185.0                185.0                 185.0  "
      ]
     },
     "execution_count": 27,
     "metadata": {},
     "output_type": "execute_result"
    }
   ],
   "source": [
    "new_data4.head(8)"
   ]
  },
  {
   "cell_type": "code",
   "execution_count": 28,
   "id": "58f0aa00",
   "metadata": {
    "execution": {
     "iopub.execute_input": "2025-01-27T21:20:32.541776Z",
     "iopub.status.busy": "2025-01-27T21:20:32.541445Z",
     "iopub.status.idle": "2025-01-27T21:20:32.546860Z",
     "shell.execute_reply": "2025-01-27T21:20:32.546090Z"
    },
    "papermill": {
     "duration": 0.026869,
     "end_time": "2025-01-27T21:20:32.548422",
     "exception": false,
     "start_time": "2025-01-27T21:20:32.521553",
     "status": "completed"
    },
    "tags": []
   },
   "outputs": [
    {
     "data": {
      "text/plain": [
       "Index(['co', 'no2', 'o3', 'pm10', 'pm25', 'so2', 'humidity', 'pressure',\n",
       "       'temperature', 'wind-speed', 'Country_City', 'Checks', 'AQI',\n",
       "       'AQI_smoothed_iqr', 'AQI_smoothed_zscore', 'AQI_smoothed_rolling'],\n",
       "      dtype='object')"
      ]
     },
     "execution_count": 28,
     "metadata": {},
     "output_type": "execute_result"
    }
   ],
   "source": [
    "new_data4.columns"
   ]
  },
  {
   "cell_type": "code",
   "execution_count": 29,
   "id": "0f1cfc46",
   "metadata": {
    "execution": {
     "iopub.execute_input": "2025-01-27T21:20:32.589018Z",
     "iopub.status.busy": "2025-01-27T21:20:32.588691Z",
     "iopub.status.idle": "2025-01-27T21:20:32.593295Z",
     "shell.execute_reply": "2025-01-27T21:20:32.592582Z"
    },
    "papermill": {
     "duration": 0.026702,
     "end_time": "2025-01-27T21:20:32.594747",
     "exception": false,
     "start_time": "2025-01-27T21:20:32.568045",
     "status": "completed"
    },
    "tags": []
   },
   "outputs": [],
   "source": [
    "aqi_normal = new_data4.copy()"
   ]
  },
  {
   "cell_type": "code",
   "execution_count": 30,
   "id": "2643f32c",
   "metadata": {
    "execution": {
     "iopub.execute_input": "2025-01-27T21:20:32.635278Z",
     "iopub.status.busy": "2025-01-27T21:20:32.634952Z",
     "iopub.status.idle": "2025-01-27T21:20:32.639756Z",
     "shell.execute_reply": "2025-01-27T21:20:32.638990Z"
    },
    "papermill": {
     "duration": 0.026994,
     "end_time": "2025-01-27T21:20:32.641089",
     "exception": false,
     "start_time": "2025-01-27T21:20:32.614095",
     "status": "completed"
    },
    "tags": []
   },
   "outputs": [],
   "source": [
    "aqi_normal = aqi_normal.drop([ 'humidity', 'pressure',\n",
    "       'temperature', 'wind-speed', 'Country_City', 'Checks', \n",
    "        'AQI', 'AQI_smoothed_zscore', 'AQI_smoothed_rolling'], axis = 1)"
   ]
  },
  {
   "cell_type": "code",
   "execution_count": 31,
   "id": "f0f9458f",
   "metadata": {
    "execution": {
     "iopub.execute_input": "2025-01-27T21:20:32.681941Z",
     "iopub.status.busy": "2025-01-27T21:20:32.681517Z",
     "iopub.status.idle": "2025-01-27T21:20:32.694823Z",
     "shell.execute_reply": "2025-01-27T21:20:32.693982Z"
    },
    "papermill": {
     "duration": 0.035735,
     "end_time": "2025-01-27T21:20:32.696492",
     "exception": false,
     "start_time": "2025-01-27T21:20:32.660757",
     "status": "completed"
    },
    "tags": []
   },
   "outputs": [
    {
     "data": {
      "text/html": [
       "<div>\n",
       "<style scoped>\n",
       "    .dataframe tbody tr th:only-of-type {\n",
       "        vertical-align: middle;\n",
       "    }\n",
       "\n",
       "    .dataframe tbody tr th {\n",
       "        vertical-align: top;\n",
       "    }\n",
       "\n",
       "    .dataframe thead th {\n",
       "        text-align: right;\n",
       "    }\n",
       "</style>\n",
       "<table border=\"1\" class=\"dataframe\">\n",
       "  <thead>\n",
       "    <tr style=\"text-align: right;\">\n",
       "      <th></th>\n",
       "      <th>co</th>\n",
       "      <th>no2</th>\n",
       "      <th>o3</th>\n",
       "      <th>pm10</th>\n",
       "      <th>pm25</th>\n",
       "      <th>so2</th>\n",
       "      <th>AQI_smoothed_iqr</th>\n",
       "    </tr>\n",
       "  </thead>\n",
       "  <tbody>\n",
       "    <tr>\n",
       "      <th>2014-12-29</th>\n",
       "      <td>14.1</td>\n",
       "      <td>36.2</td>\n",
       "      <td>3.2</td>\n",
       "      <td>218.0</td>\n",
       "      <td>307.0</td>\n",
       "      <td>4.2</td>\n",
       "      <td>307.0</td>\n",
       "    </tr>\n",
       "    <tr>\n",
       "      <th>2014-12-30</th>\n",
       "      <td>20.4</td>\n",
       "      <td>36.8</td>\n",
       "      <td>4.8</td>\n",
       "      <td>330.0</td>\n",
       "      <td>367.0</td>\n",
       "      <td>5.8</td>\n",
       "      <td>367.0</td>\n",
       "    </tr>\n",
       "    <tr>\n",
       "      <th>2014-12-31</th>\n",
       "      <td>12.7</td>\n",
       "      <td>28.7</td>\n",
       "      <td>7.8</td>\n",
       "      <td>137.0</td>\n",
       "      <td>202.0</td>\n",
       "      <td>6.3</td>\n",
       "      <td>202.0</td>\n",
       "    </tr>\n",
       "    <tr>\n",
       "      <th>2015-01-01</th>\n",
       "      <td>20.8</td>\n",
       "      <td>66.5</td>\n",
       "      <td>5.2</td>\n",
       "      <td>230.0</td>\n",
       "      <td>382.0</td>\n",
       "      <td>9.9</td>\n",
       "      <td>382.0</td>\n",
       "    </tr>\n",
       "    <tr>\n",
       "      <th>2015-01-02</th>\n",
       "      <td>12.7</td>\n",
       "      <td>33.9</td>\n",
       "      <td>6.0</td>\n",
       "      <td>81.0</td>\n",
       "      <td>172.0</td>\n",
       "      <td>4.2</td>\n",
       "      <td>172.0</td>\n",
       "    </tr>\n",
       "  </tbody>\n",
       "</table>\n",
       "</div>"
      ],
      "text/plain": [
       "              co   no2   o3   pm10   pm25  so2  AQI_smoothed_iqr\n",
       "2014-12-29  14.1  36.2  3.2  218.0  307.0  4.2             307.0\n",
       "2014-12-30  20.4  36.8  4.8  330.0  367.0  5.8             367.0\n",
       "2014-12-31  12.7  28.7  7.8  137.0  202.0  6.3             202.0\n",
       "2015-01-01  20.8  66.5  5.2  230.0  382.0  9.9             382.0\n",
       "2015-01-02  12.7  33.9  6.0   81.0  172.0  4.2             172.0"
      ]
     },
     "execution_count": 31,
     "metadata": {},
     "output_type": "execute_result"
    }
   ],
   "source": [
    "aqi_normal.head()"
   ]
  },
  {
   "cell_type": "code",
   "execution_count": 32,
   "id": "f459dab1",
   "metadata": {
    "execution": {
     "iopub.execute_input": "2025-01-27T21:20:32.738148Z",
     "iopub.status.busy": "2025-01-27T21:20:32.737822Z",
     "iopub.status.idle": "2025-01-27T21:20:32.745996Z",
     "shell.execute_reply": "2025-01-27T21:20:32.745083Z"
    },
    "papermill": {
     "duration": 0.030749,
     "end_time": "2025-01-27T21:20:32.747456",
     "exception": false,
     "start_time": "2025-01-27T21:20:32.716707",
     "status": "completed"
    },
    "tags": []
   },
   "outputs": [],
   "source": [
    "def new_data_to_X_y(new_data, window_size, train_pct, val_pct, test_pct):\n",
    "    \n",
    "    new_data_as_np = new_data.to_numpy()\n",
    "    \n",
    "    # Split features and target\n",
    "    features = new_data_as_np[:, :-1]  # All columns except the last one\n",
    "    target = new_data_as_np[:, -1]     # Only the AQI column\n",
    "    \n",
    "    # Split data based on percentages\n",
    "    total_len = len(features)\n",
    "    train_end = int(train_pct * total_len)\n",
    "    val_end = train_end + int(val_pct * total_len)\n",
    "    \n",
    "    # Prepare train, val, and test splits for both features and target\n",
    "    train_features = features[:train_end]\n",
    "    train_target = target[:train_end]\n",
    "    \n",
    "    val_features = features[train_end:val_end]\n",
    "    val_target = target[train_end:val_end]\n",
    "    \n",
    "    test_features = features[val_end:]\n",
    "    test_target = target[val_end:]\n",
    "    \n",
    "    # Helper function to create X and y\n",
    "    def create_X_y(feature_data, target_data):\n",
    "        X, y = [], []\n",
    "        for i in range(len(feature_data) - window_size):\n",
    "            # Create sequence of all features\n",
    "            sequence = feature_data[i:i + window_size]\n",
    "            X.append(sequence)\n",
    "            # Get the target AQI value\n",
    "            y.append(target_data[i + window_size])\n",
    "        return np.array(X), np.array(y)\n",
    "    \n",
    "    \n",
    "    X_train, y_train = create_X_y(train_features, train_target)\n",
    "    X_val, y_val = create_X_y(val_features, val_target)\n",
    "    X_test, y_test = create_X_y(test_features, test_target)\n",
    "    \n",
    "    return (X_train, y_train), (X_val, y_val), (X_test, y_test)"
   ]
  },
  {
   "cell_type": "code",
   "execution_count": 33,
   "id": "f4ddcbde",
   "metadata": {
    "execution": {
     "iopub.execute_input": "2025-01-27T21:20:32.788608Z",
     "iopub.status.busy": "2025-01-27T21:20:32.788208Z",
     "iopub.status.idle": "2025-01-27T21:20:32.799554Z",
     "shell.execute_reply": "2025-01-27T21:20:32.798445Z"
    },
    "papermill": {
     "duration": 0.033594,
     "end_time": "2025-01-27T21:20:32.801068",
     "exception": false,
     "start_time": "2025-01-27T21:20:32.767474",
     "status": "completed"
    },
    "tags": []
   },
   "outputs": [
    {
     "name": "stdout",
     "output_type": "stream",
     "text": [
      "Train shapes: (2393, 6, 6) (2393,)\n",
      "Validation shapes: (473, 6, 6) (473,)\n",
      "Test shapes: (315, 6, 6) (315,)\n"
     ]
    }
   ],
   "source": [
    "#passing data to function\n",
    "\n",
    "# WINDOW_SIZE = 6\n",
    "# train_pct=0.7\n",
    "# val_pct=0.2\n",
    "# test_pct=0.1\n",
    "(X_train1, y_train1), (X_val1, y_val1), (X_test1, y_test1) = new_data_to_X_y(aqi_normal, 6, 0.75, 0.15, 0.1)\n",
    "\n",
    "# shapes\n",
    "print(\"Train shapes:\", X_train1.shape, y_train1.shape)\n",
    "print(\"Validation shapes:\", X_val1.shape, y_val1.shape)\n",
    "print(\"Test shapes:\", X_test1.shape, y_test1.shape)"
   ]
  },
  {
   "cell_type": "markdown",
   "id": "89565964",
   "metadata": {
    "papermill": {
     "duration": 0.019775,
     "end_time": "2025-01-27T21:20:32.840763",
     "exception": false,
     "start_time": "2025-01-27T21:20:32.820988",
     "status": "completed"
    },
    "tags": []
   },
   "source": [
    "## **2.2. Model Training & Testing**"
   ]
  },
  {
   "cell_type": "code",
   "execution_count": 34,
   "id": "9a2d6039",
   "metadata": {
    "execution": {
     "iopub.execute_input": "2025-01-27T21:20:32.881715Z",
     "iopub.status.busy": "2025-01-27T21:20:32.881346Z",
     "iopub.status.idle": "2025-01-27T21:20:48.617392Z",
     "shell.execute_reply": "2025-01-27T21:20:48.616586Z"
    },
    "papermill": {
     "duration": 15.758739,
     "end_time": "2025-01-27T21:20:48.619180",
     "exception": false,
     "start_time": "2025-01-27T21:20:32.860441",
     "status": "completed"
    },
    "tags": []
   },
   "outputs": [],
   "source": [
    "# libraries for building model and testing\n",
    "from tensorflow.keras.models import Sequential\n",
    "from tensorflow.keras.layers import *\n",
    "from tensorflow.keras.callbacks import ModelCheckpoint\n",
    "from tensorflow.keras.callbacks import ReduceLROnPlateau\n",
    "from tensorflow.keras.losses import MeanSquaredError, MeanAbsoluteError\n",
    "from tensorflow.keras.metrics import RootMeanSquaredError\n",
    "from tensorflow.keras.optimizers import Adam\n",
    "from keras.regularizers import l2\n",
    "from keras.callbacks import EarlyStopping"
   ]
  },
  {
   "cell_type": "markdown",
   "id": "d4de57c9",
   "metadata": {
    "papermill": {
     "duration": 0.019978,
     "end_time": "2025-01-27T21:20:48.659488",
     "exception": false,
     "start_time": "2025-01-27T21:20:48.639510",
     "status": "completed"
    },
    "tags": []
   },
   "source": [
    "# LSTM(normal)"
   ]
  },
  {
   "cell_type": "code",
   "execution_count": 35,
   "id": "68f3589c",
   "metadata": {
    "execution": {
     "iopub.execute_input": "2025-01-27T21:20:48.700884Z",
     "iopub.status.busy": "2025-01-27T21:20:48.700171Z",
     "iopub.status.idle": "2025-01-27T21:21:07.395246Z",
     "shell.execute_reply": "2025-01-27T21:21:07.394357Z"
    },
    "papermill": {
     "duration": 18.717375,
     "end_time": "2025-01-27T21:21:07.396748",
     "exception": false,
     "start_time": "2025-01-27T21:20:48.679373",
     "status": "completed"
    },
    "tags": []
   },
   "outputs": [
    {
     "name": "stdout",
     "output_type": "stream",
     "text": [
      "Epoch 1/50\n",
      "\u001b[1m75/75\u001b[0m \u001b[32m━━━━━━━━━━━━━━━━━━━━\u001b[0m\u001b[37m\u001b[0m \u001b[1m3s\u001b[0m 8ms/step - loss: 20404.2559 - root_mean_squared_error: 141.7651 - val_loss: 2933.3040 - val_root_mean_squared_error: 54.1600\n",
      "Epoch 2/50\n",
      "\u001b[1m75/75\u001b[0m \u001b[32m━━━━━━━━━━━━━━━━━━━━\u001b[0m\u001b[37m\u001b[0m \u001b[1m0s\u001b[0m 4ms/step - loss: 2900.3223 - root_mean_squared_error: 53.7440 - val_loss: 1873.8187 - val_root_mean_squared_error: 43.2876\n",
      "Epoch 3/50\n",
      "\u001b[1m75/75\u001b[0m \u001b[32m━━━━━━━━━━━━━━━━━━━━\u001b[0m\u001b[37m\u001b[0m \u001b[1m0s\u001b[0m 4ms/step - loss: 1980.2164 - root_mean_squared_error: 44.4163 - val_loss: 1598.0322 - val_root_mean_squared_error: 39.9754\n",
      "Epoch 4/50\n",
      "\u001b[1m75/75\u001b[0m \u001b[32m━━━━━━━━━━━━━━━━━━━━\u001b[0m\u001b[37m\u001b[0m \u001b[1m0s\u001b[0m 4ms/step - loss: 1809.8212 - root_mean_squared_error: 42.4635 - val_loss: 1413.1836 - val_root_mean_squared_error: 37.5923\n",
      "Epoch 5/50\n",
      "\u001b[1m75/75\u001b[0m \u001b[32m━━━━━━━━━━━━━━━━━━━━\u001b[0m\u001b[37m\u001b[0m \u001b[1m0s\u001b[0m 4ms/step - loss: 1932.2756 - root_mean_squared_error: 43.8432 - val_loss: 1875.7277 - val_root_mean_squared_error: 43.3097\n",
      "Epoch 6/50\n",
      "\u001b[1m75/75\u001b[0m \u001b[32m━━━━━━━━━━━━━━━━━━━━\u001b[0m\u001b[37m\u001b[0m \u001b[1m0s\u001b[0m 4ms/step - loss: 2053.2271 - root_mean_squared_error: 45.2687 - val_loss: 1778.1742 - val_root_mean_squared_error: 42.1684\n",
      "Epoch 7/50\n",
      "\u001b[1m75/75\u001b[0m \u001b[32m━━━━━━━━━━━━━━━━━━━━\u001b[0m\u001b[37m\u001b[0m \u001b[1m0s\u001b[0m 4ms/step - loss: 1466.9229 - root_mean_squared_error: 38.2511 - val_loss: 1720.2621 - val_root_mean_squared_error: 41.4760\n",
      "Epoch 8/50\n",
      "\u001b[1m75/75\u001b[0m \u001b[32m━━━━━━━━━━━━━━━━━━━━\u001b[0m\u001b[37m\u001b[0m \u001b[1m0s\u001b[0m 4ms/step - loss: 1779.8480 - root_mean_squared_error: 42.0703 - val_loss: 1458.6844 - val_root_mean_squared_error: 38.1927\n",
      "Epoch 9/50\n",
      "\u001b[1m75/75\u001b[0m \u001b[32m━━━━━━━━━━━━━━━━━━━━\u001b[0m\u001b[37m\u001b[0m \u001b[1m0s\u001b[0m 4ms/step - loss: 1407.3723 - root_mean_squared_error: 37.4206 - val_loss: 1410.9689 - val_root_mean_squared_error: 37.5629\n",
      "Epoch 10/50\n",
      "\u001b[1m75/75\u001b[0m \u001b[32m━━━━━━━━━━━━━━━━━━━━\u001b[0m\u001b[37m\u001b[0m \u001b[1m0s\u001b[0m 4ms/step - loss: 1554.8982 - root_mean_squared_error: 39.3963 - val_loss: 1589.5704 - val_root_mean_squared_error: 39.8694\n",
      "Epoch 11/50\n",
      "\u001b[1m75/75\u001b[0m \u001b[32m━━━━━━━━━━━━━━━━━━━━\u001b[0m\u001b[37m\u001b[0m \u001b[1m0s\u001b[0m 4ms/step - loss: 1422.9398 - root_mean_squared_error: 37.6222 - val_loss: 1375.5135 - val_root_mean_squared_error: 37.0879\n",
      "Epoch 12/50\n",
      "\u001b[1m75/75\u001b[0m \u001b[32m━━━━━━━━━━━━━━━━━━━━\u001b[0m\u001b[37m\u001b[0m \u001b[1m0s\u001b[0m 4ms/step - loss: 1579.5479 - root_mean_squared_error: 39.7208 - val_loss: 1495.3279 - val_root_mean_squared_error: 38.6695\n",
      "Epoch 13/50\n",
      "\u001b[1m75/75\u001b[0m \u001b[32m━━━━━━━━━━━━━━━━━━━━\u001b[0m\u001b[37m\u001b[0m \u001b[1m0s\u001b[0m 4ms/step - loss: 1342.1934 - root_mean_squared_error: 36.5080 - val_loss: 1307.1859 - val_root_mean_squared_error: 36.1550\n",
      "Epoch 14/50\n",
      "\u001b[1m75/75\u001b[0m \u001b[32m━━━━━━━━━━━━━━━━━━━━\u001b[0m\u001b[37m\u001b[0m \u001b[1m0s\u001b[0m 4ms/step - loss: 1879.3104 - root_mean_squared_error: 43.0816 - val_loss: 1283.3901 - val_root_mean_squared_error: 35.8244\n",
      "Epoch 15/50\n",
      "\u001b[1m75/75\u001b[0m \u001b[32m━━━━━━━━━━━━━━━━━━━━\u001b[0m\u001b[37m\u001b[0m \u001b[1m0s\u001b[0m 4ms/step - loss: 1395.0626 - root_mean_squared_error: 37.3402 - val_loss: 1127.0192 - val_root_mean_squared_error: 33.5711\n",
      "Epoch 16/50\n",
      "\u001b[1m75/75\u001b[0m \u001b[32m━━━━━━━━━━━━━━━━━━━━\u001b[0m\u001b[37m\u001b[0m \u001b[1m0s\u001b[0m 4ms/step - loss: 1345.5376 - root_mean_squared_error: 36.6500 - val_loss: 1202.7511 - val_root_mean_squared_error: 34.6807\n",
      "Epoch 17/50\n",
      "\u001b[1m75/75\u001b[0m \u001b[32m━━━━━━━━━━━━━━━━━━━━\u001b[0m\u001b[37m\u001b[0m \u001b[1m0s\u001b[0m 4ms/step - loss: 1122.5846 - root_mean_squared_error: 33.3940 - val_loss: 1233.6561 - val_root_mean_squared_error: 35.1234\n",
      "Epoch 18/50\n",
      "\u001b[1m75/75\u001b[0m \u001b[32m━━━━━━━━━━━━━━━━━━━━\u001b[0m\u001b[37m\u001b[0m \u001b[1m0s\u001b[0m 4ms/step - loss: 1289.4836 - root_mean_squared_error: 35.8247 - val_loss: 1243.4531 - val_root_mean_squared_error: 35.2626\n",
      "Epoch 19/50\n",
      "\u001b[1m75/75\u001b[0m \u001b[32m━━━━━━━━━━━━━━━━━━━━\u001b[0m\u001b[37m\u001b[0m \u001b[1m0s\u001b[0m 4ms/step - loss: 1347.2959 - root_mean_squared_error: 36.5683 - val_loss: 1249.5851 - val_root_mean_squared_error: 35.3495\n",
      "Epoch 20/50\n",
      "\u001b[1m75/75\u001b[0m \u001b[32m━━━━━━━━━━━━━━━━━━━━\u001b[0m\u001b[37m\u001b[0m \u001b[1m0s\u001b[0m 4ms/step - loss: 1326.5842 - root_mean_squared_error: 36.3986 - val_loss: 1202.9807 - val_root_mean_squared_error: 34.6840\n",
      "Epoch 21/50\n",
      "\u001b[1m75/75\u001b[0m \u001b[32m━━━━━━━━━━━━━━━━━━━━\u001b[0m\u001b[37m\u001b[0m \u001b[1m0s\u001b[0m 4ms/step - loss: 1287.8962 - root_mean_squared_error: 35.8403 - val_loss: 1204.4106 - val_root_mean_squared_error: 34.7046\n",
      "Epoch 22/50\n",
      "\u001b[1m75/75\u001b[0m \u001b[32m━━━━━━━━━━━━━━━━━━━━\u001b[0m\u001b[37m\u001b[0m \u001b[1m0s\u001b[0m 4ms/step - loss: 1316.1393 - root_mean_squared_error: 36.2241 - val_loss: 1047.3812 - val_root_mean_squared_error: 32.3633\n",
      "Epoch 23/50\n",
      "\u001b[1m75/75\u001b[0m \u001b[32m━━━━━━━━━━━━━━━━━━━━\u001b[0m\u001b[37m\u001b[0m \u001b[1m0s\u001b[0m 4ms/step - loss: 1157.7269 - root_mean_squared_error: 33.9989 - val_loss: 1229.3628 - val_root_mean_squared_error: 35.0623\n",
      "Epoch 24/50\n",
      "\u001b[1m75/75\u001b[0m \u001b[32m━━━━━━━━━━━━━━━━━━━━\u001b[0m\u001b[37m\u001b[0m \u001b[1m0s\u001b[0m 4ms/step - loss: 1211.8586 - root_mean_squared_error: 34.7385 - val_loss: 1260.4697 - val_root_mean_squared_error: 35.5031\n",
      "Epoch 25/50\n",
      "\u001b[1m75/75\u001b[0m \u001b[32m━━━━━━━━━━━━━━━━━━━━\u001b[0m\u001b[37m\u001b[0m \u001b[1m0s\u001b[0m 4ms/step - loss: 1277.8483 - root_mean_squared_error: 35.6852 - val_loss: 1204.4037 - val_root_mean_squared_error: 34.7045\n",
      "Epoch 26/50\n",
      "\u001b[1m75/75\u001b[0m \u001b[32m━━━━━━━━━━━━━━━━━━━━\u001b[0m\u001b[37m\u001b[0m \u001b[1m0s\u001b[0m 4ms/step - loss: 1369.6809 - root_mean_squared_error: 36.7998 - val_loss: 1369.3964 - val_root_mean_squared_error: 37.0054\n",
      "Epoch 27/50\n",
      "\u001b[1m75/75\u001b[0m \u001b[32m━━━━━━━━━━━━━━━━━━━━\u001b[0m\u001b[37m\u001b[0m \u001b[1m0s\u001b[0m 4ms/step - loss: 1022.5173 - root_mean_squared_error: 31.8480 - val_loss: 1264.6646 - val_root_mean_squared_error: 35.5621\n",
      "Epoch 28/50\n",
      "\u001b[1m75/75\u001b[0m \u001b[32m━━━━━━━━━━━━━━━━━━━━\u001b[0m\u001b[37m\u001b[0m \u001b[1m0s\u001b[0m 4ms/step - loss: 1159.8081 - root_mean_squared_error: 34.0234 - val_loss: 1235.8392 - val_root_mean_squared_error: 35.1545\n",
      "Epoch 29/50\n",
      "\u001b[1m75/75\u001b[0m \u001b[32m━━━━━━━━━━━━━━━━━━━━\u001b[0m\u001b[37m\u001b[0m \u001b[1m0s\u001b[0m 5ms/step - loss: 1167.2449 - root_mean_squared_error: 34.1318 - val_loss: 1420.5439 - val_root_mean_squared_error: 37.6901\n",
      "Epoch 30/50\n",
      "\u001b[1m75/75\u001b[0m \u001b[32m━━━━━━━━━━━━━━━━━━━━\u001b[0m\u001b[37m\u001b[0m \u001b[1m0s\u001b[0m 4ms/step - loss: 1267.6609 - root_mean_squared_error: 35.5343 - val_loss: 1328.3619 - val_root_mean_squared_error: 36.4467\n",
      "Epoch 31/50\n",
      "\u001b[1m75/75\u001b[0m \u001b[32m━━━━━━━━━━━━━━━━━━━━\u001b[0m\u001b[37m\u001b[0m \u001b[1m0s\u001b[0m 4ms/step - loss: 1274.9818 - root_mean_squared_error: 35.6485 - val_loss: 1121.7112 - val_root_mean_squared_error: 33.4920\n",
      "Epoch 32/50\n",
      "\u001b[1m75/75\u001b[0m \u001b[32m━━━━━━━━━━━━━━━━━━━━\u001b[0m\u001b[37m\u001b[0m \u001b[1m0s\u001b[0m 4ms/step - loss: 1206.3644 - root_mean_squared_error: 34.7135 - val_loss: 1113.0164 - val_root_mean_squared_error: 33.3619\n",
      "Epoch 33/50\n",
      "\u001b[1m75/75\u001b[0m \u001b[32m━━━━━━━━━━━━━━━━━━━━\u001b[0m\u001b[37m\u001b[0m \u001b[1m0s\u001b[0m 4ms/step - loss: 1173.1317 - root_mean_squared_error: 34.2257 - val_loss: 1146.1938 - val_root_mean_squared_error: 33.8555\n",
      "Epoch 34/50\n",
      "\u001b[1m75/75\u001b[0m \u001b[32m━━━━━━━━━━━━━━━━━━━━\u001b[0m\u001b[37m\u001b[0m \u001b[1m0s\u001b[0m 4ms/step - loss: 1161.6492 - root_mean_squared_error: 33.9617 - val_loss: 1220.4830 - val_root_mean_squared_error: 34.9354\n",
      "Epoch 35/50\n",
      "\u001b[1m75/75\u001b[0m \u001b[32m━━━━━━━━━━━━━━━━━━━━\u001b[0m\u001b[37m\u001b[0m \u001b[1m0s\u001b[0m 4ms/step - loss: 1168.6576 - root_mean_squared_error: 34.0208 - val_loss: 1090.9686 - val_root_mean_squared_error: 33.0298\n",
      "Epoch 36/50\n",
      "\u001b[1m75/75\u001b[0m \u001b[32m━━━━━━━━━━━━━━━━━━━━\u001b[0m\u001b[37m\u001b[0m \u001b[1m0s\u001b[0m 4ms/step - loss: 1283.5413 - root_mean_squared_error: 35.7585 - val_loss: 1297.0167 - val_root_mean_squared_error: 36.0141\n",
      "Epoch 37/50\n",
      "\u001b[1m75/75\u001b[0m \u001b[32m━━━━━━━━━━━━━━━━━━━━\u001b[0m\u001b[37m\u001b[0m \u001b[1m0s\u001b[0m 4ms/step - loss: 1182.9308 - root_mean_squared_error: 34.3160 - val_loss: 1141.3136 - val_root_mean_squared_error: 33.7833\n",
      "Epoch 38/50\n",
      "\u001b[1m75/75\u001b[0m \u001b[32m━━━━━━━━━━━━━━━━━━━━\u001b[0m\u001b[37m\u001b[0m \u001b[1m0s\u001b[0m 4ms/step - loss: 1138.5303 - root_mean_squared_error: 33.6925 - val_loss: 1065.3204 - val_root_mean_squared_error: 32.6392\n",
      "Epoch 39/50\n",
      "\u001b[1m75/75\u001b[0m \u001b[32m━━━━━━━━━━━━━━━━━━━━\u001b[0m\u001b[37m\u001b[0m \u001b[1m0s\u001b[0m 4ms/step - loss: 1078.0409 - root_mean_squared_error: 32.7957 - val_loss: 1047.7258 - val_root_mean_squared_error: 32.3686\n",
      "Epoch 40/50\n",
      "\u001b[1m75/75\u001b[0m \u001b[32m━━━━━━━━━━━━━━━━━━━━\u001b[0m\u001b[37m\u001b[0m \u001b[1m0s\u001b[0m 4ms/step - loss: 1197.7473 - root_mean_squared_error: 34.4700 - val_loss: 1135.7611 - val_root_mean_squared_error: 33.7011\n",
      "Epoch 41/50\n",
      "\u001b[1m75/75\u001b[0m \u001b[32m━━━━━━━━━━━━━━━━━━━━\u001b[0m\u001b[37m\u001b[0m \u001b[1m0s\u001b[0m 4ms/step - loss: 1157.7863 - root_mean_squared_error: 33.9911 - val_loss: 1268.1230 - val_root_mean_squared_error: 35.6107\n",
      "Epoch 42/50\n",
      "\u001b[1m75/75\u001b[0m \u001b[32m━━━━━━━━━━━━━━━━━━━━\u001b[0m\u001b[37m\u001b[0m \u001b[1m0s\u001b[0m 4ms/step - loss: 1022.7138 - root_mean_squared_error: 31.9131 - val_loss: 1217.8315 - val_root_mean_squared_error: 34.8974\n",
      "Epoch 43/50\n",
      "\u001b[1m75/75\u001b[0m \u001b[32m━━━━━━━━━━━━━━━━━━━━\u001b[0m\u001b[37m\u001b[0m \u001b[1m0s\u001b[0m 4ms/step - loss: 1220.1445 - root_mean_squared_error: 34.8840 - val_loss: 1052.8448 - val_root_mean_squared_error: 32.4476\n",
      "Epoch 44/50\n",
      "\u001b[1m75/75\u001b[0m \u001b[32m━━━━━━━━━━━━━━━━━━━━\u001b[0m\u001b[37m\u001b[0m \u001b[1m0s\u001b[0m 4ms/step - loss: 1335.6653 - root_mean_squared_error: 36.4642 - val_loss: 1058.2448 - val_root_mean_squared_error: 32.5307\n",
      "Epoch 45/50\n",
      "\u001b[1m75/75\u001b[0m \u001b[32m━━━━━━━━━━━━━━━━━━━━\u001b[0m\u001b[37m\u001b[0m \u001b[1m0s\u001b[0m 4ms/step - loss: 1129.0789 - root_mean_squared_error: 33.3984 - val_loss: 1050.4010 - val_root_mean_squared_error: 32.4099\n",
      "Epoch 46/50\n",
      "\u001b[1m75/75\u001b[0m \u001b[32m━━━━━━━━━━━━━━━━━━━━\u001b[0m\u001b[37m\u001b[0m \u001b[1m0s\u001b[0m 4ms/step - loss: 1020.5281 - root_mean_squared_error: 31.8844 - val_loss: 1090.2729 - val_root_mean_squared_error: 33.0193\n",
      "Epoch 47/50\n",
      "\u001b[1m75/75\u001b[0m \u001b[32m━━━━━━━━━━━━━━━━━━━━\u001b[0m\u001b[37m\u001b[0m \u001b[1m0s\u001b[0m 4ms/step - loss: 1061.4623 - root_mean_squared_error: 32.5259 - val_loss: 1104.6464 - val_root_mean_squared_error: 33.2362\n",
      "Epoch 48/50\n",
      "\u001b[1m75/75\u001b[0m \u001b[32m━━━━━━━━━━━━━━━━━━━━\u001b[0m\u001b[37m\u001b[0m \u001b[1m0s\u001b[0m 4ms/step - loss: 1073.7609 - root_mean_squared_error: 32.7480 - val_loss: 990.2210 - val_root_mean_squared_error: 31.4678\n",
      "Epoch 49/50\n",
      "\u001b[1m75/75\u001b[0m \u001b[32m━━━━━━━━━━━━━━━━━━━━\u001b[0m\u001b[37m\u001b[0m \u001b[1m0s\u001b[0m 4ms/step - loss: 1161.6705 - root_mean_squared_error: 33.9858 - val_loss: 1027.6399 - val_root_mean_squared_error: 32.0568\n",
      "Epoch 50/50\n",
      "\u001b[1m75/75\u001b[0m \u001b[32m━━━━━━━━━━━━━━━━━━━━\u001b[0m\u001b[37m\u001b[0m \u001b[1m0s\u001b[0m 4ms/step - loss: 1276.5111 - root_mean_squared_error: 35.5774 - val_loss: 1065.9874 - val_root_mean_squared_error: 32.6495\n"
     ]
    },
    {
     "data": {
      "text/plain": [
       "<keras.src.callbacks.history.History at 0x79692d0f0bb0>"
      ]
     },
     "execution_count": 35,
     "metadata": {},
     "output_type": "execute_result"
    }
   ],
   "source": [
    "model5 = Sequential()\n",
    "model5.add(InputLayer((6, 6)))  # 6 timestamps, 6 features\n",
    "model5.add(LSTM(32, activation='relu', return_sequences=False))  # Single LSTM layer\n",
    "model5.add(Dense(16, activation='relu')) \n",
    "model5.add(Dense(1, activation='linear'))  \n",
    "\n",
    "cp5 = ModelCheckpoint('/kaggle/working/model5.keras', save_best_only=True)\n",
    "\n",
    "model5.compile(loss=MeanSquaredError(), optimizer=Adam(learning_rate=0.001), \n",
    "               metrics=[RootMeanSquaredError()])\n",
    "\n",
    "model5.fit(X_train1, y_train1, validation_data=(X_val1, y_val1), epochs=50, \n",
    "           callbacks=[cp5])"
   ]
  },
  {
   "cell_type": "code",
   "execution_count": 36,
   "id": "ca0e0f29",
   "metadata": {
    "execution": {
     "iopub.execute_input": "2025-01-27T21:21:07.478158Z",
     "iopub.status.busy": "2025-01-27T21:21:07.477821Z",
     "iopub.status.idle": "2025-01-27T21:21:07.574794Z",
     "shell.execute_reply": "2025-01-27T21:21:07.573882Z"
    },
    "papermill": {
     "duration": 0.139396,
     "end_time": "2025-01-27T21:21:07.576735",
     "exception": false,
     "start_time": "2025-01-27T21:21:07.437339",
     "status": "completed"
    },
    "tags": []
   },
   "outputs": [],
   "source": [
    "from tensorflow.keras.models import load_model\n",
    "model5 = load_model('/kaggle/working/model5.keras')"
   ]
  },
  {
   "cell_type": "code",
   "execution_count": 37,
   "id": "4127b57a",
   "metadata": {
    "execution": {
     "iopub.execute_input": "2025-01-27T21:21:07.657717Z",
     "iopub.status.busy": "2025-01-27T21:21:07.657362Z",
     "iopub.status.idle": "2025-01-27T21:21:08.171355Z",
     "shell.execute_reply": "2025-01-27T21:21:08.170099Z"
    },
    "papermill": {
     "duration": 0.556478,
     "end_time": "2025-01-27T21:21:08.173416",
     "exception": false,
     "start_time": "2025-01-27T21:21:07.616938",
     "status": "completed"
    },
    "tags": []
   },
   "outputs": [
    {
     "name": "stdout",
     "output_type": "stream",
     "text": [
      "\u001b[1m75/75\u001b[0m \u001b[32m━━━━━━━━━━━━━━━━━━━━\u001b[0m\u001b[37m\u001b[0m \u001b[1m0s\u001b[0m 4ms/step\n",
      "Evaluation Metrics:\n",
      "Mean Absolute Error (MAE): 18.3356\n",
      "Mean Squared Error (MSE): 1098.7617\n",
      "Root Mean Squared Error (RMSE): 33.1476\n",
      "R-squared (Accuracy): 0.7392\n"
     ]
    }
   ],
   "source": [
    "# Evaluate the model on the train data\n",
    "train_result = model5.predict(X_train1)\n",
    "\n",
    "# Calculate metrics\n",
    "mse = mean_squared_error(y_train1, train_result)\n",
    "rmse = np.sqrt(mse)\n",
    "mae = mean_absolute_error(y_train1, train_result)\n",
    "r2 = r2_score(y_train1, train_result)\n",
    "\n",
    "# Print the results\n",
    "print(\"Evaluation Metrics:\")\n",
    "print(f\"Mean Absolute Error (MAE): {mae:.4f}\")\n",
    "print(f\"Mean Squared Error (MSE): {mse:.4f}\")\n",
    "print(f\"Root Mean Squared Error (RMSE): {rmse:.4f}\")\n",
    "print(f\"R-squared (Accuracy): {r2:.4f}\")"
   ]
  },
  {
   "cell_type": "code",
   "execution_count": 38,
   "id": "b1e55f8d",
   "metadata": {
    "execution": {
     "iopub.execute_input": "2025-01-27T21:21:08.254921Z",
     "iopub.status.busy": "2025-01-27T21:21:08.254557Z",
     "iopub.status.idle": "2025-01-27T21:21:08.356275Z",
     "shell.execute_reply": "2025-01-27T21:21:08.355161Z"
    },
    "papermill": {
     "duration": 0.144096,
     "end_time": "2025-01-27T21:21:08.358008",
     "exception": false,
     "start_time": "2025-01-27T21:21:08.213912",
     "status": "completed"
    },
    "tags": []
   },
   "outputs": [
    {
     "name": "stdout",
     "output_type": "stream",
     "text": [
      "\u001b[1m15/15\u001b[0m \u001b[32m━━━━━━━━━━━━━━━━━━━━\u001b[0m\u001b[37m\u001b[0m \u001b[1m0s\u001b[0m 2ms/step \n",
      "Evaluation Metrics:\n",
      "Mean Absolute Error (MAE): 19.9953\n",
      "Mean Squared Error (MSE): 990.2210\n",
      "Root Mean Squared Error (RMSE): 31.4678\n",
      "R-squared (Accuracy): 0.8711\n"
     ]
    }
   ],
   "source": [
    "# Evaluate the model on the validation data\n",
    "val_result = model5.predict(X_val1)\n",
    "\n",
    "# Calculate metrics\n",
    "mse = mean_squared_error(y_val1, val_result)\n",
    "rmse = np.sqrt(mse)\n",
    "mae = mean_absolute_error(y_val1, val_result)\n",
    "r2 = r2_score(y_val1, val_result)\n",
    "\n",
    "# Print the results\n",
    "print(\"Evaluation Metrics:\")\n",
    "print(f\"Mean Absolute Error (MAE): {mae:.4f}\")\n",
    "print(f\"Mean Squared Error (MSE): {mse:.4f}\")\n",
    "print(f\"Root Mean Squared Error (RMSE): {rmse:.4f}\")\n",
    "print(f\"R-squared (Accuracy): {r2:.4f}\")"
   ]
  },
  {
   "cell_type": "code",
   "execution_count": 39,
   "id": "47ca0fea",
   "metadata": {
    "execution": {
     "iopub.execute_input": "2025-01-27T21:21:08.438993Z",
     "iopub.status.busy": "2025-01-27T21:21:08.438639Z",
     "iopub.status.idle": "2025-01-27T21:21:08.529051Z",
     "shell.execute_reply": "2025-01-27T21:21:08.527942Z"
    },
    "papermill": {
     "duration": 0.132578,
     "end_time": "2025-01-27T21:21:08.530792",
     "exception": false,
     "start_time": "2025-01-27T21:21:08.398214",
     "status": "completed"
    },
    "tags": []
   },
   "outputs": [
    {
     "name": "stdout",
     "output_type": "stream",
     "text": [
      "\u001b[1m10/10\u001b[0m \u001b[32m━━━━━━━━━━━━━━━━━━━━\u001b[0m\u001b[37m\u001b[0m \u001b[1m0s\u001b[0m 2ms/step \n",
      "Evaluation Metrics:\n",
      "Mean Absolute Error (MAE): 21.5665\n",
      "Mean Squared Error (MSE): 1106.2700\n",
      "Root Mean Squared Error (RMSE): 33.2606\n",
      "R-squared (Accuracy): 0.6652\n"
     ]
    }
   ],
   "source": [
    "# Evaluate the model on the test data\n",
    "test_result = model5.predict(X_test1)\n",
    "\n",
    "# Calculate metrics\n",
    "mse = mean_squared_error(y_test1, test_result)\n",
    "rmse = np.sqrt(mse)\n",
    "mae = mean_absolute_error(y_test1, test_result)\n",
    "r2 = r2_score(y_test1, test_result)\n",
    "\n",
    "# Print the results\n",
    "print(\"Evaluation Metrics:\")\n",
    "print(f\"Mean Absolute Error (MAE): {mae:.4f}\")\n",
    "print(f\"Mean Squared Error (MSE): {mse:.4f}\")\n",
    "print(f\"Root Mean Squared Error (RMSE): {rmse:.4f}\")\n",
    "print(f\"R-squared (Accuracy): {r2:.4f}\")"
   ]
  },
  {
   "cell_type": "code",
   "execution_count": 40,
   "id": "2bfb1832",
   "metadata": {
    "execution": {
     "iopub.execute_input": "2025-01-27T21:21:08.614753Z",
     "iopub.status.busy": "2025-01-27T21:21:08.614379Z",
     "iopub.status.idle": "2025-01-27T21:21:08.835725Z",
     "shell.execute_reply": "2025-01-27T21:21:08.834735Z"
    },
    "papermill": {
     "duration": 0.264128,
     "end_time": "2025-01-27T21:21:08.837241",
     "exception": false,
     "start_time": "2025-01-27T21:21:08.573113",
     "status": "completed"
    },
    "tags": []
   },
   "outputs": [
    {
     "name": "stdout",
     "output_type": "stream",
     "text": [
      "\u001b[1m75/75\u001b[0m \u001b[32m━━━━━━━━━━━━━━━━━━━━\u001b[0m\u001b[37m\u001b[0m \u001b[1m0s\u001b[0m 2ms/step\n"
     ]
    },
    {
     "data": {
      "text/html": [
       "<div>\n",
       "<style scoped>\n",
       "    .dataframe tbody tr th:only-of-type {\n",
       "        vertical-align: middle;\n",
       "    }\n",
       "\n",
       "    .dataframe tbody tr th {\n",
       "        vertical-align: top;\n",
       "    }\n",
       "\n",
       "    .dataframe thead th {\n",
       "        text-align: right;\n",
       "    }\n",
       "</style>\n",
       "<table border=\"1\" class=\"dataframe\">\n",
       "  <thead>\n",
       "    <tr style=\"text-align: right;\">\n",
       "      <th></th>\n",
       "      <th>Train Predictions</th>\n",
       "      <th>Actuals</th>\n",
       "    </tr>\n",
       "  </thead>\n",
       "  <tbody>\n",
       "    <tr>\n",
       "      <th>0</th>\n",
       "      <td>235.381561</td>\n",
       "      <td>195.0</td>\n",
       "    </tr>\n",
       "    <tr>\n",
       "      <th>1</th>\n",
       "      <td>230.490936</td>\n",
       "      <td>185.0</td>\n",
       "    </tr>\n",
       "    <tr>\n",
       "      <th>2</th>\n",
       "      <td>174.461929</td>\n",
       "      <td>208.0</td>\n",
       "    </tr>\n",
       "    <tr>\n",
       "      <th>3</th>\n",
       "      <td>231.660782</td>\n",
       "      <td>290.0</td>\n",
       "    </tr>\n",
       "    <tr>\n",
       "      <th>4</th>\n",
       "      <td>269.641968</td>\n",
       "      <td>267.0</td>\n",
       "    </tr>\n",
       "    <tr>\n",
       "      <th>...</th>\n",
       "      <td>...</td>\n",
       "      <td>...</td>\n",
       "    </tr>\n",
       "    <tr>\n",
       "      <th>2388</th>\n",
       "      <td>90.891563</td>\n",
       "      <td>54.0</td>\n",
       "    </tr>\n",
       "    <tr>\n",
       "      <th>2389</th>\n",
       "      <td>66.859673</td>\n",
       "      <td>85.0</td>\n",
       "    </tr>\n",
       "    <tr>\n",
       "      <th>2390</th>\n",
       "      <td>97.376907</td>\n",
       "      <td>97.0</td>\n",
       "    </tr>\n",
       "    <tr>\n",
       "      <th>2391</th>\n",
       "      <td>98.748161</td>\n",
       "      <td>74.0</td>\n",
       "    </tr>\n",
       "    <tr>\n",
       "      <th>2392</th>\n",
       "      <td>79.622292</td>\n",
       "      <td>87.0</td>\n",
       "    </tr>\n",
       "  </tbody>\n",
       "</table>\n",
       "<p>2393 rows × 2 columns</p>\n",
       "</div>"
      ],
      "text/plain": [
       "      Train Predictions  Actuals\n",
       "0            235.381561    195.0\n",
       "1            230.490936    185.0\n",
       "2            174.461929    208.0\n",
       "3            231.660782    290.0\n",
       "4            269.641968    267.0\n",
       "...                 ...      ...\n",
       "2388          90.891563     54.0\n",
       "2389          66.859673     85.0\n",
       "2390          97.376907     97.0\n",
       "2391          98.748161     74.0\n",
       "2392          79.622292     87.0\n",
       "\n",
       "[2393 rows x 2 columns]"
      ]
     },
     "execution_count": 40,
     "metadata": {},
     "output_type": "execute_result"
    }
   ],
   "source": [
    "train_predictions = model5.predict(X_train1).flatten()\n",
    "train_results = pd.DataFrame(data={'Train Predictions':train_predictions, 'Actuals':y_train1})\n",
    "train_results"
   ]
  },
  {
   "cell_type": "code",
   "execution_count": 41,
   "id": "a9e1fb28",
   "metadata": {
    "execution": {
     "iopub.execute_input": "2025-01-27T21:21:08.919272Z",
     "iopub.status.busy": "2025-01-27T21:21:08.918907Z",
     "iopub.status.idle": "2025-01-27T21:21:09.085350Z",
     "shell.execute_reply": "2025-01-27T21:21:09.084276Z"
    },
    "papermill": {
     "duration": 0.209147,
     "end_time": "2025-01-27T21:21:09.087108",
     "exception": false,
     "start_time": "2025-01-27T21:21:08.877961",
     "status": "completed"
    },
    "tags": []
   },
   "outputs": [
    {
     "data": {
      "image/png": "[encoded data removed]",
      "text/plain": [
       "<Figure size 640x480 with 1 Axes>"
      ]
     },
     "metadata": {},
     "output_type": "display_data"
    }
   ],
   "source": [
    "plt.plot(train_results['Actuals'][1:50], label='Actual')\n",
    "plt.plot(train_results['Train Predictions'][1:50], label='Predicted')\n",
    "plt.legend()\n",
    "plt.show()"
   ]
  },
  {
   "cell_type": "code",
   "execution_count": 42,
   "id": "30f6b1e3",
   "metadata": {
    "execution": {
     "iopub.execute_input": "2025-01-27T21:21:09.171751Z",
     "iopub.status.busy": "2025-01-27T21:21:09.171393Z",
     "iopub.status.idle": "2025-01-27T21:21:09.273247Z",
     "shell.execute_reply": "2025-01-27T21:21:09.272332Z"
    },
    "papermill": {
     "duration": 0.145928,
     "end_time": "2025-01-27T21:21:09.274938",
     "exception": false,
     "start_time": "2025-01-27T21:21:09.129010",
     "status": "completed"
    },
    "tags": []
   },
   "outputs": [
    {
     "name": "stdout",
     "output_type": "stream",
     "text": [
      "\u001b[1m15/15\u001b[0m \u001b[32m━━━━━━━━━━━━━━━━━━━━\u001b[0m\u001b[37m\u001b[0m \u001b[1m0s\u001b[0m 2ms/step \n"
     ]
    },
    {
     "data": {
      "text/html": [
       "<div>\n",
       "<style scoped>\n",
       "    .dataframe tbody tr th:only-of-type {\n",
       "        vertical-align: middle;\n",
       "    }\n",
       "\n",
       "    .dataframe tbody tr th {\n",
       "        vertical-align: top;\n",
       "    }\n",
       "\n",
       "    .dataframe thead th {\n",
       "        text-align: right;\n",
       "    }\n",
       "</style>\n",
       "<table border=\"1\" class=\"dataframe\">\n",
       "  <thead>\n",
       "    <tr style=\"text-align: right;\">\n",
       "      <th></th>\n",
       "      <th>Train Predictions</th>\n",
       "      <th>Actuals</th>\n",
       "    </tr>\n",
       "  </thead>\n",
       "  <tbody>\n",
       "    <tr>\n",
       "      <th>0</th>\n",
       "      <td>85.528580</td>\n",
       "      <td>85.0</td>\n",
       "    </tr>\n",
       "    <tr>\n",
       "      <th>1</th>\n",
       "      <td>87.829742</td>\n",
       "      <td>71.0</td>\n",
       "    </tr>\n",
       "    <tr>\n",
       "      <th>2</th>\n",
       "      <td>73.734573</td>\n",
       "      <td>89.0</td>\n",
       "    </tr>\n",
       "    <tr>\n",
       "      <th>3</th>\n",
       "      <td>90.897041</td>\n",
       "      <td>99.0</td>\n",
       "    </tr>\n",
       "    <tr>\n",
       "      <th>4</th>\n",
       "      <td>96.990654</td>\n",
       "      <td>80.0</td>\n",
       "    </tr>\n",
       "    <tr>\n",
       "      <th>...</th>\n",
       "      <td>...</td>\n",
       "      <td>...</td>\n",
       "    </tr>\n",
       "    <tr>\n",
       "      <th>468</th>\n",
       "      <td>168.120193</td>\n",
       "      <td>193.0</td>\n",
       "    </tr>\n",
       "    <tr>\n",
       "      <th>469</th>\n",
       "      <td>199.709625</td>\n",
       "      <td>199.0</td>\n",
       "    </tr>\n",
       "    <tr>\n",
       "      <th>470</th>\n",
       "      <td>194.786621</td>\n",
       "      <td>197.0</td>\n",
       "    </tr>\n",
       "    <tr>\n",
       "      <th>471</th>\n",
       "      <td>192.798813</td>\n",
       "      <td>197.0</td>\n",
       "    </tr>\n",
       "    <tr>\n",
       "      <th>472</th>\n",
       "      <td>199.464035</td>\n",
       "      <td>190.0</td>\n",
       "    </tr>\n",
       "  </tbody>\n",
       "</table>\n",
       "<p>473 rows × 2 columns</p>\n",
       "</div>"
      ],
      "text/plain": [
       "     Train Predictions  Actuals\n",
       "0            85.528580     85.0\n",
       "1            87.829742     71.0\n",
       "2            73.734573     89.0\n",
       "3            90.897041     99.0\n",
       "4            96.990654     80.0\n",
       "..                 ...      ...\n",
       "468         168.120193    193.0\n",
       "469         199.709625    199.0\n",
       "470         194.786621    197.0\n",
       "471         192.798813    197.0\n",
       "472         199.464035    190.0\n",
       "\n",
       "[473 rows x 2 columns]"
      ]
     },
     "execution_count": 42,
     "metadata": {},
     "output_type": "execute_result"
    }
   ],
   "source": [
    "val_predictions = model5.predict(X_val1).flatten()\n",
    "val_results = pd.DataFrame(data={'Train Predictions':val_predictions, 'Actuals':y_val1})\n",
    "val_results"
   ]
  },
  {
   "cell_type": "code",
   "execution_count": 43,
   "id": "df63f0f5",
   "metadata": {
    "execution": {
     "iopub.execute_input": "2025-01-27T21:21:09.360595Z",
     "iopub.status.busy": "2025-01-27T21:21:09.360176Z",
     "iopub.status.idle": "2025-01-27T21:21:09.532064Z",
     "shell.execute_reply": "2025-01-27T21:21:09.531006Z"
    },
    "papermill": {
     "duration": 0.216235,
     "end_time": "2025-01-27T21:21:09.533599",
     "exception": false,
     "start_time": "2025-01-27T21:21:09.317364",
     "status": "completed"
    },
    "tags": []
   },
   "outputs": [
    {
     "data": {
      "image/png": "[encoded data removed]",
      "text/plain": [
       "<Figure size 640x480 with 1 Axes>"
      ]
     },
     "metadata": {},
     "output_type": "display_data"
    }
   ],
   "source": [
    "plt.plot(val_results['Actuals'][1:50], label='Actual')\n",
    "plt.plot(val_results['Train Predictions'][1:50], label='Predicted')\n",
    "plt.legend()\n",
    "plt.show()"
   ]
  },
  {
   "cell_type": "code",
   "execution_count": 44,
   "id": "5a0bed5d",
   "metadata": {
    "execution": {
     "iopub.execute_input": "2025-01-27T21:21:09.623796Z",
     "iopub.status.busy": "2025-01-27T21:21:09.623434Z",
     "iopub.status.idle": "2025-01-27T21:21:09.718321Z",
     "shell.execute_reply": "2025-01-27T21:21:09.717386Z"
    },
    "papermill": {
     "duration": 0.140799,
     "end_time": "2025-01-27T21:21:09.719959",
     "exception": false,
     "start_time": "2025-01-27T21:21:09.579160",
     "status": "completed"
    },
    "tags": []
   },
   "outputs": [
    {
     "name": "stdout",
     "output_type": "stream",
     "text": [
      "\u001b[1m10/10\u001b[0m \u001b[32m━━━━━━━━━━━━━━━━━━━━\u001b[0m\u001b[37m\u001b[0m \u001b[1m0s\u001b[0m 2ms/step \n"
     ]
    },
    {
     "data": {
      "text/html": [
       "<div>\n",
       "<style scoped>\n",
       "    .dataframe tbody tr th:only-of-type {\n",
       "        vertical-align: middle;\n",
       "    }\n",
       "\n",
       "    .dataframe tbody tr th {\n",
       "        vertical-align: top;\n",
       "    }\n",
       "\n",
       "    .dataframe thead th {\n",
       "        text-align: right;\n",
       "    }\n",
       "</style>\n",
       "<table border=\"1\" class=\"dataframe\">\n",
       "  <thead>\n",
       "    <tr style=\"text-align: right;\">\n",
       "      <th></th>\n",
       "      <th>Train Predictions</th>\n",
       "      <th>Actuals</th>\n",
       "    </tr>\n",
       "  </thead>\n",
       "  <tbody>\n",
       "    <tr>\n",
       "      <th>0</th>\n",
       "      <td>205.774780</td>\n",
       "      <td>190.0</td>\n",
       "    </tr>\n",
       "    <tr>\n",
       "      <th>1</th>\n",
       "      <td>197.631073</td>\n",
       "      <td>177.0</td>\n",
       "    </tr>\n",
       "    <tr>\n",
       "      <th>2</th>\n",
       "      <td>173.068893</td>\n",
       "      <td>172.0</td>\n",
       "    </tr>\n",
       "    <tr>\n",
       "      <th>3</th>\n",
       "      <td>172.238434</td>\n",
       "      <td>170.0</td>\n",
       "    </tr>\n",
       "    <tr>\n",
       "      <th>4</th>\n",
       "      <td>169.339905</td>\n",
       "      <td>197.0</td>\n",
       "    </tr>\n",
       "    <tr>\n",
       "      <th>...</th>\n",
       "      <td>...</td>\n",
       "      <td>...</td>\n",
       "    </tr>\n",
       "    <tr>\n",
       "      <th>310</th>\n",
       "      <td>149.568741</td>\n",
       "      <td>134.0</td>\n",
       "    </tr>\n",
       "    <tr>\n",
       "      <th>311</th>\n",
       "      <td>135.563446</td>\n",
       "      <td>144.0</td>\n",
       "    </tr>\n",
       "    <tr>\n",
       "      <th>312</th>\n",
       "      <td>147.286880</td>\n",
       "      <td>155.0</td>\n",
       "    </tr>\n",
       "    <tr>\n",
       "      <th>313</th>\n",
       "      <td>160.324051</td>\n",
       "      <td>155.0</td>\n",
       "    </tr>\n",
       "    <tr>\n",
       "      <th>314</th>\n",
       "      <td>155.679977</td>\n",
       "      <td>152.0</td>\n",
       "    </tr>\n",
       "  </tbody>\n",
       "</table>\n",
       "<p>315 rows × 2 columns</p>\n",
       "</div>"
      ],
      "text/plain": [
       "     Train Predictions  Actuals\n",
       "0           205.774780    190.0\n",
       "1           197.631073    177.0\n",
       "2           173.068893    172.0\n",
       "3           172.238434    170.0\n",
       "4           169.339905    197.0\n",
       "..                 ...      ...\n",
       "310         149.568741    134.0\n",
       "311         135.563446    144.0\n",
       "312         147.286880    155.0\n",
       "313         160.324051    155.0\n",
       "314         155.679977    152.0\n",
       "\n",
       "[315 rows x 2 columns]"
      ]
     },
     "execution_count": 44,
     "metadata": {},
     "output_type": "execute_result"
    }
   ],
   "source": [
    "test_predictions = model5.predict(X_test1).flatten()\n",
    "test_results = pd.DataFrame(data={'Train Predictions':test_predictions, 'Actuals':y_test1})\n",
    "test_results"
   ]
  },
  {
   "cell_type": "code",
   "execution_count": 45,
   "id": "c28da689",
   "metadata": {
    "execution": {
     "iopub.execute_input": "2025-01-27T21:21:09.808127Z",
     "iopub.status.busy": "2025-01-27T21:21:09.807798Z",
     "iopub.status.idle": "2025-01-27T21:21:09.977234Z",
     "shell.execute_reply": "2025-01-27T21:21:09.976178Z"
    },
    "papermill": {
     "duration": 0.215359,
     "end_time": "2025-01-27T21:21:09.978947",
     "exception": false,
     "start_time": "2025-01-27T21:21:09.763588",
     "status": "completed"
    },
    "tags": []
   },
   "outputs": [
    {
     "data": {
      "image/png": "[encoded data removed]",
      "text/plain": [
       "<Figure size 640x480 with 1 Axes>"
      ]
     },
     "metadata": {},
     "output_type": "display_data"
    }
   ],
   "source": [
    "plt.plot(test_results['Train Predictions'][1:50], label='Predicted')\n",
    "plt.plot(test_results['Actuals'][1:50], label='Actual')\n",
    "plt.legend()\n",
    "plt.show()"
   ]
  },
  {
   "cell_type": "markdown",
   "id": "810447a9",
   "metadata": {
    "papermill": {
     "duration": 0.044887,
     "end_time": "2025-01-27T21:21:10.070640",
     "exception": false,
     "start_time": "2025-01-27T21:21:10.025753",
     "status": "completed"
    },
    "tags": []
   },
   "source": [
    "# **GRU(Normal)**"
   ]
  },
  {
   "cell_type": "code",
   "execution_count": 46,
   "id": "ce8ed7e8",
   "metadata": {
    "execution": {
     "iopub.execute_input": "2025-01-27T21:21:10.160451Z",
     "iopub.status.busy": "2025-01-27T21:21:10.160025Z",
     "iopub.status.idle": "2025-01-27T21:21:36.031127Z",
     "shell.execute_reply": "2025-01-27T21:21:36.030081Z"
    },
    "papermill": {
     "duration": 25.917906,
     "end_time": "2025-01-27T21:21:36.032861",
     "exception": false,
     "start_time": "2025-01-27T21:21:10.114955",
     "status": "completed"
    },
    "tags": []
   },
   "outputs": [
    {
     "name": "stdout",
     "output_type": "stream",
     "text": [
      "Epoch 1/50\n",
      "\u001b[1m75/75\u001b[0m \u001b[32m━━━━━━━━━━━━━━━━━━━━\u001b[0m\u001b[37m\u001b[0m \u001b[1m3s\u001b[0m 10ms/step - loss: 29886.4922 - root_mean_squared_error: 172.8033 - val_loss: 22491.7363 - val_root_mean_squared_error: 149.9725\n",
      "Epoch 2/50\n",
      "\u001b[1m75/75\u001b[0m \u001b[32m━━━━━━━━━━━━━━━━━━━━\u001b[0m\u001b[37m\u001b[0m \u001b[1m0s\u001b[0m 6ms/step - loss: 17106.1250 - root_mean_squared_error: 130.6884 - val_loss: 15290.6875 - val_root_mean_squared_error: 123.6555\n",
      "Epoch 3/50\n",
      "\u001b[1m75/75\u001b[0m \u001b[32m━━━━━━━━━━━━━━━━━━━━\u001b[0m\u001b[37m\u001b[0m \u001b[1m0s\u001b[0m 6ms/step - loss: 9907.6914 - root_mean_squared_error: 99.5079 - val_loss: 13773.0928 - val_root_mean_squared_error: 117.3588\n",
      "Epoch 4/50\n",
      "\u001b[1m75/75\u001b[0m \u001b[32m━━━━━━━━━━━━━━━━━━━━\u001b[0m\u001b[37m\u001b[0m \u001b[1m0s\u001b[0m 6ms/step - loss: 7628.1875 - root_mean_squared_error: 87.3213 - val_loss: 12050.6396 - val_root_mean_squared_error: 109.7754\n",
      "Epoch 5/50\n",
      "\u001b[1m75/75\u001b[0m \u001b[32m━━━━━━━━━━━━━━━━━━━━\u001b[0m\u001b[37m\u001b[0m \u001b[1m0s\u001b[0m 6ms/step - loss: 6893.3047 - root_mean_squared_error: 83.0101 - val_loss: 11423.8037 - val_root_mean_squared_error: 106.8822\n",
      "Epoch 6/50\n",
      "\u001b[1m75/75\u001b[0m \u001b[32m━━━━━━━━━━━━━━━━━━━━\u001b[0m\u001b[37m\u001b[0m \u001b[1m0s\u001b[0m 6ms/step - loss: 6410.2759 - root_mean_squared_error: 80.0409 - val_loss: 11047.5693 - val_root_mean_squared_error: 105.1074\n",
      "Epoch 7/50\n",
      "\u001b[1m75/75\u001b[0m \u001b[32m━━━━━━━━━━━━━━━━━━━━\u001b[0m\u001b[37m\u001b[0m \u001b[1m0s\u001b[0m 6ms/step - loss: 5770.0454 - root_mean_squared_error: 75.9288 - val_loss: 10394.5225 - val_root_mean_squared_error: 101.9535\n",
      "Epoch 8/50\n",
      "\u001b[1m75/75\u001b[0m \u001b[32m━━━━━━━━━━━━━━━━━━━━\u001b[0m\u001b[37m\u001b[0m \u001b[1m0s\u001b[0m 6ms/step - loss: 5060.9800 - root_mean_squared_error: 71.1274 - val_loss: 9815.9697 - val_root_mean_squared_error: 99.0756\n",
      "Epoch 9/50\n",
      "\u001b[1m75/75\u001b[0m \u001b[32m━━━━━━━━━━━━━━━━━━━━\u001b[0m\u001b[37m\u001b[0m \u001b[1m0s\u001b[0m 6ms/step - loss: 5057.2300 - root_mean_squared_error: 71.1058 - val_loss: 9836.8477 - val_root_mean_squared_error: 99.1809\n",
      "Epoch 10/50\n",
      "\u001b[1m75/75\u001b[0m \u001b[32m━━━━━━━━━━━━━━━━━━━━\u001b[0m\u001b[37m\u001b[0m \u001b[1m0s\u001b[0m 6ms/step - loss: 4866.4624 - root_mean_squared_error: 69.7476 - val_loss: 9534.7207 - val_root_mean_squared_error: 97.6459\n",
      "Epoch 11/50\n",
      "\u001b[1m75/75\u001b[0m \u001b[32m━━━━━━━━━━━━━━━━━━━━\u001b[0m\u001b[37m\u001b[0m \u001b[1m0s\u001b[0m 6ms/step - loss: 5056.8540 - root_mean_squared_error: 71.0768 - val_loss: 9821.9971 - val_root_mean_squared_error: 99.1060\n",
      "Epoch 12/50\n",
      "\u001b[1m75/75\u001b[0m \u001b[32m━━━━━━━━━━━━━━━━━━━━\u001b[0m\u001b[37m\u001b[0m \u001b[1m0s\u001b[0m 6ms/step - loss: 4729.0063 - root_mean_squared_error: 68.7192 - val_loss: 9192.6523 - val_root_mean_squared_error: 95.8783\n",
      "Epoch 13/50\n",
      "\u001b[1m75/75\u001b[0m \u001b[32m━━━━━━━━━━━━━━━━━━━━\u001b[0m\u001b[37m\u001b[0m \u001b[1m0s\u001b[0m 6ms/step - loss: 4560.6738 - root_mean_squared_error: 67.5012 - val_loss: 8975.2891 - val_root_mean_squared_error: 94.7380\n",
      "Epoch 14/50\n",
      "\u001b[1m75/75\u001b[0m \u001b[32m━━━━━━━━━━━━━━━━━━━━\u001b[0m\u001b[37m\u001b[0m \u001b[1m0s\u001b[0m 6ms/step - loss: 4732.8477 - root_mean_squared_error: 68.7627 - val_loss: 8780.7227 - val_root_mean_squared_error: 93.7055\n",
      "Epoch 15/50\n",
      "\u001b[1m75/75\u001b[0m \u001b[32m━━━━━━━━━━━━━━━━━━━━\u001b[0m\u001b[37m\u001b[0m \u001b[1m0s\u001b[0m 6ms/step - loss: 4718.7295 - root_mean_squared_error: 68.6597 - val_loss: 8745.2246 - val_root_mean_squared_error: 93.5159\n",
      "Epoch 16/50\n",
      "\u001b[1m75/75\u001b[0m \u001b[32m━━━━━━━━━━━━━━━━━━━━\u001b[0m\u001b[37m\u001b[0m \u001b[1m0s\u001b[0m 6ms/step - loss: 4780.1396 - root_mean_squared_error: 69.0638 - val_loss: 8753.4404 - val_root_mean_squared_error: 93.5598\n",
      "Epoch 17/50\n",
      "\u001b[1m75/75\u001b[0m \u001b[32m━━━━━━━━━━━━━━━━━━━━\u001b[0m\u001b[37m\u001b[0m \u001b[1m0s\u001b[0m 6ms/step - loss: 4911.8901 - root_mean_squared_error: 69.9392 - val_loss: 8372.4961 - val_root_mean_squared_error: 91.5014\n",
      "Epoch 18/50\n",
      "\u001b[1m75/75\u001b[0m \u001b[32m━━━━━━━━━━━━━━━━━━━━\u001b[0m\u001b[37m\u001b[0m \u001b[1m0s\u001b[0m 6ms/step - loss: 4749.2568 - root_mean_squared_error: 68.8722 - val_loss: 8454.3584 - val_root_mean_squared_error: 91.9476\n",
      "Epoch 19/50\n",
      "\u001b[1m75/75\u001b[0m \u001b[32m━━━━━━━━━━━━━━━━━━━━\u001b[0m\u001b[37m\u001b[0m \u001b[1m0s\u001b[0m 6ms/step - loss: 4795.3311 - root_mean_squared_error: 69.2221 - val_loss: 8250.0264 - val_root_mean_squared_error: 90.8297\n",
      "Epoch 20/50\n",
      "\u001b[1m75/75\u001b[0m \u001b[32m━━━━━━━━━━━━━━━━━━━━\u001b[0m\u001b[37m\u001b[0m \u001b[1m0s\u001b[0m 6ms/step - loss: 4321.4780 - root_mean_squared_error: 65.6982 - val_loss: 8258.6289 - val_root_mean_squared_error: 90.8770\n",
      "Epoch 21/50\n",
      "\u001b[1m75/75\u001b[0m \u001b[32m━━━━━━━━━━━━━━━━━━━━\u001b[0m\u001b[37m\u001b[0m \u001b[1m0s\u001b[0m 6ms/step - loss: 4258.8418 - root_mean_squared_error: 65.2184 - val_loss: 8054.1260 - val_root_mean_squared_error: 89.7448\n",
      "Epoch 22/50\n",
      "\u001b[1m75/75\u001b[0m \u001b[32m━━━━━━━━━━━━━━━━━━━━\u001b[0m\u001b[37m\u001b[0m \u001b[1m0s\u001b[0m 5ms/step - loss: 4392.4531 - root_mean_squared_error: 66.2420 - val_loss: 8197.6533 - val_root_mean_squared_error: 90.5409\n",
      "Epoch 23/50\n",
      "\u001b[1m75/75\u001b[0m \u001b[32m━━━━━━━━━━━━━━━━━━━━\u001b[0m\u001b[37m\u001b[0m \u001b[1m0s\u001b[0m 5ms/step - loss: 4739.5205 - root_mean_squared_error: 68.8133 - val_loss: 8221.7090 - val_root_mean_squared_error: 90.6736\n",
      "Epoch 24/50\n",
      "\u001b[1m75/75\u001b[0m \u001b[32m━━━━━━━━━━━━━━━━━━━━\u001b[0m\u001b[37m\u001b[0m \u001b[1m0s\u001b[0m 5ms/step - loss: 4567.5400 - root_mean_squared_error: 67.5673 - val_loss: 8229.9688 - val_root_mean_squared_error: 90.7192\n",
      "Epoch 25/50\n",
      "\u001b[1m75/75\u001b[0m \u001b[32m━━━━━━━━━━━━━━━━━━━━\u001b[0m\u001b[37m\u001b[0m \u001b[1m0s\u001b[0m 6ms/step - loss: 4633.0659 - root_mean_squared_error: 68.0130 - val_loss: 7944.5020 - val_root_mean_squared_error: 89.1319\n",
      "Epoch 26/50\n",
      "\u001b[1m75/75\u001b[0m \u001b[32m━━━━━━━━━━━━━━━━━━━━\u001b[0m\u001b[37m\u001b[0m \u001b[1m0s\u001b[0m 6ms/step - loss: 4493.5923 - root_mean_squared_error: 67.0178 - val_loss: 8186.5874 - val_root_mean_squared_error: 90.4798\n",
      "Epoch 27/50\n",
      "\u001b[1m75/75\u001b[0m \u001b[32m━━━━━━━━━━━━━━━━━━━━\u001b[0m\u001b[37m\u001b[0m \u001b[1m0s\u001b[0m 5ms/step - loss: 4560.3569 - root_mean_squared_error: 67.4927 - val_loss: 8047.4180 - val_root_mean_squared_error: 89.7074\n",
      "Epoch 28/50\n",
      "\u001b[1m75/75\u001b[0m \u001b[32m━━━━━━━━━━━━━━━━━━━━\u001b[0m\u001b[37m\u001b[0m \u001b[1m0s\u001b[0m 6ms/step - loss: 4655.1533 - root_mean_squared_error: 68.1703 - val_loss: 8080.4614 - val_root_mean_squared_error: 89.8914\n",
      "Epoch 29/50\n",
      "\u001b[1m75/75\u001b[0m \u001b[32m━━━━━━━━━━━━━━━━━━━━\u001b[0m\u001b[37m\u001b[0m \u001b[1m0s\u001b[0m 6ms/step - loss: 4312.1665 - root_mean_squared_error: 65.6343 - val_loss: 8207.0732 - val_root_mean_squared_error: 90.5929\n",
      "Epoch 30/50\n",
      "\u001b[1m75/75\u001b[0m \u001b[32m━━━━━━━━━━━━━━━━━━━━\u001b[0m\u001b[37m\u001b[0m \u001b[1m0s\u001b[0m 6ms/step - loss: 4452.6255 - root_mean_squared_error: 66.6982 - val_loss: 7939.8320 - val_root_mean_squared_error: 89.1057\n",
      "Epoch 31/50\n",
      "\u001b[1m75/75\u001b[0m \u001b[32m━━━━━━━━━━━━━━━━━━━━\u001b[0m\u001b[37m\u001b[0m \u001b[1m0s\u001b[0m 6ms/step - loss: 4432.8286 - root_mean_squared_error: 66.5500 - val_loss: 8113.6895 - val_root_mean_squared_error: 90.0760\n",
      "Epoch 32/50\n",
      "\u001b[1m75/75\u001b[0m \u001b[32m━━━━━━━━━━━━━━━━━━━━\u001b[0m\u001b[37m\u001b[0m \u001b[1m0s\u001b[0m 6ms/step - loss: 4485.6099 - root_mean_squared_error: 66.9329 - val_loss: 7914.0781 - val_root_mean_squared_error: 88.9611\n",
      "Epoch 33/50\n",
      "\u001b[1m75/75\u001b[0m \u001b[32m━━━━━━━━━━━━━━━━━━━━\u001b[0m\u001b[37m\u001b[0m \u001b[1m0s\u001b[0m 6ms/step - loss: 4642.8828 - root_mean_squared_error: 68.1045 - val_loss: 8076.3618 - val_root_mean_squared_error: 89.8686\n",
      "Epoch 34/50\n",
      "\u001b[1m75/75\u001b[0m \u001b[32m━━━━━━━━━━━━━━━━━━━━\u001b[0m\u001b[37m\u001b[0m \u001b[1m0s\u001b[0m 5ms/step - loss: 4301.8179 - root_mean_squared_error: 65.5071 - val_loss: 8028.5366 - val_root_mean_squared_error: 89.6021\n",
      "Epoch 35/50\n",
      "\u001b[1m75/75\u001b[0m \u001b[32m━━━━━━━━━━━━━━━━━━━━\u001b[0m\u001b[37m\u001b[0m \u001b[1m0s\u001b[0m 5ms/step - loss: 4352.7129 - root_mean_squared_error: 65.9565 - val_loss: 7996.3818 - val_root_mean_squared_error: 89.4225\n",
      "Epoch 36/50\n",
      "\u001b[1m75/75\u001b[0m \u001b[32m━━━━━━━━━━━━━━━━━━━━\u001b[0m\u001b[37m\u001b[0m \u001b[1m0s\u001b[0m 5ms/step - loss: 4250.9136 - root_mean_squared_error: 65.1531 - val_loss: 8046.3354 - val_root_mean_squared_error: 89.7014\n",
      "Epoch 37/50\n",
      "\u001b[1m75/75\u001b[0m \u001b[32m━━━━━━━━━━━━━━━━━━━━\u001b[0m\u001b[37m\u001b[0m \u001b[1m0s\u001b[0m 6ms/step - loss: 4251.3711 - root_mean_squared_error: 65.1308 - val_loss: 7905.9912 - val_root_mean_squared_error: 88.9156\n",
      "Epoch 38/50\n",
      "\u001b[1m75/75\u001b[0m \u001b[32m━━━━━━━━━━━━━━━━━━━━\u001b[0m\u001b[37m\u001b[0m \u001b[1m0s\u001b[0m 5ms/step - loss: 4484.3687 - root_mean_squared_error: 66.9311 - val_loss: 8008.6143 - val_root_mean_squared_error: 89.4909\n",
      "Epoch 39/50\n",
      "\u001b[1m75/75\u001b[0m \u001b[32m━━━━━━━━━━━━━━━━━━━━\u001b[0m\u001b[37m\u001b[0m \u001b[1m0s\u001b[0m 6ms/step - loss: 4420.1777 - root_mean_squared_error: 66.4669 - val_loss: 7942.2061 - val_root_mean_squared_error: 89.1191\n",
      "Epoch 40/50\n",
      "\u001b[1m75/75\u001b[0m \u001b[32m━━━━━━━━━━━━━━━━━━━━\u001b[0m\u001b[37m\u001b[0m \u001b[1m0s\u001b[0m 6ms/step - loss: 4261.8335 - root_mean_squared_error: 65.2407 - val_loss: 7999.5195 - val_root_mean_squared_error: 89.4400\n",
      "Epoch 41/50\n",
      "\u001b[1m75/75\u001b[0m \u001b[32m━━━━━━━━━━━━━━━━━━━━\u001b[0m\u001b[37m\u001b[0m \u001b[1m0s\u001b[0m 6ms/step - loss: 4412.4424 - root_mean_squared_error: 66.3959 - val_loss: 8006.8823 - val_root_mean_squared_error: 89.4812\n",
      "Epoch 42/50\n",
      "\u001b[1m75/75\u001b[0m \u001b[32m━━━━━━━━━━━━━━━━━━━━\u001b[0m\u001b[37m\u001b[0m \u001b[1m1s\u001b[0m 6ms/step - loss: 4418.9219 - root_mean_squared_error: 66.4627 - val_loss: 7926.8379 - val_root_mean_squared_error: 89.0328\n",
      "Epoch 43/50\n",
      "\u001b[1m75/75\u001b[0m \u001b[32m━━━━━━━━━━━━━━━━━━━━\u001b[0m\u001b[37m\u001b[0m \u001b[1m0s\u001b[0m 6ms/step - loss: 4194.9619 - root_mean_squared_error: 64.7281 - val_loss: 8065.4468 - val_root_mean_squared_error: 89.8078\n",
      "Epoch 44/50\n",
      "\u001b[1m75/75\u001b[0m \u001b[32m━━━━━━━━━━━━━━━━━━━━\u001b[0m\u001b[37m\u001b[0m \u001b[1m0s\u001b[0m 6ms/step - loss: 4602.0435 - root_mean_squared_error: 67.8082 - val_loss: 8131.6167 - val_root_mean_squared_error: 90.1755\n",
      "Epoch 45/50\n",
      "\u001b[1m75/75\u001b[0m \u001b[32m━━━━━━━━━━━━━━━━━━━━\u001b[0m\u001b[37m\u001b[0m \u001b[1m0s\u001b[0m 6ms/step - loss: 4433.1377 - root_mean_squared_error: 66.5371 - val_loss: 8046.1641 - val_root_mean_squared_error: 89.7004\n",
      "Epoch 46/50\n",
      "\u001b[1m75/75\u001b[0m \u001b[32m━━━━━━━━━━━━━━━━━━━━\u001b[0m\u001b[37m\u001b[0m \u001b[1m0s\u001b[0m 6ms/step - loss: 4484.6406 - root_mean_squared_error: 66.8942 - val_loss: 7981.9458 - val_root_mean_squared_error: 89.3417\n",
      "Epoch 47/50\n",
      "\u001b[1m75/75\u001b[0m \u001b[32m━━━━━━━━━━━━━━━━━━━━\u001b[0m\u001b[37m\u001b[0m \u001b[1m0s\u001b[0m 6ms/step - loss: 4262.3354 - root_mean_squared_error: 65.2361 - val_loss: 7885.5464 - val_root_mean_squared_error: 88.8006\n",
      "Epoch 48/50\n",
      "\u001b[1m75/75\u001b[0m \u001b[32m━━━━━━━━━━━━━━━━━━━━\u001b[0m\u001b[37m\u001b[0m \u001b[1m0s\u001b[0m 6ms/step - loss: 4057.6636 - root_mean_squared_error: 63.6476 - val_loss: 7817.5205 - val_root_mean_squared_error: 88.4167\n",
      "Epoch 49/50\n",
      "\u001b[1m75/75\u001b[0m \u001b[32m━━━━━━━━━━━━━━━━━━━━\u001b[0m\u001b[37m\u001b[0m \u001b[1m0s\u001b[0m 6ms/step - loss: 4519.4668 - root_mean_squared_error: 67.1830 - val_loss: 7986.4663 - val_root_mean_squared_error: 89.3670\n",
      "Epoch 50/50\n",
      "\u001b[1m75/75\u001b[0m \u001b[32m━━━━━━━━━━━━━━━━━━━━\u001b[0m\u001b[37m\u001b[0m \u001b[1m0s\u001b[0m 6ms/step - loss: 4554.3462 - root_mean_squared_error: 67.3940 - val_loss: 7925.5835 - val_root_mean_squared_error: 89.0257\n"
     ]
    },
    {
     "data": {
      "text/plain": [
       "<keras.src.callbacks.history.History at 0x796908296d70>"
      ]
     },
     "execution_count": 46,
     "metadata": {},
     "output_type": "execute_result"
    }
   ],
   "source": [
    "model6 = Sequential()\n",
    "model6.add(InputLayer((6, 6)))  # 6 timestamps, 6 features\n",
    "model6.add(BatchNormalization())  # Normalize inputs\n",
    "model6.add(GRU(64, activation='relu', return_sequences=True))  # GRU layer\n",
    "model6.add(Dropout(0.3))  # Dropout for regularization\n",
    "model6.add(Dense(32, activation='relu'))  \n",
    "model6.add(Dense(1, activation='linear'))  \n",
    "\n",
    "cp6 = ModelCheckpoint('/kaggle/working/model6.keras', save_best_only=True)\n",
    "\n",
    "model6.compile(loss=MeanSquaredError(), optimizer=Adam(learning_rate=0.001), \n",
    "               metrics=[RootMeanSquaredError()])\n",
    "\n",
    "model6.fit(X_train1, y_train1, validation_data=(X_val1, y_val1), epochs=50, \n",
    "           callbacks=[cp6])"
   ]
  },
  {
   "cell_type": "markdown",
   "id": "5acb8f65",
   "metadata": {
    "papermill": {
     "duration": 0.071854,
     "end_time": "2025-01-27T21:21:36.177545",
     "exception": false,
     "start_time": "2025-01-27T21:21:36.105691",
     "status": "completed"
    },
    "tags": []
   },
   "source": [
    "# Bidirectional LSTM(Normal)"
   ]
  },
  {
   "cell_type": "code",
   "execution_count": 47,
   "id": "c79c0115",
   "metadata": {
    "execution": {
     "iopub.execute_input": "2025-01-27T21:21:36.320085Z",
     "iopub.status.busy": "2025-01-27T21:21:36.319740Z",
     "iopub.status.idle": "2025-01-27T21:21:58.276692Z",
     "shell.execute_reply": "2025-01-27T21:21:58.275620Z"
    },
    "papermill": {
     "duration": 22.029793,
     "end_time": "2025-01-27T21:21:58.278113",
     "exception": false,
     "start_time": "2025-01-27T21:21:36.248320",
     "status": "completed"
    },
    "tags": []
   },
   "outputs": [
    {
     "name": "stdout",
     "output_type": "stream",
     "text": [
      "Epoch 1/50\n",
      "\u001b[1m75/75\u001b[0m \u001b[32m━━━━━━━━━━━━━━━━━━━━\u001b[0m\u001b[37m\u001b[0m \u001b[1m0s\u001b[0m 6ms/step - loss: 4527.8940 - root_mean_squared_error: 67.2489 - val_loss: 8014.2607 - val_root_mean_squared_error: 89.5224\n",
      "Epoch 2/50\n",
      "\u001b[1m75/75\u001b[0m \u001b[32m━━━━━━━━━━━━━━━━━━━━\u001b[0m\u001b[37m\u001b[0m \u001b[1m0s\u001b[0m 6ms/step - loss: 4423.0049 - root_mean_squared_error: 66.4503 - val_loss: 7915.0552 - val_root_mean_squared_error: 88.9666\n",
      "Epoch 3/50\n",
      "\u001b[1m75/75\u001b[0m \u001b[32m━━━━━━━━━━━━━━━━━━━━\u001b[0m\u001b[37m\u001b[0m \u001b[1m0s\u001b[0m 5ms/step - loss: 4328.1143 - root_mean_squared_error: 65.7726 - val_loss: 7991.6333 - val_root_mean_squared_error: 89.3959\n",
      "Epoch 4/50\n",
      "\u001b[1m75/75\u001b[0m \u001b[32m━━━━━━━━━━━━━━━━━━━━\u001b[0m\u001b[37m\u001b[0m \u001b[1m0s\u001b[0m 5ms/step - loss: 4424.9810 - root_mean_squared_error: 66.4859 - val_loss: 7923.0303 - val_root_mean_squared_error: 89.0114\n",
      "Epoch 5/50\n",
      "\u001b[1m75/75\u001b[0m \u001b[32m━━━━━━━━━━━━━━━━━━━━\u001b[0m\u001b[37m\u001b[0m \u001b[1m0s\u001b[0m 6ms/step - loss: 4280.7241 - root_mean_squared_error: 65.2857 - val_loss: 7912.8809 - val_root_mean_squared_error: 88.9544\n",
      "Epoch 6/50\n",
      "\u001b[1m75/75\u001b[0m \u001b[32m━━━━━━━━━━━━━━━━━━━━\u001b[0m\u001b[37m\u001b[0m \u001b[1m0s\u001b[0m 5ms/step - loss: 4432.6787 - root_mean_squared_error: 66.5443 - val_loss: 7931.2480 - val_root_mean_squared_error: 89.0575\n",
      "Epoch 7/50\n",
      "\u001b[1m75/75\u001b[0m \u001b[32m━━━━━━━━━━━━━━━━━━━━\u001b[0m\u001b[37m\u001b[0m \u001b[1m0s\u001b[0m 5ms/step - loss: 4365.3022 - root_mean_squared_error: 66.0177 - val_loss: 7929.0640 - val_root_mean_squared_error: 89.0453\n",
      "Epoch 8/50\n",
      "\u001b[1m75/75\u001b[0m \u001b[32m━━━━━━━━━━━━━━━━━━━━\u001b[0m\u001b[37m\u001b[0m \u001b[1m0s\u001b[0m 5ms/step - loss: 4189.7192 - root_mean_squared_error: 64.6002 - val_loss: 7948.0464 - val_root_mean_squared_error: 89.1518\n",
      "Epoch 9/50\n",
      "\u001b[1m75/75\u001b[0m \u001b[32m━━━━━━━━━━━━━━━━━━━━\u001b[0m\u001b[37m\u001b[0m \u001b[1m0s\u001b[0m 5ms/step - loss: 4303.7310 - root_mean_squared_error: 65.5839 - val_loss: 7916.4502 - val_root_mean_squared_error: 88.9744\n",
      "Epoch 10/50\n",
      "\u001b[1m75/75\u001b[0m \u001b[32m━━━━━━━━━━━━━━━━━━━━\u001b[0m\u001b[37m\u001b[0m \u001b[1m0s\u001b[0m 6ms/step - loss: 4259.8560 - root_mean_squared_error: 65.1859 - val_loss: 8130.5020 - val_root_mean_squared_error: 90.1693\n",
      "Epoch 11/50\n",
      "\u001b[1m75/75\u001b[0m \u001b[32m━━━━━━━━━━━━━━━━━━━━\u001b[0m\u001b[37m\u001b[0m \u001b[1m0s\u001b[0m 5ms/step - loss: 4266.9341 - root_mean_squared_error: 65.2740 - val_loss: 8017.5210 - val_root_mean_squared_error: 89.5406\n",
      "Epoch 12/50\n",
      "\u001b[1m75/75\u001b[0m \u001b[32m━━━━━━━━━━━━━━━━━━━━\u001b[0m\u001b[37m\u001b[0m \u001b[1m0s\u001b[0m 5ms/step - loss: 4454.1011 - root_mean_squared_error: 66.6989 - val_loss: 7968.3760 - val_root_mean_squared_error: 89.2658\n",
      "Epoch 13/50\n",
      "\u001b[1m75/75\u001b[0m \u001b[32m━━━━━━━━━━━━━━━━━━━━\u001b[0m\u001b[37m\u001b[0m \u001b[1m0s\u001b[0m 6ms/step - loss: 4949.6206 - root_mean_squared_error: 70.2316 - val_loss: 7850.6670 - val_root_mean_squared_error: 88.6040\n",
      "Epoch 14/50\n",
      "\u001b[1m75/75\u001b[0m \u001b[32m━━━━━━━━━━━━━━━━━━━━\u001b[0m\u001b[37m\u001b[0m \u001b[1m0s\u001b[0m 5ms/step - loss: 4376.7646 - root_mean_squared_error: 66.1359 - val_loss: 7908.9639 - val_root_mean_squared_error: 88.9324\n",
      "Epoch 15/50\n",
      "\u001b[1m75/75\u001b[0m \u001b[32m━━━━━━━━━━━━━━━━━━━━\u001b[0m\u001b[37m\u001b[0m \u001b[1m0s\u001b[0m 5ms/step - loss: 4296.8716 - root_mean_squared_error: 65.4728 - val_loss: 7930.4634 - val_root_mean_squared_error: 89.0531\n",
      "Epoch 16/50\n",
      "\u001b[1m75/75\u001b[0m \u001b[32m━━━━━━━━━━━━━━━━━━━━\u001b[0m\u001b[37m\u001b[0m \u001b[1m0s\u001b[0m 5ms/step - loss: 4326.1934 - root_mean_squared_error: 65.7141 - val_loss: 7925.7544 - val_root_mean_squared_error: 89.0267\n",
      "Epoch 17/50\n",
      "\u001b[1m75/75\u001b[0m \u001b[32m━━━━━━━━━━━━━━━━━━━━\u001b[0m\u001b[37m\u001b[0m \u001b[1m0s\u001b[0m 5ms/step - loss: 4235.6948 - root_mean_squared_error: 65.0703 - val_loss: 7860.0811 - val_root_mean_squared_error: 88.6571\n",
      "Epoch 18/50\n",
      "\u001b[1m75/75\u001b[0m \u001b[32m━━━━━━━━━━━━━━━━━━━━\u001b[0m\u001b[37m\u001b[0m \u001b[1m0s\u001b[0m 5ms/step - loss: 4288.9697 - root_mean_squared_error: 65.4271 - val_loss: 7941.2754 - val_root_mean_squared_error: 89.1138\n",
      "Epoch 19/50\n",
      "\u001b[1m75/75\u001b[0m \u001b[32m━━━━━━━━━━━━━━━━━━━━\u001b[0m\u001b[37m\u001b[0m \u001b[1m0s\u001b[0m 5ms/step - loss: 4573.6709 - root_mean_squared_error: 67.5629 - val_loss: 8050.5010 - val_root_mean_squared_error: 89.7246\n",
      "Epoch 20/50\n",
      "\u001b[1m75/75\u001b[0m \u001b[32m━━━━━━━━━━━━━━━━━━━━\u001b[0m\u001b[37m\u001b[0m \u001b[1m0s\u001b[0m 5ms/step - loss: 4298.1470 - root_mean_squared_error: 65.5509 - val_loss: 7911.1431 - val_root_mean_squared_error: 88.9446\n",
      "Epoch 21/50\n",
      "\u001b[1m75/75\u001b[0m \u001b[32m━━━━━━━━━━━━━━━━━━━━\u001b[0m\u001b[37m\u001b[0m \u001b[1m0s\u001b[0m 5ms/step - loss: 4382.1221 - root_mean_squared_error: 66.1614 - val_loss: 8071.5708 - val_root_mean_squared_error: 89.8419\n",
      "Epoch 22/50\n",
      "\u001b[1m75/75\u001b[0m \u001b[32m━━━━━━━━━━━━━━━━━━━━\u001b[0m\u001b[37m\u001b[0m \u001b[1m0s\u001b[0m 6ms/step - loss: 4924.7988 - root_mean_squared_error: 70.0713 - val_loss: 7970.1445 - val_root_mean_squared_error: 89.2757\n",
      "Epoch 23/50\n",
      "\u001b[1m75/75\u001b[0m \u001b[32m━━━━━━━━━━━━━━━━━━━━\u001b[0m\u001b[37m\u001b[0m \u001b[1m0s\u001b[0m 5ms/step - loss: 4561.2568 - root_mean_squared_error: 67.5011 - val_loss: 7922.9028 - val_root_mean_squared_error: 89.0107\n",
      "Epoch 24/50\n",
      "\u001b[1m75/75\u001b[0m \u001b[32m━━━━━━━━━━━━━━━━━━━━\u001b[0m\u001b[37m\u001b[0m \u001b[1m0s\u001b[0m 5ms/step - loss: 4275.7891 - root_mean_squared_error: 65.3364 - val_loss: 7971.0132 - val_root_mean_squared_error: 89.2805\n",
      "Epoch 25/50\n",
      "\u001b[1m75/75\u001b[0m \u001b[32m━━━━━━━━━━━━━━━━━━━━\u001b[0m\u001b[37m\u001b[0m \u001b[1m0s\u001b[0m 5ms/step - loss: 4384.9702 - root_mean_squared_error: 66.1945 - val_loss: 7934.8672 - val_root_mean_squared_error: 89.0779\n",
      "Epoch 26/50\n",
      "\u001b[1m75/75\u001b[0m \u001b[32m━━━━━━━━━━━━━━━━━━━━\u001b[0m\u001b[37m\u001b[0m \u001b[1m0s\u001b[0m 5ms/step - loss: 4086.8120 - root_mean_squared_error: 63.8615 - val_loss: 8004.5645 - val_root_mean_squared_error: 89.4682\n",
      "Epoch 27/50\n",
      "\u001b[1m75/75\u001b[0m \u001b[32m━━━━━━━━━━━━━━━━━━━━\u001b[0m\u001b[37m\u001b[0m \u001b[1m0s\u001b[0m 5ms/step - loss: 4503.9585 - root_mean_squared_error: 67.0400 - val_loss: 8033.7310 - val_root_mean_squared_error: 89.6311\n",
      "Epoch 28/50\n",
      "\u001b[1m75/75\u001b[0m \u001b[32m━━━━━━━━━━━━━━━━━━━━\u001b[0m\u001b[37m\u001b[0m \u001b[1m0s\u001b[0m 5ms/step - loss: 4309.6982 - root_mean_squared_error: 65.5339 - val_loss: 7918.8564 - val_root_mean_squared_error: 88.9879\n",
      "Epoch 29/50\n",
      "\u001b[1m75/75\u001b[0m \u001b[32m━━━━━━━━━━━━━━━━━━━━\u001b[0m\u001b[37m\u001b[0m \u001b[1m0s\u001b[0m 5ms/step - loss: 4286.3760 - root_mean_squared_error: 65.4241 - val_loss: 7974.0977 - val_root_mean_squared_error: 89.2978\n",
      "Epoch 30/50\n",
      "\u001b[1m75/75\u001b[0m \u001b[32m━━━━━━━━━━━━━━━━━━━━\u001b[0m\u001b[37m\u001b[0m \u001b[1m0s\u001b[0m 6ms/step - loss: 4413.1108 - root_mean_squared_error: 66.4124 - val_loss: 7803.3481 - val_root_mean_squared_error: 88.3366\n",
      "Epoch 31/50\n",
      "\u001b[1m75/75\u001b[0m \u001b[32m━━━━━━━━━━━━━━━━━━━━\u001b[0m\u001b[37m\u001b[0m \u001b[1m0s\u001b[0m 6ms/step - loss: 4416.0161 - root_mean_squared_error: 66.4304 - val_loss: 7920.9346 - val_root_mean_squared_error: 88.9996\n",
      "Epoch 32/50\n",
      "\u001b[1m75/75\u001b[0m \u001b[32m━━━━━━━━━━━━━━━━━━━━\u001b[0m\u001b[37m\u001b[0m \u001b[1m0s\u001b[0m 5ms/step - loss: 4441.7495 - root_mean_squared_error: 66.6034 - val_loss: 7907.9131 - val_root_mean_squared_error: 88.9264\n",
      "Epoch 33/50\n",
      "\u001b[1m75/75\u001b[0m \u001b[32m━━━━━━━━━━━━━━━━━━━━\u001b[0m\u001b[37m\u001b[0m \u001b[1m0s\u001b[0m 6ms/step - loss: 4565.3066 - root_mean_squared_error: 67.4603 - val_loss: 7895.3970 - val_root_mean_squared_error: 88.8560\n",
      "Epoch 34/50\n",
      "\u001b[1m75/75\u001b[0m \u001b[32m━━━━━━━━━━━━━━━━━━━━\u001b[0m\u001b[37m\u001b[0m \u001b[1m0s\u001b[0m 5ms/step - loss: 4498.9404 - root_mean_squared_error: 67.0315 - val_loss: 8001.7617 - val_root_mean_squared_error: 89.4526\n",
      "Epoch 35/50\n",
      "\u001b[1m75/75\u001b[0m \u001b[32m━━━━━━━━━━━━━━━━━━━━\u001b[0m\u001b[37m\u001b[0m \u001b[1m0s\u001b[0m 5ms/step - loss: 4165.3271 - root_mean_squared_error: 64.5158 - val_loss: 7907.0977 - val_root_mean_squared_error: 88.9219\n",
      "Epoch 36/50\n",
      "\u001b[1m75/75\u001b[0m \u001b[32m━━━━━━━━━━━━━━━━━━━━\u001b[0m\u001b[37m\u001b[0m \u001b[1m0s\u001b[0m 5ms/step - loss: 4364.9370 - root_mean_squared_error: 66.0508 - val_loss: 8061.7983 - val_root_mean_squared_error: 89.7875\n",
      "Epoch 37/50\n",
      "\u001b[1m75/75\u001b[0m \u001b[32m━━━━━━━━━━━━━━━━━━━━\u001b[0m\u001b[37m\u001b[0m \u001b[1m0s\u001b[0m 6ms/step - loss: 4446.8755 - root_mean_squared_error: 66.6708 - val_loss: 7926.2593 - val_root_mean_squared_error: 89.0295\n",
      "Epoch 38/50\n",
      "\u001b[1m75/75\u001b[0m \u001b[32m━━━━━━━━━━━━━━━━━━━━\u001b[0m\u001b[37m\u001b[0m \u001b[1m0s\u001b[0m 6ms/step - loss: 4248.7993 - root_mean_squared_error: 65.1682 - val_loss: 8027.7476 - val_root_mean_squared_error: 89.5977\n",
      "Epoch 39/50\n",
      "\u001b[1m75/75\u001b[0m \u001b[32m━━━━━━━━━━━━━━━━━━━━\u001b[0m\u001b[37m\u001b[0m \u001b[1m0s\u001b[0m 5ms/step - loss: 4265.8408 - root_mean_squared_error: 65.2884 - val_loss: 7980.4121 - val_root_mean_squared_error: 89.3332\n",
      "Epoch 40/50\n",
      "\u001b[1m75/75\u001b[0m \u001b[32m━━━━━━━━━━━━━━━━━━━━\u001b[0m\u001b[37m\u001b[0m \u001b[1m0s\u001b[0m 5ms/step - loss: 4188.0615 - root_mean_squared_error: 64.6531 - val_loss: 7894.6460 - val_root_mean_squared_error: 88.8518\n",
      "Epoch 41/50\n",
      "\u001b[1m75/75\u001b[0m \u001b[32m━━━━━━━━━━━━━━━━━━━━\u001b[0m\u001b[37m\u001b[0m \u001b[1m0s\u001b[0m 5ms/step - loss: 4423.3242 - root_mean_squared_error: 66.4883 - val_loss: 7826.4272 - val_root_mean_squared_error: 88.4671\n",
      "Epoch 42/50\n",
      "\u001b[1m75/75\u001b[0m \u001b[32m━━━━━━━━━━━━━━━━━━━━\u001b[0m\u001b[37m\u001b[0m \u001b[1m0s\u001b[0m 5ms/step - loss: 4198.0034 - root_mean_squared_error: 64.6948 - val_loss: 7964.3105 - val_root_mean_squared_error: 89.2430\n",
      "Epoch 43/50\n",
      "\u001b[1m75/75\u001b[0m \u001b[32m━━━━━━━━━━━━━━━━━━━━\u001b[0m\u001b[37m\u001b[0m \u001b[1m0s\u001b[0m 5ms/step - loss: 4451.8384 - root_mean_squared_error: 66.7122 - val_loss: 7939.5200 - val_root_mean_squared_error: 89.1040\n",
      "Epoch 44/50\n",
      "\u001b[1m75/75\u001b[0m \u001b[32m━━━━━━━━━━━━━━━━━━━━\u001b[0m\u001b[37m\u001b[0m \u001b[1m0s\u001b[0m 5ms/step - loss: 4332.1890 - root_mean_squared_error: 65.7783 - val_loss: 7953.2998 - val_root_mean_squared_error: 89.1813\n",
      "Epoch 45/50\n",
      "\u001b[1m75/75\u001b[0m \u001b[32m━━━━━━━━━━━━━━━━━━━━\u001b[0m\u001b[37m\u001b[0m \u001b[1m0s\u001b[0m 5ms/step - loss: 4390.2871 - root_mean_squared_error: 66.2312 - val_loss: 8013.7612 - val_root_mean_squared_error: 89.5196\n",
      "Epoch 46/50\n",
      "\u001b[1m75/75\u001b[0m \u001b[32m━━━━━━━━━━━━━━━━━━━━\u001b[0m\u001b[37m\u001b[0m \u001b[1m0s\u001b[0m 5ms/step - loss: 4642.0244 - root_mean_squared_error: 67.9949 - val_loss: 7856.9478 - val_root_mean_squared_error: 88.6394\n",
      "Epoch 47/50\n",
      "\u001b[1m75/75\u001b[0m \u001b[32m━━━━━━━━━━━━━━━━━━━━\u001b[0m\u001b[37m\u001b[0m \u001b[1m0s\u001b[0m 5ms/step - loss: 4491.8101 - root_mean_squared_error: 66.9487 - val_loss: 8093.6685 - val_root_mean_squared_error: 89.9648\n",
      "Epoch 48/50\n",
      "\u001b[1m75/75\u001b[0m \u001b[32m━━━━━━━━━━━━━━━━━━━━\u001b[0m\u001b[37m\u001b[0m \u001b[1m0s\u001b[0m 5ms/step - loss: 4453.3940 - root_mean_squared_error: 66.6675 - val_loss: 8084.1113 - val_root_mean_squared_error: 89.9117\n",
      "Epoch 49/50\n",
      "\u001b[1m75/75\u001b[0m \u001b[32m━━━━━━━━━━━━━━━━━━━━\u001b[0m\u001b[37m\u001b[0m \u001b[1m0s\u001b[0m 5ms/step - loss: 4222.9219 - root_mean_squared_error: 64.9677 - val_loss: 8155.2793 - val_root_mean_squared_error: 90.3066\n",
      "Epoch 50/50\n",
      "\u001b[1m75/75\u001b[0m \u001b[32m━━━━━━━━━━━━━━━━━━━━\u001b[0m\u001b[37m\u001b[0m \u001b[1m0s\u001b[0m 5ms/step - loss: 4386.9990 - root_mean_squared_error: 66.1724 - val_loss: 8090.1934 - val_root_mean_squared_error: 89.9455\n"
     ]
    },
    {
     "data": {
      "text/plain": [
       "<keras.src.callbacks.history.History at 0x796909153d60>"
      ]
     },
     "execution_count": 47,
     "metadata": {},
     "output_type": "execute_result"
    }
   ],
   "source": [
    "model7 = Sequential()\n",
    "model7.add(InputLayer((6, 6)))  # 6 timestamps, 6 features\n",
    "model7.add(BatchNormalization())  # Normalize inputs\n",
    "model7.add(GRU(64, activation='relu', return_sequences=True))  # GRU layer\n",
    "model7.add(Dropout(0.3)) \n",
    "model7.add(Dense(32, activation='relu'))  \n",
    "model7.add(Dense(1, activation='linear'))  \n",
    "\n",
    "cp7 = ModelCheckpoint('/kaggle/working/model7.keras', save_best_only=True)\n",
    "\n",
    "model7.compile(loss=MeanSquaredError(), optimizer=Adam(learning_rate=0.001), \n",
    "               metrics=[RootMeanSquaredError()])\n",
    "\n",
    "model6.fit(X_train1, y_train1, validation_data=(X_val1, y_val1), epochs=50, \n",
    "           callbacks=[cp7])"
   ]
  },
  {
   "cell_type": "code",
   "execution_count": null,
   "id": "db815c0e",
   "metadata": {
    "papermill": {
     "duration": 0.094816,
     "end_time": "2025-01-27T21:21:58.470037",
     "exception": false,
     "start_time": "2025-01-27T21:21:58.375221",
     "status": "completed"
    },
    "tags": []
   },
   "outputs": [],
   "source": []
  },
  {
   "cell_type": "markdown",
   "id": "65b1be0c",
   "metadata": {
    "papermill": {
     "duration": 0.095289,
     "end_time": "2025-01-27T21:21:58.659981",
     "exception": false,
     "start_time": "2025-01-27T21:21:58.564692",
     "status": "completed"
    },
    "tags": []
   },
   "source": [
    "# Hybrid CNN + LSTM"
   ]
  },
  {
   "cell_type": "code",
   "execution_count": 48,
   "id": "cae44f96",
   "metadata": {
    "execution": {
     "iopub.execute_input": "2025-01-27T21:21:58.854398Z",
     "iopub.status.busy": "2025-01-27T21:21:58.854001Z",
     "iopub.status.idle": "2025-01-27T21:22:14.859958Z",
     "shell.execute_reply": "2025-01-27T21:22:14.859024Z"
    },
    "papermill": {
     "duration": 16.10349,
     "end_time": "2025-01-27T21:22:14.861355",
     "exception": false,
     "start_time": "2025-01-27T21:21:58.757865",
     "status": "completed"
    },
    "tags": []
   },
   "outputs": [
    {
     "name": "stdout",
     "output_type": "stream",
     "text": [
      "Epoch 1/50\n",
      "\u001b[1m75/75\u001b[0m \u001b[32m━━━━━━━━━━━━━━━━━━━━\u001b[0m\u001b[37m\u001b[0m \u001b[1m3s\u001b[0m 7ms/step - loss: 15781.6436 - root_mean_squared_error: 121.7230 - val_loss: 2319.3789 - val_root_mean_squared_error: 48.1599\n",
      "Epoch 2/50\n",
      "\u001b[1m75/75\u001b[0m \u001b[32m━━━━━━━━━━━━━━━━━━━━\u001b[0m\u001b[37m\u001b[0m \u001b[1m0s\u001b[0m 3ms/step - loss: 3095.3342 - root_mean_squared_error: 55.6122 - val_loss: 2180.9768 - val_root_mean_squared_error: 46.7009\n",
      "Epoch 3/50\n",
      "\u001b[1m75/75\u001b[0m \u001b[32m━━━━━━━━━━━━━━━━━━━━\u001b[0m\u001b[37m\u001b[0m \u001b[1m0s\u001b[0m 3ms/step - loss: 2655.3015 - root_mean_squared_error: 51.4564 - val_loss: 2941.4895 - val_root_mean_squared_error: 54.2355\n",
      "Epoch 4/50\n",
      "\u001b[1m75/75\u001b[0m \u001b[32m━━━━━━━━━━━━━━━━━━━━\u001b[0m\u001b[37m\u001b[0m \u001b[1m0s\u001b[0m 3ms/step - loss: 3025.9724 - root_mean_squared_error: 54.8282 - val_loss: 2436.1865 - val_root_mean_squared_error: 49.3577\n",
      "Epoch 5/50\n",
      "\u001b[1m75/75\u001b[0m \u001b[32m━━━━━━━━━━━━━━━━━━━━\u001b[0m\u001b[37m\u001b[0m \u001b[1m0s\u001b[0m 3ms/step - loss: 2344.1797 - root_mean_squared_error: 48.2928 - val_loss: 2085.7097 - val_root_mean_squared_error: 45.6696\n",
      "Epoch 6/50\n",
      "\u001b[1m75/75\u001b[0m \u001b[32m━━━━━━━━━━━━━━━━━━━━\u001b[0m\u001b[37m\u001b[0m \u001b[1m0s\u001b[0m 3ms/step - loss: 2329.9846 - root_mean_squared_error: 48.1748 - val_loss: 2308.5996 - val_root_mean_squared_error: 48.0479\n",
      "Epoch 7/50\n",
      "\u001b[1m75/75\u001b[0m \u001b[32m━━━━━━━━━━━━━━━━━━━━\u001b[0m\u001b[37m\u001b[0m \u001b[1m0s\u001b[0m 3ms/step - loss: 2274.7200 - root_mean_squared_error: 47.6646 - val_loss: 2010.7891 - val_root_mean_squared_error: 44.8418\n",
      "Epoch 8/50\n",
      "\u001b[1m75/75\u001b[0m \u001b[32m━━━━━━━━━━━━━━━━━━━━\u001b[0m\u001b[37m\u001b[0m \u001b[1m0s\u001b[0m 3ms/step - loss: 2356.0100 - root_mean_squared_error: 48.5158 - val_loss: 2307.7622 - val_root_mean_squared_error: 48.0392\n",
      "Epoch 9/50\n",
      "\u001b[1m75/75\u001b[0m \u001b[32m━━━━━━━━━━━━━━━━━━━━\u001b[0m\u001b[37m\u001b[0m \u001b[1m0s\u001b[0m 3ms/step - loss: 2178.7122 - root_mean_squared_error: 46.5643 - val_loss: 2306.4788 - val_root_mean_squared_error: 48.0258\n",
      "Epoch 10/50\n",
      "\u001b[1m75/75\u001b[0m \u001b[32m━━━━━━━━━━━━━━━━━━━━\u001b[0m\u001b[37m\u001b[0m \u001b[1m0s\u001b[0m 4ms/step - loss: 2458.4175 - root_mean_squared_error: 49.5509 - val_loss: 3433.6995 - val_root_mean_squared_error: 58.5978\n",
      "Epoch 11/50\n",
      "\u001b[1m75/75\u001b[0m \u001b[32m━━━━━━━━━━━━━━━━━━━━\u001b[0m\u001b[37m\u001b[0m \u001b[1m0s\u001b[0m 3ms/step - loss: 2299.0442 - root_mean_squared_error: 47.8781 - val_loss: 2741.4348 - val_root_mean_squared_error: 52.3587\n",
      "Epoch 12/50\n",
      "\u001b[1m75/75\u001b[0m \u001b[32m━━━━━━━━━━━━━━━━━━━━\u001b[0m\u001b[37m\u001b[0m \u001b[1m0s\u001b[0m 3ms/step - loss: 2041.7240 - root_mean_squared_error: 45.1522 - val_loss: 3274.7485 - val_root_mean_squared_error: 57.2254\n",
      "Epoch 13/50\n",
      "\u001b[1m75/75\u001b[0m \u001b[32m━━━━━━━━━━━━━━━━━━━━\u001b[0m\u001b[37m\u001b[0m \u001b[1m0s\u001b[0m 3ms/step - loss: 2103.4688 - root_mean_squared_error: 45.8478 - val_loss: 3890.7849 - val_root_mean_squared_error: 62.3762\n",
      "Epoch 14/50\n",
      "\u001b[1m75/75\u001b[0m \u001b[32m━━━━━━━━━━━━━━━━━━━━\u001b[0m\u001b[37m\u001b[0m \u001b[1m0s\u001b[0m 3ms/step - loss: 2190.2253 - root_mean_squared_error: 46.7504 - val_loss: 2378.5474 - val_root_mean_squared_error: 48.7704\n",
      "Epoch 15/50\n",
      "\u001b[1m75/75\u001b[0m \u001b[32m━━━━━━━━━━━━━━━━━━━━\u001b[0m\u001b[37m\u001b[0m \u001b[1m0s\u001b[0m 3ms/step - loss: 2297.8835 - root_mean_squared_error: 47.9145 - val_loss: 2983.9587 - val_root_mean_squared_error: 54.6256\n",
      "Epoch 16/50\n",
      "\u001b[1m75/75\u001b[0m \u001b[32m━━━━━━━━━━━━━━━━━━━━\u001b[0m\u001b[37m\u001b[0m \u001b[1m0s\u001b[0m 3ms/step - loss: 2193.0112 - root_mean_squared_error: 46.7945 - val_loss: 3763.8984 - val_root_mean_squared_error: 61.3506\n",
      "Epoch 17/50\n",
      "\u001b[1m75/75\u001b[0m \u001b[32m━━━━━━━━━━━━━━━━━━━━\u001b[0m\u001b[37m\u001b[0m \u001b[1m0s\u001b[0m 3ms/step - loss: 1965.7950 - root_mean_squared_error: 44.1995 - val_loss: 3397.5911 - val_root_mean_squared_error: 58.2889\n",
      "Epoch 18/50\n",
      "\u001b[1m75/75\u001b[0m \u001b[32m━━━━━━━━━━━━━━━━━━━━\u001b[0m\u001b[37m\u001b[0m \u001b[1m0s\u001b[0m 3ms/step - loss: 2394.0466 - root_mean_squared_error: 48.7034 - val_loss: 3847.2158 - val_root_mean_squared_error: 62.0259\n",
      "Epoch 19/50\n",
      "\u001b[1m75/75\u001b[0m \u001b[32m━━━━━━━━━━━━━━━━━━━━\u001b[0m\u001b[37m\u001b[0m \u001b[1m0s\u001b[0m 3ms/step - loss: 2135.1406 - root_mean_squared_error: 46.1825 - val_loss: 3951.3540 - val_root_mean_squared_error: 62.8598\n",
      "Epoch 20/50\n",
      "\u001b[1m75/75\u001b[0m \u001b[32m━━━━━━━━━━━━━━━━━━━━\u001b[0m\u001b[37m\u001b[0m \u001b[1m0s\u001b[0m 3ms/step - loss: 2154.5208 - root_mean_squared_error: 46.4000 - val_loss: 2497.5278 - val_root_mean_squared_error: 49.9753\n",
      "Epoch 21/50\n",
      "\u001b[1m75/75\u001b[0m \u001b[32m━━━━━━━━━━━━━━━━━━━━\u001b[0m\u001b[37m\u001b[0m \u001b[1m0s\u001b[0m 3ms/step - loss: 2402.9211 - root_mean_squared_error: 48.8843 - val_loss: 3903.2390 - val_root_mean_squared_error: 62.4759\n",
      "Epoch 22/50\n",
      "\u001b[1m75/75\u001b[0m \u001b[32m━━━━━━━━━━━━━━━━━━━━\u001b[0m\u001b[37m\u001b[0m \u001b[1m0s\u001b[0m 3ms/step - loss: 2333.9004 - root_mean_squared_error: 48.1143 - val_loss: 3572.2097 - val_root_mean_squared_error: 59.7680\n",
      "Epoch 23/50\n",
      "\u001b[1m75/75\u001b[0m \u001b[32m━━━━━━━━━━━━━━━━━━━━\u001b[0m\u001b[37m\u001b[0m \u001b[1m0s\u001b[0m 3ms/step - loss: 1965.5861 - root_mean_squared_error: 44.2997 - val_loss: 3230.2751 - val_root_mean_squared_error: 56.8355\n",
      "Epoch 24/50\n",
      "\u001b[1m75/75\u001b[0m \u001b[32m━━━━━━━━━━━━━━━━━━━━\u001b[0m\u001b[37m\u001b[0m \u001b[1m0s\u001b[0m 3ms/step - loss: 1908.3015 - root_mean_squared_error: 43.6450 - val_loss: 4509.2271 - val_root_mean_squared_error: 67.1508\n",
      "Epoch 25/50\n",
      "\u001b[1m75/75\u001b[0m \u001b[32m━━━━━━━━━━━━━━━━━━━━\u001b[0m\u001b[37m\u001b[0m \u001b[1m0s\u001b[0m 3ms/step - loss: 2201.4717 - root_mean_squared_error: 46.8581 - val_loss: 3085.6008 - val_root_mean_squared_error: 55.5482\n",
      "Epoch 26/50\n",
      "\u001b[1m75/75\u001b[0m \u001b[32m━━━━━━━━━━━━━━━━━━━━\u001b[0m\u001b[37m\u001b[0m \u001b[1m0s\u001b[0m 3ms/step - loss: 1954.1536 - root_mean_squared_error: 44.1768 - val_loss: 4540.3169 - val_root_mean_squared_error: 67.3819\n",
      "Epoch 27/50\n",
      "\u001b[1m75/75\u001b[0m \u001b[32m━━━━━━━━━━━━━━━━━━━━\u001b[0m\u001b[37m\u001b[0m \u001b[1m0s\u001b[0m 3ms/step - loss: 2185.7893 - root_mean_squared_error: 46.5963 - val_loss: 4684.6299 - val_root_mean_squared_error: 68.4444\n",
      "Epoch 28/50\n",
      "\u001b[1m75/75\u001b[0m \u001b[32m━━━━━━━━━━━━━━━━━━━━\u001b[0m\u001b[37m\u001b[0m \u001b[1m0s\u001b[0m 3ms/step - loss: 1876.2561 - root_mean_squared_error: 43.2956 - val_loss: 3278.5610 - val_root_mean_squared_error: 57.2587\n",
      "Epoch 29/50\n",
      "\u001b[1m75/75\u001b[0m \u001b[32m━━━━━━━━━━━━━━━━━━━━\u001b[0m\u001b[37m\u001b[0m \u001b[1m0s\u001b[0m 3ms/step - loss: 2005.2385 - root_mean_squared_error: 44.7118 - val_loss: 4780.7100 - val_root_mean_squared_error: 69.1427\n",
      "Epoch 30/50\n",
      "\u001b[1m75/75\u001b[0m \u001b[32m━━━━━━━━━━━━━━━━━━━━\u001b[0m\u001b[37m\u001b[0m \u001b[1m0s\u001b[0m 3ms/step - loss: 1861.2360 - root_mean_squared_error: 43.0322 - val_loss: 3807.4563 - val_root_mean_squared_error: 61.7046\n",
      "Epoch 31/50\n",
      "\u001b[1m75/75\u001b[0m \u001b[32m━━━━━━━━━━━━━━━━━━━━\u001b[0m\u001b[37m\u001b[0m \u001b[1m0s\u001b[0m 3ms/step - loss: 2014.3293 - root_mean_squared_error: 44.8377 - val_loss: 4010.0537 - val_root_mean_squared_error: 63.3250\n",
      "Epoch 32/50\n",
      "\u001b[1m75/75\u001b[0m \u001b[32m━━━━━━━━━━━━━━━━━━━━\u001b[0m\u001b[37m\u001b[0m \u001b[1m0s\u001b[0m 3ms/step - loss: 1615.4399 - root_mean_squared_error: 40.1263 - val_loss: 3740.6296 - val_root_mean_squared_error: 61.1607\n",
      "Epoch 33/50\n",
      "\u001b[1m75/75\u001b[0m \u001b[32m━━━━━━━━━━━━━━━━━━━━\u001b[0m\u001b[37m\u001b[0m \u001b[1m0s\u001b[0m 3ms/step - loss: 1996.8042 - root_mean_squared_error: 44.6740 - val_loss: 3658.3462 - val_root_mean_squared_error: 60.4843\n",
      "Epoch 34/50\n",
      "\u001b[1m75/75\u001b[0m \u001b[32m━━━━━━━━━━━━━━━━━━━━\u001b[0m\u001b[37m\u001b[0m \u001b[1m0s\u001b[0m 3ms/step - loss: 1849.7111 - root_mean_squared_error: 42.9403 - val_loss: 4474.5483 - val_root_mean_squared_error: 66.8921\n",
      "Epoch 35/50\n",
      "\u001b[1m75/75\u001b[0m \u001b[32m━━━━━━━━━━━━━━━━━━━━\u001b[0m\u001b[37m\u001b[0m \u001b[1m0s\u001b[0m 3ms/step - loss: 2027.7745 - root_mean_squared_error: 44.9892 - val_loss: 4359.2148 - val_root_mean_squared_error: 66.0244\n",
      "Epoch 36/50\n",
      "\u001b[1m75/75\u001b[0m \u001b[32m━━━━━━━━━━━━━━━━━━━━\u001b[0m\u001b[37m\u001b[0m \u001b[1m0s\u001b[0m 3ms/step - loss: 2057.8154 - root_mean_squared_error: 45.3277 - val_loss: 4542.5469 - val_root_mean_squared_error: 67.3984\n",
      "Epoch 37/50\n",
      "\u001b[1m75/75\u001b[0m \u001b[32m━━━━━━━━━━━━━━━━━━━━\u001b[0m\u001b[37m\u001b[0m \u001b[1m0s\u001b[0m 3ms/step - loss: 2191.4080 - root_mean_squared_error: 46.6108 - val_loss: 4086.3535 - val_root_mean_squared_error: 63.9246\n",
      "Epoch 38/50\n",
      "\u001b[1m75/75\u001b[0m \u001b[32m━━━━━━━━━━━━━━━━━━━━\u001b[0m\u001b[37m\u001b[0m \u001b[1m0s\u001b[0m 3ms/step - loss: 1857.4216 - root_mean_squared_error: 43.0736 - val_loss: 4626.6567 - val_root_mean_squared_error: 68.0195\n",
      "Epoch 39/50\n",
      "\u001b[1m75/75\u001b[0m \u001b[32m━━━━━━━━━━━━━━━━━━━━\u001b[0m\u001b[37m\u001b[0m \u001b[1m0s\u001b[0m 3ms/step - loss: 2244.5439 - root_mean_squared_error: 47.2849 - val_loss: 4493.8921 - val_root_mean_squared_error: 67.0365\n",
      "Epoch 40/50\n",
      "\u001b[1m75/75\u001b[0m \u001b[32m━━━━━━━━━━━━━━━━━━━━\u001b[0m\u001b[37m\u001b[0m \u001b[1m0s\u001b[0m 3ms/step - loss: 1967.0186 - root_mean_squared_error: 44.3103 - val_loss: 5009.8359 - val_root_mean_squared_error: 70.7802\n",
      "Epoch 41/50\n",
      "\u001b[1m75/75\u001b[0m \u001b[32m━━━━━━━━━━━━━━━━━━━━\u001b[0m\u001b[37m\u001b[0m \u001b[1m0s\u001b[0m 3ms/step - loss: 1936.7878 - root_mean_squared_error: 43.9479 - val_loss: 3698.4011 - val_root_mean_squared_error: 60.8145\n",
      "Epoch 42/50\n",
      "\u001b[1m75/75\u001b[0m \u001b[32m━━━━━━━━━━━━━━━━━━━━\u001b[0m\u001b[37m\u001b[0m \u001b[1m0s\u001b[0m 3ms/step - loss: 1865.8643 - root_mean_squared_error: 43.1102 - val_loss: 4242.5420 - val_root_mean_squared_error: 65.1348\n",
      "Epoch 43/50\n",
      "\u001b[1m75/75\u001b[0m \u001b[32m━━━━━━━━━━━━━━━━━━━━\u001b[0m\u001b[37m\u001b[0m \u001b[1m0s\u001b[0m 3ms/step - loss: 1904.4138 - root_mean_squared_error: 43.5355 - val_loss: 3477.3240 - val_root_mean_squared_error: 58.9688\n",
      "Epoch 44/50\n",
      "\u001b[1m75/75\u001b[0m \u001b[32m━━━━━━━━━━━━━━━━━━━━\u001b[0m\u001b[37m\u001b[0m \u001b[1m0s\u001b[0m 3ms/step - loss: 1916.1534 - root_mean_squared_error: 43.7379 - val_loss: 5126.7720 - val_root_mean_squared_error: 71.6015\n",
      "Epoch 45/50\n",
      "\u001b[1m75/75\u001b[0m \u001b[32m━━━━━━━━━━━━━━━━━━━━\u001b[0m\u001b[37m\u001b[0m \u001b[1m0s\u001b[0m 3ms/step - loss: 1944.0594 - root_mean_squared_error: 44.0719 - val_loss: 4770.5938 - val_root_mean_squared_error: 69.0695\n",
      "Epoch 46/50\n",
      "\u001b[1m75/75\u001b[0m \u001b[32m━━━━━━━━━━━━━━━━━━━━\u001b[0m\u001b[37m\u001b[0m \u001b[1m0s\u001b[0m 3ms/step - loss: 1961.9465 - root_mean_squared_error: 44.2839 - val_loss: 4403.3193 - val_root_mean_squared_error: 66.3575\n",
      "Epoch 47/50\n",
      "\u001b[1m75/75\u001b[0m \u001b[32m━━━━━━━━━━━━━━━━━━━━\u001b[0m\u001b[37m\u001b[0m \u001b[1m0s\u001b[0m 3ms/step - loss: 1813.6482 - root_mean_squared_error: 42.5633 - val_loss: 4313.2300 - val_root_mean_squared_error: 65.6752\n",
      "Epoch 48/50\n",
      "\u001b[1m75/75\u001b[0m \u001b[32m━━━━━━━━━━━━━━━━━━━━\u001b[0m\u001b[37m\u001b[0m \u001b[1m0s\u001b[0m 3ms/step - loss: 1937.3174 - root_mean_squared_error: 43.9830 - val_loss: 4647.2754 - val_root_mean_squared_error: 68.1709\n",
      "Epoch 49/50\n",
      "\u001b[1m75/75\u001b[0m \u001b[32m━━━━━━━━━━━━━━━━━━━━\u001b[0m\u001b[37m\u001b[0m \u001b[1m0s\u001b[0m 3ms/step - loss: 1819.8438 - root_mean_squared_error: 42.5619 - val_loss: 5077.1899 - val_root_mean_squared_error: 71.2544\n",
      "Epoch 50/50\n",
      "\u001b[1m75/75\u001b[0m \u001b[32m━━━━━━━━━━━━━━━━━━━━\u001b[0m\u001b[37m\u001b[0m \u001b[1m0s\u001b[0m 3ms/step - loss: 1708.3243 - root_mean_squared_error: 41.1884 - val_loss: 5033.2329 - val_root_mean_squared_error: 70.9453\n"
     ]
    },
    {
     "data": {
      "text/plain": [
       "<keras.src.callbacks.history.History at 0x7969091dcd30>"
      ]
     },
     "execution_count": 48,
     "metadata": {},
     "output_type": "execute_result"
    }
   ],
   "source": [
    "model8 = Sequential()\n",
    "model8.add(InputLayer((6, 6)))  # 6 timestamps, 6 features\n",
    "model8.add(Conv1D(32, kernel_size=2, activation='relu'))  # 1D Convolutional Layer\n",
    "model8.add(MaxPooling1D(pool_size=2))  # Max Pooling\n",
    "model8.add(LSTM(64, activation='relu', return_sequences=False))  \n",
    "model8.add(Dropout(0.3))  \n",
    "model8.add(Dense(32, activation='relu'))  \n",
    "model8.add(Dense(1, activation='linear'))  \n",
    "\n",
    "cp8 = ModelCheckpoint('/kaggle/working/model8.keras', save_best_only=True)\n",
    "\n",
    "model8.compile(loss=MeanSquaredError(), optimizer=Adam(learning_rate=0.001), \n",
    "               metrics=[RootMeanSquaredError()])\n",
    "\n",
    "model8.fit(X_train1, y_train1, validation_data=(X_val1, y_val1), epochs=50, \n",
    "           callbacks=[cp8])"
   ]
  },
  {
   "cell_type": "code",
   "execution_count": 49,
   "id": "d566cdae",
   "metadata": {
    "execution": {
     "iopub.execute_input": "2025-01-27T21:22:15.087827Z",
     "iopub.status.busy": "2025-01-27T21:22:15.087477Z",
     "iopub.status.idle": "2025-01-27T21:22:15.214361Z",
     "shell.execute_reply": "2025-01-27T21:22:15.213568Z"
    },
    "papermill": {
     "duration": 0.241712,
     "end_time": "2025-01-27T21:22:15.216169",
     "exception": false,
     "start_time": "2025-01-27T21:22:14.974457",
     "status": "completed"
    },
    "tags": []
   },
   "outputs": [],
   "source": [
    "from tensorflow.keras.models import load_model\n",
    "model8 = load_model('/kaggle/working/model8.keras')"
   ]
  },
  {
   "cell_type": "code",
   "execution_count": 50,
   "id": "825e45d7",
   "metadata": {
    "execution": {
     "iopub.execute_input": "2025-01-27T21:22:15.441914Z",
     "iopub.status.busy": "2025-01-27T21:22:15.441533Z",
     "iopub.status.idle": "2025-01-27T21:22:15.965030Z",
     "shell.execute_reply": "2025-01-27T21:22:15.964098Z"
    },
    "papermill": {
     "duration": 0.638047,
     "end_time": "2025-01-27T21:22:15.966701",
     "exception": false,
     "start_time": "2025-01-27T21:22:15.328654",
     "status": "completed"
    },
    "tags": []
   },
   "outputs": [
    {
     "name": "stdout",
     "output_type": "stream",
     "text": [
      "\u001b[1m75/75\u001b[0m \u001b[32m━━━━━━━━━━━━━━━━━━━━\u001b[0m\u001b[37m\u001b[0m \u001b[1m0s\u001b[0m 4ms/step\n",
      "Evaluation Metrics:\n",
      "Mean Absolute Error (MAE): 26.5771\n",
      "Mean Squared Error (MSE): 1979.2702\n",
      "Root Mean Squared Error (RMSE): 44.4890\n",
      "R-squared (Accuracy): 0.5303\n"
     ]
    }
   ],
   "source": [
    "# Evaluate the model on the train data\n",
    "train_result = model8.predict(X_train1)\n",
    "\n",
    "# Calculate metrics\n",
    "mse = mean_squared_error(y_train1, train_result)\n",
    "rmse = np.sqrt(mse)\n",
    "mae = mean_absolute_error(y_train1, train_result)\n",
    "r2 = r2_score(y_train1, train_result)\n",
    "\n",
    "# Print the results\n",
    "print(\"Evaluation Metrics:\")\n",
    "print(f\"Mean Absolute Error (MAE): {mae:.4f}\")\n",
    "print(f\"Mean Squared Error (MSE): {mse:.4f}\")\n",
    "print(f\"Root Mean Squared Error (RMSE): {rmse:.4f}\")\n",
    "print(f\"R-squared (Accuracy): {r2:.4f}\")"
   ]
  },
  {
   "cell_type": "code",
   "execution_count": 51,
   "id": "648778ab",
   "metadata": {
    "execution": {
     "iopub.execute_input": "2025-01-27T21:22:16.196802Z",
     "iopub.status.busy": "2025-01-27T21:22:16.196453Z",
     "iopub.status.idle": "2025-01-27T21:22:16.297783Z",
     "shell.execute_reply": "2025-01-27T21:22:16.296877Z"
    },
    "papermill": {
     "duration": 0.215788,
     "end_time": "2025-01-27T21:22:16.299289",
     "exception": false,
     "start_time": "2025-01-27T21:22:16.083501",
     "status": "completed"
    },
    "tags": []
   },
   "outputs": [
    {
     "name": "stdout",
     "output_type": "stream",
     "text": [
      "\u001b[1m15/15\u001b[0m \u001b[32m━━━━━━━━━━━━━━━━━━━━\u001b[0m\u001b[37m\u001b[0m \u001b[1m0s\u001b[0m 2ms/step \n",
      "Evaluation Metrics:\n",
      "Mean Absolute Error (MAE): 33.1930\n",
      "Mean Squared Error (MSE): 2010.7890\n",
      "Root Mean Squared Error (RMSE): 44.8418\n",
      "R-squared (Accuracy): 0.7383\n"
     ]
    }
   ],
   "source": [
    "# Evaluate the model on the validation data\n",
    "val_result = model8.predict(X_val1)\n",
    "\n",
    "# Calculate metrics\n",
    "mse = mean_squared_error(y_val1, val_result)\n",
    "rmse = np.sqrt(mse)\n",
    "mae = mean_absolute_error(y_val1, val_result)\n",
    "r2 = r2_score(y_val1, val_result)\n",
    "\n",
    "# Print the results\n",
    "print(\"Evaluation Metrics:\")\n",
    "print(f\"Mean Absolute Error (MAE): {mae:.4f}\")\n",
    "print(f\"Mean Squared Error (MSE): {mse:.4f}\")\n",
    "print(f\"Root Mean Squared Error (RMSE): {rmse:.4f}\")\n",
    "print(f\"R-squared (Accuracy): {r2:.4f}\")"
   ]
  },
  {
   "cell_type": "code",
   "execution_count": 52,
   "id": "85f519ae",
   "metadata": {
    "execution": {
     "iopub.execute_input": "2025-01-27T21:22:16.582623Z",
     "iopub.status.busy": "2025-01-27T21:22:16.582224Z",
     "iopub.status.idle": "2025-01-27T21:22:16.670810Z",
     "shell.execute_reply": "2025-01-27T21:22:16.669386Z"
    },
    "papermill": {
     "duration": 0.259958,
     "end_time": "2025-01-27T21:22:16.672587",
     "exception": false,
     "start_time": "2025-01-27T21:22:16.412629",
     "status": "completed"
    },
    "tags": []
   },
   "outputs": [
    {
     "name": "stdout",
     "output_type": "stream",
     "text": [
      "\u001b[1m10/10\u001b[0m \u001b[32m━━━━━━━━━━━━━━━━━━━━\u001b[0m\u001b[37m\u001b[0m \u001b[1m0s\u001b[0m 2ms/step \n",
      "Evaluation Metrics:\n",
      "Mean Absolute Error (MAE): 25.9089\n",
      "Mean Squared Error (MSE): 1379.5118\n",
      "Root Mean Squared Error (RMSE): 37.1418\n",
      "R-squared (Accuracy): 0.5825\n"
     ]
    }
   ],
   "source": [
    "# Evaluate the model on the test data\n",
    "test_result = model8.predict(X_test1)\n",
    "\n",
    "# Calculate metrics\n",
    "mse = mean_squared_error(y_test1, test_result)\n",
    "rmse = np.sqrt(mse)\n",
    "mae = mean_absolute_error(y_test1, test_result)\n",
    "r2 = r2_score(y_test1, test_result)\n",
    "\n",
    "# Print the results\n",
    "print(\"Evaluation Metrics:\")\n",
    "print(f\"Mean Absolute Error (MAE): {mae:.4f}\")\n",
    "print(f\"Mean Squared Error (MSE): {mse:.4f}\")\n",
    "print(f\"Root Mean Squared Error (RMSE): {rmse:.4f}\")\n",
    "print(f\"R-squared (Accuracy): {r2:.4f}\")"
   ]
  },
  {
   "cell_type": "code",
   "execution_count": null,
   "id": "7d34c82e",
   "metadata": {
    "papermill": {
     "duration": 0.111366,
     "end_time": "2025-01-27T21:22:16.901798",
     "exception": false,
     "start_time": "2025-01-27T21:22:16.790432",
     "status": "completed"
    },
    "tags": []
   },
   "outputs": [],
   "source": []
  },
  {
   "cell_type": "markdown",
   "id": "b76297c8",
   "metadata": {
    "papermill": {
     "duration": 0.112038,
     "end_time": "2025-01-27T21:22:17.126198",
     "exception": false,
     "start_time": "2025-01-27T21:22:17.014160",
     "status": "completed"
    },
    "tags": []
   },
   "source": [
    "# **Advanced Stacked GRU + Dense**"
   ]
  },
  {
   "cell_type": "code",
   "execution_count": 53,
   "id": "2cb46b10",
   "metadata": {
    "execution": {
     "iopub.execute_input": "2025-01-27T21:22:17.352161Z",
     "iopub.status.busy": "2025-01-27T21:22:17.351805Z",
     "iopub.status.idle": "2025-01-27T21:23:03.018891Z",
     "shell.execute_reply": "2025-01-27T21:23:03.017880Z"
    },
    "papermill": {
     "duration": 45.78172,
     "end_time": "2025-01-27T21:23:03.020469",
     "exception": false,
     "start_time": "2025-01-27T21:22:17.238749",
     "status": "completed"
    },
    "tags": []
   },
   "outputs": [
    {
     "name": "stdout",
     "output_type": "stream",
     "text": [
      "Epoch 1/50\n",
      "\u001b[1m75/75\u001b[0m \u001b[32m━━━━━━━━━━━━━━━━━━━━\u001b[0m\u001b[37m\u001b[0m \u001b[1m5s\u001b[0m 17ms/step - loss: 25233.8750 - root_mean_squared_error: 158.2555 - val_loss: 24539.7871 - val_root_mean_squared_error: 156.6518\n",
      "Epoch 2/50\n",
      "\u001b[1m75/75\u001b[0m \u001b[32m━━━━━━━━━━━━━━━━━━━━\u001b[0m\u001b[37m\u001b[0m \u001b[1m1s\u001b[0m 11ms/step - loss: 2954.8003 - root_mean_squared_error: 54.3181 - val_loss: 1871.4421 - val_root_mean_squared_error: 43.2602\n",
      "Epoch 3/50\n",
      "\u001b[1m75/75\u001b[0m \u001b[32m━━━━━━━━━━━━━━━━━━━━\u001b[0m\u001b[37m\u001b[0m \u001b[1m1s\u001b[0m 11ms/step - loss: 2405.2710 - root_mean_squared_error: 49.0065 - val_loss: 1831.3280 - val_root_mean_squared_error: 42.7940\n",
      "Epoch 4/50\n",
      "\u001b[1m75/75\u001b[0m \u001b[32m━━━━━━━━━━━━━━━━━━━━\u001b[0m\u001b[37m\u001b[0m \u001b[1m1s\u001b[0m 11ms/step - loss: 1930.9281 - root_mean_squared_error: 43.8088 - val_loss: 1663.8051 - val_root_mean_squared_error: 40.7898\n",
      "Epoch 5/50\n",
      "\u001b[1m75/75\u001b[0m \u001b[32m━━━━━━━━━━━━━━━━━━━━\u001b[0m\u001b[37m\u001b[0m \u001b[1m1s\u001b[0m 11ms/step - loss: 1717.5178 - root_mean_squared_error: 41.3977 - val_loss: 1445.9116 - val_root_mean_squared_error: 38.0251\n",
      "Epoch 6/50\n",
      "\u001b[1m75/75\u001b[0m \u001b[32m━━━━━━━━━━━━━━━━━━━━\u001b[0m\u001b[37m\u001b[0m \u001b[1m1s\u001b[0m 11ms/step - loss: 1590.9280 - root_mean_squared_error: 39.7939 - val_loss: 1393.3571 - val_root_mean_squared_error: 37.3277\n",
      "Epoch 7/50\n",
      "\u001b[1m75/75\u001b[0m \u001b[32m━━━━━━━━━━━━━━━━━━━━\u001b[0m\u001b[37m\u001b[0m \u001b[1m1s\u001b[0m 10ms/step - loss: 1507.9871 - root_mean_squared_error: 38.7632 - val_loss: 1455.4435 - val_root_mean_squared_error: 38.1503\n",
      "Epoch 8/50\n",
      "\u001b[1m75/75\u001b[0m \u001b[32m━━━━━━━━━━━━━━━━━━━━\u001b[0m\u001b[37m\u001b[0m \u001b[1m1s\u001b[0m 10ms/step - loss: 1673.9200 - root_mean_squared_error: 40.8373 - val_loss: 1538.5911 - val_root_mean_squared_error: 39.2249\n",
      "Epoch 9/50\n",
      "\u001b[1m75/75\u001b[0m \u001b[32m━━━━━━━━━━━━━━━━━━━━\u001b[0m\u001b[37m\u001b[0m \u001b[1m1s\u001b[0m 10ms/step - loss: 1730.3829 - root_mean_squared_error: 41.4961 - val_loss: 1542.0310 - val_root_mean_squared_error: 39.2687\n",
      "Epoch 10/50\n",
      "\u001b[1m75/75\u001b[0m \u001b[32m━━━━━━━━━━━━━━━━━━━━\u001b[0m\u001b[37m\u001b[0m \u001b[1m1s\u001b[0m 10ms/step - loss: 1534.4575 - root_mean_squared_error: 39.1140 - val_loss: 2007.3439 - val_root_mean_squared_error: 44.8034\n",
      "Epoch 11/50\n",
      "\u001b[1m75/75\u001b[0m \u001b[32m━━━━━━━━━━━━━━━━━━━━\u001b[0m\u001b[37m\u001b[0m \u001b[1m1s\u001b[0m 11ms/step - loss: 1436.0835 - root_mean_squared_error: 37.8165 - val_loss: 1098.0348 - val_root_mean_squared_error: 33.1366\n",
      "Epoch 12/50\n",
      "\u001b[1m75/75\u001b[0m \u001b[32m━━━━━━━━━━━━━━━━━━━━\u001b[0m\u001b[37m\u001b[0m \u001b[1m1s\u001b[0m 10ms/step - loss: 1520.6725 - root_mean_squared_error: 38.9609 - val_loss: 1419.3960 - val_root_mean_squared_error: 37.6749\n",
      "Epoch 13/50\n",
      "\u001b[1m75/75\u001b[0m \u001b[32m━━━━━━━━━━━━━━━━━━━━\u001b[0m\u001b[37m\u001b[0m \u001b[1m1s\u001b[0m 10ms/step - loss: 1208.6051 - root_mean_squared_error: 34.5510 - val_loss: 1665.5913 - val_root_mean_squared_error: 40.8117\n",
      "Epoch 14/50\n",
      "\u001b[1m75/75\u001b[0m \u001b[32m━━━━━━━━━━━━━━━━━━━━\u001b[0m\u001b[37m\u001b[0m \u001b[1m1s\u001b[0m 10ms/step - loss: 1475.8531 - root_mean_squared_error: 38.3688 - val_loss: 1210.6688 - val_root_mean_squared_error: 34.7947\n",
      "Epoch 15/50\n",
      "\u001b[1m75/75\u001b[0m \u001b[32m━━━━━━━━━━━━━━━━━━━━\u001b[0m\u001b[37m\u001b[0m \u001b[1m1s\u001b[0m 10ms/step - loss: 1368.9565 - root_mean_squared_error: 36.9404 - val_loss: 1125.4038 - val_root_mean_squared_error: 33.5470\n",
      "Epoch 16/50\n",
      "\u001b[1m75/75\u001b[0m \u001b[32m━━━━━━━━━━━━━━━━━━━━\u001b[0m\u001b[37m\u001b[0m \u001b[1m1s\u001b[0m 11ms/step - loss: 1452.6768 - root_mean_squared_error: 38.0298 - val_loss: 1058.8313 - val_root_mean_squared_error: 32.5397\n",
      "Epoch 17/50\n",
      "\u001b[1m75/75\u001b[0m \u001b[32m━━━━━━━━━━━━━━━━━━━━\u001b[0m\u001b[37m\u001b[0m \u001b[1m1s\u001b[0m 10ms/step - loss: 1382.3862 - root_mean_squared_error: 37.1496 - val_loss: 1092.9609 - val_root_mean_squared_error: 33.0600\n",
      "Epoch 18/50\n",
      "\u001b[1m75/75\u001b[0m \u001b[32m━━━━━━━━━━━━━━━━━━━━\u001b[0m\u001b[37m\u001b[0m \u001b[1m1s\u001b[0m 11ms/step - loss: 1182.6490 - root_mean_squared_error: 34.3389 - val_loss: 1015.6716 - val_root_mean_squared_error: 31.8696\n",
      "Epoch 19/50\n",
      "\u001b[1m75/75\u001b[0m \u001b[32m━━━━━━━━━━━━━━━━━━━━\u001b[0m\u001b[37m\u001b[0m \u001b[1m1s\u001b[0m 12ms/step - loss: 1320.8738 - root_mean_squared_error: 36.3329 - val_loss: 1890.8738 - val_root_mean_squared_error: 43.4842\n",
      "Epoch 20/50\n",
      "\u001b[1m75/75\u001b[0m \u001b[32m━━━━━━━━━━━━━━━━━━━━\u001b[0m\u001b[37m\u001b[0m \u001b[1m1s\u001b[0m 12ms/step - loss: 1364.4053 - root_mean_squared_error: 36.8772 - val_loss: 1513.1157 - val_root_mean_squared_error: 38.8988\n",
      "Epoch 21/50\n",
      "\u001b[1m75/75\u001b[0m \u001b[32m━━━━━━━━━━━━━━━━━━━━\u001b[0m\u001b[37m\u001b[0m \u001b[1m1s\u001b[0m 11ms/step - loss: 1295.7936 - root_mean_squared_error: 35.9113 - val_loss: 990.3581 - val_root_mean_squared_error: 31.4700\n",
      "Epoch 22/50\n",
      "\u001b[1m75/75\u001b[0m \u001b[32m━━━━━━━━━━━━━━━━━━━━\u001b[0m\u001b[37m\u001b[0m \u001b[1m1s\u001b[0m 11ms/step - loss: 1197.3303 - root_mean_squared_error: 34.5070 - val_loss: 1034.0703 - val_root_mean_squared_error: 32.1570\n",
      "Epoch 23/50\n",
      "\u001b[1m75/75\u001b[0m \u001b[32m━━━━━━━━━━━━━━━━━━━━\u001b[0m\u001b[37m\u001b[0m \u001b[1m1s\u001b[0m 11ms/step - loss: 1408.9126 - root_mean_squared_error: 37.4265 - val_loss: 1064.2520 - val_root_mean_squared_error: 32.6229\n",
      "Epoch 24/50\n",
      "\u001b[1m75/75\u001b[0m \u001b[32m━━━━━━━━━━━━━━━━━━━━\u001b[0m\u001b[37m\u001b[0m \u001b[1m1s\u001b[0m 10ms/step - loss: 1174.3805 - root_mean_squared_error: 34.1989 - val_loss: 1448.2560 - val_root_mean_squared_error: 38.0560\n",
      "Epoch 25/50\n",
      "\u001b[1m75/75\u001b[0m \u001b[32m━━━━━━━━━━━━━━━━━━━━\u001b[0m\u001b[37m\u001b[0m \u001b[1m1s\u001b[0m 11ms/step - loss: 1183.8037 - root_mean_squared_error: 34.3695 - val_loss: 994.9754 - val_root_mean_squared_error: 31.5432\n",
      "Epoch 26/50\n",
      "\u001b[1m75/75\u001b[0m \u001b[32m━━━━━━━━━━━━━━━━━━━━\u001b[0m\u001b[37m\u001b[0m \u001b[1m1s\u001b[0m 11ms/step - loss: 1112.4794 - root_mean_squared_error: 33.3316 - val_loss: 1242.9829 - val_root_mean_squared_error: 35.2560\n",
      "Epoch 27/50\n",
      "\u001b[1m75/75\u001b[0m \u001b[32m━━━━━━━━━━━━━━━━━━━━\u001b[0m\u001b[37m\u001b[0m \u001b[1m1s\u001b[0m 10ms/step - loss: 1138.9260 - root_mean_squared_error: 33.7172 - val_loss: 1002.3321 - val_root_mean_squared_error: 31.6596\n",
      "Epoch 28/50\n",
      "\u001b[1m75/75\u001b[0m \u001b[32m━━━━━━━━━━━━━━━━━━━━\u001b[0m\u001b[37m\u001b[0m \u001b[1m1s\u001b[0m 10ms/step - loss: 1257.4915 - root_mean_squared_error: 35.3936 - val_loss: 1053.2533 - val_root_mean_squared_error: 32.4539\n",
      "Epoch 29/50\n",
      "\u001b[1m75/75\u001b[0m \u001b[32m━━━━━━━━━━━━━━━━━━━━\u001b[0m\u001b[37m\u001b[0m \u001b[1m1s\u001b[0m 11ms/step - loss: 1185.7505 - root_mean_squared_error: 34.3892 - val_loss: 988.4019 - val_root_mean_squared_error: 31.4389\n",
      "Epoch 30/50\n",
      "\u001b[1m75/75\u001b[0m \u001b[32m━━━━━━━━━━━━━━━━━━━━\u001b[0m\u001b[37m\u001b[0m \u001b[1m1s\u001b[0m 11ms/step - loss: 1273.9908 - root_mean_squared_error: 35.6203 - val_loss: 1000.2776 - val_root_mean_squared_error: 31.6272\n",
      "Epoch 31/50\n",
      "\u001b[1m75/75\u001b[0m \u001b[32m━━━━━━━━━━━━━━━━━━━━\u001b[0m\u001b[37m\u001b[0m \u001b[1m1s\u001b[0m 11ms/step - loss: 1202.9379 - root_mean_squared_error: 34.6057 - val_loss: 1066.8306 - val_root_mean_squared_error: 32.6624\n",
      "Epoch 32/50\n",
      "\u001b[1m75/75\u001b[0m \u001b[32m━━━━━━━━━━━━━━━━━━━━\u001b[0m\u001b[37m\u001b[0m \u001b[1m1s\u001b[0m 10ms/step - loss: 1193.7664 - root_mean_squared_error: 34.4940 - val_loss: 1090.8834 - val_root_mean_squared_error: 33.0285\n",
      "Epoch 33/50\n",
      "\u001b[1m75/75\u001b[0m \u001b[32m━━━━━━━━━━━━━━━━━━━━\u001b[0m\u001b[37m\u001b[0m \u001b[1m1s\u001b[0m 10ms/step - loss: 1192.7510 - root_mean_squared_error: 34.4559 - val_loss: 998.6395 - val_root_mean_squared_error: 31.6013\n",
      "Epoch 34/50\n",
      "\u001b[1m75/75\u001b[0m \u001b[32m━━━━━━━━━━━━━━━━━━━━\u001b[0m\u001b[37m\u001b[0m \u001b[1m1s\u001b[0m 10ms/step - loss: 1304.5404 - root_mean_squared_error: 36.0830 - val_loss: 1059.1687 - val_root_mean_squared_error: 32.5449\n",
      "Epoch 35/50\n",
      "\u001b[1m75/75\u001b[0m \u001b[32m━━━━━━━━━━━━━━━━━━━━\u001b[0m\u001b[37m\u001b[0m \u001b[1m1s\u001b[0m 11ms/step - loss: 1195.4304 - root_mean_squared_error: 34.4858 - val_loss: 1001.3332 - val_root_mean_squared_error: 31.6438\n",
      "Epoch 36/50\n",
      "\u001b[1m75/75\u001b[0m \u001b[32m━━━━━━━━━━━━━━━━━━━━\u001b[0m\u001b[37m\u001b[0m \u001b[1m1s\u001b[0m 11ms/step - loss: 1118.8433 - root_mean_squared_error: 33.3935 - val_loss: 970.8028 - val_root_mean_squared_error: 31.1577\n",
      "Epoch 37/50\n",
      "\u001b[1m75/75\u001b[0m \u001b[32m━━━━━━━━━━━━━━━━━━━━\u001b[0m\u001b[37m\u001b[0m \u001b[1m1s\u001b[0m 10ms/step - loss: 1231.0010 - root_mean_squared_error: 34.9582 - val_loss: 1108.4249 - val_root_mean_squared_error: 33.2930\n",
      "Epoch 38/50\n",
      "\u001b[1m75/75\u001b[0m \u001b[32m━━━━━━━━━━━━━━━━━━━━\u001b[0m\u001b[37m\u001b[0m \u001b[1m1s\u001b[0m 10ms/step - loss: 1332.8718 - root_mean_squared_error: 36.4637 - val_loss: 996.3993 - val_root_mean_squared_error: 31.5658\n",
      "Epoch 39/50\n",
      "\u001b[1m75/75\u001b[0m \u001b[32m━━━━━━━━━━━━━━━━━━━━\u001b[0m\u001b[37m\u001b[0m \u001b[1m1s\u001b[0m 11ms/step - loss: 980.6337 - root_mean_squared_error: 31.2513 - val_loss: 1184.9471 - val_root_mean_squared_error: 34.4231\n",
      "Epoch 40/50\n",
      "\u001b[1m75/75\u001b[0m \u001b[32m━━━━━━━━━━━━━━━━━━━━\u001b[0m\u001b[37m\u001b[0m \u001b[1m1s\u001b[0m 10ms/step - loss: 1233.0358 - root_mean_squared_error: 35.0959 - val_loss: 1076.3781 - val_root_mean_squared_error: 32.8082\n",
      "Epoch 41/50\n",
      "\u001b[1m75/75\u001b[0m \u001b[32m━━━━━━━━━━━━━━━━━━━━\u001b[0m\u001b[37m\u001b[0m \u001b[1m1s\u001b[0m 10ms/step - loss: 1004.4279 - root_mean_squared_error: 31.6566 - val_loss: 1143.1746 - val_root_mean_squared_error: 33.8109\n",
      "Epoch 42/50\n",
      "\u001b[1m75/75\u001b[0m \u001b[32m━━━━━━━━━━━━━━━━━━━━\u001b[0m\u001b[37m\u001b[0m \u001b[1m1s\u001b[0m 10ms/step - loss: 1244.7145 - root_mean_squared_error: 35.2584 - val_loss: 1488.2606 - val_root_mean_squared_error: 38.5780\n",
      "Epoch 43/50\n",
      "\u001b[1m75/75\u001b[0m \u001b[32m━━━━━━━━━━━━━━━━━━━━\u001b[0m\u001b[37m\u001b[0m \u001b[1m1s\u001b[0m 10ms/step - loss: 1188.3678 - root_mean_squared_error: 34.4302 - val_loss: 992.1301 - val_root_mean_squared_error: 31.4981\n",
      "Epoch 44/50\n",
      "\u001b[1m75/75\u001b[0m \u001b[32m━━━━━━━━━━━━━━━━━━━━\u001b[0m\u001b[37m\u001b[0m \u001b[1m1s\u001b[0m 11ms/step - loss: 1144.1537 - root_mean_squared_error: 33.7687 - val_loss: 990.5342 - val_root_mean_squared_error: 31.4728\n",
      "Epoch 45/50\n",
      "\u001b[1m75/75\u001b[0m \u001b[32m━━━━━━━━━━━━━━━━━━━━\u001b[0m\u001b[37m\u001b[0m \u001b[1m1s\u001b[0m 10ms/step - loss: 1153.7635 - root_mean_squared_error: 33.9338 - val_loss: 1001.5535 - val_root_mean_squared_error: 31.6473\n",
      "Epoch 46/50\n",
      "\u001b[1m75/75\u001b[0m \u001b[32m━━━━━━━━━━━━━━━━━━━━\u001b[0m\u001b[37m\u001b[0m \u001b[1m1s\u001b[0m 10ms/step - loss: 1287.6809 - root_mean_squared_error: 35.8595 - val_loss: 998.2694 - val_root_mean_squared_error: 31.5954\n",
      "Epoch 47/50\n",
      "\u001b[1m75/75\u001b[0m \u001b[32m━━━━━━━━━━━━━━━━━━━━\u001b[0m\u001b[37m\u001b[0m \u001b[1m1s\u001b[0m 11ms/step - loss: 1095.9150 - root_mean_squared_error: 33.0638 - val_loss: 1013.4262 - val_root_mean_squared_error: 31.8344\n",
      "Epoch 48/50\n",
      "\u001b[1m75/75\u001b[0m \u001b[32m━━━━━━━━━━━━━━━━━━━━\u001b[0m\u001b[37m\u001b[0m \u001b[1m1s\u001b[0m 11ms/step - loss: 1143.3772 - root_mean_squared_error: 33.7250 - val_loss: 1037.6305 - val_root_mean_squared_error: 32.2123\n",
      "Epoch 49/50\n",
      "\u001b[1m75/75\u001b[0m \u001b[32m━━━━━━━━━━━━━━━━━━━━\u001b[0m\u001b[37m\u001b[0m \u001b[1m1s\u001b[0m 11ms/step - loss: 1106.8274 - root_mean_squared_error: 33.2429 - val_loss: 1209.9358 - val_root_mean_squared_error: 34.7841\n",
      "Epoch 50/50\n",
      "\u001b[1m75/75\u001b[0m \u001b[32m━━━━━━━━━━━━━━━━━━━━\u001b[0m\u001b[37m\u001b[0m \u001b[1m1s\u001b[0m 10ms/step - loss: 1161.0166 - root_mean_squared_error: 34.0292 - val_loss: 1074.0902 - val_root_mean_squared_error: 32.7733\n"
     ]
    },
    {
     "data": {
      "text/plain": [
       "<keras.src.callbacks.history.History at 0x7969094551e0>"
      ]
     },
     "execution_count": 53,
     "metadata": {},
     "output_type": "execute_result"
    }
   ],
   "source": [
    "model9 = Sequential()\n",
    "model9.add(InputLayer((6, 6)))  # 6 timestamps, 6 features\n",
    "model9.add(BatchNormalization())  # Normalize inputs\n",
    "model9.add(GRU(128, activation='relu', return_sequences=True))  # GRU layer\n",
    "model9.add(Dropout(0.3))  # Dropout for regularization\n",
    "model9.add(GRU(64, activation='relu', return_sequences=False))  # Second GRU layer\n",
    "model9.add(Dense(32, activation='relu'))  # Fully connected layer\n",
    "model9.add(Dense(16, activation='relu'))  # Second dense layer\n",
    "model9.add(Dense(1, activation='linear'))  # Output layer\n",
    "\n",
    "cp9 = ModelCheckpoint('/kaggle/working/model9.keras', save_best_only=True)\n",
    "\n",
    "model9.compile(loss=MeanSquaredError(), optimizer=Adam(learning_rate=0.001), \n",
    "               metrics=[RootMeanSquaredError()])\n",
    "\n",
    "model9.fit(X_train1, y_train1, validation_data=(X_val1, y_val1), epochs=50, \n",
    "           callbacks=[cp9])"
   ]
  },
  {
   "cell_type": "code",
   "execution_count": 54,
   "id": "a4af99a4",
   "metadata": {
    "execution": {
     "iopub.execute_input": "2025-01-27T21:23:03.333861Z",
     "iopub.status.busy": "2025-01-27T21:23:03.333531Z",
     "iopub.status.idle": "2025-01-27T21:23:03.513216Z",
     "shell.execute_reply": "2025-01-27T21:23:03.512150Z"
    },
    "papermill": {
     "duration": 0.337852,
     "end_time": "2025-01-27T21:23:03.514997",
     "exception": false,
     "start_time": "2025-01-27T21:23:03.177145",
     "status": "completed"
    },
    "tags": []
   },
   "outputs": [],
   "source": [
    "from tensorflow.keras.models import load_model\n",
    "model9 = load_model('/kaggle/working/model9.keras')"
   ]
  },
  {
   "cell_type": "code",
   "execution_count": 55,
   "id": "2856451a",
   "metadata": {
    "execution": {
     "iopub.execute_input": "2025-01-27T21:23:03.824933Z",
     "iopub.status.busy": "2025-01-27T21:23:03.824574Z",
     "iopub.status.idle": "2025-01-27T21:23:04.794975Z",
     "shell.execute_reply": "2025-01-27T21:23:04.793946Z"
    },
    "papermill": {
     "duration": 1.127551,
     "end_time": "2025-01-27T21:23:04.796716",
     "exception": false,
     "start_time": "2025-01-27T21:23:03.669165",
     "status": "completed"
    },
    "tags": []
   },
   "outputs": [
    {
     "name": "stdout",
     "output_type": "stream",
     "text": [
      "\u001b[1m75/75\u001b[0m \u001b[32m━━━━━━━━━━━━━━━━━━━━\u001b[0m\u001b[37m\u001b[0m \u001b[1m1s\u001b[0m 8ms/step\n",
      "Evaluation Metrics:\n",
      "Mean Absolute Error (MAE): 18.7109\n",
      "Mean Squared Error (MSE): 993.2776\n",
      "Root Mean Squared Error (RMSE): 31.5163\n",
      "R-squared (Accuracy): 0.7643\n"
     ]
    }
   ],
   "source": [
    "# Evaluate the model on the train data\n",
    "train_result = model9.predict(X_train1)\n",
    "\n",
    "# Calculate metrics\n",
    "mse = mean_squared_error(y_train1, train_result)\n",
    "rmse = np.sqrt(mse)\n",
    "mae = mean_absolute_error(y_train1, train_result)\n",
    "r2 = r2_score(y_train1, train_result)\n",
    "\n",
    "# Print the results\n",
    "print(\"Evaluation Metrics:\")\n",
    "print(f\"Mean Absolute Error (MAE): {mae:.4f}\")\n",
    "print(f\"Mean Squared Error (MSE): {mse:.4f}\")\n",
    "print(f\"Root Mean Squared Error (RMSE): {rmse:.4f}\")\n",
    "print(f\"R-squared (Accuracy): {r2:.4f}\")"
   ]
  },
  {
   "cell_type": "code",
   "execution_count": 56,
   "id": "7577ef7c",
   "metadata": {
    "execution": {
     "iopub.execute_input": "2025-01-27T21:23:05.108992Z",
     "iopub.status.busy": "2025-01-27T21:23:05.108671Z",
     "iopub.status.idle": "2025-01-27T21:23:05.231204Z",
     "shell.execute_reply": "2025-01-27T21:23:05.230353Z"
    },
    "papermill": {
     "duration": 0.280999,
     "end_time": "2025-01-27T21:23:05.232843",
     "exception": false,
     "start_time": "2025-01-27T21:23:04.951844",
     "status": "completed"
    },
    "tags": []
   },
   "outputs": [
    {
     "name": "stdout",
     "output_type": "stream",
     "text": [
      "\u001b[1m15/15\u001b[0m \u001b[32m━━━━━━━━━━━━━━━━━━━━\u001b[0m\u001b[37m\u001b[0m \u001b[1m0s\u001b[0m 3ms/step \n",
      "Evaluation Metrics:\n",
      "Mean Absolute Error (MAE): 20.6816\n",
      "Mean Squared Error (MSE): 970.8027\n",
      "Root Mean Squared Error (RMSE): 31.1577\n",
      "R-squared (Accuracy): 0.8736\n"
     ]
    }
   ],
   "source": [
    "# Evaluate the model on the validation data\n",
    "val_result = model9.predict(X_val1)\n",
    "\n",
    "# Calculate metrics\n",
    "mse = mean_squared_error(y_val1, val_result)\n",
    "rmse = np.sqrt(mse)\n",
    "mae = mean_absolute_error(y_val1, val_result)\n",
    "r2 = r2_score(y_val1, val_result)\n",
    "\n",
    "# Print the results\n",
    "print(\"Evaluation Metrics:\")\n",
    "print(f\"Mean Absolute Error (MAE): {mae:.4f}\")\n",
    "print(f\"Mean Squared Error (MSE): {mse:.4f}\")\n",
    "print(f\"Root Mean Squared Error (RMSE): {rmse:.4f}\")\n",
    "print(f\"R-squared (Accuracy): {r2:.4f}\")"
   ]
  },
  {
   "cell_type": "code",
   "execution_count": 57,
   "id": "09c5ed14",
   "metadata": {
    "execution": {
     "iopub.execute_input": "2025-01-27T21:23:05.538676Z",
     "iopub.status.busy": "2025-01-27T21:23:05.538312Z",
     "iopub.status.idle": "2025-01-27T21:23:05.640758Z",
     "shell.execute_reply": "2025-01-27T21:23:05.639729Z"
    },
    "papermill": {
     "duration": 0.256982,
     "end_time": "2025-01-27T21:23:05.642369",
     "exception": false,
     "start_time": "2025-01-27T21:23:05.385387",
     "status": "completed"
    },
    "tags": []
   },
   "outputs": [
    {
     "name": "stdout",
     "output_type": "stream",
     "text": [
      "\u001b[1m10/10\u001b[0m \u001b[32m━━━━━━━━━━━━━━━━━━━━\u001b[0m\u001b[37m\u001b[0m \u001b[1m0s\u001b[0m 3ms/step \n",
      "Evaluation Metrics:\n",
      "Mean Absolute Error (MAE): 21.5538\n",
      "Mean Squared Error (MSE): 1099.8566\n",
      "Root Mean Squared Error (RMSE): 33.1641\n",
      "R-squared (Accuracy): 0.6672\n"
     ]
    }
   ],
   "source": [
    "# Evaluate the model on the test data\n",
    "test_result = model9.predict(X_test1)\n",
    "\n",
    "# Calculate metrics\n",
    "mse = mean_squared_error(y_test1, test_result)\n",
    "rmse = np.sqrt(mse)\n",
    "mae = mean_absolute_error(y_test1, test_result)\n",
    "r2 = r2_score(y_test1, test_result)\n",
    "\n",
    "# Print the results\n",
    "print(\"Evaluation Metrics:\")\n",
    "print(f\"Mean Absolute Error (MAE): {mae:.4f}\")\n",
    "print(f\"Mean Squared Error (MSE): {mse:.4f}\")\n",
    "print(f\"Root Mean Squared Error (RMSE): {rmse:.4f}\")\n",
    "print(f\"R-squared (Accuracy): {r2:.4f}\")"
   ]
  },
  {
   "cell_type": "code",
   "execution_count": 58,
   "id": "2a041b00",
   "metadata": {
    "execution": {
     "iopub.execute_input": "2025-01-27T21:23:06.005138Z",
     "iopub.status.busy": "2025-01-27T21:23:06.004807Z",
     "iopub.status.idle": "2025-01-27T21:23:06.332199Z",
     "shell.execute_reply": "2025-01-27T21:23:06.331252Z"
    },
    "papermill": {
     "duration": 0.536205,
     "end_time": "2025-01-27T21:23:06.333810",
     "exception": false,
     "start_time": "2025-01-27T21:23:05.797605",
     "status": "completed"
    },
    "tags": []
   },
   "outputs": [
    {
     "name": "stdout",
     "output_type": "stream",
     "text": [
      "\u001b[1m75/75\u001b[0m \u001b[32m━━━━━━━━━━━━━━━━━━━━\u001b[0m\u001b[37m\u001b[0m \u001b[1m0s\u001b[0m 3ms/step\n"
     ]
    },
    {
     "data": {
      "text/html": [
       "<div>\n",
       "<style scoped>\n",
       "    .dataframe tbody tr th:only-of-type {\n",
       "        vertical-align: middle;\n",
       "    }\n",
       "\n",
       "    .dataframe tbody tr th {\n",
       "        vertical-align: top;\n",
       "    }\n",
       "\n",
       "    .dataframe thead th {\n",
       "        text-align: right;\n",
       "    }\n",
       "</style>\n",
       "<table border=\"1\" class=\"dataframe\">\n",
       "  <thead>\n",
       "    <tr style=\"text-align: right;\">\n",
       "      <th></th>\n",
       "      <th>Train Predictions</th>\n",
       "      <th>Actuals</th>\n",
       "    </tr>\n",
       "  </thead>\n",
       "  <tbody>\n",
       "    <tr>\n",
       "      <th>0</th>\n",
       "      <td>215.843445</td>\n",
       "      <td>195.0</td>\n",
       "    </tr>\n",
       "    <tr>\n",
       "      <th>1</th>\n",
       "      <td>200.745193</td>\n",
       "      <td>185.0</td>\n",
       "    </tr>\n",
       "    <tr>\n",
       "      <th>2</th>\n",
       "      <td>203.616074</td>\n",
       "      <td>208.0</td>\n",
       "    </tr>\n",
       "    <tr>\n",
       "      <th>3</th>\n",
       "      <td>235.489944</td>\n",
       "      <td>290.0</td>\n",
       "    </tr>\n",
       "    <tr>\n",
       "      <th>4</th>\n",
       "      <td>271.713013</td>\n",
       "      <td>267.0</td>\n",
       "    </tr>\n",
       "    <tr>\n",
       "      <th>...</th>\n",
       "      <td>...</td>\n",
       "      <td>...</td>\n",
       "    </tr>\n",
       "    <tr>\n",
       "      <th>2388</th>\n",
       "      <td>93.967934</td>\n",
       "      <td>54.0</td>\n",
       "    </tr>\n",
       "    <tr>\n",
       "      <th>2389</th>\n",
       "      <td>87.488152</td>\n",
       "      <td>85.0</td>\n",
       "    </tr>\n",
       "    <tr>\n",
       "      <th>2390</th>\n",
       "      <td>90.636436</td>\n",
       "      <td>97.0</td>\n",
       "    </tr>\n",
       "    <tr>\n",
       "      <th>2391</th>\n",
       "      <td>98.586296</td>\n",
       "      <td>74.0</td>\n",
       "    </tr>\n",
       "    <tr>\n",
       "      <th>2392</th>\n",
       "      <td>83.309074</td>\n",
       "      <td>87.0</td>\n",
       "    </tr>\n",
       "  </tbody>\n",
       "</table>\n",
       "<p>2393 rows × 2 columns</p>\n",
       "</div>"
      ],
      "text/plain": [
       "      Train Predictions  Actuals\n",
       "0            215.843445    195.0\n",
       "1            200.745193    185.0\n",
       "2            203.616074    208.0\n",
       "3            235.489944    290.0\n",
       "4            271.713013    267.0\n",
       "...                 ...      ...\n",
       "2388          93.967934     54.0\n",
       "2389          87.488152     85.0\n",
       "2390          90.636436     97.0\n",
       "2391          98.586296     74.0\n",
       "2392          83.309074     87.0\n",
       "\n",
       "[2393 rows x 2 columns]"
      ]
     },
     "execution_count": 58,
     "metadata": {},
     "output_type": "execute_result"
    }
   ],
   "source": [
    "train_predictions = model9.predict(X_train1).flatten()\n",
    "train_results = pd.DataFrame(data={'Train Predictions':train_predictions, 'Actuals':y_train1})\n",
    "train_results"
   ]
  },
  {
   "cell_type": "code",
   "execution_count": 59,
   "id": "ee3c2964",
   "metadata": {
    "execution": {
     "iopub.execute_input": "2025-01-27T21:23:06.642698Z",
     "iopub.status.busy": "2025-01-27T21:23:06.642330Z",
     "iopub.status.idle": "2025-01-27T21:23:06.805317Z",
     "shell.execute_reply": "2025-01-27T21:23:06.804355Z"
    },
    "papermill": {
     "duration": 0.318564,
     "end_time": "2025-01-27T21:23:06.807033",
     "exception": false,
     "start_time": "2025-01-27T21:23:06.488469",
     "status": "completed"
    },
    "tags": []
   },
   "outputs": [
    {
     "data": {
      "image/png": "[encoded data removed]",
      "text/plain": [
       "<Figure size 640x480 with 1 Axes>"
      ]
     },
     "metadata": {},
     "output_type": "display_data"
    }
   ],
   "source": [
    "plt.plot(train_results['Actuals'][1:50], label='Actual')\n",
    "plt.plot(train_results['Train Predictions'][1:50], label='Predicted')\n",
    "plt.legend()\n",
    "plt.show()"
   ]
  },
  {
   "cell_type": "code",
   "execution_count": 60,
   "id": "f66092c9",
   "metadata": {
    "execution": {
     "iopub.execute_input": "2025-01-27T21:23:07.125609Z",
     "iopub.status.busy": "2025-01-27T21:23:07.125204Z",
     "iopub.status.idle": "2025-01-27T21:23:07.250896Z",
     "shell.execute_reply": "2025-01-27T21:23:07.250020Z"
    },
    "papermill": {
     "duration": 0.285767,
     "end_time": "2025-01-27T21:23:07.252530",
     "exception": false,
     "start_time": "2025-01-27T21:23:06.966763",
     "status": "completed"
    },
    "tags": []
   },
   "outputs": [
    {
     "name": "stdout",
     "output_type": "stream",
     "text": [
      "\u001b[1m15/15\u001b[0m \u001b[32m━━━━━━━━━━━━━━━━━━━━\u001b[0m\u001b[37m\u001b[0m \u001b[1m0s\u001b[0m 3ms/step \n"
     ]
    },
    {
     "data": {
      "text/html": [
       "<div>\n",
       "<style scoped>\n",
       "    .dataframe tbody tr th:only-of-type {\n",
       "        vertical-align: middle;\n",
       "    }\n",
       "\n",
       "    .dataframe tbody tr th {\n",
       "        vertical-align: top;\n",
       "    }\n",
       "\n",
       "    .dataframe thead th {\n",
       "        text-align: right;\n",
       "    }\n",
       "</style>\n",
       "<table border=\"1\" class=\"dataframe\">\n",
       "  <thead>\n",
       "    <tr style=\"text-align: right;\">\n",
       "      <th></th>\n",
       "      <th>Train Predictions</th>\n",
       "      <th>Actuals</th>\n",
       "    </tr>\n",
       "  </thead>\n",
       "  <tbody>\n",
       "    <tr>\n",
       "      <th>0</th>\n",
       "      <td>83.147247</td>\n",
       "      <td>85.0</td>\n",
       "    </tr>\n",
       "    <tr>\n",
       "      <th>1</th>\n",
       "      <td>84.079033</td>\n",
       "      <td>71.0</td>\n",
       "    </tr>\n",
       "    <tr>\n",
       "      <th>2</th>\n",
       "      <td>81.545387</td>\n",
       "      <td>89.0</td>\n",
       "    </tr>\n",
       "    <tr>\n",
       "      <th>3</th>\n",
       "      <td>87.727905</td>\n",
       "      <td>99.0</td>\n",
       "    </tr>\n",
       "    <tr>\n",
       "      <th>4</th>\n",
       "      <td>91.605644</td>\n",
       "      <td>80.0</td>\n",
       "    </tr>\n",
       "    <tr>\n",
       "      <th>...</th>\n",
       "      <td>...</td>\n",
       "      <td>...</td>\n",
       "    </tr>\n",
       "    <tr>\n",
       "      <th>468</th>\n",
       "      <td>182.148727</td>\n",
       "      <td>193.0</td>\n",
       "    </tr>\n",
       "    <tr>\n",
       "      <th>469</th>\n",
       "      <td>220.515808</td>\n",
       "      <td>199.0</td>\n",
       "    </tr>\n",
       "    <tr>\n",
       "      <th>470</th>\n",
       "      <td>199.138901</td>\n",
       "      <td>197.0</td>\n",
       "    </tr>\n",
       "    <tr>\n",
       "      <th>471</th>\n",
       "      <td>201.862579</td>\n",
       "      <td>197.0</td>\n",
       "    </tr>\n",
       "    <tr>\n",
       "      <th>472</th>\n",
       "      <td>190.885193</td>\n",
       "      <td>190.0</td>\n",
       "    </tr>\n",
       "  </tbody>\n",
       "</table>\n",
       "<p>473 rows × 2 columns</p>\n",
       "</div>"
      ],
      "text/plain": [
       "     Train Predictions  Actuals\n",
       "0            83.147247     85.0\n",
       "1            84.079033     71.0\n",
       "2            81.545387     89.0\n",
       "3            87.727905     99.0\n",
       "4            91.605644     80.0\n",
       "..                 ...      ...\n",
       "468         182.148727    193.0\n",
       "469         220.515808    199.0\n",
       "470         199.138901    197.0\n",
       "471         201.862579    197.0\n",
       "472         190.885193    190.0\n",
       "\n",
       "[473 rows x 2 columns]"
      ]
     },
     "execution_count": 60,
     "metadata": {},
     "output_type": "execute_result"
    }
   ],
   "source": [
    "val_predictions = model9.predict(X_val1).flatten()\n",
    "val_results = pd.DataFrame(data={'Train Predictions':val_predictions, 'Actuals':y_val1})\n",
    "val_results"
   ]
  },
  {
   "cell_type": "code",
   "execution_count": 61,
   "id": "441385ae",
   "metadata": {
    "execution": {
     "iopub.execute_input": "2025-01-27T21:23:07.561731Z",
     "iopub.status.busy": "2025-01-27T21:23:07.561160Z",
     "iopub.status.idle": "2025-01-27T21:23:07.729589Z",
     "shell.execute_reply": "2025-01-27T21:23:07.728747Z"
    },
    "papermill": {
     "duration": 0.325697,
     "end_time": "2025-01-27T21:23:07.731724",
     "exception": false,
     "start_time": "2025-01-27T21:23:07.406027",
     "status": "completed"
    },
    "tags": []
   },
   "outputs": [
    {
     "data": {
      "image/png": "[encoded data removed]",
      "text/plain": [
       "<Figure size 640x480 with 1 Axes>"
      ]
     },
     "metadata": {},
     "output_type": "display_data"
    }
   ],
   "source": [
    "plt.plot(val_results['Actuals'][1:50], label='Actual')\n",
    "plt.plot(val_results['Train Predictions'][1:50], label='Predicted')\n",
    "plt.legend()\n",
    "plt.show()"
   ]
  },
  {
   "cell_type": "code",
   "execution_count": 62,
   "id": "d74dbf6d",
   "metadata": {
    "execution": {
     "iopub.execute_input": "2025-01-27T21:23:08.054465Z",
     "iopub.status.busy": "2025-01-27T21:23:08.054062Z",
     "iopub.status.idle": "2025-01-27T21:23:08.164420Z",
     "shell.execute_reply": "2025-01-27T21:23:08.163377Z"
    },
    "papermill": {
     "duration": 0.275769,
     "end_time": "2025-01-27T21:23:08.166012",
     "exception": false,
     "start_time": "2025-01-27T21:23:07.890243",
     "status": "completed"
    },
    "tags": []
   },
   "outputs": [
    {
     "name": "stdout",
     "output_type": "stream",
     "text": [
      "\u001b[1m10/10\u001b[0m \u001b[32m━━━━━━━━━━━━━━━━━━━━\u001b[0m\u001b[37m\u001b[0m \u001b[1m0s\u001b[0m 3ms/step \n"
     ]
    },
    {
     "data": {
      "text/html": [
       "<div>\n",
       "<style scoped>\n",
       "    .dataframe tbody tr th:only-of-type {\n",
       "        vertical-align: middle;\n",
       "    }\n",
       "\n",
       "    .dataframe tbody tr th {\n",
       "        vertical-align: top;\n",
       "    }\n",
       "\n",
       "    .dataframe thead th {\n",
       "        text-align: right;\n",
       "    }\n",
       "</style>\n",
       "<table border=\"1\" class=\"dataframe\">\n",
       "  <thead>\n",
       "    <tr style=\"text-align: right;\">\n",
       "      <th></th>\n",
       "      <th>Train Predictions</th>\n",
       "      <th>Actuals</th>\n",
       "    </tr>\n",
       "  </thead>\n",
       "  <tbody>\n",
       "    <tr>\n",
       "      <th>0</th>\n",
       "      <td>199.485382</td>\n",
       "      <td>190.0</td>\n",
       "    </tr>\n",
       "    <tr>\n",
       "      <th>1</th>\n",
       "      <td>191.273636</td>\n",
       "      <td>177.0</td>\n",
       "    </tr>\n",
       "    <tr>\n",
       "      <th>2</th>\n",
       "      <td>182.426483</td>\n",
       "      <td>172.0</td>\n",
       "    </tr>\n",
       "    <tr>\n",
       "      <th>3</th>\n",
       "      <td>183.216156</td>\n",
       "      <td>170.0</td>\n",
       "    </tr>\n",
       "    <tr>\n",
       "      <th>4</th>\n",
       "      <td>178.325806</td>\n",
       "      <td>197.0</td>\n",
       "    </tr>\n",
       "    <tr>\n",
       "      <th>...</th>\n",
       "      <td>...</td>\n",
       "      <td>...</td>\n",
       "    </tr>\n",
       "    <tr>\n",
       "      <th>310</th>\n",
       "      <td>143.565186</td>\n",
       "      <td>134.0</td>\n",
       "    </tr>\n",
       "    <tr>\n",
       "      <th>311</th>\n",
       "      <td>139.163971</td>\n",
       "      <td>144.0</td>\n",
       "    </tr>\n",
       "    <tr>\n",
       "      <th>312</th>\n",
       "      <td>148.644897</td>\n",
       "      <td>155.0</td>\n",
       "    </tr>\n",
       "    <tr>\n",
       "      <th>313</th>\n",
       "      <td>156.100159</td>\n",
       "      <td>155.0</td>\n",
       "    </tr>\n",
       "    <tr>\n",
       "      <th>314</th>\n",
       "      <td>149.576324</td>\n",
       "      <td>152.0</td>\n",
       "    </tr>\n",
       "  </tbody>\n",
       "</table>\n",
       "<p>315 rows × 2 columns</p>\n",
       "</div>"
      ],
      "text/plain": [
       "     Train Predictions  Actuals\n",
       "0           199.485382    190.0\n",
       "1           191.273636    177.0\n",
       "2           182.426483    172.0\n",
       "3           183.216156    170.0\n",
       "4           178.325806    197.0\n",
       "..                 ...      ...\n",
       "310         143.565186    134.0\n",
       "311         139.163971    144.0\n",
       "312         148.644897    155.0\n",
       "313         156.100159    155.0\n",
       "314         149.576324    152.0\n",
       "\n",
       "[315 rows x 2 columns]"
      ]
     },
     "execution_count": 62,
     "metadata": {},
     "output_type": "execute_result"
    }
   ],
   "source": [
    "test_predictions = model9.predict(X_test1).flatten()\n",
    "test_results = pd.DataFrame(data={'Train Predictions':test_predictions, 'Actuals':y_test1})\n",
    "test_results"
   ]
  },
  {
   "cell_type": "code",
   "execution_count": 63,
   "id": "550aab64",
   "metadata": {
    "execution": {
     "iopub.execute_input": "2025-01-27T21:23:08.488081Z",
     "iopub.status.busy": "2025-01-27T21:23:08.487763Z",
     "iopub.status.idle": "2025-01-27T21:23:08.655676Z",
     "shell.execute_reply": "2025-01-27T21:23:08.654723Z"
    },
    "papermill": {
     "duration": 0.333449,
     "end_time": "2025-01-27T21:23:08.657166",
     "exception": false,
     "start_time": "2025-01-27T21:23:08.323717",
     "status": "completed"
    },
    "tags": []
   },
   "outputs": [
    {
     "data": {
      "image/png": "[encoded data removed]",
      "text/plain": [
       "<Figure size 640x480 with 1 Axes>"
      ]
     },
     "metadata": {},
     "output_type": "display_data"
    }
   ],
   "source": [
    "plt.plot(test_results['Train Predictions'][1:50], label='Predicted')\n",
    "plt.plot(test_results['Actuals'][1:50], label='Actual')\n",
    "plt.legend()\n",
    "plt.show()"
   ]
  }
 ],
 "metadata": {
  "kaggle": {
   "accelerator": "none",
   "dataSources": [
    {
     "datasetId": 6557354,
     "sourceId": 10594490,
     "sourceType": "datasetVersion"
    },
    {
     "sourceId": 219513339,
     "sourceType": "kernelVersion"
    }
   ],
   "dockerImageVersionId": 30839,
   "isGpuEnabled": false,
   "isInternetEnabled": false,
   "language": "python",
   "sourceType": "notebook"
  },
  "kernelspec": {
   "display_name": "Python 3",
   "language": "python",
   "name": "python3"
  },
  "language_info": {
   "codemirror_mode": {
    "name": "ipython",
    "version": 3
   },
   "file_extension": ".py",
   "mimetype": "text/x-python",
   "name": "python",
   "nbconvert_exporter": "python",
   "pygments_lexer": "ipython3",
   "version": "3.10.12"
  },
  "papermill": {
   "default_parameters": {},
   "duration": 169.784701,
   "end_time": "2025-01-27T21:23:11.814805",
   "environment_variables": {},
   "exception": null,
   "input_path": "__notebook__.ipynb",
   "output_path": "__notebook__.ipynb",
   "parameters": {},
   "start_time": "2025-01-27T21:20:22.030104",
   "version": "2.6.0"
  }
 },
 "nbformat": 4,
 "nbformat_minor": 5
}
