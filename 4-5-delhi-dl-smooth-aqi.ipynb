{
 "cells": [
  {
   "cell_type": "code",
   "execution_count": 1,
   "id": "0c38b424",
   "metadata": {
    "_cell_guid": "0bd5fd8f-4de5-406f-92da-d16f3c990795",
    "_uuid": "63737120-456d-498d-a950-7893b9099e72",
    "collapsed": false,
    "execution": {
     "iopub.execute_input": "2025-01-27T22:00:22.632511Z",
     "iopub.status.busy": "2025-01-27T22:00:22.632110Z",
     "iopub.status.idle": "2025-01-27T22:00:25.394485Z",
     "shell.execute_reply": "2025-01-27T22:00:25.393521Z"
    },
    "jupyter": {
     "outputs_hidden": false
    },
    "papermill": {
     "duration": 2.780579,
     "end_time": "2025-01-27T22:00:25.396338",
     "exception": false,
     "start_time": "2025-01-27T22:00:22.615759",
     "status": "completed"
    },
    "tags": []
   },
   "outputs": [],
   "source": [
    "# Packages / libraries\n",
    "import os #provides functions for interacting with the operating system\n",
    "import numpy as np\n",
    "import pandas as pd\n",
    "from matplotlib import pyplot as plt\n",
    "import seaborn as sns\n",
    "\n",
    "from sklearn.preprocessing import MinMaxScaler\n",
    "from sklearn.preprocessing import StandardScaler\n",
    "from sklearn.metrics import mean_squared_error, mean_absolute_error, r2_score\n",
    "\n",
    "# remove warnings\n",
    "import warnings\n",
    "warnings.simplefilter(action='ignore', category=RuntimeWarning)"
   ]
  },
  {
   "cell_type": "markdown",
   "id": "af5c227c",
   "metadata": {
    "papermill": {
     "duration": 0.012369,
     "end_time": "2025-01-27T22:00:25.421670",
     "exception": false,
     "start_time": "2025-01-27T22:00:25.409301",
     "status": "completed"
    },
    "tags": []
   },
   "source": [
    "# **1. Loading Dataset**"
   ]
  },
  {
   "cell_type": "code",
   "execution_count": 2,
   "id": "2dc7badb",
   "metadata": {
    "execution": {
     "iopub.execute_input": "2025-01-27T22:00:25.448265Z",
     "iopub.status.busy": "2025-01-27T22:00:25.447752Z",
     "iopub.status.idle": "2025-01-27T22:00:25.501175Z",
     "shell.execute_reply": "2025-01-27T22:00:25.500239Z"
    },
    "papermill": {
     "duration": 0.069163,
     "end_time": "2025-01-27T22:00:25.503314",
     "exception": false,
     "start_time": "2025-01-27T22:00:25.434151",
     "status": "completed"
    },
    "tags": []
   },
   "outputs": [
    {
     "name": "stdout",
     "output_type": "stream",
     "text": [
      "(2399, 12)\n"
     ]
    },
    {
     "data": {
      "text/html": [
       "<div>\n",
       "<style scoped>\n",
       "    .dataframe tbody tr th:only-of-type {\n",
       "        vertical-align: middle;\n",
       "    }\n",
       "\n",
       "    .dataframe tbody tr th {\n",
       "        vertical-align: top;\n",
       "    }\n",
       "\n",
       "    .dataframe thead th {\n",
       "        text-align: right;\n",
       "    }\n",
       "</style>\n",
       "<table border=\"1\" class=\"dataframe\">\n",
       "  <thead>\n",
       "    <tr style=\"text-align: right;\">\n",
       "      <th></th>\n",
       "      <th>Date</th>\n",
       "      <th>co</th>\n",
       "      <th>no2</th>\n",
       "      <th>o3</th>\n",
       "      <th>pm10</th>\n",
       "      <th>pm25</th>\n",
       "      <th>so2</th>\n",
       "      <th>humidity</th>\n",
       "      <th>pressure</th>\n",
       "      <th>temperature</th>\n",
       "      <th>wind-speed</th>\n",
       "      <th>Country_City</th>\n",
       "    </tr>\n",
       "  </thead>\n",
       "  <tbody>\n",
       "    <tr>\n",
       "      <th>0</th>\n",
       "      <td>2014-12-29</td>\n",
       "      <td>14.1</td>\n",
       "      <td>36.2</td>\n",
       "      <td>3.2</td>\n",
       "      <td>218.0</td>\n",
       "      <td>307.0</td>\n",
       "      <td>4.2</td>\n",
       "      <td>NaN</td>\n",
       "      <td>NaN</td>\n",
       "      <td>NaN</td>\n",
       "      <td>NaN</td>\n",
       "      <td>India_Delhi</td>\n",
       "    </tr>\n",
       "    <tr>\n",
       "      <th>1</th>\n",
       "      <td>2014-12-30</td>\n",
       "      <td>20.4</td>\n",
       "      <td>36.8</td>\n",
       "      <td>4.8</td>\n",
       "      <td>330.0</td>\n",
       "      <td>367.0</td>\n",
       "      <td>5.8</td>\n",
       "      <td>NaN</td>\n",
       "      <td>NaN</td>\n",
       "      <td>NaN</td>\n",
       "      <td>NaN</td>\n",
       "      <td>India_Delhi</td>\n",
       "    </tr>\n",
       "    <tr>\n",
       "      <th>2</th>\n",
       "      <td>2014-12-31</td>\n",
       "      <td>12.7</td>\n",
       "      <td>28.7</td>\n",
       "      <td>7.8</td>\n",
       "      <td>137.0</td>\n",
       "      <td>202.0</td>\n",
       "      <td>6.3</td>\n",
       "      <td>NaN</td>\n",
       "      <td>NaN</td>\n",
       "      <td>NaN</td>\n",
       "      <td>NaN</td>\n",
       "      <td>India_Delhi</td>\n",
       "    </tr>\n",
       "    <tr>\n",
       "      <th>3</th>\n",
       "      <td>2015-01-01</td>\n",
       "      <td>20.8</td>\n",
       "      <td>66.5</td>\n",
       "      <td>5.2</td>\n",
       "      <td>230.0</td>\n",
       "      <td>382.0</td>\n",
       "      <td>9.9</td>\n",
       "      <td>NaN</td>\n",
       "      <td>NaN</td>\n",
       "      <td>NaN</td>\n",
       "      <td>NaN</td>\n",
       "      <td>India_Delhi</td>\n",
       "    </tr>\n",
       "    <tr>\n",
       "      <th>4</th>\n",
       "      <td>2015-01-02</td>\n",
       "      <td>12.7</td>\n",
       "      <td>33.9</td>\n",
       "      <td>6.0</td>\n",
       "      <td>81.0</td>\n",
       "      <td>172.0</td>\n",
       "      <td>4.2</td>\n",
       "      <td>NaN</td>\n",
       "      <td>NaN</td>\n",
       "      <td>NaN</td>\n",
       "      <td>NaN</td>\n",
       "      <td>India_Delhi</td>\n",
       "    </tr>\n",
       "  </tbody>\n",
       "</table>\n",
       "</div>"
      ],
      "text/plain": [
       "         Date    co   no2   o3   pm10   pm25  so2  humidity  pressure  \\\n",
       "0  2014-12-29  14.1  36.2  3.2  218.0  307.0  4.2       NaN       NaN   \n",
       "1  2014-12-30  20.4  36.8  4.8  330.0  367.0  5.8       NaN       NaN   \n",
       "2  2014-12-31  12.7  28.7  7.8  137.0  202.0  6.3       NaN       NaN   \n",
       "3  2015-01-01  20.8  66.5  5.2  230.0  382.0  9.9       NaN       NaN   \n",
       "4  2015-01-02  12.7  33.9  6.0   81.0  172.0  4.2       NaN       NaN   \n",
       "\n",
       "   temperature  wind-speed Country_City  \n",
       "0          NaN         NaN  India_Delhi  \n",
       "1          NaN         NaN  India_Delhi  \n",
       "2          NaN         NaN  India_Delhi  \n",
       "3          NaN         NaN  India_Delhi  \n",
       "4          NaN         NaN  India_Delhi  "
      ]
     },
     "execution_count": 2,
     "metadata": {},
     "output_type": "execute_result"
    }
   ],
   "source": [
    "# Loading the data\n",
    "new_data = pd.read_csv(\"/kaggle/input/seperated-data/India_Delhi.csv\")\n",
    "\n",
    "# print the shape\n",
    "print(new_data.shape)\n",
    "\n",
    "#runs the first 5 rows\n",
    "new_data.head()"
   ]
  },
  {
   "cell_type": "code",
   "execution_count": 3,
   "id": "0b20d456",
   "metadata": {
    "execution": {
     "iopub.execute_input": "2025-01-27T22:00:25.531448Z",
     "iopub.status.busy": "2025-01-27T22:00:25.531081Z",
     "iopub.status.idle": "2025-01-27T22:00:25.538909Z",
     "shell.execute_reply": "2025-01-27T22:00:25.537913Z"
    },
    "papermill": {
     "duration": 0.023336,
     "end_time": "2025-01-27T22:00:25.540450",
     "exception": false,
     "start_time": "2025-01-27T22:00:25.517114",
     "status": "completed"
    },
    "tags": []
   },
   "outputs": [
    {
     "name": "stdout",
     "output_type": "stream",
     "text": [
      "Minimum date: 2014-12-29\n",
      "Maximum date: 2023-10-01\n"
     ]
    }
   ],
   "source": [
    "# Find the minimum and maximum dates\n",
    "min_date = new_data['Date'].min()\n",
    "max_date = new_data['Date'].max()\n",
    "\n",
    "print('Minimum date:', min_date)\n",
    "print('Maximum date:', max_date)"
   ]
  },
  {
   "cell_type": "code",
   "execution_count": 4,
   "id": "a8a0435f",
   "metadata": {
    "execution": {
     "iopub.execute_input": "2025-01-27T22:00:25.566053Z",
     "iopub.status.busy": "2025-01-27T22:00:25.565777Z",
     "iopub.status.idle": "2025-01-27T22:00:25.590362Z",
     "shell.execute_reply": "2025-01-27T22:00:25.588963Z"
    },
    "papermill": {
     "duration": 0.038857,
     "end_time": "2025-01-27T22:00:25.591851",
     "exception": false,
     "start_time": "2025-01-27T22:00:25.552994",
     "status": "completed"
    },
    "tags": []
   },
   "outputs": [
    {
     "name": "stdout",
     "output_type": "stream",
     "text": [
      "<class 'pandas.core.frame.DataFrame'>\n",
      "RangeIndex: 2399 entries, 0 to 2398\n",
      "Data columns (total 12 columns):\n",
      " #   Column        Non-Null Count  Dtype  \n",
      "---  ------        --------------  -----  \n",
      " 0   Date          2399 non-null   object \n",
      " 1   co            2399 non-null   float64\n",
      " 2   no2           2399 non-null   float64\n",
      " 3   o3            2399 non-null   float64\n",
      " 4   pm10          2398 non-null   float64\n",
      " 5   pm25          2398 non-null   float64\n",
      " 6   so2           2399 non-null   float64\n",
      " 7   humidity      1698 non-null   float64\n",
      " 8   pressure      1698 non-null   float64\n",
      " 9   temperature   1698 non-null   float64\n",
      " 10  wind-speed    1629 non-null   float64\n",
      " 11  Country_City  2399 non-null   object \n",
      "dtypes: float64(10), object(2)\n",
      "memory usage: 225.0+ KB\n"
     ]
    }
   ],
   "source": [
    "new_data.info()"
   ]
  },
  {
   "cell_type": "code",
   "execution_count": 5,
   "id": "a3323671",
   "metadata": {
    "execution": {
     "iopub.execute_input": "2025-01-27T22:00:25.623472Z",
     "iopub.status.busy": "2025-01-27T22:00:25.623091Z",
     "iopub.status.idle": "2025-01-27T22:00:25.656026Z",
     "shell.execute_reply": "2025-01-27T22:00:25.654692Z"
    },
    "papermill": {
     "duration": 0.052573,
     "end_time": "2025-01-27T22:00:25.658106",
     "exception": false,
     "start_time": "2025-01-27T22:00:25.605533",
     "status": "completed"
    },
    "tags": []
   },
   "outputs": [
    {
     "data": {
      "text/html": [
       "<div>\n",
       "<style scoped>\n",
       "    .dataframe tbody tr th:only-of-type {\n",
       "        vertical-align: middle;\n",
       "    }\n",
       "\n",
       "    .dataframe tbody tr th {\n",
       "        vertical-align: top;\n",
       "    }\n",
       "\n",
       "    .dataframe thead th {\n",
       "        text-align: right;\n",
       "    }\n",
       "</style>\n",
       "<table border=\"1\" class=\"dataframe\">\n",
       "  <thead>\n",
       "    <tr style=\"text-align: right;\">\n",
       "      <th></th>\n",
       "      <th>co</th>\n",
       "      <th>no2</th>\n",
       "      <th>o3</th>\n",
       "      <th>pm10</th>\n",
       "      <th>pm25</th>\n",
       "      <th>so2</th>\n",
       "      <th>humidity</th>\n",
       "      <th>pressure</th>\n",
       "      <th>temperature</th>\n",
       "      <th>wind-speed</th>\n",
       "    </tr>\n",
       "  </thead>\n",
       "  <tbody>\n",
       "    <tr>\n",
       "      <th>count</th>\n",
       "      <td>2399.000000</td>\n",
       "      <td>2399.000000</td>\n",
       "      <td>2399.000000</td>\n",
       "      <td>2398.000000</td>\n",
       "      <td>2398.000000</td>\n",
       "      <td>2399.000000</td>\n",
       "      <td>1698.000000</td>\n",
       "      <td>1698.000000</td>\n",
       "      <td>1698.000000</td>\n",
       "      <td>1629.000000</td>\n",
       "    </tr>\n",
       "    <tr>\n",
       "      <th>mean</th>\n",
       "      <td>9.325594</td>\n",
       "      <td>16.870946</td>\n",
       "      <td>9.480700</td>\n",
       "      <td>131.572143</td>\n",
       "      <td>164.397832</td>\n",
       "      <td>5.702751</td>\n",
       "      <td>60.708304</td>\n",
       "      <td>985.184923</td>\n",
       "      <td>26.338869</td>\n",
       "      <td>1.101964</td>\n",
       "    </tr>\n",
       "    <tr>\n",
       "      <th>std</th>\n",
       "      <td>3.715709</td>\n",
       "      <td>7.805715</td>\n",
       "      <td>4.829603</td>\n",
       "      <td>77.174642</td>\n",
       "      <td>64.829240</td>\n",
       "      <td>2.289821</td>\n",
       "      <td>17.138084</td>\n",
       "      <td>10.022854</td>\n",
       "      <td>6.631277</td>\n",
       "      <td>0.493156</td>\n",
       "    </tr>\n",
       "    <tr>\n",
       "      <th>min</th>\n",
       "      <td>0.100000</td>\n",
       "      <td>5.000000</td>\n",
       "      <td>2.400000</td>\n",
       "      <td>12.000000</td>\n",
       "      <td>30.000000</td>\n",
       "      <td>1.700000</td>\n",
       "      <td>13.000000</td>\n",
       "      <td>743.000000</td>\n",
       "      <td>6.200000</td>\n",
       "      <td>0.300000</td>\n",
       "    </tr>\n",
       "    <tr>\n",
       "      <th>25%</th>\n",
       "      <td>7.050000</td>\n",
       "      <td>10.600000</td>\n",
       "      <td>6.000000</td>\n",
       "      <td>82.000000</td>\n",
       "      <td>123.000000</td>\n",
       "      <td>4.000000</td>\n",
       "      <td>48.500000</td>\n",
       "      <td>979.800000</td>\n",
       "      <td>22.100000</td>\n",
       "      <td>0.800000</td>\n",
       "    </tr>\n",
       "    <tr>\n",
       "      <th>50%</th>\n",
       "      <td>8.400000</td>\n",
       "      <td>15.800000</td>\n",
       "      <td>8.200000</td>\n",
       "      <td>120.000000</td>\n",
       "      <td>160.000000</td>\n",
       "      <td>5.300000</td>\n",
       "      <td>63.000000</td>\n",
       "      <td>983.900000</td>\n",
       "      <td>28.600000</td>\n",
       "      <td>1.000000</td>\n",
       "    </tr>\n",
       "    <tr>\n",
       "      <th>75%</th>\n",
       "      <td>10.700000</td>\n",
       "      <td>21.500000</td>\n",
       "      <td>11.800000</td>\n",
       "      <td>160.000000</td>\n",
       "      <td>189.000000</td>\n",
       "      <td>7.100000</td>\n",
       "      <td>74.000000</td>\n",
       "      <td>990.400000</td>\n",
       "      <td>31.100000</td>\n",
       "      <td>1.300000</td>\n",
       "    </tr>\n",
       "    <tr>\n",
       "      <th>max</th>\n",
       "      <td>30.600000</td>\n",
       "      <td>66.500000</td>\n",
       "      <td>40.300000</td>\n",
       "      <td>999.000000</td>\n",
       "      <td>577.000000</td>\n",
       "      <td>19.800000</td>\n",
       "      <td>99.100000</td>\n",
       "      <td>1020.500000</td>\n",
       "      <td>38.000000</td>\n",
       "      <td>4.600000</td>\n",
       "    </tr>\n",
       "  </tbody>\n",
       "</table>\n",
       "</div>"
      ],
      "text/plain": [
       "                co          no2           o3         pm10         pm25  \\\n",
       "count  2399.000000  2399.000000  2399.000000  2398.000000  2398.000000   \n",
       "mean      9.325594    16.870946     9.480700   131.572143   164.397832   \n",
       "std       3.715709     7.805715     4.829603    77.174642    64.829240   \n",
       "min       0.100000     5.000000     2.400000    12.000000    30.000000   \n",
       "25%       7.050000    10.600000     6.000000    82.000000   123.000000   \n",
       "50%       8.400000    15.800000     8.200000   120.000000   160.000000   \n",
       "75%      10.700000    21.500000    11.800000   160.000000   189.000000   \n",
       "max      30.600000    66.500000    40.300000   999.000000   577.000000   \n",
       "\n",
       "               so2     humidity     pressure  temperature   wind-speed  \n",
       "count  2399.000000  1698.000000  1698.000000  1698.000000  1629.000000  \n",
       "mean      5.702751    60.708304   985.184923    26.338869     1.101964  \n",
       "std       2.289821    17.138084    10.022854     6.631277     0.493156  \n",
       "min       1.700000    13.000000   743.000000     6.200000     0.300000  \n",
       "25%       4.000000    48.500000   979.800000    22.100000     0.800000  \n",
       "50%       5.300000    63.000000   983.900000    28.600000     1.000000  \n",
       "75%       7.100000    74.000000   990.400000    31.100000     1.300000  \n",
       "max      19.800000    99.100000  1020.500000    38.000000     4.600000  "
      ]
     },
     "execution_count": 5,
     "metadata": {},
     "output_type": "execute_result"
    }
   ],
   "source": [
    "new_data.describe()"
   ]
  },
  {
   "cell_type": "code",
   "execution_count": 6,
   "id": "072d22a1",
   "metadata": {
    "execution": {
     "iopub.execute_input": "2025-01-27T22:00:25.687703Z",
     "iopub.status.busy": "2025-01-27T22:00:25.687387Z",
     "iopub.status.idle": "2025-01-27T22:00:25.699774Z",
     "shell.execute_reply": "2025-01-27T22:00:25.698573Z"
    },
    "papermill": {
     "duration": 0.027849,
     "end_time": "2025-01-27T22:00:25.701234",
     "exception": false,
     "start_time": "2025-01-27T22:00:25.673385",
     "status": "completed"
    },
    "tags": []
   },
   "outputs": [
    {
     "name": "stdout",
     "output_type": "stream",
     "text": [
      "The number of values for feature Date :2397\n",
      "The number of values for feature co :200\n",
      "The number of values for feature no2 :328\n",
      "The number of values for feature o3 :226\n",
      "The number of values for feature pm10 :320\n",
      "The number of values for feature pm25 :309\n",
      "The number of values for feature so2 :116\n",
      "The number of values for feature humidity :602\n",
      "The number of values for feature pressure :300\n",
      "The number of values for feature temperature :264\n",
      "The number of values for feature wind-speed :33\n",
      "The number of values for feature Country_City :1 -- ['India_Delhi']\n"
     ]
    }
   ],
   "source": [
    "# Investigate all the elements whithin each Feature\n",
    "\n",
    "for column in new_data:\n",
    "    # Handle numerical and string columns differently\n",
    "    if new_data[column].dtype == 'object':  # Check if column is of object type\n",
    "        unique_vals = new_data[column].unique()  # pandas unique for strings\n",
    "    else:\n",
    "        unique_vals = np.unique(new_data[column])  # numpy unique for numerical types\n",
    "\n",
    "    nr_values = len(unique_vals)\n",
    "    if nr_values < 14:\n",
    "        print('The number of values for feature {} :{} -- {}'.format(column, nr_values,unique_vals))\n",
    "    else:\n",
    "        print('The number of values for feature {} :{}'.format(column, nr_values))"
   ]
  },
  {
   "cell_type": "code",
   "execution_count": 7,
   "id": "608693e8",
   "metadata": {
    "execution": {
     "iopub.execute_input": "2025-01-27T22:00:25.729799Z",
     "iopub.status.busy": "2025-01-27T22:00:25.729504Z",
     "iopub.status.idle": "2025-01-27T22:00:25.736707Z",
     "shell.execute_reply": "2025-01-27T22:00:25.735724Z"
    },
    "papermill": {
     "duration": 0.023201,
     "end_time": "2025-01-27T22:00:25.738248",
     "exception": false,
     "start_time": "2025-01-27T22:00:25.715047",
     "status": "completed"
    },
    "tags": []
   },
   "outputs": [
    {
     "data": {
      "text/plain": [
       "Date              0\n",
       "co                0\n",
       "no2               0\n",
       "o3                0\n",
       "pm10              1\n",
       "pm25              1\n",
       "so2               0\n",
       "humidity        701\n",
       "pressure        701\n",
       "temperature     701\n",
       "wind-speed      770\n",
       "Country_City      0\n",
       "dtype: int64"
      ]
     },
     "execution_count": 7,
     "metadata": {},
     "output_type": "execute_result"
    }
   ],
   "source": [
    "new_data.isna().sum()"
   ]
  },
  {
   "cell_type": "markdown",
   "id": "4bfba43a",
   "metadata": {
    "papermill": {
     "duration": 0.012992,
     "end_time": "2025-01-27T22:00:25.764698",
     "exception": false,
     "start_time": "2025-01-27T22:00:25.751706",
     "status": "completed"
    },
    "tags": []
   },
   "source": [
    "## **1.2 - Function**"
   ]
  },
  {
   "cell_type": "code",
   "execution_count": 8,
   "id": "54c6a2d7",
   "metadata": {
    "execution": {
     "iopub.execute_input": "2025-01-27T22:00:25.792052Z",
     "iopub.status.busy": "2025-01-27T22:00:25.791754Z",
     "iopub.status.idle": "2025-01-27T22:00:25.796834Z",
     "shell.execute_reply": "2025-01-27T22:00:25.795717Z"
    },
    "papermill": {
     "duration": 0.020129,
     "end_time": "2025-01-27T22:00:25.798282",
     "exception": false,
     "start_time": "2025-01-27T22:00:25.778153",
     "status": "completed"
    },
    "tags": []
   },
   "outputs": [
    {
     "name": "stdout",
     "output_type": "stream",
     "text": [
      "['__results__.html', '__notebook__.ipynb', 'function.py', '__output__.json', 'custom.css']\n"
     ]
    }
   ],
   "source": [
    "print(os.listdir('/kaggle/usr/lib/function'))"
   ]
  },
  {
   "cell_type": "code",
   "execution_count": 9,
   "id": "947edc51",
   "metadata": {
    "execution": {
     "iopub.execute_input": "2025-01-27T22:00:25.825288Z",
     "iopub.status.busy": "2025-01-27T22:00:25.824980Z",
     "iopub.status.idle": "2025-01-27T22:00:25.834978Z",
     "shell.execute_reply": "2025-01-27T22:00:25.834258Z"
    },
    "papermill": {
     "duration": 0.025071,
     "end_time": "2025-01-27T22:00:25.836542",
     "exception": false,
     "start_time": "2025-01-27T22:00:25.811471",
     "status": "completed"
    },
    "tags": []
   },
   "outputs": [],
   "source": [
    "import sys\n",
    "sys.path.append(\"/kaggle/usr/lib/function\")  # Add directory to the path\n",
    "\n",
    "import function as fn"
   ]
  },
  {
   "cell_type": "code",
   "execution_count": 10,
   "id": "86651adb",
   "metadata": {
    "execution": {
     "iopub.execute_input": "2025-01-27T22:00:25.862986Z",
     "iopub.status.busy": "2025-01-27T22:00:25.862682Z",
     "iopub.status.idle": "2025-01-27T22:00:25.887224Z",
     "shell.execute_reply": "2025-01-27T22:00:25.886366Z"
    },
    "papermill": {
     "duration": 0.03943,
     "end_time": "2025-01-27T22:00:25.888621",
     "exception": false,
     "start_time": "2025-01-27T22:00:25.849191",
     "status": "completed"
    },
    "tags": []
   },
   "outputs": [
    {
     "data": {
      "text/html": [
       "<div>\n",
       "<style scoped>\n",
       "    .dataframe tbody tr th:only-of-type {\n",
       "        vertical-align: middle;\n",
       "    }\n",
       "\n",
       "    .dataframe tbody tr th {\n",
       "        vertical-align: top;\n",
       "    }\n",
       "\n",
       "    .dataframe thead th {\n",
       "        text-align: right;\n",
       "    }\n",
       "</style>\n",
       "<table border=\"1\" class=\"dataframe\">\n",
       "  <thead>\n",
       "    <tr style=\"text-align: right;\">\n",
       "      <th></th>\n",
       "      <th>co</th>\n",
       "      <th>no2</th>\n",
       "      <th>o3</th>\n",
       "      <th>pm10</th>\n",
       "      <th>pm25</th>\n",
       "      <th>so2</th>\n",
       "      <th>humidity</th>\n",
       "      <th>pressure</th>\n",
       "      <th>temperature</th>\n",
       "      <th>wind-speed</th>\n",
       "      <th>Country_City</th>\n",
       "    </tr>\n",
       "    <tr>\n",
       "      <th>Date</th>\n",
       "      <th></th>\n",
       "      <th></th>\n",
       "      <th></th>\n",
       "      <th></th>\n",
       "      <th></th>\n",
       "      <th></th>\n",
       "      <th></th>\n",
       "      <th></th>\n",
       "      <th></th>\n",
       "      <th></th>\n",
       "      <th></th>\n",
       "    </tr>\n",
       "  </thead>\n",
       "  <tbody>\n",
       "    <tr>\n",
       "      <th>2014-12-29</th>\n",
       "      <td>14.1</td>\n",
       "      <td>36.2</td>\n",
       "      <td>3.2</td>\n",
       "      <td>218.0</td>\n",
       "      <td>307.0</td>\n",
       "      <td>4.2</td>\n",
       "      <td>NaN</td>\n",
       "      <td>NaN</td>\n",
       "      <td>NaN</td>\n",
       "      <td>NaN</td>\n",
       "      <td>India_Delhi</td>\n",
       "    </tr>\n",
       "    <tr>\n",
       "      <th>2014-12-30</th>\n",
       "      <td>20.4</td>\n",
       "      <td>36.8</td>\n",
       "      <td>4.8</td>\n",
       "      <td>330.0</td>\n",
       "      <td>367.0</td>\n",
       "      <td>5.8</td>\n",
       "      <td>NaN</td>\n",
       "      <td>NaN</td>\n",
       "      <td>NaN</td>\n",
       "      <td>NaN</td>\n",
       "      <td>India_Delhi</td>\n",
       "    </tr>\n",
       "    <tr>\n",
       "      <th>2014-12-31</th>\n",
       "      <td>12.7</td>\n",
       "      <td>28.7</td>\n",
       "      <td>7.8</td>\n",
       "      <td>137.0</td>\n",
       "      <td>202.0</td>\n",
       "      <td>6.3</td>\n",
       "      <td>NaN</td>\n",
       "      <td>NaN</td>\n",
       "      <td>NaN</td>\n",
       "      <td>NaN</td>\n",
       "      <td>India_Delhi</td>\n",
       "    </tr>\n",
       "    <tr>\n",
       "      <th>2015-01-01</th>\n",
       "      <td>20.8</td>\n",
       "      <td>66.5</td>\n",
       "      <td>5.2</td>\n",
       "      <td>230.0</td>\n",
       "      <td>382.0</td>\n",
       "      <td>9.9</td>\n",
       "      <td>NaN</td>\n",
       "      <td>NaN</td>\n",
       "      <td>NaN</td>\n",
       "      <td>NaN</td>\n",
       "      <td>India_Delhi</td>\n",
       "    </tr>\n",
       "    <tr>\n",
       "      <th>2015-01-02</th>\n",
       "      <td>12.7</td>\n",
       "      <td>33.9</td>\n",
       "      <td>6.0</td>\n",
       "      <td>81.0</td>\n",
       "      <td>172.0</td>\n",
       "      <td>4.2</td>\n",
       "      <td>NaN</td>\n",
       "      <td>NaN</td>\n",
       "      <td>NaN</td>\n",
       "      <td>NaN</td>\n",
       "      <td>India_Delhi</td>\n",
       "    </tr>\n",
       "  </tbody>\n",
       "</table>\n",
       "</div>"
      ],
      "text/plain": [
       "              co   no2   o3   pm10   pm25  so2  humidity  pressure  \\\n",
       "Date                                                                 \n",
       "2014-12-29  14.1  36.2  3.2  218.0  307.0  4.2       NaN       NaN   \n",
       "2014-12-30  20.4  36.8  4.8  330.0  367.0  5.8       NaN       NaN   \n",
       "2014-12-31  12.7  28.7  7.8  137.0  202.0  6.3       NaN       NaN   \n",
       "2015-01-01  20.8  66.5  5.2  230.0  382.0  9.9       NaN       NaN   \n",
       "2015-01-02  12.7  33.9  6.0   81.0  172.0  4.2       NaN       NaN   \n",
       "\n",
       "            temperature  wind-speed Country_City  \n",
       "Date                                              \n",
       "2014-12-29          NaN         NaN  India_Delhi  \n",
       "2014-12-30          NaN         NaN  India_Delhi  \n",
       "2014-12-31          NaN         NaN  India_Delhi  \n",
       "2015-01-01          NaN         NaN  India_Delhi  \n",
       "2015-01-02          NaN         NaN  India_Delhi  "
      ]
     },
     "execution_count": 10,
     "metadata": {},
     "output_type": "execute_result"
    }
   ],
   "source": [
    "# Use the functions\n",
    "new_data1 = fn.prepare_datetime_index(new_data, date_column='Date')\n",
    "new_data1.head()"
   ]
  },
  {
   "cell_type": "code",
   "execution_count": 11,
   "id": "9b31d502",
   "metadata": {
    "execution": {
     "iopub.execute_input": "2025-01-27T22:00:25.916911Z",
     "iopub.status.busy": "2025-01-27T22:00:25.916629Z",
     "iopub.status.idle": "2025-01-27T22:00:25.929605Z",
     "shell.execute_reply": "2025-01-27T22:00:25.928383Z"
    },
    "papermill": {
     "duration": 0.02896,
     "end_time": "2025-01-27T22:00:25.931127",
     "exception": false,
     "start_time": "2025-01-27T22:00:25.902167",
     "status": "completed"
    },
    "tags": []
   },
   "outputs": [
    {
     "name": "stdout",
     "output_type": "stream",
     "text": [
      "co              0\n",
      "no2             0\n",
      "o3              0\n",
      "pm10            0\n",
      "pm25            0\n",
      "so2             0\n",
      "humidity        0\n",
      "pressure        0\n",
      "temperature     0\n",
      "wind-speed      0\n",
      "Country_City    0\n",
      "dtype: int64\n"
     ]
    }
   ],
   "source": [
    "# Use the functions\n",
    "new_data2 = fn.fill_pollutant_values(new_data1)\n",
    "print(new_data2.isna().sum())"
   ]
  },
  {
   "cell_type": "markdown",
   "id": "bd4852d6",
   "metadata": {
    "papermill": {
     "duration": 0.01282,
     "end_time": "2025-01-27T22:00:25.957884",
     "exception": false,
     "start_time": "2025-01-27T22:00:25.945064",
     "status": "completed"
    },
    "tags": []
   },
   "source": [
    "**Check**"
   ]
  },
  {
   "cell_type": "code",
   "execution_count": 12,
   "id": "6770988d",
   "metadata": {
    "execution": {
     "iopub.execute_input": "2025-01-27T22:00:25.985531Z",
     "iopub.status.busy": "2025-01-27T22:00:25.985148Z",
     "iopub.status.idle": "2025-01-27T22:00:25.999208Z",
     "shell.execute_reply": "2025-01-27T22:00:25.998321Z"
    },
    "papermill": {
     "duration": 0.029473,
     "end_time": "2025-01-27T22:00:26.000665",
     "exception": false,
     "start_time": "2025-01-27T22:00:25.971192",
     "status": "completed"
    },
    "tags": []
   },
   "outputs": [
    {
     "name": "stdout",
     "output_type": "stream",
     "text": [
      "Missing Dates:\n",
      "DatetimeIndex(['2015-07-06', '2015-07-07', '2015-07-08', '2015-07-09',\n",
      "               '2015-07-10', '2015-07-11', '2015-07-12', '2015-07-13',\n",
      "               '2015-07-14', '2015-07-15',\n",
      "               ...\n",
      "               '2022-03-18', '2022-03-19', '2022-03-20', '2022-03-21',\n",
      "               '2022-03-22', '2022-03-23', '2022-03-24', '2022-03-25',\n",
      "               '2022-03-26', '2022-03-27'],\n",
      "              dtype='datetime64[ns]', length=802, freq=None)\n"
     ]
    }
   ],
   "source": [
    "# Create a complete range of dates\n",
    "full_range = pd.date_range(start=new_data2.index.min(), end=new_data2.index.max())\n",
    "\n",
    "# Find missing dates\n",
    "missing_dates = full_range.difference(new_data2.index)\n",
    "print(\"Missing Dates:\")\n",
    "print(missing_dates)"
   ]
  },
  {
   "cell_type": "code",
   "execution_count": 13,
   "id": "e828b6e0",
   "metadata": {
    "execution": {
     "iopub.execute_input": "2025-01-27T22:00:26.030271Z",
     "iopub.status.busy": "2025-01-27T22:00:26.029970Z",
     "iopub.status.idle": "2025-01-27T22:00:26.038593Z",
     "shell.execute_reply": "2025-01-27T22:00:26.037803Z"
    },
    "papermill": {
     "duration": 0.025803,
     "end_time": "2025-01-27T22:00:26.040090",
     "exception": false,
     "start_time": "2025-01-27T22:00:26.014287",
     "status": "completed"
    },
    "tags": []
   },
   "outputs": [],
   "source": [
    "new_data3 = fn.impute_missing_dates(new_data2)"
   ]
  },
  {
   "cell_type": "code",
   "execution_count": 14,
   "id": "070e292d",
   "metadata": {
    "execution": {
     "iopub.execute_input": "2025-01-27T22:00:26.068435Z",
     "iopub.status.busy": "2025-01-27T22:00:26.068095Z",
     "iopub.status.idle": "2025-01-27T22:00:26.076078Z",
     "shell.execute_reply": "2025-01-27T22:00:26.075083Z"
    },
    "papermill": {
     "duration": 0.024016,
     "end_time": "2025-01-27T22:00:26.077637",
     "exception": false,
     "start_time": "2025-01-27T22:00:26.053621",
     "status": "completed"
    },
    "tags": []
   },
   "outputs": [
    {
     "name": "stdout",
     "output_type": "stream",
     "text": [
      "Missing Dates:\n",
      "DatetimeIndex([], dtype='datetime64[ns]', freq='D')\n"
     ]
    }
   ],
   "source": [
    "# Create a complete range of dates\n",
    "full_range = pd.date_range(start=new_data3.index.min(), end=new_data3.index.max())\n",
    "\n",
    "# Find missing dates\n",
    "missing_dates = full_range.difference(new_data3.index)\n",
    "print(\"Missing Dates:\")\n",
    "print(missing_dates)"
   ]
  },
  {
   "cell_type": "code",
   "execution_count": 15,
   "id": "38a41594",
   "metadata": {
    "execution": {
     "iopub.execute_input": "2025-01-27T22:00:26.105639Z",
     "iopub.status.busy": "2025-01-27T22:00:26.105266Z",
     "iopub.status.idle": "2025-01-27T22:00:26.110510Z",
     "shell.execute_reply": "2025-01-27T22:00:26.109558Z"
    },
    "papermill": {
     "duration": 0.020633,
     "end_time": "2025-01-27T22:00:26.111945",
     "exception": false,
     "start_time": "2025-01-27T22:00:26.091312",
     "status": "completed"
    },
    "tags": []
   },
   "outputs": [
    {
     "name": "stdout",
     "output_type": "stream",
     "text": [
      "Duplicate indexes: DatetimeIndex([], dtype='datetime64[ns]', freq='D')\n"
     ]
    }
   ],
   "source": [
    "duplicates = new_data3.index[new_data3.index.duplicated()]\n",
    "print(f\"Duplicate indexes: {duplicates}\")"
   ]
  },
  {
   "cell_type": "markdown",
   "id": "dec0a9f1",
   "metadata": {
    "papermill": {
     "duration": 0.015342,
     "end_time": "2025-01-27T22:00:26.141022",
     "exception": false,
     "start_time": "2025-01-27T22:00:26.125680",
     "status": "completed"
    },
    "tags": []
   },
   "source": [
    "## **1.3.Normal AQI count, After Normal AQI count Smoothing AQI(IQR, Z-score, Rolling), (Preprocess Pollution --> Smooth Pollution --> Calculate smooth aqi).**"
   ]
  },
  {
   "cell_type": "code",
   "execution_count": 16,
   "id": "c88794e7",
   "metadata": {
    "execution": {
     "iopub.execute_input": "2025-01-27T22:00:26.180478Z",
     "iopub.status.busy": "2025-01-27T22:00:26.179994Z",
     "iopub.status.idle": "2025-01-27T22:00:26.193213Z",
     "shell.execute_reply": "2025-01-27T22:00:26.192243Z"
    },
    "papermill": {
     "duration": 0.034108,
     "end_time": "2025-01-27T22:00:26.194814",
     "exception": false,
     "start_time": "2025-01-27T22:00:26.160706",
     "status": "completed"
    },
    "tags": []
   },
   "outputs": [],
   "source": [
    "new_data4 = fn.calculate_aqi(new_data3, subindex_columns=['co', 'no2', 'o3', 'pm10', 'pm25', 'so2'])"
   ]
  },
  {
   "cell_type": "code",
   "execution_count": 17,
   "id": "4b83c633",
   "metadata": {
    "execution": {
     "iopub.execute_input": "2025-01-27T22:00:26.222992Z",
     "iopub.status.busy": "2025-01-27T22:00:26.222668Z",
     "iopub.status.idle": "2025-01-27T22:00:26.247110Z",
     "shell.execute_reply": "2025-01-27T22:00:26.245971Z"
    },
    "papermill": {
     "duration": 0.04053,
     "end_time": "2025-01-27T22:00:26.248744",
     "exception": false,
     "start_time": "2025-01-27T22:00:26.208214",
     "status": "completed"
    },
    "tags": []
   },
   "outputs": [
    {
     "data": {
      "text/html": [
       "<div>\n",
       "<style scoped>\n",
       "    .dataframe tbody tr th:only-of-type {\n",
       "        vertical-align: middle;\n",
       "    }\n",
       "\n",
       "    .dataframe tbody tr th {\n",
       "        vertical-align: top;\n",
       "    }\n",
       "\n",
       "    .dataframe thead th {\n",
       "        text-align: right;\n",
       "    }\n",
       "</style>\n",
       "<table border=\"1\" class=\"dataframe\">\n",
       "  <thead>\n",
       "    <tr style=\"text-align: right;\">\n",
       "      <th></th>\n",
       "      <th>co</th>\n",
       "      <th>no2</th>\n",
       "      <th>o3</th>\n",
       "      <th>pm10</th>\n",
       "      <th>pm25</th>\n",
       "      <th>so2</th>\n",
       "      <th>humidity</th>\n",
       "      <th>pressure</th>\n",
       "      <th>temperature</th>\n",
       "      <th>wind-speed</th>\n",
       "      <th>Country_City</th>\n",
       "      <th>Checks</th>\n",
       "      <th>AQI</th>\n",
       "    </tr>\n",
       "  </thead>\n",
       "  <tbody>\n",
       "    <tr>\n",
       "      <th>2014-12-29</th>\n",
       "      <td>14.1</td>\n",
       "      <td>36.2</td>\n",
       "      <td>3.2</td>\n",
       "      <td>218.0</td>\n",
       "      <td>307.0</td>\n",
       "      <td>4.2</td>\n",
       "      <td>60.691097</td>\n",
       "      <td>985.187382</td>\n",
       "      <td>26.3352</td>\n",
       "      <td>1.102459</td>\n",
       "      <td>India_Delhi</td>\n",
       "      <td>6</td>\n",
       "      <td>307.0</td>\n",
       "    </tr>\n",
       "    <tr>\n",
       "      <th>2014-12-30</th>\n",
       "      <td>20.4</td>\n",
       "      <td>36.8</td>\n",
       "      <td>4.8</td>\n",
       "      <td>330.0</td>\n",
       "      <td>367.0</td>\n",
       "      <td>5.8</td>\n",
       "      <td>60.691097</td>\n",
       "      <td>985.187382</td>\n",
       "      <td>26.3352</td>\n",
       "      <td>1.102459</td>\n",
       "      <td>India_Delhi</td>\n",
       "      <td>6</td>\n",
       "      <td>367.0</td>\n",
       "    </tr>\n",
       "    <tr>\n",
       "      <th>2014-12-31</th>\n",
       "      <td>12.7</td>\n",
       "      <td>28.7</td>\n",
       "      <td>7.8</td>\n",
       "      <td>137.0</td>\n",
       "      <td>202.0</td>\n",
       "      <td>6.3</td>\n",
       "      <td>60.691097</td>\n",
       "      <td>985.187382</td>\n",
       "      <td>26.3352</td>\n",
       "      <td>1.102459</td>\n",
       "      <td>India_Delhi</td>\n",
       "      <td>6</td>\n",
       "      <td>202.0</td>\n",
       "    </tr>\n",
       "    <tr>\n",
       "      <th>2015-01-01</th>\n",
       "      <td>20.8</td>\n",
       "      <td>66.5</td>\n",
       "      <td>5.2</td>\n",
       "      <td>230.0</td>\n",
       "      <td>382.0</td>\n",
       "      <td>9.9</td>\n",
       "      <td>60.691097</td>\n",
       "      <td>985.187382</td>\n",
       "      <td>26.3352</td>\n",
       "      <td>1.102459</td>\n",
       "      <td>India_Delhi</td>\n",
       "      <td>6</td>\n",
       "      <td>382.0</td>\n",
       "    </tr>\n",
       "    <tr>\n",
       "      <th>2015-01-02</th>\n",
       "      <td>12.7</td>\n",
       "      <td>33.9</td>\n",
       "      <td>6.0</td>\n",
       "      <td>81.0</td>\n",
       "      <td>172.0</td>\n",
       "      <td>4.2</td>\n",
       "      <td>60.691097</td>\n",
       "      <td>985.187382</td>\n",
       "      <td>26.3352</td>\n",
       "      <td>1.102459</td>\n",
       "      <td>India_Delhi</td>\n",
       "      <td>6</td>\n",
       "      <td>172.0</td>\n",
       "    </tr>\n",
       "  </tbody>\n",
       "</table>\n",
       "</div>"
      ],
      "text/plain": [
       "              co   no2   o3   pm10   pm25  so2   humidity    pressure  \\\n",
       "2014-12-29  14.1  36.2  3.2  218.0  307.0  4.2  60.691097  985.187382   \n",
       "2014-12-30  20.4  36.8  4.8  330.0  367.0  5.8  60.691097  985.187382   \n",
       "2014-12-31  12.7  28.7  7.8  137.0  202.0  6.3  60.691097  985.187382   \n",
       "2015-01-01  20.8  66.5  5.2  230.0  382.0  9.9  60.691097  985.187382   \n",
       "2015-01-02  12.7  33.9  6.0   81.0  172.0  4.2  60.691097  985.187382   \n",
       "\n",
       "            temperature  wind-speed Country_City  Checks    AQI  \n",
       "2014-12-29      26.3352    1.102459  India_Delhi       6  307.0  \n",
       "2014-12-30      26.3352    1.102459  India_Delhi       6  367.0  \n",
       "2014-12-31      26.3352    1.102459  India_Delhi       6  202.0  \n",
       "2015-01-01      26.3352    1.102459  India_Delhi       6  382.0  \n",
       "2015-01-02      26.3352    1.102459  India_Delhi       6  172.0  "
      ]
     },
     "execution_count": 17,
     "metadata": {},
     "output_type": "execute_result"
    }
   ],
   "source": [
    "new_data4.head()"
   ]
  },
  {
   "cell_type": "code",
   "execution_count": 18,
   "id": "80be9025",
   "metadata": {
    "execution": {
     "iopub.execute_input": "2025-01-27T22:00:26.278841Z",
     "iopub.status.busy": "2025-01-27T22:00:26.278512Z",
     "iopub.status.idle": "2025-01-27T22:00:26.284015Z",
     "shell.execute_reply": "2025-01-27T22:00:26.283042Z"
    },
    "papermill": {
     "duration": 0.022372,
     "end_time": "2025-01-27T22:00:26.285633",
     "exception": false,
     "start_time": "2025-01-27T22:00:26.263261",
     "status": "completed"
    },
    "tags": []
   },
   "outputs": [
    {
     "data": {
      "text/plain": [
       "(3199, 13)"
      ]
     },
     "execution_count": 18,
     "metadata": {},
     "output_type": "execute_result"
    }
   ],
   "source": [
    "new_data4.shape"
   ]
  },
  {
   "cell_type": "markdown",
   "id": "b30cd1fb",
   "metadata": {
    "papermill": {
     "duration": 0.013946,
     "end_time": "2025-01-27T22:00:26.313767",
     "exception": false,
     "start_time": "2025-01-27T22:00:26.299821",
     "status": "completed"
    },
    "tags": []
   },
   "source": [
    " After Normal AQI count Smoothing AQI(IQR, Z-score, Rolling)"
   ]
  },
  {
   "cell_type": "code",
   "execution_count": 19,
   "id": "f3a0257f",
   "metadata": {
    "execution": {
     "iopub.execute_input": "2025-01-27T22:00:26.343834Z",
     "iopub.status.busy": "2025-01-27T22:00:26.343494Z",
     "iopub.status.idle": "2025-01-27T22:00:26.363694Z",
     "shell.execute_reply": "2025-01-27T22:00:26.360534Z"
    },
    "papermill": {
     "duration": 0.039321,
     "end_time": "2025-01-27T22:00:26.367496",
     "exception": false,
     "start_time": "2025-01-27T22:00:26.328175",
     "status": "completed"
    },
    "tags": []
   },
   "outputs": [],
   "source": [
    "# Apply the outlier handling function to the 'AQI' column only\n",
    "new_data4['AQI_smoothed_iqr'] = fn.handle_aqi_outliers(new_data4['AQI'], method='iqr')\n",
    "new_data4['AQI_smoothed_zscore'] = fn.handle_aqi_outliers(new_data4['AQI'], method='zscore')\n",
    "new_data4['AQI_smoothed_rolling'] = fn.handle_aqi_outliers(new_data4['AQI'], method='rolling')"
   ]
  },
  {
   "cell_type": "code",
   "execution_count": 20,
   "id": "c3f1bcc1",
   "metadata": {
    "execution": {
     "iopub.execute_input": "2025-01-27T22:00:26.411598Z",
     "iopub.status.busy": "2025-01-27T22:00:26.411168Z",
     "iopub.status.idle": "2025-01-27T22:00:26.430960Z",
     "shell.execute_reply": "2025-01-27T22:00:26.429976Z"
    },
    "papermill": {
     "duration": 0.046751,
     "end_time": "2025-01-27T22:00:26.432516",
     "exception": false,
     "start_time": "2025-01-27T22:00:26.385765",
     "status": "completed"
    },
    "tags": []
   },
   "outputs": [
    {
     "data": {
      "text/html": [
       "<div>\n",
       "<style scoped>\n",
       "    .dataframe tbody tr th:only-of-type {\n",
       "        vertical-align: middle;\n",
       "    }\n",
       "\n",
       "    .dataframe tbody tr th {\n",
       "        vertical-align: top;\n",
       "    }\n",
       "\n",
       "    .dataframe thead th {\n",
       "        text-align: right;\n",
       "    }\n",
       "</style>\n",
       "<table border=\"1\" class=\"dataframe\">\n",
       "  <thead>\n",
       "    <tr style=\"text-align: right;\">\n",
       "      <th></th>\n",
       "      <th>co</th>\n",
       "      <th>no2</th>\n",
       "      <th>o3</th>\n",
       "      <th>pm10</th>\n",
       "      <th>pm25</th>\n",
       "      <th>so2</th>\n",
       "      <th>humidity</th>\n",
       "      <th>pressure</th>\n",
       "      <th>temperature</th>\n",
       "      <th>wind-speed</th>\n",
       "      <th>Country_City</th>\n",
       "      <th>Checks</th>\n",
       "      <th>AQI</th>\n",
       "      <th>AQI_smoothed_iqr</th>\n",
       "      <th>AQI_smoothed_zscore</th>\n",
       "      <th>AQI_smoothed_rolling</th>\n",
       "    </tr>\n",
       "  </thead>\n",
       "  <tbody>\n",
       "    <tr>\n",
       "      <th>2014-12-29</th>\n",
       "      <td>14.1</td>\n",
       "      <td>36.2</td>\n",
       "      <td>3.2</td>\n",
       "      <td>218.0</td>\n",
       "      <td>307.0</td>\n",
       "      <td>4.2</td>\n",
       "      <td>60.691097</td>\n",
       "      <td>985.187382</td>\n",
       "      <td>26.3352</td>\n",
       "      <td>1.102459</td>\n",
       "      <td>India_Delhi</td>\n",
       "      <td>6</td>\n",
       "      <td>307.0</td>\n",
       "      <td>307.0</td>\n",
       "      <td>307.0</td>\n",
       "      <td>307.0</td>\n",
       "    </tr>\n",
       "    <tr>\n",
       "      <th>2014-12-30</th>\n",
       "      <td>20.4</td>\n",
       "      <td>36.8</td>\n",
       "      <td>4.8</td>\n",
       "      <td>330.0</td>\n",
       "      <td>367.0</td>\n",
       "      <td>5.8</td>\n",
       "      <td>60.691097</td>\n",
       "      <td>985.187382</td>\n",
       "      <td>26.3352</td>\n",
       "      <td>1.102459</td>\n",
       "      <td>India_Delhi</td>\n",
       "      <td>6</td>\n",
       "      <td>367.0</td>\n",
       "      <td>367.0</td>\n",
       "      <td>367.0</td>\n",
       "      <td>367.0</td>\n",
       "    </tr>\n",
       "    <tr>\n",
       "      <th>2014-12-31</th>\n",
       "      <td>12.7</td>\n",
       "      <td>28.7</td>\n",
       "      <td>7.8</td>\n",
       "      <td>137.0</td>\n",
       "      <td>202.0</td>\n",
       "      <td>6.3</td>\n",
       "      <td>60.691097</td>\n",
       "      <td>985.187382</td>\n",
       "      <td>26.3352</td>\n",
       "      <td>1.102459</td>\n",
       "      <td>India_Delhi</td>\n",
       "      <td>6</td>\n",
       "      <td>202.0</td>\n",
       "      <td>202.0</td>\n",
       "      <td>202.0</td>\n",
       "      <td>202.0</td>\n",
       "    </tr>\n",
       "    <tr>\n",
       "      <th>2015-01-01</th>\n",
       "      <td>20.8</td>\n",
       "      <td>66.5</td>\n",
       "      <td>5.2</td>\n",
       "      <td>230.0</td>\n",
       "      <td>382.0</td>\n",
       "      <td>9.9</td>\n",
       "      <td>60.691097</td>\n",
       "      <td>985.187382</td>\n",
       "      <td>26.3352</td>\n",
       "      <td>1.102459</td>\n",
       "      <td>India_Delhi</td>\n",
       "      <td>6</td>\n",
       "      <td>382.0</td>\n",
       "      <td>382.0</td>\n",
       "      <td>158.0</td>\n",
       "      <td>382.0</td>\n",
       "    </tr>\n",
       "    <tr>\n",
       "      <th>2015-01-02</th>\n",
       "      <td>12.7</td>\n",
       "      <td>33.9</td>\n",
       "      <td>6.0</td>\n",
       "      <td>81.0</td>\n",
       "      <td>172.0</td>\n",
       "      <td>4.2</td>\n",
       "      <td>60.691097</td>\n",
       "      <td>985.187382</td>\n",
       "      <td>26.3352</td>\n",
       "      <td>1.102459</td>\n",
       "      <td>India_Delhi</td>\n",
       "      <td>6</td>\n",
       "      <td>172.0</td>\n",
       "      <td>172.0</td>\n",
       "      <td>172.0</td>\n",
       "      <td>172.0</td>\n",
       "    </tr>\n",
       "  </tbody>\n",
       "</table>\n",
       "</div>"
      ],
      "text/plain": [
       "              co   no2   o3   pm10   pm25  so2   humidity    pressure  \\\n",
       "2014-12-29  14.1  36.2  3.2  218.0  307.0  4.2  60.691097  985.187382   \n",
       "2014-12-30  20.4  36.8  4.8  330.0  367.0  5.8  60.691097  985.187382   \n",
       "2014-12-31  12.7  28.7  7.8  137.0  202.0  6.3  60.691097  985.187382   \n",
       "2015-01-01  20.8  66.5  5.2  230.0  382.0  9.9  60.691097  985.187382   \n",
       "2015-01-02  12.7  33.9  6.0   81.0  172.0  4.2  60.691097  985.187382   \n",
       "\n",
       "            temperature  wind-speed Country_City  Checks    AQI  \\\n",
       "2014-12-29      26.3352    1.102459  India_Delhi       6  307.0   \n",
       "2014-12-30      26.3352    1.102459  India_Delhi       6  367.0   \n",
       "2014-12-31      26.3352    1.102459  India_Delhi       6  202.0   \n",
       "2015-01-01      26.3352    1.102459  India_Delhi       6  382.0   \n",
       "2015-01-02      26.3352    1.102459  India_Delhi       6  172.0   \n",
       "\n",
       "            AQI_smoothed_iqr  AQI_smoothed_zscore  AQI_smoothed_rolling  \n",
       "2014-12-29             307.0                307.0                 307.0  \n",
       "2014-12-30             367.0                367.0                 367.0  \n",
       "2014-12-31             202.0                202.0                 202.0  \n",
       "2015-01-01             382.0                158.0                 382.0  \n",
       "2015-01-02             172.0                172.0                 172.0  "
      ]
     },
     "execution_count": 20,
     "metadata": {},
     "output_type": "execute_result"
    }
   ],
   "source": [
    "new_data4.head()"
   ]
  },
  {
   "cell_type": "markdown",
   "id": "81a7575d",
   "metadata": {
    "papermill": {
     "duration": 0.014522,
     "end_time": "2025-01-27T22:00:26.461949",
     "exception": false,
     "start_time": "2025-01-27T22:00:26.447427",
     "status": "completed"
    },
    "tags": []
   },
   "source": [
    "(Preprocess Pollution --> Smooth Pollution --> Calculate smooth aqi)"
   ]
  },
  {
   "cell_type": "code",
   "execution_count": 21,
   "id": "a735b542",
   "metadata": {
    "execution": {
     "iopub.execute_input": "2025-01-27T22:00:26.492317Z",
     "iopub.status.busy": "2025-01-27T22:00:26.491834Z",
     "iopub.status.idle": "2025-01-27T22:00:26.536383Z",
     "shell.execute_reply": "2025-01-27T22:00:26.535382Z"
    },
    "papermill": {
     "duration": 0.062074,
     "end_time": "2025-01-27T22:00:26.538440",
     "exception": false,
     "start_time": "2025-01-27T22:00:26.476366",
     "status": "completed"
    },
    "tags": []
   },
   "outputs": [
    {
     "data": {
      "text/html": [
       "<div>\n",
       "<style scoped>\n",
       "    .dataframe tbody tr th:only-of-type {\n",
       "        vertical-align: middle;\n",
       "    }\n",
       "\n",
       "    .dataframe tbody tr th {\n",
       "        vertical-align: top;\n",
       "    }\n",
       "\n",
       "    .dataframe thead th {\n",
       "        text-align: right;\n",
       "    }\n",
       "</style>\n",
       "<table border=\"1\" class=\"dataframe\">\n",
       "  <thead>\n",
       "    <tr style=\"text-align: right;\">\n",
       "      <th></th>\n",
       "      <th>co</th>\n",
       "      <th>no2</th>\n",
       "      <th>o3</th>\n",
       "      <th>pm10</th>\n",
       "      <th>pm25</th>\n",
       "      <th>so2</th>\n",
       "      <th>humidity</th>\n",
       "      <th>pressure</th>\n",
       "      <th>temperature</th>\n",
       "      <th>wind-speed</th>\n",
       "      <th>Country_City</th>\n",
       "      <th>AQI_Smooth</th>\n",
       "    </tr>\n",
       "  </thead>\n",
       "  <tbody>\n",
       "    <tr>\n",
       "      <th>2014-12-29</th>\n",
       "      <td>11.50</td>\n",
       "      <td>29.400000</td>\n",
       "      <td>5.366667</td>\n",
       "      <td>182.333333</td>\n",
       "      <td>195.666667</td>\n",
       "      <td>6.000000</td>\n",
       "      <td>60.691097</td>\n",
       "      <td>985.187382</td>\n",
       "      <td>26.3352</td>\n",
       "      <td>1.102459</td>\n",
       "      <td>India_Delhi</td>\n",
       "      <td>195.666667</td>\n",
       "    </tr>\n",
       "    <tr>\n",
       "      <th>2014-12-30</th>\n",
       "      <td>11.50</td>\n",
       "      <td>29.400000</td>\n",
       "      <td>5.366667</td>\n",
       "      <td>182.333333</td>\n",
       "      <td>195.666667</td>\n",
       "      <td>6.000000</td>\n",
       "      <td>60.691097</td>\n",
       "      <td>985.187382</td>\n",
       "      <td>26.3352</td>\n",
       "      <td>1.102459</td>\n",
       "      <td>India_Delhi</td>\n",
       "      <td>195.666667</td>\n",
       "    </tr>\n",
       "    <tr>\n",
       "      <th>2014-12-31</th>\n",
       "      <td>11.50</td>\n",
       "      <td>29.400000</td>\n",
       "      <td>5.366667</td>\n",
       "      <td>182.333333</td>\n",
       "      <td>195.666667</td>\n",
       "      <td>6.000000</td>\n",
       "      <td>60.691097</td>\n",
       "      <td>985.187382</td>\n",
       "      <td>26.3352</td>\n",
       "      <td>1.102459</td>\n",
       "      <td>India_Delhi</td>\n",
       "      <td>195.666667</td>\n",
       "    </tr>\n",
       "    <tr>\n",
       "      <th>2015-01-01</th>\n",
       "      <td>11.50</td>\n",
       "      <td>29.400000</td>\n",
       "      <td>5.366667</td>\n",
       "      <td>182.333333</td>\n",
       "      <td>195.666667</td>\n",
       "      <td>6.000000</td>\n",
       "      <td>60.691097</td>\n",
       "      <td>985.187382</td>\n",
       "      <td>26.3352</td>\n",
       "      <td>1.102459</td>\n",
       "      <td>India_Delhi</td>\n",
       "      <td>195.666667</td>\n",
       "    </tr>\n",
       "    <tr>\n",
       "      <th>2015-01-02</th>\n",
       "      <td>11.25</td>\n",
       "      <td>26.616667</td>\n",
       "      <td>5.816667</td>\n",
       "      <td>166.000000</td>\n",
       "      <td>177.000000</td>\n",
       "      <td>5.733333</td>\n",
       "      <td>60.691097</td>\n",
       "      <td>985.187382</td>\n",
       "      <td>26.3352</td>\n",
       "      <td>1.102459</td>\n",
       "      <td>India_Delhi</td>\n",
       "      <td>177.000000</td>\n",
       "    </tr>\n",
       "  </tbody>\n",
       "</table>\n",
       "</div>"
      ],
      "text/plain": [
       "               co        no2        o3        pm10        pm25       so2  \\\n",
       "2014-12-29  11.50  29.400000  5.366667  182.333333  195.666667  6.000000   \n",
       "2014-12-30  11.50  29.400000  5.366667  182.333333  195.666667  6.000000   \n",
       "2014-12-31  11.50  29.400000  5.366667  182.333333  195.666667  6.000000   \n",
       "2015-01-01  11.50  29.400000  5.366667  182.333333  195.666667  6.000000   \n",
       "2015-01-02  11.25  26.616667  5.816667  166.000000  177.000000  5.733333   \n",
       "\n",
       "             humidity    pressure  temperature  wind-speed Country_City  \\\n",
       "2014-12-29  60.691097  985.187382      26.3352    1.102459  India_Delhi   \n",
       "2014-12-30  60.691097  985.187382      26.3352    1.102459  India_Delhi   \n",
       "2014-12-31  60.691097  985.187382      26.3352    1.102459  India_Delhi   \n",
       "2015-01-01  60.691097  985.187382      26.3352    1.102459  India_Delhi   \n",
       "2015-01-02  60.691097  985.187382      26.3352    1.102459  India_Delhi   \n",
       "\n",
       "            AQI_Smooth  \n",
       "2014-12-29  195.666667  \n",
       "2014-12-30  195.666667  \n",
       "2014-12-31  195.666667  \n",
       "2015-01-01  195.666667  \n",
       "2015-01-02  177.000000  "
      ]
     },
     "execution_count": 21,
     "metadata": {},
     "output_type": "execute_result"
    }
   ],
   "source": [
    "new_smooth = fn.calculate_smooth_aqi(new_data3, columns=['co', 'no2', 'o3', 'pm10', 'pm25', 'so2'])\n",
    "new_smooth.head()"
   ]
  },
  {
   "cell_type": "markdown",
   "id": "4a7a8c8f",
   "metadata": {
    "papermill": {
     "duration": 0.021792,
     "end_time": "2025-01-27T22:00:26.581417",
     "exception": false,
     "start_time": "2025-01-27T22:00:26.559625",
     "status": "completed"
    },
    "tags": []
   },
   "source": [
    "**AQI (normal, smooth_iqr, smooth_zscore, smooth_rolling, smooth)**"
   ]
  },
  {
   "cell_type": "code",
   "execution_count": 22,
   "id": "19ff63b0",
   "metadata": {
    "execution": {
     "iopub.execute_input": "2025-01-27T22:00:26.614371Z",
     "iopub.status.busy": "2025-01-27T22:00:26.613811Z",
     "iopub.status.idle": "2025-01-27T22:00:27.212984Z",
     "shell.execute_reply": "2025-01-27T22:00:27.211992Z"
    },
    "papermill": {
     "duration": 0.618818,
     "end_time": "2025-01-27T22:00:27.214990",
     "exception": false,
     "start_time": "2025-01-27T22:00:26.596172",
     "status": "completed"
    },
    "tags": []
   },
   "outputs": [
    {
     "data": {
      "text/plain": [
       "<Axes: >"
      ]
     },
     "execution_count": 22,
     "metadata": {},
     "output_type": "execute_result"
    },
    {
     "data": {
      "image/png": "[encoded data removed]",
      "text/plain": [
       "<Figure size 640x480 with 1 Axes>"
      ]
     },
     "metadata": {},
     "output_type": "display_data"
    }
   ],
   "source": [
    "#normal\n",
    "aqi_normal = new_data4['AQI']\n",
    "aqi_normal.plot()"
   ]
  },
  {
   "cell_type": "code",
   "execution_count": 23,
   "id": "2468de5a",
   "metadata": {
    "execution": {
     "iopub.execute_input": "2025-01-27T22:00:27.254951Z",
     "iopub.status.busy": "2025-01-27T22:00:27.254666Z",
     "iopub.status.idle": "2025-01-27T22:00:27.789435Z",
     "shell.execute_reply": "2025-01-27T22:00:27.788526Z"
    },
    "papermill": {
     "duration": 0.551913,
     "end_time": "2025-01-27T22:00:27.791392",
     "exception": false,
     "start_time": "2025-01-27T22:00:27.239479",
     "status": "completed"
    },
    "tags": []
   },
   "outputs": [
    {
     "data": {
      "text/plain": [
       "<Axes: >"
      ]
     },
     "execution_count": 23,
     "metadata": {},
     "output_type": "execute_result"
    },
    {
     "data": {
      "image/png": "[encoded data removed]",
      "text/plain": [
       "<Figure size 640x480 with 1 Axes>"
      ]
     },
     "metadata": {},
     "output_type": "display_data"
    }
   ],
   "source": [
    "#smooth_iqr\n",
    "aqi_smooth_iqr = new_data4['AQI_smoothed_iqr']\n",
    "aqi_smooth_iqr.plot()"
   ]
  },
  {
   "cell_type": "code",
   "execution_count": 24,
   "id": "b79bc780",
   "metadata": {
    "execution": {
     "iopub.execute_input": "2025-01-27T22:00:27.830101Z",
     "iopub.status.busy": "2025-01-27T22:00:27.829783Z",
     "iopub.status.idle": "2025-01-27T22:00:28.286331Z",
     "shell.execute_reply": "2025-01-27T22:00:28.285294Z"
    },
    "papermill": {
     "duration": 0.477181,
     "end_time": "2025-01-27T22:00:28.287918",
     "exception": false,
     "start_time": "2025-01-27T22:00:27.810737",
     "status": "completed"
    },
    "tags": []
   },
   "outputs": [
    {
     "data": {
      "text/plain": [
       "<Axes: >"
      ]
     },
     "execution_count": 24,
     "metadata": {},
     "output_type": "execute_result"
    },
    {
     "data": {
      "image/png": "[encoded data removed]",
      "text/plain": [
       "<Figure size 640x480 with 1 Axes>"
      ]
     },
     "metadata": {},
     "output_type": "display_data"
    }
   ],
   "source": [
    "#smooth_zscore\n",
    "aqi_smooth_zscore = new_data4['AQI_smoothed_zscore']\n",
    "aqi_smooth_zscore.plot()"
   ]
  },
  {
   "cell_type": "code",
   "execution_count": 25,
   "id": "caf4dd17",
   "metadata": {
    "execution": {
     "iopub.execute_input": "2025-01-27T22:00:28.364857Z",
     "iopub.status.busy": "2025-01-27T22:00:28.364535Z",
     "iopub.status.idle": "2025-01-27T22:00:28.795971Z",
     "shell.execute_reply": "2025-01-27T22:00:28.794955Z"
    },
    "papermill": {
     "duration": 0.493061,
     "end_time": "2025-01-27T22:00:28.797633",
     "exception": false,
     "start_time": "2025-01-27T22:00:28.304572",
     "status": "completed"
    },
    "tags": []
   },
   "outputs": [
    {
     "data": {
      "text/plain": [
       "<Axes: >"
      ]
     },
     "execution_count": 25,
     "metadata": {},
     "output_type": "execute_result"
    },
    {
     "data": {
      "image/png": "[encoded data removed]",
      "text/plain": [
       "<Figure size 640x480 with 1 Axes>"
      ]
     },
     "metadata": {},
     "output_type": "display_data"
    }
   ],
   "source": [
    "#smooth_rolling\n",
    "aqi_smooth_rolling = new_data4['AQI_smoothed_rolling']\n",
    "aqi_smooth_rolling.plot()"
   ]
  },
  {
   "cell_type": "code",
   "execution_count": 26,
   "id": "665b69b7",
   "metadata": {
    "execution": {
     "iopub.execute_input": "2025-01-27T22:00:28.834643Z",
     "iopub.status.busy": "2025-01-27T22:00:28.834357Z",
     "iopub.status.idle": "2025-01-27T22:00:29.313255Z",
     "shell.execute_reply": "2025-01-27T22:00:29.312305Z"
    },
    "papermill": {
     "duration": 0.499432,
     "end_time": "2025-01-27T22:00:29.315105",
     "exception": false,
     "start_time": "2025-01-27T22:00:28.815673",
     "status": "completed"
    },
    "tags": []
   },
   "outputs": [
    {
     "data": {
      "text/plain": [
       "<Axes: >"
      ]
     },
     "execution_count": 26,
     "metadata": {},
     "output_type": "execute_result"
    },
    {
     "data": {
      "image/png": "[encoded data removed]",
      "text/plain": [
       "<Figure size 640x480 with 1 Axes>"
      ]
     },
     "metadata": {},
     "output_type": "display_data"
    }
   ],
   "source": [
    "#smooth\n",
    "aqi_smooth = new_smooth['AQI_Smooth']\n",
    "aqi_smooth.plot()"
   ]
  },
  {
   "cell_type": "code",
   "execution_count": null,
   "id": "eba2a084",
   "metadata": {
    "papermill": {
     "duration": 0.017861,
     "end_time": "2025-01-27T22:00:29.351725",
     "exception": false,
     "start_time": "2025-01-27T22:00:29.333864",
     "status": "completed"
    },
    "tags": []
   },
   "outputs": [],
   "source": []
  },
  {
   "cell_type": "markdown",
   "id": "f761c53a",
   "metadata": {
    "papermill": {
     "duration": 0.020472,
     "end_time": "2025-01-27T22:00:29.389871",
     "exception": false,
     "start_time": "2025-01-27T22:00:29.369399",
     "status": "completed"
    },
    "tags": []
   },
   "source": [
    "# **2. Split and Preprocess**"
   ]
  },
  {
   "cell_type": "markdown",
   "id": "b4cd74d3",
   "metadata": {
    "papermill": {
     "duration": 0.02235,
     "end_time": "2025-01-27T22:00:29.437092",
     "exception": false,
     "start_time": "2025-01-27T22:00:29.414742",
     "status": "completed"
    },
    "tags": []
   },
   "source": [
    "## **2.1. Splitting & Preprocessing the Raw Data(Normal AQI)**"
   ]
  },
  {
   "cell_type": "markdown",
   "id": "bd2b74ed",
   "metadata": {
    "papermill": {
     "duration": 0.017655,
     "end_time": "2025-01-27T22:00:29.473002",
     "exception": false,
     "start_time": "2025-01-27T22:00:29.455347",
     "status": "completed"
    },
    "tags": []
   },
   "source": [
    "Normal AQI"
   ]
  },
  {
   "cell_type": "code",
   "execution_count": 27,
   "id": "2906acad",
   "metadata": {
    "execution": {
     "iopub.execute_input": "2025-01-27T22:00:29.510237Z",
     "iopub.status.busy": "2025-01-27T22:00:29.509886Z",
     "iopub.status.idle": "2025-01-27T22:00:29.531843Z",
     "shell.execute_reply": "2025-01-27T22:00:29.530831Z"
    },
    "papermill": {
     "duration": 0.042137,
     "end_time": "2025-01-27T22:00:29.533308",
     "exception": false,
     "start_time": "2025-01-27T22:00:29.491171",
     "status": "completed"
    },
    "tags": []
   },
   "outputs": [
    {
     "data": {
      "text/html": [
       "<div>\n",
       "<style scoped>\n",
       "    .dataframe tbody tr th:only-of-type {\n",
       "        vertical-align: middle;\n",
       "    }\n",
       "\n",
       "    .dataframe tbody tr th {\n",
       "        vertical-align: top;\n",
       "    }\n",
       "\n",
       "    .dataframe thead th {\n",
       "        text-align: right;\n",
       "    }\n",
       "</style>\n",
       "<table border=\"1\" class=\"dataframe\">\n",
       "  <thead>\n",
       "    <tr style=\"text-align: right;\">\n",
       "      <th></th>\n",
       "      <th>co</th>\n",
       "      <th>no2</th>\n",
       "      <th>o3</th>\n",
       "      <th>pm10</th>\n",
       "      <th>pm25</th>\n",
       "      <th>so2</th>\n",
       "      <th>humidity</th>\n",
       "      <th>pressure</th>\n",
       "      <th>temperature</th>\n",
       "      <th>wind-speed</th>\n",
       "      <th>Country_City</th>\n",
       "      <th>Checks</th>\n",
       "      <th>AQI</th>\n",
       "      <th>AQI_smoothed_iqr</th>\n",
       "      <th>AQI_smoothed_zscore</th>\n",
       "      <th>AQI_smoothed_rolling</th>\n",
       "    </tr>\n",
       "  </thead>\n",
       "  <tbody>\n",
       "    <tr>\n",
       "      <th>2014-12-29</th>\n",
       "      <td>14.1</td>\n",
       "      <td>36.2</td>\n",
       "      <td>3.2</td>\n",
       "      <td>218.0</td>\n",
       "      <td>307.0</td>\n",
       "      <td>4.2</td>\n",
       "      <td>60.691097</td>\n",
       "      <td>985.187382</td>\n",
       "      <td>26.3352</td>\n",
       "      <td>1.102459</td>\n",
       "      <td>India_Delhi</td>\n",
       "      <td>6</td>\n",
       "      <td>307.0</td>\n",
       "      <td>307.0</td>\n",
       "      <td>307.0</td>\n",
       "      <td>307.0</td>\n",
       "    </tr>\n",
       "    <tr>\n",
       "      <th>2014-12-30</th>\n",
       "      <td>20.4</td>\n",
       "      <td>36.8</td>\n",
       "      <td>4.8</td>\n",
       "      <td>330.0</td>\n",
       "      <td>367.0</td>\n",
       "      <td>5.8</td>\n",
       "      <td>60.691097</td>\n",
       "      <td>985.187382</td>\n",
       "      <td>26.3352</td>\n",
       "      <td>1.102459</td>\n",
       "      <td>India_Delhi</td>\n",
       "      <td>6</td>\n",
       "      <td>367.0</td>\n",
       "      <td>367.0</td>\n",
       "      <td>367.0</td>\n",
       "      <td>367.0</td>\n",
       "    </tr>\n",
       "    <tr>\n",
       "      <th>2014-12-31</th>\n",
       "      <td>12.7</td>\n",
       "      <td>28.7</td>\n",
       "      <td>7.8</td>\n",
       "      <td>137.0</td>\n",
       "      <td>202.0</td>\n",
       "      <td>6.3</td>\n",
       "      <td>60.691097</td>\n",
       "      <td>985.187382</td>\n",
       "      <td>26.3352</td>\n",
       "      <td>1.102459</td>\n",
       "      <td>India_Delhi</td>\n",
       "      <td>6</td>\n",
       "      <td>202.0</td>\n",
       "      <td>202.0</td>\n",
       "      <td>202.0</td>\n",
       "      <td>202.0</td>\n",
       "    </tr>\n",
       "    <tr>\n",
       "      <th>2015-01-01</th>\n",
       "      <td>20.8</td>\n",
       "      <td>66.5</td>\n",
       "      <td>5.2</td>\n",
       "      <td>230.0</td>\n",
       "      <td>382.0</td>\n",
       "      <td>9.9</td>\n",
       "      <td>60.691097</td>\n",
       "      <td>985.187382</td>\n",
       "      <td>26.3352</td>\n",
       "      <td>1.102459</td>\n",
       "      <td>India_Delhi</td>\n",
       "      <td>6</td>\n",
       "      <td>382.0</td>\n",
       "      <td>382.0</td>\n",
       "      <td>158.0</td>\n",
       "      <td>382.0</td>\n",
       "    </tr>\n",
       "    <tr>\n",
       "      <th>2015-01-02</th>\n",
       "      <td>12.7</td>\n",
       "      <td>33.9</td>\n",
       "      <td>6.0</td>\n",
       "      <td>81.0</td>\n",
       "      <td>172.0</td>\n",
       "      <td>4.2</td>\n",
       "      <td>60.691097</td>\n",
       "      <td>985.187382</td>\n",
       "      <td>26.3352</td>\n",
       "      <td>1.102459</td>\n",
       "      <td>India_Delhi</td>\n",
       "      <td>6</td>\n",
       "      <td>172.0</td>\n",
       "      <td>172.0</td>\n",
       "      <td>172.0</td>\n",
       "      <td>172.0</td>\n",
       "    </tr>\n",
       "    <tr>\n",
       "      <th>2015-01-03</th>\n",
       "      <td>14.3</td>\n",
       "      <td>27.8</td>\n",
       "      <td>5.2</td>\n",
       "      <td>98.0</td>\n",
       "      <td>179.0</td>\n",
       "      <td>5.6</td>\n",
       "      <td>60.691097</td>\n",
       "      <td>985.187382</td>\n",
       "      <td>26.3352</td>\n",
       "      <td>1.102459</td>\n",
       "      <td>India_Delhi</td>\n",
       "      <td>6</td>\n",
       "      <td>179.0</td>\n",
       "      <td>179.0</td>\n",
       "      <td>179.0</td>\n",
       "      <td>179.0</td>\n",
       "    </tr>\n",
       "    <tr>\n",
       "      <th>2015-01-04</th>\n",
       "      <td>12.6</td>\n",
       "      <td>19.5</td>\n",
       "      <td>5.9</td>\n",
       "      <td>120.0</td>\n",
       "      <td>195.0</td>\n",
       "      <td>2.6</td>\n",
       "      <td>60.691097</td>\n",
       "      <td>985.187382</td>\n",
       "      <td>26.3352</td>\n",
       "      <td>1.102459</td>\n",
       "      <td>India_Delhi</td>\n",
       "      <td>6</td>\n",
       "      <td>195.0</td>\n",
       "      <td>195.0</td>\n",
       "      <td>195.0</td>\n",
       "      <td>195.0</td>\n",
       "    </tr>\n",
       "    <tr>\n",
       "      <th>2015-01-05</th>\n",
       "      <td>13.1</td>\n",
       "      <td>19.1</td>\n",
       "      <td>8.4</td>\n",
       "      <td>114.0</td>\n",
       "      <td>185.0</td>\n",
       "      <td>2.5</td>\n",
       "      <td>60.691097</td>\n",
       "      <td>985.187382</td>\n",
       "      <td>26.3352</td>\n",
       "      <td>1.102459</td>\n",
       "      <td>India_Delhi</td>\n",
       "      <td>6</td>\n",
       "      <td>185.0</td>\n",
       "      <td>185.0</td>\n",
       "      <td>185.0</td>\n",
       "      <td>185.0</td>\n",
       "    </tr>\n",
       "  </tbody>\n",
       "</table>\n",
       "</div>"
      ],
      "text/plain": [
       "              co   no2   o3   pm10   pm25  so2   humidity    pressure  \\\n",
       "2014-12-29  14.1  36.2  3.2  218.0  307.0  4.2  60.691097  985.187382   \n",
       "2014-12-30  20.4  36.8  4.8  330.0  367.0  5.8  60.691097  985.187382   \n",
       "2014-12-31  12.7  28.7  7.8  137.0  202.0  6.3  60.691097  985.187382   \n",
       "2015-01-01  20.8  66.5  5.2  230.0  382.0  9.9  60.691097  985.187382   \n",
       "2015-01-02  12.7  33.9  6.0   81.0  172.0  4.2  60.691097  985.187382   \n",
       "2015-01-03  14.3  27.8  5.2   98.0  179.0  5.6  60.691097  985.187382   \n",
       "2015-01-04  12.6  19.5  5.9  120.0  195.0  2.6  60.691097  985.187382   \n",
       "2015-01-05  13.1  19.1  8.4  114.0  185.0  2.5  60.691097  985.187382   \n",
       "\n",
       "            temperature  wind-speed Country_City  Checks    AQI  \\\n",
       "2014-12-29      26.3352    1.102459  India_Delhi       6  307.0   \n",
       "2014-12-30      26.3352    1.102459  India_Delhi       6  367.0   \n",
       "2014-12-31      26.3352    1.102459  India_Delhi       6  202.0   \n",
       "2015-01-01      26.3352    1.102459  India_Delhi       6  382.0   \n",
       "2015-01-02      26.3352    1.102459  India_Delhi       6  172.0   \n",
       "2015-01-03      26.3352    1.102459  India_Delhi       6  179.0   \n",
       "2015-01-04      26.3352    1.102459  India_Delhi       6  195.0   \n",
       "2015-01-05      26.3352    1.102459  India_Delhi       6  185.0   \n",
       "\n",
       "            AQI_smoothed_iqr  AQI_smoothed_zscore  AQI_smoothed_rolling  \n",
       "2014-12-29             307.0                307.0                 307.0  \n",
       "2014-12-30             367.0                367.0                 367.0  \n",
       "2014-12-31             202.0                202.0                 202.0  \n",
       "2015-01-01             382.0                158.0                 382.0  \n",
       "2015-01-02             172.0                172.0                 172.0  \n",
       "2015-01-03             179.0                179.0                 179.0  \n",
       "2015-01-04             195.0                195.0                 195.0  \n",
       "2015-01-05             185.0                185.0                 185.0  "
      ]
     },
     "execution_count": 27,
     "metadata": {},
     "output_type": "execute_result"
    }
   ],
   "source": [
    "new_data4.head(8)"
   ]
  },
  {
   "cell_type": "code",
   "execution_count": 28,
   "id": "b0c89f4e",
   "metadata": {
    "execution": {
     "iopub.execute_input": "2025-01-27T22:00:29.571975Z",
     "iopub.status.busy": "2025-01-27T22:00:29.571689Z",
     "iopub.status.idle": "2025-01-27T22:00:29.577256Z",
     "shell.execute_reply": "2025-01-27T22:00:29.576044Z"
    },
    "papermill": {
     "duration": 0.026141,
     "end_time": "2025-01-27T22:00:29.578689",
     "exception": false,
     "start_time": "2025-01-27T22:00:29.552548",
     "status": "completed"
    },
    "tags": []
   },
   "outputs": [
    {
     "data": {
      "text/plain": [
       "Index(['co', 'no2', 'o3', 'pm10', 'pm25', 'so2', 'humidity', 'pressure',\n",
       "       'temperature', 'wind-speed', 'Country_City', 'Checks', 'AQI',\n",
       "       'AQI_smoothed_iqr', 'AQI_smoothed_zscore', 'AQI_smoothed_rolling'],\n",
       "      dtype='object')"
      ]
     },
     "execution_count": 28,
     "metadata": {},
     "output_type": "execute_result"
    }
   ],
   "source": [
    "new_data4.columns"
   ]
  },
  {
   "cell_type": "code",
   "execution_count": 29,
   "id": "1909ba43",
   "metadata": {
    "execution": {
     "iopub.execute_input": "2025-01-27T22:00:29.616737Z",
     "iopub.status.busy": "2025-01-27T22:00:29.616456Z",
     "iopub.status.idle": "2025-01-27T22:00:29.621242Z",
     "shell.execute_reply": "2025-01-27T22:00:29.620270Z"
    },
    "papermill": {
     "duration": 0.025401,
     "end_time": "2025-01-27T22:00:29.622765",
     "exception": false,
     "start_time": "2025-01-27T22:00:29.597364",
     "status": "completed"
    },
    "tags": []
   },
   "outputs": [],
   "source": [
    "aqi_normal = new_smooth.copy()"
   ]
  },
  {
   "cell_type": "code",
   "execution_count": 30,
   "id": "8c27b199",
   "metadata": {
    "execution": {
     "iopub.execute_input": "2025-01-27T22:00:29.660538Z",
     "iopub.status.busy": "2025-01-27T22:00:29.660213Z",
     "iopub.status.idle": "2025-01-27T22:00:29.664573Z",
     "shell.execute_reply": "2025-01-27T22:00:29.663851Z"
    },
    "papermill": {
     "duration": 0.024683,
     "end_time": "2025-01-27T22:00:29.665880",
     "exception": false,
     "start_time": "2025-01-27T22:00:29.641197",
     "status": "completed"
    },
    "tags": []
   },
   "outputs": [],
   "source": [
    "aqi_normal = aqi_normal.drop([ 'humidity', 'pressure',\n",
    "       'temperature', 'wind-speed', 'Country_City'], axis = 1)"
   ]
  },
  {
   "cell_type": "code",
   "execution_count": 31,
   "id": "b89c9f61",
   "metadata": {
    "execution": {
     "iopub.execute_input": "2025-01-27T22:00:29.703305Z",
     "iopub.status.busy": "2025-01-27T22:00:29.703035Z",
     "iopub.status.idle": "2025-01-27T22:00:29.713980Z",
     "shell.execute_reply": "2025-01-27T22:00:29.713070Z"
    },
    "papermill": {
     "duration": 0.03116,
     "end_time": "2025-01-27T22:00:29.715380",
     "exception": false,
     "start_time": "2025-01-27T22:00:29.684220",
     "status": "completed"
    },
    "tags": []
   },
   "outputs": [
    {
     "data": {
      "text/html": [
       "<div>\n",
       "<style scoped>\n",
       "    .dataframe tbody tr th:only-of-type {\n",
       "        vertical-align: middle;\n",
       "    }\n",
       "\n",
       "    .dataframe tbody tr th {\n",
       "        vertical-align: top;\n",
       "    }\n",
       "\n",
       "    .dataframe thead th {\n",
       "        text-align: right;\n",
       "    }\n",
       "</style>\n",
       "<table border=\"1\" class=\"dataframe\">\n",
       "  <thead>\n",
       "    <tr style=\"text-align: right;\">\n",
       "      <th></th>\n",
       "      <th>co</th>\n",
       "      <th>no2</th>\n",
       "      <th>o3</th>\n",
       "      <th>pm10</th>\n",
       "      <th>pm25</th>\n",
       "      <th>so2</th>\n",
       "      <th>AQI_Smooth</th>\n",
       "    </tr>\n",
       "  </thead>\n",
       "  <tbody>\n",
       "    <tr>\n",
       "      <th>2014-12-29</th>\n",
       "      <td>11.50</td>\n",
       "      <td>29.400000</td>\n",
       "      <td>5.366667</td>\n",
       "      <td>182.333333</td>\n",
       "      <td>195.666667</td>\n",
       "      <td>6.000000</td>\n",
       "      <td>195.666667</td>\n",
       "    </tr>\n",
       "    <tr>\n",
       "      <th>2014-12-30</th>\n",
       "      <td>11.50</td>\n",
       "      <td>29.400000</td>\n",
       "      <td>5.366667</td>\n",
       "      <td>182.333333</td>\n",
       "      <td>195.666667</td>\n",
       "      <td>6.000000</td>\n",
       "      <td>195.666667</td>\n",
       "    </tr>\n",
       "    <tr>\n",
       "      <th>2014-12-31</th>\n",
       "      <td>11.50</td>\n",
       "      <td>29.400000</td>\n",
       "      <td>5.366667</td>\n",
       "      <td>182.333333</td>\n",
       "      <td>195.666667</td>\n",
       "      <td>6.000000</td>\n",
       "      <td>195.666667</td>\n",
       "    </tr>\n",
       "    <tr>\n",
       "      <th>2015-01-01</th>\n",
       "      <td>11.50</td>\n",
       "      <td>29.400000</td>\n",
       "      <td>5.366667</td>\n",
       "      <td>182.333333</td>\n",
       "      <td>195.666667</td>\n",
       "      <td>6.000000</td>\n",
       "      <td>195.666667</td>\n",
       "    </tr>\n",
       "    <tr>\n",
       "      <th>2015-01-02</th>\n",
       "      <td>11.25</td>\n",
       "      <td>26.616667</td>\n",
       "      <td>5.816667</td>\n",
       "      <td>166.000000</td>\n",
       "      <td>177.000000</td>\n",
       "      <td>5.733333</td>\n",
       "      <td>177.000000</td>\n",
       "    </tr>\n",
       "  </tbody>\n",
       "</table>\n",
       "</div>"
      ],
      "text/plain": [
       "               co        no2        o3        pm10        pm25       so2  \\\n",
       "2014-12-29  11.50  29.400000  5.366667  182.333333  195.666667  6.000000   \n",
       "2014-12-30  11.50  29.400000  5.366667  182.333333  195.666667  6.000000   \n",
       "2014-12-31  11.50  29.400000  5.366667  182.333333  195.666667  6.000000   \n",
       "2015-01-01  11.50  29.400000  5.366667  182.333333  195.666667  6.000000   \n",
       "2015-01-02  11.25  26.616667  5.816667  166.000000  177.000000  5.733333   \n",
       "\n",
       "            AQI_Smooth  \n",
       "2014-12-29  195.666667  \n",
       "2014-12-30  195.666667  \n",
       "2014-12-31  195.666667  \n",
       "2015-01-01  195.666667  \n",
       "2015-01-02  177.000000  "
      ]
     },
     "execution_count": 31,
     "metadata": {},
     "output_type": "execute_result"
    }
   ],
   "source": [
    "aqi_normal.head()"
   ]
  },
  {
   "cell_type": "code",
   "execution_count": 32,
   "id": "8176fd62",
   "metadata": {
    "execution": {
     "iopub.execute_input": "2025-01-27T22:00:29.753095Z",
     "iopub.status.busy": "2025-01-27T22:00:29.752815Z",
     "iopub.status.idle": "2025-01-27T22:00:29.760144Z",
     "shell.execute_reply": "2025-01-27T22:00:29.759408Z"
    },
    "papermill": {
     "duration": 0.027756,
     "end_time": "2025-01-27T22:00:29.761623",
     "exception": false,
     "start_time": "2025-01-27T22:00:29.733867",
     "status": "completed"
    },
    "tags": []
   },
   "outputs": [],
   "source": [
    "def new_data_to_X_y(new_data, window_size, train_pct, val_pct, test_pct):\n",
    "    \n",
    "    new_data_as_np = new_data.to_numpy()\n",
    "    \n",
    "    # Split features and target\n",
    "    features = new_data_as_np[:, :-1]  # All columns except the last one\n",
    "    target = new_data_as_np[:, -1]     # Only the AQI column\n",
    "    \n",
    "    # Split data based on percentages\n",
    "    total_len = len(features)\n",
    "    train_end = int(train_pct * total_len)\n",
    "    val_end = train_end + int(val_pct * total_len)\n",
    "    \n",
    "    # Prepare train, val, and test splits for both features and target\n",
    "    train_features = features[:train_end]\n",
    "    train_target = target[:train_end]\n",
    "    \n",
    "    val_features = features[train_end:val_end]\n",
    "    val_target = target[train_end:val_end]\n",
    "    \n",
    "    test_features = features[val_end:]\n",
    "    test_target = target[val_end:]\n",
    "    \n",
    "    # Helper function to create X and y\n",
    "    def create_X_y(feature_data, target_data):\n",
    "        X, y = [], []\n",
    "        for i in range(len(feature_data) - window_size):\n",
    "            # Create sequence of all features\n",
    "            sequence = feature_data[i:i + window_size]\n",
    "            X.append(sequence)\n",
    "            # Get the target AQI value\n",
    "            y.append(target_data[i + window_size])\n",
    "        return np.array(X), np.array(y)\n",
    "    \n",
    "    \n",
    "    X_train, y_train = create_X_y(train_features, train_target)\n",
    "    X_val, y_val = create_X_y(val_features, val_target)\n",
    "    X_test, y_test = create_X_y(test_features, test_target)\n",
    "    \n",
    "    return (X_train, y_train), (X_val, y_val), (X_test, y_test)"
   ]
  },
  {
   "cell_type": "code",
   "execution_count": 33,
   "id": "acea9c55",
   "metadata": {
    "execution": {
     "iopub.execute_input": "2025-01-27T22:00:29.810454Z",
     "iopub.status.busy": "2025-01-27T22:00:29.809980Z",
     "iopub.status.idle": "2025-01-27T22:00:29.825386Z",
     "shell.execute_reply": "2025-01-27T22:00:29.824402Z"
    },
    "papermill": {
     "duration": 0.040435,
     "end_time": "2025-01-27T22:00:29.826830",
     "exception": false,
     "start_time": "2025-01-27T22:00:29.786395",
     "status": "completed"
    },
    "tags": []
   },
   "outputs": [
    {
     "name": "stdout",
     "output_type": "stream",
     "text": [
      "Train shapes: (2393, 6, 6) (2393,)\n",
      "Validation shapes: (473, 6, 6) (473,)\n",
      "Test shapes: (315, 6, 6) (315,)\n"
     ]
    }
   ],
   "source": [
    "#passing data to function\n",
    "\n",
    "# WINDOW_SIZE = 6\n",
    "# train_pct=0.7\n",
    "# val_pct=0.2\n",
    "# test_pct=0.1\n",
    "(X_train1, y_train1), (X_val1, y_val1), (X_test1, y_test1) = new_data_to_X_y(aqi_normal, 6, 0.75, 0.15, 0.1)\n",
    "\n",
    "# shapes\n",
    "print(\"Train shapes:\", X_train1.shape, y_train1.shape)\n",
    "print(\"Validation shapes:\", X_val1.shape, y_val1.shape)\n",
    "print(\"Test shapes:\", X_test1.shape, y_test1.shape)"
   ]
  },
  {
   "cell_type": "markdown",
   "id": "b3b3c0d9",
   "metadata": {
    "papermill": {
     "duration": 0.018073,
     "end_time": "2025-01-27T22:00:29.863965",
     "exception": false,
     "start_time": "2025-01-27T22:00:29.845892",
     "status": "completed"
    },
    "tags": []
   },
   "source": [
    "## **2.2. Model Training & Testing**"
   ]
  },
  {
   "cell_type": "code",
   "execution_count": 34,
   "id": "24379d9a",
   "metadata": {
    "execution": {
     "iopub.execute_input": "2025-01-27T22:00:29.902202Z",
     "iopub.status.busy": "2025-01-27T22:00:29.901870Z",
     "iopub.status.idle": "2025-01-27T22:00:43.929730Z",
     "shell.execute_reply": "2025-01-27T22:00:43.928583Z"
    },
    "papermill": {
     "duration": 14.049085,
     "end_time": "2025-01-27T22:00:43.931680",
     "exception": false,
     "start_time": "2025-01-27T22:00:29.882595",
     "status": "completed"
    },
    "tags": []
   },
   "outputs": [],
   "source": [
    "# libraries for building model and testing\n",
    "from tensorflow.keras.models import Sequential\n",
    "from tensorflow.keras.layers import *\n",
    "from tensorflow.keras.callbacks import ModelCheckpoint\n",
    "from tensorflow.keras.callbacks import ReduceLROnPlateau\n",
    "from tensorflow.keras.losses import MeanSquaredError, MeanAbsoluteError\n",
    "from tensorflow.keras.metrics import RootMeanSquaredError\n",
    "from tensorflow.keras.optimizers import Adam\n",
    "from keras.regularizers import l2\n",
    "from keras.callbacks import EarlyStopping"
   ]
  },
  {
   "cell_type": "markdown",
   "id": "5b7bf5b1",
   "metadata": {
    "papermill": {
     "duration": 0.018855,
     "end_time": "2025-01-27T22:00:43.970376",
     "exception": false,
     "start_time": "2025-01-27T22:00:43.951521",
     "status": "completed"
    },
    "tags": []
   },
   "source": [
    "# LSTM(normal)"
   ]
  },
  {
   "cell_type": "code",
   "execution_count": 35,
   "id": "19b7e5c4",
   "metadata": {
    "execution": {
     "iopub.execute_input": "2025-01-27T22:00:44.010352Z",
     "iopub.status.busy": "2025-01-27T22:00:44.009731Z",
     "iopub.status.idle": "2025-01-27T22:01:01.946491Z",
     "shell.execute_reply": "2025-01-27T22:01:01.945566Z"
    },
    "papermill": {
     "duration": 17.95819,
     "end_time": "2025-01-27T22:01:01.947809",
     "exception": false,
     "start_time": "2025-01-27T22:00:43.989619",
     "status": "completed"
    },
    "tags": []
   },
   "outputs": [
    {
     "name": "stdout",
     "output_type": "stream",
     "text": [
      "Epoch 1/50\n",
      "\u001b[1m75/75\u001b[0m \u001b[32m━━━━━━━━━━━━━━━━━━━━\u001b[0m\u001b[37m\u001b[0m \u001b[1m2s\u001b[0m 8ms/step - loss: 7481.5366 - root_mean_squared_error: 83.1205 - val_loss: 362.8983 - val_root_mean_squared_error: 19.0499\n",
      "Epoch 2/50\n",
      "\u001b[1m75/75\u001b[0m \u001b[32m━━━━━━━━━━━━━━━━━━━━\u001b[0m\u001b[37m\u001b[0m \u001b[1m0s\u001b[0m 4ms/step - loss: 205.6590 - root_mean_squared_error: 14.2978 - val_loss: 198.9919 - val_root_mean_squared_error: 14.1064\n",
      "Epoch 3/50\n",
      "\u001b[1m75/75\u001b[0m \u001b[32m━━━━━━━━━━━━━━━━━━━━\u001b[0m\u001b[37m\u001b[0m \u001b[1m0s\u001b[0m 4ms/step - loss: 149.6773 - root_mean_squared_error: 12.1875 - val_loss: 216.3421 - val_root_mean_squared_error: 14.7086\n",
      "Epoch 4/50\n",
      "\u001b[1m75/75\u001b[0m \u001b[32m━━━━━━━━━━━━━━━━━━━━\u001b[0m\u001b[37m\u001b[0m \u001b[1m0s\u001b[0m 4ms/step - loss: 101.4799 - root_mean_squared_error: 10.0677 - val_loss: 207.6434 - val_root_mean_squared_error: 14.4098\n",
      "Epoch 5/50\n",
      "\u001b[1m75/75\u001b[0m \u001b[32m━━━━━━━━━━━━━━━━━━━━\u001b[0m\u001b[37m\u001b[0m \u001b[1m0s\u001b[0m 4ms/step - loss: 99.4723 - root_mean_squared_error: 9.9590 - val_loss: 141.0214 - val_root_mean_squared_error: 11.8752\n",
      "Epoch 6/50\n",
      "\u001b[1m75/75\u001b[0m \u001b[32m━━━━━━━━━━━━━━━━━━━━\u001b[0m\u001b[37m\u001b[0m \u001b[1m0s\u001b[0m 4ms/step - loss: 105.4539 - root_mean_squared_error: 10.2469 - val_loss: 123.3160 - val_root_mean_squared_error: 11.1048\n",
      "Epoch 7/50\n",
      "\u001b[1m75/75\u001b[0m \u001b[32m━━━━━━━━━━━━━━━━━━━━\u001b[0m\u001b[37m\u001b[0m \u001b[1m0s\u001b[0m 4ms/step - loss: 76.0736 - root_mean_squared_error: 8.7116 - val_loss: 98.7130 - val_root_mean_squared_error: 9.9354\n",
      "Epoch 8/50\n",
      "\u001b[1m75/75\u001b[0m \u001b[32m━━━━━━━━━━━━━━━━━━━━\u001b[0m\u001b[37m\u001b[0m \u001b[1m0s\u001b[0m 4ms/step - loss: 77.1622 - root_mean_squared_error: 8.7765 - val_loss: 101.9956 - val_root_mean_squared_error: 10.0993\n",
      "Epoch 9/50\n",
      "\u001b[1m75/75\u001b[0m \u001b[32m━━━━━━━━━━━━━━━━━━━━\u001b[0m\u001b[37m\u001b[0m \u001b[1m0s\u001b[0m 4ms/step - loss: 73.5457 - root_mean_squared_error: 8.5573 - val_loss: 91.3880 - val_root_mean_squared_error: 9.5597\n",
      "Epoch 10/50\n",
      "\u001b[1m75/75\u001b[0m \u001b[32m━━━━━━━━━━━━━━━━━━━━\u001b[0m\u001b[37m\u001b[0m \u001b[1m0s\u001b[0m 4ms/step - loss: 78.5631 - root_mean_squared_error: 8.8571 - val_loss: 143.0568 - val_root_mean_squared_error: 11.9606\n",
      "Epoch 11/50\n",
      "\u001b[1m75/75\u001b[0m \u001b[32m━━━━━━━━━━━━━━━━━━━━\u001b[0m\u001b[37m\u001b[0m \u001b[1m0s\u001b[0m 4ms/step - loss: 72.2271 - root_mean_squared_error: 8.4824 - val_loss: 93.9645 - val_root_mean_squared_error: 9.6935\n",
      "Epoch 12/50\n",
      "\u001b[1m75/75\u001b[0m \u001b[32m━━━━━━━━━━━━━━━━━━━━\u001b[0m\u001b[37m\u001b[0m \u001b[1m0s\u001b[0m 4ms/step - loss: 67.6373 - root_mean_squared_error: 8.1998 - val_loss: 87.3497 - val_root_mean_squared_error: 9.3461\n",
      "Epoch 13/50\n",
      "\u001b[1m75/75\u001b[0m \u001b[32m━━━━━━━━━━━━━━━━━━━━\u001b[0m\u001b[37m\u001b[0m \u001b[1m0s\u001b[0m 4ms/step - loss: 72.6066 - root_mean_squared_error: 8.4960 - val_loss: 85.4764 - val_root_mean_squared_error: 9.2453\n",
      "Epoch 14/50\n",
      "\u001b[1m75/75\u001b[0m \u001b[32m━━━━━━━━━━━━━━━━━━━━\u001b[0m\u001b[37m\u001b[0m \u001b[1m0s\u001b[0m 4ms/step - loss: 62.8216 - root_mean_squared_error: 7.9233 - val_loss: 104.0289 - val_root_mean_squared_error: 10.1995\n",
      "Epoch 15/50\n",
      "\u001b[1m75/75\u001b[0m \u001b[32m━━━━━━━━━━━━━━━━━━━━\u001b[0m\u001b[37m\u001b[0m \u001b[1m0s\u001b[0m 4ms/step - loss: 61.7248 - root_mean_squared_error: 7.8364 - val_loss: 97.8108 - val_root_mean_squared_error: 9.8899\n",
      "Epoch 16/50\n",
      "\u001b[1m75/75\u001b[0m \u001b[32m━━━━━━━━━━━━━━━━━━━━\u001b[0m\u001b[37m\u001b[0m \u001b[1m0s\u001b[0m 4ms/step - loss: 55.1726 - root_mean_squared_error: 7.4196 - val_loss: 93.0227 - val_root_mean_squared_error: 9.6448\n",
      "Epoch 17/50\n",
      "\u001b[1m75/75\u001b[0m \u001b[32m━━━━━━━━━━━━━━━━━━━━\u001b[0m\u001b[37m\u001b[0m \u001b[1m0s\u001b[0m 4ms/step - loss: 60.2072 - root_mean_squared_error: 7.7549 - val_loss: 97.7193 - val_root_mean_squared_error: 9.8853\n",
      "Epoch 18/50\n",
      "\u001b[1m75/75\u001b[0m \u001b[32m━━━━━━━━━━━━━━━━━━━━\u001b[0m\u001b[37m\u001b[0m \u001b[1m0s\u001b[0m 4ms/step - loss: 68.5034 - root_mean_squared_error: 8.2626 - val_loss: 90.5023 - val_root_mean_squared_error: 9.5133\n",
      "Epoch 19/50\n",
      "\u001b[1m75/75\u001b[0m \u001b[32m━━━━━━━━━━━━━━━━━━━━\u001b[0m\u001b[37m\u001b[0m \u001b[1m0s\u001b[0m 4ms/step - loss: 57.3967 - root_mean_squared_error: 7.5620 - val_loss: 106.8105 - val_root_mean_squared_error: 10.3349\n",
      "Epoch 20/50\n",
      "\u001b[1m75/75\u001b[0m \u001b[32m━━━━━━━━━━━━━━━━━━━━\u001b[0m\u001b[37m\u001b[0m \u001b[1m0s\u001b[0m 4ms/step - loss: 59.9979 - root_mean_squared_error: 7.7294 - val_loss: 92.2679 - val_root_mean_squared_error: 9.6056\n",
      "Epoch 21/50\n",
      "\u001b[1m75/75\u001b[0m \u001b[32m━━━━━━━━━━━━━━━━━━━━\u001b[0m\u001b[37m\u001b[0m \u001b[1m0s\u001b[0m 4ms/step - loss: 62.5833 - root_mean_squared_error: 7.9083 - val_loss: 144.1488 - val_root_mean_squared_error: 12.0062\n",
      "Epoch 22/50\n",
      "\u001b[1m75/75\u001b[0m \u001b[32m━━━━━━━━━━━━━━━━━━━━\u001b[0m\u001b[37m\u001b[0m \u001b[1m0s\u001b[0m 4ms/step - loss: 76.7427 - root_mean_squared_error: 8.7573 - val_loss: 94.2356 - val_root_mean_squared_error: 9.7075\n",
      "Epoch 23/50\n",
      "\u001b[1m75/75\u001b[0m \u001b[32m━━━━━━━━━━━━━━━━━━━━\u001b[0m\u001b[37m\u001b[0m \u001b[1m0s\u001b[0m 4ms/step - loss: 72.2606 - root_mean_squared_error: 8.4925 - val_loss: 82.8001 - val_root_mean_squared_error: 9.0995\n",
      "Epoch 24/50\n",
      "\u001b[1m75/75\u001b[0m \u001b[32m━━━━━━━━━━━━━━━━━━━━\u001b[0m\u001b[37m\u001b[0m \u001b[1m0s\u001b[0m 4ms/step - loss: 64.5362 - root_mean_squared_error: 8.0311 - val_loss: 87.3474 - val_root_mean_squared_error: 9.3460\n",
      "Epoch 25/50\n",
      "\u001b[1m75/75\u001b[0m \u001b[32m━━━━━━━━━━━━━━━━━━━━\u001b[0m\u001b[37m\u001b[0m \u001b[1m0s\u001b[0m 4ms/step - loss: 49.8086 - root_mean_squared_error: 7.0399 - val_loss: 74.1478 - val_root_mean_squared_error: 8.6109\n",
      "Epoch 26/50\n",
      "\u001b[1m75/75\u001b[0m \u001b[32m━━━━━━━━━━━━━━━━━━━━\u001b[0m\u001b[37m\u001b[0m \u001b[1m0s\u001b[0m 4ms/step - loss: 55.9930 - root_mean_squared_error: 7.4627 - val_loss: 75.8155 - val_root_mean_squared_error: 8.7072\n",
      "Epoch 27/50\n",
      "\u001b[1m75/75\u001b[0m \u001b[32m━━━━━━━━━━━━━━━━━━━━\u001b[0m\u001b[37m\u001b[0m \u001b[1m0s\u001b[0m 4ms/step - loss: 59.6504 - root_mean_squared_error: 7.7156 - val_loss: 111.3518 - val_root_mean_squared_error: 10.5523\n",
      "Epoch 28/50\n",
      "\u001b[1m75/75\u001b[0m \u001b[32m━━━━━━━━━━━━━━━━━━━━\u001b[0m\u001b[37m\u001b[0m \u001b[1m0s\u001b[0m 4ms/step - loss: 60.3844 - root_mean_squared_error: 7.7604 - val_loss: 75.8127 - val_root_mean_squared_error: 8.7070\n",
      "Epoch 29/50\n",
      "\u001b[1m75/75\u001b[0m \u001b[32m━━━━━━━━━━━━━━━━━━━━\u001b[0m\u001b[37m\u001b[0m \u001b[1m0s\u001b[0m 4ms/step - loss: 55.6622 - root_mean_squared_error: 7.4515 - val_loss: 117.2229 - val_root_mean_squared_error: 10.8270\n",
      "Epoch 30/50\n",
      "\u001b[1m75/75\u001b[0m \u001b[32m━━━━━━━━━━━━━━━━━━━━\u001b[0m\u001b[37m\u001b[0m \u001b[1m0s\u001b[0m 4ms/step - loss: 60.4468 - root_mean_squared_error: 7.7699 - val_loss: 77.6838 - val_root_mean_squared_error: 8.8138\n",
      "Epoch 31/50\n",
      "\u001b[1m75/75\u001b[0m \u001b[32m━━━━━━━━━━━━━━━━━━━━\u001b[0m\u001b[37m\u001b[0m \u001b[1m0s\u001b[0m 4ms/step - loss: 54.6990 - root_mean_squared_error: 7.3782 - val_loss: 76.5226 - val_root_mean_squared_error: 8.7477\n",
      "Epoch 32/50\n",
      "\u001b[1m75/75\u001b[0m \u001b[32m━━━━━━━━━━━━━━━━━━━━\u001b[0m\u001b[37m\u001b[0m \u001b[1m0s\u001b[0m 4ms/step - loss: 55.9435 - root_mean_squared_error: 7.4703 - val_loss: 79.5872 - val_root_mean_squared_error: 8.9212\n",
      "Epoch 33/50\n",
      "\u001b[1m75/75\u001b[0m \u001b[32m━━━━━━━━━━━━━━━━━━━━\u001b[0m\u001b[37m\u001b[0m \u001b[1m0s\u001b[0m 4ms/step - loss: 53.4102 - root_mean_squared_error: 7.2763 - val_loss: 72.2299 - val_root_mean_squared_error: 8.4988\n",
      "Epoch 34/50\n",
      "\u001b[1m75/75\u001b[0m \u001b[32m━━━━━━━━━━━━━━━━━━━━\u001b[0m\u001b[37m\u001b[0m \u001b[1m0s\u001b[0m 4ms/step - loss: 57.3195 - root_mean_squared_error: 7.5577 - val_loss: 90.9654 - val_root_mean_squared_error: 9.5376\n",
      "Epoch 35/50\n",
      "\u001b[1m75/75\u001b[0m \u001b[32m━━━━━━━━━━━━━━━━━━━━\u001b[0m\u001b[37m\u001b[0m \u001b[1m0s\u001b[0m 4ms/step - loss: 62.8711 - root_mean_squared_error: 7.9237 - val_loss: 102.0624 - val_root_mean_squared_error: 10.1026\n",
      "Epoch 36/50\n",
      "\u001b[1m75/75\u001b[0m \u001b[32m━━━━━━━━━━━━━━━━━━━━\u001b[0m\u001b[37m\u001b[0m \u001b[1m0s\u001b[0m 4ms/step - loss: 57.9990 - root_mean_squared_error: 7.6076 - val_loss: 71.2787 - val_root_mean_squared_error: 8.4427\n",
      "Epoch 37/50\n",
      "\u001b[1m75/75\u001b[0m \u001b[32m━━━━━━━━━━━━━━━━━━━━\u001b[0m\u001b[37m\u001b[0m \u001b[1m0s\u001b[0m 4ms/step - loss: 58.3015 - root_mean_squared_error: 7.6134 - val_loss: 68.7588 - val_root_mean_squared_error: 8.2921\n",
      "Epoch 38/50\n",
      "\u001b[1m75/75\u001b[0m \u001b[32m━━━━━━━━━━━━━━━━━━━━\u001b[0m\u001b[37m\u001b[0m \u001b[1m0s\u001b[0m 4ms/step - loss: 51.5449 - root_mean_squared_error: 7.1754 - val_loss: 90.1985 - val_root_mean_squared_error: 9.4973\n",
      "Epoch 39/50\n",
      "\u001b[1m75/75\u001b[0m \u001b[32m━━━━━━━━━━━━━━━━━━━━\u001b[0m\u001b[37m\u001b[0m \u001b[1m0s\u001b[0m 4ms/step - loss: 58.3822 - root_mean_squared_error: 7.6353 - val_loss: 65.1745 - val_root_mean_squared_error: 8.0731\n",
      "Epoch 40/50\n",
      "\u001b[1m75/75\u001b[0m \u001b[32m━━━━━━━━━━━━━━━━━━━━\u001b[0m\u001b[37m\u001b[0m \u001b[1m0s\u001b[0m 4ms/step - loss: 53.0375 - root_mean_squared_error: 7.2687 - val_loss: 87.6353 - val_root_mean_squared_error: 9.3614\n",
      "Epoch 41/50\n",
      "\u001b[1m75/75\u001b[0m \u001b[32m━━━━━━━━━━━━━━━━━━━━\u001b[0m\u001b[37m\u001b[0m \u001b[1m0s\u001b[0m 5ms/step - loss: 61.6190 - root_mean_squared_error: 7.8448 - val_loss: 101.8106 - val_root_mean_squared_error: 10.0901\n",
      "Epoch 42/50\n",
      "\u001b[1m75/75\u001b[0m \u001b[32m━━━━━━━━━━━━━━━━━━━━\u001b[0m\u001b[37m\u001b[0m \u001b[1m0s\u001b[0m 4ms/step - loss: 64.3804 - root_mean_squared_error: 8.0171 - val_loss: 77.6926 - val_root_mean_squared_error: 8.8143\n",
      "Epoch 43/50\n",
      "\u001b[1m75/75\u001b[0m \u001b[32m━━━━━━━━━━━━━━━━━━━━\u001b[0m\u001b[37m\u001b[0m \u001b[1m0s\u001b[0m 4ms/step - loss: 69.1463 - root_mean_squared_error: 8.3082 - val_loss: 67.5734 - val_root_mean_squared_error: 8.2203\n",
      "Epoch 44/50\n",
      "\u001b[1m75/75\u001b[0m \u001b[32m━━━━━━━━━━━━━━━━━━━━\u001b[0m\u001b[37m\u001b[0m \u001b[1m0s\u001b[0m 4ms/step - loss: 50.3917 - root_mean_squared_error: 7.0744 - val_loss: 72.8021 - val_root_mean_squared_error: 8.5324\n",
      "Epoch 45/50\n",
      "\u001b[1m75/75\u001b[0m \u001b[32m━━━━━━━━━━━━━━━━━━━━\u001b[0m\u001b[37m\u001b[0m \u001b[1m0s\u001b[0m 4ms/step - loss: 50.1712 - root_mean_squared_error: 7.0817 - val_loss: 89.4206 - val_root_mean_squared_error: 9.4562\n",
      "Epoch 46/50\n",
      "\u001b[1m75/75\u001b[0m \u001b[32m━━━━━━━━━━━━━━━━━━━━\u001b[0m\u001b[37m\u001b[0m \u001b[1m0s\u001b[0m 4ms/step - loss: 59.5539 - root_mean_squared_error: 7.6905 - val_loss: 72.6416 - val_root_mean_squared_error: 8.5230\n",
      "Epoch 47/50\n",
      "\u001b[1m75/75\u001b[0m \u001b[32m━━━━━━━━━━━━━━━━━━━━\u001b[0m\u001b[37m\u001b[0m \u001b[1m0s\u001b[0m 4ms/step - loss: 52.4139 - root_mean_squared_error: 7.2207 - val_loss: 86.9654 - val_root_mean_squared_error: 9.3255\n",
      "Epoch 48/50\n",
      "\u001b[1m75/75\u001b[0m \u001b[32m━━━━━━━━━━━━━━━━━━━━\u001b[0m\u001b[37m\u001b[0m \u001b[1m0s\u001b[0m 4ms/step - loss: 52.8110 - root_mean_squared_error: 7.1900 - val_loss: 73.6024 - val_root_mean_squared_error: 8.5792\n",
      "Epoch 49/50\n",
      "\u001b[1m75/75\u001b[0m \u001b[32m━━━━━━━━━━━━━━━━━━━━\u001b[0m\u001b[37m\u001b[0m \u001b[1m0s\u001b[0m 4ms/step - loss: 58.1335 - root_mean_squared_error: 7.6032 - val_loss: 69.9304 - val_root_mean_squared_error: 8.3624\n",
      "Epoch 50/50\n",
      "\u001b[1m75/75\u001b[0m \u001b[32m━━━━━━━━━━━━━━━━━━━━\u001b[0m\u001b[37m\u001b[0m \u001b[1m0s\u001b[0m 4ms/step - loss: 49.3850 - root_mean_squared_error: 7.0251 - val_loss: 69.3636 - val_root_mean_squared_error: 8.3285\n"
     ]
    },
    {
     "data": {
      "text/plain": [
       "<keras.src.callbacks.history.History at 0x7ca98e0f9600>"
      ]
     },
     "execution_count": 35,
     "metadata": {},
     "output_type": "execute_result"
    }
   ],
   "source": [
    "model5 = Sequential()\n",
    "model5.add(InputLayer((6, 6)))  # 6 timestamps, 6 features\n",
    "model5.add(LSTM(32, activation='relu', return_sequences=False))  # Single LSTM layer\n",
    "model5.add(Dense(16, activation='relu')) \n",
    "model5.add(Dense(1, activation='linear'))  \n",
    "\n",
    "cp5 = ModelCheckpoint('/kaggle/working/model5.keras', save_best_only=True)\n",
    "\n",
    "model5.compile(loss=MeanSquaredError(), optimizer=Adam(learning_rate=0.001), \n",
    "               metrics=[RootMeanSquaredError()])\n",
    "\n",
    "model5.fit(X_train1, y_train1, validation_data=(X_val1, y_val1), epochs=50, \n",
    "           callbacks=[cp5])"
   ]
  },
  {
   "cell_type": "code",
   "execution_count": 36,
   "id": "a049401f",
   "metadata": {
    "execution": {
     "iopub.execute_input": "2025-01-27T22:01:02.027744Z",
     "iopub.status.busy": "2025-01-27T22:01:02.027422Z",
     "iopub.status.idle": "2025-01-27T22:01:02.121042Z",
     "shell.execute_reply": "2025-01-27T22:01:02.119720Z"
    },
    "papermill": {
     "duration": 0.13563,
     "end_time": "2025-01-27T22:01:02.123099",
     "exception": false,
     "start_time": "2025-01-27T22:01:01.987469",
     "status": "completed"
    },
    "tags": []
   },
   "outputs": [],
   "source": [
    "from tensorflow.keras.models import load_model\n",
    "model5 = load_model('/kaggle/working/model5.keras')"
   ]
  },
  {
   "cell_type": "code",
   "execution_count": 37,
   "id": "edd804af",
   "metadata": {
    "execution": {
     "iopub.execute_input": "2025-01-27T22:01:02.200130Z",
     "iopub.status.busy": "2025-01-27T22:01:02.199771Z",
     "iopub.status.idle": "2025-01-27T22:01:02.674516Z",
     "shell.execute_reply": "2025-01-27T22:01:02.673658Z"
    },
    "papermill": {
     "duration": 0.515118,
     "end_time": "2025-01-27T22:01:02.675972",
     "exception": false,
     "start_time": "2025-01-27T22:01:02.160854",
     "status": "completed"
    },
    "tags": []
   },
   "outputs": [
    {
     "name": "stdout",
     "output_type": "stream",
     "text": [
      "\u001b[1m75/75\u001b[0m \u001b[32m━━━━━━━━━━━━━━━━━━━━\u001b[0m\u001b[37m\u001b[0m \u001b[1m0s\u001b[0m 3ms/step\n",
      "Evaluation Metrics:\n",
      "Mean Absolute Error (MAE): 4.4348\n",
      "Mean Squared Error (MSE): 46.1598\n",
      "Root Mean Squared Error (RMSE): 6.7941\n",
      "R-squared (Accuracy): 0.9802\n"
     ]
    }
   ],
   "source": [
    "# Evaluate the model on the train data\n",
    "train_result = model5.predict(X_train1)\n",
    "\n",
    "# Calculate metrics\n",
    "mse = mean_squared_error(y_train1, train_result)\n",
    "rmse = np.sqrt(mse)\n",
    "mae = mean_absolute_error(y_train1, train_result)\n",
    "r2 = r2_score(y_train1, train_result)\n",
    "\n",
    "# Print the results\n",
    "print(\"Evaluation Metrics:\")\n",
    "print(f\"Mean Absolute Error (MAE): {mae:.4f}\")\n",
    "print(f\"Mean Squared Error (MSE): {mse:.4f}\")\n",
    "print(f\"Root Mean Squared Error (RMSE): {rmse:.4f}\")\n",
    "print(f\"R-squared (Accuracy): {r2:.4f}\")"
   ]
  },
  {
   "cell_type": "code",
   "execution_count": 38,
   "id": "8d827371",
   "metadata": {
    "execution": {
     "iopub.execute_input": "2025-01-27T22:01:02.753336Z",
     "iopub.status.busy": "2025-01-27T22:01:02.752994Z",
     "iopub.status.idle": "2025-01-27T22:01:02.848005Z",
     "shell.execute_reply": "2025-01-27T22:01:02.846986Z"
    },
    "papermill": {
     "duration": 0.13572,
     "end_time": "2025-01-27T22:01:02.849582",
     "exception": false,
     "start_time": "2025-01-27T22:01:02.713862",
     "status": "completed"
    },
    "tags": []
   },
   "outputs": [
    {
     "name": "stdout",
     "output_type": "stream",
     "text": [
      "\u001b[1m15/15\u001b[0m \u001b[32m━━━━━━━━━━━━━━━━━━━━\u001b[0m\u001b[37m\u001b[0m \u001b[1m0s\u001b[0m 2ms/step \n",
      "Evaluation Metrics:\n",
      "Mean Absolute Error (MAE): 5.6282\n",
      "Mean Squared Error (MSE): 65.1745\n",
      "Root Mean Squared Error (RMSE): 8.0731\n",
      "R-squared (Accuracy): 0.9892\n"
     ]
    }
   ],
   "source": [
    "# Evaluate the model on the validation data\n",
    "val_result = model5.predict(X_val1)\n",
    "\n",
    "# Calculate metrics\n",
    "mse = mean_squared_error(y_val1, val_result)\n",
    "rmse = np.sqrt(mse)\n",
    "mae = mean_absolute_error(y_val1, val_result)\n",
    "r2 = r2_score(y_val1, val_result)\n",
    "\n",
    "# Print the results\n",
    "print(\"Evaluation Metrics:\")\n",
    "print(f\"Mean Absolute Error (MAE): {mae:.4f}\")\n",
    "print(f\"Mean Squared Error (MSE): {mse:.4f}\")\n",
    "print(f\"Root Mean Squared Error (RMSE): {rmse:.4f}\")\n",
    "print(f\"R-squared (Accuracy): {r2:.4f}\")"
   ]
  },
  {
   "cell_type": "code",
   "execution_count": 39,
   "id": "17bcabad",
   "metadata": {
    "execution": {
     "iopub.execute_input": "2025-01-27T22:01:02.926959Z",
     "iopub.status.busy": "2025-01-27T22:01:02.926585Z",
     "iopub.status.idle": "2025-01-27T22:01:03.014249Z",
     "shell.execute_reply": "2025-01-27T22:01:03.013385Z"
    },
    "papermill": {
     "duration": 0.128303,
     "end_time": "2025-01-27T22:01:03.015752",
     "exception": false,
     "start_time": "2025-01-27T22:01:02.887449",
     "status": "completed"
    },
    "tags": []
   },
   "outputs": [
    {
     "name": "stdout",
     "output_type": "stream",
     "text": [
      "\u001b[1m10/10\u001b[0m \u001b[32m━━━━━━━━━━━━━━━━━━━━\u001b[0m\u001b[37m\u001b[0m \u001b[1m0s\u001b[0m 2ms/step \n",
      "Evaluation Metrics:\n",
      "Mean Absolute Error (MAE): 5.0508\n",
      "Mean Squared Error (MSE): 44.8229\n",
      "Root Mean Squared Error (RMSE): 6.6950\n",
      "R-squared (Accuracy): 0.9809\n"
     ]
    }
   ],
   "source": [
    "# Evaluate the model on the test data\n",
    "test_result = model5.predict(X_test1)\n",
    "\n",
    "# Calculate metrics\n",
    "mse = mean_squared_error(y_test1, test_result)\n",
    "rmse = np.sqrt(mse)\n",
    "mae = mean_absolute_error(y_test1, test_result)\n",
    "r2 = r2_score(y_test1, test_result)\n",
    "\n",
    "# Print the results\n",
    "print(\"Evaluation Metrics:\")\n",
    "print(f\"Mean Absolute Error (MAE): {mae:.4f}\")\n",
    "print(f\"Mean Squared Error (MSE): {mse:.4f}\")\n",
    "print(f\"Root Mean Squared Error (RMSE): {rmse:.4f}\")\n",
    "print(f\"R-squared (Accuracy): {r2:.4f}\")"
   ]
  },
  {
   "cell_type": "code",
   "execution_count": 40,
   "id": "e8657182",
   "metadata": {
    "execution": {
     "iopub.execute_input": "2025-01-27T22:01:03.095173Z",
     "iopub.status.busy": "2025-01-27T22:01:03.094813Z",
     "iopub.status.idle": "2025-01-27T22:01:03.307721Z",
     "shell.execute_reply": "2025-01-27T22:01:03.306892Z"
    },
    "papermill": {
     "duration": 0.254828,
     "end_time": "2025-01-27T22:01:03.309246",
     "exception": false,
     "start_time": "2025-01-27T22:01:03.054418",
     "status": "completed"
    },
    "tags": []
   },
   "outputs": [
    {
     "name": "stdout",
     "output_type": "stream",
     "text": [
      "\u001b[1m75/75\u001b[0m \u001b[32m━━━━━━━━━━━━━━━━━━━━\u001b[0m\u001b[37m\u001b[0m \u001b[1m0s\u001b[0m 2ms/step\n"
     ]
    },
    {
     "data": {
      "text/html": [
       "<div>\n",
       "<style scoped>\n",
       "    .dataframe tbody tr th:only-of-type {\n",
       "        vertical-align: middle;\n",
       "    }\n",
       "\n",
       "    .dataframe tbody tr th {\n",
       "        vertical-align: top;\n",
       "    }\n",
       "\n",
       "    .dataframe thead th {\n",
       "        text-align: right;\n",
       "    }\n",
       "</style>\n",
       "<table border=\"1\" class=\"dataframe\">\n",
       "  <thead>\n",
       "    <tr style=\"text-align: right;\">\n",
       "      <th></th>\n",
       "      <th>Train Predictions</th>\n",
       "      <th>Actuals</th>\n",
       "    </tr>\n",
       "  </thead>\n",
       "  <tbody>\n",
       "    <tr>\n",
       "      <th>0</th>\n",
       "      <td>186.694550</td>\n",
       "      <td>182.666667</td>\n",
       "    </tr>\n",
       "    <tr>\n",
       "      <th>1</th>\n",
       "      <td>197.644577</td>\n",
       "      <td>204.833333</td>\n",
       "    </tr>\n",
       "    <tr>\n",
       "      <th>2</th>\n",
       "      <td>211.418320</td>\n",
       "      <td>220.666667</td>\n",
       "    </tr>\n",
       "    <tr>\n",
       "      <th>3</th>\n",
       "      <td>241.380035</td>\n",
       "      <td>244.666667</td>\n",
       "    </tr>\n",
       "    <tr>\n",
       "      <th>4</th>\n",
       "      <td>251.205200</td>\n",
       "      <td>257.166667</td>\n",
       "    </tr>\n",
       "    <tr>\n",
       "      <th>...</th>\n",
       "      <td>...</td>\n",
       "      <td>...</td>\n",
       "    </tr>\n",
       "    <tr>\n",
       "      <th>2388</th>\n",
       "      <td>96.389595</td>\n",
       "      <td>94.166667</td>\n",
       "    </tr>\n",
       "    <tr>\n",
       "      <th>2389</th>\n",
       "      <td>94.784203</td>\n",
       "      <td>88.666667</td>\n",
       "    </tr>\n",
       "    <tr>\n",
       "      <th>2390</th>\n",
       "      <td>88.037910</td>\n",
       "      <td>80.666667</td>\n",
       "    </tr>\n",
       "    <tr>\n",
       "      <th>2391</th>\n",
       "      <td>79.896339</td>\n",
       "      <td>84.833333</td>\n",
       "    </tr>\n",
       "    <tr>\n",
       "      <th>2392</th>\n",
       "      <td>87.025185</td>\n",
       "      <td>90.333333</td>\n",
       "    </tr>\n",
       "  </tbody>\n",
       "</table>\n",
       "<p>2393 rows × 2 columns</p>\n",
       "</div>"
      ],
      "text/plain": [
       "      Train Predictions     Actuals\n",
       "0            186.694550  182.666667\n",
       "1            197.644577  204.833333\n",
       "2            211.418320  220.666667\n",
       "3            241.380035  244.666667\n",
       "4            251.205200  257.166667\n",
       "...                 ...         ...\n",
       "2388          96.389595   94.166667\n",
       "2389          94.784203   88.666667\n",
       "2390          88.037910   80.666667\n",
       "2391          79.896339   84.833333\n",
       "2392          87.025185   90.333333\n",
       "\n",
       "[2393 rows x 2 columns]"
      ]
     },
     "execution_count": 40,
     "metadata": {},
     "output_type": "execute_result"
    }
   ],
   "source": [
    "train_predictions = model5.predict(X_train1).flatten()\n",
    "train_results = pd.DataFrame(data={'Train Predictions':train_predictions, 'Actuals':y_train1})\n",
    "train_results"
   ]
  },
  {
   "cell_type": "code",
   "execution_count": 41,
   "id": "def16e91",
   "metadata": {
    "execution": {
     "iopub.execute_input": "2025-01-27T22:01:03.388011Z",
     "iopub.status.busy": "2025-01-27T22:01:03.387664Z",
     "iopub.status.idle": "2025-01-27T22:01:03.548353Z",
     "shell.execute_reply": "2025-01-27T22:01:03.547358Z"
    },
    "papermill": {
     "duration": 0.201726,
     "end_time": "2025-01-27T22:01:03.549875",
     "exception": false,
     "start_time": "2025-01-27T22:01:03.348149",
     "status": "completed"
    },
    "tags": []
   },
   "outputs": [
    {
     "data": {
      "image/png": "[encoded data removed]",
      "text/plain": [
       "<Figure size 640x480 with 1 Axes>"
      ]
     },
     "metadata": {},
     "output_type": "display_data"
    }
   ],
   "source": [
    "plt.plot(train_results['Actuals'][1:50], label='Actual')\n",
    "plt.plot(train_results['Train Predictions'][1:50], label='Predicted')\n",
    "plt.legend()\n",
    "plt.show()"
   ]
  },
  {
   "cell_type": "code",
   "execution_count": 42,
   "id": "aee88ce8",
   "metadata": {
    "execution": {
     "iopub.execute_input": "2025-01-27T22:01:03.631261Z",
     "iopub.status.busy": "2025-01-27T22:01:03.630836Z",
     "iopub.status.idle": "2025-01-27T22:01:03.728016Z",
     "shell.execute_reply": "2025-01-27T22:01:03.727009Z"
    },
    "papermill": {
     "duration": 0.139516,
     "end_time": "2025-01-27T22:01:03.729754",
     "exception": false,
     "start_time": "2025-01-27T22:01:03.590238",
     "status": "completed"
    },
    "tags": []
   },
   "outputs": [
    {
     "name": "stdout",
     "output_type": "stream",
     "text": [
      "\u001b[1m15/15\u001b[0m \u001b[32m━━━━━━━━━━━━━━━━━━━━\u001b[0m\u001b[37m\u001b[0m \u001b[1m0s\u001b[0m 2ms/step \n"
     ]
    },
    {
     "data": {
      "text/html": [
       "<div>\n",
       "<style scoped>\n",
       "    .dataframe tbody tr th:only-of-type {\n",
       "        vertical-align: middle;\n",
       "    }\n",
       "\n",
       "    .dataframe tbody tr th {\n",
       "        vertical-align: top;\n",
       "    }\n",
       "\n",
       "    .dataframe thead th {\n",
       "        text-align: right;\n",
       "    }\n",
       "</style>\n",
       "<table border=\"1\" class=\"dataframe\">\n",
       "  <thead>\n",
       "    <tr style=\"text-align: right;\">\n",
       "      <th></th>\n",
       "      <th>Train Predictions</th>\n",
       "      <th>Actuals</th>\n",
       "    </tr>\n",
       "  </thead>\n",
       "  <tbody>\n",
       "    <tr>\n",
       "      <th>0</th>\n",
       "      <td>85.701805</td>\n",
       "      <td>79.500000</td>\n",
       "    </tr>\n",
       "    <tr>\n",
       "      <th>1</th>\n",
       "      <td>79.364891</td>\n",
       "      <td>80.500000</td>\n",
       "    </tr>\n",
       "    <tr>\n",
       "      <th>2</th>\n",
       "      <td>81.889282</td>\n",
       "      <td>83.333333</td>\n",
       "    </tr>\n",
       "    <tr>\n",
       "      <th>3</th>\n",
       "      <td>86.052361</td>\n",
       "      <td>82.333333</td>\n",
       "    </tr>\n",
       "    <tr>\n",
       "      <th>4</th>\n",
       "      <td>83.249321</td>\n",
       "      <td>84.833333</td>\n",
       "    </tr>\n",
       "    <tr>\n",
       "      <th>...</th>\n",
       "      <td>...</td>\n",
       "      <td>...</td>\n",
       "    </tr>\n",
       "    <tr>\n",
       "      <th>468</th>\n",
       "      <td>216.824722</td>\n",
       "      <td>211.666667</td>\n",
       "    </tr>\n",
       "    <tr>\n",
       "      <th>469</th>\n",
       "      <td>213.689774</td>\n",
       "      <td>207.000000</td>\n",
       "    </tr>\n",
       "    <tr>\n",
       "      <th>470</th>\n",
       "      <td>207.632965</td>\n",
       "      <td>190.833333</td>\n",
       "    </tr>\n",
       "    <tr>\n",
       "      <th>471</th>\n",
       "      <td>186.274185</td>\n",
       "      <td>190.833333</td>\n",
       "    </tr>\n",
       "    <tr>\n",
       "      <th>472</th>\n",
       "      <td>186.776108</td>\n",
       "      <td>188.500000</td>\n",
       "    </tr>\n",
       "  </tbody>\n",
       "</table>\n",
       "<p>473 rows × 2 columns</p>\n",
       "</div>"
      ],
      "text/plain": [
       "     Train Predictions     Actuals\n",
       "0            85.701805   79.500000\n",
       "1            79.364891   80.500000\n",
       "2            81.889282   83.333333\n",
       "3            86.052361   82.333333\n",
       "4            83.249321   84.833333\n",
       "..                 ...         ...\n",
       "468         216.824722  211.666667\n",
       "469         213.689774  207.000000\n",
       "470         207.632965  190.833333\n",
       "471         186.274185  190.833333\n",
       "472         186.776108  188.500000\n",
       "\n",
       "[473 rows x 2 columns]"
      ]
     },
     "execution_count": 42,
     "metadata": {},
     "output_type": "execute_result"
    }
   ],
   "source": [
    "val_predictions = model5.predict(X_val1).flatten()\n",
    "val_results = pd.DataFrame(data={'Train Predictions':val_predictions, 'Actuals':y_val1})\n",
    "val_results"
   ]
  },
  {
   "cell_type": "code",
   "execution_count": 43,
   "id": "1cbcae46",
   "metadata": {
    "execution": {
     "iopub.execute_input": "2025-01-27T22:01:03.811631Z",
     "iopub.status.busy": "2025-01-27T22:01:03.811255Z",
     "iopub.status.idle": "2025-01-27T22:01:03.972676Z",
     "shell.execute_reply": "2025-01-27T22:01:03.971669Z"
    },
    "papermill": {
     "duration": 0.204387,
     "end_time": "2025-01-27T22:01:03.974228",
     "exception": false,
     "start_time": "2025-01-27T22:01:03.769841",
     "status": "completed"
    },
    "tags": []
   },
   "outputs": [
    {
     "data": {
      "image/png": "[encoded data removed]",
      "text/plain": [
       "<Figure size 640x480 with 1 Axes>"
      ]
     },
     "metadata": {},
     "output_type": "display_data"
    }
   ],
   "source": [
    "plt.plot(val_results['Actuals'][1:50], label='Actual')\n",
    "plt.plot(val_results['Train Predictions'][1:50], label='Predicted')\n",
    "plt.legend()\n",
    "plt.show()"
   ]
  },
  {
   "cell_type": "code",
   "execution_count": 44,
   "id": "671117a6",
   "metadata": {
    "execution": {
     "iopub.execute_input": "2025-01-27T22:01:04.058420Z",
     "iopub.status.busy": "2025-01-27T22:01:04.057980Z",
     "iopub.status.idle": "2025-01-27T22:01:04.148470Z",
     "shell.execute_reply": "2025-01-27T22:01:04.147396Z"
    },
    "papermill": {
     "duration": 0.134177,
     "end_time": "2025-01-27T22:01:04.150069",
     "exception": false,
     "start_time": "2025-01-27T22:01:04.015892",
     "status": "completed"
    },
    "tags": []
   },
   "outputs": [
    {
     "name": "stdout",
     "output_type": "stream",
     "text": [
      "\u001b[1m10/10\u001b[0m \u001b[32m━━━━━━━━━━━━━━━━━━━━\u001b[0m\u001b[37m\u001b[0m \u001b[1m0s\u001b[0m 2ms/step \n"
     ]
    },
    {
     "data": {
      "text/html": [
       "<div>\n",
       "<style scoped>\n",
       "    .dataframe tbody tr th:only-of-type {\n",
       "        vertical-align: middle;\n",
       "    }\n",
       "\n",
       "    .dataframe tbody tr th {\n",
       "        vertical-align: top;\n",
       "    }\n",
       "\n",
       "    .dataframe thead th {\n",
       "        text-align: right;\n",
       "    }\n",
       "</style>\n",
       "<table border=\"1\" class=\"dataframe\">\n",
       "  <thead>\n",
       "    <tr style=\"text-align: right;\">\n",
       "      <th></th>\n",
       "      <th>Train Predictions</th>\n",
       "      <th>Actuals</th>\n",
       "    </tr>\n",
       "  </thead>\n",
       "  <tbody>\n",
       "    <tr>\n",
       "      <th>0</th>\n",
       "      <td>189.024750</td>\n",
       "      <td>187.166667</td>\n",
       "    </tr>\n",
       "    <tr>\n",
       "      <th>1</th>\n",
       "      <td>187.860550</td>\n",
       "      <td>183.833333</td>\n",
       "    </tr>\n",
       "    <tr>\n",
       "      <th>2</th>\n",
       "      <td>183.817825</td>\n",
       "      <td>184.833333</td>\n",
       "    </tr>\n",
       "    <tr>\n",
       "      <th>3</th>\n",
       "      <td>186.865952</td>\n",
       "      <td>187.500000</td>\n",
       "    </tr>\n",
       "    <tr>\n",
       "      <th>4</th>\n",
       "      <td>189.196030</td>\n",
       "      <td>192.500000</td>\n",
       "    </tr>\n",
       "    <tr>\n",
       "      <th>...</th>\n",
       "      <td>...</td>\n",
       "      <td>...</td>\n",
       "    </tr>\n",
       "    <tr>\n",
       "      <th>310</th>\n",
       "      <td>147.965881</td>\n",
       "      <td>149.166667</td>\n",
       "    </tr>\n",
       "    <tr>\n",
       "      <th>311</th>\n",
       "      <td>153.930771</td>\n",
       "      <td>149.833333</td>\n",
       "    </tr>\n",
       "    <tr>\n",
       "      <th>312</th>\n",
       "      <td>151.956039</td>\n",
       "      <td>149.666667</td>\n",
       "    </tr>\n",
       "    <tr>\n",
       "      <th>313</th>\n",
       "      <td>150.000671</td>\n",
       "      <td>149.666667</td>\n",
       "    </tr>\n",
       "    <tr>\n",
       "      <th>314</th>\n",
       "      <td>148.957138</td>\n",
       "      <td>149.666667</td>\n",
       "    </tr>\n",
       "  </tbody>\n",
       "</table>\n",
       "<p>315 rows × 2 columns</p>\n",
       "</div>"
      ],
      "text/plain": [
       "     Train Predictions     Actuals\n",
       "0           189.024750  187.166667\n",
       "1           187.860550  183.833333\n",
       "2           183.817825  184.833333\n",
       "3           186.865952  187.500000\n",
       "4           189.196030  192.500000\n",
       "..                 ...         ...\n",
       "310         147.965881  149.166667\n",
       "311         153.930771  149.833333\n",
       "312         151.956039  149.666667\n",
       "313         150.000671  149.666667\n",
       "314         148.957138  149.666667\n",
       "\n",
       "[315 rows x 2 columns]"
      ]
     },
     "execution_count": 44,
     "metadata": {},
     "output_type": "execute_result"
    }
   ],
   "source": [
    "test_predictions = model5.predict(X_test1).flatten()\n",
    "test_results = pd.DataFrame(data={'Train Predictions':test_predictions, 'Actuals':y_test1})\n",
    "test_results"
   ]
  },
  {
   "cell_type": "code",
   "execution_count": 45,
   "id": "32b7ed6a",
   "metadata": {
    "execution": {
     "iopub.execute_input": "2025-01-27T22:01:04.234121Z",
     "iopub.status.busy": "2025-01-27T22:01:04.233798Z",
     "iopub.status.idle": "2025-01-27T22:01:04.391693Z",
     "shell.execute_reply": "2025-01-27T22:01:04.390674Z"
    },
    "papermill": {
     "duration": 0.201698,
     "end_time": "2025-01-27T22:01:04.393470",
     "exception": false,
     "start_time": "2025-01-27T22:01:04.191772",
     "status": "completed"
    },
    "tags": []
   },
   "outputs": [
    {
     "data": {
      "image/png": "[encoded data removed]",
      "text/plain": [
       "<Figure size 640x480 with 1 Axes>"
      ]
     },
     "metadata": {},
     "output_type": "display_data"
    }
   ],
   "source": [
    "plt.plot(test_results['Train Predictions'][1:50], label='Predicted')\n",
    "plt.plot(test_results['Actuals'][1:50], label='Actual')\n",
    "plt.legend()\n",
    "plt.show()"
   ]
  },
  {
   "cell_type": "markdown",
   "id": "77221ee1",
   "metadata": {
    "papermill": {
     "duration": 0.04132,
     "end_time": "2025-01-27T22:01:04.476974",
     "exception": false,
     "start_time": "2025-01-27T22:01:04.435654",
     "status": "completed"
    },
    "tags": []
   },
   "source": [
    "# **GRU(Normal)**"
   ]
  },
  {
   "cell_type": "code",
   "execution_count": 46,
   "id": "2aba8ae5",
   "metadata": {
    "execution": {
     "iopub.execute_input": "2025-01-27T22:01:04.561627Z",
     "iopub.status.busy": "2025-01-27T22:01:04.561218Z",
     "iopub.status.idle": "2025-01-27T22:01:28.099159Z",
     "shell.execute_reply": "2025-01-27T22:01:28.098082Z"
    },
    "papermill": {
     "duration": 23.582868,
     "end_time": "2025-01-27T22:01:28.100759",
     "exception": false,
     "start_time": "2025-01-27T22:01:04.517891",
     "status": "completed"
    },
    "tags": []
   },
   "outputs": [
    {
     "name": "stdout",
     "output_type": "stream",
     "text": [
      "Epoch 1/50\n",
      "\u001b[1m75/75\u001b[0m \u001b[32m━━━━━━━━━━━━━━━━━━━━\u001b[0m\u001b[37m\u001b[0m \u001b[1m3s\u001b[0m 9ms/step - loss: 25130.0879 - root_mean_squared_error: 158.4723 - val_loss: 20327.7695 - val_root_mean_squared_error: 142.5755\n",
      "Epoch 2/50\n",
      "\u001b[1m75/75\u001b[0m \u001b[32m━━━━━━━━━━━━━━━━━━━━\u001b[0m\u001b[37m\u001b[0m \u001b[1m0s\u001b[0m 5ms/step - loss: 13342.0146 - root_mean_squared_error: 115.2775 - val_loss: 9260.4180 - val_root_mean_squared_error: 96.2311\n",
      "Epoch 3/50\n",
      "\u001b[1m75/75\u001b[0m \u001b[32m━━━━━━━━━━━━━━━━━━━━\u001b[0m\u001b[37m\u001b[0m \u001b[1m0s\u001b[0m 5ms/step - loss: 6601.4521 - root_mean_squared_error: 81.2397 - val_loss: 8230.8066 - val_root_mean_squared_error: 90.7238\n",
      "Epoch 4/50\n",
      "\u001b[1m75/75\u001b[0m \u001b[32m━━━━━━━━━━━━━━━━━━━━\u001b[0m\u001b[37m\u001b[0m \u001b[1m0s\u001b[0m 6ms/step - loss: 5014.3823 - root_mean_squared_error: 70.8008 - val_loss: 7325.6519 - val_root_mean_squared_error: 85.5900\n",
      "Epoch 5/50\n",
      "\u001b[1m75/75\u001b[0m \u001b[32m━━━━━━━━━━━━━━━━━━━━\u001b[0m\u001b[37m\u001b[0m \u001b[1m0s\u001b[0m 6ms/step - loss: 4233.0239 - root_mean_squared_error: 65.0476 - val_loss: 6817.2920 - val_root_mean_squared_error: 82.5669\n",
      "Epoch 6/50\n",
      "\u001b[1m75/75\u001b[0m \u001b[32m━━━━━━━━━━━━━━━━━━━━\u001b[0m\u001b[37m\u001b[0m \u001b[1m0s\u001b[0m 5ms/step - loss: 3679.8945 - root_mean_squared_error: 60.6487 - val_loss: 6621.7773 - val_root_mean_squared_error: 81.3743\n",
      "Epoch 7/50\n",
      "\u001b[1m75/75\u001b[0m \u001b[32m━━━━━━━━━━━━━━━━━━━━\u001b[0m\u001b[37m\u001b[0m \u001b[1m0s\u001b[0m 5ms/step - loss: 3184.9612 - root_mean_squared_error: 56.4315 - val_loss: 6728.7871 - val_root_mean_squared_error: 82.0292\n",
      "Epoch 8/50\n",
      "\u001b[1m75/75\u001b[0m \u001b[32m━━━━━━━━━━━━━━━━━━━━\u001b[0m\u001b[37m\u001b[0m \u001b[1m0s\u001b[0m 5ms/step - loss: 3085.7043 - root_mean_squared_error: 55.5393 - val_loss: 6689.3086 - val_root_mean_squared_error: 81.7882\n",
      "Epoch 9/50\n",
      "\u001b[1m75/75\u001b[0m \u001b[32m━━━━━━━━━━━━━━━━━━━━\u001b[0m\u001b[37m\u001b[0m \u001b[1m0s\u001b[0m 5ms/step - loss: 2884.4739 - root_mean_squared_error: 53.7029 - val_loss: 6333.6216 - val_root_mean_squared_error: 79.5841\n",
      "Epoch 10/50\n",
      "\u001b[1m75/75\u001b[0m \u001b[32m━━━━━━━━━━━━━━━━━━━━\u001b[0m\u001b[37m\u001b[0m \u001b[1m0s\u001b[0m 5ms/step - loss: 2908.7036 - root_mean_squared_error: 53.9237 - val_loss: 6438.9507 - val_root_mean_squared_error: 80.2431\n",
      "Epoch 11/50\n",
      "\u001b[1m75/75\u001b[0m \u001b[32m━━━━━━━━━━━━━━━━━━━━\u001b[0m\u001b[37m\u001b[0m \u001b[1m0s\u001b[0m 5ms/step - loss: 2889.5713 - root_mean_squared_error: 53.7364 - val_loss: 6371.6436 - val_root_mean_squared_error: 79.8226\n",
      "Epoch 12/50\n",
      "\u001b[1m75/75\u001b[0m \u001b[32m━━━━━━━━━━━━━━━━━━━━\u001b[0m\u001b[37m\u001b[0m \u001b[1m0s\u001b[0m 5ms/step - loss: 2724.6177 - root_mean_squared_error: 52.1952 - val_loss: 6389.9292 - val_root_mean_squared_error: 79.9370\n",
      "Epoch 13/50\n",
      "\u001b[1m75/75\u001b[0m \u001b[32m━━━━━━━━━━━━━━━━━━━━\u001b[0m\u001b[37m\u001b[0m \u001b[1m0s\u001b[0m 5ms/step - loss: 2764.2041 - root_mean_squared_error: 52.5340 - val_loss: 6501.1128 - val_root_mean_squared_error: 80.6295\n",
      "Epoch 14/50\n",
      "\u001b[1m75/75\u001b[0m \u001b[32m━━━━━━━━━━━━━━━━━━━━\u001b[0m\u001b[37m\u001b[0m \u001b[1m0s\u001b[0m 5ms/step - loss: 2739.3027 - root_mean_squared_error: 52.3267 - val_loss: 6502.9004 - val_root_mean_squared_error: 80.6406\n",
      "Epoch 15/50\n",
      "\u001b[1m75/75\u001b[0m \u001b[32m━━━━━━━━━━━━━━━━━━━━\u001b[0m\u001b[37m\u001b[0m \u001b[1m0s\u001b[0m 5ms/step - loss: 2710.4014 - root_mean_squared_error: 52.0540 - val_loss: 6457.0444 - val_root_mean_squared_error: 80.3557\n",
      "Epoch 16/50\n",
      "\u001b[1m75/75\u001b[0m \u001b[32m━━━━━━━━━━━━━━━━━━━━\u001b[0m\u001b[37m\u001b[0m \u001b[1m0s\u001b[0m 5ms/step - loss: 2882.8157 - root_mean_squared_error: 53.6716 - val_loss: 6493.9004 - val_root_mean_squared_error: 80.5847\n",
      "Epoch 17/50\n",
      "\u001b[1m75/75\u001b[0m \u001b[32m━━━━━━━━━━━━━━━━━━━━\u001b[0m\u001b[37m\u001b[0m \u001b[1m0s\u001b[0m 6ms/step - loss: 2638.5134 - root_mean_squared_error: 51.3603 - val_loss: 6225.3960 - val_root_mean_squared_error: 78.9012\n",
      "Epoch 18/50\n",
      "\u001b[1m75/75\u001b[0m \u001b[32m━━━━━━━━━━━━━━━━━━━━\u001b[0m\u001b[37m\u001b[0m \u001b[1m0s\u001b[0m 5ms/step - loss: 2601.8376 - root_mean_squared_error: 50.9988 - val_loss: 6418.9536 - val_root_mean_squared_error: 80.1184\n",
      "Epoch 19/50\n",
      "\u001b[1m75/75\u001b[0m \u001b[32m━━━━━━━━━━━━━━━━━━━━\u001b[0m\u001b[37m\u001b[0m \u001b[1m0s\u001b[0m 5ms/step - loss: 2721.8071 - root_mean_squared_error: 52.1603 - val_loss: 6392.3140 - val_root_mean_squared_error: 79.9520\n",
      "Epoch 20/50\n",
      "\u001b[1m75/75\u001b[0m \u001b[32m━━━━━━━━━━━━━━━━━━━━\u001b[0m\u001b[37m\u001b[0m \u001b[1m0s\u001b[0m 5ms/step - loss: 2748.7756 - root_mean_squared_error: 52.4083 - val_loss: 6477.0454 - val_root_mean_squared_error: 80.4801\n",
      "Epoch 21/50\n",
      "\u001b[1m75/75\u001b[0m \u001b[32m━━━━━━━━━━━━━━━━━━━━\u001b[0m\u001b[37m\u001b[0m \u001b[1m0s\u001b[0m 5ms/step - loss: 2680.0615 - root_mean_squared_error: 51.7539 - val_loss: 6479.9888 - val_root_mean_squared_error: 80.4984\n",
      "Epoch 22/50\n",
      "\u001b[1m75/75\u001b[0m \u001b[32m━━━━━━━━━━━━━━━━━━━━\u001b[0m\u001b[37m\u001b[0m \u001b[1m0s\u001b[0m 5ms/step - loss: 2649.8210 - root_mean_squared_error: 51.4650 - val_loss: 6361.8774 - val_root_mean_squared_error: 79.7614\n",
      "Epoch 23/50\n",
      "\u001b[1m75/75\u001b[0m \u001b[32m━━━━━━━━━━━━━━━━━━━━\u001b[0m\u001b[37m\u001b[0m \u001b[1m0s\u001b[0m 5ms/step - loss: 2573.8582 - root_mean_squared_error: 50.7207 - val_loss: 6352.4062 - val_root_mean_squared_error: 79.7020\n",
      "Epoch 24/50\n",
      "\u001b[1m75/75\u001b[0m \u001b[32m━━━━━━━━━━━━━━━━━━━━\u001b[0m\u001b[37m\u001b[0m \u001b[1m0s\u001b[0m 5ms/step - loss: 2587.9207 - root_mean_squared_error: 50.8611 - val_loss: 6384.6157 - val_root_mean_squared_error: 79.9038\n",
      "Epoch 25/50\n",
      "\u001b[1m75/75\u001b[0m \u001b[32m━━━━━━━━━━━━━━━━━━━━\u001b[0m\u001b[37m\u001b[0m \u001b[1m0s\u001b[0m 5ms/step - loss: 2541.3440 - root_mean_squared_error: 50.3848 - val_loss: 6413.6270 - val_root_mean_squared_error: 80.0851\n",
      "Epoch 26/50\n",
      "\u001b[1m75/75\u001b[0m \u001b[32m━━━━━━━━━━━━━━━━━━━━\u001b[0m\u001b[37m\u001b[0m \u001b[1m0s\u001b[0m 5ms/step - loss: 2638.3799 - root_mean_squared_error: 51.3606 - val_loss: 6598.6016 - val_root_mean_squared_error: 81.2318\n",
      "Epoch 27/50\n",
      "\u001b[1m75/75\u001b[0m \u001b[32m━━━━━━━━━━━━━━━━━━━━\u001b[0m\u001b[37m\u001b[0m \u001b[1m0s\u001b[0m 5ms/step - loss: 2547.5664 - root_mean_squared_error: 50.4667 - val_loss: 6489.2446 - val_root_mean_squared_error: 80.5558\n",
      "Epoch 28/50\n",
      "\u001b[1m75/75\u001b[0m \u001b[32m━━━━━━━━━━━━━━━━━━━━\u001b[0m\u001b[37m\u001b[0m \u001b[1m0s\u001b[0m 5ms/step - loss: 2552.7119 - root_mean_squared_error: 50.5109 - val_loss: 6396.7900 - val_root_mean_squared_error: 79.9799\n",
      "Epoch 29/50\n",
      "\u001b[1m75/75\u001b[0m \u001b[32m━━━━━━━━━━━━━━━━━━━━\u001b[0m\u001b[37m\u001b[0m \u001b[1m0s\u001b[0m 5ms/step - loss: 2549.4812 - root_mean_squared_error: 50.4805 - val_loss: 6355.8062 - val_root_mean_squared_error: 79.7233\n",
      "Epoch 30/50\n",
      "\u001b[1m75/75\u001b[0m \u001b[32m━━━━━━━━━━━━━━━━━━━━\u001b[0m\u001b[37m\u001b[0m \u001b[1m0s\u001b[0m 5ms/step - loss: 2619.8967 - root_mean_squared_error: 51.1749 - val_loss: 6380.5713 - val_root_mean_squared_error: 79.8785\n",
      "Epoch 31/50\n",
      "\u001b[1m75/75\u001b[0m \u001b[32m━━━━━━━━━━━━━━━━━━━━\u001b[0m\u001b[37m\u001b[0m \u001b[1m0s\u001b[0m 5ms/step - loss: 2472.4285 - root_mean_squared_error: 49.7146 - val_loss: 6279.7305 - val_root_mean_squared_error: 79.2448\n",
      "Epoch 32/50\n",
      "\u001b[1m75/75\u001b[0m \u001b[32m━━━━━━━━━━━━━━━━━━━━\u001b[0m\u001b[37m\u001b[0m \u001b[1m0s\u001b[0m 5ms/step - loss: 2621.9402 - root_mean_squared_error: 51.1965 - val_loss: 6412.7373 - val_root_mean_squared_error: 80.0796\n",
      "Epoch 33/50\n",
      "\u001b[1m75/75\u001b[0m \u001b[32m━━━━━━━━━━━━━━━━━━━━\u001b[0m\u001b[37m\u001b[0m \u001b[1m0s\u001b[0m 5ms/step - loss: 2578.8765 - root_mean_squared_error: 50.7653 - val_loss: 6412.9897 - val_root_mean_squared_error: 80.0811\n",
      "Epoch 34/50\n",
      "\u001b[1m75/75\u001b[0m \u001b[32m━━━━━━━━━━━━━━━━━━━━\u001b[0m\u001b[37m\u001b[0m \u001b[1m0s\u001b[0m 5ms/step - loss: 2537.7334 - root_mean_squared_error: 50.3743 - val_loss: 6405.2319 - val_root_mean_squared_error: 80.0327\n",
      "Epoch 35/50\n",
      "\u001b[1m75/75\u001b[0m \u001b[32m━━━━━━━━━━━━━━━━━━━━\u001b[0m\u001b[37m\u001b[0m \u001b[1m0s\u001b[0m 5ms/step - loss: 2528.8845 - root_mean_squared_error: 50.2801 - val_loss: 6312.9678 - val_root_mean_squared_error: 79.4542\n",
      "Epoch 36/50\n",
      "\u001b[1m75/75\u001b[0m \u001b[32m━━━━━━━━━━━━━━━━━━━━\u001b[0m\u001b[37m\u001b[0m \u001b[1m0s\u001b[0m 5ms/step - loss: 2528.2781 - root_mean_squared_error: 50.2754 - val_loss: 6303.7163 - val_root_mean_squared_error: 79.3959\n",
      "Epoch 37/50\n",
      "\u001b[1m75/75\u001b[0m \u001b[32m━━━━━━━━━━━━━━━━━━━━\u001b[0m\u001b[37m\u001b[0m \u001b[1m0s\u001b[0m 5ms/step - loss: 2408.8057 - root_mean_squared_error: 49.0707 - val_loss: 6249.9707 - val_root_mean_squared_error: 79.0568\n",
      "Epoch 38/50\n",
      "\u001b[1m75/75\u001b[0m \u001b[32m━━━━━━━━━━━━━━━━━━━━\u001b[0m\u001b[37m\u001b[0m \u001b[1m0s\u001b[0m 5ms/step - loss: 2596.8906 - root_mean_squared_error: 50.9499 - val_loss: 6461.4292 - val_root_mean_squared_error: 80.3830\n",
      "Epoch 39/50\n",
      "\u001b[1m75/75\u001b[0m \u001b[32m━━━━━━━━━━━━━━━━━━━━\u001b[0m\u001b[37m\u001b[0m \u001b[1m0s\u001b[0m 5ms/step - loss: 2538.1748 - root_mean_squared_error: 50.3726 - val_loss: 6493.2998 - val_root_mean_squared_error: 80.5810\n",
      "Epoch 40/50\n",
      "\u001b[1m75/75\u001b[0m \u001b[32m━━━━━━━━━━━━━━━━━━━━\u001b[0m\u001b[37m\u001b[0m \u001b[1m0s\u001b[0m 6ms/step - loss: 2501.6516 - root_mean_squared_error: 50.0108 - val_loss: 6190.1353 - val_root_mean_squared_error: 78.6774\n",
      "Epoch 41/50\n",
      "\u001b[1m75/75\u001b[0m \u001b[32m━━━━━━━━━━━━━━━━━━━━\u001b[0m\u001b[37m\u001b[0m \u001b[1m0s\u001b[0m 5ms/step - loss: 2546.0044 - root_mean_squared_error: 50.4537 - val_loss: 6281.5913 - val_root_mean_squared_error: 79.2565\n",
      "Epoch 42/50\n",
      "\u001b[1m75/75\u001b[0m \u001b[32m━━━━━━━━━━━━━━━━━━━━\u001b[0m\u001b[37m\u001b[0m \u001b[1m0s\u001b[0m 5ms/step - loss: 2537.7905 - root_mean_squared_error: 50.3708 - val_loss: 6449.6587 - val_root_mean_squared_error: 80.3098\n",
      "Epoch 43/50\n",
      "\u001b[1m75/75\u001b[0m \u001b[32m━━━━━━━━━━━━━━━━━━━━\u001b[0m\u001b[37m\u001b[0m \u001b[1m0s\u001b[0m 5ms/step - loss: 2556.7236 - root_mean_squared_error: 50.5509 - val_loss: 6475.0459 - val_root_mean_squared_error: 80.4677\n",
      "Epoch 44/50\n",
      "\u001b[1m75/75\u001b[0m \u001b[32m━━━━━━━━━━━━━━━━━━━━\u001b[0m\u001b[37m\u001b[0m \u001b[1m0s\u001b[0m 5ms/step - loss: 2429.2024 - root_mean_squared_error: 49.2763 - val_loss: 6306.2896 - val_root_mean_squared_error: 79.4121\n",
      "Epoch 45/50\n",
      "\u001b[1m75/75\u001b[0m \u001b[32m━━━━━━━━━━━━━━━━━━━━\u001b[0m\u001b[37m\u001b[0m \u001b[1m0s\u001b[0m 5ms/step - loss: 2450.0181 - root_mean_squared_error: 49.4932 - val_loss: 6272.2461 - val_root_mean_squared_error: 79.1975\n",
      "Epoch 46/50\n",
      "\u001b[1m75/75\u001b[0m \u001b[32m━━━━━━━━━━━━━━━━━━━━\u001b[0m\u001b[37m\u001b[0m \u001b[1m0s\u001b[0m 5ms/step - loss: 2504.4626 - root_mean_squared_error: 50.0368 - val_loss: 6293.7407 - val_root_mean_squared_error: 79.3331\n",
      "Epoch 47/50\n",
      "\u001b[1m75/75\u001b[0m \u001b[32m━━━━━━━━━━━━━━━━━━━━\u001b[0m\u001b[37m\u001b[0m \u001b[1m0s\u001b[0m 5ms/step - loss: 2511.8660 - root_mean_squared_error: 50.1001 - val_loss: 6479.3535 - val_root_mean_squared_error: 80.4944\n",
      "Epoch 48/50\n",
      "\u001b[1m75/75\u001b[0m \u001b[32m━━━━━━━━━━━━━━━━━━━━\u001b[0m\u001b[37m\u001b[0m \u001b[1m0s\u001b[0m 5ms/step - loss: 2612.5308 - root_mean_squared_error: 51.1017 - val_loss: 6332.6470 - val_root_mean_squared_error: 79.5779\n",
      "Epoch 49/50\n",
      "\u001b[1m75/75\u001b[0m \u001b[32m━━━━━━━━━━━━━━━━━━━━\u001b[0m\u001b[37m\u001b[0m \u001b[1m0s\u001b[0m 5ms/step - loss: 2505.8345 - root_mean_squared_error: 50.0506 - val_loss: 6259.3115 - val_root_mean_squared_error: 79.1158\n",
      "Epoch 50/50\n",
      "\u001b[1m75/75\u001b[0m \u001b[32m━━━━━━━━━━━━━━━━━━━━\u001b[0m\u001b[37m\u001b[0m \u001b[1m0s\u001b[0m 5ms/step - loss: 2490.2493 - root_mean_squared_error: 49.8678 - val_loss: 6361.5044 - val_root_mean_squared_error: 79.7590\n"
     ]
    },
    {
     "data": {
      "text/plain": [
       "<keras.src.callbacks.history.History at 0x7ca984f8ef80>"
      ]
     },
     "execution_count": 46,
     "metadata": {},
     "output_type": "execute_result"
    }
   ],
   "source": [
    "model6 = Sequential()\n",
    "model6.add(InputLayer((6, 6)))  # 6 timestamps, 6 features\n",
    "model6.add(BatchNormalization())  # Normalize inputs\n",
    "model6.add(GRU(64, activation='relu', return_sequences=True))  # GRU layer\n",
    "model6.add(Dropout(0.3))  # Dropout for regularization\n",
    "model6.add(Dense(32, activation='relu'))  \n",
    "model6.add(Dense(1, activation='linear'))  \n",
    "\n",
    "cp6 = ModelCheckpoint('/kaggle/working/model6.keras', save_best_only=True)\n",
    "\n",
    "model6.compile(loss=MeanSquaredError(), optimizer=Adam(learning_rate=0.001), \n",
    "               metrics=[RootMeanSquaredError()])\n",
    "\n",
    "model6.fit(X_train1, y_train1, validation_data=(X_val1, y_val1), epochs=50, \n",
    "           callbacks=[cp6])"
   ]
  },
  {
   "cell_type": "markdown",
   "id": "38b0c2aa",
   "metadata": {
    "papermill": {
     "duration": 0.068947,
     "end_time": "2025-01-27T22:01:28.239058",
     "exception": false,
     "start_time": "2025-01-27T22:01:28.170111",
     "status": "completed"
    },
    "tags": []
   },
   "source": [
    "# Bidirectional LSTM(Normal)"
   ]
  },
  {
   "cell_type": "code",
   "execution_count": 47,
   "id": "f560ea75",
   "metadata": {
    "execution": {
     "iopub.execute_input": "2025-01-27T22:01:28.376606Z",
     "iopub.status.busy": "2025-01-27T22:01:28.376250Z",
     "iopub.status.idle": "2025-01-27T22:01:49.647676Z",
     "shell.execute_reply": "2025-01-27T22:01:49.646766Z"
    },
    "papermill": {
     "duration": 21.341552,
     "end_time": "2025-01-27T22:01:49.649265",
     "exception": false,
     "start_time": "2025-01-27T22:01:28.307713",
     "status": "completed"
    },
    "tags": []
   },
   "outputs": [
    {
     "name": "stdout",
     "output_type": "stream",
     "text": [
      "Epoch 1/50\n",
      "\u001b[1m75/75\u001b[0m \u001b[32m━━━━━━━━━━━━━━━━━━━━\u001b[0m\u001b[37m\u001b[0m \u001b[1m0s\u001b[0m 6ms/step - loss: 2550.9141 - root_mean_squared_error: 50.4592 - val_loss: 6474.9580 - val_root_mean_squared_error: 80.4671\n",
      "Epoch 2/50\n",
      "\u001b[1m75/75\u001b[0m \u001b[32m━━━━━━━━━━━━━━━━━━━━\u001b[0m\u001b[37m\u001b[0m \u001b[1m0s\u001b[0m 6ms/step - loss: 2491.0813 - root_mean_squared_error: 49.8895 - val_loss: 6346.5762 - val_root_mean_squared_error: 79.6654\n",
      "Epoch 3/50\n",
      "\u001b[1m75/75\u001b[0m \u001b[32m━━━━━━━━━━━━━━━━━━━━\u001b[0m\u001b[37m\u001b[0m \u001b[1m0s\u001b[0m 5ms/step - loss: 2542.9688 - root_mean_squared_error: 50.4193 - val_loss: 6341.5605 - val_root_mean_squared_error: 79.6339\n",
      "Epoch 4/50\n",
      "\u001b[1m75/75\u001b[0m \u001b[32m━━━━━━━━━━━━━━━━━━━━\u001b[0m\u001b[37m\u001b[0m \u001b[1m0s\u001b[0m 5ms/step - loss: 2580.6433 - root_mean_squared_error: 50.7950 - val_loss: 6475.5566 - val_root_mean_squared_error: 80.4708\n",
      "Epoch 5/50\n",
      "\u001b[1m75/75\u001b[0m \u001b[32m━━━━━━━━━━━━━━━━━━━━\u001b[0m\u001b[37m\u001b[0m \u001b[1m0s\u001b[0m 6ms/step - loss: 2549.0989 - root_mean_squared_error: 50.4786 - val_loss: 6380.1147 - val_root_mean_squared_error: 79.8756\n",
      "Epoch 6/50\n",
      "\u001b[1m75/75\u001b[0m \u001b[32m━━━━━━━━━━━━━━━━━━━━\u001b[0m\u001b[37m\u001b[0m \u001b[1m0s\u001b[0m 6ms/step - loss: 2568.1885 - root_mean_squared_error: 50.6740 - val_loss: 6405.4365 - val_root_mean_squared_error: 80.0340\n",
      "Epoch 7/50\n",
      "\u001b[1m75/75\u001b[0m \u001b[32m━━━━━━━━━━━━━━━━━━━━\u001b[0m\u001b[37m\u001b[0m \u001b[1m0s\u001b[0m 6ms/step - loss: 2522.6060 - root_mean_squared_error: 50.2210 - val_loss: 6266.1499 - val_root_mean_squared_error: 79.1590\n",
      "Epoch 8/50\n",
      "\u001b[1m75/75\u001b[0m \u001b[32m━━━━━━━━━━━━━━━━━━━━\u001b[0m\u001b[37m\u001b[0m \u001b[1m0s\u001b[0m 6ms/step - loss: 2508.4316 - root_mean_squared_error: 50.0808 - val_loss: 6226.8096 - val_root_mean_squared_error: 78.9101\n",
      "Epoch 9/50\n",
      "\u001b[1m75/75\u001b[0m \u001b[32m━━━━━━━━━━━━━━━━━━━━\u001b[0m\u001b[37m\u001b[0m \u001b[1m0s\u001b[0m 5ms/step - loss: 2559.2009 - root_mean_squared_error: 50.5783 - val_loss: 6308.2944 - val_root_mean_squared_error: 79.4248\n",
      "Epoch 10/50\n",
      "\u001b[1m75/75\u001b[0m \u001b[32m━━━━━━━━━━━━━━━━━━━━\u001b[0m\u001b[37m\u001b[0m \u001b[1m0s\u001b[0m 5ms/step - loss: 2422.4055 - root_mean_squared_error: 49.2019 - val_loss: 6537.0786 - val_root_mean_squared_error: 80.8522\n",
      "Epoch 11/50\n",
      "\u001b[1m75/75\u001b[0m \u001b[32m━━━━━━━━━━━━━━━━━━━━\u001b[0m\u001b[37m\u001b[0m \u001b[1m0s\u001b[0m 5ms/step - loss: 2487.6519 - root_mean_squared_error: 49.8698 - val_loss: 6407.1743 - val_root_mean_squared_error: 80.0448\n",
      "Epoch 12/50\n",
      "\u001b[1m75/75\u001b[0m \u001b[32m━━━━━━━━━━━━━━━━━━━━\u001b[0m\u001b[37m\u001b[0m \u001b[1m0s\u001b[0m 5ms/step - loss: 2546.5449 - root_mean_squared_error: 50.4610 - val_loss: 6415.5303 - val_root_mean_squared_error: 80.0970\n",
      "Epoch 13/50\n",
      "\u001b[1m75/75\u001b[0m \u001b[32m━━━━━━━━━━━━━━━━━━━━\u001b[0m\u001b[37m\u001b[0m \u001b[1m0s\u001b[0m 5ms/step - loss: 2441.8201 - root_mean_squared_error: 49.4042 - val_loss: 6264.4087 - val_root_mean_squared_error: 79.1480\n",
      "Epoch 14/50\n",
      "\u001b[1m75/75\u001b[0m \u001b[32m━━━━━━━━━━━━━━━━━━━━\u001b[0m\u001b[37m\u001b[0m \u001b[1m0s\u001b[0m 5ms/step - loss: 2532.9688 - root_mean_squared_error: 50.3075 - val_loss: 6497.8525 - val_root_mean_squared_error: 80.6093\n",
      "Epoch 15/50\n",
      "\u001b[1m75/75\u001b[0m \u001b[32m━━━━━━━━━━━━━━━━━━━━\u001b[0m\u001b[37m\u001b[0m \u001b[1m0s\u001b[0m 5ms/step - loss: 2421.2766 - root_mean_squared_error: 49.1904 - val_loss: 6445.3086 - val_root_mean_squared_error: 80.2827\n",
      "Epoch 16/50\n",
      "\u001b[1m75/75\u001b[0m \u001b[32m━━━━━━━━━━━━━━━━━━━━\u001b[0m\u001b[37m\u001b[0m \u001b[1m0s\u001b[0m 5ms/step - loss: 2496.6426 - root_mean_squared_error: 49.9334 - val_loss: 6323.5518 - val_root_mean_squared_error: 79.5208\n",
      "Epoch 17/50\n",
      "\u001b[1m75/75\u001b[0m \u001b[32m━━━━━━━━━━━━━━━━━━━━\u001b[0m\u001b[37m\u001b[0m \u001b[1m0s\u001b[0m 5ms/step - loss: 2465.9683 - root_mean_squared_error: 49.6493 - val_loss: 6333.7593 - val_root_mean_squared_error: 79.5849\n",
      "Epoch 18/50\n",
      "\u001b[1m75/75\u001b[0m \u001b[32m━━━━━━━━━━━━━━━━━━━━\u001b[0m\u001b[37m\u001b[0m \u001b[1m0s\u001b[0m 5ms/step - loss: 2483.4097 - root_mean_squared_error: 49.8310 - val_loss: 6407.4922 - val_root_mean_squared_error: 80.0468\n",
      "Epoch 19/50\n",
      "\u001b[1m75/75\u001b[0m \u001b[32m━━━━━━━━━━━━━━━━━━━━\u001b[0m\u001b[37m\u001b[0m \u001b[1m0s\u001b[0m 5ms/step - loss: 2464.2825 - root_mean_squared_error: 49.6386 - val_loss: 6449.2202 - val_root_mean_squared_error: 80.3070\n",
      "Epoch 20/50\n",
      "\u001b[1m75/75\u001b[0m \u001b[32m━━━━━━━━━━━━━━━━━━━━\u001b[0m\u001b[37m\u001b[0m \u001b[1m0s\u001b[0m 5ms/step - loss: 2441.6836 - root_mean_squared_error: 49.3957 - val_loss: 6401.5503 - val_root_mean_squared_error: 80.0097\n",
      "Epoch 21/50\n",
      "\u001b[1m75/75\u001b[0m \u001b[32m━━━━━━━━━━━━━━━━━━━━\u001b[0m\u001b[37m\u001b[0m \u001b[1m0s\u001b[0m 5ms/step - loss: 2624.4373 - root_mean_squared_error: 51.1784 - val_loss: 6303.4888 - val_root_mean_squared_error: 79.3945\n",
      "Epoch 22/50\n",
      "\u001b[1m75/75\u001b[0m \u001b[32m━━━━━━━━━━━━━━━━━━━━\u001b[0m\u001b[37m\u001b[0m \u001b[1m0s\u001b[0m 5ms/step - loss: 2571.3223 - root_mean_squared_error: 50.6958 - val_loss: 6280.2510 - val_root_mean_squared_error: 79.2480\n",
      "Epoch 23/50\n",
      "\u001b[1m75/75\u001b[0m \u001b[32m━━━━━━━━━━━━━━━━━━━━\u001b[0m\u001b[37m\u001b[0m \u001b[1m0s\u001b[0m 5ms/step - loss: 2506.4160 - root_mean_squared_error: 50.0589 - val_loss: 6366.5762 - val_root_mean_squared_error: 79.7908\n",
      "Epoch 24/50\n",
      "\u001b[1m75/75\u001b[0m \u001b[32m━━━━━━━━━━━━━━━━━━━━\u001b[0m\u001b[37m\u001b[0m \u001b[1m0s\u001b[0m 5ms/step - loss: 2524.8403 - root_mean_squared_error: 50.2461 - val_loss: 6466.2896 - val_root_mean_squared_error: 80.4132\n",
      "Epoch 25/50\n",
      "\u001b[1m75/75\u001b[0m \u001b[32m━━━━━━━━━━━━━━━━━━━━\u001b[0m\u001b[37m\u001b[0m \u001b[1m0s\u001b[0m 6ms/step - loss: 2594.1494 - root_mean_squared_error: 50.9222 - val_loss: 6352.5171 - val_root_mean_squared_error: 79.7027\n",
      "Epoch 26/50\n",
      "\u001b[1m75/75\u001b[0m \u001b[32m━━━━━━━━━━━━━━━━━━━━\u001b[0m\u001b[37m\u001b[0m \u001b[1m0s\u001b[0m 5ms/step - loss: 2392.0737 - root_mean_squared_error: 48.8903 - val_loss: 6390.1802 - val_root_mean_squared_error: 79.9386\n",
      "Epoch 27/50\n",
      "\u001b[1m75/75\u001b[0m \u001b[32m━━━━━━━━━━━━━━━━━━━━\u001b[0m\u001b[37m\u001b[0m \u001b[1m0s\u001b[0m 5ms/step - loss: 2558.8091 - root_mean_squared_error: 50.5676 - val_loss: 6409.1069 - val_root_mean_squared_error: 80.0569\n",
      "Epoch 28/50\n",
      "\u001b[1m75/75\u001b[0m \u001b[32m━━━━━━━━━━━━━━━━━━━━\u001b[0m\u001b[37m\u001b[0m \u001b[1m0s\u001b[0m 5ms/step - loss: 2467.6201 - root_mean_squared_error: 49.6296 - val_loss: 6290.4990 - val_root_mean_squared_error: 79.3127\n",
      "Epoch 29/50\n",
      "\u001b[1m75/75\u001b[0m \u001b[32m━━━━━━━━━━━━━━━━━━━━\u001b[0m\u001b[37m\u001b[0m \u001b[1m0s\u001b[0m 5ms/step - loss: 2501.0466 - root_mean_squared_error: 50.0051 - val_loss: 6293.1255 - val_root_mean_squared_error: 79.3292\n",
      "Epoch 30/50\n",
      "\u001b[1m75/75\u001b[0m \u001b[32m━━━━━━━━━━━━━━━━━━━━\u001b[0m\u001b[37m\u001b[0m \u001b[1m0s\u001b[0m 5ms/step - loss: 2481.3020 - root_mean_squared_error: 49.8094 - val_loss: 6371.9014 - val_root_mean_squared_error: 79.8242\n",
      "Epoch 31/50\n",
      "\u001b[1m75/75\u001b[0m \u001b[32m━━━━━━━━━━━━━━━━━━━━\u001b[0m\u001b[37m\u001b[0m \u001b[1m0s\u001b[0m 5ms/step - loss: 2518.9470 - root_mean_squared_error: 50.1855 - val_loss: 6446.4990 - val_root_mean_squared_error: 80.2901\n",
      "Epoch 32/50\n",
      "\u001b[1m75/75\u001b[0m \u001b[32m━━━━━━━━━━━━━━━━━━━━\u001b[0m\u001b[37m\u001b[0m \u001b[1m0s\u001b[0m 5ms/step - loss: 2351.6897 - root_mean_squared_error: 48.4795 - val_loss: 6271.2061 - val_root_mean_squared_error: 79.1909\n",
      "Epoch 33/50\n",
      "\u001b[1m75/75\u001b[0m \u001b[32m━━━━━━━━━━━━━━━━━━━━\u001b[0m\u001b[37m\u001b[0m \u001b[1m0s\u001b[0m 5ms/step - loss: 2509.3401 - root_mean_squared_error: 50.0796 - val_loss: 6468.7734 - val_root_mean_squared_error: 80.4287\n",
      "Epoch 34/50\n",
      "\u001b[1m75/75\u001b[0m \u001b[32m━━━━━━━━━━━━━━━━━━━━\u001b[0m\u001b[37m\u001b[0m \u001b[1m0s\u001b[0m 5ms/step - loss: 2453.1182 - root_mean_squared_error: 49.5211 - val_loss: 6555.7910 - val_root_mean_squared_error: 80.9678\n",
      "Epoch 35/50\n",
      "\u001b[1m75/75\u001b[0m \u001b[32m━━━━━━━━━━━━━━━━━━━━\u001b[0m\u001b[37m\u001b[0m \u001b[1m0s\u001b[0m 5ms/step - loss: 2446.7629 - root_mean_squared_error: 49.4594 - val_loss: 6377.6445 - val_root_mean_squared_error: 79.8602\n",
      "Epoch 36/50\n",
      "\u001b[1m75/75\u001b[0m \u001b[32m━━━━━━━━━━━━━━━━━━━━\u001b[0m\u001b[37m\u001b[0m \u001b[1m0s\u001b[0m 5ms/step - loss: 2506.2253 - root_mean_squared_error: 50.0567 - val_loss: 6422.1128 - val_root_mean_squared_error: 80.1381\n",
      "Epoch 37/50\n",
      "\u001b[1m75/75\u001b[0m \u001b[32m━━━━━━━━━━━━━━━━━━━━\u001b[0m\u001b[37m\u001b[0m \u001b[1m0s\u001b[0m 5ms/step - loss: 2432.4739 - root_mean_squared_error: 49.3113 - val_loss: 6386.8921 - val_root_mean_squared_error: 79.9180\n",
      "Epoch 38/50\n",
      "\u001b[1m75/75\u001b[0m \u001b[32m━━━━━━━━━━━━━━━━━━━━\u001b[0m\u001b[37m\u001b[0m \u001b[1m0s\u001b[0m 5ms/step - loss: 2425.4478 - root_mean_squared_error: 49.2372 - val_loss: 6223.1646 - val_root_mean_squared_error: 78.8870\n",
      "Epoch 39/50\n",
      "\u001b[1m75/75\u001b[0m \u001b[32m━━━━━━━━━━━━━━━━━━━━\u001b[0m\u001b[37m\u001b[0m \u001b[1m0s\u001b[0m 5ms/step - loss: 2370.9255 - root_mean_squared_error: 48.6696 - val_loss: 6241.3203 - val_root_mean_squared_error: 79.0020\n",
      "Epoch 40/50\n",
      "\u001b[1m75/75\u001b[0m \u001b[32m━━━━━━━━━━━━━━━━━━━━\u001b[0m\u001b[37m\u001b[0m \u001b[1m0s\u001b[0m 5ms/step - loss: 2463.6050 - root_mean_squared_error: 49.6326 - val_loss: 6445.9043 - val_root_mean_squared_error: 80.2864\n",
      "Epoch 41/50\n",
      "\u001b[1m75/75\u001b[0m \u001b[32m━━━━━━━━━━━━━━━━━━━━\u001b[0m\u001b[37m\u001b[0m \u001b[1m0s\u001b[0m 5ms/step - loss: 2334.2495 - root_mean_squared_error: 48.3047 - val_loss: 6430.7891 - val_root_mean_squared_error: 80.1922\n",
      "Epoch 42/50\n",
      "\u001b[1m75/75\u001b[0m \u001b[32m━━━━━━━━━━━━━━━━━━━━\u001b[0m\u001b[37m\u001b[0m \u001b[1m0s\u001b[0m 5ms/step - loss: 2588.5105 - root_mean_squared_error: 50.7749 - val_loss: 6394.0596 - val_root_mean_squared_error: 79.9629\n",
      "Epoch 43/50\n",
      "\u001b[1m75/75\u001b[0m \u001b[32m━━━━━━━━━━━━━━━━━━━━\u001b[0m\u001b[37m\u001b[0m \u001b[1m0s\u001b[0m 5ms/step - loss: 2523.0823 - root_mean_squared_error: 50.2263 - val_loss: 6503.6812 - val_root_mean_squared_error: 80.6454\n",
      "Epoch 44/50\n",
      "\u001b[1m75/75\u001b[0m \u001b[32m━━━━━━━━━━━━━━━━━━━━\u001b[0m\u001b[37m\u001b[0m \u001b[1m0s\u001b[0m 5ms/step - loss: 2388.0159 - root_mean_squared_error: 48.8527 - val_loss: 6265.9614 - val_root_mean_squared_error: 79.1578\n",
      "Epoch 45/50\n",
      "\u001b[1m75/75\u001b[0m \u001b[32m━━━━━━━━━━━━━━━━━━━━\u001b[0m\u001b[37m\u001b[0m \u001b[1m0s\u001b[0m 5ms/step - loss: 2483.7283 - root_mean_squared_error: 49.8266 - val_loss: 6409.3906 - val_root_mean_squared_error: 80.0587\n",
      "Epoch 46/50\n",
      "\u001b[1m75/75\u001b[0m \u001b[32m━━━━━━━━━━━━━━━━━━━━\u001b[0m\u001b[37m\u001b[0m \u001b[1m0s\u001b[0m 5ms/step - loss: 2505.3176 - root_mean_squared_error: 50.0428 - val_loss: 6463.5127 - val_root_mean_squared_error: 80.3960\n",
      "Epoch 47/50\n",
      "\u001b[1m75/75\u001b[0m \u001b[32m━━━━━━━━━━━━━━━━━━━━\u001b[0m\u001b[37m\u001b[0m \u001b[1m0s\u001b[0m 5ms/step - loss: 2588.0732 - root_mean_squared_error: 50.8644 - val_loss: 6361.0591 - val_root_mean_squared_error: 79.7562\n",
      "Epoch 48/50\n",
      "\u001b[1m75/75\u001b[0m \u001b[32m━━━━━━━━━━━━━━━━━━━━\u001b[0m\u001b[37m\u001b[0m \u001b[1m0s\u001b[0m 5ms/step - loss: 2363.9580 - root_mean_squared_error: 48.5944 - val_loss: 6443.5312 - val_root_mean_squared_error: 80.2716\n",
      "Epoch 49/50\n",
      "\u001b[1m75/75\u001b[0m \u001b[32m━━━━━━━━━━━━━━━━━━━━\u001b[0m\u001b[37m\u001b[0m \u001b[1m0s\u001b[0m 6ms/step - loss: 2325.3325 - root_mean_squared_error: 48.1842 - val_loss: 6530.6533 - val_root_mean_squared_error: 80.8125\n",
      "Epoch 50/50\n",
      "\u001b[1m75/75\u001b[0m \u001b[32m━━━━━━━━━━━━━━━━━━━━\u001b[0m\u001b[37m\u001b[0m \u001b[1m0s\u001b[0m 5ms/step - loss: 2396.8906 - root_mean_squared_error: 48.9450 - val_loss: 6407.9575 - val_root_mean_squared_error: 80.0497\n"
     ]
    },
    {
     "data": {
      "text/plain": [
       "<keras.src.callbacks.history.History at 0x7ca9848a8f10>"
      ]
     },
     "execution_count": 47,
     "metadata": {},
     "output_type": "execute_result"
    }
   ],
   "source": [
    "model7 = Sequential()\n",
    "model7.add(InputLayer((6, 6)))  # 6 timestamps, 6 features\n",
    "model7.add(BatchNormalization())  # Normalize inputs\n",
    "model7.add(GRU(64, activation='relu', return_sequences=True))  # GRU layer\n",
    "model7.add(Dropout(0.3)) \n",
    "model7.add(Dense(32, activation='relu'))  \n",
    "model7.add(Dense(1, activation='linear'))  \n",
    "\n",
    "cp7 = ModelCheckpoint('/kaggle/working/model7.keras', save_best_only=True)\n",
    "\n",
    "model7.compile(loss=MeanSquaredError(), optimizer=Adam(learning_rate=0.001), \n",
    "               metrics=[RootMeanSquaredError()])\n",
    "\n",
    "model6.fit(X_train1, y_train1, validation_data=(X_val1, y_val1), epochs=50, \n",
    "           callbacks=[cp7])"
   ]
  },
  {
   "cell_type": "code",
   "execution_count": null,
   "id": "417bc562",
   "metadata": {
    "papermill": {
     "duration": 0.089878,
     "end_time": "2025-01-27T22:01:49.833540",
     "exception": false,
     "start_time": "2025-01-27T22:01:49.743662",
     "status": "completed"
    },
    "tags": []
   },
   "outputs": [],
   "source": []
  },
  {
   "cell_type": "markdown",
   "id": "18a288bc",
   "metadata": {
    "papermill": {
     "duration": 0.088767,
     "end_time": "2025-01-27T22:01:50.011182",
     "exception": false,
     "start_time": "2025-01-27T22:01:49.922415",
     "status": "completed"
    },
    "tags": []
   },
   "source": [
    "# Hybrid CNN + LSTM"
   ]
  },
  {
   "cell_type": "code",
   "execution_count": 48,
   "id": "77b44e9f",
   "metadata": {
    "execution": {
     "iopub.execute_input": "2025-01-27T22:01:50.196172Z",
     "iopub.status.busy": "2025-01-27T22:01:50.195816Z",
     "iopub.status.idle": "2025-01-27T22:02:05.536522Z",
     "shell.execute_reply": "2025-01-27T22:02:05.535573Z"
    },
    "papermill": {
     "duration": 15.436397,
     "end_time": "2025-01-27T22:02:05.538014",
     "exception": false,
     "start_time": "2025-01-27T22:01:50.101617",
     "status": "completed"
    },
    "tags": []
   },
   "outputs": [
    {
     "name": "stdout",
     "output_type": "stream",
     "text": [
      "Epoch 1/50\n",
      "\u001b[1m75/75\u001b[0m \u001b[32m━━━━━━━━━━━━━━━━━━━━\u001b[0m\u001b[37m\u001b[0m \u001b[1m3s\u001b[0m 7ms/step - loss: 10448.4043 - root_mean_squared_error: 99.0496 - val_loss: 1232.9662 - val_root_mean_squared_error: 35.1136\n",
      "Epoch 2/50\n",
      "\u001b[1m75/75\u001b[0m \u001b[32m━━━━━━━━━━━━━━━━━━━━\u001b[0m\u001b[37m\u001b[0m \u001b[1m0s\u001b[0m 3ms/step - loss: 1206.7086 - root_mean_squared_error: 34.6730 - val_loss: 1430.1536 - val_root_mean_squared_error: 37.8174\n",
      "Epoch 3/50\n",
      "\u001b[1m75/75\u001b[0m \u001b[32m━━━━━━━━━━━━━━━━━━━━\u001b[0m\u001b[37m\u001b[0m \u001b[1m0s\u001b[0m 3ms/step - loss: 751.5995 - root_mean_squared_error: 27.4100 - val_loss: 2422.6558 - val_root_mean_squared_error: 49.2205\n",
      "Epoch 4/50\n",
      "\u001b[1m75/75\u001b[0m \u001b[32m━━━━━━━━━━━━━━━━━━━━\u001b[0m\u001b[37m\u001b[0m \u001b[1m0s\u001b[0m 3ms/step - loss: 637.7900 - root_mean_squared_error: 25.2390 - val_loss: 2025.7142 - val_root_mean_squared_error: 45.0079\n",
      "Epoch 5/50\n",
      "\u001b[1m75/75\u001b[0m \u001b[32m━━━━━━━━━━━━━━━━━━━━\u001b[0m\u001b[37m\u001b[0m \u001b[1m0s\u001b[0m 3ms/step - loss: 554.1823 - root_mean_squared_error: 23.5354 - val_loss: 2791.3027 - val_root_mean_squared_error: 52.8328\n",
      "Epoch 6/50\n",
      "\u001b[1m75/75\u001b[0m \u001b[32m━━━━━━━━━━━━━━━━━━━━\u001b[0m\u001b[37m\u001b[0m \u001b[1m0s\u001b[0m 3ms/step - loss: 511.7621 - root_mean_squared_error: 22.6010 - val_loss: 2866.1013 - val_root_mean_squared_error: 53.5360\n",
      "Epoch 7/50\n",
      "\u001b[1m75/75\u001b[0m \u001b[32m━━━━━━━━━━━━━━━━━━━━\u001b[0m\u001b[37m\u001b[0m \u001b[1m0s\u001b[0m 3ms/step - loss: 438.9857 - root_mean_squared_error: 20.9430 - val_loss: 3060.3762 - val_root_mean_squared_error: 55.3207\n",
      "Epoch 8/50\n",
      "\u001b[1m75/75\u001b[0m \u001b[32m━━━━━━━━━━━━━━━━━━━━\u001b[0m\u001b[37m\u001b[0m \u001b[1m0s\u001b[0m 3ms/step - loss: 368.1819 - root_mean_squared_error: 19.1775 - val_loss: 3916.5898 - val_root_mean_squared_error: 62.5827\n",
      "Epoch 9/50\n",
      "\u001b[1m75/75\u001b[0m \u001b[32m━━━━━━━━━━━━━━━━━━━━\u001b[0m\u001b[37m\u001b[0m \u001b[1m0s\u001b[0m 3ms/step - loss: 383.0917 - root_mean_squared_error: 19.5610 - val_loss: 3256.3535 - val_root_mean_squared_error: 57.0645\n",
      "Epoch 10/50\n",
      "\u001b[1m75/75\u001b[0m \u001b[32m━━━━━━━━━━━━━━━━━━━━\u001b[0m\u001b[37m\u001b[0m \u001b[1m0s\u001b[0m 3ms/step - loss: 331.2810 - root_mean_squared_error: 18.1665 - val_loss: 4080.1052 - val_root_mean_squared_error: 63.8757\n",
      "Epoch 11/50\n",
      "\u001b[1m75/75\u001b[0m \u001b[32m━━━━━━━━━━━━━━━━━━━━\u001b[0m\u001b[37m\u001b[0m \u001b[1m0s\u001b[0m 3ms/step - loss: 349.2173 - root_mean_squared_error: 18.6605 - val_loss: 3735.1782 - val_root_mean_squared_error: 61.1161\n",
      "Epoch 12/50\n",
      "\u001b[1m75/75\u001b[0m \u001b[32m━━━━━━━━━━━━━━━━━━━━\u001b[0m\u001b[37m\u001b[0m \u001b[1m0s\u001b[0m 3ms/step - loss: 266.8960 - root_mean_squared_error: 16.3121 - val_loss: 4457.2441 - val_root_mean_squared_error: 66.7626\n",
      "Epoch 13/50\n",
      "\u001b[1m75/75\u001b[0m \u001b[32m━━━━━━━━━━━━━━━━━━━━\u001b[0m\u001b[37m\u001b[0m \u001b[1m0s\u001b[0m 3ms/step - loss: 314.6996 - root_mean_squared_error: 17.7358 - val_loss: 4139.1592 - val_root_mean_squared_error: 64.3363\n",
      "Epoch 14/50\n",
      "\u001b[1m75/75\u001b[0m \u001b[32m━━━━━━━━━━━━━━━━━━━━\u001b[0m\u001b[37m\u001b[0m \u001b[1m0s\u001b[0m 3ms/step - loss: 321.2796 - root_mean_squared_error: 17.9041 - val_loss: 4067.4529 - val_root_mean_squared_error: 63.7766\n",
      "Epoch 15/50\n",
      "\u001b[1m75/75\u001b[0m \u001b[32m━━━━━━━━━━━━━━━━━━━━\u001b[0m\u001b[37m\u001b[0m \u001b[1m0s\u001b[0m 3ms/step - loss: 312.2778 - root_mean_squared_error: 17.6604 - val_loss: 3802.2834 - val_root_mean_squared_error: 61.6627\n",
      "Epoch 16/50\n",
      "\u001b[1m75/75\u001b[0m \u001b[32m━━━━━━━━━━━━━━━━━━━━\u001b[0m\u001b[37m\u001b[0m \u001b[1m0s\u001b[0m 3ms/step - loss: 259.0740 - root_mean_squared_error: 16.0835 - val_loss: 4665.9746 - val_root_mean_squared_error: 68.3079\n",
      "Epoch 17/50\n",
      "\u001b[1m75/75\u001b[0m \u001b[32m━━━━━━━━━━━━━━━━━━━━\u001b[0m\u001b[37m\u001b[0m \u001b[1m0s\u001b[0m 3ms/step - loss: 303.7406 - root_mean_squared_error: 17.4178 - val_loss: 4104.9404 - val_root_mean_squared_error: 64.0698\n",
      "Epoch 18/50\n",
      "\u001b[1m75/75\u001b[0m \u001b[32m━━━━━━━━━━━━━━━━━━━━\u001b[0m\u001b[37m\u001b[0m \u001b[1m0s\u001b[0m 3ms/step - loss: 265.7122 - root_mean_squared_error: 16.2852 - val_loss: 3651.1160 - val_root_mean_squared_error: 60.4245\n",
      "Epoch 19/50\n",
      "\u001b[1m75/75\u001b[0m \u001b[32m━━━━━━━━━━━━━━━━━━━━\u001b[0m\u001b[37m\u001b[0m \u001b[1m0s\u001b[0m 3ms/step - loss: 300.6967 - root_mean_squared_error: 17.3232 - val_loss: 3972.8259 - val_root_mean_squared_error: 63.0304\n",
      "Epoch 20/50\n",
      "\u001b[1m75/75\u001b[0m \u001b[32m━━━━━━━━━━━━━━━━━━━━\u001b[0m\u001b[37m\u001b[0m \u001b[1m0s\u001b[0m 3ms/step - loss: 280.9655 - root_mean_squared_error: 16.7514 - val_loss: 3865.3352 - val_root_mean_squared_error: 62.1718\n",
      "Epoch 21/50\n",
      "\u001b[1m75/75\u001b[0m \u001b[32m━━━━━━━━━━━━━━━━━━━━\u001b[0m\u001b[37m\u001b[0m \u001b[1m0s\u001b[0m 3ms/step - loss: 266.6968 - root_mean_squared_error: 16.3266 - val_loss: 3479.9155 - val_root_mean_squared_error: 58.9908\n",
      "Epoch 22/50\n",
      "\u001b[1m75/75\u001b[0m \u001b[32m━━━━━━━━━━━━━━━━━━━━\u001b[0m\u001b[37m\u001b[0m \u001b[1m0s\u001b[0m 3ms/step - loss: 241.3733 - root_mean_squared_error: 15.5262 - val_loss: 3356.6348 - val_root_mean_squared_error: 57.9365\n",
      "Epoch 23/50\n",
      "\u001b[1m75/75\u001b[0m \u001b[32m━━━━━━━━━━━━━━━━━━━━\u001b[0m\u001b[37m\u001b[0m \u001b[1m0s\u001b[0m 3ms/step - loss: 259.6076 - root_mean_squared_error: 16.1069 - val_loss: 4250.7305 - val_root_mean_squared_error: 65.1976\n",
      "Epoch 24/50\n",
      "\u001b[1m75/75\u001b[0m \u001b[32m━━━━━━━━━━━━━━━━━━━━\u001b[0m\u001b[37m\u001b[0m \u001b[1m0s\u001b[0m 3ms/step - loss: 256.4803 - root_mean_squared_error: 16.0068 - val_loss: 3651.7886 - val_root_mean_squared_error: 60.4300\n",
      "Epoch 25/50\n",
      "\u001b[1m75/75\u001b[0m \u001b[32m━━━━━━━━━━━━━━━━━━━━\u001b[0m\u001b[37m\u001b[0m \u001b[1m0s\u001b[0m 3ms/step - loss: 241.7211 - root_mean_squared_error: 15.5413 - val_loss: 3435.6880 - val_root_mean_squared_error: 58.6147\n",
      "Epoch 26/50\n",
      "\u001b[1m75/75\u001b[0m \u001b[32m━━━━━━━━━━━━━━━━━━━━\u001b[0m\u001b[37m\u001b[0m \u001b[1m0s\u001b[0m 3ms/step - loss: 242.3453 - root_mean_squared_error: 15.5638 - val_loss: 4092.6497 - val_root_mean_squared_error: 63.9738\n",
      "Epoch 27/50\n",
      "\u001b[1m75/75\u001b[0m \u001b[32m━━━━━━━━━━━━━━━━━━━━\u001b[0m\u001b[37m\u001b[0m \u001b[1m0s\u001b[0m 3ms/step - loss: 266.1094 - root_mean_squared_error: 16.3061 - val_loss: 3260.6936 - val_root_mean_squared_error: 57.1025\n",
      "Epoch 28/50\n",
      "\u001b[1m75/75\u001b[0m \u001b[32m━━━━━━━━━━━━━━━━━━━━\u001b[0m\u001b[37m\u001b[0m \u001b[1m0s\u001b[0m 3ms/step - loss: 203.2567 - root_mean_squared_error: 14.2271 - val_loss: 3971.7495 - val_root_mean_squared_error: 63.0218\n",
      "Epoch 29/50\n",
      "\u001b[1m75/75\u001b[0m \u001b[32m━━━━━━━━━━━━━━━━━━━━\u001b[0m\u001b[37m\u001b[0m \u001b[1m0s\u001b[0m 3ms/step - loss: 212.2062 - root_mean_squared_error: 14.5559 - val_loss: 3766.7551 - val_root_mean_squared_error: 61.3739\n",
      "Epoch 30/50\n",
      "\u001b[1m75/75\u001b[0m \u001b[32m━━━━━━━━━━━━━━━━━━━━\u001b[0m\u001b[37m\u001b[0m \u001b[1m0s\u001b[0m 3ms/step - loss: 220.9786 - root_mean_squared_error: 14.8522 - val_loss: 3507.1365 - val_root_mean_squared_error: 59.2211\n",
      "Epoch 31/50\n",
      "\u001b[1m75/75\u001b[0m \u001b[32m━━━━━━━━━━━━━━━━━━━━\u001b[0m\u001b[37m\u001b[0m \u001b[1m0s\u001b[0m 3ms/step - loss: 220.6372 - root_mean_squared_error: 14.8482 - val_loss: 3369.1609 - val_root_mean_squared_error: 58.0445\n",
      "Epoch 32/50\n",
      "\u001b[1m75/75\u001b[0m \u001b[32m━━━━━━━━━━━━━━━━━━━━\u001b[0m\u001b[37m\u001b[0m \u001b[1m0s\u001b[0m 3ms/step - loss: 231.1877 - root_mean_squared_error: 15.1815 - val_loss: 3653.1360 - val_root_mean_squared_error: 60.4412\n",
      "Epoch 33/50\n",
      "\u001b[1m75/75\u001b[0m \u001b[32m━━━━━━━━━━━━━━━━━━━━\u001b[0m\u001b[37m\u001b[0m \u001b[1m0s\u001b[0m 3ms/step - loss: 210.3414 - root_mean_squared_error: 14.4894 - val_loss: 3429.5747 - val_root_mean_squared_error: 58.5626\n",
      "Epoch 34/50\n",
      "\u001b[1m75/75\u001b[0m \u001b[32m━━━━━━━━━━━━━━━━━━━━\u001b[0m\u001b[37m\u001b[0m \u001b[1m0s\u001b[0m 3ms/step - loss: 203.9860 - root_mean_squared_error: 14.2604 - val_loss: 3607.7019 - val_root_mean_squared_error: 60.0641\n",
      "Epoch 35/50\n",
      "\u001b[1m75/75\u001b[0m \u001b[32m━━━━━━━━━━━━━━━━━━━━\u001b[0m\u001b[37m\u001b[0m \u001b[1m0s\u001b[0m 3ms/step - loss: 195.0304 - root_mean_squared_error: 13.9446 - val_loss: 3013.8979 - val_root_mean_squared_error: 54.8990\n",
      "Epoch 36/50\n",
      "\u001b[1m75/75\u001b[0m \u001b[32m━━━━━━━━━━━━━━━━━━━━\u001b[0m\u001b[37m\u001b[0m \u001b[1m0s\u001b[0m 3ms/step - loss: 204.6208 - root_mean_squared_error: 14.2662 - val_loss: 3110.0220 - val_root_mean_squared_error: 55.7676\n",
      "Epoch 37/50\n",
      "\u001b[1m75/75\u001b[0m \u001b[32m━━━━━━━━━━━━━━━━━━━━\u001b[0m\u001b[37m\u001b[0m \u001b[1m0s\u001b[0m 3ms/step - loss: 224.5023 - root_mean_squared_error: 14.9744 - val_loss: 3721.7852 - val_root_mean_squared_error: 61.0064\n",
      "Epoch 38/50\n",
      "\u001b[1m75/75\u001b[0m \u001b[32m━━━━━━━━━━━━━━━━━━━━\u001b[0m\u001b[37m\u001b[0m \u001b[1m0s\u001b[0m 3ms/step - loss: 187.6486 - root_mean_squared_error: 13.6927 - val_loss: 3493.6038 - val_root_mean_squared_error: 59.1067\n",
      "Epoch 39/50\n",
      "\u001b[1m75/75\u001b[0m \u001b[32m━━━━━━━━━━━━━━━━━━━━\u001b[0m\u001b[37m\u001b[0m \u001b[1m0s\u001b[0m 3ms/step - loss: 209.5402 - root_mean_squared_error: 14.4710 - val_loss: 3092.0447 - val_root_mean_squared_error: 55.6062\n",
      "Epoch 40/50\n",
      "\u001b[1m75/75\u001b[0m \u001b[32m━━━━━━━━━━━━━━━━━━━━\u001b[0m\u001b[37m\u001b[0m \u001b[1m0s\u001b[0m 3ms/step - loss: 204.1132 - root_mean_squared_error: 14.2728 - val_loss: 3907.3159 - val_root_mean_squared_error: 62.5085\n",
      "Epoch 41/50\n",
      "\u001b[1m75/75\u001b[0m \u001b[32m━━━━━━━━━━━━━━━━━━━━\u001b[0m\u001b[37m\u001b[0m \u001b[1m0s\u001b[0m 3ms/step - loss: 197.2935 - root_mean_squared_error: 14.0293 - val_loss: 3418.1602 - val_root_mean_squared_error: 58.4650\n",
      "Epoch 42/50\n",
      "\u001b[1m75/75\u001b[0m \u001b[32m━━━━━━━━━━━━━━━━━━━━\u001b[0m\u001b[37m\u001b[0m \u001b[1m0s\u001b[0m 3ms/step - loss: 189.1199 - root_mean_squared_error: 13.7387 - val_loss: 3746.3591 - val_root_mean_squared_error: 61.2075\n",
      "Epoch 43/50\n",
      "\u001b[1m75/75\u001b[0m \u001b[32m━━━━━━━━━━━━━━━━━━━━\u001b[0m\u001b[37m\u001b[0m \u001b[1m0s\u001b[0m 3ms/step - loss: 185.9460 - root_mean_squared_error: 13.6025 - val_loss: 3366.4160 - val_root_mean_squared_error: 58.0208\n",
      "Epoch 44/50\n",
      "\u001b[1m75/75\u001b[0m \u001b[32m━━━━━━━━━━━━━━━━━━━━\u001b[0m\u001b[37m\u001b[0m \u001b[1m0s\u001b[0m 3ms/step - loss: 212.8586 - root_mean_squared_error: 14.5318 - val_loss: 3080.6392 - val_root_mean_squared_error: 55.5035\n",
      "Epoch 45/50\n",
      "\u001b[1m75/75\u001b[0m \u001b[32m━━━━━━━━━━━━━━━━━━━━\u001b[0m\u001b[37m\u001b[0m \u001b[1m0s\u001b[0m 3ms/step - loss: 200.6276 - root_mean_squared_error: 14.1584 - val_loss: 3151.8115 - val_root_mean_squared_error: 56.1410\n",
      "Epoch 46/50\n",
      "\u001b[1m75/75\u001b[0m \u001b[32m━━━━━━━━━━━━━━━━━━━━\u001b[0m\u001b[37m\u001b[0m \u001b[1m0s\u001b[0m 3ms/step - loss: 197.0498 - root_mean_squared_error: 14.0259 - val_loss: 3490.0039 - val_root_mean_squared_error: 59.0763\n",
      "Epoch 47/50\n",
      "\u001b[1m75/75\u001b[0m \u001b[32m━━━━━━━━━━━━━━━━━━━━\u001b[0m\u001b[37m\u001b[0m \u001b[1m0s\u001b[0m 3ms/step - loss: 200.6022 - root_mean_squared_error: 14.1576 - val_loss: 3418.3557 - val_root_mean_squared_error: 58.4667\n",
      "Epoch 48/50\n",
      "\u001b[1m75/75\u001b[0m \u001b[32m━━━━━━━━━━━━━━━━━━━━\u001b[0m\u001b[37m\u001b[0m \u001b[1m0s\u001b[0m 3ms/step - loss: 174.8691 - root_mean_squared_error: 13.2198 - val_loss: 3323.9209 - val_root_mean_squared_error: 57.6535\n",
      "Epoch 49/50\n",
      "\u001b[1m75/75\u001b[0m \u001b[32m━━━━━━━━━━━━━━━━━━━━\u001b[0m\u001b[37m\u001b[0m \u001b[1m0s\u001b[0m 3ms/step - loss: 200.3026 - root_mean_squared_error: 14.1484 - val_loss: 3138.0066 - val_root_mean_squared_error: 56.0179\n",
      "Epoch 50/50\n",
      "\u001b[1m75/75\u001b[0m \u001b[32m━━━━━━━━━━━━━━━━━━━━\u001b[0m\u001b[37m\u001b[0m \u001b[1m0s\u001b[0m 3ms/step - loss: 214.8297 - root_mean_squared_error: 14.6463 - val_loss: 2936.1763 - val_root_mean_squared_error: 54.1865\n"
     ]
    },
    {
     "data": {
      "text/plain": [
       "<keras.src.callbacks.history.History at 0x7ca984305360>"
      ]
     },
     "execution_count": 48,
     "metadata": {},
     "output_type": "execute_result"
    }
   ],
   "source": [
    "model8 = Sequential()\n",
    "model8.add(InputLayer((6, 6)))  # 6 timestamps, 6 features\n",
    "model8.add(Conv1D(32, kernel_size=2, activation='relu'))  # 1D Convolutional Layer\n",
    "model8.add(MaxPooling1D(pool_size=2))  # Max Pooling\n",
    "model8.add(LSTM(64, activation='relu', return_sequences=False))  \n",
    "model8.add(Dropout(0.3))  \n",
    "model8.add(Dense(32, activation='relu'))  \n",
    "model8.add(Dense(1, activation='linear'))  \n",
    "\n",
    "cp8 = ModelCheckpoint('/kaggle/working/model8.keras', save_best_only=True)\n",
    "\n",
    "model8.compile(loss=MeanSquaredError(), optimizer=Adam(learning_rate=0.001), \n",
    "               metrics=[RootMeanSquaredError()])\n",
    "\n",
    "model8.fit(X_train1, y_train1, validation_data=(X_val1, y_val1), epochs=50, \n",
    "           callbacks=[cp8])"
   ]
  },
  {
   "cell_type": "code",
   "execution_count": 49,
   "id": "413f2e72",
   "metadata": {
    "execution": {
     "iopub.execute_input": "2025-01-27T22:02:05.753505Z",
     "iopub.status.busy": "2025-01-27T22:02:05.753132Z",
     "iopub.status.idle": "2025-01-27T22:02:05.876119Z",
     "shell.execute_reply": "2025-01-27T22:02:05.875338Z"
    },
    "papermill": {
     "duration": 0.231155,
     "end_time": "2025-01-27T22:02:05.877795",
     "exception": false,
     "start_time": "2025-01-27T22:02:05.646640",
     "status": "completed"
    },
    "tags": []
   },
   "outputs": [],
   "source": [
    "from tensorflow.keras.models import load_model\n",
    "model8 = load_model('/kaggle/working/model8.keras')"
   ]
  },
  {
   "cell_type": "code",
   "execution_count": 50,
   "id": "6262ec10",
   "metadata": {
    "execution": {
     "iopub.execute_input": "2025-01-27T22:02:06.089055Z",
     "iopub.status.busy": "2025-01-27T22:02:06.088685Z",
     "iopub.status.idle": "2025-01-27T22:02:06.589039Z",
     "shell.execute_reply": "2025-01-27T22:02:06.587848Z"
    },
    "papermill": {
     "duration": 0.606882,
     "end_time": "2025-01-27T22:02:06.590799",
     "exception": false,
     "start_time": "2025-01-27T22:02:05.983917",
     "status": "completed"
    },
    "tags": []
   },
   "outputs": [
    {
     "name": "stdout",
     "output_type": "stream",
     "text": [
      "\u001b[1m75/75\u001b[0m \u001b[32m━━━━━━━━━━━━━━━━━━━━\u001b[0m\u001b[37m\u001b[0m \u001b[1m0s\u001b[0m 4ms/step\n",
      "Evaluation Metrics:\n",
      "Mean Absolute Error (MAE): 21.7611\n",
      "Mean Squared Error (MSE): 726.8952\n",
      "Root Mean Squared Error (RMSE): 26.9610\n",
      "R-squared (Accuracy): 0.6886\n"
     ]
    }
   ],
   "source": [
    "# Evaluate the model on the train data\n",
    "train_result = model8.predict(X_train1)\n",
    "\n",
    "# Calculate metrics\n",
    "mse = mean_squared_error(y_train1, train_result)\n",
    "rmse = np.sqrt(mse)\n",
    "mae = mean_absolute_error(y_train1, train_result)\n",
    "r2 = r2_score(y_train1, train_result)\n",
    "\n",
    "# Print the results\n",
    "print(\"Evaluation Metrics:\")\n",
    "print(f\"Mean Absolute Error (MAE): {mae:.4f}\")\n",
    "print(f\"Mean Squared Error (MSE): {mse:.4f}\")\n",
    "print(f\"Root Mean Squared Error (RMSE): {rmse:.4f}\")\n",
    "print(f\"R-squared (Accuracy): {r2:.4f}\")"
   ]
  },
  {
   "cell_type": "code",
   "execution_count": 51,
   "id": "95572556",
   "metadata": {
    "execution": {
     "iopub.execute_input": "2025-01-27T22:02:06.806719Z",
     "iopub.status.busy": "2025-01-27T22:02:06.806320Z",
     "iopub.status.idle": "2025-01-27T22:02:06.899783Z",
     "shell.execute_reply": "2025-01-27T22:02:06.898840Z"
    },
    "papermill": {
     "duration": 0.202688,
     "end_time": "2025-01-27T22:02:06.901116",
     "exception": false,
     "start_time": "2025-01-27T22:02:06.698428",
     "status": "completed"
    },
    "tags": []
   },
   "outputs": [
    {
     "name": "stdout",
     "output_type": "stream",
     "text": [
      "\u001b[1m15/15\u001b[0m \u001b[32m━━━━━━━━━━━━━━━━━━━━\u001b[0m\u001b[37m\u001b[0m \u001b[1m0s\u001b[0m 2ms/step \n",
      "Evaluation Metrics:\n",
      "Mean Absolute Error (MAE): 28.0396\n",
      "Mean Squared Error (MSE): 1232.9661\n",
      "Root Mean Squared Error (RMSE): 35.1136\n",
      "R-squared (Accuracy): 0.7948\n"
     ]
    }
   ],
   "source": [
    "# Evaluate the model on the validation data\n",
    "val_result = model8.predict(X_val1)\n",
    "\n",
    "# Calculate metrics\n",
    "mse = mean_squared_error(y_val1, val_result)\n",
    "rmse = np.sqrt(mse)\n",
    "mae = mean_absolute_error(y_val1, val_result)\n",
    "r2 = r2_score(y_val1, val_result)\n",
    "\n",
    "# Print the results\n",
    "print(\"Evaluation Metrics:\")\n",
    "print(f\"Mean Absolute Error (MAE): {mae:.4f}\")\n",
    "print(f\"Mean Squared Error (MSE): {mse:.4f}\")\n",
    "print(f\"Root Mean Squared Error (RMSE): {rmse:.4f}\")\n",
    "print(f\"R-squared (Accuracy): {r2:.4f}\")"
   ]
  },
  {
   "cell_type": "code",
   "execution_count": 52,
   "id": "b0713c87",
   "metadata": {
    "execution": {
     "iopub.execute_input": "2025-01-27T22:02:07.162245Z",
     "iopub.status.busy": "2025-01-27T22:02:07.161805Z",
     "iopub.status.idle": "2025-01-27T22:02:07.247085Z",
     "shell.execute_reply": "2025-01-27T22:02:07.246212Z"
    },
    "papermill": {
     "duration": 0.241567,
     "end_time": "2025-01-27T22:02:07.248569",
     "exception": false,
     "start_time": "2025-01-27T22:02:07.007002",
     "status": "completed"
    },
    "tags": []
   },
   "outputs": [
    {
     "name": "stdout",
     "output_type": "stream",
     "text": [
      "\u001b[1m10/10\u001b[0m \u001b[32m━━━━━━━━━━━━━━━━━━━━\u001b[0m\u001b[37m\u001b[0m \u001b[1m0s\u001b[0m 2ms/step \n",
      "Evaluation Metrics:\n",
      "Mean Absolute Error (MAE): 20.4868\n",
      "Mean Squared Error (MSE): 666.3281\n",
      "Root Mean Squared Error (RMSE): 25.8133\n",
      "R-squared (Accuracy): 0.7163\n"
     ]
    }
   ],
   "source": [
    "# Evaluate the model on the test data\n",
    "test_result = model8.predict(X_test1)\n",
    "\n",
    "# Calculate metrics\n",
    "mse = mean_squared_error(y_test1, test_result)\n",
    "rmse = np.sqrt(mse)\n",
    "mae = mean_absolute_error(y_test1, test_result)\n",
    "r2 = r2_score(y_test1, test_result)\n",
    "\n",
    "# Print the results\n",
    "print(\"Evaluation Metrics:\")\n",
    "print(f\"Mean Absolute Error (MAE): {mae:.4f}\")\n",
    "print(f\"Mean Squared Error (MSE): {mse:.4f}\")\n",
    "print(f\"Root Mean Squared Error (RMSE): {rmse:.4f}\")\n",
    "print(f\"R-squared (Accuracy): {r2:.4f}\")"
   ]
  },
  {
   "cell_type": "code",
   "execution_count": null,
   "id": "0fba9893",
   "metadata": {
    "papermill": {
     "duration": 0.10581,
     "end_time": "2025-01-27T22:02:07.462969",
     "exception": false,
     "start_time": "2025-01-27T22:02:07.357159",
     "status": "completed"
    },
    "tags": []
   },
   "outputs": [],
   "source": []
  },
  {
   "cell_type": "markdown",
   "id": "588eab05",
   "metadata": {
    "papermill": {
     "duration": 0.10541,
     "end_time": "2025-01-27T22:02:07.672585",
     "exception": false,
     "start_time": "2025-01-27T22:02:07.567175",
     "status": "completed"
    },
    "tags": []
   },
   "source": [
    "# **Advanced Stacked GRU + Dense**"
   ]
  },
  {
   "cell_type": "code",
   "execution_count": 53,
   "id": "fb69450c",
   "metadata": {
    "execution": {
     "iopub.execute_input": "2025-01-27T22:02:07.888159Z",
     "iopub.status.busy": "2025-01-27T22:02:07.887809Z",
     "iopub.status.idle": "2025-01-27T22:02:50.519751Z",
     "shell.execute_reply": "2025-01-27T22:02:50.518820Z"
    },
    "papermill": {
     "duration": 42.740598,
     "end_time": "2025-01-27T22:02:50.521173",
     "exception": false,
     "start_time": "2025-01-27T22:02:07.780575",
     "status": "completed"
    },
    "tags": []
   },
   "outputs": [
    {
     "name": "stdout",
     "output_type": "stream",
     "text": [
      "Epoch 1/50\n",
      "\u001b[1m75/75\u001b[0m \u001b[32m━━━━━━━━━━━━━━━━━━━━\u001b[0m\u001b[37m\u001b[0m \u001b[1m5s\u001b[0m 16ms/step - loss: 20439.9746 - root_mean_squared_error: 141.9482 - val_loss: 17763.2852 - val_root_mean_squared_error: 133.2790\n",
      "Epoch 2/50\n",
      "\u001b[1m75/75\u001b[0m \u001b[32m━━━━━━━━━━━━━━━━━━━━\u001b[0m\u001b[37m\u001b[0m \u001b[1m1s\u001b[0m 10ms/step - loss: 916.5998 - root_mean_squared_error: 30.2502 - val_loss: 1616.3083 - val_root_mean_squared_error: 40.2033\n",
      "Epoch 3/50\n",
      "\u001b[1m75/75\u001b[0m \u001b[32m━━━━━━━━━━━━━━━━━━━━\u001b[0m\u001b[37m\u001b[0m \u001b[1m1s\u001b[0m 10ms/step - loss: 536.1890 - root_mean_squared_error: 23.1181 - val_loss: 587.6456 - val_root_mean_squared_error: 24.2414\n",
      "Epoch 4/50\n",
      "\u001b[1m75/75\u001b[0m \u001b[32m━━━━━━━━━━━━━━━━━━━━\u001b[0m\u001b[37m\u001b[0m \u001b[1m1s\u001b[0m 10ms/step - loss: 485.5074 - root_mean_squared_error: 21.9893 - val_loss: 495.2581 - val_root_mean_squared_error: 22.2544\n",
      "Epoch 5/50\n",
      "\u001b[1m75/75\u001b[0m \u001b[32m━━━━━━━━━━━━━━━━━━━━\u001b[0m\u001b[37m\u001b[0m \u001b[1m1s\u001b[0m 10ms/step - loss: 433.3852 - root_mean_squared_error: 20.7994 - val_loss: 441.0487 - val_root_mean_squared_error: 21.0012\n",
      "Epoch 6/50\n",
      "\u001b[1m75/75\u001b[0m \u001b[32m━━━━━━━━━━━━━━━━━━━━\u001b[0m\u001b[37m\u001b[0m \u001b[1m1s\u001b[0m 10ms/step - loss: 404.0034 - root_mean_squared_error: 20.0885 - val_loss: 401.2791 - val_root_mean_squared_error: 20.0320\n",
      "Epoch 7/50\n",
      "\u001b[1m75/75\u001b[0m \u001b[32m━━━━━━━━━━━━━━━━━━━━\u001b[0m\u001b[37m\u001b[0m \u001b[1m1s\u001b[0m 10ms/step - loss: 395.2589 - root_mean_squared_error: 19.8371 - val_loss: 396.0496 - val_root_mean_squared_error: 19.9010\n",
      "Epoch 8/50\n",
      "\u001b[1m75/75\u001b[0m \u001b[32m━━━━━━━━━━━━━━━━━━━━\u001b[0m\u001b[37m\u001b[0m \u001b[1m1s\u001b[0m 10ms/step - loss: 342.7214 - root_mean_squared_error: 18.4976 - val_loss: 390.9946 - val_root_mean_squared_error: 19.7736\n",
      "Epoch 9/50\n",
      "\u001b[1m75/75\u001b[0m \u001b[32m━━━━━━━━━━━━━━━━━━━━\u001b[0m\u001b[37m\u001b[0m \u001b[1m1s\u001b[0m 11ms/step - loss: 305.6665 - root_mean_squared_error: 17.4365 - val_loss: 274.1226 - val_root_mean_squared_error: 16.5566\n",
      "Epoch 10/50\n",
      "\u001b[1m75/75\u001b[0m \u001b[32m━━━━━━━━━━━━━━━━━━━━\u001b[0m\u001b[37m\u001b[0m \u001b[1m1s\u001b[0m 10ms/step - loss: 253.4325 - root_mean_squared_error: 15.9002 - val_loss: 257.6831 - val_root_mean_squared_error: 16.0525\n",
      "Epoch 11/50\n",
      "\u001b[1m75/75\u001b[0m \u001b[32m━━━━━━━━━━━━━━━━━━━━\u001b[0m\u001b[37m\u001b[0m \u001b[1m1s\u001b[0m 10ms/step - loss: 270.0998 - root_mean_squared_error: 16.4188 - val_loss: 317.7925 - val_root_mean_squared_error: 17.8267\n",
      "Epoch 12/50\n",
      "\u001b[1m75/75\u001b[0m \u001b[32m━━━━━━━━━━━━━━━━━━━━\u001b[0m\u001b[37m\u001b[0m \u001b[1m1s\u001b[0m 10ms/step - loss: 265.9026 - root_mean_squared_error: 16.2645 - val_loss: 248.2082 - val_root_mean_squared_error: 15.7546\n",
      "Epoch 13/50\n",
      "\u001b[1m75/75\u001b[0m \u001b[32m━━━━━━━━━━━━━━━━━━━━\u001b[0m\u001b[37m\u001b[0m \u001b[1m1s\u001b[0m 9ms/step - loss: 302.9018 - root_mean_squared_error: 17.3623 - val_loss: 369.3454 - val_root_mean_squared_error: 19.2184\n",
      "Epoch 14/50\n",
      "\u001b[1m75/75\u001b[0m \u001b[32m━━━━━━━━━━━━━━━━━━━━\u001b[0m\u001b[37m\u001b[0m \u001b[1m1s\u001b[0m 9ms/step - loss: 344.6945 - root_mean_squared_error: 18.5478 - val_loss: 289.3181 - val_root_mean_squared_error: 17.0094\n",
      "Epoch 15/50\n",
      "\u001b[1m75/75\u001b[0m \u001b[32m━━━━━━━━━━━━━━━━━━━━\u001b[0m\u001b[37m\u001b[0m \u001b[1m1s\u001b[0m 10ms/step - loss: 262.9118 - root_mean_squared_error: 16.1917 - val_loss: 278.2140 - val_root_mean_squared_error: 16.6797\n",
      "Epoch 16/50\n",
      "\u001b[1m75/75\u001b[0m \u001b[32m━━━━━━━━━━━━━━━━━━━━\u001b[0m\u001b[37m\u001b[0m \u001b[1m1s\u001b[0m 9ms/step - loss: 272.2096 - root_mean_squared_error: 16.4851 - val_loss: 255.3594 - val_root_mean_squared_error: 15.9800\n",
      "Epoch 17/50\n",
      "\u001b[1m75/75\u001b[0m \u001b[32m━━━━━━━━━━━━━━━━━━━━\u001b[0m\u001b[37m\u001b[0m \u001b[1m1s\u001b[0m 10ms/step - loss: 194.3122 - root_mean_squared_error: 13.9352 - val_loss: 200.3084 - val_root_mean_squared_error: 14.1530\n",
      "Epoch 18/50\n",
      "\u001b[1m75/75\u001b[0m \u001b[32m━━━━━━━━━━━━━━━━━━━━\u001b[0m\u001b[37m\u001b[0m \u001b[1m1s\u001b[0m 9ms/step - loss: 221.8828 - root_mean_squared_error: 14.8837 - val_loss: 216.1535 - val_root_mean_squared_error: 14.7022\n",
      "Epoch 19/50\n",
      "\u001b[1m75/75\u001b[0m \u001b[32m━━━━━━━━━━━━━━━━━━━━\u001b[0m\u001b[37m\u001b[0m \u001b[1m1s\u001b[0m 10ms/step - loss: 190.1158 - root_mean_squared_error: 13.7720 - val_loss: 181.2320 - val_root_mean_squared_error: 13.4622\n",
      "Epoch 20/50\n",
      "\u001b[1m75/75\u001b[0m \u001b[32m━━━━━━━━━━━━━━━━━━━━\u001b[0m\u001b[37m\u001b[0m \u001b[1m1s\u001b[0m 10ms/step - loss: 192.5265 - root_mean_squared_error: 13.8704 - val_loss: 164.3972 - val_root_mean_squared_error: 12.8217\n",
      "Epoch 21/50\n",
      "\u001b[1m75/75\u001b[0m \u001b[32m━━━━━━━━━━━━━━━━━━━━\u001b[0m\u001b[37m\u001b[0m \u001b[1m1s\u001b[0m 10ms/step - loss: 196.6258 - root_mean_squared_error: 14.0120 - val_loss: 159.9748 - val_root_mean_squared_error: 12.6481\n",
      "Epoch 22/50\n",
      "\u001b[1m75/75\u001b[0m \u001b[32m━━━━━━━━━━━━━━━━━━━━\u001b[0m\u001b[37m\u001b[0m \u001b[1m1s\u001b[0m 10ms/step - loss: 188.7673 - root_mean_squared_error: 13.7046 - val_loss: 166.2728 - val_root_mean_squared_error: 12.8947\n",
      "Epoch 23/50\n",
      "\u001b[1m75/75\u001b[0m \u001b[32m━━━━━━━━━━━━━━━━━━━━\u001b[0m\u001b[37m\u001b[0m \u001b[1m1s\u001b[0m 9ms/step - loss: 206.5328 - root_mean_squared_error: 14.3650 - val_loss: 298.6480 - val_root_mean_squared_error: 17.2814\n",
      "Epoch 24/50\n",
      "\u001b[1m75/75\u001b[0m \u001b[32m━━━━━━━━━━━━━━━━━━━━\u001b[0m\u001b[37m\u001b[0m \u001b[1m1s\u001b[0m 10ms/step - loss: 239.3196 - root_mean_squared_error: 15.4084 - val_loss: 201.0841 - val_root_mean_squared_error: 14.1804\n",
      "Epoch 25/50\n",
      "\u001b[1m75/75\u001b[0m \u001b[32m━━━━━━━━━━━━━━━━━━━━\u001b[0m\u001b[37m\u001b[0m \u001b[1m1s\u001b[0m 10ms/step - loss: 196.9761 - root_mean_squared_error: 14.0018 - val_loss: 158.1478 - val_root_mean_squared_error: 12.5757\n",
      "Epoch 26/50\n",
      "\u001b[1m75/75\u001b[0m \u001b[32m━━━━━━━━━━━━━━━━━━━━\u001b[0m\u001b[37m\u001b[0m \u001b[1m1s\u001b[0m 10ms/step - loss: 279.7277 - root_mean_squared_error: 16.6450 - val_loss: 722.0859 - val_root_mean_squared_error: 26.8717\n",
      "Epoch 27/50\n",
      "\u001b[1m75/75\u001b[0m \u001b[32m━━━━━━━━━━━━━━━━━━━━\u001b[0m\u001b[37m\u001b[0m \u001b[1m1s\u001b[0m 10ms/step - loss: 263.4133 - root_mean_squared_error: 16.1850 - val_loss: 129.2006 - val_root_mean_squared_error: 11.3666\n",
      "Epoch 28/50\n",
      "\u001b[1m75/75\u001b[0m \u001b[32m━━━━━━━━━━━━━━━━━━━━\u001b[0m\u001b[37m\u001b[0m \u001b[1m1s\u001b[0m 10ms/step - loss: 184.1004 - root_mean_squared_error: 13.5415 - val_loss: 169.3794 - val_root_mean_squared_error: 13.0146\n",
      "Epoch 29/50\n",
      "\u001b[1m75/75\u001b[0m \u001b[32m━━━━━━━━━━━━━━━━━━━━\u001b[0m\u001b[37m\u001b[0m \u001b[1m1s\u001b[0m 10ms/step - loss: 202.3524 - root_mean_squared_error: 14.2052 - val_loss: 245.8725 - val_root_mean_squared_error: 15.6803\n",
      "Epoch 30/50\n",
      "\u001b[1m75/75\u001b[0m \u001b[32m━━━━━━━━━━━━━━━━━━━━\u001b[0m\u001b[37m\u001b[0m \u001b[1m1s\u001b[0m 10ms/step - loss: 171.4241 - root_mean_squared_error: 13.0607 - val_loss: 126.5012 - val_root_mean_squared_error: 11.2473\n",
      "Epoch 31/50\n",
      "\u001b[1m75/75\u001b[0m \u001b[32m━━━━━━━━━━━━━━━━━━━━\u001b[0m\u001b[37m\u001b[0m \u001b[1m1s\u001b[0m 11ms/step - loss: 183.2686 - root_mean_squared_error: 13.5255 - val_loss: 339.8072 - val_root_mean_squared_error: 18.4339\n",
      "Epoch 32/50\n",
      "\u001b[1m75/75\u001b[0m \u001b[32m━━━━━━━━━━━━━━━━━━━━\u001b[0m\u001b[37m\u001b[0m \u001b[1m1s\u001b[0m 11ms/step - loss: 196.0044 - root_mean_squared_error: 13.9917 - val_loss: 251.9980 - val_root_mean_squared_error: 15.8744\n",
      "Epoch 33/50\n",
      "\u001b[1m75/75\u001b[0m \u001b[32m━━━━━━━━━━━━━━━━━━━━\u001b[0m\u001b[37m\u001b[0m \u001b[1m1s\u001b[0m 10ms/step - loss: 174.2145 - root_mean_squared_error: 13.1538 - val_loss: 124.2421 - val_root_mean_squared_error: 11.1464\n",
      "Epoch 34/50\n",
      "\u001b[1m75/75\u001b[0m \u001b[32m━━━━━━━━━━━━━━━━━━━━\u001b[0m\u001b[37m\u001b[0m \u001b[1m1s\u001b[0m 10ms/step - loss: 162.9526 - root_mean_squared_error: 12.7608 - val_loss: 342.5101 - val_root_mean_squared_error: 18.5070\n",
      "Epoch 35/50\n",
      "\u001b[1m75/75\u001b[0m \u001b[32m━━━━━━━━━━━━━━━━━━━━\u001b[0m\u001b[37m\u001b[0m \u001b[1m1s\u001b[0m 10ms/step - loss: 180.6057 - root_mean_squared_error: 13.3964 - val_loss: 214.8306 - val_root_mean_squared_error: 14.6571\n",
      "Epoch 36/50\n",
      "\u001b[1m75/75\u001b[0m \u001b[32m━━━━━━━━━━━━━━━━━━━━\u001b[0m\u001b[37m\u001b[0m \u001b[1m1s\u001b[0m 10ms/step - loss: 154.7737 - root_mean_squared_error: 12.4117 - val_loss: 125.2315 - val_root_mean_squared_error: 11.1907\n",
      "Epoch 37/50\n",
      "\u001b[1m75/75\u001b[0m \u001b[32m━━━━━━━━━━━━━━━━━━━━\u001b[0m\u001b[37m\u001b[0m \u001b[1m1s\u001b[0m 10ms/step - loss: 271.0257 - root_mean_squared_error: 16.3787 - val_loss: 251.9714 - val_root_mean_squared_error: 15.8736\n",
      "Epoch 38/50\n",
      "\u001b[1m75/75\u001b[0m \u001b[32m━━━━━━━━━━━━━━━━━━━━\u001b[0m\u001b[37m\u001b[0m \u001b[1m1s\u001b[0m 10ms/step - loss: 161.6897 - root_mean_squared_error: 12.7081 - val_loss: 138.9536 - val_root_mean_squared_error: 11.7879\n",
      "Epoch 39/50\n",
      "\u001b[1m75/75\u001b[0m \u001b[32m━━━━━━━━━━━━━━━━━━━━\u001b[0m\u001b[37m\u001b[0m \u001b[1m1s\u001b[0m 9ms/step - loss: 146.9304 - root_mean_squared_error: 12.1010 - val_loss: 139.7372 - val_root_mean_squared_error: 11.8210\n",
      "Epoch 40/50\n",
      "\u001b[1m75/75\u001b[0m \u001b[32m━━━━━━━━━━━━━━━━━━━━\u001b[0m\u001b[37m\u001b[0m \u001b[1m1s\u001b[0m 10ms/step - loss: 216.2557 - root_mean_squared_error: 14.6696 - val_loss: 254.8582 - val_root_mean_squared_error: 15.9643\n",
      "Epoch 41/50\n",
      "\u001b[1m75/75\u001b[0m \u001b[32m━━━━━━━━━━━━━━━━━━━━\u001b[0m\u001b[37m\u001b[0m \u001b[1m1s\u001b[0m 10ms/step - loss: 186.1694 - root_mean_squared_error: 13.6386 - val_loss: 250.6073 - val_root_mean_squared_error: 15.8306\n",
      "Epoch 42/50\n",
      "\u001b[1m75/75\u001b[0m \u001b[32m━━━━━━━━━━━━━━━━━━━━\u001b[0m\u001b[37m\u001b[0m \u001b[1m1s\u001b[0m 10ms/step - loss: 317.5941 - root_mean_squared_error: 17.7172 - val_loss: 231.6625 - val_root_mean_squared_error: 15.2205\n",
      "Epoch 43/50\n",
      "\u001b[1m75/75\u001b[0m \u001b[32m━━━━━━━━━━━━━━━━━━━━\u001b[0m\u001b[37m\u001b[0m \u001b[1m1s\u001b[0m 10ms/step - loss: 229.5513 - root_mean_squared_error: 15.0522 - val_loss: 106.9350 - val_root_mean_squared_error: 10.3409\n",
      "Epoch 44/50\n",
      "\u001b[1m75/75\u001b[0m \u001b[32m━━━━━━━━━━━━━━━━━━━━\u001b[0m\u001b[37m\u001b[0m \u001b[1m1s\u001b[0m 9ms/step - loss: 148.8647 - root_mean_squared_error: 12.1904 - val_loss: 175.6941 - val_root_mean_squared_error: 13.2550\n",
      "Epoch 45/50\n",
      "\u001b[1m75/75\u001b[0m \u001b[32m━━━━━━━━━━━━━━━━━━━━\u001b[0m\u001b[37m\u001b[0m \u001b[1m1s\u001b[0m 10ms/step - loss: 167.9359 - root_mean_squared_error: 12.9242 - val_loss: 137.1406 - val_root_mean_squared_error: 11.7107\n",
      "Epoch 46/50\n",
      "\u001b[1m75/75\u001b[0m \u001b[32m━━━━━━━━━━━━━━━━━━━━\u001b[0m\u001b[37m\u001b[0m \u001b[1m1s\u001b[0m 10ms/step - loss: 144.9592 - root_mean_squared_error: 12.0288 - val_loss: 155.2566 - val_root_mean_squared_error: 12.4602\n",
      "Epoch 47/50\n",
      "\u001b[1m75/75\u001b[0m \u001b[32m━━━━━━━━━━━━━━━━━━━━\u001b[0m\u001b[37m\u001b[0m \u001b[1m1s\u001b[0m 10ms/step - loss: 190.6851 - root_mean_squared_error: 13.7672 - val_loss: 175.7814 - val_root_mean_squared_error: 13.2583\n",
      "Epoch 48/50\n",
      "\u001b[1m75/75\u001b[0m \u001b[32m━━━━━━━━━━━━━━━━━━━━\u001b[0m\u001b[37m\u001b[0m \u001b[1m1s\u001b[0m 10ms/step - loss: 241.5706 - root_mean_squared_error: 15.5088 - val_loss: 116.9525 - val_root_mean_squared_error: 10.8145\n",
      "Epoch 49/50\n",
      "\u001b[1m75/75\u001b[0m \u001b[32m━━━━━━━━━━━━━━━━━━━━\u001b[0m\u001b[37m\u001b[0m \u001b[1m1s\u001b[0m 10ms/step - loss: 186.2669 - root_mean_squared_error: 13.6243 - val_loss: 121.9619 - val_root_mean_squared_error: 11.0436\n",
      "Epoch 50/50\n",
      "\u001b[1m75/75\u001b[0m \u001b[32m━━━━━━━━━━━━━━━━━━━━\u001b[0m\u001b[37m\u001b[0m \u001b[1m1s\u001b[0m 10ms/step - loss: 132.8852 - root_mean_squared_error: 11.5035 - val_loss: 199.6363 - val_root_mean_squared_error: 14.1293\n"
     ]
    },
    {
     "data": {
      "text/plain": [
       "<keras.src.callbacks.history.History at 0x7ca9635933a0>"
      ]
     },
     "execution_count": 53,
     "metadata": {},
     "output_type": "execute_result"
    }
   ],
   "source": [
    "model9 = Sequential()\n",
    "model9.add(InputLayer((6, 6)))  # 6 timestamps, 6 features\n",
    "model9.add(BatchNormalization())  # Normalize inputs\n",
    "model9.add(GRU(128, activation='relu', return_sequences=True))  # GRU layer\n",
    "model9.add(Dropout(0.3))  # Dropout for regularization\n",
    "model9.add(GRU(64, activation='relu', return_sequences=False))  # Second GRU layer\n",
    "model9.add(Dense(32, activation='relu'))  # Fully connected layer\n",
    "model9.add(Dense(16, activation='relu'))  # Second dense layer\n",
    "model9.add(Dense(1, activation='linear'))  # Output layer\n",
    "\n",
    "cp9 = ModelCheckpoint('/kaggle/working/model9.keras', save_best_only=True)\n",
    "\n",
    "model9.compile(loss=MeanSquaredError(), optimizer=Adam(learning_rate=0.001), \n",
    "               metrics=[RootMeanSquaredError()])\n",
    "\n",
    "model9.fit(X_train1, y_train1, validation_data=(X_val1, y_val1), epochs=50, \n",
    "           callbacks=[cp9])"
   ]
  },
  {
   "cell_type": "code",
   "execution_count": 54,
   "id": "9e525b4c",
   "metadata": {
    "execution": {
     "iopub.execute_input": "2025-01-27T22:02:50.814057Z",
     "iopub.status.busy": "2025-01-27T22:02:50.813720Z",
     "iopub.status.idle": "2025-01-27T22:02:50.986734Z",
     "shell.execute_reply": "2025-01-27T22:02:50.985934Z"
    },
    "papermill": {
     "duration": 0.321091,
     "end_time": "2025-01-27T22:02:50.988508",
     "exception": false,
     "start_time": "2025-01-27T22:02:50.667417",
     "status": "completed"
    },
    "tags": []
   },
   "outputs": [],
   "source": [
    "from tensorflow.keras.models import load_model\n",
    "model9 = load_model('/kaggle/working/model9.keras')"
   ]
  },
  {
   "cell_type": "code",
   "execution_count": 55,
   "id": "e8155be1",
   "metadata": {
    "execution": {
     "iopub.execute_input": "2025-01-27T22:02:51.278798Z",
     "iopub.status.busy": "2025-01-27T22:02:51.278461Z",
     "iopub.status.idle": "2025-01-27T22:02:52.191865Z",
     "shell.execute_reply": "2025-01-27T22:02:52.191014Z"
    },
    "papermill": {
     "duration": 1.059682,
     "end_time": "2025-01-27T22:02:52.193429",
     "exception": false,
     "start_time": "2025-01-27T22:02:51.133747",
     "status": "completed"
    },
    "tags": []
   },
   "outputs": [
    {
     "name": "stdout",
     "output_type": "stream",
     "text": [
      "\u001b[1m75/75\u001b[0m \u001b[32m━━━━━━━━━━━━━━━━━━━━\u001b[0m\u001b[37m\u001b[0m \u001b[1m1s\u001b[0m 7ms/step\n",
      "Evaluation Metrics:\n",
      "Mean Absolute Error (MAE): 4.9830\n",
      "Mean Squared Error (MSE): 56.7110\n",
      "Root Mean Squared Error (RMSE): 7.5307\n",
      "R-squared (Accuracy): 0.9757\n"
     ]
    }
   ],
   "source": [
    "# Evaluate the model on the train data\n",
    "train_result = model9.predict(X_train1)\n",
    "\n",
    "# Calculate metrics\n",
    "mse = mean_squared_error(y_train1, train_result)\n",
    "rmse = np.sqrt(mse)\n",
    "mae = mean_absolute_error(y_train1, train_result)\n",
    "r2 = r2_score(y_train1, train_result)\n",
    "\n",
    "# Print the results\n",
    "print(\"Evaluation Metrics:\")\n",
    "print(f\"Mean Absolute Error (MAE): {mae:.4f}\")\n",
    "print(f\"Mean Squared Error (MSE): {mse:.4f}\")\n",
    "print(f\"Root Mean Squared Error (RMSE): {rmse:.4f}\")\n",
    "print(f\"R-squared (Accuracy): {r2:.4f}\")"
   ]
  },
  {
   "cell_type": "code",
   "execution_count": 56,
   "id": "bd59ab60",
   "metadata": {
    "execution": {
     "iopub.execute_input": "2025-01-27T22:02:52.487953Z",
     "iopub.status.busy": "2025-01-27T22:02:52.487602Z",
     "iopub.status.idle": "2025-01-27T22:02:52.601624Z",
     "shell.execute_reply": "2025-01-27T22:02:52.600762Z"
    },
    "papermill": {
     "duration": 0.264826,
     "end_time": "2025-01-27T22:02:52.602861",
     "exception": false,
     "start_time": "2025-01-27T22:02:52.338035",
     "status": "completed"
    },
    "tags": []
   },
   "outputs": [
    {
     "name": "stdout",
     "output_type": "stream",
     "text": [
      "\u001b[1m15/15\u001b[0m \u001b[32m━━━━━━━━━━━━━━━━━━━━\u001b[0m\u001b[37m\u001b[0m \u001b[1m0s\u001b[0m 3ms/step \n",
      "Evaluation Metrics:\n",
      "Mean Absolute Error (MAE): 8.0286\n",
      "Mean Squared Error (MSE): 106.9350\n",
      "Root Mean Squared Error (RMSE): 10.3409\n",
      "R-squared (Accuracy): 0.9822\n"
     ]
    }
   ],
   "source": [
    "# Evaluate the model on the validation data\n",
    "val_result = model9.predict(X_val1)\n",
    "\n",
    "# Calculate metrics\n",
    "mse = mean_squared_error(y_val1, val_result)\n",
    "rmse = np.sqrt(mse)\n",
    "mae = mean_absolute_error(y_val1, val_result)\n",
    "r2 = r2_score(y_val1, val_result)\n",
    "\n",
    "# Print the results\n",
    "print(\"Evaluation Metrics:\")\n",
    "print(f\"Mean Absolute Error (MAE): {mae:.4f}\")\n",
    "print(f\"Mean Squared Error (MSE): {mse:.4f}\")\n",
    "print(f\"Root Mean Squared Error (RMSE): {rmse:.4f}\")\n",
    "print(f\"R-squared (Accuracy): {r2:.4f}\")"
   ]
  },
  {
   "cell_type": "code",
   "execution_count": 57,
   "id": "13b05829",
   "metadata": {
    "execution": {
     "iopub.execute_input": "2025-01-27T22:02:52.941884Z",
     "iopub.status.busy": "2025-01-27T22:02:52.941549Z",
     "iopub.status.idle": "2025-01-27T22:02:53.041075Z",
     "shell.execute_reply": "2025-01-27T22:02:53.040169Z"
    },
    "papermill": {
     "duration": 0.24727,
     "end_time": "2025-01-27T22:02:53.042694",
     "exception": false,
     "start_time": "2025-01-27T22:02:52.795424",
     "status": "completed"
    },
    "tags": []
   },
   "outputs": [
    {
     "name": "stdout",
     "output_type": "stream",
     "text": [
      "\u001b[1m10/10\u001b[0m \u001b[32m━━━━━━━━━━━━━━━━━━━━\u001b[0m\u001b[37m\u001b[0m \u001b[1m0s\u001b[0m 3ms/step \n",
      "Evaluation Metrics:\n",
      "Mean Absolute Error (MAE): 6.4362\n",
      "Mean Squared Error (MSE): 67.6984\n",
      "Root Mean Squared Error (RMSE): 8.2279\n",
      "R-squared (Accuracy): 0.9712\n"
     ]
    }
   ],
   "source": [
    "# Evaluate the model on the test data\n",
    "test_result = model9.predict(X_test1)\n",
    "\n",
    "# Calculate metrics\n",
    "mse = mean_squared_error(y_test1, test_result)\n",
    "rmse = np.sqrt(mse)\n",
    "mae = mean_absolute_error(y_test1, test_result)\n",
    "r2 = r2_score(y_test1, test_result)\n",
    "\n",
    "# Print the results\n",
    "print(\"Evaluation Metrics:\")\n",
    "print(f\"Mean Absolute Error (MAE): {mae:.4f}\")\n",
    "print(f\"Mean Squared Error (MSE): {mse:.4f}\")\n",
    "print(f\"Root Mean Squared Error (RMSE): {rmse:.4f}\")\n",
    "print(f\"R-squared (Accuracy): {r2:.4f}\")"
   ]
  },
  {
   "cell_type": "code",
   "execution_count": 58,
   "id": "7e2b6b3f",
   "metadata": {
    "execution": {
     "iopub.execute_input": "2025-01-27T22:02:53.335491Z",
     "iopub.status.busy": "2025-01-27T22:02:53.335157Z",
     "iopub.status.idle": "2025-01-27T22:02:53.648448Z",
     "shell.execute_reply": "2025-01-27T22:02:53.647446Z"
    },
    "papermill": {
     "duration": 0.460164,
     "end_time": "2025-01-27T22:02:53.649913",
     "exception": false,
     "start_time": "2025-01-27T22:02:53.189749",
     "status": "completed"
    },
    "tags": []
   },
   "outputs": [
    {
     "name": "stdout",
     "output_type": "stream",
     "text": [
      "\u001b[1m75/75\u001b[0m \u001b[32m━━━━━━━━━━━━━━━━━━━━\u001b[0m\u001b[37m\u001b[0m \u001b[1m0s\u001b[0m 3ms/step\n"
     ]
    },
    {
     "data": {
      "text/html": [
       "<div>\n",
       "<style scoped>\n",
       "    .dataframe tbody tr th:only-of-type {\n",
       "        vertical-align: middle;\n",
       "    }\n",
       "\n",
       "    .dataframe tbody tr th {\n",
       "        vertical-align: top;\n",
       "    }\n",
       "\n",
       "    .dataframe thead th {\n",
       "        text-align: right;\n",
       "    }\n",
       "</style>\n",
       "<table border=\"1\" class=\"dataframe\">\n",
       "  <thead>\n",
       "    <tr style=\"text-align: right;\">\n",
       "      <th></th>\n",
       "      <th>Train Predictions</th>\n",
       "      <th>Actuals</th>\n",
       "    </tr>\n",
       "  </thead>\n",
       "  <tbody>\n",
       "    <tr>\n",
       "      <th>0</th>\n",
       "      <td>180.404205</td>\n",
       "      <td>182.666667</td>\n",
       "    </tr>\n",
       "    <tr>\n",
       "      <th>1</th>\n",
       "      <td>189.570206</td>\n",
       "      <td>204.833333</td>\n",
       "    </tr>\n",
       "    <tr>\n",
       "      <th>2</th>\n",
       "      <td>212.895386</td>\n",
       "      <td>220.666667</td>\n",
       "    </tr>\n",
       "    <tr>\n",
       "      <th>3</th>\n",
       "      <td>233.681335</td>\n",
       "      <td>244.666667</td>\n",
       "    </tr>\n",
       "    <tr>\n",
       "      <th>4</th>\n",
       "      <td>250.653625</td>\n",
       "      <td>257.166667</td>\n",
       "    </tr>\n",
       "    <tr>\n",
       "      <th>...</th>\n",
       "      <td>...</td>\n",
       "      <td>...</td>\n",
       "    </tr>\n",
       "    <tr>\n",
       "      <th>2388</th>\n",
       "      <td>95.896698</td>\n",
       "      <td>94.166667</td>\n",
       "    </tr>\n",
       "    <tr>\n",
       "      <th>2389</th>\n",
       "      <td>95.876686</td>\n",
       "      <td>88.666667</td>\n",
       "    </tr>\n",
       "    <tr>\n",
       "      <th>2390</th>\n",
       "      <td>93.029922</td>\n",
       "      <td>80.666667</td>\n",
       "    </tr>\n",
       "    <tr>\n",
       "      <th>2391</th>\n",
       "      <td>88.444389</td>\n",
       "      <td>84.833333</td>\n",
       "    </tr>\n",
       "    <tr>\n",
       "      <th>2392</th>\n",
       "      <td>88.778435</td>\n",
       "      <td>90.333333</td>\n",
       "    </tr>\n",
       "  </tbody>\n",
       "</table>\n",
       "<p>2393 rows × 2 columns</p>\n",
       "</div>"
      ],
      "text/plain": [
       "      Train Predictions     Actuals\n",
       "0            180.404205  182.666667\n",
       "1            189.570206  204.833333\n",
       "2            212.895386  220.666667\n",
       "3            233.681335  244.666667\n",
       "4            250.653625  257.166667\n",
       "...                 ...         ...\n",
       "2388          95.896698   94.166667\n",
       "2389          95.876686   88.666667\n",
       "2390          93.029922   80.666667\n",
       "2391          88.444389   84.833333\n",
       "2392          88.778435   90.333333\n",
       "\n",
       "[2393 rows x 2 columns]"
      ]
     },
     "execution_count": 58,
     "metadata": {},
     "output_type": "execute_result"
    }
   ],
   "source": [
    "train_predictions = model9.predict(X_train1).flatten()\n",
    "train_results = pd.DataFrame(data={'Train Predictions':train_predictions, 'Actuals':y_train1})\n",
    "train_results"
   ]
  },
  {
   "cell_type": "code",
   "execution_count": 59,
   "id": "0bddef38",
   "metadata": {
    "execution": {
     "iopub.execute_input": "2025-01-27T22:02:53.947176Z",
     "iopub.status.busy": "2025-01-27T22:02:53.946792Z",
     "iopub.status.idle": "2025-01-27T22:02:54.105871Z",
     "shell.execute_reply": "2025-01-27T22:02:54.104949Z"
    },
    "papermill": {
     "duration": 0.308669,
     "end_time": "2025-01-27T22:02:54.107386",
     "exception": false,
     "start_time": "2025-01-27T22:02:53.798717",
     "status": "completed"
    },
    "tags": []
   },
   "outputs": [
    {
     "data": {
      "image/png": "[encoded data removed]",
      "text/plain": [
       "<Figure size 640x480 with 1 Axes>"
      ]
     },
     "metadata": {},
     "output_type": "display_data"
    }
   ],
   "source": [
    "plt.plot(train_results['Actuals'][1:50], label='Actual')\n",
    "plt.plot(train_results['Train Predictions'][1:50], label='Predicted')\n",
    "plt.legend()\n",
    "plt.show()"
   ]
  },
  {
   "cell_type": "code",
   "execution_count": 60,
   "id": "e379591f",
   "metadata": {
    "execution": {
     "iopub.execute_input": "2025-01-27T22:02:54.404498Z",
     "iopub.status.busy": "2025-01-27T22:02:54.404103Z",
     "iopub.status.idle": "2025-01-27T22:02:54.523130Z",
     "shell.execute_reply": "2025-01-27T22:02:54.522270Z"
    },
    "papermill": {
     "duration": 0.267698,
     "end_time": "2025-01-27T22:02:54.524626",
     "exception": false,
     "start_time": "2025-01-27T22:02:54.256928",
     "status": "completed"
    },
    "tags": []
   },
   "outputs": [
    {
     "name": "stdout",
     "output_type": "stream",
     "text": [
      "\u001b[1m15/15\u001b[0m \u001b[32m━━━━━━━━━━━━━━━━━━━━\u001b[0m\u001b[37m\u001b[0m \u001b[1m0s\u001b[0m 3ms/step \n"
     ]
    },
    {
     "data": {
      "text/html": [
       "<div>\n",
       "<style scoped>\n",
       "    .dataframe tbody tr th:only-of-type {\n",
       "        vertical-align: middle;\n",
       "    }\n",
       "\n",
       "    .dataframe tbody tr th {\n",
       "        vertical-align: top;\n",
       "    }\n",
       "\n",
       "    .dataframe thead th {\n",
       "        text-align: right;\n",
       "    }\n",
       "</style>\n",
       "<table border=\"1\" class=\"dataframe\">\n",
       "  <thead>\n",
       "    <tr style=\"text-align: right;\">\n",
       "      <th></th>\n",
       "      <th>Train Predictions</th>\n",
       "      <th>Actuals</th>\n",
       "    </tr>\n",
       "  </thead>\n",
       "  <tbody>\n",
       "    <tr>\n",
       "      <th>0</th>\n",
       "      <td>86.328636</td>\n",
       "      <td>79.500000</td>\n",
       "    </tr>\n",
       "    <tr>\n",
       "      <th>1</th>\n",
       "      <td>83.987335</td>\n",
       "      <td>80.500000</td>\n",
       "    </tr>\n",
       "    <tr>\n",
       "      <th>2</th>\n",
       "      <td>83.441910</td>\n",
       "      <td>83.333333</td>\n",
       "    </tr>\n",
       "    <tr>\n",
       "      <th>3</th>\n",
       "      <td>83.949257</td>\n",
       "      <td>82.333333</td>\n",
       "    </tr>\n",
       "    <tr>\n",
       "      <th>4</th>\n",
       "      <td>84.051819</td>\n",
       "      <td>84.833333</td>\n",
       "    </tr>\n",
       "    <tr>\n",
       "      <th>...</th>\n",
       "      <td>...</td>\n",
       "      <td>...</td>\n",
       "    </tr>\n",
       "    <tr>\n",
       "      <th>468</th>\n",
       "      <td>219.393875</td>\n",
       "      <td>211.666667</td>\n",
       "    </tr>\n",
       "    <tr>\n",
       "      <th>469</th>\n",
       "      <td>214.840012</td>\n",
       "      <td>207.000000</td>\n",
       "    </tr>\n",
       "    <tr>\n",
       "      <th>470</th>\n",
       "      <td>208.474594</td>\n",
       "      <td>190.833333</td>\n",
       "    </tr>\n",
       "    <tr>\n",
       "      <th>471</th>\n",
       "      <td>196.490143</td>\n",
       "      <td>190.833333</td>\n",
       "    </tr>\n",
       "    <tr>\n",
       "      <th>472</th>\n",
       "      <td>192.321259</td>\n",
       "      <td>188.500000</td>\n",
       "    </tr>\n",
       "  </tbody>\n",
       "</table>\n",
       "<p>473 rows × 2 columns</p>\n",
       "</div>"
      ],
      "text/plain": [
       "     Train Predictions     Actuals\n",
       "0            86.328636   79.500000\n",
       "1            83.987335   80.500000\n",
       "2            83.441910   83.333333\n",
       "3            83.949257   82.333333\n",
       "4            84.051819   84.833333\n",
       "..                 ...         ...\n",
       "468         219.393875  211.666667\n",
       "469         214.840012  207.000000\n",
       "470         208.474594  190.833333\n",
       "471         196.490143  190.833333\n",
       "472         192.321259  188.500000\n",
       "\n",
       "[473 rows x 2 columns]"
      ]
     },
     "execution_count": 60,
     "metadata": {},
     "output_type": "execute_result"
    }
   ],
   "source": [
    "val_predictions = model9.predict(X_val1).flatten()\n",
    "val_results = pd.DataFrame(data={'Train Predictions':val_predictions, 'Actuals':y_val1})\n",
    "val_results"
   ]
  },
  {
   "cell_type": "code",
   "execution_count": 61,
   "id": "0cafecfb",
   "metadata": {
    "execution": {
     "iopub.execute_input": "2025-01-27T22:02:54.818947Z",
     "iopub.status.busy": "2025-01-27T22:02:54.818607Z",
     "iopub.status.idle": "2025-01-27T22:02:54.980337Z",
     "shell.execute_reply": "2025-01-27T22:02:54.979354Z"
    },
    "papermill": {
     "duration": 0.310368,
     "end_time": "2025-01-27T22:02:54.981793",
     "exception": false,
     "start_time": "2025-01-27T22:02:54.671425",
     "status": "completed"
    },
    "tags": []
   },
   "outputs": [
    {
     "data": {
      "image/png": "[encoded data removed]",
      "text/plain": [
       "<Figure size 640x480 with 1 Axes>"
      ]
     },
     "metadata": {},
     "output_type": "display_data"
    }
   ],
   "source": [
    "plt.plot(val_results['Actuals'][1:50], label='Actual')\n",
    "plt.plot(val_results['Train Predictions'][1:50], label='Predicted')\n",
    "plt.legend()\n",
    "plt.show()"
   ]
  },
  {
   "cell_type": "code",
   "execution_count": 62,
   "id": "d8d8aa82",
   "metadata": {
    "execution": {
     "iopub.execute_input": "2025-01-27T22:02:55.285566Z",
     "iopub.status.busy": "2025-01-27T22:02:55.285201Z",
     "iopub.status.idle": "2025-01-27T22:02:55.390335Z",
     "shell.execute_reply": "2025-01-27T22:02:55.389477Z"
    },
    "papermill": {
     "duration": 0.256299,
     "end_time": "2025-01-27T22:02:55.391764",
     "exception": false,
     "start_time": "2025-01-27T22:02:55.135465",
     "status": "completed"
    },
    "tags": []
   },
   "outputs": [
    {
     "name": "stdout",
     "output_type": "stream",
     "text": [
      "\u001b[1m10/10\u001b[0m \u001b[32m━━━━━━━━━━━━━━━━━━━━\u001b[0m\u001b[37m\u001b[0m \u001b[1m0s\u001b[0m 3ms/step \n"
     ]
    },
    {
     "data": {
      "text/html": [
       "<div>\n",
       "<style scoped>\n",
       "    .dataframe tbody tr th:only-of-type {\n",
       "        vertical-align: middle;\n",
       "    }\n",
       "\n",
       "    .dataframe tbody tr th {\n",
       "        vertical-align: top;\n",
       "    }\n",
       "\n",
       "    .dataframe thead th {\n",
       "        text-align: right;\n",
       "    }\n",
       "</style>\n",
       "<table border=\"1\" class=\"dataframe\">\n",
       "  <thead>\n",
       "    <tr style=\"text-align: right;\">\n",
       "      <th></th>\n",
       "      <th>Train Predictions</th>\n",
       "      <th>Actuals</th>\n",
       "    </tr>\n",
       "  </thead>\n",
       "  <tbody>\n",
       "    <tr>\n",
       "      <th>0</th>\n",
       "      <td>197.251541</td>\n",
       "      <td>187.166667</td>\n",
       "    </tr>\n",
       "    <tr>\n",
       "      <th>1</th>\n",
       "      <td>195.769791</td>\n",
       "      <td>183.833333</td>\n",
       "    </tr>\n",
       "    <tr>\n",
       "      <th>2</th>\n",
       "      <td>191.434586</td>\n",
       "      <td>184.833333</td>\n",
       "    </tr>\n",
       "    <tr>\n",
       "      <th>3</th>\n",
       "      <td>193.236816</td>\n",
       "      <td>187.500000</td>\n",
       "    </tr>\n",
       "    <tr>\n",
       "      <th>4</th>\n",
       "      <td>196.461121</td>\n",
       "      <td>192.500000</td>\n",
       "    </tr>\n",
       "    <tr>\n",
       "      <th>...</th>\n",
       "      <td>...</td>\n",
       "      <td>...</td>\n",
       "    </tr>\n",
       "    <tr>\n",
       "      <th>310</th>\n",
       "      <td>147.683807</td>\n",
       "      <td>149.166667</td>\n",
       "    </tr>\n",
       "    <tr>\n",
       "      <th>311</th>\n",
       "      <td>153.474915</td>\n",
       "      <td>149.833333</td>\n",
       "    </tr>\n",
       "    <tr>\n",
       "      <th>312</th>\n",
       "      <td>154.112671</td>\n",
       "      <td>149.666667</td>\n",
       "    </tr>\n",
       "    <tr>\n",
       "      <th>313</th>\n",
       "      <td>152.246750</td>\n",
       "      <td>149.666667</td>\n",
       "    </tr>\n",
       "    <tr>\n",
       "      <th>314</th>\n",
       "      <td>151.354095</td>\n",
       "      <td>149.666667</td>\n",
       "    </tr>\n",
       "  </tbody>\n",
       "</table>\n",
       "<p>315 rows × 2 columns</p>\n",
       "</div>"
      ],
      "text/plain": [
       "     Train Predictions     Actuals\n",
       "0           197.251541  187.166667\n",
       "1           195.769791  183.833333\n",
       "2           191.434586  184.833333\n",
       "3           193.236816  187.500000\n",
       "4           196.461121  192.500000\n",
       "..                 ...         ...\n",
       "310         147.683807  149.166667\n",
       "311         153.474915  149.833333\n",
       "312         154.112671  149.666667\n",
       "313         152.246750  149.666667\n",
       "314         151.354095  149.666667\n",
       "\n",
       "[315 rows x 2 columns]"
      ]
     },
     "execution_count": 62,
     "metadata": {},
     "output_type": "execute_result"
    }
   ],
   "source": [
    "test_predictions = model9.predict(X_test1).flatten()\n",
    "test_results = pd.DataFrame(data={'Train Predictions':test_predictions, 'Actuals':y_test1})\n",
    "test_results"
   ]
  },
  {
   "cell_type": "code",
   "execution_count": 63,
   "id": "11c32d16",
   "metadata": {
    "execution": {
     "iopub.execute_input": "2025-01-27T22:02:55.697375Z",
     "iopub.status.busy": "2025-01-27T22:02:55.696983Z",
     "iopub.status.idle": "2025-01-27T22:02:55.862011Z",
     "shell.execute_reply": "2025-01-27T22:02:55.861162Z"
    },
    "papermill": {
     "duration": 0.320781,
     "end_time": "2025-01-27T22:02:55.863599",
     "exception": false,
     "start_time": "2025-01-27T22:02:55.542818",
     "status": "completed"
    },
    "tags": []
   },
   "outputs": [
    {
     "data": {
      "image/png": "[encoded data removed]",
      "text/plain": [
       "<Figure size 640x480 with 1 Axes>"
      ]
     },
     "metadata": {},
     "output_type": "display_data"
    }
   ],
   "source": [
    "plt.plot(test_results['Train Predictions'][1:50], label='Predicted')\n",
    "plt.plot(test_results['Actuals'][1:50], label='Actual')\n",
    "plt.legend()\n",
    "plt.show()"
   ]
  }
 ],
 "metadata": {
  "kaggle": {
   "accelerator": "none",
   "dataSources": [
    {
     "datasetId": 6557354,
     "sourceId": 10594490,
     "sourceType": "datasetVersion"
    },
    {
     "sourceId": 219513339,
     "sourceType": "kernelVersion"
    }
   ],
   "dockerImageVersionId": 30839,
   "isGpuEnabled": false,
   "isInternetEnabled": false,
   "language": "python",
   "sourceType": "notebook"
  },
  "kernelspec": {
   "display_name": "Python 3",
   "language": "python",
   "name": "python3"
  },
  "language_info": {
   "codemirror_mode": {
    "name": "ipython",
    "version": 3
   },
   "file_extension": ".py",
   "mimetype": "text/x-python",
   "name": "python",
   "nbconvert_exporter": "python",
   "pygments_lexer": "ipython3",
   "version": "3.10.12"
  },
  "papermill": {
   "default_parameters": {},
   "duration": 158.702799,
   "end_time": "2025-01-27T22:02:58.771500",
   "environment_variables": {},
   "exception": null,
   "input_path": "__notebook__.ipynb",
   "output_path": "__notebook__.ipynb",
   "parameters": {},
   "start_time": "2025-01-27T22:00:20.068701",
   "version": "2.6.0"
  }
 },
 "nbformat": 4,
 "nbformat_minor": 5
}
