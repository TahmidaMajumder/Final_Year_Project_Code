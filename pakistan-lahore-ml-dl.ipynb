{
 "cells": [
  {
   "cell_type": "code",
   "execution_count": 1,
   "id": "cde000f6",
   "metadata": {
    "_cell_guid": "b1076dfc-b9ad-4769-8c92-a6c4dae69d19",
    "_uuid": "8f2839f25d086af736a60e9eeb907d3b93b6e0e5",
    "execution": {
     "iopub.execute_input": "2025-01-28T03:14:45.867745Z",
     "iopub.status.busy": "2025-01-28T03:14:45.867264Z",
     "iopub.status.idle": "2025-01-28T03:14:49.292798Z",
     "shell.execute_reply": "2025-01-28T03:14:49.291749Z"
    },
    "papermill": {
     "duration": 3.44469,
     "end_time": "2025-01-28T03:14:49.294859",
     "exception": false,
     "start_time": "2025-01-28T03:14:45.850169",
     "status": "completed"
    },
    "tags": []
   },
   "outputs": [],
   "source": [
    "# Packages / libraries\n",
    "import os #provides functions for interacting with the operating system\n",
    "import numpy as np\n",
    "import pandas as pd\n",
    "from matplotlib import pyplot as plt\n",
    "import seaborn as sns\n",
    "import joblib\n",
    "import sys\n",
    "from datetime import datetime\n",
    "\n",
    "\n",
    "from sklearn.model_selection import train_test_split\n",
    "from sklearn.pipeline import Pipeline\n",
    "from sklearn.preprocessing import StandardScaler, MinMaxScaler, LabelEncoder, OneHotEncoder, PolynomialFeatures\n",
    "from sklearn.metrics import r2_score, explained_variance_score, mean_absolute_error, mean_squared_error\n",
    "from math import sqrt\n",
    "from sklearn.impute import SimpleImputer\n",
    "from sklearn.compose import ColumnTransformer\n",
    "\n",
    "\n",
    "from sklearn.ensemble import RandomForestRegressor\n",
    "from sklearn.neighbors import KNeighborsRegressor\n",
    "from sklearn.svm import SVR\n",
    "from sklearn.neural_network import MLPRegressor\n",
    "from xgboost import XGBRegressor\n",
    "\n",
    "\n",
    "# remove warnings\n",
    "import warnings\n",
    "\n",
    "# Suppress specific warnings\n",
    "warnings.filterwarnings('ignore', category=RuntimeWarning, module='pandas.io.formats.format')"
   ]
  },
  {
   "cell_type": "markdown",
   "id": "0841cada",
   "metadata": {
    "papermill": {
     "duration": 0.014577,
     "end_time": "2025-01-28T03:14:49.325150",
     "exception": false,
     "start_time": "2025-01-28T03:14:49.310573",
     "status": "completed"
    },
    "tags": []
   },
   "source": [
    "# 1. Loading Dataset"
   ]
  },
  {
   "cell_type": "code",
   "execution_count": 2,
   "id": "80d0d342",
   "metadata": {
    "_kg_hide-output": false,
    "execution": {
     "iopub.execute_input": "2025-01-28T03:14:49.356524Z",
     "iopub.status.busy": "2025-01-28T03:14:49.356013Z",
     "iopub.status.idle": "2025-01-28T03:14:49.406237Z",
     "shell.execute_reply": "2025-01-28T03:14:49.405156Z"
    },
    "papermill": {
     "duration": 0.068409,
     "end_time": "2025-01-28T03:14:49.408283",
     "exception": false,
     "start_time": "2025-01-28T03:14:49.339874",
     "status": "completed"
    },
    "tags": []
   },
   "outputs": [
    {
     "name": "stdout",
     "output_type": "stream",
     "text": [
      "(1570, 12)\n"
     ]
    },
    {
     "data": {
      "text/html": [
       "<div>\n",
       "<style scoped>\n",
       "    .dataframe tbody tr th:only-of-type {\n",
       "        vertical-align: middle;\n",
       "    }\n",
       "\n",
       "    .dataframe tbody tr th {\n",
       "        vertical-align: top;\n",
       "    }\n",
       "\n",
       "    .dataframe thead th {\n",
       "        text-align: right;\n",
       "    }\n",
       "</style>\n",
       "<table border=\"1\" class=\"dataframe\">\n",
       "  <thead>\n",
       "    <tr style=\"text-align: right;\">\n",
       "      <th></th>\n",
       "      <th>Date</th>\n",
       "      <th>co</th>\n",
       "      <th>no2</th>\n",
       "      <th>o3</th>\n",
       "      <th>pm10</th>\n",
       "      <th>pm25</th>\n",
       "      <th>so2</th>\n",
       "      <th>humidity</th>\n",
       "      <th>pressure</th>\n",
       "      <th>temperature</th>\n",
       "      <th>wind-speed</th>\n",
       "      <th>Country_City</th>\n",
       "    </tr>\n",
       "  </thead>\n",
       "  <tbody>\n",
       "    <tr>\n",
       "      <th>0</th>\n",
       "      <td>2019-05-09</td>\n",
       "      <td>NaN</td>\n",
       "      <td>NaN</td>\n",
       "      <td>NaN</td>\n",
       "      <td>NaN</td>\n",
       "      <td>196.0</td>\n",
       "      <td>NaN</td>\n",
       "      <td>20.0</td>\n",
       "      <td>1003.0</td>\n",
       "      <td>33.0</td>\n",
       "      <td>2.3</td>\n",
       "      <td>Pakistan_Lahore</td>\n",
       "    </tr>\n",
       "    <tr>\n",
       "      <th>1</th>\n",
       "      <td>2019-05-10</td>\n",
       "      <td>NaN</td>\n",
       "      <td>NaN</td>\n",
       "      <td>NaN</td>\n",
       "      <td>NaN</td>\n",
       "      <td>159.0</td>\n",
       "      <td>NaN</td>\n",
       "      <td>28.0</td>\n",
       "      <td>1004.0</td>\n",
       "      <td>32.0</td>\n",
       "      <td>3.6</td>\n",
       "      <td>Pakistan_Lahore</td>\n",
       "    </tr>\n",
       "    <tr>\n",
       "      <th>2</th>\n",
       "      <td>2019-05-11</td>\n",
       "      <td>NaN</td>\n",
       "      <td>NaN</td>\n",
       "      <td>NaN</td>\n",
       "      <td>NaN</td>\n",
       "      <td>197.0</td>\n",
       "      <td>NaN</td>\n",
       "      <td>43.0</td>\n",
       "      <td>1007.0</td>\n",
       "      <td>29.0</td>\n",
       "      <td>3.0</td>\n",
       "      <td>Pakistan_Lahore</td>\n",
       "    </tr>\n",
       "    <tr>\n",
       "      <th>3</th>\n",
       "      <td>2019-05-12</td>\n",
       "      <td>NaN</td>\n",
       "      <td>NaN</td>\n",
       "      <td>NaN</td>\n",
       "      <td>NaN</td>\n",
       "      <td>176.0</td>\n",
       "      <td>NaN</td>\n",
       "      <td>37.0</td>\n",
       "      <td>1006.0</td>\n",
       "      <td>31.0</td>\n",
       "      <td>2.5</td>\n",
       "      <td>Pakistan_Lahore</td>\n",
       "    </tr>\n",
       "    <tr>\n",
       "      <th>4</th>\n",
       "      <td>2019-05-13</td>\n",
       "      <td>NaN</td>\n",
       "      <td>NaN</td>\n",
       "      <td>NaN</td>\n",
       "      <td>NaN</td>\n",
       "      <td>171.0</td>\n",
       "      <td>NaN</td>\n",
       "      <td>51.0</td>\n",
       "      <td>1005.0</td>\n",
       "      <td>28.0</td>\n",
       "      <td>2.5</td>\n",
       "      <td>Pakistan_Lahore</td>\n",
       "    </tr>\n",
       "  </tbody>\n",
       "</table>\n",
       "</div>"
      ],
      "text/plain": [
       "         Date  co  no2  o3  pm10   pm25  so2  humidity  pressure  temperature  \\\n",
       "0  2019-05-09 NaN  NaN NaN   NaN  196.0  NaN      20.0    1003.0         33.0   \n",
       "1  2019-05-10 NaN  NaN NaN   NaN  159.0  NaN      28.0    1004.0         32.0   \n",
       "2  2019-05-11 NaN  NaN NaN   NaN  197.0  NaN      43.0    1007.0         29.0   \n",
       "3  2019-05-12 NaN  NaN NaN   NaN  176.0  NaN      37.0    1006.0         31.0   \n",
       "4  2019-05-13 NaN  NaN NaN   NaN  171.0  NaN      51.0    1005.0         28.0   \n",
       "\n",
       "   wind-speed     Country_City  \n",
       "0         2.3  Pakistan_Lahore  \n",
       "1         3.6  Pakistan_Lahore  \n",
       "2         3.0  Pakistan_Lahore  \n",
       "3         2.5  Pakistan_Lahore  \n",
       "4         2.5  Pakistan_Lahore  "
      ]
     },
     "execution_count": 2,
     "metadata": {},
     "output_type": "execute_result"
    }
   ],
   "source": [
    "# Loading the data\n",
    "new_data = pd.read_csv(\"/kaggle/input/seperated-data/Pakistan_Lahore.csv\")\n",
    "\n",
    "# print the shape\n",
    "print(new_data.shape)\n",
    "\n",
    "#runs the first 5 rows\n",
    "new_data.head()"
   ]
  },
  {
   "cell_type": "code",
   "execution_count": 3,
   "id": "4593b40c",
   "metadata": {
    "execution": {
     "iopub.execute_input": "2025-01-28T03:14:49.440619Z",
     "iopub.status.busy": "2025-01-28T03:14:49.440236Z",
     "iopub.status.idle": "2025-01-28T03:14:49.448329Z",
     "shell.execute_reply": "2025-01-28T03:14:49.447089Z"
    },
    "papermill": {
     "duration": 0.025498,
     "end_time": "2025-01-28T03:14:49.449914",
     "exception": false,
     "start_time": "2025-01-28T03:14:49.424416",
     "status": "completed"
    },
    "tags": []
   },
   "outputs": [
    {
     "name": "stdout",
     "output_type": "stream",
     "text": [
      "Minimum date: 2019-05-09\n",
      "Maximum date: 2025-01-09\n"
     ]
    }
   ],
   "source": [
    "# Find the minimum and maximum dates\n",
    "min_date = new_data['Date'].min()\n",
    "max_date = new_data['Date'].max()\n",
    "\n",
    "print('Minimum date:', min_date)\n",
    "print('Maximum date:', max_date)"
   ]
  },
  {
   "cell_type": "code",
   "execution_count": 4,
   "id": "bf50198d",
   "metadata": {
    "execution": {
     "iopub.execute_input": "2025-01-28T03:14:49.481424Z",
     "iopub.status.busy": "2025-01-28T03:14:49.481021Z",
     "iopub.status.idle": "2025-01-28T03:14:49.504178Z",
     "shell.execute_reply": "2025-01-28T03:14:49.502900Z"
    },
    "papermill": {
     "duration": 0.040949,
     "end_time": "2025-01-28T03:14:49.505966",
     "exception": false,
     "start_time": "2025-01-28T03:14:49.465017",
     "status": "completed"
    },
    "tags": []
   },
   "outputs": [
    {
     "name": "stdout",
     "output_type": "stream",
     "text": [
      "<class 'pandas.core.frame.DataFrame'>\n",
      "RangeIndex: 1570 entries, 0 to 1569\n",
      "Data columns (total 12 columns):\n",
      " #   Column        Non-Null Count  Dtype  \n",
      "---  ------        --------------  -----  \n",
      " 0   Date          1570 non-null   object \n",
      " 1   co            0 non-null      float64\n",
      " 2   no2           0 non-null      float64\n",
      " 3   o3            0 non-null      float64\n",
      " 4   pm10          0 non-null      float64\n",
      " 5   pm25          1570 non-null   float64\n",
      " 6   so2           0 non-null      float64\n",
      " 7   humidity      1546 non-null   float64\n",
      " 8   pressure      1546 non-null   float64\n",
      " 9   temperature   1546 non-null   float64\n",
      " 10  wind-speed    1452 non-null   float64\n",
      " 11  Country_City  1570 non-null   object \n",
      "dtypes: float64(10), object(2)\n",
      "memory usage: 147.3+ KB\n"
     ]
    }
   ],
   "source": [
    "new_data.info()"
   ]
  },
  {
   "cell_type": "code",
   "execution_count": 5,
   "id": "81a0a339",
   "metadata": {
    "execution": {
     "iopub.execute_input": "2025-01-28T03:14:49.537492Z",
     "iopub.status.busy": "2025-01-28T03:14:49.537053Z",
     "iopub.status.idle": "2025-01-28T03:14:49.571906Z",
     "shell.execute_reply": "2025-01-28T03:14:49.570878Z"
    },
    "papermill": {
     "duration": 0.052376,
     "end_time": "2025-01-28T03:14:49.573592",
     "exception": false,
     "start_time": "2025-01-28T03:14:49.521216",
     "status": "completed"
    },
    "tags": []
   },
   "outputs": [
    {
     "data": {
      "text/html": [
       "<div>\n",
       "<style scoped>\n",
       "    .dataframe tbody tr th:only-of-type {\n",
       "        vertical-align: middle;\n",
       "    }\n",
       "\n",
       "    .dataframe tbody tr th {\n",
       "        vertical-align: top;\n",
       "    }\n",
       "\n",
       "    .dataframe thead th {\n",
       "        text-align: right;\n",
       "    }\n",
       "</style>\n",
       "<table border=\"1\" class=\"dataframe\">\n",
       "  <thead>\n",
       "    <tr style=\"text-align: right;\">\n",
       "      <th></th>\n",
       "      <th>co</th>\n",
       "      <th>no2</th>\n",
       "      <th>o3</th>\n",
       "      <th>pm10</th>\n",
       "      <th>pm25</th>\n",
       "      <th>so2</th>\n",
       "      <th>humidity</th>\n",
       "      <th>pressure</th>\n",
       "      <th>temperature</th>\n",
       "      <th>wind-speed</th>\n",
       "    </tr>\n",
       "  </thead>\n",
       "  <tbody>\n",
       "    <tr>\n",
       "      <th>count</th>\n",
       "      <td>0.0</td>\n",
       "      <td>0.0</td>\n",
       "      <td>0.0</td>\n",
       "      <td>0.0</td>\n",
       "      <td>1570.000000</td>\n",
       "      <td>0.0</td>\n",
       "      <td>1546.000000</td>\n",
       "      <td>1546.000000</td>\n",
       "      <td>1546.000000</td>\n",
       "      <td>1452.000000</td>\n",
       "    </tr>\n",
       "    <tr>\n",
       "      <th>mean</th>\n",
       "      <td>NaN</td>\n",
       "      <td>NaN</td>\n",
       "      <td>NaN</td>\n",
       "      <td>NaN</td>\n",
       "      <td>177.652229</td>\n",
       "      <td>NaN</td>\n",
       "      <td>60.527814</td>\n",
       "      <td>1008.290944</td>\n",
       "      <td>24.336869</td>\n",
       "      <td>2.848829</td>\n",
       "    </tr>\n",
       "    <tr>\n",
       "      <th>std</th>\n",
       "      <td>NaN</td>\n",
       "      <td>NaN</td>\n",
       "      <td>NaN</td>\n",
       "      <td>NaN</td>\n",
       "      <td>83.876598</td>\n",
       "      <td>NaN</td>\n",
       "      <td>16.844766</td>\n",
       "      <td>7.182917</td>\n",
       "      <td>8.097599</td>\n",
       "      <td>1.260782</td>\n",
       "    </tr>\n",
       "    <tr>\n",
       "      <th>min</th>\n",
       "      <td>NaN</td>\n",
       "      <td>NaN</td>\n",
       "      <td>NaN</td>\n",
       "      <td>NaN</td>\n",
       "      <td>5.000000</td>\n",
       "      <td>NaN</td>\n",
       "      <td>18.000000</td>\n",
       "      <td>992.000000</td>\n",
       "      <td>6.000000</td>\n",
       "      <td>0.500000</td>\n",
       "    </tr>\n",
       "    <tr>\n",
       "      <th>25%</th>\n",
       "      <td>NaN</td>\n",
       "      <td>NaN</td>\n",
       "      <td>NaN</td>\n",
       "      <td>NaN</td>\n",
       "      <td>127.000000</td>\n",
       "      <td>NaN</td>\n",
       "      <td>50.000000</td>\n",
       "      <td>1002.000000</td>\n",
       "      <td>18.000000</td>\n",
       "      <td>2.000000</td>\n",
       "    </tr>\n",
       "    <tr>\n",
       "      <th>50%</th>\n",
       "      <td>NaN</td>\n",
       "      <td>NaN</td>\n",
       "      <td>NaN</td>\n",
       "      <td>NaN</td>\n",
       "      <td>159.000000</td>\n",
       "      <td>NaN</td>\n",
       "      <td>62.000000</td>\n",
       "      <td>1008.000000</td>\n",
       "      <td>26.500000</td>\n",
       "      <td>2.500000</td>\n",
       "    </tr>\n",
       "    <tr>\n",
       "      <th>75%</th>\n",
       "      <td>NaN</td>\n",
       "      <td>NaN</td>\n",
       "      <td>NaN</td>\n",
       "      <td>NaN</td>\n",
       "      <td>196.000000</td>\n",
       "      <td>NaN</td>\n",
       "      <td>72.000000</td>\n",
       "      <td>1015.000000</td>\n",
       "      <td>30.500000</td>\n",
       "      <td>3.600000</td>\n",
       "    </tr>\n",
       "    <tr>\n",
       "      <th>max</th>\n",
       "      <td>NaN</td>\n",
       "      <td>NaN</td>\n",
       "      <td>NaN</td>\n",
       "      <td>NaN</td>\n",
       "      <td>568.000000</td>\n",
       "      <td>NaN</td>\n",
       "      <td>100.000000</td>\n",
       "      <td>1024.000000</td>\n",
       "      <td>39.000000</td>\n",
       "      <td>8.700000</td>\n",
       "    </tr>\n",
       "  </tbody>\n",
       "</table>\n",
       "</div>"
      ],
      "text/plain": [
       "        co  no2   o3  pm10         pm25  so2     humidity     pressure  \\\n",
       "count  0.0  0.0  0.0   0.0  1570.000000  0.0  1546.000000  1546.000000   \n",
       "mean   NaN  NaN  NaN   NaN   177.652229  NaN    60.527814  1008.290944   \n",
       "std    NaN  NaN  NaN   NaN    83.876598  NaN    16.844766     7.182917   \n",
       "min    NaN  NaN  NaN   NaN     5.000000  NaN    18.000000   992.000000   \n",
       "25%    NaN  NaN  NaN   NaN   127.000000  NaN    50.000000  1002.000000   \n",
       "50%    NaN  NaN  NaN   NaN   159.000000  NaN    62.000000  1008.000000   \n",
       "75%    NaN  NaN  NaN   NaN   196.000000  NaN    72.000000  1015.000000   \n",
       "max    NaN  NaN  NaN   NaN   568.000000  NaN   100.000000  1024.000000   \n",
       "\n",
       "       temperature   wind-speed  \n",
       "count  1546.000000  1452.000000  \n",
       "mean     24.336869     2.848829  \n",
       "std       8.097599     1.260782  \n",
       "min       6.000000     0.500000  \n",
       "25%      18.000000     2.000000  \n",
       "50%      26.500000     2.500000  \n",
       "75%      30.500000     3.600000  \n",
       "max      39.000000     8.700000  "
      ]
     },
     "execution_count": 5,
     "metadata": {},
     "output_type": "execute_result"
    }
   ],
   "source": [
    "new_data.describe()"
   ]
  },
  {
   "cell_type": "code",
   "execution_count": 6,
   "id": "6b58d352",
   "metadata": {
    "execution": {
     "iopub.execute_input": "2025-01-28T03:14:49.606072Z",
     "iopub.status.busy": "2025-01-28T03:14:49.605651Z",
     "iopub.status.idle": "2025-01-28T03:14:49.616965Z",
     "shell.execute_reply": "2025-01-28T03:14:49.615815Z"
    },
    "papermill": {
     "duration": 0.029418,
     "end_time": "2025-01-28T03:14:49.618569",
     "exception": false,
     "start_time": "2025-01-28T03:14:49.589151",
     "status": "completed"
    },
    "tags": []
   },
   "outputs": [
    {
     "name": "stdout",
     "output_type": "stream",
     "text": [
      "The number of values for feature Date :1569\n",
      "The number of values for feature co :1 -- [nan]\n",
      "The number of values for feature no2 :1 -- [nan]\n",
      "The number of values for feature o3 :1 -- [nan]\n",
      "The number of values for feature pm10 :1 -- [nan]\n",
      "The number of values for feature pm25 :324\n",
      "The number of values for feature so2 :1 -- [nan]\n",
      "The number of values for feature humidity :153\n",
      "The number of values for feature pressure :76\n",
      "The number of values for feature temperature :78\n",
      "The number of values for feature wind-speed :41\n",
      "The number of values for feature Country_City :1 -- ['Pakistan_Lahore']\n"
     ]
    }
   ],
   "source": [
    "# Investigate all the elements whithin each Feature\n",
    "\n",
    "for column in new_data:\n",
    "    # Handle numerical and string columns differently\n",
    "    if new_data[column].dtype == 'object':  # Check if column is of object type\n",
    "        unique_vals = new_data[column].unique()  # pandas unique for strings\n",
    "    else:\n",
    "        unique_vals = np.unique(new_data[column])  # numpy unique for numerical types\n",
    "\n",
    "    nr_values = len(unique_vals)\n",
    "    if nr_values < 14:\n",
    "        print('The number of values for feature {} :{} -- {}'.format(column, nr_values,unique_vals))\n",
    "    else:\n",
    "        print('The number of values for feature {} :{}'.format(column, nr_values))"
   ]
  },
  {
   "cell_type": "code",
   "execution_count": 7,
   "id": "84d9821c",
   "metadata": {
    "execution": {
     "iopub.execute_input": "2025-01-28T03:14:49.651194Z",
     "iopub.status.busy": "2025-01-28T03:14:49.650839Z",
     "iopub.status.idle": "2025-01-28T03:14:49.658473Z",
     "shell.execute_reply": "2025-01-28T03:14:49.657385Z"
    },
    "papermill": {
     "duration": 0.02585,
     "end_time": "2025-01-28T03:14:49.660122",
     "exception": false,
     "start_time": "2025-01-28T03:14:49.634272",
     "status": "completed"
    },
    "tags": []
   },
   "outputs": [
    {
     "data": {
      "text/plain": [
       "Date               0\n",
       "co              1570\n",
       "no2             1570\n",
       "o3              1570\n",
       "pm10            1570\n",
       "pm25               0\n",
       "so2             1570\n",
       "humidity          24\n",
       "pressure          24\n",
       "temperature       24\n",
       "wind-speed       118\n",
       "Country_City       0\n",
       "dtype: int64"
      ]
     },
     "execution_count": 7,
     "metadata": {},
     "output_type": "execute_result"
    }
   ],
   "source": [
    "new_data.isna().sum()"
   ]
  },
  {
   "cell_type": "markdown",
   "id": "829e28b1",
   "metadata": {
    "papermill": {
     "duration": 0.015168,
     "end_time": "2025-01-28T03:14:49.690896",
     "exception": false,
     "start_time": "2025-01-28T03:14:49.675728",
     "status": "completed"
    },
    "tags": []
   },
   "source": [
    "# 1.2 - Function -- Preprocessing"
   ]
  },
  {
   "cell_type": "code",
   "execution_count": 8,
   "id": "625ed606",
   "metadata": {
    "execution": {
     "iopub.execute_input": "2025-01-28T03:14:49.722983Z",
     "iopub.status.busy": "2025-01-28T03:14:49.722570Z",
     "iopub.status.idle": "2025-01-28T03:14:49.728106Z",
     "shell.execute_reply": "2025-01-28T03:14:49.727112Z"
    },
    "papermill": {
     "duration": 0.023353,
     "end_time": "2025-01-28T03:14:49.729654",
     "exception": false,
     "start_time": "2025-01-28T03:14:49.706301",
     "status": "completed"
    },
    "tags": []
   },
   "outputs": [
    {
     "name": "stdout",
     "output_type": "stream",
     "text": [
      "['function_v.py', '__results__.html', '__notebook__.ipynb', '__output__.json', 'custom.css']\n"
     ]
    }
   ],
   "source": [
    "print(os.listdir('/kaggle/usr/lib/function_v'))"
   ]
  },
  {
   "cell_type": "code",
   "execution_count": 9,
   "id": "0f013e78",
   "metadata": {
    "execution": {
     "iopub.execute_input": "2025-01-28T03:14:49.762491Z",
     "iopub.status.busy": "2025-01-28T03:14:49.762148Z",
     "iopub.status.idle": "2025-01-28T03:14:49.774813Z",
     "shell.execute_reply": "2025-01-28T03:14:49.773801Z"
    },
    "papermill": {
     "duration": 0.031299,
     "end_time": "2025-01-28T03:14:49.776714",
     "exception": false,
     "start_time": "2025-01-28T03:14:49.745415",
     "status": "completed"
    },
    "tags": []
   },
   "outputs": [],
   "source": [
    "sys.path.append(\"/kaggle/usr/lib/function_v\")  # Add directory to the path\n",
    "\n",
    "import function_v as fn"
   ]
  },
  {
   "cell_type": "markdown",
   "id": "e73fbe89",
   "metadata": {
    "papermill": {
     "duration": 0.015431,
     "end_time": "2025-01-28T03:14:49.808040",
     "exception": false,
     "start_time": "2025-01-28T03:14:49.792609",
     "status": "completed"
    },
    "tags": []
   },
   "source": [
    "### Datetime index "
   ]
  },
  {
   "cell_type": "code",
   "execution_count": 10,
   "id": "e3fe8f74",
   "metadata": {
    "execution": {
     "iopub.execute_input": "2025-01-28T03:14:49.840614Z",
     "iopub.status.busy": "2025-01-28T03:14:49.840273Z",
     "iopub.status.idle": "2025-01-28T03:14:49.865401Z",
     "shell.execute_reply": "2025-01-28T03:14:49.864400Z"
    },
    "papermill": {
     "duration": 0.043252,
     "end_time": "2025-01-28T03:14:49.866919",
     "exception": false,
     "start_time": "2025-01-28T03:14:49.823667",
     "status": "completed"
    },
    "tags": []
   },
   "outputs": [
    {
     "data": {
      "text/html": [
       "<div>\n",
       "<style scoped>\n",
       "    .dataframe tbody tr th:only-of-type {\n",
       "        vertical-align: middle;\n",
       "    }\n",
       "\n",
       "    .dataframe tbody tr th {\n",
       "        vertical-align: top;\n",
       "    }\n",
       "\n",
       "    .dataframe thead th {\n",
       "        text-align: right;\n",
       "    }\n",
       "</style>\n",
       "<table border=\"1\" class=\"dataframe\">\n",
       "  <thead>\n",
       "    <tr style=\"text-align: right;\">\n",
       "      <th></th>\n",
       "      <th>co</th>\n",
       "      <th>no2</th>\n",
       "      <th>o3</th>\n",
       "      <th>pm10</th>\n",
       "      <th>pm25</th>\n",
       "      <th>so2</th>\n",
       "      <th>humidity</th>\n",
       "      <th>pressure</th>\n",
       "      <th>temperature</th>\n",
       "      <th>wind-speed</th>\n",
       "      <th>Country_City</th>\n",
       "    </tr>\n",
       "    <tr>\n",
       "      <th>Date</th>\n",
       "      <th></th>\n",
       "      <th></th>\n",
       "      <th></th>\n",
       "      <th></th>\n",
       "      <th></th>\n",
       "      <th></th>\n",
       "      <th></th>\n",
       "      <th></th>\n",
       "      <th></th>\n",
       "      <th></th>\n",
       "      <th></th>\n",
       "    </tr>\n",
       "  </thead>\n",
       "  <tbody>\n",
       "    <tr>\n",
       "      <th>2019-05-09</th>\n",
       "      <td>NaN</td>\n",
       "      <td>NaN</td>\n",
       "      <td>NaN</td>\n",
       "      <td>NaN</td>\n",
       "      <td>196.0</td>\n",
       "      <td>NaN</td>\n",
       "      <td>20.0</td>\n",
       "      <td>1003.0</td>\n",
       "      <td>33.0</td>\n",
       "      <td>2.3</td>\n",
       "      <td>Pakistan_Lahore</td>\n",
       "    </tr>\n",
       "    <tr>\n",
       "      <th>2019-05-10</th>\n",
       "      <td>NaN</td>\n",
       "      <td>NaN</td>\n",
       "      <td>NaN</td>\n",
       "      <td>NaN</td>\n",
       "      <td>159.0</td>\n",
       "      <td>NaN</td>\n",
       "      <td>28.0</td>\n",
       "      <td>1004.0</td>\n",
       "      <td>32.0</td>\n",
       "      <td>3.6</td>\n",
       "      <td>Pakistan_Lahore</td>\n",
       "    </tr>\n",
       "    <tr>\n",
       "      <th>2019-05-11</th>\n",
       "      <td>NaN</td>\n",
       "      <td>NaN</td>\n",
       "      <td>NaN</td>\n",
       "      <td>NaN</td>\n",
       "      <td>197.0</td>\n",
       "      <td>NaN</td>\n",
       "      <td>43.0</td>\n",
       "      <td>1007.0</td>\n",
       "      <td>29.0</td>\n",
       "      <td>3.0</td>\n",
       "      <td>Pakistan_Lahore</td>\n",
       "    </tr>\n",
       "    <tr>\n",
       "      <th>2019-05-12</th>\n",
       "      <td>NaN</td>\n",
       "      <td>NaN</td>\n",
       "      <td>NaN</td>\n",
       "      <td>NaN</td>\n",
       "      <td>176.0</td>\n",
       "      <td>NaN</td>\n",
       "      <td>37.0</td>\n",
       "      <td>1006.0</td>\n",
       "      <td>31.0</td>\n",
       "      <td>2.5</td>\n",
       "      <td>Pakistan_Lahore</td>\n",
       "    </tr>\n",
       "    <tr>\n",
       "      <th>2019-05-13</th>\n",
       "      <td>NaN</td>\n",
       "      <td>NaN</td>\n",
       "      <td>NaN</td>\n",
       "      <td>NaN</td>\n",
       "      <td>171.0</td>\n",
       "      <td>NaN</td>\n",
       "      <td>51.0</td>\n",
       "      <td>1005.0</td>\n",
       "      <td>28.0</td>\n",
       "      <td>2.5</td>\n",
       "      <td>Pakistan_Lahore</td>\n",
       "    </tr>\n",
       "  </tbody>\n",
       "</table>\n",
       "</div>"
      ],
      "text/plain": [
       "            co  no2  o3  pm10   pm25  so2  humidity  pressure  temperature  \\\n",
       "Date                                                                         \n",
       "2019-05-09 NaN  NaN NaN   NaN  196.0  NaN      20.0    1003.0         33.0   \n",
       "2019-05-10 NaN  NaN NaN   NaN  159.0  NaN      28.0    1004.0         32.0   \n",
       "2019-05-11 NaN  NaN NaN   NaN  197.0  NaN      43.0    1007.0         29.0   \n",
       "2019-05-12 NaN  NaN NaN   NaN  176.0  NaN      37.0    1006.0         31.0   \n",
       "2019-05-13 NaN  NaN NaN   NaN  171.0  NaN      51.0    1005.0         28.0   \n",
       "\n",
       "            wind-speed     Country_City  \n",
       "Date                                     \n",
       "2019-05-09         2.3  Pakistan_Lahore  \n",
       "2019-05-10         3.6  Pakistan_Lahore  \n",
       "2019-05-11         3.0  Pakistan_Lahore  \n",
       "2019-05-12         2.5  Pakistan_Lahore  \n",
       "2019-05-13         2.5  Pakistan_Lahore  "
      ]
     },
     "execution_count": 10,
     "metadata": {},
     "output_type": "execute_result"
    }
   ],
   "source": [
    "# Use the functions\n",
    "new_data1 = fn.prepare_datetime_index(new_data, date_column='Date')\n",
    "new_data1.head()"
   ]
  },
  {
   "cell_type": "code",
   "execution_count": 11,
   "id": "aba0c94a",
   "metadata": {
    "execution": {
     "iopub.execute_input": "2025-01-28T03:14:49.899782Z",
     "iopub.status.busy": "2025-01-28T03:14:49.899437Z",
     "iopub.status.idle": "2025-01-28T03:14:49.905334Z",
     "shell.execute_reply": "2025-01-28T03:14:49.904492Z"
    },
    "papermill": {
     "duration": 0.024191,
     "end_time": "2025-01-28T03:14:49.906913",
     "exception": false,
     "start_time": "2025-01-28T03:14:49.882722",
     "status": "completed"
    },
    "tags": []
   },
   "outputs": [
    {
     "data": {
      "text/plain": [
       "Index(['co', 'no2', 'o3', 'pm10', 'pm25', 'so2', 'humidity', 'pressure',\n",
       "       'temperature', 'wind-speed', 'Country_City'],\n",
       "      dtype='object')"
      ]
     },
     "execution_count": 11,
     "metadata": {},
     "output_type": "execute_result"
    }
   ],
   "source": [
    "new_data1.columns"
   ]
  },
  {
   "cell_type": "code",
   "execution_count": 12,
   "id": "174d5ca8",
   "metadata": {
    "execution": {
     "iopub.execute_input": "2025-01-28T03:14:49.942115Z",
     "iopub.status.busy": "2025-01-28T03:14:49.941721Z",
     "iopub.status.idle": "2025-01-28T03:14:49.946865Z",
     "shell.execute_reply": "2025-01-28T03:14:49.945922Z"
    },
    "papermill": {
     "duration": 0.025047,
     "end_time": "2025-01-28T03:14:49.948455",
     "exception": false,
     "start_time": "2025-01-28T03:14:49.923408",
     "status": "completed"
    },
    "tags": []
   },
   "outputs": [],
   "source": [
    "# Drop collumns which have large quantity of missing value and of no use\n",
    "new_data2 = new_data1.drop(['co', 'no2', 'o3', 'pm10', 'so2', 'Country_City'], axis= 1)"
   ]
  },
  {
   "cell_type": "code",
   "execution_count": 13,
   "id": "d10c3fad",
   "metadata": {
    "execution": {
     "iopub.execute_input": "2025-01-28T03:14:49.981581Z",
     "iopub.status.busy": "2025-01-28T03:14:49.981215Z",
     "iopub.status.idle": "2025-01-28T03:14:49.988166Z",
     "shell.execute_reply": "2025-01-28T03:14:49.987213Z"
    },
    "papermill": {
     "duration": 0.025233,
     "end_time": "2025-01-28T03:14:49.989755",
     "exception": false,
     "start_time": "2025-01-28T03:14:49.964522",
     "status": "completed"
    },
    "tags": []
   },
   "outputs": [
    {
     "data": {
      "text/plain": [
       "pm25             0\n",
       "humidity        24\n",
       "pressure        24\n",
       "temperature     24\n",
       "wind-speed     118\n",
       "dtype: int64"
      ]
     },
     "execution_count": 13,
     "metadata": {},
     "output_type": "execute_result"
    }
   ],
   "source": [
    "new_data2.isna().sum()"
   ]
  },
  {
   "cell_type": "markdown",
   "id": "6836f49e",
   "metadata": {
    "papermill": {
     "duration": 0.015482,
     "end_time": "2025-01-28T03:14:50.021302",
     "exception": false,
     "start_time": "2025-01-28T03:14:50.005820",
     "status": "completed"
    },
    "tags": []
   },
   "source": [
    "### Imputing "
   ]
  },
  {
   "cell_type": "code",
   "execution_count": 14,
   "id": "a51de38e",
   "metadata": {
    "execution": {
     "iopub.execute_input": "2025-01-28T03:14:50.054201Z",
     "iopub.status.busy": "2025-01-28T03:14:50.053827Z",
     "iopub.status.idle": "2025-01-28T03:14:50.064202Z",
     "shell.execute_reply": "2025-01-28T03:14:50.063181Z"
    },
    "papermill": {
     "duration": 0.028752,
     "end_time": "2025-01-28T03:14:50.065911",
     "exception": false,
     "start_time": "2025-01-28T03:14:50.037159",
     "status": "completed"
    },
    "tags": []
   },
   "outputs": [],
   "source": [
    "# Fill the missing value \n",
    "\n",
    "imputer = SimpleImputer(strategy=\"mean\")\n",
    "\n",
    "# Select the columns\n",
    "columns_to_impute = ['humidity', 'pressure', 'temperature', 'wind-speed']\n",
    "\n",
    "new_data2[columns_to_impute] = imputer.fit_transform(new_data2[columns_to_impute])"
   ]
  },
  {
   "cell_type": "code",
   "execution_count": 15,
   "id": "a2517971",
   "metadata": {
    "execution": {
     "iopub.execute_input": "2025-01-28T03:14:50.099156Z",
     "iopub.status.busy": "2025-01-28T03:14:50.098772Z",
     "iopub.status.idle": "2025-01-28T03:14:50.106121Z",
     "shell.execute_reply": "2025-01-28T03:14:50.105234Z"
    },
    "papermill": {
     "duration": 0.025593,
     "end_time": "2025-01-28T03:14:50.107532",
     "exception": false,
     "start_time": "2025-01-28T03:14:50.081939",
     "status": "completed"
    },
    "tags": []
   },
   "outputs": [
    {
     "data": {
      "text/plain": [
       "pm25           0\n",
       "humidity       0\n",
       "pressure       0\n",
       "temperature    0\n",
       "wind-speed     0\n",
       "dtype: int64"
      ]
     },
     "execution_count": 15,
     "metadata": {},
     "output_type": "execute_result"
    }
   ],
   "source": [
    "new_data2.isna().sum()"
   ]
  },
  {
   "cell_type": "markdown",
   "id": "ad469d65",
   "metadata": {
    "papermill": {
     "duration": 0.01565,
     "end_time": "2025-01-28T03:14:50.139396",
     "exception": false,
     "start_time": "2025-01-28T03:14:50.123746",
     "status": "completed"
    },
    "tags": []
   },
   "source": [
    "### Missing Dates"
   ]
  },
  {
   "cell_type": "code",
   "execution_count": 16,
   "id": "5b9d715a",
   "metadata": {
    "execution": {
     "iopub.execute_input": "2025-01-28T03:14:50.228097Z",
     "iopub.status.busy": "2025-01-28T03:14:50.227685Z",
     "iopub.status.idle": "2025-01-28T03:14:50.242731Z",
     "shell.execute_reply": "2025-01-28T03:14:50.241480Z"
    },
    "papermill": {
     "duration": 0.0891,
     "end_time": "2025-01-28T03:14:50.244450",
     "exception": false,
     "start_time": "2025-01-28T03:14:50.155350",
     "status": "completed"
    },
    "tags": []
   },
   "outputs": [
    {
     "name": "stdout",
     "output_type": "stream",
     "text": [
      "Missing Dates:\n",
      "DatetimeIndex(['2019-10-05', '2019-10-06', '2020-05-03', '2020-07-05',\n",
      "               '2021-03-31', '2021-05-15', '2021-05-16', '2021-06-26',\n",
      "               '2021-06-28', '2021-06-29',\n",
      "               ...\n",
      "               '2024-06-20', '2024-06-21', '2024-06-22', '2024-06-23',\n",
      "               '2024-06-24', '2024-06-25', '2024-06-26', '2024-06-27',\n",
      "               '2024-06-28', '2024-06-29'],\n",
      "              dtype='datetime64[ns]', length=504, freq=None)\n"
     ]
    }
   ],
   "source": [
    "# Create a complete range of dates\n",
    "full_range = pd.date_range(start=new_data2.index.min(), end=new_data2.index.max())\n",
    "\n",
    "# Find missing dates\n",
    "missing_dates = full_range.difference(new_data2.index)\n",
    "print(\"Missing Dates:\")\n",
    "print(missing_dates)"
   ]
  },
  {
   "cell_type": "code",
   "execution_count": 17,
   "id": "4987df0d",
   "metadata": {
    "execution": {
     "iopub.execute_input": "2025-01-28T03:14:50.278234Z",
     "iopub.status.busy": "2025-01-28T03:14:50.277895Z",
     "iopub.status.idle": "2025-01-28T03:14:50.285770Z",
     "shell.execute_reply": "2025-01-28T03:14:50.284808Z"
    },
    "papermill": {
     "duration": 0.026513,
     "end_time": "2025-01-28T03:14:50.287428",
     "exception": false,
     "start_time": "2025-01-28T03:14:50.260915",
     "status": "completed"
    },
    "tags": []
   },
   "outputs": [],
   "source": [
    "new_data3 = fn.impute_missing_dates(new_data2)"
   ]
  },
  {
   "cell_type": "code",
   "execution_count": 18,
   "id": "907218c0",
   "metadata": {
    "execution": {
     "iopub.execute_input": "2025-01-28T03:14:50.320966Z",
     "iopub.status.busy": "2025-01-28T03:14:50.320577Z",
     "iopub.status.idle": "2025-01-28T03:14:50.328648Z",
     "shell.execute_reply": "2025-01-28T03:14:50.327604Z"
    },
    "papermill": {
     "duration": 0.026595,
     "end_time": "2025-01-28T03:14:50.330271",
     "exception": false,
     "start_time": "2025-01-28T03:14:50.303676",
     "status": "completed"
    },
    "tags": []
   },
   "outputs": [
    {
     "name": "stdout",
     "output_type": "stream",
     "text": [
      "Missing Dates:\n",
      "DatetimeIndex([], dtype='datetime64[ns]', freq='D')\n"
     ]
    }
   ],
   "source": [
    "# Create a complete range of dates\n",
    "full_range = pd.date_range(start=new_data3.index.min(), end=new_data3.index.max())\n",
    "\n",
    "# Find missing dates\n",
    "missing_dates = full_range.difference(new_data3.index)\n",
    "print(\"Missing Dates:\")\n",
    "print(missing_dates)"
   ]
  },
  {
   "cell_type": "code",
   "execution_count": 19,
   "id": "a9495141",
   "metadata": {
    "execution": {
     "iopub.execute_input": "2025-01-28T03:14:50.364619Z",
     "iopub.status.busy": "2025-01-28T03:14:50.364262Z",
     "iopub.status.idle": "2025-01-28T03:14:50.369860Z",
     "shell.execute_reply": "2025-01-28T03:14:50.368858Z"
    },
    "papermill": {
     "duration": 0.024231,
     "end_time": "2025-01-28T03:14:50.371474",
     "exception": false,
     "start_time": "2025-01-28T03:14:50.347243",
     "status": "completed"
    },
    "tags": []
   },
   "outputs": [
    {
     "name": "stdout",
     "output_type": "stream",
     "text": [
      "Duplicate indexes: DatetimeIndex([], dtype='datetime64[ns]', freq='D')\n"
     ]
    }
   ],
   "source": [
    "duplicates = new_data3.index[new_data3.index.duplicated()]\n",
    "print(f\"Duplicate indexes: {duplicates}\")"
   ]
  },
  {
   "cell_type": "markdown",
   "id": "5b2a68cd",
   "metadata": {
    "papermill": {
     "duration": 0.015893,
     "end_time": "2025-01-28T03:14:50.403875",
     "exception": false,
     "start_time": "2025-01-28T03:14:50.387982",
     "status": "completed"
    },
    "tags": []
   },
   "source": [
    "### AQI Count"
   ]
  },
  {
   "cell_type": "code",
   "execution_count": 20,
   "id": "6b6a8f0f",
   "metadata": {
    "execution": {
     "iopub.execute_input": "2025-01-28T03:14:50.437742Z",
     "iopub.status.busy": "2025-01-28T03:14:50.437405Z",
     "iopub.status.idle": "2025-01-28T03:14:50.445104Z",
     "shell.execute_reply": "2025-01-28T03:14:50.444248Z"
    },
    "papermill": {
     "duration": 0.026712,
     "end_time": "2025-01-28T03:14:50.446685",
     "exception": false,
     "start_time": "2025-01-28T03:14:50.419973",
     "status": "completed"
    },
    "tags": []
   },
   "outputs": [],
   "source": [
    "new_data4 = fn.calculate_aqi(new_data3)"
   ]
  },
  {
   "cell_type": "code",
   "execution_count": 21,
   "id": "6bcfac18",
   "metadata": {
    "execution": {
     "iopub.execute_input": "2025-01-28T03:14:50.480890Z",
     "iopub.status.busy": "2025-01-28T03:14:50.480450Z",
     "iopub.status.idle": "2025-01-28T03:14:50.494080Z",
     "shell.execute_reply": "2025-01-28T03:14:50.493000Z"
    },
    "papermill": {
     "duration": 0.032755,
     "end_time": "2025-01-28T03:14:50.495935",
     "exception": false,
     "start_time": "2025-01-28T03:14:50.463180",
     "status": "completed"
    },
    "tags": []
   },
   "outputs": [
    {
     "data": {
      "text/html": [
       "<div>\n",
       "<style scoped>\n",
       "    .dataframe tbody tr th:only-of-type {\n",
       "        vertical-align: middle;\n",
       "    }\n",
       "\n",
       "    .dataframe tbody tr th {\n",
       "        vertical-align: top;\n",
       "    }\n",
       "\n",
       "    .dataframe thead th {\n",
       "        text-align: right;\n",
       "    }\n",
       "</style>\n",
       "<table border=\"1\" class=\"dataframe\">\n",
       "  <thead>\n",
       "    <tr style=\"text-align: right;\">\n",
       "      <th></th>\n",
       "      <th>pm25</th>\n",
       "      <th>humidity</th>\n",
       "      <th>pressure</th>\n",
       "      <th>temperature</th>\n",
       "      <th>wind-speed</th>\n",
       "      <th>AQI</th>\n",
       "    </tr>\n",
       "  </thead>\n",
       "  <tbody>\n",
       "    <tr>\n",
       "      <th>2019-05-09</th>\n",
       "      <td>196.0</td>\n",
       "      <td>20.0</td>\n",
       "      <td>1003.0</td>\n",
       "      <td>33.0</td>\n",
       "      <td>2.3</td>\n",
       "      <td>196.0</td>\n",
       "    </tr>\n",
       "    <tr>\n",
       "      <th>2019-05-10</th>\n",
       "      <td>159.0</td>\n",
       "      <td>28.0</td>\n",
       "      <td>1004.0</td>\n",
       "      <td>32.0</td>\n",
       "      <td>3.6</td>\n",
       "      <td>159.0</td>\n",
       "    </tr>\n",
       "    <tr>\n",
       "      <th>2019-05-11</th>\n",
       "      <td>197.0</td>\n",
       "      <td>43.0</td>\n",
       "      <td>1007.0</td>\n",
       "      <td>29.0</td>\n",
       "      <td>3.0</td>\n",
       "      <td>197.0</td>\n",
       "    </tr>\n",
       "    <tr>\n",
       "      <th>2019-05-12</th>\n",
       "      <td>176.0</td>\n",
       "      <td>37.0</td>\n",
       "      <td>1006.0</td>\n",
       "      <td>31.0</td>\n",
       "      <td>2.5</td>\n",
       "      <td>176.0</td>\n",
       "    </tr>\n",
       "    <tr>\n",
       "      <th>2019-05-13</th>\n",
       "      <td>171.0</td>\n",
       "      <td>51.0</td>\n",
       "      <td>1005.0</td>\n",
       "      <td>28.0</td>\n",
       "      <td>2.5</td>\n",
       "      <td>171.0</td>\n",
       "    </tr>\n",
       "  </tbody>\n",
       "</table>\n",
       "</div>"
      ],
      "text/plain": [
       "             pm25  humidity  pressure  temperature  wind-speed    AQI\n",
       "2019-05-09  196.0      20.0    1003.0         33.0         2.3  196.0\n",
       "2019-05-10  159.0      28.0    1004.0         32.0         3.6  159.0\n",
       "2019-05-11  197.0      43.0    1007.0         29.0         3.0  197.0\n",
       "2019-05-12  176.0      37.0    1006.0         31.0         2.5  176.0\n",
       "2019-05-13  171.0      51.0    1005.0         28.0         2.5  171.0"
      ]
     },
     "execution_count": 21,
     "metadata": {},
     "output_type": "execute_result"
    }
   ],
   "source": [
    "new_data4.head()"
   ]
  },
  {
   "cell_type": "markdown",
   "id": "5b4bf2a7",
   "metadata": {
    "papermill": {
     "duration": 0.016328,
     "end_time": "2025-01-28T03:14:50.528905",
     "exception": false,
     "start_time": "2025-01-28T03:14:50.512577",
     "status": "completed"
    },
    "tags": []
   },
   "source": [
    "# 1.3 - Plot & Heatmap"
   ]
  },
  {
   "cell_type": "code",
   "execution_count": 22,
   "id": "f51f1ec5",
   "metadata": {
    "execution": {
     "iopub.execute_input": "2025-01-28T03:14:50.563634Z",
     "iopub.status.busy": "2025-01-28T03:14:50.563212Z",
     "iopub.status.idle": "2025-01-28T03:14:51.197862Z",
     "shell.execute_reply": "2025-01-28T03:14:51.196859Z"
    },
    "papermill": {
     "duration": 0.653949,
     "end_time": "2025-01-28T03:14:51.199682",
     "exception": false,
     "start_time": "2025-01-28T03:14:50.545733",
     "status": "completed"
    },
    "tags": []
   },
   "outputs": [
    {
     "data": {
      "text/plain": [
       "<Axes: >"
      ]
     },
     "execution_count": 22,
     "metadata": {},
     "output_type": "execute_result"
    },
    {
     "data": {
      "image/png": "[encoded data removed]",
      "text/plain": [
       "<Figure size 640x480 with 1 Axes>"
      ]
     },
     "metadata": {},
     "output_type": "display_data"
    }
   ],
   "source": [
    "norm_aqi = new_data4['AQI']\n",
    "norm_aqi.plot()"
   ]
  },
  {
   "cell_type": "code",
   "execution_count": 23,
   "id": "0d849f01",
   "metadata": {
    "execution": {
     "iopub.execute_input": "2025-01-28T03:14:51.238954Z",
     "iopub.status.busy": "2025-01-28T03:14:51.238543Z",
     "iopub.status.idle": "2025-01-28T03:14:51.591012Z",
     "shell.execute_reply": "2025-01-28T03:14:51.589913Z"
    },
    "papermill": {
     "duration": 0.375169,
     "end_time": "2025-01-28T03:14:51.592877",
     "exception": false,
     "start_time": "2025-01-28T03:14:51.217708",
     "status": "completed"
    },
    "tags": []
   },
   "outputs": [
    {
     "data": {
      "image/png": "[encoded data removed]",
      "text/plain": [
       "<Figure size 1000x800 with 2 Axes>"
      ]
     },
     "metadata": {},
     "output_type": "display_data"
    }
   ],
   "source": [
    "# Calculate the correlation matrix for numeric columns\n",
    "corr = new_data4.corr(numeric_only=True)\n",
    "\n",
    "# Create a heatmap using the correlation matrix\n",
    "plt.figure(figsize=(10, 8))\n",
    "sns.heatmap(corr, annot=True, fmt=\".2f\", cmap=\"coolwarm\", cbar=True)\n",
    "plt.title(\"Heatmap of Correlation Matrix\")\n",
    "#file_name = \"correlation_matrix.png\"\n",
    "#path = \"/kaggle/working/\"\n",
    "#plt.savefig(path + file_name)\n",
    "plt.show()"
   ]
  },
  {
   "cell_type": "markdown",
   "id": "bb5569bd",
   "metadata": {
    "papermill": {
     "duration": 0.01845,
     "end_time": "2025-01-28T03:14:51.631095",
     "exception": false,
     "start_time": "2025-01-28T03:14:51.612645",
     "status": "completed"
    },
    "tags": []
   },
   "source": [
    "# 2. Machine Learning (without scaling)"
   ]
  },
  {
   "cell_type": "markdown",
   "id": "acf6e7a0",
   "metadata": {
    "papermill": {
     "duration": 0.018079,
     "end_time": "2025-01-28T03:14:51.667846",
     "exception": false,
     "start_time": "2025-01-28T03:14:51.649767",
     "status": "completed"
    },
    "tags": []
   },
   "source": [
    "## 2.1. Splitting & Preprocessing the Raw Data(Normal AQI)"
   ]
  },
  {
   "cell_type": "code",
   "execution_count": 24,
   "id": "28db5d42",
   "metadata": {
    "execution": {
     "iopub.execute_input": "2025-01-28T03:14:51.706299Z",
     "iopub.status.busy": "2025-01-28T03:14:51.705919Z",
     "iopub.status.idle": "2025-01-28T03:14:51.711830Z",
     "shell.execute_reply": "2025-01-28T03:14:51.710773Z"
    },
    "papermill": {
     "duration": 0.026929,
     "end_time": "2025-01-28T03:14:51.713412",
     "exception": false,
     "start_time": "2025-01-28T03:14:51.686483",
     "status": "completed"
    },
    "tags": []
   },
   "outputs": [
    {
     "data": {
      "text/plain": [
       "Index(['pm25', 'humidity', 'pressure', 'temperature', 'wind-speed', 'AQI'], dtype='object')"
      ]
     },
     "execution_count": 24,
     "metadata": {},
     "output_type": "execute_result"
    }
   ],
   "source": [
    "new_data4.columns"
   ]
  },
  {
   "cell_type": "code",
   "execution_count": 25,
   "id": "c95dad74",
   "metadata": {
    "execution": {
     "iopub.execute_input": "2025-01-28T03:14:51.752504Z",
     "iopub.status.busy": "2025-01-28T03:14:51.752145Z",
     "iopub.status.idle": "2025-01-28T03:14:51.757134Z",
     "shell.execute_reply": "2025-01-28T03:14:51.756210Z"
    },
    "papermill": {
     "duration": 0.026518,
     "end_time": "2025-01-28T03:14:51.758778",
     "exception": false,
     "start_time": "2025-01-28T03:14:51.732260",
     "status": "completed"
    },
    "tags": []
   },
   "outputs": [],
   "source": [
    "data = new_data4.copy()"
   ]
  },
  {
   "cell_type": "code",
   "execution_count": 26,
   "id": "7aaf7efc",
   "metadata": {
    "execution": {
     "iopub.execute_input": "2025-01-28T03:14:51.798462Z",
     "iopub.status.busy": "2025-01-28T03:14:51.798060Z",
     "iopub.status.idle": "2025-01-28T03:14:51.812568Z",
     "shell.execute_reply": "2025-01-28T03:14:51.811356Z"
    },
    "papermill": {
     "duration": 0.036547,
     "end_time": "2025-01-28T03:14:51.814519",
     "exception": false,
     "start_time": "2025-01-28T03:14:51.777972",
     "status": "completed"
    },
    "tags": []
   },
   "outputs": [
    {
     "data": {
      "text/html": [
       "<div>\n",
       "<style scoped>\n",
       "    .dataframe tbody tr th:only-of-type {\n",
       "        vertical-align: middle;\n",
       "    }\n",
       "\n",
       "    .dataframe tbody tr th {\n",
       "        vertical-align: top;\n",
       "    }\n",
       "\n",
       "    .dataframe thead th {\n",
       "        text-align: right;\n",
       "    }\n",
       "</style>\n",
       "<table border=\"1\" class=\"dataframe\">\n",
       "  <thead>\n",
       "    <tr style=\"text-align: right;\">\n",
       "      <th></th>\n",
       "      <th>pm25</th>\n",
       "      <th>humidity</th>\n",
       "      <th>pressure</th>\n",
       "      <th>temperature</th>\n",
       "      <th>wind-speed</th>\n",
       "      <th>AQI</th>\n",
       "    </tr>\n",
       "  </thead>\n",
       "  <tbody>\n",
       "    <tr>\n",
       "      <th>2019-05-09</th>\n",
       "      <td>196.0</td>\n",
       "      <td>20.0</td>\n",
       "      <td>1003.0</td>\n",
       "      <td>33.0</td>\n",
       "      <td>2.3</td>\n",
       "      <td>196.0</td>\n",
       "    </tr>\n",
       "    <tr>\n",
       "      <th>2019-05-10</th>\n",
       "      <td>159.0</td>\n",
       "      <td>28.0</td>\n",
       "      <td>1004.0</td>\n",
       "      <td>32.0</td>\n",
       "      <td>3.6</td>\n",
       "      <td>159.0</td>\n",
       "    </tr>\n",
       "    <tr>\n",
       "      <th>2019-05-11</th>\n",
       "      <td>197.0</td>\n",
       "      <td>43.0</td>\n",
       "      <td>1007.0</td>\n",
       "      <td>29.0</td>\n",
       "      <td>3.0</td>\n",
       "      <td>197.0</td>\n",
       "    </tr>\n",
       "    <tr>\n",
       "      <th>2019-05-12</th>\n",
       "      <td>176.0</td>\n",
       "      <td>37.0</td>\n",
       "      <td>1006.0</td>\n",
       "      <td>31.0</td>\n",
       "      <td>2.5</td>\n",
       "      <td>176.0</td>\n",
       "    </tr>\n",
       "    <tr>\n",
       "      <th>2019-05-13</th>\n",
       "      <td>171.0</td>\n",
       "      <td>51.0</td>\n",
       "      <td>1005.0</td>\n",
       "      <td>28.0</td>\n",
       "      <td>2.5</td>\n",
       "      <td>171.0</td>\n",
       "    </tr>\n",
       "  </tbody>\n",
       "</table>\n",
       "</div>"
      ],
      "text/plain": [
       "             pm25  humidity  pressure  temperature  wind-speed    AQI\n",
       "2019-05-09  196.0      20.0    1003.0         33.0         2.3  196.0\n",
       "2019-05-10  159.0      28.0    1004.0         32.0         3.6  159.0\n",
       "2019-05-11  197.0      43.0    1007.0         29.0         3.0  197.0\n",
       "2019-05-12  176.0      37.0    1006.0         31.0         2.5  176.0\n",
       "2019-05-13  171.0      51.0    1005.0         28.0         2.5  171.0"
      ]
     },
     "execution_count": 26,
     "metadata": {},
     "output_type": "execute_result"
    }
   ],
   "source": [
    "data.head()"
   ]
  },
  {
   "cell_type": "code",
   "execution_count": 27,
   "id": "fee2eb23",
   "metadata": {
    "execution": {
     "iopub.execute_input": "2025-01-28T03:14:51.854485Z",
     "iopub.status.busy": "2025-01-28T03:14:51.854102Z",
     "iopub.status.idle": "2025-01-28T03:14:51.861681Z",
     "shell.execute_reply": "2025-01-28T03:14:51.860391Z"
    },
    "papermill": {
     "duration": 0.029809,
     "end_time": "2025-01-28T03:14:51.863540",
     "exception": false,
     "start_time": "2025-01-28T03:14:51.833731",
     "status": "completed"
    },
    "tags": []
   },
   "outputs": [
    {
     "name": "stdout",
     "output_type": "stream",
     "text": [
      "Index(['pm25', 'humidity', 'pressure', 'temperature', 'wind-speed', 'AQI'], dtype='object')\n",
      "Index([], dtype='object')\n"
     ]
    }
   ],
   "source": [
    "num = data.select_dtypes(include=['int16', 'int32', 'int64', 'float16', 'float32', 'float64'])\n",
    "cat = data.select_dtypes(include=['object'])\n",
    "\n",
    "print(num.columns)\n",
    "print(cat.columns)"
   ]
  },
  {
   "cell_type": "code",
   "execution_count": 28,
   "id": "130c859e",
   "metadata": {
    "execution": {
     "iopub.execute_input": "2025-01-28T03:14:51.903514Z",
     "iopub.status.busy": "2025-01-28T03:14:51.903134Z",
     "iopub.status.idle": "2025-01-28T03:14:51.914679Z",
     "shell.execute_reply": "2025-01-28T03:14:51.913257Z"
    },
    "papermill": {
     "duration": 0.034011,
     "end_time": "2025-01-28T03:14:51.916843",
     "exception": false,
     "start_time": "2025-01-28T03:14:51.882832",
     "status": "completed"
    },
    "tags": []
   },
   "outputs": [
    {
     "name": "stdout",
     "output_type": "stream",
     "text": [
      "(1658, 5) (1658,) (415, 5) (415,)\n"
     ]
    }
   ],
   "source": [
    "X = data[['pm25', 'humidity', 'pressure', 'temperature', 'wind-speed']]\n",
    "\n",
    "y = data['AQI']\n",
    "\n",
    "X_train, X_test, y_train, y_test = train_test_split(X, y, test_size = 0.2, random_state = 42)\n",
    "\n",
    "print(X_train.shape, y_train.shape, X_test.shape, y_test.shape)"
   ]
  },
  {
   "cell_type": "code",
   "execution_count": 29,
   "id": "6c7c5d9e",
   "metadata": {
    "execution": {
     "iopub.execute_input": "2025-01-28T03:14:51.966944Z",
     "iopub.status.busy": "2025-01-28T03:14:51.966383Z",
     "iopub.status.idle": "2025-01-28T03:14:51.972396Z",
     "shell.execute_reply": "2025-01-28T03:14:51.971314Z"
    },
    "papermill": {
     "duration": 0.032125,
     "end_time": "2025-01-28T03:14:51.974160",
     "exception": false,
     "start_time": "2025-01-28T03:14:51.942035",
     "status": "completed"
    },
    "tags": []
   },
   "outputs": [],
   "source": [
    "# Preprocessor without scaling\n",
    "preprocessor = ColumnTransformer(\n",
    "    transformers=[\n",
    "        ('num', 'passthrough', ['pm25', 'humidity', 'pressure', 'temperature', 'wind-speed'])\n",
    "    ])\n",
    "# Pipeline\n",
    "pipeline = Pipeline(steps=[\n",
    "    ('preprocessor', preprocessor)\n",
    "])"
   ]
  },
  {
   "cell_type": "markdown",
   "id": "7950be20",
   "metadata": {
    "papermill": {
     "duration": 0.018955,
     "end_time": "2025-01-28T03:14:52.012627",
     "exception": false,
     "start_time": "2025-01-28T03:14:51.993672",
     "status": "completed"
    },
    "tags": []
   },
   "source": [
    "## 2.2. ML Model"
   ]
  },
  {
   "cell_type": "code",
   "execution_count": 30,
   "id": "a03679e6",
   "metadata": {
    "execution": {
     "iopub.execute_input": "2025-01-28T03:14:52.063139Z",
     "iopub.status.busy": "2025-01-28T03:14:52.062557Z",
     "iopub.status.idle": "2025-01-28T03:14:52.078105Z",
     "shell.execute_reply": "2025-01-28T03:14:52.076880Z"
    },
    "papermill": {
     "duration": 0.041276,
     "end_time": "2025-01-28T03:14:52.080377",
     "exception": false,
     "start_time": "2025-01-28T03:14:52.039101",
     "status": "completed"
    },
    "tags": []
   },
   "outputs": [],
   "source": [
    "def compare_and_save_models(X_train, X_test, y_train, y_test, preprocessor, metric='mse', save_dir='models'):\n",
    "    \n",
    "    \n",
    "    # Initialize models\n",
    "    models = {\n",
    "        'knn': KNeighborsRegressor(n_neighbors=2),\n",
    "        'random_forest': RandomForestRegressor(),\n",
    "        'xgboost': XGBRegressor(objective='reg:squarederror'),\n",
    "        'svr' : SVR(kernel='linear'),\n",
    "        'neural_network': MLPRegressor(hidden_layer_sizes=(8,), activation='relu', \n",
    "                                     solver='adam', max_iter=2000, \n",
    "                                     learning_rate_init=0.0005)\n",
    "    }\n",
    "    \n",
    "    # Dictionary to store results\n",
    "    results = {}\n",
    "    \n",
    "    # Create save directory if it doesn't exist\n",
    "    if not os.path.exists(save_dir):\n",
    "        os.makedirs(save_dir)\n",
    "    \n",
    "    # Train and evaluate each model\n",
    "    for name, model in models.items():\n",
    "        # Create pipeline\n",
    "        pipeline = Pipeline(steps=[('preprocessor', preprocessor), \n",
    "                                 ('regressor', model)])\n",
    "        \n",
    "        # Train model\n",
    "        pipeline.fit(X_train, y_train)\n",
    "        \n",
    "        # Make predictions\n",
    "        y_pred_train = pipeline.predict(X_train)\n",
    "        y_pred_test = pipeline.predict(X_test)\n",
    "        \n",
    "        # Calculate metrics\n",
    "        metrics = {\n",
    "            'r2_train': r2_score(y_train, y_pred_train),\n",
    "            'r2_test': r2_score(y_test, y_pred_test),\n",
    "            'rmse_train': sqrt(mean_squared_error(y_train, y_pred_train)),\n",
    "            'rmse_test': sqrt(mean_squared_error(y_test, y_pred_test)),\n",
    "            'mae_train': mean_absolute_error(y_train, y_pred_train),\n",
    "            'mae_test': mean_absolute_error(y_test, y_pred_test),\n",
    "            'mse_train': mean_squared_error(y_train, y_pred_train),\n",
    "            'mse_test': mean_squared_error(y_test, y_pred_test)\n",
    "        }\n",
    "        \n",
    "        results[name] = {\n",
    "            'pipeline': pipeline,\n",
    "            'metrics': metrics\n",
    "        }\n",
    "    \n",
    "    # Determine best model based on specified metric\n",
    "    metric_map = {\n",
    "        'r2': 'r2_test',\n",
    "        'rmse': 'rmse_test',\n",
    "        'mae': 'mae_test',\n",
    "        'mse': 'mse_test'\n",
    "    }\n",
    "    \n",
    "    comparison_metric = metric_map[metric]\n",
    "    \n",
    "    if metric == 'r2':  # Only R² should use max, all others should use min\n",
    "        best_model = max(results.items(), \n",
    "                        key=lambda x: x[1]['metrics'][comparison_metric])\n",
    "    else:  # For MSE, RMSE, MAE - lower is better\n",
    "        best_model = min(results.items(), \n",
    "                        key=lambda x: x[1]['metrics'][comparison_metric])\n",
    "    \n",
    "    # Save the best model\n",
    "    timestamp = datetime.now().strftime(\"%Y%m%d_%H%M%S\")\n",
    "    model_path = os.path.join(save_dir, \n",
    "                             f'best_model_{best_model[0]}_{timestamp}.joblib')\n",
    "    joblib.dump(best_model[1]['pipeline'], model_path)\n",
    "    \n",
    "    # Prepare return dictionary\n",
    "    return_dict = {\n",
    "        'best_model': best_model[0],\n",
    "        'best_model_path': model_path,\n",
    "        'model_performances': {name: results[name]['metrics'] \n",
    "                             for name in results.keys()}\n",
    "    }\n",
    "    \n",
    "    return return_dict"
   ]
  },
  {
   "cell_type": "code",
   "execution_count": 31,
   "id": "7dabaac1",
   "metadata": {
    "execution": {
     "iopub.execute_input": "2025-01-28T03:14:52.129573Z",
     "iopub.status.busy": "2025-01-28T03:14:52.129229Z",
     "iopub.status.idle": "2025-01-28T03:14:54.689926Z",
     "shell.execute_reply": "2025-01-28T03:14:54.689020Z"
    },
    "papermill": {
     "duration": 2.587972,
     "end_time": "2025-01-28T03:14:54.691699",
     "exception": false,
     "start_time": "2025-01-28T03:14:52.103727",
     "status": "completed"
    },
    "tags": []
   },
   "outputs": [],
   "source": [
    "# Get the results first\n",
    "results = compare_and_save_models(\n",
    "    X_train, X_test, y_train, y_test,\n",
    "    preprocessor,\n",
    "    metric='mse',\n",
    "    save_dir='models'\n",
    ")"
   ]
  },
  {
   "cell_type": "code",
   "execution_count": 32,
   "id": "929eceaa",
   "metadata": {
    "execution": {
     "iopub.execute_input": "2025-01-28T03:14:54.731377Z",
     "iopub.status.busy": "2025-01-28T03:14:54.730993Z",
     "iopub.status.idle": "2025-01-28T03:14:54.746512Z",
     "shell.execute_reply": "2025-01-28T03:14:54.744900Z"
    },
    "papermill": {
     "duration": 0.037512,
     "end_time": "2025-01-28T03:14:54.748439",
     "exception": false,
     "start_time": "2025-01-28T03:14:54.710927",
     "status": "completed"
    },
    "tags": []
   },
   "outputs": [
    {
     "name": "stdout",
     "output_type": "stream",
     "text": [
      "\n",
      "Detailed Model Performance Summary:\n",
      "--------------------------------------------------\n",
      "\n",
      "KNN Results:\n",
      "R² score (train): 0.9998\n",
      "R² score (test): 0.9990\n",
      "RMSE (train): 1.2491\n",
      "RMSE (test): 3.0459\n",
      "MAE (train): 0.7515\n",
      "MAE (test): 1.2976\n",
      "MSE (train): 1.5603\n",
      "MSE (test): 9.2777\n",
      "\n",
      "RANDOM_FOREST Results:\n",
      "R² score (train): 1.0000\n",
      "R² score (test): 0.9989\n",
      "RMSE (train): 0.3918\n",
      "RMSE (test): 3.0691\n",
      "MAE (train): 0.0753\n",
      "MAE (test): 0.3423\n",
      "MSE (train): 0.1535\n",
      "MSE (test): 9.4193\n",
      "\n",
      "XGBOOST Results:\n",
      "R² score (train): 1.0000\n",
      "R² score (test): 0.9982\n",
      "RMSE (train): 0.1387\n",
      "RMSE (test): 4.0416\n",
      "MAE (train): 0.0774\n",
      "MAE (test): 0.8002\n",
      "MSE (train): 0.0192\n",
      "MSE (test): 16.3346\n",
      "\n",
      "SVR Results:\n",
      "R² score (train): 1.0000\n",
      "R² score (test): 1.0000\n",
      "RMSE (train): 0.0467\n",
      "RMSE (test): 0.0481\n",
      "MAE (train): 0.0413\n",
      "MAE (test): 0.0425\n",
      "MSE (train): 0.0022\n",
      "MSE (test): 0.0023\n",
      "\n",
      "NEURAL_NETWORK Results:\n",
      "R² score (train): 1.0000\n",
      "R² score (test): 1.0000\n",
      "RMSE (train): 0.0933\n",
      "RMSE (test): 0.4563\n",
      "MAE (train): 0.0279\n",
      "MAE (test): 0.0499\n",
      "MSE (train): 0.0087\n",
      "MSE (test): 0.2082\n",
      "\n",
      "==================================================\n",
      "Best Model: svr\n",
      "Model saved at: models/best_model_svr_20250128_031454.joblib\n"
     ]
    }
   ],
   "source": [
    "# Print detailed results for all models\n",
    "print(\"\\nDetailed Model Performance Summary:\")\n",
    "print(\"-\" * 50)\n",
    "\n",
    "for model_name, performance in results['model_performances'].items():\n",
    "    print(f\"\\n{model_name.upper()} Results:\")\n",
    "    print(f\"R² score (train): {performance['r2_train']:.4f}\")\n",
    "    print(f\"R² score (test): {performance['r2_test']:.4f}\")\n",
    "    print(f\"RMSE (train): {performance['rmse_train']:.4f}\")\n",
    "    print(f\"RMSE (test): {performance['rmse_test']:.4f}\")\n",
    "    print(f\"MAE (train): {performance['mae_train']:.4f}\")\n",
    "    print(f\"MAE (test): {performance['mae_test']:.4f}\")\n",
    "    print(f\"MSE (train): {performance['mse_train']:.4f}\")\n",
    "    print(f\"MSE (test): {performance['mse_test']:.4f}\")\n",
    "\n",
    "print(\"\\n\" + \"=\" * 50)\n",
    "print(f\"Best Model: {results['best_model']}\")\n",
    "print(f\"Model saved at: {results['best_model_path']}\")"
   ]
  },
  {
   "cell_type": "code",
   "execution_count": null,
   "id": "d3f99c3f",
   "metadata": {
    "papermill": {
     "duration": 0.019006,
     "end_time": "2025-01-28T03:14:54.787002",
     "exception": false,
     "start_time": "2025-01-28T03:14:54.767996",
     "status": "completed"
    },
    "tags": []
   },
   "outputs": [],
   "source": []
  },
  {
   "cell_type": "markdown",
   "id": "fa9f2d77",
   "metadata": {
    "papermill": {
     "duration": 0.019053,
     "end_time": "2025-01-28T03:14:54.825435",
     "exception": false,
     "start_time": "2025-01-28T03:14:54.806382",
     "status": "completed"
    },
    "tags": []
   },
   "source": [
    "# 3 - Deep Learning Model(Without Scaling)"
   ]
  },
  {
   "cell_type": "markdown",
   "id": "c38962d7",
   "metadata": {
    "papermill": {
     "duration": 0.019009,
     "end_time": "2025-01-28T03:14:54.863779",
     "exception": false,
     "start_time": "2025-01-28T03:14:54.844770",
     "status": "completed"
    },
    "tags": []
   },
   "source": [
    "## 3.1. Splitting & Preprocessing the Raw Data(Normal AQI)"
   ]
  },
  {
   "cell_type": "code",
   "execution_count": 33,
   "id": "3aa0d6c2",
   "metadata": {
    "execution": {
     "iopub.execute_input": "2025-01-28T03:14:54.903968Z",
     "iopub.status.busy": "2025-01-28T03:14:54.903557Z",
     "iopub.status.idle": "2025-01-28T03:14:54.909020Z",
     "shell.execute_reply": "2025-01-28T03:14:54.907677Z"
    },
    "papermill": {
     "duration": 0.027432,
     "end_time": "2025-01-28T03:14:54.910702",
     "exception": false,
     "start_time": "2025-01-28T03:14:54.883270",
     "status": "completed"
    },
    "tags": []
   },
   "outputs": [],
   "source": [
    "aqi_normal = new_data4.copy()"
   ]
  },
  {
   "cell_type": "code",
   "execution_count": 34,
   "id": "71fb1c9b",
   "metadata": {
    "execution": {
     "iopub.execute_input": "2025-01-28T03:14:54.952132Z",
     "iopub.status.busy": "2025-01-28T03:14:54.951680Z",
     "iopub.status.idle": "2025-01-28T03:14:54.959107Z",
     "shell.execute_reply": "2025-01-28T03:14:54.958096Z"
    },
    "papermill": {
     "duration": 0.030455,
     "end_time": "2025-01-28T03:14:54.960867",
     "exception": false,
     "start_time": "2025-01-28T03:14:54.930412",
     "status": "completed"
    },
    "tags": []
   },
   "outputs": [],
   "source": [
    "def new_data_to_X_y(new_data, window_size, train_pct, val_pct, test_pct):\n",
    "    \n",
    "    new_data_as_np = new_data.to_numpy()\n",
    "    \n",
    "    # Split features and target\n",
    "    features = new_data_as_np[:, :-1]  # All columns except the last one\n",
    "    target = new_data_as_np[:, -1]     # Only the AQI column\n",
    "    \n",
    "    # Split data based on percentages\n",
    "    total_len = len(features)\n",
    "    train_end = int(train_pct * total_len)\n",
    "    val_end = train_end + int(val_pct * total_len)\n",
    "    \n",
    "    # Prepare train, val, and test splits for both features and target\n",
    "    train_features = features[:train_end]\n",
    "    train_target = target[:train_end]\n",
    "    \n",
    "    val_features = features[train_end:val_end]\n",
    "    val_target = target[train_end:val_end]\n",
    "    \n",
    "    test_features = features[val_end:]\n",
    "    test_target = target[val_end:]\n",
    "    \n",
    "    # Helper function to create X and y\n",
    "    def create_X_y(feature_data, target_data):\n",
    "        X, y = [], []\n",
    "        for i in range(len(feature_data) - window_size):\n",
    "            # Create sequence of all features\n",
    "            sequence = feature_data[i:i + window_size]\n",
    "            X.append(sequence)\n",
    "            # Get the target AQI value\n",
    "            y.append(target_data[i + window_size])\n",
    "        return np.array(X), np.array(y)\n",
    "    \n",
    "    \n",
    "    X_train, y_train = create_X_y(train_features, train_target)\n",
    "    X_val, y_val = create_X_y(val_features, val_target)\n",
    "    X_test, y_test = create_X_y(test_features, test_target)\n",
    "    \n",
    "    return (X_train, y_train), (X_val, y_val), (X_test, y_test)"
   ]
  },
  {
   "cell_type": "code",
   "execution_count": 35,
   "id": "00ef16cf",
   "metadata": {
    "execution": {
     "iopub.execute_input": "2025-01-28T03:14:55.000886Z",
     "iopub.status.busy": "2025-01-28T03:14:55.000457Z",
     "iopub.status.idle": "2025-01-28T03:14:55.008688Z",
     "shell.execute_reply": "2025-01-28T03:14:55.007702Z"
    },
    "papermill": {
     "duration": 0.030313,
     "end_time": "2025-01-28T03:14:55.010468",
     "exception": false,
     "start_time": "2025-01-28T03:14:54.980155",
     "status": "completed"
    },
    "tags": []
   },
   "outputs": [],
   "source": [
    "WINDOW_SIZE = 6\n",
    "NUM_FEATURES = 5\n",
    "train_pct = 0.8\n",
    "val_pct = 0.1\n",
    "test_pct = 0.1\n",
    "\n",
    "(X_train1, y_train1), (X_val1, y_val1), (X_test1, y_test1) = new_data_to_X_y(\n",
    "    aqi_normal, WINDOW_SIZE, train_pct, val_pct, test_pct\n",
    ")"
   ]
  },
  {
   "cell_type": "code",
   "execution_count": 36,
   "id": "2ab10f08",
   "metadata": {
    "execution": {
     "iopub.execute_input": "2025-01-28T03:14:55.050274Z",
     "iopub.status.busy": "2025-01-28T03:14:55.049925Z",
     "iopub.status.idle": "2025-01-28T03:14:55.055683Z",
     "shell.execute_reply": "2025-01-28T03:14:55.054383Z"
    },
    "papermill": {
     "duration": 0.027339,
     "end_time": "2025-01-28T03:14:55.057221",
     "exception": false,
     "start_time": "2025-01-28T03:14:55.029882",
     "status": "completed"
    },
    "tags": []
   },
   "outputs": [
    {
     "name": "stdout",
     "output_type": "stream",
     "text": [
      "Train shapes: (1652, 6, 5) (1652,)\n",
      "Validation shapes: (201, 6, 5) (201,)\n",
      "Test shapes: (202, 6, 5) (202,)\n"
     ]
    }
   ],
   "source": [
    "# shapes\n",
    "print(\"Train shapes:\", X_train1.shape, y_train1.shape)\n",
    "print(\"Validation shapes:\", X_val1.shape, y_val1.shape)\n",
    "print(\"Test shapes:\", X_test1.shape, y_test1.shape)"
   ]
  },
  {
   "cell_type": "markdown",
   "id": "4a618a8a",
   "metadata": {
    "papermill": {
     "duration": 0.01894,
     "end_time": "2025-01-28T03:14:55.095496",
     "exception": false,
     "start_time": "2025-01-28T03:14:55.076556",
     "status": "completed"
    },
    "tags": []
   },
   "source": [
    "##  3.2. DL Model"
   ]
  },
  {
   "cell_type": "code",
   "execution_count": 37,
   "id": "1b87eb31",
   "metadata": {
    "execution": {
     "iopub.execute_input": "2025-01-28T03:14:55.135389Z",
     "iopub.status.busy": "2025-01-28T03:14:55.134994Z",
     "iopub.status.idle": "2025-01-28T03:15:09.590478Z",
     "shell.execute_reply": "2025-01-28T03:15:09.589557Z"
    },
    "papermill": {
     "duration": 14.477728,
     "end_time": "2025-01-28T03:15:09.592364",
     "exception": false,
     "start_time": "2025-01-28T03:14:55.114636",
     "status": "completed"
    },
    "tags": []
   },
   "outputs": [],
   "source": [
    "import tensorflow as tf\n",
    "from tensorflow.keras.models import Sequential\n",
    "from tensorflow.keras.layers import *\n",
    "from tensorflow.keras.callbacks import ModelCheckpoint\n",
    "from tensorflow.keras.losses import MeanSquaredError, MeanAbsoluteError\n",
    "from tensorflow.keras.metrics import RootMeanSquaredError\n",
    "from tensorflow.keras.optimizers import Adam"
   ]
  },
  {
   "cell_type": "markdown",
   "id": "6072c8a4",
   "metadata": {
    "papermill": {
     "duration": 0.019194,
     "end_time": "2025-01-28T03:15:09.631113",
     "exception": false,
     "start_time": "2025-01-28T03:15:09.611919",
     "status": "completed"
    },
    "tags": []
   },
   "source": [
    "### LSTM(normal)"
   ]
  },
  {
   "cell_type": "code",
   "execution_count": 38,
   "id": "8130d0ba",
   "metadata": {
    "execution": {
     "iopub.execute_input": "2025-01-28T03:15:09.670910Z",
     "iopub.status.busy": "2025-01-28T03:15:09.670182Z",
     "iopub.status.idle": "2025-01-28T03:15:36.164895Z",
     "shell.execute_reply": "2025-01-28T03:15:36.163771Z"
    },
    "papermill": {
     "duration": 26.516486,
     "end_time": "2025-01-28T03:15:36.166704",
     "exception": false,
     "start_time": "2025-01-28T03:15:09.650218",
     "status": "completed"
    },
    "tags": []
   },
   "outputs": [
    {
     "name": "stdout",
     "output_type": "stream",
     "text": [
      "Epoch 1/100\n",
      "\u001b[1m52/52\u001b[0m \u001b[32m━━━━━━━━━━━━━━━━━━━━\u001b[0m\u001b[37m\u001b[0m \u001b[1m3s\u001b[0m 10ms/step - loss: 26060.1367 - root_mean_squared_error: 161.3384 - val_loss: 13651.7588 - val_root_mean_squared_error: 116.8407\n",
      "Epoch 2/100\n",
      "\u001b[1m52/52\u001b[0m \u001b[32m━━━━━━━━━━━━━━━━━━━━\u001b[0m\u001b[37m\u001b[0m \u001b[1m0s\u001b[0m 4ms/step - loss: 14295.9697 - root_mean_squared_error: 119.4932 - val_loss: 9060.1924 - val_root_mean_squared_error: 95.1850\n",
      "Epoch 3/100\n",
      "\u001b[1m52/52\u001b[0m \u001b[32m━━━━━━━━━━━━━━━━━━━━\u001b[0m\u001b[37m\u001b[0m \u001b[1m0s\u001b[0m 4ms/step - loss: 11064.1357 - root_mean_squared_error: 105.1446 - val_loss: 6860.1460 - val_root_mean_squared_error: 82.8260\n",
      "Epoch 4/100\n",
      "\u001b[1m52/52\u001b[0m \u001b[32m━━━━━━━━━━━━━━━━━━━━\u001b[0m\u001b[37m\u001b[0m \u001b[1m0s\u001b[0m 4ms/step - loss: 8780.2471 - root_mean_squared_error: 93.5487 - val_loss: 5470.7871 - val_root_mean_squared_error: 73.9648\n",
      "Epoch 5/100\n",
      "\u001b[1m52/52\u001b[0m \u001b[32m━━━━━━━━━━━━━━━━━━━━\u001b[0m\u001b[37m\u001b[0m \u001b[1m0s\u001b[0m 4ms/step - loss: 5851.7236 - root_mean_squared_error: 76.4231 - val_loss: 4418.6045 - val_root_mean_squared_error: 66.4726\n",
      "Epoch 6/100\n",
      "\u001b[1m52/52\u001b[0m \u001b[32m━━━━━━━━━━━━━━━━━━━━\u001b[0m\u001b[37m\u001b[0m \u001b[1m0s\u001b[0m 4ms/step - loss: 5753.3779 - root_mean_squared_error: 75.8084 - val_loss: 3558.9614 - val_root_mean_squared_error: 59.6570\n",
      "Epoch 7/100\n",
      "\u001b[1m52/52\u001b[0m \u001b[32m━━━━━━━━━━━━━━━━━━━━\u001b[0m\u001b[37m\u001b[0m \u001b[1m0s\u001b[0m 4ms/step - loss: 4490.2456 - root_mean_squared_error: 66.9518 - val_loss: 3388.7922 - val_root_mean_squared_error: 58.2133\n",
      "Epoch 8/100\n",
      "\u001b[1m52/52\u001b[0m \u001b[32m━━━━━━━━━━━━━━━━━━━━\u001b[0m\u001b[37m\u001b[0m \u001b[1m0s\u001b[0m 5ms/step - loss: 3745.5398 - root_mean_squared_error: 61.1551 - val_loss: 3146.2285 - val_root_mean_squared_error: 56.0913\n",
      "Epoch 9/100\n",
      "\u001b[1m52/52\u001b[0m \u001b[32m━━━━━━━━━━━━━━━━━━━━\u001b[0m\u001b[37m\u001b[0m \u001b[1m0s\u001b[0m 4ms/step - loss: 3919.7170 - root_mean_squared_error: 62.5882 - val_loss: 3038.4863 - val_root_mean_squared_error: 55.1225\n",
      "Epoch 10/100\n",
      "\u001b[1m52/52\u001b[0m \u001b[32m━━━━━━━━━━━━━━━━━━━━\u001b[0m\u001b[37m\u001b[0m \u001b[1m0s\u001b[0m 4ms/step - loss: 3168.5139 - root_mean_squared_error: 56.2763 - val_loss: 2761.5308 - val_root_mean_squared_error: 52.5503\n",
      "Epoch 11/100\n",
      "\u001b[1m52/52\u001b[0m \u001b[32m━━━━━━━━━━━━━━━━━━━━\u001b[0m\u001b[37m\u001b[0m \u001b[1m0s\u001b[0m 4ms/step - loss: 2907.7327 - root_mean_squared_error: 53.8456 - val_loss: 2660.0818 - val_root_mean_squared_error: 51.5760\n",
      "Epoch 12/100\n",
      "\u001b[1m52/52\u001b[0m \u001b[32m━━━━━━━━━━━━━━━━━━━━\u001b[0m\u001b[37m\u001b[0m \u001b[1m0s\u001b[0m 4ms/step - loss: 2791.8003 - root_mean_squared_error: 52.8011 - val_loss: 2650.3647 - val_root_mean_squared_error: 51.4817\n",
      "Epoch 13/100\n",
      "\u001b[1m52/52\u001b[0m \u001b[32m━━━━━━━━━━━━━━━━━━━━\u001b[0m\u001b[37m\u001b[0m \u001b[1m0s\u001b[0m 4ms/step - loss: 2841.3730 - root_mean_squared_error: 53.2718 - val_loss: 2786.3545 - val_root_mean_squared_error: 52.7859\n",
      "Epoch 14/100\n",
      "\u001b[1m52/52\u001b[0m \u001b[32m━━━━━━━━━━━━━━━━━━━━\u001b[0m\u001b[37m\u001b[0m \u001b[1m0s\u001b[0m 4ms/step - loss: 2540.1580 - root_mean_squared_error: 50.2725 - val_loss: 2549.7595 - val_root_mean_squared_error: 50.4951\n",
      "Epoch 15/100\n",
      "\u001b[1m52/52\u001b[0m \u001b[32m━━━━━━━━━━━━━━━━━━━━\u001b[0m\u001b[37m\u001b[0m \u001b[1m0s\u001b[0m 5ms/step - loss: 2508.2466 - root_mean_squared_error: 50.0192 - val_loss: 2237.3623 - val_root_mean_squared_error: 47.3008\n",
      "Epoch 16/100\n",
      "\u001b[1m52/52\u001b[0m \u001b[32m━━━━━━━━━━━━━━━━━━━━\u001b[0m\u001b[37m\u001b[0m \u001b[1m0s\u001b[0m 5ms/step - loss: 2925.4768 - root_mean_squared_error: 53.9424 - val_loss: 2709.0317 - val_root_mean_squared_error: 52.0484\n",
      "Epoch 17/100\n",
      "\u001b[1m52/52\u001b[0m \u001b[32m━━━━━━━━━━━━━━━━━━━━\u001b[0m\u001b[37m\u001b[0m \u001b[1m0s\u001b[0m 4ms/step - loss: 2760.8623 - root_mean_squared_error: 52.4507 - val_loss: 2260.6243 - val_root_mean_squared_error: 47.5460\n",
      "Epoch 18/100\n",
      "\u001b[1m52/52\u001b[0m \u001b[32m━━━━━━━━━━━━━━━━━━━━\u001b[0m\u001b[37m\u001b[0m \u001b[1m0s\u001b[0m 5ms/step - loss: 2376.0884 - root_mean_squared_error: 48.6983 - val_loss: 2161.4009 - val_root_mean_squared_error: 46.4909\n",
      "Epoch 19/100\n",
      "\u001b[1m52/52\u001b[0m \u001b[32m━━━━━━━━━━━━━━━━━━━━\u001b[0m\u001b[37m\u001b[0m \u001b[1m0s\u001b[0m 5ms/step - loss: 2412.5522 - root_mean_squared_error: 49.1061 - val_loss: 2113.3396 - val_root_mean_squared_error: 45.9711\n",
      "Epoch 20/100\n",
      "\u001b[1m52/52\u001b[0m \u001b[32m━━━━━━━━━━━━━━━━━━━━\u001b[0m\u001b[37m\u001b[0m \u001b[1m0s\u001b[0m 4ms/step - loss: 2697.6792 - root_mean_squared_error: 51.9047 - val_loss: 2371.0901 - val_root_mean_squared_error: 48.6938\n",
      "Epoch 21/100\n",
      "\u001b[1m52/52\u001b[0m \u001b[32m━━━━━━━━━━━━━━━━━━━━\u001b[0m\u001b[37m\u001b[0m \u001b[1m0s\u001b[0m 4ms/step - loss: 2757.7051 - root_mean_squared_error: 52.4801 - val_loss: 2185.8584 - val_root_mean_squared_error: 46.7532\n",
      "Epoch 22/100\n",
      "\u001b[1m52/52\u001b[0m \u001b[32m━━━━━━━━━━━━━━━━━━━━\u001b[0m\u001b[37m\u001b[0m \u001b[1m0s\u001b[0m 4ms/step - loss: 2409.0994 - root_mean_squared_error: 49.0645 - val_loss: 2382.6206 - val_root_mean_squared_error: 48.8121\n",
      "Epoch 23/100\n",
      "\u001b[1m52/52\u001b[0m \u001b[32m━━━━━━━━━━━━━━━━━━━━\u001b[0m\u001b[37m\u001b[0m \u001b[1m0s\u001b[0m 4ms/step - loss: 2207.9492 - root_mean_squared_error: 46.8293 - val_loss: 2128.0269 - val_root_mean_squared_error: 46.1305\n",
      "Epoch 24/100\n",
      "\u001b[1m52/52\u001b[0m \u001b[32m━━━━━━━━━━━━━━━━━━━━\u001b[0m\u001b[37m\u001b[0m \u001b[1m0s\u001b[0m 4ms/step - loss: 2666.3379 - root_mean_squared_error: 51.5511 - val_loss: 2336.9141 - val_root_mean_squared_error: 48.3416\n",
      "Epoch 25/100\n",
      "\u001b[1m52/52\u001b[0m \u001b[32m━━━━━━━━━━━━━━━━━━━━\u001b[0m\u001b[37m\u001b[0m \u001b[1m0s\u001b[0m 4ms/step - loss: 2490.1677 - root_mean_squared_error: 49.8934 - val_loss: 2478.9573 - val_root_mean_squared_error: 49.7891\n",
      "Epoch 26/100\n",
      "\u001b[1m52/52\u001b[0m \u001b[32m━━━━━━━━━━━━━━━━━━━━\u001b[0m\u001b[37m\u001b[0m \u001b[1m0s\u001b[0m 4ms/step - loss: 2542.2500 - root_mean_squared_error: 50.3285 - val_loss: 2537.2705 - val_root_mean_squared_error: 50.3713\n",
      "Epoch 27/100\n",
      "\u001b[1m52/52\u001b[0m \u001b[32m━━━━━━━━━━━━━━━━━━━━\u001b[0m\u001b[37m\u001b[0m \u001b[1m0s\u001b[0m 4ms/step - loss: 2347.2734 - root_mean_squared_error: 48.4290 - val_loss: 2530.2974 - val_root_mean_squared_error: 50.3021\n",
      "Epoch 28/100\n",
      "\u001b[1m52/52\u001b[0m \u001b[32m━━━━━━━━━━━━━━━━━━━━\u001b[0m\u001b[37m\u001b[0m \u001b[1m0s\u001b[0m 4ms/step - loss: 2279.4282 - root_mean_squared_error: 47.7314 - val_loss: 2351.5354 - val_root_mean_squared_error: 48.4926\n",
      "Epoch 29/100\n",
      "\u001b[1m52/52\u001b[0m \u001b[32m━━━━━━━━━━━━━━━━━━━━\u001b[0m\u001b[37m\u001b[0m \u001b[1m0s\u001b[0m 4ms/step - loss: 2294.5574 - root_mean_squared_error: 47.8586 - val_loss: 2267.4209 - val_root_mean_squared_error: 47.6174\n",
      "Epoch 30/100\n",
      "\u001b[1m52/52\u001b[0m \u001b[32m━━━━━━━━━━━━━━━━━━━━\u001b[0m\u001b[37m\u001b[0m \u001b[1m0s\u001b[0m 4ms/step - loss: 2207.9614 - root_mean_squared_error: 46.9596 - val_loss: 2231.4202 - val_root_mean_squared_error: 47.2379\n",
      "Epoch 31/100\n",
      "\u001b[1m52/52\u001b[0m \u001b[32m━━━━━━━━━━━━━━━━━━━━\u001b[0m\u001b[37m\u001b[0m \u001b[1m0s\u001b[0m 4ms/step - loss: 2317.6111 - root_mean_squared_error: 48.0193 - val_loss: 2429.3450 - val_root_mean_squared_error: 49.2884\n",
      "Epoch 32/100\n",
      "\u001b[1m52/52\u001b[0m \u001b[32m━━━━━━━━━━━━━━━━━━━━\u001b[0m\u001b[37m\u001b[0m \u001b[1m0s\u001b[0m 4ms/step - loss: 2339.5281 - root_mean_squared_error: 48.3582 - val_loss: 2116.2769 - val_root_mean_squared_error: 46.0030\n",
      "Epoch 33/100\n",
      "\u001b[1m52/52\u001b[0m \u001b[32m━━━━━━━━━━━━━━━━━━━━\u001b[0m\u001b[37m\u001b[0m \u001b[1m0s\u001b[0m 4ms/step - loss: 2250.4082 - root_mean_squared_error: 47.4273 - val_loss: 2335.1865 - val_root_mean_squared_error: 48.3238\n",
      "Epoch 34/100\n",
      "\u001b[1m52/52\u001b[0m \u001b[32m━━━━━━━━━━━━━━━━━━━━\u001b[0m\u001b[37m\u001b[0m \u001b[1m0s\u001b[0m 4ms/step - loss: 2264.5149 - root_mean_squared_error: 47.5617 - val_loss: 2363.7109 - val_root_mean_squared_error: 48.6180\n",
      "Epoch 35/100\n",
      "\u001b[1m52/52\u001b[0m \u001b[32m━━━━━━━━━━━━━━━━━━━━\u001b[0m\u001b[37m\u001b[0m \u001b[1m0s\u001b[0m 4ms/step - loss: 2142.5718 - root_mean_squared_error: 46.2719 - val_loss: 2123.5703 - val_root_mean_squared_error: 46.0822\n",
      "Epoch 36/100\n",
      "\u001b[1m52/52\u001b[0m \u001b[32m━━━━━━━━━━━━━━━━━━━━\u001b[0m\u001b[37m\u001b[0m \u001b[1m0s\u001b[0m 5ms/step - loss: 2041.3618 - root_mean_squared_error: 45.1558 - val_loss: 1895.1561 - val_root_mean_squared_error: 43.5334\n",
      "Epoch 37/100\n",
      "\u001b[1m52/52\u001b[0m \u001b[32m━━━━━━━━━━━━━━━━━━━━\u001b[0m\u001b[37m\u001b[0m \u001b[1m0s\u001b[0m 4ms/step - loss: 2374.9585 - root_mean_squared_error: 48.7085 - val_loss: 2071.9805 - val_root_mean_squared_error: 45.5190\n",
      "Epoch 38/100\n",
      "\u001b[1m52/52\u001b[0m \u001b[32m━━━━━━━━━━━━━━━━━━━━\u001b[0m\u001b[37m\u001b[0m \u001b[1m0s\u001b[0m 4ms/step - loss: 2154.3218 - root_mean_squared_error: 46.3452 - val_loss: 2116.3735 - val_root_mean_squared_error: 46.0041\n",
      "Epoch 39/100\n",
      "\u001b[1m52/52\u001b[0m \u001b[32m━━━━━━━━━━━━━━━━━━━━\u001b[0m\u001b[37m\u001b[0m \u001b[1m0s\u001b[0m 4ms/step - loss: 2128.1462 - root_mean_squared_error: 46.0180 - val_loss: 2040.0909 - val_root_mean_squared_error: 45.1674\n",
      "Epoch 40/100\n",
      "\u001b[1m52/52\u001b[0m \u001b[32m━━━━━━━━━━━━━━━━━━━━\u001b[0m\u001b[37m\u001b[0m \u001b[1m0s\u001b[0m 4ms/step - loss: 2083.8850 - root_mean_squared_error: 45.6012 - val_loss: 2235.0981 - val_root_mean_squared_error: 47.2768\n",
      "Epoch 41/100\n",
      "\u001b[1m52/52\u001b[0m \u001b[32m━━━━━━━━━━━━━━━━━━━━\u001b[0m\u001b[37m\u001b[0m \u001b[1m0s\u001b[0m 4ms/step - loss: 2669.4683 - root_mean_squared_error: 51.5357 - val_loss: 2499.0349 - val_root_mean_squared_error: 49.9903\n",
      "Epoch 42/100\n",
      "\u001b[1m52/52\u001b[0m \u001b[32m━━━━━━━━━━━━━━━━━━━━\u001b[0m\u001b[37m\u001b[0m \u001b[1m0s\u001b[0m 4ms/step - loss: 2242.0051 - root_mean_squared_error: 47.3320 - val_loss: 2297.7812 - val_root_mean_squared_error: 47.9352\n",
      "Epoch 43/100\n",
      "\u001b[1m52/52\u001b[0m \u001b[32m━━━━━━━━━━━━━━━━━━━━\u001b[0m\u001b[37m\u001b[0m \u001b[1m0s\u001b[0m 4ms/step - loss: 2282.0994 - root_mean_squared_error: 47.7560 - val_loss: 2262.7922 - val_root_mean_squared_error: 47.5688\n",
      "Epoch 44/100\n",
      "\u001b[1m52/52\u001b[0m \u001b[32m━━━━━━━━━━━━━━━━━━━━\u001b[0m\u001b[37m\u001b[0m \u001b[1m0s\u001b[0m 4ms/step - loss: 2110.0322 - root_mean_squared_error: 45.9182 - val_loss: 2472.4636 - val_root_mean_squared_error: 49.7239\n",
      "Epoch 45/100\n",
      "\u001b[1m52/52\u001b[0m \u001b[32m━━━━━━━━━━━━━━━━━━━━\u001b[0m\u001b[37m\u001b[0m \u001b[1m0s\u001b[0m 4ms/step - loss: 2223.6228 - root_mean_squared_error: 47.0509 - val_loss: 2630.3760 - val_root_mean_squared_error: 51.2872\n",
      "Epoch 46/100\n",
      "\u001b[1m52/52\u001b[0m \u001b[32m━━━━━━━━━━━━━━━━━━━━\u001b[0m\u001b[37m\u001b[0m \u001b[1m0s\u001b[0m 4ms/step - loss: 2285.6584 - root_mean_squared_error: 47.7417 - val_loss: 2356.5962 - val_root_mean_squared_error: 48.5448\n",
      "Epoch 47/100\n",
      "\u001b[1m52/52\u001b[0m \u001b[32m━━━━━━━━━━━━━━━━━━━━\u001b[0m\u001b[37m\u001b[0m \u001b[1m0s\u001b[0m 4ms/step - loss: 2291.9702 - root_mean_squared_error: 47.8032 - val_loss: 2432.7288 - val_root_mean_squared_error: 49.3227\n",
      "Epoch 48/100\n",
      "\u001b[1m52/52\u001b[0m \u001b[32m━━━━━━━━━━━━━━━━━━━━\u001b[0m\u001b[37m\u001b[0m \u001b[1m0s\u001b[0m 4ms/step - loss: 2314.9512 - root_mean_squared_error: 48.1039 - val_loss: 2268.5491 - val_root_mean_squared_error: 47.6293\n",
      "Epoch 49/100\n",
      "\u001b[1m52/52\u001b[0m \u001b[32m━━━━━━━━━━━━━━━━━━━━\u001b[0m\u001b[37m\u001b[0m \u001b[1m0s\u001b[0m 4ms/step - loss: 2208.4888 - root_mean_squared_error: 46.9561 - val_loss: 2225.6013 - val_root_mean_squared_error: 47.1763\n",
      "Epoch 50/100\n",
      "\u001b[1m52/52\u001b[0m \u001b[32m━━━━━━━━━━━━━━━━━━━━\u001b[0m\u001b[37m\u001b[0m \u001b[1m0s\u001b[0m 4ms/step - loss: 2503.0491 - root_mean_squared_error: 49.9587 - val_loss: 2249.0435 - val_root_mean_squared_error: 47.4241\n",
      "Epoch 51/100\n",
      "\u001b[1m52/52\u001b[0m \u001b[32m━━━━━━━━━━━━━━━━━━━━\u001b[0m\u001b[37m\u001b[0m \u001b[1m0s\u001b[0m 4ms/step - loss: 2855.8169 - root_mean_squared_error: 53.3413 - val_loss: 2589.7092 - val_root_mean_squared_error: 50.8892\n",
      "Epoch 52/100\n",
      "\u001b[1m52/52\u001b[0m \u001b[32m━━━━━━━━━━━━━━━━━━━━\u001b[0m\u001b[37m\u001b[0m \u001b[1m0s\u001b[0m 4ms/step - loss: 2110.0896 - root_mean_squared_error: 45.9106 - val_loss: 2245.1111 - val_root_mean_squared_error: 47.3826\n",
      "Epoch 53/100\n",
      "\u001b[1m52/52\u001b[0m \u001b[32m━━━━━━━━━━━━━━━━━━━━\u001b[0m\u001b[37m\u001b[0m \u001b[1m0s\u001b[0m 4ms/step - loss: 2021.2781 - root_mean_squared_error: 44.8759 - val_loss: 2166.5496 - val_root_mean_squared_error: 46.5462\n",
      "Epoch 54/100\n",
      "\u001b[1m52/52\u001b[0m \u001b[32m━━━━━━━━━━━━━━━━━━━━\u001b[0m\u001b[37m\u001b[0m \u001b[1m0s\u001b[0m 4ms/step - loss: 2106.3831 - root_mean_squared_error: 45.8758 - val_loss: 2089.1797 - val_root_mean_squared_error: 45.7075\n",
      "Epoch 55/100\n",
      "\u001b[1m52/52\u001b[0m \u001b[32m━━━━━━━━━━━━━━━━━━━━\u001b[0m\u001b[37m\u001b[0m \u001b[1m0s\u001b[0m 4ms/step - loss: 2329.6470 - root_mean_squared_error: 48.1454 - val_loss: 2131.0815 - val_root_mean_squared_error: 46.1636\n",
      "Epoch 56/100\n",
      "\u001b[1m52/52\u001b[0m \u001b[32m━━━━━━━━━━━━━━━━━━━━\u001b[0m\u001b[37m\u001b[0m \u001b[1m0s\u001b[0m 4ms/step - loss: 2163.4082 - root_mean_squared_error: 46.4645 - val_loss: 2409.1685 - val_root_mean_squared_error: 49.0833\n",
      "Epoch 57/100\n",
      "\u001b[1m52/52\u001b[0m \u001b[32m━━━━━━━━━━━━━━━━━━━━\u001b[0m\u001b[37m\u001b[0m \u001b[1m0s\u001b[0m 4ms/step - loss: 2539.1311 - root_mean_squared_error: 50.0891 - val_loss: 2297.0168 - val_root_mean_squared_error: 47.9272\n",
      "Epoch 58/100\n",
      "\u001b[1m52/52\u001b[0m \u001b[32m━━━━━━━━━━━━━━━━━━━━\u001b[0m\u001b[37m\u001b[0m \u001b[1m0s\u001b[0m 4ms/step - loss: 2181.3213 - root_mean_squared_error: 46.5234 - val_loss: 2111.5042 - val_root_mean_squared_error: 45.9511\n",
      "Epoch 59/100\n",
      "\u001b[1m52/52\u001b[0m \u001b[32m━━━━━━━━━━━━━━━━━━━━\u001b[0m\u001b[37m\u001b[0m \u001b[1m0s\u001b[0m 4ms/step - loss: 2050.3252 - root_mean_squared_error: 45.2575 - val_loss: 2041.8763 - val_root_mean_squared_error: 45.1871\n",
      "Epoch 60/100\n",
      "\u001b[1m52/52\u001b[0m \u001b[32m━━━━━━━━━━━━━━━━━━━━\u001b[0m\u001b[37m\u001b[0m \u001b[1m0s\u001b[0m 4ms/step - loss: 1878.3226 - root_mean_squared_error: 43.2708 - val_loss: 2020.0027 - val_root_mean_squared_error: 44.9444\n",
      "Epoch 61/100\n",
      "\u001b[1m52/52\u001b[0m \u001b[32m━━━━━━━━━━━━━━━━━━━━\u001b[0m\u001b[37m\u001b[0m \u001b[1m0s\u001b[0m 4ms/step - loss: 1940.4478 - root_mean_squared_error: 44.0152 - val_loss: 1989.8781 - val_root_mean_squared_error: 44.6080\n",
      "Epoch 62/100\n",
      "\u001b[1m52/52\u001b[0m \u001b[32m━━━━━━━━━━━━━━━━━━━━\u001b[0m\u001b[37m\u001b[0m \u001b[1m0s\u001b[0m 4ms/step - loss: 2017.2760 - root_mean_squared_error: 44.6660 - val_loss: 2441.2849 - val_root_mean_squared_error: 49.4094\n",
      "Epoch 63/100\n",
      "\u001b[1m52/52\u001b[0m \u001b[32m━━━━━━━━━━━━━━━━━━━━\u001b[0m\u001b[37m\u001b[0m \u001b[1m0s\u001b[0m 4ms/step - loss: 2289.4214 - root_mean_squared_error: 47.8193 - val_loss: 2281.7917 - val_root_mean_squared_error: 47.7681\n",
      "Epoch 64/100\n",
      "\u001b[1m52/52\u001b[0m \u001b[32m━━━━━━━━━━━━━━━━━━━━\u001b[0m\u001b[37m\u001b[0m \u001b[1m0s\u001b[0m 4ms/step - loss: 1973.4292 - root_mean_squared_error: 44.3859 - val_loss: 2145.7322 - val_root_mean_squared_error: 46.3220\n",
      "Epoch 65/100\n",
      "\u001b[1m52/52\u001b[0m \u001b[32m━━━━━━━━━━━━━━━━━━━━\u001b[0m\u001b[37m\u001b[0m \u001b[1m0s\u001b[0m 4ms/step - loss: 1954.7006 - root_mean_squared_error: 44.1633 - val_loss: 2309.8252 - val_root_mean_squared_error: 48.0606\n",
      "Epoch 66/100\n",
      "\u001b[1m52/52\u001b[0m \u001b[32m━━━━━━━━━━━━━━━━━━━━\u001b[0m\u001b[37m\u001b[0m \u001b[1m0s\u001b[0m 4ms/step - loss: 2193.0923 - root_mean_squared_error: 46.7974 - val_loss: 1996.3259 - val_root_mean_squared_error: 44.6803\n",
      "Epoch 67/100\n",
      "\u001b[1m52/52\u001b[0m \u001b[32m━━━━━━━━━━━━━━━━━━━━\u001b[0m\u001b[37m\u001b[0m \u001b[1m0s\u001b[0m 4ms/step - loss: 1948.3738 - root_mean_squared_error: 44.0211 - val_loss: 2179.2695 - val_root_mean_squared_error: 46.6826\n",
      "Epoch 68/100\n",
      "\u001b[1m52/52\u001b[0m \u001b[32m━━━━━━━━━━━━━━━━━━━━\u001b[0m\u001b[37m\u001b[0m \u001b[1m0s\u001b[0m 4ms/step - loss: 2115.8875 - root_mean_squared_error: 45.9506 - val_loss: 2318.3984 - val_root_mean_squared_error: 48.1497\n",
      "Epoch 69/100\n",
      "\u001b[1m52/52\u001b[0m \u001b[32m━━━━━━━━━━━━━━━━━━━━\u001b[0m\u001b[37m\u001b[0m \u001b[1m0s\u001b[0m 4ms/step - loss: 2269.1006 - root_mean_squared_error: 47.6141 - val_loss: 2116.9202 - val_root_mean_squared_error: 46.0100\n",
      "Epoch 70/100\n",
      "\u001b[1m52/52\u001b[0m \u001b[32m━━━━━━━━━━━━━━━━━━━━\u001b[0m\u001b[37m\u001b[0m \u001b[1m0s\u001b[0m 4ms/step - loss: 2084.3193 - root_mean_squared_error: 45.6316 - val_loss: 1993.5098 - val_root_mean_squared_error: 44.6487\n",
      "Epoch 71/100\n",
      "\u001b[1m52/52\u001b[0m \u001b[32m━━━━━━━━━━━━━━━━━━━━\u001b[0m\u001b[37m\u001b[0m \u001b[1m0s\u001b[0m 4ms/step - loss: 2231.3398 - root_mean_squared_error: 47.1797 - val_loss: 1973.6210 - val_root_mean_squared_error: 44.4255\n",
      "Epoch 72/100\n",
      "\u001b[1m52/52\u001b[0m \u001b[32m━━━━━━━━━━━━━━━━━━━━\u001b[0m\u001b[37m\u001b[0m \u001b[1m0s\u001b[0m 4ms/step - loss: 1937.3082 - root_mean_squared_error: 43.9658 - val_loss: 2119.7520 - val_root_mean_squared_error: 46.0408\n",
      "Epoch 73/100\n",
      "\u001b[1m52/52\u001b[0m \u001b[32m━━━━━━━━━━━━━━━━━━━━\u001b[0m\u001b[37m\u001b[0m \u001b[1m0s\u001b[0m 4ms/step - loss: 1985.1729 - root_mean_squared_error: 44.5324 - val_loss: 2165.9905 - val_root_mean_squared_error: 46.5402\n",
      "Epoch 74/100\n",
      "\u001b[1m52/52\u001b[0m \u001b[32m━━━━━━━━━━━━━━━━━━━━\u001b[0m\u001b[37m\u001b[0m \u001b[1m0s\u001b[0m 4ms/step - loss: 2008.0865 - root_mean_squared_error: 44.8020 - val_loss: 2177.2786 - val_root_mean_squared_error: 46.6613\n",
      "Epoch 75/100\n",
      "\u001b[1m52/52\u001b[0m \u001b[32m━━━━━━━━━━━━━━━━━━━━\u001b[0m\u001b[37m\u001b[0m \u001b[1m0s\u001b[0m 4ms/step - loss: 2217.9517 - root_mean_squared_error: 46.9598 - val_loss: 2227.4500 - val_root_mean_squared_error: 47.1959\n",
      "Epoch 76/100\n",
      "\u001b[1m52/52\u001b[0m \u001b[32m━━━━━━━━━━━━━━━━━━━━\u001b[0m\u001b[37m\u001b[0m \u001b[1m0s\u001b[0m 4ms/step - loss: 1767.2576 - root_mean_squared_error: 42.0250 - val_loss: 2355.2129 - val_root_mean_squared_error: 48.5305\n",
      "Epoch 77/100\n",
      "\u001b[1m52/52\u001b[0m \u001b[32m━━━━━━━━━━━━━━━━━━━━\u001b[0m\u001b[37m\u001b[0m \u001b[1m0s\u001b[0m 4ms/step - loss: 1855.8872 - root_mean_squared_error: 42.9294 - val_loss: 2196.7742 - val_root_mean_squared_error: 46.8698\n",
      "Epoch 78/100\n",
      "\u001b[1m52/52\u001b[0m \u001b[32m━━━━━━━━━━━━━━━━━━━━\u001b[0m\u001b[37m\u001b[0m \u001b[1m0s\u001b[0m 5ms/step - loss: 1938.8328 - root_mean_squared_error: 44.0212 - val_loss: 1865.7823 - val_root_mean_squared_error: 43.1947\n",
      "Epoch 79/100\n",
      "\u001b[1m52/52\u001b[0m \u001b[32m━━━━━━━━━━━━━━━━━━━━\u001b[0m\u001b[37m\u001b[0m \u001b[1m0s\u001b[0m 4ms/step - loss: 1784.0739 - root_mean_squared_error: 42.2181 - val_loss: 1865.9136 - val_root_mean_squared_error: 43.1962\n",
      "Epoch 80/100\n",
      "\u001b[1m52/52\u001b[0m \u001b[32m━━━━━━━━━━━━━━━━━━━━\u001b[0m\u001b[37m\u001b[0m \u001b[1m0s\u001b[0m 4ms/step - loss: 2052.5674 - root_mean_squared_error: 45.2955 - val_loss: 1909.9392 - val_root_mean_squared_error: 43.7029\n",
      "Epoch 81/100\n",
      "\u001b[1m52/52\u001b[0m \u001b[32m━━━━━━━━━━━━━━━━━━━━\u001b[0m\u001b[37m\u001b[0m \u001b[1m0s\u001b[0m 4ms/step - loss: 2172.2842 - root_mean_squared_error: 46.5789 - val_loss: 1941.2170 - val_root_mean_squared_error: 44.0592\n",
      "Epoch 82/100\n",
      "\u001b[1m52/52\u001b[0m \u001b[32m━━━━━━━━━━━━━━━━━━━━\u001b[0m\u001b[37m\u001b[0m \u001b[1m0s\u001b[0m 4ms/step - loss: 2099.5247 - root_mean_squared_error: 45.8051 - val_loss: 1924.3218 - val_root_mean_squared_error: 43.8671\n",
      "Epoch 83/100\n",
      "\u001b[1m52/52\u001b[0m \u001b[32m━━━━━━━━━━━━━━━━━━━━\u001b[0m\u001b[37m\u001b[0m \u001b[1m0s\u001b[0m 5ms/step - loss: 2078.8557 - root_mean_squared_error: 45.5602 - val_loss: 1812.7885 - val_root_mean_squared_error: 42.5769\n",
      "Epoch 84/100\n",
      "\u001b[1m52/52\u001b[0m \u001b[32m━━━━━━━━━━━━━━━━━━━━\u001b[0m\u001b[37m\u001b[0m \u001b[1m0s\u001b[0m 4ms/step - loss: 1866.3008 - root_mean_squared_error: 43.1489 - val_loss: 1851.7604 - val_root_mean_squared_error: 43.0321\n",
      "Epoch 85/100\n",
      "\u001b[1m52/52\u001b[0m \u001b[32m━━━━━━━━━━━━━━━━━━━━\u001b[0m\u001b[37m\u001b[0m \u001b[1m0s\u001b[0m 4ms/step - loss: 1776.7563 - root_mean_squared_error: 42.1093 - val_loss: 1917.3545 - val_root_mean_squared_error: 43.7876\n",
      "Epoch 86/100\n",
      "\u001b[1m52/52\u001b[0m \u001b[32m━━━━━━━━━━━━━━━━━━━━\u001b[0m\u001b[37m\u001b[0m \u001b[1m0s\u001b[0m 4ms/step - loss: 1805.0262 - root_mean_squared_error: 42.4524 - val_loss: 2146.2607 - val_root_mean_squared_error: 46.3278\n",
      "Epoch 87/100\n",
      "\u001b[1m52/52\u001b[0m \u001b[32m━━━━━━━━━━━━━━━━━━━━\u001b[0m\u001b[37m\u001b[0m \u001b[1m0s\u001b[0m 4ms/step - loss: 1882.3145 - root_mean_squared_error: 43.3653 - val_loss: 2087.2834 - val_root_mean_squared_error: 45.6868\n",
      "Epoch 88/100\n",
      "\u001b[1m52/52\u001b[0m \u001b[32m━━━━━━━━━━━━━━━━━━━━\u001b[0m\u001b[37m\u001b[0m \u001b[1m0s\u001b[0m 4ms/step - loss: 2059.4924 - root_mean_squared_error: 45.3484 - val_loss: 2029.7375 - val_root_mean_squared_error: 45.0526\n",
      "Epoch 89/100\n",
      "\u001b[1m52/52\u001b[0m \u001b[32m━━━━━━━━━━━━━━━━━━━━\u001b[0m\u001b[37m\u001b[0m \u001b[1m0s\u001b[0m 4ms/step - loss: 2115.4854 - root_mean_squared_error: 45.9366 - val_loss: 2106.9014 - val_root_mean_squared_error: 45.9010\n",
      "Epoch 90/100\n",
      "\u001b[1m52/52\u001b[0m \u001b[32m━━━━━━━━━━━━━━━━━━━━\u001b[0m\u001b[37m\u001b[0m \u001b[1m0s\u001b[0m 4ms/step - loss: 1913.7209 - root_mean_squared_error: 43.7201 - val_loss: 2204.8989 - val_root_mean_squared_error: 46.9564\n",
      "Epoch 91/100\n",
      "\u001b[1m52/52\u001b[0m \u001b[32m━━━━━━━━━━━━━━━━━━━━\u001b[0m\u001b[37m\u001b[0m \u001b[1m0s\u001b[0m 4ms/step - loss: 2016.5782 - root_mean_squared_error: 44.8736 - val_loss: 2042.3768 - val_root_mean_squared_error: 45.1927\n",
      "Epoch 92/100\n",
      "\u001b[1m52/52\u001b[0m \u001b[32m━━━━━━━━━━━━━━━━━━━━\u001b[0m\u001b[37m\u001b[0m \u001b[1m0s\u001b[0m 5ms/step - loss: 1680.4731 - root_mean_squared_error: 40.9128 - val_loss: 1812.0127 - val_root_mean_squared_error: 42.5677\n",
      "Epoch 93/100\n",
      "\u001b[1m52/52\u001b[0m \u001b[32m━━━━━━━━━━━━━━━━━━━━\u001b[0m\u001b[37m\u001b[0m \u001b[1m0s\u001b[0m 4ms/step - loss: 1939.2328 - root_mean_squared_error: 44.0193 - val_loss: 1886.9828 - val_root_mean_squared_error: 43.4394\n",
      "Epoch 94/100\n",
      "\u001b[1m52/52\u001b[0m \u001b[32m━━━━━━━━━━━━━━━━━━━━\u001b[0m\u001b[37m\u001b[0m \u001b[1m0s\u001b[0m 5ms/step - loss: 1895.9689 - root_mean_squared_error: 43.5320 - val_loss: 1745.0831 - val_root_mean_squared_error: 41.7742\n",
      "Epoch 95/100\n",
      "\u001b[1m52/52\u001b[0m \u001b[32m━━━━━━━━━━━━━━━━━━━━\u001b[0m\u001b[37m\u001b[0m \u001b[1m0s\u001b[0m 4ms/step - loss: 1846.9724 - root_mean_squared_error: 42.8901 - val_loss: 2188.0686 - val_root_mean_squared_error: 46.7768\n",
      "Epoch 96/100\n",
      "\u001b[1m52/52\u001b[0m \u001b[32m━━━━━━━━━━━━━━━━━━━━\u001b[0m\u001b[37m\u001b[0m \u001b[1m0s\u001b[0m 4ms/step - loss: 2032.6849 - root_mean_squared_error: 45.0440 - val_loss: 2384.1240 - val_root_mean_squared_error: 48.8275\n",
      "Epoch 97/100\n",
      "\u001b[1m52/52\u001b[0m \u001b[32m━━━━━━━━━━━━━━━━━━━━\u001b[0m\u001b[37m\u001b[0m \u001b[1m0s\u001b[0m 4ms/step - loss: 2448.0168 - root_mean_squared_error: 49.4680 - val_loss: 2697.6440 - val_root_mean_squared_error: 51.9389\n",
      "Epoch 98/100\n",
      "\u001b[1m52/52\u001b[0m \u001b[32m━━━━━━━━━━━━━━━━━━━━\u001b[0m\u001b[37m\u001b[0m \u001b[1m0s\u001b[0m 4ms/step - loss: 2529.3625 - root_mean_squared_error: 50.2490 - val_loss: 2837.3030 - val_root_mean_squared_error: 53.2663\n",
      "Epoch 99/100\n",
      "\u001b[1m52/52\u001b[0m \u001b[32m━━━━━━━━━━━━━━━━━━━━\u001b[0m\u001b[37m\u001b[0m \u001b[1m0s\u001b[0m 4ms/step - loss: 2423.6897 - root_mean_squared_error: 49.1979 - val_loss: 2850.4048 - val_root_mean_squared_error: 53.3892\n",
      "Epoch 100/100\n",
      "\u001b[1m52/52\u001b[0m \u001b[32m━━━━━━━━━━━━━━━━━━━━\u001b[0m\u001b[37m\u001b[0m \u001b[1m0s\u001b[0m 4ms/step - loss: 2225.4807 - root_mean_squared_error: 47.1342 - val_loss: 2349.0100 - val_root_mean_squared_error: 48.4666\n"
     ]
    },
    {
     "data": {
      "text/plain": [
       "<keras.src.callbacks.history.History at 0x7c6fe1f0b910>"
      ]
     },
     "execution_count": 38,
     "metadata": {},
     "output_type": "execute_result"
    }
   ],
   "source": [
    "model5 = Sequential()\n",
    "model5.add(InputLayer((6, 5)))  # 6 timestamps, 6 features\n",
    "model5.add(LSTM(32, activation='relu', return_sequences=False))  # Single LSTM layer\n",
    "model5.add(Dense(16, activation='relu')) \n",
    "model5.add(Dense(1, activation='linear'))  \n",
    "\n",
    "cp5 = ModelCheckpoint('/kaggle/working/model5.keras', save_best_only=True)\n",
    "\n",
    "model5.compile(loss=MeanSquaredError(), optimizer=Adam(learning_rate=0.0001), \n",
    "               metrics=[RootMeanSquaredError()])\n",
    "\n",
    "model5.fit(X_train1, y_train1, validation_data=(X_val1, y_val1), epochs=100, \n",
    "           callbacks=[cp5])"
   ]
  },
  {
   "cell_type": "code",
   "execution_count": 39,
   "id": "7b5ceff8",
   "metadata": {
    "execution": {
     "iopub.execute_input": "2025-01-28T03:15:36.277390Z",
     "iopub.status.busy": "2025-01-28T03:15:36.277045Z",
     "iopub.status.idle": "2025-01-28T03:15:36.380920Z",
     "shell.execute_reply": "2025-01-28T03:15:36.379969Z"
    },
    "papermill": {
     "duration": 0.160901,
     "end_time": "2025-01-28T03:15:36.382782",
     "exception": false,
     "start_time": "2025-01-28T03:15:36.221881",
     "status": "completed"
    },
    "tags": []
   },
   "outputs": [],
   "source": [
    "from tensorflow.keras.models import load_model\n",
    "model5 = load_model('/kaggle/working/model5.keras')"
   ]
  },
  {
   "cell_type": "code",
   "execution_count": 40,
   "id": "da959623",
   "metadata": {
    "execution": {
     "iopub.execute_input": "2025-01-28T03:15:36.491367Z",
     "iopub.status.busy": "2025-01-28T03:15:36.491018Z",
     "iopub.status.idle": "2025-01-28T03:15:36.967605Z",
     "shell.execute_reply": "2025-01-28T03:15:36.966651Z"
    },
    "papermill": {
     "duration": 0.53295,
     "end_time": "2025-01-28T03:15:36.969318",
     "exception": false,
     "start_time": "2025-01-28T03:15:36.436368",
     "status": "completed"
    },
    "tags": []
   },
   "outputs": [
    {
     "name": "stdout",
     "output_type": "stream",
     "text": [
      "\u001b[1m52/52\u001b[0m \u001b[32m━━━━━━━━━━━━━━━━━━━━\u001b[0m\u001b[37m\u001b[0m \u001b[1m0s\u001b[0m 4ms/step\n",
      "Evaluation Metrics:\n",
      "Mean Absolute Error (MAE): 29.2183\n",
      "Mean Squared Error (MSE): 1841.1896\n",
      "Root Mean Squared Error (RMSE): 42.9091\n",
      "R-squared (Accuracy): 0.7695\n"
     ]
    }
   ],
   "source": [
    "# Evaluate the model on the train data\n",
    "train_result = model5.predict(X_train1)\n",
    "\n",
    "# Calculate metrics\n",
    "mse = mean_squared_error(y_train1, train_result)\n",
    "rmse = np.sqrt(mse)\n",
    "mae = mean_absolute_error(y_train1, train_result)\n",
    "r2 = r2_score(y_train1, train_result)\n",
    "\n",
    "# Print the results\n",
    "print(\"Evaluation Metrics:\")\n",
    "print(f\"Mean Absolute Error (MAE): {mae:.4f}\")\n",
    "print(f\"Mean Squared Error (MSE): {mse:.4f}\")\n",
    "print(f\"Root Mean Squared Error (RMSE): {rmse:.4f}\")\n",
    "print(f\"R-squared (Accuracy): {r2:.4f}\")"
   ]
  },
  {
   "cell_type": "code",
   "execution_count": 41,
   "id": "9cf53730",
   "metadata": {
    "execution": {
     "iopub.execute_input": "2025-01-28T03:15:37.080478Z",
     "iopub.status.busy": "2025-01-28T03:15:37.080141Z",
     "iopub.status.idle": "2025-01-28T03:15:37.173089Z",
     "shell.execute_reply": "2025-01-28T03:15:37.171968Z"
    },
    "papermill": {
     "duration": 0.151478,
     "end_time": "2025-01-28T03:15:37.174999",
     "exception": false,
     "start_time": "2025-01-28T03:15:37.023521",
     "status": "completed"
    },
    "tags": []
   },
   "outputs": [
    {
     "name": "stdout",
     "output_type": "stream",
     "text": [
      "\u001b[1m7/7\u001b[0m \u001b[32m━━━━━━━━━━━━━━━━━━━━\u001b[0m\u001b[37m\u001b[0m \u001b[1m0s\u001b[0m 2ms/step \n",
      "Evaluation Metrics:\n",
      "Mean Absolute Error (MAE): 25.6563\n",
      "Mean Squared Error (MSE): 1745.0833\n",
      "Root Mean Squared Error (RMSE): 41.7742\n",
      "R-squared (Accuracy): 0.6863\n"
     ]
    }
   ],
   "source": [
    "# Evaluate the model on the validation data\n",
    "val_result = model5.predict(X_val1)\n",
    "\n",
    "# Calculate metrics\n",
    "mse = mean_squared_error(y_val1, val_result)\n",
    "rmse = np.sqrt(mse)\n",
    "mae = mean_absolute_error(y_val1, val_result)\n",
    "r2 = r2_score(y_val1, val_result)\n",
    "\n",
    "# Print the results\n",
    "print(\"Evaluation Metrics:\")\n",
    "print(f\"Mean Absolute Error (MAE): {mae:.4f}\")\n",
    "print(f\"Mean Squared Error (MSE): {mse:.4f}\")\n",
    "print(f\"Root Mean Squared Error (RMSE): {rmse:.4f}\")\n",
    "print(f\"R-squared (Accuracy): {r2:.4f}\")"
   ]
  },
  {
   "cell_type": "code",
   "execution_count": 42,
   "id": "86c6e68d",
   "metadata": {
    "execution": {
     "iopub.execute_input": "2025-01-28T03:15:37.286152Z",
     "iopub.status.busy": "2025-01-28T03:15:37.285723Z",
     "iopub.status.idle": "2025-01-28T03:15:37.377297Z",
     "shell.execute_reply": "2025-01-28T03:15:37.376129Z"
    },
    "papermill": {
     "duration": 0.148538,
     "end_time": "2025-01-28T03:15:37.379214",
     "exception": false,
     "start_time": "2025-01-28T03:15:37.230676",
     "status": "completed"
    },
    "tags": []
   },
   "outputs": [
    {
     "name": "stdout",
     "output_type": "stream",
     "text": [
      "\u001b[1m7/7\u001b[0m \u001b[32m━━━━━━━━━━━━━━━━━━━━\u001b[0m\u001b[37m\u001b[0m \u001b[1m0s\u001b[0m 2ms/step \n",
      "Evaluation Metrics:\n",
      "Mean Absolute Error (MAE): 43.7323\n",
      "Mean Squared Error (MSE): 3816.3932\n",
      "Root Mean Squared Error (RMSE): 61.7770\n",
      "R-squared (Accuracy): 0.6524\n"
     ]
    }
   ],
   "source": [
    "# Evaluate the model on the test data\n",
    "test_result = model5.predict(X_test1)\n",
    "\n",
    "# Calculate metrics\n",
    "mse = mean_squared_error(y_test1, test_result)\n",
    "rmse = np.sqrt(mse)\n",
    "mae = mean_absolute_error(y_test1, test_result)\n",
    "r2 = r2_score(y_test1, test_result)\n",
    "\n",
    "# Print the results\n",
    "print(\"Evaluation Metrics:\")\n",
    "print(f\"Mean Absolute Error (MAE): {mae:.4f}\")\n",
    "print(f\"Mean Squared Error (MSE): {mse:.4f}\")\n",
    "print(f\"Root Mean Squared Error (RMSE): {rmse:.4f}\")\n",
    "print(f\"R-squared (Accuracy): {r2:.4f}\")"
   ]
  },
  {
   "cell_type": "code",
   "execution_count": 43,
   "id": "40197144",
   "metadata": {
    "execution": {
     "iopub.execute_input": "2025-01-28T03:15:37.488016Z",
     "iopub.status.busy": "2025-01-28T03:15:37.487629Z",
     "iopub.status.idle": "2025-01-28T03:15:37.664658Z",
     "shell.execute_reply": "2025-01-28T03:15:37.663557Z"
    },
    "papermill": {
     "duration": 0.233763,
     "end_time": "2025-01-28T03:15:37.666545",
     "exception": false,
     "start_time": "2025-01-28T03:15:37.432782",
     "status": "completed"
    },
    "tags": []
   },
   "outputs": [
    {
     "name": "stdout",
     "output_type": "stream",
     "text": [
      "\u001b[1m52/52\u001b[0m \u001b[32m━━━━━━━━━━━━━━━━━━━━\u001b[0m\u001b[37m\u001b[0m \u001b[1m0s\u001b[0m 2ms/step\n"
     ]
    },
    {
     "data": {
      "text/html": [
       "<div>\n",
       "<style scoped>\n",
       "    .dataframe tbody tr th:only-of-type {\n",
       "        vertical-align: middle;\n",
       "    }\n",
       "\n",
       "    .dataframe tbody tr th {\n",
       "        vertical-align: top;\n",
       "    }\n",
       "\n",
       "    .dataframe thead th {\n",
       "        text-align: right;\n",
       "    }\n",
       "</style>\n",
       "<table border=\"1\" class=\"dataframe\">\n",
       "  <thead>\n",
       "    <tr style=\"text-align: right;\">\n",
       "      <th></th>\n",
       "      <th>Train Predictions</th>\n",
       "      <th>Actuals</th>\n",
       "    </tr>\n",
       "  </thead>\n",
       "  <tbody>\n",
       "    <tr>\n",
       "      <th>0</th>\n",
       "      <td>148.122421</td>\n",
       "      <td>172.0</td>\n",
       "    </tr>\n",
       "    <tr>\n",
       "      <th>1</th>\n",
       "      <td>164.155319</td>\n",
       "      <td>173.0</td>\n",
       "    </tr>\n",
       "    <tr>\n",
       "      <th>2</th>\n",
       "      <td>166.012619</td>\n",
       "      <td>163.0</td>\n",
       "    </tr>\n",
       "    <tr>\n",
       "      <th>3</th>\n",
       "      <td>166.298508</td>\n",
       "      <td>154.0</td>\n",
       "    </tr>\n",
       "    <tr>\n",
       "      <th>4</th>\n",
       "      <td>147.362610</td>\n",
       "      <td>171.0</td>\n",
       "    </tr>\n",
       "    <tr>\n",
       "      <th>...</th>\n",
       "      <td>...</td>\n",
       "      <td>...</td>\n",
       "    </tr>\n",
       "    <tr>\n",
       "      <th>1647</th>\n",
       "      <td>99.270355</td>\n",
       "      <td>95.0</td>\n",
       "    </tr>\n",
       "    <tr>\n",
       "      <th>1648</th>\n",
       "      <td>99.270355</td>\n",
       "      <td>95.0</td>\n",
       "    </tr>\n",
       "    <tr>\n",
       "      <th>1649</th>\n",
       "      <td>99.270355</td>\n",
       "      <td>95.0</td>\n",
       "    </tr>\n",
       "    <tr>\n",
       "      <th>1650</th>\n",
       "      <td>99.270416</td>\n",
       "      <td>95.0</td>\n",
       "    </tr>\n",
       "    <tr>\n",
       "      <th>1651</th>\n",
       "      <td>99.270416</td>\n",
       "      <td>95.0</td>\n",
       "    </tr>\n",
       "  </tbody>\n",
       "</table>\n",
       "<p>1652 rows × 2 columns</p>\n",
       "</div>"
      ],
      "text/plain": [
       "      Train Predictions  Actuals\n",
       "0            148.122421    172.0\n",
       "1            164.155319    173.0\n",
       "2            166.012619    163.0\n",
       "3            166.298508    154.0\n",
       "4            147.362610    171.0\n",
       "...                 ...      ...\n",
       "1647          99.270355     95.0\n",
       "1648          99.270355     95.0\n",
       "1649          99.270355     95.0\n",
       "1650          99.270416     95.0\n",
       "1651          99.270416     95.0\n",
       "\n",
       "[1652 rows x 2 columns]"
      ]
     },
     "execution_count": 43,
     "metadata": {},
     "output_type": "execute_result"
    }
   ],
   "source": [
    "train_predictions = model5.predict(X_train1).flatten()\n",
    "train_results = pd.DataFrame(data={'Train Predictions':train_predictions, 'Actuals':y_train1})\n",
    "train_results"
   ]
  },
  {
   "cell_type": "code",
   "execution_count": 44,
   "id": "9f3061a1",
   "metadata": {
    "execution": {
     "iopub.execute_input": "2025-01-28T03:15:37.775902Z",
     "iopub.status.busy": "2025-01-28T03:15:37.775524Z",
     "iopub.status.idle": "2025-01-28T03:15:37.955084Z",
     "shell.execute_reply": "2025-01-28T03:15:37.954026Z"
    },
    "papermill": {
     "duration": 0.236716,
     "end_time": "2025-01-28T03:15:37.957444",
     "exception": false,
     "start_time": "2025-01-28T03:15:37.720728",
     "status": "completed"
    },
    "tags": []
   },
   "outputs": [
    {
     "data": {
      "image/png": "[encoded data removed]",
      "text/plain": [
       "<Figure size 640x480 with 1 Axes>"
      ]
     },
     "metadata": {},
     "output_type": "display_data"
    }
   ],
   "source": [
    "plt.plot(train_results['Actuals'][1:50], label='Actual')\n",
    "plt.plot(train_results['Train Predictions'][1:50], label='Predicted')\n",
    "plt.legend()\n",
    "plt.show()"
   ]
  },
  {
   "cell_type": "code",
   "execution_count": 45,
   "id": "6fd189d6",
   "metadata": {
    "execution": {
     "iopub.execute_input": "2025-01-28T03:15:38.068628Z",
     "iopub.status.busy": "2025-01-28T03:15:38.068277Z",
     "iopub.status.idle": "2025-01-28T03:15:38.163861Z",
     "shell.execute_reply": "2025-01-28T03:15:38.162895Z"
    },
    "papermill": {
     "duration": 0.152863,
     "end_time": "2025-01-28T03:15:38.165590",
     "exception": false,
     "start_time": "2025-01-28T03:15:38.012727",
     "status": "completed"
    },
    "tags": []
   },
   "outputs": [
    {
     "name": "stdout",
     "output_type": "stream",
     "text": [
      "\u001b[1m7/7\u001b[0m \u001b[32m━━━━━━━━━━━━━━━━━━━━\u001b[0m\u001b[37m\u001b[0m \u001b[1m0s\u001b[0m 2ms/step \n"
     ]
    },
    {
     "data": {
      "text/html": [
       "<div>\n",
       "<style scoped>\n",
       "    .dataframe tbody tr th:only-of-type {\n",
       "        vertical-align: middle;\n",
       "    }\n",
       "\n",
       "    .dataframe tbody tr th {\n",
       "        vertical-align: top;\n",
       "    }\n",
       "\n",
       "    .dataframe thead th {\n",
       "        text-align: right;\n",
       "    }\n",
       "</style>\n",
       "<table border=\"1\" class=\"dataframe\">\n",
       "  <thead>\n",
       "    <tr style=\"text-align: right;\">\n",
       "      <th></th>\n",
       "      <th>Train Predictions</th>\n",
       "      <th>Actuals</th>\n",
       "    </tr>\n",
       "  </thead>\n",
       "  <tbody>\n",
       "    <tr>\n",
       "      <th>0</th>\n",
       "      <td>99.270355</td>\n",
       "      <td>95.0</td>\n",
       "    </tr>\n",
       "    <tr>\n",
       "      <th>1</th>\n",
       "      <td>99.270355</td>\n",
       "      <td>95.0</td>\n",
       "    </tr>\n",
       "    <tr>\n",
       "      <th>2</th>\n",
       "      <td>99.270355</td>\n",
       "      <td>95.0</td>\n",
       "    </tr>\n",
       "    <tr>\n",
       "      <th>3</th>\n",
       "      <td>99.270355</td>\n",
       "      <td>95.0</td>\n",
       "    </tr>\n",
       "    <tr>\n",
       "      <th>4</th>\n",
       "      <td>99.270355</td>\n",
       "      <td>95.0</td>\n",
       "    </tr>\n",
       "    <tr>\n",
       "      <th>...</th>\n",
       "      <td>...</td>\n",
       "      <td>...</td>\n",
       "    </tr>\n",
       "    <tr>\n",
       "      <th>196</th>\n",
       "      <td>147.615952</td>\n",
       "      <td>157.0</td>\n",
       "    </tr>\n",
       "    <tr>\n",
       "      <th>197</th>\n",
       "      <td>147.615952</td>\n",
       "      <td>157.0</td>\n",
       "    </tr>\n",
       "    <tr>\n",
       "      <th>198</th>\n",
       "      <td>147.616486</td>\n",
       "      <td>157.0</td>\n",
       "    </tr>\n",
       "    <tr>\n",
       "      <th>199</th>\n",
       "      <td>147.616486</td>\n",
       "      <td>122.0</td>\n",
       "    </tr>\n",
       "    <tr>\n",
       "      <th>200</th>\n",
       "      <td>98.158310</td>\n",
       "      <td>122.0</td>\n",
       "    </tr>\n",
       "  </tbody>\n",
       "</table>\n",
       "<p>201 rows × 2 columns</p>\n",
       "</div>"
      ],
      "text/plain": [
       "     Train Predictions  Actuals\n",
       "0            99.270355     95.0\n",
       "1            99.270355     95.0\n",
       "2            99.270355     95.0\n",
       "3            99.270355     95.0\n",
       "4            99.270355     95.0\n",
       "..                 ...      ...\n",
       "196         147.615952    157.0\n",
       "197         147.615952    157.0\n",
       "198         147.616486    157.0\n",
       "199         147.616486    122.0\n",
       "200          98.158310    122.0\n",
       "\n",
       "[201 rows x 2 columns]"
      ]
     },
     "execution_count": 45,
     "metadata": {},
     "output_type": "execute_result"
    }
   ],
   "source": [
    "val_predictions = model5.predict(X_val1).flatten()\n",
    "val_results = pd.DataFrame(data={'Train Predictions':val_predictions, 'Actuals':y_val1})\n",
    "val_results"
   ]
  },
  {
   "cell_type": "code",
   "execution_count": 46,
   "id": "40f592f4",
   "metadata": {
    "execution": {
     "iopub.execute_input": "2025-01-28T03:15:38.277548Z",
     "iopub.status.busy": "2025-01-28T03:15:38.277214Z",
     "iopub.status.idle": "2025-01-28T03:15:38.450435Z",
     "shell.execute_reply": "2025-01-28T03:15:38.449367Z"
    },
    "papermill": {
     "duration": 0.230829,
     "end_time": "2025-01-28T03:15:38.452179",
     "exception": false,
     "start_time": "2025-01-28T03:15:38.221350",
     "status": "completed"
    },
    "tags": []
   },
   "outputs": [
    {
     "data": {
      "image/png": "[encoded data removed]",
      "text/plain": [
       "<Figure size 640x480 with 1 Axes>"
      ]
     },
     "metadata": {},
     "output_type": "display_data"
    }
   ],
   "source": [
    "plt.plot(val_results['Actuals'][1:50], label='Actual')\n",
    "plt.plot(val_results['Train Predictions'][1:50], label='Predicted')\n",
    "plt.legend()\n",
    "plt.show()"
   ]
  },
  {
   "cell_type": "code",
   "execution_count": 47,
   "id": "30ccc84d",
   "metadata": {
    "execution": {
     "iopub.execute_input": "2025-01-28T03:15:38.565026Z",
     "iopub.status.busy": "2025-01-28T03:15:38.564650Z",
     "iopub.status.idle": "2025-01-28T03:15:38.658464Z",
     "shell.execute_reply": "2025-01-28T03:15:38.657229Z"
    },
    "papermill": {
     "duration": 0.152761,
     "end_time": "2025-01-28T03:15:38.660169",
     "exception": false,
     "start_time": "2025-01-28T03:15:38.507408",
     "status": "completed"
    },
    "tags": []
   },
   "outputs": [
    {
     "name": "stdout",
     "output_type": "stream",
     "text": [
      "\u001b[1m7/7\u001b[0m \u001b[32m━━━━━━━━━━━━━━━━━━━━\u001b[0m\u001b[37m\u001b[0m \u001b[1m0s\u001b[0m 2ms/step \n"
     ]
    },
    {
     "data": {
      "text/html": [
       "<div>\n",
       "<style scoped>\n",
       "    .dataframe tbody tr th:only-of-type {\n",
       "        vertical-align: middle;\n",
       "    }\n",
       "\n",
       "    .dataframe tbody tr th {\n",
       "        vertical-align: top;\n",
       "    }\n",
       "\n",
       "    .dataframe thead th {\n",
       "        text-align: right;\n",
       "    }\n",
       "</style>\n",
       "<table border=\"1\" class=\"dataframe\">\n",
       "  <thead>\n",
       "    <tr style=\"text-align: right;\">\n",
       "      <th></th>\n",
       "      <th>Train Predictions</th>\n",
       "      <th>Actuals</th>\n",
       "    </tr>\n",
       "  </thead>\n",
       "  <tbody>\n",
       "    <tr>\n",
       "      <th>0</th>\n",
       "      <td>96.951843</td>\n",
       "      <td>122.0</td>\n",
       "    </tr>\n",
       "    <tr>\n",
       "      <th>1</th>\n",
       "      <td>96.951843</td>\n",
       "      <td>122.0</td>\n",
       "    </tr>\n",
       "    <tr>\n",
       "      <th>2</th>\n",
       "      <td>96.951843</td>\n",
       "      <td>122.0</td>\n",
       "    </tr>\n",
       "    <tr>\n",
       "      <th>3</th>\n",
       "      <td>96.951843</td>\n",
       "      <td>122.0</td>\n",
       "    </tr>\n",
       "    <tr>\n",
       "      <th>4</th>\n",
       "      <td>96.951843</td>\n",
       "      <td>122.0</td>\n",
       "    </tr>\n",
       "    <tr>\n",
       "      <th>...</th>\n",
       "      <td>...</td>\n",
       "      <td>...</td>\n",
       "    </tr>\n",
       "    <tr>\n",
       "      <th>197</th>\n",
       "      <td>318.339417</td>\n",
       "      <td>294.0</td>\n",
       "    </tr>\n",
       "    <tr>\n",
       "      <th>198</th>\n",
       "      <td>301.019989</td>\n",
       "      <td>267.0</td>\n",
       "    </tr>\n",
       "    <tr>\n",
       "      <th>199</th>\n",
       "      <td>158.616516</td>\n",
       "      <td>223.0</td>\n",
       "    </tr>\n",
       "    <tr>\n",
       "      <th>200</th>\n",
       "      <td>310.835632</td>\n",
       "      <td>252.0</td>\n",
       "    </tr>\n",
       "    <tr>\n",
       "      <th>201</th>\n",
       "      <td>290.907043</td>\n",
       "      <td>333.0</td>\n",
       "    </tr>\n",
       "  </tbody>\n",
       "</table>\n",
       "<p>202 rows × 2 columns</p>\n",
       "</div>"
      ],
      "text/plain": [
       "     Train Predictions  Actuals\n",
       "0            96.951843    122.0\n",
       "1            96.951843    122.0\n",
       "2            96.951843    122.0\n",
       "3            96.951843    122.0\n",
       "4            96.951843    122.0\n",
       "..                 ...      ...\n",
       "197         318.339417    294.0\n",
       "198         301.019989    267.0\n",
       "199         158.616516    223.0\n",
       "200         310.835632    252.0\n",
       "201         290.907043    333.0\n",
       "\n",
       "[202 rows x 2 columns]"
      ]
     },
     "execution_count": 47,
     "metadata": {},
     "output_type": "execute_result"
    }
   ],
   "source": [
    "test_predictions = model5.predict(X_test1).flatten()\n",
    "test_results = pd.DataFrame(data={'Train Predictions':test_predictions, 'Actuals':y_test1})\n",
    "test_results"
   ]
  },
  {
   "cell_type": "code",
   "execution_count": 48,
   "id": "15b0a7d1",
   "metadata": {
    "execution": {
     "iopub.execute_input": "2025-01-28T03:15:38.774901Z",
     "iopub.status.busy": "2025-01-28T03:15:38.774498Z",
     "iopub.status.idle": "2025-01-28T03:15:38.950712Z",
     "shell.execute_reply": "2025-01-28T03:15:38.949651Z"
    },
    "papermill": {
     "duration": 0.235497,
     "end_time": "2025-01-28T03:15:38.952823",
     "exception": false,
     "start_time": "2025-01-28T03:15:38.717326",
     "status": "completed"
    },
    "tags": []
   },
   "outputs": [
    {
     "data": {
      "image/png": "[encoded data removed]",
      "text/plain": [
       "<Figure size 640x480 with 1 Axes>"
      ]
     },
     "metadata": {},
     "output_type": "display_data"
    }
   ],
   "source": [
    "plt.plot(test_results['Train Predictions'][1:50], label='Predicted')\n",
    "plt.plot(test_results['Actuals'][1:50], label='Actual')\n",
    "plt.legend()\n",
    "plt.show()"
   ]
  },
  {
   "cell_type": "markdown",
   "id": "3816e473",
   "metadata": {
    "papermill": {
     "duration": 0.05734,
     "end_time": "2025-01-28T03:15:39.069566",
     "exception": false,
     "start_time": "2025-01-28T03:15:39.012226",
     "status": "completed"
    },
    "tags": []
   },
   "source": [
    "### Hybrid CNN + LSTM¶"
   ]
  },
  {
   "cell_type": "code",
   "execution_count": 49,
   "id": "49e374e7",
   "metadata": {
    "execution": {
     "iopub.execute_input": "2025-01-28T03:15:39.187781Z",
     "iopub.status.busy": "2025-01-28T03:15:39.187421Z",
     "iopub.status.idle": "2025-01-28T03:16:02.580992Z",
     "shell.execute_reply": "2025-01-28T03:16:02.579927Z"
    },
    "papermill": {
     "duration": 23.454676,
     "end_time": "2025-01-28T03:16:02.582820",
     "exception": false,
     "start_time": "2025-01-28T03:15:39.128144",
     "status": "completed"
    },
    "tags": []
   },
   "outputs": [
    {
     "name": "stdout",
     "output_type": "stream",
     "text": [
      "Epoch 1/100\n",
      "\u001b[1m52/52\u001b[0m \u001b[32m━━━━━━━━━━━━━━━━━━━━\u001b[0m\u001b[37m\u001b[0m \u001b[1m3s\u001b[0m 10ms/step - loss: 21222.1270 - root_mean_squared_error: 145.2220 - val_loss: 10423.8916 - val_root_mean_squared_error: 102.0975\n",
      "Epoch 2/100\n",
      "\u001b[1m52/52\u001b[0m \u001b[32m━━━━━━━━━━━━━━━━━━━━\u001b[0m\u001b[37m\u001b[0m \u001b[1m0s\u001b[0m 4ms/step - loss: 12083.0850 - root_mean_squared_error: 109.7481 - val_loss: 6390.4932 - val_root_mean_squared_error: 79.9406\n",
      "Epoch 3/100\n",
      "\u001b[1m52/52\u001b[0m \u001b[32m━━━━━━━━━━━━━━━━━━━━\u001b[0m\u001b[37m\u001b[0m \u001b[1m0s\u001b[0m 4ms/step - loss: 8882.6709 - root_mean_squared_error: 94.2388 - val_loss: 5248.4277 - val_root_mean_squared_error: 72.4460\n",
      "Epoch 4/100\n",
      "\u001b[1m52/52\u001b[0m \u001b[32m━━━━━━━━━━━━━━━━━━━━\u001b[0m\u001b[37m\u001b[0m \u001b[1m0s\u001b[0m 4ms/step - loss: 7708.6714 - root_mean_squared_error: 87.7856 - val_loss: 4423.8247 - val_root_mean_squared_error: 66.5118\n",
      "Epoch 5/100\n",
      "\u001b[1m52/52\u001b[0m \u001b[32m━━━━━━━━━━━━━━━━━━━━\u001b[0m\u001b[37m\u001b[0m \u001b[1m0s\u001b[0m 4ms/step - loss: 6830.4756 - root_mean_squared_error: 82.6039 - val_loss: 4298.9258 - val_root_mean_squared_error: 65.5662\n",
      "Epoch 6/100\n",
      "\u001b[1m52/52\u001b[0m \u001b[32m━━━━━━━━━━━━━━━━━━━━\u001b[0m\u001b[37m\u001b[0m \u001b[1m0s\u001b[0m 4ms/step - loss: 5933.9194 - root_mean_squared_error: 77.0154 - val_loss: 4037.7371 - val_root_mean_squared_error: 63.5432\n",
      "Epoch 7/100\n",
      "\u001b[1m52/52\u001b[0m \u001b[32m━━━━━━━━━━━━━━━━━━━━\u001b[0m\u001b[37m\u001b[0m \u001b[1m0s\u001b[0m 4ms/step - loss: 5321.3311 - root_mean_squared_error: 72.8756 - val_loss: 4025.1716 - val_root_mean_squared_error: 63.4442\n",
      "Epoch 8/100\n",
      "\u001b[1m52/52\u001b[0m \u001b[32m━━━━━━━━━━━━━━━━━━━━\u001b[0m\u001b[37m\u001b[0m \u001b[1m0s\u001b[0m 4ms/step - loss: 4551.5122 - root_mean_squared_error: 67.4299 - val_loss: 3762.6321 - val_root_mean_squared_error: 61.3403\n",
      "Epoch 9/100\n",
      "\u001b[1m52/52\u001b[0m \u001b[32m━━━━━━━━━━━━━━━━━━━━\u001b[0m\u001b[37m\u001b[0m \u001b[1m0s\u001b[0m 3ms/step - loss: 4702.9702 - root_mean_squared_error: 68.5500 - val_loss: 4119.1992 - val_root_mean_squared_error: 64.1810\n",
      "Epoch 10/100\n",
      "\u001b[1m52/52\u001b[0m \u001b[32m━━━━━━━━━━━━━━━━━━━━\u001b[0m\u001b[37m\u001b[0m \u001b[1m0s\u001b[0m 3ms/step - loss: 4295.9565 - root_mean_squared_error: 65.4597 - val_loss: 3935.3169 - val_root_mean_squared_error: 62.7321\n",
      "Epoch 11/100\n",
      "\u001b[1m52/52\u001b[0m \u001b[32m━━━━━━━━━━━━━━━━━━━━\u001b[0m\u001b[37m\u001b[0m \u001b[1m0s\u001b[0m 3ms/step - loss: 4020.6196 - root_mean_squared_error: 63.3872 - val_loss: 3775.7842 - val_root_mean_squared_error: 61.4474\n",
      "Epoch 12/100\n",
      "\u001b[1m52/52\u001b[0m \u001b[32m━━━━━━━━━━━━━━━━━━━━\u001b[0m\u001b[37m\u001b[0m \u001b[1m0s\u001b[0m 3ms/step - loss: 3761.2622 - root_mean_squared_error: 61.3102 - val_loss: 4109.5894 - val_root_mean_squared_error: 64.1061\n",
      "Epoch 13/100\n",
      "\u001b[1m52/52\u001b[0m \u001b[32m━━━━━━━━━━━━━━━━━━━━\u001b[0m\u001b[37m\u001b[0m \u001b[1m0s\u001b[0m 3ms/step - loss: 3576.2659 - root_mean_squared_error: 59.7825 - val_loss: 4158.4009 - val_root_mean_squared_error: 64.4857\n",
      "Epoch 14/100\n",
      "\u001b[1m52/52\u001b[0m \u001b[32m━━━━━━━━━━━━━━━━━━━━\u001b[0m\u001b[37m\u001b[0m \u001b[1m0s\u001b[0m 3ms/step - loss: 3649.8613 - root_mean_squared_error: 60.3884 - val_loss: 3998.1174 - val_root_mean_squared_error: 63.2307\n",
      "Epoch 15/100\n",
      "\u001b[1m52/52\u001b[0m \u001b[32m━━━━━━━━━━━━━━━━━━━━\u001b[0m\u001b[37m\u001b[0m \u001b[1m0s\u001b[0m 3ms/step - loss: 3393.3835 - root_mean_squared_error: 58.2191 - val_loss: 4120.5693 - val_root_mean_squared_error: 64.1917\n",
      "Epoch 16/100\n",
      "\u001b[1m52/52\u001b[0m \u001b[32m━━━━━━━━━━━━━━━━━━━━\u001b[0m\u001b[37m\u001b[0m \u001b[1m0s\u001b[0m 3ms/step - loss: 3311.4214 - root_mean_squared_error: 57.5271 - val_loss: 4526.2363 - val_root_mean_squared_error: 67.2773\n",
      "Epoch 17/100\n",
      "\u001b[1m52/52\u001b[0m \u001b[32m━━━━━━━━━━━━━━━━━━━━\u001b[0m\u001b[37m\u001b[0m \u001b[1m0s\u001b[0m 3ms/step - loss: 3455.4495 - root_mean_squared_error: 58.7530 - val_loss: 4114.6621 - val_root_mean_squared_error: 64.1456\n",
      "Epoch 18/100\n",
      "\u001b[1m52/52\u001b[0m \u001b[32m━━━━━━━━━━━━━━━━━━━━\u001b[0m\u001b[37m\u001b[0m \u001b[1m0s\u001b[0m 3ms/step - loss: 3517.8193 - root_mean_squared_error: 59.3019 - val_loss: 4116.4248 - val_root_mean_squared_error: 64.1594\n",
      "Epoch 19/100\n",
      "\u001b[1m52/52\u001b[0m \u001b[32m━━━━━━━━━━━━━━━━━━━━\u001b[0m\u001b[37m\u001b[0m \u001b[1m0s\u001b[0m 3ms/step - loss: 3554.8071 - root_mean_squared_error: 59.5843 - val_loss: 4535.5952 - val_root_mean_squared_error: 67.3468\n",
      "Epoch 20/100\n",
      "\u001b[1m52/52\u001b[0m \u001b[32m━━━━━━━━━━━━━━━━━━━━\u001b[0m\u001b[37m\u001b[0m \u001b[1m0s\u001b[0m 4ms/step - loss: 3329.3169 - root_mean_squared_error: 57.6623 - val_loss: 4574.4482 - val_root_mean_squared_error: 67.6347\n",
      "Epoch 21/100\n",
      "\u001b[1m52/52\u001b[0m \u001b[32m━━━━━━━━━━━━━━━━━━━━\u001b[0m\u001b[37m\u001b[0m \u001b[1m0s\u001b[0m 3ms/step - loss: 3172.5281 - root_mean_squared_error: 56.2823 - val_loss: 4331.2461 - val_root_mean_squared_error: 65.8122\n",
      "Epoch 22/100\n",
      "\u001b[1m52/52\u001b[0m \u001b[32m━━━━━━━━━━━━━━━━━━━━\u001b[0m\u001b[37m\u001b[0m \u001b[1m0s\u001b[0m 3ms/step - loss: 3103.0891 - root_mean_squared_error: 55.5639 - val_loss: 4372.8369 - val_root_mean_squared_error: 66.1274\n",
      "Epoch 23/100\n",
      "\u001b[1m52/52\u001b[0m \u001b[32m━━━━━━━━━━━━━━━━━━━━\u001b[0m\u001b[37m\u001b[0m \u001b[1m0s\u001b[0m 3ms/step - loss: 3096.2356 - root_mean_squared_error: 55.5943 - val_loss: 4466.3516 - val_root_mean_squared_error: 66.8308\n",
      "Epoch 24/100\n",
      "\u001b[1m52/52\u001b[0m \u001b[32m━━━━━━━━━━━━━━━━━━━━\u001b[0m\u001b[37m\u001b[0m \u001b[1m0s\u001b[0m 3ms/step - loss: 2944.9888 - root_mean_squared_error: 54.2495 - val_loss: 4622.5894 - val_root_mean_squared_error: 67.9896\n",
      "Epoch 25/100\n",
      "\u001b[1m52/52\u001b[0m \u001b[32m━━━━━━━━━━━━━━━━━━━━\u001b[0m\u001b[37m\u001b[0m \u001b[1m0s\u001b[0m 3ms/step - loss: 3116.6484 - root_mean_squared_error: 55.7878 - val_loss: 4339.5151 - val_root_mean_squared_error: 65.8750\n",
      "Epoch 26/100\n",
      "\u001b[1m52/52\u001b[0m \u001b[32m━━━━━━━━━━━━━━━━━━━━\u001b[0m\u001b[37m\u001b[0m \u001b[1m0s\u001b[0m 3ms/step - loss: 2962.3691 - root_mean_squared_error: 54.4121 - val_loss: 4406.1431 - val_root_mean_squared_error: 66.3788\n",
      "Epoch 27/100\n",
      "\u001b[1m52/52\u001b[0m \u001b[32m━━━━━━━━━━━━━━━━━━━━\u001b[0m\u001b[37m\u001b[0m \u001b[1m0s\u001b[0m 3ms/step - loss: 3280.9570 - root_mean_squared_error: 57.2132 - val_loss: 4774.9731 - val_root_mean_squared_error: 69.1012\n",
      "Epoch 28/100\n",
      "\u001b[1m52/52\u001b[0m \u001b[32m━━━━━━━━━━━━━━━━━━━━\u001b[0m\u001b[37m\u001b[0m \u001b[1m0s\u001b[0m 3ms/step - loss: 2826.4617 - root_mean_squared_error: 53.1272 - val_loss: 4841.0396 - val_root_mean_squared_error: 69.5776\n",
      "Epoch 29/100\n",
      "\u001b[1m52/52\u001b[0m \u001b[32m━━━━━━━━━━━━━━━━━━━━\u001b[0m\u001b[37m\u001b[0m \u001b[1m0s\u001b[0m 3ms/step - loss: 2874.6021 - root_mean_squared_error: 53.5803 - val_loss: 4262.7500 - val_root_mean_squared_error: 65.2897\n",
      "Epoch 30/100\n",
      "\u001b[1m52/52\u001b[0m \u001b[32m━━━━━━━━━━━━━━━━━━━━\u001b[0m\u001b[37m\u001b[0m \u001b[1m0s\u001b[0m 4ms/step - loss: 2913.1738 - root_mean_squared_error: 53.8734 - val_loss: 4559.7202 - val_root_mean_squared_error: 67.5257\n",
      "Epoch 31/100\n",
      "\u001b[1m52/52\u001b[0m \u001b[32m━━━━━━━━━━━━━━━━━━━━\u001b[0m\u001b[37m\u001b[0m \u001b[1m0s\u001b[0m 4ms/step - loss: 2824.6196 - root_mean_squared_error: 53.1283 - val_loss: 4632.9448 - val_root_mean_squared_error: 68.0657\n",
      "Epoch 32/100\n",
      "\u001b[1m52/52\u001b[0m \u001b[32m━━━━━━━━━━━━━━━━━━━━\u001b[0m\u001b[37m\u001b[0m \u001b[1m0s\u001b[0m 4ms/step - loss: 2998.1235 - root_mean_squared_error: 54.7270 - val_loss: 4710.1587 - val_root_mean_squared_error: 68.6306\n",
      "Epoch 33/100\n",
      "\u001b[1m52/52\u001b[0m \u001b[32m━━━━━━━━━━━━━━━━━━━━\u001b[0m\u001b[37m\u001b[0m \u001b[1m0s\u001b[0m 4ms/step - loss: 2972.2788 - root_mean_squared_error: 54.5078 - val_loss: 4339.0469 - val_root_mean_squared_error: 65.8714\n",
      "Epoch 34/100\n",
      "\u001b[1m52/52\u001b[0m \u001b[32m━━━━━━━━━━━━━━━━━━━━\u001b[0m\u001b[37m\u001b[0m \u001b[1m0s\u001b[0m 4ms/step - loss: 3168.3777 - root_mean_squared_error: 56.2429 - val_loss: 4591.1035 - val_root_mean_squared_error: 67.7577\n",
      "Epoch 35/100\n",
      "\u001b[1m52/52\u001b[0m \u001b[32m━━━━━━━━━━━━━━━━━━━━\u001b[0m\u001b[37m\u001b[0m \u001b[1m0s\u001b[0m 4ms/step - loss: 2582.6272 - root_mean_squared_error: 50.7997 - val_loss: 4863.2085 - val_root_mean_squared_error: 69.7367\n",
      "Epoch 36/100\n",
      "\u001b[1m52/52\u001b[0m \u001b[32m━━━━━━━━━━━━━━━━━━━━\u001b[0m\u001b[37m\u001b[0m \u001b[1m0s\u001b[0m 4ms/step - loss: 2741.0085 - root_mean_squared_error: 52.3381 - val_loss: 4426.2563 - val_root_mean_squared_error: 66.5301\n",
      "Epoch 37/100\n",
      "\u001b[1m52/52\u001b[0m \u001b[32m━━━━━━━━━━━━━━━━━━━━\u001b[0m\u001b[37m\u001b[0m \u001b[1m0s\u001b[0m 4ms/step - loss: 2866.3352 - root_mean_squared_error: 53.4929 - val_loss: 4514.1704 - val_root_mean_squared_error: 67.1876\n",
      "Epoch 38/100\n",
      "\u001b[1m52/52\u001b[0m \u001b[32m━━━━━━━━━━━━━━━━━━━━\u001b[0m\u001b[37m\u001b[0m \u001b[1m0s\u001b[0m 3ms/step - loss: 2976.8127 - root_mean_squared_error: 54.5118 - val_loss: 4477.7681 - val_root_mean_squared_error: 66.9161\n",
      "Epoch 39/100\n",
      "\u001b[1m52/52\u001b[0m \u001b[32m━━━━━━━━━━━━━━━━━━━━\u001b[0m\u001b[37m\u001b[0m \u001b[1m0s\u001b[0m 3ms/step - loss: 2703.3518 - root_mean_squared_error: 51.9853 - val_loss: 5335.5835 - val_root_mean_squared_error: 73.0451\n",
      "Epoch 40/100\n",
      "\u001b[1m52/52\u001b[0m \u001b[32m━━━━━━━━━━━━━━━━━━━━\u001b[0m\u001b[37m\u001b[0m \u001b[1m0s\u001b[0m 3ms/step - loss: 2768.7034 - root_mean_squared_error: 52.5971 - val_loss: 4800.9023 - val_root_mean_squared_error: 69.2885\n",
      "Epoch 41/100\n",
      "\u001b[1m52/52\u001b[0m \u001b[32m━━━━━━━━━━━━━━━━━━━━\u001b[0m\u001b[37m\u001b[0m \u001b[1m0s\u001b[0m 3ms/step - loss: 2829.9434 - root_mean_squared_error: 53.1749 - val_loss: 4413.4966 - val_root_mean_squared_error: 66.4342\n",
      "Epoch 42/100\n",
      "\u001b[1m52/52\u001b[0m \u001b[32m━━━━━━━━━━━━━━━━━━━━\u001b[0m\u001b[37m\u001b[0m \u001b[1m0s\u001b[0m 3ms/step - loss: 2537.2065 - root_mean_squared_error: 50.3291 - val_loss: 4524.6099 - val_root_mean_squared_error: 67.2652\n",
      "Epoch 43/100\n",
      "\u001b[1m52/52\u001b[0m \u001b[32m━━━━━━━━━━━━━━━━━━━━\u001b[0m\u001b[37m\u001b[0m \u001b[1m0s\u001b[0m 3ms/step - loss: 2935.7815 - root_mean_squared_error: 54.1272 - val_loss: 5157.2588 - val_root_mean_squared_error: 71.8141\n",
      "Epoch 44/100\n",
      "\u001b[1m52/52\u001b[0m \u001b[32m━━━━━━━━━━━━━━━━━━━━\u001b[0m\u001b[37m\u001b[0m \u001b[1m0s\u001b[0m 3ms/step - loss: 2657.0276 - root_mean_squared_error: 51.4540 - val_loss: 5014.3257 - val_root_mean_squared_error: 70.8119\n",
      "Epoch 45/100\n",
      "\u001b[1m52/52\u001b[0m \u001b[32m━━━━━━━━━━━━━━━━━━━━\u001b[0m\u001b[37m\u001b[0m \u001b[1m0s\u001b[0m 3ms/step - loss: 2860.9780 - root_mean_squared_error: 53.3880 - val_loss: 5182.0625 - val_root_mean_squared_error: 71.9865\n",
      "Epoch 46/100\n",
      "\u001b[1m52/52\u001b[0m \u001b[32m━━━━━━━━━━━━━━━━━━━━\u001b[0m\u001b[37m\u001b[0m \u001b[1m0s\u001b[0m 3ms/step - loss: 2953.0977 - root_mean_squared_error: 54.2994 - val_loss: 4904.4023 - val_root_mean_squared_error: 70.0314\n",
      "Epoch 47/100\n",
      "\u001b[1m52/52\u001b[0m \u001b[32m━━━━━━━━━━━━━━━━━━━━\u001b[0m\u001b[37m\u001b[0m \u001b[1m0s\u001b[0m 3ms/step - loss: 2649.1738 - root_mean_squared_error: 51.4300 - val_loss: 4417.1680 - val_root_mean_squared_error: 66.4618\n",
      "Epoch 48/100\n",
      "\u001b[1m52/52\u001b[0m \u001b[32m━━━━━━━━━━━━━━━━━━━━\u001b[0m\u001b[37m\u001b[0m \u001b[1m0s\u001b[0m 3ms/step - loss: 2747.6731 - root_mean_squared_error: 52.4005 - val_loss: 4493.9565 - val_root_mean_squared_error: 67.0370\n",
      "Epoch 49/100\n",
      "\u001b[1m52/52\u001b[0m \u001b[32m━━━━━━━━━━━━━━━━━━━━\u001b[0m\u001b[37m\u001b[0m \u001b[1m0s\u001b[0m 4ms/step - loss: 2664.0212 - root_mean_squared_error: 51.6093 - val_loss: 5252.6689 - val_root_mean_squared_error: 72.4753\n",
      "Epoch 50/100\n",
      "\u001b[1m52/52\u001b[0m \u001b[32m━━━━━━━━━━━━━━━━━━━━\u001b[0m\u001b[37m\u001b[0m \u001b[1m0s\u001b[0m 3ms/step - loss: 2795.4580 - root_mean_squared_error: 52.8616 - val_loss: 4933.8872 - val_root_mean_squared_error: 70.2416\n",
      "Epoch 51/100\n",
      "\u001b[1m52/52\u001b[0m \u001b[32m━━━━━━━━━━━━━━━━━━━━\u001b[0m\u001b[37m\u001b[0m \u001b[1m0s\u001b[0m 3ms/step - loss: 2834.6899 - root_mean_squared_error: 53.2296 - val_loss: 5138.2368 - val_root_mean_squared_error: 71.6815\n",
      "Epoch 52/100\n",
      "\u001b[1m52/52\u001b[0m \u001b[32m━━━━━━━━━━━━━━━━━━━━\u001b[0m\u001b[37m\u001b[0m \u001b[1m0s\u001b[0m 3ms/step - loss: 2540.8914 - root_mean_squared_error: 50.3851 - val_loss: 4702.2144 - val_root_mean_squared_error: 68.5727\n",
      "Epoch 53/100\n",
      "\u001b[1m52/52\u001b[0m \u001b[32m━━━━━━━━━━━━━━━━━━━━\u001b[0m\u001b[37m\u001b[0m \u001b[1m0s\u001b[0m 3ms/step - loss: 2589.8625 - root_mean_squared_error: 50.8730 - val_loss: 4642.1514 - val_root_mean_squared_error: 68.1333\n",
      "Epoch 54/100\n",
      "\u001b[1m52/52\u001b[0m \u001b[32m━━━━━━━━━━━━━━━━━━━━\u001b[0m\u001b[37m\u001b[0m \u001b[1m0s\u001b[0m 3ms/step - loss: 2683.4880 - root_mean_squared_error: 51.7674 - val_loss: 4889.3477 - val_root_mean_squared_error: 69.9239\n",
      "Epoch 55/100\n",
      "\u001b[1m52/52\u001b[0m \u001b[32m━━━━━━━━━━━━━━━━━━━━\u001b[0m\u001b[37m\u001b[0m \u001b[1m0s\u001b[0m 3ms/step - loss: 2481.1846 - root_mean_squared_error: 49.7868 - val_loss: 4828.6826 - val_root_mean_squared_error: 69.4887\n",
      "Epoch 56/100\n",
      "\u001b[1m52/52\u001b[0m \u001b[32m━━━━━━━━━━━━━━━━━━━━\u001b[0m\u001b[37m\u001b[0m \u001b[1m0s\u001b[0m 3ms/step - loss: 2723.7615 - root_mean_squared_error: 52.1135 - val_loss: 4641.7964 - val_root_mean_squared_error: 68.1307\n",
      "Epoch 57/100\n",
      "\u001b[1m52/52\u001b[0m \u001b[32m━━━━━━━━━━━━━━━━━━━━\u001b[0m\u001b[37m\u001b[0m \u001b[1m0s\u001b[0m 3ms/step - loss: 3037.1167 - root_mean_squared_error: 55.0667 - val_loss: 5156.0288 - val_root_mean_squared_error: 71.8055\n",
      "Epoch 58/100\n",
      "\u001b[1m52/52\u001b[0m \u001b[32m━━━━━━━━━━━━━━━━━━━━\u001b[0m\u001b[37m\u001b[0m \u001b[1m0s\u001b[0m 3ms/step - loss: 2498.0317 - root_mean_squared_error: 49.9571 - val_loss: 4984.3779 - val_root_mean_squared_error: 70.6001\n",
      "Epoch 59/100\n",
      "\u001b[1m52/52\u001b[0m \u001b[32m━━━━━━━━━━━━━━━━━━━━\u001b[0m\u001b[37m\u001b[0m \u001b[1m0s\u001b[0m 3ms/step - loss: 2564.1160 - root_mean_squared_error: 50.5795 - val_loss: 5160.8481 - val_root_mean_squared_error: 71.8390\n",
      "Epoch 60/100\n",
      "\u001b[1m52/52\u001b[0m \u001b[32m━━━━━━━━━━━━━━━━━━━━\u001b[0m\u001b[37m\u001b[0m \u001b[1m0s\u001b[0m 3ms/step - loss: 2559.2053 - root_mean_squared_error: 50.5692 - val_loss: 4757.5815 - val_root_mean_squared_error: 68.9752\n",
      "Epoch 61/100\n",
      "\u001b[1m52/52\u001b[0m \u001b[32m━━━━━━━━━━━━━━━━━━━━\u001b[0m\u001b[37m\u001b[0m \u001b[1m0s\u001b[0m 3ms/step - loss: 2594.5193 - root_mean_squared_error: 50.8161 - val_loss: 5091.8647 - val_root_mean_squared_error: 71.3573\n",
      "Epoch 62/100\n",
      "\u001b[1m52/52\u001b[0m \u001b[32m━━━━━━━━━━━━━━━━━━━━\u001b[0m\u001b[37m\u001b[0m \u001b[1m0s\u001b[0m 3ms/step - loss: 2495.5374 - root_mean_squared_error: 49.9381 - val_loss: 4627.6528 - val_root_mean_squared_error: 68.0269\n",
      "Epoch 63/100\n",
      "\u001b[1m52/52\u001b[0m \u001b[32m━━━━━━━━━━━━━━━━━━━━\u001b[0m\u001b[37m\u001b[0m \u001b[1m0s\u001b[0m 3ms/step - loss: 2432.6782 - root_mean_squared_error: 49.2908 - val_loss: 5461.1187 - val_root_mean_squared_error: 73.8994\n",
      "Epoch 64/100\n",
      "\u001b[1m52/52\u001b[0m \u001b[32m━━━━━━━━━━━━━━━━━━━━\u001b[0m\u001b[37m\u001b[0m \u001b[1m0s\u001b[0m 3ms/step - loss: 2555.8198 - root_mean_squared_error: 50.5125 - val_loss: 4757.9253 - val_root_mean_squared_error: 68.9777\n",
      "Epoch 65/100\n",
      "\u001b[1m52/52\u001b[0m \u001b[32m━━━━━━━━━━━━━━━━━━━━\u001b[0m\u001b[37m\u001b[0m \u001b[1m0s\u001b[0m 3ms/step - loss: 2318.0410 - root_mean_squared_error: 47.9588 - val_loss: 5171.2808 - val_root_mean_squared_error: 71.9116\n",
      "Epoch 66/100\n",
      "\u001b[1m52/52\u001b[0m \u001b[32m━━━━━━━━━━━━━━━━━━━━\u001b[0m\u001b[37m\u001b[0m \u001b[1m0s\u001b[0m 3ms/step - loss: 2200.1350 - root_mean_squared_error: 46.8277 - val_loss: 5031.1714 - val_root_mean_squared_error: 70.9307\n",
      "Epoch 67/100\n",
      "\u001b[1m52/52\u001b[0m \u001b[32m━━━━━━━━━━━━━━━━━━━━\u001b[0m\u001b[37m\u001b[0m \u001b[1m0s\u001b[0m 3ms/step - loss: 2442.2039 - root_mean_squared_error: 49.3713 - val_loss: 4719.8096 - val_root_mean_squared_error: 68.7009\n",
      "Epoch 68/100\n",
      "\u001b[1m52/52\u001b[0m \u001b[32m━━━━━━━━━━━━━━━━━━━━\u001b[0m\u001b[37m\u001b[0m \u001b[1m0s\u001b[0m 3ms/step - loss: 2445.0027 - root_mean_squared_error: 49.4123 - val_loss: 4530.2856 - val_root_mean_squared_error: 67.3074\n",
      "Epoch 69/100\n",
      "\u001b[1m52/52\u001b[0m \u001b[32m━━━━━━━━━━━━━━━━━━━━\u001b[0m\u001b[37m\u001b[0m \u001b[1m0s\u001b[0m 3ms/step - loss: 2322.4917 - root_mean_squared_error: 48.1500 - val_loss: 4846.3037 - val_root_mean_squared_error: 69.6154\n",
      "Epoch 70/100\n",
      "\u001b[1m52/52\u001b[0m \u001b[32m━━━━━━━━━━━━━━━━━━━━\u001b[0m\u001b[37m\u001b[0m \u001b[1m0s\u001b[0m 3ms/step - loss: 2599.8167 - root_mean_squared_error: 50.9459 - val_loss: 5381.5029 - val_root_mean_squared_error: 73.3587\n",
      "Epoch 71/100\n",
      "\u001b[1m52/52\u001b[0m \u001b[32m━━━━━━━━━━━━━━━━━━━━\u001b[0m\u001b[37m\u001b[0m \u001b[1m0s\u001b[0m 3ms/step - loss: 2340.2134 - root_mean_squared_error: 48.3498 - val_loss: 4578.5688 - val_root_mean_squared_error: 67.6651\n",
      "Epoch 72/100\n",
      "\u001b[1m52/52\u001b[0m \u001b[32m━━━━━━━━━━━━━━━━━━━━\u001b[0m\u001b[37m\u001b[0m \u001b[1m0s\u001b[0m 3ms/step - loss: 2820.3179 - root_mean_squared_error: 53.0304 - val_loss: 5031.7812 - val_root_mean_squared_error: 70.9351\n",
      "Epoch 73/100\n",
      "\u001b[1m52/52\u001b[0m \u001b[32m━━━━━━━━━━━━━━━━━━━━\u001b[0m\u001b[37m\u001b[0m \u001b[1m0s\u001b[0m 3ms/step - loss: 2507.8906 - root_mean_squared_error: 50.0426 - val_loss: 4630.3350 - val_root_mean_squared_error: 68.0466\n",
      "Epoch 74/100\n",
      "\u001b[1m52/52\u001b[0m \u001b[32m━━━━━━━━━━━━━━━━━━━━\u001b[0m\u001b[37m\u001b[0m \u001b[1m0s\u001b[0m 3ms/step - loss: 2638.8149 - root_mean_squared_error: 51.2563 - val_loss: 5583.9521 - val_root_mean_squared_error: 74.7258\n",
      "Epoch 75/100\n",
      "\u001b[1m52/52\u001b[0m \u001b[32m━━━━━━━━━━━━━━━━━━━━\u001b[0m\u001b[37m\u001b[0m \u001b[1m0s\u001b[0m 3ms/step - loss: 2679.0713 - root_mean_squared_error: 51.6232 - val_loss: 5243.3071 - val_root_mean_squared_error: 72.4107\n",
      "Epoch 76/100\n",
      "\u001b[1m52/52\u001b[0m \u001b[32m━━━━━━━━━━━━━━━━━━━━\u001b[0m\u001b[37m\u001b[0m \u001b[1m0s\u001b[0m 4ms/step - loss: 2337.8120 - root_mean_squared_error: 48.3183 - val_loss: 4579.5420 - val_root_mean_squared_error: 67.6723\n",
      "Epoch 77/100\n",
      "\u001b[1m52/52\u001b[0m \u001b[32m━━━━━━━━━━━━━━━━━━━━\u001b[0m\u001b[37m\u001b[0m \u001b[1m0s\u001b[0m 3ms/step - loss: 2364.0959 - root_mean_squared_error: 48.6039 - val_loss: 5376.0776 - val_root_mean_squared_error: 73.3217\n",
      "Epoch 78/100\n",
      "\u001b[1m52/52\u001b[0m \u001b[32m━━━━━━━━━━━━━━━━━━━━\u001b[0m\u001b[37m\u001b[0m \u001b[1m0s\u001b[0m 4ms/step - loss: 2195.2441 - root_mean_squared_error: 46.7804 - val_loss: 5124.8496 - val_root_mean_squared_error: 71.5881\n",
      "Epoch 79/100\n",
      "\u001b[1m52/52\u001b[0m \u001b[32m━━━━━━━━━━━━━━━━━━━━\u001b[0m\u001b[37m\u001b[0m \u001b[1m0s\u001b[0m 3ms/step - loss: 2359.4985 - root_mean_squared_error: 48.5618 - val_loss: 5072.5688 - val_root_mean_squared_error: 71.2220\n",
      "Epoch 80/100\n",
      "\u001b[1m52/52\u001b[0m \u001b[32m━━━━━━━━━━━━━━━━━━━━\u001b[0m\u001b[37m\u001b[0m \u001b[1m0s\u001b[0m 4ms/step - loss: 2230.7698 - root_mean_squared_error: 47.2010 - val_loss: 4997.6470 - val_root_mean_squared_error: 70.6940\n",
      "Epoch 81/100\n",
      "\u001b[1m52/52\u001b[0m \u001b[32m━━━━━━━━━━━━━━━━━━━━\u001b[0m\u001b[37m\u001b[0m \u001b[1m0s\u001b[0m 3ms/step - loss: 2362.4258 - root_mean_squared_error: 48.5994 - val_loss: 4777.4067 - val_root_mean_squared_error: 69.1188\n",
      "Epoch 82/100\n",
      "\u001b[1m52/52\u001b[0m \u001b[32m━━━━━━━━━━━━━━━━━━━━\u001b[0m\u001b[37m\u001b[0m \u001b[1m0s\u001b[0m 3ms/step - loss: 2306.4583 - root_mean_squared_error: 47.9581 - val_loss: 5055.8037 - val_root_mean_squared_error: 71.1042\n",
      "Epoch 83/100\n",
      "\u001b[1m52/52\u001b[0m \u001b[32m━━━━━━━━━━━━━━━━━━━━\u001b[0m\u001b[37m\u001b[0m \u001b[1m0s\u001b[0m 3ms/step - loss: 2305.8730 - root_mean_squared_error: 47.9853 - val_loss: 5789.3569 - val_root_mean_squared_error: 76.0878\n",
      "Epoch 84/100\n",
      "\u001b[1m52/52\u001b[0m \u001b[32m━━━━━━━━━━━━━━━━━━━━\u001b[0m\u001b[37m\u001b[0m \u001b[1m0s\u001b[0m 4ms/step - loss: 2421.3162 - root_mean_squared_error: 49.1867 - val_loss: 4726.0430 - val_root_mean_squared_error: 68.7462\n",
      "Epoch 85/100\n",
      "\u001b[1m52/52\u001b[0m \u001b[32m━━━━━━━━━━━━━━━━━━━━\u001b[0m\u001b[37m\u001b[0m \u001b[1m0s\u001b[0m 3ms/step - loss: 2353.2754 - root_mean_squared_error: 48.5054 - val_loss: 5411.8594 - val_root_mean_squared_error: 73.5653\n",
      "Epoch 86/100\n",
      "\u001b[1m52/52\u001b[0m \u001b[32m━━━━━━━━━━━━━━━━━━━━\u001b[0m\u001b[37m\u001b[0m \u001b[1m0s\u001b[0m 3ms/step - loss: 2400.7498 - root_mean_squared_error: 48.9024 - val_loss: 5037.3667 - val_root_mean_squared_error: 70.9744\n",
      "Epoch 87/100\n",
      "\u001b[1m52/52\u001b[0m \u001b[32m━━━━━━━━━━━━━━━━━━━━\u001b[0m\u001b[37m\u001b[0m \u001b[1m0s\u001b[0m 4ms/step - loss: 2234.9600 - root_mean_squared_error: 47.2104 - val_loss: 4893.9741 - val_root_mean_squared_error: 69.9569\n",
      "Epoch 88/100\n",
      "\u001b[1m52/52\u001b[0m \u001b[32m━━━━━━━━━━━━━━━━━━━━\u001b[0m\u001b[37m\u001b[0m \u001b[1m0s\u001b[0m 4ms/step - loss: 2535.4883 - root_mean_squared_error: 50.2923 - val_loss: 5054.7690 - val_root_mean_squared_error: 71.0969\n",
      "Epoch 89/100\n",
      "\u001b[1m52/52\u001b[0m \u001b[32m━━━━━━━━━━━━━━━━━━━━\u001b[0m\u001b[37m\u001b[0m \u001b[1m0s\u001b[0m 3ms/step - loss: 2273.3608 - root_mean_squared_error: 47.6636 - val_loss: 4917.4087 - val_root_mean_squared_error: 70.1242\n",
      "Epoch 90/100\n",
      "\u001b[1m52/52\u001b[0m \u001b[32m━━━━━━━━━━━━━━━━━━━━\u001b[0m\u001b[37m\u001b[0m \u001b[1m0s\u001b[0m 3ms/step - loss: 2225.8074 - root_mean_squared_error: 47.1259 - val_loss: 5002.8120 - val_root_mean_squared_error: 70.7306\n",
      "Epoch 91/100\n",
      "\u001b[1m52/52\u001b[0m \u001b[32m━━━━━━━━━━━━━━━━━━━━\u001b[0m\u001b[37m\u001b[0m \u001b[1m0s\u001b[0m 4ms/step - loss: 2324.4126 - root_mean_squared_error: 48.1883 - val_loss: 5177.6377 - val_root_mean_squared_error: 71.9558\n",
      "Epoch 92/100\n",
      "\u001b[1m52/52\u001b[0m \u001b[32m━━━━━━━━━━━━━━━━━━━━\u001b[0m\u001b[37m\u001b[0m \u001b[1m0s\u001b[0m 4ms/step - loss: 2345.5291 - root_mean_squared_error: 48.4044 - val_loss: 5408.2744 - val_root_mean_squared_error: 73.5410\n",
      "Epoch 93/100\n",
      "\u001b[1m52/52\u001b[0m \u001b[32m━━━━━━━━━━━━━━━━━━━━\u001b[0m\u001b[37m\u001b[0m \u001b[1m0s\u001b[0m 4ms/step - loss: 2227.8076 - root_mean_squared_error: 47.1854 - val_loss: 4986.8003 - val_root_mean_squared_error: 70.6173\n",
      "Epoch 94/100\n",
      "\u001b[1m52/52\u001b[0m \u001b[32m━━━━━━━━━━━━━━━━━━━━\u001b[0m\u001b[37m\u001b[0m \u001b[1m0s\u001b[0m 3ms/step - loss: 2319.7363 - root_mean_squared_error: 48.1269 - val_loss: 4919.5249 - val_root_mean_squared_error: 70.1393\n",
      "Epoch 95/100\n",
      "\u001b[1m52/52\u001b[0m \u001b[32m━━━━━━━━━━━━━━━━━━━━\u001b[0m\u001b[37m\u001b[0m \u001b[1m0s\u001b[0m 4ms/step - loss: 2272.4319 - root_mean_squared_error: 47.6024 - val_loss: 5014.8608 - val_root_mean_squared_error: 70.8157\n",
      "Epoch 96/100\n",
      "\u001b[1m52/52\u001b[0m \u001b[32m━━━━━━━━━━━━━━━━━━━━\u001b[0m\u001b[37m\u001b[0m \u001b[1m0s\u001b[0m 3ms/step - loss: 2377.0967 - root_mean_squared_error: 48.7393 - val_loss: 5645.3794 - val_root_mean_squared_error: 75.1357\n",
      "Epoch 97/100\n",
      "\u001b[1m52/52\u001b[0m \u001b[32m━━━━━━━━━━━━━━━━━━━━\u001b[0m\u001b[37m\u001b[0m \u001b[1m0s\u001b[0m 3ms/step - loss: 2341.2578 - root_mean_squared_error: 48.3638 - val_loss: 5509.1924 - val_root_mean_squared_error: 74.2239\n",
      "Epoch 98/100\n",
      "\u001b[1m52/52\u001b[0m \u001b[32m━━━━━━━━━━━━━━━━━━━━\u001b[0m\u001b[37m\u001b[0m \u001b[1m0s\u001b[0m 4ms/step - loss: 2413.7222 - root_mean_squared_error: 49.1099 - val_loss: 5284.4565 - val_root_mean_squared_error: 72.6943\n",
      "Epoch 99/100\n",
      "\u001b[1m52/52\u001b[0m \u001b[32m━━━━━━━━━━━━━━━━━━━━\u001b[0m\u001b[37m\u001b[0m \u001b[1m0s\u001b[0m 4ms/step - loss: 2513.9844 - root_mean_squared_error: 50.1299 - val_loss: 5296.9463 - val_root_mean_squared_error: 72.7801\n",
      "Epoch 100/100\n",
      "\u001b[1m52/52\u001b[0m \u001b[32m━━━━━━━━━━━━━━━━━━━━\u001b[0m\u001b[37m\u001b[0m \u001b[1m0s\u001b[0m 4ms/step - loss: 2419.4585 - root_mean_squared_error: 49.1480 - val_loss: 5190.3066 - val_root_mean_squared_error: 72.0438\n"
     ]
    },
    {
     "data": {
      "text/plain": [
       "<keras.src.callbacks.history.History at 0x7c6fde067cd0>"
      ]
     },
     "execution_count": 49,
     "metadata": {},
     "output_type": "execute_result"
    }
   ],
   "source": [
    "model8 = Sequential()\n",
    "model8.add(InputLayer((6, 5)))  # 6 timestamps, 6 features\n",
    "model8.add(Conv1D(32, kernel_size=2, activation='relu'))  # 1D Convolutional Layer\n",
    "model8.add(MaxPooling1D(pool_size=2))  # Max Pooling\n",
    "model8.add(LSTM(64, activation='relu', return_sequences=False))  \n",
    "model8.add(Dropout(0.3))  \n",
    "model8.add(Dense(32, activation='relu'))  \n",
    "model8.add(Dense(1, activation='linear'))  \n",
    "\n",
    "cp8 = ModelCheckpoint('/kaggle/working/model8.keras', save_best_only=True)\n",
    "\n",
    "model8.compile(loss=MeanSquaredError(), optimizer=Adam(learning_rate=0.0001), \n",
    "               metrics=[RootMeanSquaredError()])\n",
    "\n",
    "model8.fit(X_train1, y_train1, validation_data=(X_val1, y_val1), epochs=100, \n",
    "           callbacks=[cp8])"
   ]
  },
  {
   "cell_type": "code",
   "execution_count": 50,
   "id": "ca99124e",
   "metadata": {
    "execution": {
     "iopub.execute_input": "2025-01-28T03:16:02.758602Z",
     "iopub.status.busy": "2025-01-28T03:16:02.758177Z",
     "iopub.status.idle": "2025-01-28T03:16:02.904240Z",
     "shell.execute_reply": "2025-01-28T03:16:02.903250Z"
    },
    "papermill": {
     "duration": 0.235439,
     "end_time": "2025-01-28T03:16:02.906278",
     "exception": false,
     "start_time": "2025-01-28T03:16:02.670839",
     "status": "completed"
    },
    "tags": []
   },
   "outputs": [],
   "source": [
    "from tensorflow.keras.models import load_model\n",
    "model8 = load_model('/kaggle/working/model8.keras')"
   ]
  },
  {
   "cell_type": "code",
   "execution_count": 51,
   "id": "6157cb72",
   "metadata": {
    "execution": {
     "iopub.execute_input": "2025-01-28T03:16:03.079965Z",
     "iopub.status.busy": "2025-01-28T03:16:03.079557Z",
     "iopub.status.idle": "2025-01-28T03:16:03.587314Z",
     "shell.execute_reply": "2025-01-28T03:16:03.586173Z"
    },
    "papermill": {
     "duration": 0.597653,
     "end_time": "2025-01-28T03:16:03.589407",
     "exception": false,
     "start_time": "2025-01-28T03:16:02.991754",
     "status": "completed"
    },
    "tags": []
   },
   "outputs": [
    {
     "name": "stdout",
     "output_type": "stream",
     "text": [
      "\u001b[1m52/52\u001b[0m \u001b[32m━━━━━━━━━━━━━━━━━━━━\u001b[0m\u001b[37m\u001b[0m \u001b[1m0s\u001b[0m 5ms/step\n",
      "Evaluation Metrics:\n",
      "Mean Absolute Error (MAE): 44.0203\n",
      "Mean Squared Error (MSE): 3736.3937\n",
      "Root Mean Squared Error (RMSE): 61.1260\n",
      "R-squared (Accuracy): 0.5323\n"
     ]
    }
   ],
   "source": [
    "# Evaluate the model on the train data\n",
    "train_result = model8.predict(X_train1)\n",
    "\n",
    "# Calculate metrics\n",
    "mse = mean_squared_error(y_train1, train_result)\n",
    "rmse = np.sqrt(mse)\n",
    "mae = mean_absolute_error(y_train1, train_result)\n",
    "r2 = r2_score(y_train1, train_result)\n",
    "\n",
    "# Print the results\n",
    "print(\"Evaluation Metrics:\")\n",
    "print(f\"Mean Absolute Error (MAE): {mae:.4f}\")\n",
    "print(f\"Mean Squared Error (MSE): {mse:.4f}\")\n",
    "print(f\"Root Mean Squared Error (RMSE): {rmse:.4f}\")\n",
    "print(f\"R-squared (Accuracy): {r2:.4f}\")"
   ]
  },
  {
   "cell_type": "code",
   "execution_count": 52,
   "id": "22369525",
   "metadata": {
    "execution": {
     "iopub.execute_input": "2025-01-28T03:16:03.762522Z",
     "iopub.status.busy": "2025-01-28T03:16:03.762120Z",
     "iopub.status.idle": "2025-01-28T03:16:03.860968Z",
     "shell.execute_reply": "2025-01-28T03:16:03.859737Z"
    },
    "papermill": {
     "duration": 0.187273,
     "end_time": "2025-01-28T03:16:03.862702",
     "exception": false,
     "start_time": "2025-01-28T03:16:03.675429",
     "status": "completed"
    },
    "tags": []
   },
   "outputs": [
    {
     "name": "stdout",
     "output_type": "stream",
     "text": [
      "\u001b[1m7/7\u001b[0m \u001b[32m━━━━━━━━━━━━━━━━━━━━\u001b[0m\u001b[37m\u001b[0m \u001b[1m0s\u001b[0m 2ms/step \n",
      "Evaluation Metrics:\n",
      "Mean Absolute Error (MAE): 43.3788\n",
      "Mean Squared Error (MSE): 3762.6319\n",
      "Root Mean Squared Error (RMSE): 61.3403\n",
      "R-squared (Accuracy): 0.3236\n"
     ]
    }
   ],
   "source": [
    "# Evaluate the model on the validation data\n",
    "val_result = model8.predict(X_val1)\n",
    "\n",
    "# Calculate metrics\n",
    "mse = mean_squared_error(y_val1, val_result)\n",
    "rmse = np.sqrt(mse)\n",
    "mae = mean_absolute_error(y_val1, val_result)\n",
    "r2 = r2_score(y_val1, val_result)\n",
    "\n",
    "# Print the results\n",
    "print(\"Evaluation Metrics:\")\n",
    "print(f\"Mean Absolute Error (MAE): {mae:.4f}\")\n",
    "print(f\"Mean Squared Error (MSE): {mse:.4f}\")\n",
    "print(f\"Root Mean Squared Error (RMSE): {rmse:.4f}\")\n",
    "print(f\"R-squared (Accuracy): {r2:.4f}\")"
   ]
  },
  {
   "cell_type": "code",
   "execution_count": 53,
   "id": "98632e9b",
   "metadata": {
    "execution": {
     "iopub.execute_input": "2025-01-28T03:16:04.037248Z",
     "iopub.status.busy": "2025-01-28T03:16:04.036853Z",
     "iopub.status.idle": "2025-01-28T03:16:04.133179Z",
     "shell.execute_reply": "2025-01-28T03:16:04.132110Z"
    },
    "papermill": {
     "duration": 0.185038,
     "end_time": "2025-01-28T03:16:04.135018",
     "exception": false,
     "start_time": "2025-01-28T03:16:03.949980",
     "status": "completed"
    },
    "tags": []
   },
   "outputs": [
    {
     "name": "stdout",
     "output_type": "stream",
     "text": [
      "\u001b[1m7/7\u001b[0m \u001b[32m━━━━━━━━━━━━━━━━━━━━\u001b[0m\u001b[37m\u001b[0m \u001b[1m0s\u001b[0m 2ms/step \n",
      "Evaluation Metrics:\n",
      "Mean Absolute Error (MAE): 51.5189\n",
      "Mean Squared Error (MSE): 6307.2337\n",
      "Root Mean Squared Error (RMSE): 79.4181\n",
      "R-squared (Accuracy): 0.4256\n"
     ]
    }
   ],
   "source": [
    "# Evaluate the model on the test data\n",
    "test_result = model8.predict(X_test1)\n",
    "\n",
    "# Calculate metrics\n",
    "mse = mean_squared_error(y_test1, test_result)\n",
    "rmse = np.sqrt(mse)\n",
    "mae = mean_absolute_error(y_test1, test_result)\n",
    "r2 = r2_score(y_test1, test_result)\n",
    "\n",
    "# Print the results\n",
    "print(\"Evaluation Metrics:\")\n",
    "print(f\"Mean Absolute Error (MAE): {mae:.4f}\")\n",
    "print(f\"Mean Squared Error (MSE): {mse:.4f}\")\n",
    "print(f\"Root Mean Squared Error (RMSE): {rmse:.4f}\")\n",
    "print(f\"R-squared (Accuracy): {r2:.4f}\")"
   ]
  },
  {
   "cell_type": "code",
   "execution_count": 54,
   "id": "a243af89",
   "metadata": {
    "execution": {
     "iopub.execute_input": "2025-01-28T03:16:04.311380Z",
     "iopub.status.busy": "2025-01-28T03:16:04.311009Z",
     "iopub.status.idle": "2025-01-28T03:16:04.509337Z",
     "shell.execute_reply": "2025-01-28T03:16:04.508261Z"
    },
    "papermill": {
     "duration": 0.287536,
     "end_time": "2025-01-28T03:16:04.511276",
     "exception": false,
     "start_time": "2025-01-28T03:16:04.223740",
     "status": "completed"
    },
    "tags": []
   },
   "outputs": [
    {
     "name": "stdout",
     "output_type": "stream",
     "text": [
      "\u001b[1m52/52\u001b[0m \u001b[32m━━━━━━━━━━━━━━━━━━━━\u001b[0m\u001b[37m\u001b[0m \u001b[1m0s\u001b[0m 2ms/step\n"
     ]
    },
    {
     "data": {
      "text/html": [
       "<div>\n",
       "<style scoped>\n",
       "    .dataframe tbody tr th:only-of-type {\n",
       "        vertical-align: middle;\n",
       "    }\n",
       "\n",
       "    .dataframe tbody tr th {\n",
       "        vertical-align: top;\n",
       "    }\n",
       "\n",
       "    .dataframe thead th {\n",
       "        text-align: right;\n",
       "    }\n",
       "</style>\n",
       "<table border=\"1\" class=\"dataframe\">\n",
       "  <thead>\n",
       "    <tr style=\"text-align: right;\">\n",
       "      <th></th>\n",
       "      <th>Train Predictions</th>\n",
       "      <th>Actuals</th>\n",
       "    </tr>\n",
       "  </thead>\n",
       "  <tbody>\n",
       "    <tr>\n",
       "      <th>0</th>\n",
       "      <td>132.414581</td>\n",
       "      <td>172.0</td>\n",
       "    </tr>\n",
       "    <tr>\n",
       "      <th>1</th>\n",
       "      <td>157.047195</td>\n",
       "      <td>173.0</td>\n",
       "    </tr>\n",
       "    <tr>\n",
       "      <th>2</th>\n",
       "      <td>159.224304</td>\n",
       "      <td>163.0</td>\n",
       "    </tr>\n",
       "    <tr>\n",
       "      <th>3</th>\n",
       "      <td>141.988159</td>\n",
       "      <td>154.0</td>\n",
       "    </tr>\n",
       "    <tr>\n",
       "      <th>4</th>\n",
       "      <td>125.885735</td>\n",
       "      <td>171.0</td>\n",
       "    </tr>\n",
       "    <tr>\n",
       "      <th>...</th>\n",
       "      <td>...</td>\n",
       "      <td>...</td>\n",
       "    </tr>\n",
       "    <tr>\n",
       "      <th>1647</th>\n",
       "      <td>105.136795</td>\n",
       "      <td>95.0</td>\n",
       "    </tr>\n",
       "    <tr>\n",
       "      <th>1648</th>\n",
       "      <td>105.136795</td>\n",
       "      <td>95.0</td>\n",
       "    </tr>\n",
       "    <tr>\n",
       "      <th>1649</th>\n",
       "      <td>105.136795</td>\n",
       "      <td>95.0</td>\n",
       "    </tr>\n",
       "    <tr>\n",
       "      <th>1650</th>\n",
       "      <td>105.136787</td>\n",
       "      <td>95.0</td>\n",
       "    </tr>\n",
       "    <tr>\n",
       "      <th>1651</th>\n",
       "      <td>105.136787</td>\n",
       "      <td>95.0</td>\n",
       "    </tr>\n",
       "  </tbody>\n",
       "</table>\n",
       "<p>1652 rows × 2 columns</p>\n",
       "</div>"
      ],
      "text/plain": [
       "      Train Predictions  Actuals\n",
       "0            132.414581    172.0\n",
       "1            157.047195    173.0\n",
       "2            159.224304    163.0\n",
       "3            141.988159    154.0\n",
       "4            125.885735    171.0\n",
       "...                 ...      ...\n",
       "1647         105.136795     95.0\n",
       "1648         105.136795     95.0\n",
       "1649         105.136795     95.0\n",
       "1650         105.136787     95.0\n",
       "1651         105.136787     95.0\n",
       "\n",
       "[1652 rows x 2 columns]"
      ]
     },
     "execution_count": 54,
     "metadata": {},
     "output_type": "execute_result"
    }
   ],
   "source": [
    "train_predictions = model8.predict(X_train1).flatten()\n",
    "train_results = pd.DataFrame(data={'Train Predictions':train_predictions, 'Actuals':y_train1})\n",
    "train_results"
   ]
  },
  {
   "cell_type": "code",
   "execution_count": 55,
   "id": "97070e5a",
   "metadata": {
    "execution": {
     "iopub.execute_input": "2025-01-28T03:16:04.687204Z",
     "iopub.status.busy": "2025-01-28T03:16:04.686843Z",
     "iopub.status.idle": "2025-01-28T03:16:04.877950Z",
     "shell.execute_reply": "2025-01-28T03:16:04.876765Z"
    },
    "papermill": {
     "duration": 0.281582,
     "end_time": "2025-01-28T03:16:04.879876",
     "exception": false,
     "start_time": "2025-01-28T03:16:04.598294",
     "status": "completed"
    },
    "tags": []
   },
   "outputs": [
    {
     "data": {
      "image/png": "[encoded data removed]",
      "text/plain": [
       "<Figure size 640x480 with 1 Axes>"
      ]
     },
     "metadata": {},
     "output_type": "display_data"
    }
   ],
   "source": [
    "plt.plot(train_results['Actuals'][1:50], label='Actual')\n",
    "plt.plot(train_results['Train Predictions'][1:50], label='Predicted')\n",
    "plt.legend()\n",
    "plt.show()"
   ]
  },
  {
   "cell_type": "code",
   "execution_count": 56,
   "id": "bbcafd02",
   "metadata": {
    "execution": {
     "iopub.execute_input": "2025-01-28T03:16:05.060613Z",
     "iopub.status.busy": "2025-01-28T03:16:05.060212Z",
     "iopub.status.idle": "2025-01-28T03:16:05.453005Z",
     "shell.execute_reply": "2025-01-28T03:16:05.451882Z"
    },
    "papermill": {
     "duration": 0.484791,
     "end_time": "2025-01-28T03:16:05.454873",
     "exception": false,
     "start_time": "2025-01-28T03:16:04.970082",
     "status": "completed"
    },
    "tags": []
   },
   "outputs": [
    {
     "name": "stdout",
     "output_type": "stream",
     "text": [
      "\u001b[1m7/7\u001b[0m \u001b[32m━━━━━━━━━━━━━━━━━━━━\u001b[0m\u001b[37m\u001b[0m \u001b[1m0s\u001b[0m 2ms/step \n"
     ]
    },
    {
     "data": {
      "text/html": [
       "<div>\n",
       "<style scoped>\n",
       "    .dataframe tbody tr th:only-of-type {\n",
       "        vertical-align: middle;\n",
       "    }\n",
       "\n",
       "    .dataframe tbody tr th {\n",
       "        vertical-align: top;\n",
       "    }\n",
       "\n",
       "    .dataframe thead th {\n",
       "        text-align: right;\n",
       "    }\n",
       "</style>\n",
       "<table border=\"1\" class=\"dataframe\">\n",
       "  <thead>\n",
       "    <tr style=\"text-align: right;\">\n",
       "      <th></th>\n",
       "      <th>Train Predictions</th>\n",
       "      <th>Actuals</th>\n",
       "    </tr>\n",
       "  </thead>\n",
       "  <tbody>\n",
       "    <tr>\n",
       "      <th>0</th>\n",
       "      <td>105.136795</td>\n",
       "      <td>95.0</td>\n",
       "    </tr>\n",
       "    <tr>\n",
       "      <th>1</th>\n",
       "      <td>105.136795</td>\n",
       "      <td>95.0</td>\n",
       "    </tr>\n",
       "    <tr>\n",
       "      <th>2</th>\n",
       "      <td>105.136795</td>\n",
       "      <td>95.0</td>\n",
       "    </tr>\n",
       "    <tr>\n",
       "      <th>3</th>\n",
       "      <td>105.136795</td>\n",
       "      <td>95.0</td>\n",
       "    </tr>\n",
       "    <tr>\n",
       "      <th>4</th>\n",
       "      <td>105.136795</td>\n",
       "      <td>95.0</td>\n",
       "    </tr>\n",
       "    <tr>\n",
       "      <th>...</th>\n",
       "      <td>...</td>\n",
       "      <td>...</td>\n",
       "    </tr>\n",
       "    <tr>\n",
       "      <th>196</th>\n",
       "      <td>120.030327</td>\n",
       "      <td>157.0</td>\n",
       "    </tr>\n",
       "    <tr>\n",
       "      <th>197</th>\n",
       "      <td>120.030327</td>\n",
       "      <td>157.0</td>\n",
       "    </tr>\n",
       "    <tr>\n",
       "      <th>198</th>\n",
       "      <td>120.030319</td>\n",
       "      <td>157.0</td>\n",
       "    </tr>\n",
       "    <tr>\n",
       "      <th>199</th>\n",
       "      <td>120.030319</td>\n",
       "      <td>122.0</td>\n",
       "    </tr>\n",
       "    <tr>\n",
       "      <th>200</th>\n",
       "      <td>120.030334</td>\n",
       "      <td>122.0</td>\n",
       "    </tr>\n",
       "  </tbody>\n",
       "</table>\n",
       "<p>201 rows × 2 columns</p>\n",
       "</div>"
      ],
      "text/plain": [
       "     Train Predictions  Actuals\n",
       "0           105.136795     95.0\n",
       "1           105.136795     95.0\n",
       "2           105.136795     95.0\n",
       "3           105.136795     95.0\n",
       "4           105.136795     95.0\n",
       "..                 ...      ...\n",
       "196         120.030327    157.0\n",
       "197         120.030327    157.0\n",
       "198         120.030319    157.0\n",
       "199         120.030319    122.0\n",
       "200         120.030334    122.0\n",
       "\n",
       "[201 rows x 2 columns]"
      ]
     },
     "execution_count": 56,
     "metadata": {},
     "output_type": "execute_result"
    }
   ],
   "source": [
    "val_predictions = model8.predict(X_val1).flatten()\n",
    "val_results = pd.DataFrame(data={'Train Predictions':val_predictions, 'Actuals':y_val1})\n",
    "val_results"
   ]
  },
  {
   "cell_type": "code",
   "execution_count": 57,
   "id": "de70ff90",
   "metadata": {
    "execution": {
     "iopub.execute_input": "2025-01-28T03:16:05.632997Z",
     "iopub.status.busy": "2025-01-28T03:16:05.632472Z",
     "iopub.status.idle": "2025-01-28T03:16:05.810217Z",
     "shell.execute_reply": "2025-01-28T03:16:05.809107Z"
    },
    "papermill": {
     "duration": 0.268211,
     "end_time": "2025-01-28T03:16:05.812216",
     "exception": false,
     "start_time": "2025-01-28T03:16:05.544005",
     "status": "completed"
    },
    "tags": []
   },
   "outputs": [
    {
     "data": {
      "image/png": "[encoded data removed]",
      "text/plain": [
       "<Figure size 640x480 with 1 Axes>"
      ]
     },
     "metadata": {},
     "output_type": "display_data"
    }
   ],
   "source": [
    "plt.plot(val_results['Actuals'][1:50], label='Actual')\n",
    "plt.plot(val_results['Train Predictions'][1:50], label='Predicted')\n",
    "plt.legend()\n",
    "plt.show()"
   ]
  },
  {
   "cell_type": "code",
   "execution_count": 58,
   "id": "bc917d31",
   "metadata": {
    "execution": {
     "iopub.execute_input": "2025-01-28T03:16:06.055182Z",
     "iopub.status.busy": "2025-01-28T03:16:06.054758Z",
     "iopub.status.idle": "2025-01-28T03:16:06.159187Z",
     "shell.execute_reply": "2025-01-28T03:16:06.158065Z"
    },
    "papermill": {
     "duration": 0.197197,
     "end_time": "2025-01-28T03:16:06.161107",
     "exception": false,
     "start_time": "2025-01-28T03:16:05.963910",
     "status": "completed"
    },
    "tags": []
   },
   "outputs": [
    {
     "name": "stdout",
     "output_type": "stream",
     "text": [
      "\u001b[1m7/7\u001b[0m \u001b[32m━━━━━━━━━━━━━━━━━━━━\u001b[0m\u001b[37m\u001b[0m \u001b[1m0s\u001b[0m 2ms/step \n"
     ]
    },
    {
     "data": {
      "text/html": [
       "<div>\n",
       "<style scoped>\n",
       "    .dataframe tbody tr th:only-of-type {\n",
       "        vertical-align: middle;\n",
       "    }\n",
       "\n",
       "    .dataframe tbody tr th {\n",
       "        vertical-align: top;\n",
       "    }\n",
       "\n",
       "    .dataframe thead th {\n",
       "        text-align: right;\n",
       "    }\n",
       "</style>\n",
       "<table border=\"1\" class=\"dataframe\">\n",
       "  <thead>\n",
       "    <tr style=\"text-align: right;\">\n",
       "      <th></th>\n",
       "      <th>Train Predictions</th>\n",
       "      <th>Actuals</th>\n",
       "    </tr>\n",
       "  </thead>\n",
       "  <tbody>\n",
       "    <tr>\n",
       "      <th>0</th>\n",
       "      <td>110.767212</td>\n",
       "      <td>122.0</td>\n",
       "    </tr>\n",
       "    <tr>\n",
       "      <th>1</th>\n",
       "      <td>110.767212</td>\n",
       "      <td>122.0</td>\n",
       "    </tr>\n",
       "    <tr>\n",
       "      <th>2</th>\n",
       "      <td>110.767212</td>\n",
       "      <td>122.0</td>\n",
       "    </tr>\n",
       "    <tr>\n",
       "      <th>3</th>\n",
       "      <td>110.767212</td>\n",
       "      <td>122.0</td>\n",
       "    </tr>\n",
       "    <tr>\n",
       "      <th>4</th>\n",
       "      <td>110.767212</td>\n",
       "      <td>122.0</td>\n",
       "    </tr>\n",
       "    <tr>\n",
       "      <th>...</th>\n",
       "      <td>...</td>\n",
       "      <td>...</td>\n",
       "    </tr>\n",
       "    <tr>\n",
       "      <th>197</th>\n",
       "      <td>233.121048</td>\n",
       "      <td>294.0</td>\n",
       "    </tr>\n",
       "    <tr>\n",
       "      <th>198</th>\n",
       "      <td>239.616562</td>\n",
       "      <td>267.0</td>\n",
       "    </tr>\n",
       "    <tr>\n",
       "      <th>199</th>\n",
       "      <td>241.218292</td>\n",
       "      <td>223.0</td>\n",
       "    </tr>\n",
       "    <tr>\n",
       "      <th>200</th>\n",
       "      <td>237.347855</td>\n",
       "      <td>252.0</td>\n",
       "    </tr>\n",
       "    <tr>\n",
       "      <th>201</th>\n",
       "      <td>222.844330</td>\n",
       "      <td>333.0</td>\n",
       "    </tr>\n",
       "  </tbody>\n",
       "</table>\n",
       "<p>202 rows × 2 columns</p>\n",
       "</div>"
      ],
      "text/plain": [
       "     Train Predictions  Actuals\n",
       "0           110.767212    122.0\n",
       "1           110.767212    122.0\n",
       "2           110.767212    122.0\n",
       "3           110.767212    122.0\n",
       "4           110.767212    122.0\n",
       "..                 ...      ...\n",
       "197         233.121048    294.0\n",
       "198         239.616562    267.0\n",
       "199         241.218292    223.0\n",
       "200         237.347855    252.0\n",
       "201         222.844330    333.0\n",
       "\n",
       "[202 rows x 2 columns]"
      ]
     },
     "execution_count": 58,
     "metadata": {},
     "output_type": "execute_result"
    }
   ],
   "source": [
    "test_predictions = model8.predict(X_test1).flatten()\n",
    "test_results = pd.DataFrame(data={'Train Predictions':test_predictions, 'Actuals':y_test1})\n",
    "test_results"
   ]
  },
  {
   "cell_type": "code",
   "execution_count": 59,
   "id": "17182718",
   "metadata": {
    "execution": {
     "iopub.execute_input": "2025-01-28T03:16:06.340866Z",
     "iopub.status.busy": "2025-01-28T03:16:06.340484Z",
     "iopub.status.idle": "2025-01-28T03:16:06.516079Z",
     "shell.execute_reply": "2025-01-28T03:16:06.514959Z"
    },
    "papermill": {
     "duration": 0.267267,
     "end_time": "2025-01-28T03:16:06.517984",
     "exception": false,
     "start_time": "2025-01-28T03:16:06.250717",
     "status": "completed"
    },
    "tags": []
   },
   "outputs": [
    {
     "data": {
      "image/png": "[encoded data removed]",
      "text/plain": [
       "<Figure size 640x480 with 1 Axes>"
      ]
     },
     "metadata": {},
     "output_type": "display_data"
    }
   ],
   "source": [
    "plt.plot(test_results['Train Predictions'][1:50], label='Predicted')\n",
    "plt.plot(test_results['Actuals'][1:50], label='Actual')\n",
    "plt.legend()\n",
    "plt.show()"
   ]
  },
  {
   "cell_type": "code",
   "execution_count": null,
   "id": "eccb92e9",
   "metadata": {
    "papermill": {
     "duration": 0.090866,
     "end_time": "2025-01-28T03:16:06.702637",
     "exception": false,
     "start_time": "2025-01-28T03:16:06.611771",
     "status": "completed"
    },
    "tags": []
   },
   "outputs": [],
   "source": []
  },
  {
   "cell_type": "markdown",
   "id": "d6445049",
   "metadata": {
    "papermill": {
     "duration": 0.090702,
     "end_time": "2025-01-28T03:16:06.883367",
     "exception": false,
     "start_time": "2025-01-28T03:16:06.792665",
     "status": "completed"
    },
    "tags": []
   },
   "source": [
    "### Advanced Stacked GRU + Dense¶"
   ]
  },
  {
   "cell_type": "code",
   "execution_count": 60,
   "id": "f6b000df",
   "metadata": {
    "execution": {
     "iopub.execute_input": "2025-01-28T03:16:07.064618Z",
     "iopub.status.busy": "2025-01-28T03:16:07.064246Z",
     "iopub.status.idle": "2025-01-28T03:17:11.039953Z",
     "shell.execute_reply": "2025-01-28T03:17:11.038712Z"
    },
    "papermill": {
     "duration": 64.068685,
     "end_time": "2025-01-28T03:17:11.041992",
     "exception": false,
     "start_time": "2025-01-28T03:16:06.973307",
     "status": "completed"
    },
    "tags": []
   },
   "outputs": [
    {
     "name": "stdout",
     "output_type": "stream",
     "text": [
      "Epoch 1/100\n",
      "\u001b[1m52/52\u001b[0m \u001b[32m━━━━━━━━━━━━━━━━━━━━\u001b[0m\u001b[37m\u001b[0m \u001b[1m6s\u001b[0m 21ms/step - loss: 40571.7461 - root_mean_squared_error: 201.3405 - val_loss: 33412.9336 - val_root_mean_squared_error: 182.7921\n",
      "Epoch 2/100\n",
      "\u001b[1m52/52\u001b[0m \u001b[32m━━━━━━━━━━━━━━━━━━━━\u001b[0m\u001b[37m\u001b[0m \u001b[1m1s\u001b[0m 11ms/step - loss: 38992.9492 - root_mean_squared_error: 197.4161 - val_loss: 25971.8457 - val_root_mean_squared_error: 161.1578\n",
      "Epoch 3/100\n",
      "\u001b[1m52/52\u001b[0m \u001b[32m━━━━━━━━━━━━━━━━━━━━\u001b[0m\u001b[37m\u001b[0m \u001b[1m1s\u001b[0m 10ms/step - loss: 37698.8906 - root_mean_squared_error: 194.1251 - val_loss: 664883.5625 - val_root_mean_squared_error: 815.4039\n",
      "Epoch 4/100\n",
      "\u001b[1m52/52\u001b[0m \u001b[32m━━━━━━━━━━━━━━━━━━━━\u001b[0m\u001b[37m\u001b[0m \u001b[1m1s\u001b[0m 10ms/step - loss: 22157.7539 - root_mean_squared_error: 148.6007 - val_loss: 9952113.0000 - val_root_mean_squared_error: 3154.6970\n",
      "Epoch 5/100\n",
      "\u001b[1m52/52\u001b[0m \u001b[32m━━━━━━━━━━━━━━━━━━━━\u001b[0m\u001b[37m\u001b[0m \u001b[1m1s\u001b[0m 11ms/step - loss: 10749.4424 - root_mean_squared_error: 103.6012 - val_loss: 2644812.2500 - val_root_mean_squared_error: 1626.2878\n",
      "Epoch 6/100\n",
      "\u001b[1m52/52\u001b[0m \u001b[32m━━━━━━━━━━━━━━━━━━━━\u001b[0m\u001b[37m\u001b[0m \u001b[1m1s\u001b[0m 10ms/step - loss: 7790.6426 - root_mean_squared_error: 88.2385 - val_loss: 476853.6562 - val_root_mean_squared_error: 690.5459\n",
      "Epoch 7/100\n",
      "\u001b[1m52/52\u001b[0m \u001b[32m━━━━━━━━━━━━━━━━━━━━\u001b[0m\u001b[37m\u001b[0m \u001b[1m1s\u001b[0m 10ms/step - loss: 6063.5562 - root_mean_squared_error: 77.8527 - val_loss: 90134.7656 - val_root_mean_squared_error: 300.2245\n",
      "Epoch 8/100\n",
      "\u001b[1m52/52\u001b[0m \u001b[32m━━━━━━━━━━━━━━━━━━━━\u001b[0m\u001b[37m\u001b[0m \u001b[1m1s\u001b[0m 11ms/step - loss: 4928.0059 - root_mean_squared_error: 70.1499 - val_loss: 32599.8398 - val_root_mean_squared_error: 180.5543\n",
      "Epoch 9/100\n",
      "\u001b[1m52/52\u001b[0m \u001b[32m━━━━━━━━━━━━━━━━━━━━\u001b[0m\u001b[37m\u001b[0m \u001b[1m1s\u001b[0m 11ms/step - loss: 4895.3682 - root_mean_squared_error: 69.8373 - val_loss: 10241.1279 - val_root_mean_squared_error: 101.1985\n",
      "Epoch 10/100\n",
      "\u001b[1m52/52\u001b[0m \u001b[32m━━━━━━━━━━━━━━━━━━━━\u001b[0m\u001b[37m\u001b[0m \u001b[1m1s\u001b[0m 11ms/step - loss: 4157.5703 - root_mean_squared_error: 64.4569 - val_loss: 6230.9683 - val_root_mean_squared_error: 78.9365\n",
      "Epoch 11/100\n",
      "\u001b[1m52/52\u001b[0m \u001b[32m━━━━━━━━━━━━━━━━━━━━\u001b[0m\u001b[37m\u001b[0m \u001b[1m1s\u001b[0m 11ms/step - loss: 3936.4451 - root_mean_squared_error: 62.7151 - val_loss: 5353.2319 - val_root_mean_squared_error: 73.1658\n",
      "Epoch 12/100\n",
      "\u001b[1m52/52\u001b[0m \u001b[32m━━━━━━━━━━━━━━━━━━━━\u001b[0m\u001b[37m\u001b[0m \u001b[1m1s\u001b[0m 11ms/step - loss: 3619.7576 - root_mean_squared_error: 60.1427 - val_loss: 5811.6392 - val_root_mean_squared_error: 76.2341\n",
      "Epoch 13/100\n",
      "\u001b[1m52/52\u001b[0m \u001b[32m━━━━━━━━━━━━━━━━━━━━\u001b[0m\u001b[37m\u001b[0m \u001b[1m1s\u001b[0m 11ms/step - loss: 3450.5750 - root_mean_squared_error: 58.6942 - val_loss: 4512.2798 - val_root_mean_squared_error: 67.1735\n",
      "Epoch 14/100\n",
      "\u001b[1m52/52\u001b[0m \u001b[32m━━━━━━━━━━━━━━━━━━━━\u001b[0m\u001b[37m\u001b[0m \u001b[1m1s\u001b[0m 11ms/step - loss: 3351.2781 - root_mean_squared_error: 57.8457 - val_loss: 3902.9661 - val_root_mean_squared_error: 62.4737\n",
      "Epoch 15/100\n",
      "\u001b[1m52/52\u001b[0m \u001b[32m━━━━━━━━━━━━━━━━━━━━\u001b[0m\u001b[37m\u001b[0m \u001b[1m1s\u001b[0m 13ms/step - loss: 3567.2239 - root_mean_squared_error: 59.6931 - val_loss: 4399.7646 - val_root_mean_squared_error: 66.3307\n",
      "Epoch 16/100\n",
      "\u001b[1m52/52\u001b[0m \u001b[32m━━━━━━━━━━━━━━━━━━━━\u001b[0m\u001b[37m\u001b[0m \u001b[1m1s\u001b[0m 12ms/step - loss: 3070.3242 - root_mean_squared_error: 55.3684 - val_loss: 3906.6511 - val_root_mean_squared_error: 62.5032\n",
      "Epoch 17/100\n",
      "\u001b[1m52/52\u001b[0m \u001b[32m━━━━━━━━━━━━━━━━━━━━\u001b[0m\u001b[37m\u001b[0m \u001b[1m1s\u001b[0m 14ms/step - loss: 2924.1494 - root_mean_squared_error: 54.0437 - val_loss: 3595.7109 - val_root_mean_squared_error: 59.9642\n",
      "Epoch 18/100\n",
      "\u001b[1m52/52\u001b[0m \u001b[32m━━━━━━━━━━━━━━━━━━━━\u001b[0m\u001b[37m\u001b[0m \u001b[1m1s\u001b[0m 11ms/step - loss: 3352.5859 - root_mean_squared_error: 57.8254 - val_loss: 3576.5786 - val_root_mean_squared_error: 59.8045\n",
      "Epoch 19/100\n",
      "\u001b[1m52/52\u001b[0m \u001b[32m━━━━━━━━━━━━━━━━━━━━\u001b[0m\u001b[37m\u001b[0m \u001b[1m1s\u001b[0m 11ms/step - loss: 3339.3916 - root_mean_squared_error: 57.7473 - val_loss: 3520.3469 - val_root_mean_squared_error: 59.3325\n",
      "Epoch 20/100\n",
      "\u001b[1m52/52\u001b[0m \u001b[32m━━━━━━━━━━━━━━━━━━━━\u001b[0m\u001b[37m\u001b[0m \u001b[1m1s\u001b[0m 11ms/step - loss: 3024.9421 - root_mean_squared_error: 54.9810 - val_loss: 3944.9548 - val_root_mean_squared_error: 62.8089\n",
      "Epoch 21/100\n",
      "\u001b[1m52/52\u001b[0m \u001b[32m━━━━━━━━━━━━━━━━━━━━\u001b[0m\u001b[37m\u001b[0m \u001b[1m1s\u001b[0m 10ms/step - loss: 2996.8633 - root_mean_squared_error: 54.6456 - val_loss: 3731.2769 - val_root_mean_squared_error: 61.0842\n",
      "Epoch 22/100\n",
      "\u001b[1m52/52\u001b[0m \u001b[32m━━━━━━━━━━━━━━━━━━━━\u001b[0m\u001b[37m\u001b[0m \u001b[1m1s\u001b[0m 11ms/step - loss: 2831.7334 - root_mean_squared_error: 53.1590 - val_loss: 3706.0327 - val_root_mean_squared_error: 60.8772\n",
      "Epoch 23/100\n",
      "\u001b[1m52/52\u001b[0m \u001b[32m━━━━━━━━━━━━━━━━━━━━\u001b[0m\u001b[37m\u001b[0m \u001b[1m1s\u001b[0m 10ms/step - loss: 3129.0159 - root_mean_squared_error: 55.9110 - val_loss: 3604.9695 - val_root_mean_squared_error: 60.0414\n",
      "Epoch 24/100\n",
      "\u001b[1m52/52\u001b[0m \u001b[32m━━━━━━━━━━━━━━━━━━━━\u001b[0m\u001b[37m\u001b[0m \u001b[1m1s\u001b[0m 10ms/step - loss: 3024.6917 - root_mean_squared_error: 54.9787 - val_loss: 3566.0042 - val_root_mean_squared_error: 59.7160\n",
      "Epoch 25/100\n",
      "\u001b[1m52/52\u001b[0m \u001b[32m━━━━━━━━━━━━━━━━━━━━\u001b[0m\u001b[37m\u001b[0m \u001b[1m1s\u001b[0m 10ms/step - loss: 2915.8711 - root_mean_squared_error: 53.9831 - val_loss: 3578.3740 - val_root_mean_squared_error: 59.8195\n",
      "Epoch 26/100\n",
      "\u001b[1m52/52\u001b[0m \u001b[32m━━━━━━━━━━━━━━━━━━━━\u001b[0m\u001b[37m\u001b[0m \u001b[1m1s\u001b[0m 10ms/step - loss: 2815.4775 - root_mean_squared_error: 53.0308 - val_loss: 3605.2546 - val_root_mean_squared_error: 60.0438\n",
      "Epoch 27/100\n",
      "\u001b[1m52/52\u001b[0m \u001b[32m━━━━━━━━━━━━━━━━━━━━\u001b[0m\u001b[37m\u001b[0m \u001b[1m1s\u001b[0m 11ms/step - loss: 2852.0142 - root_mean_squared_error: 53.2697 - val_loss: 3520.0605 - val_root_mean_squared_error: 59.3301\n",
      "Epoch 28/100\n",
      "\u001b[1m52/52\u001b[0m \u001b[32m━━━━━━━━━━━━━━━━━━━━\u001b[0m\u001b[37m\u001b[0m \u001b[1m1s\u001b[0m 11ms/step - loss: 2990.5803 - root_mean_squared_error: 54.6663 - val_loss: 3426.0442 - val_root_mean_squared_error: 58.5324\n",
      "Epoch 29/100\n",
      "\u001b[1m52/52\u001b[0m \u001b[32m━━━━━━━━━━━━━━━━━━━━\u001b[0m\u001b[37m\u001b[0m \u001b[1m1s\u001b[0m 11ms/step - loss: 2544.1023 - root_mean_squared_error: 50.3735 - val_loss: 3370.9155 - val_root_mean_squared_error: 58.0596\n",
      "Epoch 30/100\n",
      "\u001b[1m52/52\u001b[0m \u001b[32m━━━━━━━━━━━━━━━━━━━━\u001b[0m\u001b[37m\u001b[0m \u001b[1m1s\u001b[0m 10ms/step - loss: 2461.9387 - root_mean_squared_error: 49.4474 - val_loss: 3664.0720 - val_root_mean_squared_error: 60.5316\n",
      "Epoch 31/100\n",
      "\u001b[1m52/52\u001b[0m \u001b[32m━━━━━━━━━━━━━━━━━━━━\u001b[0m\u001b[37m\u001b[0m \u001b[1m1s\u001b[0m 10ms/step - loss: 2662.2742 - root_mean_squared_error: 51.5757 - val_loss: 3516.0046 - val_root_mean_squared_error: 59.2959\n",
      "Epoch 32/100\n",
      "\u001b[1m52/52\u001b[0m \u001b[32m━━━━━━━━━━━━━━━━━━━━\u001b[0m\u001b[37m\u001b[0m \u001b[1m1s\u001b[0m 11ms/step - loss: 2737.8970 - root_mean_squared_error: 52.2878 - val_loss: 3349.5889 - val_root_mean_squared_error: 57.8756\n",
      "Epoch 33/100\n",
      "\u001b[1m52/52\u001b[0m \u001b[32m━━━━━━━━━━━━━━━━━━━━\u001b[0m\u001b[37m\u001b[0m \u001b[1m1s\u001b[0m 11ms/step - loss: 3095.7651 - root_mean_squared_error: 55.5058 - val_loss: 3301.2900 - val_root_mean_squared_error: 57.4569\n",
      "Epoch 34/100\n",
      "\u001b[1m52/52\u001b[0m \u001b[32m━━━━━━━━━━━━━━━━━━━━\u001b[0m\u001b[37m\u001b[0m \u001b[1m1s\u001b[0m 11ms/step - loss: 2564.3669 - root_mean_squared_error: 50.5719 - val_loss: 3302.3179 - val_root_mean_squared_error: 57.4658\n",
      "Epoch 35/100\n",
      "\u001b[1m52/52\u001b[0m \u001b[32m━━━━━━━━━━━━━━━━━━━━\u001b[0m\u001b[37m\u001b[0m \u001b[1m1s\u001b[0m 11ms/step - loss: 2721.7202 - root_mean_squared_error: 52.1381 - val_loss: 3265.3020 - val_root_mean_squared_error: 57.1428\n",
      "Epoch 36/100\n",
      "\u001b[1m52/52\u001b[0m \u001b[32m━━━━━━━━━━━━━━━━━━━━\u001b[0m\u001b[37m\u001b[0m \u001b[1m1s\u001b[0m 10ms/step - loss: 3059.9727 - root_mean_squared_error: 55.2274 - val_loss: 3384.8115 - val_root_mean_squared_error: 58.1791\n",
      "Epoch 37/100\n",
      "\u001b[1m52/52\u001b[0m \u001b[32m━━━━━━━━━━━━━━━━━━━━\u001b[0m\u001b[37m\u001b[0m \u001b[1m1s\u001b[0m 11ms/step - loss: 2735.1409 - root_mean_squared_error: 52.2833 - val_loss: 3271.0193 - val_root_mean_squared_error: 57.1928\n",
      "Epoch 38/100\n",
      "\u001b[1m52/52\u001b[0m \u001b[32m━━━━━━━━━━━━━━━━━━━━\u001b[0m\u001b[37m\u001b[0m \u001b[1m1s\u001b[0m 10ms/step - loss: 2840.4968 - root_mean_squared_error: 53.2744 - val_loss: 3301.9385 - val_root_mean_squared_error: 57.4625\n",
      "Epoch 39/100\n",
      "\u001b[1m52/52\u001b[0m \u001b[32m━━━━━━━━━━━━━━━━━━━━\u001b[0m\u001b[37m\u001b[0m \u001b[1m1s\u001b[0m 11ms/step - loss: 2713.0215 - root_mean_squared_error: 52.0762 - val_loss: 3225.1343 - val_root_mean_squared_error: 56.7903\n",
      "Epoch 40/100\n",
      "\u001b[1m52/52\u001b[0m \u001b[32m━━━━━━━━━━━━━━━━━━━━\u001b[0m\u001b[37m\u001b[0m \u001b[1m1s\u001b[0m 10ms/step - loss: 2661.1868 - root_mean_squared_error: 51.5083 - val_loss: 3490.4673 - val_root_mean_squared_error: 59.0802\n",
      "Epoch 41/100\n",
      "\u001b[1m52/52\u001b[0m \u001b[32m━━━━━━━━━━━━━━━━━━━━\u001b[0m\u001b[37m\u001b[0m \u001b[1m1s\u001b[0m 11ms/step - loss: 2645.6917 - root_mean_squared_error: 51.4329 - val_loss: 3213.6621 - val_root_mean_squared_error: 56.6892\n",
      "Epoch 42/100\n",
      "\u001b[1m52/52\u001b[0m \u001b[32m━━━━━━━━━━━━━━━━━━━━\u001b[0m\u001b[37m\u001b[0m \u001b[1m1s\u001b[0m 10ms/step - loss: 2463.1172 - root_mean_squared_error: 49.5819 - val_loss: 3220.6423 - val_root_mean_squared_error: 56.7507\n",
      "Epoch 43/100\n",
      "\u001b[1m52/52\u001b[0m \u001b[32m━━━━━━━━━━━━━━━━━━━━\u001b[0m\u001b[37m\u001b[0m \u001b[1m1s\u001b[0m 11ms/step - loss: 2336.5867 - root_mean_squared_error: 48.2960 - val_loss: 3395.9146 - val_root_mean_squared_error: 58.2745\n",
      "Epoch 44/100\n",
      "\u001b[1m52/52\u001b[0m \u001b[32m━━━━━━━━━━━━━━━━━━━━\u001b[0m\u001b[37m\u001b[0m \u001b[1m1s\u001b[0m 11ms/step - loss: 2766.7524 - root_mean_squared_error: 52.5476 - val_loss: 3175.4795 - val_root_mean_squared_error: 56.3514\n",
      "Epoch 45/100\n",
      "\u001b[1m52/52\u001b[0m \u001b[32m━━━━━━━━━━━━━━━━━━━━\u001b[0m\u001b[37m\u001b[0m \u001b[1m1s\u001b[0m 11ms/step - loss: 2611.2185 - root_mean_squared_error: 51.0872 - val_loss: 3151.3237 - val_root_mean_squared_error: 56.1367\n",
      "Epoch 46/100\n",
      "\u001b[1m52/52\u001b[0m \u001b[32m━━━━━━━━━━━━━━━━━━━━\u001b[0m\u001b[37m\u001b[0m \u001b[1m1s\u001b[0m 10ms/step - loss: 2619.1428 - root_mean_squared_error: 51.0868 - val_loss: 3950.1555 - val_root_mean_squared_error: 62.8503\n",
      "Epoch 47/100\n",
      "\u001b[1m52/52\u001b[0m \u001b[32m━━━━━━━━━━━━━━━━━━━━\u001b[0m\u001b[37m\u001b[0m \u001b[1m1s\u001b[0m 11ms/step - loss: 2675.1313 - root_mean_squared_error: 51.6974 - val_loss: 3148.4939 - val_root_mean_squared_error: 56.1114\n",
      "Epoch 48/100\n",
      "\u001b[1m52/52\u001b[0m \u001b[32m━━━━━━━━━━━━━━━━━━━━\u001b[0m\u001b[37m\u001b[0m \u001b[1m1s\u001b[0m 10ms/step - loss: 2406.9688 - root_mean_squared_error: 49.0342 - val_loss: 3204.8057 - val_root_mean_squared_error: 56.6110\n",
      "Epoch 49/100\n",
      "\u001b[1m52/52\u001b[0m \u001b[32m━━━━━━━━━━━━━━━━━━━━\u001b[0m\u001b[37m\u001b[0m \u001b[1m1s\u001b[0m 11ms/step - loss: 2519.5918 - root_mean_squared_error: 50.1696 - val_loss: 3074.8684 - val_root_mean_squared_error: 55.4515\n",
      "Epoch 50/100\n",
      "\u001b[1m52/52\u001b[0m \u001b[32m━━━━━━━━━━━━━━━━━━━━\u001b[0m\u001b[37m\u001b[0m \u001b[1m1s\u001b[0m 10ms/step - loss: 2515.4531 - root_mean_squared_error: 50.0896 - val_loss: 3115.2190 - val_root_mean_squared_error: 55.8141\n",
      "Epoch 51/100\n",
      "\u001b[1m52/52\u001b[0m \u001b[32m━━━━━━━━━━━━━━━━━━━━\u001b[0m\u001b[37m\u001b[0m \u001b[1m1s\u001b[0m 10ms/step - loss: 2352.3042 - root_mean_squared_error: 48.4813 - val_loss: 3091.6746 - val_root_mean_squared_error: 55.6028\n",
      "Epoch 52/100\n",
      "\u001b[1m52/52\u001b[0m \u001b[32m━━━━━━━━━━━━━━━━━━━━\u001b[0m\u001b[37m\u001b[0m \u001b[1m1s\u001b[0m 10ms/step - loss: 2672.1580 - root_mean_squared_error: 51.5940 - val_loss: 3181.6882 - val_root_mean_squared_error: 56.4065\n",
      "Epoch 53/100\n",
      "\u001b[1m52/52\u001b[0m \u001b[32m━━━━━━━━━━━━━━━━━━━━\u001b[0m\u001b[37m\u001b[0m \u001b[1m1s\u001b[0m 11ms/step - loss: 2558.3506 - root_mean_squared_error: 50.5501 - val_loss: 3056.5032 - val_root_mean_squared_error: 55.2857\n",
      "Epoch 54/100\n",
      "\u001b[1m52/52\u001b[0m \u001b[32m━━━━━━━━━━━━━━━━━━━━\u001b[0m\u001b[37m\u001b[0m \u001b[1m1s\u001b[0m 10ms/step - loss: 2255.7170 - root_mean_squared_error: 47.4431 - val_loss: 3117.7515 - val_root_mean_squared_error: 55.8368\n",
      "Epoch 55/100\n",
      "\u001b[1m52/52\u001b[0m \u001b[32m━━━━━━━━━━━━━━━━━━━━\u001b[0m\u001b[37m\u001b[0m \u001b[1m1s\u001b[0m 11ms/step - loss: 2259.1802 - root_mean_squared_error: 47.4767 - val_loss: 3017.5652 - val_root_mean_squared_error: 54.9324\n",
      "Epoch 56/100\n",
      "\u001b[1m52/52\u001b[0m \u001b[32m━━━━━━━━━━━━━━━━━━━━\u001b[0m\u001b[37m\u001b[0m \u001b[1m1s\u001b[0m 11ms/step - loss: 2161.6309 - root_mean_squared_error: 46.4616 - val_loss: 2957.8811 - val_root_mean_squared_error: 54.3864\n",
      "Epoch 57/100\n",
      "\u001b[1m52/52\u001b[0m \u001b[32m━━━━━━━━━━━━━━━━━━━━\u001b[0m\u001b[37m\u001b[0m \u001b[1m1s\u001b[0m 10ms/step - loss: 2420.2122 - root_mean_squared_error: 49.1264 - val_loss: 2961.7048 - val_root_mean_squared_error: 54.4215\n",
      "Epoch 58/100\n",
      "\u001b[1m52/52\u001b[0m \u001b[32m━━━━━━━━━━━━━━━━━━━━\u001b[0m\u001b[37m\u001b[0m \u001b[1m1s\u001b[0m 11ms/step - loss: 2349.7966 - root_mean_squared_error: 48.4450 - val_loss: 2940.8162 - val_root_mean_squared_error: 54.2293\n",
      "Epoch 59/100\n",
      "\u001b[1m52/52\u001b[0m \u001b[32m━━━━━━━━━━━━━━━━━━━━\u001b[0m\u001b[37m\u001b[0m \u001b[1m1s\u001b[0m 11ms/step - loss: 2193.0146 - root_mean_squared_error: 46.8060 - val_loss: 2911.6650 - val_root_mean_squared_error: 53.9598\n",
      "Epoch 60/100\n",
      "\u001b[1m52/52\u001b[0m \u001b[32m━━━━━━━━━━━━━━━━━━━━\u001b[0m\u001b[37m\u001b[0m \u001b[1m1s\u001b[0m 11ms/step - loss: 2318.0449 - root_mean_squared_error: 48.1342 - val_loss: 2882.6929 - val_root_mean_squared_error: 53.6907\n",
      "Epoch 61/100\n",
      "\u001b[1m52/52\u001b[0m \u001b[32m━━━━━━━━━━━━━━━━━━━━\u001b[0m\u001b[37m\u001b[0m \u001b[1m1s\u001b[0m 11ms/step - loss: 2139.2749 - root_mean_squared_error: 46.1766 - val_loss: 2851.5037 - val_root_mean_squared_error: 53.3995\n",
      "Epoch 62/100\n",
      "\u001b[1m52/52\u001b[0m \u001b[32m━━━━━━━━━━━━━━━━━━━━\u001b[0m\u001b[37m\u001b[0m \u001b[1m1s\u001b[0m 10ms/step - loss: 2210.6145 - root_mean_squared_error: 46.9966 - val_loss: 2869.1296 - val_root_mean_squared_error: 53.5643\n",
      "Epoch 63/100\n",
      "\u001b[1m52/52\u001b[0m \u001b[32m━━━━━━━━━━━━━━━━━━━━\u001b[0m\u001b[37m\u001b[0m \u001b[1m1s\u001b[0m 10ms/step - loss: 2197.0713 - root_mean_squared_error: 46.8143 - val_loss: 2895.5105 - val_root_mean_squared_error: 53.8099\n",
      "Epoch 64/100\n",
      "\u001b[1m52/52\u001b[0m \u001b[32m━━━━━━━━━━━━━━━━━━━━\u001b[0m\u001b[37m\u001b[0m \u001b[1m1s\u001b[0m 11ms/step - loss: 2229.0940 - root_mean_squared_error: 47.1876 - val_loss: 2797.5625 - val_root_mean_squared_error: 52.8920\n",
      "Epoch 65/100\n",
      "\u001b[1m52/52\u001b[0m \u001b[32m━━━━━━━━━━━━━━━━━━━━\u001b[0m\u001b[37m\u001b[0m \u001b[1m1s\u001b[0m 10ms/step - loss: 2266.4170 - root_mean_squared_error: 47.5775 - val_loss: 3177.8555 - val_root_mean_squared_error: 56.3725\n",
      "Epoch 66/100\n",
      "\u001b[1m52/52\u001b[0m \u001b[32m━━━━━━━━━━━━━━━━━━━━\u001b[0m\u001b[37m\u001b[0m \u001b[1m1s\u001b[0m 10ms/step - loss: 2336.4834 - root_mean_squared_error: 48.3181 - val_loss: 2807.4421 - val_root_mean_squared_error: 52.9853\n",
      "Epoch 67/100\n",
      "\u001b[1m52/52\u001b[0m \u001b[32m━━━━━━━━━━━━━━━━━━━━\u001b[0m\u001b[37m\u001b[0m \u001b[1m1s\u001b[0m 11ms/step - loss: 2360.1284 - root_mean_squared_error: 48.5422 - val_loss: 2779.3413 - val_root_mean_squared_error: 52.7195\n",
      "Epoch 68/100\n",
      "\u001b[1m52/52\u001b[0m \u001b[32m━━━━━━━━━━━━━━━━━━━━\u001b[0m\u001b[37m\u001b[0m \u001b[1m1s\u001b[0m 11ms/step - loss: 2449.4077 - root_mean_squared_error: 49.4560 - val_loss: 2767.4919 - val_root_mean_squared_error: 52.6070\n",
      "Epoch 69/100\n",
      "\u001b[1m52/52\u001b[0m \u001b[32m━━━━━━━━━━━━━━━━━━━━\u001b[0m\u001b[37m\u001b[0m \u001b[1m1s\u001b[0m 12ms/step - loss: 2366.9678 - root_mean_squared_error: 48.6064 - val_loss: 2752.3467 - val_root_mean_squared_error: 52.4628\n",
      "Epoch 70/100\n",
      "\u001b[1m52/52\u001b[0m \u001b[32m━━━━━━━━━━━━━━━━━━━━\u001b[0m\u001b[37m\u001b[0m \u001b[1m1s\u001b[0m 12ms/step - loss: 2154.3599 - root_mean_squared_error: 46.3942 - val_loss: 2732.8455 - val_root_mean_squared_error: 52.2766\n",
      "Epoch 71/100\n",
      "\u001b[1m52/52\u001b[0m \u001b[32m━━━━━━━━━━━━━━━━━━━━\u001b[0m\u001b[37m\u001b[0m \u001b[1m1s\u001b[0m 12ms/step - loss: 2271.5496 - root_mean_squared_error: 47.6493 - val_loss: 3006.8000 - val_root_mean_squared_error: 54.8343\n",
      "Epoch 72/100\n",
      "\u001b[1m52/52\u001b[0m \u001b[32m━━━━━━━━━━━━━━━━━━━━\u001b[0m\u001b[37m\u001b[0m \u001b[1m1s\u001b[0m 13ms/step - loss: 2262.6699 - root_mean_squared_error: 47.5219 - val_loss: 2717.9053 - val_root_mean_squared_error: 52.1335\n",
      "Epoch 73/100\n",
      "\u001b[1m52/52\u001b[0m \u001b[32m━━━━━━━━━━━━━━━━━━━━\u001b[0m\u001b[37m\u001b[0m \u001b[1m1s\u001b[0m 11ms/step - loss: 2031.8589 - root_mean_squared_error: 45.0593 - val_loss: 2695.2114 - val_root_mean_squared_error: 51.9154\n",
      "Epoch 74/100\n",
      "\u001b[1m52/52\u001b[0m \u001b[32m━━━━━━━━━━━━━━━━━━━━\u001b[0m\u001b[37m\u001b[0m \u001b[1m1s\u001b[0m 11ms/step - loss: 2169.9382 - root_mean_squared_error: 46.5482 - val_loss: 2661.8467 - val_root_mean_squared_error: 51.5931\n",
      "Epoch 75/100\n",
      "\u001b[1m52/52\u001b[0m \u001b[32m━━━━━━━━━━━━━━━━━━━━\u001b[0m\u001b[37m\u001b[0m \u001b[1m1s\u001b[0m 10ms/step - loss: 2234.4702 - root_mean_squared_error: 47.2121 - val_loss: 2662.8489 - val_root_mean_squared_error: 51.6028\n",
      "Epoch 76/100\n",
      "\u001b[1m52/52\u001b[0m \u001b[32m━━━━━━━━━━━━━━━━━━━━\u001b[0m\u001b[37m\u001b[0m \u001b[1m1s\u001b[0m 10ms/step - loss: 2116.4353 - root_mean_squared_error: 45.9857 - val_loss: 2687.7522 - val_root_mean_squared_error: 51.8435\n",
      "Epoch 77/100\n",
      "\u001b[1m52/52\u001b[0m \u001b[32m━━━━━━━━━━━━━━━━━━━━\u001b[0m\u001b[37m\u001b[0m \u001b[1m1s\u001b[0m 10ms/step - loss: 2118.2334 - root_mean_squared_error: 46.0019 - val_loss: 2680.5056 - val_root_mean_squared_error: 51.7736\n",
      "Epoch 78/100\n",
      "\u001b[1m52/52\u001b[0m \u001b[32m━━━━━━━━━━━━━━━━━━━━\u001b[0m\u001b[37m\u001b[0m \u001b[1m1s\u001b[0m 11ms/step - loss: 2034.3459 - root_mean_squared_error: 45.0635 - val_loss: 2623.1831 - val_root_mean_squared_error: 51.2170\n",
      "Epoch 79/100\n",
      "\u001b[1m52/52\u001b[0m \u001b[32m━━━━━━━━━━━━━━━━━━━━\u001b[0m\u001b[37m\u001b[0m \u001b[1m1s\u001b[0m 10ms/step - loss: 2113.6538 - root_mean_squared_error: 45.9549 - val_loss: 2636.2991 - val_root_mean_squared_error: 51.3449\n",
      "Epoch 80/100\n",
      "\u001b[1m52/52\u001b[0m \u001b[32m━━━━━━━━━━━━━━━━━━━━\u001b[0m\u001b[37m\u001b[0m \u001b[1m1s\u001b[0m 10ms/step - loss: 2239.3052 - root_mean_squared_error: 47.3062 - val_loss: 2692.4453 - val_root_mean_squared_error: 51.8888\n",
      "Epoch 81/100\n",
      "\u001b[1m52/52\u001b[0m \u001b[32m━━━━━━━━━━━━━━━━━━━━\u001b[0m\u001b[37m\u001b[0m \u001b[1m1s\u001b[0m 11ms/step - loss: 2043.8895 - root_mean_squared_error: 45.1964 - val_loss: 2570.9756 - val_root_mean_squared_error: 50.7048\n",
      "Epoch 82/100\n",
      "\u001b[1m52/52\u001b[0m \u001b[32m━━━━━━━━━━━━━━━━━━━━\u001b[0m\u001b[37m\u001b[0m \u001b[1m1s\u001b[0m 10ms/step - loss: 2001.5577 - root_mean_squared_error: 44.7251 - val_loss: 2654.8740 - val_root_mean_squared_error: 51.5255\n",
      "Epoch 83/100\n",
      "\u001b[1m52/52\u001b[0m \u001b[32m━━━━━━━━━━━━━━━━━━━━\u001b[0m\u001b[37m\u001b[0m \u001b[1m1s\u001b[0m 11ms/step - loss: 1896.4620 - root_mean_squared_error: 43.5028 - val_loss: 2550.8174 - val_root_mean_squared_error: 50.5056\n",
      "Epoch 84/100\n",
      "\u001b[1m52/52\u001b[0m \u001b[32m━━━━━━━━━━━━━━━━━━━━\u001b[0m\u001b[37m\u001b[0m \u001b[1m1s\u001b[0m 10ms/step - loss: 2155.8911 - root_mean_squared_error: 46.3900 - val_loss: 2564.7354 - val_root_mean_squared_error: 50.6432\n",
      "Epoch 85/100\n",
      "\u001b[1m52/52\u001b[0m \u001b[32m━━━━━━━━━━━━━━━━━━━━\u001b[0m\u001b[37m\u001b[0m \u001b[1m1s\u001b[0m 12ms/step - loss: 1837.9852 - root_mean_squared_error: 42.8148 - val_loss: 2546.6223 - val_root_mean_squared_error: 50.4641\n",
      "Epoch 86/100\n",
      "\u001b[1m52/52\u001b[0m \u001b[32m━━━━━━━━━━━━━━━━━━━━\u001b[0m\u001b[37m\u001b[0m \u001b[1m1s\u001b[0m 12ms/step - loss: 1948.1644 - root_mean_squared_error: 44.0954 - val_loss: 2516.5803 - val_root_mean_squared_error: 50.1655\n",
      "Epoch 87/100\n",
      "\u001b[1m52/52\u001b[0m \u001b[32m━━━━━━━━━━━━━━━━━━━━\u001b[0m\u001b[37m\u001b[0m \u001b[1m1s\u001b[0m 11ms/step - loss: 1935.8473 - root_mean_squared_error: 43.9871 - val_loss: 2503.2283 - val_root_mean_squared_error: 50.0323\n",
      "Epoch 88/100\n",
      "\u001b[1m52/52\u001b[0m \u001b[32m━━━━━━━━━━━━━━━━━━━━\u001b[0m\u001b[37m\u001b[0m \u001b[1m1s\u001b[0m 11ms/step - loss: 1826.2773 - root_mean_squared_error: 42.6602 - val_loss: 2511.5259 - val_root_mean_squared_error: 50.1151\n",
      "Epoch 89/100\n",
      "\u001b[1m52/52\u001b[0m \u001b[32m━━━━━━━━━━━━━━━━━━━━\u001b[0m\u001b[37m\u001b[0m \u001b[1m1s\u001b[0m 11ms/step - loss: 2287.8350 - root_mean_squared_error: 47.7809 - val_loss: 2494.3679 - val_root_mean_squared_error: 49.9436\n",
      "Epoch 90/100\n",
      "\u001b[1m52/52\u001b[0m \u001b[32m━━━━━━━━━━━━━━━━━━━━\u001b[0m\u001b[37m\u001b[0m \u001b[1m1s\u001b[0m 10ms/step - loss: 1946.2488 - root_mean_squared_error: 44.0738 - val_loss: 2523.2905 - val_root_mean_squared_error: 50.2324\n",
      "Epoch 91/100\n",
      "\u001b[1m52/52\u001b[0m \u001b[32m━━━━━━━━━━━━━━━━━━━━\u001b[0m\u001b[37m\u001b[0m \u001b[1m1s\u001b[0m 11ms/step - loss: 2011.9106 - root_mean_squared_error: 44.8390 - val_loss: 2491.4976 - val_root_mean_squared_error: 49.9149\n",
      "Epoch 92/100\n",
      "\u001b[1m52/52\u001b[0m \u001b[32m━━━━━━━━━━━━━━━━━━━━\u001b[0m\u001b[37m\u001b[0m \u001b[1m1s\u001b[0m 11ms/step - loss: 1893.2614 - root_mean_squared_error: 43.4712 - val_loss: 2465.0205 - val_root_mean_squared_error: 49.6490\n",
      "Epoch 93/100\n",
      "\u001b[1m52/52\u001b[0m \u001b[32m━━━━━━━━━━━━━━━━━━━━\u001b[0m\u001b[37m\u001b[0m \u001b[1m1s\u001b[0m 10ms/step - loss: 1863.0923 - root_mean_squared_error: 43.1144 - val_loss: 2768.8718 - val_root_mean_squared_error: 52.6201\n",
      "Epoch 94/100\n",
      "\u001b[1m52/52\u001b[0m \u001b[32m━━━━━━━━━━━━━━━━━━━━\u001b[0m\u001b[37m\u001b[0m \u001b[1m1s\u001b[0m 11ms/step - loss: 1939.0424 - root_mean_squared_error: 44.0200 - val_loss: 2509.8872 - val_root_mean_squared_error: 50.0988\n",
      "Epoch 95/100\n",
      "\u001b[1m52/52\u001b[0m \u001b[32m━━━━━━━━━━━━━━━━━━━━\u001b[0m\u001b[37m\u001b[0m \u001b[1m1s\u001b[0m 11ms/step - loss: 1833.5917 - root_mean_squared_error: 42.7882 - val_loss: 2492.3650 - val_root_mean_squared_error: 49.9236\n",
      "Epoch 96/100\n",
      "\u001b[1m52/52\u001b[0m \u001b[32m━━━━━━━━━━━━━━━━━━━━\u001b[0m\u001b[37m\u001b[0m \u001b[1m1s\u001b[0m 11ms/step - loss: 1894.4628 - root_mean_squared_error: 43.4730 - val_loss: 2602.5146 - val_root_mean_squared_error: 51.0148\n",
      "Epoch 97/100\n",
      "\u001b[1m52/52\u001b[0m \u001b[32m━━━━━━━━━━━━━━━━━━━━\u001b[0m\u001b[37m\u001b[0m \u001b[1m1s\u001b[0m 11ms/step - loss: 1972.7451 - root_mean_squared_error: 44.4002 - val_loss: 2489.1033 - val_root_mean_squared_error: 49.8909\n",
      "Epoch 98/100\n",
      "\u001b[1m52/52\u001b[0m \u001b[32m━━━━━━━━━━━━━━━━━━━━\u001b[0m\u001b[37m\u001b[0m \u001b[1m1s\u001b[0m 11ms/step - loss: 1994.0144 - root_mean_squared_error: 44.6266 - val_loss: 2408.9331 - val_root_mean_squared_error: 49.0809\n",
      "Epoch 99/100\n",
      "\u001b[1m52/52\u001b[0m \u001b[32m━━━━━━━━━━━━━━━━━━━━\u001b[0m\u001b[37m\u001b[0m \u001b[1m1s\u001b[0m 11ms/step - loss: 1605.3937 - root_mean_squared_error: 39.9857 - val_loss: 2400.2261 - val_root_mean_squared_error: 48.9921\n",
      "Epoch 100/100\n",
      "\u001b[1m52/52\u001b[0m \u001b[32m━━━━━━━━━━━━━━━━━━━━\u001b[0m\u001b[37m\u001b[0m \u001b[1m1s\u001b[0m 11ms/step - loss: 1809.7507 - root_mean_squared_error: 42.4722 - val_loss: 2530.2703 - val_root_mean_squared_error: 50.3018\n"
     ]
    },
    {
     "data": {
      "text/plain": [
       "<keras.src.callbacks.history.History at 0x7c6fd1efcca0>"
      ]
     },
     "execution_count": 60,
     "metadata": {},
     "output_type": "execute_result"
    }
   ],
   "source": [
    "model9 = Sequential()\n",
    "model9.add(InputLayer((6, 5)))  # 6 timestamps, 6 features\n",
    "model9.add(BatchNormalization())  # Normalize inputs\n",
    "model9.add(GRU(128, activation='relu', return_sequences=True))  # GRU layer\n",
    "model9.add(Dropout(0.3))  # Dropout for regularization\n",
    "model9.add(GRU(64, activation='relu', return_sequences=False))  # Second GRU layer\n",
    "model9.add(Dense(32, activation='relu'))  # Fully connected layer\n",
    "model9.add(Dense(16, activation='relu'))  # Second dense layer\n",
    "model9.add(Dense(1, activation='linear'))  # Output layer\n",
    "\n",
    "cp9 = ModelCheckpoint('/kaggle/working/model9.keras', save_best_only=True)\n",
    "\n",
    "model9.compile(loss=MeanSquaredError(), optimizer=Adam(learning_rate=0.0001), \n",
    "               metrics=[RootMeanSquaredError()])\n",
    "\n",
    "model9.fit(X_train1, y_train1, validation_data=(X_val1, y_val1), epochs=100, \n",
    "           callbacks=[cp9])"
   ]
  },
  {
   "cell_type": "code",
   "execution_count": 61,
   "id": "46a51aa4",
   "metadata": {
    "execution": {
     "iopub.execute_input": "2025-01-28T03:17:11.357306Z",
     "iopub.status.busy": "2025-01-28T03:17:11.356939Z",
     "iopub.status.idle": "2025-01-28T03:17:11.567279Z",
     "shell.execute_reply": "2025-01-28T03:17:11.566256Z"
    },
    "papermill": {
     "duration": 0.370468,
     "end_time": "2025-01-28T03:17:11.569295",
     "exception": false,
     "start_time": "2025-01-28T03:17:11.198827",
     "status": "completed"
    },
    "tags": []
   },
   "outputs": [],
   "source": [
    "from tensorflow.keras.models import load_model\n",
    "model9 = load_model('/kaggle/working/model9.keras')"
   ]
  },
  {
   "cell_type": "code",
   "execution_count": 62,
   "id": "615ca840",
   "metadata": {
    "execution": {
     "iopub.execute_input": "2025-01-28T03:17:11.878164Z",
     "iopub.status.busy": "2025-01-28T03:17:11.877778Z",
     "iopub.status.idle": "2025-01-28T03:17:12.882668Z",
     "shell.execute_reply": "2025-01-28T03:17:12.881568Z"
    },
    "papermill": {
     "duration": 1.161376,
     "end_time": "2025-01-28T03:17:12.884386",
     "exception": false,
     "start_time": "2025-01-28T03:17:11.723010",
     "status": "completed"
    },
    "tags": []
   },
   "outputs": [
    {
     "name": "stdout",
     "output_type": "stream",
     "text": [
      "\u001b[1m52/52\u001b[0m \u001b[32m━━━━━━━━━━━━━━━━━━━━\u001b[0m\u001b[37m\u001b[0m \u001b[1m1s\u001b[0m 11ms/step\n",
      "Evaluation Metrics:\n",
      "Mean Absolute Error (MAE): 25.8692\n",
      "Mean Squared Error (MSE): 1568.4740\n",
      "Root Mean Squared Error (RMSE): 39.6040\n",
      "R-squared (Accuracy): 0.8037\n"
     ]
    }
   ],
   "source": [
    "# Evaluate the model on the train data\n",
    "train_result = model9.predict(X_train1)\n",
    "\n",
    "# Calculate metrics\n",
    "mse = mean_squared_error(y_train1, train_result)\n",
    "rmse = np.sqrt(mse)\n",
    "mae = mean_absolute_error(y_train1, train_result)\n",
    "r2 = r2_score(y_train1, train_result)\n",
    "\n",
    "# Print the results\n",
    "print(\"Evaluation Metrics:\")\n",
    "print(f\"Mean Absolute Error (MAE): {mae:.4f}\")\n",
    "print(f\"Mean Squared Error (MSE): {mse:.4f}\")\n",
    "print(f\"Root Mean Squared Error (RMSE): {rmse:.4f}\")\n",
    "print(f\"R-squared (Accuracy): {r2:.4f}\")"
   ]
  },
  {
   "cell_type": "code",
   "execution_count": 63,
   "id": "43496fcc",
   "metadata": {
    "execution": {
     "iopub.execute_input": "2025-01-28T03:17:13.198731Z",
     "iopub.status.busy": "2025-01-28T03:17:13.198295Z",
     "iopub.status.idle": "2025-01-28T03:17:13.304890Z",
     "shell.execute_reply": "2025-01-28T03:17:13.303589Z"
    },
    "papermill": {
     "duration": 0.266205,
     "end_time": "2025-01-28T03:17:13.306721",
     "exception": false,
     "start_time": "2025-01-28T03:17:13.040516",
     "status": "completed"
    },
    "tags": []
   },
   "outputs": [
    {
     "name": "stdout",
     "output_type": "stream",
     "text": [
      "\u001b[1m7/7\u001b[0m \u001b[32m━━━━━━━━━━━━━━━━━━━━\u001b[0m\u001b[37m\u001b[0m \u001b[1m0s\u001b[0m 3ms/step \n",
      "Evaluation Metrics:\n",
      "Mean Absolute Error (MAE): 26.4082\n",
      "Mean Squared Error (MSE): 2400.2259\n",
      "Root Mean Squared Error (RMSE): 48.9921\n",
      "R-squared (Accuracy): 0.5685\n"
     ]
    }
   ],
   "source": [
    "# Evaluate the model on the validation data\n",
    "val_result = model9.predict(X_val1)\n",
    "\n",
    "# Calculate metrics\n",
    "mse = mean_squared_error(y_val1, val_result)\n",
    "rmse = np.sqrt(mse)\n",
    "mae = mean_absolute_error(y_val1, val_result)\n",
    "r2 = r2_score(y_val1, val_result)\n",
    "\n",
    "# Print the results\n",
    "print(\"Evaluation Metrics:\")\n",
    "print(f\"Mean Absolute Error (MAE): {mae:.4f}\")\n",
    "print(f\"Mean Squared Error (MSE): {mse:.4f}\")\n",
    "print(f\"Root Mean Squared Error (RMSE): {rmse:.4f}\")\n",
    "print(f\"R-squared (Accuracy): {r2:.4f}\")"
   ]
  },
  {
   "cell_type": "code",
   "execution_count": 64,
   "id": "042d0fe2",
   "metadata": {
    "execution": {
     "iopub.execute_input": "2025-01-28T03:17:13.618993Z",
     "iopub.status.busy": "2025-01-28T03:17:13.618574Z",
     "iopub.status.idle": "2025-01-28T03:17:13.725988Z",
     "shell.execute_reply": "2025-01-28T03:17:13.724915Z"
    },
    "papermill": {
     "duration": 0.264618,
     "end_time": "2025-01-28T03:17:13.727890",
     "exception": false,
     "start_time": "2025-01-28T03:17:13.463272",
     "status": "completed"
    },
    "tags": []
   },
   "outputs": [
    {
     "name": "stdout",
     "output_type": "stream",
     "text": [
      "\u001b[1m7/7\u001b[0m \u001b[32m━━━━━━━━━━━━━━━━━━━━\u001b[0m\u001b[37m\u001b[0m \u001b[1m0s\u001b[0m 4ms/step \n",
      "Evaluation Metrics:\n",
      "Mean Absolute Error (MAE): 39.0349\n",
      "Mean Squared Error (MSE): 3378.7191\n",
      "Root Mean Squared Error (RMSE): 58.1268\n",
      "R-squared (Accuracy): 0.6923\n"
     ]
    }
   ],
   "source": [
    "# Evaluate the model on the test data\n",
    "test_result = model9.predict(X_test1)\n",
    "\n",
    "# Calculate metrics\n",
    "mse = mean_squared_error(y_test1, test_result)\n",
    "rmse = np.sqrt(mse)\n",
    "mae = mean_absolute_error(y_test1, test_result)\n",
    "r2 = r2_score(y_test1, test_result)\n",
    "\n",
    "# Print the results\n",
    "print(\"Evaluation Metrics:\")\n",
    "print(f\"Mean Absolute Error (MAE): {mae:.4f}\")\n",
    "print(f\"Mean Squared Error (MSE): {mse:.4f}\")\n",
    "print(f\"Root Mean Squared Error (RMSE): {rmse:.4f}\")\n",
    "print(f\"R-squared (Accuracy): {r2:.4f}\")"
   ]
  },
  {
   "cell_type": "code",
   "execution_count": 65,
   "id": "981430cb",
   "metadata": {
    "execution": {
     "iopub.execute_input": "2025-01-28T03:17:14.100741Z",
     "iopub.status.busy": "2025-01-28T03:17:14.100359Z",
     "iopub.status.idle": "2025-01-28T03:17:14.364378Z",
     "shell.execute_reply": "2025-01-28T03:17:14.363287Z"
    },
    "papermill": {
     "duration": 0.422146,
     "end_time": "2025-01-28T03:17:14.366262",
     "exception": false,
     "start_time": "2025-01-28T03:17:13.944116",
     "status": "completed"
    },
    "tags": []
   },
   "outputs": [
    {
     "name": "stdout",
     "output_type": "stream",
     "text": [
      "\u001b[1m52/52\u001b[0m \u001b[32m━━━━━━━━━━━━━━━━━━━━\u001b[0m\u001b[37m\u001b[0m \u001b[1m0s\u001b[0m 3ms/step\n"
     ]
    },
    {
     "data": {
      "text/html": [
       "<div>\n",
       "<style scoped>\n",
       "    .dataframe tbody tr th:only-of-type {\n",
       "        vertical-align: middle;\n",
       "    }\n",
       "\n",
       "    .dataframe tbody tr th {\n",
       "        vertical-align: top;\n",
       "    }\n",
       "\n",
       "    .dataframe thead th {\n",
       "        text-align: right;\n",
       "    }\n",
       "</style>\n",
       "<table border=\"1\" class=\"dataframe\">\n",
       "  <thead>\n",
       "    <tr style=\"text-align: right;\">\n",
       "      <th></th>\n",
       "      <th>Train Predictions</th>\n",
       "      <th>Actuals</th>\n",
       "    </tr>\n",
       "  </thead>\n",
       "  <tbody>\n",
       "    <tr>\n",
       "      <th>0</th>\n",
       "      <td>170.476807</td>\n",
       "      <td>172.0</td>\n",
       "    </tr>\n",
       "    <tr>\n",
       "      <th>1</th>\n",
       "      <td>168.337540</td>\n",
       "      <td>173.0</td>\n",
       "    </tr>\n",
       "    <tr>\n",
       "      <th>2</th>\n",
       "      <td>160.539062</td>\n",
       "      <td>163.0</td>\n",
       "    </tr>\n",
       "    <tr>\n",
       "      <th>3</th>\n",
       "      <td>146.787338</td>\n",
       "      <td>154.0</td>\n",
       "    </tr>\n",
       "    <tr>\n",
       "      <th>4</th>\n",
       "      <td>138.664581</td>\n",
       "      <td>171.0</td>\n",
       "    </tr>\n",
       "    <tr>\n",
       "      <th>...</th>\n",
       "      <td>...</td>\n",
       "      <td>...</td>\n",
       "    </tr>\n",
       "    <tr>\n",
       "      <th>1647</th>\n",
       "      <td>96.488480</td>\n",
       "      <td>95.0</td>\n",
       "    </tr>\n",
       "    <tr>\n",
       "      <th>1648</th>\n",
       "      <td>96.488480</td>\n",
       "      <td>95.0</td>\n",
       "    </tr>\n",
       "    <tr>\n",
       "      <th>1649</th>\n",
       "      <td>96.488480</td>\n",
       "      <td>95.0</td>\n",
       "    </tr>\n",
       "    <tr>\n",
       "      <th>1650</th>\n",
       "      <td>96.488472</td>\n",
       "      <td>95.0</td>\n",
       "    </tr>\n",
       "    <tr>\n",
       "      <th>1651</th>\n",
       "      <td>96.488472</td>\n",
       "      <td>95.0</td>\n",
       "    </tr>\n",
       "  </tbody>\n",
       "</table>\n",
       "<p>1652 rows × 2 columns</p>\n",
       "</div>"
      ],
      "text/plain": [
       "      Train Predictions  Actuals\n",
       "0            170.476807    172.0\n",
       "1            168.337540    173.0\n",
       "2            160.539062    163.0\n",
       "3            146.787338    154.0\n",
       "4            138.664581    171.0\n",
       "...                 ...      ...\n",
       "1647          96.488480     95.0\n",
       "1648          96.488480     95.0\n",
       "1649          96.488480     95.0\n",
       "1650          96.488472     95.0\n",
       "1651          96.488472     95.0\n",
       "\n",
       "[1652 rows x 2 columns]"
      ]
     },
     "execution_count": 65,
     "metadata": {},
     "output_type": "execute_result"
    }
   ],
   "source": [
    "train_predictions = model9.predict(X_train1).flatten()\n",
    "train_results = pd.DataFrame(data={'Train Predictions':train_predictions, 'Actuals':y_train1})\n",
    "train_results"
   ]
  },
  {
   "cell_type": "code",
   "execution_count": 66,
   "id": "ad60ed25",
   "metadata": {
    "execution": {
     "iopub.execute_input": "2025-01-28T03:17:14.680359Z",
     "iopub.status.busy": "2025-01-28T03:17:14.680002Z",
     "iopub.status.idle": "2025-01-28T03:17:14.867369Z",
     "shell.execute_reply": "2025-01-28T03:17:14.866283Z"
    },
    "papermill": {
     "duration": 0.345855,
     "end_time": "2025-01-28T03:17:14.869066",
     "exception": false,
     "start_time": "2025-01-28T03:17:14.523211",
     "status": "completed"
    },
    "tags": []
   },
   "outputs": [
    {
     "data": {
      "image/png": "[encoded data removed]",
      "text/plain": [
       "<Figure size 640x480 with 1 Axes>"
      ]
     },
     "metadata": {},
     "output_type": "display_data"
    }
   ],
   "source": [
    "plt.plot(train_results['Actuals'][1:50], label='Actual')\n",
    "plt.plot(train_results['Train Predictions'][1:50], label='Predicted')\n",
    "plt.legend()\n",
    "plt.show()"
   ]
  },
  {
   "cell_type": "code",
   "execution_count": 67,
   "id": "65188de8",
   "metadata": {
    "execution": {
     "iopub.execute_input": "2025-01-28T03:17:15.189443Z",
     "iopub.status.busy": "2025-01-28T03:17:15.189041Z",
     "iopub.status.idle": "2025-01-28T03:17:15.293805Z",
     "shell.execute_reply": "2025-01-28T03:17:15.292702Z"
    },
    "papermill": {
     "duration": 0.267966,
     "end_time": "2025-01-28T03:17:15.295403",
     "exception": false,
     "start_time": "2025-01-28T03:17:15.027437",
     "status": "completed"
    },
    "tags": []
   },
   "outputs": [
    {
     "name": "stdout",
     "output_type": "stream",
     "text": [
      "\u001b[1m7/7\u001b[0m \u001b[32m━━━━━━━━━━━━━━━━━━━━\u001b[0m\u001b[37m\u001b[0m \u001b[1m0s\u001b[0m 3ms/step \n"
     ]
    },
    {
     "data": {
      "text/html": [
       "<div>\n",
       "<style scoped>\n",
       "    .dataframe tbody tr th:only-of-type {\n",
       "        vertical-align: middle;\n",
       "    }\n",
       "\n",
       "    .dataframe tbody tr th {\n",
       "        vertical-align: top;\n",
       "    }\n",
       "\n",
       "    .dataframe thead th {\n",
       "        text-align: right;\n",
       "    }\n",
       "</style>\n",
       "<table border=\"1\" class=\"dataframe\">\n",
       "  <thead>\n",
       "    <tr style=\"text-align: right;\">\n",
       "      <th></th>\n",
       "      <th>Train Predictions</th>\n",
       "      <th>Actuals</th>\n",
       "    </tr>\n",
       "  </thead>\n",
       "  <tbody>\n",
       "    <tr>\n",
       "      <th>0</th>\n",
       "      <td>96.488480</td>\n",
       "      <td>95.0</td>\n",
       "    </tr>\n",
       "    <tr>\n",
       "      <th>1</th>\n",
       "      <td>96.488480</td>\n",
       "      <td>95.0</td>\n",
       "    </tr>\n",
       "    <tr>\n",
       "      <th>2</th>\n",
       "      <td>96.488480</td>\n",
       "      <td>95.0</td>\n",
       "    </tr>\n",
       "    <tr>\n",
       "      <th>3</th>\n",
       "      <td>96.488480</td>\n",
       "      <td>95.0</td>\n",
       "    </tr>\n",
       "    <tr>\n",
       "      <th>4</th>\n",
       "      <td>96.488480</td>\n",
       "      <td>95.0</td>\n",
       "    </tr>\n",
       "    <tr>\n",
       "      <th>...</th>\n",
       "      <td>...</td>\n",
       "      <td>...</td>\n",
       "    </tr>\n",
       "    <tr>\n",
       "      <th>196</th>\n",
       "      <td>149.873062</td>\n",
       "      <td>157.0</td>\n",
       "    </tr>\n",
       "    <tr>\n",
       "      <th>197</th>\n",
       "      <td>149.873062</td>\n",
       "      <td>157.0</td>\n",
       "    </tr>\n",
       "    <tr>\n",
       "      <th>198</th>\n",
       "      <td>149.873093</td>\n",
       "      <td>157.0</td>\n",
       "    </tr>\n",
       "    <tr>\n",
       "      <th>199</th>\n",
       "      <td>149.873093</td>\n",
       "      <td>122.0</td>\n",
       "    </tr>\n",
       "    <tr>\n",
       "      <th>200</th>\n",
       "      <td>147.280197</td>\n",
       "      <td>122.0</td>\n",
       "    </tr>\n",
       "  </tbody>\n",
       "</table>\n",
       "<p>201 rows × 2 columns</p>\n",
       "</div>"
      ],
      "text/plain": [
       "     Train Predictions  Actuals\n",
       "0            96.488480     95.0\n",
       "1            96.488480     95.0\n",
       "2            96.488480     95.0\n",
       "3            96.488480     95.0\n",
       "4            96.488480     95.0\n",
       "..                 ...      ...\n",
       "196         149.873062    157.0\n",
       "197         149.873062    157.0\n",
       "198         149.873093    157.0\n",
       "199         149.873093    122.0\n",
       "200         147.280197    122.0\n",
       "\n",
       "[201 rows x 2 columns]"
      ]
     },
     "execution_count": 67,
     "metadata": {},
     "output_type": "execute_result"
    }
   ],
   "source": [
    "val_predictions = model9.predict(X_val1).flatten()\n",
    "val_results = pd.DataFrame(data={'Train Predictions':val_predictions, 'Actuals':y_val1})\n",
    "val_results"
   ]
  },
  {
   "cell_type": "code",
   "execution_count": 68,
   "id": "3ab6c3a2",
   "metadata": {
    "execution": {
     "iopub.execute_input": "2025-01-28T03:17:15.609253Z",
     "iopub.status.busy": "2025-01-28T03:17:15.608906Z",
     "iopub.status.idle": "2025-01-28T03:17:15.785774Z",
     "shell.execute_reply": "2025-01-28T03:17:15.784692Z"
    },
    "papermill": {
     "duration": 0.334963,
     "end_time": "2025-01-28T03:17:15.787614",
     "exception": false,
     "start_time": "2025-01-28T03:17:15.452651",
     "status": "completed"
    },
    "tags": []
   },
   "outputs": [
    {
     "data": {
      "image/png": "[encoded data removed]",
      "text/plain": [
       "<Figure size 640x480 with 1 Axes>"
      ]
     },
     "metadata": {},
     "output_type": "display_data"
    }
   ],
   "source": [
    "plt.plot(val_results['Actuals'][1:50], label='Actual')\n",
    "plt.plot(val_results['Train Predictions'][1:50], label='Predicted')\n",
    "plt.legend()\n",
    "plt.show()"
   ]
  },
  {
   "cell_type": "code",
   "execution_count": 69,
   "id": "437a7deb",
   "metadata": {
    "execution": {
     "iopub.execute_input": "2025-01-28T03:17:16.107014Z",
     "iopub.status.busy": "2025-01-28T03:17:16.106606Z",
     "iopub.status.idle": "2025-01-28T03:17:16.212749Z",
     "shell.execute_reply": "2025-01-28T03:17:16.211588Z"
    },
    "papermill": {
     "duration": 0.267176,
     "end_time": "2025-01-28T03:17:16.214726",
     "exception": false,
     "start_time": "2025-01-28T03:17:15.947550",
     "status": "completed"
    },
    "tags": []
   },
   "outputs": [
    {
     "name": "stdout",
     "output_type": "stream",
     "text": [
      "\u001b[1m7/7\u001b[0m \u001b[32m━━━━━━━━━━━━━━━━━━━━\u001b[0m\u001b[37m\u001b[0m \u001b[1m0s\u001b[0m 3ms/step \n"
     ]
    },
    {
     "data": {
      "text/html": [
       "<div>\n",
       "<style scoped>\n",
       "    .dataframe tbody tr th:only-of-type {\n",
       "        vertical-align: middle;\n",
       "    }\n",
       "\n",
       "    .dataframe tbody tr th {\n",
       "        vertical-align: top;\n",
       "    }\n",
       "\n",
       "    .dataframe thead th {\n",
       "        text-align: right;\n",
       "    }\n",
       "</style>\n",
       "<table border=\"1\" class=\"dataframe\">\n",
       "  <thead>\n",
       "    <tr style=\"text-align: right;\">\n",
       "      <th></th>\n",
       "      <th>Train Predictions</th>\n",
       "      <th>Actuals</th>\n",
       "    </tr>\n",
       "  </thead>\n",
       "  <tbody>\n",
       "    <tr>\n",
       "      <th>0</th>\n",
       "      <td>123.756577</td>\n",
       "      <td>122.0</td>\n",
       "    </tr>\n",
       "    <tr>\n",
       "      <th>1</th>\n",
       "      <td>123.756577</td>\n",
       "      <td>122.0</td>\n",
       "    </tr>\n",
       "    <tr>\n",
       "      <th>2</th>\n",
       "      <td>123.756577</td>\n",
       "      <td>122.0</td>\n",
       "    </tr>\n",
       "    <tr>\n",
       "      <th>3</th>\n",
       "      <td>123.756577</td>\n",
       "      <td>122.0</td>\n",
       "    </tr>\n",
       "    <tr>\n",
       "      <th>4</th>\n",
       "      <td>123.756577</td>\n",
       "      <td>122.0</td>\n",
       "    </tr>\n",
       "    <tr>\n",
       "      <th>...</th>\n",
       "      <td>...</td>\n",
       "      <td>...</td>\n",
       "    </tr>\n",
       "    <tr>\n",
       "      <th>197</th>\n",
       "      <td>329.872772</td>\n",
       "      <td>294.0</td>\n",
       "    </tr>\n",
       "    <tr>\n",
       "      <th>198</th>\n",
       "      <td>284.336273</td>\n",
       "      <td>267.0</td>\n",
       "    </tr>\n",
       "    <tr>\n",
       "      <th>199</th>\n",
       "      <td>256.200653</td>\n",
       "      <td>223.0</td>\n",
       "    </tr>\n",
       "    <tr>\n",
       "      <th>200</th>\n",
       "      <td>251.724609</td>\n",
       "      <td>252.0</td>\n",
       "    </tr>\n",
       "    <tr>\n",
       "      <th>201</th>\n",
       "      <td>264.707733</td>\n",
       "      <td>333.0</td>\n",
       "    </tr>\n",
       "  </tbody>\n",
       "</table>\n",
       "<p>202 rows × 2 columns</p>\n",
       "</div>"
      ],
      "text/plain": [
       "     Train Predictions  Actuals\n",
       "0           123.756577    122.0\n",
       "1           123.756577    122.0\n",
       "2           123.756577    122.0\n",
       "3           123.756577    122.0\n",
       "4           123.756577    122.0\n",
       "..                 ...      ...\n",
       "197         329.872772    294.0\n",
       "198         284.336273    267.0\n",
       "199         256.200653    223.0\n",
       "200         251.724609    252.0\n",
       "201         264.707733    333.0\n",
       "\n",
       "[202 rows x 2 columns]"
      ]
     },
     "execution_count": 69,
     "metadata": {},
     "output_type": "execute_result"
    }
   ],
   "source": [
    "test_predictions = model9.predict(X_test1).flatten()\n",
    "test_results = pd.DataFrame(data={'Train Predictions':test_predictions, 'Actuals':y_test1})\n",
    "test_results"
   ]
  },
  {
   "cell_type": "code",
   "execution_count": 70,
   "id": "78982765",
   "metadata": {
    "execution": {
     "iopub.execute_input": "2025-01-28T03:17:16.532668Z",
     "iopub.status.busy": "2025-01-28T03:17:16.532318Z",
     "iopub.status.idle": "2025-01-28T03:17:16.702004Z",
     "shell.execute_reply": "2025-01-28T03:17:16.700700Z"
    },
    "papermill": {
     "duration": 0.329635,
     "end_time": "2025-01-28T03:17:16.703682",
     "exception": false,
     "start_time": "2025-01-28T03:17:16.374047",
     "status": "completed"
    },
    "tags": []
   },
   "outputs": [
    {
     "data": {
      "image/png": "[encoded data removed]",
      "text/plain": [
       "<Figure size 640x480 with 1 Axes>"
      ]
     },
     "metadata": {},
     "output_type": "display_data"
    }
   ],
   "source": [
    "plt.plot(test_results['Train Predictions'][1:50], label='Predicted')\n",
    "plt.plot(test_results['Actuals'][1:50], label='Actual')\n",
    "plt.legend()\n",
    "plt.show()"
   ]
  },
  {
   "cell_type": "code",
   "execution_count": null,
   "id": "2fadde19",
   "metadata": {
    "papermill": {
     "duration": 0.218706,
     "end_time": "2025-01-28T03:17:17.085376",
     "exception": false,
     "start_time": "2025-01-28T03:17:16.866670",
     "status": "completed"
    },
    "tags": []
   },
   "outputs": [],
   "source": []
  },
  {
   "cell_type": "markdown",
   "id": "6261cb5a",
   "metadata": {
    "papermill": {
     "duration": 0.158971,
     "end_time": "2025-01-28T03:17:17.403418",
     "exception": false,
     "start_time": "2025-01-28T03:17:17.244447",
     "status": "completed"
    },
    "tags": []
   },
   "source": [
    "# 4. Load Model and export dataset"
   ]
  },
  {
   "cell_type": "code",
   "execution_count": 71,
   "id": "b05d192b",
   "metadata": {
    "execution": {
     "iopub.execute_input": "2025-01-28T03:17:17.721392Z",
     "iopub.status.busy": "2025-01-28T03:17:17.720997Z",
     "iopub.status.idle": "2025-01-28T03:17:18.077011Z",
     "shell.execute_reply": "2025-01-28T03:17:18.075657Z"
    },
    "papermill": {
     "duration": 0.51688,
     "end_time": "2025-01-28T03:17:18.078662",
     "exception": true,
     "start_time": "2025-01-28T03:17:17.561782",
     "status": "failed"
    },
    "tags": []
   },
   "outputs": [
    {
     "ename": "FileNotFoundError",
     "evalue": "[Errno 2] No such file or directory: '/kaggle/working/models/best_model_svr_20250128_025404.joblib'",
     "output_type": "error",
     "traceback": [
      "\u001b[0;31m---------------------------------------------------------------------------\u001b[0m",
      "\u001b[0;31mFileNotFoundError\u001b[0m                         Traceback (most recent call last)",
      "\u001b[0;32m<ipython-input-71-97176bb31dda>\u001b[0m in \u001b[0;36m<cell line: 6>\u001b[0;34m()\u001b[0m\n\u001b[1;32m      4\u001b[0m \u001b[0;31m# Load the model\u001b[0m\u001b[0;34m\u001b[0m\u001b[0;34m\u001b[0m\u001b[0m\n\u001b[1;32m      5\u001b[0m \u001b[0mmodel_path\u001b[0m \u001b[0;34m=\u001b[0m \u001b[0;34m'/kaggle/working/models/best_model_svr_20250128_025404.joblib'\u001b[0m\u001b[0;34m\u001b[0m\u001b[0;34m\u001b[0m\u001b[0m\n\u001b[0;32m----> 6\u001b[0;31m \u001b[0mmodel\u001b[0m \u001b[0;34m=\u001b[0m \u001b[0mload\u001b[0m\u001b[0;34m(\u001b[0m\u001b[0mmodel_path\u001b[0m\u001b[0;34m)\u001b[0m\u001b[0;34m\u001b[0m\u001b[0;34m\u001b[0m\u001b[0m\n\u001b[0m\u001b[1;32m      7\u001b[0m \u001b[0;34m\u001b[0m\u001b[0m\n\u001b[1;32m      8\u001b[0m \u001b[0;31m# Predict using the model\u001b[0m\u001b[0;34m\u001b[0m\u001b[0;34m\u001b[0m\u001b[0m\n",
      "\u001b[0;32m/usr/local/lib/python3.10/dist-packages/joblib/numpy_pickle.py\u001b[0m in \u001b[0;36mload\u001b[0;34m(filename, mmap_mode)\u001b[0m\n\u001b[1;32m    648\u001b[0m             \u001b[0mobj\u001b[0m \u001b[0;34m=\u001b[0m \u001b[0m_unpickle\u001b[0m\u001b[0;34m(\u001b[0m\u001b[0mfobj\u001b[0m\u001b[0;34m)\u001b[0m\u001b[0;34m\u001b[0m\u001b[0;34m\u001b[0m\u001b[0m\n\u001b[1;32m    649\u001b[0m     \u001b[0;32melse\u001b[0m\u001b[0;34m:\u001b[0m\u001b[0;34m\u001b[0m\u001b[0;34m\u001b[0m\u001b[0m\n\u001b[0;32m--> 650\u001b[0;31m         \u001b[0;32mwith\u001b[0m \u001b[0mopen\u001b[0m\u001b[0;34m(\u001b[0m\u001b[0mfilename\u001b[0m\u001b[0;34m,\u001b[0m \u001b[0;34m'rb'\u001b[0m\u001b[0;34m)\u001b[0m \u001b[0;32mas\u001b[0m \u001b[0mf\u001b[0m\u001b[0;34m:\u001b[0m\u001b[0;34m\u001b[0m\u001b[0;34m\u001b[0m\u001b[0m\n\u001b[0m\u001b[1;32m    651\u001b[0m             \u001b[0;32mwith\u001b[0m \u001b[0m_read_fileobject\u001b[0m\u001b[0;34m(\u001b[0m\u001b[0mf\u001b[0m\u001b[0;34m,\u001b[0m \u001b[0mfilename\u001b[0m\u001b[0;34m,\u001b[0m \u001b[0mmmap_mode\u001b[0m\u001b[0;34m)\u001b[0m \u001b[0;32mas\u001b[0m \u001b[0mfobj\u001b[0m\u001b[0;34m:\u001b[0m\u001b[0;34m\u001b[0m\u001b[0;34m\u001b[0m\u001b[0m\n\u001b[1;32m    652\u001b[0m                 \u001b[0;32mif\u001b[0m \u001b[0misinstance\u001b[0m\u001b[0;34m(\u001b[0m\u001b[0mfobj\u001b[0m\u001b[0;34m,\u001b[0m \u001b[0mstr\u001b[0m\u001b[0;34m)\u001b[0m\u001b[0;34m:\u001b[0m\u001b[0;34m\u001b[0m\u001b[0;34m\u001b[0m\u001b[0m\n",
      "\u001b[0;31mFileNotFoundError\u001b[0m: [Errno 2] No such file or directory: '/kaggle/working/models/best_model_svr_20250128_025404.joblib'"
     ]
    }
   ],
   "source": [
    "from joblib import load\n",
    "\n",
    "\n",
    "# Load the model\n",
    "model_path = '/kaggle/working/models/best_model_svr_20250128_025404.joblib'\n",
    "model = load(model_path)\n",
    "\n",
    "# Predict using the model\n",
    "predictions = model.predict(data)\n",
    "\n",
    "# Add predictions and location to the original DataFrame\n",
    "data['Country_City'] = \"Pakistan_Lahore\"\n",
    "data['predictions'] = predictions\n",
    "\n",
    "# Function to classify AQI levels\n",
    "def classify_aqi(aqi):\n",
    "    if aqi <= 50:\n",
    "        return \"Good\"\n",
    "    elif aqi <= 100:\n",
    "        return \"Moderate\"\n",
    "    elif aqi <= 150:\n",
    "        return \"Unhealthy for Sensitive Groups\"\n",
    "    elif aqi <= 200:\n",
    "        return \"Unhealthy\"\n",
    "    elif aqi <= 300:\n",
    "        return \"Very Unhealthy\"\n",
    "    else:\n",
    "        return \"Hazardous\"\n",
    "\n",
    "# Apply AQI bucket classification to the predictions column\n",
    "data['AQI Bucket'] = data['AQI'].apply(classify_aqi)\n",
    "\n",
    "# Save the updated DataFrame to CSV\n",
    "os.makedirs('/kaggle/working', exist_ok=True)\n",
    "\n",
    "# Save to CSV\n",
    "data.to_csv('/kaggle/working/pakistan_lahore_predictions.csv')\n"
   ]
  }
 ],
 "metadata": {
  "kaggle": {
   "accelerator": "none",
   "dataSources": [
    {
     "datasetId": 6557354,
     "sourceId": 10594490,
     "sourceType": "datasetVersion"
    },
    {
     "sourceId": 219563774,
     "sourceType": "kernelVersion"
    }
   ],
   "dockerImageVersionId": 30839,
   "isGpuEnabled": false,
   "isInternetEnabled": false,
   "language": "python",
   "sourceType": "notebook"
  },
  "kernelspec": {
   "display_name": "Python 3",
   "language": "python",
   "name": "python3"
  },
  "language_info": {
   "codemirror_mode": {
    "name": "ipython",
    "version": 3
   },
   "file_extension": ".py",
   "mimetype": "text/x-python",
   "name": "python",
   "nbconvert_exporter": "python",
   "pygments_lexer": "ipython3",
   "version": "3.10.12"
  },
  "papermill": {
   "default_parameters": {},
   "duration": 157.752359,
   "end_time": "2025-01-28T03:17:20.777892",
   "environment_variables": {},
   "exception": true,
   "input_path": "__notebook__.ipynb",
   "output_path": "__notebook__.ipynb",
   "parameters": {},
   "start_time": "2025-01-28T03:14:43.025533",
   "version": "2.6.0"
  }
 },
 "nbformat": 4,
 "nbformat_minor": 5
}
