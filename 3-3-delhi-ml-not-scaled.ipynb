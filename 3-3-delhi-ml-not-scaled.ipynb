{
 "cells": [
  {
   "cell_type": "code",
   "execution_count": 1,
   "id": "1ae0139a",
   "metadata": {
    "_cell_guid": "0bd5fd8f-4de5-406f-92da-d16f3c990795",
    "_uuid": "63737120-456d-498d-a950-7893b9099e72",
    "collapsed": false,
    "execution": {
     "iopub.execute_input": "2025-01-27T17:30:29.867394Z",
     "iopub.status.busy": "2025-01-27T17:30:29.867043Z",
     "iopub.status.idle": "2025-01-27T17:30:33.905156Z",
     "shell.execute_reply": "2025-01-27T17:30:33.904051Z"
    },
    "jupyter": {
     "outputs_hidden": false
    },
    "papermill": {
     "duration": 4.076536,
     "end_time": "2025-01-27T17:30:33.907064",
     "exception": false,
     "start_time": "2025-01-27T17:30:29.830528",
     "status": "completed"
    },
    "tags": []
   },
   "outputs": [],
   "source": [
    "# Packages / libraries\n",
    "import os #provides functions for interacting with the operating system\n",
    "import numpy as np\n",
    "import pandas as pd\n",
    "from matplotlib import pyplot as plt\n",
    "import seaborn as sns\n",
    "\n",
    "\n",
    "from sklearn.model_selection import train_test_split\n",
    "from sklearn.pipeline import Pipeline\n",
    "from sklearn.preprocessing import StandardScaler, MinMaxScaler, LabelEncoder, OneHotEncoder, PolynomialFeatures\n",
    "from sklearn.metrics import r2_score, explained_variance_score, mean_absolute_error, mean_squared_error\n",
    "from math import sqrt\n",
    "from sklearn.impute import SimpleImputer\n",
    "from sklearn.compose import ColumnTransformer\n",
    "from sklearn.model_selection import GridSearchCV\n",
    "from sklearn.model_selection import RandomizedSearchCV\n",
    "\n",
    "from sklearn.linear_model import LinearRegression\n",
    "from sklearn.ensemble import RandomForestRegressor\n",
    "from sklearn.neighbors import KNeighborsRegressor\n",
    "from sklearn.tree import DecisionTreeRegressor\n",
    "from sklearn.svm import SVR\n",
    "from sklearn.neural_network import MLPRegressor\n",
    "from xgboost import XGBRegressor\n",
    "from sklearn.ensemble import GradientBoostingRegressor\n",
    "\n",
    "import graphviz\n",
    "from sklearn import tree\n",
    "\n",
    "# remove warnings\n",
    "import warnings\n",
    "warnings.simplefilter(action='ignore', category=FutureWarning)"
   ]
  },
  {
   "cell_type": "markdown",
   "id": "24b62527",
   "metadata": {
    "papermill": {
     "duration": 0.032673,
     "end_time": "2025-01-27T17:30:33.972186",
     "exception": false,
     "start_time": "2025-01-27T17:30:33.939513",
     "status": "completed"
    },
    "tags": []
   },
   "source": [
    "# **1. Loading Dataset**"
   ]
  },
  {
   "cell_type": "code",
   "execution_count": 2,
   "id": "3c566bdc",
   "metadata": {
    "execution": {
     "iopub.execute_input": "2025-01-27T17:30:34.041732Z",
     "iopub.status.busy": "2025-01-27T17:30:34.041242Z",
     "iopub.status.idle": "2025-01-27T17:30:34.110293Z",
     "shell.execute_reply": "2025-01-27T17:30:34.109036Z"
    },
    "papermill": {
     "duration": 0.10423,
     "end_time": "2025-01-27T17:30:34.112511",
     "exception": false,
     "start_time": "2025-01-27T17:30:34.008281",
     "status": "completed"
    },
    "tags": []
   },
   "outputs": [
    {
     "name": "stdout",
     "output_type": "stream",
     "text": [
      "(2399, 12)\n"
     ]
    },
    {
     "name": "stderr",
     "output_type": "stream",
     "text": [
      "/usr/local/lib/python3.10/dist-packages/pandas/io/formats/format.py:1458: RuntimeWarning: invalid value encountered in greater\n",
      "  has_large_values = (abs_vals > 1e6).any()\n",
      "/usr/local/lib/python3.10/dist-packages/pandas/io/formats/format.py:1459: RuntimeWarning: invalid value encountered in less\n",
      "  has_small_values = ((abs_vals < 10 ** (-self.digits)) & (abs_vals > 0)).any()\n",
      "/usr/local/lib/python3.10/dist-packages/pandas/io/formats/format.py:1459: RuntimeWarning: invalid value encountered in greater\n",
      "  has_small_values = ((abs_vals < 10 ** (-self.digits)) & (abs_vals > 0)).any()\n"
     ]
    },
    {
     "data": {
      "text/html": [
       "<div>\n",
       "<style scoped>\n",
       "    .dataframe tbody tr th:only-of-type {\n",
       "        vertical-align: middle;\n",
       "    }\n",
       "\n",
       "    .dataframe tbody tr th {\n",
       "        vertical-align: top;\n",
       "    }\n",
       "\n",
       "    .dataframe thead th {\n",
       "        text-align: right;\n",
       "    }\n",
       "</style>\n",
       "<table border=\"1\" class=\"dataframe\">\n",
       "  <thead>\n",
       "    <tr style=\"text-align: right;\">\n",
       "      <th></th>\n",
       "      <th>Date</th>\n",
       "      <th>co</th>\n",
       "      <th>no2</th>\n",
       "      <th>o3</th>\n",
       "      <th>pm10</th>\n",
       "      <th>pm25</th>\n",
       "      <th>so2</th>\n",
       "      <th>humidity</th>\n",
       "      <th>pressure</th>\n",
       "      <th>temperature</th>\n",
       "      <th>wind-speed</th>\n",
       "      <th>Country_City</th>\n",
       "    </tr>\n",
       "  </thead>\n",
       "  <tbody>\n",
       "    <tr>\n",
       "      <th>0</th>\n",
       "      <td>2014-12-29</td>\n",
       "      <td>14.1</td>\n",
       "      <td>36.2</td>\n",
       "      <td>3.2</td>\n",
       "      <td>218.0</td>\n",
       "      <td>307.0</td>\n",
       "      <td>4.2</td>\n",
       "      <td>NaN</td>\n",
       "      <td>NaN</td>\n",
       "      <td>NaN</td>\n",
       "      <td>NaN</td>\n",
       "      <td>India_Delhi</td>\n",
       "    </tr>\n",
       "    <tr>\n",
       "      <th>1</th>\n",
       "      <td>2014-12-30</td>\n",
       "      <td>20.4</td>\n",
       "      <td>36.8</td>\n",
       "      <td>4.8</td>\n",
       "      <td>330.0</td>\n",
       "      <td>367.0</td>\n",
       "      <td>5.8</td>\n",
       "      <td>NaN</td>\n",
       "      <td>NaN</td>\n",
       "      <td>NaN</td>\n",
       "      <td>NaN</td>\n",
       "      <td>India_Delhi</td>\n",
       "    </tr>\n",
       "    <tr>\n",
       "      <th>2</th>\n",
       "      <td>2014-12-31</td>\n",
       "      <td>12.7</td>\n",
       "      <td>28.7</td>\n",
       "      <td>7.8</td>\n",
       "      <td>137.0</td>\n",
       "      <td>202.0</td>\n",
       "      <td>6.3</td>\n",
       "      <td>NaN</td>\n",
       "      <td>NaN</td>\n",
       "      <td>NaN</td>\n",
       "      <td>NaN</td>\n",
       "      <td>India_Delhi</td>\n",
       "    </tr>\n",
       "    <tr>\n",
       "      <th>3</th>\n",
       "      <td>2015-01-01</td>\n",
       "      <td>20.8</td>\n",
       "      <td>66.5</td>\n",
       "      <td>5.2</td>\n",
       "      <td>230.0</td>\n",
       "      <td>382.0</td>\n",
       "      <td>9.9</td>\n",
       "      <td>NaN</td>\n",
       "      <td>NaN</td>\n",
       "      <td>NaN</td>\n",
       "      <td>NaN</td>\n",
       "      <td>India_Delhi</td>\n",
       "    </tr>\n",
       "    <tr>\n",
       "      <th>4</th>\n",
       "      <td>2015-01-02</td>\n",
       "      <td>12.7</td>\n",
       "      <td>33.9</td>\n",
       "      <td>6.0</td>\n",
       "      <td>81.0</td>\n",
       "      <td>172.0</td>\n",
       "      <td>4.2</td>\n",
       "      <td>NaN</td>\n",
       "      <td>NaN</td>\n",
       "      <td>NaN</td>\n",
       "      <td>NaN</td>\n",
       "      <td>India_Delhi</td>\n",
       "    </tr>\n",
       "  </tbody>\n",
       "</table>\n",
       "</div>"
      ],
      "text/plain": [
       "         Date    co   no2   o3   pm10   pm25  so2  humidity  pressure  \\\n",
       "0  2014-12-29  14.1  36.2  3.2  218.0  307.0  4.2       NaN       NaN   \n",
       "1  2014-12-30  20.4  36.8  4.8  330.0  367.0  5.8       NaN       NaN   \n",
       "2  2014-12-31  12.7  28.7  7.8  137.0  202.0  6.3       NaN       NaN   \n",
       "3  2015-01-01  20.8  66.5  5.2  230.0  382.0  9.9       NaN       NaN   \n",
       "4  2015-01-02  12.7  33.9  6.0   81.0  172.0  4.2       NaN       NaN   \n",
       "\n",
       "   temperature  wind-speed Country_City  \n",
       "0          NaN         NaN  India_Delhi  \n",
       "1          NaN         NaN  India_Delhi  \n",
       "2          NaN         NaN  India_Delhi  \n",
       "3          NaN         NaN  India_Delhi  \n",
       "4          NaN         NaN  India_Delhi  "
      ]
     },
     "execution_count": 2,
     "metadata": {},
     "output_type": "execute_result"
    }
   ],
   "source": [
    "# Loading the data\n",
    "new_data = pd.read_csv(\"/kaggle/input/seperated-data/India_Delhi.csv\")\n",
    "\n",
    "# print the shape\n",
    "print(new_data.shape)\n",
    "\n",
    "#runs the first 5 rows\n",
    "new_data.head()"
   ]
  },
  {
   "cell_type": "code",
   "execution_count": 3,
   "id": "ebba59f6",
   "metadata": {
    "execution": {
     "iopub.execute_input": "2025-01-27T17:30:34.178617Z",
     "iopub.status.busy": "2025-01-27T17:30:34.178278Z",
     "iopub.status.idle": "2025-01-27T17:30:34.186883Z",
     "shell.execute_reply": "2025-01-27T17:30:34.185839Z"
    },
    "papermill": {
     "duration": 0.04311,
     "end_time": "2025-01-27T17:30:34.188700",
     "exception": false,
     "start_time": "2025-01-27T17:30:34.145590",
     "status": "completed"
    },
    "tags": []
   },
   "outputs": [
    {
     "name": "stdout",
     "output_type": "stream",
     "text": [
      "Minimum date: 2014-12-29\n",
      "Maximum date: 2023-10-01\n"
     ]
    }
   ],
   "source": [
    "# Find the minimum and maximum dates\n",
    "min_date = new_data['Date'].min()\n",
    "max_date = new_data['Date'].max()\n",
    "\n",
    "print('Minimum date:', min_date)\n",
    "print('Maximum date:', max_date)"
   ]
  },
  {
   "cell_type": "code",
   "execution_count": 4,
   "id": "18958f64",
   "metadata": {
    "execution": {
     "iopub.execute_input": "2025-01-27T17:30:34.255004Z",
     "iopub.status.busy": "2025-01-27T17:30:34.254628Z",
     "iopub.status.idle": "2025-01-27T17:30:34.280100Z",
     "shell.execute_reply": "2025-01-27T17:30:34.278824Z"
    },
    "papermill": {
     "duration": 0.059999,
     "end_time": "2025-01-27T17:30:34.281854",
     "exception": false,
     "start_time": "2025-01-27T17:30:34.221855",
     "status": "completed"
    },
    "tags": []
   },
   "outputs": [
    {
     "name": "stdout",
     "output_type": "stream",
     "text": [
      "<class 'pandas.core.frame.DataFrame'>\n",
      "RangeIndex: 2399 entries, 0 to 2398\n",
      "Data columns (total 12 columns):\n",
      " #   Column        Non-Null Count  Dtype  \n",
      "---  ------        --------------  -----  \n",
      " 0   Date          2399 non-null   object \n",
      " 1   co            2399 non-null   float64\n",
      " 2   no2           2399 non-null   float64\n",
      " 3   o3            2399 non-null   float64\n",
      " 4   pm10          2398 non-null   float64\n",
      " 5   pm25          2398 non-null   float64\n",
      " 6   so2           2399 non-null   float64\n",
      " 7   humidity      1698 non-null   float64\n",
      " 8   pressure      1698 non-null   float64\n",
      " 9   temperature   1698 non-null   float64\n",
      " 10  wind-speed    1629 non-null   float64\n",
      " 11  Country_City  2399 non-null   object \n",
      "dtypes: float64(10), object(2)\n",
      "memory usage: 225.0+ KB\n"
     ]
    }
   ],
   "source": [
    "new_data.info()"
   ]
  },
  {
   "cell_type": "code",
   "execution_count": 5,
   "id": "20f878d9",
   "metadata": {
    "execution": {
     "iopub.execute_input": "2025-01-27T17:30:34.348168Z",
     "iopub.status.busy": "2025-01-27T17:30:34.347788Z",
     "iopub.status.idle": "2025-01-27T17:30:34.383052Z",
     "shell.execute_reply": "2025-01-27T17:30:34.382019Z"
    },
    "papermill": {
     "duration": 0.070021,
     "end_time": "2025-01-27T17:30:34.384723",
     "exception": false,
     "start_time": "2025-01-27T17:30:34.314702",
     "status": "completed"
    },
    "tags": []
   },
   "outputs": [
    {
     "data": {
      "text/html": [
       "<div>\n",
       "<style scoped>\n",
       "    .dataframe tbody tr th:only-of-type {\n",
       "        vertical-align: middle;\n",
       "    }\n",
       "\n",
       "    .dataframe tbody tr th {\n",
       "        vertical-align: top;\n",
       "    }\n",
       "\n",
       "    .dataframe thead th {\n",
       "        text-align: right;\n",
       "    }\n",
       "</style>\n",
       "<table border=\"1\" class=\"dataframe\">\n",
       "  <thead>\n",
       "    <tr style=\"text-align: right;\">\n",
       "      <th></th>\n",
       "      <th>co</th>\n",
       "      <th>no2</th>\n",
       "      <th>o3</th>\n",
       "      <th>pm10</th>\n",
       "      <th>pm25</th>\n",
       "      <th>so2</th>\n",
       "      <th>humidity</th>\n",
       "      <th>pressure</th>\n",
       "      <th>temperature</th>\n",
       "      <th>wind-speed</th>\n",
       "    </tr>\n",
       "  </thead>\n",
       "  <tbody>\n",
       "    <tr>\n",
       "      <th>count</th>\n",
       "      <td>2399.000000</td>\n",
       "      <td>2399.000000</td>\n",
       "      <td>2399.000000</td>\n",
       "      <td>2398.000000</td>\n",
       "      <td>2398.000000</td>\n",
       "      <td>2399.000000</td>\n",
       "      <td>1698.000000</td>\n",
       "      <td>1698.000000</td>\n",
       "      <td>1698.000000</td>\n",
       "      <td>1629.000000</td>\n",
       "    </tr>\n",
       "    <tr>\n",
       "      <th>mean</th>\n",
       "      <td>9.325594</td>\n",
       "      <td>16.870946</td>\n",
       "      <td>9.480700</td>\n",
       "      <td>131.572143</td>\n",
       "      <td>164.397832</td>\n",
       "      <td>5.702751</td>\n",
       "      <td>60.708304</td>\n",
       "      <td>985.184923</td>\n",
       "      <td>26.338869</td>\n",
       "      <td>1.101964</td>\n",
       "    </tr>\n",
       "    <tr>\n",
       "      <th>std</th>\n",
       "      <td>3.715709</td>\n",
       "      <td>7.805715</td>\n",
       "      <td>4.829603</td>\n",
       "      <td>77.174642</td>\n",
       "      <td>64.829240</td>\n",
       "      <td>2.289821</td>\n",
       "      <td>17.138084</td>\n",
       "      <td>10.022854</td>\n",
       "      <td>6.631277</td>\n",
       "      <td>0.493156</td>\n",
       "    </tr>\n",
       "    <tr>\n",
       "      <th>min</th>\n",
       "      <td>0.100000</td>\n",
       "      <td>5.000000</td>\n",
       "      <td>2.400000</td>\n",
       "      <td>12.000000</td>\n",
       "      <td>30.000000</td>\n",
       "      <td>1.700000</td>\n",
       "      <td>13.000000</td>\n",
       "      <td>743.000000</td>\n",
       "      <td>6.200000</td>\n",
       "      <td>0.300000</td>\n",
       "    </tr>\n",
       "    <tr>\n",
       "      <th>25%</th>\n",
       "      <td>7.050000</td>\n",
       "      <td>10.600000</td>\n",
       "      <td>6.000000</td>\n",
       "      <td>82.000000</td>\n",
       "      <td>123.000000</td>\n",
       "      <td>4.000000</td>\n",
       "      <td>48.500000</td>\n",
       "      <td>979.800000</td>\n",
       "      <td>22.100000</td>\n",
       "      <td>0.800000</td>\n",
       "    </tr>\n",
       "    <tr>\n",
       "      <th>50%</th>\n",
       "      <td>8.400000</td>\n",
       "      <td>15.800000</td>\n",
       "      <td>8.200000</td>\n",
       "      <td>120.000000</td>\n",
       "      <td>160.000000</td>\n",
       "      <td>5.300000</td>\n",
       "      <td>63.000000</td>\n",
       "      <td>983.900000</td>\n",
       "      <td>28.600000</td>\n",
       "      <td>1.000000</td>\n",
       "    </tr>\n",
       "    <tr>\n",
       "      <th>75%</th>\n",
       "      <td>10.700000</td>\n",
       "      <td>21.500000</td>\n",
       "      <td>11.800000</td>\n",
       "      <td>160.000000</td>\n",
       "      <td>189.000000</td>\n",
       "      <td>7.100000</td>\n",
       "      <td>74.000000</td>\n",
       "      <td>990.400000</td>\n",
       "      <td>31.100000</td>\n",
       "      <td>1.300000</td>\n",
       "    </tr>\n",
       "    <tr>\n",
       "      <th>max</th>\n",
       "      <td>30.600000</td>\n",
       "      <td>66.500000</td>\n",
       "      <td>40.300000</td>\n",
       "      <td>999.000000</td>\n",
       "      <td>577.000000</td>\n",
       "      <td>19.800000</td>\n",
       "      <td>99.100000</td>\n",
       "      <td>1020.500000</td>\n",
       "      <td>38.000000</td>\n",
       "      <td>4.600000</td>\n",
       "    </tr>\n",
       "  </tbody>\n",
       "</table>\n",
       "</div>"
      ],
      "text/plain": [
       "                co          no2           o3         pm10         pm25  \\\n",
       "count  2399.000000  2399.000000  2399.000000  2398.000000  2398.000000   \n",
       "mean      9.325594    16.870946     9.480700   131.572143   164.397832   \n",
       "std       3.715709     7.805715     4.829603    77.174642    64.829240   \n",
       "min       0.100000     5.000000     2.400000    12.000000    30.000000   \n",
       "25%       7.050000    10.600000     6.000000    82.000000   123.000000   \n",
       "50%       8.400000    15.800000     8.200000   120.000000   160.000000   \n",
       "75%      10.700000    21.500000    11.800000   160.000000   189.000000   \n",
       "max      30.600000    66.500000    40.300000   999.000000   577.000000   \n",
       "\n",
       "               so2     humidity     pressure  temperature   wind-speed  \n",
       "count  2399.000000  1698.000000  1698.000000  1698.000000  1629.000000  \n",
       "mean      5.702751    60.708304   985.184923    26.338869     1.101964  \n",
       "std       2.289821    17.138084    10.022854     6.631277     0.493156  \n",
       "min       1.700000    13.000000   743.000000     6.200000     0.300000  \n",
       "25%       4.000000    48.500000   979.800000    22.100000     0.800000  \n",
       "50%       5.300000    63.000000   983.900000    28.600000     1.000000  \n",
       "75%       7.100000    74.000000   990.400000    31.100000     1.300000  \n",
       "max      19.800000    99.100000  1020.500000    38.000000     4.600000  "
      ]
     },
     "execution_count": 5,
     "metadata": {},
     "output_type": "execute_result"
    }
   ],
   "source": [
    "new_data.describe()"
   ]
  },
  {
   "cell_type": "code",
   "execution_count": 6,
   "id": "0db1cf4d",
   "metadata": {
    "execution": {
     "iopub.execute_input": "2025-01-27T17:30:34.453157Z",
     "iopub.status.busy": "2025-01-27T17:30:34.452805Z",
     "iopub.status.idle": "2025-01-27T17:30:34.464564Z",
     "shell.execute_reply": "2025-01-27T17:30:34.463276Z"
    },
    "papermill": {
     "duration": 0.047625,
     "end_time": "2025-01-27T17:30:34.466270",
     "exception": false,
     "start_time": "2025-01-27T17:30:34.418645",
     "status": "completed"
    },
    "tags": []
   },
   "outputs": [
    {
     "name": "stdout",
     "output_type": "stream",
     "text": [
      "The number of values for feature Date :2397\n",
      "The number of values for feature co :200\n",
      "The number of values for feature no2 :328\n",
      "The number of values for feature o3 :226\n",
      "The number of values for feature pm10 :320\n",
      "The number of values for feature pm25 :309\n",
      "The number of values for feature so2 :116\n",
      "The number of values for feature humidity :602\n",
      "The number of values for feature pressure :300\n",
      "The number of values for feature temperature :264\n",
      "The number of values for feature wind-speed :33\n",
      "The number of values for feature Country_City :1 -- ['India_Delhi']\n"
     ]
    }
   ],
   "source": [
    "# Investigate all the elements whithin each Feature\n",
    "\n",
    "for column in new_data:\n",
    "    # Handle numerical and string columns differently\n",
    "    if new_data[column].dtype == 'object':  # Check if column is of object type\n",
    "        unique_vals = new_data[column].unique()  # pandas unique for strings\n",
    "    else:\n",
    "        unique_vals = np.unique(new_data[column])  # numpy unique for numerical types\n",
    "\n",
    "    nr_values = len(unique_vals)\n",
    "    if nr_values < 14:\n",
    "        print('The number of values for feature {} :{} -- {}'.format(column, nr_values,unique_vals))\n",
    "    else:\n",
    "        print('The number of values for feature {} :{}'.format(column, nr_values))"
   ]
  },
  {
   "cell_type": "code",
   "execution_count": 7,
   "id": "78ab5e65",
   "metadata": {
    "execution": {
     "iopub.execute_input": "2025-01-27T17:30:34.548939Z",
     "iopub.status.busy": "2025-01-27T17:30:34.548334Z",
     "iopub.status.idle": "2025-01-27T17:30:34.560004Z",
     "shell.execute_reply": "2025-01-27T17:30:34.558762Z"
    },
    "papermill": {
     "duration": 0.057446,
     "end_time": "2025-01-27T17:30:34.561904",
     "exception": false,
     "start_time": "2025-01-27T17:30:34.504458",
     "status": "completed"
    },
    "tags": []
   },
   "outputs": [
    {
     "data": {
      "text/plain": [
       "Date              0\n",
       "co                0\n",
       "no2               0\n",
       "o3                0\n",
       "pm10              1\n",
       "pm25              1\n",
       "so2               0\n",
       "humidity        701\n",
       "pressure        701\n",
       "temperature     701\n",
       "wind-speed      770\n",
       "Country_City      0\n",
       "dtype: int64"
      ]
     },
     "execution_count": 7,
     "metadata": {},
     "output_type": "execute_result"
    }
   ],
   "source": [
    "new_data.isna().sum()"
   ]
  },
  {
   "cell_type": "markdown",
   "id": "314d9585",
   "metadata": {
    "papermill": {
     "duration": 0.051204,
     "end_time": "2025-01-27T17:30:34.722576",
     "exception": false,
     "start_time": "2025-01-27T17:30:34.671372",
     "status": "completed"
    },
    "tags": []
   },
   "source": [
    "# **1.2 - Function**"
   ]
  },
  {
   "cell_type": "code",
   "execution_count": 8,
   "id": "f9de1452",
   "metadata": {
    "execution": {
     "iopub.execute_input": "2025-01-27T17:30:34.794828Z",
     "iopub.status.busy": "2025-01-27T17:30:34.794507Z",
     "iopub.status.idle": "2025-01-27T17:30:34.799432Z",
     "shell.execute_reply": "2025-01-27T17:30:34.798492Z"
    },
    "papermill": {
     "duration": 0.040706,
     "end_time": "2025-01-27T17:30:34.801209",
     "exception": false,
     "start_time": "2025-01-27T17:30:34.760503",
     "status": "completed"
    },
    "tags": []
   },
   "outputs": [
    {
     "name": "stdout",
     "output_type": "stream",
     "text": [
      "['__results__.html', '__notebook__.ipynb', 'function.py', '__output__.json', 'custom.css']\n"
     ]
    }
   ],
   "source": [
    "print(os.listdir('/kaggle/usr/lib/function'))"
   ]
  },
  {
   "cell_type": "code",
   "execution_count": 9,
   "id": "c1a7a1e7",
   "metadata": {
    "execution": {
     "iopub.execute_input": "2025-01-27T17:30:34.892071Z",
     "iopub.status.busy": "2025-01-27T17:30:34.891684Z",
     "iopub.status.idle": "2025-01-27T17:30:34.904191Z",
     "shell.execute_reply": "2025-01-27T17:30:34.903048Z"
    },
    "papermill": {
     "duration": 0.071511,
     "end_time": "2025-01-27T17:30:34.906288",
     "exception": false,
     "start_time": "2025-01-27T17:30:34.834777",
     "status": "completed"
    },
    "tags": []
   },
   "outputs": [],
   "source": [
    "import sys\n",
    "sys.path.append(\"/kaggle/usr/lib/function\")  # Add directory to the path\n",
    "\n",
    "import function as fn"
   ]
  },
  {
   "cell_type": "code",
   "execution_count": 10,
   "id": "8b722a19",
   "metadata": {
    "execution": {
     "iopub.execute_input": "2025-01-27T17:30:34.973793Z",
     "iopub.status.busy": "2025-01-27T17:30:34.973466Z",
     "iopub.status.idle": "2025-01-27T17:30:35.003028Z",
     "shell.execute_reply": "2025-01-27T17:30:35.000795Z"
    },
    "papermill": {
     "duration": 0.066916,
     "end_time": "2025-01-27T17:30:35.006764",
     "exception": false,
     "start_time": "2025-01-27T17:30:34.939848",
     "status": "completed"
    },
    "tags": []
   },
   "outputs": [
    {
     "name": "stderr",
     "output_type": "stream",
     "text": [
      "/usr/local/lib/python3.10/dist-packages/pandas/io/formats/format.py:1458: RuntimeWarning: invalid value encountered in greater\n",
      "  has_large_values = (abs_vals > 1e6).any()\n",
      "/usr/local/lib/python3.10/dist-packages/pandas/io/formats/format.py:1459: RuntimeWarning: invalid value encountered in less\n",
      "  has_small_values = ((abs_vals < 10 ** (-self.digits)) & (abs_vals > 0)).any()\n",
      "/usr/local/lib/python3.10/dist-packages/pandas/io/formats/format.py:1459: RuntimeWarning: invalid value encountered in greater\n",
      "  has_small_values = ((abs_vals < 10 ** (-self.digits)) & (abs_vals > 0)).any()\n"
     ]
    },
    {
     "data": {
      "text/html": [
       "<div>\n",
       "<style scoped>\n",
       "    .dataframe tbody tr th:only-of-type {\n",
       "        vertical-align: middle;\n",
       "    }\n",
       "\n",
       "    .dataframe tbody tr th {\n",
       "        vertical-align: top;\n",
       "    }\n",
       "\n",
       "    .dataframe thead th {\n",
       "        text-align: right;\n",
       "    }\n",
       "</style>\n",
       "<table border=\"1\" class=\"dataframe\">\n",
       "  <thead>\n",
       "    <tr style=\"text-align: right;\">\n",
       "      <th></th>\n",
       "      <th>co</th>\n",
       "      <th>no2</th>\n",
       "      <th>o3</th>\n",
       "      <th>pm10</th>\n",
       "      <th>pm25</th>\n",
       "      <th>so2</th>\n",
       "      <th>humidity</th>\n",
       "      <th>pressure</th>\n",
       "      <th>temperature</th>\n",
       "      <th>wind-speed</th>\n",
       "      <th>Country_City</th>\n",
       "    </tr>\n",
       "    <tr>\n",
       "      <th>Date</th>\n",
       "      <th></th>\n",
       "      <th></th>\n",
       "      <th></th>\n",
       "      <th></th>\n",
       "      <th></th>\n",
       "      <th></th>\n",
       "      <th></th>\n",
       "      <th></th>\n",
       "      <th></th>\n",
       "      <th></th>\n",
       "      <th></th>\n",
       "    </tr>\n",
       "  </thead>\n",
       "  <tbody>\n",
       "    <tr>\n",
       "      <th>2014-12-29</th>\n",
       "      <td>14.1</td>\n",
       "      <td>36.2</td>\n",
       "      <td>3.2</td>\n",
       "      <td>218.0</td>\n",
       "      <td>307.0</td>\n",
       "      <td>4.2</td>\n",
       "      <td>NaN</td>\n",
       "      <td>NaN</td>\n",
       "      <td>NaN</td>\n",
       "      <td>NaN</td>\n",
       "      <td>India_Delhi</td>\n",
       "    </tr>\n",
       "    <tr>\n",
       "      <th>2014-12-30</th>\n",
       "      <td>20.4</td>\n",
       "      <td>36.8</td>\n",
       "      <td>4.8</td>\n",
       "      <td>330.0</td>\n",
       "      <td>367.0</td>\n",
       "      <td>5.8</td>\n",
       "      <td>NaN</td>\n",
       "      <td>NaN</td>\n",
       "      <td>NaN</td>\n",
       "      <td>NaN</td>\n",
       "      <td>India_Delhi</td>\n",
       "    </tr>\n",
       "    <tr>\n",
       "      <th>2014-12-31</th>\n",
       "      <td>12.7</td>\n",
       "      <td>28.7</td>\n",
       "      <td>7.8</td>\n",
       "      <td>137.0</td>\n",
       "      <td>202.0</td>\n",
       "      <td>6.3</td>\n",
       "      <td>NaN</td>\n",
       "      <td>NaN</td>\n",
       "      <td>NaN</td>\n",
       "      <td>NaN</td>\n",
       "      <td>India_Delhi</td>\n",
       "    </tr>\n",
       "    <tr>\n",
       "      <th>2015-01-01</th>\n",
       "      <td>20.8</td>\n",
       "      <td>66.5</td>\n",
       "      <td>5.2</td>\n",
       "      <td>230.0</td>\n",
       "      <td>382.0</td>\n",
       "      <td>9.9</td>\n",
       "      <td>NaN</td>\n",
       "      <td>NaN</td>\n",
       "      <td>NaN</td>\n",
       "      <td>NaN</td>\n",
       "      <td>India_Delhi</td>\n",
       "    </tr>\n",
       "    <tr>\n",
       "      <th>2015-01-02</th>\n",
       "      <td>12.7</td>\n",
       "      <td>33.9</td>\n",
       "      <td>6.0</td>\n",
       "      <td>81.0</td>\n",
       "      <td>172.0</td>\n",
       "      <td>4.2</td>\n",
       "      <td>NaN</td>\n",
       "      <td>NaN</td>\n",
       "      <td>NaN</td>\n",
       "      <td>NaN</td>\n",
       "      <td>India_Delhi</td>\n",
       "    </tr>\n",
       "  </tbody>\n",
       "</table>\n",
       "</div>"
      ],
      "text/plain": [
       "              co   no2   o3   pm10   pm25  so2  humidity  pressure  \\\n",
       "Date                                                                 \n",
       "2014-12-29  14.1  36.2  3.2  218.0  307.0  4.2       NaN       NaN   \n",
       "2014-12-30  20.4  36.8  4.8  330.0  367.0  5.8       NaN       NaN   \n",
       "2014-12-31  12.7  28.7  7.8  137.0  202.0  6.3       NaN       NaN   \n",
       "2015-01-01  20.8  66.5  5.2  230.0  382.0  9.9       NaN       NaN   \n",
       "2015-01-02  12.7  33.9  6.0   81.0  172.0  4.2       NaN       NaN   \n",
       "\n",
       "            temperature  wind-speed Country_City  \n",
       "Date                                              \n",
       "2014-12-29          NaN         NaN  India_Delhi  \n",
       "2014-12-30          NaN         NaN  India_Delhi  \n",
       "2014-12-31          NaN         NaN  India_Delhi  \n",
       "2015-01-01          NaN         NaN  India_Delhi  \n",
       "2015-01-02          NaN         NaN  India_Delhi  "
      ]
     },
     "execution_count": 10,
     "metadata": {},
     "output_type": "execute_result"
    }
   ],
   "source": [
    "# Use the functions\n",
    "new_data1 = fn.prepare_datetime_index(new_data, date_column='Date')\n",
    "new_data1.head()"
   ]
  },
  {
   "cell_type": "code",
   "execution_count": 11,
   "id": "01c42e2f",
   "metadata": {
    "execution": {
     "iopub.execute_input": "2025-01-27T17:30:35.073814Z",
     "iopub.status.busy": "2025-01-27T17:30:35.073425Z",
     "iopub.status.idle": "2025-01-27T17:30:35.088108Z",
     "shell.execute_reply": "2025-01-27T17:30:35.086782Z"
    },
    "papermill": {
     "duration": 0.050291,
     "end_time": "2025-01-27T17:30:35.090016",
     "exception": false,
     "start_time": "2025-01-27T17:30:35.039725",
     "status": "completed"
    },
    "tags": []
   },
   "outputs": [
    {
     "name": "stdout",
     "output_type": "stream",
     "text": [
      "co              0\n",
      "no2             0\n",
      "o3              0\n",
      "pm10            0\n",
      "pm25            0\n",
      "so2             0\n",
      "humidity        0\n",
      "pressure        0\n",
      "temperature     0\n",
      "wind-speed      0\n",
      "Country_City    0\n",
      "dtype: int64\n"
     ]
    }
   ],
   "source": [
    "# Use the functions\n",
    "new_data2 = fn.fill_pollutant_values(new_data1)\n",
    "print(new_data2.isna().sum())"
   ]
  },
  {
   "cell_type": "markdown",
   "id": "dee6376c",
   "metadata": {
    "papermill": {
     "duration": 0.036262,
     "end_time": "2025-01-27T17:30:35.161083",
     "exception": false,
     "start_time": "2025-01-27T17:30:35.124821",
     "status": "completed"
    },
    "tags": []
   },
   "source": [
    "**Check**"
   ]
  },
  {
   "cell_type": "code",
   "execution_count": 12,
   "id": "f9027381",
   "metadata": {
    "execution": {
     "iopub.execute_input": "2025-01-27T17:30:35.236871Z",
     "iopub.status.busy": "2025-01-27T17:30:35.236544Z",
     "iopub.status.idle": "2025-01-27T17:30:35.253843Z",
     "shell.execute_reply": "2025-01-27T17:30:35.252490Z"
    },
    "papermill": {
     "duration": 0.057434,
     "end_time": "2025-01-27T17:30:35.255814",
     "exception": false,
     "start_time": "2025-01-27T17:30:35.198380",
     "status": "completed"
    },
    "tags": []
   },
   "outputs": [
    {
     "name": "stdout",
     "output_type": "stream",
     "text": [
      "Missing Dates:\n",
      "DatetimeIndex(['2015-07-06', '2015-07-07', '2015-07-08', '2015-07-09',\n",
      "               '2015-07-10', '2015-07-11', '2015-07-12', '2015-07-13',\n",
      "               '2015-07-14', '2015-07-15',\n",
      "               ...\n",
      "               '2022-03-18', '2022-03-19', '2022-03-20', '2022-03-21',\n",
      "               '2022-03-22', '2022-03-23', '2022-03-24', '2022-03-25',\n",
      "               '2022-03-26', '2022-03-27'],\n",
      "              dtype='datetime64[ns]', length=802, freq=None)\n"
     ]
    }
   ],
   "source": [
    "# Create a complete range of dates\n",
    "full_range = pd.date_range(start=new_data2.index.min(), end=new_data2.index.max())\n",
    "\n",
    "# Find missing dates\n",
    "missing_dates = full_range.difference(new_data2.index)\n",
    "print(\"Missing Dates:\")\n",
    "print(missing_dates)"
   ]
  },
  {
   "cell_type": "code",
   "execution_count": 13,
   "id": "691d7d9b",
   "metadata": {
    "execution": {
     "iopub.execute_input": "2025-01-27T17:30:35.325763Z",
     "iopub.status.busy": "2025-01-27T17:30:35.325408Z",
     "iopub.status.idle": "2025-01-27T17:30:35.335087Z",
     "shell.execute_reply": "2025-01-27T17:30:35.334054Z"
    },
    "papermill": {
     "duration": 0.045902,
     "end_time": "2025-01-27T17:30:35.337103",
     "exception": false,
     "start_time": "2025-01-27T17:30:35.291201",
     "status": "completed"
    },
    "tags": []
   },
   "outputs": [],
   "source": [
    "new_data3 = fn.impute_missing_dates(new_data2)"
   ]
  },
  {
   "cell_type": "code",
   "execution_count": 14,
   "id": "816e4fe9",
   "metadata": {
    "execution": {
     "iopub.execute_input": "2025-01-27T17:30:35.405491Z",
     "iopub.status.busy": "2025-01-27T17:30:35.405106Z",
     "iopub.status.idle": "2025-01-27T17:30:35.413702Z",
     "shell.execute_reply": "2025-01-27T17:30:35.412513Z"
    },
    "papermill": {
     "duration": 0.044917,
     "end_time": "2025-01-27T17:30:35.415598",
     "exception": false,
     "start_time": "2025-01-27T17:30:35.370681",
     "status": "completed"
    },
    "tags": []
   },
   "outputs": [
    {
     "name": "stdout",
     "output_type": "stream",
     "text": [
      "Missing Dates:\n",
      "DatetimeIndex([], dtype='datetime64[ns]', freq='D')\n"
     ]
    }
   ],
   "source": [
    "# Create a complete range of dates\n",
    "full_range = pd.date_range(start=new_data3.index.min(), end=new_data3.index.max())\n",
    "\n",
    "# Find missing dates\n",
    "missing_dates = full_range.difference(new_data3.index)\n",
    "print(\"Missing Dates:\")\n",
    "print(missing_dates)"
   ]
  },
  {
   "cell_type": "code",
   "execution_count": 15,
   "id": "0227a201",
   "metadata": {
    "execution": {
     "iopub.execute_input": "2025-01-27T17:30:35.487487Z",
     "iopub.status.busy": "2025-01-27T17:30:35.487131Z",
     "iopub.status.idle": "2025-01-27T17:30:35.492353Z",
     "shell.execute_reply": "2025-01-27T17:30:35.491210Z"
    },
    "papermill": {
     "duration": 0.043463,
     "end_time": "2025-01-27T17:30:35.494773",
     "exception": false,
     "start_time": "2025-01-27T17:30:35.451310",
     "status": "completed"
    },
    "tags": []
   },
   "outputs": [
    {
     "name": "stdout",
     "output_type": "stream",
     "text": [
      "Duplicate indexes: DatetimeIndex([], dtype='datetime64[ns]', freq='D')\n"
     ]
    }
   ],
   "source": [
    "duplicates = new_data3.index[new_data3.index.duplicated()]\n",
    "print(f\"Duplicate indexes: {duplicates}\")"
   ]
  },
  {
   "cell_type": "markdown",
   "id": "d13ef473",
   "metadata": {
    "papermill": {
     "duration": 0.034689,
     "end_time": "2025-01-27T17:30:35.567412",
     "exception": false,
     "start_time": "2025-01-27T17:30:35.532723",
     "status": "completed"
    },
    "tags": []
   },
   "source": [
    "# **1.3.Normal AQI count, After Normal AQI count Smoothing AQI(IQR, Z-score, Rolling), (Preprocess Pollution --> Smooth Pollution --> Calculate smooth aqi).**"
   ]
  },
  {
   "cell_type": "code",
   "execution_count": 16,
   "id": "6ddfe4b5",
   "metadata": {
    "execution": {
     "iopub.execute_input": "2025-01-27T17:30:35.640761Z",
     "iopub.status.busy": "2025-01-27T17:30:35.640419Z",
     "iopub.status.idle": "2025-01-27T17:30:35.653842Z",
     "shell.execute_reply": "2025-01-27T17:30:35.652684Z"
    },
    "papermill": {
     "duration": 0.053173,
     "end_time": "2025-01-27T17:30:35.655848",
     "exception": false,
     "start_time": "2025-01-27T17:30:35.602675",
     "status": "completed"
    },
    "tags": []
   },
   "outputs": [],
   "source": [
    "new_data4 = fn.calculate_aqi(new_data3, subindex_columns=['co', 'no2', 'o3', 'pm10', 'pm25', 'so2'])"
   ]
  },
  {
   "cell_type": "code",
   "execution_count": 17,
   "id": "b769fb92",
   "metadata": {
    "execution": {
     "iopub.execute_input": "2025-01-27T17:30:35.727366Z",
     "iopub.status.busy": "2025-01-27T17:30:35.727031Z",
     "iopub.status.idle": "2025-01-27T17:30:35.745337Z",
     "shell.execute_reply": "2025-01-27T17:30:35.744228Z"
    },
    "papermill": {
     "duration": 0.056464,
     "end_time": "2025-01-27T17:30:35.747085",
     "exception": false,
     "start_time": "2025-01-27T17:30:35.690621",
     "status": "completed"
    },
    "tags": []
   },
   "outputs": [
    {
     "data": {
      "text/html": [
       "<div>\n",
       "<style scoped>\n",
       "    .dataframe tbody tr th:only-of-type {\n",
       "        vertical-align: middle;\n",
       "    }\n",
       "\n",
       "    .dataframe tbody tr th {\n",
       "        vertical-align: top;\n",
       "    }\n",
       "\n",
       "    .dataframe thead th {\n",
       "        text-align: right;\n",
       "    }\n",
       "</style>\n",
       "<table border=\"1\" class=\"dataframe\">\n",
       "  <thead>\n",
       "    <tr style=\"text-align: right;\">\n",
       "      <th></th>\n",
       "      <th>co</th>\n",
       "      <th>no2</th>\n",
       "      <th>o3</th>\n",
       "      <th>pm10</th>\n",
       "      <th>pm25</th>\n",
       "      <th>so2</th>\n",
       "      <th>humidity</th>\n",
       "      <th>pressure</th>\n",
       "      <th>temperature</th>\n",
       "      <th>wind-speed</th>\n",
       "      <th>Country_City</th>\n",
       "      <th>Checks</th>\n",
       "      <th>AQI</th>\n",
       "    </tr>\n",
       "  </thead>\n",
       "  <tbody>\n",
       "    <tr>\n",
       "      <th>2014-12-29</th>\n",
       "      <td>14.1</td>\n",
       "      <td>36.2</td>\n",
       "      <td>3.2</td>\n",
       "      <td>218.0</td>\n",
       "      <td>307.0</td>\n",
       "      <td>4.2</td>\n",
       "      <td>60.691097</td>\n",
       "      <td>985.187382</td>\n",
       "      <td>26.3352</td>\n",
       "      <td>1.102459</td>\n",
       "      <td>India_Delhi</td>\n",
       "      <td>6</td>\n",
       "      <td>307.0</td>\n",
       "    </tr>\n",
       "    <tr>\n",
       "      <th>2014-12-30</th>\n",
       "      <td>20.4</td>\n",
       "      <td>36.8</td>\n",
       "      <td>4.8</td>\n",
       "      <td>330.0</td>\n",
       "      <td>367.0</td>\n",
       "      <td>5.8</td>\n",
       "      <td>60.691097</td>\n",
       "      <td>985.187382</td>\n",
       "      <td>26.3352</td>\n",
       "      <td>1.102459</td>\n",
       "      <td>India_Delhi</td>\n",
       "      <td>6</td>\n",
       "      <td>367.0</td>\n",
       "    </tr>\n",
       "    <tr>\n",
       "      <th>2014-12-31</th>\n",
       "      <td>12.7</td>\n",
       "      <td>28.7</td>\n",
       "      <td>7.8</td>\n",
       "      <td>137.0</td>\n",
       "      <td>202.0</td>\n",
       "      <td>6.3</td>\n",
       "      <td>60.691097</td>\n",
       "      <td>985.187382</td>\n",
       "      <td>26.3352</td>\n",
       "      <td>1.102459</td>\n",
       "      <td>India_Delhi</td>\n",
       "      <td>6</td>\n",
       "      <td>202.0</td>\n",
       "    </tr>\n",
       "    <tr>\n",
       "      <th>2015-01-01</th>\n",
       "      <td>20.8</td>\n",
       "      <td>66.5</td>\n",
       "      <td>5.2</td>\n",
       "      <td>230.0</td>\n",
       "      <td>382.0</td>\n",
       "      <td>9.9</td>\n",
       "      <td>60.691097</td>\n",
       "      <td>985.187382</td>\n",
       "      <td>26.3352</td>\n",
       "      <td>1.102459</td>\n",
       "      <td>India_Delhi</td>\n",
       "      <td>6</td>\n",
       "      <td>382.0</td>\n",
       "    </tr>\n",
       "    <tr>\n",
       "      <th>2015-01-02</th>\n",
       "      <td>12.7</td>\n",
       "      <td>33.9</td>\n",
       "      <td>6.0</td>\n",
       "      <td>81.0</td>\n",
       "      <td>172.0</td>\n",
       "      <td>4.2</td>\n",
       "      <td>60.691097</td>\n",
       "      <td>985.187382</td>\n",
       "      <td>26.3352</td>\n",
       "      <td>1.102459</td>\n",
       "      <td>India_Delhi</td>\n",
       "      <td>6</td>\n",
       "      <td>172.0</td>\n",
       "    </tr>\n",
       "  </tbody>\n",
       "</table>\n",
       "</div>"
      ],
      "text/plain": [
       "              co   no2   o3   pm10   pm25  so2   humidity    pressure  \\\n",
       "2014-12-29  14.1  36.2  3.2  218.0  307.0  4.2  60.691097  985.187382   \n",
       "2014-12-30  20.4  36.8  4.8  330.0  367.0  5.8  60.691097  985.187382   \n",
       "2014-12-31  12.7  28.7  7.8  137.0  202.0  6.3  60.691097  985.187382   \n",
       "2015-01-01  20.8  66.5  5.2  230.0  382.0  9.9  60.691097  985.187382   \n",
       "2015-01-02  12.7  33.9  6.0   81.0  172.0  4.2  60.691097  985.187382   \n",
       "\n",
       "            temperature  wind-speed Country_City  Checks    AQI  \n",
       "2014-12-29      26.3352    1.102459  India_Delhi       6  307.0  \n",
       "2014-12-30      26.3352    1.102459  India_Delhi       6  367.0  \n",
       "2014-12-31      26.3352    1.102459  India_Delhi       6  202.0  \n",
       "2015-01-01      26.3352    1.102459  India_Delhi       6  382.0  \n",
       "2015-01-02      26.3352    1.102459  India_Delhi       6  172.0  "
      ]
     },
     "execution_count": 17,
     "metadata": {},
     "output_type": "execute_result"
    }
   ],
   "source": [
    "new_data4.head()"
   ]
  },
  {
   "cell_type": "code",
   "execution_count": 18,
   "id": "b33d1ffe",
   "metadata": {
    "execution": {
     "iopub.execute_input": "2025-01-27T17:30:35.818728Z",
     "iopub.status.busy": "2025-01-27T17:30:35.818343Z",
     "iopub.status.idle": "2025-01-27T17:30:35.824679Z",
     "shell.execute_reply": "2025-01-27T17:30:35.823578Z"
    },
    "papermill": {
     "duration": 0.044983,
     "end_time": "2025-01-27T17:30:35.826462",
     "exception": false,
     "start_time": "2025-01-27T17:30:35.781479",
     "status": "completed"
    },
    "tags": []
   },
   "outputs": [
    {
     "data": {
      "text/plain": [
       "(3199, 13)"
      ]
     },
     "execution_count": 18,
     "metadata": {},
     "output_type": "execute_result"
    }
   ],
   "source": [
    "new_data4.shape"
   ]
  },
  {
   "cell_type": "markdown",
   "id": "2131bc59",
   "metadata": {
    "papermill": {
     "duration": 0.034638,
     "end_time": "2025-01-27T17:30:35.895759",
     "exception": false,
     "start_time": "2025-01-27T17:30:35.861121",
     "status": "completed"
    },
    "tags": []
   },
   "source": [
    " After Normal AQI count Smoothing AQI(IQR, Z-score, Rolling)"
   ]
  },
  {
   "cell_type": "code",
   "execution_count": 19,
   "id": "7fbfd82a",
   "metadata": {
    "execution": {
     "iopub.execute_input": "2025-01-27T17:30:35.965424Z",
     "iopub.status.busy": "2025-01-27T17:30:35.965080Z",
     "iopub.status.idle": "2025-01-27T17:30:35.986889Z",
     "shell.execute_reply": "2025-01-27T17:30:35.985696Z"
    },
    "papermill": {
     "duration": 0.058968,
     "end_time": "2025-01-27T17:30:35.988819",
     "exception": false,
     "start_time": "2025-01-27T17:30:35.929851",
     "status": "completed"
    },
    "tags": []
   },
   "outputs": [
    {
     "name": "stderr",
     "output_type": "stream",
     "text": [
      "/usr/local/lib/python3.10/dist-packages/pandas/core/computation/expressions.py:73: RuntimeWarning: invalid value encountered in less\n",
      "  return op(a, b)\n",
      "/usr/local/lib/python3.10/dist-packages/pandas/core/computation/expressions.py:73: RuntimeWarning: invalid value encountered in greater\n",
      "  return op(a, b)\n"
     ]
    }
   ],
   "source": [
    "# Apply the outlier handling function to the 'AQI' column only\n",
    "new_data4['AQI_smoothed_iqr'] = fn.handle_aqi_outliers(new_data4['AQI'], method='iqr')\n",
    "new_data4['AQI_smoothed_zscore'] = fn.handle_aqi_outliers(new_data4['AQI'], method='zscore')\n",
    "new_data4['AQI_smoothed_rolling'] = fn.handle_aqi_outliers(new_data4['AQI'], method='rolling')"
   ]
  },
  {
   "cell_type": "code",
   "execution_count": 20,
   "id": "f41a3a51",
   "metadata": {
    "execution": {
     "iopub.execute_input": "2025-01-27T17:30:36.058810Z",
     "iopub.status.busy": "2025-01-27T17:30:36.058428Z",
     "iopub.status.idle": "2025-01-27T17:30:36.079597Z",
     "shell.execute_reply": "2025-01-27T17:30:36.078214Z"
    },
    "papermill": {
     "duration": 0.058193,
     "end_time": "2025-01-27T17:30:36.081473",
     "exception": false,
     "start_time": "2025-01-27T17:30:36.023280",
     "status": "completed"
    },
    "tags": []
   },
   "outputs": [
    {
     "data": {
      "text/html": [
       "<div>\n",
       "<style scoped>\n",
       "    .dataframe tbody tr th:only-of-type {\n",
       "        vertical-align: middle;\n",
       "    }\n",
       "\n",
       "    .dataframe tbody tr th {\n",
       "        vertical-align: top;\n",
       "    }\n",
       "\n",
       "    .dataframe thead th {\n",
       "        text-align: right;\n",
       "    }\n",
       "</style>\n",
       "<table border=\"1\" class=\"dataframe\">\n",
       "  <thead>\n",
       "    <tr style=\"text-align: right;\">\n",
       "      <th></th>\n",
       "      <th>co</th>\n",
       "      <th>no2</th>\n",
       "      <th>o3</th>\n",
       "      <th>pm10</th>\n",
       "      <th>pm25</th>\n",
       "      <th>so2</th>\n",
       "      <th>humidity</th>\n",
       "      <th>pressure</th>\n",
       "      <th>temperature</th>\n",
       "      <th>wind-speed</th>\n",
       "      <th>Country_City</th>\n",
       "      <th>Checks</th>\n",
       "      <th>AQI</th>\n",
       "      <th>AQI_smoothed_iqr</th>\n",
       "      <th>AQI_smoothed_zscore</th>\n",
       "      <th>AQI_smoothed_rolling</th>\n",
       "    </tr>\n",
       "  </thead>\n",
       "  <tbody>\n",
       "    <tr>\n",
       "      <th>2014-12-29</th>\n",
       "      <td>14.1</td>\n",
       "      <td>36.2</td>\n",
       "      <td>3.2</td>\n",
       "      <td>218.0</td>\n",
       "      <td>307.0</td>\n",
       "      <td>4.2</td>\n",
       "      <td>60.691097</td>\n",
       "      <td>985.187382</td>\n",
       "      <td>26.3352</td>\n",
       "      <td>1.102459</td>\n",
       "      <td>India_Delhi</td>\n",
       "      <td>6</td>\n",
       "      <td>307.0</td>\n",
       "      <td>307.0</td>\n",
       "      <td>307.0</td>\n",
       "      <td>307.0</td>\n",
       "    </tr>\n",
       "    <tr>\n",
       "      <th>2014-12-30</th>\n",
       "      <td>20.4</td>\n",
       "      <td>36.8</td>\n",
       "      <td>4.8</td>\n",
       "      <td>330.0</td>\n",
       "      <td>367.0</td>\n",
       "      <td>5.8</td>\n",
       "      <td>60.691097</td>\n",
       "      <td>985.187382</td>\n",
       "      <td>26.3352</td>\n",
       "      <td>1.102459</td>\n",
       "      <td>India_Delhi</td>\n",
       "      <td>6</td>\n",
       "      <td>367.0</td>\n",
       "      <td>367.0</td>\n",
       "      <td>367.0</td>\n",
       "      <td>367.0</td>\n",
       "    </tr>\n",
       "    <tr>\n",
       "      <th>2014-12-31</th>\n",
       "      <td>12.7</td>\n",
       "      <td>28.7</td>\n",
       "      <td>7.8</td>\n",
       "      <td>137.0</td>\n",
       "      <td>202.0</td>\n",
       "      <td>6.3</td>\n",
       "      <td>60.691097</td>\n",
       "      <td>985.187382</td>\n",
       "      <td>26.3352</td>\n",
       "      <td>1.102459</td>\n",
       "      <td>India_Delhi</td>\n",
       "      <td>6</td>\n",
       "      <td>202.0</td>\n",
       "      <td>202.0</td>\n",
       "      <td>202.0</td>\n",
       "      <td>202.0</td>\n",
       "    </tr>\n",
       "    <tr>\n",
       "      <th>2015-01-01</th>\n",
       "      <td>20.8</td>\n",
       "      <td>66.5</td>\n",
       "      <td>5.2</td>\n",
       "      <td>230.0</td>\n",
       "      <td>382.0</td>\n",
       "      <td>9.9</td>\n",
       "      <td>60.691097</td>\n",
       "      <td>985.187382</td>\n",
       "      <td>26.3352</td>\n",
       "      <td>1.102459</td>\n",
       "      <td>India_Delhi</td>\n",
       "      <td>6</td>\n",
       "      <td>382.0</td>\n",
       "      <td>382.0</td>\n",
       "      <td>158.0</td>\n",
       "      <td>382.0</td>\n",
       "    </tr>\n",
       "    <tr>\n",
       "      <th>2015-01-02</th>\n",
       "      <td>12.7</td>\n",
       "      <td>33.9</td>\n",
       "      <td>6.0</td>\n",
       "      <td>81.0</td>\n",
       "      <td>172.0</td>\n",
       "      <td>4.2</td>\n",
       "      <td>60.691097</td>\n",
       "      <td>985.187382</td>\n",
       "      <td>26.3352</td>\n",
       "      <td>1.102459</td>\n",
       "      <td>India_Delhi</td>\n",
       "      <td>6</td>\n",
       "      <td>172.0</td>\n",
       "      <td>172.0</td>\n",
       "      <td>172.0</td>\n",
       "      <td>172.0</td>\n",
       "    </tr>\n",
       "  </tbody>\n",
       "</table>\n",
       "</div>"
      ],
      "text/plain": [
       "              co   no2   o3   pm10   pm25  so2   humidity    pressure  \\\n",
       "2014-12-29  14.1  36.2  3.2  218.0  307.0  4.2  60.691097  985.187382   \n",
       "2014-12-30  20.4  36.8  4.8  330.0  367.0  5.8  60.691097  985.187382   \n",
       "2014-12-31  12.7  28.7  7.8  137.0  202.0  6.3  60.691097  985.187382   \n",
       "2015-01-01  20.8  66.5  5.2  230.0  382.0  9.9  60.691097  985.187382   \n",
       "2015-01-02  12.7  33.9  6.0   81.0  172.0  4.2  60.691097  985.187382   \n",
       "\n",
       "            temperature  wind-speed Country_City  Checks    AQI  \\\n",
       "2014-12-29      26.3352    1.102459  India_Delhi       6  307.0   \n",
       "2014-12-30      26.3352    1.102459  India_Delhi       6  367.0   \n",
       "2014-12-31      26.3352    1.102459  India_Delhi       6  202.0   \n",
       "2015-01-01      26.3352    1.102459  India_Delhi       6  382.0   \n",
       "2015-01-02      26.3352    1.102459  India_Delhi       6  172.0   \n",
       "\n",
       "            AQI_smoothed_iqr  AQI_smoothed_zscore  AQI_smoothed_rolling  \n",
       "2014-12-29             307.0                307.0                 307.0  \n",
       "2014-12-30             367.0                367.0                 367.0  \n",
       "2014-12-31             202.0                202.0                 202.0  \n",
       "2015-01-01             382.0                158.0                 382.0  \n",
       "2015-01-02             172.0                172.0                 172.0  "
      ]
     },
     "execution_count": 20,
     "metadata": {},
     "output_type": "execute_result"
    }
   ],
   "source": [
    "new_data4.head()"
   ]
  },
  {
   "cell_type": "code",
   "execution_count": 21,
   "id": "3466f722",
   "metadata": {
    "execution": {
     "iopub.execute_input": "2025-01-27T17:30:36.151566Z",
     "iopub.status.busy": "2025-01-27T17:30:36.151165Z",
     "iopub.status.idle": "2025-01-27T17:30:38.634028Z",
     "shell.execute_reply": "2025-01-27T17:30:38.632907Z"
    },
    "papermill": {
     "duration": 2.522325,
     "end_time": "2025-01-27T17:30:38.638474",
     "exception": false,
     "start_time": "2025-01-27T17:30:36.116149",
     "status": "completed"
    },
    "tags": []
   },
   "outputs": [
    {
     "data": {
      "image/png": "[encoded data removed]",
      "text/plain": [
       "<Figure size 1500x1000 with 4 Axes>"
      ]
     },
     "metadata": {},
     "output_type": "display_data"
    }
   ],
   "source": [
    "# Create subplots\n",
    "fig, axes = plt.subplots(2, 2, figsize=(15, 10))\n",
    "\n",
    "# Plot original AQI\n",
    "new_data4['AQI'].plot(\n",
    "    ax=axes[0, 0], \n",
    "    title='Original AQI', \n",
    "    color='blue', \n",
    "    label='Original AQI'\n",
    ")\n",
    "axes[0, 0].legend()\n",
    "\n",
    "# Plot IQR Method smoothed AQI\n",
    "new_data4['AQI_smoothed_iqr'].plot(\n",
    "    ax=axes[0, 1], \n",
    "    title='IQR Method', \n",
    "    color='green', \n",
    "    label='IQR Smoothed'\n",
    ")\n",
    "axes[0, 1].legend()\n",
    "\n",
    "# Plot Z-Score Method smoothed AQI\n",
    "new_data4['AQI_smoothed_zscore'].plot(\n",
    "    ax=axes[1, 0], \n",
    "    title='Z-Score Method', \n",
    "    color='red', \n",
    "    label='Z-Score Smoothed'\n",
    ")\n",
    "axes[1, 0].legend()\n",
    "\n",
    "# Plot Rolling Method smoothed AQI\n",
    "new_data4['AQI_smoothed_rolling'].plot(\n",
    "    ax=axes[1, 1], \n",
    "    title='Rolling Method', \n",
    "    color='purple', \n",
    "    label='Rolling Smoothed'\n",
    ")\n",
    "axes[1, 1].legend()\n",
    "\n",
    "\n",
    "plt.tight_layout()\n",
    "plt.show()"
   ]
  },
  {
   "cell_type": "markdown",
   "id": "44e636e8",
   "metadata": {
    "papermill": {
     "duration": 0.037624,
     "end_time": "2025-01-27T17:30:38.715142",
     "exception": false,
     "start_time": "2025-01-27T17:30:38.677518",
     "status": "completed"
    },
    "tags": []
   },
   "source": [
    "(Preprocess Pollution --> Smooth Pollution --> Calculate smooth aqi)"
   ]
  },
  {
   "cell_type": "code",
   "execution_count": 22,
   "id": "545abe65",
   "metadata": {
    "execution": {
     "iopub.execute_input": "2025-01-27T17:30:38.794024Z",
     "iopub.status.busy": "2025-01-27T17:30:38.793616Z",
     "iopub.status.idle": "2025-01-27T17:30:38.834279Z",
     "shell.execute_reply": "2025-01-27T17:30:38.833156Z"
    },
    "papermill": {
     "duration": 0.081049,
     "end_time": "2025-01-27T17:30:38.836320",
     "exception": false,
     "start_time": "2025-01-27T17:30:38.755271",
     "status": "completed"
    },
    "tags": []
   },
   "outputs": [
    {
     "data": {
      "text/html": [
       "<div>\n",
       "<style scoped>\n",
       "    .dataframe tbody tr th:only-of-type {\n",
       "        vertical-align: middle;\n",
       "    }\n",
       "\n",
       "    .dataframe tbody tr th {\n",
       "        vertical-align: top;\n",
       "    }\n",
       "\n",
       "    .dataframe thead th {\n",
       "        text-align: right;\n",
       "    }\n",
       "</style>\n",
       "<table border=\"1\" class=\"dataframe\">\n",
       "  <thead>\n",
       "    <tr style=\"text-align: right;\">\n",
       "      <th></th>\n",
       "      <th>co</th>\n",
       "      <th>no2</th>\n",
       "      <th>o3</th>\n",
       "      <th>pm10</th>\n",
       "      <th>pm25</th>\n",
       "      <th>so2</th>\n",
       "      <th>humidity</th>\n",
       "      <th>pressure</th>\n",
       "      <th>temperature</th>\n",
       "      <th>wind-speed</th>\n",
       "      <th>Country_City</th>\n",
       "      <th>AQI_Smooth</th>\n",
       "    </tr>\n",
       "  </thead>\n",
       "  <tbody>\n",
       "    <tr>\n",
       "      <th>2014-12-29</th>\n",
       "      <td>11.50</td>\n",
       "      <td>29.400000</td>\n",
       "      <td>5.366667</td>\n",
       "      <td>182.333333</td>\n",
       "      <td>195.666667</td>\n",
       "      <td>6.000000</td>\n",
       "      <td>60.691097</td>\n",
       "      <td>985.187382</td>\n",
       "      <td>26.3352</td>\n",
       "      <td>1.102459</td>\n",
       "      <td>India_Delhi</td>\n",
       "      <td>195.666667</td>\n",
       "    </tr>\n",
       "    <tr>\n",
       "      <th>2014-12-30</th>\n",
       "      <td>11.50</td>\n",
       "      <td>29.400000</td>\n",
       "      <td>5.366667</td>\n",
       "      <td>182.333333</td>\n",
       "      <td>195.666667</td>\n",
       "      <td>6.000000</td>\n",
       "      <td>60.691097</td>\n",
       "      <td>985.187382</td>\n",
       "      <td>26.3352</td>\n",
       "      <td>1.102459</td>\n",
       "      <td>India_Delhi</td>\n",
       "      <td>195.666667</td>\n",
       "    </tr>\n",
       "    <tr>\n",
       "      <th>2014-12-31</th>\n",
       "      <td>11.50</td>\n",
       "      <td>29.400000</td>\n",
       "      <td>5.366667</td>\n",
       "      <td>182.333333</td>\n",
       "      <td>195.666667</td>\n",
       "      <td>6.000000</td>\n",
       "      <td>60.691097</td>\n",
       "      <td>985.187382</td>\n",
       "      <td>26.3352</td>\n",
       "      <td>1.102459</td>\n",
       "      <td>India_Delhi</td>\n",
       "      <td>195.666667</td>\n",
       "    </tr>\n",
       "    <tr>\n",
       "      <th>2015-01-01</th>\n",
       "      <td>11.50</td>\n",
       "      <td>29.400000</td>\n",
       "      <td>5.366667</td>\n",
       "      <td>182.333333</td>\n",
       "      <td>195.666667</td>\n",
       "      <td>6.000000</td>\n",
       "      <td>60.691097</td>\n",
       "      <td>985.187382</td>\n",
       "      <td>26.3352</td>\n",
       "      <td>1.102459</td>\n",
       "      <td>India_Delhi</td>\n",
       "      <td>195.666667</td>\n",
       "    </tr>\n",
       "    <tr>\n",
       "      <th>2015-01-02</th>\n",
       "      <td>11.25</td>\n",
       "      <td>26.616667</td>\n",
       "      <td>5.816667</td>\n",
       "      <td>166.000000</td>\n",
       "      <td>177.000000</td>\n",
       "      <td>5.733333</td>\n",
       "      <td>60.691097</td>\n",
       "      <td>985.187382</td>\n",
       "      <td>26.3352</td>\n",
       "      <td>1.102459</td>\n",
       "      <td>India_Delhi</td>\n",
       "      <td>177.000000</td>\n",
       "    </tr>\n",
       "  </tbody>\n",
       "</table>\n",
       "</div>"
      ],
      "text/plain": [
       "               co        no2        o3        pm10        pm25       so2  \\\n",
       "2014-12-29  11.50  29.400000  5.366667  182.333333  195.666667  6.000000   \n",
       "2014-12-30  11.50  29.400000  5.366667  182.333333  195.666667  6.000000   \n",
       "2014-12-31  11.50  29.400000  5.366667  182.333333  195.666667  6.000000   \n",
       "2015-01-01  11.50  29.400000  5.366667  182.333333  195.666667  6.000000   \n",
       "2015-01-02  11.25  26.616667  5.816667  166.000000  177.000000  5.733333   \n",
       "\n",
       "             humidity    pressure  temperature  wind-speed Country_City  \\\n",
       "2014-12-29  60.691097  985.187382      26.3352    1.102459  India_Delhi   \n",
       "2014-12-30  60.691097  985.187382      26.3352    1.102459  India_Delhi   \n",
       "2014-12-31  60.691097  985.187382      26.3352    1.102459  India_Delhi   \n",
       "2015-01-01  60.691097  985.187382      26.3352    1.102459  India_Delhi   \n",
       "2015-01-02  60.691097  985.187382      26.3352    1.102459  India_Delhi   \n",
       "\n",
       "            AQI_Smooth  \n",
       "2014-12-29  195.666667  \n",
       "2014-12-30  195.666667  \n",
       "2014-12-31  195.666667  \n",
       "2015-01-01  195.666667  \n",
       "2015-01-02  177.000000  "
      ]
     },
     "execution_count": 22,
     "metadata": {},
     "output_type": "execute_result"
    }
   ],
   "source": [
    "new_smooth = fn.calculate_smooth_aqi(new_data3, columns=['co', 'no2', 'o3', 'pm10', 'pm25', 'so2'])\n",
    "new_smooth.head()"
   ]
  },
  {
   "cell_type": "markdown",
   "id": "9d076039",
   "metadata": {
    "papermill": {
     "duration": 0.038135,
     "end_time": "2025-01-27T17:30:38.913836",
     "exception": false,
     "start_time": "2025-01-27T17:30:38.875701",
     "status": "completed"
    },
    "tags": []
   },
   "source": [
    "# **2.1. Splitting & Preprocessing the Raw Data(Normal AQI)**"
   ]
  },
  {
   "cell_type": "markdown",
   "id": "bfd753ad",
   "metadata": {
    "papermill": {
     "duration": 0.038595,
     "end_time": "2025-01-27T17:30:38.990563",
     "exception": false,
     "start_time": "2025-01-27T17:30:38.951968",
     "status": "completed"
    },
    "tags": []
   },
   "source": [
    "Normal AQI"
   ]
  },
  {
   "cell_type": "code",
   "execution_count": 23,
   "id": "0863f1a8",
   "metadata": {
    "execution": {
     "iopub.execute_input": "2025-01-27T17:30:39.071178Z",
     "iopub.status.busy": "2025-01-27T17:30:39.070761Z",
     "iopub.status.idle": "2025-01-27T17:30:39.090489Z",
     "shell.execute_reply": "2025-01-27T17:30:39.089281Z"
    },
    "papermill": {
     "duration": 0.061878,
     "end_time": "2025-01-27T17:30:39.092430",
     "exception": false,
     "start_time": "2025-01-27T17:30:39.030552",
     "status": "completed"
    },
    "tags": []
   },
   "outputs": [
    {
     "data": {
      "text/html": [
       "<div>\n",
       "<style scoped>\n",
       "    .dataframe tbody tr th:only-of-type {\n",
       "        vertical-align: middle;\n",
       "    }\n",
       "\n",
       "    .dataframe tbody tr th {\n",
       "        vertical-align: top;\n",
       "    }\n",
       "\n",
       "    .dataframe thead th {\n",
       "        text-align: right;\n",
       "    }\n",
       "</style>\n",
       "<table border=\"1\" class=\"dataframe\">\n",
       "  <thead>\n",
       "    <tr style=\"text-align: right;\">\n",
       "      <th></th>\n",
       "      <th>co</th>\n",
       "      <th>no2</th>\n",
       "      <th>o3</th>\n",
       "      <th>pm10</th>\n",
       "      <th>pm25</th>\n",
       "      <th>so2</th>\n",
       "      <th>humidity</th>\n",
       "      <th>pressure</th>\n",
       "      <th>temperature</th>\n",
       "      <th>wind-speed</th>\n",
       "      <th>Country_City</th>\n",
       "      <th>Checks</th>\n",
       "      <th>AQI</th>\n",
       "      <th>AQI_smoothed_iqr</th>\n",
       "      <th>AQI_smoothed_zscore</th>\n",
       "      <th>AQI_smoothed_rolling</th>\n",
       "    </tr>\n",
       "  </thead>\n",
       "  <tbody>\n",
       "    <tr>\n",
       "      <th>2014-12-29</th>\n",
       "      <td>14.1</td>\n",
       "      <td>36.2</td>\n",
       "      <td>3.2</td>\n",
       "      <td>218.0</td>\n",
       "      <td>307.0</td>\n",
       "      <td>4.2</td>\n",
       "      <td>60.691097</td>\n",
       "      <td>985.187382</td>\n",
       "      <td>26.3352</td>\n",
       "      <td>1.102459</td>\n",
       "      <td>India_Delhi</td>\n",
       "      <td>6</td>\n",
       "      <td>307.0</td>\n",
       "      <td>307.0</td>\n",
       "      <td>307.0</td>\n",
       "      <td>307.0</td>\n",
       "    </tr>\n",
       "    <tr>\n",
       "      <th>2014-12-30</th>\n",
       "      <td>20.4</td>\n",
       "      <td>36.8</td>\n",
       "      <td>4.8</td>\n",
       "      <td>330.0</td>\n",
       "      <td>367.0</td>\n",
       "      <td>5.8</td>\n",
       "      <td>60.691097</td>\n",
       "      <td>985.187382</td>\n",
       "      <td>26.3352</td>\n",
       "      <td>1.102459</td>\n",
       "      <td>India_Delhi</td>\n",
       "      <td>6</td>\n",
       "      <td>367.0</td>\n",
       "      <td>367.0</td>\n",
       "      <td>367.0</td>\n",
       "      <td>367.0</td>\n",
       "    </tr>\n",
       "    <tr>\n",
       "      <th>2014-12-31</th>\n",
       "      <td>12.7</td>\n",
       "      <td>28.7</td>\n",
       "      <td>7.8</td>\n",
       "      <td>137.0</td>\n",
       "      <td>202.0</td>\n",
       "      <td>6.3</td>\n",
       "      <td>60.691097</td>\n",
       "      <td>985.187382</td>\n",
       "      <td>26.3352</td>\n",
       "      <td>1.102459</td>\n",
       "      <td>India_Delhi</td>\n",
       "      <td>6</td>\n",
       "      <td>202.0</td>\n",
       "      <td>202.0</td>\n",
       "      <td>202.0</td>\n",
       "      <td>202.0</td>\n",
       "    </tr>\n",
       "    <tr>\n",
       "      <th>2015-01-01</th>\n",
       "      <td>20.8</td>\n",
       "      <td>66.5</td>\n",
       "      <td>5.2</td>\n",
       "      <td>230.0</td>\n",
       "      <td>382.0</td>\n",
       "      <td>9.9</td>\n",
       "      <td>60.691097</td>\n",
       "      <td>985.187382</td>\n",
       "      <td>26.3352</td>\n",
       "      <td>1.102459</td>\n",
       "      <td>India_Delhi</td>\n",
       "      <td>6</td>\n",
       "      <td>382.0</td>\n",
       "      <td>382.0</td>\n",
       "      <td>158.0</td>\n",
       "      <td>382.0</td>\n",
       "    </tr>\n",
       "    <tr>\n",
       "      <th>2015-01-02</th>\n",
       "      <td>12.7</td>\n",
       "      <td>33.9</td>\n",
       "      <td>6.0</td>\n",
       "      <td>81.0</td>\n",
       "      <td>172.0</td>\n",
       "      <td>4.2</td>\n",
       "      <td>60.691097</td>\n",
       "      <td>985.187382</td>\n",
       "      <td>26.3352</td>\n",
       "      <td>1.102459</td>\n",
       "      <td>India_Delhi</td>\n",
       "      <td>6</td>\n",
       "      <td>172.0</td>\n",
       "      <td>172.0</td>\n",
       "      <td>172.0</td>\n",
       "      <td>172.0</td>\n",
       "    </tr>\n",
       "  </tbody>\n",
       "</table>\n",
       "</div>"
      ],
      "text/plain": [
       "              co   no2   o3   pm10   pm25  so2   humidity    pressure  \\\n",
       "2014-12-29  14.1  36.2  3.2  218.0  307.0  4.2  60.691097  985.187382   \n",
       "2014-12-30  20.4  36.8  4.8  330.0  367.0  5.8  60.691097  985.187382   \n",
       "2014-12-31  12.7  28.7  7.8  137.0  202.0  6.3  60.691097  985.187382   \n",
       "2015-01-01  20.8  66.5  5.2  230.0  382.0  9.9  60.691097  985.187382   \n",
       "2015-01-02  12.7  33.9  6.0   81.0  172.0  4.2  60.691097  985.187382   \n",
       "\n",
       "            temperature  wind-speed Country_City  Checks    AQI  \\\n",
       "2014-12-29      26.3352    1.102459  India_Delhi       6  307.0   \n",
       "2014-12-30      26.3352    1.102459  India_Delhi       6  367.0   \n",
       "2014-12-31      26.3352    1.102459  India_Delhi       6  202.0   \n",
       "2015-01-01      26.3352    1.102459  India_Delhi       6  382.0   \n",
       "2015-01-02      26.3352    1.102459  India_Delhi       6  172.0   \n",
       "\n",
       "            AQI_smoothed_iqr  AQI_smoothed_zscore  AQI_smoothed_rolling  \n",
       "2014-12-29             307.0                307.0                 307.0  \n",
       "2014-12-30             367.0                367.0                 367.0  \n",
       "2014-12-31             202.0                202.0                 202.0  \n",
       "2015-01-01             382.0                158.0                 382.0  \n",
       "2015-01-02             172.0                172.0                 172.0  "
      ]
     },
     "execution_count": 23,
     "metadata": {},
     "output_type": "execute_result"
    }
   ],
   "source": [
    "new_data4.head()"
   ]
  },
  {
   "cell_type": "code",
   "execution_count": 24,
   "id": "259d3a26",
   "metadata": {
    "execution": {
     "iopub.execute_input": "2025-01-27T17:30:39.172351Z",
     "iopub.status.busy": "2025-01-27T17:30:39.171903Z",
     "iopub.status.idle": "2025-01-27T17:30:39.178208Z",
     "shell.execute_reply": "2025-01-27T17:30:39.177006Z"
    },
    "papermill": {
     "duration": 0.048233,
     "end_time": "2025-01-27T17:30:39.180102",
     "exception": false,
     "start_time": "2025-01-27T17:30:39.131869",
     "status": "completed"
    },
    "tags": []
   },
   "outputs": [
    {
     "data": {
      "text/plain": [
       "Index(['co', 'no2', 'o3', 'pm10', 'pm25', 'so2', 'humidity', 'pressure',\n",
       "       'temperature', 'wind-speed', 'Country_City', 'Checks', 'AQI',\n",
       "       'AQI_smoothed_iqr', 'AQI_smoothed_zscore', 'AQI_smoothed_rolling'],\n",
       "      dtype='object')"
      ]
     },
     "execution_count": 24,
     "metadata": {},
     "output_type": "execute_result"
    }
   ],
   "source": [
    "new_data4.columns"
   ]
  },
  {
   "cell_type": "markdown",
   "id": "3cdb6618",
   "metadata": {
    "papermill": {
     "duration": 0.037558,
     "end_time": "2025-01-27T17:30:39.258524",
     "exception": false,
     "start_time": "2025-01-27T17:30:39.220966",
     "status": "completed"
    },
    "tags": []
   },
   "source": [
    "***Working with Normal AQI***"
   ]
  },
  {
   "cell_type": "code",
   "execution_count": 25,
   "id": "975e33ed",
   "metadata": {
    "execution": {
     "iopub.execute_input": "2025-01-27T17:30:39.338076Z",
     "iopub.status.busy": "2025-01-27T17:30:39.337675Z",
     "iopub.status.idle": "2025-01-27T17:30:39.343413Z",
     "shell.execute_reply": "2025-01-27T17:30:39.342286Z"
    },
    "papermill": {
     "duration": 0.04739,
     "end_time": "2025-01-27T17:30:39.345141",
     "exception": false,
     "start_time": "2025-01-27T17:30:39.297751",
     "status": "completed"
    },
    "tags": []
   },
   "outputs": [],
   "source": [
    "data = new_data4.drop(['Country_City', 'Checks',\n",
    "       'AQI_smoothed_iqr', 'AQI_smoothed_zscore', \n",
    "                       'AQI_smoothed_rolling'],axis=1)"
   ]
  },
  {
   "cell_type": "code",
   "execution_count": 26,
   "id": "523400a1",
   "metadata": {
    "execution": {
     "iopub.execute_input": "2025-01-27T17:30:39.425067Z",
     "iopub.status.busy": "2025-01-27T17:30:39.424544Z",
     "iopub.status.idle": "2025-01-27T17:30:39.442837Z",
     "shell.execute_reply": "2025-01-27T17:30:39.441646Z"
    },
    "papermill": {
     "duration": 0.061089,
     "end_time": "2025-01-27T17:30:39.444771",
     "exception": false,
     "start_time": "2025-01-27T17:30:39.383682",
     "status": "completed"
    },
    "tags": []
   },
   "outputs": [
    {
     "data": {
      "text/html": [
       "<div>\n",
       "<style scoped>\n",
       "    .dataframe tbody tr th:only-of-type {\n",
       "        vertical-align: middle;\n",
       "    }\n",
       "\n",
       "    .dataframe tbody tr th {\n",
       "        vertical-align: top;\n",
       "    }\n",
       "\n",
       "    .dataframe thead th {\n",
       "        text-align: right;\n",
       "    }\n",
       "</style>\n",
       "<table border=\"1\" class=\"dataframe\">\n",
       "  <thead>\n",
       "    <tr style=\"text-align: right;\">\n",
       "      <th></th>\n",
       "      <th>co</th>\n",
       "      <th>no2</th>\n",
       "      <th>o3</th>\n",
       "      <th>pm10</th>\n",
       "      <th>pm25</th>\n",
       "      <th>so2</th>\n",
       "      <th>humidity</th>\n",
       "      <th>pressure</th>\n",
       "      <th>temperature</th>\n",
       "      <th>wind-speed</th>\n",
       "      <th>AQI</th>\n",
       "    </tr>\n",
       "  </thead>\n",
       "  <tbody>\n",
       "    <tr>\n",
       "      <th>2014-12-29</th>\n",
       "      <td>14.1</td>\n",
       "      <td>36.2</td>\n",
       "      <td>3.2</td>\n",
       "      <td>218.0</td>\n",
       "      <td>307.0</td>\n",
       "      <td>4.2</td>\n",
       "      <td>60.691097</td>\n",
       "      <td>985.187382</td>\n",
       "      <td>26.3352</td>\n",
       "      <td>1.102459</td>\n",
       "      <td>307.0</td>\n",
       "    </tr>\n",
       "    <tr>\n",
       "      <th>2014-12-30</th>\n",
       "      <td>20.4</td>\n",
       "      <td>36.8</td>\n",
       "      <td>4.8</td>\n",
       "      <td>330.0</td>\n",
       "      <td>367.0</td>\n",
       "      <td>5.8</td>\n",
       "      <td>60.691097</td>\n",
       "      <td>985.187382</td>\n",
       "      <td>26.3352</td>\n",
       "      <td>1.102459</td>\n",
       "      <td>367.0</td>\n",
       "    </tr>\n",
       "    <tr>\n",
       "      <th>2014-12-31</th>\n",
       "      <td>12.7</td>\n",
       "      <td>28.7</td>\n",
       "      <td>7.8</td>\n",
       "      <td>137.0</td>\n",
       "      <td>202.0</td>\n",
       "      <td>6.3</td>\n",
       "      <td>60.691097</td>\n",
       "      <td>985.187382</td>\n",
       "      <td>26.3352</td>\n",
       "      <td>1.102459</td>\n",
       "      <td>202.0</td>\n",
       "    </tr>\n",
       "    <tr>\n",
       "      <th>2015-01-01</th>\n",
       "      <td>20.8</td>\n",
       "      <td>66.5</td>\n",
       "      <td>5.2</td>\n",
       "      <td>230.0</td>\n",
       "      <td>382.0</td>\n",
       "      <td>9.9</td>\n",
       "      <td>60.691097</td>\n",
       "      <td>985.187382</td>\n",
       "      <td>26.3352</td>\n",
       "      <td>1.102459</td>\n",
       "      <td>382.0</td>\n",
       "    </tr>\n",
       "    <tr>\n",
       "      <th>2015-01-02</th>\n",
       "      <td>12.7</td>\n",
       "      <td>33.9</td>\n",
       "      <td>6.0</td>\n",
       "      <td>81.0</td>\n",
       "      <td>172.0</td>\n",
       "      <td>4.2</td>\n",
       "      <td>60.691097</td>\n",
       "      <td>985.187382</td>\n",
       "      <td>26.3352</td>\n",
       "      <td>1.102459</td>\n",
       "      <td>172.0</td>\n",
       "    </tr>\n",
       "  </tbody>\n",
       "</table>\n",
       "</div>"
      ],
      "text/plain": [
       "              co   no2   o3   pm10   pm25  so2   humidity    pressure  \\\n",
       "2014-12-29  14.1  36.2  3.2  218.0  307.0  4.2  60.691097  985.187382   \n",
       "2014-12-30  20.4  36.8  4.8  330.0  367.0  5.8  60.691097  985.187382   \n",
       "2014-12-31  12.7  28.7  7.8  137.0  202.0  6.3  60.691097  985.187382   \n",
       "2015-01-01  20.8  66.5  5.2  230.0  382.0  9.9  60.691097  985.187382   \n",
       "2015-01-02  12.7  33.9  6.0   81.0  172.0  4.2  60.691097  985.187382   \n",
       "\n",
       "            temperature  wind-speed    AQI  \n",
       "2014-12-29      26.3352    1.102459  307.0  \n",
       "2014-12-30      26.3352    1.102459  367.0  \n",
       "2014-12-31      26.3352    1.102459  202.0  \n",
       "2015-01-01      26.3352    1.102459  382.0  \n",
       "2015-01-02      26.3352    1.102459  172.0  "
      ]
     },
     "execution_count": 26,
     "metadata": {},
     "output_type": "execute_result"
    }
   ],
   "source": [
    "data.head()"
   ]
  },
  {
   "cell_type": "code",
   "execution_count": 27,
   "id": "93e545da",
   "metadata": {
    "execution": {
     "iopub.execute_input": "2025-01-27T17:30:39.526061Z",
     "iopub.status.busy": "2025-01-27T17:30:39.525671Z",
     "iopub.status.idle": "2025-01-27T17:30:39.534769Z",
     "shell.execute_reply": "2025-01-27T17:30:39.533277Z"
    },
    "papermill": {
     "duration": 0.052405,
     "end_time": "2025-01-27T17:30:39.536674",
     "exception": false,
     "start_time": "2025-01-27T17:30:39.484269",
     "status": "completed"
    },
    "tags": []
   },
   "outputs": [
    {
     "name": "stdout",
     "output_type": "stream",
     "text": [
      "Index(['co', 'no2', 'o3', 'pm10', 'pm25', 'so2', 'humidity', 'pressure',\n",
      "       'temperature', 'wind-speed', 'AQI'],\n",
      "      dtype='object')\n",
      "Index([], dtype='object')\n"
     ]
    }
   ],
   "source": [
    "num = data.select_dtypes(include=['int16', 'int32', 'int64', 'float16', 'float32', 'float64'])\n",
    "cat = data.select_dtypes(include=['object'])\n",
    "\n",
    "print(num.columns)\n",
    "print(cat.columns)"
   ]
  },
  {
   "cell_type": "code",
   "execution_count": 28,
   "id": "948f2216",
   "metadata": {
    "execution": {
     "iopub.execute_input": "2025-01-27T17:30:39.616219Z",
     "iopub.status.busy": "2025-01-27T17:30:39.615817Z",
     "iopub.status.idle": "2025-01-27T17:30:39.626411Z",
     "shell.execute_reply": "2025-01-27T17:30:39.625135Z"
    },
    "papermill": {
     "duration": 0.051984,
     "end_time": "2025-01-27T17:30:39.628377",
     "exception": false,
     "start_time": "2025-01-27T17:30:39.576393",
     "status": "completed"
    },
    "tags": []
   },
   "outputs": [
    {
     "name": "stdout",
     "output_type": "stream",
     "text": [
      "(2559, 10) (2559,) (640, 10) (640,)\n"
     ]
    }
   ],
   "source": [
    "X = data[['co', 'no2', 'o3', 'pm10', 'pm25', 'so2', 'humidity', 'pressure',\n",
    "       'temperature', 'wind-speed']]\n",
    "\n",
    "y = data['AQI']\n",
    "\n",
    "X_train, X_test, y_train, y_test = train_test_split(X, y, test_size = 0.2, random_state = 42)\n",
    "\n",
    "print(X_train.shape, y_train.shape, X_test.shape, y_test.shape)"
   ]
  },
  {
   "cell_type": "code",
   "execution_count": 29,
   "id": "6b317b3a",
   "metadata": {
    "execution": {
     "iopub.execute_input": "2025-01-27T17:30:39.707361Z",
     "iopub.status.busy": "2025-01-27T17:30:39.706973Z",
     "iopub.status.idle": "2025-01-27T17:30:39.711705Z",
     "shell.execute_reply": "2025-01-27T17:30:39.710797Z"
    },
    "papermill": {
     "duration": 0.046095,
     "end_time": "2025-01-27T17:30:39.713301",
     "exception": false,
     "start_time": "2025-01-27T17:30:39.667206",
     "status": "completed"
    },
    "tags": []
   },
   "outputs": [],
   "source": [
    "# Preprocessor without scaling\n",
    "preprocessor = ColumnTransformer(\n",
    "    transformers=[\n",
    "        ('num', 'passthrough', ['co', 'no2', 'o3', 'pm10', 'pm25', 'so2', 'humidity', \n",
    "                                'pressure', 'temperature', 'wind-speed'])\n",
    "    ])\n",
    "# Pipeline\n",
    "pipeline = Pipeline(steps=[\n",
    "    ('preprocessor', preprocessor)\n",
    "])"
   ]
  },
  {
   "cell_type": "markdown",
   "id": "cee47184",
   "metadata": {
    "papermill": {
     "duration": 0.039031,
     "end_time": "2025-01-27T17:30:39.791942",
     "exception": false,
     "start_time": "2025-01-27T17:30:39.752911",
     "status": "completed"
    },
    "tags": []
   },
   "source": [
    "# **2.2. Model Training & Testing**"
   ]
  },
  {
   "cell_type": "markdown",
   "id": "9dc9905f",
   "metadata": {
    "papermill": {
     "duration": 0.038696,
     "end_time": "2025-01-27T17:30:39.870679",
     "exception": false,
     "start_time": "2025-01-27T17:30:39.831983",
     "status": "completed"
    },
    "tags": []
   },
   "source": [
    "## **2.2.1. LinearRegression**"
   ]
  },
  {
   "cell_type": "code",
   "execution_count": 30,
   "id": "78c4de36",
   "metadata": {
    "execution": {
     "iopub.execute_input": "2025-01-27T17:30:39.957412Z",
     "iopub.status.busy": "2025-01-27T17:30:39.957073Z",
     "iopub.status.idle": "2025-01-27T17:30:40.013037Z",
     "shell.execute_reply": "2025-01-27T17:30:40.012017Z"
    },
    "papermill": {
     "duration": 0.105395,
     "end_time": "2025-01-27T17:30:40.015042",
     "exception": false,
     "start_time": "2025-01-27T17:30:39.909647",
     "status": "completed"
    },
    "tags": []
   },
   "outputs": [],
   "source": [
    "# training with LinearRegression\n",
    "\n",
    "lm = LinearRegression(fit_intercept = True)\n",
    "\n",
    "pipeline = Pipeline(steps=[('preprocessor', preprocessor), ('regressor', lm)])\n",
    "\n",
    "# Fit the pipeline to the training data\n",
    "pipeline.fit(X_train,y_train)\n",
    "\n",
    "# Predict on the training and test datasets\n",
    "y_pred_train_lm = pipeline.predict(X_train)\n",
    "y_pred_test_lm = pipeline.predict(X_test)"
   ]
  },
  {
   "cell_type": "code",
   "execution_count": 31,
   "id": "2eb389c6",
   "metadata": {
    "execution": {
     "iopub.execute_input": "2025-01-27T17:30:40.096397Z",
     "iopub.status.busy": "2025-01-27T17:30:40.096051Z",
     "iopub.status.idle": "2025-01-27T17:30:40.110509Z",
     "shell.execute_reply": "2025-01-27T17:30:40.109378Z"
    },
    "papermill": {
     "duration": 0.056064,
     "end_time": "2025-01-27T17:30:40.112146",
     "exception": false,
     "start_time": "2025-01-27T17:30:40.056082",
     "status": "completed"
    },
    "tags": []
   },
   "outputs": [
    {
     "name": "stdout",
     "output_type": "stream",
     "text": [
      "The r2 Accuracy on the training dataset prediction is:  0.9675634154803487\n",
      "The r2 Accuracy on the test dataset prediction is:  0.968703504370825\n",
      "\n",
      "The RMSE  on the training dataset is:  13.335721085516212\n",
      "The RMSE  on the testing dataset is:  11.92843805334961\n",
      "\n",
      "The MAE  on the training dataset is:  8.782664440343714\n",
      "The MAE  on the testing dataset is:  8.726879777108639\n",
      "\n",
      "The MSE  on the training dataset is:  177.84145687068172\n",
      "The MSE  on the testing dataset is:  142.28763439259905\n"
     ]
    }
   ],
   "source": [
    "# Model Accuracy on training and testing dataset\n",
    "\n",
    "print('The r2 Accuracy on the training dataset prediction is: ',r2_score(y_train,y_pred_train_lm) )\n",
    "print('The r2 Accuracy on the test dataset prediction is: ',r2_score(y_test,y_pred_test_lm) )\n",
    "\n",
    "print(\"\")\n",
    "\n",
    "# The Root Mean Squared Error (RMSE)\n",
    "print('The RMSE  on the training dataset is: ',sqrt(mean_squared_error(y_train, y_pred_train_lm)))\n",
    "print('The RMSE  on the testing dataset is: ',sqrt(mean_squared_error(y_test, y_pred_test_lm)))\n",
    "\n",
    "print(\"\")\n",
    "# The Mean Absolute Error (MAE)\n",
    "print('The MAE  on the training dataset is: ',mean_absolute_error(y_train, y_pred_train_lm))\n",
    "print('The MAE  on the testing dataset is: ',mean_absolute_error(y_test, y_pred_test_lm))\n",
    "\n",
    "print(\"\")\n",
    "# The Mean Squared Error (MSE)\n",
    "print('The MSE  on the training dataset is: ',mean_squared_error(y_train, y_pred_train_lm))\n",
    "print('The MSE  on the testing dataset is: ',mean_squared_error(y_test, y_pred_test_lm))"
   ]
  },
  {
   "cell_type": "markdown",
   "id": "5947cc05",
   "metadata": {
    "papermill": {
     "duration": 0.039227,
     "end_time": "2025-01-27T17:30:40.190607",
     "exception": false,
     "start_time": "2025-01-27T17:30:40.151380",
     "status": "completed"
    },
    "tags": []
   },
   "source": [
    "## **2.2.2.  KNeighborsRegressor**"
   ]
  },
  {
   "cell_type": "code",
   "execution_count": 32,
   "id": "8afebbaa",
   "metadata": {
    "execution": {
     "iopub.execute_input": "2025-01-27T17:30:40.274186Z",
     "iopub.status.busy": "2025-01-27T17:30:40.273801Z",
     "iopub.status.idle": "2025-01-27T17:30:40.310372Z",
     "shell.execute_reply": "2025-01-27T17:30:40.309228Z"
    },
    "papermill": {
     "duration": 0.081064,
     "end_time": "2025-01-27T17:30:40.312494",
     "exception": false,
     "start_time": "2025-01-27T17:30:40.231430",
     "status": "completed"
    },
    "tags": []
   },
   "outputs": [],
   "source": [
    "# training with KNeighborsRegressor\n",
    "\n",
    "neigh = KNeighborsRegressor(n_neighbors=2)\n",
    "\n",
    "pipeline = Pipeline(steps=[('preprocessor', preprocessor), ('regressor', neigh)])\n",
    "\n",
    "# Fit the pipeline to the training data\n",
    "pipeline.fit(X_train,y_train)\n",
    "\n",
    "# Predict on the training and test datasets\n",
    "y_pred_train_knn = pipeline.predict(X_train)\n",
    "y_pred_test_knn = pipeline.predict(X_test)"
   ]
  },
  {
   "cell_type": "code",
   "execution_count": 33,
   "id": "cfbfd848",
   "metadata": {
    "execution": {
     "iopub.execute_input": "2025-01-27T17:30:40.391689Z",
     "iopub.status.busy": "2025-01-27T17:30:40.391082Z",
     "iopub.status.idle": "2025-01-27T17:30:40.407145Z",
     "shell.execute_reply": "2025-01-27T17:30:40.406064Z"
    },
    "papermill": {
     "duration": 0.057425,
     "end_time": "2025-01-27T17:30:40.408951",
     "exception": false,
     "start_time": "2025-01-27T17:30:40.351526",
     "status": "completed"
    },
    "tags": []
   },
   "outputs": [
    {
     "name": "stdout",
     "output_type": "stream",
     "text": [
      "The R2 score on the training dataset prediction is:  0.9979263509401755\n",
      "The R2 score on the test dataset prediction is:  0.9958587960992547\n",
      "\n",
      "The RMSE  on the training dataset is:  3.3718370181408592\n",
      "The RMSE  on the testing dataset is:  4.3390937273813295\n",
      "\n",
      "The MAE  on the training dataset is:  1.262211801484955\n",
      "The MAE  on the testing dataset is:  1.94296875\n",
      "\n",
      "The MSE  on the training dataset is:  11.369284876905041\n",
      "The MSE  on the testing dataset is:  18.827734375\n"
     ]
    }
   ],
   "source": [
    "# Model Accuracy on training dataset\n",
    "print('The R2 score on the training dataset prediction is: ', r2_score(y_train,y_pred_train_knn))\n",
    "print('The R2 score on the test dataset prediction is: ', r2_score(y_test, y_pred_test_knn))\n",
    "print(\"\")\n",
    "\n",
    "# The Root Mean Squared Error (RMSE)\n",
    "print('The RMSE  on the training dataset is: ',sqrt(mean_squared_error(y_train,y_pred_train_knn)))\n",
    "print('The RMSE  on the testing dataset is: ',sqrt(mean_squared_error(y_test, y_pred_test_knn)))\n",
    "\n",
    "print(\"\")\n",
    "# The Mean Absolute Error (MAE)\n",
    "print('The MAE  on the training dataset is: ',mean_absolute_error(y_train,y_pred_train_knn))\n",
    "print('The MAE  on the testing dataset is: ',mean_absolute_error(y_test, y_pred_test_knn))\n",
    "\n",
    "print(\"\")\n",
    "# The Mean Squared Error (MSE)\n",
    "print('The MSE  on the training dataset is: ',mean_squared_error(y_train, y_pred_train_knn))\n",
    "print('The MSE  on the testing dataset is: ',mean_squared_error(y_test, y_pred_test_knn))"
   ]
  },
  {
   "cell_type": "markdown",
   "id": "85af662b",
   "metadata": {
    "papermill": {
     "duration": 0.03857,
     "end_time": "2025-01-27T17:30:40.487517",
     "exception": false,
     "start_time": "2025-01-27T17:30:40.448947",
     "status": "completed"
    },
    "tags": []
   },
   "source": [
    "## **2.2.3.  Random Forest Regressor**"
   ]
  },
  {
   "cell_type": "code",
   "execution_count": 34,
   "id": "6d041228",
   "metadata": {
    "execution": {
     "iopub.execute_input": "2025-01-27T17:30:40.571618Z",
     "iopub.status.busy": "2025-01-27T17:30:40.571233Z",
     "iopub.status.idle": "2025-01-27T17:30:41.624661Z",
     "shell.execute_reply": "2025-01-27T17:30:41.623756Z"
    },
    "papermill": {
     "duration": 1.097947,
     "end_time": "2025-01-27T17:30:41.626311",
     "exception": false,
     "start_time": "2025-01-27T17:30:40.528364",
     "status": "completed"
    },
    "tags": []
   },
   "outputs": [],
   "source": [
    "# Training with random forest regressor\n",
    "random = RandomForestRegressor()\n",
    "\n",
    "pipeline = Pipeline(steps=[('preprocessor', preprocessor), ('regressor', random)])\n",
    "\n",
    "# Fit the pipeline to the training data\n",
    "pipeline.fit(X_train,y_train)\n",
    "\n",
    "# Predict on the training and test datasets\n",
    "y_pred_train_random = pipeline.predict(X_train)\n",
    "y_pred_test_random = pipeline.predict(X_test)"
   ]
  },
  {
   "cell_type": "code",
   "execution_count": 35,
   "id": "a4f4d0ac",
   "metadata": {
    "execution": {
     "iopub.execute_input": "2025-01-27T17:30:41.708005Z",
     "iopub.status.busy": "2025-01-27T17:30:41.707603Z",
     "iopub.status.idle": "2025-01-27T17:30:41.726355Z",
     "shell.execute_reply": "2025-01-27T17:30:41.725242Z"
    },
    "papermill": {
     "duration": 0.062531,
     "end_time": "2025-01-27T17:30:41.728472",
     "exception": false,
     "start_time": "2025-01-27T17:30:41.665941",
     "status": "completed"
    },
    "tags": []
   },
   "outputs": [
    {
     "name": "stdout",
     "output_type": "stream",
     "text": [
      "The R2 score on the training dataset prediction is:  0.9983074256645295\n",
      "The R2 score on the test dataset prediction is:  0.9956560285487288\n",
      "\n",
      "The RMSE  on the training dataset is:  3.0463010517173785\n",
      "The RMSE  on the testing dataset is:  4.444052749883826\n",
      "\n",
      "The MAE  on the training dataset is:  0.32080890973036347\n",
      "The MAE  on the testing dataset is:  0.6877968750000001\n",
      "\n",
      "The MSE  on the training dataset is:  9.279950097694407\n",
      "The MSE  on the testing dataset is:  19.74960484375\n"
     ]
    }
   ],
   "source": [
    "# Model Accuracy on training dataset\n",
    "print('The R2 score on the training dataset prediction is: ', r2_score(y_train,y_pred_train_random))\n",
    "print('The R2 score on the test dataset prediction is: ', r2_score(y_test, y_pred_test_random))\n",
    "print(\"\")\n",
    "\n",
    "# The Root Mean Squared Error (RMSE)\n",
    "print('The RMSE  on the training dataset is: ',sqrt(mean_squared_error(y_train,y_pred_train_random)))\n",
    "print('The RMSE  on the testing dataset is: ',sqrt(mean_squared_error(y_test, y_pred_test_random)))\n",
    "\n",
    "print(\"\")\n",
    "# The Mean Absolute Error (MAE)\n",
    "print('The MAE  on the training dataset is: ',mean_absolute_error(y_train,y_pred_train_random))\n",
    "print('The MAE  on the testing dataset is: ',mean_absolute_error(y_test, y_pred_test_random))\n",
    "\n",
    "print(\"\")\n",
    "# The Mean Squared Error (MSE)\n",
    "print('The MSE  on the training dataset is: ',mean_squared_error(y_train, y_pred_train_random))\n",
    "print('The MSE  on the testing dataset is: ',mean_squared_error(y_test, y_pred_test_random))"
   ]
  },
  {
   "cell_type": "markdown",
   "id": "f37f5051",
   "metadata": {
    "papermill": {
     "duration": 0.039586,
     "end_time": "2025-01-27T17:30:41.809079",
     "exception": false,
     "start_time": "2025-01-27T17:30:41.769493",
     "status": "completed"
    },
    "tags": []
   },
   "source": [
    "## **2.2.4.  Decision Tree regressor**"
   ]
  },
  {
   "cell_type": "code",
   "execution_count": 36,
   "id": "d68e5048",
   "metadata": {
    "execution": {
     "iopub.execute_input": "2025-01-27T17:30:41.888034Z",
     "iopub.status.busy": "2025-01-27T17:30:41.887662Z",
     "iopub.status.idle": "2025-01-27T17:30:41.913046Z",
     "shell.execute_reply": "2025-01-27T17:30:41.911827Z"
    },
    "papermill": {
     "duration": 0.067655,
     "end_time": "2025-01-27T17:30:41.914973",
     "exception": false,
     "start_time": "2025-01-27T17:30:41.847318",
     "status": "completed"
    },
    "tags": []
   },
   "outputs": [],
   "source": [
    "# Training with Decision Tree regressor\n",
    "dt = DecisionTreeRegressor()\n",
    "\n",
    "pipeline = Pipeline(steps=[('preprocessor', preprocessor), ('regressor', dt)])\n",
    "\n",
    "# Fit the pipeline to the training data\n",
    "pipeline.fit(X_train,y_train)\n",
    "\n",
    "# Predict on the training and test datasets\n",
    "y_pred_train_dt = pipeline.predict(X_train)\n",
    "y_pred_test_dt = pipeline.predict(X_test)"
   ]
  },
  {
   "cell_type": "code",
   "execution_count": 37,
   "id": "ffc47f09",
   "metadata": {
    "execution": {
     "iopub.execute_input": "2025-01-27T17:30:41.995154Z",
     "iopub.status.busy": "2025-01-27T17:30:41.994760Z",
     "iopub.status.idle": "2025-01-27T17:30:42.014546Z",
     "shell.execute_reply": "2025-01-27T17:30:42.013023Z"
    },
    "papermill": {
     "duration": 0.061615,
     "end_time": "2025-01-27T17:30:42.016360",
     "exception": false,
     "start_time": "2025-01-27T17:30:41.954745",
     "status": "completed"
    },
    "tags": []
   },
   "outputs": [
    {
     "name": "stdout",
     "output_type": "stream",
     "text": [
      "The R2 score on the training dataset prediction is:  1.0\n",
      "The R2 score on the test dataset prediction is:  0.9871059824520706\n",
      "\n",
      "The RMSE  on the training dataset is:  0.0\n",
      "The RMSE  on the testing dataset is:  7.656492343103335\n",
      "\n",
      "The MAE  on the training dataset is:  0.0\n",
      "The MAE  on the testing dataset is:  0.925\n",
      "\n",
      "The MSE  on the training dataset is:  0.0\n",
      "The MSE  on the testing dataset is:  58.621875\n"
     ]
    }
   ],
   "source": [
    "# Model Accuracy on training dataset\n",
    "print('The R2 score on the training dataset prediction is: ', r2_score(y_train,y_pred_train_dt))\n",
    "print('The R2 score on the test dataset prediction is: ', r2_score(y_test, y_pred_test_dt))\n",
    "print(\"\")\n",
    "\n",
    "# The Root Mean Squared Error (RMSE)\n",
    "print('The RMSE  on the training dataset is: ',sqrt(mean_squared_error(y_train,y_pred_train_dt)))\n",
    "print('The RMSE  on the testing dataset is: ',sqrt(mean_squared_error(y_test, y_pred_test_dt)))\n",
    "\n",
    "print(\"\")\n",
    "# The Mean Absolute Error (MAE)\n",
    "print('The MAE  on the training dataset is: ',mean_absolute_error(y_train,y_pred_train_dt))\n",
    "print('The MAE  on the testing dataset is: ',mean_absolute_error(y_test, y_pred_test_dt))\n",
    "\n",
    "print(\"\")\n",
    "# The Mean Squared Error (MSE)\n",
    "print('The MSE  on the training dataset is: ',mean_squared_error(y_train, y_pred_train_dt))\n",
    "print('The MSE  on the testing dataset is: ',mean_squared_error(y_test, y_pred_test_dt))"
   ]
  },
  {
   "cell_type": "markdown",
   "id": "c2ffcc46",
   "metadata": {
    "papermill": {
     "duration": 0.096483,
     "end_time": "2025-01-27T17:30:42.153252",
     "exception": false,
     "start_time": "2025-01-27T17:30:42.056769",
     "status": "completed"
    },
    "tags": []
   },
   "source": [
    "## **2.2.5.  Support Vector Machine regressor**"
   ]
  },
  {
   "cell_type": "code",
   "execution_count": 38,
   "id": "4c2afa03",
   "metadata": {
    "execution": {
     "iopub.execute_input": "2025-01-27T17:30:42.235896Z",
     "iopub.status.busy": "2025-01-27T17:30:42.235514Z",
     "iopub.status.idle": "2025-01-27T17:31:07.547719Z",
     "shell.execute_reply": "2025-01-27T17:31:07.545944Z"
    },
    "papermill": {
     "duration": 25.357985,
     "end_time": "2025-01-27T17:31:07.549999",
     "exception": false,
     "start_time": "2025-01-27T17:30:42.192014",
     "status": "completed"
    },
    "tags": []
   },
   "outputs": [],
   "source": [
    "# Training with Support Vector Machine regressor\n",
    "svr = SVR(kernel='linear')\n",
    "\n",
    "pipeline = Pipeline(steps=[('preprocessor', preprocessor), ('regressor', svr)])\n",
    "\n",
    "# Fit the pipeline to the training data\n",
    "pipeline.fit(X_train, y_train)\n",
    "\n",
    "# Predict on the training and test datasets\n",
    "y_pred_train_svr = pipeline.predict(X_train)\n",
    "y_pred_test_svr = pipeline.predict(X_test)"
   ]
  },
  {
   "cell_type": "code",
   "execution_count": 39,
   "id": "b92728b7",
   "metadata": {
    "execution": {
     "iopub.execute_input": "2025-01-27T17:31:07.644003Z",
     "iopub.status.busy": "2025-01-27T17:31:07.643572Z",
     "iopub.status.idle": "2025-01-27T17:31:07.663628Z",
     "shell.execute_reply": "2025-01-27T17:31:07.662432Z"
    },
    "papermill": {
     "duration": 0.073174,
     "end_time": "2025-01-27T17:31:07.666160",
     "exception": false,
     "start_time": "2025-01-27T17:31:07.592986",
     "status": "completed"
    },
    "tags": []
   },
   "outputs": [
    {
     "name": "stdout",
     "output_type": "stream",
     "text": [
      "The R2 score on the training dataset prediction is:  0.9170000514491703\n",
      "The R2 score on the test dataset prediction is:  0.9516113768245813\n",
      "\n",
      "The RMSE on the training dataset is:  21.33230853202443\n",
      "The RMSE on the testing dataset is:  14.832260917216331\n",
      "\n",
      "The MAE on the training dataset is:  6.2053963500967235\n",
      "The MAE on the testing dataset is:  5.468297838577041\n",
      "\n",
      "The MSE  on the training dataset is:  455.0673873054823\n",
      "The MSE  on the testing dataset is:  219.99596391638306\n"
     ]
    }
   ],
   "source": [
    "# Model Accuracy on training dataset\n",
    "print('The R2 score on the training dataset prediction is: ', r2_score(y_train, y_pred_train_svr))\n",
    "print('The R2 score on the test dataset prediction is: ', r2_score(y_test, y_pred_test_svr))\n",
    "print(\"\")\n",
    "\n",
    "# The Root Mean Squared Error (RMSE)\n",
    "print('The RMSE on the training dataset is: ', sqrt(mean_squared_error(y_train, y_pred_train_svr)))\n",
    "print('The RMSE on the testing dataset is: ', sqrt(mean_squared_error(y_test, y_pred_test_svr)))\n",
    "print(\"\")\n",
    "\n",
    "# The Mean Absolute Error (MAE)\n",
    "print('The MAE on the training dataset is: ', mean_absolute_error(y_train, y_pred_train_svr))\n",
    "print('The MAE on the testing dataset is: ', mean_absolute_error(y_test, y_pred_test_svr))\n",
    "\n",
    "print(\"\")\n",
    "# The Mean Squared Error (MSE)\n",
    "print('The MSE  on the training dataset is: ',mean_squared_error(y_train, y_pred_train_svr))\n",
    "print('The MSE  on the testing dataset is: ',mean_squared_error(y_test, y_pred_test_svr))"
   ]
  },
  {
   "cell_type": "markdown",
   "id": "71cfb139",
   "metadata": {
    "papermill": {
     "duration": 0.040223,
     "end_time": "2025-01-27T17:31:07.747872",
     "exception": false,
     "start_time": "2025-01-27T17:31:07.707649",
     "status": "completed"
    },
    "tags": []
   },
   "source": [
    "## **2.2.6.  XGBoost Regressor**"
   ]
  },
  {
   "cell_type": "code",
   "execution_count": 40,
   "id": "7779b600",
   "metadata": {
    "execution": {
     "iopub.execute_input": "2025-01-27T17:31:07.829912Z",
     "iopub.status.busy": "2025-01-27T17:31:07.829532Z",
     "iopub.status.idle": "2025-01-27T17:31:08.011262Z",
     "shell.execute_reply": "2025-01-27T17:31:08.010396Z"
    },
    "papermill": {
     "duration": 0.225922,
     "end_time": "2025-01-27T17:31:08.013437",
     "exception": false,
     "start_time": "2025-01-27T17:31:07.787515",
     "status": "completed"
    },
    "tags": []
   },
   "outputs": [],
   "source": [
    "# Training with XGBoost regressor\n",
    "xgb_regressor = XGBRegressor(objective='reg:squarederror')\n",
    "\n",
    "pipeline = Pipeline(steps=[('preprocessor', preprocessor), ('regressor', xgb_regressor)])\n",
    "\n",
    "# Fit the pipeline to the training data\n",
    "pipeline.fit(X_train, y_train)\n",
    "\n",
    "# Predict on the training and test datasets\n",
    "y_pred_train_xgb = pipeline.predict(X_train)\n",
    "y_pred_test_xgb = pipeline.predict(X_test)"
   ]
  },
  {
   "cell_type": "code",
   "execution_count": 41,
   "id": "f558e874",
   "metadata": {
    "execution": {
     "iopub.execute_input": "2025-01-27T17:31:08.098396Z",
     "iopub.status.busy": "2025-01-27T17:31:08.098001Z",
     "iopub.status.idle": "2025-01-27T17:31:08.115206Z",
     "shell.execute_reply": "2025-01-27T17:31:08.113847Z"
    },
    "papermill": {
     "duration": 0.059736,
     "end_time": "2025-01-27T17:31:08.117190",
     "exception": false,
     "start_time": "2025-01-27T17:31:08.057454",
     "status": "completed"
    },
    "tags": []
   },
   "outputs": [
    {
     "name": "stdout",
     "output_type": "stream",
     "text": [
      "The R2 score on the training dataset prediction is:  0.9999884261680223\n",
      "The R2 score on the test dataset prediction is:  0.9884092057630378\n",
      "\n",
      "The RMSE on the training dataset is:  0.25190543128934345\n",
      "The RMSE on the testing dataset is:  7.259259509512052\n",
      "\n",
      "The MAE on the training dataset is:  0.15732481443309002\n",
      "The MAE on the testing dataset is:  1.3124947667121887\n",
      "\n",
      "The MSE  on the training dataset is:  0.06345634631307014\n",
      "The MSE  on the testing dataset is:  52.69684862644117\n"
     ]
    }
   ],
   "source": [
    "# Model Accuracy on training dataset\n",
    "print('The R2 score on the training dataset prediction is: ', r2_score(y_train, y_pred_train_xgb))\n",
    "print('The R2 score on the test dataset prediction is: ', r2_score(y_test, y_pred_test_xgb))\n",
    "print(\"\")\n",
    "\n",
    "# The Root Mean Squared Error (RMSE)\n",
    "print('The RMSE on the training dataset is: ', sqrt(mean_squared_error(y_train, y_pred_train_xgb)))\n",
    "print('The RMSE on the testing dataset is: ', sqrt(mean_squared_error(y_test, y_pred_test_xgb)))\n",
    "print(\"\")\n",
    "\n",
    "# The Mean Absolute Error (MAE)\n",
    "print('The MAE on the training dataset is: ', mean_absolute_error(y_train, y_pred_train_xgb))\n",
    "print('The MAE on the testing dataset is: ', mean_absolute_error(y_test, y_pred_test_xgb))\n",
    "\n",
    "print(\"\")\n",
    "# The Mean Squared Error (MSE)\n",
    "print('The MSE  on the training dataset is: ',mean_squared_error(y_train, y_pred_train_xgb))\n",
    "print('The MSE  on the testing dataset is: ',mean_squared_error(y_test, y_pred_test_xgb))"
   ]
  },
  {
   "cell_type": "markdown",
   "id": "789adaf9",
   "metadata": {
    "papermill": {
     "duration": 0.039979,
     "end_time": "2025-01-27T17:31:08.197238",
     "exception": false,
     "start_time": "2025-01-27T17:31:08.157259",
     "status": "completed"
    },
    "tags": []
   },
   "source": [
    "## **2.2.7.  Neural Network Regressor**"
   ]
  },
  {
   "cell_type": "code",
   "execution_count": 42,
   "id": "5014dfe6",
   "metadata": {
    "execution": {
     "iopub.execute_input": "2025-01-27T17:31:08.280225Z",
     "iopub.status.busy": "2025-01-27T17:31:08.279691Z",
     "iopub.status.idle": "2025-01-27T17:31:10.002152Z",
     "shell.execute_reply": "2025-01-27T17:31:10.000748Z"
    },
    "papermill": {
     "duration": 1.765996,
     "end_time": "2025-01-27T17:31:10.004197",
     "exception": false,
     "start_time": "2025-01-27T17:31:08.238201",
     "status": "completed"
    },
    "tags": []
   },
   "outputs": [],
   "source": [
    "# training with neural network regressor\n",
    "\n",
    "nn = MLPRegressor(hidden_layer_sizes=(8,), activation='relu', solver='adam', max_iter=2000, learning_rate_init=0.001)\n",
    "\n",
    "pipeline = Pipeline(steps=[('preprocessor', preprocessor), ('regressor', nn)])\n",
    "\n",
    "# Fit the pipeline to the training data\n",
    "pipeline.fit(X_train,y_train)\n",
    "\n",
    "# Predict on the training and test datasets\n",
    "y_pred_train_nn = pipeline.predict(X_train)\n",
    "y_pred_test_nn = pipeline.predict(X_test)"
   ]
  },
  {
   "cell_type": "code",
   "execution_count": 43,
   "id": "0a0aa9b6",
   "metadata": {
    "execution": {
     "iopub.execute_input": "2025-01-27T17:31:10.087093Z",
     "iopub.status.busy": "2025-01-27T17:31:10.086721Z",
     "iopub.status.idle": "2025-01-27T17:31:10.102785Z",
     "shell.execute_reply": "2025-01-27T17:31:10.101280Z"
    },
    "papermill": {
     "duration": 0.059006,
     "end_time": "2025-01-27T17:31:10.104680",
     "exception": false,
     "start_time": "2025-01-27T17:31:10.045674",
     "status": "completed"
    },
    "tags": []
   },
   "outputs": [
    {
     "name": "stdout",
     "output_type": "stream",
     "text": [
      "The R2 score on the training dataset prediction is:  0.9673678894623599\n",
      "The R2 score on the test dataset prediction is:  0.9688559173459592\n",
      "\n",
      "The RMSE on the training dataset is:  13.37585420741577\n",
      "The RMSE on the testing dataset is:  11.899357040245183\n",
      "\n",
      "The MAE on the training dataset is:  8.659891885773265\n",
      "The MAE on the testing dataset is:  8.589989262303709\n",
      "\n",
      "The MSE  on the training dataset is:  178.91347577804214\n",
      "The MSE  on the testing dataset is:  141.59469797123262\n"
     ]
    }
   ],
   "source": [
    "# Model Accuracy on training dataset\n",
    "print('The R2 score on the training dataset prediction is: ', r2_score(y_train, y_pred_train_nn))\n",
    "print('The R2 score on the test dataset prediction is: ', r2_score(y_test, y_pred_test_nn))\n",
    "print(\"\")\n",
    "\n",
    "# The Root Mean Squared Error (RMSE)\n",
    "print('The RMSE on the training dataset is: ', sqrt(mean_squared_error(y_train, y_pred_train_nn)))\n",
    "print('The RMSE on the testing dataset is: ', sqrt(mean_squared_error(y_test, y_pred_test_nn)))\n",
    "print(\"\")\n",
    "\n",
    "# The Mean Absolute Error (MAE)\n",
    "print('The MAE on the training dataset is: ', mean_absolute_error(y_train, y_pred_train_nn))\n",
    "print('The MAE on the testing dataset is: ', mean_absolute_error(y_test, y_pred_test_nn))\n",
    "\n",
    "print(\"\")\n",
    "# The Mean Squared Error (MSE)\n",
    "print('The MSE  on the training dataset is: ',mean_squared_error(y_train, y_pred_train_nn))\n",
    "print('The MSE  on the testing dataset is: ',mean_squared_error(y_test, y_pred_test_nn))"
   ]
  },
  {
   "cell_type": "code",
   "execution_count": null,
   "id": "d40d6d2e",
   "metadata": {
    "papermill": {
     "duration": 0.039384,
     "end_time": "2025-01-27T17:31:10.186580",
     "exception": false,
     "start_time": "2025-01-27T17:31:10.147196",
     "status": "completed"
    },
    "tags": []
   },
   "outputs": [],
   "source": []
  },
  {
   "cell_type": "code",
   "execution_count": null,
   "id": "b5012277",
   "metadata": {
    "papermill": {
     "duration": 0.039314,
     "end_time": "2025-01-27T17:31:10.266669",
     "exception": false,
     "start_time": "2025-01-27T17:31:10.227355",
     "status": "completed"
    },
    "tags": []
   },
   "outputs": [],
   "source": []
  },
  {
   "cell_type": "markdown",
   "id": "b086c300",
   "metadata": {
    "papermill": {
     "duration": 0.038964,
     "end_time": "2025-01-27T17:31:10.345118",
     "exception": false,
     "start_time": "2025-01-27T17:31:10.306154",
     "status": "completed"
    },
    "tags": []
   },
   "source": [
    "# **3.1. Splitting & Preprocessing the Raw Data(Smoothed iqr)**"
   ]
  },
  {
   "cell_type": "markdown",
   "id": "3b10271c",
   "metadata": {
    "papermill": {
     "duration": 0.040057,
     "end_time": "2025-01-27T17:31:10.424685",
     "exception": false,
     "start_time": "2025-01-27T17:31:10.384628",
     "status": "completed"
    },
    "tags": []
   },
   "source": [
    "AQI Smoothed iqr"
   ]
  },
  {
   "cell_type": "code",
   "execution_count": 44,
   "id": "dc3c7dda",
   "metadata": {
    "execution": {
     "iopub.execute_input": "2025-01-27T17:31:10.505217Z",
     "iopub.status.busy": "2025-01-27T17:31:10.504801Z",
     "iopub.status.idle": "2025-01-27T17:31:10.525311Z",
     "shell.execute_reply": "2025-01-27T17:31:10.524143Z"
    },
    "papermill": {
     "duration": 0.063411,
     "end_time": "2025-01-27T17:31:10.527391",
     "exception": false,
     "start_time": "2025-01-27T17:31:10.463980",
     "status": "completed"
    },
    "tags": []
   },
   "outputs": [
    {
     "data": {
      "text/html": [
       "<div>\n",
       "<style scoped>\n",
       "    .dataframe tbody tr th:only-of-type {\n",
       "        vertical-align: middle;\n",
       "    }\n",
       "\n",
       "    .dataframe tbody tr th {\n",
       "        vertical-align: top;\n",
       "    }\n",
       "\n",
       "    .dataframe thead th {\n",
       "        text-align: right;\n",
       "    }\n",
       "</style>\n",
       "<table border=\"1\" class=\"dataframe\">\n",
       "  <thead>\n",
       "    <tr style=\"text-align: right;\">\n",
       "      <th></th>\n",
       "      <th>co</th>\n",
       "      <th>no2</th>\n",
       "      <th>o3</th>\n",
       "      <th>pm10</th>\n",
       "      <th>pm25</th>\n",
       "      <th>so2</th>\n",
       "      <th>humidity</th>\n",
       "      <th>pressure</th>\n",
       "      <th>temperature</th>\n",
       "      <th>wind-speed</th>\n",
       "      <th>Country_City</th>\n",
       "      <th>Checks</th>\n",
       "      <th>AQI</th>\n",
       "      <th>AQI_smoothed_iqr</th>\n",
       "      <th>AQI_smoothed_zscore</th>\n",
       "      <th>AQI_smoothed_rolling</th>\n",
       "    </tr>\n",
       "  </thead>\n",
       "  <tbody>\n",
       "    <tr>\n",
       "      <th>2014-12-29</th>\n",
       "      <td>14.1</td>\n",
       "      <td>36.2</td>\n",
       "      <td>3.2</td>\n",
       "      <td>218.0</td>\n",
       "      <td>307.0</td>\n",
       "      <td>4.2</td>\n",
       "      <td>60.691097</td>\n",
       "      <td>985.187382</td>\n",
       "      <td>26.3352</td>\n",
       "      <td>1.102459</td>\n",
       "      <td>India_Delhi</td>\n",
       "      <td>6</td>\n",
       "      <td>307.0</td>\n",
       "      <td>307.0</td>\n",
       "      <td>307.0</td>\n",
       "      <td>307.0</td>\n",
       "    </tr>\n",
       "    <tr>\n",
       "      <th>2014-12-30</th>\n",
       "      <td>20.4</td>\n",
       "      <td>36.8</td>\n",
       "      <td>4.8</td>\n",
       "      <td>330.0</td>\n",
       "      <td>367.0</td>\n",
       "      <td>5.8</td>\n",
       "      <td>60.691097</td>\n",
       "      <td>985.187382</td>\n",
       "      <td>26.3352</td>\n",
       "      <td>1.102459</td>\n",
       "      <td>India_Delhi</td>\n",
       "      <td>6</td>\n",
       "      <td>367.0</td>\n",
       "      <td>367.0</td>\n",
       "      <td>367.0</td>\n",
       "      <td>367.0</td>\n",
       "    </tr>\n",
       "    <tr>\n",
       "      <th>2014-12-31</th>\n",
       "      <td>12.7</td>\n",
       "      <td>28.7</td>\n",
       "      <td>7.8</td>\n",
       "      <td>137.0</td>\n",
       "      <td>202.0</td>\n",
       "      <td>6.3</td>\n",
       "      <td>60.691097</td>\n",
       "      <td>985.187382</td>\n",
       "      <td>26.3352</td>\n",
       "      <td>1.102459</td>\n",
       "      <td>India_Delhi</td>\n",
       "      <td>6</td>\n",
       "      <td>202.0</td>\n",
       "      <td>202.0</td>\n",
       "      <td>202.0</td>\n",
       "      <td>202.0</td>\n",
       "    </tr>\n",
       "    <tr>\n",
       "      <th>2015-01-01</th>\n",
       "      <td>20.8</td>\n",
       "      <td>66.5</td>\n",
       "      <td>5.2</td>\n",
       "      <td>230.0</td>\n",
       "      <td>382.0</td>\n",
       "      <td>9.9</td>\n",
       "      <td>60.691097</td>\n",
       "      <td>985.187382</td>\n",
       "      <td>26.3352</td>\n",
       "      <td>1.102459</td>\n",
       "      <td>India_Delhi</td>\n",
       "      <td>6</td>\n",
       "      <td>382.0</td>\n",
       "      <td>382.0</td>\n",
       "      <td>158.0</td>\n",
       "      <td>382.0</td>\n",
       "    </tr>\n",
       "    <tr>\n",
       "      <th>2015-01-02</th>\n",
       "      <td>12.7</td>\n",
       "      <td>33.9</td>\n",
       "      <td>6.0</td>\n",
       "      <td>81.0</td>\n",
       "      <td>172.0</td>\n",
       "      <td>4.2</td>\n",
       "      <td>60.691097</td>\n",
       "      <td>985.187382</td>\n",
       "      <td>26.3352</td>\n",
       "      <td>1.102459</td>\n",
       "      <td>India_Delhi</td>\n",
       "      <td>6</td>\n",
       "      <td>172.0</td>\n",
       "      <td>172.0</td>\n",
       "      <td>172.0</td>\n",
       "      <td>172.0</td>\n",
       "    </tr>\n",
       "  </tbody>\n",
       "</table>\n",
       "</div>"
      ],
      "text/plain": [
       "              co   no2   o3   pm10   pm25  so2   humidity    pressure  \\\n",
       "2014-12-29  14.1  36.2  3.2  218.0  307.0  4.2  60.691097  985.187382   \n",
       "2014-12-30  20.4  36.8  4.8  330.0  367.0  5.8  60.691097  985.187382   \n",
       "2014-12-31  12.7  28.7  7.8  137.0  202.0  6.3  60.691097  985.187382   \n",
       "2015-01-01  20.8  66.5  5.2  230.0  382.0  9.9  60.691097  985.187382   \n",
       "2015-01-02  12.7  33.9  6.0   81.0  172.0  4.2  60.691097  985.187382   \n",
       "\n",
       "            temperature  wind-speed Country_City  Checks    AQI  \\\n",
       "2014-12-29      26.3352    1.102459  India_Delhi       6  307.0   \n",
       "2014-12-30      26.3352    1.102459  India_Delhi       6  367.0   \n",
       "2014-12-31      26.3352    1.102459  India_Delhi       6  202.0   \n",
       "2015-01-01      26.3352    1.102459  India_Delhi       6  382.0   \n",
       "2015-01-02      26.3352    1.102459  India_Delhi       6  172.0   \n",
       "\n",
       "            AQI_smoothed_iqr  AQI_smoothed_zscore  AQI_smoothed_rolling  \n",
       "2014-12-29             307.0                307.0                 307.0  \n",
       "2014-12-30             367.0                367.0                 367.0  \n",
       "2014-12-31             202.0                202.0                 202.0  \n",
       "2015-01-01             382.0                158.0                 382.0  \n",
       "2015-01-02             172.0                172.0                 172.0  "
      ]
     },
     "execution_count": 44,
     "metadata": {},
     "output_type": "execute_result"
    }
   ],
   "source": [
    "new_data4.head()"
   ]
  },
  {
   "cell_type": "code",
   "execution_count": 45,
   "id": "4db25982",
   "metadata": {
    "execution": {
     "iopub.execute_input": "2025-01-27T17:31:10.609163Z",
     "iopub.status.busy": "2025-01-27T17:31:10.608745Z",
     "iopub.status.idle": "2025-01-27T17:31:10.614766Z",
     "shell.execute_reply": "2025-01-27T17:31:10.613735Z"
    },
    "papermill": {
     "duration": 0.049547,
     "end_time": "2025-01-27T17:31:10.616482",
     "exception": false,
     "start_time": "2025-01-27T17:31:10.566935",
     "status": "completed"
    },
    "tags": []
   },
   "outputs": [
    {
     "data": {
      "text/plain": [
       "Index(['co', 'no2', 'o3', 'pm10', 'pm25', 'so2', 'humidity', 'pressure',\n",
       "       'temperature', 'wind-speed', 'Country_City', 'Checks', 'AQI',\n",
       "       'AQI_smoothed_iqr', 'AQI_smoothed_zscore', 'AQI_smoothed_rolling'],\n",
       "      dtype='object')"
      ]
     },
     "execution_count": 45,
     "metadata": {},
     "output_type": "execute_result"
    }
   ],
   "source": [
    "new_data4.columns"
   ]
  },
  {
   "cell_type": "markdown",
   "id": "5582c5d2",
   "metadata": {
    "papermill": {
     "duration": 0.038803,
     "end_time": "2025-01-27T17:31:10.697592",
     "exception": false,
     "start_time": "2025-01-27T17:31:10.658789",
     "status": "completed"
    },
    "tags": []
   },
   "source": [
    "***Working with AQI_smoothed_iqr***"
   ]
  },
  {
   "cell_type": "code",
   "execution_count": 46,
   "id": "64960808",
   "metadata": {
    "execution": {
     "iopub.execute_input": "2025-01-27T17:31:10.778212Z",
     "iopub.status.busy": "2025-01-27T17:31:10.777825Z",
     "iopub.status.idle": "2025-01-27T17:31:10.783317Z",
     "shell.execute_reply": "2025-01-27T17:31:10.782292Z"
    },
    "papermill": {
     "duration": 0.047515,
     "end_time": "2025-01-27T17:31:10.784969",
     "exception": false,
     "start_time": "2025-01-27T17:31:10.737454",
     "status": "completed"
    },
    "tags": []
   },
   "outputs": [],
   "source": [
    "data = new_data4.drop(['Country_City', 'Checks', 'AQI', 'AQI_smoothed_zscore', 'AQI_smoothed_rolling'],axis=1)"
   ]
  },
  {
   "cell_type": "code",
   "execution_count": 47,
   "id": "ba15c6f1",
   "metadata": {
    "execution": {
     "iopub.execute_input": "2025-01-27T17:31:10.866321Z",
     "iopub.status.busy": "2025-01-27T17:31:10.865986Z",
     "iopub.status.idle": "2025-01-27T17:31:10.881827Z",
     "shell.execute_reply": "2025-01-27T17:31:10.880990Z"
    },
    "papermill": {
     "duration": 0.058853,
     "end_time": "2025-01-27T17:31:10.883464",
     "exception": false,
     "start_time": "2025-01-27T17:31:10.824611",
     "status": "completed"
    },
    "tags": []
   },
   "outputs": [
    {
     "data": {
      "text/html": [
       "<div>\n",
       "<style scoped>\n",
       "    .dataframe tbody tr th:only-of-type {\n",
       "        vertical-align: middle;\n",
       "    }\n",
       "\n",
       "    .dataframe tbody tr th {\n",
       "        vertical-align: top;\n",
       "    }\n",
       "\n",
       "    .dataframe thead th {\n",
       "        text-align: right;\n",
       "    }\n",
       "</style>\n",
       "<table border=\"1\" class=\"dataframe\">\n",
       "  <thead>\n",
       "    <tr style=\"text-align: right;\">\n",
       "      <th></th>\n",
       "      <th>co</th>\n",
       "      <th>no2</th>\n",
       "      <th>o3</th>\n",
       "      <th>pm10</th>\n",
       "      <th>pm25</th>\n",
       "      <th>so2</th>\n",
       "      <th>humidity</th>\n",
       "      <th>pressure</th>\n",
       "      <th>temperature</th>\n",
       "      <th>wind-speed</th>\n",
       "      <th>AQI_smoothed_iqr</th>\n",
       "    </tr>\n",
       "  </thead>\n",
       "  <tbody>\n",
       "    <tr>\n",
       "      <th>2014-12-29</th>\n",
       "      <td>14.1</td>\n",
       "      <td>36.2</td>\n",
       "      <td>3.2</td>\n",
       "      <td>218.0</td>\n",
       "      <td>307.0</td>\n",
       "      <td>4.2</td>\n",
       "      <td>60.691097</td>\n",
       "      <td>985.187382</td>\n",
       "      <td>26.3352</td>\n",
       "      <td>1.102459</td>\n",
       "      <td>307.0</td>\n",
       "    </tr>\n",
       "    <tr>\n",
       "      <th>2014-12-30</th>\n",
       "      <td>20.4</td>\n",
       "      <td>36.8</td>\n",
       "      <td>4.8</td>\n",
       "      <td>330.0</td>\n",
       "      <td>367.0</td>\n",
       "      <td>5.8</td>\n",
       "      <td>60.691097</td>\n",
       "      <td>985.187382</td>\n",
       "      <td>26.3352</td>\n",
       "      <td>1.102459</td>\n",
       "      <td>367.0</td>\n",
       "    </tr>\n",
       "    <tr>\n",
       "      <th>2014-12-31</th>\n",
       "      <td>12.7</td>\n",
       "      <td>28.7</td>\n",
       "      <td>7.8</td>\n",
       "      <td>137.0</td>\n",
       "      <td>202.0</td>\n",
       "      <td>6.3</td>\n",
       "      <td>60.691097</td>\n",
       "      <td>985.187382</td>\n",
       "      <td>26.3352</td>\n",
       "      <td>1.102459</td>\n",
       "      <td>202.0</td>\n",
       "    </tr>\n",
       "    <tr>\n",
       "      <th>2015-01-01</th>\n",
       "      <td>20.8</td>\n",
       "      <td>66.5</td>\n",
       "      <td>5.2</td>\n",
       "      <td>230.0</td>\n",
       "      <td>382.0</td>\n",
       "      <td>9.9</td>\n",
       "      <td>60.691097</td>\n",
       "      <td>985.187382</td>\n",
       "      <td>26.3352</td>\n",
       "      <td>1.102459</td>\n",
       "      <td>382.0</td>\n",
       "    </tr>\n",
       "    <tr>\n",
       "      <th>2015-01-02</th>\n",
       "      <td>12.7</td>\n",
       "      <td>33.9</td>\n",
       "      <td>6.0</td>\n",
       "      <td>81.0</td>\n",
       "      <td>172.0</td>\n",
       "      <td>4.2</td>\n",
       "      <td>60.691097</td>\n",
       "      <td>985.187382</td>\n",
       "      <td>26.3352</td>\n",
       "      <td>1.102459</td>\n",
       "      <td>172.0</td>\n",
       "    </tr>\n",
       "  </tbody>\n",
       "</table>\n",
       "</div>"
      ],
      "text/plain": [
       "              co   no2   o3   pm10   pm25  so2   humidity    pressure  \\\n",
       "2014-12-29  14.1  36.2  3.2  218.0  307.0  4.2  60.691097  985.187382   \n",
       "2014-12-30  20.4  36.8  4.8  330.0  367.0  5.8  60.691097  985.187382   \n",
       "2014-12-31  12.7  28.7  7.8  137.0  202.0  6.3  60.691097  985.187382   \n",
       "2015-01-01  20.8  66.5  5.2  230.0  382.0  9.9  60.691097  985.187382   \n",
       "2015-01-02  12.7  33.9  6.0   81.0  172.0  4.2  60.691097  985.187382   \n",
       "\n",
       "            temperature  wind-speed  AQI_smoothed_iqr  \n",
       "2014-12-29      26.3352    1.102459             307.0  \n",
       "2014-12-30      26.3352    1.102459             367.0  \n",
       "2014-12-31      26.3352    1.102459             202.0  \n",
       "2015-01-01      26.3352    1.102459             382.0  \n",
       "2015-01-02      26.3352    1.102459             172.0  "
      ]
     },
     "execution_count": 47,
     "metadata": {},
     "output_type": "execute_result"
    }
   ],
   "source": [
    "data.head()"
   ]
  },
  {
   "cell_type": "code",
   "execution_count": 48,
   "id": "6afc9e50",
   "metadata": {
    "execution": {
     "iopub.execute_input": "2025-01-27T17:31:10.967670Z",
     "iopub.status.busy": "2025-01-27T17:31:10.967138Z",
     "iopub.status.idle": "2025-01-27T17:31:10.975665Z",
     "shell.execute_reply": "2025-01-27T17:31:10.974494Z"
    },
    "papermill": {
     "duration": 0.051658,
     "end_time": "2025-01-27T17:31:10.977416",
     "exception": false,
     "start_time": "2025-01-27T17:31:10.925758",
     "status": "completed"
    },
    "tags": []
   },
   "outputs": [
    {
     "name": "stdout",
     "output_type": "stream",
     "text": [
      "Index(['co', 'no2', 'o3', 'pm10', 'pm25', 'so2', 'humidity', 'pressure',\n",
      "       'temperature', 'wind-speed', 'AQI_smoothed_iqr'],\n",
      "      dtype='object')\n",
      "Index([], dtype='object')\n"
     ]
    }
   ],
   "source": [
    "num = data.select_dtypes(include=['int16', 'int32', 'int64', 'float16', 'float32', 'float64'])\n",
    "cat = data.select_dtypes(include=['object'])\n",
    "\n",
    "print(num.columns)\n",
    "print(cat.columns)"
   ]
  },
  {
   "cell_type": "code",
   "execution_count": 49,
   "id": "5f708eb5",
   "metadata": {
    "execution": {
     "iopub.execute_input": "2025-01-27T17:31:11.058967Z",
     "iopub.status.busy": "2025-01-27T17:31:11.058573Z",
     "iopub.status.idle": "2025-01-27T17:31:11.069202Z",
     "shell.execute_reply": "2025-01-27T17:31:11.068001Z"
    },
    "papermill": {
     "duration": 0.053843,
     "end_time": "2025-01-27T17:31:11.071518",
     "exception": false,
     "start_time": "2025-01-27T17:31:11.017675",
     "status": "completed"
    },
    "tags": []
   },
   "outputs": [
    {
     "name": "stdout",
     "output_type": "stream",
     "text": [
      "(2559, 10) (2559,) (640, 10) (640,)\n"
     ]
    }
   ],
   "source": [
    "X = data[['co', 'no2', 'o3', 'pm10', 'pm25', 'so2', 'humidity', 'pressure',\n",
    "       'temperature', 'wind-speed']]\n",
    "\n",
    "y = data['AQI_smoothed_iqr']\n",
    "\n",
    "X_train, X_test, y_train, y_test = train_test_split(X, y, test_size = 0.2, random_state = 42)\n",
    "\n",
    "print(X_train.shape, y_train.shape, X_test.shape, y_test.shape)"
   ]
  },
  {
   "cell_type": "code",
   "execution_count": 50,
   "id": "b170a824",
   "metadata": {
    "execution": {
     "iopub.execute_input": "2025-01-27T17:31:11.155247Z",
     "iopub.status.busy": "2025-01-27T17:31:11.154850Z",
     "iopub.status.idle": "2025-01-27T17:31:11.160347Z",
     "shell.execute_reply": "2025-01-27T17:31:11.158908Z"
    },
    "papermill": {
     "duration": 0.049768,
     "end_time": "2025-01-27T17:31:11.162487",
     "exception": false,
     "start_time": "2025-01-27T17:31:11.112719",
     "status": "completed"
    },
    "tags": []
   },
   "outputs": [],
   "source": [
    "# Preprocessor without scaling\n",
    "preprocessor = ColumnTransformer(\n",
    "    transformers=[\n",
    "        ('num', 'passthrough', ['co', 'no2', 'o3', 'pm10', 'pm25', 'so2', 'humidity', \n",
    "                                'pressure', 'temperature', 'wind-speed'])\n",
    "    ])\n",
    "# Pipeline\n",
    "pipeline = Pipeline(steps=[\n",
    "    ('preprocessor', preprocessor)\n",
    "])"
   ]
  },
  {
   "cell_type": "markdown",
   "id": "1dac70ca",
   "metadata": {
    "papermill": {
     "duration": 0.04244,
     "end_time": "2025-01-27T17:31:11.248424",
     "exception": false,
     "start_time": "2025-01-27T17:31:11.205984",
     "status": "completed"
    },
    "tags": []
   },
   "source": [
    "# **3.2. Model Training & Testing**"
   ]
  },
  {
   "cell_type": "markdown",
   "id": "fe379f78",
   "metadata": {
    "papermill": {
     "duration": 0.040688,
     "end_time": "2025-01-27T17:31:11.330880",
     "exception": false,
     "start_time": "2025-01-27T17:31:11.290192",
     "status": "completed"
    },
    "tags": []
   },
   "source": [
    "## **3.2.1. LinearRegression**"
   ]
  },
  {
   "cell_type": "code",
   "execution_count": 51,
   "id": "23d4a7c4",
   "metadata": {
    "execution": {
     "iopub.execute_input": "2025-01-27T17:31:11.414097Z",
     "iopub.status.busy": "2025-01-27T17:31:11.413708Z",
     "iopub.status.idle": "2025-01-27T17:31:11.428030Z",
     "shell.execute_reply": "2025-01-27T17:31:11.427005Z"
    },
    "papermill": {
     "duration": 0.057486,
     "end_time": "2025-01-27T17:31:11.429779",
     "exception": false,
     "start_time": "2025-01-27T17:31:11.372293",
     "status": "completed"
    },
    "tags": []
   },
   "outputs": [],
   "source": [
    "# training with LinearRegression\n",
    "\n",
    "lm = LinearRegression(fit_intercept = True)\n",
    "\n",
    "pipeline = Pipeline(steps=[('preprocessor', preprocessor), ('regressor', lm)])\n",
    "\n",
    "# Fit the pipeline to the training data\n",
    "pipeline.fit(X_train,y_train)\n",
    "\n",
    "# Predict on the training and test datasets\n",
    "y_pred_train_lm = pipeline.predict(X_train)\n",
    "y_pred_test_lm = pipeline.predict(X_test)"
   ]
  },
  {
   "cell_type": "code",
   "execution_count": 52,
   "id": "09794b9d",
   "metadata": {
    "execution": {
     "iopub.execute_input": "2025-01-27T17:31:11.511985Z",
     "iopub.status.busy": "2025-01-27T17:31:11.511595Z",
     "iopub.status.idle": "2025-01-27T17:31:11.527036Z",
     "shell.execute_reply": "2025-01-27T17:31:11.525935Z"
    },
    "papermill": {
     "duration": 0.058205,
     "end_time": "2025-01-27T17:31:11.528763",
     "exception": false,
     "start_time": "2025-01-27T17:31:11.470558",
     "status": "completed"
    },
    "tags": []
   },
   "outputs": [
    {
     "name": "stdout",
     "output_type": "stream",
     "text": [
      "The r2 Accuracy on the training dataset prediction is:  0.971575605824904\n",
      "The r2 Accuracy on the test dataset prediction is:  0.9804921207674033\n",
      "\n",
      "The RMSE  on the training dataset is:  11.680317163751663\n",
      "The RMSE  on the testing dataset is:  9.29304796536017\n",
      "\n",
      "The MAE  on the training dataset is:  5.8047920907054795\n",
      "The MAE  on the testing dataset is:  5.575487911928217\n",
      "\n",
      "The MSE  on the training dataset is:  136.42980904583172\n",
      "The MSE  on the testing dataset is:  86.36074048648479\n"
     ]
    }
   ],
   "source": [
    "# Model Accuracy on training and testing dataset\n",
    "\n",
    "print('The r2 Accuracy on the training dataset prediction is: ',r2_score(y_train,y_pred_train_lm) )\n",
    "print('The r2 Accuracy on the test dataset prediction is: ',r2_score(y_test,y_pred_test_lm) )\n",
    "\n",
    "print(\"\")\n",
    "\n",
    "# The Root Mean Squared Error (RMSE)\n",
    "print('The RMSE  on the training dataset is: ',sqrt(mean_squared_error(y_train, y_pred_train_lm)))\n",
    "print('The RMSE  on the testing dataset is: ',sqrt(mean_squared_error(y_test, y_pred_test_lm)))\n",
    "\n",
    "print(\"\")\n",
    "# The Mean Absolute Error (MAE)\n",
    "print('The MAE  on the training dataset is: ',mean_absolute_error(y_train, y_pred_train_lm))\n",
    "print('The MAE  on the testing dataset is: ',mean_absolute_error(y_test, y_pred_test_lm))\n",
    "\n",
    "print(\"\")\n",
    "# The Mean Squared Error (MSE)\n",
    "print('The MSE  on the training dataset is: ',mean_squared_error(y_train, y_pred_train_lm))\n",
    "print('The MSE  on the testing dataset is: ',mean_squared_error(y_test, y_pred_test_lm))"
   ]
  },
  {
   "cell_type": "markdown",
   "id": "970e897b",
   "metadata": {
    "papermill": {
     "duration": 0.040598,
     "end_time": "2025-01-27T17:31:11.612051",
     "exception": false,
     "start_time": "2025-01-27T17:31:11.571453",
     "status": "completed"
    },
    "tags": []
   },
   "source": [
    "## **3.2.2.  KNeighborsRegressor**"
   ]
  },
  {
   "cell_type": "code",
   "execution_count": 53,
   "id": "afea202f",
   "metadata": {
    "execution": {
     "iopub.execute_input": "2025-01-27T17:31:11.702291Z",
     "iopub.status.busy": "2025-01-27T17:31:11.701409Z",
     "iopub.status.idle": "2025-01-27T17:31:11.744401Z",
     "shell.execute_reply": "2025-01-27T17:31:11.742563Z"
    },
    "papermill": {
     "duration": 0.091002,
     "end_time": "2025-01-27T17:31:11.746854",
     "exception": false,
     "start_time": "2025-01-27T17:31:11.655852",
     "status": "completed"
    },
    "tags": []
   },
   "outputs": [],
   "source": [
    "# training with KNeighborsRegressor\n",
    "\n",
    "neigh = KNeighborsRegressor(n_neighbors=2)\n",
    "\n",
    "pipeline = Pipeline(steps=[('preprocessor', preprocessor), ('regressor', neigh)])\n",
    "\n",
    "# Fit the pipeline to the training data\n",
    "pipeline.fit(X_train,y_train)\n",
    "\n",
    "# Predict on the training and test datasets\n",
    "y_pred_train_knn = pipeline.predict(X_train)\n",
    "y_pred_test_knn = pipeline.predict(X_test)"
   ]
  },
  {
   "cell_type": "code",
   "execution_count": 54,
   "id": "818eecc7",
   "metadata": {
    "execution": {
     "iopub.execute_input": "2025-01-27T17:31:11.833855Z",
     "iopub.status.busy": "2025-01-27T17:31:11.833522Z",
     "iopub.status.idle": "2025-01-27T17:31:11.850970Z",
     "shell.execute_reply": "2025-01-27T17:31:11.849735Z"
    },
    "papermill": {
     "duration": 0.063521,
     "end_time": "2025-01-27T17:31:11.852652",
     "exception": false,
     "start_time": "2025-01-27T17:31:11.789131",
     "status": "completed"
    },
    "tags": []
   },
   "outputs": [
    {
     "name": "stdout",
     "output_type": "stream",
     "text": [
      "The R2 score on the training dataset prediction is:  0.9992182147080905\n",
      "The R2 score on the test dataset prediction is:  0.9979916017028466\n",
      "\n",
      "The RMSE  on the training dataset is:  1.9371032727988668\n",
      "The RMSE  on the testing dataset is:  2.981796988604355\n",
      "\n",
      "The MAE  on the training dataset is:  1.1364790933958577\n",
      "The MAE  on the testing dataset is:  1.812109375\n",
      "\n",
      "The MSE  on the training dataset is:  3.7523690894880812\n",
      "The MSE  on the testing dataset is:  8.89111328125\n"
     ]
    }
   ],
   "source": [
    "# Model Accuracy on training dataset\n",
    "print('The R2 score on the training dataset prediction is: ', r2_score(y_train,y_pred_train_knn))\n",
    "print('The R2 score on the test dataset prediction is: ', r2_score(y_test, y_pred_test_knn))\n",
    "print(\"\")\n",
    "\n",
    "# The Root Mean Squared Error (RMSE)\n",
    "print('The RMSE  on the training dataset is: ',sqrt(mean_squared_error(y_train,y_pred_train_knn)))\n",
    "print('The RMSE  on the testing dataset is: ',sqrt(mean_squared_error(y_test, y_pred_test_knn)))\n",
    "\n",
    "print(\"\")\n",
    "# The Mean Absolute Error (MAE)\n",
    "print('The MAE  on the training dataset is: ',mean_absolute_error(y_train,y_pred_train_knn))\n",
    "print('The MAE  on the testing dataset is: ',mean_absolute_error(y_test, y_pred_test_knn))\n",
    "\n",
    "print(\"\")\n",
    "# The Mean Squared Error (MSE)\n",
    "print('The MSE  on the training dataset is: ',mean_squared_error(y_train, y_pred_train_knn))\n",
    "print('The MSE  on the testing dataset is: ',mean_squared_error(y_test, y_pred_test_knn))"
   ]
  },
  {
   "cell_type": "markdown",
   "id": "66a3946f",
   "metadata": {
    "papermill": {
     "duration": 0.042059,
     "end_time": "2025-01-27T17:31:11.935029",
     "exception": false,
     "start_time": "2025-01-27T17:31:11.892970",
     "status": "completed"
    },
    "tags": []
   },
   "source": [
    "## **3.2.3.  Random Forest Regressor**"
   ]
  },
  {
   "cell_type": "code",
   "execution_count": 55,
   "id": "93f3539d",
   "metadata": {
    "execution": {
     "iopub.execute_input": "2025-01-27T17:31:12.023738Z",
     "iopub.status.busy": "2025-01-27T17:31:12.023379Z",
     "iopub.status.idle": "2025-01-27T17:31:13.056570Z",
     "shell.execute_reply": "2025-01-27T17:31:13.055468Z"
    },
    "papermill": {
     "duration": 1.081857,
     "end_time": "2025-01-27T17:31:13.058525",
     "exception": false,
     "start_time": "2025-01-27T17:31:11.976668",
     "status": "completed"
    },
    "tags": []
   },
   "outputs": [],
   "source": [
    "# Training with random forest regressor\n",
    "random = RandomForestRegressor()\n",
    "\n",
    "pipeline = Pipeline(steps=[('preprocessor', preprocessor), ('regressor', random)])\n",
    "\n",
    "# Fit the pipeline to the training data\n",
    "pipeline.fit(X_train,y_train)\n",
    "\n",
    "# Predict on the training and test datasets\n",
    "y_pred_train_random = pipeline.predict(X_train)\n",
    "y_pred_test_random = pipeline.predict(X_test)"
   ]
  },
  {
   "cell_type": "code",
   "execution_count": 56,
   "id": "42eb07ee",
   "metadata": {
    "execution": {
     "iopub.execute_input": "2025-01-27T17:31:13.143727Z",
     "iopub.status.busy": "2025-01-27T17:31:13.143401Z",
     "iopub.status.idle": "2025-01-27T17:31:13.158933Z",
     "shell.execute_reply": "2025-01-27T17:31:13.157635Z"
    },
    "papermill": {
     "duration": 0.060529,
     "end_time": "2025-01-27T17:31:13.160602",
     "exception": false,
     "start_time": "2025-01-27T17:31:13.100073",
     "status": "completed"
    },
    "tags": []
   },
   "outputs": [
    {
     "name": "stdout",
     "output_type": "stream",
     "text": [
      "The R2 score on the training dataset prediction is:  0.9993952495302396\n",
      "The R2 score on the test dataset prediction is:  0.9983931532765629\n",
      "\n",
      "The RMSE  on the training dataset is:  1.7037157343976814\n",
      "The RMSE  on the testing dataset is:  2.667106607589955\n",
      "\n",
      "The MAE  on the training dataset is:  0.2412973817897616\n",
      "The MAE  on the testing dataset is:  0.5451406249999998\n",
      "\n",
      "The MSE  on the training dataset is:  2.9026473036342306\n",
      "The MSE  on the testing dataset is:  7.1134576562500005\n"
     ]
    }
   ],
   "source": [
    "# Model Accuracy on training dataset\n",
    "print('The R2 score on the training dataset prediction is: ', r2_score(y_train,y_pred_train_random))\n",
    "print('The R2 score on the test dataset prediction is: ', r2_score(y_test, y_pred_test_random))\n",
    "print(\"\")\n",
    "\n",
    "# The Root Mean Squared Error (RMSE)\n",
    "print('The RMSE  on the training dataset is: ',sqrt(mean_squared_error(y_train,y_pred_train_random)))\n",
    "print('The RMSE  on the testing dataset is: ',sqrt(mean_squared_error(y_test, y_pred_test_random)))\n",
    "\n",
    "print(\"\")\n",
    "# The Mean Absolute Error (MAE)\n",
    "print('The MAE  on the training dataset is: ',mean_absolute_error(y_train,y_pred_train_random))\n",
    "print('The MAE  on the testing dataset is: ',mean_absolute_error(y_test, y_pred_test_random))\n",
    "\n",
    "print(\"\")\n",
    "# The Mean Squared Error (MSE)\n",
    "print('The MSE  on the training dataset is: ',mean_squared_error(y_train, y_pred_train_random))\n",
    "print('The MSE  on the testing dataset is: ',mean_squared_error(y_test, y_pred_test_random))"
   ]
  },
  {
   "cell_type": "markdown",
   "id": "441fc3cf",
   "metadata": {
    "papermill": {
     "duration": 0.040564,
     "end_time": "2025-01-27T17:31:13.243502",
     "exception": false,
     "start_time": "2025-01-27T17:31:13.202938",
     "status": "completed"
    },
    "tags": []
   },
   "source": [
    "## **3.2.4.  Decision Tree regressor**"
   ]
  },
  {
   "cell_type": "code",
   "execution_count": 57,
   "id": "dbcf2c59",
   "metadata": {
    "execution": {
     "iopub.execute_input": "2025-01-27T17:31:13.330586Z",
     "iopub.status.busy": "2025-01-27T17:31:13.330183Z",
     "iopub.status.idle": "2025-01-27T17:31:13.355029Z",
     "shell.execute_reply": "2025-01-27T17:31:13.353849Z"
    },
    "papermill": {
     "duration": 0.070809,
     "end_time": "2025-01-27T17:31:13.357083",
     "exception": false,
     "start_time": "2025-01-27T17:31:13.286274",
     "status": "completed"
    },
    "tags": []
   },
   "outputs": [],
   "source": [
    "# Training with Decision Tree regressor\n",
    "dt = DecisionTreeRegressor()\n",
    "\n",
    "pipeline = Pipeline(steps=[('preprocessor', preprocessor), ('regressor', dt)])\n",
    "\n",
    "# Fit the pipeline to the training data\n",
    "pipeline.fit(X_train,y_train)\n",
    "\n",
    "# Predict on the training and test datasets\n",
    "y_pred_train_dt = pipeline.predict(X_train)\n",
    "y_pred_test_dt = pipeline.predict(X_test)"
   ]
  },
  {
   "cell_type": "code",
   "execution_count": 58,
   "id": "bbb08f94",
   "metadata": {
    "execution": {
     "iopub.execute_input": "2025-01-27T17:31:13.440010Z",
     "iopub.status.busy": "2025-01-27T17:31:13.439587Z",
     "iopub.status.idle": "2025-01-27T17:31:13.455162Z",
     "shell.execute_reply": "2025-01-27T17:31:13.453982Z"
    },
    "papermill": {
     "duration": 0.059223,
     "end_time": "2025-01-27T17:31:13.457086",
     "exception": false,
     "start_time": "2025-01-27T17:31:13.397863",
     "status": "completed"
    },
    "tags": []
   },
   "outputs": [
    {
     "name": "stdout",
     "output_type": "stream",
     "text": [
      "The R2 score on the training dataset prediction is:  1.0\n",
      "The R2 score on the test dataset prediction is:  0.9986975246410333\n",
      "\n",
      "The RMSE  on the training dataset is:  0.0\n",
      "The RMSE  on the testing dataset is:  2.40125292816063\n",
      "\n",
      "The MAE  on the training dataset is:  0.0\n",
      "The MAE  on the testing dataset is:  0.54609375\n",
      "\n",
      "The MSE  on the training dataset is:  0.0\n",
      "The MSE  on the testing dataset is:  5.766015625\n"
     ]
    }
   ],
   "source": [
    "# Model Accuracy on training dataset\n",
    "print('The R2 score on the training dataset prediction is: ', r2_score(y_train,y_pred_train_dt))\n",
    "print('The R2 score on the test dataset prediction is: ', r2_score(y_test, y_pred_test_dt))\n",
    "print(\"\")\n",
    "\n",
    "# The Root Mean Squared Error (RMSE)\n",
    "print('The RMSE  on the training dataset is: ',sqrt(mean_squared_error(y_train,y_pred_train_dt)))\n",
    "print('The RMSE  on the testing dataset is: ',sqrt(mean_squared_error(y_test, y_pred_test_dt)))\n",
    "\n",
    "print(\"\")\n",
    "# The Mean Absolute Error (MAE)\n",
    "print('The MAE  on the training dataset is: ',mean_absolute_error(y_train,y_pred_train_dt))\n",
    "print('The MAE  on the testing dataset is: ',mean_absolute_error(y_test, y_pred_test_dt))\n",
    "\n",
    "print(\"\")\n",
    "# The Mean Squared Error (MSE)\n",
    "print('The MSE  on the training dataset is: ',mean_squared_error(y_train, y_pred_train_dt))\n",
    "print('The MSE  on the testing dataset is: ',mean_squared_error(y_test, y_pred_test_dt))"
   ]
  },
  {
   "cell_type": "markdown",
   "id": "5bbd046a",
   "metadata": {
    "papermill": {
     "duration": 0.041463,
     "end_time": "2025-01-27T17:31:13.539122",
     "exception": false,
     "start_time": "2025-01-27T17:31:13.497659",
     "status": "completed"
    },
    "tags": []
   },
   "source": [
    "## **3.2.5.  Support Vector Machine regressor**"
   ]
  },
  {
   "cell_type": "code",
   "execution_count": 59,
   "id": "c17b0993",
   "metadata": {
    "execution": {
     "iopub.execute_input": "2025-01-27T17:31:13.626262Z",
     "iopub.status.busy": "2025-01-27T17:31:13.625853Z",
     "iopub.status.idle": "2025-01-27T17:31:38.852265Z",
     "shell.execute_reply": "2025-01-27T17:31:38.850987Z"
    },
    "papermill": {
     "duration": 25.273459,
     "end_time": "2025-01-27T17:31:38.854434",
     "exception": false,
     "start_time": "2025-01-27T17:31:13.580975",
     "status": "completed"
    },
    "tags": []
   },
   "outputs": [],
   "source": [
    "# Training with Support Vector Machine regressor\n",
    "svr = SVR(kernel='linear')\n",
    "\n",
    "pipeline = Pipeline(steps=[('preprocessor', preprocessor), ('regressor', svr)])\n",
    "\n",
    "# Fit the pipeline to the training data\n",
    "pipeline.fit(X_train, y_train)\n",
    "\n",
    "# Predict on the training and test datasets\n",
    "y_pred_train_svr = pipeline.predict(X_train)\n",
    "y_pred_test_svr = pipeline.predict(X_test)"
   ]
  },
  {
   "cell_type": "code",
   "execution_count": 60,
   "id": "466a353a",
   "metadata": {
    "execution": {
     "iopub.execute_input": "2025-01-27T17:31:38.938948Z",
     "iopub.status.busy": "2025-01-27T17:31:38.938597Z",
     "iopub.status.idle": "2025-01-27T17:31:38.954026Z",
     "shell.execute_reply": "2025-01-27T17:31:38.952307Z"
    },
    "papermill": {
     "duration": 0.059158,
     "end_time": "2025-01-27T17:31:38.956385",
     "exception": false,
     "start_time": "2025-01-27T17:31:38.897227",
     "status": "completed"
    },
    "tags": []
   },
   "outputs": [
    {
     "name": "stdout",
     "output_type": "stream",
     "text": [
      "The R2 score on the training dataset prediction is:  0.9522313571226982\n",
      "The R2 score on the test dataset prediction is:  0.9617482996929472\n",
      "\n",
      "The RMSE on the training dataset is:  15.141903657316124\n",
      "The RMSE on the testing dataset is:  13.0130327213856\n",
      "\n",
      "The MAE on the training dataset is:  5.525088335191747\n",
      "The MAE on the testing dataset is:  5.017323928082908\n",
      "\n",
      "The MSE  on the training dataset is:  229.27724636744344\n",
      "The MSE  on the testing dataset is:  169.3390206078523\n"
     ]
    }
   ],
   "source": [
    "# Model Accuracy on training dataset\n",
    "print('The R2 score on the training dataset prediction is: ', r2_score(y_train, y_pred_train_svr))\n",
    "print('The R2 score on the test dataset prediction is: ', r2_score(y_test, y_pred_test_svr))\n",
    "print(\"\")\n",
    "\n",
    "# The Root Mean Squared Error (RMSE)\n",
    "print('The RMSE on the training dataset is: ', sqrt(mean_squared_error(y_train, y_pred_train_svr)))\n",
    "print('The RMSE on the testing dataset is: ', sqrt(mean_squared_error(y_test, y_pred_test_svr)))\n",
    "print(\"\")\n",
    "\n",
    "# The Mean Absolute Error (MAE)\n",
    "print('The MAE on the training dataset is: ', mean_absolute_error(y_train, y_pred_train_svr))\n",
    "print('The MAE on the testing dataset is: ', mean_absolute_error(y_test, y_pred_test_svr))\n",
    "\n",
    "print(\"\")\n",
    "# The Mean Squared Error (MSE)\n",
    "print('The MSE  on the training dataset is: ',mean_squared_error(y_train, y_pred_train_svr))\n",
    "print('The MSE  on the testing dataset is: ',mean_squared_error(y_test, y_pred_test_svr))"
   ]
  },
  {
   "cell_type": "markdown",
   "id": "8bbad1d6",
   "metadata": {
    "papermill": {
     "duration": 0.044628,
     "end_time": "2025-01-27T17:31:39.042170",
     "exception": false,
     "start_time": "2025-01-27T17:31:38.997542",
     "status": "completed"
    },
    "tags": []
   },
   "source": [
    "## **3.2.6.  XGBoost Regressor**"
   ]
  },
  {
   "cell_type": "code",
   "execution_count": 61,
   "id": "5be7cc4a",
   "metadata": {
    "execution": {
     "iopub.execute_input": "2025-01-27T17:31:39.127711Z",
     "iopub.status.busy": "2025-01-27T17:31:39.127309Z",
     "iopub.status.idle": "2025-01-27T17:31:39.267291Z",
     "shell.execute_reply": "2025-01-27T17:31:39.266104Z"
    },
    "papermill": {
     "duration": 0.185272,
     "end_time": "2025-01-27T17:31:39.269973",
     "exception": false,
     "start_time": "2025-01-27T17:31:39.084701",
     "status": "completed"
    },
    "tags": []
   },
   "outputs": [],
   "source": [
    "# Training with XGBoost regressor\n",
    "xgb_regressor = XGBRegressor(objective='reg:squarederror')\n",
    "\n",
    "pipeline = Pipeline(steps=[('preprocessor', preprocessor), ('regressor', xgb_regressor)])\n",
    "\n",
    "# Fit the pipeline to the training data\n",
    "pipeline.fit(X_train, y_train)\n",
    "\n",
    "# Predict on the training and test datasets\n",
    "y_pred_train_xgb = pipeline.predict(X_train)\n",
    "y_pred_test_xgb = pipeline.predict(X_test)"
   ]
  },
  {
   "cell_type": "code",
   "execution_count": 62,
   "id": "05d6410e",
   "metadata": {
    "execution": {
     "iopub.execute_input": "2025-01-27T17:31:39.355497Z",
     "iopub.status.busy": "2025-01-27T17:31:39.355118Z",
     "iopub.status.idle": "2025-01-27T17:31:39.369893Z",
     "shell.execute_reply": "2025-01-27T17:31:39.368704Z"
    },
    "papermill": {
     "duration": 0.057802,
     "end_time": "2025-01-27T17:31:39.371695",
     "exception": false,
     "start_time": "2025-01-27T17:31:39.313893",
     "status": "completed"
    },
    "tags": []
   },
   "outputs": [
    {
     "name": "stdout",
     "output_type": "stream",
     "text": [
      "The R2 score on the training dataset prediction is:  0.9999917243791947\n",
      "The R2 score on the test dataset prediction is:  0.9973126151042563\n",
      "\n",
      "The RMSE on the training dataset is:  0.19930092688666182\n",
      "The RMSE on the testing dataset is:  3.4491976816390433\n",
      "\n",
      "The MAE on the training dataset is:  0.12236696670371232\n",
      "The MAE on the testing dataset is:  0.9527172446250916\n",
      "\n",
      "The MSE  on the training dataset is:  0.039720859457882514\n",
      "The MSE  on the testing dataset is:  11.896964647024152\n"
     ]
    }
   ],
   "source": [
    "# Model Accuracy on training dataset\n",
    "print('The R2 score on the training dataset prediction is: ', r2_score(y_train, y_pred_train_xgb))\n",
    "print('The R2 score on the test dataset prediction is: ', r2_score(y_test, y_pred_test_xgb))\n",
    "print(\"\")\n",
    "\n",
    "# The Root Mean Squared Error (RMSE)\n",
    "print('The RMSE on the training dataset is: ', sqrt(mean_squared_error(y_train, y_pred_train_xgb)))\n",
    "print('The RMSE on the testing dataset is: ', sqrt(mean_squared_error(y_test, y_pred_test_xgb)))\n",
    "print(\"\")\n",
    "\n",
    "# The Mean Absolute Error (MAE)\n",
    "print('The MAE on the training dataset is: ', mean_absolute_error(y_train, y_pred_train_xgb))\n",
    "print('The MAE on the testing dataset is: ', mean_absolute_error(y_test, y_pred_test_xgb))\n",
    "\n",
    "print(\"\")\n",
    "# The Mean Squared Error (MSE)\n",
    "print('The MSE  on the training dataset is: ',mean_squared_error(y_train, y_pred_train_xgb))\n",
    "print('The MSE  on the testing dataset is: ',mean_squared_error(y_test, y_pred_test_xgb))"
   ]
  },
  {
   "cell_type": "markdown",
   "id": "b47fcf43",
   "metadata": {
    "papermill": {
     "duration": 0.042097,
     "end_time": "2025-01-27T17:31:39.454337",
     "exception": false,
     "start_time": "2025-01-27T17:31:39.412240",
     "status": "completed"
    },
    "tags": []
   },
   "source": [
    "## **3.2.7.  Neural Network Regressor**"
   ]
  },
  {
   "cell_type": "code",
   "execution_count": 63,
   "id": "ce6393ae",
   "metadata": {
    "execution": {
     "iopub.execute_input": "2025-01-27T17:31:39.544227Z",
     "iopub.status.busy": "2025-01-27T17:31:39.543749Z",
     "iopub.status.idle": "2025-01-27T17:31:40.845362Z",
     "shell.execute_reply": "2025-01-27T17:31:40.843713Z"
    },
    "papermill": {
     "duration": 1.349722,
     "end_time": "2025-01-27T17:31:40.847474",
     "exception": false,
     "start_time": "2025-01-27T17:31:39.497752",
     "status": "completed"
    },
    "tags": []
   },
   "outputs": [],
   "source": [
    "# training with neural network regressor\n",
    "\n",
    "nn = MLPRegressor(hidden_layer_sizes=(8,), activation='relu', solver='adam', max_iter=2000, learning_rate_init=0.001)\n",
    "\n",
    "pipeline = Pipeline(steps=[('preprocessor', preprocessor), ('regressor', nn)])\n",
    "\n",
    "# Fit the pipeline to the training data\n",
    "pipeline.fit(X_train,y_train)\n",
    "\n",
    "# Predict on the training and test datasets\n",
    "y_pred_train_nn = pipeline.predict(X_train)\n",
    "y_pred_test_nn = pipeline.predict(X_test)"
   ]
  },
  {
   "cell_type": "code",
   "execution_count": 64,
   "id": "26c2908f",
   "metadata": {
    "execution": {
     "iopub.execute_input": "2025-01-27T17:31:40.937503Z",
     "iopub.status.busy": "2025-01-27T17:31:40.937098Z",
     "iopub.status.idle": "2025-01-27T17:31:40.955054Z",
     "shell.execute_reply": "2025-01-27T17:31:40.953461Z"
    },
    "papermill": {
     "duration": 0.063821,
     "end_time": "2025-01-27T17:31:40.957369",
     "exception": false,
     "start_time": "2025-01-27T17:31:40.893548",
     "status": "completed"
    },
    "tags": []
   },
   "outputs": [
    {
     "name": "stdout",
     "output_type": "stream",
     "text": [
      "The R2 score on the training dataset prediction is:  0.971104674972995\n",
      "The R2 score on the test dataset prediction is:  0.9795978695987976\n",
      "\n",
      "The RMSE on the training dataset is:  11.776678499114064\n",
      "The RMSE on the testing dataset is:  9.503660401750928\n",
      "\n",
      "The MAE on the training dataset is:  5.858561943487816\n",
      "The MAE on the testing dataset is:  5.643036826403818\n",
      "\n",
      "The MSE  on the training dataset is:  138.6901564714955\n",
      "The MSE  on the testing dataset is:  90.3195610318086\n"
     ]
    }
   ],
   "source": [
    "# Model Accuracy on training dataset\n",
    "print('The R2 score on the training dataset prediction is: ', r2_score(y_train, y_pred_train_nn))\n",
    "print('The R2 score on the test dataset prediction is: ', r2_score(y_test, y_pred_test_nn))\n",
    "print(\"\")\n",
    "\n",
    "# The Root Mean Squared Error (RMSE)\n",
    "print('The RMSE on the training dataset is: ', sqrt(mean_squared_error(y_train, y_pred_train_nn)))\n",
    "print('The RMSE on the testing dataset is: ', sqrt(mean_squared_error(y_test, y_pred_test_nn)))\n",
    "print(\"\")\n",
    "\n",
    "# The Mean Absolute Error (MAE)\n",
    "print('The MAE on the training dataset is: ', mean_absolute_error(y_train, y_pred_train_nn))\n",
    "print('The MAE on the testing dataset is: ', mean_absolute_error(y_test, y_pred_test_nn))\n",
    "\n",
    "print(\"\")\n",
    "# The Mean Squared Error (MSE)\n",
    "print('The MSE  on the training dataset is: ',mean_squared_error(y_train, y_pred_train_nn))\n",
    "print('The MSE  on the testing dataset is: ',mean_squared_error(y_test, y_pred_test_nn))"
   ]
  },
  {
   "cell_type": "code",
   "execution_count": null,
   "id": "6133f827",
   "metadata": {
    "papermill": {
     "duration": 0.044658,
     "end_time": "2025-01-27T17:31:41.046525",
     "exception": false,
     "start_time": "2025-01-27T17:31:41.001867",
     "status": "completed"
    },
    "tags": []
   },
   "outputs": [],
   "source": []
  },
  {
   "cell_type": "code",
   "execution_count": null,
   "id": "afbe7dc5",
   "metadata": {
    "papermill": {
     "duration": 0.040497,
     "end_time": "2025-01-27T17:31:41.129284",
     "exception": false,
     "start_time": "2025-01-27T17:31:41.088787",
     "status": "completed"
    },
    "tags": []
   },
   "outputs": [],
   "source": []
  },
  {
   "cell_type": "code",
   "execution_count": null,
   "id": "ef15b3fd",
   "metadata": {
    "papermill": {
     "duration": 0.043151,
     "end_time": "2025-01-27T17:31:41.217302",
     "exception": false,
     "start_time": "2025-01-27T17:31:41.174151",
     "status": "completed"
    },
    "tags": []
   },
   "outputs": [],
   "source": []
  },
  {
   "cell_type": "markdown",
   "id": "9967cab7",
   "metadata": {
    "papermill": {
     "duration": 0.040086,
     "end_time": "2025-01-27T17:31:41.298787",
     "exception": false,
     "start_time": "2025-01-27T17:31:41.258701",
     "status": "completed"
    },
    "tags": []
   },
   "source": [
    "# **4.1. Splitting & Preprocessing the Raw Data(zscore)**"
   ]
  },
  {
   "cell_type": "markdown",
   "id": "f9abd3a2",
   "metadata": {
    "papermill": {
     "duration": 0.042196,
     "end_time": "2025-01-27T17:31:41.382654",
     "exception": false,
     "start_time": "2025-01-27T17:31:41.340458",
     "status": "completed"
    },
    "tags": []
   },
   "source": [
    "AQI smoothed zscore"
   ]
  },
  {
   "cell_type": "code",
   "execution_count": 65,
   "id": "bde46184",
   "metadata": {
    "execution": {
     "iopub.execute_input": "2025-01-27T17:31:41.469610Z",
     "iopub.status.busy": "2025-01-27T17:31:41.469247Z",
     "iopub.status.idle": "2025-01-27T17:31:41.489572Z",
     "shell.execute_reply": "2025-01-27T17:31:41.488522Z"
    },
    "papermill": {
     "duration": 0.065846,
     "end_time": "2025-01-27T17:31:41.491187",
     "exception": false,
     "start_time": "2025-01-27T17:31:41.425341",
     "status": "completed"
    },
    "tags": []
   },
   "outputs": [
    {
     "data": {
      "text/html": [
       "<div>\n",
       "<style scoped>\n",
       "    .dataframe tbody tr th:only-of-type {\n",
       "        vertical-align: middle;\n",
       "    }\n",
       "\n",
       "    .dataframe tbody tr th {\n",
       "        vertical-align: top;\n",
       "    }\n",
       "\n",
       "    .dataframe thead th {\n",
       "        text-align: right;\n",
       "    }\n",
       "</style>\n",
       "<table border=\"1\" class=\"dataframe\">\n",
       "  <thead>\n",
       "    <tr style=\"text-align: right;\">\n",
       "      <th></th>\n",
       "      <th>co</th>\n",
       "      <th>no2</th>\n",
       "      <th>o3</th>\n",
       "      <th>pm10</th>\n",
       "      <th>pm25</th>\n",
       "      <th>so2</th>\n",
       "      <th>humidity</th>\n",
       "      <th>pressure</th>\n",
       "      <th>temperature</th>\n",
       "      <th>wind-speed</th>\n",
       "      <th>Country_City</th>\n",
       "      <th>Checks</th>\n",
       "      <th>AQI</th>\n",
       "      <th>AQI_smoothed_iqr</th>\n",
       "      <th>AQI_smoothed_zscore</th>\n",
       "      <th>AQI_smoothed_rolling</th>\n",
       "    </tr>\n",
       "  </thead>\n",
       "  <tbody>\n",
       "    <tr>\n",
       "      <th>2014-12-29</th>\n",
       "      <td>14.1</td>\n",
       "      <td>36.2</td>\n",
       "      <td>3.2</td>\n",
       "      <td>218.0</td>\n",
       "      <td>307.0</td>\n",
       "      <td>4.2</td>\n",
       "      <td>60.691097</td>\n",
       "      <td>985.187382</td>\n",
       "      <td>26.3352</td>\n",
       "      <td>1.102459</td>\n",
       "      <td>India_Delhi</td>\n",
       "      <td>6</td>\n",
       "      <td>307.0</td>\n",
       "      <td>307.0</td>\n",
       "      <td>307.0</td>\n",
       "      <td>307.0</td>\n",
       "    </tr>\n",
       "    <tr>\n",
       "      <th>2014-12-30</th>\n",
       "      <td>20.4</td>\n",
       "      <td>36.8</td>\n",
       "      <td>4.8</td>\n",
       "      <td>330.0</td>\n",
       "      <td>367.0</td>\n",
       "      <td>5.8</td>\n",
       "      <td>60.691097</td>\n",
       "      <td>985.187382</td>\n",
       "      <td>26.3352</td>\n",
       "      <td>1.102459</td>\n",
       "      <td>India_Delhi</td>\n",
       "      <td>6</td>\n",
       "      <td>367.0</td>\n",
       "      <td>367.0</td>\n",
       "      <td>367.0</td>\n",
       "      <td>367.0</td>\n",
       "    </tr>\n",
       "    <tr>\n",
       "      <th>2014-12-31</th>\n",
       "      <td>12.7</td>\n",
       "      <td>28.7</td>\n",
       "      <td>7.8</td>\n",
       "      <td>137.0</td>\n",
       "      <td>202.0</td>\n",
       "      <td>6.3</td>\n",
       "      <td>60.691097</td>\n",
       "      <td>985.187382</td>\n",
       "      <td>26.3352</td>\n",
       "      <td>1.102459</td>\n",
       "      <td>India_Delhi</td>\n",
       "      <td>6</td>\n",
       "      <td>202.0</td>\n",
       "      <td>202.0</td>\n",
       "      <td>202.0</td>\n",
       "      <td>202.0</td>\n",
       "    </tr>\n",
       "    <tr>\n",
       "      <th>2015-01-01</th>\n",
       "      <td>20.8</td>\n",
       "      <td>66.5</td>\n",
       "      <td>5.2</td>\n",
       "      <td>230.0</td>\n",
       "      <td>382.0</td>\n",
       "      <td>9.9</td>\n",
       "      <td>60.691097</td>\n",
       "      <td>985.187382</td>\n",
       "      <td>26.3352</td>\n",
       "      <td>1.102459</td>\n",
       "      <td>India_Delhi</td>\n",
       "      <td>6</td>\n",
       "      <td>382.0</td>\n",
       "      <td>382.0</td>\n",
       "      <td>158.0</td>\n",
       "      <td>382.0</td>\n",
       "    </tr>\n",
       "    <tr>\n",
       "      <th>2015-01-02</th>\n",
       "      <td>12.7</td>\n",
       "      <td>33.9</td>\n",
       "      <td>6.0</td>\n",
       "      <td>81.0</td>\n",
       "      <td>172.0</td>\n",
       "      <td>4.2</td>\n",
       "      <td>60.691097</td>\n",
       "      <td>985.187382</td>\n",
       "      <td>26.3352</td>\n",
       "      <td>1.102459</td>\n",
       "      <td>India_Delhi</td>\n",
       "      <td>6</td>\n",
       "      <td>172.0</td>\n",
       "      <td>172.0</td>\n",
       "      <td>172.0</td>\n",
       "      <td>172.0</td>\n",
       "    </tr>\n",
       "  </tbody>\n",
       "</table>\n",
       "</div>"
      ],
      "text/plain": [
       "              co   no2   o3   pm10   pm25  so2   humidity    pressure  \\\n",
       "2014-12-29  14.1  36.2  3.2  218.0  307.0  4.2  60.691097  985.187382   \n",
       "2014-12-30  20.4  36.8  4.8  330.0  367.0  5.8  60.691097  985.187382   \n",
       "2014-12-31  12.7  28.7  7.8  137.0  202.0  6.3  60.691097  985.187382   \n",
       "2015-01-01  20.8  66.5  5.2  230.0  382.0  9.9  60.691097  985.187382   \n",
       "2015-01-02  12.7  33.9  6.0   81.0  172.0  4.2  60.691097  985.187382   \n",
       "\n",
       "            temperature  wind-speed Country_City  Checks    AQI  \\\n",
       "2014-12-29      26.3352    1.102459  India_Delhi       6  307.0   \n",
       "2014-12-30      26.3352    1.102459  India_Delhi       6  367.0   \n",
       "2014-12-31      26.3352    1.102459  India_Delhi       6  202.0   \n",
       "2015-01-01      26.3352    1.102459  India_Delhi       6  382.0   \n",
       "2015-01-02      26.3352    1.102459  India_Delhi       6  172.0   \n",
       "\n",
       "            AQI_smoothed_iqr  AQI_smoothed_zscore  AQI_smoothed_rolling  \n",
       "2014-12-29             307.0                307.0                 307.0  \n",
       "2014-12-30             367.0                367.0                 367.0  \n",
       "2014-12-31             202.0                202.0                 202.0  \n",
       "2015-01-01             382.0                158.0                 382.0  \n",
       "2015-01-02             172.0                172.0                 172.0  "
      ]
     },
     "execution_count": 65,
     "metadata": {},
     "output_type": "execute_result"
    }
   ],
   "source": [
    "new_data4.head()"
   ]
  },
  {
   "cell_type": "code",
   "execution_count": 66,
   "id": "61ec68e8",
   "metadata": {
    "execution": {
     "iopub.execute_input": "2025-01-27T17:31:41.575652Z",
     "iopub.status.busy": "2025-01-27T17:31:41.575278Z",
     "iopub.status.idle": "2025-01-27T17:31:41.581613Z",
     "shell.execute_reply": "2025-01-27T17:31:41.580525Z"
    },
    "papermill": {
     "duration": 0.049582,
     "end_time": "2025-01-27T17:31:41.583345",
     "exception": false,
     "start_time": "2025-01-27T17:31:41.533763",
     "status": "completed"
    },
    "tags": []
   },
   "outputs": [
    {
     "data": {
      "text/plain": [
       "Index(['co', 'no2', 'o3', 'pm10', 'pm25', 'so2', 'humidity', 'pressure',\n",
       "       'temperature', 'wind-speed', 'Country_City', 'Checks', 'AQI',\n",
       "       'AQI_smoothed_iqr', 'AQI_smoothed_zscore', 'AQI_smoothed_rolling'],\n",
       "      dtype='object')"
      ]
     },
     "execution_count": 66,
     "metadata": {},
     "output_type": "execute_result"
    }
   ],
   "source": [
    "new_data4.columns"
   ]
  },
  {
   "cell_type": "markdown",
   "id": "c05afbe1",
   "metadata": {
    "papermill": {
     "duration": 0.042659,
     "end_time": "2025-01-27T17:31:41.667965",
     "exception": false,
     "start_time": "2025-01-27T17:31:41.625306",
     "status": "completed"
    },
    "tags": []
   },
   "source": [
    "***Working with AQI_smoothed_iqr***"
   ]
  },
  {
   "cell_type": "code",
   "execution_count": 67,
   "id": "23f0490d",
   "metadata": {
    "execution": {
     "iopub.execute_input": "2025-01-27T17:31:41.759484Z",
     "iopub.status.busy": "2025-01-27T17:31:41.759080Z",
     "iopub.status.idle": "2025-01-27T17:31:41.764982Z",
     "shell.execute_reply": "2025-01-27T17:31:41.763816Z"
    },
    "papermill": {
     "duration": 0.055492,
     "end_time": "2025-01-27T17:31:41.766897",
     "exception": false,
     "start_time": "2025-01-27T17:31:41.711405",
     "status": "completed"
    },
    "tags": []
   },
   "outputs": [],
   "source": [
    "data = new_data4.drop(['Country_City', 'Checks', 'AQI',\n",
    "       'AQI_smoothed_iqr', 'AQI_smoothed_rolling'],axis=1)"
   ]
  },
  {
   "cell_type": "code",
   "execution_count": 68,
   "id": "bcb9d0fe",
   "metadata": {
    "execution": {
     "iopub.execute_input": "2025-01-27T17:31:41.856108Z",
     "iopub.status.busy": "2025-01-27T17:31:41.855703Z",
     "iopub.status.idle": "2025-01-27T17:31:41.873000Z",
     "shell.execute_reply": "2025-01-27T17:31:41.871810Z"
    },
    "papermill": {
     "duration": 0.062888,
     "end_time": "2025-01-27T17:31:41.874792",
     "exception": false,
     "start_time": "2025-01-27T17:31:41.811904",
     "status": "completed"
    },
    "tags": []
   },
   "outputs": [
    {
     "data": {
      "text/html": [
       "<div>\n",
       "<style scoped>\n",
       "    .dataframe tbody tr th:only-of-type {\n",
       "        vertical-align: middle;\n",
       "    }\n",
       "\n",
       "    .dataframe tbody tr th {\n",
       "        vertical-align: top;\n",
       "    }\n",
       "\n",
       "    .dataframe thead th {\n",
       "        text-align: right;\n",
       "    }\n",
       "</style>\n",
       "<table border=\"1\" class=\"dataframe\">\n",
       "  <thead>\n",
       "    <tr style=\"text-align: right;\">\n",
       "      <th></th>\n",
       "      <th>co</th>\n",
       "      <th>no2</th>\n",
       "      <th>o3</th>\n",
       "      <th>pm10</th>\n",
       "      <th>pm25</th>\n",
       "      <th>so2</th>\n",
       "      <th>humidity</th>\n",
       "      <th>pressure</th>\n",
       "      <th>temperature</th>\n",
       "      <th>wind-speed</th>\n",
       "      <th>AQI_smoothed_zscore</th>\n",
       "    </tr>\n",
       "  </thead>\n",
       "  <tbody>\n",
       "    <tr>\n",
       "      <th>2014-12-29</th>\n",
       "      <td>14.1</td>\n",
       "      <td>36.2</td>\n",
       "      <td>3.2</td>\n",
       "      <td>218.0</td>\n",
       "      <td>307.0</td>\n",
       "      <td>4.2</td>\n",
       "      <td>60.691097</td>\n",
       "      <td>985.187382</td>\n",
       "      <td>26.3352</td>\n",
       "      <td>1.102459</td>\n",
       "      <td>307.0</td>\n",
       "    </tr>\n",
       "    <tr>\n",
       "      <th>2014-12-30</th>\n",
       "      <td>20.4</td>\n",
       "      <td>36.8</td>\n",
       "      <td>4.8</td>\n",
       "      <td>330.0</td>\n",
       "      <td>367.0</td>\n",
       "      <td>5.8</td>\n",
       "      <td>60.691097</td>\n",
       "      <td>985.187382</td>\n",
       "      <td>26.3352</td>\n",
       "      <td>1.102459</td>\n",
       "      <td>367.0</td>\n",
       "    </tr>\n",
       "    <tr>\n",
       "      <th>2014-12-31</th>\n",
       "      <td>12.7</td>\n",
       "      <td>28.7</td>\n",
       "      <td>7.8</td>\n",
       "      <td>137.0</td>\n",
       "      <td>202.0</td>\n",
       "      <td>6.3</td>\n",
       "      <td>60.691097</td>\n",
       "      <td>985.187382</td>\n",
       "      <td>26.3352</td>\n",
       "      <td>1.102459</td>\n",
       "      <td>202.0</td>\n",
       "    </tr>\n",
       "    <tr>\n",
       "      <th>2015-01-01</th>\n",
       "      <td>20.8</td>\n",
       "      <td>66.5</td>\n",
       "      <td>5.2</td>\n",
       "      <td>230.0</td>\n",
       "      <td>382.0</td>\n",
       "      <td>9.9</td>\n",
       "      <td>60.691097</td>\n",
       "      <td>985.187382</td>\n",
       "      <td>26.3352</td>\n",
       "      <td>1.102459</td>\n",
       "      <td>158.0</td>\n",
       "    </tr>\n",
       "    <tr>\n",
       "      <th>2015-01-02</th>\n",
       "      <td>12.7</td>\n",
       "      <td>33.9</td>\n",
       "      <td>6.0</td>\n",
       "      <td>81.0</td>\n",
       "      <td>172.0</td>\n",
       "      <td>4.2</td>\n",
       "      <td>60.691097</td>\n",
       "      <td>985.187382</td>\n",
       "      <td>26.3352</td>\n",
       "      <td>1.102459</td>\n",
       "      <td>172.0</td>\n",
       "    </tr>\n",
       "  </tbody>\n",
       "</table>\n",
       "</div>"
      ],
      "text/plain": [
       "              co   no2   o3   pm10   pm25  so2   humidity    pressure  \\\n",
       "2014-12-29  14.1  36.2  3.2  218.0  307.0  4.2  60.691097  985.187382   \n",
       "2014-12-30  20.4  36.8  4.8  330.0  367.0  5.8  60.691097  985.187382   \n",
       "2014-12-31  12.7  28.7  7.8  137.0  202.0  6.3  60.691097  985.187382   \n",
       "2015-01-01  20.8  66.5  5.2  230.0  382.0  9.9  60.691097  985.187382   \n",
       "2015-01-02  12.7  33.9  6.0   81.0  172.0  4.2  60.691097  985.187382   \n",
       "\n",
       "            temperature  wind-speed  AQI_smoothed_zscore  \n",
       "2014-12-29      26.3352    1.102459                307.0  \n",
       "2014-12-30      26.3352    1.102459                367.0  \n",
       "2014-12-31      26.3352    1.102459                202.0  \n",
       "2015-01-01      26.3352    1.102459                158.0  \n",
       "2015-01-02      26.3352    1.102459                172.0  "
      ]
     },
     "execution_count": 68,
     "metadata": {},
     "output_type": "execute_result"
    }
   ],
   "source": [
    "data.head()"
   ]
  },
  {
   "cell_type": "code",
   "execution_count": 69,
   "id": "8af2d989",
   "metadata": {
    "execution": {
     "iopub.execute_input": "2025-01-27T17:31:41.961326Z",
     "iopub.status.busy": "2025-01-27T17:31:41.960894Z",
     "iopub.status.idle": "2025-01-27T17:31:41.969847Z",
     "shell.execute_reply": "2025-01-27T17:31:41.968768Z"
    },
    "papermill": {
     "duration": 0.053894,
     "end_time": "2025-01-27T17:31:41.971498",
     "exception": false,
     "start_time": "2025-01-27T17:31:41.917604",
     "status": "completed"
    },
    "tags": []
   },
   "outputs": [
    {
     "name": "stdout",
     "output_type": "stream",
     "text": [
      "Index(['co', 'no2', 'o3', 'pm10', 'pm25', 'so2', 'humidity', 'pressure',\n",
      "       'temperature', 'wind-speed', 'AQI_smoothed_zscore'],\n",
      "      dtype='object')\n",
      "Index([], dtype='object')\n"
     ]
    }
   ],
   "source": [
    "num = data.select_dtypes(include=['int16', 'int32', 'int64', 'float16', 'float32', 'float64'])\n",
    "cat = data.select_dtypes(include=['object'])\n",
    "\n",
    "print(num.columns)\n",
    "print(cat.columns)"
   ]
  },
  {
   "cell_type": "code",
   "execution_count": 70,
   "id": "f5c2e97e",
   "metadata": {
    "execution": {
     "iopub.execute_input": "2025-01-27T17:31:42.058153Z",
     "iopub.status.busy": "2025-01-27T17:31:42.057775Z",
     "iopub.status.idle": "2025-01-27T17:31:42.068527Z",
     "shell.execute_reply": "2025-01-27T17:31:42.067283Z"
    },
    "papermill": {
     "duration": 0.054982,
     "end_time": "2025-01-27T17:31:42.070279",
     "exception": false,
     "start_time": "2025-01-27T17:31:42.015297",
     "status": "completed"
    },
    "tags": []
   },
   "outputs": [
    {
     "name": "stdout",
     "output_type": "stream",
     "text": [
      "(2559, 10) (2559,) (640, 10) (640,)\n"
     ]
    }
   ],
   "source": [
    "X = data[['co', 'no2', 'o3', 'pm10', 'pm25', 'so2', 'humidity', 'pressure',\n",
    "       'temperature', 'wind-speed']]\n",
    "\n",
    "y = data['AQI_smoothed_zscore']\n",
    "\n",
    "X_train, X_test, y_train, y_test = train_test_split(X, y, test_size = 0.2, random_state = 42)\n",
    "\n",
    "print(X_train.shape, y_train.shape, X_test.shape, y_test.shape)"
   ]
  },
  {
   "cell_type": "code",
   "execution_count": 71,
   "id": "f38a3439",
   "metadata": {
    "execution": {
     "iopub.execute_input": "2025-01-27T17:31:42.154465Z",
     "iopub.status.busy": "2025-01-27T17:31:42.154082Z",
     "iopub.status.idle": "2025-01-27T17:31:42.159138Z",
     "shell.execute_reply": "2025-01-27T17:31:42.158140Z"
    },
    "papermill": {
     "duration": 0.049365,
     "end_time": "2025-01-27T17:31:42.160839",
     "exception": false,
     "start_time": "2025-01-27T17:31:42.111474",
     "status": "completed"
    },
    "tags": []
   },
   "outputs": [],
   "source": [
    "# Preprocessor without scaling\n",
    "preprocessor = ColumnTransformer(\n",
    "    transformers=[\n",
    "        ('num', 'passthrough', ['co', 'no2', 'o3', 'pm10', 'pm25', 'so2', 'humidity', \n",
    "                                'pressure', 'temperature', 'wind-speed'])\n",
    "    ])\n",
    "# Pipeline\n",
    "pipeline = Pipeline(steps=[\n",
    "    ('preprocessor', preprocessor)\n",
    "])"
   ]
  },
  {
   "cell_type": "markdown",
   "id": "5ba08de3",
   "metadata": {
    "papermill": {
     "duration": 0.04176,
     "end_time": "2025-01-27T17:31:42.244815",
     "exception": false,
     "start_time": "2025-01-27T17:31:42.203055",
     "status": "completed"
    },
    "tags": []
   },
   "source": [
    "# **4.2. Model Training & Testing**"
   ]
  },
  {
   "cell_type": "markdown",
   "id": "937801e3",
   "metadata": {
    "papermill": {
     "duration": 0.04216,
     "end_time": "2025-01-27T17:31:42.330876",
     "exception": false,
     "start_time": "2025-01-27T17:31:42.288716",
     "status": "completed"
    },
    "tags": []
   },
   "source": [
    "## **4.2.1. LinearRegression**"
   ]
  },
  {
   "cell_type": "code",
   "execution_count": 72,
   "id": "02be50d4",
   "metadata": {
    "execution": {
     "iopub.execute_input": "2025-01-27T17:31:42.417465Z",
     "iopub.status.busy": "2025-01-27T17:31:42.417110Z",
     "iopub.status.idle": "2025-01-27T17:31:42.431367Z",
     "shell.execute_reply": "2025-01-27T17:31:42.430050Z"
    },
    "papermill": {
     "duration": 0.060846,
     "end_time": "2025-01-27T17:31:42.433336",
     "exception": false,
     "start_time": "2025-01-27T17:31:42.372490",
     "status": "completed"
    },
    "tags": []
   },
   "outputs": [],
   "source": [
    "# training with LinearRegression\n",
    "\n",
    "lm = LinearRegression(fit_intercept = True)\n",
    "\n",
    "pipeline = Pipeline(steps=[('preprocessor', preprocessor), ('regressor', lm)])\n",
    "\n",
    "# Fit the pipeline to the training data\n",
    "pipeline.fit(X_train,y_train)\n",
    "\n",
    "# Predict on the training and test datasets\n",
    "y_pred_train_lm = pipeline.predict(X_train)\n",
    "y_pred_test_lm = pipeline.predict(X_test)"
   ]
  },
  {
   "cell_type": "code",
   "execution_count": 73,
   "id": "a6100d2c",
   "metadata": {
    "execution": {
     "iopub.execute_input": "2025-01-27T17:31:42.520647Z",
     "iopub.status.busy": "2025-01-27T17:31:42.520306Z",
     "iopub.status.idle": "2025-01-27T17:31:42.538048Z",
     "shell.execute_reply": "2025-01-27T17:31:42.536843Z"
    },
    "papermill": {
     "duration": 0.064079,
     "end_time": "2025-01-27T17:31:42.539745",
     "exception": false,
     "start_time": "2025-01-27T17:31:42.475666",
     "status": "completed"
    },
    "tags": []
   },
   "outputs": [
    {
     "name": "stdout",
     "output_type": "stream",
     "text": [
      "The r2 Accuracy on the training dataset prediction is:  0.820101251986455\n",
      "The r2 Accuracy on the test dataset prediction is:  0.8109701883481274\n",
      "\n",
      "The RMSE  on the training dataset is:  25.918017419593703\n",
      "The RMSE  on the testing dataset is:  25.59058230607185\n",
      "\n",
      "The MAE  on the training dataset is:  11.834615790056304\n",
      "The MAE  on the testing dataset is:  11.513399614030684\n",
      "\n",
      "The MSE  on the training dataset is:  671.7436269623627\n",
      "The MSE  on the testing dataset is:  654.8779027638376\n"
     ]
    }
   ],
   "source": [
    "# Model Accuracy on training and testing dataset\n",
    "\n",
    "print('The r2 Accuracy on the training dataset prediction is: ',r2_score(y_train,y_pred_train_lm) )\n",
    "print('The r2 Accuracy on the test dataset prediction is: ',r2_score(y_test,y_pred_test_lm) )\n",
    "\n",
    "print(\"\")\n",
    "\n",
    "# The Root Mean Squared Error (RMSE)\n",
    "print('The RMSE  on the training dataset is: ',sqrt(mean_squared_error(y_train, y_pred_train_lm)))\n",
    "print('The RMSE  on the testing dataset is: ',sqrt(mean_squared_error(y_test, y_pred_test_lm)))\n",
    "\n",
    "print(\"\")\n",
    "# The Mean Absolute Error (MAE)\n",
    "print('The MAE  on the training dataset is: ',mean_absolute_error(y_train, y_pred_train_lm))\n",
    "print('The MAE  on the testing dataset is: ',mean_absolute_error(y_test, y_pred_test_lm))\n",
    "\n",
    "print(\"\")\n",
    "# The Mean Squared Error (MSE)\n",
    "print('The MSE  on the training dataset is: ',mean_squared_error(y_train, y_pred_train_lm))\n",
    "print('The MSE  on the testing dataset is: ',mean_squared_error(y_test, y_pred_test_lm))"
   ]
  },
  {
   "cell_type": "markdown",
   "id": "74e48d76",
   "metadata": {
    "papermill": {
     "duration": 0.041974,
     "end_time": "2025-01-27T17:31:42.624321",
     "exception": false,
     "start_time": "2025-01-27T17:31:42.582347",
     "status": "completed"
    },
    "tags": []
   },
   "source": [
    "## **4.2.2.  KNeighborsRegressor**"
   ]
  },
  {
   "cell_type": "code",
   "execution_count": 74,
   "id": "4b357d7b",
   "metadata": {
    "execution": {
     "iopub.execute_input": "2025-01-27T17:31:42.709453Z",
     "iopub.status.busy": "2025-01-27T17:31:42.709121Z",
     "iopub.status.idle": "2025-01-27T17:31:42.747403Z",
     "shell.execute_reply": "2025-01-27T17:31:42.746063Z"
    },
    "papermill": {
     "duration": 0.082559,
     "end_time": "2025-01-27T17:31:42.749348",
     "exception": false,
     "start_time": "2025-01-27T17:31:42.666789",
     "status": "completed"
    },
    "tags": []
   },
   "outputs": [],
   "source": [
    "# training with KNeighborsRegressor\n",
    "\n",
    "neigh = KNeighborsRegressor(n_neighbors=2)\n",
    "\n",
    "pipeline = Pipeline(steps=[('preprocessor', preprocessor), ('regressor', neigh)])\n",
    "\n",
    "# Fit the pipeline to the training data\n",
    "pipeline.fit(X_train,y_train)\n",
    "\n",
    "# Predict on the training and test datasets\n",
    "y_pred_train_knn = pipeline.predict(X_train)\n",
    "y_pred_test_knn = pipeline.predict(X_test)"
   ]
  },
  {
   "cell_type": "code",
   "execution_count": 75,
   "id": "e8753b58",
   "metadata": {
    "execution": {
     "iopub.execute_input": "2025-01-27T17:31:42.834659Z",
     "iopub.status.busy": "2025-01-27T17:31:42.834329Z",
     "iopub.status.idle": "2025-01-27T17:31:42.849592Z",
     "shell.execute_reply": "2025-01-27T17:31:42.848291Z"
    },
    "papermill": {
     "duration": 0.060912,
     "end_time": "2025-01-27T17:31:42.851443",
     "exception": false,
     "start_time": "2025-01-27T17:31:42.790531",
     "status": "completed"
    },
    "tags": []
   },
   "outputs": [
    {
     "name": "stdout",
     "output_type": "stream",
     "text": [
      "The R2 score on the training dataset prediction is:  0.993585831293998\n",
      "The R2 score on the test dataset prediction is:  0.9975461457600426\n",
      "\n",
      "The RMSE  on the training dataset is:  4.893931612475689\n",
      "The RMSE  on the testing dataset is:  2.9156769154006072\n",
      "\n",
      "The MAE  on the training dataset is:  1.2985541227041812\n",
      "The MAE  on the testing dataset is:  1.75390625\n",
      "\n",
      "The MSE  on the training dataset is:  23.950566627588902\n",
      "The MSE  on the testing dataset is:  8.501171875\n"
     ]
    }
   ],
   "source": [
    "# Model Accuracy on training dataset\n",
    "print('The R2 score on the training dataset prediction is: ', r2_score(y_train,y_pred_train_knn))\n",
    "print('The R2 score on the test dataset prediction is: ', r2_score(y_test, y_pred_test_knn))\n",
    "print(\"\")\n",
    "\n",
    "# The Root Mean Squared Error (RMSE)\n",
    "print('The RMSE  on the training dataset is: ',sqrt(mean_squared_error(y_train,y_pred_train_knn)))\n",
    "print('The RMSE  on the testing dataset is: ',sqrt(mean_squared_error(y_test, y_pred_test_knn)))\n",
    "\n",
    "print(\"\")\n",
    "# The Mean Absolute Error (MAE)\n",
    "print('The MAE  on the training dataset is: ',mean_absolute_error(y_train,y_pred_train_knn))\n",
    "print('The MAE  on the testing dataset is: ',mean_absolute_error(y_test, y_pred_test_knn))\n",
    "\n",
    "print(\"\")\n",
    "# The Mean Squared Error (MSE)\n",
    "print('The MSE  on the training dataset is: ',mean_squared_error(y_train, y_pred_train_knn))\n",
    "print('The MSE  on the testing dataset is: ',mean_squared_error(y_test, y_pred_test_knn))"
   ]
  },
  {
   "cell_type": "markdown",
   "id": "316105f7",
   "metadata": {
    "papermill": {
     "duration": 0.042502,
     "end_time": "2025-01-27T17:31:42.936194",
     "exception": false,
     "start_time": "2025-01-27T17:31:42.893692",
     "status": "completed"
    },
    "tags": []
   },
   "source": [
    "## **4.2.3.  Random Forest Regressor**"
   ]
  },
  {
   "cell_type": "code",
   "execution_count": 76,
   "id": "40294913",
   "metadata": {
    "execution": {
     "iopub.execute_input": "2025-01-27T17:31:43.024199Z",
     "iopub.status.busy": "2025-01-27T17:31:43.023797Z",
     "iopub.status.idle": "2025-01-27T17:31:44.034849Z",
     "shell.execute_reply": "2025-01-27T17:31:44.033006Z"
    },
    "papermill": {
     "duration": 1.058346,
     "end_time": "2025-01-27T17:31:44.037151",
     "exception": false,
     "start_time": "2025-01-27T17:31:42.978805",
     "status": "completed"
    },
    "tags": []
   },
   "outputs": [],
   "source": [
    "# Training with random forest regressor\n",
    "random = RandomForestRegressor()\n",
    "\n",
    "pipeline = Pipeline(steps=[('preprocessor', preprocessor), ('regressor', random)])\n",
    "\n",
    "# Fit the pipeline to the training data\n",
    "pipeline.fit(X_train,y_train)\n",
    "\n",
    "# Predict on the training and test datasets\n",
    "y_pred_train_random = pipeline.predict(X_train)\n",
    "y_pred_test_random = pipeline.predict(X_test)"
   ]
  },
  {
   "cell_type": "code",
   "execution_count": 77,
   "id": "3abced31",
   "metadata": {
    "execution": {
     "iopub.execute_input": "2025-01-27T17:31:44.130607Z",
     "iopub.status.busy": "2025-01-27T17:31:44.130157Z",
     "iopub.status.idle": "2025-01-27T17:31:44.146179Z",
     "shell.execute_reply": "2025-01-27T17:31:44.144640Z"
    },
    "papermill": {
     "duration": 0.064304,
     "end_time": "2025-01-27T17:31:44.148046",
     "exception": false,
     "start_time": "2025-01-27T17:31:44.083742",
     "status": "completed"
    },
    "tags": []
   },
   "outputs": [
    {
     "name": "stdout",
     "output_type": "stream",
     "text": [
      "The R2 score on the training dataset prediction is:  0.9991076630201373\n",
      "The R2 score on the test dataset prediction is:  0.9803591301626526\n",
      "\n",
      "The RMSE  on the training dataset is:  1.8253752284124378\n",
      "The RMSE  on the testing dataset is:  8.248887415509438\n",
      "\n",
      "The MAE  on the training dataset is:  0.3217311449785072\n",
      "The MAE  on the testing dataset is:  0.8948281249999998\n",
      "\n",
      "The MSE  on the training dataset is:  3.3319947245017594\n",
      "The MSE  on the testing dataset is:  68.04414359374998\n"
     ]
    }
   ],
   "source": [
    "# Model Accuracy on training dataset\n",
    "print('The R2 score on the training dataset prediction is: ', r2_score(y_train,y_pred_train_random))\n",
    "print('The R2 score on the test dataset prediction is: ', r2_score(y_test, y_pred_test_random))\n",
    "print(\"\")\n",
    "\n",
    "# The Root Mean Squared Error (RMSE)\n",
    "print('The RMSE  on the training dataset is: ',sqrt(mean_squared_error(y_train,y_pred_train_random)))\n",
    "print('The RMSE  on the testing dataset is: ',sqrt(mean_squared_error(y_test, y_pred_test_random)))\n",
    "\n",
    "print(\"\")\n",
    "# The Mean Absolute Error (MAE)\n",
    "print('The MAE  on the training dataset is: ',mean_absolute_error(y_train,y_pred_train_random))\n",
    "print('The MAE  on the testing dataset is: ',mean_absolute_error(y_test, y_pred_test_random))\n",
    "\n",
    "print(\"\")\n",
    "# The Mean Squared Error (MSE)\n",
    "print('The MSE  on the training dataset is: ',mean_squared_error(y_train, y_pred_train_random))\n",
    "print('The MSE  on the testing dataset is: ',mean_squared_error(y_test, y_pred_test_random))"
   ]
  },
  {
   "cell_type": "markdown",
   "id": "37a5508f",
   "metadata": {
    "papermill": {
     "duration": 0.045347,
     "end_time": "2025-01-27T17:31:44.235137",
     "exception": false,
     "start_time": "2025-01-27T17:31:44.189790",
     "status": "completed"
    },
    "tags": []
   },
   "source": [
    "## **4.2.4.  Decision Tree regressor**"
   ]
  },
  {
   "cell_type": "code",
   "execution_count": 78,
   "id": "03b30bbe",
   "metadata": {
    "execution": {
     "iopub.execute_input": "2025-01-27T17:31:44.329711Z",
     "iopub.status.busy": "2025-01-27T17:31:44.329367Z",
     "iopub.status.idle": "2025-01-27T17:31:44.352900Z",
     "shell.execute_reply": "2025-01-27T17:31:44.351789Z"
    },
    "papermill": {
     "duration": 0.071903,
     "end_time": "2025-01-27T17:31:44.355028",
     "exception": false,
     "start_time": "2025-01-27T17:31:44.283125",
     "status": "completed"
    },
    "tags": []
   },
   "outputs": [],
   "source": [
    "# Training with Decision Tree regressor\n",
    "dt = DecisionTreeRegressor()\n",
    "\n",
    "pipeline = Pipeline(steps=[('preprocessor', preprocessor), ('regressor', dt)])\n",
    "\n",
    "# Fit the pipeline to the training data\n",
    "pipeline.fit(X_train,y_train)\n",
    "\n",
    "# Predict on the training and test datasets\n",
    "y_pred_train_dt = pipeline.predict(X_train)\n",
    "y_pred_test_dt = pipeline.predict(X_test)"
   ]
  },
  {
   "cell_type": "code",
   "execution_count": 79,
   "id": "d1bc4071",
   "metadata": {
    "execution": {
     "iopub.execute_input": "2025-01-27T17:31:44.440896Z",
     "iopub.status.busy": "2025-01-27T17:31:44.440535Z",
     "iopub.status.idle": "2025-01-27T17:31:44.456420Z",
     "shell.execute_reply": "2025-01-27T17:31:44.455232Z"
    },
    "papermill": {
     "duration": 0.060462,
     "end_time": "2025-01-27T17:31:44.458137",
     "exception": false,
     "start_time": "2025-01-27T17:31:44.397675",
     "status": "completed"
    },
    "tags": []
   },
   "outputs": [
    {
     "name": "stdout",
     "output_type": "stream",
     "text": [
      "The R2 score on the training dataset prediction is:  1.0\n",
      "The R2 score on the test dataset prediction is:  0.9708442021151412\n",
      "\n",
      "The RMSE  on the training dataset is:  0.0\n",
      "The RMSE  on the testing dataset is:  10.050264300007239\n",
      "\n",
      "The MAE  on the training dataset is:  0.0\n",
      "The MAE  on the testing dataset is:  0.8984375\n",
      "\n",
      "The MSE  on the training dataset is:  0.0\n",
      "The MSE  on the testing dataset is:  101.0078125\n"
     ]
    }
   ],
   "source": [
    "# Model Accuracy on training dataset\n",
    "print('The R2 score on the training dataset prediction is: ', r2_score(y_train,y_pred_train_dt))\n",
    "print('The R2 score on the test dataset prediction is: ', r2_score(y_test, y_pred_test_dt))\n",
    "print(\"\")\n",
    "\n",
    "# The Root Mean Squared Error (RMSE)\n",
    "print('The RMSE  on the training dataset is: ',sqrt(mean_squared_error(y_train,y_pred_train_dt)))\n",
    "print('The RMSE  on the testing dataset is: ',sqrt(mean_squared_error(y_test, y_pred_test_dt)))\n",
    "\n",
    "print(\"\")\n",
    "# The Mean Absolute Error (MAE)\n",
    "print('The MAE  on the training dataset is: ',mean_absolute_error(y_train,y_pred_train_dt))\n",
    "print('The MAE  on the testing dataset is: ',mean_absolute_error(y_test, y_pred_test_dt))\n",
    "\n",
    "print(\"\")\n",
    "# The Mean Squared Error (MSE)\n",
    "print('The MSE  on the training dataset is: ',mean_squared_error(y_train, y_pred_train_dt))\n",
    "print('The MSE  on the testing dataset is: ',mean_squared_error(y_test, y_pred_test_dt))"
   ]
  },
  {
   "cell_type": "markdown",
   "id": "40031d02",
   "metadata": {
    "papermill": {
     "duration": 0.04562,
     "end_time": "2025-01-27T17:31:44.551880",
     "exception": false,
     "start_time": "2025-01-27T17:31:44.506260",
     "status": "completed"
    },
    "tags": []
   },
   "source": [
    "## **4.2.5.  Support Vector Machine regressor**"
   ]
  },
  {
   "cell_type": "code",
   "execution_count": 80,
   "id": "e05a9fc3",
   "metadata": {
    "execution": {
     "iopub.execute_input": "2025-01-27T17:31:44.647554Z",
     "iopub.status.busy": "2025-01-27T17:31:44.647006Z",
     "iopub.status.idle": "2025-01-27T17:32:17.941387Z",
     "shell.execute_reply": "2025-01-27T17:32:17.940495Z"
    },
    "papermill": {
     "duration": 33.348511,
     "end_time": "2025-01-27T17:32:17.943309",
     "exception": false,
     "start_time": "2025-01-27T17:31:44.594798",
     "status": "completed"
    },
    "tags": []
   },
   "outputs": [],
   "source": [
    "# Training with Support Vector Machine regressor\n",
    "svr = SVR(kernel='linear')\n",
    "\n",
    "pipeline = Pipeline(steps=[('preprocessor', preprocessor), ('regressor', svr)])\n",
    "\n",
    "# Fit the pipeline to the training data\n",
    "pipeline.fit(X_train, y_train)\n",
    "\n",
    "# Predict on the training and test datasets\n",
    "y_pred_train_svr = pipeline.predict(X_train)\n",
    "y_pred_test_svr = pipeline.predict(X_test)"
   ]
  },
  {
   "cell_type": "code",
   "execution_count": 81,
   "id": "1c6dbff6",
   "metadata": {
    "execution": {
     "iopub.execute_input": "2025-01-27T17:32:18.030230Z",
     "iopub.status.busy": "2025-01-27T17:32:18.029834Z",
     "iopub.status.idle": "2025-01-27T17:32:18.045890Z",
     "shell.execute_reply": "2025-01-27T17:32:18.044624Z"
    },
    "papermill": {
     "duration": 0.062997,
     "end_time": "2025-01-27T17:32:18.047837",
     "exception": false,
     "start_time": "2025-01-27T17:32:17.984840",
     "status": "completed"
    },
    "tags": []
   },
   "outputs": [
    {
     "name": "stdout",
     "output_type": "stream",
     "text": [
      "The R2 score on the training dataset prediction is:  0.7677107064672399\n",
      "The R2 score on the test dataset prediction is:  0.7356326067742582\n",
      "\n",
      "The RMSE on the training dataset is:  29.451153110814364\n",
      "The RMSE on the testing dataset is:  30.263486667788925\n",
      "\n",
      "The MAE on the training dataset is:  7.778414713615426\n",
      "The MAE on the testing dataset is:  8.000240231724629\n",
      "\n",
      "The MSE  on the training dataset is:  867.3704195566306\n",
      "The MSE  on the testing dataset is:  915.8786252914381\n"
     ]
    }
   ],
   "source": [
    "# Model Accuracy on training dataset\n",
    "print('The R2 score on the training dataset prediction is: ', r2_score(y_train, y_pred_train_svr))\n",
    "print('The R2 score on the test dataset prediction is: ', r2_score(y_test, y_pred_test_svr))\n",
    "print(\"\")\n",
    "\n",
    "# The Root Mean Squared Error (RMSE)\n",
    "print('The RMSE on the training dataset is: ', sqrt(mean_squared_error(y_train, y_pred_train_svr)))\n",
    "print('The RMSE on the testing dataset is: ', sqrt(mean_squared_error(y_test, y_pred_test_svr)))\n",
    "print(\"\")\n",
    "\n",
    "# The Mean Absolute Error (MAE)\n",
    "print('The MAE on the training dataset is: ', mean_absolute_error(y_train, y_pred_train_svr))\n",
    "print('The MAE on the testing dataset is: ', mean_absolute_error(y_test, y_pred_test_svr))\n",
    "\n",
    "print(\"\")\n",
    "# The Mean Squared Error (MSE)\n",
    "print('The MSE  on the training dataset is: ',mean_squared_error(y_train, y_pred_train_svr))\n",
    "print('The MSE  on the testing dataset is: ',mean_squared_error(y_test, y_pred_test_svr))"
   ]
  },
  {
   "cell_type": "markdown",
   "id": "39df2f93",
   "metadata": {
    "papermill": {
     "duration": 0.041376,
     "end_time": "2025-01-27T17:32:18.131266",
     "exception": false,
     "start_time": "2025-01-27T17:32:18.089890",
     "status": "completed"
    },
    "tags": []
   },
   "source": [
    "## **4.2.6.  XGBoost Regressor**"
   ]
  },
  {
   "cell_type": "code",
   "execution_count": 82,
   "id": "2d95a3e6",
   "metadata": {
    "execution": {
     "iopub.execute_input": "2025-01-27T17:32:18.215571Z",
     "iopub.status.busy": "2025-01-27T17:32:18.215218Z",
     "iopub.status.idle": "2025-01-27T17:32:18.353869Z",
     "shell.execute_reply": "2025-01-27T17:32:18.353038Z"
    },
    "papermill": {
     "duration": 0.183343,
     "end_time": "2025-01-27T17:32:18.355981",
     "exception": false,
     "start_time": "2025-01-27T17:32:18.172638",
     "status": "completed"
    },
    "tags": []
   },
   "outputs": [],
   "source": [
    "# Training with XGBoost regressor\n",
    "xgb_regressor = XGBRegressor(objective='reg:squarederror')\n",
    "\n",
    "pipeline = Pipeline(steps=[('preprocessor', preprocessor), ('regressor', xgb_regressor)])\n",
    "\n",
    "# Fit the pipeline to the training data\n",
    "pipeline.fit(X_train, y_train)\n",
    "\n",
    "# Predict on the training and test datasets\n",
    "y_pred_train_xgb = pipeline.predict(X_train)\n",
    "y_pred_test_xgb = pipeline.predict(X_test)"
   ]
  },
  {
   "cell_type": "code",
   "execution_count": 83,
   "id": "ef6d3ff6",
   "metadata": {
    "execution": {
     "iopub.execute_input": "2025-01-27T17:32:18.500430Z",
     "iopub.status.busy": "2025-01-27T17:32:18.500088Z",
     "iopub.status.idle": "2025-01-27T17:32:18.515059Z",
     "shell.execute_reply": "2025-01-27T17:32:18.514033Z"
    },
    "papermill": {
     "duration": 0.058337,
     "end_time": "2025-01-27T17:32:18.516749",
     "exception": false,
     "start_time": "2025-01-27T17:32:18.458412",
     "status": "completed"
    },
    "tags": []
   },
   "outputs": [
    {
     "name": "stdout",
     "output_type": "stream",
     "text": [
      "The R2 score on the training dataset prediction is:  0.9999929342008133\n",
      "The R2 score on the test dataset prediction is:  0.9682686702850274\n",
      "\n",
      "The RMSE on the training dataset is:  0.1624307883604559\n",
      "The RMSE on the testing dataset is:  10.484775923423772\n",
      "\n",
      "The MAE on the training dataset is:  0.09519905576299717\n",
      "The MAE on the testing dataset is:  1.5003108382225037\n",
      "\n",
      "The MSE  on the training dataset is:  0.026383761007399222\n",
      "The MSE  on the testing dataset is:  109.93052616440681\n"
     ]
    }
   ],
   "source": [
    "# Model Accuracy on training dataset\n",
    "print('The R2 score on the training dataset prediction is: ', r2_score(y_train, y_pred_train_xgb))\n",
    "print('The R2 score on the test dataset prediction is: ', r2_score(y_test, y_pred_test_xgb))\n",
    "print(\"\")\n",
    "\n",
    "# The Root Mean Squared Error (RMSE)\n",
    "print('The RMSE on the training dataset is: ', sqrt(mean_squared_error(y_train, y_pred_train_xgb)))\n",
    "print('The RMSE on the testing dataset is: ', sqrt(mean_squared_error(y_test, y_pred_test_xgb)))\n",
    "print(\"\")\n",
    "\n",
    "# The Mean Absolute Error (MAE)\n",
    "print('The MAE on the training dataset is: ', mean_absolute_error(y_train, y_pred_train_xgb))\n",
    "print('The MAE on the testing dataset is: ', mean_absolute_error(y_test, y_pred_test_xgb))\n",
    "\n",
    "print(\"\")\n",
    "# The Mean Squared Error (MSE)\n",
    "print('The MSE  on the training dataset is: ',mean_squared_error(y_train, y_pred_train_xgb))\n",
    "print('The MSE  on the testing dataset is: ',mean_squared_error(y_test, y_pred_test_xgb))"
   ]
  },
  {
   "cell_type": "markdown",
   "id": "7035e655",
   "metadata": {
    "papermill": {
     "duration": 0.040779,
     "end_time": "2025-01-27T17:32:18.599243",
     "exception": false,
     "start_time": "2025-01-27T17:32:18.558464",
     "status": "completed"
    },
    "tags": []
   },
   "source": [
    "## **4.2.7.  Neural Network Regressor**"
   ]
  },
  {
   "cell_type": "code",
   "execution_count": 84,
   "id": "0017a127",
   "metadata": {
    "execution": {
     "iopub.execute_input": "2025-01-27T17:32:18.685139Z",
     "iopub.status.busy": "2025-01-27T17:32:18.684652Z",
     "iopub.status.idle": "2025-01-27T17:32:20.522678Z",
     "shell.execute_reply": "2025-01-27T17:32:20.521750Z"
    },
    "papermill": {
     "duration": 1.882276,
     "end_time": "2025-01-27T17:32:20.524624",
     "exception": false,
     "start_time": "2025-01-27T17:32:18.642348",
     "status": "completed"
    },
    "tags": []
   },
   "outputs": [],
   "source": [
    "# training with neural network regressor\n",
    "\n",
    "nn = MLPRegressor(hidden_layer_sizes=(8,), activation='relu', solver='adam', max_iter=2000, learning_rate_init=0.001)\n",
    "\n",
    "pipeline = Pipeline(steps=[('preprocessor', preprocessor), ('regressor', nn)])\n",
    "\n",
    "# Fit the pipeline to the training data\n",
    "pipeline.fit(X_train,y_train)\n",
    "\n",
    "# Predict on the training and test datasets\n",
    "y_pred_train_nn = pipeline.predict(X_train)\n",
    "y_pred_test_nn = pipeline.predict(X_test)"
   ]
  },
  {
   "cell_type": "code",
   "execution_count": 85,
   "id": "07e534c6",
   "metadata": {
    "execution": {
     "iopub.execute_input": "2025-01-27T17:32:20.612042Z",
     "iopub.status.busy": "2025-01-27T17:32:20.611600Z",
     "iopub.status.idle": "2025-01-27T17:32:20.631383Z",
     "shell.execute_reply": "2025-01-27T17:32:20.629936Z"
    },
    "papermill": {
     "duration": 0.066618,
     "end_time": "2025-01-27T17:32:20.633224",
     "exception": false,
     "start_time": "2025-01-27T17:32:20.566606",
     "status": "completed"
    },
    "tags": []
   },
   "outputs": [
    {
     "name": "stdout",
     "output_type": "stream",
     "text": [
      "The R2 score on the training dataset prediction is:  0.9384594496010764\n",
      "The R2 score on the test dataset prediction is:  0.9324902882630374\n",
      "\n",
      "The RMSE on the training dataset is:  15.1589246774321\n",
      "The RMSE on the testing dataset is:  15.29319211506848\n",
      "\n",
      "The MAE on the training dataset is:  5.765171922023668\n",
      "The MAE on the testing dataset is:  5.558166931540594\n",
      "\n",
      "The MSE  on the training dataset is:  229.79299737605993\n",
      "The MSE  on the testing dataset is:  233.88172506839274\n"
     ]
    }
   ],
   "source": [
    "# Model Accuracy on training dataset\n",
    "print('The R2 score on the training dataset prediction is: ', r2_score(y_train, y_pred_train_nn))\n",
    "print('The R2 score on the test dataset prediction is: ', r2_score(y_test, y_pred_test_nn))\n",
    "print(\"\")\n",
    "\n",
    "# The Root Mean Squared Error (RMSE)\n",
    "print('The RMSE on the training dataset is: ', sqrt(mean_squared_error(y_train, y_pred_train_nn)))\n",
    "print('The RMSE on the testing dataset is: ', sqrt(mean_squared_error(y_test, y_pred_test_nn)))\n",
    "print(\"\")\n",
    "\n",
    "# The Mean Absolute Error (MAE)\n",
    "print('The MAE on the training dataset is: ', mean_absolute_error(y_train, y_pred_train_nn))\n",
    "print('The MAE on the testing dataset is: ', mean_absolute_error(y_test, y_pred_test_nn))\n",
    "\n",
    "print(\"\")\n",
    "# The Mean Squared Error (MSE)\n",
    "print('The MSE  on the training dataset is: ',mean_squared_error(y_train, y_pred_train_nn))\n",
    "print('The MSE  on the testing dataset is: ',mean_squared_error(y_test, y_pred_test_nn))"
   ]
  },
  {
   "cell_type": "code",
   "execution_count": null,
   "id": "e1a0e225",
   "metadata": {
    "papermill": {
     "duration": 0.045185,
     "end_time": "2025-01-27T17:32:20.720635",
     "exception": false,
     "start_time": "2025-01-27T17:32:20.675450",
     "status": "completed"
    },
    "tags": []
   },
   "outputs": [],
   "source": []
  },
  {
   "cell_type": "code",
   "execution_count": null,
   "id": "0fb1356e",
   "metadata": {
    "papermill": {
     "duration": 0.042216,
     "end_time": "2025-01-27T17:32:20.807328",
     "exception": false,
     "start_time": "2025-01-27T17:32:20.765112",
     "status": "completed"
    },
    "tags": []
   },
   "outputs": [],
   "source": []
  },
  {
   "cell_type": "code",
   "execution_count": null,
   "id": "a93de44d",
   "metadata": {
    "papermill": {
     "duration": 0.043542,
     "end_time": "2025-01-27T17:32:20.895036",
     "exception": false,
     "start_time": "2025-01-27T17:32:20.851494",
     "status": "completed"
    },
    "tags": []
   },
   "outputs": [],
   "source": []
  },
  {
   "cell_type": "markdown",
   "id": "15e702a6",
   "metadata": {
    "papermill": {
     "duration": 0.041575,
     "end_time": "2025-01-27T17:32:20.982738",
     "exception": false,
     "start_time": "2025-01-27T17:32:20.941163",
     "status": "completed"
    },
    "tags": []
   },
   "source": [
    "# **5.1. Splitting & Preprocessing the Raw Data(AQI_smoothed_rolling)**"
   ]
  },
  {
   "cell_type": "markdown",
   "id": "539d5ed5",
   "metadata": {
    "papermill": {
     "duration": 0.042176,
     "end_time": "2025-01-27T17:32:21.067711",
     "exception": false,
     "start_time": "2025-01-27T17:32:21.025535",
     "status": "completed"
    },
    "tags": []
   },
   "source": [
    "AQI_smoothed_rolling"
   ]
  },
  {
   "cell_type": "code",
   "execution_count": 86,
   "id": "1e76e89d",
   "metadata": {
    "execution": {
     "iopub.execute_input": "2025-01-27T17:32:21.153082Z",
     "iopub.status.busy": "2025-01-27T17:32:21.152691Z",
     "iopub.status.idle": "2025-01-27T17:32:21.173388Z",
     "shell.execute_reply": "2025-01-27T17:32:21.172221Z"
    },
    "papermill": {
     "duration": 0.065497,
     "end_time": "2025-01-27T17:32:21.175335",
     "exception": false,
     "start_time": "2025-01-27T17:32:21.109838",
     "status": "completed"
    },
    "tags": []
   },
   "outputs": [
    {
     "data": {
      "text/html": [
       "<div>\n",
       "<style scoped>\n",
       "    .dataframe tbody tr th:only-of-type {\n",
       "        vertical-align: middle;\n",
       "    }\n",
       "\n",
       "    .dataframe tbody tr th {\n",
       "        vertical-align: top;\n",
       "    }\n",
       "\n",
       "    .dataframe thead th {\n",
       "        text-align: right;\n",
       "    }\n",
       "</style>\n",
       "<table border=\"1\" class=\"dataframe\">\n",
       "  <thead>\n",
       "    <tr style=\"text-align: right;\">\n",
       "      <th></th>\n",
       "      <th>co</th>\n",
       "      <th>no2</th>\n",
       "      <th>o3</th>\n",
       "      <th>pm10</th>\n",
       "      <th>pm25</th>\n",
       "      <th>so2</th>\n",
       "      <th>humidity</th>\n",
       "      <th>pressure</th>\n",
       "      <th>temperature</th>\n",
       "      <th>wind-speed</th>\n",
       "      <th>Country_City</th>\n",
       "      <th>Checks</th>\n",
       "      <th>AQI</th>\n",
       "      <th>AQI_smoothed_iqr</th>\n",
       "      <th>AQI_smoothed_zscore</th>\n",
       "      <th>AQI_smoothed_rolling</th>\n",
       "    </tr>\n",
       "  </thead>\n",
       "  <tbody>\n",
       "    <tr>\n",
       "      <th>2014-12-29</th>\n",
       "      <td>14.1</td>\n",
       "      <td>36.2</td>\n",
       "      <td>3.2</td>\n",
       "      <td>218.0</td>\n",
       "      <td>307.0</td>\n",
       "      <td>4.2</td>\n",
       "      <td>60.691097</td>\n",
       "      <td>985.187382</td>\n",
       "      <td>26.3352</td>\n",
       "      <td>1.102459</td>\n",
       "      <td>India_Delhi</td>\n",
       "      <td>6</td>\n",
       "      <td>307.0</td>\n",
       "      <td>307.0</td>\n",
       "      <td>307.0</td>\n",
       "      <td>307.0</td>\n",
       "    </tr>\n",
       "    <tr>\n",
       "      <th>2014-12-30</th>\n",
       "      <td>20.4</td>\n",
       "      <td>36.8</td>\n",
       "      <td>4.8</td>\n",
       "      <td>330.0</td>\n",
       "      <td>367.0</td>\n",
       "      <td>5.8</td>\n",
       "      <td>60.691097</td>\n",
       "      <td>985.187382</td>\n",
       "      <td>26.3352</td>\n",
       "      <td>1.102459</td>\n",
       "      <td>India_Delhi</td>\n",
       "      <td>6</td>\n",
       "      <td>367.0</td>\n",
       "      <td>367.0</td>\n",
       "      <td>367.0</td>\n",
       "      <td>367.0</td>\n",
       "    </tr>\n",
       "    <tr>\n",
       "      <th>2014-12-31</th>\n",
       "      <td>12.7</td>\n",
       "      <td>28.7</td>\n",
       "      <td>7.8</td>\n",
       "      <td>137.0</td>\n",
       "      <td>202.0</td>\n",
       "      <td>6.3</td>\n",
       "      <td>60.691097</td>\n",
       "      <td>985.187382</td>\n",
       "      <td>26.3352</td>\n",
       "      <td>1.102459</td>\n",
       "      <td>India_Delhi</td>\n",
       "      <td>6</td>\n",
       "      <td>202.0</td>\n",
       "      <td>202.0</td>\n",
       "      <td>202.0</td>\n",
       "      <td>202.0</td>\n",
       "    </tr>\n",
       "    <tr>\n",
       "      <th>2015-01-01</th>\n",
       "      <td>20.8</td>\n",
       "      <td>66.5</td>\n",
       "      <td>5.2</td>\n",
       "      <td>230.0</td>\n",
       "      <td>382.0</td>\n",
       "      <td>9.9</td>\n",
       "      <td>60.691097</td>\n",
       "      <td>985.187382</td>\n",
       "      <td>26.3352</td>\n",
       "      <td>1.102459</td>\n",
       "      <td>India_Delhi</td>\n",
       "      <td>6</td>\n",
       "      <td>382.0</td>\n",
       "      <td>382.0</td>\n",
       "      <td>158.0</td>\n",
       "      <td>382.0</td>\n",
       "    </tr>\n",
       "    <tr>\n",
       "      <th>2015-01-02</th>\n",
       "      <td>12.7</td>\n",
       "      <td>33.9</td>\n",
       "      <td>6.0</td>\n",
       "      <td>81.0</td>\n",
       "      <td>172.0</td>\n",
       "      <td>4.2</td>\n",
       "      <td>60.691097</td>\n",
       "      <td>985.187382</td>\n",
       "      <td>26.3352</td>\n",
       "      <td>1.102459</td>\n",
       "      <td>India_Delhi</td>\n",
       "      <td>6</td>\n",
       "      <td>172.0</td>\n",
       "      <td>172.0</td>\n",
       "      <td>172.0</td>\n",
       "      <td>172.0</td>\n",
       "    </tr>\n",
       "  </tbody>\n",
       "</table>\n",
       "</div>"
      ],
      "text/plain": [
       "              co   no2   o3   pm10   pm25  so2   humidity    pressure  \\\n",
       "2014-12-29  14.1  36.2  3.2  218.0  307.0  4.2  60.691097  985.187382   \n",
       "2014-12-30  20.4  36.8  4.8  330.0  367.0  5.8  60.691097  985.187382   \n",
       "2014-12-31  12.7  28.7  7.8  137.0  202.0  6.3  60.691097  985.187382   \n",
       "2015-01-01  20.8  66.5  5.2  230.0  382.0  9.9  60.691097  985.187382   \n",
       "2015-01-02  12.7  33.9  6.0   81.0  172.0  4.2  60.691097  985.187382   \n",
       "\n",
       "            temperature  wind-speed Country_City  Checks    AQI  \\\n",
       "2014-12-29      26.3352    1.102459  India_Delhi       6  307.0   \n",
       "2014-12-30      26.3352    1.102459  India_Delhi       6  367.0   \n",
       "2014-12-31      26.3352    1.102459  India_Delhi       6  202.0   \n",
       "2015-01-01      26.3352    1.102459  India_Delhi       6  382.0   \n",
       "2015-01-02      26.3352    1.102459  India_Delhi       6  172.0   \n",
       "\n",
       "            AQI_smoothed_iqr  AQI_smoothed_zscore  AQI_smoothed_rolling  \n",
       "2014-12-29             307.0                307.0                 307.0  \n",
       "2014-12-30             367.0                367.0                 367.0  \n",
       "2014-12-31             202.0                202.0                 202.0  \n",
       "2015-01-01             382.0                158.0                 382.0  \n",
       "2015-01-02             172.0                172.0                 172.0  "
      ]
     },
     "execution_count": 86,
     "metadata": {},
     "output_type": "execute_result"
    }
   ],
   "source": [
    "new_data4.head()"
   ]
  },
  {
   "cell_type": "code",
   "execution_count": 87,
   "id": "6b49019d",
   "metadata": {
    "execution": {
     "iopub.execute_input": "2025-01-27T17:32:21.261146Z",
     "iopub.status.busy": "2025-01-27T17:32:21.260797Z",
     "iopub.status.idle": "2025-01-27T17:32:21.266477Z",
     "shell.execute_reply": "2025-01-27T17:32:21.265469Z"
    },
    "papermill": {
     "duration": 0.050818,
     "end_time": "2025-01-27T17:32:21.268120",
     "exception": false,
     "start_time": "2025-01-27T17:32:21.217302",
     "status": "completed"
    },
    "tags": []
   },
   "outputs": [
    {
     "data": {
      "text/plain": [
       "Index(['co', 'no2', 'o3', 'pm10', 'pm25', 'so2', 'humidity', 'pressure',\n",
       "       'temperature', 'wind-speed', 'Country_City', 'Checks', 'AQI',\n",
       "       'AQI_smoothed_iqr', 'AQI_smoothed_zscore', 'AQI_smoothed_rolling'],\n",
       "      dtype='object')"
      ]
     },
     "execution_count": 87,
     "metadata": {},
     "output_type": "execute_result"
    }
   ],
   "source": [
    "new_data4.columns"
   ]
  },
  {
   "cell_type": "markdown",
   "id": "5fd44e4a",
   "metadata": {
    "papermill": {
     "duration": 0.043597,
     "end_time": "2025-01-27T17:32:21.355397",
     "exception": false,
     "start_time": "2025-01-27T17:32:21.311800",
     "status": "completed"
    },
    "tags": []
   },
   "source": [
    "***Working with AQI_smoothed_iqr***"
   ]
  },
  {
   "cell_type": "code",
   "execution_count": 88,
   "id": "c79c93a9",
   "metadata": {
    "execution": {
     "iopub.execute_input": "2025-01-27T17:32:21.441035Z",
     "iopub.status.busy": "2025-01-27T17:32:21.440656Z",
     "iopub.status.idle": "2025-01-27T17:32:21.446123Z",
     "shell.execute_reply": "2025-01-27T17:32:21.445100Z"
    },
    "papermill": {
     "duration": 0.049802,
     "end_time": "2025-01-27T17:32:21.447806",
     "exception": false,
     "start_time": "2025-01-27T17:32:21.398004",
     "status": "completed"
    },
    "tags": []
   },
   "outputs": [],
   "source": [
    "data = new_data4.drop([ 'Country_City', 'Checks', 'AQI',\n",
    "       'AQI_smoothed_iqr', 'AQI_smoothed_zscore'],axis=1)"
   ]
  },
  {
   "cell_type": "code",
   "execution_count": 89,
   "id": "81e4fe3d",
   "metadata": {
    "execution": {
     "iopub.execute_input": "2025-01-27T17:32:21.533308Z",
     "iopub.status.busy": "2025-01-27T17:32:21.532878Z",
     "iopub.status.idle": "2025-01-27T17:32:21.549491Z",
     "shell.execute_reply": "2025-01-27T17:32:21.548322Z"
    },
    "papermill": {
     "duration": 0.061293,
     "end_time": "2025-01-27T17:32:21.551327",
     "exception": false,
     "start_time": "2025-01-27T17:32:21.490034",
     "status": "completed"
    },
    "tags": []
   },
   "outputs": [
    {
     "data": {
      "text/html": [
       "<div>\n",
       "<style scoped>\n",
       "    .dataframe tbody tr th:only-of-type {\n",
       "        vertical-align: middle;\n",
       "    }\n",
       "\n",
       "    .dataframe tbody tr th {\n",
       "        vertical-align: top;\n",
       "    }\n",
       "\n",
       "    .dataframe thead th {\n",
       "        text-align: right;\n",
       "    }\n",
       "</style>\n",
       "<table border=\"1\" class=\"dataframe\">\n",
       "  <thead>\n",
       "    <tr style=\"text-align: right;\">\n",
       "      <th></th>\n",
       "      <th>co</th>\n",
       "      <th>no2</th>\n",
       "      <th>o3</th>\n",
       "      <th>pm10</th>\n",
       "      <th>pm25</th>\n",
       "      <th>so2</th>\n",
       "      <th>humidity</th>\n",
       "      <th>pressure</th>\n",
       "      <th>temperature</th>\n",
       "      <th>wind-speed</th>\n",
       "      <th>AQI_smoothed_rolling</th>\n",
       "    </tr>\n",
       "  </thead>\n",
       "  <tbody>\n",
       "    <tr>\n",
       "      <th>2014-12-29</th>\n",
       "      <td>14.1</td>\n",
       "      <td>36.2</td>\n",
       "      <td>3.2</td>\n",
       "      <td>218.0</td>\n",
       "      <td>307.0</td>\n",
       "      <td>4.2</td>\n",
       "      <td>60.691097</td>\n",
       "      <td>985.187382</td>\n",
       "      <td>26.3352</td>\n",
       "      <td>1.102459</td>\n",
       "      <td>307.0</td>\n",
       "    </tr>\n",
       "    <tr>\n",
       "      <th>2014-12-30</th>\n",
       "      <td>20.4</td>\n",
       "      <td>36.8</td>\n",
       "      <td>4.8</td>\n",
       "      <td>330.0</td>\n",
       "      <td>367.0</td>\n",
       "      <td>5.8</td>\n",
       "      <td>60.691097</td>\n",
       "      <td>985.187382</td>\n",
       "      <td>26.3352</td>\n",
       "      <td>1.102459</td>\n",
       "      <td>367.0</td>\n",
       "    </tr>\n",
       "    <tr>\n",
       "      <th>2014-12-31</th>\n",
       "      <td>12.7</td>\n",
       "      <td>28.7</td>\n",
       "      <td>7.8</td>\n",
       "      <td>137.0</td>\n",
       "      <td>202.0</td>\n",
       "      <td>6.3</td>\n",
       "      <td>60.691097</td>\n",
       "      <td>985.187382</td>\n",
       "      <td>26.3352</td>\n",
       "      <td>1.102459</td>\n",
       "      <td>202.0</td>\n",
       "    </tr>\n",
       "    <tr>\n",
       "      <th>2015-01-01</th>\n",
       "      <td>20.8</td>\n",
       "      <td>66.5</td>\n",
       "      <td>5.2</td>\n",
       "      <td>230.0</td>\n",
       "      <td>382.0</td>\n",
       "      <td>9.9</td>\n",
       "      <td>60.691097</td>\n",
       "      <td>985.187382</td>\n",
       "      <td>26.3352</td>\n",
       "      <td>1.102459</td>\n",
       "      <td>382.0</td>\n",
       "    </tr>\n",
       "    <tr>\n",
       "      <th>2015-01-02</th>\n",
       "      <td>12.7</td>\n",
       "      <td>33.9</td>\n",
       "      <td>6.0</td>\n",
       "      <td>81.0</td>\n",
       "      <td>172.0</td>\n",
       "      <td>4.2</td>\n",
       "      <td>60.691097</td>\n",
       "      <td>985.187382</td>\n",
       "      <td>26.3352</td>\n",
       "      <td>1.102459</td>\n",
       "      <td>172.0</td>\n",
       "    </tr>\n",
       "  </tbody>\n",
       "</table>\n",
       "</div>"
      ],
      "text/plain": [
       "              co   no2   o3   pm10   pm25  so2   humidity    pressure  \\\n",
       "2014-12-29  14.1  36.2  3.2  218.0  307.0  4.2  60.691097  985.187382   \n",
       "2014-12-30  20.4  36.8  4.8  330.0  367.0  5.8  60.691097  985.187382   \n",
       "2014-12-31  12.7  28.7  7.8  137.0  202.0  6.3  60.691097  985.187382   \n",
       "2015-01-01  20.8  66.5  5.2  230.0  382.0  9.9  60.691097  985.187382   \n",
       "2015-01-02  12.7  33.9  6.0   81.0  172.0  4.2  60.691097  985.187382   \n",
       "\n",
       "            temperature  wind-speed  AQI_smoothed_rolling  \n",
       "2014-12-29      26.3352    1.102459                 307.0  \n",
       "2014-12-30      26.3352    1.102459                 367.0  \n",
       "2014-12-31      26.3352    1.102459                 202.0  \n",
       "2015-01-01      26.3352    1.102459                 382.0  \n",
       "2015-01-02      26.3352    1.102459                 172.0  "
      ]
     },
     "execution_count": 89,
     "metadata": {},
     "output_type": "execute_result"
    }
   ],
   "source": [
    "data.head()"
   ]
  },
  {
   "cell_type": "code",
   "execution_count": 90,
   "id": "5e538a59",
   "metadata": {
    "execution": {
     "iopub.execute_input": "2025-01-27T17:32:21.637736Z",
     "iopub.status.busy": "2025-01-27T17:32:21.637342Z",
     "iopub.status.idle": "2025-01-27T17:32:21.645138Z",
     "shell.execute_reply": "2025-01-27T17:32:21.644029Z"
    },
    "papermill": {
     "duration": 0.052641,
     "end_time": "2025-01-27T17:32:21.646811",
     "exception": false,
     "start_time": "2025-01-27T17:32:21.594170",
     "status": "completed"
    },
    "tags": []
   },
   "outputs": [
    {
     "name": "stdout",
     "output_type": "stream",
     "text": [
      "Index(['co', 'no2', 'o3', 'pm10', 'pm25', 'so2', 'humidity', 'pressure',\n",
      "       'temperature', 'wind-speed', 'AQI_smoothed_rolling'],\n",
      "      dtype='object')\n",
      "Index([], dtype='object')\n"
     ]
    }
   ],
   "source": [
    "num = data.select_dtypes(include=['int16', 'int32', 'int64', 'float16', 'float32', 'float64'])\n",
    "cat = data.select_dtypes(include=['object'])\n",
    "\n",
    "print(num.columns)\n",
    "print(cat.columns)"
   ]
  },
  {
   "cell_type": "code",
   "execution_count": 91,
   "id": "879ee5d3",
   "metadata": {
    "execution": {
     "iopub.execute_input": "2025-01-27T17:32:21.735287Z",
     "iopub.status.busy": "2025-01-27T17:32:21.734843Z",
     "iopub.status.idle": "2025-01-27T17:32:21.745153Z",
     "shell.execute_reply": "2025-01-27T17:32:21.743802Z"
    },
    "papermill": {
     "duration": 0.05736,
     "end_time": "2025-01-27T17:32:21.747116",
     "exception": false,
     "start_time": "2025-01-27T17:32:21.689756",
     "status": "completed"
    },
    "tags": []
   },
   "outputs": [
    {
     "name": "stdout",
     "output_type": "stream",
     "text": [
      "(2559, 10) (2559,) (640, 10) (640,)\n"
     ]
    }
   ],
   "source": [
    "X = data[['co', 'no2', 'o3', 'pm10', 'pm25', 'so2', 'humidity', 'pressure',\n",
    "       'temperature', 'wind-speed']]\n",
    "\n",
    "y = data['AQI_smoothed_rolling']\n",
    "\n",
    "X_train, X_test, y_train, y_test = train_test_split(X, y, test_size = 0.2, random_state = 42)\n",
    "\n",
    "print(X_train.shape, y_train.shape, X_test.shape, y_test.shape)"
   ]
  },
  {
   "cell_type": "code",
   "execution_count": 92,
   "id": "9cafb351",
   "metadata": {
    "execution": {
     "iopub.execute_input": "2025-01-27T17:32:21.837337Z",
     "iopub.status.busy": "2025-01-27T17:32:21.836982Z",
     "iopub.status.idle": "2025-01-27T17:32:21.841691Z",
     "shell.execute_reply": "2025-01-27T17:32:21.840752Z"
    },
    "papermill": {
     "duration": 0.050982,
     "end_time": "2025-01-27T17:32:21.843195",
     "exception": false,
     "start_time": "2025-01-27T17:32:21.792213",
     "status": "completed"
    },
    "tags": []
   },
   "outputs": [],
   "source": [
    "# Preprocessor without scaling\n",
    "preprocessor = ColumnTransformer(\n",
    "    transformers=[\n",
    "        ('num', 'passthrough', ['co', 'no2', 'o3', 'pm10', 'pm25', 'so2', 'humidity', \n",
    "                                'pressure', 'temperature', 'wind-speed'])\n",
    "    ])\n",
    "# Pipeline\n",
    "pipeline = Pipeline(steps=[\n",
    "    ('preprocessor', preprocessor)\n",
    "])"
   ]
  },
  {
   "cell_type": "markdown",
   "id": "5e1918a7",
   "metadata": {
    "papermill": {
     "duration": 0.042438,
     "end_time": "2025-01-27T17:32:21.929594",
     "exception": false,
     "start_time": "2025-01-27T17:32:21.887156",
     "status": "completed"
    },
    "tags": []
   },
   "source": [
    "# **5.2. Model Training & Testing**"
   ]
  },
  {
   "cell_type": "markdown",
   "id": "213818be",
   "metadata": {
    "papermill": {
     "duration": 0.043756,
     "end_time": "2025-01-27T17:32:22.016352",
     "exception": false,
     "start_time": "2025-01-27T17:32:21.972596",
     "status": "completed"
    },
    "tags": []
   },
   "source": [
    "## **5.2.1. LinearRegression**"
   ]
  },
  {
   "cell_type": "code",
   "execution_count": 93,
   "id": "f16fc99f",
   "metadata": {
    "execution": {
     "iopub.execute_input": "2025-01-27T17:32:22.102866Z",
     "iopub.status.busy": "2025-01-27T17:32:22.102532Z",
     "iopub.status.idle": "2025-01-27T17:32:22.115196Z",
     "shell.execute_reply": "2025-01-27T17:32:22.114187Z"
    },
    "papermill": {
     "duration": 0.058224,
     "end_time": "2025-01-27T17:32:22.116910",
     "exception": false,
     "start_time": "2025-01-27T17:32:22.058686",
     "status": "completed"
    },
    "tags": []
   },
   "outputs": [],
   "source": [
    "# training with LinearRegression\n",
    "\n",
    "lm = LinearRegression(fit_intercept = True)\n",
    "\n",
    "pipeline = Pipeline(steps=[('preprocessor', preprocessor), ('regressor', lm)])\n",
    "\n",
    "# Fit the pipeline to the training data\n",
    "pipeline.fit(X_train,y_train)\n",
    "\n",
    "# Predict on the training and test datasets\n",
    "y_pred_train_lm = pipeline.predict(X_train)\n",
    "y_pred_test_lm = pipeline.predict(X_test)"
   ]
  },
  {
   "cell_type": "code",
   "execution_count": 94,
   "id": "007c2f89",
   "metadata": {
    "execution": {
     "iopub.execute_input": "2025-01-27T17:32:22.202806Z",
     "iopub.status.busy": "2025-01-27T17:32:22.202464Z",
     "iopub.status.idle": "2025-01-27T17:32:22.219598Z",
     "shell.execute_reply": "2025-01-27T17:32:22.218396Z"
    },
    "papermill": {
     "duration": 0.061999,
     "end_time": "2025-01-27T17:32:22.221404",
     "exception": false,
     "start_time": "2025-01-27T17:32:22.159405",
     "status": "completed"
    },
    "tags": []
   },
   "outputs": [
    {
     "name": "stdout",
     "output_type": "stream",
     "text": [
      "The r2 Accuracy on the training dataset prediction is:  0.9675634154803487\n",
      "The r2 Accuracy on the test dataset prediction is:  0.968703504370825\n",
      "\n",
      "The RMSE  on the training dataset is:  13.335721085516212\n",
      "The RMSE  on the testing dataset is:  11.92843805334961\n",
      "\n",
      "The MAE  on the training dataset is:  8.782664440343714\n",
      "The MAE  on the testing dataset is:  8.726879777108639\n",
      "\n",
      "The MSE  on the training dataset is:  177.84145687068172\n",
      "The MSE  on the testing dataset is:  142.28763439259905\n"
     ]
    }
   ],
   "source": [
    "# Model Accuracy on training and testing dataset\n",
    "\n",
    "print('The r2 Accuracy on the training dataset prediction is: ',r2_score(y_train,y_pred_train_lm) )\n",
    "print('The r2 Accuracy on the test dataset prediction is: ',r2_score(y_test,y_pred_test_lm) )\n",
    "\n",
    "print(\"\")\n",
    "\n",
    "# The Root Mean Squared Error (RMSE)\n",
    "print('The RMSE  on the training dataset is: ',sqrt(mean_squared_error(y_train, y_pred_train_lm)))\n",
    "print('The RMSE  on the testing dataset is: ',sqrt(mean_squared_error(y_test, y_pred_test_lm)))\n",
    "\n",
    "print(\"\")\n",
    "# The Mean Absolute Error (MAE)\n",
    "print('The MAE  on the training dataset is: ',mean_absolute_error(y_train, y_pred_train_lm))\n",
    "print('The MAE  on the testing dataset is: ',mean_absolute_error(y_test, y_pred_test_lm))\n",
    "\n",
    "print(\"\")\n",
    "# The Mean Squared Error (MSE)\n",
    "print('The MSE  on the training dataset is: ',mean_squared_error(y_train, y_pred_train_lm))\n",
    "print('The MSE  on the testing dataset is: ',mean_squared_error(y_test, y_pred_test_lm))"
   ]
  },
  {
   "cell_type": "markdown",
   "id": "e86af828",
   "metadata": {
    "papermill": {
     "duration": 0.042145,
     "end_time": "2025-01-27T17:32:22.306249",
     "exception": false,
     "start_time": "2025-01-27T17:32:22.264104",
     "status": "completed"
    },
    "tags": []
   },
   "source": [
    "## **5.2.2.  KNeighborsRegressor**"
   ]
  },
  {
   "cell_type": "code",
   "execution_count": 95,
   "id": "2eb04d65",
   "metadata": {
    "execution": {
     "iopub.execute_input": "2025-01-27T17:32:22.391812Z",
     "iopub.status.busy": "2025-01-27T17:32:22.391421Z",
     "iopub.status.idle": "2025-01-27T17:32:22.428191Z",
     "shell.execute_reply": "2025-01-27T17:32:22.427138Z"
    },
    "papermill": {
     "duration": 0.08173,
     "end_time": "2025-01-27T17:32:22.429994",
     "exception": false,
     "start_time": "2025-01-27T17:32:22.348264",
     "status": "completed"
    },
    "tags": []
   },
   "outputs": [],
   "source": [
    "# training with KNeighborsRegressor\n",
    "\n",
    "neigh = KNeighborsRegressor(n_neighbors=2)\n",
    "\n",
    "pipeline = Pipeline(steps=[('preprocessor', preprocessor), ('regressor', neigh)])\n",
    "\n",
    "# Fit the pipeline to the training data\n",
    "pipeline.fit(X_train,y_train)\n",
    "\n",
    "# Predict on the training and test datasets\n",
    "y_pred_train_knn = pipeline.predict(X_train)\n",
    "y_pred_test_knn = pipeline.predict(X_test)"
   ]
  },
  {
   "cell_type": "code",
   "execution_count": 96,
   "id": "af66ecd7",
   "metadata": {
    "execution": {
     "iopub.execute_input": "2025-01-27T17:32:22.517995Z",
     "iopub.status.busy": "2025-01-27T17:32:22.517612Z",
     "iopub.status.idle": "2025-01-27T17:32:22.532219Z",
     "shell.execute_reply": "2025-01-27T17:32:22.531020Z"
    },
    "papermill": {
     "duration": 0.060071,
     "end_time": "2025-01-27T17:32:22.534008",
     "exception": false,
     "start_time": "2025-01-27T17:32:22.473937",
     "status": "completed"
    },
    "tags": []
   },
   "outputs": [
    {
     "name": "stdout",
     "output_type": "stream",
     "text": [
      "The R2 score on the training dataset prediction is:  0.9979263509401755\n",
      "The R2 score on the test dataset prediction is:  0.9958587960992547\n",
      "\n",
      "The RMSE  on the training dataset is:  3.3718370181408592\n",
      "The RMSE  on the testing dataset is:  4.3390937273813295\n",
      "\n",
      "The MAE  on the training dataset is:  1.262211801484955\n",
      "The MAE  on the testing dataset is:  1.94296875\n",
      "\n",
      "The MSE  on the training dataset is:  11.369284876905041\n",
      "The MSE  on the testing dataset is:  18.827734375\n"
     ]
    }
   ],
   "source": [
    "# Model Accuracy on training dataset\n",
    "print('The R2 score on the training dataset prediction is: ', r2_score(y_train,y_pred_train_knn))\n",
    "print('The R2 score on the test dataset prediction is: ', r2_score(y_test, y_pred_test_knn))\n",
    "print(\"\")\n",
    "\n",
    "# The Root Mean Squared Error (RMSE)\n",
    "print('The RMSE  on the training dataset is: ',sqrt(mean_squared_error(y_train,y_pred_train_knn)))\n",
    "print('The RMSE  on the testing dataset is: ',sqrt(mean_squared_error(y_test, y_pred_test_knn)))\n",
    "\n",
    "print(\"\")\n",
    "# The Mean Absolute Error (MAE)\n",
    "print('The MAE  on the training dataset is: ',mean_absolute_error(y_train,y_pred_train_knn))\n",
    "print('The MAE  on the testing dataset is: ',mean_absolute_error(y_test, y_pred_test_knn))\n",
    "\n",
    "print(\"\")\n",
    "# The Mean Squared Error (MSE)\n",
    "print('The MSE  on the training dataset is: ',mean_squared_error(y_train, y_pred_train_knn))\n",
    "print('The MSE  on the testing dataset is: ',mean_squared_error(y_test, y_pred_test_knn))"
   ]
  },
  {
   "cell_type": "markdown",
   "id": "c435fe5f",
   "metadata": {
    "papermill": {
     "duration": 0.057831,
     "end_time": "2025-01-27T17:32:22.634475",
     "exception": false,
     "start_time": "2025-01-27T17:32:22.576644",
     "status": "completed"
    },
    "tags": []
   },
   "source": [
    "## **5.2.3.  Random Forest Regressor**"
   ]
  },
  {
   "cell_type": "code",
   "execution_count": 97,
   "id": "874c08a8",
   "metadata": {
    "execution": {
     "iopub.execute_input": "2025-01-27T17:32:22.733796Z",
     "iopub.status.busy": "2025-01-27T17:32:22.733444Z",
     "iopub.status.idle": "2025-01-27T17:32:23.813734Z",
     "shell.execute_reply": "2025-01-27T17:32:23.812714Z"
    },
    "papermill": {
     "duration": 1.129925,
     "end_time": "2025-01-27T17:32:23.815867",
     "exception": false,
     "start_time": "2025-01-27T17:32:22.685942",
     "status": "completed"
    },
    "tags": []
   },
   "outputs": [],
   "source": [
    "# Training with random forest regressor\n",
    "random = RandomForestRegressor()\n",
    "\n",
    "pipeline = Pipeline(steps=[('preprocessor', preprocessor), ('regressor', random)])\n",
    "\n",
    "# Fit the pipeline to the training data\n",
    "pipeline.fit(X_train,y_train)\n",
    "\n",
    "# Predict on the training and test datasets\n",
    "y_pred_train_random = pipeline.predict(X_train)\n",
    "y_pred_test_random = pipeline.predict(X_test)"
   ]
  },
  {
   "cell_type": "code",
   "execution_count": 98,
   "id": "42bc69dc",
   "metadata": {
    "execution": {
     "iopub.execute_input": "2025-01-27T17:32:23.905020Z",
     "iopub.status.busy": "2025-01-27T17:32:23.904658Z",
     "iopub.status.idle": "2025-01-27T17:32:23.919971Z",
     "shell.execute_reply": "2025-01-27T17:32:23.918689Z"
    },
    "papermill": {
     "duration": 0.060567,
     "end_time": "2025-01-27T17:32:23.922010",
     "exception": false,
     "start_time": "2025-01-27T17:32:23.861443",
     "status": "completed"
    },
    "tags": []
   },
   "outputs": [
    {
     "name": "stdout",
     "output_type": "stream",
     "text": [
      "The R2 score on the training dataset prediction is:  0.9985534822005928\n",
      "The R2 score on the test dataset prediction is:  0.9955782854037283\n",
      "\n",
      "The RMSE  on the training dataset is:  2.816182761441135\n",
      "The RMSE  on the testing dataset is:  4.483643537905305\n",
      "\n",
      "The MAE  on the training dataset is:  0.32112543962485335\n",
      "The MAE  on the testing dataset is:  0.7035312499999999\n",
      "\n",
      "The MSE  on the training dataset is:  7.930885345838216\n",
      "The MSE  on the testing dataset is:  20.103059374999997\n"
     ]
    }
   ],
   "source": [
    "# Model Accuracy on training dataset\n",
    "print('The R2 score on the training dataset prediction is: ', r2_score(y_train,y_pred_train_random))\n",
    "print('The R2 score on the test dataset prediction is: ', r2_score(y_test, y_pred_test_random))\n",
    "print(\"\")\n",
    "\n",
    "# The Root Mean Squared Error (RMSE)\n",
    "print('The RMSE  on the training dataset is: ',sqrt(mean_squared_error(y_train,y_pred_train_random)))\n",
    "print('The RMSE  on the testing dataset is: ',sqrt(mean_squared_error(y_test, y_pred_test_random)))\n",
    "\n",
    "print(\"\")\n",
    "# The Mean Absolute Error (MAE)\n",
    "print('The MAE  on the training dataset is: ',mean_absolute_error(y_train,y_pred_train_random))\n",
    "print('The MAE  on the testing dataset is: ',mean_absolute_error(y_test, y_pred_test_random))\n",
    "\n",
    "print(\"\")\n",
    "# The Mean Squared Error (MSE)\n",
    "print('The MSE  on the training dataset is: ',mean_squared_error(y_train, y_pred_train_random))\n",
    "print('The MSE  on the testing dataset is: ',mean_squared_error(y_test, y_pred_test_random))"
   ]
  },
  {
   "cell_type": "markdown",
   "id": "7c0d8d96",
   "metadata": {
    "papermill": {
     "duration": 0.043407,
     "end_time": "2025-01-27T17:32:24.016117",
     "exception": false,
     "start_time": "2025-01-27T17:32:23.972710",
     "status": "completed"
    },
    "tags": []
   },
   "source": [
    "## **5.2.4.  Decision Tree regressor**"
   ]
  },
  {
   "cell_type": "code",
   "execution_count": 99,
   "id": "fb303b97",
   "metadata": {
    "execution": {
     "iopub.execute_input": "2025-01-27T17:32:24.107754Z",
     "iopub.status.busy": "2025-01-27T17:32:24.107410Z",
     "iopub.status.idle": "2025-01-27T17:32:24.133615Z",
     "shell.execute_reply": "2025-01-27T17:32:24.132410Z"
    },
    "papermill": {
     "duration": 0.076566,
     "end_time": "2025-01-27T17:32:24.135528",
     "exception": false,
     "start_time": "2025-01-27T17:32:24.058962",
     "status": "completed"
    },
    "tags": []
   },
   "outputs": [],
   "source": [
    "# Training with Decision Tree regressor\n",
    "dt = DecisionTreeRegressor()\n",
    "\n",
    "pipeline = Pipeline(steps=[('preprocessor', preprocessor), ('regressor', dt)])\n",
    "\n",
    "# Fit the pipeline to the training data\n",
    "pipeline.fit(X_train,y_train)\n",
    "\n",
    "# Predict on the training and test datasets\n",
    "y_pred_train_dt = pipeline.predict(X_train)\n",
    "y_pred_test_dt = pipeline.predict(X_test)"
   ]
  },
  {
   "cell_type": "code",
   "execution_count": 100,
   "id": "bdb7de82",
   "metadata": {
    "execution": {
     "iopub.execute_input": "2025-01-27T17:32:24.223578Z",
     "iopub.status.busy": "2025-01-27T17:32:24.223206Z",
     "iopub.status.idle": "2025-01-27T17:32:24.237393Z",
     "shell.execute_reply": "2025-01-27T17:32:24.236010Z"
    },
    "papermill": {
     "duration": 0.060943,
     "end_time": "2025-01-27T17:32:24.239181",
     "exception": false,
     "start_time": "2025-01-27T17:32:24.178238",
     "status": "completed"
    },
    "tags": []
   },
   "outputs": [
    {
     "name": "stdout",
     "output_type": "stream",
     "text": [
      "The R2 score on the training dataset prediction is:  1.0\n",
      "The R2 score on the test dataset prediction is:  0.9920676256990308\n",
      "\n",
      "The RMSE  on the training dataset is:  0.0\n",
      "The RMSE  on the testing dataset is:  6.005336168775234\n",
      "\n",
      "The MAE  on the training dataset is:  0.0\n",
      "The MAE  on the testing dataset is:  0.9453125\n",
      "\n",
      "The MSE  on the training dataset is:  0.0\n",
      "The MSE  on the testing dataset is:  36.0640625\n"
     ]
    }
   ],
   "source": [
    "# Model Accuracy on training dataset\n",
    "print('The R2 score on the training dataset prediction is: ', r2_score(y_train,y_pred_train_dt))\n",
    "print('The R2 score on the test dataset prediction is: ', r2_score(y_test, y_pred_test_dt))\n",
    "print(\"\")\n",
    "\n",
    "# The Root Mean Squared Error (RMSE)\n",
    "print('The RMSE  on the training dataset is: ',sqrt(mean_squared_error(y_train,y_pred_train_dt)))\n",
    "print('The RMSE  on the testing dataset is: ',sqrt(mean_squared_error(y_test, y_pred_test_dt)))\n",
    "\n",
    "print(\"\")\n",
    "# The Mean Absolute Error (MAE)\n",
    "print('The MAE  on the training dataset is: ',mean_absolute_error(y_train,y_pred_train_dt))\n",
    "print('The MAE  on the testing dataset is: ',mean_absolute_error(y_test, y_pred_test_dt))\n",
    "\n",
    "print(\"\")\n",
    "# The Mean Squared Error (MSE)\n",
    "print('The MSE  on the training dataset is: ',mean_squared_error(y_train, y_pred_train_dt))\n",
    "print('The MSE  on the testing dataset is: ',mean_squared_error(y_test, y_pred_test_dt))"
   ]
  },
  {
   "cell_type": "markdown",
   "id": "b6652ddc",
   "metadata": {
    "papermill": {
     "duration": 0.044147,
     "end_time": "2025-01-27T17:32:24.328643",
     "exception": false,
     "start_time": "2025-01-27T17:32:24.284496",
     "status": "completed"
    },
    "tags": []
   },
   "source": [
    "## **5.2.5.  Support Vector Machine regressor**"
   ]
  },
  {
   "cell_type": "code",
   "execution_count": 101,
   "id": "e3a36f5d",
   "metadata": {
    "execution": {
     "iopub.execute_input": "2025-01-27T17:32:24.417829Z",
     "iopub.status.busy": "2025-01-27T17:32:24.417471Z",
     "iopub.status.idle": "2025-01-27T17:32:48.823325Z",
     "shell.execute_reply": "2025-01-27T17:32:48.822165Z"
    },
    "papermill": {
     "duration": 24.451616,
     "end_time": "2025-01-27T17:32:48.825357",
     "exception": false,
     "start_time": "2025-01-27T17:32:24.373741",
     "status": "completed"
    },
    "tags": []
   },
   "outputs": [],
   "source": [
    "# Training with Support Vector Machine regressor\n",
    "svr = SVR(kernel='linear')\n",
    "\n",
    "pipeline = Pipeline(steps=[('preprocessor', preprocessor), ('regressor', svr)])\n",
    "\n",
    "# Fit the pipeline to the training data\n",
    "pipeline.fit(X_train, y_train)\n",
    "\n",
    "# Predict on the training and test datasets\n",
    "y_pred_train_svr = pipeline.predict(X_train)\n",
    "y_pred_test_svr = pipeline.predict(X_test)"
   ]
  },
  {
   "cell_type": "code",
   "execution_count": 102,
   "id": "671b56cf",
   "metadata": {
    "execution": {
     "iopub.execute_input": "2025-01-27T17:32:48.912506Z",
     "iopub.status.busy": "2025-01-27T17:32:48.912177Z",
     "iopub.status.idle": "2025-01-27T17:32:48.926276Z",
     "shell.execute_reply": "2025-01-27T17:32:48.925127Z"
    },
    "papermill": {
     "duration": 0.060313,
     "end_time": "2025-01-27T17:32:48.927995",
     "exception": false,
     "start_time": "2025-01-27T17:32:48.867682",
     "status": "completed"
    },
    "tags": []
   },
   "outputs": [
    {
     "name": "stdout",
     "output_type": "stream",
     "text": [
      "The R2 score on the training dataset prediction is:  0.9170000514491703\n",
      "The R2 score on the test dataset prediction is:  0.9516113768245813\n",
      "\n",
      "The RMSE on the training dataset is:  21.33230853202443\n",
      "The RMSE on the testing dataset is:  14.832260917216331\n",
      "\n",
      "The MAE on the training dataset is:  6.2053963500967235\n",
      "The MAE on the testing dataset is:  5.468297838577041\n",
      "\n",
      "The MSE  on the training dataset is:  455.0673873054823\n",
      "The MSE  on the testing dataset is:  219.99596391638306\n"
     ]
    }
   ],
   "source": [
    "# Model Accuracy on training dataset\n",
    "print('The R2 score on the training dataset prediction is: ', r2_score(y_train, y_pred_train_svr))\n",
    "print('The R2 score on the test dataset prediction is: ', r2_score(y_test, y_pred_test_svr))\n",
    "print(\"\")\n",
    "\n",
    "# The Root Mean Squared Error (RMSE)\n",
    "print('The RMSE on the training dataset is: ', sqrt(mean_squared_error(y_train, y_pred_train_svr)))\n",
    "print('The RMSE on the testing dataset is: ', sqrt(mean_squared_error(y_test, y_pred_test_svr)))\n",
    "print(\"\")\n",
    "\n",
    "# The Mean Absolute Error (MAE)\n",
    "print('The MAE on the training dataset is: ', mean_absolute_error(y_train, y_pred_train_svr))\n",
    "print('The MAE on the testing dataset is: ', mean_absolute_error(y_test, y_pred_test_svr))\n",
    "\n",
    "print(\"\")\n",
    "# The Mean Squared Error (MSE)\n",
    "print('The MSE  on the training dataset is: ',mean_squared_error(y_train, y_pred_train_svr))\n",
    "print('The MSE  on the testing dataset is: ',mean_squared_error(y_test, y_pred_test_svr))"
   ]
  },
  {
   "cell_type": "markdown",
   "id": "732581ae",
   "metadata": {
    "papermill": {
     "duration": 0.042214,
     "end_time": "2025-01-27T17:32:49.012708",
     "exception": false,
     "start_time": "2025-01-27T17:32:48.970494",
     "status": "completed"
    },
    "tags": []
   },
   "source": [
    "## **5.2.6.  XGBoost Regressor**"
   ]
  },
  {
   "cell_type": "code",
   "execution_count": 103,
   "id": "b00e3c8d",
   "metadata": {
    "execution": {
     "iopub.execute_input": "2025-01-27T17:32:49.103984Z",
     "iopub.status.busy": "2025-01-27T17:32:49.103602Z",
     "iopub.status.idle": "2025-01-27T17:32:49.234024Z",
     "shell.execute_reply": "2025-01-27T17:32:49.233087Z"
    },
    "papermill": {
     "duration": 0.177317,
     "end_time": "2025-01-27T17:32:49.236323",
     "exception": false,
     "start_time": "2025-01-27T17:32:49.059006",
     "status": "completed"
    },
    "tags": []
   },
   "outputs": [],
   "source": [
    "# Training with XGBoost regressor\n",
    "xgb_regressor = XGBRegressor(objective='reg:squarederror')\n",
    "\n",
    "pipeline = Pipeline(steps=[('preprocessor', preprocessor), ('regressor', xgb_regressor)])\n",
    "\n",
    "# Fit the pipeline to the training data\n",
    "pipeline.fit(X_train, y_train)\n",
    "\n",
    "# Predict on the training and test datasets\n",
    "y_pred_train_xgb = pipeline.predict(X_train)\n",
    "y_pred_test_xgb = pipeline.predict(X_test)"
   ]
  },
  {
   "cell_type": "code",
   "execution_count": 104,
   "id": "acd8276a",
   "metadata": {
    "execution": {
     "iopub.execute_input": "2025-01-27T17:32:49.327986Z",
     "iopub.status.busy": "2025-01-27T17:32:49.327639Z",
     "iopub.status.idle": "2025-01-27T17:32:49.344370Z",
     "shell.execute_reply": "2025-01-27T17:32:49.343335Z"
    },
    "papermill": {
     "duration": 0.062936,
     "end_time": "2025-01-27T17:32:49.345891",
     "exception": false,
     "start_time": "2025-01-27T17:32:49.282955",
     "status": "completed"
    },
    "tags": []
   },
   "outputs": [
    {
     "name": "stdout",
     "output_type": "stream",
     "text": [
      "The R2 score on the training dataset prediction is:  0.9999884261680223\n",
      "The R2 score on the test dataset prediction is:  0.9884092057630378\n",
      "\n",
      "The RMSE on the training dataset is:  0.25190543128934345\n",
      "The RMSE on the testing dataset is:  7.259259509512052\n",
      "\n",
      "The MAE on the training dataset is:  0.15732481443309002\n",
      "The MAE on the testing dataset is:  1.3124947667121887\n",
      "\n",
      "The MSE  on the training dataset is:  0.06345634631307014\n",
      "The MSE  on the testing dataset is:  52.69684862644117\n"
     ]
    }
   ],
   "source": [
    "# Model Accuracy on training dataset\n",
    "print('The R2 score on the training dataset prediction is: ', r2_score(y_train, y_pred_train_xgb))\n",
    "print('The R2 score on the test dataset prediction is: ', r2_score(y_test, y_pred_test_xgb))\n",
    "print(\"\")\n",
    "\n",
    "# The Root Mean Squared Error (RMSE)\n",
    "print('The RMSE on the training dataset is: ', sqrt(mean_squared_error(y_train, y_pred_train_xgb)))\n",
    "print('The RMSE on the testing dataset is: ', sqrt(mean_squared_error(y_test, y_pred_test_xgb)))\n",
    "print(\"\")\n",
    "\n",
    "# The Mean Absolute Error (MAE)\n",
    "print('The MAE on the training dataset is: ', mean_absolute_error(y_train, y_pred_train_xgb))\n",
    "print('The MAE on the testing dataset is: ', mean_absolute_error(y_test, y_pred_test_xgb))\n",
    "\n",
    "print(\"\")\n",
    "# The Mean Squared Error (MSE)\n",
    "print('The MSE  on the training dataset is: ',mean_squared_error(y_train, y_pred_train_xgb))\n",
    "print('The MSE  on the testing dataset is: ',mean_squared_error(y_test, y_pred_test_xgb))"
   ]
  },
  {
   "cell_type": "markdown",
   "id": "58b6827a",
   "metadata": {
    "papermill": {
     "duration": 0.04219,
     "end_time": "2025-01-27T17:32:49.430761",
     "exception": false,
     "start_time": "2025-01-27T17:32:49.388571",
     "status": "completed"
    },
    "tags": []
   },
   "source": [
    "## **5.2.7.  Neural Network Regressor**"
   ]
  },
  {
   "cell_type": "code",
   "execution_count": 105,
   "id": "1ec79aa1",
   "metadata": {
    "execution": {
     "iopub.execute_input": "2025-01-27T17:32:49.517865Z",
     "iopub.status.busy": "2025-01-27T17:32:49.517485Z",
     "iopub.status.idle": "2025-01-27T17:32:51.379383Z",
     "shell.execute_reply": "2025-01-27T17:32:51.378406Z"
    },
    "papermill": {
     "duration": 1.908045,
     "end_time": "2025-01-27T17:32:51.381255",
     "exception": false,
     "start_time": "2025-01-27T17:32:49.473210",
     "status": "completed"
    },
    "tags": []
   },
   "outputs": [],
   "source": [
    "# training with neural network regressor\n",
    "\n",
    "nn = MLPRegressor(hidden_layer_sizes=(8,), activation='relu', solver='adam', max_iter=2000, learning_rate_init=0.001)\n",
    "\n",
    "pipeline = Pipeline(steps=[('preprocessor', preprocessor), ('regressor', nn)])\n",
    "\n",
    "# Fit the pipeline to the training data\n",
    "pipeline.fit(X_train,y_train)\n",
    "\n",
    "# Predict on the training and test datasets\n",
    "y_pred_train_nn = pipeline.predict(X_train)\n",
    "y_pred_test_nn = pipeline.predict(X_test)"
   ]
  },
  {
   "cell_type": "code",
   "execution_count": 106,
   "id": "248525a9",
   "metadata": {
    "execution": {
     "iopub.execute_input": "2025-01-27T17:32:51.469104Z",
     "iopub.status.busy": "2025-01-27T17:32:51.468666Z",
     "iopub.status.idle": "2025-01-27T17:32:51.483615Z",
     "shell.execute_reply": "2025-01-27T17:32:51.482301Z"
    },
    "papermill": {
     "duration": 0.061241,
     "end_time": "2025-01-27T17:32:51.485619",
     "exception": false,
     "start_time": "2025-01-27T17:32:51.424378",
     "status": "completed"
    },
    "tags": []
   },
   "outputs": [
    {
     "name": "stdout",
     "output_type": "stream",
     "text": [
      "The R2 score on the training dataset prediction is:  0.9999912284384933\n",
      "The R2 score on the test dataset prediction is:  0.9999864245160907\n",
      "\n",
      "The RMSE on the training dataset is:  0.21929937868375948\n",
      "The RMSE on the testing dataset is:  0.2484353453332898\n",
      "\n",
      "The MAE on the training dataset is:  0.14164181370403087\n",
      "The MAE on the testing dataset is:  0.1441886468845711\n",
      "\n",
      "The MSE  on the training dataset is:  0.04809221749108294\n",
      "The MSE  on the testing dataset is:  0.06172012081087096\n"
     ]
    }
   ],
   "source": [
    "# Model Accuracy on training dataset\n",
    "print('The R2 score on the training dataset prediction is: ', r2_score(y_train, y_pred_train_nn))\n",
    "print('The R2 score on the test dataset prediction is: ', r2_score(y_test, y_pred_test_nn))\n",
    "print(\"\")\n",
    "\n",
    "# The Root Mean Squared Error (RMSE)\n",
    "print('The RMSE on the training dataset is: ', sqrt(mean_squared_error(y_train, y_pred_train_nn)))\n",
    "print('The RMSE on the testing dataset is: ', sqrt(mean_squared_error(y_test, y_pred_test_nn)))\n",
    "print(\"\")\n",
    "\n",
    "# The Mean Absolute Error (MAE)\n",
    "print('The MAE on the training dataset is: ', mean_absolute_error(y_train, y_pred_train_nn))\n",
    "print('The MAE on the testing dataset is: ', mean_absolute_error(y_test, y_pred_test_nn))\n",
    "\n",
    "print(\"\")\n",
    "# The Mean Squared Error (MSE)\n",
    "print('The MSE  on the training dataset is: ',mean_squared_error(y_train, y_pred_train_nn))\n",
    "print('The MSE  on the testing dataset is: ',mean_squared_error(y_test, y_pred_test_nn))"
   ]
  },
  {
   "cell_type": "code",
   "execution_count": null,
   "id": "1ad9e5a3",
   "metadata": {
    "papermill": {
     "duration": 0.042469,
     "end_time": "2025-01-27T17:32:51.571893",
     "exception": false,
     "start_time": "2025-01-27T17:32:51.529424",
     "status": "completed"
    },
    "tags": []
   },
   "outputs": [],
   "source": []
  },
  {
   "cell_type": "code",
   "execution_count": null,
   "id": "c4fffc34",
   "metadata": {
    "papermill": {
     "duration": 0.042742,
     "end_time": "2025-01-27T17:32:51.657249",
     "exception": false,
     "start_time": "2025-01-27T17:32:51.614507",
     "status": "completed"
    },
    "tags": []
   },
   "outputs": [],
   "source": []
  },
  {
   "cell_type": "code",
   "execution_count": null,
   "id": "ea7244b8",
   "metadata": {
    "papermill": {
     "duration": 0.0438,
     "end_time": "2025-01-27T17:32:51.744347",
     "exception": false,
     "start_time": "2025-01-27T17:32:51.700547",
     "status": "completed"
    },
    "tags": []
   },
   "outputs": [],
   "source": []
  },
  {
   "cell_type": "markdown",
   "id": "4ed277ed",
   "metadata": {
    "papermill": {
     "duration": 0.042437,
     "end_time": "2025-01-27T17:32:51.829886",
     "exception": false,
     "start_time": "2025-01-27T17:32:51.787449",
     "status": "completed"
    },
    "tags": []
   },
   "source": [
    "# **6.1. Splitting & Preprocessing the Raw Data**"
   ]
  },
  {
   "cell_type": "markdown",
   "id": "e20ff0ff",
   "metadata": {
    "papermill": {
     "duration": 0.04697,
     "end_time": "2025-01-27T17:32:51.921163",
     "exception": false,
     "start_time": "2025-01-27T17:32:51.874193",
     "status": "completed"
    },
    "tags": []
   },
   "source": [
    "(Preprocess Pollution --> Smooth Pollution --> Calculate smooth aqi)"
   ]
  },
  {
   "cell_type": "code",
   "execution_count": 107,
   "id": "26b88301",
   "metadata": {
    "execution": {
     "iopub.execute_input": "2025-01-27T17:32:52.010965Z",
     "iopub.status.busy": "2025-01-27T17:32:52.010616Z",
     "iopub.status.idle": "2025-01-27T17:32:52.025996Z",
     "shell.execute_reply": "2025-01-27T17:32:52.025008Z"
    },
    "papermill": {
     "duration": 0.063179,
     "end_time": "2025-01-27T17:32:52.027726",
     "exception": false,
     "start_time": "2025-01-27T17:32:51.964547",
     "status": "completed"
    },
    "tags": []
   },
   "outputs": [
    {
     "data": {
      "text/html": [
       "<div>\n",
       "<style scoped>\n",
       "    .dataframe tbody tr th:only-of-type {\n",
       "        vertical-align: middle;\n",
       "    }\n",
       "\n",
       "    .dataframe tbody tr th {\n",
       "        vertical-align: top;\n",
       "    }\n",
       "\n",
       "    .dataframe thead th {\n",
       "        text-align: right;\n",
       "    }\n",
       "</style>\n",
       "<table border=\"1\" class=\"dataframe\">\n",
       "  <thead>\n",
       "    <tr style=\"text-align: right;\">\n",
       "      <th></th>\n",
       "      <th>co</th>\n",
       "      <th>no2</th>\n",
       "      <th>o3</th>\n",
       "      <th>pm10</th>\n",
       "      <th>pm25</th>\n",
       "      <th>so2</th>\n",
       "      <th>humidity</th>\n",
       "      <th>pressure</th>\n",
       "      <th>temperature</th>\n",
       "      <th>wind-speed</th>\n",
       "      <th>Country_City</th>\n",
       "      <th>AQI_Smooth</th>\n",
       "    </tr>\n",
       "  </thead>\n",
       "  <tbody>\n",
       "    <tr>\n",
       "      <th>2014-12-29</th>\n",
       "      <td>11.50</td>\n",
       "      <td>29.400000</td>\n",
       "      <td>5.366667</td>\n",
       "      <td>182.333333</td>\n",
       "      <td>195.666667</td>\n",
       "      <td>6.000000</td>\n",
       "      <td>60.691097</td>\n",
       "      <td>985.187382</td>\n",
       "      <td>26.3352</td>\n",
       "      <td>1.102459</td>\n",
       "      <td>India_Delhi</td>\n",
       "      <td>195.666667</td>\n",
       "    </tr>\n",
       "    <tr>\n",
       "      <th>2014-12-30</th>\n",
       "      <td>11.50</td>\n",
       "      <td>29.400000</td>\n",
       "      <td>5.366667</td>\n",
       "      <td>182.333333</td>\n",
       "      <td>195.666667</td>\n",
       "      <td>6.000000</td>\n",
       "      <td>60.691097</td>\n",
       "      <td>985.187382</td>\n",
       "      <td>26.3352</td>\n",
       "      <td>1.102459</td>\n",
       "      <td>India_Delhi</td>\n",
       "      <td>195.666667</td>\n",
       "    </tr>\n",
       "    <tr>\n",
       "      <th>2014-12-31</th>\n",
       "      <td>11.50</td>\n",
       "      <td>29.400000</td>\n",
       "      <td>5.366667</td>\n",
       "      <td>182.333333</td>\n",
       "      <td>195.666667</td>\n",
       "      <td>6.000000</td>\n",
       "      <td>60.691097</td>\n",
       "      <td>985.187382</td>\n",
       "      <td>26.3352</td>\n",
       "      <td>1.102459</td>\n",
       "      <td>India_Delhi</td>\n",
       "      <td>195.666667</td>\n",
       "    </tr>\n",
       "    <tr>\n",
       "      <th>2015-01-01</th>\n",
       "      <td>11.50</td>\n",
       "      <td>29.400000</td>\n",
       "      <td>5.366667</td>\n",
       "      <td>182.333333</td>\n",
       "      <td>195.666667</td>\n",
       "      <td>6.000000</td>\n",
       "      <td>60.691097</td>\n",
       "      <td>985.187382</td>\n",
       "      <td>26.3352</td>\n",
       "      <td>1.102459</td>\n",
       "      <td>India_Delhi</td>\n",
       "      <td>195.666667</td>\n",
       "    </tr>\n",
       "    <tr>\n",
       "      <th>2015-01-02</th>\n",
       "      <td>11.25</td>\n",
       "      <td>26.616667</td>\n",
       "      <td>5.816667</td>\n",
       "      <td>166.000000</td>\n",
       "      <td>177.000000</td>\n",
       "      <td>5.733333</td>\n",
       "      <td>60.691097</td>\n",
       "      <td>985.187382</td>\n",
       "      <td>26.3352</td>\n",
       "      <td>1.102459</td>\n",
       "      <td>India_Delhi</td>\n",
       "      <td>177.000000</td>\n",
       "    </tr>\n",
       "  </tbody>\n",
       "</table>\n",
       "</div>"
      ],
      "text/plain": [
       "               co        no2        o3        pm10        pm25       so2  \\\n",
       "2014-12-29  11.50  29.400000  5.366667  182.333333  195.666667  6.000000   \n",
       "2014-12-30  11.50  29.400000  5.366667  182.333333  195.666667  6.000000   \n",
       "2014-12-31  11.50  29.400000  5.366667  182.333333  195.666667  6.000000   \n",
       "2015-01-01  11.50  29.400000  5.366667  182.333333  195.666667  6.000000   \n",
       "2015-01-02  11.25  26.616667  5.816667  166.000000  177.000000  5.733333   \n",
       "\n",
       "             humidity    pressure  temperature  wind-speed Country_City  \\\n",
       "2014-12-29  60.691097  985.187382      26.3352    1.102459  India_Delhi   \n",
       "2014-12-30  60.691097  985.187382      26.3352    1.102459  India_Delhi   \n",
       "2014-12-31  60.691097  985.187382      26.3352    1.102459  India_Delhi   \n",
       "2015-01-01  60.691097  985.187382      26.3352    1.102459  India_Delhi   \n",
       "2015-01-02  60.691097  985.187382      26.3352    1.102459  India_Delhi   \n",
       "\n",
       "            AQI_Smooth  \n",
       "2014-12-29  195.666667  \n",
       "2014-12-30  195.666667  \n",
       "2014-12-31  195.666667  \n",
       "2015-01-01  195.666667  \n",
       "2015-01-02  177.000000  "
      ]
     },
     "execution_count": 107,
     "metadata": {},
     "output_type": "execute_result"
    }
   ],
   "source": [
    "new_smooth.head()"
   ]
  },
  {
   "cell_type": "code",
   "execution_count": 108,
   "id": "d3023ddc",
   "metadata": {
    "execution": {
     "iopub.execute_input": "2025-01-27T17:32:52.117494Z",
     "iopub.status.busy": "2025-01-27T17:32:52.117098Z",
     "iopub.status.idle": "2025-01-27T17:32:52.123384Z",
     "shell.execute_reply": "2025-01-27T17:32:52.122254Z"
    },
    "papermill": {
     "duration": 0.052574,
     "end_time": "2025-01-27T17:32:52.125136",
     "exception": false,
     "start_time": "2025-01-27T17:32:52.072562",
     "status": "completed"
    },
    "tags": []
   },
   "outputs": [
    {
     "data": {
      "text/plain": [
       "Index(['co', 'no2', 'o3', 'pm10', 'pm25', 'so2', 'humidity', 'pressure',\n",
       "       'temperature', 'wind-speed', 'Country_City', 'AQI_Smooth'],\n",
       "      dtype='object')"
      ]
     },
     "execution_count": 108,
     "metadata": {},
     "output_type": "execute_result"
    }
   ],
   "source": [
    "new_smooth.columns"
   ]
  },
  {
   "cell_type": "markdown",
   "id": "abd00cba",
   "metadata": {
    "papermill": {
     "duration": 0.045258,
     "end_time": "2025-01-27T17:32:52.214299",
     "exception": false,
     "start_time": "2025-01-27T17:32:52.169041",
     "status": "completed"
    },
    "tags": []
   },
   "source": [
    "***Working with AQI_smoothed_iqr***"
   ]
  },
  {
   "cell_type": "code",
   "execution_count": 109,
   "id": "0ab9f348",
   "metadata": {
    "execution": {
     "iopub.execute_input": "2025-01-27T17:32:52.304430Z",
     "iopub.status.busy": "2025-01-27T17:32:52.304097Z",
     "iopub.status.idle": "2025-01-27T17:32:52.309857Z",
     "shell.execute_reply": "2025-01-27T17:32:52.308726Z"
    },
    "papermill": {
     "duration": 0.052309,
     "end_time": "2025-01-27T17:32:52.311731",
     "exception": false,
     "start_time": "2025-01-27T17:32:52.259422",
     "status": "completed"
    },
    "tags": []
   },
   "outputs": [],
   "source": [
    "data = new_smooth.drop(['Country_City'],axis=1)"
   ]
  },
  {
   "cell_type": "code",
   "execution_count": 110,
   "id": "56042f41",
   "metadata": {
    "execution": {
     "iopub.execute_input": "2025-01-27T17:32:52.400727Z",
     "iopub.status.busy": "2025-01-27T17:32:52.400400Z",
     "iopub.status.idle": "2025-01-27T17:32:52.415782Z",
     "shell.execute_reply": "2025-01-27T17:32:52.414753Z"
    },
    "papermill": {
     "duration": 0.062453,
     "end_time": "2025-01-27T17:32:52.417448",
     "exception": false,
     "start_time": "2025-01-27T17:32:52.354995",
     "status": "completed"
    },
    "tags": []
   },
   "outputs": [
    {
     "data": {
      "text/html": [
       "<div>\n",
       "<style scoped>\n",
       "    .dataframe tbody tr th:only-of-type {\n",
       "        vertical-align: middle;\n",
       "    }\n",
       "\n",
       "    .dataframe tbody tr th {\n",
       "        vertical-align: top;\n",
       "    }\n",
       "\n",
       "    .dataframe thead th {\n",
       "        text-align: right;\n",
       "    }\n",
       "</style>\n",
       "<table border=\"1\" class=\"dataframe\">\n",
       "  <thead>\n",
       "    <tr style=\"text-align: right;\">\n",
       "      <th></th>\n",
       "      <th>co</th>\n",
       "      <th>no2</th>\n",
       "      <th>o3</th>\n",
       "      <th>pm10</th>\n",
       "      <th>pm25</th>\n",
       "      <th>so2</th>\n",
       "      <th>humidity</th>\n",
       "      <th>pressure</th>\n",
       "      <th>temperature</th>\n",
       "      <th>wind-speed</th>\n",
       "      <th>AQI_Smooth</th>\n",
       "    </tr>\n",
       "  </thead>\n",
       "  <tbody>\n",
       "    <tr>\n",
       "      <th>2014-12-29</th>\n",
       "      <td>11.50</td>\n",
       "      <td>29.400000</td>\n",
       "      <td>5.366667</td>\n",
       "      <td>182.333333</td>\n",
       "      <td>195.666667</td>\n",
       "      <td>6.000000</td>\n",
       "      <td>60.691097</td>\n",
       "      <td>985.187382</td>\n",
       "      <td>26.3352</td>\n",
       "      <td>1.102459</td>\n",
       "      <td>195.666667</td>\n",
       "    </tr>\n",
       "    <tr>\n",
       "      <th>2014-12-30</th>\n",
       "      <td>11.50</td>\n",
       "      <td>29.400000</td>\n",
       "      <td>5.366667</td>\n",
       "      <td>182.333333</td>\n",
       "      <td>195.666667</td>\n",
       "      <td>6.000000</td>\n",
       "      <td>60.691097</td>\n",
       "      <td>985.187382</td>\n",
       "      <td>26.3352</td>\n",
       "      <td>1.102459</td>\n",
       "      <td>195.666667</td>\n",
       "    </tr>\n",
       "    <tr>\n",
       "      <th>2014-12-31</th>\n",
       "      <td>11.50</td>\n",
       "      <td>29.400000</td>\n",
       "      <td>5.366667</td>\n",
       "      <td>182.333333</td>\n",
       "      <td>195.666667</td>\n",
       "      <td>6.000000</td>\n",
       "      <td>60.691097</td>\n",
       "      <td>985.187382</td>\n",
       "      <td>26.3352</td>\n",
       "      <td>1.102459</td>\n",
       "      <td>195.666667</td>\n",
       "    </tr>\n",
       "    <tr>\n",
       "      <th>2015-01-01</th>\n",
       "      <td>11.50</td>\n",
       "      <td>29.400000</td>\n",
       "      <td>5.366667</td>\n",
       "      <td>182.333333</td>\n",
       "      <td>195.666667</td>\n",
       "      <td>6.000000</td>\n",
       "      <td>60.691097</td>\n",
       "      <td>985.187382</td>\n",
       "      <td>26.3352</td>\n",
       "      <td>1.102459</td>\n",
       "      <td>195.666667</td>\n",
       "    </tr>\n",
       "    <tr>\n",
       "      <th>2015-01-02</th>\n",
       "      <td>11.25</td>\n",
       "      <td>26.616667</td>\n",
       "      <td>5.816667</td>\n",
       "      <td>166.000000</td>\n",
       "      <td>177.000000</td>\n",
       "      <td>5.733333</td>\n",
       "      <td>60.691097</td>\n",
       "      <td>985.187382</td>\n",
       "      <td>26.3352</td>\n",
       "      <td>1.102459</td>\n",
       "      <td>177.000000</td>\n",
       "    </tr>\n",
       "  </tbody>\n",
       "</table>\n",
       "</div>"
      ],
      "text/plain": [
       "               co        no2        o3        pm10        pm25       so2  \\\n",
       "2014-12-29  11.50  29.400000  5.366667  182.333333  195.666667  6.000000   \n",
       "2014-12-30  11.50  29.400000  5.366667  182.333333  195.666667  6.000000   \n",
       "2014-12-31  11.50  29.400000  5.366667  182.333333  195.666667  6.000000   \n",
       "2015-01-01  11.50  29.400000  5.366667  182.333333  195.666667  6.000000   \n",
       "2015-01-02  11.25  26.616667  5.816667  166.000000  177.000000  5.733333   \n",
       "\n",
       "             humidity    pressure  temperature  wind-speed  AQI_Smooth  \n",
       "2014-12-29  60.691097  985.187382      26.3352    1.102459  195.666667  \n",
       "2014-12-30  60.691097  985.187382      26.3352    1.102459  195.666667  \n",
       "2014-12-31  60.691097  985.187382      26.3352    1.102459  195.666667  \n",
       "2015-01-01  60.691097  985.187382      26.3352    1.102459  195.666667  \n",
       "2015-01-02  60.691097  985.187382      26.3352    1.102459  177.000000  "
      ]
     },
     "execution_count": 110,
     "metadata": {},
     "output_type": "execute_result"
    }
   ],
   "source": [
    "data.head()"
   ]
  },
  {
   "cell_type": "code",
   "execution_count": 111,
   "id": "fa2d47d5",
   "metadata": {
    "execution": {
     "iopub.execute_input": "2025-01-27T17:32:52.563585Z",
     "iopub.status.busy": "2025-01-27T17:32:52.563249Z",
     "iopub.status.idle": "2025-01-27T17:32:52.571016Z",
     "shell.execute_reply": "2025-01-27T17:32:52.570038Z"
    },
    "papermill": {
     "duration": 0.055401,
     "end_time": "2025-01-27T17:32:52.572627",
     "exception": false,
     "start_time": "2025-01-27T17:32:52.517226",
     "status": "completed"
    },
    "tags": []
   },
   "outputs": [
    {
     "name": "stdout",
     "output_type": "stream",
     "text": [
      "Index(['co', 'no2', 'o3', 'pm10', 'pm25', 'so2', 'humidity', 'pressure',\n",
      "       'temperature', 'wind-speed', 'AQI_Smooth'],\n",
      "      dtype='object')\n",
      "Index([], dtype='object')\n"
     ]
    }
   ],
   "source": [
    "num = data.select_dtypes(include=['int16', 'int32', 'int64', 'float16', 'float32', 'float64'])\n",
    "cat = data.select_dtypes(include=['object'])\n",
    "\n",
    "print(num.columns)\n",
    "print(cat.columns)"
   ]
  },
  {
   "cell_type": "code",
   "execution_count": 112,
   "id": "fba483c1",
   "metadata": {
    "execution": {
     "iopub.execute_input": "2025-01-27T17:32:52.662018Z",
     "iopub.status.busy": "2025-01-27T17:32:52.661638Z",
     "iopub.status.idle": "2025-01-27T17:32:52.671254Z",
     "shell.execute_reply": "2025-01-27T17:32:52.670047Z"
    },
    "papermill": {
     "duration": 0.056124,
     "end_time": "2025-01-27T17:32:52.672965",
     "exception": false,
     "start_time": "2025-01-27T17:32:52.616841",
     "status": "completed"
    },
    "tags": []
   },
   "outputs": [
    {
     "name": "stdout",
     "output_type": "stream",
     "text": [
      "(2559, 10) (2559,) (640, 10) (640,)\n"
     ]
    }
   ],
   "source": [
    "X = data[['co', 'no2', 'o3', 'pm10', 'pm25', 'so2', 'humidity', 'pressure',\n",
    "       'temperature', 'wind-speed']]\n",
    "\n",
    "y = data['AQI_Smooth']\n",
    "\n",
    "X_train, X_test, y_train, y_test = train_test_split(X, y, test_size = 0.2, random_state = 42)\n",
    "\n",
    "print(X_train.shape, y_train.shape, X_test.shape, y_test.shape)"
   ]
  },
  {
   "cell_type": "code",
   "execution_count": 113,
   "id": "143ffca5",
   "metadata": {
    "execution": {
     "iopub.execute_input": "2025-01-27T17:32:52.763505Z",
     "iopub.status.busy": "2025-01-27T17:32:52.763133Z",
     "iopub.status.idle": "2025-01-27T17:32:52.767686Z",
     "shell.execute_reply": "2025-01-27T17:32:52.766806Z"
    },
    "papermill": {
     "duration": 0.052561,
     "end_time": "2025-01-27T17:32:52.769378",
     "exception": false,
     "start_time": "2025-01-27T17:32:52.716817",
     "status": "completed"
    },
    "tags": []
   },
   "outputs": [],
   "source": [
    "# Preprocessor without scaling\n",
    "preprocessor = ColumnTransformer(\n",
    "    transformers=[\n",
    "        ('num', 'passthrough', ['co', 'no2', 'o3', 'pm10', 'pm25', 'so2', 'humidity', \n",
    "                                'pressure', 'temperature', 'wind-speed'])\n",
    "    ])\n",
    "# Pipeline\n",
    "pipeline = Pipeline(steps=[\n",
    "    ('preprocessor', preprocessor)\n",
    "])"
   ]
  },
  {
   "cell_type": "markdown",
   "id": "8ef29a40",
   "metadata": {
    "papermill": {
     "duration": 0.04265,
     "end_time": "2025-01-27T17:32:52.855558",
     "exception": false,
     "start_time": "2025-01-27T17:32:52.812908",
     "status": "completed"
    },
    "tags": []
   },
   "source": [
    "# **6.2. Model Training & Testing**"
   ]
  },
  {
   "cell_type": "markdown",
   "id": "9bf60483",
   "metadata": {
    "papermill": {
     "duration": 0.045267,
     "end_time": "2025-01-27T17:32:52.944199",
     "exception": false,
     "start_time": "2025-01-27T17:32:52.898932",
     "status": "completed"
    },
    "tags": []
   },
   "source": [
    "## **6.2.1. LinearRegression**"
   ]
  },
  {
   "cell_type": "code",
   "execution_count": 114,
   "id": "f9665fd3",
   "metadata": {
    "execution": {
     "iopub.execute_input": "2025-01-27T17:32:53.033400Z",
     "iopub.status.busy": "2025-01-27T17:32:53.033060Z",
     "iopub.status.idle": "2025-01-27T17:32:53.046671Z",
     "shell.execute_reply": "2025-01-27T17:32:53.045626Z"
    },
    "papermill": {
     "duration": 0.061253,
     "end_time": "2025-01-27T17:32:53.048568",
     "exception": false,
     "start_time": "2025-01-27T17:32:52.987315",
     "status": "completed"
    },
    "tags": []
   },
   "outputs": [],
   "source": [
    "# training with LinearRegression\n",
    "\n",
    "lm = LinearRegression(fit_intercept = True)\n",
    "\n",
    "pipeline = Pipeline(steps=[('preprocessor', preprocessor), ('regressor', lm)])\n",
    "\n",
    "# Fit the pipeline to the training data\n",
    "pipeline.fit(X_train,y_train)\n",
    "\n",
    "# Predict on the training and test datasets\n",
    "y_pred_train_lm = pipeline.predict(X_train)\n",
    "y_pred_test_lm = pipeline.predict(X_test)"
   ]
  },
  {
   "cell_type": "code",
   "execution_count": 115,
   "id": "05fd0c22",
   "metadata": {
    "execution": {
     "iopub.execute_input": "2025-01-27T17:32:53.137048Z",
     "iopub.status.busy": "2025-01-27T17:32:53.136680Z",
     "iopub.status.idle": "2025-01-27T17:32:53.151094Z",
     "shell.execute_reply": "2025-01-27T17:32:53.149759Z"
    },
    "papermill": {
     "duration": 0.060575,
     "end_time": "2025-01-27T17:32:53.153043",
     "exception": false,
     "start_time": "2025-01-27T17:32:53.092468",
     "status": "completed"
    },
    "tags": []
   },
   "outputs": [
    {
     "name": "stdout",
     "output_type": "stream",
     "text": [
      "The r2 Accuracy on the training dataset prediction is:  0.9957518243926221\n",
      "The r2 Accuracy on the test dataset prediction is:  0.9967443701733852\n",
      "\n",
      "The RMSE  on the training dataset is:  3.5597835382758585\n",
      "The RMSE  on the testing dataset is:  2.9803907275276664\n",
      "\n",
      "The MAE  on the training dataset is:  1.402780233956917\n",
      "The MAE  on the testing dataset is:  1.3042642877255295\n",
      "\n",
      "The MSE  on the training dataset is:  12.67205883937979\n",
      "The MSE  on the testing dataset is:  8.882728888732894\n"
     ]
    }
   ],
   "source": [
    "# Model Accuracy on training and testing dataset\n",
    "\n",
    "print('The r2 Accuracy on the training dataset prediction is: ',r2_score(y_train,y_pred_train_lm) )\n",
    "print('The r2 Accuracy on the test dataset prediction is: ',r2_score(y_test,y_pred_test_lm) )\n",
    "\n",
    "print(\"\")\n",
    "\n",
    "# The Root Mean Squared Error (RMSE)\n",
    "print('The RMSE  on the training dataset is: ',sqrt(mean_squared_error(y_train, y_pred_train_lm)))\n",
    "print('The RMSE  on the testing dataset is: ',sqrt(mean_squared_error(y_test, y_pred_test_lm)))\n",
    "\n",
    "print(\"\")\n",
    "# The Mean Absolute Error (MAE)\n",
    "print('The MAE  on the training dataset is: ',mean_absolute_error(y_train, y_pred_train_lm))\n",
    "print('The MAE  on the testing dataset is: ',mean_absolute_error(y_test, y_pred_test_lm))\n",
    "\n",
    "print(\"\")\n",
    "# The Mean Squared Error (MSE)\n",
    "print('The MSE  on the training dataset is: ',mean_squared_error(y_train, y_pred_train_lm))\n",
    "print('The MSE  on the testing dataset is: ',mean_squared_error(y_test, y_pred_test_lm))"
   ]
  },
  {
   "cell_type": "markdown",
   "id": "122da0aa",
   "metadata": {
    "papermill": {
     "duration": 0.043414,
     "end_time": "2025-01-27T17:32:53.242104",
     "exception": false,
     "start_time": "2025-01-27T17:32:53.198690",
     "status": "completed"
    },
    "tags": []
   },
   "source": [
    "## **6.2.2.  KNeighborsRegressor**"
   ]
  },
  {
   "cell_type": "code",
   "execution_count": 116,
   "id": "56e9e7be",
   "metadata": {
    "execution": {
     "iopub.execute_input": "2025-01-27T17:32:53.332010Z",
     "iopub.status.busy": "2025-01-27T17:32:53.331641Z",
     "iopub.status.idle": "2025-01-27T17:32:53.375559Z",
     "shell.execute_reply": "2025-01-27T17:32:53.374557Z"
    },
    "papermill": {
     "duration": 0.091111,
     "end_time": "2025-01-27T17:32:53.377577",
     "exception": false,
     "start_time": "2025-01-27T17:32:53.286466",
     "status": "completed"
    },
    "tags": []
   },
   "outputs": [],
   "source": [
    "# training with KNeighborsRegressor\n",
    "\n",
    "neigh = KNeighborsRegressor(n_neighbors=2)\n",
    "\n",
    "pipeline = Pipeline(steps=[('preprocessor', preprocessor), ('regressor', neigh)])\n",
    "\n",
    "# Fit the pipeline to the training data\n",
    "pipeline.fit(X_train,y_train)\n",
    "\n",
    "# Predict on the training and test datasets\n",
    "y_pred_train_knn = pipeline.predict(X_train)\n",
    "y_pred_test_knn = pipeline.predict(X_test)"
   ]
  },
  {
   "cell_type": "code",
   "execution_count": 117,
   "id": "08c6e3d0",
   "metadata": {
    "execution": {
     "iopub.execute_input": "2025-01-27T17:32:53.468696Z",
     "iopub.status.busy": "2025-01-27T17:32:53.468355Z",
     "iopub.status.idle": "2025-01-27T17:32:53.483186Z",
     "shell.execute_reply": "2025-01-27T17:32:53.482013Z"
    },
    "papermill": {
     "duration": 0.0622,
     "end_time": "2025-01-27T17:32:53.484858",
     "exception": false,
     "start_time": "2025-01-27T17:32:53.422658",
     "status": "completed"
    },
    "tags": []
   },
   "outputs": [
    {
     "name": "stdout",
     "output_type": "stream",
     "text": [
      "The R2 score on the training dataset prediction is:  0.999370152400974\n",
      "The R2 score on the test dataset prediction is:  0.9979164803148369\n",
      "\n",
      "The RMSE  on the training dataset is:  1.3706926974229983\n",
      "The RMSE  on the testing dataset is:  2.3842648611081327\n",
      "\n",
      "The MAE  on the training dataset is:  0.8875347720344118\n",
      "The MAE  on the testing dataset is:  1.4460839137277408\n",
      "\n",
      "The MSE  on the training dataset is:  1.878798470768735\n",
      "The MSE  on the testing dataset is:  5.684718927914984\n"
     ]
    }
   ],
   "source": [
    "# Model Accuracy on training dataset\n",
    "print('The R2 score on the training dataset prediction is: ', r2_score(y_train,y_pred_train_knn))\n",
    "print('The R2 score on the test dataset prediction is: ', r2_score(y_test, y_pred_test_knn))\n",
    "print(\"\")\n",
    "\n",
    "# The Root Mean Squared Error (RMSE)\n",
    "print('The RMSE  on the training dataset is: ',sqrt(mean_squared_error(y_train,y_pred_train_knn)))\n",
    "print('The RMSE  on the testing dataset is: ',sqrt(mean_squared_error(y_test, y_pred_test_knn)))\n",
    "\n",
    "print(\"\")\n",
    "# The Mean Absolute Error (MAE)\n",
    "print('The MAE  on the training dataset is: ',mean_absolute_error(y_train,y_pred_train_knn))\n",
    "print('The MAE  on the testing dataset is: ',mean_absolute_error(y_test, y_pred_test_knn))\n",
    "\n",
    "print(\"\")\n",
    "# The Mean Squared Error (MSE)\n",
    "print('The MSE  on the training dataset is: ',mean_squared_error(y_train, y_pred_train_knn))\n",
    "print('The MSE  on the testing dataset is: ',mean_squared_error(y_test, y_pred_test_knn))"
   ]
  },
  {
   "cell_type": "markdown",
   "id": "77a324f1",
   "metadata": {
    "papermill": {
     "duration": 0.043876,
     "end_time": "2025-01-27T17:32:53.573036",
     "exception": false,
     "start_time": "2025-01-27T17:32:53.529160",
     "status": "completed"
    },
    "tags": []
   },
   "source": [
    "## **6.2.3.  Random Forest Regressor**"
   ]
  },
  {
   "cell_type": "code",
   "execution_count": 118,
   "id": "457f2394",
   "metadata": {
    "execution": {
     "iopub.execute_input": "2025-01-27T17:32:53.665275Z",
     "iopub.status.busy": "2025-01-27T17:32:53.664858Z",
     "iopub.status.idle": "2025-01-27T17:32:55.031690Z",
     "shell.execute_reply": "2025-01-27T17:32:55.030538Z"
    },
    "papermill": {
     "duration": 1.414577,
     "end_time": "2025-01-27T17:32:55.033691",
     "exception": false,
     "start_time": "2025-01-27T17:32:53.619114",
     "status": "completed"
    },
    "tags": []
   },
   "outputs": [],
   "source": [
    "# Training with random forest regressor\n",
    "random = RandomForestRegressor()\n",
    "\n",
    "pipeline = Pipeline(steps=[('preprocessor', preprocessor), ('regressor', random)])\n",
    "\n",
    "# Fit the pipeline to the training data\n",
    "pipeline.fit(X_train,y_train)\n",
    "\n",
    "# Predict on the training and test datasets\n",
    "y_pred_train_random = pipeline.predict(X_train)\n",
    "y_pred_test_random = pipeline.predict(X_test)"
   ]
  },
  {
   "cell_type": "code",
   "execution_count": 119,
   "id": "0fb8c9f1",
   "metadata": {
    "execution": {
     "iopub.execute_input": "2025-01-27T17:32:55.131674Z",
     "iopub.status.busy": "2025-01-27T17:32:55.131342Z",
     "iopub.status.idle": "2025-01-27T17:32:55.150426Z",
     "shell.execute_reply": "2025-01-27T17:32:55.149147Z"
    },
    "papermill": {
     "duration": 0.069525,
     "end_time": "2025-01-27T17:32:55.152547",
     "exception": false,
     "start_time": "2025-01-27T17:32:55.083022",
     "status": "completed"
    },
    "tags": []
   },
   "outputs": [
    {
     "name": "stdout",
     "output_type": "stream",
     "text": [
      "The R2 score on the training dataset prediction is:  0.9999276339458097\n",
      "The R2 score on the test dataset prediction is:  0.9990428126839805\n",
      "\n",
      "The RMSE  on the training dataset is:  0.46461134087877654\n",
      "The RMSE  on the testing dataset is:  1.6160476489955142\n",
      "\n",
      "The MAE  on the training dataset is:  0.09703708043865322\n",
      "The MAE  on the testing dataset is:  0.3057595612913902\n",
      "\n",
      "The MSE  on the training dataset is:  0.21586369807317468\n",
      "The MSE  on the testing dataset is:  2.611610003823929\n"
     ]
    }
   ],
   "source": [
    "# Model Accuracy on training dataset\n",
    "print('The R2 score on the training dataset prediction is: ', r2_score(y_train,y_pred_train_random))\n",
    "print('The R2 score on the test dataset prediction is: ', r2_score(y_test, y_pred_test_random))\n",
    "print(\"\")\n",
    "\n",
    "# The Root Mean Squared Error (RMSE)\n",
    "print('The RMSE  on the training dataset is: ',sqrt(mean_squared_error(y_train,y_pred_train_random)))\n",
    "print('The RMSE  on the testing dataset is: ',sqrt(mean_squared_error(y_test, y_pred_test_random)))\n",
    "\n",
    "print(\"\")\n",
    "# The Mean Absolute Error (MAE)\n",
    "print('The MAE  on the training dataset is: ',mean_absolute_error(y_train,y_pred_train_random))\n",
    "print('The MAE  on the testing dataset is: ',mean_absolute_error(y_test, y_pred_test_random))\n",
    "\n",
    "print(\"\")\n",
    "# The Mean Squared Error (MSE)\n",
    "print('The MSE  on the training dataset is: ',mean_squared_error(y_train, y_pred_train_random))\n",
    "print('The MSE  on the testing dataset is: ',mean_squared_error(y_test, y_pred_test_random))"
   ]
  },
  {
   "cell_type": "markdown",
   "id": "949e4f2b",
   "metadata": {
    "papermill": {
     "duration": 0.047912,
     "end_time": "2025-01-27T17:32:55.253359",
     "exception": false,
     "start_time": "2025-01-27T17:32:55.205447",
     "status": "completed"
    },
    "tags": []
   },
   "source": [
    "## **6.2.4.  Decision Tree regressor**"
   ]
  },
  {
   "cell_type": "code",
   "execution_count": 120,
   "id": "ecfdc04a",
   "metadata": {
    "execution": {
     "iopub.execute_input": "2025-01-27T17:32:55.349503Z",
     "iopub.status.busy": "2025-01-27T17:32:55.349163Z",
     "iopub.status.idle": "2025-01-27T17:32:55.378271Z",
     "shell.execute_reply": "2025-01-27T17:32:55.377262Z"
    },
    "papermill": {
     "duration": 0.078771,
     "end_time": "2025-01-27T17:32:55.380289",
     "exception": false,
     "start_time": "2025-01-27T17:32:55.301518",
     "status": "completed"
    },
    "tags": []
   },
   "outputs": [],
   "source": [
    "# Training with Decision Tree regressor\n",
    "dt = DecisionTreeRegressor()\n",
    "\n",
    "pipeline = Pipeline(steps=[('preprocessor', preprocessor), ('regressor', dt)])\n",
    "\n",
    "# Fit the pipeline to the training data\n",
    "pipeline.fit(X_train,y_train)\n",
    "\n",
    "# Predict on the training and test datasets\n",
    "y_pred_train_dt = pipeline.predict(X_train)\n",
    "y_pred_test_dt = pipeline.predict(X_test)"
   ]
  },
  {
   "cell_type": "code",
   "execution_count": 121,
   "id": "2eec90d4",
   "metadata": {
    "execution": {
     "iopub.execute_input": "2025-01-27T17:32:55.472087Z",
     "iopub.status.busy": "2025-01-27T17:32:55.471593Z",
     "iopub.status.idle": "2025-01-27T17:32:55.492414Z",
     "shell.execute_reply": "2025-01-27T17:32:55.490794Z"
    },
    "papermill": {
     "duration": 0.068951,
     "end_time": "2025-01-27T17:32:55.494275",
     "exception": false,
     "start_time": "2025-01-27T17:32:55.425324",
     "status": "completed"
    },
    "tags": []
   },
   "outputs": [
    {
     "name": "stdout",
     "output_type": "stream",
     "text": [
      "The R2 score on the training dataset prediction is:  1.0\n",
      "The R2 score on the test dataset prediction is:  0.9992224255420781\n",
      "\n",
      "The RMSE  on the training dataset is:  1.5891322657901308e-15\n",
      "The RMSE  on the testing dataset is:  1.4565543259065339\n",
      "\n",
      "The MAE  on the training dataset is:  8.885254999735525e-17\n",
      "The MAE  on the testing dataset is:  0.2914722236713974\n",
      "\n",
      "The MSE  on the training dataset is:  2.525341358175275e-30\n",
      "The MSE  on the testing dataset is:  2.1215505043170375\n"
     ]
    }
   ],
   "source": [
    "# Model Accuracy on training dataset\n",
    "print('The R2 score on the training dataset prediction is: ', r2_score(y_train,y_pred_train_dt))\n",
    "print('The R2 score on the test dataset prediction is: ', r2_score(y_test, y_pred_test_dt))\n",
    "print(\"\")\n",
    "\n",
    "# The Root Mean Squared Error (RMSE)\n",
    "print('The RMSE  on the training dataset is: ',sqrt(mean_squared_error(y_train,y_pred_train_dt)))\n",
    "print('The RMSE  on the testing dataset is: ',sqrt(mean_squared_error(y_test, y_pred_test_dt)))\n",
    "\n",
    "print(\"\")\n",
    "# The Mean Absolute Error (MAE)\n",
    "print('The MAE  on the training dataset is: ',mean_absolute_error(y_train,y_pred_train_dt))\n",
    "print('The MAE  on the testing dataset is: ',mean_absolute_error(y_test, y_pred_test_dt))\n",
    "\n",
    "print(\"\")\n",
    "# The Mean Squared Error (MSE)\n",
    "print('The MSE  on the training dataset is: ',mean_squared_error(y_train, y_pred_train_dt))\n",
    "print('The MSE  on the testing dataset is: ',mean_squared_error(y_test, y_pred_test_dt))"
   ]
  },
  {
   "cell_type": "markdown",
   "id": "10b2f24c",
   "metadata": {
    "papermill": {
     "duration": 0.045761,
     "end_time": "2025-01-27T17:32:55.587508",
     "exception": false,
     "start_time": "2025-01-27T17:32:55.541747",
     "status": "completed"
    },
    "tags": []
   },
   "source": [
    "## **6.2.5.  Support Vector Machine regressor**"
   ]
  },
  {
   "cell_type": "code",
   "execution_count": 122,
   "id": "ab493654",
   "metadata": {
    "execution": {
     "iopub.execute_input": "2025-01-27T17:32:55.680725Z",
     "iopub.status.busy": "2025-01-27T17:32:55.680261Z",
     "iopub.status.idle": "2025-01-27T17:33:12.528305Z",
     "shell.execute_reply": "2025-01-27T17:33:12.527362Z"
    },
    "papermill": {
     "duration": 16.897032,
     "end_time": "2025-01-27T17:33:12.530151",
     "exception": false,
     "start_time": "2025-01-27T17:32:55.633119",
     "status": "completed"
    },
    "tags": []
   },
   "outputs": [],
   "source": [
    "# Training with Support Vector Machine regressor\n",
    "svr = SVR(kernel='linear')\n",
    "\n",
    "pipeline = Pipeline(steps=[('preprocessor', preprocessor), ('regressor', svr)])\n",
    "\n",
    "# Fit the pipeline to the training data\n",
    "pipeline.fit(X_train, y_train)\n",
    "\n",
    "# Predict on the training and test datasets\n",
    "y_pred_train_svr = pipeline.predict(X_train)\n",
    "y_pred_test_svr = pipeline.predict(X_test)"
   ]
  },
  {
   "cell_type": "code",
   "execution_count": 123,
   "id": "82898c09",
   "metadata": {
    "execution": {
     "iopub.execute_input": "2025-01-27T17:33:12.619180Z",
     "iopub.status.busy": "2025-01-27T17:33:12.618805Z",
     "iopub.status.idle": "2025-01-27T17:33:12.633254Z",
     "shell.execute_reply": "2025-01-27T17:33:12.632023Z"
    },
    "papermill": {
     "duration": 0.061061,
     "end_time": "2025-01-27T17:33:12.634896",
     "exception": false,
     "start_time": "2025-01-27T17:33:12.573835",
     "status": "completed"
    },
    "tags": []
   },
   "outputs": [
    {
     "name": "stdout",
     "output_type": "stream",
     "text": [
      "The R2 score on the training dataset prediction is:  0.9823863776979571\n",
      "The R2 score on the test dataset prediction is:  0.9806482477102334\n",
      "\n",
      "The RMSE on the training dataset is:  7.2484759048667\n",
      "The RMSE on the testing dataset is:  7.266342129155743\n",
      "\n",
      "The MAE on the training dataset is:  4.925408783670605\n",
      "The MAE on the testing dataset is:  5.129733510896875\n",
      "\n",
      "The MSE  on the training dataset is:  52.54040294343312\n",
      "The MSE  on the testing dataset is:  52.799727937943615\n"
     ]
    }
   ],
   "source": [
    "# Model Accuracy on training dataset\n",
    "print('The R2 score on the training dataset prediction is: ', r2_score(y_train, y_pred_train_svr))\n",
    "print('The R2 score on the test dataset prediction is: ', r2_score(y_test, y_pred_test_svr))\n",
    "print(\"\")\n",
    "\n",
    "# The Root Mean Squared Error (RMSE)\n",
    "print('The RMSE on the training dataset is: ', sqrt(mean_squared_error(y_train, y_pred_train_svr)))\n",
    "print('The RMSE on the testing dataset is: ', sqrt(mean_squared_error(y_test, y_pred_test_svr)))\n",
    "print(\"\")\n",
    "\n",
    "# The Mean Absolute Error (MAE)\n",
    "print('The MAE on the training dataset is: ', mean_absolute_error(y_train, y_pred_train_svr))\n",
    "print('The MAE on the testing dataset is: ', mean_absolute_error(y_test, y_pred_test_svr))\n",
    "\n",
    "print(\"\")\n",
    "# The Mean Squared Error (MSE)\n",
    "print('The MSE  on the training dataset is: ',mean_squared_error(y_train, y_pred_train_svr))\n",
    "print('The MSE  on the testing dataset is: ',mean_squared_error(y_test, y_pred_test_svr))"
   ]
  },
  {
   "cell_type": "markdown",
   "id": "06311975",
   "metadata": {
    "papermill": {
     "duration": 0.043684,
     "end_time": "2025-01-27T17:33:12.723479",
     "exception": false,
     "start_time": "2025-01-27T17:33:12.679795",
     "status": "completed"
    },
    "tags": []
   },
   "source": [
    "## **6.2.6.  XGBoost Regressor**"
   ]
  },
  {
   "cell_type": "code",
   "execution_count": 124,
   "id": "d2ebe90c",
   "metadata": {
    "execution": {
     "iopub.execute_input": "2025-01-27T17:33:12.813145Z",
     "iopub.status.busy": "2025-01-27T17:33:12.812773Z",
     "iopub.status.idle": "2025-01-27T17:33:12.964449Z",
     "shell.execute_reply": "2025-01-27T17:33:12.963611Z"
    },
    "papermill": {
     "duration": 0.19961,
     "end_time": "2025-01-27T17:33:12.966634",
     "exception": false,
     "start_time": "2025-01-27T17:33:12.767024",
     "status": "completed"
    },
    "tags": []
   },
   "outputs": [],
   "source": [
    "# Training with XGBoost regressor\n",
    "xgb_regressor = XGBRegressor(objective='reg:squarederror')\n",
    "\n",
    "pipeline = Pipeline(steps=[('preprocessor', preprocessor), ('regressor', xgb_regressor)])\n",
    "\n",
    "# Fit the pipeline to the training data\n",
    "pipeline.fit(X_train, y_train)\n",
    "\n",
    "# Predict on the training and test datasets\n",
    "y_pred_train_xgb = pipeline.predict(X_train)\n",
    "y_pred_test_xgb = pipeline.predict(X_test)"
   ]
  },
  {
   "cell_type": "code",
   "execution_count": 125,
   "id": "301e8ead",
   "metadata": {
    "execution": {
     "iopub.execute_input": "2025-01-27T17:33:13.061218Z",
     "iopub.status.busy": "2025-01-27T17:33:13.060817Z",
     "iopub.status.idle": "2025-01-27T17:33:13.075170Z",
     "shell.execute_reply": "2025-01-27T17:33:13.073972Z"
    },
    "papermill": {
     "duration": 0.060677,
     "end_time": "2025-01-27T17:33:13.076975",
     "exception": false,
     "start_time": "2025-01-27T17:33:13.016298",
     "status": "completed"
    },
    "tags": []
   },
   "outputs": [
    {
     "name": "stdout",
     "output_type": "stream",
     "text": [
      "The R2 score on the training dataset prediction is:  0.9999948866321279\n",
      "The R2 score on the test dataset prediction is:  0.9993201126072465\n",
      "\n",
      "The RMSE on the training dataset is:  0.12350253703384058\n",
      "The RMSE on the testing dataset is:  1.3619908447692324\n",
      "\n",
      "The MAE on the training dataset is:  0.08059062257039981\n",
      "The MAE on the testing dataset is:  0.5011409600575767\n",
      "\n",
      "The MSE  on the training dataset is:  0.015252876653795162\n",
      "The MSE  on the testing dataset is:  1.855019061235207\n"
     ]
    }
   ],
   "source": [
    "# Model Accuracy on training dataset\n",
    "print('The R2 score on the training dataset prediction is: ', r2_score(y_train, y_pred_train_xgb))\n",
    "print('The R2 score on the test dataset prediction is: ', r2_score(y_test, y_pred_test_xgb))\n",
    "print(\"\")\n",
    "\n",
    "# The Root Mean Squared Error (RMSE)\n",
    "print('The RMSE on the training dataset is: ', sqrt(mean_squared_error(y_train, y_pred_train_xgb)))\n",
    "print('The RMSE on the testing dataset is: ', sqrt(mean_squared_error(y_test, y_pred_test_xgb)))\n",
    "print(\"\")\n",
    "\n",
    "# The Mean Absolute Error (MAE)\n",
    "print('The MAE on the training dataset is: ', mean_absolute_error(y_train, y_pred_train_xgb))\n",
    "print('The MAE on the testing dataset is: ', mean_absolute_error(y_test, y_pred_test_xgb))\n",
    "\n",
    "print(\"\")\n",
    "# The Mean Squared Error (MSE)\n",
    "print('The MSE  on the training dataset is: ',mean_squared_error(y_train, y_pred_train_xgb))\n",
    "print('The MSE  on the testing dataset is: ',mean_squared_error(y_test, y_pred_test_xgb))"
   ]
  },
  {
   "cell_type": "markdown",
   "id": "30943603",
   "metadata": {
    "papermill": {
     "duration": 0.043096,
     "end_time": "2025-01-27T17:33:13.163819",
     "exception": false,
     "start_time": "2025-01-27T17:33:13.120723",
     "status": "completed"
    },
    "tags": []
   },
   "source": [
    "## **6.2.7.  Neural Network Regressor**"
   ]
  },
  {
   "cell_type": "code",
   "execution_count": 126,
   "id": "5da024b5",
   "metadata": {
    "execution": {
     "iopub.execute_input": "2025-01-27T17:33:13.251895Z",
     "iopub.status.busy": "2025-01-27T17:33:13.251574Z",
     "iopub.status.idle": "2025-01-27T17:33:14.382846Z",
     "shell.execute_reply": "2025-01-27T17:33:14.381751Z"
    },
    "papermill": {
     "duration": 1.177897,
     "end_time": "2025-01-27T17:33:14.385155",
     "exception": false,
     "start_time": "2025-01-27T17:33:13.207258",
     "status": "completed"
    },
    "tags": []
   },
   "outputs": [],
   "source": [
    "# training with neural network regressor\n",
    "\n",
    "nn = MLPRegressor(hidden_layer_sizes=(8,), activation='relu', solver='adam', max_iter=2000, learning_rate_init=0.001)\n",
    "\n",
    "pipeline = Pipeline(steps=[('preprocessor', preprocessor), ('regressor', nn)])\n",
    "\n",
    "# Fit the pipeline to the training data\n",
    "pipeline.fit(X_train,y_train)\n",
    "\n",
    "# Predict on the training and test datasets\n",
    "y_pred_train_nn = pipeline.predict(X_train)\n",
    "y_pred_test_nn = pipeline.predict(X_test)"
   ]
  },
  {
   "cell_type": "code",
   "execution_count": 127,
   "id": "e4c050d0",
   "metadata": {
    "execution": {
     "iopub.execute_input": "2025-01-27T17:33:14.478320Z",
     "iopub.status.busy": "2025-01-27T17:33:14.477882Z",
     "iopub.status.idle": "2025-01-27T17:33:14.493134Z",
     "shell.execute_reply": "2025-01-27T17:33:14.491827Z"
    },
    "papermill": {
     "duration": 0.063388,
     "end_time": "2025-01-27T17:33:14.495506",
     "exception": false,
     "start_time": "2025-01-27T17:33:14.432118",
     "status": "completed"
    },
    "tags": []
   },
   "outputs": [
    {
     "name": "stdout",
     "output_type": "stream",
     "text": [
      "The R2 score on the training dataset prediction is:  0.9956898187329164\n",
      "The R2 score on the test dataset prediction is:  0.9966423213366961\n",
      "\n",
      "The RMSE on the training dataset is:  3.585668429729277\n",
      "The RMSE on the testing dataset is:  3.0267409999808224\n",
      "\n",
      "The MAE on the training dataset is:  1.4867516859978434\n",
      "The MAE on the testing dataset is:  1.4028677409753132\n",
      "\n",
      "The MSE  on the training dataset is:  12.857018087957218\n",
      "The MSE  on the testing dataset is:  9.16116108096491\n"
     ]
    }
   ],
   "source": [
    "# Model Accuracy on training dataset\n",
    "print('The R2 score on the training dataset prediction is: ', r2_score(y_train, y_pred_train_nn))\n",
    "print('The R2 score on the test dataset prediction is: ', r2_score(y_test, y_pred_test_nn))\n",
    "print(\"\")\n",
    "\n",
    "# The Root Mean Squared Error (RMSE)\n",
    "print('The RMSE on the training dataset is: ', sqrt(mean_squared_error(y_train, y_pred_train_nn)))\n",
    "print('The RMSE on the testing dataset is: ', sqrt(mean_squared_error(y_test, y_pred_test_nn)))\n",
    "print(\"\")\n",
    "\n",
    "# The Mean Absolute Error (MAE)\n",
    "print('The MAE on the training dataset is: ', mean_absolute_error(y_train, y_pred_train_nn))\n",
    "print('The MAE on the testing dataset is: ', mean_absolute_error(y_test, y_pred_test_nn))\n",
    "\n",
    "print(\"\")\n",
    "# The Mean Squared Error (MSE)\n",
    "print('The MSE  on the training dataset is: ',mean_squared_error(y_train, y_pred_train_nn))\n",
    "print('The MSE  on the testing dataset is: ',mean_squared_error(y_test, y_pred_test_nn))"
   ]
  },
  {
   "cell_type": "code",
   "execution_count": null,
   "id": "1014dffd",
   "metadata": {
    "papermill": {
     "duration": 0.0442,
     "end_time": "2025-01-27T17:33:14.589776",
     "exception": false,
     "start_time": "2025-01-27T17:33:14.545576",
     "status": "completed"
    },
    "tags": []
   },
   "outputs": [],
   "source": []
  },
  {
   "cell_type": "markdown",
   "id": "c350d7d8",
   "metadata": {
    "papermill": {
     "duration": 0.063315,
     "end_time": "2025-01-27T17:33:14.702995",
     "exception": false,
     "start_time": "2025-01-27T17:33:14.639680",
     "status": "completed"
    },
    "tags": []
   },
   "source": [
    "# **7. Hyper Parameter Tuning**"
   ]
  },
  {
   "cell_type": "markdown",
   "id": "6b6e2e60",
   "metadata": {
    "papermill": {
     "duration": 0.045564,
     "end_time": "2025-01-27T17:33:14.793892",
     "exception": false,
     "start_time": "2025-01-27T17:33:14.748328",
     "status": "completed"
    },
    "tags": []
   },
   "source": [
    "Lowest Error is using AQI_Rolling"
   ]
  },
  {
   "cell_type": "code",
   "execution_count": 128,
   "id": "689e5467",
   "metadata": {
    "execution": {
     "iopub.execute_input": "2025-01-27T17:33:14.884133Z",
     "iopub.status.busy": "2025-01-27T17:33:14.883740Z",
     "iopub.status.idle": "2025-01-27T17:33:14.903144Z",
     "shell.execute_reply": "2025-01-27T17:33:14.902219Z"
    },
    "papermill": {
     "duration": 0.066104,
     "end_time": "2025-01-27T17:33:14.904577",
     "exception": false,
     "start_time": "2025-01-27T17:33:14.838473",
     "status": "completed"
    },
    "tags": []
   },
   "outputs": [
    {
     "data": {
      "text/html": [
       "<div>\n",
       "<style scoped>\n",
       "    .dataframe tbody tr th:only-of-type {\n",
       "        vertical-align: middle;\n",
       "    }\n",
       "\n",
       "    .dataframe tbody tr th {\n",
       "        vertical-align: top;\n",
       "    }\n",
       "\n",
       "    .dataframe thead th {\n",
       "        text-align: right;\n",
       "    }\n",
       "</style>\n",
       "<table border=\"1\" class=\"dataframe\">\n",
       "  <thead>\n",
       "    <tr style=\"text-align: right;\">\n",
       "      <th></th>\n",
       "      <th>co</th>\n",
       "      <th>no2</th>\n",
       "      <th>o3</th>\n",
       "      <th>pm10</th>\n",
       "      <th>pm25</th>\n",
       "      <th>so2</th>\n",
       "      <th>humidity</th>\n",
       "      <th>pressure</th>\n",
       "      <th>temperature</th>\n",
       "      <th>wind-speed</th>\n",
       "      <th>Country_City</th>\n",
       "      <th>Checks</th>\n",
       "      <th>AQI</th>\n",
       "      <th>AQI_smoothed_iqr</th>\n",
       "      <th>AQI_smoothed_zscore</th>\n",
       "      <th>AQI_smoothed_rolling</th>\n",
       "    </tr>\n",
       "  </thead>\n",
       "  <tbody>\n",
       "    <tr>\n",
       "      <th>2014-12-29</th>\n",
       "      <td>14.1</td>\n",
       "      <td>36.2</td>\n",
       "      <td>3.2</td>\n",
       "      <td>218.0</td>\n",
       "      <td>307.0</td>\n",
       "      <td>4.2</td>\n",
       "      <td>60.691097</td>\n",
       "      <td>985.187382</td>\n",
       "      <td>26.3352</td>\n",
       "      <td>1.102459</td>\n",
       "      <td>India_Delhi</td>\n",
       "      <td>6</td>\n",
       "      <td>307.0</td>\n",
       "      <td>307.0</td>\n",
       "      <td>307.0</td>\n",
       "      <td>307.0</td>\n",
       "    </tr>\n",
       "    <tr>\n",
       "      <th>2014-12-30</th>\n",
       "      <td>20.4</td>\n",
       "      <td>36.8</td>\n",
       "      <td>4.8</td>\n",
       "      <td>330.0</td>\n",
       "      <td>367.0</td>\n",
       "      <td>5.8</td>\n",
       "      <td>60.691097</td>\n",
       "      <td>985.187382</td>\n",
       "      <td>26.3352</td>\n",
       "      <td>1.102459</td>\n",
       "      <td>India_Delhi</td>\n",
       "      <td>6</td>\n",
       "      <td>367.0</td>\n",
       "      <td>367.0</td>\n",
       "      <td>367.0</td>\n",
       "      <td>367.0</td>\n",
       "    </tr>\n",
       "    <tr>\n",
       "      <th>2014-12-31</th>\n",
       "      <td>12.7</td>\n",
       "      <td>28.7</td>\n",
       "      <td>7.8</td>\n",
       "      <td>137.0</td>\n",
       "      <td>202.0</td>\n",
       "      <td>6.3</td>\n",
       "      <td>60.691097</td>\n",
       "      <td>985.187382</td>\n",
       "      <td>26.3352</td>\n",
       "      <td>1.102459</td>\n",
       "      <td>India_Delhi</td>\n",
       "      <td>6</td>\n",
       "      <td>202.0</td>\n",
       "      <td>202.0</td>\n",
       "      <td>202.0</td>\n",
       "      <td>202.0</td>\n",
       "    </tr>\n",
       "    <tr>\n",
       "      <th>2015-01-01</th>\n",
       "      <td>20.8</td>\n",
       "      <td>66.5</td>\n",
       "      <td>5.2</td>\n",
       "      <td>230.0</td>\n",
       "      <td>382.0</td>\n",
       "      <td>9.9</td>\n",
       "      <td>60.691097</td>\n",
       "      <td>985.187382</td>\n",
       "      <td>26.3352</td>\n",
       "      <td>1.102459</td>\n",
       "      <td>India_Delhi</td>\n",
       "      <td>6</td>\n",
       "      <td>382.0</td>\n",
       "      <td>382.0</td>\n",
       "      <td>158.0</td>\n",
       "      <td>382.0</td>\n",
       "    </tr>\n",
       "    <tr>\n",
       "      <th>2015-01-02</th>\n",
       "      <td>12.7</td>\n",
       "      <td>33.9</td>\n",
       "      <td>6.0</td>\n",
       "      <td>81.0</td>\n",
       "      <td>172.0</td>\n",
       "      <td>4.2</td>\n",
       "      <td>60.691097</td>\n",
       "      <td>985.187382</td>\n",
       "      <td>26.3352</td>\n",
       "      <td>1.102459</td>\n",
       "      <td>India_Delhi</td>\n",
       "      <td>6</td>\n",
       "      <td>172.0</td>\n",
       "      <td>172.0</td>\n",
       "      <td>172.0</td>\n",
       "      <td>172.0</td>\n",
       "    </tr>\n",
       "  </tbody>\n",
       "</table>\n",
       "</div>"
      ],
      "text/plain": [
       "              co   no2   o3   pm10   pm25  so2   humidity    pressure  \\\n",
       "2014-12-29  14.1  36.2  3.2  218.0  307.0  4.2  60.691097  985.187382   \n",
       "2014-12-30  20.4  36.8  4.8  330.0  367.0  5.8  60.691097  985.187382   \n",
       "2014-12-31  12.7  28.7  7.8  137.0  202.0  6.3  60.691097  985.187382   \n",
       "2015-01-01  20.8  66.5  5.2  230.0  382.0  9.9  60.691097  985.187382   \n",
       "2015-01-02  12.7  33.9  6.0   81.0  172.0  4.2  60.691097  985.187382   \n",
       "\n",
       "            temperature  wind-speed Country_City  Checks    AQI  \\\n",
       "2014-12-29      26.3352    1.102459  India_Delhi       6  307.0   \n",
       "2014-12-30      26.3352    1.102459  India_Delhi       6  367.0   \n",
       "2014-12-31      26.3352    1.102459  India_Delhi       6  202.0   \n",
       "2015-01-01      26.3352    1.102459  India_Delhi       6  382.0   \n",
       "2015-01-02      26.3352    1.102459  India_Delhi       6  172.0   \n",
       "\n",
       "            AQI_smoothed_iqr  AQI_smoothed_zscore  AQI_smoothed_rolling  \n",
       "2014-12-29             307.0                307.0                 307.0  \n",
       "2014-12-30             367.0                367.0                 367.0  \n",
       "2014-12-31             202.0                202.0                 202.0  \n",
       "2015-01-01             382.0                158.0                 382.0  \n",
       "2015-01-02             172.0                172.0                 172.0  "
      ]
     },
     "execution_count": 128,
     "metadata": {},
     "output_type": "execute_result"
    }
   ],
   "source": [
    "new_data4.head()"
   ]
  },
  {
   "cell_type": "code",
   "execution_count": 129,
   "id": "ec311e2e",
   "metadata": {
    "execution": {
     "iopub.execute_input": "2025-01-27T17:33:14.996379Z",
     "iopub.status.busy": "2025-01-27T17:33:14.996040Z",
     "iopub.status.idle": "2025-01-27T17:33:15.001948Z",
     "shell.execute_reply": "2025-01-27T17:33:15.000881Z"
    },
    "papermill": {
     "duration": 0.054876,
     "end_time": "2025-01-27T17:33:15.003856",
     "exception": false,
     "start_time": "2025-01-27T17:33:14.948980",
     "status": "completed"
    },
    "tags": []
   },
   "outputs": [
    {
     "data": {
      "text/plain": [
       "Index(['co', 'no2', 'o3', 'pm10', 'pm25', 'so2', 'humidity', 'pressure',\n",
       "       'temperature', 'wind-speed', 'Country_City', 'Checks', 'AQI',\n",
       "       'AQI_smoothed_iqr', 'AQI_smoothed_zscore', 'AQI_smoothed_rolling'],\n",
       "      dtype='object')"
      ]
     },
     "execution_count": 129,
     "metadata": {},
     "output_type": "execute_result"
    }
   ],
   "source": [
    "new_data4.columns"
   ]
  },
  {
   "cell_type": "markdown",
   "id": "0219ad06",
   "metadata": {
    "papermill": {
     "duration": 0.04498,
     "end_time": "2025-01-27T17:33:15.093524",
     "exception": false,
     "start_time": "2025-01-27T17:33:15.048544",
     "status": "completed"
    },
    "tags": []
   },
   "source": [
    "***Working with AQI_smoothed_iqr***"
   ]
  },
  {
   "cell_type": "code",
   "execution_count": 130,
   "id": "dc260d9a",
   "metadata": {
    "execution": {
     "iopub.execute_input": "2025-01-27T17:33:15.185327Z",
     "iopub.status.busy": "2025-01-27T17:33:15.184905Z",
     "iopub.status.idle": "2025-01-27T17:33:15.190255Z",
     "shell.execute_reply": "2025-01-27T17:33:15.189208Z"
    },
    "papermill": {
     "duration": 0.053208,
     "end_time": "2025-01-27T17:33:15.191886",
     "exception": false,
     "start_time": "2025-01-27T17:33:15.138678",
     "status": "completed"
    },
    "tags": []
   },
   "outputs": [],
   "source": [
    "data = new_data4.drop([ 'Country_City', 'Checks', 'AQI',\n",
    "       'AQI_smoothed_iqr', 'AQI_smoothed_zscore'],axis=1)"
   ]
  },
  {
   "cell_type": "code",
   "execution_count": 131,
   "id": "5cf1f870",
   "metadata": {
    "execution": {
     "iopub.execute_input": "2025-01-27T17:33:15.283981Z",
     "iopub.status.busy": "2025-01-27T17:33:15.283596Z",
     "iopub.status.idle": "2025-01-27T17:33:15.300899Z",
     "shell.execute_reply": "2025-01-27T17:33:15.299819Z"
    },
    "papermill": {
     "duration": 0.06614,
     "end_time": "2025-01-27T17:33:15.302586",
     "exception": false,
     "start_time": "2025-01-27T17:33:15.236446",
     "status": "completed"
    },
    "tags": []
   },
   "outputs": [
    {
     "data": {
      "text/html": [
       "<div>\n",
       "<style scoped>\n",
       "    .dataframe tbody tr th:only-of-type {\n",
       "        vertical-align: middle;\n",
       "    }\n",
       "\n",
       "    .dataframe tbody tr th {\n",
       "        vertical-align: top;\n",
       "    }\n",
       "\n",
       "    .dataframe thead th {\n",
       "        text-align: right;\n",
       "    }\n",
       "</style>\n",
       "<table border=\"1\" class=\"dataframe\">\n",
       "  <thead>\n",
       "    <tr style=\"text-align: right;\">\n",
       "      <th></th>\n",
       "      <th>co</th>\n",
       "      <th>no2</th>\n",
       "      <th>o3</th>\n",
       "      <th>pm10</th>\n",
       "      <th>pm25</th>\n",
       "      <th>so2</th>\n",
       "      <th>humidity</th>\n",
       "      <th>pressure</th>\n",
       "      <th>temperature</th>\n",
       "      <th>wind-speed</th>\n",
       "      <th>AQI_smoothed_rolling</th>\n",
       "    </tr>\n",
       "  </thead>\n",
       "  <tbody>\n",
       "    <tr>\n",
       "      <th>2014-12-29</th>\n",
       "      <td>14.1</td>\n",
       "      <td>36.2</td>\n",
       "      <td>3.2</td>\n",
       "      <td>218.0</td>\n",
       "      <td>307.0</td>\n",
       "      <td>4.2</td>\n",
       "      <td>60.691097</td>\n",
       "      <td>985.187382</td>\n",
       "      <td>26.3352</td>\n",
       "      <td>1.102459</td>\n",
       "      <td>307.0</td>\n",
       "    </tr>\n",
       "    <tr>\n",
       "      <th>2014-12-30</th>\n",
       "      <td>20.4</td>\n",
       "      <td>36.8</td>\n",
       "      <td>4.8</td>\n",
       "      <td>330.0</td>\n",
       "      <td>367.0</td>\n",
       "      <td>5.8</td>\n",
       "      <td>60.691097</td>\n",
       "      <td>985.187382</td>\n",
       "      <td>26.3352</td>\n",
       "      <td>1.102459</td>\n",
       "      <td>367.0</td>\n",
       "    </tr>\n",
       "    <tr>\n",
       "      <th>2014-12-31</th>\n",
       "      <td>12.7</td>\n",
       "      <td>28.7</td>\n",
       "      <td>7.8</td>\n",
       "      <td>137.0</td>\n",
       "      <td>202.0</td>\n",
       "      <td>6.3</td>\n",
       "      <td>60.691097</td>\n",
       "      <td>985.187382</td>\n",
       "      <td>26.3352</td>\n",
       "      <td>1.102459</td>\n",
       "      <td>202.0</td>\n",
       "    </tr>\n",
       "    <tr>\n",
       "      <th>2015-01-01</th>\n",
       "      <td>20.8</td>\n",
       "      <td>66.5</td>\n",
       "      <td>5.2</td>\n",
       "      <td>230.0</td>\n",
       "      <td>382.0</td>\n",
       "      <td>9.9</td>\n",
       "      <td>60.691097</td>\n",
       "      <td>985.187382</td>\n",
       "      <td>26.3352</td>\n",
       "      <td>1.102459</td>\n",
       "      <td>382.0</td>\n",
       "    </tr>\n",
       "    <tr>\n",
       "      <th>2015-01-02</th>\n",
       "      <td>12.7</td>\n",
       "      <td>33.9</td>\n",
       "      <td>6.0</td>\n",
       "      <td>81.0</td>\n",
       "      <td>172.0</td>\n",
       "      <td>4.2</td>\n",
       "      <td>60.691097</td>\n",
       "      <td>985.187382</td>\n",
       "      <td>26.3352</td>\n",
       "      <td>1.102459</td>\n",
       "      <td>172.0</td>\n",
       "    </tr>\n",
       "  </tbody>\n",
       "</table>\n",
       "</div>"
      ],
      "text/plain": [
       "              co   no2   o3   pm10   pm25  so2   humidity    pressure  \\\n",
       "2014-12-29  14.1  36.2  3.2  218.0  307.0  4.2  60.691097  985.187382   \n",
       "2014-12-30  20.4  36.8  4.8  330.0  367.0  5.8  60.691097  985.187382   \n",
       "2014-12-31  12.7  28.7  7.8  137.0  202.0  6.3  60.691097  985.187382   \n",
       "2015-01-01  20.8  66.5  5.2  230.0  382.0  9.9  60.691097  985.187382   \n",
       "2015-01-02  12.7  33.9  6.0   81.0  172.0  4.2  60.691097  985.187382   \n",
       "\n",
       "            temperature  wind-speed  AQI_smoothed_rolling  \n",
       "2014-12-29      26.3352    1.102459                 307.0  \n",
       "2014-12-30      26.3352    1.102459                 367.0  \n",
       "2014-12-31      26.3352    1.102459                 202.0  \n",
       "2015-01-01      26.3352    1.102459                 382.0  \n",
       "2015-01-02      26.3352    1.102459                 172.0  "
      ]
     },
     "execution_count": 131,
     "metadata": {},
     "output_type": "execute_result"
    }
   ],
   "source": [
    "data.head()"
   ]
  },
  {
   "cell_type": "code",
   "execution_count": 132,
   "id": "7452340f",
   "metadata": {
    "execution": {
     "iopub.execute_input": "2025-01-27T17:33:15.395581Z",
     "iopub.status.busy": "2025-01-27T17:33:15.395176Z",
     "iopub.status.idle": "2025-01-27T17:33:15.403253Z",
     "shell.execute_reply": "2025-01-27T17:33:15.402195Z"
    },
    "papermill": {
     "duration": 0.056087,
     "end_time": "2025-01-27T17:33:15.404992",
     "exception": false,
     "start_time": "2025-01-27T17:33:15.348905",
     "status": "completed"
    },
    "tags": []
   },
   "outputs": [
    {
     "name": "stdout",
     "output_type": "stream",
     "text": [
      "Index(['co', 'no2', 'o3', 'pm10', 'pm25', 'so2', 'humidity', 'pressure',\n",
      "       'temperature', 'wind-speed', 'AQI_smoothed_rolling'],\n",
      "      dtype='object')\n",
      "Index([], dtype='object')\n"
     ]
    }
   ],
   "source": [
    "num = data.select_dtypes(include=['int16', 'int32', 'int64', 'float16', 'float32', 'float64'])\n",
    "cat = data.select_dtypes(include=['object'])\n",
    "\n",
    "print(num.columns)\n",
    "print(cat.columns)"
   ]
  },
  {
   "cell_type": "code",
   "execution_count": 133,
   "id": "8d0ddd95",
   "metadata": {
    "execution": {
     "iopub.execute_input": "2025-01-27T17:33:15.495785Z",
     "iopub.status.busy": "2025-01-27T17:33:15.495413Z",
     "iopub.status.idle": "2025-01-27T17:33:15.505350Z",
     "shell.execute_reply": "2025-01-27T17:33:15.504312Z"
    },
    "papermill": {
     "duration": 0.056892,
     "end_time": "2025-01-27T17:33:15.507074",
     "exception": false,
     "start_time": "2025-01-27T17:33:15.450182",
     "status": "completed"
    },
    "tags": []
   },
   "outputs": [
    {
     "name": "stdout",
     "output_type": "stream",
     "text": [
      "(2559, 10) (2559,) (640, 10) (640,)\n"
     ]
    }
   ],
   "source": [
    "X = data[['co', 'no2', 'o3', 'pm10', 'pm25', 'so2', 'humidity', 'pressure',\n",
    "       'temperature', 'wind-speed']]\n",
    "\n",
    "y = data['AQI_smoothed_rolling']\n",
    "\n",
    "X_train, X_test, y_train, y_test = train_test_split(X, y, test_size = 0.2, random_state = 42)\n",
    "\n",
    "print(X_train.shape, y_train.shape, X_test.shape, y_test.shape)"
   ]
  },
  {
   "cell_type": "code",
   "execution_count": 134,
   "id": "621615fa",
   "metadata": {
    "execution": {
     "iopub.execute_input": "2025-01-27T17:33:15.598298Z",
     "iopub.status.busy": "2025-01-27T17:33:15.597883Z",
     "iopub.status.idle": "2025-01-27T17:33:15.602850Z",
     "shell.execute_reply": "2025-01-27T17:33:15.601625Z"
    },
    "papermill": {
     "duration": 0.052885,
     "end_time": "2025-01-27T17:33:15.604555",
     "exception": false,
     "start_time": "2025-01-27T17:33:15.551670",
     "status": "completed"
    },
    "tags": []
   },
   "outputs": [],
   "source": [
    "# Preprocessor without scaling\n",
    "preprocessor = ColumnTransformer(\n",
    "    transformers=[\n",
    "        ('num', 'passthrough', ['co', 'no2', 'o3', 'pm10', 'pm25', 'so2', 'humidity', \n",
    "                                'pressure', 'temperature', 'wind-speed'])\n",
    "    ])\n",
    "# Pipeline\n",
    "pipeline = Pipeline(steps=[\n",
    "    ('preprocessor', preprocessor)\n",
    "])"
   ]
  },
  {
   "cell_type": "code",
   "execution_count": 135,
   "id": "fba85f34",
   "metadata": {
    "execution": {
     "iopub.execute_input": "2025-01-27T17:33:15.697904Z",
     "iopub.status.busy": "2025-01-27T17:33:15.697583Z",
     "iopub.status.idle": "2025-01-27T17:33:15.702750Z",
     "shell.execute_reply": "2025-01-27T17:33:15.701631Z"
    },
    "papermill": {
     "duration": 0.054851,
     "end_time": "2025-01-27T17:33:15.704488",
     "exception": false,
     "start_time": "2025-01-27T17:33:15.649637",
     "status": "completed"
    },
    "tags": []
   },
   "outputs": [],
   "source": [
    "xgb_ = XGBRegressor(objective='reg:squarederror')\n",
    "\n",
    "# Define the parameter grid\n",
    "param_grid = {\n",
    "    'max_depth': range(2, 10, 1),\n",
    "    'n_estimators': range(60, 220, 40),\n",
    "    'learning_rate': [0.1, 0.01, 0.05]\n",
    "}\n",
    "grid_search = GridSearchCV(\n",
    "    estimator=xgb_regressor,\n",
    "    param_grid=param_grid,\n",
    "    scoring='neg_mean_squared_error',\n",
    "    n_jobs=5,\n",
    "    cv=5,\n",
    "    verbose=True\n",
    ")"
   ]
  },
  {
   "cell_type": "code",
   "execution_count": 136,
   "id": "e016b477",
   "metadata": {
    "execution": {
     "iopub.execute_input": "2025-01-27T17:33:15.798309Z",
     "iopub.status.busy": "2025-01-27T17:33:15.797910Z",
     "iopub.status.idle": "2025-01-27T17:34:00.945763Z",
     "shell.execute_reply": "2025-01-27T17:34:00.944503Z"
    },
    "papermill": {
     "duration": 45.245397,
     "end_time": "2025-01-27T17:34:00.995678",
     "exception": false,
     "start_time": "2025-01-27T17:33:15.750281",
     "status": "completed"
    },
    "tags": []
   },
   "outputs": [
    {
     "name": "stdout",
     "output_type": "stream",
     "text": [
      "Fitting 5 folds for each of 96 candidates, totalling 480 fits\n"
     ]
    },
    {
     "data": {
      "text/html": [
       "<style>#sk-container-id-1 {color: black;background-color: white;}#sk-container-id-1 pre{padding: 0;}#sk-container-id-1 div.sk-toggleable {background-color: white;}#sk-container-id-1 label.sk-toggleable__label {cursor: pointer;display: block;width: 100%;margin-bottom: 0;padding: 0.3em;box-sizing: border-box;text-align: center;}#sk-container-id-1 label.sk-toggleable__label-arrow:before {content: \"▸\";float: left;margin-right: 0.25em;color: #696969;}#sk-container-id-1 label.sk-toggleable__label-arrow:hover:before {color: black;}#sk-container-id-1 div.sk-estimator:hover label.sk-toggleable__label-arrow:before {color: black;}#sk-container-id-1 div.sk-toggleable__content {max-height: 0;max-width: 0;overflow: hidden;text-align: left;background-color: #f0f8ff;}#sk-container-id-1 div.sk-toggleable__content pre {margin: 0.2em;color: black;border-radius: 0.25em;background-color: #f0f8ff;}#sk-container-id-1 input.sk-toggleable__control:checked~div.sk-toggleable__content {max-height: 200px;max-width: 100%;overflow: auto;}#sk-container-id-1 input.sk-toggleable__control:checked~label.sk-toggleable__label-arrow:before {content: \"▾\";}#sk-container-id-1 div.sk-estimator input.sk-toggleable__control:checked~label.sk-toggleable__label {background-color: #d4ebff;}#sk-container-id-1 div.sk-label input.sk-toggleable__control:checked~label.sk-toggleable__label {background-color: #d4ebff;}#sk-container-id-1 input.sk-hidden--visually {border: 0;clip: rect(1px 1px 1px 1px);clip: rect(1px, 1px, 1px, 1px);height: 1px;margin: -1px;overflow: hidden;padding: 0;position: absolute;width: 1px;}#sk-container-id-1 div.sk-estimator {font-family: monospace;background-color: #f0f8ff;border: 1px dotted black;border-radius: 0.25em;box-sizing: border-box;margin-bottom: 0.5em;}#sk-container-id-1 div.sk-estimator:hover {background-color: #d4ebff;}#sk-container-id-1 div.sk-parallel-item::after {content: \"\";width: 100%;border-bottom: 1px solid gray;flex-grow: 1;}#sk-container-id-1 div.sk-label:hover label.sk-toggleable__label {background-color: #d4ebff;}#sk-container-id-1 div.sk-serial::before {content: \"\";position: absolute;border-left: 1px solid gray;box-sizing: border-box;top: 0;bottom: 0;left: 50%;z-index: 0;}#sk-container-id-1 div.sk-serial {display: flex;flex-direction: column;align-items: center;background-color: white;padding-right: 0.2em;padding-left: 0.2em;position: relative;}#sk-container-id-1 div.sk-item {position: relative;z-index: 1;}#sk-container-id-1 div.sk-parallel {display: flex;align-items: stretch;justify-content: center;background-color: white;position: relative;}#sk-container-id-1 div.sk-item::before, #sk-container-id-1 div.sk-parallel-item::before {content: \"\";position: absolute;border-left: 1px solid gray;box-sizing: border-box;top: 0;bottom: 0;left: 50%;z-index: -1;}#sk-container-id-1 div.sk-parallel-item {display: flex;flex-direction: column;z-index: 1;position: relative;background-color: white;}#sk-container-id-1 div.sk-parallel-item:first-child::after {align-self: flex-end;width: 50%;}#sk-container-id-1 div.sk-parallel-item:last-child::after {align-self: flex-start;width: 50%;}#sk-container-id-1 div.sk-parallel-item:only-child::after {width: 0;}#sk-container-id-1 div.sk-dashed-wrapped {border: 1px dashed gray;margin: 0 0.4em 0.5em 0.4em;box-sizing: border-box;padding-bottom: 0.4em;background-color: white;}#sk-container-id-1 div.sk-label label {font-family: monospace;font-weight: bold;display: inline-block;line-height: 1.2em;}#sk-container-id-1 div.sk-label-container {text-align: center;}#sk-container-id-1 div.sk-container {/* jupyter's `normalize.less` sets `[hidden] { display: none; }` but bootstrap.min.css set `[hidden] { display: none !important; }` so we also need the `!important` here to be able to override the default hidden behavior on the sphinx rendered scikit-learn.org. See: https://github.com/scikit-learn/scikit-learn/issues/21755 */display: inline-block !important;position: relative;}#sk-container-id-1 div.sk-text-repr-fallback {display: none;}</style><div id=\"sk-container-id-1\" class=\"sk-top-container\"><div class=\"sk-text-repr-fallback\"><pre>GridSearchCV(cv=5,\n",
       "             estimator=XGBRegressor(base_score=None, booster=None,\n",
       "                                    callbacks=None, colsample_bylevel=None,\n",
       "                                    colsample_bynode=None,\n",
       "                                    colsample_bytree=None, device=None,\n",
       "                                    early_stopping_rounds=None,\n",
       "                                    enable_categorical=False, eval_metric=None,\n",
       "                                    feature_types=None, gamma=None,\n",
       "                                    grow_policy=None, importance_type=None,\n",
       "                                    interaction_constraints=None,\n",
       "                                    learning_rate=None, m...\n",
       "                                    max_cat_to_onehot=None, max_delta_step=None,\n",
       "                                    max_depth=None, max_leaves=None,\n",
       "                                    min_child_weight=None, missing=nan,\n",
       "                                    monotone_constraints=None,\n",
       "                                    multi_strategy=None, n_estimators=None,\n",
       "                                    n_jobs=None, num_parallel_tree=None,\n",
       "                                    random_state=None, ...),\n",
       "             n_jobs=5,\n",
       "             param_grid={&#x27;learning_rate&#x27;: [0.1, 0.01, 0.05],\n",
       "                         &#x27;max_depth&#x27;: range(2, 10),\n",
       "                         &#x27;n_estimators&#x27;: range(60, 220, 40)},\n",
       "             scoring=&#x27;neg_mean_squared_error&#x27;, verbose=True)</pre><b>In a Jupyter environment, please rerun this cell to show the HTML representation or trust the notebook. <br />On GitHub, the HTML representation is unable to render, please try loading this page with nbviewer.org.</b></div><div class=\"sk-container\" hidden><div class=\"sk-item sk-dashed-wrapped\"><div class=\"sk-label-container\"><div class=\"sk-label sk-toggleable\"><input class=\"sk-toggleable__control sk-hidden--visually\" id=\"sk-estimator-id-1\" type=\"checkbox\" ><label for=\"sk-estimator-id-1\" class=\"sk-toggleable__label sk-toggleable__label-arrow\">GridSearchCV</label><div class=\"sk-toggleable__content\"><pre>GridSearchCV(cv=5,\n",
       "             estimator=XGBRegressor(base_score=None, booster=None,\n",
       "                                    callbacks=None, colsample_bylevel=None,\n",
       "                                    colsample_bynode=None,\n",
       "                                    colsample_bytree=None, device=None,\n",
       "                                    early_stopping_rounds=None,\n",
       "                                    enable_categorical=False, eval_metric=None,\n",
       "                                    feature_types=None, gamma=None,\n",
       "                                    grow_policy=None, importance_type=None,\n",
       "                                    interaction_constraints=None,\n",
       "                                    learning_rate=None, m...\n",
       "                                    max_cat_to_onehot=None, max_delta_step=None,\n",
       "                                    max_depth=None, max_leaves=None,\n",
       "                                    min_child_weight=None, missing=nan,\n",
       "                                    monotone_constraints=None,\n",
       "                                    multi_strategy=None, n_estimators=None,\n",
       "                                    n_jobs=None, num_parallel_tree=None,\n",
       "                                    random_state=None, ...),\n",
       "             n_jobs=5,\n",
       "             param_grid={&#x27;learning_rate&#x27;: [0.1, 0.01, 0.05],\n",
       "                         &#x27;max_depth&#x27;: range(2, 10),\n",
       "                         &#x27;n_estimators&#x27;: range(60, 220, 40)},\n",
       "             scoring=&#x27;neg_mean_squared_error&#x27;, verbose=True)</pre></div></div></div><div class=\"sk-parallel\"><div class=\"sk-parallel-item\"><div class=\"sk-item\"><div class=\"sk-label-container\"><div class=\"sk-label sk-toggleable\"><input class=\"sk-toggleable__control sk-hidden--visually\" id=\"sk-estimator-id-2\" type=\"checkbox\" ><label for=\"sk-estimator-id-2\" class=\"sk-toggleable__label sk-toggleable__label-arrow\">estimator: XGBRegressor</label><div class=\"sk-toggleable__content\"><pre>XGBRegressor(base_score=None, booster=None, callbacks=None,\n",
       "             colsample_bylevel=None, colsample_bynode=None,\n",
       "             colsample_bytree=None, device=None, early_stopping_rounds=None,\n",
       "             enable_categorical=False, eval_metric=None, feature_types=None,\n",
       "             gamma=None, grow_policy=None, importance_type=None,\n",
       "             interaction_constraints=None, learning_rate=None, max_bin=None,\n",
       "             max_cat_threshold=None, max_cat_to_onehot=None,\n",
       "             max_delta_step=None, max_depth=None, max_leaves=None,\n",
       "             min_child_weight=None, missing=nan, monotone_constraints=None,\n",
       "             multi_strategy=None, n_estimators=None, n_jobs=None,\n",
       "             num_parallel_tree=None, random_state=None, ...)</pre></div></div></div><div class=\"sk-serial\"><div class=\"sk-item\"><div class=\"sk-estimator sk-toggleable\"><input class=\"sk-toggleable__control sk-hidden--visually\" id=\"sk-estimator-id-3\" type=\"checkbox\" ><label for=\"sk-estimator-id-3\" class=\"sk-toggleable__label sk-toggleable__label-arrow\">XGBRegressor</label><div class=\"sk-toggleable__content\"><pre>XGBRegressor(base_score=None, booster=None, callbacks=None,\n",
       "             colsample_bylevel=None, colsample_bynode=None,\n",
       "             colsample_bytree=None, device=None, early_stopping_rounds=None,\n",
       "             enable_categorical=False, eval_metric=None, feature_types=None,\n",
       "             gamma=None, grow_policy=None, importance_type=None,\n",
       "             interaction_constraints=None, learning_rate=None, max_bin=None,\n",
       "             max_cat_threshold=None, max_cat_to_onehot=None,\n",
       "             max_delta_step=None, max_depth=None, max_leaves=None,\n",
       "             min_child_weight=None, missing=nan, monotone_constraints=None,\n",
       "             multi_strategy=None, n_estimators=None, n_jobs=None,\n",
       "             num_parallel_tree=None, random_state=None, ...)</pre></div></div></div></div></div></div></div></div></div></div>"
      ],
      "text/plain": [
       "GridSearchCV(cv=5,\n",
       "             estimator=XGBRegressor(base_score=None, booster=None,\n",
       "                                    callbacks=None, colsample_bylevel=None,\n",
       "                                    colsample_bynode=None,\n",
       "                                    colsample_bytree=None, device=None,\n",
       "                                    early_stopping_rounds=None,\n",
       "                                    enable_categorical=False, eval_metric=None,\n",
       "                                    feature_types=None, gamma=None,\n",
       "                                    grow_policy=None, importance_type=None,\n",
       "                                    interaction_constraints=None,\n",
       "                                    learning_rate=None, m...\n",
       "                                    max_cat_to_onehot=None, max_delta_step=None,\n",
       "                                    max_depth=None, max_leaves=None,\n",
       "                                    min_child_weight=None, missing=nan,\n",
       "                                    monotone_constraints=None,\n",
       "                                    multi_strategy=None, n_estimators=None,\n",
       "                                    n_jobs=None, num_parallel_tree=None,\n",
       "                                    random_state=None, ...),\n",
       "             n_jobs=5,\n",
       "             param_grid={'learning_rate': [0.1, 0.01, 0.05],\n",
       "                         'max_depth': range(2, 10),\n",
       "                         'n_estimators': range(60, 220, 40)},\n",
       "             scoring='neg_mean_squared_error', verbose=True)"
      ]
     },
     "execution_count": 136,
     "metadata": {},
     "output_type": "execute_result"
    }
   ],
   "source": [
    "grid_search.fit(X_train, y_train)"
   ]
  },
  {
   "cell_type": "code",
   "execution_count": 137,
   "id": "da98f9b4",
   "metadata": {
    "execution": {
     "iopub.execute_input": "2025-01-27T17:34:01.093778Z",
     "iopub.status.busy": "2025-01-27T17:34:01.093413Z",
     "iopub.status.idle": "2025-01-27T17:34:01.100152Z",
     "shell.execute_reply": "2025-01-27T17:34:01.098897Z"
    },
    "papermill": {
     "duration": 0.056029,
     "end_time": "2025-01-27T17:34:01.101816",
     "exception": false,
     "start_time": "2025-01-27T17:34:01.045787",
     "status": "completed"
    },
    "tags": []
   },
   "outputs": [
    {
     "name": "stdout",
     "output_type": "stream",
     "text": [
      "XGBRegressor(base_score=None, booster=None, callbacks=None,\n",
      "             colsample_bylevel=None, colsample_bynode=None,\n",
      "             colsample_bytree=None, device=None, early_stopping_rounds=None,\n",
      "             enable_categorical=False, eval_metric=None, feature_types=None,\n",
      "             gamma=None, grow_policy=None, importance_type=None,\n",
      "             interaction_constraints=None, learning_rate=0.1, max_bin=None,\n",
      "             max_cat_threshold=None, max_cat_to_onehot=None,\n",
      "             max_delta_step=None, max_depth=6, max_leaves=None,\n",
      "             min_child_weight=None, missing=nan, monotone_constraints=None,\n",
      "             multi_strategy=None, n_estimators=180, n_jobs=None,\n",
      "             num_parallel_tree=None, random_state=None, ...)\n"
     ]
    }
   ],
   "source": [
    "best_model = grid_search.best_estimator_\n",
    "print(best_model)"
   ]
  },
  {
   "cell_type": "code",
   "execution_count": 138,
   "id": "9c0f7c78",
   "metadata": {
    "execution": {
     "iopub.execute_input": "2025-01-27T17:34:01.197891Z",
     "iopub.status.busy": "2025-01-27T17:34:01.197560Z",
     "iopub.status.idle": "2025-01-27T17:34:01.206608Z",
     "shell.execute_reply": "2025-01-27T17:34:01.205676Z"
    },
    "papermill": {
     "duration": 0.059476,
     "end_time": "2025-01-27T17:34:01.208942",
     "exception": false,
     "start_time": "2025-01-27T17:34:01.149466",
     "status": "completed"
    },
    "tags": []
   },
   "outputs": [],
   "source": [
    "y_pred = best_model.predict(X_test)"
   ]
  },
  {
   "cell_type": "code",
   "execution_count": 139,
   "id": "00c3e9d7",
   "metadata": {
    "execution": {
     "iopub.execute_input": "2025-01-27T17:34:01.308563Z",
     "iopub.status.busy": "2025-01-27T17:34:01.308219Z",
     "iopub.status.idle": "2025-01-27T17:34:01.319941Z",
     "shell.execute_reply": "2025-01-27T17:34:01.317973Z"
    },
    "papermill": {
     "duration": 0.061624,
     "end_time": "2025-01-27T17:34:01.321871",
     "exception": false,
     "start_time": "2025-01-27T17:34:01.260247",
     "status": "completed"
    },
    "tags": []
   },
   "outputs": [
    {
     "name": "stdout",
     "output_type": "stream",
     "text": [
      "The R² score on the test dataset is: 0.9924258703262718\n"
     ]
    }
   ],
   "source": [
    "r2_score_test = best_model.score(X_test, y_test)\n",
    "\n",
    "# Print the R² score\n",
    "print(f\"The R² score on the test dataset is: {r2_score_test}\")"
   ]
  },
  {
   "cell_type": "code",
   "execution_count": 140,
   "id": "6140f050",
   "metadata": {
    "execution": {
     "iopub.execute_input": "2025-01-27T17:34:01.418497Z",
     "iopub.status.busy": "2025-01-27T17:34:01.418101Z",
     "iopub.status.idle": "2025-01-27T17:34:01.430782Z",
     "shell.execute_reply": "2025-01-27T17:34:01.427837Z"
    },
    "papermill": {
     "duration": 0.062349,
     "end_time": "2025-01-27T17:34:01.432735",
     "exception": false,
     "start_time": "2025-01-27T17:34:01.370386",
     "status": "completed"
    },
    "tags": []
   },
   "outputs": [
    {
     "name": "stdout",
     "output_type": "stream",
     "text": [
      "The Mean Squared Error on the test dataset is: 34.435324856400825\n",
      "The Mean Absolute Error on the test dataset is: 1.0950615465641023\n"
     ]
    }
   ],
   "source": [
    "y_pred_test = best_model.predict(X_test)\n",
    "\n",
    "# Calculate MSE and MAE\n",
    "mse_test = mean_squared_error(y_test, y_pred_test)\n",
    "mae_test = mean_absolute_error(y_test, y_pred_test)\n",
    "\n",
    "# Print the MSE and MAE\n",
    "print(f\"The Mean Squared Error on the test dataset is: {mse_test}\")\n",
    "print(f\"The Mean Absolute Error on the test dataset is: {mae_test}\")"
   ]
  }
 ],
 "metadata": {
  "kaggle": {
   "accelerator": "none",
   "dataSources": [
    {
     "datasetId": 6557354,
     "sourceId": 10594490,
     "sourceType": "datasetVersion"
    },
    {
     "sourceId": 219513339,
     "sourceType": "kernelVersion"
    }
   ],
   "dockerImageVersionId": 30839,
   "isGpuEnabled": false,
   "isInternetEnabled": false,
   "language": "python",
   "sourceType": "notebook"
  },
  "kernelspec": {
   "display_name": "Python 3",
   "language": "python",
   "name": "python3"
  },
  "language_info": {
   "codemirror_mode": {
    "name": "ipython",
    "version": 3
   },
   "file_extension": ".py",
   "mimetype": "text/x-python",
   "name": "python",
   "nbconvert_exporter": "python",
   "pygments_lexer": "ipython3",
   "version": "3.10.12"
  },
  "papermill": {
   "default_parameters": {},
   "duration": 215.453577,
   "end_time": "2025-01-27T17:34:02.406414",
   "environment_variables": {},
   "exception": null,
   "input_path": "__notebook__.ipynb",
   "output_path": "__notebook__.ipynb",
   "parameters": {},
   "start_time": "2025-01-27T17:30:26.952837",
   "version": "2.6.0"
  }
 },
 "nbformat": 4,
 "nbformat_minor": 5
}
