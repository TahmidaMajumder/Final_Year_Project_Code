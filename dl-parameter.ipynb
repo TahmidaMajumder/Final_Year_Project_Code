{
 "cells": [
  {
   "cell_type": "code",
   "execution_count": 1,
   "id": "647aada8",
   "metadata": {
    "_cell_guid": "0bd5fd8f-4de5-406f-92da-d16f3c990795",
    "_uuid": "63737120-456d-498d-a950-7893b9099e72",
    "execution": {
     "iopub.execute_input": "2025-01-27T20:03:19.731960Z",
     "iopub.status.busy": "2025-01-27T20:03:19.731627Z",
     "iopub.status.idle": "2025-01-27T20:03:22.715077Z",
     "shell.execute_reply": "2025-01-27T20:03:22.713955Z"
    },
    "papermill": {
     "duration": 3.010013,
     "end_time": "2025-01-27T20:03:22.717230",
     "exception": false,
     "start_time": "2025-01-27T20:03:19.707217",
     "status": "completed"
    },
    "tags": []
   },
   "outputs": [],
   "source": [
    "# Packages / libraries\n",
    "import os #provides functions for interacting with the operating system\n",
    "import numpy as np\n",
    "import pandas as pd\n",
    "from matplotlib import pyplot as plt\n",
    "import seaborn as sns\n",
    "\n",
    "from sklearn.preprocessing import MinMaxScaler\n",
    "from sklearn.preprocessing import StandardScaler\n",
    "\n",
    "from sklearn.metrics import r2_score, explained_variance_score, mean_absolute_error, mean_squared_error\n",
    "from math import sqrt\n",
    "\n",
    "# remove warnings\n",
    "import warnings\n",
    "warnings.simplefilter(action='ignore', category=RuntimeWarning)"
   ]
  },
  {
   "cell_type": "markdown",
   "id": "5646ba56",
   "metadata": {
    "papermill": {
     "duration": 0.021772,
     "end_time": "2025-01-27T20:03:22.760576",
     "exception": false,
     "start_time": "2025-01-27T20:03:22.738804",
     "status": "completed"
    },
    "tags": []
   },
   "source": [
    "# **1. Loading Dataset**"
   ]
  },
  {
   "cell_type": "code",
   "execution_count": 2,
   "id": "8e3a28dd",
   "metadata": {
    "execution": {
     "iopub.execute_input": "2025-01-27T20:03:22.805154Z",
     "iopub.status.busy": "2025-01-27T20:03:22.804646Z",
     "iopub.status.idle": "2025-01-27T20:03:22.862537Z",
     "shell.execute_reply": "2025-01-27T20:03:22.861393Z"
    },
    "papermill": {
     "duration": 0.082633,
     "end_time": "2025-01-27T20:03:22.864247",
     "exception": false,
     "start_time": "2025-01-27T20:03:22.781614",
     "status": "completed"
    },
    "tags": []
   },
   "outputs": [
    {
     "name": "stdout",
     "output_type": "stream",
     "text": [
      "(2399, 12)\n"
     ]
    },
    {
     "data": {
      "text/html": [
       "<div>\n",
       "<style scoped>\n",
       "    .dataframe tbody tr th:only-of-type {\n",
       "        vertical-align: middle;\n",
       "    }\n",
       "\n",
       "    .dataframe tbody tr th {\n",
       "        vertical-align: top;\n",
       "    }\n",
       "\n",
       "    .dataframe thead th {\n",
       "        text-align: right;\n",
       "    }\n",
       "</style>\n",
       "<table border=\"1\" class=\"dataframe\">\n",
       "  <thead>\n",
       "    <tr style=\"text-align: right;\">\n",
       "      <th></th>\n",
       "      <th>Date</th>\n",
       "      <th>co</th>\n",
       "      <th>no2</th>\n",
       "      <th>o3</th>\n",
       "      <th>pm10</th>\n",
       "      <th>pm25</th>\n",
       "      <th>so2</th>\n",
       "      <th>humidity</th>\n",
       "      <th>pressure</th>\n",
       "      <th>temperature</th>\n",
       "      <th>wind-speed</th>\n",
       "      <th>Country_City</th>\n",
       "    </tr>\n",
       "  </thead>\n",
       "  <tbody>\n",
       "    <tr>\n",
       "      <th>0</th>\n",
       "      <td>2014-12-29</td>\n",
       "      <td>14.1</td>\n",
       "      <td>36.2</td>\n",
       "      <td>3.2</td>\n",
       "      <td>218.0</td>\n",
       "      <td>307.0</td>\n",
       "      <td>4.2</td>\n",
       "      <td>NaN</td>\n",
       "      <td>NaN</td>\n",
       "      <td>NaN</td>\n",
       "      <td>NaN</td>\n",
       "      <td>India_Delhi</td>\n",
       "    </tr>\n",
       "    <tr>\n",
       "      <th>1</th>\n",
       "      <td>2014-12-30</td>\n",
       "      <td>20.4</td>\n",
       "      <td>36.8</td>\n",
       "      <td>4.8</td>\n",
       "      <td>330.0</td>\n",
       "      <td>367.0</td>\n",
       "      <td>5.8</td>\n",
       "      <td>NaN</td>\n",
       "      <td>NaN</td>\n",
       "      <td>NaN</td>\n",
       "      <td>NaN</td>\n",
       "      <td>India_Delhi</td>\n",
       "    </tr>\n",
       "    <tr>\n",
       "      <th>2</th>\n",
       "      <td>2014-12-31</td>\n",
       "      <td>12.7</td>\n",
       "      <td>28.7</td>\n",
       "      <td>7.8</td>\n",
       "      <td>137.0</td>\n",
       "      <td>202.0</td>\n",
       "      <td>6.3</td>\n",
       "      <td>NaN</td>\n",
       "      <td>NaN</td>\n",
       "      <td>NaN</td>\n",
       "      <td>NaN</td>\n",
       "      <td>India_Delhi</td>\n",
       "    </tr>\n",
       "    <tr>\n",
       "      <th>3</th>\n",
       "      <td>2015-01-01</td>\n",
       "      <td>20.8</td>\n",
       "      <td>66.5</td>\n",
       "      <td>5.2</td>\n",
       "      <td>230.0</td>\n",
       "      <td>382.0</td>\n",
       "      <td>9.9</td>\n",
       "      <td>NaN</td>\n",
       "      <td>NaN</td>\n",
       "      <td>NaN</td>\n",
       "      <td>NaN</td>\n",
       "      <td>India_Delhi</td>\n",
       "    </tr>\n",
       "    <tr>\n",
       "      <th>4</th>\n",
       "      <td>2015-01-02</td>\n",
       "      <td>12.7</td>\n",
       "      <td>33.9</td>\n",
       "      <td>6.0</td>\n",
       "      <td>81.0</td>\n",
       "      <td>172.0</td>\n",
       "      <td>4.2</td>\n",
       "      <td>NaN</td>\n",
       "      <td>NaN</td>\n",
       "      <td>NaN</td>\n",
       "      <td>NaN</td>\n",
       "      <td>India_Delhi</td>\n",
       "    </tr>\n",
       "  </tbody>\n",
       "</table>\n",
       "</div>"
      ],
      "text/plain": [
       "         Date    co   no2   o3   pm10   pm25  so2  humidity  pressure  \\\n",
       "0  2014-12-29  14.1  36.2  3.2  218.0  307.0  4.2       NaN       NaN   \n",
       "1  2014-12-30  20.4  36.8  4.8  330.0  367.0  5.8       NaN       NaN   \n",
       "2  2014-12-31  12.7  28.7  7.8  137.0  202.0  6.3       NaN       NaN   \n",
       "3  2015-01-01  20.8  66.5  5.2  230.0  382.0  9.9       NaN       NaN   \n",
       "4  2015-01-02  12.7  33.9  6.0   81.0  172.0  4.2       NaN       NaN   \n",
       "\n",
       "   temperature  wind-speed Country_City  \n",
       "0          NaN         NaN  India_Delhi  \n",
       "1          NaN         NaN  India_Delhi  \n",
       "2          NaN         NaN  India_Delhi  \n",
       "3          NaN         NaN  India_Delhi  \n",
       "4          NaN         NaN  India_Delhi  "
      ]
     },
     "execution_count": 2,
     "metadata": {},
     "output_type": "execute_result"
    }
   ],
   "source": [
    "# Loading the data\n",
    "new_data = pd.read_csv(\"/kaggle/input/seperated-data/India_Delhi.csv\")\n",
    "\n",
    "# print the shape\n",
    "print(new_data.shape)\n",
    "\n",
    "#runs the first 5 rows\n",
    "new_data.head()"
   ]
  },
  {
   "cell_type": "code",
   "execution_count": 3,
   "id": "f3542b83",
   "metadata": {
    "execution": {
     "iopub.execute_input": "2025-01-27T20:03:22.909053Z",
     "iopub.status.busy": "2025-01-27T20:03:22.908648Z",
     "iopub.status.idle": "2025-01-27T20:03:22.917268Z",
     "shell.execute_reply": "2025-01-27T20:03:22.915950Z"
    },
    "papermill": {
     "duration": 0.032877,
     "end_time": "2025-01-27T20:03:22.919218",
     "exception": false,
     "start_time": "2025-01-27T20:03:22.886341",
     "status": "completed"
    },
    "tags": []
   },
   "outputs": [
    {
     "name": "stdout",
     "output_type": "stream",
     "text": [
      "Minimum date: 2014-12-29\n",
      "Maximum date: 2023-10-01\n"
     ]
    }
   ],
   "source": [
    "# Find the minimum and maximum dates\n",
    "min_date = new_data['Date'].min()\n",
    "max_date = new_data['Date'].max()\n",
    "\n",
    "print('Minimum date:', min_date)\n",
    "print('Maximum date:', max_date)"
   ]
  },
  {
   "cell_type": "code",
   "execution_count": 4,
   "id": "3013e914",
   "metadata": {
    "execution": {
     "iopub.execute_input": "2025-01-27T20:03:22.964352Z",
     "iopub.status.busy": "2025-01-27T20:03:22.964011Z",
     "iopub.status.idle": "2025-01-27T20:03:22.988541Z",
     "shell.execute_reply": "2025-01-27T20:03:22.987378Z"
    },
    "papermill": {
     "duration": 0.049235,
     "end_time": "2025-01-27T20:03:22.990230",
     "exception": false,
     "start_time": "2025-01-27T20:03:22.940995",
     "status": "completed"
    },
    "tags": []
   },
   "outputs": [
    {
     "name": "stdout",
     "output_type": "stream",
     "text": [
      "<class 'pandas.core.frame.DataFrame'>\n",
      "RangeIndex: 2399 entries, 0 to 2398\n",
      "Data columns (total 12 columns):\n",
      " #   Column        Non-Null Count  Dtype  \n",
      "---  ------        --------------  -----  \n",
      " 0   Date          2399 non-null   object \n",
      " 1   co            2399 non-null   float64\n",
      " 2   no2           2399 non-null   float64\n",
      " 3   o3            2399 non-null   float64\n",
      " 4   pm10          2398 non-null   float64\n",
      " 5   pm25          2398 non-null   float64\n",
      " 6   so2           2399 non-null   float64\n",
      " 7   humidity      1698 non-null   float64\n",
      " 8   pressure      1698 non-null   float64\n",
      " 9   temperature   1698 non-null   float64\n",
      " 10  wind-speed    1629 non-null   float64\n",
      " 11  Country_City  2399 non-null   object \n",
      "dtypes: float64(10), object(2)\n",
      "memory usage: 225.0+ KB\n"
     ]
    }
   ],
   "source": [
    "new_data.info()"
   ]
  },
  {
   "cell_type": "code",
   "execution_count": 5,
   "id": "eca5188d",
   "metadata": {
    "execution": {
     "iopub.execute_input": "2025-01-27T20:03:23.037023Z",
     "iopub.status.busy": "2025-01-27T20:03:23.036663Z",
     "iopub.status.idle": "2025-01-27T20:03:23.071594Z",
     "shell.execute_reply": "2025-01-27T20:03:23.070510Z"
    },
    "papermill": {
     "duration": 0.061648,
     "end_time": "2025-01-27T20:03:23.073261",
     "exception": false,
     "start_time": "2025-01-27T20:03:23.011613",
     "status": "completed"
    },
    "tags": []
   },
   "outputs": [
    {
     "data": {
      "text/html": [
       "<div>\n",
       "<style scoped>\n",
       "    .dataframe tbody tr th:only-of-type {\n",
       "        vertical-align: middle;\n",
       "    }\n",
       "\n",
       "    .dataframe tbody tr th {\n",
       "        vertical-align: top;\n",
       "    }\n",
       "\n",
       "    .dataframe thead th {\n",
       "        text-align: right;\n",
       "    }\n",
       "</style>\n",
       "<table border=\"1\" class=\"dataframe\">\n",
       "  <thead>\n",
       "    <tr style=\"text-align: right;\">\n",
       "      <th></th>\n",
       "      <th>co</th>\n",
       "      <th>no2</th>\n",
       "      <th>o3</th>\n",
       "      <th>pm10</th>\n",
       "      <th>pm25</th>\n",
       "      <th>so2</th>\n",
       "      <th>humidity</th>\n",
       "      <th>pressure</th>\n",
       "      <th>temperature</th>\n",
       "      <th>wind-speed</th>\n",
       "    </tr>\n",
       "  </thead>\n",
       "  <tbody>\n",
       "    <tr>\n",
       "      <th>count</th>\n",
       "      <td>2399.000000</td>\n",
       "      <td>2399.000000</td>\n",
       "      <td>2399.000000</td>\n",
       "      <td>2398.000000</td>\n",
       "      <td>2398.000000</td>\n",
       "      <td>2399.000000</td>\n",
       "      <td>1698.000000</td>\n",
       "      <td>1698.000000</td>\n",
       "      <td>1698.000000</td>\n",
       "      <td>1629.000000</td>\n",
       "    </tr>\n",
       "    <tr>\n",
       "      <th>mean</th>\n",
       "      <td>9.325594</td>\n",
       "      <td>16.870946</td>\n",
       "      <td>9.480700</td>\n",
       "      <td>131.572143</td>\n",
       "      <td>164.397832</td>\n",
       "      <td>5.702751</td>\n",
       "      <td>60.708304</td>\n",
       "      <td>985.184923</td>\n",
       "      <td>26.338869</td>\n",
       "      <td>1.101964</td>\n",
       "    </tr>\n",
       "    <tr>\n",
       "      <th>std</th>\n",
       "      <td>3.715709</td>\n",
       "      <td>7.805715</td>\n",
       "      <td>4.829603</td>\n",
       "      <td>77.174642</td>\n",
       "      <td>64.829240</td>\n",
       "      <td>2.289821</td>\n",
       "      <td>17.138084</td>\n",
       "      <td>10.022854</td>\n",
       "      <td>6.631277</td>\n",
       "      <td>0.493156</td>\n",
       "    </tr>\n",
       "    <tr>\n",
       "      <th>min</th>\n",
       "      <td>0.100000</td>\n",
       "      <td>5.000000</td>\n",
       "      <td>2.400000</td>\n",
       "      <td>12.000000</td>\n",
       "      <td>30.000000</td>\n",
       "      <td>1.700000</td>\n",
       "      <td>13.000000</td>\n",
       "      <td>743.000000</td>\n",
       "      <td>6.200000</td>\n",
       "      <td>0.300000</td>\n",
       "    </tr>\n",
       "    <tr>\n",
       "      <th>25%</th>\n",
       "      <td>7.050000</td>\n",
       "      <td>10.600000</td>\n",
       "      <td>6.000000</td>\n",
       "      <td>82.000000</td>\n",
       "      <td>123.000000</td>\n",
       "      <td>4.000000</td>\n",
       "      <td>48.500000</td>\n",
       "      <td>979.800000</td>\n",
       "      <td>22.100000</td>\n",
       "      <td>0.800000</td>\n",
       "    </tr>\n",
       "    <tr>\n",
       "      <th>50%</th>\n",
       "      <td>8.400000</td>\n",
       "      <td>15.800000</td>\n",
       "      <td>8.200000</td>\n",
       "      <td>120.000000</td>\n",
       "      <td>160.000000</td>\n",
       "      <td>5.300000</td>\n",
       "      <td>63.000000</td>\n",
       "      <td>983.900000</td>\n",
       "      <td>28.600000</td>\n",
       "      <td>1.000000</td>\n",
       "    </tr>\n",
       "    <tr>\n",
       "      <th>75%</th>\n",
       "      <td>10.700000</td>\n",
       "      <td>21.500000</td>\n",
       "      <td>11.800000</td>\n",
       "      <td>160.000000</td>\n",
       "      <td>189.000000</td>\n",
       "      <td>7.100000</td>\n",
       "      <td>74.000000</td>\n",
       "      <td>990.400000</td>\n",
       "      <td>31.100000</td>\n",
       "      <td>1.300000</td>\n",
       "    </tr>\n",
       "    <tr>\n",
       "      <th>max</th>\n",
       "      <td>30.600000</td>\n",
       "      <td>66.500000</td>\n",
       "      <td>40.300000</td>\n",
       "      <td>999.000000</td>\n",
       "      <td>577.000000</td>\n",
       "      <td>19.800000</td>\n",
       "      <td>99.100000</td>\n",
       "      <td>1020.500000</td>\n",
       "      <td>38.000000</td>\n",
       "      <td>4.600000</td>\n",
       "    </tr>\n",
       "  </tbody>\n",
       "</table>\n",
       "</div>"
      ],
      "text/plain": [
       "                co          no2           o3         pm10         pm25  \\\n",
       "count  2399.000000  2399.000000  2399.000000  2398.000000  2398.000000   \n",
       "mean      9.325594    16.870946     9.480700   131.572143   164.397832   \n",
       "std       3.715709     7.805715     4.829603    77.174642    64.829240   \n",
       "min       0.100000     5.000000     2.400000    12.000000    30.000000   \n",
       "25%       7.050000    10.600000     6.000000    82.000000   123.000000   \n",
       "50%       8.400000    15.800000     8.200000   120.000000   160.000000   \n",
       "75%      10.700000    21.500000    11.800000   160.000000   189.000000   \n",
       "max      30.600000    66.500000    40.300000   999.000000   577.000000   \n",
       "\n",
       "               so2     humidity     pressure  temperature   wind-speed  \n",
       "count  2399.000000  1698.000000  1698.000000  1698.000000  1629.000000  \n",
       "mean      5.702751    60.708304   985.184923    26.338869     1.101964  \n",
       "std       2.289821    17.138084    10.022854     6.631277     0.493156  \n",
       "min       1.700000    13.000000   743.000000     6.200000     0.300000  \n",
       "25%       4.000000    48.500000   979.800000    22.100000     0.800000  \n",
       "50%       5.300000    63.000000   983.900000    28.600000     1.000000  \n",
       "75%       7.100000    74.000000   990.400000    31.100000     1.300000  \n",
       "max      19.800000    99.100000  1020.500000    38.000000     4.600000  "
      ]
     },
     "execution_count": 5,
     "metadata": {},
     "output_type": "execute_result"
    }
   ],
   "source": [
    "new_data.describe()"
   ]
  },
  {
   "cell_type": "code",
   "execution_count": 6,
   "id": "68ba7402",
   "metadata": {
    "execution": {
     "iopub.execute_input": "2025-01-27T20:03:23.118324Z",
     "iopub.status.busy": "2025-01-27T20:03:23.117968Z",
     "iopub.status.idle": "2025-01-27T20:03:23.130223Z",
     "shell.execute_reply": "2025-01-27T20:03:23.128971Z"
    },
    "papermill": {
     "duration": 0.036801,
     "end_time": "2025-01-27T20:03:23.132046",
     "exception": false,
     "start_time": "2025-01-27T20:03:23.095245",
     "status": "completed"
    },
    "tags": []
   },
   "outputs": [
    {
     "name": "stdout",
     "output_type": "stream",
     "text": [
      "The number of values for feature Date :2397\n",
      "The number of values for feature co :200\n",
      "The number of values for feature no2 :328\n",
      "The number of values for feature o3 :226\n",
      "The number of values for feature pm10 :320\n",
      "The number of values for feature pm25 :309\n",
      "The number of values for feature so2 :116\n",
      "The number of values for feature humidity :602\n",
      "The number of values for feature pressure :300\n",
      "The number of values for feature temperature :264\n",
      "The number of values for feature wind-speed :33\n",
      "The number of values for feature Country_City :1 -- ['India_Delhi']\n"
     ]
    }
   ],
   "source": [
    "# Investigate all the elements whithin each Feature\n",
    "\n",
    "for column in new_data:\n",
    "    # Handle numerical and string columns differently\n",
    "    if new_data[column].dtype == 'object':  # Check if column is of object type\n",
    "        unique_vals = new_data[column].unique()  # pandas unique for strings\n",
    "    else:\n",
    "        unique_vals = np.unique(new_data[column])  # numpy unique for numerical types\n",
    "\n",
    "    nr_values = len(unique_vals)\n",
    "    if nr_values < 14:\n",
    "        print('The number of values for feature {} :{} -- {}'.format(column, nr_values,unique_vals))\n",
    "    else:\n",
    "        print('The number of values for feature {} :{}'.format(column, nr_values))"
   ]
  },
  {
   "cell_type": "code",
   "execution_count": 7,
   "id": "c64861e1",
   "metadata": {
    "execution": {
     "iopub.execute_input": "2025-01-27T20:03:23.177638Z",
     "iopub.status.busy": "2025-01-27T20:03:23.177259Z",
     "iopub.status.idle": "2025-01-27T20:03:23.185994Z",
     "shell.execute_reply": "2025-01-27T20:03:23.184814Z"
    },
    "papermill": {
     "duration": 0.034233,
     "end_time": "2025-01-27T20:03:23.188062",
     "exception": false,
     "start_time": "2025-01-27T20:03:23.153829",
     "status": "completed"
    },
    "tags": []
   },
   "outputs": [
    {
     "data": {
      "text/plain": [
       "Date              0\n",
       "co                0\n",
       "no2               0\n",
       "o3                0\n",
       "pm10              1\n",
       "pm25              1\n",
       "so2               0\n",
       "humidity        701\n",
       "pressure        701\n",
       "temperature     701\n",
       "wind-speed      770\n",
       "Country_City      0\n",
       "dtype: int64"
      ]
     },
     "execution_count": 7,
     "metadata": {},
     "output_type": "execute_result"
    }
   ],
   "source": [
    "new_data.isna().sum()"
   ]
  },
  {
   "cell_type": "markdown",
   "id": "9e110a83",
   "metadata": {
    "papermill": {
     "duration": 0.021731,
     "end_time": "2025-01-27T20:03:23.232070",
     "exception": false,
     "start_time": "2025-01-27T20:03:23.210339",
     "status": "completed"
    },
    "tags": []
   },
   "source": [
    "## **1.2 - Function**"
   ]
  },
  {
   "cell_type": "code",
   "execution_count": 8,
   "id": "a480a95f",
   "metadata": {
    "execution": {
     "iopub.execute_input": "2025-01-27T20:03:23.278683Z",
     "iopub.status.busy": "2025-01-27T20:03:23.278185Z",
     "iopub.status.idle": "2025-01-27T20:03:23.284473Z",
     "shell.execute_reply": "2025-01-27T20:03:23.283257Z"
    },
    "papermill": {
     "duration": 0.031235,
     "end_time": "2025-01-27T20:03:23.286179",
     "exception": false,
     "start_time": "2025-01-27T20:03:23.254944",
     "status": "completed"
    },
    "tags": []
   },
   "outputs": [
    {
     "name": "stdout",
     "output_type": "stream",
     "text": [
      "['__results__.html', '__notebook__.ipynb', 'function.py', '__output__.json', 'custom.css']\n"
     ]
    }
   ],
   "source": [
    "print(os.listdir('/kaggle/usr/lib/function'))"
   ]
  },
  {
   "cell_type": "code",
   "execution_count": 9,
   "id": "071a267d",
   "metadata": {
    "execution": {
     "iopub.execute_input": "2025-01-27T20:03:23.333032Z",
     "iopub.status.busy": "2025-01-27T20:03:23.332646Z",
     "iopub.status.idle": "2025-01-27T20:03:23.346797Z",
     "shell.execute_reply": "2025-01-27T20:03:23.345772Z"
    },
    "papermill": {
     "duration": 0.039348,
     "end_time": "2025-01-27T20:03:23.349090",
     "exception": false,
     "start_time": "2025-01-27T20:03:23.309742",
     "status": "completed"
    },
    "tags": []
   },
   "outputs": [],
   "source": [
    "import sys\n",
    "sys.path.append(\"/kaggle/usr/lib/function\")  # Add directory to the path\n",
    "\n",
    "import function as fn"
   ]
  },
  {
   "cell_type": "code",
   "execution_count": 10,
   "id": "47fc8c47",
   "metadata": {
    "execution": {
     "iopub.execute_input": "2025-01-27T20:03:23.454116Z",
     "iopub.status.busy": "2025-01-27T20:03:23.453792Z",
     "iopub.status.idle": "2025-01-27T20:03:23.480302Z",
     "shell.execute_reply": "2025-01-27T20:03:23.479081Z"
    },
    "papermill": {
     "duration": 0.110431,
     "end_time": "2025-01-27T20:03:23.482636",
     "exception": false,
     "start_time": "2025-01-27T20:03:23.372205",
     "status": "completed"
    },
    "tags": []
   },
   "outputs": [
    {
     "data": {
      "text/html": [
       "<div>\n",
       "<style scoped>\n",
       "    .dataframe tbody tr th:only-of-type {\n",
       "        vertical-align: middle;\n",
       "    }\n",
       "\n",
       "    .dataframe tbody tr th {\n",
       "        vertical-align: top;\n",
       "    }\n",
       "\n",
       "    .dataframe thead th {\n",
       "        text-align: right;\n",
       "    }\n",
       "</style>\n",
       "<table border=\"1\" class=\"dataframe\">\n",
       "  <thead>\n",
       "    <tr style=\"text-align: right;\">\n",
       "      <th></th>\n",
       "      <th>co</th>\n",
       "      <th>no2</th>\n",
       "      <th>o3</th>\n",
       "      <th>pm10</th>\n",
       "      <th>pm25</th>\n",
       "      <th>so2</th>\n",
       "      <th>humidity</th>\n",
       "      <th>pressure</th>\n",
       "      <th>temperature</th>\n",
       "      <th>wind-speed</th>\n",
       "      <th>Country_City</th>\n",
       "    </tr>\n",
       "    <tr>\n",
       "      <th>Date</th>\n",
       "      <th></th>\n",
       "      <th></th>\n",
       "      <th></th>\n",
       "      <th></th>\n",
       "      <th></th>\n",
       "      <th></th>\n",
       "      <th></th>\n",
       "      <th></th>\n",
       "      <th></th>\n",
       "      <th></th>\n",
       "      <th></th>\n",
       "    </tr>\n",
       "  </thead>\n",
       "  <tbody>\n",
       "    <tr>\n",
       "      <th>2014-12-29</th>\n",
       "      <td>14.1</td>\n",
       "      <td>36.2</td>\n",
       "      <td>3.2</td>\n",
       "      <td>218.0</td>\n",
       "      <td>307.0</td>\n",
       "      <td>4.2</td>\n",
       "      <td>NaN</td>\n",
       "      <td>NaN</td>\n",
       "      <td>NaN</td>\n",
       "      <td>NaN</td>\n",
       "      <td>India_Delhi</td>\n",
       "    </tr>\n",
       "    <tr>\n",
       "      <th>2014-12-30</th>\n",
       "      <td>20.4</td>\n",
       "      <td>36.8</td>\n",
       "      <td>4.8</td>\n",
       "      <td>330.0</td>\n",
       "      <td>367.0</td>\n",
       "      <td>5.8</td>\n",
       "      <td>NaN</td>\n",
       "      <td>NaN</td>\n",
       "      <td>NaN</td>\n",
       "      <td>NaN</td>\n",
       "      <td>India_Delhi</td>\n",
       "    </tr>\n",
       "    <tr>\n",
       "      <th>2014-12-31</th>\n",
       "      <td>12.7</td>\n",
       "      <td>28.7</td>\n",
       "      <td>7.8</td>\n",
       "      <td>137.0</td>\n",
       "      <td>202.0</td>\n",
       "      <td>6.3</td>\n",
       "      <td>NaN</td>\n",
       "      <td>NaN</td>\n",
       "      <td>NaN</td>\n",
       "      <td>NaN</td>\n",
       "      <td>India_Delhi</td>\n",
       "    </tr>\n",
       "    <tr>\n",
       "      <th>2015-01-01</th>\n",
       "      <td>20.8</td>\n",
       "      <td>66.5</td>\n",
       "      <td>5.2</td>\n",
       "      <td>230.0</td>\n",
       "      <td>382.0</td>\n",
       "      <td>9.9</td>\n",
       "      <td>NaN</td>\n",
       "      <td>NaN</td>\n",
       "      <td>NaN</td>\n",
       "      <td>NaN</td>\n",
       "      <td>India_Delhi</td>\n",
       "    </tr>\n",
       "    <tr>\n",
       "      <th>2015-01-02</th>\n",
       "      <td>12.7</td>\n",
       "      <td>33.9</td>\n",
       "      <td>6.0</td>\n",
       "      <td>81.0</td>\n",
       "      <td>172.0</td>\n",
       "      <td>4.2</td>\n",
       "      <td>NaN</td>\n",
       "      <td>NaN</td>\n",
       "      <td>NaN</td>\n",
       "      <td>NaN</td>\n",
       "      <td>India_Delhi</td>\n",
       "    </tr>\n",
       "  </tbody>\n",
       "</table>\n",
       "</div>"
      ],
      "text/plain": [
       "              co   no2   o3   pm10   pm25  so2  humidity  pressure  \\\n",
       "Date                                                                 \n",
       "2014-12-29  14.1  36.2  3.2  218.0  307.0  4.2       NaN       NaN   \n",
       "2014-12-30  20.4  36.8  4.8  330.0  367.0  5.8       NaN       NaN   \n",
       "2014-12-31  12.7  28.7  7.8  137.0  202.0  6.3       NaN       NaN   \n",
       "2015-01-01  20.8  66.5  5.2  230.0  382.0  9.9       NaN       NaN   \n",
       "2015-01-02  12.7  33.9  6.0   81.0  172.0  4.2       NaN       NaN   \n",
       "\n",
       "            temperature  wind-speed Country_City  \n",
       "Date                                              \n",
       "2014-12-29          NaN         NaN  India_Delhi  \n",
       "2014-12-30          NaN         NaN  India_Delhi  \n",
       "2014-12-31          NaN         NaN  India_Delhi  \n",
       "2015-01-01          NaN         NaN  India_Delhi  \n",
       "2015-01-02          NaN         NaN  India_Delhi  "
      ]
     },
     "execution_count": 10,
     "metadata": {},
     "output_type": "execute_result"
    }
   ],
   "source": [
    "# Use the functions\n",
    "new_data1 = fn.prepare_datetime_index(new_data, date_column='Date')\n",
    "new_data1.head()"
   ]
  },
  {
   "cell_type": "code",
   "execution_count": 11,
   "id": "3ee01e1d",
   "metadata": {
    "execution": {
     "iopub.execute_input": "2025-01-27T20:03:23.529024Z",
     "iopub.status.busy": "2025-01-27T20:03:23.528669Z",
     "iopub.status.idle": "2025-01-27T20:03:23.543908Z",
     "shell.execute_reply": "2025-01-27T20:03:23.542566Z"
    },
    "papermill": {
     "duration": 0.040183,
     "end_time": "2025-01-27T20:03:23.545722",
     "exception": false,
     "start_time": "2025-01-27T20:03:23.505539",
     "status": "completed"
    },
    "tags": []
   },
   "outputs": [
    {
     "name": "stdout",
     "output_type": "stream",
     "text": [
      "co              0\n",
      "no2             0\n",
      "o3              0\n",
      "pm10            0\n",
      "pm25            0\n",
      "so2             0\n",
      "humidity        0\n",
      "pressure        0\n",
      "temperature     0\n",
      "wind-speed      0\n",
      "Country_City    0\n",
      "dtype: int64\n"
     ]
    }
   ],
   "source": [
    "# Use the functions\n",
    "new_data2 = fn.fill_pollutant_values(new_data1)\n",
    "print(new_data2.isna().sum())"
   ]
  },
  {
   "cell_type": "markdown",
   "id": "036ff68e",
   "metadata": {
    "papermill": {
     "duration": 0.023154,
     "end_time": "2025-01-27T20:03:23.591529",
     "exception": false,
     "start_time": "2025-01-27T20:03:23.568375",
     "status": "completed"
    },
    "tags": []
   },
   "source": [
    "**Check**"
   ]
  },
  {
   "cell_type": "code",
   "execution_count": 12,
   "id": "e1169a52",
   "metadata": {
    "execution": {
     "iopub.execute_input": "2025-01-27T20:03:23.637342Z",
     "iopub.status.busy": "2025-01-27T20:03:23.637018Z",
     "iopub.status.idle": "2025-01-27T20:03:23.652971Z",
     "shell.execute_reply": "2025-01-27T20:03:23.651634Z"
    },
    "papermill": {
     "duration": 0.040672,
     "end_time": "2025-01-27T20:03:23.654702",
     "exception": false,
     "start_time": "2025-01-27T20:03:23.614030",
     "status": "completed"
    },
    "tags": []
   },
   "outputs": [
    {
     "name": "stdout",
     "output_type": "stream",
     "text": [
      "Missing Dates:\n",
      "DatetimeIndex(['2015-07-06', '2015-07-07', '2015-07-08', '2015-07-09',\n",
      "               '2015-07-10', '2015-07-11', '2015-07-12', '2015-07-13',\n",
      "               '2015-07-14', '2015-07-15',\n",
      "               ...\n",
      "               '2022-03-18', '2022-03-19', '2022-03-20', '2022-03-21',\n",
      "               '2022-03-22', '2022-03-23', '2022-03-24', '2022-03-25',\n",
      "               '2022-03-26', '2022-03-27'],\n",
      "              dtype='datetime64[ns]', length=802, freq=None)\n"
     ]
    }
   ],
   "source": [
    "# Create a complete range of dates\n",
    "full_range = pd.date_range(start=new_data2.index.min(), end=new_data2.index.max())\n",
    "\n",
    "# Find missing dates\n",
    "missing_dates = full_range.difference(new_data2.index)\n",
    "print(\"Missing Dates:\")\n",
    "print(missing_dates)"
   ]
  },
  {
   "cell_type": "code",
   "execution_count": 13,
   "id": "0fb76dad",
   "metadata": {
    "execution": {
     "iopub.execute_input": "2025-01-27T20:03:23.700915Z",
     "iopub.status.busy": "2025-01-27T20:03:23.700489Z",
     "iopub.status.idle": "2025-01-27T20:03:23.710283Z",
     "shell.execute_reply": "2025-01-27T20:03:23.709246Z"
    },
    "papermill": {
     "duration": 0.035011,
     "end_time": "2025-01-27T20:03:23.712354",
     "exception": false,
     "start_time": "2025-01-27T20:03:23.677343",
     "status": "completed"
    },
    "tags": []
   },
   "outputs": [],
   "source": [
    "new_data3 = fn.impute_missing_dates(new_data2)"
   ]
  },
  {
   "cell_type": "code",
   "execution_count": 14,
   "id": "dff7f7c2",
   "metadata": {
    "execution": {
     "iopub.execute_input": "2025-01-27T20:03:23.758224Z",
     "iopub.status.busy": "2025-01-27T20:03:23.757897Z",
     "iopub.status.idle": "2025-01-27T20:03:23.766488Z",
     "shell.execute_reply": "2025-01-27T20:03:23.765173Z"
    },
    "papermill": {
     "duration": 0.033877,
     "end_time": "2025-01-27T20:03:23.768597",
     "exception": false,
     "start_time": "2025-01-27T20:03:23.734720",
     "status": "completed"
    },
    "tags": []
   },
   "outputs": [
    {
     "name": "stdout",
     "output_type": "stream",
     "text": [
      "Missing Dates:\n",
      "DatetimeIndex([], dtype='datetime64[ns]', freq='D')\n"
     ]
    }
   ],
   "source": [
    "# Create a complete range of dates\n",
    "full_range = pd.date_range(start=new_data3.index.min(), end=new_data3.index.max())\n",
    "\n",
    "# Find missing dates\n",
    "missing_dates = full_range.difference(new_data3.index)\n",
    "print(\"Missing Dates:\")\n",
    "print(missing_dates)"
   ]
  },
  {
   "cell_type": "code",
   "execution_count": 15,
   "id": "29f98c31",
   "metadata": {
    "execution": {
     "iopub.execute_input": "2025-01-27T20:03:23.814979Z",
     "iopub.status.busy": "2025-01-27T20:03:23.814618Z",
     "iopub.status.idle": "2025-01-27T20:03:23.820260Z",
     "shell.execute_reply": "2025-01-27T20:03:23.819049Z"
    },
    "papermill": {
     "duration": 0.030874,
     "end_time": "2025-01-27T20:03:23.822248",
     "exception": false,
     "start_time": "2025-01-27T20:03:23.791374",
     "status": "completed"
    },
    "tags": []
   },
   "outputs": [
    {
     "name": "stdout",
     "output_type": "stream",
     "text": [
      "Duplicate indexes: DatetimeIndex([], dtype='datetime64[ns]', freq='D')\n"
     ]
    }
   ],
   "source": [
    "duplicates = new_data3.index[new_data3.index.duplicated()]\n",
    "print(f\"Duplicate indexes: {duplicates}\")"
   ]
  },
  {
   "cell_type": "markdown",
   "id": "f9c31f96",
   "metadata": {
    "papermill": {
     "duration": 0.022732,
     "end_time": "2025-01-27T20:03:23.868523",
     "exception": false,
     "start_time": "2025-01-27T20:03:23.845791",
     "status": "completed"
    },
    "tags": []
   },
   "source": [
    "## **1.3.Normal AQI count, After Normal AQI count Smoothing AQI(IQR, Z-score, Rolling), (Preprocess Pollution --> Smooth Pollution --> Calculate smooth aqi).**"
   ]
  },
  {
   "cell_type": "code",
   "execution_count": 16,
   "id": "332517b3",
   "metadata": {
    "execution": {
     "iopub.execute_input": "2025-01-27T20:03:23.914976Z",
     "iopub.status.busy": "2025-01-27T20:03:23.914614Z",
     "iopub.status.idle": "2025-01-27T20:03:23.927345Z",
     "shell.execute_reply": "2025-01-27T20:03:23.926117Z"
    },
    "papermill": {
     "duration": 0.038043,
     "end_time": "2025-01-27T20:03:23.929262",
     "exception": false,
     "start_time": "2025-01-27T20:03:23.891219",
     "status": "completed"
    },
    "tags": []
   },
   "outputs": [],
   "source": [
    "new_data4 = fn.calculate_aqi(new_data3, subindex_columns=['co', 'no2', 'o3', 'pm10', 'pm25', 'so2'])"
   ]
  },
  {
   "cell_type": "code",
   "execution_count": 17,
   "id": "66ae41f3",
   "metadata": {
    "execution": {
     "iopub.execute_input": "2025-01-27T20:03:23.975575Z",
     "iopub.status.busy": "2025-01-27T20:03:23.975127Z",
     "iopub.status.idle": "2025-01-27T20:03:23.992751Z",
     "shell.execute_reply": "2025-01-27T20:03:23.991628Z"
    },
    "papermill": {
     "duration": 0.042558,
     "end_time": "2025-01-27T20:03:23.994408",
     "exception": false,
     "start_time": "2025-01-27T20:03:23.951850",
     "status": "completed"
    },
    "tags": []
   },
   "outputs": [
    {
     "data": {
      "text/html": [
       "<div>\n",
       "<style scoped>\n",
       "    .dataframe tbody tr th:only-of-type {\n",
       "        vertical-align: middle;\n",
       "    }\n",
       "\n",
       "    .dataframe tbody tr th {\n",
       "        vertical-align: top;\n",
       "    }\n",
       "\n",
       "    .dataframe thead th {\n",
       "        text-align: right;\n",
       "    }\n",
       "</style>\n",
       "<table border=\"1\" class=\"dataframe\">\n",
       "  <thead>\n",
       "    <tr style=\"text-align: right;\">\n",
       "      <th></th>\n",
       "      <th>co</th>\n",
       "      <th>no2</th>\n",
       "      <th>o3</th>\n",
       "      <th>pm10</th>\n",
       "      <th>pm25</th>\n",
       "      <th>so2</th>\n",
       "      <th>humidity</th>\n",
       "      <th>pressure</th>\n",
       "      <th>temperature</th>\n",
       "      <th>wind-speed</th>\n",
       "      <th>Country_City</th>\n",
       "      <th>Checks</th>\n",
       "      <th>AQI</th>\n",
       "    </tr>\n",
       "  </thead>\n",
       "  <tbody>\n",
       "    <tr>\n",
       "      <th>2014-12-29</th>\n",
       "      <td>14.1</td>\n",
       "      <td>36.2</td>\n",
       "      <td>3.2</td>\n",
       "      <td>218.0</td>\n",
       "      <td>307.0</td>\n",
       "      <td>4.2</td>\n",
       "      <td>60.691097</td>\n",
       "      <td>985.187382</td>\n",
       "      <td>26.3352</td>\n",
       "      <td>1.102459</td>\n",
       "      <td>India_Delhi</td>\n",
       "      <td>6</td>\n",
       "      <td>307.0</td>\n",
       "    </tr>\n",
       "    <tr>\n",
       "      <th>2014-12-30</th>\n",
       "      <td>20.4</td>\n",
       "      <td>36.8</td>\n",
       "      <td>4.8</td>\n",
       "      <td>330.0</td>\n",
       "      <td>367.0</td>\n",
       "      <td>5.8</td>\n",
       "      <td>60.691097</td>\n",
       "      <td>985.187382</td>\n",
       "      <td>26.3352</td>\n",
       "      <td>1.102459</td>\n",
       "      <td>India_Delhi</td>\n",
       "      <td>6</td>\n",
       "      <td>367.0</td>\n",
       "    </tr>\n",
       "    <tr>\n",
       "      <th>2014-12-31</th>\n",
       "      <td>12.7</td>\n",
       "      <td>28.7</td>\n",
       "      <td>7.8</td>\n",
       "      <td>137.0</td>\n",
       "      <td>202.0</td>\n",
       "      <td>6.3</td>\n",
       "      <td>60.691097</td>\n",
       "      <td>985.187382</td>\n",
       "      <td>26.3352</td>\n",
       "      <td>1.102459</td>\n",
       "      <td>India_Delhi</td>\n",
       "      <td>6</td>\n",
       "      <td>202.0</td>\n",
       "    </tr>\n",
       "    <tr>\n",
       "      <th>2015-01-01</th>\n",
       "      <td>20.8</td>\n",
       "      <td>66.5</td>\n",
       "      <td>5.2</td>\n",
       "      <td>230.0</td>\n",
       "      <td>382.0</td>\n",
       "      <td>9.9</td>\n",
       "      <td>60.691097</td>\n",
       "      <td>985.187382</td>\n",
       "      <td>26.3352</td>\n",
       "      <td>1.102459</td>\n",
       "      <td>India_Delhi</td>\n",
       "      <td>6</td>\n",
       "      <td>382.0</td>\n",
       "    </tr>\n",
       "    <tr>\n",
       "      <th>2015-01-02</th>\n",
       "      <td>12.7</td>\n",
       "      <td>33.9</td>\n",
       "      <td>6.0</td>\n",
       "      <td>81.0</td>\n",
       "      <td>172.0</td>\n",
       "      <td>4.2</td>\n",
       "      <td>60.691097</td>\n",
       "      <td>985.187382</td>\n",
       "      <td>26.3352</td>\n",
       "      <td>1.102459</td>\n",
       "      <td>India_Delhi</td>\n",
       "      <td>6</td>\n",
       "      <td>172.0</td>\n",
       "    </tr>\n",
       "  </tbody>\n",
       "</table>\n",
       "</div>"
      ],
      "text/plain": [
       "              co   no2   o3   pm10   pm25  so2   humidity    pressure  \\\n",
       "2014-12-29  14.1  36.2  3.2  218.0  307.0  4.2  60.691097  985.187382   \n",
       "2014-12-30  20.4  36.8  4.8  330.0  367.0  5.8  60.691097  985.187382   \n",
       "2014-12-31  12.7  28.7  7.8  137.0  202.0  6.3  60.691097  985.187382   \n",
       "2015-01-01  20.8  66.5  5.2  230.0  382.0  9.9  60.691097  985.187382   \n",
       "2015-01-02  12.7  33.9  6.0   81.0  172.0  4.2  60.691097  985.187382   \n",
       "\n",
       "            temperature  wind-speed Country_City  Checks    AQI  \n",
       "2014-12-29      26.3352    1.102459  India_Delhi       6  307.0  \n",
       "2014-12-30      26.3352    1.102459  India_Delhi       6  367.0  \n",
       "2014-12-31      26.3352    1.102459  India_Delhi       6  202.0  \n",
       "2015-01-01      26.3352    1.102459  India_Delhi       6  382.0  \n",
       "2015-01-02      26.3352    1.102459  India_Delhi       6  172.0  "
      ]
     },
     "execution_count": 17,
     "metadata": {},
     "output_type": "execute_result"
    }
   ],
   "source": [
    "new_data4.head()"
   ]
  },
  {
   "cell_type": "code",
   "execution_count": 18,
   "id": "e452bfe8",
   "metadata": {
    "execution": {
     "iopub.execute_input": "2025-01-27T20:03:24.044605Z",
     "iopub.status.busy": "2025-01-27T20:03:24.044224Z",
     "iopub.status.idle": "2025-01-27T20:03:24.049785Z",
     "shell.execute_reply": "2025-01-27T20:03:24.048823Z"
    },
    "papermill": {
     "duration": 0.034063,
     "end_time": "2025-01-27T20:03:24.051552",
     "exception": false,
     "start_time": "2025-01-27T20:03:24.017489",
     "status": "completed"
    },
    "tags": []
   },
   "outputs": [
    {
     "data": {
      "text/plain": [
       "(3199, 13)"
      ]
     },
     "execution_count": 18,
     "metadata": {},
     "output_type": "execute_result"
    }
   ],
   "source": [
    "new_data4.shape"
   ]
  },
  {
   "cell_type": "markdown",
   "id": "859442a6",
   "metadata": {
    "papermill": {
     "duration": 0.02245,
     "end_time": "2025-01-27T20:03:24.096969",
     "exception": false,
     "start_time": "2025-01-27T20:03:24.074519",
     "status": "completed"
    },
    "tags": []
   },
   "source": [
    " After Normal AQI count Smoothing AQI(IQR, Z-score, Rolling)"
   ]
  },
  {
   "cell_type": "code",
   "execution_count": 19,
   "id": "feb69fbf",
   "metadata": {
    "execution": {
     "iopub.execute_input": "2025-01-27T20:03:24.144816Z",
     "iopub.status.busy": "2025-01-27T20:03:24.144374Z",
     "iopub.status.idle": "2025-01-27T20:03:24.164083Z",
     "shell.execute_reply": "2025-01-27T20:03:24.162831Z"
    },
    "papermill": {
     "duration": 0.045568,
     "end_time": "2025-01-27T20:03:24.166171",
     "exception": false,
     "start_time": "2025-01-27T20:03:24.120603",
     "status": "completed"
    },
    "tags": []
   },
   "outputs": [],
   "source": [
    "# Apply the outlier handling function to the 'AQI' column only\n",
    "new_data4['AQI_smoothed_iqr'] = fn.handle_aqi_outliers(new_data4['AQI'], method='iqr')\n",
    "new_data4['AQI_smoothed_zscore'] = fn.handle_aqi_outliers(new_data4['AQI'], method='zscore')\n",
    "new_data4['AQI_smoothed_rolling'] = fn.handle_aqi_outliers(new_data4['AQI'], method='rolling')"
   ]
  },
  {
   "cell_type": "code",
   "execution_count": 20,
   "id": "72bab9dc",
   "metadata": {
    "execution": {
     "iopub.execute_input": "2025-01-27T20:03:24.215251Z",
     "iopub.status.busy": "2025-01-27T20:03:24.214916Z",
     "iopub.status.idle": "2025-01-27T20:03:24.235373Z",
     "shell.execute_reply": "2025-01-27T20:03:24.234412Z"
    },
    "papermill": {
     "duration": 0.048128,
     "end_time": "2025-01-27T20:03:24.237154",
     "exception": false,
     "start_time": "2025-01-27T20:03:24.189026",
     "status": "completed"
    },
    "tags": []
   },
   "outputs": [
    {
     "data": {
      "text/html": [
       "<div>\n",
       "<style scoped>\n",
       "    .dataframe tbody tr th:only-of-type {\n",
       "        vertical-align: middle;\n",
       "    }\n",
       "\n",
       "    .dataframe tbody tr th {\n",
       "        vertical-align: top;\n",
       "    }\n",
       "\n",
       "    .dataframe thead th {\n",
       "        text-align: right;\n",
       "    }\n",
       "</style>\n",
       "<table border=\"1\" class=\"dataframe\">\n",
       "  <thead>\n",
       "    <tr style=\"text-align: right;\">\n",
       "      <th></th>\n",
       "      <th>co</th>\n",
       "      <th>no2</th>\n",
       "      <th>o3</th>\n",
       "      <th>pm10</th>\n",
       "      <th>pm25</th>\n",
       "      <th>so2</th>\n",
       "      <th>humidity</th>\n",
       "      <th>pressure</th>\n",
       "      <th>temperature</th>\n",
       "      <th>wind-speed</th>\n",
       "      <th>Country_City</th>\n",
       "      <th>Checks</th>\n",
       "      <th>AQI</th>\n",
       "      <th>AQI_smoothed_iqr</th>\n",
       "      <th>AQI_smoothed_zscore</th>\n",
       "      <th>AQI_smoothed_rolling</th>\n",
       "    </tr>\n",
       "  </thead>\n",
       "  <tbody>\n",
       "    <tr>\n",
       "      <th>2014-12-29</th>\n",
       "      <td>14.1</td>\n",
       "      <td>36.2</td>\n",
       "      <td>3.2</td>\n",
       "      <td>218.0</td>\n",
       "      <td>307.0</td>\n",
       "      <td>4.2</td>\n",
       "      <td>60.691097</td>\n",
       "      <td>985.187382</td>\n",
       "      <td>26.3352</td>\n",
       "      <td>1.102459</td>\n",
       "      <td>India_Delhi</td>\n",
       "      <td>6</td>\n",
       "      <td>307.0</td>\n",
       "      <td>307.0</td>\n",
       "      <td>307.0</td>\n",
       "      <td>307.0</td>\n",
       "    </tr>\n",
       "    <tr>\n",
       "      <th>2014-12-30</th>\n",
       "      <td>20.4</td>\n",
       "      <td>36.8</td>\n",
       "      <td>4.8</td>\n",
       "      <td>330.0</td>\n",
       "      <td>367.0</td>\n",
       "      <td>5.8</td>\n",
       "      <td>60.691097</td>\n",
       "      <td>985.187382</td>\n",
       "      <td>26.3352</td>\n",
       "      <td>1.102459</td>\n",
       "      <td>India_Delhi</td>\n",
       "      <td>6</td>\n",
       "      <td>367.0</td>\n",
       "      <td>367.0</td>\n",
       "      <td>367.0</td>\n",
       "      <td>367.0</td>\n",
       "    </tr>\n",
       "    <tr>\n",
       "      <th>2014-12-31</th>\n",
       "      <td>12.7</td>\n",
       "      <td>28.7</td>\n",
       "      <td>7.8</td>\n",
       "      <td>137.0</td>\n",
       "      <td>202.0</td>\n",
       "      <td>6.3</td>\n",
       "      <td>60.691097</td>\n",
       "      <td>985.187382</td>\n",
       "      <td>26.3352</td>\n",
       "      <td>1.102459</td>\n",
       "      <td>India_Delhi</td>\n",
       "      <td>6</td>\n",
       "      <td>202.0</td>\n",
       "      <td>202.0</td>\n",
       "      <td>202.0</td>\n",
       "      <td>202.0</td>\n",
       "    </tr>\n",
       "    <tr>\n",
       "      <th>2015-01-01</th>\n",
       "      <td>20.8</td>\n",
       "      <td>66.5</td>\n",
       "      <td>5.2</td>\n",
       "      <td>230.0</td>\n",
       "      <td>382.0</td>\n",
       "      <td>9.9</td>\n",
       "      <td>60.691097</td>\n",
       "      <td>985.187382</td>\n",
       "      <td>26.3352</td>\n",
       "      <td>1.102459</td>\n",
       "      <td>India_Delhi</td>\n",
       "      <td>6</td>\n",
       "      <td>382.0</td>\n",
       "      <td>382.0</td>\n",
       "      <td>158.0</td>\n",
       "      <td>382.0</td>\n",
       "    </tr>\n",
       "    <tr>\n",
       "      <th>2015-01-02</th>\n",
       "      <td>12.7</td>\n",
       "      <td>33.9</td>\n",
       "      <td>6.0</td>\n",
       "      <td>81.0</td>\n",
       "      <td>172.0</td>\n",
       "      <td>4.2</td>\n",
       "      <td>60.691097</td>\n",
       "      <td>985.187382</td>\n",
       "      <td>26.3352</td>\n",
       "      <td>1.102459</td>\n",
       "      <td>India_Delhi</td>\n",
       "      <td>6</td>\n",
       "      <td>172.0</td>\n",
       "      <td>172.0</td>\n",
       "      <td>172.0</td>\n",
       "      <td>172.0</td>\n",
       "    </tr>\n",
       "  </tbody>\n",
       "</table>\n",
       "</div>"
      ],
      "text/plain": [
       "              co   no2   o3   pm10   pm25  so2   humidity    pressure  \\\n",
       "2014-12-29  14.1  36.2  3.2  218.0  307.0  4.2  60.691097  985.187382   \n",
       "2014-12-30  20.4  36.8  4.8  330.0  367.0  5.8  60.691097  985.187382   \n",
       "2014-12-31  12.7  28.7  7.8  137.0  202.0  6.3  60.691097  985.187382   \n",
       "2015-01-01  20.8  66.5  5.2  230.0  382.0  9.9  60.691097  985.187382   \n",
       "2015-01-02  12.7  33.9  6.0   81.0  172.0  4.2  60.691097  985.187382   \n",
       "\n",
       "            temperature  wind-speed Country_City  Checks    AQI  \\\n",
       "2014-12-29      26.3352    1.102459  India_Delhi       6  307.0   \n",
       "2014-12-30      26.3352    1.102459  India_Delhi       6  367.0   \n",
       "2014-12-31      26.3352    1.102459  India_Delhi       6  202.0   \n",
       "2015-01-01      26.3352    1.102459  India_Delhi       6  382.0   \n",
       "2015-01-02      26.3352    1.102459  India_Delhi       6  172.0   \n",
       "\n",
       "            AQI_smoothed_iqr  AQI_smoothed_zscore  AQI_smoothed_rolling  \n",
       "2014-12-29             307.0                307.0                 307.0  \n",
       "2014-12-30             367.0                367.0                 367.0  \n",
       "2014-12-31             202.0                202.0                 202.0  \n",
       "2015-01-01             382.0                158.0                 382.0  \n",
       "2015-01-02             172.0                172.0                 172.0  "
      ]
     },
     "execution_count": 20,
     "metadata": {},
     "output_type": "execute_result"
    }
   ],
   "source": [
    "new_data4.head()"
   ]
  },
  {
   "cell_type": "markdown",
   "id": "e87aa013",
   "metadata": {
    "papermill": {
     "duration": 0.023924,
     "end_time": "2025-01-27T20:03:24.284236",
     "exception": false,
     "start_time": "2025-01-27T20:03:24.260312",
     "status": "completed"
    },
    "tags": []
   },
   "source": [
    "(Preprocess Pollution --> Smooth Pollution --> Calculate smooth aqi)"
   ]
  },
  {
   "cell_type": "code",
   "execution_count": 21,
   "id": "bb0d3762",
   "metadata": {
    "execution": {
     "iopub.execute_input": "2025-01-27T20:03:24.331856Z",
     "iopub.status.busy": "2025-01-27T20:03:24.331457Z",
     "iopub.status.idle": "2025-01-27T20:03:24.368919Z",
     "shell.execute_reply": "2025-01-27T20:03:24.367645Z"
    },
    "papermill": {
     "duration": 0.06359,
     "end_time": "2025-01-27T20:03:24.370869",
     "exception": false,
     "start_time": "2025-01-27T20:03:24.307279",
     "status": "completed"
    },
    "tags": []
   },
   "outputs": [
    {
     "data": {
      "text/html": [
       "<div>\n",
       "<style scoped>\n",
       "    .dataframe tbody tr th:only-of-type {\n",
       "        vertical-align: middle;\n",
       "    }\n",
       "\n",
       "    .dataframe tbody tr th {\n",
       "        vertical-align: top;\n",
       "    }\n",
       "\n",
       "    .dataframe thead th {\n",
       "        text-align: right;\n",
       "    }\n",
       "</style>\n",
       "<table border=\"1\" class=\"dataframe\">\n",
       "  <thead>\n",
       "    <tr style=\"text-align: right;\">\n",
       "      <th></th>\n",
       "      <th>co</th>\n",
       "      <th>no2</th>\n",
       "      <th>o3</th>\n",
       "      <th>pm10</th>\n",
       "      <th>pm25</th>\n",
       "      <th>so2</th>\n",
       "      <th>humidity</th>\n",
       "      <th>pressure</th>\n",
       "      <th>temperature</th>\n",
       "      <th>wind-speed</th>\n",
       "      <th>Country_City</th>\n",
       "      <th>AQI_Smooth</th>\n",
       "    </tr>\n",
       "  </thead>\n",
       "  <tbody>\n",
       "    <tr>\n",
       "      <th>2014-12-29</th>\n",
       "      <td>11.50</td>\n",
       "      <td>29.400000</td>\n",
       "      <td>5.366667</td>\n",
       "      <td>182.333333</td>\n",
       "      <td>195.666667</td>\n",
       "      <td>6.000000</td>\n",
       "      <td>60.691097</td>\n",
       "      <td>985.187382</td>\n",
       "      <td>26.3352</td>\n",
       "      <td>1.102459</td>\n",
       "      <td>India_Delhi</td>\n",
       "      <td>195.666667</td>\n",
       "    </tr>\n",
       "    <tr>\n",
       "      <th>2014-12-30</th>\n",
       "      <td>11.50</td>\n",
       "      <td>29.400000</td>\n",
       "      <td>5.366667</td>\n",
       "      <td>182.333333</td>\n",
       "      <td>195.666667</td>\n",
       "      <td>6.000000</td>\n",
       "      <td>60.691097</td>\n",
       "      <td>985.187382</td>\n",
       "      <td>26.3352</td>\n",
       "      <td>1.102459</td>\n",
       "      <td>India_Delhi</td>\n",
       "      <td>195.666667</td>\n",
       "    </tr>\n",
       "    <tr>\n",
       "      <th>2014-12-31</th>\n",
       "      <td>11.50</td>\n",
       "      <td>29.400000</td>\n",
       "      <td>5.366667</td>\n",
       "      <td>182.333333</td>\n",
       "      <td>195.666667</td>\n",
       "      <td>6.000000</td>\n",
       "      <td>60.691097</td>\n",
       "      <td>985.187382</td>\n",
       "      <td>26.3352</td>\n",
       "      <td>1.102459</td>\n",
       "      <td>India_Delhi</td>\n",
       "      <td>195.666667</td>\n",
       "    </tr>\n",
       "    <tr>\n",
       "      <th>2015-01-01</th>\n",
       "      <td>11.50</td>\n",
       "      <td>29.400000</td>\n",
       "      <td>5.366667</td>\n",
       "      <td>182.333333</td>\n",
       "      <td>195.666667</td>\n",
       "      <td>6.000000</td>\n",
       "      <td>60.691097</td>\n",
       "      <td>985.187382</td>\n",
       "      <td>26.3352</td>\n",
       "      <td>1.102459</td>\n",
       "      <td>India_Delhi</td>\n",
       "      <td>195.666667</td>\n",
       "    </tr>\n",
       "    <tr>\n",
       "      <th>2015-01-02</th>\n",
       "      <td>11.25</td>\n",
       "      <td>26.616667</td>\n",
       "      <td>5.816667</td>\n",
       "      <td>166.000000</td>\n",
       "      <td>177.000000</td>\n",
       "      <td>5.733333</td>\n",
       "      <td>60.691097</td>\n",
       "      <td>985.187382</td>\n",
       "      <td>26.3352</td>\n",
       "      <td>1.102459</td>\n",
       "      <td>India_Delhi</td>\n",
       "      <td>177.000000</td>\n",
       "    </tr>\n",
       "  </tbody>\n",
       "</table>\n",
       "</div>"
      ],
      "text/plain": [
       "               co        no2        o3        pm10        pm25       so2  \\\n",
       "2014-12-29  11.50  29.400000  5.366667  182.333333  195.666667  6.000000   \n",
       "2014-12-30  11.50  29.400000  5.366667  182.333333  195.666667  6.000000   \n",
       "2014-12-31  11.50  29.400000  5.366667  182.333333  195.666667  6.000000   \n",
       "2015-01-01  11.50  29.400000  5.366667  182.333333  195.666667  6.000000   \n",
       "2015-01-02  11.25  26.616667  5.816667  166.000000  177.000000  5.733333   \n",
       "\n",
       "             humidity    pressure  temperature  wind-speed Country_City  \\\n",
       "2014-12-29  60.691097  985.187382      26.3352    1.102459  India_Delhi   \n",
       "2014-12-30  60.691097  985.187382      26.3352    1.102459  India_Delhi   \n",
       "2014-12-31  60.691097  985.187382      26.3352    1.102459  India_Delhi   \n",
       "2015-01-01  60.691097  985.187382      26.3352    1.102459  India_Delhi   \n",
       "2015-01-02  60.691097  985.187382      26.3352    1.102459  India_Delhi   \n",
       "\n",
       "            AQI_Smooth  \n",
       "2014-12-29  195.666667  \n",
       "2014-12-30  195.666667  \n",
       "2014-12-31  195.666667  \n",
       "2015-01-01  195.666667  \n",
       "2015-01-02  177.000000  "
      ]
     },
     "execution_count": 21,
     "metadata": {},
     "output_type": "execute_result"
    }
   ],
   "source": [
    "new_smooth = fn.calculate_smooth_aqi(new_data3, columns=['co', 'no2', 'o3', 'pm10', 'pm25', 'so2'])\n",
    "new_smooth.head()"
   ]
  },
  {
   "cell_type": "markdown",
   "id": "7788f008",
   "metadata": {
    "papermill": {
     "duration": 0.022778,
     "end_time": "2025-01-27T20:03:24.417163",
     "exception": false,
     "start_time": "2025-01-27T20:03:24.394385",
     "status": "completed"
    },
    "tags": []
   },
   "source": [
    "**AQI (normal, smooth_iqr, smooth_zscore, smooth_rolling, smooth)**"
   ]
  },
  {
   "cell_type": "code",
   "execution_count": 22,
   "id": "3c646ef0",
   "metadata": {
    "execution": {
     "iopub.execute_input": "2025-01-27T20:03:24.464886Z",
     "iopub.status.busy": "2025-01-27T20:03:24.464397Z",
     "iopub.status.idle": "2025-01-27T20:03:25.133195Z",
     "shell.execute_reply": "2025-01-27T20:03:25.131540Z"
    },
    "papermill": {
     "duration": 0.695064,
     "end_time": "2025-01-27T20:03:25.135383",
     "exception": false,
     "start_time": "2025-01-27T20:03:24.440319",
     "status": "completed"
    },
    "tags": []
   },
   "outputs": [
    {
     "data": {
      "text/plain": [
       "<Axes: >"
      ]
     },
     "execution_count": 22,
     "metadata": {},
     "output_type": "execute_result"
    },
    {
     "data": {
      "image/png": "[encoded data removed]",
      "text/plain": [
       "<Figure size 640x480 with 1 Axes>"
      ]
     },
     "metadata": {},
     "output_type": "display_data"
    }
   ],
   "source": [
    "#normal\n",
    "aqi_normal = new_data4['AQI']\n",
    "aqi_normal.plot()"
   ]
  },
  {
   "cell_type": "code",
   "execution_count": 23,
   "id": "126f78a4",
   "metadata": {
    "execution": {
     "iopub.execute_input": "2025-01-27T20:03:25.204398Z",
     "iopub.status.busy": "2025-01-27T20:03:25.203682Z",
     "iopub.status.idle": "2025-01-27T20:03:25.824969Z",
     "shell.execute_reply": "2025-01-27T20:03:25.823804Z"
    },
    "papermill": {
     "duration": 0.657047,
     "end_time": "2025-01-27T20:03:25.826962",
     "exception": false,
     "start_time": "2025-01-27T20:03:25.169915",
     "status": "completed"
    },
    "tags": []
   },
   "outputs": [
    {
     "data": {
      "text/plain": [
       "<Axes: >"
      ]
     },
     "execution_count": 23,
     "metadata": {},
     "output_type": "execute_result"
    },
    {
     "data": {
      "image/png": "[encoded data removed]",
      "text/plain": [
       "<Figure size 640x480 with 1 Axes>"
      ]
     },
     "metadata": {},
     "output_type": "display_data"
    }
   ],
   "source": [
    "#smooth_iqr\n",
    "aqi_smooth_iqr = new_data4['AQI_smoothed_iqr']\n",
    "aqi_smooth_iqr.plot()"
   ]
  },
  {
   "cell_type": "code",
   "execution_count": 24,
   "id": "0d14c680",
   "metadata": {
    "execution": {
     "iopub.execute_input": "2025-01-27T20:03:25.878769Z",
     "iopub.status.busy": "2025-01-27T20:03:25.878335Z",
     "iopub.status.idle": "2025-01-27T20:03:26.376492Z",
     "shell.execute_reply": "2025-01-27T20:03:26.375344Z"
    },
    "papermill": {
     "duration": 0.526398,
     "end_time": "2025-01-27T20:03:26.378241",
     "exception": false,
     "start_time": "2025-01-27T20:03:25.851843",
     "status": "completed"
    },
    "tags": []
   },
   "outputs": [
    {
     "data": {
      "text/plain": [
       "<Axes: >"
      ]
     },
     "execution_count": 24,
     "metadata": {},
     "output_type": "execute_result"
    },
    {
     "data": {
      "image/png": "[encoded data removed]",
      "text/plain": [
       "<Figure size 640x480 with 1 Axes>"
      ]
     },
     "metadata": {},
     "output_type": "display_data"
    }
   ],
   "source": [
    "#smooth_zscore\n",
    "aqi_smooth_zscore = new_data4['AQI_smoothed_zscore']\n",
    "aqi_smooth_zscore.plot()"
   ]
  },
  {
   "cell_type": "code",
   "execution_count": 25,
   "id": "920d12d4",
   "metadata": {
    "execution": {
     "iopub.execute_input": "2025-01-27T20:03:26.431391Z",
     "iopub.status.busy": "2025-01-27T20:03:26.431056Z",
     "iopub.status.idle": "2025-01-27T20:03:26.905876Z",
     "shell.execute_reply": "2025-01-27T20:03:26.904747Z"
    },
    "papermill": {
     "duration": 0.503815,
     "end_time": "2025-01-27T20:03:26.908137",
     "exception": false,
     "start_time": "2025-01-27T20:03:26.404322",
     "status": "completed"
    },
    "tags": []
   },
   "outputs": [
    {
     "data": {
      "text/plain": [
       "<Axes: >"
      ]
     },
     "execution_count": 25,
     "metadata": {},
     "output_type": "execute_result"
    },
    {
     "data": {
      "image/png": "[encoded data removed]",
      "text/plain": [
       "<Figure size 640x480 with 1 Axes>"
      ]
     },
     "metadata": {},
     "output_type": "display_data"
    }
   ],
   "source": [
    "#smooth_rolling\n",
    "aqi_smooth_rolling = new_data4['AQI_smoothed_rolling']\n",
    "aqi_smooth_rolling.plot()"
   ]
  },
  {
   "cell_type": "code",
   "execution_count": 26,
   "id": "cd642c92",
   "metadata": {
    "execution": {
     "iopub.execute_input": "2025-01-27T20:03:26.962690Z",
     "iopub.status.busy": "2025-01-27T20:03:26.962298Z",
     "iopub.status.idle": "2025-01-27T20:03:27.436821Z",
     "shell.execute_reply": "2025-01-27T20:03:27.435487Z"
    },
    "papermill": {
     "duration": 0.504353,
     "end_time": "2025-01-27T20:03:27.439178",
     "exception": false,
     "start_time": "2025-01-27T20:03:26.934825",
     "status": "completed"
    },
    "tags": []
   },
   "outputs": [
    {
     "data": {
      "text/plain": [
       "<Axes: >"
      ]
     },
     "execution_count": 26,
     "metadata": {},
     "output_type": "execute_result"
    },
    {
     "data": {
      "image/png": "[encoded data removed]",
      "text/plain": [
       "<Figure size 640x480 with 1 Axes>"
      ]
     },
     "metadata": {},
     "output_type": "display_data"
    }
   ],
   "source": [
    "#smooth\n",
    "aqi_smooth = new_smooth['AQI_Smooth']\n",
    "aqi_smooth.plot()"
   ]
  },
  {
   "cell_type": "markdown",
   "id": "d9d6184e",
   "metadata": {
    "papermill": {
     "duration": 0.028201,
     "end_time": "2025-01-27T20:03:27.495152",
     "exception": false,
     "start_time": "2025-01-27T20:03:27.466951",
     "status": "completed"
    },
    "tags": []
   },
   "source": [
    "# **2.1. Splitting & Preprocessing the Raw Data(AQI_Smooth)**"
   ]
  },
  {
   "cell_type": "markdown",
   "id": "cf774488",
   "metadata": {
    "papermill": {
     "duration": 0.030262,
     "end_time": "2025-01-27T20:03:27.553093",
     "exception": false,
     "start_time": "2025-01-27T20:03:27.522831",
     "status": "completed"
    },
    "tags": []
   },
   "source": [
    "Smooth AQI(All Pollutants)"
   ]
  },
  {
   "cell_type": "code",
   "execution_count": 27,
   "id": "4836d25c",
   "metadata": {
    "execution": {
     "iopub.execute_input": "2025-01-27T20:03:27.611020Z",
     "iopub.status.busy": "2025-01-27T20:03:27.610656Z",
     "iopub.status.idle": "2025-01-27T20:03:27.633014Z",
     "shell.execute_reply": "2025-01-27T20:03:27.631992Z"
    },
    "papermill": {
     "duration": 0.053329,
     "end_time": "2025-01-27T20:03:27.634886",
     "exception": false,
     "start_time": "2025-01-27T20:03:27.581557",
     "status": "completed"
    },
    "tags": []
   },
   "outputs": [
    {
     "data": {
      "text/html": [
       "<div>\n",
       "<style scoped>\n",
       "    .dataframe tbody tr th:only-of-type {\n",
       "        vertical-align: middle;\n",
       "    }\n",
       "\n",
       "    .dataframe tbody tr th {\n",
       "        vertical-align: top;\n",
       "    }\n",
       "\n",
       "    .dataframe thead th {\n",
       "        text-align: right;\n",
       "    }\n",
       "</style>\n",
       "<table border=\"1\" class=\"dataframe\">\n",
       "  <thead>\n",
       "    <tr style=\"text-align: right;\">\n",
       "      <th></th>\n",
       "      <th>co</th>\n",
       "      <th>no2</th>\n",
       "      <th>o3</th>\n",
       "      <th>pm10</th>\n",
       "      <th>pm25</th>\n",
       "      <th>so2</th>\n",
       "      <th>humidity</th>\n",
       "      <th>pressure</th>\n",
       "      <th>temperature</th>\n",
       "      <th>wind-speed</th>\n",
       "      <th>Country_City</th>\n",
       "      <th>Checks</th>\n",
       "      <th>AQI</th>\n",
       "      <th>AQI_smoothed_iqr</th>\n",
       "      <th>AQI_smoothed_zscore</th>\n",
       "      <th>AQI_smoothed_rolling</th>\n",
       "    </tr>\n",
       "  </thead>\n",
       "  <tbody>\n",
       "    <tr>\n",
       "      <th>2014-12-29</th>\n",
       "      <td>14.1</td>\n",
       "      <td>36.2</td>\n",
       "      <td>3.2</td>\n",
       "      <td>218.0</td>\n",
       "      <td>307.0</td>\n",
       "      <td>4.2</td>\n",
       "      <td>60.691097</td>\n",
       "      <td>985.187382</td>\n",
       "      <td>26.3352</td>\n",
       "      <td>1.102459</td>\n",
       "      <td>India_Delhi</td>\n",
       "      <td>6</td>\n",
       "      <td>307.0</td>\n",
       "      <td>307.0</td>\n",
       "      <td>307.0</td>\n",
       "      <td>307.0</td>\n",
       "    </tr>\n",
       "    <tr>\n",
       "      <th>2014-12-30</th>\n",
       "      <td>20.4</td>\n",
       "      <td>36.8</td>\n",
       "      <td>4.8</td>\n",
       "      <td>330.0</td>\n",
       "      <td>367.0</td>\n",
       "      <td>5.8</td>\n",
       "      <td>60.691097</td>\n",
       "      <td>985.187382</td>\n",
       "      <td>26.3352</td>\n",
       "      <td>1.102459</td>\n",
       "      <td>India_Delhi</td>\n",
       "      <td>6</td>\n",
       "      <td>367.0</td>\n",
       "      <td>367.0</td>\n",
       "      <td>367.0</td>\n",
       "      <td>367.0</td>\n",
       "    </tr>\n",
       "    <tr>\n",
       "      <th>2014-12-31</th>\n",
       "      <td>12.7</td>\n",
       "      <td>28.7</td>\n",
       "      <td>7.8</td>\n",
       "      <td>137.0</td>\n",
       "      <td>202.0</td>\n",
       "      <td>6.3</td>\n",
       "      <td>60.691097</td>\n",
       "      <td>985.187382</td>\n",
       "      <td>26.3352</td>\n",
       "      <td>1.102459</td>\n",
       "      <td>India_Delhi</td>\n",
       "      <td>6</td>\n",
       "      <td>202.0</td>\n",
       "      <td>202.0</td>\n",
       "      <td>202.0</td>\n",
       "      <td>202.0</td>\n",
       "    </tr>\n",
       "    <tr>\n",
       "      <th>2015-01-01</th>\n",
       "      <td>20.8</td>\n",
       "      <td>66.5</td>\n",
       "      <td>5.2</td>\n",
       "      <td>230.0</td>\n",
       "      <td>382.0</td>\n",
       "      <td>9.9</td>\n",
       "      <td>60.691097</td>\n",
       "      <td>985.187382</td>\n",
       "      <td>26.3352</td>\n",
       "      <td>1.102459</td>\n",
       "      <td>India_Delhi</td>\n",
       "      <td>6</td>\n",
       "      <td>382.0</td>\n",
       "      <td>382.0</td>\n",
       "      <td>158.0</td>\n",
       "      <td>382.0</td>\n",
       "    </tr>\n",
       "    <tr>\n",
       "      <th>2015-01-02</th>\n",
       "      <td>12.7</td>\n",
       "      <td>33.9</td>\n",
       "      <td>6.0</td>\n",
       "      <td>81.0</td>\n",
       "      <td>172.0</td>\n",
       "      <td>4.2</td>\n",
       "      <td>60.691097</td>\n",
       "      <td>985.187382</td>\n",
       "      <td>26.3352</td>\n",
       "      <td>1.102459</td>\n",
       "      <td>India_Delhi</td>\n",
       "      <td>6</td>\n",
       "      <td>172.0</td>\n",
       "      <td>172.0</td>\n",
       "      <td>172.0</td>\n",
       "      <td>172.0</td>\n",
       "    </tr>\n",
       "    <tr>\n",
       "      <th>2015-01-03</th>\n",
       "      <td>14.3</td>\n",
       "      <td>27.8</td>\n",
       "      <td>5.2</td>\n",
       "      <td>98.0</td>\n",
       "      <td>179.0</td>\n",
       "      <td>5.6</td>\n",
       "      <td>60.691097</td>\n",
       "      <td>985.187382</td>\n",
       "      <td>26.3352</td>\n",
       "      <td>1.102459</td>\n",
       "      <td>India_Delhi</td>\n",
       "      <td>6</td>\n",
       "      <td>179.0</td>\n",
       "      <td>179.0</td>\n",
       "      <td>179.0</td>\n",
       "      <td>179.0</td>\n",
       "    </tr>\n",
       "    <tr>\n",
       "      <th>2015-01-04</th>\n",
       "      <td>12.6</td>\n",
       "      <td>19.5</td>\n",
       "      <td>5.9</td>\n",
       "      <td>120.0</td>\n",
       "      <td>195.0</td>\n",
       "      <td>2.6</td>\n",
       "      <td>60.691097</td>\n",
       "      <td>985.187382</td>\n",
       "      <td>26.3352</td>\n",
       "      <td>1.102459</td>\n",
       "      <td>India_Delhi</td>\n",
       "      <td>6</td>\n",
       "      <td>195.0</td>\n",
       "      <td>195.0</td>\n",
       "      <td>195.0</td>\n",
       "      <td>195.0</td>\n",
       "    </tr>\n",
       "    <tr>\n",
       "      <th>2015-01-05</th>\n",
       "      <td>13.1</td>\n",
       "      <td>19.1</td>\n",
       "      <td>8.4</td>\n",
       "      <td>114.0</td>\n",
       "      <td>185.0</td>\n",
       "      <td>2.5</td>\n",
       "      <td>60.691097</td>\n",
       "      <td>985.187382</td>\n",
       "      <td>26.3352</td>\n",
       "      <td>1.102459</td>\n",
       "      <td>India_Delhi</td>\n",
       "      <td>6</td>\n",
       "      <td>185.0</td>\n",
       "      <td>185.0</td>\n",
       "      <td>185.0</td>\n",
       "      <td>185.0</td>\n",
       "    </tr>\n",
       "  </tbody>\n",
       "</table>\n",
       "</div>"
      ],
      "text/plain": [
       "              co   no2   o3   pm10   pm25  so2   humidity    pressure  \\\n",
       "2014-12-29  14.1  36.2  3.2  218.0  307.0  4.2  60.691097  985.187382   \n",
       "2014-12-30  20.4  36.8  4.8  330.0  367.0  5.8  60.691097  985.187382   \n",
       "2014-12-31  12.7  28.7  7.8  137.0  202.0  6.3  60.691097  985.187382   \n",
       "2015-01-01  20.8  66.5  5.2  230.0  382.0  9.9  60.691097  985.187382   \n",
       "2015-01-02  12.7  33.9  6.0   81.0  172.0  4.2  60.691097  985.187382   \n",
       "2015-01-03  14.3  27.8  5.2   98.0  179.0  5.6  60.691097  985.187382   \n",
       "2015-01-04  12.6  19.5  5.9  120.0  195.0  2.6  60.691097  985.187382   \n",
       "2015-01-05  13.1  19.1  8.4  114.0  185.0  2.5  60.691097  985.187382   \n",
       "\n",
       "            temperature  wind-speed Country_City  Checks    AQI  \\\n",
       "2014-12-29      26.3352    1.102459  India_Delhi       6  307.0   \n",
       "2014-12-30      26.3352    1.102459  India_Delhi       6  367.0   \n",
       "2014-12-31      26.3352    1.102459  India_Delhi       6  202.0   \n",
       "2015-01-01      26.3352    1.102459  India_Delhi       6  382.0   \n",
       "2015-01-02      26.3352    1.102459  India_Delhi       6  172.0   \n",
       "2015-01-03      26.3352    1.102459  India_Delhi       6  179.0   \n",
       "2015-01-04      26.3352    1.102459  India_Delhi       6  195.0   \n",
       "2015-01-05      26.3352    1.102459  India_Delhi       6  185.0   \n",
       "\n",
       "            AQI_smoothed_iqr  AQI_smoothed_zscore  AQI_smoothed_rolling  \n",
       "2014-12-29             307.0                307.0                 307.0  \n",
       "2014-12-30             367.0                367.0                 367.0  \n",
       "2014-12-31             202.0                202.0                 202.0  \n",
       "2015-01-01             382.0                158.0                 382.0  \n",
       "2015-01-02             172.0                172.0                 172.0  \n",
       "2015-01-03             179.0                179.0                 179.0  \n",
       "2015-01-04             195.0                195.0                 195.0  \n",
       "2015-01-05             185.0                185.0                 185.0  "
      ]
     },
     "execution_count": 27,
     "metadata": {},
     "output_type": "execute_result"
    }
   ],
   "source": [
    "new_data4.head(8)"
   ]
  },
  {
   "cell_type": "code",
   "execution_count": 28,
   "id": "f71b0f39",
   "metadata": {
    "execution": {
     "iopub.execute_input": "2025-01-27T20:03:27.692314Z",
     "iopub.status.busy": "2025-01-27T20:03:27.691974Z",
     "iopub.status.idle": "2025-01-27T20:03:27.697974Z",
     "shell.execute_reply": "2025-01-27T20:03:27.697067Z"
    },
    "papermill": {
     "duration": 0.0366,
     "end_time": "2025-01-27T20:03:27.699635",
     "exception": false,
     "start_time": "2025-01-27T20:03:27.663035",
     "status": "completed"
    },
    "tags": []
   },
   "outputs": [
    {
     "data": {
      "text/plain": [
       "Index(['co', 'no2', 'o3', 'pm10', 'pm25', 'so2', 'humidity', 'pressure',\n",
       "       'temperature', 'wind-speed', 'Country_City', 'Checks', 'AQI',\n",
       "       'AQI_smoothed_iqr', 'AQI_smoothed_zscore', 'AQI_smoothed_rolling'],\n",
       "      dtype='object')"
      ]
     },
     "execution_count": 28,
     "metadata": {},
     "output_type": "execute_result"
    }
   ],
   "source": [
    "new_data4.columns"
   ]
  },
  {
   "cell_type": "code",
   "execution_count": 29,
   "id": "1bd53f2b",
   "metadata": {
    "execution": {
     "iopub.execute_input": "2025-01-27T20:03:27.757207Z",
     "iopub.status.busy": "2025-01-27T20:03:27.756860Z",
     "iopub.status.idle": "2025-01-27T20:03:27.761935Z",
     "shell.execute_reply": "2025-01-27T20:03:27.760886Z"
    },
    "papermill": {
     "duration": 0.036082,
     "end_time": "2025-01-27T20:03:27.763689",
     "exception": false,
     "start_time": "2025-01-27T20:03:27.727607",
     "status": "completed"
    },
    "tags": []
   },
   "outputs": [],
   "source": [
    "aqi_normal = new_data4.copy()"
   ]
  },
  {
   "cell_type": "code",
   "execution_count": 30,
   "id": "d2293715",
   "metadata": {
    "execution": {
     "iopub.execute_input": "2025-01-27T20:03:27.822634Z",
     "iopub.status.busy": "2025-01-27T20:03:27.822234Z",
     "iopub.status.idle": "2025-01-27T20:03:27.827934Z",
     "shell.execute_reply": "2025-01-27T20:03:27.826813Z"
    },
    "papermill": {
     "duration": 0.037021,
     "end_time": "2025-01-27T20:03:27.829949",
     "exception": false,
     "start_time": "2025-01-27T20:03:27.792928",
     "status": "completed"
    },
    "tags": []
   },
   "outputs": [],
   "source": [
    "aqi_normal = aqi_normal.drop([ 'humidity', 'pressure',\n",
    "       'temperature', 'wind-speed', 'Country_City', 'Checks', \n",
    "        'AQI_smoothed_iqr', 'AQI_smoothed_zscore', 'AQI_smoothed_rolling'], axis = 1)"
   ]
  },
  {
   "cell_type": "code",
   "execution_count": 31,
   "id": "443b5f7f",
   "metadata": {
    "execution": {
     "iopub.execute_input": "2025-01-27T20:03:27.889307Z",
     "iopub.status.busy": "2025-01-27T20:03:27.888804Z",
     "iopub.status.idle": "2025-01-27T20:03:27.903953Z",
     "shell.execute_reply": "2025-01-27T20:03:27.902720Z"
    },
    "papermill": {
     "duration": 0.047489,
     "end_time": "2025-01-27T20:03:27.905758",
     "exception": false,
     "start_time": "2025-01-27T20:03:27.858269",
     "status": "completed"
    },
    "tags": []
   },
   "outputs": [
    {
     "data": {
      "text/html": [
       "<div>\n",
       "<style scoped>\n",
       "    .dataframe tbody tr th:only-of-type {\n",
       "        vertical-align: middle;\n",
       "    }\n",
       "\n",
       "    .dataframe tbody tr th {\n",
       "        vertical-align: top;\n",
       "    }\n",
       "\n",
       "    .dataframe thead th {\n",
       "        text-align: right;\n",
       "    }\n",
       "</style>\n",
       "<table border=\"1\" class=\"dataframe\">\n",
       "  <thead>\n",
       "    <tr style=\"text-align: right;\">\n",
       "      <th></th>\n",
       "      <th>co</th>\n",
       "      <th>no2</th>\n",
       "      <th>o3</th>\n",
       "      <th>pm10</th>\n",
       "      <th>pm25</th>\n",
       "      <th>so2</th>\n",
       "      <th>AQI</th>\n",
       "    </tr>\n",
       "  </thead>\n",
       "  <tbody>\n",
       "    <tr>\n",
       "      <th>2014-12-29</th>\n",
       "      <td>14.1</td>\n",
       "      <td>36.2</td>\n",
       "      <td>3.2</td>\n",
       "      <td>218.0</td>\n",
       "      <td>307.0</td>\n",
       "      <td>4.2</td>\n",
       "      <td>307.0</td>\n",
       "    </tr>\n",
       "    <tr>\n",
       "      <th>2014-12-30</th>\n",
       "      <td>20.4</td>\n",
       "      <td>36.8</td>\n",
       "      <td>4.8</td>\n",
       "      <td>330.0</td>\n",
       "      <td>367.0</td>\n",
       "      <td>5.8</td>\n",
       "      <td>367.0</td>\n",
       "    </tr>\n",
       "    <tr>\n",
       "      <th>2014-12-31</th>\n",
       "      <td>12.7</td>\n",
       "      <td>28.7</td>\n",
       "      <td>7.8</td>\n",
       "      <td>137.0</td>\n",
       "      <td>202.0</td>\n",
       "      <td>6.3</td>\n",
       "      <td>202.0</td>\n",
       "    </tr>\n",
       "    <tr>\n",
       "      <th>2015-01-01</th>\n",
       "      <td>20.8</td>\n",
       "      <td>66.5</td>\n",
       "      <td>5.2</td>\n",
       "      <td>230.0</td>\n",
       "      <td>382.0</td>\n",
       "      <td>9.9</td>\n",
       "      <td>382.0</td>\n",
       "    </tr>\n",
       "    <tr>\n",
       "      <th>2015-01-02</th>\n",
       "      <td>12.7</td>\n",
       "      <td>33.9</td>\n",
       "      <td>6.0</td>\n",
       "      <td>81.0</td>\n",
       "      <td>172.0</td>\n",
       "      <td>4.2</td>\n",
       "      <td>172.0</td>\n",
       "    </tr>\n",
       "  </tbody>\n",
       "</table>\n",
       "</div>"
      ],
      "text/plain": [
       "              co   no2   o3   pm10   pm25  so2    AQI\n",
       "2014-12-29  14.1  36.2  3.2  218.0  307.0  4.2  307.0\n",
       "2014-12-30  20.4  36.8  4.8  330.0  367.0  5.8  367.0\n",
       "2014-12-31  12.7  28.7  7.8  137.0  202.0  6.3  202.0\n",
       "2015-01-01  20.8  66.5  5.2  230.0  382.0  9.9  382.0\n",
       "2015-01-02  12.7  33.9  6.0   81.0  172.0  4.2  172.0"
      ]
     },
     "execution_count": 31,
     "metadata": {},
     "output_type": "execute_result"
    }
   ],
   "source": [
    "aqi_normal.head()"
   ]
  },
  {
   "cell_type": "code",
   "execution_count": 32,
   "id": "cffa30f3",
   "metadata": {
    "execution": {
     "iopub.execute_input": "2025-01-27T20:03:27.963805Z",
     "iopub.status.busy": "2025-01-27T20:03:27.963396Z",
     "iopub.status.idle": "2025-01-27T20:03:27.972159Z",
     "shell.execute_reply": "2025-01-27T20:03:27.971023Z"
    },
    "papermill": {
     "duration": 0.039535,
     "end_time": "2025-01-27T20:03:27.973915",
     "exception": false,
     "start_time": "2025-01-27T20:03:27.934380",
     "status": "completed"
    },
    "tags": []
   },
   "outputs": [],
   "source": [
    "def new_data_to_X_y(new_data, window_size, train_pct, val_pct, test_pct):\n",
    "    \n",
    "    new_data_as_np = new_data.to_numpy()\n",
    "    \n",
    "    # Split features and target\n",
    "    features = new_data_as_np[:, :-1]  # All columns except the last one\n",
    "    target = new_data_as_np[:, -1]     # Only the AQI column\n",
    "    \n",
    "    # Split data based on percentages\n",
    "    total_len = len(features)\n",
    "    train_end = int(train_pct * total_len)\n",
    "    val_end = train_end + int(val_pct * total_len)\n",
    "    \n",
    "    # Prepare train, val, and test splits for both features and target\n",
    "    train_features = features[:train_end]\n",
    "    train_target = target[:train_end]\n",
    "    \n",
    "    val_features = features[train_end:val_end]\n",
    "    val_target = target[train_end:val_end]\n",
    "    \n",
    "    test_features = features[val_end:]\n",
    "    test_target = target[val_end:]\n",
    "    \n",
    "    # Helper function to create X and y\n",
    "    def create_X_y(feature_data, target_data):\n",
    "        X, y = [], []\n",
    "        for i in range(len(feature_data) - window_size):\n",
    "            # Create sequence of all features\n",
    "            sequence = feature_data[i:i + window_size]\n",
    "            X.append(sequence)\n",
    "            # Get the target AQI value\n",
    "            y.append(target_data[i + window_size])\n",
    "        return np.array(X), np.array(y)\n",
    "    \n",
    "    \n",
    "    X_train, y_train = create_X_y(train_features, train_target)\n",
    "    X_val, y_val = create_X_y(val_features, val_target)\n",
    "    X_test, y_test = create_X_y(test_features, test_target)\n",
    "    \n",
    "    return (X_train, y_train), (X_val, y_val), (X_test, y_test)"
   ]
  },
  {
   "cell_type": "code",
   "execution_count": 33,
   "id": "2553cbbe",
   "metadata": {
    "execution": {
     "iopub.execute_input": "2025-01-27T20:03:28.032892Z",
     "iopub.status.busy": "2025-01-27T20:03:28.032368Z",
     "iopub.status.idle": "2025-01-27T20:03:28.042797Z",
     "shell.execute_reply": "2025-01-27T20:03:28.041766Z"
    },
    "papermill": {
     "duration": 0.042165,
     "end_time": "2025-01-27T20:03:28.044581",
     "exception": false,
     "start_time": "2025-01-27T20:03:28.002416",
     "status": "completed"
    },
    "tags": []
   },
   "outputs": [],
   "source": [
    "WINDOW_SIZE = 6\n",
    "NUM_FEATURES = 5\n",
    "train_pct = 0.8\n",
    "val_pct = 0.1\n",
    "test_pct = 0.1\n",
    "\n",
    "(X_train1, y_train1), (X_val1, y_val1), (X_test1, y_test1) = new_data_to_X_y(\n",
    "    aqi_normal, WINDOW_SIZE, train_pct, val_pct, test_pct)"
   ]
  },
  {
   "cell_type": "code",
   "execution_count": 34,
   "id": "13128e4c",
   "metadata": {
    "execution": {
     "iopub.execute_input": "2025-01-27T20:03:28.102742Z",
     "iopub.status.busy": "2025-01-27T20:03:28.102357Z",
     "iopub.status.idle": "2025-01-27T20:03:28.108898Z",
     "shell.execute_reply": "2025-01-27T20:03:28.107618Z"
    },
    "papermill": {
     "duration": 0.037766,
     "end_time": "2025-01-27T20:03:28.110782",
     "exception": false,
     "start_time": "2025-01-27T20:03:28.073016",
     "status": "completed"
    },
    "tags": []
   },
   "outputs": [
    {
     "name": "stdout",
     "output_type": "stream",
     "text": [
      "Train shapes: (2553, 6, 6) (2553,)\n",
      "Validation shapes: (313, 6, 6) (313,)\n",
      "Test shapes: (315, 6, 6) (315,)\n"
     ]
    }
   ],
   "source": [
    "# shapes\n",
    "print(\"Train shapes:\", X_train1.shape, y_train1.shape)\n",
    "print(\"Validation shapes:\", X_val1.shape, y_val1.shape)\n",
    "print(\"Test shapes:\", X_test1.shape, y_test1.shape)"
   ]
  },
  {
   "cell_type": "markdown",
   "id": "ca0f0b92",
   "metadata": {
    "papermill": {
     "duration": 0.02827,
     "end_time": "2025-01-27T20:03:28.167762",
     "exception": false,
     "start_time": "2025-01-27T20:03:28.139492",
     "status": "completed"
    },
    "tags": []
   },
   "source": [
    "# **2.2. Model Training & Testing**"
   ]
  },
  {
   "cell_type": "code",
   "execution_count": 35,
   "id": "16435ba5",
   "metadata": {
    "execution": {
     "iopub.execute_input": "2025-01-27T20:03:28.225396Z",
     "iopub.status.busy": "2025-01-27T20:03:28.225059Z",
     "iopub.status.idle": "2025-01-27T20:03:43.154296Z",
     "shell.execute_reply": "2025-01-27T20:03:43.153117Z"
    },
    "papermill": {
     "duration": 14.960416,
     "end_time": "2025-01-27T20:03:43.156307",
     "exception": false,
     "start_time": "2025-01-27T20:03:28.195891",
     "status": "completed"
    },
    "tags": []
   },
   "outputs": [],
   "source": [
    "# libraries for building model and testing\n",
    "from tensorflow.keras.models import Sequential\n",
    "from tensorflow.keras.layers import *\n",
    "from tensorflow.keras.callbacks import ModelCheckpoint\n",
    "from tensorflow.keras.callbacks import ReduceLROnPlateau\n",
    "from tensorflow.keras.losses import MeanSquaredError, MeanAbsoluteError\n",
    "from tensorflow.keras.metrics import RootMeanSquaredError\n",
    "from tensorflow.keras.optimizers import Adam\n",
    "from keras.regularizers import l2\n",
    "from keras.callbacks import EarlyStopping"
   ]
  },
  {
   "cell_type": "markdown",
   "id": "8286b06a",
   "metadata": {
    "papermill": {
     "duration": 0.028308,
     "end_time": "2025-01-27T20:03:43.213855",
     "exception": false,
     "start_time": "2025-01-27T20:03:43.185547",
     "status": "completed"
    },
    "tags": []
   },
   "source": [
    "# LSTM(Normal)(Learning Rate Test)"
   ]
  },
  {
   "cell_type": "markdown",
   "id": "c79d3302",
   "metadata": {
    "papermill": {
     "duration": 0.028537,
     "end_time": "2025-01-27T20:03:43.271002",
     "exception": false,
     "start_time": "2025-01-27T20:03:43.242465",
     "status": "completed"
    },
    "tags": []
   },
   "source": [
    "## Model 1"
   ]
  },
  {
   "cell_type": "code",
   "execution_count": 36,
   "id": "9b0afcf7",
   "metadata": {
    "execution": {
     "iopub.execute_input": "2025-01-27T20:03:43.330110Z",
     "iopub.status.busy": "2025-01-27T20:03:43.329410Z",
     "iopub.status.idle": "2025-01-27T20:04:04.754960Z",
     "shell.execute_reply": "2025-01-27T20:04:04.753864Z"
    },
    "papermill": {
     "duration": 21.457106,
     "end_time": "2025-01-27T20:04:04.756776",
     "exception": false,
     "start_time": "2025-01-27T20:03:43.299670",
     "status": "completed"
    },
    "tags": []
   },
   "outputs": [
    {
     "name": "stdout",
     "output_type": "stream",
     "text": [
      "Epoch 1/50\n",
      "\u001b[1m80/80\u001b[0m \u001b[32m━━━━━━━━━━━━━━━━━━━━\u001b[0m\u001b[37m\u001b[0m \u001b[1m3s\u001b[0m 8ms/step - loss: 28762.6855 - root_mean_squared_error: 169.5674 - val_loss: 25517.4746 - val_root_mean_squared_error: 159.7419\n",
      "Epoch 2/50\n",
      "\u001b[1m80/80\u001b[0m \u001b[32m━━━━━━━━━━━━━━━━━━━━\u001b[0m\u001b[37m\u001b[0m \u001b[1m0s\u001b[0m 4ms/step - loss: 14173.7461 - root_mean_squared_error: 118.5038 - val_loss: 8527.0078 - val_root_mean_squared_error: 92.3418\n",
      "Epoch 3/50\n",
      "\u001b[1m80/80\u001b[0m \u001b[32m━━━━━━━━━━━━━━━━━━━━\u001b[0m\u001b[37m\u001b[0m \u001b[1m0s\u001b[0m 4ms/step - loss: 5679.8726 - root_mean_squared_error: 74.8097 - val_loss: 5760.0034 - val_root_mean_squared_error: 75.8947\n",
      "Epoch 4/50\n",
      "\u001b[1m80/80\u001b[0m \u001b[32m━━━━━━━━━━━━━━━━━━━━\u001b[0m\u001b[37m\u001b[0m \u001b[1m0s\u001b[0m 5ms/step - loss: 3480.3684 - root_mean_squared_error: 58.8093 - val_loss: 4292.4082 - val_root_mean_squared_error: 65.5165\n",
      "Epoch 5/50\n",
      "\u001b[1m80/80\u001b[0m \u001b[32m━━━━━━━━━━━━━━━━━━━━\u001b[0m\u001b[37m\u001b[0m \u001b[1m0s\u001b[0m 5ms/step - loss: 3676.1980 - root_mean_squared_error: 60.3261 - val_loss: 3927.2712 - val_root_mean_squared_error: 62.6679\n",
      "Epoch 6/50\n",
      "\u001b[1m80/80\u001b[0m \u001b[32m━━━━━━━━━━━━━━━━━━━━\u001b[0m\u001b[37m\u001b[0m \u001b[1m0s\u001b[0m 5ms/step - loss: 2765.4717 - root_mean_squared_error: 52.4440 - val_loss: 3685.4956 - val_root_mean_squared_error: 60.7083\n",
      "Epoch 7/50\n",
      "\u001b[1m80/80\u001b[0m \u001b[32m━━━━━━━━━━━━━━━━━━━━\u001b[0m\u001b[37m\u001b[0m \u001b[1m0s\u001b[0m 5ms/step - loss: 2745.7026 - root_mean_squared_error: 52.3232 - val_loss: 2814.3254 - val_root_mean_squared_error: 53.0502\n",
      "Epoch 8/50\n",
      "\u001b[1m80/80\u001b[0m \u001b[32m━━━━━━━━━━━━━━━━━━━━\u001b[0m\u001b[37m\u001b[0m \u001b[1m0s\u001b[0m 4ms/step - loss: 2681.3650 - root_mean_squared_error: 51.5274 - val_loss: 2906.5657 - val_root_mean_squared_error: 53.9126\n",
      "Epoch 9/50\n",
      "\u001b[1m80/80\u001b[0m \u001b[32m━━━━━━━━━━━━━━━━━━━━\u001b[0m\u001b[37m\u001b[0m \u001b[1m0s\u001b[0m 4ms/step - loss: 2879.0750 - root_mean_squared_error: 53.3759 - val_loss: 1691.9214 - val_root_mean_squared_error: 41.1330\n",
      "Epoch 10/50\n",
      "\u001b[1m80/80\u001b[0m \u001b[32m━━━━━━━━━━━━━━━━━━━━\u001b[0m\u001b[37m\u001b[0m \u001b[1m0s\u001b[0m 4ms/step - loss: 2332.2563 - root_mean_squared_error: 48.0676 - val_loss: 2122.2310 - val_root_mean_squared_error: 46.0677\n",
      "Epoch 11/50\n",
      "\u001b[1m80/80\u001b[0m \u001b[32m━━━━━━━━━━━━━━━━━━━━\u001b[0m\u001b[37m\u001b[0m \u001b[1m0s\u001b[0m 4ms/step - loss: 1988.6705 - root_mean_squared_error: 44.0745 - val_loss: 1551.8123 - val_root_mean_squared_error: 39.3930\n",
      "Epoch 12/50\n",
      "\u001b[1m80/80\u001b[0m \u001b[32m━━━━━━━━━━━━━━━━━━━━\u001b[0m\u001b[37m\u001b[0m \u001b[1m0s\u001b[0m 4ms/step - loss: 2289.5864 - root_mean_squared_error: 47.7128 - val_loss: 1771.8994 - val_root_mean_squared_error: 42.0939\n",
      "Epoch 13/50\n",
      "\u001b[1m80/80\u001b[0m \u001b[32m━━━━━━━━━━━━━━━━━━━━\u001b[0m\u001b[37m\u001b[0m \u001b[1m0s\u001b[0m 4ms/step - loss: 2258.0828 - root_mean_squared_error: 47.3810 - val_loss: 2725.3970 - val_root_mean_squared_error: 52.2053\n",
      "Epoch 14/50\n",
      "\u001b[1m80/80\u001b[0m \u001b[32m━━━━━━━━━━━━━━━━━━━━\u001b[0m\u001b[37m\u001b[0m \u001b[1m0s\u001b[0m 4ms/step - loss: 2401.3921 - root_mean_squared_error: 48.7928 - val_loss: 1561.4564 - val_root_mean_squared_error: 39.5153\n",
      "Epoch 15/50\n",
      "\u001b[1m80/80\u001b[0m \u001b[32m━━━━━━━━━━━━━━━━━━━━\u001b[0m\u001b[37m\u001b[0m \u001b[1m0s\u001b[0m 4ms/step - loss: 3305.4929 - root_mean_squared_error: 55.6943 - val_loss: 3802.3943 - val_root_mean_squared_error: 61.6636\n",
      "Epoch 16/50\n",
      "\u001b[1m80/80\u001b[0m \u001b[32m━━━━━━━━━━━━━━━━━━━━\u001b[0m\u001b[37m\u001b[0m \u001b[1m0s\u001b[0m 4ms/step - loss: 2420.6755 - root_mean_squared_error: 49.0213 - val_loss: 2333.8115 - val_root_mean_squared_error: 48.3095\n",
      "Epoch 17/50\n",
      "\u001b[1m80/80\u001b[0m \u001b[32m━━━━━━━━━━━━━━━━━━━━\u001b[0m\u001b[37m\u001b[0m \u001b[1m0s\u001b[0m 4ms/step - loss: 2186.7368 - root_mean_squared_error: 46.6216 - val_loss: 1815.2422 - val_root_mean_squared_error: 42.6057\n",
      "Epoch 18/50\n",
      "\u001b[1m80/80\u001b[0m \u001b[32m━━━━━━━━━━━━━━━━━━━━\u001b[0m\u001b[37m\u001b[0m \u001b[1m0s\u001b[0m 4ms/step - loss: 2652.2439 - root_mean_squared_error: 51.4204 - val_loss: 3798.5994 - val_root_mean_squared_error: 61.6328\n",
      "Epoch 19/50\n",
      "\u001b[1m80/80\u001b[0m \u001b[32m━━━━━━━━━━━━━━━━━━━━\u001b[0m\u001b[37m\u001b[0m \u001b[1m0s\u001b[0m 4ms/step - loss: 2809.1028 - root_mean_squared_error: 52.9262 - val_loss: 2598.0303 - val_root_mean_squared_error: 50.9709\n",
      "Epoch 20/50\n",
      "\u001b[1m80/80\u001b[0m \u001b[32m━━━━━━━━━━━━━━━━━━━━\u001b[0m\u001b[37m\u001b[0m \u001b[1m0s\u001b[0m 4ms/step - loss: 3006.6401 - root_mean_squared_error: 54.6854 - val_loss: 3654.7954 - val_root_mean_squared_error: 60.4549\n",
      "Epoch 21/50\n",
      "\u001b[1m80/80\u001b[0m \u001b[32m━━━━━━━━━━━━━━━━━━━━\u001b[0m\u001b[37m\u001b[0m \u001b[1m0s\u001b[0m 4ms/step - loss: 3146.8899 - root_mean_squared_error: 55.7901 - val_loss: 3254.4233 - val_root_mean_squared_error: 57.0476\n",
      "Epoch 22/50\n",
      "\u001b[1m80/80\u001b[0m \u001b[32m━━━━━━━━━━━━━━━━━━━━\u001b[0m\u001b[37m\u001b[0m \u001b[1m0s\u001b[0m 5ms/step - loss: 3276.8855 - root_mean_squared_error: 57.1624 - val_loss: 3218.3914 - val_root_mean_squared_error: 56.7309\n",
      "Epoch 23/50\n",
      "\u001b[1m80/80\u001b[0m \u001b[32m━━━━━━━━━━━━━━━━━━━━\u001b[0m\u001b[37m\u001b[0m \u001b[1m0s\u001b[0m 4ms/step - loss: 2894.3159 - root_mean_squared_error: 53.6022 - val_loss: 3284.1145 - val_root_mean_squared_error: 57.3072\n",
      "Epoch 24/50\n",
      "\u001b[1m80/80\u001b[0m \u001b[32m━━━━━━━━━━━━━━━━━━━━\u001b[0m\u001b[37m\u001b[0m \u001b[1m0s\u001b[0m 4ms/step - loss: 2620.2493 - root_mean_squared_error: 51.1318 - val_loss: 1858.6260 - val_root_mean_squared_error: 43.1118\n",
      "Epoch 25/50\n",
      "\u001b[1m80/80\u001b[0m \u001b[32m━━━━━━━━━━━━━━━━━━━━\u001b[0m\u001b[37m\u001b[0m \u001b[1m0s\u001b[0m 5ms/step - loss: 2424.3340 - root_mean_squared_error: 49.0818 - val_loss: 1975.1580 - val_root_mean_squared_error: 44.4427\n",
      "Epoch 26/50\n",
      "\u001b[1m80/80\u001b[0m \u001b[32m━━━━━━━━━━━━━━━━━━━━\u001b[0m\u001b[37m\u001b[0m \u001b[1m0s\u001b[0m 4ms/step - loss: 2664.3948 - root_mean_squared_error: 51.5547 - val_loss: 2734.5698 - val_root_mean_squared_error: 52.2931\n",
      "Epoch 27/50\n",
      "\u001b[1m80/80\u001b[0m \u001b[32m━━━━━━━━━━━━━━━━━━━━\u001b[0m\u001b[37m\u001b[0m \u001b[1m0s\u001b[0m 4ms/step - loss: 2438.7927 - root_mean_squared_error: 49.3349 - val_loss: 1650.7858 - val_root_mean_squared_error: 40.6299\n",
      "Epoch 28/50\n",
      "\u001b[1m80/80\u001b[0m \u001b[32m━━━━━━━━━━━━━━━━━━━━\u001b[0m\u001b[37m\u001b[0m \u001b[1m0s\u001b[0m 4ms/step - loss: 2266.9604 - root_mean_squared_error: 47.4717 - val_loss: 1597.6667 - val_root_mean_squared_error: 39.9708\n",
      "Epoch 29/50\n",
      "\u001b[1m80/80\u001b[0m \u001b[32m━━━━━━━━━━━━━━━━━━━━\u001b[0m\u001b[37m\u001b[0m \u001b[1m0s\u001b[0m 4ms/step - loss: 2840.7341 - root_mean_squared_error: 52.9655 - val_loss: 1628.6907 - val_root_mean_squared_error: 40.3570\n",
      "Epoch 30/50\n",
      "\u001b[1m80/80\u001b[0m \u001b[32m━━━━━━━━━━━━━━━━━━━━\u001b[0m\u001b[37m\u001b[0m \u001b[1m0s\u001b[0m 5ms/step - loss: 2095.2288 - root_mean_squared_error: 45.5395 - val_loss: 1357.6772 - val_root_mean_squared_error: 36.8467\n",
      "Epoch 31/50\n",
      "\u001b[1m80/80\u001b[0m \u001b[32m━━━━━━━━━━━━━━━━━━━━\u001b[0m\u001b[37m\u001b[0m \u001b[1m0s\u001b[0m 4ms/step - loss: 2347.9199 - root_mean_squared_error: 48.4077 - val_loss: 1444.4324 - val_root_mean_squared_error: 38.0057\n",
      "Epoch 32/50\n",
      "\u001b[1m80/80\u001b[0m \u001b[32m━━━━━━━━━━━━━━━━━━━━\u001b[0m\u001b[37m\u001b[0m \u001b[1m0s\u001b[0m 4ms/step - loss: 2044.0469 - root_mean_squared_error: 45.1294 - val_loss: 1528.3317 - val_root_mean_squared_error: 39.0939\n",
      "Epoch 33/50\n",
      "\u001b[1m80/80\u001b[0m \u001b[32m━━━━━━━━━━━━━━━━━━━━\u001b[0m\u001b[37m\u001b[0m \u001b[1m0s\u001b[0m 4ms/step - loss: 2305.5759 - root_mean_squared_error: 47.9306 - val_loss: 1482.7515 - val_root_mean_squared_error: 38.5065\n",
      "Epoch 34/50\n",
      "\u001b[1m80/80\u001b[0m \u001b[32m━━━━━━━━━━━━━━━━━━━━\u001b[0m\u001b[37m\u001b[0m \u001b[1m0s\u001b[0m 5ms/step - loss: 2136.8853 - root_mean_squared_error: 46.1167 - val_loss: 1344.0387 - val_root_mean_squared_error: 36.6611\n",
      "Epoch 35/50\n",
      "\u001b[1m80/80\u001b[0m \u001b[32m━━━━━━━━━━━━━━━━━━━━\u001b[0m\u001b[37m\u001b[0m \u001b[1m0s\u001b[0m 4ms/step - loss: 2676.6267 - root_mean_squared_error: 51.4210 - val_loss: 1549.4608 - val_root_mean_squared_error: 39.3632\n",
      "Epoch 36/50\n",
      "\u001b[1m80/80\u001b[0m \u001b[32m━━━━━━━━━━━━━━━━━━━━\u001b[0m\u001b[37m\u001b[0m \u001b[1m0s\u001b[0m 5ms/step - loss: 2238.8777 - root_mean_squared_error: 47.2617 - val_loss: 1225.3867 - val_root_mean_squared_error: 35.0055\n",
      "Epoch 37/50\n",
      "\u001b[1m80/80\u001b[0m \u001b[32m━━━━━━━━━━━━━━━━━━━━\u001b[0m\u001b[37m\u001b[0m \u001b[1m0s\u001b[0m 4ms/step - loss: 1881.9148 - root_mean_squared_error: 43.2257 - val_loss: 1163.7119 - val_root_mean_squared_error: 34.1132\n",
      "Epoch 38/50\n",
      "\u001b[1m80/80\u001b[0m \u001b[32m━━━━━━━━━━━━━━━━━━━━\u001b[0m\u001b[37m\u001b[0m \u001b[1m0s\u001b[0m 4ms/step - loss: 1897.7506 - root_mean_squared_error: 43.3530 - val_loss: 1191.4021 - val_root_mean_squared_error: 34.5167\n",
      "Epoch 39/50\n",
      "\u001b[1m80/80\u001b[0m \u001b[32m━━━━━━━━━━━━━━━━━━━━\u001b[0m\u001b[37m\u001b[0m \u001b[1m0s\u001b[0m 5ms/step - loss: 2188.0603 - root_mean_squared_error: 46.5738 - val_loss: 986.8400 - val_root_mean_squared_error: 31.4140\n",
      "Epoch 40/50\n",
      "\u001b[1m80/80\u001b[0m \u001b[32m━━━━━━━━━━━━━━━━━━━━\u001b[0m\u001b[37m\u001b[0m \u001b[1m0s\u001b[0m 4ms/step - loss: 1939.6112 - root_mean_squared_error: 43.9165 - val_loss: 902.1864 - val_root_mean_squared_error: 30.0364\n",
      "Epoch 41/50\n",
      "\u001b[1m80/80\u001b[0m \u001b[32m━━━━━━━━━━━━━━━━━━━━\u001b[0m\u001b[37m\u001b[0m \u001b[1m0s\u001b[0m 4ms/step - loss: 2101.8286 - root_mean_squared_error: 45.7616 - val_loss: 1109.1863 - val_root_mean_squared_error: 33.3044\n",
      "Epoch 42/50\n",
      "\u001b[1m80/80\u001b[0m \u001b[32m━━━━━━━━━━━━━━━━━━━━\u001b[0m\u001b[37m\u001b[0m \u001b[1m0s\u001b[0m 4ms/step - loss: 1839.2064 - root_mean_squared_error: 42.7848 - val_loss: 1002.0887 - val_root_mean_squared_error: 31.6558\n",
      "Epoch 43/50\n",
      "\u001b[1m80/80\u001b[0m \u001b[32m━━━━━━━━━━━━━━━━━━━━\u001b[0m\u001b[37m\u001b[0m \u001b[1m0s\u001b[0m 5ms/step - loss: 2271.6489 - root_mean_squared_error: 47.1102 - val_loss: 873.7402 - val_root_mean_squared_error: 29.5591\n",
      "Epoch 44/50\n",
      "\u001b[1m80/80\u001b[0m \u001b[32m━━━━━━━━━━━━━━━━━━━━\u001b[0m\u001b[37m\u001b[0m \u001b[1m0s\u001b[0m 4ms/step - loss: 1944.1761 - root_mean_squared_error: 44.0115 - val_loss: 894.7720 - val_root_mean_squared_error: 29.9127\n",
      "Epoch 45/50\n",
      "\u001b[1m80/80\u001b[0m \u001b[32m━━━━━━━━━━━━━━━━━━━━\u001b[0m\u001b[37m\u001b[0m \u001b[1m0s\u001b[0m 4ms/step - loss: 1824.0087 - root_mean_squared_error: 42.5772 - val_loss: 837.7150 - val_root_mean_squared_error: 28.9433\n",
      "Epoch 46/50\n",
      "\u001b[1m80/80\u001b[0m \u001b[32m━━━━━━━━━━━━━━━━━━━━\u001b[0m\u001b[37m\u001b[0m \u001b[1m0s\u001b[0m 4ms/step - loss: 2791.9568 - root_mean_squared_error: 52.6213 - val_loss: 1011.1219 - val_root_mean_squared_error: 31.7981\n",
      "Epoch 47/50\n",
      "\u001b[1m80/80\u001b[0m \u001b[32m━━━━━━━━━━━━━━━━━━━━\u001b[0m\u001b[37m\u001b[0m \u001b[1m0s\u001b[0m 5ms/step - loss: 1840.1804 - root_mean_squared_error: 42.7912 - val_loss: 1277.8612 - val_root_mean_squared_error: 35.7472\n",
      "Epoch 48/50\n",
      "\u001b[1m80/80\u001b[0m \u001b[32m━━━━━━━━━━━━━━━━━━━━\u001b[0m\u001b[37m\u001b[0m \u001b[1m0s\u001b[0m 4ms/step - loss: 1805.2253 - root_mean_squared_error: 42.3875 - val_loss: 1098.1865 - val_root_mean_squared_error: 33.1389\n",
      "Epoch 49/50\n",
      "\u001b[1m80/80\u001b[0m \u001b[32m━━━━━━━━━━━━━━━━━━━━\u001b[0m\u001b[37m\u001b[0m \u001b[1m0s\u001b[0m 4ms/step - loss: 2225.4133 - root_mean_squared_error: 47.1225 - val_loss: 933.9251 - val_root_mean_squared_error: 30.5602\n",
      "Epoch 50/50\n",
      "\u001b[1m80/80\u001b[0m \u001b[32m━━━━━━━━━━━━━━━━━━━━\u001b[0m\u001b[37m\u001b[0m \u001b[1m0s\u001b[0m 4ms/step - loss: 1995.1852 - root_mean_squared_error: 44.5657 - val_loss: 849.7932 - val_root_mean_squared_error: 29.1512\n"
     ]
    },
    {
     "data": {
      "text/plain": [
       "<keras.src.callbacks.history.History at 0x7ee45cfdbdf0>"
      ]
     },
     "execution_count": 36,
     "metadata": {},
     "output_type": "execute_result"
    }
   ],
   "source": [
    "model1 = Sequential()\n",
    "model1.add(InputLayer((6, 6))) # 6 timestamp , 6 feature\n",
    "model1.add(LSTM(16)) \n",
    "model1.add(Dense(8, activation='relu'))\n",
    "model1.add(Dense(1, 'linear')) \n",
    "\n",
    "#model1.summary()\n",
    "\n",
    "cp1 = ModelCheckpoint('/kaggle/working/model1.keras', save_best_only=True)\n",
    "\n",
    "model1.compile(loss=MeanSquaredError(), optimizer=Adam(learning_rate=0.01), \n",
    "               metrics=[RootMeanSquaredError()])\n",
    "\n",
    "model1.fit(X_train1, y_train1, validation_data=(X_val1, y_val1), epochs=50, \n",
    "           callbacks=[cp1])"
   ]
  },
  {
   "cell_type": "code",
   "execution_count": 37,
   "id": "b7efbdd6",
   "metadata": {
    "execution": {
     "iopub.execute_input": "2025-01-27T20:04:04.863381Z",
     "iopub.status.busy": "2025-01-27T20:04:04.863060Z",
     "iopub.status.idle": "2025-01-27T20:04:04.963442Z",
     "shell.execute_reply": "2025-01-27T20:04:04.962518Z"
    },
    "papermill": {
     "duration": 0.155612,
     "end_time": "2025-01-27T20:04:04.965271",
     "exception": false,
     "start_time": "2025-01-27T20:04:04.809659",
     "status": "completed"
    },
    "tags": []
   },
   "outputs": [],
   "source": [
    "from tensorflow.keras.models import load_model\n",
    "model1 = load_model('/kaggle/working/model1.keras')"
   ]
  },
  {
   "cell_type": "code",
   "execution_count": 38,
   "id": "1481a375",
   "metadata": {
    "execution": {
     "iopub.execute_input": "2025-01-27T20:04:05.082025Z",
     "iopub.status.busy": "2025-01-27T20:04:05.081631Z",
     "iopub.status.idle": "2025-01-27T20:04:05.665908Z",
     "shell.execute_reply": "2025-01-27T20:04:05.664618Z"
    },
    "papermill": {
     "duration": 0.640848,
     "end_time": "2025-01-27T20:04:05.667856",
     "exception": false,
     "start_time": "2025-01-27T20:04:05.027008",
     "status": "completed"
    },
    "tags": []
   },
   "outputs": [
    {
     "name": "stdout",
     "output_type": "stream",
     "text": [
      "\u001b[1m80/80\u001b[0m \u001b[32m━━━━━━━━━━━━━━━━━━━━\u001b[0m\u001b[37m\u001b[0m \u001b[1m0s\u001b[0m 4ms/step\n",
      "Evaluation Metrics:\n",
      "Mean Absolute Error (MAE): 27.6063\n",
      "Mean Squared Error (MSE): 1979.8049\n",
      "Root Mean Squared Error (RMSE): 44.4950\n",
      "R-squared (Accuracy): 0.6166\n"
     ]
    }
   ],
   "source": [
    "# Evaluate the model on the train data\n",
    "train_result = model1.predict(X_train1)\n",
    "\n",
    "# Calculate metrics\n",
    "mse = mean_squared_error(y_train1, train_result)\n",
    "rmse = np.sqrt(mse)\n",
    "mae = mean_absolute_error(y_train1, train_result)\n",
    "r2 = r2_score(y_train1, train_result)\n",
    "\n",
    "# Print the results\n",
    "print(\"Evaluation Metrics:\")\n",
    "print(f\"Mean Absolute Error (MAE): {mae:.4f}\")\n",
    "print(f\"Mean Squared Error (MSE): {mse:.4f}\")\n",
    "print(f\"Root Mean Squared Error (RMSE): {rmse:.4f}\")\n",
    "print(f\"R-squared (Accuracy): {r2:.4f}\")"
   ]
  },
  {
   "cell_type": "code",
   "execution_count": 39,
   "id": "9e63b1ad",
   "metadata": {
    "execution": {
     "iopub.execute_input": "2025-01-27T20:04:05.774232Z",
     "iopub.status.busy": "2025-01-27T20:04:05.773858Z",
     "iopub.status.idle": "2025-01-27T20:04:05.875768Z",
     "shell.execute_reply": "2025-01-27T20:04:05.874593Z"
    },
    "papermill": {
     "duration": 0.1566,
     "end_time": "2025-01-27T20:04:05.877400",
     "exception": false,
     "start_time": "2025-01-27T20:04:05.720800",
     "status": "completed"
    },
    "tags": []
   },
   "outputs": [
    {
     "name": "stdout",
     "output_type": "stream",
     "text": [
      "\u001b[1m10/10\u001b[0m \u001b[32m━━━━━━━━━━━━━━━━━━━━\u001b[0m\u001b[37m\u001b[0m \u001b[1m0s\u001b[0m 2ms/step \n",
      "Evaluation Metrics:\n",
      "Mean Absolute Error (MAE): 19.1290\n",
      "Mean Squared Error (MSE): 837.7150\n",
      "Root Mean Squared Error (RMSE): 28.9433\n",
      "R-squared (Accuracy): 0.8874\n"
     ]
    }
   ],
   "source": [
    "# Evaluate the model on the validation data\n",
    "val_result = model1.predict(X_val1)\n",
    "\n",
    "# Calculate metrics\n",
    "mse = mean_squared_error(y_val1, val_result)\n",
    "rmse = np.sqrt(mse)\n",
    "mae = mean_absolute_error(y_val1, val_result)\n",
    "r2 = r2_score(y_val1, val_result)\n",
    "\n",
    "# Print the results\n",
    "print(\"Evaluation Metrics:\")\n",
    "print(f\"Mean Absolute Error (MAE): {mae:.4f}\")\n",
    "print(f\"Mean Squared Error (MSE): {mse:.4f}\")\n",
    "print(f\"Root Mean Squared Error (RMSE): {rmse:.4f}\")\n",
    "print(f\"R-squared (Accuracy): {r2:.4f}\")"
   ]
  },
  {
   "cell_type": "code",
   "execution_count": 40,
   "id": "9b3c8e83",
   "metadata": {
    "execution": {
     "iopub.execute_input": "2025-01-27T20:04:05.991337Z",
     "iopub.status.busy": "2025-01-27T20:04:05.991010Z",
     "iopub.status.idle": "2025-01-27T20:04:06.091064Z",
     "shell.execute_reply": "2025-01-27T20:04:06.089808Z"
    },
    "papermill": {
     "duration": 0.162943,
     "end_time": "2025-01-27T20:04:06.093066",
     "exception": false,
     "start_time": "2025-01-27T20:04:05.930123",
     "status": "completed"
    },
    "tags": []
   },
   "outputs": [
    {
     "name": "stdout",
     "output_type": "stream",
     "text": [
      "\u001b[1m10/10\u001b[0m \u001b[32m━━━━━━━━━━━━━━━━━━━━\u001b[0m\u001b[37m\u001b[0m \u001b[1m0s\u001b[0m 2ms/step \n",
      "Evaluation Metrics:\n",
      "Mean Absolute Error (MAE): 29.6967\n",
      "Mean Squared Error (MSE): 1749.1364\n",
      "Root Mean Squared Error (RMSE): 41.8227\n",
      "R-squared (Accuracy): 0.4707\n"
     ]
    }
   ],
   "source": [
    "# Evaluate the model on the test data\n",
    "test_result = model1.predict(X_test1)\n",
    "\n",
    "# Calculate metrics\n",
    "mse = mean_squared_error(y_test1, test_result)\n",
    "rmse = np.sqrt(mse)\n",
    "mae = mean_absolute_error(y_test1, test_result)\n",
    "r2 = r2_score(y_test1, test_result)\n",
    "\n",
    "# Print the results\n",
    "print(\"Evaluation Metrics:\")\n",
    "print(f\"Mean Absolute Error (MAE): {mae:.4f}\")\n",
    "print(f\"Mean Squared Error (MSE): {mse:.4f}\")\n",
    "print(f\"Root Mean Squared Error (RMSE): {rmse:.4f}\")\n",
    "print(f\"R-squared (Accuracy): {r2:.4f}\")"
   ]
  },
  {
   "cell_type": "code",
   "execution_count": null,
   "id": "5ec48431",
   "metadata": {
    "papermill": {
     "duration": 0.052905,
     "end_time": "2025-01-27T20:04:06.199283",
     "exception": false,
     "start_time": "2025-01-27T20:04:06.146378",
     "status": "completed"
    },
    "tags": []
   },
   "outputs": [],
   "source": []
  },
  {
   "cell_type": "markdown",
   "id": "63bb761d",
   "metadata": {
    "papermill": {
     "duration": 0.052264,
     "end_time": "2025-01-27T20:04:06.303251",
     "exception": false,
     "start_time": "2025-01-27T20:04:06.250987",
     "status": "completed"
    },
    "tags": []
   },
   "source": [
    "## Model 2"
   ]
  },
  {
   "cell_type": "code",
   "execution_count": 41,
   "id": "f019ebbf",
   "metadata": {
    "execution": {
     "iopub.execute_input": "2025-01-27T20:04:06.409407Z",
     "iopub.status.busy": "2025-01-27T20:04:06.409079Z",
     "iopub.status.idle": "2025-01-27T20:04:28.525377Z",
     "shell.execute_reply": "2025-01-27T20:04:28.524316Z"
    },
    "papermill": {
     "duration": 22.171305,
     "end_time": "2025-01-27T20:04:28.527332",
     "exception": false,
     "start_time": "2025-01-27T20:04:06.356027",
     "status": "completed"
    },
    "tags": []
   },
   "outputs": [
    {
     "name": "stdout",
     "output_type": "stream",
     "text": [
      "Epoch 1/50\n",
      "\u001b[1m80/80\u001b[0m \u001b[32m━━━━━━━━━━━━━━━━━━━━\u001b[0m\u001b[37m\u001b[0m \u001b[1m2s\u001b[0m 8ms/step - loss: 31333.7812 - root_mean_squared_error: 177.0088 - val_loss: 39625.7188 - val_root_mean_squared_error: 199.0621\n",
      "Epoch 2/50\n",
      "\u001b[1m80/80\u001b[0m \u001b[32m━━━━━━━━━━━━━━━━━━━━\u001b[0m\u001b[37m\u001b[0m \u001b[1m0s\u001b[0m 4ms/step - loss: 32284.8262 - root_mean_squared_error: 179.6366 - val_loss: 39542.5000 - val_root_mean_squared_error: 198.8530\n",
      "Epoch 3/50\n",
      "\u001b[1m80/80\u001b[0m \u001b[32m━━━━━━━━━━━━━━━━━━━━\u001b[0m\u001b[37m\u001b[0m \u001b[1m0s\u001b[0m 5ms/step - loss: 33051.8203 - root_mean_squared_error: 181.7275 - val_loss: 39446.4688 - val_root_mean_squared_error: 198.6113\n",
      "Epoch 4/50\n",
      "\u001b[1m80/80\u001b[0m \u001b[32m━━━━━━━━━━━━━━━━━━━━\u001b[0m\u001b[37m\u001b[0m \u001b[1m0s\u001b[0m 5ms/step - loss: 31597.0098 - root_mean_squared_error: 177.7417 - val_loss: 39374.8359 - val_root_mean_squared_error: 198.4309\n",
      "Epoch 5/50\n",
      "\u001b[1m80/80\u001b[0m \u001b[32m━━━━━━━━━━━━━━━━━━━━\u001b[0m\u001b[37m\u001b[0m \u001b[1m0s\u001b[0m 5ms/step - loss: 30763.0527 - root_mean_squared_error: 175.3133 - val_loss: 39298.2930 - val_root_mean_squared_error: 198.2380\n",
      "Epoch 6/50\n",
      "\u001b[1m80/80\u001b[0m \u001b[32m━━━━━━━━━━━━━━━━━━━━\u001b[0m\u001b[37m\u001b[0m \u001b[1m0s\u001b[0m 5ms/step - loss: 32158.0254 - root_mean_squared_error: 179.2622 - val_loss: 39185.5117 - val_root_mean_squared_error: 197.9533\n",
      "Epoch 7/50\n",
      "\u001b[1m80/80\u001b[0m \u001b[32m━━━━━━━━━━━━━━━━━━━━\u001b[0m\u001b[37m\u001b[0m \u001b[1m0s\u001b[0m 5ms/step - loss: 31121.5000 - root_mean_squared_error: 176.3519 - val_loss: 39114.4336 - val_root_mean_squared_error: 197.7737\n",
      "Epoch 8/50\n",
      "\u001b[1m80/80\u001b[0m \u001b[32m━━━━━━━━━━━━━━━━━━━━\u001b[0m\u001b[37m\u001b[0m \u001b[1m0s\u001b[0m 5ms/step - loss: 30190.8438 - root_mean_squared_error: 173.7207 - val_loss: 39050.7695 - val_root_mean_squared_error: 197.6127\n",
      "Epoch 9/50\n",
      "\u001b[1m80/80\u001b[0m \u001b[32m━━━━━━━━━━━━━━━━━━━━\u001b[0m\u001b[37m\u001b[0m \u001b[1m0s\u001b[0m 4ms/step - loss: 31479.7891 - root_mean_squared_error: 177.3991 - val_loss: 38886.4180 - val_root_mean_squared_error: 197.1964\n",
      "Epoch 10/50\n",
      "\u001b[1m80/80\u001b[0m \u001b[32m━━━━━━━━━━━━━━━━━━━━\u001b[0m\u001b[37m\u001b[0m \u001b[1m0s\u001b[0m 4ms/step - loss: 30367.0430 - root_mean_squared_error: 174.2218 - val_loss: 38568.2852 - val_root_mean_squared_error: 196.3881\n",
      "Epoch 11/50\n",
      "\u001b[1m80/80\u001b[0m \u001b[32m━━━━━━━━━━━━━━━━━━━━\u001b[0m\u001b[37m\u001b[0m \u001b[1m0s\u001b[0m 5ms/step - loss: 31150.3945 - root_mean_squared_error: 176.4624 - val_loss: 38416.8867 - val_root_mean_squared_error: 196.0023\n",
      "Epoch 12/50\n",
      "\u001b[1m80/80\u001b[0m \u001b[32m━━━━━━━━━━━━━━━━━━━━\u001b[0m\u001b[37m\u001b[0m \u001b[1m0s\u001b[0m 5ms/step - loss: 32367.9609 - root_mean_squared_error: 179.7280 - val_loss: 38294.4727 - val_root_mean_squared_error: 195.6897\n",
      "Epoch 13/50\n",
      "\u001b[1m80/80\u001b[0m \u001b[32m━━━━━━━━━━━━━━━━━━━━\u001b[0m\u001b[37m\u001b[0m \u001b[1m0s\u001b[0m 5ms/step - loss: 30108.9395 - root_mean_squared_error: 173.4833 - val_loss: 38182.7812 - val_root_mean_squared_error: 195.4041\n",
      "Epoch 14/50\n",
      "\u001b[1m80/80\u001b[0m \u001b[32m━━━━━━━━━━━━━━━━━━━━\u001b[0m\u001b[37m\u001b[0m \u001b[1m0s\u001b[0m 5ms/step - loss: 29877.1133 - root_mean_squared_error: 172.8313 - val_loss: 38074.2773 - val_root_mean_squared_error: 195.1263\n",
      "Epoch 15/50\n",
      "\u001b[1m80/80\u001b[0m \u001b[32m━━━━━━━━━━━━━━━━━━━━\u001b[0m\u001b[37m\u001b[0m \u001b[1m0s\u001b[0m 5ms/step - loss: 29313.2773 - root_mean_squared_error: 171.1682 - val_loss: 37966.5352 - val_root_mean_squared_error: 194.8500\n",
      "Epoch 16/50\n",
      "\u001b[1m80/80\u001b[0m \u001b[32m━━━━━━━━━━━━━━━━━━━━\u001b[0m\u001b[37m\u001b[0m \u001b[1m0s\u001b[0m 5ms/step - loss: 28869.9688 - root_mean_squared_error: 169.8937 - val_loss: 37855.0898 - val_root_mean_squared_error: 194.5638\n",
      "Epoch 17/50\n",
      "\u001b[1m80/80\u001b[0m \u001b[32m━━━━━━━━━━━━━━━━━━━━\u001b[0m\u001b[37m\u001b[0m \u001b[1m0s\u001b[0m 5ms/step - loss: 30585.6172 - root_mean_squared_error: 174.7421 - val_loss: 37725.5859 - val_root_mean_squared_error: 194.2308\n",
      "Epoch 18/50\n",
      "\u001b[1m80/80\u001b[0m \u001b[32m━━━━━━━━━━━━━━━━━━━━\u001b[0m\u001b[37m\u001b[0m \u001b[1m0s\u001b[0m 5ms/step - loss: 28814.3418 - root_mean_squared_error: 169.7269 - val_loss: 37544.1602 - val_root_mean_squared_error: 193.7632\n",
      "Epoch 19/50\n",
      "\u001b[1m80/80\u001b[0m \u001b[32m━━━━━━━━━━━━━━━━━━━━\u001b[0m\u001b[37m\u001b[0m \u001b[1m0s\u001b[0m 5ms/step - loss: 29158.8457 - root_mean_squared_error: 170.7385 - val_loss: 37381.4297 - val_root_mean_squared_error: 193.3428\n",
      "Epoch 20/50\n",
      "\u001b[1m80/80\u001b[0m \u001b[32m━━━━━━━━━━━━━━━━━━━━\u001b[0m\u001b[37m\u001b[0m \u001b[1m0s\u001b[0m 4ms/step - loss: 30815.5508 - root_mean_squared_error: 175.2881 - val_loss: 37257.2734 - val_root_mean_squared_error: 193.0214\n",
      "Epoch 21/50\n",
      "\u001b[1m80/80\u001b[0m \u001b[32m━━━━━━━━━━━━━━━━━━━━\u001b[0m\u001b[37m\u001b[0m \u001b[1m0s\u001b[0m 5ms/step - loss: 29566.2129 - root_mean_squared_error: 171.9360 - val_loss: 37134.1367 - val_root_mean_squared_error: 192.7022\n",
      "Epoch 22/50\n",
      "\u001b[1m80/80\u001b[0m \u001b[32m━━━━━━━━━━━━━━━━━━━━\u001b[0m\u001b[37m\u001b[0m \u001b[1m0s\u001b[0m 5ms/step - loss: 28594.1953 - root_mean_squared_error: 169.0723 - val_loss: 37010.3164 - val_root_mean_squared_error: 192.3807\n",
      "Epoch 23/50\n",
      "\u001b[1m80/80\u001b[0m \u001b[32m━━━━━━━━━━━━━━━━━━━━\u001b[0m\u001b[37m\u001b[0m \u001b[1m0s\u001b[0m 5ms/step - loss: 28845.5195 - root_mean_squared_error: 169.7607 - val_loss: 36885.5781 - val_root_mean_squared_error: 192.0562\n",
      "Epoch 24/50\n",
      "\u001b[1m80/80\u001b[0m \u001b[32m━━━━━━━━━━━━━━━━━━━━\u001b[0m\u001b[37m\u001b[0m \u001b[1m0s\u001b[0m 5ms/step - loss: 29006.3926 - root_mean_squared_error: 170.2653 - val_loss: 36758.8125 - val_root_mean_squared_error: 191.7259\n",
      "Epoch 25/50\n",
      "\u001b[1m80/80\u001b[0m \u001b[32m━━━━━━━━━━━━━━━━━━━━\u001b[0m\u001b[37m\u001b[0m \u001b[1m0s\u001b[0m 5ms/step - loss: 30720.0898 - root_mean_squared_error: 175.1037 - val_loss: 36630.6602 - val_root_mean_squared_error: 191.3914\n",
      "Epoch 26/50\n",
      "\u001b[1m80/80\u001b[0m \u001b[32m━━━━━━━━━━━━━━━━━━━━\u001b[0m\u001b[37m\u001b[0m \u001b[1m0s\u001b[0m 5ms/step - loss: 29004.7070 - root_mean_squared_error: 170.2915 - val_loss: 36463.9336 - val_root_mean_squared_error: 190.9553\n",
      "Epoch 27/50\n",
      "\u001b[1m80/80\u001b[0m \u001b[32m━━━━━━━━━━━━━━━━━━━━\u001b[0m\u001b[37m\u001b[0m \u001b[1m0s\u001b[0m 4ms/step - loss: 29726.1543 - root_mean_squared_error: 172.3881 - val_loss: 35973.4648 - val_root_mean_squared_error: 189.6667\n",
      "Epoch 28/50\n",
      "\u001b[1m80/80\u001b[0m \u001b[32m━━━━━━━━━━━━━━━━━━━━\u001b[0m\u001b[37m\u001b[0m \u001b[1m0s\u001b[0m 5ms/step - loss: 28560.1133 - root_mean_squared_error: 168.9498 - val_loss: 35728.4023 - val_root_mean_squared_error: 189.0196\n",
      "Epoch 29/50\n",
      "\u001b[1m80/80\u001b[0m \u001b[32m━━━━━━━━━━━━━━━━━━━━\u001b[0m\u001b[37m\u001b[0m \u001b[1m0s\u001b[0m 5ms/step - loss: 28710.0176 - root_mean_squared_error: 169.4145 - val_loss: 35418.6836 - val_root_mean_squared_error: 188.1985\n",
      "Epoch 30/50\n",
      "\u001b[1m80/80\u001b[0m \u001b[32m━━━━━━━━━━━━━━━━━━━━\u001b[0m\u001b[37m\u001b[0m \u001b[1m0s\u001b[0m 5ms/step - loss: 26868.5039 - root_mean_squared_error: 163.9063 - val_loss: 35226.8867 - val_root_mean_squared_error: 187.6883\n",
      "Epoch 31/50\n",
      "\u001b[1m80/80\u001b[0m \u001b[32m━━━━━━━━━━━━━━━━━━━━\u001b[0m\u001b[37m\u001b[0m \u001b[1m0s\u001b[0m 5ms/step - loss: 26216.9824 - root_mean_squared_error: 161.8850 - val_loss: 35043.8828 - val_root_mean_squared_error: 187.2001\n",
      "Epoch 32/50\n",
      "\u001b[1m80/80\u001b[0m \u001b[32m━━━━━━━━━━━━━━━━━━━━\u001b[0m\u001b[37m\u001b[0m \u001b[1m0s\u001b[0m 5ms/step - loss: 26924.2285 - root_mean_squared_error: 164.0657 - val_loss: 34864.0156 - val_root_mean_squared_error: 186.7191\n",
      "Epoch 33/50\n",
      "\u001b[1m80/80\u001b[0m \u001b[32m━━━━━━━━━━━━━━━━━━━━\u001b[0m\u001b[37m\u001b[0m \u001b[1m0s\u001b[0m 5ms/step - loss: 27166.0000 - root_mean_squared_error: 164.8077 - val_loss: 34684.6016 - val_root_mean_squared_error: 186.2380\n",
      "Epoch 34/50\n",
      "\u001b[1m80/80\u001b[0m \u001b[32m━━━━━━━━━━━━━━━━━━━━\u001b[0m\u001b[37m\u001b[0m \u001b[1m0s\u001b[0m 5ms/step - loss: 26346.1953 - root_mean_squared_error: 162.2995 - val_loss: 34506.8320 - val_root_mean_squared_error: 185.7601\n",
      "Epoch 35/50\n",
      "\u001b[1m80/80\u001b[0m \u001b[32m━━━━━━━━━━━━━━━━━━━━\u001b[0m\u001b[37m\u001b[0m \u001b[1m0s\u001b[0m 5ms/step - loss: 25777.1621 - root_mean_squared_error: 160.5163 - val_loss: 34329.4453 - val_root_mean_squared_error: 185.2821\n",
      "Epoch 36/50\n",
      "\u001b[1m80/80\u001b[0m \u001b[32m━━━━━━━━━━━━━━━━━━━━\u001b[0m\u001b[37m\u001b[0m \u001b[1m0s\u001b[0m 5ms/step - loss: 27237.6719 - root_mean_squared_error: 165.0138 - val_loss: 34150.7695 - val_root_mean_squared_error: 184.7993\n",
      "Epoch 37/50\n",
      "\u001b[1m80/80\u001b[0m \u001b[32m━━━━━━━━━━━━━━━━━━━━\u001b[0m\u001b[37m\u001b[0m \u001b[1m0s\u001b[0m 5ms/step - loss: 26189.4395 - root_mean_squared_error: 161.8246 - val_loss: 33973.0312 - val_root_mean_squared_error: 184.3177\n",
      "Epoch 38/50\n",
      "\u001b[1m80/80\u001b[0m \u001b[32m━━━━━━━━━━━━━━━━━━━━\u001b[0m\u001b[37m\u001b[0m \u001b[1m0s\u001b[0m 5ms/step - loss: 27417.3320 - root_mean_squared_error: 165.4980 - val_loss: 33700.3516 - val_root_mean_squared_error: 183.5766\n",
      "Epoch 39/50\n",
      "\u001b[1m80/80\u001b[0m \u001b[32m━━━━━━━━━━━━━━━━━━━━\u001b[0m\u001b[37m\u001b[0m \u001b[1m0s\u001b[0m 5ms/step - loss: 26910.3301 - root_mean_squared_error: 164.0107 - val_loss: 33372.3320 - val_root_mean_squared_error: 182.6810\n",
      "Epoch 40/50\n",
      "\u001b[1m80/80\u001b[0m \u001b[32m━━━━━━━━━━━━━━━━━━━━\u001b[0m\u001b[37m\u001b[0m \u001b[1m0s\u001b[0m 5ms/step - loss: 25852.9434 - root_mean_squared_error: 160.7475 - val_loss: 33167.1328 - val_root_mean_squared_error: 182.1185\n",
      "Epoch 41/50\n",
      "\u001b[1m80/80\u001b[0m \u001b[32m━━━━━━━━━━━━━━━━━━━━\u001b[0m\u001b[37m\u001b[0m \u001b[1m0s\u001b[0m 5ms/step - loss: 25787.8672 - root_mean_squared_error: 160.5504 - val_loss: 32964.9023 - val_root_mean_squared_error: 181.5624\n",
      "Epoch 42/50\n",
      "\u001b[1m80/80\u001b[0m \u001b[32m━━━━━━━━━━━━━━━━━━━━\u001b[0m\u001b[37m\u001b[0m \u001b[1m0s\u001b[0m 5ms/step - loss: 25133.0508 - root_mean_squared_error: 158.5110 - val_loss: 32764.8145 - val_root_mean_squared_error: 181.0105\n",
      "Epoch 43/50\n",
      "\u001b[1m80/80\u001b[0m \u001b[32m━━━━━━━━━━━━━━━━━━━━\u001b[0m\u001b[37m\u001b[0m \u001b[1m0s\u001b[0m 5ms/step - loss: 24404.6016 - root_mean_squared_error: 156.1189 - val_loss: 32566.0664 - val_root_mean_squared_error: 180.4607\n",
      "Epoch 44/50\n",
      "\u001b[1m80/80\u001b[0m \u001b[32m━━━━━━━━━━━━━━━━━━━━\u001b[0m\u001b[37m\u001b[0m \u001b[1m0s\u001b[0m 5ms/step - loss: 25983.2344 - root_mean_squared_error: 161.1508 - val_loss: 32366.6074 - val_root_mean_squared_error: 179.9072\n",
      "Epoch 45/50\n",
      "\u001b[1m80/80\u001b[0m \u001b[32m━━━━━━━━━━━━━━━━━━━━\u001b[0m\u001b[37m\u001b[0m \u001b[1m0s\u001b[0m 4ms/step - loss: 24986.3398 - root_mean_squared_error: 158.0488 - val_loss: 32167.4258 - val_root_mean_squared_error: 179.3528\n",
      "Epoch 46/50\n",
      "\u001b[1m80/80\u001b[0m \u001b[32m━━━━━━━━━━━━━━━━━━━━\u001b[0m\u001b[37m\u001b[0m \u001b[1m0s\u001b[0m 5ms/step - loss: 24886.6250 - root_mean_squared_error: 157.6837 - val_loss: 31967.7246 - val_root_mean_squared_error: 178.7952\n",
      "Epoch 47/50\n",
      "\u001b[1m80/80\u001b[0m \u001b[32m━━━━━━━━━━━━━━━━━━━━\u001b[0m\u001b[37m\u001b[0m \u001b[1m0s\u001b[0m 5ms/step - loss: 23004.7578 - root_mean_squared_error: 151.6131 - val_loss: 31767.6836 - val_root_mean_squared_error: 178.2349\n",
      "Epoch 48/50\n",
      "\u001b[1m80/80\u001b[0m \u001b[32m━━━━━━━━━━━━━━━━━━━━\u001b[0m\u001b[37m\u001b[0m \u001b[1m0s\u001b[0m 5ms/step - loss: 23343.6719 - root_mean_squared_error: 152.7500 - val_loss: 31560.5273 - val_root_mean_squared_error: 177.6528\n",
      "Epoch 49/50\n",
      "\u001b[1m80/80\u001b[0m \u001b[32m━━━━━━━━━━━━━━━━━━━━\u001b[0m\u001b[37m\u001b[0m \u001b[1m0s\u001b[0m 5ms/step - loss: 24212.8105 - root_mean_squared_error: 155.5832 - val_loss: 31295.2012 - val_root_mean_squared_error: 176.9045\n",
      "Epoch 50/50\n",
      "\u001b[1m80/80\u001b[0m \u001b[32m━━━━━━━━━━━━━━━━━━━━\u001b[0m\u001b[37m\u001b[0m \u001b[1m0s\u001b[0m 5ms/step - loss: 23450.3242 - root_mean_squared_error: 153.0715 - val_loss: 31042.5625 - val_root_mean_squared_error: 176.1890\n"
     ]
    },
    {
     "data": {
      "text/plain": [
       "<keras.src.callbacks.history.History at 0x7ee45414f430>"
      ]
     },
     "execution_count": 41,
     "metadata": {},
     "output_type": "execute_result"
    }
   ],
   "source": [
    "model2 = Sequential()\n",
    "model2.add(InputLayer((6, 6))) # 6 timestamp , 6 feature\n",
    "model2.add(LSTM(16)) \n",
    "model2.add(Dense(8, activation='relu')) \n",
    "model2.add(Dense(1, 'linear'))\n",
    "\n",
    "#model1.summary()\n",
    "\n",
    "cp2 = ModelCheckpoint('/kaggle/working/model2.keras', save_best_only=True)\n",
    "\n",
    "model2.compile(loss=MeanSquaredError(), optimizer=Adam(learning_rate=0.0001), \n",
    "               metrics=[RootMeanSquaredError()])\n",
    "\n",
    "model2.fit(X_train1, y_train1, validation_data=(X_val1, y_val1), epochs=50, \n",
    "           callbacks=[cp2])"
   ]
  },
  {
   "cell_type": "code",
   "execution_count": 42,
   "id": "b45069a5",
   "metadata": {
    "execution": {
     "iopub.execute_input": "2025-01-27T20:04:28.683148Z",
     "iopub.status.busy": "2025-01-27T20:04:28.682814Z",
     "iopub.status.idle": "2025-01-27T20:04:28.775298Z",
     "shell.execute_reply": "2025-01-27T20:04:28.774155Z"
    },
    "papermill": {
     "duration": 0.171583,
     "end_time": "2025-01-27T20:04:28.777612",
     "exception": false,
     "start_time": "2025-01-27T20:04:28.606029",
     "status": "completed"
    },
    "tags": []
   },
   "outputs": [],
   "source": [
    "from tensorflow.keras.models import load_model\n",
    "model2 = load_model('/kaggle/working/model2.keras')"
   ]
  },
  {
   "cell_type": "code",
   "execution_count": 43,
   "id": "9b2dfcad",
   "metadata": {
    "execution": {
     "iopub.execute_input": "2025-01-27T20:04:28.930612Z",
     "iopub.status.busy": "2025-01-27T20:04:28.930199Z",
     "iopub.status.idle": "2025-01-27T20:04:29.468519Z",
     "shell.execute_reply": "2025-01-27T20:04:29.467159Z"
    },
    "papermill": {
     "duration": 0.617511,
     "end_time": "2025-01-27T20:04:29.470512",
     "exception": false,
     "start_time": "2025-01-27T20:04:28.853001",
     "status": "completed"
    },
    "tags": []
   },
   "outputs": [
    {
     "name": "stdout",
     "output_type": "stream",
     "text": [
      "\u001b[1m80/80\u001b[0m \u001b[32m━━━━━━━━━━━━━━━━━━━━\u001b[0m\u001b[37m\u001b[0m \u001b[1m0s\u001b[0m 4ms/step\n",
      "Evaluation Metrics:\n",
      "Mean Absolute Error (MAE): 136.2501\n",
      "Mean Squared Error (MSE): 23740.3111\n",
      "Root Mean Squared Error (RMSE): 154.0789\n",
      "R-squared (Accuracy): -3.5973\n"
     ]
    }
   ],
   "source": [
    "# Evaluate the model on the train data\n",
    "train_result = model2.predict(X_train1)\n",
    "\n",
    "# Calculate metrics\n",
    "mse = mean_squared_error(y_train1, train_result)\n",
    "rmse = np.sqrt(mse)\n",
    "mae = mean_absolute_error(y_train1, train_result)\n",
    "r2 = r2_score(y_train1, train_result)\n",
    "\n",
    "# Print the results\n",
    "print(\"Evaluation Metrics:\")\n",
    "print(f\"Mean Absolute Error (MAE): {mae:.4f}\")\n",
    "print(f\"Mean Squared Error (MSE): {mse:.4f}\")\n",
    "print(f\"Root Mean Squared Error (RMSE): {rmse:.4f}\")\n",
    "print(f\"R-squared (Accuracy): {r2:.4f}\")"
   ]
  },
  {
   "cell_type": "code",
   "execution_count": 44,
   "id": "8b4b9e20",
   "metadata": {
    "execution": {
     "iopub.execute_input": "2025-01-27T20:04:29.625600Z",
     "iopub.status.busy": "2025-01-27T20:04:29.625198Z",
     "iopub.status.idle": "2025-01-27T20:04:29.726025Z",
     "shell.execute_reply": "2025-01-27T20:04:29.724805Z"
    },
    "papermill": {
     "duration": 0.180379,
     "end_time": "2025-01-27T20:04:29.728055",
     "exception": false,
     "start_time": "2025-01-27T20:04:29.547676",
     "status": "completed"
    },
    "tags": []
   },
   "outputs": [
    {
     "name": "stdout",
     "output_type": "stream",
     "text": [
      "\u001b[1m10/10\u001b[0m \u001b[32m━━━━━━━━━━━━━━━━━━━━\u001b[0m\u001b[37m\u001b[0m \u001b[1m0s\u001b[0m 2ms/step \n",
      "Evaluation Metrics:\n",
      "Mean Absolute Error (MAE): 153.6293\n",
      "Mean Squared Error (MSE): 31042.5630\n",
      "Root Mean Squared Error (RMSE): 176.1890\n",
      "R-squared (Accuracy): -3.1734\n"
     ]
    }
   ],
   "source": [
    "# Evaluate the model on the validation data\n",
    "val_result = model2.predict(X_val1)\n",
    "\n",
    "# Calculate metrics\n",
    "mse = mean_squared_error(y_val1, val_result)\n",
    "rmse = np.sqrt(mse)\n",
    "mae = mean_absolute_error(y_val1, val_result)\n",
    "r2 = r2_score(y_val1, val_result)\n",
    "\n",
    "# Print the results\n",
    "print(\"Evaluation Metrics:\")\n",
    "print(f\"Mean Absolute Error (MAE): {mae:.4f}\")\n",
    "print(f\"Mean Squared Error (MSE): {mse:.4f}\")\n",
    "print(f\"Root Mean Squared Error (RMSE): {rmse:.4f}\")\n",
    "print(f\"R-squared (Accuracy): {r2:.4f}\")"
   ]
  },
  {
   "cell_type": "code",
   "execution_count": 45,
   "id": "d0f0d393",
   "metadata": {
    "execution": {
     "iopub.execute_input": "2025-01-27T20:04:29.883713Z",
     "iopub.status.busy": "2025-01-27T20:04:29.883280Z",
     "iopub.status.idle": "2025-01-27T20:04:29.990064Z",
     "shell.execute_reply": "2025-01-27T20:04:29.989034Z"
    },
    "papermill": {
     "duration": 0.186727,
     "end_time": "2025-01-27T20:04:29.991943",
     "exception": false,
     "start_time": "2025-01-27T20:04:29.805216",
     "status": "completed"
    },
    "tags": []
   },
   "outputs": [
    {
     "name": "stdout",
     "output_type": "stream",
     "text": [
      "\u001b[1m10/10\u001b[0m \u001b[32m━━━━━━━━━━━━━━━━━━━━\u001b[0m\u001b[37m\u001b[0m \u001b[1m0s\u001b[0m 2ms/step \n",
      "Evaluation Metrics:\n",
      "Mean Absolute Error (MAE): 119.3424\n",
      "Mean Squared Error (MSE): 17547.7692\n",
      "Root Mean Squared Error (RMSE): 132.4680\n",
      "R-squared (Accuracy): -4.3102\n"
     ]
    }
   ],
   "source": [
    "# Evaluate the model on the test data\n",
    "test_result = model2.predict(X_test1)\n",
    "\n",
    "# Calculate metrics\n",
    "mse = mean_squared_error(y_test1, test_result)\n",
    "rmse = np.sqrt(mse)\n",
    "mae = mean_absolute_error(y_test1, test_result)\n",
    "r2 = r2_score(y_test1, test_result)\n",
    "\n",
    "# Print the results\n",
    "print(\"Evaluation Metrics:\")\n",
    "print(f\"Mean Absolute Error (MAE): {mae:.4f}\")\n",
    "print(f\"Mean Squared Error (MSE): {mse:.4f}\")\n",
    "print(f\"Root Mean Squared Error (RMSE): {rmse:.4f}\")\n",
    "print(f\"R-squared (Accuracy): {r2:.4f}\")"
   ]
  },
  {
   "cell_type": "code",
   "execution_count": null,
   "id": "d14af808",
   "metadata": {
    "papermill": {
     "duration": 0.076375,
     "end_time": "2025-01-27T20:04:30.146559",
     "exception": false,
     "start_time": "2025-01-27T20:04:30.070184",
     "status": "completed"
    },
    "tags": []
   },
   "outputs": [],
   "source": []
  },
  {
   "cell_type": "code",
   "execution_count": null,
   "id": "176d3215",
   "metadata": {
    "papermill": {
     "duration": 0.076569,
     "end_time": "2025-01-27T20:04:30.299954",
     "exception": false,
     "start_time": "2025-01-27T20:04:30.223385",
     "status": "completed"
    },
    "tags": []
   },
   "outputs": [],
   "source": []
  },
  {
   "cell_type": "markdown",
   "id": "87194176",
   "metadata": {
    "papermill": {
     "duration": 0.077367,
     "end_time": "2025-01-27T20:04:30.454092",
     "exception": false,
     "start_time": "2025-01-27T20:04:30.376725",
     "status": "completed"
    },
    "tags": []
   },
   "source": [
    "## Model 3"
   ]
  },
  {
   "cell_type": "code",
   "execution_count": 46,
   "id": "041e1379",
   "metadata": {
    "execution": {
     "iopub.execute_input": "2025-01-27T20:04:30.609485Z",
     "iopub.status.busy": "2025-01-27T20:04:30.609109Z",
     "iopub.status.idle": "2025-01-27T20:04:53.167080Z",
     "shell.execute_reply": "2025-01-27T20:04:53.166007Z"
    },
    "papermill": {
     "duration": 22.638171,
     "end_time": "2025-01-27T20:04:53.168967",
     "exception": false,
     "start_time": "2025-01-27T20:04:30.530796",
     "status": "completed"
    },
    "tags": []
   },
   "outputs": [
    {
     "name": "stdout",
     "output_type": "stream",
     "text": [
      "Epoch 1/50\n",
      "\u001b[1m80/80\u001b[0m \u001b[32m━━━━━━━━━━━━━━━━━━━━\u001b[0m\u001b[37m\u001b[0m \u001b[1m3s\u001b[0m 11ms/step - loss: 31476.4668 - root_mean_squared_error: 177.4005 - val_loss: 39644.5469 - val_root_mean_squared_error: 199.1094\n",
      "Epoch 2/50\n",
      "\u001b[1m80/80\u001b[0m \u001b[32m━━━━━━━━━━━━━━━━━━━━\u001b[0m\u001b[37m\u001b[0m \u001b[1m0s\u001b[0m 5ms/step - loss: 31244.3477 - root_mean_squared_error: 176.7288 - val_loss: 38957.5039 - val_root_mean_squared_error: 197.3766\n",
      "Epoch 3/50\n",
      "\u001b[1m80/80\u001b[0m \u001b[32m━━━━━━━━━━━━━━━━━━━━\u001b[0m\u001b[37m\u001b[0m \u001b[1m0s\u001b[0m 5ms/step - loss: 31089.1582 - root_mean_squared_error: 176.2933 - val_loss: 37952.0508 - val_root_mean_squared_error: 194.8129\n",
      "Epoch 4/50\n",
      "\u001b[1m80/80\u001b[0m \u001b[32m━━━━━━━━━━━━━━━━━━━━\u001b[0m\u001b[37m\u001b[0m \u001b[1m0s\u001b[0m 5ms/step - loss: 29077.4512 - root_mean_squared_error: 170.5131 - val_loss: 36119.9961 - val_root_mean_squared_error: 190.0526\n",
      "Epoch 5/50\n",
      "\u001b[1m80/80\u001b[0m \u001b[32m━━━━━━━━━━━━━━━━━━━━\u001b[0m\u001b[37m\u001b[0m \u001b[1m0s\u001b[0m 5ms/step - loss: 29020.0801 - root_mean_squared_error: 170.1913 - val_loss: 33599.4062 - val_root_mean_squared_error: 183.3014\n",
      "Epoch 6/50\n",
      "\u001b[1m80/80\u001b[0m \u001b[32m━━━━━━━━━━━━━━━━━━━━\u001b[0m\u001b[37m\u001b[0m \u001b[1m0s\u001b[0m 5ms/step - loss: 26565.0332 - root_mean_squared_error: 162.7892 - val_loss: 30795.7188 - val_root_mean_squared_error: 175.4871\n",
      "Epoch 7/50\n",
      "\u001b[1m80/80\u001b[0m \u001b[32m━━━━━━━━━━━━━━━━━━━━\u001b[0m\u001b[37m\u001b[0m \u001b[1m0s\u001b[0m 5ms/step - loss: 23387.9062 - root_mean_squared_error: 152.8818 - val_loss: 28250.9961 - val_root_mean_squared_error: 168.0803\n",
      "Epoch 8/50\n",
      "\u001b[1m80/80\u001b[0m \u001b[32m━━━━━━━━━━━━━━━━━━━━\u001b[0m\u001b[37m\u001b[0m \u001b[1m0s\u001b[0m 5ms/step - loss: 21575.1016 - root_mean_squared_error: 146.7155 - val_loss: 25780.3887 - val_root_mean_squared_error: 160.5627\n",
      "Epoch 9/50\n",
      "\u001b[1m80/80\u001b[0m \u001b[32m━━━━━━━━━━━━━━━━━━━━\u001b[0m\u001b[37m\u001b[0m \u001b[1m0s\u001b[0m 5ms/step - loss: 19303.2363 - root_mean_squared_error: 138.8725 - val_loss: 23390.2070 - val_root_mean_squared_error: 152.9386\n",
      "Epoch 10/50\n",
      "\u001b[1m80/80\u001b[0m \u001b[32m━━━━━━━━━━━━━━━━━━━━\u001b[0m\u001b[37m\u001b[0m \u001b[1m0s\u001b[0m 5ms/step - loss: 16635.7148 - root_mean_squared_error: 128.9626 - val_loss: 21110.9199 - val_root_mean_squared_error: 145.2960\n",
      "Epoch 11/50\n",
      "\u001b[1m80/80\u001b[0m \u001b[32m━━━━━━━━━━━━━━━━━━━━\u001b[0m\u001b[37m\u001b[0m \u001b[1m0s\u001b[0m 5ms/step - loss: 15263.8984 - root_mean_squared_error: 123.4872 - val_loss: 18991.1289 - val_root_mean_squared_error: 137.8083\n",
      "Epoch 12/50\n",
      "\u001b[1m80/80\u001b[0m \u001b[32m━━━━━━━━━━━━━━━━━━━━\u001b[0m\u001b[37m\u001b[0m \u001b[1m0s\u001b[0m 5ms/step - loss: 12860.4189 - root_mean_squared_error: 113.3800 - val_loss: 17059.8789 - val_root_mean_squared_error: 130.6135\n",
      "Epoch 13/50\n",
      "\u001b[1m80/80\u001b[0m \u001b[32m━━━━━━━━━━━━━━━━━━━━\u001b[0m\u001b[37m\u001b[0m \u001b[1m0s\u001b[0m 5ms/step - loss: 10222.2275 - root_mean_squared_error: 101.0258 - val_loss: 15331.5205 - val_root_mean_squared_error: 123.8205\n",
      "Epoch 14/50\n",
      "\u001b[1m80/80\u001b[0m \u001b[32m━━━━━━━━━━━━━━━━━━━━\u001b[0m\u001b[37m\u001b[0m \u001b[1m0s\u001b[0m 5ms/step - loss: 9463.1621 - root_mean_squared_error: 97.2562 - val_loss: 13807.2939 - val_root_mean_squared_error: 117.5044\n",
      "Epoch 15/50\n",
      "\u001b[1m80/80\u001b[0m \u001b[32m━━━━━━━━━━━━━━━━━━━━\u001b[0m\u001b[37m\u001b[0m \u001b[1m0s\u001b[0m 5ms/step - loss: 9254.1084 - root_mean_squared_error: 96.1094 - val_loss: 12492.7959 - val_root_mean_squared_error: 111.7712\n",
      "Epoch 16/50\n",
      "\u001b[1m80/80\u001b[0m \u001b[32m━━━━━━━━━━━━━━━━━━━━\u001b[0m\u001b[37m\u001b[0m \u001b[1m0s\u001b[0m 5ms/step - loss: 7244.3574 - root_mean_squared_error: 85.0575 - val_loss: 11310.4102 - val_root_mean_squared_error: 106.3504\n",
      "Epoch 17/50\n",
      "\u001b[1m80/80\u001b[0m \u001b[32m━━━━━━━━━━━━━━━━━━━━\u001b[0m\u001b[37m\u001b[0m \u001b[1m0s\u001b[0m 5ms/step - loss: 6289.4170 - root_mean_squared_error: 79.2518 - val_loss: 10082.0459 - val_root_mean_squared_error: 100.4094\n",
      "Epoch 18/50\n",
      "\u001b[1m80/80\u001b[0m \u001b[32m━━━━━━━━━━━━━━━━━━━━\u001b[0m\u001b[37m\u001b[0m \u001b[1m0s\u001b[0m 5ms/step - loss: 6927.1099 - root_mean_squared_error: 82.4170 - val_loss: 8721.8008 - val_root_mean_squared_error: 93.3906\n",
      "Epoch 19/50\n",
      "\u001b[1m80/80\u001b[0m \u001b[32m━━━━━━━━━━━━━━━━━━━━\u001b[0m\u001b[37m\u001b[0m \u001b[1m0s\u001b[0m 5ms/step - loss: 5264.2725 - root_mean_squared_error: 72.4949 - val_loss: 7767.3320 - val_root_mean_squared_error: 88.1325\n",
      "Epoch 20/50\n",
      "\u001b[1m80/80\u001b[0m \u001b[32m━━━━━━━━━━━━━━━━━━━━\u001b[0m\u001b[37m\u001b[0m \u001b[1m0s\u001b[0m 5ms/step - loss: 4982.0776 - root_mean_squared_error: 70.4663 - val_loss: 6891.1094 - val_root_mean_squared_error: 83.0127\n",
      "Epoch 21/50\n",
      "\u001b[1m80/80\u001b[0m \u001b[32m━━━━━━━━━━━━━━━━━━━━\u001b[0m\u001b[37m\u001b[0m \u001b[1m0s\u001b[0m 5ms/step - loss: 4560.5249 - root_mean_squared_error: 67.4757 - val_loss: 6330.9282 - val_root_mean_squared_error: 79.5671\n",
      "Epoch 22/50\n",
      "\u001b[1m80/80\u001b[0m \u001b[32m━━━━━━━━━━━━━━━━━━━━\u001b[0m\u001b[37m\u001b[0m \u001b[1m0s\u001b[0m 5ms/step - loss: 3376.6233 - root_mean_squared_error: 57.8232 - val_loss: 5718.2949 - val_root_mean_squared_error: 75.6194\n",
      "Epoch 23/50\n",
      "\u001b[1m80/80\u001b[0m \u001b[32m━━━━━━━━━━━━━━━━━━━━\u001b[0m\u001b[37m\u001b[0m \u001b[1m0s\u001b[0m 5ms/step - loss: 3431.9749 - root_mean_squared_error: 58.2723 - val_loss: 5320.6216 - val_root_mean_squared_error: 72.9426\n",
      "Epoch 24/50\n",
      "\u001b[1m80/80\u001b[0m \u001b[32m━━━━━━━━━━━━━━━━━━━━\u001b[0m\u001b[37m\u001b[0m \u001b[1m0s\u001b[0m 5ms/step - loss: 3633.0461 - root_mean_squared_error: 60.1534 - val_loss: 4981.1460 - val_root_mean_squared_error: 70.5772\n",
      "Epoch 25/50\n",
      "\u001b[1m80/80\u001b[0m \u001b[32m━━━━━━━━━━━━━━━━━━━━\u001b[0m\u001b[37m\u001b[0m \u001b[1m0s\u001b[0m 5ms/step - loss: 2652.0049 - root_mean_squared_error: 51.3477 - val_loss: 4575.9453 - val_root_mean_squared_error: 67.6457\n",
      "Epoch 26/50\n",
      "\u001b[1m80/80\u001b[0m \u001b[32m━━━━━━━━━━━━━━━━━━━━\u001b[0m\u001b[37m\u001b[0m \u001b[1m0s\u001b[0m 5ms/step - loss: 3020.4670 - root_mean_squared_error: 54.7025 - val_loss: 4172.2754 - val_root_mean_squared_error: 64.5932\n",
      "Epoch 27/50\n",
      "\u001b[1m80/80\u001b[0m \u001b[32m━━━━━━━━━━━━━━━━━━━━\u001b[0m\u001b[37m\u001b[0m \u001b[1m0s\u001b[0m 5ms/step - loss: 2985.5706 - root_mean_squared_error: 54.3818 - val_loss: 3943.6321 - val_root_mean_squared_error: 62.7983\n",
      "Epoch 28/50\n",
      "\u001b[1m80/80\u001b[0m \u001b[32m━━━━━━━━━━━━━━━━━━━━\u001b[0m\u001b[37m\u001b[0m \u001b[1m0s\u001b[0m 5ms/step - loss: 3756.3435 - root_mean_squared_error: 60.7250 - val_loss: 3656.9917 - val_root_mean_squared_error: 60.4731\n",
      "Epoch 29/50\n",
      "\u001b[1m80/80\u001b[0m \u001b[32m━━━━━━━━━━━━━━━━━━━━\u001b[0m\u001b[37m\u001b[0m \u001b[1m0s\u001b[0m 5ms/step - loss: 3044.9839 - root_mean_squared_error: 54.9645 - val_loss: 3406.5127 - val_root_mean_squared_error: 58.3653\n",
      "Epoch 30/50\n",
      "\u001b[1m80/80\u001b[0m \u001b[32m━━━━━━━━━━━━━━━━━━━━\u001b[0m\u001b[37m\u001b[0m \u001b[1m0s\u001b[0m 5ms/step - loss: 2587.7019 - root_mean_squared_error: 50.6342 - val_loss: 3285.2571 - val_root_mean_squared_error: 57.3172\n",
      "Epoch 31/50\n",
      "\u001b[1m80/80\u001b[0m \u001b[32m━━━━━━━━━━━━━━━━━━━━\u001b[0m\u001b[37m\u001b[0m \u001b[1m0s\u001b[0m 5ms/step - loss: 2314.8137 - root_mean_squared_error: 48.0455 - val_loss: 3031.4873 - val_root_mean_squared_error: 55.0589\n",
      "Epoch 32/50\n",
      "\u001b[1m80/80\u001b[0m \u001b[32m━━━━━━━━━━━━━━━━━━━━\u001b[0m\u001b[37m\u001b[0m \u001b[1m0s\u001b[0m 5ms/step - loss: 2132.2644 - root_mean_squared_error: 45.9893 - val_loss: 2856.4961 - val_root_mean_squared_error: 53.4462\n",
      "Epoch 33/50\n",
      "\u001b[1m80/80\u001b[0m \u001b[32m━━━━━━━━━━━━━━━━━━━━\u001b[0m\u001b[37m\u001b[0m \u001b[1m0s\u001b[0m 5ms/step - loss: 2540.6506 - root_mean_squared_error: 50.2204 - val_loss: 2574.0190 - val_root_mean_squared_error: 50.7348\n",
      "Epoch 34/50\n",
      "\u001b[1m80/80\u001b[0m \u001b[32m━━━━━━━━━━━━━━━━━━━━\u001b[0m\u001b[37m\u001b[0m \u001b[1m0s\u001b[0m 5ms/step - loss: 2204.8186 - root_mean_squared_error: 46.9106 - val_loss: 2392.1716 - val_root_mean_squared_error: 48.9098\n",
      "Epoch 35/50\n",
      "\u001b[1m80/80\u001b[0m \u001b[32m━━━━━━━━━━━━━━━━━━━━\u001b[0m\u001b[37m\u001b[0m \u001b[1m0s\u001b[0m 5ms/step - loss: 1952.0878 - root_mean_squared_error: 44.0013 - val_loss: 2274.3557 - val_root_mean_squared_error: 47.6902\n",
      "Epoch 36/50\n",
      "\u001b[1m80/80\u001b[0m \u001b[32m━━━━━━━━━━━━━━━━━━━━\u001b[0m\u001b[37m\u001b[0m \u001b[1m0s\u001b[0m 5ms/step - loss: 2240.4070 - root_mean_squared_error: 47.1487 - val_loss: 2090.6541 - val_root_mean_squared_error: 45.7237\n",
      "Epoch 37/50\n",
      "\u001b[1m80/80\u001b[0m \u001b[32m━━━━━━━━━━━━━━━━━━━━\u001b[0m\u001b[37m\u001b[0m \u001b[1m0s\u001b[0m 5ms/step - loss: 2348.2783 - root_mean_squared_error: 48.2594 - val_loss: 2000.3562 - val_root_mean_squared_error: 44.7253\n",
      "Epoch 38/50\n",
      "\u001b[1m80/80\u001b[0m \u001b[32m━━━━━━━━━━━━━━━━━━━━\u001b[0m\u001b[37m\u001b[0m \u001b[1m0s\u001b[0m 5ms/step - loss: 2130.5593 - root_mean_squared_error: 46.0648 - val_loss: 1834.2738 - val_root_mean_squared_error: 42.8284\n",
      "Epoch 39/50\n",
      "\u001b[1m80/80\u001b[0m \u001b[32m━━━━━━━━━━━━━━━━━━━━\u001b[0m\u001b[37m\u001b[0m \u001b[1m0s\u001b[0m 5ms/step - loss: 2541.6409 - root_mean_squared_error: 50.1918 - val_loss: 1735.3085 - val_root_mean_squared_error: 41.6570\n",
      "Epoch 40/50\n",
      "\u001b[1m80/80\u001b[0m \u001b[32m━━━━━━━━━━━━━━━━━━━━\u001b[0m\u001b[37m\u001b[0m \u001b[1m0s\u001b[0m 5ms/step - loss: 2061.3179 - root_mean_squared_error: 45.1454 - val_loss: 1597.2368 - val_root_mean_squared_error: 39.9654\n",
      "Epoch 41/50\n",
      "\u001b[1m80/80\u001b[0m \u001b[32m━━━━━━━━━━━━━━━━━━━━\u001b[0m\u001b[37m\u001b[0m \u001b[1m0s\u001b[0m 4ms/step - loss: 1673.9437 - root_mean_squared_error: 40.8402 - val_loss: 1554.2993 - val_root_mean_squared_error: 39.4246\n",
      "Epoch 42/50\n",
      "\u001b[1m80/80\u001b[0m \u001b[32m━━━━━━━━━━━━━━━━━━━━\u001b[0m\u001b[37m\u001b[0m \u001b[1m0s\u001b[0m 5ms/step - loss: 2623.6091 - root_mean_squared_error: 50.5078 - val_loss: 1402.1193 - val_root_mean_squared_error: 37.4449\n",
      "Epoch 43/50\n",
      "\u001b[1m80/80\u001b[0m \u001b[32m━━━━━━━━━━━━━━━━━━━━\u001b[0m\u001b[37m\u001b[0m \u001b[1m0s\u001b[0m 4ms/step - loss: 1654.3809 - root_mean_squared_error: 40.5202 - val_loss: 1559.0172 - val_root_mean_squared_error: 39.4844\n",
      "Epoch 44/50\n",
      "\u001b[1m80/80\u001b[0m \u001b[32m━━━━━━━━━━━━━━━━━━━━\u001b[0m\u001b[37m\u001b[0m \u001b[1m0s\u001b[0m 4ms/step - loss: 2032.0626 - root_mean_squared_error: 45.0154 - val_loss: 1340.7446 - val_root_mean_squared_error: 36.6162\n",
      "Epoch 45/50\n",
      "\u001b[1m80/80\u001b[0m \u001b[32m━━━━━━━━━━━━━━━━━━━━\u001b[0m\u001b[37m\u001b[0m \u001b[1m0s\u001b[0m 5ms/step - loss: 1620.7908 - root_mean_squared_error: 40.1324 - val_loss: 1233.1648 - val_root_mean_squared_error: 35.1164\n",
      "Epoch 46/50\n",
      "\u001b[1m80/80\u001b[0m \u001b[32m━━━━━━━━━━━━━━━━━━━━\u001b[0m\u001b[37m\u001b[0m \u001b[1m0s\u001b[0m 4ms/step - loss: 1816.2607 - root_mean_squared_error: 42.4906 - val_loss: 1339.6895 - val_root_mean_squared_error: 36.6018\n",
      "Epoch 47/50\n",
      "\u001b[1m80/80\u001b[0m \u001b[32m━━━━━━━━━━━━━━━━━━━━\u001b[0m\u001b[37m\u001b[0m \u001b[1m0s\u001b[0m 4ms/step - loss: 1860.5409 - root_mean_squared_error: 43.0267 - val_loss: 1190.6530 - val_root_mean_squared_error: 34.5058\n",
      "Epoch 48/50\n",
      "\u001b[1m80/80\u001b[0m \u001b[32m━━━━━━━━━━━━━━━━━━━━\u001b[0m\u001b[37m\u001b[0m \u001b[1m0s\u001b[0m 5ms/step - loss: 1876.6984 - root_mean_squared_error: 43.0753 - val_loss: 1116.9783 - val_root_mean_squared_error: 33.4212\n",
      "Epoch 49/50\n",
      "\u001b[1m80/80\u001b[0m \u001b[32m━━━━━━━━━━━━━━━━━━━━\u001b[0m\u001b[37m\u001b[0m \u001b[1m0s\u001b[0m 4ms/step - loss: 1884.1755 - root_mean_squared_error: 43.3261 - val_loss: 1035.7333 - val_root_mean_squared_error: 32.1828\n",
      "Epoch 50/50\n",
      "\u001b[1m80/80\u001b[0m \u001b[32m━━━━━━━━━━━━━━━━━━━━\u001b[0m\u001b[37m\u001b[0m \u001b[1m0s\u001b[0m 4ms/step - loss: 1605.9751 - root_mean_squared_error: 39.9418 - val_loss: 1064.3618 - val_root_mean_squared_error: 32.6246\n"
     ]
    },
    {
     "data": {
      "text/plain": [
       "<keras.src.callbacks.history.History at 0x7ee44f7f7b20>"
      ]
     },
     "execution_count": 46,
     "metadata": {},
     "output_type": "execute_result"
    }
   ],
   "source": [
    "model3 = Sequential()\n",
    "model3.add(InputLayer((6, 6))) # 6 timestamp , 6 feature\n",
    "model3.add(LSTM(16)) \n",
    "model3.add(Dense(8, activation='relu')) \n",
    "model3.add(Dense(1, 'linear'))\n",
    "\n",
    "#model1.summary()\n",
    "\n",
    "cp3 = ModelCheckpoint('/kaggle/working/model3.keras', save_best_only=True)\n",
    "\n",
    "model3.compile(loss=MeanSquaredError(), optimizer=Adam(learning_rate=0.001), \n",
    "               metrics=[RootMeanSquaredError()])\n",
    "\n",
    "model3.fit(X_train1, y_train1, validation_data=(X_val1, y_val1), epochs=50, \n",
    "           callbacks=[cp3])"
   ]
  },
  {
   "cell_type": "code",
   "execution_count": 47,
   "id": "adc11372",
   "metadata": {
    "execution": {
     "iopub.execute_input": "2025-01-27T20:04:53.437271Z",
     "iopub.status.busy": "2025-01-27T20:04:53.436935Z",
     "iopub.status.idle": "2025-01-27T20:04:53.532446Z",
     "shell.execute_reply": "2025-01-27T20:04:53.531157Z"
    },
    "papermill": {
     "duration": 0.198513,
     "end_time": "2025-01-27T20:04:53.534259",
     "exception": false,
     "start_time": "2025-01-27T20:04:53.335746",
     "status": "completed"
    },
    "tags": []
   },
   "outputs": [],
   "source": [
    "from tensorflow.keras.models import load_model\n",
    "model3 = load_model('/kaggle/working/model3.keras')"
   ]
  },
  {
   "cell_type": "code",
   "execution_count": 48,
   "id": "561c5b42",
   "metadata": {
    "execution": {
     "iopub.execute_input": "2025-01-27T20:04:53.736642Z",
     "iopub.status.busy": "2025-01-27T20:04:53.736226Z",
     "iopub.status.idle": "2025-01-27T20:04:54.269025Z",
     "shell.execute_reply": "2025-01-27T20:04:54.267817Z"
    },
    "papermill": {
     "duration": 0.635937,
     "end_time": "2025-01-27T20:04:54.271107",
     "exception": false,
     "start_time": "2025-01-27T20:04:53.635170",
     "status": "completed"
    },
    "tags": []
   },
   "outputs": [
    {
     "name": "stdout",
     "output_type": "stream",
     "text": [
      "\u001b[1m80/80\u001b[0m \u001b[32m━━━━━━━━━━━━━━━━━━━━\u001b[0m\u001b[37m\u001b[0m \u001b[1m0s\u001b[0m 4ms/step\n",
      "Evaluation Metrics:\n",
      "Mean Absolute Error (MAE): 21.6522\n",
      "Mean Squared Error (MSE): 1807.9346\n",
      "Root Mean Squared Error (RMSE): 42.5198\n",
      "R-squared (Accuracy): 0.6499\n"
     ]
    }
   ],
   "source": [
    "# Evaluate the model on the train data\n",
    "train_result = model3.predict(X_train1)\n",
    "\n",
    "# Calculate metrics\n",
    "mse = mean_squared_error(y_train1, train_result)\n",
    "rmse = np.sqrt(mse)\n",
    "mae = mean_absolute_error(y_train1, train_result)\n",
    "r2 = r2_score(y_train1, train_result)\n",
    "\n",
    "# Print the results\n",
    "print(\"Evaluation Metrics:\")\n",
    "print(f\"Mean Absolute Error (MAE): {mae:.4f}\")\n",
    "print(f\"Mean Squared Error (MSE): {mse:.4f}\")\n",
    "print(f\"Root Mean Squared Error (RMSE): {rmse:.4f}\")\n",
    "print(f\"R-squared (Accuracy): {r2:.4f}\")"
   ]
  },
  {
   "cell_type": "code",
   "execution_count": 49,
   "id": "4a7b40c3",
   "metadata": {
    "execution": {
     "iopub.execute_input": "2025-01-27T20:04:54.474440Z",
     "iopub.status.busy": "2025-01-27T20:04:54.474029Z",
     "iopub.status.idle": "2025-01-27T20:04:54.576677Z",
     "shell.execute_reply": "2025-01-27T20:04:54.575320Z"
    },
    "papermill": {
     "duration": 0.206133,
     "end_time": "2025-01-27T20:04:54.578516",
     "exception": false,
     "start_time": "2025-01-27T20:04:54.372383",
     "status": "completed"
    },
    "tags": []
   },
   "outputs": [
    {
     "name": "stdout",
     "output_type": "stream",
     "text": [
      "\u001b[1m10/10\u001b[0m \u001b[32m━━━━━━━━━━━━━━━━━━━━\u001b[0m\u001b[37m\u001b[0m \u001b[1m0s\u001b[0m 2ms/step \n",
      "Evaluation Metrics:\n",
      "Mean Absolute Error (MAE): 25.3804\n",
      "Mean Squared Error (MSE): 1035.7333\n",
      "Root Mean Squared Error (RMSE): 32.1828\n",
      "R-squared (Accuracy): 0.8608\n"
     ]
    }
   ],
   "source": [
    "# Evaluate the model on the validation data\n",
    "val_result = model3.predict(X_val1)\n",
    "\n",
    "# Calculate metrics\n",
    "mse = mean_squared_error(y_val1, val_result)\n",
    "rmse = np.sqrt(mse)\n",
    "mae = mean_absolute_error(y_val1, val_result)\n",
    "r2 = r2_score(y_val1, val_result)\n",
    "\n",
    "# Print the results\n",
    "print(\"Evaluation Metrics:\")\n",
    "print(f\"Mean Absolute Error (MAE): {mae:.4f}\")\n",
    "print(f\"Mean Squared Error (MSE): {mse:.4f}\")\n",
    "print(f\"Root Mean Squared Error (RMSE): {rmse:.4f}\")\n",
    "print(f\"R-squared (Accuracy): {r2:.4f}\")"
   ]
  },
  {
   "cell_type": "code",
   "execution_count": 50,
   "id": "227aa4f3",
   "metadata": {
    "execution": {
     "iopub.execute_input": "2025-01-27T20:04:54.783669Z",
     "iopub.status.busy": "2025-01-27T20:04:54.783177Z",
     "iopub.status.idle": "2025-01-27T20:04:54.883849Z",
     "shell.execute_reply": "2025-01-27T20:04:54.882565Z"
    },
    "papermill": {
     "duration": 0.205973,
     "end_time": "2025-01-27T20:04:54.885587",
     "exception": false,
     "start_time": "2025-01-27T20:04:54.679614",
     "status": "completed"
    },
    "tags": []
   },
   "outputs": [
    {
     "name": "stdout",
     "output_type": "stream",
     "text": [
      "\u001b[1m10/10\u001b[0m \u001b[32m━━━━━━━━━━━━━━━━━━━━\u001b[0m\u001b[37m\u001b[0m \u001b[1m0s\u001b[0m 2ms/step \n",
      "Evaluation Metrics:\n",
      "Mean Absolute Error (MAE): 24.6218\n",
      "Mean Squared Error (MSE): 1249.5496\n",
      "Root Mean Squared Error (RMSE): 35.3490\n",
      "R-squared (Accuracy): 0.6219\n"
     ]
    }
   ],
   "source": [
    "# Evaluate the model on the test data\n",
    "test_result = model3.predict(X_test1)\n",
    "\n",
    "# Calculate metrics\n",
    "mse = mean_squared_error(y_test1, test_result)\n",
    "rmse = np.sqrt(mse)\n",
    "mae = mean_absolute_error(y_test1, test_result)\n",
    "r2 = r2_score(y_test1, test_result)\n",
    "\n",
    "# Print the results\n",
    "print(\"Evaluation Metrics:\")\n",
    "print(f\"Mean Absolute Error (MAE): {mae:.4f}\")\n",
    "print(f\"Mean Squared Error (MSE): {mse:.4f}\")\n",
    "print(f\"Root Mean Squared Error (RMSE): {rmse:.4f}\")\n",
    "print(f\"R-squared (Accuracy): {r2:.4f}\")"
   ]
  },
  {
   "cell_type": "code",
   "execution_count": null,
   "id": "c7c1ddd6",
   "metadata": {
    "papermill": {
     "duration": 0.10676,
     "end_time": "2025-01-27T20:04:55.093280",
     "exception": false,
     "start_time": "2025-01-27T20:04:54.986520",
     "status": "completed"
    },
    "tags": []
   },
   "outputs": [],
   "source": []
  },
  {
   "cell_type": "code",
   "execution_count": null,
   "id": "aa56bf3c",
   "metadata": {
    "papermill": {
     "duration": 0.102135,
     "end_time": "2025-01-27T20:04:55.321851",
     "exception": false,
     "start_time": "2025-01-27T20:04:55.219716",
     "status": "completed"
    },
    "tags": []
   },
   "outputs": [],
   "source": []
  },
  {
   "cell_type": "markdown",
   "id": "0da76cd1",
   "metadata": {
    "papermill": {
     "duration": 0.101323,
     "end_time": "2025-01-27T20:04:55.523449",
     "exception": false,
     "start_time": "2025-01-27T20:04:55.422126",
     "status": "completed"
    },
    "tags": []
   },
   "source": [
    "## Model 4"
   ]
  },
  {
   "cell_type": "code",
   "execution_count": 51,
   "id": "59e0012d",
   "metadata": {
    "execution": {
     "iopub.execute_input": "2025-01-27T20:04:55.728018Z",
     "iopub.status.busy": "2025-01-27T20:04:55.727655Z",
     "iopub.status.idle": "2025-01-27T20:05:18.061311Z",
     "shell.execute_reply": "2025-01-27T20:05:18.060010Z"
    },
    "papermill": {
     "duration": 22.437753,
     "end_time": "2025-01-27T20:05:18.063287",
     "exception": false,
     "start_time": "2025-01-27T20:04:55.625534",
     "status": "completed"
    },
    "tags": []
   },
   "outputs": [
    {
     "name": "stdout",
     "output_type": "stream",
     "text": [
      "Epoch 1/50\n",
      "\u001b[1m80/80\u001b[0m \u001b[32m━━━━━━━━━━━━━━━━━━━━\u001b[0m\u001b[37m\u001b[0m \u001b[1m2s\u001b[0m 8ms/step - loss: 32500.4902 - root_mean_squared_error: 180.2264 - val_loss: 39634.0117 - val_root_mean_squared_error: 199.0829\n",
      "Epoch 2/50\n",
      "\u001b[1m80/80\u001b[0m \u001b[32m━━━━━━━━━━━━━━━━━━━━\u001b[0m\u001b[37m\u001b[0m \u001b[1m0s\u001b[0m 4ms/step - loss: 31356.0469 - root_mean_squared_error: 177.0504 - val_loss: 39393.1641 - val_root_mean_squared_error: 198.4771\n",
      "Epoch 3/50\n",
      "\u001b[1m80/80\u001b[0m \u001b[32m━━━━━━━━━━━━━━━━━━━━\u001b[0m\u001b[37m\u001b[0m \u001b[1m0s\u001b[0m 4ms/step - loss: 31713.1094 - root_mean_squared_error: 178.0467 - val_loss: 38990.4492 - val_root_mean_squared_error: 197.4600\n",
      "Epoch 4/50\n",
      "\u001b[1m80/80\u001b[0m \u001b[32m━━━━━━━━━━━━━━━━━━━━\u001b[0m\u001b[37m\u001b[0m \u001b[1m0s\u001b[0m 5ms/step - loss: 29801.3535 - root_mean_squared_error: 172.6156 - val_loss: 38406.1133 - val_root_mean_squared_error: 195.9748\n",
      "Epoch 5/50\n",
      "\u001b[1m80/80\u001b[0m \u001b[32m━━━━━━━━━━━━━━━━━━━━\u001b[0m\u001b[37m\u001b[0m \u001b[1m0s\u001b[0m 5ms/step - loss: 29832.3848 - root_mean_squared_error: 172.6904 - val_loss: 37767.8320 - val_root_mean_squared_error: 194.3395\n",
      "Epoch 6/50\n",
      "\u001b[1m80/80\u001b[0m \u001b[32m━━━━━━━━━━━━━━━━━━━━\u001b[0m\u001b[37m\u001b[0m \u001b[1m0s\u001b[0m 5ms/step - loss: 29463.1074 - root_mean_squared_error: 171.6241 - val_loss: 37069.6680 - val_root_mean_squared_error: 192.5349\n",
      "Epoch 7/50\n",
      "\u001b[1m80/80\u001b[0m \u001b[32m━━━━━━━━━━━━━━━━━━━━\u001b[0m\u001b[37m\u001b[0m \u001b[1m0s\u001b[0m 5ms/step - loss: 27919.1992 - root_mean_squared_error: 167.0620 - val_loss: 36138.4453 - val_root_mean_squared_error: 190.1012\n",
      "Epoch 8/50\n",
      "\u001b[1m80/80\u001b[0m \u001b[32m━━━━━━━━━━━━━━━━━━━━\u001b[0m\u001b[37m\u001b[0m \u001b[1m0s\u001b[0m 5ms/step - loss: 28449.4180 - root_mean_squared_error: 168.6148 - val_loss: 35206.2422 - val_root_mean_squared_error: 187.6333\n",
      "Epoch 9/50\n",
      "\u001b[1m80/80\u001b[0m \u001b[32m━━━━━━━━━━━━━━━━━━━━\u001b[0m\u001b[37m\u001b[0m \u001b[1m0s\u001b[0m 5ms/step - loss: 27926.1387 - root_mean_squared_error: 167.0900 - val_loss: 34061.7461 - val_root_mean_squared_error: 184.5582\n",
      "Epoch 10/50\n",
      "\u001b[1m80/80\u001b[0m \u001b[32m━━━━━━━━━━━━━━━━━━━━\u001b[0m\u001b[37m\u001b[0m \u001b[1m0s\u001b[0m 5ms/step - loss: 25285.1172 - root_mean_squared_error: 158.9832 - val_loss: 32866.4531 - val_root_mean_squared_error: 181.2911\n",
      "Epoch 11/50\n",
      "\u001b[1m80/80\u001b[0m \u001b[32m━━━━━━━━━━━━━━━━━━━━\u001b[0m\u001b[37m\u001b[0m \u001b[1m0s\u001b[0m 5ms/step - loss: 24415.6113 - root_mean_squared_error: 156.1846 - val_loss: 31424.1270 - val_root_mean_squared_error: 177.2685\n",
      "Epoch 12/50\n",
      "\u001b[1m80/80\u001b[0m \u001b[32m━━━━━━━━━━━━━━━━━━━━\u001b[0m\u001b[37m\u001b[0m \u001b[1m0s\u001b[0m 5ms/step - loss: 23746.1758 - root_mean_squared_error: 154.0524 - val_loss: 30113.0859 - val_root_mean_squared_error: 173.5312\n",
      "Epoch 13/50\n",
      "\u001b[1m80/80\u001b[0m \u001b[32m━━━━━━━━━━━━━━━━━━━━\u001b[0m\u001b[37m\u001b[0m \u001b[1m0s\u001b[0m 5ms/step - loss: 22780.3184 - root_mean_squared_error: 150.8476 - val_loss: 28805.9902 - val_root_mean_squared_error: 169.7233\n",
      "Epoch 14/50\n",
      "\u001b[1m80/80\u001b[0m \u001b[32m━━━━━━━━━━━━━━━━━━━━\u001b[0m\u001b[37m\u001b[0m \u001b[1m0s\u001b[0m 5ms/step - loss: 21613.2812 - root_mean_squared_error: 147.0075 - val_loss: 27507.0410 - val_root_mean_squared_error: 165.8525\n",
      "Epoch 15/50\n",
      "\u001b[1m80/80\u001b[0m \u001b[32m━━━━━━━━━━━━━━━━━━━━\u001b[0m\u001b[37m\u001b[0m \u001b[1m0s\u001b[0m 5ms/step - loss: 20714.2012 - root_mean_squared_error: 143.9041 - val_loss: 26210.0547 - val_root_mean_squared_error: 161.8952\n",
      "Epoch 16/50\n",
      "\u001b[1m80/80\u001b[0m \u001b[32m━━━━━━━━━━━━━━━━━━━━\u001b[0m\u001b[37m\u001b[0m \u001b[1m0s\u001b[0m 5ms/step - loss: 19053.2363 - root_mean_squared_error: 138.0099 - val_loss: 24937.4492 - val_root_mean_squared_error: 157.9160\n",
      "Epoch 17/50\n",
      "\u001b[1m80/80\u001b[0m \u001b[32m━━━━━━━━━━━━━━━━━━━━\u001b[0m\u001b[37m\u001b[0m \u001b[1m0s\u001b[0m 5ms/step - loss: 18255.0938 - root_mean_squared_error: 134.9804 - val_loss: 23671.8730 - val_root_mean_squared_error: 153.8567\n",
      "Epoch 18/50\n",
      "\u001b[1m80/80\u001b[0m \u001b[32m━━━━━━━━━━━━━━━━━━━━\u001b[0m\u001b[37m\u001b[0m \u001b[1m0s\u001b[0m 5ms/step - loss: 16706.5586 - root_mean_squared_error: 129.2439 - val_loss: 22439.6016 - val_root_mean_squared_error: 149.7985\n",
      "Epoch 19/50\n",
      "\u001b[1m80/80\u001b[0m \u001b[32m━━━━━━━━━━━━━━━━━━━━\u001b[0m\u001b[37m\u001b[0m \u001b[1m0s\u001b[0m 5ms/step - loss: 15350.9668 - root_mean_squared_error: 123.8193 - val_loss: 21239.8340 - val_root_mean_squared_error: 145.7389\n",
      "Epoch 20/50\n",
      "\u001b[1m80/80\u001b[0m \u001b[32m━━━━━━━━━━━━━━━━━━━━\u001b[0m\u001b[37m\u001b[0m \u001b[1m0s\u001b[0m 5ms/step - loss: 15101.5215 - root_mean_squared_error: 122.8640 - val_loss: 20074.2871 - val_root_mean_squared_error: 141.6838\n",
      "Epoch 21/50\n",
      "\u001b[1m80/80\u001b[0m \u001b[32m━━━━━━━━━━━━━━━━━━━━\u001b[0m\u001b[37m\u001b[0m \u001b[1m0s\u001b[0m 5ms/step - loss: 14249.0088 - root_mean_squared_error: 119.2986 - val_loss: 18963.7383 - val_root_mean_squared_error: 137.7089\n",
      "Epoch 22/50\n",
      "\u001b[1m80/80\u001b[0m \u001b[32m━━━━━━━━━━━━━━━━━━━━\u001b[0m\u001b[37m\u001b[0m \u001b[1m0s\u001b[0m 5ms/step - loss: 13017.6084 - root_mean_squared_error: 114.0350 - val_loss: 17889.3418 - val_root_mean_squared_error: 133.7510\n",
      "Epoch 23/50\n",
      "\u001b[1m80/80\u001b[0m \u001b[32m━━━━━━━━━━━━━━━━━━━━\u001b[0m\u001b[37m\u001b[0m \u001b[1m0s\u001b[0m 5ms/step - loss: 10569.6211 - root_mean_squared_error: 102.7214 - val_loss: 16886.9160 - val_root_mean_squared_error: 129.9497\n",
      "Epoch 24/50\n",
      "\u001b[1m80/80\u001b[0m \u001b[32m━━━━━━━━━━━━━━━━━━━━\u001b[0m\u001b[37m\u001b[0m \u001b[1m0s\u001b[0m 5ms/step - loss: 11137.2930 - root_mean_squared_error: 105.5058 - val_loss: 15923.2891 - val_root_mean_squared_error: 126.1875\n",
      "Epoch 25/50\n",
      "\u001b[1m80/80\u001b[0m \u001b[32m━━━━━━━━━━━━━━━━━━━━\u001b[0m\u001b[37m\u001b[0m \u001b[1m0s\u001b[0m 5ms/step - loss: 11785.3379 - root_mean_squared_error: 108.3469 - val_loss: 15022.7695 - val_root_mean_squared_error: 122.5674\n",
      "Epoch 26/50\n",
      "\u001b[1m80/80\u001b[0m \u001b[32m━━━━━━━━━━━━━━━━━━━━\u001b[0m\u001b[37m\u001b[0m \u001b[1m0s\u001b[0m 5ms/step - loss: 10501.1104 - root_mean_squared_error: 102.3895 - val_loss: 14194.4648 - val_root_mean_squared_error: 119.1405\n",
      "Epoch 27/50\n",
      "\u001b[1m80/80\u001b[0m \u001b[32m━━━━━━━━━━━━━━━━━━━━\u001b[0m\u001b[37m\u001b[0m \u001b[1m0s\u001b[0m 5ms/step - loss: 10342.7598 - root_mean_squared_error: 101.1774 - val_loss: 13410.8311 - val_root_mean_squared_error: 115.8051\n",
      "Epoch 28/50\n",
      "\u001b[1m80/80\u001b[0m \u001b[32m━━━━━━━━━━━━━━━━━━━━\u001b[0m\u001b[37m\u001b[0m \u001b[1m0s\u001b[0m 5ms/step - loss: 8220.0967 - root_mean_squared_error: 90.6229 - val_loss: 12709.4756 - val_root_mean_squared_error: 112.7363\n",
      "Epoch 29/50\n",
      "\u001b[1m80/80\u001b[0m \u001b[32m━━━━━━━━━━━━━━━━━━━━\u001b[0m\u001b[37m\u001b[0m \u001b[1m0s\u001b[0m 5ms/step - loss: 8674.8350 - root_mean_squared_error: 92.8389 - val_loss: 12048.6855 - val_root_mean_squared_error: 109.7665\n",
      "Epoch 30/50\n",
      "\u001b[1m80/80\u001b[0m \u001b[32m━━━━━━━━━━━━━━━━━━━━\u001b[0m\u001b[37m\u001b[0m \u001b[1m0s\u001b[0m 4ms/step - loss: 8496.2637 - root_mean_squared_error: 91.8805 - val_loss: 11413.5195 - val_root_mean_squared_error: 106.8341\n",
      "Epoch 31/50\n",
      "\u001b[1m80/80\u001b[0m \u001b[32m━━━━━━━━━━━━━━━━━━━━\u001b[0m\u001b[37m\u001b[0m \u001b[1m0s\u001b[0m 5ms/step - loss: 7468.6392 - root_mean_squared_error: 86.3337 - val_loss: 10343.6045 - val_root_mean_squared_error: 101.7035\n",
      "Epoch 32/50\n",
      "\u001b[1m80/80\u001b[0m \u001b[32m━━━━━━━━━━━━━━━━━━━━\u001b[0m\u001b[37m\u001b[0m \u001b[1m0s\u001b[0m 5ms/step - loss: 6539.2534 - root_mean_squared_error: 80.7426 - val_loss: 9695.1279 - val_root_mean_squared_error: 98.4638\n",
      "Epoch 33/50\n",
      "\u001b[1m80/80\u001b[0m \u001b[32m━━━━━━━━━━━━━━━━━━━━\u001b[0m\u001b[37m\u001b[0m \u001b[1m0s\u001b[0m 5ms/step - loss: 5558.9482 - root_mean_squared_error: 74.4300 - val_loss: 9133.3564 - val_root_mean_squared_error: 95.5686\n",
      "Epoch 34/50\n",
      "\u001b[1m80/80\u001b[0m \u001b[32m━━━━━━━━━━━━━━━━━━━━\u001b[0m\u001b[37m\u001b[0m \u001b[1m0s\u001b[0m 5ms/step - loss: 5209.6138 - root_mean_squared_error: 72.0562 - val_loss: 8593.1289 - val_root_mean_squared_error: 92.6991\n",
      "Epoch 35/50\n",
      "\u001b[1m80/80\u001b[0m \u001b[32m━━━━━━━━━━━━━━━━━━━━\u001b[0m\u001b[37m\u001b[0m \u001b[1m0s\u001b[0m 5ms/step - loss: 5649.6587 - root_mean_squared_error: 74.7278 - val_loss: 8127.9106 - val_root_mean_squared_error: 90.1549\n",
      "Epoch 36/50\n",
      "\u001b[1m80/80\u001b[0m \u001b[32m━━━━━━━━━━━━━━━━━━━━\u001b[0m\u001b[37m\u001b[0m \u001b[1m0s\u001b[0m 5ms/step - loss: 4432.1196 - root_mean_squared_error: 66.2198 - val_loss: 7630.4033 - val_root_mean_squared_error: 87.3522\n",
      "Epoch 37/50\n",
      "\u001b[1m80/80\u001b[0m \u001b[32m━━━━━━━━━━━━━━━━━━━━\u001b[0m\u001b[37m\u001b[0m \u001b[1m0s\u001b[0m 5ms/step - loss: 4694.3662 - root_mean_squared_error: 68.4287 - val_loss: 7209.6533 - val_root_mean_squared_error: 84.9097\n",
      "Epoch 38/50\n",
      "\u001b[1m80/80\u001b[0m \u001b[32m━━━━━━━━━━━━━━━━━━━━\u001b[0m\u001b[37m\u001b[0m \u001b[1m0s\u001b[0m 5ms/step - loss: 3997.6580 - root_mean_squared_error: 62.8540 - val_loss: 6837.8828 - val_root_mean_squared_error: 82.6915\n",
      "Epoch 39/50\n",
      "\u001b[1m80/80\u001b[0m \u001b[32m━━━━━━━━━━━━━━━━━━━━\u001b[0m\u001b[37m\u001b[0m \u001b[1m0s\u001b[0m 5ms/step - loss: 3719.9915 - root_mean_squared_error: 60.7877 - val_loss: 6454.4893 - val_root_mean_squared_error: 80.3398\n",
      "Epoch 40/50\n",
      "\u001b[1m80/80\u001b[0m \u001b[32m━━━━━━━━━━━━━━━━━━━━\u001b[0m\u001b[37m\u001b[0m \u001b[1m0s\u001b[0m 5ms/step - loss: 3971.3018 - root_mean_squared_error: 62.7848 - val_loss: 6096.1284 - val_root_mean_squared_error: 78.0777\n",
      "Epoch 41/50\n",
      "\u001b[1m80/80\u001b[0m \u001b[32m━━━━━━━━━━━━━━━━━━━━\u001b[0m\u001b[37m\u001b[0m \u001b[1m0s\u001b[0m 5ms/step - loss: 3487.6880 - root_mean_squared_error: 58.8672 - val_loss: 5822.2197 - val_root_mean_squared_error: 76.3035\n",
      "Epoch 42/50\n",
      "\u001b[1m80/80\u001b[0m \u001b[32m━━━━━━━━━━━━━━━━━━━━\u001b[0m\u001b[37m\u001b[0m \u001b[1m0s\u001b[0m 5ms/step - loss: 3456.8989 - root_mean_squared_error: 58.6604 - val_loss: 5444.7612 - val_root_mean_squared_error: 73.7886\n",
      "Epoch 43/50\n",
      "\u001b[1m80/80\u001b[0m \u001b[32m━━━━━━━━━━━━━━━━━━━━\u001b[0m\u001b[37m\u001b[0m \u001b[1m0s\u001b[0m 5ms/step - loss: 2961.4282 - root_mean_squared_error: 54.1219 - val_loss: 5151.2388 - val_root_mean_squared_error: 71.7721\n",
      "Epoch 44/50\n",
      "\u001b[1m80/80\u001b[0m \u001b[32m━━━━━━━━━━━━━━━━━━━━\u001b[0m\u001b[37m\u001b[0m \u001b[1m0s\u001b[0m 5ms/step - loss: 3519.1133 - root_mean_squared_error: 59.2625 - val_loss: 4912.8735 - val_root_mean_squared_error: 70.0919\n",
      "Epoch 45/50\n",
      "\u001b[1m80/80\u001b[0m \u001b[32m━━━━━━━━━━━━━━━━━━━━\u001b[0m\u001b[37m\u001b[0m \u001b[1m0s\u001b[0m 5ms/step - loss: 3278.7351 - root_mean_squared_error: 57.2119 - val_loss: 4682.7217 - val_root_mean_squared_error: 68.4304\n",
      "Epoch 46/50\n",
      "\u001b[1m80/80\u001b[0m \u001b[32m━━━━━━━━━━━━━━━━━━━━\u001b[0m\u001b[37m\u001b[0m \u001b[1m0s\u001b[0m 5ms/step - loss: 3151.5603 - root_mean_squared_error: 56.0148 - val_loss: 4491.1128 - val_root_mean_squared_error: 67.0158\n",
      "Epoch 47/50\n",
      "\u001b[1m80/80\u001b[0m \u001b[32m━━━━━━━━━━━━━━━━━━━━\u001b[0m\u001b[37m\u001b[0m \u001b[1m0s\u001b[0m 5ms/step - loss: 3022.9426 - root_mean_squared_error: 54.6534 - val_loss: 4248.4878 - val_root_mean_squared_error: 65.1804\n",
      "Epoch 48/50\n",
      "\u001b[1m80/80\u001b[0m \u001b[32m━━━━━━━━━━━━━━━━━━━━\u001b[0m\u001b[37m\u001b[0m \u001b[1m0s\u001b[0m 5ms/step - loss: 3712.1023 - root_mean_squared_error: 60.3713 - val_loss: 4119.2227 - val_root_mean_squared_error: 64.1812\n",
      "Epoch 49/50\n",
      "\u001b[1m80/80\u001b[0m \u001b[32m━━━━━━━━━━━━━━━━━━━━\u001b[0m\u001b[37m\u001b[0m \u001b[1m0s\u001b[0m 5ms/step - loss: 2475.0999 - root_mean_squared_error: 49.6153 - val_loss: 4077.6641 - val_root_mean_squared_error: 63.8566\n",
      "Epoch 50/50\n",
      "\u001b[1m80/80\u001b[0m \u001b[32m━━━━━━━━━━━━━━━━━━━━\u001b[0m\u001b[37m\u001b[0m \u001b[1m0s\u001b[0m 6ms/step - loss: 3050.1821 - root_mean_squared_error: 55.1647 - val_loss: 3758.0071 - val_root_mean_squared_error: 61.3026\n"
     ]
    },
    {
     "data": {
      "text/plain": [
       "<keras.src.callbacks.history.History at 0x7ee44da79c00>"
      ]
     },
     "execution_count": 51,
     "metadata": {},
     "output_type": "execute_result"
    }
   ],
   "source": [
    "model4 = Sequential()\n",
    "model4.add(InputLayer((6, 6))) # 6 timestamp , 6 feature\n",
    "model4.add(LSTM(16)) \n",
    "model4.add(Dense(8, activation='relu')) \n",
    "\n",
    "model4.add(Dense(1, 'linear')) \n",
    "\n",
    "#model1.summary()\n",
    "\n",
    "cp4 = ModelCheckpoint('/kaggle/working/model4.keras', save_best_only=True)\n",
    "\n",
    "model4.compile(loss=MeanSquaredError(), optimizer=Adam(learning_rate=0.0005), \n",
    "               metrics=[RootMeanSquaredError()])\n",
    "\n",
    "model4.fit(X_train1, y_train1, validation_data=(X_val1, y_val1), epochs=50, \n",
    "           callbacks=[cp4])"
   ]
  },
  {
   "cell_type": "code",
   "execution_count": 52,
   "id": "8b8467c8",
   "metadata": {
    "execution": {
     "iopub.execute_input": "2025-01-27T20:05:18.347521Z",
     "iopub.status.busy": "2025-01-27T20:05:18.347108Z",
     "iopub.status.idle": "2025-01-27T20:05:18.451568Z",
     "shell.execute_reply": "2025-01-27T20:05:18.450269Z"
    },
    "papermill": {
     "duration": 0.240019,
     "end_time": "2025-01-27T20:05:18.453881",
     "exception": false,
     "start_time": "2025-01-27T20:05:18.213862",
     "status": "completed"
    },
    "tags": []
   },
   "outputs": [],
   "source": [
    "from tensorflow.keras.models import load_model\n",
    "model4 = load_model('/kaggle/working/model4.keras')"
   ]
  },
  {
   "cell_type": "code",
   "execution_count": 53,
   "id": "889566df",
   "metadata": {
    "execution": {
     "iopub.execute_input": "2025-01-27T20:05:18.775986Z",
     "iopub.status.busy": "2025-01-27T20:05:18.775623Z",
     "iopub.status.idle": "2025-01-27T20:05:19.332681Z",
     "shell.execute_reply": "2025-01-27T20:05:19.331558Z"
    },
    "papermill": {
     "duration": 0.682974,
     "end_time": "2025-01-27T20:05:19.334641",
     "exception": false,
     "start_time": "2025-01-27T20:05:18.651667",
     "status": "completed"
    },
    "tags": []
   },
   "outputs": [
    {
     "name": "stdout",
     "output_type": "stream",
     "text": [
      "\u001b[1m80/80\u001b[0m \u001b[32m━━━━━━━━━━━━━━━━━━━━\u001b[0m\u001b[37m\u001b[0m \u001b[1m0s\u001b[0m 4ms/step\n",
      "Evaluation Metrics:\n",
      "Mean Absolute Error (MAE): 27.7113\n",
      "Mean Squared Error (MSE): 2892.0305\n",
      "Root Mean Squared Error (RMSE): 53.7776\n",
      "R-squared (Accuracy): 0.4400\n"
     ]
    }
   ],
   "source": [
    "# Evaluate the model on the train data\n",
    "train_result = model4.predict(X_train1)\n",
    "\n",
    "# Calculate metrics\n",
    "mse = mean_squared_error(y_train1, train_result)\n",
    "rmse = np.sqrt(mse)\n",
    "mae = mean_absolute_error(y_train1, train_result)\n",
    "r2 = r2_score(y_train1, train_result)\n",
    "\n",
    "# Print the results\n",
    "print(\"Evaluation Metrics:\")\n",
    "print(f\"Mean Absolute Error (MAE): {mae:.4f}\")\n",
    "print(f\"Mean Squared Error (MSE): {mse:.4f}\")\n",
    "print(f\"Root Mean Squared Error (RMSE): {rmse:.4f}\")\n",
    "print(f\"R-squared (Accuracy): {r2:.4f}\")"
   ]
  },
  {
   "cell_type": "code",
   "execution_count": 54,
   "id": "be68cd3c",
   "metadata": {
    "execution": {
     "iopub.execute_input": "2025-01-27T20:05:19.586596Z",
     "iopub.status.busy": "2025-01-27T20:05:19.586211Z",
     "iopub.status.idle": "2025-01-27T20:05:19.684481Z",
     "shell.execute_reply": "2025-01-27T20:05:19.683439Z"
    },
    "papermill": {
     "duration": 0.224897,
     "end_time": "2025-01-27T20:05:19.686544",
     "exception": false,
     "start_time": "2025-01-27T20:05:19.461647",
     "status": "completed"
    },
    "tags": []
   },
   "outputs": [
    {
     "name": "stdout",
     "output_type": "stream",
     "text": [
      "\u001b[1m10/10\u001b[0m \u001b[32m━━━━━━━━━━━━━━━━━━━━\u001b[0m\u001b[37m\u001b[0m \u001b[1m0s\u001b[0m 2ms/step \n",
      "Evaluation Metrics:\n",
      "Mean Absolute Error (MAE): 46.6199\n",
      "Mean Squared Error (MSE): 3758.0068\n",
      "Root Mean Squared Error (RMSE): 61.3026\n",
      "R-squared (Accuracy): 0.4948\n"
     ]
    }
   ],
   "source": [
    "# Evaluate the model on the validation data\n",
    "val_result = model4.predict(X_val1)\n",
    "\n",
    "# Calculate metrics\n",
    "mse = mean_squared_error(y_val1, val_result)\n",
    "rmse = np.sqrt(mse)\n",
    "mae = mean_absolute_error(y_val1, val_result)\n",
    "r2 = r2_score(y_val1, val_result)\n",
    "\n",
    "# Print the results\n",
    "print(\"Evaluation Metrics:\")\n",
    "print(f\"Mean Absolute Error (MAE): {mae:.4f}\")\n",
    "print(f\"Mean Squared Error (MSE): {mse:.4f}\")\n",
    "print(f\"Root Mean Squared Error (RMSE): {rmse:.4f}\")\n",
    "print(f\"R-squared (Accuracy): {r2:.4f}\")"
   ]
  },
  {
   "cell_type": "code",
   "execution_count": 55,
   "id": "2b5be757",
   "metadata": {
    "execution": {
     "iopub.execute_input": "2025-01-27T20:05:19.936537Z",
     "iopub.status.busy": "2025-01-27T20:05:19.936135Z",
     "iopub.status.idle": "2025-01-27T20:05:20.036195Z",
     "shell.execute_reply": "2025-01-27T20:05:20.034875Z"
    },
    "papermill": {
     "duration": 0.227419,
     "end_time": "2025-01-27T20:05:20.038109",
     "exception": false,
     "start_time": "2025-01-27T20:05:19.810690",
     "status": "completed"
    },
    "tags": []
   },
   "outputs": [
    {
     "name": "stdout",
     "output_type": "stream",
     "text": [
      "\u001b[1m10/10\u001b[0m \u001b[32m━━━━━━━━━━━━━━━━━━━━\u001b[0m\u001b[37m\u001b[0m \u001b[1m0s\u001b[0m 2ms/step \n",
      "Evaluation Metrics:\n",
      "Mean Absolute Error (MAE): 28.3745\n",
      "Mean Squared Error (MSE): 1566.2940\n",
      "Root Mean Squared Error (RMSE): 39.5764\n",
      "R-squared (Accuracy): 0.5260\n"
     ]
    }
   ],
   "source": [
    "# Evaluate the model on the test data\n",
    "test_result = model4.predict(X_test1)\n",
    "\n",
    "# Calculate metrics\n",
    "mse = mean_squared_error(y_test1, test_result)\n",
    "rmse = np.sqrt(mse)\n",
    "mae = mean_absolute_error(y_test1, test_result)\n",
    "r2 = r2_score(y_test1, test_result)\n",
    "\n",
    "# Print the results\n",
    "print(\"Evaluation Metrics:\")\n",
    "print(f\"Mean Absolute Error (MAE): {mae:.4f}\")\n",
    "print(f\"Mean Squared Error (MSE): {mse:.4f}\")\n",
    "print(f\"Root Mean Squared Error (RMSE): {rmse:.4f}\")\n",
    "print(f\"R-squared (Accuracy): {r2:.4f}\")"
   ]
  },
  {
   "cell_type": "code",
   "execution_count": null,
   "id": "4969fbb2",
   "metadata": {
    "papermill": {
     "duration": 0.124823,
     "end_time": "2025-01-27T20:05:20.286795",
     "exception": false,
     "start_time": "2025-01-27T20:05:20.161972",
     "status": "completed"
    },
    "tags": []
   },
   "outputs": [],
   "source": []
  },
  {
   "cell_type": "code",
   "execution_count": null,
   "id": "63dd83b1",
   "metadata": {
    "papermill": {
     "duration": 0.124037,
     "end_time": "2025-01-27T20:05:20.536104",
     "exception": false,
     "start_time": "2025-01-27T20:05:20.412067",
     "status": "completed"
    },
    "tags": []
   },
   "outputs": [],
   "source": []
  },
  {
   "cell_type": "markdown",
   "id": "0f7c4f13",
   "metadata": {
    "papermill": {
     "duration": 0.1252,
     "end_time": "2025-01-27T20:05:20.787845",
     "exception": false,
     "start_time": "2025-01-27T20:05:20.662645",
     "status": "completed"
    },
    "tags": []
   },
   "source": [
    "# Model Testing(Simple, Complex, Hybrid)"
   ]
  },
  {
   "cell_type": "code",
   "execution_count": null,
   "id": "767f828a",
   "metadata": {
    "papermill": {
     "duration": 0.124929,
     "end_time": "2025-01-27T20:05:21.041589",
     "exception": false,
     "start_time": "2025-01-27T20:05:20.916660",
     "status": "completed"
    },
    "tags": []
   },
   "outputs": [],
   "source": []
  },
  {
   "cell_type": "markdown",
   "id": "aaac6b27",
   "metadata": {
    "papermill": {
     "duration": 0.123933,
     "end_time": "2025-01-27T20:05:21.291830",
     "exception": false,
     "start_time": "2025-01-27T20:05:21.167897",
     "status": "completed"
    },
    "tags": []
   },
   "source": [
    "## Model 5: Basic LSTM Model"
   ]
  },
  {
   "cell_type": "code",
   "execution_count": 56,
   "id": "b1a94d77",
   "metadata": {
    "execution": {
     "iopub.execute_input": "2025-01-27T20:05:21.606598Z",
     "iopub.status.busy": "2025-01-27T20:05:21.606208Z",
     "iopub.status.idle": "2025-01-27T20:05:43.511773Z",
     "shell.execute_reply": "2025-01-27T20:05:43.510686Z"
    },
    "papermill": {
     "duration": 22.0956,
     "end_time": "2025-01-27T20:05:43.513527",
     "exception": false,
     "start_time": "2025-01-27T20:05:21.417927",
     "status": "completed"
    },
    "tags": []
   },
   "outputs": [
    {
     "name": "stdout",
     "output_type": "stream",
     "text": [
      "Epoch 1/50\n",
      "\u001b[1m80/80\u001b[0m \u001b[32m━━━━━━━━━━━━━━━━━━━━\u001b[0m\u001b[37m\u001b[0m \u001b[1m2s\u001b[0m 8ms/step - loss: 10205.4883 - root_mean_squared_error: 98.0867 - val_loss: 1133.3068 - val_root_mean_squared_error: 33.6646\n",
      "Epoch 2/50\n",
      "\u001b[1m80/80\u001b[0m \u001b[32m━━━━━━━━━━━━━━━━━━━━\u001b[0m\u001b[37m\u001b[0m \u001b[1m0s\u001b[0m 5ms/step - loss: 2331.1616 - root_mean_squared_error: 48.1599 - val_loss: 1274.2771 - val_root_mean_squared_error: 35.6970\n",
      "Epoch 3/50\n",
      "\u001b[1m80/80\u001b[0m \u001b[32m━━━━━━━━━━━━━━━━━━━━\u001b[0m\u001b[37m\u001b[0m \u001b[1m0s\u001b[0m 4ms/step - loss: 2263.6650 - root_mean_squared_error: 47.5223 - val_loss: 1176.6412 - val_root_mean_squared_error: 34.3022\n",
      "Epoch 4/50\n",
      "\u001b[1m80/80\u001b[0m \u001b[32m━━━━━━━━━━━━━━━━━━━━\u001b[0m\u001b[37m\u001b[0m \u001b[1m0s\u001b[0m 5ms/step - loss: 2493.7322 - root_mean_squared_error: 49.7269 - val_loss: 1224.6084 - val_root_mean_squared_error: 34.9944\n",
      "Epoch 5/50\n",
      "\u001b[1m80/80\u001b[0m \u001b[32m━━━━━━━━━━━━━━━━━━━━\u001b[0m\u001b[37m\u001b[0m \u001b[1m0s\u001b[0m 5ms/step - loss: 1611.7687 - root_mean_squared_error: 40.0218 - val_loss: 1283.7371 - val_root_mean_squared_error: 35.8293\n",
      "Epoch 6/50\n",
      "\u001b[1m80/80\u001b[0m \u001b[32m━━━━━━━━━━━━━━━━━━━━\u001b[0m\u001b[37m\u001b[0m \u001b[1m0s\u001b[0m 5ms/step - loss: 2241.7336 - root_mean_squared_error: 47.2988 - val_loss: 1138.7526 - val_root_mean_squared_error: 33.7454\n",
      "Epoch 7/50\n",
      "\u001b[1m80/80\u001b[0m \u001b[32m━━━━━━━━━━━━━━━━━━━━\u001b[0m\u001b[37m\u001b[0m \u001b[1m0s\u001b[0m 5ms/step - loss: 1705.8829 - root_mean_squared_error: 41.2402 - val_loss: 1156.6141 - val_root_mean_squared_error: 34.0090\n",
      "Epoch 8/50\n",
      "\u001b[1m80/80\u001b[0m \u001b[32m━━━━━━━━━━━━━━━━━━━━\u001b[0m\u001b[37m\u001b[0m \u001b[1m0s\u001b[0m 5ms/step - loss: 1725.5670 - root_mean_squared_error: 41.4167 - val_loss: 951.7272 - val_root_mean_squared_error: 30.8501\n",
      "Epoch 9/50\n",
      "\u001b[1m80/80\u001b[0m \u001b[32m━━━━━━━━━━━━━━━━━━━━\u001b[0m\u001b[37m\u001b[0m \u001b[1m0s\u001b[0m 5ms/step - loss: 2095.1785 - root_mean_squared_error: 45.5860 - val_loss: 987.2333 - val_root_mean_squared_error: 31.4203\n",
      "Epoch 10/50\n",
      "\u001b[1m80/80\u001b[0m \u001b[32m━━━━━━━━━━━━━━━━━━━━\u001b[0m\u001b[37m\u001b[0m \u001b[1m0s\u001b[0m 5ms/step - loss: 1866.1901 - root_mean_squared_error: 43.0954 - val_loss: 908.5187 - val_root_mean_squared_error: 30.1416\n",
      "Epoch 11/50\n",
      "\u001b[1m80/80\u001b[0m \u001b[32m━━━━━━━━━━━━━━━━━━━━\u001b[0m\u001b[37m\u001b[0m \u001b[1m0s\u001b[0m 5ms/step - loss: 1550.7296 - root_mean_squared_error: 38.9764 - val_loss: 967.9050 - val_root_mean_squared_error: 31.1112\n",
      "Epoch 12/50\n",
      "\u001b[1m80/80\u001b[0m \u001b[32m━━━━━━━━━━━━━━━━━━━━\u001b[0m\u001b[37m\u001b[0m \u001b[1m0s\u001b[0m 5ms/step - loss: 1843.3815 - root_mean_squared_error: 42.8045 - val_loss: 935.7142 - val_root_mean_squared_error: 30.5894\n",
      "Epoch 13/50\n",
      "\u001b[1m80/80\u001b[0m \u001b[32m━━━━━━━━━━━━━━━━━━━━\u001b[0m\u001b[37m\u001b[0m \u001b[1m0s\u001b[0m 4ms/step - loss: 1731.5994 - root_mean_squared_error: 41.4737 - val_loss: 1244.4143 - val_root_mean_squared_error: 35.2763\n",
      "Epoch 14/50\n",
      "\u001b[1m80/80\u001b[0m \u001b[32m━━━━━━━━━━━━━━━━━━━━\u001b[0m\u001b[37m\u001b[0m \u001b[1m0s\u001b[0m 4ms/step - loss: 1783.8092 - root_mean_squared_error: 42.1449 - val_loss: 971.1101 - val_root_mean_squared_error: 31.1626\n",
      "Epoch 15/50\n",
      "\u001b[1m80/80\u001b[0m \u001b[32m━━━━━━━━━━━━━━━━━━━━\u001b[0m\u001b[37m\u001b[0m \u001b[1m0s\u001b[0m 5ms/step - loss: 2593.1929 - root_mean_squared_error: 49.5558 - val_loss: 888.5428 - val_root_mean_squared_error: 29.8084\n",
      "Epoch 16/50\n",
      "\u001b[1m80/80\u001b[0m \u001b[32m━━━━━━━━━━━━━━━━━━━━\u001b[0m\u001b[37m\u001b[0m \u001b[1m0s\u001b[0m 5ms/step - loss: 1628.2081 - root_mean_squared_error: 40.2611 - val_loss: 810.0881 - val_root_mean_squared_error: 28.4620\n",
      "Epoch 17/50\n",
      "\u001b[1m80/80\u001b[0m \u001b[32m━━━━━━━━━━━━━━━━━━━━\u001b[0m\u001b[37m\u001b[0m \u001b[1m0s\u001b[0m 5ms/step - loss: 1593.7294 - root_mean_squared_error: 39.8605 - val_loss: 875.7275 - val_root_mean_squared_error: 29.5927\n",
      "Epoch 18/50\n",
      "\u001b[1m80/80\u001b[0m \u001b[32m━━━━━━━━━━━━━━━━━━━━\u001b[0m\u001b[37m\u001b[0m \u001b[1m0s\u001b[0m 5ms/step - loss: 2065.3003 - root_mean_squared_error: 45.2293 - val_loss: 935.8524 - val_root_mean_squared_error: 30.5917\n",
      "Epoch 19/50\n",
      "\u001b[1m80/80\u001b[0m \u001b[32m━━━━━━━━━━━━━━━━━━━━\u001b[0m\u001b[37m\u001b[0m \u001b[1m0s\u001b[0m 5ms/step - loss: 1563.5651 - root_mean_squared_error: 39.3197 - val_loss: 892.6860 - val_root_mean_squared_error: 29.8779\n",
      "Epoch 20/50\n",
      "\u001b[1m80/80\u001b[0m \u001b[32m━━━━━━━━━━━━━━━━━━━━\u001b[0m\u001b[37m\u001b[0m \u001b[1m0s\u001b[0m 5ms/step - loss: 1464.5298 - root_mean_squared_error: 38.1866 - val_loss: 914.7769 - val_root_mean_squared_error: 30.2453\n",
      "Epoch 21/50\n",
      "\u001b[1m80/80\u001b[0m \u001b[32m━━━━━━━━━━━━━━━━━━━━\u001b[0m\u001b[37m\u001b[0m \u001b[1m0s\u001b[0m 4ms/step - loss: 1657.7991 - root_mean_squared_error: 40.5898 - val_loss: 907.4133 - val_root_mean_squared_error: 30.1233\n",
      "Epoch 22/50\n",
      "\u001b[1m80/80\u001b[0m \u001b[32m━━━━━━━━━━━━━━━━━━━━\u001b[0m\u001b[37m\u001b[0m \u001b[1m0s\u001b[0m 4ms/step - loss: 1533.6704 - root_mean_squared_error: 38.7837 - val_loss: 814.7870 - val_root_mean_squared_error: 28.5445\n",
      "Epoch 23/50\n",
      "\u001b[1m80/80\u001b[0m \u001b[32m━━━━━━━━━━━━━━━━━━━━\u001b[0m\u001b[37m\u001b[0m \u001b[1m0s\u001b[0m 5ms/step - loss: 1358.6216 - root_mean_squared_error: 36.5629 - val_loss: 789.6060 - val_root_mean_squared_error: 28.0999\n",
      "Epoch 24/50\n",
      "\u001b[1m80/80\u001b[0m \u001b[32m━━━━━━━━━━━━━━━━━━━━\u001b[0m\u001b[37m\u001b[0m \u001b[1m0s\u001b[0m 5ms/step - loss: 1411.0475 - root_mean_squared_error: 37.2859 - val_loss: 816.1619 - val_root_mean_squared_error: 28.5685\n",
      "Epoch 25/50\n",
      "\u001b[1m80/80\u001b[0m \u001b[32m━━━━━━━━━━━━━━━━━━━━\u001b[0m\u001b[37m\u001b[0m \u001b[1m0s\u001b[0m 5ms/step - loss: 1438.6425 - root_mean_squared_error: 37.8532 - val_loss: 845.2789 - val_root_mean_squared_error: 29.0737\n",
      "Epoch 26/50\n",
      "\u001b[1m80/80\u001b[0m \u001b[32m━━━━━━━━━━━━━━━━━━━━\u001b[0m\u001b[37m\u001b[0m \u001b[1m0s\u001b[0m 5ms/step - loss: 1686.0073 - root_mean_squared_error: 40.8215 - val_loss: 850.3848 - val_root_mean_squared_error: 29.1614\n",
      "Epoch 27/50\n",
      "\u001b[1m80/80\u001b[0m \u001b[32m━━━━━━━━━━━━━━━━━━━━\u001b[0m\u001b[37m\u001b[0m \u001b[1m0s\u001b[0m 5ms/step - loss: 1459.3842 - root_mean_squared_error: 38.1040 - val_loss: 926.9312 - val_root_mean_squared_error: 30.4455\n",
      "Epoch 28/50\n",
      "\u001b[1m80/80\u001b[0m \u001b[32m━━━━━━━━━━━━━━━━━━━━\u001b[0m\u001b[37m\u001b[0m \u001b[1m0s\u001b[0m 5ms/step - loss: 1126.1288 - root_mean_squared_error: 33.2881 - val_loss: 960.3998 - val_root_mean_squared_error: 30.9903\n",
      "Epoch 29/50\n",
      "\u001b[1m80/80\u001b[0m \u001b[32m━━━━━━━━━━━━━━━━━━━━\u001b[0m\u001b[37m\u001b[0m \u001b[1m0s\u001b[0m 5ms/step - loss: 1274.7434 - root_mean_squared_error: 35.6183 - val_loss: 865.2225 - val_root_mean_squared_error: 29.4147\n",
      "Epoch 30/50\n",
      "\u001b[1m80/80\u001b[0m \u001b[32m━━━━━━━━━━━━━━━━━━━━\u001b[0m\u001b[37m\u001b[0m \u001b[1m0s\u001b[0m 5ms/step - loss: 1486.3046 - root_mean_squared_error: 38.3595 - val_loss: 949.1115 - val_root_mean_squared_error: 30.8077\n",
      "Epoch 31/50\n",
      "\u001b[1m80/80\u001b[0m \u001b[32m━━━━━━━━━━━━━━━━━━━━\u001b[0m\u001b[37m\u001b[0m \u001b[1m0s\u001b[0m 5ms/step - loss: 1760.0143 - root_mean_squared_error: 41.7766 - val_loss: 820.5432 - val_root_mean_squared_error: 28.6451\n",
      "Epoch 32/50\n",
      "\u001b[1m80/80\u001b[0m \u001b[32m━━━━━━━━━━━━━━━━━━━━\u001b[0m\u001b[37m\u001b[0m \u001b[1m0s\u001b[0m 5ms/step - loss: 1436.4951 - root_mean_squared_error: 37.7827 - val_loss: 802.9771 - val_root_mean_squared_error: 28.3369\n",
      "Epoch 33/50\n",
      "\u001b[1m80/80\u001b[0m \u001b[32m━━━━━━━━━━━━━━━━━━━━\u001b[0m\u001b[37m\u001b[0m \u001b[1m0s\u001b[0m 4ms/step - loss: 1342.7139 - root_mean_squared_error: 36.5155 - val_loss: 924.8575 - val_root_mean_squared_error: 30.4115\n",
      "Epoch 34/50\n",
      "\u001b[1m80/80\u001b[0m \u001b[32m━━━━━━━━━━━━━━━━━━━━\u001b[0m\u001b[37m\u001b[0m \u001b[1m0s\u001b[0m 5ms/step - loss: 1550.4008 - root_mean_squared_error: 39.3126 - val_loss: 772.9549 - val_root_mean_squared_error: 27.8021\n",
      "Epoch 35/50\n",
      "\u001b[1m80/80\u001b[0m \u001b[32m━━━━━━━━━━━━━━━━━━━━\u001b[0m\u001b[37m\u001b[0m \u001b[1m0s\u001b[0m 5ms/step - loss: 1216.0455 - root_mean_squared_error: 34.7381 - val_loss: 979.9884 - val_root_mean_squared_error: 31.3048\n",
      "Epoch 36/50\n",
      "\u001b[1m80/80\u001b[0m \u001b[32m━━━━━━━━━━━━━━━━━━━━\u001b[0m\u001b[37m\u001b[0m \u001b[1m0s\u001b[0m 5ms/step - loss: 1460.8162 - root_mean_squared_error: 38.0807 - val_loss: 912.3652 - val_root_mean_squared_error: 30.2054\n",
      "Epoch 37/50\n",
      "\u001b[1m80/80\u001b[0m \u001b[32m━━━━━━━━━━━━━━━━━━━━\u001b[0m\u001b[37m\u001b[0m \u001b[1m0s\u001b[0m 5ms/step - loss: 1345.2032 - root_mean_squared_error: 36.5858 - val_loss: 850.7660 - val_root_mean_squared_error: 29.1679\n",
      "Epoch 38/50\n",
      "\u001b[1m80/80\u001b[0m \u001b[32m━━━━━━━━━━━━━━━━━━━━\u001b[0m\u001b[37m\u001b[0m \u001b[1m0s\u001b[0m 5ms/step - loss: 1246.1863 - root_mean_squared_error: 35.1210 - val_loss: 1032.9036 - val_root_mean_squared_error: 32.1388\n",
      "Epoch 39/50\n",
      "\u001b[1m80/80\u001b[0m \u001b[32m━━━━━━━━━━━━━━━━━━━━\u001b[0m\u001b[37m\u001b[0m \u001b[1m0s\u001b[0m 5ms/step - loss: 1667.1683 - root_mean_squared_error: 40.6514 - val_loss: 790.6097 - val_root_mean_squared_error: 28.1178\n",
      "Epoch 40/50\n",
      "\u001b[1m80/80\u001b[0m \u001b[32m━━━━━━━━━━━━━━━━━━━━\u001b[0m\u001b[37m\u001b[0m \u001b[1m0s\u001b[0m 4ms/step - loss: 1021.8727 - root_mean_squared_error: 31.8574 - val_loss: 1252.7137 - val_root_mean_squared_error: 35.3937\n",
      "Epoch 41/50\n",
      "\u001b[1m80/80\u001b[0m \u001b[32m━━━━━━━━━━━━━━━━━━━━\u001b[0m\u001b[37m\u001b[0m \u001b[1m0s\u001b[0m 5ms/step - loss: 1666.2740 - root_mean_squared_error: 40.6441 - val_loss: 752.8210 - val_root_mean_squared_error: 27.4376\n",
      "Epoch 42/50\n",
      "\u001b[1m80/80\u001b[0m \u001b[32m━━━━━━━━━━━━━━━━━━━━\u001b[0m\u001b[37m\u001b[0m \u001b[1m0s\u001b[0m 5ms/step - loss: 1462.8031 - root_mean_squared_error: 38.1482 - val_loss: 761.4719 - val_root_mean_squared_error: 27.5948\n",
      "Epoch 43/50\n",
      "\u001b[1m80/80\u001b[0m \u001b[32m━━━━━━━━━━━━━━━━━━━━\u001b[0m\u001b[37m\u001b[0m \u001b[1m0s\u001b[0m 5ms/step - loss: 1477.4863 - root_mean_squared_error: 38.3279 - val_loss: 772.2881 - val_root_mean_squared_error: 27.7901\n",
      "Epoch 44/50\n",
      "\u001b[1m80/80\u001b[0m \u001b[32m━━━━━━━━━━━━━━━━━━━━\u001b[0m\u001b[37m\u001b[0m \u001b[1m0s\u001b[0m 4ms/step - loss: 1328.4506 - root_mean_squared_error: 36.4092 - val_loss: 894.2194 - val_root_mean_squared_error: 29.9035\n",
      "Epoch 45/50\n",
      "\u001b[1m80/80\u001b[0m \u001b[32m━━━━━━━━━━━━━━━━━━━━\u001b[0m\u001b[37m\u001b[0m \u001b[1m0s\u001b[0m 5ms/step - loss: 1362.7767 - root_mean_squared_error: 36.7131 - val_loss: 840.5867 - val_root_mean_squared_error: 28.9929\n",
      "Epoch 46/50\n",
      "\u001b[1m80/80\u001b[0m \u001b[32m━━━━━━━━━━━━━━━━━━━━\u001b[0m\u001b[37m\u001b[0m \u001b[1m0s\u001b[0m 5ms/step - loss: 1626.1348 - root_mean_squared_error: 40.0096 - val_loss: 777.0804 - val_root_mean_squared_error: 27.8762\n",
      "Epoch 47/50\n",
      "\u001b[1m80/80\u001b[0m \u001b[32m━━━━━━━━━━━━━━━━━━━━\u001b[0m\u001b[37m\u001b[0m \u001b[1m0s\u001b[0m 5ms/step - loss: 1209.4546 - root_mean_squared_error: 34.6167 - val_loss: 862.6457 - val_root_mean_squared_error: 29.3708\n",
      "Epoch 48/50\n",
      "\u001b[1m80/80\u001b[0m \u001b[32m━━━━━━━━━━━━━━━━━━━━\u001b[0m\u001b[37m\u001b[0m \u001b[1m0s\u001b[0m 5ms/step - loss: 1342.2815 - root_mean_squared_error: 36.4744 - val_loss: 827.5794 - val_root_mean_squared_error: 28.7677\n",
      "Epoch 49/50\n",
      "\u001b[1m80/80\u001b[0m \u001b[32m━━━━━━━━━━━━━━━━━━━━\u001b[0m\u001b[37m\u001b[0m \u001b[1m0s\u001b[0m 5ms/step - loss: 1339.2039 - root_mean_squared_error: 36.4805 - val_loss: 826.6335 - val_root_mean_squared_error: 28.7512\n",
      "Epoch 50/50\n",
      "\u001b[1m80/80\u001b[0m \u001b[32m━━━━━━━━━━━━━━━━━━━━\u001b[0m\u001b[37m\u001b[0m \u001b[1m0s\u001b[0m 5ms/step - loss: 1221.6470 - root_mean_squared_error: 34.8571 - val_loss: 791.0745 - val_root_mean_squared_error: 28.1260\n"
     ]
    },
    {
     "data": {
      "text/plain": [
       "<keras.src.callbacks.history.History at 0x7ee44c1af670>"
      ]
     },
     "execution_count": 56,
     "metadata": {},
     "output_type": "execute_result"
    }
   ],
   "source": [
    "model5 = Sequential()\n",
    "model5.add(InputLayer((6, 6)))  # 6 timestamps, 6 features\n",
    "model5.add(LSTM(32, activation='relu', return_sequences=False))  # Single LSTM layer\n",
    "model5.add(Dense(16, activation='relu')) \n",
    "model5.add(Dense(1, activation='linear'))  \n",
    "\n",
    "cp5 = ModelCheckpoint('/kaggle/working/model5.keras', save_best_only=True)\n",
    "\n",
    "model5.compile(loss=MeanSquaredError(), optimizer=Adam(learning_rate=0.001), \n",
    "               metrics=[RootMeanSquaredError()])\n",
    "\n",
    "model5.fit(X_train1, y_train1, validation_data=(X_val1, y_val1), epochs=50, \n",
    "           callbacks=[cp5])"
   ]
  },
  {
   "cell_type": "code",
   "execution_count": 57,
   "id": "36deaff9",
   "metadata": {
    "execution": {
     "iopub.execute_input": "2025-01-27T20:05:43.814111Z",
     "iopub.status.busy": "2025-01-27T20:05:43.813772Z",
     "iopub.status.idle": "2025-01-27T20:05:43.916763Z",
     "shell.execute_reply": "2025-01-27T20:05:43.915583Z"
    },
    "papermill": {
     "duration": 0.253804,
     "end_time": "2025-01-27T20:05:43.918731",
     "exception": false,
     "start_time": "2025-01-27T20:05:43.664927",
     "status": "completed"
    },
    "tags": []
   },
   "outputs": [],
   "source": [
    "from tensorflow.keras.models import load_model\n",
    "model5 = load_model('/kaggle/working/model5.keras')"
   ]
  },
  {
   "cell_type": "code",
   "execution_count": 58,
   "id": "d3be0190",
   "metadata": {
    "execution": {
     "iopub.execute_input": "2025-01-27T20:05:44.224043Z",
     "iopub.status.busy": "2025-01-27T20:05:44.223647Z",
     "iopub.status.idle": "2025-01-27T20:05:44.776066Z",
     "shell.execute_reply": "2025-01-27T20:05:44.774722Z"
    },
    "papermill": {
     "duration": 0.705231,
     "end_time": "2025-01-27T20:05:44.777952",
     "exception": false,
     "start_time": "2025-01-27T20:05:44.072721",
     "status": "completed"
    },
    "tags": []
   },
   "outputs": [
    {
     "name": "stdout",
     "output_type": "stream",
     "text": [
      "\u001b[1m80/80\u001b[0m \u001b[32m━━━━━━━━━━━━━━━━━━━━\u001b[0m\u001b[37m\u001b[0m \u001b[1m0s\u001b[0m 4ms/step\n",
      "Evaluation Metrics:\n",
      "Mean Absolute Error (MAE): 19.8502\n",
      "Mean Squared Error (MSE): 1473.6904\n",
      "Root Mean Squared Error (RMSE): 38.3887\n",
      "R-squared (Accuracy): 0.7146\n"
     ]
    }
   ],
   "source": [
    "# Evaluate the model on the train data\n",
    "train_result = model5.predict(X_train1)\n",
    "\n",
    "# Calculate metrics\n",
    "mse = mean_squared_error(y_train1, train_result)\n",
    "rmse = np.sqrt(mse)\n",
    "mae = mean_absolute_error(y_train1, train_result)\n",
    "r2 = r2_score(y_train1, train_result)\n",
    "\n",
    "# Print the results\n",
    "print(\"Evaluation Metrics:\")\n",
    "print(f\"Mean Absolute Error (MAE): {mae:.4f}\")\n",
    "print(f\"Mean Squared Error (MSE): {mse:.4f}\")\n",
    "print(f\"Root Mean Squared Error (RMSE): {rmse:.4f}\")\n",
    "print(f\"R-squared (Accuracy): {r2:.4f}\")"
   ]
  },
  {
   "cell_type": "code",
   "execution_count": 59,
   "id": "e5cd8450",
   "metadata": {
    "execution": {
     "iopub.execute_input": "2025-01-27T20:05:45.088815Z",
     "iopub.status.busy": "2025-01-27T20:05:45.088388Z",
     "iopub.status.idle": "2025-01-27T20:05:45.216793Z",
     "shell.execute_reply": "2025-01-27T20:05:45.215580Z"
    },
    "papermill": {
     "duration": 0.289421,
     "end_time": "2025-01-27T20:05:45.218724",
     "exception": false,
     "start_time": "2025-01-27T20:05:44.929303",
     "status": "completed"
    },
    "tags": []
   },
   "outputs": [
    {
     "name": "stdout",
     "output_type": "stream",
     "text": [
      "\u001b[1m10/10\u001b[0m \u001b[32m━━━━━━━━━━━━━━━━━━━━\u001b[0m\u001b[37m\u001b[0m \u001b[1m0s\u001b[0m 3ms/step \n",
      "Evaluation Metrics:\n",
      "Mean Absolute Error (MAE): 17.8269\n",
      "Mean Squared Error (MSE): 752.8210\n",
      "Root Mean Squared Error (RMSE): 27.4376\n",
      "R-squared (Accuracy): 0.8988\n"
     ]
    }
   ],
   "source": [
    "# Evaluate the model on the validation data\n",
    "val_result = model5.predict(X_val1)\n",
    "\n",
    "# Calculate metrics\n",
    "mse = mean_squared_error(y_val1, val_result)\n",
    "rmse = np.sqrt(mse)\n",
    "mae = mean_absolute_error(y_val1, val_result)\n",
    "r2 = r2_score(y_val1, val_result)\n",
    "\n",
    "# Print the results\n",
    "print(\"Evaluation Metrics:\")\n",
    "print(f\"Mean Absolute Error (MAE): {mae:.4f}\")\n",
    "print(f\"Mean Squared Error (MSE): {mse:.4f}\")\n",
    "print(f\"Root Mean Squared Error (RMSE): {rmse:.4f}\")\n",
    "print(f\"R-squared (Accuracy): {r2:.4f}\")"
   ]
  },
  {
   "cell_type": "code",
   "execution_count": 60,
   "id": "d85cf898",
   "metadata": {
    "execution": {
     "iopub.execute_input": "2025-01-27T20:05:45.521772Z",
     "iopub.status.busy": "2025-01-27T20:05:45.521367Z",
     "iopub.status.idle": "2025-01-27T20:05:45.622311Z",
     "shell.execute_reply": "2025-01-27T20:05:45.621107Z"
    },
    "papermill": {
     "duration": 0.255472,
     "end_time": "2025-01-27T20:05:45.624215",
     "exception": false,
     "start_time": "2025-01-27T20:05:45.368743",
     "status": "completed"
    },
    "tags": []
   },
   "outputs": [
    {
     "name": "stdout",
     "output_type": "stream",
     "text": [
      "\u001b[1m10/10\u001b[0m \u001b[32m━━━━━━━━━━━━━━━━━━━━\u001b[0m\u001b[37m\u001b[0m \u001b[1m0s\u001b[0m 2ms/step \n",
      "Evaluation Metrics:\n",
      "Mean Absolute Error (MAE): 21.8299\n",
      "Mean Squared Error (MSE): 1130.2437\n",
      "Root Mean Squared Error (RMSE): 33.6191\n",
      "R-squared (Accuracy): 0.6580\n"
     ]
    }
   ],
   "source": [
    "# Evaluate the model on the test data\n",
    "test_result = model5.predict(X_test1)\n",
    "\n",
    "# Calculate metrics\n",
    "mse = mean_squared_error(y_test1, test_result)\n",
    "rmse = np.sqrt(mse)\n",
    "mae = mean_absolute_error(y_test1, test_result)\n",
    "r2 = r2_score(y_test1, test_result)\n",
    "\n",
    "# Print the results\n",
    "print(\"Evaluation Metrics:\")\n",
    "print(f\"Mean Absolute Error (MAE): {mae:.4f}\")\n",
    "print(f\"Mean Squared Error (MSE): {mse:.4f}\")\n",
    "print(f\"Root Mean Squared Error (RMSE): {rmse:.4f}\")\n",
    "print(f\"R-squared (Accuracy): {r2:.4f}\")"
   ]
  },
  {
   "cell_type": "code",
   "execution_count": null,
   "id": "3ccda8dd",
   "metadata": {
    "papermill": {
     "duration": 0.150522,
     "end_time": "2025-01-27T20:05:45.926061",
     "exception": false,
     "start_time": "2025-01-27T20:05:45.775539",
     "status": "completed"
    },
    "tags": []
   },
   "outputs": [],
   "source": []
  },
  {
   "cell_type": "code",
   "execution_count": null,
   "id": "4512a71d",
   "metadata": {
    "papermill": {
     "duration": 0.149568,
     "end_time": "2025-01-27T20:05:46.227217",
     "exception": false,
     "start_time": "2025-01-27T20:05:46.077649",
     "status": "completed"
    },
    "tags": []
   },
   "outputs": [],
   "source": []
  },
  {
   "cell_type": "markdown",
   "id": "c5fbc760",
   "metadata": {
    "papermill": {
     "duration": 0.210222,
     "end_time": "2025-01-27T20:05:46.585182",
     "exception": false,
     "start_time": "2025-01-27T20:05:46.374960",
     "status": "completed"
    },
    "tags": []
   },
   "source": [
    "## Model 6: GRU Model with Dropout"
   ]
  },
  {
   "cell_type": "code",
   "execution_count": 61,
   "id": "c636ec73",
   "metadata": {
    "execution": {
     "iopub.execute_input": "2025-01-27T20:05:46.890754Z",
     "iopub.status.busy": "2025-01-27T20:05:46.890278Z",
     "iopub.status.idle": "2025-01-27T20:06:17.388079Z",
     "shell.execute_reply": "2025-01-27T20:06:17.386922Z"
    },
    "papermill": {
     "duration": 30.651865,
     "end_time": "2025-01-27T20:06:17.389677",
     "exception": false,
     "start_time": "2025-01-27T20:05:46.737812",
     "status": "completed"
    },
    "tags": []
   },
   "outputs": [
    {
     "name": "stdout",
     "output_type": "stream",
     "text": [
      "Epoch 1/50\n",
      "\u001b[1m80/80\u001b[0m \u001b[32m━━━━━━━━━━━━━━━━━━━━\u001b[0m\u001b[37m\u001b[0m \u001b[1m4s\u001b[0m 12ms/step - loss: 29273.7988 - root_mean_squared_error: 171.0753 - val_loss: 20444.9004 - val_root_mean_squared_error: 142.9857\n",
      "Epoch 2/50\n",
      "\u001b[1m80/80\u001b[0m \u001b[32m━━━━━━━━━━━━━━━━━━━━\u001b[0m\u001b[37m\u001b[0m \u001b[1m1s\u001b[0m 7ms/step - loss: 16875.2148 - root_mean_squared_error: 129.7946 - val_loss: 13006.3477 - val_root_mean_squared_error: 114.0454\n",
      "Epoch 3/50\n",
      "\u001b[1m80/80\u001b[0m \u001b[32m━━━━━━━━━━━━━━━━━━━━\u001b[0m\u001b[37m\u001b[0m \u001b[1m1s\u001b[0m 7ms/step - loss: 10504.3857 - root_mean_squared_error: 102.4017 - val_loss: 10980.0283 - val_root_mean_squared_error: 104.7856\n",
      "Epoch 4/50\n",
      "\u001b[1m80/80\u001b[0m \u001b[32m━━━━━━━━━━━━━━━━━━━━\u001b[0m\u001b[37m\u001b[0m \u001b[1m1s\u001b[0m 7ms/step - loss: 8552.8096 - root_mean_squared_error: 92.4491 - val_loss: 10539.0488 - val_root_mean_squared_error: 102.6599\n",
      "Epoch 5/50\n",
      "\u001b[1m80/80\u001b[0m \u001b[32m━━━━━━━━━━━━━━━━━━━━\u001b[0m\u001b[37m\u001b[0m \u001b[1m1s\u001b[0m 7ms/step - loss: 7978.8535 - root_mean_squared_error: 88.9590 - val_loss: 9031.8184 - val_root_mean_squared_error: 95.0359\n",
      "Epoch 6/50\n",
      "\u001b[1m80/80\u001b[0m \u001b[32m━━━━━━━━━━━━━━━━━━━━\u001b[0m\u001b[37m\u001b[0m \u001b[1m1s\u001b[0m 6ms/step - loss: 6724.5342 - root_mean_squared_error: 81.9555 - val_loss: 9206.4688 - val_root_mean_squared_error: 95.9503\n",
      "Epoch 7/50\n",
      "\u001b[1m80/80\u001b[0m \u001b[32m━━━━━━━━━━━━━━━━━━━━\u001b[0m\u001b[37m\u001b[0m \u001b[1m1s\u001b[0m 7ms/step - loss: 6482.7285 - root_mean_squared_error: 80.4908 - val_loss: 8408.4678 - val_root_mean_squared_error: 91.6977\n",
      "Epoch 8/50\n",
      "\u001b[1m80/80\u001b[0m \u001b[32m━━━━━━━━━━━━━━━━━━━━\u001b[0m\u001b[37m\u001b[0m \u001b[1m1s\u001b[0m 6ms/step - loss: 5965.8354 - root_mean_squared_error: 77.1596 - val_loss: 8560.6543 - val_root_mean_squared_error: 92.5238\n",
      "Epoch 9/50\n",
      "\u001b[1m80/80\u001b[0m \u001b[32m━━━━━━━━━━━━━━━━━━━━\u001b[0m\u001b[37m\u001b[0m \u001b[1m1s\u001b[0m 7ms/step - loss: 5785.5630 - root_mean_squared_error: 75.9433 - val_loss: 8107.6372 - val_root_mean_squared_error: 90.0424\n",
      "Epoch 10/50\n",
      "\u001b[1m80/80\u001b[0m \u001b[32m━━━━━━━━━━━━━━━━━━━━\u001b[0m\u001b[37m\u001b[0m \u001b[1m1s\u001b[0m 6ms/step - loss: 6444.1270 - root_mean_squared_error: 79.9666 - val_loss: 8380.7959 - val_root_mean_squared_error: 91.5467\n",
      "Epoch 11/50\n",
      "\u001b[1m80/80\u001b[0m \u001b[32m━━━━━━━━━━━━━━━━━━━━\u001b[0m\u001b[37m\u001b[0m \u001b[1m1s\u001b[0m 7ms/step - loss: 6241.1914 - root_mean_squared_error: 78.9389 - val_loss: 8087.3062 - val_root_mean_squared_error: 89.9295\n",
      "Epoch 12/50\n",
      "\u001b[1m80/80\u001b[0m \u001b[32m━━━━━━━━━━━━━━━━━━━━\u001b[0m\u001b[37m\u001b[0m \u001b[1m1s\u001b[0m 7ms/step - loss: 5624.5308 - root_mean_squared_error: 74.9097 - val_loss: 7512.6938 - val_root_mean_squared_error: 86.6758\n",
      "Epoch 13/50\n",
      "\u001b[1m80/80\u001b[0m \u001b[32m━━━━━━━━━━━━━━━━━━━━\u001b[0m\u001b[37m\u001b[0m \u001b[1m1s\u001b[0m 7ms/step - loss: 5687.7305 - root_mean_squared_error: 75.3670 - val_loss: 7281.9497 - val_root_mean_squared_error: 85.3343\n",
      "Epoch 14/50\n",
      "\u001b[1m80/80\u001b[0m \u001b[32m━━━━━━━━━━━━━━━━━━━━\u001b[0m\u001b[37m\u001b[0m \u001b[1m1s\u001b[0m 6ms/step - loss: 6284.2510 - root_mean_squared_error: 79.1303 - val_loss: 7704.2954 - val_root_mean_squared_error: 87.7741\n",
      "Epoch 15/50\n",
      "\u001b[1m80/80\u001b[0m \u001b[32m━━━━━━━━━━━━━━━━━━━━\u001b[0m\u001b[37m\u001b[0m \u001b[1m1s\u001b[0m 6ms/step - loss: 5373.7622 - root_mean_squared_error: 73.2722 - val_loss: 7392.5166 - val_root_mean_squared_error: 85.9797\n",
      "Epoch 16/50\n",
      "\u001b[1m80/80\u001b[0m \u001b[32m━━━━━━━━━━━━━━━━━━━━\u001b[0m\u001b[37m\u001b[0m \u001b[1m1s\u001b[0m 7ms/step - loss: 5615.3960 - root_mean_squared_error: 74.9114 - val_loss: 7066.6270 - val_root_mean_squared_error: 84.0632\n",
      "Epoch 17/50\n",
      "\u001b[1m80/80\u001b[0m \u001b[32m━━━━━━━━━━━━━━━━━━━━\u001b[0m\u001b[37m\u001b[0m \u001b[1m1s\u001b[0m 6ms/step - loss: 5465.8340 - root_mean_squared_error: 73.8711 - val_loss: 7465.0806 - val_root_mean_squared_error: 86.4007\n",
      "Epoch 18/50\n",
      "\u001b[1m80/80\u001b[0m \u001b[32m━━━━━━━━━━━━━━━━━━━━\u001b[0m\u001b[37m\u001b[0m \u001b[1m1s\u001b[0m 6ms/step - loss: 6451.2842 - root_mean_squared_error: 79.0078 - val_loss: 7278.6680 - val_root_mean_squared_error: 85.3151\n",
      "Epoch 19/50\n",
      "\u001b[1m80/80\u001b[0m \u001b[32m━━━━━━━━━━━━━━━━━━━━\u001b[0m\u001b[37m\u001b[0m \u001b[1m1s\u001b[0m 7ms/step - loss: 5254.3745 - root_mean_squared_error: 72.3850 - val_loss: 7484.4839 - val_root_mean_squared_error: 86.5129\n",
      "Epoch 20/50\n",
      "\u001b[1m80/80\u001b[0m \u001b[32m━━━━━━━━━━━━━━━━━━━━\u001b[0m\u001b[37m\u001b[0m \u001b[1m1s\u001b[0m 6ms/step - loss: 5743.6792 - root_mean_squared_error: 75.6868 - val_loss: 7274.6196 - val_root_mean_squared_error: 85.2914\n",
      "Epoch 21/50\n",
      "\u001b[1m80/80\u001b[0m \u001b[32m━━━━━━━━━━━━━━━━━━━━\u001b[0m\u001b[37m\u001b[0m \u001b[1m1s\u001b[0m 7ms/step - loss: 5203.0151 - root_mean_squared_error: 72.0614 - val_loss: 7400.5386 - val_root_mean_squared_error: 86.0264\n",
      "Epoch 22/50\n",
      "\u001b[1m80/80\u001b[0m \u001b[32m━━━━━━━━━━━━━━━━━━━━\u001b[0m\u001b[37m\u001b[0m \u001b[1m1s\u001b[0m 7ms/step - loss: 5489.5947 - root_mean_squared_error: 73.9695 - val_loss: 7680.9004 - val_root_mean_squared_error: 87.6407\n",
      "Epoch 23/50\n",
      "\u001b[1m80/80\u001b[0m \u001b[32m━━━━━━━━━━━━━━━━━━━━\u001b[0m\u001b[37m\u001b[0m \u001b[1m1s\u001b[0m 6ms/step - loss: 5013.2729 - root_mean_squared_error: 70.7650 - val_loss: 7405.8804 - val_root_mean_squared_error: 86.0574\n",
      "Epoch 24/50\n",
      "\u001b[1m80/80\u001b[0m \u001b[32m━━━━━━━━━━━━━━━━━━━━\u001b[0m\u001b[37m\u001b[0m \u001b[1m1s\u001b[0m 6ms/step - loss: 5815.8154 - root_mean_squared_error: 76.1032 - val_loss: 7345.4438 - val_root_mean_squared_error: 85.7056\n",
      "Epoch 25/50\n",
      "\u001b[1m80/80\u001b[0m \u001b[32m━━━━━━━━━━━━━━━━━━━━\u001b[0m\u001b[37m\u001b[0m \u001b[1m1s\u001b[0m 6ms/step - loss: 5667.8564 - root_mean_squared_error: 75.1894 - val_loss: 7315.4399 - val_root_mean_squared_error: 85.5303\n",
      "Epoch 26/50\n",
      "\u001b[1m80/80\u001b[0m \u001b[32m━━━━━━━━━━━━━━━━━━━━\u001b[0m\u001b[37m\u001b[0m \u001b[1m1s\u001b[0m 6ms/step - loss: 5612.1855 - root_mean_squared_error: 74.7269 - val_loss: 7738.5063 - val_root_mean_squared_error: 87.9688\n",
      "Epoch 27/50\n",
      "\u001b[1m80/80\u001b[0m \u001b[32m━━━━━━━━━━━━━━━━━━━━\u001b[0m\u001b[37m\u001b[0m \u001b[1m1s\u001b[0m 6ms/step - loss: 5318.6191 - root_mean_squared_error: 72.8734 - val_loss: 7516.9839 - val_root_mean_squared_error: 86.7005\n",
      "Epoch 28/50\n",
      "\u001b[1m80/80\u001b[0m \u001b[32m━━━━━━━━━━━━━━━━━━━━\u001b[0m\u001b[37m\u001b[0m \u001b[1m1s\u001b[0m 7ms/step - loss: 5110.0166 - root_mean_squared_error: 71.3759 - val_loss: 7594.8467 - val_root_mean_squared_error: 87.1484\n",
      "Epoch 29/50\n",
      "\u001b[1m80/80\u001b[0m \u001b[32m━━━━━━━━━━━━━━━━━━━━\u001b[0m\u001b[37m\u001b[0m \u001b[1m1s\u001b[0m 6ms/step - loss: 5256.6157 - root_mean_squared_error: 72.3714 - val_loss: 7222.8193 - val_root_mean_squared_error: 84.9872\n",
      "Epoch 30/50\n",
      "\u001b[1m80/80\u001b[0m \u001b[32m━━━━━━━━━━━━━━━━━━━━\u001b[0m\u001b[37m\u001b[0m \u001b[1m1s\u001b[0m 6ms/step - loss: 5253.5952 - root_mean_squared_error: 72.4334 - val_loss: 7423.3354 - val_root_mean_squared_error: 86.1588\n",
      "Epoch 31/50\n",
      "\u001b[1m80/80\u001b[0m \u001b[32m━━━━━━━━━━━━━━━━━━━━\u001b[0m\u001b[37m\u001b[0m \u001b[1m1s\u001b[0m 6ms/step - loss: 4885.9380 - root_mean_squared_error: 69.7632 - val_loss: 7529.6421 - val_root_mean_squared_error: 86.7735\n",
      "Epoch 32/50\n",
      "\u001b[1m80/80\u001b[0m \u001b[32m━━━━━━━━━━━━━━━━━━━━\u001b[0m\u001b[37m\u001b[0m \u001b[1m1s\u001b[0m 6ms/step - loss: 5386.5195 - root_mean_squared_error: 73.3647 - val_loss: 7480.0776 - val_root_mean_squared_error: 86.4874\n",
      "Epoch 33/50\n",
      "\u001b[1m80/80\u001b[0m \u001b[32m━━━━━━━━━━━━━━━━━━━━\u001b[0m\u001b[37m\u001b[0m \u001b[1m1s\u001b[0m 6ms/step - loss: 5262.4385 - root_mean_squared_error: 72.4491 - val_loss: 7505.3218 - val_root_mean_squared_error: 86.6333\n",
      "Epoch 34/50\n",
      "\u001b[1m80/80\u001b[0m \u001b[32m━━━━━━━━━━━━━━━━━━━━\u001b[0m\u001b[37m\u001b[0m \u001b[1m1s\u001b[0m 6ms/step - loss: 5711.5669 - root_mean_squared_error: 75.3476 - val_loss: 7489.8257 - val_root_mean_squared_error: 86.5438\n",
      "Epoch 35/50\n",
      "\u001b[1m80/80\u001b[0m \u001b[32m━━━━━━━━━━━━━━━━━━━━\u001b[0m\u001b[37m\u001b[0m \u001b[1m1s\u001b[0m 6ms/step - loss: 5389.9326 - root_mean_squared_error: 73.2608 - val_loss: 7493.5249 - val_root_mean_squared_error: 86.5651\n",
      "Epoch 36/50\n",
      "\u001b[1m80/80\u001b[0m \u001b[32m━━━━━━━━━━━━━━━━━━━━\u001b[0m\u001b[37m\u001b[0m \u001b[1m1s\u001b[0m 6ms/step - loss: 4954.8818 - root_mean_squared_error: 70.3332 - val_loss: 7490.5200 - val_root_mean_squared_error: 86.5478\n",
      "Epoch 37/50\n",
      "\u001b[1m80/80\u001b[0m \u001b[32m━━━━━━━━━━━━━━━━━━━━\u001b[0m\u001b[37m\u001b[0m \u001b[1m1s\u001b[0m 6ms/step - loss: 5405.6406 - root_mean_squared_error: 73.4149 - val_loss: 7337.9507 - val_root_mean_squared_error: 85.6618\n",
      "Epoch 38/50\n",
      "\u001b[1m80/80\u001b[0m \u001b[32m━━━━━━━━━━━━━━━━━━━━\u001b[0m\u001b[37m\u001b[0m \u001b[1m1s\u001b[0m 6ms/step - loss: 5127.4160 - root_mean_squared_error: 71.5521 - val_loss: 7377.1694 - val_root_mean_squared_error: 85.8904\n",
      "Epoch 39/50\n",
      "\u001b[1m80/80\u001b[0m \u001b[32m━━━━━━━━━━━━━━━━━━━━\u001b[0m\u001b[37m\u001b[0m \u001b[1m1s\u001b[0m 6ms/step - loss: 5928.1694 - root_mean_squared_error: 76.8095 - val_loss: 7666.8037 - val_root_mean_squared_error: 87.5603\n",
      "Epoch 40/50\n",
      "\u001b[1m80/80\u001b[0m \u001b[32m━━━━━━━━━━━━━━━━━━━━\u001b[0m\u001b[37m\u001b[0m \u001b[1m1s\u001b[0m 6ms/step - loss: 5642.6147 - root_mean_squared_error: 75.0925 - val_loss: 7778.5879 - val_root_mean_squared_error: 88.1963\n",
      "Epoch 41/50\n",
      "\u001b[1m80/80\u001b[0m \u001b[32m━━━━━━━━━━━━━━━━━━━━\u001b[0m\u001b[37m\u001b[0m \u001b[1m1s\u001b[0m 6ms/step - loss: 4757.8442 - root_mean_squared_error: 68.8887 - val_loss: 7564.0513 - val_root_mean_squared_error: 86.9716\n",
      "Epoch 42/50\n",
      "\u001b[1m80/80\u001b[0m \u001b[32m━━━━━━━━━━━━━━━━━━━━\u001b[0m\u001b[37m\u001b[0m \u001b[1m1s\u001b[0m 6ms/step - loss: 5989.1699 - root_mean_squared_error: 77.3124 - val_loss: 7792.2378 - val_root_mean_squared_error: 88.2737\n",
      "Epoch 43/50\n",
      "\u001b[1m80/80\u001b[0m \u001b[32m━━━━━━━━━━━━━━━━━━━━\u001b[0m\u001b[37m\u001b[0m \u001b[1m1s\u001b[0m 6ms/step - loss: 5512.6294 - root_mean_squared_error: 74.2031 - val_loss: 7500.8955 - val_root_mean_squared_error: 86.6077\n",
      "Epoch 44/50\n",
      "\u001b[1m80/80\u001b[0m \u001b[32m━━━━━━━━━━━━━━━━━━━━\u001b[0m\u001b[37m\u001b[0m \u001b[1m1s\u001b[0m 6ms/step - loss: 5312.1392 - root_mean_squared_error: 72.7891 - val_loss: 7488.0425 - val_root_mean_squared_error: 86.5335\n",
      "Epoch 45/50\n",
      "\u001b[1m80/80\u001b[0m \u001b[32m━━━━━━━━━━━━━━━━━━━━\u001b[0m\u001b[37m\u001b[0m \u001b[1m1s\u001b[0m 7ms/step - loss: 5333.6646 - root_mean_squared_error: 72.9435 - val_loss: 7485.6631 - val_root_mean_squared_error: 86.5197\n",
      "Epoch 46/50\n",
      "\u001b[1m80/80\u001b[0m \u001b[32m━━━━━━━━━━━━━━━━━━━━\u001b[0m\u001b[37m\u001b[0m \u001b[1m1s\u001b[0m 7ms/step - loss: 5412.6792 - root_mean_squared_error: 73.4058 - val_loss: 7459.9634 - val_root_mean_squared_error: 86.3711\n",
      "Epoch 47/50\n",
      "\u001b[1m80/80\u001b[0m \u001b[32m━━━━━━━━━━━━━━━━━━━━\u001b[0m\u001b[37m\u001b[0m \u001b[1m1s\u001b[0m 6ms/step - loss: 5624.7598 - root_mean_squared_error: 74.7326 - val_loss: 7528.1719 - val_root_mean_squared_error: 86.7650\n",
      "Epoch 48/50\n",
      "\u001b[1m80/80\u001b[0m \u001b[32m━━━━━━━━━━━━━━━━━━━━\u001b[0m\u001b[37m\u001b[0m \u001b[1m1s\u001b[0m 6ms/step - loss: 5308.1177 - root_mean_squared_error: 72.6457 - val_loss: 7374.7964 - val_root_mean_squared_error: 85.8766\n",
      "Epoch 49/50\n",
      "\u001b[1m80/80\u001b[0m \u001b[32m━━━━━━━━━━━━━━━━━━━━\u001b[0m\u001b[37m\u001b[0m \u001b[1m1s\u001b[0m 6ms/step - loss: 5443.2925 - root_mean_squared_error: 73.7378 - val_loss: 7674.5391 - val_root_mean_squared_error: 87.6044\n",
      "Epoch 50/50\n",
      "\u001b[1m80/80\u001b[0m \u001b[32m━━━━━━━━━━━━━━━━━━━━\u001b[0m\u001b[37m\u001b[0m \u001b[1m1s\u001b[0m 7ms/step - loss: 5685.6313 - root_mean_squared_error: 75.3047 - val_loss: 7571.2251 - val_root_mean_squared_error: 87.0128\n"
     ]
    },
    {
     "data": {
      "text/plain": [
       "<keras.src.callbacks.history.History at 0x7ee44f601390>"
      ]
     },
     "execution_count": 61,
     "metadata": {},
     "output_type": "execute_result"
    }
   ],
   "source": [
    "model6 = Sequential()\n",
    "model6.add(InputLayer((6, 6)))  # 6 timestamps, 6 features\n",
    "model6.add(BatchNormalization())  # Normalize inputs\n",
    "model6.add(GRU(64, activation='relu', return_sequences=True))  # GRU layer\n",
    "model6.add(Dropout(0.3))  # Dropout for regularization\n",
    "model6.add(Dense(32, activation='relu'))  \n",
    "model6.add(Dense(1, activation='linear'))  \n",
    "\n",
    "cp6 = ModelCheckpoint('/kaggle/working/model6.keras', save_best_only=True)\n",
    "\n",
    "model6.compile(loss=MeanSquaredError(), optimizer=Adam(learning_rate=0.001), \n",
    "               metrics=[RootMeanSquaredError()])\n",
    "\n",
    "model6.fit(X_train1, y_train1, validation_data=(X_val1, y_val1), epochs=50, \n",
    "           callbacks=[cp6])"
   ]
  },
  {
   "cell_type": "code",
   "execution_count": null,
   "id": "b2f42942",
   "metadata": {
    "papermill": {
     "duration": 0.185696,
     "end_time": "2025-01-27T20:06:17.763704",
     "exception": false,
     "start_time": "2025-01-27T20:06:17.578008",
     "status": "completed"
    },
    "tags": []
   },
   "outputs": [],
   "source": []
  },
  {
   "cell_type": "code",
   "execution_count": null,
   "id": "d0363b82",
   "metadata": {
    "papermill": {
     "duration": 0.181954,
     "end_time": "2025-01-27T20:06:18.128763",
     "exception": false,
     "start_time": "2025-01-27T20:06:17.946809",
     "status": "completed"
    },
    "tags": []
   },
   "outputs": [],
   "source": []
  },
  {
   "cell_type": "markdown",
   "id": "3dfb75e4",
   "metadata": {
    "papermill": {
     "duration": 0.179627,
     "end_time": "2025-01-27T20:06:18.490223",
     "exception": false,
     "start_time": "2025-01-27T20:06:18.310596",
     "status": "completed"
    },
    "tags": []
   },
   "source": [
    "## Model 7: Bidirectional LSTM"
   ]
  },
  {
   "cell_type": "code",
   "execution_count": 62,
   "id": "d5312cd2",
   "metadata": {
    "execution": {
     "iopub.execute_input": "2025-01-27T20:06:18.920171Z",
     "iopub.status.busy": "2025-01-27T20:06:18.919800Z",
     "iopub.status.idle": "2025-01-27T20:06:46.267658Z",
     "shell.execute_reply": "2025-01-27T20:06:46.266267Z"
    },
    "papermill": {
     "duration": 27.533876,
     "end_time": "2025-01-27T20:06:46.269478",
     "exception": false,
     "start_time": "2025-01-27T20:06:18.735602",
     "status": "completed"
    },
    "tags": []
   },
   "outputs": [
    {
     "name": "stdout",
     "output_type": "stream",
     "text": [
      "Epoch 1/50\n",
      "\u001b[1m80/80\u001b[0m \u001b[32m━━━━━━━━━━━━━━━━━━━━\u001b[0m\u001b[37m\u001b[0m \u001b[1m1s\u001b[0m 7ms/step - loss: 5488.4224 - root_mean_squared_error: 73.9952 - val_loss: 7765.8545 - val_root_mean_squared_error: 88.1241\n",
      "Epoch 2/50\n",
      "\u001b[1m80/80\u001b[0m \u001b[32m━━━━━━━━━━━━━━━━━━━━\u001b[0m\u001b[37m\u001b[0m \u001b[1m1s\u001b[0m 7ms/step - loss: 5678.1582 - root_mean_squared_error: 75.2618 - val_loss: 7583.2046 - val_root_mean_squared_error: 87.0816\n",
      "Epoch 3/50\n",
      "\u001b[1m80/80\u001b[0m \u001b[32m━━━━━━━━━━━━━━━━━━━━\u001b[0m\u001b[37m\u001b[0m \u001b[1m1s\u001b[0m 7ms/step - loss: 5114.9189 - root_mean_squared_error: 71.3216 - val_loss: 7530.1685 - val_root_mean_squared_error: 86.7765\n",
      "Epoch 4/50\n",
      "\u001b[1m80/80\u001b[0m \u001b[32m━━━━━━━━━━━━━━━━━━━━\u001b[0m\u001b[37m\u001b[0m \u001b[1m1s\u001b[0m 6ms/step - loss: 5494.2812 - root_mean_squared_error: 74.0884 - val_loss: 7784.3540 - val_root_mean_squared_error: 88.2290\n",
      "Epoch 5/50\n",
      "\u001b[1m80/80\u001b[0m \u001b[32m━━━━━━━━━━━━━━━━━━━━\u001b[0m\u001b[37m\u001b[0m \u001b[1m1s\u001b[0m 7ms/step - loss: 5789.4634 - root_mean_squared_error: 76.0133 - val_loss: 7632.9346 - val_root_mean_squared_error: 87.3667\n",
      "Epoch 6/50\n",
      "\u001b[1m80/80\u001b[0m \u001b[32m━━━━━━━━━━━━━━━━━━━━\u001b[0m\u001b[37m\u001b[0m \u001b[1m1s\u001b[0m 7ms/step - loss: 5318.3501 - root_mean_squared_error: 72.7930 - val_loss: 7668.9507 - val_root_mean_squared_error: 87.5725\n",
      "Epoch 7/50\n",
      "\u001b[1m80/80\u001b[0m \u001b[32m━━━━━━━━━━━━━━━━━━━━\u001b[0m\u001b[37m\u001b[0m \u001b[1m1s\u001b[0m 7ms/step - loss: 5562.8564 - root_mean_squared_error: 74.5045 - val_loss: 7685.1348 - val_root_mean_squared_error: 87.6649\n",
      "Epoch 8/50\n",
      "\u001b[1m80/80\u001b[0m \u001b[32m━━━━━━━━━━━━━━━━━━━━\u001b[0m\u001b[37m\u001b[0m \u001b[1m1s\u001b[0m 7ms/step - loss: 5352.2715 - root_mean_squared_error: 73.1339 - val_loss: 7577.1167 - val_root_mean_squared_error: 87.0466\n",
      "Epoch 9/50\n",
      "\u001b[1m80/80\u001b[0m \u001b[32m━━━━━━━━━━━━━━━━━━━━\u001b[0m\u001b[37m\u001b[0m \u001b[1m1s\u001b[0m 6ms/step - loss: 5021.5117 - root_mean_squared_error: 70.8142 - val_loss: 7781.5703 - val_root_mean_squared_error: 88.2132\n",
      "Epoch 10/50\n",
      "\u001b[1m80/80\u001b[0m \u001b[32m━━━━━━━━━━━━━━━━━━━━\u001b[0m\u001b[37m\u001b[0m \u001b[1m1s\u001b[0m 6ms/step - loss: 5312.0791 - root_mean_squared_error: 72.7804 - val_loss: 7778.4624 - val_root_mean_squared_error: 88.1956\n",
      "Epoch 11/50\n",
      "\u001b[1m80/80\u001b[0m \u001b[32m━━━━━━━━━━━━━━━━━━━━\u001b[0m\u001b[37m\u001b[0m \u001b[1m1s\u001b[0m 7ms/step - loss: 4762.1592 - root_mean_squared_error: 68.8607 - val_loss: 7519.4521 - val_root_mean_squared_error: 86.7148\n",
      "Epoch 12/50\n",
      "\u001b[1m80/80\u001b[0m \u001b[32m━━━━━━━━━━━━━━━━━━━━\u001b[0m\u001b[37m\u001b[0m \u001b[1m1s\u001b[0m 7ms/step - loss: 5259.2773 - root_mean_squared_error: 72.4800 - val_loss: 7287.2012 - val_root_mean_squared_error: 85.3651\n",
      "Epoch 13/50\n",
      "\u001b[1m80/80\u001b[0m \u001b[32m━━━━━━━━━━━━━━━━━━━━\u001b[0m\u001b[37m\u001b[0m \u001b[1m1s\u001b[0m 6ms/step - loss: 5164.3613 - root_mean_squared_error: 71.7972 - val_loss: 7803.4663 - val_root_mean_squared_error: 88.3372\n",
      "Epoch 14/50\n",
      "\u001b[1m80/80\u001b[0m \u001b[32m━━━━━━━━━━━━━━━━━━━━\u001b[0m\u001b[37m\u001b[0m \u001b[1m1s\u001b[0m 6ms/step - loss: 5204.4829 - root_mean_squared_error: 72.1160 - val_loss: 7695.2666 - val_root_mean_squared_error: 87.7227\n",
      "Epoch 15/50\n",
      "\u001b[1m80/80\u001b[0m \u001b[32m━━━━━━━━━━━━━━━━━━━━\u001b[0m\u001b[37m\u001b[0m \u001b[1m1s\u001b[0m 6ms/step - loss: 5798.0132 - root_mean_squared_error: 75.8997 - val_loss: 7722.5151 - val_root_mean_squared_error: 87.8778\n",
      "Epoch 16/50\n",
      "\u001b[1m80/80\u001b[0m \u001b[32m━━━━━━━━━━━━━━━━━━━━\u001b[0m\u001b[37m\u001b[0m \u001b[1m1s\u001b[0m 6ms/step - loss: 4549.4727 - root_mean_squared_error: 67.2989 - val_loss: 7642.8379 - val_root_mean_squared_error: 87.4233\n",
      "Epoch 17/50\n",
      "\u001b[1m80/80\u001b[0m \u001b[32m━━━━━━━━━━━━━━━━━━━━\u001b[0m\u001b[37m\u001b[0m \u001b[1m1s\u001b[0m 6ms/step - loss: 5400.7446 - root_mean_squared_error: 73.3537 - val_loss: 7519.2290 - val_root_mean_squared_error: 86.7135\n",
      "Epoch 18/50\n",
      "\u001b[1m80/80\u001b[0m \u001b[32m━━━━━━━━━━━━━━━━━━━━\u001b[0m\u001b[37m\u001b[0m \u001b[1m1s\u001b[0m 6ms/step - loss: 6114.4565 - root_mean_squared_error: 77.7994 - val_loss: 7485.7285 - val_root_mean_squared_error: 86.5201\n",
      "Epoch 19/50\n",
      "\u001b[1m80/80\u001b[0m \u001b[32m━━━━━━━━━━━━━━━━━━━━\u001b[0m\u001b[37m\u001b[0m \u001b[1m1s\u001b[0m 6ms/step - loss: 5265.3037 - root_mean_squared_error: 72.3810 - val_loss: 7527.2075 - val_root_mean_squared_error: 86.7595\n",
      "Epoch 20/50\n",
      "\u001b[1m80/80\u001b[0m \u001b[32m━━━━━━━━━━━━━━━━━━━━\u001b[0m\u001b[37m\u001b[0m \u001b[1m1s\u001b[0m 6ms/step - loss: 5177.7910 - root_mean_squared_error: 71.8667 - val_loss: 7812.0425 - val_root_mean_squared_error: 88.3858\n",
      "Epoch 21/50\n",
      "\u001b[1m80/80\u001b[0m \u001b[32m━━━━━━━━━━━━━━━━━━━━\u001b[0m\u001b[37m\u001b[0m \u001b[1m1s\u001b[0m 6ms/step - loss: 5851.0361 - root_mean_squared_error: 76.1684 - val_loss: 7689.5830 - val_root_mean_squared_error: 87.6903\n",
      "Epoch 22/50\n",
      "\u001b[1m80/80\u001b[0m \u001b[32m━━━━━━━━━━━━━━━━━━━━\u001b[0m\u001b[37m\u001b[0m \u001b[1m1s\u001b[0m 6ms/step - loss: 5009.1011 - root_mean_squared_error: 70.7254 - val_loss: 7473.1104 - val_root_mean_squared_error: 86.4472\n",
      "Epoch 23/50\n",
      "\u001b[1m80/80\u001b[0m \u001b[32m━━━━━━━━━━━━━━━━━━━━\u001b[0m\u001b[37m\u001b[0m \u001b[1m1s\u001b[0m 6ms/step - loss: 5069.3633 - root_mean_squared_error: 71.0888 - val_loss: 7690.0942 - val_root_mean_squared_error: 87.6932\n",
      "Epoch 24/50\n",
      "\u001b[1m80/80\u001b[0m \u001b[32m━━━━━━━━━━━━━━━━━━━━\u001b[0m\u001b[37m\u001b[0m \u001b[1m1s\u001b[0m 6ms/step - loss: 4814.0879 - root_mean_squared_error: 69.3146 - val_loss: 7566.9966 - val_root_mean_squared_error: 86.9885\n",
      "Epoch 25/50\n",
      "\u001b[1m80/80\u001b[0m \u001b[32m━━━━━━━━━━━━━━━━━━━━\u001b[0m\u001b[37m\u001b[0m \u001b[1m1s\u001b[0m 6ms/step - loss: 5146.0059 - root_mean_squared_error: 71.6972 - val_loss: 7669.6392 - val_root_mean_squared_error: 87.5765\n",
      "Epoch 26/50\n",
      "\u001b[1m80/80\u001b[0m \u001b[32m━━━━━━━━━━━━━━━━━━━━\u001b[0m\u001b[37m\u001b[0m \u001b[1m1s\u001b[0m 6ms/step - loss: 6053.9731 - root_mean_squared_error: 77.5208 - val_loss: 7466.0405 - val_root_mean_squared_error: 86.4062\n",
      "Epoch 27/50\n",
      "\u001b[1m80/80\u001b[0m \u001b[32m━━━━━━━━━━━━━━━━━━━━\u001b[0m\u001b[37m\u001b[0m \u001b[1m1s\u001b[0m 6ms/step - loss: 6043.9019 - root_mean_squared_error: 77.5240 - val_loss: 7772.8418 - val_root_mean_squared_error: 88.1637\n",
      "Epoch 28/50\n",
      "\u001b[1m80/80\u001b[0m \u001b[32m━━━━━━━━━━━━━━━━━━━━\u001b[0m\u001b[37m\u001b[0m \u001b[1m1s\u001b[0m 6ms/step - loss: 5567.4785 - root_mean_squared_error: 74.5258 - val_loss: 7500.3091 - val_root_mean_squared_error: 86.6043\n",
      "Epoch 29/50\n",
      "\u001b[1m80/80\u001b[0m \u001b[32m━━━━━━━━━━━━━━━━━━━━\u001b[0m\u001b[37m\u001b[0m \u001b[1m1s\u001b[0m 7ms/step - loss: 5316.6196 - root_mean_squared_error: 72.8719 - val_loss: 7523.1558 - val_root_mean_squared_error: 86.7361\n",
      "Epoch 30/50\n",
      "\u001b[1m80/80\u001b[0m \u001b[32m━━━━━━━━━━━━━━━━━━━━\u001b[0m\u001b[37m\u001b[0m \u001b[1m1s\u001b[0m 7ms/step - loss: 4887.1182 - root_mean_squared_error: 69.7999 - val_loss: 7675.5024 - val_root_mean_squared_error: 87.6099\n",
      "Epoch 31/50\n",
      "\u001b[1m80/80\u001b[0m \u001b[32m━━━━━━━━━━━━━━━━━━━━\u001b[0m\u001b[37m\u001b[0m \u001b[1m1s\u001b[0m 6ms/step - loss: 4902.8232 - root_mean_squared_error: 69.9085 - val_loss: 7744.9585 - val_root_mean_squared_error: 88.0054\n",
      "Epoch 32/50\n",
      "\u001b[1m80/80\u001b[0m \u001b[32m━━━━━━━━━━━━━━━━━━━━\u001b[0m\u001b[37m\u001b[0m \u001b[1m1s\u001b[0m 6ms/step - loss: 5492.0039 - root_mean_squared_error: 74.0798 - val_loss: 7900.3628 - val_root_mean_squared_error: 88.8840\n",
      "Epoch 33/50\n",
      "\u001b[1m80/80\u001b[0m \u001b[32m━━━━━━━━━━━━━━━━━━━━\u001b[0m\u001b[37m\u001b[0m \u001b[1m1s\u001b[0m 6ms/step - loss: 6316.7251 - root_mean_squared_error: 78.5701 - val_loss: 7664.3657 - val_root_mean_squared_error: 87.5464\n",
      "Epoch 34/50\n",
      "\u001b[1m80/80\u001b[0m \u001b[32m━━━━━━━━━━━━━━━━━━━━\u001b[0m\u001b[37m\u001b[0m \u001b[1m1s\u001b[0m 6ms/step - loss: 5538.0137 - root_mean_squared_error: 74.0105 - val_loss: 7427.8633 - val_root_mean_squared_error: 86.1851\n",
      "Epoch 35/50\n",
      "\u001b[1m80/80\u001b[0m \u001b[32m━━━━━━━━━━━━━━━━━━━━\u001b[0m\u001b[37m\u001b[0m \u001b[1m1s\u001b[0m 6ms/step - loss: 5428.3740 - root_mean_squared_error: 73.5782 - val_loss: 7486.0479 - val_root_mean_squared_error: 86.5219\n",
      "Epoch 36/50\n",
      "\u001b[1m80/80\u001b[0m \u001b[32m━━━━━━━━━━━━━━━━━━━━\u001b[0m\u001b[37m\u001b[0m \u001b[1m1s\u001b[0m 6ms/step - loss: 5323.6445 - root_mean_squared_error: 72.6445 - val_loss: 7844.6167 - val_root_mean_squared_error: 88.5698\n",
      "Epoch 37/50\n",
      "\u001b[1m80/80\u001b[0m \u001b[32m━━━━━━━━━━━━━━━━━━━━\u001b[0m\u001b[37m\u001b[0m \u001b[1m1s\u001b[0m 6ms/step - loss: 5072.7788 - root_mean_squared_error: 71.1787 - val_loss: 7547.3667 - val_root_mean_squared_error: 86.8756\n",
      "Epoch 38/50\n",
      "\u001b[1m80/80\u001b[0m \u001b[32m━━━━━━━━━━━━━━━━━━━━\u001b[0m\u001b[37m\u001b[0m \u001b[1m1s\u001b[0m 6ms/step - loss: 5630.0771 - root_mean_squared_error: 74.8826 - val_loss: 7715.6484 - val_root_mean_squared_error: 87.8388\n",
      "Epoch 39/50\n",
      "\u001b[1m80/80\u001b[0m \u001b[32m━━━━━━━━━━━━━━━━━━━━\u001b[0m\u001b[37m\u001b[0m \u001b[1m1s\u001b[0m 6ms/step - loss: 5247.1084 - root_mean_squared_error: 71.9924 - val_loss: 7690.3579 - val_root_mean_squared_error: 87.6947\n",
      "Epoch 40/50\n",
      "\u001b[1m80/80\u001b[0m \u001b[32m━━━━━━━━━━━━━━━━━━━━\u001b[0m\u001b[37m\u001b[0m \u001b[1m1s\u001b[0m 6ms/step - loss: 4948.3999 - root_mean_squared_error: 70.1582 - val_loss: 7766.7622 - val_root_mean_squared_error: 88.1292\n",
      "Epoch 41/50\n",
      "\u001b[1m80/80\u001b[0m \u001b[32m━━━━━━━━━━━━━━━━━━━━\u001b[0m\u001b[37m\u001b[0m \u001b[1m1s\u001b[0m 6ms/step - loss: 5045.5684 - root_mean_squared_error: 70.9782 - val_loss: 7573.5303 - val_root_mean_squared_error: 87.0260\n",
      "Epoch 42/50\n",
      "\u001b[1m80/80\u001b[0m \u001b[32m━━━━━━━━━━━━━━━━━━━━\u001b[0m\u001b[37m\u001b[0m \u001b[1m1s\u001b[0m 6ms/step - loss: 5181.9087 - root_mean_squared_error: 71.8544 - val_loss: 7638.6172 - val_root_mean_squared_error: 87.3992\n",
      "Epoch 43/50\n",
      "\u001b[1m80/80\u001b[0m \u001b[32m━━━━━━━━━━━━━━━━━━━━\u001b[0m\u001b[37m\u001b[0m \u001b[1m1s\u001b[0m 6ms/step - loss: 5618.9731 - root_mean_squared_error: 74.8983 - val_loss: 7799.2715 - val_root_mean_squared_error: 88.3135\n",
      "Epoch 44/50\n",
      "\u001b[1m80/80\u001b[0m \u001b[32m━━━━━━━━━━━━━━━━━━━━\u001b[0m\u001b[37m\u001b[0m \u001b[1m1s\u001b[0m 6ms/step - loss: 6285.5049 - root_mean_squared_error: 79.0949 - val_loss: 7949.7290 - val_root_mean_squared_error: 89.1613\n",
      "Epoch 45/50\n",
      "\u001b[1m80/80\u001b[0m \u001b[32m━━━━━━━━━━━━━━━━━━━━\u001b[0m\u001b[37m\u001b[0m \u001b[1m1s\u001b[0m 6ms/step - loss: 5312.1265 - root_mean_squared_error: 72.8426 - val_loss: 7431.5103 - val_root_mean_squared_error: 86.2062\n",
      "Epoch 46/50\n",
      "\u001b[1m80/80\u001b[0m \u001b[32m━━━━━━━━━━━━━━━━━━━━\u001b[0m\u001b[37m\u001b[0m \u001b[1m1s\u001b[0m 6ms/step - loss: 4880.0889 - root_mean_squared_error: 69.7149 - val_loss: 7545.3555 - val_root_mean_squared_error: 86.8640\n",
      "Epoch 47/50\n",
      "\u001b[1m80/80\u001b[0m \u001b[32m━━━━━━━━━━━━━━━━━━━━\u001b[0m\u001b[37m\u001b[0m \u001b[1m1s\u001b[0m 6ms/step - loss: 5966.7461 - root_mean_squared_error: 77.0994 - val_loss: 7669.9067 - val_root_mean_squared_error: 87.5780\n",
      "Epoch 48/50\n",
      "\u001b[1m80/80\u001b[0m \u001b[32m━━━━━━━━━━━━━━━━━━━━\u001b[0m\u001b[37m\u001b[0m \u001b[1m1s\u001b[0m 7ms/step - loss: 5398.2500 - root_mean_squared_error: 73.4372 - val_loss: 7699.2524 - val_root_mean_squared_error: 87.7454\n",
      "Epoch 49/50\n",
      "\u001b[1m80/80\u001b[0m \u001b[32m━━━━━━━━━━━━━━━━━━━━\u001b[0m\u001b[37m\u001b[0m \u001b[1m1s\u001b[0m 6ms/step - loss: 5278.5781 - root_mean_squared_error: 72.5156 - val_loss: 7837.7661 - val_root_mean_squared_error: 88.5312\n",
      "Epoch 50/50\n",
      "\u001b[1m80/80\u001b[0m \u001b[32m━━━━━━━━━━━━━━━━━━━━\u001b[0m\u001b[37m\u001b[0m \u001b[1m1s\u001b[0m 6ms/step - loss: 5423.6250 - root_mean_squared_error: 73.4417 - val_loss: 7574.4136 - val_root_mean_squared_error: 87.0311\n"
     ]
    },
    {
     "data": {
      "text/plain": [
       "<keras.src.callbacks.history.History at 0x7ee44e0f5060>"
      ]
     },
     "execution_count": 62,
     "metadata": {},
     "output_type": "execute_result"
    }
   ],
   "source": [
    "model7 = Sequential()\n",
    "model7.add(InputLayer((6, 6)))  # 6 timestamps, 6 features\n",
    "model7.add(BatchNormalization())  # Normalize inputs\n",
    "model7.add(GRU(64, activation='relu', return_sequences=True))  # GRU layer\n",
    "model7.add(Dropout(0.3)) \n",
    "model7.add(Dense(32, activation='relu'))  \n",
    "model7.add(Dense(1, activation='linear'))  \n",
    "\n",
    "cp7 = ModelCheckpoint('/kaggle/working/model7.keras', save_best_only=True)\n",
    "\n",
    "model7.compile(loss=MeanSquaredError(), optimizer=Adam(learning_rate=0.001), \n",
    "               metrics=[RootMeanSquaredError()])\n",
    "\n",
    "model6.fit(X_train1, y_train1, validation_data=(X_val1, y_val1), epochs=50, \n",
    "           callbacks=[cp7])"
   ]
  },
  {
   "cell_type": "code",
   "execution_count": null,
   "id": "0f2618a9",
   "metadata": {
    "papermill": {
     "duration": 0.219425,
     "end_time": "2025-01-27T20:06:46.706942",
     "exception": false,
     "start_time": "2025-01-27T20:06:46.487517",
     "status": "completed"
    },
    "tags": []
   },
   "outputs": [],
   "source": []
  },
  {
   "cell_type": "code",
   "execution_count": null,
   "id": "0c6e2cc5",
   "metadata": {
    "papermill": {
     "duration": 0.214596,
     "end_time": "2025-01-27T20:06:47.136036",
     "exception": false,
     "start_time": "2025-01-27T20:06:46.921440",
     "status": "completed"
    },
    "tags": []
   },
   "outputs": [],
   "source": []
  },
  {
   "cell_type": "code",
   "execution_count": null,
   "id": "aafb26e0",
   "metadata": {
    "papermill": {
     "duration": 0.275965,
     "end_time": "2025-01-27T20:06:47.622306",
     "exception": false,
     "start_time": "2025-01-27T20:06:47.346341",
     "status": "completed"
    },
    "tags": []
   },
   "outputs": [],
   "source": []
  },
  {
   "cell_type": "markdown",
   "id": "639b652f",
   "metadata": {
    "papermill": {
     "duration": 0.214723,
     "end_time": "2025-01-27T20:06:48.054710",
     "exception": false,
     "start_time": "2025-01-27T20:06:47.839987",
     "status": "completed"
    },
    "tags": []
   },
   "source": [
    "## Model 8: Hybrid CNN + LSTM"
   ]
  },
  {
   "cell_type": "code",
   "execution_count": 63,
   "id": "c42cc79f",
   "metadata": {
    "execution": {
     "iopub.execute_input": "2025-01-27T20:06:48.489551Z",
     "iopub.status.busy": "2025-01-27T20:06:48.489131Z",
     "iopub.status.idle": "2025-01-27T20:07:07.879874Z",
     "shell.execute_reply": "2025-01-27T20:07:07.878602Z"
    },
    "papermill": {
     "duration": 19.608743,
     "end_time": "2025-01-27T20:07:07.881797",
     "exception": false,
     "start_time": "2025-01-27T20:06:48.273054",
     "status": "completed"
    },
    "tags": []
   },
   "outputs": [
    {
     "name": "stdout",
     "output_type": "stream",
     "text": [
      "Epoch 1/50\n",
      "\u001b[1m80/80\u001b[0m \u001b[32m━━━━━━━━━━━━━━━━━━━━\u001b[0m\u001b[37m\u001b[0m \u001b[1m3s\u001b[0m 8ms/step - loss: 19235.6289 - root_mean_squared_error: 136.3952 - val_loss: 2208.4917 - val_root_mean_squared_error: 46.9946\n",
      "Epoch 2/50\n",
      "\u001b[1m80/80\u001b[0m \u001b[32m━━━━━━━━━━━━━━━━━━━━\u001b[0m\u001b[37m\u001b[0m \u001b[1m0s\u001b[0m 4ms/step - loss: 3790.8242 - root_mean_squared_error: 61.5038 - val_loss: 1509.3297 - val_root_mean_squared_error: 38.8501\n",
      "Epoch 3/50\n",
      "\u001b[1m80/80\u001b[0m \u001b[32m━━━━━━━━━━━━━━━━━━━━\u001b[0m\u001b[37m\u001b[0m \u001b[1m0s\u001b[0m 4ms/step - loss: 3372.7078 - root_mean_squared_error: 57.8305 - val_loss: 1643.3850 - val_root_mean_squared_error: 40.5387\n",
      "Epoch 4/50\n",
      "\u001b[1m80/80\u001b[0m \u001b[32m━━━━━━━━━━━━━━━━━━━━\u001b[0m\u001b[37m\u001b[0m \u001b[1m0s\u001b[0m 4ms/step - loss: 4721.5591 - root_mean_squared_error: 67.2630 - val_loss: 1614.2570 - val_root_mean_squared_error: 40.1778\n",
      "Epoch 5/50\n",
      "\u001b[1m80/80\u001b[0m \u001b[32m━━━━━━━━━━━━━━━━━━━━\u001b[0m\u001b[37m\u001b[0m \u001b[1m0s\u001b[0m 4ms/step - loss: 3013.3792 - root_mean_squared_error: 54.7178 - val_loss: 1512.1401 - val_root_mean_squared_error: 38.8862\n",
      "Epoch 6/50\n",
      "\u001b[1m80/80\u001b[0m \u001b[32m━━━━━━━━━━━━━━━━━━━━\u001b[0m\u001b[37m\u001b[0m \u001b[1m0s\u001b[0m 4ms/step - loss: 2686.3054 - root_mean_squared_error: 51.6625 - val_loss: 1653.4980 - val_root_mean_squared_error: 40.6632\n",
      "Epoch 7/50\n",
      "\u001b[1m80/80\u001b[0m \u001b[32m━━━━━━━━━━━━━━━━━━━━\u001b[0m\u001b[37m\u001b[0m \u001b[1m0s\u001b[0m 4ms/step - loss: 3078.6179 - root_mean_squared_error: 55.3748 - val_loss: 1347.5518 - val_root_mean_squared_error: 36.7090\n",
      "Epoch 8/50\n",
      "\u001b[1m80/80\u001b[0m \u001b[32m━━━━━━━━━━━━━━━━━━━━\u001b[0m\u001b[37m\u001b[0m \u001b[1m0s\u001b[0m 4ms/step - loss: 3009.7615 - root_mean_squared_error: 54.8050 - val_loss: 1415.0430 - val_root_mean_squared_error: 37.6171\n",
      "Epoch 9/50\n",
      "\u001b[1m80/80\u001b[0m \u001b[32m━━━━━━━━━━━━━━━━━━━━\u001b[0m\u001b[37m\u001b[0m \u001b[1m0s\u001b[0m 4ms/step - loss: 2770.8530 - root_mean_squared_error: 52.4832 - val_loss: 1365.9740 - val_root_mean_squared_error: 36.9591\n",
      "Epoch 10/50\n",
      "\u001b[1m80/80\u001b[0m \u001b[32m━━━━━━━━━━━━━━━━━━━━\u001b[0m\u001b[37m\u001b[0m \u001b[1m0s\u001b[0m 4ms/step - loss: 2977.4937 - root_mean_squared_error: 54.4694 - val_loss: 1541.4844 - val_root_mean_squared_error: 39.2617\n",
      "Epoch 11/50\n",
      "\u001b[1m80/80\u001b[0m \u001b[32m━━━━━━━━━━━━━━━━━━━━\u001b[0m\u001b[37m\u001b[0m \u001b[1m0s\u001b[0m 4ms/step - loss: 3430.9812 - root_mean_squared_error: 58.0732 - val_loss: 2582.8101 - val_root_mean_squared_error: 50.8214\n",
      "Epoch 12/50\n",
      "\u001b[1m80/80\u001b[0m \u001b[32m━━━━━━━━━━━━━━━━━━━━\u001b[0m\u001b[37m\u001b[0m \u001b[1m0s\u001b[0m 5ms/step - loss: 2501.4568 - root_mean_squared_error: 49.8020 - val_loss: 1313.5370 - val_root_mean_squared_error: 36.2428\n",
      "Epoch 13/50\n",
      "\u001b[1m80/80\u001b[0m \u001b[32m━━━━━━━━━━━━━━━━━━━━\u001b[0m\u001b[37m\u001b[0m \u001b[1m0s\u001b[0m 5ms/step - loss: 3014.1406 - root_mean_squared_error: 54.8184 - val_loss: 1292.9730 - val_root_mean_squared_error: 35.9579\n",
      "Epoch 14/50\n",
      "\u001b[1m80/80\u001b[0m \u001b[32m━━━━━━━━━━━━━━━━━━━━\u001b[0m\u001b[37m\u001b[0m \u001b[1m0s\u001b[0m 4ms/step - loss: 2578.5247 - root_mean_squared_error: 50.7628 - val_loss: 1575.8605 - val_root_mean_squared_error: 39.6971\n",
      "Epoch 15/50\n",
      "\u001b[1m80/80\u001b[0m \u001b[32m━━━━━━━━━━━━━━━━━━━━\u001b[0m\u001b[37m\u001b[0m \u001b[1m0s\u001b[0m 4ms/step - loss: 3240.0591 - root_mean_squared_error: 56.6481 - val_loss: 1388.3645 - val_root_mean_squared_error: 37.2608\n",
      "Epoch 16/50\n",
      "\u001b[1m80/80\u001b[0m \u001b[32m━━━━━━━━━━━━━━━━━━━━\u001b[0m\u001b[37m\u001b[0m \u001b[1m0s\u001b[0m 4ms/step - loss: 2912.7542 - root_mean_squared_error: 53.9263 - val_loss: 1664.9674 - val_root_mean_squared_error: 40.8040\n",
      "Epoch 17/50\n",
      "\u001b[1m80/80\u001b[0m \u001b[32m━━━━━━━━━━━━━━━━━━━━\u001b[0m\u001b[37m\u001b[0m \u001b[1m0s\u001b[0m 4ms/step - loss: 3263.4048 - root_mean_squared_error: 56.9686 - val_loss: 2023.8380 - val_root_mean_squared_error: 44.9871\n",
      "Epoch 18/50\n",
      "\u001b[1m80/80\u001b[0m \u001b[32m━━━━━━━━━━━━━━━━━━━━\u001b[0m\u001b[37m\u001b[0m \u001b[1m0s\u001b[0m 4ms/step - loss: 2442.6077 - root_mean_squared_error: 48.9353 - val_loss: 2055.8723 - val_root_mean_squared_error: 45.3417\n",
      "Epoch 19/50\n",
      "\u001b[1m80/80\u001b[0m \u001b[32m━━━━━━━━━━━━━━━━━━━━\u001b[0m\u001b[37m\u001b[0m \u001b[1m0s\u001b[0m 4ms/step - loss: 2893.1111 - root_mean_squared_error: 53.6347 - val_loss: 2384.2759 - val_root_mean_squared_error: 48.8290\n",
      "Epoch 20/50\n",
      "\u001b[1m80/80\u001b[0m \u001b[32m━━━━━━━━━━━━━━━━━━━━\u001b[0m\u001b[37m\u001b[0m \u001b[1m0s\u001b[0m 4ms/step - loss: 2769.2402 - root_mean_squared_error: 52.5305 - val_loss: 2290.2747 - val_root_mean_squared_error: 47.8568\n",
      "Epoch 21/50\n",
      "\u001b[1m80/80\u001b[0m \u001b[32m━━━━━━━━━━━━━━━━━━━━\u001b[0m\u001b[37m\u001b[0m \u001b[1m0s\u001b[0m 4ms/step - loss: 2839.5107 - root_mean_squared_error: 52.8456 - val_loss: 2569.5063 - val_root_mean_squared_error: 50.6903\n",
      "Epoch 22/50\n",
      "\u001b[1m80/80\u001b[0m \u001b[32m━━━━━━━━━━━━━━━━━━━━\u001b[0m\u001b[37m\u001b[0m \u001b[1m0s\u001b[0m 4ms/step - loss: 2531.0027 - root_mean_squared_error: 50.2761 - val_loss: 1808.9205 - val_root_mean_squared_error: 42.5314\n",
      "Epoch 23/50\n",
      "\u001b[1m80/80\u001b[0m \u001b[32m━━━━━━━━━━━━━━━━━━━━\u001b[0m\u001b[37m\u001b[0m \u001b[1m0s\u001b[0m 4ms/step - loss: 3039.6958 - root_mean_squared_error: 55.0374 - val_loss: 2361.6440 - val_root_mean_squared_error: 48.5967\n",
      "Epoch 24/50\n",
      "\u001b[1m80/80\u001b[0m \u001b[32m━━━━━━━━━━━━━━━━━━━━\u001b[0m\u001b[37m\u001b[0m \u001b[1m0s\u001b[0m 4ms/step - loss: 2407.8330 - root_mean_squared_error: 48.9842 - val_loss: 2361.3591 - val_root_mean_squared_error: 48.5938\n",
      "Epoch 25/50\n",
      "\u001b[1m80/80\u001b[0m \u001b[32m━━━━━━━━━━━━━━━━━━━━\u001b[0m\u001b[37m\u001b[0m \u001b[1m0s\u001b[0m 4ms/step - loss: 3104.5227 - root_mean_squared_error: 55.3534 - val_loss: 2963.8271 - val_root_mean_squared_error: 54.4410\n",
      "Epoch 26/50\n",
      "\u001b[1m80/80\u001b[0m \u001b[32m━━━━━━━━━━━━━━━━━━━━\u001b[0m\u001b[37m\u001b[0m \u001b[1m0s\u001b[0m 4ms/step - loss: 2286.5779 - root_mean_squared_error: 47.6928 - val_loss: 2351.4429 - val_root_mean_squared_error: 48.4917\n",
      "Epoch 27/50\n",
      "\u001b[1m80/80\u001b[0m \u001b[32m━━━━━━━━━━━━━━━━━━━━\u001b[0m\u001b[37m\u001b[0m \u001b[1m0s\u001b[0m 4ms/step - loss: 2746.4253 - root_mean_squared_error: 52.1789 - val_loss: 2081.5735 - val_root_mean_squared_error: 45.6243\n",
      "Epoch 28/50\n",
      "\u001b[1m80/80\u001b[0m \u001b[32m━━━━━━━━━━━━━━━━━━━━\u001b[0m\u001b[37m\u001b[0m \u001b[1m0s\u001b[0m 4ms/step - loss: 2369.5691 - root_mean_squared_error: 48.6186 - val_loss: 3294.4517 - val_root_mean_squared_error: 57.3973\n",
      "Epoch 29/50\n",
      "\u001b[1m80/80\u001b[0m \u001b[32m━━━━━━━━━━━━━━━━━━━━\u001b[0m\u001b[37m\u001b[0m \u001b[1m0s\u001b[0m 4ms/step - loss: 2788.3601 - root_mean_squared_error: 52.6915 - val_loss: 4145.5342 - val_root_mean_squared_error: 64.3858\n",
      "Epoch 30/50\n",
      "\u001b[1m80/80\u001b[0m \u001b[32m━━━━━━━━━━━━━━━━━━━━\u001b[0m\u001b[37m\u001b[0m \u001b[1m0s\u001b[0m 4ms/step - loss: 2056.6230 - root_mean_squared_error: 45.1429 - val_loss: 3348.7031 - val_root_mean_squared_error: 57.8680\n",
      "Epoch 31/50\n",
      "\u001b[1m80/80\u001b[0m \u001b[32m━━━━━━━━━━━━━━━━━━━━\u001b[0m\u001b[37m\u001b[0m \u001b[1m0s\u001b[0m 4ms/step - loss: 2374.0916 - root_mean_squared_error: 48.6681 - val_loss: 2691.8711 - val_root_mean_squared_error: 51.8832\n",
      "Epoch 32/50\n",
      "\u001b[1m80/80\u001b[0m \u001b[32m━━━━━━━━━━━━━━━━━━━━\u001b[0m\u001b[37m\u001b[0m \u001b[1m0s\u001b[0m 4ms/step - loss: 2853.2969 - root_mean_squared_error: 53.2601 - val_loss: 2968.0190 - val_root_mean_squared_error: 54.4795\n",
      "Epoch 33/50\n",
      "\u001b[1m80/80\u001b[0m \u001b[32m━━━━━━━━━━━━━━━━━━━━\u001b[0m\u001b[37m\u001b[0m \u001b[1m0s\u001b[0m 4ms/step - loss: 2222.3213 - root_mean_squared_error: 47.0525 - val_loss: 2074.2292 - val_root_mean_squared_error: 45.5437\n",
      "Epoch 34/50\n",
      "\u001b[1m80/80\u001b[0m \u001b[32m━━━━━━━━━━━━━━━━━━━━\u001b[0m\u001b[37m\u001b[0m \u001b[1m0s\u001b[0m 4ms/step - loss: 2725.6877 - root_mean_squared_error: 52.1520 - val_loss: 3744.7751 - val_root_mean_squared_error: 61.1946\n",
      "Epoch 35/50\n",
      "\u001b[1m80/80\u001b[0m \u001b[32m━━━━━━━━━━━━━━━━━━━━\u001b[0m\u001b[37m\u001b[0m \u001b[1m0s\u001b[0m 4ms/step - loss: 2865.2009 - root_mean_squared_error: 53.4719 - val_loss: 2791.8032 - val_root_mean_squared_error: 52.8375\n",
      "Epoch 36/50\n",
      "\u001b[1m80/80\u001b[0m \u001b[32m━━━━━━━━━━━━━━━━━━━━\u001b[0m\u001b[37m\u001b[0m \u001b[1m0s\u001b[0m 4ms/step - loss: 2513.6545 - root_mean_squared_error: 49.8634 - val_loss: 3517.9688 - val_root_mean_squared_error: 59.3125\n",
      "Epoch 37/50\n",
      "\u001b[1m80/80\u001b[0m \u001b[32m━━━━━━━━━━━━━━━━━━━━\u001b[0m\u001b[37m\u001b[0m \u001b[1m0s\u001b[0m 4ms/step - loss: 2450.6687 - root_mean_squared_error: 49.4494 - val_loss: 3487.7964 - val_root_mean_squared_error: 59.0576\n",
      "Epoch 38/50\n",
      "\u001b[1m80/80\u001b[0m \u001b[32m━━━━━━━━━━━━━━━━━━━━\u001b[0m\u001b[37m\u001b[0m \u001b[1m0s\u001b[0m 4ms/step - loss: 2296.3474 - root_mean_squared_error: 47.6337 - val_loss: 4012.3186 - val_root_mean_squared_error: 63.3429\n",
      "Epoch 39/50\n",
      "\u001b[1m80/80\u001b[0m \u001b[32m━━━━━━━━━━━━━━━━━━━━\u001b[0m\u001b[37m\u001b[0m \u001b[1m0s\u001b[0m 4ms/step - loss: 2366.0610 - root_mean_squared_error: 48.4969 - val_loss: 3231.1526 - val_root_mean_squared_error: 56.8432\n",
      "Epoch 40/50\n",
      "\u001b[1m80/80\u001b[0m \u001b[32m━━━━━━━━━━━━━━━━━━━━\u001b[0m\u001b[37m\u001b[0m \u001b[1m0s\u001b[0m 4ms/step - loss: 2147.7644 - root_mean_squared_error: 46.1551 - val_loss: 3263.9116 - val_root_mean_squared_error: 57.1307\n",
      "Epoch 41/50\n",
      "\u001b[1m80/80\u001b[0m \u001b[32m━━━━━━━━━━━━━━━━━━━━\u001b[0m\u001b[37m\u001b[0m \u001b[1m0s\u001b[0m 4ms/step - loss: 3100.6562 - root_mean_squared_error: 55.2280 - val_loss: 3566.6458 - val_root_mean_squared_error: 59.7214\n",
      "Epoch 42/50\n",
      "\u001b[1m80/80\u001b[0m \u001b[32m━━━━━━━━━━━━━━━━━━━━\u001b[0m\u001b[37m\u001b[0m \u001b[1m0s\u001b[0m 4ms/step - loss: 2326.6794 - root_mean_squared_error: 48.1040 - val_loss: 4373.5977 - val_root_mean_squared_error: 66.1332\n",
      "Epoch 43/50\n",
      "\u001b[1m80/80\u001b[0m \u001b[32m━━━━━━━━━━━━━━━━━━━━\u001b[0m\u001b[37m\u001b[0m \u001b[1m0s\u001b[0m 4ms/step - loss: 2046.0759 - root_mean_squared_error: 45.1951 - val_loss: 2215.7239 - val_root_mean_squared_error: 47.0715\n",
      "Epoch 44/50\n",
      "\u001b[1m80/80\u001b[0m \u001b[32m━━━━━━━━━━━━━━━━━━━━\u001b[0m\u001b[37m\u001b[0m \u001b[1m0s\u001b[0m 4ms/step - loss: 2430.9304 - root_mean_squared_error: 49.1054 - val_loss: 3761.8794 - val_root_mean_squared_error: 61.3342\n",
      "Epoch 45/50\n",
      "\u001b[1m80/80\u001b[0m \u001b[32m━━━━━━━━━━━━━━━━━━━━\u001b[0m\u001b[37m\u001b[0m \u001b[1m0s\u001b[0m 4ms/step - loss: 2271.6289 - root_mean_squared_error: 47.5117 - val_loss: 3690.8140 - val_root_mean_squared_error: 60.7521\n",
      "Epoch 46/50\n",
      "\u001b[1m80/80\u001b[0m \u001b[32m━━━━━━━━━━━━━━━━━━━━\u001b[0m\u001b[37m\u001b[0m \u001b[1m0s\u001b[0m 4ms/step - loss: 2102.3550 - root_mean_squared_error: 45.7957 - val_loss: 2345.6943 - val_root_mean_squared_error: 48.4324\n",
      "Epoch 47/50\n",
      "\u001b[1m80/80\u001b[0m \u001b[32m━━━━━━━━━━━━━━━━━━━━\u001b[0m\u001b[37m\u001b[0m \u001b[1m0s\u001b[0m 4ms/step - loss: 2748.9126 - root_mean_squared_error: 52.2873 - val_loss: 3736.2612 - val_root_mean_squared_error: 61.1250\n",
      "Epoch 48/50\n",
      "\u001b[1m80/80\u001b[0m \u001b[32m━━━━━━━━━━━━━━━━━━━━\u001b[0m\u001b[37m\u001b[0m \u001b[1m0s\u001b[0m 4ms/step - loss: 2180.4941 - root_mean_squared_error: 46.5180 - val_loss: 4531.5537 - val_root_mean_squared_error: 67.3168\n",
      "Epoch 49/50\n",
      "\u001b[1m80/80\u001b[0m \u001b[32m━━━━━━━━━━━━━━━━━━━━\u001b[0m\u001b[37m\u001b[0m \u001b[1m0s\u001b[0m 4ms/step - loss: 2503.6677 - root_mean_squared_error: 49.9734 - val_loss: 4113.9683 - val_root_mean_squared_error: 64.1402\n",
      "Epoch 50/50\n",
      "\u001b[1m80/80\u001b[0m \u001b[32m━━━━━━━━━━━━━━━━━━━━\u001b[0m\u001b[37m\u001b[0m \u001b[1m0s\u001b[0m 4ms/step - loss: 2699.7771 - root_mean_squared_error: 51.4939 - val_loss: 3983.8982 - val_root_mean_squared_error: 63.1181\n"
     ]
    },
    {
     "data": {
      "text/plain": [
       "<keras.src.callbacks.history.History at 0x7ee44f579750>"
      ]
     },
     "execution_count": 63,
     "metadata": {},
     "output_type": "execute_result"
    }
   ],
   "source": [
    "model8 = Sequential()\n",
    "model8.add(InputLayer((6, 6)))  # 6 timestamps, 6 features\n",
    "model8.add(Conv1D(32, kernel_size=2, activation='relu'))  # 1D Convolutional Layer\n",
    "model8.add(MaxPooling1D(pool_size=2))  # Max Pooling\n",
    "model8.add(LSTM(64, activation='relu', return_sequences=False))  \n",
    "model8.add(Dropout(0.3))  \n",
    "model8.add(Dense(32, activation='relu'))  \n",
    "model8.add(Dense(1, activation='linear'))  \n",
    "\n",
    "cp8 = ModelCheckpoint('/kaggle/working/model8.keras', save_best_only=True)\n",
    "\n",
    "model8.compile(loss=MeanSquaredError(), optimizer=Adam(learning_rate=0.001), \n",
    "               metrics=[RootMeanSquaredError()])\n",
    "\n",
    "model8.fit(X_train1, y_train1, validation_data=(X_val1, y_val1), epochs=50, \n",
    "           callbacks=[cp8])"
   ]
  },
  {
   "cell_type": "code",
   "execution_count": 64,
   "id": "e98bb23e",
   "metadata": {
    "execution": {
     "iopub.execute_input": "2025-01-27T20:07:08.431689Z",
     "iopub.status.busy": "2025-01-27T20:07:08.431175Z",
     "iopub.status.idle": "2025-01-27T20:07:08.584119Z",
     "shell.execute_reply": "2025-01-27T20:07:08.582752Z"
    },
    "papermill": {
     "duration": 0.463235,
     "end_time": "2025-01-27T20:07:08.586255",
     "exception": false,
     "start_time": "2025-01-27T20:07:08.123020",
     "status": "completed"
    },
    "tags": []
   },
   "outputs": [],
   "source": [
    "from tensorflow.keras.models import load_model\n",
    "model8 = load_model('/kaggle/working/model8.keras')"
   ]
  },
  {
   "cell_type": "code",
   "execution_count": 65,
   "id": "5c5b385b",
   "metadata": {
    "execution": {
     "iopub.execute_input": "2025-01-27T20:07:09.072380Z",
     "iopub.status.busy": "2025-01-27T20:07:09.072046Z",
     "iopub.status.idle": "2025-01-27T20:07:09.652630Z",
     "shell.execute_reply": "2025-01-27T20:07:09.651262Z"
    },
    "papermill": {
     "duration": 0.821887,
     "end_time": "2025-01-27T20:07:09.654578",
     "exception": false,
     "start_time": "2025-01-27T20:07:08.832691",
     "status": "completed"
    },
    "tags": []
   },
   "outputs": [
    {
     "name": "stdout",
     "output_type": "stream",
     "text": [
      "\u001b[1m80/80\u001b[0m \u001b[32m━━━━━━━━━━━━━━━━━━━━\u001b[0m\u001b[37m\u001b[0m \u001b[1m0s\u001b[0m 4ms/step\n",
      "Evaluation Metrics:\n",
      "Mean Absolute Error (MAE): 26.0504\n",
      "Mean Squared Error (MSE): 2392.0836\n",
      "Root Mean Squared Error (RMSE): 48.9089\n",
      "R-squared (Accuracy): 0.5368\n"
     ]
    }
   ],
   "source": [
    "# Evaluate the model on the train data\n",
    "train_result = model8.predict(X_train1)\n",
    "\n",
    "# Calculate metrics\n",
    "mse = mean_squared_error(y_train1, train_result)\n",
    "rmse = np.sqrt(mse)\n",
    "mae = mean_absolute_error(y_train1, train_result)\n",
    "r2 = r2_score(y_train1, train_result)\n",
    "\n",
    "# Print the results\n",
    "print(\"Evaluation Metrics:\")\n",
    "print(f\"Mean Absolute Error (MAE): {mae:.4f}\")\n",
    "print(f\"Mean Squared Error (MSE): {mse:.4f}\")\n",
    "print(f\"Root Mean Squared Error (RMSE): {rmse:.4f}\")\n",
    "print(f\"R-squared (Accuracy): {r2:.4f}\")"
   ]
  },
  {
   "cell_type": "code",
   "execution_count": 66,
   "id": "325f11ad",
   "metadata": {
    "execution": {
     "iopub.execute_input": "2025-01-27T20:07:10.139052Z",
     "iopub.status.busy": "2025-01-27T20:07:10.138672Z",
     "iopub.status.idle": "2025-01-27T20:07:10.236831Z",
     "shell.execute_reply": "2025-01-27T20:07:10.235643Z"
    },
    "papermill": {
     "duration": 0.34218,
     "end_time": "2025-01-27T20:07:10.238462",
     "exception": false,
     "start_time": "2025-01-27T20:07:09.896282",
     "status": "completed"
    },
    "tags": []
   },
   "outputs": [
    {
     "name": "stdout",
     "output_type": "stream",
     "text": [
      "\u001b[1m10/10\u001b[0m \u001b[32m━━━━━━━━━━━━━━━━━━━━\u001b[0m\u001b[37m\u001b[0m \u001b[1m0s\u001b[0m 2ms/step \n",
      "Evaluation Metrics:\n",
      "Mean Absolute Error (MAE): 26.7656\n",
      "Mean Squared Error (MSE): 1292.9731\n",
      "Root Mean Squared Error (RMSE): 35.9579\n",
      "R-squared (Accuracy): 0.8262\n"
     ]
    }
   ],
   "source": [
    "# Evaluate the model on the validation data\n",
    "val_result = model8.predict(X_val1)\n",
    "\n",
    "# Calculate metrics\n",
    "mse = mean_squared_error(y_val1, val_result)\n",
    "rmse = np.sqrt(mse)\n",
    "mae = mean_absolute_error(y_val1, val_result)\n",
    "r2 = r2_score(y_val1, val_result)\n",
    "\n",
    "# Print the results\n",
    "print(\"Evaluation Metrics:\")\n",
    "print(f\"Mean Absolute Error (MAE): {mae:.4f}\")\n",
    "print(f\"Mean Squared Error (MSE): {mse:.4f}\")\n",
    "print(f\"Root Mean Squared Error (RMSE): {rmse:.4f}\")\n",
    "print(f\"R-squared (Accuracy): {r2:.4f}\")"
   ]
  },
  {
   "cell_type": "code",
   "execution_count": 67,
   "id": "9c7d9594",
   "metadata": {
    "execution": {
     "iopub.execute_input": "2025-01-27T20:07:10.779556Z",
     "iopub.status.busy": "2025-01-27T20:07:10.779169Z",
     "iopub.status.idle": "2025-01-27T20:07:10.882041Z",
     "shell.execute_reply": "2025-01-27T20:07:10.880853Z"
    },
    "papermill": {
     "duration": 0.34613,
     "end_time": "2025-01-27T20:07:10.883833",
     "exception": false,
     "start_time": "2025-01-27T20:07:10.537703",
     "status": "completed"
    },
    "tags": []
   },
   "outputs": [
    {
     "name": "stdout",
     "output_type": "stream",
     "text": [
      "\u001b[1m10/10\u001b[0m \u001b[32m━━━━━━━━━━━━━━━━━━━━\u001b[0m\u001b[37m\u001b[0m \u001b[1m0s\u001b[0m 2ms/step \n",
      "Evaluation Metrics:\n",
      "Mean Absolute Error (MAE): 25.4069\n",
      "Mean Squared Error (MSE): 1354.1258\n",
      "Root Mean Squared Error (RMSE): 36.7984\n",
      "R-squared (Accuracy): 0.5902\n"
     ]
    }
   ],
   "source": [
    "# Evaluate the model on the test data\n",
    "test_result = model8.predict(X_test1)\n",
    "\n",
    "# Calculate metrics\n",
    "mse = mean_squared_error(y_test1, test_result)\n",
    "rmse = np.sqrt(mse)\n",
    "mae = mean_absolute_error(y_test1, test_result)\n",
    "r2 = r2_score(y_test1, test_result)\n",
    "\n",
    "# Print the results\n",
    "print(\"Evaluation Metrics:\")\n",
    "print(f\"Mean Absolute Error (MAE): {mae:.4f}\")\n",
    "print(f\"Mean Squared Error (MSE): {mse:.4f}\")\n",
    "print(f\"Root Mean Squared Error (RMSE): {rmse:.4f}\")\n",
    "print(f\"R-squared (Accuracy): {r2:.4f}\")"
   ]
  },
  {
   "cell_type": "code",
   "execution_count": null,
   "id": "d5117545",
   "metadata": {
    "papermill": {
     "duration": 0.235457,
     "end_time": "2025-01-27T20:07:11.356187",
     "exception": false,
     "start_time": "2025-01-27T20:07:11.120730",
     "status": "completed"
    },
    "tags": []
   },
   "outputs": [],
   "source": []
  },
  {
   "cell_type": "code",
   "execution_count": null,
   "id": "3f639eb2",
   "metadata": {
    "papermill": {
     "duration": 0.241467,
     "end_time": "2025-01-27T20:07:11.833453",
     "exception": false,
     "start_time": "2025-01-27T20:07:11.591986",
     "status": "completed"
    },
    "tags": []
   },
   "outputs": [],
   "source": []
  },
  {
   "cell_type": "markdown",
   "id": "2ce5c9d5",
   "metadata": {
    "papermill": {
     "duration": 0.229798,
     "end_time": "2025-01-27T20:07:12.363197",
     "exception": false,
     "start_time": "2025-01-27T20:07:12.133399",
     "status": "completed"
    },
    "tags": []
   },
   "source": [
    "## Model 9: Advanced Stacked GRU + Dense"
   ]
  },
  {
   "cell_type": "code",
   "execution_count": 68,
   "id": "193e4461",
   "metadata": {
    "execution": {
     "iopub.execute_input": "2025-01-27T20:07:12.834392Z",
     "iopub.status.busy": "2025-01-27T20:07:12.834068Z",
     "iopub.status.idle": "2025-01-27T20:08:08.061867Z",
     "shell.execute_reply": "2025-01-27T20:08:08.060647Z"
    },
    "papermill": {
     "duration": 55.464747,
     "end_time": "2025-01-27T20:08:08.063842",
     "exception": false,
     "start_time": "2025-01-27T20:07:12.599095",
     "status": "completed"
    },
    "tags": []
   },
   "outputs": [
    {
     "name": "stdout",
     "output_type": "stream",
     "text": [
      "Epoch 1/50\n",
      "\u001b[1m80/80\u001b[0m \u001b[32m━━━━━━━━━━━━━━━━━━━━\u001b[0m\u001b[37m\u001b[0m \u001b[1m6s\u001b[0m 18ms/step - loss: 22017.4316 - root_mean_squared_error: 146.8064 - val_loss: 2522.8403 - val_root_mean_squared_error: 50.2279\n",
      "Epoch 2/50\n",
      "\u001b[1m80/80\u001b[0m \u001b[32m━━━━━━━━━━━━━━━━━━━━\u001b[0m\u001b[37m\u001b[0m \u001b[1m1s\u001b[0m 12ms/step - loss: 2432.7490 - root_mean_squared_error: 49.2795 - val_loss: 1345.9034 - val_root_mean_squared_error: 36.6866\n",
      "Epoch 3/50\n",
      "\u001b[1m80/80\u001b[0m \u001b[32m━━━━━━━━━━━━━━━━━━━━\u001b[0m\u001b[37m\u001b[0m \u001b[1m1s\u001b[0m 13ms/step - loss: 2669.7822 - root_mean_squared_error: 51.5689 - val_loss: 1324.4277 - val_root_mean_squared_error: 36.3927\n",
      "Epoch 4/50\n",
      "\u001b[1m80/80\u001b[0m \u001b[32m━━━━━━━━━━━━━━━━━━━━\u001b[0m\u001b[37m\u001b[0m \u001b[1m1s\u001b[0m 13ms/step - loss: 2154.3364 - root_mean_squared_error: 45.9776 - val_loss: 1057.6637 - val_root_mean_squared_error: 32.5217\n",
      "Epoch 5/50\n",
      "\u001b[1m80/80\u001b[0m \u001b[32m━━━━━━━━━━━━━━━━━━━━\u001b[0m\u001b[37m\u001b[0m \u001b[1m1s\u001b[0m 12ms/step - loss: 2362.3853 - root_mean_squared_error: 48.4443 - val_loss: 1201.3478 - val_root_mean_squared_error: 34.6605\n",
      "Epoch 6/50\n",
      "\u001b[1m80/80\u001b[0m \u001b[32m━━━━━━━━━━━━━━━━━━━━\u001b[0m\u001b[37m\u001b[0m \u001b[1m1s\u001b[0m 12ms/step - loss: 2358.1458 - root_mean_squared_error: 48.3422 - val_loss: 1251.1982 - val_root_mean_squared_error: 35.3723\n",
      "Epoch 7/50\n",
      "\u001b[1m80/80\u001b[0m \u001b[32m━━━━━━━━━━━━━━━━━━━━\u001b[0m\u001b[37m\u001b[0m \u001b[1m1s\u001b[0m 13ms/step - loss: 2326.5310 - root_mean_squared_error: 48.0131 - val_loss: 1011.2213 - val_root_mean_squared_error: 31.7997\n",
      "Epoch 8/50\n",
      "\u001b[1m80/80\u001b[0m \u001b[32m━━━━━━━━━━━━━━━━━━━━\u001b[0m\u001b[37m\u001b[0m \u001b[1m1s\u001b[0m 13ms/step - loss: 2302.5115 - root_mean_squared_error: 47.8017 - val_loss: 919.8304 - val_root_mean_squared_error: 30.3287\n",
      "Epoch 9/50\n",
      "\u001b[1m80/80\u001b[0m \u001b[32m━━━━━━━━━━━━━━━━━━━━\u001b[0m\u001b[37m\u001b[0m \u001b[1m1s\u001b[0m 14ms/step - loss: 1434.5602 - root_mean_squared_error: 37.6083 - val_loss: 1047.6641 - val_root_mean_squared_error: 32.3676\n",
      "Epoch 10/50\n",
      "\u001b[1m80/80\u001b[0m \u001b[32m━━━━━━━━━━━━━━━━━━━━\u001b[0m\u001b[37m\u001b[0m \u001b[1m1s\u001b[0m 13ms/step - loss: 1782.8835 - root_mean_squared_error: 42.1869 - val_loss: 897.9410 - val_root_mean_squared_error: 29.9657\n",
      "Epoch 11/50\n",
      "\u001b[1m80/80\u001b[0m \u001b[32m━━━━━━━━━━━━━━━━━━━━\u001b[0m\u001b[37m\u001b[0m \u001b[1m1s\u001b[0m 12ms/step - loss: 1525.5729 - root_mean_squared_error: 38.7645 - val_loss: 948.6383 - val_root_mean_squared_error: 30.8000\n",
      "Epoch 12/50\n",
      "\u001b[1m80/80\u001b[0m \u001b[32m━━━━━━━━━━━━━━━━━━━━\u001b[0m\u001b[37m\u001b[0m \u001b[1m1s\u001b[0m 12ms/step - loss: 1789.3141 - root_mean_squared_error: 42.2342 - val_loss: 1194.3539 - val_root_mean_squared_error: 34.5594\n",
      "Epoch 13/50\n",
      "\u001b[1m80/80\u001b[0m \u001b[32m━━━━━━━━━━━━━━━━━━━━\u001b[0m\u001b[37m\u001b[0m \u001b[1m1s\u001b[0m 12ms/step - loss: 2258.4099 - root_mean_squared_error: 47.1530 - val_loss: 841.8902 - val_root_mean_squared_error: 29.0153\n",
      "Epoch 14/50\n",
      "\u001b[1m80/80\u001b[0m \u001b[32m━━━━━━━━━━━━━━━━━━━━\u001b[0m\u001b[37m\u001b[0m \u001b[1m1s\u001b[0m 12ms/step - loss: 1971.6516 - root_mean_squared_error: 44.1629 - val_loss: 834.3991 - val_root_mean_squared_error: 28.8860\n",
      "Epoch 15/50\n",
      "\u001b[1m80/80\u001b[0m \u001b[32m━━━━━━━━━━━━━━━━━━━━\u001b[0m\u001b[37m\u001b[0m \u001b[1m1s\u001b[0m 12ms/step - loss: 1903.7341 - root_mean_squared_error: 43.5864 - val_loss: 889.6237 - val_root_mean_squared_error: 29.8266\n",
      "Epoch 16/50\n",
      "\u001b[1m80/80\u001b[0m \u001b[32m━━━━━━━━━━━━━━━━━━━━\u001b[0m\u001b[37m\u001b[0m \u001b[1m1s\u001b[0m 12ms/step - loss: 1350.8174 - root_mean_squared_error: 36.6458 - val_loss: 970.2812 - val_root_mean_squared_error: 31.1493\n",
      "Epoch 17/50\n",
      "\u001b[1m80/80\u001b[0m \u001b[32m━━━━━━━━━━━━━━━━━━━━\u001b[0m\u001b[37m\u001b[0m \u001b[1m1s\u001b[0m 12ms/step - loss: 1602.0519 - root_mean_squared_error: 39.9851 - val_loss: 1540.2191 - val_root_mean_squared_error: 39.2456\n",
      "Epoch 18/50\n",
      "\u001b[1m80/80\u001b[0m \u001b[32m━━━━━━━━━━━━━━━━━━━━\u001b[0m\u001b[37m\u001b[0m \u001b[1m1s\u001b[0m 12ms/step - loss: 1676.2107 - root_mean_squared_error: 40.8164 - val_loss: 779.4857 - val_root_mean_squared_error: 27.9193\n",
      "Epoch 19/50\n",
      "\u001b[1m80/80\u001b[0m \u001b[32m━━━━━━━━━━━━━━━━━━━━\u001b[0m\u001b[37m\u001b[0m \u001b[1m1s\u001b[0m 12ms/step - loss: 1742.2006 - root_mean_squared_error: 41.4847 - val_loss: 1541.1313 - val_root_mean_squared_error: 39.2572\n",
      "Epoch 20/50\n",
      "\u001b[1m80/80\u001b[0m \u001b[32m━━━━━━━━━━━━━━━━━━━━\u001b[0m\u001b[37m\u001b[0m \u001b[1m1s\u001b[0m 12ms/step - loss: 1791.8672 - root_mean_squared_error: 42.2969 - val_loss: 1206.8816 - val_root_mean_squared_error: 34.7402\n",
      "Epoch 21/50\n",
      "\u001b[1m80/80\u001b[0m \u001b[32m━━━━━━━━━━━━━━━━━━━━\u001b[0m\u001b[37m\u001b[0m \u001b[1m1s\u001b[0m 12ms/step - loss: 1632.4988 - root_mean_squared_error: 40.3736 - val_loss: 835.2858 - val_root_mean_squared_error: 28.9013\n",
      "Epoch 22/50\n",
      "\u001b[1m80/80\u001b[0m \u001b[32m━━━━━━━━━━━━━━━━━━━━\u001b[0m\u001b[37m\u001b[0m \u001b[1m1s\u001b[0m 12ms/step - loss: 1991.9072 - root_mean_squared_error: 44.4931 - val_loss: 859.9229 - val_root_mean_squared_error: 29.3244\n",
      "Epoch 23/50\n",
      "\u001b[1m80/80\u001b[0m \u001b[32m━━━━━━━━━━━━━━━━━━━━\u001b[0m\u001b[37m\u001b[0m \u001b[1m1s\u001b[0m 12ms/step - loss: 1581.3746 - root_mean_squared_error: 39.5317 - val_loss: 917.8987 - val_root_mean_squared_error: 30.2968\n",
      "Epoch 24/50\n",
      "\u001b[1m80/80\u001b[0m \u001b[32m━━━━━━━━━━━━━━━━━━━━\u001b[0m\u001b[37m\u001b[0m \u001b[1m1s\u001b[0m 12ms/step - loss: 1614.4055 - root_mean_squared_error: 40.0237 - val_loss: 931.6217 - val_root_mean_squared_error: 30.5225\n",
      "Epoch 25/50\n",
      "\u001b[1m80/80\u001b[0m \u001b[32m━━━━━━━━━━━━━━━━━━━━\u001b[0m\u001b[37m\u001b[0m \u001b[1m1s\u001b[0m 12ms/step - loss: 1475.7706 - root_mean_squared_error: 38.2573 - val_loss: 839.4545 - val_root_mean_squared_error: 28.9733\n",
      "Epoch 26/50\n",
      "\u001b[1m80/80\u001b[0m \u001b[32m━━━━━━━━━━━━━━━━━━━━\u001b[0m\u001b[37m\u001b[0m \u001b[1m1s\u001b[0m 12ms/step - loss: 1746.4867 - root_mean_squared_error: 41.7180 - val_loss: 1041.2677 - val_root_mean_squared_error: 32.2687\n",
      "Epoch 27/50\n",
      "\u001b[1m80/80\u001b[0m \u001b[32m━━━━━━━━━━━━━━━━━━━━\u001b[0m\u001b[37m\u001b[0m \u001b[1m1s\u001b[0m 12ms/step - loss: 1536.7834 - root_mean_squared_error: 39.0663 - val_loss: 1023.7348 - val_root_mean_squared_error: 31.9959\n",
      "Epoch 28/50\n",
      "\u001b[1m80/80\u001b[0m \u001b[32m━━━━━━━━━━━━━━━━━━━━\u001b[0m\u001b[37m\u001b[0m \u001b[1m1s\u001b[0m 12ms/step - loss: 1723.3956 - root_mean_squared_error: 41.3430 - val_loss: 849.3598 - val_root_mean_squared_error: 29.1438\n",
      "Epoch 29/50\n",
      "\u001b[1m80/80\u001b[0m \u001b[32m━━━━━━━━━━━━━━━━━━━━\u001b[0m\u001b[37m\u001b[0m \u001b[1m1s\u001b[0m 12ms/step - loss: 1965.1404 - root_mean_squared_error: 44.0877 - val_loss: 1067.7323 - val_root_mean_squared_error: 32.6762\n",
      "Epoch 30/50\n",
      "\u001b[1m80/80\u001b[0m \u001b[32m━━━━━━━━━━━━━━━━━━━━\u001b[0m\u001b[37m\u001b[0m \u001b[1m1s\u001b[0m 12ms/step - loss: 1568.9756 - root_mean_squared_error: 39.4450 - val_loss: 1119.9464 - val_root_mean_squared_error: 33.4656\n",
      "Epoch 31/50\n",
      "\u001b[1m80/80\u001b[0m \u001b[32m━━━━━━━━━━━━━━━━━━━━\u001b[0m\u001b[37m\u001b[0m \u001b[1m1s\u001b[0m 12ms/step - loss: 2043.8475 - root_mean_squared_error: 44.7294 - val_loss: 817.0561 - val_root_mean_squared_error: 28.5842\n",
      "Epoch 32/50\n",
      "\u001b[1m80/80\u001b[0m \u001b[32m━━━━━━━━━━━━━━━━━━━━\u001b[0m\u001b[37m\u001b[0m \u001b[1m1s\u001b[0m 12ms/step - loss: 1531.8593 - root_mean_squared_error: 39.1019 - val_loss: 933.5743 - val_root_mean_squared_error: 30.5544\n",
      "Epoch 33/50\n",
      "\u001b[1m80/80\u001b[0m \u001b[32m━━━━━━━━━━━━━━━━━━━━\u001b[0m\u001b[37m\u001b[0m \u001b[1m1s\u001b[0m 12ms/step - loss: 1590.4570 - root_mean_squared_error: 39.7870 - val_loss: 985.2927 - val_root_mean_squared_error: 31.3894\n",
      "Epoch 34/50\n",
      "\u001b[1m80/80\u001b[0m \u001b[32m━━━━━━━━━━━━━━━━━━━━\u001b[0m\u001b[37m\u001b[0m \u001b[1m1s\u001b[0m 12ms/step - loss: 1773.0981 - root_mean_squared_error: 41.8949 - val_loss: 797.7991 - val_root_mean_squared_error: 28.2453\n",
      "Epoch 35/50\n",
      "\u001b[1m80/80\u001b[0m \u001b[32m━━━━━━━━━━━━━━━━━━━━\u001b[0m\u001b[37m\u001b[0m \u001b[1m1s\u001b[0m 12ms/step - loss: 1236.2195 - root_mean_squared_error: 34.9121 - val_loss: 810.9207 - val_root_mean_squared_error: 28.4767\n",
      "Epoch 36/50\n",
      "\u001b[1m80/80\u001b[0m \u001b[32m━━━━━━━━━━━━━━━━━━━━\u001b[0m\u001b[37m\u001b[0m \u001b[1m1s\u001b[0m 12ms/step - loss: 1538.7377 - root_mean_squared_error: 38.9314 - val_loss: 813.1233 - val_root_mean_squared_error: 28.5153\n",
      "Epoch 37/50\n",
      "\u001b[1m80/80\u001b[0m \u001b[32m━━━━━━━━━━━━━━━━━━━━\u001b[0m\u001b[37m\u001b[0m \u001b[1m1s\u001b[0m 12ms/step - loss: 1586.2733 - root_mean_squared_error: 39.7593 - val_loss: 785.4894 - val_root_mean_squared_error: 28.0266\n",
      "Epoch 38/50\n",
      "\u001b[1m80/80\u001b[0m \u001b[32m━━━━━━━━━━━━━━━━━━━━\u001b[0m\u001b[37m\u001b[0m \u001b[1m1s\u001b[0m 12ms/step - loss: 2259.3054 - root_mean_squared_error: 46.9018 - val_loss: 844.4661 - val_root_mean_squared_error: 29.0597\n",
      "Epoch 39/50\n",
      "\u001b[1m80/80\u001b[0m \u001b[32m━━━━━━━━━━━━━━━━━━━━\u001b[0m\u001b[37m\u001b[0m \u001b[1m1s\u001b[0m 12ms/step - loss: 1641.9387 - root_mean_squared_error: 40.3062 - val_loss: 1233.0792 - val_root_mean_squared_error: 35.1152\n",
      "Epoch 40/50\n",
      "\u001b[1m80/80\u001b[0m \u001b[32m━━━━━━━━━━━━━━━━━━━━\u001b[0m\u001b[37m\u001b[0m \u001b[1m1s\u001b[0m 12ms/step - loss: 1460.6799 - root_mean_squared_error: 38.0038 - val_loss: 902.1584 - val_root_mean_squared_error: 30.0360\n",
      "Epoch 41/50\n",
      "\u001b[1m80/80\u001b[0m \u001b[32m━━━━━━━━━━━━━━━━━━━━\u001b[0m\u001b[37m\u001b[0m \u001b[1m1s\u001b[0m 13ms/step - loss: 1260.5730 - root_mean_squared_error: 35.3228 - val_loss: 890.2921 - val_root_mean_squared_error: 29.8378\n",
      "Epoch 42/50\n",
      "\u001b[1m80/80\u001b[0m \u001b[32m━━━━━━━━━━━━━━━━━━━━\u001b[0m\u001b[37m\u001b[0m \u001b[1m1s\u001b[0m 13ms/step - loss: 1595.7988 - root_mean_squared_error: 39.7852 - val_loss: 903.8348 - val_root_mean_squared_error: 30.0638\n",
      "Epoch 43/50\n",
      "\u001b[1m80/80\u001b[0m \u001b[32m━━━━━━━━━━━━━━━━━━━━\u001b[0m\u001b[37m\u001b[0m \u001b[1m1s\u001b[0m 13ms/step - loss: 1327.8313 - root_mean_squared_error: 36.3087 - val_loss: 876.7918 - val_root_mean_squared_error: 29.6107\n",
      "Epoch 44/50\n",
      "\u001b[1m80/80\u001b[0m \u001b[32m━━━━━━━━━━━━━━━━━━━━\u001b[0m\u001b[37m\u001b[0m \u001b[1m1s\u001b[0m 12ms/step - loss: 1558.8981 - root_mean_squared_error: 39.4496 - val_loss: 885.7263 - val_root_mean_squared_error: 29.7612\n",
      "Epoch 45/50\n",
      "\u001b[1m80/80\u001b[0m \u001b[32m━━━━━━━━━━━━━━━━━━━━\u001b[0m\u001b[37m\u001b[0m \u001b[1m1s\u001b[0m 12ms/step - loss: 1227.9974 - root_mean_squared_error: 34.9221 - val_loss: 848.8934 - val_root_mean_squared_error: 29.1358\n",
      "Epoch 46/50\n",
      "\u001b[1m80/80\u001b[0m \u001b[32m━━━━━━━━━━━━━━━━━━━━\u001b[0m\u001b[37m\u001b[0m \u001b[1m1s\u001b[0m 12ms/step - loss: 1493.6127 - root_mean_squared_error: 38.5555 - val_loss: 1220.6757 - val_root_mean_squared_error: 34.9382\n",
      "Epoch 47/50\n",
      "\u001b[1m80/80\u001b[0m \u001b[32m━━━━━━━━━━━━━━━━━━━━\u001b[0m\u001b[37m\u001b[0m \u001b[1m1s\u001b[0m 12ms/step - loss: 1354.4561 - root_mean_squared_error: 36.6959 - val_loss: 972.4928 - val_root_mean_squared_error: 31.1848\n",
      "Epoch 48/50\n",
      "\u001b[1m80/80\u001b[0m \u001b[32m━━━━━━━━━━━━━━━━━━━━\u001b[0m\u001b[37m\u001b[0m \u001b[1m1s\u001b[0m 12ms/step - loss: 1562.3616 - root_mean_squared_error: 39.4660 - val_loss: 846.8202 - val_root_mean_squared_error: 29.1002\n",
      "Epoch 49/50\n",
      "\u001b[1m80/80\u001b[0m \u001b[32m━━━━━━━━━━━━━━━━━━━━\u001b[0m\u001b[37m\u001b[0m \u001b[1m1s\u001b[0m 12ms/step - loss: 1418.4974 - root_mean_squared_error: 37.4768 - val_loss: 946.2698 - val_root_mean_squared_error: 30.7615\n",
      "Epoch 50/50\n",
      "\u001b[1m80/80\u001b[0m \u001b[32m━━━━━━━━━━━━━━━━━━━━\u001b[0m\u001b[37m\u001b[0m \u001b[1m1s\u001b[0m 12ms/step - loss: 1248.4933 - root_mean_squared_error: 35.2734 - val_loss: 994.2558 - val_root_mean_squared_error: 31.5318\n"
     ]
    },
    {
     "data": {
      "text/plain": [
       "<keras.src.callbacks.history.History at 0x7ee44e728b50>"
      ]
     },
     "execution_count": 68,
     "metadata": {},
     "output_type": "execute_result"
    }
   ],
   "source": [
    "model9 = Sequential()\n",
    "model9.add(InputLayer((6, 6)))  # 6 timestamps, 6 features\n",
    "model9.add(BatchNormalization())  # Normalize inputs\n",
    "model9.add(GRU(128, activation='relu', return_sequences=True))  # GRU layer\n",
    "model9.add(Dropout(0.3))  # Dropout for regularization\n",
    "model9.add(GRU(64, activation='relu', return_sequences=False))  # Second GRU layer\n",
    "model9.add(Dense(32, activation='relu'))  # Fully connected layer\n",
    "model9.add(Dense(16, activation='relu'))  # Second dense layer\n",
    "model9.add(Dense(1, activation='linear'))  # Output layer\n",
    "\n",
    "cp9 = ModelCheckpoint('/kaggle/working/model9.keras', save_best_only=True)\n",
    "\n",
    "model9.compile(loss=MeanSquaredError(), optimizer=Adam(learning_rate=0.001), \n",
    "               metrics=[RootMeanSquaredError()])\n",
    "\n",
    "model9.fit(X_train1, y_train1, validation_data=(X_val1, y_val1), epochs=50, \n",
    "           callbacks=[cp9])\n"
   ]
  },
  {
   "cell_type": "code",
   "execution_count": 69,
   "id": "587b90f0",
   "metadata": {
    "execution": {
     "iopub.execute_input": "2025-01-27T20:08:08.720717Z",
     "iopub.status.busy": "2025-01-27T20:08:08.720292Z",
     "iopub.status.idle": "2025-01-27T20:08:08.932076Z",
     "shell.execute_reply": "2025-01-27T20:08:08.930608Z"
    },
    "papermill": {
     "duration": 0.573804,
     "end_time": "2025-01-27T20:08:08.934197",
     "exception": false,
     "start_time": "2025-01-27T20:08:08.360393",
     "status": "completed"
    },
    "tags": []
   },
   "outputs": [],
   "source": [
    "from tensorflow.keras.models import load_model\n",
    "model9 = load_model('/kaggle/working/model9.keras')"
   ]
  },
  {
   "cell_type": "code",
   "execution_count": 70,
   "id": "87376d52",
   "metadata": {
    "execution": {
     "iopub.execute_input": "2025-01-27T20:08:09.516465Z",
     "iopub.status.busy": "2025-01-27T20:08:09.516057Z",
     "iopub.status.idle": "2025-01-27T20:08:10.598615Z",
     "shell.execute_reply": "2025-01-27T20:08:10.597397Z"
    },
    "papermill": {
     "duration": 1.373302,
     "end_time": "2025-01-27T20:08:10.601033",
     "exception": false,
     "start_time": "2025-01-27T20:08:09.227731",
     "status": "completed"
    },
    "tags": []
   },
   "outputs": [
    {
     "name": "stdout",
     "output_type": "stream",
     "text": [
      "\u001b[1m80/80\u001b[0m \u001b[32m━━━━━━━━━━━━━━━━━━━━\u001b[0m\u001b[37m\u001b[0m \u001b[1m1s\u001b[0m 8ms/step\n",
      "Evaluation Metrics:\n",
      "Mean Absolute Error (MAE): 19.8576\n",
      "Mean Squared Error (MSE): 1444.6461\n",
      "Root Mean Squared Error (RMSE): 38.0085\n",
      "R-squared (Accuracy): 0.7202\n"
     ]
    }
   ],
   "source": [
    "# Evaluate the model on the train data\n",
    "train_result = model9.predict(X_train1)\n",
    "\n",
    "# Calculate metrics\n",
    "mse = mean_squared_error(y_train1, train_result)\n",
    "rmse = np.sqrt(mse)\n",
    "mae = mean_absolute_error(y_train1, train_result)\n",
    "r2 = r2_score(y_train1, train_result)\n",
    "\n",
    "# Print the results\n",
    "print(\"Evaluation Metrics:\")\n",
    "print(f\"Mean Absolute Error (MAE): {mae:.4f}\")\n",
    "print(f\"Mean Squared Error (MSE): {mse:.4f}\")\n",
    "print(f\"Root Mean Squared Error (RMSE): {rmse:.4f}\")\n",
    "print(f\"R-squared (Accuracy): {r2:.4f}\")"
   ]
  },
  {
   "cell_type": "code",
   "execution_count": 71,
   "id": "99cff02d",
   "metadata": {
    "execution": {
     "iopub.execute_input": "2025-01-27T20:08:11.179507Z",
     "iopub.status.busy": "2025-01-27T20:08:11.179103Z",
     "iopub.status.idle": "2025-01-27T20:08:11.295101Z",
     "shell.execute_reply": "2025-01-27T20:08:11.294005Z"
    },
    "papermill": {
     "duration": 0.408445,
     "end_time": "2025-01-27T20:08:11.296834",
     "exception": false,
     "start_time": "2025-01-27T20:08:10.888389",
     "status": "completed"
    },
    "tags": []
   },
   "outputs": [
    {
     "name": "stdout",
     "output_type": "stream",
     "text": [
      "\u001b[1m10/10\u001b[0m \u001b[32m━━━━━━━━━━━━━━━━━━━━\u001b[0m\u001b[37m\u001b[0m \u001b[1m0s\u001b[0m 4ms/step \n",
      "Evaluation Metrics:\n",
      "Mean Absolute Error (MAE): 18.0966\n",
      "Mean Squared Error (MSE): 779.4857\n",
      "Root Mean Squared Error (RMSE): 27.9193\n",
      "R-squared (Accuracy): 0.8952\n"
     ]
    }
   ],
   "source": [
    "# Evaluate the model on the validation data\n",
    "val_result = model9.predict(X_val1)\n",
    "\n",
    "# Calculate metrics\n",
    "mse = mean_squared_error(y_val1, val_result)\n",
    "rmse = np.sqrt(mse)\n",
    "mae = mean_absolute_error(y_val1, val_result)\n",
    "r2 = r2_score(y_val1, val_result)\n",
    "\n",
    "# Print the results\n",
    "print(\"Evaluation Metrics:\")\n",
    "print(f\"Mean Absolute Error (MAE): {mae:.4f}\")\n",
    "print(f\"Mean Squared Error (MSE): {mse:.4f}\")\n",
    "print(f\"Root Mean Squared Error (RMSE): {rmse:.4f}\")\n",
    "print(f\"R-squared (Accuracy): {r2:.4f}\")"
   ]
  },
  {
   "cell_type": "code",
   "execution_count": 72,
   "id": "222ca3be",
   "metadata": {
    "execution": {
     "iopub.execute_input": "2025-01-27T20:08:11.936755Z",
     "iopub.status.busy": "2025-01-27T20:08:11.936321Z",
     "iopub.status.idle": "2025-01-27T20:08:12.056923Z",
     "shell.execute_reply": "2025-01-27T20:08:12.055673Z"
    },
    "papermill": {
     "duration": 0.474186,
     "end_time": "2025-01-27T20:08:12.058864",
     "exception": false,
     "start_time": "2025-01-27T20:08:11.584678",
     "status": "completed"
    },
    "tags": []
   },
   "outputs": [
    {
     "name": "stdout",
     "output_type": "stream",
     "text": [
      "\u001b[1m10/10\u001b[0m \u001b[32m━━━━━━━━━━━━━━━━━━━━\u001b[0m\u001b[37m\u001b[0m \u001b[1m0s\u001b[0m 4ms/step \n",
      "Evaluation Metrics:\n",
      "Mean Absolute Error (MAE): 23.2258\n",
      "Mean Squared Error (MSE): 1234.1593\n",
      "Root Mean Squared Error (RMSE): 35.1306\n",
      "R-squared (Accuracy): 0.6265\n"
     ]
    }
   ],
   "source": [
    "# Evaluate the model on the test data\n",
    "test_result = model9.predict(X_test1)\n",
    "\n",
    "# Calculate metrics\n",
    "mse = mean_squared_error(y_test1, test_result)\n",
    "rmse = np.sqrt(mse)\n",
    "mae = mean_absolute_error(y_test1, test_result)\n",
    "r2 = r2_score(y_test1, test_result)\n",
    "\n",
    "# Print the results\n",
    "print(\"Evaluation Metrics:\")\n",
    "print(f\"Mean Absolute Error (MAE): {mae:.4f}\")\n",
    "print(f\"Mean Squared Error (MSE): {mse:.4f}\")\n",
    "print(f\"Root Mean Squared Error (RMSE): {rmse:.4f}\")\n",
    "print(f\"R-squared (Accuracy): {r2:.4f}\")"
   ]
  },
  {
   "cell_type": "code",
   "execution_count": 73,
   "id": "f39d8d91",
   "metadata": {
    "execution": {
     "iopub.execute_input": "2025-01-27T20:08:12.631678Z",
     "iopub.status.busy": "2025-01-27T20:08:12.631067Z",
     "iopub.status.idle": "2025-01-27T20:08:13.030155Z",
     "shell.execute_reply": "2025-01-27T20:08:13.028968Z"
    },
    "papermill": {
     "duration": 0.688052,
     "end_time": "2025-01-27T20:08:13.031996",
     "exception": false,
     "start_time": "2025-01-27T20:08:12.343944",
     "status": "completed"
    },
    "tags": []
   },
   "outputs": [
    {
     "name": "stdout",
     "output_type": "stream",
     "text": [
      "\u001b[1m80/80\u001b[0m \u001b[32m━━━━━━━━━━━━━━━━━━━━\u001b[0m\u001b[37m\u001b[0m \u001b[1m0s\u001b[0m 4ms/step\n"
     ]
    },
    {
     "data": {
      "text/html": [
       "<div>\n",
       "<style scoped>\n",
       "    .dataframe tbody tr th:only-of-type {\n",
       "        vertical-align: middle;\n",
       "    }\n",
       "\n",
       "    .dataframe tbody tr th {\n",
       "        vertical-align: top;\n",
       "    }\n",
       "\n",
       "    .dataframe thead th {\n",
       "        text-align: right;\n",
       "    }\n",
       "</style>\n",
       "<table border=\"1\" class=\"dataframe\">\n",
       "  <thead>\n",
       "    <tr style=\"text-align: right;\">\n",
       "      <th></th>\n",
       "      <th>Train Predictions</th>\n",
       "      <th>Actuals</th>\n",
       "    </tr>\n",
       "  </thead>\n",
       "  <tbody>\n",
       "    <tr>\n",
       "      <th>0</th>\n",
       "      <td>209.770020</td>\n",
       "      <td>195.0</td>\n",
       "    </tr>\n",
       "    <tr>\n",
       "      <th>1</th>\n",
       "      <td>205.361832</td>\n",
       "      <td>185.0</td>\n",
       "    </tr>\n",
       "    <tr>\n",
       "      <th>2</th>\n",
       "      <td>205.258316</td>\n",
       "      <td>208.0</td>\n",
       "    </tr>\n",
       "    <tr>\n",
       "      <th>3</th>\n",
       "      <td>234.353806</td>\n",
       "      <td>290.0</td>\n",
       "    </tr>\n",
       "    <tr>\n",
       "      <th>4</th>\n",
       "      <td>278.202667</td>\n",
       "      <td>267.0</td>\n",
       "    </tr>\n",
       "    <tr>\n",
       "      <th>...</th>\n",
       "      <td>...</td>\n",
       "      <td>...</td>\n",
       "    </tr>\n",
       "    <tr>\n",
       "      <th>2548</th>\n",
       "      <td>412.711212</td>\n",
       "      <td>387.0</td>\n",
       "    </tr>\n",
       "    <tr>\n",
       "      <th>2549</th>\n",
       "      <td>332.411560</td>\n",
       "      <td>169.0</td>\n",
       "    </tr>\n",
       "    <tr>\n",
       "      <th>2550</th>\n",
       "      <td>207.676361</td>\n",
       "      <td>197.0</td>\n",
       "    </tr>\n",
       "    <tr>\n",
       "      <th>2551</th>\n",
       "      <td>241.613510</td>\n",
       "      <td>191.0</td>\n",
       "    </tr>\n",
       "    <tr>\n",
       "      <th>2552</th>\n",
       "      <td>212.154709</td>\n",
       "      <td>198.0</td>\n",
       "    </tr>\n",
       "  </tbody>\n",
       "</table>\n",
       "<p>2553 rows × 2 columns</p>\n",
       "</div>"
      ],
      "text/plain": [
       "      Train Predictions  Actuals\n",
       "0            209.770020    195.0\n",
       "1            205.361832    185.0\n",
       "2            205.258316    208.0\n",
       "3            234.353806    290.0\n",
       "4            278.202667    267.0\n",
       "...                 ...      ...\n",
       "2548         412.711212    387.0\n",
       "2549         332.411560    169.0\n",
       "2550         207.676361    197.0\n",
       "2551         241.613510    191.0\n",
       "2552         212.154709    198.0\n",
       "\n",
       "[2553 rows x 2 columns]"
      ]
     },
     "execution_count": 73,
     "metadata": {},
     "output_type": "execute_result"
    }
   ],
   "source": [
    "train_predictions = model9.predict(X_train1).flatten()\n",
    "train_results = pd.DataFrame(data={'Train Predictions':train_predictions, 'Actuals':y_train1})\n",
    "train_results"
   ]
  },
  {
   "cell_type": "code",
   "execution_count": 74,
   "id": "69dbddad",
   "metadata": {
    "execution": {
     "iopub.execute_input": "2025-01-27T20:08:13.618022Z",
     "iopub.status.busy": "2025-01-27T20:08:13.617547Z",
     "iopub.status.idle": "2025-01-27T20:08:13.797132Z",
     "shell.execute_reply": "2025-01-27T20:08:13.795772Z"
    },
    "papermill": {
     "duration": 0.474906,
     "end_time": "2025-01-27T20:08:13.798950",
     "exception": false,
     "start_time": "2025-01-27T20:08:13.324044",
     "status": "completed"
    },
    "tags": []
   },
   "outputs": [
    {
     "data": {
      "image/png": "[encoded data removed]",
      "text/plain": [
       "<Figure size 640x480 with 1 Axes>"
      ]
     },
     "metadata": {},
     "output_type": "display_data"
    }
   ],
   "source": [
    "plt.plot(train_results['Actuals'][1:50], label='Actual')\n",
    "plt.plot(train_results['Train Predictions'][1:50], label='Predicted')\n",
    "plt.legend()\n",
    "plt.show()"
   ]
  },
  {
   "cell_type": "code",
   "execution_count": 75,
   "id": "f5df80ba",
   "metadata": {
    "execution": {
     "iopub.execute_input": "2025-01-27T20:08:14.448808Z",
     "iopub.status.busy": "2025-01-27T20:08:14.448352Z",
     "iopub.status.idle": "2025-01-27T20:08:14.573972Z",
     "shell.execute_reply": "2025-01-27T20:08:14.572883Z"
    },
    "papermill": {
     "duration": 0.416318,
     "end_time": "2025-01-27T20:08:14.575984",
     "exception": false,
     "start_time": "2025-01-27T20:08:14.159666",
     "status": "completed"
    },
    "tags": []
   },
   "outputs": [
    {
     "name": "stdout",
     "output_type": "stream",
     "text": [
      "\u001b[1m10/10\u001b[0m \u001b[32m━━━━━━━━━━━━━━━━━━━━\u001b[0m\u001b[37m\u001b[0m \u001b[1m0s\u001b[0m 4ms/step \n"
     ]
    },
    {
     "data": {
      "text/html": [
       "<div>\n",
       "<style scoped>\n",
       "    .dataframe tbody tr th:only-of-type {\n",
       "        vertical-align: middle;\n",
       "    }\n",
       "\n",
       "    .dataframe tbody tr th {\n",
       "        vertical-align: top;\n",
       "    }\n",
       "\n",
       "    .dataframe thead th {\n",
       "        text-align: right;\n",
       "    }\n",
       "</style>\n",
       "<table border=\"1\" class=\"dataframe\">\n",
       "  <thead>\n",
       "    <tr style=\"text-align: right;\">\n",
       "      <th></th>\n",
       "      <th>Train Predictions</th>\n",
       "      <th>Actuals</th>\n",
       "    </tr>\n",
       "  </thead>\n",
       "  <tbody>\n",
       "    <tr>\n",
       "      <th>0</th>\n",
       "      <td>295.479797</td>\n",
       "      <td>298.0</td>\n",
       "    </tr>\n",
       "    <tr>\n",
       "      <th>1</th>\n",
       "      <td>296.607086</td>\n",
       "      <td>298.0</td>\n",
       "    </tr>\n",
       "    <tr>\n",
       "      <th>2</th>\n",
       "      <td>295.771088</td>\n",
       "      <td>298.0</td>\n",
       "    </tr>\n",
       "    <tr>\n",
       "      <th>3</th>\n",
       "      <td>295.771088</td>\n",
       "      <td>298.0</td>\n",
       "    </tr>\n",
       "    <tr>\n",
       "      <th>4</th>\n",
       "      <td>295.771088</td>\n",
       "      <td>298.0</td>\n",
       "    </tr>\n",
       "    <tr>\n",
       "      <th>...</th>\n",
       "      <td>...</td>\n",
       "      <td>...</td>\n",
       "    </tr>\n",
       "    <tr>\n",
       "      <th>308</th>\n",
       "      <td>180.555374</td>\n",
       "      <td>193.0</td>\n",
       "    </tr>\n",
       "    <tr>\n",
       "      <th>309</th>\n",
       "      <td>234.312881</td>\n",
       "      <td>199.0</td>\n",
       "    </tr>\n",
       "    <tr>\n",
       "      <th>310</th>\n",
       "      <td>210.094925</td>\n",
       "      <td>197.0</td>\n",
       "    </tr>\n",
       "    <tr>\n",
       "      <th>311</th>\n",
       "      <td>211.776443</td>\n",
       "      <td>197.0</td>\n",
       "    </tr>\n",
       "    <tr>\n",
       "      <th>312</th>\n",
       "      <td>205.138474</td>\n",
       "      <td>190.0</td>\n",
       "    </tr>\n",
       "  </tbody>\n",
       "</table>\n",
       "<p>313 rows × 2 columns</p>\n",
       "</div>"
      ],
      "text/plain": [
       "     Train Predictions  Actuals\n",
       "0           295.479797    298.0\n",
       "1           296.607086    298.0\n",
       "2           295.771088    298.0\n",
       "3           295.771088    298.0\n",
       "4           295.771088    298.0\n",
       "..                 ...      ...\n",
       "308         180.555374    193.0\n",
       "309         234.312881    199.0\n",
       "310         210.094925    197.0\n",
       "311         211.776443    197.0\n",
       "312         205.138474    190.0\n",
       "\n",
       "[313 rows x 2 columns]"
      ]
     },
     "execution_count": 75,
     "metadata": {},
     "output_type": "execute_result"
    }
   ],
   "source": [
    "val_predictions = model9.predict(X_val1).flatten()\n",
    "val_results = pd.DataFrame(data={'Train Predictions':val_predictions, 'Actuals':y_val1})\n",
    "val_results"
   ]
  },
  {
   "cell_type": "code",
   "execution_count": 76,
   "id": "1637e3a7",
   "metadata": {
    "execution": {
     "iopub.execute_input": "2025-01-27T20:08:15.197072Z",
     "iopub.status.busy": "2025-01-27T20:08:15.196508Z",
     "iopub.status.idle": "2025-01-27T20:08:15.376957Z",
     "shell.execute_reply": "2025-01-27T20:08:15.375728Z"
    },
    "papermill": {
     "duration": 0.511047,
     "end_time": "2025-01-27T20:08:15.378809",
     "exception": false,
     "start_time": "2025-01-27T20:08:14.867762",
     "status": "completed"
    },
    "tags": []
   },
   "outputs": [
    {
     "data": {
      "image/png": "[encoded data removed]",
      "text/plain": [
       "<Figure size 640x480 with 1 Axes>"
      ]
     },
     "metadata": {},
     "output_type": "display_data"
    }
   ],
   "source": [
    "plt.plot(val_results['Actuals'][1:50], label='Actual')\n",
    "plt.plot(val_results['Train Predictions'][1:50], label='Predicted')\n",
    "plt.legend()\n",
    "plt.show()"
   ]
  },
  {
   "cell_type": "code",
   "execution_count": 77,
   "id": "a21b4f71",
   "metadata": {
    "execution": {
     "iopub.execute_input": "2025-01-27T20:08:15.967945Z",
     "iopub.status.busy": "2025-01-27T20:08:15.967559Z",
     "iopub.status.idle": "2025-01-27T20:08:16.090136Z",
     "shell.execute_reply": "2025-01-27T20:08:16.089020Z"
    },
    "papermill": {
     "duration": 0.416832,
     "end_time": "2025-01-27T20:08:16.091906",
     "exception": false,
     "start_time": "2025-01-27T20:08:15.675074",
     "status": "completed"
    },
    "tags": []
   },
   "outputs": [
    {
     "name": "stdout",
     "output_type": "stream",
     "text": [
      "\u001b[1m10/10\u001b[0m \u001b[32m━━━━━━━━━━━━━━━━━━━━\u001b[0m\u001b[37m\u001b[0m \u001b[1m0s\u001b[0m 4ms/step \n"
     ]
    },
    {
     "data": {
      "text/html": [
       "<div>\n",
       "<style scoped>\n",
       "    .dataframe tbody tr th:only-of-type {\n",
       "        vertical-align: middle;\n",
       "    }\n",
       "\n",
       "    .dataframe tbody tr th {\n",
       "        vertical-align: top;\n",
       "    }\n",
       "\n",
       "    .dataframe thead th {\n",
       "        text-align: right;\n",
       "    }\n",
       "</style>\n",
       "<table border=\"1\" class=\"dataframe\">\n",
       "  <thead>\n",
       "    <tr style=\"text-align: right;\">\n",
       "      <th></th>\n",
       "      <th>Train Predictions</th>\n",
       "      <th>Actuals</th>\n",
       "    </tr>\n",
       "  </thead>\n",
       "  <tbody>\n",
       "    <tr>\n",
       "      <th>0</th>\n",
       "      <td>214.500671</td>\n",
       "      <td>190.0</td>\n",
       "    </tr>\n",
       "    <tr>\n",
       "      <th>1</th>\n",
       "      <td>206.562180</td>\n",
       "      <td>177.0</td>\n",
       "    </tr>\n",
       "    <tr>\n",
       "      <th>2</th>\n",
       "      <td>199.587402</td>\n",
       "      <td>172.0</td>\n",
       "    </tr>\n",
       "    <tr>\n",
       "      <th>3</th>\n",
       "      <td>200.681412</td>\n",
       "      <td>170.0</td>\n",
       "    </tr>\n",
       "    <tr>\n",
       "      <th>4</th>\n",
       "      <td>193.117355</td>\n",
       "      <td>197.0</td>\n",
       "    </tr>\n",
       "    <tr>\n",
       "      <th>...</th>\n",
       "      <td>...</td>\n",
       "      <td>...</td>\n",
       "    </tr>\n",
       "    <tr>\n",
       "      <th>310</th>\n",
       "      <td>147.218613</td>\n",
       "      <td>134.0</td>\n",
       "    </tr>\n",
       "    <tr>\n",
       "      <th>311</th>\n",
       "      <td>146.559372</td>\n",
       "      <td>144.0</td>\n",
       "    </tr>\n",
       "    <tr>\n",
       "      <th>312</th>\n",
       "      <td>154.520004</td>\n",
       "      <td>155.0</td>\n",
       "    </tr>\n",
       "    <tr>\n",
       "      <th>313</th>\n",
       "      <td>160.294739</td>\n",
       "      <td>155.0</td>\n",
       "    </tr>\n",
       "    <tr>\n",
       "      <th>314</th>\n",
       "      <td>153.326920</td>\n",
       "      <td>152.0</td>\n",
       "    </tr>\n",
       "  </tbody>\n",
       "</table>\n",
       "<p>315 rows × 2 columns</p>\n",
       "</div>"
      ],
      "text/plain": [
       "     Train Predictions  Actuals\n",
       "0           214.500671    190.0\n",
       "1           206.562180    177.0\n",
       "2           199.587402    172.0\n",
       "3           200.681412    170.0\n",
       "4           193.117355    197.0\n",
       "..                 ...      ...\n",
       "310         147.218613    134.0\n",
       "311         146.559372    144.0\n",
       "312         154.520004    155.0\n",
       "313         160.294739    155.0\n",
       "314         153.326920    152.0\n",
       "\n",
       "[315 rows x 2 columns]"
      ]
     },
     "execution_count": 77,
     "metadata": {},
     "output_type": "execute_result"
    }
   ],
   "source": [
    "test_predictions = model9.predict(X_test1).flatten()\n",
    "test_results = pd.DataFrame(data={'Train Predictions':test_predictions, 'Actuals':y_test1})\n",
    "test_results"
   ]
  },
  {
   "cell_type": "code",
   "execution_count": 78,
   "id": "1684e1b4",
   "metadata": {
    "execution": {
     "iopub.execute_input": "2025-01-27T20:08:16.736598Z",
     "iopub.status.busy": "2025-01-27T20:08:16.736214Z",
     "iopub.status.idle": "2025-01-27T20:08:16.918297Z",
     "shell.execute_reply": "2025-01-27T20:08:16.917095Z"
    },
    "papermill": {
     "duration": 0.479223,
     "end_time": "2025-01-27T20:08:16.920321",
     "exception": false,
     "start_time": "2025-01-27T20:08:16.441098",
     "status": "completed"
    },
    "tags": []
   },
   "outputs": [
    {
     "data": {
      "image/png": "[encoded data removed]",
      "text/plain": [
       "<Figure size 640x480 with 1 Axes>"
      ]
     },
     "metadata": {},
     "output_type": "display_data"
    }
   ],
   "source": [
    "plt.plot(test_results['Train Predictions'][1:50], label='Predicted')\n",
    "plt.plot(test_results['Actuals'][1:50], label='Actual')\n",
    "plt.legend()\n",
    "plt.show()"
   ]
  },
  {
   "cell_type": "code",
   "execution_count": null,
   "id": "a67ef5b9",
   "metadata": {
    "papermill": {
     "duration": 0.28916,
     "end_time": "2025-01-27T20:08:17.509172",
     "exception": false,
     "start_time": "2025-01-27T20:08:17.220012",
     "status": "completed"
    },
    "tags": []
   },
   "outputs": [],
   "source": []
  },
  {
   "cell_type": "markdown",
   "id": "36ae948a",
   "metadata": {
    "papermill": {
     "duration": 0.355498,
     "end_time": "2025-01-27T20:08:18.150166",
     "exception": false,
     "start_time": "2025-01-27T20:08:17.794668",
     "status": "completed"
    },
    "tags": []
   },
   "source": [
    "# Scaled"
   ]
  },
  {
   "cell_type": "code",
   "execution_count": null,
   "id": "0812a4c2",
   "metadata": {
    "papermill": {
     "duration": 0.306797,
     "end_time": "2025-01-27T20:08:18.744961",
     "exception": false,
     "start_time": "2025-01-27T20:08:18.438164",
     "status": "completed"
    },
    "tags": []
   },
   "outputs": [],
   "source": []
  },
  {
   "cell_type": "code",
   "execution_count": 79,
   "id": "a2772e4f",
   "metadata": {
    "execution": {
     "iopub.execute_input": "2025-01-27T20:08:19.330286Z",
     "iopub.status.busy": "2025-01-27T20:08:19.329912Z",
     "iopub.status.idle": "2025-01-27T20:08:19.335827Z",
     "shell.execute_reply": "2025-01-27T20:08:19.334397Z"
    },
    "papermill": {
     "duration": 0.301033,
     "end_time": "2025-01-27T20:08:19.337954",
     "exception": false,
     "start_time": "2025-01-27T20:08:19.036921",
     "status": "completed"
    },
    "tags": []
   },
   "outputs": [],
   "source": [
    "aqi_normal = new_data4.copy()"
   ]
  },
  {
   "cell_type": "code",
   "execution_count": 80,
   "id": "936f4087",
   "metadata": {
    "execution": {
     "iopub.execute_input": "2025-01-27T20:08:19.986299Z",
     "iopub.status.busy": "2025-01-27T20:08:19.985926Z",
     "iopub.status.idle": "2025-01-27T20:08:19.991600Z",
     "shell.execute_reply": "2025-01-27T20:08:19.990556Z"
    },
    "papermill": {
     "duration": 0.303525,
     "end_time": "2025-01-27T20:08:19.993531",
     "exception": false,
     "start_time": "2025-01-27T20:08:19.690006",
     "status": "completed"
    },
    "tags": []
   },
   "outputs": [],
   "source": [
    "aqi_normal = aqi_normal.drop([ 'humidity', 'pressure',\n",
    "       'temperature', 'wind-speed', 'Country_City', 'Checks', \n",
    "            'AQI_smoothed_iqr', 'AQI_smoothed_zscore', 'AQI_smoothed_rolling'], axis = 1)"
   ]
  },
  {
   "cell_type": "code",
   "execution_count": 81,
   "id": "3a0b440d",
   "metadata": {
    "execution": {
     "iopub.execute_input": "2025-01-27T20:08:20.583832Z",
     "iopub.status.busy": "2025-01-27T20:08:20.583404Z",
     "iopub.status.idle": "2025-01-27T20:08:20.599269Z",
     "shell.execute_reply": "2025-01-27T20:08:20.597901Z"
    },
    "papermill": {
     "duration": 0.312545,
     "end_time": "2025-01-27T20:08:20.601151",
     "exception": false,
     "start_time": "2025-01-27T20:08:20.288606",
     "status": "completed"
    },
    "tags": []
   },
   "outputs": [
    {
     "data": {
      "text/html": [
       "<div>\n",
       "<style scoped>\n",
       "    .dataframe tbody tr th:only-of-type {\n",
       "        vertical-align: middle;\n",
       "    }\n",
       "\n",
       "    .dataframe tbody tr th {\n",
       "        vertical-align: top;\n",
       "    }\n",
       "\n",
       "    .dataframe thead th {\n",
       "        text-align: right;\n",
       "    }\n",
       "</style>\n",
       "<table border=\"1\" class=\"dataframe\">\n",
       "  <thead>\n",
       "    <tr style=\"text-align: right;\">\n",
       "      <th></th>\n",
       "      <th>co</th>\n",
       "      <th>no2</th>\n",
       "      <th>o3</th>\n",
       "      <th>pm10</th>\n",
       "      <th>pm25</th>\n",
       "      <th>so2</th>\n",
       "      <th>AQI</th>\n",
       "    </tr>\n",
       "  </thead>\n",
       "  <tbody>\n",
       "    <tr>\n",
       "      <th>2014-12-29</th>\n",
       "      <td>14.1</td>\n",
       "      <td>36.2</td>\n",
       "      <td>3.2</td>\n",
       "      <td>218.0</td>\n",
       "      <td>307.0</td>\n",
       "      <td>4.2</td>\n",
       "      <td>307.0</td>\n",
       "    </tr>\n",
       "    <tr>\n",
       "      <th>2014-12-30</th>\n",
       "      <td>20.4</td>\n",
       "      <td>36.8</td>\n",
       "      <td>4.8</td>\n",
       "      <td>330.0</td>\n",
       "      <td>367.0</td>\n",
       "      <td>5.8</td>\n",
       "      <td>367.0</td>\n",
       "    </tr>\n",
       "    <tr>\n",
       "      <th>2014-12-31</th>\n",
       "      <td>12.7</td>\n",
       "      <td>28.7</td>\n",
       "      <td>7.8</td>\n",
       "      <td>137.0</td>\n",
       "      <td>202.0</td>\n",
       "      <td>6.3</td>\n",
       "      <td>202.0</td>\n",
       "    </tr>\n",
       "    <tr>\n",
       "      <th>2015-01-01</th>\n",
       "      <td>20.8</td>\n",
       "      <td>66.5</td>\n",
       "      <td>5.2</td>\n",
       "      <td>230.0</td>\n",
       "      <td>382.0</td>\n",
       "      <td>9.9</td>\n",
       "      <td>382.0</td>\n",
       "    </tr>\n",
       "    <tr>\n",
       "      <th>2015-01-02</th>\n",
       "      <td>12.7</td>\n",
       "      <td>33.9</td>\n",
       "      <td>6.0</td>\n",
       "      <td>81.0</td>\n",
       "      <td>172.0</td>\n",
       "      <td>4.2</td>\n",
       "      <td>172.0</td>\n",
       "    </tr>\n",
       "  </tbody>\n",
       "</table>\n",
       "</div>"
      ],
      "text/plain": [
       "              co   no2   o3   pm10   pm25  so2    AQI\n",
       "2014-12-29  14.1  36.2  3.2  218.0  307.0  4.2  307.0\n",
       "2014-12-30  20.4  36.8  4.8  330.0  367.0  5.8  367.0\n",
       "2014-12-31  12.7  28.7  7.8  137.0  202.0  6.3  202.0\n",
       "2015-01-01  20.8  66.5  5.2  230.0  382.0  9.9  382.0\n",
       "2015-01-02  12.7  33.9  6.0   81.0  172.0  4.2  172.0"
      ]
     },
     "execution_count": 81,
     "metadata": {},
     "output_type": "execute_result"
    }
   ],
   "source": [
    "aqi_normal.head()"
   ]
  },
  {
   "cell_type": "code",
   "execution_count": 82,
   "id": "8d9834e8",
   "metadata": {
    "execution": {
     "iopub.execute_input": "2025-01-27T20:08:21.191699Z",
     "iopub.status.busy": "2025-01-27T20:08:21.191078Z",
     "iopub.status.idle": "2025-01-27T20:08:21.216695Z",
     "shell.execute_reply": "2025-01-27T20:08:21.215327Z"
    },
    "papermill": {
     "duration": 0.326787,
     "end_time": "2025-01-27T20:08:21.218685",
     "exception": false,
     "start_time": "2025-01-27T20:08:20.891898",
     "status": "completed"
    },
    "tags": []
   },
   "outputs": [],
   "source": [
    "from sklearn.preprocessing import StandardScaler\n",
    "\n",
    "scaler = StandardScaler()\n",
    "scaled_data = scaler.fit_transform(aqi_normal)"
   ]
  },
  {
   "cell_type": "code",
   "execution_count": null,
   "id": "efee8199",
   "metadata": {
    "papermill": {
     "duration": 0.292883,
     "end_time": "2025-01-27T20:08:21.869368",
     "exception": false,
     "start_time": "2025-01-27T20:08:21.576485",
     "status": "completed"
    },
    "tags": []
   },
   "outputs": [],
   "source": []
  },
  {
   "cell_type": "code",
   "execution_count": 83,
   "id": "c8937bb7",
   "metadata": {
    "execution": {
     "iopub.execute_input": "2025-01-27T20:08:22.468360Z",
     "iopub.status.busy": "2025-01-27T20:08:22.467987Z",
     "iopub.status.idle": "2025-01-27T20:08:22.474670Z",
     "shell.execute_reply": "2025-01-27T20:08:22.473549Z"
    },
    "papermill": {
     "duration": 0.308599,
     "end_time": "2025-01-27T20:08:22.476579",
     "exception": false,
     "start_time": "2025-01-27T20:08:22.167980",
     "status": "completed"
    },
    "tags": []
   },
   "outputs": [
    {
     "data": {
      "text/plain": [
       "array([[ 1.48621623,  2.74469329, -1.25497378, ...,  2.26279232,\n",
       "        -0.43326169,  1.98028148],\n",
       "       [ 3.24224486,  2.8245568 , -0.89599505, ...,  3.18463324,\n",
       "         0.27208393,  2.80479557],\n",
       "       [ 1.09598764,  1.74639945, -0.22290992, ...,  0.6495707 ,\n",
       "         0.49250443,  0.53738181],\n",
       "       ...,\n",
       "       [ 0.09254271, -0.51639992, -0.17803757, ..., -0.07253803,\n",
       "        -0.74185039, -0.10848757],\n",
       "       [-0.04682464, -0.5297105 , -0.11072906, ..., -0.07253803,\n",
       "        -0.74185039, -0.10848757],\n",
       "       [-0.15831852, -0.60957401, -0.02098438, ..., -0.11863007,\n",
       "        -1.0504391 , -0.14971327]])"
      ]
     },
     "execution_count": 83,
     "metadata": {},
     "output_type": "execute_result"
    }
   ],
   "source": [
    "scaled_data"
   ]
  },
  {
   "cell_type": "code",
   "execution_count": 84,
   "id": "2337f354",
   "metadata": {
    "execution": {
     "iopub.execute_input": "2025-01-27T20:08:23.135677Z",
     "iopub.status.busy": "2025-01-27T20:08:23.135258Z",
     "iopub.status.idle": "2025-01-27T20:08:23.146001Z",
     "shell.execute_reply": "2025-01-27T20:08:23.144918Z"
    },
    "papermill": {
     "duration": 0.37791,
     "end_time": "2025-01-27T20:08:23.147794",
     "exception": false,
     "start_time": "2025-01-27T20:08:22.769884",
     "status": "completed"
    },
    "tags": []
   },
   "outputs": [],
   "source": [
    "def new_data_to_X_y(new_data, window_size, train_pct, val_pct, test_pct):\n",
    "    \n",
    "    new_data_as_np = new_data\n",
    "    \n",
    "    # Split features and target\n",
    "    features = new_data_as_np[:, :-1]  # All columns except the last one\n",
    "    target = new_data_as_np[:, -1]     # Only the AQI column\n",
    "    \n",
    "    # Split data based on percentages\n",
    "    total_len = len(features)\n",
    "    train_end = int(train_pct * total_len)\n",
    "    val_end = train_end + int(val_pct * total_len)\n",
    "    \n",
    "    # Prepare train, val, and test splits for both features and target\n",
    "    train_features = features[:train_end]\n",
    "    train_target = target[:train_end]\n",
    "    \n",
    "    val_features = features[train_end:val_end]\n",
    "    val_target = target[train_end:val_end]\n",
    "    \n",
    "    test_features = features[val_end:]\n",
    "    test_target = target[val_end:]\n",
    "    \n",
    "    # Helper function to create X and y\n",
    "    def create_X_y(feature_data, target_data):\n",
    "        X, y = [], []\n",
    "        for i in range(len(feature_data) - window_size):\n",
    "            # Create sequence of all features\n",
    "            sequence = feature_data[i:i + window_size]\n",
    "            X.append(sequence)\n",
    "            # Get the target AQI value\n",
    "            y.append(target_data[i + window_size])\n",
    "        return np.array(X), np.array(y)\n",
    "    \n",
    "    \n",
    "    X_train, y_train = create_X_y(train_features, train_target)\n",
    "    X_val, y_val = create_X_y(val_features, val_target)\n",
    "    X_test, y_test = create_X_y(test_features, test_target)\n",
    "    \n",
    "    return (X_train, y_train), (X_val, y_val), (X_test, y_test)"
   ]
  },
  {
   "cell_type": "code",
   "execution_count": 85,
   "id": "44b3b6ee",
   "metadata": {
    "execution": {
     "iopub.execute_input": "2025-01-27T20:08:23.748232Z",
     "iopub.status.busy": "2025-01-27T20:08:23.747874Z",
     "iopub.status.idle": "2025-01-27T20:08:23.759522Z",
     "shell.execute_reply": "2025-01-27T20:08:23.758170Z"
    },
    "papermill": {
     "duration": 0.318963,
     "end_time": "2025-01-27T20:08:23.761943",
     "exception": false,
     "start_time": "2025-01-27T20:08:23.442980",
     "status": "completed"
    },
    "tags": []
   },
   "outputs": [],
   "source": [
    "WINDOW_SIZE = 4\n",
    "NUM_FEATURES = 5\n",
    "train_pct = 0.8\n",
    "val_pct = 0.1\n",
    "test_pct = 0.1\n",
    "\n",
    "(X_train1, y_train1), (X_val1, y_val1), (X_test1, y_test1) = new_data_to_X_y(\n",
    "    scaled_data, WINDOW_SIZE, train_pct, val_pct, test_pct)"
   ]
  },
  {
   "cell_type": "code",
   "execution_count": null,
   "id": "c22c3418",
   "metadata": {
    "papermill": {
     "duration": 0.296305,
     "end_time": "2025-01-27T20:08:24.360967",
     "exception": false,
     "start_time": "2025-01-27T20:08:24.064662",
     "status": "completed"
    },
    "tags": []
   },
   "outputs": [],
   "source": []
  },
  {
   "cell_type": "code",
   "execution_count": 86,
   "id": "085415f1",
   "metadata": {
    "execution": {
     "iopub.execute_input": "2025-01-27T20:08:25.028329Z",
     "iopub.status.busy": "2025-01-27T20:08:25.027993Z",
     "iopub.status.idle": "2025-01-27T20:09:08.891774Z",
     "shell.execute_reply": "2025-01-27T20:09:08.890666Z"
    },
    "papermill": {
     "duration": 44.232206,
     "end_time": "2025-01-27T20:09:08.893580",
     "exception": false,
     "start_time": "2025-01-27T20:08:24.661374",
     "status": "completed"
    },
    "tags": []
   },
   "outputs": [
    {
     "name": "stdout",
     "output_type": "stream",
     "text": [
      "Epoch 1/50\n",
      "\u001b[1m80/80\u001b[0m \u001b[32m━━━━━━━━━━━━━━━━━━━━\u001b[0m\u001b[37m\u001b[0m \u001b[1m6s\u001b[0m 15ms/step - loss: 0.7160 - root_mean_squared_error: 0.8392 - val_loss: 0.1954 - val_root_mean_squared_error: 0.4420\n",
      "Epoch 2/50\n",
      "\u001b[1m80/80\u001b[0m \u001b[32m━━━━━━━━━━━━━━━━━━━━\u001b[0m\u001b[37m\u001b[0m \u001b[1m1s\u001b[0m 11ms/step - loss: 0.4126 - root_mean_squared_error: 0.6408 - val_loss: 0.1817 - val_root_mean_squared_error: 0.4263\n",
      "Epoch 3/50\n",
      "\u001b[1m80/80\u001b[0m \u001b[32m━━━━━━━━━━━━━━━━━━━━\u001b[0m\u001b[37m\u001b[0m \u001b[1m1s\u001b[0m 11ms/step - loss: 0.3198 - root_mean_squared_error: 0.5642 - val_loss: 0.1652 - val_root_mean_squared_error: 0.4065\n",
      "Epoch 4/50\n",
      "\u001b[1m80/80\u001b[0m \u001b[32m━━━━━━━━━━━━━━━━━━━━\u001b[0m\u001b[37m\u001b[0m \u001b[1m1s\u001b[0m 10ms/step - loss: 0.3616 - root_mean_squared_error: 0.5998 - val_loss: 0.1901 - val_root_mean_squared_error: 0.4360\n",
      "Epoch 5/50\n",
      "\u001b[1m80/80\u001b[0m \u001b[32m━━━━━━━━━━━━━━━━━━━━\u001b[0m\u001b[37m\u001b[0m \u001b[1m1s\u001b[0m 10ms/step - loss: 0.3466 - root_mean_squared_error: 0.5870 - val_loss: 0.1652 - val_root_mean_squared_error: 0.4064\n",
      "Epoch 6/50\n",
      "\u001b[1m80/80\u001b[0m \u001b[32m━━━━━━━━━━━━━━━━━━━━\u001b[0m\u001b[37m\u001b[0m \u001b[1m1s\u001b[0m 9ms/step - loss: 0.2917 - root_mean_squared_error: 0.5387 - val_loss: 0.1690 - val_root_mean_squared_error: 0.4111\n",
      "Epoch 7/50\n",
      "\u001b[1m80/80\u001b[0m \u001b[32m━━━━━━━━━━━━━━━━━━━━\u001b[0m\u001b[37m\u001b[0m \u001b[1m1s\u001b[0m 10ms/step - loss: 0.3712 - root_mean_squared_error: 0.6082 - val_loss: 0.1588 - val_root_mean_squared_error: 0.3985\n",
      "Epoch 8/50\n",
      "\u001b[1m80/80\u001b[0m \u001b[32m━━━━━━━━━━━━━━━━━━━━\u001b[0m\u001b[37m\u001b[0m \u001b[1m1s\u001b[0m 9ms/step - loss: 0.4377 - root_mean_squared_error: 0.6556 - val_loss: 0.1602 - val_root_mean_squared_error: 0.4003\n",
      "Epoch 9/50\n",
      "\u001b[1m80/80\u001b[0m \u001b[32m━━━━━━━━━━━━━━━━━━━━\u001b[0m\u001b[37m\u001b[0m \u001b[1m1s\u001b[0m 10ms/step - loss: 0.3186 - root_mean_squared_error: 0.5619 - val_loss: 0.1584 - val_root_mean_squared_error: 0.3980\n",
      "Epoch 10/50\n",
      "\u001b[1m80/80\u001b[0m \u001b[32m━━━━━━━━━━━━━━━━━━━━\u001b[0m\u001b[37m\u001b[0m \u001b[1m1s\u001b[0m 9ms/step - loss: 0.2690 - root_mean_squared_error: 0.5172 - val_loss: 0.2154 - val_root_mean_squared_error: 0.4641\n",
      "Epoch 11/50\n",
      "\u001b[1m80/80\u001b[0m \u001b[32m━━━━━━━━━━━━━━━━━━━━\u001b[0m\u001b[37m\u001b[0m \u001b[1m1s\u001b[0m 9ms/step - loss: 0.3710 - root_mean_squared_error: 0.6043 - val_loss: 0.1830 - val_root_mean_squared_error: 0.4278\n",
      "Epoch 12/50\n",
      "\u001b[1m80/80\u001b[0m \u001b[32m━━━━━━━━━━━━━━━━━━━━\u001b[0m\u001b[37m\u001b[0m \u001b[1m1s\u001b[0m 9ms/step - loss: 0.4103 - root_mean_squared_error: 0.6299 - val_loss: 0.1553 - val_root_mean_squared_error: 0.3941\n",
      "Epoch 13/50\n",
      "\u001b[1m80/80\u001b[0m \u001b[32m━━━━━━━━━━━━━━━━━━━━\u001b[0m\u001b[37m\u001b[0m \u001b[1m1s\u001b[0m 9ms/step - loss: 0.2894 - root_mean_squared_error: 0.5370 - val_loss: 0.1556 - val_root_mean_squared_error: 0.3945\n",
      "Epoch 14/50\n",
      "\u001b[1m80/80\u001b[0m \u001b[32m━━━━━━━━━━━━━━━━━━━━\u001b[0m\u001b[37m\u001b[0m \u001b[1m1s\u001b[0m 9ms/step - loss: 0.2931 - root_mean_squared_error: 0.5398 - val_loss: 0.1828 - val_root_mean_squared_error: 0.4275\n",
      "Epoch 15/50\n",
      "\u001b[1m80/80\u001b[0m \u001b[32m━━━━━━━━━━━━━━━━━━━━\u001b[0m\u001b[37m\u001b[0m \u001b[1m1s\u001b[0m 9ms/step - loss: 0.2554 - root_mean_squared_error: 0.5049 - val_loss: 0.1574 - val_root_mean_squared_error: 0.3967\n",
      "Epoch 16/50\n",
      "\u001b[1m80/80\u001b[0m \u001b[32m━━━━━━━━━━━━━━━━━━━━\u001b[0m\u001b[37m\u001b[0m \u001b[1m1s\u001b[0m 9ms/step - loss: 0.3258 - root_mean_squared_error: 0.5688 - val_loss: 0.2015 - val_root_mean_squared_error: 0.4489\n",
      "Epoch 17/50\n",
      "\u001b[1m80/80\u001b[0m \u001b[32m━━━━━━━━━━━━━━━━━━━━\u001b[0m\u001b[37m\u001b[0m \u001b[1m1s\u001b[0m 10ms/step - loss: 0.3200 - root_mean_squared_error: 0.5627 - val_loss: 0.1498 - val_root_mean_squared_error: 0.3871\n",
      "Epoch 18/50\n",
      "\u001b[1m80/80\u001b[0m \u001b[32m━━━━━━━━━━━━━━━━━━━━\u001b[0m\u001b[37m\u001b[0m \u001b[1m1s\u001b[0m 10ms/step - loss: 0.2662 - root_mean_squared_error: 0.5144 - val_loss: 0.1466 - val_root_mean_squared_error: 0.3829\n",
      "Epoch 19/50\n",
      "\u001b[1m80/80\u001b[0m \u001b[32m━━━━━━━━━━━━━━━━━━━━\u001b[0m\u001b[37m\u001b[0m \u001b[1m1s\u001b[0m 9ms/step - loss: 0.3267 - root_mean_squared_error: 0.5693 - val_loss: 0.1591 - val_root_mean_squared_error: 0.3989\n",
      "Epoch 20/50\n",
      "\u001b[1m80/80\u001b[0m \u001b[32m━━━━━━━━━━━━━━━━━━━━\u001b[0m\u001b[37m\u001b[0m \u001b[1m1s\u001b[0m 10ms/step - loss: 0.2572 - root_mean_squared_error: 0.5057 - val_loss: 0.1548 - val_root_mean_squared_error: 0.3934\n",
      "Epoch 21/50\n",
      "\u001b[1m80/80\u001b[0m \u001b[32m━━━━━━━━━━━━━━━━━━━━\u001b[0m\u001b[37m\u001b[0m \u001b[1m1s\u001b[0m 9ms/step - loss: 0.2425 - root_mean_squared_error: 0.4913 - val_loss: 0.1373 - val_root_mean_squared_error: 0.3705\n",
      "Epoch 22/50\n",
      "\u001b[1m80/80\u001b[0m \u001b[32m━━━━━━━━━━━━━━━━━━━━\u001b[0m\u001b[37m\u001b[0m \u001b[1m1s\u001b[0m 9ms/step - loss: 0.3047 - root_mean_squared_error: 0.5509 - val_loss: 0.1390 - val_root_mean_squared_error: 0.3728\n",
      "Epoch 23/50\n",
      "\u001b[1m80/80\u001b[0m \u001b[32m━━━━━━━━━━━━━━━━━━━━\u001b[0m\u001b[37m\u001b[0m \u001b[1m1s\u001b[0m 9ms/step - loss: 0.2773 - root_mean_squared_error: 0.5261 - val_loss: 0.1587 - val_root_mean_squared_error: 0.3984\n",
      "Epoch 24/50\n",
      "\u001b[1m80/80\u001b[0m \u001b[32m━━━━━━━━━━━━━━━━━━━━\u001b[0m\u001b[37m\u001b[0m \u001b[1m1s\u001b[0m 9ms/step - loss: 0.2708 - root_mean_squared_error: 0.5193 - val_loss: 0.1398 - val_root_mean_squared_error: 0.3739\n",
      "Epoch 25/50\n",
      "\u001b[1m80/80\u001b[0m \u001b[32m━━━━━━━━━━━━━━━━━━━━\u001b[0m\u001b[37m\u001b[0m \u001b[1m1s\u001b[0m 9ms/step - loss: 0.2505 - root_mean_squared_error: 0.4989 - val_loss: 0.1536 - val_root_mean_squared_error: 0.3919\n",
      "Epoch 26/50\n",
      "\u001b[1m80/80\u001b[0m \u001b[32m━━━━━━━━━━━━━━━━━━━━\u001b[0m\u001b[37m\u001b[0m \u001b[1m1s\u001b[0m 9ms/step - loss: 0.2113 - root_mean_squared_error: 0.4589 - val_loss: 0.1706 - val_root_mean_squared_error: 0.4130\n",
      "Epoch 27/50\n",
      "\u001b[1m80/80\u001b[0m \u001b[32m━━━━━━━━━━━━━━━━━━━━\u001b[0m\u001b[37m\u001b[0m \u001b[1m1s\u001b[0m 9ms/step - loss: 0.2727 - root_mean_squared_error: 0.5205 - val_loss: 0.1579 - val_root_mean_squared_error: 0.3974\n",
      "Epoch 28/50\n",
      "\u001b[1m80/80\u001b[0m \u001b[32m━━━━━━━━━━━━━━━━━━━━\u001b[0m\u001b[37m\u001b[0m \u001b[1m1s\u001b[0m 9ms/step - loss: 0.2390 - root_mean_squared_error: 0.4869 - val_loss: 0.1440 - val_root_mean_squared_error: 0.3795\n",
      "Epoch 29/50\n",
      "\u001b[1m80/80\u001b[0m \u001b[32m━━━━━━━━━━━━━━━━━━━━\u001b[0m\u001b[37m\u001b[0m \u001b[1m1s\u001b[0m 9ms/step - loss: 0.2123 - root_mean_squared_error: 0.4578 - val_loss: 0.1699 - val_root_mean_squared_error: 0.4122\n",
      "Epoch 30/50\n",
      "\u001b[1m80/80\u001b[0m \u001b[32m━━━━━━━━━━━━━━━━━━━━\u001b[0m\u001b[37m\u001b[0m \u001b[1m1s\u001b[0m 9ms/step - loss: 0.2228 - root_mean_squared_error: 0.4714 - val_loss: 0.1464 - val_root_mean_squared_error: 0.3826\n",
      "Epoch 31/50\n",
      "\u001b[1m80/80\u001b[0m \u001b[32m━━━━━━━━━━━━━━━━━━━━\u001b[0m\u001b[37m\u001b[0m \u001b[1m1s\u001b[0m 9ms/step - loss: 0.2318 - root_mean_squared_error: 0.4811 - val_loss: 0.1576 - val_root_mean_squared_error: 0.3970\n",
      "Epoch 32/50\n",
      "\u001b[1m80/80\u001b[0m \u001b[32m━━━━━━━━━━━━━━━━━━━━\u001b[0m\u001b[37m\u001b[0m \u001b[1m1s\u001b[0m 9ms/step - loss: 0.2453 - root_mean_squared_error: 0.4936 - val_loss: 0.1520 - val_root_mean_squared_error: 0.3899\n",
      "Epoch 33/50\n",
      "\u001b[1m80/80\u001b[0m \u001b[32m━━━━━━━━━━━━━━━━━━━━\u001b[0m\u001b[37m\u001b[0m \u001b[1m1s\u001b[0m 10ms/step - loss: 0.2128 - root_mean_squared_error: 0.4609 - val_loss: 0.1689 - val_root_mean_squared_error: 0.4110\n",
      "Epoch 34/50\n",
      "\u001b[1m80/80\u001b[0m \u001b[32m━━━━━━━━━━━━━━━━━━━━\u001b[0m\u001b[37m\u001b[0m \u001b[1m1s\u001b[0m 9ms/step - loss: 0.2132 - root_mean_squared_error: 0.4607 - val_loss: 0.1412 - val_root_mean_squared_error: 0.3757\n",
      "Epoch 35/50\n",
      "\u001b[1m80/80\u001b[0m \u001b[32m━━━━━━━━━━━━━━━━━━━━\u001b[0m\u001b[37m\u001b[0m \u001b[1m1s\u001b[0m 9ms/step - loss: 0.2279 - root_mean_squared_error: 0.4767 - val_loss: 0.1477 - val_root_mean_squared_error: 0.3844\n",
      "Epoch 36/50\n",
      "\u001b[1m80/80\u001b[0m \u001b[32m━━━━━━━━━━━━━━━━━━━━\u001b[0m\u001b[37m\u001b[0m \u001b[1m1s\u001b[0m 9ms/step - loss: 0.1910 - root_mean_squared_error: 0.4345 - val_loss: 0.1593 - val_root_mean_squared_error: 0.3991\n",
      "Epoch 37/50\n",
      "\u001b[1m80/80\u001b[0m \u001b[32m━━━━━━━━━━━━━━━━━━━━\u001b[0m\u001b[37m\u001b[0m \u001b[1m1s\u001b[0m 10ms/step - loss: 0.2311 - root_mean_squared_error: 0.4803 - val_loss: 0.1356 - val_root_mean_squared_error: 0.3682\n",
      "Epoch 38/50\n",
      "\u001b[1m80/80\u001b[0m \u001b[32m━━━━━━━━━━━━━━━━━━━━\u001b[0m\u001b[37m\u001b[0m \u001b[1m1s\u001b[0m 9ms/step - loss: 0.2363 - root_mean_squared_error: 0.4848 - val_loss: 0.1372 - val_root_mean_squared_error: 0.3704\n",
      "Epoch 39/50\n",
      "\u001b[1m80/80\u001b[0m \u001b[32m━━━━━━━━━━━━━━━━━━━━\u001b[0m\u001b[37m\u001b[0m \u001b[1m1s\u001b[0m 9ms/step - loss: 0.1883 - root_mean_squared_error: 0.4325 - val_loss: 0.1506 - val_root_mean_squared_error: 0.3881\n",
      "Epoch 40/50\n",
      "\u001b[1m80/80\u001b[0m \u001b[32m━━━━━━━━━━━━━━━━━━━━\u001b[0m\u001b[37m\u001b[0m \u001b[1m1s\u001b[0m 9ms/step - loss: 0.2199 - root_mean_squared_error: 0.4674 - val_loss: 0.1460 - val_root_mean_squared_error: 0.3821\n",
      "Epoch 41/50\n",
      "\u001b[1m80/80\u001b[0m \u001b[32m━━━━━━━━━━━━━━━━━━━━\u001b[0m\u001b[37m\u001b[0m \u001b[1m1s\u001b[0m 9ms/step - loss: 0.2023 - root_mean_squared_error: 0.4493 - val_loss: 0.1489 - val_root_mean_squared_error: 0.3859\n",
      "Epoch 42/50\n",
      "\u001b[1m80/80\u001b[0m \u001b[32m━━━━━━━━━━━━━━━━━━━━\u001b[0m\u001b[37m\u001b[0m \u001b[1m1s\u001b[0m 9ms/step - loss: 0.2150 - root_mean_squared_error: 0.4629 - val_loss: 0.1788 - val_root_mean_squared_error: 0.4229\n",
      "Epoch 43/50\n",
      "\u001b[1m80/80\u001b[0m \u001b[32m━━━━━━━━━━━━━━━━━━━━\u001b[0m\u001b[37m\u001b[0m \u001b[1m1s\u001b[0m 9ms/step - loss: 0.2064 - root_mean_squared_error: 0.4535 - val_loss: 0.2599 - val_root_mean_squared_error: 0.5098\n",
      "Epoch 44/50\n",
      "\u001b[1m80/80\u001b[0m \u001b[32m━━━━━━━━━━━━━━━━━━━━\u001b[0m\u001b[37m\u001b[0m \u001b[1m1s\u001b[0m 11ms/step - loss: 0.2193 - root_mean_squared_error: 0.4680 - val_loss: 0.1351 - val_root_mean_squared_error: 0.3676\n",
      "Epoch 45/50\n",
      "\u001b[1m80/80\u001b[0m \u001b[32m━━━━━━━━━━━━━━━━━━━━\u001b[0m\u001b[37m\u001b[0m \u001b[1m1s\u001b[0m 10ms/step - loss: 0.2021 - root_mean_squared_error: 0.4487 - val_loss: 0.1450 - val_root_mean_squared_error: 0.3808\n",
      "Epoch 46/50\n",
      "\u001b[1m80/80\u001b[0m \u001b[32m━━━━━━━━━━━━━━━━━━━━\u001b[0m\u001b[37m\u001b[0m \u001b[1m1s\u001b[0m 11ms/step - loss: 0.2057 - root_mean_squared_error: 0.4527 - val_loss: 0.1449 - val_root_mean_squared_error: 0.3807\n",
      "Epoch 47/50\n",
      "\u001b[1m80/80\u001b[0m \u001b[32m━━━━━━━━━━━━━━━━━━━━\u001b[0m\u001b[37m\u001b[0m \u001b[1m1s\u001b[0m 9ms/step - loss: 0.2433 - root_mean_squared_error: 0.4875 - val_loss: 0.1436 - val_root_mean_squared_error: 0.3789\n",
      "Epoch 48/50\n",
      "\u001b[1m80/80\u001b[0m \u001b[32m━━━━━━━━━━━━━━━━━━━━\u001b[0m\u001b[37m\u001b[0m \u001b[1m1s\u001b[0m 9ms/step - loss: 0.2033 - root_mean_squared_error: 0.4497 - val_loss: 0.1818 - val_root_mean_squared_error: 0.4264\n",
      "Epoch 49/50\n",
      "\u001b[1m80/80\u001b[0m \u001b[32m━━━━━━━━━━━━━━━━━━━━\u001b[0m\u001b[37m\u001b[0m \u001b[1m1s\u001b[0m 9ms/step - loss: 0.1981 - root_mean_squared_error: 0.4446 - val_loss: 0.2385 - val_root_mean_squared_error: 0.4883\n",
      "Epoch 50/50\n",
      "\u001b[1m80/80\u001b[0m \u001b[32m━━━━━━━━━━━━━━━━━━━━\u001b[0m\u001b[37m\u001b[0m \u001b[1m1s\u001b[0m 9ms/step - loss: 0.1652 - root_mean_squared_error: 0.4057 - val_loss: 0.1876 - val_root_mean_squared_error: 0.4331\n"
     ]
    },
    {
     "data": {
      "text/plain": [
       "<keras.src.callbacks.history.History at 0x7ee44f2cf9a0>"
      ]
     },
     "execution_count": 86,
     "metadata": {},
     "output_type": "execute_result"
    }
   ],
   "source": [
    "model10 = Sequential()\n",
    "model10.add(InputLayer((6, 6)))  # 6 timestamps, 6 features\n",
    "model10.add(BatchNormalization())  # Normalize inputs\n",
    "model10.add(GRU(128, activation='relu', return_sequences=True))  # GRU layer\n",
    "model10.add(Dropout(0.3))  # Dropout for regularization\n",
    "model10.add(GRU(64, activation='relu', return_sequences=False))  # Second GRU layer\n",
    "model10.add(Dense(32, activation='relu'))  # Fully connected layer\n",
    "model10.add(Dense(16, activation='relu'))  # Second dense layer\n",
    "model10.add(Dense(1, activation='linear'))  # Output layer\n",
    "\n",
    "cp10 = ModelCheckpoint('/kaggle/working/model10.keras', save_best_only=True)\n",
    "\n",
    "model10.compile(loss=MeanSquaredError(), optimizer=Adam(learning_rate=0.001), \n",
    "               metrics=[RootMeanSquaredError()])\n",
    "\n",
    "model10.fit(X_train1, y_train1, validation_data=(X_val1, y_val1), epochs=50, \n",
    "           callbacks=[cp10])"
   ]
  },
  {
   "cell_type": "code",
   "execution_count": 87,
   "id": "6de89510",
   "metadata": {
    "execution": {
     "iopub.execute_input": "2025-01-27T20:09:09.567836Z",
     "iopub.status.busy": "2025-01-27T20:09:09.567485Z",
     "iopub.status.idle": "2025-01-27T20:09:09.756947Z",
     "shell.execute_reply": "2025-01-27T20:09:09.756065Z"
    },
    "papermill": {
     "duration": 0.522108,
     "end_time": "2025-01-27T20:09:09.758658",
     "exception": false,
     "start_time": "2025-01-27T20:09:09.236550",
     "status": "completed"
    },
    "tags": []
   },
   "outputs": [],
   "source": [
    "from tensorflow.keras.models import load_model\n",
    "model10 = load_model('/kaggle/working/model10.keras')"
   ]
  },
  {
   "cell_type": "code",
   "execution_count": 88,
   "id": "0cf7da3b",
   "metadata": {
    "execution": {
     "iopub.execute_input": "2025-01-27T20:09:10.496969Z",
     "iopub.status.busy": "2025-01-27T20:09:10.496602Z",
     "iopub.status.idle": "2025-01-27T20:09:11.522159Z",
     "shell.execute_reply": "2025-01-27T20:09:11.520999Z"
    },
    "papermill": {
     "duration": 1.365063,
     "end_time": "2025-01-27T20:09:11.523932",
     "exception": false,
     "start_time": "2025-01-27T20:09:10.158869",
     "status": "completed"
    },
    "tags": []
   },
   "outputs": [
    {
     "name": "stdout",
     "output_type": "stream",
     "text": [
      "\u001b[1m80/80\u001b[0m \u001b[32m━━━━━━━━━━━━━━━━━━━━\u001b[0m\u001b[37m\u001b[0m \u001b[1m1s\u001b[0m 7ms/step\n",
      "Evaluation Metrics:\n",
      "Mean Absolute Error (MAE): 0.2370\n",
      "Mean Squared Error (MSE): 0.1691\n",
      "Root Mean Squared Error (RMSE): 0.4112\n",
      "R-squared (Accuracy): 0.8265\n"
     ]
    }
   ],
   "source": [
    "# Evaluate the model on the train data\n",
    "train_result = model10.predict(X_train1)\n",
    "\n",
    "# Calculate metrics\n",
    "mse = mean_squared_error(y_train1, train_result)\n",
    "rmse = np.sqrt(mse)\n",
    "mae = mean_absolute_error(y_train1, train_result)\n",
    "r2 = r2_score(y_train1, train_result)\n",
    "\n",
    "# Print the results\n",
    "print(\"Evaluation Metrics:\")\n",
    "print(f\"Mean Absolute Error (MAE): {mae:.4f}\")\n",
    "print(f\"Mean Squared Error (MSE): {mse:.4f}\")\n",
    "print(f\"Root Mean Squared Error (RMSE): {rmse:.4f}\")\n",
    "print(f\"R-squared (Accuracy): {r2:.4f}\")"
   ]
  },
  {
   "cell_type": "code",
   "execution_count": 89,
   "id": "0993d2c1",
   "metadata": {
    "execution": {
     "iopub.execute_input": "2025-01-27T20:09:12.208718Z",
     "iopub.status.busy": "2025-01-27T20:09:12.208291Z",
     "iopub.status.idle": "2025-01-27T20:09:12.324635Z",
     "shell.execute_reply": "2025-01-27T20:09:12.323378Z"
    },
    "papermill": {
     "duration": 0.464657,
     "end_time": "2025-01-27T20:09:12.326480",
     "exception": false,
     "start_time": "2025-01-27T20:09:11.861823",
     "status": "completed"
    },
    "tags": []
   },
   "outputs": [
    {
     "name": "stdout",
     "output_type": "stream",
     "text": [
      "\u001b[1m10/10\u001b[0m \u001b[32m━━━━━━━━━━━━━━━━━━━━\u001b[0m\u001b[37m\u001b[0m \u001b[1m0s\u001b[0m 3ms/step \n",
      "Evaluation Metrics:\n",
      "Mean Absolute Error (MAE): 0.2283\n",
      "Mean Squared Error (MSE): 0.1351\n",
      "Root Mean Squared Error (RMSE): 0.3676\n",
      "R-squared (Accuracy): 0.9043\n"
     ]
    }
   ],
   "source": [
    "# Evaluate the model on the validation data\n",
    "val_result = model10.predict(X_val1)\n",
    "\n",
    "# Calculate metrics\n",
    "mse = mean_squared_error(y_val1, val_result)\n",
    "rmse = np.sqrt(mse)\n",
    "mae = mean_absolute_error(y_val1, val_result)\n",
    "r2 = r2_score(y_val1, val_result)\n",
    "\n",
    "# Print the results\n",
    "print(\"Evaluation Metrics:\")\n",
    "print(f\"Mean Absolute Error (MAE): {mae:.4f}\")\n",
    "print(f\"Mean Squared Error (MSE): {mse:.4f}\")\n",
    "print(f\"Root Mean Squared Error (RMSE): {rmse:.4f}\")\n",
    "print(f\"R-squared (Accuracy): {r2:.4f}\")"
   ]
  },
  {
   "cell_type": "code",
   "execution_count": 90,
   "id": "582ad07b",
   "metadata": {
    "execution": {
     "iopub.execute_input": "2025-01-27T20:09:13.061019Z",
     "iopub.status.busy": "2025-01-27T20:09:13.060638Z",
     "iopub.status.idle": "2025-01-27T20:09:13.174329Z",
     "shell.execute_reply": "2025-01-27T20:09:13.173273Z"
    },
    "papermill": {
     "duration": 0.45437,
     "end_time": "2025-01-27T20:09:13.176270",
     "exception": false,
     "start_time": "2025-01-27T20:09:12.721900",
     "status": "completed"
    },
    "tags": []
   },
   "outputs": [
    {
     "name": "stdout",
     "output_type": "stream",
     "text": [
      "\u001b[1m10/10\u001b[0m \u001b[32m━━━━━━━━━━━━━━━━━━━━\u001b[0m\u001b[37m\u001b[0m \u001b[1m0s\u001b[0m 3ms/step \n",
      "Evaluation Metrics:\n",
      "Mean Absolute Error (MAE): 0.3148\n",
      "Mean Squared Error (MSE): 0.2248\n",
      "Root Mean Squared Error (RMSE): 0.4741\n",
      "R-squared (Accuracy): 0.6393\n"
     ]
    }
   ],
   "source": [
    "# Evaluate the model on the test data\n",
    "test_result = model10.predict(X_test1)\n",
    "\n",
    "# Calculate metrics\n",
    "mse = mean_squared_error(y_test1, test_result)\n",
    "rmse = np.sqrt(mse)\n",
    "mae = mean_absolute_error(y_test1, test_result)\n",
    "r2 = r2_score(y_test1, test_result)\n",
    "\n",
    "# Print the results\n",
    "print(\"Evaluation Metrics:\")\n",
    "print(f\"Mean Absolute Error (MAE): {mae:.4f}\")\n",
    "print(f\"Mean Squared Error (MSE): {mse:.4f}\")\n",
    "print(f\"Root Mean Squared Error (RMSE): {rmse:.4f}\")\n",
    "print(f\"R-squared (Accuracy): {r2:.4f}\")"
   ]
  },
  {
   "cell_type": "code",
   "execution_count": 91,
   "id": "93dfff6b",
   "metadata": {
    "execution": {
     "iopub.execute_input": "2025-01-27T20:09:13.853631Z",
     "iopub.status.busy": "2025-01-27T20:09:13.853190Z",
     "iopub.status.idle": "2025-01-27T20:09:14.225092Z",
     "shell.execute_reply": "2025-01-27T20:09:14.223891Z"
    },
    "papermill": {
     "duration": 0.7108,
     "end_time": "2025-01-27T20:09:14.227122",
     "exception": false,
     "start_time": "2025-01-27T20:09:13.516322",
     "status": "completed"
    },
    "tags": []
   },
   "outputs": [
    {
     "name": "stdout",
     "output_type": "stream",
     "text": [
      "\u001b[1m80/80\u001b[0m \u001b[32m━━━━━━━━━━━━━━━━━━━━\u001b[0m\u001b[37m\u001b[0m \u001b[1m0s\u001b[0m 3ms/step\n"
     ]
    },
    {
     "data": {
      "text/html": [
       "<div>\n",
       "<style scoped>\n",
       "    .dataframe tbody tr th:only-of-type {\n",
       "        vertical-align: middle;\n",
       "    }\n",
       "\n",
       "    .dataframe tbody tr th {\n",
       "        vertical-align: top;\n",
       "    }\n",
       "\n",
       "    .dataframe thead th {\n",
       "        text-align: right;\n",
       "    }\n",
       "</style>\n",
       "<table border=\"1\" class=\"dataframe\">\n",
       "  <thead>\n",
       "    <tr style=\"text-align: right;\">\n",
       "      <th></th>\n",
       "      <th>Train Predictions</th>\n",
       "      <th>Actuals</th>\n",
       "    </tr>\n",
       "  </thead>\n",
       "  <tbody>\n",
       "    <tr>\n",
       "      <th>0</th>\n",
       "      <td>0.932000</td>\n",
       "      <td>0.125125</td>\n",
       "    </tr>\n",
       "    <tr>\n",
       "      <th>1</th>\n",
       "      <td>0.057113</td>\n",
       "      <td>0.221318</td>\n",
       "    </tr>\n",
       "    <tr>\n",
       "      <th>2</th>\n",
       "      <td>0.255342</td>\n",
       "      <td>0.441188</td>\n",
       "    </tr>\n",
       "    <tr>\n",
       "      <th>3</th>\n",
       "      <td>0.253415</td>\n",
       "      <td>0.303769</td>\n",
       "    </tr>\n",
       "    <tr>\n",
       "      <th>4</th>\n",
       "      <td>0.669289</td>\n",
       "      <td>0.619833</td>\n",
       "    </tr>\n",
       "    <tr>\n",
       "      <th>...</th>\n",
       "      <td>...</td>\n",
       "      <td>...</td>\n",
       "    </tr>\n",
       "    <tr>\n",
       "      <th>2550</th>\n",
       "      <td>2.688711</td>\n",
       "      <td>3.079634</td>\n",
       "    </tr>\n",
       "    <tr>\n",
       "      <th>2551</th>\n",
       "      <td>1.638267</td>\n",
       "      <td>0.083899</td>\n",
       "    </tr>\n",
       "    <tr>\n",
       "      <th>2552</th>\n",
       "      <td>0.514453</td>\n",
       "      <td>0.468672</td>\n",
       "    </tr>\n",
       "    <tr>\n",
       "      <th>2553</th>\n",
       "      <td>0.570027</td>\n",
       "      <td>0.386221</td>\n",
       "    </tr>\n",
       "    <tr>\n",
       "      <th>2554</th>\n",
       "      <td>0.398183</td>\n",
       "      <td>0.482414</td>\n",
       "    </tr>\n",
       "  </tbody>\n",
       "</table>\n",
       "<p>2555 rows × 2 columns</p>\n",
       "</div>"
      ],
      "text/plain": [
       "      Train Predictions   Actuals\n",
       "0              0.932000  0.125125\n",
       "1              0.057113  0.221318\n",
       "2              0.255342  0.441188\n",
       "3              0.253415  0.303769\n",
       "4              0.669289  0.619833\n",
       "...                 ...       ...\n",
       "2550           2.688711  3.079634\n",
       "2551           1.638267  0.083899\n",
       "2552           0.514453  0.468672\n",
       "2553           0.570027  0.386221\n",
       "2554           0.398183  0.482414\n",
       "\n",
       "[2555 rows x 2 columns]"
      ]
     },
     "execution_count": 91,
     "metadata": {},
     "output_type": "execute_result"
    }
   ],
   "source": [
    "train_predictions = model10.predict(X_train1).flatten()\n",
    "train_results = pd.DataFrame(data={'Train Predictions':train_predictions, 'Actuals':y_train1})\n",
    "train_results"
   ]
  },
  {
   "cell_type": "code",
   "execution_count": 92,
   "id": "af139cf4",
   "metadata": {
    "execution": {
     "iopub.execute_input": "2025-01-27T20:09:14.978899Z",
     "iopub.status.busy": "2025-01-27T20:09:14.978557Z",
     "iopub.status.idle": "2025-01-27T20:09:15.187762Z",
     "shell.execute_reply": "2025-01-27T20:09:15.186170Z"
    },
    "papermill": {
     "duration": 0.560916,
     "end_time": "2025-01-27T20:09:15.191240",
     "exception": false,
     "start_time": "2025-01-27T20:09:14.630324",
     "status": "completed"
    },
    "tags": []
   },
   "outputs": [
    {
     "data": {
      "image/png": "[encoded data removed]",
      "text/plain": [
       "<Figure size 640x480 with 1 Axes>"
      ]
     },
     "metadata": {},
     "output_type": "display_data"
    }
   ],
   "source": [
    "plt.plot(train_results['Actuals'][1:50], label='Actual')\n",
    "plt.plot(train_results['Train Predictions'][1:50], label='Predicted')\n",
    "plt.legend()\n",
    "plt.show()"
   ]
  },
  {
   "cell_type": "code",
   "execution_count": 93,
   "id": "53756150",
   "metadata": {
    "execution": {
     "iopub.execute_input": "2025-01-27T20:09:15.878304Z",
     "iopub.status.busy": "2025-01-27T20:09:15.877924Z",
     "iopub.status.idle": "2025-01-27T20:09:15.993618Z",
     "shell.execute_reply": "2025-01-27T20:09:15.992515Z"
    },
    "papermill": {
     "duration": 0.454403,
     "end_time": "2025-01-27T20:09:15.995512",
     "exception": false,
     "start_time": "2025-01-27T20:09:15.541109",
     "status": "completed"
    },
    "tags": []
   },
   "outputs": [
    {
     "name": "stdout",
     "output_type": "stream",
     "text": [
      "\u001b[1m10/10\u001b[0m \u001b[32m━━━━━━━━━━━━━━━━━━━━\u001b[0m\u001b[37m\u001b[0m \u001b[1m0s\u001b[0m 3ms/step \n"
     ]
    },
    {
     "data": {
      "text/html": [
       "<div>\n",
       "<style scoped>\n",
       "    .dataframe tbody tr th:only-of-type {\n",
       "        vertical-align: middle;\n",
       "    }\n",
       "\n",
       "    .dataframe tbody tr th {\n",
       "        vertical-align: top;\n",
       "    }\n",
       "\n",
       "    .dataframe thead th {\n",
       "        text-align: right;\n",
       "    }\n",
       "</style>\n",
       "<table border=\"1\" class=\"dataframe\">\n",
       "  <thead>\n",
       "    <tr style=\"text-align: right;\">\n",
       "      <th></th>\n",
       "      <th>Train Predictions</th>\n",
       "      <th>Actuals</th>\n",
       "    </tr>\n",
       "  </thead>\n",
       "  <tbody>\n",
       "    <tr>\n",
       "      <th>0</th>\n",
       "      <td>1.720211</td>\n",
       "      <td>1.856604</td>\n",
       "    </tr>\n",
       "    <tr>\n",
       "      <th>1</th>\n",
       "      <td>1.779905</td>\n",
       "      <td>1.856604</td>\n",
       "    </tr>\n",
       "    <tr>\n",
       "      <th>2</th>\n",
       "      <td>1.861052</td>\n",
       "      <td>1.856604</td>\n",
       "    </tr>\n",
       "    <tr>\n",
       "      <th>3</th>\n",
       "      <td>1.861052</td>\n",
       "      <td>1.856604</td>\n",
       "    </tr>\n",
       "    <tr>\n",
       "      <th>4</th>\n",
       "      <td>1.861052</td>\n",
       "      <td>1.856604</td>\n",
       "    </tr>\n",
       "    <tr>\n",
       "      <th>...</th>\n",
       "      <td>...</td>\n",
       "      <td>...</td>\n",
       "    </tr>\n",
       "    <tr>\n",
       "      <th>310</th>\n",
       "      <td>0.516217</td>\n",
       "      <td>0.413705</td>\n",
       "    </tr>\n",
       "    <tr>\n",
       "      <th>311</th>\n",
       "      <td>1.009800</td>\n",
       "      <td>0.496156</td>\n",
       "    </tr>\n",
       "    <tr>\n",
       "      <th>312</th>\n",
       "      <td>0.501800</td>\n",
       "      <td>0.468672</td>\n",
       "    </tr>\n",
       "    <tr>\n",
       "      <th>313</th>\n",
       "      <td>0.761325</td>\n",
       "      <td>0.468672</td>\n",
       "    </tr>\n",
       "    <tr>\n",
       "      <th>314</th>\n",
       "      <td>0.547613</td>\n",
       "      <td>0.372479</td>\n",
       "    </tr>\n",
       "  </tbody>\n",
       "</table>\n",
       "<p>315 rows × 2 columns</p>\n",
       "</div>"
      ],
      "text/plain": [
       "     Train Predictions   Actuals\n",
       "0             1.720211  1.856604\n",
       "1             1.779905  1.856604\n",
       "2             1.861052  1.856604\n",
       "3             1.861052  1.856604\n",
       "4             1.861052  1.856604\n",
       "..                 ...       ...\n",
       "310           0.516217  0.413705\n",
       "311           1.009800  0.496156\n",
       "312           0.501800  0.468672\n",
       "313           0.761325  0.468672\n",
       "314           0.547613  0.372479\n",
       "\n",
       "[315 rows x 2 columns]"
      ]
     },
     "execution_count": 93,
     "metadata": {},
     "output_type": "execute_result"
    }
   ],
   "source": [
    "val_predictions = model10.predict(X_val1).flatten()\n",
    "val_results = pd.DataFrame(data={'Train Predictions':val_predictions, 'Actuals':y_val1})\n",
    "val_results"
   ]
  },
  {
   "cell_type": "code",
   "execution_count": 94,
   "id": "f0c19878",
   "metadata": {
    "execution": {
     "iopub.execute_input": "2025-01-27T20:09:16.741409Z",
     "iopub.status.busy": "2025-01-27T20:09:16.741070Z",
     "iopub.status.idle": "2025-01-27T20:09:16.932711Z",
     "shell.execute_reply": "2025-01-27T20:09:16.931540Z"
    },
    "papermill": {
     "duration": 0.532716,
     "end_time": "2025-01-27T20:09:16.934671",
     "exception": false,
     "start_time": "2025-01-27T20:09:16.401955",
     "status": "completed"
    },
    "tags": []
   },
   "outputs": [
    {
     "data": {
      "image/png": "[encoded data removed]",
      "text/plain": [
       "<Figure size 640x480 with 1 Axes>"
      ]
     },
     "metadata": {},
     "output_type": "display_data"
    }
   ],
   "source": [
    "plt.plot(val_results['Actuals'][1:50], label='Actual')\n",
    "plt.plot(val_results['Train Predictions'][1:50], label='Predicted')\n",
    "plt.legend()\n",
    "plt.show()"
   ]
  },
  {
   "cell_type": "code",
   "execution_count": 95,
   "id": "1a6d1805",
   "metadata": {
    "execution": {
     "iopub.execute_input": "2025-01-27T20:09:17.617461Z",
     "iopub.status.busy": "2025-01-27T20:09:17.617066Z",
     "iopub.status.idle": "2025-01-27T20:09:17.728904Z",
     "shell.execute_reply": "2025-01-27T20:09:17.727932Z"
    },
    "papermill": {
     "duration": 0.452962,
     "end_time": "2025-01-27T20:09:17.730690",
     "exception": false,
     "start_time": "2025-01-27T20:09:17.277728",
     "status": "completed"
    },
    "tags": []
   },
   "outputs": [
    {
     "name": "stdout",
     "output_type": "stream",
     "text": [
      "\u001b[1m10/10\u001b[0m \u001b[32m━━━━━━━━━━━━━━━━━━━━\u001b[0m\u001b[37m\u001b[0m \u001b[1m0s\u001b[0m 3ms/step \n"
     ]
    },
    {
     "data": {
      "text/html": [
       "<div>\n",
       "<style scoped>\n",
       "    .dataframe tbody tr th:only-of-type {\n",
       "        vertical-align: middle;\n",
       "    }\n",
       "\n",
       "    .dataframe tbody tr th {\n",
       "        vertical-align: top;\n",
       "    }\n",
       "\n",
       "    .dataframe thead th {\n",
       "        text-align: right;\n",
       "    }\n",
       "</style>\n",
       "<table border=\"1\" class=\"dataframe\">\n",
       "  <thead>\n",
       "    <tr style=\"text-align: right;\">\n",
       "      <th></th>\n",
       "      <th>Train Predictions</th>\n",
       "      <th>Actuals</th>\n",
       "    </tr>\n",
       "  </thead>\n",
       "  <tbody>\n",
       "    <tr>\n",
       "      <th>0</th>\n",
       "      <td>0.638437</td>\n",
       "      <td>0.386221</td>\n",
       "    </tr>\n",
       "    <tr>\n",
       "      <th>1</th>\n",
       "      <td>0.723363</td>\n",
       "      <td>0.551124</td>\n",
       "    </tr>\n",
       "    <tr>\n",
       "      <th>2</th>\n",
       "      <td>0.515444</td>\n",
       "      <td>0.372479</td>\n",
       "    </tr>\n",
       "    <tr>\n",
       "      <th>3</th>\n",
       "      <td>0.529186</td>\n",
       "      <td>0.193834</td>\n",
       "    </tr>\n",
       "    <tr>\n",
       "      <th>4</th>\n",
       "      <td>0.406737</td>\n",
       "      <td>0.125125</td>\n",
       "    </tr>\n",
       "    <tr>\n",
       "      <th>...</th>\n",
       "      <td>...</td>\n",
       "      <td>...</td>\n",
       "    </tr>\n",
       "    <tr>\n",
       "      <th>312</th>\n",
       "      <td>-0.183049</td>\n",
       "      <td>-0.397067</td>\n",
       "    </tr>\n",
       "    <tr>\n",
       "      <th>313</th>\n",
       "      <td>-0.186501</td>\n",
       "      <td>-0.259648</td>\n",
       "    </tr>\n",
       "    <tr>\n",
       "      <th>314</th>\n",
       "      <td>-0.080785</td>\n",
       "      <td>-0.108488</td>\n",
       "    </tr>\n",
       "    <tr>\n",
       "      <th>315</th>\n",
       "      <td>-0.090059</td>\n",
       "      <td>-0.108488</td>\n",
       "    </tr>\n",
       "    <tr>\n",
       "      <th>316</th>\n",
       "      <td>-0.204602</td>\n",
       "      <td>-0.149713</td>\n",
       "    </tr>\n",
       "  </tbody>\n",
       "</table>\n",
       "<p>317 rows × 2 columns</p>\n",
       "</div>"
      ],
      "text/plain": [
       "     Train Predictions   Actuals\n",
       "0             0.638437  0.386221\n",
       "1             0.723363  0.551124\n",
       "2             0.515444  0.372479\n",
       "3             0.529186  0.193834\n",
       "4             0.406737  0.125125\n",
       "..                 ...       ...\n",
       "312          -0.183049 -0.397067\n",
       "313          -0.186501 -0.259648\n",
       "314          -0.080785 -0.108488\n",
       "315          -0.090059 -0.108488\n",
       "316          -0.204602 -0.149713\n",
       "\n",
       "[317 rows x 2 columns]"
      ]
     },
     "execution_count": 95,
     "metadata": {},
     "output_type": "execute_result"
    }
   ],
   "source": [
    "test_predictions = model10.predict(X_test1).flatten()\n",
    "test_results = pd.DataFrame(data={'Train Predictions':test_predictions, 'Actuals':y_test1})\n",
    "test_results"
   ]
  },
  {
   "cell_type": "code",
   "execution_count": 96,
   "id": "ff2cae9f",
   "metadata": {
    "execution": {
     "iopub.execute_input": "2025-01-27T20:09:18.485295Z",
     "iopub.status.busy": "2025-01-27T20:09:18.484920Z",
     "iopub.status.idle": "2025-01-27T20:09:18.663695Z",
     "shell.execute_reply": "2025-01-27T20:09:18.662355Z"
    },
    "papermill": {
     "duration": 0.591729,
     "end_time": "2025-01-27T20:09:18.665546",
     "exception": false,
     "start_time": "2025-01-27T20:09:18.073817",
     "status": "completed"
    },
    "tags": []
   },
   "outputs": [
    {
     "data": {
      "image/png": "[encoded data removed]",
      "text/plain": [
       "<Figure size 640x480 with 1 Axes>"
      ]
     },
     "metadata": {},
     "output_type": "display_data"
    }
   ],
   "source": [
    "plt.plot(test_results['Train Predictions'][1:50], label='Predicted')\n",
    "plt.plot(test_results['Actuals'][1:50], label='Actual')\n",
    "plt.legend()\n",
    "plt.show()"
   ]
  }
 ],
 "metadata": {
  "kaggle": {
   "accelerator": "none",
   "dataSources": [
    {
     "datasetId": 6557354,
     "sourceId": 10594490,
     "sourceType": "datasetVersion"
    },
    {
     "sourceId": 219513339,
     "sourceType": "kernelVersion"
    }
   ],
   "dockerImageVersionId": 30839,
   "isGpuEnabled": false,
   "isInternetEnabled": false,
   "language": "python",
   "sourceType": "notebook"
  },
  "kernelspec": {
   "display_name": "Python 3",
   "language": "python",
   "name": "python3"
  },
  "language_info": {
   "codemirror_mode": {
    "name": "ipython",
    "version": 3
   },
   "file_extension": ".py",
   "mimetype": "text/x-python",
   "name": "python",
   "nbconvert_exporter": "python",
   "pygments_lexer": "ipython3",
   "version": "3.10.12"
  },
  "papermill": {
   "default_parameters": {},
   "duration": 365.345355,
   "end_time": "2025-01-27T20:09:22.208060",
   "environment_variables": {},
   "exception": null,
   "input_path": "__notebook__.ipynb",
   "output_path": "__notebook__.ipynb",
   "parameters": {},
   "start_time": "2025-01-27T20:03:16.862705",
   "version": "2.6.0"
  }
 },
 "nbformat": 4,
 "nbformat_minor": 5
}
