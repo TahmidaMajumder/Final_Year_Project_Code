{
 "cells": [
  {
   "cell_type": "code",
   "execution_count": 1,
   "id": "7fcb214f",
   "metadata": {
    "_cell_guid": "0bd5fd8f-4de5-406f-92da-d16f3c990795",
    "_uuid": "63737120-456d-498d-a950-7893b9099e72",
    "execution": {
     "iopub.execute_input": "2025-01-28T11:38:33.998073Z",
     "iopub.status.busy": "2025-01-28T11:38:33.997659Z",
     "iopub.status.idle": "2025-01-28T11:38:36.986007Z",
     "shell.execute_reply": "2025-01-28T11:38:36.984880Z"
    },
    "papermill": {
     "duration": 3.016346,
     "end_time": "2025-01-28T11:38:36.987925",
     "exception": false,
     "start_time": "2025-01-28T11:38:33.971579",
     "status": "completed"
    },
    "tags": []
   },
   "outputs": [],
   "source": [
    "# Packages / libraries\n",
    "import os #provides functions for interacting with the operating system\n",
    "import numpy as np\n",
    "import pandas as pd\n",
    "from matplotlib import pyplot as plt\n",
    "import seaborn as sns\n",
    "\n",
    "from sklearn.preprocessing import MinMaxScaler\n",
    "from sklearn.preprocessing import StandardScaler\n",
    "\n",
    "from sklearn.metrics import r2_score, explained_variance_score, mean_absolute_error, mean_squared_error\n",
    "from math import sqrt\n",
    "\n",
    "# remove warnings\n",
    "import warnings\n",
    "warnings.simplefilter(action='ignore', category=RuntimeWarning)"
   ]
  },
  {
   "cell_type": "markdown",
   "id": "d38d4470",
   "metadata": {
    "papermill": {
     "duration": 0.021812,
     "end_time": "2025-01-28T11:38:37.033000",
     "exception": false,
     "start_time": "2025-01-28T11:38:37.011188",
     "status": "completed"
    },
    "tags": []
   },
   "source": [
    "# **1. Loading Dataset**"
   ]
  },
  {
   "cell_type": "code",
   "execution_count": 2,
   "id": "cc95ba2f",
   "metadata": {
    "execution": {
     "iopub.execute_input": "2025-01-28T11:38:37.079117Z",
     "iopub.status.busy": "2025-01-28T11:38:37.078584Z",
     "iopub.status.idle": "2025-01-28T11:38:37.134368Z",
     "shell.execute_reply": "2025-01-28T11:38:37.133282Z"
    },
    "papermill": {
     "duration": 0.081787,
     "end_time": "2025-01-28T11:38:37.136861",
     "exception": false,
     "start_time": "2025-01-28T11:38:37.055074",
     "status": "completed"
    },
    "tags": []
   },
   "outputs": [
    {
     "name": "stdout",
     "output_type": "stream",
     "text": [
      "(2399, 12)\n"
     ]
    },
    {
     "data": {
      "text/html": [
       "<div>\n",
       "<style scoped>\n",
       "    .dataframe tbody tr th:only-of-type {\n",
       "        vertical-align: middle;\n",
       "    }\n",
       "\n",
       "    .dataframe tbody tr th {\n",
       "        vertical-align: top;\n",
       "    }\n",
       "\n",
       "    .dataframe thead th {\n",
       "        text-align: right;\n",
       "    }\n",
       "</style>\n",
       "<table border=\"1\" class=\"dataframe\">\n",
       "  <thead>\n",
       "    <tr style=\"text-align: right;\">\n",
       "      <th></th>\n",
       "      <th>Date</th>\n",
       "      <th>co</th>\n",
       "      <th>no2</th>\n",
       "      <th>o3</th>\n",
       "      <th>pm10</th>\n",
       "      <th>pm25</th>\n",
       "      <th>so2</th>\n",
       "      <th>humidity</th>\n",
       "      <th>pressure</th>\n",
       "      <th>temperature</th>\n",
       "      <th>wind-speed</th>\n",
       "      <th>Country_City</th>\n",
       "    </tr>\n",
       "  </thead>\n",
       "  <tbody>\n",
       "    <tr>\n",
       "      <th>0</th>\n",
       "      <td>2014-12-29</td>\n",
       "      <td>14.1</td>\n",
       "      <td>36.2</td>\n",
       "      <td>3.2</td>\n",
       "      <td>218.0</td>\n",
       "      <td>307.0</td>\n",
       "      <td>4.2</td>\n",
       "      <td>NaN</td>\n",
       "      <td>NaN</td>\n",
       "      <td>NaN</td>\n",
       "      <td>NaN</td>\n",
       "      <td>India_Delhi</td>\n",
       "    </tr>\n",
       "    <tr>\n",
       "      <th>1</th>\n",
       "      <td>2014-12-30</td>\n",
       "      <td>20.4</td>\n",
       "      <td>36.8</td>\n",
       "      <td>4.8</td>\n",
       "      <td>330.0</td>\n",
       "      <td>367.0</td>\n",
       "      <td>5.8</td>\n",
       "      <td>NaN</td>\n",
       "      <td>NaN</td>\n",
       "      <td>NaN</td>\n",
       "      <td>NaN</td>\n",
       "      <td>India_Delhi</td>\n",
       "    </tr>\n",
       "    <tr>\n",
       "      <th>2</th>\n",
       "      <td>2014-12-31</td>\n",
       "      <td>12.7</td>\n",
       "      <td>28.7</td>\n",
       "      <td>7.8</td>\n",
       "      <td>137.0</td>\n",
       "      <td>202.0</td>\n",
       "      <td>6.3</td>\n",
       "      <td>NaN</td>\n",
       "      <td>NaN</td>\n",
       "      <td>NaN</td>\n",
       "      <td>NaN</td>\n",
       "      <td>India_Delhi</td>\n",
       "    </tr>\n",
       "    <tr>\n",
       "      <th>3</th>\n",
       "      <td>2015-01-01</td>\n",
       "      <td>20.8</td>\n",
       "      <td>66.5</td>\n",
       "      <td>5.2</td>\n",
       "      <td>230.0</td>\n",
       "      <td>382.0</td>\n",
       "      <td>9.9</td>\n",
       "      <td>NaN</td>\n",
       "      <td>NaN</td>\n",
       "      <td>NaN</td>\n",
       "      <td>NaN</td>\n",
       "      <td>India_Delhi</td>\n",
       "    </tr>\n",
       "    <tr>\n",
       "      <th>4</th>\n",
       "      <td>2015-01-02</td>\n",
       "      <td>12.7</td>\n",
       "      <td>33.9</td>\n",
       "      <td>6.0</td>\n",
       "      <td>81.0</td>\n",
       "      <td>172.0</td>\n",
       "      <td>4.2</td>\n",
       "      <td>NaN</td>\n",
       "      <td>NaN</td>\n",
       "      <td>NaN</td>\n",
       "      <td>NaN</td>\n",
       "      <td>India_Delhi</td>\n",
       "    </tr>\n",
       "  </tbody>\n",
       "</table>\n",
       "</div>"
      ],
      "text/plain": [
       "         Date    co   no2   o3   pm10   pm25  so2  humidity  pressure  \\\n",
       "0  2014-12-29  14.1  36.2  3.2  218.0  307.0  4.2       NaN       NaN   \n",
       "1  2014-12-30  20.4  36.8  4.8  330.0  367.0  5.8       NaN       NaN   \n",
       "2  2014-12-31  12.7  28.7  7.8  137.0  202.0  6.3       NaN       NaN   \n",
       "3  2015-01-01  20.8  66.5  5.2  230.0  382.0  9.9       NaN       NaN   \n",
       "4  2015-01-02  12.7  33.9  6.0   81.0  172.0  4.2       NaN       NaN   \n",
       "\n",
       "   temperature  wind-speed Country_City  \n",
       "0          NaN         NaN  India_Delhi  \n",
       "1          NaN         NaN  India_Delhi  \n",
       "2          NaN         NaN  India_Delhi  \n",
       "3          NaN         NaN  India_Delhi  \n",
       "4          NaN         NaN  India_Delhi  "
      ]
     },
     "execution_count": 2,
     "metadata": {},
     "output_type": "execute_result"
    }
   ],
   "source": [
    "# Loading the data\n",
    "new_data = pd.read_csv(\"/kaggle/input/seperated-data/India_Delhi.csv\")\n",
    "\n",
    "# print the shape\n",
    "print(new_data.shape)\n",
    "\n",
    "#runs the first 5 rows\n",
    "new_data.head()"
   ]
  },
  {
   "cell_type": "code",
   "execution_count": 3,
   "id": "c231a530",
   "metadata": {
    "execution": {
     "iopub.execute_input": "2025-01-28T11:38:37.184007Z",
     "iopub.status.busy": "2025-01-28T11:38:37.183612Z",
     "iopub.status.idle": "2025-01-28T11:38:37.191590Z",
     "shell.execute_reply": "2025-01-28T11:38:37.190275Z"
    },
    "papermill": {
     "duration": 0.032657,
     "end_time": "2025-01-28T11:38:37.193216",
     "exception": false,
     "start_time": "2025-01-28T11:38:37.160559",
     "status": "completed"
    },
    "tags": []
   },
   "outputs": [
    {
     "name": "stdout",
     "output_type": "stream",
     "text": [
      "Minimum date: 2014-12-29\n",
      "Maximum date: 2023-10-01\n"
     ]
    }
   ],
   "source": [
    "# Find the minimum and maximum dates\n",
    "min_date = new_data['Date'].min()\n",
    "max_date = new_data['Date'].max()\n",
    "\n",
    "print('Minimum date:', min_date)\n",
    "print('Maximum date:', max_date)"
   ]
  },
  {
   "cell_type": "code",
   "execution_count": 4,
   "id": "5e6ab60c",
   "metadata": {
    "execution": {
     "iopub.execute_input": "2025-01-28T11:38:37.239498Z",
     "iopub.status.busy": "2025-01-28T11:38:37.239090Z",
     "iopub.status.idle": "2025-01-28T11:38:37.265807Z",
     "shell.execute_reply": "2025-01-28T11:38:37.264511Z"
    },
    "papermill": {
     "duration": 0.052036,
     "end_time": "2025-01-28T11:38:37.267697",
     "exception": false,
     "start_time": "2025-01-28T11:38:37.215661",
     "status": "completed"
    },
    "tags": []
   },
   "outputs": [
    {
     "name": "stdout",
     "output_type": "stream",
     "text": [
      "<class 'pandas.core.frame.DataFrame'>\n",
      "RangeIndex: 2399 entries, 0 to 2398\n",
      "Data columns (total 12 columns):\n",
      " #   Column        Non-Null Count  Dtype  \n",
      "---  ------        --------------  -----  \n",
      " 0   Date          2399 non-null   object \n",
      " 1   co            2399 non-null   float64\n",
      " 2   no2           2399 non-null   float64\n",
      " 3   o3            2399 non-null   float64\n",
      " 4   pm10          2398 non-null   float64\n",
      " 5   pm25          2398 non-null   float64\n",
      " 6   so2           2399 non-null   float64\n",
      " 7   humidity      1698 non-null   float64\n",
      " 8   pressure      1698 non-null   float64\n",
      " 9   temperature   1698 non-null   float64\n",
      " 10  wind-speed    1629 non-null   float64\n",
      " 11  Country_City  2399 non-null   object \n",
      "dtypes: float64(10), object(2)\n",
      "memory usage: 225.0+ KB\n"
     ]
    }
   ],
   "source": [
    "new_data.info()"
   ]
  },
  {
   "cell_type": "code",
   "execution_count": 5,
   "id": "fce8231a",
   "metadata": {
    "execution": {
     "iopub.execute_input": "2025-01-28T11:38:37.314460Z",
     "iopub.status.busy": "2025-01-28T11:38:37.314087Z",
     "iopub.status.idle": "2025-01-28T11:38:37.349866Z",
     "shell.execute_reply": "2025-01-28T11:38:37.348905Z"
    },
    "papermill": {
     "duration": 0.061225,
     "end_time": "2025-01-28T11:38:37.351681",
     "exception": false,
     "start_time": "2025-01-28T11:38:37.290456",
     "status": "completed"
    },
    "tags": []
   },
   "outputs": [
    {
     "data": {
      "text/html": [
       "<div>\n",
       "<style scoped>\n",
       "    .dataframe tbody tr th:only-of-type {\n",
       "        vertical-align: middle;\n",
       "    }\n",
       "\n",
       "    .dataframe tbody tr th {\n",
       "        vertical-align: top;\n",
       "    }\n",
       "\n",
       "    .dataframe thead th {\n",
       "        text-align: right;\n",
       "    }\n",
       "</style>\n",
       "<table border=\"1\" class=\"dataframe\">\n",
       "  <thead>\n",
       "    <tr style=\"text-align: right;\">\n",
       "      <th></th>\n",
       "      <th>co</th>\n",
       "      <th>no2</th>\n",
       "      <th>o3</th>\n",
       "      <th>pm10</th>\n",
       "      <th>pm25</th>\n",
       "      <th>so2</th>\n",
       "      <th>humidity</th>\n",
       "      <th>pressure</th>\n",
       "      <th>temperature</th>\n",
       "      <th>wind-speed</th>\n",
       "    </tr>\n",
       "  </thead>\n",
       "  <tbody>\n",
       "    <tr>\n",
       "      <th>count</th>\n",
       "      <td>2399.000000</td>\n",
       "      <td>2399.000000</td>\n",
       "      <td>2399.000000</td>\n",
       "      <td>2398.000000</td>\n",
       "      <td>2398.000000</td>\n",
       "      <td>2399.000000</td>\n",
       "      <td>1698.000000</td>\n",
       "      <td>1698.000000</td>\n",
       "      <td>1698.000000</td>\n",
       "      <td>1629.000000</td>\n",
       "    </tr>\n",
       "    <tr>\n",
       "      <th>mean</th>\n",
       "      <td>9.325594</td>\n",
       "      <td>16.870946</td>\n",
       "      <td>9.480700</td>\n",
       "      <td>131.572143</td>\n",
       "      <td>164.397832</td>\n",
       "      <td>5.702751</td>\n",
       "      <td>60.708304</td>\n",
       "      <td>985.184923</td>\n",
       "      <td>26.338869</td>\n",
       "      <td>1.101964</td>\n",
       "    </tr>\n",
       "    <tr>\n",
       "      <th>std</th>\n",
       "      <td>3.715709</td>\n",
       "      <td>7.805715</td>\n",
       "      <td>4.829603</td>\n",
       "      <td>77.174642</td>\n",
       "      <td>64.829240</td>\n",
       "      <td>2.289821</td>\n",
       "      <td>17.138084</td>\n",
       "      <td>10.022854</td>\n",
       "      <td>6.631277</td>\n",
       "      <td>0.493156</td>\n",
       "    </tr>\n",
       "    <tr>\n",
       "      <th>min</th>\n",
       "      <td>0.100000</td>\n",
       "      <td>5.000000</td>\n",
       "      <td>2.400000</td>\n",
       "      <td>12.000000</td>\n",
       "      <td>30.000000</td>\n",
       "      <td>1.700000</td>\n",
       "      <td>13.000000</td>\n",
       "      <td>743.000000</td>\n",
       "      <td>6.200000</td>\n",
       "      <td>0.300000</td>\n",
       "    </tr>\n",
       "    <tr>\n",
       "      <th>25%</th>\n",
       "      <td>7.050000</td>\n",
       "      <td>10.600000</td>\n",
       "      <td>6.000000</td>\n",
       "      <td>82.000000</td>\n",
       "      <td>123.000000</td>\n",
       "      <td>4.000000</td>\n",
       "      <td>48.500000</td>\n",
       "      <td>979.800000</td>\n",
       "      <td>22.100000</td>\n",
       "      <td>0.800000</td>\n",
       "    </tr>\n",
       "    <tr>\n",
       "      <th>50%</th>\n",
       "      <td>8.400000</td>\n",
       "      <td>15.800000</td>\n",
       "      <td>8.200000</td>\n",
       "      <td>120.000000</td>\n",
       "      <td>160.000000</td>\n",
       "      <td>5.300000</td>\n",
       "      <td>63.000000</td>\n",
       "      <td>983.900000</td>\n",
       "      <td>28.600000</td>\n",
       "      <td>1.000000</td>\n",
       "    </tr>\n",
       "    <tr>\n",
       "      <th>75%</th>\n",
       "      <td>10.700000</td>\n",
       "      <td>21.500000</td>\n",
       "      <td>11.800000</td>\n",
       "      <td>160.000000</td>\n",
       "      <td>189.000000</td>\n",
       "      <td>7.100000</td>\n",
       "      <td>74.000000</td>\n",
       "      <td>990.400000</td>\n",
       "      <td>31.100000</td>\n",
       "      <td>1.300000</td>\n",
       "    </tr>\n",
       "    <tr>\n",
       "      <th>max</th>\n",
       "      <td>30.600000</td>\n",
       "      <td>66.500000</td>\n",
       "      <td>40.300000</td>\n",
       "      <td>999.000000</td>\n",
       "      <td>577.000000</td>\n",
       "      <td>19.800000</td>\n",
       "      <td>99.100000</td>\n",
       "      <td>1020.500000</td>\n",
       "      <td>38.000000</td>\n",
       "      <td>4.600000</td>\n",
       "    </tr>\n",
       "  </tbody>\n",
       "</table>\n",
       "</div>"
      ],
      "text/plain": [
       "                co          no2           o3         pm10         pm25  \\\n",
       "count  2399.000000  2399.000000  2399.000000  2398.000000  2398.000000   \n",
       "mean      9.325594    16.870946     9.480700   131.572143   164.397832   \n",
       "std       3.715709     7.805715     4.829603    77.174642    64.829240   \n",
       "min       0.100000     5.000000     2.400000    12.000000    30.000000   \n",
       "25%       7.050000    10.600000     6.000000    82.000000   123.000000   \n",
       "50%       8.400000    15.800000     8.200000   120.000000   160.000000   \n",
       "75%      10.700000    21.500000    11.800000   160.000000   189.000000   \n",
       "max      30.600000    66.500000    40.300000   999.000000   577.000000   \n",
       "\n",
       "               so2     humidity     pressure  temperature   wind-speed  \n",
       "count  2399.000000  1698.000000  1698.000000  1698.000000  1629.000000  \n",
       "mean      5.702751    60.708304   985.184923    26.338869     1.101964  \n",
       "std       2.289821    17.138084    10.022854     6.631277     0.493156  \n",
       "min       1.700000    13.000000   743.000000     6.200000     0.300000  \n",
       "25%       4.000000    48.500000   979.800000    22.100000     0.800000  \n",
       "50%       5.300000    63.000000   983.900000    28.600000     1.000000  \n",
       "75%       7.100000    74.000000   990.400000    31.100000     1.300000  \n",
       "max      19.800000    99.100000  1020.500000    38.000000     4.600000  "
      ]
     },
     "execution_count": 5,
     "metadata": {},
     "output_type": "execute_result"
    }
   ],
   "source": [
    "new_data.describe()"
   ]
  },
  {
   "cell_type": "code",
   "execution_count": 6,
   "id": "e5849bfe",
   "metadata": {
    "execution": {
     "iopub.execute_input": "2025-01-28T11:38:37.398814Z",
     "iopub.status.busy": "2025-01-28T11:38:37.398453Z",
     "iopub.status.idle": "2025-01-28T11:38:37.411479Z",
     "shell.execute_reply": "2025-01-28T11:38:37.410202Z"
    },
    "papermill": {
     "duration": 0.038628,
     "end_time": "2025-01-28T11:38:37.413230",
     "exception": false,
     "start_time": "2025-01-28T11:38:37.374602",
     "status": "completed"
    },
    "tags": []
   },
   "outputs": [
    {
     "name": "stdout",
     "output_type": "stream",
     "text": [
      "The number of values for feature Date :2397\n",
      "The number of values for feature co :200\n",
      "The number of values for feature no2 :328\n",
      "The number of values for feature o3 :226\n",
      "The number of values for feature pm10 :320\n",
      "The number of values for feature pm25 :309\n",
      "The number of values for feature so2 :116\n",
      "The number of values for feature humidity :602\n",
      "The number of values for feature pressure :300\n",
      "The number of values for feature temperature :264\n",
      "The number of values for feature wind-speed :33\n",
      "The number of values for feature Country_City :1 -- ['India_Delhi']\n"
     ]
    }
   ],
   "source": [
    "# Investigate all the elements whithin each Feature\n",
    "\n",
    "for column in new_data:\n",
    "    # Handle numerical and string columns differently\n",
    "    if new_data[column].dtype == 'object':  # Check if column is of object type\n",
    "        unique_vals = new_data[column].unique()  # pandas unique for strings\n",
    "    else:\n",
    "        unique_vals = np.unique(new_data[column])  # numpy unique for numerical types\n",
    "\n",
    "    nr_values = len(unique_vals)\n",
    "    if nr_values < 14:\n",
    "        print('The number of values for feature {} :{} -- {}'.format(column, nr_values,unique_vals))\n",
    "    else:\n",
    "        print('The number of values for feature {} :{}'.format(column, nr_values))"
   ]
  },
  {
   "cell_type": "code",
   "execution_count": 7,
   "id": "083c1309",
   "metadata": {
    "execution": {
     "iopub.execute_input": "2025-01-28T11:38:37.461360Z",
     "iopub.status.busy": "2025-01-28T11:38:37.460928Z",
     "iopub.status.idle": "2025-01-28T11:38:37.468779Z",
     "shell.execute_reply": "2025-01-28T11:38:37.467785Z"
    },
    "papermill": {
     "duration": 0.033585,
     "end_time": "2025-01-28T11:38:37.470536",
     "exception": false,
     "start_time": "2025-01-28T11:38:37.436951",
     "status": "completed"
    },
    "tags": []
   },
   "outputs": [
    {
     "data": {
      "text/plain": [
       "Date              0\n",
       "co                0\n",
       "no2               0\n",
       "o3                0\n",
       "pm10              1\n",
       "pm25              1\n",
       "so2               0\n",
       "humidity        701\n",
       "pressure        701\n",
       "temperature     701\n",
       "wind-speed      770\n",
       "Country_City      0\n",
       "dtype: int64"
      ]
     },
     "execution_count": 7,
     "metadata": {},
     "output_type": "execute_result"
    }
   ],
   "source": [
    "new_data.isna().sum()"
   ]
  },
  {
   "cell_type": "markdown",
   "id": "e7b6f5c1",
   "metadata": {
    "papermill": {
     "duration": 0.022945,
     "end_time": "2025-01-28T11:38:37.517323",
     "exception": false,
     "start_time": "2025-01-28T11:38:37.494378",
     "status": "completed"
    },
    "tags": []
   },
   "source": [
    "## **1.2 - Function**"
   ]
  },
  {
   "cell_type": "code",
   "execution_count": 8,
   "id": "415d4b3b",
   "metadata": {
    "execution": {
     "iopub.execute_input": "2025-01-28T11:38:37.565545Z",
     "iopub.status.busy": "2025-01-28T11:38:37.565133Z",
     "iopub.status.idle": "2025-01-28T11:38:37.570680Z",
     "shell.execute_reply": "2025-01-28T11:38:37.569719Z"
    },
    "papermill": {
     "duration": 0.031423,
     "end_time": "2025-01-28T11:38:37.572359",
     "exception": false,
     "start_time": "2025-01-28T11:38:37.540936",
     "status": "completed"
    },
    "tags": []
   },
   "outputs": [
    {
     "name": "stdout",
     "output_type": "stream",
     "text": [
      "['__results__.html', '__notebook__.ipynb', 'function.py', '__output__.json', 'custom.css']\n"
     ]
    }
   ],
   "source": [
    "print(os.listdir('/kaggle/usr/lib/function'))"
   ]
  },
  {
   "cell_type": "code",
   "execution_count": 9,
   "id": "feb010e4",
   "metadata": {
    "execution": {
     "iopub.execute_input": "2025-01-28T11:38:37.621157Z",
     "iopub.status.busy": "2025-01-28T11:38:37.620783Z",
     "iopub.status.idle": "2025-01-28T11:38:37.637755Z",
     "shell.execute_reply": "2025-01-28T11:38:37.636693Z"
    },
    "papermill": {
     "duration": 0.04367,
     "end_time": "2025-01-28T11:38:37.639817",
     "exception": false,
     "start_time": "2025-01-28T11:38:37.596147",
     "status": "completed"
    },
    "tags": []
   },
   "outputs": [],
   "source": [
    "import sys\n",
    "sys.path.append(\"/kaggle/usr/lib/function\")  # Add directory to the path\n",
    "\n",
    "import function as fn"
   ]
  },
  {
   "cell_type": "code",
   "execution_count": 10,
   "id": "6d47f5bc",
   "metadata": {
    "execution": {
     "iopub.execute_input": "2025-01-28T11:38:37.743968Z",
     "iopub.status.busy": "2025-01-28T11:38:37.743570Z",
     "iopub.status.idle": "2025-01-28T11:38:37.770393Z",
     "shell.execute_reply": "2025-01-28T11:38:37.769140Z"
    },
    "papermill": {
     "duration": 0.108393,
     "end_time": "2025-01-28T11:38:37.772177",
     "exception": false,
     "start_time": "2025-01-28T11:38:37.663784",
     "status": "completed"
    },
    "tags": []
   },
   "outputs": [
    {
     "data": {
      "text/html": [
       "<div>\n",
       "<style scoped>\n",
       "    .dataframe tbody tr th:only-of-type {\n",
       "        vertical-align: middle;\n",
       "    }\n",
       "\n",
       "    .dataframe tbody tr th {\n",
       "        vertical-align: top;\n",
       "    }\n",
       "\n",
       "    .dataframe thead th {\n",
       "        text-align: right;\n",
       "    }\n",
       "</style>\n",
       "<table border=\"1\" class=\"dataframe\">\n",
       "  <thead>\n",
       "    <tr style=\"text-align: right;\">\n",
       "      <th></th>\n",
       "      <th>co</th>\n",
       "      <th>no2</th>\n",
       "      <th>o3</th>\n",
       "      <th>pm10</th>\n",
       "      <th>pm25</th>\n",
       "      <th>so2</th>\n",
       "      <th>humidity</th>\n",
       "      <th>pressure</th>\n",
       "      <th>temperature</th>\n",
       "      <th>wind-speed</th>\n",
       "      <th>Country_City</th>\n",
       "    </tr>\n",
       "    <tr>\n",
       "      <th>Date</th>\n",
       "      <th></th>\n",
       "      <th></th>\n",
       "      <th></th>\n",
       "      <th></th>\n",
       "      <th></th>\n",
       "      <th></th>\n",
       "      <th></th>\n",
       "      <th></th>\n",
       "      <th></th>\n",
       "      <th></th>\n",
       "      <th></th>\n",
       "    </tr>\n",
       "  </thead>\n",
       "  <tbody>\n",
       "    <tr>\n",
       "      <th>2014-12-29</th>\n",
       "      <td>14.1</td>\n",
       "      <td>36.2</td>\n",
       "      <td>3.2</td>\n",
       "      <td>218.0</td>\n",
       "      <td>307.0</td>\n",
       "      <td>4.2</td>\n",
       "      <td>NaN</td>\n",
       "      <td>NaN</td>\n",
       "      <td>NaN</td>\n",
       "      <td>NaN</td>\n",
       "      <td>India_Delhi</td>\n",
       "    </tr>\n",
       "    <tr>\n",
       "      <th>2014-12-30</th>\n",
       "      <td>20.4</td>\n",
       "      <td>36.8</td>\n",
       "      <td>4.8</td>\n",
       "      <td>330.0</td>\n",
       "      <td>367.0</td>\n",
       "      <td>5.8</td>\n",
       "      <td>NaN</td>\n",
       "      <td>NaN</td>\n",
       "      <td>NaN</td>\n",
       "      <td>NaN</td>\n",
       "      <td>India_Delhi</td>\n",
       "    </tr>\n",
       "    <tr>\n",
       "      <th>2014-12-31</th>\n",
       "      <td>12.7</td>\n",
       "      <td>28.7</td>\n",
       "      <td>7.8</td>\n",
       "      <td>137.0</td>\n",
       "      <td>202.0</td>\n",
       "      <td>6.3</td>\n",
       "      <td>NaN</td>\n",
       "      <td>NaN</td>\n",
       "      <td>NaN</td>\n",
       "      <td>NaN</td>\n",
       "      <td>India_Delhi</td>\n",
       "    </tr>\n",
       "    <tr>\n",
       "      <th>2015-01-01</th>\n",
       "      <td>20.8</td>\n",
       "      <td>66.5</td>\n",
       "      <td>5.2</td>\n",
       "      <td>230.0</td>\n",
       "      <td>382.0</td>\n",
       "      <td>9.9</td>\n",
       "      <td>NaN</td>\n",
       "      <td>NaN</td>\n",
       "      <td>NaN</td>\n",
       "      <td>NaN</td>\n",
       "      <td>India_Delhi</td>\n",
       "    </tr>\n",
       "    <tr>\n",
       "      <th>2015-01-02</th>\n",
       "      <td>12.7</td>\n",
       "      <td>33.9</td>\n",
       "      <td>6.0</td>\n",
       "      <td>81.0</td>\n",
       "      <td>172.0</td>\n",
       "      <td>4.2</td>\n",
       "      <td>NaN</td>\n",
       "      <td>NaN</td>\n",
       "      <td>NaN</td>\n",
       "      <td>NaN</td>\n",
       "      <td>India_Delhi</td>\n",
       "    </tr>\n",
       "  </tbody>\n",
       "</table>\n",
       "</div>"
      ],
      "text/plain": [
       "              co   no2   o3   pm10   pm25  so2  humidity  pressure  \\\n",
       "Date                                                                 \n",
       "2014-12-29  14.1  36.2  3.2  218.0  307.0  4.2       NaN       NaN   \n",
       "2014-12-30  20.4  36.8  4.8  330.0  367.0  5.8       NaN       NaN   \n",
       "2014-12-31  12.7  28.7  7.8  137.0  202.0  6.3       NaN       NaN   \n",
       "2015-01-01  20.8  66.5  5.2  230.0  382.0  9.9       NaN       NaN   \n",
       "2015-01-02  12.7  33.9  6.0   81.0  172.0  4.2       NaN       NaN   \n",
       "\n",
       "            temperature  wind-speed Country_City  \n",
       "Date                                              \n",
       "2014-12-29          NaN         NaN  India_Delhi  \n",
       "2014-12-30          NaN         NaN  India_Delhi  \n",
       "2014-12-31          NaN         NaN  India_Delhi  \n",
       "2015-01-01          NaN         NaN  India_Delhi  \n",
       "2015-01-02          NaN         NaN  India_Delhi  "
      ]
     },
     "execution_count": 10,
     "metadata": {},
     "output_type": "execute_result"
    }
   ],
   "source": [
    "# Use the functions\n",
    "new_data1 = fn.prepare_datetime_index(new_data, date_column='Date')\n",
    "new_data1.head()"
   ]
  },
  {
   "cell_type": "code",
   "execution_count": 11,
   "id": "aeea36b9",
   "metadata": {
    "execution": {
     "iopub.execute_input": "2025-01-28T11:38:37.820891Z",
     "iopub.status.busy": "2025-01-28T11:38:37.820530Z",
     "iopub.status.idle": "2025-01-28T11:38:37.836008Z",
     "shell.execute_reply": "2025-01-28T11:38:37.834537Z"
    },
    "papermill": {
     "duration": 0.042302,
     "end_time": "2025-01-28T11:38:37.837940",
     "exception": false,
     "start_time": "2025-01-28T11:38:37.795638",
     "status": "completed"
    },
    "tags": []
   },
   "outputs": [
    {
     "name": "stdout",
     "output_type": "stream",
     "text": [
      "co              0\n",
      "no2             0\n",
      "o3              0\n",
      "pm10            0\n",
      "pm25            0\n",
      "so2             0\n",
      "humidity        0\n",
      "pressure        0\n",
      "temperature     0\n",
      "wind-speed      0\n",
      "Country_City    0\n",
      "dtype: int64\n"
     ]
    }
   ],
   "source": [
    "# Use the functions\n",
    "new_data2 = fn.fill_pollutant_values(new_data1)\n",
    "print(new_data2.isna().sum())"
   ]
  },
  {
   "cell_type": "markdown",
   "id": "53dfe103",
   "metadata": {
    "papermill": {
     "duration": 0.023097,
     "end_time": "2025-01-28T11:38:37.884662",
     "exception": false,
     "start_time": "2025-01-28T11:38:37.861565",
     "status": "completed"
    },
    "tags": []
   },
   "source": [
    "**Check**"
   ]
  },
  {
   "cell_type": "code",
   "execution_count": 12,
   "id": "d27675c5",
   "metadata": {
    "execution": {
     "iopub.execute_input": "2025-01-28T11:38:37.933135Z",
     "iopub.status.busy": "2025-01-28T11:38:37.932744Z",
     "iopub.status.idle": "2025-01-28T11:38:37.947723Z",
     "shell.execute_reply": "2025-01-28T11:38:37.946530Z"
    },
    "papermill": {
     "duration": 0.04126,
     "end_time": "2025-01-28T11:38:37.949858",
     "exception": false,
     "start_time": "2025-01-28T11:38:37.908598",
     "status": "completed"
    },
    "tags": []
   },
   "outputs": [
    {
     "name": "stdout",
     "output_type": "stream",
     "text": [
      "Missing Dates:\n",
      "DatetimeIndex(['2015-07-06', '2015-07-07', '2015-07-08', '2015-07-09',\n",
      "               '2015-07-10', '2015-07-11', '2015-07-12', '2015-07-13',\n",
      "               '2015-07-14', '2015-07-15',\n",
      "               ...\n",
      "               '2022-03-18', '2022-03-19', '2022-03-20', '2022-03-21',\n",
      "               '2022-03-22', '2022-03-23', '2022-03-24', '2022-03-25',\n",
      "               '2022-03-26', '2022-03-27'],\n",
      "              dtype='datetime64[ns]', length=802, freq=None)\n"
     ]
    }
   ],
   "source": [
    "# Create a complete range of dates\n",
    "full_range = pd.date_range(start=new_data2.index.min(), end=new_data2.index.max())\n",
    "\n",
    "# Find missing dates\n",
    "missing_dates = full_range.difference(new_data2.index)\n",
    "print(\"Missing Dates:\")\n",
    "print(missing_dates)"
   ]
  },
  {
   "cell_type": "code",
   "execution_count": 13,
   "id": "e65ae5ec",
   "metadata": {
    "execution": {
     "iopub.execute_input": "2025-01-28T11:38:37.998749Z",
     "iopub.status.busy": "2025-01-28T11:38:37.998339Z",
     "iopub.status.idle": "2025-01-28T11:38:38.009469Z",
     "shell.execute_reply": "2025-01-28T11:38:38.008509Z"
    },
    "papermill": {
     "duration": 0.037188,
     "end_time": "2025-01-28T11:38:38.011391",
     "exception": false,
     "start_time": "2025-01-28T11:38:37.974203",
     "status": "completed"
    },
    "tags": []
   },
   "outputs": [],
   "source": [
    "new_data3 = fn.impute_missing_dates(new_data2)"
   ]
  },
  {
   "cell_type": "code",
   "execution_count": 14,
   "id": "b77505e5",
   "metadata": {
    "execution": {
     "iopub.execute_input": "2025-01-28T11:38:38.061833Z",
     "iopub.status.busy": "2025-01-28T11:38:38.061464Z",
     "iopub.status.idle": "2025-01-28T11:38:38.070096Z",
     "shell.execute_reply": "2025-01-28T11:38:38.068852Z"
    },
    "papermill": {
     "duration": 0.03582,
     "end_time": "2025-01-28T11:38:38.072183",
     "exception": false,
     "start_time": "2025-01-28T11:38:38.036363",
     "status": "completed"
    },
    "tags": []
   },
   "outputs": [
    {
     "name": "stdout",
     "output_type": "stream",
     "text": [
      "Missing Dates:\n",
      "DatetimeIndex([], dtype='datetime64[ns]', freq='D')\n"
     ]
    }
   ],
   "source": [
    "# Create a complete range of dates\n",
    "full_range = pd.date_range(start=new_data3.index.min(), end=new_data3.index.max())\n",
    "\n",
    "# Find missing dates\n",
    "missing_dates = full_range.difference(new_data3.index)\n",
    "print(\"Missing Dates:\")\n",
    "print(missing_dates)"
   ]
  },
  {
   "cell_type": "code",
   "execution_count": 15,
   "id": "1d2ec3f2",
   "metadata": {
    "execution": {
     "iopub.execute_input": "2025-01-28T11:38:38.122642Z",
     "iopub.status.busy": "2025-01-28T11:38:38.122235Z",
     "iopub.status.idle": "2025-01-28T11:38:38.128595Z",
     "shell.execute_reply": "2025-01-28T11:38:38.127321Z"
    },
    "papermill": {
     "duration": 0.033194,
     "end_time": "2025-01-28T11:38:38.130351",
     "exception": false,
     "start_time": "2025-01-28T11:38:38.097157",
     "status": "completed"
    },
    "tags": []
   },
   "outputs": [
    {
     "name": "stdout",
     "output_type": "stream",
     "text": [
      "Duplicate indexes: DatetimeIndex([], dtype='datetime64[ns]', freq='D')\n"
     ]
    }
   ],
   "source": [
    "duplicates = new_data3.index[new_data3.index.duplicated()]\n",
    "print(f\"Duplicate indexes: {duplicates}\")"
   ]
  },
  {
   "cell_type": "markdown",
   "id": "c9ec2fa8",
   "metadata": {
    "papermill": {
     "duration": 0.023286,
     "end_time": "2025-01-28T11:38:38.177959",
     "exception": false,
     "start_time": "2025-01-28T11:38:38.154673",
     "status": "completed"
    },
    "tags": []
   },
   "source": [
    "## **1.3.Normal AQI count, After Normal AQI count Smoothing AQI(IQR, Z-score, Rolling), (Preprocess Pollution --> Smooth Pollution --> Calculate smooth aqi).**"
   ]
  },
  {
   "cell_type": "code",
   "execution_count": 16,
   "id": "937e24d7",
   "metadata": {
    "execution": {
     "iopub.execute_input": "2025-01-28T11:38:38.226612Z",
     "iopub.status.busy": "2025-01-28T11:38:38.226206Z",
     "iopub.status.idle": "2025-01-28T11:38:38.239716Z",
     "shell.execute_reply": "2025-01-28T11:38:38.238584Z"
    },
    "papermill": {
     "duration": 0.040187,
     "end_time": "2025-01-28T11:38:38.242029",
     "exception": false,
     "start_time": "2025-01-28T11:38:38.201842",
     "status": "completed"
    },
    "tags": []
   },
   "outputs": [],
   "source": [
    "new_data4 = fn.calculate_aqi(new_data3, subindex_columns=['co', 'no2', 'o3', 'pm10', 'pm25', 'so2'])"
   ]
  },
  {
   "cell_type": "code",
   "execution_count": 17,
   "id": "6068ae78",
   "metadata": {
    "execution": {
     "iopub.execute_input": "2025-01-28T11:38:38.291394Z",
     "iopub.status.busy": "2025-01-28T11:38:38.291033Z",
     "iopub.status.idle": "2025-01-28T11:38:38.308760Z",
     "shell.execute_reply": "2025-01-28T11:38:38.307504Z"
    },
    "papermill": {
     "duration": 0.044716,
     "end_time": "2025-01-28T11:38:38.310655",
     "exception": false,
     "start_time": "2025-01-28T11:38:38.265939",
     "status": "completed"
    },
    "tags": []
   },
   "outputs": [
    {
     "data": {
      "text/html": [
       "<div>\n",
       "<style scoped>\n",
       "    .dataframe tbody tr th:only-of-type {\n",
       "        vertical-align: middle;\n",
       "    }\n",
       "\n",
       "    .dataframe tbody tr th {\n",
       "        vertical-align: top;\n",
       "    }\n",
       "\n",
       "    .dataframe thead th {\n",
       "        text-align: right;\n",
       "    }\n",
       "</style>\n",
       "<table border=\"1\" class=\"dataframe\">\n",
       "  <thead>\n",
       "    <tr style=\"text-align: right;\">\n",
       "      <th></th>\n",
       "      <th>co</th>\n",
       "      <th>no2</th>\n",
       "      <th>o3</th>\n",
       "      <th>pm10</th>\n",
       "      <th>pm25</th>\n",
       "      <th>so2</th>\n",
       "      <th>humidity</th>\n",
       "      <th>pressure</th>\n",
       "      <th>temperature</th>\n",
       "      <th>wind-speed</th>\n",
       "      <th>Country_City</th>\n",
       "      <th>Checks</th>\n",
       "      <th>AQI</th>\n",
       "    </tr>\n",
       "  </thead>\n",
       "  <tbody>\n",
       "    <tr>\n",
       "      <th>2014-12-29</th>\n",
       "      <td>14.1</td>\n",
       "      <td>36.2</td>\n",
       "      <td>3.2</td>\n",
       "      <td>218.0</td>\n",
       "      <td>307.0</td>\n",
       "      <td>4.2</td>\n",
       "      <td>60.691097</td>\n",
       "      <td>985.187382</td>\n",
       "      <td>26.3352</td>\n",
       "      <td>1.102459</td>\n",
       "      <td>India_Delhi</td>\n",
       "      <td>6</td>\n",
       "      <td>307.0</td>\n",
       "    </tr>\n",
       "    <tr>\n",
       "      <th>2014-12-30</th>\n",
       "      <td>20.4</td>\n",
       "      <td>36.8</td>\n",
       "      <td>4.8</td>\n",
       "      <td>330.0</td>\n",
       "      <td>367.0</td>\n",
       "      <td>5.8</td>\n",
       "      <td>60.691097</td>\n",
       "      <td>985.187382</td>\n",
       "      <td>26.3352</td>\n",
       "      <td>1.102459</td>\n",
       "      <td>India_Delhi</td>\n",
       "      <td>6</td>\n",
       "      <td>367.0</td>\n",
       "    </tr>\n",
       "    <tr>\n",
       "      <th>2014-12-31</th>\n",
       "      <td>12.7</td>\n",
       "      <td>28.7</td>\n",
       "      <td>7.8</td>\n",
       "      <td>137.0</td>\n",
       "      <td>202.0</td>\n",
       "      <td>6.3</td>\n",
       "      <td>60.691097</td>\n",
       "      <td>985.187382</td>\n",
       "      <td>26.3352</td>\n",
       "      <td>1.102459</td>\n",
       "      <td>India_Delhi</td>\n",
       "      <td>6</td>\n",
       "      <td>202.0</td>\n",
       "    </tr>\n",
       "    <tr>\n",
       "      <th>2015-01-01</th>\n",
       "      <td>20.8</td>\n",
       "      <td>66.5</td>\n",
       "      <td>5.2</td>\n",
       "      <td>230.0</td>\n",
       "      <td>382.0</td>\n",
       "      <td>9.9</td>\n",
       "      <td>60.691097</td>\n",
       "      <td>985.187382</td>\n",
       "      <td>26.3352</td>\n",
       "      <td>1.102459</td>\n",
       "      <td>India_Delhi</td>\n",
       "      <td>6</td>\n",
       "      <td>382.0</td>\n",
       "    </tr>\n",
       "    <tr>\n",
       "      <th>2015-01-02</th>\n",
       "      <td>12.7</td>\n",
       "      <td>33.9</td>\n",
       "      <td>6.0</td>\n",
       "      <td>81.0</td>\n",
       "      <td>172.0</td>\n",
       "      <td>4.2</td>\n",
       "      <td>60.691097</td>\n",
       "      <td>985.187382</td>\n",
       "      <td>26.3352</td>\n",
       "      <td>1.102459</td>\n",
       "      <td>India_Delhi</td>\n",
       "      <td>6</td>\n",
       "      <td>172.0</td>\n",
       "    </tr>\n",
       "  </tbody>\n",
       "</table>\n",
       "</div>"
      ],
      "text/plain": [
       "              co   no2   o3   pm10   pm25  so2   humidity    pressure  \\\n",
       "2014-12-29  14.1  36.2  3.2  218.0  307.0  4.2  60.691097  985.187382   \n",
       "2014-12-30  20.4  36.8  4.8  330.0  367.0  5.8  60.691097  985.187382   \n",
       "2014-12-31  12.7  28.7  7.8  137.0  202.0  6.3  60.691097  985.187382   \n",
       "2015-01-01  20.8  66.5  5.2  230.0  382.0  9.9  60.691097  985.187382   \n",
       "2015-01-02  12.7  33.9  6.0   81.0  172.0  4.2  60.691097  985.187382   \n",
       "\n",
       "            temperature  wind-speed Country_City  Checks    AQI  \n",
       "2014-12-29      26.3352    1.102459  India_Delhi       6  307.0  \n",
       "2014-12-30      26.3352    1.102459  India_Delhi       6  367.0  \n",
       "2014-12-31      26.3352    1.102459  India_Delhi       6  202.0  \n",
       "2015-01-01      26.3352    1.102459  India_Delhi       6  382.0  \n",
       "2015-01-02      26.3352    1.102459  India_Delhi       6  172.0  "
      ]
     },
     "execution_count": 17,
     "metadata": {},
     "output_type": "execute_result"
    }
   ],
   "source": [
    "new_data4.head()"
   ]
  },
  {
   "cell_type": "code",
   "execution_count": 18,
   "id": "85e5c071",
   "metadata": {
    "execution": {
     "iopub.execute_input": "2025-01-28T11:38:38.364222Z",
     "iopub.status.busy": "2025-01-28T11:38:38.363866Z",
     "iopub.status.idle": "2025-01-28T11:38:38.369697Z",
     "shell.execute_reply": "2025-01-28T11:38:38.368496Z"
    },
    "papermill": {
     "duration": 0.034859,
     "end_time": "2025-01-28T11:38:38.371410",
     "exception": false,
     "start_time": "2025-01-28T11:38:38.336551",
     "status": "completed"
    },
    "tags": []
   },
   "outputs": [
    {
     "data": {
      "text/plain": [
       "(3199, 13)"
      ]
     },
     "execution_count": 18,
     "metadata": {},
     "output_type": "execute_result"
    }
   ],
   "source": [
    "new_data4.shape"
   ]
  },
  {
   "cell_type": "markdown",
   "id": "41e572f2",
   "metadata": {
    "papermill": {
     "duration": 0.023987,
     "end_time": "2025-01-28T11:38:38.419967",
     "exception": false,
     "start_time": "2025-01-28T11:38:38.395980",
     "status": "completed"
    },
    "tags": []
   },
   "source": [
    " After Normal AQI count Smoothing AQI(IQR, Z-score, Rolling)"
   ]
  },
  {
   "cell_type": "code",
   "execution_count": 19,
   "id": "b95eb887",
   "metadata": {
    "execution": {
     "iopub.execute_input": "2025-01-28T11:38:38.473736Z",
     "iopub.status.busy": "2025-01-28T11:38:38.473341Z",
     "iopub.status.idle": "2025-01-28T11:38:38.496686Z",
     "shell.execute_reply": "2025-01-28T11:38:38.495494Z"
    },
    "papermill": {
     "duration": 0.052439,
     "end_time": "2025-01-28T11:38:38.498800",
     "exception": false,
     "start_time": "2025-01-28T11:38:38.446361",
     "status": "completed"
    },
    "tags": []
   },
   "outputs": [],
   "source": [
    "# Apply the outlier handling function to the 'AQI' column only\n",
    "new_data4['AQI_smoothed_iqr'] = fn.handle_aqi_outliers(new_data4['AQI'], method='iqr')\n",
    "new_data4['AQI_smoothed_zscore'] = fn.handle_aqi_outliers(new_data4['AQI'], method='zscore')\n",
    "new_data4['AQI_smoothed_rolling'] = fn.handle_aqi_outliers(new_data4['AQI'], method='rolling')"
   ]
  },
  {
   "cell_type": "code",
   "execution_count": 20,
   "id": "e69dd2b1",
   "metadata": {
    "execution": {
     "iopub.execute_input": "2025-01-28T11:38:38.550604Z",
     "iopub.status.busy": "2025-01-28T11:38:38.550053Z",
     "iopub.status.idle": "2025-01-28T11:38:38.572233Z",
     "shell.execute_reply": "2025-01-28T11:38:38.570742Z"
    },
    "papermill": {
     "duration": 0.05065,
     "end_time": "2025-01-28T11:38:38.574249",
     "exception": false,
     "start_time": "2025-01-28T11:38:38.523599",
     "status": "completed"
    },
    "tags": []
   },
   "outputs": [
    {
     "data": {
      "text/html": [
       "<div>\n",
       "<style scoped>\n",
       "    .dataframe tbody tr th:only-of-type {\n",
       "        vertical-align: middle;\n",
       "    }\n",
       "\n",
       "    .dataframe tbody tr th {\n",
       "        vertical-align: top;\n",
       "    }\n",
       "\n",
       "    .dataframe thead th {\n",
       "        text-align: right;\n",
       "    }\n",
       "</style>\n",
       "<table border=\"1\" class=\"dataframe\">\n",
       "  <thead>\n",
       "    <tr style=\"text-align: right;\">\n",
       "      <th></th>\n",
       "      <th>co</th>\n",
       "      <th>no2</th>\n",
       "      <th>o3</th>\n",
       "      <th>pm10</th>\n",
       "      <th>pm25</th>\n",
       "      <th>so2</th>\n",
       "      <th>humidity</th>\n",
       "      <th>pressure</th>\n",
       "      <th>temperature</th>\n",
       "      <th>wind-speed</th>\n",
       "      <th>Country_City</th>\n",
       "      <th>Checks</th>\n",
       "      <th>AQI</th>\n",
       "      <th>AQI_smoothed_iqr</th>\n",
       "      <th>AQI_smoothed_zscore</th>\n",
       "      <th>AQI_smoothed_rolling</th>\n",
       "    </tr>\n",
       "  </thead>\n",
       "  <tbody>\n",
       "    <tr>\n",
       "      <th>2014-12-29</th>\n",
       "      <td>14.1</td>\n",
       "      <td>36.2</td>\n",
       "      <td>3.2</td>\n",
       "      <td>218.0</td>\n",
       "      <td>307.0</td>\n",
       "      <td>4.2</td>\n",
       "      <td>60.691097</td>\n",
       "      <td>985.187382</td>\n",
       "      <td>26.3352</td>\n",
       "      <td>1.102459</td>\n",
       "      <td>India_Delhi</td>\n",
       "      <td>6</td>\n",
       "      <td>307.0</td>\n",
       "      <td>307.0</td>\n",
       "      <td>307.0</td>\n",
       "      <td>307.0</td>\n",
       "    </tr>\n",
       "    <tr>\n",
       "      <th>2014-12-30</th>\n",
       "      <td>20.4</td>\n",
       "      <td>36.8</td>\n",
       "      <td>4.8</td>\n",
       "      <td>330.0</td>\n",
       "      <td>367.0</td>\n",
       "      <td>5.8</td>\n",
       "      <td>60.691097</td>\n",
       "      <td>985.187382</td>\n",
       "      <td>26.3352</td>\n",
       "      <td>1.102459</td>\n",
       "      <td>India_Delhi</td>\n",
       "      <td>6</td>\n",
       "      <td>367.0</td>\n",
       "      <td>367.0</td>\n",
       "      <td>367.0</td>\n",
       "      <td>367.0</td>\n",
       "    </tr>\n",
       "    <tr>\n",
       "      <th>2014-12-31</th>\n",
       "      <td>12.7</td>\n",
       "      <td>28.7</td>\n",
       "      <td>7.8</td>\n",
       "      <td>137.0</td>\n",
       "      <td>202.0</td>\n",
       "      <td>6.3</td>\n",
       "      <td>60.691097</td>\n",
       "      <td>985.187382</td>\n",
       "      <td>26.3352</td>\n",
       "      <td>1.102459</td>\n",
       "      <td>India_Delhi</td>\n",
       "      <td>6</td>\n",
       "      <td>202.0</td>\n",
       "      <td>202.0</td>\n",
       "      <td>202.0</td>\n",
       "      <td>202.0</td>\n",
       "    </tr>\n",
       "    <tr>\n",
       "      <th>2015-01-01</th>\n",
       "      <td>20.8</td>\n",
       "      <td>66.5</td>\n",
       "      <td>5.2</td>\n",
       "      <td>230.0</td>\n",
       "      <td>382.0</td>\n",
       "      <td>9.9</td>\n",
       "      <td>60.691097</td>\n",
       "      <td>985.187382</td>\n",
       "      <td>26.3352</td>\n",
       "      <td>1.102459</td>\n",
       "      <td>India_Delhi</td>\n",
       "      <td>6</td>\n",
       "      <td>382.0</td>\n",
       "      <td>382.0</td>\n",
       "      <td>158.0</td>\n",
       "      <td>382.0</td>\n",
       "    </tr>\n",
       "    <tr>\n",
       "      <th>2015-01-02</th>\n",
       "      <td>12.7</td>\n",
       "      <td>33.9</td>\n",
       "      <td>6.0</td>\n",
       "      <td>81.0</td>\n",
       "      <td>172.0</td>\n",
       "      <td>4.2</td>\n",
       "      <td>60.691097</td>\n",
       "      <td>985.187382</td>\n",
       "      <td>26.3352</td>\n",
       "      <td>1.102459</td>\n",
       "      <td>India_Delhi</td>\n",
       "      <td>6</td>\n",
       "      <td>172.0</td>\n",
       "      <td>172.0</td>\n",
       "      <td>172.0</td>\n",
       "      <td>172.0</td>\n",
       "    </tr>\n",
       "  </tbody>\n",
       "</table>\n",
       "</div>"
      ],
      "text/plain": [
       "              co   no2   o3   pm10   pm25  so2   humidity    pressure  \\\n",
       "2014-12-29  14.1  36.2  3.2  218.0  307.0  4.2  60.691097  985.187382   \n",
       "2014-12-30  20.4  36.8  4.8  330.0  367.0  5.8  60.691097  985.187382   \n",
       "2014-12-31  12.7  28.7  7.8  137.0  202.0  6.3  60.691097  985.187382   \n",
       "2015-01-01  20.8  66.5  5.2  230.0  382.0  9.9  60.691097  985.187382   \n",
       "2015-01-02  12.7  33.9  6.0   81.0  172.0  4.2  60.691097  985.187382   \n",
       "\n",
       "            temperature  wind-speed Country_City  Checks    AQI  \\\n",
       "2014-12-29      26.3352    1.102459  India_Delhi       6  307.0   \n",
       "2014-12-30      26.3352    1.102459  India_Delhi       6  367.0   \n",
       "2014-12-31      26.3352    1.102459  India_Delhi       6  202.0   \n",
       "2015-01-01      26.3352    1.102459  India_Delhi       6  382.0   \n",
       "2015-01-02      26.3352    1.102459  India_Delhi       6  172.0   \n",
       "\n",
       "            AQI_smoothed_iqr  AQI_smoothed_zscore  AQI_smoothed_rolling  \n",
       "2014-12-29             307.0                307.0                 307.0  \n",
       "2014-12-30             367.0                367.0                 367.0  \n",
       "2014-12-31             202.0                202.0                 202.0  \n",
       "2015-01-01             382.0                158.0                 382.0  \n",
       "2015-01-02             172.0                172.0                 172.0  "
      ]
     },
     "execution_count": 20,
     "metadata": {},
     "output_type": "execute_result"
    }
   ],
   "source": [
    "new_data4.head()"
   ]
  },
  {
   "cell_type": "markdown",
   "id": "9ff72a13",
   "metadata": {
    "papermill": {
     "duration": 0.024184,
     "end_time": "2025-01-28T11:38:38.625223",
     "exception": false,
     "start_time": "2025-01-28T11:38:38.601039",
     "status": "completed"
    },
    "tags": []
   },
   "source": [
    "(Preprocess Pollution --> Smooth Pollution --> Calculate smooth aqi)"
   ]
  },
  {
   "cell_type": "code",
   "execution_count": 21,
   "id": "ac0af062",
   "metadata": {
    "execution": {
     "iopub.execute_input": "2025-01-28T11:38:38.682230Z",
     "iopub.status.busy": "2025-01-28T11:38:38.681875Z",
     "iopub.status.idle": "2025-01-28T11:38:38.727009Z",
     "shell.execute_reply": "2025-01-28T11:38:38.725871Z"
    },
    "papermill": {
     "duration": 0.077571,
     "end_time": "2025-01-28T11:38:38.728913",
     "exception": false,
     "start_time": "2025-01-28T11:38:38.651342",
     "status": "completed"
    },
    "tags": []
   },
   "outputs": [
    {
     "data": {
      "text/html": [
       "<div>\n",
       "<style scoped>\n",
       "    .dataframe tbody tr th:only-of-type {\n",
       "        vertical-align: middle;\n",
       "    }\n",
       "\n",
       "    .dataframe tbody tr th {\n",
       "        vertical-align: top;\n",
       "    }\n",
       "\n",
       "    .dataframe thead th {\n",
       "        text-align: right;\n",
       "    }\n",
       "</style>\n",
       "<table border=\"1\" class=\"dataframe\">\n",
       "  <thead>\n",
       "    <tr style=\"text-align: right;\">\n",
       "      <th></th>\n",
       "      <th>co</th>\n",
       "      <th>no2</th>\n",
       "      <th>o3</th>\n",
       "      <th>pm10</th>\n",
       "      <th>pm25</th>\n",
       "      <th>so2</th>\n",
       "      <th>humidity</th>\n",
       "      <th>pressure</th>\n",
       "      <th>temperature</th>\n",
       "      <th>wind-speed</th>\n",
       "      <th>Country_City</th>\n",
       "      <th>AQI_Smooth</th>\n",
       "    </tr>\n",
       "  </thead>\n",
       "  <tbody>\n",
       "    <tr>\n",
       "      <th>2014-12-29</th>\n",
       "      <td>11.50</td>\n",
       "      <td>29.400000</td>\n",
       "      <td>5.366667</td>\n",
       "      <td>182.333333</td>\n",
       "      <td>195.666667</td>\n",
       "      <td>6.000000</td>\n",
       "      <td>60.691097</td>\n",
       "      <td>985.187382</td>\n",
       "      <td>26.3352</td>\n",
       "      <td>1.102459</td>\n",
       "      <td>India_Delhi</td>\n",
       "      <td>195.666667</td>\n",
       "    </tr>\n",
       "    <tr>\n",
       "      <th>2014-12-30</th>\n",
       "      <td>11.50</td>\n",
       "      <td>29.400000</td>\n",
       "      <td>5.366667</td>\n",
       "      <td>182.333333</td>\n",
       "      <td>195.666667</td>\n",
       "      <td>6.000000</td>\n",
       "      <td>60.691097</td>\n",
       "      <td>985.187382</td>\n",
       "      <td>26.3352</td>\n",
       "      <td>1.102459</td>\n",
       "      <td>India_Delhi</td>\n",
       "      <td>195.666667</td>\n",
       "    </tr>\n",
       "    <tr>\n",
       "      <th>2014-12-31</th>\n",
       "      <td>11.50</td>\n",
       "      <td>29.400000</td>\n",
       "      <td>5.366667</td>\n",
       "      <td>182.333333</td>\n",
       "      <td>195.666667</td>\n",
       "      <td>6.000000</td>\n",
       "      <td>60.691097</td>\n",
       "      <td>985.187382</td>\n",
       "      <td>26.3352</td>\n",
       "      <td>1.102459</td>\n",
       "      <td>India_Delhi</td>\n",
       "      <td>195.666667</td>\n",
       "    </tr>\n",
       "    <tr>\n",
       "      <th>2015-01-01</th>\n",
       "      <td>11.50</td>\n",
       "      <td>29.400000</td>\n",
       "      <td>5.366667</td>\n",
       "      <td>182.333333</td>\n",
       "      <td>195.666667</td>\n",
       "      <td>6.000000</td>\n",
       "      <td>60.691097</td>\n",
       "      <td>985.187382</td>\n",
       "      <td>26.3352</td>\n",
       "      <td>1.102459</td>\n",
       "      <td>India_Delhi</td>\n",
       "      <td>195.666667</td>\n",
       "    </tr>\n",
       "    <tr>\n",
       "      <th>2015-01-02</th>\n",
       "      <td>11.25</td>\n",
       "      <td>26.616667</td>\n",
       "      <td>5.816667</td>\n",
       "      <td>166.000000</td>\n",
       "      <td>177.000000</td>\n",
       "      <td>5.733333</td>\n",
       "      <td>60.691097</td>\n",
       "      <td>985.187382</td>\n",
       "      <td>26.3352</td>\n",
       "      <td>1.102459</td>\n",
       "      <td>India_Delhi</td>\n",
       "      <td>177.000000</td>\n",
       "    </tr>\n",
       "  </tbody>\n",
       "</table>\n",
       "</div>"
      ],
      "text/plain": [
       "               co        no2        o3        pm10        pm25       so2  \\\n",
       "2014-12-29  11.50  29.400000  5.366667  182.333333  195.666667  6.000000   \n",
       "2014-12-30  11.50  29.400000  5.366667  182.333333  195.666667  6.000000   \n",
       "2014-12-31  11.50  29.400000  5.366667  182.333333  195.666667  6.000000   \n",
       "2015-01-01  11.50  29.400000  5.366667  182.333333  195.666667  6.000000   \n",
       "2015-01-02  11.25  26.616667  5.816667  166.000000  177.000000  5.733333   \n",
       "\n",
       "             humidity    pressure  temperature  wind-speed Country_City  \\\n",
       "2014-12-29  60.691097  985.187382      26.3352    1.102459  India_Delhi   \n",
       "2014-12-30  60.691097  985.187382      26.3352    1.102459  India_Delhi   \n",
       "2014-12-31  60.691097  985.187382      26.3352    1.102459  India_Delhi   \n",
       "2015-01-01  60.691097  985.187382      26.3352    1.102459  India_Delhi   \n",
       "2015-01-02  60.691097  985.187382      26.3352    1.102459  India_Delhi   \n",
       "\n",
       "            AQI_Smooth  \n",
       "2014-12-29  195.666667  \n",
       "2014-12-30  195.666667  \n",
       "2014-12-31  195.666667  \n",
       "2015-01-01  195.666667  \n",
       "2015-01-02  177.000000  "
      ]
     },
     "execution_count": 21,
     "metadata": {},
     "output_type": "execute_result"
    }
   ],
   "source": [
    "new_smooth = fn.calculate_smooth_aqi(new_data3, columns=['co', 'no2', 'o3', 'pm10', 'pm25', 'so2'])\n",
    "new_smooth.head()"
   ]
  },
  {
   "cell_type": "markdown",
   "id": "147e439e",
   "metadata": {
    "papermill": {
     "duration": 0.025318,
     "end_time": "2025-01-28T11:38:38.779599",
     "exception": false,
     "start_time": "2025-01-28T11:38:38.754281",
     "status": "completed"
    },
    "tags": []
   },
   "source": [
    "**AQI (normal, smooth_iqr, smooth_zscore, smooth_rolling, smooth)**"
   ]
  },
  {
   "cell_type": "code",
   "execution_count": 22,
   "id": "a9bd0f3f",
   "metadata": {
    "execution": {
     "iopub.execute_input": "2025-01-28T11:38:38.834932Z",
     "iopub.status.busy": "2025-01-28T11:38:38.834584Z",
     "iopub.status.idle": "2025-01-28T11:38:39.497012Z",
     "shell.execute_reply": "2025-01-28T11:38:39.495874Z"
    },
    "papermill": {
     "duration": 0.691692,
     "end_time": "2025-01-28T11:38:39.498707",
     "exception": false,
     "start_time": "2025-01-28T11:38:38.807015",
     "status": "completed"
    },
    "tags": []
   },
   "outputs": [
    {
     "data": {
      "text/plain": [
       "<Axes: >"
      ]
     },
     "execution_count": 22,
     "metadata": {},
     "output_type": "execute_result"
    },
    {
     "data": {
      "image/png": "[encoded data removed]",
      "text/plain": [
       "<Figure size 640x480 with 1 Axes>"
      ]
     },
     "metadata": {},
     "output_type": "display_data"
    }
   ],
   "source": [
    "#normal\n",
    "aqi_normal = new_data4['AQI']\n",
    "aqi_normal.plot()"
   ]
  },
  {
   "cell_type": "code",
   "execution_count": 23,
   "id": "51f1b40b",
   "metadata": {
    "execution": {
     "iopub.execute_input": "2025-01-28T11:38:39.551763Z",
     "iopub.status.busy": "2025-01-28T11:38:39.551234Z",
     "iopub.status.idle": "2025-01-28T11:38:40.165875Z",
     "shell.execute_reply": "2025-01-28T11:38:40.164725Z"
    },
    "papermill": {
     "duration": 0.643371,
     "end_time": "2025-01-28T11:38:40.167629",
     "exception": false,
     "start_time": "2025-01-28T11:38:39.524258",
     "status": "completed"
    },
    "tags": []
   },
   "outputs": [
    {
     "data": {
      "text/plain": [
       "<Axes: >"
      ]
     },
     "execution_count": 23,
     "metadata": {},
     "output_type": "execute_result"
    },
    {
     "data": {
      "image/png": "[encoded data removed]",
      "text/plain": [
       "<Figure size 640x480 with 1 Axes>"
      ]
     },
     "metadata": {},
     "output_type": "display_data"
    }
   ],
   "source": [
    "#smooth_iqr\n",
    "aqi_smooth_iqr = new_data4['AQI_smoothed_iqr']\n",
    "aqi_smooth_iqr.plot()"
   ]
  },
  {
   "cell_type": "code",
   "execution_count": 24,
   "id": "7f580f46",
   "metadata": {
    "execution": {
     "iopub.execute_input": "2025-01-28T11:38:40.222442Z",
     "iopub.status.busy": "2025-01-28T11:38:40.222066Z",
     "iopub.status.idle": "2025-01-28T11:38:40.794521Z",
     "shell.execute_reply": "2025-01-28T11:38:40.793241Z"
    },
    "papermill": {
     "duration": 0.602252,
     "end_time": "2025-01-28T11:38:40.796516",
     "exception": false,
     "start_time": "2025-01-28T11:38:40.194264",
     "status": "completed"
    },
    "tags": []
   },
   "outputs": [
    {
     "data": {
      "text/plain": [
       "<Axes: >"
      ]
     },
     "execution_count": 24,
     "metadata": {},
     "output_type": "execute_result"
    },
    {
     "data": {
      "image/png": "[encoded data removed]",
      "text/plain": [
       "<Figure size 640x480 with 1 Axes>"
      ]
     },
     "metadata": {},
     "output_type": "display_data"
    }
   ],
   "source": [
    "#smooth_zscore\n",
    "aqi_smooth_zscore = new_data4['AQI_smoothed_zscore']\n",
    "aqi_smooth_zscore.plot()"
   ]
  },
  {
   "cell_type": "code",
   "execution_count": 25,
   "id": "2f05bf90",
   "metadata": {
    "execution": {
     "iopub.execute_input": "2025-01-28T11:38:40.852512Z",
     "iopub.status.busy": "2025-01-28T11:38:40.852098Z",
     "iopub.status.idle": "2025-01-28T11:38:41.348663Z",
     "shell.execute_reply": "2025-01-28T11:38:41.347516Z"
    },
    "papermill": {
     "duration": 0.526116,
     "end_time": "2025-01-28T11:38:41.350363",
     "exception": false,
     "start_time": "2025-01-28T11:38:40.824247",
     "status": "completed"
    },
    "tags": []
   },
   "outputs": [
    {
     "data": {
      "text/plain": [
       "<Axes: >"
      ]
     },
     "execution_count": 25,
     "metadata": {},
     "output_type": "execute_result"
    },
    {
     "data": {
      "image/png": "[encoded data removed]",
      "text/plain": [
       "<Figure size 640x480 with 1 Axes>"
      ]
     },
     "metadata": {},
     "output_type": "display_data"
    }
   ],
   "source": [
    "#smooth_rolling\n",
    "aqi_smooth_rolling = new_data4['AQI_smoothed_rolling']\n",
    "aqi_smooth_rolling.plot()"
   ]
  },
  {
   "cell_type": "code",
   "execution_count": 26,
   "id": "696f31ea",
   "metadata": {
    "execution": {
     "iopub.execute_input": "2025-01-28T11:38:41.410658Z",
     "iopub.status.busy": "2025-01-28T11:38:41.410263Z",
     "iopub.status.idle": "2025-01-28T11:38:41.907165Z",
     "shell.execute_reply": "2025-01-28T11:38:41.906091Z"
    },
    "papermill": {
     "duration": 0.528909,
     "end_time": "2025-01-28T11:38:41.909044",
     "exception": false,
     "start_time": "2025-01-28T11:38:41.380135",
     "status": "completed"
    },
    "tags": []
   },
   "outputs": [
    {
     "data": {
      "text/plain": [
       "<Axes: >"
      ]
     },
     "execution_count": 26,
     "metadata": {},
     "output_type": "execute_result"
    },
    {
     "data": {
      "image/png": "[encoded data removed]",
      "text/plain": [
       "<Figure size 640x480 with 1 Axes>"
      ]
     },
     "metadata": {},
     "output_type": "display_data"
    }
   ],
   "source": [
    "#smooth\n",
    "aqi_smooth = new_smooth['AQI_Smooth']\n",
    "aqi_smooth.plot()"
   ]
  },
  {
   "cell_type": "markdown",
   "id": "e7ed834f",
   "metadata": {
    "papermill": {
     "duration": 0.029868,
     "end_time": "2025-01-28T11:38:41.968199",
     "exception": false,
     "start_time": "2025-01-28T11:38:41.938331",
     "status": "completed"
    },
    "tags": []
   },
   "source": [
    "# **2.1. Splitting & Preprocessing the Raw Data(AQI_Smooth)**"
   ]
  },
  {
   "cell_type": "markdown",
   "id": "41d8032e",
   "metadata": {
    "papermill": {
     "duration": 0.029071,
     "end_time": "2025-01-28T11:38:42.026867",
     "exception": false,
     "start_time": "2025-01-28T11:38:41.997796",
     "status": "completed"
    },
    "tags": []
   },
   "source": [
    "Smooth AQI(All Pollutants)"
   ]
  },
  {
   "cell_type": "code",
   "execution_count": 27,
   "id": "d32e5092",
   "metadata": {
    "execution": {
     "iopub.execute_input": "2025-01-28T11:38:42.087749Z",
     "iopub.status.busy": "2025-01-28T11:38:42.087343Z",
     "iopub.status.idle": "2025-01-28T11:38:42.111440Z",
     "shell.execute_reply": "2025-01-28T11:38:42.110304Z"
    },
    "papermill": {
     "duration": 0.056137,
     "end_time": "2025-01-28T11:38:42.113190",
     "exception": false,
     "start_time": "2025-01-28T11:38:42.057053",
     "status": "completed"
    },
    "tags": []
   },
   "outputs": [
    {
     "data": {
      "text/html": [
       "<div>\n",
       "<style scoped>\n",
       "    .dataframe tbody tr th:only-of-type {\n",
       "        vertical-align: middle;\n",
       "    }\n",
       "\n",
       "    .dataframe tbody tr th {\n",
       "        vertical-align: top;\n",
       "    }\n",
       "\n",
       "    .dataframe thead th {\n",
       "        text-align: right;\n",
       "    }\n",
       "</style>\n",
       "<table border=\"1\" class=\"dataframe\">\n",
       "  <thead>\n",
       "    <tr style=\"text-align: right;\">\n",
       "      <th></th>\n",
       "      <th>co</th>\n",
       "      <th>no2</th>\n",
       "      <th>o3</th>\n",
       "      <th>pm10</th>\n",
       "      <th>pm25</th>\n",
       "      <th>so2</th>\n",
       "      <th>humidity</th>\n",
       "      <th>pressure</th>\n",
       "      <th>temperature</th>\n",
       "      <th>wind-speed</th>\n",
       "      <th>Country_City</th>\n",
       "      <th>Checks</th>\n",
       "      <th>AQI</th>\n",
       "      <th>AQI_smoothed_iqr</th>\n",
       "      <th>AQI_smoothed_zscore</th>\n",
       "      <th>AQI_smoothed_rolling</th>\n",
       "    </tr>\n",
       "  </thead>\n",
       "  <tbody>\n",
       "    <tr>\n",
       "      <th>2014-12-29</th>\n",
       "      <td>14.1</td>\n",
       "      <td>36.2</td>\n",
       "      <td>3.2</td>\n",
       "      <td>218.0</td>\n",
       "      <td>307.0</td>\n",
       "      <td>4.2</td>\n",
       "      <td>60.691097</td>\n",
       "      <td>985.187382</td>\n",
       "      <td>26.3352</td>\n",
       "      <td>1.102459</td>\n",
       "      <td>India_Delhi</td>\n",
       "      <td>6</td>\n",
       "      <td>307.0</td>\n",
       "      <td>307.0</td>\n",
       "      <td>307.0</td>\n",
       "      <td>307.0</td>\n",
       "    </tr>\n",
       "    <tr>\n",
       "      <th>2014-12-30</th>\n",
       "      <td>20.4</td>\n",
       "      <td>36.8</td>\n",
       "      <td>4.8</td>\n",
       "      <td>330.0</td>\n",
       "      <td>367.0</td>\n",
       "      <td>5.8</td>\n",
       "      <td>60.691097</td>\n",
       "      <td>985.187382</td>\n",
       "      <td>26.3352</td>\n",
       "      <td>1.102459</td>\n",
       "      <td>India_Delhi</td>\n",
       "      <td>6</td>\n",
       "      <td>367.0</td>\n",
       "      <td>367.0</td>\n",
       "      <td>367.0</td>\n",
       "      <td>367.0</td>\n",
       "    </tr>\n",
       "    <tr>\n",
       "      <th>2014-12-31</th>\n",
       "      <td>12.7</td>\n",
       "      <td>28.7</td>\n",
       "      <td>7.8</td>\n",
       "      <td>137.0</td>\n",
       "      <td>202.0</td>\n",
       "      <td>6.3</td>\n",
       "      <td>60.691097</td>\n",
       "      <td>985.187382</td>\n",
       "      <td>26.3352</td>\n",
       "      <td>1.102459</td>\n",
       "      <td>India_Delhi</td>\n",
       "      <td>6</td>\n",
       "      <td>202.0</td>\n",
       "      <td>202.0</td>\n",
       "      <td>202.0</td>\n",
       "      <td>202.0</td>\n",
       "    </tr>\n",
       "    <tr>\n",
       "      <th>2015-01-01</th>\n",
       "      <td>20.8</td>\n",
       "      <td>66.5</td>\n",
       "      <td>5.2</td>\n",
       "      <td>230.0</td>\n",
       "      <td>382.0</td>\n",
       "      <td>9.9</td>\n",
       "      <td>60.691097</td>\n",
       "      <td>985.187382</td>\n",
       "      <td>26.3352</td>\n",
       "      <td>1.102459</td>\n",
       "      <td>India_Delhi</td>\n",
       "      <td>6</td>\n",
       "      <td>382.0</td>\n",
       "      <td>382.0</td>\n",
       "      <td>158.0</td>\n",
       "      <td>382.0</td>\n",
       "    </tr>\n",
       "    <tr>\n",
       "      <th>2015-01-02</th>\n",
       "      <td>12.7</td>\n",
       "      <td>33.9</td>\n",
       "      <td>6.0</td>\n",
       "      <td>81.0</td>\n",
       "      <td>172.0</td>\n",
       "      <td>4.2</td>\n",
       "      <td>60.691097</td>\n",
       "      <td>985.187382</td>\n",
       "      <td>26.3352</td>\n",
       "      <td>1.102459</td>\n",
       "      <td>India_Delhi</td>\n",
       "      <td>6</td>\n",
       "      <td>172.0</td>\n",
       "      <td>172.0</td>\n",
       "      <td>172.0</td>\n",
       "      <td>172.0</td>\n",
       "    </tr>\n",
       "    <tr>\n",
       "      <th>2015-01-03</th>\n",
       "      <td>14.3</td>\n",
       "      <td>27.8</td>\n",
       "      <td>5.2</td>\n",
       "      <td>98.0</td>\n",
       "      <td>179.0</td>\n",
       "      <td>5.6</td>\n",
       "      <td>60.691097</td>\n",
       "      <td>985.187382</td>\n",
       "      <td>26.3352</td>\n",
       "      <td>1.102459</td>\n",
       "      <td>India_Delhi</td>\n",
       "      <td>6</td>\n",
       "      <td>179.0</td>\n",
       "      <td>179.0</td>\n",
       "      <td>179.0</td>\n",
       "      <td>179.0</td>\n",
       "    </tr>\n",
       "    <tr>\n",
       "      <th>2015-01-04</th>\n",
       "      <td>12.6</td>\n",
       "      <td>19.5</td>\n",
       "      <td>5.9</td>\n",
       "      <td>120.0</td>\n",
       "      <td>195.0</td>\n",
       "      <td>2.6</td>\n",
       "      <td>60.691097</td>\n",
       "      <td>985.187382</td>\n",
       "      <td>26.3352</td>\n",
       "      <td>1.102459</td>\n",
       "      <td>India_Delhi</td>\n",
       "      <td>6</td>\n",
       "      <td>195.0</td>\n",
       "      <td>195.0</td>\n",
       "      <td>195.0</td>\n",
       "      <td>195.0</td>\n",
       "    </tr>\n",
       "    <tr>\n",
       "      <th>2015-01-05</th>\n",
       "      <td>13.1</td>\n",
       "      <td>19.1</td>\n",
       "      <td>8.4</td>\n",
       "      <td>114.0</td>\n",
       "      <td>185.0</td>\n",
       "      <td>2.5</td>\n",
       "      <td>60.691097</td>\n",
       "      <td>985.187382</td>\n",
       "      <td>26.3352</td>\n",
       "      <td>1.102459</td>\n",
       "      <td>India_Delhi</td>\n",
       "      <td>6</td>\n",
       "      <td>185.0</td>\n",
       "      <td>185.0</td>\n",
       "      <td>185.0</td>\n",
       "      <td>185.0</td>\n",
       "    </tr>\n",
       "  </tbody>\n",
       "</table>\n",
       "</div>"
      ],
      "text/plain": [
       "              co   no2   o3   pm10   pm25  so2   humidity    pressure  \\\n",
       "2014-12-29  14.1  36.2  3.2  218.0  307.0  4.2  60.691097  985.187382   \n",
       "2014-12-30  20.4  36.8  4.8  330.0  367.0  5.8  60.691097  985.187382   \n",
       "2014-12-31  12.7  28.7  7.8  137.0  202.0  6.3  60.691097  985.187382   \n",
       "2015-01-01  20.8  66.5  5.2  230.0  382.0  9.9  60.691097  985.187382   \n",
       "2015-01-02  12.7  33.9  6.0   81.0  172.0  4.2  60.691097  985.187382   \n",
       "2015-01-03  14.3  27.8  5.2   98.0  179.0  5.6  60.691097  985.187382   \n",
       "2015-01-04  12.6  19.5  5.9  120.0  195.0  2.6  60.691097  985.187382   \n",
       "2015-01-05  13.1  19.1  8.4  114.0  185.0  2.5  60.691097  985.187382   \n",
       "\n",
       "            temperature  wind-speed Country_City  Checks    AQI  \\\n",
       "2014-12-29      26.3352    1.102459  India_Delhi       6  307.0   \n",
       "2014-12-30      26.3352    1.102459  India_Delhi       6  367.0   \n",
       "2014-12-31      26.3352    1.102459  India_Delhi       6  202.0   \n",
       "2015-01-01      26.3352    1.102459  India_Delhi       6  382.0   \n",
       "2015-01-02      26.3352    1.102459  India_Delhi       6  172.0   \n",
       "2015-01-03      26.3352    1.102459  India_Delhi       6  179.0   \n",
       "2015-01-04      26.3352    1.102459  India_Delhi       6  195.0   \n",
       "2015-01-05      26.3352    1.102459  India_Delhi       6  185.0   \n",
       "\n",
       "            AQI_smoothed_iqr  AQI_smoothed_zscore  AQI_smoothed_rolling  \n",
       "2014-12-29             307.0                307.0                 307.0  \n",
       "2014-12-30             367.0                367.0                 367.0  \n",
       "2014-12-31             202.0                202.0                 202.0  \n",
       "2015-01-01             382.0                158.0                 382.0  \n",
       "2015-01-02             172.0                172.0                 172.0  \n",
       "2015-01-03             179.0                179.0                 179.0  \n",
       "2015-01-04             195.0                195.0                 195.0  \n",
       "2015-01-05             185.0                185.0                 185.0  "
      ]
     },
     "execution_count": 27,
     "metadata": {},
     "output_type": "execute_result"
    }
   ],
   "source": [
    "new_data4.head(8)"
   ]
  },
  {
   "cell_type": "code",
   "execution_count": 28,
   "id": "54488baf",
   "metadata": {
    "execution": {
     "iopub.execute_input": "2025-01-28T11:38:42.173045Z",
     "iopub.status.busy": "2025-01-28T11:38:42.172714Z",
     "iopub.status.idle": "2025-01-28T11:38:42.178738Z",
     "shell.execute_reply": "2025-01-28T11:38:42.177753Z"
    },
    "papermill": {
     "duration": 0.037858,
     "end_time": "2025-01-28T11:38:42.180620",
     "exception": false,
     "start_time": "2025-01-28T11:38:42.142762",
     "status": "completed"
    },
    "tags": []
   },
   "outputs": [
    {
     "data": {
      "text/plain": [
       "Index(['co', 'no2', 'o3', 'pm10', 'pm25', 'so2', 'humidity', 'pressure',\n",
       "       'temperature', 'wind-speed', 'Country_City', 'Checks', 'AQI',\n",
       "       'AQI_smoothed_iqr', 'AQI_smoothed_zscore', 'AQI_smoothed_rolling'],\n",
       "      dtype='object')"
      ]
     },
     "execution_count": 28,
     "metadata": {},
     "output_type": "execute_result"
    }
   ],
   "source": [
    "new_data4.columns"
   ]
  },
  {
   "cell_type": "code",
   "execution_count": 29,
   "id": "80431e64",
   "metadata": {
    "execution": {
     "iopub.execute_input": "2025-01-28T11:38:42.241469Z",
     "iopub.status.busy": "2025-01-28T11:38:42.241039Z",
     "iopub.status.idle": "2025-01-28T11:38:42.246534Z",
     "shell.execute_reply": "2025-01-28T11:38:42.245520Z"
    },
    "papermill": {
     "duration": 0.037643,
     "end_time": "2025-01-28T11:38:42.248258",
     "exception": false,
     "start_time": "2025-01-28T11:38:42.210615",
     "status": "completed"
    },
    "tags": []
   },
   "outputs": [],
   "source": [
    "aqi_normal = new_data4.copy()"
   ]
  },
  {
   "cell_type": "code",
   "execution_count": 30,
   "id": "5ad556e4",
   "metadata": {
    "execution": {
     "iopub.execute_input": "2025-01-28T11:38:42.310612Z",
     "iopub.status.busy": "2025-01-28T11:38:42.310243Z",
     "iopub.status.idle": "2025-01-28T11:38:42.315549Z",
     "shell.execute_reply": "2025-01-28T11:38:42.314480Z"
    },
    "papermill": {
     "duration": 0.038862,
     "end_time": "2025-01-28T11:38:42.317191",
     "exception": false,
     "start_time": "2025-01-28T11:38:42.278329",
     "status": "completed"
    },
    "tags": []
   },
   "outputs": [],
   "source": [
    "aqi_normal = aqi_normal.drop([ 'humidity', 'pressure',\n",
    "       'temperature', 'wind-speed', 'Country_City', 'Checks', \n",
    "        'AQI_smoothed_iqr', 'AQI_smoothed_zscore', 'AQI_smoothed_rolling'], axis = 1)"
   ]
  },
  {
   "cell_type": "code",
   "execution_count": 31,
   "id": "1c500eef",
   "metadata": {
    "execution": {
     "iopub.execute_input": "2025-01-28T11:38:42.379697Z",
     "iopub.status.busy": "2025-01-28T11:38:42.379317Z",
     "iopub.status.idle": "2025-01-28T11:38:42.394791Z",
     "shell.execute_reply": "2025-01-28T11:38:42.393299Z"
    },
    "papermill": {
     "duration": 0.049314,
     "end_time": "2025-01-28T11:38:42.396790",
     "exception": false,
     "start_time": "2025-01-28T11:38:42.347476",
     "status": "completed"
    },
    "tags": []
   },
   "outputs": [
    {
     "data": {
      "text/html": [
       "<div>\n",
       "<style scoped>\n",
       "    .dataframe tbody tr th:only-of-type {\n",
       "        vertical-align: middle;\n",
       "    }\n",
       "\n",
       "    .dataframe tbody tr th {\n",
       "        vertical-align: top;\n",
       "    }\n",
       "\n",
       "    .dataframe thead th {\n",
       "        text-align: right;\n",
       "    }\n",
       "</style>\n",
       "<table border=\"1\" class=\"dataframe\">\n",
       "  <thead>\n",
       "    <tr style=\"text-align: right;\">\n",
       "      <th></th>\n",
       "      <th>co</th>\n",
       "      <th>no2</th>\n",
       "      <th>o3</th>\n",
       "      <th>pm10</th>\n",
       "      <th>pm25</th>\n",
       "      <th>so2</th>\n",
       "      <th>AQI</th>\n",
       "    </tr>\n",
       "  </thead>\n",
       "  <tbody>\n",
       "    <tr>\n",
       "      <th>2014-12-29</th>\n",
       "      <td>14.1</td>\n",
       "      <td>36.2</td>\n",
       "      <td>3.2</td>\n",
       "      <td>218.0</td>\n",
       "      <td>307.0</td>\n",
       "      <td>4.2</td>\n",
       "      <td>307.0</td>\n",
       "    </tr>\n",
       "    <tr>\n",
       "      <th>2014-12-30</th>\n",
       "      <td>20.4</td>\n",
       "      <td>36.8</td>\n",
       "      <td>4.8</td>\n",
       "      <td>330.0</td>\n",
       "      <td>367.0</td>\n",
       "      <td>5.8</td>\n",
       "      <td>367.0</td>\n",
       "    </tr>\n",
       "    <tr>\n",
       "      <th>2014-12-31</th>\n",
       "      <td>12.7</td>\n",
       "      <td>28.7</td>\n",
       "      <td>7.8</td>\n",
       "      <td>137.0</td>\n",
       "      <td>202.0</td>\n",
       "      <td>6.3</td>\n",
       "      <td>202.0</td>\n",
       "    </tr>\n",
       "    <tr>\n",
       "      <th>2015-01-01</th>\n",
       "      <td>20.8</td>\n",
       "      <td>66.5</td>\n",
       "      <td>5.2</td>\n",
       "      <td>230.0</td>\n",
       "      <td>382.0</td>\n",
       "      <td>9.9</td>\n",
       "      <td>382.0</td>\n",
       "    </tr>\n",
       "    <tr>\n",
       "      <th>2015-01-02</th>\n",
       "      <td>12.7</td>\n",
       "      <td>33.9</td>\n",
       "      <td>6.0</td>\n",
       "      <td>81.0</td>\n",
       "      <td>172.0</td>\n",
       "      <td>4.2</td>\n",
       "      <td>172.0</td>\n",
       "    </tr>\n",
       "  </tbody>\n",
       "</table>\n",
       "</div>"
      ],
      "text/plain": [
       "              co   no2   o3   pm10   pm25  so2    AQI\n",
       "2014-12-29  14.1  36.2  3.2  218.0  307.0  4.2  307.0\n",
       "2014-12-30  20.4  36.8  4.8  330.0  367.0  5.8  367.0\n",
       "2014-12-31  12.7  28.7  7.8  137.0  202.0  6.3  202.0\n",
       "2015-01-01  20.8  66.5  5.2  230.0  382.0  9.9  382.0\n",
       "2015-01-02  12.7  33.9  6.0   81.0  172.0  4.2  172.0"
      ]
     },
     "execution_count": 31,
     "metadata": {},
     "output_type": "execute_result"
    }
   ],
   "source": [
    "aqi_normal.head()"
   ]
  },
  {
   "cell_type": "code",
   "execution_count": 32,
   "id": "1a8cfbe6",
   "metadata": {
    "execution": {
     "iopub.execute_input": "2025-01-28T11:38:42.458038Z",
     "iopub.status.busy": "2025-01-28T11:38:42.457696Z",
     "iopub.status.idle": "2025-01-28T11:38:42.466372Z",
     "shell.execute_reply": "2025-01-28T11:38:42.465335Z"
    },
    "papermill": {
     "duration": 0.040524,
     "end_time": "2025-01-28T11:38:42.468003",
     "exception": false,
     "start_time": "2025-01-28T11:38:42.427479",
     "status": "completed"
    },
    "tags": []
   },
   "outputs": [],
   "source": [
    "def new_data_to_X_y(new_data, window_size, train_pct, val_pct, test_pct):\n",
    "    \n",
    "    new_data_as_np = new_data.to_numpy()\n",
    "    \n",
    "    # Split features and target\n",
    "    features = new_data_as_np[:, :-1]  # All columns except the last one\n",
    "    target = new_data_as_np[:, -1]     # Only the AQI column\n",
    "    \n",
    "    # Split data based on percentages\n",
    "    total_len = len(features)\n",
    "    train_end = int(train_pct * total_len)\n",
    "    val_end = train_end + int(val_pct * total_len)\n",
    "    \n",
    "    # Prepare train, val, and test splits for both features and target\n",
    "    train_features = features[:train_end]\n",
    "    train_target = target[:train_end]\n",
    "    \n",
    "    val_features = features[train_end:val_end]\n",
    "    val_target = target[train_end:val_end]\n",
    "    \n",
    "    test_features = features[val_end:]\n",
    "    test_target = target[val_end:]\n",
    "    \n",
    "    # Helper function to create X and y\n",
    "    def create_X_y(feature_data, target_data):\n",
    "        X, y = [], []\n",
    "        for i in range(len(feature_data) - window_size):\n",
    "            # Create sequence of all features\n",
    "            sequence = feature_data[i:i + window_size]\n",
    "            X.append(sequence)\n",
    "            # Get the target AQI value\n",
    "            y.append(target_data[i + window_size])\n",
    "        return np.array(X), np.array(y)\n",
    "    \n",
    "    \n",
    "    X_train, y_train = create_X_y(train_features, train_target)\n",
    "    X_val, y_val = create_X_y(val_features, val_target)\n",
    "    X_test, y_test = create_X_y(test_features, test_target)\n",
    "    \n",
    "    return (X_train, y_train), (X_val, y_val), (X_test, y_test)"
   ]
  },
  {
   "cell_type": "code",
   "execution_count": 33,
   "id": "4a95a582",
   "metadata": {
    "execution": {
     "iopub.execute_input": "2025-01-28T11:38:42.528483Z",
     "iopub.status.busy": "2025-01-28T11:38:42.528087Z",
     "iopub.status.idle": "2025-01-28T11:38:42.538184Z",
     "shell.execute_reply": "2025-01-28T11:38:42.536999Z"
    },
    "papermill": {
     "duration": 0.042871,
     "end_time": "2025-01-28T11:38:42.540134",
     "exception": false,
     "start_time": "2025-01-28T11:38:42.497263",
     "status": "completed"
    },
    "tags": []
   },
   "outputs": [],
   "source": [
    "WINDOW_SIZE = 6\n",
    "NUM_FEATURES = 5\n",
    "train_pct = 0.8\n",
    "val_pct = 0.1\n",
    "test_pct = 0.1\n",
    "\n",
    "(X_train1, y_train1), (X_val1, y_val1), (X_test1, y_test1) = new_data_to_X_y(\n",
    "    aqi_normal, WINDOW_SIZE, train_pct, val_pct, test_pct)"
   ]
  },
  {
   "cell_type": "code",
   "execution_count": 34,
   "id": "31e2647d",
   "metadata": {
    "execution": {
     "iopub.execute_input": "2025-01-28T11:38:42.600373Z",
     "iopub.status.busy": "2025-01-28T11:38:42.600027Z",
     "iopub.status.idle": "2025-01-28T11:38:42.606223Z",
     "shell.execute_reply": "2025-01-28T11:38:42.605077Z"
    },
    "papermill": {
     "duration": 0.038514,
     "end_time": "2025-01-28T11:38:42.608175",
     "exception": false,
     "start_time": "2025-01-28T11:38:42.569661",
     "status": "completed"
    },
    "tags": []
   },
   "outputs": [
    {
     "name": "stdout",
     "output_type": "stream",
     "text": [
      "Train shapes: (2553, 6, 6) (2553,)\n",
      "Validation shapes: (313, 6, 6) (313,)\n",
      "Test shapes: (315, 6, 6) (315,)\n"
     ]
    }
   ],
   "source": [
    "# shapes\n",
    "print(\"Train shapes:\", X_train1.shape, y_train1.shape)\n",
    "print(\"Validation shapes:\", X_val1.shape, y_val1.shape)\n",
    "print(\"Test shapes:\", X_test1.shape, y_test1.shape)"
   ]
  },
  {
   "cell_type": "markdown",
   "id": "22d8b1fc",
   "metadata": {
    "papermill": {
     "duration": 0.029938,
     "end_time": "2025-01-28T11:38:42.668327",
     "exception": false,
     "start_time": "2025-01-28T11:38:42.638389",
     "status": "completed"
    },
    "tags": []
   },
   "source": [
    "# **2.2. Model Training & Testing**"
   ]
  },
  {
   "cell_type": "code",
   "execution_count": 35,
   "id": "442ce6c0",
   "metadata": {
    "execution": {
     "iopub.execute_input": "2025-01-28T11:38:42.730639Z",
     "iopub.status.busy": "2025-01-28T11:38:42.730250Z",
     "iopub.status.idle": "2025-01-28T11:38:58.307707Z",
     "shell.execute_reply": "2025-01-28T11:38:58.306587Z"
    },
    "papermill": {
     "duration": 15.610253,
     "end_time": "2025-01-28T11:38:58.309890",
     "exception": false,
     "start_time": "2025-01-28T11:38:42.699637",
     "status": "completed"
    },
    "tags": []
   },
   "outputs": [],
   "source": [
    "# libraries for building model and testing\n",
    "from tensorflow.keras.models import Sequential\n",
    "from tensorflow.keras.layers import *\n",
    "from tensorflow.keras.callbacks import ModelCheckpoint\n",
    "from tensorflow.keras.callbacks import ReduceLROnPlateau\n",
    "from tensorflow.keras.losses import MeanSquaredError, MeanAbsoluteError\n",
    "from tensorflow.keras.metrics import RootMeanSquaredError\n",
    "from tensorflow.keras.optimizers import Adam\n",
    "from keras.regularizers import l2\n",
    "from keras.callbacks import EarlyStopping"
   ]
  },
  {
   "cell_type": "markdown",
   "id": "f39f74ae",
   "metadata": {
    "papermill": {
     "duration": 0.030221,
     "end_time": "2025-01-28T11:38:58.370771",
     "exception": false,
     "start_time": "2025-01-28T11:38:58.340550",
     "status": "completed"
    },
    "tags": []
   },
   "source": [
    "# LSTM(Normal)(Learning Rate Test)"
   ]
  },
  {
   "cell_type": "markdown",
   "id": "4d86e6d7",
   "metadata": {
    "papermill": {
     "duration": 0.031433,
     "end_time": "2025-01-28T11:38:58.431785",
     "exception": false,
     "start_time": "2025-01-28T11:38:58.400352",
     "status": "completed"
    },
    "tags": []
   },
   "source": [
    "## Model 1"
   ]
  },
  {
   "cell_type": "code",
   "execution_count": 36,
   "id": "9334555f",
   "metadata": {
    "execution": {
     "iopub.execute_input": "2025-01-28T11:38:58.493005Z",
     "iopub.status.busy": "2025-01-28T11:38:58.492340Z",
     "iopub.status.idle": "2025-01-28T11:39:18.708493Z",
     "shell.execute_reply": "2025-01-28T11:39:18.707210Z"
    },
    "papermill": {
     "duration": 20.24836,
     "end_time": "2025-01-28T11:39:18.710333",
     "exception": false,
     "start_time": "2025-01-28T11:38:58.461973",
     "status": "completed"
    },
    "tags": []
   },
   "outputs": [
    {
     "name": "stdout",
     "output_type": "stream",
     "text": [
      "Epoch 1/50\n",
      "\u001b[1m80/80\u001b[0m \u001b[32m━━━━━━━━━━━━━━━━━━━━\u001b[0m\u001b[37m\u001b[0m \u001b[1m3s\u001b[0m 8ms/step - loss: 29181.6855 - root_mean_squared_error: 170.6217 - val_loss: 22183.3809 - val_root_mean_squared_error: 148.9409\n",
      "Epoch 2/50\n",
      "\u001b[1m80/80\u001b[0m \u001b[32m━━━━━━━━━━━━━━━━━━━━\u001b[0m\u001b[37m\u001b[0m \u001b[1m0s\u001b[0m 4ms/step - loss: 10997.3809 - root_mean_squared_error: 104.6175 - val_loss: 8098.6304 - val_root_mean_squared_error: 89.9924\n",
      "Epoch 3/50\n",
      "\u001b[1m80/80\u001b[0m \u001b[32m━━━━━━━━━━━━━━━━━━━━\u001b[0m\u001b[37m\u001b[0m \u001b[1m0s\u001b[0m 4ms/step - loss: 4620.2310 - root_mean_squared_error: 67.8619 - val_loss: 6759.2134 - val_root_mean_squared_error: 82.2144\n",
      "Epoch 4/50\n",
      "\u001b[1m80/80\u001b[0m \u001b[32m━━━━━━━━━━━━━━━━━━━━\u001b[0m\u001b[37m\u001b[0m \u001b[1m0s\u001b[0m 5ms/step - loss: 4528.9038 - root_mean_squared_error: 67.1264 - val_loss: 5963.8311 - val_root_mean_squared_error: 77.2258\n",
      "Epoch 5/50\n",
      "\u001b[1m80/80\u001b[0m \u001b[32m━━━━━━━━━━━━━━━━━━━━\u001b[0m\u001b[37m\u001b[0m \u001b[1m0s\u001b[0m 4ms/step - loss: 3829.7871 - root_mean_squared_error: 61.8082 - val_loss: 6209.9883 - val_root_mean_squared_error: 78.8035\n",
      "Epoch 6/50\n",
      "\u001b[1m80/80\u001b[0m \u001b[32m━━━━━━━━━━━━━━━━━━━━\u001b[0m\u001b[37m\u001b[0m \u001b[1m0s\u001b[0m 5ms/step - loss: 3109.4434 - root_mean_squared_error: 55.6937 - val_loss: 3634.3398 - val_root_mean_squared_error: 60.2855\n",
      "Epoch 7/50\n",
      "\u001b[1m80/80\u001b[0m \u001b[32m━━━━━━━━━━━━━━━━━━━━\u001b[0m\u001b[37m\u001b[0m \u001b[1m0s\u001b[0m 4ms/step - loss: 3023.1331 - root_mean_squared_error: 54.9010 - val_loss: 3094.1758 - val_root_mean_squared_error: 55.6253\n",
      "Epoch 8/50\n",
      "\u001b[1m80/80\u001b[0m \u001b[32m━━━━━━━━━━━━━━━━━━━━\u001b[0m\u001b[37m\u001b[0m \u001b[1m0s\u001b[0m 4ms/step - loss: 3249.1047 - root_mean_squared_error: 56.9510 - val_loss: 2979.5986 - val_root_mean_squared_error: 54.5857\n",
      "Epoch 9/50\n",
      "\u001b[1m80/80\u001b[0m \u001b[32m━━━━━━━━━━━━━━━━━━━━\u001b[0m\u001b[37m\u001b[0m \u001b[1m0s\u001b[0m 4ms/step - loss: 2508.7527 - root_mean_squared_error: 50.0467 - val_loss: 3177.3445 - val_root_mean_squared_error: 56.3679\n",
      "Epoch 10/50\n",
      "\u001b[1m80/80\u001b[0m \u001b[32m━━━━━━━━━━━━━━━━━━━━\u001b[0m\u001b[37m\u001b[0m \u001b[1m0s\u001b[0m 4ms/step - loss: 2653.0830 - root_mean_squared_error: 51.4513 - val_loss: 2964.4487 - val_root_mean_squared_error: 54.4468\n",
      "Epoch 11/50\n",
      "\u001b[1m80/80\u001b[0m \u001b[32m━━━━━━━━━━━━━━━━━━━━\u001b[0m\u001b[37m\u001b[0m \u001b[1m0s\u001b[0m 4ms/step - loss: 2096.7104 - root_mean_squared_error: 45.5450 - val_loss: 1953.0276 - val_root_mean_squared_error: 44.1931\n",
      "Epoch 12/50\n",
      "\u001b[1m80/80\u001b[0m \u001b[32m━━━━━━━━━━━━━━━━━━━━\u001b[0m\u001b[37m\u001b[0m \u001b[1m0s\u001b[0m 4ms/step - loss: 2623.3057 - root_mean_squared_error: 50.6240 - val_loss: 1851.5414 - val_root_mean_squared_error: 43.0295\n",
      "Epoch 13/50\n",
      "\u001b[1m80/80\u001b[0m \u001b[32m━━━━━━━━━━━━━━━━━━━━\u001b[0m\u001b[37m\u001b[0m \u001b[1m0s\u001b[0m 4ms/step - loss: 2071.3342 - root_mean_squared_error: 45.4345 - val_loss: 1379.9904 - val_root_mean_squared_error: 37.1482\n",
      "Epoch 14/50\n",
      "\u001b[1m80/80\u001b[0m \u001b[32m━━━━━━━━━━━━━━━━━━━━\u001b[0m\u001b[37m\u001b[0m \u001b[1m0s\u001b[0m 4ms/step - loss: 2320.6436 - root_mean_squared_error: 48.1169 - val_loss: 2819.7759 - val_root_mean_squared_error: 53.1016\n",
      "Epoch 15/50\n",
      "\u001b[1m80/80\u001b[0m \u001b[32m━━━━━━━━━━━━━━━━━━━━\u001b[0m\u001b[37m\u001b[0m \u001b[1m0s\u001b[0m 4ms/step - loss: 2399.3167 - root_mean_squared_error: 48.9024 - val_loss: 2393.1287 - val_root_mean_squared_error: 48.9196\n",
      "Epoch 16/50\n",
      "\u001b[1m80/80\u001b[0m \u001b[32m━━━━━━━━━━━━━━━━━━━━\u001b[0m\u001b[37m\u001b[0m \u001b[1m0s\u001b[0m 4ms/step - loss: 2701.6013 - root_mean_squared_error: 51.8070 - val_loss: 2102.9026 - val_root_mean_squared_error: 45.8574\n",
      "Epoch 17/50\n",
      "\u001b[1m80/80\u001b[0m \u001b[32m━━━━━━━━━━━━━━━━━━━━\u001b[0m\u001b[37m\u001b[0m \u001b[1m0s\u001b[0m 4ms/step - loss: 2363.6782 - root_mean_squared_error: 48.5599 - val_loss: 1732.4944 - val_root_mean_squared_error: 41.6232\n",
      "Epoch 18/50\n",
      "\u001b[1m80/80\u001b[0m \u001b[32m━━━━━━━━━━━━━━━━━━━━\u001b[0m\u001b[37m\u001b[0m \u001b[1m0s\u001b[0m 4ms/step - loss: 2527.1030 - root_mean_squared_error: 50.1445 - val_loss: 1765.4001 - val_root_mean_squared_error: 42.0167\n",
      "Epoch 19/50\n",
      "\u001b[1m80/80\u001b[0m \u001b[32m━━━━━━━━━━━━━━━━━━━━\u001b[0m\u001b[37m\u001b[0m \u001b[1m0s\u001b[0m 4ms/step - loss: 3142.7126 - root_mean_squared_error: 55.5021 - val_loss: 1784.5803 - val_root_mean_squared_error: 42.2443\n",
      "Epoch 20/50\n",
      "\u001b[1m80/80\u001b[0m \u001b[32m━━━━━━━━━━━━━━━━━━━━\u001b[0m\u001b[37m\u001b[0m \u001b[1m0s\u001b[0m 4ms/step - loss: 3255.7478 - root_mean_squared_error: 56.4327 - val_loss: 1806.9008 - val_root_mean_squared_error: 42.5077\n",
      "Epoch 21/50\n",
      "\u001b[1m80/80\u001b[0m \u001b[32m━━━━━━━━━━━━━━━━━━━━\u001b[0m\u001b[37m\u001b[0m \u001b[1m0s\u001b[0m 4ms/step - loss: 2038.9888 - root_mean_squared_error: 45.1247 - val_loss: 1938.6001 - val_root_mean_squared_error: 44.0295\n",
      "Epoch 22/50\n",
      "\u001b[1m80/80\u001b[0m \u001b[32m━━━━━━━━━━━━━━━━━━━━\u001b[0m\u001b[37m\u001b[0m \u001b[1m0s\u001b[0m 4ms/step - loss: 2387.4019 - root_mean_squared_error: 48.8019 - val_loss: 1525.0112 - val_root_mean_squared_error: 39.0514\n",
      "Epoch 23/50\n",
      "\u001b[1m80/80\u001b[0m \u001b[32m━━━━━━━━━━━━━━━━━━━━\u001b[0m\u001b[37m\u001b[0m \u001b[1m0s\u001b[0m 4ms/step - loss: 2255.2546 - root_mean_squared_error: 47.3766 - val_loss: 1392.2269 - val_root_mean_squared_error: 37.3126\n",
      "Epoch 24/50\n",
      "\u001b[1m80/80\u001b[0m \u001b[32m━━━━━━━━━━━━━━━━━━━━\u001b[0m\u001b[37m\u001b[0m \u001b[1m0s\u001b[0m 4ms/step - loss: 2526.9985 - root_mean_squared_error: 50.1987 - val_loss: 1899.6548 - val_root_mean_squared_error: 43.5850\n",
      "Epoch 25/50\n",
      "\u001b[1m80/80\u001b[0m \u001b[32m━━━━━━━━━━━━━━━━━━━━\u001b[0m\u001b[37m\u001b[0m \u001b[1m0s\u001b[0m 4ms/step - loss: 2271.5935 - root_mean_squared_error: 47.5630 - val_loss: 1522.2446 - val_root_mean_squared_error: 39.0160\n",
      "Epoch 26/50\n",
      "\u001b[1m80/80\u001b[0m \u001b[32m━━━━━━━━━━━━━━━━━━━━\u001b[0m\u001b[37m\u001b[0m \u001b[1m0s\u001b[0m 4ms/step - loss: 2341.7178 - root_mean_squared_error: 48.1920 - val_loss: 1181.9214 - val_root_mean_squared_error: 34.3791\n",
      "Epoch 27/50\n",
      "\u001b[1m80/80\u001b[0m \u001b[32m━━━━━━━━━━━━━━━━━━━━\u001b[0m\u001b[37m\u001b[0m \u001b[1m0s\u001b[0m 4ms/step - loss: 1985.5264 - root_mean_squared_error: 44.4976 - val_loss: 1299.5242 - val_root_mean_squared_error: 36.0489\n",
      "Epoch 28/50\n",
      "\u001b[1m80/80\u001b[0m \u001b[32m━━━━━━━━━━━━━━━━━━━━\u001b[0m\u001b[37m\u001b[0m \u001b[1m0s\u001b[0m 4ms/step - loss: 2123.1172 - root_mean_squared_error: 45.9946 - val_loss: 1166.3147 - val_root_mean_squared_error: 34.1513\n",
      "Epoch 29/50\n",
      "\u001b[1m80/80\u001b[0m \u001b[32m━━━━━━━━━━━━━━━━━━━━\u001b[0m\u001b[37m\u001b[0m \u001b[1m0s\u001b[0m 4ms/step - loss: 2321.9167 - root_mean_squared_error: 47.9111 - val_loss: 1382.1959 - val_root_mean_squared_error: 37.1779\n",
      "Epoch 30/50\n",
      "\u001b[1m80/80\u001b[0m \u001b[32m━━━━━━━━━━━━━━━━━━━━\u001b[0m\u001b[37m\u001b[0m \u001b[1m0s\u001b[0m 4ms/step - loss: 2019.3466 - root_mean_squared_error: 44.6546 - val_loss: 3590.8010 - val_root_mean_squared_error: 59.9233\n",
      "Epoch 31/50\n",
      "\u001b[1m80/80\u001b[0m \u001b[32m━━━━━━━━━━━━━━━━━━━━\u001b[0m\u001b[37m\u001b[0m \u001b[1m0s\u001b[0m 4ms/step - loss: 2484.4849 - root_mean_squared_error: 49.3779 - val_loss: 3120.4182 - val_root_mean_squared_error: 55.8607\n",
      "Epoch 32/50\n",
      "\u001b[1m80/80\u001b[0m \u001b[32m━━━━━━━━━━━━━━━━━━━━\u001b[0m\u001b[37m\u001b[0m \u001b[1m0s\u001b[0m 4ms/step - loss: 3157.5054 - root_mean_squared_error: 56.1296 - val_loss: 2576.4382 - val_root_mean_squared_error: 50.7586\n",
      "Epoch 33/50\n",
      "\u001b[1m80/80\u001b[0m \u001b[32m━━━━━━━━━━━━━━━━━━━━\u001b[0m\u001b[37m\u001b[0m \u001b[1m0s\u001b[0m 4ms/step - loss: 3218.9998 - root_mean_squared_error: 56.5040 - val_loss: 2019.7694 - val_root_mean_squared_error: 44.9418\n",
      "Epoch 34/50\n",
      "\u001b[1m80/80\u001b[0m \u001b[32m━━━━━━━━━━━━━━━━━━━━\u001b[0m\u001b[37m\u001b[0m \u001b[1m0s\u001b[0m 4ms/step - loss: 2152.5596 - root_mean_squared_error: 46.2902 - val_loss: 1642.3369 - val_root_mean_squared_error: 40.5258\n",
      "Epoch 35/50\n",
      "\u001b[1m80/80\u001b[0m \u001b[32m━━━━━━━━━━━━━━━━━━━━\u001b[0m\u001b[37m\u001b[0m \u001b[1m0s\u001b[0m 4ms/step - loss: 2096.6384 - root_mean_squared_error: 45.7220 - val_loss: 1625.8854 - val_root_mean_squared_error: 40.3223\n",
      "Epoch 36/50\n",
      "\u001b[1m80/80\u001b[0m \u001b[32m━━━━━━━━━━━━━━━━━━━━\u001b[0m\u001b[37m\u001b[0m \u001b[1m0s\u001b[0m 4ms/step - loss: 1961.5569 - root_mean_squared_error: 44.2500 - val_loss: 932.8180 - val_root_mean_squared_error: 30.5421\n",
      "Epoch 37/50\n",
      "\u001b[1m80/80\u001b[0m \u001b[32m━━━━━━━━━━━━━━━━━━━━\u001b[0m\u001b[37m\u001b[0m \u001b[1m0s\u001b[0m 4ms/step - loss: 2308.0261 - root_mean_squared_error: 47.8536 - val_loss: 902.6669 - val_root_mean_squared_error: 30.0444\n",
      "Epoch 38/50\n",
      "\u001b[1m80/80\u001b[0m \u001b[32m━━━━━━━━━━━━━━━━━━━━\u001b[0m\u001b[37m\u001b[0m \u001b[1m0s\u001b[0m 4ms/step - loss: 2463.0046 - root_mean_squared_error: 49.4041 - val_loss: 923.9984 - val_root_mean_squared_error: 30.3973\n",
      "Epoch 39/50\n",
      "\u001b[1m80/80\u001b[0m \u001b[32m━━━━━━━━━━━━━━━━━━━━\u001b[0m\u001b[37m\u001b[0m \u001b[1m0s\u001b[0m 4ms/step - loss: 2077.2974 - root_mean_squared_error: 45.2601 - val_loss: 972.7305 - val_root_mean_squared_error: 31.1886\n",
      "Epoch 40/50\n",
      "\u001b[1m80/80\u001b[0m \u001b[32m━━━━━━━━━━━━━━━━━━━━\u001b[0m\u001b[37m\u001b[0m \u001b[1m0s\u001b[0m 4ms/step - loss: 2207.0664 - root_mean_squared_error: 46.8629 - val_loss: 1368.3694 - val_root_mean_squared_error: 36.9915\n",
      "Epoch 41/50\n",
      "\u001b[1m80/80\u001b[0m \u001b[32m━━━━━━━━━━━━━━━━━━━━\u001b[0m\u001b[37m\u001b[0m \u001b[1m0s\u001b[0m 4ms/step - loss: 1587.0458 - root_mean_squared_error: 39.5873 - val_loss: 1035.1903 - val_root_mean_squared_error: 32.1744\n",
      "Epoch 42/50\n",
      "\u001b[1m80/80\u001b[0m \u001b[32m━━━━━━━━━━━━━━━━━━━━\u001b[0m\u001b[37m\u001b[0m \u001b[1m0s\u001b[0m 4ms/step - loss: 3135.4409 - root_mean_squared_error: 55.5463 - val_loss: 2507.4497 - val_root_mean_squared_error: 50.0744\n",
      "Epoch 43/50\n",
      "\u001b[1m80/80\u001b[0m \u001b[32m━━━━━━━━━━━━━━━━━━━━\u001b[0m\u001b[37m\u001b[0m \u001b[1m0s\u001b[0m 4ms/step - loss: 3066.2959 - root_mean_squared_error: 55.2828 - val_loss: 2463.7361 - val_root_mean_squared_error: 49.6360\n",
      "Epoch 44/50\n",
      "\u001b[1m80/80\u001b[0m \u001b[32m━━━━━━━━━━━━━━━━━━━━\u001b[0m\u001b[37m\u001b[0m \u001b[1m0s\u001b[0m 4ms/step - loss: 2800.9495 - root_mean_squared_error: 52.8099 - val_loss: 2441.7261 - val_root_mean_squared_error: 49.4138\n",
      "Epoch 45/50\n",
      "\u001b[1m80/80\u001b[0m \u001b[32m━━━━━━━━━━━━━━━━━━━━\u001b[0m\u001b[37m\u001b[0m \u001b[1m0s\u001b[0m 4ms/step - loss: 3002.2566 - root_mean_squared_error: 54.7359 - val_loss: 2355.1028 - val_root_mean_squared_error: 48.5294\n",
      "Epoch 46/50\n",
      "\u001b[1m80/80\u001b[0m \u001b[32m━━━━━━━━━━━━━━━━━━━━\u001b[0m\u001b[37m\u001b[0m \u001b[1m0s\u001b[0m 4ms/step - loss: 2919.6162 - root_mean_squared_error: 53.9924 - val_loss: 2298.9702 - val_root_mean_squared_error: 47.9476\n",
      "Epoch 47/50\n",
      "\u001b[1m80/80\u001b[0m \u001b[32m━━━━━━━━━━━━━━━━━━━━\u001b[0m\u001b[37m\u001b[0m \u001b[1m0s\u001b[0m 4ms/step - loss: 2825.9656 - root_mean_squared_error: 53.0607 - val_loss: 2391.6150 - val_root_mean_squared_error: 48.9041\n",
      "Epoch 48/50\n",
      "\u001b[1m80/80\u001b[0m \u001b[32m━━━━━━━━━━━━━━━━━━━━\u001b[0m\u001b[37m\u001b[0m \u001b[1m0s\u001b[0m 4ms/step - loss: 3325.8828 - root_mean_squared_error: 57.5130 - val_loss: 2183.5210 - val_root_mean_squared_error: 46.7282\n",
      "Epoch 49/50\n",
      "\u001b[1m80/80\u001b[0m \u001b[32m━━━━━━━━━━━━━━━━━━━━\u001b[0m\u001b[37m\u001b[0m \u001b[1m0s\u001b[0m 4ms/step - loss: 3499.8208 - root_mean_squared_error: 58.7346 - val_loss: 1292.3668 - val_root_mean_squared_error: 35.9495\n",
      "Epoch 50/50\n",
      "\u001b[1m80/80\u001b[0m \u001b[32m━━━━━━━━━━━━━━━━━━━━\u001b[0m\u001b[37m\u001b[0m \u001b[1m0s\u001b[0m 4ms/step - loss: 2274.1187 - root_mean_squared_error: 47.5990 - val_loss: 1088.4656 - val_root_mean_squared_error: 32.9919\n"
     ]
    },
    {
     "data": {
      "text/plain": [
       "<keras.src.callbacks.history.History at 0x7b332d8d6b30>"
      ]
     },
     "execution_count": 36,
     "metadata": {},
     "output_type": "execute_result"
    }
   ],
   "source": [
    "model1 = Sequential()\n",
    "model1.add(InputLayer((6, 6))) # 6 timestamp , 6 feature\n",
    "model1.add(LSTM(16)) \n",
    "model1.add(Dense(8, activation='relu'))\n",
    "model1.add(Dense(1, 'linear')) \n",
    "\n",
    "#model1.summary()\n",
    "\n",
    "cp1 = ModelCheckpoint('/kaggle/working/model1.keras', save_best_only=True)\n",
    "\n",
    "model1.compile(loss=MeanSquaredError(), optimizer=Adam(learning_rate=0.01), \n",
    "               metrics=[RootMeanSquaredError()])\n",
    "\n",
    "model1.fit(X_train1, y_train1, validation_data=(X_val1, y_val1), epochs=50, \n",
    "           callbacks=[cp1])"
   ]
  },
  {
   "cell_type": "code",
   "execution_count": 37,
   "id": "f7e132c3",
   "metadata": {
    "execution": {
     "iopub.execute_input": "2025-01-28T11:39:18.825486Z",
     "iopub.status.busy": "2025-01-28T11:39:18.825072Z",
     "iopub.status.idle": "2025-01-28T11:39:18.936014Z",
     "shell.execute_reply": "2025-01-28T11:39:18.934670Z"
    },
    "papermill": {
     "duration": 0.169857,
     "end_time": "2025-01-28T11:39:18.938155",
     "exception": false,
     "start_time": "2025-01-28T11:39:18.768298",
     "status": "completed"
    },
    "tags": []
   },
   "outputs": [],
   "source": [
    "from tensorflow.keras.models import load_model\n",
    "model1 = load_model('/kaggle/working/model1.keras')"
   ]
  },
  {
   "cell_type": "code",
   "execution_count": 38,
   "id": "f06ab06b",
   "metadata": {
    "execution": {
     "iopub.execute_input": "2025-01-28T11:39:19.049324Z",
     "iopub.status.busy": "2025-01-28T11:39:19.048961Z",
     "iopub.status.idle": "2025-01-28T11:39:19.593985Z",
     "shell.execute_reply": "2025-01-28T11:39:19.592796Z"
    },
    "papermill": {
     "duration": 0.602482,
     "end_time": "2025-01-28T11:39:19.595981",
     "exception": false,
     "start_time": "2025-01-28T11:39:18.993499",
     "status": "completed"
    },
    "tags": []
   },
   "outputs": [
    {
     "name": "stdout",
     "output_type": "stream",
     "text": [
      "\u001b[1m80/80\u001b[0m \u001b[32m━━━━━━━━━━━━━━━━━━━━\u001b[0m\u001b[37m\u001b[0m \u001b[1m0s\u001b[0m 4ms/step\n",
      "Evaluation Metrics:\n",
      "Mean Absolute Error (MAE): 26.6454\n",
      "Mean Squared Error (MSE): 2091.7525\n",
      "Root Mean Squared Error (RMSE): 45.7357\n",
      "R-squared (Accuracy): 0.5949\n"
     ]
    }
   ],
   "source": [
    "# Evaluate the model on the train data\n",
    "train_result = model1.predict(X_train1)\n",
    "\n",
    "# Calculate metrics\n",
    "mse = mean_squared_error(y_train1, train_result)\n",
    "rmse = np.sqrt(mse)\n",
    "mae = mean_absolute_error(y_train1, train_result)\n",
    "r2 = r2_score(y_train1, train_result)\n",
    "\n",
    "# Print the results\n",
    "print(\"Evaluation Metrics:\")\n",
    "print(f\"Mean Absolute Error (MAE): {mae:.4f}\")\n",
    "print(f\"Mean Squared Error (MSE): {mse:.4f}\")\n",
    "print(f\"Root Mean Squared Error (RMSE): {rmse:.4f}\")\n",
    "print(f\"R-squared (Accuracy): {r2:.4f}\")"
   ]
  },
  {
   "cell_type": "code",
   "execution_count": 39,
   "id": "8bb296aa",
   "metadata": {
    "execution": {
     "iopub.execute_input": "2025-01-28T11:39:19.708676Z",
     "iopub.status.busy": "2025-01-28T11:39:19.708288Z",
     "iopub.status.idle": "2025-01-28T11:39:19.812646Z",
     "shell.execute_reply": "2025-01-28T11:39:19.810971Z"
    },
    "papermill": {
     "duration": 0.163044,
     "end_time": "2025-01-28T11:39:19.814649",
     "exception": false,
     "start_time": "2025-01-28T11:39:19.651605",
     "status": "completed"
    },
    "tags": []
   },
   "outputs": [
    {
     "name": "stdout",
     "output_type": "stream",
     "text": [
      "\u001b[1m10/10\u001b[0m \u001b[32m━━━━━━━━━━━━━━━━━━━━\u001b[0m\u001b[37m\u001b[0m \u001b[1m0s\u001b[0m 2ms/step \n",
      "Evaluation Metrics:\n",
      "Mean Absolute Error (MAE): 21.5673\n",
      "Mean Squared Error (MSE): 902.6669\n",
      "Root Mean Squared Error (RMSE): 30.0444\n",
      "R-squared (Accuracy): 0.8786\n"
     ]
    }
   ],
   "source": [
    "# Evaluate the model on the validation data\n",
    "val_result = model1.predict(X_val1)\n",
    "\n",
    "# Calculate metrics\n",
    "mse = mean_squared_error(y_val1, val_result)\n",
    "rmse = np.sqrt(mse)\n",
    "mae = mean_absolute_error(y_val1, val_result)\n",
    "r2 = r2_score(y_val1, val_result)\n",
    "\n",
    "# Print the results\n",
    "print(\"Evaluation Metrics:\")\n",
    "print(f\"Mean Absolute Error (MAE): {mae:.4f}\")\n",
    "print(f\"Mean Squared Error (MSE): {mse:.4f}\")\n",
    "print(f\"Root Mean Squared Error (RMSE): {rmse:.4f}\")\n",
    "print(f\"R-squared (Accuracy): {r2:.4f}\")"
   ]
  },
  {
   "cell_type": "code",
   "execution_count": 40,
   "id": "898e21d6",
   "metadata": {
    "execution": {
     "iopub.execute_input": "2025-01-28T11:39:19.923215Z",
     "iopub.status.busy": "2025-01-28T11:39:19.922771Z",
     "iopub.status.idle": "2025-01-28T11:39:20.021058Z",
     "shell.execute_reply": "2025-01-28T11:39:20.019986Z"
    },
    "papermill": {
     "duration": 0.154495,
     "end_time": "2025-01-28T11:39:20.023040",
     "exception": false,
     "start_time": "2025-01-28T11:39:19.868545",
     "status": "completed"
    },
    "tags": []
   },
   "outputs": [
    {
     "name": "stdout",
     "output_type": "stream",
     "text": [
      "\u001b[1m10/10\u001b[0m \u001b[32m━━━━━━━━━━━━━━━━━━━━\u001b[0m\u001b[37m\u001b[0m \u001b[1m0s\u001b[0m 2ms/step \n",
      "Evaluation Metrics:\n",
      "Mean Absolute Error (MAE): 27.9885\n",
      "Mean Squared Error (MSE): 1579.4358\n",
      "Root Mean Squared Error (RMSE): 39.7421\n",
      "R-squared (Accuracy): 0.5220\n"
     ]
    }
   ],
   "source": [
    "# Evaluate the model on the test data\n",
    "test_result = model1.predict(X_test1)\n",
    "\n",
    "# Calculate metrics\n",
    "mse = mean_squared_error(y_test1, test_result)\n",
    "rmse = np.sqrt(mse)\n",
    "mae = mean_absolute_error(y_test1, test_result)\n",
    "r2 = r2_score(y_test1, test_result)\n",
    "\n",
    "# Print the results\n",
    "print(\"Evaluation Metrics:\")\n",
    "print(f\"Mean Absolute Error (MAE): {mae:.4f}\")\n",
    "print(f\"Mean Squared Error (MSE): {mse:.4f}\")\n",
    "print(f\"Root Mean Squared Error (RMSE): {rmse:.4f}\")\n",
    "print(f\"R-squared (Accuracy): {r2:.4f}\")"
   ]
  },
  {
   "cell_type": "code",
   "execution_count": null,
   "id": "293057ac",
   "metadata": {
    "papermill": {
     "duration": 0.053614,
     "end_time": "2025-01-28T11:39:20.130677",
     "exception": false,
     "start_time": "2025-01-28T11:39:20.077063",
     "status": "completed"
    },
    "tags": []
   },
   "outputs": [],
   "source": []
  },
  {
   "cell_type": "markdown",
   "id": "98ed66f9",
   "metadata": {
    "papermill": {
     "duration": 0.053478,
     "end_time": "2025-01-28T11:39:20.238601",
     "exception": false,
     "start_time": "2025-01-28T11:39:20.185123",
     "status": "completed"
    },
    "tags": []
   },
   "source": [
    "## Model 2"
   ]
  },
  {
   "cell_type": "code",
   "execution_count": 41,
   "id": "9d2dc074",
   "metadata": {
    "execution": {
     "iopub.execute_input": "2025-01-28T11:39:20.359453Z",
     "iopub.status.busy": "2025-01-28T11:39:20.359067Z",
     "iopub.status.idle": "2025-01-28T11:39:41.028366Z",
     "shell.execute_reply": "2025-01-28T11:39:41.027332Z"
    },
    "papermill": {
     "duration": 20.737273,
     "end_time": "2025-01-28T11:39:41.030092",
     "exception": false,
     "start_time": "2025-01-28T11:39:20.292819",
     "status": "completed"
    },
    "tags": []
   },
   "outputs": [
    {
     "name": "stdout",
     "output_type": "stream",
     "text": [
      "Epoch 1/50\n",
      "\u001b[1m80/80\u001b[0m \u001b[32m━━━━━━━━━━━━━━━━━━━━\u001b[0m\u001b[37m\u001b[0m \u001b[1m3s\u001b[0m 8ms/step - loss: 32387.2812 - root_mean_squared_error: 179.9450 - val_loss: 39638.7969 - val_root_mean_squared_error: 199.0949\n",
      "Epoch 2/50\n",
      "\u001b[1m80/80\u001b[0m \u001b[32m━━━━━━━━━━━━━━━━━━━━\u001b[0m\u001b[37m\u001b[0m \u001b[1m0s\u001b[0m 4ms/step - loss: 30257.0723 - root_mean_squared_error: 173.9081 - val_loss: 39598.8164 - val_root_mean_squared_error: 198.9945\n",
      "Epoch 3/50\n",
      "\u001b[1m80/80\u001b[0m \u001b[32m━━━━━━━━━━━━━━━━━━━━\u001b[0m\u001b[37m\u001b[0m \u001b[1m0s\u001b[0m 4ms/step - loss: 30799.7969 - root_mean_squared_error: 175.4691 - val_loss: 39512.3594 - val_root_mean_squared_error: 198.7772\n",
      "Epoch 4/50\n",
      "\u001b[1m80/80\u001b[0m \u001b[32m━━━━━━━━━━━━━━━━━━━━\u001b[0m\u001b[37m\u001b[0m \u001b[1m0s\u001b[0m 4ms/step - loss: 30944.3750 - root_mean_squared_error: 175.8787 - val_loss: 39319.1680 - val_root_mean_squared_error: 198.2906\n",
      "Epoch 5/50\n",
      "\u001b[1m80/80\u001b[0m \u001b[32m━━━━━━━━━━━━━━━━━━━━\u001b[0m\u001b[37m\u001b[0m \u001b[1m0s\u001b[0m 4ms/step - loss: 30194.8672 - root_mean_squared_error: 173.7488 - val_loss: 39136.4414 - val_root_mean_squared_error: 197.8293\n",
      "Epoch 6/50\n",
      "\u001b[1m80/80\u001b[0m \u001b[32m━━━━━━━━━━━━━━━━━━━━\u001b[0m\u001b[37m\u001b[0m \u001b[1m0s\u001b[0m 4ms/step - loss: 30414.3301 - root_mean_squared_error: 174.3913 - val_loss: 38976.4297 - val_root_mean_squared_error: 197.4245\n",
      "Epoch 7/50\n",
      "\u001b[1m80/80\u001b[0m \u001b[32m━━━━━━━━━━━━━━━━━━━━\u001b[0m\u001b[37m\u001b[0m \u001b[1m0s\u001b[0m 4ms/step - loss: 30366.3770 - root_mean_squared_error: 174.2497 - val_loss: 38843.7500 - val_root_mean_squared_error: 197.0882\n",
      "Epoch 8/50\n",
      "\u001b[1m80/80\u001b[0m \u001b[32m━━━━━━━━━━━━━━━━━━━━\u001b[0m\u001b[37m\u001b[0m \u001b[1m0s\u001b[0m 4ms/step - loss: 30180.0527 - root_mean_squared_error: 173.7037 - val_loss: 38726.8633 - val_root_mean_squared_error: 196.7914\n",
      "Epoch 9/50\n",
      "\u001b[1m80/80\u001b[0m \u001b[32m━━━━━━━━━━━━━━━━━━━━\u001b[0m\u001b[37m\u001b[0m \u001b[1m0s\u001b[0m 4ms/step - loss: 31003.1582 - root_mean_squared_error: 176.0490 - val_loss: 38606.4844 - val_root_mean_squared_error: 196.4853\n",
      "Epoch 10/50\n",
      "\u001b[1m80/80\u001b[0m \u001b[32m━━━━━━━━━━━━━━━━━━━━\u001b[0m\u001b[37m\u001b[0m \u001b[1m0s\u001b[0m 4ms/step - loss: 30466.3594 - root_mean_squared_error: 174.5302 - val_loss: 38514.4961 - val_root_mean_squared_error: 196.2511\n",
      "Epoch 11/50\n",
      "\u001b[1m80/80\u001b[0m \u001b[32m━━━━━━━━━━━━━━━━━━━━\u001b[0m\u001b[37m\u001b[0m \u001b[1m0s\u001b[0m 4ms/step - loss: 29830.0859 - root_mean_squared_error: 172.6999 - val_loss: 38424.2578 - val_root_mean_squared_error: 196.0211\n",
      "Epoch 12/50\n",
      "\u001b[1m80/80\u001b[0m \u001b[32m━━━━━━━━━━━━━━━━━━━━\u001b[0m\u001b[37m\u001b[0m \u001b[1m0s\u001b[0m 4ms/step - loss: 29682.1074 - root_mean_squared_error: 172.2614 - val_loss: 38334.8516 - val_root_mean_squared_error: 195.7929\n",
      "Epoch 13/50\n",
      "\u001b[1m80/80\u001b[0m \u001b[32m━━━━━━━━━━━━━━━━━━━━\u001b[0m\u001b[37m\u001b[0m \u001b[1m0s\u001b[0m 4ms/step - loss: 31439.2871 - root_mean_squared_error: 177.2851 - val_loss: 38244.7109 - val_root_mean_squared_error: 195.5625\n",
      "Epoch 14/50\n",
      "\u001b[1m80/80\u001b[0m \u001b[32m━━━━━━━━━━━━━━━━━━━━\u001b[0m\u001b[37m\u001b[0m \u001b[1m0s\u001b[0m 4ms/step - loss: 28548.7676 - root_mean_squared_error: 168.9067 - val_loss: 38154.3320 - val_root_mean_squared_error: 195.3313\n",
      "Epoch 15/50\n",
      "\u001b[1m80/80\u001b[0m \u001b[32m━━━━━━━━━━━━━━━━━━━━\u001b[0m\u001b[37m\u001b[0m \u001b[1m0s\u001b[0m 4ms/step - loss: 29867.3008 - root_mean_squared_error: 172.8081 - val_loss: 38062.6133 - val_root_mean_squared_error: 195.0964\n",
      "Epoch 16/50\n",
      "\u001b[1m80/80\u001b[0m \u001b[32m━━━━━━━━━━━━━━━━━━━━\u001b[0m\u001b[37m\u001b[0m \u001b[1m0s\u001b[0m 4ms/step - loss: 29920.2871 - root_mean_squared_error: 172.9550 - val_loss: 37969.5000 - val_root_mean_squared_error: 194.8576\n",
      "Epoch 17/50\n",
      "\u001b[1m80/80\u001b[0m \u001b[32m━━━━━━━━━━━━━━━━━━━━\u001b[0m\u001b[37m\u001b[0m \u001b[1m0s\u001b[0m 4ms/step - loss: 29851.9141 - root_mean_squared_error: 172.7723 - val_loss: 37850.5898 - val_root_mean_squared_error: 194.5523\n",
      "Epoch 18/50\n",
      "\u001b[1m80/80\u001b[0m \u001b[32m━━━━━━━━━━━━━━━━━━━━\u001b[0m\u001b[37m\u001b[0m \u001b[1m0s\u001b[0m 4ms/step - loss: 29670.6211 - root_mean_squared_error: 172.2266 - val_loss: 37743.3008 - val_root_mean_squared_error: 194.2764\n",
      "Epoch 19/50\n",
      "\u001b[1m80/80\u001b[0m \u001b[32m━━━━━━━━━━━━━━━━━━━━\u001b[0m\u001b[37m\u001b[0m \u001b[1m0s\u001b[0m 4ms/step - loss: 28323.4395 - root_mean_squared_error: 168.2689 - val_loss: 37641.7930 - val_root_mean_squared_error: 194.0149\n",
      "Epoch 20/50\n",
      "\u001b[1m80/80\u001b[0m \u001b[32m━━━━━━━━━━━━━━━━━━━━\u001b[0m\u001b[37m\u001b[0m \u001b[1m0s\u001b[0m 4ms/step - loss: 30126.4258 - root_mean_squared_error: 173.5596 - val_loss: 37531.4141 - val_root_mean_squared_error: 193.7303\n",
      "Epoch 21/50\n",
      "\u001b[1m80/80\u001b[0m \u001b[32m━━━━━━━━━━━━━━━━━━━━\u001b[0m\u001b[37m\u001b[0m \u001b[1m0s\u001b[0m 4ms/step - loss: 29439.7363 - root_mean_squared_error: 171.5524 - val_loss: 37404.2812 - val_root_mean_squared_error: 193.4019\n",
      "Epoch 22/50\n",
      "\u001b[1m80/80\u001b[0m \u001b[32m━━━━━━━━━━━━━━━━━━━━\u001b[0m\u001b[37m\u001b[0m \u001b[1m0s\u001b[0m 5ms/step - loss: 27937.7793 - root_mean_squared_error: 167.0633 - val_loss: 37282.8672 - val_root_mean_squared_error: 193.0877\n",
      "Epoch 23/50\n",
      "\u001b[1m80/80\u001b[0m \u001b[32m━━━━━━━━━━━━━━━━━━━━\u001b[0m\u001b[37m\u001b[0m \u001b[1m0s\u001b[0m 4ms/step - loss: 29154.2344 - root_mean_squared_error: 170.6924 - val_loss: 37165.9219 - val_root_mean_squared_error: 192.7847\n",
      "Epoch 24/50\n",
      "\u001b[1m80/80\u001b[0m \u001b[32m━━━━━━━━━━━━━━━━━━━━\u001b[0m\u001b[37m\u001b[0m \u001b[1m0s\u001b[0m 4ms/step - loss: 29584.2812 - root_mean_squared_error: 171.9946 - val_loss: 37051.6211 - val_root_mean_squared_error: 192.4880\n",
      "Epoch 25/50\n",
      "\u001b[1m80/80\u001b[0m \u001b[32m━━━━━━━━━━━━━━━━━━━━\u001b[0m\u001b[37m\u001b[0m \u001b[1m0s\u001b[0m 4ms/step - loss: 28037.9824 - root_mean_squared_error: 167.4031 - val_loss: 36938.0664 - val_root_mean_squared_error: 192.1928\n",
      "Epoch 26/50\n",
      "\u001b[1m80/80\u001b[0m \u001b[32m━━━━━━━━━━━━━━━━━━━━\u001b[0m\u001b[37m\u001b[0m \u001b[1m0s\u001b[0m 4ms/step - loss: 29473.2891 - root_mean_squared_error: 171.6580 - val_loss: 36823.6172 - val_root_mean_squared_error: 191.8948\n",
      "Epoch 27/50\n",
      "\u001b[1m80/80\u001b[0m \u001b[32m━━━━━━━━━━━━━━━━━━━━\u001b[0m\u001b[37m\u001b[0m \u001b[1m0s\u001b[0m 4ms/step - loss: 28672.5938 - root_mean_squared_error: 169.3069 - val_loss: 36708.5430 - val_root_mean_squared_error: 191.5947\n",
      "Epoch 28/50\n",
      "\u001b[1m80/80\u001b[0m \u001b[32m━━━━━━━━━━━━━━━━━━━━\u001b[0m\u001b[37m\u001b[0m \u001b[1m0s\u001b[0m 4ms/step - loss: 27656.9121 - root_mean_squared_error: 166.2808 - val_loss: 36591.4141 - val_root_mean_squared_error: 191.2888\n",
      "Epoch 29/50\n",
      "\u001b[1m80/80\u001b[0m \u001b[32m━━━━━━━━━━━━━━━━━━━━\u001b[0m\u001b[37m\u001b[0m \u001b[1m0s\u001b[0m 4ms/step - loss: 27797.0117 - root_mean_squared_error: 166.6970 - val_loss: 36472.5000 - val_root_mean_squared_error: 190.9778\n",
      "Epoch 30/50\n",
      "\u001b[1m80/80\u001b[0m \u001b[32m━━━━━━━━━━━━━━━━━━━━\u001b[0m\u001b[37m\u001b[0m \u001b[1m0s\u001b[0m 4ms/step - loss: 28833.8047 - root_mean_squared_error: 169.7466 - val_loss: 36352.3164 - val_root_mean_squared_error: 190.6628\n",
      "Epoch 31/50\n",
      "\u001b[1m80/80\u001b[0m \u001b[32m━━━━━━━━━━━━━━━━━━━━\u001b[0m\u001b[37m\u001b[0m \u001b[1m0s\u001b[0m 4ms/step - loss: 28625.6426 - root_mean_squared_error: 169.1604 - val_loss: 36225.9922 - val_root_mean_squared_error: 190.3313\n",
      "Epoch 32/50\n",
      "\u001b[1m80/80\u001b[0m \u001b[32m━━━━━━━━━━━━━━━━━━━━\u001b[0m\u001b[37m\u001b[0m \u001b[1m0s\u001b[0m 4ms/step - loss: 28750.7891 - root_mean_squared_error: 169.5193 - val_loss: 36041.2539 - val_root_mean_squared_error: 189.8453\n",
      "Epoch 33/50\n",
      "\u001b[1m80/80\u001b[0m \u001b[32m━━━━━━━━━━━━━━━━━━━━\u001b[0m\u001b[37m\u001b[0m \u001b[1m0s\u001b[0m 4ms/step - loss: 28499.5098 - root_mean_squared_error: 168.8022 - val_loss: 35851.8555 - val_root_mean_squared_error: 189.3459\n",
      "Epoch 34/50\n",
      "\u001b[1m80/80\u001b[0m \u001b[32m━━━━━━━━━━━━━━━━━━━━\u001b[0m\u001b[37m\u001b[0m \u001b[1m0s\u001b[0m 4ms/step - loss: 28108.8594 - root_mean_squared_error: 167.6497 - val_loss: 35708.3555 - val_root_mean_squared_error: 188.9666\n",
      "Epoch 35/50\n",
      "\u001b[1m80/80\u001b[0m \u001b[32m━━━━━━━━━━━━━━━━━━━━\u001b[0m\u001b[37m\u001b[0m \u001b[1m0s\u001b[0m 4ms/step - loss: 28211.2305 - root_mean_squared_error: 167.9351 - val_loss: 35565.7109 - val_root_mean_squared_error: 188.5887\n",
      "Epoch 36/50\n",
      "\u001b[1m80/80\u001b[0m \u001b[32m━━━━━━━━━━━━━━━━━━━━\u001b[0m\u001b[37m\u001b[0m \u001b[1m0s\u001b[0m 4ms/step - loss: 28186.0059 - root_mean_squared_error: 167.8786 - val_loss: 35423.5469 - val_root_mean_squared_error: 188.2114\n",
      "Epoch 37/50\n",
      "\u001b[1m80/80\u001b[0m \u001b[32m━━━━━━━━━━━━━━━━━━━━\u001b[0m\u001b[37m\u001b[0m \u001b[1m0s\u001b[0m 4ms/step - loss: 27553.4570 - root_mean_squared_error: 165.9675 - val_loss: 35280.0391 - val_root_mean_squared_error: 187.8298\n",
      "Epoch 38/50\n",
      "\u001b[1m80/80\u001b[0m \u001b[32m━━━━━━━━━━━━━━━━━━━━\u001b[0m\u001b[37m\u001b[0m \u001b[1m0s\u001b[0m 4ms/step - loss: 27375.6191 - root_mean_squared_error: 165.4473 - val_loss: 35093.8672 - val_root_mean_squared_error: 187.3336\n",
      "Epoch 39/50\n",
      "\u001b[1m80/80\u001b[0m \u001b[32m━━━━━━━━━━━━━━━━━━━━\u001b[0m\u001b[37m\u001b[0m \u001b[1m0s\u001b[0m 4ms/step - loss: 27141.4316 - root_mean_squared_error: 164.7320 - val_loss: 34644.2227 - val_root_mean_squared_error: 186.1296\n",
      "Epoch 40/50\n",
      "\u001b[1m80/80\u001b[0m \u001b[32m━━━━━━━━━━━━━━━━━━━━\u001b[0m\u001b[37m\u001b[0m \u001b[1m0s\u001b[0m 4ms/step - loss: 26398.5586 - root_mean_squared_error: 162.4629 - val_loss: 34471.5703 - val_root_mean_squared_error: 185.6652\n",
      "Epoch 41/50\n",
      "\u001b[1m80/80\u001b[0m \u001b[32m━━━━━━━━━━━━━━━━━━━━\u001b[0m\u001b[37m\u001b[0m \u001b[1m0s\u001b[0m 4ms/step - loss: 25727.1523 - root_mean_squared_error: 160.3656 - val_loss: 34303.9180 - val_root_mean_squared_error: 185.2132\n",
      "Epoch 42/50\n",
      "\u001b[1m80/80\u001b[0m \u001b[32m━━━━━━━━━━━━━━━━━━━━\u001b[0m\u001b[37m\u001b[0m \u001b[1m0s\u001b[0m 4ms/step - loss: 28002.1914 - root_mean_squared_error: 167.2406 - val_loss: 34136.7070 - val_root_mean_squared_error: 184.7612\n",
      "Epoch 43/50\n",
      "\u001b[1m80/80\u001b[0m \u001b[32m━━━━━━━━━━━━━━━━━━━━\u001b[0m\u001b[37m\u001b[0m \u001b[1m0s\u001b[0m 4ms/step - loss: 25790.5801 - root_mean_squared_error: 160.5789 - val_loss: 33970.5039 - val_root_mean_squared_error: 184.3109\n",
      "Epoch 44/50\n",
      "\u001b[1m80/80\u001b[0m \u001b[32m━━━━━━━━━━━━━━━━━━━━\u001b[0m\u001b[37m\u001b[0m \u001b[1m0s\u001b[0m 4ms/step - loss: 26707.4258 - root_mean_squared_error: 163.3920 - val_loss: 33804.0625 - val_root_mean_squared_error: 183.8588\n",
      "Epoch 45/50\n",
      "\u001b[1m80/80\u001b[0m \u001b[32m━━━━━━━━━━━━━━━━━━━━\u001b[0m\u001b[37m\u001b[0m \u001b[1m0s\u001b[0m 4ms/step - loss: 26725.9453 - root_mean_squared_error: 163.4668 - val_loss: 33637.0625 - val_root_mean_squared_error: 183.4041\n",
      "Epoch 46/50\n",
      "\u001b[1m80/80\u001b[0m \u001b[32m━━━━━━━━━━━━━━━━━━━━\u001b[0m\u001b[37m\u001b[0m \u001b[1m0s\u001b[0m 4ms/step - loss: 26663.3906 - root_mean_squared_error: 163.2390 - val_loss: 33470.3242 - val_root_mean_squared_error: 182.9490\n",
      "Epoch 47/50\n",
      "\u001b[1m80/80\u001b[0m \u001b[32m━━━━━━━━━━━━━━━━━━━━\u001b[0m\u001b[37m\u001b[0m \u001b[1m0s\u001b[0m 4ms/step - loss: 28141.4551 - root_mean_squared_error: 167.5127 - val_loss: 33303.1641 - val_root_mean_squared_error: 182.4915\n",
      "Epoch 48/50\n",
      "\u001b[1m80/80\u001b[0m \u001b[32m━━━━━━━━━━━━━━━━━━━━\u001b[0m\u001b[37m\u001b[0m \u001b[1m0s\u001b[0m 4ms/step - loss: 25233.7207 - root_mean_squared_error: 158.8285 - val_loss: 33134.4102 - val_root_mean_squared_error: 182.0286\n",
      "Epoch 49/50\n",
      "\u001b[1m80/80\u001b[0m \u001b[32m━━━━━━━━━━━━━━━━━━━━\u001b[0m\u001b[37m\u001b[0m \u001b[1m0s\u001b[0m 5ms/step - loss: 25316.0488 - root_mean_squared_error: 159.0987 - val_loss: 32962.9414 - val_root_mean_squared_error: 181.5570\n",
      "Epoch 50/50\n",
      "\u001b[1m80/80\u001b[0m \u001b[32m━━━━━━━━━━━━━━━━━━━━\u001b[0m\u001b[37m\u001b[0m \u001b[1m0s\u001b[0m 4ms/step - loss: 25670.7695 - root_mean_squared_error: 160.2081 - val_loss: 32727.1309 - val_root_mean_squared_error: 180.9064\n"
     ]
    },
    {
     "data": {
      "text/plain": [
       "<keras.src.callbacks.history.History at 0x7b33242eef50>"
      ]
     },
     "execution_count": 41,
     "metadata": {},
     "output_type": "execute_result"
    }
   ],
   "source": [
    "model2 = Sequential()\n",
    "model2.add(InputLayer((6, 6))) # 6 timestamp , 6 feature\n",
    "model2.add(LSTM(16)) \n",
    "model2.add(Dense(8, activation='relu')) \n",
    "model2.add(Dense(1, 'linear'))\n",
    "\n",
    "#model1.summary()\n",
    "\n",
    "cp2 = ModelCheckpoint('/kaggle/working/model2.keras', save_best_only=True)\n",
    "\n",
    "model2.compile(loss=MeanSquaredError(), optimizer=Adam(learning_rate=0.0001), \n",
    "               metrics=[RootMeanSquaredError()])\n",
    "\n",
    "model2.fit(X_train1, y_train1, validation_data=(X_val1, y_val1), epochs=50, \n",
    "           callbacks=[cp2])"
   ]
  },
  {
   "cell_type": "code",
   "execution_count": 42,
   "id": "9a6f58a5",
   "metadata": {
    "execution": {
     "iopub.execute_input": "2025-01-28T11:39:41.188209Z",
     "iopub.status.busy": "2025-01-28T11:39:41.187789Z",
     "iopub.status.idle": "2025-01-28T11:39:41.282296Z",
     "shell.execute_reply": "2025-01-28T11:39:41.281075Z"
    },
    "papermill": {
     "duration": 0.17469,
     "end_time": "2025-01-28T11:39:41.284234",
     "exception": false,
     "start_time": "2025-01-28T11:39:41.109544",
     "status": "completed"
    },
    "tags": []
   },
   "outputs": [],
   "source": [
    "from tensorflow.keras.models import load_model\n",
    "model2 = load_model('/kaggle/working/model2.keras')"
   ]
  },
  {
   "cell_type": "code",
   "execution_count": 43,
   "id": "1e56f4c3",
   "metadata": {
    "execution": {
     "iopub.execute_input": "2025-01-28T11:39:41.438100Z",
     "iopub.status.busy": "2025-01-28T11:39:41.437732Z",
     "iopub.status.idle": "2025-01-28T11:39:41.971079Z",
     "shell.execute_reply": "2025-01-28T11:39:41.969924Z"
    },
    "papermill": {
     "duration": 0.61217,
     "end_time": "2025-01-28T11:39:41.973078",
     "exception": false,
     "start_time": "2025-01-28T11:39:41.360908",
     "status": "completed"
    },
    "tags": []
   },
   "outputs": [
    {
     "name": "stdout",
     "output_type": "stream",
     "text": [
      "\u001b[1m80/80\u001b[0m \u001b[32m━━━━━━━━━━━━━━━━━━━━\u001b[0m\u001b[37m\u001b[0m \u001b[1m0s\u001b[0m 4ms/step\n",
      "Evaluation Metrics:\n",
      "Mean Absolute Error (MAE): 141.4285\n",
      "Mean Squared Error (MSE): 25186.3371\n",
      "Root Mean Squared Error (RMSE): 158.7020\n",
      "R-squared (Accuracy): -3.8774\n"
     ]
    }
   ],
   "source": [
    "# Evaluate the model on the train data\n",
    "train_result = model2.predict(X_train1)\n",
    "\n",
    "# Calculate metrics\n",
    "mse = mean_squared_error(y_train1, train_result)\n",
    "rmse = np.sqrt(mse)\n",
    "mae = mean_absolute_error(y_train1, train_result)\n",
    "r2 = r2_score(y_train1, train_result)\n",
    "\n",
    "# Print the results\n",
    "print(\"Evaluation Metrics:\")\n",
    "print(f\"Mean Absolute Error (MAE): {mae:.4f}\")\n",
    "print(f\"Mean Squared Error (MSE): {mse:.4f}\")\n",
    "print(f\"Root Mean Squared Error (RMSE): {rmse:.4f}\")\n",
    "print(f\"R-squared (Accuracy): {r2:.4f}\")"
   ]
  },
  {
   "cell_type": "code",
   "execution_count": 44,
   "id": "59e04b70",
   "metadata": {
    "execution": {
     "iopub.execute_input": "2025-01-28T11:39:42.130101Z",
     "iopub.status.busy": "2025-01-28T11:39:42.129674Z",
     "iopub.status.idle": "2025-01-28T11:39:42.228144Z",
     "shell.execute_reply": "2025-01-28T11:39:42.226952Z"
    },
    "papermill": {
     "duration": 0.179,
     "end_time": "2025-01-28T11:39:42.230108",
     "exception": false,
     "start_time": "2025-01-28T11:39:42.051108",
     "status": "completed"
    },
    "tags": []
   },
   "outputs": [
    {
     "name": "stdout",
     "output_type": "stream",
     "text": [
      "\u001b[1m10/10\u001b[0m \u001b[32m━━━━━━━━━━━━━━━━━━━━\u001b[0m\u001b[37m\u001b[0m \u001b[1m0s\u001b[0m 2ms/step \n",
      "Evaluation Metrics:\n",
      "Mean Absolute Error (MAE): 158.9064\n",
      "Mean Squared Error (MSE): 32727.1269\n",
      "Root Mean Squared Error (RMSE): 180.9064\n",
      "R-squared (Accuracy): -3.3999\n"
     ]
    }
   ],
   "source": [
    "# Evaluate the model on the validation data\n",
    "val_result = model2.predict(X_val1)\n",
    "\n",
    "# Calculate metrics\n",
    "mse = mean_squared_error(y_val1, val_result)\n",
    "rmse = np.sqrt(mse)\n",
    "mae = mean_absolute_error(y_val1, val_result)\n",
    "r2 = r2_score(y_val1, val_result)\n",
    "\n",
    "# Print the results\n",
    "print(\"Evaluation Metrics:\")\n",
    "print(f\"Mean Absolute Error (MAE): {mae:.4f}\")\n",
    "print(f\"Mean Squared Error (MSE): {mse:.4f}\")\n",
    "print(f\"Root Mean Squared Error (RMSE): {rmse:.4f}\")\n",
    "print(f\"R-squared (Accuracy): {r2:.4f}\")"
   ]
  },
  {
   "cell_type": "code",
   "execution_count": 45,
   "id": "e06338d0",
   "metadata": {
    "execution": {
     "iopub.execute_input": "2025-01-28T11:39:42.386906Z",
     "iopub.status.busy": "2025-01-28T11:39:42.386529Z",
     "iopub.status.idle": "2025-01-28T11:39:42.486700Z",
     "shell.execute_reply": "2025-01-28T11:39:42.485625Z"
    },
    "papermill": {
     "duration": 0.180543,
     "end_time": "2025-01-28T11:39:42.488661",
     "exception": false,
     "start_time": "2025-01-28T11:39:42.308118",
     "status": "completed"
    },
    "tags": []
   },
   "outputs": [
    {
     "name": "stdout",
     "output_type": "stream",
     "text": [
      "\u001b[1m10/10\u001b[0m \u001b[32m━━━━━━━━━━━━━━━━━━━━\u001b[0m\u001b[37m\u001b[0m \u001b[1m0s\u001b[0m 2ms/step \n",
      "Evaluation Metrics:\n",
      "Mean Absolute Error (MAE): 124.5426\n",
      "Mean Squared Error (MSE): 18832.6984\n",
      "Root Mean Squared Error (RMSE): 137.2323\n",
      "R-squared (Accuracy): -4.6991\n"
     ]
    }
   ],
   "source": [
    "# Evaluate the model on the test data\n",
    "test_result = model2.predict(X_test1)\n",
    "\n",
    "# Calculate metrics\n",
    "mse = mean_squared_error(y_test1, test_result)\n",
    "rmse = np.sqrt(mse)\n",
    "mae = mean_absolute_error(y_test1, test_result)\n",
    "r2 = r2_score(y_test1, test_result)\n",
    "\n",
    "# Print the results\n",
    "print(\"Evaluation Metrics:\")\n",
    "print(f\"Mean Absolute Error (MAE): {mae:.4f}\")\n",
    "print(f\"Mean Squared Error (MSE): {mse:.4f}\")\n",
    "print(f\"Root Mean Squared Error (RMSE): {rmse:.4f}\")\n",
    "print(f\"R-squared (Accuracy): {r2:.4f}\")"
   ]
  },
  {
   "cell_type": "code",
   "execution_count": null,
   "id": "df21aa65",
   "metadata": {
    "papermill": {
     "duration": 0.076338,
     "end_time": "2025-01-28T11:39:42.644582",
     "exception": false,
     "start_time": "2025-01-28T11:39:42.568244",
     "status": "completed"
    },
    "tags": []
   },
   "outputs": [],
   "source": []
  },
  {
   "cell_type": "code",
   "execution_count": null,
   "id": "c5c6a8d7",
   "metadata": {
    "papermill": {
     "duration": 0.077222,
     "end_time": "2025-01-28T11:39:42.799014",
     "exception": false,
     "start_time": "2025-01-28T11:39:42.721792",
     "status": "completed"
    },
    "tags": []
   },
   "outputs": [],
   "source": []
  },
  {
   "cell_type": "markdown",
   "id": "a6b048b1",
   "metadata": {
    "papermill": {
     "duration": 0.077318,
     "end_time": "2025-01-28T11:39:42.953867",
     "exception": false,
     "start_time": "2025-01-28T11:39:42.876549",
     "status": "completed"
    },
    "tags": []
   },
   "source": [
    "## Model 3"
   ]
  },
  {
   "cell_type": "code",
   "execution_count": 46,
   "id": "e3f3bd65",
   "metadata": {
    "execution": {
     "iopub.execute_input": "2025-01-28T11:39:43.112484Z",
     "iopub.status.busy": "2025-01-28T11:39:43.112059Z",
     "iopub.status.idle": "2025-01-28T11:40:04.252338Z",
     "shell.execute_reply": "2025-01-28T11:40:04.250815Z"
    },
    "papermill": {
     "duration": 21.22244,
     "end_time": "2025-01-28T11:40:04.255577",
     "exception": false,
     "start_time": "2025-01-28T11:39:43.033137",
     "status": "completed"
    },
    "tags": []
   },
   "outputs": [
    {
     "name": "stdout",
     "output_type": "stream",
     "text": [
      "Epoch 1/50\n",
      "\u001b[1m80/80\u001b[0m \u001b[32m━━━━━━━━━━━━━━━━━━━━\u001b[0m\u001b[37m\u001b[0m \u001b[1m3s\u001b[0m 11ms/step - loss: 32088.2441 - root_mean_squared_error: 179.0999 - val_loss: 38839.1719 - val_root_mean_squared_error: 197.0766\n",
      "Epoch 2/50\n",
      "\u001b[1m80/80\u001b[0m \u001b[32m━━━━━━━━━━━━━━━━━━━━\u001b[0m\u001b[37m\u001b[0m \u001b[1m0s\u001b[0m 4ms/step - loss: 31896.2793 - root_mean_squared_error: 178.4674 - val_loss: 37027.8242 - val_root_mean_squared_error: 192.4261\n",
      "Epoch 3/50\n",
      "\u001b[1m80/80\u001b[0m \u001b[32m━━━━━━━━━━━━━━━━━━━━\u001b[0m\u001b[37m\u001b[0m \u001b[1m0s\u001b[0m 4ms/step - loss: 30202.2168 - root_mean_squared_error: 173.7213 - val_loss: 34308.8789 - val_root_mean_squared_error: 185.2266\n",
      "Epoch 4/50\n",
      "\u001b[1m80/80\u001b[0m \u001b[32m━━━━━━━━━━━━━━━━━━━━\u001b[0m\u001b[37m\u001b[0m \u001b[1m0s\u001b[0m 4ms/step - loss: 27288.1875 - root_mean_squared_error: 165.0931 - val_loss: 31579.5078 - val_root_mean_squared_error: 177.7062\n",
      "Epoch 5/50\n",
      "\u001b[1m80/80\u001b[0m \u001b[32m━━━━━━━━━━━━━━━━━━━━\u001b[0m\u001b[37m\u001b[0m \u001b[1m0s\u001b[0m 4ms/step - loss: 23450.4141 - root_mean_squared_error: 153.1242 - val_loss: 28652.1699 - val_root_mean_squared_error: 169.2695\n",
      "Epoch 6/50\n",
      "\u001b[1m80/80\u001b[0m \u001b[32m━━━━━━━━━━━━━━━━━━━━\u001b[0m\u001b[37m\u001b[0m \u001b[1m0s\u001b[0m 4ms/step - loss: 20527.1836 - root_mean_squared_error: 143.2436 - val_loss: 25329.6777 - val_root_mean_squared_error: 159.1530\n",
      "Epoch 7/50\n",
      "\u001b[1m80/80\u001b[0m \u001b[32m━━━━━━━━━━━━━━━━━━━━\u001b[0m\u001b[37m\u001b[0m \u001b[1m0s\u001b[0m 4ms/step - loss: 18353.4316 - root_mean_squared_error: 135.4016 - val_loss: 22317.7930 - val_root_mean_squared_error: 149.3914\n",
      "Epoch 8/50\n",
      "\u001b[1m80/80\u001b[0m \u001b[32m━━━━━━━━━━━━━━━━━━━━\u001b[0m\u001b[37m\u001b[0m \u001b[1m0s\u001b[0m 4ms/step - loss: 15508.2764 - root_mean_squared_error: 124.5166 - val_loss: 19102.8887 - val_root_mean_squared_error: 138.2132\n",
      "Epoch 9/50\n",
      "\u001b[1m80/80\u001b[0m \u001b[32m━━━━━━━━━━━━━━━━━━━━\u001b[0m\u001b[37m\u001b[0m \u001b[1m0s\u001b[0m 4ms/step - loss: 13559.7305 - root_mean_squared_error: 116.3398 - val_loss: 16316.6133 - val_root_mean_squared_error: 127.7365\n",
      "Epoch 10/50\n",
      "\u001b[1m80/80\u001b[0m \u001b[32m━━━━━━━━━━━━━━━━━━━━\u001b[0m\u001b[37m\u001b[0m \u001b[1m0s\u001b[0m 4ms/step - loss: 10431.6270 - root_mean_squared_error: 102.0662 - val_loss: 14056.0859 - val_root_mean_squared_error: 118.5584\n",
      "Epoch 11/50\n",
      "\u001b[1m80/80\u001b[0m \u001b[32m━━━━━━━━━━━━━━━━━━━━\u001b[0m\u001b[37m\u001b[0m \u001b[1m0s\u001b[0m 4ms/step - loss: 9332.7432 - root_mean_squared_error: 96.5480 - val_loss: 12224.2920 - val_root_mean_squared_error: 110.5635\n",
      "Epoch 12/50\n",
      "\u001b[1m80/80\u001b[0m \u001b[32m━━━━━━━━━━━━━━━━━━━━\u001b[0m\u001b[37m\u001b[0m \u001b[1m0s\u001b[0m 4ms/step - loss: 7794.8384 - root_mean_squared_error: 88.2100 - val_loss: 10717.2461 - val_root_mean_squared_error: 103.5241\n",
      "Epoch 13/50\n",
      "\u001b[1m80/80\u001b[0m \u001b[32m━━━━━━━━━━━━━━━━━━━━\u001b[0m\u001b[37m\u001b[0m \u001b[1m0s\u001b[0m 4ms/step - loss: 6635.6011 - root_mean_squared_error: 81.3914 - val_loss: 9400.3633 - val_root_mean_squared_error: 96.9555\n",
      "Epoch 14/50\n",
      "\u001b[1m80/80\u001b[0m \u001b[32m━━━━━━━━━━━━━━━━━━━━\u001b[0m\u001b[37m\u001b[0m \u001b[1m0s\u001b[0m 5ms/step - loss: 6290.4619 - root_mean_squared_error: 79.1475 - val_loss: 8318.7041 - val_root_mean_squared_error: 91.2069\n",
      "Epoch 15/50\n",
      "\u001b[1m80/80\u001b[0m \u001b[32m━━━━━━━━━━━━━━━━━━━━\u001b[0m\u001b[37m\u001b[0m \u001b[1m0s\u001b[0m 5ms/step - loss: 4819.2095 - root_mean_squared_error: 69.2168 - val_loss: 7383.6782 - val_root_mean_squared_error: 85.9283\n",
      "Epoch 16/50\n",
      "\u001b[1m80/80\u001b[0m \u001b[32m━━━━━━━━━━━━━━━━━━━━\u001b[0m\u001b[37m\u001b[0m \u001b[1m0s\u001b[0m 4ms/step - loss: 4450.4941 - root_mean_squared_error: 66.3935 - val_loss: 6471.2012 - val_root_mean_squared_error: 80.4438\n",
      "Epoch 17/50\n",
      "\u001b[1m80/80\u001b[0m \u001b[32m━━━━━━━━━━━━━━━━━━━━\u001b[0m\u001b[37m\u001b[0m \u001b[1m0s\u001b[0m 4ms/step - loss: 4686.9375 - root_mean_squared_error: 68.1985 - val_loss: 5835.6157 - val_root_mean_squared_error: 76.3912\n",
      "Epoch 18/50\n",
      "\u001b[1m80/80\u001b[0m \u001b[32m━━━━━━━━━━━━━━━━━━━━\u001b[0m\u001b[37m\u001b[0m \u001b[1m0s\u001b[0m 4ms/step - loss: 3440.1536 - root_mean_squared_error: 58.5915 - val_loss: 5217.2866 - val_root_mean_squared_error: 72.2308\n",
      "Epoch 19/50\n",
      "\u001b[1m80/80\u001b[0m \u001b[32m━━━━━━━━━━━━━━━━━━━━\u001b[0m\u001b[37m\u001b[0m \u001b[1m0s\u001b[0m 4ms/step - loss: 3956.5977 - root_mean_squared_error: 62.1821 - val_loss: 4707.1899 - val_root_mean_squared_error: 68.6090\n",
      "Epoch 20/50\n",
      "\u001b[1m80/80\u001b[0m \u001b[32m━━━━━━━━━━━━━━━━━━━━\u001b[0m\u001b[37m\u001b[0m \u001b[1m0s\u001b[0m 4ms/step - loss: 3218.7327 - root_mean_squared_error: 56.6536 - val_loss: 4268.3408 - val_root_mean_squared_error: 65.3325\n",
      "Epoch 21/50\n",
      "\u001b[1m80/80\u001b[0m \u001b[32m━━━━━━━━━━━━━━━━━━━━\u001b[0m\u001b[37m\u001b[0m \u001b[1m0s\u001b[0m 4ms/step - loss: 3179.0896 - root_mean_squared_error: 56.2596 - val_loss: 3935.7085 - val_root_mean_squared_error: 62.7352\n",
      "Epoch 22/50\n",
      "\u001b[1m80/80\u001b[0m \u001b[32m━━━━━━━━━━━━━━━━━━━━\u001b[0m\u001b[37m\u001b[0m \u001b[1m0s\u001b[0m 4ms/step - loss: 2960.1782 - root_mean_squared_error: 54.2258 - val_loss: 3562.4912 - val_root_mean_squared_error: 59.6866\n",
      "Epoch 23/50\n",
      "\u001b[1m80/80\u001b[0m \u001b[32m━━━━━━━━━━━━━━━━━━━━\u001b[0m\u001b[37m\u001b[0m \u001b[1m0s\u001b[0m 5ms/step - loss: 2313.0818 - root_mean_squared_error: 48.0138 - val_loss: 3311.8003 - val_root_mean_squared_error: 57.5482\n",
      "Epoch 24/50\n",
      "\u001b[1m80/80\u001b[0m \u001b[32m━━━━━━━━━━━━━━━━━━━━\u001b[0m\u001b[37m\u001b[0m \u001b[1m0s\u001b[0m 5ms/step - loss: 2147.1191 - root_mean_squared_error: 46.2628 - val_loss: 2971.5972 - val_root_mean_squared_error: 54.5124\n",
      "Epoch 25/50\n",
      "\u001b[1m80/80\u001b[0m \u001b[32m━━━━━━━━━━━━━━━━━━━━\u001b[0m\u001b[37m\u001b[0m \u001b[1m0s\u001b[0m 4ms/step - loss: 2512.8743 - root_mean_squared_error: 50.0031 - val_loss: 2784.4587 - val_root_mean_squared_error: 52.7680\n",
      "Epoch 26/50\n",
      "\u001b[1m80/80\u001b[0m \u001b[32m━━━━━━━━━━━━━━━━━━━━\u001b[0m\u001b[37m\u001b[0m \u001b[1m0s\u001b[0m 5ms/step - loss: 2767.2900 - root_mean_squared_error: 52.2994 - val_loss: 2478.5591 - val_root_mean_squared_error: 49.7851\n",
      "Epoch 27/50\n",
      "\u001b[1m80/80\u001b[0m \u001b[32m━━━━━━━━━━━━━━━━━━━━\u001b[0m\u001b[37m\u001b[0m \u001b[1m0s\u001b[0m 5ms/step - loss: 2473.9512 - root_mean_squared_error: 49.5199 - val_loss: 2297.9861 - val_root_mean_squared_error: 47.9373\n",
      "Epoch 28/50\n",
      "\u001b[1m80/80\u001b[0m \u001b[32m━━━━━━━━━━━━━━━━━━━━\u001b[0m\u001b[37m\u001b[0m \u001b[1m0s\u001b[0m 4ms/step - loss: 2557.2866 - root_mean_squared_error: 50.2407 - val_loss: 2100.2688 - val_root_mean_squared_error: 45.8287\n",
      "Epoch 29/50\n",
      "\u001b[1m80/80\u001b[0m \u001b[32m━━━━━━━━━━━━━━━━━━━━\u001b[0m\u001b[37m\u001b[0m \u001b[1m0s\u001b[0m 4ms/step - loss: 2697.3057 - root_mean_squared_error: 51.4964 - val_loss: 2042.3333 - val_root_mean_squared_error: 45.1922\n",
      "Epoch 30/50\n",
      "\u001b[1m80/80\u001b[0m \u001b[32m━━━━━━━━━━━━━━━━━━━━\u001b[0m\u001b[37m\u001b[0m \u001b[1m0s\u001b[0m 4ms/step - loss: 1903.4023 - root_mean_squared_error: 43.4345 - val_loss: 1794.5072 - val_root_mean_squared_error: 42.3616\n",
      "Epoch 31/50\n",
      "\u001b[1m80/80\u001b[0m \u001b[32m━━━━━━━━━━━━━━━━━━━━\u001b[0m\u001b[37m\u001b[0m \u001b[1m0s\u001b[0m 4ms/step - loss: 1761.4418 - root_mean_squared_error: 41.8281 - val_loss: 1671.8960 - val_root_mean_squared_error: 40.8888\n",
      "Epoch 32/50\n",
      "\u001b[1m80/80\u001b[0m \u001b[32m━━━━━━━━━━━━━━━━━━━━\u001b[0m\u001b[37m\u001b[0m \u001b[1m0s\u001b[0m 4ms/step - loss: 1894.6343 - root_mean_squared_error: 43.3964 - val_loss: 1550.5261 - val_root_mean_squared_error: 39.3767\n",
      "Epoch 33/50\n",
      "\u001b[1m80/80\u001b[0m \u001b[32m━━━━━━━━━━━━━━━━━━━━\u001b[0m\u001b[37m\u001b[0m \u001b[1m0s\u001b[0m 4ms/step - loss: 2205.7629 - root_mean_squared_error: 46.6946 - val_loss: 1393.9093 - val_root_mean_squared_error: 37.3351\n",
      "Epoch 34/50\n",
      "\u001b[1m80/80\u001b[0m \u001b[32m━━━━━━━━━━━━━━━━━━━━\u001b[0m\u001b[37m\u001b[0m \u001b[1m0s\u001b[0m 4ms/step - loss: 2505.0552 - root_mean_squared_error: 49.6386 - val_loss: 1368.4915 - val_root_mean_squared_error: 36.9931\n",
      "Epoch 35/50\n",
      "\u001b[1m80/80\u001b[0m \u001b[32m━━━━━━━━━━━━━━━━━━━━\u001b[0m\u001b[37m\u001b[0m \u001b[1m0s\u001b[0m 4ms/step - loss: 2213.5774 - root_mean_squared_error: 46.8217 - val_loss: 1265.7766 - val_root_mean_squared_error: 35.5778\n",
      "Epoch 36/50\n",
      "\u001b[1m80/80\u001b[0m \u001b[32m━━━━━━━━━━━━━━━━━━━━\u001b[0m\u001b[37m\u001b[0m \u001b[1m0s\u001b[0m 4ms/step - loss: 1917.5652 - root_mean_squared_error: 43.6984 - val_loss: 1265.7958 - val_root_mean_squared_error: 35.5780\n",
      "Epoch 37/50\n",
      "\u001b[1m80/80\u001b[0m \u001b[32m━━━━━━━━━━━━━━━━━━━━\u001b[0m\u001b[37m\u001b[0m \u001b[1m0s\u001b[0m 4ms/step - loss: 1546.5406 - root_mean_squared_error: 38.9547 - val_loss: 1145.7590 - val_root_mean_squared_error: 33.8491\n",
      "Epoch 38/50\n",
      "\u001b[1m80/80\u001b[0m \u001b[32m━━━━━━━━━━━━━━━━━━━━\u001b[0m\u001b[37m\u001b[0m \u001b[1m0s\u001b[0m 4ms/step - loss: 1921.9640 - root_mean_squared_error: 43.6438 - val_loss: 1006.8031 - val_root_mean_squared_error: 31.7302\n",
      "Epoch 39/50\n",
      "\u001b[1m80/80\u001b[0m \u001b[32m━━━━━━━━━━━━━━━━━━━━\u001b[0m\u001b[37m\u001b[0m \u001b[1m0s\u001b[0m 4ms/step - loss: 1733.8965 - root_mean_squared_error: 41.5904 - val_loss: 1142.2754 - val_root_mean_squared_error: 33.7976\n",
      "Epoch 40/50\n",
      "\u001b[1m80/80\u001b[0m \u001b[32m━━━━━━━━━━━━━━━━━━━━\u001b[0m\u001b[37m\u001b[0m \u001b[1m0s\u001b[0m 5ms/step - loss: 1853.7748 - root_mean_squared_error: 42.9316 - val_loss: 969.1530 - val_root_mean_squared_error: 31.1312\n",
      "Epoch 41/50\n",
      "\u001b[1m80/80\u001b[0m \u001b[32m━━━━━━━━━━━━━━━━━━━━\u001b[0m\u001b[37m\u001b[0m \u001b[1m0s\u001b[0m 4ms/step - loss: 1682.4198 - root_mean_squared_error: 40.6139 - val_loss: 1295.8475 - val_root_mean_squared_error: 35.9979\n",
      "Epoch 42/50\n",
      "\u001b[1m80/80\u001b[0m \u001b[32m━━━━━━━━━━━━━━━━━━━━\u001b[0m\u001b[37m\u001b[0m \u001b[1m0s\u001b[0m 4ms/step - loss: 1613.1453 - root_mean_squared_error: 39.9657 - val_loss: 1065.1390 - val_root_mean_squared_error: 32.6365\n",
      "Epoch 43/50\n",
      "\u001b[1m80/80\u001b[0m \u001b[32m━━━━━━━━━━━━━━━━━━━━\u001b[0m\u001b[37m\u001b[0m \u001b[1m0s\u001b[0m 4ms/step - loss: 2696.9160 - root_mean_squared_error: 49.6692 - val_loss: 786.4854 - val_root_mean_squared_error: 28.0443\n",
      "Epoch 44/50\n",
      "\u001b[1m80/80\u001b[0m \u001b[32m━━━━━━━━━━━━━━━━━━━━\u001b[0m\u001b[37m\u001b[0m \u001b[1m0s\u001b[0m 5ms/step - loss: 1925.6056 - root_mean_squared_error: 43.6677 - val_loss: 800.5005 - val_root_mean_squared_error: 28.2931\n",
      "Epoch 45/50\n",
      "\u001b[1m80/80\u001b[0m \u001b[32m━━━━━━━━━━━━━━━━━━━━\u001b[0m\u001b[37m\u001b[0m \u001b[1m0s\u001b[0m 5ms/step - loss: 2063.2405 - root_mean_squared_error: 45.0474 - val_loss: 721.8459 - val_root_mean_squared_error: 26.8672\n",
      "Epoch 46/50\n",
      "\u001b[1m80/80\u001b[0m \u001b[32m━━━━━━━━━━━━━━━━━━━━\u001b[0m\u001b[37m\u001b[0m \u001b[1m0s\u001b[0m 4ms/step - loss: 1655.2168 - root_mean_squared_error: 40.5428 - val_loss: 794.2440 - val_root_mean_squared_error: 28.1823\n",
      "Epoch 47/50\n",
      "\u001b[1m80/80\u001b[0m \u001b[32m━━━━━━━━━━━━━━━━━━━━\u001b[0m\u001b[37m\u001b[0m \u001b[1m0s\u001b[0m 4ms/step - loss: 1476.2659 - root_mean_squared_error: 38.2448 - val_loss: 722.2869 - val_root_mean_squared_error: 26.8754\n",
      "Epoch 48/50\n",
      "\u001b[1m80/80\u001b[0m \u001b[32m━━━━━━━━━━━━━━━━━━━━\u001b[0m\u001b[37m\u001b[0m \u001b[1m0s\u001b[0m 4ms/step - loss: 1733.6775 - root_mean_squared_error: 41.4129 - val_loss: 809.5261 - val_root_mean_squared_error: 28.4522\n",
      "Epoch 49/50\n",
      "\u001b[1m80/80\u001b[0m \u001b[32m━━━━━━━━━━━━━━━━━━━━\u001b[0m\u001b[37m\u001b[0m \u001b[1m0s\u001b[0m 4ms/step - loss: 1660.0042 - root_mean_squared_error: 40.6792 - val_loss: 830.8130 - val_root_mean_squared_error: 28.8238\n",
      "Epoch 50/50\n",
      "\u001b[1m80/80\u001b[0m \u001b[32m━━━━━━━━━━━━━━━━━━━━\u001b[0m\u001b[37m\u001b[0m \u001b[1m0s\u001b[0m 5ms/step - loss: 2121.3577 - root_mean_squared_error: 45.5432 - val_loss: 712.3836 - val_root_mean_squared_error: 26.6905\n"
     ]
    },
    {
     "data": {
      "text/plain": [
       "<keras.src.callbacks.history.History at 0x7b3324fe37c0>"
      ]
     },
     "execution_count": 46,
     "metadata": {},
     "output_type": "execute_result"
    }
   ],
   "source": [
    "model3 = Sequential()\n",
    "model3.add(InputLayer((6, 6))) # 6 timestamp , 6 feature\n",
    "model3.add(LSTM(16)) \n",
    "model3.add(Dense(8, activation='relu')) \n",
    "model3.add(Dense(1, 'linear'))\n",
    "\n",
    "#model1.summary()\n",
    "\n",
    "cp3 = ModelCheckpoint('/kaggle/working/model3.keras', save_best_only=True)\n",
    "\n",
    "model3.compile(loss=MeanSquaredError(), optimizer=Adam(learning_rate=0.001), \n",
    "               metrics=[RootMeanSquaredError()])\n",
    "\n",
    "model3.fit(X_train1, y_train1, validation_data=(X_val1, y_val1), epochs=50, \n",
    "           callbacks=[cp3])"
   ]
  },
  {
   "cell_type": "code",
   "execution_count": 47,
   "id": "63764044",
   "metadata": {
    "execution": {
     "iopub.execute_input": "2025-01-28T11:40:04.506523Z",
     "iopub.status.busy": "2025-01-28T11:40:04.505813Z",
     "iopub.status.idle": "2025-01-28T11:40:04.651925Z",
     "shell.execute_reply": "2025-01-28T11:40:04.650508Z"
    },
    "papermill": {
     "duration": 0.273402,
     "end_time": "2025-01-28T11:40:04.654801",
     "exception": false,
     "start_time": "2025-01-28T11:40:04.381399",
     "status": "completed"
    },
    "tags": []
   },
   "outputs": [],
   "source": [
    "from tensorflow.keras.models import load_model\n",
    "model3 = load_model('/kaggle/working/model3.keras')"
   ]
  },
  {
   "cell_type": "code",
   "execution_count": 48,
   "id": "b3ee2b5c",
   "metadata": {
    "execution": {
     "iopub.execute_input": "2025-01-28T11:40:04.860842Z",
     "iopub.status.busy": "2025-01-28T11:40:04.860406Z",
     "iopub.status.idle": "2025-01-28T11:40:05.409097Z",
     "shell.execute_reply": "2025-01-28T11:40:05.408018Z"
    },
    "papermill": {
     "duration": 0.649501,
     "end_time": "2025-01-28T11:40:05.410988",
     "exception": false,
     "start_time": "2025-01-28T11:40:04.761487",
     "status": "completed"
    },
    "tags": []
   },
   "outputs": [
    {
     "name": "stdout",
     "output_type": "stream",
     "text": [
      "\u001b[1m80/80\u001b[0m \u001b[32m━━━━━━━━━━━━━━━━━━━━\u001b[0m\u001b[37m\u001b[0m \u001b[1m0s\u001b[0m 4ms/step\n",
      "Evaluation Metrics:\n",
      "Mean Absolute Error (MAE): 20.7655\n",
      "Mean Squared Error (MSE): 1679.9232\n",
      "Root Mean Squared Error (RMSE): 40.9869\n",
      "R-squared (Accuracy): 0.6747\n"
     ]
    }
   ],
   "source": [
    "# Evaluate the model on the train data\n",
    "train_result = model3.predict(X_train1)\n",
    "\n",
    "# Calculate metrics\n",
    "mse = mean_squared_error(y_train1, train_result)\n",
    "rmse = np.sqrt(mse)\n",
    "mae = mean_absolute_error(y_train1, train_result)\n",
    "r2 = r2_score(y_train1, train_result)\n",
    "\n",
    "# Print the results\n",
    "print(\"Evaluation Metrics:\")\n",
    "print(f\"Mean Absolute Error (MAE): {mae:.4f}\")\n",
    "print(f\"Mean Squared Error (MSE): {mse:.4f}\")\n",
    "print(f\"Root Mean Squared Error (RMSE): {rmse:.4f}\")\n",
    "print(f\"R-squared (Accuracy): {r2:.4f}\")"
   ]
  },
  {
   "cell_type": "code",
   "execution_count": 49,
   "id": "50413799",
   "metadata": {
    "execution": {
     "iopub.execute_input": "2025-01-28T11:40:05.615219Z",
     "iopub.status.busy": "2025-01-28T11:40:05.614876Z",
     "iopub.status.idle": "2025-01-28T11:40:05.715116Z",
     "shell.execute_reply": "2025-01-28T11:40:05.714067Z"
    },
    "papermill": {
     "duration": 0.206967,
     "end_time": "2025-01-28T11:40:05.716813",
     "exception": false,
     "start_time": "2025-01-28T11:40:05.509846",
     "status": "completed"
    },
    "tags": []
   },
   "outputs": [
    {
     "name": "stdout",
     "output_type": "stream",
     "text": [
      "\u001b[1m10/10\u001b[0m \u001b[32m━━━━━━━━━━━━━━━━━━━━\u001b[0m\u001b[37m\u001b[0m \u001b[1m0s\u001b[0m 2ms/step \n",
      "Evaluation Metrics:\n",
      "Mean Absolute Error (MAE): 19.5212\n",
      "Mean Squared Error (MSE): 712.3836\n",
      "Root Mean Squared Error (RMSE): 26.6905\n",
      "R-squared (Accuracy): 0.9042\n"
     ]
    }
   ],
   "source": [
    "# Evaluate the model on the validation data\n",
    "val_result = model3.predict(X_val1)\n",
    "\n",
    "# Calculate metrics\n",
    "mse = mean_squared_error(y_val1, val_result)\n",
    "rmse = np.sqrt(mse)\n",
    "mae = mean_absolute_error(y_val1, val_result)\n",
    "r2 = r2_score(y_val1, val_result)\n",
    "\n",
    "# Print the results\n",
    "print(\"Evaluation Metrics:\")\n",
    "print(f\"Mean Absolute Error (MAE): {mae:.4f}\")\n",
    "print(f\"Mean Squared Error (MSE): {mse:.4f}\")\n",
    "print(f\"Root Mean Squared Error (RMSE): {rmse:.4f}\")\n",
    "print(f\"R-squared (Accuracy): {r2:.4f}\")"
   ]
  },
  {
   "cell_type": "code",
   "execution_count": 50,
   "id": "eb1a5efe",
   "metadata": {
    "execution": {
     "iopub.execute_input": "2025-01-28T11:40:05.917250Z",
     "iopub.status.busy": "2025-01-28T11:40:05.916849Z",
     "iopub.status.idle": "2025-01-28T11:40:06.022749Z",
     "shell.execute_reply": "2025-01-28T11:40:06.021027Z"
    },
    "papermill": {
     "duration": 0.207701,
     "end_time": "2025-01-28T11:40:06.024693",
     "exception": false,
     "start_time": "2025-01-28T11:40:05.816992",
     "status": "completed"
    },
    "tags": []
   },
   "outputs": [
    {
     "name": "stdout",
     "output_type": "stream",
     "text": [
      "\u001b[1m10/10\u001b[0m \u001b[32m━━━━━━━━━━━━━━━━━━━━\u001b[0m\u001b[37m\u001b[0m \u001b[1m0s\u001b[0m 2ms/step \n",
      "Evaluation Metrics:\n",
      "Mean Absolute Error (MAE): 23.6362\n",
      "Mean Squared Error (MSE): 1202.2686\n",
      "Root Mean Squared Error (RMSE): 34.6737\n",
      "R-squared (Accuracy): 0.6362\n"
     ]
    }
   ],
   "source": [
    "# Evaluate the model on the test data\n",
    "test_result = model3.predict(X_test1)\n",
    "\n",
    "# Calculate metrics\n",
    "mse = mean_squared_error(y_test1, test_result)\n",
    "rmse = np.sqrt(mse)\n",
    "mae = mean_absolute_error(y_test1, test_result)\n",
    "r2 = r2_score(y_test1, test_result)\n",
    "\n",
    "# Print the results\n",
    "print(\"Evaluation Metrics:\")\n",
    "print(f\"Mean Absolute Error (MAE): {mae:.4f}\")\n",
    "print(f\"Mean Squared Error (MSE): {mse:.4f}\")\n",
    "print(f\"Root Mean Squared Error (RMSE): {rmse:.4f}\")\n",
    "print(f\"R-squared (Accuracy): {r2:.4f}\")"
   ]
  },
  {
   "cell_type": "code",
   "execution_count": null,
   "id": "4f5cee80",
   "metadata": {
    "papermill": {
     "duration": 0.099643,
     "end_time": "2025-01-28T11:40:06.283757",
     "exception": false,
     "start_time": "2025-01-28T11:40:06.184114",
     "status": "completed"
    },
    "tags": []
   },
   "outputs": [],
   "source": []
  },
  {
   "cell_type": "code",
   "execution_count": null,
   "id": "f871cfc4",
   "metadata": {
    "papermill": {
     "duration": 0.101675,
     "end_time": "2025-01-28T11:40:06.485909",
     "exception": false,
     "start_time": "2025-01-28T11:40:06.384234",
     "status": "completed"
    },
    "tags": []
   },
   "outputs": [],
   "source": []
  },
  {
   "cell_type": "markdown",
   "id": "cfdbbd00",
   "metadata": {
    "papermill": {
     "duration": 0.104423,
     "end_time": "2025-01-28T11:40:06.695558",
     "exception": false,
     "start_time": "2025-01-28T11:40:06.591135",
     "status": "completed"
    },
    "tags": []
   },
   "source": [
    "## Model 4"
   ]
  },
  {
   "cell_type": "code",
   "execution_count": 51,
   "id": "c9da6fb9",
   "metadata": {
    "execution": {
     "iopub.execute_input": "2025-01-28T11:40:06.900309Z",
     "iopub.status.busy": "2025-01-28T11:40:06.899939Z",
     "iopub.status.idle": "2025-01-28T11:40:27.798749Z",
     "shell.execute_reply": "2025-01-28T11:40:27.797360Z"
    },
    "papermill": {
     "duration": 21.003914,
     "end_time": "2025-01-28T11:40:27.801296",
     "exception": false,
     "start_time": "2025-01-28T11:40:06.797382",
     "status": "completed"
    },
    "tags": []
   },
   "outputs": [
    {
     "name": "stdout",
     "output_type": "stream",
     "text": [
      "Epoch 1/50\n",
      "\u001b[1m80/80\u001b[0m \u001b[32m━━━━━━━━━━━━━━━━━━━━\u001b[0m\u001b[37m\u001b[0m \u001b[1m2s\u001b[0m 7ms/step - loss: 31606.0195 - root_mean_squared_error: 177.7506 - val_loss: 39357.8555 - val_root_mean_squared_error: 198.3881\n",
      "Epoch 2/50\n",
      "\u001b[1m80/80\u001b[0m \u001b[32m━━━━━━━━━━━━━━━━━━━━\u001b[0m\u001b[37m\u001b[0m \u001b[1m0s\u001b[0m 4ms/step - loss: 29991.6465 - root_mean_squared_error: 173.1510 - val_loss: 38775.3047 - val_root_mean_squared_error: 196.9145\n",
      "Epoch 3/50\n",
      "\u001b[1m80/80\u001b[0m \u001b[32m━━━━━━━━━━━━━━━━━━━━\u001b[0m\u001b[37m\u001b[0m \u001b[1m0s\u001b[0m 4ms/step - loss: 30398.7422 - root_mean_squared_error: 174.3442 - val_loss: 38038.8984 - val_root_mean_squared_error: 195.0356\n",
      "Epoch 4/50\n",
      "\u001b[1m80/80\u001b[0m \u001b[32m━━━━━━━━━━━━━━━━━━━━\u001b[0m\u001b[37m\u001b[0m \u001b[1m0s\u001b[0m 4ms/step - loss: 30127.5566 - root_mean_squared_error: 173.5580 - val_loss: 37408.5859 - val_root_mean_squared_error: 193.4130\n",
      "Epoch 5/50\n",
      "\u001b[1m80/80\u001b[0m \u001b[32m━━━━━━━━━━━━━━━━━━━━\u001b[0m\u001b[37m\u001b[0m \u001b[1m0s\u001b[0m 4ms/step - loss: 28916.5410 - root_mean_squared_error: 170.0199 - val_loss: 36758.8320 - val_root_mean_squared_error: 191.7259\n",
      "Epoch 6/50\n",
      "\u001b[1m80/80\u001b[0m \u001b[32m━━━━━━━━━━━━━━━━━━━━\u001b[0m\u001b[37m\u001b[0m \u001b[1m0s\u001b[0m 4ms/step - loss: 27802.9121 - root_mean_squared_error: 166.6921 - val_loss: 35516.9570 - val_root_mean_squared_error: 188.4594\n",
      "Epoch 7/50\n",
      "\u001b[1m80/80\u001b[0m \u001b[32m━━━━━━━━━━━━━━━━━━━━\u001b[0m\u001b[37m\u001b[0m \u001b[1m0s\u001b[0m 4ms/step - loss: 27710.3809 - root_mean_squared_error: 166.4443 - val_loss: 34251.7891 - val_root_mean_squared_error: 185.0724\n",
      "Epoch 8/50\n",
      "\u001b[1m80/80\u001b[0m \u001b[32m━━━━━━━━━━━━━━━━━━━━\u001b[0m\u001b[37m\u001b[0m \u001b[1m0s\u001b[0m 4ms/step - loss: 26312.6816 - root_mean_squared_error: 162.1937 - val_loss: 32727.8652 - val_root_mean_squared_error: 180.9084\n",
      "Epoch 9/50\n",
      "\u001b[1m80/80\u001b[0m \u001b[32m━━━━━━━━━━━━━━━━━━━━\u001b[0m\u001b[37m\u001b[0m \u001b[1m0s\u001b[0m 4ms/step - loss: 24853.4688 - root_mean_squared_error: 157.6430 - val_loss: 31250.8438 - val_root_mean_squared_error: 176.7791\n",
      "Epoch 10/50\n",
      "\u001b[1m80/80\u001b[0m \u001b[32m━━━━━━━━━━━━━━━━━━━━\u001b[0m\u001b[37m\u001b[0m \u001b[1m0s\u001b[0m 4ms/step - loss: 22927.9316 - root_mean_squared_error: 151.3723 - val_loss: 29539.6523 - val_root_mean_squared_error: 171.8710\n",
      "Epoch 11/50\n",
      "\u001b[1m80/80\u001b[0m \u001b[32m━━━━━━━━━━━━━━━━━━━━\u001b[0m\u001b[37m\u001b[0m \u001b[1m0s\u001b[0m 4ms/step - loss: 22435.5566 - root_mean_squared_error: 149.7330 - val_loss: 28026.3633 - val_root_mean_squared_error: 167.4108\n",
      "Epoch 12/50\n",
      "\u001b[1m80/80\u001b[0m \u001b[32m━━━━━━━━━━━━━━━━━━━━\u001b[0m\u001b[37m\u001b[0m \u001b[1m0s\u001b[0m 4ms/step - loss: 19722.2090 - root_mean_squared_error: 140.4073 - val_loss: 26146.7812 - val_root_mean_squared_error: 161.6997\n",
      "Epoch 13/50\n",
      "\u001b[1m80/80\u001b[0m \u001b[32m━━━━━━━━━━━━━━━━━━━━\u001b[0m\u001b[37m\u001b[0m \u001b[1m0s\u001b[0m 4ms/step - loss: 18552.0918 - root_mean_squared_error: 136.1674 - val_loss: 24480.8145 - val_root_mean_squared_error: 156.4635\n",
      "Epoch 14/50\n",
      "\u001b[1m80/80\u001b[0m \u001b[32m━━━━━━━━━━━━━━━━━━━━\u001b[0m\u001b[37m\u001b[0m \u001b[1m0s\u001b[0m 4ms/step - loss: 17688.3828 - root_mean_squared_error: 132.9821 - val_loss: 22897.7734 - val_root_mean_squared_error: 151.3201\n",
      "Epoch 15/50\n",
      "\u001b[1m80/80\u001b[0m \u001b[32m━━━━━━━━━━━━━━━━━━━━\u001b[0m\u001b[37m\u001b[0m \u001b[1m0s\u001b[0m 4ms/step - loss: 15861.2324 - root_mean_squared_error: 125.8174 - val_loss: 21408.9512 - val_root_mean_squared_error: 146.3180\n",
      "Epoch 16/50\n",
      "\u001b[1m80/80\u001b[0m \u001b[32m━━━━━━━━━━━━━━━━━━━━\u001b[0m\u001b[37m\u001b[0m \u001b[1m0s\u001b[0m 4ms/step - loss: 15635.6299 - root_mean_squared_error: 125.0007 - val_loss: 19965.1113 - val_root_mean_squared_error: 141.2980\n",
      "Epoch 17/50\n",
      "\u001b[1m80/80\u001b[0m \u001b[32m━━━━━━━━━━━━━━━━━━━━\u001b[0m\u001b[37m\u001b[0m \u001b[1m0s\u001b[0m 4ms/step - loss: 14931.0205 - root_mean_squared_error: 121.9861 - val_loss: 18608.2930 - val_root_mean_squared_error: 136.4122\n",
      "Epoch 18/50\n",
      "\u001b[1m80/80\u001b[0m \u001b[32m━━━━━━━━━━━━━━━━━━━━\u001b[0m\u001b[37m\u001b[0m \u001b[1m0s\u001b[0m 4ms/step - loss: 13536.2998 - root_mean_squared_error: 116.1893 - val_loss: 17343.8418 - val_root_mean_squared_error: 131.6960\n",
      "Epoch 19/50\n",
      "\u001b[1m80/80\u001b[0m \u001b[32m━━━━━━━━━━━━━━━━━━━━\u001b[0m\u001b[37m\u001b[0m \u001b[1m0s\u001b[0m 4ms/step - loss: 11401.9238 - root_mean_squared_error: 106.7454 - val_loss: 16164.6855 - val_root_mean_squared_error: 127.1404\n",
      "Epoch 20/50\n",
      "\u001b[1m80/80\u001b[0m \u001b[32m━━━━━━━━━━━━━━━━━━━━\u001b[0m\u001b[37m\u001b[0m \u001b[1m0s\u001b[0m 4ms/step - loss: 11009.7344 - root_mean_squared_error: 104.7629 - val_loss: 15069.4824 - val_root_mean_squared_error: 122.7578\n",
      "Epoch 21/50\n",
      "\u001b[1m80/80\u001b[0m \u001b[32m━━━━━━━━━━━━━━━━━━━━\u001b[0m\u001b[37m\u001b[0m \u001b[1m0s\u001b[0m 4ms/step - loss: 9584.8242 - root_mean_squared_error: 97.8171 - val_loss: 14072.7891 - val_root_mean_squared_error: 118.6288\n",
      "Epoch 22/50\n",
      "\u001b[1m80/80\u001b[0m \u001b[32m━━━━━━━━━━━━━━━━━━━━\u001b[0m\u001b[37m\u001b[0m \u001b[1m0s\u001b[0m 4ms/step - loss: 9983.1553 - root_mean_squared_error: 99.7479 - val_loss: 13158.2354 - val_root_mean_squared_error: 114.7094\n",
      "Epoch 23/50\n",
      "\u001b[1m80/80\u001b[0m \u001b[32m━━━━━━━━━━━━━━━━━━━━\u001b[0m\u001b[37m\u001b[0m \u001b[1m0s\u001b[0m 4ms/step - loss: 7315.1904 - root_mean_squared_error: 85.4212 - val_loss: 12350.9277 - val_root_mean_squared_error: 111.1347\n",
      "Epoch 24/50\n",
      "\u001b[1m80/80\u001b[0m \u001b[32m━━━━━━━━━━━━━━━━━━━━\u001b[0m\u001b[37m\u001b[0m \u001b[1m0s\u001b[0m 4ms/step - loss: 7508.0034 - root_mean_squared_error: 86.5969 - val_loss: 11608.1689 - val_root_mean_squared_error: 107.7412\n",
      "Epoch 25/50\n",
      "\u001b[1m80/80\u001b[0m \u001b[32m━━━━━━━━━━━━━━━━━━━━\u001b[0m\u001b[37m\u001b[0m \u001b[1m0s\u001b[0m 4ms/step - loss: 7281.2612 - root_mean_squared_error: 85.2986 - val_loss: 10927.5195 - val_root_mean_squared_error: 104.5348\n",
      "Epoch 26/50\n",
      "\u001b[1m80/80\u001b[0m \u001b[32m━━━━━━━━━━━━━━━━━━━━\u001b[0m\u001b[37m\u001b[0m \u001b[1m0s\u001b[0m 4ms/step - loss: 6396.9204 - root_mean_squared_error: 79.7365 - val_loss: 10234.2744 - val_root_mean_squared_error: 101.1646\n",
      "Epoch 27/50\n",
      "\u001b[1m80/80\u001b[0m \u001b[32m━━━━━━━━━━━━━━━━━━━━\u001b[0m\u001b[37m\u001b[0m \u001b[1m0s\u001b[0m 4ms/step - loss: 6485.6211 - root_mean_squared_error: 80.4977 - val_loss: 9601.2021 - val_root_mean_squared_error: 97.9857\n",
      "Epoch 28/50\n",
      "\u001b[1m80/80\u001b[0m \u001b[32m━━━━━━━━━━━━━━━━━━━━\u001b[0m\u001b[37m\u001b[0m \u001b[1m0s\u001b[0m 4ms/step - loss: 5564.1016 - root_mean_squared_error: 74.5479 - val_loss: 9009.5176 - val_root_mean_squared_error: 94.9185\n",
      "Epoch 29/50\n",
      "\u001b[1m80/80\u001b[0m \u001b[32m━━━━━━━━━━━━━━━━━━━━\u001b[0m\u001b[37m\u001b[0m \u001b[1m0s\u001b[0m 4ms/step - loss: 5416.2202 - root_mean_squared_error: 73.5355 - val_loss: 7990.6128 - val_root_mean_squared_error: 89.3902\n",
      "Epoch 30/50\n",
      "\u001b[1m80/80\u001b[0m \u001b[32m━━━━━━━━━━━━━━━━━━━━\u001b[0m\u001b[37m\u001b[0m \u001b[1m0s\u001b[0m 4ms/step - loss: 5269.8530 - root_mean_squared_error: 72.4162 - val_loss: 7493.7095 - val_root_mean_squared_error: 86.5662\n",
      "Epoch 31/50\n",
      "\u001b[1m80/80\u001b[0m \u001b[32m━━━━━━━━━━━━━━━━━━━━\u001b[0m\u001b[37m\u001b[0m \u001b[1m0s\u001b[0m 4ms/step - loss: 4487.3130 - root_mean_squared_error: 66.7305 - val_loss: 7078.5239 - val_root_mean_squared_error: 84.1340\n",
      "Epoch 32/50\n",
      "\u001b[1m80/80\u001b[0m \u001b[32m━━━━━━━━━━━━━━━━━━━━\u001b[0m\u001b[37m\u001b[0m \u001b[1m0s\u001b[0m 4ms/step - loss: 5308.7715 - root_mean_squared_error: 72.3978 - val_loss: 6509.5933 - val_root_mean_squared_error: 80.6821\n",
      "Epoch 33/50\n",
      "\u001b[1m80/80\u001b[0m \u001b[32m━━━━━━━━━━━━━━━━━━━━\u001b[0m\u001b[37m\u001b[0m \u001b[1m0s\u001b[0m 4ms/step - loss: 4580.6924 - root_mean_squared_error: 67.5422 - val_loss: 6191.2651 - val_root_mean_squared_error: 78.6846\n",
      "Epoch 34/50\n",
      "\u001b[1m80/80\u001b[0m \u001b[32m━━━━━━━━━━━━━━━━━━━━\u001b[0m\u001b[37m\u001b[0m \u001b[1m0s\u001b[0m 4ms/step - loss: 4920.3467 - root_mean_squared_error: 68.9653 - val_loss: 5826.3154 - val_root_mean_squared_error: 76.3303\n",
      "Epoch 35/50\n",
      "\u001b[1m80/80\u001b[0m \u001b[32m━━━━━━━━━━━━━━━━━━━━\u001b[0m\u001b[37m\u001b[0m \u001b[1m0s\u001b[0m 5ms/step - loss: 3466.9470 - root_mean_squared_error: 58.5728 - val_loss: 5484.5039 - val_root_mean_squared_error: 74.0574\n",
      "Epoch 36/50\n",
      "\u001b[1m80/80\u001b[0m \u001b[32m━━━━━━━━━━━━━━━━━━━━\u001b[0m\u001b[37m\u001b[0m \u001b[1m0s\u001b[0m 4ms/step - loss: 4174.1699 - root_mean_squared_error: 64.4189 - val_loss: 5099.0400 - val_root_mean_squared_error: 71.4076\n",
      "Epoch 37/50\n",
      "\u001b[1m80/80\u001b[0m \u001b[32m━━━━━━━━━━━━━━━━━━━━\u001b[0m\u001b[37m\u001b[0m \u001b[1m0s\u001b[0m 4ms/step - loss: 3447.6626 - root_mean_squared_error: 58.6527 - val_loss: 4788.5225 - val_root_mean_squared_error: 69.1992\n",
      "Epoch 38/50\n",
      "\u001b[1m80/80\u001b[0m \u001b[32m━━━━━━━━━━━━━━━━━━━━\u001b[0m\u001b[37m\u001b[0m \u001b[1m0s\u001b[0m 4ms/step - loss: 2962.7566 - root_mean_squared_error: 54.3524 - val_loss: 4577.9761 - val_root_mean_squared_error: 67.6607\n",
      "Epoch 39/50\n",
      "\u001b[1m80/80\u001b[0m \u001b[32m━━━━━━━━━━━━━━━━━━━━\u001b[0m\u001b[37m\u001b[0m \u001b[1m0s\u001b[0m 4ms/step - loss: 2504.3015 - root_mean_squared_error: 49.4469 - val_loss: 4303.8511 - val_root_mean_squared_error: 65.6037\n",
      "Epoch 40/50\n",
      "\u001b[1m80/80\u001b[0m \u001b[32m━━━━━━━━━━━━━━━━━━━━\u001b[0m\u001b[37m\u001b[0m \u001b[1m0s\u001b[0m 4ms/step - loss: 2865.1475 - root_mean_squared_error: 53.2779 - val_loss: 4099.8511 - val_root_mean_squared_error: 64.0301\n",
      "Epoch 41/50\n",
      "\u001b[1m80/80\u001b[0m \u001b[32m━━━━━━━━━━━━━━━━━━━━\u001b[0m\u001b[37m\u001b[0m \u001b[1m0s\u001b[0m 5ms/step - loss: 2462.5369 - root_mean_squared_error: 49.2687 - val_loss: 3917.9585 - val_root_mean_squared_error: 62.5936\n",
      "Epoch 42/50\n",
      "\u001b[1m80/80\u001b[0m \u001b[32m━━━━━━━━━━━━━━━━━━━━\u001b[0m\u001b[37m\u001b[0m \u001b[1m0s\u001b[0m 4ms/step - loss: 2659.1453 - root_mean_squared_error: 51.3944 - val_loss: 3700.8110 - val_root_mean_squared_error: 60.8343\n",
      "Epoch 43/50\n",
      "\u001b[1m80/80\u001b[0m \u001b[32m━━━━━━━━━━━━━━━━━━━━\u001b[0m\u001b[37m\u001b[0m \u001b[1m0s\u001b[0m 4ms/step - loss: 2472.2581 - root_mean_squared_error: 49.6100 - val_loss: 3432.9070 - val_root_mean_squared_error: 58.5910\n",
      "Epoch 44/50\n",
      "\u001b[1m80/80\u001b[0m \u001b[32m━━━━━━━━━━━━━━━━━━━━\u001b[0m\u001b[37m\u001b[0m \u001b[1m0s\u001b[0m 4ms/step - loss: 2848.2463 - root_mean_squared_error: 53.3094 - val_loss: 3304.6987 - val_root_mean_squared_error: 57.4865\n",
      "Epoch 45/50\n",
      "\u001b[1m80/80\u001b[0m \u001b[32m━━━━━━━━━━━━━━━━━━━━\u001b[0m\u001b[37m\u001b[0m \u001b[1m0s\u001b[0m 4ms/step - loss: 2695.6672 - root_mean_squared_error: 51.7635 - val_loss: 3133.3110 - val_root_mean_squared_error: 55.9760\n",
      "Epoch 46/50\n",
      "\u001b[1m80/80\u001b[0m \u001b[32m━━━━━━━━━━━━━━━━━━━━\u001b[0m\u001b[37m\u001b[0m \u001b[1m0s\u001b[0m 5ms/step - loss: 2830.2637 - root_mean_squared_error: 53.0419 - val_loss: 2962.4028 - val_root_mean_squared_error: 54.4280\n",
      "Epoch 47/50\n",
      "\u001b[1m80/80\u001b[0m \u001b[32m━━━━━━━━━━━━━━━━━━━━\u001b[0m\u001b[37m\u001b[0m \u001b[1m0s\u001b[0m 5ms/step - loss: 2193.1934 - root_mean_squared_error: 46.7169 - val_loss: 2899.3538 - val_root_mean_squared_error: 53.8456\n",
      "Epoch 48/50\n",
      "\u001b[1m80/80\u001b[0m \u001b[32m━━━━━━━━━━━━━━━━━━━━\u001b[0m\u001b[37m\u001b[0m \u001b[1m0s\u001b[0m 5ms/step - loss: 2580.8689 - root_mean_squared_error: 50.7633 - val_loss: 2773.8782 - val_root_mean_squared_error: 52.6676\n",
      "Epoch 49/50\n",
      "\u001b[1m80/80\u001b[0m \u001b[32m━━━━━━━━━━━━━━━━━━━━\u001b[0m\u001b[37m\u001b[0m \u001b[1m0s\u001b[0m 5ms/step - loss: 2230.6548 - root_mean_squared_error: 47.0823 - val_loss: 2725.7134 - val_root_mean_squared_error: 52.2084\n",
      "Epoch 50/50\n",
      "\u001b[1m80/80\u001b[0m \u001b[32m━━━━━━━━━━━━━━━━━━━━\u001b[0m\u001b[37m\u001b[0m \u001b[1m0s\u001b[0m 5ms/step - loss: 2620.6794 - root_mean_squared_error: 51.0940 - val_loss: 2751.9248 - val_root_mean_squared_error: 52.4588\n"
     ]
    },
    {
     "data": {
      "text/plain": [
       "<keras.src.callbacks.history.History at 0x7b3324a81420>"
      ]
     },
     "execution_count": 51,
     "metadata": {},
     "output_type": "execute_result"
    }
   ],
   "source": [
    "model4 = Sequential()\n",
    "model4.add(InputLayer((6, 6))) # 6 timestamp , 6 feature\n",
    "model4.add(LSTM(16)) \n",
    "model4.add(Dense(8, activation='relu')) \n",
    "\n",
    "model4.add(Dense(1, 'linear')) \n",
    "\n",
    "#model1.summary()\n",
    "\n",
    "cp4 = ModelCheckpoint('/kaggle/working/model4.keras', save_best_only=True)\n",
    "\n",
    "model4.compile(loss=MeanSquaredError(), optimizer=Adam(learning_rate=0.0005), \n",
    "               metrics=[RootMeanSquaredError()])\n",
    "\n",
    "model4.fit(X_train1, y_train1, validation_data=(X_val1, y_val1), epochs=50, \n",
    "           callbacks=[cp4])"
   ]
  },
  {
   "cell_type": "code",
   "execution_count": 52,
   "id": "b422971a",
   "metadata": {
    "execution": {
     "iopub.execute_input": "2025-01-28T11:40:28.066782Z",
     "iopub.status.busy": "2025-01-28T11:40:28.066380Z",
     "iopub.status.idle": "2025-01-28T11:40:28.165352Z",
     "shell.execute_reply": "2025-01-28T11:40:28.164175Z"
    },
    "papermill": {
     "duration": 0.227523,
     "end_time": "2025-01-28T11:40:28.167217",
     "exception": false,
     "start_time": "2025-01-28T11:40:27.939694",
     "status": "completed"
    },
    "tags": []
   },
   "outputs": [],
   "source": [
    "from tensorflow.keras.models import load_model\n",
    "model4 = load_model('/kaggle/working/model4.keras')"
   ]
  },
  {
   "cell_type": "code",
   "execution_count": 53,
   "id": "039b0f5f",
   "metadata": {
    "execution": {
     "iopub.execute_input": "2025-01-28T11:40:28.417487Z",
     "iopub.status.busy": "2025-01-28T11:40:28.417084Z",
     "iopub.status.idle": "2025-01-28T11:40:28.990548Z",
     "shell.execute_reply": "2025-01-28T11:40:28.989236Z"
    },
    "papermill": {
     "duration": 0.701531,
     "end_time": "2025-01-28T11:40:28.992593",
     "exception": false,
     "start_time": "2025-01-28T11:40:28.291062",
     "status": "completed"
    },
    "tags": []
   },
   "outputs": [
    {
     "name": "stdout",
     "output_type": "stream",
     "text": [
      "\u001b[1m80/80\u001b[0m \u001b[32m━━━━━━━━━━━━━━━━━━━━\u001b[0m\u001b[37m\u001b[0m \u001b[1m0s\u001b[0m 4ms/step\n",
      "Evaluation Metrics:\n",
      "Mean Absolute Error (MAE): 25.1743\n",
      "Mean Squared Error (MSE): 2438.3981\n",
      "Root Mean Squared Error (RMSE): 49.3801\n",
      "R-squared (Accuracy): 0.5278\n"
     ]
    }
   ],
   "source": [
    "# Evaluate the model on the train data\n",
    "train_result = model4.predict(X_train1)\n",
    "\n",
    "# Calculate metrics\n",
    "mse = mean_squared_error(y_train1, train_result)\n",
    "rmse = np.sqrt(mse)\n",
    "mae = mean_absolute_error(y_train1, train_result)\n",
    "r2 = r2_score(y_train1, train_result)\n",
    "\n",
    "# Print the results\n",
    "print(\"Evaluation Metrics:\")\n",
    "print(f\"Mean Absolute Error (MAE): {mae:.4f}\")\n",
    "print(f\"Mean Squared Error (MSE): {mse:.4f}\")\n",
    "print(f\"Root Mean Squared Error (RMSE): {rmse:.4f}\")\n",
    "print(f\"R-squared (Accuracy): {r2:.4f}\")"
   ]
  },
  {
   "cell_type": "code",
   "execution_count": 54,
   "id": "15b4ae73",
   "metadata": {
    "execution": {
     "iopub.execute_input": "2025-01-28T11:40:29.251069Z",
     "iopub.status.busy": "2025-01-28T11:40:29.250605Z",
     "iopub.status.idle": "2025-01-28T11:40:29.354615Z",
     "shell.execute_reply": "2025-01-28T11:40:29.353308Z"
    },
    "papermill": {
     "duration": 0.235104,
     "end_time": "2025-01-28T11:40:29.356605",
     "exception": false,
     "start_time": "2025-01-28T11:40:29.121501",
     "status": "completed"
    },
    "tags": []
   },
   "outputs": [
    {
     "name": "stdout",
     "output_type": "stream",
     "text": [
      "\u001b[1m10/10\u001b[0m \u001b[32m━━━━━━━━━━━━━━━━━━━━\u001b[0m\u001b[37m\u001b[0m \u001b[1m0s\u001b[0m 2ms/step \n",
      "Evaluation Metrics:\n",
      "Mean Absolute Error (MAE): 40.1406\n",
      "Mean Squared Error (MSE): 2725.7132\n",
      "Root Mean Squared Error (RMSE): 52.2084\n",
      "R-squared (Accuracy): 0.6335\n"
     ]
    }
   ],
   "source": [
    "# Evaluate the model on the validation data\n",
    "val_result = model4.predict(X_val1)\n",
    "\n",
    "# Calculate metrics\n",
    "mse = mean_squared_error(y_val1, val_result)\n",
    "rmse = np.sqrt(mse)\n",
    "mae = mean_absolute_error(y_val1, val_result)\n",
    "r2 = r2_score(y_val1, val_result)\n",
    "\n",
    "# Print the results\n",
    "print(\"Evaluation Metrics:\")\n",
    "print(f\"Mean Absolute Error (MAE): {mae:.4f}\")\n",
    "print(f\"Mean Squared Error (MSE): {mse:.4f}\")\n",
    "print(f\"Root Mean Squared Error (RMSE): {rmse:.4f}\")\n",
    "print(f\"R-squared (Accuracy): {r2:.4f}\")"
   ]
  },
  {
   "cell_type": "code",
   "execution_count": 55,
   "id": "1fdce212",
   "metadata": {
    "execution": {
     "iopub.execute_input": "2025-01-28T11:40:29.607629Z",
     "iopub.status.busy": "2025-01-28T11:40:29.607238Z",
     "iopub.status.idle": "2025-01-28T11:40:29.712693Z",
     "shell.execute_reply": "2025-01-28T11:40:29.711298Z"
    },
    "papermill": {
     "duration": 0.234609,
     "end_time": "2025-01-28T11:40:29.714850",
     "exception": false,
     "start_time": "2025-01-28T11:40:29.480241",
     "status": "completed"
    },
    "tags": []
   },
   "outputs": [
    {
     "name": "stdout",
     "output_type": "stream",
     "text": [
      "\u001b[1m10/10\u001b[0m \u001b[32m━━━━━━━━━━━━━━━━━━━━\u001b[0m\u001b[37m\u001b[0m \u001b[1m0s\u001b[0m 2ms/step \n",
      "Evaluation Metrics:\n",
      "Mean Absolute Error (MAE): 25.9000\n",
      "Mean Squared Error (MSE): 1307.5073\n",
      "Root Mean Squared Error (RMSE): 36.1595\n",
      "R-squared (Accuracy): 0.6043\n"
     ]
    }
   ],
   "source": [
    "# Evaluate the model on the test data\n",
    "test_result = model4.predict(X_test1)\n",
    "\n",
    "# Calculate metrics\n",
    "mse = mean_squared_error(y_test1, test_result)\n",
    "rmse = np.sqrt(mse)\n",
    "mae = mean_absolute_error(y_test1, test_result)\n",
    "r2 = r2_score(y_test1, test_result)\n",
    "\n",
    "# Print the results\n",
    "print(\"Evaluation Metrics:\")\n",
    "print(f\"Mean Absolute Error (MAE): {mae:.4f}\")\n",
    "print(f\"Mean Squared Error (MSE): {mse:.4f}\")\n",
    "print(f\"Root Mean Squared Error (RMSE): {rmse:.4f}\")\n",
    "print(f\"R-squared (Accuracy): {r2:.4f}\")"
   ]
  },
  {
   "cell_type": "code",
   "execution_count": null,
   "id": "a595611c",
   "metadata": {
    "papermill": {
     "duration": 0.129325,
     "end_time": "2025-01-28T11:40:29.973735",
     "exception": false,
     "start_time": "2025-01-28T11:40:29.844410",
     "status": "completed"
    },
    "tags": []
   },
   "outputs": [],
   "source": []
  },
  {
   "cell_type": "code",
   "execution_count": null,
   "id": "6bd001c3",
   "metadata": {
    "papermill": {
     "duration": 0.123576,
     "end_time": "2025-01-28T11:40:30.228851",
     "exception": false,
     "start_time": "2025-01-28T11:40:30.105275",
     "status": "completed"
    },
    "tags": []
   },
   "outputs": [],
   "source": []
  },
  {
   "cell_type": "markdown",
   "id": "05bf124b",
   "metadata": {
    "papermill": {
     "duration": 0.145486,
     "end_time": "2025-01-28T11:40:30.508342",
     "exception": false,
     "start_time": "2025-01-28T11:40:30.362856",
     "status": "completed"
    },
    "tags": []
   },
   "source": [
    "# Model Testing(Simple, Complex, Hybrid)"
   ]
  },
  {
   "cell_type": "code",
   "execution_count": null,
   "id": "4faaff3a",
   "metadata": {
    "papermill": {
     "duration": 0.123771,
     "end_time": "2025-01-28T11:40:30.765182",
     "exception": false,
     "start_time": "2025-01-28T11:40:30.641411",
     "status": "completed"
    },
    "tags": []
   },
   "outputs": [],
   "source": []
  },
  {
   "cell_type": "markdown",
   "id": "52583bef",
   "metadata": {
    "papermill": {
     "duration": 0.126424,
     "end_time": "2025-01-28T11:40:31.018797",
     "exception": false,
     "start_time": "2025-01-28T11:40:30.892373",
     "status": "completed"
    },
    "tags": []
   },
   "source": [
    "## Model 5: Basic LSTM Model"
   ]
  },
  {
   "cell_type": "code",
   "execution_count": 56,
   "id": "a7bb311e",
   "metadata": {
    "execution": {
     "iopub.execute_input": "2025-01-28T11:40:31.272564Z",
     "iopub.status.busy": "2025-01-28T11:40:31.272149Z",
     "iopub.status.idle": "2025-01-28T11:40:52.689328Z",
     "shell.execute_reply": "2025-01-28T11:40:52.688192Z"
    },
    "papermill": {
     "duration": 21.543403,
     "end_time": "2025-01-28T11:40:52.691253",
     "exception": false,
     "start_time": "2025-01-28T11:40:31.147850",
     "status": "completed"
    },
    "tags": []
   },
   "outputs": [
    {
     "name": "stdout",
     "output_type": "stream",
     "text": [
      "Epoch 1/50\n",
      "\u001b[1m80/80\u001b[0m \u001b[32m━━━━━━━━━━━━━━━━━━━━\u001b[0m\u001b[37m\u001b[0m \u001b[1m3s\u001b[0m 9ms/step - loss: 24772.0059 - root_mean_squared_error: 155.9476 - val_loss: 1449.2964 - val_root_mean_squared_error: 38.0696\n",
      "Epoch 2/50\n",
      "\u001b[1m80/80\u001b[0m \u001b[32m━━━━━━━━━━━━━━━━━━━━\u001b[0m\u001b[37m\u001b[0m \u001b[1m0s\u001b[0m 5ms/step - loss: 1958.4347 - root_mean_squared_error: 44.1484 - val_loss: 1043.4269 - val_root_mean_squared_error: 32.3021\n",
      "Epoch 3/50\n",
      "\u001b[1m80/80\u001b[0m \u001b[32m━━━━━━━━━━━━━━━━━━━━\u001b[0m\u001b[37m\u001b[0m \u001b[1m0s\u001b[0m 5ms/step - loss: 1467.1948 - root_mean_squared_error: 38.1465 - val_loss: 940.1871 - val_root_mean_squared_error: 30.6625\n",
      "Epoch 4/50\n",
      "\u001b[1m80/80\u001b[0m \u001b[32m━━━━━━━━━━━━━━━━━━━━\u001b[0m\u001b[37m\u001b[0m \u001b[1m0s\u001b[0m 4ms/step - loss: 1754.3727 - root_mean_squared_error: 41.7121 - val_loss: 1051.3237 - val_root_mean_squared_error: 32.4241\n",
      "Epoch 5/50\n",
      "\u001b[1m80/80\u001b[0m \u001b[32m━━━━━━━━━━━━━━━━━━━━\u001b[0m\u001b[37m\u001b[0m \u001b[1m0s\u001b[0m 4ms/step - loss: 1616.8647 - root_mean_squared_error: 40.1889 - val_loss: 824.3160 - val_root_mean_squared_error: 28.7109\n",
      "Epoch 6/50\n",
      "\u001b[1m80/80\u001b[0m \u001b[32m━━━━━━━━━━━━━━━━━━━━\u001b[0m\u001b[37m\u001b[0m \u001b[1m0s\u001b[0m 4ms/step - loss: 1691.4365 - root_mean_squared_error: 41.0220 - val_loss: 867.4623 - val_root_mean_squared_error: 29.4527\n",
      "Epoch 7/50\n",
      "\u001b[1m80/80\u001b[0m \u001b[32m━━━━━━━━━━━━━━━━━━━━\u001b[0m\u001b[37m\u001b[0m \u001b[1m0s\u001b[0m 5ms/step - loss: 1575.4358 - root_mean_squared_error: 39.6134 - val_loss: 783.1933 - val_root_mean_squared_error: 27.9856\n",
      "Epoch 8/50\n",
      "\u001b[1m80/80\u001b[0m \u001b[32m━━━━━━━━━━━━━━━━━━━━\u001b[0m\u001b[37m\u001b[0m \u001b[1m0s\u001b[0m 5ms/step - loss: 1316.6885 - root_mean_squared_error: 36.1175 - val_loss: 810.1250 - val_root_mean_squared_error: 28.4627\n",
      "Epoch 9/50\n",
      "\u001b[1m80/80\u001b[0m \u001b[32m━━━━━━━━━━━━━━━━━━━━\u001b[0m\u001b[37m\u001b[0m \u001b[1m0s\u001b[0m 5ms/step - loss: 1479.8309 - root_mean_squared_error: 38.3279 - val_loss: 775.1553 - val_root_mean_squared_error: 27.8416\n",
      "Epoch 10/50\n",
      "\u001b[1m80/80\u001b[0m \u001b[32m━━━━━━━━━━━━━━━━━━━━\u001b[0m\u001b[37m\u001b[0m \u001b[1m0s\u001b[0m 5ms/step - loss: 1290.4869 - root_mean_squared_error: 35.7873 - val_loss: 750.1350 - val_root_mean_squared_error: 27.3886\n",
      "Epoch 11/50\n",
      "\u001b[1m80/80\u001b[0m \u001b[32m━━━━━━━━━━━━━━━━━━━━\u001b[0m\u001b[37m\u001b[0m \u001b[1m0s\u001b[0m 5ms/step - loss: 1474.3546 - root_mean_squared_error: 38.2281 - val_loss: 749.8831 - val_root_mean_squared_error: 27.3840\n",
      "Epoch 12/50\n",
      "\u001b[1m80/80\u001b[0m \u001b[32m━━━━━━━━━━━━━━━━━━━━\u001b[0m\u001b[37m\u001b[0m \u001b[1m0s\u001b[0m 4ms/step - loss: 1201.0781 - root_mean_squared_error: 34.5520 - val_loss: 945.9463 - val_root_mean_squared_error: 30.7562\n",
      "Epoch 13/50\n",
      "\u001b[1m80/80\u001b[0m \u001b[32m━━━━━━━━━━━━━━━━━━━━\u001b[0m\u001b[37m\u001b[0m \u001b[1m0s\u001b[0m 4ms/step - loss: 1940.8910 - root_mean_squared_error: 43.7988 - val_loss: 890.2723 - val_root_mean_squared_error: 29.8374\n",
      "Epoch 14/50\n",
      "\u001b[1m80/80\u001b[0m \u001b[32m━━━━━━━━━━━━━━━━━━━━\u001b[0m\u001b[37m\u001b[0m \u001b[1m0s\u001b[0m 4ms/step - loss: 1639.6785 - root_mean_squared_error: 40.2820 - val_loss: 763.2623 - val_root_mean_squared_error: 27.6272\n",
      "Epoch 15/50\n",
      "\u001b[1m80/80\u001b[0m \u001b[32m━━━━━━━━━━━━━━━━━━━━\u001b[0m\u001b[37m\u001b[0m \u001b[1m0s\u001b[0m 4ms/step - loss: 1288.7007 - root_mean_squared_error: 35.6798 - val_loss: 770.0920 - val_root_mean_squared_error: 27.7505\n",
      "Epoch 16/50\n",
      "\u001b[1m80/80\u001b[0m \u001b[32m━━━━━━━━━━━━━━━━━━━━\u001b[0m\u001b[37m\u001b[0m \u001b[1m0s\u001b[0m 5ms/step - loss: 1438.2632 - root_mean_squared_error: 37.7681 - val_loss: 749.6872 - val_root_mean_squared_error: 27.3804\n",
      "Epoch 17/50\n",
      "\u001b[1m80/80\u001b[0m \u001b[32m━━━━━━━━━━━━━━━━━━━━\u001b[0m\u001b[37m\u001b[0m \u001b[1m0s\u001b[0m 4ms/step - loss: 1321.2505 - root_mean_squared_error: 36.0181 - val_loss: 755.0314 - val_root_mean_squared_error: 27.4778\n",
      "Epoch 18/50\n",
      "\u001b[1m80/80\u001b[0m \u001b[32m━━━━━━━━━━━━━━━━━━━━\u001b[0m\u001b[37m\u001b[0m \u001b[1m0s\u001b[0m 5ms/step - loss: 1499.7057 - root_mean_squared_error: 38.5378 - val_loss: 760.1907 - val_root_mean_squared_error: 27.5716\n",
      "Epoch 19/50\n",
      "\u001b[1m80/80\u001b[0m \u001b[32m━━━━━━━━━━━━━━━━━━━━\u001b[0m\u001b[37m\u001b[0m \u001b[1m0s\u001b[0m 4ms/step - loss: 1666.0911 - root_mean_squared_error: 40.5718 - val_loss: 765.7444 - val_root_mean_squared_error: 27.6721\n",
      "Epoch 20/50\n",
      "\u001b[1m80/80\u001b[0m \u001b[32m━━━━━━━━━━━━━━━━━━━━\u001b[0m\u001b[37m\u001b[0m \u001b[1m0s\u001b[0m 4ms/step - loss: 1393.7089 - root_mean_squared_error: 37.2030 - val_loss: 775.1960 - val_root_mean_squared_error: 27.8423\n",
      "Epoch 21/50\n",
      "\u001b[1m80/80\u001b[0m \u001b[32m━━━━━━━━━━━━━━━━━━━━\u001b[0m\u001b[37m\u001b[0m \u001b[1m0s\u001b[0m 4ms/step - loss: 1768.3893 - root_mean_squared_error: 41.7344 - val_loss: 776.1063 - val_root_mean_squared_error: 27.8587\n",
      "Epoch 22/50\n",
      "\u001b[1m80/80\u001b[0m \u001b[32m━━━━━━━━━━━━━━━━━━━━\u001b[0m\u001b[37m\u001b[0m \u001b[1m0s\u001b[0m 4ms/step - loss: 1282.3752 - root_mean_squared_error: 35.6643 - val_loss: 827.2922 - val_root_mean_squared_error: 28.7627\n",
      "Epoch 23/50\n",
      "\u001b[1m80/80\u001b[0m \u001b[32m━━━━━━━━━━━━━━━━━━━━\u001b[0m\u001b[37m\u001b[0m \u001b[1m0s\u001b[0m 4ms/step - loss: 1486.2590 - root_mean_squared_error: 38.0084 - val_loss: 890.6142 - val_root_mean_squared_error: 29.8432\n",
      "Epoch 24/50\n",
      "\u001b[1m80/80\u001b[0m \u001b[32m━━━━━━━━━━━━━━━━━━━━\u001b[0m\u001b[37m\u001b[0m \u001b[1m0s\u001b[0m 4ms/step - loss: 1635.7791 - root_mean_squared_error: 40.3562 - val_loss: 1089.9097 - val_root_mean_squared_error: 33.0138\n",
      "Epoch 25/50\n",
      "\u001b[1m80/80\u001b[0m \u001b[32m━━━━━━━━━━━━━━━━━━━━\u001b[0m\u001b[37m\u001b[0m \u001b[1m0s\u001b[0m 4ms/step - loss: 2388.7498 - root_mean_squared_error: 48.3507 - val_loss: 833.8400 - val_root_mean_squared_error: 28.8763\n",
      "Epoch 26/50\n",
      "\u001b[1m80/80\u001b[0m \u001b[32m━━━━━━━━━━━━━━━━━━━━\u001b[0m\u001b[37m\u001b[0m \u001b[1m0s\u001b[0m 4ms/step - loss: 2030.3468 - root_mean_squared_error: 44.4356 - val_loss: 768.9236 - val_root_mean_squared_error: 27.7295\n",
      "Epoch 27/50\n",
      "\u001b[1m80/80\u001b[0m \u001b[32m━━━━━━━━━━━━━━━━━━━━\u001b[0m\u001b[37m\u001b[0m \u001b[1m0s\u001b[0m 4ms/step - loss: 1748.8092 - root_mean_squared_error: 41.6880 - val_loss: 779.1443 - val_root_mean_squared_error: 27.9132\n",
      "Epoch 28/50\n",
      "\u001b[1m80/80\u001b[0m \u001b[32m━━━━━━━━━━━━━━━━━━━━\u001b[0m\u001b[37m\u001b[0m \u001b[1m0s\u001b[0m 5ms/step - loss: 1510.3125 - root_mean_squared_error: 38.7566 - val_loss: 751.9929 - val_root_mean_squared_error: 27.4225\n",
      "Epoch 29/50\n",
      "\u001b[1m80/80\u001b[0m \u001b[32m━━━━━━━━━━━━━━━━━━━━\u001b[0m\u001b[37m\u001b[0m \u001b[1m0s\u001b[0m 4ms/step - loss: 1442.4261 - root_mean_squared_error: 37.7708 - val_loss: 824.8842 - val_root_mean_squared_error: 28.7208\n",
      "Epoch 30/50\n",
      "\u001b[1m80/80\u001b[0m \u001b[32m━━━━━━━━━━━━━━━━━━━━\u001b[0m\u001b[37m\u001b[0m \u001b[1m0s\u001b[0m 5ms/step - loss: 1460.2690 - root_mean_squared_error: 37.9879 - val_loss: 833.9072 - val_root_mean_squared_error: 28.8775\n",
      "Epoch 31/50\n",
      "\u001b[1m80/80\u001b[0m \u001b[32m━━━━━━━━━━━━━━━━━━━━\u001b[0m\u001b[37m\u001b[0m \u001b[1m0s\u001b[0m 4ms/step - loss: 1327.7290 - root_mean_squared_error: 36.3437 - val_loss: 777.6656 - val_root_mean_squared_error: 27.8867\n",
      "Epoch 32/50\n",
      "\u001b[1m80/80\u001b[0m \u001b[32m━━━━━━━━━━━━━━━━━━━━\u001b[0m\u001b[37m\u001b[0m \u001b[1m0s\u001b[0m 4ms/step - loss: 1396.9451 - root_mean_squared_error: 37.3204 - val_loss: 890.3937 - val_root_mean_squared_error: 29.8395\n",
      "Epoch 33/50\n",
      "\u001b[1m80/80\u001b[0m \u001b[32m━━━━━━━━━━━━━━━━━━━━\u001b[0m\u001b[37m\u001b[0m \u001b[1m0s\u001b[0m 5ms/step - loss: 1316.9260 - root_mean_squared_error: 36.0878 - val_loss: 768.0306 - val_root_mean_squared_error: 27.7134\n",
      "Epoch 34/50\n",
      "\u001b[1m80/80\u001b[0m \u001b[32m━━━━━━━━━━━━━━━━━━━━\u001b[0m\u001b[37m\u001b[0m \u001b[1m0s\u001b[0m 4ms/step - loss: 1468.7538 - root_mean_squared_error: 38.1849 - val_loss: 768.3567 - val_root_mean_squared_error: 27.7192\n",
      "Epoch 35/50\n",
      "\u001b[1m80/80\u001b[0m \u001b[32m━━━━━━━━━━━━━━━━━━━━\u001b[0m\u001b[37m\u001b[0m \u001b[1m0s\u001b[0m 4ms/step - loss: 1526.2528 - root_mean_squared_error: 38.8947 - val_loss: 784.4707 - val_root_mean_squared_error: 28.0084\n",
      "Epoch 36/50\n",
      "\u001b[1m80/80\u001b[0m \u001b[32m━━━━━━━━━━━━━━━━━━━━\u001b[0m\u001b[37m\u001b[0m \u001b[1m0s\u001b[0m 4ms/step - loss: 1589.0956 - root_mean_squared_error: 39.7272 - val_loss: 910.7651 - val_root_mean_squared_error: 30.1789\n",
      "Epoch 37/50\n",
      "\u001b[1m80/80\u001b[0m \u001b[32m━━━━━━━━━━━━━━━━━━━━\u001b[0m\u001b[37m\u001b[0m \u001b[1m0s\u001b[0m 5ms/step - loss: 1682.4534 - root_mean_squared_error: 40.8524 - val_loss: 745.1857 - val_root_mean_squared_error: 27.2981\n",
      "Epoch 38/50\n",
      "\u001b[1m80/80\u001b[0m \u001b[32m━━━━━━━━━━━━━━━━━━━━\u001b[0m\u001b[37m\u001b[0m \u001b[1m0s\u001b[0m 5ms/step - loss: 1335.0808 - root_mean_squared_error: 36.4777 - val_loss: 796.7667 - val_root_mean_squared_error: 28.2271\n",
      "Epoch 39/50\n",
      "\u001b[1m80/80\u001b[0m \u001b[32m━━━━━━━━━━━━━━━━━━━━\u001b[0m\u001b[37m\u001b[0m \u001b[1m0s\u001b[0m 5ms/step - loss: 1417.9845 - root_mean_squared_error: 37.5174 - val_loss: 760.4103 - val_root_mean_squared_error: 27.5755\n",
      "Epoch 40/50\n",
      "\u001b[1m80/80\u001b[0m \u001b[32m━━━━━━━━━━━━━━━━━━━━\u001b[0m\u001b[37m\u001b[0m \u001b[1m0s\u001b[0m 5ms/step - loss: 1696.5079 - root_mean_squared_error: 40.8913 - val_loss: 749.0840 - val_root_mean_squared_error: 27.3694\n",
      "Epoch 41/50\n",
      "\u001b[1m80/80\u001b[0m \u001b[32m━━━━━━━━━━━━━━━━━━━━\u001b[0m\u001b[37m\u001b[0m \u001b[1m0s\u001b[0m 4ms/step - loss: 2072.1042 - root_mean_squared_error: 44.7434 - val_loss: 859.1088 - val_root_mean_squared_error: 29.3106\n",
      "Epoch 42/50\n",
      "\u001b[1m80/80\u001b[0m \u001b[32m━━━━━━━━━━━━━━━━━━━━\u001b[0m\u001b[37m\u001b[0m \u001b[1m0s\u001b[0m 4ms/step - loss: 1371.0214 - root_mean_squared_error: 36.8753 - val_loss: 838.4581 - val_root_mean_squared_error: 28.9561\n",
      "Epoch 43/50\n",
      "\u001b[1m80/80\u001b[0m \u001b[32m━━━━━━━━━━━━━━━━━━━━\u001b[0m\u001b[37m\u001b[0m \u001b[1m0s\u001b[0m 5ms/step - loss: 1368.2946 - root_mean_squared_error: 36.8861 - val_loss: 769.5518 - val_root_mean_squared_error: 27.7408\n",
      "Epoch 44/50\n",
      "\u001b[1m80/80\u001b[0m \u001b[32m━━━━━━━━━━━━━━━━━━━━\u001b[0m\u001b[37m\u001b[0m \u001b[1m0s\u001b[0m 4ms/step - loss: 1353.9648 - root_mean_squared_error: 36.5268 - val_loss: 793.2117 - val_root_mean_squared_error: 28.1640\n",
      "Epoch 45/50\n",
      "\u001b[1m80/80\u001b[0m \u001b[32m━━━━━━━━━━━━━━━━━━━━\u001b[0m\u001b[37m\u001b[0m \u001b[1m0s\u001b[0m 5ms/step - loss: 1335.7622 - root_mean_squared_error: 36.4417 - val_loss: 852.0607 - val_root_mean_squared_error: 29.1901\n",
      "Epoch 46/50\n",
      "\u001b[1m80/80\u001b[0m \u001b[32m━━━━━━━━━━━━━━━━━━━━\u001b[0m\u001b[37m\u001b[0m \u001b[1m0s\u001b[0m 4ms/step - loss: 1349.3805 - root_mean_squared_error: 36.6065 - val_loss: 752.3768 - val_root_mean_squared_error: 27.4295\n",
      "Epoch 47/50\n",
      "\u001b[1m80/80\u001b[0m \u001b[32m━━━━━━━━━━━━━━━━━━━━\u001b[0m\u001b[37m\u001b[0m \u001b[1m0s\u001b[0m 4ms/step - loss: 1719.1212 - root_mean_squared_error: 41.2979 - val_loss: 752.0778 - val_root_mean_squared_error: 27.4240\n",
      "Epoch 48/50\n",
      "\u001b[1m80/80\u001b[0m \u001b[32m━━━━━━━━━━━━━━━━━━━━\u001b[0m\u001b[37m\u001b[0m \u001b[1m0s\u001b[0m 4ms/step - loss: 1427.1680 - root_mean_squared_error: 37.3466 - val_loss: 807.2984 - val_root_mean_squared_error: 28.4130\n",
      "Epoch 49/50\n",
      "\u001b[1m80/80\u001b[0m \u001b[32m━━━━━━━━━━━━━━━━━━━━\u001b[0m\u001b[37m\u001b[0m \u001b[1m0s\u001b[0m 4ms/step - loss: 1803.3663 - root_mean_squared_error: 42.2044 - val_loss: 751.2736 - val_root_mean_squared_error: 27.4094\n",
      "Epoch 50/50\n",
      "\u001b[1m80/80\u001b[0m \u001b[32m━━━━━━━━━━━━━━━━━━━━\u001b[0m\u001b[37m\u001b[0m \u001b[1m0s\u001b[0m 4ms/step - loss: 1436.3408 - root_mean_squared_error: 37.8218 - val_loss: 770.2540 - val_root_mean_squared_error: 27.7535\n"
     ]
    },
    {
     "data": {
      "text/plain": [
       "<keras.src.callbacks.history.History at 0x7b331f7c6dd0>"
      ]
     },
     "execution_count": 56,
     "metadata": {},
     "output_type": "execute_result"
    }
   ],
   "source": [
    "model5 = Sequential()\n",
    "model5.add(InputLayer((6, 6)))  # 6 timestamps, 6 features\n",
    "model5.add(LSTM(32, activation='relu', return_sequences=False))  # Single LSTM layer\n",
    "model5.add(Dense(16, activation='relu')) \n",
    "model5.add(Dense(1, activation='linear'))  \n",
    "\n",
    "cp5 = ModelCheckpoint('/kaggle/working/model5.keras', save_best_only=True)\n",
    "\n",
    "model5.compile(loss=MeanSquaredError(), optimizer=Adam(learning_rate=0.001), \n",
    "               metrics=[RootMeanSquaredError()])\n",
    "\n",
    "model5.fit(X_train1, y_train1, validation_data=(X_val1, y_val1), epochs=50, \n",
    "           callbacks=[cp5])"
   ]
  },
  {
   "cell_type": "code",
   "execution_count": 57,
   "id": "fe28b787",
   "metadata": {
    "execution": {
     "iopub.execute_input": "2025-01-28T11:40:53.063006Z",
     "iopub.status.busy": "2025-01-28T11:40:53.062555Z",
     "iopub.status.idle": "2025-01-28T11:40:53.167614Z",
     "shell.execute_reply": "2025-01-28T11:40:53.166526Z"
    },
    "papermill": {
     "duration": 0.317949,
     "end_time": "2025-01-28T11:40:53.169557",
     "exception": false,
     "start_time": "2025-01-28T11:40:52.851608",
     "status": "completed"
    },
    "tags": []
   },
   "outputs": [],
   "source": [
    "from tensorflow.keras.models import load_model\n",
    "model5 = load_model('/kaggle/working/model5.keras')"
   ]
  },
  {
   "cell_type": "code",
   "execution_count": 58,
   "id": "dd182a23",
   "metadata": {
    "execution": {
     "iopub.execute_input": "2025-01-28T11:40:53.466260Z",
     "iopub.status.busy": "2025-01-28T11:40:53.465893Z",
     "iopub.status.idle": "2025-01-28T11:40:54.012525Z",
     "shell.execute_reply": "2025-01-28T11:40:54.011122Z"
    },
    "papermill": {
     "duration": 0.69862,
     "end_time": "2025-01-28T11:40:54.014477",
     "exception": false,
     "start_time": "2025-01-28T11:40:53.315857",
     "status": "completed"
    },
    "tags": []
   },
   "outputs": [
    {
     "name": "stdout",
     "output_type": "stream",
     "text": [
      "\u001b[1m80/80\u001b[0m \u001b[32m━━━━━━━━━━━━━━━━━━━━\u001b[0m\u001b[37m\u001b[0m \u001b[1m0s\u001b[0m 4ms/step\n",
      "Evaluation Metrics:\n",
      "Mean Absolute Error (MAE): 19.8110\n",
      "Mean Squared Error (MSE): 1533.5035\n",
      "Root Mean Squared Error (RMSE): 39.1600\n",
      "R-squared (Accuracy): 0.7030\n"
     ]
    }
   ],
   "source": [
    "# Evaluate the model on the train data\n",
    "train_result = model5.predict(X_train1)\n",
    "\n",
    "# Calculate metrics\n",
    "mse = mean_squared_error(y_train1, train_result)\n",
    "rmse = np.sqrt(mse)\n",
    "mae = mean_absolute_error(y_train1, train_result)\n",
    "r2 = r2_score(y_train1, train_result)\n",
    "\n",
    "# Print the results\n",
    "print(\"Evaluation Metrics:\")\n",
    "print(f\"Mean Absolute Error (MAE): {mae:.4f}\")\n",
    "print(f\"Mean Squared Error (MSE): {mse:.4f}\")\n",
    "print(f\"Root Mean Squared Error (RMSE): {rmse:.4f}\")\n",
    "print(f\"R-squared (Accuracy): {r2:.4f}\")"
   ]
  },
  {
   "cell_type": "code",
   "execution_count": 59,
   "id": "1a783e25",
   "metadata": {
    "execution": {
     "iopub.execute_input": "2025-01-28T11:40:54.320707Z",
     "iopub.status.busy": "2025-01-28T11:40:54.320290Z",
     "iopub.status.idle": "2025-01-28T11:40:54.421828Z",
     "shell.execute_reply": "2025-01-28T11:40:54.420566Z"
    },
    "papermill": {
     "duration": 0.254784,
     "end_time": "2025-01-28T11:40:54.424180",
     "exception": false,
     "start_time": "2025-01-28T11:40:54.169396",
     "status": "completed"
    },
    "tags": []
   },
   "outputs": [
    {
     "name": "stdout",
     "output_type": "stream",
     "text": [
      "\u001b[1m10/10\u001b[0m \u001b[32m━━━━━━━━━━━━━━━━━━━━\u001b[0m\u001b[37m\u001b[0m \u001b[1m0s\u001b[0m 2ms/step \n",
      "Evaluation Metrics:\n",
      "Mean Absolute Error (MAE): 17.0043\n",
      "Mean Squared Error (MSE): 745.1856\n",
      "Root Mean Squared Error (RMSE): 27.2981\n",
      "R-squared (Accuracy): 0.8998\n"
     ]
    }
   ],
   "source": [
    "# Evaluate the model on the validation data\n",
    "val_result = model5.predict(X_val1)\n",
    "\n",
    "# Calculate metrics\n",
    "mse = mean_squared_error(y_val1, val_result)\n",
    "rmse = np.sqrt(mse)\n",
    "mae = mean_absolute_error(y_val1, val_result)\n",
    "r2 = r2_score(y_val1, val_result)\n",
    "\n",
    "# Print the results\n",
    "print(\"Evaluation Metrics:\")\n",
    "print(f\"Mean Absolute Error (MAE): {mae:.4f}\")\n",
    "print(f\"Mean Squared Error (MSE): {mse:.4f}\")\n",
    "print(f\"Root Mean Squared Error (RMSE): {rmse:.4f}\")\n",
    "print(f\"R-squared (Accuracy): {r2:.4f}\")"
   ]
  },
  {
   "cell_type": "code",
   "execution_count": 60,
   "id": "3a47c2e0",
   "metadata": {
    "execution": {
     "iopub.execute_input": "2025-01-28T11:40:54.719918Z",
     "iopub.status.busy": "2025-01-28T11:40:54.719552Z",
     "iopub.status.idle": "2025-01-28T11:40:54.821367Z",
     "shell.execute_reply": "2025-01-28T11:40:54.819995Z"
    },
    "papermill": {
     "duration": 0.25071,
     "end_time": "2025-01-28T11:40:54.823279",
     "exception": false,
     "start_time": "2025-01-28T11:40:54.572569",
     "status": "completed"
    },
    "tags": []
   },
   "outputs": [
    {
     "name": "stdout",
     "output_type": "stream",
     "text": [
      "\u001b[1m10/10\u001b[0m \u001b[32m━━━━━━━━━━━━━━━━━━━━\u001b[0m\u001b[37m\u001b[0m \u001b[1m0s\u001b[0m 2ms/step \n",
      "Evaluation Metrics:\n",
      "Mean Absolute Error (MAE): 21.1344\n",
      "Mean Squared Error (MSE): 1090.5179\n",
      "Root Mean Squared Error (RMSE): 33.0230\n",
      "R-squared (Accuracy): 0.6700\n"
     ]
    }
   ],
   "source": [
    "# Evaluate the model on the test data\n",
    "test_result = model5.predict(X_test1)\n",
    "\n",
    "# Calculate metrics\n",
    "mse = mean_squared_error(y_test1, test_result)\n",
    "rmse = np.sqrt(mse)\n",
    "mae = mean_absolute_error(y_test1, test_result)\n",
    "r2 = r2_score(y_test1, test_result)\n",
    "\n",
    "# Print the results\n",
    "print(\"Evaluation Metrics:\")\n",
    "print(f\"Mean Absolute Error (MAE): {mae:.4f}\")\n",
    "print(f\"Mean Squared Error (MSE): {mse:.4f}\")\n",
    "print(f\"Root Mean Squared Error (RMSE): {rmse:.4f}\")\n",
    "print(f\"R-squared (Accuracy): {r2:.4f}\")"
   ]
  },
  {
   "cell_type": "code",
   "execution_count": null,
   "id": "0578be3d",
   "metadata": {
    "papermill": {
     "duration": 0.147901,
     "end_time": "2025-01-28T11:40:55.120287",
     "exception": false,
     "start_time": "2025-01-28T11:40:54.972386",
     "status": "completed"
    },
    "tags": []
   },
   "outputs": [],
   "source": []
  },
  {
   "cell_type": "code",
   "execution_count": null,
   "id": "7c8fe400",
   "metadata": {
    "papermill": {
     "duration": 0.143271,
     "end_time": "2025-01-28T11:40:55.410784",
     "exception": false,
     "start_time": "2025-01-28T11:40:55.267513",
     "status": "completed"
    },
    "tags": []
   },
   "outputs": [],
   "source": []
  },
  {
   "cell_type": "markdown",
   "id": "304b59e9",
   "metadata": {
    "papermill": {
     "duration": 0.146399,
     "end_time": "2025-01-28T11:40:55.704769",
     "exception": false,
     "start_time": "2025-01-28T11:40:55.558370",
     "status": "completed"
    },
    "tags": []
   },
   "source": [
    "## Model 6: GRU Model with Dropout"
   ]
  },
  {
   "cell_type": "code",
   "execution_count": 61,
   "id": "22599fa5",
   "metadata": {
    "execution": {
     "iopub.execute_input": "2025-01-28T11:40:56.058598Z",
     "iopub.status.busy": "2025-01-28T11:40:56.058175Z",
     "iopub.status.idle": "2025-01-28T11:41:25.205329Z",
     "shell.execute_reply": "2025-01-28T11:41:25.204106Z"
    },
    "papermill": {
     "duration": 29.35481,
     "end_time": "2025-01-28T11:41:25.207297",
     "exception": false,
     "start_time": "2025-01-28T11:40:55.852487",
     "status": "completed"
    },
    "tags": []
   },
   "outputs": [
    {
     "name": "stdout",
     "output_type": "stream",
     "text": [
      "Epoch 1/50\n",
      "\u001b[1m80/80\u001b[0m \u001b[32m━━━━━━━━━━━━━━━━━━━━\u001b[0m\u001b[37m\u001b[0m \u001b[1m4s\u001b[0m 11ms/step - loss: 30607.7188 - root_mean_squared_error: 174.8166 - val_loss: 21226.4883 - val_root_mean_squared_error: 145.6931\n",
      "Epoch 2/50\n",
      "\u001b[1m80/80\u001b[0m \u001b[32m━━━━━━━━━━━━━━━━━━━━\u001b[0m\u001b[37m\u001b[0m \u001b[1m1s\u001b[0m 7ms/step - loss: 17783.9824 - root_mean_squared_error: 133.2335 - val_loss: 14474.1689 - val_root_mean_squared_error: 120.3086\n",
      "Epoch 3/50\n",
      "\u001b[1m80/80\u001b[0m \u001b[32m━━━━━━━━━━━━━━━━━━━━\u001b[0m\u001b[37m\u001b[0m \u001b[1m1s\u001b[0m 7ms/step - loss: 10161.7549 - root_mean_squared_error: 100.7827 - val_loss: 12541.0107 - val_root_mean_squared_error: 111.9867\n",
      "Epoch 4/50\n",
      "\u001b[1m80/80\u001b[0m \u001b[32m━━━━━━━━━━━━━━━━━━━━\u001b[0m\u001b[37m\u001b[0m \u001b[1m1s\u001b[0m 6ms/step - loss: 8977.2324 - root_mean_squared_error: 94.6801 - val_loss: 11730.4453 - val_root_mean_squared_error: 108.3072\n",
      "Epoch 5/50\n",
      "\u001b[1m80/80\u001b[0m \u001b[32m━━━━━━━━━━━━━━━━━━━━\u001b[0m\u001b[37m\u001b[0m \u001b[1m1s\u001b[0m 7ms/step - loss: 7376.3398 - root_mean_squared_error: 85.8499 - val_loss: 10654.3877 - val_root_mean_squared_error: 103.2201\n",
      "Epoch 6/50\n",
      "\u001b[1m80/80\u001b[0m \u001b[32m━━━━━━━━━━━━━━━━━━━━\u001b[0m\u001b[37m\u001b[0m \u001b[1m1s\u001b[0m 7ms/step - loss: 6936.2822 - root_mean_squared_error: 83.2543 - val_loss: 10207.1514 - val_root_mean_squared_error: 101.0304\n",
      "Epoch 7/50\n",
      "\u001b[1m80/80\u001b[0m \u001b[32m━━━━━━━━━━━━━━━━━━━━\u001b[0m\u001b[37m\u001b[0m \u001b[1m1s\u001b[0m 6ms/step - loss: 6161.8486 - root_mean_squared_error: 78.2859 - val_loss: 9647.4170 - val_root_mean_squared_error: 98.2213\n",
      "Epoch 8/50\n",
      "\u001b[1m80/80\u001b[0m \u001b[32m━━━━━━━━━━━━━━━━━━━━\u001b[0m\u001b[37m\u001b[0m \u001b[1m1s\u001b[0m 6ms/step - loss: 6329.0786 - root_mean_squared_error: 79.3997 - val_loss: 9469.7646 - val_root_mean_squared_error: 97.3127\n",
      "Epoch 9/50\n",
      "\u001b[1m80/80\u001b[0m \u001b[32m━━━━━━━━━━━━━━━━━━━━\u001b[0m\u001b[37m\u001b[0m \u001b[1m1s\u001b[0m 6ms/step - loss: 5808.7583 - root_mean_squared_error: 76.0341 - val_loss: 9112.5361 - val_root_mean_squared_error: 95.4596\n",
      "Epoch 10/50\n",
      "\u001b[1m80/80\u001b[0m \u001b[32m━━━━━━━━━━━━━━━━━━━━\u001b[0m\u001b[37m\u001b[0m \u001b[1m1s\u001b[0m 6ms/step - loss: 6179.6987 - root_mean_squared_error: 78.3979 - val_loss: 9042.0986 - val_root_mean_squared_error: 95.0899\n",
      "Epoch 11/50\n",
      "\u001b[1m80/80\u001b[0m \u001b[32m━━━━━━━━━━━━━━━━━━━━\u001b[0m\u001b[37m\u001b[0m \u001b[1m1s\u001b[0m 6ms/step - loss: 5438.5708 - root_mean_squared_error: 73.6868 - val_loss: 8612.1045 - val_root_mean_squared_error: 92.8014\n",
      "Epoch 12/50\n",
      "\u001b[1m80/80\u001b[0m \u001b[32m━━━━━━━━━━━━━━━━━━━━\u001b[0m\u001b[37m\u001b[0m \u001b[1m1s\u001b[0m 6ms/step - loss: 5615.6006 - root_mean_squared_error: 74.8964 - val_loss: 8441.7354 - val_root_mean_squared_error: 91.8789\n",
      "Epoch 13/50\n",
      "\u001b[1m80/80\u001b[0m \u001b[32m━━━━━━━━━━━━━━━━━━━━\u001b[0m\u001b[37m\u001b[0m \u001b[1m1s\u001b[0m 6ms/step - loss: 5291.3057 - root_mean_squared_error: 72.6987 - val_loss: 8188.8564 - val_root_mean_squared_error: 90.4923\n",
      "Epoch 14/50\n",
      "\u001b[1m80/80\u001b[0m \u001b[32m━━━━━━━━━━━━━━━━━━━━\u001b[0m\u001b[37m\u001b[0m \u001b[1m1s\u001b[0m 6ms/step - loss: 5301.4780 - root_mean_squared_error: 72.7281 - val_loss: 8069.4424 - val_root_mean_squared_error: 89.8301\n",
      "Epoch 15/50\n",
      "\u001b[1m80/80\u001b[0m \u001b[32m━━━━━━━━━━━━━━━━━━━━\u001b[0m\u001b[37m\u001b[0m \u001b[1m1s\u001b[0m 6ms/step - loss: 5040.5132 - root_mean_squared_error: 70.9360 - val_loss: 7966.1958 - val_root_mean_squared_error: 89.2535\n",
      "Epoch 16/50\n",
      "\u001b[1m80/80\u001b[0m \u001b[32m━━━━━━━━━━━━━━━━━━━━\u001b[0m\u001b[37m\u001b[0m \u001b[1m1s\u001b[0m 6ms/step - loss: 5117.8071 - root_mean_squared_error: 71.4715 - val_loss: 7857.2095 - val_root_mean_squared_error: 88.6409\n",
      "Epoch 17/50\n",
      "\u001b[1m80/80\u001b[0m \u001b[32m━━━━━━━━━━━━━━━━━━━━\u001b[0m\u001b[37m\u001b[0m \u001b[1m0s\u001b[0m 6ms/step - loss: 5199.0522 - root_mean_squared_error: 72.0420 - val_loss: 7897.3379 - val_root_mean_squared_error: 88.8670\n",
      "Epoch 18/50\n",
      "\u001b[1m80/80\u001b[0m \u001b[32m━━━━━━━━━━━━━━━━━━━━\u001b[0m\u001b[37m\u001b[0m \u001b[1m0s\u001b[0m 6ms/step - loss: 5461.5864 - root_mean_squared_error: 73.7942 - val_loss: 7964.5503 - val_root_mean_squared_error: 89.2443\n",
      "Epoch 19/50\n",
      "\u001b[1m80/80\u001b[0m \u001b[32m━━━━━━━━━━━━━━━━━━━━\u001b[0m\u001b[37m\u001b[0m \u001b[1m0s\u001b[0m 6ms/step - loss: 5605.5522 - root_mean_squared_error: 74.7566 - val_loss: 8048.8369 - val_root_mean_squared_error: 89.7153\n",
      "Epoch 20/50\n",
      "\u001b[1m80/80\u001b[0m \u001b[32m━━━━━━━━━━━━━━━━━━━━\u001b[0m\u001b[37m\u001b[0m \u001b[1m1s\u001b[0m 6ms/step - loss: 5263.3379 - root_mean_squared_error: 72.4494 - val_loss: 7706.3330 - val_root_mean_squared_error: 87.7857\n",
      "Epoch 21/50\n",
      "\u001b[1m80/80\u001b[0m \u001b[32m━━━━━━━━━━━━━━━━━━━━\u001b[0m\u001b[37m\u001b[0m \u001b[1m0s\u001b[0m 6ms/step - loss: 5636.5010 - root_mean_squared_error: 75.0152 - val_loss: 7688.1812 - val_root_mean_squared_error: 87.6823\n",
      "Epoch 22/50\n",
      "\u001b[1m80/80\u001b[0m \u001b[32m━━━━━━━━━━━━━━━━━━━━\u001b[0m\u001b[37m\u001b[0m \u001b[1m1s\u001b[0m 6ms/step - loss: 5147.4419 - root_mean_squared_error: 71.7156 - val_loss: 7816.1304 - val_root_mean_squared_error: 88.4089\n",
      "Epoch 23/50\n",
      "\u001b[1m80/80\u001b[0m \u001b[32m━━━━━━━━━━━━━━━━━━━━\u001b[0m\u001b[37m\u001b[0m \u001b[1m1s\u001b[0m 6ms/step - loss: 5460.1719 - root_mean_squared_error: 73.8143 - val_loss: 7666.5688 - val_root_mean_squared_error: 87.5589\n",
      "Epoch 24/50\n",
      "\u001b[1m80/80\u001b[0m \u001b[32m━━━━━━━━━━━━━━━━━━━━\u001b[0m\u001b[37m\u001b[0m \u001b[1m1s\u001b[0m 6ms/step - loss: 6497.1108 - root_mean_squared_error: 80.3425 - val_loss: 7654.2314 - val_root_mean_squared_error: 87.4885\n",
      "Epoch 25/50\n",
      "\u001b[1m80/80\u001b[0m \u001b[32m━━━━━━━━━━━━━━━━━━━━\u001b[0m\u001b[37m\u001b[0m \u001b[1m1s\u001b[0m 6ms/step - loss: 5742.0381 - root_mean_squared_error: 75.7358 - val_loss: 7605.8540 - val_root_mean_squared_error: 87.2115\n",
      "Epoch 26/50\n",
      "\u001b[1m80/80\u001b[0m \u001b[32m━━━━━━━━━━━━━━━━━━━━\u001b[0m\u001b[37m\u001b[0m \u001b[1m1s\u001b[0m 6ms/step - loss: 5379.3179 - root_mean_squared_error: 73.2946 - val_loss: 7745.3979 - val_root_mean_squared_error: 88.0079\n",
      "Epoch 27/50\n",
      "\u001b[1m80/80\u001b[0m \u001b[32m━━━━━━━━━━━━━━━━━━━━\u001b[0m\u001b[37m\u001b[0m \u001b[1m1s\u001b[0m 6ms/step - loss: 5177.3809 - root_mean_squared_error: 71.9093 - val_loss: 7635.2134 - val_root_mean_squared_error: 87.3797\n",
      "Epoch 28/50\n",
      "\u001b[1m80/80\u001b[0m \u001b[32m━━━━━━━━━━━━━━━━━━━━\u001b[0m\u001b[37m\u001b[0m \u001b[1m1s\u001b[0m 7ms/step - loss: 5273.7319 - root_mean_squared_error: 72.4665 - val_loss: 7596.1548 - val_root_mean_squared_error: 87.1559\n",
      "Epoch 29/50\n",
      "\u001b[1m80/80\u001b[0m \u001b[32m━━━━━━━━━━━━━━━━━━━━\u001b[0m\u001b[37m\u001b[0m \u001b[1m1s\u001b[0m 7ms/step - loss: 5621.0264 - root_mean_squared_error: 74.9305 - val_loss: 7486.8745 - val_root_mean_squared_error: 86.5267\n",
      "Epoch 30/50\n",
      "\u001b[1m80/80\u001b[0m \u001b[32m━━━━━━━━━━━━━━━━━━━━\u001b[0m\u001b[37m\u001b[0m \u001b[1m1s\u001b[0m 6ms/step - loss: 4748.7676 - root_mean_squared_error: 68.8037 - val_loss: 7417.6543 - val_root_mean_squared_error: 86.1258\n",
      "Epoch 31/50\n",
      "\u001b[1m80/80\u001b[0m \u001b[32m━━━━━━━━━━━━━━━━━━━━\u001b[0m\u001b[37m\u001b[0m \u001b[1m0s\u001b[0m 6ms/step - loss: 5037.2515 - root_mean_squared_error: 70.9307 - val_loss: 7507.1758 - val_root_mean_squared_error: 86.6440\n",
      "Epoch 32/50\n",
      "\u001b[1m80/80\u001b[0m \u001b[32m━━━━━━━━━━━━━━━━━━━━\u001b[0m\u001b[37m\u001b[0m \u001b[1m0s\u001b[0m 6ms/step - loss: 5109.9619 - root_mean_squared_error: 71.4403 - val_loss: 7442.6006 - val_root_mean_squared_error: 86.2705\n",
      "Epoch 33/50\n",
      "\u001b[1m80/80\u001b[0m \u001b[32m━━━━━━━━━━━━━━━━━━━━\u001b[0m\u001b[37m\u001b[0m \u001b[1m1s\u001b[0m 6ms/step - loss: 5199.9990 - root_mean_squared_error: 71.9615 - val_loss: 7761.9878 - val_root_mean_squared_error: 88.1021\n",
      "Epoch 34/50\n",
      "\u001b[1m80/80\u001b[0m \u001b[32m━━━━━━━━━━━━━━━━━━━━\u001b[0m\u001b[37m\u001b[0m \u001b[1m0s\u001b[0m 6ms/step - loss: 5080.5796 - root_mean_squared_error: 71.2239 - val_loss: 7781.5391 - val_root_mean_squared_error: 88.2130\n",
      "Epoch 35/50\n",
      "\u001b[1m80/80\u001b[0m \u001b[32m━━━━━━━━━━━━━━━━━━━━\u001b[0m\u001b[37m\u001b[0m \u001b[1m1s\u001b[0m 6ms/step - loss: 5930.2178 - root_mean_squared_error: 76.8016 - val_loss: 7677.6504 - val_root_mean_squared_error: 87.6222\n",
      "Epoch 36/50\n",
      "\u001b[1m80/80\u001b[0m \u001b[32m━━━━━━━━━━━━━━━━━━━━\u001b[0m\u001b[37m\u001b[0m \u001b[1m1s\u001b[0m 6ms/step - loss: 5028.2710 - root_mean_squared_error: 70.8394 - val_loss: 7505.2324 - val_root_mean_squared_error: 86.6327\n",
      "Epoch 37/50\n",
      "\u001b[1m80/80\u001b[0m \u001b[32m━━━━━━━━━━━━━━━━━━━━\u001b[0m\u001b[37m\u001b[0m \u001b[1m1s\u001b[0m 6ms/step - loss: 5319.0400 - root_mean_squared_error: 72.8048 - val_loss: 7736.4839 - val_root_mean_squared_error: 87.9573\n",
      "Epoch 38/50\n",
      "\u001b[1m80/80\u001b[0m \u001b[32m━━━━━━━━━━━━━━━━━━━━\u001b[0m\u001b[37m\u001b[0m \u001b[1m1s\u001b[0m 6ms/step - loss: 5695.2583 - root_mean_squared_error: 75.3970 - val_loss: 7500.1367 - val_root_mean_squared_error: 86.6033\n",
      "Epoch 39/50\n",
      "\u001b[1m80/80\u001b[0m \u001b[32m━━━━━━━━━━━━━━━━━━━━\u001b[0m\u001b[37m\u001b[0m \u001b[1m0s\u001b[0m 6ms/step - loss: 5699.6201 - root_mean_squared_error: 75.3928 - val_loss: 7670.6699 - val_root_mean_squared_error: 87.5824\n",
      "Epoch 40/50\n",
      "\u001b[1m80/80\u001b[0m \u001b[32m━━━━━━━━━━━━━━━━━━━━\u001b[0m\u001b[37m\u001b[0m \u001b[1m0s\u001b[0m 6ms/step - loss: 5196.4683 - root_mean_squared_error: 72.0557 - val_loss: 7487.6948 - val_root_mean_squared_error: 86.5315\n",
      "Epoch 41/50\n",
      "\u001b[1m80/80\u001b[0m \u001b[32m━━━━━━━━━━━━━━━━━━━━\u001b[0m\u001b[37m\u001b[0m \u001b[1m1s\u001b[0m 6ms/step - loss: 6096.2354 - root_mean_squared_error: 77.9783 - val_loss: 7791.5952 - val_root_mean_squared_error: 88.2700\n",
      "Epoch 42/50\n",
      "\u001b[1m80/80\u001b[0m \u001b[32m━━━━━━━━━━━━━━━━━━━━\u001b[0m\u001b[37m\u001b[0m \u001b[1m0s\u001b[0m 6ms/step - loss: 6203.0503 - root_mean_squared_error: 78.6556 - val_loss: 7584.2729 - val_root_mean_squared_error: 87.0877\n",
      "Epoch 43/50\n",
      "\u001b[1m80/80\u001b[0m \u001b[32m━━━━━━━━━━━━━━━━━━━━\u001b[0m\u001b[37m\u001b[0m \u001b[1m0s\u001b[0m 6ms/step - loss: 5179.4390 - root_mean_squared_error: 71.7592 - val_loss: 7589.5337 - val_root_mean_squared_error: 87.1179\n",
      "Epoch 44/50\n",
      "\u001b[1m80/80\u001b[0m \u001b[32m━━━━━━━━━━━━━━━━━━━━\u001b[0m\u001b[37m\u001b[0m \u001b[1m1s\u001b[0m 6ms/step - loss: 5315.3682 - root_mean_squared_error: 72.8244 - val_loss: 7736.0845 - val_root_mean_squared_error: 87.9550\n",
      "Epoch 45/50\n",
      "\u001b[1m80/80\u001b[0m \u001b[32m━━━━━━━━━━━━━━━━━━━━\u001b[0m\u001b[37m\u001b[0m \u001b[1m0s\u001b[0m 6ms/step - loss: 5697.7222 - root_mean_squared_error: 75.4162 - val_loss: 7666.8252 - val_root_mean_squared_error: 87.5604\n",
      "Epoch 46/50\n",
      "\u001b[1m80/80\u001b[0m \u001b[32m━━━━━━━━━━━━━━━━━━━━\u001b[0m\u001b[37m\u001b[0m \u001b[1m0s\u001b[0m 6ms/step - loss: 5692.5664 - root_mean_squared_error: 75.3878 - val_loss: 7718.6016 - val_root_mean_squared_error: 87.8556\n",
      "Epoch 47/50\n",
      "\u001b[1m80/80\u001b[0m \u001b[32m━━━━━━━━━━━━━━━━━━━━\u001b[0m\u001b[37m\u001b[0m \u001b[1m0s\u001b[0m 6ms/step - loss: 5718.7192 - root_mean_squared_error: 75.4071 - val_loss: 7636.9355 - val_root_mean_squared_error: 87.3896\n",
      "Epoch 48/50\n",
      "\u001b[1m80/80\u001b[0m \u001b[32m━━━━━━━━━━━━━━━━━━━━\u001b[0m\u001b[37m\u001b[0m \u001b[1m0s\u001b[0m 6ms/step - loss: 6110.6436 - root_mean_squared_error: 78.0200 - val_loss: 7702.2710 - val_root_mean_squared_error: 87.7626\n",
      "Epoch 49/50\n",
      "\u001b[1m80/80\u001b[0m \u001b[32m━━━━━━━━━━━━━━━━━━━━\u001b[0m\u001b[37m\u001b[0m \u001b[1m0s\u001b[0m 6ms/step - loss: 5670.1299 - root_mean_squared_error: 75.2474 - val_loss: 7800.7314 - val_root_mean_squared_error: 88.3217\n",
      "Epoch 50/50\n",
      "\u001b[1m80/80\u001b[0m \u001b[32m━━━━━━━━━━━━━━━━━━━━\u001b[0m\u001b[37m\u001b[0m \u001b[1m0s\u001b[0m 6ms/step - loss: 5126.0884 - root_mean_squared_error: 71.5690 - val_loss: 7593.7852 - val_root_mean_squared_error: 87.1423\n"
     ]
    },
    {
     "data": {
      "text/plain": [
       "<keras.src.callbacks.history.History at 0x7b331f6454b0>"
      ]
     },
     "execution_count": 61,
     "metadata": {},
     "output_type": "execute_result"
    }
   ],
   "source": [
    "model6 = Sequential()\n",
    "model6.add(InputLayer((6, 6)))  # 6 timestamps, 6 features\n",
    "model6.add(BatchNormalization())  # Normalize inputs\n",
    "model6.add(GRU(64, activation='relu', return_sequences=True))  # GRU layer\n",
    "model6.add(Dropout(0.3))  # Dropout for regularization\n",
    "model6.add(Dense(32, activation='relu'))  \n",
    "model6.add(Dense(1, activation='linear'))  \n",
    "\n",
    "cp6 = ModelCheckpoint('/kaggle/working/model6.keras', save_best_only=True)\n",
    "\n",
    "model6.compile(loss=MeanSquaredError(), optimizer=Adam(learning_rate=0.001), \n",
    "               metrics=[RootMeanSquaredError()])\n",
    "\n",
    "model6.fit(X_train1, y_train1, validation_data=(X_val1, y_val1), epochs=50, \n",
    "           callbacks=[cp6])"
   ]
  },
  {
   "cell_type": "code",
   "execution_count": null,
   "id": "9d2d6300",
   "metadata": {
    "papermill": {
     "duration": 0.176267,
     "end_time": "2025-01-28T11:41:25.567877",
     "exception": false,
     "start_time": "2025-01-28T11:41:25.391610",
     "status": "completed"
    },
    "tags": []
   },
   "outputs": [],
   "source": []
  },
  {
   "cell_type": "code",
   "execution_count": null,
   "id": "df37742b",
   "metadata": {
    "papermill": {
     "duration": 0.180342,
     "end_time": "2025-01-28T11:41:25.925467",
     "exception": false,
     "start_time": "2025-01-28T11:41:25.745125",
     "status": "completed"
    },
    "tags": []
   },
   "outputs": [],
   "source": []
  },
  {
   "cell_type": "markdown",
   "id": "317ac18b",
   "metadata": {
    "papermill": {
     "duration": 0.179096,
     "end_time": "2025-01-28T11:41:26.285750",
     "exception": false,
     "start_time": "2025-01-28T11:41:26.106654",
     "status": "completed"
    },
    "tags": []
   },
   "source": [
    "## Model 7: Bidirectional LSTM"
   ]
  },
  {
   "cell_type": "code",
   "execution_count": 62,
   "id": "42ae2873",
   "metadata": {
    "execution": {
     "iopub.execute_input": "2025-01-28T11:41:26.708608Z",
     "iopub.status.busy": "2025-01-28T11:41:26.708222Z",
     "iopub.status.idle": "2025-01-28T11:41:51.684666Z",
     "shell.execute_reply": "2025-01-28T11:41:51.683497Z"
    },
    "papermill": {
     "duration": 25.2191,
     "end_time": "2025-01-28T11:41:51.686468",
     "exception": false,
     "start_time": "2025-01-28T11:41:26.467368",
     "status": "completed"
    },
    "tags": []
   },
   "outputs": [
    {
     "name": "stdout",
     "output_type": "stream",
     "text": [
      "Epoch 1/50\n",
      "\u001b[1m80/80\u001b[0m \u001b[32m━━━━━━━━━━━━━━━━━━━━\u001b[0m\u001b[37m\u001b[0m \u001b[1m1s\u001b[0m 7ms/step - loss: 5082.6069 - root_mean_squared_error: 71.2542 - val_loss: 7581.1636 - val_root_mean_squared_error: 87.0699\n",
      "Epoch 2/50\n",
      "\u001b[1m80/80\u001b[0m \u001b[32m━━━━━━━━━━━━━━━━━━━━\u001b[0m\u001b[37m\u001b[0m \u001b[1m0s\u001b[0m 6ms/step - loss: 5131.3438 - root_mean_squared_error: 71.5972 - val_loss: 7635.0625 - val_root_mean_squared_error: 87.3788\n",
      "Epoch 3/50\n",
      "\u001b[1m80/80\u001b[0m \u001b[32m━━━━━━━━━━━━━━━━━━━━\u001b[0m\u001b[37m\u001b[0m \u001b[1m0s\u001b[0m 6ms/step - loss: 4787.5547 - root_mean_squared_error: 69.1223 - val_loss: 7640.1787 - val_root_mean_squared_error: 87.4081\n",
      "Epoch 4/50\n",
      "\u001b[1m80/80\u001b[0m \u001b[32m━━━━━━━━━━━━━━━━━━━━\u001b[0m\u001b[37m\u001b[0m \u001b[1m0s\u001b[0m 6ms/step - loss: 5533.4795 - root_mean_squared_error: 74.3107 - val_loss: 7856.4727 - val_root_mean_squared_error: 88.6367\n",
      "Epoch 5/50\n",
      "\u001b[1m80/80\u001b[0m \u001b[32m━━━━━━━━━━━━━━━━━━━━\u001b[0m\u001b[37m\u001b[0m \u001b[1m0s\u001b[0m 6ms/step - loss: 5549.4692 - root_mean_squared_error: 74.2460 - val_loss: 7723.8379 - val_root_mean_squared_error: 87.8854\n",
      "Epoch 6/50\n",
      "\u001b[1m80/80\u001b[0m \u001b[32m━━━━━━━━━━━━━━━━━━━━\u001b[0m\u001b[37m\u001b[0m \u001b[1m0s\u001b[0m 6ms/step - loss: 4527.3154 - root_mean_squared_error: 67.1430 - val_loss: 7758.6504 - val_root_mean_squared_error: 88.0832\n",
      "Epoch 7/50\n",
      "\u001b[1m80/80\u001b[0m \u001b[32m━━━━━━━━━━━━━━━━━━━━\u001b[0m\u001b[37m\u001b[0m \u001b[1m1s\u001b[0m 6ms/step - loss: 5869.3125 - root_mean_squared_error: 76.0583 - val_loss: 7748.7573 - val_root_mean_squared_error: 88.0270\n",
      "Epoch 8/50\n",
      "\u001b[1m80/80\u001b[0m \u001b[32m━━━━━━━━━━━━━━━━━━━━\u001b[0m\u001b[37m\u001b[0m \u001b[1m1s\u001b[0m 7ms/step - loss: 5093.1191 - root_mean_squared_error: 71.1621 - val_loss: 7752.6938 - val_root_mean_squared_error: 88.0494\n",
      "Epoch 9/50\n",
      "\u001b[1m80/80\u001b[0m \u001b[32m━━━━━━━━━━━━━━━━━━━━\u001b[0m\u001b[37m\u001b[0m \u001b[1m1s\u001b[0m 7ms/step - loss: 5567.8291 - root_mean_squared_error: 74.5613 - val_loss: 7802.2939 - val_root_mean_squared_error: 88.3306\n",
      "Epoch 10/50\n",
      "\u001b[1m80/80\u001b[0m \u001b[32m━━━━━━━━━━━━━━━━━━━━\u001b[0m\u001b[37m\u001b[0m \u001b[1m1s\u001b[0m 7ms/step - loss: 5704.8013 - root_mean_squared_error: 75.4397 - val_loss: 7826.6924 - val_root_mean_squared_error: 88.4686\n",
      "Epoch 11/50\n",
      "\u001b[1m80/80\u001b[0m \u001b[32m━━━━━━━━━━━━━━━━━━━━\u001b[0m\u001b[37m\u001b[0m \u001b[1m0s\u001b[0m 6ms/step - loss: 4930.1016 - root_mean_squared_error: 69.9643 - val_loss: 7687.3252 - val_root_mean_squared_error: 87.6774\n",
      "Epoch 12/50\n",
      "\u001b[1m80/80\u001b[0m \u001b[32m━━━━━━━━━━━━━━━━━━━━\u001b[0m\u001b[37m\u001b[0m \u001b[1m0s\u001b[0m 6ms/step - loss: 5545.8716 - root_mean_squared_error: 74.4036 - val_loss: 7833.5454 - val_root_mean_squared_error: 88.5073\n",
      "Epoch 13/50\n",
      "\u001b[1m80/80\u001b[0m \u001b[32m━━━━━━━━━━━━━━━━━━━━\u001b[0m\u001b[37m\u001b[0m \u001b[1m0s\u001b[0m 6ms/step - loss: 4724.6606 - root_mean_squared_error: 68.6092 - val_loss: 7741.3013 - val_root_mean_squared_error: 87.9847\n",
      "Epoch 14/50\n",
      "\u001b[1m80/80\u001b[0m \u001b[32m━━━━━━━━━━━━━━━━━━━━\u001b[0m\u001b[37m\u001b[0m \u001b[1m0s\u001b[0m 6ms/step - loss: 5062.3887 - root_mean_squared_error: 71.1135 - val_loss: 7776.9160 - val_root_mean_squared_error: 88.1868\n",
      "Epoch 15/50\n",
      "\u001b[1m80/80\u001b[0m \u001b[32m━━━━━━━━━━━━━━━━━━━━\u001b[0m\u001b[37m\u001b[0m \u001b[1m0s\u001b[0m 6ms/step - loss: 5309.6133 - root_mean_squared_error: 72.7308 - val_loss: 7753.7778 - val_root_mean_squared_error: 88.0555\n",
      "Epoch 16/50\n",
      "\u001b[1m80/80\u001b[0m \u001b[32m━━━━━━━━━━━━━━━━━━━━\u001b[0m\u001b[37m\u001b[0m \u001b[1m0s\u001b[0m 6ms/step - loss: 5073.4829 - root_mean_squared_error: 71.1437 - val_loss: 7678.8477 - val_root_mean_squared_error: 87.6290\n",
      "Epoch 17/50\n",
      "\u001b[1m80/80\u001b[0m \u001b[32m━━━━━━━━━━━━━━━━━━━━\u001b[0m\u001b[37m\u001b[0m \u001b[1m0s\u001b[0m 6ms/step - loss: 5148.0151 - root_mean_squared_error: 71.6806 - val_loss: 7662.3452 - val_root_mean_squared_error: 87.5348\n",
      "Epoch 18/50\n",
      "\u001b[1m80/80\u001b[0m \u001b[32m━━━━━━━━━━━━━━━━━━━━\u001b[0m\u001b[37m\u001b[0m \u001b[1m0s\u001b[0m 6ms/step - loss: 6003.9775 - root_mean_squared_error: 77.3470 - val_loss: 7773.4199 - val_root_mean_squared_error: 88.1670\n",
      "Epoch 19/50\n",
      "\u001b[1m80/80\u001b[0m \u001b[32m━━━━━━━━━━━━━━━━━━━━\u001b[0m\u001b[37m\u001b[0m \u001b[1m0s\u001b[0m 6ms/step - loss: 5350.6284 - root_mean_squared_error: 72.9543 - val_loss: 7776.6548 - val_root_mean_squared_error: 88.1853\n",
      "Epoch 20/50\n",
      "\u001b[1m80/80\u001b[0m \u001b[32m━━━━━━━━━━━━━━━━━━━━\u001b[0m\u001b[37m\u001b[0m \u001b[1m0s\u001b[0m 6ms/step - loss: 5288.7485 - root_mean_squared_error: 72.6026 - val_loss: 7754.7510 - val_root_mean_squared_error: 88.0611\n",
      "Epoch 21/50\n",
      "\u001b[1m80/80\u001b[0m \u001b[32m━━━━━━━━━━━━━━━━━━━━\u001b[0m\u001b[37m\u001b[0m \u001b[1m0s\u001b[0m 6ms/step - loss: 5071.9888 - root_mean_squared_error: 71.1901 - val_loss: 7777.3970 - val_root_mean_squared_error: 88.1896\n",
      "Epoch 22/50\n",
      "\u001b[1m80/80\u001b[0m \u001b[32m━━━━━━━━━━━━━━━━━━━━\u001b[0m\u001b[37m\u001b[0m \u001b[1m0s\u001b[0m 6ms/step - loss: 5428.0088 - root_mean_squared_error: 73.5951 - val_loss: 7628.7100 - val_root_mean_squared_error: 87.3425\n",
      "Epoch 23/50\n",
      "\u001b[1m80/80\u001b[0m \u001b[32m━━━━━━━━━━━━━━━━━━━━\u001b[0m\u001b[37m\u001b[0m \u001b[1m0s\u001b[0m 6ms/step - loss: 4791.1387 - root_mean_squared_error: 69.1639 - val_loss: 7654.8125 - val_root_mean_squared_error: 87.4918\n",
      "Epoch 24/50\n",
      "\u001b[1m80/80\u001b[0m \u001b[32m━━━━━━━━━━━━━━━━━━━━\u001b[0m\u001b[37m\u001b[0m \u001b[1m0s\u001b[0m 6ms/step - loss: 4993.4771 - root_mean_squared_error: 70.3730 - val_loss: 7678.9458 - val_root_mean_squared_error: 87.6296\n",
      "Epoch 25/50\n",
      "\u001b[1m80/80\u001b[0m \u001b[32m━━━━━━━━━━━━━━━━━━━━\u001b[0m\u001b[37m\u001b[0m \u001b[1m0s\u001b[0m 6ms/step - loss: 5979.8027 - root_mean_squared_error: 77.2502 - val_loss: 7902.3433 - val_root_mean_squared_error: 88.8951\n",
      "Epoch 26/50\n",
      "\u001b[1m80/80\u001b[0m \u001b[32m━━━━━━━━━━━━━━━━━━━━\u001b[0m\u001b[37m\u001b[0m \u001b[1m0s\u001b[0m 6ms/step - loss: 5914.3418 - root_mean_squared_error: 76.6293 - val_loss: 7805.4282 - val_root_mean_squared_error: 88.3483\n",
      "Epoch 27/50\n",
      "\u001b[1m80/80\u001b[0m \u001b[32m━━━━━━━━━━━━━━━━━━━━\u001b[0m\u001b[37m\u001b[0m \u001b[1m0s\u001b[0m 6ms/step - loss: 5970.1802 - root_mean_squared_error: 76.7414 - val_loss: 7765.1973 - val_root_mean_squared_error: 88.1204\n",
      "Epoch 28/50\n",
      "\u001b[1m80/80\u001b[0m \u001b[32m━━━━━━━━━━━━━━━━━━━━\u001b[0m\u001b[37m\u001b[0m \u001b[1m1s\u001b[0m 6ms/step - loss: 5286.5444 - root_mean_squared_error: 72.5651 - val_loss: 7832.3477 - val_root_mean_squared_error: 88.5005\n",
      "Epoch 29/50\n",
      "\u001b[1m80/80\u001b[0m \u001b[32m━━━━━━━━━━━━━━━━━━━━\u001b[0m\u001b[37m\u001b[0m \u001b[1m0s\u001b[0m 6ms/step - loss: 5410.1958 - root_mean_squared_error: 73.4387 - val_loss: 7659.3770 - val_root_mean_squared_error: 87.5179\n",
      "Epoch 30/50\n",
      "\u001b[1m80/80\u001b[0m \u001b[32m━━━━━━━━━━━━━━━━━━━━\u001b[0m\u001b[37m\u001b[0m \u001b[1m0s\u001b[0m 6ms/step - loss: 5192.6343 - root_mean_squared_error: 71.9843 - val_loss: 7701.8970 - val_root_mean_squared_error: 87.7605\n",
      "Epoch 31/50\n",
      "\u001b[1m80/80\u001b[0m \u001b[32m━━━━━━━━━━━━━━━━━━━━\u001b[0m\u001b[37m\u001b[0m \u001b[1m0s\u001b[0m 6ms/step - loss: 5071.6787 - root_mean_squared_error: 71.1739 - val_loss: 7788.9058 - val_root_mean_squared_error: 88.2548\n",
      "Epoch 32/50\n",
      "\u001b[1m80/80\u001b[0m \u001b[32m━━━━━━━━━━━━━━━━━━━━\u001b[0m\u001b[37m\u001b[0m \u001b[1m0s\u001b[0m 6ms/step - loss: 4602.0537 - root_mean_squared_error: 67.5430 - val_loss: 7611.4727 - val_root_mean_squared_error: 87.2438\n",
      "Epoch 33/50\n",
      "\u001b[1m80/80\u001b[0m \u001b[32m━━━━━━━━━━━━━━━━━━━━\u001b[0m\u001b[37m\u001b[0m \u001b[1m0s\u001b[0m 6ms/step - loss: 5042.3271 - root_mean_squared_error: 70.9555 - val_loss: 7758.9858 - val_root_mean_squared_error: 88.0851\n",
      "Epoch 34/50\n",
      "\u001b[1m80/80\u001b[0m \u001b[32m━━━━━━━━━━━━━━━━━━━━\u001b[0m\u001b[37m\u001b[0m \u001b[1m0s\u001b[0m 6ms/step - loss: 5227.0991 - root_mean_squared_error: 72.2486 - val_loss: 7651.8345 - val_root_mean_squared_error: 87.4748\n",
      "Epoch 35/50\n",
      "\u001b[1m80/80\u001b[0m \u001b[32m━━━━━━━━━━━━━━━━━━━━\u001b[0m\u001b[37m\u001b[0m \u001b[1m1s\u001b[0m 6ms/step - loss: 5162.8647 - root_mean_squared_error: 71.8054 - val_loss: 7821.3306 - val_root_mean_squared_error: 88.4383\n",
      "Epoch 36/50\n",
      "\u001b[1m80/80\u001b[0m \u001b[32m━━━━━━━━━━━━━━━━━━━━\u001b[0m\u001b[37m\u001b[0m \u001b[1m0s\u001b[0m 6ms/step - loss: 5947.6333 - root_mean_squared_error: 76.9959 - val_loss: 7700.1797 - val_root_mean_squared_error: 87.7507\n",
      "Epoch 37/50\n",
      "\u001b[1m80/80\u001b[0m \u001b[32m━━━━━━━━━━━━━━━━━━━━\u001b[0m\u001b[37m\u001b[0m \u001b[1m0s\u001b[0m 6ms/step - loss: 5186.6523 - root_mean_squared_error: 71.9750 - val_loss: 7731.7524 - val_root_mean_squared_error: 87.9304\n",
      "Epoch 38/50\n",
      "\u001b[1m80/80\u001b[0m \u001b[32m━━━━━━━━━━━━━━━━━━━━\u001b[0m\u001b[37m\u001b[0m \u001b[1m0s\u001b[0m 6ms/step - loss: 5630.6992 - root_mean_squared_error: 74.8012 - val_loss: 7764.4282 - val_root_mean_squared_error: 88.1160\n",
      "Epoch 39/50\n",
      "\u001b[1m80/80\u001b[0m \u001b[32m━━━━━━━━━━━━━━━━━━━━\u001b[0m\u001b[37m\u001b[0m \u001b[1m0s\u001b[0m 6ms/step - loss: 5735.1328 - root_mean_squared_error: 75.6605 - val_loss: 7748.6216 - val_root_mean_squared_error: 88.0263\n",
      "Epoch 40/50\n",
      "\u001b[1m80/80\u001b[0m \u001b[32m━━━━━━━━━━━━━━━━━━━━\u001b[0m\u001b[37m\u001b[0m \u001b[1m0s\u001b[0m 6ms/step - loss: 5265.6323 - root_mean_squared_error: 72.5361 - val_loss: 7795.9609 - val_root_mean_squared_error: 88.2947\n",
      "Epoch 41/50\n",
      "\u001b[1m80/80\u001b[0m \u001b[32m━━━━━━━━━━━━━━━━━━━━\u001b[0m\u001b[37m\u001b[0m \u001b[1m0s\u001b[0m 6ms/step - loss: 6106.6221 - root_mean_squared_error: 77.8730 - val_loss: 7685.3521 - val_root_mean_squared_error: 87.6661\n",
      "Epoch 42/50\n",
      "\u001b[1m80/80\u001b[0m \u001b[32m━━━━━━━━━━━━━━━━━━━━\u001b[0m\u001b[37m\u001b[0m \u001b[1m0s\u001b[0m 6ms/step - loss: 4782.5366 - root_mean_squared_error: 69.0853 - val_loss: 7630.8896 - val_root_mean_squared_error: 87.3550\n",
      "Epoch 43/50\n",
      "\u001b[1m80/80\u001b[0m \u001b[32m━━━━━━━━━━━━━━━━━━━━\u001b[0m\u001b[37m\u001b[0m \u001b[1m0s\u001b[0m 6ms/step - loss: 5435.3506 - root_mean_squared_error: 73.6166 - val_loss: 7865.9331 - val_root_mean_squared_error: 88.6901\n",
      "Epoch 44/50\n",
      "\u001b[1m80/80\u001b[0m \u001b[32m━━━━━━━━━━━━━━━━━━━━\u001b[0m\u001b[37m\u001b[0m \u001b[1m0s\u001b[0m 6ms/step - loss: 5392.5947 - root_mean_squared_error: 73.3218 - val_loss: 7846.2314 - val_root_mean_squared_error: 88.5790\n",
      "Epoch 45/50\n",
      "\u001b[1m80/80\u001b[0m \u001b[32m━━━━━━━━━━━━━━━━━━━━\u001b[0m\u001b[37m\u001b[0m \u001b[1m0s\u001b[0m 6ms/step - loss: 5442.1538 - root_mean_squared_error: 73.6890 - val_loss: 7799.3667 - val_root_mean_squared_error: 88.3140\n",
      "Epoch 46/50\n",
      "\u001b[1m80/80\u001b[0m \u001b[32m━━━━━━━━━━━━━━━━━━━━\u001b[0m\u001b[37m\u001b[0m \u001b[1m0s\u001b[0m 6ms/step - loss: 5009.5034 - root_mean_squared_error: 70.6955 - val_loss: 7617.5605 - val_root_mean_squared_error: 87.2786\n",
      "Epoch 47/50\n",
      "\u001b[1m80/80\u001b[0m \u001b[32m━━━━━━━━━━━━━━━━━━━━\u001b[0m\u001b[37m\u001b[0m \u001b[1m0s\u001b[0m 6ms/step - loss: 4906.1357 - root_mean_squared_error: 69.9703 - val_loss: 7744.0967 - val_root_mean_squared_error: 88.0005\n",
      "Epoch 48/50\n",
      "\u001b[1m80/80\u001b[0m \u001b[32m━━━━━━━━━━━━━━━━━━━━\u001b[0m\u001b[37m\u001b[0m \u001b[1m1s\u001b[0m 6ms/step - loss: 5159.5864 - root_mean_squared_error: 71.7563 - val_loss: 7867.9722 - val_root_mean_squared_error: 88.7016\n",
      "Epoch 49/50\n",
      "\u001b[1m80/80\u001b[0m \u001b[32m━━━━━━━━━━━━━━━━━━━━\u001b[0m\u001b[37m\u001b[0m \u001b[1m0s\u001b[0m 6ms/step - loss: 5530.9048 - root_mean_squared_error: 74.3028 - val_loss: 7722.4072 - val_root_mean_squared_error: 87.8772\n",
      "Epoch 50/50\n",
      "\u001b[1m80/80\u001b[0m \u001b[32m━━━━━━━━━━━━━━━━━━━━\u001b[0m\u001b[37m\u001b[0m \u001b[1m0s\u001b[0m 6ms/step - loss: 5048.8013 - root_mean_squared_error: 70.8686 - val_loss: 7786.1216 - val_root_mean_squared_error: 88.2390\n"
     ]
    },
    {
     "data": {
      "text/plain": [
       "<keras.src.callbacks.history.History at 0x7b331f504d00>"
      ]
     },
     "execution_count": 62,
     "metadata": {},
     "output_type": "execute_result"
    }
   ],
   "source": [
    "model7 = Sequential()\n",
    "model7.add(InputLayer((6, 6)))  # 6 timestamps, 6 features\n",
    "model7.add(BatchNormalization())  # Normalize inputs\n",
    "model7.add(GRU(64, activation='relu', return_sequences=True))  # GRU layer\n",
    "model7.add(Dropout(0.3)) \n",
    "model7.add(Dense(32, activation='relu'))  \n",
    "model7.add(Dense(1, activation='linear'))  \n",
    "\n",
    "cp7 = ModelCheckpoint('/kaggle/working/model7.keras', save_best_only=True)\n",
    "\n",
    "model7.compile(loss=MeanSquaredError(), optimizer=Adam(learning_rate=0.001), \n",
    "               metrics=[RootMeanSquaredError()])\n",
    "\n",
    "model6.fit(X_train1, y_train1, validation_data=(X_val1, y_val1), epochs=50, \n",
    "           callbacks=[cp7])"
   ]
  },
  {
   "cell_type": "code",
   "execution_count": null,
   "id": "0df09511",
   "metadata": {
    "papermill": {
     "duration": 0.214195,
     "end_time": "2025-01-28T11:41:52.114581",
     "exception": false,
     "start_time": "2025-01-28T11:41:51.900386",
     "status": "completed"
    },
    "tags": []
   },
   "outputs": [],
   "source": []
  },
  {
   "cell_type": "code",
   "execution_count": null,
   "id": "b2c0cd28",
   "metadata": {
    "papermill": {
     "duration": 0.211244,
     "end_time": "2025-01-28T11:41:52.532905",
     "exception": false,
     "start_time": "2025-01-28T11:41:52.321661",
     "status": "completed"
    },
    "tags": []
   },
   "outputs": [],
   "source": []
  },
  {
   "cell_type": "code",
   "execution_count": null,
   "id": "ece090ee",
   "metadata": {
    "papermill": {
     "duration": 0.210689,
     "end_time": "2025-01-28T11:41:52.951469",
     "exception": false,
     "start_time": "2025-01-28T11:41:52.740780",
     "status": "completed"
    },
    "tags": []
   },
   "outputs": [],
   "source": []
  },
  {
   "cell_type": "markdown",
   "id": "c5665905",
   "metadata": {
    "papermill": {
     "duration": 0.207102,
     "end_time": "2025-01-28T11:41:53.427899",
     "exception": false,
     "start_time": "2025-01-28T11:41:53.220797",
     "status": "completed"
    },
    "tags": []
   },
   "source": [
    "## Model 8: Hybrid CNN + LSTM"
   ]
  },
  {
   "cell_type": "code",
   "execution_count": 63,
   "id": "f16a7f9a",
   "metadata": {
    "execution": {
     "iopub.execute_input": "2025-01-28T11:41:53.839877Z",
     "iopub.status.busy": "2025-01-28T11:41:53.839526Z",
     "iopub.status.idle": "2025-01-28T11:42:11.796903Z",
     "shell.execute_reply": "2025-01-28T11:42:11.795844Z"
    },
    "papermill": {
     "duration": 18.163932,
     "end_time": "2025-01-28T11:42:11.798944",
     "exception": false,
     "start_time": "2025-01-28T11:41:53.635012",
     "status": "completed"
    },
    "tags": []
   },
   "outputs": [
    {
     "name": "stdout",
     "output_type": "stream",
     "text": [
      "Epoch 1/50\n",
      "\u001b[1m80/80\u001b[0m \u001b[32m━━━━━━━━━━━━━━━━━━━━\u001b[0m\u001b[37m\u001b[0m \u001b[1m3s\u001b[0m 7ms/step - loss: 17430.2129 - root_mean_squared_error: 127.9890 - val_loss: 2255.7544 - val_root_mean_squared_error: 47.4948\n",
      "Epoch 2/50\n",
      "\u001b[1m80/80\u001b[0m \u001b[32m━━━━━━━━━━━━━━━━━━━━\u001b[0m\u001b[37m\u001b[0m \u001b[1m0s\u001b[0m 4ms/step - loss: 3802.3333 - root_mean_squared_error: 61.5973 - val_loss: 2200.4402 - val_root_mean_squared_error: 46.9089\n",
      "Epoch 3/50\n",
      "\u001b[1m80/80\u001b[0m \u001b[32m━━━━━━━━━━━━━━━━━━━━\u001b[0m\u001b[37m\u001b[0m \u001b[1m0s\u001b[0m 4ms/step - loss: 3413.9067 - root_mean_squared_error: 58.3276 - val_loss: 1659.9099 - val_root_mean_squared_error: 40.7420\n",
      "Epoch 4/50\n",
      "\u001b[1m80/80\u001b[0m \u001b[32m━━━━━━━━━━━━━━━━━━━━\u001b[0m\u001b[37m\u001b[0m \u001b[1m0s\u001b[0m 3ms/step - loss: 4011.6331 - root_mean_squared_error: 62.4578 - val_loss: 1886.4049 - val_root_mean_squared_error: 43.4328\n",
      "Epoch 5/50\n",
      "\u001b[1m80/80\u001b[0m \u001b[32m━━━━━━━━━━━━━━━━━━━━\u001b[0m\u001b[37m\u001b[0m \u001b[1m0s\u001b[0m 4ms/step - loss: 3193.9924 - root_mean_squared_error: 56.3809 - val_loss: 1458.1244 - val_root_mean_squared_error: 38.1854\n",
      "Epoch 6/50\n",
      "\u001b[1m80/80\u001b[0m \u001b[32m━━━━━━━━━━━━━━━━━━━━\u001b[0m\u001b[37m\u001b[0m \u001b[1m0s\u001b[0m 3ms/step - loss: 3391.8030 - root_mean_squared_error: 58.0621 - val_loss: 2521.0862 - val_root_mean_squared_error: 50.2104\n",
      "Epoch 7/50\n",
      "\u001b[1m80/80\u001b[0m \u001b[32m━━━━━━━━━━━━━━━━━━━━\u001b[0m\u001b[37m\u001b[0m \u001b[1m0s\u001b[0m 3ms/step - loss: 2919.0188 - root_mean_squared_error: 53.9752 - val_loss: 1516.6205 - val_root_mean_squared_error: 38.9438\n",
      "Epoch 8/50\n",
      "\u001b[1m80/80\u001b[0m \u001b[32m━━━━━━━━━━━━━━━━━━━━\u001b[0m\u001b[37m\u001b[0m \u001b[1m0s\u001b[0m 3ms/step - loss: 2828.0083 - root_mean_squared_error: 53.1518 - val_loss: 2597.1814 - val_root_mean_squared_error: 50.9625\n",
      "Epoch 9/50\n",
      "\u001b[1m80/80\u001b[0m \u001b[32m━━━━━━━━━━━━━━━━━━━━\u001b[0m\u001b[37m\u001b[0m \u001b[1m0s\u001b[0m 3ms/step - loss: 3029.6252 - root_mean_squared_error: 54.7809 - val_loss: 1717.2098 - val_root_mean_squared_error: 41.4392\n",
      "Epoch 10/50\n",
      "\u001b[1m80/80\u001b[0m \u001b[32m━━━━━━━━━━━━━━━━━━━━\u001b[0m\u001b[37m\u001b[0m \u001b[1m0s\u001b[0m 3ms/step - loss: 3078.1570 - root_mean_squared_error: 55.4304 - val_loss: 2820.6387 - val_root_mean_squared_error: 53.1097\n",
      "Epoch 11/50\n",
      "\u001b[1m80/80\u001b[0m \u001b[32m━━━━━━━━━━━━━━━━━━━━\u001b[0m\u001b[37m\u001b[0m \u001b[1m0s\u001b[0m 3ms/step - loss: 2885.3262 - root_mean_squared_error: 53.5750 - val_loss: 2163.2263 - val_root_mean_squared_error: 46.5105\n",
      "Epoch 12/50\n",
      "\u001b[1m80/80\u001b[0m \u001b[32m━━━━━━━━━━━━━━━━━━━━\u001b[0m\u001b[37m\u001b[0m \u001b[1m0s\u001b[0m 3ms/step - loss: 2548.3608 - root_mean_squared_error: 50.3610 - val_loss: 2995.9338 - val_root_mean_squared_error: 54.7351\n",
      "Epoch 13/50\n",
      "\u001b[1m80/80\u001b[0m \u001b[32m━━━━━━━━━━━━━━━━━━━━\u001b[0m\u001b[37m\u001b[0m \u001b[1m0s\u001b[0m 4ms/step - loss: 3241.5112 - root_mean_squared_error: 56.6945 - val_loss: 3443.1733 - val_root_mean_squared_error: 58.6786\n",
      "Epoch 14/50\n",
      "\u001b[1m80/80\u001b[0m \u001b[32m━━━━━━━━━━━━━━━━━━━━\u001b[0m\u001b[37m\u001b[0m \u001b[1m0s\u001b[0m 4ms/step - loss: 2732.1855 - root_mean_squared_error: 52.0535 - val_loss: 3405.2312 - val_root_mean_squared_error: 58.3544\n",
      "Epoch 15/50\n",
      "\u001b[1m80/80\u001b[0m \u001b[32m━━━━━━━━━━━━━━━━━━━━\u001b[0m\u001b[37m\u001b[0m \u001b[1m0s\u001b[0m 3ms/step - loss: 2729.4204 - root_mean_squared_error: 52.1431 - val_loss: 3292.3335 - val_root_mean_squared_error: 57.3789\n",
      "Epoch 16/50\n",
      "\u001b[1m80/80\u001b[0m \u001b[32m━━━━━━━━━━━━━━━━━━━━\u001b[0m\u001b[37m\u001b[0m \u001b[1m0s\u001b[0m 3ms/step - loss: 2477.8245 - root_mean_squared_error: 49.5971 - val_loss: 3519.5898 - val_root_mean_squared_error: 59.3261\n",
      "Epoch 17/50\n",
      "\u001b[1m80/80\u001b[0m \u001b[32m━━━━━━━━━━━━━━━━━━━━\u001b[0m\u001b[37m\u001b[0m \u001b[1m0s\u001b[0m 3ms/step - loss: 2573.6240 - root_mean_squared_error: 50.2860 - val_loss: 2816.9141 - val_root_mean_squared_error: 53.0746\n",
      "Epoch 18/50\n",
      "\u001b[1m80/80\u001b[0m \u001b[32m━━━━━━━━━━━━━━━━━━━━\u001b[0m\u001b[37m\u001b[0m \u001b[1m0s\u001b[0m 3ms/step - loss: 2253.7698 - root_mean_squared_error: 47.4116 - val_loss: 4207.4966 - val_root_mean_squared_error: 64.8652\n",
      "Epoch 19/50\n",
      "\u001b[1m80/80\u001b[0m \u001b[32m━━━━━━━━━━━━━━━━━━━━\u001b[0m\u001b[37m\u001b[0m \u001b[1m0s\u001b[0m 3ms/step - loss: 2482.5439 - root_mean_squared_error: 49.6848 - val_loss: 2921.2427 - val_root_mean_squared_error: 54.0485\n",
      "Epoch 20/50\n",
      "\u001b[1m80/80\u001b[0m \u001b[32m━━━━━━━━━━━━━━━━━━━━\u001b[0m\u001b[37m\u001b[0m \u001b[1m0s\u001b[0m 4ms/step - loss: 2307.8357 - root_mean_squared_error: 47.9480 - val_loss: 3361.8557 - val_root_mean_squared_error: 57.9815\n",
      "Epoch 21/50\n",
      "\u001b[1m80/80\u001b[0m \u001b[32m━━━━━━━━━━━━━━━━━━━━\u001b[0m\u001b[37m\u001b[0m \u001b[1m0s\u001b[0m 4ms/step - loss: 2926.1348 - root_mean_squared_error: 53.6733 - val_loss: 4279.0942 - val_root_mean_squared_error: 65.4148\n",
      "Epoch 22/50\n",
      "\u001b[1m80/80\u001b[0m \u001b[32m━━━━━━━━━━━━━━━━━━━━\u001b[0m\u001b[37m\u001b[0m \u001b[1m0s\u001b[0m 4ms/step - loss: 2287.2341 - root_mean_squared_error: 47.7612 - val_loss: 3754.1702 - val_root_mean_squared_error: 61.2713\n",
      "Epoch 23/50\n",
      "\u001b[1m80/80\u001b[0m \u001b[32m━━━━━━━━━━━━━━━━━━━━\u001b[0m\u001b[37m\u001b[0m \u001b[1m0s\u001b[0m 4ms/step - loss: 2438.0317 - root_mean_squared_error: 49.1613 - val_loss: 3490.8635 - val_root_mean_squared_error: 59.0835\n",
      "Epoch 24/50\n",
      "\u001b[1m80/80\u001b[0m \u001b[32m━━━━━━━━━━━━━━━━━━━━\u001b[0m\u001b[37m\u001b[0m \u001b[1m0s\u001b[0m 4ms/step - loss: 2956.7639 - root_mean_squared_error: 54.2969 - val_loss: 4741.4473 - val_root_mean_squared_error: 68.8582\n",
      "Epoch 25/50\n",
      "\u001b[1m80/80\u001b[0m \u001b[32m━━━━━━━━━━━━━━━━━━━━\u001b[0m\u001b[37m\u001b[0m \u001b[1m0s\u001b[0m 4ms/step - loss: 3464.2668 - root_mean_squared_error: 57.6557 - val_loss: 4926.8574 - val_root_mean_squared_error: 70.1916\n",
      "Epoch 26/50\n",
      "\u001b[1m80/80\u001b[0m \u001b[32m━━━━━━━━━━━━━━━━━━━━\u001b[0m\u001b[37m\u001b[0m \u001b[1m0s\u001b[0m 3ms/step - loss: 2443.9062 - root_mean_squared_error: 49.2574 - val_loss: 4386.3652 - val_root_mean_squared_error: 66.2296\n",
      "Epoch 27/50\n",
      "\u001b[1m80/80\u001b[0m \u001b[32m━━━━━━━━━━━━━━━━━━━━\u001b[0m\u001b[37m\u001b[0m \u001b[1m0s\u001b[0m 3ms/step - loss: 2797.7439 - root_mean_squared_error: 52.8009 - val_loss: 3496.9888 - val_root_mean_squared_error: 59.1353\n",
      "Epoch 28/50\n",
      "\u001b[1m80/80\u001b[0m \u001b[32m━━━━━━━━━━━━━━━━━━━━\u001b[0m\u001b[37m\u001b[0m \u001b[1m0s\u001b[0m 3ms/step - loss: 2380.3911 - root_mean_squared_error: 48.6535 - val_loss: 3242.8076 - val_root_mean_squared_error: 56.9457\n",
      "Epoch 29/50\n",
      "\u001b[1m80/80\u001b[0m \u001b[32m━━━━━━━━━━━━━━━━━━━━\u001b[0m\u001b[37m\u001b[0m \u001b[1m0s\u001b[0m 4ms/step - loss: 2369.7820 - root_mean_squared_error: 48.1786 - val_loss: 3919.9465 - val_root_mean_squared_error: 62.6095\n",
      "Epoch 30/50\n",
      "\u001b[1m80/80\u001b[0m \u001b[32m━━━━━━━━━━━━━━━━━━━━\u001b[0m\u001b[37m\u001b[0m \u001b[1m0s\u001b[0m 3ms/step - loss: 2982.4119 - root_mean_squared_error: 54.3302 - val_loss: 5050.4878 - val_root_mean_squared_error: 71.0668\n",
      "Epoch 31/50\n",
      "\u001b[1m80/80\u001b[0m \u001b[32m━━━━━━━━━━━━━━━━━━━━\u001b[0m\u001b[37m\u001b[0m \u001b[1m0s\u001b[0m 4ms/step - loss: 2653.7522 - root_mean_squared_error: 51.3970 - val_loss: 5351.5776 - val_root_mean_squared_error: 73.1545\n",
      "Epoch 32/50\n",
      "\u001b[1m80/80\u001b[0m \u001b[32m━━━━━━━━━━━━━━━━━━━━\u001b[0m\u001b[37m\u001b[0m \u001b[1m0s\u001b[0m 4ms/step - loss: 2842.7642 - root_mean_squared_error: 53.1595 - val_loss: 3866.3203 - val_root_mean_squared_error: 62.1797\n",
      "Epoch 33/50\n",
      "\u001b[1m80/80\u001b[0m \u001b[32m━━━━━━━━━━━━━━━━━━━━\u001b[0m\u001b[37m\u001b[0m \u001b[1m0s\u001b[0m 4ms/step - loss: 3033.9817 - root_mean_squared_error: 54.8831 - val_loss: 4030.8340 - val_root_mean_squared_error: 63.4888\n",
      "Epoch 34/50\n",
      "\u001b[1m80/80\u001b[0m \u001b[32m━━━━━━━━━━━━━━━━━━━━\u001b[0m\u001b[37m\u001b[0m \u001b[1m0s\u001b[0m 3ms/step - loss: 2232.8633 - root_mean_squared_error: 47.2005 - val_loss: 4537.7773 - val_root_mean_squared_error: 67.3630\n",
      "Epoch 35/50\n",
      "\u001b[1m80/80\u001b[0m \u001b[32m━━━━━━━━━━━━━━━━━━━━\u001b[0m\u001b[37m\u001b[0m \u001b[1m0s\u001b[0m 3ms/step - loss: 2776.3074 - root_mean_squared_error: 52.5370 - val_loss: 4190.2129 - val_root_mean_squared_error: 64.7319\n",
      "Epoch 36/50\n",
      "\u001b[1m80/80\u001b[0m \u001b[32m━━━━━━━━━━━━━━━━━━━━\u001b[0m\u001b[37m\u001b[0m \u001b[1m0s\u001b[0m 3ms/step - loss: 2105.2571 - root_mean_squared_error: 45.6991 - val_loss: 3872.9609 - val_root_mean_squared_error: 62.2331\n",
      "Epoch 37/50\n",
      "\u001b[1m80/80\u001b[0m \u001b[32m━━━━━━━━━━━━━━━━━━━━\u001b[0m\u001b[37m\u001b[0m \u001b[1m0s\u001b[0m 3ms/step - loss: 2154.6318 - root_mean_squared_error: 46.3315 - val_loss: 3718.6233 - val_root_mean_squared_error: 60.9805\n",
      "Epoch 38/50\n",
      "\u001b[1m80/80\u001b[0m \u001b[32m━━━━━━━━━━━━━━━━━━━━\u001b[0m\u001b[37m\u001b[0m \u001b[1m0s\u001b[0m 3ms/step - loss: 2403.0500 - root_mean_squared_error: 48.9315 - val_loss: 3324.1113 - val_root_mean_squared_error: 57.6551\n",
      "Epoch 39/50\n",
      "\u001b[1m80/80\u001b[0m \u001b[32m━━━━━━━━━━━━━━━━━━━━\u001b[0m\u001b[37m\u001b[0m \u001b[1m0s\u001b[0m 3ms/step - loss: 2617.5620 - root_mean_squared_error: 51.0811 - val_loss: 4825.3008 - val_root_mean_squared_error: 69.4644\n",
      "Epoch 40/50\n",
      "\u001b[1m80/80\u001b[0m \u001b[32m━━━━━━━━━━━━━━━━━━━━\u001b[0m\u001b[37m\u001b[0m \u001b[1m0s\u001b[0m 3ms/step - loss: 2315.0581 - root_mean_squared_error: 48.0472 - val_loss: 3602.7659 - val_root_mean_squared_error: 60.0230\n",
      "Epoch 41/50\n",
      "\u001b[1m80/80\u001b[0m \u001b[32m━━━━━━━━━━━━━━━━━━━━\u001b[0m\u001b[37m\u001b[0m \u001b[1m0s\u001b[0m 3ms/step - loss: 2281.4944 - root_mean_squared_error: 47.6219 - val_loss: 3814.3379 - val_root_mean_squared_error: 61.7603\n",
      "Epoch 42/50\n",
      "\u001b[1m80/80\u001b[0m \u001b[32m━━━━━━━━━━━━━━━━━━━━\u001b[0m\u001b[37m\u001b[0m \u001b[1m0s\u001b[0m 3ms/step - loss: 2402.8462 - root_mean_squared_error: 48.9228 - val_loss: 3169.2754 - val_root_mean_squared_error: 56.2963\n",
      "Epoch 43/50\n",
      "\u001b[1m80/80\u001b[0m \u001b[32m━━━━━━━━━━━━━━━━━━━━\u001b[0m\u001b[37m\u001b[0m \u001b[1m0s\u001b[0m 3ms/step - loss: 2697.5652 - root_mean_squared_error: 51.8109 - val_loss: 4159.4634 - val_root_mean_squared_error: 64.4939\n",
      "Epoch 44/50\n",
      "\u001b[1m80/80\u001b[0m \u001b[32m━━━━━━━━━━━━━━━━━━━━\u001b[0m\u001b[37m\u001b[0m \u001b[1m0s\u001b[0m 3ms/step - loss: 2599.4353 - root_mean_squared_error: 50.8750 - val_loss: 5542.3276 - val_root_mean_squared_error: 74.4468\n",
      "Epoch 45/50\n",
      "\u001b[1m80/80\u001b[0m \u001b[32m━━━━━━━━━━━━━━━━━━━━\u001b[0m\u001b[37m\u001b[0m \u001b[1m0s\u001b[0m 3ms/step - loss: 2794.9395 - root_mean_squared_error: 52.7358 - val_loss: 4758.8726 - val_root_mean_squared_error: 68.9846\n",
      "Epoch 46/50\n",
      "\u001b[1m80/80\u001b[0m \u001b[32m━━━━━━━━━━━━━━━━━━━━\u001b[0m\u001b[37m\u001b[0m \u001b[1m0s\u001b[0m 4ms/step - loss: 2522.9658 - root_mean_squared_error: 50.0587 - val_loss: 4591.2485 - val_root_mean_squared_error: 67.7588\n",
      "Epoch 47/50\n",
      "\u001b[1m80/80\u001b[0m \u001b[32m━━━━━━━━━━━━━━━━━━━━\u001b[0m\u001b[37m\u001b[0m \u001b[1m0s\u001b[0m 3ms/step - loss: 2981.5278 - root_mean_squared_error: 54.3149 - val_loss: 4828.0117 - val_root_mean_squared_error: 69.4839\n",
      "Epoch 48/50\n",
      "\u001b[1m80/80\u001b[0m \u001b[32m━━━━━━━━━━━━━━━━━━━━\u001b[0m\u001b[37m\u001b[0m \u001b[1m0s\u001b[0m 3ms/step - loss: 2398.3186 - root_mean_squared_error: 48.8128 - val_loss: 2984.8262 - val_root_mean_squared_error: 54.6336\n",
      "Epoch 49/50\n",
      "\u001b[1m80/80\u001b[0m \u001b[32m━━━━━━━━━━━━━━━━━━━━\u001b[0m\u001b[37m\u001b[0m \u001b[1m0s\u001b[0m 3ms/step - loss: 2158.1572 - root_mean_squared_error: 46.2794 - val_loss: 3651.1833 - val_root_mean_squared_error: 60.4250\n",
      "Epoch 50/50\n",
      "\u001b[1m80/80\u001b[0m \u001b[32m━━━━━━━━━━━━━━━━━━━━\u001b[0m\u001b[37m\u001b[0m \u001b[1m0s\u001b[0m 3ms/step - loss: 2109.1858 - root_mean_squared_error: 45.8191 - val_loss: 4664.0645 - val_root_mean_squared_error: 68.2940\n"
     ]
    },
    {
     "data": {
      "text/plain": [
       "<keras.src.callbacks.history.History at 0x7b331f5578b0>"
      ]
     },
     "execution_count": 63,
     "metadata": {},
     "output_type": "execute_result"
    }
   ],
   "source": [
    "model8 = Sequential()\n",
    "model8.add(InputLayer((6, 6)))  # 6 timestamps, 6 features\n",
    "model8.add(Conv1D(32, kernel_size=2, activation='relu'))  # 1D Convolutional Layer\n",
    "model8.add(MaxPooling1D(pool_size=2))  # Max Pooling\n",
    "model8.add(LSTM(64, activation='relu', return_sequences=False))  \n",
    "model8.add(Dropout(0.3))  \n",
    "model8.add(Dense(32, activation='relu'))  \n",
    "model8.add(Dense(1, activation='linear'))  \n",
    "\n",
    "cp8 = ModelCheckpoint('/kaggle/working/model8.keras', save_best_only=True)\n",
    "\n",
    "model8.compile(loss=MeanSquaredError(), optimizer=Adam(learning_rate=0.001), \n",
    "               metrics=[RootMeanSquaredError()])\n",
    "\n",
    "model8.fit(X_train1, y_train1, validation_data=(X_val1, y_val1), epochs=50, \n",
    "           callbacks=[cp8])"
   ]
  },
  {
   "cell_type": "code",
   "execution_count": 64,
   "id": "f9a89e09",
   "metadata": {
    "execution": {
     "iopub.execute_input": "2025-01-28T11:42:12.264266Z",
     "iopub.status.busy": "2025-01-28T11:42:12.263829Z",
     "iopub.status.idle": "2025-01-28T11:42:12.408405Z",
     "shell.execute_reply": "2025-01-28T11:42:12.407057Z"
    },
    "papermill": {
     "duration": 0.376637,
     "end_time": "2025-01-28T11:42:12.410645",
     "exception": false,
     "start_time": "2025-01-28T11:42:12.034008",
     "status": "completed"
    },
    "tags": []
   },
   "outputs": [],
   "source": [
    "from tensorflow.keras.models import load_model\n",
    "model8 = load_model('/kaggle/working/model8.keras')"
   ]
  },
  {
   "cell_type": "code",
   "execution_count": 65,
   "id": "13f7e18a",
   "metadata": {
    "execution": {
     "iopub.execute_input": "2025-01-28T11:42:12.932978Z",
     "iopub.status.busy": "2025-01-28T11:42:12.932548Z",
     "iopub.status.idle": "2025-01-28T11:42:13.490572Z",
     "shell.execute_reply": "2025-01-28T11:42:13.489515Z"
    },
    "papermill": {
     "duration": 0.790061,
     "end_time": "2025-01-28T11:42:13.492598",
     "exception": false,
     "start_time": "2025-01-28T11:42:12.702537",
     "status": "completed"
    },
    "tags": []
   },
   "outputs": [
    {
     "name": "stdout",
     "output_type": "stream",
     "text": [
      "\u001b[1m80/80\u001b[0m \u001b[32m━━━━━━━━━━━━━━━━━━━━\u001b[0m\u001b[37m\u001b[0m \u001b[1m0s\u001b[0m 4ms/step\n",
      "Evaluation Metrics:\n",
      "Mean Absolute Error (MAE): 27.9096\n",
      "Mean Squared Error (MSE): 2628.8857\n",
      "Root Mean Squared Error (RMSE): 51.2727\n",
      "R-squared (Accuracy): 0.4909\n"
     ]
    }
   ],
   "source": [
    "# Evaluate the model on the train data\n",
    "train_result = model8.predict(X_train1)\n",
    "\n",
    "# Calculate metrics\n",
    "mse = mean_squared_error(y_train1, train_result)\n",
    "rmse = np.sqrt(mse)\n",
    "mae = mean_absolute_error(y_train1, train_result)\n",
    "r2 = r2_score(y_train1, train_result)\n",
    "\n",
    "# Print the results\n",
    "print(\"Evaluation Metrics:\")\n",
    "print(f\"Mean Absolute Error (MAE): {mae:.4f}\")\n",
    "print(f\"Mean Squared Error (MSE): {mse:.4f}\")\n",
    "print(f\"Root Mean Squared Error (RMSE): {rmse:.4f}\")\n",
    "print(f\"R-squared (Accuracy): {r2:.4f}\")"
   ]
  },
  {
   "cell_type": "code",
   "execution_count": 66,
   "id": "78003540",
   "metadata": {
    "execution": {
     "iopub.execute_input": "2025-01-28T11:42:13.961767Z",
     "iopub.status.busy": "2025-01-28T11:42:13.961359Z",
     "iopub.status.idle": "2025-01-28T11:42:14.065213Z",
     "shell.execute_reply": "2025-01-28T11:42:14.063897Z"
    },
    "papermill": {
     "duration": 0.342533,
     "end_time": "2025-01-28T11:42:14.067290",
     "exception": false,
     "start_time": "2025-01-28T11:42:13.724757",
     "status": "completed"
    },
    "tags": []
   },
   "outputs": [
    {
     "name": "stdout",
     "output_type": "stream",
     "text": [
      "\u001b[1m10/10\u001b[0m \u001b[32m━━━━━━━━━━━━━━━━━━━━\u001b[0m\u001b[37m\u001b[0m \u001b[1m0s\u001b[0m 2ms/step \n",
      "Evaluation Metrics:\n",
      "Mean Absolute Error (MAE): 29.7602\n",
      "Mean Squared Error (MSE): 1458.1245\n",
      "Root Mean Squared Error (RMSE): 38.1854\n",
      "R-squared (Accuracy): 0.8040\n"
     ]
    }
   ],
   "source": [
    "# Evaluate the model on the validation data\n",
    "val_result = model8.predict(X_val1)\n",
    "\n",
    "# Calculate metrics\n",
    "mse = mean_squared_error(y_val1, val_result)\n",
    "rmse = np.sqrt(mse)\n",
    "mae = mean_absolute_error(y_val1, val_result)\n",
    "r2 = r2_score(y_val1, val_result)\n",
    "\n",
    "# Print the results\n",
    "print(\"Evaluation Metrics:\")\n",
    "print(f\"Mean Absolute Error (MAE): {mae:.4f}\")\n",
    "print(f\"Mean Squared Error (MSE): {mse:.4f}\")\n",
    "print(f\"Root Mean Squared Error (RMSE): {rmse:.4f}\")\n",
    "print(f\"R-squared (Accuracy): {r2:.4f}\")"
   ]
  },
  {
   "cell_type": "code",
   "execution_count": 67,
   "id": "2461ed1d",
   "metadata": {
    "execution": {
     "iopub.execute_input": "2025-01-28T11:42:14.537507Z",
     "iopub.status.busy": "2025-01-28T11:42:14.537111Z",
     "iopub.status.idle": "2025-01-28T11:42:14.639948Z",
     "shell.execute_reply": "2025-01-28T11:42:14.638614Z"
    },
    "papermill": {
     "duration": 0.339959,
     "end_time": "2025-01-28T11:42:14.642205",
     "exception": false,
     "start_time": "2025-01-28T11:42:14.302246",
     "status": "completed"
    },
    "tags": []
   },
   "outputs": [
    {
     "name": "stdout",
     "output_type": "stream",
     "text": [
      "\u001b[1m10/10\u001b[0m \u001b[32m━━━━━━━━━━━━━━━━━━━━\u001b[0m\u001b[37m\u001b[0m \u001b[1m0s\u001b[0m 2ms/step \n",
      "Evaluation Metrics:\n",
      "Mean Absolute Error (MAE): 25.6574\n",
      "Mean Squared Error (MSE): 1365.5155\n",
      "Root Mean Squared Error (RMSE): 36.9529\n",
      "R-squared (Accuracy): 0.5868\n"
     ]
    }
   ],
   "source": [
    "# Evaluate the model on the test data\n",
    "test_result = model8.predict(X_test1)\n",
    "\n",
    "# Calculate metrics\n",
    "mse = mean_squared_error(y_test1, test_result)\n",
    "rmse = np.sqrt(mse)\n",
    "mae = mean_absolute_error(y_test1, test_result)\n",
    "r2 = r2_score(y_test1, test_result)\n",
    "\n",
    "# Print the results\n",
    "print(\"Evaluation Metrics:\")\n",
    "print(f\"Mean Absolute Error (MAE): {mae:.4f}\")\n",
    "print(f\"Mean Squared Error (MSE): {mse:.4f}\")\n",
    "print(f\"Root Mean Squared Error (RMSE): {rmse:.4f}\")\n",
    "print(f\"R-squared (Accuracy): {r2:.4f}\")"
   ]
  },
  {
   "cell_type": "code",
   "execution_count": null,
   "id": "71d1a1f3",
   "metadata": {
    "papermill": {
     "duration": 0.296127,
     "end_time": "2025-01-28T11:42:15.171479",
     "exception": false,
     "start_time": "2025-01-28T11:42:14.875352",
     "status": "completed"
    },
    "tags": []
   },
   "outputs": [],
   "source": []
  },
  {
   "cell_type": "code",
   "execution_count": null,
   "id": "c3727833",
   "metadata": {
    "papermill": {
     "duration": 0.229609,
     "end_time": "2025-01-28T11:42:15.633764",
     "exception": false,
     "start_time": "2025-01-28T11:42:15.404155",
     "status": "completed"
    },
    "tags": []
   },
   "outputs": [],
   "source": []
  },
  {
   "cell_type": "markdown",
   "id": "f90254e7",
   "metadata": {
    "papermill": {
     "duration": 0.23426,
     "end_time": "2025-01-28T11:42:16.102312",
     "exception": false,
     "start_time": "2025-01-28T11:42:15.868052",
     "status": "completed"
    },
    "tags": []
   },
   "source": [
    "## Model 9: Advanced Stacked GRU + Dense"
   ]
  },
  {
   "cell_type": "code",
   "execution_count": 68,
   "id": "55b2d118",
   "metadata": {
    "execution": {
     "iopub.execute_input": "2025-01-28T11:42:16.569777Z",
     "iopub.status.busy": "2025-01-28T11:42:16.569373Z",
     "iopub.status.idle": "2025-01-28T11:43:06.701380Z",
     "shell.execute_reply": "2025-01-28T11:43:06.700398Z"
    },
    "papermill": {
     "duration": 50.369359,
     "end_time": "2025-01-28T11:43:06.703206",
     "exception": false,
     "start_time": "2025-01-28T11:42:16.333847",
     "status": "completed"
    },
    "tags": []
   },
   "outputs": [
    {
     "name": "stdout",
     "output_type": "stream",
     "text": [
      "Epoch 1/50\n",
      "\u001b[1m80/80\u001b[0m \u001b[32m━━━━━━━━━━━━━━━━━━━━\u001b[0m\u001b[37m\u001b[0m \u001b[1m6s\u001b[0m 17ms/step - loss: 26501.2793 - root_mean_squared_error: 161.5677 - val_loss: 3155.2163 - val_root_mean_squared_error: 56.1713\n",
      "Epoch 2/50\n",
      "\u001b[1m80/80\u001b[0m \u001b[32m━━━━━━━━━━━━━━━━━━━━\u001b[0m\u001b[37m\u001b[0m \u001b[1m1s\u001b[0m 11ms/step - loss: 3686.9333 - root_mean_squared_error: 60.6746 - val_loss: 1617.6886 - val_root_mean_squared_error: 40.2205\n",
      "Epoch 3/50\n",
      "\u001b[1m80/80\u001b[0m \u001b[32m━━━━━━━━━━━━━━━━━━━━\u001b[0m\u001b[37m\u001b[0m \u001b[1m1s\u001b[0m 11ms/step - loss: 4158.1528 - root_mean_squared_error: 63.1537 - val_loss: 1742.5537 - val_root_mean_squared_error: 41.7439\n",
      "Epoch 4/50\n",
      "\u001b[1m80/80\u001b[0m \u001b[32m━━━━━━━━━━━━━━━━━━━━\u001b[0m\u001b[37m\u001b[0m \u001b[1m1s\u001b[0m 11ms/step - loss: 2474.6682 - root_mean_squared_error: 49.6324 - val_loss: 1161.8401 - val_root_mean_squared_error: 34.0858\n",
      "Epoch 5/50\n",
      "\u001b[1m80/80\u001b[0m \u001b[32m━━━━━━━━━━━━━━━━━━━━\u001b[0m\u001b[37m\u001b[0m \u001b[1m1s\u001b[0m 10ms/step - loss: 2945.9771 - root_mean_squared_error: 54.0185 - val_loss: 1880.2964 - val_root_mean_squared_error: 43.3624\n",
      "Epoch 6/50\n",
      "\u001b[1m80/80\u001b[0m \u001b[32m━━━━━━━━━━━━━━━━━━━━\u001b[0m\u001b[37m\u001b[0m \u001b[1m1s\u001b[0m 11ms/step - loss: 2507.8213 - root_mean_squared_error: 49.9624 - val_loss: 1202.3606 - val_root_mean_squared_error: 34.6751\n",
      "Epoch 7/50\n",
      "\u001b[1m80/80\u001b[0m \u001b[32m━━━━━━━━━━━━━━━━━━━━\u001b[0m\u001b[37m\u001b[0m \u001b[1m1s\u001b[0m 11ms/step - loss: 1956.5479 - root_mean_squared_error: 44.1163 - val_loss: 1156.4076 - val_root_mean_squared_error: 34.0060\n",
      "Epoch 8/50\n",
      "\u001b[1m80/80\u001b[0m \u001b[32m━━━━━━━━━━━━━━━━━━━━\u001b[0m\u001b[37m\u001b[0m \u001b[1m1s\u001b[0m 11ms/step - loss: 1818.2179 - root_mean_squared_error: 42.4756 - val_loss: 1113.8141 - val_root_mean_squared_error: 33.3739\n",
      "Epoch 9/50\n",
      "\u001b[1m80/80\u001b[0m \u001b[32m━━━━━━━━━━━━━━━━━━━━\u001b[0m\u001b[37m\u001b[0m \u001b[1m1s\u001b[0m 10ms/step - loss: 2181.9849 - root_mean_squared_error: 46.3949 - val_loss: 2166.1091 - val_root_mean_squared_error: 46.5415\n",
      "Epoch 10/50\n",
      "\u001b[1m80/80\u001b[0m \u001b[32m━━━━━━━━━━━━━━━━━━━━\u001b[0m\u001b[37m\u001b[0m \u001b[1m1s\u001b[0m 11ms/step - loss: 1888.5807 - root_mean_squared_error: 43.3174 - val_loss: 1262.1676 - val_root_mean_squared_error: 35.5270\n",
      "Epoch 11/50\n",
      "\u001b[1m80/80\u001b[0m \u001b[32m━━━━━━━━━━━━━━━━━━━━\u001b[0m\u001b[37m\u001b[0m \u001b[1m1s\u001b[0m 11ms/step - loss: 1588.5936 - root_mean_squared_error: 39.8159 - val_loss: 921.4565 - val_root_mean_squared_error: 30.3555\n",
      "Epoch 12/50\n",
      "\u001b[1m80/80\u001b[0m \u001b[32m━━━━━━━━━━━━━━━━━━━━\u001b[0m\u001b[37m\u001b[0m \u001b[1m1s\u001b[0m 11ms/step - loss: 1949.2882 - root_mean_squared_error: 44.0037 - val_loss: 1143.2985 - val_root_mean_squared_error: 33.8127\n",
      "Epoch 13/50\n",
      "\u001b[1m80/80\u001b[0m \u001b[32m━━━━━━━━━━━━━━━━━━━━\u001b[0m\u001b[37m\u001b[0m \u001b[1m1s\u001b[0m 11ms/step - loss: 1714.3544 - root_mean_squared_error: 41.1779 - val_loss: 982.5231 - val_root_mean_squared_error: 31.3452\n",
      "Epoch 14/50\n",
      "\u001b[1m80/80\u001b[0m \u001b[32m━━━━━━━━━━━━━━━━━━━━\u001b[0m\u001b[37m\u001b[0m \u001b[1m1s\u001b[0m 11ms/step - loss: 1994.6425 - root_mean_squared_error: 44.4508 - val_loss: 2011.8079 - val_root_mean_squared_error: 44.8532\n",
      "Epoch 15/50\n",
      "\u001b[1m80/80\u001b[0m \u001b[32m━━━━━━━━━━━━━━━━━━━━\u001b[0m\u001b[37m\u001b[0m \u001b[1m1s\u001b[0m 12ms/step - loss: 1617.4655 - root_mean_squared_error: 39.9058 - val_loss: 1484.9021 - val_root_mean_squared_error: 38.5344\n",
      "Epoch 16/50\n",
      "\u001b[1m80/80\u001b[0m \u001b[32m━━━━━━━━━━━━━━━━━━━━\u001b[0m\u001b[37m\u001b[0m \u001b[1m1s\u001b[0m 12ms/step - loss: 1459.1138 - root_mean_squared_error: 38.0892 - val_loss: 977.2104 - val_root_mean_squared_error: 31.2604\n",
      "Epoch 17/50\n",
      "\u001b[1m80/80\u001b[0m \u001b[32m━━━━━━━━━━━━━━━━━━━━\u001b[0m\u001b[37m\u001b[0m \u001b[1m1s\u001b[0m 11ms/step - loss: 1678.3295 - root_mean_squared_error: 40.8548 - val_loss: 835.9252 - val_root_mean_squared_error: 28.9124\n",
      "Epoch 18/50\n",
      "\u001b[1m80/80\u001b[0m \u001b[32m━━━━━━━━━━━━━━━━━━━━\u001b[0m\u001b[37m\u001b[0m \u001b[1m1s\u001b[0m 11ms/step - loss: 1898.7562 - root_mean_squared_error: 43.3493 - val_loss: 1191.0072 - val_root_mean_squared_error: 34.5110\n",
      "Epoch 19/50\n",
      "\u001b[1m80/80\u001b[0m \u001b[32m━━━━━━━━━━━━━━━━━━━━\u001b[0m\u001b[37m\u001b[0m \u001b[1m1s\u001b[0m 11ms/step - loss: 1851.8912 - root_mean_squared_error: 42.9454 - val_loss: 1149.5524 - val_root_mean_squared_error: 33.9050\n",
      "Epoch 20/50\n",
      "\u001b[1m80/80\u001b[0m \u001b[32m━━━━━━━━━━━━━━━━━━━━\u001b[0m\u001b[37m\u001b[0m \u001b[1m1s\u001b[0m 11ms/step - loss: 1629.7697 - root_mean_squared_error: 40.0346 - val_loss: 967.5297 - val_root_mean_squared_error: 31.1051\n",
      "Epoch 21/50\n",
      "\u001b[1m80/80\u001b[0m \u001b[32m━━━━━━━━━━━━━━━━━━━━\u001b[0m\u001b[37m\u001b[0m \u001b[1m1s\u001b[0m 12ms/step - loss: 1674.7659 - root_mean_squared_error: 40.8203 - val_loss: 760.8439 - val_root_mean_squared_error: 27.5834\n",
      "Epoch 22/50\n",
      "\u001b[1m80/80\u001b[0m \u001b[32m━━━━━━━━━━━━━━━━━━━━\u001b[0m\u001b[37m\u001b[0m \u001b[1m1s\u001b[0m 10ms/step - loss: 1952.8124 - root_mean_squared_error: 44.0617 - val_loss: 825.2544 - val_root_mean_squared_error: 28.7272\n",
      "Epoch 23/50\n",
      "\u001b[1m80/80\u001b[0m \u001b[32m━━━━━━━━━━━━━━━━━━━━\u001b[0m\u001b[37m\u001b[0m \u001b[1m1s\u001b[0m 11ms/step - loss: 1517.5212 - root_mean_squared_error: 38.9109 - val_loss: 934.0556 - val_root_mean_squared_error: 30.5623\n",
      "Epoch 24/50\n",
      "\u001b[1m80/80\u001b[0m \u001b[32m━━━━━━━━━━━━━━━━━━━━\u001b[0m\u001b[37m\u001b[0m \u001b[1m1s\u001b[0m 10ms/step - loss: 1669.3854 - root_mean_squared_error: 40.7866 - val_loss: 795.6098 - val_root_mean_squared_error: 28.2066\n",
      "Epoch 25/50\n",
      "\u001b[1m80/80\u001b[0m \u001b[32m━━━━━━━━━━━━━━━━━━━━\u001b[0m\u001b[37m\u001b[0m \u001b[1m1s\u001b[0m 11ms/step - loss: 1793.4390 - root_mean_squared_error: 42.2033 - val_loss: 1062.3105 - val_root_mean_squared_error: 32.5931\n",
      "Epoch 26/50\n",
      "\u001b[1m80/80\u001b[0m \u001b[32m━━━━━━━━━━━━━━━━━━━━\u001b[0m\u001b[37m\u001b[0m \u001b[1m1s\u001b[0m 10ms/step - loss: 1808.9048 - root_mean_squared_error: 42.2657 - val_loss: 955.6643 - val_root_mean_squared_error: 30.9138\n",
      "Epoch 27/50\n",
      "\u001b[1m80/80\u001b[0m \u001b[32m━━━━━━━━━━━━━━━━━━━━\u001b[0m\u001b[37m\u001b[0m \u001b[1m1s\u001b[0m 11ms/step - loss: 1498.2844 - root_mean_squared_error: 38.6421 - val_loss: 1043.5156 - val_root_mean_squared_error: 32.3035\n",
      "Epoch 28/50\n",
      "\u001b[1m80/80\u001b[0m \u001b[32m━━━━━━━━━━━━━━━━━━━━\u001b[0m\u001b[37m\u001b[0m \u001b[1m1s\u001b[0m 11ms/step - loss: 1603.8477 - root_mean_squared_error: 39.8701 - val_loss: 1022.5681 - val_root_mean_squared_error: 31.9776\n",
      "Epoch 29/50\n",
      "\u001b[1m80/80\u001b[0m \u001b[32m━━━━━━━━━━━━━━━━━━━━\u001b[0m\u001b[37m\u001b[0m \u001b[1m1s\u001b[0m 11ms/step - loss: 1597.8225 - root_mean_squared_error: 39.9115 - val_loss: 873.6820 - val_root_mean_squared_error: 29.5581\n",
      "Epoch 30/50\n",
      "\u001b[1m80/80\u001b[0m \u001b[32m━━━━━━━━━━━━━━━━━━━━\u001b[0m\u001b[37m\u001b[0m \u001b[1m1s\u001b[0m 10ms/step - loss: 1996.0272 - root_mean_squared_error: 44.3414 - val_loss: 882.5490 - val_root_mean_squared_error: 29.7077\n",
      "Epoch 31/50\n",
      "\u001b[1m80/80\u001b[0m \u001b[32m━━━━━━━━━━━━━━━━━━━━\u001b[0m\u001b[37m\u001b[0m \u001b[1m1s\u001b[0m 10ms/step - loss: 1441.4282 - root_mean_squared_error: 37.8807 - val_loss: 790.5264 - val_root_mean_squared_error: 28.1163\n",
      "Epoch 32/50\n",
      "\u001b[1m80/80\u001b[0m \u001b[32m━━━━━━━━━━━━━━━━━━━━\u001b[0m\u001b[37m\u001b[0m \u001b[1m1s\u001b[0m 11ms/step - loss: 1393.1062 - root_mean_squared_error: 37.1474 - val_loss: 907.3976 - val_root_mean_squared_error: 30.1230\n",
      "Epoch 33/50\n",
      "\u001b[1m80/80\u001b[0m \u001b[32m━━━━━━━━━━━━━━━━━━━━\u001b[0m\u001b[37m\u001b[0m \u001b[1m1s\u001b[0m 11ms/step - loss: 1306.0112 - root_mean_squared_error: 36.0578 - val_loss: 795.3705 - val_root_mean_squared_error: 28.2023\n",
      "Epoch 34/50\n",
      "\u001b[1m80/80\u001b[0m \u001b[32m━━━━━━━━━━━━━━━━━━━━\u001b[0m\u001b[37m\u001b[0m \u001b[1m1s\u001b[0m 11ms/step - loss: 1876.9613 - root_mean_squared_error: 43.1700 - val_loss: 784.1353 - val_root_mean_squared_error: 28.0024\n",
      "Epoch 35/50\n",
      "\u001b[1m80/80\u001b[0m \u001b[32m━━━━━━━━━━━━━━━━━━━━\u001b[0m\u001b[37m\u001b[0m \u001b[1m1s\u001b[0m 11ms/step - loss: 2248.5049 - root_mean_squared_error: 46.3498 - val_loss: 1051.4220 - val_root_mean_squared_error: 32.4256\n",
      "Epoch 36/50\n",
      "\u001b[1m80/80\u001b[0m \u001b[32m━━━━━━━━━━━━━━━━━━━━\u001b[0m\u001b[37m\u001b[0m \u001b[1m1s\u001b[0m 11ms/step - loss: 1621.1647 - root_mean_squared_error: 40.1904 - val_loss: 1276.4608 - val_root_mean_squared_error: 35.7276\n",
      "Epoch 37/50\n",
      "\u001b[1m80/80\u001b[0m \u001b[32m━━━━━━━━━━━━━━━━━━━━\u001b[0m\u001b[37m\u001b[0m \u001b[1m1s\u001b[0m 11ms/step - loss: 1536.3571 - root_mean_squared_error: 39.0762 - val_loss: 807.3751 - val_root_mean_squared_error: 28.4143\n",
      "Epoch 38/50\n",
      "\u001b[1m80/80\u001b[0m \u001b[32m━━━━━━━━━━━━━━━━━━━━\u001b[0m\u001b[37m\u001b[0m \u001b[1m1s\u001b[0m 10ms/step - loss: 1235.9382 - root_mean_squared_error: 34.9671 - val_loss: 859.4854 - val_root_mean_squared_error: 29.3170\n",
      "Epoch 39/50\n",
      "\u001b[1m80/80\u001b[0m \u001b[32m━━━━━━━━━━━━━━━━━━━━\u001b[0m\u001b[37m\u001b[0m \u001b[1m1s\u001b[0m 11ms/step - loss: 1698.0223 - root_mean_squared_error: 40.9950 - val_loss: 834.8752 - val_root_mean_squared_error: 28.8942\n",
      "Epoch 40/50\n",
      "\u001b[1m80/80\u001b[0m \u001b[32m━━━━━━━━━━━━━━━━━━━━\u001b[0m\u001b[37m\u001b[0m \u001b[1m1s\u001b[0m 11ms/step - loss: 1522.1078 - root_mean_squared_error: 38.8625 - val_loss: 783.3159 - val_root_mean_squared_error: 27.9878\n",
      "Epoch 41/50\n",
      "\u001b[1m80/80\u001b[0m \u001b[32m━━━━━━━━━━━━━━━━━━━━\u001b[0m\u001b[37m\u001b[0m \u001b[1m1s\u001b[0m 11ms/step - loss: 1718.6637 - root_mean_squared_error: 41.1874 - val_loss: 985.4154 - val_root_mean_squared_error: 31.3913\n",
      "Epoch 42/50\n",
      "\u001b[1m80/80\u001b[0m \u001b[32m━━━━━━━━━━━━━━━━━━━━\u001b[0m\u001b[37m\u001b[0m \u001b[1m1s\u001b[0m 10ms/step - loss: 1549.5018 - root_mean_squared_error: 39.3488 - val_loss: 894.9719 - val_root_mean_squared_error: 29.9161\n",
      "Epoch 43/50\n",
      "\u001b[1m80/80\u001b[0m \u001b[32m━━━━━━━━━━━━━━━━━━━━\u001b[0m\u001b[37m\u001b[0m \u001b[1m1s\u001b[0m 11ms/step - loss: 1814.3351 - root_mean_squared_error: 42.4871 - val_loss: 810.1939 - val_root_mean_squared_error: 28.4639\n",
      "Epoch 44/50\n",
      "\u001b[1m80/80\u001b[0m \u001b[32m━━━━━━━━━━━━━━━━━━━━\u001b[0m\u001b[37m\u001b[0m \u001b[1m1s\u001b[0m 10ms/step - loss: 1329.9714 - root_mean_squared_error: 36.2938 - val_loss: 777.7789 - val_root_mean_squared_error: 27.8887\n",
      "Epoch 45/50\n",
      "\u001b[1m80/80\u001b[0m \u001b[32m━━━━━━━━━━━━━━━━━━━━\u001b[0m\u001b[37m\u001b[0m \u001b[1m1s\u001b[0m 11ms/step - loss: 1722.5490 - root_mean_squared_error: 41.3443 - val_loss: 963.4186 - val_root_mean_squared_error: 31.0390\n",
      "Epoch 46/50\n",
      "\u001b[1m80/80\u001b[0m \u001b[32m━━━━━━━━━━━━━━━━━━━━\u001b[0m\u001b[37m\u001b[0m \u001b[1m1s\u001b[0m 11ms/step - loss: 1668.7836 - root_mean_squared_error: 40.7614 - val_loss: 921.3058 - val_root_mean_squared_error: 30.3530\n",
      "Epoch 47/50\n",
      "\u001b[1m80/80\u001b[0m \u001b[32m━━━━━━━━━━━━━━━━━━━━\u001b[0m\u001b[37m\u001b[0m \u001b[1m1s\u001b[0m 11ms/step - loss: 1780.9501 - root_mean_squared_error: 41.9203 - val_loss: 1108.5341 - val_root_mean_squared_error: 33.2947\n",
      "Epoch 48/50\n",
      "\u001b[1m80/80\u001b[0m \u001b[32m━━━━━━━━━━━━━━━━━━━━\u001b[0m\u001b[37m\u001b[0m \u001b[1m1s\u001b[0m 11ms/step - loss: 1456.3588 - root_mean_squared_error: 38.1345 - val_loss: 879.4378 - val_root_mean_squared_error: 29.6553\n",
      "Epoch 49/50\n",
      "\u001b[1m80/80\u001b[0m \u001b[32m━━━━━━━━━━━━━━━━━━━━\u001b[0m\u001b[37m\u001b[0m \u001b[1m1s\u001b[0m 10ms/step - loss: 1363.5940 - root_mean_squared_error: 36.8610 - val_loss: 851.2037 - val_root_mean_squared_error: 29.1754\n",
      "Epoch 50/50\n",
      "\u001b[1m80/80\u001b[0m \u001b[32m━━━━━━━━━━━━━━━━━━━━\u001b[0m\u001b[37m\u001b[0m \u001b[1m1s\u001b[0m 11ms/step - loss: 1814.7173 - root_mean_squared_error: 42.1515 - val_loss: 819.4393 - val_root_mean_squared_error: 28.6258\n"
     ]
    },
    {
     "data": {
      "text/plain": [
       "<keras.src.callbacks.history.History at 0x7b331eff9a80>"
      ]
     },
     "execution_count": 68,
     "metadata": {},
     "output_type": "execute_result"
    }
   ],
   "source": [
    "model9 = Sequential()\n",
    "model9.add(InputLayer((6, 6)))  # 6 timestamps, 6 features\n",
    "model9.add(BatchNormalization())  # Normalize inputs\n",
    "model9.add(GRU(128, activation='relu', return_sequences=True))  # GRU layer\n",
    "model9.add(Dropout(0.3))  # Dropout for regularization\n",
    "model9.add(GRU(64, activation='relu', return_sequences=False))  # Second GRU layer\n",
    "model9.add(Dense(32, activation='relu'))  # Fully connected layer\n",
    "model9.add(Dense(16, activation='relu'))  # Second dense layer\n",
    "model9.add(Dense(1, activation='linear'))  # Output layer\n",
    "\n",
    "cp9 = ModelCheckpoint('/kaggle/working/model9.keras', save_best_only=True)\n",
    "\n",
    "model9.compile(loss=MeanSquaredError(), optimizer=Adam(learning_rate=0.001), \n",
    "               metrics=[RootMeanSquaredError()])\n",
    "\n",
    "model9.fit(X_train1, y_train1, validation_data=(X_val1, y_val1), epochs=50, \n",
    "           callbacks=[cp9])\n"
   ]
  },
  {
   "cell_type": "code",
   "execution_count": 69,
   "id": "54309a30",
   "metadata": {
    "execution": {
     "iopub.execute_input": "2025-01-28T11:43:07.289777Z",
     "iopub.status.busy": "2025-01-28T11:43:07.289291Z",
     "iopub.status.idle": "2025-01-28T11:43:07.516089Z",
     "shell.execute_reply": "2025-01-28T11:43:07.514872Z"
    },
    "papermill": {
     "duration": 0.534818,
     "end_time": "2025-01-28T11:43:07.518037",
     "exception": false,
     "start_time": "2025-01-28T11:43:06.983219",
     "status": "completed"
    },
    "tags": []
   },
   "outputs": [],
   "source": [
    "from tensorflow.keras.models import load_model\n",
    "model9 = load_model('/kaggle/working/model9.keras')"
   ]
  },
  {
   "cell_type": "code",
   "execution_count": 70,
   "id": "899879a1",
   "metadata": {
    "execution": {
     "iopub.execute_input": "2025-01-28T11:43:08.080229Z",
     "iopub.status.busy": "2025-01-28T11:43:08.079877Z",
     "iopub.status.idle": "2025-01-28T11:43:09.174604Z",
     "shell.execute_reply": "2025-01-28T11:43:09.173137Z"
    },
    "papermill": {
     "duration": 1.378304,
     "end_time": "2025-01-28T11:43:09.176680",
     "exception": false,
     "start_time": "2025-01-28T11:43:07.798376",
     "status": "completed"
    },
    "tags": []
   },
   "outputs": [
    {
     "name": "stdout",
     "output_type": "stream",
     "text": [
      "\u001b[1m80/80\u001b[0m \u001b[32m━━━━━━━━━━━━━━━━━━━━\u001b[0m\u001b[37m\u001b[0m \u001b[1m1s\u001b[0m 8ms/step\n",
      "Evaluation Metrics:\n",
      "Mean Absolute Error (MAE): 19.5705\n",
      "Mean Squared Error (MSE): 1432.5065\n",
      "Root Mean Squared Error (RMSE): 37.8485\n",
      "R-squared (Accuracy): 0.7226\n"
     ]
    }
   ],
   "source": [
    "# Evaluate the model on the train data\n",
    "train_result = model9.predict(X_train1)\n",
    "\n",
    "# Calculate metrics\n",
    "\n",
    "mse = mean_squared_error(y_train1, train_result)\n",
    "rmse = np.sqrt(mse)\n",
    "mae = mean_absolute_error(y_train1, train_result)\n",
    "r2 = r2_score(y_train1, train_result)\n",
    "\n",
    "# Print the results\n",
    "print(\"Evaluation Metrics:\")\n",
    "print(f\"Mean Absolute Error (MAE): {mae:.4f}\")\n",
    "print(f\"Mean Squared Error (MSE): {mse:.4f}\")\n",
    "print(f\"Root Mean Squared Error (RMSE): {rmse:.4f}\")\n",
    "print(f\"R-squared (Accuracy): {r2:.4f}\")"
   ]
  },
  {
   "cell_type": "code",
   "execution_count": 71,
   "id": "be34c72f",
   "metadata": {
    "execution": {
     "iopub.execute_input": "2025-01-28T11:43:09.793999Z",
     "iopub.status.busy": "2025-01-28T11:43:09.793652Z",
     "iopub.status.idle": "2025-01-28T11:43:09.913239Z",
     "shell.execute_reply": "2025-01-28T11:43:09.911906Z"
    },
    "papermill": {
     "duration": 0.400989,
     "end_time": "2025-01-28T11:43:09.915218",
     "exception": false,
     "start_time": "2025-01-28T11:43:09.514229",
     "status": "completed"
    },
    "tags": []
   },
   "outputs": [
    {
     "name": "stdout",
     "output_type": "stream",
     "text": [
      "\u001b[1m10/10\u001b[0m \u001b[32m━━━━━━━━━━━━━━━━━━━━\u001b[0m\u001b[37m\u001b[0m \u001b[1m0s\u001b[0m 4ms/step \n",
      "Evaluation Metrics:\n",
      "Mean Absolute Error (MAE): 19.2833\n",
      "Mean Squared Error (MSE): 760.8439\n",
      "Root Mean Squared Error (RMSE): 27.5834\n",
      "R-squared (Accuracy): 0.8977\n"
     ]
    }
   ],
   "source": [
    "# Evaluate the model on the validation data\n",
    "val_result = model9.predict(X_val1)\n",
    "\n",
    "# Calculate metrics\n",
    "mse = mean_squared_error(y_val1, val_result)\n",
    "rmse = np.sqrt(mse)\n",
    "mae = mean_absolute_error(y_val1, val_result)\n",
    "r2 = r2_score(y_val1, val_result)\n",
    "\n",
    "# Print the results\n",
    "print(\"Evaluation Metrics:\")\n",
    "print(f\"Mean Absolute Error (MAE): {mae:.4f}\")\n",
    "print(f\"Mean Squared Error (MSE): {mse:.4f}\")\n",
    "print(f\"Root Mean Squared Error (RMSE): {rmse:.4f}\")\n",
    "print(f\"R-squared (Accuracy): {r2:.4f}\")"
   ]
  },
  {
   "cell_type": "code",
   "execution_count": 72,
   "id": "428552ef",
   "metadata": {
    "execution": {
     "iopub.execute_input": "2025-01-28T11:43:10.498243Z",
     "iopub.status.busy": "2025-01-28T11:43:10.497741Z",
     "iopub.status.idle": "2025-01-28T11:43:10.620366Z",
     "shell.execute_reply": "2025-01-28T11:43:10.619060Z"
    },
    "papermill": {
     "duration": 0.422782,
     "end_time": "2025-01-28T11:43:10.622279",
     "exception": false,
     "start_time": "2025-01-28T11:43:10.199497",
     "status": "completed"
    },
    "tags": []
   },
   "outputs": [
    {
     "name": "stdout",
     "output_type": "stream",
     "text": [
      "\u001b[1m10/10\u001b[0m \u001b[32m━━━━━━━━━━━━━━━━━━━━\u001b[0m\u001b[37m\u001b[0m \u001b[1m0s\u001b[0m 3ms/step \n",
      "Evaluation Metrics:\n",
      "Mean Absolute Error (MAE): 22.7510\n",
      "Mean Squared Error (MSE): 1162.8587\n",
      "Root Mean Squared Error (RMSE): 34.1007\n",
      "R-squared (Accuracy): 0.6481\n"
     ]
    }
   ],
   "source": [
    "# Evaluate the model on the test data\n",
    "test_result = model9.predict(X_test1)\n",
    "\n",
    "# Calculate metrics\n",
    "mse = mean_squared_error(y_test1, test_result)\n",
    "rmse = np.sqrt(mse)\n",
    "mae = mean_absolute_error(y_test1, test_result)\n",
    "r2 = r2_score(y_test1, test_result)\n",
    "\n",
    "# Print the results\n",
    "print(\"Evaluation Metrics:\")\n",
    "print(f\"Mean Absolute Error (MAE): {mae:.4f}\")\n",
    "print(f\"Mean Squared Error (MSE): {mse:.4f}\")\n",
    "print(f\"Root Mean Squared Error (RMSE): {rmse:.4f}\")\n",
    "print(f\"R-squared (Accuracy): {r2:.4f}\")"
   ]
  },
  {
   "cell_type": "code",
   "execution_count": 73,
   "id": "a60a4458",
   "metadata": {
    "execution": {
     "iopub.execute_input": "2025-01-28T11:43:11.169095Z",
     "iopub.status.busy": "2025-01-28T11:43:11.168583Z",
     "iopub.status.idle": "2025-01-28T11:43:11.549930Z",
     "shell.execute_reply": "2025-01-28T11:43:11.548798Z"
    },
    "papermill": {
     "duration": 0.658914,
     "end_time": "2025-01-28T11:43:11.551846",
     "exception": false,
     "start_time": "2025-01-28T11:43:10.892932",
     "status": "completed"
    },
    "tags": []
   },
   "outputs": [
    {
     "name": "stdout",
     "output_type": "stream",
     "text": [
      "\u001b[1m80/80\u001b[0m \u001b[32m━━━━━━━━━━━━━━━━━━━━\u001b[0m\u001b[37m\u001b[0m \u001b[1m0s\u001b[0m 3ms/step\n"
     ]
    },
    {
     "data": {
      "text/html": [
       "<div>\n",
       "<style scoped>\n",
       "    .dataframe tbody tr th:only-of-type {\n",
       "        vertical-align: middle;\n",
       "    }\n",
       "\n",
       "    .dataframe tbody tr th {\n",
       "        vertical-align: top;\n",
       "    }\n",
       "\n",
       "    .dataframe thead th {\n",
       "        text-align: right;\n",
       "    }\n",
       "</style>\n",
       "<table border=\"1\" class=\"dataframe\">\n",
       "  <thead>\n",
       "    <tr style=\"text-align: right;\">\n",
       "      <th></th>\n",
       "      <th>Train Predictions</th>\n",
       "      <th>Actuals</th>\n",
       "    </tr>\n",
       "  </thead>\n",
       "  <tbody>\n",
       "    <tr>\n",
       "      <th>0</th>\n",
       "      <td>224.116898</td>\n",
       "      <td>195.0</td>\n",
       "    </tr>\n",
       "    <tr>\n",
       "      <th>1</th>\n",
       "      <td>199.105499</td>\n",
       "      <td>185.0</td>\n",
       "    </tr>\n",
       "    <tr>\n",
       "      <th>2</th>\n",
       "      <td>203.824753</td>\n",
       "      <td>208.0</td>\n",
       "    </tr>\n",
       "    <tr>\n",
       "      <th>3</th>\n",
       "      <td>233.325882</td>\n",
       "      <td>290.0</td>\n",
       "    </tr>\n",
       "    <tr>\n",
       "      <th>4</th>\n",
       "      <td>275.444916</td>\n",
       "      <td>267.0</td>\n",
       "    </tr>\n",
       "    <tr>\n",
       "      <th>...</th>\n",
       "      <td>...</td>\n",
       "      <td>...</td>\n",
       "    </tr>\n",
       "    <tr>\n",
       "      <th>2548</th>\n",
       "      <td>374.042969</td>\n",
       "      <td>387.0</td>\n",
       "    </tr>\n",
       "    <tr>\n",
       "      <th>2549</th>\n",
       "      <td>319.629425</td>\n",
       "      <td>169.0</td>\n",
       "    </tr>\n",
       "    <tr>\n",
       "      <th>2550</th>\n",
       "      <td>203.704910</td>\n",
       "      <td>197.0</td>\n",
       "    </tr>\n",
       "    <tr>\n",
       "      <th>2551</th>\n",
       "      <td>238.822845</td>\n",
       "      <td>191.0</td>\n",
       "    </tr>\n",
       "    <tr>\n",
       "      <th>2552</th>\n",
       "      <td>213.753265</td>\n",
       "      <td>198.0</td>\n",
       "    </tr>\n",
       "  </tbody>\n",
       "</table>\n",
       "<p>2553 rows × 2 columns</p>\n",
       "</div>"
      ],
      "text/plain": [
       "      Train Predictions  Actuals\n",
       "0            224.116898    195.0\n",
       "1            199.105499    185.0\n",
       "2            203.824753    208.0\n",
       "3            233.325882    290.0\n",
       "4            275.444916    267.0\n",
       "...                 ...      ...\n",
       "2548         374.042969    387.0\n",
       "2549         319.629425    169.0\n",
       "2550         203.704910    197.0\n",
       "2551         238.822845    191.0\n",
       "2552         213.753265    198.0\n",
       "\n",
       "[2553 rows x 2 columns]"
      ]
     },
     "execution_count": 73,
     "metadata": {},
     "output_type": "execute_result"
    }
   ],
   "source": [
    "train_predictions = model9.predict(X_train1).flatten()\n",
    "train_results = pd.DataFrame(data={'Train Predictions':train_predictions, 'Actuals':y_train1})\n",
    "train_results"
   ]
  },
  {
   "cell_type": "code",
   "execution_count": 74,
   "id": "f76c07a0",
   "metadata": {
    "execution": {
     "iopub.execute_input": "2025-01-28T11:43:12.165681Z",
     "iopub.status.busy": "2025-01-28T11:43:12.165273Z",
     "iopub.status.idle": "2025-01-28T11:43:12.348415Z",
     "shell.execute_reply": "2025-01-28T11:43:12.347337Z"
    },
    "papermill": {
     "duration": 0.461382,
     "end_time": "2025-01-28T11:43:12.350269",
     "exception": false,
     "start_time": "2025-01-28T11:43:11.888887",
     "status": "completed"
    },
    "tags": []
   },
   "outputs": [
    {
     "data": {
      "image/png": "[encoded data removed]",
      "text/plain": [
       "<Figure size 640x480 with 1 Axes>"
      ]
     },
     "metadata": {},
     "output_type": "display_data"
    }
   ],
   "source": [
    "plt.plot(train_results['Actuals'][1:50], label='Actual')\n",
    "plt.plot(train_results['Train Predictions'][1:50], label='Predicted')\n",
    "plt.legend()\n",
    "plt.show()"
   ]
  },
  {
   "cell_type": "code",
   "execution_count": 75,
   "id": "a8d3fdef",
   "metadata": {
    "execution": {
     "iopub.execute_input": "2025-01-28T11:43:12.911239Z",
     "iopub.status.busy": "2025-01-28T11:43:12.910852Z",
     "iopub.status.idle": "2025-01-28T11:43:13.032764Z",
     "shell.execute_reply": "2025-01-28T11:43:13.031410Z"
    },
    "papermill": {
     "duration": 0.403004,
     "end_time": "2025-01-28T11:43:13.034611",
     "exception": false,
     "start_time": "2025-01-28T11:43:12.631607",
     "status": "completed"
    },
    "tags": []
   },
   "outputs": [
    {
     "name": "stdout",
     "output_type": "stream",
     "text": [
      "\u001b[1m10/10\u001b[0m \u001b[32m━━━━━━━━━━━━━━━━━━━━\u001b[0m\u001b[37m\u001b[0m \u001b[1m0s\u001b[0m 4ms/step \n"
     ]
    },
    {
     "data": {
      "text/html": [
       "<div>\n",
       "<style scoped>\n",
       "    .dataframe tbody tr th:only-of-type {\n",
       "        vertical-align: middle;\n",
       "    }\n",
       "\n",
       "    .dataframe tbody tr th {\n",
       "        vertical-align: top;\n",
       "    }\n",
       "\n",
       "    .dataframe thead th {\n",
       "        text-align: right;\n",
       "    }\n",
       "</style>\n",
       "<table border=\"1\" class=\"dataframe\">\n",
       "  <thead>\n",
       "    <tr style=\"text-align: right;\">\n",
       "      <th></th>\n",
       "      <th>Train Predictions</th>\n",
       "      <th>Actuals</th>\n",
       "    </tr>\n",
       "  </thead>\n",
       "  <tbody>\n",
       "    <tr>\n",
       "      <th>0</th>\n",
       "      <td>287.427338</td>\n",
       "      <td>298.0</td>\n",
       "    </tr>\n",
       "    <tr>\n",
       "      <th>1</th>\n",
       "      <td>289.152130</td>\n",
       "      <td>298.0</td>\n",
       "    </tr>\n",
       "    <tr>\n",
       "      <th>2</th>\n",
       "      <td>289.032990</td>\n",
       "      <td>298.0</td>\n",
       "    </tr>\n",
       "    <tr>\n",
       "      <th>3</th>\n",
       "      <td>289.032990</td>\n",
       "      <td>298.0</td>\n",
       "    </tr>\n",
       "    <tr>\n",
       "      <th>4</th>\n",
       "      <td>289.032990</td>\n",
       "      <td>298.0</td>\n",
       "    </tr>\n",
       "    <tr>\n",
       "      <th>...</th>\n",
       "      <td>...</td>\n",
       "      <td>...</td>\n",
       "    </tr>\n",
       "    <tr>\n",
       "      <th>308</th>\n",
       "      <td>179.034912</td>\n",
       "      <td>193.0</td>\n",
       "    </tr>\n",
       "    <tr>\n",
       "      <th>309</th>\n",
       "      <td>229.399673</td>\n",
       "      <td>199.0</td>\n",
       "    </tr>\n",
       "    <tr>\n",
       "      <th>310</th>\n",
       "      <td>208.122009</td>\n",
       "      <td>197.0</td>\n",
       "    </tr>\n",
       "    <tr>\n",
       "      <th>311</th>\n",
       "      <td>211.338058</td>\n",
       "      <td>197.0</td>\n",
       "    </tr>\n",
       "    <tr>\n",
       "      <th>312</th>\n",
       "      <td>202.834885</td>\n",
       "      <td>190.0</td>\n",
       "    </tr>\n",
       "  </tbody>\n",
       "</table>\n",
       "<p>313 rows × 2 columns</p>\n",
       "</div>"
      ],
      "text/plain": [
       "     Train Predictions  Actuals\n",
       "0           287.427338    298.0\n",
       "1           289.152130    298.0\n",
       "2           289.032990    298.0\n",
       "3           289.032990    298.0\n",
       "4           289.032990    298.0\n",
       "..                 ...      ...\n",
       "308         179.034912    193.0\n",
       "309         229.399673    199.0\n",
       "310         208.122009    197.0\n",
       "311         211.338058    197.0\n",
       "312         202.834885    190.0\n",
       "\n",
       "[313 rows x 2 columns]"
      ]
     },
     "execution_count": 75,
     "metadata": {},
     "output_type": "execute_result"
    }
   ],
   "source": [
    "val_predictions = model9.predict(X_val1).flatten()\n",
    "val_results = pd.DataFrame(data={'Train Predictions':val_predictions, 'Actuals':y_val1})\n",
    "val_results"
   ]
  },
  {
   "cell_type": "code",
   "execution_count": 76,
   "id": "20983f6d",
   "metadata": {
    "execution": {
     "iopub.execute_input": "2025-01-28T11:43:13.655315Z",
     "iopub.status.busy": "2025-01-28T11:43:13.654910Z",
     "iopub.status.idle": "2025-01-28T11:43:13.833621Z",
     "shell.execute_reply": "2025-01-28T11:43:13.832435Z"
    },
    "papermill": {
     "duration": 0.518386,
     "end_time": "2025-01-28T11:43:13.835460",
     "exception": false,
     "start_time": "2025-01-28T11:43:13.317074",
     "status": "completed"
    },
    "tags": []
   },
   "outputs": [
    {
     "data": {
      "image/png": "[encoded data removed]",
      "text/plain": [
       "<Figure size 640x480 with 1 Axes>"
      ]
     },
     "metadata": {},
     "output_type": "display_data"
    }
   ],
   "source": [
    "plt.plot(val_results['Actuals'][1:50], label='Actual')\n",
    "plt.plot(val_results['Train Predictions'][1:50], label='Predicted')\n",
    "plt.legend()\n",
    "plt.show()"
   ]
  },
  {
   "cell_type": "code",
   "execution_count": 77,
   "id": "0d2438e3",
   "metadata": {
    "execution": {
     "iopub.execute_input": "2025-01-28T11:43:14.410092Z",
     "iopub.status.busy": "2025-01-28T11:43:14.409745Z",
     "iopub.status.idle": "2025-01-28T11:43:14.534713Z",
     "shell.execute_reply": "2025-01-28T11:43:14.533455Z"
    },
    "papermill": {
     "duration": 0.408576,
     "end_time": "2025-01-28T11:43:14.536592",
     "exception": false,
     "start_time": "2025-01-28T11:43:14.128016",
     "status": "completed"
    },
    "tags": []
   },
   "outputs": [
    {
     "name": "stdout",
     "output_type": "stream",
     "text": [
      "\u001b[1m10/10\u001b[0m \u001b[32m━━━━━━━━━━━━━━━━━━━━\u001b[0m\u001b[37m\u001b[0m \u001b[1m0s\u001b[0m 4ms/step \n"
     ]
    },
    {
     "data": {
      "text/html": [
       "<div>\n",
       "<style scoped>\n",
       "    .dataframe tbody tr th:only-of-type {\n",
       "        vertical-align: middle;\n",
       "    }\n",
       "\n",
       "    .dataframe tbody tr th {\n",
       "        vertical-align: top;\n",
       "    }\n",
       "\n",
       "    .dataframe thead th {\n",
       "        text-align: right;\n",
       "    }\n",
       "</style>\n",
       "<table border=\"1\" class=\"dataframe\">\n",
       "  <thead>\n",
       "    <tr style=\"text-align: right;\">\n",
       "      <th></th>\n",
       "      <th>Train Predictions</th>\n",
       "      <th>Actuals</th>\n",
       "    </tr>\n",
       "  </thead>\n",
       "  <tbody>\n",
       "    <tr>\n",
       "      <th>0</th>\n",
       "      <td>209.020432</td>\n",
       "      <td>190.0</td>\n",
       "    </tr>\n",
       "    <tr>\n",
       "      <th>1</th>\n",
       "      <td>202.682693</td>\n",
       "      <td>177.0</td>\n",
       "    </tr>\n",
       "    <tr>\n",
       "      <th>2</th>\n",
       "      <td>194.499390</td>\n",
       "      <td>172.0</td>\n",
       "    </tr>\n",
       "    <tr>\n",
       "      <th>3</th>\n",
       "      <td>195.603638</td>\n",
       "      <td>170.0</td>\n",
       "    </tr>\n",
       "    <tr>\n",
       "      <th>4</th>\n",
       "      <td>189.630951</td>\n",
       "      <td>197.0</td>\n",
       "    </tr>\n",
       "    <tr>\n",
       "      <th>...</th>\n",
       "      <td>...</td>\n",
       "      <td>...</td>\n",
       "    </tr>\n",
       "    <tr>\n",
       "      <th>310</th>\n",
       "      <td>147.632507</td>\n",
       "      <td>134.0</td>\n",
       "    </tr>\n",
       "    <tr>\n",
       "      <th>311</th>\n",
       "      <td>146.989944</td>\n",
       "      <td>144.0</td>\n",
       "    </tr>\n",
       "    <tr>\n",
       "      <th>312</th>\n",
       "      <td>155.391876</td>\n",
       "      <td>155.0</td>\n",
       "    </tr>\n",
       "    <tr>\n",
       "      <th>313</th>\n",
       "      <td>162.992569</td>\n",
       "      <td>155.0</td>\n",
       "    </tr>\n",
       "    <tr>\n",
       "      <th>314</th>\n",
       "      <td>156.499832</td>\n",
       "      <td>152.0</td>\n",
       "    </tr>\n",
       "  </tbody>\n",
       "</table>\n",
       "<p>315 rows × 2 columns</p>\n",
       "</div>"
      ],
      "text/plain": [
       "     Train Predictions  Actuals\n",
       "0           209.020432    190.0\n",
       "1           202.682693    177.0\n",
       "2           194.499390    172.0\n",
       "3           195.603638    170.0\n",
       "4           189.630951    197.0\n",
       "..                 ...      ...\n",
       "310         147.632507    134.0\n",
       "311         146.989944    144.0\n",
       "312         155.391876    155.0\n",
       "313         162.992569    155.0\n",
       "314         156.499832    152.0\n",
       "\n",
       "[315 rows x 2 columns]"
      ]
     },
     "execution_count": 77,
     "metadata": {},
     "output_type": "execute_result"
    }
   ],
   "source": [
    "test_predictions = model9.predict(X_test1).flatten()\n",
    "test_results = pd.DataFrame(data={'Train Predictions':test_predictions, 'Actuals':y_test1})\n",
    "test_results"
   ]
  },
  {
   "cell_type": "code",
   "execution_count": 78,
   "id": "8b32677d",
   "metadata": {
    "execution": {
     "iopub.execute_input": "2025-01-28T11:43:15.092344Z",
     "iopub.status.busy": "2025-01-28T11:43:15.091992Z",
     "iopub.status.idle": "2025-01-28T11:43:15.272100Z",
     "shell.execute_reply": "2025-01-28T11:43:15.270879Z"
    },
    "papermill": {
     "duration": 0.458306,
     "end_time": "2025-01-28T11:43:15.274054",
     "exception": false,
     "start_time": "2025-01-28T11:43:14.815748",
     "status": "completed"
    },
    "tags": []
   },
   "outputs": [
    {
     "data": {
      "image/png": "[encoded data removed]",
      "text/plain": [
       "<Figure size 640x480 with 1 Axes>"
      ]
     },
     "metadata": {},
     "output_type": "display_data"
    }
   ],
   "source": [
    "plt.plot(test_results['Train Predictions'][1:50], label='Predicted')\n",
    "plt.plot(test_results['Actuals'][1:50], label='Actual')\n",
    "plt.legend()\n",
    "plt.show()"
   ]
  },
  {
   "cell_type": "code",
   "execution_count": null,
   "id": "84305783",
   "metadata": {
    "papermill": {
     "duration": 0.343648,
     "end_time": "2025-01-28T11:43:15.903256",
     "exception": false,
     "start_time": "2025-01-28T11:43:15.559608",
     "status": "completed"
    },
    "tags": []
   },
   "outputs": [],
   "source": []
  },
  {
   "cell_type": "code",
   "execution_count": null,
   "id": "9493289d",
   "metadata": {
    "papermill": {
     "duration": 0.277435,
     "end_time": "2025-01-28T11:43:16.459822",
     "exception": false,
     "start_time": "2025-01-28T11:43:16.182387",
     "status": "completed"
    },
    "tags": []
   },
   "outputs": [],
   "source": []
  },
  {
   "cell_type": "code",
   "execution_count": 79,
   "id": "6bb0cc9e",
   "metadata": {
    "execution": {
     "iopub.execute_input": "2025-01-28T11:43:17.016126Z",
     "iopub.status.busy": "2025-01-28T11:43:17.015763Z",
     "iopub.status.idle": "2025-01-28T11:43:56.340697Z",
     "shell.execute_reply": "2025-01-28T11:43:56.339671Z"
    },
    "papermill": {
     "duration": 39.603498,
     "end_time": "2025-01-28T11:43:56.342324",
     "exception": false,
     "start_time": "2025-01-28T11:43:16.738826",
     "status": "completed"
    },
    "tags": []
   },
   "outputs": [
    {
     "name": "stdout",
     "output_type": "stream",
     "text": [
      "Epoch 1/100\n",
      "\u001b[1m40/40\u001b[0m \u001b[32m━━━━━━━━━━━━━━━━━━━━\u001b[0m\u001b[37m\u001b[0m \u001b[1m10s\u001b[0m 48ms/step - loss: 27808.2227 - root_mean_squared_error: 166.7077 - val_loss: 34077.3867 - val_root_mean_squared_error: 184.6006 - learning_rate: 0.0010\n",
      "Epoch 2/100\n",
      "\u001b[1m40/40\u001b[0m \u001b[32m━━━━━━━━━━━━━━━━━━━━\u001b[0m\u001b[37m\u001b[0m \u001b[1m1s\u001b[0m 25ms/step - loss: 20771.4180 - root_mean_squared_error: 144.0622 - val_loss: 32187.9512 - val_root_mean_squared_error: 179.4100 - learning_rate: 0.0010\n",
      "Epoch 3/100\n",
      "\u001b[1m40/40\u001b[0m \u001b[32m━━━━━━━━━━━━━━━━━━━━\u001b[0m\u001b[37m\u001b[0m \u001b[1m1s\u001b[0m 25ms/step - loss: 15832.0205 - root_mean_squared_error: 125.8011 - val_loss: 30503.4980 - val_root_mean_squared_error: 174.6525 - learning_rate: 0.0010\n",
      "Epoch 4/100\n",
      "\u001b[1m40/40\u001b[0m \u001b[32m━━━━━━━━━━━━━━━━━━━━\u001b[0m\u001b[37m\u001b[0m \u001b[1m1s\u001b[0m 24ms/step - loss: 14381.7764 - root_mean_squared_error: 119.8794 - val_loss: 28954.1914 - val_root_mean_squared_error: 170.1593 - learning_rate: 0.0010\n",
      "Epoch 5/100\n",
      "\u001b[1m40/40\u001b[0m \u001b[32m━━━━━━━━━━━━━━━━━━━━\u001b[0m\u001b[37m\u001b[0m \u001b[1m1s\u001b[0m 26ms/step - loss: 11285.5684 - root_mean_squared_error: 106.2093 - val_loss: 27463.3359 - val_root_mean_squared_error: 165.7207 - learning_rate: 0.0010\n",
      "Epoch 6/100\n",
      "\u001b[1m40/40\u001b[0m \u001b[32m━━━━━━━━━━━━━━━━━━━━\u001b[0m\u001b[37m\u001b[0m \u001b[1m1s\u001b[0m 25ms/step - loss: 10310.4102 - root_mean_squared_error: 101.4629 - val_loss: 26028.2148 - val_root_mean_squared_error: 161.3326 - learning_rate: 0.0010\n",
      "Epoch 7/100\n",
      "\u001b[1m40/40\u001b[0m \u001b[32m━━━━━━━━━━━━━━━━━━━━\u001b[0m\u001b[37m\u001b[0m \u001b[1m1s\u001b[0m 25ms/step - loss: 9228.1943 - root_mean_squared_error: 95.8902 - val_loss: 24646.4785 - val_root_mean_squared_error: 156.9920 - learning_rate: 0.0010\n",
      "Epoch 8/100\n",
      "\u001b[1m40/40\u001b[0m \u001b[32m━━━━━━━━━━━━━━━━━━━━\u001b[0m\u001b[37m\u001b[0m \u001b[1m1s\u001b[0m 25ms/step - loss: 6864.6270 - root_mean_squared_error: 82.7627 - val_loss: 23318.3887 - val_root_mean_squared_error: 152.7036 - learning_rate: 0.0010\n",
      "Epoch 9/100\n",
      "\u001b[1m40/40\u001b[0m \u001b[32m━━━━━━━━━━━━━━━━━━━━\u001b[0m\u001b[37m\u001b[0m \u001b[1m1s\u001b[0m 25ms/step - loss: 6944.2007 - root_mean_squared_error: 83.1949 - val_loss: 22044.3164 - val_root_mean_squared_error: 148.4733 - learning_rate: 0.0010\n",
      "Epoch 10/100\n",
      "\u001b[1m40/40\u001b[0m \u001b[32m━━━━━━━━━━━━━━━━━━━━\u001b[0m\u001b[37m\u001b[0m \u001b[1m1s\u001b[0m 24ms/step - loss: 5874.1729 - root_mean_squared_error: 76.5273 - val_loss: 20857.2617 - val_root_mean_squared_error: 144.4204 - learning_rate: 0.0010\n",
      "Epoch 11/100\n",
      "\u001b[1m40/40\u001b[0m \u001b[32m━━━━━━━━━━━━━━━━━━━━\u001b[0m\u001b[37m\u001b[0m \u001b[1m1s\u001b[0m 25ms/step - loss: 5316.4229 - root_mean_squared_error: 72.8638 - val_loss: 20048.6426 - val_root_mean_squared_error: 141.5932 - learning_rate: 0.0010\n",
      "Epoch 12/100\n",
      "\u001b[1m40/40\u001b[0m \u001b[32m━━━━━━━━━━━━━━━━━━━━\u001b[0m\u001b[37m\u001b[0m \u001b[1m1s\u001b[0m 25ms/step - loss: 4994.7612 - root_mean_squared_error: 70.6556 - val_loss: 19803.5918 - val_root_mean_squared_error: 140.7252 - learning_rate: 0.0010\n",
      "Epoch 13/100\n",
      "\u001b[1m40/40\u001b[0m \u001b[32m━━━━━━━━━━━━━━━━━━━━\u001b[0m\u001b[37m\u001b[0m \u001b[1m1s\u001b[0m 28ms/step - loss: 5404.8853 - root_mean_squared_error: 73.4656 - val_loss: 19727.9688 - val_root_mean_squared_error: 140.4563 - learning_rate: 0.0010\n",
      "Epoch 14/100\n",
      "\u001b[1m40/40\u001b[0m \u001b[32m━━━━━━━━━━━━━━━━━━━━\u001b[0m\u001b[37m\u001b[0m \u001b[1m1s\u001b[0m 31ms/step - loss: 5456.3198 - root_mean_squared_error: 73.8344 - val_loss: 19757.1152 - val_root_mean_squared_error: 140.5600 - learning_rate: 0.0010\n",
      "Epoch 15/100\n",
      "\u001b[1m40/40\u001b[0m \u001b[32m━━━━━━━━━━━━━━━━━━━━\u001b[0m\u001b[37m\u001b[0m \u001b[1m1s\u001b[0m 24ms/step - loss: 5845.5430 - root_mean_squared_error: 76.3103 - val_loss: 19765.6543 - val_root_mean_squared_error: 140.5904 - learning_rate: 0.0010\n",
      "Epoch 16/100\n",
      "\u001b[1m40/40\u001b[0m \u001b[32m━━━━━━━━━━━━━━━━━━━━\u001b[0m\u001b[37m\u001b[0m \u001b[1m1s\u001b[0m 23ms/step - loss: 5891.0815 - root_mean_squared_error: 76.4445 - val_loss: 19756.9336 - val_root_mean_squared_error: 140.5594 - learning_rate: 0.0010\n",
      "Epoch 17/100\n",
      "\u001b[1m40/40\u001b[0m \u001b[32m━━━━━━━━━━━━━━━━━━━━\u001b[0m\u001b[37m\u001b[0m \u001b[1m1s\u001b[0m 23ms/step - loss: 5117.7275 - root_mean_squared_error: 71.5089 - val_loss: 19745.9648 - val_root_mean_squared_error: 140.5203 - learning_rate: 0.0010\n",
      "Epoch 18/100\n",
      "\u001b[1m40/40\u001b[0m \u001b[32m━━━━━━━━━━━━━━━━━━━━\u001b[0m\u001b[37m\u001b[0m \u001b[1m1s\u001b[0m 23ms/step - loss: 5072.5391 - root_mean_squared_error: 71.1769 - val_loss: 19739.8145 - val_root_mean_squared_error: 140.4984 - learning_rate: 0.0010\n",
      "Epoch 19/100\n",
      "\u001b[1m40/40\u001b[0m \u001b[32m━━━━━━━━━━━━━━━━━━━━\u001b[0m\u001b[37m\u001b[0m \u001b[1m1s\u001b[0m 24ms/step - loss: 5397.9180 - root_mean_squared_error: 73.4096 - val_loss: 19733.3633 - val_root_mean_squared_error: 140.4755 - learning_rate: 5.0000e-04\n",
      "Epoch 20/100\n",
      "\u001b[1m40/40\u001b[0m \u001b[32m━━━━━━━━━━━━━━━━━━━━\u001b[0m\u001b[37m\u001b[0m \u001b[1m1s\u001b[0m 25ms/step - loss: 5448.2773 - root_mean_squared_error: 73.7580 - val_loss: 19695.8945 - val_root_mean_squared_error: 140.3421 - learning_rate: 5.0000e-04\n",
      "Epoch 21/100\n",
      "\u001b[1m40/40\u001b[0m \u001b[32m━━━━━━━━━━━━━━━━━━━━\u001b[0m\u001b[37m\u001b[0m \u001b[1m1s\u001b[0m 27ms/step - loss: 5072.6602 - root_mean_squared_error: 71.1580 - val_loss: 19704.7148 - val_root_mean_squared_error: 140.3735 - learning_rate: 5.0000e-04\n",
      "Epoch 22/100\n",
      "\u001b[1m40/40\u001b[0m \u001b[32m━━━━━━━━━━━━━━━━━━━━\u001b[0m\u001b[37m\u001b[0m \u001b[1m1s\u001b[0m 24ms/step - loss: 5401.7627 - root_mean_squared_error: 73.3711 - val_loss: 19741.5332 - val_root_mean_squared_error: 140.5046 - learning_rate: 5.0000e-04\n",
      "Epoch 23/100\n",
      "\u001b[1m40/40\u001b[0m \u001b[32m━━━━━━━━━━━━━━━━━━━━\u001b[0m\u001b[37m\u001b[0m \u001b[1m1s\u001b[0m 23ms/step - loss: 5172.7046 - root_mean_squared_error: 71.8523 - val_loss: 19705.6621 - val_root_mean_squared_error: 140.3769 - learning_rate: 5.0000e-04\n",
      "Epoch 24/100\n",
      "\u001b[1m40/40\u001b[0m \u001b[32m━━━━━━━━━━━━━━━━━━━━\u001b[0m\u001b[37m\u001b[0m \u001b[1m1s\u001b[0m 24ms/step - loss: 5130.6211 - root_mean_squared_error: 71.5879 - val_loss: 19705.6543 - val_root_mean_squared_error: 140.3768 - learning_rate: 5.0000e-04\n",
      "Epoch 25/100\n",
      "\u001b[1m40/40\u001b[0m \u001b[32m━━━━━━━━━━━━━━━━━━━━\u001b[0m\u001b[37m\u001b[0m \u001b[1m1s\u001b[0m 24ms/step - loss: 5370.0400 - root_mean_squared_error: 73.2427 - val_loss: 19735.9082 - val_root_mean_squared_error: 140.4845 - learning_rate: 5.0000e-04\n",
      "Epoch 26/100\n",
      "\u001b[1m40/40\u001b[0m \u001b[32m━━━━━━━━━━━━━━━━━━━━\u001b[0m\u001b[37m\u001b[0m \u001b[1m1s\u001b[0m 23ms/step - loss: 5073.2349 - root_mean_squared_error: 71.2059 - val_loss: 19739.9453 - val_root_mean_squared_error: 140.4989 - learning_rate: 2.5000e-04\n",
      "Epoch 27/100\n",
      "\u001b[1m40/40\u001b[0m \u001b[32m━━━━━━━━━━━━━━━━━━━━\u001b[0m\u001b[37m\u001b[0m \u001b[1m1s\u001b[0m 23ms/step - loss: 5388.1797 - root_mean_squared_error: 73.2652 - val_loss: 19719.5977 - val_root_mean_squared_error: 140.4265 - learning_rate: 2.5000e-04\n",
      "Epoch 28/100\n",
      "\u001b[1m40/40\u001b[0m \u001b[32m━━━━━━━━━━━━━━━━━━━━\u001b[0m\u001b[37m\u001b[0m \u001b[1m1s\u001b[0m 23ms/step - loss: 5927.3911 - root_mean_squared_error: 76.7328 - val_loss: 19717.7676 - val_root_mean_squared_error: 140.4200 - learning_rate: 2.5000e-04\n",
      "Epoch 29/100\n",
      "\u001b[1m40/40\u001b[0m \u001b[32m━━━━━━━━━━━━━━━━━━━━\u001b[0m\u001b[37m\u001b[0m \u001b[1m1s\u001b[0m 23ms/step - loss: 5348.8018 - root_mean_squared_error: 73.0575 - val_loss: 19722.9141 - val_root_mean_squared_error: 140.4383 - learning_rate: 2.5000e-04\n",
      "Epoch 30/100\n",
      "\u001b[1m40/40\u001b[0m \u001b[32m━━━━━━━━━━━━━━━━━━━━\u001b[0m\u001b[37m\u001b[0m \u001b[1m1s\u001b[0m 23ms/step - loss: 4848.0908 - root_mean_squared_error: 69.3855 - val_loss: 19713.3262 - val_root_mean_squared_error: 140.4042 - learning_rate: 2.5000e-04\n"
     ]
    },
    {
     "data": {
      "text/plain": [
       "<keras.src.callbacks.history.History at 0x7b32e5ed3880>"
      ]
     },
     "execution_count": 79,
     "metadata": {},
     "output_type": "execute_result"
    }
   ],
   "source": [
    "model10 = Sequential()\n",
    "model10.add(InputLayer((6, 6)))  # Increased sequence length\n",
    "model10.add(LayerNormalization())  # Better for sequences\n",
    "model10.add(Bidirectional(GRU(128, activation='tanh', return_sequences=True, recurrent_dropout=0.2)))\n",
    "model10.add(Dropout(0.3))\n",
    "model10.add(Bidirectional(GRU(64, activation='tanh', recurrent_dropout=0.2)))\n",
    "model10.add(Dense(1, activation='linear'))  # Simplified output\n",
    "\n",
    "optimizer = Adam(learning_rate=0.001, clipvalue=0.5)\n",
    "lr_scheduler = ReduceLROnPlateau(monitor='val_loss', factor=0.5, patience=5)\n",
    "early_stopping = EarlyStopping(monitor='val_loss', patience=10, restore_best_weights=True)\n",
    "cp10 = ModelCheckpoint('/kaggle/working/model10.keras', save_best_only=True)\n",
    "\n",
    "model10.compile(loss=MeanSquaredError(), optimizer=optimizer, metrics=[RootMeanSquaredError()])\n",
    "\n",
    "\n",
    "\n",
    "model10.fit(\n",
    "    X_train1, y_train1,\n",
    "    validation_data=(X_val1, y_val1),\n",
    "    epochs=100,  # Train longer with early stopping\n",
    "    batch_size=64,\n",
    "    callbacks=[cp10, lr_scheduler, early_stopping]\n",
    ")"
   ]
  },
  {
   "cell_type": "code",
   "execution_count": 80,
   "id": "448c03cc",
   "metadata": {
    "execution": {
     "iopub.execute_input": "2025-01-28T11:43:56.959567Z",
     "iopub.status.busy": "2025-01-28T11:43:56.959154Z",
     "iopub.status.idle": "2025-01-28T11:43:57.207984Z",
     "shell.execute_reply": "2025-01-28T11:43:57.206858Z"
    },
    "papermill": {
     "duration": 0.558674,
     "end_time": "2025-01-28T11:43:57.210085",
     "exception": false,
     "start_time": "2025-01-28T11:43:56.651411",
     "status": "completed"
    },
    "tags": []
   },
   "outputs": [],
   "source": [
    "from tensorflow.keras.models import load_model\n",
    "model10 = load_model('/kaggle/working/model10.keras')"
   ]
  },
  {
   "cell_type": "code",
   "execution_count": 81,
   "id": "cf6d1c50",
   "metadata": {
    "execution": {
     "iopub.execute_input": "2025-01-28T11:43:57.893056Z",
     "iopub.status.busy": "2025-01-28T11:43:57.892704Z",
     "iopub.status.idle": "2025-01-28T11:43:59.835820Z",
     "shell.execute_reply": "2025-01-28T11:43:59.834610Z"
    },
    "papermill": {
     "duration": 2.315099,
     "end_time": "2025-01-28T11:43:59.837677",
     "exception": false,
     "start_time": "2025-01-28T11:43:57.522578",
     "status": "completed"
    },
    "tags": []
   },
   "outputs": [
    {
     "name": "stdout",
     "output_type": "stream",
     "text": [
      "\u001b[1m80/80\u001b[0m \u001b[32m━━━━━━━━━━━━━━━━━━━━\u001b[0m\u001b[37m\u001b[0m \u001b[1m2s\u001b[0m 14ms/step\n",
      "Evaluation Metrics:\n",
      "Mean Absolute Error (MAE): 93.7453\n",
      "Mean Squared Error (MSE): 13874.3663\n",
      "Root Mean Squared Error (RMSE): 117.7895\n",
      "R-squared (Accuracy): -1.6868\n"
     ]
    }
   ],
   "source": [
    "# Evaluate the model on the train data\n",
    "train_result = model10.predict(X_train1)\n",
    "\n",
    "# Calculate metrics\n",
    "mse = mean_squared_error(y_train1, train_result)\n",
    "rmse = np.sqrt(mse)\n",
    "mae = mean_absolute_error(y_train1, train_result)\n",
    "r2 = r2_score(y_train1, train_result)\n",
    "\n",
    "# Print the results\n",
    "print(\"Evaluation Metrics:\")\n",
    "print(f\"Mean Absolute Error (MAE): {mae:.4f}\")\n",
    "print(f\"Mean Squared Error (MSE): {mse:.4f}\")\n",
    "print(f\"Root Mean Squared Error (RMSE): {rmse:.4f}\")\n",
    "print(f\"R-squared (Accuracy): {r2:.4f}\")"
   ]
  },
  {
   "cell_type": "code",
   "execution_count": 82,
   "id": "2e584ce1",
   "metadata": {
    "execution": {
     "iopub.execute_input": "2025-01-28T11:44:00.482954Z",
     "iopub.status.busy": "2025-01-28T11:44:00.482355Z",
     "iopub.status.idle": "2025-01-28T11:44:00.619385Z",
     "shell.execute_reply": "2025-01-28T11:44:00.618153Z"
    },
    "papermill": {
     "duration": 0.469128,
     "end_time": "2025-01-28T11:44:00.621405",
     "exception": false,
     "start_time": "2025-01-28T11:44:00.152277",
     "status": "completed"
    },
    "tags": []
   },
   "outputs": [
    {
     "name": "stdout",
     "output_type": "stream",
     "text": [
      "\u001b[1m10/10\u001b[0m \u001b[32m━━━━━━━━━━━━━━━━━━━━\u001b[0m\u001b[37m\u001b[0m \u001b[1m0s\u001b[0m 5ms/step \n",
      "Evaluation Metrics:\n",
      "Mean Absolute Error (MAE): 112.8414\n",
      "Mean Squared Error (MSE): 19695.8986\n",
      "Root Mean Squared Error (RMSE): 140.3421\n",
      "R-squared (Accuracy): -1.6480\n"
     ]
    }
   ],
   "source": [
    "# Evaluate the model on the validation data\n",
    "val_result = model10.predict(X_val1)\n",
    "\n",
    "# Calculate metrics\n",
    "mse = mean_squared_error(y_val1, val_result)\n",
    "rmse = np.sqrt(mse)\n",
    "mae = mean_absolute_error(y_val1, val_result)\n",
    "r2 = r2_score(y_val1, val_result)\n",
    "\n",
    "# Print the results\n",
    "print(\"Evaluation Metrics:\")\n",
    "print(f\"Mean Absolute Error (MAE): {mae:.4f}\")\n",
    "print(f\"Mean Squared Error (MSE): {mse:.4f}\")\n",
    "print(f\"Root Mean Squared Error (RMSE): {rmse:.4f}\")\n",
    "print(f\"R-squared (Accuracy): {r2:.4f}\")"
   ]
  },
  {
   "cell_type": "code",
   "execution_count": 83,
   "id": "9c1cd69c",
   "metadata": {
    "execution": {
     "iopub.execute_input": "2025-01-28T11:44:01.243406Z",
     "iopub.status.busy": "2025-01-28T11:44:01.243045Z",
     "iopub.status.idle": "2025-01-28T11:44:01.370586Z",
     "shell.execute_reply": "2025-01-28T11:44:01.369566Z"
    },
    "papermill": {
     "duration": 0.442679,
     "end_time": "2025-01-28T11:44:01.372212",
     "exception": false,
     "start_time": "2025-01-28T11:44:00.929533",
     "status": "completed"
    },
    "tags": []
   },
   "outputs": [
    {
     "name": "stdout",
     "output_type": "stream",
     "text": [
      "\u001b[1m10/10\u001b[0m \u001b[32m━━━━━━━━━━━━━━━━━━━━\u001b[0m\u001b[37m\u001b[0m \u001b[1m0s\u001b[0m 5ms/step \n",
      "Evaluation Metrics:\n",
      "Mean Absolute Error (MAE): 77.0897\n",
      "Mean Squared Error (MSE): 9145.1865\n",
      "Root Mean Squared Error (RMSE): 95.6305\n",
      "R-squared (Accuracy): -1.7675\n"
     ]
    }
   ],
   "source": [
    "# Evaluate the model on the test data\n",
    "test_result = model10.predict(X_test1)\n",
    "\n",
    "# Calculate metrics\n",
    "mse = mean_squared_error(y_test1, test_result)\n",
    "rmse = np.sqrt(mse)\n",
    "mae = mean_absolute_error(y_test1, test_result)\n",
    "r2 = r2_score(y_test1, test_result)\n",
    "\n",
    "# Print the results\n",
    "print(\"Evaluation Metrics:\")\n",
    "print(f\"Mean Absolute Error (MAE): {mae:.4f}\")\n",
    "print(f\"Mean Squared Error (MSE): {mse:.4f}\")\n",
    "print(f\"Root Mean Squared Error (RMSE): {rmse:.4f}\")\n",
    "print(f\"R-squared (Accuracy): {r2:.4f}\")"
   ]
  },
  {
   "cell_type": "code",
   "execution_count": null,
   "id": "08b674a6",
   "metadata": {
    "papermill": {
     "duration": 0.307979,
     "end_time": "2025-01-28T11:44:02.051059",
     "exception": false,
     "start_time": "2025-01-28T11:44:01.743080",
     "status": "completed"
    },
    "tags": []
   },
   "outputs": [],
   "source": []
  },
  {
   "cell_type": "markdown",
   "id": "7a349e8a",
   "metadata": {
    "papermill": {
     "duration": 0.307927,
     "end_time": "2025-01-28T11:44:02.671477",
     "exception": false,
     "start_time": "2025-01-28T11:44:02.363550",
     "status": "completed"
    },
    "tags": []
   },
   "source": [
    "# Scaled"
   ]
  },
  {
   "cell_type": "code",
   "execution_count": null,
   "id": "61173f58",
   "metadata": {
    "papermill": {
     "duration": 0.372265,
     "end_time": "2025-01-28T11:44:03.355400",
     "exception": false,
     "start_time": "2025-01-28T11:44:02.983135",
     "status": "completed"
    },
    "tags": []
   },
   "outputs": [],
   "source": []
  },
  {
   "cell_type": "code",
   "execution_count": 84,
   "id": "3e441add",
   "metadata": {
    "execution": {
     "iopub.execute_input": "2025-01-28T11:44:03.968977Z",
     "iopub.status.busy": "2025-01-28T11:44:03.968615Z",
     "iopub.status.idle": "2025-01-28T11:44:03.973995Z",
     "shell.execute_reply": "2025-01-28T11:44:03.972997Z"
    },
    "papermill": {
     "duration": 0.310961,
     "end_time": "2025-01-28T11:44:03.975946",
     "exception": false,
     "start_time": "2025-01-28T11:44:03.664985",
     "status": "completed"
    },
    "tags": []
   },
   "outputs": [],
   "source": [
    "aqi_normal = new_data4.copy()"
   ]
  },
  {
   "cell_type": "code",
   "execution_count": 85,
   "id": "9dd254c5",
   "metadata": {
    "execution": {
     "iopub.execute_input": "2025-01-28T11:44:04.663598Z",
     "iopub.status.busy": "2025-01-28T11:44:04.663206Z",
     "iopub.status.idle": "2025-01-28T11:44:04.668785Z",
     "shell.execute_reply": "2025-01-28T11:44:04.667653Z"
    },
    "papermill": {
     "duration": 0.379976,
     "end_time": "2025-01-28T11:44:04.670618",
     "exception": false,
     "start_time": "2025-01-28T11:44:04.290642",
     "status": "completed"
    },
    "tags": []
   },
   "outputs": [],
   "source": [
    "aqi_normal = aqi_normal.drop([ 'humidity', 'pressure',\n",
    "       'temperature', 'wind-speed', 'Country_City', 'Checks', \n",
    "            'AQI_smoothed_iqr', 'AQI_smoothed_zscore', 'AQI_smoothed_rolling'], axis = 1)"
   ]
  },
  {
   "cell_type": "code",
   "execution_count": 86,
   "id": "26dfb820",
   "metadata": {
    "execution": {
     "iopub.execute_input": "2025-01-28T11:44:05.288866Z",
     "iopub.status.busy": "2025-01-28T11:44:05.288515Z",
     "iopub.status.idle": "2025-01-28T11:44:05.302989Z",
     "shell.execute_reply": "2025-01-28T11:44:05.302007Z"
    },
    "papermill": {
     "duration": 0.32415,
     "end_time": "2025-01-28T11:44:05.304744",
     "exception": false,
     "start_time": "2025-01-28T11:44:04.980594",
     "status": "completed"
    },
    "tags": []
   },
   "outputs": [
    {
     "data": {
      "text/html": [
       "<div>\n",
       "<style scoped>\n",
       "    .dataframe tbody tr th:only-of-type {\n",
       "        vertical-align: middle;\n",
       "    }\n",
       "\n",
       "    .dataframe tbody tr th {\n",
       "        vertical-align: top;\n",
       "    }\n",
       "\n",
       "    .dataframe thead th {\n",
       "        text-align: right;\n",
       "    }\n",
       "</style>\n",
       "<table border=\"1\" class=\"dataframe\">\n",
       "  <thead>\n",
       "    <tr style=\"text-align: right;\">\n",
       "      <th></th>\n",
       "      <th>co</th>\n",
       "      <th>no2</th>\n",
       "      <th>o3</th>\n",
       "      <th>pm10</th>\n",
       "      <th>pm25</th>\n",
       "      <th>so2</th>\n",
       "      <th>AQI</th>\n",
       "    </tr>\n",
       "  </thead>\n",
       "  <tbody>\n",
       "    <tr>\n",
       "      <th>2014-12-29</th>\n",
       "      <td>14.1</td>\n",
       "      <td>36.2</td>\n",
       "      <td>3.2</td>\n",
       "      <td>218.0</td>\n",
       "      <td>307.0</td>\n",
       "      <td>4.2</td>\n",
       "      <td>307.0</td>\n",
       "    </tr>\n",
       "    <tr>\n",
       "      <th>2014-12-30</th>\n",
       "      <td>20.4</td>\n",
       "      <td>36.8</td>\n",
       "      <td>4.8</td>\n",
       "      <td>330.0</td>\n",
       "      <td>367.0</td>\n",
       "      <td>5.8</td>\n",
       "      <td>367.0</td>\n",
       "    </tr>\n",
       "    <tr>\n",
       "      <th>2014-12-31</th>\n",
       "      <td>12.7</td>\n",
       "      <td>28.7</td>\n",
       "      <td>7.8</td>\n",
       "      <td>137.0</td>\n",
       "      <td>202.0</td>\n",
       "      <td>6.3</td>\n",
       "      <td>202.0</td>\n",
       "    </tr>\n",
       "    <tr>\n",
       "      <th>2015-01-01</th>\n",
       "      <td>20.8</td>\n",
       "      <td>66.5</td>\n",
       "      <td>5.2</td>\n",
       "      <td>230.0</td>\n",
       "      <td>382.0</td>\n",
       "      <td>9.9</td>\n",
       "      <td>382.0</td>\n",
       "    </tr>\n",
       "    <tr>\n",
       "      <th>2015-01-02</th>\n",
       "      <td>12.7</td>\n",
       "      <td>33.9</td>\n",
       "      <td>6.0</td>\n",
       "      <td>81.0</td>\n",
       "      <td>172.0</td>\n",
       "      <td>4.2</td>\n",
       "      <td>172.0</td>\n",
       "    </tr>\n",
       "  </tbody>\n",
       "</table>\n",
       "</div>"
      ],
      "text/plain": [
       "              co   no2   o3   pm10   pm25  so2    AQI\n",
       "2014-12-29  14.1  36.2  3.2  218.0  307.0  4.2  307.0\n",
       "2014-12-30  20.4  36.8  4.8  330.0  367.0  5.8  367.0\n",
       "2014-12-31  12.7  28.7  7.8  137.0  202.0  6.3  202.0\n",
       "2015-01-01  20.8  66.5  5.2  230.0  382.0  9.9  382.0\n",
       "2015-01-02  12.7  33.9  6.0   81.0  172.0  4.2  172.0"
      ]
     },
     "execution_count": 86,
     "metadata": {},
     "output_type": "execute_result"
    }
   ],
   "source": [
    "aqi_normal.head()"
   ]
  },
  {
   "cell_type": "code",
   "execution_count": 87,
   "id": "eac0eff5",
   "metadata": {
    "execution": {
     "iopub.execute_input": "2025-01-28T11:44:05.927346Z",
     "iopub.status.busy": "2025-01-28T11:44:05.926987Z",
     "iopub.status.idle": "2025-01-28T11:44:05.948707Z",
     "shell.execute_reply": "2025-01-28T11:44:05.947696Z"
    },
    "papermill": {
     "duration": 0.332144,
     "end_time": "2025-01-28T11:44:05.950621",
     "exception": false,
     "start_time": "2025-01-28T11:44:05.618477",
     "status": "completed"
    },
    "tags": []
   },
   "outputs": [],
   "source": [
    "from sklearn.preprocessing import StandardScaler\n",
    "\n",
    "scaler = StandardScaler()\n",
    "scaled_data = scaler.fit_transform(aqi_normal)"
   ]
  },
  {
   "cell_type": "code",
   "execution_count": null,
   "id": "b7cbce45",
   "metadata": {
    "papermill": {
     "duration": 0.371257,
     "end_time": "2025-01-28T11:44:06.635175",
     "exception": false,
     "start_time": "2025-01-28T11:44:06.263918",
     "status": "completed"
    },
    "tags": []
   },
   "outputs": [],
   "source": []
  },
  {
   "cell_type": "code",
   "execution_count": 88,
   "id": "9d16cd79",
   "metadata": {
    "execution": {
     "iopub.execute_input": "2025-01-28T11:44:07.263071Z",
     "iopub.status.busy": "2025-01-28T11:44:07.262685Z",
     "iopub.status.idle": "2025-01-28T11:44:07.269328Z",
     "shell.execute_reply": "2025-01-28T11:44:07.268210Z"
    },
    "papermill": {
     "duration": 0.325064,
     "end_time": "2025-01-28T11:44:07.270844",
     "exception": false,
     "start_time": "2025-01-28T11:44:06.945780",
     "status": "completed"
    },
    "tags": []
   },
   "outputs": [
    {
     "data": {
      "text/plain": [
       "array([[ 1.48621623,  2.74469329, -1.25497378, ...,  2.26279232,\n",
       "        -0.43326169,  1.98028148],\n",
       "       [ 3.24224486,  2.8245568 , -0.89599505, ...,  3.18463324,\n",
       "         0.27208393,  2.80479557],\n",
       "       [ 1.09598764,  1.74639945, -0.22290992, ...,  0.6495707 ,\n",
       "         0.49250443,  0.53738181],\n",
       "       ...,\n",
       "       [ 0.09254271, -0.51639992, -0.17803757, ..., -0.07253803,\n",
       "        -0.74185039, -0.10848757],\n",
       "       [-0.04682464, -0.5297105 , -0.11072906, ..., -0.07253803,\n",
       "        -0.74185039, -0.10848757],\n",
       "       [-0.15831852, -0.60957401, -0.02098438, ..., -0.11863007,\n",
       "        -1.0504391 , -0.14971327]])"
      ]
     },
     "execution_count": 88,
     "metadata": {},
     "output_type": "execute_result"
    }
   ],
   "source": [
    "scaled_data"
   ]
  },
  {
   "cell_type": "code",
   "execution_count": 89,
   "id": "bf67dcd6",
   "metadata": {
    "execution": {
     "iopub.execute_input": "2025-01-28T11:44:07.958806Z",
     "iopub.status.busy": "2025-01-28T11:44:07.958411Z",
     "iopub.status.idle": "2025-01-28T11:44:07.966387Z",
     "shell.execute_reply": "2025-01-28T11:44:07.965195Z"
    },
    "papermill": {
     "duration": 0.387687,
     "end_time": "2025-01-28T11:44:07.968156",
     "exception": false,
     "start_time": "2025-01-28T11:44:07.580469",
     "status": "completed"
    },
    "tags": []
   },
   "outputs": [],
   "source": [
    "def new_data_to_X_y(new_data, window_size, train_pct, val_pct, test_pct):\n",
    "    \n",
    "    new_data_as_np = new_data\n",
    "    \n",
    "    # Split features and target\n",
    "    features = new_data_as_np[:, :-1]  # All columns except the last one\n",
    "    target = new_data_as_np[:, -1]     # Only the AQI column\n",
    "    \n",
    "    # Split data based on percentages\n",
    "    total_len = len(features)\n",
    "    train_end = int(train_pct * total_len)\n",
    "    val_end = train_end + int(val_pct * total_len)\n",
    "    \n",
    "    # Prepare train, val, and test splits for both features and target\n",
    "    train_features = features[:train_end]\n",
    "    train_target = target[:train_end]\n",
    "    \n",
    "    val_features = features[train_end:val_end]\n",
    "    val_target = target[train_end:val_end]\n",
    "    \n",
    "    test_features = features[val_end:]\n",
    "    test_target = target[val_end:]\n",
    "    \n",
    "    # Helper function to create X and y\n",
    "    def create_X_y(feature_data, target_data):\n",
    "        X, y = [], []\n",
    "        for i in range(len(feature_data) - window_size):\n",
    "            # Create sequence of all features\n",
    "            sequence = feature_data[i:i + window_size]\n",
    "            X.append(sequence)\n",
    "            # Get the target AQI value\n",
    "            y.append(target_data[i + window_size])\n",
    "        return np.array(X), np.array(y)\n",
    "    \n",
    "    \n",
    "    X_train, y_train = create_X_y(train_features, train_target)\n",
    "    X_val, y_val = create_X_y(val_features, val_target)\n",
    "    X_test, y_test = create_X_y(test_features, test_target)\n",
    "    \n",
    "    return (X_train, y_train), (X_val, y_val), (X_test, y_test)"
   ]
  },
  {
   "cell_type": "code",
   "execution_count": 90,
   "id": "46f6154c",
   "metadata": {
    "execution": {
     "iopub.execute_input": "2025-01-28T11:44:08.599268Z",
     "iopub.status.busy": "2025-01-28T11:44:08.598904Z",
     "iopub.status.idle": "2025-01-28T11:44:08.609636Z",
     "shell.execute_reply": "2025-01-28T11:44:08.608693Z"
    },
    "papermill": {
     "duration": 0.328677,
     "end_time": "2025-01-28T11:44:08.611457",
     "exception": false,
     "start_time": "2025-01-28T11:44:08.282780",
     "status": "completed"
    },
    "tags": []
   },
   "outputs": [],
   "source": [
    "WINDOW_SIZE = 4\n",
    "NUM_FEATURES = 5\n",
    "train_pct = 0.8\n",
    "val_pct = 0.1\n",
    "test_pct = 0.1\n",
    "\n",
    "(X_train1, y_train1), (X_val1, y_val1), (X_test1, y_test1) = new_data_to_X_y(\n",
    "    scaled_data, WINDOW_SIZE, train_pct, val_pct, test_pct)"
   ]
  },
  {
   "cell_type": "code",
   "execution_count": null,
   "id": "12ae203b",
   "metadata": {
    "papermill": {
     "duration": 0.307239,
     "end_time": "2025-01-28T11:44:09.228087",
     "exception": false,
     "start_time": "2025-01-28T11:44:08.920848",
     "status": "completed"
    },
    "tags": []
   },
   "outputs": [],
   "source": []
  },
  {
   "cell_type": "code",
   "execution_count": 91,
   "id": "f091847d",
   "metadata": {
    "execution": {
     "iopub.execute_input": "2025-01-28T11:44:09.906149Z",
     "iopub.status.busy": "2025-01-28T11:44:09.905798Z",
     "iopub.status.idle": "2025-01-28T11:44:50.188539Z",
     "shell.execute_reply": "2025-01-28T11:44:50.187355Z"
    },
    "papermill": {
     "duration": 40.587768,
     "end_time": "2025-01-28T11:44:50.190277",
     "exception": false,
     "start_time": "2025-01-28T11:44:09.602509",
     "status": "completed"
    },
    "tags": []
   },
   "outputs": [
    {
     "name": "stdout",
     "output_type": "stream",
     "text": [
      "Epoch 1/50\n",
      "\u001b[1m80/80\u001b[0m \u001b[32m━━━━━━━━━━━━━━━━━━━━\u001b[0m\u001b[37m\u001b[0m \u001b[1m6s\u001b[0m 14ms/step - loss: 0.5231 - root_mean_squared_error: 0.7193 - val_loss: 0.1912 - val_root_mean_squared_error: 0.4372\n",
      "Epoch 2/50\n",
      "\u001b[1m80/80\u001b[0m \u001b[32m━━━━━━━━━━━━━━━━━━━━\u001b[0m\u001b[37m\u001b[0m \u001b[1m1s\u001b[0m 9ms/step - loss: 0.4489 - root_mean_squared_error: 0.6662 - val_loss: 0.1692 - val_root_mean_squared_error: 0.4114\n",
      "Epoch 3/50\n",
      "\u001b[1m80/80\u001b[0m \u001b[32m━━━━━━━━━━━━━━━━━━━━\u001b[0m\u001b[37m\u001b[0m \u001b[1m1s\u001b[0m 8ms/step - loss: 0.3133 - root_mean_squared_error: 0.5587 - val_loss: 0.1875 - val_root_mean_squared_error: 0.4330\n",
      "Epoch 4/50\n",
      "\u001b[1m80/80\u001b[0m \u001b[32m━━━━━━━━━━━━━━━━━━━━\u001b[0m\u001b[37m\u001b[0m \u001b[1m1s\u001b[0m 8ms/step - loss: 0.3222 - root_mean_squared_error: 0.5668 - val_loss: 0.2088 - val_root_mean_squared_error: 0.4569\n",
      "Epoch 5/50\n",
      "\u001b[1m80/80\u001b[0m \u001b[32m━━━━━━━━━━━━━━━━━━━━\u001b[0m\u001b[37m\u001b[0m \u001b[1m1s\u001b[0m 8ms/step - loss: 0.4068 - root_mean_squared_error: 0.6345 - val_loss: 0.2398 - val_root_mean_squared_error: 0.4897\n",
      "Epoch 6/50\n",
      "\u001b[1m80/80\u001b[0m \u001b[32m━━━━━━━━━━━━━━━━━━━━\u001b[0m\u001b[37m\u001b[0m \u001b[1m1s\u001b[0m 8ms/step - loss: 0.3893 - root_mean_squared_error: 0.6199 - val_loss: 0.1815 - val_root_mean_squared_error: 0.4261\n",
      "Epoch 7/50\n",
      "\u001b[1m80/80\u001b[0m \u001b[32m━━━━━━━━━━━━━━━━━━━━\u001b[0m\u001b[37m\u001b[0m \u001b[1m1s\u001b[0m 9ms/step - loss: 0.3138 - root_mean_squared_error: 0.5597 - val_loss: 0.1594 - val_root_mean_squared_error: 0.3992\n",
      "Epoch 8/50\n",
      "\u001b[1m80/80\u001b[0m \u001b[32m━━━━━━━━━━━━━━━━━━━━\u001b[0m\u001b[37m\u001b[0m \u001b[1m1s\u001b[0m 9ms/step - loss: 0.2580 - root_mean_squared_error: 0.5051 - val_loss: 0.1639 - val_root_mean_squared_error: 0.4048\n",
      "Epoch 9/50\n",
      "\u001b[1m80/80\u001b[0m \u001b[32m━━━━━━━━━━━━━━━━━━━━\u001b[0m\u001b[37m\u001b[0m \u001b[1m1s\u001b[0m 8ms/step - loss: 0.4008 - root_mean_squared_error: 0.6116 - val_loss: 0.1696 - val_root_mean_squared_error: 0.4118\n",
      "Epoch 10/50\n",
      "\u001b[1m80/80\u001b[0m \u001b[32m━━━━━━━━━━━━━━━━━━━━\u001b[0m\u001b[37m\u001b[0m \u001b[1m1s\u001b[0m 8ms/step - loss: 0.3466 - root_mean_squared_error: 0.5855 - val_loss: 0.1893 - val_root_mean_squared_error: 0.4350\n",
      "Epoch 11/50\n",
      "\u001b[1m80/80\u001b[0m \u001b[32m━━━━━━━━━━━━━━━━━━━━\u001b[0m\u001b[37m\u001b[0m \u001b[1m1s\u001b[0m 8ms/step - loss: 0.3025 - root_mean_squared_error: 0.5488 - val_loss: 0.1694 - val_root_mean_squared_error: 0.4116\n",
      "Epoch 12/50\n",
      "\u001b[1m80/80\u001b[0m \u001b[32m━━━━━━━━━━━━━━━━━━━━\u001b[0m\u001b[37m\u001b[0m \u001b[1m1s\u001b[0m 8ms/step - loss: 0.2582 - root_mean_squared_error: 0.5063 - val_loss: 0.2346 - val_root_mean_squared_error: 0.4844\n",
      "Epoch 13/50\n",
      "\u001b[1m80/80\u001b[0m \u001b[32m━━━━━━━━━━━━━━━━━━━━\u001b[0m\u001b[37m\u001b[0m \u001b[1m1s\u001b[0m 8ms/step - loss: 0.2960 - root_mean_squared_error: 0.5407 - val_loss: 0.2348 - val_root_mean_squared_error: 0.4846\n",
      "Epoch 14/50\n",
      "\u001b[1m80/80\u001b[0m \u001b[32m━━━━━━━━━━━━━━━━━━━━\u001b[0m\u001b[37m\u001b[0m \u001b[1m1s\u001b[0m 8ms/step - loss: 0.2544 - root_mean_squared_error: 0.5026 - val_loss: 0.1959 - val_root_mean_squared_error: 0.4426\n",
      "Epoch 15/50\n",
      "\u001b[1m80/80\u001b[0m \u001b[32m━━━━━━━━━━━━━━━━━━━━\u001b[0m\u001b[37m\u001b[0m \u001b[1m1s\u001b[0m 8ms/step - loss: 0.3144 - root_mean_squared_error: 0.5564 - val_loss: 0.2013 - val_root_mean_squared_error: 0.4487\n",
      "Epoch 16/50\n",
      "\u001b[1m80/80\u001b[0m \u001b[32m━━━━━━━━━━━━━━━━━━━━\u001b[0m\u001b[37m\u001b[0m \u001b[1m1s\u001b[0m 8ms/step - loss: 0.3462 - root_mean_squared_error: 0.5844 - val_loss: 0.1984 - val_root_mean_squared_error: 0.4455\n",
      "Epoch 17/50\n",
      "\u001b[1m80/80\u001b[0m \u001b[32m━━━━━━━━━━━━━━━━━━━━\u001b[0m\u001b[37m\u001b[0m \u001b[1m1s\u001b[0m 8ms/step - loss: 0.2383 - root_mean_squared_error: 0.4871 - val_loss: 0.1836 - val_root_mean_squared_error: 0.4285\n",
      "Epoch 18/50\n",
      "\u001b[1m80/80\u001b[0m \u001b[32m━━━━━━━━━━━━━━━━━━━━\u001b[0m\u001b[37m\u001b[0m \u001b[1m1s\u001b[0m 8ms/step - loss: 0.2901 - root_mean_squared_error: 0.5375 - val_loss: 0.2902 - val_root_mean_squared_error: 0.5387\n",
      "Epoch 19/50\n",
      "\u001b[1m80/80\u001b[0m \u001b[32m━━━━━━━━━━━━━━━━━━━━\u001b[0m\u001b[37m\u001b[0m \u001b[1m1s\u001b[0m 8ms/step - loss: 0.2754 - root_mean_squared_error: 0.5221 - val_loss: 0.1960 - val_root_mean_squared_error: 0.4427\n",
      "Epoch 20/50\n",
      "\u001b[1m80/80\u001b[0m \u001b[32m━━━━━━━━━━━━━━━━━━━━\u001b[0m\u001b[37m\u001b[0m \u001b[1m1s\u001b[0m 8ms/step - loss: 0.2308 - root_mean_squared_error: 0.4760 - val_loss: 0.1668 - val_root_mean_squared_error: 0.4084\n",
      "Epoch 21/50\n",
      "\u001b[1m80/80\u001b[0m \u001b[32m━━━━━━━━━━━━━━━━━━━━\u001b[0m\u001b[37m\u001b[0m \u001b[1m1s\u001b[0m 8ms/step - loss: 0.2521 - root_mean_squared_error: 0.5012 - val_loss: 0.1618 - val_root_mean_squared_error: 0.4023\n",
      "Epoch 22/50\n",
      "\u001b[1m80/80\u001b[0m \u001b[32m━━━━━━━━━━━━━━━━━━━━\u001b[0m\u001b[37m\u001b[0m \u001b[1m1s\u001b[0m 9ms/step - loss: 0.2391 - root_mean_squared_error: 0.4871 - val_loss: 0.1640 - val_root_mean_squared_error: 0.4050\n",
      "Epoch 23/50\n",
      "\u001b[1m80/80\u001b[0m \u001b[32m━━━━━━━━━━━━━━━━━━━━\u001b[0m\u001b[37m\u001b[0m \u001b[1m1s\u001b[0m 9ms/step - loss: 0.3349 - root_mean_squared_error: 0.5768 - val_loss: 0.1363 - val_root_mean_squared_error: 0.3692\n",
      "Epoch 24/50\n",
      "\u001b[1m80/80\u001b[0m \u001b[32m━━━━━━━━━━━━━━━━━━━━\u001b[0m\u001b[37m\u001b[0m \u001b[1m1s\u001b[0m 8ms/step - loss: 0.3245 - root_mean_squared_error: 0.5663 - val_loss: 0.1850 - val_root_mean_squared_error: 0.4301\n",
      "Epoch 25/50\n",
      "\u001b[1m80/80\u001b[0m \u001b[32m━━━━━━━━━━━━━━━━━━━━\u001b[0m\u001b[37m\u001b[0m \u001b[1m1s\u001b[0m 9ms/step - loss: 0.2421 - root_mean_squared_error: 0.4912 - val_loss: 0.2707 - val_root_mean_squared_error: 0.5203\n",
      "Epoch 26/50\n",
      "\u001b[1m80/80\u001b[0m \u001b[32m━━━━━━━━━━━━━━━━━━━━\u001b[0m\u001b[37m\u001b[0m \u001b[1m1s\u001b[0m 8ms/step - loss: 0.2421 - root_mean_squared_error: 0.4911 - val_loss: 0.2400 - val_root_mean_squared_error: 0.4899\n",
      "Epoch 27/50\n",
      "\u001b[1m80/80\u001b[0m \u001b[32m━━━━━━━━━━━━━━━━━━━━\u001b[0m\u001b[37m\u001b[0m \u001b[1m1s\u001b[0m 8ms/step - loss: 0.2857 - root_mean_squared_error: 0.5307 - val_loss: 0.2616 - val_root_mean_squared_error: 0.5114\n",
      "Epoch 28/50\n",
      "\u001b[1m80/80\u001b[0m \u001b[32m━━━━━━━━━━━━━━━━━━━━\u001b[0m\u001b[37m\u001b[0m \u001b[1m1s\u001b[0m 8ms/step - loss: 0.2536 - root_mean_squared_error: 0.5028 - val_loss: 0.2047 - val_root_mean_squared_error: 0.4524\n",
      "Epoch 29/50\n",
      "\u001b[1m80/80\u001b[0m \u001b[32m━━━━━━━━━━━━━━━━━━━━\u001b[0m\u001b[37m\u001b[0m \u001b[1m1s\u001b[0m 8ms/step - loss: 0.2238 - root_mean_squared_error: 0.4718 - val_loss: 0.1700 - val_root_mean_squared_error: 0.4124\n",
      "Epoch 30/50\n",
      "\u001b[1m80/80\u001b[0m \u001b[32m━━━━━━━━━━━━━━━━━━━━\u001b[0m\u001b[37m\u001b[0m \u001b[1m1s\u001b[0m 8ms/step - loss: 0.2486 - root_mean_squared_error: 0.4977 - val_loss: 0.2437 - val_root_mean_squared_error: 0.4936\n",
      "Epoch 31/50\n",
      "\u001b[1m80/80\u001b[0m \u001b[32m━━━━━━━━━━━━━━━━━━━━\u001b[0m\u001b[37m\u001b[0m \u001b[1m1s\u001b[0m 8ms/step - loss: 0.2380 - root_mean_squared_error: 0.4871 - val_loss: 0.1845 - val_root_mean_squared_error: 0.4296\n",
      "Epoch 32/50\n",
      "\u001b[1m80/80\u001b[0m \u001b[32m━━━━━━━━━━━━━━━━━━━━\u001b[0m\u001b[37m\u001b[0m \u001b[1m1s\u001b[0m 8ms/step - loss: 0.2188 - root_mean_squared_error: 0.4664 - val_loss: 0.1991 - val_root_mean_squared_error: 0.4462\n",
      "Epoch 33/50\n",
      "\u001b[1m80/80\u001b[0m \u001b[32m━━━━━━━━━━━━━━━━━━━━\u001b[0m\u001b[37m\u001b[0m \u001b[1m1s\u001b[0m 8ms/step - loss: 0.2095 - root_mean_squared_error: 0.4550 - val_loss: 0.1816 - val_root_mean_squared_error: 0.4261\n",
      "Epoch 34/50\n",
      "\u001b[1m80/80\u001b[0m \u001b[32m━━━━━━━━━━━━━━━━━━━━\u001b[0m\u001b[37m\u001b[0m \u001b[1m1s\u001b[0m 8ms/step - loss: 0.2593 - root_mean_squared_error: 0.5077 - val_loss: 0.1777 - val_root_mean_squared_error: 0.4215\n",
      "Epoch 35/50\n",
      "\u001b[1m80/80\u001b[0m \u001b[32m━━━━━━━━━━━━━━━━━━━━\u001b[0m\u001b[37m\u001b[0m \u001b[1m1s\u001b[0m 8ms/step - loss: 0.2173 - root_mean_squared_error: 0.4650 - val_loss: 0.1733 - val_root_mean_squared_error: 0.4163\n",
      "Epoch 36/50\n",
      "\u001b[1m80/80\u001b[0m \u001b[32m━━━━━━━━━━━━━━━━━━━━\u001b[0m\u001b[37m\u001b[0m \u001b[1m1s\u001b[0m 9ms/step - loss: 0.2119 - root_mean_squared_error: 0.4593 - val_loss: 0.2010 - val_root_mean_squared_error: 0.4483\n",
      "Epoch 37/50\n",
      "\u001b[1m80/80\u001b[0m \u001b[32m━━━━━━━━━━━━━━━━━━━━\u001b[0m\u001b[37m\u001b[0m \u001b[1m1s\u001b[0m 9ms/step - loss: 0.2036 - root_mean_squared_error: 0.4499 - val_loss: 0.2450 - val_root_mean_squared_error: 0.4950\n",
      "Epoch 38/50\n",
      "\u001b[1m80/80\u001b[0m \u001b[32m━━━━━━━━━━━━━━━━━━━━\u001b[0m\u001b[37m\u001b[0m \u001b[1m1s\u001b[0m 8ms/step - loss: 0.1859 - root_mean_squared_error: 0.4301 - val_loss: 0.2014 - val_root_mean_squared_error: 0.4488\n",
      "Epoch 39/50\n",
      "\u001b[1m80/80\u001b[0m \u001b[32m━━━━━━━━━━━━━━━━━━━━\u001b[0m\u001b[37m\u001b[0m \u001b[1m1s\u001b[0m 8ms/step - loss: 0.1789 - root_mean_squared_error: 0.4225 - val_loss: 0.1746 - val_root_mean_squared_error: 0.4178\n",
      "Epoch 40/50\n",
      "\u001b[1m80/80\u001b[0m \u001b[32m━━━━━━━━━━━━━━━━━━━━\u001b[0m\u001b[37m\u001b[0m \u001b[1m1s\u001b[0m 8ms/step - loss: 0.2014 - root_mean_squared_error: 0.4473 - val_loss: 0.2695 - val_root_mean_squared_error: 0.5192\n",
      "Epoch 41/50\n",
      "\u001b[1m80/80\u001b[0m \u001b[32m━━━━━━━━━━━━━━━━━━━━\u001b[0m\u001b[37m\u001b[0m \u001b[1m1s\u001b[0m 9ms/step - loss: 0.2268 - root_mean_squared_error: 0.4740 - val_loss: 0.2146 - val_root_mean_squared_error: 0.4633\n",
      "Epoch 42/50\n",
      "\u001b[1m80/80\u001b[0m \u001b[32m━━━━━━━━━━━━━━━━━━━━\u001b[0m\u001b[37m\u001b[0m \u001b[1m1s\u001b[0m 10ms/step - loss: 0.2062 - root_mean_squared_error: 0.4527 - val_loss: 0.1683 - val_root_mean_squared_error: 0.4103\n",
      "Epoch 43/50\n",
      "\u001b[1m80/80\u001b[0m \u001b[32m━━━━━━━━━━━━━━━━━━━━\u001b[0m\u001b[37m\u001b[0m \u001b[1m1s\u001b[0m 9ms/step - loss: 0.1944 - root_mean_squared_error: 0.4401 - val_loss: 0.1469 - val_root_mean_squared_error: 0.3833\n",
      "Epoch 44/50\n",
      "\u001b[1m80/80\u001b[0m \u001b[32m━━━━━━━━━━━━━━━━━━━━\u001b[0m\u001b[37m\u001b[0m \u001b[1m1s\u001b[0m 8ms/step - loss: 0.2269 - root_mean_squared_error: 0.4746 - val_loss: 0.1641 - val_root_mean_squared_error: 0.4051\n",
      "Epoch 45/50\n",
      "\u001b[1m80/80\u001b[0m \u001b[32m━━━━━━━━━━━━━━━━━━━━\u001b[0m\u001b[37m\u001b[0m \u001b[1m1s\u001b[0m 8ms/step - loss: 0.2171 - root_mean_squared_error: 0.4655 - val_loss: 0.2337 - val_root_mean_squared_error: 0.4834\n",
      "Epoch 46/50\n",
      "\u001b[1m80/80\u001b[0m \u001b[32m━━━━━━━━━━━━━━━━━━━━\u001b[0m\u001b[37m\u001b[0m \u001b[1m1s\u001b[0m 8ms/step - loss: 0.2237 - root_mean_squared_error: 0.4724 - val_loss: 0.1745 - val_root_mean_squared_error: 0.4177\n",
      "Epoch 47/50\n",
      "\u001b[1m80/80\u001b[0m \u001b[32m━━━━━━━━━━━━━━━━━━━━\u001b[0m\u001b[37m\u001b[0m \u001b[1m1s\u001b[0m 8ms/step - loss: 0.2088 - root_mean_squared_error: 0.4557 - val_loss: 0.2691 - val_root_mean_squared_error: 0.5187\n",
      "Epoch 48/50\n",
      "\u001b[1m80/80\u001b[0m \u001b[32m━━━━━━━━━━━━━━━━━━━━\u001b[0m\u001b[37m\u001b[0m \u001b[1m1s\u001b[0m 8ms/step - loss: 0.2153 - root_mean_squared_error: 0.4631 - val_loss: 0.1871 - val_root_mean_squared_error: 0.4325\n",
      "Epoch 49/50\n",
      "\u001b[1m80/80\u001b[0m \u001b[32m━━━━━━━━━━━━━━━━━━━━\u001b[0m\u001b[37m\u001b[0m \u001b[1m1s\u001b[0m 8ms/step - loss: 0.1634 - root_mean_squared_error: 0.4034 - val_loss: 0.2473 - val_root_mean_squared_error: 0.4973\n",
      "Epoch 50/50\n",
      "\u001b[1m80/80\u001b[0m \u001b[32m━━━━━━━━━━━━━━━━━━━━\u001b[0m\u001b[37m\u001b[0m \u001b[1m1s\u001b[0m 8ms/step - loss: 0.2341 - root_mean_squared_error: 0.4825 - val_loss: 0.1589 - val_root_mean_squared_error: 0.3986\n"
     ]
    },
    {
     "data": {
      "text/plain": [
       "<keras.src.callbacks.history.History at 0x7b32c7096cb0>"
      ]
     },
     "execution_count": 91,
     "metadata": {},
     "output_type": "execute_result"
    }
   ],
   "source": [
    "model10 = Sequential()\n",
    "model10.add(InputLayer((6, 6)))  # 6 timestamps, 6 features\n",
    "model10.add(BatchNormalization())  # Normalize inputs\n",
    "model10.add(GRU(128, activation='relu', return_sequences=True))  # GRU layer\n",
    "model10.add(Dropout(0.3))  # Dropout for regularization\n",
    "model10.add(GRU(64, activation='relu', return_sequences=False))  # Second GRU layer\n",
    "model10.add(Dense(32, activation='relu'))  # Fully connected layer\n",
    "model10.add(Dense(16, activation='relu'))  # Second dense layer\n",
    "model10.add(Dense(1, activation='linear'))  # Output layer\n",
    "\n",
    "cp10 = ModelCheckpoint('/kaggle/working/model10.keras', save_best_only=True)\n",
    "\n",
    "model10.compile(loss=MeanSquaredError(), optimizer=Adam(learning_rate=0.001), \n",
    "               metrics=[RootMeanSquaredError()])\n",
    "\n",
    "model10.fit(X_train1, y_train1, validation_data=(X_val1, y_val1), epochs=50, \n",
    "           callbacks=[cp10])"
   ]
  },
  {
   "cell_type": "code",
   "execution_count": 92,
   "id": "0fbdc9d7",
   "metadata": {
    "execution": {
     "iopub.execute_input": "2025-01-28T11:44:50.928965Z",
     "iopub.status.busy": "2025-01-28T11:44:50.928556Z",
     "iopub.status.idle": "2025-01-28T11:44:51.126441Z",
     "shell.execute_reply": "2025-01-28T11:44:51.125521Z"
    },
    "papermill": {
     "duration": 0.54837,
     "end_time": "2025-01-28T11:44:51.128359",
     "exception": false,
     "start_time": "2025-01-28T11:44:50.579989",
     "status": "completed"
    },
    "tags": []
   },
   "outputs": [],
   "source": [
    "from tensorflow.keras.models import load_model\n",
    "model10 = load_model('/kaggle/working/model10.keras')"
   ]
  },
  {
   "cell_type": "code",
   "execution_count": 93,
   "id": "e93cb531",
   "metadata": {
    "execution": {
     "iopub.execute_input": "2025-01-28T11:44:51.895813Z",
     "iopub.status.busy": "2025-01-28T11:44:51.895397Z",
     "iopub.status.idle": "2025-01-28T11:44:52.912292Z",
     "shell.execute_reply": "2025-01-28T11:44:52.911248Z"
    },
    "papermill": {
     "duration": 1.432794,
     "end_time": "2025-01-28T11:44:52.913971",
     "exception": false,
     "start_time": "2025-01-28T11:44:51.481177",
     "status": "completed"
    },
    "tags": []
   },
   "outputs": [
    {
     "name": "stdout",
     "output_type": "stream",
     "text": [
      "\u001b[1m80/80\u001b[0m \u001b[32m━━━━━━━━━━━━━━━━━━━━\u001b[0m\u001b[37m\u001b[0m \u001b[1m1s\u001b[0m 7ms/step\n",
      "Evaluation Metrics:\n",
      "Mean Absolute Error (MAE): 0.2484\n",
      "Mean Squared Error (MSE): 0.2278\n",
      "Root Mean Squared Error (RMSE): 0.4772\n",
      "R-squared (Accuracy): 0.7663\n"
     ]
    }
   ],
   "source": [
    "# Evaluate the model on the train data\n",
    "train_result = model10.predict(X_train1)\n",
    "\n",
    "# Calculate metrics\n",
    "mse = mean_squared_error(y_train1, train_result)\n",
    "rmse = np.sqrt(mse)\n",
    "mae = mean_absolute_error(y_train1, train_result)\n",
    "r2 = r2_score(y_train1, train_result)\n",
    "\n",
    "# Print the results\n",
    "print(\"Evaluation Metrics:\")\n",
    "print(f\"Mean Absolute Error (MAE): {mae:.4f}\")\n",
    "print(f\"Mean Squared Error (MSE): {mse:.4f}\")\n",
    "print(f\"Root Mean Squared Error (RMSE): {rmse:.4f}\")\n",
    "print(f\"R-squared (Accuracy): {r2:.4f}\")"
   ]
  },
  {
   "cell_type": "code",
   "execution_count": 94,
   "id": "1bf4ceb4",
   "metadata": {
    "execution": {
     "iopub.execute_input": "2025-01-28T11:44:53.615976Z",
     "iopub.status.busy": "2025-01-28T11:44:53.615608Z",
     "iopub.status.idle": "2025-01-28T11:44:53.724575Z",
     "shell.execute_reply": "2025-01-28T11:44:53.723282Z"
    },
    "papermill": {
     "duration": 0.4608,
     "end_time": "2025-01-28T11:44:53.726394",
     "exception": false,
     "start_time": "2025-01-28T11:44:53.265594",
     "status": "completed"
    },
    "tags": []
   },
   "outputs": [
    {
     "name": "stdout",
     "output_type": "stream",
     "text": [
      "\u001b[1m10/10\u001b[0m \u001b[32m━━━━━━━━━━━━━━━━━━━━\u001b[0m\u001b[37m\u001b[0m \u001b[1m0s\u001b[0m 3ms/step \n",
      "Evaluation Metrics:\n",
      "Mean Absolute Error (MAE): 0.2347\n",
      "Mean Squared Error (MSE): 0.1363\n",
      "Root Mean Squared Error (RMSE): 0.3692\n",
      "R-squared (Accuracy): 0.9035\n"
     ]
    }
   ],
   "source": [
    "# Evaluate the model on the validation data\n",
    "val_result = model10.predict(X_val1)\n",
    "\n",
    "# Calculate metrics\n",
    "mse = mean_squared_error(y_val1, val_result)\n",
    "rmse = np.sqrt(mse)\n",
    "mae = mean_absolute_error(y_val1, val_result)\n",
    "r2 = r2_score(y_val1, val_result)\n",
    "\n",
    "# Print the results\n",
    "print(\"Evaluation Metrics:\")\n",
    "print(f\"Mean Absolute Error (MAE): {mae:.4f}\")\n",
    "print(f\"Mean Squared Error (MSE): {mse:.4f}\")\n",
    "print(f\"Root Mean Squared Error (RMSE): {rmse:.4f}\")\n",
    "print(f\"R-squared (Accuracy): {r2:.4f}\")"
   ]
  },
  {
   "cell_type": "code",
   "execution_count": 95,
   "id": "d38bfcb2",
   "metadata": {
    "execution": {
     "iopub.execute_input": "2025-01-28T11:44:54.430816Z",
     "iopub.status.busy": "2025-01-28T11:44:54.430439Z",
     "iopub.status.idle": "2025-01-28T11:44:54.542311Z",
     "shell.execute_reply": "2025-01-28T11:44:54.541094Z"
    },
    "papermill": {
     "duration": 0.465415,
     "end_time": "2025-01-28T11:44:54.544381",
     "exception": false,
     "start_time": "2025-01-28T11:44:54.078966",
     "status": "completed"
    },
    "tags": []
   },
   "outputs": [
    {
     "name": "stdout",
     "output_type": "stream",
     "text": [
      "\u001b[1m10/10\u001b[0m \u001b[32m━━━━━━━━━━━━━━━━━━━━\u001b[0m\u001b[37m\u001b[0m \u001b[1m0s\u001b[0m 3ms/step \n",
      "Evaluation Metrics:\n",
      "Mean Absolute Error (MAE): 0.3268\n",
      "Mean Squared Error (MSE): 0.2344\n",
      "Root Mean Squared Error (RMSE): 0.4841\n",
      "R-squared (Accuracy): 0.6240\n"
     ]
    }
   ],
   "source": [
    "# Evaluate the model on the test data\n",
    "test_result = model10.predict(X_test1)\n",
    "\n",
    "# Calculate metrics\n",
    "mse = mean_squared_error(y_test1, test_result)\n",
    "rmse = np.sqrt(mse)\n",
    "mae = mean_absolute_error(y_test1, test_result)\n",
    "r2 = r2_score(y_test1, test_result)\n",
    "\n",
    "# Print the results\n",
    "print(\"Evaluation Metrics:\")\n",
    "print(f\"Mean Absolute Error (MAE): {mae:.4f}\")\n",
    "print(f\"Mean Squared Error (MSE): {mse:.4f}\")\n",
    "print(f\"Root Mean Squared Error (RMSE): {rmse:.4f}\")\n",
    "print(f\"R-squared (Accuracy): {r2:.4f}\")"
   ]
  },
  {
   "cell_type": "code",
   "execution_count": 96,
   "id": "6d95cd76",
   "metadata": {
    "execution": {
     "iopub.execute_input": "2025-01-28T11:44:55.306594Z",
     "iopub.status.busy": "2025-01-28T11:44:55.306200Z",
     "iopub.status.idle": "2025-01-28T11:44:55.635368Z",
     "shell.execute_reply": "2025-01-28T11:44:55.634305Z"
    },
    "papermill": {
     "duration": 0.682894,
     "end_time": "2025-01-28T11:44:55.637030",
     "exception": false,
     "start_time": "2025-01-28T11:44:54.954136",
     "status": "completed"
    },
    "tags": []
   },
   "outputs": [
    {
     "name": "stdout",
     "output_type": "stream",
     "text": [
      "\u001b[1m80/80\u001b[0m \u001b[32m━━━━━━━━━━━━━━━━━━━━\u001b[0m\u001b[37m\u001b[0m \u001b[1m0s\u001b[0m 3ms/step\n"
     ]
    },
    {
     "data": {
      "text/html": [
       "<div>\n",
       "<style scoped>\n",
       "    .dataframe tbody tr th:only-of-type {\n",
       "        vertical-align: middle;\n",
       "    }\n",
       "\n",
       "    .dataframe tbody tr th {\n",
       "        vertical-align: top;\n",
       "    }\n",
       "\n",
       "    .dataframe thead th {\n",
       "        text-align: right;\n",
       "    }\n",
       "</style>\n",
       "<table border=\"1\" class=\"dataframe\">\n",
       "  <thead>\n",
       "    <tr style=\"text-align: right;\">\n",
       "      <th></th>\n",
       "      <th>Train Predictions</th>\n",
       "      <th>Actuals</th>\n",
       "    </tr>\n",
       "  </thead>\n",
       "  <tbody>\n",
       "    <tr>\n",
       "      <th>0</th>\n",
       "      <td>1.696597</td>\n",
       "      <td>0.125125</td>\n",
       "    </tr>\n",
       "    <tr>\n",
       "      <th>1</th>\n",
       "      <td>-0.244235</td>\n",
       "      <td>0.221318</td>\n",
       "    </tr>\n",
       "    <tr>\n",
       "      <th>2</th>\n",
       "      <td>0.188852</td>\n",
       "      <td>0.441188</td>\n",
       "    </tr>\n",
       "    <tr>\n",
       "      <th>3</th>\n",
       "      <td>0.515672</td>\n",
       "      <td>0.303769</td>\n",
       "    </tr>\n",
       "    <tr>\n",
       "      <th>4</th>\n",
       "      <td>0.471754</td>\n",
       "      <td>0.619833</td>\n",
       "    </tr>\n",
       "    <tr>\n",
       "      <th>...</th>\n",
       "      <td>...</td>\n",
       "      <td>...</td>\n",
       "    </tr>\n",
       "    <tr>\n",
       "      <th>2550</th>\n",
       "      <td>2.682409</td>\n",
       "      <td>3.079634</td>\n",
       "    </tr>\n",
       "    <tr>\n",
       "      <th>2551</th>\n",
       "      <td>2.134211</td>\n",
       "      <td>0.083899</td>\n",
       "    </tr>\n",
       "    <tr>\n",
       "      <th>2552</th>\n",
       "      <td>0.531197</td>\n",
       "      <td>0.468672</td>\n",
       "    </tr>\n",
       "    <tr>\n",
       "      <th>2553</th>\n",
       "      <td>1.011282</td>\n",
       "      <td>0.386221</td>\n",
       "    </tr>\n",
       "    <tr>\n",
       "      <th>2554</th>\n",
       "      <td>0.783849</td>\n",
       "      <td>0.482414</td>\n",
       "    </tr>\n",
       "  </tbody>\n",
       "</table>\n",
       "<p>2555 rows × 2 columns</p>\n",
       "</div>"
      ],
      "text/plain": [
       "      Train Predictions   Actuals\n",
       "0              1.696597  0.125125\n",
       "1             -0.244235  0.221318\n",
       "2              0.188852  0.441188\n",
       "3              0.515672  0.303769\n",
       "4              0.471754  0.619833\n",
       "...                 ...       ...\n",
       "2550           2.682409  3.079634\n",
       "2551           2.134211  0.083899\n",
       "2552           0.531197  0.468672\n",
       "2553           1.011282  0.386221\n",
       "2554           0.783849  0.482414\n",
       "\n",
       "[2555 rows x 2 columns]"
      ]
     },
     "execution_count": 96,
     "metadata": {},
     "output_type": "execute_result"
    }
   ],
   "source": [
    "train_predictions = model10.predict(X_train1).flatten()\n",
    "train_results = pd.DataFrame(data={'Train Predictions':train_predictions, 'Actuals':y_train1})\n",
    "train_results"
   ]
  },
  {
   "cell_type": "code",
   "execution_count": 97,
   "id": "81e17390",
   "metadata": {
    "execution": {
     "iopub.execute_input": "2025-01-28T11:44:56.339378Z",
     "iopub.status.busy": "2025-01-28T11:44:56.339037Z",
     "iopub.status.idle": "2025-01-28T11:44:56.526011Z",
     "shell.execute_reply": "2025-01-28T11:44:56.524968Z"
    },
    "papermill": {
     "duration": 0.544024,
     "end_time": "2025-01-28T11:44:56.527610",
     "exception": false,
     "start_time": "2025-01-28T11:44:55.983586",
     "status": "completed"
    },
    "tags": []
   },
   "outputs": [
    {
     "data": {
      "image/png": "[encoded data removed]",
      "text/plain": [
       "<Figure size 640x480 with 1 Axes>"
      ]
     },
     "metadata": {},
     "output_type": "display_data"
    }
   ],
   "source": [
    "plt.plot(train_results['Actuals'][1:50], label='Actual')\n",
    "plt.plot(train_results['Train Predictions'][1:50], label='Predicted')\n",
    "plt.legend()\n",
    "plt.show()"
   ]
  },
  {
   "cell_type": "code",
   "execution_count": 98,
   "id": "e8c84e3a",
   "metadata": {
    "execution": {
     "iopub.execute_input": "2025-01-28T11:44:57.299282Z",
     "iopub.status.busy": "2025-01-28T11:44:57.298894Z",
     "iopub.status.idle": "2025-01-28T11:44:57.419344Z",
     "shell.execute_reply": "2025-01-28T11:44:57.418082Z"
    },
    "papermill": {
     "duration": 0.476912,
     "end_time": "2025-01-28T11:44:57.421139",
     "exception": false,
     "start_time": "2025-01-28T11:44:56.944227",
     "status": "completed"
    },
    "tags": []
   },
   "outputs": [
    {
     "name": "stdout",
     "output_type": "stream",
     "text": [
      "\u001b[1m10/10\u001b[0m \u001b[32m━━━━━━━━━━━━━━━━━━━━\u001b[0m\u001b[37m\u001b[0m \u001b[1m0s\u001b[0m 3ms/step \n"
     ]
    },
    {
     "data": {
      "text/html": [
       "<div>\n",
       "<style scoped>\n",
       "    .dataframe tbody tr th:only-of-type {\n",
       "        vertical-align: middle;\n",
       "    }\n",
       "\n",
       "    .dataframe tbody tr th {\n",
       "        vertical-align: top;\n",
       "    }\n",
       "\n",
       "    .dataframe thead th {\n",
       "        text-align: right;\n",
       "    }\n",
       "</style>\n",
       "<table border=\"1\" class=\"dataframe\">\n",
       "  <thead>\n",
       "    <tr style=\"text-align: right;\">\n",
       "      <th></th>\n",
       "      <th>Train Predictions</th>\n",
       "      <th>Actuals</th>\n",
       "    </tr>\n",
       "  </thead>\n",
       "  <tbody>\n",
       "    <tr>\n",
       "      <th>0</th>\n",
       "      <td>1.827720</td>\n",
       "      <td>1.856604</td>\n",
       "    </tr>\n",
       "    <tr>\n",
       "      <th>1</th>\n",
       "      <td>1.828989</td>\n",
       "      <td>1.856604</td>\n",
       "    </tr>\n",
       "    <tr>\n",
       "      <th>2</th>\n",
       "      <td>1.822891</td>\n",
       "      <td>1.856604</td>\n",
       "    </tr>\n",
       "    <tr>\n",
       "      <th>3</th>\n",
       "      <td>1.822891</td>\n",
       "      <td>1.856604</td>\n",
       "    </tr>\n",
       "    <tr>\n",
       "      <th>4</th>\n",
       "      <td>1.822891</td>\n",
       "      <td>1.856604</td>\n",
       "    </tr>\n",
       "    <tr>\n",
       "      <th>...</th>\n",
       "      <td>...</td>\n",
       "      <td>...</td>\n",
       "    </tr>\n",
       "    <tr>\n",
       "      <th>310</th>\n",
       "      <td>0.554319</td>\n",
       "      <td>0.413705</td>\n",
       "    </tr>\n",
       "    <tr>\n",
       "      <th>311</th>\n",
       "      <td>0.929685</td>\n",
       "      <td>0.496156</td>\n",
       "    </tr>\n",
       "    <tr>\n",
       "      <th>312</th>\n",
       "      <td>0.853238</td>\n",
       "      <td>0.468672</td>\n",
       "    </tr>\n",
       "    <tr>\n",
       "      <th>313</th>\n",
       "      <td>0.801243</td>\n",
       "      <td>0.468672</td>\n",
       "    </tr>\n",
       "    <tr>\n",
       "      <th>314</th>\n",
       "      <td>0.761677</td>\n",
       "      <td>0.372479</td>\n",
       "    </tr>\n",
       "  </tbody>\n",
       "</table>\n",
       "<p>315 rows × 2 columns</p>\n",
       "</div>"
      ],
      "text/plain": [
       "     Train Predictions   Actuals\n",
       "0             1.827720  1.856604\n",
       "1             1.828989  1.856604\n",
       "2             1.822891  1.856604\n",
       "3             1.822891  1.856604\n",
       "4             1.822891  1.856604\n",
       "..                 ...       ...\n",
       "310           0.554319  0.413705\n",
       "311           0.929685  0.496156\n",
       "312           0.853238  0.468672\n",
       "313           0.801243  0.468672\n",
       "314           0.761677  0.372479\n",
       "\n",
       "[315 rows x 2 columns]"
      ]
     },
     "execution_count": 98,
     "metadata": {},
     "output_type": "execute_result"
    }
   ],
   "source": [
    "val_predictions = model10.predict(X_val1).flatten()\n",
    "val_results = pd.DataFrame(data={'Train Predictions':val_predictions, 'Actuals':y_val1})\n",
    "val_results"
   ]
  },
  {
   "cell_type": "code",
   "execution_count": 99,
   "id": "03c13917",
   "metadata": {
    "execution": {
     "iopub.execute_input": "2025-01-28T11:44:58.129012Z",
     "iopub.status.busy": "2025-01-28T11:44:58.128628Z",
     "iopub.status.idle": "2025-01-28T11:44:58.321760Z",
     "shell.execute_reply": "2025-01-28T11:44:58.320512Z"
    },
    "papermill": {
     "duration": 0.551014,
     "end_time": "2025-01-28T11:44:58.323649",
     "exception": false,
     "start_time": "2025-01-28T11:44:57.772635",
     "status": "completed"
    },
    "tags": []
   },
   "outputs": [
    {
     "data": {
      "image/png": "[encoded data removed]",
      "text/plain": [
       "<Figure size 640x480 with 1 Axes>"
      ]
     },
     "metadata": {},
     "output_type": "display_data"
    }
   ],
   "source": [
    "plt.plot(val_results['Actuals'][1:50], label='Actual')\n",
    "plt.plot(val_results['Train Predictions'][1:50], label='Predicted')\n",
    "plt.legend()\n",
    "plt.show()"
   ]
  },
  {
   "cell_type": "code",
   "execution_count": 100,
   "id": "06d3d4bd",
   "metadata": {
    "execution": {
     "iopub.execute_input": "2025-01-28T11:44:59.090007Z",
     "iopub.status.busy": "2025-01-28T11:44:59.089605Z",
     "iopub.status.idle": "2025-01-28T11:44:59.204357Z",
     "shell.execute_reply": "2025-01-28T11:44:59.203271Z"
    },
    "papermill": {
     "duration": 0.467278,
     "end_time": "2025-01-28T11:44:59.206147",
     "exception": false,
     "start_time": "2025-01-28T11:44:58.738869",
     "status": "completed"
    },
    "tags": []
   },
   "outputs": [
    {
     "name": "stdout",
     "output_type": "stream",
     "text": [
      "\u001b[1m10/10\u001b[0m \u001b[32m━━━━━━━━━━━━━━━━━━━━\u001b[0m\u001b[37m\u001b[0m \u001b[1m0s\u001b[0m 3ms/step \n"
     ]
    },
    {
     "data": {
      "text/html": [
       "<div>\n",
       "<style scoped>\n",
       "    .dataframe tbody tr th:only-of-type {\n",
       "        vertical-align: middle;\n",
       "    }\n",
       "\n",
       "    .dataframe tbody tr th {\n",
       "        vertical-align: top;\n",
       "    }\n",
       "\n",
       "    .dataframe thead th {\n",
       "        text-align: right;\n",
       "    }\n",
       "</style>\n",
       "<table border=\"1\" class=\"dataframe\">\n",
       "  <thead>\n",
       "    <tr style=\"text-align: right;\">\n",
       "      <th></th>\n",
       "      <th>Train Predictions</th>\n",
       "      <th>Actuals</th>\n",
       "    </tr>\n",
       "  </thead>\n",
       "  <tbody>\n",
       "    <tr>\n",
       "      <th>0</th>\n",
       "      <td>0.849428</td>\n",
       "      <td>0.386221</td>\n",
       "    </tr>\n",
       "    <tr>\n",
       "      <th>1</th>\n",
       "      <td>0.969929</td>\n",
       "      <td>0.551124</td>\n",
       "    </tr>\n",
       "    <tr>\n",
       "      <th>2</th>\n",
       "      <td>0.849348</td>\n",
       "      <td>0.372479</td>\n",
       "    </tr>\n",
       "    <tr>\n",
       "      <th>3</th>\n",
       "      <td>0.673300</td>\n",
       "      <td>0.193834</td>\n",
       "    </tr>\n",
       "    <tr>\n",
       "      <th>4</th>\n",
       "      <td>0.478283</td>\n",
       "      <td>0.125125</td>\n",
       "    </tr>\n",
       "    <tr>\n",
       "      <th>...</th>\n",
       "      <td>...</td>\n",
       "      <td>...</td>\n",
       "    </tr>\n",
       "    <tr>\n",
       "      <th>312</th>\n",
       "      <td>-0.324202</td>\n",
       "      <td>-0.397067</td>\n",
       "    </tr>\n",
       "    <tr>\n",
       "      <th>313</th>\n",
       "      <td>-0.365201</td>\n",
       "      <td>-0.259648</td>\n",
       "    </tr>\n",
       "    <tr>\n",
       "      <th>314</th>\n",
       "      <td>-0.294059</td>\n",
       "      <td>-0.108488</td>\n",
       "    </tr>\n",
       "    <tr>\n",
       "      <th>315</th>\n",
       "      <td>-0.268616</td>\n",
       "      <td>-0.108488</td>\n",
       "    </tr>\n",
       "    <tr>\n",
       "      <th>316</th>\n",
       "      <td>-0.330262</td>\n",
       "      <td>-0.149713</td>\n",
       "    </tr>\n",
       "  </tbody>\n",
       "</table>\n",
       "<p>317 rows × 2 columns</p>\n",
       "</div>"
      ],
      "text/plain": [
       "     Train Predictions   Actuals\n",
       "0             0.849428  0.386221\n",
       "1             0.969929  0.551124\n",
       "2             0.849348  0.372479\n",
       "3             0.673300  0.193834\n",
       "4             0.478283  0.125125\n",
       "..                 ...       ...\n",
       "312          -0.324202 -0.397067\n",
       "313          -0.365201 -0.259648\n",
       "314          -0.294059 -0.108488\n",
       "315          -0.268616 -0.108488\n",
       "316          -0.330262 -0.149713\n",
       "\n",
       "[317 rows x 2 columns]"
      ]
     },
     "execution_count": 100,
     "metadata": {},
     "output_type": "execute_result"
    }
   ],
   "source": [
    "test_predictions = model10.predict(X_test1).flatten()\n",
    "test_results = pd.DataFrame(data={'Train Predictions':test_predictions, 'Actuals':y_test1})\n",
    "test_results"
   ]
  },
  {
   "cell_type": "code",
   "execution_count": 101,
   "id": "f9c1e5f6",
   "metadata": {
    "execution": {
     "iopub.execute_input": "2025-01-28T11:44:59.922809Z",
     "iopub.status.busy": "2025-01-28T11:44:59.922452Z",
     "iopub.status.idle": "2025-01-28T11:45:00.101310Z",
     "shell.execute_reply": "2025-01-28T11:45:00.100170Z"
    },
    "papermill": {
     "duration": 0.535351,
     "end_time": "2025-01-28T11:45:00.103366",
     "exception": false,
     "start_time": "2025-01-28T11:44:59.568015",
     "status": "completed"
    },
    "tags": []
   },
   "outputs": [
    {
     "data": {
      "image/png": "[encoded data removed]",
      "text/plain": [
       "<Figure size 640x480 with 1 Axes>"
      ]
     },
     "metadata": {},
     "output_type": "display_data"
    }
   ],
   "source": [
    "plt.plot(test_results['Train Predictions'][1:50], label='Predicted')\n",
    "plt.plot(test_results['Actuals'][1:50], label='Actual')\n",
    "plt.legend()\n",
    "plt.show()"
   ]
  }
 ],
 "metadata": {
  "kaggle": {
   "accelerator": "none",
   "dataSources": [
    {
     "datasetId": 6557354,
     "sourceId": 10594490,
     "sourceType": "datasetVersion"
    },
    {
     "sourceId": 219513339,
     "sourceType": "kernelVersion"
    }
   ],
   "dockerImageVersionId": 30839,
   "isGpuEnabled": false,
   "isInternetEnabled": false,
   "language": "python",
   "sourceType": "notebook"
  },
  "kernelspec": {
   "display_name": "Python 3",
   "language": "python",
   "name": "python3"
  },
  "language_info": {
   "codemirror_mode": {
    "name": "ipython",
    "version": 3
   },
   "file_extension": ".py",
   "mimetype": "text/x-python",
   "name": "python",
   "nbconvert_exporter": "python",
   "pygments_lexer": "ipython3",
   "version": "3.10.12"
  },
  "papermill": {
   "default_parameters": {},
   "duration": 392.396061,
   "end_time": "2025-01-28T11:45:03.429746",
   "environment_variables": {},
   "exception": null,
   "input_path": "__notebook__.ipynb",
   "output_path": "__notebook__.ipynb",
   "parameters": {},
   "start_time": "2025-01-28T11:38:31.033685",
   "version": "2.6.0"
  }
 },
 "nbformat": 4,
 "nbformat_minor": 5
}
