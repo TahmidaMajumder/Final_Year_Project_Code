{
 "cells": [
  {
   "cell_type": "code",
   "execution_count": 1,
   "id": "e302c263",
   "metadata": {
    "_cell_guid": "0bd5fd8f-4de5-406f-92da-d16f3c990795",
    "_uuid": "63737120-456d-498d-a950-7893b9099e72",
    "collapsed": false,
    "execution": {
     "iopub.execute_input": "2025-01-27T20:53:16.772278Z",
     "iopub.status.busy": "2025-01-27T20:53:16.771720Z",
     "iopub.status.idle": "2025-01-27T20:53:20.075802Z",
     "shell.execute_reply": "2025-01-27T20:53:20.074292Z"
    },
    "jupyter": {
     "outputs_hidden": false
    },
    "papermill": {
     "duration": 3.323561,
     "end_time": "2025-01-27T20:53:20.078172",
     "exception": false,
     "start_time": "2025-01-27T20:53:16.754611",
     "status": "completed"
    },
    "tags": []
   },
   "outputs": [],
   "source": [
    "# Packages / libraries\n",
    "import os #provides functions for interacting with the operating system\n",
    "import numpy as np\n",
    "import pandas as pd\n",
    "from matplotlib import pyplot as plt\n",
    "import seaborn as sns\n",
    "\n",
    "from sklearn.preprocessing import MinMaxScaler\n",
    "from sklearn.preprocessing import StandardScaler\n",
    "from sklearn.metrics import mean_squared_error, mean_absolute_error, r2_score\n",
    "\n",
    "# remove warnings\n",
    "import warnings\n",
    "warnings.simplefilter(action='ignore', category=RuntimeWarning)"
   ]
  },
  {
   "cell_type": "markdown",
   "id": "7f83f41f",
   "metadata": {
    "papermill": {
     "duration": 0.015017,
     "end_time": "2025-01-27T20:53:20.107939",
     "exception": false,
     "start_time": "2025-01-27T20:53:20.092922",
     "status": "completed"
    },
    "tags": []
   },
   "source": [
    "# **1. Loading Dataset**"
   ]
  },
  {
   "cell_type": "code",
   "execution_count": 2,
   "id": "25d07d1c",
   "metadata": {
    "execution": {
     "iopub.execute_input": "2025-01-27T20:53:20.137231Z",
     "iopub.status.busy": "2025-01-27T20:53:20.136627Z",
     "iopub.status.idle": "2025-01-27T20:53:20.208328Z",
     "shell.execute_reply": "2025-01-27T20:53:20.206200Z"
    },
    "papermill": {
     "duration": 0.089289,
     "end_time": "2025-01-27T20:53:20.210755",
     "exception": false,
     "start_time": "2025-01-27T20:53:20.121466",
     "status": "completed"
    },
    "tags": []
   },
   "outputs": [
    {
     "name": "stdout",
     "output_type": "stream",
     "text": [
      "(2399, 12)\n"
     ]
    },
    {
     "data": {
      "text/html": [
       "<div>\n",
       "<style scoped>\n",
       "    .dataframe tbody tr th:only-of-type {\n",
       "        vertical-align: middle;\n",
       "    }\n",
       "\n",
       "    .dataframe tbody tr th {\n",
       "        vertical-align: top;\n",
       "    }\n",
       "\n",
       "    .dataframe thead th {\n",
       "        text-align: right;\n",
       "    }\n",
       "</style>\n",
       "<table border=\"1\" class=\"dataframe\">\n",
       "  <thead>\n",
       "    <tr style=\"text-align: right;\">\n",
       "      <th></th>\n",
       "      <th>Date</th>\n",
       "      <th>co</th>\n",
       "      <th>no2</th>\n",
       "      <th>o3</th>\n",
       "      <th>pm10</th>\n",
       "      <th>pm25</th>\n",
       "      <th>so2</th>\n",
       "      <th>humidity</th>\n",
       "      <th>pressure</th>\n",
       "      <th>temperature</th>\n",
       "      <th>wind-speed</th>\n",
       "      <th>Country_City</th>\n",
       "    </tr>\n",
       "  </thead>\n",
       "  <tbody>\n",
       "    <tr>\n",
       "      <th>0</th>\n",
       "      <td>2014-12-29</td>\n",
       "      <td>14.1</td>\n",
       "      <td>36.2</td>\n",
       "      <td>3.2</td>\n",
       "      <td>218.0</td>\n",
       "      <td>307.0</td>\n",
       "      <td>4.2</td>\n",
       "      <td>NaN</td>\n",
       "      <td>NaN</td>\n",
       "      <td>NaN</td>\n",
       "      <td>NaN</td>\n",
       "      <td>India_Delhi</td>\n",
       "    </tr>\n",
       "    <tr>\n",
       "      <th>1</th>\n",
       "      <td>2014-12-30</td>\n",
       "      <td>20.4</td>\n",
       "      <td>36.8</td>\n",
       "      <td>4.8</td>\n",
       "      <td>330.0</td>\n",
       "      <td>367.0</td>\n",
       "      <td>5.8</td>\n",
       "      <td>NaN</td>\n",
       "      <td>NaN</td>\n",
       "      <td>NaN</td>\n",
       "      <td>NaN</td>\n",
       "      <td>India_Delhi</td>\n",
       "    </tr>\n",
       "    <tr>\n",
       "      <th>2</th>\n",
       "      <td>2014-12-31</td>\n",
       "      <td>12.7</td>\n",
       "      <td>28.7</td>\n",
       "      <td>7.8</td>\n",
       "      <td>137.0</td>\n",
       "      <td>202.0</td>\n",
       "      <td>6.3</td>\n",
       "      <td>NaN</td>\n",
       "      <td>NaN</td>\n",
       "      <td>NaN</td>\n",
       "      <td>NaN</td>\n",
       "      <td>India_Delhi</td>\n",
       "    </tr>\n",
       "    <tr>\n",
       "      <th>3</th>\n",
       "      <td>2015-01-01</td>\n",
       "      <td>20.8</td>\n",
       "      <td>66.5</td>\n",
       "      <td>5.2</td>\n",
       "      <td>230.0</td>\n",
       "      <td>382.0</td>\n",
       "      <td>9.9</td>\n",
       "      <td>NaN</td>\n",
       "      <td>NaN</td>\n",
       "      <td>NaN</td>\n",
       "      <td>NaN</td>\n",
       "      <td>India_Delhi</td>\n",
       "    </tr>\n",
       "    <tr>\n",
       "      <th>4</th>\n",
       "      <td>2015-01-02</td>\n",
       "      <td>12.7</td>\n",
       "      <td>33.9</td>\n",
       "      <td>6.0</td>\n",
       "      <td>81.0</td>\n",
       "      <td>172.0</td>\n",
       "      <td>4.2</td>\n",
       "      <td>NaN</td>\n",
       "      <td>NaN</td>\n",
       "      <td>NaN</td>\n",
       "      <td>NaN</td>\n",
       "      <td>India_Delhi</td>\n",
       "    </tr>\n",
       "  </tbody>\n",
       "</table>\n",
       "</div>"
      ],
      "text/plain": [
       "         Date    co   no2   o3   pm10   pm25  so2  humidity  pressure  \\\n",
       "0  2014-12-29  14.1  36.2  3.2  218.0  307.0  4.2       NaN       NaN   \n",
       "1  2014-12-30  20.4  36.8  4.8  330.0  367.0  5.8       NaN       NaN   \n",
       "2  2014-12-31  12.7  28.7  7.8  137.0  202.0  6.3       NaN       NaN   \n",
       "3  2015-01-01  20.8  66.5  5.2  230.0  382.0  9.9       NaN       NaN   \n",
       "4  2015-01-02  12.7  33.9  6.0   81.0  172.0  4.2       NaN       NaN   \n",
       "\n",
       "   temperature  wind-speed Country_City  \n",
       "0          NaN         NaN  India_Delhi  \n",
       "1          NaN         NaN  India_Delhi  \n",
       "2          NaN         NaN  India_Delhi  \n",
       "3          NaN         NaN  India_Delhi  \n",
       "4          NaN         NaN  India_Delhi  "
      ]
     },
     "execution_count": 2,
     "metadata": {},
     "output_type": "execute_result"
    }
   ],
   "source": [
    "# Loading the data\n",
    "new_data = pd.read_csv(\"/kaggle/input/seperated-data/India_Delhi.csv\")\n",
    "\n",
    "# print the shape\n",
    "print(new_data.shape)\n",
    "\n",
    "#runs the first 5 rows\n",
    "new_data.head()"
   ]
  },
  {
   "cell_type": "code",
   "execution_count": 3,
   "id": "0ce19734",
   "metadata": {
    "execution": {
     "iopub.execute_input": "2025-01-27T20:53:20.241203Z",
     "iopub.status.busy": "2025-01-27T20:53:20.240765Z",
     "iopub.status.idle": "2025-01-27T20:53:20.249907Z",
     "shell.execute_reply": "2025-01-27T20:53:20.248552Z"
    },
    "papermill": {
     "duration": 0.026657,
     "end_time": "2025-01-27T20:53:20.251831",
     "exception": false,
     "start_time": "2025-01-27T20:53:20.225174",
     "status": "completed"
    },
    "tags": []
   },
   "outputs": [
    {
     "name": "stdout",
     "output_type": "stream",
     "text": [
      "Minimum date: 2014-12-29\n",
      "Maximum date: 2023-10-01\n"
     ]
    }
   ],
   "source": [
    "# Find the minimum and maximum dates\n",
    "min_date = new_data['Date'].min()\n",
    "max_date = new_data['Date'].max()\n",
    "\n",
    "print('Minimum date:', min_date)\n",
    "print('Maximum date:', max_date)"
   ]
  },
  {
   "cell_type": "code",
   "execution_count": 4,
   "id": "1cb2f4cf",
   "metadata": {
    "execution": {
     "iopub.execute_input": "2025-01-27T20:53:20.282584Z",
     "iopub.status.busy": "2025-01-27T20:53:20.282208Z",
     "iopub.status.idle": "2025-01-27T20:53:20.312023Z",
     "shell.execute_reply": "2025-01-27T20:53:20.310244Z"
    },
    "papermill": {
     "duration": 0.047967,
     "end_time": "2025-01-27T20:53:20.313890",
     "exception": false,
     "start_time": "2025-01-27T20:53:20.265923",
     "status": "completed"
    },
    "tags": []
   },
   "outputs": [
    {
     "name": "stdout",
     "output_type": "stream",
     "text": [
      "<class 'pandas.core.frame.DataFrame'>\n",
      "RangeIndex: 2399 entries, 0 to 2398\n",
      "Data columns (total 12 columns):\n",
      " #   Column        Non-Null Count  Dtype  \n",
      "---  ------        --------------  -----  \n",
      " 0   Date          2399 non-null   object \n",
      " 1   co            2399 non-null   float64\n",
      " 2   no2           2399 non-null   float64\n",
      " 3   o3            2399 non-null   float64\n",
      " 4   pm10          2398 non-null   float64\n",
      " 5   pm25          2398 non-null   float64\n",
      " 6   so2           2399 non-null   float64\n",
      " 7   humidity      1698 non-null   float64\n",
      " 8   pressure      1698 non-null   float64\n",
      " 9   temperature   1698 non-null   float64\n",
      " 10  wind-speed    1629 non-null   float64\n",
      " 11  Country_City  2399 non-null   object \n",
      "dtypes: float64(10), object(2)\n",
      "memory usage: 225.0+ KB\n"
     ]
    }
   ],
   "source": [
    "new_data.info()"
   ]
  },
  {
   "cell_type": "code",
   "execution_count": 5,
   "id": "dbc096c0",
   "metadata": {
    "execution": {
     "iopub.execute_input": "2025-01-27T20:53:20.344978Z",
     "iopub.status.busy": "2025-01-27T20:53:20.344552Z",
     "iopub.status.idle": "2025-01-27T20:53:20.386260Z",
     "shell.execute_reply": "2025-01-27T20:53:20.384904Z"
    },
    "papermill": {
     "duration": 0.060044,
     "end_time": "2025-01-27T20:53:20.388548",
     "exception": false,
     "start_time": "2025-01-27T20:53:20.328504",
     "status": "completed"
    },
    "tags": []
   },
   "outputs": [
    {
     "data": {
      "text/html": [
       "<div>\n",
       "<style scoped>\n",
       "    .dataframe tbody tr th:only-of-type {\n",
       "        vertical-align: middle;\n",
       "    }\n",
       "\n",
       "    .dataframe tbody tr th {\n",
       "        vertical-align: top;\n",
       "    }\n",
       "\n",
       "    .dataframe thead th {\n",
       "        text-align: right;\n",
       "    }\n",
       "</style>\n",
       "<table border=\"1\" class=\"dataframe\">\n",
       "  <thead>\n",
       "    <tr style=\"text-align: right;\">\n",
       "      <th></th>\n",
       "      <th>co</th>\n",
       "      <th>no2</th>\n",
       "      <th>o3</th>\n",
       "      <th>pm10</th>\n",
       "      <th>pm25</th>\n",
       "      <th>so2</th>\n",
       "      <th>humidity</th>\n",
       "      <th>pressure</th>\n",
       "      <th>temperature</th>\n",
       "      <th>wind-speed</th>\n",
       "    </tr>\n",
       "  </thead>\n",
       "  <tbody>\n",
       "    <tr>\n",
       "      <th>count</th>\n",
       "      <td>2399.000000</td>\n",
       "      <td>2399.000000</td>\n",
       "      <td>2399.000000</td>\n",
       "      <td>2398.000000</td>\n",
       "      <td>2398.000000</td>\n",
       "      <td>2399.000000</td>\n",
       "      <td>1698.000000</td>\n",
       "      <td>1698.000000</td>\n",
       "      <td>1698.000000</td>\n",
       "      <td>1629.000000</td>\n",
       "    </tr>\n",
       "    <tr>\n",
       "      <th>mean</th>\n",
       "      <td>9.325594</td>\n",
       "      <td>16.870946</td>\n",
       "      <td>9.480700</td>\n",
       "      <td>131.572143</td>\n",
       "      <td>164.397832</td>\n",
       "      <td>5.702751</td>\n",
       "      <td>60.708304</td>\n",
       "      <td>985.184923</td>\n",
       "      <td>26.338869</td>\n",
       "      <td>1.101964</td>\n",
       "    </tr>\n",
       "    <tr>\n",
       "      <th>std</th>\n",
       "      <td>3.715709</td>\n",
       "      <td>7.805715</td>\n",
       "      <td>4.829603</td>\n",
       "      <td>77.174642</td>\n",
       "      <td>64.829240</td>\n",
       "      <td>2.289821</td>\n",
       "      <td>17.138084</td>\n",
       "      <td>10.022854</td>\n",
       "      <td>6.631277</td>\n",
       "      <td>0.493156</td>\n",
       "    </tr>\n",
       "    <tr>\n",
       "      <th>min</th>\n",
       "      <td>0.100000</td>\n",
       "      <td>5.000000</td>\n",
       "      <td>2.400000</td>\n",
       "      <td>12.000000</td>\n",
       "      <td>30.000000</td>\n",
       "      <td>1.700000</td>\n",
       "      <td>13.000000</td>\n",
       "      <td>743.000000</td>\n",
       "      <td>6.200000</td>\n",
       "      <td>0.300000</td>\n",
       "    </tr>\n",
       "    <tr>\n",
       "      <th>25%</th>\n",
       "      <td>7.050000</td>\n",
       "      <td>10.600000</td>\n",
       "      <td>6.000000</td>\n",
       "      <td>82.000000</td>\n",
       "      <td>123.000000</td>\n",
       "      <td>4.000000</td>\n",
       "      <td>48.500000</td>\n",
       "      <td>979.800000</td>\n",
       "      <td>22.100000</td>\n",
       "      <td>0.800000</td>\n",
       "    </tr>\n",
       "    <tr>\n",
       "      <th>50%</th>\n",
       "      <td>8.400000</td>\n",
       "      <td>15.800000</td>\n",
       "      <td>8.200000</td>\n",
       "      <td>120.000000</td>\n",
       "      <td>160.000000</td>\n",
       "      <td>5.300000</td>\n",
       "      <td>63.000000</td>\n",
       "      <td>983.900000</td>\n",
       "      <td>28.600000</td>\n",
       "      <td>1.000000</td>\n",
       "    </tr>\n",
       "    <tr>\n",
       "      <th>75%</th>\n",
       "      <td>10.700000</td>\n",
       "      <td>21.500000</td>\n",
       "      <td>11.800000</td>\n",
       "      <td>160.000000</td>\n",
       "      <td>189.000000</td>\n",
       "      <td>7.100000</td>\n",
       "      <td>74.000000</td>\n",
       "      <td>990.400000</td>\n",
       "      <td>31.100000</td>\n",
       "      <td>1.300000</td>\n",
       "    </tr>\n",
       "    <tr>\n",
       "      <th>max</th>\n",
       "      <td>30.600000</td>\n",
       "      <td>66.500000</td>\n",
       "      <td>40.300000</td>\n",
       "      <td>999.000000</td>\n",
       "      <td>577.000000</td>\n",
       "      <td>19.800000</td>\n",
       "      <td>99.100000</td>\n",
       "      <td>1020.500000</td>\n",
       "      <td>38.000000</td>\n",
       "      <td>4.600000</td>\n",
       "    </tr>\n",
       "  </tbody>\n",
       "</table>\n",
       "</div>"
      ],
      "text/plain": [
       "                co          no2           o3         pm10         pm25  \\\n",
       "count  2399.000000  2399.000000  2399.000000  2398.000000  2398.000000   \n",
       "mean      9.325594    16.870946     9.480700   131.572143   164.397832   \n",
       "std       3.715709     7.805715     4.829603    77.174642    64.829240   \n",
       "min       0.100000     5.000000     2.400000    12.000000    30.000000   \n",
       "25%       7.050000    10.600000     6.000000    82.000000   123.000000   \n",
       "50%       8.400000    15.800000     8.200000   120.000000   160.000000   \n",
       "75%      10.700000    21.500000    11.800000   160.000000   189.000000   \n",
       "max      30.600000    66.500000    40.300000   999.000000   577.000000   \n",
       "\n",
       "               so2     humidity     pressure  temperature   wind-speed  \n",
       "count  2399.000000  1698.000000  1698.000000  1698.000000  1629.000000  \n",
       "mean      5.702751    60.708304   985.184923    26.338869     1.101964  \n",
       "std       2.289821    17.138084    10.022854     6.631277     0.493156  \n",
       "min       1.700000    13.000000   743.000000     6.200000     0.300000  \n",
       "25%       4.000000    48.500000   979.800000    22.100000     0.800000  \n",
       "50%       5.300000    63.000000   983.900000    28.600000     1.000000  \n",
       "75%       7.100000    74.000000   990.400000    31.100000     1.300000  \n",
       "max      19.800000    99.100000  1020.500000    38.000000     4.600000  "
      ]
     },
     "execution_count": 5,
     "metadata": {},
     "output_type": "execute_result"
    }
   ],
   "source": [
    "new_data.describe()"
   ]
  },
  {
   "cell_type": "code",
   "execution_count": 6,
   "id": "aadcf668",
   "metadata": {
    "execution": {
     "iopub.execute_input": "2025-01-27T20:53:20.421247Z",
     "iopub.status.busy": "2025-01-27T20:53:20.420850Z",
     "iopub.status.idle": "2025-01-27T20:53:20.438062Z",
     "shell.execute_reply": "2025-01-27T20:53:20.435854Z"
    },
    "papermill": {
     "duration": 0.037187,
     "end_time": "2025-01-27T20:53:20.440345",
     "exception": false,
     "start_time": "2025-01-27T20:53:20.403158",
     "status": "completed"
    },
    "tags": []
   },
   "outputs": [
    {
     "name": "stdout",
     "output_type": "stream",
     "text": [
      "The number of values for feature Date :2397\n",
      "The number of values for feature co :200\n",
      "The number of values for feature no2 :328\n",
      "The number of values for feature o3 :226\n",
      "The number of values for feature pm10 :320\n",
      "The number of values for feature pm25 :309\n",
      "The number of values for feature so2 :116\n",
      "The number of values for feature humidity :602\n",
      "The number of values for feature pressure :300\n",
      "The number of values for feature temperature :264\n",
      "The number of values for feature wind-speed :33\n",
      "The number of values for feature Country_City :1 -- ['India_Delhi']\n"
     ]
    }
   ],
   "source": [
    "# Investigate all the elements whithin each Feature\n",
    "\n",
    "for column in new_data:\n",
    "    # Handle numerical and string columns differently\n",
    "    if new_data[column].dtype == 'object':  # Check if column is of object type\n",
    "        unique_vals = new_data[column].unique()  # pandas unique for strings\n",
    "    else:\n",
    "        unique_vals = np.unique(new_data[column])  # numpy unique for numerical types\n",
    "\n",
    "    nr_values = len(unique_vals)\n",
    "    if nr_values < 14:\n",
    "        print('The number of values for feature {} :{} -- {}'.format(column, nr_values,unique_vals))\n",
    "    else:\n",
    "        print('The number of values for feature {} :{}'.format(column, nr_values))"
   ]
  },
  {
   "cell_type": "code",
   "execution_count": 7,
   "id": "3307fe8a",
   "metadata": {
    "execution": {
     "iopub.execute_input": "2025-01-27T20:53:20.472717Z",
     "iopub.status.busy": "2025-01-27T20:53:20.472175Z",
     "iopub.status.idle": "2025-01-27T20:53:20.481361Z",
     "shell.execute_reply": "2025-01-27T20:53:20.480081Z"
    },
    "papermill": {
     "duration": 0.027651,
     "end_time": "2025-01-27T20:53:20.483177",
     "exception": false,
     "start_time": "2025-01-27T20:53:20.455526",
     "status": "completed"
    },
    "tags": []
   },
   "outputs": [
    {
     "data": {
      "text/plain": [
       "Date              0\n",
       "co                0\n",
       "no2               0\n",
       "o3                0\n",
       "pm10              1\n",
       "pm25              1\n",
       "so2               0\n",
       "humidity        701\n",
       "pressure        701\n",
       "temperature     701\n",
       "wind-speed      770\n",
       "Country_City      0\n",
       "dtype: int64"
      ]
     },
     "execution_count": 7,
     "metadata": {},
     "output_type": "execute_result"
    }
   ],
   "source": [
    "new_data.isna().sum()"
   ]
  },
  {
   "cell_type": "markdown",
   "id": "f8635ead",
   "metadata": {
    "papermill": {
     "duration": 0.014118,
     "end_time": "2025-01-27T20:53:20.511848",
     "exception": false,
     "start_time": "2025-01-27T20:53:20.497730",
     "status": "completed"
    },
    "tags": []
   },
   "source": [
    "## **1.2 - Function**"
   ]
  },
  {
   "cell_type": "code",
   "execution_count": 8,
   "id": "76e364c6",
   "metadata": {
    "execution": {
     "iopub.execute_input": "2025-01-27T20:53:20.546724Z",
     "iopub.status.busy": "2025-01-27T20:53:20.546302Z",
     "iopub.status.idle": "2025-01-27T20:53:20.552665Z",
     "shell.execute_reply": "2025-01-27T20:53:20.551036Z"
    },
    "papermill": {
     "duration": 0.026958,
     "end_time": "2025-01-27T20:53:20.555402",
     "exception": false,
     "start_time": "2025-01-27T20:53:20.528444",
     "status": "completed"
    },
    "tags": []
   },
   "outputs": [
    {
     "name": "stdout",
     "output_type": "stream",
     "text": [
      "['__results__.html', '__notebook__.ipynb', 'function.py', '__output__.json', 'custom.css']\n"
     ]
    }
   ],
   "source": [
    "print(os.listdir('/kaggle/usr/lib/function'))"
   ]
  },
  {
   "cell_type": "code",
   "execution_count": 9,
   "id": "f260def1",
   "metadata": {
    "execution": {
     "iopub.execute_input": "2025-01-27T20:53:20.588596Z",
     "iopub.status.busy": "2025-01-27T20:53:20.588218Z",
     "iopub.status.idle": "2025-01-27T20:53:20.602979Z",
     "shell.execute_reply": "2025-01-27T20:53:20.601977Z"
    },
    "papermill": {
     "duration": 0.033697,
     "end_time": "2025-01-27T20:53:20.604905",
     "exception": false,
     "start_time": "2025-01-27T20:53:20.571208",
     "status": "completed"
    },
    "tags": []
   },
   "outputs": [],
   "source": [
    "import sys\n",
    "sys.path.append(\"/kaggle/usr/lib/function\")  # Add directory to the path\n",
    "\n",
    "import function as fn"
   ]
  },
  {
   "cell_type": "code",
   "execution_count": 10,
   "id": "889ce30a",
   "metadata": {
    "execution": {
     "iopub.execute_input": "2025-01-27T20:53:20.636492Z",
     "iopub.status.busy": "2025-01-27T20:53:20.636130Z",
     "iopub.status.idle": "2025-01-27T20:53:20.663819Z",
     "shell.execute_reply": "2025-01-27T20:53:20.662621Z"
    },
    "papermill": {
     "duration": 0.045002,
     "end_time": "2025-01-27T20:53:20.665573",
     "exception": false,
     "start_time": "2025-01-27T20:53:20.620571",
     "status": "completed"
    },
    "tags": []
   },
   "outputs": [
    {
     "data": {
      "text/html": [
       "<div>\n",
       "<style scoped>\n",
       "    .dataframe tbody tr th:only-of-type {\n",
       "        vertical-align: middle;\n",
       "    }\n",
       "\n",
       "    .dataframe tbody tr th {\n",
       "        vertical-align: top;\n",
       "    }\n",
       "\n",
       "    .dataframe thead th {\n",
       "        text-align: right;\n",
       "    }\n",
       "</style>\n",
       "<table border=\"1\" class=\"dataframe\">\n",
       "  <thead>\n",
       "    <tr style=\"text-align: right;\">\n",
       "      <th></th>\n",
       "      <th>co</th>\n",
       "      <th>no2</th>\n",
       "      <th>o3</th>\n",
       "      <th>pm10</th>\n",
       "      <th>pm25</th>\n",
       "      <th>so2</th>\n",
       "      <th>humidity</th>\n",
       "      <th>pressure</th>\n",
       "      <th>temperature</th>\n",
       "      <th>wind-speed</th>\n",
       "      <th>Country_City</th>\n",
       "    </tr>\n",
       "    <tr>\n",
       "      <th>Date</th>\n",
       "      <th></th>\n",
       "      <th></th>\n",
       "      <th></th>\n",
       "      <th></th>\n",
       "      <th></th>\n",
       "      <th></th>\n",
       "      <th></th>\n",
       "      <th></th>\n",
       "      <th></th>\n",
       "      <th></th>\n",
       "      <th></th>\n",
       "    </tr>\n",
       "  </thead>\n",
       "  <tbody>\n",
       "    <tr>\n",
       "      <th>2014-12-29</th>\n",
       "      <td>14.1</td>\n",
       "      <td>36.2</td>\n",
       "      <td>3.2</td>\n",
       "      <td>218.0</td>\n",
       "      <td>307.0</td>\n",
       "      <td>4.2</td>\n",
       "      <td>NaN</td>\n",
       "      <td>NaN</td>\n",
       "      <td>NaN</td>\n",
       "      <td>NaN</td>\n",
       "      <td>India_Delhi</td>\n",
       "    </tr>\n",
       "    <tr>\n",
       "      <th>2014-12-30</th>\n",
       "      <td>20.4</td>\n",
       "      <td>36.8</td>\n",
       "      <td>4.8</td>\n",
       "      <td>330.0</td>\n",
       "      <td>367.0</td>\n",
       "      <td>5.8</td>\n",
       "      <td>NaN</td>\n",
       "      <td>NaN</td>\n",
       "      <td>NaN</td>\n",
       "      <td>NaN</td>\n",
       "      <td>India_Delhi</td>\n",
       "    </tr>\n",
       "    <tr>\n",
       "      <th>2014-12-31</th>\n",
       "      <td>12.7</td>\n",
       "      <td>28.7</td>\n",
       "      <td>7.8</td>\n",
       "      <td>137.0</td>\n",
       "      <td>202.0</td>\n",
       "      <td>6.3</td>\n",
       "      <td>NaN</td>\n",
       "      <td>NaN</td>\n",
       "      <td>NaN</td>\n",
       "      <td>NaN</td>\n",
       "      <td>India_Delhi</td>\n",
       "    </tr>\n",
       "    <tr>\n",
       "      <th>2015-01-01</th>\n",
       "      <td>20.8</td>\n",
       "      <td>66.5</td>\n",
       "      <td>5.2</td>\n",
       "      <td>230.0</td>\n",
       "      <td>382.0</td>\n",
       "      <td>9.9</td>\n",
       "      <td>NaN</td>\n",
       "      <td>NaN</td>\n",
       "      <td>NaN</td>\n",
       "      <td>NaN</td>\n",
       "      <td>India_Delhi</td>\n",
       "    </tr>\n",
       "    <tr>\n",
       "      <th>2015-01-02</th>\n",
       "      <td>12.7</td>\n",
       "      <td>33.9</td>\n",
       "      <td>6.0</td>\n",
       "      <td>81.0</td>\n",
       "      <td>172.0</td>\n",
       "      <td>4.2</td>\n",
       "      <td>NaN</td>\n",
       "      <td>NaN</td>\n",
       "      <td>NaN</td>\n",
       "      <td>NaN</td>\n",
       "      <td>India_Delhi</td>\n",
       "    </tr>\n",
       "  </tbody>\n",
       "</table>\n",
       "</div>"
      ],
      "text/plain": [
       "              co   no2   o3   pm10   pm25  so2  humidity  pressure  \\\n",
       "Date                                                                 \n",
       "2014-12-29  14.1  36.2  3.2  218.0  307.0  4.2       NaN       NaN   \n",
       "2014-12-30  20.4  36.8  4.8  330.0  367.0  5.8       NaN       NaN   \n",
       "2014-12-31  12.7  28.7  7.8  137.0  202.0  6.3       NaN       NaN   \n",
       "2015-01-01  20.8  66.5  5.2  230.0  382.0  9.9       NaN       NaN   \n",
       "2015-01-02  12.7  33.9  6.0   81.0  172.0  4.2       NaN       NaN   \n",
       "\n",
       "            temperature  wind-speed Country_City  \n",
       "Date                                              \n",
       "2014-12-29          NaN         NaN  India_Delhi  \n",
       "2014-12-30          NaN         NaN  India_Delhi  \n",
       "2014-12-31          NaN         NaN  India_Delhi  \n",
       "2015-01-01          NaN         NaN  India_Delhi  \n",
       "2015-01-02          NaN         NaN  India_Delhi  "
      ]
     },
     "execution_count": 10,
     "metadata": {},
     "output_type": "execute_result"
    }
   ],
   "source": [
    "# Use the functions\n",
    "new_data1 = fn.prepare_datetime_index(new_data, date_column='Date')\n",
    "new_data1.head()"
   ]
  },
  {
   "cell_type": "code",
   "execution_count": 11,
   "id": "8b4cbea6",
   "metadata": {
    "execution": {
     "iopub.execute_input": "2025-01-27T20:53:20.696075Z",
     "iopub.status.busy": "2025-01-27T20:53:20.695667Z",
     "iopub.status.idle": "2025-01-27T20:53:20.711199Z",
     "shell.execute_reply": "2025-01-27T20:53:20.709822Z"
    },
    "papermill": {
     "duration": 0.032752,
     "end_time": "2025-01-27T20:53:20.712992",
     "exception": false,
     "start_time": "2025-01-27T20:53:20.680240",
     "status": "completed"
    },
    "tags": []
   },
   "outputs": [
    {
     "name": "stdout",
     "output_type": "stream",
     "text": [
      "co              0\n",
      "no2             0\n",
      "o3              0\n",
      "pm10            0\n",
      "pm25            0\n",
      "so2             0\n",
      "humidity        0\n",
      "pressure        0\n",
      "temperature     0\n",
      "wind-speed      0\n",
      "Country_City    0\n",
      "dtype: int64\n"
     ]
    }
   ],
   "source": [
    "# Use the functions\n",
    "new_data2 = fn.fill_pollutant_values(new_data1)\n",
    "print(new_data2.isna().sum())"
   ]
  },
  {
   "cell_type": "markdown",
   "id": "0c9caaf0",
   "metadata": {
    "papermill": {
     "duration": 0.014611,
     "end_time": "2025-01-27T20:53:20.742227",
     "exception": false,
     "start_time": "2025-01-27T20:53:20.727616",
     "status": "completed"
    },
    "tags": []
   },
   "source": [
    "**Check**"
   ]
  },
  {
   "cell_type": "code",
   "execution_count": 12,
   "id": "f3bc47ca",
   "metadata": {
    "execution": {
     "iopub.execute_input": "2025-01-27T20:53:20.773873Z",
     "iopub.status.busy": "2025-01-27T20:53:20.773496Z",
     "iopub.status.idle": "2025-01-27T20:53:20.791267Z",
     "shell.execute_reply": "2025-01-27T20:53:20.790054Z"
    },
    "papermill": {
     "duration": 0.036154,
     "end_time": "2025-01-27T20:53:20.793290",
     "exception": false,
     "start_time": "2025-01-27T20:53:20.757136",
     "status": "completed"
    },
    "tags": []
   },
   "outputs": [
    {
     "name": "stdout",
     "output_type": "stream",
     "text": [
      "Missing Dates:\n",
      "DatetimeIndex(['2015-07-06', '2015-07-07', '2015-07-08', '2015-07-09',\n",
      "               '2015-07-10', '2015-07-11', '2015-07-12', '2015-07-13',\n",
      "               '2015-07-14', '2015-07-15',\n",
      "               ...\n",
      "               '2022-03-18', '2022-03-19', '2022-03-20', '2022-03-21',\n",
      "               '2022-03-22', '2022-03-23', '2022-03-24', '2022-03-25',\n",
      "               '2022-03-26', '2022-03-27'],\n",
      "              dtype='datetime64[ns]', length=802, freq=None)\n"
     ]
    }
   ],
   "source": [
    "# Create a complete range of dates\n",
    "full_range = pd.date_range(start=new_data2.index.min(), end=new_data2.index.max())\n",
    "\n",
    "# Find missing dates\n",
    "missing_dates = full_range.difference(new_data2.index)\n",
    "print(\"Missing Dates:\")\n",
    "print(missing_dates)"
   ]
  },
  {
   "cell_type": "code",
   "execution_count": 13,
   "id": "c25dc938",
   "metadata": {
    "execution": {
     "iopub.execute_input": "2025-01-27T20:53:20.825743Z",
     "iopub.status.busy": "2025-01-27T20:53:20.825274Z",
     "iopub.status.idle": "2025-01-27T20:53:20.836308Z",
     "shell.execute_reply": "2025-01-27T20:53:20.835180Z"
    },
    "papermill": {
     "duration": 0.029639,
     "end_time": "2025-01-27T20:53:20.838531",
     "exception": false,
     "start_time": "2025-01-27T20:53:20.808892",
     "status": "completed"
    },
    "tags": []
   },
   "outputs": [],
   "source": [
    "new_data3 = fn.impute_missing_dates(new_data2)"
   ]
  },
  {
   "cell_type": "code",
   "execution_count": 14,
   "id": "1b93e71a",
   "metadata": {
    "execution": {
     "iopub.execute_input": "2025-01-27T20:53:20.874800Z",
     "iopub.status.busy": "2025-01-27T20:53:20.874361Z",
     "iopub.status.idle": "2025-01-27T20:53:20.883286Z",
     "shell.execute_reply": "2025-01-27T20:53:20.882022Z"
    },
    "papermill": {
     "duration": 0.029145,
     "end_time": "2025-01-27T20:53:20.885137",
     "exception": false,
     "start_time": "2025-01-27T20:53:20.855992",
     "status": "completed"
    },
    "tags": []
   },
   "outputs": [
    {
     "name": "stdout",
     "output_type": "stream",
     "text": [
      "Missing Dates:\n",
      "DatetimeIndex([], dtype='datetime64[ns]', freq='D')\n"
     ]
    }
   ],
   "source": [
    "# Create a complete range of dates\n",
    "full_range = pd.date_range(start=new_data3.index.min(), end=new_data3.index.max())\n",
    "\n",
    "# Find missing dates\n",
    "missing_dates = full_range.difference(new_data3.index)\n",
    "print(\"Missing Dates:\")\n",
    "print(missing_dates)"
   ]
  },
  {
   "cell_type": "code",
   "execution_count": 15,
   "id": "378107b6",
   "metadata": {
    "execution": {
     "iopub.execute_input": "2025-01-27T20:53:20.917710Z",
     "iopub.status.busy": "2025-01-27T20:53:20.917344Z",
     "iopub.status.idle": "2025-01-27T20:53:20.923300Z",
     "shell.execute_reply": "2025-01-27T20:53:20.922162Z"
    },
    "papermill": {
     "duration": 0.024911,
     "end_time": "2025-01-27T20:53:20.925042",
     "exception": false,
     "start_time": "2025-01-27T20:53:20.900131",
     "status": "completed"
    },
    "tags": []
   },
   "outputs": [
    {
     "name": "stdout",
     "output_type": "stream",
     "text": [
      "Duplicate indexes: DatetimeIndex([], dtype='datetime64[ns]', freq='D')\n"
     ]
    }
   ],
   "source": [
    "duplicates = new_data3.index[new_data3.index.duplicated()]\n",
    "print(f\"Duplicate indexes: {duplicates}\")"
   ]
  },
  {
   "cell_type": "markdown",
   "id": "6e19c5e4",
   "metadata": {
    "papermill": {
     "duration": 0.023362,
     "end_time": "2025-01-27T20:53:20.964776",
     "exception": false,
     "start_time": "2025-01-27T20:53:20.941414",
     "status": "completed"
    },
    "tags": []
   },
   "source": [
    "## **1.3.Normal AQI count, After Normal AQI count Smoothing AQI(IQR, Z-score, Rolling), (Preprocess Pollution --> Smooth Pollution --> Calculate smooth aqi).**"
   ]
  },
  {
   "cell_type": "code",
   "execution_count": 16,
   "id": "a6ce5037",
   "metadata": {
    "execution": {
     "iopub.execute_input": "2025-01-27T20:53:21.003823Z",
     "iopub.status.busy": "2025-01-27T20:53:21.003336Z",
     "iopub.status.idle": "2025-01-27T20:53:21.022660Z",
     "shell.execute_reply": "2025-01-27T20:53:21.021339Z"
    },
    "papermill": {
     "duration": 0.038603,
     "end_time": "2025-01-27T20:53:21.024832",
     "exception": false,
     "start_time": "2025-01-27T20:53:20.986229",
     "status": "completed"
    },
    "tags": []
   },
   "outputs": [],
   "source": [
    "new_data4 = fn.calculate_aqi(new_data3, subindex_columns=['co', 'no2', 'o3', 'pm10', 'pm25', 'so2'])"
   ]
  },
  {
   "cell_type": "code",
   "execution_count": 17,
   "id": "34679163",
   "metadata": {
    "execution": {
     "iopub.execute_input": "2025-01-27T20:53:21.057897Z",
     "iopub.status.busy": "2025-01-27T20:53:21.057488Z",
     "iopub.status.idle": "2025-01-27T20:53:21.076252Z",
     "shell.execute_reply": "2025-01-27T20:53:21.074908Z"
    },
    "papermill": {
     "duration": 0.038214,
     "end_time": "2025-01-27T20:53:21.078216",
     "exception": false,
     "start_time": "2025-01-27T20:53:21.040002",
     "status": "completed"
    },
    "tags": []
   },
   "outputs": [
    {
     "data": {
      "text/html": [
       "<div>\n",
       "<style scoped>\n",
       "    .dataframe tbody tr th:only-of-type {\n",
       "        vertical-align: middle;\n",
       "    }\n",
       "\n",
       "    .dataframe tbody tr th {\n",
       "        vertical-align: top;\n",
       "    }\n",
       "\n",
       "    .dataframe thead th {\n",
       "        text-align: right;\n",
       "    }\n",
       "</style>\n",
       "<table border=\"1\" class=\"dataframe\">\n",
       "  <thead>\n",
       "    <tr style=\"text-align: right;\">\n",
       "      <th></th>\n",
       "      <th>co</th>\n",
       "      <th>no2</th>\n",
       "      <th>o3</th>\n",
       "      <th>pm10</th>\n",
       "      <th>pm25</th>\n",
       "      <th>so2</th>\n",
       "      <th>humidity</th>\n",
       "      <th>pressure</th>\n",
       "      <th>temperature</th>\n",
       "      <th>wind-speed</th>\n",
       "      <th>Country_City</th>\n",
       "      <th>Checks</th>\n",
       "      <th>AQI</th>\n",
       "    </tr>\n",
       "  </thead>\n",
       "  <tbody>\n",
       "    <tr>\n",
       "      <th>2014-12-29</th>\n",
       "      <td>14.1</td>\n",
       "      <td>36.2</td>\n",
       "      <td>3.2</td>\n",
       "      <td>218.0</td>\n",
       "      <td>307.0</td>\n",
       "      <td>4.2</td>\n",
       "      <td>60.691097</td>\n",
       "      <td>985.187382</td>\n",
       "      <td>26.3352</td>\n",
       "      <td>1.102459</td>\n",
       "      <td>India_Delhi</td>\n",
       "      <td>6</td>\n",
       "      <td>307.0</td>\n",
       "    </tr>\n",
       "    <tr>\n",
       "      <th>2014-12-30</th>\n",
       "      <td>20.4</td>\n",
       "      <td>36.8</td>\n",
       "      <td>4.8</td>\n",
       "      <td>330.0</td>\n",
       "      <td>367.0</td>\n",
       "      <td>5.8</td>\n",
       "      <td>60.691097</td>\n",
       "      <td>985.187382</td>\n",
       "      <td>26.3352</td>\n",
       "      <td>1.102459</td>\n",
       "      <td>India_Delhi</td>\n",
       "      <td>6</td>\n",
       "      <td>367.0</td>\n",
       "    </tr>\n",
       "    <tr>\n",
       "      <th>2014-12-31</th>\n",
       "      <td>12.7</td>\n",
       "      <td>28.7</td>\n",
       "      <td>7.8</td>\n",
       "      <td>137.0</td>\n",
       "      <td>202.0</td>\n",
       "      <td>6.3</td>\n",
       "      <td>60.691097</td>\n",
       "      <td>985.187382</td>\n",
       "      <td>26.3352</td>\n",
       "      <td>1.102459</td>\n",
       "      <td>India_Delhi</td>\n",
       "      <td>6</td>\n",
       "      <td>202.0</td>\n",
       "    </tr>\n",
       "    <tr>\n",
       "      <th>2015-01-01</th>\n",
       "      <td>20.8</td>\n",
       "      <td>66.5</td>\n",
       "      <td>5.2</td>\n",
       "      <td>230.0</td>\n",
       "      <td>382.0</td>\n",
       "      <td>9.9</td>\n",
       "      <td>60.691097</td>\n",
       "      <td>985.187382</td>\n",
       "      <td>26.3352</td>\n",
       "      <td>1.102459</td>\n",
       "      <td>India_Delhi</td>\n",
       "      <td>6</td>\n",
       "      <td>382.0</td>\n",
       "    </tr>\n",
       "    <tr>\n",
       "      <th>2015-01-02</th>\n",
       "      <td>12.7</td>\n",
       "      <td>33.9</td>\n",
       "      <td>6.0</td>\n",
       "      <td>81.0</td>\n",
       "      <td>172.0</td>\n",
       "      <td>4.2</td>\n",
       "      <td>60.691097</td>\n",
       "      <td>985.187382</td>\n",
       "      <td>26.3352</td>\n",
       "      <td>1.102459</td>\n",
       "      <td>India_Delhi</td>\n",
       "      <td>6</td>\n",
       "      <td>172.0</td>\n",
       "    </tr>\n",
       "  </tbody>\n",
       "</table>\n",
       "</div>"
      ],
      "text/plain": [
       "              co   no2   o3   pm10   pm25  so2   humidity    pressure  \\\n",
       "2014-12-29  14.1  36.2  3.2  218.0  307.0  4.2  60.691097  985.187382   \n",
       "2014-12-30  20.4  36.8  4.8  330.0  367.0  5.8  60.691097  985.187382   \n",
       "2014-12-31  12.7  28.7  7.8  137.0  202.0  6.3  60.691097  985.187382   \n",
       "2015-01-01  20.8  66.5  5.2  230.0  382.0  9.9  60.691097  985.187382   \n",
       "2015-01-02  12.7  33.9  6.0   81.0  172.0  4.2  60.691097  985.187382   \n",
       "\n",
       "            temperature  wind-speed Country_City  Checks    AQI  \n",
       "2014-12-29      26.3352    1.102459  India_Delhi       6  307.0  \n",
       "2014-12-30      26.3352    1.102459  India_Delhi       6  367.0  \n",
       "2014-12-31      26.3352    1.102459  India_Delhi       6  202.0  \n",
       "2015-01-01      26.3352    1.102459  India_Delhi       6  382.0  \n",
       "2015-01-02      26.3352    1.102459  India_Delhi       6  172.0  "
      ]
     },
     "execution_count": 17,
     "metadata": {},
     "output_type": "execute_result"
    }
   ],
   "source": [
    "new_data4.head()"
   ]
  },
  {
   "cell_type": "code",
   "execution_count": 18,
   "id": "cc75c1e5",
   "metadata": {
    "execution": {
     "iopub.execute_input": "2025-01-27T20:53:21.114502Z",
     "iopub.status.busy": "2025-01-27T20:53:21.113876Z",
     "iopub.status.idle": "2025-01-27T20:53:21.121982Z",
     "shell.execute_reply": "2025-01-27T20:53:21.120726Z"
    },
    "papermill": {
     "duration": 0.030682,
     "end_time": "2025-01-27T20:53:21.124208",
     "exception": false,
     "start_time": "2025-01-27T20:53:21.093526",
     "status": "completed"
    },
    "tags": []
   },
   "outputs": [
    {
     "data": {
      "text/plain": [
       "(3199, 13)"
      ]
     },
     "execution_count": 18,
     "metadata": {},
     "output_type": "execute_result"
    }
   ],
   "source": [
    "new_data4.shape"
   ]
  },
  {
   "cell_type": "markdown",
   "id": "913ecf8c",
   "metadata": {
    "papermill": {
     "duration": 0.025933,
     "end_time": "2025-01-27T20:53:21.170623",
     "exception": false,
     "start_time": "2025-01-27T20:53:21.144690",
     "status": "completed"
    },
    "tags": []
   },
   "source": [
    " After Normal AQI count Smoothing AQI(IQR, Z-score, Rolling)"
   ]
  },
  {
   "cell_type": "code",
   "execution_count": 19,
   "id": "ebe5e45e",
   "metadata": {
    "execution": {
     "iopub.execute_input": "2025-01-27T20:53:21.216773Z",
     "iopub.status.busy": "2025-01-27T20:53:21.216175Z",
     "iopub.status.idle": "2025-01-27T20:53:21.242512Z",
     "shell.execute_reply": "2025-01-27T20:53:21.241466Z"
    },
    "papermill": {
     "duration": 0.049145,
     "end_time": "2025-01-27T20:53:21.244626",
     "exception": false,
     "start_time": "2025-01-27T20:53:21.195481",
     "status": "completed"
    },
    "tags": []
   },
   "outputs": [],
   "source": [
    "# Apply the outlier handling function to the 'AQI' column only\n",
    "new_data4['AQI_smoothed_iqr'] = fn.handle_aqi_outliers(new_data4['AQI'], method='iqr')\n",
    "new_data4['AQI_smoothed_zscore'] = fn.handle_aqi_outliers(new_data4['AQI'], method='zscore')\n",
    "new_data4['AQI_smoothed_rolling'] = fn.handle_aqi_outliers(new_data4['AQI'], method='rolling')"
   ]
  },
  {
   "cell_type": "code",
   "execution_count": 20,
   "id": "87c02950",
   "metadata": {
    "execution": {
     "iopub.execute_input": "2025-01-27T20:53:21.292192Z",
     "iopub.status.busy": "2025-01-27T20:53:21.291700Z",
     "iopub.status.idle": "2025-01-27T20:53:21.317598Z",
     "shell.execute_reply": "2025-01-27T20:53:21.316372Z"
    },
    "papermill": {
     "duration": 0.049138,
     "end_time": "2025-01-27T20:53:21.319518",
     "exception": false,
     "start_time": "2025-01-27T20:53:21.270380",
     "status": "completed"
    },
    "tags": []
   },
   "outputs": [
    {
     "data": {
      "text/html": [
       "<div>\n",
       "<style scoped>\n",
       "    .dataframe tbody tr th:only-of-type {\n",
       "        vertical-align: middle;\n",
       "    }\n",
       "\n",
       "    .dataframe tbody tr th {\n",
       "        vertical-align: top;\n",
       "    }\n",
       "\n",
       "    .dataframe thead th {\n",
       "        text-align: right;\n",
       "    }\n",
       "</style>\n",
       "<table border=\"1\" class=\"dataframe\">\n",
       "  <thead>\n",
       "    <tr style=\"text-align: right;\">\n",
       "      <th></th>\n",
       "      <th>co</th>\n",
       "      <th>no2</th>\n",
       "      <th>o3</th>\n",
       "      <th>pm10</th>\n",
       "      <th>pm25</th>\n",
       "      <th>so2</th>\n",
       "      <th>humidity</th>\n",
       "      <th>pressure</th>\n",
       "      <th>temperature</th>\n",
       "      <th>wind-speed</th>\n",
       "      <th>Country_City</th>\n",
       "      <th>Checks</th>\n",
       "      <th>AQI</th>\n",
       "      <th>AQI_smoothed_iqr</th>\n",
       "      <th>AQI_smoothed_zscore</th>\n",
       "      <th>AQI_smoothed_rolling</th>\n",
       "    </tr>\n",
       "  </thead>\n",
       "  <tbody>\n",
       "    <tr>\n",
       "      <th>2014-12-29</th>\n",
       "      <td>14.1</td>\n",
       "      <td>36.2</td>\n",
       "      <td>3.2</td>\n",
       "      <td>218.0</td>\n",
       "      <td>307.0</td>\n",
       "      <td>4.2</td>\n",
       "      <td>60.691097</td>\n",
       "      <td>985.187382</td>\n",
       "      <td>26.3352</td>\n",
       "      <td>1.102459</td>\n",
       "      <td>India_Delhi</td>\n",
       "      <td>6</td>\n",
       "      <td>307.0</td>\n",
       "      <td>307.0</td>\n",
       "      <td>307.0</td>\n",
       "      <td>307.0</td>\n",
       "    </tr>\n",
       "    <tr>\n",
       "      <th>2014-12-30</th>\n",
       "      <td>20.4</td>\n",
       "      <td>36.8</td>\n",
       "      <td>4.8</td>\n",
       "      <td>330.0</td>\n",
       "      <td>367.0</td>\n",
       "      <td>5.8</td>\n",
       "      <td>60.691097</td>\n",
       "      <td>985.187382</td>\n",
       "      <td>26.3352</td>\n",
       "      <td>1.102459</td>\n",
       "      <td>India_Delhi</td>\n",
       "      <td>6</td>\n",
       "      <td>367.0</td>\n",
       "      <td>367.0</td>\n",
       "      <td>367.0</td>\n",
       "      <td>367.0</td>\n",
       "    </tr>\n",
       "    <tr>\n",
       "      <th>2014-12-31</th>\n",
       "      <td>12.7</td>\n",
       "      <td>28.7</td>\n",
       "      <td>7.8</td>\n",
       "      <td>137.0</td>\n",
       "      <td>202.0</td>\n",
       "      <td>6.3</td>\n",
       "      <td>60.691097</td>\n",
       "      <td>985.187382</td>\n",
       "      <td>26.3352</td>\n",
       "      <td>1.102459</td>\n",
       "      <td>India_Delhi</td>\n",
       "      <td>6</td>\n",
       "      <td>202.0</td>\n",
       "      <td>202.0</td>\n",
       "      <td>202.0</td>\n",
       "      <td>202.0</td>\n",
       "    </tr>\n",
       "    <tr>\n",
       "      <th>2015-01-01</th>\n",
       "      <td>20.8</td>\n",
       "      <td>66.5</td>\n",
       "      <td>5.2</td>\n",
       "      <td>230.0</td>\n",
       "      <td>382.0</td>\n",
       "      <td>9.9</td>\n",
       "      <td>60.691097</td>\n",
       "      <td>985.187382</td>\n",
       "      <td>26.3352</td>\n",
       "      <td>1.102459</td>\n",
       "      <td>India_Delhi</td>\n",
       "      <td>6</td>\n",
       "      <td>382.0</td>\n",
       "      <td>382.0</td>\n",
       "      <td>158.0</td>\n",
       "      <td>382.0</td>\n",
       "    </tr>\n",
       "    <tr>\n",
       "      <th>2015-01-02</th>\n",
       "      <td>12.7</td>\n",
       "      <td>33.9</td>\n",
       "      <td>6.0</td>\n",
       "      <td>81.0</td>\n",
       "      <td>172.0</td>\n",
       "      <td>4.2</td>\n",
       "      <td>60.691097</td>\n",
       "      <td>985.187382</td>\n",
       "      <td>26.3352</td>\n",
       "      <td>1.102459</td>\n",
       "      <td>India_Delhi</td>\n",
       "      <td>6</td>\n",
       "      <td>172.0</td>\n",
       "      <td>172.0</td>\n",
       "      <td>172.0</td>\n",
       "      <td>172.0</td>\n",
       "    </tr>\n",
       "  </tbody>\n",
       "</table>\n",
       "</div>"
      ],
      "text/plain": [
       "              co   no2   o3   pm10   pm25  so2   humidity    pressure  \\\n",
       "2014-12-29  14.1  36.2  3.2  218.0  307.0  4.2  60.691097  985.187382   \n",
       "2014-12-30  20.4  36.8  4.8  330.0  367.0  5.8  60.691097  985.187382   \n",
       "2014-12-31  12.7  28.7  7.8  137.0  202.0  6.3  60.691097  985.187382   \n",
       "2015-01-01  20.8  66.5  5.2  230.0  382.0  9.9  60.691097  985.187382   \n",
       "2015-01-02  12.7  33.9  6.0   81.0  172.0  4.2  60.691097  985.187382   \n",
       "\n",
       "            temperature  wind-speed Country_City  Checks    AQI  \\\n",
       "2014-12-29      26.3352    1.102459  India_Delhi       6  307.0   \n",
       "2014-12-30      26.3352    1.102459  India_Delhi       6  367.0   \n",
       "2014-12-31      26.3352    1.102459  India_Delhi       6  202.0   \n",
       "2015-01-01      26.3352    1.102459  India_Delhi       6  382.0   \n",
       "2015-01-02      26.3352    1.102459  India_Delhi       6  172.0   \n",
       "\n",
       "            AQI_smoothed_iqr  AQI_smoothed_zscore  AQI_smoothed_rolling  \n",
       "2014-12-29             307.0                307.0                 307.0  \n",
       "2014-12-30             367.0                367.0                 367.0  \n",
       "2014-12-31             202.0                202.0                 202.0  \n",
       "2015-01-01             382.0                158.0                 382.0  \n",
       "2015-01-02             172.0                172.0                 172.0  "
      ]
     },
     "execution_count": 20,
     "metadata": {},
     "output_type": "execute_result"
    }
   ],
   "source": [
    "new_data4.head()"
   ]
  },
  {
   "cell_type": "markdown",
   "id": "3a0e996e",
   "metadata": {
    "papermill": {
     "duration": 0.015535,
     "end_time": "2025-01-27T20:53:21.351175",
     "exception": false,
     "start_time": "2025-01-27T20:53:21.335640",
     "status": "completed"
    },
    "tags": []
   },
   "source": [
    "(Preprocess Pollution --> Smooth Pollution --> Calculate smooth aqi)"
   ]
  },
  {
   "cell_type": "code",
   "execution_count": 21,
   "id": "4afdab0a",
   "metadata": {
    "execution": {
     "iopub.execute_input": "2025-01-27T20:53:21.384064Z",
     "iopub.status.busy": "2025-01-27T20:53:21.383628Z",
     "iopub.status.idle": "2025-01-27T20:53:21.423466Z",
     "shell.execute_reply": "2025-01-27T20:53:21.422356Z"
    },
    "papermill": {
     "duration": 0.05882,
     "end_time": "2025-01-27T20:53:21.425269",
     "exception": false,
     "start_time": "2025-01-27T20:53:21.366449",
     "status": "completed"
    },
    "tags": []
   },
   "outputs": [
    {
     "data": {
      "text/html": [
       "<div>\n",
       "<style scoped>\n",
       "    .dataframe tbody tr th:only-of-type {\n",
       "        vertical-align: middle;\n",
       "    }\n",
       "\n",
       "    .dataframe tbody tr th {\n",
       "        vertical-align: top;\n",
       "    }\n",
       "\n",
       "    .dataframe thead th {\n",
       "        text-align: right;\n",
       "    }\n",
       "</style>\n",
       "<table border=\"1\" class=\"dataframe\">\n",
       "  <thead>\n",
       "    <tr style=\"text-align: right;\">\n",
       "      <th></th>\n",
       "      <th>co</th>\n",
       "      <th>no2</th>\n",
       "      <th>o3</th>\n",
       "      <th>pm10</th>\n",
       "      <th>pm25</th>\n",
       "      <th>so2</th>\n",
       "      <th>humidity</th>\n",
       "      <th>pressure</th>\n",
       "      <th>temperature</th>\n",
       "      <th>wind-speed</th>\n",
       "      <th>Country_City</th>\n",
       "      <th>AQI_Smooth</th>\n",
       "    </tr>\n",
       "  </thead>\n",
       "  <tbody>\n",
       "    <tr>\n",
       "      <th>2014-12-29</th>\n",
       "      <td>11.50</td>\n",
       "      <td>29.400000</td>\n",
       "      <td>5.366667</td>\n",
       "      <td>182.333333</td>\n",
       "      <td>195.666667</td>\n",
       "      <td>6.000000</td>\n",
       "      <td>60.691097</td>\n",
       "      <td>985.187382</td>\n",
       "      <td>26.3352</td>\n",
       "      <td>1.102459</td>\n",
       "      <td>India_Delhi</td>\n",
       "      <td>195.666667</td>\n",
       "    </tr>\n",
       "    <tr>\n",
       "      <th>2014-12-30</th>\n",
       "      <td>11.50</td>\n",
       "      <td>29.400000</td>\n",
       "      <td>5.366667</td>\n",
       "      <td>182.333333</td>\n",
       "      <td>195.666667</td>\n",
       "      <td>6.000000</td>\n",
       "      <td>60.691097</td>\n",
       "      <td>985.187382</td>\n",
       "      <td>26.3352</td>\n",
       "      <td>1.102459</td>\n",
       "      <td>India_Delhi</td>\n",
       "      <td>195.666667</td>\n",
       "    </tr>\n",
       "    <tr>\n",
       "      <th>2014-12-31</th>\n",
       "      <td>11.50</td>\n",
       "      <td>29.400000</td>\n",
       "      <td>5.366667</td>\n",
       "      <td>182.333333</td>\n",
       "      <td>195.666667</td>\n",
       "      <td>6.000000</td>\n",
       "      <td>60.691097</td>\n",
       "      <td>985.187382</td>\n",
       "      <td>26.3352</td>\n",
       "      <td>1.102459</td>\n",
       "      <td>India_Delhi</td>\n",
       "      <td>195.666667</td>\n",
       "    </tr>\n",
       "    <tr>\n",
       "      <th>2015-01-01</th>\n",
       "      <td>11.50</td>\n",
       "      <td>29.400000</td>\n",
       "      <td>5.366667</td>\n",
       "      <td>182.333333</td>\n",
       "      <td>195.666667</td>\n",
       "      <td>6.000000</td>\n",
       "      <td>60.691097</td>\n",
       "      <td>985.187382</td>\n",
       "      <td>26.3352</td>\n",
       "      <td>1.102459</td>\n",
       "      <td>India_Delhi</td>\n",
       "      <td>195.666667</td>\n",
       "    </tr>\n",
       "    <tr>\n",
       "      <th>2015-01-02</th>\n",
       "      <td>11.25</td>\n",
       "      <td>26.616667</td>\n",
       "      <td>5.816667</td>\n",
       "      <td>166.000000</td>\n",
       "      <td>177.000000</td>\n",
       "      <td>5.733333</td>\n",
       "      <td>60.691097</td>\n",
       "      <td>985.187382</td>\n",
       "      <td>26.3352</td>\n",
       "      <td>1.102459</td>\n",
       "      <td>India_Delhi</td>\n",
       "      <td>177.000000</td>\n",
       "    </tr>\n",
       "  </tbody>\n",
       "</table>\n",
       "</div>"
      ],
      "text/plain": [
       "               co        no2        o3        pm10        pm25       so2  \\\n",
       "2014-12-29  11.50  29.400000  5.366667  182.333333  195.666667  6.000000   \n",
       "2014-12-30  11.50  29.400000  5.366667  182.333333  195.666667  6.000000   \n",
       "2014-12-31  11.50  29.400000  5.366667  182.333333  195.666667  6.000000   \n",
       "2015-01-01  11.50  29.400000  5.366667  182.333333  195.666667  6.000000   \n",
       "2015-01-02  11.25  26.616667  5.816667  166.000000  177.000000  5.733333   \n",
       "\n",
       "             humidity    pressure  temperature  wind-speed Country_City  \\\n",
       "2014-12-29  60.691097  985.187382      26.3352    1.102459  India_Delhi   \n",
       "2014-12-30  60.691097  985.187382      26.3352    1.102459  India_Delhi   \n",
       "2014-12-31  60.691097  985.187382      26.3352    1.102459  India_Delhi   \n",
       "2015-01-01  60.691097  985.187382      26.3352    1.102459  India_Delhi   \n",
       "2015-01-02  60.691097  985.187382      26.3352    1.102459  India_Delhi   \n",
       "\n",
       "            AQI_Smooth  \n",
       "2014-12-29  195.666667  \n",
       "2014-12-30  195.666667  \n",
       "2014-12-31  195.666667  \n",
       "2015-01-01  195.666667  \n",
       "2015-01-02  177.000000  "
      ]
     },
     "execution_count": 21,
     "metadata": {},
     "output_type": "execute_result"
    }
   ],
   "source": [
    "new_smooth = fn.calculate_smooth_aqi(new_data3, columns=['co', 'no2', 'o3', 'pm10', 'pm25', 'so2'])\n",
    "new_smooth.head()"
   ]
  },
  {
   "cell_type": "markdown",
   "id": "f72df2ac",
   "metadata": {
    "papermill": {
     "duration": 0.016356,
     "end_time": "2025-01-27T20:53:21.458960",
     "exception": false,
     "start_time": "2025-01-27T20:53:21.442604",
     "status": "completed"
    },
    "tags": []
   },
   "source": [
    "**AQI (normal, smooth_iqr, smooth_zscore, smooth_rolling, smooth)**"
   ]
  },
  {
   "cell_type": "code",
   "execution_count": 22,
   "id": "06912e92",
   "metadata": {
    "execution": {
     "iopub.execute_input": "2025-01-27T20:53:21.493934Z",
     "iopub.status.busy": "2025-01-27T20:53:21.493495Z",
     "iopub.status.idle": "2025-01-27T20:53:22.171529Z",
     "shell.execute_reply": "2025-01-27T20:53:22.170403Z"
    },
    "papermill": {
     "duration": 0.698065,
     "end_time": "2025-01-27T20:53:22.173443",
     "exception": false,
     "start_time": "2025-01-27T20:53:21.475378",
     "status": "completed"
    },
    "tags": []
   },
   "outputs": [
    {
     "data": {
      "text/plain": [
       "<Axes: >"
      ]
     },
     "execution_count": 22,
     "metadata": {},
     "output_type": "execute_result"
    },
    {
     "data": {
      "image/png": "[encoded data removed]",
      "text/plain": [
       "<Figure size 640x480 with 1 Axes>"
      ]
     },
     "metadata": {},
     "output_type": "display_data"
    }
   ],
   "source": [
    "#normal\n",
    "aqi_normal = new_data4['AQI']\n",
    "aqi_normal.plot()"
   ]
  },
  {
   "cell_type": "code",
   "execution_count": 23,
   "id": "a06f9b0c",
   "metadata": {
    "execution": {
     "iopub.execute_input": "2025-01-27T20:53:22.212048Z",
     "iopub.status.busy": "2025-01-27T20:53:22.211598Z",
     "iopub.status.idle": "2025-01-27T20:53:22.844554Z",
     "shell.execute_reply": "2025-01-27T20:53:22.843251Z"
    },
    "papermill": {
     "duration": 0.65562,
     "end_time": "2025-01-27T20:53:22.846756",
     "exception": false,
     "start_time": "2025-01-27T20:53:22.191136",
     "status": "completed"
    },
    "tags": []
   },
   "outputs": [
    {
     "data": {
      "text/plain": [
       "<Axes: >"
      ]
     },
     "execution_count": 23,
     "metadata": {},
     "output_type": "execute_result"
    },
    {
     "data": {
      "image/png": "[encoded data removed]",
      "text/plain": [
       "<Figure size 640x480 with 1 Axes>"
      ]
     },
     "metadata": {},
     "output_type": "display_data"
    }
   ],
   "source": [
    "#smooth_iqr\n",
    "aqi_smooth_iqr = new_data4['AQI_smoothed_iqr']\n",
    "aqi_smooth_iqr.plot()"
   ]
  },
  {
   "cell_type": "code",
   "execution_count": 24,
   "id": "a495bfb0",
   "metadata": {
    "execution": {
     "iopub.execute_input": "2025-01-27T20:53:22.884654Z",
     "iopub.status.busy": "2025-01-27T20:53:22.884321Z",
     "iopub.status.idle": "2025-01-27T20:53:23.421662Z",
     "shell.execute_reply": "2025-01-27T20:53:23.420303Z"
    },
    "papermill": {
     "duration": 0.558675,
     "end_time": "2025-01-27T20:53:23.424180",
     "exception": false,
     "start_time": "2025-01-27T20:53:22.865505",
     "status": "completed"
    },
    "tags": []
   },
   "outputs": [
    {
     "data": {
      "text/plain": [
       "<Axes: >"
      ]
     },
     "execution_count": 24,
     "metadata": {},
     "output_type": "execute_result"
    },
    {
     "data": {
      "image/png": "[encoded data removed]",
      "text/plain": [
       "<Figure size 640x480 with 1 Axes>"
      ]
     },
     "metadata": {},
     "output_type": "display_data"
    }
   ],
   "source": [
    "#smooth_zscore\n",
    "aqi_smooth_zscore = new_data4['AQI_smoothed_zscore']\n",
    "aqi_smooth_zscore.plot()"
   ]
  },
  {
   "cell_type": "code",
   "execution_count": 25,
   "id": "a456fb73",
   "metadata": {
    "execution": {
     "iopub.execute_input": "2025-01-27T20:53:23.522292Z",
     "iopub.status.busy": "2025-01-27T20:53:23.521937Z",
     "iopub.status.idle": "2025-01-27T20:53:24.020270Z",
     "shell.execute_reply": "2025-01-27T20:53:24.018986Z"
    },
    "papermill": {
     "duration": 0.578671,
     "end_time": "2025-01-27T20:53:24.022042",
     "exception": false,
     "start_time": "2025-01-27T20:53:23.443371",
     "status": "completed"
    },
    "tags": []
   },
   "outputs": [
    {
     "data": {
      "text/plain": [
       "<Axes: >"
      ]
     },
     "execution_count": 25,
     "metadata": {},
     "output_type": "execute_result"
    },
    {
     "data": {
      "image/png": "[encoded data removed]",
      "text/plain": [
       "<Figure size 640x480 with 1 Axes>"
      ]
     },
     "metadata": {},
     "output_type": "display_data"
    }
   ],
   "source": [
    "#smooth_rolling\n",
    "aqi_smooth_rolling = new_data4['AQI_smoothed_rolling']\n",
    "aqi_smooth_rolling.plot()"
   ]
  },
  {
   "cell_type": "code",
   "execution_count": 26,
   "id": "f6332acb",
   "metadata": {
    "execution": {
     "iopub.execute_input": "2025-01-27T20:53:24.062221Z",
     "iopub.status.busy": "2025-01-27T20:53:24.061806Z",
     "iopub.status.idle": "2025-01-27T20:53:24.563162Z",
     "shell.execute_reply": "2025-01-27T20:53:24.561707Z"
    },
    "papermill": {
     "duration": 0.524064,
     "end_time": "2025-01-27T20:53:24.565451",
     "exception": false,
     "start_time": "2025-01-27T20:53:24.041387",
     "status": "completed"
    },
    "tags": []
   },
   "outputs": [
    {
     "data": {
      "text/plain": [
       "<Axes: >"
      ]
     },
     "execution_count": 26,
     "metadata": {},
     "output_type": "execute_result"
    },
    {
     "data": {
      "image/png": "[encoded data removed]",
      "text/plain": [
       "<Figure size 640x480 with 1 Axes>"
      ]
     },
     "metadata": {},
     "output_type": "display_data"
    }
   ],
   "source": [
    "#smooth\n",
    "aqi_smooth = new_smooth['AQI_Smooth']\n",
    "aqi_smooth.plot()"
   ]
  },
  {
   "cell_type": "code",
   "execution_count": null,
   "id": "e3e2a845",
   "metadata": {
    "papermill": {
     "duration": 0.019736,
     "end_time": "2025-01-27T20:53:24.605956",
     "exception": false,
     "start_time": "2025-01-27T20:53:24.586220",
     "status": "completed"
    },
    "tags": []
   },
   "outputs": [],
   "source": []
  },
  {
   "cell_type": "markdown",
   "id": "ac4e6289",
   "metadata": {
    "papermill": {
     "duration": 0.019849,
     "end_time": "2025-01-27T20:53:24.645827",
     "exception": false,
     "start_time": "2025-01-27T20:53:24.625978",
     "status": "completed"
    },
    "tags": []
   },
   "source": [
    "# **2. Split and Preprocess**"
   ]
  },
  {
   "cell_type": "markdown",
   "id": "c2a2bd70",
   "metadata": {
    "papermill": {
     "duration": 0.019526,
     "end_time": "2025-01-27T20:53:24.685369",
     "exception": false,
     "start_time": "2025-01-27T20:53:24.665843",
     "status": "completed"
    },
    "tags": []
   },
   "source": [
    "## **2.1. Splitting & Preprocessing the Raw Data(Normal AQI)**"
   ]
  },
  {
   "cell_type": "markdown",
   "id": "0a32fc86",
   "metadata": {
    "papermill": {
     "duration": 0.020165,
     "end_time": "2025-01-27T20:53:24.725899",
     "exception": false,
     "start_time": "2025-01-27T20:53:24.705734",
     "status": "completed"
    },
    "tags": []
   },
   "source": [
    "Normal AQI"
   ]
  },
  {
   "cell_type": "code",
   "execution_count": 27,
   "id": "7bc18319",
   "metadata": {
    "execution": {
     "iopub.execute_input": "2025-01-27T20:53:24.767938Z",
     "iopub.status.busy": "2025-01-27T20:53:24.767528Z",
     "iopub.status.idle": "2025-01-27T20:53:24.791270Z",
     "shell.execute_reply": "2025-01-27T20:53:24.789864Z"
    },
    "papermill": {
     "duration": 0.047516,
     "end_time": "2025-01-27T20:53:24.793312",
     "exception": false,
     "start_time": "2025-01-27T20:53:24.745796",
     "status": "completed"
    },
    "tags": []
   },
   "outputs": [
    {
     "data": {
      "text/html": [
       "<div>\n",
       "<style scoped>\n",
       "    .dataframe tbody tr th:only-of-type {\n",
       "        vertical-align: middle;\n",
       "    }\n",
       "\n",
       "    .dataframe tbody tr th {\n",
       "        vertical-align: top;\n",
       "    }\n",
       "\n",
       "    .dataframe thead th {\n",
       "        text-align: right;\n",
       "    }\n",
       "</style>\n",
       "<table border=\"1\" class=\"dataframe\">\n",
       "  <thead>\n",
       "    <tr style=\"text-align: right;\">\n",
       "      <th></th>\n",
       "      <th>co</th>\n",
       "      <th>no2</th>\n",
       "      <th>o3</th>\n",
       "      <th>pm10</th>\n",
       "      <th>pm25</th>\n",
       "      <th>so2</th>\n",
       "      <th>humidity</th>\n",
       "      <th>pressure</th>\n",
       "      <th>temperature</th>\n",
       "      <th>wind-speed</th>\n",
       "      <th>Country_City</th>\n",
       "      <th>Checks</th>\n",
       "      <th>AQI</th>\n",
       "      <th>AQI_smoothed_iqr</th>\n",
       "      <th>AQI_smoothed_zscore</th>\n",
       "      <th>AQI_smoothed_rolling</th>\n",
       "    </tr>\n",
       "  </thead>\n",
       "  <tbody>\n",
       "    <tr>\n",
       "      <th>2014-12-29</th>\n",
       "      <td>14.1</td>\n",
       "      <td>36.2</td>\n",
       "      <td>3.2</td>\n",
       "      <td>218.0</td>\n",
       "      <td>307.0</td>\n",
       "      <td>4.2</td>\n",
       "      <td>60.691097</td>\n",
       "      <td>985.187382</td>\n",
       "      <td>26.3352</td>\n",
       "      <td>1.102459</td>\n",
       "      <td>India_Delhi</td>\n",
       "      <td>6</td>\n",
       "      <td>307.0</td>\n",
       "      <td>307.0</td>\n",
       "      <td>307.0</td>\n",
       "      <td>307.0</td>\n",
       "    </tr>\n",
       "    <tr>\n",
       "      <th>2014-12-30</th>\n",
       "      <td>20.4</td>\n",
       "      <td>36.8</td>\n",
       "      <td>4.8</td>\n",
       "      <td>330.0</td>\n",
       "      <td>367.0</td>\n",
       "      <td>5.8</td>\n",
       "      <td>60.691097</td>\n",
       "      <td>985.187382</td>\n",
       "      <td>26.3352</td>\n",
       "      <td>1.102459</td>\n",
       "      <td>India_Delhi</td>\n",
       "      <td>6</td>\n",
       "      <td>367.0</td>\n",
       "      <td>367.0</td>\n",
       "      <td>367.0</td>\n",
       "      <td>367.0</td>\n",
       "    </tr>\n",
       "    <tr>\n",
       "      <th>2014-12-31</th>\n",
       "      <td>12.7</td>\n",
       "      <td>28.7</td>\n",
       "      <td>7.8</td>\n",
       "      <td>137.0</td>\n",
       "      <td>202.0</td>\n",
       "      <td>6.3</td>\n",
       "      <td>60.691097</td>\n",
       "      <td>985.187382</td>\n",
       "      <td>26.3352</td>\n",
       "      <td>1.102459</td>\n",
       "      <td>India_Delhi</td>\n",
       "      <td>6</td>\n",
       "      <td>202.0</td>\n",
       "      <td>202.0</td>\n",
       "      <td>202.0</td>\n",
       "      <td>202.0</td>\n",
       "    </tr>\n",
       "    <tr>\n",
       "      <th>2015-01-01</th>\n",
       "      <td>20.8</td>\n",
       "      <td>66.5</td>\n",
       "      <td>5.2</td>\n",
       "      <td>230.0</td>\n",
       "      <td>382.0</td>\n",
       "      <td>9.9</td>\n",
       "      <td>60.691097</td>\n",
       "      <td>985.187382</td>\n",
       "      <td>26.3352</td>\n",
       "      <td>1.102459</td>\n",
       "      <td>India_Delhi</td>\n",
       "      <td>6</td>\n",
       "      <td>382.0</td>\n",
       "      <td>382.0</td>\n",
       "      <td>158.0</td>\n",
       "      <td>382.0</td>\n",
       "    </tr>\n",
       "    <tr>\n",
       "      <th>2015-01-02</th>\n",
       "      <td>12.7</td>\n",
       "      <td>33.9</td>\n",
       "      <td>6.0</td>\n",
       "      <td>81.0</td>\n",
       "      <td>172.0</td>\n",
       "      <td>4.2</td>\n",
       "      <td>60.691097</td>\n",
       "      <td>985.187382</td>\n",
       "      <td>26.3352</td>\n",
       "      <td>1.102459</td>\n",
       "      <td>India_Delhi</td>\n",
       "      <td>6</td>\n",
       "      <td>172.0</td>\n",
       "      <td>172.0</td>\n",
       "      <td>172.0</td>\n",
       "      <td>172.0</td>\n",
       "    </tr>\n",
       "    <tr>\n",
       "      <th>2015-01-03</th>\n",
       "      <td>14.3</td>\n",
       "      <td>27.8</td>\n",
       "      <td>5.2</td>\n",
       "      <td>98.0</td>\n",
       "      <td>179.0</td>\n",
       "      <td>5.6</td>\n",
       "      <td>60.691097</td>\n",
       "      <td>985.187382</td>\n",
       "      <td>26.3352</td>\n",
       "      <td>1.102459</td>\n",
       "      <td>India_Delhi</td>\n",
       "      <td>6</td>\n",
       "      <td>179.0</td>\n",
       "      <td>179.0</td>\n",
       "      <td>179.0</td>\n",
       "      <td>179.0</td>\n",
       "    </tr>\n",
       "    <tr>\n",
       "      <th>2015-01-04</th>\n",
       "      <td>12.6</td>\n",
       "      <td>19.5</td>\n",
       "      <td>5.9</td>\n",
       "      <td>120.0</td>\n",
       "      <td>195.0</td>\n",
       "      <td>2.6</td>\n",
       "      <td>60.691097</td>\n",
       "      <td>985.187382</td>\n",
       "      <td>26.3352</td>\n",
       "      <td>1.102459</td>\n",
       "      <td>India_Delhi</td>\n",
       "      <td>6</td>\n",
       "      <td>195.0</td>\n",
       "      <td>195.0</td>\n",
       "      <td>195.0</td>\n",
       "      <td>195.0</td>\n",
       "    </tr>\n",
       "    <tr>\n",
       "      <th>2015-01-05</th>\n",
       "      <td>13.1</td>\n",
       "      <td>19.1</td>\n",
       "      <td>8.4</td>\n",
       "      <td>114.0</td>\n",
       "      <td>185.0</td>\n",
       "      <td>2.5</td>\n",
       "      <td>60.691097</td>\n",
       "      <td>985.187382</td>\n",
       "      <td>26.3352</td>\n",
       "      <td>1.102459</td>\n",
       "      <td>India_Delhi</td>\n",
       "      <td>6</td>\n",
       "      <td>185.0</td>\n",
       "      <td>185.0</td>\n",
       "      <td>185.0</td>\n",
       "      <td>185.0</td>\n",
       "    </tr>\n",
       "  </tbody>\n",
       "</table>\n",
       "</div>"
      ],
      "text/plain": [
       "              co   no2   o3   pm10   pm25  so2   humidity    pressure  \\\n",
       "2014-12-29  14.1  36.2  3.2  218.0  307.0  4.2  60.691097  985.187382   \n",
       "2014-12-30  20.4  36.8  4.8  330.0  367.0  5.8  60.691097  985.187382   \n",
       "2014-12-31  12.7  28.7  7.8  137.0  202.0  6.3  60.691097  985.187382   \n",
       "2015-01-01  20.8  66.5  5.2  230.0  382.0  9.9  60.691097  985.187382   \n",
       "2015-01-02  12.7  33.9  6.0   81.0  172.0  4.2  60.691097  985.187382   \n",
       "2015-01-03  14.3  27.8  5.2   98.0  179.0  5.6  60.691097  985.187382   \n",
       "2015-01-04  12.6  19.5  5.9  120.0  195.0  2.6  60.691097  985.187382   \n",
       "2015-01-05  13.1  19.1  8.4  114.0  185.0  2.5  60.691097  985.187382   \n",
       "\n",
       "            temperature  wind-speed Country_City  Checks    AQI  \\\n",
       "2014-12-29      26.3352    1.102459  India_Delhi       6  307.0   \n",
       "2014-12-30      26.3352    1.102459  India_Delhi       6  367.0   \n",
       "2014-12-31      26.3352    1.102459  India_Delhi       6  202.0   \n",
       "2015-01-01      26.3352    1.102459  India_Delhi       6  382.0   \n",
       "2015-01-02      26.3352    1.102459  India_Delhi       6  172.0   \n",
       "2015-01-03      26.3352    1.102459  India_Delhi       6  179.0   \n",
       "2015-01-04      26.3352    1.102459  India_Delhi       6  195.0   \n",
       "2015-01-05      26.3352    1.102459  India_Delhi       6  185.0   \n",
       "\n",
       "            AQI_smoothed_iqr  AQI_smoothed_zscore  AQI_smoothed_rolling  \n",
       "2014-12-29             307.0                307.0                 307.0  \n",
       "2014-12-30             367.0                367.0                 367.0  \n",
       "2014-12-31             202.0                202.0                 202.0  \n",
       "2015-01-01             382.0                158.0                 382.0  \n",
       "2015-01-02             172.0                172.0                 172.0  \n",
       "2015-01-03             179.0                179.0                 179.0  \n",
       "2015-01-04             195.0                195.0                 195.0  \n",
       "2015-01-05             185.0                185.0                 185.0  "
      ]
     },
     "execution_count": 27,
     "metadata": {},
     "output_type": "execute_result"
    }
   ],
   "source": [
    "new_data4.head(8)"
   ]
  },
  {
   "cell_type": "code",
   "execution_count": 28,
   "id": "169599c5",
   "metadata": {
    "execution": {
     "iopub.execute_input": "2025-01-27T20:53:24.837499Z",
     "iopub.status.busy": "2025-01-27T20:53:24.837122Z",
     "iopub.status.idle": "2025-01-27T20:53:24.843360Z",
     "shell.execute_reply": "2025-01-27T20:53:24.842191Z"
    },
    "papermill": {
     "duration": 0.030982,
     "end_time": "2025-01-27T20:53:24.845526",
     "exception": false,
     "start_time": "2025-01-27T20:53:24.814544",
     "status": "completed"
    },
    "tags": []
   },
   "outputs": [
    {
     "data": {
      "text/plain": [
       "Index(['co', 'no2', 'o3', 'pm10', 'pm25', 'so2', 'humidity', 'pressure',\n",
       "       'temperature', 'wind-speed', 'Country_City', 'Checks', 'AQI',\n",
       "       'AQI_smoothed_iqr', 'AQI_smoothed_zscore', 'AQI_smoothed_rolling'],\n",
       "      dtype='object')"
      ]
     },
     "execution_count": 28,
     "metadata": {},
     "output_type": "execute_result"
    }
   ],
   "source": [
    "new_data4.columns"
   ]
  },
  {
   "cell_type": "code",
   "execution_count": 29,
   "id": "4c0e53b4",
   "metadata": {
    "execution": {
     "iopub.execute_input": "2025-01-27T20:53:24.888667Z",
     "iopub.status.busy": "2025-01-27T20:53:24.888307Z",
     "iopub.status.idle": "2025-01-27T20:53:24.893884Z",
     "shell.execute_reply": "2025-01-27T20:53:24.892844Z"
    },
    "papermill": {
     "duration": 0.028746,
     "end_time": "2025-01-27T20:53:24.895526",
     "exception": false,
     "start_time": "2025-01-27T20:53:24.866780",
     "status": "completed"
    },
    "tags": []
   },
   "outputs": [],
   "source": [
    "aqi_normal = new_data4.copy()"
   ]
  },
  {
   "cell_type": "code",
   "execution_count": 30,
   "id": "183399e1",
   "metadata": {
    "execution": {
     "iopub.execute_input": "2025-01-27T20:53:24.939214Z",
     "iopub.status.busy": "2025-01-27T20:53:24.938825Z",
     "iopub.status.idle": "2025-01-27T20:53:24.944433Z",
     "shell.execute_reply": "2025-01-27T20:53:24.943306Z"
    },
    "papermill": {
     "duration": 0.029455,
     "end_time": "2025-01-27T20:53:24.946224",
     "exception": false,
     "start_time": "2025-01-27T20:53:24.916769",
     "status": "completed"
    },
    "tags": []
   },
   "outputs": [],
   "source": [
    "aqi_normal = aqi_normal.drop([ 'humidity', 'pressure',\n",
    "       'temperature', 'wind-speed', 'Country_City', 'Checks', \n",
    "        'AQI_smoothed_iqr', 'AQI_smoothed_zscore', 'AQI_smoothed_rolling'], axis = 1)"
   ]
  },
  {
   "cell_type": "code",
   "execution_count": 31,
   "id": "8b8791e2",
   "metadata": {
    "execution": {
     "iopub.execute_input": "2025-01-27T20:53:24.990617Z",
     "iopub.status.busy": "2025-01-27T20:53:24.990184Z",
     "iopub.status.idle": "2025-01-27T20:53:25.004546Z",
     "shell.execute_reply": "2025-01-27T20:53:25.003466Z"
    },
    "papermill": {
     "duration": 0.039481,
     "end_time": "2025-01-27T20:53:25.006489",
     "exception": false,
     "start_time": "2025-01-27T20:53:24.967008",
     "status": "completed"
    },
    "tags": []
   },
   "outputs": [
    {
     "data": {
      "text/html": [
       "<div>\n",
       "<style scoped>\n",
       "    .dataframe tbody tr th:only-of-type {\n",
       "        vertical-align: middle;\n",
       "    }\n",
       "\n",
       "    .dataframe tbody tr th {\n",
       "        vertical-align: top;\n",
       "    }\n",
       "\n",
       "    .dataframe thead th {\n",
       "        text-align: right;\n",
       "    }\n",
       "</style>\n",
       "<table border=\"1\" class=\"dataframe\">\n",
       "  <thead>\n",
       "    <tr style=\"text-align: right;\">\n",
       "      <th></th>\n",
       "      <th>co</th>\n",
       "      <th>no2</th>\n",
       "      <th>o3</th>\n",
       "      <th>pm10</th>\n",
       "      <th>pm25</th>\n",
       "      <th>so2</th>\n",
       "      <th>AQI</th>\n",
       "    </tr>\n",
       "  </thead>\n",
       "  <tbody>\n",
       "    <tr>\n",
       "      <th>2014-12-29</th>\n",
       "      <td>14.1</td>\n",
       "      <td>36.2</td>\n",
       "      <td>3.2</td>\n",
       "      <td>218.0</td>\n",
       "      <td>307.0</td>\n",
       "      <td>4.2</td>\n",
       "      <td>307.0</td>\n",
       "    </tr>\n",
       "    <tr>\n",
       "      <th>2014-12-30</th>\n",
       "      <td>20.4</td>\n",
       "      <td>36.8</td>\n",
       "      <td>4.8</td>\n",
       "      <td>330.0</td>\n",
       "      <td>367.0</td>\n",
       "      <td>5.8</td>\n",
       "      <td>367.0</td>\n",
       "    </tr>\n",
       "    <tr>\n",
       "      <th>2014-12-31</th>\n",
       "      <td>12.7</td>\n",
       "      <td>28.7</td>\n",
       "      <td>7.8</td>\n",
       "      <td>137.0</td>\n",
       "      <td>202.0</td>\n",
       "      <td>6.3</td>\n",
       "      <td>202.0</td>\n",
       "    </tr>\n",
       "    <tr>\n",
       "      <th>2015-01-01</th>\n",
       "      <td>20.8</td>\n",
       "      <td>66.5</td>\n",
       "      <td>5.2</td>\n",
       "      <td>230.0</td>\n",
       "      <td>382.0</td>\n",
       "      <td>9.9</td>\n",
       "      <td>382.0</td>\n",
       "    </tr>\n",
       "    <tr>\n",
       "      <th>2015-01-02</th>\n",
       "      <td>12.7</td>\n",
       "      <td>33.9</td>\n",
       "      <td>6.0</td>\n",
       "      <td>81.0</td>\n",
       "      <td>172.0</td>\n",
       "      <td>4.2</td>\n",
       "      <td>172.0</td>\n",
       "    </tr>\n",
       "  </tbody>\n",
       "</table>\n",
       "</div>"
      ],
      "text/plain": [
       "              co   no2   o3   pm10   pm25  so2    AQI\n",
       "2014-12-29  14.1  36.2  3.2  218.0  307.0  4.2  307.0\n",
       "2014-12-30  20.4  36.8  4.8  330.0  367.0  5.8  367.0\n",
       "2014-12-31  12.7  28.7  7.8  137.0  202.0  6.3  202.0\n",
       "2015-01-01  20.8  66.5  5.2  230.0  382.0  9.9  382.0\n",
       "2015-01-02  12.7  33.9  6.0   81.0  172.0  4.2  172.0"
      ]
     },
     "execution_count": 31,
     "metadata": {},
     "output_type": "execute_result"
    }
   ],
   "source": [
    "aqi_normal.head()"
   ]
  },
  {
   "cell_type": "code",
   "execution_count": 32,
   "id": "f3e0c2a5",
   "metadata": {
    "execution": {
     "iopub.execute_input": "2025-01-27T20:53:25.050207Z",
     "iopub.status.busy": "2025-01-27T20:53:25.049831Z",
     "iopub.status.idle": "2025-01-27T20:53:25.058982Z",
     "shell.execute_reply": "2025-01-27T20:53:25.057695Z"
    },
    "papermill": {
     "duration": 0.03334,
     "end_time": "2025-01-27T20:53:25.060811",
     "exception": false,
     "start_time": "2025-01-27T20:53:25.027471",
     "status": "completed"
    },
    "tags": []
   },
   "outputs": [],
   "source": [
    "def new_data_to_X_y(new_data, window_size, train_pct, val_pct, test_pct):\n",
    "    \n",
    "    new_data_as_np = new_data.to_numpy()\n",
    "    \n",
    "    # Split features and target\n",
    "    features = new_data_as_np[:, :-1]  # All columns except the last one\n",
    "    target = new_data_as_np[:, -1]     # Only the AQI column\n",
    "    \n",
    "    # Split data based on percentages\n",
    "    total_len = len(features)\n",
    "    train_end = int(train_pct * total_len)\n",
    "    val_end = train_end + int(val_pct * total_len)\n",
    "    \n",
    "    # Prepare train, val, and test splits for both features and target\n",
    "    train_features = features[:train_end]\n",
    "    train_target = target[:train_end]\n",
    "    \n",
    "    val_features = features[train_end:val_end]\n",
    "    val_target = target[train_end:val_end]\n",
    "    \n",
    "    test_features = features[val_end:]\n",
    "    test_target = target[val_end:]\n",
    "    \n",
    "    # Helper function to create X and y\n",
    "    def create_X_y(feature_data, target_data):\n",
    "        X, y = [], []\n",
    "        for i in range(len(feature_data) - window_size):\n",
    "            # Create sequence of all features\n",
    "            sequence = feature_data[i:i + window_size]\n",
    "            X.append(sequence)\n",
    "            # Get the target AQI value\n",
    "            y.append(target_data[i + window_size])\n",
    "        return np.array(X), np.array(y)\n",
    "    \n",
    "    \n",
    "    X_train, y_train = create_X_y(train_features, train_target)\n",
    "    X_val, y_val = create_X_y(val_features, val_target)\n",
    "    X_test, y_test = create_X_y(test_features, test_target)\n",
    "    \n",
    "    return (X_train, y_train), (X_val, y_val), (X_test, y_test)"
   ]
  },
  {
   "cell_type": "code",
   "execution_count": 33,
   "id": "b3000e40",
   "metadata": {
    "execution": {
     "iopub.execute_input": "2025-01-27T20:53:25.104341Z",
     "iopub.status.busy": "2025-01-27T20:53:25.103918Z",
     "iopub.status.idle": "2025-01-27T20:53:25.116740Z",
     "shell.execute_reply": "2025-01-27T20:53:25.115341Z"
    },
    "papermill": {
     "duration": 0.036928,
     "end_time": "2025-01-27T20:53:25.118749",
     "exception": false,
     "start_time": "2025-01-27T20:53:25.081821",
     "status": "completed"
    },
    "tags": []
   },
   "outputs": [
    {
     "name": "stdout",
     "output_type": "stream",
     "text": [
      "Train shapes: (2393, 6, 6) (2393,)\n",
      "Validation shapes: (473, 6, 6) (473,)\n",
      "Test shapes: (315, 6, 6) (315,)\n"
     ]
    }
   ],
   "source": [
    "#passing data to function\n",
    "\n",
    "# WINDOW_SIZE = 6\n",
    "# train_pct=0.7\n",
    "# val_pct=0.2\n",
    "# test_pct=0.1\n",
    "(X_train1, y_train1), (X_val1, y_val1), (X_test1, y_test1) = new_data_to_X_y(aqi_normal, 6, 0.75, 0.15, 0.1)\n",
    "\n",
    "# shapes\n",
    "print(\"Train shapes:\", X_train1.shape, y_train1.shape)\n",
    "print(\"Validation shapes:\", X_val1.shape, y_val1.shape)\n",
    "print(\"Test shapes:\", X_test1.shape, y_test1.shape)"
   ]
  },
  {
   "cell_type": "markdown",
   "id": "a29a8e52",
   "metadata": {
    "papermill": {
     "duration": 0.022422,
     "end_time": "2025-01-27T20:53:25.162857",
     "exception": false,
     "start_time": "2025-01-27T20:53:25.140435",
     "status": "completed"
    },
    "tags": []
   },
   "source": [
    "## **2.2. Model Training & Testing**"
   ]
  },
  {
   "cell_type": "code",
   "execution_count": 34,
   "id": "c8e0f5a0",
   "metadata": {
    "execution": {
     "iopub.execute_input": "2025-01-27T20:53:25.208611Z",
     "iopub.status.busy": "2025-01-27T20:53:25.208246Z",
     "iopub.status.idle": "2025-01-27T20:53:42.380530Z",
     "shell.execute_reply": "2025-01-27T20:53:42.379334Z"
    },
    "papermill": {
     "duration": 17.217995,
     "end_time": "2025-01-27T20:53:42.402478",
     "exception": false,
     "start_time": "2025-01-27T20:53:25.184483",
     "status": "completed"
    },
    "tags": []
   },
   "outputs": [],
   "source": [
    "# libraries for building model and testing\n",
    "from tensorflow.keras.models import Sequential\n",
    "from tensorflow.keras.layers import *\n",
    "from tensorflow.keras.callbacks import ModelCheckpoint\n",
    "from tensorflow.keras.callbacks import ReduceLROnPlateau\n",
    "from tensorflow.keras.losses import MeanSquaredError, MeanAbsoluteError\n",
    "from tensorflow.keras.metrics import RootMeanSquaredError\n",
    "from tensorflow.keras.optimizers import Adam\n",
    "from keras.regularizers import l2\n",
    "from keras.callbacks import EarlyStopping"
   ]
  },
  {
   "cell_type": "markdown",
   "id": "f1d1a4b5",
   "metadata": {
    "papermill": {
     "duration": 0.029829,
     "end_time": "2025-01-27T20:53:42.453722",
     "exception": false,
     "start_time": "2025-01-27T20:53:42.423893",
     "status": "completed"
    },
    "tags": []
   },
   "source": [
    "# LSTM(normal)"
   ]
  },
  {
   "cell_type": "code",
   "execution_count": 35,
   "id": "a0c247ec",
   "metadata": {
    "execution": {
     "iopub.execute_input": "2025-01-27T20:53:42.502405Z",
     "iopub.status.busy": "2025-01-27T20:53:42.501701Z",
     "iopub.status.idle": "2025-01-27T20:54:04.659357Z",
     "shell.execute_reply": "2025-01-27T20:54:04.658058Z"
    },
    "papermill": {
     "duration": 22.18422,
     "end_time": "2025-01-27T20:54:04.661305",
     "exception": false,
     "start_time": "2025-01-27T20:53:42.477085",
     "status": "completed"
    },
    "tags": []
   },
   "outputs": [
    {
     "name": "stdout",
     "output_type": "stream",
     "text": [
      "Epoch 1/50\n",
      "\u001b[1m75/75\u001b[0m \u001b[32m━━━━━━━━━━━━━━━━━━━━\u001b[0m\u001b[37m\u001b[0m \u001b[1m3s\u001b[0m 9ms/step - loss: 17669.2520 - root_mean_squared_error: 130.1424 - val_loss: 1614.6122 - val_root_mean_squared_error: 40.1822\n",
      "Epoch 2/50\n",
      "\u001b[1m75/75\u001b[0m \u001b[32m━━━━━━━━━━━━━━━━━━━━\u001b[0m\u001b[37m\u001b[0m \u001b[1m0s\u001b[0m 5ms/step - loss: 2343.6599 - root_mean_squared_error: 47.9422 - val_loss: 1525.8256 - val_root_mean_squared_error: 39.0618\n",
      "Epoch 3/50\n",
      "\u001b[1m75/75\u001b[0m \u001b[32m━━━━━━━━━━━━━━━━━━━━\u001b[0m\u001b[37m\u001b[0m \u001b[1m0s\u001b[0m 5ms/step - loss: 1857.6818 - root_mean_squared_error: 42.9464 - val_loss: 1389.3665 - val_root_mean_squared_error: 37.2742\n",
      "Epoch 4/50\n",
      "\u001b[1m75/75\u001b[0m \u001b[32m━━━━━━━━━━━━━━━━━━━━\u001b[0m\u001b[37m\u001b[0m \u001b[1m0s\u001b[0m 5ms/step - loss: 1577.7240 - root_mean_squared_error: 39.5132 - val_loss: 1246.5576 - val_root_mean_squared_error: 35.3066\n",
      "Epoch 5/50\n",
      "\u001b[1m75/75\u001b[0m \u001b[32m━━━━━━━━━━━━━━━━━━━━\u001b[0m\u001b[37m\u001b[0m \u001b[1m0s\u001b[0m 5ms/step - loss: 1737.3379 - root_mean_squared_error: 41.5949 - val_loss: 1685.6552 - val_root_mean_squared_error: 41.0567\n",
      "Epoch 6/50\n",
      "\u001b[1m75/75\u001b[0m \u001b[32m━━━━━━━━━━━━━━━━━━━━\u001b[0m\u001b[37m\u001b[0m \u001b[1m0s\u001b[0m 5ms/step - loss: 2135.1616 - root_mean_squared_error: 45.9803 - val_loss: 1261.9326 - val_root_mean_squared_error: 35.5237\n",
      "Epoch 7/50\n",
      "\u001b[1m75/75\u001b[0m \u001b[32m━━━━━━━━━━━━━━━━━━━━\u001b[0m\u001b[37m\u001b[0m \u001b[1m0s\u001b[0m 5ms/step - loss: 1751.6276 - root_mean_squared_error: 41.7942 - val_loss: 1175.4763 - val_root_mean_squared_error: 34.2852\n",
      "Epoch 8/50\n",
      "\u001b[1m75/75\u001b[0m \u001b[32m━━━━━━━━━━━━━━━━━━━━\u001b[0m\u001b[37m\u001b[0m \u001b[1m0s\u001b[0m 5ms/step - loss: 1849.3002 - root_mean_squared_error: 42.9159 - val_loss: 1411.6219 - val_root_mean_squared_error: 37.5716\n",
      "Epoch 9/50\n",
      "\u001b[1m75/75\u001b[0m \u001b[32m━━━━━━━━━━━━━━━━━━━━\u001b[0m\u001b[37m\u001b[0m \u001b[1m0s\u001b[0m 5ms/step - loss: 2438.7002 - root_mean_squared_error: 48.0090 - val_loss: 1184.7406 - val_root_mean_squared_error: 34.4201\n",
      "Epoch 10/50\n",
      "\u001b[1m75/75\u001b[0m \u001b[32m━━━━━━━━━━━━━━━━━━━━\u001b[0m\u001b[37m\u001b[0m \u001b[1m0s\u001b[0m 5ms/step - loss: 1926.6571 - root_mean_squared_error: 43.7017 - val_loss: 1222.1655 - val_root_mean_squared_error: 34.9595\n",
      "Epoch 11/50\n",
      "\u001b[1m75/75\u001b[0m \u001b[32m━━━━━━━━━━━━━━━━━━━━\u001b[0m\u001b[37m\u001b[0m \u001b[1m0s\u001b[0m 5ms/step - loss: 1612.1617 - root_mean_squared_error: 40.0488 - val_loss: 1178.3076 - val_root_mean_squared_error: 34.3265\n",
      "Epoch 12/50\n",
      "\u001b[1m75/75\u001b[0m \u001b[32m━━━━━━━━━━━━━━━━━━━━\u001b[0m\u001b[37m\u001b[0m \u001b[1m0s\u001b[0m 4ms/step - loss: 1322.3440 - root_mean_squared_error: 36.1766 - val_loss: 1321.0964 - val_root_mean_squared_error: 36.3469\n",
      "Epoch 13/50\n",
      "\u001b[1m75/75\u001b[0m \u001b[32m━━━━━━━━━━━━━━━━━━━━\u001b[0m\u001b[37m\u001b[0m \u001b[1m0s\u001b[0m 5ms/step - loss: 1453.9567 - root_mean_squared_error: 38.0420 - val_loss: 1128.2964 - val_root_mean_squared_error: 33.5901\n",
      "Epoch 14/50\n",
      "\u001b[1m75/75\u001b[0m \u001b[32m━━━━━━━━━━━━━━━━━━━━\u001b[0m\u001b[37m\u001b[0m \u001b[1m0s\u001b[0m 5ms/step - loss: 1683.2017 - root_mean_squared_error: 40.9764 - val_loss: 1111.4022 - val_root_mean_squared_error: 33.3377\n",
      "Epoch 15/50\n",
      "\u001b[1m75/75\u001b[0m \u001b[32m━━━━━━━━━━━━━━━━━━━━\u001b[0m\u001b[37m\u001b[0m \u001b[1m0s\u001b[0m 5ms/step - loss: 1652.4025 - root_mean_squared_error: 40.5044 - val_loss: 1094.4171 - val_root_mean_squared_error: 33.0820\n",
      "Epoch 16/50\n",
      "\u001b[1m75/75\u001b[0m \u001b[32m━━━━━━━━━━━━━━━━━━━━\u001b[0m\u001b[37m\u001b[0m \u001b[1m0s\u001b[0m 5ms/step - loss: 1869.1671 - root_mean_squared_error: 42.9901 - val_loss: 1112.1754 - val_root_mean_squared_error: 33.3493\n",
      "Epoch 17/50\n",
      "\u001b[1m75/75\u001b[0m \u001b[32m━━━━━━━━━━━━━━━━━━━━\u001b[0m\u001b[37m\u001b[0m \u001b[1m0s\u001b[0m 5ms/step - loss: 1258.4030 - root_mean_squared_error: 35.4059 - val_loss: 1110.3054 - val_root_mean_squared_error: 33.3212\n",
      "Epoch 18/50\n",
      "\u001b[1m75/75\u001b[0m \u001b[32m━━━━━━━━━━━━━━━━━━━━\u001b[0m\u001b[37m\u001b[0m \u001b[1m0s\u001b[0m 5ms/step - loss: 1601.4164 - root_mean_squared_error: 39.7969 - val_loss: 1091.7084 - val_root_mean_squared_error: 33.0410\n",
      "Epoch 19/50\n",
      "\u001b[1m75/75\u001b[0m \u001b[32m━━━━━━━━━━━━━━━━━━━━\u001b[0m\u001b[37m\u001b[0m \u001b[1m0s\u001b[0m 5ms/step - loss: 1695.0756 - root_mean_squared_error: 40.9372 - val_loss: 1236.5365 - val_root_mean_squared_error: 35.1644\n",
      "Epoch 20/50\n",
      "\u001b[1m75/75\u001b[0m \u001b[32m━━━━━━━━━━━━━━━━━━━━\u001b[0m\u001b[37m\u001b[0m \u001b[1m0s\u001b[0m 5ms/step - loss: 1395.8641 - root_mean_squared_error: 37.2866 - val_loss: 1138.4729 - val_root_mean_squared_error: 33.7413\n",
      "Epoch 21/50\n",
      "\u001b[1m75/75\u001b[0m \u001b[32m━━━━━━━━━━━━━━━━━━━━\u001b[0m\u001b[37m\u001b[0m \u001b[1m0s\u001b[0m 5ms/step - loss: 1241.1688 - root_mean_squared_error: 35.0794 - val_loss: 1077.3146 - val_root_mean_squared_error: 32.8225\n",
      "Epoch 22/50\n",
      "\u001b[1m75/75\u001b[0m \u001b[32m━━━━━━━━━━━━━━━━━━━━\u001b[0m\u001b[37m\u001b[0m \u001b[1m0s\u001b[0m 5ms/step - loss: 1356.5402 - root_mean_squared_error: 36.6809 - val_loss: 1096.7982 - val_root_mean_squared_error: 33.1179\n",
      "Epoch 23/50\n",
      "\u001b[1m75/75\u001b[0m \u001b[32m━━━━━━━━━━━━━━━━━━━━\u001b[0m\u001b[37m\u001b[0m \u001b[1m0s\u001b[0m 5ms/step - loss: 1479.6143 - root_mean_squared_error: 38.2743 - val_loss: 1092.0916 - val_root_mean_squared_error: 33.0468\n",
      "Epoch 24/50\n",
      "\u001b[1m75/75\u001b[0m \u001b[32m━━━━━━━━━━━━━━━━━━━━\u001b[0m\u001b[37m\u001b[0m \u001b[1m0s\u001b[0m 5ms/step - loss: 1806.9341 - root_mean_squared_error: 42.2336 - val_loss: 1137.3446 - val_root_mean_squared_error: 33.7245\n",
      "Epoch 25/50\n",
      "\u001b[1m75/75\u001b[0m \u001b[32m━━━━━━━━━━━━━━━━━━━━\u001b[0m\u001b[37m\u001b[0m \u001b[1m0s\u001b[0m 4ms/step - loss: 1260.4814 - root_mean_squared_error: 35.3911 - val_loss: 1078.9097 - val_root_mean_squared_error: 32.8468\n",
      "Epoch 26/50\n",
      "\u001b[1m75/75\u001b[0m \u001b[32m━━━━━━━━━━━━━━━━━━━━\u001b[0m\u001b[37m\u001b[0m \u001b[1m0s\u001b[0m 5ms/step - loss: 1176.6168 - root_mean_squared_error: 34.1856 - val_loss: 1201.3772 - val_root_mean_squared_error: 34.6609\n",
      "Epoch 27/50\n",
      "\u001b[1m75/75\u001b[0m \u001b[32m━━━━━━━━━━━━━━━━━━━━\u001b[0m\u001b[37m\u001b[0m \u001b[1m0s\u001b[0m 5ms/step - loss: 1363.5104 - root_mean_squared_error: 36.8436 - val_loss: 1139.9551 - val_root_mean_squared_error: 33.7632\n",
      "Epoch 28/50\n",
      "\u001b[1m75/75\u001b[0m \u001b[32m━━━━━━━━━━━━━━━━━━━━\u001b[0m\u001b[37m\u001b[0m \u001b[1m0s\u001b[0m 5ms/step - loss: 1544.0046 - root_mean_squared_error: 39.1746 - val_loss: 1098.3429 - val_root_mean_squared_error: 33.1413\n",
      "Epoch 29/50\n",
      "\u001b[1m75/75\u001b[0m \u001b[32m━━━━━━━━━━━━━━━━━━━━\u001b[0m\u001b[37m\u001b[0m \u001b[1m0s\u001b[0m 5ms/step - loss: 1483.7106 - root_mean_squared_error: 38.4559 - val_loss: 1141.4653 - val_root_mean_squared_error: 33.7856\n",
      "Epoch 30/50\n",
      "\u001b[1m75/75\u001b[0m \u001b[32m━━━━━━━━━━━━━━━━━━━━\u001b[0m\u001b[37m\u001b[0m \u001b[1m0s\u001b[0m 5ms/step - loss: 1550.2085 - root_mean_squared_error: 39.1631 - val_loss: 1099.5209 - val_root_mean_squared_error: 33.1590\n",
      "Epoch 31/50\n",
      "\u001b[1m75/75\u001b[0m \u001b[32m━━━━━━━━━━━━━━━━━━━━\u001b[0m\u001b[37m\u001b[0m \u001b[1m0s\u001b[0m 5ms/step - loss: 1409.7687 - root_mean_squared_error: 37.3098 - val_loss: 1113.8578 - val_root_mean_squared_error: 33.3745\n",
      "Epoch 32/50\n",
      "\u001b[1m75/75\u001b[0m \u001b[32m━━━━━━━━━━━━━━━━━━━━\u001b[0m\u001b[37m\u001b[0m \u001b[1m0s\u001b[0m 5ms/step - loss: 1230.5135 - root_mean_squared_error: 34.9943 - val_loss: 1079.3429 - val_root_mean_squared_error: 32.8534\n",
      "Epoch 33/50\n",
      "\u001b[1m75/75\u001b[0m \u001b[32m━━━━━━━━━━━━━━━━━━━━\u001b[0m\u001b[37m\u001b[0m \u001b[1m0s\u001b[0m 5ms/step - loss: 1442.9396 - root_mean_squared_error: 37.8227 - val_loss: 1056.4558 - val_root_mean_squared_error: 32.5032\n",
      "Epoch 34/50\n",
      "\u001b[1m75/75\u001b[0m \u001b[32m━━━━━━━━━━━━━━━━━━━━\u001b[0m\u001b[37m\u001b[0m \u001b[1m0s\u001b[0m 5ms/step - loss: 1692.4354 - root_mean_squared_error: 40.7743 - val_loss: 1044.4368 - val_root_mean_squared_error: 32.3177\n",
      "Epoch 35/50\n",
      "\u001b[1m75/75\u001b[0m \u001b[32m━━━━━━━━━━━━━━━━━━━━\u001b[0m\u001b[37m\u001b[0m \u001b[1m0s\u001b[0m 5ms/step - loss: 1582.0699 - root_mean_squared_error: 39.6121 - val_loss: 1083.3390 - val_root_mean_squared_error: 32.9141\n",
      "Epoch 36/50\n",
      "\u001b[1m75/75\u001b[0m \u001b[32m━━━━━━━━━━━━━━━━━━━━\u001b[0m\u001b[37m\u001b[0m \u001b[1m0s\u001b[0m 4ms/step - loss: 1519.1570 - root_mean_squared_error: 38.7658 - val_loss: 1084.3763 - val_root_mean_squared_error: 32.9299\n",
      "Epoch 37/50\n",
      "\u001b[1m75/75\u001b[0m \u001b[32m━━━━━━━━━━━━━━━━━━━━\u001b[0m\u001b[37m\u001b[0m \u001b[1m0s\u001b[0m 5ms/step - loss: 1349.0098 - root_mean_squared_error: 36.5909 - val_loss: 1146.3929 - val_root_mean_squared_error: 33.8584\n",
      "Epoch 38/50\n",
      "\u001b[1m75/75\u001b[0m \u001b[32m━━━━━━━━━━━━━━━━━━━━\u001b[0m\u001b[37m\u001b[0m \u001b[1m0s\u001b[0m 5ms/step - loss: 1510.5770 - root_mean_squared_error: 38.7332 - val_loss: 1133.8269 - val_root_mean_squared_error: 33.6723\n",
      "Epoch 39/50\n",
      "\u001b[1m75/75\u001b[0m \u001b[32m━━━━━━━━━━━━━━━━━━━━\u001b[0m\u001b[37m\u001b[0m \u001b[1m0s\u001b[0m 5ms/step - loss: 1330.7999 - root_mean_squared_error: 36.2660 - val_loss: 1241.1211 - val_root_mean_squared_error: 35.2295\n",
      "Epoch 40/50\n",
      "\u001b[1m75/75\u001b[0m \u001b[32m━━━━━━━━━━━━━━━━━━━━\u001b[0m\u001b[37m\u001b[0m \u001b[1m0s\u001b[0m 5ms/step - loss: 1572.7389 - root_mean_squared_error: 39.5851 - val_loss: 1122.8208 - val_root_mean_squared_error: 33.5085\n",
      "Epoch 41/50\n",
      "\u001b[1m75/75\u001b[0m \u001b[32m━━━━━━━━━━━━━━━━━━━━\u001b[0m\u001b[37m\u001b[0m \u001b[1m0s\u001b[0m 5ms/step - loss: 1458.2256 - root_mean_squared_error: 38.0421 - val_loss: 1115.1139 - val_root_mean_squared_error: 33.3933\n",
      "Epoch 42/50\n",
      "\u001b[1m75/75\u001b[0m \u001b[32m━━━━━━━━━━━━━━━━━━━━\u001b[0m\u001b[37m\u001b[0m \u001b[1m0s\u001b[0m 5ms/step - loss: 1509.4187 - root_mean_squared_error: 38.6646 - val_loss: 1085.4236 - val_root_mean_squared_error: 32.9458\n",
      "Epoch 43/50\n",
      "\u001b[1m75/75\u001b[0m \u001b[32m━━━━━━━━━━━━━━━━━━━━\u001b[0m\u001b[37m\u001b[0m \u001b[1m0s\u001b[0m 5ms/step - loss: 1557.6234 - root_mean_squared_error: 39.3963 - val_loss: 1058.5168 - val_root_mean_squared_error: 32.5349\n",
      "Epoch 44/50\n",
      "\u001b[1m75/75\u001b[0m \u001b[32m━━━━━━━━━━━━━━━━━━━━\u001b[0m\u001b[37m\u001b[0m \u001b[1m0s\u001b[0m 5ms/step - loss: 1327.8656 - root_mean_squared_error: 36.3754 - val_loss: 1100.1183 - val_root_mean_squared_error: 33.1680\n",
      "Epoch 45/50\n",
      "\u001b[1m75/75\u001b[0m \u001b[32m━━━━━━━━━━━━━━━━━━━━\u001b[0m\u001b[37m\u001b[0m \u001b[1m0s\u001b[0m 5ms/step - loss: 1450.1481 - root_mean_squared_error: 37.7161 - val_loss: 1094.7837 - val_root_mean_squared_error: 33.0875\n",
      "Epoch 46/50\n",
      "\u001b[1m75/75\u001b[0m \u001b[32m━━━━━━━━━━━━━━━━━━━━\u001b[0m\u001b[37m\u001b[0m \u001b[1m0s\u001b[0m 5ms/step - loss: 1336.7891 - root_mean_squared_error: 36.4984 - val_loss: 1092.0593 - val_root_mean_squared_error: 33.0463\n",
      "Epoch 47/50\n",
      "\u001b[1m75/75\u001b[0m \u001b[32m━━━━━━━━━━━━━━━━━━━━\u001b[0m\u001b[37m\u001b[0m \u001b[1m0s\u001b[0m 5ms/step - loss: 1533.4769 - root_mean_squared_error: 39.0393 - val_loss: 1147.4836 - val_root_mean_squared_error: 33.8745\n",
      "Epoch 48/50\n",
      "\u001b[1m75/75\u001b[0m \u001b[32m━━━━━━━━━━━━━━━━━━━━\u001b[0m\u001b[37m\u001b[0m \u001b[1m0s\u001b[0m 5ms/step - loss: 1474.4890 - root_mean_squared_error: 38.1302 - val_loss: 1085.0446 - val_root_mean_squared_error: 32.9400\n",
      "Epoch 49/50\n",
      "\u001b[1m75/75\u001b[0m \u001b[32m━━━━━━━━━━━━━━━━━━━━\u001b[0m\u001b[37m\u001b[0m \u001b[1m0s\u001b[0m 5ms/step - loss: 1536.0084 - root_mean_squared_error: 39.1009 - val_loss: 1157.2834 - val_root_mean_squared_error: 34.0189\n",
      "Epoch 50/50\n",
      "\u001b[1m75/75\u001b[0m \u001b[32m━━━━━━━━━━━━━━━━━━━━\u001b[0m\u001b[37m\u001b[0m \u001b[1m0s\u001b[0m 5ms/step - loss: 1259.2234 - root_mean_squared_error: 35.1930 - val_loss: 1120.3652 - val_root_mean_squared_error: 33.4719\n"
     ]
    },
    {
     "data": {
      "text/plain": [
       "<keras.src.callbacks.history.History at 0x7b019b4e3850>"
      ]
     },
     "execution_count": 35,
     "metadata": {},
     "output_type": "execute_result"
    }
   ],
   "source": [
    "model5 = Sequential()\n",
    "model5.add(InputLayer((6, 6)))  # 6 timestamps, 6 features\n",
    "model5.add(LSTM(32, activation='relu', return_sequences=False))  # Single LSTM layer\n",
    "model5.add(Dense(16, activation='relu')) \n",
    "model5.add(Dense(1, activation='linear'))  \n",
    "\n",
    "cp5 = ModelCheckpoint('/kaggle/working/model5.keras', save_best_only=True)\n",
    "\n",
    "model5.compile(loss=MeanSquaredError(), optimizer=Adam(learning_rate=0.001), \n",
    "               metrics=[RootMeanSquaredError()])\n",
    "\n",
    "model5.fit(X_train1, y_train1, validation_data=(X_val1, y_val1), epochs=50, \n",
    "           callbacks=[cp5])"
   ]
  },
  {
   "cell_type": "code",
   "execution_count": 36,
   "id": "dda7255a",
   "metadata": {
    "execution": {
     "iopub.execute_input": "2025-01-27T20:54:04.756577Z",
     "iopub.status.busy": "2025-01-27T20:54:04.756212Z",
     "iopub.status.idle": "2025-01-27T20:54:04.872918Z",
     "shell.execute_reply": "2025-01-27T20:54:04.871696Z"
    },
    "papermill": {
     "duration": 0.166267,
     "end_time": "2025-01-27T20:54:04.875176",
     "exception": false,
     "start_time": "2025-01-27T20:54:04.708909",
     "status": "completed"
    },
    "tags": []
   },
   "outputs": [],
   "source": [
    "from tensorflow.keras.models import load_model\n",
    "model5 = load_model('/kaggle/working/model5.keras')"
   ]
  },
  {
   "cell_type": "code",
   "execution_count": 37,
   "id": "ae5a2884",
   "metadata": {
    "execution": {
     "iopub.execute_input": "2025-01-27T20:54:04.967992Z",
     "iopub.status.busy": "2025-01-27T20:54:04.967572Z",
     "iopub.status.idle": "2025-01-27T20:54:05.530589Z",
     "shell.execute_reply": "2025-01-27T20:54:05.528822Z"
    },
    "papermill": {
     "duration": 0.612466,
     "end_time": "2025-01-27T20:54:05.532499",
     "exception": false,
     "start_time": "2025-01-27T20:54:04.920033",
     "status": "completed"
    },
    "tags": []
   },
   "outputs": [
    {
     "name": "stdout",
     "output_type": "stream",
     "text": [
      "\u001b[1m75/75\u001b[0m \u001b[32m━━━━━━━━━━━━━━━━━━━━\u001b[0m\u001b[37m\u001b[0m \u001b[1m0s\u001b[0m 4ms/step\n",
      "Evaluation Metrics:\n",
      "Mean Absolute Error (MAE): 19.5823\n",
      "Mean Squared Error (MSE): 1438.7765\n",
      "Root Mean Squared Error (RMSE): 37.9312\n",
      "R-squared (Accuracy): 0.7090\n"
     ]
    }
   ],
   "source": [
    "# Evaluate the model on the train data\n",
    "train_result = model5.predict(X_train1)\n",
    "\n",
    "# Calculate metrics\n",
    "mse = mean_squared_error(y_train1, train_result)\n",
    "rmse = np.sqrt(mse)\n",
    "mae = mean_absolute_error(y_train1, train_result)\n",
    "r2 = r2_score(y_train1, train_result)\n",
    "\n",
    "# Print the results\n",
    "print(\"Evaluation Metrics:\")\n",
    "print(f\"Mean Absolute Error (MAE): {mae:.4f}\")\n",
    "print(f\"Mean Squared Error (MSE): {mse:.4f}\")\n",
    "print(f\"Root Mean Squared Error (RMSE): {rmse:.4f}\")\n",
    "print(f\"R-squared (Accuracy): {r2:.4f}\")"
   ]
  },
  {
   "cell_type": "code",
   "execution_count": 38,
   "id": "403dc023",
   "metadata": {
    "execution": {
     "iopub.execute_input": "2025-01-27T20:54:05.625281Z",
     "iopub.status.busy": "2025-01-27T20:54:05.624727Z",
     "iopub.status.idle": "2025-01-27T20:54:05.741994Z",
     "shell.execute_reply": "2025-01-27T20:54:05.740581Z"
    },
    "papermill": {
     "duration": 0.166604,
     "end_time": "2025-01-27T20:54:05.743906",
     "exception": false,
     "start_time": "2025-01-27T20:54:05.577302",
     "status": "completed"
    },
    "tags": []
   },
   "outputs": [
    {
     "name": "stdout",
     "output_type": "stream",
     "text": [
      "\u001b[1m15/15\u001b[0m \u001b[32m━━━━━━━━━━━━━━━━━━━━\u001b[0m\u001b[37m\u001b[0m \u001b[1m0s\u001b[0m 2ms/step \n",
      "Evaluation Metrics:\n",
      "Mean Absolute Error (MAE): 20.7230\n",
      "Mean Squared Error (MSE): 1044.4366\n",
      "Root Mean Squared Error (RMSE): 32.3177\n",
      "R-squared (Accuracy): 0.8669\n"
     ]
    }
   ],
   "source": [
    "# Evaluate the model on the validation data\n",
    "val_result = model5.predict(X_val1)\n",
    "\n",
    "# Calculate metrics\n",
    "mse = mean_squared_error(y_val1, val_result)\n",
    "rmse = np.sqrt(mse)\n",
    "mae = mean_absolute_error(y_val1, val_result)\n",
    "r2 = r2_score(y_val1, val_result)\n",
    "\n",
    "# Print the results\n",
    "print(\"Evaluation Metrics:\")\n",
    "print(f\"Mean Absolute Error (MAE): {mae:.4f}\")\n",
    "print(f\"Mean Squared Error (MSE): {mse:.4f}\")\n",
    "print(f\"Root Mean Squared Error (RMSE): {rmse:.4f}\")\n",
    "print(f\"R-squared (Accuracy): {r2:.4f}\")"
   ]
  },
  {
   "cell_type": "code",
   "execution_count": 39,
   "id": "ed0944e0",
   "metadata": {
    "execution": {
     "iopub.execute_input": "2025-01-27T20:54:05.834278Z",
     "iopub.status.busy": "2025-01-27T20:54:05.833908Z",
     "iopub.status.idle": "2025-01-27T20:54:05.936869Z",
     "shell.execute_reply": "2025-01-27T20:54:05.935605Z"
    },
    "papermill": {
     "duration": 0.150105,
     "end_time": "2025-01-27T20:54:05.938822",
     "exception": false,
     "start_time": "2025-01-27T20:54:05.788717",
     "status": "completed"
    },
    "tags": []
   },
   "outputs": [
    {
     "name": "stdout",
     "output_type": "stream",
     "text": [
      "\u001b[1m10/10\u001b[0m \u001b[32m━━━━━━━━━━━━━━━━━━━━\u001b[0m\u001b[37m\u001b[0m \u001b[1m0s\u001b[0m 2ms/step \n",
      "Evaluation Metrics:\n",
      "Mean Absolute Error (MAE): 21.5432\n",
      "Mean Squared Error (MSE): 1141.5864\n",
      "Root Mean Squared Error (RMSE): 33.7874\n",
      "R-squared (Accuracy): 0.6545\n"
     ]
    }
   ],
   "source": [
    "# Evaluate the model on the test data\n",
    "test_result = model5.predict(X_test1)\n",
    "\n",
    "# Calculate metrics\n",
    "mse = mean_squared_error(y_test1, test_result)\n",
    "rmse = np.sqrt(mse)\n",
    "mae = mean_absolute_error(y_test1, test_result)\n",
    "r2 = r2_score(y_test1, test_result)\n",
    "\n",
    "# Print the results\n",
    "print(\"Evaluation Metrics:\")\n",
    "print(f\"Mean Absolute Error (MAE): {mae:.4f}\")\n",
    "print(f\"Mean Squared Error (MSE): {mse:.4f}\")\n",
    "print(f\"Root Mean Squared Error (RMSE): {rmse:.4f}\")\n",
    "print(f\"R-squared (Accuracy): {r2:.4f}\")"
   ]
  },
  {
   "cell_type": "code",
   "execution_count": 40,
   "id": "f46fbd45",
   "metadata": {
    "execution": {
     "iopub.execute_input": "2025-01-27T20:54:06.031834Z",
     "iopub.status.busy": "2025-01-27T20:54:06.031446Z",
     "iopub.status.idle": "2025-01-27T20:54:06.283891Z",
     "shell.execute_reply": "2025-01-27T20:54:06.282551Z"
    },
    "papermill": {
     "duration": 0.301378,
     "end_time": "2025-01-27T20:54:06.285939",
     "exception": false,
     "start_time": "2025-01-27T20:54:05.984561",
     "status": "completed"
    },
    "tags": []
   },
   "outputs": [
    {
     "name": "stdout",
     "output_type": "stream",
     "text": [
      "\u001b[1m75/75\u001b[0m \u001b[32m━━━━━━━━━━━━━━━━━━━━\u001b[0m\u001b[37m\u001b[0m \u001b[1m0s\u001b[0m 2ms/step\n"
     ]
    },
    {
     "data": {
      "text/html": [
       "<div>\n",
       "<style scoped>\n",
       "    .dataframe tbody tr th:only-of-type {\n",
       "        vertical-align: middle;\n",
       "    }\n",
       "\n",
       "    .dataframe tbody tr th {\n",
       "        vertical-align: top;\n",
       "    }\n",
       "\n",
       "    .dataframe thead th {\n",
       "        text-align: right;\n",
       "    }\n",
       "</style>\n",
       "<table border=\"1\" class=\"dataframe\">\n",
       "  <thead>\n",
       "    <tr style=\"text-align: right;\">\n",
       "      <th></th>\n",
       "      <th>Train Predictions</th>\n",
       "      <th>Actuals</th>\n",
       "    </tr>\n",
       "  </thead>\n",
       "  <tbody>\n",
       "    <tr>\n",
       "      <th>0</th>\n",
       "      <td>225.746948</td>\n",
       "      <td>195.0</td>\n",
       "    </tr>\n",
       "    <tr>\n",
       "      <th>1</th>\n",
       "      <td>220.369156</td>\n",
       "      <td>185.0</td>\n",
       "    </tr>\n",
       "    <tr>\n",
       "      <th>2</th>\n",
       "      <td>197.067703</td>\n",
       "      <td>208.0</td>\n",
       "    </tr>\n",
       "    <tr>\n",
       "      <th>3</th>\n",
       "      <td>216.001495</td>\n",
       "      <td>290.0</td>\n",
       "    </tr>\n",
       "    <tr>\n",
       "      <th>4</th>\n",
       "      <td>273.973267</td>\n",
       "      <td>267.0</td>\n",
       "    </tr>\n",
       "    <tr>\n",
       "      <th>...</th>\n",
       "      <td>...</td>\n",
       "      <td>...</td>\n",
       "    </tr>\n",
       "    <tr>\n",
       "      <th>2388</th>\n",
       "      <td>94.707848</td>\n",
       "      <td>54.0</td>\n",
       "    </tr>\n",
       "    <tr>\n",
       "      <th>2389</th>\n",
       "      <td>77.557068</td>\n",
       "      <td>85.0</td>\n",
       "    </tr>\n",
       "    <tr>\n",
       "      <th>2390</th>\n",
       "      <td>93.488197</td>\n",
       "      <td>97.0</td>\n",
       "    </tr>\n",
       "    <tr>\n",
       "      <th>2391</th>\n",
       "      <td>102.487663</td>\n",
       "      <td>74.0</td>\n",
       "    </tr>\n",
       "    <tr>\n",
       "      <th>2392</th>\n",
       "      <td>84.225655</td>\n",
       "      <td>87.0</td>\n",
       "    </tr>\n",
       "  </tbody>\n",
       "</table>\n",
       "<p>2393 rows × 2 columns</p>\n",
       "</div>"
      ],
      "text/plain": [
       "      Train Predictions  Actuals\n",
       "0            225.746948    195.0\n",
       "1            220.369156    185.0\n",
       "2            197.067703    208.0\n",
       "3            216.001495    290.0\n",
       "4            273.973267    267.0\n",
       "...                 ...      ...\n",
       "2388          94.707848     54.0\n",
       "2389          77.557068     85.0\n",
       "2390          93.488197     97.0\n",
       "2391         102.487663     74.0\n",
       "2392          84.225655     87.0\n",
       "\n",
       "[2393 rows x 2 columns]"
      ]
     },
     "execution_count": 40,
     "metadata": {},
     "output_type": "execute_result"
    }
   ],
   "source": [
    "train_predictions = model5.predict(X_train1).flatten()\n",
    "train_results = pd.DataFrame(data={'Train Predictions':train_predictions, 'Actuals':y_train1})\n",
    "train_results"
   ]
  },
  {
   "cell_type": "code",
   "execution_count": 41,
   "id": "53b2a60d",
   "metadata": {
    "execution": {
     "iopub.execute_input": "2025-01-27T20:54:06.379154Z",
     "iopub.status.busy": "2025-01-27T20:54:06.378712Z",
     "iopub.status.idle": "2025-01-27T20:54:06.571145Z",
     "shell.execute_reply": "2025-01-27T20:54:06.569572Z"
    },
    "papermill": {
     "duration": 0.240726,
     "end_time": "2025-01-27T20:54:06.573192",
     "exception": false,
     "start_time": "2025-01-27T20:54:06.332466",
     "status": "completed"
    },
    "tags": []
   },
   "outputs": [
    {
     "data": {
      "image/png": "[encoded data removed]",
      "text/plain": [
       "<Figure size 640x480 with 1 Axes>"
      ]
     },
     "metadata": {},
     "output_type": "display_data"
    }
   ],
   "source": [
    "plt.plot(train_results['Actuals'][1:50], label='Actual')\n",
    "plt.plot(train_results['Train Predictions'][1:50], label='Predicted')\n",
    "plt.legend()\n",
    "plt.show()"
   ]
  },
  {
   "cell_type": "code",
   "execution_count": 42,
   "id": "a357fac7",
   "metadata": {
    "execution": {
     "iopub.execute_input": "2025-01-27T20:54:06.669171Z",
     "iopub.status.busy": "2025-01-27T20:54:06.668772Z",
     "iopub.status.idle": "2025-01-27T20:54:06.790742Z",
     "shell.execute_reply": "2025-01-27T20:54:06.789266Z"
    },
    "papermill": {
     "duration": 0.171751,
     "end_time": "2025-01-27T20:54:06.792727",
     "exception": false,
     "start_time": "2025-01-27T20:54:06.620976",
     "status": "completed"
    },
    "tags": []
   },
   "outputs": [
    {
     "name": "stdout",
     "output_type": "stream",
     "text": [
      "\u001b[1m15/15\u001b[0m \u001b[32m━━━━━━━━━━━━━━━━━━━━\u001b[0m\u001b[37m\u001b[0m \u001b[1m0s\u001b[0m 2ms/step \n"
     ]
    },
    {
     "data": {
      "text/html": [
       "<div>\n",
       "<style scoped>\n",
       "    .dataframe tbody tr th:only-of-type {\n",
       "        vertical-align: middle;\n",
       "    }\n",
       "\n",
       "    .dataframe tbody tr th {\n",
       "        vertical-align: top;\n",
       "    }\n",
       "\n",
       "    .dataframe thead th {\n",
       "        text-align: right;\n",
       "    }\n",
       "</style>\n",
       "<table border=\"1\" class=\"dataframe\">\n",
       "  <thead>\n",
       "    <tr style=\"text-align: right;\">\n",
       "      <th></th>\n",
       "      <th>Train Predictions</th>\n",
       "      <th>Actuals</th>\n",
       "    </tr>\n",
       "  </thead>\n",
       "  <tbody>\n",
       "    <tr>\n",
       "      <th>0</th>\n",
       "      <td>87.275528</td>\n",
       "      <td>85.0</td>\n",
       "    </tr>\n",
       "    <tr>\n",
       "      <th>1</th>\n",
       "      <td>92.895638</td>\n",
       "      <td>71.0</td>\n",
       "    </tr>\n",
       "    <tr>\n",
       "      <th>2</th>\n",
       "      <td>81.588310</td>\n",
       "      <td>89.0</td>\n",
       "    </tr>\n",
       "    <tr>\n",
       "      <th>3</th>\n",
       "      <td>90.565041</td>\n",
       "      <td>99.0</td>\n",
       "    </tr>\n",
       "    <tr>\n",
       "      <th>4</th>\n",
       "      <td>101.630600</td>\n",
       "      <td>80.0</td>\n",
       "    </tr>\n",
       "    <tr>\n",
       "      <th>...</th>\n",
       "      <td>...</td>\n",
       "      <td>...</td>\n",
       "    </tr>\n",
       "    <tr>\n",
       "      <th>468</th>\n",
       "      <td>200.722534</td>\n",
       "      <td>193.0</td>\n",
       "    </tr>\n",
       "    <tr>\n",
       "      <th>469</th>\n",
       "      <td>207.038269</td>\n",
       "      <td>199.0</td>\n",
       "    </tr>\n",
       "    <tr>\n",
       "      <th>470</th>\n",
       "      <td>205.310211</td>\n",
       "      <td>197.0</td>\n",
       "    </tr>\n",
       "    <tr>\n",
       "      <th>471</th>\n",
       "      <td>204.986664</td>\n",
       "      <td>197.0</td>\n",
       "    </tr>\n",
       "    <tr>\n",
       "      <th>472</th>\n",
       "      <td>202.512360</td>\n",
       "      <td>190.0</td>\n",
       "    </tr>\n",
       "  </tbody>\n",
       "</table>\n",
       "<p>473 rows × 2 columns</p>\n",
       "</div>"
      ],
      "text/plain": [
       "     Train Predictions  Actuals\n",
       "0            87.275528     85.0\n",
       "1            92.895638     71.0\n",
       "2            81.588310     89.0\n",
       "3            90.565041     99.0\n",
       "4           101.630600     80.0\n",
       "..                 ...      ...\n",
       "468         200.722534    193.0\n",
       "469         207.038269    199.0\n",
       "470         205.310211    197.0\n",
       "471         204.986664    197.0\n",
       "472         202.512360    190.0\n",
       "\n",
       "[473 rows x 2 columns]"
      ]
     },
     "execution_count": 42,
     "metadata": {},
     "output_type": "execute_result"
    }
   ],
   "source": [
    "val_predictions = model5.predict(X_val1).flatten()\n",
    "val_results = pd.DataFrame(data={'Train Predictions':val_predictions, 'Actuals':y_val1})\n",
    "val_results"
   ]
  },
  {
   "cell_type": "code",
   "execution_count": 43,
   "id": "12f5e24c",
   "metadata": {
    "execution": {
     "iopub.execute_input": "2025-01-27T20:54:06.891131Z",
     "iopub.status.busy": "2025-01-27T20:54:06.890641Z",
     "iopub.status.idle": "2025-01-27T20:54:07.079774Z",
     "shell.execute_reply": "2025-01-27T20:54:07.078337Z"
    },
    "papermill": {
     "duration": 0.239338,
     "end_time": "2025-01-27T20:54:07.081515",
     "exception": false,
     "start_time": "2025-01-27T20:54:06.842177",
     "status": "completed"
    },
    "tags": []
   },
   "outputs": [
    {
     "data": {
      "image/png": "[encoded data removed]",
      "text/plain": [
       "<Figure size 640x480 with 1 Axes>"
      ]
     },
     "metadata": {},
     "output_type": "display_data"
    }
   ],
   "source": [
    "plt.plot(val_results['Actuals'][1:50], label='Actual')\n",
    "plt.plot(val_results['Train Predictions'][1:50], label='Predicted')\n",
    "plt.legend()\n",
    "plt.show()"
   ]
  },
  {
   "cell_type": "code",
   "execution_count": 44,
   "id": "4f58af25",
   "metadata": {
    "execution": {
     "iopub.execute_input": "2025-01-27T20:54:07.179777Z",
     "iopub.status.busy": "2025-01-27T20:54:07.179378Z",
     "iopub.status.idle": "2025-01-27T20:54:07.285173Z",
     "shell.execute_reply": "2025-01-27T20:54:07.284004Z"
    },
    "papermill": {
     "duration": 0.156402,
     "end_time": "2025-01-27T20:54:07.287090",
     "exception": false,
     "start_time": "2025-01-27T20:54:07.130688",
     "status": "completed"
    },
    "tags": []
   },
   "outputs": [
    {
     "name": "stdout",
     "output_type": "stream",
     "text": [
      "\u001b[1m10/10\u001b[0m \u001b[32m━━━━━━━━━━━━━━━━━━━━\u001b[0m\u001b[37m\u001b[0m \u001b[1m0s\u001b[0m 2ms/step \n"
     ]
    },
    {
     "data": {
      "text/html": [
       "<div>\n",
       "<style scoped>\n",
       "    .dataframe tbody tr th:only-of-type {\n",
       "        vertical-align: middle;\n",
       "    }\n",
       "\n",
       "    .dataframe tbody tr th {\n",
       "        vertical-align: top;\n",
       "    }\n",
       "\n",
       "    .dataframe thead th {\n",
       "        text-align: right;\n",
       "    }\n",
       "</style>\n",
       "<table border=\"1\" class=\"dataframe\">\n",
       "  <thead>\n",
       "    <tr style=\"text-align: right;\">\n",
       "      <th></th>\n",
       "      <th>Train Predictions</th>\n",
       "      <th>Actuals</th>\n",
       "    </tr>\n",
       "  </thead>\n",
       "  <tbody>\n",
       "    <tr>\n",
       "      <th>0</th>\n",
       "      <td>196.801590</td>\n",
       "      <td>190.0</td>\n",
       "    </tr>\n",
       "    <tr>\n",
       "      <th>1</th>\n",
       "      <td>190.917175</td>\n",
       "      <td>177.0</td>\n",
       "    </tr>\n",
       "    <tr>\n",
       "      <th>2</th>\n",
       "      <td>181.966339</td>\n",
       "      <td>172.0</td>\n",
       "    </tr>\n",
       "    <tr>\n",
       "      <th>3</th>\n",
       "      <td>178.880478</td>\n",
       "      <td>170.0</td>\n",
       "    </tr>\n",
       "    <tr>\n",
       "      <th>4</th>\n",
       "      <td>177.595169</td>\n",
       "      <td>197.0</td>\n",
       "    </tr>\n",
       "    <tr>\n",
       "      <th>...</th>\n",
       "      <td>...</td>\n",
       "      <td>...</td>\n",
       "    </tr>\n",
       "    <tr>\n",
       "      <th>310</th>\n",
       "      <td>149.418335</td>\n",
       "      <td>134.0</td>\n",
       "    </tr>\n",
       "    <tr>\n",
       "      <th>311</th>\n",
       "      <td>139.379639</td>\n",
       "      <td>144.0</td>\n",
       "    </tr>\n",
       "    <tr>\n",
       "      <th>312</th>\n",
       "      <td>147.439041</td>\n",
       "      <td>155.0</td>\n",
       "    </tr>\n",
       "    <tr>\n",
       "      <th>313</th>\n",
       "      <td>158.906921</td>\n",
       "      <td>155.0</td>\n",
       "    </tr>\n",
       "    <tr>\n",
       "      <th>314</th>\n",
       "      <td>153.872833</td>\n",
       "      <td>152.0</td>\n",
       "    </tr>\n",
       "  </tbody>\n",
       "</table>\n",
       "<p>315 rows × 2 columns</p>\n",
       "</div>"
      ],
      "text/plain": [
       "     Train Predictions  Actuals\n",
       "0           196.801590    190.0\n",
       "1           190.917175    177.0\n",
       "2           181.966339    172.0\n",
       "3           178.880478    170.0\n",
       "4           177.595169    197.0\n",
       "..                 ...      ...\n",
       "310         149.418335    134.0\n",
       "311         139.379639    144.0\n",
       "312         147.439041    155.0\n",
       "313         158.906921    155.0\n",
       "314         153.872833    152.0\n",
       "\n",
       "[315 rows x 2 columns]"
      ]
     },
     "execution_count": 44,
     "metadata": {},
     "output_type": "execute_result"
    }
   ],
   "source": [
    "test_predictions = model5.predict(X_test1).flatten()\n",
    "test_results = pd.DataFrame(data={'Train Predictions':test_predictions, 'Actuals':y_test1})\n",
    "test_results"
   ]
  },
  {
   "cell_type": "code",
   "execution_count": 45,
   "id": "d4e8cfe0",
   "metadata": {
    "execution": {
     "iopub.execute_input": "2025-01-27T20:54:07.386782Z",
     "iopub.status.busy": "2025-01-27T20:54:07.386382Z",
     "iopub.status.idle": "2025-01-27T20:54:07.571022Z",
     "shell.execute_reply": "2025-01-27T20:54:07.569748Z"
    },
    "papermill": {
     "duration": 0.23762,
     "end_time": "2025-01-27T20:54:07.572720",
     "exception": false,
     "start_time": "2025-01-27T20:54:07.335100",
     "status": "completed"
    },
    "tags": []
   },
   "outputs": [
    {
     "data": {
      "image/png": "[encoded data removed]",
      "text/plain": [
       "<Figure size 640x480 with 1 Axes>"
      ]
     },
     "metadata": {},
     "output_type": "display_data"
    }
   ],
   "source": [
    "plt.plot(test_results['Train Predictions'][1:50], label='Predicted')\n",
    "plt.plot(test_results['Actuals'][1:50], label='Actual')\n",
    "plt.legend()\n",
    "plt.show()"
   ]
  },
  {
   "cell_type": "markdown",
   "id": "edcd83c5",
   "metadata": {
    "papermill": {
     "duration": 0.050192,
     "end_time": "2025-01-27T20:54:07.673251",
     "exception": false,
     "start_time": "2025-01-27T20:54:07.623059",
     "status": "completed"
    },
    "tags": []
   },
   "source": [
    "# **GRU(Normal)**"
   ]
  },
  {
   "cell_type": "code",
   "execution_count": 46,
   "id": "89b5a88f",
   "metadata": {
    "execution": {
     "iopub.execute_input": "2025-01-27T20:54:07.773648Z",
     "iopub.status.busy": "2025-01-27T20:54:07.773282Z",
     "iopub.status.idle": "2025-01-27T20:54:37.736079Z",
     "shell.execute_reply": "2025-01-27T20:54:37.735016Z"
    },
    "papermill": {
     "duration": 30.01533,
     "end_time": "2025-01-27T20:54:37.738211",
     "exception": false,
     "start_time": "2025-01-27T20:54:07.722881",
     "status": "completed"
    },
    "tags": []
   },
   "outputs": [
    {
     "name": "stdout",
     "output_type": "stream",
     "text": [
      "Epoch 1/50\n",
      "\u001b[1m75/75\u001b[0m \u001b[32m━━━━━━━━━━━━━━━━━━━━\u001b[0m\u001b[37m\u001b[0m \u001b[1m4s\u001b[0m 12ms/step - loss: 29362.0977 - root_mean_squared_error: 171.3281 - val_loss: 20308.6504 - val_root_mean_squared_error: 142.5084\n",
      "Epoch 2/50\n",
      "\u001b[1m75/75\u001b[0m \u001b[32m━━━━━━━━━━━━━━━━━━━━\u001b[0m\u001b[37m\u001b[0m \u001b[1m1s\u001b[0m 7ms/step - loss: 17363.4727 - root_mean_squared_error: 131.6433 - val_loss: 13903.2715 - val_root_mean_squared_error: 117.9121\n",
      "Epoch 3/50\n",
      "\u001b[1m75/75\u001b[0m \u001b[32m━━━━━━━━━━━━━━━━━━━━\u001b[0m\u001b[37m\u001b[0m \u001b[1m1s\u001b[0m 7ms/step - loss: 10126.1436 - root_mean_squared_error: 100.6046 - val_loss: 12418.6016 - val_root_mean_squared_error: 111.4388\n",
      "Epoch 4/50\n",
      "\u001b[1m75/75\u001b[0m \u001b[32m━━━━━━━━━━━━━━━━━━━━\u001b[0m\u001b[37m\u001b[0m \u001b[1m1s\u001b[0m 7ms/step - loss: 8484.8037 - root_mean_squared_error: 91.9919 - val_loss: 11765.6797 - val_root_mean_squared_error: 108.4697\n",
      "Epoch 5/50\n",
      "\u001b[1m75/75\u001b[0m \u001b[32m━━━━━━━━━━━━━━━━━━━━\u001b[0m\u001b[37m\u001b[0m \u001b[1m1s\u001b[0m 7ms/step - loss: 6888.4126 - root_mean_squared_error: 82.9004 - val_loss: 11227.6035 - val_root_mean_squared_error: 105.9604\n",
      "Epoch 6/50\n",
      "\u001b[1m75/75\u001b[0m \u001b[32m━━━━━━━━━━━━━━━━━━━━\u001b[0m\u001b[37m\u001b[0m \u001b[1m1s\u001b[0m 7ms/step - loss: 7687.3892 - root_mean_squared_error: 87.3064 - val_loss: 10232.8203 - val_root_mean_squared_error: 101.1574\n",
      "Epoch 7/50\n",
      "\u001b[1m75/75\u001b[0m \u001b[32m━━━━━━━━━━━━━━━━━━━━\u001b[0m\u001b[37m\u001b[0m \u001b[1m1s\u001b[0m 7ms/step - loss: 6423.9038 - root_mean_squared_error: 80.1146 - val_loss: 9865.8477 - val_root_mean_squared_error: 99.3270\n",
      "Epoch 8/50\n",
      "\u001b[1m75/75\u001b[0m \u001b[32m━━━━━━━━━━━━━━━━━━━━\u001b[0m\u001b[37m\u001b[0m \u001b[1m1s\u001b[0m 6ms/step - loss: 5804.7852 - root_mean_squared_error: 76.1571 - val_loss: 9898.5850 - val_root_mean_squared_error: 99.4916\n",
      "Epoch 9/50\n",
      "\u001b[1m75/75\u001b[0m \u001b[32m━━━━━━━━━━━━━━━━━━━━\u001b[0m\u001b[37m\u001b[0m \u001b[1m1s\u001b[0m 7ms/step - loss: 5719.4971 - root_mean_squared_error: 75.5787 - val_loss: 9697.6084 - val_root_mean_squared_error: 98.4764\n",
      "Epoch 10/50\n",
      "\u001b[1m75/75\u001b[0m \u001b[32m━━━━━━━━━━━━━━━━━━━━\u001b[0m\u001b[37m\u001b[0m \u001b[1m1s\u001b[0m 7ms/step - loss: 5061.2104 - root_mean_squared_error: 71.0334 - val_loss: 9097.9824 - val_root_mean_squared_error: 95.3833\n",
      "Epoch 11/50\n",
      "\u001b[1m75/75\u001b[0m \u001b[32m━━━━━━━━━━━━━━━━━━━━\u001b[0m\u001b[37m\u001b[0m \u001b[1m1s\u001b[0m 7ms/step - loss: 5170.5884 - root_mean_squared_error: 71.8238 - val_loss: 9062.6865 - val_root_mean_squared_error: 95.1981\n",
      "Epoch 12/50\n",
      "\u001b[1m75/75\u001b[0m \u001b[32m━━━━━━━━━━━━━━━━━━━━\u001b[0m\u001b[37m\u001b[0m \u001b[1m1s\u001b[0m 7ms/step - loss: 5926.4199 - root_mean_squared_error: 76.8543 - val_loss: 8832.6162 - val_root_mean_squared_error: 93.9820\n",
      "Epoch 13/50\n",
      "\u001b[1m75/75\u001b[0m \u001b[32m━━━━━━━━━━━━━━━━━━━━\u001b[0m\u001b[37m\u001b[0m \u001b[1m1s\u001b[0m 7ms/step - loss: 5418.2075 - root_mean_squared_error: 73.5669 - val_loss: 8807.3955 - val_root_mean_squared_error: 93.8477\n",
      "Epoch 14/50\n",
      "\u001b[1m75/75\u001b[0m \u001b[32m━━━━━━━━━━━━━━━━━━━━\u001b[0m\u001b[37m\u001b[0m \u001b[1m1s\u001b[0m 7ms/step - loss: 5179.8931 - root_mean_squared_error: 71.8987 - val_loss: 8442.2168 - val_root_mean_squared_error: 91.8815\n",
      "Epoch 15/50\n",
      "\u001b[1m75/75\u001b[0m \u001b[32m━━━━━━━━━━━━━━━━━━━━\u001b[0m\u001b[37m\u001b[0m \u001b[1m0s\u001b[0m 6ms/step - loss: 5523.9746 - root_mean_squared_error: 74.2213 - val_loss: 8709.7021 - val_root_mean_squared_error: 93.3258\n",
      "Epoch 16/50\n",
      "\u001b[1m75/75\u001b[0m \u001b[32m━━━━━━━━━━━━━━━━━━━━\u001b[0m\u001b[37m\u001b[0m \u001b[1m1s\u001b[0m 6ms/step - loss: 5207.0239 - root_mean_squared_error: 72.0425 - val_loss: 8530.9277 - val_root_mean_squared_error: 92.3630\n",
      "Epoch 17/50\n",
      "\u001b[1m75/75\u001b[0m \u001b[32m━━━━━━━━━━━━━━━━━━━━\u001b[0m\u001b[37m\u001b[0m \u001b[1m1s\u001b[0m 7ms/step - loss: 5262.9902 - root_mean_squared_error: 72.4087 - val_loss: 8424.8428 - val_root_mean_squared_error: 91.7869\n",
      "Epoch 18/50\n",
      "\u001b[1m75/75\u001b[0m \u001b[32m━━━━━━━━━━━━━━━━━━━━\u001b[0m\u001b[37m\u001b[0m \u001b[1m1s\u001b[0m 7ms/step - loss: 4917.1460 - root_mean_squared_error: 70.0825 - val_loss: 8429.2383 - val_root_mean_squared_error: 91.8109\n",
      "Epoch 19/50\n",
      "\u001b[1m75/75\u001b[0m \u001b[32m━━━━━━━━━━━━━━━━━━━━\u001b[0m\u001b[37m\u001b[0m \u001b[1m1s\u001b[0m 7ms/step - loss: 4920.2222 - root_mean_squared_error: 69.9938 - val_loss: 8315.4990 - val_root_mean_squared_error: 91.1894\n",
      "Epoch 20/50\n",
      "\u001b[1m75/75\u001b[0m \u001b[32m━━━━━━━━━━━━━━━━━━━━\u001b[0m\u001b[37m\u001b[0m \u001b[1m1s\u001b[0m 7ms/step - loss: 5790.9712 - root_mean_squared_error: 75.9143 - val_loss: 8167.5879 - val_root_mean_squared_error: 90.3747\n",
      "Epoch 21/50\n",
      "\u001b[1m75/75\u001b[0m \u001b[32m━━━━━━━━━━━━━━━━━━━━\u001b[0m\u001b[37m\u001b[0m \u001b[1m1s\u001b[0m 7ms/step - loss: 5669.8193 - root_mean_squared_error: 75.1706 - val_loss: 8187.9570 - val_root_mean_squared_error: 90.4873\n",
      "Epoch 22/50\n",
      "\u001b[1m75/75\u001b[0m \u001b[32m━━━━━━━━━━━━━━━━━━━━\u001b[0m\u001b[37m\u001b[0m \u001b[1m1s\u001b[0m 7ms/step - loss: 5090.7715 - root_mean_squared_error: 71.2497 - val_loss: 7993.1396 - val_root_mean_squared_error: 89.4044\n",
      "Epoch 23/50\n",
      "\u001b[1m75/75\u001b[0m \u001b[32m━━━━━━━━━━━━━━━━━━━━\u001b[0m\u001b[37m\u001b[0m \u001b[1m1s\u001b[0m 7ms/step - loss: 5543.1929 - root_mean_squared_error: 74.3389 - val_loss: 8125.1729 - val_root_mean_squared_error: 90.1397\n",
      "Epoch 24/50\n",
      "\u001b[1m75/75\u001b[0m \u001b[32m━━━━━━━━━━━━━━━━━━━━\u001b[0m\u001b[37m\u001b[0m \u001b[1m1s\u001b[0m 6ms/step - loss: 5436.3633 - root_mean_squared_error: 73.6803 - val_loss: 8007.9980 - val_root_mean_squared_error: 89.4874\n",
      "Epoch 25/50\n",
      "\u001b[1m75/75\u001b[0m \u001b[32m━━━━━━━━━━━━━━━━━━━━\u001b[0m\u001b[37m\u001b[0m \u001b[1m1s\u001b[0m 7ms/step - loss: 5126.0635 - root_mean_squared_error: 71.4346 - val_loss: 8166.0195 - val_root_mean_squared_error: 90.3660\n",
      "Epoch 26/50\n",
      "\u001b[1m75/75\u001b[0m \u001b[32m━━━━━━━━━━━━━━━━━━━━\u001b[0m\u001b[37m\u001b[0m \u001b[1m1s\u001b[0m 6ms/step - loss: 5556.4673 - root_mean_squared_error: 74.4339 - val_loss: 8091.2734 - val_root_mean_squared_error: 89.9515\n",
      "Epoch 27/50\n",
      "\u001b[1m75/75\u001b[0m \u001b[32m━━━━━━━━━━━━━━━━━━━━\u001b[0m\u001b[37m\u001b[0m \u001b[1m1s\u001b[0m 7ms/step - loss: 5325.2075 - root_mean_squared_error: 72.9056 - val_loss: 8216.6992 - val_root_mean_squared_error: 90.6460\n",
      "Epoch 28/50\n",
      "\u001b[1m75/75\u001b[0m \u001b[32m━━━━━━━━━━━━━━━━━━━━\u001b[0m\u001b[37m\u001b[0m \u001b[1m1s\u001b[0m 7ms/step - loss: 5008.5088 - root_mean_squared_error: 70.5968 - val_loss: 8340.4658 - val_root_mean_squared_error: 91.3261\n",
      "Epoch 29/50\n",
      "\u001b[1m75/75\u001b[0m \u001b[32m━━━━━━━━━━━━━━━━━━━━\u001b[0m\u001b[37m\u001b[0m \u001b[1m1s\u001b[0m 7ms/step - loss: 5195.4033 - root_mean_squared_error: 72.0272 - val_loss: 8028.2808 - val_root_mean_squared_error: 89.6007\n",
      "Epoch 30/50\n",
      "\u001b[1m75/75\u001b[0m \u001b[32m━━━━━━━━━━━━━━━━━━━━\u001b[0m\u001b[37m\u001b[0m \u001b[1m1s\u001b[0m 6ms/step - loss: 6187.1357 - root_mean_squared_error: 78.2823 - val_loss: 8179.1470 - val_root_mean_squared_error: 90.4386\n",
      "Epoch 31/50\n",
      "\u001b[1m75/75\u001b[0m \u001b[32m━━━━━━━━━━━━━━━━━━━━\u001b[0m\u001b[37m\u001b[0m \u001b[1m1s\u001b[0m 7ms/step - loss: 4848.5220 - root_mean_squared_error: 69.5518 - val_loss: 7972.8022 - val_root_mean_squared_error: 89.2906\n",
      "Epoch 32/50\n",
      "\u001b[1m75/75\u001b[0m \u001b[32m━━━━━━━━━━━━━━━━━━━━\u001b[0m\u001b[37m\u001b[0m \u001b[1m1s\u001b[0m 7ms/step - loss: 5007.3057 - root_mean_squared_error: 70.7349 - val_loss: 8131.9380 - val_root_mean_squared_error: 90.1773\n",
      "Epoch 33/50\n",
      "\u001b[1m75/75\u001b[0m \u001b[32m━━━━━━━━━━━━━━━━━━━━\u001b[0m\u001b[37m\u001b[0m \u001b[1m1s\u001b[0m 6ms/step - loss: 4795.8335 - root_mean_squared_error: 68.9821 - val_loss: 8013.5615 - val_root_mean_squared_error: 89.5185\n",
      "Epoch 34/50\n",
      "\u001b[1m75/75\u001b[0m \u001b[32m━━━━━━━━━━━━━━━━━━━━\u001b[0m\u001b[37m\u001b[0m \u001b[1m1s\u001b[0m 7ms/step - loss: 4854.2275 - root_mean_squared_error: 69.6513 - val_loss: 7936.8901 - val_root_mean_squared_error: 89.0892\n",
      "Epoch 35/50\n",
      "\u001b[1m75/75\u001b[0m \u001b[32m━━━━━━━━━━━━━━━━━━━━\u001b[0m\u001b[37m\u001b[0m \u001b[1m0s\u001b[0m 6ms/step - loss: 5286.3945 - root_mean_squared_error: 72.6136 - val_loss: 8050.1528 - val_root_mean_squared_error: 89.7226\n",
      "Epoch 36/50\n",
      "\u001b[1m75/75\u001b[0m \u001b[32m━━━━━━━━━━━━━━━━━━━━\u001b[0m\u001b[37m\u001b[0m \u001b[1m1s\u001b[0m 7ms/step - loss: 4973.4697 - root_mean_squared_error: 70.3186 - val_loss: 8054.3369 - val_root_mean_squared_error: 89.7460\n",
      "Epoch 37/50\n",
      "\u001b[1m75/75\u001b[0m \u001b[32m━━━━━━━━━━━━━━━━━━━━\u001b[0m\u001b[37m\u001b[0m \u001b[1m1s\u001b[0m 6ms/step - loss: 5157.3818 - root_mean_squared_error: 71.7904 - val_loss: 8057.1079 - val_root_mean_squared_error: 89.7614\n",
      "Epoch 38/50\n",
      "\u001b[1m75/75\u001b[0m \u001b[32m━━━━━━━━━━━━━━━━━━━━\u001b[0m\u001b[37m\u001b[0m \u001b[1m1s\u001b[0m 7ms/step - loss: 4591.9282 - root_mean_squared_error: 67.7364 - val_loss: 8013.1172 - val_root_mean_squared_error: 89.5160\n",
      "Epoch 39/50\n",
      "\u001b[1m75/75\u001b[0m \u001b[32m━━━━━━━━━━━━━━━━━━━━\u001b[0m\u001b[37m\u001b[0m \u001b[1m1s\u001b[0m 7ms/step - loss: 5102.4399 - root_mean_squared_error: 71.3591 - val_loss: 8060.8193 - val_root_mean_squared_error: 89.7821\n",
      "Epoch 40/50\n",
      "\u001b[1m75/75\u001b[0m \u001b[32m━━━━━━━━━━━━━━━━━━━━\u001b[0m\u001b[37m\u001b[0m \u001b[1m1s\u001b[0m 6ms/step - loss: 5227.0308 - root_mean_squared_error: 72.2598 - val_loss: 8060.5283 - val_root_mean_squared_error: 89.7804\n",
      "Epoch 41/50\n",
      "\u001b[1m75/75\u001b[0m \u001b[32m━━━━━━━━━━━━━━━━━━━━\u001b[0m\u001b[37m\u001b[0m \u001b[1m1s\u001b[0m 6ms/step - loss: 4935.5640 - root_mean_squared_error: 70.1707 - val_loss: 8017.7192 - val_root_mean_squared_error: 89.5417\n",
      "Epoch 42/50\n",
      "\u001b[1m75/75\u001b[0m \u001b[32m━━━━━━━━━━━━━━━━━━━━\u001b[0m\u001b[37m\u001b[0m \u001b[1m1s\u001b[0m 6ms/step - loss: 5497.6338 - root_mean_squared_error: 74.0978 - val_loss: 8014.6860 - val_root_mean_squared_error: 89.5248\n",
      "Epoch 43/50\n",
      "\u001b[1m75/75\u001b[0m \u001b[32m━━━━━━━━━━━━━━━━━━━━\u001b[0m\u001b[37m\u001b[0m \u001b[1m1s\u001b[0m 6ms/step - loss: 5199.6797 - root_mean_squared_error: 72.0194 - val_loss: 8106.4873 - val_root_mean_squared_error: 90.0360\n",
      "Epoch 44/50\n",
      "\u001b[1m75/75\u001b[0m \u001b[32m━━━━━━━━━━━━━━━━━━━━\u001b[0m\u001b[37m\u001b[0m \u001b[1m1s\u001b[0m 7ms/step - loss: 4616.8999 - root_mean_squared_error: 67.9035 - val_loss: 8067.9077 - val_root_mean_squared_error: 89.8215\n",
      "Epoch 45/50\n",
      "\u001b[1m75/75\u001b[0m \u001b[32m━━━━━━━━━━━━━━━━━━━━\u001b[0m\u001b[37m\u001b[0m \u001b[1m1s\u001b[0m 7ms/step - loss: 4949.6758 - root_mean_squared_error: 70.2475 - val_loss: 8106.3618 - val_root_mean_squared_error: 90.0353\n",
      "Epoch 46/50\n",
      "\u001b[1m75/75\u001b[0m \u001b[32m━━━━━━━━━━━━━━━━━━━━\u001b[0m\u001b[37m\u001b[0m \u001b[1m1s\u001b[0m 7ms/step - loss: 5427.6899 - root_mean_squared_error: 73.5760 - val_loss: 8157.7905 - val_root_mean_squared_error: 90.3205\n",
      "Epoch 47/50\n",
      "\u001b[1m75/75\u001b[0m \u001b[32m━━━━━━━━━━━━━━━━━━━━\u001b[0m\u001b[37m\u001b[0m \u001b[1m1s\u001b[0m 7ms/step - loss: 4660.7358 - root_mean_squared_error: 68.1010 - val_loss: 8077.0811 - val_root_mean_squared_error: 89.8726\n",
      "Epoch 48/50\n",
      "\u001b[1m75/75\u001b[0m \u001b[32m━━━━━━━━━━━━━━━━━━━━\u001b[0m\u001b[37m\u001b[0m \u001b[1m1s\u001b[0m 7ms/step - loss: 5594.2065 - root_mean_squared_error: 74.7063 - val_loss: 8219.4014 - val_root_mean_squared_error: 90.6609\n",
      "Epoch 49/50\n",
      "\u001b[1m75/75\u001b[0m \u001b[32m━━━━━━━━━━━━━━━━━━━━\u001b[0m\u001b[37m\u001b[0m \u001b[1m1s\u001b[0m 7ms/step - loss: 5446.6831 - root_mean_squared_error: 73.6331 - val_loss: 8198.2041 - val_root_mean_squared_error: 90.5439\n",
      "Epoch 50/50\n",
      "\u001b[1m75/75\u001b[0m \u001b[32m━━━━━━━━━━━━━━━━━━━━\u001b[0m\u001b[37m\u001b[0m \u001b[1m1s\u001b[0m 7ms/step - loss: 5179.6104 - root_mean_squared_error: 71.8755 - val_loss: 8042.5391 - val_root_mean_squared_error: 89.6802\n"
     ]
    },
    {
     "data": {
      "text/plain": [
       "<keras.src.callbacks.history.History at 0x7b01802d75e0>"
      ]
     },
     "execution_count": 46,
     "metadata": {},
     "output_type": "execute_result"
    }
   ],
   "source": [
    "model6 = Sequential()\n",
    "model6.add(InputLayer((6, 6)))  # 6 timestamps, 6 features\n",
    "model6.add(BatchNormalization())  # Normalize inputs\n",
    "model6.add(GRU(64, activation='relu', return_sequences=True))  # GRU layer\n",
    "model6.add(Dropout(0.3))  # Dropout for regularization\n",
    "model6.add(Dense(32, activation='relu'))  \n",
    "model6.add(Dense(1, activation='linear'))  \n",
    "\n",
    "cp6 = ModelCheckpoint('/kaggle/working/model6.keras', save_best_only=True)\n",
    "\n",
    "model6.compile(loss=MeanSquaredError(), optimizer=Adam(learning_rate=0.001), \n",
    "               metrics=[RootMeanSquaredError()])\n",
    "\n",
    "model6.fit(X_train1, y_train1, validation_data=(X_val1, y_val1), epochs=50, \n",
    "           callbacks=[cp6])"
   ]
  },
  {
   "cell_type": "markdown",
   "id": "12612c07",
   "metadata": {
    "papermill": {
     "duration": 0.080724,
     "end_time": "2025-01-27T20:54:37.901508",
     "exception": false,
     "start_time": "2025-01-27T20:54:37.820784",
     "status": "completed"
    },
    "tags": []
   },
   "source": [
    "# Bidirectional LSTM(Normal)"
   ]
  },
  {
   "cell_type": "code",
   "execution_count": 47,
   "id": "8b17a455",
   "metadata": {
    "execution": {
     "iopub.execute_input": "2025-01-27T20:54:38.060988Z",
     "iopub.status.busy": "2025-01-27T20:54:38.060520Z",
     "iopub.status.idle": "2025-01-27T20:55:04.540783Z",
     "shell.execute_reply": "2025-01-27T20:55:04.539027Z"
    },
    "papermill": {
     "duration": 26.562497,
     "end_time": "2025-01-27T20:55:04.542959",
     "exception": false,
     "start_time": "2025-01-27T20:54:37.980462",
     "status": "completed"
    },
    "tags": []
   },
   "outputs": [
    {
     "name": "stdout",
     "output_type": "stream",
     "text": [
      "Epoch 1/50\n",
      "\u001b[1m75/75\u001b[0m \u001b[32m━━━━━━━━━━━━━━━━━━━━\u001b[0m\u001b[37m\u001b[0m \u001b[1m1s\u001b[0m 8ms/step - loss: 5073.0518 - root_mean_squared_error: 71.0565 - val_loss: 8065.1777 - val_root_mean_squared_error: 89.8063\n",
      "Epoch 2/50\n",
      "\u001b[1m75/75\u001b[0m \u001b[32m━━━━━━━━━━━━━━━━━━━━\u001b[0m\u001b[37m\u001b[0m \u001b[1m1s\u001b[0m 6ms/step - loss: 5643.0269 - root_mean_squared_error: 74.9345 - val_loss: 8072.2100 - val_root_mean_squared_error: 89.8455\n",
      "Epoch 3/50\n",
      "\u001b[1m75/75\u001b[0m \u001b[32m━━━━━━━━━━━━━━━━━━━━\u001b[0m\u001b[37m\u001b[0m \u001b[1m1s\u001b[0m 7ms/step - loss: 5037.3691 - root_mean_squared_error: 70.8797 - val_loss: 7938.6050 - val_root_mean_squared_error: 89.0988\n",
      "Epoch 4/50\n",
      "\u001b[1m75/75\u001b[0m \u001b[32m━━━━━━━━━━━━━━━━━━━━\u001b[0m\u001b[37m\u001b[0m \u001b[1m1s\u001b[0m 7ms/step - loss: 4933.4380 - root_mean_squared_error: 70.1559 - val_loss: 8003.0029 - val_root_mean_squared_error: 89.4595\n",
      "Epoch 5/50\n",
      "\u001b[1m75/75\u001b[0m \u001b[32m━━━━━━━━━━━━━━━━━━━━\u001b[0m\u001b[37m\u001b[0m \u001b[1m1s\u001b[0m 7ms/step - loss: 5664.5464 - root_mean_squared_error: 75.1720 - val_loss: 8073.6460 - val_root_mean_squared_error: 89.8535\n",
      "Epoch 6/50\n",
      "\u001b[1m75/75\u001b[0m \u001b[32m━━━━━━━━━━━━━━━━━━━━\u001b[0m\u001b[37m\u001b[0m \u001b[1m1s\u001b[0m 7ms/step - loss: 5351.1958 - root_mean_squared_error: 73.0057 - val_loss: 8106.4297 - val_root_mean_squared_error: 90.0357\n",
      "Epoch 7/50\n",
      "\u001b[1m75/75\u001b[0m \u001b[32m━━━━━━━━━━━━━━━━━━━━\u001b[0m\u001b[37m\u001b[0m \u001b[1m1s\u001b[0m 7ms/step - loss: 4471.1841 - root_mean_squared_error: 66.7003 - val_loss: 8040.6895 - val_root_mean_squared_error: 89.6699\n",
      "Epoch 8/50\n",
      "\u001b[1m75/75\u001b[0m \u001b[32m━━━━━━━━━━━━━━━━━━━━\u001b[0m\u001b[37m\u001b[0m \u001b[1m1s\u001b[0m 7ms/step - loss: 4350.0244 - root_mean_squared_error: 65.7975 - val_loss: 7902.6279 - val_root_mean_squared_error: 88.8967\n",
      "Epoch 9/50\n",
      "\u001b[1m75/75\u001b[0m \u001b[32m━━━━━━━━━━━━━━━━━━━━\u001b[0m\u001b[37m\u001b[0m \u001b[1m1s\u001b[0m 7ms/step - loss: 5009.3301 - root_mean_squared_error: 70.7465 - val_loss: 7988.0659 - val_root_mean_squared_error: 89.3760\n",
      "Epoch 10/50\n",
      "\u001b[1m75/75\u001b[0m \u001b[32m━━━━━━━━━━━━━━━━━━━━\u001b[0m\u001b[37m\u001b[0m \u001b[1m1s\u001b[0m 7ms/step - loss: 4745.8257 - root_mean_squared_error: 68.8064 - val_loss: 8099.0781 - val_root_mean_squared_error: 89.9949\n",
      "Epoch 11/50\n",
      "\u001b[1m75/75\u001b[0m \u001b[32m━━━━━━━━━━━━━━━━━━━━\u001b[0m\u001b[37m\u001b[0m \u001b[1m0s\u001b[0m 6ms/step - loss: 4551.4053 - root_mean_squared_error: 67.3635 - val_loss: 7989.2319 - val_root_mean_squared_error: 89.3825\n",
      "Epoch 12/50\n",
      "\u001b[1m75/75\u001b[0m \u001b[32m━━━━━━━━━━━━━━━━━━━━\u001b[0m\u001b[37m\u001b[0m \u001b[1m1s\u001b[0m 7ms/step - loss: 5098.3091 - root_mean_squared_error: 71.1247 - val_loss: 8094.2627 - val_root_mean_squared_error: 89.9681\n",
      "Epoch 13/50\n",
      "\u001b[1m75/75\u001b[0m \u001b[32m━━━━━━━━━━━━━━━━━━━━\u001b[0m\u001b[37m\u001b[0m \u001b[1m1s\u001b[0m 7ms/step - loss: 5274.5928 - root_mean_squared_error: 72.5169 - val_loss: 7896.8677 - val_root_mean_squared_error: 88.8643\n",
      "Epoch 14/50\n",
      "\u001b[1m75/75\u001b[0m \u001b[32m━━━━━━━━━━━━━━━━━━━━\u001b[0m\u001b[37m\u001b[0m \u001b[1m0s\u001b[0m 6ms/step - loss: 4407.7759 - root_mean_squared_error: 66.2411 - val_loss: 8162.4707 - val_root_mean_squared_error: 90.3464\n",
      "Epoch 15/50\n",
      "\u001b[1m75/75\u001b[0m \u001b[32m━━━━━━━━━━━━━━━━━━━━\u001b[0m\u001b[37m\u001b[0m \u001b[1m1s\u001b[0m 6ms/step - loss: 4947.9834 - root_mean_squared_error: 70.3102 - val_loss: 7983.0405 - val_root_mean_squared_error: 89.3479\n",
      "Epoch 16/50\n",
      "\u001b[1m75/75\u001b[0m \u001b[32m━━━━━━━━━━━━━━━━━━━━\u001b[0m\u001b[37m\u001b[0m \u001b[1m1s\u001b[0m 7ms/step - loss: 4318.1577 - root_mean_squared_error: 65.4888 - val_loss: 8239.3652 - val_root_mean_squared_error: 90.7709\n",
      "Epoch 17/50\n",
      "\u001b[1m75/75\u001b[0m \u001b[32m━━━━━━━━━━━━━━━━━━━━\u001b[0m\u001b[37m\u001b[0m \u001b[1m1s\u001b[0m 7ms/step - loss: 5360.1528 - root_mean_squared_error: 73.1116 - val_loss: 8181.0894 - val_root_mean_squared_error: 90.4494\n",
      "Epoch 18/50\n",
      "\u001b[1m75/75\u001b[0m \u001b[32m━━━━━━━━━━━━━━━━━━━━\u001b[0m\u001b[37m\u001b[0m \u001b[1m1s\u001b[0m 7ms/step - loss: 5968.9478 - root_mean_squared_error: 77.1010 - val_loss: 8204.6924 - val_root_mean_squared_error: 90.5798\n",
      "Epoch 19/50\n",
      "\u001b[1m75/75\u001b[0m \u001b[32m━━━━━━━━━━━━━━━━━━━━\u001b[0m\u001b[37m\u001b[0m \u001b[1m1s\u001b[0m 7ms/step - loss: 4787.1875 - root_mean_squared_error: 69.0779 - val_loss: 7946.9780 - val_root_mean_squared_error: 89.1458\n",
      "Epoch 20/50\n",
      "\u001b[1m75/75\u001b[0m \u001b[32m━━━━━━━━━━━━━━━━━━━━\u001b[0m\u001b[37m\u001b[0m \u001b[1m1s\u001b[0m 7ms/step - loss: 5712.2759 - root_mean_squared_error: 74.9558 - val_loss: 8091.7266 - val_root_mean_squared_error: 89.9540\n",
      "Epoch 21/50\n",
      "\u001b[1m75/75\u001b[0m \u001b[32m━━━━━━━━━━━━━━━━━━━━\u001b[0m\u001b[37m\u001b[0m \u001b[1m1s\u001b[0m 7ms/step - loss: 5782.2134 - root_mean_squared_error: 75.2531 - val_loss: 8104.7505 - val_root_mean_squared_error: 90.0264\n",
      "Epoch 22/50\n",
      "\u001b[1m75/75\u001b[0m \u001b[32m━━━━━━━━━━━━━━━━━━━━\u001b[0m\u001b[37m\u001b[0m \u001b[1m1s\u001b[0m 7ms/step - loss: 5194.6509 - root_mean_squared_error: 71.9984 - val_loss: 8086.6582 - val_root_mean_squared_error: 89.9258\n",
      "Epoch 23/50\n",
      "\u001b[1m75/75\u001b[0m \u001b[32m━━━━━━━━━━━━━━━━━━━━\u001b[0m\u001b[37m\u001b[0m \u001b[1m1s\u001b[0m 7ms/step - loss: 5117.8926 - root_mean_squared_error: 71.4084 - val_loss: 8118.4399 - val_root_mean_squared_error: 90.1024\n",
      "Epoch 24/50\n",
      "\u001b[1m75/75\u001b[0m \u001b[32m━━━━━━━━━━━━━━━━━━━━\u001b[0m\u001b[37m\u001b[0m \u001b[1m1s\u001b[0m 7ms/step - loss: 4331.8726 - root_mean_squared_error: 65.6033 - val_loss: 7968.8311 - val_root_mean_squared_error: 89.2683\n",
      "Epoch 25/50\n",
      "\u001b[1m75/75\u001b[0m \u001b[32m━━━━━━━━━━━━━━━━━━━━\u001b[0m\u001b[37m\u001b[0m \u001b[1m1s\u001b[0m 7ms/step - loss: 4799.5752 - root_mean_squared_error: 69.2536 - val_loss: 8072.6738 - val_root_mean_squared_error: 89.8481\n",
      "Epoch 26/50\n",
      "\u001b[1m75/75\u001b[0m \u001b[32m━━━━━━━━━━━━━━━━━━━━\u001b[0m\u001b[37m\u001b[0m \u001b[1m1s\u001b[0m 7ms/step - loss: 4957.6299 - root_mean_squared_error: 70.3077 - val_loss: 8247.7900 - val_root_mean_squared_error: 90.8173\n",
      "Epoch 27/50\n",
      "\u001b[1m75/75\u001b[0m \u001b[32m━━━━━━━━━━━━━━━━━━━━\u001b[0m\u001b[37m\u001b[0m \u001b[1m1s\u001b[0m 7ms/step - loss: 4477.5352 - root_mean_squared_error: 66.8350 - val_loss: 7936.4990 - val_root_mean_squared_error: 89.0870\n",
      "Epoch 28/50\n",
      "\u001b[1m75/75\u001b[0m \u001b[32m━━━━━━━━━━━━━━━━━━━━\u001b[0m\u001b[37m\u001b[0m \u001b[1m1s\u001b[0m 7ms/step - loss: 5388.0464 - root_mean_squared_error: 73.2776 - val_loss: 8192.2539 - val_root_mean_squared_error: 90.5111\n",
      "Epoch 29/50\n",
      "\u001b[1m75/75\u001b[0m \u001b[32m━━━━━━━━━━━━━━━━━━━━\u001b[0m\u001b[37m\u001b[0m \u001b[1m1s\u001b[0m 7ms/step - loss: 5095.7178 - root_mean_squared_error: 71.1965 - val_loss: 8058.5918 - val_root_mean_squared_error: 89.7697\n",
      "Epoch 30/50\n",
      "\u001b[1m75/75\u001b[0m \u001b[32m━━━━━━━━━━━━━━━━━━━━\u001b[0m\u001b[37m\u001b[0m \u001b[1m0s\u001b[0m 6ms/step - loss: 4675.5078 - root_mean_squared_error: 68.2850 - val_loss: 8141.6738 - val_root_mean_squared_error: 90.2312\n",
      "Epoch 31/50\n",
      "\u001b[1m75/75\u001b[0m \u001b[32m━━━━━━━━━━━━━━━━━━━━\u001b[0m\u001b[37m\u001b[0m \u001b[1m1s\u001b[0m 6ms/step - loss: 5255.6558 - root_mean_squared_error: 72.3378 - val_loss: 8028.8359 - val_root_mean_squared_error: 89.6038\n",
      "Epoch 32/50\n",
      "\u001b[1m75/75\u001b[0m \u001b[32m━━━━━━━━━━━━━━━━━━━━\u001b[0m\u001b[37m\u001b[0m \u001b[1m1s\u001b[0m 6ms/step - loss: 5487.6748 - root_mean_squared_error: 73.8805 - val_loss: 8053.5044 - val_root_mean_squared_error: 89.7413\n",
      "Epoch 33/50\n",
      "\u001b[1m75/75\u001b[0m \u001b[32m━━━━━━━━━━━━━━━━━━━━\u001b[0m\u001b[37m\u001b[0m \u001b[1m1s\u001b[0m 7ms/step - loss: 4951.8008 - root_mean_squared_error: 70.2906 - val_loss: 8217.2061 - val_root_mean_squared_error: 90.6488\n",
      "Epoch 34/50\n",
      "\u001b[1m75/75\u001b[0m \u001b[32m━━━━━━━━━━━━━━━━━━━━\u001b[0m\u001b[37m\u001b[0m \u001b[1m1s\u001b[0m 6ms/step - loss: 4904.0942 - root_mean_squared_error: 69.9266 - val_loss: 8036.7412 - val_root_mean_squared_error: 89.6479\n",
      "Epoch 35/50\n",
      "\u001b[1m75/75\u001b[0m \u001b[32m━━━━━━━━━━━━━━━━━━━━\u001b[0m\u001b[37m\u001b[0m \u001b[1m0s\u001b[0m 6ms/step - loss: 4605.9502 - root_mean_squared_error: 67.8142 - val_loss: 8209.6924 - val_root_mean_squared_error: 90.6073\n",
      "Epoch 36/50\n",
      "\u001b[1m75/75\u001b[0m \u001b[32m━━━━━━━━━━━━━━━━━━━━\u001b[0m\u001b[37m\u001b[0m \u001b[1m1s\u001b[0m 7ms/step - loss: 5280.0249 - root_mean_squared_error: 72.4936 - val_loss: 8236.1104 - val_root_mean_squared_error: 90.7530\n",
      "Epoch 37/50\n",
      "\u001b[1m75/75\u001b[0m \u001b[32m━━━━━━━━━━━━━━━━━━━━\u001b[0m\u001b[37m\u001b[0m \u001b[1m1s\u001b[0m 7ms/step - loss: 5111.5327 - root_mean_squared_error: 71.3906 - val_loss: 8067.4771 - val_root_mean_squared_error: 89.8191\n",
      "Epoch 38/50\n",
      "\u001b[1m75/75\u001b[0m \u001b[32m━━━━━━━━━━━━━━━━━━━━\u001b[0m\u001b[37m\u001b[0m \u001b[1m1s\u001b[0m 7ms/step - loss: 4906.2817 - root_mean_squared_error: 69.8418 - val_loss: 8261.0059 - val_root_mean_squared_error: 90.8901\n",
      "Epoch 39/50\n",
      "\u001b[1m75/75\u001b[0m \u001b[32m━━━━━━━━━━━━━━━━━━━━\u001b[0m\u001b[37m\u001b[0m \u001b[1m1s\u001b[0m 7ms/step - loss: 6284.7734 - root_mean_squared_error: 78.9185 - val_loss: 8080.9258 - val_root_mean_squared_error: 89.8940\n",
      "Epoch 40/50\n",
      "\u001b[1m75/75\u001b[0m \u001b[32m━━━━━━━━━━━━━━━━━━━━\u001b[0m\u001b[37m\u001b[0m \u001b[1m0s\u001b[0m 6ms/step - loss: 5043.6489 - root_mean_squared_error: 70.8797 - val_loss: 8238.2979 - val_root_mean_squared_error: 90.7651\n",
      "Epoch 41/50\n",
      "\u001b[1m75/75\u001b[0m \u001b[32m━━━━━━━━━━━━━━━━━━━━\u001b[0m\u001b[37m\u001b[0m \u001b[1m1s\u001b[0m 7ms/step - loss: 4531.0996 - root_mean_squared_error: 67.2069 - val_loss: 8055.9556 - val_root_mean_squared_error: 89.7550\n",
      "Epoch 42/50\n",
      "\u001b[1m75/75\u001b[0m \u001b[32m━━━━━━━━━━━━━━━━━━━━\u001b[0m\u001b[37m\u001b[0m \u001b[1m1s\u001b[0m 7ms/step - loss: 5096.2632 - root_mean_squared_error: 71.3146 - val_loss: 8110.5537 - val_root_mean_squared_error: 90.0586\n",
      "Epoch 43/50\n",
      "\u001b[1m75/75\u001b[0m \u001b[32m━━━━━━━━━━━━━━━━━━━━\u001b[0m\u001b[37m\u001b[0m \u001b[1m1s\u001b[0m 7ms/step - loss: 5593.2349 - root_mean_squared_error: 74.4363 - val_loss: 8031.7158 - val_root_mean_squared_error: 89.6198\n",
      "Epoch 44/50\n",
      "\u001b[1m75/75\u001b[0m \u001b[32m━━━━━━━━━━━━━━━━━━━━\u001b[0m\u001b[37m\u001b[0m \u001b[1m1s\u001b[0m 7ms/step - loss: 5709.3096 - root_mean_squared_error: 75.3740 - val_loss: 7976.5039 - val_root_mean_squared_error: 89.3113\n",
      "Epoch 45/50\n",
      "\u001b[1m75/75\u001b[0m \u001b[32m━━━━━━━━━━━━━━━━━━━━\u001b[0m\u001b[37m\u001b[0m \u001b[1m1s\u001b[0m 7ms/step - loss: 6075.6226 - root_mean_squared_error: 77.2363 - val_loss: 8161.4536 - val_root_mean_squared_error: 90.3408\n",
      "Epoch 46/50\n",
      "\u001b[1m75/75\u001b[0m \u001b[32m━━━━━━━━━━━━━━━━━━━━\u001b[0m\u001b[37m\u001b[0m \u001b[1m1s\u001b[0m 7ms/step - loss: 5267.8140 - root_mean_squared_error: 72.3198 - val_loss: 8276.0352 - val_root_mean_squared_error: 90.9727\n",
      "Epoch 47/50\n",
      "\u001b[1m75/75\u001b[0m \u001b[32m━━━━━━━━━━━━━━━━━━━━\u001b[0m\u001b[37m\u001b[0m \u001b[1m1s\u001b[0m 6ms/step - loss: 5080.0557 - root_mean_squared_error: 71.2327 - val_loss: 8172.5103 - val_root_mean_squared_error: 90.4019\n",
      "Epoch 48/50\n",
      "\u001b[1m75/75\u001b[0m \u001b[32m━━━━━━━━━━━━━━━━━━━━\u001b[0m\u001b[37m\u001b[0m \u001b[1m1s\u001b[0m 6ms/step - loss: 5150.3071 - root_mean_squared_error: 71.6221 - val_loss: 8180.4678 - val_root_mean_squared_error: 90.4459\n",
      "Epoch 49/50\n",
      "\u001b[1m75/75\u001b[0m \u001b[32m━━━━━━━━━━━━━━━━━━━━\u001b[0m\u001b[37m\u001b[0m \u001b[1m1s\u001b[0m 7ms/step - loss: 5441.2964 - root_mean_squared_error: 73.6785 - val_loss: 8137.7847 - val_root_mean_squared_error: 90.2097\n",
      "Epoch 50/50\n",
      "\u001b[1m75/75\u001b[0m \u001b[32m━━━━━━━━━━━━━━━━━━━━\u001b[0m\u001b[37m\u001b[0m \u001b[1m1s\u001b[0m 7ms/step - loss: 5556.8789 - root_mean_squared_error: 74.1676 - val_loss: 8209.4561 - val_root_mean_squared_error: 90.6060\n"
     ]
    },
    {
     "data": {
      "text/plain": [
       "<keras.src.callbacks.history.History at 0x7b0180937fa0>"
      ]
     },
     "execution_count": 47,
     "metadata": {},
     "output_type": "execute_result"
    }
   ],
   "source": [
    "model7 = Sequential()\n",
    "model7.add(InputLayer((6, 6)))  # 6 timestamps, 6 features\n",
    "model7.add(BatchNormalization())  # Normalize inputs\n",
    "model7.add(GRU(64, activation='relu', return_sequences=True))  # GRU layer\n",
    "model7.add(Dropout(0.3)) \n",
    "model7.add(Dense(32, activation='relu'))  \n",
    "model7.add(Dense(1, activation='linear'))  \n",
    "\n",
    "cp7 = ModelCheckpoint('/kaggle/working/model7.keras', save_best_only=True)\n",
    "\n",
    "model7.compile(loss=MeanSquaredError(), optimizer=Adam(learning_rate=0.001), \n",
    "               metrics=[RootMeanSquaredError()])\n",
    "\n",
    "model6.fit(X_train1, y_train1, validation_data=(X_val1, y_val1), epochs=50, \n",
    "           callbacks=[cp7])"
   ]
  },
  {
   "cell_type": "code",
   "execution_count": null,
   "id": "77c7259e",
   "metadata": {
    "papermill": {
     "duration": 0.112229,
     "end_time": "2025-01-27T20:55:04.770071",
     "exception": false,
     "start_time": "2025-01-27T20:55:04.657842",
     "status": "completed"
    },
    "tags": []
   },
   "outputs": [],
   "source": []
  },
  {
   "cell_type": "markdown",
   "id": "384858ae",
   "metadata": {
    "papermill": {
     "duration": 0.110327,
     "end_time": "2025-01-27T20:55:04.994960",
     "exception": false,
     "start_time": "2025-01-27T20:55:04.884633",
     "status": "completed"
    },
    "tags": []
   },
   "source": [
    "# Hybrid CNN + LSTM"
   ]
  },
  {
   "cell_type": "code",
   "execution_count": 48,
   "id": "f5956ea9",
   "metadata": {
    "execution": {
     "iopub.execute_input": "2025-01-27T20:55:05.218327Z",
     "iopub.status.busy": "2025-01-27T20:55:05.217961Z",
     "iopub.status.idle": "2025-01-27T20:55:24.332157Z",
     "shell.execute_reply": "2025-01-27T20:55:24.330719Z"
    },
    "papermill": {
     "duration": 19.229567,
     "end_time": "2025-01-27T20:55:24.334451",
     "exception": false,
     "start_time": "2025-01-27T20:55:05.104884",
     "status": "completed"
    },
    "tags": []
   },
   "outputs": [
    {
     "name": "stdout",
     "output_type": "stream",
     "text": [
      "Epoch 1/50\n",
      "\u001b[1m75/75\u001b[0m \u001b[32m━━━━━━━━━━━━━━━━━━━━\u001b[0m\u001b[37m\u001b[0m \u001b[1m3s\u001b[0m 9ms/step - loss: 10552.7764 - root_mean_squared_error: 100.1522 - val_loss: 2486.3555 - val_root_mean_squared_error: 49.8634\n",
      "Epoch 2/50\n",
      "\u001b[1m75/75\u001b[0m \u001b[32m━━━━━━━━━━━━━━━━━━━━\u001b[0m\u001b[37m\u001b[0m \u001b[1m0s\u001b[0m 4ms/step - loss: 2957.7288 - root_mean_squared_error: 54.1005 - val_loss: 2641.3547 - val_root_mean_squared_error: 51.3941\n",
      "Epoch 3/50\n",
      "\u001b[1m75/75\u001b[0m \u001b[32m━━━━━━━━━━━━━━━━━━━━\u001b[0m\u001b[37m\u001b[0m \u001b[1m0s\u001b[0m 4ms/step - loss: 3134.5623 - root_mean_squared_error: 55.8039 - val_loss: 3066.5178 - val_root_mean_squared_error: 55.3761\n",
      "Epoch 4/50\n",
      "\u001b[1m75/75\u001b[0m \u001b[32m━━━━━━━━━━━━━━━━━━━━\u001b[0m\u001b[37m\u001b[0m \u001b[1m0s\u001b[0m 4ms/step - loss: 2807.1692 - root_mean_squared_error: 52.8494 - val_loss: 2184.0681 - val_root_mean_squared_error: 46.7340\n",
      "Epoch 5/50\n",
      "\u001b[1m75/75\u001b[0m \u001b[32m━━━━━━━━━━━━━━━━━━━━\u001b[0m\u001b[37m\u001b[0m \u001b[1m0s\u001b[0m 4ms/step - loss: 3451.3782 - root_mean_squared_error: 58.5846 - val_loss: 4461.2314 - val_root_mean_squared_error: 66.7924\n",
      "Epoch 6/50\n",
      "\u001b[1m75/75\u001b[0m \u001b[32m━━━━━━━━━━━━━━━━━━━━\u001b[0m\u001b[37m\u001b[0m \u001b[1m0s\u001b[0m 4ms/step - loss: 3683.8079 - root_mean_squared_error: 60.3280 - val_loss: 3299.5308 - val_root_mean_squared_error: 57.4415\n",
      "Epoch 7/50\n",
      "\u001b[1m75/75\u001b[0m \u001b[32m━━━━━━━━━━━━━━━━━━━━\u001b[0m\u001b[37m\u001b[0m \u001b[1m0s\u001b[0m 4ms/step - loss: 2245.3508 - root_mean_squared_error: 47.2507 - val_loss: 3300.1934 - val_root_mean_squared_error: 57.4473\n",
      "Epoch 8/50\n",
      "\u001b[1m75/75\u001b[0m \u001b[32m━━━━━━━━━━━━━━━━━━━━\u001b[0m\u001b[37m\u001b[0m \u001b[1m0s\u001b[0m 4ms/step - loss: 2403.1479 - root_mean_squared_error: 48.8476 - val_loss: 3564.6416 - val_root_mean_squared_error: 59.7046\n",
      "Epoch 9/50\n",
      "\u001b[1m75/75\u001b[0m \u001b[32m━━━━━━━━━━━━━━━━━━━━\u001b[0m\u001b[37m\u001b[0m \u001b[1m0s\u001b[0m 4ms/step - loss: 3198.0515 - root_mean_squared_error: 56.3363 - val_loss: 3822.3047 - val_root_mean_squared_error: 61.8248\n",
      "Epoch 10/50\n",
      "\u001b[1m75/75\u001b[0m \u001b[32m━━━━━━━━━━━━━━━━━━━━\u001b[0m\u001b[37m\u001b[0m \u001b[1m0s\u001b[0m 4ms/step - loss: 2347.0325 - root_mean_squared_error: 48.1895 - val_loss: 2848.9648 - val_root_mean_squared_error: 53.3757\n",
      "Epoch 11/50\n",
      "\u001b[1m75/75\u001b[0m \u001b[32m━━━━━━━━━━━━━━━━━━━━\u001b[0m\u001b[37m\u001b[0m \u001b[1m0s\u001b[0m 4ms/step - loss: 2455.1121 - root_mean_squared_error: 49.5000 - val_loss: 4687.1689 - val_root_mean_squared_error: 68.4629\n",
      "Epoch 12/50\n",
      "\u001b[1m75/75\u001b[0m \u001b[32m━━━━━━━━━━━━━━━━━━━━\u001b[0m\u001b[37m\u001b[0m \u001b[1m0s\u001b[0m 4ms/step - loss: 2523.3018 - root_mean_squared_error: 50.1917 - val_loss: 4069.3257 - val_root_mean_squared_error: 63.7913\n",
      "Epoch 13/50\n",
      "\u001b[1m75/75\u001b[0m \u001b[32m━━━━━━━━━━━━━━━━━━━━\u001b[0m\u001b[37m\u001b[0m \u001b[1m0s\u001b[0m 4ms/step - loss: 2168.0442 - root_mean_squared_error: 46.4403 - val_loss: 3762.8208 - val_root_mean_squared_error: 61.3418\n",
      "Epoch 14/50\n",
      "\u001b[1m75/75\u001b[0m \u001b[32m━━━━━━━━━━━━━━━━━━━━\u001b[0m\u001b[37m\u001b[0m \u001b[1m0s\u001b[0m 4ms/step - loss: 2645.7925 - root_mean_squared_error: 51.4080 - val_loss: 3879.3916 - val_root_mean_squared_error: 62.2848\n",
      "Epoch 15/50\n",
      "\u001b[1m75/75\u001b[0m \u001b[32m━━━━━━━━━━━━━━━━━━━━\u001b[0m\u001b[37m\u001b[0m \u001b[1m0s\u001b[0m 4ms/step - loss: 2443.2598 - root_mean_squared_error: 49.4043 - val_loss: 4650.9824 - val_root_mean_squared_error: 68.1981\n",
      "Epoch 16/50\n",
      "\u001b[1m75/75\u001b[0m \u001b[32m━━━━━━━━━━━━━━━━━━━━\u001b[0m\u001b[37m\u001b[0m \u001b[1m0s\u001b[0m 4ms/step - loss: 2697.3232 - root_mean_squared_error: 51.7407 - val_loss: 4549.9614 - val_root_mean_squared_error: 67.4534\n",
      "Epoch 17/50\n",
      "\u001b[1m75/75\u001b[0m \u001b[32m━━━━━━━━━━━━━━━━━━━━\u001b[0m\u001b[37m\u001b[0m \u001b[1m0s\u001b[0m 4ms/step - loss: 3491.0774 - root_mean_squared_error: 58.0258 - val_loss: 5206.8979 - val_root_mean_squared_error: 72.1588\n",
      "Epoch 18/50\n",
      "\u001b[1m75/75\u001b[0m \u001b[32m━━━━━━━━━━━━━━━━━━━━\u001b[0m\u001b[37m\u001b[0m \u001b[1m0s\u001b[0m 4ms/step - loss: 2836.4534 - root_mean_squared_error: 53.0382 - val_loss: 4179.6641 - val_root_mean_squared_error: 64.6503\n",
      "Epoch 19/50\n",
      "\u001b[1m75/75\u001b[0m \u001b[32m━━━━━━━━━━━━━━━━━━━━\u001b[0m\u001b[37m\u001b[0m \u001b[1m0s\u001b[0m 4ms/step - loss: 2384.6487 - root_mean_squared_error: 48.7443 - val_loss: 4059.3860 - val_root_mean_squared_error: 63.7133\n",
      "Epoch 20/50\n",
      "\u001b[1m75/75\u001b[0m \u001b[32m━━━━━━━━━━━━━━━━━━━━\u001b[0m\u001b[37m\u001b[0m \u001b[1m0s\u001b[0m 4ms/step - loss: 2925.0166 - root_mean_squared_error: 53.8105 - val_loss: 4524.1807 - val_root_mean_squared_error: 67.2620\n",
      "Epoch 21/50\n",
      "\u001b[1m75/75\u001b[0m \u001b[32m━━━━━━━━━━━━━━━━━━━━\u001b[0m\u001b[37m\u001b[0m \u001b[1m0s\u001b[0m 4ms/step - loss: 2031.8289 - root_mean_squared_error: 44.9251 - val_loss: 3802.5764 - val_root_mean_squared_error: 61.6650\n",
      "Epoch 22/50\n",
      "\u001b[1m75/75\u001b[0m \u001b[32m━━━━━━━━━━━━━━━━━━━━\u001b[0m\u001b[37m\u001b[0m \u001b[1m0s\u001b[0m 4ms/step - loss: 2239.9727 - root_mean_squared_error: 47.2750 - val_loss: 4372.3730 - val_root_mean_squared_error: 66.1239\n",
      "Epoch 23/50\n",
      "\u001b[1m75/75\u001b[0m \u001b[32m━━━━━━━━━━━━━━━━━━━━\u001b[0m\u001b[37m\u001b[0m \u001b[1m0s\u001b[0m 4ms/step - loss: 2386.7800 - root_mean_squared_error: 48.7794 - val_loss: 3987.8596 - val_root_mean_squared_error: 63.1495\n",
      "Epoch 24/50\n",
      "\u001b[1m75/75\u001b[0m \u001b[32m━━━━━━━━━━━━━━━━━━━━\u001b[0m\u001b[37m\u001b[0m \u001b[1m0s\u001b[0m 4ms/step - loss: 2690.4231 - root_mean_squared_error: 51.6267 - val_loss: 4730.3516 - val_root_mean_squared_error: 68.7775\n",
      "Epoch 25/50\n",
      "\u001b[1m75/75\u001b[0m \u001b[32m━━━━━━━━━━━━━━━━━━━━\u001b[0m\u001b[37m\u001b[0m \u001b[1m0s\u001b[0m 4ms/step - loss: 2145.0789 - root_mean_squared_error: 46.1399 - val_loss: 3826.4819 - val_root_mean_squared_error: 61.8586\n",
      "Epoch 26/50\n",
      "\u001b[1m75/75\u001b[0m \u001b[32m━━━━━━━━━━━━━━━━━━━━\u001b[0m\u001b[37m\u001b[0m \u001b[1m0s\u001b[0m 4ms/step - loss: 3201.6418 - root_mean_squared_error: 56.3665 - val_loss: 4861.0728 - val_root_mean_squared_error: 69.7214\n",
      "Epoch 27/50\n",
      "\u001b[1m75/75\u001b[0m \u001b[32m━━━━━━━━━━━━━━━━━━━━\u001b[0m\u001b[37m\u001b[0m \u001b[1m0s\u001b[0m 4ms/step - loss: 2971.1638 - root_mean_squared_error: 54.2578 - val_loss: 4903.9663 - val_root_mean_squared_error: 70.0283\n",
      "Epoch 28/50\n",
      "\u001b[1m75/75\u001b[0m \u001b[32m━━━━━━━━━━━━━━━━━━━━\u001b[0m\u001b[37m\u001b[0m \u001b[1m0s\u001b[0m 4ms/step - loss: 1946.3829 - root_mean_squared_error: 44.0187 - val_loss: 5242.1841 - val_root_mean_squared_error: 72.4029\n",
      "Epoch 29/50\n",
      "\u001b[1m75/75\u001b[0m \u001b[32m━━━━━━━━━━━━━━━━━━━━\u001b[0m\u001b[37m\u001b[0m \u001b[1m0s\u001b[0m 4ms/step - loss: 2435.8445 - root_mean_squared_error: 48.8337 - val_loss: 4507.5664 - val_root_mean_squared_error: 67.1384\n",
      "Epoch 30/50\n",
      "\u001b[1m75/75\u001b[0m \u001b[32m━━━━━━━━━━━━━━━━━━━━\u001b[0m\u001b[37m\u001b[0m \u001b[1m0s\u001b[0m 4ms/step - loss: 2288.1155 - root_mean_squared_error: 47.7015 - val_loss: 5457.8452 - val_root_mean_squared_error: 73.8772\n",
      "Epoch 31/50\n",
      "\u001b[1m75/75\u001b[0m \u001b[32m━━━━━━━━━━━━━━━━━━━━\u001b[0m\u001b[37m\u001b[0m \u001b[1m0s\u001b[0m 4ms/step - loss: 2810.6179 - root_mean_squared_error: 52.5320 - val_loss: 4561.5996 - val_root_mean_squared_error: 67.5396\n",
      "Epoch 32/50\n",
      "\u001b[1m75/75\u001b[0m \u001b[32m━━━━━━━━━━━━━━━━━━━━\u001b[0m\u001b[37m\u001b[0m \u001b[1m0s\u001b[0m 4ms/step - loss: 2260.6731 - root_mean_squared_error: 47.2411 - val_loss: 4052.2390 - val_root_mean_squared_error: 63.6572\n",
      "Epoch 33/50\n",
      "\u001b[1m75/75\u001b[0m \u001b[32m━━━━━━━━━━━━━━━━━━━━\u001b[0m\u001b[37m\u001b[0m \u001b[1m0s\u001b[0m 4ms/step - loss: 2601.7246 - root_mean_squared_error: 50.9586 - val_loss: 4464.4927 - val_root_mean_squared_error: 66.8169\n",
      "Epoch 34/50\n",
      "\u001b[1m75/75\u001b[0m \u001b[32m━━━━━━━━━━━━━━━━━━━━\u001b[0m\u001b[37m\u001b[0m \u001b[1m0s\u001b[0m 4ms/step - loss: 2257.6326 - root_mean_squared_error: 47.4453 - val_loss: 4074.0894 - val_root_mean_squared_error: 63.8286\n",
      "Epoch 35/50\n",
      "\u001b[1m75/75\u001b[0m \u001b[32m━━━━━━━━━━━━━━━━━━━━\u001b[0m\u001b[37m\u001b[0m \u001b[1m0s\u001b[0m 4ms/step - loss: 2616.6221 - root_mean_squared_error: 51.0804 - val_loss: 5450.8164 - val_root_mean_squared_error: 73.8296\n",
      "Epoch 36/50\n",
      "\u001b[1m75/75\u001b[0m \u001b[32m━━━━━━━━━━━━━━━━━━━━\u001b[0m\u001b[37m\u001b[0m \u001b[1m0s\u001b[0m 4ms/step - loss: 3241.2048 - root_mean_squared_error: 56.0893 - val_loss: 4784.5425 - val_root_mean_squared_error: 69.1704\n",
      "Epoch 37/50\n",
      "\u001b[1m75/75\u001b[0m \u001b[32m━━━━━━━━━━━━━━━━━━━━\u001b[0m\u001b[37m\u001b[0m \u001b[1m0s\u001b[0m 4ms/step - loss: 2025.5385 - root_mean_squared_error: 44.6900 - val_loss: 3691.6562 - val_root_mean_squared_error: 60.7590\n",
      "Epoch 38/50\n",
      "\u001b[1m75/75\u001b[0m \u001b[32m━━━━━━━━━━━━━━━━━━━━\u001b[0m\u001b[37m\u001b[0m \u001b[1m0s\u001b[0m 4ms/step - loss: 3145.6931 - root_mean_squared_error: 55.6376 - val_loss: 6581.6064 - val_root_mean_squared_error: 81.1271\n",
      "Epoch 39/50\n",
      "\u001b[1m75/75\u001b[0m \u001b[32m━━━━━━━━━━━━━━━━━━━━\u001b[0m\u001b[37m\u001b[0m \u001b[1m0s\u001b[0m 4ms/step - loss: 2188.7439 - root_mean_squared_error: 46.3372 - val_loss: 5656.9927 - val_root_mean_squared_error: 75.2130\n",
      "Epoch 40/50\n",
      "\u001b[1m75/75\u001b[0m \u001b[32m━━━━━━━━━━━━━━━━━━━━\u001b[0m\u001b[37m\u001b[0m \u001b[1m0s\u001b[0m 4ms/step - loss: 2211.2510 - root_mean_squared_error: 46.8971 - val_loss: 4534.4487 - val_root_mean_squared_error: 67.3383\n",
      "Epoch 41/50\n",
      "\u001b[1m75/75\u001b[0m \u001b[32m━━━━━━━━━━━━━━━━━━━━\u001b[0m\u001b[37m\u001b[0m \u001b[1m0s\u001b[0m 4ms/step - loss: 2284.2781 - root_mean_squared_error: 47.6258 - val_loss: 4488.7109 - val_root_mean_squared_error: 66.9978\n",
      "Epoch 42/50\n",
      "\u001b[1m75/75\u001b[0m \u001b[32m━━━━━━━━━━━━━━━━━━━━\u001b[0m\u001b[37m\u001b[0m \u001b[1m0s\u001b[0m 4ms/step - loss: 2290.7820 - root_mean_squared_error: 47.6805 - val_loss: 4075.1021 - val_root_mean_squared_error: 63.8365\n",
      "Epoch 43/50\n",
      "\u001b[1m75/75\u001b[0m \u001b[32m━━━━━━━━━━━━━━━━━━━━\u001b[0m\u001b[37m\u001b[0m \u001b[1m0s\u001b[0m 4ms/step - loss: 2639.9241 - root_mean_squared_error: 51.2765 - val_loss: 4874.8442 - val_root_mean_squared_error: 69.8201\n",
      "Epoch 44/50\n",
      "\u001b[1m75/75\u001b[0m \u001b[32m━━━━━━━━━━━━━━━━━━━━\u001b[0m\u001b[37m\u001b[0m \u001b[1m0s\u001b[0m 4ms/step - loss: 2337.8760 - root_mean_squared_error: 48.2121 - val_loss: 3871.7158 - val_root_mean_squared_error: 62.2231\n",
      "Epoch 45/50\n",
      "\u001b[1m75/75\u001b[0m \u001b[32m━━━━━━━━━━━━━━━━━━━━\u001b[0m\u001b[37m\u001b[0m \u001b[1m0s\u001b[0m 4ms/step - loss: 2365.7368 - root_mean_squared_error: 48.4133 - val_loss: 4435.5947 - val_root_mean_squared_error: 66.6003\n",
      "Epoch 46/50\n",
      "\u001b[1m75/75\u001b[0m \u001b[32m━━━━━━━━━━━━━━━━━━━━\u001b[0m\u001b[37m\u001b[0m \u001b[1m0s\u001b[0m 4ms/step - loss: 2733.0151 - root_mean_squared_error: 52.0628 - val_loss: 3404.2207 - val_root_mean_squared_error: 58.3457\n",
      "Epoch 47/50\n",
      "\u001b[1m75/75\u001b[0m \u001b[32m━━━━━━━━━━━━━━━━━━━━\u001b[0m\u001b[37m\u001b[0m \u001b[1m0s\u001b[0m 4ms/step - loss: 2393.1560 - root_mean_squared_error: 48.7997 - val_loss: 5191.3477 - val_root_mean_squared_error: 72.0510\n",
      "Epoch 48/50\n",
      "\u001b[1m75/75\u001b[0m \u001b[32m━━━━━━━━━━━━━━━━━━━━\u001b[0m\u001b[37m\u001b[0m \u001b[1m0s\u001b[0m 4ms/step - loss: 2166.2163 - root_mean_squared_error: 46.4359 - val_loss: 6151.8433 - val_root_mean_squared_error: 78.4337\n",
      "Epoch 49/50\n",
      "\u001b[1m75/75\u001b[0m \u001b[32m━━━━━━━━━━━━━━━━━━━━\u001b[0m\u001b[37m\u001b[0m \u001b[1m0s\u001b[0m 4ms/step - loss: 2286.9050 - root_mean_squared_error: 47.6590 - val_loss: 5293.0317 - val_root_mean_squared_error: 72.7532\n",
      "Epoch 50/50\n",
      "\u001b[1m75/75\u001b[0m \u001b[32m━━━━━━━━━━━━━━━━━━━━\u001b[0m\u001b[37m\u001b[0m \u001b[1m0s\u001b[0m 4ms/step - loss: 2357.6328 - root_mean_squared_error: 48.3649 - val_loss: 4773.8340 - val_root_mean_squared_error: 69.0929\n"
     ]
    },
    {
     "data": {
      "text/plain": [
       "<keras.src.callbacks.history.History at 0x7b01809bcd90>"
      ]
     },
     "execution_count": 48,
     "metadata": {},
     "output_type": "execute_result"
    }
   ],
   "source": [
    "model8 = Sequential()\n",
    "model8.add(InputLayer((6, 6)))  # 6 timestamps, 6 features\n",
    "model8.add(Conv1D(32, kernel_size=2, activation='relu'))  # 1D Convolutional Layer\n",
    "model8.add(MaxPooling1D(pool_size=2))  # Max Pooling\n",
    "model8.add(LSTM(64, activation='relu', return_sequences=False))  \n",
    "model8.add(Dropout(0.3))  \n",
    "model8.add(Dense(32, activation='relu'))  \n",
    "model8.add(Dense(1, activation='linear'))  \n",
    "\n",
    "cp8 = ModelCheckpoint('/kaggle/working/model8.keras', save_best_only=True)\n",
    "\n",
    "model8.compile(loss=MeanSquaredError(), optimizer=Adam(learning_rate=0.001), \n",
    "               metrics=[RootMeanSquaredError()])\n",
    "\n",
    "model8.fit(X_train1, y_train1, validation_data=(X_val1, y_val1), epochs=50, \n",
    "           callbacks=[cp8])"
   ]
  },
  {
   "cell_type": "code",
   "execution_count": 49,
   "id": "70bf5be7",
   "metadata": {
    "execution": {
     "iopub.execute_input": "2025-01-27T20:55:24.603021Z",
     "iopub.status.busy": "2025-01-27T20:55:24.602610Z",
     "iopub.status.idle": "2025-01-27T20:55:24.749183Z",
     "shell.execute_reply": "2025-01-27T20:55:24.747956Z"
    },
    "papermill": {
     "duration": 0.282419,
     "end_time": "2025-01-27T20:55:24.751360",
     "exception": false,
     "start_time": "2025-01-27T20:55:24.468941",
     "status": "completed"
    },
    "tags": []
   },
   "outputs": [],
   "source": [
    "from tensorflow.keras.models import load_model\n",
    "model8 = load_model('/kaggle/working/model8.keras')"
   ]
  },
  {
   "cell_type": "code",
   "execution_count": 50,
   "id": "6cf0bc6d",
   "metadata": {
    "execution": {
     "iopub.execute_input": "2025-01-27T20:55:25.014613Z",
     "iopub.status.busy": "2025-01-27T20:55:25.014233Z",
     "iopub.status.idle": "2025-01-27T20:55:25.585015Z",
     "shell.execute_reply": "2025-01-27T20:55:25.583918Z"
    },
    "papermill": {
     "duration": 0.703176,
     "end_time": "2025-01-27T20:55:25.587180",
     "exception": false,
     "start_time": "2025-01-27T20:55:24.884004",
     "status": "completed"
    },
    "tags": []
   },
   "outputs": [
    {
     "name": "stdout",
     "output_type": "stream",
     "text": [
      "\u001b[1m75/75\u001b[0m \u001b[32m━━━━━━━━━━━━━━━━━━━━\u001b[0m\u001b[37m\u001b[0m \u001b[1m0s\u001b[0m 4ms/step\n",
      "Evaluation Metrics:\n",
      "Mean Absolute Error (MAE): 27.6042\n",
      "Mean Squared Error (MSE): 2635.2008\n",
      "Root Mean Squared Error (RMSE): 51.3342\n",
      "R-squared (Accuracy): 0.4670\n"
     ]
    }
   ],
   "source": [
    "# Evaluate the model on the train data\n",
    "train_result = model8.predict(X_train1)\n",
    "\n",
    "# Calculate metrics\n",
    "mse = mean_squared_error(y_train1, train_result)\n",
    "rmse = np.sqrt(mse)\n",
    "mae = mean_absolute_error(y_train1, train_result)\n",
    "r2 = r2_score(y_train1, train_result)\n",
    "\n",
    "# Print the results\n",
    "print(\"Evaluation Metrics:\")\n",
    "print(f\"Mean Absolute Error (MAE): {mae:.4f}\")\n",
    "print(f\"Mean Squared Error (MSE): {mse:.4f}\")\n",
    "print(f\"Root Mean Squared Error (RMSE): {rmse:.4f}\")\n",
    "print(f\"R-squared (Accuracy): {r2:.4f}\")"
   ]
  },
  {
   "cell_type": "code",
   "execution_count": 51,
   "id": "4fb23760",
   "metadata": {
    "execution": {
     "iopub.execute_input": "2025-01-27T20:55:25.912392Z",
     "iopub.status.busy": "2025-01-27T20:55:25.911948Z",
     "iopub.status.idle": "2025-01-27T20:55:26.027311Z",
     "shell.execute_reply": "2025-01-27T20:55:26.025898Z"
    },
    "papermill": {
     "duration": 0.310686,
     "end_time": "2025-01-27T20:55:26.029246",
     "exception": false,
     "start_time": "2025-01-27T20:55:25.718560",
     "status": "completed"
    },
    "tags": []
   },
   "outputs": [
    {
     "name": "stdout",
     "output_type": "stream",
     "text": [
      "\u001b[1m15/15\u001b[0m \u001b[32m━━━━━━━━━━━━━━━━━━━━\u001b[0m\u001b[37m\u001b[0m \u001b[1m0s\u001b[0m 2ms/step \n",
      "Evaluation Metrics:\n",
      "Mean Absolute Error (MAE): 33.2885\n",
      "Mean Squared Error (MSE): 2184.0681\n",
      "Root Mean Squared Error (RMSE): 46.7340\n",
      "R-squared (Accuracy): 0.7216\n"
     ]
    }
   ],
   "source": [
    "# Evaluate the model on the validation data\n",
    "val_result = model8.predict(X_val1)\n",
    "\n",
    "# Calculate metrics\n",
    "mse = mean_squared_error(y_val1, val_result)\n",
    "rmse = np.sqrt(mse)\n",
    "mae = mean_absolute_error(y_val1, val_result)\n",
    "r2 = r2_score(y_val1, val_result)\n",
    "\n",
    "# Print the results\n",
    "print(\"Evaluation Metrics:\")\n",
    "print(f\"Mean Absolute Error (MAE): {mae:.4f}\")\n",
    "print(f\"Mean Squared Error (MSE): {mse:.4f}\")\n",
    "print(f\"Root Mean Squared Error (RMSE): {rmse:.4f}\")\n",
    "print(f\"R-squared (Accuracy): {r2:.4f}\")"
   ]
  },
  {
   "cell_type": "code",
   "execution_count": 52,
   "id": "a6a1e2cd",
   "metadata": {
    "execution": {
     "iopub.execute_input": "2025-01-27T20:55:26.294562Z",
     "iopub.status.busy": "2025-01-27T20:55:26.294197Z",
     "iopub.status.idle": "2025-01-27T20:55:26.396943Z",
     "shell.execute_reply": "2025-01-27T20:55:26.395476Z"
    },
    "papermill": {
     "duration": 0.238516,
     "end_time": "2025-01-27T20:55:26.399075",
     "exception": false,
     "start_time": "2025-01-27T20:55:26.160559",
     "status": "completed"
    },
    "tags": []
   },
   "outputs": [
    {
     "name": "stdout",
     "output_type": "stream",
     "text": [
      "\u001b[1m10/10\u001b[0m \u001b[32m━━━━━━━━━━━━━━━━━━━━\u001b[0m\u001b[37m\u001b[0m \u001b[1m0s\u001b[0m 2ms/step \n",
      "Evaluation Metrics:\n",
      "Mean Absolute Error (MAE): 25.9089\n",
      "Mean Squared Error (MSE): 1341.9794\n",
      "Root Mean Squared Error (RMSE): 36.6330\n",
      "R-squared (Accuracy): 0.5939\n"
     ]
    }
   ],
   "source": [
    "# Evaluate the model on the test data\n",
    "test_result = model8.predict(X_test1)\n",
    "\n",
    "# Calculate metrics\n",
    "mse = mean_squared_error(y_test1, test_result)\n",
    "rmse = np.sqrt(mse)\n",
    "mae = mean_absolute_error(y_test1, test_result)\n",
    "r2 = r2_score(y_test1, test_result)\n",
    "\n",
    "# Print the results\n",
    "print(\"Evaluation Metrics:\")\n",
    "print(f\"Mean Absolute Error (MAE): {mae:.4f}\")\n",
    "print(f\"Mean Squared Error (MSE): {mse:.4f}\")\n",
    "print(f\"Root Mean Squared Error (RMSE): {rmse:.4f}\")\n",
    "print(f\"R-squared (Accuracy): {r2:.4f}\")"
   ]
  },
  {
   "cell_type": "code",
   "execution_count": null,
   "id": "053cdbd5",
   "metadata": {
    "papermill": {
     "duration": 0.134677,
     "end_time": "2025-01-27T20:55:26.667140",
     "exception": false,
     "start_time": "2025-01-27T20:55:26.532463",
     "status": "completed"
    },
    "tags": []
   },
   "outputs": [],
   "source": []
  },
  {
   "cell_type": "markdown",
   "id": "eb0c14a5",
   "metadata": {
    "papermill": {
     "duration": 0.134903,
     "end_time": "2025-01-27T20:55:26.941888",
     "exception": false,
     "start_time": "2025-01-27T20:55:26.806985",
     "status": "completed"
    },
    "tags": []
   },
   "source": [
    "# **Advanced Stacked GRU + Dense**"
   ]
  },
  {
   "cell_type": "code",
   "execution_count": 53,
   "id": "5d58a0be",
   "metadata": {
    "execution": {
     "iopub.execute_input": "2025-01-27T20:55:27.211328Z",
     "iopub.status.busy": "2025-01-27T20:55:27.210912Z",
     "iopub.status.idle": "2025-01-27T20:56:18.442929Z",
     "shell.execute_reply": "2025-01-27T20:56:18.441594Z"
    },
    "papermill": {
     "duration": 51.369061,
     "end_time": "2025-01-27T20:56:18.444811",
     "exception": false,
     "start_time": "2025-01-27T20:55:27.075750",
     "status": "completed"
    },
    "tags": []
   },
   "outputs": [
    {
     "name": "stdout",
     "output_type": "stream",
     "text": [
      "Epoch 1/50\n",
      "\u001b[1m75/75\u001b[0m \u001b[32m━━━━━━━━━━━━━━━━━━━━\u001b[0m\u001b[37m\u001b[0m \u001b[1m6s\u001b[0m 19ms/step - loss: 25589.3984 - root_mean_squared_error: 158.7757 - val_loss: 4160.5576 - val_root_mean_squared_error: 64.5024\n",
      "Epoch 2/50\n",
      "\u001b[1m75/75\u001b[0m \u001b[32m━━━━━━━━━━━━━━━━━━━━\u001b[0m\u001b[37m\u001b[0m \u001b[1m1s\u001b[0m 12ms/step - loss: 3724.9658 - root_mean_squared_error: 60.9501 - val_loss: 1908.4205 - val_root_mean_squared_error: 43.6855\n",
      "Epoch 3/50\n",
      "\u001b[1m75/75\u001b[0m \u001b[32m━━━━━━━━━━━━━━━━━━━━\u001b[0m\u001b[37m\u001b[0m \u001b[1m1s\u001b[0m 11ms/step - loss: 2386.9604 - root_mean_squared_error: 48.7597 - val_loss: 2033.1021 - val_root_mean_squared_error: 45.0899\n",
      "Epoch 4/50\n",
      "\u001b[1m75/75\u001b[0m \u001b[32m━━━━━━━━━━━━━━━━━━━━\u001b[0m\u001b[37m\u001b[0m \u001b[1m1s\u001b[0m 12ms/step - loss: 2958.6399 - root_mean_squared_error: 53.9257 - val_loss: 1888.6566 - val_root_mean_squared_error: 43.4587\n",
      "Epoch 5/50\n",
      "\u001b[1m75/75\u001b[0m \u001b[32m━━━━━━━━━━━━━━━━━━━━\u001b[0m\u001b[37m\u001b[0m \u001b[1m1s\u001b[0m 12ms/step - loss: 2538.9636 - root_mean_squared_error: 50.3039 - val_loss: 1550.4958 - val_root_mean_squared_error: 39.3763\n",
      "Epoch 6/50\n",
      "\u001b[1m75/75\u001b[0m \u001b[32m━━━━━━━━━━━━━━━━━━━━\u001b[0m\u001b[37m\u001b[0m \u001b[1m1s\u001b[0m 12ms/step - loss: 1954.5974 - root_mean_squared_error: 43.9894 - val_loss: 1653.1638 - val_root_mean_squared_error: 40.6591\n",
      "Epoch 7/50\n",
      "\u001b[1m75/75\u001b[0m \u001b[32m━━━━━━━━━━━━━━━━━━━━\u001b[0m\u001b[37m\u001b[0m \u001b[1m1s\u001b[0m 12ms/step - loss: 2353.9744 - root_mean_squared_error: 48.2637 - val_loss: 1361.6052 - val_root_mean_squared_error: 36.8999\n",
      "Epoch 8/50\n",
      "\u001b[1m75/75\u001b[0m \u001b[32m━━━━━━━━━━━━━━━━━━━━\u001b[0m\u001b[37m\u001b[0m \u001b[1m1s\u001b[0m 12ms/step - loss: 2075.4866 - root_mean_squared_error: 45.4060 - val_loss: 2311.8882 - val_root_mean_squared_error: 48.0821\n",
      "Epoch 9/50\n",
      "\u001b[1m75/75\u001b[0m \u001b[32m━━━━━━━━━━━━━━━━━━━━\u001b[0m\u001b[37m\u001b[0m \u001b[1m1s\u001b[0m 14ms/step - loss: 1956.7382 - root_mean_squared_error: 44.0146 - val_loss: 1266.2372 - val_root_mean_squared_error: 35.5842\n",
      "Epoch 10/50\n",
      "\u001b[1m75/75\u001b[0m \u001b[32m━━━━━━━━━━━━━━━━━━━━\u001b[0m\u001b[37m\u001b[0m \u001b[1m1s\u001b[0m 13ms/step - loss: 1742.2179 - root_mean_squared_error: 41.4070 - val_loss: 1233.0654 - val_root_mean_squared_error: 35.1150\n",
      "Epoch 11/50\n",
      "\u001b[1m75/75\u001b[0m \u001b[32m━━━━━━━━━━━━━━━━━━━━\u001b[0m\u001b[37m\u001b[0m \u001b[1m1s\u001b[0m 12ms/step - loss: 1934.0885 - root_mean_squared_error: 43.5063 - val_loss: 1246.1729 - val_root_mean_squared_error: 35.3012\n",
      "Epoch 12/50\n",
      "\u001b[1m75/75\u001b[0m \u001b[32m━━━━━━━━━━━━━━━━━━━━\u001b[0m\u001b[37m\u001b[0m \u001b[1m1s\u001b[0m 11ms/step - loss: 1841.3020 - root_mean_squared_error: 42.8068 - val_loss: 1401.8700 - val_root_mean_squared_error: 37.4416\n",
      "Epoch 13/50\n",
      "\u001b[1m75/75\u001b[0m \u001b[32m━━━━━━━━━━━━━━━━━━━━\u001b[0m\u001b[37m\u001b[0m \u001b[1m1s\u001b[0m 12ms/step - loss: 1929.9348 - root_mean_squared_error: 43.7885 - val_loss: 1207.1422 - val_root_mean_squared_error: 34.7440\n",
      "Epoch 14/50\n",
      "\u001b[1m75/75\u001b[0m \u001b[32m━━━━━━━━━━━━━━━━━━━━\u001b[0m\u001b[37m\u001b[0m \u001b[1m1s\u001b[0m 11ms/step - loss: 1921.5920 - root_mean_squared_error: 43.7519 - val_loss: 1349.7443 - val_root_mean_squared_error: 36.7389\n",
      "Epoch 15/50\n",
      "\u001b[1m75/75\u001b[0m \u001b[32m━━━━━━━━━━━━━━━━━━━━\u001b[0m\u001b[37m\u001b[0m \u001b[1m1s\u001b[0m 12ms/step - loss: 1598.2842 - root_mean_squared_error: 39.9004 - val_loss: 1178.6528 - val_root_mean_squared_error: 34.3315\n",
      "Epoch 16/50\n",
      "\u001b[1m75/75\u001b[0m \u001b[32m━━━━━━━━━━━━━━━━━━━━\u001b[0m\u001b[37m\u001b[0m \u001b[1m1s\u001b[0m 12ms/step - loss: 2045.4541 - root_mean_squared_error: 44.9719 - val_loss: 1601.4141 - val_root_mean_squared_error: 40.0177\n",
      "Epoch 17/50\n",
      "\u001b[1m75/75\u001b[0m \u001b[32m━━━━━━━━━━━━━━━━━━━━\u001b[0m\u001b[37m\u001b[0m \u001b[1m1s\u001b[0m 12ms/step - loss: 1874.1600 - root_mean_squared_error: 43.1989 - val_loss: 1135.5311 - val_root_mean_squared_error: 33.6976\n",
      "Epoch 18/50\n",
      "\u001b[1m75/75\u001b[0m \u001b[32m━━━━━━━━━━━━━━━━━━━━\u001b[0m\u001b[37m\u001b[0m \u001b[1m1s\u001b[0m 12ms/step - loss: 1828.5984 - root_mean_squared_error: 42.5183 - val_loss: 1148.1332 - val_root_mean_squared_error: 33.8841\n",
      "Epoch 19/50\n",
      "\u001b[1m75/75\u001b[0m \u001b[32m━━━━━━━━━━━━━━━━━━━━\u001b[0m\u001b[37m\u001b[0m \u001b[1m1s\u001b[0m 12ms/step - loss: 1759.0121 - root_mean_squared_error: 41.7919 - val_loss: 1135.4642 - val_root_mean_squared_error: 33.6967\n",
      "Epoch 20/50\n",
      "\u001b[1m75/75\u001b[0m \u001b[32m━━━━━━━━━━━━━━━━━━━━\u001b[0m\u001b[37m\u001b[0m \u001b[1m1s\u001b[0m 11ms/step - loss: 1622.5372 - root_mean_squared_error: 40.1146 - val_loss: 1208.3416 - val_root_mean_squared_error: 34.7612\n",
      "Epoch 21/50\n",
      "\u001b[1m75/75\u001b[0m \u001b[32m━━━━━━━━━━━━━━━━━━━━\u001b[0m\u001b[37m\u001b[0m \u001b[1m1s\u001b[0m 12ms/step - loss: 1858.8411 - root_mean_squared_error: 43.0017 - val_loss: 1125.4270 - val_root_mean_squared_error: 33.5474\n",
      "Epoch 22/50\n",
      "\u001b[1m75/75\u001b[0m \u001b[32m━━━━━━━━━━━━━━━━━━━━\u001b[0m\u001b[37m\u001b[0m \u001b[1m1s\u001b[0m 11ms/step - loss: 1808.4297 - root_mean_squared_error: 42.4229 - val_loss: 1414.5887 - val_root_mean_squared_error: 37.6110\n",
      "Epoch 23/50\n",
      "\u001b[1m75/75\u001b[0m \u001b[32m━━━━━━━━━━━━━━━━━━━━\u001b[0m\u001b[37m\u001b[0m \u001b[1m1s\u001b[0m 12ms/step - loss: 1483.7766 - root_mean_squared_error: 38.4526 - val_loss: 1184.2378 - val_root_mean_squared_error: 34.4128\n",
      "Epoch 24/50\n",
      "\u001b[1m75/75\u001b[0m \u001b[32m━━━━━━━━━━━━━━━━━━━━\u001b[0m\u001b[37m\u001b[0m \u001b[1m1s\u001b[0m 12ms/step - loss: 2350.4448 - root_mean_squared_error: 47.5527 - val_loss: 1073.1058 - val_root_mean_squared_error: 32.7583\n",
      "Epoch 25/50\n",
      "\u001b[1m75/75\u001b[0m \u001b[32m━━━━━━━━━━━━━━━━━━━━\u001b[0m\u001b[37m\u001b[0m \u001b[1m1s\u001b[0m 11ms/step - loss: 1811.7468 - root_mean_squared_error: 42.4159 - val_loss: 1273.1740 - val_root_mean_squared_error: 35.6816\n",
      "Epoch 26/50\n",
      "\u001b[1m75/75\u001b[0m \u001b[32m━━━━━━━━━━━━━━━━━━━━\u001b[0m\u001b[37m\u001b[0m \u001b[1m1s\u001b[0m 12ms/step - loss: 2093.8862 - root_mean_squared_error: 45.1470 - val_loss: 1118.9381 - val_root_mean_squared_error: 33.4505\n",
      "Epoch 27/50\n",
      "\u001b[1m75/75\u001b[0m \u001b[32m━━━━━━━━━━━━━━━━━━━━\u001b[0m\u001b[37m\u001b[0m \u001b[1m1s\u001b[0m 12ms/step - loss: 1671.5989 - root_mean_squared_error: 40.8254 - val_loss: 1044.7438 - val_root_mean_squared_error: 32.3225\n",
      "Epoch 28/50\n",
      "\u001b[1m75/75\u001b[0m \u001b[32m━━━━━━━━━━━━━━━━━━━━\u001b[0m\u001b[37m\u001b[0m \u001b[1m1s\u001b[0m 12ms/step - loss: 2417.3357 - root_mean_squared_error: 48.0732 - val_loss: 1312.8132 - val_root_mean_squared_error: 36.2328\n",
      "Epoch 29/50\n",
      "\u001b[1m75/75\u001b[0m \u001b[32m━━━━━━━━━━━━━━━━━━━━\u001b[0m\u001b[37m\u001b[0m \u001b[1m1s\u001b[0m 11ms/step - loss: 1668.4127 - root_mean_squared_error: 40.7141 - val_loss: 1108.9868 - val_root_mean_squared_error: 33.3015\n",
      "Epoch 30/50\n",
      "\u001b[1m75/75\u001b[0m \u001b[32m━━━━━━━━━━━━━━━━━━━━\u001b[0m\u001b[37m\u001b[0m \u001b[1m1s\u001b[0m 11ms/step - loss: 1637.8052 - root_mean_squared_error: 40.3598 - val_loss: 1329.6398 - val_root_mean_squared_error: 36.4642\n",
      "Epoch 31/50\n",
      "\u001b[1m75/75\u001b[0m \u001b[32m━━━━━━━━━━━━━━━━━━━━\u001b[0m\u001b[37m\u001b[0m \u001b[1m1s\u001b[0m 12ms/step - loss: 2029.4274 - root_mean_squared_error: 44.0615 - val_loss: 1997.9962 - val_root_mean_squared_error: 44.6990\n",
      "Epoch 32/50\n",
      "\u001b[1m75/75\u001b[0m \u001b[32m━━━━━━━━━━━━━━━━━━━━\u001b[0m\u001b[37m\u001b[0m \u001b[1m1s\u001b[0m 12ms/step - loss: 1897.3712 - root_mean_squared_error: 43.3908 - val_loss: 1091.4077 - val_root_mean_squared_error: 33.0365\n",
      "Epoch 33/50\n",
      "\u001b[1m75/75\u001b[0m \u001b[32m━━━━━━━━━━━━━━━━━━━━\u001b[0m\u001b[37m\u001b[0m \u001b[1m1s\u001b[0m 12ms/step - loss: 1973.6522 - root_mean_squared_error: 44.3339 - val_loss: 1122.4386 - val_root_mean_squared_error: 33.5028\n",
      "Epoch 34/50\n",
      "\u001b[1m75/75\u001b[0m \u001b[32m━━━━━━━━━━━━━━━━━━━━\u001b[0m\u001b[37m\u001b[0m \u001b[1m1s\u001b[0m 12ms/step - loss: 1928.3093 - root_mean_squared_error: 43.6915 - val_loss: 1299.0343 - val_root_mean_squared_error: 36.0421\n",
      "Epoch 35/50\n",
      "\u001b[1m75/75\u001b[0m \u001b[32m━━━━━━━━━━━━━━━━━━━━\u001b[0m\u001b[37m\u001b[0m \u001b[1m1s\u001b[0m 11ms/step - loss: 1535.0870 - root_mean_squared_error: 39.1318 - val_loss: 1102.3717 - val_root_mean_squared_error: 33.2020\n",
      "Epoch 36/50\n",
      "\u001b[1m75/75\u001b[0m \u001b[32m━━━━━━━━━━━━━━━━━━━━\u001b[0m\u001b[37m\u001b[0m \u001b[1m1s\u001b[0m 12ms/step - loss: 1613.5557 - root_mean_squared_error: 40.0612 - val_loss: 1080.1055 - val_root_mean_squared_error: 32.8650\n",
      "Epoch 37/50\n",
      "\u001b[1m75/75\u001b[0m \u001b[32m━━━━━━━━━━━━━━━━━━━━\u001b[0m\u001b[37m\u001b[0m \u001b[1m1s\u001b[0m 12ms/step - loss: 1664.3401 - root_mean_squared_error: 40.6043 - val_loss: 1140.5760 - val_root_mean_squared_error: 33.7724\n",
      "Epoch 38/50\n",
      "\u001b[1m75/75\u001b[0m \u001b[32m━━━━━━━━━━━━━━━━━━━━\u001b[0m\u001b[37m\u001b[0m \u001b[1m1s\u001b[0m 12ms/step - loss: 1620.9116 - root_mean_squared_error: 40.2225 - val_loss: 1117.5388 - val_root_mean_squared_error: 33.4296\n",
      "Epoch 39/50\n",
      "\u001b[1m75/75\u001b[0m \u001b[32m━━━━━━━━━━━━━━━━━━━━\u001b[0m\u001b[37m\u001b[0m \u001b[1m1s\u001b[0m 12ms/step - loss: 1360.3083 - root_mean_squared_error: 36.6280 - val_loss: 1063.6832 - val_root_mean_squared_error: 32.6142\n",
      "Epoch 40/50\n",
      "\u001b[1m75/75\u001b[0m \u001b[32m━━━━━━━━━━━━━━━━━━━━\u001b[0m\u001b[37m\u001b[0m \u001b[1m1s\u001b[0m 12ms/step - loss: 1692.9697 - root_mean_squared_error: 41.0572 - val_loss: 1020.0368 - val_root_mean_squared_error: 31.9380\n",
      "Epoch 41/50\n",
      "\u001b[1m75/75\u001b[0m \u001b[32m━━━━━━━━━━━━━━━━━━━━\u001b[0m\u001b[37m\u001b[0m \u001b[1m1s\u001b[0m 11ms/step - loss: 1466.9799 - root_mean_squared_error: 38.1453 - val_loss: 1061.3806 - val_root_mean_squared_error: 32.5788\n",
      "Epoch 42/50\n",
      "\u001b[1m75/75\u001b[0m \u001b[32m━━━━━━━━━━━━━━━━━━━━\u001b[0m\u001b[37m\u001b[0m \u001b[1m1s\u001b[0m 12ms/step - loss: 1641.4990 - root_mean_squared_error: 40.4853 - val_loss: 1132.4684 - val_root_mean_squared_error: 33.6522\n",
      "Epoch 43/50\n",
      "\u001b[1m75/75\u001b[0m \u001b[32m━━━━━━━━━━━━━━━━━━━━\u001b[0m\u001b[37m\u001b[0m \u001b[1m1s\u001b[0m 12ms/step - loss: 1423.2697 - root_mean_squared_error: 37.5507 - val_loss: 1086.9413 - val_root_mean_squared_error: 32.9688\n",
      "Epoch 44/50\n",
      "\u001b[1m75/75\u001b[0m \u001b[32m━━━━━━━━━━━━━━━━━━━━\u001b[0m\u001b[37m\u001b[0m \u001b[1m1s\u001b[0m 14ms/step - loss: 1701.8529 - root_mean_squared_error: 40.9013 - val_loss: 1072.1349 - val_root_mean_squared_error: 32.7435\n",
      "Epoch 45/50\n",
      "\u001b[1m75/75\u001b[0m \u001b[32m━━━━━━━━━━━━━━━━━━━━\u001b[0m\u001b[37m\u001b[0m \u001b[1m1s\u001b[0m 12ms/step - loss: 1831.3622 - root_mean_squared_error: 42.5706 - val_loss: 1391.2365 - val_root_mean_squared_error: 37.2993\n",
      "Epoch 46/50\n",
      "\u001b[1m75/75\u001b[0m \u001b[32m━━━━━━━━━━━━━━━━━━━━\u001b[0m\u001b[37m\u001b[0m \u001b[1m1s\u001b[0m 11ms/step - loss: 1268.4960 - root_mean_squared_error: 35.5363 - val_loss: 1061.8977 - val_root_mean_squared_error: 32.5868\n",
      "Epoch 47/50\n",
      "\u001b[1m75/75\u001b[0m \u001b[32m━━━━━━━━━━━━━━━━━━━━\u001b[0m\u001b[37m\u001b[0m \u001b[1m1s\u001b[0m 12ms/step - loss: 1609.3790 - root_mean_squared_error: 40.0571 - val_loss: 1457.3546 - val_root_mean_squared_error: 38.1753\n",
      "Epoch 48/50\n",
      "\u001b[1m75/75\u001b[0m \u001b[32m━━━━━━━━━━━━━━━━━━━━\u001b[0m\u001b[37m\u001b[0m \u001b[1m1s\u001b[0m 12ms/step - loss: 1934.9709 - root_mean_squared_error: 43.8106 - val_loss: 1156.3911 - val_root_mean_squared_error: 34.0058\n",
      "Epoch 49/50\n",
      "\u001b[1m75/75\u001b[0m \u001b[32m━━━━━━━━━━━━━━━━━━━━\u001b[0m\u001b[37m\u001b[0m \u001b[1m1s\u001b[0m 12ms/step - loss: 1421.1465 - root_mean_squared_error: 37.5543 - val_loss: 1376.8008 - val_root_mean_squared_error: 37.1053\n",
      "Epoch 50/50\n",
      "\u001b[1m75/75\u001b[0m \u001b[32m━━━━━━━━━━━━━━━━━━━━\u001b[0m\u001b[37m\u001b[0m \u001b[1m1s\u001b[0m 12ms/step - loss: 1592.5254 - root_mean_squared_error: 39.8073 - val_loss: 1189.8793 - val_root_mean_squared_error: 34.4946\n"
     ]
    },
    {
     "data": {
      "text/plain": [
       "<keras.src.callbacks.history.History at 0x7b0180c373d0>"
      ]
     },
     "execution_count": 53,
     "metadata": {},
     "output_type": "execute_result"
    }
   ],
   "source": [
    "model9 = Sequential()\n",
    "model9.add(InputLayer((6, 6)))  # 6 timestamps, 6 features\n",
    "model9.add(BatchNormalization())  # Normalize inputs\n",
    "model9.add(GRU(128, activation='relu', return_sequences=True))  # GRU layer\n",
    "model9.add(Dropout(0.3))  # Dropout for regularization\n",
    "model9.add(GRU(64, activation='relu', return_sequences=False))  # Second GRU layer\n",
    "model9.add(Dense(32, activation='relu'))  # Fully connected layer\n",
    "model9.add(Dense(16, activation='relu'))  # Second dense layer\n",
    "model9.add(Dense(1, activation='linear'))  # Output layer\n",
    "\n",
    "cp9 = ModelCheckpoint('/kaggle/working/model9.keras', save_best_only=True)\n",
    "\n",
    "model9.compile(loss=MeanSquaredError(), optimizer=Adam(learning_rate=0.001), \n",
    "               metrics=[RootMeanSquaredError()])\n",
    "\n",
    "model9.fit(X_train1, y_train1, validation_data=(X_val1, y_val1), epochs=50, \n",
    "           callbacks=[cp9])"
   ]
  },
  {
   "cell_type": "code",
   "execution_count": 54,
   "id": "fc7d3c61",
   "metadata": {
    "execution": {
     "iopub.execute_input": "2025-01-27T20:56:18.815244Z",
     "iopub.status.busy": "2025-01-27T20:56:18.814784Z",
     "iopub.status.idle": "2025-01-27T20:56:19.026981Z",
     "shell.execute_reply": "2025-01-27T20:56:19.025755Z"
    },
    "papermill": {
     "duration": 0.397068,
     "end_time": "2025-01-27T20:56:19.028962",
     "exception": false,
     "start_time": "2025-01-27T20:56:18.631894",
     "status": "completed"
    },
    "tags": []
   },
   "outputs": [],
   "source": [
    "from tensorflow.keras.models import load_model\n",
    "model9 = load_model('/kaggle/working/model9.keras')"
   ]
  },
  {
   "cell_type": "code",
   "execution_count": 55,
   "id": "cc2be270",
   "metadata": {
    "execution": {
     "iopub.execute_input": "2025-01-27T20:56:19.388490Z",
     "iopub.status.busy": "2025-01-27T20:56:19.388108Z",
     "iopub.status.idle": "2025-01-27T20:56:20.490417Z",
     "shell.execute_reply": "2025-01-27T20:56:20.488961Z"
    },
    "papermill": {
     "duration": 1.282672,
     "end_time": "2025-01-27T20:56:20.492334",
     "exception": false,
     "start_time": "2025-01-27T20:56:19.209662",
     "status": "completed"
    },
    "tags": []
   },
   "outputs": [
    {
     "name": "stdout",
     "output_type": "stream",
     "text": [
      "\u001b[1m75/75\u001b[0m \u001b[32m━━━━━━━━━━━━━━━━━━━━\u001b[0m\u001b[37m\u001b[0m \u001b[1m1s\u001b[0m 9ms/step\n",
      "Evaluation Metrics:\n",
      "Mean Absolute Error (MAE): 19.5423\n",
      "Mean Squared Error (MSE): 1323.8321\n",
      "Root Mean Squared Error (RMSE): 36.3845\n",
      "R-squared (Accuracy): 0.7322\n"
     ]
    }
   ],
   "source": [
    "# Evaluate the model on the train data\n",
    "train_result = model9.predict(X_train1)\n",
    "\n",
    "# Calculate metrics\n",
    "mse = mean_squared_error(y_train1, train_result)\n",
    "rmse = np.sqrt(mse)\n",
    "mae = mean_absolute_error(y_train1, train_result)\n",
    "r2 = r2_score(y_train1, train_result)\n",
    "\n",
    "# Print the results\n",
    "print(\"Evaluation Metrics:\")\n",
    "print(f\"Mean Absolute Error (MAE): {mae:.4f}\")\n",
    "print(f\"Mean Squared Error (MSE): {mse:.4f}\")\n",
    "print(f\"Root Mean Squared Error (RMSE): {rmse:.4f}\")\n",
    "print(f\"R-squared (Accuracy): {r2:.4f}\")"
   ]
  },
  {
   "cell_type": "code",
   "execution_count": 56,
   "id": "064a94e0",
   "metadata": {
    "execution": {
     "iopub.execute_input": "2025-01-27T20:56:20.919309Z",
     "iopub.status.busy": "2025-01-27T20:56:20.918908Z",
     "iopub.status.idle": "2025-01-27T20:56:21.070144Z",
     "shell.execute_reply": "2025-01-27T20:56:21.068884Z"
    },
    "papermill": {
     "duration": 0.334626,
     "end_time": "2025-01-27T20:56:21.072085",
     "exception": false,
     "start_time": "2025-01-27T20:56:20.737459",
     "status": "completed"
    },
    "tags": []
   },
   "outputs": [
    {
     "name": "stdout",
     "output_type": "stream",
     "text": [
      "\u001b[1m15/15\u001b[0m \u001b[32m━━━━━━━━━━━━━━━━━━━━\u001b[0m\u001b[37m\u001b[0m \u001b[1m0s\u001b[0m 4ms/step\n",
      "Evaluation Metrics:\n",
      "Mean Absolute Error (MAE): 21.8408\n",
      "Mean Squared Error (MSE): 1020.0367\n",
      "Root Mean Squared Error (RMSE): 31.9380\n",
      "R-squared (Accuracy): 0.8700\n"
     ]
    }
   ],
   "source": [
    "# Evaluate the model on the validation data\n",
    "val_result = model9.predict(X_val1)\n",
    "\n",
    "# Calculate metrics\n",
    "mse = mean_squared_error(y_val1, val_result)\n",
    "rmse = np.sqrt(mse)\n",
    "mae = mean_absolute_error(y_val1, val_result)\n",
    "r2 = r2_score(y_val1, val_result)\n",
    "\n",
    "# Print the results\n",
    "print(\"Evaluation Metrics:\")\n",
    "print(f\"Mean Absolute Error (MAE): {mae:.4f}\")\n",
    "print(f\"Mean Squared Error (MSE): {mse:.4f}\")\n",
    "print(f\"Root Mean Squared Error (RMSE): {rmse:.4f}\")\n",
    "print(f\"R-squared (Accuracy): {r2:.4f}\")"
   ]
  },
  {
   "cell_type": "code",
   "execution_count": 57,
   "id": "9dc0bc9e",
   "metadata": {
    "execution": {
     "iopub.execute_input": "2025-01-27T20:56:21.465035Z",
     "iopub.status.busy": "2025-01-27T20:56:21.464619Z",
     "iopub.status.idle": "2025-01-27T20:56:21.591985Z",
     "shell.execute_reply": "2025-01-27T20:56:21.590603Z"
    },
    "papermill": {
     "duration": 0.312791,
     "end_time": "2025-01-27T20:56:21.594072",
     "exception": false,
     "start_time": "2025-01-27T20:56:21.281281",
     "status": "completed"
    },
    "tags": []
   },
   "outputs": [
    {
     "name": "stdout",
     "output_type": "stream",
     "text": [
      "\u001b[1m10/10\u001b[0m \u001b[32m━━━━━━━━━━━━━━━━━━━━\u001b[0m\u001b[37m\u001b[0m \u001b[1m0s\u001b[0m 4ms/step \n",
      "Evaluation Metrics:\n",
      "Mean Absolute Error (MAE): 22.6366\n",
      "Mean Squared Error (MSE): 1199.2304\n",
      "Root Mean Squared Error (RMSE): 34.6299\n",
      "R-squared (Accuracy): 0.6371\n"
     ]
    }
   ],
   "source": [
    "# Evaluate the model on the test data\n",
    "test_result = model9.predict(X_test1)\n",
    "\n",
    "# Calculate metrics\n",
    "mse = mean_squared_error(y_test1, test_result)\n",
    "rmse = np.sqrt(mse)\n",
    "mae = mean_absolute_error(y_test1, test_result)\n",
    "r2 = r2_score(y_test1, test_result)\n",
    "\n",
    "# Print the results\n",
    "print(\"Evaluation Metrics:\")\n",
    "print(f\"Mean Absolute Error (MAE): {mae:.4f}\")\n",
    "print(f\"Mean Squared Error (MSE): {mse:.4f}\")\n",
    "print(f\"Root Mean Squared Error (RMSE): {rmse:.4f}\")\n",
    "print(f\"R-squared (Accuracy): {r2:.4f}\")"
   ]
  },
  {
   "cell_type": "code",
   "execution_count": 58,
   "id": "9f9e8035",
   "metadata": {
    "execution": {
     "iopub.execute_input": "2025-01-27T20:56:21.957551Z",
     "iopub.status.busy": "2025-01-27T20:56:21.957212Z",
     "iopub.status.idle": "2025-01-27T20:56:22.341310Z",
     "shell.execute_reply": "2025-01-27T20:56:22.340157Z"
    },
    "papermill": {
     "duration": 0.567907,
     "end_time": "2025-01-27T20:56:22.343077",
     "exception": false,
     "start_time": "2025-01-27T20:56:21.775170",
     "status": "completed"
    },
    "tags": []
   },
   "outputs": [
    {
     "name": "stdout",
     "output_type": "stream",
     "text": [
      "\u001b[1m75/75\u001b[0m \u001b[32m━━━━━━━━━━━━━━━━━━━━\u001b[0m\u001b[37m\u001b[0m \u001b[1m0s\u001b[0m 4ms/step\n"
     ]
    },
    {
     "data": {
      "text/html": [
       "<div>\n",
       "<style scoped>\n",
       "    .dataframe tbody tr th:only-of-type {\n",
       "        vertical-align: middle;\n",
       "    }\n",
       "\n",
       "    .dataframe tbody tr th {\n",
       "        vertical-align: top;\n",
       "    }\n",
       "\n",
       "    .dataframe thead th {\n",
       "        text-align: right;\n",
       "    }\n",
       "</style>\n",
       "<table border=\"1\" class=\"dataframe\">\n",
       "  <thead>\n",
       "    <tr style=\"text-align: right;\">\n",
       "      <th></th>\n",
       "      <th>Train Predictions</th>\n",
       "      <th>Actuals</th>\n",
       "    </tr>\n",
       "  </thead>\n",
       "  <tbody>\n",
       "    <tr>\n",
       "      <th>0</th>\n",
       "      <td>214.311874</td>\n",
       "      <td>195.0</td>\n",
       "    </tr>\n",
       "    <tr>\n",
       "      <th>1</th>\n",
       "      <td>208.184677</td>\n",
       "      <td>185.0</td>\n",
       "    </tr>\n",
       "    <tr>\n",
       "      <th>2</th>\n",
       "      <td>220.582214</td>\n",
       "      <td>208.0</td>\n",
       "    </tr>\n",
       "    <tr>\n",
       "      <th>3</th>\n",
       "      <td>245.278503</td>\n",
       "      <td>290.0</td>\n",
       "    </tr>\n",
       "    <tr>\n",
       "      <th>4</th>\n",
       "      <td>265.487213</td>\n",
       "      <td>267.0</td>\n",
       "    </tr>\n",
       "    <tr>\n",
       "      <th>...</th>\n",
       "      <td>...</td>\n",
       "      <td>...</td>\n",
       "    </tr>\n",
       "    <tr>\n",
       "      <th>2388</th>\n",
       "      <td>101.642151</td>\n",
       "      <td>54.0</td>\n",
       "    </tr>\n",
       "    <tr>\n",
       "      <th>2389</th>\n",
       "      <td>91.605614</td>\n",
       "      <td>85.0</td>\n",
       "    </tr>\n",
       "    <tr>\n",
       "      <th>2390</th>\n",
       "      <td>97.510155</td>\n",
       "      <td>97.0</td>\n",
       "    </tr>\n",
       "    <tr>\n",
       "      <th>2391</th>\n",
       "      <td>105.769920</td>\n",
       "      <td>74.0</td>\n",
       "    </tr>\n",
       "    <tr>\n",
       "      <th>2392</th>\n",
       "      <td>89.548668</td>\n",
       "      <td>87.0</td>\n",
       "    </tr>\n",
       "  </tbody>\n",
       "</table>\n",
       "<p>2393 rows × 2 columns</p>\n",
       "</div>"
      ],
      "text/plain": [
       "      Train Predictions  Actuals\n",
       "0            214.311874    195.0\n",
       "1            208.184677    185.0\n",
       "2            220.582214    208.0\n",
       "3            245.278503    290.0\n",
       "4            265.487213    267.0\n",
       "...                 ...      ...\n",
       "2388         101.642151     54.0\n",
       "2389          91.605614     85.0\n",
       "2390          97.510155     97.0\n",
       "2391         105.769920     74.0\n",
       "2392          89.548668     87.0\n",
       "\n",
       "[2393 rows x 2 columns]"
      ]
     },
     "execution_count": 58,
     "metadata": {},
     "output_type": "execute_result"
    }
   ],
   "source": [
    "train_predictions = model9.predict(X_train1).flatten()\n",
    "train_results = pd.DataFrame(data={'Train Predictions':train_predictions, 'Actuals':y_train1})\n",
    "train_results"
   ]
  },
  {
   "cell_type": "code",
   "execution_count": 59,
   "id": "e0da0a8e",
   "metadata": {
    "execution": {
     "iopub.execute_input": "2025-01-27T20:56:22.715792Z",
     "iopub.status.busy": "2025-01-27T20:56:22.715366Z",
     "iopub.status.idle": "2025-01-27T20:56:22.899261Z",
     "shell.execute_reply": "2025-01-27T20:56:22.898048Z"
    },
    "papermill": {
     "duration": 0.371237,
     "end_time": "2025-01-27T20:56:22.901468",
     "exception": false,
     "start_time": "2025-01-27T20:56:22.530231",
     "status": "completed"
    },
    "tags": []
   },
   "outputs": [
    {
     "data": {
      "image/png": "[encoded data removed]",
      "text/plain": [
       "<Figure size 640x480 with 1 Axes>"
      ]
     },
     "metadata": {},
     "output_type": "display_data"
    }
   ],
   "source": [
    "plt.plot(train_results['Actuals'][1:50], label='Actual')\n",
    "plt.plot(train_results['Train Predictions'][1:50], label='Predicted')\n",
    "plt.legend()\n",
    "plt.show()"
   ]
  },
  {
   "cell_type": "code",
   "execution_count": 60,
   "id": "3ad0c492",
   "metadata": {
    "execution": {
     "iopub.execute_input": "2025-01-27T20:56:23.281119Z",
     "iopub.status.busy": "2025-01-27T20:56:23.280717Z",
     "iopub.status.idle": "2025-01-27T20:56:23.436020Z",
     "shell.execute_reply": "2025-01-27T20:56:23.434702Z"
    },
    "papermill": {
     "duration": 0.349305,
     "end_time": "2025-01-27T20:56:23.437851",
     "exception": false,
     "start_time": "2025-01-27T20:56:23.088546",
     "status": "completed"
    },
    "tags": []
   },
   "outputs": [
    {
     "name": "stdout",
     "output_type": "stream",
     "text": [
      "\u001b[1m15/15\u001b[0m \u001b[32m━━━━━━━━━━━━━━━━━━━━\u001b[0m\u001b[37m\u001b[0m \u001b[1m0s\u001b[0m 4ms/step\n"
     ]
    },
    {
     "data": {
      "text/html": [
       "<div>\n",
       "<style scoped>\n",
       "    .dataframe tbody tr th:only-of-type {\n",
       "        vertical-align: middle;\n",
       "    }\n",
       "\n",
       "    .dataframe tbody tr th {\n",
       "        vertical-align: top;\n",
       "    }\n",
       "\n",
       "    .dataframe thead th {\n",
       "        text-align: right;\n",
       "    }\n",
       "</style>\n",
       "<table border=\"1\" class=\"dataframe\">\n",
       "  <thead>\n",
       "    <tr style=\"text-align: right;\">\n",
       "      <th></th>\n",
       "      <th>Train Predictions</th>\n",
       "      <th>Actuals</th>\n",
       "    </tr>\n",
       "  </thead>\n",
       "  <tbody>\n",
       "    <tr>\n",
       "      <th>0</th>\n",
       "      <td>90.876007</td>\n",
       "      <td>85.0</td>\n",
       "    </tr>\n",
       "    <tr>\n",
       "      <th>1</th>\n",
       "      <td>93.112495</td>\n",
       "      <td>71.0</td>\n",
       "    </tr>\n",
       "    <tr>\n",
       "      <th>2</th>\n",
       "      <td>90.347420</td>\n",
       "      <td>89.0</td>\n",
       "    </tr>\n",
       "    <tr>\n",
       "      <th>3</th>\n",
       "      <td>95.994072</td>\n",
       "      <td>99.0</td>\n",
       "    </tr>\n",
       "    <tr>\n",
       "      <th>4</th>\n",
       "      <td>99.105400</td>\n",
       "      <td>80.0</td>\n",
       "    </tr>\n",
       "    <tr>\n",
       "      <th>...</th>\n",
       "      <td>...</td>\n",
       "      <td>...</td>\n",
       "    </tr>\n",
       "    <tr>\n",
       "      <th>468</th>\n",
       "      <td>178.890045</td>\n",
       "      <td>193.0</td>\n",
       "    </tr>\n",
       "    <tr>\n",
       "      <th>469</th>\n",
       "      <td>215.865448</td>\n",
       "      <td>199.0</td>\n",
       "    </tr>\n",
       "    <tr>\n",
       "      <th>470</th>\n",
       "      <td>212.821625</td>\n",
       "      <td>197.0</td>\n",
       "    </tr>\n",
       "    <tr>\n",
       "      <th>471</th>\n",
       "      <td>208.153870</td>\n",
       "      <td>197.0</td>\n",
       "    </tr>\n",
       "    <tr>\n",
       "      <th>472</th>\n",
       "      <td>190.492966</td>\n",
       "      <td>190.0</td>\n",
       "    </tr>\n",
       "  </tbody>\n",
       "</table>\n",
       "<p>473 rows × 2 columns</p>\n",
       "</div>"
      ],
      "text/plain": [
       "     Train Predictions  Actuals\n",
       "0            90.876007     85.0\n",
       "1            93.112495     71.0\n",
       "2            90.347420     89.0\n",
       "3            95.994072     99.0\n",
       "4            99.105400     80.0\n",
       "..                 ...      ...\n",
       "468         178.890045    193.0\n",
       "469         215.865448    199.0\n",
       "470         212.821625    197.0\n",
       "471         208.153870    197.0\n",
       "472         190.492966    190.0\n",
       "\n",
       "[473 rows x 2 columns]"
      ]
     },
     "execution_count": 60,
     "metadata": {},
     "output_type": "execute_result"
    }
   ],
   "source": [
    "val_predictions = model9.predict(X_val1).flatten()\n",
    "val_results = pd.DataFrame(data={'Train Predictions':val_predictions, 'Actuals':y_val1})\n",
    "val_results"
   ]
  },
  {
   "cell_type": "code",
   "execution_count": 61,
   "id": "7bbfef81",
   "metadata": {
    "execution": {
     "iopub.execute_input": "2025-01-27T20:56:23.820488Z",
     "iopub.status.busy": "2025-01-27T20:56:23.820076Z",
     "iopub.status.idle": "2025-01-27T20:56:24.017342Z",
     "shell.execute_reply": "2025-01-27T20:56:24.016185Z"
    },
    "papermill": {
     "duration": 0.384356,
     "end_time": "2025-01-27T20:56:24.019349",
     "exception": false,
     "start_time": "2025-01-27T20:56:23.634993",
     "status": "completed"
    },
    "tags": []
   },
   "outputs": [
    {
     "data": {
      "image/png": "[encoded data removed]",
      "text/plain": [
       "<Figure size 640x480 with 1 Axes>"
      ]
     },
     "metadata": {},
     "output_type": "display_data"
    }
   ],
   "source": [
    "plt.plot(val_results['Actuals'][1:50], label='Actual')\n",
    "plt.plot(val_results['Train Predictions'][1:50], label='Predicted')\n",
    "plt.legend()\n",
    "plt.show()"
   ]
  },
  {
   "cell_type": "code",
   "execution_count": 62,
   "id": "f517e321",
   "metadata": {
    "execution": {
     "iopub.execute_input": "2025-01-27T20:56:24.394327Z",
     "iopub.status.busy": "2025-01-27T20:56:24.393902Z",
     "iopub.status.idle": "2025-01-27T20:56:24.521942Z",
     "shell.execute_reply": "2025-01-27T20:56:24.520794Z"
    },
    "papermill": {
     "duration": 0.314644,
     "end_time": "2025-01-27T20:56:24.523740",
     "exception": false,
     "start_time": "2025-01-27T20:56:24.209096",
     "status": "completed"
    },
    "tags": []
   },
   "outputs": [
    {
     "name": "stdout",
     "output_type": "stream",
     "text": [
      "\u001b[1m10/10\u001b[0m \u001b[32m━━━━━━━━━━━━━━━━━━━━\u001b[0m\u001b[37m\u001b[0m \u001b[1m0s\u001b[0m 4ms/step \n"
     ]
    },
    {
     "data": {
      "text/html": [
       "<div>\n",
       "<style scoped>\n",
       "    .dataframe tbody tr th:only-of-type {\n",
       "        vertical-align: middle;\n",
       "    }\n",
       "\n",
       "    .dataframe tbody tr th {\n",
       "        vertical-align: top;\n",
       "    }\n",
       "\n",
       "    .dataframe thead th {\n",
       "        text-align: right;\n",
       "    }\n",
       "</style>\n",
       "<table border=\"1\" class=\"dataframe\">\n",
       "  <thead>\n",
       "    <tr style=\"text-align: right;\">\n",
       "      <th></th>\n",
       "      <th>Train Predictions</th>\n",
       "      <th>Actuals</th>\n",
       "    </tr>\n",
       "  </thead>\n",
       "  <tbody>\n",
       "    <tr>\n",
       "      <th>0</th>\n",
       "      <td>212.249710</td>\n",
       "      <td>190.0</td>\n",
       "    </tr>\n",
       "    <tr>\n",
       "      <th>1</th>\n",
       "      <td>203.693512</td>\n",
       "      <td>177.0</td>\n",
       "    </tr>\n",
       "    <tr>\n",
       "      <th>2</th>\n",
       "      <td>194.044708</td>\n",
       "      <td>172.0</td>\n",
       "    </tr>\n",
       "    <tr>\n",
       "      <th>3</th>\n",
       "      <td>195.922363</td>\n",
       "      <td>170.0</td>\n",
       "    </tr>\n",
       "    <tr>\n",
       "      <th>4</th>\n",
       "      <td>190.933075</td>\n",
       "      <td>197.0</td>\n",
       "    </tr>\n",
       "    <tr>\n",
       "      <th>...</th>\n",
       "      <td>...</td>\n",
       "      <td>...</td>\n",
       "    </tr>\n",
       "    <tr>\n",
       "      <th>310</th>\n",
       "      <td>151.230682</td>\n",
       "      <td>134.0</td>\n",
       "    </tr>\n",
       "    <tr>\n",
       "      <th>311</th>\n",
       "      <td>149.016968</td>\n",
       "      <td>144.0</td>\n",
       "    </tr>\n",
       "    <tr>\n",
       "      <th>312</th>\n",
       "      <td>158.679230</td>\n",
       "      <td>155.0</td>\n",
       "    </tr>\n",
       "    <tr>\n",
       "      <th>313</th>\n",
       "      <td>166.109589</td>\n",
       "      <td>155.0</td>\n",
       "    </tr>\n",
       "    <tr>\n",
       "      <th>314</th>\n",
       "      <td>158.440186</td>\n",
       "      <td>152.0</td>\n",
       "    </tr>\n",
       "  </tbody>\n",
       "</table>\n",
       "<p>315 rows × 2 columns</p>\n",
       "</div>"
      ],
      "text/plain": [
       "     Train Predictions  Actuals\n",
       "0           212.249710    190.0\n",
       "1           203.693512    177.0\n",
       "2           194.044708    172.0\n",
       "3           195.922363    170.0\n",
       "4           190.933075    197.0\n",
       "..                 ...      ...\n",
       "310         151.230682    134.0\n",
       "311         149.016968    144.0\n",
       "312         158.679230    155.0\n",
       "313         166.109589    155.0\n",
       "314         158.440186    152.0\n",
       "\n",
       "[315 rows x 2 columns]"
      ]
     },
     "execution_count": 62,
     "metadata": {},
     "output_type": "execute_result"
    }
   ],
   "source": [
    "test_predictions = model9.predict(X_test1).flatten()\n",
    "test_results = pd.DataFrame(data={'Train Predictions':test_predictions, 'Actuals':y_test1})\n",
    "test_results"
   ]
  },
  {
   "cell_type": "code",
   "execution_count": 63,
   "id": "931542f0",
   "metadata": {
    "execution": {
     "iopub.execute_input": "2025-01-27T20:56:24.953850Z",
     "iopub.status.busy": "2025-01-27T20:56:24.953458Z",
     "iopub.status.idle": "2025-01-27T20:56:25.139466Z",
     "shell.execute_reply": "2025-01-27T20:56:25.138391Z"
    },
    "papermill": {
     "duration": 0.371919,
     "end_time": "2025-01-27T20:56:25.141275",
     "exception": false,
     "start_time": "2025-01-27T20:56:24.769356",
     "status": "completed"
    },
    "tags": []
   },
   "outputs": [
    {
     "data": {
      "image/png": "[encoded data removed]",
      "text/plain": [
       "<Figure size 640x480 with 1 Axes>"
      ]
     },
     "metadata": {},
     "output_type": "display_data"
    }
   ],
   "source": [
    "plt.plot(test_results['Train Predictions'][1:50], label='Predicted')\n",
    "plt.plot(test_results['Actuals'][1:50], label='Actual')\n",
    "plt.legend()\n",
    "plt.show()"
   ]
  }
 ],
 "metadata": {
  "kaggle": {
   "accelerator": "none",
   "dataSources": [
    {
     "datasetId": 6557354,
     "sourceId": 10594490,
     "sourceType": "datasetVersion"
    },
    {
     "sourceId": 219513339,
     "sourceType": "kernelVersion"
    }
   ],
   "dockerImageVersionId": 30839,
   "isGpuEnabled": false,
   "isInternetEnabled": false,
   "language": "python",
   "sourceType": "notebook"
  },
  "kernelspec": {
   "display_name": "Python 3",
   "language": "python",
   "name": "python3"
  },
  "language_info": {
   "codemirror_mode": {
    "name": "ipython",
    "version": 3
   },
   "file_extension": ".py",
   "mimetype": "text/x-python",
   "name": "python",
   "nbconvert_exporter": "python",
   "pygments_lexer": "ipython3",
   "version": "3.10.12"
  },
  "papermill": {
   "default_parameters": {},
   "duration": 194.845382,
   "end_time": "2025-01-27T20:56:28.632711",
   "environment_variables": {},
   "exception": null,
   "input_path": "__notebook__.ipynb",
   "output_path": "__notebook__.ipynb",
   "parameters": {},
   "start_time": "2025-01-27T20:53:13.787329",
   "version": "2.6.0"
  }
 },
 "nbformat": 4,
 "nbformat_minor": 5
}
