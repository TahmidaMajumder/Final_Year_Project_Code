{
 "cells": [
  {
   "cell_type": "code",
   "execution_count": 1,
   "id": "d27f9cdf",
   "metadata": {
    "_cell_guid": "0bd5fd8f-4de5-406f-92da-d16f3c990795",
    "_uuid": "63737120-456d-498d-a950-7893b9099e72",
    "collapsed": false,
    "execution": {
     "iopub.execute_input": "2025-01-27T21:36:58.460608Z",
     "iopub.status.busy": "2025-01-27T21:36:58.460265Z",
     "iopub.status.idle": "2025-01-27T21:37:01.152551Z",
     "shell.execute_reply": "2025-01-27T21:37:01.151412Z"
    },
    "jupyter": {
     "outputs_hidden": false
    },
    "papermill": {
     "duration": 2.709729,
     "end_time": "2025-01-27T21:37:01.154458",
     "exception": false,
     "start_time": "2025-01-27T21:36:58.444729",
     "status": "completed"
    },
    "tags": []
   },
   "outputs": [],
   "source": [
    "# Packages / libraries\n",
    "import os #provides functions for interacting with the operating system\n",
    "import numpy as np\n",
    "import pandas as pd\n",
    "from matplotlib import pyplot as plt\n",
    "import seaborn as sns\n",
    "\n",
    "from sklearn.preprocessing import MinMaxScaler\n",
    "from sklearn.preprocessing import StandardScaler\n",
    "from sklearn.metrics import mean_squared_error, mean_absolute_error, r2_score\n",
    "\n",
    "# remove warnings\n",
    "import warnings\n",
    "warnings.simplefilter(action='ignore', category=RuntimeWarning)"
   ]
  },
  {
   "cell_type": "markdown",
   "id": "a3d376f7",
   "metadata": {
    "papermill": {
     "duration": 0.013536,
     "end_time": "2025-01-27T21:37:01.182013",
     "exception": false,
     "start_time": "2025-01-27T21:37:01.168477",
     "status": "completed"
    },
    "tags": []
   },
   "source": []
  },
  {
   "cell_type": "markdown",
   "id": "752840ce",
   "metadata": {
    "papermill": {
     "duration": 0.013373,
     "end_time": "2025-01-27T21:37:01.208760",
     "exception": false,
     "start_time": "2025-01-27T21:37:01.195387",
     "status": "completed"
    },
    "tags": []
   },
   "source": [
    "# **1. Loading Dataset**"
   ]
  },
  {
   "cell_type": "code",
   "execution_count": 2,
   "id": "11f687d3",
   "metadata": {
    "execution": {
     "iopub.execute_input": "2025-01-27T21:37:01.237025Z",
     "iopub.status.busy": "2025-01-27T21:37:01.236524Z",
     "iopub.status.idle": "2025-01-27T21:37:01.286234Z",
     "shell.execute_reply": "2025-01-27T21:37:01.285140Z"
    },
    "papermill": {
     "duration": 0.065541,
     "end_time": "2025-01-27T21:37:01.287817",
     "exception": false,
     "start_time": "2025-01-27T21:37:01.222276",
     "status": "completed"
    },
    "tags": []
   },
   "outputs": [
    {
     "name": "stdout",
     "output_type": "stream",
     "text": [
      "(2399, 12)\n"
     ]
    },
    {
     "data": {
      "text/html": [
       "<div>\n",
       "<style scoped>\n",
       "    .dataframe tbody tr th:only-of-type {\n",
       "        vertical-align: middle;\n",
       "    }\n",
       "\n",
       "    .dataframe tbody tr th {\n",
       "        vertical-align: top;\n",
       "    }\n",
       "\n",
       "    .dataframe thead th {\n",
       "        text-align: right;\n",
       "    }\n",
       "</style>\n",
       "<table border=\"1\" class=\"dataframe\">\n",
       "  <thead>\n",
       "    <tr style=\"text-align: right;\">\n",
       "      <th></th>\n",
       "      <th>Date</th>\n",
       "      <th>co</th>\n",
       "      <th>no2</th>\n",
       "      <th>o3</th>\n",
       "      <th>pm10</th>\n",
       "      <th>pm25</th>\n",
       "      <th>so2</th>\n",
       "      <th>humidity</th>\n",
       "      <th>pressure</th>\n",
       "      <th>temperature</th>\n",
       "      <th>wind-speed</th>\n",
       "      <th>Country_City</th>\n",
       "    </tr>\n",
       "  </thead>\n",
       "  <tbody>\n",
       "    <tr>\n",
       "      <th>0</th>\n",
       "      <td>2014-12-29</td>\n",
       "      <td>14.1</td>\n",
       "      <td>36.2</td>\n",
       "      <td>3.2</td>\n",
       "      <td>218.0</td>\n",
       "      <td>307.0</td>\n",
       "      <td>4.2</td>\n",
       "      <td>NaN</td>\n",
       "      <td>NaN</td>\n",
       "      <td>NaN</td>\n",
       "      <td>NaN</td>\n",
       "      <td>India_Delhi</td>\n",
       "    </tr>\n",
       "    <tr>\n",
       "      <th>1</th>\n",
       "      <td>2014-12-30</td>\n",
       "      <td>20.4</td>\n",
       "      <td>36.8</td>\n",
       "      <td>4.8</td>\n",
       "      <td>330.0</td>\n",
       "      <td>367.0</td>\n",
       "      <td>5.8</td>\n",
       "      <td>NaN</td>\n",
       "      <td>NaN</td>\n",
       "      <td>NaN</td>\n",
       "      <td>NaN</td>\n",
       "      <td>India_Delhi</td>\n",
       "    </tr>\n",
       "    <tr>\n",
       "      <th>2</th>\n",
       "      <td>2014-12-31</td>\n",
       "      <td>12.7</td>\n",
       "      <td>28.7</td>\n",
       "      <td>7.8</td>\n",
       "      <td>137.0</td>\n",
       "      <td>202.0</td>\n",
       "      <td>6.3</td>\n",
       "      <td>NaN</td>\n",
       "      <td>NaN</td>\n",
       "      <td>NaN</td>\n",
       "      <td>NaN</td>\n",
       "      <td>India_Delhi</td>\n",
       "    </tr>\n",
       "    <tr>\n",
       "      <th>3</th>\n",
       "      <td>2015-01-01</td>\n",
       "      <td>20.8</td>\n",
       "      <td>66.5</td>\n",
       "      <td>5.2</td>\n",
       "      <td>230.0</td>\n",
       "      <td>382.0</td>\n",
       "      <td>9.9</td>\n",
       "      <td>NaN</td>\n",
       "      <td>NaN</td>\n",
       "      <td>NaN</td>\n",
       "      <td>NaN</td>\n",
       "      <td>India_Delhi</td>\n",
       "    </tr>\n",
       "    <tr>\n",
       "      <th>4</th>\n",
       "      <td>2015-01-02</td>\n",
       "      <td>12.7</td>\n",
       "      <td>33.9</td>\n",
       "      <td>6.0</td>\n",
       "      <td>81.0</td>\n",
       "      <td>172.0</td>\n",
       "      <td>4.2</td>\n",
       "      <td>NaN</td>\n",
       "      <td>NaN</td>\n",
       "      <td>NaN</td>\n",
       "      <td>NaN</td>\n",
       "      <td>India_Delhi</td>\n",
       "    </tr>\n",
       "  </tbody>\n",
       "</table>\n",
       "</div>"
      ],
      "text/plain": [
       "         Date    co   no2   o3   pm10   pm25  so2  humidity  pressure  \\\n",
       "0  2014-12-29  14.1  36.2  3.2  218.0  307.0  4.2       NaN       NaN   \n",
       "1  2014-12-30  20.4  36.8  4.8  330.0  367.0  5.8       NaN       NaN   \n",
       "2  2014-12-31  12.7  28.7  7.8  137.0  202.0  6.3       NaN       NaN   \n",
       "3  2015-01-01  20.8  66.5  5.2  230.0  382.0  9.9       NaN       NaN   \n",
       "4  2015-01-02  12.7  33.9  6.0   81.0  172.0  4.2       NaN       NaN   \n",
       "\n",
       "   temperature  wind-speed Country_City  \n",
       "0          NaN         NaN  India_Delhi  \n",
       "1          NaN         NaN  India_Delhi  \n",
       "2          NaN         NaN  India_Delhi  \n",
       "3          NaN         NaN  India_Delhi  \n",
       "4          NaN         NaN  India_Delhi  "
      ]
     },
     "execution_count": 2,
     "metadata": {},
     "output_type": "execute_result"
    }
   ],
   "source": [
    "# Loading the data\n",
    "new_data = pd.read_csv(\"/kaggle/input/seperated-data/India_Delhi.csv\")\n",
    "\n",
    "# print the shape\n",
    "print(new_data.shape)\n",
    "\n",
    "#runs the first 5 rows\n",
    "new_data.head()"
   ]
  },
  {
   "cell_type": "code",
   "execution_count": 3,
   "id": "d19667a3",
   "metadata": {
    "execution": {
     "iopub.execute_input": "2025-01-27T21:37:01.316674Z",
     "iopub.status.busy": "2025-01-27T21:37:01.316321Z",
     "iopub.status.idle": "2025-01-27T21:37:01.324210Z",
     "shell.execute_reply": "2025-01-27T21:37:01.323179Z"
    },
    "papermill": {
     "duration": 0.024341,
     "end_time": "2025-01-27T21:37:01.325885",
     "exception": false,
     "start_time": "2025-01-27T21:37:01.301544",
     "status": "completed"
    },
    "tags": []
   },
   "outputs": [
    {
     "name": "stdout",
     "output_type": "stream",
     "text": [
      "Minimum date: 2014-12-29\n",
      "Maximum date: 2023-10-01\n"
     ]
    }
   ],
   "source": [
    "# Find the minimum and maximum dates\n",
    "min_date = new_data['Date'].min()\n",
    "max_date = new_data['Date'].max()\n",
    "\n",
    "print('Minimum date:', min_date)\n",
    "print('Maximum date:', max_date)"
   ]
  },
  {
   "cell_type": "code",
   "execution_count": 4,
   "id": "a39e5290",
   "metadata": {
    "execution": {
     "iopub.execute_input": "2025-01-27T21:37:01.354596Z",
     "iopub.status.busy": "2025-01-27T21:37:01.354244Z",
     "iopub.status.idle": "2025-01-27T21:37:01.379276Z",
     "shell.execute_reply": "2025-01-27T21:37:01.378124Z"
    },
    "papermill": {
     "duration": 0.041239,
     "end_time": "2025-01-27T21:37:01.380873",
     "exception": false,
     "start_time": "2025-01-27T21:37:01.339634",
     "status": "completed"
    },
    "tags": []
   },
   "outputs": [
    {
     "name": "stdout",
     "output_type": "stream",
     "text": [
      "<class 'pandas.core.frame.DataFrame'>\n",
      "RangeIndex: 2399 entries, 0 to 2398\n",
      "Data columns (total 12 columns):\n",
      " #   Column        Non-Null Count  Dtype  \n",
      "---  ------        --------------  -----  \n",
      " 0   Date          2399 non-null   object \n",
      " 1   co            2399 non-null   float64\n",
      " 2   no2           2399 non-null   float64\n",
      " 3   o3            2399 non-null   float64\n",
      " 4   pm10          2398 non-null   float64\n",
      " 5   pm25          2398 non-null   float64\n",
      " 6   so2           2399 non-null   float64\n",
      " 7   humidity      1698 non-null   float64\n",
      " 8   pressure      1698 non-null   float64\n",
      " 9   temperature   1698 non-null   float64\n",
      " 10  wind-speed    1629 non-null   float64\n",
      " 11  Country_City  2399 non-null   object \n",
      "dtypes: float64(10), object(2)\n",
      "memory usage: 225.0+ KB\n"
     ]
    }
   ],
   "source": [
    "new_data.info()"
   ]
  },
  {
   "cell_type": "code",
   "execution_count": 5,
   "id": "8cabb9e6",
   "metadata": {
    "execution": {
     "iopub.execute_input": "2025-01-27T21:37:01.409604Z",
     "iopub.status.busy": "2025-01-27T21:37:01.409276Z",
     "iopub.status.idle": "2025-01-27T21:37:01.442371Z",
     "shell.execute_reply": "2025-01-27T21:37:01.441308Z"
    },
    "papermill": {
     "duration": 0.049314,
     "end_time": "2025-01-27T21:37:01.444091",
     "exception": false,
     "start_time": "2025-01-27T21:37:01.394777",
     "status": "completed"
    },
    "tags": []
   },
   "outputs": [
    {
     "data": {
      "text/html": [
       "<div>\n",
       "<style scoped>\n",
       "    .dataframe tbody tr th:only-of-type {\n",
       "        vertical-align: middle;\n",
       "    }\n",
       "\n",
       "    .dataframe tbody tr th {\n",
       "        vertical-align: top;\n",
       "    }\n",
       "\n",
       "    .dataframe thead th {\n",
       "        text-align: right;\n",
       "    }\n",
       "</style>\n",
       "<table border=\"1\" class=\"dataframe\">\n",
       "  <thead>\n",
       "    <tr style=\"text-align: right;\">\n",
       "      <th></th>\n",
       "      <th>co</th>\n",
       "      <th>no2</th>\n",
       "      <th>o3</th>\n",
       "      <th>pm10</th>\n",
       "      <th>pm25</th>\n",
       "      <th>so2</th>\n",
       "      <th>humidity</th>\n",
       "      <th>pressure</th>\n",
       "      <th>temperature</th>\n",
       "      <th>wind-speed</th>\n",
       "    </tr>\n",
       "  </thead>\n",
       "  <tbody>\n",
       "    <tr>\n",
       "      <th>count</th>\n",
       "      <td>2399.000000</td>\n",
       "      <td>2399.000000</td>\n",
       "      <td>2399.000000</td>\n",
       "      <td>2398.000000</td>\n",
       "      <td>2398.000000</td>\n",
       "      <td>2399.000000</td>\n",
       "      <td>1698.000000</td>\n",
       "      <td>1698.000000</td>\n",
       "      <td>1698.000000</td>\n",
       "      <td>1629.000000</td>\n",
       "    </tr>\n",
       "    <tr>\n",
       "      <th>mean</th>\n",
       "      <td>9.325594</td>\n",
       "      <td>16.870946</td>\n",
       "      <td>9.480700</td>\n",
       "      <td>131.572143</td>\n",
       "      <td>164.397832</td>\n",
       "      <td>5.702751</td>\n",
       "      <td>60.708304</td>\n",
       "      <td>985.184923</td>\n",
       "      <td>26.338869</td>\n",
       "      <td>1.101964</td>\n",
       "    </tr>\n",
       "    <tr>\n",
       "      <th>std</th>\n",
       "      <td>3.715709</td>\n",
       "      <td>7.805715</td>\n",
       "      <td>4.829603</td>\n",
       "      <td>77.174642</td>\n",
       "      <td>64.829240</td>\n",
       "      <td>2.289821</td>\n",
       "      <td>17.138084</td>\n",
       "      <td>10.022854</td>\n",
       "      <td>6.631277</td>\n",
       "      <td>0.493156</td>\n",
       "    </tr>\n",
       "    <tr>\n",
       "      <th>min</th>\n",
       "      <td>0.100000</td>\n",
       "      <td>5.000000</td>\n",
       "      <td>2.400000</td>\n",
       "      <td>12.000000</td>\n",
       "      <td>30.000000</td>\n",
       "      <td>1.700000</td>\n",
       "      <td>13.000000</td>\n",
       "      <td>743.000000</td>\n",
       "      <td>6.200000</td>\n",
       "      <td>0.300000</td>\n",
       "    </tr>\n",
       "    <tr>\n",
       "      <th>25%</th>\n",
       "      <td>7.050000</td>\n",
       "      <td>10.600000</td>\n",
       "      <td>6.000000</td>\n",
       "      <td>82.000000</td>\n",
       "      <td>123.000000</td>\n",
       "      <td>4.000000</td>\n",
       "      <td>48.500000</td>\n",
       "      <td>979.800000</td>\n",
       "      <td>22.100000</td>\n",
       "      <td>0.800000</td>\n",
       "    </tr>\n",
       "    <tr>\n",
       "      <th>50%</th>\n",
       "      <td>8.400000</td>\n",
       "      <td>15.800000</td>\n",
       "      <td>8.200000</td>\n",
       "      <td>120.000000</td>\n",
       "      <td>160.000000</td>\n",
       "      <td>5.300000</td>\n",
       "      <td>63.000000</td>\n",
       "      <td>983.900000</td>\n",
       "      <td>28.600000</td>\n",
       "      <td>1.000000</td>\n",
       "    </tr>\n",
       "    <tr>\n",
       "      <th>75%</th>\n",
       "      <td>10.700000</td>\n",
       "      <td>21.500000</td>\n",
       "      <td>11.800000</td>\n",
       "      <td>160.000000</td>\n",
       "      <td>189.000000</td>\n",
       "      <td>7.100000</td>\n",
       "      <td>74.000000</td>\n",
       "      <td>990.400000</td>\n",
       "      <td>31.100000</td>\n",
       "      <td>1.300000</td>\n",
       "    </tr>\n",
       "    <tr>\n",
       "      <th>max</th>\n",
       "      <td>30.600000</td>\n",
       "      <td>66.500000</td>\n",
       "      <td>40.300000</td>\n",
       "      <td>999.000000</td>\n",
       "      <td>577.000000</td>\n",
       "      <td>19.800000</td>\n",
       "      <td>99.100000</td>\n",
       "      <td>1020.500000</td>\n",
       "      <td>38.000000</td>\n",
       "      <td>4.600000</td>\n",
       "    </tr>\n",
       "  </tbody>\n",
       "</table>\n",
       "</div>"
      ],
      "text/plain": [
       "                co          no2           o3         pm10         pm25  \\\n",
       "count  2399.000000  2399.000000  2399.000000  2398.000000  2398.000000   \n",
       "mean      9.325594    16.870946     9.480700   131.572143   164.397832   \n",
       "std       3.715709     7.805715     4.829603    77.174642    64.829240   \n",
       "min       0.100000     5.000000     2.400000    12.000000    30.000000   \n",
       "25%       7.050000    10.600000     6.000000    82.000000   123.000000   \n",
       "50%       8.400000    15.800000     8.200000   120.000000   160.000000   \n",
       "75%      10.700000    21.500000    11.800000   160.000000   189.000000   \n",
       "max      30.600000    66.500000    40.300000   999.000000   577.000000   \n",
       "\n",
       "               so2     humidity     pressure  temperature   wind-speed  \n",
       "count  2399.000000  1698.000000  1698.000000  1698.000000  1629.000000  \n",
       "mean      5.702751    60.708304   985.184923    26.338869     1.101964  \n",
       "std       2.289821    17.138084    10.022854     6.631277     0.493156  \n",
       "min       1.700000    13.000000   743.000000     6.200000     0.300000  \n",
       "25%       4.000000    48.500000   979.800000    22.100000     0.800000  \n",
       "50%       5.300000    63.000000   983.900000    28.600000     1.000000  \n",
       "75%       7.100000    74.000000   990.400000    31.100000     1.300000  \n",
       "max      19.800000    99.100000  1020.500000    38.000000     4.600000  "
      ]
     },
     "execution_count": 5,
     "metadata": {},
     "output_type": "execute_result"
    }
   ],
   "source": [
    "new_data.describe()"
   ]
  },
  {
   "cell_type": "code",
   "execution_count": 6,
   "id": "9371b82a",
   "metadata": {
    "execution": {
     "iopub.execute_input": "2025-01-27T21:37:01.473489Z",
     "iopub.status.busy": "2025-01-27T21:37:01.473123Z",
     "iopub.status.idle": "2025-01-27T21:37:01.485605Z",
     "shell.execute_reply": "2025-01-27T21:37:01.484466Z"
    },
    "papermill": {
     "duration": 0.029174,
     "end_time": "2025-01-27T21:37:01.487355",
     "exception": false,
     "start_time": "2025-01-27T21:37:01.458181",
     "status": "completed"
    },
    "tags": []
   },
   "outputs": [
    {
     "name": "stdout",
     "output_type": "stream",
     "text": [
      "The number of values for feature Date :2397\n",
      "The number of values for feature co :200\n",
      "The number of values for feature no2 :328\n",
      "The number of values for feature o3 :226\n",
      "The number of values for feature pm10 :320\n",
      "The number of values for feature pm25 :309\n",
      "The number of values for feature so2 :116\n",
      "The number of values for feature humidity :602\n",
      "The number of values for feature pressure :300\n",
      "The number of values for feature temperature :264\n",
      "The number of values for feature wind-speed :33\n",
      "The number of values for feature Country_City :1 -- ['India_Delhi']\n"
     ]
    }
   ],
   "source": [
    "# Investigate all the elements whithin each Feature\n",
    "\n",
    "for column in new_data:\n",
    "    # Handle numerical and string columns differently\n",
    "    if new_data[column].dtype == 'object':  # Check if column is of object type\n",
    "        unique_vals = new_data[column].unique()  # pandas unique for strings\n",
    "    else:\n",
    "        unique_vals = np.unique(new_data[column])  # numpy unique for numerical types\n",
    "\n",
    "    nr_values = len(unique_vals)\n",
    "    if nr_values < 14:\n",
    "        print('The number of values for feature {} :{} -- {}'.format(column, nr_values,unique_vals))\n",
    "    else:\n",
    "        print('The number of values for feature {} :{}'.format(column, nr_values))"
   ]
  },
  {
   "cell_type": "code",
   "execution_count": 7,
   "id": "932833bc",
   "metadata": {
    "execution": {
     "iopub.execute_input": "2025-01-27T21:37:01.518135Z",
     "iopub.status.busy": "2025-01-27T21:37:01.517738Z",
     "iopub.status.idle": "2025-01-27T21:37:01.525686Z",
     "shell.execute_reply": "2025-01-27T21:37:01.524606Z"
    },
    "papermill": {
     "duration": 0.024571,
     "end_time": "2025-01-27T21:37:01.527314",
     "exception": false,
     "start_time": "2025-01-27T21:37:01.502743",
     "status": "completed"
    },
    "tags": []
   },
   "outputs": [
    {
     "data": {
      "text/plain": [
       "Date              0\n",
       "co                0\n",
       "no2               0\n",
       "o3                0\n",
       "pm10              1\n",
       "pm25              1\n",
       "so2               0\n",
       "humidity        701\n",
       "pressure        701\n",
       "temperature     701\n",
       "wind-speed      770\n",
       "Country_City      0\n",
       "dtype: int64"
      ]
     },
     "execution_count": 7,
     "metadata": {},
     "output_type": "execute_result"
    }
   ],
   "source": [
    "new_data.isna().sum()"
   ]
  },
  {
   "cell_type": "markdown",
   "id": "eb21d604",
   "metadata": {
    "papermill": {
     "duration": 0.013905,
     "end_time": "2025-01-27T21:37:01.555442",
     "exception": false,
     "start_time": "2025-01-27T21:37:01.541537",
     "status": "completed"
    },
    "tags": []
   },
   "source": [
    "## **1.2 - Function**"
   ]
  },
  {
   "cell_type": "code",
   "execution_count": 8,
   "id": "5fad4395",
   "metadata": {
    "execution": {
     "iopub.execute_input": "2025-01-27T21:37:01.585214Z",
     "iopub.status.busy": "2025-01-27T21:37:01.584836Z",
     "iopub.status.idle": "2025-01-27T21:37:01.589763Z",
     "shell.execute_reply": "2025-01-27T21:37:01.588846Z"
    },
    "papermill": {
     "duration": 0.021645,
     "end_time": "2025-01-27T21:37:01.591385",
     "exception": false,
     "start_time": "2025-01-27T21:37:01.569740",
     "status": "completed"
    },
    "tags": []
   },
   "outputs": [
    {
     "name": "stdout",
     "output_type": "stream",
     "text": [
      "['__results__.html', '__notebook__.ipynb', 'function.py', '__output__.json', 'custom.css']\n"
     ]
    }
   ],
   "source": [
    "print(os.listdir('/kaggle/usr/lib/function'))"
   ]
  },
  {
   "cell_type": "code",
   "execution_count": 9,
   "id": "2abaa0a6",
   "metadata": {
    "execution": {
     "iopub.execute_input": "2025-01-27T21:37:01.620703Z",
     "iopub.status.busy": "2025-01-27T21:37:01.620370Z",
     "iopub.status.idle": "2025-01-27T21:37:01.631488Z",
     "shell.execute_reply": "2025-01-27T21:37:01.630562Z"
    },
    "papermill": {
     "duration": 0.027579,
     "end_time": "2025-01-27T21:37:01.633135",
     "exception": false,
     "start_time": "2025-01-27T21:37:01.605556",
     "status": "completed"
    },
    "tags": []
   },
   "outputs": [],
   "source": [
    "import sys\n",
    "sys.path.append(\"/kaggle/usr/lib/function\")  # Add directory to the path\n",
    "\n",
    "import function as fn"
   ]
  },
  {
   "cell_type": "code",
   "execution_count": 10,
   "id": "bf1e960a",
   "metadata": {
    "execution": {
     "iopub.execute_input": "2025-01-27T21:37:01.663434Z",
     "iopub.status.busy": "2025-01-27T21:37:01.663046Z",
     "iopub.status.idle": "2025-01-27T21:37:01.687780Z",
     "shell.execute_reply": "2025-01-27T21:37:01.686778Z"
    },
    "papermill": {
     "duration": 0.041972,
     "end_time": "2025-01-27T21:37:01.689389",
     "exception": false,
     "start_time": "2025-01-27T21:37:01.647417",
     "status": "completed"
    },
    "tags": []
   },
   "outputs": [
    {
     "data": {
      "text/html": [
       "<div>\n",
       "<style scoped>\n",
       "    .dataframe tbody tr th:only-of-type {\n",
       "        vertical-align: middle;\n",
       "    }\n",
       "\n",
       "    .dataframe tbody tr th {\n",
       "        vertical-align: top;\n",
       "    }\n",
       "\n",
       "    .dataframe thead th {\n",
       "        text-align: right;\n",
       "    }\n",
       "</style>\n",
       "<table border=\"1\" class=\"dataframe\">\n",
       "  <thead>\n",
       "    <tr style=\"text-align: right;\">\n",
       "      <th></th>\n",
       "      <th>co</th>\n",
       "      <th>no2</th>\n",
       "      <th>o3</th>\n",
       "      <th>pm10</th>\n",
       "      <th>pm25</th>\n",
       "      <th>so2</th>\n",
       "      <th>humidity</th>\n",
       "      <th>pressure</th>\n",
       "      <th>temperature</th>\n",
       "      <th>wind-speed</th>\n",
       "      <th>Country_City</th>\n",
       "    </tr>\n",
       "    <tr>\n",
       "      <th>Date</th>\n",
       "      <th></th>\n",
       "      <th></th>\n",
       "      <th></th>\n",
       "      <th></th>\n",
       "      <th></th>\n",
       "      <th></th>\n",
       "      <th></th>\n",
       "      <th></th>\n",
       "      <th></th>\n",
       "      <th></th>\n",
       "      <th></th>\n",
       "    </tr>\n",
       "  </thead>\n",
       "  <tbody>\n",
       "    <tr>\n",
       "      <th>2014-12-29</th>\n",
       "      <td>14.1</td>\n",
       "      <td>36.2</td>\n",
       "      <td>3.2</td>\n",
       "      <td>218.0</td>\n",
       "      <td>307.0</td>\n",
       "      <td>4.2</td>\n",
       "      <td>NaN</td>\n",
       "      <td>NaN</td>\n",
       "      <td>NaN</td>\n",
       "      <td>NaN</td>\n",
       "      <td>India_Delhi</td>\n",
       "    </tr>\n",
       "    <tr>\n",
       "      <th>2014-12-30</th>\n",
       "      <td>20.4</td>\n",
       "      <td>36.8</td>\n",
       "      <td>4.8</td>\n",
       "      <td>330.0</td>\n",
       "      <td>367.0</td>\n",
       "      <td>5.8</td>\n",
       "      <td>NaN</td>\n",
       "      <td>NaN</td>\n",
       "      <td>NaN</td>\n",
       "      <td>NaN</td>\n",
       "      <td>India_Delhi</td>\n",
       "    </tr>\n",
       "    <tr>\n",
       "      <th>2014-12-31</th>\n",
       "      <td>12.7</td>\n",
       "      <td>28.7</td>\n",
       "      <td>7.8</td>\n",
       "      <td>137.0</td>\n",
       "      <td>202.0</td>\n",
       "      <td>6.3</td>\n",
       "      <td>NaN</td>\n",
       "      <td>NaN</td>\n",
       "      <td>NaN</td>\n",
       "      <td>NaN</td>\n",
       "      <td>India_Delhi</td>\n",
       "    </tr>\n",
       "    <tr>\n",
       "      <th>2015-01-01</th>\n",
       "      <td>20.8</td>\n",
       "      <td>66.5</td>\n",
       "      <td>5.2</td>\n",
       "      <td>230.0</td>\n",
       "      <td>382.0</td>\n",
       "      <td>9.9</td>\n",
       "      <td>NaN</td>\n",
       "      <td>NaN</td>\n",
       "      <td>NaN</td>\n",
       "      <td>NaN</td>\n",
       "      <td>India_Delhi</td>\n",
       "    </tr>\n",
       "    <tr>\n",
       "      <th>2015-01-02</th>\n",
       "      <td>12.7</td>\n",
       "      <td>33.9</td>\n",
       "      <td>6.0</td>\n",
       "      <td>81.0</td>\n",
       "      <td>172.0</td>\n",
       "      <td>4.2</td>\n",
       "      <td>NaN</td>\n",
       "      <td>NaN</td>\n",
       "      <td>NaN</td>\n",
       "      <td>NaN</td>\n",
       "      <td>India_Delhi</td>\n",
       "    </tr>\n",
       "  </tbody>\n",
       "</table>\n",
       "</div>"
      ],
      "text/plain": [
       "              co   no2   o3   pm10   pm25  so2  humidity  pressure  \\\n",
       "Date                                                                 \n",
       "2014-12-29  14.1  36.2  3.2  218.0  307.0  4.2       NaN       NaN   \n",
       "2014-12-30  20.4  36.8  4.8  330.0  367.0  5.8       NaN       NaN   \n",
       "2014-12-31  12.7  28.7  7.8  137.0  202.0  6.3       NaN       NaN   \n",
       "2015-01-01  20.8  66.5  5.2  230.0  382.0  9.9       NaN       NaN   \n",
       "2015-01-02  12.7  33.9  6.0   81.0  172.0  4.2       NaN       NaN   \n",
       "\n",
       "            temperature  wind-speed Country_City  \n",
       "Date                                              \n",
       "2014-12-29          NaN         NaN  India_Delhi  \n",
       "2014-12-30          NaN         NaN  India_Delhi  \n",
       "2014-12-31          NaN         NaN  India_Delhi  \n",
       "2015-01-01          NaN         NaN  India_Delhi  \n",
       "2015-01-02          NaN         NaN  India_Delhi  "
      ]
     },
     "execution_count": 10,
     "metadata": {},
     "output_type": "execute_result"
    }
   ],
   "source": [
    "# Use the functions\n",
    "new_data1 = fn.prepare_datetime_index(new_data, date_column='Date')\n",
    "new_data1.head()"
   ]
  },
  {
   "cell_type": "code",
   "execution_count": 11,
   "id": "45abe8f8",
   "metadata": {
    "execution": {
     "iopub.execute_input": "2025-01-27T21:37:01.719365Z",
     "iopub.status.busy": "2025-01-27T21:37:01.718960Z",
     "iopub.status.idle": "2025-01-27T21:37:01.732789Z",
     "shell.execute_reply": "2025-01-27T21:37:01.731653Z"
    },
    "papermill": {
     "duration": 0.030678,
     "end_time": "2025-01-27T21:37:01.734578",
     "exception": false,
     "start_time": "2025-01-27T21:37:01.703900",
     "status": "completed"
    },
    "tags": []
   },
   "outputs": [
    {
     "name": "stdout",
     "output_type": "stream",
     "text": [
      "co              0\n",
      "no2             0\n",
      "o3              0\n",
      "pm10            0\n",
      "pm25            0\n",
      "so2             0\n",
      "humidity        0\n",
      "pressure        0\n",
      "temperature     0\n",
      "wind-speed      0\n",
      "Country_City    0\n",
      "dtype: int64\n"
     ]
    }
   ],
   "source": [
    "# Use the functions\n",
    "new_data2 = fn.fill_pollutant_values(new_data1)\n",
    "print(new_data2.isna().sum())"
   ]
  },
  {
   "cell_type": "markdown",
   "id": "d96cf046",
   "metadata": {
    "papermill": {
     "duration": 0.014043,
     "end_time": "2025-01-27T21:37:01.763390",
     "exception": false,
     "start_time": "2025-01-27T21:37:01.749347",
     "status": "completed"
    },
    "tags": []
   },
   "source": [
    "**Check**"
   ]
  },
  {
   "cell_type": "code",
   "execution_count": 12,
   "id": "bd5447b3",
   "metadata": {
    "execution": {
     "iopub.execute_input": "2025-01-27T21:37:01.793324Z",
     "iopub.status.busy": "2025-01-27T21:37:01.792918Z",
     "iopub.status.idle": "2025-01-27T21:37:01.807428Z",
     "shell.execute_reply": "2025-01-27T21:37:01.806341Z"
    },
    "papermill": {
     "duration": 0.031235,
     "end_time": "2025-01-27T21:37:01.809034",
     "exception": false,
     "start_time": "2025-01-27T21:37:01.777799",
     "status": "completed"
    },
    "tags": []
   },
   "outputs": [
    {
     "name": "stdout",
     "output_type": "stream",
     "text": [
      "Missing Dates:\n",
      "DatetimeIndex(['2015-07-06', '2015-07-07', '2015-07-08', '2015-07-09',\n",
      "               '2015-07-10', '2015-07-11', '2015-07-12', '2015-07-13',\n",
      "               '2015-07-14', '2015-07-15',\n",
      "               ...\n",
      "               '2022-03-18', '2022-03-19', '2022-03-20', '2022-03-21',\n",
      "               '2022-03-22', '2022-03-23', '2022-03-24', '2022-03-25',\n",
      "               '2022-03-26', '2022-03-27'],\n",
      "              dtype='datetime64[ns]', length=802, freq=None)\n"
     ]
    }
   ],
   "source": [
    "# Create a complete range of dates\n",
    "full_range = pd.date_range(start=new_data2.index.min(), end=new_data2.index.max())\n",
    "\n",
    "# Find missing dates\n",
    "missing_dates = full_range.difference(new_data2.index)\n",
    "print(\"Missing Dates:\")\n",
    "print(missing_dates)"
   ]
  },
  {
   "cell_type": "code",
   "execution_count": 13,
   "id": "8ec6cd42",
   "metadata": {
    "execution": {
     "iopub.execute_input": "2025-01-27T21:37:01.839518Z",
     "iopub.status.busy": "2025-01-27T21:37:01.839165Z",
     "iopub.status.idle": "2025-01-27T21:37:01.847674Z",
     "shell.execute_reply": "2025-01-27T21:37:01.846808Z"
    },
    "papermill": {
     "duration": 0.025714,
     "end_time": "2025-01-27T21:37:01.849350",
     "exception": false,
     "start_time": "2025-01-27T21:37:01.823636",
     "status": "completed"
    },
    "tags": []
   },
   "outputs": [],
   "source": [
    "new_data3 = fn.impute_missing_dates(new_data2)"
   ]
  },
  {
   "cell_type": "code",
   "execution_count": 14,
   "id": "b3660f36",
   "metadata": {
    "execution": {
     "iopub.execute_input": "2025-01-27T21:37:01.879777Z",
     "iopub.status.busy": "2025-01-27T21:37:01.879440Z",
     "iopub.status.idle": "2025-01-27T21:37:01.887545Z",
     "shell.execute_reply": "2025-01-27T21:37:01.886359Z"
    },
    "papermill": {
     "duration": 0.025083,
     "end_time": "2025-01-27T21:37:01.889177",
     "exception": false,
     "start_time": "2025-01-27T21:37:01.864094",
     "status": "completed"
    },
    "tags": []
   },
   "outputs": [
    {
     "name": "stdout",
     "output_type": "stream",
     "text": [
      "Missing Dates:\n",
      "DatetimeIndex([], dtype='datetime64[ns]', freq='D')\n"
     ]
    }
   ],
   "source": [
    "# Create a complete range of dates\n",
    "full_range = pd.date_range(start=new_data3.index.min(), end=new_data3.index.max())\n",
    "\n",
    "# Find missing dates\n",
    "missing_dates = full_range.difference(new_data3.index)\n",
    "print(\"Missing Dates:\")\n",
    "print(missing_dates)"
   ]
  },
  {
   "cell_type": "code",
   "execution_count": 15,
   "id": "003521fe",
   "metadata": {
    "execution": {
     "iopub.execute_input": "2025-01-27T21:37:01.919469Z",
     "iopub.status.busy": "2025-01-27T21:37:01.919121Z",
     "iopub.status.idle": "2025-01-27T21:37:01.924757Z",
     "shell.execute_reply": "2025-01-27T21:37:01.923617Z"
    },
    "papermill": {
     "duration": 0.02254,
     "end_time": "2025-01-27T21:37:01.926283",
     "exception": false,
     "start_time": "2025-01-27T21:37:01.903743",
     "status": "completed"
    },
    "tags": []
   },
   "outputs": [
    {
     "name": "stdout",
     "output_type": "stream",
     "text": [
      "Duplicate indexes: DatetimeIndex([], dtype='datetime64[ns]', freq='D')\n"
     ]
    }
   ],
   "source": [
    "duplicates = new_data3.index[new_data3.index.duplicated()]\n",
    "print(f\"Duplicate indexes: {duplicates}\")"
   ]
  },
  {
   "cell_type": "markdown",
   "id": "7b9ca426",
   "metadata": {
    "papermill": {
     "duration": 0.014139,
     "end_time": "2025-01-27T21:37:01.954997",
     "exception": false,
     "start_time": "2025-01-27T21:37:01.940858",
     "status": "completed"
    },
    "tags": []
   },
   "source": [
    "## **1.3.Normal AQI count, After Normal AQI count Smoothing AQI(IQR, Z-score, Rolling), (Preprocess Pollution --> Smooth Pollution --> Calculate smooth aqi).**"
   ]
  },
  {
   "cell_type": "code",
   "execution_count": 16,
   "id": "aae3757b",
   "metadata": {
    "execution": {
     "iopub.execute_input": "2025-01-27T21:37:01.985079Z",
     "iopub.status.busy": "2025-01-27T21:37:01.984701Z",
     "iopub.status.idle": "2025-01-27T21:37:01.997339Z",
     "shell.execute_reply": "2025-01-27T21:37:01.996214Z"
    },
    "papermill": {
     "duration": 0.02973,
     "end_time": "2025-01-27T21:37:01.999263",
     "exception": false,
     "start_time": "2025-01-27T21:37:01.969533",
     "status": "completed"
    },
    "tags": []
   },
   "outputs": [],
   "source": [
    "new_data4 = fn.calculate_aqi(new_data3, subindex_columns=['co', 'no2', 'o3', 'pm10', 'pm25', 'so2'])"
   ]
  },
  {
   "cell_type": "code",
   "execution_count": 17,
   "id": "bcbae8e3",
   "metadata": {
    "execution": {
     "iopub.execute_input": "2025-01-27T21:37:02.030319Z",
     "iopub.status.busy": "2025-01-27T21:37:02.029933Z",
     "iopub.status.idle": "2025-01-27T21:37:02.046783Z",
     "shell.execute_reply": "2025-01-27T21:37:02.045693Z"
    },
    "papermill": {
     "duration": 0.034085,
     "end_time": "2025-01-27T21:37:02.048322",
     "exception": false,
     "start_time": "2025-01-27T21:37:02.014237",
     "status": "completed"
    },
    "tags": []
   },
   "outputs": [
    {
     "data": {
      "text/html": [
       "<div>\n",
       "<style scoped>\n",
       "    .dataframe tbody tr th:only-of-type {\n",
       "        vertical-align: middle;\n",
       "    }\n",
       "\n",
       "    .dataframe tbody tr th {\n",
       "        vertical-align: top;\n",
       "    }\n",
       "\n",
       "    .dataframe thead th {\n",
       "        text-align: right;\n",
       "    }\n",
       "</style>\n",
       "<table border=\"1\" class=\"dataframe\">\n",
       "  <thead>\n",
       "    <tr style=\"text-align: right;\">\n",
       "      <th></th>\n",
       "      <th>co</th>\n",
       "      <th>no2</th>\n",
       "      <th>o3</th>\n",
       "      <th>pm10</th>\n",
       "      <th>pm25</th>\n",
       "      <th>so2</th>\n",
       "      <th>humidity</th>\n",
       "      <th>pressure</th>\n",
       "      <th>temperature</th>\n",
       "      <th>wind-speed</th>\n",
       "      <th>Country_City</th>\n",
       "      <th>Checks</th>\n",
       "      <th>AQI</th>\n",
       "    </tr>\n",
       "  </thead>\n",
       "  <tbody>\n",
       "    <tr>\n",
       "      <th>2014-12-29</th>\n",
       "      <td>14.1</td>\n",
       "      <td>36.2</td>\n",
       "      <td>3.2</td>\n",
       "      <td>218.0</td>\n",
       "      <td>307.0</td>\n",
       "      <td>4.2</td>\n",
       "      <td>60.691097</td>\n",
       "      <td>985.187382</td>\n",
       "      <td>26.3352</td>\n",
       "      <td>1.102459</td>\n",
       "      <td>India_Delhi</td>\n",
       "      <td>6</td>\n",
       "      <td>307.0</td>\n",
       "    </tr>\n",
       "    <tr>\n",
       "      <th>2014-12-30</th>\n",
       "      <td>20.4</td>\n",
       "      <td>36.8</td>\n",
       "      <td>4.8</td>\n",
       "      <td>330.0</td>\n",
       "      <td>367.0</td>\n",
       "      <td>5.8</td>\n",
       "      <td>60.691097</td>\n",
       "      <td>985.187382</td>\n",
       "      <td>26.3352</td>\n",
       "      <td>1.102459</td>\n",
       "      <td>India_Delhi</td>\n",
       "      <td>6</td>\n",
       "      <td>367.0</td>\n",
       "    </tr>\n",
       "    <tr>\n",
       "      <th>2014-12-31</th>\n",
       "      <td>12.7</td>\n",
       "      <td>28.7</td>\n",
       "      <td>7.8</td>\n",
       "      <td>137.0</td>\n",
       "      <td>202.0</td>\n",
       "      <td>6.3</td>\n",
       "      <td>60.691097</td>\n",
       "      <td>985.187382</td>\n",
       "      <td>26.3352</td>\n",
       "      <td>1.102459</td>\n",
       "      <td>India_Delhi</td>\n",
       "      <td>6</td>\n",
       "      <td>202.0</td>\n",
       "    </tr>\n",
       "    <tr>\n",
       "      <th>2015-01-01</th>\n",
       "      <td>20.8</td>\n",
       "      <td>66.5</td>\n",
       "      <td>5.2</td>\n",
       "      <td>230.0</td>\n",
       "      <td>382.0</td>\n",
       "      <td>9.9</td>\n",
       "      <td>60.691097</td>\n",
       "      <td>985.187382</td>\n",
       "      <td>26.3352</td>\n",
       "      <td>1.102459</td>\n",
       "      <td>India_Delhi</td>\n",
       "      <td>6</td>\n",
       "      <td>382.0</td>\n",
       "    </tr>\n",
       "    <tr>\n",
       "      <th>2015-01-02</th>\n",
       "      <td>12.7</td>\n",
       "      <td>33.9</td>\n",
       "      <td>6.0</td>\n",
       "      <td>81.0</td>\n",
       "      <td>172.0</td>\n",
       "      <td>4.2</td>\n",
       "      <td>60.691097</td>\n",
       "      <td>985.187382</td>\n",
       "      <td>26.3352</td>\n",
       "      <td>1.102459</td>\n",
       "      <td>India_Delhi</td>\n",
       "      <td>6</td>\n",
       "      <td>172.0</td>\n",
       "    </tr>\n",
       "  </tbody>\n",
       "</table>\n",
       "</div>"
      ],
      "text/plain": [
       "              co   no2   o3   pm10   pm25  so2   humidity    pressure  \\\n",
       "2014-12-29  14.1  36.2  3.2  218.0  307.0  4.2  60.691097  985.187382   \n",
       "2014-12-30  20.4  36.8  4.8  330.0  367.0  5.8  60.691097  985.187382   \n",
       "2014-12-31  12.7  28.7  7.8  137.0  202.0  6.3  60.691097  985.187382   \n",
       "2015-01-01  20.8  66.5  5.2  230.0  382.0  9.9  60.691097  985.187382   \n",
       "2015-01-02  12.7  33.9  6.0   81.0  172.0  4.2  60.691097  985.187382   \n",
       "\n",
       "            temperature  wind-speed Country_City  Checks    AQI  \n",
       "2014-12-29      26.3352    1.102459  India_Delhi       6  307.0  \n",
       "2014-12-30      26.3352    1.102459  India_Delhi       6  367.0  \n",
       "2014-12-31      26.3352    1.102459  India_Delhi       6  202.0  \n",
       "2015-01-01      26.3352    1.102459  India_Delhi       6  382.0  \n",
       "2015-01-02      26.3352    1.102459  India_Delhi       6  172.0  "
      ]
     },
     "execution_count": 17,
     "metadata": {},
     "output_type": "execute_result"
    }
   ],
   "source": [
    "new_data4.head()"
   ]
  },
  {
   "cell_type": "code",
   "execution_count": 18,
   "id": "ed2bf597",
   "metadata": {
    "execution": {
     "iopub.execute_input": "2025-01-27T21:37:02.079338Z",
     "iopub.status.busy": "2025-01-27T21:37:02.078936Z",
     "iopub.status.idle": "2025-01-27T21:37:02.084444Z",
     "shell.execute_reply": "2025-01-27T21:37:02.083464Z"
    },
    "papermill": {
     "duration": 0.022691,
     "end_time": "2025-01-27T21:37:02.086046",
     "exception": false,
     "start_time": "2025-01-27T21:37:02.063355",
     "status": "completed"
    },
    "tags": []
   },
   "outputs": [
    {
     "data": {
      "text/plain": [
       "(3199, 13)"
      ]
     },
     "execution_count": 18,
     "metadata": {},
     "output_type": "execute_result"
    }
   ],
   "source": [
    "new_data4.shape"
   ]
  },
  {
   "cell_type": "markdown",
   "id": "177c99ed",
   "metadata": {
    "papermill": {
     "duration": 0.014601,
     "end_time": "2025-01-27T21:37:02.115909",
     "exception": false,
     "start_time": "2025-01-27T21:37:02.101308",
     "status": "completed"
    },
    "tags": []
   },
   "source": [
    " After Normal AQI count Smoothing AQI(IQR, Z-score, Rolling)"
   ]
  },
  {
   "cell_type": "code",
   "execution_count": 19,
   "id": "7d76ce42",
   "metadata": {
    "execution": {
     "iopub.execute_input": "2025-01-27T21:37:02.147757Z",
     "iopub.status.busy": "2025-01-27T21:37:02.147435Z",
     "iopub.status.idle": "2025-01-27T21:37:02.165333Z",
     "shell.execute_reply": "2025-01-27T21:37:02.164476Z"
    },
    "papermill": {
     "duration": 0.036193,
     "end_time": "2025-01-27T21:37:02.167118",
     "exception": false,
     "start_time": "2025-01-27T21:37:02.130925",
     "status": "completed"
    },
    "tags": []
   },
   "outputs": [],
   "source": [
    "# Apply the outlier handling function to the 'AQI' column only\n",
    "new_data4['AQI_smoothed_iqr'] = fn.handle_aqi_outliers(new_data4['AQI'], method='iqr')\n",
    "new_data4['AQI_smoothed_zscore'] = fn.handle_aqi_outliers(new_data4['AQI'], method='zscore')\n",
    "new_data4['AQI_smoothed_rolling'] = fn.handle_aqi_outliers(new_data4['AQI'], method='rolling')"
   ]
  },
  {
   "cell_type": "code",
   "execution_count": 20,
   "id": "2d2ea3fe",
   "metadata": {
    "execution": {
     "iopub.execute_input": "2025-01-27T21:37:02.198530Z",
     "iopub.status.busy": "2025-01-27T21:37:02.198187Z",
     "iopub.status.idle": "2025-01-27T21:37:02.217256Z",
     "shell.execute_reply": "2025-01-27T21:37:02.216379Z"
    },
    "papermill": {
     "duration": 0.036409,
     "end_time": "2025-01-27T21:37:02.218763",
     "exception": false,
     "start_time": "2025-01-27T21:37:02.182354",
     "status": "completed"
    },
    "tags": []
   },
   "outputs": [
    {
     "data": {
      "text/html": [
       "<div>\n",
       "<style scoped>\n",
       "    .dataframe tbody tr th:only-of-type {\n",
       "        vertical-align: middle;\n",
       "    }\n",
       "\n",
       "    .dataframe tbody tr th {\n",
       "        vertical-align: top;\n",
       "    }\n",
       "\n",
       "    .dataframe thead th {\n",
       "        text-align: right;\n",
       "    }\n",
       "</style>\n",
       "<table border=\"1\" class=\"dataframe\">\n",
       "  <thead>\n",
       "    <tr style=\"text-align: right;\">\n",
       "      <th></th>\n",
       "      <th>co</th>\n",
       "      <th>no2</th>\n",
       "      <th>o3</th>\n",
       "      <th>pm10</th>\n",
       "      <th>pm25</th>\n",
       "      <th>so2</th>\n",
       "      <th>humidity</th>\n",
       "      <th>pressure</th>\n",
       "      <th>temperature</th>\n",
       "      <th>wind-speed</th>\n",
       "      <th>Country_City</th>\n",
       "      <th>Checks</th>\n",
       "      <th>AQI</th>\n",
       "      <th>AQI_smoothed_iqr</th>\n",
       "      <th>AQI_smoothed_zscore</th>\n",
       "      <th>AQI_smoothed_rolling</th>\n",
       "    </tr>\n",
       "  </thead>\n",
       "  <tbody>\n",
       "    <tr>\n",
       "      <th>2014-12-29</th>\n",
       "      <td>14.1</td>\n",
       "      <td>36.2</td>\n",
       "      <td>3.2</td>\n",
       "      <td>218.0</td>\n",
       "      <td>307.0</td>\n",
       "      <td>4.2</td>\n",
       "      <td>60.691097</td>\n",
       "      <td>985.187382</td>\n",
       "      <td>26.3352</td>\n",
       "      <td>1.102459</td>\n",
       "      <td>India_Delhi</td>\n",
       "      <td>6</td>\n",
       "      <td>307.0</td>\n",
       "      <td>307.0</td>\n",
       "      <td>307.0</td>\n",
       "      <td>307.0</td>\n",
       "    </tr>\n",
       "    <tr>\n",
       "      <th>2014-12-30</th>\n",
       "      <td>20.4</td>\n",
       "      <td>36.8</td>\n",
       "      <td>4.8</td>\n",
       "      <td>330.0</td>\n",
       "      <td>367.0</td>\n",
       "      <td>5.8</td>\n",
       "      <td>60.691097</td>\n",
       "      <td>985.187382</td>\n",
       "      <td>26.3352</td>\n",
       "      <td>1.102459</td>\n",
       "      <td>India_Delhi</td>\n",
       "      <td>6</td>\n",
       "      <td>367.0</td>\n",
       "      <td>367.0</td>\n",
       "      <td>367.0</td>\n",
       "      <td>367.0</td>\n",
       "    </tr>\n",
       "    <tr>\n",
       "      <th>2014-12-31</th>\n",
       "      <td>12.7</td>\n",
       "      <td>28.7</td>\n",
       "      <td>7.8</td>\n",
       "      <td>137.0</td>\n",
       "      <td>202.0</td>\n",
       "      <td>6.3</td>\n",
       "      <td>60.691097</td>\n",
       "      <td>985.187382</td>\n",
       "      <td>26.3352</td>\n",
       "      <td>1.102459</td>\n",
       "      <td>India_Delhi</td>\n",
       "      <td>6</td>\n",
       "      <td>202.0</td>\n",
       "      <td>202.0</td>\n",
       "      <td>202.0</td>\n",
       "      <td>202.0</td>\n",
       "    </tr>\n",
       "    <tr>\n",
       "      <th>2015-01-01</th>\n",
       "      <td>20.8</td>\n",
       "      <td>66.5</td>\n",
       "      <td>5.2</td>\n",
       "      <td>230.0</td>\n",
       "      <td>382.0</td>\n",
       "      <td>9.9</td>\n",
       "      <td>60.691097</td>\n",
       "      <td>985.187382</td>\n",
       "      <td>26.3352</td>\n",
       "      <td>1.102459</td>\n",
       "      <td>India_Delhi</td>\n",
       "      <td>6</td>\n",
       "      <td>382.0</td>\n",
       "      <td>382.0</td>\n",
       "      <td>158.0</td>\n",
       "      <td>382.0</td>\n",
       "    </tr>\n",
       "    <tr>\n",
       "      <th>2015-01-02</th>\n",
       "      <td>12.7</td>\n",
       "      <td>33.9</td>\n",
       "      <td>6.0</td>\n",
       "      <td>81.0</td>\n",
       "      <td>172.0</td>\n",
       "      <td>4.2</td>\n",
       "      <td>60.691097</td>\n",
       "      <td>985.187382</td>\n",
       "      <td>26.3352</td>\n",
       "      <td>1.102459</td>\n",
       "      <td>India_Delhi</td>\n",
       "      <td>6</td>\n",
       "      <td>172.0</td>\n",
       "      <td>172.0</td>\n",
       "      <td>172.0</td>\n",
       "      <td>172.0</td>\n",
       "    </tr>\n",
       "  </tbody>\n",
       "</table>\n",
       "</div>"
      ],
      "text/plain": [
       "              co   no2   o3   pm10   pm25  so2   humidity    pressure  \\\n",
       "2014-12-29  14.1  36.2  3.2  218.0  307.0  4.2  60.691097  985.187382   \n",
       "2014-12-30  20.4  36.8  4.8  330.0  367.0  5.8  60.691097  985.187382   \n",
       "2014-12-31  12.7  28.7  7.8  137.0  202.0  6.3  60.691097  985.187382   \n",
       "2015-01-01  20.8  66.5  5.2  230.0  382.0  9.9  60.691097  985.187382   \n",
       "2015-01-02  12.7  33.9  6.0   81.0  172.0  4.2  60.691097  985.187382   \n",
       "\n",
       "            temperature  wind-speed Country_City  Checks    AQI  \\\n",
       "2014-12-29      26.3352    1.102459  India_Delhi       6  307.0   \n",
       "2014-12-30      26.3352    1.102459  India_Delhi       6  367.0   \n",
       "2014-12-31      26.3352    1.102459  India_Delhi       6  202.0   \n",
       "2015-01-01      26.3352    1.102459  India_Delhi       6  382.0   \n",
       "2015-01-02      26.3352    1.102459  India_Delhi       6  172.0   \n",
       "\n",
       "            AQI_smoothed_iqr  AQI_smoothed_zscore  AQI_smoothed_rolling  \n",
       "2014-12-29             307.0                307.0                 307.0  \n",
       "2014-12-30             367.0                367.0                 367.0  \n",
       "2014-12-31             202.0                202.0                 202.0  \n",
       "2015-01-01             382.0                158.0                 382.0  \n",
       "2015-01-02             172.0                172.0                 172.0  "
      ]
     },
     "execution_count": 20,
     "metadata": {},
     "output_type": "execute_result"
    }
   ],
   "source": [
    "new_data4.head()"
   ]
  },
  {
   "cell_type": "markdown",
   "id": "eeaea90e",
   "metadata": {
    "papermill": {
     "duration": 0.014704,
     "end_time": "2025-01-27T21:37:02.248952",
     "exception": false,
     "start_time": "2025-01-27T21:37:02.234248",
     "status": "completed"
    },
    "tags": []
   },
   "source": [
    "(Preprocess Pollution --> Smooth Pollution --> Calculate smooth aqi)"
   ]
  },
  {
   "cell_type": "code",
   "execution_count": 21,
   "id": "05b1c01a",
   "metadata": {
    "execution": {
     "iopub.execute_input": "2025-01-27T21:37:02.281075Z",
     "iopub.status.busy": "2025-01-27T21:37:02.280695Z",
     "iopub.status.idle": "2025-01-27T21:37:02.316386Z",
     "shell.execute_reply": "2025-01-27T21:37:02.315381Z"
    },
    "papermill": {
     "duration": 0.054035,
     "end_time": "2025-01-27T21:37:02.318021",
     "exception": false,
     "start_time": "2025-01-27T21:37:02.263986",
     "status": "completed"
    },
    "tags": []
   },
   "outputs": [
    {
     "data": {
      "text/html": [
       "<div>\n",
       "<style scoped>\n",
       "    .dataframe tbody tr th:only-of-type {\n",
       "        vertical-align: middle;\n",
       "    }\n",
       "\n",
       "    .dataframe tbody tr th {\n",
       "        vertical-align: top;\n",
       "    }\n",
       "\n",
       "    .dataframe thead th {\n",
       "        text-align: right;\n",
       "    }\n",
       "</style>\n",
       "<table border=\"1\" class=\"dataframe\">\n",
       "  <thead>\n",
       "    <tr style=\"text-align: right;\">\n",
       "      <th></th>\n",
       "      <th>co</th>\n",
       "      <th>no2</th>\n",
       "      <th>o3</th>\n",
       "      <th>pm10</th>\n",
       "      <th>pm25</th>\n",
       "      <th>so2</th>\n",
       "      <th>humidity</th>\n",
       "      <th>pressure</th>\n",
       "      <th>temperature</th>\n",
       "      <th>wind-speed</th>\n",
       "      <th>Country_City</th>\n",
       "      <th>AQI_Smooth</th>\n",
       "    </tr>\n",
       "  </thead>\n",
       "  <tbody>\n",
       "    <tr>\n",
       "      <th>2014-12-29</th>\n",
       "      <td>11.50</td>\n",
       "      <td>29.400000</td>\n",
       "      <td>5.366667</td>\n",
       "      <td>182.333333</td>\n",
       "      <td>195.666667</td>\n",
       "      <td>6.000000</td>\n",
       "      <td>60.691097</td>\n",
       "      <td>985.187382</td>\n",
       "      <td>26.3352</td>\n",
       "      <td>1.102459</td>\n",
       "      <td>India_Delhi</td>\n",
       "      <td>195.666667</td>\n",
       "    </tr>\n",
       "    <tr>\n",
       "      <th>2014-12-30</th>\n",
       "      <td>11.50</td>\n",
       "      <td>29.400000</td>\n",
       "      <td>5.366667</td>\n",
       "      <td>182.333333</td>\n",
       "      <td>195.666667</td>\n",
       "      <td>6.000000</td>\n",
       "      <td>60.691097</td>\n",
       "      <td>985.187382</td>\n",
       "      <td>26.3352</td>\n",
       "      <td>1.102459</td>\n",
       "      <td>India_Delhi</td>\n",
       "      <td>195.666667</td>\n",
       "    </tr>\n",
       "    <tr>\n",
       "      <th>2014-12-31</th>\n",
       "      <td>11.50</td>\n",
       "      <td>29.400000</td>\n",
       "      <td>5.366667</td>\n",
       "      <td>182.333333</td>\n",
       "      <td>195.666667</td>\n",
       "      <td>6.000000</td>\n",
       "      <td>60.691097</td>\n",
       "      <td>985.187382</td>\n",
       "      <td>26.3352</td>\n",
       "      <td>1.102459</td>\n",
       "      <td>India_Delhi</td>\n",
       "      <td>195.666667</td>\n",
       "    </tr>\n",
       "    <tr>\n",
       "      <th>2015-01-01</th>\n",
       "      <td>11.50</td>\n",
       "      <td>29.400000</td>\n",
       "      <td>5.366667</td>\n",
       "      <td>182.333333</td>\n",
       "      <td>195.666667</td>\n",
       "      <td>6.000000</td>\n",
       "      <td>60.691097</td>\n",
       "      <td>985.187382</td>\n",
       "      <td>26.3352</td>\n",
       "      <td>1.102459</td>\n",
       "      <td>India_Delhi</td>\n",
       "      <td>195.666667</td>\n",
       "    </tr>\n",
       "    <tr>\n",
       "      <th>2015-01-02</th>\n",
       "      <td>11.25</td>\n",
       "      <td>26.616667</td>\n",
       "      <td>5.816667</td>\n",
       "      <td>166.000000</td>\n",
       "      <td>177.000000</td>\n",
       "      <td>5.733333</td>\n",
       "      <td>60.691097</td>\n",
       "      <td>985.187382</td>\n",
       "      <td>26.3352</td>\n",
       "      <td>1.102459</td>\n",
       "      <td>India_Delhi</td>\n",
       "      <td>177.000000</td>\n",
       "    </tr>\n",
       "  </tbody>\n",
       "</table>\n",
       "</div>"
      ],
      "text/plain": [
       "               co        no2        o3        pm10        pm25       so2  \\\n",
       "2014-12-29  11.50  29.400000  5.366667  182.333333  195.666667  6.000000   \n",
       "2014-12-30  11.50  29.400000  5.366667  182.333333  195.666667  6.000000   \n",
       "2014-12-31  11.50  29.400000  5.366667  182.333333  195.666667  6.000000   \n",
       "2015-01-01  11.50  29.400000  5.366667  182.333333  195.666667  6.000000   \n",
       "2015-01-02  11.25  26.616667  5.816667  166.000000  177.000000  5.733333   \n",
       "\n",
       "             humidity    pressure  temperature  wind-speed Country_City  \\\n",
       "2014-12-29  60.691097  985.187382      26.3352    1.102459  India_Delhi   \n",
       "2014-12-30  60.691097  985.187382      26.3352    1.102459  India_Delhi   \n",
       "2014-12-31  60.691097  985.187382      26.3352    1.102459  India_Delhi   \n",
       "2015-01-01  60.691097  985.187382      26.3352    1.102459  India_Delhi   \n",
       "2015-01-02  60.691097  985.187382      26.3352    1.102459  India_Delhi   \n",
       "\n",
       "            AQI_Smooth  \n",
       "2014-12-29  195.666667  \n",
       "2014-12-30  195.666667  \n",
       "2014-12-31  195.666667  \n",
       "2015-01-01  195.666667  \n",
       "2015-01-02  177.000000  "
      ]
     },
     "execution_count": 21,
     "metadata": {},
     "output_type": "execute_result"
    }
   ],
   "source": [
    "new_smooth = fn.calculate_smooth_aqi(new_data3, columns=['co', 'no2', 'o3', 'pm10', 'pm25', 'so2'])\n",
    "new_smooth.head()"
   ]
  },
  {
   "cell_type": "markdown",
   "id": "a22a4b8a",
   "metadata": {
    "papermill": {
     "duration": 0.015234,
     "end_time": "2025-01-27T21:37:02.349168",
     "exception": false,
     "start_time": "2025-01-27T21:37:02.333934",
     "status": "completed"
    },
    "tags": []
   },
   "source": [
    "**AQI (normal, smooth_iqr, smooth_zscore, smooth_rolling, smooth)**"
   ]
  },
  {
   "cell_type": "code",
   "execution_count": 22,
   "id": "52703873",
   "metadata": {
    "execution": {
     "iopub.execute_input": "2025-01-27T21:37:02.380803Z",
     "iopub.status.busy": "2025-01-27T21:37:02.380473Z",
     "iopub.status.idle": "2025-01-27T21:37:02.998116Z",
     "shell.execute_reply": "2025-01-27T21:37:02.997129Z"
    },
    "papermill": {
     "duration": 0.635337,
     "end_time": "2025-01-27T21:37:02.999675",
     "exception": false,
     "start_time": "2025-01-27T21:37:02.364338",
     "status": "completed"
    },
    "tags": []
   },
   "outputs": [
    {
     "data": {
      "text/plain": [
       "<Axes: >"
      ]
     },
     "execution_count": 22,
     "metadata": {},
     "output_type": "execute_result"
    },
    {
     "data": {
      "image/png": "[encoded data removed]",
      "text/plain": [
       "<Figure size 640x480 with 1 Axes>"
      ]
     },
     "metadata": {},
     "output_type": "display_data"
    }
   ],
   "source": [
    "#normal\n",
    "aqi_normal = new_data4['AQI']\n",
    "aqi_normal.plot()"
   ]
  },
  {
   "cell_type": "code",
   "execution_count": 23,
   "id": "c46d2a10",
   "metadata": {
    "execution": {
     "iopub.execute_input": "2025-01-27T21:37:03.033373Z",
     "iopub.status.busy": "2025-01-27T21:37:03.032970Z",
     "iopub.status.idle": "2025-01-27T21:37:03.633849Z",
     "shell.execute_reply": "2025-01-27T21:37:03.632507Z"
    },
    "papermill": {
     "duration": 0.619885,
     "end_time": "2025-01-27T21:37:03.635902",
     "exception": false,
     "start_time": "2025-01-27T21:37:03.016017",
     "status": "completed"
    },
    "tags": []
   },
   "outputs": [
    {
     "data": {
      "text/plain": [
       "<Axes: >"
      ]
     },
     "execution_count": 23,
     "metadata": {},
     "output_type": "execute_result"
    },
    {
     "data": {
      "image/png": "[encoded data removed]",
      "text/plain": [
       "<Figure size 640x480 with 1 Axes>"
      ]
     },
     "metadata": {},
     "output_type": "display_data"
    }
   ],
   "source": [
    "#smooth_iqr\n",
    "aqi_smooth_iqr = new_data4['AQI_smoothed_iqr']\n",
    "aqi_smooth_iqr.plot()"
   ]
  },
  {
   "cell_type": "code",
   "execution_count": 24,
   "id": "ab7cd76c",
   "metadata": {
    "execution": {
     "iopub.execute_input": "2025-01-27T21:37:03.751438Z",
     "iopub.status.busy": "2025-01-27T21:37:03.751017Z",
     "iopub.status.idle": "2025-01-27T21:37:04.257011Z",
     "shell.execute_reply": "2025-01-27T21:37:04.256040Z"
    },
    "papermill": {
     "duration": 0.593226,
     "end_time": "2025-01-27T21:37:04.258719",
     "exception": false,
     "start_time": "2025-01-27T21:37:03.665493",
     "status": "completed"
    },
    "tags": []
   },
   "outputs": [
    {
     "data": {
      "text/plain": [
       "<Axes: >"
      ]
     },
     "execution_count": 24,
     "metadata": {},
     "output_type": "execute_result"
    },
    {
     "data": {
      "image/png": "[encoded data removed]",
      "text/plain": [
       "<Figure size 640x480 with 1 Axes>"
      ]
     },
     "metadata": {},
     "output_type": "display_data"
    }
   ],
   "source": [
    "#smooth_zscore\n",
    "aqi_smooth_zscore = new_data4['AQI_smoothed_zscore']\n",
    "aqi_smooth_zscore.plot()"
   ]
  },
  {
   "cell_type": "code",
   "execution_count": 25,
   "id": "b4754121",
   "metadata": {
    "execution": {
     "iopub.execute_input": "2025-01-27T21:37:04.296664Z",
     "iopub.status.busy": "2025-01-27T21:37:04.296331Z",
     "iopub.status.idle": "2025-01-27T21:37:04.766688Z",
     "shell.execute_reply": "2025-01-27T21:37:04.765613Z"
    },
    "papermill": {
     "duration": 0.491251,
     "end_time": "2025-01-27T21:37:04.768491",
     "exception": false,
     "start_time": "2025-01-27T21:37:04.277240",
     "status": "completed"
    },
    "tags": []
   },
   "outputs": [
    {
     "data": {
      "text/plain": [
       "<Axes: >"
      ]
     },
     "execution_count": 25,
     "metadata": {},
     "output_type": "execute_result"
    },
    {
     "data": {
      "image/png": "[encoded data removed]",
      "text/plain": [
       "<Figure size 640x480 with 1 Axes>"
      ]
     },
     "metadata": {},
     "output_type": "display_data"
    }
   ],
   "source": [
    "#smooth_rolling\n",
    "aqi_smooth_rolling = new_data4['AQI_smoothed_rolling']\n",
    "aqi_smooth_rolling.plot()"
   ]
  },
  {
   "cell_type": "code",
   "execution_count": 26,
   "id": "aa80f698",
   "metadata": {
    "execution": {
     "iopub.execute_input": "2025-01-27T21:37:04.807542Z",
     "iopub.status.busy": "2025-01-27T21:37:04.807196Z",
     "iopub.status.idle": "2025-01-27T21:37:05.277557Z",
     "shell.execute_reply": "2025-01-27T21:37:05.276506Z"
    },
    "papermill": {
     "duration": 0.492361,
     "end_time": "2025-01-27T21:37:05.279854",
     "exception": false,
     "start_time": "2025-01-27T21:37:04.787493",
     "status": "completed"
    },
    "tags": []
   },
   "outputs": [
    {
     "data": {
      "text/plain": [
       "<Axes: >"
      ]
     },
     "execution_count": 26,
     "metadata": {},
     "output_type": "execute_result"
    },
    {
     "data": {
      "image/png": "[encoded data removed]",
      "text/plain": [
       "<Figure size 640x480 with 1 Axes>"
      ]
     },
     "metadata": {},
     "output_type": "display_data"
    }
   ],
   "source": [
    "#smooth\n",
    "aqi_smooth = new_smooth['AQI_Smooth']\n",
    "aqi_smooth.plot()"
   ]
  },
  {
   "cell_type": "code",
   "execution_count": null,
   "id": "ac93bf6f",
   "metadata": {
    "papermill": {
     "duration": 0.019755,
     "end_time": "2025-01-27T21:37:05.319770",
     "exception": false,
     "start_time": "2025-01-27T21:37:05.300015",
     "status": "completed"
    },
    "tags": []
   },
   "outputs": [],
   "source": []
  },
  {
   "cell_type": "markdown",
   "id": "fd6225b2",
   "metadata": {
    "papermill": {
     "duration": 0.019681,
     "end_time": "2025-01-27T21:37:05.359455",
     "exception": false,
     "start_time": "2025-01-27T21:37:05.339774",
     "status": "completed"
    },
    "tags": []
   },
   "source": [
    "# **2. Split and Preprocess**"
   ]
  },
  {
   "cell_type": "markdown",
   "id": "3066eba5",
   "metadata": {
    "papermill": {
     "duration": 0.0196,
     "end_time": "2025-01-27T21:37:05.398830",
     "exception": false,
     "start_time": "2025-01-27T21:37:05.379230",
     "status": "completed"
    },
    "tags": []
   },
   "source": [
    "## **2.1. Splitting & Preprocessing the Raw Data(Normal AQI)**"
   ]
  },
  {
   "cell_type": "markdown",
   "id": "f25299f4",
   "metadata": {
    "papermill": {
     "duration": 0.019681,
     "end_time": "2025-01-27T21:37:05.438262",
     "exception": false,
     "start_time": "2025-01-27T21:37:05.418581",
     "status": "completed"
    },
    "tags": []
   },
   "source": [
    "Normal AQI"
   ]
  },
  {
   "cell_type": "code",
   "execution_count": 27,
   "id": "f2bc899b",
   "metadata": {
    "execution": {
     "iopub.execute_input": "2025-01-27T21:37:05.479288Z",
     "iopub.status.busy": "2025-01-27T21:37:05.478867Z",
     "iopub.status.idle": "2025-01-27T21:37:05.500868Z",
     "shell.execute_reply": "2025-01-27T21:37:05.499748Z"
    },
    "papermill": {
     "duration": 0.044513,
     "end_time": "2025-01-27T21:37:05.502535",
     "exception": false,
     "start_time": "2025-01-27T21:37:05.458022",
     "status": "completed"
    },
    "tags": []
   },
   "outputs": [
    {
     "data": {
      "text/html": [
       "<div>\n",
       "<style scoped>\n",
       "    .dataframe tbody tr th:only-of-type {\n",
       "        vertical-align: middle;\n",
       "    }\n",
       "\n",
       "    .dataframe tbody tr th {\n",
       "        vertical-align: top;\n",
       "    }\n",
       "\n",
       "    .dataframe thead th {\n",
       "        text-align: right;\n",
       "    }\n",
       "</style>\n",
       "<table border=\"1\" class=\"dataframe\">\n",
       "  <thead>\n",
       "    <tr style=\"text-align: right;\">\n",
       "      <th></th>\n",
       "      <th>co</th>\n",
       "      <th>no2</th>\n",
       "      <th>o3</th>\n",
       "      <th>pm10</th>\n",
       "      <th>pm25</th>\n",
       "      <th>so2</th>\n",
       "      <th>humidity</th>\n",
       "      <th>pressure</th>\n",
       "      <th>temperature</th>\n",
       "      <th>wind-speed</th>\n",
       "      <th>Country_City</th>\n",
       "      <th>Checks</th>\n",
       "      <th>AQI</th>\n",
       "      <th>AQI_smoothed_iqr</th>\n",
       "      <th>AQI_smoothed_zscore</th>\n",
       "      <th>AQI_smoothed_rolling</th>\n",
       "    </tr>\n",
       "  </thead>\n",
       "  <tbody>\n",
       "    <tr>\n",
       "      <th>2014-12-29</th>\n",
       "      <td>14.1</td>\n",
       "      <td>36.2</td>\n",
       "      <td>3.2</td>\n",
       "      <td>218.0</td>\n",
       "      <td>307.0</td>\n",
       "      <td>4.2</td>\n",
       "      <td>60.691097</td>\n",
       "      <td>985.187382</td>\n",
       "      <td>26.3352</td>\n",
       "      <td>1.102459</td>\n",
       "      <td>India_Delhi</td>\n",
       "      <td>6</td>\n",
       "      <td>307.0</td>\n",
       "      <td>307.0</td>\n",
       "      <td>307.0</td>\n",
       "      <td>307.0</td>\n",
       "    </tr>\n",
       "    <tr>\n",
       "      <th>2014-12-30</th>\n",
       "      <td>20.4</td>\n",
       "      <td>36.8</td>\n",
       "      <td>4.8</td>\n",
       "      <td>330.0</td>\n",
       "      <td>367.0</td>\n",
       "      <td>5.8</td>\n",
       "      <td>60.691097</td>\n",
       "      <td>985.187382</td>\n",
       "      <td>26.3352</td>\n",
       "      <td>1.102459</td>\n",
       "      <td>India_Delhi</td>\n",
       "      <td>6</td>\n",
       "      <td>367.0</td>\n",
       "      <td>367.0</td>\n",
       "      <td>367.0</td>\n",
       "      <td>367.0</td>\n",
       "    </tr>\n",
       "    <tr>\n",
       "      <th>2014-12-31</th>\n",
       "      <td>12.7</td>\n",
       "      <td>28.7</td>\n",
       "      <td>7.8</td>\n",
       "      <td>137.0</td>\n",
       "      <td>202.0</td>\n",
       "      <td>6.3</td>\n",
       "      <td>60.691097</td>\n",
       "      <td>985.187382</td>\n",
       "      <td>26.3352</td>\n",
       "      <td>1.102459</td>\n",
       "      <td>India_Delhi</td>\n",
       "      <td>6</td>\n",
       "      <td>202.0</td>\n",
       "      <td>202.0</td>\n",
       "      <td>202.0</td>\n",
       "      <td>202.0</td>\n",
       "    </tr>\n",
       "    <tr>\n",
       "      <th>2015-01-01</th>\n",
       "      <td>20.8</td>\n",
       "      <td>66.5</td>\n",
       "      <td>5.2</td>\n",
       "      <td>230.0</td>\n",
       "      <td>382.0</td>\n",
       "      <td>9.9</td>\n",
       "      <td>60.691097</td>\n",
       "      <td>985.187382</td>\n",
       "      <td>26.3352</td>\n",
       "      <td>1.102459</td>\n",
       "      <td>India_Delhi</td>\n",
       "      <td>6</td>\n",
       "      <td>382.0</td>\n",
       "      <td>382.0</td>\n",
       "      <td>158.0</td>\n",
       "      <td>382.0</td>\n",
       "    </tr>\n",
       "    <tr>\n",
       "      <th>2015-01-02</th>\n",
       "      <td>12.7</td>\n",
       "      <td>33.9</td>\n",
       "      <td>6.0</td>\n",
       "      <td>81.0</td>\n",
       "      <td>172.0</td>\n",
       "      <td>4.2</td>\n",
       "      <td>60.691097</td>\n",
       "      <td>985.187382</td>\n",
       "      <td>26.3352</td>\n",
       "      <td>1.102459</td>\n",
       "      <td>India_Delhi</td>\n",
       "      <td>6</td>\n",
       "      <td>172.0</td>\n",
       "      <td>172.0</td>\n",
       "      <td>172.0</td>\n",
       "      <td>172.0</td>\n",
       "    </tr>\n",
       "    <tr>\n",
       "      <th>2015-01-03</th>\n",
       "      <td>14.3</td>\n",
       "      <td>27.8</td>\n",
       "      <td>5.2</td>\n",
       "      <td>98.0</td>\n",
       "      <td>179.0</td>\n",
       "      <td>5.6</td>\n",
       "      <td>60.691097</td>\n",
       "      <td>985.187382</td>\n",
       "      <td>26.3352</td>\n",
       "      <td>1.102459</td>\n",
       "      <td>India_Delhi</td>\n",
       "      <td>6</td>\n",
       "      <td>179.0</td>\n",
       "      <td>179.0</td>\n",
       "      <td>179.0</td>\n",
       "      <td>179.0</td>\n",
       "    </tr>\n",
       "    <tr>\n",
       "      <th>2015-01-04</th>\n",
       "      <td>12.6</td>\n",
       "      <td>19.5</td>\n",
       "      <td>5.9</td>\n",
       "      <td>120.0</td>\n",
       "      <td>195.0</td>\n",
       "      <td>2.6</td>\n",
       "      <td>60.691097</td>\n",
       "      <td>985.187382</td>\n",
       "      <td>26.3352</td>\n",
       "      <td>1.102459</td>\n",
       "      <td>India_Delhi</td>\n",
       "      <td>6</td>\n",
       "      <td>195.0</td>\n",
       "      <td>195.0</td>\n",
       "      <td>195.0</td>\n",
       "      <td>195.0</td>\n",
       "    </tr>\n",
       "    <tr>\n",
       "      <th>2015-01-05</th>\n",
       "      <td>13.1</td>\n",
       "      <td>19.1</td>\n",
       "      <td>8.4</td>\n",
       "      <td>114.0</td>\n",
       "      <td>185.0</td>\n",
       "      <td>2.5</td>\n",
       "      <td>60.691097</td>\n",
       "      <td>985.187382</td>\n",
       "      <td>26.3352</td>\n",
       "      <td>1.102459</td>\n",
       "      <td>India_Delhi</td>\n",
       "      <td>6</td>\n",
       "      <td>185.0</td>\n",
       "      <td>185.0</td>\n",
       "      <td>185.0</td>\n",
       "      <td>185.0</td>\n",
       "    </tr>\n",
       "  </tbody>\n",
       "</table>\n",
       "</div>"
      ],
      "text/plain": [
       "              co   no2   o3   pm10   pm25  so2   humidity    pressure  \\\n",
       "2014-12-29  14.1  36.2  3.2  218.0  307.0  4.2  60.691097  985.187382   \n",
       "2014-12-30  20.4  36.8  4.8  330.0  367.0  5.8  60.691097  985.187382   \n",
       "2014-12-31  12.7  28.7  7.8  137.0  202.0  6.3  60.691097  985.187382   \n",
       "2015-01-01  20.8  66.5  5.2  230.0  382.0  9.9  60.691097  985.187382   \n",
       "2015-01-02  12.7  33.9  6.0   81.0  172.0  4.2  60.691097  985.187382   \n",
       "2015-01-03  14.3  27.8  5.2   98.0  179.0  5.6  60.691097  985.187382   \n",
       "2015-01-04  12.6  19.5  5.9  120.0  195.0  2.6  60.691097  985.187382   \n",
       "2015-01-05  13.1  19.1  8.4  114.0  185.0  2.5  60.691097  985.187382   \n",
       "\n",
       "            temperature  wind-speed Country_City  Checks    AQI  \\\n",
       "2014-12-29      26.3352    1.102459  India_Delhi       6  307.0   \n",
       "2014-12-30      26.3352    1.102459  India_Delhi       6  367.0   \n",
       "2014-12-31      26.3352    1.102459  India_Delhi       6  202.0   \n",
       "2015-01-01      26.3352    1.102459  India_Delhi       6  382.0   \n",
       "2015-01-02      26.3352    1.102459  India_Delhi       6  172.0   \n",
       "2015-01-03      26.3352    1.102459  India_Delhi       6  179.0   \n",
       "2015-01-04      26.3352    1.102459  India_Delhi       6  195.0   \n",
       "2015-01-05      26.3352    1.102459  India_Delhi       6  185.0   \n",
       "\n",
       "            AQI_smoothed_iqr  AQI_smoothed_zscore  AQI_smoothed_rolling  \n",
       "2014-12-29             307.0                307.0                 307.0  \n",
       "2014-12-30             367.0                367.0                 367.0  \n",
       "2014-12-31             202.0                202.0                 202.0  \n",
       "2015-01-01             382.0                158.0                 382.0  \n",
       "2015-01-02             172.0                172.0                 172.0  \n",
       "2015-01-03             179.0                179.0                 179.0  \n",
       "2015-01-04             195.0                195.0                 195.0  \n",
       "2015-01-05             185.0                185.0                 185.0  "
      ]
     },
     "execution_count": 27,
     "metadata": {},
     "output_type": "execute_result"
    }
   ],
   "source": [
    "new_data4.head(8)"
   ]
  },
  {
   "cell_type": "code",
   "execution_count": 28,
   "id": "da09a2a7",
   "metadata": {
    "execution": {
     "iopub.execute_input": "2025-01-27T21:37:05.546028Z",
     "iopub.status.busy": "2025-01-27T21:37:05.545621Z",
     "iopub.status.idle": "2025-01-27T21:37:05.551305Z",
     "shell.execute_reply": "2025-01-27T21:37:05.550303Z"
    },
    "papermill": {
     "duration": 0.028146,
     "end_time": "2025-01-27T21:37:05.552746",
     "exception": false,
     "start_time": "2025-01-27T21:37:05.524600",
     "status": "completed"
    },
    "tags": []
   },
   "outputs": [
    {
     "data": {
      "text/plain": [
       "Index(['co', 'no2', 'o3', 'pm10', 'pm25', 'so2', 'humidity', 'pressure',\n",
       "       'temperature', 'wind-speed', 'Country_City', 'Checks', 'AQI',\n",
       "       'AQI_smoothed_iqr', 'AQI_smoothed_zscore', 'AQI_smoothed_rolling'],\n",
       "      dtype='object')"
      ]
     },
     "execution_count": 28,
     "metadata": {},
     "output_type": "execute_result"
    }
   ],
   "source": [
    "new_data4.columns"
   ]
  },
  {
   "cell_type": "code",
   "execution_count": 29,
   "id": "30611149",
   "metadata": {
    "execution": {
     "iopub.execute_input": "2025-01-27T21:37:05.594650Z",
     "iopub.status.busy": "2025-01-27T21:37:05.594313Z",
     "iopub.status.idle": "2025-01-27T21:37:05.599193Z",
     "shell.execute_reply": "2025-01-27T21:37:05.598321Z"
    },
    "papermill": {
     "duration": 0.027631,
     "end_time": "2025-01-27T21:37:05.600821",
     "exception": false,
     "start_time": "2025-01-27T21:37:05.573190",
     "status": "completed"
    },
    "tags": []
   },
   "outputs": [],
   "source": [
    "aqi_normal = new_data4.copy()"
   ]
  },
  {
   "cell_type": "code",
   "execution_count": 30,
   "id": "fa63dd8c",
   "metadata": {
    "execution": {
     "iopub.execute_input": "2025-01-27T21:37:05.642667Z",
     "iopub.status.busy": "2025-01-27T21:37:05.642295Z",
     "iopub.status.idle": "2025-01-27T21:37:05.647538Z",
     "shell.execute_reply": "2025-01-27T21:37:05.646522Z"
    },
    "papermill": {
     "duration": 0.027944,
     "end_time": "2025-01-27T21:37:05.649097",
     "exception": false,
     "start_time": "2025-01-27T21:37:05.621153",
     "status": "completed"
    },
    "tags": []
   },
   "outputs": [],
   "source": [
    "aqi_normal = aqi_normal.drop([ 'humidity', 'pressure',\n",
    "       'temperature', 'wind-speed', 'Country_City', 'Checks', \n",
    "        'AQI_smoothed_iqr', 'AQI', 'AQI_smoothed_rolling'], axis = 1)"
   ]
  },
  {
   "cell_type": "code",
   "execution_count": 31,
   "id": "2bad1548",
   "metadata": {
    "execution": {
     "iopub.execute_input": "2025-01-27T21:37:05.691013Z",
     "iopub.status.busy": "2025-01-27T21:37:05.690665Z",
     "iopub.status.idle": "2025-01-27T21:37:05.704238Z",
     "shell.execute_reply": "2025-01-27T21:37:05.703280Z"
    },
    "papermill": {
     "duration": 0.036083,
     "end_time": "2025-01-27T21:37:05.705784",
     "exception": false,
     "start_time": "2025-01-27T21:37:05.669701",
     "status": "completed"
    },
    "tags": []
   },
   "outputs": [
    {
     "data": {
      "text/html": [
       "<div>\n",
       "<style scoped>\n",
       "    .dataframe tbody tr th:only-of-type {\n",
       "        vertical-align: middle;\n",
       "    }\n",
       "\n",
       "    .dataframe tbody tr th {\n",
       "        vertical-align: top;\n",
       "    }\n",
       "\n",
       "    .dataframe thead th {\n",
       "        text-align: right;\n",
       "    }\n",
       "</style>\n",
       "<table border=\"1\" class=\"dataframe\">\n",
       "  <thead>\n",
       "    <tr style=\"text-align: right;\">\n",
       "      <th></th>\n",
       "      <th>co</th>\n",
       "      <th>no2</th>\n",
       "      <th>o3</th>\n",
       "      <th>pm10</th>\n",
       "      <th>pm25</th>\n",
       "      <th>so2</th>\n",
       "      <th>AQI_smoothed_zscore</th>\n",
       "    </tr>\n",
       "  </thead>\n",
       "  <tbody>\n",
       "    <tr>\n",
       "      <th>2014-12-29</th>\n",
       "      <td>14.1</td>\n",
       "      <td>36.2</td>\n",
       "      <td>3.2</td>\n",
       "      <td>218.0</td>\n",
       "      <td>307.0</td>\n",
       "      <td>4.2</td>\n",
       "      <td>307.0</td>\n",
       "    </tr>\n",
       "    <tr>\n",
       "      <th>2014-12-30</th>\n",
       "      <td>20.4</td>\n",
       "      <td>36.8</td>\n",
       "      <td>4.8</td>\n",
       "      <td>330.0</td>\n",
       "      <td>367.0</td>\n",
       "      <td>5.8</td>\n",
       "      <td>367.0</td>\n",
       "    </tr>\n",
       "    <tr>\n",
       "      <th>2014-12-31</th>\n",
       "      <td>12.7</td>\n",
       "      <td>28.7</td>\n",
       "      <td>7.8</td>\n",
       "      <td>137.0</td>\n",
       "      <td>202.0</td>\n",
       "      <td>6.3</td>\n",
       "      <td>202.0</td>\n",
       "    </tr>\n",
       "    <tr>\n",
       "      <th>2015-01-01</th>\n",
       "      <td>20.8</td>\n",
       "      <td>66.5</td>\n",
       "      <td>5.2</td>\n",
       "      <td>230.0</td>\n",
       "      <td>382.0</td>\n",
       "      <td>9.9</td>\n",
       "      <td>158.0</td>\n",
       "    </tr>\n",
       "    <tr>\n",
       "      <th>2015-01-02</th>\n",
       "      <td>12.7</td>\n",
       "      <td>33.9</td>\n",
       "      <td>6.0</td>\n",
       "      <td>81.0</td>\n",
       "      <td>172.0</td>\n",
       "      <td>4.2</td>\n",
       "      <td>172.0</td>\n",
       "    </tr>\n",
       "  </tbody>\n",
       "</table>\n",
       "</div>"
      ],
      "text/plain": [
       "              co   no2   o3   pm10   pm25  so2  AQI_smoothed_zscore\n",
       "2014-12-29  14.1  36.2  3.2  218.0  307.0  4.2                307.0\n",
       "2014-12-30  20.4  36.8  4.8  330.0  367.0  5.8                367.0\n",
       "2014-12-31  12.7  28.7  7.8  137.0  202.0  6.3                202.0\n",
       "2015-01-01  20.8  66.5  5.2  230.0  382.0  9.9                158.0\n",
       "2015-01-02  12.7  33.9  6.0   81.0  172.0  4.2                172.0"
      ]
     },
     "execution_count": 31,
     "metadata": {},
     "output_type": "execute_result"
    }
   ],
   "source": [
    "aqi_normal.head()"
   ]
  },
  {
   "cell_type": "code",
   "execution_count": 32,
   "id": "0510e87c",
   "metadata": {
    "execution": {
     "iopub.execute_input": "2025-01-27T21:37:05.747805Z",
     "iopub.status.busy": "2025-01-27T21:37:05.747474Z",
     "iopub.status.idle": "2025-01-27T21:37:05.755688Z",
     "shell.execute_reply": "2025-01-27T21:37:05.754765Z"
    },
    "papermill": {
     "duration": 0.031075,
     "end_time": "2025-01-27T21:37:05.757352",
     "exception": false,
     "start_time": "2025-01-27T21:37:05.726277",
     "status": "completed"
    },
    "tags": []
   },
   "outputs": [],
   "source": [
    "def new_data_to_X_y(new_data, window_size, train_pct, val_pct, test_pct):\n",
    "    \n",
    "    new_data_as_np = new_data.to_numpy()\n",
    "    \n",
    "    # Split features and target\n",
    "    features = new_data_as_np[:, :-1]  # All columns except the last one\n",
    "    target = new_data_as_np[:, -1]     # Only the AQI column\n",
    "    \n",
    "    # Split data based on percentages\n",
    "    total_len = len(features)\n",
    "    train_end = int(train_pct * total_len)\n",
    "    val_end = train_end + int(val_pct * total_len)\n",
    "    \n",
    "    # Prepare train, val, and test splits for both features and target\n",
    "    train_features = features[:train_end]\n",
    "    train_target = target[:train_end]\n",
    "    \n",
    "    val_features = features[train_end:val_end]\n",
    "    val_target = target[train_end:val_end]\n",
    "    \n",
    "    test_features = features[val_end:]\n",
    "    test_target = target[val_end:]\n",
    "    \n",
    "    # Helper function to create X and y\n",
    "    def create_X_y(feature_data, target_data):\n",
    "        X, y = [], []\n",
    "        for i in range(len(feature_data) - window_size):\n",
    "            # Create sequence of all features\n",
    "            sequence = feature_data[i:i + window_size]\n",
    "            X.append(sequence)\n",
    "            # Get the target AQI value\n",
    "            y.append(target_data[i + window_size])\n",
    "        return np.array(X), np.array(y)\n",
    "    \n",
    "    \n",
    "    X_train, y_train = create_X_y(train_features, train_target)\n",
    "    X_val, y_val = create_X_y(val_features, val_target)\n",
    "    X_test, y_test = create_X_y(test_features, test_target)\n",
    "    \n",
    "    return (X_train, y_train), (X_val, y_val), (X_test, y_test)"
   ]
  },
  {
   "cell_type": "code",
   "execution_count": 33,
   "id": "1dabfeb7",
   "metadata": {
    "execution": {
     "iopub.execute_input": "2025-01-27T21:37:05.799571Z",
     "iopub.status.busy": "2025-01-27T21:37:05.799200Z",
     "iopub.status.idle": "2025-01-27T21:37:05.810843Z",
     "shell.execute_reply": "2025-01-27T21:37:05.809746Z"
    },
    "papermill": {
     "duration": 0.034691,
     "end_time": "2025-01-27T21:37:05.812567",
     "exception": false,
     "start_time": "2025-01-27T21:37:05.777876",
     "status": "completed"
    },
    "tags": []
   },
   "outputs": [
    {
     "name": "stdout",
     "output_type": "stream",
     "text": [
      "Train shapes: (2393, 6, 6) (2393,)\n",
      "Validation shapes: (473, 6, 6) (473,)\n",
      "Test shapes: (315, 6, 6) (315,)\n"
     ]
    }
   ],
   "source": [
    "#passing data to function\n",
    "\n",
    "# WINDOW_SIZE = 6\n",
    "# train_pct=0.7\n",
    "# val_pct=0.2\n",
    "# test_pct=0.1\n",
    "(X_train1, y_train1), (X_val1, y_val1), (X_test1, y_test1) = new_data_to_X_y(aqi_normal, 6, 0.75, 0.15, 0.1)\n",
    "\n",
    "# shapes\n",
    "print(\"Train shapes:\", X_train1.shape, y_train1.shape)\n",
    "print(\"Validation shapes:\", X_val1.shape, y_val1.shape)\n",
    "print(\"Test shapes:\", X_test1.shape, y_test1.shape)"
   ]
  },
  {
   "cell_type": "markdown",
   "id": "9d089461",
   "metadata": {
    "papermill": {
     "duration": 0.020347,
     "end_time": "2025-01-27T21:37:05.853837",
     "exception": false,
     "start_time": "2025-01-27T21:37:05.833490",
     "status": "completed"
    },
    "tags": []
   },
   "source": [
    "## **2.2. Model Training & Testing**"
   ]
  },
  {
   "cell_type": "code",
   "execution_count": 34,
   "id": "bb6063c6",
   "metadata": {
    "execution": {
     "iopub.execute_input": "2025-01-27T21:37:05.896011Z",
     "iopub.status.busy": "2025-01-27T21:37:05.895647Z",
     "iopub.status.idle": "2025-01-27T21:37:20.062981Z",
     "shell.execute_reply": "2025-01-27T21:37:20.062008Z"
    },
    "papermill": {
     "duration": 14.190516,
     "end_time": "2025-01-27T21:37:20.064872",
     "exception": false,
     "start_time": "2025-01-27T21:37:05.874356",
     "status": "completed"
    },
    "tags": []
   },
   "outputs": [],
   "source": [
    "# libraries for building model and testing\n",
    "from tensorflow.keras.models import Sequential\n",
    "from tensorflow.keras.layers import *\n",
    "from tensorflow.keras.callbacks import ModelCheckpoint\n",
    "from tensorflow.keras.callbacks import ReduceLROnPlateau\n",
    "from tensorflow.keras.losses import MeanSquaredError, MeanAbsoluteError\n",
    "from tensorflow.keras.metrics import RootMeanSquaredError\n",
    "from tensorflow.keras.optimizers import Adam\n",
    "from keras.regularizers import l2\n",
    "from keras.callbacks import EarlyStopping"
   ]
  },
  {
   "cell_type": "markdown",
   "id": "48cfaa46",
   "metadata": {
    "papermill": {
     "duration": 0.020561,
     "end_time": "2025-01-27T21:37:20.106717",
     "exception": false,
     "start_time": "2025-01-27T21:37:20.086156",
     "status": "completed"
    },
    "tags": []
   },
   "source": [
    "# LSTM(normal)"
   ]
  },
  {
   "cell_type": "code",
   "execution_count": 35,
   "id": "9f51b32a",
   "metadata": {
    "execution": {
     "iopub.execute_input": "2025-01-27T21:37:20.150467Z",
     "iopub.status.busy": "2025-01-27T21:37:20.149732Z",
     "iopub.status.idle": "2025-01-27T21:37:39.072452Z",
     "shell.execute_reply": "2025-01-27T21:37:39.071301Z"
    },
    "papermill": {
     "duration": 18.946657,
     "end_time": "2025-01-27T21:37:39.074221",
     "exception": false,
     "start_time": "2025-01-27T21:37:20.127564",
     "status": "completed"
    },
    "tags": []
   },
   "outputs": [
    {
     "name": "stdout",
     "output_type": "stream",
     "text": [
      "Epoch 1/50\n",
      "\u001b[1m75/75\u001b[0m \u001b[32m━━━━━━━━━━━━━━━━━━━━\u001b[0m\u001b[37m\u001b[0m \u001b[1m3s\u001b[0m 8ms/step - loss: 4608.6436 - root_mean_squared_error: 66.5621 - val_loss: 1587.7042 - val_root_mean_squared_error: 39.8460\n",
      "Epoch 2/50\n",
      "\u001b[1m75/75\u001b[0m \u001b[32m━━━━━━━━━━━━━━━━━━━━\u001b[0m\u001b[37m\u001b[0m \u001b[1m0s\u001b[0m 4ms/step - loss: 1408.2306 - root_mean_squared_error: 37.5008 - val_loss: 1750.8013 - val_root_mean_squared_error: 41.8426\n",
      "Epoch 3/50\n",
      "\u001b[1m75/75\u001b[0m \u001b[32m━━━━━━━━━━━━━━━━━━━━\u001b[0m\u001b[37m\u001b[0m \u001b[1m0s\u001b[0m 4ms/step - loss: 1371.5861 - root_mean_squared_error: 36.9445 - val_loss: 1351.2848 - val_root_mean_squared_error: 36.7598\n",
      "Epoch 4/50\n",
      "\u001b[1m75/75\u001b[0m \u001b[32m━━━━━━━━━━━━━━━━━━━━\u001b[0m\u001b[37m\u001b[0m \u001b[1m0s\u001b[0m 4ms/step - loss: 1070.3684 - root_mean_squared_error: 32.6734 - val_loss: 1393.7214 - val_root_mean_squared_error: 37.3326\n",
      "Epoch 5/50\n",
      "\u001b[1m75/75\u001b[0m \u001b[32m━━━━━━━━━━━━━━━━━━━━\u001b[0m\u001b[37m\u001b[0m \u001b[1m0s\u001b[0m 4ms/step - loss: 1134.9536 - root_mean_squared_error: 33.6293 - val_loss: 1352.2981 - val_root_mean_squared_error: 36.7736\n",
      "Epoch 6/50\n",
      "\u001b[1m75/75\u001b[0m \u001b[32m━━━━━━━━━━━━━━━━━━━━\u001b[0m\u001b[37m\u001b[0m \u001b[1m0s\u001b[0m 4ms/step - loss: 1170.1190 - root_mean_squared_error: 34.0745 - val_loss: 1323.9921 - val_root_mean_squared_error: 36.3867\n",
      "Epoch 7/50\n",
      "\u001b[1m75/75\u001b[0m \u001b[32m━━━━━━━━━━━━━━━━━━━━\u001b[0m\u001b[37m\u001b[0m \u001b[1m0s\u001b[0m 4ms/step - loss: 1223.5907 - root_mean_squared_error: 34.8765 - val_loss: 1236.4919 - val_root_mean_squared_error: 35.1638\n",
      "Epoch 8/50\n",
      "\u001b[1m75/75\u001b[0m \u001b[32m━━━━━━━━━━━━━━━━━━━━\u001b[0m\u001b[37m\u001b[0m \u001b[1m0s\u001b[0m 4ms/step - loss: 1123.4556 - root_mean_squared_error: 33.4661 - val_loss: 1218.2550 - val_root_mean_squared_error: 34.9035\n",
      "Epoch 9/50\n",
      "\u001b[1m75/75\u001b[0m \u001b[32m━━━━━━━━━━━━━━━━━━━━\u001b[0m\u001b[37m\u001b[0m \u001b[1m0s\u001b[0m 4ms/step - loss: 1130.4426 - root_mean_squared_error: 33.5914 - val_loss: 1358.2729 - val_root_mean_squared_error: 36.8548\n",
      "Epoch 10/50\n",
      "\u001b[1m75/75\u001b[0m \u001b[32m━━━━━━━━━━━━━━━━━━━━\u001b[0m\u001b[37m\u001b[0m \u001b[1m0s\u001b[0m 4ms/step - loss: 1103.3927 - root_mean_squared_error: 33.1746 - val_loss: 1147.3217 - val_root_mean_squared_error: 33.8721\n",
      "Epoch 11/50\n",
      "\u001b[1m75/75\u001b[0m \u001b[32m━━━━━━━━━━━━━━━━━━━━\u001b[0m\u001b[37m\u001b[0m \u001b[1m0s\u001b[0m 4ms/step - loss: 1061.1777 - root_mean_squared_error: 32.5471 - val_loss: 1281.7706 - val_root_mean_squared_error: 35.8018\n",
      "Epoch 12/50\n",
      "\u001b[1m75/75\u001b[0m \u001b[32m━━━━━━━━━━━━━━━━━━━━\u001b[0m\u001b[37m\u001b[0m \u001b[1m0s\u001b[0m 4ms/step - loss: 1001.2820 - root_mean_squared_error: 31.6370 - val_loss: 1167.6188 - val_root_mean_squared_error: 34.1704\n",
      "Epoch 13/50\n",
      "\u001b[1m75/75\u001b[0m \u001b[32m━━━━━━━━━━━━━━━━━━━━\u001b[0m\u001b[37m\u001b[0m \u001b[1m0s\u001b[0m 4ms/step - loss: 966.6951 - root_mean_squared_error: 31.0737 - val_loss: 1176.4194 - val_root_mean_squared_error: 34.2990\n",
      "Epoch 14/50\n",
      "\u001b[1m75/75\u001b[0m \u001b[32m━━━━━━━━━━━━━━━━━━━━\u001b[0m\u001b[37m\u001b[0m \u001b[1m0s\u001b[0m 4ms/step - loss: 1063.0996 - root_mean_squared_error: 32.5403 - val_loss: 1186.6249 - val_root_mean_squared_error: 34.4474\n",
      "Epoch 15/50\n",
      "\u001b[1m75/75\u001b[0m \u001b[32m━━━━━━━━━━━━━━━━━━━━\u001b[0m\u001b[37m\u001b[0m \u001b[1m0s\u001b[0m 4ms/step - loss: 974.3532 - root_mean_squared_error: 31.1870 - val_loss: 1330.4954 - val_root_mean_squared_error: 36.4760\n",
      "Epoch 16/50\n",
      "\u001b[1m75/75\u001b[0m \u001b[32m━━━━━━━━━━━━━━━━━━━━\u001b[0m\u001b[37m\u001b[0m \u001b[1m0s\u001b[0m 4ms/step - loss: 1043.7402 - root_mean_squared_error: 32.2795 - val_loss: 1283.8893 - val_root_mean_squared_error: 35.8314\n",
      "Epoch 17/50\n",
      "\u001b[1m75/75\u001b[0m \u001b[32m━━━━━━━━━━━━━━━━━━━━\u001b[0m\u001b[37m\u001b[0m \u001b[1m0s\u001b[0m 4ms/step - loss: 1170.7188 - root_mean_squared_error: 34.1248 - val_loss: 1214.2416 - val_root_mean_squared_error: 34.8460\n",
      "Epoch 18/50\n",
      "\u001b[1m75/75\u001b[0m \u001b[32m━━━━━━━━━━━━━━━━━━━━\u001b[0m\u001b[37m\u001b[0m \u001b[1m0s\u001b[0m 4ms/step - loss: 955.7213 - root_mean_squared_error: 30.9098 - val_loss: 1490.0051 - val_root_mean_squared_error: 38.6006\n",
      "Epoch 19/50\n",
      "\u001b[1m75/75\u001b[0m \u001b[32m━━━━━━━━━━━━━━━━━━━━\u001b[0m\u001b[37m\u001b[0m \u001b[1m0s\u001b[0m 5ms/step - loss: 988.2053 - root_mean_squared_error: 31.4204 - val_loss: 1113.9473 - val_root_mean_squared_error: 33.3758\n",
      "Epoch 20/50\n",
      "\u001b[1m75/75\u001b[0m \u001b[32m━━━━━━━━━━━━━━━━━━━━\u001b[0m\u001b[37m\u001b[0m \u001b[1m0s\u001b[0m 5ms/step - loss: 967.7020 - root_mean_squared_error: 31.0896 - val_loss: 1079.4125 - val_root_mean_squared_error: 32.8544\n",
      "Epoch 21/50\n",
      "\u001b[1m75/75\u001b[0m \u001b[32m━━━━━━━━━━━━━━━━━━━━\u001b[0m\u001b[37m\u001b[0m \u001b[1m0s\u001b[0m 4ms/step - loss: 877.2911 - root_mean_squared_error: 29.5810 - val_loss: 1170.8641 - val_root_mean_squared_error: 34.2179\n",
      "Epoch 22/50\n",
      "\u001b[1m75/75\u001b[0m \u001b[32m━━━━━━━━━━━━━━━━━━━━\u001b[0m\u001b[37m\u001b[0m \u001b[1m0s\u001b[0m 4ms/step - loss: 1019.3677 - root_mean_squared_error: 31.8559 - val_loss: 1084.2893 - val_root_mean_squared_error: 32.9285\n",
      "Epoch 23/50\n",
      "\u001b[1m75/75\u001b[0m \u001b[32m━━━━━━━━━━━━━━━━━━━━\u001b[0m\u001b[37m\u001b[0m \u001b[1m0s\u001b[0m 4ms/step - loss: 946.5782 - root_mean_squared_error: 30.7510 - val_loss: 1119.9882 - val_root_mean_squared_error: 33.4662\n",
      "Epoch 24/50\n",
      "\u001b[1m75/75\u001b[0m \u001b[32m━━━━━━━━━━━━━━━━━━━━\u001b[0m\u001b[37m\u001b[0m \u001b[1m0s\u001b[0m 4ms/step - loss: 898.5173 - root_mean_squared_error: 29.9491 - val_loss: 1250.4247 - val_root_mean_squared_error: 35.3613\n",
      "Epoch 25/50\n",
      "\u001b[1m75/75\u001b[0m \u001b[32m━━━━━━━━━━━━━━━━━━━━\u001b[0m\u001b[37m\u001b[0m \u001b[1m0s\u001b[0m 4ms/step - loss: 932.9551 - root_mean_squared_error: 30.5032 - val_loss: 1077.4751 - val_root_mean_squared_error: 32.8249\n",
      "Epoch 26/50\n",
      "\u001b[1m75/75\u001b[0m \u001b[32m━━━━━━━━━━━━━━━━━━━━\u001b[0m\u001b[37m\u001b[0m \u001b[1m0s\u001b[0m 4ms/step - loss: 901.9991 - root_mean_squared_error: 30.0125 - val_loss: 1084.1665 - val_root_mean_squared_error: 32.9267\n",
      "Epoch 27/50\n",
      "\u001b[1m75/75\u001b[0m \u001b[32m━━━━━━━━━━━━━━━━━━━━\u001b[0m\u001b[37m\u001b[0m \u001b[1m0s\u001b[0m 4ms/step - loss: 845.3958 - root_mean_squared_error: 28.9819 - val_loss: 1073.8008 - val_root_mean_squared_error: 32.7689\n",
      "Epoch 28/50\n",
      "\u001b[1m75/75\u001b[0m \u001b[32m━━━━━━━━━━━━━━━━━━━━\u001b[0m\u001b[37m\u001b[0m \u001b[1m0s\u001b[0m 4ms/step - loss: 993.8447 - root_mean_squared_error: 31.4733 - val_loss: 1106.0846 - val_root_mean_squared_error: 33.2579\n",
      "Epoch 29/50\n",
      "\u001b[1m75/75\u001b[0m \u001b[32m━━━━━━━━━━━━━━━━━━━━\u001b[0m\u001b[37m\u001b[0m \u001b[1m0s\u001b[0m 4ms/step - loss: 966.1226 - root_mean_squared_error: 31.0689 - val_loss: 1186.1489 - val_root_mean_squared_error: 34.4405\n",
      "Epoch 30/50\n",
      "\u001b[1m75/75\u001b[0m \u001b[32m━━━━━━━━━━━━━━━━━━━━\u001b[0m\u001b[37m\u001b[0m \u001b[1m0s\u001b[0m 4ms/step - loss: 1012.9282 - root_mean_squared_error: 31.7701 - val_loss: 1229.3923 - val_root_mean_squared_error: 35.0627\n",
      "Epoch 31/50\n",
      "\u001b[1m75/75\u001b[0m \u001b[32m━━━━━━━━━━━━━━━━━━━━\u001b[0m\u001b[37m\u001b[0m \u001b[1m0s\u001b[0m 4ms/step - loss: 933.2015 - root_mean_squared_error: 30.4992 - val_loss: 1059.6616 - val_root_mean_squared_error: 32.5524\n",
      "Epoch 32/50\n",
      "\u001b[1m75/75\u001b[0m \u001b[32m━━━━━━━━━━━━━━━━━━━━\u001b[0m\u001b[37m\u001b[0m \u001b[1m0s\u001b[0m 4ms/step - loss: 937.8480 - root_mean_squared_error: 30.5203 - val_loss: 1235.2115 - val_root_mean_squared_error: 35.1456\n",
      "Epoch 33/50\n",
      "\u001b[1m75/75\u001b[0m \u001b[32m━━━━━━━━━━━━━━━━━━━━\u001b[0m\u001b[37m\u001b[0m \u001b[1m0s\u001b[0m 5ms/step - loss: 898.3685 - root_mean_squared_error: 29.9649 - val_loss: 1051.2897 - val_root_mean_squared_error: 32.4236\n",
      "Epoch 34/50\n",
      "\u001b[1m75/75\u001b[0m \u001b[32m━━━━━━━━━━━━━━━━━━━━\u001b[0m\u001b[37m\u001b[0m \u001b[1m0s\u001b[0m 4ms/step - loss: 897.4550 - root_mean_squared_error: 29.9178 - val_loss: 1100.0156 - val_root_mean_squared_error: 33.1665\n",
      "Epoch 35/50\n",
      "\u001b[1m75/75\u001b[0m \u001b[32m━━━━━━━━━━━━━━━━━━━━\u001b[0m\u001b[37m\u001b[0m \u001b[1m0s\u001b[0m 4ms/step - loss: 855.7885 - root_mean_squared_error: 29.2282 - val_loss: 1116.0612 - val_root_mean_squared_error: 33.4075\n",
      "Epoch 36/50\n",
      "\u001b[1m75/75\u001b[0m \u001b[32m━━━━━━━━━━━━━━━━━━━━\u001b[0m\u001b[37m\u001b[0m \u001b[1m0s\u001b[0m 4ms/step - loss: 910.4286 - root_mean_squared_error: 30.1481 - val_loss: 1402.8279 - val_root_mean_squared_error: 37.4543\n",
      "Epoch 37/50\n",
      "\u001b[1m75/75\u001b[0m \u001b[32m━━━━━━━━━━━━━━━━━━━━\u001b[0m\u001b[37m\u001b[0m \u001b[1m0s\u001b[0m 4ms/step - loss: 997.1645 - root_mean_squared_error: 31.5052 - val_loss: 1084.4528 - val_root_mean_squared_error: 32.9310\n",
      "Epoch 38/50\n",
      "\u001b[1m75/75\u001b[0m \u001b[32m━━━━━━━━━━━━━━━━━━━━\u001b[0m\u001b[37m\u001b[0m \u001b[1m0s\u001b[0m 4ms/step - loss: 845.9593 - root_mean_squared_error: 29.0368 - val_loss: 1100.2410 - val_root_mean_squared_error: 33.1699\n",
      "Epoch 39/50\n",
      "\u001b[1m75/75\u001b[0m \u001b[32m━━━━━━━━━━━━━━━━━━━━\u001b[0m\u001b[37m\u001b[0m \u001b[1m0s\u001b[0m 4ms/step - loss: 880.0314 - root_mean_squared_error: 29.6309 - val_loss: 1372.0947 - val_root_mean_squared_error: 37.0418\n",
      "Epoch 40/50\n",
      "\u001b[1m75/75\u001b[0m \u001b[32m━━━━━━━━━━━━━━━━━━━━\u001b[0m\u001b[37m\u001b[0m \u001b[1m0s\u001b[0m 4ms/step - loss: 993.9313 - root_mean_squared_error: 31.5047 - val_loss: 1074.5817 - val_root_mean_squared_error: 32.7808\n",
      "Epoch 41/50\n",
      "\u001b[1m75/75\u001b[0m \u001b[32m━━━━━━━━━━━━━━━━━━━━\u001b[0m\u001b[37m\u001b[0m \u001b[1m0s\u001b[0m 4ms/step - loss: 919.0834 - root_mean_squared_error: 30.2977 - val_loss: 1097.4598 - val_root_mean_squared_error: 33.1279\n",
      "Epoch 42/50\n",
      "\u001b[1m75/75\u001b[0m \u001b[32m━━━━━━━━━━━━━━━━━━━━\u001b[0m\u001b[37m\u001b[0m \u001b[1m0s\u001b[0m 4ms/step - loss: 814.1588 - root_mean_squared_error: 28.4630 - val_loss: 1207.9773 - val_root_mean_squared_error: 34.7560\n",
      "Epoch 43/50\n",
      "\u001b[1m75/75\u001b[0m \u001b[32m━━━━━━━━━━━━━━━━━━━━\u001b[0m\u001b[37m\u001b[0m \u001b[1m0s\u001b[0m 4ms/step - loss: 780.1701 - root_mean_squared_error: 27.8633 - val_loss: 1146.4166 - val_root_mean_squared_error: 33.8588\n",
      "Epoch 44/50\n",
      "\u001b[1m75/75\u001b[0m \u001b[32m━━━━━━━━━━━━━━━━━━━━\u001b[0m\u001b[37m\u001b[0m \u001b[1m0s\u001b[0m 4ms/step - loss: 802.3170 - root_mean_squared_error: 28.3055 - val_loss: 1092.7290 - val_root_mean_squared_error: 33.0564\n",
      "Epoch 45/50\n",
      "\u001b[1m75/75\u001b[0m \u001b[32m━━━━━━━━━━━━━━━━━━━━\u001b[0m\u001b[37m\u001b[0m \u001b[1m0s\u001b[0m 4ms/step - loss: 894.8284 - root_mean_squared_error: 29.8780 - val_loss: 1082.8074 - val_root_mean_squared_error: 32.9060\n",
      "Epoch 46/50\n",
      "\u001b[1m75/75\u001b[0m \u001b[32m━━━━━━━━━━━━━━━━━━━━\u001b[0m\u001b[37m\u001b[0m \u001b[1m0s\u001b[0m 4ms/step - loss: 846.9308 - root_mean_squared_error: 29.0755 - val_loss: 1331.0005 - val_root_mean_squared_error: 36.4829\n",
      "Epoch 47/50\n",
      "\u001b[1m75/75\u001b[0m \u001b[32m━━━━━━━━━━━━━━━━━━━━\u001b[0m\u001b[37m\u001b[0m \u001b[1m0s\u001b[0m 4ms/step - loss: 828.8254 - root_mean_squared_error: 28.7700 - val_loss: 1082.7965 - val_root_mean_squared_error: 32.9059\n",
      "Epoch 48/50\n",
      "\u001b[1m75/75\u001b[0m \u001b[32m━━━━━━━━━━━━━━━━━━━━\u001b[0m\u001b[37m\u001b[0m \u001b[1m0s\u001b[0m 4ms/step - loss: 890.0685 - root_mean_squared_error: 29.7720 - val_loss: 1131.5646 - val_root_mean_squared_error: 33.6387\n",
      "Epoch 49/50\n",
      "\u001b[1m75/75\u001b[0m \u001b[32m━━━━━━━━━━━━━━━━━━━━\u001b[0m\u001b[37m\u001b[0m \u001b[1m0s\u001b[0m 4ms/step - loss: 890.4189 - root_mean_squared_error: 29.8021 - val_loss: 1322.4448 - val_root_mean_squared_error: 36.3654\n",
      "Epoch 50/50\n",
      "\u001b[1m75/75\u001b[0m \u001b[32m━━━━━━━━━━━━━━━━━━━━\u001b[0m\u001b[37m\u001b[0m \u001b[1m0s\u001b[0m 4ms/step - loss: 1943.1079 - root_mean_squared_error: 43.7913 - val_loss: 1358.2467 - val_root_mean_squared_error: 36.8544\n"
     ]
    },
    {
     "data": {
      "text/plain": [
       "<keras.src.callbacks.history.History at 0x79010d061150>"
      ]
     },
     "execution_count": 35,
     "metadata": {},
     "output_type": "execute_result"
    }
   ],
   "source": [
    "model5 = Sequential()\n",
    "model5.add(InputLayer((6, 6)))  # 6 timestamps, 6 features\n",
    "model5.add(LSTM(32, activation='relu', return_sequences=False))  # Single LSTM layer\n",
    "model5.add(Dense(16, activation='relu')) \n",
    "model5.add(Dense(1, activation='linear'))  \n",
    "\n",
    "cp5 = ModelCheckpoint('/kaggle/working/model5.keras', save_best_only=True)\n",
    "\n",
    "model5.compile(loss=MeanSquaredError(), optimizer=Adam(learning_rate=0.001), \n",
    "               metrics=[RootMeanSquaredError()])\n",
    "\n",
    "model5.fit(X_train1, y_train1, validation_data=(X_val1, y_val1), epochs=50, \n",
    "           callbacks=[cp5])"
   ]
  },
  {
   "cell_type": "code",
   "execution_count": 36,
   "id": "84175846",
   "metadata": {
    "execution": {
     "iopub.execute_input": "2025-01-27T21:37:39.160689Z",
     "iopub.status.busy": "2025-01-27T21:37:39.160338Z",
     "iopub.status.idle": "2025-01-27T21:37:39.265283Z",
     "shell.execute_reply": "2025-01-27T21:37:39.264292Z"
    },
    "papermill": {
     "duration": 0.150474,
     "end_time": "2025-01-27T21:37:39.267229",
     "exception": false,
     "start_time": "2025-01-27T21:37:39.116755",
     "status": "completed"
    },
    "tags": []
   },
   "outputs": [],
   "source": [
    "from tensorflow.keras.models import load_model\n",
    "model5 = load_model('/kaggle/working/model5.keras')"
   ]
  },
  {
   "cell_type": "code",
   "execution_count": 37,
   "id": "cc65f64a",
   "metadata": {
    "execution": {
     "iopub.execute_input": "2025-01-27T21:37:39.352404Z",
     "iopub.status.busy": "2025-01-27T21:37:39.351977Z",
     "iopub.status.idle": "2025-01-27T21:37:39.875210Z",
     "shell.execute_reply": "2025-01-27T21:37:39.873855Z"
    },
    "papermill": {
     "duration": 0.567463,
     "end_time": "2025-01-27T21:37:39.876899",
     "exception": false,
     "start_time": "2025-01-27T21:37:39.309436",
     "status": "completed"
    },
    "tags": []
   },
   "outputs": [
    {
     "name": "stdout",
     "output_type": "stream",
     "text": [
      "\u001b[1m75/75\u001b[0m \u001b[32m━━━━━━━━━━━━━━━━━━━━\u001b[0m\u001b[37m\u001b[0m \u001b[1m0s\u001b[0m 4ms/step\n",
      "Evaluation Metrics:\n",
      "Mean Absolute Error (MAE): 17.4153\n",
      "Mean Squared Error (MSE): 866.9239\n",
      "Root Mean Squared Error (RMSE): 29.4436\n",
      "R-squared (Accuracy): 0.7164\n"
     ]
    }
   ],
   "source": [
    "# Evaluate the model on the train data\n",
    "train_result = model5.predict(X_train1)\n",
    "\n",
    "# Calculate metrics\n",
    "mse = mean_squared_error(y_train1, train_result)\n",
    "rmse = np.sqrt(mse)\n",
    "mae = mean_absolute_error(y_train1, train_result)\n",
    "r2 = r2_score(y_train1, train_result)\n",
    "\n",
    "# Print the results\n",
    "print(\"Evaluation Metrics:\")\n",
    "print(f\"Mean Absolute Error (MAE): {mae:.4f}\")\n",
    "print(f\"Mean Squared Error (MSE): {mse:.4f}\")\n",
    "print(f\"Root Mean Squared Error (RMSE): {rmse:.4f}\")\n",
    "print(f\"R-squared (Accuracy): {r2:.4f}\")"
   ]
  },
  {
   "cell_type": "code",
   "execution_count": 38,
   "id": "59f50cdb",
   "metadata": {
    "execution": {
     "iopub.execute_input": "2025-01-27T21:37:39.960990Z",
     "iopub.status.busy": "2025-01-27T21:37:39.960637Z",
     "iopub.status.idle": "2025-01-27T21:37:40.065872Z",
     "shell.execute_reply": "2025-01-27T21:37:40.064780Z"
    },
    "papermill": {
     "duration": 0.149151,
     "end_time": "2025-01-27T21:37:40.067663",
     "exception": false,
     "start_time": "2025-01-27T21:37:39.918512",
     "status": "completed"
    },
    "tags": []
   },
   "outputs": [
    {
     "name": "stdout",
     "output_type": "stream",
     "text": [
      "\u001b[1m15/15\u001b[0m \u001b[32m━━━━━━━━━━━━━━━━━━━━\u001b[0m\u001b[37m\u001b[0m \u001b[1m0s\u001b[0m 2ms/step \n",
      "Evaluation Metrics:\n",
      "Mean Absolute Error (MAE): 21.9193\n",
      "Mean Squared Error (MSE): 1051.2899\n",
      "Root Mean Squared Error (RMSE): 32.4236\n",
      "R-squared (Accuracy): 0.8479\n"
     ]
    }
   ],
   "source": [
    "# Evaluate the model on the validation data\n",
    "val_result = model5.predict(X_val1)\n",
    "\n",
    "# Calculate metrics\n",
    "mse = mean_squared_error(y_val1, val_result)\n",
    "rmse = np.sqrt(mse)\n",
    "mae = mean_absolute_error(y_val1, val_result)\n",
    "r2 = r2_score(y_val1, val_result)\n",
    "\n",
    "# Print the results\n",
    "print(\"Evaluation Metrics:\")\n",
    "print(f\"Mean Absolute Error (MAE): {mae:.4f}\")\n",
    "print(f\"Mean Squared Error (MSE): {mse:.4f}\")\n",
    "print(f\"Root Mean Squared Error (RMSE): {rmse:.4f}\")\n",
    "print(f\"R-squared (Accuracy): {r2:.4f}\")"
   ]
  },
  {
   "cell_type": "code",
   "execution_count": 39,
   "id": "3c25f82e",
   "metadata": {
    "execution": {
     "iopub.execute_input": "2025-01-27T21:37:40.152219Z",
     "iopub.status.busy": "2025-01-27T21:37:40.151814Z",
     "iopub.status.idle": "2025-01-27T21:37:40.250784Z",
     "shell.execute_reply": "2025-01-27T21:37:40.249689Z"
    },
    "papermill": {
     "duration": 0.143238,
     "end_time": "2025-01-27T21:37:40.252592",
     "exception": false,
     "start_time": "2025-01-27T21:37:40.109354",
     "status": "completed"
    },
    "tags": []
   },
   "outputs": [
    {
     "name": "stdout",
     "output_type": "stream",
     "text": [
      "\u001b[1m10/10\u001b[0m \u001b[32m━━━━━━━━━━━━━━━━━━━━\u001b[0m\u001b[37m\u001b[0m \u001b[1m0s\u001b[0m 2ms/step \n",
      "Evaluation Metrics:\n",
      "Mean Absolute Error (MAE): 20.4368\n",
      "Mean Squared Error (MSE): 738.7746\n",
      "Root Mean Squared Error (RMSE): 27.1804\n",
      "R-squared (Accuracy): 0.7395\n"
     ]
    }
   ],
   "source": [
    "# Evaluate the model on the test data\n",
    "test_result = model5.predict(X_test1)\n",
    "\n",
    "# Calculate metrics\n",
    "mse = mean_squared_error(y_test1, test_result)\n",
    "rmse = np.sqrt(mse)\n",
    "mae = mean_absolute_error(y_test1, test_result)\n",
    "r2 = r2_score(y_test1, test_result)\n",
    "\n",
    "# Print the results\n",
    "print(\"Evaluation Metrics:\")\n",
    "print(f\"Mean Absolute Error (MAE): {mae:.4f}\")\n",
    "print(f\"Mean Squared Error (MSE): {mse:.4f}\")\n",
    "print(f\"Root Mean Squared Error (RMSE): {rmse:.4f}\")\n",
    "print(f\"R-squared (Accuracy): {r2:.4f}\")"
   ]
  },
  {
   "cell_type": "code",
   "execution_count": 40,
   "id": "74f6fa90",
   "metadata": {
    "execution": {
     "iopub.execute_input": "2025-01-27T21:37:40.338585Z",
     "iopub.status.busy": "2025-01-27T21:37:40.338187Z",
     "iopub.status.idle": "2025-01-27T21:37:40.568708Z",
     "shell.execute_reply": "2025-01-27T21:37:40.567615Z"
    },
    "papermill": {
     "duration": 0.275682,
     "end_time": "2025-01-27T21:37:40.570432",
     "exception": false,
     "start_time": "2025-01-27T21:37:40.294750",
     "status": "completed"
    },
    "tags": []
   },
   "outputs": [
    {
     "name": "stdout",
     "output_type": "stream",
     "text": [
      "\u001b[1m75/75\u001b[0m \u001b[32m━━━━━━━━━━━━━━━━━━━━\u001b[0m\u001b[37m\u001b[0m \u001b[1m0s\u001b[0m 2ms/step\n"
     ]
    },
    {
     "data": {
      "text/html": [
       "<div>\n",
       "<style scoped>\n",
       "    .dataframe tbody tr th:only-of-type {\n",
       "        vertical-align: middle;\n",
       "    }\n",
       "\n",
       "    .dataframe tbody tr th {\n",
       "        vertical-align: top;\n",
       "    }\n",
       "\n",
       "    .dataframe thead th {\n",
       "        text-align: right;\n",
       "    }\n",
       "</style>\n",
       "<table border=\"1\" class=\"dataframe\">\n",
       "  <thead>\n",
       "    <tr style=\"text-align: right;\">\n",
       "      <th></th>\n",
       "      <th>Train Predictions</th>\n",
       "      <th>Actuals</th>\n",
       "    </tr>\n",
       "  </thead>\n",
       "  <tbody>\n",
       "    <tr>\n",
       "      <th>0</th>\n",
       "      <td>217.762909</td>\n",
       "      <td>195.0</td>\n",
       "    </tr>\n",
       "    <tr>\n",
       "      <th>1</th>\n",
       "      <td>213.502060</td>\n",
       "      <td>185.0</td>\n",
       "    </tr>\n",
       "    <tr>\n",
       "      <th>2</th>\n",
       "      <td>199.351608</td>\n",
       "      <td>208.0</td>\n",
       "    </tr>\n",
       "    <tr>\n",
       "      <th>3</th>\n",
       "      <td>264.347046</td>\n",
       "      <td>290.0</td>\n",
       "    </tr>\n",
       "    <tr>\n",
       "      <th>4</th>\n",
       "      <td>268.797760</td>\n",
       "      <td>267.0</td>\n",
       "    </tr>\n",
       "    <tr>\n",
       "      <th>...</th>\n",
       "      <td>...</td>\n",
       "      <td>...</td>\n",
       "    </tr>\n",
       "    <tr>\n",
       "      <th>2388</th>\n",
       "      <td>85.655136</td>\n",
       "      <td>54.0</td>\n",
       "    </tr>\n",
       "    <tr>\n",
       "      <th>2389</th>\n",
       "      <td>72.704384</td>\n",
       "      <td>85.0</td>\n",
       "    </tr>\n",
       "    <tr>\n",
       "      <th>2390</th>\n",
       "      <td>94.260002</td>\n",
       "      <td>97.0</td>\n",
       "    </tr>\n",
       "    <tr>\n",
       "      <th>2391</th>\n",
       "      <td>100.402786</td>\n",
       "      <td>74.0</td>\n",
       "    </tr>\n",
       "    <tr>\n",
       "      <th>2392</th>\n",
       "      <td>77.988457</td>\n",
       "      <td>87.0</td>\n",
       "    </tr>\n",
       "  </tbody>\n",
       "</table>\n",
       "<p>2393 rows × 2 columns</p>\n",
       "</div>"
      ],
      "text/plain": [
       "      Train Predictions  Actuals\n",
       "0            217.762909    195.0\n",
       "1            213.502060    185.0\n",
       "2            199.351608    208.0\n",
       "3            264.347046    290.0\n",
       "4            268.797760    267.0\n",
       "...                 ...      ...\n",
       "2388          85.655136     54.0\n",
       "2389          72.704384     85.0\n",
       "2390          94.260002     97.0\n",
       "2391         100.402786     74.0\n",
       "2392          77.988457     87.0\n",
       "\n",
       "[2393 rows x 2 columns]"
      ]
     },
     "execution_count": 40,
     "metadata": {},
     "output_type": "execute_result"
    }
   ],
   "source": [
    "train_predictions = model5.predict(X_train1).flatten()\n",
    "train_results = pd.DataFrame(data={'Train Predictions':train_predictions, 'Actuals':y_train1})\n",
    "train_results"
   ]
  },
  {
   "cell_type": "code",
   "execution_count": 41,
   "id": "fdb95031",
   "metadata": {
    "execution": {
     "iopub.execute_input": "2025-01-27T21:37:40.657048Z",
     "iopub.status.busy": "2025-01-27T21:37:40.656655Z",
     "iopub.status.idle": "2025-01-27T21:37:40.837427Z",
     "shell.execute_reply": "2025-01-27T21:37:40.836344Z"
    },
    "papermill": {
     "duration": 0.225493,
     "end_time": "2025-01-27T21:37:40.839015",
     "exception": false,
     "start_time": "2025-01-27T21:37:40.613522",
     "status": "completed"
    },
    "tags": []
   },
   "outputs": [
    {
     "data": {
      "image/png": "[encoded data removed]",
      "text/plain": [
       "<Figure size 640x480 with 1 Axes>"
      ]
     },
     "metadata": {},
     "output_type": "display_data"
    }
   ],
   "source": [
    "plt.plot(train_results['Actuals'][1:50], label='Actual')\n",
    "plt.plot(train_results['Train Predictions'][1:50], label='Predicted')\n",
    "plt.legend()\n",
    "plt.show()"
   ]
  },
  {
   "cell_type": "code",
   "execution_count": 42,
   "id": "9aeea090",
   "metadata": {
    "execution": {
     "iopub.execute_input": "2025-01-27T21:37:40.927703Z",
     "iopub.status.busy": "2025-01-27T21:37:40.927320Z",
     "iopub.status.idle": "2025-01-27T21:37:41.035588Z",
     "shell.execute_reply": "2025-01-27T21:37:41.034483Z"
    },
    "papermill": {
     "duration": 0.154591,
     "end_time": "2025-01-27T21:37:41.037431",
     "exception": false,
     "start_time": "2025-01-27T21:37:40.882840",
     "status": "completed"
    },
    "tags": []
   },
   "outputs": [
    {
     "name": "stdout",
     "output_type": "stream",
     "text": [
      "\u001b[1m15/15\u001b[0m \u001b[32m━━━━━━━━━━━━━━━━━━━━\u001b[0m\u001b[37m\u001b[0m \u001b[1m0s\u001b[0m 2ms/step \n"
     ]
    },
    {
     "data": {
      "text/html": [
       "<div>\n",
       "<style scoped>\n",
       "    .dataframe tbody tr th:only-of-type {\n",
       "        vertical-align: middle;\n",
       "    }\n",
       "\n",
       "    .dataframe tbody tr th {\n",
       "        vertical-align: top;\n",
       "    }\n",
       "\n",
       "    .dataframe thead th {\n",
       "        text-align: right;\n",
       "    }\n",
       "</style>\n",
       "<table border=\"1\" class=\"dataframe\">\n",
       "  <thead>\n",
       "    <tr style=\"text-align: right;\">\n",
       "      <th></th>\n",
       "      <th>Train Predictions</th>\n",
       "      <th>Actuals</th>\n",
       "    </tr>\n",
       "  </thead>\n",
       "  <tbody>\n",
       "    <tr>\n",
       "      <th>0</th>\n",
       "      <td>89.153976</td>\n",
       "      <td>85.0</td>\n",
       "    </tr>\n",
       "    <tr>\n",
       "      <th>1</th>\n",
       "      <td>85.009903</td>\n",
       "      <td>71.0</td>\n",
       "    </tr>\n",
       "    <tr>\n",
       "      <th>2</th>\n",
       "      <td>75.309258</td>\n",
       "      <td>89.0</td>\n",
       "    </tr>\n",
       "    <tr>\n",
       "      <th>3</th>\n",
       "      <td>96.509521</td>\n",
       "      <td>99.0</td>\n",
       "    </tr>\n",
       "    <tr>\n",
       "      <th>4</th>\n",
       "      <td>96.357483</td>\n",
       "      <td>80.0</td>\n",
       "    </tr>\n",
       "    <tr>\n",
       "      <th>...</th>\n",
       "      <td>...</td>\n",
       "      <td>...</td>\n",
       "    </tr>\n",
       "    <tr>\n",
       "      <th>468</th>\n",
       "      <td>180.383255</td>\n",
       "      <td>193.0</td>\n",
       "    </tr>\n",
       "    <tr>\n",
       "      <th>469</th>\n",
       "      <td>199.744400</td>\n",
       "      <td>199.0</td>\n",
       "    </tr>\n",
       "    <tr>\n",
       "      <th>470</th>\n",
       "      <td>198.424362</td>\n",
       "      <td>197.0</td>\n",
       "    </tr>\n",
       "    <tr>\n",
       "      <th>471</th>\n",
       "      <td>203.942032</td>\n",
       "      <td>197.0</td>\n",
       "    </tr>\n",
       "    <tr>\n",
       "      <th>472</th>\n",
       "      <td>196.442490</td>\n",
       "      <td>190.0</td>\n",
       "    </tr>\n",
       "  </tbody>\n",
       "</table>\n",
       "<p>473 rows × 2 columns</p>\n",
       "</div>"
      ],
      "text/plain": [
       "     Train Predictions  Actuals\n",
       "0            89.153976     85.0\n",
       "1            85.009903     71.0\n",
       "2            75.309258     89.0\n",
       "3            96.509521     99.0\n",
       "4            96.357483     80.0\n",
       "..                 ...      ...\n",
       "468         180.383255    193.0\n",
       "469         199.744400    199.0\n",
       "470         198.424362    197.0\n",
       "471         203.942032    197.0\n",
       "472         196.442490    190.0\n",
       "\n",
       "[473 rows x 2 columns]"
      ]
     },
     "execution_count": 42,
     "metadata": {},
     "output_type": "execute_result"
    }
   ],
   "source": [
    "val_predictions = model5.predict(X_val1).flatten()\n",
    "val_results = pd.DataFrame(data={'Train Predictions':val_predictions, 'Actuals':y_val1})\n",
    "val_results"
   ]
  },
  {
   "cell_type": "code",
   "execution_count": 43,
   "id": "9d50035f",
   "metadata": {
    "execution": {
     "iopub.execute_input": "2025-01-27T21:37:41.126531Z",
     "iopub.status.busy": "2025-01-27T21:37:41.126191Z",
     "iopub.status.idle": "2025-01-27T21:37:41.302602Z",
     "shell.execute_reply": "2025-01-27T21:37:41.301541Z"
    },
    "papermill": {
     "duration": 0.22285,
     "end_time": "2025-01-27T21:37:41.304311",
     "exception": false,
     "start_time": "2025-01-27T21:37:41.081461",
     "status": "completed"
    },
    "tags": []
   },
   "outputs": [
    {
     "data": {
      "image/png": "[encoded data removed]",
      "text/plain": [
       "<Figure size 640x480 with 1 Axes>"
      ]
     },
     "metadata": {},
     "output_type": "display_data"
    }
   ],
   "source": [
    "plt.plot(val_results['Actuals'][1:50], label='Actual')\n",
    "plt.plot(val_results['Train Predictions'][1:50], label='Predicted')\n",
    "plt.legend()\n",
    "plt.show()"
   ]
  },
  {
   "cell_type": "code",
   "execution_count": 44,
   "id": "c5a5ae5f",
   "metadata": {
    "execution": {
     "iopub.execute_input": "2025-01-27T21:37:41.397540Z",
     "iopub.status.busy": "2025-01-27T21:37:41.397168Z",
     "iopub.status.idle": "2025-01-27T21:37:41.496144Z",
     "shell.execute_reply": "2025-01-27T21:37:41.495022Z"
    },
    "papermill": {
     "duration": 0.147318,
     "end_time": "2025-01-27T21:37:41.497812",
     "exception": false,
     "start_time": "2025-01-27T21:37:41.350494",
     "status": "completed"
    },
    "tags": []
   },
   "outputs": [
    {
     "name": "stdout",
     "output_type": "stream",
     "text": [
      "\u001b[1m10/10\u001b[0m \u001b[32m━━━━━━━━━━━━━━━━━━━━\u001b[0m\u001b[37m\u001b[0m \u001b[1m0s\u001b[0m 2ms/step \n"
     ]
    },
    {
     "data": {
      "text/html": [
       "<div>\n",
       "<style scoped>\n",
       "    .dataframe tbody tr th:only-of-type {\n",
       "        vertical-align: middle;\n",
       "    }\n",
       "\n",
       "    .dataframe tbody tr th {\n",
       "        vertical-align: top;\n",
       "    }\n",
       "\n",
       "    .dataframe thead th {\n",
       "        text-align: right;\n",
       "    }\n",
       "</style>\n",
       "<table border=\"1\" class=\"dataframe\">\n",
       "  <thead>\n",
       "    <tr style=\"text-align: right;\">\n",
       "      <th></th>\n",
       "      <th>Train Predictions</th>\n",
       "      <th>Actuals</th>\n",
       "    </tr>\n",
       "  </thead>\n",
       "  <tbody>\n",
       "    <tr>\n",
       "      <th>0</th>\n",
       "      <td>194.217667</td>\n",
       "      <td>190.0</td>\n",
       "    </tr>\n",
       "    <tr>\n",
       "      <th>1</th>\n",
       "      <td>182.960464</td>\n",
       "      <td>177.0</td>\n",
       "    </tr>\n",
       "    <tr>\n",
       "      <th>2</th>\n",
       "      <td>166.779877</td>\n",
       "      <td>172.0</td>\n",
       "    </tr>\n",
       "    <tr>\n",
       "      <th>3</th>\n",
       "      <td>165.108994</td>\n",
       "      <td>170.0</td>\n",
       "    </tr>\n",
       "    <tr>\n",
       "      <th>4</th>\n",
       "      <td>165.289032</td>\n",
       "      <td>197.0</td>\n",
       "    </tr>\n",
       "    <tr>\n",
       "      <th>...</th>\n",
       "      <td>...</td>\n",
       "      <td>...</td>\n",
       "    </tr>\n",
       "    <tr>\n",
       "      <th>310</th>\n",
       "      <td>149.404526</td>\n",
       "      <td>134.0</td>\n",
       "    </tr>\n",
       "    <tr>\n",
       "      <th>311</th>\n",
       "      <td>130.712509</td>\n",
       "      <td>144.0</td>\n",
       "    </tr>\n",
       "    <tr>\n",
       "      <th>312</th>\n",
       "      <td>144.516098</td>\n",
       "      <td>155.0</td>\n",
       "    </tr>\n",
       "    <tr>\n",
       "      <th>313</th>\n",
       "      <td>153.388382</td>\n",
       "      <td>155.0</td>\n",
       "    </tr>\n",
       "    <tr>\n",
       "      <th>314</th>\n",
       "      <td>150.957169</td>\n",
       "      <td>152.0</td>\n",
       "    </tr>\n",
       "  </tbody>\n",
       "</table>\n",
       "<p>315 rows × 2 columns</p>\n",
       "</div>"
      ],
      "text/plain": [
       "     Train Predictions  Actuals\n",
       "0           194.217667    190.0\n",
       "1           182.960464    177.0\n",
       "2           166.779877    172.0\n",
       "3           165.108994    170.0\n",
       "4           165.289032    197.0\n",
       "..                 ...      ...\n",
       "310         149.404526    134.0\n",
       "311         130.712509    144.0\n",
       "312         144.516098    155.0\n",
       "313         153.388382    155.0\n",
       "314         150.957169    152.0\n",
       "\n",
       "[315 rows x 2 columns]"
      ]
     },
     "execution_count": 44,
     "metadata": {},
     "output_type": "execute_result"
    }
   ],
   "source": [
    "test_predictions = model5.predict(X_test1).flatten()\n",
    "test_results = pd.DataFrame(data={'Train Predictions':test_predictions, 'Actuals':y_test1})\n",
    "test_results"
   ]
  },
  {
   "cell_type": "code",
   "execution_count": 45,
   "id": "c497532a",
   "metadata": {
    "execution": {
     "iopub.execute_input": "2025-01-27T21:37:41.589664Z",
     "iopub.status.busy": "2025-01-27T21:37:41.589326Z",
     "iopub.status.idle": "2025-01-27T21:37:41.780959Z",
     "shell.execute_reply": "2025-01-27T21:37:41.779912Z"
    },
    "papermill": {
     "duration": 0.239379,
     "end_time": "2025-01-27T21:37:41.782735",
     "exception": false,
     "start_time": "2025-01-27T21:37:41.543356",
     "status": "completed"
    },
    "tags": []
   },
   "outputs": [
    {
     "data": {
      "image/png": "[encoded data removed]",
      "text/plain": [
       "<Figure size 640x480 with 1 Axes>"
      ]
     },
     "metadata": {},
     "output_type": "display_data"
    }
   ],
   "source": [
    "plt.plot(test_results['Train Predictions'][1:50], label='Predicted')\n",
    "plt.plot(test_results['Actuals'][1:50], label='Actual')\n",
    "plt.legend()\n",
    "plt.show()"
   ]
  },
  {
   "cell_type": "markdown",
   "id": "400aa71c",
   "metadata": {
    "papermill": {
     "duration": 0.046442,
     "end_time": "2025-01-27T21:37:41.876922",
     "exception": false,
     "start_time": "2025-01-27T21:37:41.830480",
     "status": "completed"
    },
    "tags": []
   },
   "source": [
    "# **GRU(Normal)**"
   ]
  },
  {
   "cell_type": "code",
   "execution_count": 46,
   "id": "2ef8cf5b",
   "metadata": {
    "execution": {
     "iopub.execute_input": "2025-01-27T21:37:41.970332Z",
     "iopub.status.busy": "2025-01-27T21:37:41.969935Z",
     "iopub.status.idle": "2025-01-27T21:38:07.732517Z",
     "shell.execute_reply": "2025-01-27T21:38:07.731418Z"
    },
    "papermill": {
     "duration": 25.811279,
     "end_time": "2025-01-27T21:38:07.734178",
     "exception": false,
     "start_time": "2025-01-27T21:37:41.922899",
     "status": "completed"
    },
    "tags": []
   },
   "outputs": [
    {
     "name": "stdout",
     "output_type": "stream",
     "text": [
      "Epoch 1/50\n",
      "\u001b[1m75/75\u001b[0m \u001b[32m━━━━━━━━━━━━━━━━━━━━\u001b[0m\u001b[37m\u001b[0m \u001b[1m3s\u001b[0m 10ms/step - loss: 26201.4121 - root_mean_squared_error: 161.8248 - val_loss: 19668.4375 - val_root_mean_squared_error: 140.2442\n",
      "Epoch 2/50\n",
      "\u001b[1m75/75\u001b[0m \u001b[32m━━━━━━━━━━━━━━━━━━━━\u001b[0m\u001b[37m\u001b[0m \u001b[1m0s\u001b[0m 6ms/step - loss: 14221.1660 - root_mean_squared_error: 119.0510 - val_loss: 13139.9785 - val_root_mean_squared_error: 114.6297\n",
      "Epoch 3/50\n",
      "\u001b[1m75/75\u001b[0m \u001b[32m━━━━━━━━━━━━━━━━━━━━\u001b[0m\u001b[37m\u001b[0m \u001b[1m0s\u001b[0m 6ms/step - loss: 8194.2080 - root_mean_squared_error: 90.4726 - val_loss: 11776.5625 - val_root_mean_squared_error: 108.5199\n",
      "Epoch 4/50\n",
      "\u001b[1m75/75\u001b[0m \u001b[32m━━━━━━━━━━━━━━━━━━━━\u001b[0m\u001b[37m\u001b[0m \u001b[1m0s\u001b[0m 6ms/step - loss: 6156.6616 - root_mean_squared_error: 78.4440 - val_loss: 11030.7217 - val_root_mean_squared_error: 105.0272\n",
      "Epoch 5/50\n",
      "\u001b[1m75/75\u001b[0m \u001b[32m━━━━━━━━━━━━━━━━━━━━\u001b[0m\u001b[37m\u001b[0m \u001b[1m0s\u001b[0m 6ms/step - loss: 5432.9004 - root_mean_squared_error: 73.6997 - val_loss: 10357.4756 - val_root_mean_squared_error: 101.7717\n",
      "Epoch 6/50\n",
      "\u001b[1m75/75\u001b[0m \u001b[32m━━━━━━━━━━━━━━━━━━━━\u001b[0m\u001b[37m\u001b[0m \u001b[1m0s\u001b[0m 6ms/step - loss: 4460.8677 - root_mean_squared_error: 66.7614 - val_loss: 9570.0000 - val_root_mean_squared_error: 97.8264\n",
      "Epoch 7/50\n",
      "\u001b[1m75/75\u001b[0m \u001b[32m━━━━━━━━━━━━━━━━━━━━\u001b[0m\u001b[37m\u001b[0m \u001b[1m0s\u001b[0m 6ms/step - loss: 3912.4688 - root_mean_squared_error: 62.4943 - val_loss: 9246.2168 - val_root_mean_squared_error: 96.1572\n",
      "Epoch 8/50\n",
      "\u001b[1m75/75\u001b[0m \u001b[32m━━━━━━━━━━━━━━━━━━━━\u001b[0m\u001b[37m\u001b[0m \u001b[1m0s\u001b[0m 6ms/step - loss: 3879.6133 - root_mean_squared_error: 62.2646 - val_loss: 9259.3252 - val_root_mean_squared_error: 96.2254\n",
      "Epoch 9/50\n",
      "\u001b[1m75/75\u001b[0m \u001b[32m━━━━━━━━━━━━━━━━━━━━\u001b[0m\u001b[37m\u001b[0m \u001b[1m0s\u001b[0m 6ms/step - loss: 3953.3079 - root_mean_squared_error: 62.8480 - val_loss: 8497.1416 - val_root_mean_squared_error: 92.1799\n",
      "Epoch 10/50\n",
      "\u001b[1m75/75\u001b[0m \u001b[32m━━━━━━━━━━━━━━━━━━━━\u001b[0m\u001b[37m\u001b[0m \u001b[1m0s\u001b[0m 6ms/step - loss: 3636.6052 - root_mean_squared_error: 60.2992 - val_loss: 8089.0654 - val_root_mean_squared_error: 89.9392\n",
      "Epoch 11/50\n",
      "\u001b[1m75/75\u001b[0m \u001b[32m━━━━━━━━━━━━━━━━━━━━\u001b[0m\u001b[37m\u001b[0m \u001b[1m0s\u001b[0m 5ms/step - loss: 3617.0710 - root_mean_squared_error: 60.1052 - val_loss: 8112.6792 - val_root_mean_squared_error: 90.0704\n",
      "Epoch 12/50\n",
      "\u001b[1m75/75\u001b[0m \u001b[32m━━━━━━━━━━━━━━━━━━━━\u001b[0m\u001b[37m\u001b[0m \u001b[1m0s\u001b[0m 6ms/step - loss: 3392.6133 - root_mean_squared_error: 58.2236 - val_loss: 7870.6714 - val_root_mean_squared_error: 88.7168\n",
      "Epoch 13/50\n",
      "\u001b[1m75/75\u001b[0m \u001b[32m━━━━━━━━━━━━━━━━━━━━\u001b[0m\u001b[37m\u001b[0m \u001b[1m0s\u001b[0m 6ms/step - loss: 3337.7097 - root_mean_squared_error: 57.7512 - val_loss: 7995.0986 - val_root_mean_squared_error: 89.4153\n",
      "Epoch 14/50\n",
      "\u001b[1m75/75\u001b[0m \u001b[32m━━━━━━━━━━━━━━━━━━━━\u001b[0m\u001b[37m\u001b[0m \u001b[1m0s\u001b[0m 6ms/step - loss: 3428.1138 - root_mean_squared_error: 58.4894 - val_loss: 7770.8091 - val_root_mean_squared_error: 88.1522\n",
      "Epoch 15/50\n",
      "\u001b[1m75/75\u001b[0m \u001b[32m━━━━━━━━━━━━━━━━━━━━\u001b[0m\u001b[37m\u001b[0m \u001b[1m0s\u001b[0m 6ms/step - loss: 3490.6709 - root_mean_squared_error: 59.0656 - val_loss: 7762.4990 - val_root_mean_squared_error: 88.1050\n",
      "Epoch 16/50\n",
      "\u001b[1m75/75\u001b[0m \u001b[32m━━━━━━━━━━━━━━━━━━━━\u001b[0m\u001b[37m\u001b[0m \u001b[1m0s\u001b[0m 6ms/step - loss: 3465.0740 - root_mean_squared_error: 58.8411 - val_loss: 8031.0264 - val_root_mean_squared_error: 89.6160\n",
      "Epoch 17/50\n",
      "\u001b[1m75/75\u001b[0m \u001b[32m━━━━━━━━━━━━━━━━━━━━\u001b[0m\u001b[37m\u001b[0m \u001b[1m0s\u001b[0m 6ms/step - loss: 3339.3694 - root_mean_squared_error: 57.7817 - val_loss: 7603.3853 - val_root_mean_squared_error: 87.1974\n",
      "Epoch 18/50\n",
      "\u001b[1m75/75\u001b[0m \u001b[32m━━━━━━━━━━━━━━━━━━━━\u001b[0m\u001b[37m\u001b[0m \u001b[1m0s\u001b[0m 6ms/step - loss: 3309.6938 - root_mean_squared_error: 57.5089 - val_loss: 7713.8838 - val_root_mean_squared_error: 87.8287\n",
      "Epoch 19/50\n",
      "\u001b[1m75/75\u001b[0m \u001b[32m━━━━━━━━━━━━━━━━━━━━\u001b[0m\u001b[37m\u001b[0m \u001b[1m0s\u001b[0m 6ms/step - loss: 3373.0356 - root_mean_squared_error: 57.9911 - val_loss: 7559.6841 - val_root_mean_squared_error: 86.9464\n",
      "Epoch 20/50\n",
      "\u001b[1m75/75\u001b[0m \u001b[32m━━━━━━━━━━━━━━━━━━━━\u001b[0m\u001b[37m\u001b[0m \u001b[1m0s\u001b[0m 6ms/step - loss: 3302.4004 - root_mean_squared_error: 57.4549 - val_loss: 7473.4106 - val_root_mean_squared_error: 86.4489\n",
      "Epoch 21/50\n",
      "\u001b[1m75/75\u001b[0m \u001b[32m━━━━━━━━━━━━━━━━━━━━\u001b[0m\u001b[37m\u001b[0m \u001b[1m0s\u001b[0m 6ms/step - loss: 3434.2915 - root_mean_squared_error: 58.5503 - val_loss: 7446.6138 - val_root_mean_squared_error: 86.2938\n",
      "Epoch 22/50\n",
      "\u001b[1m75/75\u001b[0m \u001b[32m━━━━━━━━━━━━━━━━━━━━\u001b[0m\u001b[37m\u001b[0m \u001b[1m0s\u001b[0m 6ms/step - loss: 3321.6055 - root_mean_squared_error: 57.5925 - val_loss: 7484.1196 - val_root_mean_squared_error: 86.5108\n",
      "Epoch 23/50\n",
      "\u001b[1m75/75\u001b[0m \u001b[32m━━━━━━━━━━━━━━━━━━━━\u001b[0m\u001b[37m\u001b[0m \u001b[1m0s\u001b[0m 6ms/step - loss: 3255.9097 - root_mean_squared_error: 57.0376 - val_loss: 7326.7144 - val_root_mean_squared_error: 85.5962\n",
      "Epoch 24/50\n",
      "\u001b[1m75/75\u001b[0m \u001b[32m━━━━━━━━━━━━━━━━━━━━\u001b[0m\u001b[37m\u001b[0m \u001b[1m0s\u001b[0m 5ms/step - loss: 3367.9197 - root_mean_squared_error: 58.0233 - val_loss: 7364.8979 - val_root_mean_squared_error: 85.8190\n",
      "Epoch 25/50\n",
      "\u001b[1m75/75\u001b[0m \u001b[32m━━━━━━━━━━━━━━━━━━━━\u001b[0m\u001b[37m\u001b[0m \u001b[1m0s\u001b[0m 5ms/step - loss: 3254.8152 - root_mean_squared_error: 57.0225 - val_loss: 7532.7261 - val_root_mean_squared_error: 86.7913\n",
      "Epoch 26/50\n",
      "\u001b[1m75/75\u001b[0m \u001b[32m━━━━━━━━━━━━━━━━━━━━\u001b[0m\u001b[37m\u001b[0m \u001b[1m0s\u001b[0m 5ms/step - loss: 3104.7302 - root_mean_squared_error: 55.6940 - val_loss: 7337.7397 - val_root_mean_squared_error: 85.6606\n",
      "Epoch 27/50\n",
      "\u001b[1m75/75\u001b[0m \u001b[32m━━━━━━━━━━━━━━━━━━━━\u001b[0m\u001b[37m\u001b[0m \u001b[1m0s\u001b[0m 6ms/step - loss: 3358.2161 - root_mean_squared_error: 57.9182 - val_loss: 7229.4082 - val_root_mean_squared_error: 85.0259\n",
      "Epoch 28/50\n",
      "\u001b[1m75/75\u001b[0m \u001b[32m━━━━━━━━━━━━━━━━━━━━\u001b[0m\u001b[37m\u001b[0m \u001b[1m0s\u001b[0m 5ms/step - loss: 3140.4124 - root_mean_squared_error: 55.9962 - val_loss: 7326.8604 - val_root_mean_squared_error: 85.5971\n",
      "Epoch 29/50\n",
      "\u001b[1m75/75\u001b[0m \u001b[32m━━━━━━━━━━━━━━━━━━━━\u001b[0m\u001b[37m\u001b[0m \u001b[1m0s\u001b[0m 5ms/step - loss: 3257.2493 - root_mean_squared_error: 57.0433 - val_loss: 7284.1206 - val_root_mean_squared_error: 85.3471\n",
      "Epoch 30/50\n",
      "\u001b[1m75/75\u001b[0m \u001b[32m━━━━━━━━━━━━━━━━━━━━\u001b[0m\u001b[37m\u001b[0m \u001b[1m0s\u001b[0m 5ms/step - loss: 3421.7910 - root_mean_squared_error: 58.4687 - val_loss: 7347.3823 - val_root_mean_squared_error: 85.7169\n",
      "Epoch 31/50\n",
      "\u001b[1m75/75\u001b[0m \u001b[32m━━━━━━━━━━━━━━━━━━━━\u001b[0m\u001b[37m\u001b[0m \u001b[1m0s\u001b[0m 5ms/step - loss: 3201.0974 - root_mean_squared_error: 56.5710 - val_loss: 7348.4497 - val_root_mean_squared_error: 85.7231\n",
      "Epoch 32/50\n",
      "\u001b[1m75/75\u001b[0m \u001b[32m━━━━━━━━━━━━━━━━━━━━\u001b[0m\u001b[37m\u001b[0m \u001b[1m0s\u001b[0m 6ms/step - loss: 3278.9138 - root_mean_squared_error: 57.2107 - val_loss: 7151.4717 - val_root_mean_squared_error: 84.5664\n",
      "Epoch 33/50\n",
      "\u001b[1m75/75\u001b[0m \u001b[32m━━━━━━━━━━━━━━━━━━━━\u001b[0m\u001b[37m\u001b[0m \u001b[1m0s\u001b[0m 5ms/step - loss: 3241.8005 - root_mean_squared_error: 56.9161 - val_loss: 7342.4365 - val_root_mean_squared_error: 85.6880\n",
      "Epoch 34/50\n",
      "\u001b[1m75/75\u001b[0m \u001b[32m━━━━━━━━━━━━━━━━━━━━\u001b[0m\u001b[37m\u001b[0m \u001b[1m0s\u001b[0m 6ms/step - loss: 3294.6831 - root_mean_squared_error: 57.3935 - val_loss: 7305.1592 - val_root_mean_squared_error: 85.4702\n",
      "Epoch 35/50\n",
      "\u001b[1m75/75\u001b[0m \u001b[32m━━━━━━━━━━━━━━━━━━━━\u001b[0m\u001b[37m\u001b[0m \u001b[1m1s\u001b[0m 7ms/step - loss: 3184.1057 - root_mean_squared_error: 56.4193 - val_loss: 7192.8979 - val_root_mean_squared_error: 84.8110\n",
      "Epoch 36/50\n",
      "\u001b[1m75/75\u001b[0m \u001b[32m━━━━━━━━━━━━━━━━━━━━\u001b[0m\u001b[37m\u001b[0m \u001b[1m0s\u001b[0m 6ms/step - loss: 3257.0583 - root_mean_squared_error: 57.0285 - val_loss: 7254.5029 - val_root_mean_squared_error: 85.1734\n",
      "Epoch 37/50\n",
      "\u001b[1m75/75\u001b[0m \u001b[32m━━━━━━━━━━━━━━━━━━━━\u001b[0m\u001b[37m\u001b[0m \u001b[1m0s\u001b[0m 6ms/step - loss: 3337.6594 - root_mean_squared_error: 57.7386 - val_loss: 7401.3887 - val_root_mean_squared_error: 86.0313\n",
      "Epoch 38/50\n",
      "\u001b[1m75/75\u001b[0m \u001b[32m━━━━━━━━━━━━━━━━━━━━\u001b[0m\u001b[37m\u001b[0m \u001b[1m0s\u001b[0m 6ms/step - loss: 3307.4883 - root_mean_squared_error: 57.5004 - val_loss: 7386.2588 - val_root_mean_squared_error: 85.9434\n",
      "Epoch 39/50\n",
      "\u001b[1m75/75\u001b[0m \u001b[32m━━━━━━━━━━━━━━━━━━━━\u001b[0m\u001b[37m\u001b[0m \u001b[1m0s\u001b[0m 6ms/step - loss: 3239.7825 - root_mean_squared_error: 56.8932 - val_loss: 7097.1309 - val_root_mean_squared_error: 84.2445\n",
      "Epoch 40/50\n",
      "\u001b[1m75/75\u001b[0m \u001b[32m━━━━━━━━━━━━━━━━━━━━\u001b[0m\u001b[37m\u001b[0m \u001b[1m0s\u001b[0m 6ms/step - loss: 3210.8687 - root_mean_squared_error: 56.6535 - val_loss: 7446.5503 - val_root_mean_squared_error: 86.2934\n",
      "Epoch 41/50\n",
      "\u001b[1m75/75\u001b[0m \u001b[32m━━━━━━━━━━━━━━━━━━━━\u001b[0m\u001b[37m\u001b[0m \u001b[1m0s\u001b[0m 6ms/step - loss: 3216.3018 - root_mean_squared_error: 56.6653 - val_loss: 7297.1143 - val_root_mean_squared_error: 85.4231\n",
      "Epoch 42/50\n",
      "\u001b[1m75/75\u001b[0m \u001b[32m━━━━━━━━━━━━━━━━━━━━\u001b[0m\u001b[37m\u001b[0m \u001b[1m0s\u001b[0m 5ms/step - loss: 3384.3486 - root_mean_squared_error: 58.1467 - val_loss: 7224.3950 - val_root_mean_squared_error: 84.9964\n",
      "Epoch 43/50\n",
      "\u001b[1m75/75\u001b[0m \u001b[32m━━━━━━━━━━━━━━━━━━━━\u001b[0m\u001b[37m\u001b[0m \u001b[1m0s\u001b[0m 5ms/step - loss: 3368.2205 - root_mean_squared_error: 58.0119 - val_loss: 7472.4243 - val_root_mean_squared_error: 86.4432\n",
      "Epoch 44/50\n",
      "\u001b[1m75/75\u001b[0m \u001b[32m━━━━━━━━━━━━━━━━━━━━\u001b[0m\u001b[37m\u001b[0m \u001b[1m0s\u001b[0m 5ms/step - loss: 3199.6187 - root_mean_squared_error: 56.5522 - val_loss: 7210.4937 - val_root_mean_squared_error: 84.9146\n",
      "Epoch 45/50\n",
      "\u001b[1m75/75\u001b[0m \u001b[32m━━━━━━━━━━━━━━━━━━━━\u001b[0m\u001b[37m\u001b[0m \u001b[1m0s\u001b[0m 5ms/step - loss: 3157.1550 - root_mean_squared_error: 56.1716 - val_loss: 7262.1660 - val_root_mean_squared_error: 85.2183\n",
      "Epoch 46/50\n",
      "\u001b[1m75/75\u001b[0m \u001b[32m━━━━━━━━━━━━━━━━━━━━\u001b[0m\u001b[37m\u001b[0m \u001b[1m0s\u001b[0m 5ms/step - loss: 3322.1877 - root_mean_squared_error: 57.6330 - val_loss: 7261.3906 - val_root_mean_squared_error: 85.2138\n",
      "Epoch 47/50\n",
      "\u001b[1m75/75\u001b[0m \u001b[32m━━━━━━━━━━━━━━━━━━━━\u001b[0m\u001b[37m\u001b[0m \u001b[1m0s\u001b[0m 6ms/step - loss: 3294.8245 - root_mean_squared_error: 57.3919 - val_loss: 7183.2930 - val_root_mean_squared_error: 84.7543\n",
      "Epoch 48/50\n",
      "\u001b[1m75/75\u001b[0m \u001b[32m━━━━━━━━━━━━━━━━━━━━\u001b[0m\u001b[37m\u001b[0m \u001b[1m0s\u001b[0m 5ms/step - loss: 3271.3540 - root_mean_squared_error: 57.1790 - val_loss: 7307.5679 - val_root_mean_squared_error: 85.4843\n",
      "Epoch 49/50\n",
      "\u001b[1m75/75\u001b[0m \u001b[32m━━━━━━━━━━━━━━━━━━━━\u001b[0m\u001b[37m\u001b[0m \u001b[1m0s\u001b[0m 5ms/step - loss: 3230.5623 - root_mean_squared_error: 56.8183 - val_loss: 7454.1777 - val_root_mean_squared_error: 86.3376\n",
      "Epoch 50/50\n",
      "\u001b[1m75/75\u001b[0m \u001b[32m━━━━━━━━━━━━━━━━━━━━\u001b[0m\u001b[37m\u001b[0m \u001b[1m0s\u001b[0m 5ms/step - loss: 2995.1104 - root_mean_squared_error: 54.6745 - val_loss: 7159.7231 - val_root_mean_squared_error: 84.6152\n"
     ]
    },
    {
     "data": {
      "text/plain": [
       "<keras.src.callbacks.history.History at 0x7900ef7b4f10>"
      ]
     },
     "execution_count": 46,
     "metadata": {},
     "output_type": "execute_result"
    }
   ],
   "source": [
    "model6 = Sequential()\n",
    "model6.add(InputLayer((6, 6)))  # 6 timestamps, 6 features\n",
    "model6.add(BatchNormalization())  # Normalize inputs\n",
    "model6.add(GRU(64, activation='relu', return_sequences=True))  # GRU layer\n",
    "model6.add(Dropout(0.3))  # Dropout for regularization\n",
    "model6.add(Dense(32, activation='relu'))  \n",
    "model6.add(Dense(1, activation='linear'))  \n",
    "\n",
    "cp6 = ModelCheckpoint('/kaggle/working/model6.keras', save_best_only=True)\n",
    "\n",
    "model6.compile(loss=MeanSquaredError(), optimizer=Adam(learning_rate=0.001), \n",
    "               metrics=[RootMeanSquaredError()])\n",
    "\n",
    "model6.fit(X_train1, y_train1, validation_data=(X_val1, y_val1), epochs=50, \n",
    "           callbacks=[cp6])"
   ]
  },
  {
   "cell_type": "markdown",
   "id": "24042ff2",
   "metadata": {
    "papermill": {
     "duration": 0.072047,
     "end_time": "2025-01-27T21:38:07.879675",
     "exception": false,
     "start_time": "2025-01-27T21:38:07.807628",
     "status": "completed"
    },
    "tags": []
   },
   "source": [
    "# Bidirectional LSTM(Normal)"
   ]
  },
  {
   "cell_type": "code",
   "execution_count": 47,
   "id": "81f15ba7",
   "metadata": {
    "execution": {
     "iopub.execute_input": "2025-01-27T21:38:08.026153Z",
     "iopub.status.busy": "2025-01-27T21:38:08.025746Z",
     "iopub.status.idle": "2025-01-27T21:38:29.973904Z",
     "shell.execute_reply": "2025-01-27T21:38:29.972822Z"
    },
    "papermill": {
     "duration": 22.023982,
     "end_time": "2025-01-27T21:38:29.975502",
     "exception": false,
     "start_time": "2025-01-27T21:38:07.951520",
     "status": "completed"
    },
    "tags": []
   },
   "outputs": [
    {
     "name": "stdout",
     "output_type": "stream",
     "text": [
      "Epoch 1/50\n",
      "\u001b[1m75/75\u001b[0m \u001b[32m━━━━━━━━━━━━━━━━━━━━\u001b[0m\u001b[37m\u001b[0m \u001b[1m0s\u001b[0m 6ms/step - loss: 3243.0625 - root_mean_squared_error: 56.9279 - val_loss: 7234.1680 - val_root_mean_squared_error: 85.0539\n",
      "Epoch 2/50\n",
      "\u001b[1m75/75\u001b[0m \u001b[32m━━━━━━━━━━━━━━━━━━━━\u001b[0m\u001b[37m\u001b[0m \u001b[1m0s\u001b[0m 6ms/step - loss: 3263.0986 - root_mean_squared_error: 57.0948 - val_loss: 7132.5078 - val_root_mean_squared_error: 84.4542\n",
      "Epoch 3/50\n",
      "\u001b[1m75/75\u001b[0m \u001b[32m━━━━━━━━━━━━━━━━━━━━\u001b[0m\u001b[37m\u001b[0m \u001b[1m0s\u001b[0m 5ms/step - loss: 3220.3059 - root_mean_squared_error: 56.7275 - val_loss: 7637.9385 - val_root_mean_squared_error: 87.3953\n",
      "Epoch 4/50\n",
      "\u001b[1m75/75\u001b[0m \u001b[32m━━━━━━━━━━━━━━━━━━━━\u001b[0m\u001b[37m\u001b[0m \u001b[1m0s\u001b[0m 5ms/step - loss: 3459.5774 - root_mean_squared_error: 58.7955 - val_loss: 7336.0776 - val_root_mean_squared_error: 85.6509\n",
      "Epoch 5/50\n",
      "\u001b[1m75/75\u001b[0m \u001b[32m━━━━━━━━━━━━━━━━━━━━\u001b[0m\u001b[37m\u001b[0m \u001b[1m0s\u001b[0m 5ms/step - loss: 3206.8379 - root_mean_squared_error: 56.6038 - val_loss: 7151.4419 - val_root_mean_squared_error: 84.5662\n",
      "Epoch 6/50\n",
      "\u001b[1m75/75\u001b[0m \u001b[32m━━━━━━━━━━━━━━━━━━━━\u001b[0m\u001b[37m\u001b[0m \u001b[1m0s\u001b[0m 6ms/step - loss: 3266.3066 - root_mean_squared_error: 57.1416 - val_loss: 7353.8169 - val_root_mean_squared_error: 85.7544\n",
      "Epoch 7/50\n",
      "\u001b[1m75/75\u001b[0m \u001b[32m━━━━━━━━━━━━━━━━━━━━\u001b[0m\u001b[37m\u001b[0m \u001b[1m0s\u001b[0m 6ms/step - loss: 3232.7292 - root_mean_squared_error: 56.8296 - val_loss: 7259.0552 - val_root_mean_squared_error: 85.2001\n",
      "Epoch 8/50\n",
      "\u001b[1m75/75\u001b[0m \u001b[32m━━━━━━━━━━━━━━━━━━━━\u001b[0m\u001b[37m\u001b[0m \u001b[1m0s\u001b[0m 5ms/step - loss: 3251.6072 - root_mean_squared_error: 57.0116 - val_loss: 7412.5786 - val_root_mean_squared_error: 86.0963\n",
      "Epoch 9/50\n",
      "\u001b[1m75/75\u001b[0m \u001b[32m━━━━━━━━━━━━━━━━━━━━\u001b[0m\u001b[37m\u001b[0m \u001b[1m0s\u001b[0m 5ms/step - loss: 3197.7021 - root_mean_squared_error: 56.5316 - val_loss: 7653.2378 - val_root_mean_squared_error: 87.4828\n",
      "Epoch 10/50\n",
      "\u001b[1m75/75\u001b[0m \u001b[32m━━━━━━━━━━━━━━━━━━━━\u001b[0m\u001b[37m\u001b[0m \u001b[1m0s\u001b[0m 6ms/step - loss: 3300.6453 - root_mean_squared_error: 57.4304 - val_loss: 7208.0283 - val_root_mean_squared_error: 84.9001\n",
      "Epoch 11/50\n",
      "\u001b[1m75/75\u001b[0m \u001b[32m━━━━━━━━━━━━━━━━━━━━\u001b[0m\u001b[37m\u001b[0m \u001b[1m0s\u001b[0m 5ms/step - loss: 3113.3594 - root_mean_squared_error: 55.7905 - val_loss: 7204.8521 - val_root_mean_squared_error: 84.8814\n",
      "Epoch 12/50\n",
      "\u001b[1m75/75\u001b[0m \u001b[32m━━━━━━━━━━━━━━━━━━━━\u001b[0m\u001b[37m\u001b[0m \u001b[1m0s\u001b[0m 5ms/step - loss: 3154.3435 - root_mean_squared_error: 56.1534 - val_loss: 7376.6157 - val_root_mean_squared_error: 85.8872\n",
      "Epoch 13/50\n",
      "\u001b[1m75/75\u001b[0m \u001b[32m━━━━━━━━━━━━━━━━━━━━\u001b[0m\u001b[37m\u001b[0m \u001b[1m0s\u001b[0m 6ms/step - loss: 3106.0420 - root_mean_squared_error: 55.6962 - val_loss: 7354.3569 - val_root_mean_squared_error: 85.7576\n",
      "Epoch 14/50\n",
      "\u001b[1m75/75\u001b[0m \u001b[32m━━━━━━━━━━━━━━━━━━━━\u001b[0m\u001b[37m\u001b[0m \u001b[1m0s\u001b[0m 5ms/step - loss: 3384.5520 - root_mean_squared_error: 58.1641 - val_loss: 7276.8608 - val_root_mean_squared_error: 85.3045\n",
      "Epoch 15/50\n",
      "\u001b[1m75/75\u001b[0m \u001b[32m━━━━━━━━━━━━━━━━━━━━\u001b[0m\u001b[37m\u001b[0m \u001b[1m0s\u001b[0m 5ms/step - loss: 3225.6018 - root_mean_squared_error: 56.7729 - val_loss: 7221.7583 - val_root_mean_squared_error: 84.9809\n",
      "Epoch 16/50\n",
      "\u001b[1m75/75\u001b[0m \u001b[32m━━━━━━━━━━━━━━━━━━━━\u001b[0m\u001b[37m\u001b[0m \u001b[1m0s\u001b[0m 6ms/step - loss: 3589.5220 - root_mean_squared_error: 59.8307 - val_loss: 7376.2373 - val_root_mean_squared_error: 85.8850\n",
      "Epoch 17/50\n",
      "\u001b[1m75/75\u001b[0m \u001b[32m━━━━━━━━━━━━━━━━━━━━\u001b[0m\u001b[37m\u001b[0m \u001b[1m0s\u001b[0m 6ms/step - loss: 3334.5803 - root_mean_squared_error: 57.6735 - val_loss: 7381.1475 - val_root_mean_squared_error: 85.9136\n",
      "Epoch 18/50\n",
      "\u001b[1m75/75\u001b[0m \u001b[32m━━━━━━━━━━━━━━━━━━━━\u001b[0m\u001b[37m\u001b[0m \u001b[1m0s\u001b[0m 5ms/step - loss: 3129.8210 - root_mean_squared_error: 55.9301 - val_loss: 7252.8589 - val_root_mean_squared_error: 85.1637\n",
      "Epoch 19/50\n",
      "\u001b[1m75/75\u001b[0m \u001b[32m━━━━━━━━━━━━━━━━━━━━\u001b[0m\u001b[37m\u001b[0m \u001b[1m0s\u001b[0m 5ms/step - loss: 3135.9680 - root_mean_squared_error: 55.9637 - val_loss: 7531.0894 - val_root_mean_squared_error: 86.7819\n",
      "Epoch 20/50\n",
      "\u001b[1m75/75\u001b[0m \u001b[32m━━━━━━━━━━━━━━━━━━━━\u001b[0m\u001b[37m\u001b[0m \u001b[1m0s\u001b[0m 5ms/step - loss: 3303.5095 - root_mean_squared_error: 57.4505 - val_loss: 7602.0391 - val_root_mean_squared_error: 87.1897\n",
      "Epoch 21/50\n",
      "\u001b[1m75/75\u001b[0m \u001b[32m━━━━━━━━━━━━━━━━━━━━\u001b[0m\u001b[37m\u001b[0m \u001b[1m0s\u001b[0m 5ms/step - loss: 3334.6814 - root_mean_squared_error: 57.7005 - val_loss: 7370.3633 - val_root_mean_squared_error: 85.8508\n",
      "Epoch 22/50\n",
      "\u001b[1m75/75\u001b[0m \u001b[32m━━━━━━━━━━━━━━━━━━━━\u001b[0m\u001b[37m\u001b[0m \u001b[1m0s\u001b[0m 5ms/step - loss: 3085.9319 - root_mean_squared_error: 55.5282 - val_loss: 7297.5044 - val_root_mean_squared_error: 85.4254\n",
      "Epoch 23/50\n",
      "\u001b[1m75/75\u001b[0m \u001b[32m━━━━━━━━━━━━━━━━━━━━\u001b[0m\u001b[37m\u001b[0m \u001b[1m0s\u001b[0m 5ms/step - loss: 3067.2407 - root_mean_squared_error: 55.3414 - val_loss: 7203.1821 - val_root_mean_squared_error: 84.8716\n",
      "Epoch 24/50\n",
      "\u001b[1m75/75\u001b[0m \u001b[32m━━━━━━━━━━━━━━━━━━━━\u001b[0m\u001b[37m\u001b[0m \u001b[1m0s\u001b[0m 5ms/step - loss: 3129.8750 - root_mean_squared_error: 55.9278 - val_loss: 7477.1533 - val_root_mean_squared_error: 86.4705\n",
      "Epoch 25/50\n",
      "\u001b[1m75/75\u001b[0m \u001b[32m━━━━━━━━━━━━━━━━━━━━\u001b[0m\u001b[37m\u001b[0m \u001b[1m0s\u001b[0m 6ms/step - loss: 3292.0374 - root_mean_squared_error: 57.3663 - val_loss: 7258.2520 - val_root_mean_squared_error: 85.1954\n",
      "Epoch 26/50\n",
      "\u001b[1m75/75\u001b[0m \u001b[32m━━━━━━━━━━━━━━━━━━━━\u001b[0m\u001b[37m\u001b[0m \u001b[1m0s\u001b[0m 5ms/step - loss: 3344.3086 - root_mean_squared_error: 57.7857 - val_loss: 7492.2393 - val_root_mean_squared_error: 86.5577\n",
      "Epoch 27/50\n",
      "\u001b[1m75/75\u001b[0m \u001b[32m━━━━━━━━━━━━━━━━━━━━\u001b[0m\u001b[37m\u001b[0m \u001b[1m0s\u001b[0m 5ms/step - loss: 3095.3323 - root_mean_squared_error: 55.6035 - val_loss: 7525.4800 - val_root_mean_squared_error: 86.7495\n",
      "Epoch 28/50\n",
      "\u001b[1m75/75\u001b[0m \u001b[32m━━━━━━━━━━━━━━━━━━━━\u001b[0m\u001b[37m\u001b[0m \u001b[1m0s\u001b[0m 5ms/step - loss: 3199.9021 - root_mean_squared_error: 56.5525 - val_loss: 7378.2310 - val_root_mean_squared_error: 85.8966\n",
      "Epoch 29/50\n",
      "\u001b[1m75/75\u001b[0m \u001b[32m━━━━━━━━━━━━━━━━━━━━\u001b[0m\u001b[37m\u001b[0m \u001b[1m0s\u001b[0m 6ms/step - loss: 3325.5588 - root_mean_squared_error: 57.6556 - val_loss: 7603.3672 - val_root_mean_squared_error: 87.1973\n",
      "Epoch 30/50\n",
      "\u001b[1m75/75\u001b[0m \u001b[32m━━━━━━━━━━━━━━━━━━━━\u001b[0m\u001b[37m\u001b[0m \u001b[1m0s\u001b[0m 5ms/step - loss: 3072.2034 - root_mean_squared_error: 55.3478 - val_loss: 7545.5264 - val_root_mean_squared_error: 86.8650\n",
      "Epoch 31/50\n",
      "\u001b[1m75/75\u001b[0m \u001b[32m━━━━━━━━━━━━━━━━━━━━\u001b[0m\u001b[37m\u001b[0m \u001b[1m0s\u001b[0m 6ms/step - loss: 2982.0591 - root_mean_squared_error: 54.5840 - val_loss: 7280.2061 - val_root_mean_squared_error: 85.3241\n",
      "Epoch 32/50\n",
      "\u001b[1m75/75\u001b[0m \u001b[32m━━━━━━━━━━━━━━━━━━━━\u001b[0m\u001b[37m\u001b[0m \u001b[1m0s\u001b[0m 5ms/step - loss: 3046.4915 - root_mean_squared_error: 55.1514 - val_loss: 7446.5083 - val_root_mean_squared_error: 86.2932\n",
      "Epoch 33/50\n",
      "\u001b[1m75/75\u001b[0m \u001b[32m━━━━━━━━━━━━━━━━━━━━\u001b[0m\u001b[37m\u001b[0m \u001b[1m0s\u001b[0m 5ms/step - loss: 3044.6658 - root_mean_squared_error: 55.0282 - val_loss: 7725.0972 - val_root_mean_squared_error: 87.8925\n",
      "Epoch 34/50\n",
      "\u001b[1m75/75\u001b[0m \u001b[32m━━━━━━━━━━━━━━━━━━━━\u001b[0m\u001b[37m\u001b[0m \u001b[1m0s\u001b[0m 6ms/step - loss: 3370.0579 - root_mean_squared_error: 58.0280 - val_loss: 7521.8848 - val_root_mean_squared_error: 86.7288\n",
      "Epoch 35/50\n",
      "\u001b[1m75/75\u001b[0m \u001b[32m━━━━━━━━━━━━━━━━━━━━\u001b[0m\u001b[37m\u001b[0m \u001b[1m0s\u001b[0m 5ms/step - loss: 3134.4980 - root_mean_squared_error: 55.9099 - val_loss: 7566.0396 - val_root_mean_squared_error: 86.9830\n",
      "Epoch 36/50\n",
      "\u001b[1m75/75\u001b[0m \u001b[32m━━━━━━━━━━━━━━━━━━━━\u001b[0m\u001b[37m\u001b[0m \u001b[1m0s\u001b[0m 6ms/step - loss: 3155.9297 - root_mean_squared_error: 56.1541 - val_loss: 7444.8218 - val_root_mean_squared_error: 86.2834\n",
      "Epoch 37/50\n",
      "\u001b[1m75/75\u001b[0m \u001b[32m━━━━━━━━━━━━━━━━━━━━\u001b[0m\u001b[37m\u001b[0m \u001b[1m0s\u001b[0m 5ms/step - loss: 3130.3845 - root_mean_squared_error: 55.9381 - val_loss: 7384.3730 - val_root_mean_squared_error: 85.9324\n",
      "Epoch 38/50\n",
      "\u001b[1m75/75\u001b[0m \u001b[32m━━━━━━━━━━━━━━━━━━━━\u001b[0m\u001b[37m\u001b[0m \u001b[1m0s\u001b[0m 5ms/step - loss: 3338.2412 - root_mean_squared_error: 57.7526 - val_loss: 7870.5356 - val_root_mean_squared_error: 88.7160\n",
      "Epoch 39/50\n",
      "\u001b[1m75/75\u001b[0m \u001b[32m━━━━━━━━━━━━━━━━━━━━\u001b[0m\u001b[37m\u001b[0m \u001b[1m0s\u001b[0m 5ms/step - loss: 3247.4514 - root_mean_squared_error: 56.9686 - val_loss: 7717.1133 - val_root_mean_squared_error: 87.8471\n",
      "Epoch 40/50\n",
      "\u001b[1m75/75\u001b[0m \u001b[32m━━━━━━━━━━━━━━━━━━━━\u001b[0m\u001b[37m\u001b[0m \u001b[1m0s\u001b[0m 6ms/step - loss: 3330.5122 - root_mean_squared_error: 57.6917 - val_loss: 7347.3584 - val_root_mean_squared_error: 85.7167\n",
      "Epoch 41/50\n",
      "\u001b[1m75/75\u001b[0m \u001b[32m━━━━━━━━━━━━━━━━━━━━\u001b[0m\u001b[37m\u001b[0m \u001b[1m0s\u001b[0m 5ms/step - loss: 3320.4768 - root_mean_squared_error: 57.5116 - val_loss: 7705.7559 - val_root_mean_squared_error: 87.7824\n",
      "Epoch 42/50\n",
      "\u001b[1m75/75\u001b[0m \u001b[32m━━━━━━━━━━━━━━━━━━━━\u001b[0m\u001b[37m\u001b[0m \u001b[1m0s\u001b[0m 6ms/step - loss: 3205.7097 - root_mean_squared_error: 56.6125 - val_loss: 7381.2856 - val_root_mean_squared_error: 85.9144\n",
      "Epoch 43/50\n",
      "\u001b[1m75/75\u001b[0m \u001b[32m━━━━━━━━━━━━━━━━━━━━\u001b[0m\u001b[37m\u001b[0m \u001b[1m0s\u001b[0m 5ms/step - loss: 3226.1111 - root_mean_squared_error: 56.7843 - val_loss: 7595.7822 - val_root_mean_squared_error: 87.1538\n",
      "Epoch 44/50\n",
      "\u001b[1m75/75\u001b[0m \u001b[32m━━━━━━━━━━━━━━━━━━━━\u001b[0m\u001b[37m\u001b[0m \u001b[1m0s\u001b[0m 5ms/step - loss: 3113.9463 - root_mean_squared_error: 55.7685 - val_loss: 7361.4409 - val_root_mean_squared_error: 85.7988\n",
      "Epoch 45/50\n",
      "\u001b[1m75/75\u001b[0m \u001b[32m━━━━━━━━━━━━━━━━━━━━\u001b[0m\u001b[37m\u001b[0m \u001b[1m0s\u001b[0m 5ms/step - loss: 3151.7559 - root_mean_squared_error: 56.1328 - val_loss: 7637.7178 - val_root_mean_squared_error: 87.3940\n",
      "Epoch 46/50\n",
      "\u001b[1m75/75\u001b[0m \u001b[32m━━━━━━━━━━━━━━━━━━━━\u001b[0m\u001b[37m\u001b[0m \u001b[1m0s\u001b[0m 6ms/step - loss: 3213.6267 - root_mean_squared_error: 56.6795 - val_loss: 7371.7686 - val_root_mean_squared_error: 85.8590\n",
      "Epoch 47/50\n",
      "\u001b[1m75/75\u001b[0m \u001b[32m━━━━━━━━━━━━━━━━━━━━\u001b[0m\u001b[37m\u001b[0m \u001b[1m0s\u001b[0m 6ms/step - loss: 3095.1101 - root_mean_squared_error: 55.6054 - val_loss: 7973.3208 - val_root_mean_squared_error: 89.2934\n",
      "Epoch 48/50\n",
      "\u001b[1m75/75\u001b[0m \u001b[32m━━━━━━━━━━━━━━━━━━━━\u001b[0m\u001b[37m\u001b[0m \u001b[1m0s\u001b[0m 6ms/step - loss: 3173.1885 - root_mean_squared_error: 56.2880 - val_loss: 7691.3652 - val_root_mean_squared_error: 87.7004\n",
      "Epoch 49/50\n",
      "\u001b[1m75/75\u001b[0m \u001b[32m━━━━━━━━━━━━━━━━━━━━\u001b[0m\u001b[37m\u001b[0m \u001b[1m0s\u001b[0m 6ms/step - loss: 3149.0605 - root_mean_squared_error: 56.1127 - val_loss: 7395.0000 - val_root_mean_squared_error: 85.9942\n",
      "Epoch 50/50\n",
      "\u001b[1m75/75\u001b[0m \u001b[32m━━━━━━━━━━━━━━━━━━━━\u001b[0m\u001b[37m\u001b[0m \u001b[1m0s\u001b[0m 5ms/step - loss: 3245.9387 - root_mean_squared_error: 56.9005 - val_loss: 7476.1733 - val_root_mean_squared_error: 86.4649\n"
     ]
    },
    {
     "data": {
      "text/plain": [
       "<keras.src.callbacks.history.History at 0x7900ed8b3f10>"
      ]
     },
     "execution_count": 47,
     "metadata": {},
     "output_type": "execute_result"
    }
   ],
   "source": [
    "model7 = Sequential()\n",
    "model7.add(InputLayer((6, 6)))  # 6 timestamps, 6 features\n",
    "model7.add(BatchNormalization())  # Normalize inputs\n",
    "model7.add(GRU(64, activation='relu', return_sequences=True))  # GRU layer\n",
    "model7.add(Dropout(0.3)) \n",
    "model7.add(Dense(32, activation='relu'))  \n",
    "model7.add(Dense(1, activation='linear'))  \n",
    "\n",
    "cp7 = ModelCheckpoint('/kaggle/working/model7.keras', save_best_only=True)\n",
    "\n",
    "model7.compile(loss=MeanSquaredError(), optimizer=Adam(learning_rate=0.001), \n",
    "               metrics=[RootMeanSquaredError()])\n",
    "\n",
    "model6.fit(X_train1, y_train1, validation_data=(X_val1, y_val1), epochs=50, \n",
    "           callbacks=[cp7])"
   ]
  },
  {
   "cell_type": "code",
   "execution_count": null,
   "id": "8e093035",
   "metadata": {
    "papermill": {
     "duration": 0.097723,
     "end_time": "2025-01-27T21:38:30.172561",
     "exception": false,
     "start_time": "2025-01-27T21:38:30.074838",
     "status": "completed"
    },
    "tags": []
   },
   "outputs": [],
   "source": []
  },
  {
   "cell_type": "markdown",
   "id": "7351a8cd",
   "metadata": {
    "papermill": {
     "duration": 0.096624,
     "end_time": "2025-01-27T21:38:30.365919",
     "exception": false,
     "start_time": "2025-01-27T21:38:30.269295",
     "status": "completed"
    },
    "tags": []
   },
   "source": [
    "# Hybrid CNN + LSTM"
   ]
  },
  {
   "cell_type": "code",
   "execution_count": 48,
   "id": "5a379862",
   "metadata": {
    "execution": {
     "iopub.execute_input": "2025-01-27T21:38:30.559970Z",
     "iopub.status.busy": "2025-01-27T21:38:30.559642Z",
     "iopub.status.idle": "2025-01-27T21:38:46.694967Z",
     "shell.execute_reply": "2025-01-27T21:38:46.693980Z"
    },
    "papermill": {
     "duration": 16.234988,
     "end_time": "2025-01-27T21:38:46.696625",
     "exception": false,
     "start_time": "2025-01-27T21:38:30.461637",
     "status": "completed"
    },
    "tags": []
   },
   "outputs": [
    {
     "name": "stdout",
     "output_type": "stream",
     "text": [
      "Epoch 1/50\n",
      "\u001b[1m75/75\u001b[0m \u001b[32m━━━━━━━━━━━━━━━━━━━━\u001b[0m\u001b[37m\u001b[0m \u001b[1m3s\u001b[0m 8ms/step - loss: 15121.8115 - root_mean_squared_error: 120.2364 - val_loss: 2116.1287 - val_root_mean_squared_error: 46.0014\n",
      "Epoch 2/50\n",
      "\u001b[1m75/75\u001b[0m \u001b[32m━━━━━━━━━━━━━━━━━━━━\u001b[0m\u001b[37m\u001b[0m \u001b[1m0s\u001b[0m 3ms/step - loss: 2287.8433 - root_mean_squared_error: 47.8167 - val_loss: 2498.8872 - val_root_mean_squared_error: 49.9889\n",
      "Epoch 3/50\n",
      "\u001b[1m75/75\u001b[0m \u001b[32m━━━━━━━━━━━━━━━━━━━━\u001b[0m\u001b[37m\u001b[0m \u001b[1m0s\u001b[0m 3ms/step - loss: 2028.3787 - root_mean_squared_error: 44.9958 - val_loss: 2300.7363 - val_root_mean_squared_error: 47.9660\n",
      "Epoch 4/50\n",
      "\u001b[1m75/75\u001b[0m \u001b[32m━━━━━━━━━━━━━━━━━━━━\u001b[0m\u001b[37m\u001b[0m \u001b[1m0s\u001b[0m 3ms/step - loss: 2191.2075 - root_mean_squared_error: 46.6274 - val_loss: 2122.4126 - val_root_mean_squared_error: 46.0696\n",
      "Epoch 5/50\n",
      "\u001b[1m75/75\u001b[0m \u001b[32m━━━━━━━━━━━━━━━━━━━━\u001b[0m\u001b[37m\u001b[0m \u001b[1m0s\u001b[0m 3ms/step - loss: 1946.4415 - root_mean_squared_error: 44.0889 - val_loss: 1822.9498 - val_root_mean_squared_error: 42.6960\n",
      "Epoch 6/50\n",
      "\u001b[1m75/75\u001b[0m \u001b[32m━━━━━━━━━━━━━━━━━━━━\u001b[0m\u001b[37m\u001b[0m \u001b[1m0s\u001b[0m 3ms/step - loss: 1976.6404 - root_mean_squared_error: 44.4337 - val_loss: 2428.8210 - val_root_mean_squared_error: 49.2831\n",
      "Epoch 7/50\n",
      "\u001b[1m75/75\u001b[0m \u001b[32m━━━━━━━━━━━━━━━━━━━━\u001b[0m\u001b[37m\u001b[0m \u001b[1m0s\u001b[0m 3ms/step - loss: 1746.6665 - root_mean_squared_error: 41.7559 - val_loss: 3157.8298 - val_root_mean_squared_error: 56.1946\n",
      "Epoch 8/50\n",
      "\u001b[1m75/75\u001b[0m \u001b[32m━━━━━━━━━━━━━━━━━━━━\u001b[0m\u001b[37m\u001b[0m \u001b[1m0s\u001b[0m 3ms/step - loss: 1735.0961 - root_mean_squared_error: 41.6276 - val_loss: 2576.7852 - val_root_mean_squared_error: 50.7620\n",
      "Epoch 9/50\n",
      "\u001b[1m75/75\u001b[0m \u001b[32m━━━━━━━━━━━━━━━━━━━━\u001b[0m\u001b[37m\u001b[0m \u001b[1m0s\u001b[0m 3ms/step - loss: 1711.9644 - root_mean_squared_error: 41.3619 - val_loss: 3217.6665 - val_root_mean_squared_error: 56.7245\n",
      "Epoch 10/50\n",
      "\u001b[1m75/75\u001b[0m \u001b[32m━━━━━━━━━━━━━━━━━━━━\u001b[0m\u001b[37m\u001b[0m \u001b[1m0s\u001b[0m 3ms/step - loss: 1736.0930 - root_mean_squared_error: 41.6119 - val_loss: 2665.8979 - val_root_mean_squared_error: 51.6323\n",
      "Epoch 11/50\n",
      "\u001b[1m75/75\u001b[0m \u001b[32m━━━━━━━━━━━━━━━━━━━━\u001b[0m\u001b[37m\u001b[0m \u001b[1m0s\u001b[0m 3ms/step - loss: 1684.2478 - root_mean_squared_error: 41.0137 - val_loss: 2982.6904 - val_root_mean_squared_error: 54.6140\n",
      "Epoch 12/50\n",
      "\u001b[1m75/75\u001b[0m \u001b[32m━━━━━━━━━━━━━━━━━━━━\u001b[0m\u001b[37m\u001b[0m \u001b[1m0s\u001b[0m 3ms/step - loss: 1672.7872 - root_mean_squared_error: 40.8770 - val_loss: 2522.7371 - val_root_mean_squared_error: 50.2269\n",
      "Epoch 13/50\n",
      "\u001b[1m75/75\u001b[0m \u001b[32m━━━━━━━━━━━━━━━━━━━━\u001b[0m\u001b[37m\u001b[0m \u001b[1m0s\u001b[0m 3ms/step - loss: 1680.8379 - root_mean_squared_error: 40.9676 - val_loss: 3282.1870 - val_root_mean_squared_error: 57.2904\n",
      "Epoch 14/50\n",
      "\u001b[1m75/75\u001b[0m \u001b[32m━━━━━━━━━━━━━━━━━━━━\u001b[0m\u001b[37m\u001b[0m \u001b[1m0s\u001b[0m 3ms/step - loss: 1648.3303 - root_mean_squared_error: 40.5854 - val_loss: 3468.4548 - val_root_mean_squared_error: 58.8936\n",
      "Epoch 15/50\n",
      "\u001b[1m75/75\u001b[0m \u001b[32m━━━━━━━━━━━━━━━━━━━━\u001b[0m\u001b[37m\u001b[0m \u001b[1m0s\u001b[0m 3ms/step - loss: 1576.3525 - root_mean_squared_error: 39.6604 - val_loss: 3230.0066 - val_root_mean_squared_error: 56.8331\n",
      "Epoch 16/50\n",
      "\u001b[1m75/75\u001b[0m \u001b[32m━━━━━━━━━━━━━━━━━━━━\u001b[0m\u001b[37m\u001b[0m \u001b[1m0s\u001b[0m 3ms/step - loss: 1683.1364 - root_mean_squared_error: 41.0162 - val_loss: 3378.7798 - val_root_mean_squared_error: 58.1273\n",
      "Epoch 17/50\n",
      "\u001b[1m75/75\u001b[0m \u001b[32m━━━━━━━━━━━━━━━━━━━━\u001b[0m\u001b[37m\u001b[0m \u001b[1m0s\u001b[0m 3ms/step - loss: 1461.8326 - root_mean_squared_error: 38.0020 - val_loss: 3508.3726 - val_root_mean_squared_error: 59.2315\n",
      "Epoch 18/50\n",
      "\u001b[1m75/75\u001b[0m \u001b[32m━━━━━━━━━━━━━━━━━━━━\u001b[0m\u001b[37m\u001b[0m \u001b[1m0s\u001b[0m 3ms/step - loss: 1521.5773 - root_mean_squared_error: 38.9711 - val_loss: 3086.6558 - val_root_mean_squared_error: 55.5577\n",
      "Epoch 19/50\n",
      "\u001b[1m75/75\u001b[0m \u001b[32m━━━━━━━━━━━━━━━━━━━━\u001b[0m\u001b[37m\u001b[0m \u001b[1m0s\u001b[0m 3ms/step - loss: 1688.0574 - root_mean_squared_error: 41.0406 - val_loss: 4006.6973 - val_root_mean_squared_error: 63.2985\n",
      "Epoch 20/50\n",
      "\u001b[1m75/75\u001b[0m \u001b[32m━━━━━━━━━━━━━━━━━━━━\u001b[0m\u001b[37m\u001b[0m \u001b[1m0s\u001b[0m 3ms/step - loss: 1953.7955 - root_mean_squared_error: 43.8900 - val_loss: 2736.0334 - val_root_mean_squared_error: 52.3071\n",
      "Epoch 21/50\n",
      "\u001b[1m75/75\u001b[0m \u001b[32m━━━━━━━━━━━━━━━━━━━━\u001b[0m\u001b[37m\u001b[0m \u001b[1m0s\u001b[0m 3ms/step - loss: 1506.8311 - root_mean_squared_error: 38.7766 - val_loss: 3720.8279 - val_root_mean_squared_error: 60.9986\n",
      "Epoch 22/50\n",
      "\u001b[1m75/75\u001b[0m \u001b[32m━━━━━━━━━━━━━━━━━━━━\u001b[0m\u001b[37m\u001b[0m \u001b[1m0s\u001b[0m 3ms/step - loss: 1454.2212 - root_mean_squared_error: 38.1189 - val_loss: 3633.8770 - val_root_mean_squared_error: 60.2816\n",
      "Epoch 23/50\n",
      "\u001b[1m75/75\u001b[0m \u001b[32m━━━━━━━━━━━━━━━━━━━━\u001b[0m\u001b[37m\u001b[0m \u001b[1m0s\u001b[0m 3ms/step - loss: 1555.8420 - root_mean_squared_error: 39.4228 - val_loss: 4063.1506 - val_root_mean_squared_error: 63.7428\n",
      "Epoch 24/50\n",
      "\u001b[1m75/75\u001b[0m \u001b[32m━━━━━━━━━━━━━━━━━━━━\u001b[0m\u001b[37m\u001b[0m \u001b[1m0s\u001b[0m 3ms/step - loss: 1518.5841 - root_mean_squared_error: 38.9320 - val_loss: 3993.3779 - val_root_mean_squared_error: 63.1932\n",
      "Epoch 25/50\n",
      "\u001b[1m75/75\u001b[0m \u001b[32m━━━━━━━━━━━━━━━━━━━━\u001b[0m\u001b[37m\u001b[0m \u001b[1m0s\u001b[0m 3ms/step - loss: 1393.3967 - root_mean_squared_error: 37.2740 - val_loss: 3614.0222 - val_root_mean_squared_error: 60.1167\n",
      "Epoch 26/50\n",
      "\u001b[1m75/75\u001b[0m \u001b[32m━━━━━━━━━━━━━━━━━━━━\u001b[0m\u001b[37m\u001b[0m \u001b[1m0s\u001b[0m 3ms/step - loss: 1471.3613 - root_mean_squared_error: 38.3420 - val_loss: 3592.2358 - val_root_mean_squared_error: 59.9353\n",
      "Epoch 27/50\n",
      "\u001b[1m75/75\u001b[0m \u001b[32m━━━━━━━━━━━━━━━━━━━━\u001b[0m\u001b[37m\u001b[0m \u001b[1m0s\u001b[0m 3ms/step - loss: 1549.9471 - root_mean_squared_error: 39.3574 - val_loss: 4708.5713 - val_root_mean_squared_error: 68.6190\n",
      "Epoch 28/50\n",
      "\u001b[1m75/75\u001b[0m \u001b[32m━━━━━━━━━━━━━━━━━━━━\u001b[0m\u001b[37m\u001b[0m \u001b[1m0s\u001b[0m 3ms/step - loss: 1515.2944 - root_mean_squared_error: 38.8566 - val_loss: 4407.4951 - val_root_mean_squared_error: 66.3890\n",
      "Epoch 29/50\n",
      "\u001b[1m75/75\u001b[0m \u001b[32m━━━━━━━━━━━━━━━━━━━━\u001b[0m\u001b[37m\u001b[0m \u001b[1m0s\u001b[0m 3ms/step - loss: 1407.1040 - root_mean_squared_error: 37.4557 - val_loss: 3993.4077 - val_root_mean_squared_error: 63.1934\n",
      "Epoch 30/50\n",
      "\u001b[1m75/75\u001b[0m \u001b[32m━━━━━━━━━━━━━━━━━━━━\u001b[0m\u001b[37m\u001b[0m \u001b[1m0s\u001b[0m 3ms/step - loss: 1470.9148 - root_mean_squared_error: 38.3200 - val_loss: 4350.7026 - val_root_mean_squared_error: 65.9599\n",
      "Epoch 31/50\n",
      "\u001b[1m75/75\u001b[0m \u001b[32m━━━━━━━━━━━━━━━━━━━━\u001b[0m\u001b[37m\u001b[0m \u001b[1m0s\u001b[0m 3ms/step - loss: 1428.2628 - root_mean_squared_error: 37.7810 - val_loss: 3670.8975 - val_root_mean_squared_error: 60.5879\n",
      "Epoch 32/50\n",
      "\u001b[1m75/75\u001b[0m \u001b[32m━━━━━━━━━━━━━━━━━━━━\u001b[0m\u001b[37m\u001b[0m \u001b[1m0s\u001b[0m 3ms/step - loss: 1480.3488 - root_mean_squared_error: 38.4526 - val_loss: 4551.0449 - val_root_mean_squared_error: 67.4614\n",
      "Epoch 33/50\n",
      "\u001b[1m75/75\u001b[0m \u001b[32m━━━━━━━━━━━━━━━━━━━━\u001b[0m\u001b[37m\u001b[0m \u001b[1m0s\u001b[0m 3ms/step - loss: 1322.3960 - root_mean_squared_error: 36.2115 - val_loss: 4774.8481 - val_root_mean_squared_error: 69.1003\n",
      "Epoch 34/50\n",
      "\u001b[1m75/75\u001b[0m \u001b[32m━━━━━━━━━━━━━━━━━━━━\u001b[0m\u001b[37m\u001b[0m \u001b[1m0s\u001b[0m 3ms/step - loss: 1264.8763 - root_mean_squared_error: 35.4825 - val_loss: 5124.1470 - val_root_mean_squared_error: 71.5831\n",
      "Epoch 35/50\n",
      "\u001b[1m75/75\u001b[0m \u001b[32m━━━━━━━━━━━━━━━━━━━━\u001b[0m\u001b[37m\u001b[0m \u001b[1m0s\u001b[0m 3ms/step - loss: 1330.6600 - root_mean_squared_error: 36.4560 - val_loss: 4913.4673 - val_root_mean_squared_error: 70.0961\n",
      "Epoch 36/50\n",
      "\u001b[1m75/75\u001b[0m \u001b[32m━━━━━━━━━━━━━━━━━━━━\u001b[0m\u001b[37m\u001b[0m \u001b[1m0s\u001b[0m 3ms/step - loss: 1350.5143 - root_mean_squared_error: 36.7248 - val_loss: 4955.3276 - val_root_mean_squared_error: 70.3941\n",
      "Epoch 37/50\n",
      "\u001b[1m75/75\u001b[0m \u001b[32m━━━━━━━━━━━━━━━━━━━━\u001b[0m\u001b[37m\u001b[0m \u001b[1m0s\u001b[0m 3ms/step - loss: 1382.9255 - root_mean_squared_error: 37.1735 - val_loss: 5316.1177 - val_root_mean_squared_error: 72.9117\n",
      "Epoch 38/50\n",
      "\u001b[1m75/75\u001b[0m \u001b[32m━━━━━━━━━━━━━━━━━━━━\u001b[0m\u001b[37m\u001b[0m \u001b[1m0s\u001b[0m 3ms/step - loss: 1516.0001 - root_mean_squared_error: 38.8465 - val_loss: 5320.2314 - val_root_mean_squared_error: 72.9399\n",
      "Epoch 39/50\n",
      "\u001b[1m75/75\u001b[0m \u001b[32m━━━━━━━━━━━━━━━━━━━━\u001b[0m\u001b[37m\u001b[0m \u001b[1m0s\u001b[0m 3ms/step - loss: 1305.8312 - root_mean_squared_error: 36.0146 - val_loss: 4987.9229 - val_root_mean_squared_error: 70.6252\n",
      "Epoch 40/50\n",
      "\u001b[1m75/75\u001b[0m \u001b[32m━━━━━━━━━━━━━━━━━━━━\u001b[0m\u001b[37m\u001b[0m \u001b[1m0s\u001b[0m 3ms/step - loss: 1248.7976 - root_mean_squared_error: 35.2964 - val_loss: 5605.3672 - val_root_mean_squared_error: 74.8690\n",
      "Epoch 41/50\n",
      "\u001b[1m75/75\u001b[0m \u001b[32m━━━━━━━━━━━━━━━━━━━━\u001b[0m\u001b[37m\u001b[0m \u001b[1m0s\u001b[0m 3ms/step - loss: 1355.1504 - root_mean_squared_error: 36.7672 - val_loss: 5227.5322 - val_root_mean_squared_error: 72.3017\n",
      "Epoch 42/50\n",
      "\u001b[1m75/75\u001b[0m \u001b[32m━━━━━━━━━━━━━━━━━━━━\u001b[0m\u001b[37m\u001b[0m \u001b[1m0s\u001b[0m 3ms/step - loss: 1441.1202 - root_mean_squared_error: 37.9451 - val_loss: 5047.5840 - val_root_mean_squared_error: 71.0463\n",
      "Epoch 43/50\n",
      "\u001b[1m75/75\u001b[0m \u001b[32m━━━━━━━━━━━━━━━━━━━━\u001b[0m\u001b[37m\u001b[0m \u001b[1m0s\u001b[0m 3ms/step - loss: 1268.6747 - root_mean_squared_error: 35.6037 - val_loss: 4218.9165 - val_root_mean_squared_error: 64.9532\n",
      "Epoch 44/50\n",
      "\u001b[1m75/75\u001b[0m \u001b[32m━━━━━━━━━━━━━━━━━━━━\u001b[0m\u001b[37m\u001b[0m \u001b[1m0s\u001b[0m 3ms/step - loss: 1307.1909 - root_mean_squared_error: 36.1467 - val_loss: 3999.6677 - val_root_mean_squared_error: 63.2429\n",
      "Epoch 45/50\n",
      "\u001b[1m75/75\u001b[0m \u001b[32m━━━━━━━━━━━━━━━━━━━━\u001b[0m\u001b[37m\u001b[0m \u001b[1m0s\u001b[0m 3ms/step - loss: 1292.9644 - root_mean_squared_error: 35.9031 - val_loss: 4202.0449 - val_root_mean_squared_error: 64.8232\n",
      "Epoch 46/50\n",
      "\u001b[1m75/75\u001b[0m \u001b[32m━━━━━━━━━━━━━━━━━━━━\u001b[0m\u001b[37m\u001b[0m \u001b[1m0s\u001b[0m 3ms/step - loss: 1279.0592 - root_mean_squared_error: 35.7158 - val_loss: 4381.7656 - val_root_mean_squared_error: 66.1949\n",
      "Epoch 47/50\n",
      "\u001b[1m75/75\u001b[0m \u001b[32m━━━━━━━━━━━━━━━━━━━━\u001b[0m\u001b[37m\u001b[0m \u001b[1m0s\u001b[0m 3ms/step - loss: 1524.2968 - root_mean_squared_error: 38.8473 - val_loss: 4420.9541 - val_root_mean_squared_error: 66.4903\n",
      "Epoch 48/50\n",
      "\u001b[1m75/75\u001b[0m \u001b[32m━━━━━━━━━━━━━━━━━━━━\u001b[0m\u001b[37m\u001b[0m \u001b[1m0s\u001b[0m 3ms/step - loss: 1461.0756 - root_mean_squared_error: 38.1387 - val_loss: 4729.2227 - val_root_mean_squared_error: 68.7693\n",
      "Epoch 49/50\n",
      "\u001b[1m75/75\u001b[0m \u001b[32m━━━━━━━━━━━━━━━━━━━━\u001b[0m\u001b[37m\u001b[0m \u001b[1m0s\u001b[0m 3ms/step - loss: 1399.6393 - root_mean_squared_error: 37.2668 - val_loss: 4518.9590 - val_root_mean_squared_error: 67.2232\n",
      "Epoch 50/50\n",
      "\u001b[1m75/75\u001b[0m \u001b[32m━━━━━━━━━━━━━━━━━━━━\u001b[0m\u001b[37m\u001b[0m \u001b[1m0s\u001b[0m 3ms/step - loss: 1311.2985 - root_mean_squared_error: 36.1695 - val_loss: 4814.8608 - val_root_mean_squared_error: 69.3892\n"
     ]
    },
    {
     "data": {
      "text/plain": [
       "<keras.src.callbacks.history.History at 0x7900ee838970>"
      ]
     },
     "execution_count": 48,
     "metadata": {},
     "output_type": "execute_result"
    }
   ],
   "source": [
    "model8 = Sequential()\n",
    "model8.add(InputLayer((6, 6)))  # 6 timestamps, 6 features\n",
    "model8.add(Conv1D(32, kernel_size=2, activation='relu'))  # 1D Convolutional Layer\n",
    "model8.add(MaxPooling1D(pool_size=2))  # Max Pooling\n",
    "model8.add(LSTM(64, activation='relu', return_sequences=False))  \n",
    "model8.add(Dropout(0.3))  \n",
    "model8.add(Dense(32, activation='relu'))  \n",
    "model8.add(Dense(1, activation='linear'))  \n",
    "\n",
    "cp8 = ModelCheckpoint('/kaggle/working/model8.keras', save_best_only=True)\n",
    "\n",
    "model8.compile(loss=MeanSquaredError(), optimizer=Adam(learning_rate=0.001), \n",
    "               metrics=[RootMeanSquaredError()])\n",
    "\n",
    "model8.fit(X_train1, y_train1, validation_data=(X_val1, y_val1), epochs=50, \n",
    "           callbacks=[cp8])"
   ]
  },
  {
   "cell_type": "code",
   "execution_count": 49,
   "id": "ab757add",
   "metadata": {
    "execution": {
     "iopub.execute_input": "2025-01-27T21:38:46.927433Z",
     "iopub.status.busy": "2025-01-27T21:38:46.927044Z",
     "iopub.status.idle": "2025-01-27T21:38:47.062996Z",
     "shell.execute_reply": "2025-01-27T21:38:47.062174Z"
    },
    "papermill": {
     "duration": 0.252204,
     "end_time": "2025-01-27T21:38:47.064764",
     "exception": false,
     "start_time": "2025-01-27T21:38:46.812560",
     "status": "completed"
    },
    "tags": []
   },
   "outputs": [],
   "source": [
    "from tensorflow.keras.models import load_model\n",
    "model8 = load_model('/kaggle/working/model8.keras')"
   ]
  },
  {
   "cell_type": "code",
   "execution_count": 50,
   "id": "c5a333b1",
   "metadata": {
    "execution": {
     "iopub.execute_input": "2025-01-27T21:38:47.295653Z",
     "iopub.status.busy": "2025-01-27T21:38:47.295315Z",
     "iopub.status.idle": "2025-01-27T21:38:47.819170Z",
     "shell.execute_reply": "2025-01-27T21:38:47.818193Z"
    },
    "papermill": {
     "duration": 0.641058,
     "end_time": "2025-01-27T21:38:47.820799",
     "exception": false,
     "start_time": "2025-01-27T21:38:47.179741",
     "status": "completed"
    },
    "tags": []
   },
   "outputs": [
    {
     "name": "stdout",
     "output_type": "stream",
     "text": [
      "\u001b[1m75/75\u001b[0m \u001b[32m━━━━━━━━━━━━━━━━━━━━\u001b[0m\u001b[37m\u001b[0m \u001b[1m0s\u001b[0m 4ms/step\n",
      "Evaluation Metrics:\n",
      "Mean Absolute Error (MAE): 23.3610\n",
      "Mean Squared Error (MSE): 1361.7455\n",
      "Root Mean Squared Error (RMSE): 36.9018\n",
      "R-squared (Accuracy): 0.5545\n"
     ]
    }
   ],
   "source": [
    "# Evaluate the model on the train data\n",
    "train_result = model8.predict(X_train1)\n",
    "\n",
    "# Calculate metrics\n",
    "mse = mean_squared_error(y_train1, train_result)\n",
    "rmse = np.sqrt(mse)\n",
    "mae = mean_absolute_error(y_train1, train_result)\n",
    "r2 = r2_score(y_train1, train_result)\n",
    "\n",
    "# Print the results\n",
    "print(\"Evaluation Metrics:\")\n",
    "print(f\"Mean Absolute Error (MAE): {mae:.4f}\")\n",
    "print(f\"Mean Squared Error (MSE): {mse:.4f}\")\n",
    "print(f\"Root Mean Squared Error (RMSE): {rmse:.4f}\")\n",
    "print(f\"R-squared (Accuracy): {r2:.4f}\")"
   ]
  },
  {
   "cell_type": "code",
   "execution_count": 51,
   "id": "9d7930a5",
   "metadata": {
    "execution": {
     "iopub.execute_input": "2025-01-27T21:38:48.049823Z",
     "iopub.status.busy": "2025-01-27T21:38:48.049486Z",
     "iopub.status.idle": "2025-01-27T21:38:48.154388Z",
     "shell.execute_reply": "2025-01-27T21:38:48.153340Z"
    },
    "papermill": {
     "duration": 0.220995,
     "end_time": "2025-01-27T21:38:48.156193",
     "exception": false,
     "start_time": "2025-01-27T21:38:47.935198",
     "status": "completed"
    },
    "tags": []
   },
   "outputs": [
    {
     "name": "stdout",
     "output_type": "stream",
     "text": [
      "\u001b[1m15/15\u001b[0m \u001b[32m━━━━━━━━━━━━━━━━━━━━\u001b[0m\u001b[37m\u001b[0m \u001b[1m0s\u001b[0m 2ms/step \n",
      "Evaluation Metrics:\n",
      "Mean Absolute Error (MAE): 33.4461\n",
      "Mean Squared Error (MSE): 1822.9500\n",
      "Root Mean Squared Error (RMSE): 42.6960\n",
      "R-squared (Accuracy): 0.7362\n"
     ]
    }
   ],
   "source": [
    "# Evaluate the model on the validation data\n",
    "val_result = model8.predict(X_val1)\n",
    "\n",
    "# Calculate metrics\n",
    "mse = mean_squared_error(y_val1, val_result)\n",
    "rmse = np.sqrt(mse)\n",
    "mae = mean_absolute_error(y_val1, val_result)\n",
    "r2 = r2_score(y_val1, val_result)\n",
    "\n",
    "# Print the results\n",
    "print(\"Evaluation Metrics:\")\n",
    "print(f\"Mean Absolute Error (MAE): {mae:.4f}\")\n",
    "print(f\"Mean Squared Error (MSE): {mse:.4f}\")\n",
    "print(f\"Root Mean Squared Error (RMSE): {rmse:.4f}\")\n",
    "print(f\"R-squared (Accuracy): {r2:.4f}\")"
   ]
  },
  {
   "cell_type": "code",
   "execution_count": 52,
   "id": "cb8951c1",
   "metadata": {
    "execution": {
     "iopub.execute_input": "2025-01-27T21:38:48.386405Z",
     "iopub.status.busy": "2025-01-27T21:38:48.385942Z",
     "iopub.status.idle": "2025-01-27T21:38:48.481040Z",
     "shell.execute_reply": "2025-01-27T21:38:48.480176Z"
    },
    "papermill": {
     "duration": 0.21178,
     "end_time": "2025-01-27T21:38:48.482681",
     "exception": false,
     "start_time": "2025-01-27T21:38:48.270901",
     "status": "completed"
    },
    "tags": []
   },
   "outputs": [
    {
     "name": "stdout",
     "output_type": "stream",
     "text": [
      "\u001b[1m10/10\u001b[0m \u001b[32m━━━━━━━━━━━━━━━━━━━━\u001b[0m\u001b[37m\u001b[0m \u001b[1m0s\u001b[0m 2ms/step \n",
      "Evaluation Metrics:\n",
      "Mean Absolute Error (MAE): 24.7555\n",
      "Mean Squared Error (MSE): 1084.9739\n",
      "Root Mean Squared Error (RMSE): 32.9389\n",
      "R-squared (Accuracy): 0.6174\n"
     ]
    }
   ],
   "source": [
    "# Evaluate the model on the test data\n",
    "test_result = model8.predict(X_test1)\n",
    "\n",
    "# Calculate metrics\n",
    "mse = mean_squared_error(y_test1, test_result)\n",
    "rmse = np.sqrt(mse)\n",
    "mae = mean_absolute_error(y_test1, test_result)\n",
    "r2 = r2_score(y_test1, test_result)\n",
    "\n",
    "# Print the results\n",
    "print(\"Evaluation Metrics:\")\n",
    "print(f\"Mean Absolute Error (MAE): {mae:.4f}\")\n",
    "print(f\"Mean Squared Error (MSE): {mse:.4f}\")\n",
    "print(f\"Root Mean Squared Error (RMSE): {rmse:.4f}\")\n",
    "print(f\"R-squared (Accuracy): {r2:.4f}\")"
   ]
  },
  {
   "cell_type": "code",
   "execution_count": null,
   "id": "d412d19b",
   "metadata": {
    "papermill": {
     "duration": 0.174716,
     "end_time": "2025-01-27T21:38:48.771701",
     "exception": false,
     "start_time": "2025-01-27T21:38:48.596985",
     "status": "completed"
    },
    "tags": []
   },
   "outputs": [],
   "source": []
  },
  {
   "cell_type": "markdown",
   "id": "6c6a80e4",
   "metadata": {
    "papermill": {
     "duration": 0.113296,
     "end_time": "2025-01-27T21:38:49.000934",
     "exception": false,
     "start_time": "2025-01-27T21:38:48.887638",
     "status": "completed"
    },
    "tags": []
   },
   "source": [
    "# **Advanced Stacked GRU + Dense**"
   ]
  },
  {
   "cell_type": "code",
   "execution_count": 53,
   "id": "5ae185d0",
   "metadata": {
    "execution": {
     "iopub.execute_input": "2025-01-27T21:38:49.231407Z",
     "iopub.status.busy": "2025-01-27T21:38:49.231009Z",
     "iopub.status.idle": "2025-01-27T21:39:34.704588Z",
     "shell.execute_reply": "2025-01-27T21:39:34.703577Z"
    },
    "papermill": {
     "duration": 45.590389,
     "end_time": "2025-01-27T21:39:34.706198",
     "exception": false,
     "start_time": "2025-01-27T21:38:49.115809",
     "status": "completed"
    },
    "tags": []
   },
   "outputs": [
    {
     "name": "stdout",
     "output_type": "stream",
     "text": [
      "Epoch 1/50\n",
      "\u001b[1m75/75\u001b[0m \u001b[32m━━━━━━━━━━━━━━━━━━━━\u001b[0m\u001b[37m\u001b[0m \u001b[1m6s\u001b[0m 17ms/step - loss: 22609.2480 - root_mean_squared_error: 149.4405 - val_loss: 5002.8550 - val_root_mean_squared_error: 70.7309\n",
      "Epoch 2/50\n",
      "\u001b[1m75/75\u001b[0m \u001b[32m━━━━━━━━━━━━━━━━━━━━\u001b[0m\u001b[37m\u001b[0m \u001b[1m1s\u001b[0m 11ms/step - loss: 2524.0261 - root_mean_squared_error: 50.1080 - val_loss: 1755.1167 - val_root_mean_squared_error: 41.8941\n",
      "Epoch 3/50\n",
      "\u001b[1m75/75\u001b[0m \u001b[32m━━━━━━━━━━━━━━━━━━━━\u001b[0m\u001b[37m\u001b[0m \u001b[1m1s\u001b[0m 11ms/step - loss: 1561.7358 - root_mean_squared_error: 39.4903 - val_loss: 1746.8092 - val_root_mean_squared_error: 41.7948\n",
      "Epoch 4/50\n",
      "\u001b[1m75/75\u001b[0m \u001b[32m━━━━━━━━━━━━━━━━━━━━\u001b[0m\u001b[37m\u001b[0m \u001b[1m1s\u001b[0m 11ms/step - loss: 1480.3188 - root_mean_squared_error: 38.4523 - val_loss: 1605.2126 - val_root_mean_squared_error: 40.0651\n",
      "Epoch 5/50\n",
      "\u001b[1m75/75\u001b[0m \u001b[32m━━━━━━━━━━━━━━━━━━━━\u001b[0m\u001b[37m\u001b[0m \u001b[1m1s\u001b[0m 10ms/step - loss: 1458.8364 - root_mean_squared_error: 38.0813 - val_loss: 1761.8988 - val_root_mean_squared_error: 41.9750\n",
      "Epoch 6/50\n",
      "\u001b[1m75/75\u001b[0m \u001b[32m━━━━━━━━━━━━━━━━━━━━\u001b[0m\u001b[37m\u001b[0m \u001b[1m1s\u001b[0m 11ms/step - loss: 1501.6675 - root_mean_squared_error: 38.6411 - val_loss: 1458.4612 - val_root_mean_squared_error: 38.1898\n",
      "Epoch 7/50\n",
      "\u001b[1m75/75\u001b[0m \u001b[32m━━━━━━━━━━━━━━━━━━━━\u001b[0m\u001b[37m\u001b[0m \u001b[1m1s\u001b[0m 11ms/step - loss: 1422.8373 - root_mean_squared_error: 37.6669 - val_loss: 1393.8688 - val_root_mean_squared_error: 37.3346\n",
      "Epoch 8/50\n",
      "\u001b[1m75/75\u001b[0m \u001b[32m━━━━━━━━━━━━━━━━━━━━\u001b[0m\u001b[37m\u001b[0m \u001b[1m1s\u001b[0m 10ms/step - loss: 1164.2048 - root_mean_squared_error: 34.0645 - val_loss: 1591.4213 - val_root_mean_squared_error: 39.8926\n",
      "Epoch 9/50\n",
      "\u001b[1m75/75\u001b[0m \u001b[32m━━━━━━━━━━━━━━━━━━━━\u001b[0m\u001b[37m\u001b[0m \u001b[1m1s\u001b[0m 10ms/step - loss: 1265.6641 - root_mean_squared_error: 35.5438 - val_loss: 1701.6729 - val_root_mean_squared_error: 41.2513\n",
      "Epoch 10/50\n",
      "\u001b[1m75/75\u001b[0m \u001b[32m━━━━━━━━━━━━━━━━━━━━\u001b[0m\u001b[37m\u001b[0m \u001b[1m1s\u001b[0m 10ms/step - loss: 1222.3406 - root_mean_squared_error: 34.9073 - val_loss: 2312.7710 - val_root_mean_squared_error: 48.0913\n",
      "Epoch 11/50\n",
      "\u001b[1m75/75\u001b[0m \u001b[32m━━━━━━━━━━━━━━━━━━━━\u001b[0m\u001b[37m\u001b[0m \u001b[1m1s\u001b[0m 10ms/step - loss: 1335.5802 - root_mean_squared_error: 36.5256 - val_loss: 1731.9740 - val_root_mean_squared_error: 41.6170\n",
      "Epoch 12/50\n",
      "\u001b[1m75/75\u001b[0m \u001b[32m━━━━━━━━━━━━━━━━━━━━\u001b[0m\u001b[37m\u001b[0m \u001b[1m1s\u001b[0m 11ms/step - loss: 1250.4590 - root_mean_squared_error: 35.2743 - val_loss: 1251.0826 - val_root_mean_squared_error: 35.3706\n",
      "Epoch 13/50\n",
      "\u001b[1m75/75\u001b[0m \u001b[32m━━━━━━━━━━━━━━━━━━━━\u001b[0m\u001b[37m\u001b[0m \u001b[1m1s\u001b[0m 12ms/step - loss: 1173.4912 - root_mean_squared_error: 34.2229 - val_loss: 1324.0844 - val_root_mean_squared_error: 36.3880\n",
      "Epoch 14/50\n",
      "\u001b[1m75/75\u001b[0m \u001b[32m━━━━━━━━━━━━━━━━━━━━\u001b[0m\u001b[37m\u001b[0m \u001b[1m1s\u001b[0m 12ms/step - loss: 1161.4700 - root_mean_squared_error: 34.0655 - val_loss: 1364.1632 - val_root_mean_squared_error: 36.9346\n",
      "Epoch 15/50\n",
      "\u001b[1m75/75\u001b[0m \u001b[32m━━━━━━━━━━━━━━━━━━━━\u001b[0m\u001b[37m\u001b[0m \u001b[1m1s\u001b[0m 12ms/step - loss: 1152.1290 - root_mean_squared_error: 33.9204 - val_loss: 1141.9341 - val_root_mean_squared_error: 33.7925\n",
      "Epoch 16/50\n",
      "\u001b[1m75/75\u001b[0m \u001b[32m━━━━━━━━━━━━━━━━━━━━\u001b[0m\u001b[37m\u001b[0m \u001b[1m1s\u001b[0m 10ms/step - loss: 1042.8691 - root_mean_squared_error: 32.2805 - val_loss: 1645.7352 - val_root_mean_squared_error: 40.5677\n",
      "Epoch 17/50\n",
      "\u001b[1m75/75\u001b[0m \u001b[32m━━━━━━━━━━━━━━━━━━━━\u001b[0m\u001b[37m\u001b[0m \u001b[1m1s\u001b[0m 11ms/step - loss: 999.5560 - root_mean_squared_error: 31.5445 - val_loss: 1083.4154 - val_root_mean_squared_error: 32.9153\n",
      "Epoch 18/50\n",
      "\u001b[1m75/75\u001b[0m \u001b[32m━━━━━━━━━━━━━━━━━━━━\u001b[0m\u001b[37m\u001b[0m \u001b[1m1s\u001b[0m 10ms/step - loss: 1125.9347 - root_mean_squared_error: 33.5263 - val_loss: 1121.9115 - val_root_mean_squared_error: 33.4949\n",
      "Epoch 19/50\n",
      "\u001b[1m75/75\u001b[0m \u001b[32m━━━━━━━━━━━━━━━━━━━━\u001b[0m\u001b[37m\u001b[0m \u001b[1m1s\u001b[0m 11ms/step - loss: 1164.8998 - root_mean_squared_error: 34.0708 - val_loss: 1078.4761 - val_root_mean_squared_error: 32.8402\n",
      "Epoch 20/50\n",
      "\u001b[1m75/75\u001b[0m \u001b[32m━━━━━━━━━━━━━━━━━━━━\u001b[0m\u001b[37m\u001b[0m \u001b[1m1s\u001b[0m 10ms/step - loss: 1090.2074 - root_mean_squared_error: 32.9987 - val_loss: 1531.8514 - val_root_mean_squared_error: 39.1389\n",
      "Epoch 21/50\n",
      "\u001b[1m75/75\u001b[0m \u001b[32m━━━━━━━━━━━━━━━━━━━━\u001b[0m\u001b[37m\u001b[0m \u001b[1m1s\u001b[0m 10ms/step - loss: 1059.8142 - root_mean_squared_error: 32.5360 - val_loss: 1291.1235 - val_root_mean_squared_error: 35.9322\n",
      "Epoch 22/50\n",
      "\u001b[1m75/75\u001b[0m \u001b[32m━━━━━━━━━━━━━━━━━━━━\u001b[0m\u001b[37m\u001b[0m \u001b[1m1s\u001b[0m 10ms/step - loss: 1119.9362 - root_mean_squared_error: 33.4114 - val_loss: 1110.2880 - val_root_mean_squared_error: 33.3210\n",
      "Epoch 23/50\n",
      "\u001b[1m75/75\u001b[0m \u001b[32m━━━━━━━━━━━━━━━━━━━━\u001b[0m\u001b[37m\u001b[0m \u001b[1m1s\u001b[0m 10ms/step - loss: 1078.6715 - root_mean_squared_error: 32.7850 - val_loss: 1490.4501 - val_root_mean_squared_error: 38.6063\n",
      "Epoch 24/50\n",
      "\u001b[1m75/75\u001b[0m \u001b[32m━━━━━━━━━━━━━━━━━━━━\u001b[0m\u001b[37m\u001b[0m \u001b[1m1s\u001b[0m 11ms/step - loss: 917.7714 - root_mean_squared_error: 30.2333 - val_loss: 1195.6992 - val_root_mean_squared_error: 34.5789\n",
      "Epoch 25/50\n",
      "\u001b[1m75/75\u001b[0m \u001b[32m━━━━━━━━━━━━━━━━━━━━\u001b[0m\u001b[37m\u001b[0m \u001b[1m1s\u001b[0m 11ms/step - loss: 1045.7886 - root_mean_squared_error: 32.2947 - val_loss: 1049.3346 - val_root_mean_squared_error: 32.3934\n",
      "Epoch 26/50\n",
      "\u001b[1m75/75\u001b[0m \u001b[32m━━━━━━━━━━━━━━━━━━━━\u001b[0m\u001b[37m\u001b[0m \u001b[1m1s\u001b[0m 10ms/step - loss: 1050.0615 - root_mean_squared_error: 32.3727 - val_loss: 1850.8202 - val_root_mean_squared_error: 43.0212\n",
      "Epoch 27/50\n",
      "\u001b[1m75/75\u001b[0m \u001b[32m━━━━━━━━━━━━━━━━━━━━\u001b[0m\u001b[37m\u001b[0m \u001b[1m1s\u001b[0m 10ms/step - loss: 1155.3729 - root_mean_squared_error: 33.9432 - val_loss: 1258.6600 - val_root_mean_squared_error: 35.4776\n",
      "Epoch 28/50\n",
      "\u001b[1m75/75\u001b[0m \u001b[32m━━━━━━━━━━━━━━━━━━━━\u001b[0m\u001b[37m\u001b[0m \u001b[1m1s\u001b[0m 10ms/step - loss: 858.7455 - root_mean_squared_error: 29.2477 - val_loss: 1398.8738 - val_root_mean_squared_error: 37.4015\n",
      "Epoch 29/50\n",
      "\u001b[1m75/75\u001b[0m \u001b[32m━━━━━━━━━━━━━━━━━━━━\u001b[0m\u001b[37m\u001b[0m \u001b[1m1s\u001b[0m 10ms/step - loss: 923.5010 - root_mean_squared_error: 30.3731 - val_loss: 1138.8699 - val_root_mean_squared_error: 33.7471\n",
      "Epoch 30/50\n",
      "\u001b[1m75/75\u001b[0m \u001b[32m━━━━━━━━━━━━━━━━━━━━\u001b[0m\u001b[37m\u001b[0m \u001b[1m1s\u001b[0m 11ms/step - loss: 1161.5005 - root_mean_squared_error: 33.7497 - val_loss: 1046.2406 - val_root_mean_squared_error: 32.3456\n",
      "Epoch 31/50\n",
      "\u001b[1m75/75\u001b[0m \u001b[32m━━━━━━━━━━━━━━━━━━━━\u001b[0m\u001b[37m\u001b[0m \u001b[1m1s\u001b[0m 11ms/step - loss: 976.7818 - root_mean_squared_error: 31.2426 - val_loss: 1030.8552 - val_root_mean_squared_error: 32.1069\n",
      "Epoch 32/50\n",
      "\u001b[1m75/75\u001b[0m \u001b[32m━━━━━━━━━━━━━━━━━━━━\u001b[0m\u001b[37m\u001b[0m \u001b[1m1s\u001b[0m 10ms/step - loss: 1083.0950 - root_mean_squared_error: 32.8546 - val_loss: 1771.1112 - val_root_mean_squared_error: 42.0846\n",
      "Epoch 33/50\n",
      "\u001b[1m75/75\u001b[0m \u001b[32m━━━━━━━━━━━━━━━━━━━━\u001b[0m\u001b[37m\u001b[0m \u001b[1m1s\u001b[0m 10ms/step - loss: 1122.2747 - root_mean_squared_error: 33.4229 - val_loss: 1153.1969 - val_root_mean_squared_error: 33.9588\n",
      "Epoch 34/50\n",
      "\u001b[1m75/75\u001b[0m \u001b[32m━━━━━━━━━━━━━━━━━━━━\u001b[0m\u001b[37m\u001b[0m \u001b[1m1s\u001b[0m 10ms/step - loss: 1123.1375 - root_mean_squared_error: 33.4345 - val_loss: 1298.8041 - val_root_mean_squared_error: 36.0389\n",
      "Epoch 35/50\n",
      "\u001b[1m75/75\u001b[0m \u001b[32m━━━━━━━━━━━━━━━━━━━━\u001b[0m\u001b[37m\u001b[0m \u001b[1m1s\u001b[0m 10ms/step - loss: 1184.1222 - root_mean_squared_error: 34.0258 - val_loss: 1122.7817 - val_root_mean_squared_error: 33.5079\n",
      "Epoch 36/50\n",
      "\u001b[1m75/75\u001b[0m \u001b[32m━━━━━━━━━━━━━━━━━━━━\u001b[0m\u001b[37m\u001b[0m \u001b[1m1s\u001b[0m 10ms/step - loss: 872.9133 - root_mean_squared_error: 29.4954 - val_loss: 1592.7997 - val_root_mean_squared_error: 39.9099\n",
      "Epoch 37/50\n",
      "\u001b[1m75/75\u001b[0m \u001b[32m━━━━━━━━━━━━━━━━━━━━\u001b[0m\u001b[37m\u001b[0m \u001b[1m1s\u001b[0m 11ms/step - loss: 995.3866 - root_mean_squared_error: 31.5321 - val_loss: 1230.4869 - val_root_mean_squared_error: 35.0783\n",
      "Epoch 38/50\n",
      "\u001b[1m75/75\u001b[0m \u001b[32m━━━━━━━━━━━━━━━━━━━━\u001b[0m\u001b[37m\u001b[0m \u001b[1m1s\u001b[0m 10ms/step - loss: 977.2549 - root_mean_squared_error: 31.2020 - val_loss: 1172.8364 - val_root_mean_squared_error: 34.2467\n",
      "Epoch 39/50\n",
      "\u001b[1m75/75\u001b[0m \u001b[32m━━━━━━━━━━━━━━━━━━━━\u001b[0m\u001b[37m\u001b[0m \u001b[1m1s\u001b[0m 10ms/step - loss: 1003.8702 - root_mean_squared_error: 31.6648 - val_loss: 1266.3506 - val_root_mean_squared_error: 35.5858\n",
      "Epoch 40/50\n",
      "\u001b[1m75/75\u001b[0m \u001b[32m━━━━━━━━━━━━━━━━━━━━\u001b[0m\u001b[37m\u001b[0m \u001b[1m1s\u001b[0m 10ms/step - loss: 912.1754 - root_mean_squared_error: 30.1181 - val_loss: 1728.8640 - val_root_mean_squared_error: 41.5796\n",
      "Epoch 41/50\n",
      "\u001b[1m75/75\u001b[0m \u001b[32m━━━━━━━━━━━━━━━━━━━━\u001b[0m\u001b[37m\u001b[0m \u001b[1m1s\u001b[0m 10ms/step - loss: 986.5561 - root_mean_squared_error: 31.3753 - val_loss: 1103.7933 - val_root_mean_squared_error: 33.2234\n",
      "Epoch 42/50\n",
      "\u001b[1m75/75\u001b[0m \u001b[32m━━━━━━━━━━━━━━━━━━━━\u001b[0m\u001b[37m\u001b[0m \u001b[1m1s\u001b[0m 10ms/step - loss: 795.4528 - root_mean_squared_error: 28.1403 - val_loss: 1175.2783 - val_root_mean_squared_error: 34.2823\n",
      "Epoch 43/50\n",
      "\u001b[1m75/75\u001b[0m \u001b[32m━━━━━━━━━━━━━━━━━━━━\u001b[0m\u001b[37m\u001b[0m \u001b[1m1s\u001b[0m 10ms/step - loss: 1012.0116 - root_mean_squared_error: 31.7679 - val_loss: 1579.5486 - val_root_mean_squared_error: 39.7435\n",
      "Epoch 44/50\n",
      "\u001b[1m75/75\u001b[0m \u001b[32m━━━━━━━━━━━━━━━━━━━━\u001b[0m\u001b[37m\u001b[0m \u001b[1m1s\u001b[0m 10ms/step - loss: 869.9625 - root_mean_squared_error: 29.4663 - val_loss: 1110.0625 - val_root_mean_squared_error: 33.3176\n",
      "Epoch 45/50\n",
      "\u001b[1m75/75\u001b[0m \u001b[32m━━━━━━━━━━━━━━━━━━━━\u001b[0m\u001b[37m\u001b[0m \u001b[1m1s\u001b[0m 10ms/step - loss: 862.4075 - root_mean_squared_error: 29.3319 - val_loss: 1378.0698 - val_root_mean_squared_error: 37.1224\n",
      "Epoch 46/50\n",
      "\u001b[1m75/75\u001b[0m \u001b[32m━━━━━━━━━━━━━━━━━━━━\u001b[0m\u001b[37m\u001b[0m \u001b[1m1s\u001b[0m 10ms/step - loss: 1006.6161 - root_mean_squared_error: 31.7186 - val_loss: 1042.7520 - val_root_mean_squared_error: 32.2917\n",
      "Epoch 47/50\n",
      "\u001b[1m75/75\u001b[0m \u001b[32m━━━━━━━━━━━━━━━━━━━━\u001b[0m\u001b[37m\u001b[0m \u001b[1m1s\u001b[0m 10ms/step - loss: 1009.2934 - root_mean_squared_error: 31.6904 - val_loss: 1060.7615 - val_root_mean_squared_error: 32.5693\n",
      "Epoch 48/50\n",
      "\u001b[1m75/75\u001b[0m \u001b[32m━━━━━━━━━━━━━━━━━━━━\u001b[0m\u001b[37m\u001b[0m \u001b[1m1s\u001b[0m 10ms/step - loss: 1046.6687 - root_mean_squared_error: 32.1199 - val_loss: 1092.6100 - val_root_mean_squared_error: 33.0547\n",
      "Epoch 49/50\n",
      "\u001b[1m75/75\u001b[0m \u001b[32m━━━━━━━━━━━━━━━━━━━━\u001b[0m\u001b[37m\u001b[0m \u001b[1m1s\u001b[0m 11ms/step - loss: 967.5754 - root_mean_squared_error: 31.0826 - val_loss: 1089.0983 - val_root_mean_squared_error: 33.0015\n",
      "Epoch 50/50\n",
      "\u001b[1m75/75\u001b[0m \u001b[32m━━━━━━━━━━━━━━━━━━━━\u001b[0m\u001b[37m\u001b[0m \u001b[1m1s\u001b[0m 10ms/step - loss: 875.2745 - root_mean_squared_error: 29.5378 - val_loss: 1204.7876 - val_root_mean_squared_error: 34.7100\n"
     ]
    },
    {
     "data": {
      "text/plain": [
       "<keras.src.callbacks.history.History at 0x7900edbb0cd0>"
      ]
     },
     "execution_count": 53,
     "metadata": {},
     "output_type": "execute_result"
    }
   ],
   "source": [
    "model9 = Sequential()\n",
    "model9.add(InputLayer((6, 6)))  # 6 timestamps, 6 features\n",
    "model9.add(BatchNormalization())  # Normalize inputs\n",
    "model9.add(GRU(128, activation='relu', return_sequences=True))  # GRU layer\n",
    "model9.add(Dropout(0.3))  # Dropout for regularization\n",
    "model9.add(GRU(64, activation='relu', return_sequences=False))  # Second GRU layer\n",
    "model9.add(Dense(32, activation='relu'))  # Fully connected layer\n",
    "model9.add(Dense(16, activation='relu'))  # Second dense layer\n",
    "model9.add(Dense(1, activation='linear'))  # Output layer\n",
    "\n",
    "cp9 = ModelCheckpoint('/kaggle/working/model9.keras', save_best_only=True)\n",
    "\n",
    "model9.compile(loss=MeanSquaredError(), optimizer=Adam(learning_rate=0.001), \n",
    "               metrics=[RootMeanSquaredError()])\n",
    "\n",
    "model9.fit(X_train1, y_train1, validation_data=(X_val1, y_val1), epochs=50, \n",
    "           callbacks=[cp9])"
   ]
  },
  {
   "cell_type": "code",
   "execution_count": 54,
   "id": "e579ee68",
   "metadata": {
    "execution": {
     "iopub.execute_input": "2025-01-27T21:39:35.027029Z",
     "iopub.status.busy": "2025-01-27T21:39:35.026692Z",
     "iopub.status.idle": "2025-01-27T21:39:35.221017Z",
     "shell.execute_reply": "2025-01-27T21:39:35.220086Z"
    },
    "papermill": {
     "duration": 0.355865,
     "end_time": "2025-01-27T21:39:35.222764",
     "exception": false,
     "start_time": "2025-01-27T21:39:34.866899",
     "status": "completed"
    },
    "tags": []
   },
   "outputs": [],
   "source": [
    "from tensorflow.keras.models import load_model\n",
    "model9 = load_model('/kaggle/working/model9.keras')"
   ]
  },
  {
   "cell_type": "code",
   "execution_count": 55,
   "id": "39eb5851",
   "metadata": {
    "execution": {
     "iopub.execute_input": "2025-01-27T21:39:35.539923Z",
     "iopub.status.busy": "2025-01-27T21:39:35.539553Z",
     "iopub.status.idle": "2025-01-27T21:39:36.612545Z",
     "shell.execute_reply": "2025-01-27T21:39:36.611206Z"
    },
    "papermill": {
     "duration": 1.233733,
     "end_time": "2025-01-27T21:39:36.614369",
     "exception": false,
     "start_time": "2025-01-27T21:39:35.380636",
     "status": "completed"
    },
    "tags": []
   },
   "outputs": [
    {
     "name": "stdout",
     "output_type": "stream",
     "text": [
      "\u001b[1m75/75\u001b[0m \u001b[32m━━━━━━━━━━━━━━━━━━━━\u001b[0m\u001b[37m\u001b[0m \u001b[1m1s\u001b[0m 9ms/step\n",
      "Evaluation Metrics:\n",
      "Mean Absolute Error (MAE): 17.7282\n",
      "Mean Squared Error (MSE): 820.5053\n",
      "Root Mean Squared Error (RMSE): 28.6445\n",
      "R-squared (Accuracy): 0.7316\n"
     ]
    }
   ],
   "source": [
    "# Evaluate the model on the train data\n",
    "train_result = model9.predict(X_train1)\n",
    "\n",
    "# Calculate metrics\n",
    "mse = mean_squared_error(y_train1, train_result)\n",
    "rmse = np.sqrt(mse)\n",
    "mae = mean_absolute_error(y_train1, train_result)\n",
    "r2 = r2_score(y_train1, train_result)\n",
    "\n",
    "# Print the results\n",
    "print(\"Evaluation Metrics:\")\n",
    "print(f\"Mean Absolute Error (MAE): {mae:.4f}\")\n",
    "print(f\"Mean Squared Error (MSE): {mse:.4f}\")\n",
    "print(f\"Root Mean Squared Error (RMSE): {rmse:.4f}\")\n",
    "print(f\"R-squared (Accuracy): {r2:.4f}\")"
   ]
  },
  {
   "cell_type": "code",
   "execution_count": 56,
   "id": "d88a6107",
   "metadata": {
    "execution": {
     "iopub.execute_input": "2025-01-27T21:39:36.937607Z",
     "iopub.status.busy": "2025-01-27T21:39:36.937262Z",
     "iopub.status.idle": "2025-01-27T21:39:37.072298Z",
     "shell.execute_reply": "2025-01-27T21:39:37.070998Z"
    },
    "papermill": {
     "duration": 0.294475,
     "end_time": "2025-01-27T21:39:37.074122",
     "exception": false,
     "start_time": "2025-01-27T21:39:36.779647",
     "status": "completed"
    },
    "tags": []
   },
   "outputs": [
    {
     "name": "stdout",
     "output_type": "stream",
     "text": [
      "\u001b[1m15/15\u001b[0m \u001b[32m━━━━━━━━━━━━━━━━━━━━\u001b[0m\u001b[37m\u001b[0m \u001b[1m0s\u001b[0m 4ms/step \n",
      "Evaluation Metrics:\n",
      "Mean Absolute Error (MAE): 22.4706\n",
      "Mean Squared Error (MSE): 1030.8553\n",
      "Root Mean Squared Error (RMSE): 32.1069\n",
      "R-squared (Accuracy): 0.8508\n"
     ]
    }
   ],
   "source": [
    "# Evaluate the model on the validation data\n",
    "val_result = model9.predict(X_val1)\n",
    "\n",
    "# Calculate metrics\n",
    "mse = mean_squared_error(y_val1, val_result)\n",
    "rmse = np.sqrt(mse)\n",
    "mae = mean_absolute_error(y_val1, val_result)\n",
    "r2 = r2_score(y_val1, val_result)\n",
    "\n",
    "# Print the results\n",
    "print(\"Evaluation Metrics:\")\n",
    "print(f\"Mean Absolute Error (MAE): {mae:.4f}\")\n",
    "print(f\"Mean Squared Error (MSE): {mse:.4f}\")\n",
    "print(f\"Root Mean Squared Error (RMSE): {rmse:.4f}\")\n",
    "print(f\"R-squared (Accuracy): {r2:.4f}\")"
   ]
  },
  {
   "cell_type": "code",
   "execution_count": 57,
   "id": "b35461cb",
   "metadata": {
    "execution": {
     "iopub.execute_input": "2025-01-27T21:39:37.454228Z",
     "iopub.status.busy": "2025-01-27T21:39:37.453839Z",
     "iopub.status.idle": "2025-01-27T21:39:37.571791Z",
     "shell.execute_reply": "2025-01-27T21:39:37.570388Z"
    },
    "papermill": {
     "duration": 0.340135,
     "end_time": "2025-01-27T21:39:37.573952",
     "exception": false,
     "start_time": "2025-01-27T21:39:37.233817",
     "status": "completed"
    },
    "tags": []
   },
   "outputs": [
    {
     "name": "stdout",
     "output_type": "stream",
     "text": [
      "\u001b[1m10/10\u001b[0m \u001b[32m━━━━━━━━━━━━━━━━━━━━\u001b[0m\u001b[37m\u001b[0m \u001b[1m0s\u001b[0m 3ms/step \n",
      "Evaluation Metrics:\n",
      "Mean Absolute Error (MAE): 20.1940\n",
      "Mean Squared Error (MSE): 703.7099\n",
      "Root Mean Squared Error (RMSE): 26.5275\n",
      "R-squared (Accuracy): 0.7519\n"
     ]
    }
   ],
   "source": [
    "# Evaluate the model on the test data\n",
    "test_result = model9.predict(X_test1)\n",
    "\n",
    "# Calculate metrics\n",
    "mse = mean_squared_error(y_test1, test_result)\n",
    "rmse = np.sqrt(mse)\n",
    "mae = mean_absolute_error(y_test1, test_result)\n",
    "r2 = r2_score(y_test1, test_result)\n",
    "\n",
    "# Print the results\n",
    "print(\"Evaluation Metrics:\")\n",
    "print(f\"Mean Absolute Error (MAE): {mae:.4f}\")\n",
    "print(f\"Mean Squared Error (MSE): {mse:.4f}\")\n",
    "print(f\"Root Mean Squared Error (RMSE): {rmse:.4f}\")\n",
    "print(f\"R-squared (Accuracy): {r2:.4f}\")"
   ]
  },
  {
   "cell_type": "code",
   "execution_count": 58,
   "id": "18d1a762",
   "metadata": {
    "execution": {
     "iopub.execute_input": "2025-01-27T21:39:37.898769Z",
     "iopub.status.busy": "2025-01-27T21:39:37.898426Z",
     "iopub.status.idle": "2025-01-27T21:39:38.240883Z",
     "shell.execute_reply": "2025-01-27T21:39:38.239841Z"
    },
    "papermill": {
     "duration": 0.501116,
     "end_time": "2025-01-27T21:39:38.242720",
     "exception": false,
     "start_time": "2025-01-27T21:39:37.741604",
     "status": "completed"
    },
    "tags": []
   },
   "outputs": [
    {
     "name": "stdout",
     "output_type": "stream",
     "text": [
      "\u001b[1m75/75\u001b[0m \u001b[32m━━━━━━━━━━━━━━━━━━━━\u001b[0m\u001b[37m\u001b[0m \u001b[1m0s\u001b[0m 3ms/step\n"
     ]
    },
    {
     "data": {
      "text/html": [
       "<div>\n",
       "<style scoped>\n",
       "    .dataframe tbody tr th:only-of-type {\n",
       "        vertical-align: middle;\n",
       "    }\n",
       "\n",
       "    .dataframe tbody tr th {\n",
       "        vertical-align: top;\n",
       "    }\n",
       "\n",
       "    .dataframe thead th {\n",
       "        text-align: right;\n",
       "    }\n",
       "</style>\n",
       "<table border=\"1\" class=\"dataframe\">\n",
       "  <thead>\n",
       "    <tr style=\"text-align: right;\">\n",
       "      <th></th>\n",
       "      <th>Train Predictions</th>\n",
       "      <th>Actuals</th>\n",
       "    </tr>\n",
       "  </thead>\n",
       "  <tbody>\n",
       "    <tr>\n",
       "      <th>0</th>\n",
       "      <td>239.309631</td>\n",
       "      <td>195.0</td>\n",
       "    </tr>\n",
       "    <tr>\n",
       "      <th>1</th>\n",
       "      <td>203.051468</td>\n",
       "      <td>185.0</td>\n",
       "    </tr>\n",
       "    <tr>\n",
       "      <th>2</th>\n",
       "      <td>205.681366</td>\n",
       "      <td>208.0</td>\n",
       "    </tr>\n",
       "    <tr>\n",
       "      <th>3</th>\n",
       "      <td>238.532532</td>\n",
       "      <td>290.0</td>\n",
       "    </tr>\n",
       "    <tr>\n",
       "      <th>4</th>\n",
       "      <td>252.794907</td>\n",
       "      <td>267.0</td>\n",
       "    </tr>\n",
       "    <tr>\n",
       "      <th>...</th>\n",
       "      <td>...</td>\n",
       "      <td>...</td>\n",
       "    </tr>\n",
       "    <tr>\n",
       "      <th>2388</th>\n",
       "      <td>98.011414</td>\n",
       "      <td>54.0</td>\n",
       "    </tr>\n",
       "    <tr>\n",
       "      <th>2389</th>\n",
       "      <td>90.467354</td>\n",
       "      <td>85.0</td>\n",
       "    </tr>\n",
       "    <tr>\n",
       "      <th>2390</th>\n",
       "      <td>97.309929</td>\n",
       "      <td>97.0</td>\n",
       "    </tr>\n",
       "    <tr>\n",
       "      <th>2391</th>\n",
       "      <td>105.743523</td>\n",
       "      <td>74.0</td>\n",
       "    </tr>\n",
       "    <tr>\n",
       "      <th>2392</th>\n",
       "      <td>90.330505</td>\n",
       "      <td>87.0</td>\n",
       "    </tr>\n",
       "  </tbody>\n",
       "</table>\n",
       "<p>2393 rows × 2 columns</p>\n",
       "</div>"
      ],
      "text/plain": [
       "      Train Predictions  Actuals\n",
       "0            239.309631    195.0\n",
       "1            203.051468    185.0\n",
       "2            205.681366    208.0\n",
       "3            238.532532    290.0\n",
       "4            252.794907    267.0\n",
       "...                 ...      ...\n",
       "2388          98.011414     54.0\n",
       "2389          90.467354     85.0\n",
       "2390          97.309929     97.0\n",
       "2391         105.743523     74.0\n",
       "2392          90.330505     87.0\n",
       "\n",
       "[2393 rows x 2 columns]"
      ]
     },
     "execution_count": 58,
     "metadata": {},
     "output_type": "execute_result"
    }
   ],
   "source": [
    "train_predictions = model9.predict(X_train1).flatten()\n",
    "train_results = pd.DataFrame(data={'Train Predictions':train_predictions, 'Actuals':y_train1})\n",
    "train_results"
   ]
  },
  {
   "cell_type": "code",
   "execution_count": 59,
   "id": "76e9b821",
   "metadata": {
    "execution": {
     "iopub.execute_input": "2025-01-27T21:39:38.557554Z",
     "iopub.status.busy": "2025-01-27T21:39:38.557194Z",
     "iopub.status.idle": "2025-01-27T21:39:38.726979Z",
     "shell.execute_reply": "2025-01-27T21:39:38.725896Z"
    },
    "papermill": {
     "duration": 0.32928,
     "end_time": "2025-01-27T21:39:38.728794",
     "exception": false,
     "start_time": "2025-01-27T21:39:38.399514",
     "status": "completed"
    },
    "tags": []
   },
   "outputs": [
    {
     "data": {
      "image/png": "[encoded data removed]",
      "text/plain": [
       "<Figure size 640x480 with 1 Axes>"
      ]
     },
     "metadata": {},
     "output_type": "display_data"
    }
   ],
   "source": [
    "plt.plot(train_results['Actuals'][1:50], label='Actual')\n",
    "plt.plot(train_results['Train Predictions'][1:50], label='Predicted')\n",
    "plt.legend()\n",
    "plt.show()"
   ]
  },
  {
   "cell_type": "code",
   "execution_count": 60,
   "id": "8176a5f3",
   "metadata": {
    "execution": {
     "iopub.execute_input": "2025-01-27T21:39:39.049591Z",
     "iopub.status.busy": "2025-01-27T21:39:39.049221Z",
     "iopub.status.idle": "2025-01-27T21:39:39.179206Z",
     "shell.execute_reply": "2025-01-27T21:39:39.178139Z"
    },
    "papermill": {
     "duration": 0.291486,
     "end_time": "2025-01-27T21:39:39.180941",
     "exception": false,
     "start_time": "2025-01-27T21:39:38.889455",
     "status": "completed"
    },
    "tags": []
   },
   "outputs": [
    {
     "name": "stdout",
     "output_type": "stream",
     "text": [
      "\u001b[1m15/15\u001b[0m \u001b[32m━━━━━━━━━━━━━━━━━━━━\u001b[0m\u001b[37m\u001b[0m \u001b[1m0s\u001b[0m 3ms/step \n"
     ]
    },
    {
     "data": {
      "text/html": [
       "<div>\n",
       "<style scoped>\n",
       "    .dataframe tbody tr th:only-of-type {\n",
       "        vertical-align: middle;\n",
       "    }\n",
       "\n",
       "    .dataframe tbody tr th {\n",
       "        vertical-align: top;\n",
       "    }\n",
       "\n",
       "    .dataframe thead th {\n",
       "        text-align: right;\n",
       "    }\n",
       "</style>\n",
       "<table border=\"1\" class=\"dataframe\">\n",
       "  <thead>\n",
       "    <tr style=\"text-align: right;\">\n",
       "      <th></th>\n",
       "      <th>Train Predictions</th>\n",
       "      <th>Actuals</th>\n",
       "    </tr>\n",
       "  </thead>\n",
       "  <tbody>\n",
       "    <tr>\n",
       "      <th>0</th>\n",
       "      <td>88.550705</td>\n",
       "      <td>85.0</td>\n",
       "    </tr>\n",
       "    <tr>\n",
       "      <th>1</th>\n",
       "      <td>90.106537</td>\n",
       "      <td>71.0</td>\n",
       "    </tr>\n",
       "    <tr>\n",
       "      <th>2</th>\n",
       "      <td>85.134933</td>\n",
       "      <td>89.0</td>\n",
       "    </tr>\n",
       "    <tr>\n",
       "      <th>3</th>\n",
       "      <td>91.856552</td>\n",
       "      <td>99.0</td>\n",
       "    </tr>\n",
       "    <tr>\n",
       "      <th>4</th>\n",
       "      <td>95.900543</td>\n",
       "      <td>80.0</td>\n",
       "    </tr>\n",
       "    <tr>\n",
       "      <th>...</th>\n",
       "      <td>...</td>\n",
       "      <td>...</td>\n",
       "    </tr>\n",
       "    <tr>\n",
       "      <th>468</th>\n",
       "      <td>193.788055</td>\n",
       "      <td>193.0</td>\n",
       "    </tr>\n",
       "    <tr>\n",
       "      <th>469</th>\n",
       "      <td>226.545654</td>\n",
       "      <td>199.0</td>\n",
       "    </tr>\n",
       "    <tr>\n",
       "      <th>470</th>\n",
       "      <td>209.471344</td>\n",
       "      <td>197.0</td>\n",
       "    </tr>\n",
       "    <tr>\n",
       "      <th>471</th>\n",
       "      <td>207.545441</td>\n",
       "      <td>197.0</td>\n",
       "    </tr>\n",
       "    <tr>\n",
       "      <th>472</th>\n",
       "      <td>205.217499</td>\n",
       "      <td>190.0</td>\n",
       "    </tr>\n",
       "  </tbody>\n",
       "</table>\n",
       "<p>473 rows × 2 columns</p>\n",
       "</div>"
      ],
      "text/plain": [
       "     Train Predictions  Actuals\n",
       "0            88.550705     85.0\n",
       "1            90.106537     71.0\n",
       "2            85.134933     89.0\n",
       "3            91.856552     99.0\n",
       "4            95.900543     80.0\n",
       "..                 ...      ...\n",
       "468         193.788055    193.0\n",
       "469         226.545654    199.0\n",
       "470         209.471344    197.0\n",
       "471         207.545441    197.0\n",
       "472         205.217499    190.0\n",
       "\n",
       "[473 rows x 2 columns]"
      ]
     },
     "execution_count": 60,
     "metadata": {},
     "output_type": "execute_result"
    }
   ],
   "source": [
    "val_predictions = model9.predict(X_val1).flatten()\n",
    "val_results = pd.DataFrame(data={'Train Predictions':val_predictions, 'Actuals':y_val1})\n",
    "val_results"
   ]
  },
  {
   "cell_type": "code",
   "execution_count": 61,
   "id": "43a9955a",
   "metadata": {
    "execution": {
     "iopub.execute_input": "2025-01-27T21:39:39.498608Z",
     "iopub.status.busy": "2025-01-27T21:39:39.498237Z",
     "iopub.status.idle": "2025-01-27T21:39:39.680966Z",
     "shell.execute_reply": "2025-01-27T21:39:39.679870Z"
    },
    "papermill": {
     "duration": 0.344274,
     "end_time": "2025-01-27T21:39:39.682822",
     "exception": false,
     "start_time": "2025-01-27T21:39:39.338548",
     "status": "completed"
    },
    "tags": []
   },
   "outputs": [
    {
     "data": {
      "image/png": "[encoded data removed]",
      "text/plain": [
       "<Figure size 640x480 with 1 Axes>"
      ]
     },
     "metadata": {},
     "output_type": "display_data"
    }
   ],
   "source": [
    "plt.plot(val_results['Actuals'][1:50], label='Actual')\n",
    "plt.plot(val_results['Train Predictions'][1:50], label='Predicted')\n",
    "plt.legend()\n",
    "plt.show()"
   ]
  },
  {
   "cell_type": "code",
   "execution_count": 62,
   "id": "af0119f9",
   "metadata": {
    "execution": {
     "iopub.execute_input": "2025-01-27T21:39:40.005654Z",
     "iopub.status.busy": "2025-01-27T21:39:40.005154Z",
     "iopub.status.idle": "2025-01-27T21:39:40.122579Z",
     "shell.execute_reply": "2025-01-27T21:39:40.121500Z"
    },
    "papermill": {
     "duration": 0.278885,
     "end_time": "2025-01-27T21:39:40.124092",
     "exception": false,
     "start_time": "2025-01-27T21:39:39.845207",
     "status": "completed"
    },
    "tags": []
   },
   "outputs": [
    {
     "name": "stdout",
     "output_type": "stream",
     "text": [
      "\u001b[1m10/10\u001b[0m \u001b[32m━━━━━━━━━━━━━━━━━━━━\u001b[0m\u001b[37m\u001b[0m \u001b[1m0s\u001b[0m 3ms/step \n"
     ]
    },
    {
     "data": {
      "text/html": [
       "<div>\n",
       "<style scoped>\n",
       "    .dataframe tbody tr th:only-of-type {\n",
       "        vertical-align: middle;\n",
       "    }\n",
       "\n",
       "    .dataframe tbody tr th {\n",
       "        vertical-align: top;\n",
       "    }\n",
       "\n",
       "    .dataframe thead th {\n",
       "        text-align: right;\n",
       "    }\n",
       "</style>\n",
       "<table border=\"1\" class=\"dataframe\">\n",
       "  <thead>\n",
       "    <tr style=\"text-align: right;\">\n",
       "      <th></th>\n",
       "      <th>Train Predictions</th>\n",
       "      <th>Actuals</th>\n",
       "    </tr>\n",
       "  </thead>\n",
       "  <tbody>\n",
       "    <tr>\n",
       "      <th>0</th>\n",
       "      <td>204.931549</td>\n",
       "      <td>190.0</td>\n",
       "    </tr>\n",
       "    <tr>\n",
       "      <th>1</th>\n",
       "      <td>197.983887</td>\n",
       "      <td>177.0</td>\n",
       "    </tr>\n",
       "    <tr>\n",
       "      <th>2</th>\n",
       "      <td>192.301300</td>\n",
       "      <td>172.0</td>\n",
       "    </tr>\n",
       "    <tr>\n",
       "      <th>3</th>\n",
       "      <td>190.910980</td>\n",
       "      <td>170.0</td>\n",
       "    </tr>\n",
       "    <tr>\n",
       "      <th>4</th>\n",
       "      <td>186.233856</td>\n",
       "      <td>197.0</td>\n",
       "    </tr>\n",
       "    <tr>\n",
       "      <th>...</th>\n",
       "      <td>...</td>\n",
       "      <td>...</td>\n",
       "    </tr>\n",
       "    <tr>\n",
       "      <th>310</th>\n",
       "      <td>148.229095</td>\n",
       "      <td>134.0</td>\n",
       "    </tr>\n",
       "    <tr>\n",
       "      <th>311</th>\n",
       "      <td>143.929382</td>\n",
       "      <td>144.0</td>\n",
       "    </tr>\n",
       "    <tr>\n",
       "      <th>312</th>\n",
       "      <td>152.637207</td>\n",
       "      <td>155.0</td>\n",
       "    </tr>\n",
       "    <tr>\n",
       "      <th>313</th>\n",
       "      <td>161.387177</td>\n",
       "      <td>155.0</td>\n",
       "    </tr>\n",
       "    <tr>\n",
       "      <th>314</th>\n",
       "      <td>154.923386</td>\n",
       "      <td>152.0</td>\n",
       "    </tr>\n",
       "  </tbody>\n",
       "</table>\n",
       "<p>315 rows × 2 columns</p>\n",
       "</div>"
      ],
      "text/plain": [
       "     Train Predictions  Actuals\n",
       "0           204.931549    190.0\n",
       "1           197.983887    177.0\n",
       "2           192.301300    172.0\n",
       "3           190.910980    170.0\n",
       "4           186.233856    197.0\n",
       "..                 ...      ...\n",
       "310         148.229095    134.0\n",
       "311         143.929382    144.0\n",
       "312         152.637207    155.0\n",
       "313         161.387177    155.0\n",
       "314         154.923386    152.0\n",
       "\n",
       "[315 rows x 2 columns]"
      ]
     },
     "execution_count": 62,
     "metadata": {},
     "output_type": "execute_result"
    }
   ],
   "source": [
    "test_predictions = model9.predict(X_test1).flatten()\n",
    "test_results = pd.DataFrame(data={'Train Predictions':test_predictions, 'Actuals':y_test1})\n",
    "test_results"
   ]
  },
  {
   "cell_type": "code",
   "execution_count": 63,
   "id": "ee857716",
   "metadata": {
    "execution": {
     "iopub.execute_input": "2025-01-27T21:39:40.501783Z",
     "iopub.status.busy": "2025-01-27T21:39:40.501443Z",
     "iopub.status.idle": "2025-01-27T21:39:40.690487Z",
     "shell.execute_reply": "2025-01-27T21:39:40.689442Z"
    },
    "papermill": {
     "duration": 0.408281,
     "end_time": "2025-01-27T21:39:40.692194",
     "exception": false,
     "start_time": "2025-01-27T21:39:40.283913",
     "status": "completed"
    },
    "tags": []
   },
   "outputs": [
    {
     "data": {
      "image/png": "[encoded data removed]",
      "text/plain": [
       "<Figure size 640x480 with 1 Axes>"
      ]
     },
     "metadata": {},
     "output_type": "display_data"
    }
   ],
   "source": [
    "plt.plot(test_results['Train Predictions'][1:50], label='Predicted')\n",
    "plt.plot(test_results['Actuals'][1:50], label='Actual')\n",
    "plt.legend()\n",
    "plt.show()"
   ]
  }
 ],
 "metadata": {
  "kaggle": {
   "accelerator": "none",
   "dataSources": [
    {
     "datasetId": 6557354,
     "sourceId": 10594490,
     "sourceType": "datasetVersion"
    },
    {
     "sourceId": 219513339,
     "sourceType": "kernelVersion"
    }
   ],
   "dockerImageVersionId": 30839,
   "isGpuEnabled": false,
   "isInternetEnabled": false,
   "language": "python",
   "sourceType": "notebook"
  },
  "kernelspec": {
   "display_name": "Python 3",
   "language": "python",
   "name": "python3"
  },
  "language_info": {
   "codemirror_mode": {
    "name": "ipython",
    "version": 3
   },
   "file_extension": ".py",
   "mimetype": "text/x-python",
   "name": "python",
   "nbconvert_exporter": "python",
   "pygments_lexer": "ipython3",
   "version": "3.10.12"
  },
  "papermill": {
   "default_parameters": {},
   "duration": 167.780339,
   "end_time": "2025-01-27T21:39:43.482818",
   "environment_variables": {},
   "exception": null,
   "input_path": "__notebook__.ipynb",
   "output_path": "__notebook__.ipynb",
   "parameters": {},
   "start_time": "2025-01-27T21:36:55.702479",
   "version": "2.6.0"
  }
 },
 "nbformat": 4,
 "nbformat_minor": 5
}
