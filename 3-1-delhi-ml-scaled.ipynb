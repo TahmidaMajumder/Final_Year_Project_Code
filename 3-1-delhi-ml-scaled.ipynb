{
 "cells": [
  {
   "cell_type": "code",
   "execution_count": 1,
   "id": "847fd2c8",
   "metadata": {
    "_cell_guid": "0bd5fd8f-4de5-406f-92da-d16f3c990795",
    "_uuid": "63737120-456d-498d-a950-7893b9099e72",
    "collapsed": false,
    "execution": {
     "iopub.execute_input": "2025-01-27T16:59:03.387178Z",
     "iopub.status.busy": "2025-01-27T16:59:03.386819Z",
     "iopub.status.idle": "2025-01-27T16:59:07.092445Z",
     "shell.execute_reply": "2025-01-27T16:59:07.091317Z"
    },
    "jupyter": {
     "outputs_hidden": false
    },
    "papermill": {
     "duration": 3.741234,
     "end_time": "2025-01-27T16:59:07.094834",
     "exception": false,
     "start_time": "2025-01-27T16:59:03.353600",
     "status": "completed"
    },
    "tags": []
   },
   "outputs": [],
   "source": [
    "# Packages / libraries\n",
    "import os #provides functions for interacting with the operating system\n",
    "import numpy as np\n",
    "import pandas as pd\n",
    "from matplotlib import pyplot as plt\n",
    "import seaborn as sns\n",
    "\n",
    "\n",
    "from sklearn.model_selection import train_test_split\n",
    "from sklearn.pipeline import Pipeline\n",
    "from sklearn.preprocessing import StandardScaler, MinMaxScaler, LabelEncoder, OneHotEncoder, PolynomialFeatures\n",
    "from sklearn.metrics import r2_score, explained_variance_score, mean_absolute_error, mean_squared_error\n",
    "from math import sqrt\n",
    "from sklearn.impute import SimpleImputer\n",
    "from sklearn.compose import ColumnTransformer\n",
    "from sklearn.model_selection import GridSearchCV\n",
    "from sklearn.model_selection import RandomizedSearchCV\n",
    "\n",
    "from sklearn.linear_model import LinearRegression\n",
    "from sklearn.ensemble import RandomForestRegressor\n",
    "from sklearn.neighbors import KNeighborsRegressor\n",
    "from sklearn.tree import DecisionTreeRegressor\n",
    "from sklearn.svm import SVR\n",
    "from sklearn.neural_network import MLPRegressor\n",
    "from xgboost import XGBRegressor\n",
    "from sklearn.ensemble import GradientBoostingRegressor\n",
    "\n",
    "import graphviz\n",
    "from sklearn import tree\n",
    "\n",
    "# remove warnings\n",
    "import warnings\n",
    "warnings.simplefilter(action='ignore', category=RuntimeWarning)"
   ]
  },
  {
   "cell_type": "markdown",
   "id": "449e02c8",
   "metadata": {
    "papermill": {
     "duration": 0.029782,
     "end_time": "2025-01-27T16:59:07.156991",
     "exception": false,
     "start_time": "2025-01-27T16:59:07.127209",
     "status": "completed"
    },
    "tags": []
   },
   "source": [
    "# **1. Loading Dataset**"
   ]
  },
  {
   "cell_type": "code",
   "execution_count": 2,
   "id": "b8a68343",
   "metadata": {
    "execution": {
     "iopub.execute_input": "2025-01-27T16:59:07.221301Z",
     "iopub.status.busy": "2025-01-27T16:59:07.220654Z",
     "iopub.status.idle": "2025-01-27T16:59:07.283889Z",
     "shell.execute_reply": "2025-01-27T16:59:07.282536Z"
    },
    "papermill": {
     "duration": 0.096782,
     "end_time": "2025-01-27T16:59:07.285682",
     "exception": false,
     "start_time": "2025-01-27T16:59:07.188900",
     "status": "completed"
    },
    "tags": []
   },
   "outputs": [
    {
     "name": "stdout",
     "output_type": "stream",
     "text": [
      "(2399, 12)\n"
     ]
    },
    {
     "data": {
      "text/html": [
       "<div>\n",
       "<style scoped>\n",
       "    .dataframe tbody tr th:only-of-type {\n",
       "        vertical-align: middle;\n",
       "    }\n",
       "\n",
       "    .dataframe tbody tr th {\n",
       "        vertical-align: top;\n",
       "    }\n",
       "\n",
       "    .dataframe thead th {\n",
       "        text-align: right;\n",
       "    }\n",
       "</style>\n",
       "<table border=\"1\" class=\"dataframe\">\n",
       "  <thead>\n",
       "    <tr style=\"text-align: right;\">\n",
       "      <th></th>\n",
       "      <th>Date</th>\n",
       "      <th>co</th>\n",
       "      <th>no2</th>\n",
       "      <th>o3</th>\n",
       "      <th>pm10</th>\n",
       "      <th>pm25</th>\n",
       "      <th>so2</th>\n",
       "      <th>humidity</th>\n",
       "      <th>pressure</th>\n",
       "      <th>temperature</th>\n",
       "      <th>wind-speed</th>\n",
       "      <th>Country_City</th>\n",
       "    </tr>\n",
       "  </thead>\n",
       "  <tbody>\n",
       "    <tr>\n",
       "      <th>0</th>\n",
       "      <td>2014-12-29</td>\n",
       "      <td>14.1</td>\n",
       "      <td>36.2</td>\n",
       "      <td>3.2</td>\n",
       "      <td>218.0</td>\n",
       "      <td>307.0</td>\n",
       "      <td>4.2</td>\n",
       "      <td>NaN</td>\n",
       "      <td>NaN</td>\n",
       "      <td>NaN</td>\n",
       "      <td>NaN</td>\n",
       "      <td>India_Delhi</td>\n",
       "    </tr>\n",
       "    <tr>\n",
       "      <th>1</th>\n",
       "      <td>2014-12-30</td>\n",
       "      <td>20.4</td>\n",
       "      <td>36.8</td>\n",
       "      <td>4.8</td>\n",
       "      <td>330.0</td>\n",
       "      <td>367.0</td>\n",
       "      <td>5.8</td>\n",
       "      <td>NaN</td>\n",
       "      <td>NaN</td>\n",
       "      <td>NaN</td>\n",
       "      <td>NaN</td>\n",
       "      <td>India_Delhi</td>\n",
       "    </tr>\n",
       "    <tr>\n",
       "      <th>2</th>\n",
       "      <td>2014-12-31</td>\n",
       "      <td>12.7</td>\n",
       "      <td>28.7</td>\n",
       "      <td>7.8</td>\n",
       "      <td>137.0</td>\n",
       "      <td>202.0</td>\n",
       "      <td>6.3</td>\n",
       "      <td>NaN</td>\n",
       "      <td>NaN</td>\n",
       "      <td>NaN</td>\n",
       "      <td>NaN</td>\n",
       "      <td>India_Delhi</td>\n",
       "    </tr>\n",
       "    <tr>\n",
       "      <th>3</th>\n",
       "      <td>2015-01-01</td>\n",
       "      <td>20.8</td>\n",
       "      <td>66.5</td>\n",
       "      <td>5.2</td>\n",
       "      <td>230.0</td>\n",
       "      <td>382.0</td>\n",
       "      <td>9.9</td>\n",
       "      <td>NaN</td>\n",
       "      <td>NaN</td>\n",
       "      <td>NaN</td>\n",
       "      <td>NaN</td>\n",
       "      <td>India_Delhi</td>\n",
       "    </tr>\n",
       "    <tr>\n",
       "      <th>4</th>\n",
       "      <td>2015-01-02</td>\n",
       "      <td>12.7</td>\n",
       "      <td>33.9</td>\n",
       "      <td>6.0</td>\n",
       "      <td>81.0</td>\n",
       "      <td>172.0</td>\n",
       "      <td>4.2</td>\n",
       "      <td>NaN</td>\n",
       "      <td>NaN</td>\n",
       "      <td>NaN</td>\n",
       "      <td>NaN</td>\n",
       "      <td>India_Delhi</td>\n",
       "    </tr>\n",
       "  </tbody>\n",
       "</table>\n",
       "</div>"
      ],
      "text/plain": [
       "         Date    co   no2   o3   pm10   pm25  so2  humidity  pressure  \\\n",
       "0  2014-12-29  14.1  36.2  3.2  218.0  307.0  4.2       NaN       NaN   \n",
       "1  2014-12-30  20.4  36.8  4.8  330.0  367.0  5.8       NaN       NaN   \n",
       "2  2014-12-31  12.7  28.7  7.8  137.0  202.0  6.3       NaN       NaN   \n",
       "3  2015-01-01  20.8  66.5  5.2  230.0  382.0  9.9       NaN       NaN   \n",
       "4  2015-01-02  12.7  33.9  6.0   81.0  172.0  4.2       NaN       NaN   \n",
       "\n",
       "   temperature  wind-speed Country_City  \n",
       "0          NaN         NaN  India_Delhi  \n",
       "1          NaN         NaN  India_Delhi  \n",
       "2          NaN         NaN  India_Delhi  \n",
       "3          NaN         NaN  India_Delhi  \n",
       "4          NaN         NaN  India_Delhi  "
      ]
     },
     "execution_count": 2,
     "metadata": {},
     "output_type": "execute_result"
    }
   ],
   "source": [
    "# Loading the data\n",
    "new_data = pd.read_csv(\"/kaggle/input/seperated-data/India_Delhi.csv\")\n",
    "\n",
    "# print the shape\n",
    "print(new_data.shape)\n",
    "\n",
    "#runs the first 5 rows\n",
    "new_data.head()"
   ]
  },
  {
   "cell_type": "code",
   "execution_count": 3,
   "id": "c2d2affd",
   "metadata": {
    "execution": {
     "iopub.execute_input": "2025-01-27T16:59:07.347641Z",
     "iopub.status.busy": "2025-01-27T16:59:07.347184Z",
     "iopub.status.idle": "2025-01-27T16:59:07.356868Z",
     "shell.execute_reply": "2025-01-27T16:59:07.355362Z"
    },
    "papermill": {
     "duration": 0.042964,
     "end_time": "2025-01-27T16:59:07.358974",
     "exception": false,
     "start_time": "2025-01-27T16:59:07.316010",
     "status": "completed"
    },
    "tags": []
   },
   "outputs": [
    {
     "name": "stdout",
     "output_type": "stream",
     "text": [
      "Minimum date: 2014-12-29\n",
      "Maximum date: 2023-10-01\n"
     ]
    }
   ],
   "source": [
    "# Find the minimum and maximum dates\n",
    "min_date = new_data['Date'].min()\n",
    "max_date = new_data['Date'].max()\n",
    "\n",
    "print('Minimum date:', min_date)\n",
    "print('Maximum date:', max_date)"
   ]
  },
  {
   "cell_type": "code",
   "execution_count": 4,
   "id": "65713a02",
   "metadata": {
    "execution": {
     "iopub.execute_input": "2025-01-27T16:59:07.419982Z",
     "iopub.status.busy": "2025-01-27T16:59:07.419529Z",
     "iopub.status.idle": "2025-01-27T16:59:07.446523Z",
     "shell.execute_reply": "2025-01-27T16:59:07.444984Z"
    },
    "papermill": {
     "duration": 0.059865,
     "end_time": "2025-01-27T16:59:07.448596",
     "exception": false,
     "start_time": "2025-01-27T16:59:07.388731",
     "status": "completed"
    },
    "tags": []
   },
   "outputs": [
    {
     "name": "stdout",
     "output_type": "stream",
     "text": [
      "<class 'pandas.core.frame.DataFrame'>\n",
      "RangeIndex: 2399 entries, 0 to 2398\n",
      "Data columns (total 12 columns):\n",
      " #   Column        Non-Null Count  Dtype  \n",
      "---  ------        --------------  -----  \n",
      " 0   Date          2399 non-null   object \n",
      " 1   co            2399 non-null   float64\n",
      " 2   no2           2399 non-null   float64\n",
      " 3   o3            2399 non-null   float64\n",
      " 4   pm10          2398 non-null   float64\n",
      " 5   pm25          2398 non-null   float64\n",
      " 6   so2           2399 non-null   float64\n",
      " 7   humidity      1698 non-null   float64\n",
      " 8   pressure      1698 non-null   float64\n",
      " 9   temperature   1698 non-null   float64\n",
      " 10  wind-speed    1629 non-null   float64\n",
      " 11  Country_City  2399 non-null   object \n",
      "dtypes: float64(10), object(2)\n",
      "memory usage: 225.0+ KB\n"
     ]
    }
   ],
   "source": [
    "new_data.info()"
   ]
  },
  {
   "cell_type": "code",
   "execution_count": 5,
   "id": "bb81c498",
   "metadata": {
    "execution": {
     "iopub.execute_input": "2025-01-27T16:59:07.510687Z",
     "iopub.status.busy": "2025-01-27T16:59:07.510220Z",
     "iopub.status.idle": "2025-01-27T16:59:07.547750Z",
     "shell.execute_reply": "2025-01-27T16:59:07.546227Z"
    },
    "papermill": {
     "duration": 0.070674,
     "end_time": "2025-01-27T16:59:07.549755",
     "exception": false,
     "start_time": "2025-01-27T16:59:07.479081",
     "status": "completed"
    },
    "tags": []
   },
   "outputs": [
    {
     "data": {
      "text/html": [
       "<div>\n",
       "<style scoped>\n",
       "    .dataframe tbody tr th:only-of-type {\n",
       "        vertical-align: middle;\n",
       "    }\n",
       "\n",
       "    .dataframe tbody tr th {\n",
       "        vertical-align: top;\n",
       "    }\n",
       "\n",
       "    .dataframe thead th {\n",
       "        text-align: right;\n",
       "    }\n",
       "</style>\n",
       "<table border=\"1\" class=\"dataframe\">\n",
       "  <thead>\n",
       "    <tr style=\"text-align: right;\">\n",
       "      <th></th>\n",
       "      <th>co</th>\n",
       "      <th>no2</th>\n",
       "      <th>o3</th>\n",
       "      <th>pm10</th>\n",
       "      <th>pm25</th>\n",
       "      <th>so2</th>\n",
       "      <th>humidity</th>\n",
       "      <th>pressure</th>\n",
       "      <th>temperature</th>\n",
       "      <th>wind-speed</th>\n",
       "    </tr>\n",
       "  </thead>\n",
       "  <tbody>\n",
       "    <tr>\n",
       "      <th>count</th>\n",
       "      <td>2399.000000</td>\n",
       "      <td>2399.000000</td>\n",
       "      <td>2399.000000</td>\n",
       "      <td>2398.000000</td>\n",
       "      <td>2398.000000</td>\n",
       "      <td>2399.000000</td>\n",
       "      <td>1698.000000</td>\n",
       "      <td>1698.000000</td>\n",
       "      <td>1698.000000</td>\n",
       "      <td>1629.000000</td>\n",
       "    </tr>\n",
       "    <tr>\n",
       "      <th>mean</th>\n",
       "      <td>9.325594</td>\n",
       "      <td>16.870946</td>\n",
       "      <td>9.480700</td>\n",
       "      <td>131.572143</td>\n",
       "      <td>164.397832</td>\n",
       "      <td>5.702751</td>\n",
       "      <td>60.708304</td>\n",
       "      <td>985.184923</td>\n",
       "      <td>26.338869</td>\n",
       "      <td>1.101964</td>\n",
       "    </tr>\n",
       "    <tr>\n",
       "      <th>std</th>\n",
       "      <td>3.715709</td>\n",
       "      <td>7.805715</td>\n",
       "      <td>4.829603</td>\n",
       "      <td>77.174642</td>\n",
       "      <td>64.829240</td>\n",
       "      <td>2.289821</td>\n",
       "      <td>17.138084</td>\n",
       "      <td>10.022854</td>\n",
       "      <td>6.631277</td>\n",
       "      <td>0.493156</td>\n",
       "    </tr>\n",
       "    <tr>\n",
       "      <th>min</th>\n",
       "      <td>0.100000</td>\n",
       "      <td>5.000000</td>\n",
       "      <td>2.400000</td>\n",
       "      <td>12.000000</td>\n",
       "      <td>30.000000</td>\n",
       "      <td>1.700000</td>\n",
       "      <td>13.000000</td>\n",
       "      <td>743.000000</td>\n",
       "      <td>6.200000</td>\n",
       "      <td>0.300000</td>\n",
       "    </tr>\n",
       "    <tr>\n",
       "      <th>25%</th>\n",
       "      <td>7.050000</td>\n",
       "      <td>10.600000</td>\n",
       "      <td>6.000000</td>\n",
       "      <td>82.000000</td>\n",
       "      <td>123.000000</td>\n",
       "      <td>4.000000</td>\n",
       "      <td>48.500000</td>\n",
       "      <td>979.800000</td>\n",
       "      <td>22.100000</td>\n",
       "      <td>0.800000</td>\n",
       "    </tr>\n",
       "    <tr>\n",
       "      <th>50%</th>\n",
       "      <td>8.400000</td>\n",
       "      <td>15.800000</td>\n",
       "      <td>8.200000</td>\n",
       "      <td>120.000000</td>\n",
       "      <td>160.000000</td>\n",
       "      <td>5.300000</td>\n",
       "      <td>63.000000</td>\n",
       "      <td>983.900000</td>\n",
       "      <td>28.600000</td>\n",
       "      <td>1.000000</td>\n",
       "    </tr>\n",
       "    <tr>\n",
       "      <th>75%</th>\n",
       "      <td>10.700000</td>\n",
       "      <td>21.500000</td>\n",
       "      <td>11.800000</td>\n",
       "      <td>160.000000</td>\n",
       "      <td>189.000000</td>\n",
       "      <td>7.100000</td>\n",
       "      <td>74.000000</td>\n",
       "      <td>990.400000</td>\n",
       "      <td>31.100000</td>\n",
       "      <td>1.300000</td>\n",
       "    </tr>\n",
       "    <tr>\n",
       "      <th>max</th>\n",
       "      <td>30.600000</td>\n",
       "      <td>66.500000</td>\n",
       "      <td>40.300000</td>\n",
       "      <td>999.000000</td>\n",
       "      <td>577.000000</td>\n",
       "      <td>19.800000</td>\n",
       "      <td>99.100000</td>\n",
       "      <td>1020.500000</td>\n",
       "      <td>38.000000</td>\n",
       "      <td>4.600000</td>\n",
       "    </tr>\n",
       "  </tbody>\n",
       "</table>\n",
       "</div>"
      ],
      "text/plain": [
       "                co          no2           o3         pm10         pm25  \\\n",
       "count  2399.000000  2399.000000  2399.000000  2398.000000  2398.000000   \n",
       "mean      9.325594    16.870946     9.480700   131.572143   164.397832   \n",
       "std       3.715709     7.805715     4.829603    77.174642    64.829240   \n",
       "min       0.100000     5.000000     2.400000    12.000000    30.000000   \n",
       "25%       7.050000    10.600000     6.000000    82.000000   123.000000   \n",
       "50%       8.400000    15.800000     8.200000   120.000000   160.000000   \n",
       "75%      10.700000    21.500000    11.800000   160.000000   189.000000   \n",
       "max      30.600000    66.500000    40.300000   999.000000   577.000000   \n",
       "\n",
       "               so2     humidity     pressure  temperature   wind-speed  \n",
       "count  2399.000000  1698.000000  1698.000000  1698.000000  1629.000000  \n",
       "mean      5.702751    60.708304   985.184923    26.338869     1.101964  \n",
       "std       2.289821    17.138084    10.022854     6.631277     0.493156  \n",
       "min       1.700000    13.000000   743.000000     6.200000     0.300000  \n",
       "25%       4.000000    48.500000   979.800000    22.100000     0.800000  \n",
       "50%       5.300000    63.000000   983.900000    28.600000     1.000000  \n",
       "75%       7.100000    74.000000   990.400000    31.100000     1.300000  \n",
       "max      19.800000    99.100000  1020.500000    38.000000     4.600000  "
      ]
     },
     "execution_count": 5,
     "metadata": {},
     "output_type": "execute_result"
    }
   ],
   "source": [
    "new_data.describe()"
   ]
  },
  {
   "cell_type": "code",
   "execution_count": 6,
   "id": "5c950469",
   "metadata": {
    "execution": {
     "iopub.execute_input": "2025-01-27T16:59:07.613259Z",
     "iopub.status.busy": "2025-01-27T16:59:07.612781Z",
     "iopub.status.idle": "2025-01-27T16:59:07.626911Z",
     "shell.execute_reply": "2025-01-27T16:59:07.625120Z"
    },
    "papermill": {
     "duration": 0.049422,
     "end_time": "2025-01-27T16:59:07.628976",
     "exception": false,
     "start_time": "2025-01-27T16:59:07.579554",
     "status": "completed"
    },
    "tags": []
   },
   "outputs": [
    {
     "name": "stdout",
     "output_type": "stream",
     "text": [
      "The number of values for feature Date :2397\n",
      "The number of values for feature co :200\n",
      "The number of values for feature no2 :328\n",
      "The number of values for feature o3 :226\n",
      "The number of values for feature pm10 :320\n",
      "The number of values for feature pm25 :309\n",
      "The number of values for feature so2 :116\n",
      "The number of values for feature humidity :602\n",
      "The number of values for feature pressure :300\n",
      "The number of values for feature temperature :264\n",
      "The number of values for feature wind-speed :33\n",
      "The number of values for feature Country_City :1 -- ['India_Delhi']\n"
     ]
    }
   ],
   "source": [
    "# Investigate all the elements whithin each Feature\n",
    "\n",
    "for column in new_data:\n",
    "    # Handle numerical and string columns differently\n",
    "    if new_data[column].dtype == 'object':  # Check if column is of object type\n",
    "        unique_vals = new_data[column].unique()  # pandas unique for strings\n",
    "    else:\n",
    "        unique_vals = np.unique(new_data[column])  # numpy unique for numerical types\n",
    "\n",
    "    nr_values = len(unique_vals)\n",
    "    if nr_values < 14:\n",
    "        print('The number of values for feature {} :{} -- {}'.format(column, nr_values,unique_vals))\n",
    "    else:\n",
    "        print('The number of values for feature {} :{}'.format(column, nr_values))"
   ]
  },
  {
   "cell_type": "code",
   "execution_count": 7,
   "id": "5e959dcf",
   "metadata": {
    "execution": {
     "iopub.execute_input": "2025-01-27T16:59:07.693011Z",
     "iopub.status.busy": "2025-01-27T16:59:07.692391Z",
     "iopub.status.idle": "2025-01-27T16:59:07.702474Z",
     "shell.execute_reply": "2025-01-27T16:59:07.701018Z"
    },
    "papermill": {
     "duration": 0.044629,
     "end_time": "2025-01-27T16:59:07.704479",
     "exception": false,
     "start_time": "2025-01-27T16:59:07.659850",
     "status": "completed"
    },
    "tags": []
   },
   "outputs": [
    {
     "data": {
      "text/plain": [
       "Date              0\n",
       "co                0\n",
       "no2               0\n",
       "o3                0\n",
       "pm10              1\n",
       "pm25              1\n",
       "so2               0\n",
       "humidity        701\n",
       "pressure        701\n",
       "temperature     701\n",
       "wind-speed      770\n",
       "Country_City      0\n",
       "dtype: int64"
      ]
     },
     "execution_count": 7,
     "metadata": {},
     "output_type": "execute_result"
    }
   ],
   "source": [
    "new_data.isna().sum()"
   ]
  },
  {
   "cell_type": "markdown",
   "id": "17973b9a",
   "metadata": {
    "papermill": {
     "duration": 0.09096,
     "end_time": "2025-01-27T16:59:07.828334",
     "exception": false,
     "start_time": "2025-01-27T16:59:07.737374",
     "status": "completed"
    },
    "tags": []
   },
   "source": [
    "# **1.2 - Function**"
   ]
  },
  {
   "cell_type": "code",
   "execution_count": 8,
   "id": "fae9ba84",
   "metadata": {
    "execution": {
     "iopub.execute_input": "2025-01-27T16:59:07.890408Z",
     "iopub.status.busy": "2025-01-27T16:59:07.889975Z",
     "iopub.status.idle": "2025-01-27T16:59:07.896007Z",
     "shell.execute_reply": "2025-01-27T16:59:07.894674Z"
    },
    "papermill": {
     "duration": 0.039586,
     "end_time": "2025-01-27T16:59:07.898032",
     "exception": false,
     "start_time": "2025-01-27T16:59:07.858446",
     "status": "completed"
    },
    "tags": []
   },
   "outputs": [
    {
     "name": "stdout",
     "output_type": "stream",
     "text": [
      "['__results__.html', '__notebook__.ipynb', 'function.py', '__output__.json', 'custom.css']\n"
     ]
    }
   ],
   "source": [
    "print(os.listdir('/kaggle/usr/lib/function'))"
   ]
  },
  {
   "cell_type": "code",
   "execution_count": 9,
   "id": "c9611b51",
   "metadata": {
    "execution": {
     "iopub.execute_input": "2025-01-27T16:59:07.960073Z",
     "iopub.status.busy": "2025-01-27T16:59:07.959678Z",
     "iopub.status.idle": "2025-01-27T16:59:07.973795Z",
     "shell.execute_reply": "2025-01-27T16:59:07.972629Z"
    },
    "papermill": {
     "duration": 0.047553,
     "end_time": "2025-01-27T16:59:07.975909",
     "exception": false,
     "start_time": "2025-01-27T16:59:07.928356",
     "status": "completed"
    },
    "tags": []
   },
   "outputs": [],
   "source": [
    "import sys\n",
    "sys.path.append(\"/kaggle/usr/lib/function\")  # Add directory to the path\n",
    "\n",
    "import function as fn"
   ]
  },
  {
   "cell_type": "code",
   "execution_count": 10,
   "id": "33c9e858",
   "metadata": {
    "execution": {
     "iopub.execute_input": "2025-01-27T16:59:08.038657Z",
     "iopub.status.busy": "2025-01-27T16:59:08.038306Z",
     "iopub.status.idle": "2025-01-27T16:59:08.068573Z",
     "shell.execute_reply": "2025-01-27T16:59:08.067373Z"
    },
    "papermill": {
     "duration": 0.063699,
     "end_time": "2025-01-27T16:59:08.070688",
     "exception": false,
     "start_time": "2025-01-27T16:59:08.006989",
     "status": "completed"
    },
    "tags": []
   },
   "outputs": [
    {
     "data": {
      "text/html": [
       "<div>\n",
       "<style scoped>\n",
       "    .dataframe tbody tr th:only-of-type {\n",
       "        vertical-align: middle;\n",
       "    }\n",
       "\n",
       "    .dataframe tbody tr th {\n",
       "        vertical-align: top;\n",
       "    }\n",
       "\n",
       "    .dataframe thead th {\n",
       "        text-align: right;\n",
       "    }\n",
       "</style>\n",
       "<table border=\"1\" class=\"dataframe\">\n",
       "  <thead>\n",
       "    <tr style=\"text-align: right;\">\n",
       "      <th></th>\n",
       "      <th>co</th>\n",
       "      <th>no2</th>\n",
       "      <th>o3</th>\n",
       "      <th>pm10</th>\n",
       "      <th>pm25</th>\n",
       "      <th>so2</th>\n",
       "      <th>humidity</th>\n",
       "      <th>pressure</th>\n",
       "      <th>temperature</th>\n",
       "      <th>wind-speed</th>\n",
       "      <th>Country_City</th>\n",
       "    </tr>\n",
       "    <tr>\n",
       "      <th>Date</th>\n",
       "      <th></th>\n",
       "      <th></th>\n",
       "      <th></th>\n",
       "      <th></th>\n",
       "      <th></th>\n",
       "      <th></th>\n",
       "      <th></th>\n",
       "      <th></th>\n",
       "      <th></th>\n",
       "      <th></th>\n",
       "      <th></th>\n",
       "    </tr>\n",
       "  </thead>\n",
       "  <tbody>\n",
       "    <tr>\n",
       "      <th>2014-12-29</th>\n",
       "      <td>14.1</td>\n",
       "      <td>36.2</td>\n",
       "      <td>3.2</td>\n",
       "      <td>218.0</td>\n",
       "      <td>307.0</td>\n",
       "      <td>4.2</td>\n",
       "      <td>NaN</td>\n",
       "      <td>NaN</td>\n",
       "      <td>NaN</td>\n",
       "      <td>NaN</td>\n",
       "      <td>India_Delhi</td>\n",
       "    </tr>\n",
       "    <tr>\n",
       "      <th>2014-12-30</th>\n",
       "      <td>20.4</td>\n",
       "      <td>36.8</td>\n",
       "      <td>4.8</td>\n",
       "      <td>330.0</td>\n",
       "      <td>367.0</td>\n",
       "      <td>5.8</td>\n",
       "      <td>NaN</td>\n",
       "      <td>NaN</td>\n",
       "      <td>NaN</td>\n",
       "      <td>NaN</td>\n",
       "      <td>India_Delhi</td>\n",
       "    </tr>\n",
       "    <tr>\n",
       "      <th>2014-12-31</th>\n",
       "      <td>12.7</td>\n",
       "      <td>28.7</td>\n",
       "      <td>7.8</td>\n",
       "      <td>137.0</td>\n",
       "      <td>202.0</td>\n",
       "      <td>6.3</td>\n",
       "      <td>NaN</td>\n",
       "      <td>NaN</td>\n",
       "      <td>NaN</td>\n",
       "      <td>NaN</td>\n",
       "      <td>India_Delhi</td>\n",
       "    </tr>\n",
       "    <tr>\n",
       "      <th>2015-01-01</th>\n",
       "      <td>20.8</td>\n",
       "      <td>66.5</td>\n",
       "      <td>5.2</td>\n",
       "      <td>230.0</td>\n",
       "      <td>382.0</td>\n",
       "      <td>9.9</td>\n",
       "      <td>NaN</td>\n",
       "      <td>NaN</td>\n",
       "      <td>NaN</td>\n",
       "      <td>NaN</td>\n",
       "      <td>India_Delhi</td>\n",
       "    </tr>\n",
       "    <tr>\n",
       "      <th>2015-01-02</th>\n",
       "      <td>12.7</td>\n",
       "      <td>33.9</td>\n",
       "      <td>6.0</td>\n",
       "      <td>81.0</td>\n",
       "      <td>172.0</td>\n",
       "      <td>4.2</td>\n",
       "      <td>NaN</td>\n",
       "      <td>NaN</td>\n",
       "      <td>NaN</td>\n",
       "      <td>NaN</td>\n",
       "      <td>India_Delhi</td>\n",
       "    </tr>\n",
       "  </tbody>\n",
       "</table>\n",
       "</div>"
      ],
      "text/plain": [
       "              co   no2   o3   pm10   pm25  so2  humidity  pressure  \\\n",
       "Date                                                                 \n",
       "2014-12-29  14.1  36.2  3.2  218.0  307.0  4.2       NaN       NaN   \n",
       "2014-12-30  20.4  36.8  4.8  330.0  367.0  5.8       NaN       NaN   \n",
       "2014-12-31  12.7  28.7  7.8  137.0  202.0  6.3       NaN       NaN   \n",
       "2015-01-01  20.8  66.5  5.2  230.0  382.0  9.9       NaN       NaN   \n",
       "2015-01-02  12.7  33.9  6.0   81.0  172.0  4.2       NaN       NaN   \n",
       "\n",
       "            temperature  wind-speed Country_City  \n",
       "Date                                              \n",
       "2014-12-29          NaN         NaN  India_Delhi  \n",
       "2014-12-30          NaN         NaN  India_Delhi  \n",
       "2014-12-31          NaN         NaN  India_Delhi  \n",
       "2015-01-01          NaN         NaN  India_Delhi  \n",
       "2015-01-02          NaN         NaN  India_Delhi  "
      ]
     },
     "execution_count": 10,
     "metadata": {},
     "output_type": "execute_result"
    }
   ],
   "source": [
    "# Use the functions\n",
    "new_data1 = fn.prepare_datetime_index(new_data, date_column='Date')\n",
    "new_data1.head()"
   ]
  },
  {
   "cell_type": "code",
   "execution_count": 11,
   "id": "285231c4",
   "metadata": {
    "execution": {
     "iopub.execute_input": "2025-01-27T16:59:08.137007Z",
     "iopub.status.busy": "2025-01-27T16:59:08.136491Z",
     "iopub.status.idle": "2025-01-27T16:59:08.156248Z",
     "shell.execute_reply": "2025-01-27T16:59:08.155001Z"
    },
    "papermill": {
     "duration": 0.056049,
     "end_time": "2025-01-27T16:59:08.158583",
     "exception": false,
     "start_time": "2025-01-27T16:59:08.102534",
     "status": "completed"
    },
    "tags": []
   },
   "outputs": [
    {
     "name": "stdout",
     "output_type": "stream",
     "text": [
      "co              0\n",
      "no2             0\n",
      "o3              0\n",
      "pm10            0\n",
      "pm25            0\n",
      "so2             0\n",
      "humidity        0\n",
      "pressure        0\n",
      "temperature     0\n",
      "wind-speed      0\n",
      "Country_City    0\n",
      "dtype: int64\n"
     ]
    }
   ],
   "source": [
    "# Use the functions\n",
    "new_data2 = fn.fill_pollutant_values(new_data1)\n",
    "print(new_data2.isna().sum())"
   ]
  },
  {
   "cell_type": "markdown",
   "id": "162df0f3",
   "metadata": {
    "papermill": {
     "duration": 0.033655,
     "end_time": "2025-01-27T16:59:08.233341",
     "exception": false,
     "start_time": "2025-01-27T16:59:08.199686",
     "status": "completed"
    },
    "tags": []
   },
   "source": [
    "**Check**"
   ]
  },
  {
   "cell_type": "code",
   "execution_count": 12,
   "id": "1b48b5cf",
   "metadata": {
    "execution": {
     "iopub.execute_input": "2025-01-27T16:59:08.298108Z",
     "iopub.status.busy": "2025-01-27T16:59:08.297653Z",
     "iopub.status.idle": "2025-01-27T16:59:08.315291Z",
     "shell.execute_reply": "2025-01-27T16:59:08.313591Z"
    },
    "papermill": {
     "duration": 0.052589,
     "end_time": "2025-01-27T16:59:08.317122",
     "exception": false,
     "start_time": "2025-01-27T16:59:08.264533",
     "status": "completed"
    },
    "tags": []
   },
   "outputs": [
    {
     "name": "stdout",
     "output_type": "stream",
     "text": [
      "Missing Dates:\n",
      "DatetimeIndex(['2015-07-06', '2015-07-07', '2015-07-08', '2015-07-09',\n",
      "               '2015-07-10', '2015-07-11', '2015-07-12', '2015-07-13',\n",
      "               '2015-07-14', '2015-07-15',\n",
      "               ...\n",
      "               '2022-03-18', '2022-03-19', '2022-03-20', '2022-03-21',\n",
      "               '2022-03-22', '2022-03-23', '2022-03-24', '2022-03-25',\n",
      "               '2022-03-26', '2022-03-27'],\n",
      "              dtype='datetime64[ns]', length=802, freq=None)\n"
     ]
    }
   ],
   "source": [
    "# Create a complete range of dates\n",
    "full_range = pd.date_range(start=new_data2.index.min(), end=new_data2.index.max())\n",
    "\n",
    "# Find missing dates\n",
    "missing_dates = full_range.difference(new_data2.index)\n",
    "print(\"Missing Dates:\")\n",
    "print(missing_dates)"
   ]
  },
  {
   "cell_type": "code",
   "execution_count": 13,
   "id": "2858de44",
   "metadata": {
    "execution": {
     "iopub.execute_input": "2025-01-27T16:59:08.417075Z",
     "iopub.status.busy": "2025-01-27T16:59:08.416601Z",
     "iopub.status.idle": "2025-01-27T16:59:08.429930Z",
     "shell.execute_reply": "2025-01-27T16:59:08.428311Z"
    },
    "papermill": {
     "duration": 0.059733,
     "end_time": "2025-01-27T16:59:08.432769",
     "exception": false,
     "start_time": "2025-01-27T16:59:08.373036",
     "status": "completed"
    },
    "tags": []
   },
   "outputs": [],
   "source": [
    "new_data3 = fn.impute_missing_dates(new_data2)"
   ]
  },
  {
   "cell_type": "code",
   "execution_count": 14,
   "id": "432b93e5",
   "metadata": {
    "execution": {
     "iopub.execute_input": "2025-01-27T16:59:08.511269Z",
     "iopub.status.busy": "2025-01-27T16:59:08.510791Z",
     "iopub.status.idle": "2025-01-27T16:59:08.520439Z",
     "shell.execute_reply": "2025-01-27T16:59:08.519169Z"
    },
    "papermill": {
     "duration": 0.049623,
     "end_time": "2025-01-27T16:59:08.522332",
     "exception": false,
     "start_time": "2025-01-27T16:59:08.472709",
     "status": "completed"
    },
    "tags": []
   },
   "outputs": [
    {
     "name": "stdout",
     "output_type": "stream",
     "text": [
      "Missing Dates:\n",
      "DatetimeIndex([], dtype='datetime64[ns]', freq='D')\n"
     ]
    }
   ],
   "source": [
    "# Create a complete range of dates\n",
    "full_range = pd.date_range(start=new_data3.index.min(), end=new_data3.index.max())\n",
    "\n",
    "# Find missing dates\n",
    "missing_dates = full_range.difference(new_data3.index)\n",
    "print(\"Missing Dates:\")\n",
    "print(missing_dates)"
   ]
  },
  {
   "cell_type": "code",
   "execution_count": 15,
   "id": "56561058",
   "metadata": {
    "execution": {
     "iopub.execute_input": "2025-01-27T16:59:08.585271Z",
     "iopub.status.busy": "2025-01-27T16:59:08.584788Z",
     "iopub.status.idle": "2025-01-27T16:59:08.591332Z",
     "shell.execute_reply": "2025-01-27T16:59:08.590153Z"
    },
    "papermill": {
     "duration": 0.039775,
     "end_time": "2025-01-27T16:59:08.592850",
     "exception": false,
     "start_time": "2025-01-27T16:59:08.553075",
     "status": "completed"
    },
    "tags": []
   },
   "outputs": [
    {
     "name": "stdout",
     "output_type": "stream",
     "text": [
      "Duplicate indexes: DatetimeIndex([], dtype='datetime64[ns]', freq='D')\n"
     ]
    }
   ],
   "source": [
    "duplicates = new_data3.index[new_data3.index.duplicated()]\n",
    "print(f\"Duplicate indexes: {duplicates}\")"
   ]
  },
  {
   "cell_type": "markdown",
   "id": "e0c3cce3",
   "metadata": {
    "papermill": {
     "duration": 0.030244,
     "end_time": "2025-01-27T16:59:08.653665",
     "exception": false,
     "start_time": "2025-01-27T16:59:08.623421",
     "status": "completed"
    },
    "tags": []
   },
   "source": [
    "# **1.3.Normal AQI count, After Normal AQI count Smoothing AQI(IQR, Z-score, Rolling), (Preprocess Pollution --> Smooth Pollution --> Calculate smooth aqi).**"
   ]
  },
  {
   "cell_type": "code",
   "execution_count": 16,
   "id": "38e961ba",
   "metadata": {
    "execution": {
     "iopub.execute_input": "2025-01-27T16:59:08.717485Z",
     "iopub.status.busy": "2025-01-27T16:59:08.717028Z",
     "iopub.status.idle": "2025-01-27T16:59:08.731317Z",
     "shell.execute_reply": "2025-01-27T16:59:08.730041Z"
    },
    "papermill": {
     "duration": 0.048633,
     "end_time": "2025-01-27T16:59:08.733487",
     "exception": false,
     "start_time": "2025-01-27T16:59:08.684854",
     "status": "completed"
    },
    "tags": []
   },
   "outputs": [],
   "source": [
    "new_data4 = fn.calculate_aqi(new_data3, subindex_columns=['co', 'no2', 'o3', 'pm10', 'pm25', 'so2'])"
   ]
  },
  {
   "cell_type": "code",
   "execution_count": 17,
   "id": "dcad34d5",
   "metadata": {
    "execution": {
     "iopub.execute_input": "2025-01-27T16:59:08.798148Z",
     "iopub.status.busy": "2025-01-27T16:59:08.797731Z",
     "iopub.status.idle": "2025-01-27T16:59:08.816425Z",
     "shell.execute_reply": "2025-01-27T16:59:08.815365Z"
    },
    "papermill": {
     "duration": 0.05351,
     "end_time": "2025-01-27T16:59:08.818044",
     "exception": false,
     "start_time": "2025-01-27T16:59:08.764534",
     "status": "completed"
    },
    "tags": []
   },
   "outputs": [
    {
     "data": {
      "text/html": [
       "<div>\n",
       "<style scoped>\n",
       "    .dataframe tbody tr th:only-of-type {\n",
       "        vertical-align: middle;\n",
       "    }\n",
       "\n",
       "    .dataframe tbody tr th {\n",
       "        vertical-align: top;\n",
       "    }\n",
       "\n",
       "    .dataframe thead th {\n",
       "        text-align: right;\n",
       "    }\n",
       "</style>\n",
       "<table border=\"1\" class=\"dataframe\">\n",
       "  <thead>\n",
       "    <tr style=\"text-align: right;\">\n",
       "      <th></th>\n",
       "      <th>co</th>\n",
       "      <th>no2</th>\n",
       "      <th>o3</th>\n",
       "      <th>pm10</th>\n",
       "      <th>pm25</th>\n",
       "      <th>so2</th>\n",
       "      <th>humidity</th>\n",
       "      <th>pressure</th>\n",
       "      <th>temperature</th>\n",
       "      <th>wind-speed</th>\n",
       "      <th>Country_City</th>\n",
       "      <th>Checks</th>\n",
       "      <th>AQI</th>\n",
       "    </tr>\n",
       "  </thead>\n",
       "  <tbody>\n",
       "    <tr>\n",
       "      <th>2014-12-29</th>\n",
       "      <td>14.1</td>\n",
       "      <td>36.2</td>\n",
       "      <td>3.2</td>\n",
       "      <td>218.0</td>\n",
       "      <td>307.0</td>\n",
       "      <td>4.2</td>\n",
       "      <td>60.691097</td>\n",
       "      <td>985.187382</td>\n",
       "      <td>26.3352</td>\n",
       "      <td>1.102459</td>\n",
       "      <td>India_Delhi</td>\n",
       "      <td>6</td>\n",
       "      <td>307.0</td>\n",
       "    </tr>\n",
       "    <tr>\n",
       "      <th>2014-12-30</th>\n",
       "      <td>20.4</td>\n",
       "      <td>36.8</td>\n",
       "      <td>4.8</td>\n",
       "      <td>330.0</td>\n",
       "      <td>367.0</td>\n",
       "      <td>5.8</td>\n",
       "      <td>60.691097</td>\n",
       "      <td>985.187382</td>\n",
       "      <td>26.3352</td>\n",
       "      <td>1.102459</td>\n",
       "      <td>India_Delhi</td>\n",
       "      <td>6</td>\n",
       "      <td>367.0</td>\n",
       "    </tr>\n",
       "    <tr>\n",
       "      <th>2014-12-31</th>\n",
       "      <td>12.7</td>\n",
       "      <td>28.7</td>\n",
       "      <td>7.8</td>\n",
       "      <td>137.0</td>\n",
       "      <td>202.0</td>\n",
       "      <td>6.3</td>\n",
       "      <td>60.691097</td>\n",
       "      <td>985.187382</td>\n",
       "      <td>26.3352</td>\n",
       "      <td>1.102459</td>\n",
       "      <td>India_Delhi</td>\n",
       "      <td>6</td>\n",
       "      <td>202.0</td>\n",
       "    </tr>\n",
       "    <tr>\n",
       "      <th>2015-01-01</th>\n",
       "      <td>20.8</td>\n",
       "      <td>66.5</td>\n",
       "      <td>5.2</td>\n",
       "      <td>230.0</td>\n",
       "      <td>382.0</td>\n",
       "      <td>9.9</td>\n",
       "      <td>60.691097</td>\n",
       "      <td>985.187382</td>\n",
       "      <td>26.3352</td>\n",
       "      <td>1.102459</td>\n",
       "      <td>India_Delhi</td>\n",
       "      <td>6</td>\n",
       "      <td>382.0</td>\n",
       "    </tr>\n",
       "    <tr>\n",
       "      <th>2015-01-02</th>\n",
       "      <td>12.7</td>\n",
       "      <td>33.9</td>\n",
       "      <td>6.0</td>\n",
       "      <td>81.0</td>\n",
       "      <td>172.0</td>\n",
       "      <td>4.2</td>\n",
       "      <td>60.691097</td>\n",
       "      <td>985.187382</td>\n",
       "      <td>26.3352</td>\n",
       "      <td>1.102459</td>\n",
       "      <td>India_Delhi</td>\n",
       "      <td>6</td>\n",
       "      <td>172.0</td>\n",
       "    </tr>\n",
       "  </tbody>\n",
       "</table>\n",
       "</div>"
      ],
      "text/plain": [
       "              co   no2   o3   pm10   pm25  so2   humidity    pressure  \\\n",
       "2014-12-29  14.1  36.2  3.2  218.0  307.0  4.2  60.691097  985.187382   \n",
       "2014-12-30  20.4  36.8  4.8  330.0  367.0  5.8  60.691097  985.187382   \n",
       "2014-12-31  12.7  28.7  7.8  137.0  202.0  6.3  60.691097  985.187382   \n",
       "2015-01-01  20.8  66.5  5.2  230.0  382.0  9.9  60.691097  985.187382   \n",
       "2015-01-02  12.7  33.9  6.0   81.0  172.0  4.2  60.691097  985.187382   \n",
       "\n",
       "            temperature  wind-speed Country_City  Checks    AQI  \n",
       "2014-12-29      26.3352    1.102459  India_Delhi       6  307.0  \n",
       "2014-12-30      26.3352    1.102459  India_Delhi       6  367.0  \n",
       "2014-12-31      26.3352    1.102459  India_Delhi       6  202.0  \n",
       "2015-01-01      26.3352    1.102459  India_Delhi       6  382.0  \n",
       "2015-01-02      26.3352    1.102459  India_Delhi       6  172.0  "
      ]
     },
     "execution_count": 17,
     "metadata": {},
     "output_type": "execute_result"
    }
   ],
   "source": [
    "new_data4.head()"
   ]
  },
  {
   "cell_type": "code",
   "execution_count": 18,
   "id": "7b08edbb",
   "metadata": {
    "execution": {
     "iopub.execute_input": "2025-01-27T16:59:08.882890Z",
     "iopub.status.busy": "2025-01-27T16:59:08.882521Z",
     "iopub.status.idle": "2025-01-27T16:59:08.888412Z",
     "shell.execute_reply": "2025-01-27T16:59:08.887393Z"
    },
    "papermill": {
     "duration": 0.040736,
     "end_time": "2025-01-27T16:59:08.890166",
     "exception": false,
     "start_time": "2025-01-27T16:59:08.849430",
     "status": "completed"
    },
    "tags": []
   },
   "outputs": [
    {
     "data": {
      "text/plain": [
       "(3199, 13)"
      ]
     },
     "execution_count": 18,
     "metadata": {},
     "output_type": "execute_result"
    }
   ],
   "source": [
    "new_data4.shape"
   ]
  },
  {
   "cell_type": "markdown",
   "id": "3269a212",
   "metadata": {
    "papermill": {
     "duration": 0.030463,
     "end_time": "2025-01-27T16:59:08.951724",
     "exception": false,
     "start_time": "2025-01-27T16:59:08.921261",
     "status": "completed"
    },
    "tags": []
   },
   "source": [
    " After Normal AQI count Smoothing AQI(IQR, Z-score, Rolling)"
   ]
  },
  {
   "cell_type": "code",
   "execution_count": 19,
   "id": "d5c90b42",
   "metadata": {
    "execution": {
     "iopub.execute_input": "2025-01-27T16:59:09.015811Z",
     "iopub.status.busy": "2025-01-27T16:59:09.015398Z",
     "iopub.status.idle": "2025-01-27T16:59:09.034862Z",
     "shell.execute_reply": "2025-01-27T16:59:09.033836Z"
    },
    "papermill": {
     "duration": 0.053151,
     "end_time": "2025-01-27T16:59:09.036861",
     "exception": false,
     "start_time": "2025-01-27T16:59:08.983710",
     "status": "completed"
    },
    "tags": []
   },
   "outputs": [],
   "source": [
    "# Apply the outlier handling function to the 'AQI' column only\n",
    "new_data4['AQI_smoothed_iqr'] = fn.handle_aqi_outliers(new_data4['AQI'], method='iqr')\n",
    "new_data4['AQI_smoothed_zscore'] = fn.handle_aqi_outliers(new_data4['AQI'], method='zscore')\n",
    "new_data4['AQI_smoothed_rolling'] = fn.handle_aqi_outliers(new_data4['AQI'], method='rolling')"
   ]
  },
  {
   "cell_type": "code",
   "execution_count": 20,
   "id": "37a2c519",
   "metadata": {
    "execution": {
     "iopub.execute_input": "2025-01-27T16:59:09.104559Z",
     "iopub.status.busy": "2025-01-27T16:59:09.104227Z",
     "iopub.status.idle": "2025-01-27T16:59:09.124081Z",
     "shell.execute_reply": "2025-01-27T16:59:09.122886Z"
    },
    "papermill": {
     "duration": 0.054519,
     "end_time": "2025-01-27T16:59:09.125813",
     "exception": false,
     "start_time": "2025-01-27T16:59:09.071294",
     "status": "completed"
    },
    "tags": []
   },
   "outputs": [
    {
     "data": {
      "text/html": [
       "<div>\n",
       "<style scoped>\n",
       "    .dataframe tbody tr th:only-of-type {\n",
       "        vertical-align: middle;\n",
       "    }\n",
       "\n",
       "    .dataframe tbody tr th {\n",
       "        vertical-align: top;\n",
       "    }\n",
       "\n",
       "    .dataframe thead th {\n",
       "        text-align: right;\n",
       "    }\n",
       "</style>\n",
       "<table border=\"1\" class=\"dataframe\">\n",
       "  <thead>\n",
       "    <tr style=\"text-align: right;\">\n",
       "      <th></th>\n",
       "      <th>co</th>\n",
       "      <th>no2</th>\n",
       "      <th>o3</th>\n",
       "      <th>pm10</th>\n",
       "      <th>pm25</th>\n",
       "      <th>so2</th>\n",
       "      <th>humidity</th>\n",
       "      <th>pressure</th>\n",
       "      <th>temperature</th>\n",
       "      <th>wind-speed</th>\n",
       "      <th>Country_City</th>\n",
       "      <th>Checks</th>\n",
       "      <th>AQI</th>\n",
       "      <th>AQI_smoothed_iqr</th>\n",
       "      <th>AQI_smoothed_zscore</th>\n",
       "      <th>AQI_smoothed_rolling</th>\n",
       "    </tr>\n",
       "  </thead>\n",
       "  <tbody>\n",
       "    <tr>\n",
       "      <th>2014-12-29</th>\n",
       "      <td>14.1</td>\n",
       "      <td>36.2</td>\n",
       "      <td>3.2</td>\n",
       "      <td>218.0</td>\n",
       "      <td>307.0</td>\n",
       "      <td>4.2</td>\n",
       "      <td>60.691097</td>\n",
       "      <td>985.187382</td>\n",
       "      <td>26.3352</td>\n",
       "      <td>1.102459</td>\n",
       "      <td>India_Delhi</td>\n",
       "      <td>6</td>\n",
       "      <td>307.0</td>\n",
       "      <td>307.0</td>\n",
       "      <td>307.0</td>\n",
       "      <td>307.0</td>\n",
       "    </tr>\n",
       "    <tr>\n",
       "      <th>2014-12-30</th>\n",
       "      <td>20.4</td>\n",
       "      <td>36.8</td>\n",
       "      <td>4.8</td>\n",
       "      <td>330.0</td>\n",
       "      <td>367.0</td>\n",
       "      <td>5.8</td>\n",
       "      <td>60.691097</td>\n",
       "      <td>985.187382</td>\n",
       "      <td>26.3352</td>\n",
       "      <td>1.102459</td>\n",
       "      <td>India_Delhi</td>\n",
       "      <td>6</td>\n",
       "      <td>367.0</td>\n",
       "      <td>367.0</td>\n",
       "      <td>367.0</td>\n",
       "      <td>367.0</td>\n",
       "    </tr>\n",
       "    <tr>\n",
       "      <th>2014-12-31</th>\n",
       "      <td>12.7</td>\n",
       "      <td>28.7</td>\n",
       "      <td>7.8</td>\n",
       "      <td>137.0</td>\n",
       "      <td>202.0</td>\n",
       "      <td>6.3</td>\n",
       "      <td>60.691097</td>\n",
       "      <td>985.187382</td>\n",
       "      <td>26.3352</td>\n",
       "      <td>1.102459</td>\n",
       "      <td>India_Delhi</td>\n",
       "      <td>6</td>\n",
       "      <td>202.0</td>\n",
       "      <td>202.0</td>\n",
       "      <td>202.0</td>\n",
       "      <td>202.0</td>\n",
       "    </tr>\n",
       "    <tr>\n",
       "      <th>2015-01-01</th>\n",
       "      <td>20.8</td>\n",
       "      <td>66.5</td>\n",
       "      <td>5.2</td>\n",
       "      <td>230.0</td>\n",
       "      <td>382.0</td>\n",
       "      <td>9.9</td>\n",
       "      <td>60.691097</td>\n",
       "      <td>985.187382</td>\n",
       "      <td>26.3352</td>\n",
       "      <td>1.102459</td>\n",
       "      <td>India_Delhi</td>\n",
       "      <td>6</td>\n",
       "      <td>382.0</td>\n",
       "      <td>382.0</td>\n",
       "      <td>158.0</td>\n",
       "      <td>382.0</td>\n",
       "    </tr>\n",
       "    <tr>\n",
       "      <th>2015-01-02</th>\n",
       "      <td>12.7</td>\n",
       "      <td>33.9</td>\n",
       "      <td>6.0</td>\n",
       "      <td>81.0</td>\n",
       "      <td>172.0</td>\n",
       "      <td>4.2</td>\n",
       "      <td>60.691097</td>\n",
       "      <td>985.187382</td>\n",
       "      <td>26.3352</td>\n",
       "      <td>1.102459</td>\n",
       "      <td>India_Delhi</td>\n",
       "      <td>6</td>\n",
       "      <td>172.0</td>\n",
       "      <td>172.0</td>\n",
       "      <td>172.0</td>\n",
       "      <td>172.0</td>\n",
       "    </tr>\n",
       "  </tbody>\n",
       "</table>\n",
       "</div>"
      ],
      "text/plain": [
       "              co   no2   o3   pm10   pm25  so2   humidity    pressure  \\\n",
       "2014-12-29  14.1  36.2  3.2  218.0  307.0  4.2  60.691097  985.187382   \n",
       "2014-12-30  20.4  36.8  4.8  330.0  367.0  5.8  60.691097  985.187382   \n",
       "2014-12-31  12.7  28.7  7.8  137.0  202.0  6.3  60.691097  985.187382   \n",
       "2015-01-01  20.8  66.5  5.2  230.0  382.0  9.9  60.691097  985.187382   \n",
       "2015-01-02  12.7  33.9  6.0   81.0  172.0  4.2  60.691097  985.187382   \n",
       "\n",
       "            temperature  wind-speed Country_City  Checks    AQI  \\\n",
       "2014-12-29      26.3352    1.102459  India_Delhi       6  307.0   \n",
       "2014-12-30      26.3352    1.102459  India_Delhi       6  367.0   \n",
       "2014-12-31      26.3352    1.102459  India_Delhi       6  202.0   \n",
       "2015-01-01      26.3352    1.102459  India_Delhi       6  382.0   \n",
       "2015-01-02      26.3352    1.102459  India_Delhi       6  172.0   \n",
       "\n",
       "            AQI_smoothed_iqr  AQI_smoothed_zscore  AQI_smoothed_rolling  \n",
       "2014-12-29             307.0                307.0                 307.0  \n",
       "2014-12-30             367.0                367.0                 367.0  \n",
       "2014-12-31             202.0                202.0                 202.0  \n",
       "2015-01-01             382.0                158.0                 382.0  \n",
       "2015-01-02             172.0                172.0                 172.0  "
      ]
     },
     "execution_count": 20,
     "metadata": {},
     "output_type": "execute_result"
    }
   ],
   "source": [
    "new_data4.head()"
   ]
  },
  {
   "cell_type": "code",
   "execution_count": 21,
   "id": "3e854b52",
   "metadata": {
    "execution": {
     "iopub.execute_input": "2025-01-27T16:59:09.192624Z",
     "iopub.status.busy": "2025-01-27T16:59:09.192243Z",
     "iopub.status.idle": "2025-01-27T16:59:12.703910Z",
     "shell.execute_reply": "2025-01-27T16:59:12.702767Z"
    },
    "papermill": {
     "duration": 3.549752,
     "end_time": "2025-01-27T16:59:12.707505",
     "exception": false,
     "start_time": "2025-01-27T16:59:09.157753",
     "status": "completed"
    },
    "tags": []
   },
   "outputs": [
    {
     "data": {
      "image/png": "[encoded data removed]",
      "text/plain": [
       "<Figure size 1500x1000 with 4 Axes>"
      ]
     },
     "metadata": {},
     "output_type": "display_data"
    }
   ],
   "source": [
    "# Create subplots\n",
    "fig, axes = plt.subplots(2, 2, figsize=(15, 10))\n",
    "\n",
    "# Plot original AQI\n",
    "new_data4['AQI'].plot(\n",
    "    ax=axes[0, 0], \n",
    "    title='Original AQI', \n",
    "    color='blue', \n",
    "    label='Original AQI'\n",
    ")\n",
    "axes[0, 0].legend()\n",
    "\n",
    "# Plot IQR Method smoothed AQI\n",
    "new_data4['AQI_smoothed_iqr'].plot(\n",
    "    ax=axes[0, 1], \n",
    "    title='IQR Method', \n",
    "    color='green', \n",
    "    label='IQR Smoothed'\n",
    ")\n",
    "axes[0, 1].legend()\n",
    "\n",
    "# Plot Z-Score Method smoothed AQI\n",
    "new_data4['AQI_smoothed_zscore'].plot(\n",
    "    ax=axes[1, 0], \n",
    "    title='Z-Score Method', \n",
    "    color='red', \n",
    "    label='Z-Score Smoothed'\n",
    ")\n",
    "axes[1, 0].legend()\n",
    "\n",
    "# Plot Rolling Method smoothed AQI\n",
    "new_data4['AQI_smoothed_rolling'].plot(\n",
    "    ax=axes[1, 1], \n",
    "    title='Rolling Method', \n",
    "    color='purple', \n",
    "    label='Rolling Smoothed'\n",
    ")\n",
    "axes[1, 1].legend()\n",
    "\n",
    "# Adjust layout\n",
    "plt.tight_layout()\n",
    "\n",
    "# Save the figure\n",
    "file_name = \"aqi_comparison.png\"\n",
    "path = \"/kaggle/working/\"\n",
    "plt.savefig(path + file_name)\n",
    "\n",
    "# Show the plot\n",
    "plt.show()\n"
   ]
  },
  {
   "cell_type": "markdown",
   "id": "2fb87f5c",
   "metadata": {
    "papermill": {
     "duration": 0.034796,
     "end_time": "2025-01-27T16:59:12.780461",
     "exception": false,
     "start_time": "2025-01-27T16:59:12.745665",
     "status": "completed"
    },
    "tags": []
   },
   "source": [
    "(Preprocess Pollution --> Smooth Pollution --> Calculate smooth aqi)"
   ]
  },
  {
   "cell_type": "code",
   "execution_count": 22,
   "id": "433c46d1",
   "metadata": {
    "execution": {
     "iopub.execute_input": "2025-01-27T16:59:12.853634Z",
     "iopub.status.busy": "2025-01-27T16:59:12.853233Z",
     "iopub.status.idle": "2025-01-27T16:59:12.890535Z",
     "shell.execute_reply": "2025-01-27T16:59:12.889659Z"
    },
    "papermill": {
     "duration": 0.07613,
     "end_time": "2025-01-27T16:59:12.892333",
     "exception": false,
     "start_time": "2025-01-27T16:59:12.816203",
     "status": "completed"
    },
    "tags": []
   },
   "outputs": [
    {
     "data": {
      "text/html": [
       "<div>\n",
       "<style scoped>\n",
       "    .dataframe tbody tr th:only-of-type {\n",
       "        vertical-align: middle;\n",
       "    }\n",
       "\n",
       "    .dataframe tbody tr th {\n",
       "        vertical-align: top;\n",
       "    }\n",
       "\n",
       "    .dataframe thead th {\n",
       "        text-align: right;\n",
       "    }\n",
       "</style>\n",
       "<table border=\"1\" class=\"dataframe\">\n",
       "  <thead>\n",
       "    <tr style=\"text-align: right;\">\n",
       "      <th></th>\n",
       "      <th>co</th>\n",
       "      <th>no2</th>\n",
       "      <th>o3</th>\n",
       "      <th>pm10</th>\n",
       "      <th>pm25</th>\n",
       "      <th>so2</th>\n",
       "      <th>humidity</th>\n",
       "      <th>pressure</th>\n",
       "      <th>temperature</th>\n",
       "      <th>wind-speed</th>\n",
       "      <th>Country_City</th>\n",
       "      <th>AQI_Smooth</th>\n",
       "    </tr>\n",
       "  </thead>\n",
       "  <tbody>\n",
       "    <tr>\n",
       "      <th>2014-12-29</th>\n",
       "      <td>11.50</td>\n",
       "      <td>29.400000</td>\n",
       "      <td>5.366667</td>\n",
       "      <td>182.333333</td>\n",
       "      <td>195.666667</td>\n",
       "      <td>6.000000</td>\n",
       "      <td>60.691097</td>\n",
       "      <td>985.187382</td>\n",
       "      <td>26.3352</td>\n",
       "      <td>1.102459</td>\n",
       "      <td>India_Delhi</td>\n",
       "      <td>195.666667</td>\n",
       "    </tr>\n",
       "    <tr>\n",
       "      <th>2014-12-30</th>\n",
       "      <td>11.50</td>\n",
       "      <td>29.400000</td>\n",
       "      <td>5.366667</td>\n",
       "      <td>182.333333</td>\n",
       "      <td>195.666667</td>\n",
       "      <td>6.000000</td>\n",
       "      <td>60.691097</td>\n",
       "      <td>985.187382</td>\n",
       "      <td>26.3352</td>\n",
       "      <td>1.102459</td>\n",
       "      <td>India_Delhi</td>\n",
       "      <td>195.666667</td>\n",
       "    </tr>\n",
       "    <tr>\n",
       "      <th>2014-12-31</th>\n",
       "      <td>11.50</td>\n",
       "      <td>29.400000</td>\n",
       "      <td>5.366667</td>\n",
       "      <td>182.333333</td>\n",
       "      <td>195.666667</td>\n",
       "      <td>6.000000</td>\n",
       "      <td>60.691097</td>\n",
       "      <td>985.187382</td>\n",
       "      <td>26.3352</td>\n",
       "      <td>1.102459</td>\n",
       "      <td>India_Delhi</td>\n",
       "      <td>195.666667</td>\n",
       "    </tr>\n",
       "    <tr>\n",
       "      <th>2015-01-01</th>\n",
       "      <td>11.50</td>\n",
       "      <td>29.400000</td>\n",
       "      <td>5.366667</td>\n",
       "      <td>182.333333</td>\n",
       "      <td>195.666667</td>\n",
       "      <td>6.000000</td>\n",
       "      <td>60.691097</td>\n",
       "      <td>985.187382</td>\n",
       "      <td>26.3352</td>\n",
       "      <td>1.102459</td>\n",
       "      <td>India_Delhi</td>\n",
       "      <td>195.666667</td>\n",
       "    </tr>\n",
       "    <tr>\n",
       "      <th>2015-01-02</th>\n",
       "      <td>11.25</td>\n",
       "      <td>26.616667</td>\n",
       "      <td>5.816667</td>\n",
       "      <td>166.000000</td>\n",
       "      <td>177.000000</td>\n",
       "      <td>5.733333</td>\n",
       "      <td>60.691097</td>\n",
       "      <td>985.187382</td>\n",
       "      <td>26.3352</td>\n",
       "      <td>1.102459</td>\n",
       "      <td>India_Delhi</td>\n",
       "      <td>177.000000</td>\n",
       "    </tr>\n",
       "  </tbody>\n",
       "</table>\n",
       "</div>"
      ],
      "text/plain": [
       "               co        no2        o3        pm10        pm25       so2  \\\n",
       "2014-12-29  11.50  29.400000  5.366667  182.333333  195.666667  6.000000   \n",
       "2014-12-30  11.50  29.400000  5.366667  182.333333  195.666667  6.000000   \n",
       "2014-12-31  11.50  29.400000  5.366667  182.333333  195.666667  6.000000   \n",
       "2015-01-01  11.50  29.400000  5.366667  182.333333  195.666667  6.000000   \n",
       "2015-01-02  11.25  26.616667  5.816667  166.000000  177.000000  5.733333   \n",
       "\n",
       "             humidity    pressure  temperature  wind-speed Country_City  \\\n",
       "2014-12-29  60.691097  985.187382      26.3352    1.102459  India_Delhi   \n",
       "2014-12-30  60.691097  985.187382      26.3352    1.102459  India_Delhi   \n",
       "2014-12-31  60.691097  985.187382      26.3352    1.102459  India_Delhi   \n",
       "2015-01-01  60.691097  985.187382      26.3352    1.102459  India_Delhi   \n",
       "2015-01-02  60.691097  985.187382      26.3352    1.102459  India_Delhi   \n",
       "\n",
       "            AQI_Smooth  \n",
       "2014-12-29  195.666667  \n",
       "2014-12-30  195.666667  \n",
       "2014-12-31  195.666667  \n",
       "2015-01-01  195.666667  \n",
       "2015-01-02  177.000000  "
      ]
     },
     "execution_count": 22,
     "metadata": {},
     "output_type": "execute_result"
    }
   ],
   "source": [
    "new_smooth = fn.calculate_smooth_aqi(new_data3, columns=['co', 'no2', 'o3', 'pm10', 'pm25', 'so2'])\n",
    "new_smooth.head()"
   ]
  },
  {
   "cell_type": "code",
   "execution_count": 23,
   "id": "feaac0ef",
   "metadata": {
    "execution": {
     "iopub.execute_input": "2025-01-27T16:59:12.965123Z",
     "iopub.status.busy": "2025-01-27T16:59:12.964732Z",
     "iopub.status.idle": "2025-01-27T16:59:13.314422Z",
     "shell.execute_reply": "2025-01-27T16:59:13.313208Z"
    },
    "papermill": {
     "duration": 0.388418,
     "end_time": "2025-01-27T16:59:13.316257",
     "exception": false,
     "start_time": "2025-01-27T16:59:12.927839",
     "status": "completed"
    },
    "tags": []
   },
   "outputs": [
    {
     "data": {
      "image/png": "[encoded data removed]",
      "text/plain": [
       "<Figure size 640x480 with 1 Axes>"
      ]
     },
     "metadata": {},
     "output_type": "display_data"
    }
   ],
   "source": [
    "aqi_smooth = new_smooth['AQI_Smooth']\n",
    "file_name = \"aqi_smooth.png\"\n",
    "path = \"/kaggle/working/\"\n",
    "\n",
    "# Create the plot\n",
    "plt.plot(aqi_smooth)\n",
    "plt.savefig(path + file_name)"
   ]
  },
  {
   "cell_type": "markdown",
   "id": "ee0e734d",
   "metadata": {
    "papermill": {
     "duration": 0.035575,
     "end_time": "2025-01-27T16:59:13.388657",
     "exception": false,
     "start_time": "2025-01-27T16:59:13.353082",
     "status": "completed"
    },
    "tags": []
   },
   "source": [
    "# **2.1. Splitting & Preprocessing the Raw Data(Normal AQI)**"
   ]
  },
  {
   "cell_type": "markdown",
   "id": "27d1a25a",
   "metadata": {
    "papermill": {
     "duration": 0.035738,
     "end_time": "2025-01-27T16:59:13.460749",
     "exception": false,
     "start_time": "2025-01-27T16:59:13.425011",
     "status": "completed"
    },
    "tags": []
   },
   "source": [
    "Normal AQI"
   ]
  },
  {
   "cell_type": "code",
   "execution_count": 24,
   "id": "01e36fb4",
   "metadata": {
    "execution": {
     "iopub.execute_input": "2025-01-27T16:59:13.537859Z",
     "iopub.status.busy": "2025-01-27T16:59:13.537516Z",
     "iopub.status.idle": "2025-01-27T16:59:13.558014Z",
     "shell.execute_reply": "2025-01-27T16:59:13.556954Z"
    },
    "papermill": {
     "duration": 0.062443,
     "end_time": "2025-01-27T16:59:13.559597",
     "exception": false,
     "start_time": "2025-01-27T16:59:13.497154",
     "status": "completed"
    },
    "tags": []
   },
   "outputs": [
    {
     "data": {
      "text/html": [
       "<div>\n",
       "<style scoped>\n",
       "    .dataframe tbody tr th:only-of-type {\n",
       "        vertical-align: middle;\n",
       "    }\n",
       "\n",
       "    .dataframe tbody tr th {\n",
       "        vertical-align: top;\n",
       "    }\n",
       "\n",
       "    .dataframe thead th {\n",
       "        text-align: right;\n",
       "    }\n",
       "</style>\n",
       "<table border=\"1\" class=\"dataframe\">\n",
       "  <thead>\n",
       "    <tr style=\"text-align: right;\">\n",
       "      <th></th>\n",
       "      <th>co</th>\n",
       "      <th>no2</th>\n",
       "      <th>o3</th>\n",
       "      <th>pm10</th>\n",
       "      <th>pm25</th>\n",
       "      <th>so2</th>\n",
       "      <th>humidity</th>\n",
       "      <th>pressure</th>\n",
       "      <th>temperature</th>\n",
       "      <th>wind-speed</th>\n",
       "      <th>Country_City</th>\n",
       "      <th>Checks</th>\n",
       "      <th>AQI</th>\n",
       "      <th>AQI_smoothed_iqr</th>\n",
       "      <th>AQI_smoothed_zscore</th>\n",
       "      <th>AQI_smoothed_rolling</th>\n",
       "    </tr>\n",
       "  </thead>\n",
       "  <tbody>\n",
       "    <tr>\n",
       "      <th>2014-12-29</th>\n",
       "      <td>14.1</td>\n",
       "      <td>36.2</td>\n",
       "      <td>3.2</td>\n",
       "      <td>218.0</td>\n",
       "      <td>307.0</td>\n",
       "      <td>4.2</td>\n",
       "      <td>60.691097</td>\n",
       "      <td>985.187382</td>\n",
       "      <td>26.3352</td>\n",
       "      <td>1.102459</td>\n",
       "      <td>India_Delhi</td>\n",
       "      <td>6</td>\n",
       "      <td>307.0</td>\n",
       "      <td>307.0</td>\n",
       "      <td>307.0</td>\n",
       "      <td>307.0</td>\n",
       "    </tr>\n",
       "    <tr>\n",
       "      <th>2014-12-30</th>\n",
       "      <td>20.4</td>\n",
       "      <td>36.8</td>\n",
       "      <td>4.8</td>\n",
       "      <td>330.0</td>\n",
       "      <td>367.0</td>\n",
       "      <td>5.8</td>\n",
       "      <td>60.691097</td>\n",
       "      <td>985.187382</td>\n",
       "      <td>26.3352</td>\n",
       "      <td>1.102459</td>\n",
       "      <td>India_Delhi</td>\n",
       "      <td>6</td>\n",
       "      <td>367.0</td>\n",
       "      <td>367.0</td>\n",
       "      <td>367.0</td>\n",
       "      <td>367.0</td>\n",
       "    </tr>\n",
       "    <tr>\n",
       "      <th>2014-12-31</th>\n",
       "      <td>12.7</td>\n",
       "      <td>28.7</td>\n",
       "      <td>7.8</td>\n",
       "      <td>137.0</td>\n",
       "      <td>202.0</td>\n",
       "      <td>6.3</td>\n",
       "      <td>60.691097</td>\n",
       "      <td>985.187382</td>\n",
       "      <td>26.3352</td>\n",
       "      <td>1.102459</td>\n",
       "      <td>India_Delhi</td>\n",
       "      <td>6</td>\n",
       "      <td>202.0</td>\n",
       "      <td>202.0</td>\n",
       "      <td>202.0</td>\n",
       "      <td>202.0</td>\n",
       "    </tr>\n",
       "    <tr>\n",
       "      <th>2015-01-01</th>\n",
       "      <td>20.8</td>\n",
       "      <td>66.5</td>\n",
       "      <td>5.2</td>\n",
       "      <td>230.0</td>\n",
       "      <td>382.0</td>\n",
       "      <td>9.9</td>\n",
       "      <td>60.691097</td>\n",
       "      <td>985.187382</td>\n",
       "      <td>26.3352</td>\n",
       "      <td>1.102459</td>\n",
       "      <td>India_Delhi</td>\n",
       "      <td>6</td>\n",
       "      <td>382.0</td>\n",
       "      <td>382.0</td>\n",
       "      <td>158.0</td>\n",
       "      <td>382.0</td>\n",
       "    </tr>\n",
       "    <tr>\n",
       "      <th>2015-01-02</th>\n",
       "      <td>12.7</td>\n",
       "      <td>33.9</td>\n",
       "      <td>6.0</td>\n",
       "      <td>81.0</td>\n",
       "      <td>172.0</td>\n",
       "      <td>4.2</td>\n",
       "      <td>60.691097</td>\n",
       "      <td>985.187382</td>\n",
       "      <td>26.3352</td>\n",
       "      <td>1.102459</td>\n",
       "      <td>India_Delhi</td>\n",
       "      <td>6</td>\n",
       "      <td>172.0</td>\n",
       "      <td>172.0</td>\n",
       "      <td>172.0</td>\n",
       "      <td>172.0</td>\n",
       "    </tr>\n",
       "  </tbody>\n",
       "</table>\n",
       "</div>"
      ],
      "text/plain": [
       "              co   no2   o3   pm10   pm25  so2   humidity    pressure  \\\n",
       "2014-12-29  14.1  36.2  3.2  218.0  307.0  4.2  60.691097  985.187382   \n",
       "2014-12-30  20.4  36.8  4.8  330.0  367.0  5.8  60.691097  985.187382   \n",
       "2014-12-31  12.7  28.7  7.8  137.0  202.0  6.3  60.691097  985.187382   \n",
       "2015-01-01  20.8  66.5  5.2  230.0  382.0  9.9  60.691097  985.187382   \n",
       "2015-01-02  12.7  33.9  6.0   81.0  172.0  4.2  60.691097  985.187382   \n",
       "\n",
       "            temperature  wind-speed Country_City  Checks    AQI  \\\n",
       "2014-12-29      26.3352    1.102459  India_Delhi       6  307.0   \n",
       "2014-12-30      26.3352    1.102459  India_Delhi       6  367.0   \n",
       "2014-12-31      26.3352    1.102459  India_Delhi       6  202.0   \n",
       "2015-01-01      26.3352    1.102459  India_Delhi       6  382.0   \n",
       "2015-01-02      26.3352    1.102459  India_Delhi       6  172.0   \n",
       "\n",
       "            AQI_smoothed_iqr  AQI_smoothed_zscore  AQI_smoothed_rolling  \n",
       "2014-12-29             307.0                307.0                 307.0  \n",
       "2014-12-30             367.0                367.0                 367.0  \n",
       "2014-12-31             202.0                202.0                 202.0  \n",
       "2015-01-01             382.0                158.0                 382.0  \n",
       "2015-01-02             172.0                172.0                 172.0  "
      ]
     },
     "execution_count": 24,
     "metadata": {},
     "output_type": "execute_result"
    }
   ],
   "source": [
    "new_data4.head()"
   ]
  },
  {
   "cell_type": "code",
   "execution_count": 25,
   "id": "4a8c1c33",
   "metadata": {
    "execution": {
     "iopub.execute_input": "2025-01-27T16:59:13.633980Z",
     "iopub.status.busy": "2025-01-27T16:59:13.633660Z",
     "iopub.status.idle": "2025-01-27T16:59:13.639540Z",
     "shell.execute_reply": "2025-01-27T16:59:13.638631Z"
    },
    "papermill": {
     "duration": 0.044804,
     "end_time": "2025-01-27T16:59:13.641079",
     "exception": false,
     "start_time": "2025-01-27T16:59:13.596275",
     "status": "completed"
    },
    "tags": []
   },
   "outputs": [
    {
     "data": {
      "text/plain": [
       "Index(['co', 'no2', 'o3', 'pm10', 'pm25', 'so2', 'humidity', 'pressure',\n",
       "       'temperature', 'wind-speed', 'Country_City', 'Checks', 'AQI',\n",
       "       'AQI_smoothed_iqr', 'AQI_smoothed_zscore', 'AQI_smoothed_rolling'],\n",
       "      dtype='object')"
      ]
     },
     "execution_count": 25,
     "metadata": {},
     "output_type": "execute_result"
    }
   ],
   "source": [
    "new_data4.columns"
   ]
  },
  {
   "cell_type": "markdown",
   "id": "9ee9f075",
   "metadata": {
    "papermill": {
     "duration": 0.036737,
     "end_time": "2025-01-27T16:59:13.718706",
     "exception": false,
     "start_time": "2025-01-27T16:59:13.681969",
     "status": "completed"
    },
    "tags": []
   },
   "source": [
    "***Working with Normal AQI***"
   ]
  },
  {
   "cell_type": "code",
   "execution_count": 26,
   "id": "9dc79f7e",
   "metadata": {
    "execution": {
     "iopub.execute_input": "2025-01-27T16:59:13.794930Z",
     "iopub.status.busy": "2025-01-27T16:59:13.794540Z",
     "iopub.status.idle": "2025-01-27T16:59:13.800144Z",
     "shell.execute_reply": "2025-01-27T16:59:13.799225Z"
    },
    "papermill": {
     "duration": 0.0463,
     "end_time": "2025-01-27T16:59:13.801837",
     "exception": false,
     "start_time": "2025-01-27T16:59:13.755537",
     "status": "completed"
    },
    "tags": []
   },
   "outputs": [],
   "source": [
    "data = new_data4.drop(['Country_City', 'Checks',\n",
    "       'AQI_smoothed_iqr', 'AQI_smoothed_zscore', \n",
    "                       'AQI_smoothed_rolling'],axis=1)"
   ]
  },
  {
   "cell_type": "code",
   "execution_count": 27,
   "id": "0c87c4e5",
   "metadata": {
    "execution": {
     "iopub.execute_input": "2025-01-27T16:59:13.878684Z",
     "iopub.status.busy": "2025-01-27T16:59:13.878334Z",
     "iopub.status.idle": "2025-01-27T16:59:13.897575Z",
     "shell.execute_reply": "2025-01-27T16:59:13.896498Z"
    },
    "papermill": {
     "duration": 0.05921,
     "end_time": "2025-01-27T16:59:13.899354",
     "exception": false,
     "start_time": "2025-01-27T16:59:13.840144",
     "status": "completed"
    },
    "tags": []
   },
   "outputs": [
    {
     "data": {
      "text/html": [
       "<div>\n",
       "<style scoped>\n",
       "    .dataframe tbody tr th:only-of-type {\n",
       "        vertical-align: middle;\n",
       "    }\n",
       "\n",
       "    .dataframe tbody tr th {\n",
       "        vertical-align: top;\n",
       "    }\n",
       "\n",
       "    .dataframe thead th {\n",
       "        text-align: right;\n",
       "    }\n",
       "</style>\n",
       "<table border=\"1\" class=\"dataframe\">\n",
       "  <thead>\n",
       "    <tr style=\"text-align: right;\">\n",
       "      <th></th>\n",
       "      <th>co</th>\n",
       "      <th>no2</th>\n",
       "      <th>o3</th>\n",
       "      <th>pm10</th>\n",
       "      <th>pm25</th>\n",
       "      <th>so2</th>\n",
       "      <th>humidity</th>\n",
       "      <th>pressure</th>\n",
       "      <th>temperature</th>\n",
       "      <th>wind-speed</th>\n",
       "      <th>AQI</th>\n",
       "    </tr>\n",
       "  </thead>\n",
       "  <tbody>\n",
       "    <tr>\n",
       "      <th>2014-12-29</th>\n",
       "      <td>14.1</td>\n",
       "      <td>36.2</td>\n",
       "      <td>3.2</td>\n",
       "      <td>218.0</td>\n",
       "      <td>307.0</td>\n",
       "      <td>4.2</td>\n",
       "      <td>60.691097</td>\n",
       "      <td>985.187382</td>\n",
       "      <td>26.3352</td>\n",
       "      <td>1.102459</td>\n",
       "      <td>307.0</td>\n",
       "    </tr>\n",
       "    <tr>\n",
       "      <th>2014-12-30</th>\n",
       "      <td>20.4</td>\n",
       "      <td>36.8</td>\n",
       "      <td>4.8</td>\n",
       "      <td>330.0</td>\n",
       "      <td>367.0</td>\n",
       "      <td>5.8</td>\n",
       "      <td>60.691097</td>\n",
       "      <td>985.187382</td>\n",
       "      <td>26.3352</td>\n",
       "      <td>1.102459</td>\n",
       "      <td>367.0</td>\n",
       "    </tr>\n",
       "    <tr>\n",
       "      <th>2014-12-31</th>\n",
       "      <td>12.7</td>\n",
       "      <td>28.7</td>\n",
       "      <td>7.8</td>\n",
       "      <td>137.0</td>\n",
       "      <td>202.0</td>\n",
       "      <td>6.3</td>\n",
       "      <td>60.691097</td>\n",
       "      <td>985.187382</td>\n",
       "      <td>26.3352</td>\n",
       "      <td>1.102459</td>\n",
       "      <td>202.0</td>\n",
       "    </tr>\n",
       "    <tr>\n",
       "      <th>2015-01-01</th>\n",
       "      <td>20.8</td>\n",
       "      <td>66.5</td>\n",
       "      <td>5.2</td>\n",
       "      <td>230.0</td>\n",
       "      <td>382.0</td>\n",
       "      <td>9.9</td>\n",
       "      <td>60.691097</td>\n",
       "      <td>985.187382</td>\n",
       "      <td>26.3352</td>\n",
       "      <td>1.102459</td>\n",
       "      <td>382.0</td>\n",
       "    </tr>\n",
       "    <tr>\n",
       "      <th>2015-01-02</th>\n",
       "      <td>12.7</td>\n",
       "      <td>33.9</td>\n",
       "      <td>6.0</td>\n",
       "      <td>81.0</td>\n",
       "      <td>172.0</td>\n",
       "      <td>4.2</td>\n",
       "      <td>60.691097</td>\n",
       "      <td>985.187382</td>\n",
       "      <td>26.3352</td>\n",
       "      <td>1.102459</td>\n",
       "      <td>172.0</td>\n",
       "    </tr>\n",
       "  </tbody>\n",
       "</table>\n",
       "</div>"
      ],
      "text/plain": [
       "              co   no2   o3   pm10   pm25  so2   humidity    pressure  \\\n",
       "2014-12-29  14.1  36.2  3.2  218.0  307.0  4.2  60.691097  985.187382   \n",
       "2014-12-30  20.4  36.8  4.8  330.0  367.0  5.8  60.691097  985.187382   \n",
       "2014-12-31  12.7  28.7  7.8  137.0  202.0  6.3  60.691097  985.187382   \n",
       "2015-01-01  20.8  66.5  5.2  230.0  382.0  9.9  60.691097  985.187382   \n",
       "2015-01-02  12.7  33.9  6.0   81.0  172.0  4.2  60.691097  985.187382   \n",
       "\n",
       "            temperature  wind-speed    AQI  \n",
       "2014-12-29      26.3352    1.102459  307.0  \n",
       "2014-12-30      26.3352    1.102459  367.0  \n",
       "2014-12-31      26.3352    1.102459  202.0  \n",
       "2015-01-01      26.3352    1.102459  382.0  \n",
       "2015-01-02      26.3352    1.102459  172.0  "
      ]
     },
     "execution_count": 27,
     "metadata": {},
     "output_type": "execute_result"
    }
   ],
   "source": [
    "data.head()"
   ]
  },
  {
   "cell_type": "code",
   "execution_count": 28,
   "id": "24c6c6d6",
   "metadata": {
    "execution": {
     "iopub.execute_input": "2025-01-27T16:59:13.974933Z",
     "iopub.status.busy": "2025-01-27T16:59:13.974596Z",
     "iopub.status.idle": "2025-01-27T16:59:13.982217Z",
     "shell.execute_reply": "2025-01-27T16:59:13.981128Z"
    },
    "papermill": {
     "duration": 0.047303,
     "end_time": "2025-01-27T16:59:13.983791",
     "exception": false,
     "start_time": "2025-01-27T16:59:13.936488",
     "status": "completed"
    },
    "tags": []
   },
   "outputs": [
    {
     "name": "stdout",
     "output_type": "stream",
     "text": [
      "Index(['co', 'no2', 'o3', 'pm10', 'pm25', 'so2', 'humidity', 'pressure',\n",
      "       'temperature', 'wind-speed', 'AQI'],\n",
      "      dtype='object')\n",
      "Index([], dtype='object')\n"
     ]
    }
   ],
   "source": [
    "num = data.select_dtypes(include=['int16', 'int32', 'int64', 'float16', 'float32', 'float64'])\n",
    "cat = data.select_dtypes(include=['object'])\n",
    "\n",
    "print(num.columns)\n",
    "print(cat.columns)"
   ]
  },
  {
   "cell_type": "code",
   "execution_count": 29,
   "id": "f06bb1b2",
   "metadata": {
    "execution": {
     "iopub.execute_input": "2025-01-27T16:59:14.061497Z",
     "iopub.status.busy": "2025-01-27T16:59:14.061137Z",
     "iopub.status.idle": "2025-01-27T16:59:14.070895Z",
     "shell.execute_reply": "2025-01-27T16:59:14.069833Z"
    },
    "papermill": {
     "duration": 0.049562,
     "end_time": "2025-01-27T16:59:14.072507",
     "exception": false,
     "start_time": "2025-01-27T16:59:14.022945",
     "status": "completed"
    },
    "tags": []
   },
   "outputs": [
    {
     "name": "stdout",
     "output_type": "stream",
     "text": [
      "(2559, 10) (2559,) (640, 10) (640,)\n"
     ]
    }
   ],
   "source": [
    "X = data[['co', 'no2', 'o3', 'pm10', 'pm25', 'so2', 'humidity', 'pressure',\n",
    "       'temperature', 'wind-speed']]\n",
    "\n",
    "y = data['AQI']\n",
    "\n",
    "X_train, X_test, y_train, y_test = train_test_split(X, y, test_size = 0.2, random_state = 42)\n",
    "\n",
    "print(X_train.shape, y_train.shape, X_test.shape, y_test.shape)"
   ]
  },
  {
   "cell_type": "code",
   "execution_count": 30,
   "id": "9de4850c",
   "metadata": {
    "execution": {
     "iopub.execute_input": "2025-01-27T16:59:14.149229Z",
     "iopub.status.busy": "2025-01-27T16:59:14.148836Z",
     "iopub.status.idle": "2025-01-27T16:59:14.154628Z",
     "shell.execute_reply": "2025-01-27T16:59:14.153722Z"
    },
    "papermill": {
     "duration": 0.045461,
     "end_time": "2025-01-27T16:59:14.156506",
     "exception": false,
     "start_time": "2025-01-27T16:59:14.111045",
     "status": "completed"
    },
    "tags": []
   },
   "outputs": [],
   "source": [
    "# Standard Scalling the numeric columns\n",
    "preprocessor = ColumnTransformer(\n",
    "    transformers=[\n",
    "        ('num', Pipeline(steps=[ \n",
    "            ('scaler', StandardScaler())\n",
    "        ]), ['co', 'no2', 'o3', 'pm10', 'pm25', 'so2', 'humidity', 'pressure',\n",
    "       'temperature', 'wind-speed'])  \n",
    "    ])\n",
    "# Pipeline\n",
    "pipeline = Pipeline(steps=[\n",
    "    ('preprocessor', preprocessor)\n",
    "])"
   ]
  },
  {
   "cell_type": "markdown",
   "id": "553ee397",
   "metadata": {
    "papermill": {
     "duration": 0.037279,
     "end_time": "2025-01-27T16:59:14.233022",
     "exception": false,
     "start_time": "2025-01-27T16:59:14.195743",
     "status": "completed"
    },
    "tags": []
   },
   "source": [
    "# **2.2. Model Training & Testing**"
   ]
  },
  {
   "cell_type": "markdown",
   "id": "79033e13",
   "metadata": {
    "papermill": {
     "duration": 0.038685,
     "end_time": "2025-01-27T16:59:14.309603",
     "exception": false,
     "start_time": "2025-01-27T16:59:14.270918",
     "status": "completed"
    },
    "tags": []
   },
   "source": [
    "## **2.2.1. LinearRegression**"
   ]
  },
  {
   "cell_type": "code",
   "execution_count": 31,
   "id": "a3d339f0",
   "metadata": {
    "execution": {
     "iopub.execute_input": "2025-01-27T16:59:14.386941Z",
     "iopub.status.busy": "2025-01-27T16:59:14.386594Z",
     "iopub.status.idle": "2025-01-27T16:59:14.457904Z",
     "shell.execute_reply": "2025-01-27T16:59:14.456989Z"
    },
    "papermill": {
     "duration": 0.111767,
     "end_time": "2025-01-27T16:59:14.459753",
     "exception": false,
     "start_time": "2025-01-27T16:59:14.347986",
     "status": "completed"
    },
    "tags": []
   },
   "outputs": [],
   "source": [
    "# training with LinearRegression\n",
    "\n",
    "lm = LinearRegression(fit_intercept = True)\n",
    "\n",
    "pipeline = Pipeline(steps=[('preprocessor', preprocessor), ('regressor', lm)])\n",
    "\n",
    "# Fit the pipeline to the training data\n",
    "pipeline.fit(X_train,y_train)\n",
    "\n",
    "# Predict on the training and test datasets\n",
    "y_pred_train_lm = pipeline.predict(X_train)\n",
    "y_pred_test_lm = pipeline.predict(X_test)"
   ]
  },
  {
   "cell_type": "code",
   "execution_count": 32,
   "id": "d286d69d",
   "metadata": {
    "execution": {
     "iopub.execute_input": "2025-01-27T16:59:14.535584Z",
     "iopub.status.busy": "2025-01-27T16:59:14.535249Z",
     "iopub.status.idle": "2025-01-27T16:59:14.549640Z",
     "shell.execute_reply": "2025-01-27T16:59:14.548506Z"
    },
    "papermill": {
     "duration": 0.054219,
     "end_time": "2025-01-27T16:59:14.551256",
     "exception": false,
     "start_time": "2025-01-27T16:59:14.497037",
     "status": "completed"
    },
    "tags": []
   },
   "outputs": [
    {
     "name": "stdout",
     "output_type": "stream",
     "text": [
      "The r2 Accuracy on the training dataset prediction is:  0.9675634154803487\n",
      "The r2 Accuracy on the test dataset prediction is:  0.968703504370825\n",
      "\n",
      "The RMSE  on the training dataset is:  13.335721085516212\n",
      "The RMSE  on the testing dataset is:  11.928438053349607\n",
      "\n",
      "The MAE  on the training dataset is:  8.782664440343714\n",
      "The MAE  on the testing dataset is:  8.72687977710864\n",
      "\n",
      "The MSE  on the training dataset is:  177.84145687068172\n",
      "The MSE  on the testing dataset is:  142.28763439259896\n"
     ]
    }
   ],
   "source": [
    "# Model Accuracy on training and testing dataset\n",
    "\n",
    "print('The r2 Accuracy on the training dataset prediction is: ',r2_score(y_train,y_pred_train_lm) )\n",
    "print('The r2 Accuracy on the test dataset prediction is: ',r2_score(y_test,y_pred_test_lm) )\n",
    "\n",
    "print(\"\")\n",
    "\n",
    "# The Root Mean Squared Error (RMSE)\n",
    "print('The RMSE  on the training dataset is: ',sqrt(mean_squared_error(y_train, y_pred_train_lm)))\n",
    "print('The RMSE  on the testing dataset is: ',sqrt(mean_squared_error(y_test, y_pred_test_lm)))\n",
    "\n",
    "print(\"\")\n",
    "# The Mean Absolute Error (MAE)\n",
    "print('The MAE  on the training dataset is: ',mean_absolute_error(y_train, y_pred_train_lm))\n",
    "print('The MAE  on the testing dataset is: ',mean_absolute_error(y_test, y_pred_test_lm))\n",
    "\n",
    "print(\"\")\n",
    "# The Mean Squared Error (MSE)\n",
    "print('The MSE  on the training dataset is: ',mean_squared_error(y_train, y_pred_train_lm))\n",
    "print('The MSE  on the testing dataset is: ',mean_squared_error(y_test, y_pred_test_lm))"
   ]
  },
  {
   "cell_type": "markdown",
   "id": "eae76e40",
   "metadata": {
    "papermill": {
     "duration": 0.037318,
     "end_time": "2025-01-27T16:59:14.626294",
     "exception": false,
     "start_time": "2025-01-27T16:59:14.588976",
     "status": "completed"
    },
    "tags": []
   },
   "source": [
    "## **2.2.2.  KNeighborsRegressor**"
   ]
  },
  {
   "cell_type": "code",
   "execution_count": 33,
   "id": "444edf6b",
   "metadata": {
    "execution": {
     "iopub.execute_input": "2025-01-27T16:59:14.707932Z",
     "iopub.status.busy": "2025-01-27T16:59:14.707560Z",
     "iopub.status.idle": "2025-01-27T16:59:14.779318Z",
     "shell.execute_reply": "2025-01-27T16:59:14.778285Z"
    },
    "papermill": {
     "duration": 0.117092,
     "end_time": "2025-01-27T16:59:14.781005",
     "exception": false,
     "start_time": "2025-01-27T16:59:14.663913",
     "status": "completed"
    },
    "tags": []
   },
   "outputs": [],
   "source": [
    "# training with KNeighborsRegressor\n",
    "\n",
    "neigh = KNeighborsRegressor(n_neighbors=2)\n",
    "\n",
    "pipeline = Pipeline(steps=[('preprocessor', preprocessor), ('regressor', neigh)])\n",
    "\n",
    "# Fit the pipeline to the training data\n",
    "pipeline.fit(X_train,y_train)\n",
    "\n",
    "# Predict on the training and test datasets\n",
    "y_pred_train_knn = pipeline.predict(X_train)\n",
    "y_pred_test_knn = pipeline.predict(X_test)"
   ]
  },
  {
   "cell_type": "code",
   "execution_count": 34,
   "id": "1519dc4d",
   "metadata": {
    "execution": {
     "iopub.execute_input": "2025-01-27T16:59:14.857095Z",
     "iopub.status.busy": "2025-01-27T16:59:14.856703Z",
     "iopub.status.idle": "2025-01-27T16:59:14.874132Z",
     "shell.execute_reply": "2025-01-27T16:59:14.872926Z"
    },
    "papermill": {
     "duration": 0.057145,
     "end_time": "2025-01-27T16:59:14.875842",
     "exception": false,
     "start_time": "2025-01-27T16:59:14.818697",
     "status": "completed"
    },
    "tags": []
   },
   "outputs": [
    {
     "name": "stdout",
     "output_type": "stream",
     "text": [
      "The R2 score on the training dataset prediction is:  0.9880364262171328\n",
      "The R2 score on the test dataset prediction is:  0.9659555905220559\n",
      "\n",
      "The RMSE  on the training dataset is:  8.098962925519118\n",
      "The RMSE  on the testing dataset is:  12.441095585799507\n",
      "\n",
      "The MAE  on the training dataset is:  4.665494333724111\n",
      "The MAE  on the testing dataset is:  7.59921875\n",
      "\n",
      "The MSE  on the training dataset is:  65.59320046893318\n",
      "The MSE  on the testing dataset is:  154.780859375\n"
     ]
    }
   ],
   "source": [
    "# Model Accuracy on training dataset\n",
    "print('The R2 score on the training dataset prediction is: ', r2_score(y_train,y_pred_train_knn))\n",
    "print('The R2 score on the test dataset prediction is: ', r2_score(y_test, y_pred_test_knn))\n",
    "print(\"\")\n",
    "\n",
    "# The Root Mean Squared Error (RMSE)\n",
    "print('The RMSE  on the training dataset is: ',sqrt(mean_squared_error(y_train,y_pred_train_knn)))\n",
    "print('The RMSE  on the testing dataset is: ',sqrt(mean_squared_error(y_test, y_pred_test_knn)))\n",
    "\n",
    "print(\"\")\n",
    "# The Mean Absolute Error (MAE)\n",
    "print('The MAE  on the training dataset is: ',mean_absolute_error(y_train,y_pred_train_knn))\n",
    "print('The MAE  on the testing dataset is: ',mean_absolute_error(y_test, y_pred_test_knn))\n",
    "\n",
    "print(\"\")\n",
    "# The Mean Squared Error (MSE)\n",
    "print('The MSE  on the training dataset is: ',mean_squared_error(y_train, y_pred_train_knn))\n",
    "print('The MSE  on the testing dataset is: ',mean_squared_error(y_test, y_pred_test_knn))"
   ]
  },
  {
   "cell_type": "markdown",
   "id": "d8fca1ca",
   "metadata": {
    "papermill": {
     "duration": 0.036791,
     "end_time": "2025-01-27T16:59:14.949970",
     "exception": false,
     "start_time": "2025-01-27T16:59:14.913179",
     "status": "completed"
    },
    "tags": []
   },
   "source": [
    "## **2.2.3.  Random Forest Regressor**"
   ]
  },
  {
   "cell_type": "code",
   "execution_count": 35,
   "id": "bfd64cbf",
   "metadata": {
    "execution": {
     "iopub.execute_input": "2025-01-27T16:59:15.028997Z",
     "iopub.status.busy": "2025-01-27T16:59:15.028627Z",
     "iopub.status.idle": "2025-01-27T16:59:16.050517Z",
     "shell.execute_reply": "2025-01-27T16:59:16.049110Z"
    },
    "papermill": {
     "duration": 1.062587,
     "end_time": "2025-01-27T16:59:16.052625",
     "exception": false,
     "start_time": "2025-01-27T16:59:14.990038",
     "status": "completed"
    },
    "tags": []
   },
   "outputs": [],
   "source": [
    "# Training with random forest regressor\n",
    "random = RandomForestRegressor()\n",
    "\n",
    "pipeline = Pipeline(steps=[('preprocessor', preprocessor), ('regressor', random)])\n",
    "\n",
    "# Fit the pipeline to the training data\n",
    "pipeline.fit(X_train,y_train)\n",
    "\n",
    "# Predict on the training and test datasets\n",
    "y_pred_train_random = pipeline.predict(X_train)\n",
    "y_pred_test_random = pipeline.predict(X_test)"
   ]
  },
  {
   "cell_type": "code",
   "execution_count": 36,
   "id": "dd6a10d2",
   "metadata": {
    "execution": {
     "iopub.execute_input": "2025-01-27T16:59:16.129257Z",
     "iopub.status.busy": "2025-01-27T16:59:16.128898Z",
     "iopub.status.idle": "2025-01-27T16:59:16.145694Z",
     "shell.execute_reply": "2025-01-27T16:59:16.144514Z"
    },
    "papermill": {
     "duration": 0.05703,
     "end_time": "2025-01-27T16:59:16.147198",
     "exception": false,
     "start_time": "2025-01-27T16:59:16.090168",
     "status": "completed"
    },
    "tags": []
   },
   "outputs": [
    {
     "name": "stdout",
     "output_type": "stream",
     "text": [
      "The R2 score on the training dataset prediction is:  0.998417014895535\n",
      "The R2 score on the test dataset prediction is:  0.9955638715156327\n",
      "\n",
      "The RMSE  on the training dataset is:  2.9460313148388204\n",
      "The RMSE  on the testing dataset is:  4.490945473950893\n",
      "\n",
      "The MAE  on the training dataset is:  0.3229542790152403\n",
      "The MAE  on the testing dataset is:  0.7333750000000003\n",
      "\n",
      "The MSE  on the training dataset is:  8.679100508010949\n",
      "The MSE  on the testing dataset is:  20.168591250000006\n"
     ]
    }
   ],
   "source": [
    "# Model Accuracy on training dataset\n",
    "print('The R2 score on the training dataset prediction is: ', r2_score(y_train,y_pred_train_random))\n",
    "print('The R2 score on the test dataset prediction is: ', r2_score(y_test, y_pred_test_random))\n",
    "print(\"\")\n",
    "\n",
    "# The Root Mean Squared Error (RMSE)\n",
    "print('The RMSE  on the training dataset is: ',sqrt(mean_squared_error(y_train,y_pred_train_random)))\n",
    "print('The RMSE  on the testing dataset is: ',sqrt(mean_squared_error(y_test, y_pred_test_random)))\n",
    "\n",
    "print(\"\")\n",
    "# The Mean Absolute Error (MAE)\n",
    "print('The MAE  on the training dataset is: ',mean_absolute_error(y_train,y_pred_train_random))\n",
    "print('The MAE  on the testing dataset is: ',mean_absolute_error(y_test, y_pred_test_random))\n",
    "\n",
    "print(\"\")\n",
    "# The Mean Squared Error (MSE)\n",
    "print('The MSE  on the training dataset is: ',mean_squared_error(y_train, y_pred_train_random))\n",
    "print('The MSE  on the testing dataset is: ',mean_squared_error(y_test, y_pred_test_random))"
   ]
  },
  {
   "cell_type": "markdown",
   "id": "11d9e872",
   "metadata": {
    "papermill": {
     "duration": 0.039432,
     "end_time": "2025-01-27T16:59:16.223822",
     "exception": false,
     "start_time": "2025-01-27T16:59:16.184390",
     "status": "completed"
    },
    "tags": []
   },
   "source": [
    "## **2.2.4.  Decision Tree regressor**"
   ]
  },
  {
   "cell_type": "code",
   "execution_count": 37,
   "id": "dbf7aaa6",
   "metadata": {
    "execution": {
     "iopub.execute_input": "2025-01-27T16:59:16.300336Z",
     "iopub.status.busy": "2025-01-27T16:59:16.299956Z",
     "iopub.status.idle": "2025-01-27T16:59:16.329837Z",
     "shell.execute_reply": "2025-01-27T16:59:16.328830Z"
    },
    "papermill": {
     "duration": 0.070292,
     "end_time": "2025-01-27T16:59:16.331635",
     "exception": false,
     "start_time": "2025-01-27T16:59:16.261343",
     "status": "completed"
    },
    "tags": []
   },
   "outputs": [],
   "source": [
    "# Training with Decision Tree regressor\n",
    "dt = DecisionTreeRegressor()\n",
    "\n",
    "pipeline = Pipeline(steps=[('preprocessor', preprocessor), ('regressor', dt)])\n",
    "\n",
    "# Fit the pipeline to the training data\n",
    "pipeline.fit(X_train,y_train)\n",
    "\n",
    "# Predict on the training and test datasets\n",
    "y_pred_train_dt = pipeline.predict(X_train)\n",
    "y_pred_test_dt = pipeline.predict(X_test)"
   ]
  },
  {
   "cell_type": "code",
   "execution_count": 38,
   "id": "f733d16e",
   "metadata": {
    "execution": {
     "iopub.execute_input": "2025-01-27T16:59:16.407961Z",
     "iopub.status.busy": "2025-01-27T16:59:16.407616Z",
     "iopub.status.idle": "2025-01-27T16:59:16.421697Z",
     "shell.execute_reply": "2025-01-27T16:59:16.420431Z"
    },
    "papermill": {
     "duration": 0.05427,
     "end_time": "2025-01-27T16:59:16.423651",
     "exception": false,
     "start_time": "2025-01-27T16:59:16.369381",
     "status": "completed"
    },
    "tags": []
   },
   "outputs": [
    {
     "name": "stdout",
     "output_type": "stream",
     "text": [
      "The R2 score on the training dataset prediction is:  1.0\n",
      "The R2 score on the test dataset prediction is:  0.9915978212854688\n",
      "\n",
      "The RMSE  on the training dataset is:  0.0\n",
      "The RMSE  on the testing dataset is:  6.180614856144977\n",
      "\n",
      "The MAE  on the training dataset is:  0.0\n",
      "The MAE  on the testing dataset is:  0.984375\n",
      "\n",
      "The MSE  on the training dataset is:  0.0\n",
      "The MSE  on the testing dataset is:  38.2\n"
     ]
    }
   ],
   "source": [
    "# Model Accuracy on training dataset\n",
    "print('The R2 score on the training dataset prediction is: ', r2_score(y_train,y_pred_train_dt))\n",
    "print('The R2 score on the test dataset prediction is: ', r2_score(y_test, y_pred_test_dt))\n",
    "print(\"\")\n",
    "\n",
    "# The Root Mean Squared Error (RMSE)\n",
    "print('The RMSE  on the training dataset is: ',sqrt(mean_squared_error(y_train,y_pred_train_dt)))\n",
    "print('The RMSE  on the testing dataset is: ',sqrt(mean_squared_error(y_test, y_pred_test_dt)))\n",
    "\n",
    "print(\"\")\n",
    "# The Mean Absolute Error (MAE)\n",
    "print('The MAE  on the training dataset is: ',mean_absolute_error(y_train,y_pred_train_dt))\n",
    "print('The MAE  on the testing dataset is: ',mean_absolute_error(y_test, y_pred_test_dt))\n",
    "\n",
    "print(\"\")\n",
    "# The Mean Squared Error (MSE)\n",
    "print('The MSE  on the training dataset is: ',mean_squared_error(y_train, y_pred_train_dt))\n",
    "print('The MSE  on the testing dataset is: ',mean_squared_error(y_test, y_pred_test_dt))"
   ]
  },
  {
   "cell_type": "markdown",
   "id": "25a8e42d",
   "metadata": {
    "papermill": {
     "duration": 0.036843,
     "end_time": "2025-01-27T16:59:16.498085",
     "exception": false,
     "start_time": "2025-01-27T16:59:16.461242",
     "status": "completed"
    },
    "tags": []
   },
   "source": [
    "## **2.2.5.  Support Vector Machine regressor**"
   ]
  },
  {
   "cell_type": "code",
   "execution_count": 39,
   "id": "7b2461f4",
   "metadata": {
    "execution": {
     "iopub.execute_input": "2025-01-27T16:59:16.574368Z",
     "iopub.status.busy": "2025-01-27T16:59:16.573971Z",
     "iopub.status.idle": "2025-01-27T16:59:17.912789Z",
     "shell.execute_reply": "2025-01-27T16:59:17.911607Z"
    },
    "papermill": {
     "duration": 1.37933,
     "end_time": "2025-01-27T16:59:17.914927",
     "exception": false,
     "start_time": "2025-01-27T16:59:16.535597",
     "status": "completed"
    },
    "tags": []
   },
   "outputs": [],
   "source": [
    "# Training with Support Vector Machine regressor\n",
    "svr = SVR(kernel='linear')\n",
    "\n",
    "pipeline = Pipeline(steps=[('preprocessor', preprocessor), ('regressor', svr)])\n",
    "\n",
    "# Fit the pipeline to the training data\n",
    "pipeline.fit(X_train, y_train)\n",
    "\n",
    "# Predict on the training and test datasets\n",
    "y_pred_train_svr = pipeline.predict(X_train)\n",
    "y_pred_test_svr = pipeline.predict(X_test)"
   ]
  },
  {
   "cell_type": "code",
   "execution_count": 40,
   "id": "77f4d145",
   "metadata": {
    "execution": {
     "iopub.execute_input": "2025-01-27T16:59:17.994406Z",
     "iopub.status.busy": "2025-01-27T16:59:17.994012Z",
     "iopub.status.idle": "2025-01-27T16:59:18.011285Z",
     "shell.execute_reply": "2025-01-27T16:59:18.010001Z"
    },
    "papermill": {
     "duration": 0.058404,
     "end_time": "2025-01-27T16:59:18.013170",
     "exception": false,
     "start_time": "2025-01-27T16:59:17.954766",
     "status": "completed"
    },
    "tags": []
   },
   "outputs": [
    {
     "name": "stdout",
     "output_type": "stream",
     "text": [
      "The R2 score on the training dataset prediction is:  0.885316573048139\n",
      "The R2 score on the test dataset prediction is:  0.9387441789037466\n",
      "\n",
      "The RMSE on the training dataset is:  25.075481189251825\n",
      "The RMSE on the testing dataset is:  16.688196580080987\n",
      "\n",
      "The MAE on the training dataset is:  3.425123693377581\n",
      "The MAE on the testing dataset is:  2.3894872727086267\n",
      "\n",
      "The MSE  on the training dataset is:  628.7797568725221\n",
      "The MSE  on the testing dataset is:  278.4959050954268\n"
     ]
    }
   ],
   "source": [
    "# Model Accuracy on training dataset\n",
    "print('The R2 score on the training dataset prediction is: ', r2_score(y_train, y_pred_train_svr))\n",
    "print('The R2 score on the test dataset prediction is: ', r2_score(y_test, y_pred_test_svr))\n",
    "print(\"\")\n",
    "\n",
    "# The Root Mean Squared Error (RMSE)\n",
    "print('The RMSE on the training dataset is: ', sqrt(mean_squared_error(y_train, y_pred_train_svr)))\n",
    "print('The RMSE on the testing dataset is: ', sqrt(mean_squared_error(y_test, y_pred_test_svr)))\n",
    "print(\"\")\n",
    "\n",
    "# The Mean Absolute Error (MAE)\n",
    "print('The MAE on the training dataset is: ', mean_absolute_error(y_train, y_pred_train_svr))\n",
    "print('The MAE on the testing dataset is: ', mean_absolute_error(y_test, y_pred_test_svr))\n",
    "\n",
    "print(\"\")\n",
    "# The Mean Squared Error (MSE)\n",
    "print('The MSE  on the training dataset is: ',mean_squared_error(y_train, y_pred_train_svr))\n",
    "print('The MSE  on the testing dataset is: ',mean_squared_error(y_test, y_pred_test_svr))"
   ]
  },
  {
   "cell_type": "markdown",
   "id": "1db7e04d",
   "metadata": {
    "papermill": {
     "duration": 0.039184,
     "end_time": "2025-01-27T16:59:18.090790",
     "exception": false,
     "start_time": "2025-01-27T16:59:18.051606",
     "status": "completed"
    },
    "tags": []
   },
   "source": [
    "## **2.2.6.  XGBoost Regressor**"
   ]
  },
  {
   "cell_type": "code",
   "execution_count": 41,
   "id": "4dd5f27e",
   "metadata": {
    "execution": {
     "iopub.execute_input": "2025-01-27T16:59:18.174946Z",
     "iopub.status.busy": "2025-01-27T16:59:18.174556Z",
     "iopub.status.idle": "2025-01-27T16:59:18.422027Z",
     "shell.execute_reply": "2025-01-27T16:59:18.420947Z"
    },
    "papermill": {
     "duration": 0.295108,
     "end_time": "2025-01-27T16:59:18.424266",
     "exception": false,
     "start_time": "2025-01-27T16:59:18.129158",
     "status": "completed"
    },
    "tags": []
   },
   "outputs": [],
   "source": [
    "# Training with XGBoost regressor\n",
    "xgb_regressor = XGBRegressor(objective='reg:squarederror')\n",
    "\n",
    "pipeline = Pipeline(steps=[('preprocessor', preprocessor), ('regressor', xgb_regressor)])\n",
    "\n",
    "# Fit the pipeline to the training data\n",
    "pipeline.fit(X_train, y_train)\n",
    "\n",
    "# Predict on the training and test datasets\n",
    "y_pred_train_xgb = pipeline.predict(X_train)\n",
    "y_pred_test_xgb = pipeline.predict(X_test)"
   ]
  },
  {
   "cell_type": "code",
   "execution_count": 42,
   "id": "7d69d284",
   "metadata": {
    "execution": {
     "iopub.execute_input": "2025-01-27T16:59:18.515473Z",
     "iopub.status.busy": "2025-01-27T16:59:18.515129Z",
     "iopub.status.idle": "2025-01-27T16:59:18.534196Z",
     "shell.execute_reply": "2025-01-27T16:59:18.532923Z"
    },
    "papermill": {
     "duration": 0.061473,
     "end_time": "2025-01-27T16:59:18.536604",
     "exception": false,
     "start_time": "2025-01-27T16:59:18.475131",
     "status": "completed"
    },
    "tags": []
   },
   "outputs": [
    {
     "name": "stdout",
     "output_type": "stream",
     "text": [
      "The R2 score on the training dataset prediction is:  0.9999884261680223\n",
      "The R2 score on the test dataset prediction is:  0.9884092057630378\n",
      "\n",
      "The RMSE on the training dataset is:  0.25190543128934345\n",
      "The RMSE on the testing dataset is:  7.259259509512052\n",
      "\n",
      "The MAE on the training dataset is:  0.15732481443309002\n",
      "The MAE on the testing dataset is:  1.3124947667121887\n",
      "\n",
      "The MSE  on the training dataset is:  0.06345634631307014\n",
      "The MSE  on the testing dataset is:  52.69684862644117\n"
     ]
    }
   ],
   "source": [
    "# Model Accuracy on training dataset\n",
    "print('The R2 score on the training dataset prediction is: ', r2_score(y_train, y_pred_train_xgb))\n",
    "print('The R2 score on the test dataset prediction is: ', r2_score(y_test, y_pred_test_xgb))\n",
    "print(\"\")\n",
    "\n",
    "# The Root Mean Squared Error (RMSE)\n",
    "print('The RMSE on the training dataset is: ', sqrt(mean_squared_error(y_train, y_pred_train_xgb)))\n",
    "print('The RMSE on the testing dataset is: ', sqrt(mean_squared_error(y_test, y_pred_test_xgb)))\n",
    "print(\"\")\n",
    "\n",
    "# The Mean Absolute Error (MAE)\n",
    "print('The MAE on the training dataset is: ', mean_absolute_error(y_train, y_pred_train_xgb))\n",
    "print('The MAE on the testing dataset is: ', mean_absolute_error(y_test, y_pred_test_xgb))\n",
    "\n",
    "print(\"\")\n",
    "# The Mean Squared Error (MSE)\n",
    "print('The MSE  on the training dataset is: ',mean_squared_error(y_train, y_pred_train_xgb))\n",
    "print('The MSE  on the testing dataset is: ',mean_squared_error(y_test, y_pred_test_xgb))"
   ]
  },
  {
   "cell_type": "markdown",
   "id": "cfa35c9a",
   "metadata": {
    "papermill": {
     "duration": 0.037037,
     "end_time": "2025-01-27T16:59:18.613700",
     "exception": false,
     "start_time": "2025-01-27T16:59:18.576663",
     "status": "completed"
    },
    "tags": []
   },
   "source": [
    "## **2.2.7.  Neural Network Regressor**"
   ]
  },
  {
   "cell_type": "code",
   "execution_count": 43,
   "id": "c8624cd8",
   "metadata": {
    "execution": {
     "iopub.execute_input": "2025-01-27T16:59:18.691986Z",
     "iopub.status.busy": "2025-01-27T16:59:18.691515Z",
     "iopub.status.idle": "2025-01-27T16:59:26.509450Z",
     "shell.execute_reply": "2025-01-27T16:59:26.508281Z"
    },
    "papermill": {
     "duration": 7.85995,
     "end_time": "2025-01-27T16:59:26.511380",
     "exception": false,
     "start_time": "2025-01-27T16:59:18.651430",
     "status": "completed"
    },
    "tags": []
   },
   "outputs": [
    {
     "name": "stderr",
     "output_type": "stream",
     "text": [
      "/usr/local/lib/python3.10/dist-packages/sklearn/neural_network/_multilayer_perceptron.py:686: ConvergenceWarning: Stochastic Optimizer: Maximum iterations (2000) reached and the optimization hasn't converged yet.\n",
      "  warnings.warn(\n"
     ]
    }
   ],
   "source": [
    "# training with neural network regressor\n",
    "\n",
    "nn = MLPRegressor(hidden_layer_sizes=(8,), activation='relu', solver='adam', max_iter=2000, learning_rate_init=0.001)\n",
    "\n",
    "pipeline = Pipeline(steps=[('preprocessor', preprocessor), ('regressor', nn)])\n",
    "\n",
    "# Fit the pipeline to the training data\n",
    "pipeline.fit(X_train,y_train)\n",
    "\n",
    "# Predict on the training and test datasets\n",
    "y_pred_train_nn = pipeline.predict(X_train)\n",
    "y_pred_test_nn = pipeline.predict(X_test)"
   ]
  },
  {
   "cell_type": "code",
   "execution_count": 44,
   "id": "2c48e5db",
   "metadata": {
    "execution": {
     "iopub.execute_input": "2025-01-27T16:59:26.589188Z",
     "iopub.status.busy": "2025-01-27T16:59:26.588792Z",
     "iopub.status.idle": "2025-01-27T16:59:26.603842Z",
     "shell.execute_reply": "2025-01-27T16:59:26.602566Z"
    },
    "papermill": {
     "duration": 0.055117,
     "end_time": "2025-01-27T16:59:26.605547",
     "exception": false,
     "start_time": "2025-01-27T16:59:26.550430",
     "status": "completed"
    },
    "tags": []
   },
   "outputs": [
    {
     "name": "stdout",
     "output_type": "stream",
     "text": [
      "The R2 score on the training dataset prediction is:  0.9849455424674173\n",
      "The R2 score on the test dataset prediction is:  0.9795535024296275\n",
      "\n",
      "The RMSE on the training dataset is:  9.085137408204202\n",
      "The RMSE on the testing dataset is:  9.641512900961477\n",
      "\n",
      "The MAE on the training dataset is:  5.528725862770487\n",
      "The MAE on the testing dataset is:  5.789952666048643\n",
      "\n",
      "The MSE  on the training dataset is:  82.53972172595137\n",
      "The MSE  on the testing dataset is:  92.95877101940658\n"
     ]
    }
   ],
   "source": [
    "# Model Accuracy on training dataset\n",
    "print('The R2 score on the training dataset prediction is: ', r2_score(y_train, y_pred_train_nn))\n",
    "print('The R2 score on the test dataset prediction is: ', r2_score(y_test, y_pred_test_nn))\n",
    "print(\"\")\n",
    "\n",
    "# The Root Mean Squared Error (RMSE)\n",
    "print('The RMSE on the training dataset is: ', sqrt(mean_squared_error(y_train, y_pred_train_nn)))\n",
    "print('The RMSE on the testing dataset is: ', sqrt(mean_squared_error(y_test, y_pred_test_nn)))\n",
    "print(\"\")\n",
    "\n",
    "# The Mean Absolute Error (MAE)\n",
    "print('The MAE on the training dataset is: ', mean_absolute_error(y_train, y_pred_train_nn))\n",
    "print('The MAE on the testing dataset is: ', mean_absolute_error(y_test, y_pred_test_nn))\n",
    "\n",
    "print(\"\")\n",
    "# The Mean Squared Error (MSE)\n",
    "print('The MSE  on the training dataset is: ',mean_squared_error(y_train, y_pred_train_nn))\n",
    "print('The MSE  on the testing dataset is: ',mean_squared_error(y_test, y_pred_test_nn))"
   ]
  },
  {
   "cell_type": "code",
   "execution_count": null,
   "id": "26c0cae0",
   "metadata": {
    "papermill": {
     "duration": 0.037781,
     "end_time": "2025-01-27T16:59:26.681251",
     "exception": false,
     "start_time": "2025-01-27T16:59:26.643470",
     "status": "completed"
    },
    "tags": []
   },
   "outputs": [],
   "source": []
  },
  {
   "cell_type": "code",
   "execution_count": null,
   "id": "8c4d9916",
   "metadata": {
    "papermill": {
     "duration": 0.037351,
     "end_time": "2025-01-27T16:59:26.756994",
     "exception": false,
     "start_time": "2025-01-27T16:59:26.719643",
     "status": "completed"
    },
    "tags": []
   },
   "outputs": [],
   "source": []
  },
  {
   "cell_type": "markdown",
   "id": "55804254",
   "metadata": {
    "papermill": {
     "duration": 0.038056,
     "end_time": "2025-01-27T16:59:26.833799",
     "exception": false,
     "start_time": "2025-01-27T16:59:26.795743",
     "status": "completed"
    },
    "tags": []
   },
   "source": [
    "# **3.1. Splitting & Preprocessing the Raw Data(Smoothed iqr)**"
   ]
  },
  {
   "cell_type": "markdown",
   "id": "cadefbfc",
   "metadata": {
    "papermill": {
     "duration": 0.04017,
     "end_time": "2025-01-27T16:59:26.927571",
     "exception": false,
     "start_time": "2025-01-27T16:59:26.887401",
     "status": "completed"
    },
    "tags": []
   },
   "source": [
    "AQI Smoothed iqr"
   ]
  },
  {
   "cell_type": "code",
   "execution_count": 45,
   "id": "a5962d1a",
   "metadata": {
    "execution": {
     "iopub.execute_input": "2025-01-27T16:59:27.012594Z",
     "iopub.status.busy": "2025-01-27T16:59:27.012247Z",
     "iopub.status.idle": "2025-01-27T16:59:27.033318Z",
     "shell.execute_reply": "2025-01-27T16:59:27.032194Z"
    },
    "papermill": {
     "duration": 0.068657,
     "end_time": "2025-01-27T16:59:27.035136",
     "exception": false,
     "start_time": "2025-01-27T16:59:26.966479",
     "status": "completed"
    },
    "tags": []
   },
   "outputs": [
    {
     "data": {
      "text/html": [
       "<div>\n",
       "<style scoped>\n",
       "    .dataframe tbody tr th:only-of-type {\n",
       "        vertical-align: middle;\n",
       "    }\n",
       "\n",
       "    .dataframe tbody tr th {\n",
       "        vertical-align: top;\n",
       "    }\n",
       "\n",
       "    .dataframe thead th {\n",
       "        text-align: right;\n",
       "    }\n",
       "</style>\n",
       "<table border=\"1\" class=\"dataframe\">\n",
       "  <thead>\n",
       "    <tr style=\"text-align: right;\">\n",
       "      <th></th>\n",
       "      <th>co</th>\n",
       "      <th>no2</th>\n",
       "      <th>o3</th>\n",
       "      <th>pm10</th>\n",
       "      <th>pm25</th>\n",
       "      <th>so2</th>\n",
       "      <th>humidity</th>\n",
       "      <th>pressure</th>\n",
       "      <th>temperature</th>\n",
       "      <th>wind-speed</th>\n",
       "      <th>Country_City</th>\n",
       "      <th>Checks</th>\n",
       "      <th>AQI</th>\n",
       "      <th>AQI_smoothed_iqr</th>\n",
       "      <th>AQI_smoothed_zscore</th>\n",
       "      <th>AQI_smoothed_rolling</th>\n",
       "    </tr>\n",
       "  </thead>\n",
       "  <tbody>\n",
       "    <tr>\n",
       "      <th>2014-12-29</th>\n",
       "      <td>14.1</td>\n",
       "      <td>36.2</td>\n",
       "      <td>3.2</td>\n",
       "      <td>218.0</td>\n",
       "      <td>307.0</td>\n",
       "      <td>4.2</td>\n",
       "      <td>60.691097</td>\n",
       "      <td>985.187382</td>\n",
       "      <td>26.3352</td>\n",
       "      <td>1.102459</td>\n",
       "      <td>India_Delhi</td>\n",
       "      <td>6</td>\n",
       "      <td>307.0</td>\n",
       "      <td>307.0</td>\n",
       "      <td>307.0</td>\n",
       "      <td>307.0</td>\n",
       "    </tr>\n",
       "    <tr>\n",
       "      <th>2014-12-30</th>\n",
       "      <td>20.4</td>\n",
       "      <td>36.8</td>\n",
       "      <td>4.8</td>\n",
       "      <td>330.0</td>\n",
       "      <td>367.0</td>\n",
       "      <td>5.8</td>\n",
       "      <td>60.691097</td>\n",
       "      <td>985.187382</td>\n",
       "      <td>26.3352</td>\n",
       "      <td>1.102459</td>\n",
       "      <td>India_Delhi</td>\n",
       "      <td>6</td>\n",
       "      <td>367.0</td>\n",
       "      <td>367.0</td>\n",
       "      <td>367.0</td>\n",
       "      <td>367.0</td>\n",
       "    </tr>\n",
       "    <tr>\n",
       "      <th>2014-12-31</th>\n",
       "      <td>12.7</td>\n",
       "      <td>28.7</td>\n",
       "      <td>7.8</td>\n",
       "      <td>137.0</td>\n",
       "      <td>202.0</td>\n",
       "      <td>6.3</td>\n",
       "      <td>60.691097</td>\n",
       "      <td>985.187382</td>\n",
       "      <td>26.3352</td>\n",
       "      <td>1.102459</td>\n",
       "      <td>India_Delhi</td>\n",
       "      <td>6</td>\n",
       "      <td>202.0</td>\n",
       "      <td>202.0</td>\n",
       "      <td>202.0</td>\n",
       "      <td>202.0</td>\n",
       "    </tr>\n",
       "    <tr>\n",
       "      <th>2015-01-01</th>\n",
       "      <td>20.8</td>\n",
       "      <td>66.5</td>\n",
       "      <td>5.2</td>\n",
       "      <td>230.0</td>\n",
       "      <td>382.0</td>\n",
       "      <td>9.9</td>\n",
       "      <td>60.691097</td>\n",
       "      <td>985.187382</td>\n",
       "      <td>26.3352</td>\n",
       "      <td>1.102459</td>\n",
       "      <td>India_Delhi</td>\n",
       "      <td>6</td>\n",
       "      <td>382.0</td>\n",
       "      <td>382.0</td>\n",
       "      <td>158.0</td>\n",
       "      <td>382.0</td>\n",
       "    </tr>\n",
       "    <tr>\n",
       "      <th>2015-01-02</th>\n",
       "      <td>12.7</td>\n",
       "      <td>33.9</td>\n",
       "      <td>6.0</td>\n",
       "      <td>81.0</td>\n",
       "      <td>172.0</td>\n",
       "      <td>4.2</td>\n",
       "      <td>60.691097</td>\n",
       "      <td>985.187382</td>\n",
       "      <td>26.3352</td>\n",
       "      <td>1.102459</td>\n",
       "      <td>India_Delhi</td>\n",
       "      <td>6</td>\n",
       "      <td>172.0</td>\n",
       "      <td>172.0</td>\n",
       "      <td>172.0</td>\n",
       "      <td>172.0</td>\n",
       "    </tr>\n",
       "  </tbody>\n",
       "</table>\n",
       "</div>"
      ],
      "text/plain": [
       "              co   no2   o3   pm10   pm25  so2   humidity    pressure  \\\n",
       "2014-12-29  14.1  36.2  3.2  218.0  307.0  4.2  60.691097  985.187382   \n",
       "2014-12-30  20.4  36.8  4.8  330.0  367.0  5.8  60.691097  985.187382   \n",
       "2014-12-31  12.7  28.7  7.8  137.0  202.0  6.3  60.691097  985.187382   \n",
       "2015-01-01  20.8  66.5  5.2  230.0  382.0  9.9  60.691097  985.187382   \n",
       "2015-01-02  12.7  33.9  6.0   81.0  172.0  4.2  60.691097  985.187382   \n",
       "\n",
       "            temperature  wind-speed Country_City  Checks    AQI  \\\n",
       "2014-12-29      26.3352    1.102459  India_Delhi       6  307.0   \n",
       "2014-12-30      26.3352    1.102459  India_Delhi       6  367.0   \n",
       "2014-12-31      26.3352    1.102459  India_Delhi       6  202.0   \n",
       "2015-01-01      26.3352    1.102459  India_Delhi       6  382.0   \n",
       "2015-01-02      26.3352    1.102459  India_Delhi       6  172.0   \n",
       "\n",
       "            AQI_smoothed_iqr  AQI_smoothed_zscore  AQI_smoothed_rolling  \n",
       "2014-12-29             307.0                307.0                 307.0  \n",
       "2014-12-30             367.0                367.0                 367.0  \n",
       "2014-12-31             202.0                202.0                 202.0  \n",
       "2015-01-01             382.0                158.0                 382.0  \n",
       "2015-01-02             172.0                172.0                 172.0  "
      ]
     },
     "execution_count": 45,
     "metadata": {},
     "output_type": "execute_result"
    }
   ],
   "source": [
    "new_data4.head()"
   ]
  },
  {
   "cell_type": "code",
   "execution_count": 46,
   "id": "50053a6f",
   "metadata": {
    "execution": {
     "iopub.execute_input": "2025-01-27T16:59:27.124219Z",
     "iopub.status.busy": "2025-01-27T16:59:27.123821Z",
     "iopub.status.idle": "2025-01-27T16:59:27.130103Z",
     "shell.execute_reply": "2025-01-27T16:59:27.128954Z"
    },
    "papermill": {
     "duration": 0.049958,
     "end_time": "2025-01-27T16:59:27.131810",
     "exception": false,
     "start_time": "2025-01-27T16:59:27.081852",
     "status": "completed"
    },
    "tags": []
   },
   "outputs": [
    {
     "data": {
      "text/plain": [
       "Index(['co', 'no2', 'o3', 'pm10', 'pm25', 'so2', 'humidity', 'pressure',\n",
       "       'temperature', 'wind-speed', 'Country_City', 'Checks', 'AQI',\n",
       "       'AQI_smoothed_iqr', 'AQI_smoothed_zscore', 'AQI_smoothed_rolling'],\n",
       "      dtype='object')"
      ]
     },
     "execution_count": 46,
     "metadata": {},
     "output_type": "execute_result"
    }
   ],
   "source": [
    "new_data4.columns"
   ]
  },
  {
   "cell_type": "markdown",
   "id": "7c161fa2",
   "metadata": {
    "papermill": {
     "duration": 0.039009,
     "end_time": "2025-01-27T16:59:27.216499",
     "exception": false,
     "start_time": "2025-01-27T16:59:27.177490",
     "status": "completed"
    },
    "tags": []
   },
   "source": [
    "***Working with AQI_smoothed_iqr***"
   ]
  },
  {
   "cell_type": "code",
   "execution_count": 47,
   "id": "eb770986",
   "metadata": {
    "execution": {
     "iopub.execute_input": "2025-01-27T16:59:27.297194Z",
     "iopub.status.busy": "2025-01-27T16:59:27.296843Z",
     "iopub.status.idle": "2025-01-27T16:59:27.304165Z",
     "shell.execute_reply": "2025-01-27T16:59:27.302848Z"
    },
    "papermill": {
     "duration": 0.049876,
     "end_time": "2025-01-27T16:59:27.306423",
     "exception": false,
     "start_time": "2025-01-27T16:59:27.256547",
     "status": "completed"
    },
    "tags": []
   },
   "outputs": [],
   "source": [
    "data = new_data4.drop(['Country_City', 'Checks', 'AQI', 'AQI_smoothed_zscore', 'AQI_smoothed_rolling'],axis=1)"
   ]
  },
  {
   "cell_type": "code",
   "execution_count": 48,
   "id": "83cf0994",
   "metadata": {
    "execution": {
     "iopub.execute_input": "2025-01-27T16:59:27.395877Z",
     "iopub.status.busy": "2025-01-27T16:59:27.395512Z",
     "iopub.status.idle": "2025-01-27T16:59:27.411957Z",
     "shell.execute_reply": "2025-01-27T16:59:27.410857Z"
    },
    "papermill": {
     "duration": 0.057068,
     "end_time": "2025-01-27T16:59:27.413801",
     "exception": false,
     "start_time": "2025-01-27T16:59:27.356733",
     "status": "completed"
    },
    "tags": []
   },
   "outputs": [
    {
     "data": {
      "text/html": [
       "<div>\n",
       "<style scoped>\n",
       "    .dataframe tbody tr th:only-of-type {\n",
       "        vertical-align: middle;\n",
       "    }\n",
       "\n",
       "    .dataframe tbody tr th {\n",
       "        vertical-align: top;\n",
       "    }\n",
       "\n",
       "    .dataframe thead th {\n",
       "        text-align: right;\n",
       "    }\n",
       "</style>\n",
       "<table border=\"1\" class=\"dataframe\">\n",
       "  <thead>\n",
       "    <tr style=\"text-align: right;\">\n",
       "      <th></th>\n",
       "      <th>co</th>\n",
       "      <th>no2</th>\n",
       "      <th>o3</th>\n",
       "      <th>pm10</th>\n",
       "      <th>pm25</th>\n",
       "      <th>so2</th>\n",
       "      <th>humidity</th>\n",
       "      <th>pressure</th>\n",
       "      <th>temperature</th>\n",
       "      <th>wind-speed</th>\n",
       "      <th>AQI_smoothed_iqr</th>\n",
       "    </tr>\n",
       "  </thead>\n",
       "  <tbody>\n",
       "    <tr>\n",
       "      <th>2014-12-29</th>\n",
       "      <td>14.1</td>\n",
       "      <td>36.2</td>\n",
       "      <td>3.2</td>\n",
       "      <td>218.0</td>\n",
       "      <td>307.0</td>\n",
       "      <td>4.2</td>\n",
       "      <td>60.691097</td>\n",
       "      <td>985.187382</td>\n",
       "      <td>26.3352</td>\n",
       "      <td>1.102459</td>\n",
       "      <td>307.0</td>\n",
       "    </tr>\n",
       "    <tr>\n",
       "      <th>2014-12-30</th>\n",
       "      <td>20.4</td>\n",
       "      <td>36.8</td>\n",
       "      <td>4.8</td>\n",
       "      <td>330.0</td>\n",
       "      <td>367.0</td>\n",
       "      <td>5.8</td>\n",
       "      <td>60.691097</td>\n",
       "      <td>985.187382</td>\n",
       "      <td>26.3352</td>\n",
       "      <td>1.102459</td>\n",
       "      <td>367.0</td>\n",
       "    </tr>\n",
       "    <tr>\n",
       "      <th>2014-12-31</th>\n",
       "      <td>12.7</td>\n",
       "      <td>28.7</td>\n",
       "      <td>7.8</td>\n",
       "      <td>137.0</td>\n",
       "      <td>202.0</td>\n",
       "      <td>6.3</td>\n",
       "      <td>60.691097</td>\n",
       "      <td>985.187382</td>\n",
       "      <td>26.3352</td>\n",
       "      <td>1.102459</td>\n",
       "      <td>202.0</td>\n",
       "    </tr>\n",
       "    <tr>\n",
       "      <th>2015-01-01</th>\n",
       "      <td>20.8</td>\n",
       "      <td>66.5</td>\n",
       "      <td>5.2</td>\n",
       "      <td>230.0</td>\n",
       "      <td>382.0</td>\n",
       "      <td>9.9</td>\n",
       "      <td>60.691097</td>\n",
       "      <td>985.187382</td>\n",
       "      <td>26.3352</td>\n",
       "      <td>1.102459</td>\n",
       "      <td>382.0</td>\n",
       "    </tr>\n",
       "    <tr>\n",
       "      <th>2015-01-02</th>\n",
       "      <td>12.7</td>\n",
       "      <td>33.9</td>\n",
       "      <td>6.0</td>\n",
       "      <td>81.0</td>\n",
       "      <td>172.0</td>\n",
       "      <td>4.2</td>\n",
       "      <td>60.691097</td>\n",
       "      <td>985.187382</td>\n",
       "      <td>26.3352</td>\n",
       "      <td>1.102459</td>\n",
       "      <td>172.0</td>\n",
       "    </tr>\n",
       "  </tbody>\n",
       "</table>\n",
       "</div>"
      ],
      "text/plain": [
       "              co   no2   o3   pm10   pm25  so2   humidity    pressure  \\\n",
       "2014-12-29  14.1  36.2  3.2  218.0  307.0  4.2  60.691097  985.187382   \n",
       "2014-12-30  20.4  36.8  4.8  330.0  367.0  5.8  60.691097  985.187382   \n",
       "2014-12-31  12.7  28.7  7.8  137.0  202.0  6.3  60.691097  985.187382   \n",
       "2015-01-01  20.8  66.5  5.2  230.0  382.0  9.9  60.691097  985.187382   \n",
       "2015-01-02  12.7  33.9  6.0   81.0  172.0  4.2  60.691097  985.187382   \n",
       "\n",
       "            temperature  wind-speed  AQI_smoothed_iqr  \n",
       "2014-12-29      26.3352    1.102459             307.0  \n",
       "2014-12-30      26.3352    1.102459             367.0  \n",
       "2014-12-31      26.3352    1.102459             202.0  \n",
       "2015-01-01      26.3352    1.102459             382.0  \n",
       "2015-01-02      26.3352    1.102459             172.0  "
      ]
     },
     "execution_count": 48,
     "metadata": {},
     "output_type": "execute_result"
    }
   ],
   "source": [
    "data.head()"
   ]
  },
  {
   "cell_type": "code",
   "execution_count": 49,
   "id": "64f5752e",
   "metadata": {
    "execution": {
     "iopub.execute_input": "2025-01-27T16:59:27.502416Z",
     "iopub.status.busy": "2025-01-27T16:59:27.502008Z",
     "iopub.status.idle": "2025-01-27T16:59:27.510283Z",
     "shell.execute_reply": "2025-01-27T16:59:27.509124Z"
    },
    "papermill": {
     "duration": 0.049049,
     "end_time": "2025-01-27T16:59:27.511985",
     "exception": false,
     "start_time": "2025-01-27T16:59:27.462936",
     "status": "completed"
    },
    "tags": []
   },
   "outputs": [
    {
     "name": "stdout",
     "output_type": "stream",
     "text": [
      "Index(['co', 'no2', 'o3', 'pm10', 'pm25', 'so2', 'humidity', 'pressure',\n",
      "       'temperature', 'wind-speed', 'AQI_smoothed_iqr'],\n",
      "      dtype='object')\n",
      "Index([], dtype='object')\n"
     ]
    }
   ],
   "source": [
    "num = data.select_dtypes(include=['int16', 'int32', 'int64', 'float16', 'float32', 'float64'])\n",
    "cat = data.select_dtypes(include=['object'])\n",
    "\n",
    "print(num.columns)\n",
    "print(cat.columns)"
   ]
  },
  {
   "cell_type": "code",
   "execution_count": 50,
   "id": "98b60e42",
   "metadata": {
    "execution": {
     "iopub.execute_input": "2025-01-27T16:59:27.589734Z",
     "iopub.status.busy": "2025-01-27T16:59:27.589393Z",
     "iopub.status.idle": "2025-01-27T16:59:27.599981Z",
     "shell.execute_reply": "2025-01-27T16:59:27.598805Z"
    },
    "papermill": {
     "duration": 0.051203,
     "end_time": "2025-01-27T16:59:27.601747",
     "exception": false,
     "start_time": "2025-01-27T16:59:27.550544",
     "status": "completed"
    },
    "tags": []
   },
   "outputs": [
    {
     "name": "stdout",
     "output_type": "stream",
     "text": [
      "(2559, 10) (2559,) (640, 10) (640,)\n"
     ]
    }
   ],
   "source": [
    "X = data[['co', 'no2', 'o3', 'pm10', 'pm25', 'so2', 'humidity', 'pressure',\n",
    "       'temperature', 'wind-speed']]\n",
    "\n",
    "y = data['AQI_smoothed_iqr']\n",
    "\n",
    "X_train, X_test, y_train, y_test = train_test_split(X, y, test_size = 0.2, random_state = 42)\n",
    "\n",
    "print(X_train.shape, y_train.shape, X_test.shape, y_test.shape)"
   ]
  },
  {
   "cell_type": "code",
   "execution_count": 51,
   "id": "ba8b9ec0",
   "metadata": {
    "execution": {
     "iopub.execute_input": "2025-01-27T16:59:27.682158Z",
     "iopub.status.busy": "2025-01-27T16:59:27.681764Z",
     "iopub.status.idle": "2025-01-27T16:59:27.686921Z",
     "shell.execute_reply": "2025-01-27T16:59:27.685804Z"
    },
    "papermill": {
     "duration": 0.046751,
     "end_time": "2025-01-27T16:59:27.688650",
     "exception": false,
     "start_time": "2025-01-27T16:59:27.641899",
     "status": "completed"
    },
    "tags": []
   },
   "outputs": [],
   "source": [
    "# Standard Scalling the numeric columns\n",
    "preprocessor = ColumnTransformer(\n",
    "    transformers=[\n",
    "        ('num', Pipeline(steps=[ \n",
    "            ('scaler', StandardScaler())\n",
    "        ]), ['co', 'no2', 'o3', 'pm10', 'pm25', 'so2', 'humidity', 'pressure',\n",
    "       'temperature', 'wind-speed'])  \n",
    "    ])\n",
    "# Pipeline\n",
    "pipeline = Pipeline(steps=[\n",
    "    ('preprocessor', preprocessor)\n",
    "])"
   ]
  },
  {
   "cell_type": "markdown",
   "id": "383b2ab5",
   "metadata": {
    "papermill": {
     "duration": 0.039146,
     "end_time": "2025-01-27T16:59:27.767978",
     "exception": false,
     "start_time": "2025-01-27T16:59:27.728832",
     "status": "completed"
    },
    "tags": []
   },
   "source": [
    "# **3.2. Model Training & Testing**"
   ]
  },
  {
   "cell_type": "markdown",
   "id": "1a21b788",
   "metadata": {
    "papermill": {
     "duration": 0.03773,
     "end_time": "2025-01-27T16:59:27.845684",
     "exception": false,
     "start_time": "2025-01-27T16:59:27.807954",
     "status": "completed"
    },
    "tags": []
   },
   "source": [
    "## **3.2.1. LinearRegression**"
   ]
  },
  {
   "cell_type": "code",
   "execution_count": 52,
   "id": "6f3172ed",
   "metadata": {
    "execution": {
     "iopub.execute_input": "2025-01-27T16:59:27.923575Z",
     "iopub.status.busy": "2025-01-27T16:59:27.923202Z",
     "iopub.status.idle": "2025-01-27T16:59:27.942172Z",
     "shell.execute_reply": "2025-01-27T16:59:27.941021Z"
    },
    "papermill": {
     "duration": 0.059996,
     "end_time": "2025-01-27T16:59:27.944100",
     "exception": false,
     "start_time": "2025-01-27T16:59:27.884104",
     "status": "completed"
    },
    "tags": []
   },
   "outputs": [],
   "source": [
    "# training with LinearRegression\n",
    "\n",
    "lm = LinearRegression(fit_intercept = True)\n",
    "\n",
    "pipeline = Pipeline(steps=[('preprocessor', preprocessor), ('regressor', lm)])\n",
    "\n",
    "# Fit the pipeline to the training data\n",
    "pipeline.fit(X_train,y_train)\n",
    "\n",
    "# Predict on the training and test datasets\n",
    "y_pred_train_lm = pipeline.predict(X_train)\n",
    "y_pred_test_lm = pipeline.predict(X_test)"
   ]
  },
  {
   "cell_type": "code",
   "execution_count": 53,
   "id": "8a0d3063",
   "metadata": {
    "execution": {
     "iopub.execute_input": "2025-01-27T16:59:28.025838Z",
     "iopub.status.busy": "2025-01-27T16:59:28.025465Z",
     "iopub.status.idle": "2025-01-27T16:59:28.042449Z",
     "shell.execute_reply": "2025-01-27T16:59:28.041255Z"
    },
    "papermill": {
     "duration": 0.060087,
     "end_time": "2025-01-27T16:59:28.044505",
     "exception": false,
     "start_time": "2025-01-27T16:59:27.984418",
     "status": "completed"
    },
    "tags": []
   },
   "outputs": [
    {
     "name": "stdout",
     "output_type": "stream",
     "text": [
      "The r2 Accuracy on the training dataset prediction is:  0.971575605824904\n",
      "The r2 Accuracy on the test dataset prediction is:  0.9804921207674033\n",
      "\n",
      "The RMSE  on the training dataset is:  11.680317163751663\n",
      "The RMSE  on the testing dataset is:  9.293047965360167\n",
      "\n",
      "The MAE  on the training dataset is:  5.804792090705482\n",
      "The MAE  on the testing dataset is:  5.575487911928219\n",
      "\n",
      "The MSE  on the training dataset is:  136.4298090458317\n",
      "The MSE  on the testing dataset is:  86.36074048648473\n"
     ]
    }
   ],
   "source": [
    "# Model Accuracy on training and testing dataset\n",
    "\n",
    "print('The r2 Accuracy on the training dataset prediction is: ',r2_score(y_train,y_pred_train_lm) )\n",
    "print('The r2 Accuracy on the test dataset prediction is: ',r2_score(y_test,y_pred_test_lm) )\n",
    "\n",
    "print(\"\")\n",
    "\n",
    "# The Root Mean Squared Error (RMSE)\n",
    "print('The RMSE  on the training dataset is: ',sqrt(mean_squared_error(y_train, y_pred_train_lm)))\n",
    "print('The RMSE  on the testing dataset is: ',sqrt(mean_squared_error(y_test, y_pred_test_lm)))\n",
    "\n",
    "print(\"\")\n",
    "# The Mean Absolute Error (MAE)\n",
    "print('The MAE  on the training dataset is: ',mean_absolute_error(y_train, y_pred_train_lm))\n",
    "print('The MAE  on the testing dataset is: ',mean_absolute_error(y_test, y_pred_test_lm))\n",
    "\n",
    "print(\"\")\n",
    "# The Mean Squared Error (MSE)\n",
    "print('The MSE  on the training dataset is: ',mean_squared_error(y_train, y_pred_train_lm))\n",
    "print('The MSE  on the testing dataset is: ',mean_squared_error(y_test, y_pred_test_lm))"
   ]
  },
  {
   "cell_type": "markdown",
   "id": "37006430",
   "metadata": {
    "papermill": {
     "duration": 0.040333,
     "end_time": "2025-01-27T16:59:28.130354",
     "exception": false,
     "start_time": "2025-01-27T16:59:28.090021",
     "status": "completed"
    },
    "tags": []
   },
   "source": [
    "## **3.2.2.  KNeighborsRegressor**"
   ]
  },
  {
   "cell_type": "code",
   "execution_count": 54,
   "id": "8d65e656",
   "metadata": {
    "execution": {
     "iopub.execute_input": "2025-01-27T16:59:28.216435Z",
     "iopub.status.busy": "2025-01-27T16:59:28.216034Z",
     "iopub.status.idle": "2025-01-27T16:59:28.288533Z",
     "shell.execute_reply": "2025-01-27T16:59:28.287380Z"
    },
    "papermill": {
     "duration": 0.114191,
     "end_time": "2025-01-27T16:59:28.290902",
     "exception": false,
     "start_time": "2025-01-27T16:59:28.176711",
     "status": "completed"
    },
    "tags": []
   },
   "outputs": [],
   "source": [
    "# training with KNeighborsRegressor\n",
    "\n",
    "neigh = KNeighborsRegressor(n_neighbors=2)\n",
    "\n",
    "pipeline = Pipeline(steps=[('preprocessor', preprocessor), ('regressor', neigh)])\n",
    "\n",
    "# Fit the pipeline to the training data\n",
    "pipeline.fit(X_train,y_train)\n",
    "\n",
    "# Predict on the training and test datasets\n",
    "y_pred_train_knn = pipeline.predict(X_train)\n",
    "y_pred_test_knn = pipeline.predict(X_test)"
   ]
  },
  {
   "cell_type": "code",
   "execution_count": 55,
   "id": "dbd0fc0b",
   "metadata": {
    "execution": {
     "iopub.execute_input": "2025-01-27T16:59:28.396894Z",
     "iopub.status.busy": "2025-01-27T16:59:28.396533Z",
     "iopub.status.idle": "2025-01-27T16:59:28.416678Z",
     "shell.execute_reply": "2025-01-27T16:59:28.415064Z"
    },
    "papermill": {
     "duration": 0.074908,
     "end_time": "2025-01-27T16:59:28.418917",
     "exception": false,
     "start_time": "2025-01-27T16:59:28.344009",
     "status": "completed"
    },
    "tags": []
   },
   "outputs": [
    {
     "name": "stdout",
     "output_type": "stream",
     "text": [
      "The R2 score on the training dataset prediction is:  0.9881503124550901\n",
      "The R2 score on the test dataset prediction is:  0.9683344557260709\n",
      "\n",
      "The RMSE  on the training dataset is:  7.5415823305495\n",
      "The RMSE  on the testing dataset is:  11.839861663835013\n",
      "\n",
      "The MAE  on the training dataset is:  4.518268855021493\n",
      "The MAE  on the testing dataset is:  7.401171875\n",
      "\n",
      "The MSE  on the training dataset is:  56.87546404845643\n",
      "The MSE  on the testing dataset is:  140.18232421875\n"
     ]
    }
   ],
   "source": [
    "# Model Accuracy on training dataset\n",
    "print('The R2 score on the training dataset prediction is: ', r2_score(y_train,y_pred_train_knn))\n",
    "print('The R2 score on the test dataset prediction is: ', r2_score(y_test, y_pred_test_knn))\n",
    "print(\"\")\n",
    "\n",
    "# The Root Mean Squared Error (RMSE)\n",
    "print('The RMSE  on the training dataset is: ',sqrt(mean_squared_error(y_train,y_pred_train_knn)))\n",
    "print('The RMSE  on the testing dataset is: ',sqrt(mean_squared_error(y_test, y_pred_test_knn)))\n",
    "\n",
    "print(\"\")\n",
    "# The Mean Absolute Error (MAE)\n",
    "print('The MAE  on the training dataset is: ',mean_absolute_error(y_train,y_pred_train_knn))\n",
    "print('The MAE  on the testing dataset is: ',mean_absolute_error(y_test, y_pred_test_knn))\n",
    "\n",
    "print(\"\")\n",
    "# The Mean Squared Error (MSE)\n",
    "print('The MSE  on the training dataset is: ',mean_squared_error(y_train, y_pred_train_knn))\n",
    "print('The MSE  on the testing dataset is: ',mean_squared_error(y_test, y_pred_test_knn))"
   ]
  },
  {
   "cell_type": "markdown",
   "id": "41264f01",
   "metadata": {
    "papermill": {
     "duration": 0.038327,
     "end_time": "2025-01-27T16:59:28.496542",
     "exception": false,
     "start_time": "2025-01-27T16:59:28.458215",
     "status": "completed"
    },
    "tags": []
   },
   "source": [
    "## **3.2.3.  Random Forest Regressor**"
   ]
  },
  {
   "cell_type": "code",
   "execution_count": 56,
   "id": "7ea645c5",
   "metadata": {
    "execution": {
     "iopub.execute_input": "2025-01-27T16:59:28.574651Z",
     "iopub.status.busy": "2025-01-27T16:59:28.574317Z",
     "iopub.status.idle": "2025-01-27T16:59:29.594037Z",
     "shell.execute_reply": "2025-01-27T16:59:29.593073Z"
    },
    "papermill": {
     "duration": 1.061003,
     "end_time": "2025-01-27T16:59:29.595968",
     "exception": false,
     "start_time": "2025-01-27T16:59:28.534965",
     "status": "completed"
    },
    "tags": []
   },
   "outputs": [],
   "source": [
    "# Training with random forest regressor\n",
    "random = RandomForestRegressor()\n",
    "\n",
    "pipeline = Pipeline(steps=[('preprocessor', preprocessor), ('regressor', random)])\n",
    "\n",
    "# Fit the pipeline to the training data\n",
    "pipeline.fit(X_train,y_train)\n",
    "\n",
    "# Predict on the training and test datasets\n",
    "y_pred_train_random = pipeline.predict(X_train)\n",
    "y_pred_test_random = pipeline.predict(X_test)"
   ]
  },
  {
   "cell_type": "code",
   "execution_count": 57,
   "id": "4c5bf281",
   "metadata": {
    "execution": {
     "iopub.execute_input": "2025-01-27T16:59:29.674501Z",
     "iopub.status.busy": "2025-01-27T16:59:29.674173Z",
     "iopub.status.idle": "2025-01-27T16:59:29.691266Z",
     "shell.execute_reply": "2025-01-27T16:59:29.690098Z"
    },
    "papermill": {
     "duration": 0.058142,
     "end_time": "2025-01-27T16:59:29.692932",
     "exception": false,
     "start_time": "2025-01-27T16:59:29.634790",
     "status": "completed"
    },
    "tags": []
   },
   "outputs": [
    {
     "name": "stdout",
     "output_type": "stream",
     "text": [
      "The R2 score on the training dataset prediction is:  0.9993846214045392\n",
      "The R2 score on the test dataset prediction is:  0.9983697143320134\n",
      "\n",
      "The RMSE  on the training dataset is:  1.7186214195749465\n",
      "The RMSE  on the testing dataset is:  2.686488617833695\n",
      "\n",
      "The MAE  on the training dataset is:  0.25148690894880826\n",
      "The MAE  on the testing dataset is:  0.5628906249999999\n",
      "\n",
      "The MSE  on the training dataset is:  2.9536595838218043\n",
      "The MSE  on the testing dataset is:  7.2172210937499965\n"
     ]
    }
   ],
   "source": [
    "# Model Accuracy on training dataset\n",
    "print('The R2 score on the training dataset prediction is: ', r2_score(y_train,y_pred_train_random))\n",
    "print('The R2 score on the test dataset prediction is: ', r2_score(y_test, y_pred_test_random))\n",
    "print(\"\")\n",
    "\n",
    "# The Root Mean Squared Error (RMSE)\n",
    "print('The RMSE  on the training dataset is: ',sqrt(mean_squared_error(y_train,y_pred_train_random)))\n",
    "print('The RMSE  on the testing dataset is: ',sqrt(mean_squared_error(y_test, y_pred_test_random)))\n",
    "\n",
    "print(\"\")\n",
    "# The Mean Absolute Error (MAE)\n",
    "print('The MAE  on the training dataset is: ',mean_absolute_error(y_train,y_pred_train_random))\n",
    "print('The MAE  on the testing dataset is: ',mean_absolute_error(y_test, y_pred_test_random))\n",
    "\n",
    "print(\"\")\n",
    "# The Mean Squared Error (MSE)\n",
    "print('The MSE  on the training dataset is: ',mean_squared_error(y_train, y_pred_train_random))\n",
    "print('The MSE  on the testing dataset is: ',mean_squared_error(y_test, y_pred_test_random))"
   ]
  },
  {
   "cell_type": "markdown",
   "id": "0eb0e512",
   "metadata": {
    "papermill": {
     "duration": 0.038189,
     "end_time": "2025-01-27T16:59:29.770163",
     "exception": false,
     "start_time": "2025-01-27T16:59:29.731974",
     "status": "completed"
    },
    "tags": []
   },
   "source": [
    "## **3.2.4.  Decision Tree regressor**"
   ]
  },
  {
   "cell_type": "code",
   "execution_count": 58,
   "id": "fef72269",
   "metadata": {
    "execution": {
     "iopub.execute_input": "2025-01-27T16:59:29.847724Z",
     "iopub.status.busy": "2025-01-27T16:59:29.847344Z",
     "iopub.status.idle": "2025-01-27T16:59:29.876607Z",
     "shell.execute_reply": "2025-01-27T16:59:29.875528Z"
    },
    "papermill": {
     "duration": 0.070197,
     "end_time": "2025-01-27T16:59:29.878501",
     "exception": false,
     "start_time": "2025-01-27T16:59:29.808304",
     "status": "completed"
    },
    "tags": []
   },
   "outputs": [],
   "source": [
    "# Training with Decision Tree regressor\n",
    "dt = DecisionTreeRegressor()\n",
    "\n",
    "pipeline = Pipeline(steps=[('preprocessor', preprocessor), ('regressor', dt)])\n",
    "\n",
    "# Fit the pipeline to the training data\n",
    "pipeline.fit(X_train,y_train)\n",
    "\n",
    "# Predict on the training and test datasets\n",
    "y_pred_train_dt = pipeline.predict(X_train)\n",
    "y_pred_test_dt = pipeline.predict(X_test)"
   ]
  },
  {
   "cell_type": "code",
   "execution_count": 59,
   "id": "ebeaa14a",
   "metadata": {
    "execution": {
     "iopub.execute_input": "2025-01-27T16:59:29.956780Z",
     "iopub.status.busy": "2025-01-27T16:59:29.956423Z",
     "iopub.status.idle": "2025-01-27T16:59:29.970185Z",
     "shell.execute_reply": "2025-01-27T16:59:29.969040Z"
    },
    "papermill": {
     "duration": 0.054775,
     "end_time": "2025-01-27T16:59:29.971901",
     "exception": false,
     "start_time": "2025-01-27T16:59:29.917126",
     "status": "completed"
    },
    "tags": []
   },
   "outputs": [
    {
     "name": "stdout",
     "output_type": "stream",
     "text": [
      "The R2 score on the training dataset prediction is:  1.0\n",
      "The R2 score on the test dataset prediction is:  0.9977615000757655\n",
      "\n",
      "The RMSE  on the training dataset is:  0.0\n",
      "The RMSE  on the testing dataset is:  3.147978021683125\n",
      "\n",
      "The MAE  on the training dataset is:  0.0\n",
      "The MAE  on the testing dataset is:  0.66796875\n",
      "\n",
      "The MSE  on the training dataset is:  0.0\n",
      "The MSE  on the testing dataset is:  9.909765625\n"
     ]
    }
   ],
   "source": [
    "# Model Accuracy on training dataset\n",
    "print('The R2 score on the training dataset prediction is: ', r2_score(y_train,y_pred_train_dt))\n",
    "print('The R2 score on the test dataset prediction is: ', r2_score(y_test, y_pred_test_dt))\n",
    "print(\"\")\n",
    "\n",
    "# The Root Mean Squared Error (RMSE)\n",
    "print('The RMSE  on the training dataset is: ',sqrt(mean_squared_error(y_train,y_pred_train_dt)))\n",
    "print('The RMSE  on the testing dataset is: ',sqrt(mean_squared_error(y_test, y_pred_test_dt)))\n",
    "\n",
    "print(\"\")\n",
    "# The Mean Absolute Error (MAE)\n",
    "print('The MAE  on the training dataset is: ',mean_absolute_error(y_train,y_pred_train_dt))\n",
    "print('The MAE  on the testing dataset is: ',mean_absolute_error(y_test, y_pred_test_dt))\n",
    "\n",
    "print(\"\")\n",
    "# The Mean Squared Error (MSE)\n",
    "print('The MSE  on the training dataset is: ',mean_squared_error(y_train, y_pred_train_dt))\n",
    "print('The MSE  on the testing dataset is: ',mean_squared_error(y_test, y_pred_test_dt))"
   ]
  },
  {
   "cell_type": "markdown",
   "id": "52dd1bcf",
   "metadata": {
    "papermill": {
     "duration": 0.038542,
     "end_time": "2025-01-27T16:59:30.049485",
     "exception": false,
     "start_time": "2025-01-27T16:59:30.010943",
     "status": "completed"
    },
    "tags": []
   },
   "source": [
    "## **3.2.5.  Support Vector Machine regressor**"
   ]
  },
  {
   "cell_type": "code",
   "execution_count": 60,
   "id": "ca984245",
   "metadata": {
    "execution": {
     "iopub.execute_input": "2025-01-27T16:59:30.128863Z",
     "iopub.status.busy": "2025-01-27T16:59:30.128532Z",
     "iopub.status.idle": "2025-01-27T16:59:31.802968Z",
     "shell.execute_reply": "2025-01-27T16:59:31.802037Z"
    },
    "papermill": {
     "duration": 1.716672,
     "end_time": "2025-01-27T16:59:31.805001",
     "exception": false,
     "start_time": "2025-01-27T16:59:30.088329",
     "status": "completed"
    },
    "tags": []
   },
   "outputs": [],
   "source": [
    "# Training with Support Vector Machine regressor\n",
    "svr = SVR(kernel='linear')\n",
    "\n",
    "pipeline = Pipeline(steps=[('preprocessor', preprocessor), ('regressor', svr)])\n",
    "\n",
    "# Fit the pipeline to the training data\n",
    "pipeline.fit(X_train, y_train)\n",
    "\n",
    "# Predict on the training and test datasets\n",
    "y_pred_train_svr = pipeline.predict(X_train)\n",
    "y_pred_test_svr = pipeline.predict(X_test)"
   ]
  },
  {
   "cell_type": "code",
   "execution_count": 61,
   "id": "8f06a7be",
   "metadata": {
    "execution": {
     "iopub.execute_input": "2025-01-27T16:59:31.888631Z",
     "iopub.status.busy": "2025-01-27T16:59:31.888262Z",
     "iopub.status.idle": "2025-01-27T16:59:31.906329Z",
     "shell.execute_reply": "2025-01-27T16:59:31.905087Z"
    },
    "papermill": {
     "duration": 0.063337,
     "end_time": "2025-01-27T16:59:31.908041",
     "exception": false,
     "start_time": "2025-01-27T16:59:31.844704",
     "status": "completed"
    },
    "tags": []
   },
   "outputs": [
    {
     "name": "stdout",
     "output_type": "stream",
     "text": [
      "The R2 score on the training dataset prediction is:  0.9412475252092073\n",
      "The R2 score on the test dataset prediction is:  0.9552176801212255\n",
      "\n",
      "The RMSE on the training dataset is:  16.792761096304368\n",
      "The RMSE on the testing dataset is:  14.080122829962145\n",
      "\n",
      "The MAE on the training dataset is:  2.858560869334052\n",
      "The MAE on the testing dataset is:  2.2001524641596695\n",
      "\n",
      "The MSE  on the training dataset is:  281.9968252375535\n",
      "The MSE  on the testing dataset is:  198.24985890682117\n"
     ]
    }
   ],
   "source": [
    "# Model Accuracy on training dataset\n",
    "print('The R2 score on the training dataset prediction is: ', r2_score(y_train, y_pred_train_svr))\n",
    "print('The R2 score on the test dataset prediction is: ', r2_score(y_test, y_pred_test_svr))\n",
    "print(\"\")\n",
    "\n",
    "# The Root Mean Squared Error (RMSE)\n",
    "print('The RMSE on the training dataset is: ', sqrt(mean_squared_error(y_train, y_pred_train_svr)))\n",
    "print('The RMSE on the testing dataset is: ', sqrt(mean_squared_error(y_test, y_pred_test_svr)))\n",
    "print(\"\")\n",
    "\n",
    "# The Mean Absolute Error (MAE)\n",
    "print('The MAE on the training dataset is: ', mean_absolute_error(y_train, y_pred_train_svr))\n",
    "print('The MAE on the testing dataset is: ', mean_absolute_error(y_test, y_pred_test_svr))\n",
    "\n",
    "print(\"\")\n",
    "# The Mean Squared Error (MSE)\n",
    "print('The MSE  on the training dataset is: ',mean_squared_error(y_train, y_pred_train_svr))\n",
    "print('The MSE  on the testing dataset is: ',mean_squared_error(y_test, y_pred_test_svr))"
   ]
  },
  {
   "cell_type": "markdown",
   "id": "b889b39e",
   "metadata": {
    "papermill": {
     "duration": 0.038023,
     "end_time": "2025-01-27T16:59:31.985449",
     "exception": false,
     "start_time": "2025-01-27T16:59:31.947426",
     "status": "completed"
    },
    "tags": []
   },
   "source": [
    "## **3.2.6.  XGBoost Regressor**"
   ]
  },
  {
   "cell_type": "code",
   "execution_count": 62,
   "id": "c9e60bc4",
   "metadata": {
    "execution": {
     "iopub.execute_input": "2025-01-27T16:59:32.065739Z",
     "iopub.status.busy": "2025-01-27T16:59:32.065237Z",
     "iopub.status.idle": "2025-01-27T16:59:32.203868Z",
     "shell.execute_reply": "2025-01-27T16:59:32.203011Z"
    },
    "papermill": {
     "duration": 0.180229,
     "end_time": "2025-01-27T16:59:32.205957",
     "exception": false,
     "start_time": "2025-01-27T16:59:32.025728",
     "status": "completed"
    },
    "tags": []
   },
   "outputs": [],
   "source": [
    "# Training with XGBoost regressor\n",
    "xgb_regressor = XGBRegressor(objective='reg:squarederror')\n",
    "\n",
    "pipeline = Pipeline(steps=[('preprocessor', preprocessor), ('regressor', xgb_regressor)])\n",
    "\n",
    "# Fit the pipeline to the training data\n",
    "pipeline.fit(X_train, y_train)\n",
    "\n",
    "# Predict on the training and test datasets\n",
    "y_pred_train_xgb = pipeline.predict(X_train)\n",
    "y_pred_test_xgb = pipeline.predict(X_test)"
   ]
  },
  {
   "cell_type": "code",
   "execution_count": 63,
   "id": "e889bce3",
   "metadata": {
    "execution": {
     "iopub.execute_input": "2025-01-27T16:59:32.289088Z",
     "iopub.status.busy": "2025-01-27T16:59:32.288689Z",
     "iopub.status.idle": "2025-01-27T16:59:32.306722Z",
     "shell.execute_reply": "2025-01-27T16:59:32.305563Z"
    },
    "papermill": {
     "duration": 0.059542,
     "end_time": "2025-01-27T16:59:32.308518",
     "exception": false,
     "start_time": "2025-01-27T16:59:32.248976",
     "status": "completed"
    },
    "tags": []
   },
   "outputs": [
    {
     "name": "stdout",
     "output_type": "stream",
     "text": [
      "The R2 score on the training dataset prediction is:  0.9999917243791947\n",
      "The R2 score on the test dataset prediction is:  0.9973126151042563\n",
      "\n",
      "The RMSE on the training dataset is:  0.19930092688666182\n",
      "The RMSE on the testing dataset is:  3.4491976816390433\n",
      "\n",
      "The MAE on the training dataset is:  0.12236696670371232\n",
      "The MAE on the testing dataset is:  0.9527172446250916\n",
      "\n",
      "The MSE  on the training dataset is:  0.039720859457882514\n",
      "The MSE  on the testing dataset is:  11.896964647024152\n"
     ]
    }
   ],
   "source": [
    "# Model Accuracy on training dataset\n",
    "print('The R2 score on the training dataset prediction is: ', r2_score(y_train, y_pred_train_xgb))\n",
    "print('The R2 score on the test dataset prediction is: ', r2_score(y_test, y_pred_test_xgb))\n",
    "print(\"\")\n",
    "\n",
    "# The Root Mean Squared Error (RMSE)\n",
    "print('The RMSE on the training dataset is: ', sqrt(mean_squared_error(y_train, y_pred_train_xgb)))\n",
    "print('The RMSE on the testing dataset is: ', sqrt(mean_squared_error(y_test, y_pred_test_xgb)))\n",
    "print(\"\")\n",
    "\n",
    "# The Mean Absolute Error (MAE)\n",
    "print('The MAE on the training dataset is: ', mean_absolute_error(y_train, y_pred_train_xgb))\n",
    "print('The MAE on the testing dataset is: ', mean_absolute_error(y_test, y_pred_test_xgb))\n",
    "\n",
    "print(\"\")\n",
    "# The Mean Squared Error (MSE)\n",
    "print('The MSE  on the training dataset is: ',mean_squared_error(y_train, y_pred_train_xgb))\n",
    "print('The MSE  on the testing dataset is: ',mean_squared_error(y_test, y_pred_test_xgb))"
   ]
  },
  {
   "cell_type": "markdown",
   "id": "655e2dce",
   "metadata": {
    "papermill": {
     "duration": 0.038257,
     "end_time": "2025-01-27T16:59:32.386287",
     "exception": false,
     "start_time": "2025-01-27T16:59:32.348030",
     "status": "completed"
    },
    "tags": []
   },
   "source": [
    "## **3.2.7.  Neural Network Regressor**"
   ]
  },
  {
   "cell_type": "code",
   "execution_count": 64,
   "id": "8a6c73ec",
   "metadata": {
    "execution": {
     "iopub.execute_input": "2025-01-27T16:59:32.465112Z",
     "iopub.status.busy": "2025-01-27T16:59:32.464682Z",
     "iopub.status.idle": "2025-01-27T16:59:40.447824Z",
     "shell.execute_reply": "2025-01-27T16:59:40.446447Z"
    },
    "papermill": {
     "duration": 8.025011,
     "end_time": "2025-01-27T16:59:40.449776",
     "exception": false,
     "start_time": "2025-01-27T16:59:32.424765",
     "status": "completed"
    },
    "tags": []
   },
   "outputs": [
    {
     "name": "stderr",
     "output_type": "stream",
     "text": [
      "/usr/local/lib/python3.10/dist-packages/sklearn/neural_network/_multilayer_perceptron.py:686: ConvergenceWarning: Stochastic Optimizer: Maximum iterations (2000) reached and the optimization hasn't converged yet.\n",
      "  warnings.warn(\n"
     ]
    }
   ],
   "source": [
    "# training with neural network regressor\n",
    "\n",
    "nn = MLPRegressor(hidden_layer_sizes=(8,), activation='relu', solver='adam', max_iter=2000, learning_rate_init=0.001)\n",
    "\n",
    "pipeline = Pipeline(steps=[('preprocessor', preprocessor), ('regressor', nn)])\n",
    "\n",
    "# Fit the pipeline to the training data\n",
    "pipeline.fit(X_train,y_train)\n",
    "\n",
    "# Predict on the training and test datasets\n",
    "y_pred_train_nn = pipeline.predict(X_train)\n",
    "y_pred_test_nn = pipeline.predict(X_test)"
   ]
  },
  {
   "cell_type": "code",
   "execution_count": 65,
   "id": "b60bd0a7",
   "metadata": {
    "execution": {
     "iopub.execute_input": "2025-01-27T16:59:40.529712Z",
     "iopub.status.busy": "2025-01-27T16:59:40.529373Z",
     "iopub.status.idle": "2025-01-27T16:59:40.543831Z",
     "shell.execute_reply": "2025-01-27T16:59:40.542621Z"
    },
    "papermill": {
     "duration": 0.05617,
     "end_time": "2025-01-27T16:59:40.545566",
     "exception": false,
     "start_time": "2025-01-27T16:59:40.489396",
     "status": "completed"
    },
    "tags": []
   },
   "outputs": [
    {
     "name": "stdout",
     "output_type": "stream",
     "text": [
      "The R2 score on the training dataset prediction is:  0.9799304484392967\n",
      "The R2 score on the test dataset prediction is:  0.9878348793160197\n",
      "\n",
      "The RMSE on the training dataset is:  9.814718804063775\n",
      "The RMSE on the testing dataset is:  7.338568635458394\n",
      "\n",
      "The MAE on the training dataset is:  4.477051689670137\n",
      "The MAE on the testing dataset is:  4.225071175453303\n",
      "\n",
      "The MSE  on the training dataset is:  96.32870520284305\n",
      "The MSE  on the testing dataset is:  53.85458961733367\n"
     ]
    }
   ],
   "source": [
    "# Model Accuracy on training dataset\n",
    "print('The R2 score on the training dataset prediction is: ', r2_score(y_train, y_pred_train_nn))\n",
    "print('The R2 score on the test dataset prediction is: ', r2_score(y_test, y_pred_test_nn))\n",
    "print(\"\")\n",
    "\n",
    "# The Root Mean Squared Error (RMSE)\n",
    "print('The RMSE on the training dataset is: ', sqrt(mean_squared_error(y_train, y_pred_train_nn)))\n",
    "print('The RMSE on the testing dataset is: ', sqrt(mean_squared_error(y_test, y_pred_test_nn)))\n",
    "print(\"\")\n",
    "\n",
    "# The Mean Absolute Error (MAE)\n",
    "print('The MAE on the training dataset is: ', mean_absolute_error(y_train, y_pred_train_nn))\n",
    "print('The MAE on the testing dataset is: ', mean_absolute_error(y_test, y_pred_test_nn))\n",
    "\n",
    "print(\"\")\n",
    "# The Mean Squared Error (MSE)\n",
    "print('The MSE  on the training dataset is: ',mean_squared_error(y_train, y_pred_train_nn))\n",
    "print('The MSE  on the testing dataset is: ',mean_squared_error(y_test, y_pred_test_nn))"
   ]
  },
  {
   "cell_type": "code",
   "execution_count": null,
   "id": "7ba00733",
   "metadata": {
    "papermill": {
     "duration": 0.038369,
     "end_time": "2025-01-27T16:59:40.622648",
     "exception": false,
     "start_time": "2025-01-27T16:59:40.584279",
     "status": "completed"
    },
    "tags": []
   },
   "outputs": [],
   "source": []
  },
  {
   "cell_type": "code",
   "execution_count": null,
   "id": "05b1cfc2",
   "metadata": {
    "papermill": {
     "duration": 0.038473,
     "end_time": "2025-01-27T16:59:40.701561",
     "exception": false,
     "start_time": "2025-01-27T16:59:40.663088",
     "status": "completed"
    },
    "tags": []
   },
   "outputs": [],
   "source": []
  },
  {
   "cell_type": "code",
   "execution_count": null,
   "id": "0992a1f6",
   "metadata": {
    "papermill": {
     "duration": 0.038841,
     "end_time": "2025-01-27T16:59:40.778985",
     "exception": false,
     "start_time": "2025-01-27T16:59:40.740144",
     "status": "completed"
    },
    "tags": []
   },
   "outputs": [],
   "source": []
  },
  {
   "cell_type": "markdown",
   "id": "484c2eb5",
   "metadata": {
    "papermill": {
     "duration": 0.038148,
     "end_time": "2025-01-27T16:59:40.855826",
     "exception": false,
     "start_time": "2025-01-27T16:59:40.817678",
     "status": "completed"
    },
    "tags": []
   },
   "source": [
    "# **4.1. Splitting & Preprocessing the Raw Data(zscore)**"
   ]
  },
  {
   "cell_type": "markdown",
   "id": "8271deb9",
   "metadata": {
    "papermill": {
     "duration": 0.038443,
     "end_time": "2025-01-27T16:59:40.932784",
     "exception": false,
     "start_time": "2025-01-27T16:59:40.894341",
     "status": "completed"
    },
    "tags": []
   },
   "source": [
    "AQI smoothed zscore"
   ]
  },
  {
   "cell_type": "code",
   "execution_count": 66,
   "id": "dac43378",
   "metadata": {
    "execution": {
     "iopub.execute_input": "2025-01-27T16:59:41.011921Z",
     "iopub.status.busy": "2025-01-27T16:59:41.011579Z",
     "iopub.status.idle": "2025-01-27T16:59:41.031086Z",
     "shell.execute_reply": "2025-01-27T16:59:41.030146Z"
    },
    "papermill": {
     "duration": 0.060722,
     "end_time": "2025-01-27T16:59:41.032564",
     "exception": false,
     "start_time": "2025-01-27T16:59:40.971842",
     "status": "completed"
    },
    "tags": []
   },
   "outputs": [
    {
     "data": {
      "text/html": [
       "<div>\n",
       "<style scoped>\n",
       "    .dataframe tbody tr th:only-of-type {\n",
       "        vertical-align: middle;\n",
       "    }\n",
       "\n",
       "    .dataframe tbody tr th {\n",
       "        vertical-align: top;\n",
       "    }\n",
       "\n",
       "    .dataframe thead th {\n",
       "        text-align: right;\n",
       "    }\n",
       "</style>\n",
       "<table border=\"1\" class=\"dataframe\">\n",
       "  <thead>\n",
       "    <tr style=\"text-align: right;\">\n",
       "      <th></th>\n",
       "      <th>co</th>\n",
       "      <th>no2</th>\n",
       "      <th>o3</th>\n",
       "      <th>pm10</th>\n",
       "      <th>pm25</th>\n",
       "      <th>so2</th>\n",
       "      <th>humidity</th>\n",
       "      <th>pressure</th>\n",
       "      <th>temperature</th>\n",
       "      <th>wind-speed</th>\n",
       "      <th>Country_City</th>\n",
       "      <th>Checks</th>\n",
       "      <th>AQI</th>\n",
       "      <th>AQI_smoothed_iqr</th>\n",
       "      <th>AQI_smoothed_zscore</th>\n",
       "      <th>AQI_smoothed_rolling</th>\n",
       "    </tr>\n",
       "  </thead>\n",
       "  <tbody>\n",
       "    <tr>\n",
       "      <th>2014-12-29</th>\n",
       "      <td>14.1</td>\n",
       "      <td>36.2</td>\n",
       "      <td>3.2</td>\n",
       "      <td>218.0</td>\n",
       "      <td>307.0</td>\n",
       "      <td>4.2</td>\n",
       "      <td>60.691097</td>\n",
       "      <td>985.187382</td>\n",
       "      <td>26.3352</td>\n",
       "      <td>1.102459</td>\n",
       "      <td>India_Delhi</td>\n",
       "      <td>6</td>\n",
       "      <td>307.0</td>\n",
       "      <td>307.0</td>\n",
       "      <td>307.0</td>\n",
       "      <td>307.0</td>\n",
       "    </tr>\n",
       "    <tr>\n",
       "      <th>2014-12-30</th>\n",
       "      <td>20.4</td>\n",
       "      <td>36.8</td>\n",
       "      <td>4.8</td>\n",
       "      <td>330.0</td>\n",
       "      <td>367.0</td>\n",
       "      <td>5.8</td>\n",
       "      <td>60.691097</td>\n",
       "      <td>985.187382</td>\n",
       "      <td>26.3352</td>\n",
       "      <td>1.102459</td>\n",
       "      <td>India_Delhi</td>\n",
       "      <td>6</td>\n",
       "      <td>367.0</td>\n",
       "      <td>367.0</td>\n",
       "      <td>367.0</td>\n",
       "      <td>367.0</td>\n",
       "    </tr>\n",
       "    <tr>\n",
       "      <th>2014-12-31</th>\n",
       "      <td>12.7</td>\n",
       "      <td>28.7</td>\n",
       "      <td>7.8</td>\n",
       "      <td>137.0</td>\n",
       "      <td>202.0</td>\n",
       "      <td>6.3</td>\n",
       "      <td>60.691097</td>\n",
       "      <td>985.187382</td>\n",
       "      <td>26.3352</td>\n",
       "      <td>1.102459</td>\n",
       "      <td>India_Delhi</td>\n",
       "      <td>6</td>\n",
       "      <td>202.0</td>\n",
       "      <td>202.0</td>\n",
       "      <td>202.0</td>\n",
       "      <td>202.0</td>\n",
       "    </tr>\n",
       "    <tr>\n",
       "      <th>2015-01-01</th>\n",
       "      <td>20.8</td>\n",
       "      <td>66.5</td>\n",
       "      <td>5.2</td>\n",
       "      <td>230.0</td>\n",
       "      <td>382.0</td>\n",
       "      <td>9.9</td>\n",
       "      <td>60.691097</td>\n",
       "      <td>985.187382</td>\n",
       "      <td>26.3352</td>\n",
       "      <td>1.102459</td>\n",
       "      <td>India_Delhi</td>\n",
       "      <td>6</td>\n",
       "      <td>382.0</td>\n",
       "      <td>382.0</td>\n",
       "      <td>158.0</td>\n",
       "      <td>382.0</td>\n",
       "    </tr>\n",
       "    <tr>\n",
       "      <th>2015-01-02</th>\n",
       "      <td>12.7</td>\n",
       "      <td>33.9</td>\n",
       "      <td>6.0</td>\n",
       "      <td>81.0</td>\n",
       "      <td>172.0</td>\n",
       "      <td>4.2</td>\n",
       "      <td>60.691097</td>\n",
       "      <td>985.187382</td>\n",
       "      <td>26.3352</td>\n",
       "      <td>1.102459</td>\n",
       "      <td>India_Delhi</td>\n",
       "      <td>6</td>\n",
       "      <td>172.0</td>\n",
       "      <td>172.0</td>\n",
       "      <td>172.0</td>\n",
       "      <td>172.0</td>\n",
       "    </tr>\n",
       "  </tbody>\n",
       "</table>\n",
       "</div>"
      ],
      "text/plain": [
       "              co   no2   o3   pm10   pm25  so2   humidity    pressure  \\\n",
       "2014-12-29  14.1  36.2  3.2  218.0  307.0  4.2  60.691097  985.187382   \n",
       "2014-12-30  20.4  36.8  4.8  330.0  367.0  5.8  60.691097  985.187382   \n",
       "2014-12-31  12.7  28.7  7.8  137.0  202.0  6.3  60.691097  985.187382   \n",
       "2015-01-01  20.8  66.5  5.2  230.0  382.0  9.9  60.691097  985.187382   \n",
       "2015-01-02  12.7  33.9  6.0   81.0  172.0  4.2  60.691097  985.187382   \n",
       "\n",
       "            temperature  wind-speed Country_City  Checks    AQI  \\\n",
       "2014-12-29      26.3352    1.102459  India_Delhi       6  307.0   \n",
       "2014-12-30      26.3352    1.102459  India_Delhi       6  367.0   \n",
       "2014-12-31      26.3352    1.102459  India_Delhi       6  202.0   \n",
       "2015-01-01      26.3352    1.102459  India_Delhi       6  382.0   \n",
       "2015-01-02      26.3352    1.102459  India_Delhi       6  172.0   \n",
       "\n",
       "            AQI_smoothed_iqr  AQI_smoothed_zscore  AQI_smoothed_rolling  \n",
       "2014-12-29             307.0                307.0                 307.0  \n",
       "2014-12-30             367.0                367.0                 367.0  \n",
       "2014-12-31             202.0                202.0                 202.0  \n",
       "2015-01-01             382.0                158.0                 382.0  \n",
       "2015-01-02             172.0                172.0                 172.0  "
      ]
     },
     "execution_count": 66,
     "metadata": {},
     "output_type": "execute_result"
    }
   ],
   "source": [
    "new_data4.head()"
   ]
  },
  {
   "cell_type": "code",
   "execution_count": 67,
   "id": "6204c08f",
   "metadata": {
    "execution": {
     "iopub.execute_input": "2025-01-27T16:59:41.170830Z",
     "iopub.status.busy": "2025-01-27T16:59:41.170492Z",
     "iopub.status.idle": "2025-01-27T16:59:41.176276Z",
     "shell.execute_reply": "2025-01-27T16:59:41.175186Z"
    },
    "papermill": {
     "duration": 0.048772,
     "end_time": "2025-01-27T16:59:41.177818",
     "exception": false,
     "start_time": "2025-01-27T16:59:41.129046",
     "status": "completed"
    },
    "tags": []
   },
   "outputs": [
    {
     "data": {
      "text/plain": [
       "Index(['co', 'no2', 'o3', 'pm10', 'pm25', 'so2', 'humidity', 'pressure',\n",
       "       'temperature', 'wind-speed', 'Country_City', 'Checks', 'AQI',\n",
       "       'AQI_smoothed_iqr', 'AQI_smoothed_zscore', 'AQI_smoothed_rolling'],\n",
       "      dtype='object')"
      ]
     },
     "execution_count": 67,
     "metadata": {},
     "output_type": "execute_result"
    }
   ],
   "source": [
    "new_data4.columns"
   ]
  },
  {
   "cell_type": "markdown",
   "id": "7abbd714",
   "metadata": {
    "papermill": {
     "duration": 0.038782,
     "end_time": "2025-01-27T16:59:41.256764",
     "exception": false,
     "start_time": "2025-01-27T16:59:41.217982",
     "status": "completed"
    },
    "tags": []
   },
   "source": [
    "***Working with AQI_smoothed_zscore***"
   ]
  },
  {
   "cell_type": "code",
   "execution_count": 68,
   "id": "9b473394",
   "metadata": {
    "execution": {
     "iopub.execute_input": "2025-01-27T16:59:41.339865Z",
     "iopub.status.busy": "2025-01-27T16:59:41.339510Z",
     "iopub.status.idle": "2025-01-27T16:59:41.344483Z",
     "shell.execute_reply": "2025-01-27T16:59:41.343608Z"
    },
    "papermill": {
     "duration": 0.047684,
     "end_time": "2025-01-27T16:59:41.346306",
     "exception": false,
     "start_time": "2025-01-27T16:59:41.298622",
     "status": "completed"
    },
    "tags": []
   },
   "outputs": [],
   "source": [
    "data = new_data4.drop(['Country_City', 'Checks', 'AQI',\n",
    "       'AQI_smoothed_iqr', 'AQI_smoothed_rolling'],axis=1)"
   ]
  },
  {
   "cell_type": "code",
   "execution_count": 69,
   "id": "bcaf4de1",
   "metadata": {
    "execution": {
     "iopub.execute_input": "2025-01-27T16:59:41.425692Z",
     "iopub.status.busy": "2025-01-27T16:59:41.425360Z",
     "iopub.status.idle": "2025-01-27T16:59:41.441431Z",
     "shell.execute_reply": "2025-01-27T16:59:41.440366Z"
    },
    "papermill": {
     "duration": 0.057274,
     "end_time": "2025-01-27T16:59:41.443008",
     "exception": false,
     "start_time": "2025-01-27T16:59:41.385734",
     "status": "completed"
    },
    "tags": []
   },
   "outputs": [
    {
     "data": {
      "text/html": [
       "<div>\n",
       "<style scoped>\n",
       "    .dataframe tbody tr th:only-of-type {\n",
       "        vertical-align: middle;\n",
       "    }\n",
       "\n",
       "    .dataframe tbody tr th {\n",
       "        vertical-align: top;\n",
       "    }\n",
       "\n",
       "    .dataframe thead th {\n",
       "        text-align: right;\n",
       "    }\n",
       "</style>\n",
       "<table border=\"1\" class=\"dataframe\">\n",
       "  <thead>\n",
       "    <tr style=\"text-align: right;\">\n",
       "      <th></th>\n",
       "      <th>co</th>\n",
       "      <th>no2</th>\n",
       "      <th>o3</th>\n",
       "      <th>pm10</th>\n",
       "      <th>pm25</th>\n",
       "      <th>so2</th>\n",
       "      <th>humidity</th>\n",
       "      <th>pressure</th>\n",
       "      <th>temperature</th>\n",
       "      <th>wind-speed</th>\n",
       "      <th>AQI_smoothed_zscore</th>\n",
       "    </tr>\n",
       "  </thead>\n",
       "  <tbody>\n",
       "    <tr>\n",
       "      <th>2014-12-29</th>\n",
       "      <td>14.1</td>\n",
       "      <td>36.2</td>\n",
       "      <td>3.2</td>\n",
       "      <td>218.0</td>\n",
       "      <td>307.0</td>\n",
       "      <td>4.2</td>\n",
       "      <td>60.691097</td>\n",
       "      <td>985.187382</td>\n",
       "      <td>26.3352</td>\n",
       "      <td>1.102459</td>\n",
       "      <td>307.0</td>\n",
       "    </tr>\n",
       "    <tr>\n",
       "      <th>2014-12-30</th>\n",
       "      <td>20.4</td>\n",
       "      <td>36.8</td>\n",
       "      <td>4.8</td>\n",
       "      <td>330.0</td>\n",
       "      <td>367.0</td>\n",
       "      <td>5.8</td>\n",
       "      <td>60.691097</td>\n",
       "      <td>985.187382</td>\n",
       "      <td>26.3352</td>\n",
       "      <td>1.102459</td>\n",
       "      <td>367.0</td>\n",
       "    </tr>\n",
       "    <tr>\n",
       "      <th>2014-12-31</th>\n",
       "      <td>12.7</td>\n",
       "      <td>28.7</td>\n",
       "      <td>7.8</td>\n",
       "      <td>137.0</td>\n",
       "      <td>202.0</td>\n",
       "      <td>6.3</td>\n",
       "      <td>60.691097</td>\n",
       "      <td>985.187382</td>\n",
       "      <td>26.3352</td>\n",
       "      <td>1.102459</td>\n",
       "      <td>202.0</td>\n",
       "    </tr>\n",
       "    <tr>\n",
       "      <th>2015-01-01</th>\n",
       "      <td>20.8</td>\n",
       "      <td>66.5</td>\n",
       "      <td>5.2</td>\n",
       "      <td>230.0</td>\n",
       "      <td>382.0</td>\n",
       "      <td>9.9</td>\n",
       "      <td>60.691097</td>\n",
       "      <td>985.187382</td>\n",
       "      <td>26.3352</td>\n",
       "      <td>1.102459</td>\n",
       "      <td>158.0</td>\n",
       "    </tr>\n",
       "    <tr>\n",
       "      <th>2015-01-02</th>\n",
       "      <td>12.7</td>\n",
       "      <td>33.9</td>\n",
       "      <td>6.0</td>\n",
       "      <td>81.0</td>\n",
       "      <td>172.0</td>\n",
       "      <td>4.2</td>\n",
       "      <td>60.691097</td>\n",
       "      <td>985.187382</td>\n",
       "      <td>26.3352</td>\n",
       "      <td>1.102459</td>\n",
       "      <td>172.0</td>\n",
       "    </tr>\n",
       "  </tbody>\n",
       "</table>\n",
       "</div>"
      ],
      "text/plain": [
       "              co   no2   o3   pm10   pm25  so2   humidity    pressure  \\\n",
       "2014-12-29  14.1  36.2  3.2  218.0  307.0  4.2  60.691097  985.187382   \n",
       "2014-12-30  20.4  36.8  4.8  330.0  367.0  5.8  60.691097  985.187382   \n",
       "2014-12-31  12.7  28.7  7.8  137.0  202.0  6.3  60.691097  985.187382   \n",
       "2015-01-01  20.8  66.5  5.2  230.0  382.0  9.9  60.691097  985.187382   \n",
       "2015-01-02  12.7  33.9  6.0   81.0  172.0  4.2  60.691097  985.187382   \n",
       "\n",
       "            temperature  wind-speed  AQI_smoothed_zscore  \n",
       "2014-12-29      26.3352    1.102459                307.0  \n",
       "2014-12-30      26.3352    1.102459                367.0  \n",
       "2014-12-31      26.3352    1.102459                202.0  \n",
       "2015-01-01      26.3352    1.102459                158.0  \n",
       "2015-01-02      26.3352    1.102459                172.0  "
      ]
     },
     "execution_count": 69,
     "metadata": {},
     "output_type": "execute_result"
    }
   ],
   "source": [
    "data.head()"
   ]
  },
  {
   "cell_type": "code",
   "execution_count": 70,
   "id": "58ad6c56",
   "metadata": {
    "execution": {
     "iopub.execute_input": "2025-01-27T16:59:41.524118Z",
     "iopub.status.busy": "2025-01-27T16:59:41.523772Z",
     "iopub.status.idle": "2025-01-27T16:59:41.530916Z",
     "shell.execute_reply": "2025-01-27T16:59:41.529927Z"
    },
    "papermill": {
     "duration": 0.04908,
     "end_time": "2025-01-27T16:59:41.532530",
     "exception": false,
     "start_time": "2025-01-27T16:59:41.483450",
     "status": "completed"
    },
    "tags": []
   },
   "outputs": [
    {
     "name": "stdout",
     "output_type": "stream",
     "text": [
      "Index(['co', 'no2', 'o3', 'pm10', 'pm25', 'so2', 'humidity', 'pressure',\n",
      "       'temperature', 'wind-speed', 'AQI_smoothed_zscore'],\n",
      "      dtype='object')\n",
      "Index([], dtype='object')\n"
     ]
    }
   ],
   "source": [
    "num = data.select_dtypes(include=['int16', 'int32', 'int64', 'float16', 'float32', 'float64'])\n",
    "cat = data.select_dtypes(include=['object'])\n",
    "\n",
    "print(num.columns)\n",
    "print(cat.columns)"
   ]
  },
  {
   "cell_type": "code",
   "execution_count": 71,
   "id": "3555af74",
   "metadata": {
    "execution": {
     "iopub.execute_input": "2025-01-27T16:59:41.614269Z",
     "iopub.status.busy": "2025-01-27T16:59:41.613901Z",
     "iopub.status.idle": "2025-01-27T16:59:41.622935Z",
     "shell.execute_reply": "2025-01-27T16:59:41.621947Z"
    },
    "papermill": {
     "duration": 0.051495,
     "end_time": "2025-01-27T16:59:41.624578",
     "exception": false,
     "start_time": "2025-01-27T16:59:41.573083",
     "status": "completed"
    },
    "tags": []
   },
   "outputs": [
    {
     "name": "stdout",
     "output_type": "stream",
     "text": [
      "(2559, 10) (2559,) (640, 10) (640,)\n"
     ]
    }
   ],
   "source": [
    "X = data[['co', 'no2', 'o3', 'pm10', 'pm25', 'so2', 'humidity', 'pressure',\n",
    "       'temperature', 'wind-speed']]\n",
    "\n",
    "y = data['AQI_smoothed_zscore']\n",
    "\n",
    "X_train, X_test, y_train, y_test = train_test_split(X, y, test_size = 0.2, random_state = 42)\n",
    "\n",
    "print(X_train.shape, y_train.shape, X_test.shape, y_test.shape)"
   ]
  },
  {
   "cell_type": "code",
   "execution_count": 72,
   "id": "435bb37e",
   "metadata": {
    "execution": {
     "iopub.execute_input": "2025-01-27T16:59:41.706862Z",
     "iopub.status.busy": "2025-01-27T16:59:41.706517Z",
     "iopub.status.idle": "2025-01-27T16:59:41.711315Z",
     "shell.execute_reply": "2025-01-27T16:59:41.710403Z"
    },
    "papermill": {
     "duration": 0.047306,
     "end_time": "2025-01-27T16:59:41.712838",
     "exception": false,
     "start_time": "2025-01-27T16:59:41.665532",
     "status": "completed"
    },
    "tags": []
   },
   "outputs": [],
   "source": [
    "# Standard Scalling the numeric columns\n",
    "preprocessor = ColumnTransformer(\n",
    "    transformers=[\n",
    "        ('num', Pipeline(steps=[ \n",
    "            ('scaler', StandardScaler())\n",
    "        ]), ['co', 'no2', 'o3', 'pm10', 'pm25', 'so2', 'humidity', 'pressure',\n",
    "       'temperature', 'wind-speed'])  \n",
    "    ])\n",
    "# Pipeline\n",
    "pipeline = Pipeline(steps=[\n",
    "    ('preprocessor', preprocessor)\n",
    "])"
   ]
  },
  {
   "cell_type": "markdown",
   "id": "b2c15edb",
   "metadata": {
    "papermill": {
     "duration": 0.041381,
     "end_time": "2025-01-27T16:59:41.794107",
     "exception": false,
     "start_time": "2025-01-27T16:59:41.752726",
     "status": "completed"
    },
    "tags": []
   },
   "source": [
    "# **4.2. Model Training & Testing**"
   ]
  },
  {
   "cell_type": "markdown",
   "id": "9b163a6d",
   "metadata": {
    "papermill": {
     "duration": 0.039077,
     "end_time": "2025-01-27T16:59:41.873626",
     "exception": false,
     "start_time": "2025-01-27T16:59:41.834549",
     "status": "completed"
    },
    "tags": []
   },
   "source": [
    "## **4.2.1. LinearRegression**"
   ]
  },
  {
   "cell_type": "code",
   "execution_count": 73,
   "id": "42f1e41f",
   "metadata": {
    "execution": {
     "iopub.execute_input": "2025-01-27T16:59:41.954098Z",
     "iopub.status.busy": "2025-01-27T16:59:41.953708Z",
     "iopub.status.idle": "2025-01-27T16:59:41.972136Z",
     "shell.execute_reply": "2025-01-27T16:59:41.971187Z"
    },
    "papermill": {
     "duration": 0.060559,
     "end_time": "2025-01-27T16:59:41.973927",
     "exception": false,
     "start_time": "2025-01-27T16:59:41.913368",
     "status": "completed"
    },
    "tags": []
   },
   "outputs": [],
   "source": [
    "# training with LinearRegression\n",
    "\n",
    "lm = LinearRegression(fit_intercept = True)\n",
    "\n",
    "pipeline = Pipeline(steps=[('preprocessor', preprocessor), ('regressor', lm)])\n",
    "\n",
    "# Fit the pipeline to the training data\n",
    "pipeline.fit(X_train,y_train)\n",
    "\n",
    "# Predict on the training and test datasets\n",
    "y_pred_train_lm = pipeline.predict(X_train)\n",
    "y_pred_test_lm = pipeline.predict(X_test)"
   ]
  },
  {
   "cell_type": "code",
   "execution_count": 74,
   "id": "73f6484b",
   "metadata": {
    "execution": {
     "iopub.execute_input": "2025-01-27T16:59:42.056177Z",
     "iopub.status.busy": "2025-01-27T16:59:42.055785Z",
     "iopub.status.idle": "2025-01-27T16:59:42.072982Z",
     "shell.execute_reply": "2025-01-27T16:59:42.071893Z"
    },
    "papermill": {
     "duration": 0.06043,
     "end_time": "2025-01-27T16:59:42.074795",
     "exception": false,
     "start_time": "2025-01-27T16:59:42.014365",
     "status": "completed"
    },
    "tags": []
   },
   "outputs": [
    {
     "name": "stdout",
     "output_type": "stream",
     "text": [
      "The r2 Accuracy on the training dataset prediction is:  0.820101251986455\n",
      "The r2 Accuracy on the test dataset prediction is:  0.8109701883481275\n",
      "\n",
      "The RMSE  on the training dataset is:  25.918017419593703\n",
      "The RMSE  on the testing dataset is:  25.590582306071845\n",
      "\n",
      "The MAE  on the training dataset is:  11.834615790056251\n",
      "The MAE  on the testing dataset is:  11.513399614030623\n",
      "\n",
      "The MSE  on the training dataset is:  671.7436269623626\n",
      "The MSE  on the testing dataset is:  654.8779027638374\n"
     ]
    }
   ],
   "source": [
    "# Model Accuracy on training and testing dataset\n",
    "\n",
    "print('The r2 Accuracy on the training dataset prediction is: ',r2_score(y_train,y_pred_train_lm) )\n",
    "print('The r2 Accuracy on the test dataset prediction is: ',r2_score(y_test,y_pred_test_lm) )\n",
    "\n",
    "print(\"\")\n",
    "\n",
    "# The Root Mean Squared Error (RMSE)\n",
    "print('The RMSE  on the training dataset is: ',sqrt(mean_squared_error(y_train, y_pred_train_lm)))\n",
    "print('The RMSE  on the testing dataset is: ',sqrt(mean_squared_error(y_test, y_pred_test_lm)))\n",
    "\n",
    "print(\"\")\n",
    "# The Mean Absolute Error (MAE)\n",
    "print('The MAE  on the training dataset is: ',mean_absolute_error(y_train, y_pred_train_lm))\n",
    "print('The MAE  on the testing dataset is: ',mean_absolute_error(y_test, y_pred_test_lm))\n",
    "\n",
    "print(\"\")\n",
    "# The Mean Squared Error (MSE)\n",
    "print('The MSE  on the training dataset is: ',mean_squared_error(y_train, y_pred_train_lm))\n",
    "print('The MSE  on the testing dataset is: ',mean_squared_error(y_test, y_pred_test_lm))"
   ]
  },
  {
   "cell_type": "markdown",
   "id": "f61168a4",
   "metadata": {
    "papermill": {
     "duration": 0.041063,
     "end_time": "2025-01-27T16:59:42.155927",
     "exception": false,
     "start_time": "2025-01-27T16:59:42.114864",
     "status": "completed"
    },
    "tags": []
   },
   "source": [
    "## **4.2.2.  KNeighborsRegressor**"
   ]
  },
  {
   "cell_type": "code",
   "execution_count": 75,
   "id": "f4554770",
   "metadata": {
    "execution": {
     "iopub.execute_input": "2025-01-27T16:59:42.237248Z",
     "iopub.status.busy": "2025-01-27T16:59:42.236847Z",
     "iopub.status.idle": "2025-01-27T16:59:42.309592Z",
     "shell.execute_reply": "2025-01-27T16:59:42.308405Z"
    },
    "papermill": {
     "duration": 0.115466,
     "end_time": "2025-01-27T16:59:42.311539",
     "exception": false,
     "start_time": "2025-01-27T16:59:42.196073",
     "status": "completed"
    },
    "tags": []
   },
   "outputs": [],
   "source": [
    "# training with KNeighborsRegressor\n",
    "\n",
    "neigh = KNeighborsRegressor(n_neighbors=2)\n",
    "\n",
    "pipeline = Pipeline(steps=[('preprocessor', preprocessor), ('regressor', neigh)])\n",
    "\n",
    "# Fit the pipeline to the training data\n",
    "pipeline.fit(X_train,y_train)\n",
    "\n",
    "# Predict on the training and test datasets\n",
    "y_pred_train_knn = pipeline.predict(X_train)\n",
    "y_pred_test_knn = pipeline.predict(X_test)"
   ]
  },
  {
   "cell_type": "code",
   "execution_count": 76,
   "id": "eccbb886",
   "metadata": {
    "execution": {
     "iopub.execute_input": "2025-01-27T16:59:42.393723Z",
     "iopub.status.busy": "2025-01-27T16:59:42.393331Z",
     "iopub.status.idle": "2025-01-27T16:59:42.407790Z",
     "shell.execute_reply": "2025-01-27T16:59:42.406410Z"
    },
    "papermill": {
     "duration": 0.057702,
     "end_time": "2025-01-27T16:59:42.409536",
     "exception": false,
     "start_time": "2025-01-27T16:59:42.351834",
     "status": "completed"
    },
    "tags": []
   },
   "outputs": [
    {
     "name": "stdout",
     "output_type": "stream",
     "text": [
      "The R2 score on the training dataset prediction is:  0.9658886199763066\n",
      "The R2 score on the test dataset prediction is:  0.8982164082572395\n",
      "\n",
      "The RMSE  on the training dataset is:  11.285929988674457\n",
      "The RMSE  on the testing dataset is:  18.778197547288716\n",
      "\n",
      "The MAE  on the training dataset is:  5.053145760062525\n",
      "The MAE  on the testing dataset is:  8.92109375\n",
      "\n",
      "The MSE  on the training dataset is:  127.37221570926143\n",
      "The MSE  on the testing dataset is:  352.620703125\n"
     ]
    }
   ],
   "source": [
    "# Model Accuracy on training dataset\n",
    "print('The R2 score on the training dataset prediction is: ', r2_score(y_train,y_pred_train_knn))\n",
    "print('The R2 score on the test dataset prediction is: ', r2_score(y_test, y_pred_test_knn))\n",
    "print(\"\")\n",
    "\n",
    "# The Root Mean Squared Error (RMSE)\n",
    "print('The RMSE  on the training dataset is: ',sqrt(mean_squared_error(y_train,y_pred_train_knn)))\n",
    "print('The RMSE  on the testing dataset is: ',sqrt(mean_squared_error(y_test, y_pred_test_knn)))\n",
    "\n",
    "print(\"\")\n",
    "# The Mean Absolute Error (MAE)\n",
    "print('The MAE  on the training dataset is: ',mean_absolute_error(y_train,y_pred_train_knn))\n",
    "print('The MAE  on the testing dataset is: ',mean_absolute_error(y_test, y_pred_test_knn))\n",
    "\n",
    "print(\"\")\n",
    "# The Mean Squared Error (MSE)\n",
    "print('The MSE  on the training dataset is: ',mean_squared_error(y_train, y_pred_train_knn))\n",
    "print('The MSE  on the testing dataset is: ',mean_squared_error(y_test, y_pred_test_knn))"
   ]
  },
  {
   "cell_type": "markdown",
   "id": "b236c5a6",
   "metadata": {
    "papermill": {
     "duration": 0.040249,
     "end_time": "2025-01-27T16:59:42.489674",
     "exception": false,
     "start_time": "2025-01-27T16:59:42.449425",
     "status": "completed"
    },
    "tags": []
   },
   "source": [
    "## **4.2.3.  Random Forest Regressor**"
   ]
  },
  {
   "cell_type": "code",
   "execution_count": 77,
   "id": "4287bc64",
   "metadata": {
    "execution": {
     "iopub.execute_input": "2025-01-27T16:59:42.574237Z",
     "iopub.status.busy": "2025-01-27T16:59:42.573851Z",
     "iopub.status.idle": "2025-01-27T16:59:43.566280Z",
     "shell.execute_reply": "2025-01-27T16:59:43.565155Z"
    },
    "papermill": {
     "duration": 1.038603,
     "end_time": "2025-01-27T16:59:43.568359",
     "exception": false,
     "start_time": "2025-01-27T16:59:42.529756",
     "status": "completed"
    },
    "tags": []
   },
   "outputs": [],
   "source": [
    "# Training with random forest regressor\n",
    "random = RandomForestRegressor()\n",
    "\n",
    "pipeline = Pipeline(steps=[('preprocessor', preprocessor), ('regressor', random)])\n",
    "\n",
    "# Fit the pipeline to the training data\n",
    "pipeline.fit(X_train,y_train)\n",
    "\n",
    "# Predict on the training and test datasets\n",
    "y_pred_train_random = pipeline.predict(X_train)\n",
    "y_pred_test_random = pipeline.predict(X_test)"
   ]
  },
  {
   "cell_type": "code",
   "execution_count": 78,
   "id": "d3db017c",
   "metadata": {
    "execution": {
     "iopub.execute_input": "2025-01-27T16:59:43.651589Z",
     "iopub.status.busy": "2025-01-27T16:59:43.651239Z",
     "iopub.status.idle": "2025-01-27T16:59:43.667318Z",
     "shell.execute_reply": "2025-01-27T16:59:43.666125Z"
    },
    "papermill": {
     "duration": 0.060467,
     "end_time": "2025-01-27T16:59:43.669028",
     "exception": false,
     "start_time": "2025-01-27T16:59:43.608561",
     "status": "completed"
    },
    "tags": []
   },
   "outputs": [
    {
     "name": "stdout",
     "output_type": "stream",
     "text": [
      "The R2 score on the training dataset prediction is:  0.9991980515343108\n",
      "The R2 score on the test dataset prediction is:  0.9779666462049852\n",
      "\n",
      "The RMSE  on the training dataset is:  1.7304574994733017\n",
      "The RMSE  on the testing dataset is:  8.736858891000244\n",
      "\n",
      "The MAE  on the training dataset is:  0.30908167252833124\n",
      "The MAE  on the testing dataset is:  0.8783593750000005\n",
      "\n",
      "The MSE  on the training dataset is:  2.9944831574833923\n",
      "The MSE  on the testing dataset is:  76.33270328125002\n"
     ]
    }
   ],
   "source": [
    "# Model Accuracy on training dataset\n",
    "print('The R2 score on the training dataset prediction is: ', r2_score(y_train,y_pred_train_random))\n",
    "print('The R2 score on the test dataset prediction is: ', r2_score(y_test, y_pred_test_random))\n",
    "print(\"\")\n",
    "\n",
    "# The Root Mean Squared Error (RMSE)\n",
    "print('The RMSE  on the training dataset is: ',sqrt(mean_squared_error(y_train,y_pred_train_random)))\n",
    "print('The RMSE  on the testing dataset is: ',sqrt(mean_squared_error(y_test, y_pred_test_random)))\n",
    "\n",
    "print(\"\")\n",
    "# The Mean Absolute Error (MAE)\n",
    "print('The MAE  on the training dataset is: ',mean_absolute_error(y_train,y_pred_train_random))\n",
    "print('The MAE  on the testing dataset is: ',mean_absolute_error(y_test, y_pred_test_random))\n",
    "\n",
    "print(\"\")\n",
    "# The Mean Squared Error (MSE)\n",
    "print('The MSE  on the training dataset is: ',mean_squared_error(y_train, y_pred_train_random))\n",
    "print('The MSE  on the testing dataset is: ',mean_squared_error(y_test, y_pred_test_random))"
   ]
  },
  {
   "cell_type": "markdown",
   "id": "c8698bf7",
   "metadata": {
    "papermill": {
     "duration": 0.041032,
     "end_time": "2025-01-27T16:59:43.752233",
     "exception": false,
     "start_time": "2025-01-27T16:59:43.711201",
     "status": "completed"
    },
    "tags": []
   },
   "source": [
    "## **4.2.4.  Decision Tree regressor**"
   ]
  },
  {
   "cell_type": "code",
   "execution_count": 79,
   "id": "fe5a8c96",
   "metadata": {
    "execution": {
     "iopub.execute_input": "2025-01-27T16:59:43.833768Z",
     "iopub.status.busy": "2025-01-27T16:59:43.833379Z",
     "iopub.status.idle": "2025-01-27T16:59:43.863891Z",
     "shell.execute_reply": "2025-01-27T16:59:43.862653Z"
    },
    "papermill": {
     "duration": 0.073922,
     "end_time": "2025-01-27T16:59:43.866109",
     "exception": false,
     "start_time": "2025-01-27T16:59:43.792187",
     "status": "completed"
    },
    "tags": []
   },
   "outputs": [],
   "source": [
    "# Training with Decision Tree regressor\n",
    "dt = DecisionTreeRegressor()\n",
    "\n",
    "pipeline = Pipeline(steps=[('preprocessor', preprocessor), ('regressor', dt)])\n",
    "\n",
    "# Fit the pipeline to the training data\n",
    "pipeline.fit(X_train,y_train)\n",
    "\n",
    "# Predict on the training and test datasets\n",
    "y_pred_train_dt = pipeline.predict(X_train)\n",
    "y_pred_test_dt = pipeline.predict(X_test)"
   ]
  },
  {
   "cell_type": "code",
   "execution_count": 80,
   "id": "2e7b1cdc",
   "metadata": {
    "execution": {
     "iopub.execute_input": "2025-01-27T16:59:43.948976Z",
     "iopub.status.busy": "2025-01-27T16:59:43.948580Z",
     "iopub.status.idle": "2025-01-27T16:59:43.963479Z",
     "shell.execute_reply": "2025-01-27T16:59:43.962194Z"
    },
    "papermill": {
     "duration": 0.058108,
     "end_time": "2025-01-27T16:59:43.965139",
     "exception": false,
     "start_time": "2025-01-27T16:59:43.907031",
     "status": "completed"
    },
    "tags": []
   },
   "outputs": [
    {
     "name": "stdout",
     "output_type": "stream",
     "text": [
      "The R2 score on the training dataset prediction is:  1.0\n",
      "The R2 score on the test dataset prediction is:  0.9704220530422009\n",
      "\n",
      "The RMSE  on the training dataset is:  0.0\n",
      "The RMSE  on the testing dataset is:  10.122762098360308\n",
      "\n",
      "The MAE  on the training dataset is:  0.0\n",
      "The MAE  on the testing dataset is:  0.9890625\n",
      "\n",
      "The MSE  on the training dataset is:  0.0\n",
      "The MSE  on the testing dataset is:  102.4703125\n"
     ]
    }
   ],
   "source": [
    "# Model Accuracy on training dataset\n",
    "print('The R2 score on the training dataset prediction is: ', r2_score(y_train,y_pred_train_dt))\n",
    "print('The R2 score on the test dataset prediction is: ', r2_score(y_test, y_pred_test_dt))\n",
    "print(\"\")\n",
    "\n",
    "# The Root Mean Squared Error (RMSE)\n",
    "print('The RMSE  on the training dataset is: ',sqrt(mean_squared_error(y_train,y_pred_train_dt)))\n",
    "print('The RMSE  on the testing dataset is: ',sqrt(mean_squared_error(y_test, y_pred_test_dt)))\n",
    "\n",
    "print(\"\")\n",
    "# The Mean Absolute Error (MAE)\n",
    "print('The MAE  on the training dataset is: ',mean_absolute_error(y_train,y_pred_train_dt))\n",
    "print('The MAE  on the testing dataset is: ',mean_absolute_error(y_test, y_pred_test_dt))\n",
    "\n",
    "print(\"\")\n",
    "# The Mean Squared Error (MSE)\n",
    "print('The MSE  on the training dataset is: ',mean_squared_error(y_train, y_pred_train_dt))\n",
    "print('The MSE  on the testing dataset is: ',mean_squared_error(y_test, y_pred_test_dt))"
   ]
  },
  {
   "cell_type": "markdown",
   "id": "e27874cd",
   "metadata": {
    "papermill": {
     "duration": 0.040461,
     "end_time": "2025-01-27T16:59:44.047548",
     "exception": false,
     "start_time": "2025-01-27T16:59:44.007087",
     "status": "completed"
    },
    "tags": []
   },
   "source": [
    "## **4.2.5.  Support Vector Machine regressor**"
   ]
  },
  {
   "cell_type": "code",
   "execution_count": 81,
   "id": "aad30abc",
   "metadata": {
    "execution": {
     "iopub.execute_input": "2025-01-27T16:59:44.129715Z",
     "iopub.status.busy": "2025-01-27T16:59:44.129370Z",
     "iopub.status.idle": "2025-01-27T16:59:44.979553Z",
     "shell.execute_reply": "2025-01-27T16:59:44.978420Z"
    },
    "papermill": {
     "duration": 0.893845,
     "end_time": "2025-01-27T16:59:44.981627",
     "exception": false,
     "start_time": "2025-01-27T16:59:44.087782",
     "status": "completed"
    },
    "tags": []
   },
   "outputs": [],
   "source": [
    "# Training with Support Vector Machine regressor\n",
    "svr = SVR(kernel='linear')\n",
    "\n",
    "pipeline = Pipeline(steps=[('preprocessor', preprocessor), ('regressor', svr)])\n",
    "\n",
    "# Fit the pipeline to the training data\n",
    "pipeline.fit(X_train, y_train)\n",
    "\n",
    "# Predict on the training and test datasets\n",
    "y_pred_train_svr = pipeline.predict(X_train)\n",
    "y_pred_test_svr = pipeline.predict(X_test)"
   ]
  },
  {
   "cell_type": "code",
   "execution_count": 82,
   "id": "c6d92444",
   "metadata": {
    "execution": {
     "iopub.execute_input": "2025-01-27T16:59:45.064354Z",
     "iopub.status.busy": "2025-01-27T16:59:45.063953Z",
     "iopub.status.idle": "2025-01-27T16:59:45.079116Z",
     "shell.execute_reply": "2025-01-27T16:59:45.077889Z"
    },
    "papermill": {
     "duration": 0.057583,
     "end_time": "2025-01-27T16:59:45.080777",
     "exception": false,
     "start_time": "2025-01-27T16:59:45.023194",
     "status": "completed"
    },
    "tags": []
   },
   "outputs": [
    {
     "name": "stdout",
     "output_type": "stream",
     "text": [
      "The R2 score on the training dataset prediction is:  0.7681003187224894\n",
      "The R2 score on the test dataset prediction is:  0.7471182614546523\n",
      "\n",
      "The RMSE on the training dataset is:  29.426443952841392\n",
      "The RMSE on the testing dataset is:  29.598775980082568\n",
      "\n",
      "The MAE on the training dataset is:  4.879696131220276\n",
      "The MAE on the testing dataset is:  4.899310556212166\n",
      "\n",
      "The MSE  on the training dataset is:  865.9156037097158\n",
      "The MSE  on the testing dataset is:  876.0875395191127\n"
     ]
    }
   ],
   "source": [
    "# Model Accuracy on training dataset\n",
    "print('The R2 score on the training dataset prediction is: ', r2_score(y_train, y_pred_train_svr))\n",
    "print('The R2 score on the test dataset prediction is: ', r2_score(y_test, y_pred_test_svr))\n",
    "print(\"\")\n",
    "\n",
    "# The Root Mean Squared Error (RMSE)\n",
    "print('The RMSE on the training dataset is: ', sqrt(mean_squared_error(y_train, y_pred_train_svr)))\n",
    "print('The RMSE on the testing dataset is: ', sqrt(mean_squared_error(y_test, y_pred_test_svr)))\n",
    "print(\"\")\n",
    "\n",
    "# The Mean Absolute Error (MAE)\n",
    "print('The MAE on the training dataset is: ', mean_absolute_error(y_train, y_pred_train_svr))\n",
    "print('The MAE on the testing dataset is: ', mean_absolute_error(y_test, y_pred_test_svr))\n",
    "\n",
    "print(\"\")\n",
    "# The Mean Squared Error (MSE)\n",
    "print('The MSE  on the training dataset is: ',mean_squared_error(y_train, y_pred_train_svr))\n",
    "print('The MSE  on the testing dataset is: ',mean_squared_error(y_test, y_pred_test_svr))"
   ]
  },
  {
   "cell_type": "markdown",
   "id": "f56db5c1",
   "metadata": {
    "papermill": {
     "duration": 0.039722,
     "end_time": "2025-01-27T16:59:45.160678",
     "exception": false,
     "start_time": "2025-01-27T16:59:45.120956",
     "status": "completed"
    },
    "tags": []
   },
   "source": [
    "## **4.2.6.  XGBoost Regressor**"
   ]
  },
  {
   "cell_type": "code",
   "execution_count": 83,
   "id": "084f1eb3",
   "metadata": {
    "execution": {
     "iopub.execute_input": "2025-01-27T16:59:45.241951Z",
     "iopub.status.busy": "2025-01-27T16:59:45.241578Z",
     "iopub.status.idle": "2025-01-27T16:59:45.390116Z",
     "shell.execute_reply": "2025-01-27T16:59:45.389240Z"
    },
    "papermill": {
     "duration": 0.191297,
     "end_time": "2025-01-27T16:59:45.392185",
     "exception": false,
     "start_time": "2025-01-27T16:59:45.200888",
     "status": "completed"
    },
    "tags": []
   },
   "outputs": [],
   "source": [
    "# Training with XGBoost regressor\n",
    "xgb_regressor = XGBRegressor(objective='reg:squarederror')\n",
    "\n",
    "pipeline = Pipeline(steps=[('preprocessor', preprocessor), ('regressor', xgb_regressor)])\n",
    "\n",
    "# Fit the pipeline to the training data\n",
    "pipeline.fit(X_train, y_train)\n",
    "\n",
    "# Predict on the training and test datasets\n",
    "y_pred_train_xgb = pipeline.predict(X_train)\n",
    "y_pred_test_xgb = pipeline.predict(X_test)"
   ]
  },
  {
   "cell_type": "code",
   "execution_count": 84,
   "id": "8a49445d",
   "metadata": {
    "execution": {
     "iopub.execute_input": "2025-01-27T16:59:45.477646Z",
     "iopub.status.busy": "2025-01-27T16:59:45.477307Z",
     "iopub.status.idle": "2025-01-27T16:59:45.491932Z",
     "shell.execute_reply": "2025-01-27T16:59:45.490768Z"
    },
    "papermill": {
     "duration": 0.058134,
     "end_time": "2025-01-27T16:59:45.493545",
     "exception": false,
     "start_time": "2025-01-27T16:59:45.435411",
     "status": "completed"
    },
    "tags": []
   },
   "outputs": [
    {
     "name": "stdout",
     "output_type": "stream",
     "text": [
      "The R2 score on the training dataset prediction is:  0.9999929342008133\n",
      "The R2 score on the test dataset prediction is:  0.9682686702850274\n",
      "\n",
      "The RMSE on the training dataset is:  0.1624307883604559\n",
      "The RMSE on the testing dataset is:  10.484775923423772\n",
      "\n",
      "The MAE on the training dataset is:  0.09519905576299717\n",
      "The MAE on the testing dataset is:  1.5003108382225037\n",
      "\n",
      "The MSE  on the training dataset is:  0.026383761007399222\n",
      "The MSE  on the testing dataset is:  109.93052616440681\n"
     ]
    }
   ],
   "source": [
    "# Model Accuracy on training dataset\n",
    "print('The R2 score on the training dataset prediction is: ', r2_score(y_train, y_pred_train_xgb))\n",
    "print('The R2 score on the test dataset prediction is: ', r2_score(y_test, y_pred_test_xgb))\n",
    "print(\"\")\n",
    "\n",
    "# The Root Mean Squared Error (RMSE)\n",
    "print('The RMSE on the training dataset is: ', sqrt(mean_squared_error(y_train, y_pred_train_xgb)))\n",
    "print('The RMSE on the testing dataset is: ', sqrt(mean_squared_error(y_test, y_pred_test_xgb)))\n",
    "print(\"\")\n",
    "\n",
    "# The Mean Absolute Error (MAE)\n",
    "print('The MAE on the training dataset is: ', mean_absolute_error(y_train, y_pred_train_xgb))\n",
    "print('The MAE on the testing dataset is: ', mean_absolute_error(y_test, y_pred_test_xgb))\n",
    "\n",
    "print(\"\")\n",
    "# The Mean Squared Error (MSE)\n",
    "print('The MSE  on the training dataset is: ',mean_squared_error(y_train, y_pred_train_xgb))\n",
    "print('The MSE  on the testing dataset is: ',mean_squared_error(y_test, y_pred_test_xgb))"
   ]
  },
  {
   "cell_type": "markdown",
   "id": "2b04f74d",
   "metadata": {
    "papermill": {
     "duration": 0.044514,
     "end_time": "2025-01-27T16:59:45.578389",
     "exception": false,
     "start_time": "2025-01-27T16:59:45.533875",
     "status": "completed"
    },
    "tags": []
   },
   "source": [
    "## **4.2.7.  Neural Network Regressor**"
   ]
  },
  {
   "cell_type": "code",
   "execution_count": 85,
   "id": "5b448357",
   "metadata": {
    "execution": {
     "iopub.execute_input": "2025-01-27T16:59:45.662394Z",
     "iopub.status.busy": "2025-01-27T16:59:45.661986Z",
     "iopub.status.idle": "2025-01-27T16:59:53.656029Z",
     "shell.execute_reply": "2025-01-27T16:59:53.654820Z"
    },
    "papermill": {
     "duration": 8.037229,
     "end_time": "2025-01-27T16:59:53.657838",
     "exception": false,
     "start_time": "2025-01-27T16:59:45.620609",
     "status": "completed"
    },
    "tags": []
   },
   "outputs": [
    {
     "name": "stderr",
     "output_type": "stream",
     "text": [
      "/usr/local/lib/python3.10/dist-packages/sklearn/neural_network/_multilayer_perceptron.py:686: ConvergenceWarning: Stochastic Optimizer: Maximum iterations (2000) reached and the optimization hasn't converged yet.\n",
      "  warnings.warn(\n"
     ]
    }
   ],
   "source": [
    "# training with neural network regressor\n",
    "\n",
    "nn = MLPRegressor(hidden_layer_sizes=(8,), activation='relu', solver='adam', max_iter=2000, learning_rate_init=0.001)\n",
    "\n",
    "pipeline = Pipeline(steps=[('preprocessor', preprocessor), ('regressor', nn)])\n",
    "\n",
    "# Fit the pipeline to the training data\n",
    "pipeline.fit(X_train,y_train)\n",
    "\n",
    "# Predict on the training and test datasets\n",
    "y_pred_train_nn = pipeline.predict(X_train)\n",
    "y_pred_test_nn = pipeline.predict(X_test)"
   ]
  },
  {
   "cell_type": "code",
   "execution_count": 86,
   "id": "853a4358",
   "metadata": {
    "execution": {
     "iopub.execute_input": "2025-01-27T16:59:53.740547Z",
     "iopub.status.busy": "2025-01-27T16:59:53.740205Z",
     "iopub.status.idle": "2025-01-27T16:59:53.754673Z",
     "shell.execute_reply": "2025-01-27T16:59:53.753532Z"
    },
    "papermill": {
     "duration": 0.056873,
     "end_time": "2025-01-27T16:59:53.756133",
     "exception": false,
     "start_time": "2025-01-27T16:59:53.699260",
     "status": "completed"
    },
    "tags": []
   },
   "outputs": [
    {
     "name": "stdout",
     "output_type": "stream",
     "text": [
      "The R2 score on the training dataset prediction is:  0.9313520054517337\n",
      "The R2 score on the test dataset prediction is:  0.9328773101373946\n",
      "\n",
      "The RMSE on the training dataset is:  16.01037979148571\n",
      "The RMSE on the testing dataset is:  15.249292452339422\n",
      "\n",
      "The MAE on the training dataset is:  6.121256481400981\n",
      "The MAE on the testing dataset is:  6.032080652556028\n",
      "\n",
      "The MSE  on the training dataset is:  256.33226106761407\n",
      "The MSE  on the testing dataset is:  232.54092029697603\n"
     ]
    }
   ],
   "source": [
    "# Model Accuracy on training dataset\n",
    "print('The R2 score on the training dataset prediction is: ', r2_score(y_train, y_pred_train_nn))\n",
    "print('The R2 score on the test dataset prediction is: ', r2_score(y_test, y_pred_test_nn))\n",
    "print(\"\")\n",
    "\n",
    "# The Root Mean Squared Error (RMSE)\n",
    "print('The RMSE on the training dataset is: ', sqrt(mean_squared_error(y_train, y_pred_train_nn)))\n",
    "print('The RMSE on the testing dataset is: ', sqrt(mean_squared_error(y_test, y_pred_test_nn)))\n",
    "print(\"\")\n",
    "\n",
    "# The Mean Absolute Error (MAE)\n",
    "print('The MAE on the training dataset is: ', mean_absolute_error(y_train, y_pred_train_nn))\n",
    "print('The MAE on the testing dataset is: ', mean_absolute_error(y_test, y_pred_test_nn))\n",
    "\n",
    "print(\"\")\n",
    "# The Mean Squared Error (MSE)\n",
    "print('The MSE  on the training dataset is: ',mean_squared_error(y_train, y_pred_train_nn))\n",
    "print('The MSE  on the testing dataset is: ',mean_squared_error(y_test, y_pred_test_nn))"
   ]
  },
  {
   "cell_type": "code",
   "execution_count": null,
   "id": "3e2d5b11",
   "metadata": {
    "papermill": {
     "duration": 0.039798,
     "end_time": "2025-01-27T16:59:53.836423",
     "exception": false,
     "start_time": "2025-01-27T16:59:53.796625",
     "status": "completed"
    },
    "tags": []
   },
   "outputs": [],
   "source": []
  },
  {
   "cell_type": "code",
   "execution_count": null,
   "id": "144681e8",
   "metadata": {
    "papermill": {
     "duration": 0.040143,
     "end_time": "2025-01-27T16:59:53.916530",
     "exception": false,
     "start_time": "2025-01-27T16:59:53.876387",
     "status": "completed"
    },
    "tags": []
   },
   "outputs": [],
   "source": []
  },
  {
   "cell_type": "code",
   "execution_count": null,
   "id": "ed6cb62a",
   "metadata": {
    "papermill": {
     "duration": 0.039663,
     "end_time": "2025-01-27T16:59:53.997504",
     "exception": false,
     "start_time": "2025-01-27T16:59:53.957841",
     "status": "completed"
    },
    "tags": []
   },
   "outputs": [],
   "source": []
  },
  {
   "cell_type": "markdown",
   "id": "bae3f0f1",
   "metadata": {
    "papermill": {
     "duration": 0.040636,
     "end_time": "2025-01-27T16:59:54.079352",
     "exception": false,
     "start_time": "2025-01-27T16:59:54.038716",
     "status": "completed"
    },
    "tags": []
   },
   "source": [
    "# **5.1. Splitting & Preprocessing the Raw Data(AQI_smoothed_rolling)**"
   ]
  },
  {
   "cell_type": "markdown",
   "id": "c103a75f",
   "metadata": {
    "papermill": {
     "duration": 0.039617,
     "end_time": "2025-01-27T16:59:54.159807",
     "exception": false,
     "start_time": "2025-01-27T16:59:54.120190",
     "status": "completed"
    },
    "tags": []
   },
   "source": [
    "AQI_smoothed_rolling"
   ]
  },
  {
   "cell_type": "code",
   "execution_count": 87,
   "id": "60c17f65",
   "metadata": {
    "execution": {
     "iopub.execute_input": "2025-01-27T16:59:54.242363Z",
     "iopub.status.busy": "2025-01-27T16:59:54.241939Z",
     "iopub.status.idle": "2025-01-27T16:59:54.262577Z",
     "shell.execute_reply": "2025-01-27T16:59:54.261638Z"
    },
    "papermill": {
     "duration": 0.063072,
     "end_time": "2025-01-27T16:59:54.263999",
     "exception": false,
     "start_time": "2025-01-27T16:59:54.200927",
     "status": "completed"
    },
    "tags": []
   },
   "outputs": [
    {
     "data": {
      "text/html": [
       "<div>\n",
       "<style scoped>\n",
       "    .dataframe tbody tr th:only-of-type {\n",
       "        vertical-align: middle;\n",
       "    }\n",
       "\n",
       "    .dataframe tbody tr th {\n",
       "        vertical-align: top;\n",
       "    }\n",
       "\n",
       "    .dataframe thead th {\n",
       "        text-align: right;\n",
       "    }\n",
       "</style>\n",
       "<table border=\"1\" class=\"dataframe\">\n",
       "  <thead>\n",
       "    <tr style=\"text-align: right;\">\n",
       "      <th></th>\n",
       "      <th>co</th>\n",
       "      <th>no2</th>\n",
       "      <th>o3</th>\n",
       "      <th>pm10</th>\n",
       "      <th>pm25</th>\n",
       "      <th>so2</th>\n",
       "      <th>humidity</th>\n",
       "      <th>pressure</th>\n",
       "      <th>temperature</th>\n",
       "      <th>wind-speed</th>\n",
       "      <th>Country_City</th>\n",
       "      <th>Checks</th>\n",
       "      <th>AQI</th>\n",
       "      <th>AQI_smoothed_iqr</th>\n",
       "      <th>AQI_smoothed_zscore</th>\n",
       "      <th>AQI_smoothed_rolling</th>\n",
       "    </tr>\n",
       "  </thead>\n",
       "  <tbody>\n",
       "    <tr>\n",
       "      <th>2014-12-29</th>\n",
       "      <td>14.1</td>\n",
       "      <td>36.2</td>\n",
       "      <td>3.2</td>\n",
       "      <td>218.0</td>\n",
       "      <td>307.0</td>\n",
       "      <td>4.2</td>\n",
       "      <td>60.691097</td>\n",
       "      <td>985.187382</td>\n",
       "      <td>26.3352</td>\n",
       "      <td>1.102459</td>\n",
       "      <td>India_Delhi</td>\n",
       "      <td>6</td>\n",
       "      <td>307.0</td>\n",
       "      <td>307.0</td>\n",
       "      <td>307.0</td>\n",
       "      <td>307.0</td>\n",
       "    </tr>\n",
       "    <tr>\n",
       "      <th>2014-12-30</th>\n",
       "      <td>20.4</td>\n",
       "      <td>36.8</td>\n",
       "      <td>4.8</td>\n",
       "      <td>330.0</td>\n",
       "      <td>367.0</td>\n",
       "      <td>5.8</td>\n",
       "      <td>60.691097</td>\n",
       "      <td>985.187382</td>\n",
       "      <td>26.3352</td>\n",
       "      <td>1.102459</td>\n",
       "      <td>India_Delhi</td>\n",
       "      <td>6</td>\n",
       "      <td>367.0</td>\n",
       "      <td>367.0</td>\n",
       "      <td>367.0</td>\n",
       "      <td>367.0</td>\n",
       "    </tr>\n",
       "    <tr>\n",
       "      <th>2014-12-31</th>\n",
       "      <td>12.7</td>\n",
       "      <td>28.7</td>\n",
       "      <td>7.8</td>\n",
       "      <td>137.0</td>\n",
       "      <td>202.0</td>\n",
       "      <td>6.3</td>\n",
       "      <td>60.691097</td>\n",
       "      <td>985.187382</td>\n",
       "      <td>26.3352</td>\n",
       "      <td>1.102459</td>\n",
       "      <td>India_Delhi</td>\n",
       "      <td>6</td>\n",
       "      <td>202.0</td>\n",
       "      <td>202.0</td>\n",
       "      <td>202.0</td>\n",
       "      <td>202.0</td>\n",
       "    </tr>\n",
       "    <tr>\n",
       "      <th>2015-01-01</th>\n",
       "      <td>20.8</td>\n",
       "      <td>66.5</td>\n",
       "      <td>5.2</td>\n",
       "      <td>230.0</td>\n",
       "      <td>382.0</td>\n",
       "      <td>9.9</td>\n",
       "      <td>60.691097</td>\n",
       "      <td>985.187382</td>\n",
       "      <td>26.3352</td>\n",
       "      <td>1.102459</td>\n",
       "      <td>India_Delhi</td>\n",
       "      <td>6</td>\n",
       "      <td>382.0</td>\n",
       "      <td>382.0</td>\n",
       "      <td>158.0</td>\n",
       "      <td>382.0</td>\n",
       "    </tr>\n",
       "    <tr>\n",
       "      <th>2015-01-02</th>\n",
       "      <td>12.7</td>\n",
       "      <td>33.9</td>\n",
       "      <td>6.0</td>\n",
       "      <td>81.0</td>\n",
       "      <td>172.0</td>\n",
       "      <td>4.2</td>\n",
       "      <td>60.691097</td>\n",
       "      <td>985.187382</td>\n",
       "      <td>26.3352</td>\n",
       "      <td>1.102459</td>\n",
       "      <td>India_Delhi</td>\n",
       "      <td>6</td>\n",
       "      <td>172.0</td>\n",
       "      <td>172.0</td>\n",
       "      <td>172.0</td>\n",
       "      <td>172.0</td>\n",
       "    </tr>\n",
       "  </tbody>\n",
       "</table>\n",
       "</div>"
      ],
      "text/plain": [
       "              co   no2   o3   pm10   pm25  so2   humidity    pressure  \\\n",
       "2014-12-29  14.1  36.2  3.2  218.0  307.0  4.2  60.691097  985.187382   \n",
       "2014-12-30  20.4  36.8  4.8  330.0  367.0  5.8  60.691097  985.187382   \n",
       "2014-12-31  12.7  28.7  7.8  137.0  202.0  6.3  60.691097  985.187382   \n",
       "2015-01-01  20.8  66.5  5.2  230.0  382.0  9.9  60.691097  985.187382   \n",
       "2015-01-02  12.7  33.9  6.0   81.0  172.0  4.2  60.691097  985.187382   \n",
       "\n",
       "            temperature  wind-speed Country_City  Checks    AQI  \\\n",
       "2014-12-29      26.3352    1.102459  India_Delhi       6  307.0   \n",
       "2014-12-30      26.3352    1.102459  India_Delhi       6  367.0   \n",
       "2014-12-31      26.3352    1.102459  India_Delhi       6  202.0   \n",
       "2015-01-01      26.3352    1.102459  India_Delhi       6  382.0   \n",
       "2015-01-02      26.3352    1.102459  India_Delhi       6  172.0   \n",
       "\n",
       "            AQI_smoothed_iqr  AQI_smoothed_zscore  AQI_smoothed_rolling  \n",
       "2014-12-29             307.0                307.0                 307.0  \n",
       "2014-12-30             367.0                367.0                 367.0  \n",
       "2014-12-31             202.0                202.0                 202.0  \n",
       "2015-01-01             382.0                158.0                 382.0  \n",
       "2015-01-02             172.0                172.0                 172.0  "
      ]
     },
     "execution_count": 87,
     "metadata": {},
     "output_type": "execute_result"
    }
   ],
   "source": [
    "new_data4.head()"
   ]
  },
  {
   "cell_type": "code",
   "execution_count": 88,
   "id": "264dab3d",
   "metadata": {
    "execution": {
     "iopub.execute_input": "2025-01-27T16:59:54.346343Z",
     "iopub.status.busy": "2025-01-27T16:59:54.345953Z",
     "iopub.status.idle": "2025-01-27T16:59:54.351809Z",
     "shell.execute_reply": "2025-01-27T16:59:54.350793Z"
    },
    "papermill": {
     "duration": 0.047989,
     "end_time": "2025-01-27T16:59:54.353340",
     "exception": false,
     "start_time": "2025-01-27T16:59:54.305351",
     "status": "completed"
    },
    "tags": []
   },
   "outputs": [
    {
     "data": {
      "text/plain": [
       "Index(['co', 'no2', 'o3', 'pm10', 'pm25', 'so2', 'humidity', 'pressure',\n",
       "       'temperature', 'wind-speed', 'Country_City', 'Checks', 'AQI',\n",
       "       'AQI_smoothed_iqr', 'AQI_smoothed_zscore', 'AQI_smoothed_rolling'],\n",
       "      dtype='object')"
      ]
     },
     "execution_count": 88,
     "metadata": {},
     "output_type": "execute_result"
    }
   ],
   "source": [
    "new_data4.columns"
   ]
  },
  {
   "cell_type": "markdown",
   "id": "b4366af7",
   "metadata": {
    "papermill": {
     "duration": 0.040413,
     "end_time": "2025-01-27T16:59:54.435339",
     "exception": false,
     "start_time": "2025-01-27T16:59:54.394926",
     "status": "completed"
    },
    "tags": []
   },
   "source": [
    "***Working with AQI_smoothed_rolling***"
   ]
  },
  {
   "cell_type": "code",
   "execution_count": 89,
   "id": "d2d1cddb",
   "metadata": {
    "execution": {
     "iopub.execute_input": "2025-01-27T16:59:54.518310Z",
     "iopub.status.busy": "2025-01-27T16:59:54.517895Z",
     "iopub.status.idle": "2025-01-27T16:59:54.523318Z",
     "shell.execute_reply": "2025-01-27T16:59:54.522309Z"
    },
    "papermill": {
     "duration": 0.048641,
     "end_time": "2025-01-27T16:59:54.524887",
     "exception": false,
     "start_time": "2025-01-27T16:59:54.476246",
     "status": "completed"
    },
    "tags": []
   },
   "outputs": [],
   "source": [
    "data = new_data4.drop([ 'Country_City', 'Checks', 'AQI',\n",
    "       'AQI_smoothed_iqr', 'AQI_smoothed_zscore'],axis=1)"
   ]
  },
  {
   "cell_type": "code",
   "execution_count": 90,
   "id": "2c4a232a",
   "metadata": {
    "execution": {
     "iopub.execute_input": "2025-01-27T16:59:54.607041Z",
     "iopub.status.busy": "2025-01-27T16:59:54.606719Z",
     "iopub.status.idle": "2025-01-27T16:59:54.622755Z",
     "shell.execute_reply": "2025-01-27T16:59:54.621842Z"
    },
    "papermill": {
     "duration": 0.058293,
     "end_time": "2025-01-27T16:59:54.624236",
     "exception": false,
     "start_time": "2025-01-27T16:59:54.565943",
     "status": "completed"
    },
    "tags": []
   },
   "outputs": [
    {
     "data": {
      "text/html": [
       "<div>\n",
       "<style scoped>\n",
       "    .dataframe tbody tr th:only-of-type {\n",
       "        vertical-align: middle;\n",
       "    }\n",
       "\n",
       "    .dataframe tbody tr th {\n",
       "        vertical-align: top;\n",
       "    }\n",
       "\n",
       "    .dataframe thead th {\n",
       "        text-align: right;\n",
       "    }\n",
       "</style>\n",
       "<table border=\"1\" class=\"dataframe\">\n",
       "  <thead>\n",
       "    <tr style=\"text-align: right;\">\n",
       "      <th></th>\n",
       "      <th>co</th>\n",
       "      <th>no2</th>\n",
       "      <th>o3</th>\n",
       "      <th>pm10</th>\n",
       "      <th>pm25</th>\n",
       "      <th>so2</th>\n",
       "      <th>humidity</th>\n",
       "      <th>pressure</th>\n",
       "      <th>temperature</th>\n",
       "      <th>wind-speed</th>\n",
       "      <th>AQI_smoothed_rolling</th>\n",
       "    </tr>\n",
       "  </thead>\n",
       "  <tbody>\n",
       "    <tr>\n",
       "      <th>2014-12-29</th>\n",
       "      <td>14.1</td>\n",
       "      <td>36.2</td>\n",
       "      <td>3.2</td>\n",
       "      <td>218.0</td>\n",
       "      <td>307.0</td>\n",
       "      <td>4.2</td>\n",
       "      <td>60.691097</td>\n",
       "      <td>985.187382</td>\n",
       "      <td>26.3352</td>\n",
       "      <td>1.102459</td>\n",
       "      <td>307.0</td>\n",
       "    </tr>\n",
       "    <tr>\n",
       "      <th>2014-12-30</th>\n",
       "      <td>20.4</td>\n",
       "      <td>36.8</td>\n",
       "      <td>4.8</td>\n",
       "      <td>330.0</td>\n",
       "      <td>367.0</td>\n",
       "      <td>5.8</td>\n",
       "      <td>60.691097</td>\n",
       "      <td>985.187382</td>\n",
       "      <td>26.3352</td>\n",
       "      <td>1.102459</td>\n",
       "      <td>367.0</td>\n",
       "    </tr>\n",
       "    <tr>\n",
       "      <th>2014-12-31</th>\n",
       "      <td>12.7</td>\n",
       "      <td>28.7</td>\n",
       "      <td>7.8</td>\n",
       "      <td>137.0</td>\n",
       "      <td>202.0</td>\n",
       "      <td>6.3</td>\n",
       "      <td>60.691097</td>\n",
       "      <td>985.187382</td>\n",
       "      <td>26.3352</td>\n",
       "      <td>1.102459</td>\n",
       "      <td>202.0</td>\n",
       "    </tr>\n",
       "    <tr>\n",
       "      <th>2015-01-01</th>\n",
       "      <td>20.8</td>\n",
       "      <td>66.5</td>\n",
       "      <td>5.2</td>\n",
       "      <td>230.0</td>\n",
       "      <td>382.0</td>\n",
       "      <td>9.9</td>\n",
       "      <td>60.691097</td>\n",
       "      <td>985.187382</td>\n",
       "      <td>26.3352</td>\n",
       "      <td>1.102459</td>\n",
       "      <td>382.0</td>\n",
       "    </tr>\n",
       "    <tr>\n",
       "      <th>2015-01-02</th>\n",
       "      <td>12.7</td>\n",
       "      <td>33.9</td>\n",
       "      <td>6.0</td>\n",
       "      <td>81.0</td>\n",
       "      <td>172.0</td>\n",
       "      <td>4.2</td>\n",
       "      <td>60.691097</td>\n",
       "      <td>985.187382</td>\n",
       "      <td>26.3352</td>\n",
       "      <td>1.102459</td>\n",
       "      <td>172.0</td>\n",
       "    </tr>\n",
       "  </tbody>\n",
       "</table>\n",
       "</div>"
      ],
      "text/plain": [
       "              co   no2   o3   pm10   pm25  so2   humidity    pressure  \\\n",
       "2014-12-29  14.1  36.2  3.2  218.0  307.0  4.2  60.691097  985.187382   \n",
       "2014-12-30  20.4  36.8  4.8  330.0  367.0  5.8  60.691097  985.187382   \n",
       "2014-12-31  12.7  28.7  7.8  137.0  202.0  6.3  60.691097  985.187382   \n",
       "2015-01-01  20.8  66.5  5.2  230.0  382.0  9.9  60.691097  985.187382   \n",
       "2015-01-02  12.7  33.9  6.0   81.0  172.0  4.2  60.691097  985.187382   \n",
       "\n",
       "            temperature  wind-speed  AQI_smoothed_rolling  \n",
       "2014-12-29      26.3352    1.102459                 307.0  \n",
       "2014-12-30      26.3352    1.102459                 367.0  \n",
       "2014-12-31      26.3352    1.102459                 202.0  \n",
       "2015-01-01      26.3352    1.102459                 382.0  \n",
       "2015-01-02      26.3352    1.102459                 172.0  "
      ]
     },
     "execution_count": 90,
     "metadata": {},
     "output_type": "execute_result"
    }
   ],
   "source": [
    "data.head()"
   ]
  },
  {
   "cell_type": "code",
   "execution_count": 91,
   "id": "752995ff",
   "metadata": {
    "execution": {
     "iopub.execute_input": "2025-01-27T16:59:54.707661Z",
     "iopub.status.busy": "2025-01-27T16:59:54.707317Z",
     "iopub.status.idle": "2025-01-27T16:59:54.715131Z",
     "shell.execute_reply": "2025-01-27T16:59:54.713631Z"
    },
    "papermill": {
     "duration": 0.051924,
     "end_time": "2025-01-27T16:59:54.716920",
     "exception": false,
     "start_time": "2025-01-27T16:59:54.664996",
     "status": "completed"
    },
    "tags": []
   },
   "outputs": [
    {
     "name": "stdout",
     "output_type": "stream",
     "text": [
      "Index(['co', 'no2', 'o3', 'pm10', 'pm25', 'so2', 'humidity', 'pressure',\n",
      "       'temperature', 'wind-speed', 'AQI_smoothed_rolling'],\n",
      "      dtype='object')\n",
      "Index([], dtype='object')\n"
     ]
    }
   ],
   "source": [
    "num = data.select_dtypes(include=['int16', 'int32', 'int64', 'float16', 'float32', 'float64'])\n",
    "cat = data.select_dtypes(include=['object'])\n",
    "\n",
    "print(num.columns)\n",
    "print(cat.columns)"
   ]
  },
  {
   "cell_type": "code",
   "execution_count": 92,
   "id": "b0b21066",
   "metadata": {
    "execution": {
     "iopub.execute_input": "2025-01-27T16:59:54.799288Z",
     "iopub.status.busy": "2025-01-27T16:59:54.798907Z",
     "iopub.status.idle": "2025-01-27T16:59:54.808672Z",
     "shell.execute_reply": "2025-01-27T16:59:54.807646Z"
    },
    "papermill": {
     "duration": 0.052605,
     "end_time": "2025-01-27T16:59:54.810144",
     "exception": false,
     "start_time": "2025-01-27T16:59:54.757539",
     "status": "completed"
    },
    "tags": []
   },
   "outputs": [
    {
     "name": "stdout",
     "output_type": "stream",
     "text": [
      "(2559, 10) (2559,) (640, 10) (640,)\n"
     ]
    }
   ],
   "source": [
    "X = data[['co', 'no2', 'o3', 'pm10', 'pm25', 'so2', 'humidity', 'pressure',\n",
    "       'temperature', 'wind-speed']]\n",
    "\n",
    "y = data['AQI_smoothed_rolling']\n",
    "\n",
    "X_train, X_test, y_train, y_test = train_test_split(X, y, test_size = 0.2, random_state = 42)\n",
    "\n",
    "print(X_train.shape, y_train.shape, X_test.shape, y_test.shape)"
   ]
  },
  {
   "cell_type": "code",
   "execution_count": 93,
   "id": "fe773596",
   "metadata": {
    "execution": {
     "iopub.execute_input": "2025-01-27T16:59:54.892412Z",
     "iopub.status.busy": "2025-01-27T16:59:54.892034Z",
     "iopub.status.idle": "2025-01-27T16:59:54.897165Z",
     "shell.execute_reply": "2025-01-27T16:59:54.895975Z"
    },
    "papermill": {
     "duration": 0.048169,
     "end_time": "2025-01-27T16:59:54.898851",
     "exception": false,
     "start_time": "2025-01-27T16:59:54.850682",
     "status": "completed"
    },
    "tags": []
   },
   "outputs": [],
   "source": [
    "# Standard Scalling the numeric columns\n",
    "preprocessor = ColumnTransformer(\n",
    "    transformers=[\n",
    "        ('num', Pipeline(steps=[ \n",
    "            ('scaler', StandardScaler())\n",
    "        ]), ['co', 'no2', 'o3', 'pm10', 'pm25', 'so2', 'humidity', 'pressure',\n",
    "       'temperature', 'wind-speed'])  \n",
    "    ])\n",
    "# Pipeline\n",
    "pipeline = Pipeline(steps=[\n",
    "    ('preprocessor', preprocessor)\n",
    "])"
   ]
  },
  {
   "cell_type": "markdown",
   "id": "b252a4a6",
   "metadata": {
    "papermill": {
     "duration": 0.040332,
     "end_time": "2025-01-27T16:59:54.980175",
     "exception": false,
     "start_time": "2025-01-27T16:59:54.939843",
     "status": "completed"
    },
    "tags": []
   },
   "source": [
    "# **5.2. Model Training & Testing**"
   ]
  },
  {
   "cell_type": "markdown",
   "id": "3f7cbc2b",
   "metadata": {
    "papermill": {
     "duration": 0.097697,
     "end_time": "2025-01-27T16:59:55.119539",
     "exception": false,
     "start_time": "2025-01-27T16:59:55.021842",
     "status": "completed"
    },
    "tags": []
   },
   "source": [
    "## **5.2.1. LinearRegression**"
   ]
  },
  {
   "cell_type": "code",
   "execution_count": 94,
   "id": "21e48ea7",
   "metadata": {
    "execution": {
     "iopub.execute_input": "2025-01-27T16:59:55.202506Z",
     "iopub.status.busy": "2025-01-27T16:59:55.202130Z",
     "iopub.status.idle": "2025-01-27T16:59:55.220262Z",
     "shell.execute_reply": "2025-01-27T16:59:55.219132Z"
    },
    "papermill": {
     "duration": 0.062159,
     "end_time": "2025-01-27T16:59:55.222165",
     "exception": false,
     "start_time": "2025-01-27T16:59:55.160006",
     "status": "completed"
    },
    "tags": []
   },
   "outputs": [],
   "source": [
    "# training with LinearRegression\n",
    "\n",
    "lm = LinearRegression(fit_intercept = True)\n",
    "\n",
    "pipeline = Pipeline(steps=[('preprocessor', preprocessor), ('regressor', lm)])\n",
    "\n",
    "# Fit the pipeline to the training data\n",
    "pipeline.fit(X_train,y_train)\n",
    "\n",
    "# Predict on the training and test datasets\n",
    "y_pred_train_lm = pipeline.predict(X_train)\n",
    "y_pred_test_lm = pipeline.predict(X_test)"
   ]
  },
  {
   "cell_type": "code",
   "execution_count": 95,
   "id": "62dac4b5",
   "metadata": {
    "execution": {
     "iopub.execute_input": "2025-01-27T16:59:55.307636Z",
     "iopub.status.busy": "2025-01-27T16:59:55.307071Z",
     "iopub.status.idle": "2025-01-27T16:59:55.322365Z",
     "shell.execute_reply": "2025-01-27T16:59:55.320994Z"
    },
    "papermill": {
     "duration": 0.059256,
     "end_time": "2025-01-27T16:59:55.324191",
     "exception": false,
     "start_time": "2025-01-27T16:59:55.264935",
     "status": "completed"
    },
    "tags": []
   },
   "outputs": [
    {
     "name": "stdout",
     "output_type": "stream",
     "text": [
      "The r2 Accuracy on the training dataset prediction is:  0.9675634154803487\n",
      "The r2 Accuracy on the test dataset prediction is:  0.968703504370825\n",
      "\n",
      "The RMSE  on the training dataset is:  13.335721085516212\n",
      "The RMSE  on the testing dataset is:  11.928438053349607\n",
      "\n",
      "The MAE  on the training dataset is:  8.782664440343714\n",
      "The MAE  on the testing dataset is:  8.72687977710864\n",
      "\n",
      "The MSE  on the training dataset is:  177.84145687068172\n",
      "The MSE  on the testing dataset is:  142.28763439259896\n"
     ]
    }
   ],
   "source": [
    "# Model Accuracy on training and testing dataset\n",
    "\n",
    "print('The r2 Accuracy on the training dataset prediction is: ',r2_score(y_train,y_pred_train_lm) )\n",
    "print('The r2 Accuracy on the test dataset prediction is: ',r2_score(y_test,y_pred_test_lm) )\n",
    "\n",
    "print(\"\")\n",
    "\n",
    "# The Root Mean Squared Error (RMSE)\n",
    "print('The RMSE  on the training dataset is: ',sqrt(mean_squared_error(y_train, y_pred_train_lm)))\n",
    "print('The RMSE  on the testing dataset is: ',sqrt(mean_squared_error(y_test, y_pred_test_lm)))\n",
    "\n",
    "print(\"\")\n",
    "# The Mean Absolute Error (MAE)\n",
    "print('The MAE  on the training dataset is: ',mean_absolute_error(y_train, y_pred_train_lm))\n",
    "print('The MAE  on the testing dataset is: ',mean_absolute_error(y_test, y_pred_test_lm))\n",
    "\n",
    "print(\"\")\n",
    "# The Mean Squared Error (MSE)\n",
    "print('The MSE  on the training dataset is: ',mean_squared_error(y_train, y_pred_train_lm))\n",
    "print('The MSE  on the testing dataset is: ',mean_squared_error(y_test, y_pred_test_lm))"
   ]
  },
  {
   "cell_type": "markdown",
   "id": "7b03851a",
   "metadata": {
    "papermill": {
     "duration": 0.040768,
     "end_time": "2025-01-27T16:59:55.407000",
     "exception": false,
     "start_time": "2025-01-27T16:59:55.366232",
     "status": "completed"
    },
    "tags": []
   },
   "source": [
    "## **5.2.2.  KNeighborsRegressor**"
   ]
  },
  {
   "cell_type": "code",
   "execution_count": 96,
   "id": "61b317f4",
   "metadata": {
    "execution": {
     "iopub.execute_input": "2025-01-27T16:59:55.490439Z",
     "iopub.status.busy": "2025-01-27T16:59:55.489988Z",
     "iopub.status.idle": "2025-01-27T16:59:55.561015Z",
     "shell.execute_reply": "2025-01-27T16:59:55.559901Z"
    },
    "papermill": {
     "duration": 0.114799,
     "end_time": "2025-01-27T16:59:55.562829",
     "exception": false,
     "start_time": "2025-01-27T16:59:55.448030",
     "status": "completed"
    },
    "tags": []
   },
   "outputs": [],
   "source": [
    "# training with KNeighborsRegressor\n",
    "\n",
    "neigh = KNeighborsRegressor(n_neighbors=2)\n",
    "\n",
    "pipeline = Pipeline(steps=[('preprocessor', preprocessor), ('regressor', neigh)])\n",
    "\n",
    "# Fit the pipeline to the training data\n",
    "pipeline.fit(X_train,y_train)\n",
    "\n",
    "# Predict on the training and test datasets\n",
    "y_pred_train_knn = pipeline.predict(X_train)\n",
    "y_pred_test_knn = pipeline.predict(X_test)"
   ]
  },
  {
   "cell_type": "code",
   "execution_count": 97,
   "id": "0190877a",
   "metadata": {
    "execution": {
     "iopub.execute_input": "2025-01-27T16:59:55.646271Z",
     "iopub.status.busy": "2025-01-27T16:59:55.645878Z",
     "iopub.status.idle": "2025-01-27T16:59:55.663683Z",
     "shell.execute_reply": "2025-01-27T16:59:55.662395Z"
    },
    "papermill": {
     "duration": 0.061632,
     "end_time": "2025-01-27T16:59:55.665382",
     "exception": false,
     "start_time": "2025-01-27T16:59:55.603750",
     "status": "completed"
    },
    "tags": []
   },
   "outputs": [
    {
     "name": "stdout",
     "output_type": "stream",
     "text": [
      "The R2 score on the training dataset prediction is:  0.9880364262171328\n",
      "The R2 score on the test dataset prediction is:  0.9659555905220559\n",
      "\n",
      "The RMSE  on the training dataset is:  8.098962925519118\n",
      "The RMSE  on the testing dataset is:  12.441095585799507\n",
      "\n",
      "The MAE  on the training dataset is:  4.665494333724111\n",
      "The MAE  on the testing dataset is:  7.59921875\n",
      "\n",
      "The MSE  on the training dataset is:  65.59320046893318\n",
      "The MSE  on the testing dataset is:  154.780859375\n"
     ]
    }
   ],
   "source": [
    "# Model Accuracy on training dataset\n",
    "print('The R2 score on the training dataset prediction is: ', r2_score(y_train,y_pred_train_knn))\n",
    "print('The R2 score on the test dataset prediction is: ', r2_score(y_test, y_pred_test_knn))\n",
    "print(\"\")\n",
    "\n",
    "# The Root Mean Squared Error (RMSE)\n",
    "print('The RMSE  on the training dataset is: ',sqrt(mean_squared_error(y_train,y_pred_train_knn)))\n",
    "print('The RMSE  on the testing dataset is: ',sqrt(mean_squared_error(y_test, y_pred_test_knn)))\n",
    "\n",
    "print(\"\")\n",
    "# The Mean Absolute Error (MAE)\n",
    "print('The MAE  on the training dataset is: ',mean_absolute_error(y_train,y_pred_train_knn))\n",
    "print('The MAE  on the testing dataset is: ',mean_absolute_error(y_test, y_pred_test_knn))\n",
    "\n",
    "print(\"\")\n",
    "# The Mean Squared Error (MSE)\n",
    "print('The MSE  on the training dataset is: ',mean_squared_error(y_train, y_pred_train_knn))\n",
    "print('The MSE  on the testing dataset is: ',mean_squared_error(y_test, y_pred_test_knn))"
   ]
  },
  {
   "cell_type": "markdown",
   "id": "e750a03d",
   "metadata": {
    "papermill": {
     "duration": 0.04046,
     "end_time": "2025-01-27T16:59:55.747116",
     "exception": false,
     "start_time": "2025-01-27T16:59:55.706656",
     "status": "completed"
    },
    "tags": []
   },
   "source": [
    "## **5.2.3.  Random Forest Regressor**"
   ]
  },
  {
   "cell_type": "code",
   "execution_count": 98,
   "id": "eb99d379",
   "metadata": {
    "execution": {
     "iopub.execute_input": "2025-01-27T16:59:55.829790Z",
     "iopub.status.busy": "2025-01-27T16:59:55.829420Z",
     "iopub.status.idle": "2025-01-27T16:59:56.842580Z",
     "shell.execute_reply": "2025-01-27T16:59:56.841364Z"
    },
    "papermill": {
     "duration": 1.056756,
     "end_time": "2025-01-27T16:59:56.844322",
     "exception": false,
     "start_time": "2025-01-27T16:59:55.787566",
     "status": "completed"
    },
    "tags": []
   },
   "outputs": [],
   "source": [
    "# Training with random forest regressor\n",
    "random = RandomForestRegressor()\n",
    "\n",
    "pipeline = Pipeline(steps=[('preprocessor', preprocessor), ('regressor', random)])\n",
    "\n",
    "# Fit the pipeline to the training data\n",
    "pipeline.fit(X_train,y_train)\n",
    "\n",
    "# Predict on the training and test datasets\n",
    "y_pred_train_random = pipeline.predict(X_train)\n",
    "y_pred_test_random = pipeline.predict(X_test)"
   ]
  },
  {
   "cell_type": "code",
   "execution_count": 99,
   "id": "9ed406c5",
   "metadata": {
    "execution": {
     "iopub.execute_input": "2025-01-27T16:59:56.927863Z",
     "iopub.status.busy": "2025-01-27T16:59:56.927474Z",
     "iopub.status.idle": "2025-01-27T16:59:56.944805Z",
     "shell.execute_reply": "2025-01-27T16:59:56.943570Z"
    },
    "papermill": {
     "duration": 0.060801,
     "end_time": "2025-01-27T16:59:56.946365",
     "exception": false,
     "start_time": "2025-01-27T16:59:56.885564",
     "status": "completed"
    },
    "tags": []
   },
   "outputs": [
    {
     "name": "stdout",
     "output_type": "stream",
     "text": [
      "The R2 score on the training dataset prediction is:  0.9980759578205076\n",
      "The R2 score on the test dataset prediction is:  0.9962087847844905\n",
      "\n",
      "The RMSE  on the training dataset is:  3.2479268465149618\n",
      "The RMSE  on the testing dataset is:  4.1516902431419425\n",
      "\n",
      "The MAE  on the training dataset is:  0.32180148495506056\n",
      "The MAE  on the testing dataset is:  0.67778125\n",
      "\n",
      "The MSE  on the training dataset is:  10.549028800312623\n",
      "The MSE  on the testing dataset is:  17.236531875000004\n"
     ]
    }
   ],
   "source": [
    "# Model Accuracy on training dataset\n",
    "print('The R2 score on the training dataset prediction is: ', r2_score(y_train,y_pred_train_random))\n",
    "print('The R2 score on the test dataset prediction is: ', r2_score(y_test, y_pred_test_random))\n",
    "print(\"\")\n",
    "\n",
    "# The Root Mean Squared Error (RMSE)\n",
    "print('The RMSE  on the training dataset is: ',sqrt(mean_squared_error(y_train,y_pred_train_random)))\n",
    "print('The RMSE  on the testing dataset is: ',sqrt(mean_squared_error(y_test, y_pred_test_random)))\n",
    "\n",
    "print(\"\")\n",
    "# The Mean Absolute Error (MAE)\n",
    "print('The MAE  on the training dataset is: ',mean_absolute_error(y_train,y_pred_train_random))\n",
    "print('The MAE  on the testing dataset is: ',mean_absolute_error(y_test, y_pred_test_random))\n",
    "\n",
    "print(\"\")\n",
    "# The Mean Squared Error (MSE)\n",
    "print('The MSE  on the training dataset is: ',mean_squared_error(y_train, y_pred_train_random))\n",
    "print('The MSE  on the testing dataset is: ',mean_squared_error(y_test, y_pred_test_random))"
   ]
  },
  {
   "cell_type": "markdown",
   "id": "df5eb3f0",
   "metadata": {
    "papermill": {
     "duration": 0.040244,
     "end_time": "2025-01-27T16:59:57.027645",
     "exception": false,
     "start_time": "2025-01-27T16:59:56.987401",
     "status": "completed"
    },
    "tags": []
   },
   "source": [
    "## **5.2.4.  Decision Tree regressor**"
   ]
  },
  {
   "cell_type": "code",
   "execution_count": 100,
   "id": "eb406d09",
   "metadata": {
    "execution": {
     "iopub.execute_input": "2025-01-27T16:59:57.111367Z",
     "iopub.status.busy": "2025-01-27T16:59:57.110984Z",
     "iopub.status.idle": "2025-01-27T16:59:57.140152Z",
     "shell.execute_reply": "2025-01-27T16:59:57.139145Z"
    },
    "papermill": {
     "duration": 0.07299,
     "end_time": "2025-01-27T16:59:57.141931",
     "exception": false,
     "start_time": "2025-01-27T16:59:57.068941",
     "status": "completed"
    },
    "tags": []
   },
   "outputs": [],
   "source": [
    "# Training with Decision Tree regressor\n",
    "dt = DecisionTreeRegressor()\n",
    "\n",
    "pipeline = Pipeline(steps=[('preprocessor', preprocessor), ('regressor', dt)])\n",
    "\n",
    "# Fit the pipeline to the training data\n",
    "pipeline.fit(X_train,y_train)\n",
    "\n",
    "# Predict on the training and test datasets\n",
    "y_pred_train_dt = pipeline.predict(X_train)\n",
    "y_pred_test_dt = pipeline.predict(X_test)"
   ]
  },
  {
   "cell_type": "code",
   "execution_count": 101,
   "id": "4b1deaa4",
   "metadata": {
    "execution": {
     "iopub.execute_input": "2025-01-27T16:59:57.226655Z",
     "iopub.status.busy": "2025-01-27T16:59:57.226279Z",
     "iopub.status.idle": "2025-01-27T16:59:57.243863Z",
     "shell.execute_reply": "2025-01-27T16:59:57.242619Z"
    },
    "papermill": {
     "duration": 0.06241,
     "end_time": "2025-01-27T16:59:57.245601",
     "exception": false,
     "start_time": "2025-01-27T16:59:57.183191",
     "status": "completed"
    },
    "tags": []
   },
   "outputs": [
    {
     "name": "stdout",
     "output_type": "stream",
     "text": [
      "The R2 score on the training dataset prediction is:  1.0\n",
      "The R2 score on the test dataset prediction is:  0.9857443401063992\n",
      "\n",
      "The RMSE  on the training dataset is:  0.0\n",
      "The RMSE  on the testing dataset is:  8.050621094052309\n",
      "\n",
      "The MAE  on the training dataset is:  0.0\n",
      "The MAE  on the testing dataset is:  1.078125\n",
      "\n",
      "The MSE  on the training dataset is:  0.0\n",
      "The MSE  on the testing dataset is:  64.8125\n"
     ]
    }
   ],
   "source": [
    "# Model Accuracy on training dataset\n",
    "print('The R2 score on the training dataset prediction is: ', r2_score(y_train,y_pred_train_dt))\n",
    "print('The R2 score on the test dataset prediction is: ', r2_score(y_test, y_pred_test_dt))\n",
    "print(\"\")\n",
    "\n",
    "# The Root Mean Squared Error (RMSE)\n",
    "print('The RMSE  on the training dataset is: ',sqrt(mean_squared_error(y_train,y_pred_train_dt)))\n",
    "print('The RMSE  on the testing dataset is: ',sqrt(mean_squared_error(y_test, y_pred_test_dt)))\n",
    "\n",
    "print(\"\")\n",
    "# The Mean Absolute Error (MAE)\n",
    "print('The MAE  on the training dataset is: ',mean_absolute_error(y_train,y_pred_train_dt))\n",
    "print('The MAE  on the testing dataset is: ',mean_absolute_error(y_test, y_pred_test_dt))\n",
    "\n",
    "print(\"\")\n",
    "# The Mean Squared Error (MSE)\n",
    "print('The MSE  on the training dataset is: ',mean_squared_error(y_train, y_pred_train_dt))\n",
    "print('The MSE  on the testing dataset is: ',mean_squared_error(y_test, y_pred_test_dt))"
   ]
  },
  {
   "cell_type": "markdown",
   "id": "e179321d",
   "metadata": {
    "papermill": {
     "duration": 0.042488,
     "end_time": "2025-01-27T16:59:57.329196",
     "exception": false,
     "start_time": "2025-01-27T16:59:57.286708",
     "status": "completed"
    },
    "tags": []
   },
   "source": [
    "## **5.2.5.  Support Vector Machine regressor**"
   ]
  },
  {
   "cell_type": "code",
   "execution_count": 102,
   "id": "8b0377ed",
   "metadata": {
    "execution": {
     "iopub.execute_input": "2025-01-27T16:59:57.412013Z",
     "iopub.status.busy": "2025-01-27T16:59:57.411629Z",
     "iopub.status.idle": "2025-01-27T16:59:58.782651Z",
     "shell.execute_reply": "2025-01-27T16:59:58.781606Z"
    },
    "papermill": {
     "duration": 1.414975,
     "end_time": "2025-01-27T16:59:58.784895",
     "exception": false,
     "start_time": "2025-01-27T16:59:57.369920",
     "status": "completed"
    },
    "tags": []
   },
   "outputs": [],
   "source": [
    "# Training with Support Vector Machine regressor\n",
    "svr = SVR(kernel='linear')\n",
    "\n",
    "pipeline = Pipeline(steps=[('preprocessor', preprocessor), ('regressor', svr)])\n",
    "\n",
    "# Fit the pipeline to the training data\n",
    "pipeline.fit(X_train, y_train)\n",
    "\n",
    "# Predict on the training and test datasets\n",
    "y_pred_train_svr = pipeline.predict(X_train)\n",
    "y_pred_test_svr = pipeline.predict(X_test)"
   ]
  },
  {
   "cell_type": "code",
   "execution_count": 103,
   "id": "56872939",
   "metadata": {
    "execution": {
     "iopub.execute_input": "2025-01-27T16:59:58.887140Z",
     "iopub.status.busy": "2025-01-27T16:59:58.886672Z",
     "iopub.status.idle": "2025-01-27T16:59:58.904659Z",
     "shell.execute_reply": "2025-01-27T16:59:58.903425Z"
    },
    "papermill": {
     "duration": 0.064698,
     "end_time": "2025-01-27T16:59:58.906595",
     "exception": false,
     "start_time": "2025-01-27T16:59:58.841897",
     "status": "completed"
    },
    "tags": []
   },
   "outputs": [
    {
     "name": "stdout",
     "output_type": "stream",
     "text": [
      "The R2 score on the training dataset prediction is:  0.885316573048139\n",
      "The R2 score on the test dataset prediction is:  0.9387441789037466\n",
      "\n",
      "The RMSE on the training dataset is:  25.075481189251825\n",
      "The RMSE on the testing dataset is:  16.688196580080987\n",
      "\n",
      "The MAE on the training dataset is:  3.425123693377581\n",
      "The MAE on the testing dataset is:  2.3894872727086267\n",
      "\n",
      "The MSE  on the training dataset is:  628.7797568725221\n",
      "The MSE  on the testing dataset is:  278.4959050954268\n"
     ]
    }
   ],
   "source": [
    "# Model Accuracy on training dataset\n",
    "print('The R2 score on the training dataset prediction is: ', r2_score(y_train, y_pred_train_svr))\n",
    "print('The R2 score on the test dataset prediction is: ', r2_score(y_test, y_pred_test_svr))\n",
    "print(\"\")\n",
    "\n",
    "# The Root Mean Squared Error (RMSE)\n",
    "print('The RMSE on the training dataset is: ', sqrt(mean_squared_error(y_train, y_pred_train_svr)))\n",
    "print('The RMSE on the testing dataset is: ', sqrt(mean_squared_error(y_test, y_pred_test_svr)))\n",
    "print(\"\")\n",
    "\n",
    "# The Mean Absolute Error (MAE)\n",
    "print('The MAE on the training dataset is: ', mean_absolute_error(y_train, y_pred_train_svr))\n",
    "print('The MAE on the testing dataset is: ', mean_absolute_error(y_test, y_pred_test_svr))\n",
    "\n",
    "print(\"\")\n",
    "# The Mean Squared Error (MSE)\n",
    "print('The MSE  on the training dataset is: ',mean_squared_error(y_train, y_pred_train_svr))\n",
    "print('The MSE  on the testing dataset is: ',mean_squared_error(y_test, y_pred_test_svr))"
   ]
  },
  {
   "cell_type": "markdown",
   "id": "44c07689",
   "metadata": {
    "papermill": {
     "duration": 0.063995,
     "end_time": "2025-01-27T16:59:59.013258",
     "exception": false,
     "start_time": "2025-01-27T16:59:58.949263",
     "status": "completed"
    },
    "tags": []
   },
   "source": [
    "## **5.2.6.  XGBoost Regressor**"
   ]
  },
  {
   "cell_type": "code",
   "execution_count": 104,
   "id": "c147c420",
   "metadata": {
    "execution": {
     "iopub.execute_input": "2025-01-27T16:59:59.099518Z",
     "iopub.status.busy": "2025-01-27T16:59:59.099135Z",
     "iopub.status.idle": "2025-01-27T17:00:00.114853Z",
     "shell.execute_reply": "2025-01-27T17:00:00.113979Z"
    },
    "papermill": {
     "duration": 1.060814,
     "end_time": "2025-01-27T17:00:00.117305",
     "exception": false,
     "start_time": "2025-01-27T16:59:59.056491",
     "status": "completed"
    },
    "tags": []
   },
   "outputs": [],
   "source": [
    "# Training with XGBoost regressor\n",
    "xgb_regressor = XGBRegressor(objective='reg:squarederror')\n",
    "\n",
    "pipeline = Pipeline(steps=[('preprocessor', preprocessor), ('regressor', xgb_regressor)])\n",
    "\n",
    "# Fit the pipeline to the training data\n",
    "pipeline.fit(X_train, y_train)\n",
    "\n",
    "# Predict on the training and test datasets\n",
    "y_pred_train_xgb = pipeline.predict(X_train)\n",
    "y_pred_test_xgb = pipeline.predict(X_test)"
   ]
  },
  {
   "cell_type": "code",
   "execution_count": 105,
   "id": "3ec32b46",
   "metadata": {
    "execution": {
     "iopub.execute_input": "2025-01-27T17:00:00.208273Z",
     "iopub.status.busy": "2025-01-27T17:00:00.207874Z",
     "iopub.status.idle": "2025-01-27T17:00:00.226902Z",
     "shell.execute_reply": "2025-01-27T17:00:00.225500Z"
    },
    "papermill": {
     "duration": 0.065123,
     "end_time": "2025-01-27T17:00:00.228860",
     "exception": false,
     "start_time": "2025-01-27T17:00:00.163737",
     "status": "completed"
    },
    "tags": []
   },
   "outputs": [
    {
     "name": "stdout",
     "output_type": "stream",
     "text": [
      "The R2 score on the training dataset prediction is:  0.9999884261680223\n",
      "The R2 score on the test dataset prediction is:  0.9884092057630378\n",
      "\n",
      "The RMSE on the training dataset is:  0.25190543128934345\n",
      "The RMSE on the testing dataset is:  7.259259509512052\n",
      "\n",
      "The MAE on the training dataset is:  0.15732481443309002\n",
      "The MAE on the testing dataset is:  1.3124947667121887\n",
      "\n",
      "The MSE  on the training dataset is:  0.06345634631307014\n",
      "The MSE  on the testing dataset is:  52.69684862644117\n"
     ]
    }
   ],
   "source": [
    "# Model Accuracy on training dataset\n",
    "print('The R2 score on the training dataset prediction is: ', r2_score(y_train, y_pred_train_xgb))\n",
    "print('The R2 score on the test dataset prediction is: ', r2_score(y_test, y_pred_test_xgb))\n",
    "print(\"\")\n",
    "\n",
    "# The Root Mean Squared Error (RMSE)\n",
    "print('The RMSE on the training dataset is: ', sqrt(mean_squared_error(y_train, y_pred_train_xgb)))\n",
    "print('The RMSE on the testing dataset is: ', sqrt(mean_squared_error(y_test, y_pred_test_xgb)))\n",
    "print(\"\")\n",
    "\n",
    "# The Mean Absolute Error (MAE)\n",
    "print('The MAE on the training dataset is: ', mean_absolute_error(y_train, y_pred_train_xgb))\n",
    "print('The MAE on the testing dataset is: ', mean_absolute_error(y_test, y_pred_test_xgb))\n",
    "\n",
    "print(\"\")\n",
    "# The Mean Squared Error (MSE)\n",
    "print('The MSE  on the training dataset is: ',mean_squared_error(y_train, y_pred_train_xgb))\n",
    "print('The MSE  on the testing dataset is: ',mean_squared_error(y_test, y_pred_test_xgb))"
   ]
  },
  {
   "cell_type": "markdown",
   "id": "a048251b",
   "metadata": {
    "papermill": {
     "duration": 0.041941,
     "end_time": "2025-01-27T17:00:00.313498",
     "exception": false,
     "start_time": "2025-01-27T17:00:00.271557",
     "status": "completed"
    },
    "tags": []
   },
   "source": [
    "## **5.2.7.  Neural Network Regressor**"
   ]
  },
  {
   "cell_type": "code",
   "execution_count": 106,
   "id": "9b9edaca",
   "metadata": {
    "execution": {
     "iopub.execute_input": "2025-01-27T17:00:00.401361Z",
     "iopub.status.busy": "2025-01-27T17:00:00.400935Z",
     "iopub.status.idle": "2025-01-27T17:00:08.570964Z",
     "shell.execute_reply": "2025-01-27T17:00:08.569776Z"
    },
    "papermill": {
     "duration": 8.214746,
     "end_time": "2025-01-27T17:00:08.572671",
     "exception": false,
     "start_time": "2025-01-27T17:00:00.357925",
     "status": "completed"
    },
    "tags": []
   },
   "outputs": [
    {
     "name": "stderr",
     "output_type": "stream",
     "text": [
      "/usr/local/lib/python3.10/dist-packages/sklearn/neural_network/_multilayer_perceptron.py:686: ConvergenceWarning: Stochastic Optimizer: Maximum iterations (2000) reached and the optimization hasn't converged yet.\n",
      "  warnings.warn(\n"
     ]
    }
   ],
   "source": [
    "# training with neural network regressor\n",
    "\n",
    "nn = MLPRegressor(hidden_layer_sizes=(8,), activation='relu', solver='adam', max_iter=2000, learning_rate_init=0.001)\n",
    "\n",
    "pipeline = Pipeline(steps=[('preprocessor', preprocessor), ('regressor', nn)])\n",
    "\n",
    "# Fit the pipeline to the training data\n",
    "pipeline.fit(X_train,y_train)\n",
    "\n",
    "# Predict on the training and test datasets\n",
    "y_pred_train_nn = pipeline.predict(X_train)\n",
    "y_pred_test_nn = pipeline.predict(X_test)"
   ]
  },
  {
   "cell_type": "code",
   "execution_count": 107,
   "id": "98efcb92",
   "metadata": {
    "execution": {
     "iopub.execute_input": "2025-01-27T17:00:08.657533Z",
     "iopub.status.busy": "2025-01-27T17:00:08.657187Z",
     "iopub.status.idle": "2025-01-27T17:00:08.672319Z",
     "shell.execute_reply": "2025-01-27T17:00:08.671151Z"
    },
    "papermill": {
     "duration": 0.059647,
     "end_time": "2025-01-27T17:00:08.674032",
     "exception": false,
     "start_time": "2025-01-27T17:00:08.614385",
     "status": "completed"
    },
    "tags": []
   },
   "outputs": [
    {
     "name": "stdout",
     "output_type": "stream",
     "text": [
      "The R2 score on the training dataset prediction is:  0.9942082730657311\n",
      "The R2 score on the test dataset prediction is:  0.991863163586343\n",
      "\n",
      "The RMSE on the training dataset is:  5.63511759716274\n",
      "The RMSE on the testing dataset is:  6.082239488351692\n",
      "\n",
      "The MAE on the training dataset is:  2.890702860352827\n",
      "The MAE on the testing dataset is:  2.985223014385076\n",
      "\n",
      "The MSE  on the training dataset is:  31.754550333853167\n",
      "The MSE  on the testing dataset is:  36.993637193664654\n"
     ]
    }
   ],
   "source": [
    "# Model Accuracy on training dataset\n",
    "print('The R2 score on the training dataset prediction is: ', r2_score(y_train, y_pred_train_nn))\n",
    "print('The R2 score on the test dataset prediction is: ', r2_score(y_test, y_pred_test_nn))\n",
    "print(\"\")\n",
    "\n",
    "# The Root Mean Squared Error (RMSE)\n",
    "print('The RMSE on the training dataset is: ', sqrt(mean_squared_error(y_train, y_pred_train_nn)))\n",
    "print('The RMSE on the testing dataset is: ', sqrt(mean_squared_error(y_test, y_pred_test_nn)))\n",
    "print(\"\")\n",
    "\n",
    "# The Mean Absolute Error (MAE)\n",
    "print('The MAE on the training dataset is: ', mean_absolute_error(y_train, y_pred_train_nn))\n",
    "print('The MAE on the testing dataset is: ', mean_absolute_error(y_test, y_pred_test_nn))\n",
    "\n",
    "print(\"\")\n",
    "# The Mean Squared Error (MSE)\n",
    "print('The MSE  on the training dataset is: ',mean_squared_error(y_train, y_pred_train_nn))\n",
    "print('The MSE  on the testing dataset is: ',mean_squared_error(y_test, y_pred_test_nn))"
   ]
  },
  {
   "cell_type": "code",
   "execution_count": null,
   "id": "f07b9e52",
   "metadata": {
    "papermill": {
     "duration": 0.041339,
     "end_time": "2025-01-27T17:00:08.757098",
     "exception": false,
     "start_time": "2025-01-27T17:00:08.715759",
     "status": "completed"
    },
    "tags": []
   },
   "outputs": [],
   "source": []
  },
  {
   "cell_type": "code",
   "execution_count": null,
   "id": "ee875120",
   "metadata": {
    "papermill": {
     "duration": 0.041278,
     "end_time": "2025-01-27T17:00:08.839914",
     "exception": false,
     "start_time": "2025-01-27T17:00:08.798636",
     "status": "completed"
    },
    "tags": []
   },
   "outputs": [],
   "source": []
  },
  {
   "cell_type": "code",
   "execution_count": null,
   "id": "f0db3467",
   "metadata": {
    "papermill": {
     "duration": 0.041517,
     "end_time": "2025-01-27T17:00:08.923106",
     "exception": false,
     "start_time": "2025-01-27T17:00:08.881589",
     "status": "completed"
    },
    "tags": []
   },
   "outputs": [],
   "source": []
  },
  {
   "cell_type": "markdown",
   "id": "d08d8c47",
   "metadata": {
    "papermill": {
     "duration": 0.041926,
     "end_time": "2025-01-27T17:00:09.006561",
     "exception": false,
     "start_time": "2025-01-27T17:00:08.964635",
     "status": "completed"
    },
    "tags": []
   },
   "source": [
    "# **6.1. Splitting & Preprocessing the Raw Data**"
   ]
  },
  {
   "cell_type": "markdown",
   "id": "71990dd4",
   "metadata": {
    "papermill": {
     "duration": 0.041896,
     "end_time": "2025-01-27T17:00:09.090877",
     "exception": false,
     "start_time": "2025-01-27T17:00:09.048981",
     "status": "completed"
    },
    "tags": []
   },
   "source": [
    "(Preprocess Pollution --> Smooth Pollution --> Calculate smooth aqi)"
   ]
  },
  {
   "cell_type": "code",
   "execution_count": 108,
   "id": "292cf820",
   "metadata": {
    "execution": {
     "iopub.execute_input": "2025-01-27T17:00:09.178142Z",
     "iopub.status.busy": "2025-01-27T17:00:09.177738Z",
     "iopub.status.idle": "2025-01-27T17:00:09.194158Z",
     "shell.execute_reply": "2025-01-27T17:00:09.193129Z"
    },
    "papermill": {
     "duration": 0.062674,
     "end_time": "2025-01-27T17:00:09.195826",
     "exception": false,
     "start_time": "2025-01-27T17:00:09.133152",
     "status": "completed"
    },
    "tags": []
   },
   "outputs": [
    {
     "data": {
      "text/html": [
       "<div>\n",
       "<style scoped>\n",
       "    .dataframe tbody tr th:only-of-type {\n",
       "        vertical-align: middle;\n",
       "    }\n",
       "\n",
       "    .dataframe tbody tr th {\n",
       "        vertical-align: top;\n",
       "    }\n",
       "\n",
       "    .dataframe thead th {\n",
       "        text-align: right;\n",
       "    }\n",
       "</style>\n",
       "<table border=\"1\" class=\"dataframe\">\n",
       "  <thead>\n",
       "    <tr style=\"text-align: right;\">\n",
       "      <th></th>\n",
       "      <th>co</th>\n",
       "      <th>no2</th>\n",
       "      <th>o3</th>\n",
       "      <th>pm10</th>\n",
       "      <th>pm25</th>\n",
       "      <th>so2</th>\n",
       "      <th>humidity</th>\n",
       "      <th>pressure</th>\n",
       "      <th>temperature</th>\n",
       "      <th>wind-speed</th>\n",
       "      <th>Country_City</th>\n",
       "      <th>AQI_Smooth</th>\n",
       "    </tr>\n",
       "  </thead>\n",
       "  <tbody>\n",
       "    <tr>\n",
       "      <th>2014-12-29</th>\n",
       "      <td>11.50</td>\n",
       "      <td>29.400000</td>\n",
       "      <td>5.366667</td>\n",
       "      <td>182.333333</td>\n",
       "      <td>195.666667</td>\n",
       "      <td>6.000000</td>\n",
       "      <td>60.691097</td>\n",
       "      <td>985.187382</td>\n",
       "      <td>26.3352</td>\n",
       "      <td>1.102459</td>\n",
       "      <td>India_Delhi</td>\n",
       "      <td>195.666667</td>\n",
       "    </tr>\n",
       "    <tr>\n",
       "      <th>2014-12-30</th>\n",
       "      <td>11.50</td>\n",
       "      <td>29.400000</td>\n",
       "      <td>5.366667</td>\n",
       "      <td>182.333333</td>\n",
       "      <td>195.666667</td>\n",
       "      <td>6.000000</td>\n",
       "      <td>60.691097</td>\n",
       "      <td>985.187382</td>\n",
       "      <td>26.3352</td>\n",
       "      <td>1.102459</td>\n",
       "      <td>India_Delhi</td>\n",
       "      <td>195.666667</td>\n",
       "    </tr>\n",
       "    <tr>\n",
       "      <th>2014-12-31</th>\n",
       "      <td>11.50</td>\n",
       "      <td>29.400000</td>\n",
       "      <td>5.366667</td>\n",
       "      <td>182.333333</td>\n",
       "      <td>195.666667</td>\n",
       "      <td>6.000000</td>\n",
       "      <td>60.691097</td>\n",
       "      <td>985.187382</td>\n",
       "      <td>26.3352</td>\n",
       "      <td>1.102459</td>\n",
       "      <td>India_Delhi</td>\n",
       "      <td>195.666667</td>\n",
       "    </tr>\n",
       "    <tr>\n",
       "      <th>2015-01-01</th>\n",
       "      <td>11.50</td>\n",
       "      <td>29.400000</td>\n",
       "      <td>5.366667</td>\n",
       "      <td>182.333333</td>\n",
       "      <td>195.666667</td>\n",
       "      <td>6.000000</td>\n",
       "      <td>60.691097</td>\n",
       "      <td>985.187382</td>\n",
       "      <td>26.3352</td>\n",
       "      <td>1.102459</td>\n",
       "      <td>India_Delhi</td>\n",
       "      <td>195.666667</td>\n",
       "    </tr>\n",
       "    <tr>\n",
       "      <th>2015-01-02</th>\n",
       "      <td>11.25</td>\n",
       "      <td>26.616667</td>\n",
       "      <td>5.816667</td>\n",
       "      <td>166.000000</td>\n",
       "      <td>177.000000</td>\n",
       "      <td>5.733333</td>\n",
       "      <td>60.691097</td>\n",
       "      <td>985.187382</td>\n",
       "      <td>26.3352</td>\n",
       "      <td>1.102459</td>\n",
       "      <td>India_Delhi</td>\n",
       "      <td>177.000000</td>\n",
       "    </tr>\n",
       "  </tbody>\n",
       "</table>\n",
       "</div>"
      ],
      "text/plain": [
       "               co        no2        o3        pm10        pm25       so2  \\\n",
       "2014-12-29  11.50  29.400000  5.366667  182.333333  195.666667  6.000000   \n",
       "2014-12-30  11.50  29.400000  5.366667  182.333333  195.666667  6.000000   \n",
       "2014-12-31  11.50  29.400000  5.366667  182.333333  195.666667  6.000000   \n",
       "2015-01-01  11.50  29.400000  5.366667  182.333333  195.666667  6.000000   \n",
       "2015-01-02  11.25  26.616667  5.816667  166.000000  177.000000  5.733333   \n",
       "\n",
       "             humidity    pressure  temperature  wind-speed Country_City  \\\n",
       "2014-12-29  60.691097  985.187382      26.3352    1.102459  India_Delhi   \n",
       "2014-12-30  60.691097  985.187382      26.3352    1.102459  India_Delhi   \n",
       "2014-12-31  60.691097  985.187382      26.3352    1.102459  India_Delhi   \n",
       "2015-01-01  60.691097  985.187382      26.3352    1.102459  India_Delhi   \n",
       "2015-01-02  60.691097  985.187382      26.3352    1.102459  India_Delhi   \n",
       "\n",
       "            AQI_Smooth  \n",
       "2014-12-29  195.666667  \n",
       "2014-12-30  195.666667  \n",
       "2014-12-31  195.666667  \n",
       "2015-01-01  195.666667  \n",
       "2015-01-02  177.000000  "
      ]
     },
     "execution_count": 108,
     "metadata": {},
     "output_type": "execute_result"
    }
   ],
   "source": [
    "new_smooth.head()"
   ]
  },
  {
   "cell_type": "code",
   "execution_count": 109,
   "id": "a31bc135",
   "metadata": {
    "execution": {
     "iopub.execute_input": "2025-01-27T17:00:09.282491Z",
     "iopub.status.busy": "2025-01-27T17:00:09.282131Z",
     "iopub.status.idle": "2025-01-27T17:00:09.287969Z",
     "shell.execute_reply": "2025-01-27T17:00:09.286969Z"
    },
    "papermill": {
     "duration": 0.049795,
     "end_time": "2025-01-27T17:00:09.289651",
     "exception": false,
     "start_time": "2025-01-27T17:00:09.239856",
     "status": "completed"
    },
    "tags": []
   },
   "outputs": [
    {
     "data": {
      "text/plain": [
       "Index(['co', 'no2', 'o3', 'pm10', 'pm25', 'so2', 'humidity', 'pressure',\n",
       "       'temperature', 'wind-speed', 'Country_City', 'AQI_Smooth'],\n",
       "      dtype='object')"
      ]
     },
     "execution_count": 109,
     "metadata": {},
     "output_type": "execute_result"
    }
   ],
   "source": [
    "new_smooth.columns"
   ]
  },
  {
   "cell_type": "markdown",
   "id": "38ca563e",
   "metadata": {
    "papermill": {
     "duration": 0.044233,
     "end_time": "2025-01-27T17:00:09.375639",
     "exception": false,
     "start_time": "2025-01-27T17:00:09.331406",
     "status": "completed"
    },
    "tags": []
   },
   "source": [
    "***Working with AQI_smoothed_iqr***"
   ]
  },
  {
   "cell_type": "code",
   "execution_count": 110,
   "id": "f22592e2",
   "metadata": {
    "execution": {
     "iopub.execute_input": "2025-01-27T17:00:09.461531Z",
     "iopub.status.busy": "2025-01-27T17:00:09.461167Z",
     "iopub.status.idle": "2025-01-27T17:00:09.466760Z",
     "shell.execute_reply": "2025-01-27T17:00:09.465887Z"
    },
    "papermill": {
     "duration": 0.050498,
     "end_time": "2025-01-27T17:00:09.468467",
     "exception": false,
     "start_time": "2025-01-27T17:00:09.417969",
     "status": "completed"
    },
    "tags": []
   },
   "outputs": [],
   "source": [
    "data = new_smooth.drop(['Country_City'],axis=1)"
   ]
  },
  {
   "cell_type": "code",
   "execution_count": 111,
   "id": "b37b15b8",
   "metadata": {
    "execution": {
     "iopub.execute_input": "2025-01-27T17:00:09.554273Z",
     "iopub.status.busy": "2025-01-27T17:00:09.553897Z",
     "iopub.status.idle": "2025-01-27T17:00:09.569768Z",
     "shell.execute_reply": "2025-01-27T17:00:09.568868Z"
    },
    "papermill": {
     "duration": 0.060673,
     "end_time": "2025-01-27T17:00:09.571455",
     "exception": false,
     "start_time": "2025-01-27T17:00:09.510782",
     "status": "completed"
    },
    "tags": []
   },
   "outputs": [
    {
     "data": {
      "text/html": [
       "<div>\n",
       "<style scoped>\n",
       "    .dataframe tbody tr th:only-of-type {\n",
       "        vertical-align: middle;\n",
       "    }\n",
       "\n",
       "    .dataframe tbody tr th {\n",
       "        vertical-align: top;\n",
       "    }\n",
       "\n",
       "    .dataframe thead th {\n",
       "        text-align: right;\n",
       "    }\n",
       "</style>\n",
       "<table border=\"1\" class=\"dataframe\">\n",
       "  <thead>\n",
       "    <tr style=\"text-align: right;\">\n",
       "      <th></th>\n",
       "      <th>co</th>\n",
       "      <th>no2</th>\n",
       "      <th>o3</th>\n",
       "      <th>pm10</th>\n",
       "      <th>pm25</th>\n",
       "      <th>so2</th>\n",
       "      <th>humidity</th>\n",
       "      <th>pressure</th>\n",
       "      <th>temperature</th>\n",
       "      <th>wind-speed</th>\n",
       "      <th>AQI_Smooth</th>\n",
       "    </tr>\n",
       "  </thead>\n",
       "  <tbody>\n",
       "    <tr>\n",
       "      <th>2014-12-29</th>\n",
       "      <td>11.50</td>\n",
       "      <td>29.400000</td>\n",
       "      <td>5.366667</td>\n",
       "      <td>182.333333</td>\n",
       "      <td>195.666667</td>\n",
       "      <td>6.000000</td>\n",
       "      <td>60.691097</td>\n",
       "      <td>985.187382</td>\n",
       "      <td>26.3352</td>\n",
       "      <td>1.102459</td>\n",
       "      <td>195.666667</td>\n",
       "    </tr>\n",
       "    <tr>\n",
       "      <th>2014-12-30</th>\n",
       "      <td>11.50</td>\n",
       "      <td>29.400000</td>\n",
       "      <td>5.366667</td>\n",
       "      <td>182.333333</td>\n",
       "      <td>195.666667</td>\n",
       "      <td>6.000000</td>\n",
       "      <td>60.691097</td>\n",
       "      <td>985.187382</td>\n",
       "      <td>26.3352</td>\n",
       "      <td>1.102459</td>\n",
       "      <td>195.666667</td>\n",
       "    </tr>\n",
       "    <tr>\n",
       "      <th>2014-12-31</th>\n",
       "      <td>11.50</td>\n",
       "      <td>29.400000</td>\n",
       "      <td>5.366667</td>\n",
       "      <td>182.333333</td>\n",
       "      <td>195.666667</td>\n",
       "      <td>6.000000</td>\n",
       "      <td>60.691097</td>\n",
       "      <td>985.187382</td>\n",
       "      <td>26.3352</td>\n",
       "      <td>1.102459</td>\n",
       "      <td>195.666667</td>\n",
       "    </tr>\n",
       "    <tr>\n",
       "      <th>2015-01-01</th>\n",
       "      <td>11.50</td>\n",
       "      <td>29.400000</td>\n",
       "      <td>5.366667</td>\n",
       "      <td>182.333333</td>\n",
       "      <td>195.666667</td>\n",
       "      <td>6.000000</td>\n",
       "      <td>60.691097</td>\n",
       "      <td>985.187382</td>\n",
       "      <td>26.3352</td>\n",
       "      <td>1.102459</td>\n",
       "      <td>195.666667</td>\n",
       "    </tr>\n",
       "    <tr>\n",
       "      <th>2015-01-02</th>\n",
       "      <td>11.25</td>\n",
       "      <td>26.616667</td>\n",
       "      <td>5.816667</td>\n",
       "      <td>166.000000</td>\n",
       "      <td>177.000000</td>\n",
       "      <td>5.733333</td>\n",
       "      <td>60.691097</td>\n",
       "      <td>985.187382</td>\n",
       "      <td>26.3352</td>\n",
       "      <td>1.102459</td>\n",
       "      <td>177.000000</td>\n",
       "    </tr>\n",
       "  </tbody>\n",
       "</table>\n",
       "</div>"
      ],
      "text/plain": [
       "               co        no2        o3        pm10        pm25       so2  \\\n",
       "2014-12-29  11.50  29.400000  5.366667  182.333333  195.666667  6.000000   \n",
       "2014-12-30  11.50  29.400000  5.366667  182.333333  195.666667  6.000000   \n",
       "2014-12-31  11.50  29.400000  5.366667  182.333333  195.666667  6.000000   \n",
       "2015-01-01  11.50  29.400000  5.366667  182.333333  195.666667  6.000000   \n",
       "2015-01-02  11.25  26.616667  5.816667  166.000000  177.000000  5.733333   \n",
       "\n",
       "             humidity    pressure  temperature  wind-speed  AQI_Smooth  \n",
       "2014-12-29  60.691097  985.187382      26.3352    1.102459  195.666667  \n",
       "2014-12-30  60.691097  985.187382      26.3352    1.102459  195.666667  \n",
       "2014-12-31  60.691097  985.187382      26.3352    1.102459  195.666667  \n",
       "2015-01-01  60.691097  985.187382      26.3352    1.102459  195.666667  \n",
       "2015-01-02  60.691097  985.187382      26.3352    1.102459  177.000000  "
      ]
     },
     "execution_count": 111,
     "metadata": {},
     "output_type": "execute_result"
    }
   ],
   "source": [
    "data.head()"
   ]
  },
  {
   "cell_type": "code",
   "execution_count": 112,
   "id": "09084c1f",
   "metadata": {
    "execution": {
     "iopub.execute_input": "2025-01-27T17:00:09.658089Z",
     "iopub.status.busy": "2025-01-27T17:00:09.657711Z",
     "iopub.status.idle": "2025-01-27T17:00:09.665554Z",
     "shell.execute_reply": "2025-01-27T17:00:09.664442Z"
    },
    "papermill": {
     "duration": 0.053412,
     "end_time": "2025-01-27T17:00:09.667210",
     "exception": false,
     "start_time": "2025-01-27T17:00:09.613798",
     "status": "completed"
    },
    "tags": []
   },
   "outputs": [
    {
     "name": "stdout",
     "output_type": "stream",
     "text": [
      "Index(['co', 'no2', 'o3', 'pm10', 'pm25', 'so2', 'humidity', 'pressure',\n",
      "       'temperature', 'wind-speed', 'AQI_Smooth'],\n",
      "      dtype='object')\n",
      "Index([], dtype='object')\n"
     ]
    }
   ],
   "source": [
    "num = data.select_dtypes(include=['int16', 'int32', 'int64', 'float16', 'float32', 'float64'])\n",
    "cat = data.select_dtypes(include=['object'])\n",
    "\n",
    "print(num.columns)\n",
    "print(cat.columns)"
   ]
  },
  {
   "cell_type": "code",
   "execution_count": 113,
   "id": "c3b6abd4",
   "metadata": {
    "execution": {
     "iopub.execute_input": "2025-01-27T17:00:09.753453Z",
     "iopub.status.busy": "2025-01-27T17:00:09.753033Z",
     "iopub.status.idle": "2025-01-27T17:00:09.764862Z",
     "shell.execute_reply": "2025-01-27T17:00:09.763749Z"
    },
    "papermill": {
     "duration": 0.056704,
     "end_time": "2025-01-27T17:00:09.766645",
     "exception": false,
     "start_time": "2025-01-27T17:00:09.709941",
     "status": "completed"
    },
    "tags": []
   },
   "outputs": [
    {
     "name": "stdout",
     "output_type": "stream",
     "text": [
      "(2559, 10) (2559,) (640, 10) (640,)\n"
     ]
    }
   ],
   "source": [
    "X = data[['co', 'no2', 'o3', 'pm10', 'pm25', 'so2', 'humidity', 'pressure',\n",
    "       'temperature', 'wind-speed']]\n",
    "\n",
    "y = data['AQI_Smooth']\n",
    "\n",
    "X_train, X_test, y_train, y_test = train_test_split(X, y, test_size = 0.2, random_state = 42)\n",
    "\n",
    "print(X_train.shape, y_train.shape, X_test.shape, y_test.shape)"
   ]
  },
  {
   "cell_type": "code",
   "execution_count": 114,
   "id": "8b1df865",
   "metadata": {
    "execution": {
     "iopub.execute_input": "2025-01-27T17:00:09.855095Z",
     "iopub.status.busy": "2025-01-27T17:00:09.854673Z",
     "iopub.status.idle": "2025-01-27T17:00:09.859990Z",
     "shell.execute_reply": "2025-01-27T17:00:09.858791Z"
    },
    "papermill": {
     "duration": 0.051245,
     "end_time": "2025-01-27T17:00:09.861832",
     "exception": false,
     "start_time": "2025-01-27T17:00:09.810587",
     "status": "completed"
    },
    "tags": []
   },
   "outputs": [],
   "source": [
    "# Standard Scalling the numeric columns\n",
    "preprocessor = ColumnTransformer(\n",
    "    transformers=[\n",
    "        ('num', Pipeline(steps=[ \n",
    "            ('scaler', StandardScaler())\n",
    "        ]), ['co', 'no2', 'o3', 'pm10', 'pm25', 'so2', 'humidity', 'pressure',\n",
    "       'temperature', 'wind-speed'])  \n",
    "    ])\n",
    "# Pipeline\n",
    "pipeline = Pipeline(steps=[\n",
    "    ('preprocessor', preprocessor)\n",
    "])"
   ]
  },
  {
   "cell_type": "markdown",
   "id": "9bbbc5ca",
   "metadata": {
    "papermill": {
     "duration": 0.041992,
     "end_time": "2025-01-27T17:00:09.948633",
     "exception": false,
     "start_time": "2025-01-27T17:00:09.906641",
     "status": "completed"
    },
    "tags": []
   },
   "source": [
    "# **6.2. Model Training & Testing**"
   ]
  },
  {
   "cell_type": "markdown",
   "id": "5846e07b",
   "metadata": {
    "papermill": {
     "duration": 0.043529,
     "end_time": "2025-01-27T17:00:10.035657",
     "exception": false,
     "start_time": "2025-01-27T17:00:09.992128",
     "status": "completed"
    },
    "tags": []
   },
   "source": [
    "## **6.2.1. LinearRegression**"
   ]
  },
  {
   "cell_type": "code",
   "execution_count": 115,
   "id": "484f7bb9",
   "metadata": {
    "execution": {
     "iopub.execute_input": "2025-01-27T17:00:10.123691Z",
     "iopub.status.busy": "2025-01-27T17:00:10.123245Z",
     "iopub.status.idle": "2025-01-27T17:00:10.145561Z",
     "shell.execute_reply": "2025-01-27T17:00:10.144364Z"
    },
    "papermill": {
     "duration": 0.069334,
     "end_time": "2025-01-27T17:00:10.147539",
     "exception": false,
     "start_time": "2025-01-27T17:00:10.078205",
     "status": "completed"
    },
    "tags": []
   },
   "outputs": [],
   "source": [
    "# training with LinearRegression\n",
    "\n",
    "lm = LinearRegression(fit_intercept = True)\n",
    "\n",
    "pipeline = Pipeline(steps=[('preprocessor', preprocessor), ('regressor', lm)])\n",
    "\n",
    "# Fit the pipeline to the training data\n",
    "pipeline.fit(X_train,y_train)\n",
    "\n",
    "# Predict on the training and test datasets\n",
    "y_pred_train_lm = pipeline.predict(X_train)\n",
    "y_pred_test_lm = pipeline.predict(X_test)"
   ]
  },
  {
   "cell_type": "code",
   "execution_count": 116,
   "id": "09a8c2d6",
   "metadata": {
    "execution": {
     "iopub.execute_input": "2025-01-27T17:00:10.235593Z",
     "iopub.status.busy": "2025-01-27T17:00:10.235222Z",
     "iopub.status.idle": "2025-01-27T17:00:10.250554Z",
     "shell.execute_reply": "2025-01-27T17:00:10.249611Z"
    },
    "papermill": {
     "duration": 0.060346,
     "end_time": "2025-01-27T17:00:10.252422",
     "exception": false,
     "start_time": "2025-01-27T17:00:10.192076",
     "status": "completed"
    },
    "tags": []
   },
   "outputs": [
    {
     "name": "stdout",
     "output_type": "stream",
     "text": [
      "The r2 Accuracy on the training dataset prediction is:  0.9957518243926221\n",
      "The r2 Accuracy on the test dataset prediction is:  0.9967443701733852\n",
      "\n",
      "The RMSE  on the training dataset is:  3.559783538275859\n",
      "The RMSE  on the testing dataset is:  2.980390727527673\n",
      "\n",
      "The MAE  on the training dataset is:  1.4027802339569377\n",
      "The MAE  on the testing dataset is:  1.3042642877255504\n",
      "\n",
      "The MSE  on the training dataset is:  12.672058839379794\n",
      "The MSE  on the testing dataset is:  8.882728888732933\n"
     ]
    }
   ],
   "source": [
    "# Model Accuracy on training and testing dataset\n",
    "\n",
    "print('The r2 Accuracy on the training dataset prediction is: ',r2_score(y_train,y_pred_train_lm) )\n",
    "print('The r2 Accuracy on the test dataset prediction is: ',r2_score(y_test,y_pred_test_lm) )\n",
    "\n",
    "print(\"\")\n",
    "\n",
    "# The Root Mean Squared Error (RMSE)\n",
    "print('The RMSE  on the training dataset is: ',sqrt(mean_squared_error(y_train, y_pred_train_lm)))\n",
    "print('The RMSE  on the testing dataset is: ',sqrt(mean_squared_error(y_test, y_pred_test_lm)))\n",
    "\n",
    "print(\"\")\n",
    "# The Mean Absolute Error (MAE)\n",
    "print('The MAE  on the training dataset is: ',mean_absolute_error(y_train, y_pred_train_lm))\n",
    "print('The MAE  on the testing dataset is: ',mean_absolute_error(y_test, y_pred_test_lm))\n",
    "\n",
    "print(\"\")\n",
    "# The Mean Squared Error (MSE)\n",
    "print('The MSE  on the training dataset is: ',mean_squared_error(y_train, y_pred_train_lm))\n",
    "print('The MSE  on the testing dataset is: ',mean_squared_error(y_test, y_pred_test_lm))"
   ]
  },
  {
   "cell_type": "markdown",
   "id": "c8543057",
   "metadata": {
    "papermill": {
     "duration": 0.042763,
     "end_time": "2025-01-27T17:00:10.338665",
     "exception": false,
     "start_time": "2025-01-27T17:00:10.295902",
     "status": "completed"
    },
    "tags": []
   },
   "source": [
    "## **6.2.2.  KNeighborsRegressor**"
   ]
  },
  {
   "cell_type": "code",
   "execution_count": 117,
   "id": "a632ca2e",
   "metadata": {
    "execution": {
     "iopub.execute_input": "2025-01-27T17:00:10.427577Z",
     "iopub.status.busy": "2025-01-27T17:00:10.427168Z",
     "iopub.status.idle": "2025-01-27T17:00:10.496678Z",
     "shell.execute_reply": "2025-01-27T17:00:10.495639Z"
    },
    "papermill": {
     "duration": 0.114988,
     "end_time": "2025-01-27T17:00:10.498523",
     "exception": false,
     "start_time": "2025-01-27T17:00:10.383535",
     "status": "completed"
    },
    "tags": []
   },
   "outputs": [],
   "source": [
    "# training with KNeighborsRegressor\n",
    "\n",
    "neigh = KNeighborsRegressor(n_neighbors=2)\n",
    "\n",
    "pipeline = Pipeline(steps=[('preprocessor', preprocessor), ('regressor', neigh)])\n",
    "\n",
    "# Fit the pipeline to the training data\n",
    "pipeline.fit(X_train,y_train)\n",
    "\n",
    "# Predict on the training and test datasets\n",
    "y_pred_train_knn = pipeline.predict(X_train)\n",
    "y_pred_test_knn = pipeline.predict(X_test)"
   ]
  },
  {
   "cell_type": "code",
   "execution_count": 118,
   "id": "915fcb8e",
   "metadata": {
    "execution": {
     "iopub.execute_input": "2025-01-27T17:00:10.585429Z",
     "iopub.status.busy": "2025-01-27T17:00:10.585021Z",
     "iopub.status.idle": "2025-01-27T17:00:10.600032Z",
     "shell.execute_reply": "2025-01-27T17:00:10.598848Z"
    },
    "papermill": {
     "duration": 0.060525,
     "end_time": "2025-01-27T17:00:10.601810",
     "exception": false,
     "start_time": "2025-01-27T17:00:10.541285",
     "status": "completed"
    },
    "tags": []
   },
   "outputs": [
    {
     "name": "stdout",
     "output_type": "stream",
     "text": [
      "The R2 score on the training dataset prediction is:  0.9943431422885666\n",
      "The R2 score on the test dataset prediction is:  0.982106681317648\n",
      "\n",
      "The RMSE  on the training dataset is:  4.107806590990826\n",
      "The RMSE  on the testing dataset is:  6.987167309494366\n",
      "\n",
      "The MAE  on the training dataset is:  2.590152982272786\n",
      "The MAE  on the testing dataset is:  4.337054976610323\n",
      "\n",
      "The MSE  on the training dataset is:  16.874074988987672\n",
      "The MSE  on the testing dataset is:  48.82050701086673\n"
     ]
    }
   ],
   "source": [
    "# Model Accuracy on training dataset\n",
    "print('The R2 score on the training dataset prediction is: ', r2_score(y_train,y_pred_train_knn))\n",
    "print('The R2 score on the test dataset prediction is: ', r2_score(y_test, y_pred_test_knn))\n",
    "print(\"\")\n",
    "\n",
    "# The Root Mean Squared Error (RMSE)\n",
    "print('The RMSE  on the training dataset is: ',sqrt(mean_squared_error(y_train,y_pred_train_knn)))\n",
    "print('The RMSE  on the testing dataset is: ',sqrt(mean_squared_error(y_test, y_pred_test_knn)))\n",
    "\n",
    "print(\"\")\n",
    "# The Mean Absolute Error (MAE)\n",
    "print('The MAE  on the training dataset is: ',mean_absolute_error(y_train,y_pred_train_knn))\n",
    "print('The MAE  on the testing dataset is: ',mean_absolute_error(y_test, y_pred_test_knn))\n",
    "\n",
    "print(\"\")\n",
    "# The Mean Squared Error (MSE)\n",
    "print('The MSE  on the training dataset is: ',mean_squared_error(y_train, y_pred_train_knn))\n",
    "print('The MSE  on the testing dataset is: ',mean_squared_error(y_test, y_pred_test_knn))"
   ]
  },
  {
   "cell_type": "markdown",
   "id": "e9956ce7",
   "metadata": {
    "papermill": {
     "duration": 0.04273,
     "end_time": "2025-01-27T17:00:10.687330",
     "exception": false,
     "start_time": "2025-01-27T17:00:10.644600",
     "status": "completed"
    },
    "tags": []
   },
   "source": [
    "## **6.2.3.  Random Forest Regressor**"
   ]
  },
  {
   "cell_type": "code",
   "execution_count": 119,
   "id": "60119675",
   "metadata": {
    "execution": {
     "iopub.execute_input": "2025-01-27T17:00:10.774918Z",
     "iopub.status.busy": "2025-01-27T17:00:10.774572Z",
     "iopub.status.idle": "2025-01-27T17:00:12.010946Z",
     "shell.execute_reply": "2025-01-27T17:00:12.009954Z"
    },
    "papermill": {
     "duration": 1.28215,
     "end_time": "2025-01-27T17:00:12.012919",
     "exception": false,
     "start_time": "2025-01-27T17:00:10.730769",
     "status": "completed"
    },
    "tags": []
   },
   "outputs": [],
   "source": [
    "# Training with random forest regressor\n",
    "random = RandomForestRegressor()\n",
    "\n",
    "pipeline = Pipeline(steps=[('preprocessor', preprocessor), ('regressor', random)])\n",
    "\n",
    "# Fit the pipeline to the training data\n",
    "pipeline.fit(X_train,y_train)\n",
    "\n",
    "# Predict on the training and test datasets\n",
    "y_pred_train_random = pipeline.predict(X_train)\n",
    "y_pred_test_random = pipeline.predict(X_test)"
   ]
  },
  {
   "cell_type": "code",
   "execution_count": 120,
   "id": "651a3716",
   "metadata": {
    "execution": {
     "iopub.execute_input": "2025-01-27T17:00:12.100412Z",
     "iopub.status.busy": "2025-01-27T17:00:12.100023Z",
     "iopub.status.idle": "2025-01-27T17:00:12.115103Z",
     "shell.execute_reply": "2025-01-27T17:00:12.113842Z"
    },
    "papermill": {
     "duration": 0.061056,
     "end_time": "2025-01-27T17:00:12.117042",
     "exception": false,
     "start_time": "2025-01-27T17:00:12.055986",
     "status": "completed"
    },
    "tags": []
   },
   "outputs": [
    {
     "name": "stdout",
     "output_type": "stream",
     "text": [
      "The R2 score on the training dataset prediction is:  0.9998888146303572\n",
      "The R2 score on the test dataset prediction is:  0.9990500839772718\n",
      "\n",
      "The RMSE  on the training dataset is:  0.5758988112158119\n",
      "The RMSE  on the testing dataset is:  1.6098977775884125\n",
      "\n",
      "The MAE  on the training dataset is:  0.10570531614173005\n",
      "The MAE  on the testing dataset is:  0.30238588076481826\n",
      "\n",
      "The MSE  on the training dataset is:  0.3316594407597854\n",
      "The MSE  on the testing dataset is:  2.5917708542841096\n"
     ]
    }
   ],
   "source": [
    "# Model Accuracy on training dataset\n",
    "print('The R2 score on the training dataset prediction is: ', r2_score(y_train,y_pred_train_random))\n",
    "print('The R2 score on the test dataset prediction is: ', r2_score(y_test, y_pred_test_random))\n",
    "print(\"\")\n",
    "\n",
    "# The Root Mean Squared Error (RMSE)\n",
    "print('The RMSE  on the training dataset is: ',sqrt(mean_squared_error(y_train,y_pred_train_random)))\n",
    "print('The RMSE  on the testing dataset is: ',sqrt(mean_squared_error(y_test, y_pred_test_random)))\n",
    "\n",
    "print(\"\")\n",
    "# The Mean Absolute Error (MAE)\n",
    "print('The MAE  on the training dataset is: ',mean_absolute_error(y_train,y_pred_train_random))\n",
    "print('The MAE  on the testing dataset is: ',mean_absolute_error(y_test, y_pred_test_random))\n",
    "\n",
    "print(\"\")\n",
    "# The Mean Squared Error (MSE)\n",
    "print('The MSE  on the training dataset is: ',mean_squared_error(y_train, y_pred_train_random))\n",
    "print('The MSE  on the testing dataset is: ',mean_squared_error(y_test, y_pred_test_random))"
   ]
  },
  {
   "cell_type": "markdown",
   "id": "79f43783",
   "metadata": {
    "papermill": {
     "duration": 0.042243,
     "end_time": "2025-01-27T17:00:12.202036",
     "exception": false,
     "start_time": "2025-01-27T17:00:12.159793",
     "status": "completed"
    },
    "tags": []
   },
   "source": [
    "## **6.2.4.  Decision Tree regressor**"
   ]
  },
  {
   "cell_type": "code",
   "execution_count": 121,
   "id": "80f334c4",
   "metadata": {
    "execution": {
     "iopub.execute_input": "2025-01-27T17:00:12.289680Z",
     "iopub.status.busy": "2025-01-27T17:00:12.289304Z",
     "iopub.status.idle": "2025-01-27T17:00:12.324193Z",
     "shell.execute_reply": "2025-01-27T17:00:12.323004Z"
    },
    "papermill": {
     "duration": 0.080608,
     "end_time": "2025-01-27T17:00:12.326120",
     "exception": false,
     "start_time": "2025-01-27T17:00:12.245512",
     "status": "completed"
    },
    "tags": []
   },
   "outputs": [],
   "source": [
    "# Training with Decision Tree regressor\n",
    "dt = DecisionTreeRegressor()\n",
    "\n",
    "pipeline = Pipeline(steps=[('preprocessor', preprocessor), ('regressor', dt)])\n",
    "\n",
    "# Fit the pipeline to the training data\n",
    "pipeline.fit(X_train,y_train)\n",
    "\n",
    "# Predict on the training and test datasets\n",
    "y_pred_train_dt = pipeline.predict(X_train)\n",
    "y_pred_test_dt = pipeline.predict(X_test)"
   ]
  },
  {
   "cell_type": "code",
   "execution_count": 122,
   "id": "9e97eacd",
   "metadata": {
    "execution": {
     "iopub.execute_input": "2025-01-27T17:00:12.414364Z",
     "iopub.status.busy": "2025-01-27T17:00:12.413948Z",
     "iopub.status.idle": "2025-01-27T17:00:12.428654Z",
     "shell.execute_reply": "2025-01-27T17:00:12.427351Z"
    },
    "papermill": {
     "duration": 0.059626,
     "end_time": "2025-01-27T17:00:12.430397",
     "exception": false,
     "start_time": "2025-01-27T17:00:12.370771",
     "status": "completed"
    },
    "tags": []
   },
   "outputs": [
    {
     "name": "stdout",
     "output_type": "stream",
     "text": [
      "The R2 score on the training dataset prediction is:  1.0\n",
      "The R2 score on the test dataset prediction is:  0.9983408392640943\n",
      "\n",
      "The RMSE  on the training dataset is:  1.5891322657901308e-15\n",
      "The RMSE  on the testing dataset is:  2.1276487130124897\n",
      "\n",
      "The MAE  on the training dataset is:  8.885254999735525e-17\n",
      "The MAE  on the testing dataset is:  0.35371180700473015\n",
      "\n",
      "The MSE  on the training dataset is:  2.525341358175275e-30\n",
      "The MSE  on the testing dataset is:  4.526889045983705\n"
     ]
    }
   ],
   "source": [
    "# Model Accuracy on training dataset\n",
    "print('The R2 score on the training dataset prediction is: ', r2_score(y_train,y_pred_train_dt))\n",
    "print('The R2 score on the test dataset prediction is: ', r2_score(y_test, y_pred_test_dt))\n",
    "print(\"\")\n",
    "\n",
    "# The Root Mean Squared Error (RMSE)\n",
    "print('The RMSE  on the training dataset is: ',sqrt(mean_squared_error(y_train,y_pred_train_dt)))\n",
    "print('The RMSE  on the testing dataset is: ',sqrt(mean_squared_error(y_test, y_pred_test_dt)))\n",
    "\n",
    "print(\"\")\n",
    "# The Mean Absolute Error (MAE)\n",
    "print('The MAE  on the training dataset is: ',mean_absolute_error(y_train,y_pred_train_dt))\n",
    "print('The MAE  on the testing dataset is: ',mean_absolute_error(y_test, y_pred_test_dt))\n",
    "\n",
    "print(\"\")\n",
    "# The Mean Squared Error (MSE)\n",
    "print('The MSE  on the training dataset is: ',mean_squared_error(y_train, y_pred_train_dt))\n",
    "print('The MSE  on the testing dataset is: ',mean_squared_error(y_test, y_pred_test_dt))"
   ]
  },
  {
   "cell_type": "markdown",
   "id": "4be63798",
   "metadata": {
    "papermill": {
     "duration": 0.04192,
     "end_time": "2025-01-27T17:00:12.514914",
     "exception": false,
     "start_time": "2025-01-27T17:00:12.472994",
     "status": "completed"
    },
    "tags": []
   },
   "source": [
    "## **6.2.5.  Support Vector Machine regressor**"
   ]
  },
  {
   "cell_type": "code",
   "execution_count": 123,
   "id": "b9b030ce",
   "metadata": {
    "execution": {
     "iopub.execute_input": "2025-01-27T17:00:12.602783Z",
     "iopub.status.busy": "2025-01-27T17:00:12.602426Z",
     "iopub.status.idle": "2025-01-27T17:00:12.948308Z",
     "shell.execute_reply": "2025-01-27T17:00:12.947340Z"
    },
    "papermill": {
     "duration": 0.392888,
     "end_time": "2025-01-27T17:00:12.950204",
     "exception": false,
     "start_time": "2025-01-27T17:00:12.557316",
     "status": "completed"
    },
    "tags": []
   },
   "outputs": [],
   "source": [
    "# Training with Support Vector Machine regressor\n",
    "svr = SVR(kernel='linear')\n",
    "\n",
    "pipeline = Pipeline(steps=[('preprocessor', preprocessor), ('regressor', svr)])\n",
    "\n",
    "# Fit the pipeline to the training data\n",
    "pipeline.fit(X_train, y_train)\n",
    "\n",
    "# Predict on the training and test datasets\n",
    "y_pred_train_svr = pipeline.predict(X_train)\n",
    "y_pred_test_svr = pipeline.predict(X_test)"
   ]
  },
  {
   "cell_type": "code",
   "execution_count": 124,
   "id": "0cc18cb2",
   "metadata": {
    "execution": {
     "iopub.execute_input": "2025-01-27T17:00:13.038665Z",
     "iopub.status.busy": "2025-01-27T17:00:13.038297Z",
     "iopub.status.idle": "2025-01-27T17:00:13.055664Z",
     "shell.execute_reply": "2025-01-27T17:00:13.054451Z"
    },
    "papermill": {
     "duration": 0.064222,
     "end_time": "2025-01-27T17:00:13.057493",
     "exception": false,
     "start_time": "2025-01-27T17:00:12.993271",
     "status": "completed"
    },
    "tags": []
   },
   "outputs": [
    {
     "name": "stdout",
     "output_type": "stream",
     "text": [
      "The R2 score on the training dataset prediction is:  0.9948054049567016\n",
      "The R2 score on the test dataset prediction is:  0.9959206837695272\n",
      "\n",
      "The RMSE on the training dataset is:  3.9363908017937184\n",
      "The RMSE on the testing dataset is:  3.3361792811734903\n",
      "\n",
      "The MAE on the training dataset is:  0.4688471754320487\n",
      "The MAE on the testing dataset is:  0.44530295551363086\n",
      "\n",
      "The MSE  on the training dataset is:  15.495172544446191\n",
      "The MSE  on the testing dataset is:  11.130092196131267\n"
     ]
    }
   ],
   "source": [
    "# Model Accuracy on training dataset\n",
    "print('The R2 score on the training dataset prediction is: ', r2_score(y_train, y_pred_train_svr))\n",
    "print('The R2 score on the test dataset prediction is: ', r2_score(y_test, y_pred_test_svr))\n",
    "print(\"\")\n",
    "\n",
    "# The Root Mean Squared Error (RMSE)\n",
    "print('The RMSE on the training dataset is: ', sqrt(mean_squared_error(y_train, y_pred_train_svr)))\n",
    "print('The RMSE on the testing dataset is: ', sqrt(mean_squared_error(y_test, y_pred_test_svr)))\n",
    "\n",
    "print(\"\")\n",
    "# The Mean Absolute Error (MAE)\n",
    "print('The MAE on the training dataset is: ', mean_absolute_error(y_train, y_pred_train_svr))\n",
    "print('The MAE on the testing dataset is: ', mean_absolute_error(y_test, y_pred_test_svr))\n",
    "\n",
    "print(\"\")\n",
    "# The Mean Squared Error (MSE)\n",
    "print('The MSE  on the training dataset is: ',mean_squared_error(y_train, y_pred_train_svr))\n",
    "print('The MSE  on the testing dataset is: ',mean_squared_error(y_test, y_pred_test_svr))"
   ]
  },
  {
   "cell_type": "markdown",
   "id": "e9a78158",
   "metadata": {
    "papermill": {
     "duration": 0.041912,
     "end_time": "2025-01-27T17:00:13.142837",
     "exception": false,
     "start_time": "2025-01-27T17:00:13.100925",
     "status": "completed"
    },
    "tags": []
   },
   "source": [
    "## **6.2.6.  XGBoost Regressor**"
   ]
  },
  {
   "cell_type": "code",
   "execution_count": 125,
   "id": "13b0bfb2",
   "metadata": {
    "execution": {
     "iopub.execute_input": "2025-01-27T17:00:13.230274Z",
     "iopub.status.busy": "2025-01-27T17:00:13.229860Z",
     "iopub.status.idle": "2025-01-27T17:00:13.393398Z",
     "shell.execute_reply": "2025-01-27T17:00:13.392521Z"
    },
    "papermill": {
     "duration": 0.209287,
     "end_time": "2025-01-27T17:00:13.395461",
     "exception": false,
     "start_time": "2025-01-27T17:00:13.186174",
     "status": "completed"
    },
    "tags": []
   },
   "outputs": [],
   "source": [
    "# Training with XGBoost regressor\n",
    "xgb_regressor = XGBRegressor(objective='reg:squarederror')\n",
    "\n",
    "pipeline = Pipeline(steps=[('preprocessor', preprocessor), ('regressor', xgb_regressor)])\n",
    "\n",
    "# Fit the pipeline to the training data\n",
    "pipeline.fit(X_train, y_train)\n",
    "\n",
    "# Predict on the training and test datasets\n",
    "y_pred_train_xgb = pipeline.predict(X_train)\n",
    "y_pred_test_xgb = pipeline.predict(X_test)"
   ]
  },
  {
   "cell_type": "code",
   "execution_count": 126,
   "id": "ca0ab320",
   "metadata": {
    "execution": {
     "iopub.execute_input": "2025-01-27T17:00:13.485156Z",
     "iopub.status.busy": "2025-01-27T17:00:13.484771Z",
     "iopub.status.idle": "2025-01-27T17:00:13.501104Z",
     "shell.execute_reply": "2025-01-27T17:00:13.500008Z"
    },
    "papermill": {
     "duration": 0.061608,
     "end_time": "2025-01-27T17:00:13.502597",
     "exception": false,
     "start_time": "2025-01-27T17:00:13.440989",
     "status": "completed"
    },
    "tags": []
   },
   "outputs": [
    {
     "name": "stdout",
     "output_type": "stream",
     "text": [
      "The R2 score on the training dataset prediction is:  0.9999948866321279\n",
      "The R2 score on the test dataset prediction is:  0.9993201126072465\n",
      "\n",
      "The RMSE on the training dataset is:  0.12350253703384058\n",
      "The RMSE on the testing dataset is:  1.3619908447692324\n",
      "\n",
      "The MAE on the training dataset is:  0.08059062257039981\n",
      "The MAE on the testing dataset is:  0.5011409600575767\n",
      "\n",
      "The MSE  on the training dataset is:  0.015252876653795162\n",
      "The MSE  on the testing dataset is:  1.855019061235207\n"
     ]
    }
   ],
   "source": [
    "# Model Accuracy on training dataset\n",
    "print('The R2 score on the training dataset prediction is: ', r2_score(y_train, y_pred_train_xgb))\n",
    "print('The R2 score on the test dataset prediction is: ', r2_score(y_test, y_pred_test_xgb))\n",
    "print(\"\")\n",
    "\n",
    "# The Root Mean Squared Error (RMSE)\n",
    "print('The RMSE on the training dataset is: ', sqrt(mean_squared_error(y_train, y_pred_train_xgb)))\n",
    "print('The RMSE on the testing dataset is: ', sqrt(mean_squared_error(y_test, y_pred_test_xgb)))\n",
    "print(\"\")\n",
    "\n",
    "# The Mean Absolute Error (MAE)\n",
    "print('The MAE on the training dataset is: ', mean_absolute_error(y_train, y_pred_train_xgb))\n",
    "print('The MAE on the testing dataset is: ', mean_absolute_error(y_test, y_pred_test_xgb))\n",
    "\n",
    "print(\"\")\n",
    "# The Mean Squared Error (MSE)\n",
    "print('The MSE  on the training dataset is: ',mean_squared_error(y_train, y_pred_train_xgb))\n",
    "print('The MSE  on the testing dataset is: ',mean_squared_error(y_test, y_pred_test_xgb))"
   ]
  },
  {
   "cell_type": "markdown",
   "id": "5f4ca31c",
   "metadata": {
    "papermill": {
     "duration": 0.042297,
     "end_time": "2025-01-27T17:00:13.587498",
     "exception": false,
     "start_time": "2025-01-27T17:00:13.545201",
     "status": "completed"
    },
    "tags": []
   },
   "source": [
    "## **6.2.7.  Neural Network Regressor**"
   ]
  },
  {
   "cell_type": "code",
   "execution_count": 127,
   "id": "cbfc7469",
   "metadata": {
    "execution": {
     "iopub.execute_input": "2025-01-27T17:00:13.680840Z",
     "iopub.status.busy": "2025-01-27T17:00:13.680507Z",
     "iopub.status.idle": "2025-01-27T17:00:21.474666Z",
     "shell.execute_reply": "2025-01-27T17:00:21.473573Z"
    },
    "papermill": {
     "duration": 7.845312,
     "end_time": "2025-01-27T17:00:21.476705",
     "exception": false,
     "start_time": "2025-01-27T17:00:13.631393",
     "status": "completed"
    },
    "tags": []
   },
   "outputs": [
    {
     "name": "stderr",
     "output_type": "stream",
     "text": [
      "/usr/local/lib/python3.10/dist-packages/sklearn/neural_network/_multilayer_perceptron.py:686: ConvergenceWarning: Stochastic Optimizer: Maximum iterations (2000) reached and the optimization hasn't converged yet.\n",
      "  warnings.warn(\n"
     ]
    }
   ],
   "source": [
    "# training with neural network regressor\n",
    "\n",
    "nn = MLPRegressor(hidden_layer_sizes=(8,), activation='relu', solver='adam', max_iter=2000, learning_rate_init=0.001)\n",
    "\n",
    "pipeline = Pipeline(steps=[('preprocessor', preprocessor), ('regressor', nn)])\n",
    "\n",
    "# Fit the pipeline to the training data\n",
    "pipeline.fit(X_train,y_train)\n",
    "\n",
    "# Predict on the training and test datasets\n",
    "y_pred_train_nn = pipeline.predict(X_train)\n",
    "y_pred_test_nn = pipeline.predict(X_test)"
   ]
  },
  {
   "cell_type": "code",
   "execution_count": 128,
   "id": "48e465d7",
   "metadata": {
    "execution": {
     "iopub.execute_input": "2025-01-27T17:00:21.566297Z",
     "iopub.status.busy": "2025-01-27T17:00:21.565934Z",
     "iopub.status.idle": "2025-01-27T17:00:21.580352Z",
     "shell.execute_reply": "2025-01-27T17:00:21.579397Z"
    },
    "papermill": {
     "duration": 0.05976,
     "end_time": "2025-01-27T17:00:21.581938",
     "exception": false,
     "start_time": "2025-01-27T17:00:21.522178",
     "status": "completed"
    },
    "tags": []
   },
   "outputs": [
    {
     "name": "stdout",
     "output_type": "stream",
     "text": [
      "The R2 score on the training dataset prediction is:  0.9997171056598767\n",
      "The R2 score on the test dataset prediction is:  0.9995257713168422\n",
      "\n",
      "The RMSE on the training dataset is:  0.9186170232262793\n",
      "The RMSE on the testing dataset is:  1.1374952803090779\n",
      "\n",
      "The MAE on the training dataset is:  0.32266476173672554\n",
      "The MAE on the testing dataset is:  0.3775959146333941\n",
      "\n",
      "The MSE  on the training dataset is:  0.8438572353611106\n",
      "The MSE  on the testing dataset is:  1.2938955127254277\n"
     ]
    }
   ],
   "source": [
    "# Model Accuracy on training dataset\n",
    "print('The R2 score on the training dataset prediction is: ', r2_score(y_train, y_pred_train_nn))\n",
    "print('The R2 score on the test dataset prediction is: ', r2_score(y_test, y_pred_test_nn))\n",
    "print(\"\")\n",
    "\n",
    "# The Root Mean Squared Error (RMSE)\n",
    "print('The RMSE on the training dataset is: ', sqrt(mean_squared_error(y_train, y_pred_train_nn)))\n",
    "print('The RMSE on the testing dataset is: ', sqrt(mean_squared_error(y_test, y_pred_test_nn)))\n",
    "print(\"\")\n",
    "\n",
    "# The Mean Absolute Error (MAE)\n",
    "print('The MAE on the training dataset is: ', mean_absolute_error(y_train, y_pred_train_nn))\n",
    "print('The MAE on the testing dataset is: ', mean_absolute_error(y_test, y_pred_test_nn))\n",
    "\n",
    "print(\"\")\n",
    "# The Mean Squared Error (MSE)\n",
    "print('The MSE  on the training dataset is: ',mean_squared_error(y_train, y_pred_train_nn))\n",
    "print('The MSE  on the testing dataset is: ',mean_squared_error(y_test, y_pred_test_nn))"
   ]
  },
  {
   "cell_type": "code",
   "execution_count": null,
   "id": "73919f49",
   "metadata": {
    "papermill": {
     "duration": 0.041977,
     "end_time": "2025-01-27T17:00:21.666495",
     "exception": false,
     "start_time": "2025-01-27T17:00:21.624518",
     "status": "completed"
    },
    "tags": []
   },
   "outputs": [],
   "source": []
  }
 ],
 "metadata": {
  "kaggle": {
   "accelerator": "none",
   "dataSources": [
    {
     "datasetId": 6557354,
     "sourceId": 10594490,
     "sourceType": "datasetVersion"
    },
    {
     "sourceId": 219513339,
     "sourceType": "kernelVersion"
    }
   ],
   "dockerImageVersionId": 30839,
   "isGpuEnabled": false,
   "isInternetEnabled": false,
   "language": "python",
   "sourceType": "notebook"
  },
  "kernelspec": {
   "display_name": "Python 3",
   "language": "python",
   "name": "python3"
  },
  "language_info": {
   "codemirror_mode": {
    "name": "ipython",
    "version": 3
   },
   "file_extension": ".py",
   "mimetype": "text/x-python",
   "name": "python",
   "nbconvert_exporter": "python",
   "pygments_lexer": "ipython3",
   "version": "3.10.12"
  },
  "papermill": {
   "default_parameters": {},
   "duration": 82.091934,
   "end_time": "2025-01-27T17:00:22.528684",
   "environment_variables": {},
   "exception": null,
   "input_path": "__notebook__.ipynb",
   "output_path": "__notebook__.ipynb",
   "parameters": {},
   "start_time": "2025-01-27T16:59:00.436750",
   "version": "2.6.0"
  }
 },
 "nbformat": 4,
 "nbformat_minor": 5
}
